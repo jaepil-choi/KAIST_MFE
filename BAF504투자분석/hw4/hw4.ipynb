{
 "cells": [
  {
   "cell_type": "markdown",
   "metadata": {},
   "source": [
    "# 투자분석 hw4\n",
    "\n",
    "20249433 최재필\n"
   ]
  },
  {
   "cell_type": "code",
   "execution_count": 1,
   "metadata": {},
   "outputs": [],
   "source": [
    "import pandas as pd\n",
    "import numpy as np\n",
    "\n",
    "import matplotlib.pyplot as plt\n",
    "import seaborn as sns\n",
    "\n",
    "import scipy.stats as stats\n",
    "import statsmodels.api as sm\n",
    "\n",
    "import yfinance as yf"
   ]
  },
  {
   "cell_type": "markdown",
   "metadata": {},
   "source": [
    "## (a)\n",
    "\n",
    "- MSFT\n",
    "- GOOG\n",
    "- KO\n",
    "\n",
    "Source: Yahoo Finance"
   ]
  },
  {
   "cell_type": "code",
   "execution_count": 2,
   "metadata": {},
   "outputs": [],
   "source": [
    "MSFT = yf.Ticker(\"MSFT\")\n",
    "GOOG = yf.Ticker(\"GOOG\")\n",
    "KO = yf.Ticker(\"KO\")\n",
    "\n",
    "SPY = yf.Ticker(\"SPY\")\n",
    "Tbill3M = yf.Ticker(\"^IRX\")"
   ]
  },
  {
   "cell_type": "code",
   "execution_count": 3,
   "metadata": {},
   "outputs": [],
   "source": [
    "MSFT_df = MSFT.history(period='5y', interval='1mo')\n",
    "MSFT_ret = MSFT_df['Close'].pct_change().dropna()\n",
    "MSFT_ret = MSFT_ret.rename('MSFT')\n",
    "\n",
    "GOOG_df = GOOG.history(period='5y', interval='1mo')\n",
    "GOOG_ret = GOOG_df['Close'].pct_change().dropna()\n",
    "GOOG_ret = GOOG_ret.rename('GOOG')\n",
    "\n",
    "KO_df = KO.history(period='5y', interval='1mo')\n",
    "KO_ret = KO_df['Close'].pct_change().dropna()\n",
    "KO_ret = KO_ret.rename('KO')\n",
    "\n",
    "SPY_df = SPY.history(period='5y', interval='1mo')\n",
    "SPY_ret = SPY_df['Close'].pct_change().dropna()\n",
    "SPY_ret = SPY_ret.rename('SPY')\n",
    "\n",
    "Tbill3M_df = Tbill3M.history(period='5y', interval='1mo')\n",
    "Tbill3M_ret = Tbill3M_df['Close']\n",
    "Tbill3M_ret = Tbill3M_ret.rename('Tbill3M')\n",
    "Tbill3M_ret = Tbill3M_ret / 100 / 12 # convert to monthly rate"
   ]
  },
  {
   "cell_type": "code",
   "execution_count": 4,
   "metadata": {},
   "outputs": [
    {
     "name": "stderr",
     "output_type": "stream",
     "text": [
      "C:\\Users\\chlje\\AppData\\Local\\Temp\\ipykernel_42304\\452896683.py:1: UserWarning: Converting to PeriodArray/Index representation will drop timezone information.\n",
      "  MSFT_ret.index = MSFT_ret.index.to_period('M')\n",
      "C:\\Users\\chlje\\AppData\\Local\\Temp\\ipykernel_42304\\452896683.py:2: UserWarning: Converting to PeriodArray/Index representation will drop timezone information.\n",
      "  GOOG_ret.index = GOOG_ret.index.to_period('M')\n",
      "C:\\Users\\chlje\\AppData\\Local\\Temp\\ipykernel_42304\\452896683.py:3: UserWarning: Converting to PeriodArray/Index representation will drop timezone information.\n",
      "  KO_ret.index = KO_ret.index.to_period('M')\n",
      "C:\\Users\\chlje\\AppData\\Local\\Temp\\ipykernel_42304\\452896683.py:4: UserWarning: Converting to PeriodArray/Index representation will drop timezone information.\n",
      "  SPY_ret.index = SPY_ret.index.to_period('M')\n",
      "C:\\Users\\chlje\\AppData\\Local\\Temp\\ipykernel_42304\\452896683.py:5: UserWarning: Converting to PeriodArray/Index representation will drop timezone information.\n",
      "  Tbill3M_ret.index = Tbill3M_ret.index.to_period('M')\n"
     ]
    }
   ],
   "source": [
    "MSFT_ret.index = MSFT_ret.index.to_period('M')\n",
    "GOOG_ret.index = GOOG_ret.index.to_period('M')\n",
    "KO_ret.index = KO_ret.index.to_period('M')\n",
    "SPY_ret.index = SPY_ret.index.to_period('M')\n",
    "Tbill3M_ret.index = Tbill3M_ret.index.to_period('M')\n",
    "\n",
    "Tbill3M_ret = Tbill3M_ret.reindex(MSFT_ret.index, method='ffill')"
   ]
  },
  {
   "cell_type": "code",
   "execution_count": 5,
   "metadata": {},
   "outputs": [],
   "source": [
    "df = pd.concat([MSFT_ret, GOOG_ret, KO_ret, SPY_ret, Tbill3M_ret], axis=1)\n",
    "df = df.dropna()"
   ]
  },
  {
   "cell_type": "code",
   "execution_count": 22,
   "metadata": {},
   "outputs": [
    {
     "data": {
      "text/html": [
       "<div>\n",
       "<style scoped>\n",
       "    .dataframe tbody tr th:only-of-type {\n",
       "        vertical-align: middle;\n",
       "    }\n",
       "\n",
       "    .dataframe tbody tr th {\n",
       "        vertical-align: top;\n",
       "    }\n",
       "\n",
       "    .dataframe thead th {\n",
       "        text-align: right;\n",
       "    }\n",
       "</style>\n",
       "<table border=\"1\" class=\"dataframe\">\n",
       "  <thead>\n",
       "    <tr style=\"text-align: right;\">\n",
       "      <th></th>\n",
       "      <th>MSFT_excs</th>\n",
       "      <th>GOOG_excs</th>\n",
       "      <th>KO_excs</th>\n",
       "      <th>SPY_excs</th>\n",
       "    </tr>\n",
       "    <tr>\n",
       "      <th>Date</th>\n",
       "      <th></th>\n",
       "      <th></th>\n",
       "      <th></th>\n",
       "      <th></th>\n",
       "    </tr>\n",
       "  </thead>\n",
       "  <tbody>\n",
       "    <tr>\n",
       "      <th>2024-02</th>\n",
       "      <td>0.036042</td>\n",
       "      <td>-0.018598</td>\n",
       "      <td>0.004557</td>\n",
       "      <td>0.047834</td>\n",
       "    </tr>\n",
       "    <tr>\n",
       "      <th>2024-03</th>\n",
       "      <td>0.014661</td>\n",
       "      <td>0.084947</td>\n",
       "      <td>0.014991</td>\n",
       "      <td>0.025167</td>\n",
       "    </tr>\n",
       "    <tr>\n",
       "      <th>2024-04</th>\n",
       "      <td>-0.078981</td>\n",
       "      <td>0.076937</td>\n",
       "      <td>0.013349</td>\n",
       "      <td>-0.041709</td>\n",
       "    </tr>\n",
       "    <tr>\n",
       "      <th>2024-05</th>\n",
       "      <td>0.061903</td>\n",
       "      <td>0.052243</td>\n",
       "      <td>0.014414</td>\n",
       "      <td>0.046215</td>\n",
       "    </tr>\n",
       "    <tr>\n",
       "      <th>2024-06</th>\n",
       "      <td>-0.006451</td>\n",
       "      <td>-0.001725</td>\n",
       "      <td>-0.004369</td>\n",
       "      <td>-0.003554</td>\n",
       "    </tr>\n",
       "  </tbody>\n",
       "</table>\n",
       "</div>"
      ],
      "text/plain": [
       "         MSFT_excs  GOOG_excs   KO_excs  SPY_excs\n",
       "Date                                             \n",
       "2024-02   0.036042  -0.018598  0.004557  0.047834\n",
       "2024-03   0.014661   0.084947  0.014991  0.025167\n",
       "2024-04  -0.078981   0.076937  0.013349 -0.041709\n",
       "2024-05   0.061903   0.052243  0.014414  0.046215\n",
       "2024-06  -0.006451  -0.001725 -0.004369 -0.003554"
      ]
     },
     "execution_count": 22,
     "metadata": {},
     "output_type": "execute_result"
    }
   ],
   "source": [
    "# Make it excess return\n",
    "excs_df = df.loc[:, ['MSFT', 'GOOG', 'KO', 'SPY']].subtract(df.loc[:, 'Tbill3M'], axis=0)\n",
    "excs_df.columns = [f'{ticker}_excs' for ticker in excs_df.columns]\n",
    "excs_df.tail()"
   ]
  },
  {
   "cell_type": "code",
   "execution_count": 23,
   "metadata": {},
   "outputs": [],
   "source": [
    "# Remove the last row, which is the latest month. (We don't know the return of the latest month yet)\n",
    "excs_df = excs_df.iloc[:-1, :].copy()"
   ]
  },
  {
   "cell_type": "markdown",
   "metadata": {},
   "source": [
    "## (b)"
   ]
  },
  {
   "cell_type": "code",
   "execution_count": 24,
   "metadata": {},
   "outputs": [],
   "source": [
    "stocks = ['MSFT', 'GOOG', 'KO']\n",
    "\n",
    "def get_SIM_regression(stock_returns, market_returns, print_summary=True):\n",
    "    X = sm.add_constant(market_returns)\n",
    "    model = sm.OLS(stock_returns, X)\n",
    "    results = model.fit()\n",
    "\n",
    "    if print_summary:\n",
    "        print(results.summary())\n",
    "\n",
    "    return results"
   ]
  },
  {
   "cell_type": "markdown",
   "metadata": {},
   "source": [
    "각 종목의 초과수익률을 시장 초과수익률에 대해 regress"
   ]
  },
  {
   "cell_type": "code",
   "execution_count": 25,
   "metadata": {},
   "outputs": [
    {
     "name": "stdout",
     "output_type": "stream",
     "text": [
      "SIM regression result of MSFT\n",
      "                            OLS Regression Results                            \n",
      "==============================================================================\n",
      "Dep. Variable:              MSFT_excs   R-squared:                       0.537\n",
      "Model:                            OLS   Adj. R-squared:                  0.529\n",
      "Method:                 Least Squares   F-statistic:                     64.96\n",
      "Date:                Tue, 04 Jun 2024   Prob (F-statistic):           6.16e-11\n",
      "Time:                        18:55:30   Log-Likelihood:                 100.44\n",
      "No. Observations:                  58   AIC:                            -196.9\n",
      "Df Residuals:                      56   BIC:                            -192.8\n",
      "Df Model:                           1                                         \n",
      "Covariance Type:            nonrobust                                         \n",
      "==============================================================================\n",
      "                 coef    std err          t      P>|t|      [0.025      0.975]\n",
      "------------------------------------------------------------------------------\n",
      "const          0.0109      0.006      1.873      0.066      -0.001       0.023\n",
      "SPY_excs       0.8639      0.107      8.060      0.000       0.649       1.079\n",
      "==============================================================================\n",
      "Omnibus:                        5.242   Durbin-Watson:                   1.959\n",
      "Prob(Omnibus):                  0.073   Jarque-Bera (JB):                4.599\n",
      "Skew:                           0.684   Prob(JB):                        0.100\n",
      "Kurtosis:                       3.177   Cond. No.                         18.7\n",
      "==============================================================================\n",
      "\n",
      "Notes:\n",
      "[1] Standard Errors assume that the covariance matrix of the errors is correctly specified.\n",
      "\n",
      "\n",
      "\n",
      "\n",
      "\n",
      "\n",
      "SIM regression result of GOOG\n",
      "                            OLS Regression Results                            \n",
      "==============================================================================\n",
      "Dep. Variable:              GOOG_excs   R-squared:                       0.531\n",
      "Model:                            OLS   Adj. R-squared:                  0.522\n",
      "Method:                 Least Squares   F-statistic:                     63.35\n",
      "Date:                Tue, 04 Jun 2024   Prob (F-statistic):           9.01e-11\n",
      "Time:                        18:55:30   Log-Likelihood:                 88.352\n",
      "No. Observations:                  58   AIC:                            -172.7\n",
      "Df Residuals:                      56   BIC:                            -168.6\n",
      "Df Model:                           1                                         \n",
      "Covariance Type:            nonrobust                                         \n",
      "==============================================================================\n",
      "                 coef    std err          t      P>|t|      [0.025      0.975]\n",
      "------------------------------------------------------------------------------\n",
      "const          0.0080      0.007      1.117      0.269      -0.006       0.022\n",
      "SPY_excs       1.0508      0.132      7.960      0.000       0.786       1.315\n",
      "==============================================================================\n",
      "Omnibus:                        2.071   Durbin-Watson:                   2.446\n",
      "Prob(Omnibus):                  0.355   Jarque-Bera (JB):                1.587\n",
      "Skew:                           0.404   Prob(JB):                        0.452\n",
      "Kurtosis:                       3.064   Cond. No.                         18.7\n",
      "==============================================================================\n",
      "\n",
      "Notes:\n",
      "[1] Standard Errors assume that the covariance matrix of the errors is correctly specified.\n",
      "\n",
      "\n",
      "\n",
      "\n",
      "\n",
      "\n",
      "SIM regression result of KO\n",
      "                            OLS Regression Results                            \n",
      "==============================================================================\n",
      "Dep. Variable:                KO_excs   R-squared:                       0.352\n",
      "Model:                            OLS   Adj. R-squared:                  0.340\n",
      "Method:                 Least Squares   F-statistic:                     30.38\n",
      "Date:                Tue, 04 Jun 2024   Prob (F-statistic):           9.32e-07\n",
      "Time:                        18:55:30   Log-Likelihood:                 99.147\n",
      "No. Observations:                  58   AIC:                            -194.3\n",
      "Df Residuals:                      56   BIC:                            -190.2\n",
      "Df Model:                           1                                         \n",
      "Covariance Type:            nonrobust                                         \n",
      "==============================================================================\n",
      "                 coef    std err          t      P>|t|      [0.025      0.975]\n",
      "------------------------------------------------------------------------------\n",
      "const         -0.0012      0.006     -0.203      0.840      -0.013       0.011\n",
      "SPY_excs       0.6041      0.110      5.512      0.000       0.385       0.824\n",
      "==============================================================================\n",
      "Omnibus:                        0.842   Durbin-Watson:                   2.245\n",
      "Prob(Omnibus):                  0.656   Jarque-Bera (JB):                0.269\n",
      "Skew:                          -0.021   Prob(JB):                        0.874\n",
      "Kurtosis:                       3.331   Cond. No.                         18.7\n",
      "==============================================================================\n",
      "\n",
      "Notes:\n",
      "[1] Standard Errors assume that the covariance matrix of the errors is correctly specified.\n",
      "\n",
      "\n",
      "\n",
      "\n",
      "\n",
      "\n"
     ]
    }
   ],
   "source": [
    "results = {}\n",
    "\n",
    "for stock in stocks:\n",
    "    print(f'SIM regression result of {stock}')\n",
    "    results[stock] = get_SIM_regression(excs_df[f'{stock}_excs'], excs_df['SPY_excs'], print_summary=True)\n",
    "    print('\\n'*5)"
   ]
  },
  {
   "cell_type": "code",
   "execution_count": 26,
   "metadata": {},
   "outputs": [],
   "source": [
    "def get_result_values(single_stock_result):\n",
    "    alpha, beta = single_stock_result.params\n",
    "    t_value_alpha, t_value_beta = single_stock_result.tvalues\n",
    "    p_value_alpha, p_value_beta = single_stock_result.pvalues\n",
    "    r_squared = single_stock_result.rsquared\n",
    "\n",
    "    # residual std는 따로 계산해야 함\n",
    "    residuals = single_stock_result.resid\n",
    "    resid_df = single_stock_result.df_resid\n",
    "    residual_std = np.sqrt( (residuals**2).sum() / resid_df )\n",
    "\n",
    "    result_values = {\n",
    "        'alpha': alpha,\n",
    "        'beta': beta,\n",
    "        't_value_alpha': t_value_alpha,\n",
    "        't_value_beta': t_value_beta,\n",
    "        'p_value_alpha': p_value_alpha,\n",
    "        'p_value_beta': p_value_beta,\n",
    "        'r_squared': r_squared,\n",
    "        'residual_std': residual_std\n",
    "    }\n",
    "\n",
    "    return result_values\n"
   ]
  },
  {
   "cell_type": "code",
   "execution_count": 27,
   "metadata": {},
   "outputs": [],
   "source": [
    "msft_result_values = get_result_values(results['MSFT'])\n",
    "goog_result_values = get_result_values(results['GOOG'])\n",
    "ko_result_values = get_result_values(results['KO'])\n"
   ]
  },
  {
   "cell_type": "code",
   "execution_count": 28,
   "metadata": {},
   "outputs": [
    {
     "data": {
      "text/plain": [
       "{'alpha': 0.010940677369391921,\n",
       " 'beta': 0.8638921287828809,\n",
       " 't_value_alpha': 1.8733286138912204,\n",
       " 't_value_beta': 8.059926786532705,\n",
       " 'p_value_alpha': 0.06624532763767547,\n",
       " 'p_value_beta': 6.161895022792435e-11,\n",
       " 'r_squared': 0.5370462984237987,\n",
       " 'residual_std': 0.04358125179913146}"
      ]
     },
     "execution_count": 28,
     "metadata": {},
     "output_type": "execute_result"
    }
   ],
   "source": [
    "msft_result_values"
   ]
  },
  {
   "cell_type": "code",
   "execution_count": 29,
   "metadata": {},
   "outputs": [
    {
     "data": {
      "text/plain": [
       "{'alpha': 0.008033251494843175,\n",
       " 'beta': 1.0508442305513082,\n",
       " 't_value_alpha': 1.1167094077584312,\n",
       " 't_value_beta': 7.959558516414306,\n",
       " 'p_value_alpha': 0.26888714276223585,\n",
       " 'p_value_beta': 9.011914125328024e-11,\n",
       " 'r_squared': 0.5308097614811627,\n",
       " 'residual_std': 0.05368100581675823}"
      ]
     },
     "execution_count": 29,
     "metadata": {},
     "output_type": "execute_result"
    }
   ],
   "source": [
    "goog_result_values"
   ]
  },
  {
   "cell_type": "code",
   "execution_count": 30,
   "metadata": {},
   "outputs": [
    {
     "data": {
      "text/plain": [
       "{'alpha': -0.0012100513694583688,\n",
       " 'beta': 0.6041118153748877,\n",
       " 't_value_alpha': -0.20262197747590036,\n",
       " 't_value_beta': 5.511907189400373,\n",
       " 'p_value_alpha': 0.8401648841052132,\n",
       " 'p_value_beta': 9.321265058869664e-07,\n",
       " 'r_squared': 0.35171019501122125,\n",
       " 'residual_std': 0.044564261496566324}"
      ]
     },
     "execution_count": 30,
     "metadata": {},
     "output_type": "execute_result"
    }
   ],
   "source": [
    "ko_result_values"
   ]
  },
  {
   "cell_type": "markdown",
   "metadata": {},
   "source": [
    "## (c)"
   ]
  },
  {
   "cell_type": "markdown",
   "metadata": {},
   "source": [
    "다음 방법을 파트 (C)에 사용할 예정입니다.\n",
    "\n",
    "여기서의 문제는 시장 위험 프리미엄 $E[R_m]$, 그 표준 편차, 각 주식의 기대 수익률의 알파 $ \\alpha_i $ 등의 예측된 값에 접근할 수 없다는 것입니다.\n",
    "\n",
    "타임머신이 있다고 가정해보겠습니다. 우리가 2년 전으로 돌아갈 수 있다고 하면, 데이터가 2019년 8월부터 2024년 5월까지 (총 5년) 존재하므로 2022년 6월로 돌아가게 됩니다.\n",
    "\n",
    "이 \"미래\" 2년치 데이터를 통해 시장 위험 프리미엄의 정확한 미래 값, 그 표준 편차, 각 주식의 기대 수익률의 알파를 추정할 수 있습니다.\n",
    "\n",
    "이 데이터를 사용하여 최적의 위험 포트폴리오를 구성할 것입니다. 이 포트폴리오는 지수와 세 개의 주식으로 구성되며, 샤프 비율을 최대화하도록 설계될 것입니다."
   ]
  },
  {
   "cell_type": "markdown",
   "metadata": {},
   "source": [
    "### 데이터로 값 추정"
   ]
  },
  {
   "cell_type": "code",
   "execution_count": 33,
   "metadata": {},
   "outputs": [],
   "source": [
    "lookahead_months = 24\n",
    "\n",
    "excs_past_df = excs_df.iloc[:-lookahead_months, :].copy()\n",
    "excs_lookahead_df = excs_df.iloc[-lookahead_months:, :].copy()"
   ]
  },
  {
   "cell_type": "code",
   "execution_count": 35,
   "metadata": {},
   "outputs": [
    {
     "data": {
      "text/html": [
       "<div>\n",
       "<style scoped>\n",
       "    .dataframe tbody tr th:only-of-type {\n",
       "        vertical-align: middle;\n",
       "    }\n",
       "\n",
       "    .dataframe tbody tr th {\n",
       "        vertical-align: top;\n",
       "    }\n",
       "\n",
       "    .dataframe thead th {\n",
       "        text-align: right;\n",
       "    }\n",
       "</style>\n",
       "<table border=\"1\" class=\"dataframe\">\n",
       "  <thead>\n",
       "    <tr style=\"text-align: right;\">\n",
       "      <th></th>\n",
       "      <th>MSFT_excs</th>\n",
       "      <th>GOOG_excs</th>\n",
       "      <th>KO_excs</th>\n",
       "      <th>SPY_excs</th>\n",
       "    </tr>\n",
       "    <tr>\n",
       "      <th>Date</th>\n",
       "      <th></th>\n",
       "      <th></th>\n",
       "      <th></th>\n",
       "      <th></th>\n",
       "    </tr>\n",
       "  </thead>\n",
       "  <tbody>\n",
       "    <tr>\n",
       "      <th>2022-01</th>\n",
       "      <td>-0.075489</td>\n",
       "      <td>-0.062219</td>\n",
       "      <td>0.030256</td>\n",
       "      <td>-0.049558</td>\n",
       "    </tr>\n",
       "    <tr>\n",
       "      <th>2022-02</th>\n",
       "      <td>-0.039439</td>\n",
       "      <td>-0.006191</td>\n",
       "      <td>0.019921</td>\n",
       "      <td>-0.029757</td>\n",
       "    </tr>\n",
       "    <tr>\n",
       "      <th>2022-03</th>\n",
       "      <td>0.033585</td>\n",
       "      <td>0.034866</td>\n",
       "      <td>-0.004267</td>\n",
       "      <td>0.033966</td>\n",
       "    </tr>\n",
       "    <tr>\n",
       "      <th>2022-04</th>\n",
       "      <td>-0.100541</td>\n",
       "      <td>-0.177423</td>\n",
       "      <td>0.049401</td>\n",
       "      <td>-0.085608</td>\n",
       "    </tr>\n",
       "    <tr>\n",
       "      <th>2022-05</th>\n",
       "      <td>-0.021217</td>\n",
       "      <td>-0.008926</td>\n",
       "      <td>-0.019896</td>\n",
       "      <td>0.001399</td>\n",
       "    </tr>\n",
       "  </tbody>\n",
       "</table>\n",
       "</div>"
      ],
      "text/plain": [
       "         MSFT_excs  GOOG_excs   KO_excs  SPY_excs\n",
       "Date                                             \n",
       "2022-01  -0.075489  -0.062219  0.030256 -0.049558\n",
       "2022-02  -0.039439  -0.006191  0.019921 -0.029757\n",
       "2022-03   0.033585   0.034866 -0.004267  0.033966\n",
       "2022-04  -0.100541  -0.177423  0.049401 -0.085608\n",
       "2022-05  -0.021217  -0.008926 -0.019896  0.001399"
      ]
     },
     "execution_count": 35,
     "metadata": {},
     "output_type": "execute_result"
    }
   ],
   "source": [
    "excs_past_df.tail()"
   ]
  },
  {
   "cell_type": "code",
   "execution_count": 36,
   "metadata": {},
   "outputs": [
    {
     "data": {
      "text/html": [
       "<div>\n",
       "<style scoped>\n",
       "    .dataframe tbody tr th:only-of-type {\n",
       "        vertical-align: middle;\n",
       "    }\n",
       "\n",
       "    .dataframe tbody tr th {\n",
       "        vertical-align: top;\n",
       "    }\n",
       "\n",
       "    .dataframe thead th {\n",
       "        text-align: right;\n",
       "    }\n",
       "</style>\n",
       "<table border=\"1\" class=\"dataframe\">\n",
       "  <thead>\n",
       "    <tr style=\"text-align: right;\">\n",
       "      <th></th>\n",
       "      <th>MSFT_excs</th>\n",
       "      <th>GOOG_excs</th>\n",
       "      <th>KO_excs</th>\n",
       "      <th>SPY_excs</th>\n",
       "    </tr>\n",
       "    <tr>\n",
       "      <th>Date</th>\n",
       "      <th></th>\n",
       "      <th></th>\n",
       "      <th></th>\n",
       "      <th></th>\n",
       "    </tr>\n",
       "  </thead>\n",
       "  <tbody>\n",
       "    <tr>\n",
       "      <th>2022-06</th>\n",
       "      <td>-0.054454</td>\n",
       "      <td>-0.042254</td>\n",
       "      <td>-0.008749</td>\n",
       "      <td>-0.087740</td>\n",
       "    </tr>\n",
       "    <tr>\n",
       "      <th>2022-07</th>\n",
       "      <td>0.091182</td>\n",
       "      <td>0.064532</td>\n",
       "      <td>0.025483</td>\n",
       "      <td>0.094890</td>\n",
       "    </tr>\n",
       "    <tr>\n",
       "      <th>2022-08</th>\n",
       "      <td>-0.071023</td>\n",
       "      <td>-0.066598</td>\n",
       "      <td>-0.040719</td>\n",
       "      <td>-0.043185</td>\n",
       "    </tr>\n",
       "    <tr>\n",
       "      <th>2022-09</th>\n",
       "      <td>-0.110026</td>\n",
       "      <td>-0.121752</td>\n",
       "      <td>-0.094855</td>\n",
       "      <td>-0.098809</td>\n",
       "    </tr>\n",
       "    <tr>\n",
       "      <th>2022-10</th>\n",
       "      <td>-0.006619</td>\n",
       "      <td>-0.018809</td>\n",
       "      <td>0.072845</td>\n",
       "      <td>0.082405</td>\n",
       "    </tr>\n",
       "  </tbody>\n",
       "</table>\n",
       "</div>"
      ],
      "text/plain": [
       "         MSFT_excs  GOOG_excs   KO_excs  SPY_excs\n",
       "Date                                             \n",
       "2022-06  -0.054454  -0.042254 -0.008749 -0.087740\n",
       "2022-07   0.091182   0.064532  0.025483  0.094890\n",
       "2022-08  -0.071023  -0.066598 -0.040719 -0.043185\n",
       "2022-09  -0.110026  -0.121752 -0.094855 -0.098809\n",
       "2022-10  -0.006619  -0.018809  0.072845  0.082405"
      ]
     },
     "execution_count": 36,
     "metadata": {},
     "output_type": "execute_result"
    }
   ],
   "source": [
    "excs_lookahead_df.head()"
   ]
  },
  {
   "cell_type": "markdown",
   "metadata": {},
   "source": [
    "\"미래\" (look-ahead 기간 2년치) 의 값 구하기\n",
    "\n",
    "- market excess return \n",
    "- market excess return의 std\n",
    "- alpha"
   ]
  },
  {
   "cell_type": "code",
   "execution_count": 82,
   "metadata": {},
   "outputs": [
    {
     "data": {
      "text/plain": [
       "(0.009243721913734551, 0.05529495991983481)"
      ]
     },
     "execution_count": 82,
     "metadata": {},
     "output_type": "execute_result"
    }
   ],
   "source": [
    "mkt_lookahead_excs_mean = excs_lookahead_df['SPY_excs'].mean() # Market expected return (lookahead)\n",
    "mkt_lookahead_excs_std = excs_lookahead_df['SPY_excs'].std() # Market expected volatility (lookahead)\n",
    "\n",
    "mkt_lookahead_excs_mean, mkt_lookahead_excs_std"
   ]
  },
  {
   "cell_type": "code",
   "execution_count": 44,
   "metadata": {},
   "outputs": [],
   "source": [
    "lookahead_results = {}\n",
    "\n",
    "# 미래 2년치 데이터로 regression을 돌려서 alpha 구함\n",
    "for stock in stocks:\n",
    "    lookahead_results[stock] = get_SIM_regression(excs_lookahead_df[f'{stock}_excs'], excs_lookahead_df['SPY_excs'], print_summary=False)\n"
   ]
  },
  {
   "cell_type": "code",
   "execution_count": 43,
   "metadata": {},
   "outputs": [],
   "source": [
    "msft_lookahead_result_values = get_result_values(lookahead_results['MSFT'])\n",
    "goog_lookahead_result_values = get_result_values(lookahead_results['GOOG'])\n",
    "ko_lookahead_result_values = get_result_values(lookahead_results['KO'])"
   ]
  },
  {
   "cell_type": "code",
   "execution_count": 65,
   "metadata": {},
   "outputs": [
    {
     "data": {
      "text/plain": [
       "array([ 0.00889627,  0.00911345, -0.00503679])"
      ]
     },
     "execution_count": 65,
     "metadata": {},
     "output_type": "execute_result"
    }
   ],
   "source": [
    "msft_lookahead_alpha =  msft_lookahead_result_values['alpha']\n",
    "goog_lookahead_alpha =  goog_lookahead_result_values['alpha']\n",
    "ko_lookahead_alpha =  ko_lookahead_result_values['alpha']\n",
    "\n",
    "lookahead_alphas = np.array([msft_lookahead_alpha, goog_lookahead_alpha, ko_lookahead_alpha])\n",
    "\n",
    "lookahead_alphas"
   ]
  },
  {
   "cell_type": "markdown",
   "metadata": {},
   "source": [
    "\"과거\" (look-ahead 이전 기간 3년치) 의 값 구하기\n",
    "- regression beta\n",
    "- residual std of excess return"
   ]
  },
  {
   "cell_type": "code",
   "execution_count": 38,
   "metadata": {},
   "outputs": [],
   "source": [
    "past_results = {}\n",
    "\n",
    "# 과거 3년치 데이터로 regression을 돌려서 beta를 구함\n",
    "for stock in stocks:\n",
    "    past_results[stock] = get_SIM_regression(excs_past_df[f'{stock}_excs'], excs_past_df['SPY_excs'], print_summary=False)\n"
   ]
  },
  {
   "cell_type": "code",
   "execution_count": 39,
   "metadata": {},
   "outputs": [],
   "source": [
    "msft_past_result_values = get_result_values(past_results['MSFT'])\n",
    "goog_past_result_values = get_result_values(past_results['GOOG'])\n",
    "ko_past_result_values = get_result_values(past_results['KO'])"
   ]
  },
  {
   "cell_type": "code",
   "execution_count": 64,
   "metadata": {},
   "outputs": [
    {
     "data": {
      "text/plain": [
       "array([0.86137155, 1.19913836, 0.70110846])"
      ]
     },
     "execution_count": 64,
     "metadata": {},
     "output_type": "execute_result"
    }
   ],
   "source": [
    "msft_past_beta = msft_past_result_values['beta']\n",
    "goog_past_beta = goog_past_result_values['beta']\n",
    "ko_past_beta = ko_past_result_values['beta']\n",
    "\n",
    "past_betas = np.array([msft_past_beta, goog_past_beta, ko_past_beta])\n",
    "\n",
    "past_betas"
   ]
  },
  {
   "cell_type": "code",
   "execution_count": 66,
   "metadata": {},
   "outputs": [
    {
     "data": {
      "text/plain": [
       "array([0.04154502, 0.04431281, 0.05090371])"
      ]
     },
     "execution_count": 66,
     "metadata": {},
     "output_type": "execute_result"
    }
   ],
   "source": [
    "msft_past_resid_std = msft_past_result_values['residual_std']\n",
    "goog_past_resid_std = goog_past_result_values['residual_std']\n",
    "ko_past_resid_std = ko_past_result_values['residual_std']\n",
    "\n",
    "past_resid_stds = np.array([msft_past_resid_std, goog_past_resid_std, ko_past_resid_std])\n",
    "\n",
    "past_resid_stds"
   ]
  },
  {
   "cell_type": "code",
   "execution_count": 49,
   "metadata": {},
   "outputs": [
    {
     "data": {
      "text/plain": [
       "0.053624086470592025"
      ]
     },
     "execution_count": 49,
     "metadata": {},
     "output_type": "execute_result"
    }
   ],
   "source": [
    "sp500_past_std = excs_past_df['SPY_excs'].std()\n",
    "sp500_past_std"
   ]
  },
  {
   "cell_type": "markdown",
   "metadata": {},
   "source": [
    "### 교수님 엑셀처럼 값 정리하여 optimal risky portfolio 구하기"
   ]
  },
  {
   "cell_type": "markdown",
   "metadata": {},
   "source": [
    "#### $ \\sigma^2(\\epsilon_i) $ "
   ]
  },
  {
   "cell_type": "code",
   "execution_count": 55,
   "metadata": {},
   "outputs": [
    {
     "name": "stdout",
     "output_type": "stream",
     "text": [
      "\n",
      "    MSFT: 0.0017259887594300034\n",
      "    GOOG: 0.0019636247274166696\n",
      "    KO: 0.0025911875138306083\n",
      "    \n"
     ]
    }
   ],
   "source": [
    "msft_past_resid_var = msft_past_resid_std ** 2\n",
    "goog_past_resid_var = goog_past_resid_std ** 2\n",
    "ko_past_resid_var = ko_past_resid_std ** 2\n",
    "\n",
    "print(f'''\n",
    "    MSFT: {msft_past_resid_var}\n",
    "    GOOG: {goog_past_resid_var}\n",
    "    KO: {ko_past_resid_var}\n",
    "    ''')"
   ]
  },
  {
   "cell_type": "code",
   "execution_count": 67,
   "metadata": {},
   "outputs": [],
   "source": [
    "past_resid_vars = np.array([msft_past_resid_var, goog_past_resid_var, ko_past_resid_var])"
   ]
  },
  {
   "cell_type": "markdown",
   "metadata": {},
   "source": [
    "#### $ \\alpha_i / \\sigma^2(\\epsilon_i) $"
   ]
  },
  {
   "cell_type": "code",
   "execution_count": 53,
   "metadata": {},
   "outputs": [
    {
     "name": "stdout",
     "output_type": "stream",
     "text": [
      "\n",
      "      MSFT: 5.1543040966779525\n",
      "      GOOG: 4.641135034403586\n",
      "      KO: -1.9438163347743989\n",
      "      \n"
     ]
    }
   ],
   "source": [
    "msft_alpha_div_resid_var = msft_lookahead_alpha / msft_past_resid_var\n",
    "goog_alpha_div_resid_var = goog_lookahead_alpha / goog_past_resid_var\n",
    "ko_alpha_div_resid_var = ko_lookahead_alpha / ko_past_resid_var\n",
    "\n",
    "print(f'''\n",
    "      MSFT: {msft_alpha_div_resid_var}\n",
    "      GOOG: {goog_alpha_div_resid_var}\n",
    "      KO: {ko_alpha_div_resid_var}\n",
    "      ''')\n"
   ]
  },
  {
   "cell_type": "code",
   "execution_count": 68,
   "metadata": {},
   "outputs": [],
   "source": [
    "alpha_div_resid_vars = np.array([msft_alpha_div_resid_var, goog_alpha_div_resid_var, ko_alpha_div_resid_var])\n",
    "\n",
    "sum_alpha_div_resid_var = msft_alpha_div_resid_var + goog_alpha_div_resid_var + ko_alpha_div_resid_var"
   ]
  },
  {
   "cell_type": "markdown",
   "metadata": {},
   "source": [
    "#### $ w_i $"
   ]
  },
  {
   "cell_type": "code",
   "execution_count": 57,
   "metadata": {},
   "outputs": [
    {
     "name": "stdout",
     "output_type": "stream",
     "text": [
      "\n",
      "      MSFT: 0.6564635401362099\n",
      "      GOOG: 0.5911051963151432\n",
      "      KO: -0.24756873645135316\n",
      "      \n"
     ]
    }
   ],
   "source": [
    "msft_weight = msft_alpha_div_resid_var / sum_alpha_div_resid_var\n",
    "goog_weight = goog_alpha_div_resid_var / sum_alpha_div_resid_var\n",
    "ko_weight = ko_alpha_div_resid_var / sum_alpha_div_resid_var\n",
    "\n",
    "print(f'''\n",
    "      MSFT: {msft_weight}\n",
    "      GOOG: {goog_weight}\n",
    "      KO: {ko_weight}\n",
    "      ''')"
   ]
  },
  {
   "cell_type": "code",
   "execution_count": 78,
   "metadata": {},
   "outputs": [
    {
     "data": {
      "text/plain": [
       "1.0"
      ]
     },
     "execution_count": 78,
     "metadata": {},
     "output_type": "execute_result"
    }
   ],
   "source": [
    "weights = np.array([msft_weight, goog_weight, ko_weight])\n",
    "round(sum(weights), 10)"
   ]
  },
  {
   "cell_type": "markdown",
   "metadata": {},
   "source": [
    "#### $ \\alpha_A $"
   ]
  },
  {
   "cell_type": "code",
   "execution_count": 70,
   "metadata": {},
   "outputs": [
    {
     "data": {
      "text/plain": [
       "0.012474036078268379"
      ]
     },
     "execution_count": 70,
     "metadata": {},
     "output_type": "execute_result"
    }
   ],
   "source": [
    "weighted_alpha = np.dot(weights, lookahead_alphas)\n",
    "weighted_alpha"
   ]
  },
  {
   "cell_type": "markdown",
   "metadata": {},
   "source": [
    "#### $ \\beta_A $"
   ]
  },
  {
   "cell_type": "code",
   "execution_count": 71,
   "metadata": {},
   "outputs": [
    {
     "data": {
      "text/plain": [
       "1.1007033947147453"
      ]
     },
     "execution_count": 71,
     "metadata": {},
     "output_type": "execute_result"
    }
   ],
   "source": [
    "weighted_beta = np.dot(weights, past_betas)\n",
    "weighted_beta"
   ]
  },
  {
   "cell_type": "markdown",
   "metadata": {},
   "source": [
    "#### $ \\sigma^2(\\epsilon_A) $ - residual variance\n",
    "\n",
    "여기선 약식으로 active portfolio의 variance를 그냥 가중합으로 구하고 있는 중임. \n",
    "\n",
    "correlation between residuals를 0으로 하기로 가정했기 때문에 이렇게 구할 수 있음. \n",
    "\n",
    "그렇기 때문에 SIM에서의 portfolio variance와 실제 active portfolio의 variance는 차이가 남. "
   ]
  },
  {
   "cell_type": "code",
   "execution_count": 74,
   "metadata": {},
   "outputs": [
    {
     "data": {
      "text/plain": [
       "0.0015887207526239424"
      ]
     },
     "execution_count": 74,
     "metadata": {},
     "output_type": "execute_result"
    }
   ],
   "source": [
    "active_residual_var = np.dot(weights**2, past_resid_vars)\n",
    "active_residual_var"
   ]
  },
  {
   "cell_type": "markdown",
   "metadata": {},
   "source": [
    "#### $ \\sigma_A^2 $ - active portfolio variance\n"
   ]
  },
  {
   "cell_type": "markdown",
   "metadata": {},
   "source": [
    "엑셀에 나온거... 수식이 맞나? 노테이션이 다른건가? ppt랑 다른거 같은데... 일단 나온 그대로 구현을 하고 나중에 확인"
   ]
  },
  {
   "cell_type": "code",
   "execution_count": 81,
   "metadata": {},
   "outputs": [
    {
     "data": {
      "text/plain": [
       "0.005072578592908153"
      ]
     },
     "execution_count": 81,
     "metadata": {},
     "output_type": "execute_result"
    }
   ],
   "source": [
    "active_port_var = weighted_beta**2 * sp500_past_std**2 + active_residual_var\n",
    "active_port_var"
   ]
  },
  {
   "cell_type": "markdown",
   "metadata": {},
   "source": [
    "#### $ w_A^0 $"
   ]
  },
  {
   "cell_type": "code",
   "execution_count": 84,
   "metadata": {},
   "outputs": [
    {
     "data": {
      "text/plain": [
       "2.597069971170294"
      ]
     },
     "execution_count": 84,
     "metadata": {},
     "output_type": "execute_result"
    }
   ],
   "source": [
    "w_A_0 = (weighted_alpha / active_residual_var) / (mkt_lookahead_excs_mean / mkt_lookahead_excs_std**2) # 여기서 lookahead std로 넣었다. 원래는 historical 쓰던데.\n",
    "w_A_0"
   ]
  },
  {
   "cell_type": "markdown",
   "metadata": {},
   "source": [
    "#### $ w_A^* $"
   ]
  },
  {
   "cell_type": "code",
   "execution_count": 85,
   "metadata": {},
   "outputs": [
    {
     "data": {
      "text/plain": [
       "3.5168432068619304"
      ]
     },
     "execution_count": 85,
     "metadata": {},
     "output_type": "execute_result"
    }
   ],
   "source": [
    "w_A_star = w_A_0 / (1 + w_A_0 * (1 - weighted_beta))\n",
    "w_A_star"
   ]
  },
  {
   "cell_type": "markdown",
   "metadata": {},
   "source": [
    "#### $ w_M^* $"
   ]
  },
  {
   "cell_type": "code",
   "execution_count": 86,
   "metadata": {},
   "outputs": [
    {
     "data": {
      "text/plain": [
       "-2.5168432068619304"
      ]
     },
     "execution_count": 86,
     "metadata": {},
     "output_type": "execute_result"
    }
   ],
   "source": [
    "w_M_star = 1 - w_A_star\n",
    "w_M_star"
   ]
  },
  {
   "cell_type": "markdown",
   "metadata": {},
   "source": [
    "## (d)"
   ]
  },
  {
   "cell_type": "code",
   "execution_count": null,
   "metadata": {},
   "outputs": [],
   "source": []
  },
  {
   "cell_type": "markdown",
   "metadata": {},
   "source": [
    "## (e)"
   ]
  },
  {
   "cell_type": "code",
   "execution_count": null,
   "metadata": {},
   "outputs": [],
   "source": []
  }
 ],
 "metadata": {
  "kernelspec": {
   "display_name": ".venv",
   "language": "python",
   "name": "python3"
  },
  "language_info": {
   "codemirror_mode": {
    "name": "ipython",
    "version": 3
   },
   "file_extension": ".py",
   "mimetype": "text/x-python",
   "name": "python",
   "nbconvert_exporter": "python",
   "pygments_lexer": "ipython3",
   "version": "3.10.11"
  }
 },
 "nbformat": 4,
 "nbformat_minor": 2
}
