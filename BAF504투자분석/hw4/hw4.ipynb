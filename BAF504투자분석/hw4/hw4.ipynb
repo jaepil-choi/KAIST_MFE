{
 "cells": [
  {
   "cell_type": "markdown",
   "metadata": {},
   "source": [
    "# 투자분석 hw4\n",
    "\n",
    "20249433 최재필\n"
   ]
  },
  {
   "cell_type": "code",
   "execution_count": 2,
   "metadata": {},
   "outputs": [],
   "source": [
    "import pandas as pd\n",
    "import numpy as np\n",
    "\n",
    "import matplotlib.pyplot as plt\n",
    "import seaborn as sns\n",
    "\n",
    "import scipy.stats as stats\n",
    "import statsmodels.api as sm\n",
    "\n",
    "import yfinance as yf"
   ]
  },
  {
   "cell_type": "markdown",
   "metadata": {},
   "source": [
    "## (a)\n",
    "\n",
    "- MSFT\n",
    "- GOOG\n",
    "- KO\n",
    "\n",
    "Source: Yahoo Finance"
   ]
  },
  {
   "cell_type": "code",
   "execution_count": 3,
   "metadata": {},
   "outputs": [],
   "source": [
    "END = '2024-05-31'\n",
    "\n",
    "# START = '2015-01-01'\n",
    "START = pd.to_datetime(END) - pd.DateOffset(years=5)\n",
    "START = START.strftime('%Y-%m-%d')\n"
   ]
  },
  {
   "cell_type": "code",
   "execution_count": 4,
   "metadata": {},
   "outputs": [],
   "source": [
    "MSFT = yf.Ticker(\"MSFT\") # originally MSFT\n",
    "GOOG = yf.Ticker(\"GOOG\") # originally GOOGL\n",
    "KO = yf.Ticker(\"KO\") # originally KO\n",
    "\n",
    "SPY = yf.Ticker(\"SPY\")\n",
    "Tbill3M = yf.Ticker(\"^IRX\")"
   ]
  },
  {
   "cell_type": "code",
   "execution_count": 5,
   "metadata": {},
   "outputs": [],
   "source": [
    "MSFT_df = MSFT.history(start=START, end=END, interval='1mo')\n",
    "MSFT_ret = MSFT_df['Close'].pct_change().dropna()\n",
    "MSFT_ret = MSFT_ret.rename('MSFT')\n",
    "\n",
    "GOOG_df = GOOG.history(start=START, end=END, interval='1mo')\n",
    "GOOG_ret = GOOG_df['Close'].pct_change().dropna()\n",
    "GOOG_ret = GOOG_ret.rename('GOOG')\n",
    "\n",
    "KO_df = KO.history(start=START, end=END, interval='1mo')\n",
    "KO_ret = KO_df['Close'].pct_change().dropna()\n",
    "KO_ret = KO_ret.rename('KO')\n",
    "\n",
    "SPY_df = SPY.history(start=START, end=END, interval='1mo')\n",
    "SPY_ret = SPY_df['Close'].pct_change().dropna()\n",
    "SPY_ret = SPY_ret.rename('SPY')\n",
    "\n",
    "Tbill3M_df = Tbill3M.history(start=START, end=END, interval='1mo')\n",
    "Tbill3M_ret = Tbill3M_df['Close']\n",
    "Tbill3M_ret = Tbill3M_ret.rename('Tbill3M')\n",
    "Tbill3M_ret = Tbill3M_ret / 100 / 12 # convert to monthly rate"
   ]
  },
  {
   "cell_type": "code",
   "execution_count": 6,
   "metadata": {},
   "outputs": [
    {
     "name": "stderr",
     "output_type": "stream",
     "text": [
      "C:\\Users\\chlje\\AppData\\Local\\Temp\\ipykernel_24496\\452896683.py:1: UserWarning: Converting to PeriodArray/Index representation will drop timezone information.\n",
      "  MSFT_ret.index = MSFT_ret.index.to_period('M')\n",
      "C:\\Users\\chlje\\AppData\\Local\\Temp\\ipykernel_24496\\452896683.py:2: UserWarning: Converting to PeriodArray/Index representation will drop timezone information.\n",
      "  GOOG_ret.index = GOOG_ret.index.to_period('M')\n",
      "C:\\Users\\chlje\\AppData\\Local\\Temp\\ipykernel_24496\\452896683.py:3: UserWarning: Converting to PeriodArray/Index representation will drop timezone information.\n",
      "  KO_ret.index = KO_ret.index.to_period('M')\n",
      "C:\\Users\\chlje\\AppData\\Local\\Temp\\ipykernel_24496\\452896683.py:4: UserWarning: Converting to PeriodArray/Index representation will drop timezone information.\n",
      "  SPY_ret.index = SPY_ret.index.to_period('M')\n",
      "C:\\Users\\chlje\\AppData\\Local\\Temp\\ipykernel_24496\\452896683.py:5: UserWarning: Converting to PeriodArray/Index representation will drop timezone information.\n",
      "  Tbill3M_ret.index = Tbill3M_ret.index.to_period('M')\n"
     ]
    }
   ],
   "source": [
    "MSFT_ret.index = MSFT_ret.index.to_period('M')\n",
    "GOOG_ret.index = GOOG_ret.index.to_period('M')\n",
    "KO_ret.index = KO_ret.index.to_period('M')\n",
    "SPY_ret.index = SPY_ret.index.to_period('M')\n",
    "Tbill3M_ret.index = Tbill3M_ret.index.to_period('M')\n",
    "\n",
    "Tbill3M_ret = Tbill3M_ret.reindex(MSFT_ret.index, method='ffill')"
   ]
  },
  {
   "cell_type": "code",
   "execution_count": 7,
   "metadata": {},
   "outputs": [],
   "source": [
    "df = pd.concat([MSFT_ret, GOOG_ret, KO_ret, SPY_ret, Tbill3M_ret], axis=1)\n",
    "df = df.dropna()"
   ]
  },
  {
   "cell_type": "code",
   "execution_count": 8,
   "metadata": {},
   "outputs": [
    {
     "data": {
      "text/html": [
       "<div>\n",
       "<style scoped>\n",
       "    .dataframe tbody tr th:only-of-type {\n",
       "        vertical-align: middle;\n",
       "    }\n",
       "\n",
       "    .dataframe tbody tr th {\n",
       "        vertical-align: top;\n",
       "    }\n",
       "\n",
       "    .dataframe thead th {\n",
       "        text-align: right;\n",
       "    }\n",
       "</style>\n",
       "<table border=\"1\" class=\"dataframe\">\n",
       "  <thead>\n",
       "    <tr style=\"text-align: right;\">\n",
       "      <th></th>\n",
       "      <th>MSFT_excs</th>\n",
       "      <th>GOOG_excs</th>\n",
       "      <th>KO_excs</th>\n",
       "      <th>SPY_excs</th>\n",
       "    </tr>\n",
       "    <tr>\n",
       "      <th>Date</th>\n",
       "      <th></th>\n",
       "      <th></th>\n",
       "      <th></th>\n",
       "      <th></th>\n",
       "    </tr>\n",
       "  </thead>\n",
       "  <tbody>\n",
       "    <tr>\n",
       "      <th>2024-01</th>\n",
       "      <td>0.052958</td>\n",
       "      <td>0.001850</td>\n",
       "      <td>0.005180</td>\n",
       "      <td>0.015722</td>\n",
       "    </tr>\n",
       "    <tr>\n",
       "      <th>2024-02</th>\n",
       "      <td>0.036042</td>\n",
       "      <td>-0.018598</td>\n",
       "      <td>0.004557</td>\n",
       "      <td>0.047834</td>\n",
       "    </tr>\n",
       "    <tr>\n",
       "      <th>2024-03</th>\n",
       "      <td>0.014661</td>\n",
       "      <td>0.084947</td>\n",
       "      <td>0.014991</td>\n",
       "      <td>0.025167</td>\n",
       "    </tr>\n",
       "    <tr>\n",
       "      <th>2024-04</th>\n",
       "      <td>-0.078981</td>\n",
       "      <td>0.076937</td>\n",
       "      <td>0.013349</td>\n",
       "      <td>-0.041709</td>\n",
       "    </tr>\n",
       "    <tr>\n",
       "      <th>2024-05</th>\n",
       "      <td>0.061903</td>\n",
       "      <td>0.052243</td>\n",
       "      <td>0.014414</td>\n",
       "      <td>0.046215</td>\n",
       "    </tr>\n",
       "  </tbody>\n",
       "</table>\n",
       "</div>"
      ],
      "text/plain": [
       "         MSFT_excs  GOOG_excs   KO_excs  SPY_excs\n",
       "Date                                             \n",
       "2024-01   0.052958   0.001850  0.005180  0.015722\n",
       "2024-02   0.036042  -0.018598  0.004557  0.047834\n",
       "2024-03   0.014661   0.084947  0.014991  0.025167\n",
       "2024-04  -0.078981   0.076937  0.013349 -0.041709\n",
       "2024-05   0.061903   0.052243  0.014414  0.046215"
      ]
     },
     "execution_count": 8,
     "metadata": {},
     "output_type": "execute_result"
    }
   ],
   "source": [
    "# Make it excess return\n",
    "excs_df = df.loc[:, ['MSFT', 'GOOG', 'KO', 'SPY']].subtract(df.loc[:, 'Tbill3M'], axis=0)\n",
    "excs_df.columns = [f'{ticker}_excs' for ticker in excs_df.columns]\n",
    "excs_df.tail()"
   ]
  },
  {
   "cell_type": "markdown",
   "metadata": {},
   "source": [
    "## (b)"
   ]
  },
  {
   "cell_type": "code",
   "execution_count": 9,
   "metadata": {},
   "outputs": [],
   "source": [
    "stocks = ['MSFT', 'GOOG', 'KO']\n",
    "\n",
    "def get_SIM_regression(stock_returns, market_returns, print_summary=True):\n",
    "    X = sm.add_constant(market_returns)\n",
    "    model = sm.OLS(stock_returns, X)\n",
    "    results = model.fit()\n",
    "\n",
    "    if print_summary:\n",
    "        print(results.summary())\n",
    "\n",
    "    return results"
   ]
  },
  {
   "cell_type": "markdown",
   "metadata": {},
   "source": [
    "각 종목의 초과수익률을 시장 초과수익률에 대해 regress"
   ]
  },
  {
   "cell_type": "code",
   "execution_count": 10,
   "metadata": {},
   "outputs": [
    {
     "name": "stdout",
     "output_type": "stream",
     "text": [
      "SIM regression result of MSFT\n",
      "                            OLS Regression Results                            \n",
      "==============================================================================\n",
      "Dep. Variable:              MSFT_excs   R-squared:                       0.537\n",
      "Model:                            OLS   Adj. R-squared:                  0.528\n",
      "Method:                 Least Squares   F-statistic:                     65.99\n",
      "Date:                Tue, 04 Jun 2024   Prob (F-statistic):           4.29e-11\n",
      "Time:                        22:57:38   Log-Likelihood:                 102.64\n",
      "No. Observations:                  59   AIC:                            -201.3\n",
      "Df Residuals:                      57   BIC:                            -197.1\n",
      "Df Model:                           1                                         \n",
      "Covariance Type:            nonrobust                                         \n",
      "==============================================================================\n",
      "                 coef    std err          t      P>|t|      [0.025      0.975]\n",
      "------------------------------------------------------------------------------\n",
      "const          0.0108      0.006      1.871      0.066      -0.001       0.022\n",
      "SPY_excs       0.8634      0.106      8.123      0.000       0.651       1.076\n",
      "==============================================================================\n",
      "Omnibus:                        5.665   Durbin-Watson:                   1.963\n",
      "Prob(Omnibus):                  0.059   Jarque-Bera (JB):                4.983\n",
      "Skew:                           0.702   Prob(JB):                       0.0828\n",
      "Kurtosis:                       3.236   Cond. No.                         18.9\n",
      "==============================================================================\n",
      "\n",
      "Notes:\n",
      "[1] Standard Errors assume that the covariance matrix of the errors is correctly specified.\n",
      "\n",
      "\n",
      "\n",
      "\n",
      "\n",
      "\n",
      "SIM regression result of GOOG\n",
      "                            OLS Regression Results                            \n",
      "==============================================================================\n",
      "Dep. Variable:              GOOG_excs   R-squared:                       0.519\n",
      "Model:                            OLS   Adj. R-squared:                  0.511\n",
      "Method:                 Least Squares   F-statistic:                     61.54\n",
      "Date:                Tue, 04 Jun 2024   Prob (F-statistic):           1.25e-10\n",
      "Time:                        22:57:38   Log-Likelihood:                 88.749\n",
      "No. Observations:                  59   AIC:                            -173.5\n",
      "Df Residuals:                      57   BIC:                            -169.3\n",
      "Df Model:                           1                                         \n",
      "Covariance Type:            nonrobust                                         \n",
      "==============================================================================\n",
      "                 coef    std err          t      P>|t|      [0.025      0.975]\n",
      "------------------------------------------------------------------------------\n",
      "const          0.0096      0.007      1.323      0.191      -0.005       0.024\n",
      "SPY_excs       1.0551      0.135      7.845      0.000       0.786       1.324\n",
      "==============================================================================\n",
      "Omnibus:                        1.719   Durbin-Watson:                   2.386\n",
      "Prob(Omnibus):                  0.423   Jarque-Bera (JB):                1.454\n",
      "Skew:                           0.382   Prob(JB):                        0.483\n",
      "Kurtosis:                       2.918   Cond. No.                         18.9\n",
      "==============================================================================\n",
      "\n",
      "Notes:\n",
      "[1] Standard Errors assume that the covariance matrix of the errors is correctly specified.\n",
      "\n",
      "\n",
      "\n",
      "\n",
      "\n",
      "\n",
      "SIM regression result of KO\n",
      "                            OLS Regression Results                            \n",
      "==============================================================================\n",
      "Dep. Variable:                KO_excs   R-squared:                       0.351\n",
      "Model:                            OLS   Adj. R-squared:                  0.340\n",
      "Method:                 Least Squares   F-statistic:                     30.82\n",
      "Date:                Tue, 04 Jun 2024   Prob (F-statistic):           7.69e-07\n",
      "Time:                        22:57:38   Log-Likelihood:                 101.13\n",
      "No. Observations:                  59   AIC:                            -198.3\n",
      "Df Residuals:                      57   BIC:                            -194.1\n",
      "Df Model:                           1                                         \n",
      "Covariance Type:            nonrobust                                         \n",
      "==============================================================================\n",
      "                 coef    std err          t      P>|t|      [0.025      0.975]\n",
      "------------------------------------------------------------------------------\n",
      "const         -0.0007      0.006     -0.121      0.904      -0.013       0.011\n",
      "SPY_excs       0.6054      0.109      5.552      0.000       0.387       0.824\n",
      "==============================================================================\n",
      "Omnibus:                        0.887   Durbin-Watson:                   2.234\n",
      "Prob(Omnibus):                  0.642   Jarque-Bera (JB):                0.305\n",
      "Skew:                          -0.048   Prob(JB):                        0.858\n",
      "Kurtosis:                       3.339   Cond. No.                         18.9\n",
      "==============================================================================\n",
      "\n",
      "Notes:\n",
      "[1] Standard Errors assume that the covariance matrix of the errors is correctly specified.\n",
      "\n",
      "\n",
      "\n",
      "\n",
      "\n",
      "\n"
     ]
    }
   ],
   "source": [
    "results = {}\n",
    "\n",
    "for stock in stocks:\n",
    "    print(f'SIM regression result of {stock}')\n",
    "    results[stock] = get_SIM_regression(excs_df[f'{stock}_excs'], excs_df['SPY_excs'], print_summary=True)\n",
    "    print('\\n'*5)"
   ]
  },
  {
   "cell_type": "code",
   "execution_count": 11,
   "metadata": {},
   "outputs": [],
   "source": [
    "def get_result_values(single_stock_result):\n",
    "    alpha, beta = single_stock_result.params\n",
    "    t_value_alpha, t_value_beta = single_stock_result.tvalues\n",
    "    p_value_alpha, p_value_beta = single_stock_result.pvalues\n",
    "    r_squared = single_stock_result.rsquared\n",
    "\n",
    "    # residual std는 따로 계산해야 함\n",
    "    residuals = single_stock_result.resid\n",
    "    resid_df = single_stock_result.df_resid\n",
    "    residual_std = np.sqrt( (residuals**2).sum() / resid_df )\n",
    "\n",
    "    result_values = {\n",
    "        'alpha': alpha,\n",
    "        'beta': beta,\n",
    "        't_value_alpha': t_value_alpha,\n",
    "        't_value_beta': t_value_beta,\n",
    "        'p_value_alpha': p_value_alpha,\n",
    "        'p_value_beta': p_value_beta,\n",
    "        'r_squared': r_squared,\n",
    "        'residual_std': residual_std\n",
    "    }\n",
    "\n",
    "    return result_values\n"
   ]
  },
  {
   "cell_type": "code",
   "execution_count": 12,
   "metadata": {},
   "outputs": [],
   "source": [
    "msft_result_values = get_result_values(results['MSFT'])\n",
    "goog_result_values = get_result_values(results['GOOG'])\n",
    "ko_result_values = get_result_values(results['KO'])\n"
   ]
  },
  {
   "cell_type": "code",
   "execution_count": 13,
   "metadata": {},
   "outputs": [
    {
     "data": {
      "text/plain": [
       "{'alpha': 0.010755448628072014,\n",
       " 'beta': 0.8633912391708195,\n",
       " 't_value_alpha': 1.871317249066474,\n",
       " 't_value_beta': 8.123467312499473,\n",
       " 'p_value_alpha': 0.06643645587651992,\n",
       " 'p_value_beta': 4.2876160144903805e-11,\n",
       " 'r_squared': 0.536550404336155,\n",
       " 'residual_std': 0.04322250207500729}"
      ]
     },
     "execution_count": 13,
     "metadata": {},
     "output_type": "execute_result"
    }
   ],
   "source": [
    "msft_result_values"
   ]
  },
  {
   "cell_type": "code",
   "execution_count": 14,
   "metadata": {},
   "outputs": [
    {
     "data": {
      "text/plain": [
       "{'alpha': 0.009622980420996845,\n",
       " 'beta': 1.0551371781629202,\n",
       " 't_value_alpha': 1.3230095128921158,\n",
       " 't_value_beta': 7.844715534690747,\n",
       " 'p_value_alpha': 0.19111527925628619,\n",
       " 'p_value_beta': 1.2450979109609472e-10,\n",
       " 'r_squared': 0.5191478766688171,\n",
       " 'residual_std': 0.05469850160706179}"
      ]
     },
     "execution_count": 14,
     "metadata": {},
     "output_type": "execute_result"
    }
   ],
   "source": [
    "goog_result_values"
   ]
  },
  {
   "cell_type": "code",
   "execution_count": 15,
   "metadata": {},
   "outputs": [
    {
     "data": {
      "text/plain": [
       "{'alpha': -0.0007150424335209885,\n",
       " 'beta': 0.6054492618900243,\n",
       " 't_value_alpha': -0.12125193605314409,\n",
       " 't_value_beta': 5.552000924049414,\n",
       " 'p_value_alpha': 0.9039179268111972,\n",
       " 'p_value_beta': 7.693120617167625e-07,\n",
       " 'r_squared': 0.35097995501772083,\n",
       " 'residual_std': 0.04434778443949294}"
      ]
     },
     "execution_count": 15,
     "metadata": {},
     "output_type": "execute_result"
    }
   ],
   "source": [
    "ko_result_values"
   ]
  },
  {
   "cell_type": "markdown",
   "metadata": {},
   "source": [
    "## (c)"
   ]
  },
  {
   "cell_type": "markdown",
   "metadata": {},
   "source": [
    "다음 방법을 파트 (C)에 사용할 예정입니다.\n",
    "\n",
    "여기서의 문제는 시장 위험 프리미엄 $E[R_m]$, 그 표준 편차, 각 주식의 기대 수익률의 알파 $ \\alpha_i $ 등의 예측된 값에 접근할 수 없다는 것입니다.\n",
    "\n",
    "타임머신이 있다고 가정해보겠습니다. 우리가 2년 전으로 돌아갈 수 있다고 하면, 데이터가 2019년 8월부터 2024년 5월까지 (총 5년) 존재하므로 2022년 6월로 돌아가게 됩니다.\n",
    "\n",
    "이 \"미래\" 2년치 데이터를 통해 시장 위험 프리미엄의 정확한 미래 값, 그 표준 편차, 각 주식의 기대 수익률의 알파를 추정할 수 있습니다.\n",
    "\n",
    "이 데이터를 사용하여 최적의 위험 포트폴리오를 구성할 것입니다. 이 포트폴리오는 지수와 세 개의 주식으로 구성되며, 샤프 비율을 최대화하도록 설계될 것입니다."
   ]
  },
  {
   "cell_type": "code",
   "execution_count": 16,
   "metadata": {},
   "outputs": [],
   "source": [
    "lookahead = 24"
   ]
  },
  {
   "cell_type": "code",
   "execution_count": 17,
   "metadata": {},
   "outputs": [],
   "source": [
    "# \"미래\" 2개년치와 \"과거\" 3개년치를 나눔\n",
    "\n",
    "lookahead_excs_df = excs_df.iloc[-lookahead:, :].copy()\n",
    "past_excs_df = excs_df.iloc[:-lookahead, :].copy()"
   ]
  },
  {
   "cell_type": "code",
   "execution_count": 18,
   "metadata": {},
   "outputs": [],
   "source": [
    "# \"미래\" 기준으로 market excess return의 평균과 표준편차를 구함\n",
    "\n",
    "mkt_excs_mean = lookahead_excs_df['SPY_excs'].mean() # Market expected return\n",
    "mkt_excs_std = lookahead_excs_df['SPY_excs'].std() # Market expected volatility"
   ]
  },
  {
   "cell_type": "code",
   "execution_count": 19,
   "metadata": {},
   "outputs": [],
   "source": [
    "ann_mkt_excs_mean = mkt_excs_mean * 12\n",
    "ann_mkt_excs_std = mkt_excs_std * np.sqrt(12)"
   ]
  },
  {
   "cell_type": "code",
   "execution_count": 20,
   "metadata": {},
   "outputs": [],
   "source": [
    "# \"과거\" 기준으로 beta를 구함\n",
    "\n",
    "past_results = {}\n",
    "\n",
    "for stock in stocks:\n",
    "    past_results[stock] = get_SIM_regression(past_excs_df[f'{stock}_excs'], past_excs_df['SPY_excs'], print_summary=False)\n"
   ]
  },
  {
   "cell_type": "code",
   "execution_count": 21,
   "metadata": {},
   "outputs": [
    {
     "data": {
      "text/plain": [
       "array([0.86055086, 1.20528624, 0.70278239])"
      ]
     },
     "execution_count": 21,
     "metadata": {},
     "output_type": "execute_result"
    }
   ],
   "source": [
    "# \"과거\" 기준 beta\n",
    "betas = np.array([past_results[stock].params.iloc[1] for stock in stocks])\n",
    "betas"
   ]
  },
  {
   "cell_type": "code",
   "execution_count": 22,
   "metadata": {},
   "outputs": [
    {
     "data": {
      "text/plain": [
       "array([0.06712134, 0.07923446, 0.04195109])"
      ]
     },
     "execution_count": 22,
     "metadata": {},
     "output_type": "execute_result"
    }
   ],
   "source": [
    "# \"미래\" 기준 excess return의 표준편차\n",
    "\n",
    "msft_excs_std = lookahead_excs_df['MSFT_excs'].std()\n",
    "goog_excs_std = lookahead_excs_df['GOOG_excs'].std()\n",
    "ko_excs_std = lookahead_excs_df['KO_excs'].std()\n",
    "\n",
    "excs_stds = np.array([msft_excs_std, goog_excs_std, ko_excs_std])\n",
    "excs_stds"
   ]
  },
  {
   "cell_type": "code",
   "execution_count": 68,
   "metadata": {},
   "outputs": [
    {
     "data": {
      "text/plain": [
       "array([0.23251516, 0.27447621, 0.14532283])"
      ]
     },
     "execution_count": 68,
     "metadata": {},
     "output_type": "execute_result"
    }
   ],
   "source": [
    "ann_excs_stds = excs_stds * np.sqrt(12)\n",
    "ann_excs_stds"
   ]
  },
  {
   "cell_type": "code",
   "execution_count": 24,
   "metadata": {},
   "outputs": [
    {
     "data": {
      "text/plain": [
       "array([0.16483623, 0.23086937, 0.1346161 ])"
      ]
     },
     "execution_count": 24,
     "metadata": {},
     "output_type": "execute_result"
    }
   ],
   "source": [
    "sys_stds = betas * ann_mkt_excs_std\n",
    "sys_stds"
   ]
  },
  {
   "cell_type": "code",
   "execution_count": 25,
   "metadata": {},
   "outputs": [
    {
     "data": {
      "text/plain": [
       "array([0.16398877, 0.14844703, 0.05474697])"
      ]
     },
     "execution_count": 25,
     "metadata": {},
     "output_type": "execute_result"
    }
   ],
   "source": [
    "resid_stds = np.sqrt(ann_excs_stds**2 - sys_stds**2)\n",
    "resid_stds"
   ]
  },
  {
   "cell_type": "code",
   "execution_count": 49,
   "metadata": {},
   "outputs": [],
   "source": [
    "# \"미래\" 기준으로 alpha를 구함\n",
    "\n",
    "lookahead_results = {}\n",
    "\n",
    "for stock in stocks:\n",
    "    lookahead_results[stock] = get_SIM_regression(lookahead_excs_df[f'{stock}_excs'], lookahead_excs_df['SPY_excs'], print_summary=False)"
   ]
  },
  {
   "cell_type": "code",
   "execution_count": 74,
   "metadata": {},
   "outputs": [
    {
     "name": "stdout",
     "output_type": "stream",
     "text": [
      "                            OLS Regression Results                            \n",
      "==============================================================================\n",
      "Dep. Variable:              GOOG_excs   R-squared:                       0.352\n",
      "Model:                            OLS   Adj. R-squared:                  0.322\n",
      "Method:                 Least Squares   F-statistic:                     11.94\n",
      "Date:                Wed, 05 Jun 2024   Prob (F-statistic):            0.00225\n",
      "Time:                        00:38:38   Log-Likelihood:                 32.508\n",
      "No. Observations:                  24   AIC:                            -61.02\n",
      "Df Residuals:                      22   BIC:                            -58.66\n",
      "Df Model:                           1                                         \n",
      "Covariance Type:            nonrobust                                         \n",
      "==============================================================================\n",
      "                 coef    std err          t      P>|t|      [0.025      0.975]\n",
      "------------------------------------------------------------------------------\n",
      "const          0.0091      0.014      0.675      0.507      -0.019       0.037\n",
      "SPY_excs       0.8500      0.246      3.456      0.002       0.340       1.360\n",
      "==============================================================================\n",
      "Omnibus:                        1.017   Durbin-Watson:                   2.430\n",
      "Prob(Omnibus):                  0.602   Jarque-Bera (JB):                0.974\n",
      "Skew:                           0.343   Prob(JB):                        0.615\n",
      "Kurtosis:                       2.290   Cond. No.                         18.5\n",
      "==============================================================================\n",
      "\n",
      "Notes:\n",
      "[1] Standard Errors assume that the covariance matrix of the errors is correctly specified.\n"
     ]
    }
   ],
   "source": [
    "print(lookahead_results['GOOG'].summary())"
   ]
  },
  {
   "cell_type": "code",
   "execution_count": 50,
   "metadata": {},
   "outputs": [
    {
     "data": {
      "text/plain": [
       "array([ 0.10675515,  0.10936128, -0.06044147])"
      ]
     },
     "execution_count": 50,
     "metadata": {},
     "output_type": "execute_result"
    }
   ],
   "source": [
    "alphas = np.array([lookahead_results[stock].params.iloc[0] for stock in stocks])\n",
    "alphas = alphas * 12 # annualize\n",
    "alphas"
   ]
  },
  {
   "cell_type": "code",
   "execution_count": 51,
   "metadata": {},
   "outputs": [
    {
     "data": {
      "text/plain": [
       "array([0.09545631, 0.13369597, 0.0779559 ])"
      ]
     },
     "execution_count": 51,
     "metadata": {},
     "output_type": "execute_result"
    }
   ],
   "source": [
    "ANN_MKT_RISKPREMIUM = ann_mkt_excs_mean # \"미래\" 기준으로 구했던 market excess return\n",
    "\n",
    "riskpremiums = ANN_MKT_RISKPREMIUM * betas\n",
    "riskpremiums"
   ]
  },
  {
   "cell_type": "markdown",
   "metadata": {},
   "source": [
    "### 교수님 엑셀처럼 값 정리하여 optimal risky portfolio 구하기"
   ]
  },
  {
   "cell_type": "markdown",
   "metadata": {},
   "source": [
    "#### $ \\sigma^2(\\epsilon_i) $ "
   ]
  },
  {
   "cell_type": "code",
   "execution_count": 52,
   "metadata": {},
   "outputs": [
    {
     "data": {
      "text/plain": [
       "array([0.02689232, 0.02203652, 0.00299723])"
      ]
     },
     "execution_count": 52,
     "metadata": {},
     "output_type": "execute_result"
    }
   ],
   "source": [
    "resid_vars = resid_stds**2\n",
    "resid_vars"
   ]
  },
  {
   "cell_type": "markdown",
   "metadata": {},
   "source": [
    "#### $ \\alpha_i / \\sigma^2(\\epsilon_i) $"
   ]
  },
  {
   "cell_type": "code",
   "execution_count": 53,
   "metadata": {},
   "outputs": [
    {
     "data": {
      "text/plain": [
       "array([  3.96972676,   4.96272884, -20.16577335])"
      ]
     },
     "execution_count": 53,
     "metadata": {},
     "output_type": "execute_result"
    }
   ],
   "source": [
    "alpha_div_resid_vars = alphas / resid_vars\n",
    "alpha_div_resid_vars"
   ]
  },
  {
   "cell_type": "markdown",
   "metadata": {},
   "source": [
    "#### $ w_i $"
   ]
  },
  {
   "cell_type": "code",
   "execution_count": 54,
   "metadata": {},
   "outputs": [
    {
     "data": {
      "text/plain": [
       "array([-0.35338863, -0.44178656,  1.79517519])"
      ]
     },
     "execution_count": 54,
     "metadata": {},
     "output_type": "execute_result"
    }
   ],
   "source": [
    "weights = alpha_div_resid_vars / alpha_div_resid_vars.sum()\n",
    "weights"
   ]
  },
  {
   "cell_type": "code",
   "execution_count": 55,
   "metadata": {},
   "outputs": [
    {
     "data": {
      "text/plain": [
       "1.0"
      ]
     },
     "execution_count": 55,
     "metadata": {},
     "output_type": "execute_result"
    }
   ],
   "source": [
    "np.round(weights.sum(), 10)"
   ]
  },
  {
   "cell_type": "markdown",
   "metadata": {},
   "source": [
    "#### $ \\alpha_A $"
   ]
  },
  {
   "cell_type": "code",
   "execution_count": 56,
   "metadata": {},
   "outputs": [
    {
     "data": {
      "text/plain": [
       "-0.19454342693892224"
      ]
     },
     "execution_count": 56,
     "metadata": {},
     "output_type": "execute_result"
    }
   ],
   "source": [
    "weighted_alpha = weights @ alphas\n",
    "weighted_alpha"
   ]
  },
  {
   "cell_type": "markdown",
   "metadata": {},
   "source": [
    "#### $ \\beta_A $"
   ]
  },
  {
   "cell_type": "code",
   "execution_count": 57,
   "metadata": {},
   "outputs": [
    {
     "data": {
      "text/plain": [
       "0.42502936113828826"
      ]
     },
     "execution_count": 57,
     "metadata": {},
     "output_type": "execute_result"
    }
   ],
   "source": [
    "weighted_beta = weights @ betas\n",
    "weighted_beta"
   ]
  },
  {
   "cell_type": "markdown",
   "metadata": {},
   "source": [
    "#### $ \\sigma^2(\\epsilon_A) $ - residual variance"
   ]
  },
  {
   "cell_type": "code",
   "execution_count": 58,
   "metadata": {},
   "outputs": [
    {
     "data": {
      "text/plain": [
       "0.017318429977219402"
      ]
     },
     "execution_count": 58,
     "metadata": {},
     "output_type": "execute_result"
    }
   ],
   "source": [
    "active_residual_var = weights**2 @ resid_vars\n",
    "active_residual_var"
   ]
  },
  {
   "cell_type": "markdown",
   "metadata": {},
   "source": [
    "#### $ \\sigma_A^2 $ - active portfolio variance\n"
   ]
  },
  {
   "cell_type": "code",
   "execution_count": 59,
   "metadata": {},
   "outputs": [
    {
     "data": {
      "text/plain": [
       "0.02394654619528486"
      ]
     },
     "execution_count": 59,
     "metadata": {},
     "output_type": "execute_result"
    }
   ],
   "source": [
    "active_port_var = weighted_beta**2 * ann_mkt_excs_std**2 + active_residual_var\n",
    "active_port_var"
   ]
  },
  {
   "cell_type": "markdown",
   "metadata": {},
   "source": [
    "#### $ w_A^0 $"
   ]
  },
  {
   "cell_type": "code",
   "execution_count": 60,
   "metadata": {},
   "outputs": [
    {
     "data": {
      "text/plain": [
       "-3.7156276795450753"
      ]
     },
     "execution_count": 60,
     "metadata": {},
     "output_type": "execute_result"
    }
   ],
   "source": [
    "w_A_0 = (weighted_alpha / active_residual_var) / (mkt_excs_mean / mkt_excs_std**2) # 여기서 lookahead std로 넣었다. 원래는 historical 쓰던데.\n",
    "w_A_0"
   ]
  },
  {
   "cell_type": "markdown",
   "metadata": {},
   "source": [
    "#### $ w_A^* $"
   ]
  },
  {
   "cell_type": "code",
   "execution_count": 61,
   "metadata": {},
   "outputs": [
    {
     "data": {
      "text/plain": [
       "3.2697144221233905"
      ]
     },
     "execution_count": 61,
     "metadata": {},
     "output_type": "execute_result"
    }
   ],
   "source": [
    "w_A_star = w_A_0 / (1 + w_A_0 * (1 - weighted_beta))\n",
    "w_A_star"
   ]
  },
  {
   "cell_type": "markdown",
   "metadata": {},
   "source": [
    "개별 주식 weight"
   ]
  },
  {
   "cell_type": "code",
   "execution_count": 62,
   "metadata": {},
   "outputs": [
    {
     "data": {
      "text/plain": [
       "array([-1.1554799 , -1.4445159 ,  5.86971021])"
      ]
     },
     "execution_count": 62,
     "metadata": {},
     "output_type": "execute_result"
    }
   ],
   "source": [
    "final_weights = w_A_star * weights\n",
    "final_weights"
   ]
  },
  {
   "cell_type": "markdown",
   "metadata": {},
   "source": [
    "#### $ w_M^* $"
   ]
  },
  {
   "cell_type": "code",
   "execution_count": 63,
   "metadata": {},
   "outputs": [
    {
     "data": {
      "text/plain": [
       "-2.2697144221233905"
      ]
     },
     "execution_count": 63,
     "metadata": {},
     "output_type": "execute_result"
    }
   ],
   "source": [
    "w_M_star = 1 - w_A_star\n",
    "w_M_star"
   ]
  },
  {
   "cell_type": "markdown",
   "metadata": {},
   "source": [
    "### 그래프 확인"
   ]
  },
  {
   "cell_type": "code",
   "execution_count": 64,
   "metadata": {},
   "outputs": [
    {
     "data": {
      "text/plain": [
       "array([-1.1554799 , -1.4445159 ,  5.86971021])"
      ]
     },
     "execution_count": 64,
     "metadata": {},
     "output_type": "execute_result"
    }
   ],
   "source": [
    "final_weights"
   ]
  },
  {
   "cell_type": "code",
   "execution_count": 65,
   "metadata": {},
   "outputs": [
    {
     "data": {
      "text/plain": [
       "<Axes: xlabel='Date'>"
      ]
     },
     "execution_count": 65,
     "metadata": {},
     "output_type": "execute_result"
    },
    {
     "data": {
      "image/png": "[encoded data removed]",
      "text/plain": [
       "<Figure size 640x480 with 1 Axes>"
      ]
     },
     "metadata": {},
     "output_type": "display_data"
    }
   ],
   "source": [
    "((1 + df).cumprod() - 1).plot()"
   ]
  },
  {
   "cell_type": "code",
   "execution_count": 66,
   "metadata": {},
   "outputs": [
    {
     "data": {
      "text/plain": [
       "-0.6361014487915022"
      ]
     },
     "execution_count": 66,
     "metadata": {},
     "output_type": "execute_result"
    }
   ],
   "source": [
    "final_alpha = final_weights @ alphas\n",
    "final_alpha"
   ]
  },
  {
   "cell_type": "code",
   "execution_count": 67,
   "metadata": {},
   "outputs": [
    {
     "name": "stderr",
     "output_type": "stream",
     "text": [
      "C:\\Users\\chlje\\AppData\\Local\\Temp\\ipykernel_24496\\4149804659.py:1: RuntimeWarning: invalid value encountered in sqrt\n",
      "  final_std = np.sqrt(final_weights @ resid_vars)\n"
     ]
    },
    {
     "data": {
      "text/plain": [
       "nan"
      ]
     },
     "execution_count": 67,
     "metadata": {},
     "output_type": "execute_result"
    }
   ],
   "source": [
    "final_std = np.sqrt(final_weights @ resid_vars)\n",
    "final_std"
   ]
  },
  {
   "cell_type": "markdown",
   "metadata": {},
   "source": [
    "## (d)"
   ]
  },
  {
   "cell_type": "markdown",
   "metadata": {},
   "source": [
    "Information ratio"
   ]
  },
  {
   "cell_type": "code",
   "execution_count": 44,
   "metadata": {},
   "outputs": [
    {
     "data": {
      "text/plain": [
       "1.2962319762988732"
      ]
     },
     "execution_count": 44,
     "metadata": {},
     "output_type": "execute_result"
    }
   ],
   "source": [
    "information_ratio = final_alpha / final_std\n",
    "information_ratio"
   ]
  },
  {
   "cell_type": "markdown",
   "metadata": {},
   "source": [
    "## (e)"
   ]
  },
  {
   "cell_type": "code",
   "execution_count": 45,
   "metadata": {},
   "outputs": [
    {
     "data": {
      "text/plain": [
       "0.35954917455204205"
      ]
     },
     "execution_count": 45,
     "metadata": {},
     "output_type": "execute_result"
    }
   ],
   "source": [
    "active_riskpremium = final_weights @ riskpremiums\n",
    "active_riskpremium"
   ]
  },
  {
   "cell_type": "code",
   "execution_count": 46,
   "metadata": {},
   "outputs": [
    {
     "data": {
      "text/plain": [
       "1.015459969984997"
      ]
     },
     "execution_count": 46,
     "metadata": {},
     "output_type": "execute_result"
    }
   ],
   "source": [
    "optimal_riskpremium = ANN_MKT_RISKPREMIUM * w_M_star + active_riskpremium * w_A_star\n",
    "optimal_riskpremium"
   ]
  },
  {
   "cell_type": "code",
   "execution_count": 47,
   "metadata": {},
   "outputs": [
    {
     "data": {
      "text/plain": [
       "0.5790978859165041"
      ]
     },
     "execution_count": 47,
     "metadata": {},
     "output_type": "execute_result"
    }
   ],
   "source": [
    "market_sharpe = ANN_MKT_RISKPREMIUM / ann_mkt_excs_std\n",
    "market_sharpe"
   ]
  },
  {
   "cell_type": "code",
   "execution_count": 48,
   "metadata": {},
   "outputs": [
    {
     "data": {
      "text/plain": [
       "1.4197083143563847"
      ]
     },
     "execution_count": 48,
     "metadata": {},
     "output_type": "execute_result"
    }
   ],
   "source": [
    "optimal_sharpe = np.sqrt(market_sharpe ** 2 + information_ratio ** 2)\n",
    "optimal_sharpe"
   ]
  },
  {
   "cell_type": "code",
   "execution_count": null,
   "metadata": {},
   "outputs": [],
   "source": []
  },
  {
   "cell_type": "code",
   "execution_count": null,
   "metadata": {},
   "outputs": [],
   "source": []
  }
 ],
 "metadata": {
  "kernelspec": {
   "display_name": ".venv",
   "language": "python",
   "name": "python3"
  },
  "language_info": {
   "codemirror_mode": {
    "name": "ipython",
    "version": 3
   },
   "file_extension": ".py",
   "mimetype": "text/x-python",
   "name": "python",
   "nbconvert_exporter": "python",
   "pygments_lexer": "ipython3",
   "version": "3.10.11"
  }
 },
 "nbformat": 4,
 "nbformat_minor": 2
}
