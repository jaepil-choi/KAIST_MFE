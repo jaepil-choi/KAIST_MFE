{
 "cells": [
  {
   "cell_type": "markdown",
   "metadata": {},
   "source": [
    "# 투자분석 hw4\n",
    "\n",
    "20249433 최재필\n"
   ]
  },
  {
   "cell_type": "code",
   "execution_count": null,
   "metadata": {},
   "outputs": [],
   "source": []
  },
  {
   "cell_type": "code",
   "execution_count": null,
   "metadata": {},
   "outputs": [],
   "source": []
  },
  {
   "cell_type": "markdown",
   "metadata": {},
   "source": [
    "alpha랑 market risk premium, 앞에서 구한 결과대로 값만 상수로 넣고 돌려보기. "
   ]
  },
  {
   "cell_type": "code",
   "execution_count": null,
   "metadata": {},
   "outputs": [],
   "source": []
  },
  {
   "cell_type": "code",
   "execution_count": 67,
   "metadata": {},
   "outputs": [],
   "source": [
    "import pandas as pd\n",
    "import numpy as np\n",
    "\n",
    "import matplotlib.pyplot as plt\n",
    "import seaborn as sns\n",
    "\n",
    "import scipy.stats as stats\n",
    "import statsmodels.api as sm\n",
    "\n",
    "import yfinance as yf"
   ]
  },
  {
   "cell_type": "markdown",
   "metadata": {},
   "source": [
    "## (a)\n",
    "\n",
    "- MSFT\n",
    "- GOOG\n",
    "- KO\n",
    "\n",
    "Source: Yahoo Finance"
   ]
  },
  {
   "cell_type": "code",
   "execution_count": 68,
   "metadata": {},
   "outputs": [],
   "source": [
    "START = '2015-01-01'\n",
    "END = '2019-12-31'"
   ]
  },
  {
   "cell_type": "code",
   "execution_count": 69,
   "metadata": {},
   "outputs": [],
   "source": [
    "MSFT = yf.Ticker(\"MSFT\") # originally MSFT\n",
    "GOOG = yf.Ticker(\"GOOG\") # originally GOOGL\n",
    "KO = yf.Ticker(\"KO\") # originally KO\n",
    "\n",
    "SPY = yf.Ticker(\"SPY\")\n",
    "Tbill3M = yf.Ticker(\"^IRX\")"
   ]
  },
  {
   "cell_type": "code",
   "execution_count": 70,
   "metadata": {},
   "outputs": [],
   "source": [
    "MSFT_df = MSFT.history(start=START, end=END, interval='1mo')\n",
    "MSFT_ret = MSFT_df['Close'].pct_change().dropna()\n",
    "MSFT_ret = MSFT_ret.rename('MSFT')\n",
    "\n",
    "GOOG_df = GOOG.history(start=START, end=END, interval='1mo')\n",
    "GOOG_ret = GOOG_df['Close'].pct_change().dropna()\n",
    "GOOG_ret = GOOG_ret.rename('GOOG')\n",
    "\n",
    "KO_df = KO.history(start=START, end=END, interval='1mo')\n",
    "KO_ret = KO_df['Close'].pct_change().dropna()\n",
    "KO_ret = KO_ret.rename('KO')\n",
    "\n",
    "SPY_df = SPY.history(start=START, end=END, interval='1mo')\n",
    "SPY_ret = SPY_df['Close'].pct_change().dropna()\n",
    "SPY_ret = SPY_ret.rename('SPY')\n",
    "\n",
    "Tbill3M_df = Tbill3M.history(start=START, end=END, interval='1mo')\n",
    "Tbill3M_ret = Tbill3M_df['Close']\n",
    "Tbill3M_ret = Tbill3M_ret.rename('Tbill3M')\n",
    "Tbill3M_ret = Tbill3M_ret / 100 / 12 # convert to monthly rate"
   ]
  },
  {
   "cell_type": "code",
   "execution_count": 71,
   "metadata": {},
   "outputs": [
    {
     "name": "stderr",
     "output_type": "stream",
     "text": [
      "C:\\Users\\chlje\\AppData\\Local\\Temp\\ipykernel_70668\\452896683.py:1: UserWarning: Converting to PeriodArray/Index representation will drop timezone information.\n",
      "  MSFT_ret.index = MSFT_ret.index.to_period('M')\n",
      "C:\\Users\\chlje\\AppData\\Local\\Temp\\ipykernel_70668\\452896683.py:2: UserWarning: Converting to PeriodArray/Index representation will drop timezone information.\n",
      "  GOOG_ret.index = GOOG_ret.index.to_period('M')\n",
      "C:\\Users\\chlje\\AppData\\Local\\Temp\\ipykernel_70668\\452896683.py:3: UserWarning: Converting to PeriodArray/Index representation will drop timezone information.\n",
      "  KO_ret.index = KO_ret.index.to_period('M')\n",
      "C:\\Users\\chlje\\AppData\\Local\\Temp\\ipykernel_70668\\452896683.py:4: UserWarning: Converting to PeriodArray/Index representation will drop timezone information.\n",
      "  SPY_ret.index = SPY_ret.index.to_period('M')\n",
      "C:\\Users\\chlje\\AppData\\Local\\Temp\\ipykernel_70668\\452896683.py:5: UserWarning: Converting to PeriodArray/Index representation will drop timezone information.\n",
      "  Tbill3M_ret.index = Tbill3M_ret.index.to_period('M')\n"
     ]
    }
   ],
   "source": [
    "MSFT_ret.index = MSFT_ret.index.to_period('M')\n",
    "GOOG_ret.index = GOOG_ret.index.to_period('M')\n",
    "KO_ret.index = KO_ret.index.to_period('M')\n",
    "SPY_ret.index = SPY_ret.index.to_period('M')\n",
    "Tbill3M_ret.index = Tbill3M_ret.index.to_period('M')\n",
    "\n",
    "Tbill3M_ret = Tbill3M_ret.reindex(MSFT_ret.index, method='ffill')"
   ]
  },
  {
   "cell_type": "code",
   "execution_count": 72,
   "metadata": {},
   "outputs": [],
   "source": [
    "df = pd.concat([MSFT_ret, GOOG_ret, KO_ret, SPY_ret, Tbill3M_ret], axis=1)\n",
    "df = df.dropna()"
   ]
  },
  {
   "cell_type": "code",
   "execution_count": 73,
   "metadata": {},
   "outputs": [
    {
     "data": {
      "text/html": [
       "<div>\n",
       "<style scoped>\n",
       "    .dataframe tbody tr th:only-of-type {\n",
       "        vertical-align: middle;\n",
       "    }\n",
       "\n",
       "    .dataframe tbody tr th {\n",
       "        vertical-align: top;\n",
       "    }\n",
       "\n",
       "    .dataframe thead th {\n",
       "        text-align: right;\n",
       "    }\n",
       "</style>\n",
       "<table border=\"1\" class=\"dataframe\">\n",
       "  <thead>\n",
       "    <tr style=\"text-align: right;\">\n",
       "      <th></th>\n",
       "      <th>MSFT_excs</th>\n",
       "      <th>GOOG_excs</th>\n",
       "      <th>KO_excs</th>\n",
       "      <th>SPY_excs</th>\n",
       "    </tr>\n",
       "    <tr>\n",
       "      <th>Date</th>\n",
       "      <th></th>\n",
       "      <th></th>\n",
       "      <th></th>\n",
       "      <th></th>\n",
       "    </tr>\n",
       "  </thead>\n",
       "  <tbody>\n",
       "    <tr>\n",
       "      <th>2019-08</th>\n",
       "      <td>0.010057</td>\n",
       "      <td>-0.025101</td>\n",
       "      <td>0.044180</td>\n",
       "      <td>-0.018354</td>\n",
       "    </tr>\n",
       "    <tr>\n",
       "      <th>2019-09</th>\n",
       "      <td>0.010370</td>\n",
       "      <td>0.024533</td>\n",
       "      <td>-0.012376</td>\n",
       "      <td>0.013297</td>\n",
       "    </tr>\n",
       "    <tr>\n",
       "      <th>2019-10</th>\n",
       "      <td>0.029968</td>\n",
       "      <td>0.032476</td>\n",
       "      <td>0.005878</td>\n",
       "      <td>0.025577</td>\n",
       "    </tr>\n",
       "    <tr>\n",
       "      <th>2019-11</th>\n",
       "      <td>0.054586</td>\n",
       "      <td>0.034309</td>\n",
       "      <td>-0.020207</td>\n",
       "      <td>0.034915</td>\n",
       "    </tr>\n",
       "    <tr>\n",
       "      <th>2019-12</th>\n",
       "      <td>0.044040</td>\n",
       "      <td>0.023314</td>\n",
       "      <td>0.043005</td>\n",
       "      <td>0.022767</td>\n",
       "    </tr>\n",
       "  </tbody>\n",
       "</table>\n",
       "</div>"
      ],
      "text/plain": [
       "         MSFT_excs  GOOG_excs   KO_excs  SPY_excs\n",
       "Date                                             \n",
       "2019-08   0.010057  -0.025101  0.044180 -0.018354\n",
       "2019-09   0.010370   0.024533 -0.012376  0.013297\n",
       "2019-10   0.029968   0.032476  0.005878  0.025577\n",
       "2019-11   0.054586   0.034309 -0.020207  0.034915\n",
       "2019-12   0.044040   0.023314  0.043005  0.022767"
      ]
     },
     "execution_count": 73,
     "metadata": {},
     "output_type": "execute_result"
    }
   ],
   "source": [
    "# Make it excess return\n",
    "excs_df = df.loc[:, ['MSFT', 'GOOG', 'KO', 'SPY']].subtract(df.loc[:, 'Tbill3M'], axis=0)\n",
    "excs_df.columns = [f'{ticker}_excs' for ticker in excs_df.columns]\n",
    "excs_df.tail()"
   ]
  },
  {
   "cell_type": "markdown",
   "metadata": {},
   "source": [
    "## (b)"
   ]
  },
  {
   "cell_type": "code",
   "execution_count": 74,
   "metadata": {},
   "outputs": [],
   "source": [
    "stocks = ['MSFT', 'GOOG', 'KO']\n",
    "\n",
    "def get_SIM_regression(stock_returns, market_returns, print_summary=True):\n",
    "    X = sm.add_constant(market_returns)\n",
    "    model = sm.OLS(stock_returns, X)\n",
    "    results = model.fit()\n",
    "\n",
    "    if print_summary:\n",
    "        print(results.summary())\n",
    "\n",
    "    return results"
   ]
  },
  {
   "cell_type": "markdown",
   "metadata": {},
   "source": [
    "각 종목의 초과수익률을 시장 초과수익률에 대해 regress"
   ]
  },
  {
   "cell_type": "code",
   "execution_count": 75,
   "metadata": {},
   "outputs": [
    {
     "name": "stdout",
     "output_type": "stream",
     "text": [
      "SIM regression result of MSFT\n",
      "                            OLS Regression Results                            \n",
      "==============================================================================\n",
      "Dep. Variable:              MSFT_excs   R-squared:                       0.479\n",
      "Model:                            OLS   Adj. R-squared:                  0.470\n",
      "Method:                 Least Squares   F-statistic:                     52.38\n",
      "Date:                Wed, 05 Jun 2024   Prob (F-statistic):           1.28e-09\n",
      "Time:                        06:11:59   Log-Likelihood:                 103.09\n",
      "No. Observations:                  59   AIC:                            -202.2\n",
      "Df Residuals:                      57   BIC:                            -198.0\n",
      "Df Model:                           1                                         \n",
      "Covariance Type:            nonrobust                                         \n",
      "==============================================================================\n",
      "                 coef    std err          t      P>|t|      [0.025      0.975]\n",
      "------------------------------------------------------------------------------\n",
      "const          0.0151      0.006      2.605      0.012       0.003       0.027\n",
      "SPY_excs       1.1523      0.159      7.237      0.000       0.833       1.471\n",
      "==============================================================================\n",
      "Omnibus:                       11.502   Durbin-Watson:                   2.658\n",
      "Prob(Omnibus):                  0.003   Jarque-Bera (JB):               31.486\n",
      "Skew:                           0.263   Prob(JB):                     1.45e-07\n",
      "Kurtosis:                       6.540   Cond. No.                         28.5\n",
      "==============================================================================\n",
      "\n",
      "Notes:\n",
      "[1] Standard Errors assume that the covariance matrix of the errors is correctly specified.\n",
      "\n",
      "\n",
      "\n",
      "\n",
      "\n",
      "\n",
      "SIM regression result of GOOG\n",
      "                            OLS Regression Results                            \n",
      "==============================================================================\n",
      "Dep. Variable:              GOOG_excs   R-squared:                       0.406\n",
      "Model:                            OLS   Adj. R-squared:                  0.395\n",
      "Method:                 Least Squares   F-statistic:                     38.91\n",
      "Date:                Wed, 05 Jun 2024   Prob (F-statistic):           5.85e-08\n",
      "Time:                        06:11:59   Log-Likelihood:                 99.573\n",
      "No. Observations:                  59   AIC:                            -195.1\n",
      "Df Residuals:                      57   BIC:                            -191.0\n",
      "Df Model:                           1                                         \n",
      "Covariance Type:            nonrobust                                         \n",
      "==============================================================================\n",
      "                 coef    std err          t      P>|t|      [0.025      0.975]\n",
      "------------------------------------------------------------------------------\n",
      "const          0.0064      0.006      1.050      0.298      -0.006       0.019\n",
      "SPY_excs       1.0542      0.169      6.238      0.000       0.716       1.393\n",
      "==============================================================================\n",
      "Omnibus:                       11.415   Durbin-Watson:                   2.100\n",
      "Prob(Omnibus):                  0.003   Jarque-Bera (JB):               15.070\n",
      "Skew:                           0.709   Prob(JB):                     0.000534\n",
      "Kurtosis:                       5.029   Cond. No.                         28.5\n",
      "==============================================================================\n",
      "\n",
      "Notes:\n",
      "[1] Standard Errors assume that the covariance matrix of the errors is correctly specified.\n",
      "\n",
      "\n",
      "\n",
      "\n",
      "\n",
      "\n",
      "SIM regression result of KO\n",
      "                            OLS Regression Results                            \n",
      "==============================================================================\n",
      "Dep. Variable:                KO_excs   R-squared:                       0.160\n",
      "Model:                            OLS   Adj. R-squared:                  0.145\n",
      "Method:                 Least Squares   F-statistic:                     10.83\n",
      "Date:                Wed, 05 Jun 2024   Prob (F-statistic):            0.00172\n",
      "Time:                        06:11:59   Log-Likelihood:                 118.42\n",
      "No. Observations:                  59   AIC:                            -232.8\n",
      "Df Residuals:                      57   BIC:                            -228.7\n",
      "Df Model:                           1                                         \n",
      "Covariance Type:            nonrobust                                         \n",
      "==============================================================================\n",
      "                 coef    std err          t      P>|t|      [0.025      0.975]\n",
      "------------------------------------------------------------------------------\n",
      "const          0.0037      0.004      0.836      0.407      -0.005       0.013\n",
      "SPY_excs       0.4041      0.123      3.291      0.002       0.158       0.650\n",
      "==============================================================================\n",
      "Omnibus:                        2.730   Durbin-Watson:                   2.262\n",
      "Prob(Omnibus):                  0.255   Jarque-Bera (JB):                2.417\n",
      "Skew:                          -0.494   Prob(JB):                        0.299\n",
      "Kurtosis:                       2.906   Cond. No.                         28.5\n",
      "==============================================================================\n",
      "\n",
      "Notes:\n",
      "[1] Standard Errors assume that the covariance matrix of the errors is correctly specified.\n",
      "\n",
      "\n",
      "\n",
      "\n",
      "\n",
      "\n"
     ]
    }
   ],
   "source": [
    "results = {}\n",
    "\n",
    "for stock in stocks:\n",
    "    print(f'SIM regression result of {stock}')\n",
    "    results[stock] = get_SIM_regression(excs_df[f'{stock}_excs'], excs_df['SPY_excs'], print_summary=True)\n",
    "    print('\\n'*5)"
   ]
  },
  {
   "cell_type": "code",
   "execution_count": 76,
   "metadata": {},
   "outputs": [],
   "source": [
    "def get_result_values(single_stock_result):\n",
    "    alpha, beta = single_stock_result.params\n",
    "    t_value_alpha, t_value_beta = single_stock_result.tvalues\n",
    "    p_value_alpha, p_value_beta = single_stock_result.pvalues\n",
    "    r_squared = single_stock_result.rsquared\n",
    "\n",
    "    # residual std는 따로 계산해야 함\n",
    "    residuals = single_stock_result.resid\n",
    "    resid_df = single_stock_result.df_resid\n",
    "    residual_std = np.sqrt( (residuals**2).sum() / resid_df )\n",
    "\n",
    "    result_values = {\n",
    "        'alpha': alpha,\n",
    "        'beta': beta,\n",
    "        't_value_alpha': t_value_alpha,\n",
    "        't_value_beta': t_value_beta,\n",
    "        'p_value_alpha': p_value_alpha,\n",
    "        'p_value_beta': p_value_beta,\n",
    "        'r_squared': r_squared,\n",
    "        'residual_std': residual_std\n",
    "    }\n",
    "\n",
    "    return result_values\n"
   ]
  },
  {
   "cell_type": "code",
   "execution_count": 77,
   "metadata": {},
   "outputs": [],
   "source": [
    "msft_result_values = get_result_values(results['MSFT'])\n",
    "goog_result_values = get_result_values(results['GOOG'])\n",
    "ko_result_values = get_result_values(results['KO'])\n"
   ]
  },
  {
   "cell_type": "code",
   "execution_count": 78,
   "metadata": {},
   "outputs": [
    {
     "data": {
      "text/plain": [
       "{'alpha': 0.01506599388754327,\n",
       " 'beta': 1.1523082415604675,\n",
       " 't_value_alpha': 2.6046102034342935,\n",
       " 't_value_beta': 7.237495402414416,\n",
       " 'p_value_alpha': 0.011709990999620883,\n",
       " 'p_value_beta': 1.2789403205909553e-09,\n",
       " 'r_squared': 0.4788873480947523,\n",
       " 'residual_std': 0.042892658090208355}"
      ]
     },
     "execution_count": 78,
     "metadata": {},
     "output_type": "execute_result"
    }
   ],
   "source": [
    "msft_result_values"
   ]
  },
  {
   "cell_type": "code",
   "execution_count": 79,
   "metadata": {},
   "outputs": [
    {
     "data": {
      "text/plain": [
       "{'alpha': 0.006448675204730689,\n",
       " 'beta': 1.0541924211363984,\n",
       " 't_value_alpha': 1.0502582392266726,\n",
       " 't_value_beta': 6.237637975867893,\n",
       " 'p_value_alpha': 0.2980319574564877,\n",
       " 'p_value_beta': 5.8526907686235904e-08,\n",
       " 'r_squared': 0.40568123395685496,\n",
       " 'residual_std': 0.04553048932340449}"
      ]
     },
     "execution_count": 79,
     "metadata": {},
     "output_type": "execute_result"
    }
   ],
   "source": [
    "goog_result_values"
   ]
  },
  {
   "cell_type": "code",
   "execution_count": 80,
   "metadata": {},
   "outputs": [
    {
     "data": {
      "text/plain": [
       "{'alpha': 0.003728367088568274,\n",
       " 'beta': 0.404065985811099,\n",
       " 't_value_alpha': 0.8357804916003417,\n",
       " 't_value_beta': 3.2907928077250173,\n",
       " 'p_value_alpha': 0.4067683041763813,\n",
       " 'p_value_beta': 0.001717408234378,\n",
       " 'r_squared': 0.1596554076305865,\n",
       " 'residual_std': 0.03307915043491735}"
      ]
     },
     "execution_count": 80,
     "metadata": {},
     "output_type": "execute_result"
    }
   ],
   "source": [
    "ko_result_values"
   ]
  },
  {
   "cell_type": "markdown",
   "metadata": {},
   "source": [
    "## (c)"
   ]
  },
  {
   "cell_type": "code",
   "execution_count": 81,
   "metadata": {},
   "outputs": [],
   "source": [
    "mkt_excs_mean = excs_df['SPY_excs'].mean() # Market expected return\n",
    "mkt_excs_std = excs_df['SPY_excs'].std() # Market expected volatility"
   ]
  },
  {
   "cell_type": "code",
   "execution_count": 82,
   "metadata": {},
   "outputs": [],
   "source": [
    "ann_mkt_excs_mean = mkt_excs_mean * 12\n",
    "ann_mkt_excs_std = mkt_excs_std * np.sqrt(12)"
   ]
  },
  {
   "cell_type": "code",
   "execution_count": 83,
   "metadata": {},
   "outputs": [
    {
     "data": {
      "text/plain": [
       "array([1.15230824, 1.05419242, 0.40406599])"
      ]
     },
     "execution_count": 83,
     "metadata": {},
     "output_type": "execute_result"
    }
   ],
   "source": [
    "betas = np.array([msft_result_values['beta'], goog_result_values['beta'], ko_result_values['beta']])\n",
    "betas"
   ]
  },
  {
   "cell_type": "code",
   "execution_count": 84,
   "metadata": {},
   "outputs": [
    {
     "data": {
      "text/plain": [
       "array([0.05890343, 0.05854853, 0.03577248])"
      ]
     },
     "execution_count": 84,
     "metadata": {},
     "output_type": "execute_result"
    }
   ],
   "source": [
    "msft_excs_std = excs_df['MSFT_excs'].std()\n",
    "goog_excs_std = excs_df['GOOG_excs'].std()\n",
    "ko_excs_std = excs_df['KO_excs'].std()\n",
    "\n",
    "excs_stds = np.array([msft_excs_std, goog_excs_std, ko_excs_std])\n",
    "excs_stds"
   ]
  },
  {
   "cell_type": "code",
   "execution_count": 85,
   "metadata": {},
   "outputs": [],
   "source": [
    "ann_excs_stds = excs_stds * np.sqrt(12)"
   ]
  },
  {
   "cell_type": "code",
   "execution_count": 86,
   "metadata": {},
   "outputs": [
    {
     "data": {
      "text/plain": [
       "array([0.14120429, 0.12918114, 0.0495144 ])"
      ]
     },
     "execution_count": 86,
     "metadata": {},
     "output_type": "execute_result"
    }
   ],
   "source": [
    "sys_stds = betas * ann_mkt_excs_std\n",
    "sys_stds"
   ]
  },
  {
   "cell_type": "code",
   "execution_count": 87,
   "metadata": {},
   "outputs": [
    {
     "data": {
      "text/plain": [
       "array([0.14729806, 0.15635666, 0.1135974 ])"
      ]
     },
     "execution_count": 87,
     "metadata": {},
     "output_type": "execute_result"
    }
   ],
   "source": [
    "resid_stds = np.sqrt(ann_excs_stds**2 - sys_stds**2)\n",
    "resid_stds"
   ]
  },
  {
   "cell_type": "code",
   "execution_count": 88,
   "metadata": {},
   "outputs": [],
   "source": [
    "# alphas = [0.02, -0.01, 0.01] # already annualized\n",
    "alphas = [ 0.10675492,  0.10936121, -0.06044151]\n"
   ]
  },
  {
   "cell_type": "code",
   "execution_count": 89,
   "metadata": {},
   "outputs": [
    {
     "data": {
      "text/plain": [
       "array([0.12779098, 0.11690994, 0.04481092])"
      ]
     },
     "execution_count": 89,
     "metadata": {},
     "output_type": "execute_result"
    }
   ],
   "source": [
    "# ANN_MKT_RISKPREMIUM = 0.06\n",
    "ANN_MKT_RISKPREMIUM = 0.1109\n",
    "\n",
    "riskpremiums = ANN_MKT_RISKPREMIUM * betas\n",
    "riskpremiums"
   ]
  },
  {
   "cell_type": "markdown",
   "metadata": {},
   "source": [
    "### 교수님 엑셀처럼 값 정리하여 optimal risky portfolio 구하기"
   ]
  },
  {
   "cell_type": "markdown",
   "metadata": {},
   "source": [
    "#### $ \\sigma^2(\\epsilon_i) $ "
   ]
  },
  {
   "cell_type": "code",
   "execution_count": 90,
   "metadata": {},
   "outputs": [
    {
     "data": {
      "text/plain": [
       "array([0.02169672, 0.0244474 , 0.01290437])"
      ]
     },
     "execution_count": 90,
     "metadata": {},
     "output_type": "execute_result"
    }
   ],
   "source": [
    "resid_vars = resid_stds**2\n",
    "resid_vars"
   ]
  },
  {
   "cell_type": "markdown",
   "metadata": {},
   "source": [
    "#### $ \\alpha_i / \\sigma^2(\\epsilon_i) $"
   ]
  },
  {
   "cell_type": "code",
   "execution_count": 91,
   "metadata": {},
   "outputs": [
    {
     "data": {
      "text/plain": [
       "array([ 4.92032591,  4.47332614, -4.68380174])"
      ]
     },
     "execution_count": 91,
     "metadata": {},
     "output_type": "execute_result"
    }
   ],
   "source": [
    "alpha_div_resid_vars = alphas / resid_vars\n",
    "alpha_div_resid_vars"
   ]
  },
  {
   "cell_type": "markdown",
   "metadata": {},
   "source": [
    "#### $ w_i $"
   ]
  },
  {
   "cell_type": "code",
   "execution_count": 92,
   "metadata": {},
   "outputs": [
    {
     "data": {
      "text/plain": [
       "array([ 1.04468838,  0.94978096, -0.99446934])"
      ]
     },
     "execution_count": 92,
     "metadata": {},
     "output_type": "execute_result"
    }
   ],
   "source": [
    "weights = alpha_div_resid_vars / alpha_div_resid_vars.sum()\n",
    "weights"
   ]
  },
  {
   "cell_type": "code",
   "execution_count": 93,
   "metadata": {},
   "outputs": [
    {
     "data": {
      "text/plain": [
       "1.0"
      ]
     },
     "execution_count": 93,
     "metadata": {},
     "output_type": "execute_result"
    }
   ],
   "source": [
    "np.round(weights.sum(), 10)"
   ]
  },
  {
   "cell_type": "markdown",
   "metadata": {},
   "source": [
    "#### $ \\alpha_A $"
   ]
  },
  {
   "cell_type": "code",
   "execution_count": 94,
   "metadata": {},
   "outputs": [
    {
     "data": {
      "text/plain": [
       "0.2755020481585262"
      ]
     },
     "execution_count": 94,
     "metadata": {},
     "output_type": "execute_result"
    }
   ],
   "source": [
    "weighted_alpha = weights @ alphas\n",
    "weighted_alpha"
   ]
  },
  {
   "cell_type": "markdown",
   "metadata": {},
   "source": [
    "#### $ \\beta_A $"
   ]
  },
  {
   "cell_type": "code",
   "execution_count": 95,
   "metadata": {},
   "outputs": [
    {
     "data": {
      "text/plain": [
       "1.8032236865501876"
      ]
     },
     "execution_count": 95,
     "metadata": {},
     "output_type": "execute_result"
    }
   ],
   "source": [
    "weighted_beta = weights @ betas\n",
    "weighted_beta"
   ]
  },
  {
   "cell_type": "markdown",
   "metadata": {},
   "source": [
    "#### $ \\sigma^2(\\epsilon_A) $ - residual variance"
   ]
  },
  {
   "cell_type": "code",
   "execution_count": 96,
   "metadata": {},
   "outputs": [
    {
     "data": {
      "text/plain": [
       "0.05849486285953748"
      ]
     },
     "execution_count": 96,
     "metadata": {},
     "output_type": "execute_result"
    }
   ],
   "source": [
    "active_residual_var = weights**2 @ resid_vars\n",
    "active_residual_var"
   ]
  },
  {
   "cell_type": "markdown",
   "metadata": {},
   "source": [
    "#### $ \\sigma_A^2 $ - active portfolio variance\n"
   ]
  },
  {
   "cell_type": "code",
   "execution_count": 97,
   "metadata": {},
   "outputs": [
    {
     "data": {
      "text/plain": [
       "0.10732159357814494"
      ]
     },
     "execution_count": 97,
     "metadata": {},
     "output_type": "execute_result"
    }
   ],
   "source": [
    "active_port_var = weighted_beta**2 * ann_mkt_excs_std**2 + active_residual_var\n",
    "active_port_var"
   ]
  },
  {
   "cell_type": "markdown",
   "metadata": {},
   "source": [
    "#### $ w_A^0 $"
   ]
  },
  {
   "cell_type": "code",
   "execution_count": 98,
   "metadata": {},
   "outputs": [
    {
     "data": {
      "text/plain": [
       "0.6219740223594964"
      ]
     },
     "execution_count": 98,
     "metadata": {},
     "output_type": "execute_result"
    }
   ],
   "source": [
    "w_A_0 = (weighted_alpha / active_residual_var) / (mkt_excs_mean / mkt_excs_std**2) # 여기서 lookahead std로 넣었다. 원래는 historical 쓰던데.\n",
    "w_A_0"
   ]
  },
  {
   "cell_type": "markdown",
   "metadata": {},
   "source": [
    "#### $ w_A^* $"
   ]
  },
  {
   "cell_type": "code",
   "execution_count": 99,
   "metadata": {},
   "outputs": [
    {
     "data": {
      "text/plain": [
       "1.2429146039275094"
      ]
     },
     "execution_count": 99,
     "metadata": {},
     "output_type": "execute_result"
    }
   ],
   "source": [
    "w_A_star = w_A_0 / (1 + w_A_0 * (1 - weighted_beta))\n",
    "w_A_star"
   ]
  },
  {
   "cell_type": "markdown",
   "metadata": {},
   "source": [
    "개별 주식 weight"
   ]
  },
  {
   "cell_type": "code",
   "execution_count": 100,
   "metadata": {},
   "outputs": [
    {
     "data": {
      "text/plain": [
       "array([ 1.29845845,  1.18049662, -1.23604047])"
      ]
     },
     "execution_count": 100,
     "metadata": {},
     "output_type": "execute_result"
    }
   ],
   "source": [
    "final_weights = w_A_star * weights\n",
    "final_weights"
   ]
  },
  {
   "cell_type": "markdown",
   "metadata": {},
   "source": [
    "#### $ w_M^* $"
   ]
  },
  {
   "cell_type": "code",
   "execution_count": 101,
   "metadata": {},
   "outputs": [
    {
     "data": {
      "text/plain": [
       "-0.2429146039275094"
      ]
     },
     "execution_count": 101,
     "metadata": {},
     "output_type": "execute_result"
    }
   ],
   "source": [
    "w_M_star = 1 - w_A_star\n",
    "w_M_star"
   ]
  },
  {
   "cell_type": "markdown",
   "metadata": {},
   "source": [
    "### 그래프 확인"
   ]
  },
  {
   "cell_type": "code",
   "execution_count": 102,
   "metadata": {},
   "outputs": [
    {
     "data": {
      "text/plain": [
       "array([ 1.29845845,  1.18049662, -1.23604047])"
      ]
     },
     "execution_count": 102,
     "metadata": {},
     "output_type": "execute_result"
    }
   ],
   "source": [
    "final_weights"
   ]
  },
  {
   "cell_type": "code",
   "execution_count": 103,
   "metadata": {},
   "outputs": [
    {
     "data": {
      "text/plain": [
       "<Axes: xlabel='Date'>"
      ]
     },
     "execution_count": 103,
     "metadata": {},
     "output_type": "execute_result"
    },
    {
     "data": {
      "image/png": "[encoded data removed]",
      "text/plain": [
       "<Figure size 640x480 with 1 Axes>"
      ]
     },
     "metadata": {},
     "output_type": "display_data"
    }
   ],
   "source": [
    "((1 + df).cumprod() - 1).plot()"
   ]
  },
  {
   "cell_type": "code",
   "execution_count": 104,
   "metadata": {},
   "outputs": [
    {
     "data": {
      "text/plain": [
       "0.3424255190681722"
      ]
     },
     "execution_count": 104,
     "metadata": {},
     "output_type": "execute_result"
    }
   ],
   "source": [
    "final_alpha = final_weights @ alphas\n",
    "final_alpha"
   ]
  },
  {
   "cell_type": "code",
   "execution_count": 105,
   "metadata": {},
   "outputs": [
    {
     "data": {
      "text/plain": [
       "0.20268704925581826"
      ]
     },
     "execution_count": 105,
     "metadata": {},
     "output_type": "execute_result"
    }
   ],
   "source": [
    "final_std = np.sqrt(final_weights @ resid_vars)\n",
    "final_std"
   ]
  },
  {
   "cell_type": "markdown",
   "metadata": {},
   "source": [
    "## (d)"
   ]
  },
  {
   "cell_type": "markdown",
   "metadata": {},
   "source": [
    "Information ratio"
   ]
  },
  {
   "cell_type": "code",
   "execution_count": 106,
   "metadata": {},
   "outputs": [
    {
     "data": {
      "text/plain": [
       "1.6894296913661475"
      ]
     },
     "execution_count": 106,
     "metadata": {},
     "output_type": "execute_result"
    }
   ],
   "source": [
    "information_ratio = final_alpha / final_std\n",
    "information_ratio"
   ]
  },
  {
   "cell_type": "markdown",
   "metadata": {},
   "source": [
    "## (e)"
   ]
  },
  {
   "cell_type": "code",
   "execution_count": 107,
   "metadata": {},
   "outputs": [
    {
     "data": {
      "text/plain": [
       "0.24855496370648034"
      ]
     },
     "execution_count": 107,
     "metadata": {},
     "output_type": "execute_result"
    }
   ],
   "source": [
    "active_riskpremium = final_weights @ riskpremiums\n",
    "active_riskpremium"
   ]
  },
  {
   "cell_type": "code",
   "execution_count": 108,
   "metadata": {},
   "outputs": [
    {
     "data": {
      "text/plain": [
       "0.2819933646938957"
      ]
     },
     "execution_count": 108,
     "metadata": {},
     "output_type": "execute_result"
    }
   ],
   "source": [
    "optimal_riskpremium = ANN_MKT_RISKPREMIUM * w_M_star + active_riskpremium * w_A_star\n",
    "optimal_riskpremium"
   ]
  },
  {
   "cell_type": "code",
   "execution_count": 109,
   "metadata": {},
   "outputs": [
    {
     "data": {
      "text/plain": [
       "0.9050078087776795"
      ]
     },
     "execution_count": 109,
     "metadata": {},
     "output_type": "execute_result"
    }
   ],
   "source": [
    "market_sharpe = ANN_MKT_RISKPREMIUM / ann_mkt_excs_std\n",
    "market_sharpe"
   ]
  },
  {
   "cell_type": "code",
   "execution_count": 110,
   "metadata": {},
   "outputs": [
    {
     "data": {
      "text/plain": [
       "1.9165624998987363"
      ]
     },
     "execution_count": 110,
     "metadata": {},
     "output_type": "execute_result"
    }
   ],
   "source": [
    "optimal_sharpe = np.sqrt(market_sharpe ** 2 + information_ratio ** 2)\n",
    "optimal_sharpe"
   ]
  },
  {
   "cell_type": "code",
   "execution_count": null,
   "metadata": {},
   "outputs": [],
   "source": []
  }
 ],
 "metadata": {
  "kernelspec": {
   "display_name": ".venv",
   "language": "python",
   "name": "python3"
  },
  "language_info": {
   "codemirror_mode": {
    "name": "ipython",
    "version": 3
   },
   "file_extension": ".py",
   "mimetype": "text/x-python",
   "name": "python",
   "nbconvert_exporter": "python",
   "pygments_lexer": "ipython3",
   "version": "3.10.11"
  }
 },
 "nbformat": 4,
 "nbformat_minor": 2
}
