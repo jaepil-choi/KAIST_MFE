{
 "cells": [
  {
   "cell_type": "markdown",
   "metadata": {},
   "source": [
    "# 실습 ch4\n",
    "\n",
    "블랙 숄즈 머튼 함수 작성 \n",
    "\n",
    "Black Scholes Merton function"
   ]
  },
  {
   "cell_type": "code",
   "execution_count": 2,
   "metadata": {},
   "outputs": [
    {
     "data": {
      "text/plain": [
       "1.557"
      ]
     },
     "execution_count": 2,
     "metadata": {},
     "output_type": "execute_result"
    }
   ],
   "source": [
    "def bs_call(S0, K, T, r, sigma):\n",
    "\n",
    "    import math\n",
    "    import scipy.stats\n",
    "\n",
    "    d1 = (math.log(S0 / K) + (r + 0.5 * sigma**2) * T) / (sigma * math.sqrt(T))\n",
    "\n",
    "    d2 = d1 - sigma * math.sqrt(T)\n",
    "\n",
    "    c = S0 * scipy.stats.norm.cdf(d1) - K * math.exp(-r*T) * scipy.stats.norm.cdf(d2)\n",
    "\n",
    "    return(round(c, 3))\n",
    "\n",
    "bs_call(S0=40., K=42., T=0.5, r=0.015, sigma=0.2)\n"
   ]
  },
  {
   "cell_type": "code",
   "execution_count": 4,
   "metadata": {},
   "outputs": [
    {
     "data": {
      "text/plain": [
       "(50, 0.25, -0.0040000000000000036)"
      ]
     },
     "execution_count": 4,
     "metadata": {},
     "output_type": "execute_result"
    }
   ],
   "source": [
    "import os\n",
    "\n",
    "# os.chdir('D:\\\\MFE_BAF515')  # MyBS.py 모듈은 'D:\\\\MFE_BAF515'에 저장되어 있음.\n",
    "\n",
    "def implied_vol_call(S0, K, T, r, c):\n",
    "    # from MyBS import bs_call\n",
    "    \n",
    "    i = 0; diff = 5\n",
    "    \n",
    "    while abs(diff) > 0.01:\n",
    "        sigma = 0.005 * (i+1)\n",
    "        diff = c - bs_call(S0, K, T, r, sigma)\n",
    "        i += 1\n",
    "    \n",
    "    return i, sigma, diff\n",
    "\n",
    "implied_vol_call(S0=40., K=40., T=0.5, r=0.05, c=3.3)\n"
   ]
  },
  {
   "cell_type": "code",
   "execution_count": 6,
   "metadata": {},
   "outputs": [
    {
     "data": {
      "text/plain": [
       "0.25"
      ]
     },
     "execution_count": 6,
     "metadata": {},
     "output_type": "execute_result"
    }
   ],
   "source": [
    "def vega(S0, K, T, r, sigma):\n",
    "    import math\n",
    "    from scipy.stats import norm\n",
    "\n",
    "    d1 = (math.log(S0 / K) + (r + 0.5 * sigma**2) * T) / (sigma * math.sqrt(T))\n",
    "    \n",
    "    dval = S0 * norm.pdf(d1) * math.sqrt(T)\n",
    "    \n",
    "    return dval\n",
    "\n",
    "# del vega # MyBS.py 모듈에 저장됨.\n",
    "\n",
    "def implied_vol_call_byNR(S0, K, T, r, c):\n",
    "    # import MyBS\n",
    "    \n",
    "    newsigma = 1\n",
    "    diff = 1\n",
    "    while abs(diff) > 0.001:\n",
    "        sigma = newsigma\n",
    "        \n",
    "        # newsigma = sigma - (MyBS.bs_call(S0, K, T, r, sigma) - c) / MyBS.vega(S0, K, T, r, sigma)\n",
    "        newsigma = sigma - (bs_call(S0, K, T, r, sigma) - c) / vega(S0, K, T, r, sigma)\n",
    "        diff = newsigma - sigma\n",
    "        \n",
    "    return round(newsigma, 3)\n",
    "\n",
    "implied_vol_call_byNR(S0=40., K=40., T=0.5, r=0.05, c=3.3)\n"
   ]
  },
  {
   "cell_type": "code",
   "execution_count": null,
   "metadata": {},
   "outputs": [],
   "source": []
  }
 ],
 "metadata": {
  "kernelspec": {
   "display_name": ".venv",
   "language": "python",
   "name": "python3"
  },
  "language_info": {
   "codemirror_mode": {
    "name": "ipython",
    "version": 3
   },
   "file_extension": ".py",
   "mimetype": "text/x-python",
   "name": "python",
   "nbconvert_exporter": "python",
   "pygments_lexer": "ipython3",
   "version": "3.11.5"
  }
 },
 "nbformat": 4,
 "nbformat_minor": 2
}
