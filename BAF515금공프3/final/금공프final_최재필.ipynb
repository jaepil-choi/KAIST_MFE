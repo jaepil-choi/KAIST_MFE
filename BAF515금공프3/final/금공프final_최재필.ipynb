{
 "cells": [
  {
   "cell_type": "markdown",
   "metadata": {},
   "source": [
    "# 금공프3 Final\n",
    "\n",
    "20249433 MFE 최재필"
   ]
  },
  {
   "cell_type": "code",
   "execution_count": 25,
   "metadata": {},
   "outputs": [],
   "source": [
    "from functools import reduce\n",
    "\n",
    "import numpy as np\n",
    "import pandas as pd"
   ]
  },
  {
   "cell_type": "markdown",
   "metadata": {},
   "source": [
    "## 1. Mean-Variance Optimization"
   ]
  },
  {
   "cell_type": "code",
   "execution_count": 26,
   "metadata": {},
   "outputs": [],
   "source": [
    "# 1"
   ]
  },
  {
   "cell_type": "code",
   "execution_count": 27,
   "metadata": {},
   "outputs": [],
   "source": [
    "asset = pd.read_csv('price.csv')"
   ]
  },
  {
   "cell_type": "code",
   "execution_count": 28,
   "metadata": {},
   "outputs": [],
   "source": [
    "asset.set_index('date', inplace=True)"
   ]
  },
  {
   "cell_type": "code",
   "execution_count": 29,
   "metadata": {},
   "outputs": [
    {
     "name": "stdout",
     "output_type": "stream",
     "text": [
      "<class 'pandas.core.frame.DataFrame'>\n",
      "Index: 565 entries, 2018-05-23 to 2020-09-04\n",
      "Columns: 2203 entries, X005930 to X158310\n",
      "dtypes: float64(1722), int64(481)\n",
      "memory usage: 9.5+ MB\n"
     ]
    }
   ],
   "source": [
    "asset.info()"
   ]
  },
  {
   "cell_type": "code",
   "execution_count": 30,
   "metadata": {},
   "outputs": [
    {
     "data": {
      "text/plain": [
       "Index(['2018-05-23', '2018-05-24', '2018-05-25', '2018-05-28', '2018-05-29',\n",
       "       '2018-05-30', '2018-05-31', '2018-06-01', '2018-06-04', '2018-06-05',\n",
       "       ...\n",
       "       '2020-08-24', '2020-08-25', '2020-08-26', '2020-08-27', '2020-08-28',\n",
       "       '2020-08-31', '2020-09-01', '2020-09-02', '2020-09-03', '2020-09-04'],\n",
       "      dtype='object', name='date', length=565)"
      ]
     },
     "execution_count": 30,
     "metadata": {},
     "output_type": "execute_result"
    }
   ],
   "source": [
    "asset.index"
   ]
  },
  {
   "cell_type": "code",
   "execution_count": 31,
   "metadata": {},
   "outputs": [],
   "source": [
    "# EDA asset dataframe\n",
    "\n",
    "# Hypothesis: Five cases of nan values in the dataframe\n",
    "# 1. The first rows of the series has nan values\n",
    "c0 = [1, 1, 0, 0, 0]\n",
    "\n",
    "# 2. The last rows of the series has nan values\n",
    "c1 = [0, 0, 0, 1, 1]\n",
    "\n",
    "\n",
    "# 3. The middle rows of the series has nan values\n",
    "c2 = [0, 1, 1, 0, 0]\n",
    "\n",
    "# 4. The first few and last few rows of the series has nan values\n",
    "c3 = [1, 1, 0, 0, 1]\n",
    "\n",
    "# 5. No nan values in the series\n",
    "c4 = [0, 0, 0, 0, 0]"
   ]
  },
  {
   "cell_type": "code",
   "execution_count": 32,
   "metadata": {},
   "outputs": [],
   "source": [
    "def reduce_same(result, x):\n",
    "    if result[-1] == x:\n",
    "        return result\n",
    "    else:\n",
    "        result.append(x)\n",
    "        return result"
   ]
  },
  {
   "cell_type": "code",
   "execution_count": 33,
   "metadata": {},
   "outputs": [
    {
     "data": {
      "text/plain": [
       "[-1, 1, 0]"
      ]
     },
     "execution_count": 33,
     "metadata": {},
     "output_type": "execute_result"
    }
   ],
   "source": [
    "reduce(reduce_same, c0, [-1])"
   ]
  },
  {
   "cell_type": "code",
   "execution_count": 34,
   "metadata": {},
   "outputs": [],
   "source": [
    "def make_unique_case_df(df):\n",
    "    unique_case_df = pd.DataFrame()\n",
    "    cases = {\n",
    "        (-1, 1, 0): 0, # 존재하지 않았다가 나타난 경우\n",
    "        (-1, 0, 1): 1, # 존재했다가 사라진 경우\n",
    "        (-1, 0, 1, 0): 2, # 존재했다가 사라지다가 다시 나타난 경우\n",
    "        (-1, 1, 0, 1): 3, # 존재하지 않았다가 나타나다가 사라진 경우\n",
    "        (-1, 1): 4, # 계속 존재하지 않은 경우\n",
    "        (-1, 0): 5, # 계속 존재하는 경우\n",
    "    }\n",
    "    case_satisfied = [0] * len(cases.keys())\n",
    "    result_cases = []\n",
    "\n",
    "    for col in df.columns:\n",
    "        series = df[col]\n",
    "        isna = (series.isna() * 1).tolist()\n",
    "\n",
    "        case_tuple = tuple(reduce(reduce_same, isna, [-1]))\n",
    "        \n",
    "        assert case_tuple in cases.keys() , f\"Case tuple {case_tuple} not in cases\"\n",
    "\n",
    "        if case_satisfied[cases[case_tuple]] != 1:\n",
    "            unique_case_df[col] = series\n",
    "            case_satisfied[cases[case_tuple]] = 1\n",
    "            result_cases.append(cases[case_tuple])\n",
    "        else:\n",
    "            if sum(case_satisfied) == len(cases.keys()):\n",
    "                break\n",
    "            else:\n",
    "                continue\n",
    "        \n",
    "    return unique_case_df, result_cases"
   ]
  },
  {
   "cell_type": "code",
   "execution_count": 35,
   "metadata": {},
   "outputs": [],
   "source": [
    "uc_df, _ = make_unique_case_df(asset)"
   ]
  },
  {
   "cell_type": "code",
   "execution_count": 36,
   "metadata": {},
   "outputs": [
    {
     "data": {
      "text/html": [
       "<div>\n",
       "<style scoped>\n",
       "    .dataframe tbody tr th:only-of-type {\n",
       "        vertical-align: middle;\n",
       "    }\n",
       "\n",
       "    .dataframe tbody tr th {\n",
       "        vertical-align: top;\n",
       "    }\n",
       "\n",
       "    .dataframe thead th {\n",
       "        text-align: right;\n",
       "    }\n",
       "</style>\n",
       "<table border=\"1\" class=\"dataframe\">\n",
       "  <thead>\n",
       "    <tr style=\"text-align: right;\">\n",
       "      <th></th>\n",
       "      <th>X005930</th>\n",
       "      <th>X302440</th>\n",
       "      <th>X326030</th>\n",
       "      <th>X011690</th>\n",
       "      <th>X322000</th>\n",
       "    </tr>\n",
       "    <tr>\n",
       "      <th>date</th>\n",
       "      <th></th>\n",
       "      <th></th>\n",
       "      <th></th>\n",
       "      <th></th>\n",
       "      <th></th>\n",
       "    </tr>\n",
       "  </thead>\n",
       "  <tbody>\n",
       "    <tr>\n",
       "      <th>2018-05-23</th>\n",
       "      <td>51800</td>\n",
       "      <td>NaN</td>\n",
       "      <td>NaN</td>\n",
       "      <td>21000.0</td>\n",
       "      <td>NaN</td>\n",
       "    </tr>\n",
       "    <tr>\n",
       "      <th>2018-05-24</th>\n",
       "      <td>51400</td>\n",
       "      <td>NaN</td>\n",
       "      <td>NaN</td>\n",
       "      <td>20800.0</td>\n",
       "      <td>NaN</td>\n",
       "    </tr>\n",
       "    <tr>\n",
       "      <th>2018-05-25</th>\n",
       "      <td>52700</td>\n",
       "      <td>NaN</td>\n",
       "      <td>NaN</td>\n",
       "      <td>20300.0</td>\n",
       "      <td>NaN</td>\n",
       "    </tr>\n",
       "    <tr>\n",
       "      <th>2018-05-28</th>\n",
       "      <td>52300</td>\n",
       "      <td>NaN</td>\n",
       "      <td>NaN</td>\n",
       "      <td>19200.0</td>\n",
       "      <td>NaN</td>\n",
       "    </tr>\n",
       "    <tr>\n",
       "      <th>2018-05-29</th>\n",
       "      <td>51300</td>\n",
       "      <td>NaN</td>\n",
       "      <td>NaN</td>\n",
       "      <td>18960.0</td>\n",
       "      <td>NaN</td>\n",
       "    </tr>\n",
       "    <tr>\n",
       "      <th>...</th>\n",
       "      <td>...</td>\n",
       "      <td>...</td>\n",
       "      <td>...</td>\n",
       "      <td>...</td>\n",
       "      <td>...</td>\n",
       "    </tr>\n",
       "    <tr>\n",
       "      <th>2020-08-31</th>\n",
       "      <td>54000</td>\n",
       "      <td>NaN</td>\n",
       "      <td>163500.0</td>\n",
       "      <td>2440.0</td>\n",
       "      <td>28850.0</td>\n",
       "    </tr>\n",
       "    <tr>\n",
       "      <th>2020-09-01</th>\n",
       "      <td>54200</td>\n",
       "      <td>NaN</td>\n",
       "      <td>171000.0</td>\n",
       "      <td>2440.0</td>\n",
       "      <td>28600.0</td>\n",
       "    </tr>\n",
       "    <tr>\n",
       "      <th>2020-09-02</th>\n",
       "      <td>54400</td>\n",
       "      <td>NaN</td>\n",
       "      <td>181500.0</td>\n",
       "      <td>2440.0</td>\n",
       "      <td>28800.0</td>\n",
       "    </tr>\n",
       "    <tr>\n",
       "      <th>2020-09-03</th>\n",
       "      <td>56400</td>\n",
       "      <td>NaN</td>\n",
       "      <td>182000.0</td>\n",
       "      <td>2440.0</td>\n",
       "      <td>31700.0</td>\n",
       "    </tr>\n",
       "    <tr>\n",
       "      <th>2020-09-04</th>\n",
       "      <td>55600</td>\n",
       "      <td>NaN</td>\n",
       "      <td>190000.0</td>\n",
       "      <td>NaN</td>\n",
       "      <td>NaN</td>\n",
       "    </tr>\n",
       "  </tbody>\n",
       "</table>\n",
       "<p>565 rows × 5 columns</p>\n",
       "</div>"
      ],
      "text/plain": [
       "            X005930  X302440   X326030  X011690  X322000\n",
       "date                                                    \n",
       "2018-05-23    51800      NaN       NaN  21000.0      NaN\n",
       "2018-05-24    51400      NaN       NaN  20800.0      NaN\n",
       "2018-05-25    52700      NaN       NaN  20300.0      NaN\n",
       "2018-05-28    52300      NaN       NaN  19200.0      NaN\n",
       "2018-05-29    51300      NaN       NaN  18960.0      NaN\n",
       "...             ...      ...       ...      ...      ...\n",
       "2020-08-31    54000      NaN  163500.0   2440.0  28850.0\n",
       "2020-09-01    54200      NaN  171000.0   2440.0  28600.0\n",
       "2020-09-02    54400      NaN  181500.0   2440.0  28800.0\n",
       "2020-09-03    56400      NaN  182000.0   2440.0  31700.0\n",
       "2020-09-04    55600      NaN  190000.0      NaN      NaN\n",
       "\n",
       "[565 rows x 5 columns]"
      ]
     },
     "execution_count": 36,
     "metadata": {},
     "output_type": "execute_result"
    }
   ],
   "source": [
    "uc_df"
   ]
  },
  {
   "cell_type": "code",
   "execution_count": 37,
   "metadata": {},
   "outputs": [],
   "source": [
    "def shorten_nan_cases(unique_case_df, minimum_rows_per_case=1):\n",
    "    isna_df = unique_case_df.isna()\n",
    "\n",
    "    unique_rows_df = isna_df.drop_duplicates()\n",
    "    rowwise_cases = [tuple(c.values()) for c in list(unique_rows_df.T.to_dict().values())]\n",
    "    cases_mapping = {case: i for i, case in enumerate(rowwise_cases)}\n",
    "\n",
    "    case_satisfied_count = np.zeros(len(cases_mapping))\n",
    "\n",
    "    if isinstance(minimum_rows_per_case, int):\n",
    "        case_minimum_counts = np.ones(len(cases_mapping)) * minimum_rows_per_case\n",
    "    elif isinstance(minimum_rows_per_case, list):\n",
    "        assert len(minimum_rows_per_case) == len(cases_mapping), f\"Required cases: {len(cases_mapping)} != Input cases: {len(minimum_rows_per_case)}\"\n",
    "        case_minimum_counts = minimum_rows_per_case\n",
    "    \n",
    "    boolmask_df = pd.DataFrame()\n",
    "    \n",
    "    already_sampled = [] # Assuming unique time-series index\n",
    "\n",
    "    while not (case_satisfied_count >= case_minimum_counts).all():\n",
    "        sample_row = isna_df.sample(1)\n",
    "\n",
    "        if sample_row.index[0] in already_sampled:\n",
    "            continue\n",
    "        else:\n",
    "            already_sampled.append(sample_row.index[0])\n",
    "        \n",
    "        row_case = tuple(sample_row.values[0])\n",
    "        case_idx = cases_mapping[row_case]\n",
    "\n",
    "        if case_satisfied_count[case_idx] >= case_minimum_counts[case_idx]:\n",
    "            continue\n",
    "        else:\n",
    "            case_satisfied_count[case_idx] += 1\n",
    "            boolmask_df = pd.concat([boolmask_df, sample_row], axis=0)\n",
    "        \n",
    "    result_df = unique_case_df.reindex(index=boolmask_df.index, columns=boolmask_df.columns).sort_index()\n",
    "\n",
    "    return result_df\n",
    "\n",
    "\n",
    "# 주의: 경계값을 생각하지 않음. "
   ]
  },
  {
   "cell_type": "code",
   "execution_count": 38,
   "metadata": {},
   "outputs": [
    {
     "data": {
      "text/html": [
       "<div>\n",
       "<style scoped>\n",
       "    .dataframe tbody tr th:only-of-type {\n",
       "        vertical-align: middle;\n",
       "    }\n",
       "\n",
       "    .dataframe tbody tr th {\n",
       "        vertical-align: top;\n",
       "    }\n",
       "\n",
       "    .dataframe thead th {\n",
       "        text-align: right;\n",
       "    }\n",
       "</style>\n",
       "<table border=\"1\" class=\"dataframe\">\n",
       "  <thead>\n",
       "    <tr style=\"text-align: right;\">\n",
       "      <th></th>\n",
       "      <th>X005930</th>\n",
       "      <th>X302440</th>\n",
       "      <th>X326030</th>\n",
       "      <th>X011690</th>\n",
       "      <th>X322000</th>\n",
       "    </tr>\n",
       "    <tr>\n",
       "      <th>date</th>\n",
       "      <th></th>\n",
       "      <th></th>\n",
       "      <th></th>\n",
       "      <th></th>\n",
       "      <th></th>\n",
       "    </tr>\n",
       "  </thead>\n",
       "  <tbody>\n",
       "    <tr>\n",
       "      <th>2018-10-11</th>\n",
       "      <td>43100</td>\n",
       "      <td>NaN</td>\n",
       "      <td>NaN</td>\n",
       "      <td>15940.0</td>\n",
       "      <td>NaN</td>\n",
       "    </tr>\n",
       "    <tr>\n",
       "      <th>2019-05-13</th>\n",
       "      <td>42650</td>\n",
       "      <td>NaN</td>\n",
       "      <td>NaN</td>\n",
       "      <td>14480.0</td>\n",
       "      <td>NaN</td>\n",
       "    </tr>\n",
       "    <tr>\n",
       "      <th>2019-08-20</th>\n",
       "      <td>44450</td>\n",
       "      <td>NaN</td>\n",
       "      <td>NaN</td>\n",
       "      <td>10360.0</td>\n",
       "      <td>NaN</td>\n",
       "    </tr>\n",
       "    <tr>\n",
       "      <th>2020-02-11</th>\n",
       "      <td>59900</td>\n",
       "      <td>NaN</td>\n",
       "      <td>NaN</td>\n",
       "      <td>8480.0</td>\n",
       "      <td>22850.0</td>\n",
       "    </tr>\n",
       "    <tr>\n",
       "      <th>2020-06-17</th>\n",
       "      <td>52200</td>\n",
       "      <td>NaN</td>\n",
       "      <td>NaN</td>\n",
       "      <td>2440.0</td>\n",
       "      <td>26100.0</td>\n",
       "    </tr>\n",
       "    <tr>\n",
       "      <th>2020-06-22</th>\n",
       "      <td>52000</td>\n",
       "      <td>NaN</td>\n",
       "      <td>NaN</td>\n",
       "      <td>2440.0</td>\n",
       "      <td>27200.0</td>\n",
       "    </tr>\n",
       "    <tr>\n",
       "      <th>2020-08-24</th>\n",
       "      <td>56100</td>\n",
       "      <td>NaN</td>\n",
       "      <td>168000.0</td>\n",
       "      <td>2440.0</td>\n",
       "      <td>28100.0</td>\n",
       "    </tr>\n",
       "    <tr>\n",
       "      <th>2020-08-31</th>\n",
       "      <td>54000</td>\n",
       "      <td>NaN</td>\n",
       "      <td>163500.0</td>\n",
       "      <td>2440.0</td>\n",
       "      <td>28850.0</td>\n",
       "    </tr>\n",
       "    <tr>\n",
       "      <th>2020-09-04</th>\n",
       "      <td>55600</td>\n",
       "      <td>NaN</td>\n",
       "      <td>190000.0</td>\n",
       "      <td>NaN</td>\n",
       "      <td>NaN</td>\n",
       "    </tr>\n",
       "  </tbody>\n",
       "</table>\n",
       "</div>"
      ],
      "text/plain": [
       "            X005930  X302440   X326030  X011690  X322000\n",
       "date                                                    \n",
       "2018-10-11    43100      NaN       NaN  15940.0      NaN\n",
       "2019-05-13    42650      NaN       NaN  14480.0      NaN\n",
       "2019-08-20    44450      NaN       NaN  10360.0      NaN\n",
       "2020-02-11    59900      NaN       NaN   8480.0  22850.0\n",
       "2020-06-17    52200      NaN       NaN   2440.0  26100.0\n",
       "2020-06-22    52000      NaN       NaN   2440.0  27200.0\n",
       "2020-08-24    56100      NaN  168000.0   2440.0  28100.0\n",
       "2020-08-31    54000      NaN  163500.0   2440.0  28850.0\n",
       "2020-09-04    55600      NaN  190000.0      NaN      NaN"
      ]
     },
     "execution_count": 38,
     "metadata": {},
     "output_type": "execute_result"
    }
   ],
   "source": [
    "small_asset = shorten_nan_cases(uc_df, minimum_rows_per_case=[3, 3, 2, 1])\n",
    "small_asset"
   ]
  },
  {
   "cell_type": "code",
   "execution_count": 39,
   "metadata": {},
   "outputs": [],
   "source": [
    "# small_asset = asset.iloc[:10, :5].copy()\n",
    "# small_asset.iloc[:7, 0] = np.nan\n",
    "# small_asset.iloc[3:5, 1] = np.nan\n",
    "# small_asset.iloc[-7:, 2] = np.nan\n",
    "\n",
    "# small_asset # 극단적인 케이스 가정하여 만듦"
   ]
  },
  {
   "cell_type": "code",
   "execution_count": null,
   "metadata": {},
   "outputs": [],
   "source": []
  },
  {
   "cell_type": "code",
   "execution_count": 40,
   "metadata": {},
   "outputs": [
    {
     "data": {
      "text/plain": [
       "array([[ 43100.,     nan,     nan,  15940.,     nan],\n",
       "       [ 42650.,     nan,     nan,  14480.,     nan],\n",
       "       [ 44450.,     nan,     nan,  10360.,     nan],\n",
       "       [ 59900.,     nan,     nan,   8480.,  22850.],\n",
       "       [ 52200.,     nan,     nan,   2440.,  26100.],\n",
       "       [ 52000.,     nan,     nan,   2440.,  27200.],\n",
       "       [ 56100.,     nan, 168000.,   2440.,  28100.],\n",
       "       [ 54000.,     nan, 163500.,   2440.,  28850.],\n",
       "       [ 55600.,     nan, 190000.,     nan,     nan]])"
      ]
     },
     "execution_count": 40,
     "metadata": {},
     "output_type": "execute_result"
    }
   ],
   "source": [
    "small_asset_2d = small_asset.to_numpy()\n",
    "small_asset_2d\n",
    "\n",
    "# TODO: quant research 시 좋은 approach. util 로 빼서 case별로 small 만들어주는 툴 있으면 좋음. \n"
   ]
  },
  {
   "cell_type": "code",
   "execution_count": 41,
   "metadata": {},
   "outputs": [
    {
     "data": {
      "text/plain": [
       "(9, 5)"
      ]
     },
     "execution_count": 41,
     "metadata": {},
     "output_type": "execute_result"
    }
   ],
   "source": [
    "small_asset_2d.shape"
   ]
  },
  {
   "cell_type": "code",
   "execution_count": 42,
   "metadata": {},
   "outputs": [
    {
     "data": {
      "text/plain": [
       "array([[5.180e+04, 9.530e+04, 3.435e+05, ...,       nan, 5.079e+03,\n",
       "        1.025e+04],\n",
       "       [5.140e+04, 9.460e+04, 3.450e+05, ...,       nan, 5.005e+03,\n",
       "        9.300e+03],\n",
       "       [5.270e+04, 9.520e+04, 3.525e+05, ...,       nan, 4.870e+03,\n",
       "        8.920e+03],\n",
       "       ...,\n",
       "       [5.440e+04, 7.550e+04, 7.420e+05, ..., 2.015e+03, 4.980e+02,\n",
       "        5.050e+02],\n",
       "       [5.640e+04, 7.870e+04, 7.680e+05, ..., 2.010e+03, 4.980e+02,\n",
       "        5.050e+02],\n",
       "       [5.560e+04, 7.870e+04, 7.430e+05, ...,       nan,       nan,\n",
       "              nan]])"
      ]
     },
     "execution_count": 42,
     "metadata": {},
     "output_type": "execute_result"
    }
   ],
   "source": [
    "asset_2d = asset.to_numpy()\n",
    "asset_2d"
   ]
  },
  {
   "cell_type": "code",
   "execution_count": null,
   "metadata": {},
   "outputs": [],
   "source": []
  },
  {
   "cell_type": "code",
   "execution_count": 43,
   "metadata": {},
   "outputs": [
    {
     "data": {
      "text/plain": [
       "array([[-0.01049572,         nan,         nan, -0.09606329,         nan],\n",
       "       [ 0.04133769,         nan,         nan, -0.33481615,         nan],\n",
       "       [ 0.29831154,         nan,         nan, -0.20024179,         nan],\n",
       "       [-0.13759401,         nan,         nan, -1.24571241,  0.1329842 ],\n",
       "       [-0.00383878,         nan,         nan,  0.        ,  0.04128166],\n",
       "       [ 0.07589209,         nan,         nan,  0.        ,  0.0325526 ],\n",
       "       [-0.03815177,         nan, -0.02715099,  0.        ,  0.02634042],\n",
       "       [ 0.02919915,         nan,  0.15021108,         nan,         nan]])"
      ]
     },
     "execution_count": 43,
     "metadata": {},
     "output_type": "execute_result"
    }
   ],
   "source": [
    "small_X = np.log(small_asset_2d[1:]/small_asset_2d[:-1])\n",
    "small_X"
   ]
  },
  {
   "cell_type": "code",
   "execution_count": 44,
   "metadata": {},
   "outputs": [
    {
     "data": {
      "text/plain": [
       "(8, 5)"
      ]
     },
     "execution_count": 44,
     "metadata": {},
     "output_type": "execute_result"
    }
   ],
   "source": [
    "small_X.shape"
   ]
  },
  {
   "cell_type": "code",
   "execution_count": 45,
   "metadata": {},
   "outputs": [
    {
     "data": {
      "text/plain": [
       "(564, 2203)"
      ]
     },
     "execution_count": 45,
     "metadata": {},
     "output_type": "execute_result"
    }
   ],
   "source": [
    "X = np.log(asset_2d[1:]/asset_2d[:-1]) # 수익률 (수익률은 log 차분 수익률로 계산)\n",
    "X.shape"
   ]
  },
  {
   "cell_type": "code",
   "execution_count": null,
   "metadata": {},
   "outputs": [],
   "source": []
  },
  {
   "cell_type": "code",
   "execution_count": 46,
   "metadata": {},
   "outputs": [],
   "source": [
    "# to address nan values, use pandas for covariance matrix\n",
    "\n",
    "small_X_df = pd.DataFrame(small_X, columns=small_asset.columns)"
   ]
  },
  {
   "cell_type": "code",
   "execution_count": 47,
   "metadata": {},
   "outputs": [
    {
     "data": {
      "text/html": [
       "<div>\n",
       "<style scoped>\n",
       "    .dataframe tbody tr th:only-of-type {\n",
       "        vertical-align: middle;\n",
       "    }\n",
       "\n",
       "    .dataframe tbody tr th {\n",
       "        vertical-align: top;\n",
       "    }\n",
       "\n",
       "    .dataframe thead th {\n",
       "        text-align: right;\n",
       "    }\n",
       "</style>\n",
       "<table border=\"1\" class=\"dataframe\">\n",
       "  <thead>\n",
       "    <tr style=\"text-align: right;\">\n",
       "      <th></th>\n",
       "      <th>X005930</th>\n",
       "      <th>X302440</th>\n",
       "      <th>X326030</th>\n",
       "      <th>X011690</th>\n",
       "      <th>X322000</th>\n",
       "    </tr>\n",
       "  </thead>\n",
       "  <tbody>\n",
       "    <tr>\n",
       "      <th>X005930</th>\n",
       "      <td>0.015674</td>\n",
       "      <td>NaN</td>\n",
       "      <td>0.005973</td>\n",
       "      <td>0.026548</td>\n",
       "      <td>-0.003649</td>\n",
       "    </tr>\n",
       "    <tr>\n",
       "      <th>X302440</th>\n",
       "      <td>NaN</td>\n",
       "      <td>NaN</td>\n",
       "      <td>NaN</td>\n",
       "      <td>NaN</td>\n",
       "      <td>NaN</td>\n",
       "    </tr>\n",
       "    <tr>\n",
       "      <th>X326030</th>\n",
       "      <td>0.005973</td>\n",
       "      <td>NaN</td>\n",
       "      <td>0.015729</td>\n",
       "      <td>NaN</td>\n",
       "      <td>NaN</td>\n",
       "    </tr>\n",
       "    <tr>\n",
       "      <th>X011690</th>\n",
       "      <td>0.026548</td>\n",
       "      <td>NaN</td>\n",
       "      <td>NaN</td>\n",
       "      <td>0.201669</td>\n",
       "      <td>-0.031016</td>\n",
       "    </tr>\n",
       "    <tr>\n",
       "      <th>X322000</th>\n",
       "      <td>-0.003649</td>\n",
       "      <td>NaN</td>\n",
       "      <td>NaN</td>\n",
       "      <td>-0.031016</td>\n",
       "      <td>0.002517</td>\n",
       "    </tr>\n",
       "  </tbody>\n",
       "</table>\n",
       "</div>"
      ],
      "text/plain": [
       "          X005930  X302440   X326030   X011690   X322000\n",
       "X005930  0.015674      NaN  0.005973  0.026548 -0.003649\n",
       "X302440       NaN      NaN       NaN       NaN       NaN\n",
       "X326030  0.005973      NaN  0.015729       NaN       NaN\n",
       "X011690  0.026548      NaN       NaN  0.201669 -0.031016\n",
       "X322000 -0.003649      NaN       NaN -0.031016  0.002517"
      ]
     },
     "execution_count": 47,
     "metadata": {},
     "output_type": "execute_result"
    }
   ],
   "source": [
    "small_X_df.cov(min_periods=2)"
   ]
  },
  {
   "cell_type": "code",
   "execution_count": 48,
   "metadata": {},
   "outputs": [],
   "source": [
    "X_df = pd.DataFrame(X, columns=asset.columns)"
   ]
  },
  {
   "cell_type": "code",
   "execution_count": null,
   "metadata": {},
   "outputs": [],
   "source": []
  },
  {
   "cell_type": "code",
   "execution_count": 49,
   "metadata": {},
   "outputs": [
    {
     "data": {
      "text/plain": [
       "array([[ 0.01567384,         nan,  0.00597275,  0.02654771, -0.00364885],\n",
       "       [        nan,         nan,         nan,         nan,         nan],\n",
       "       [ 0.00597275,         nan,  0.01572865,         nan,         nan],\n",
       "       [ 0.02654771,         nan,         nan,  0.20166854, -0.03101595],\n",
       "       [-0.00364885,         nan,         nan, -0.03101595,  0.00251723]])"
      ]
     },
     "execution_count": 49,
     "metadata": {},
     "output_type": "execute_result"
    }
   ],
   "source": [
    "small_Q = small_X_df.cov(min_periods=2).to_numpy()\n",
    "small_Q"
   ]
  },
  {
   "cell_type": "code",
   "execution_count": 50,
   "metadata": {},
   "outputs": [
    {
     "data": {
      "text/plain": [
       "(5, 5)"
      ]
     },
     "execution_count": 50,
     "metadata": {},
     "output_type": "execute_result"
    }
   ],
   "source": [
    "small_Q.shape"
   ]
  },
  {
   "cell_type": "code",
   "execution_count": 51,
   "metadata": {},
   "outputs": [],
   "source": [
    "Q = X_df.cov(min_periods=2).to_numpy()"
   ]
  },
  {
   "cell_type": "code",
   "execution_count": 52,
   "metadata": {},
   "outputs": [
    {
     "data": {
      "text/plain": [
       "277888"
      ]
     },
     "execution_count": 52,
     "metadata": {},
     "output_type": "execute_result"
    }
   ],
   "source": [
    "np.isnan(Q).sum()  "
   ]
  },
  {
   "cell_type": "code",
   "execution_count": null,
   "metadata": {},
   "outputs": [],
   "source": []
  },
  {
   "cell_type": "code",
   "execution_count": 53,
   "metadata": {},
   "outputs": [
    {
     "data": {
      "text/plain": [
       "(5, 1)"
      ]
     },
     "execution_count": 53,
     "metadata": {},
     "output_type": "execute_result"
    }
   ],
   "source": [
    "small_r = np.mean(small_X, axis=0)\n",
    "small_r = small_r.reshape(-1, 1)\n",
    "small_r.shape\n"
   ]
  },
  {
   "cell_type": "code",
   "execution_count": 54,
   "metadata": {},
   "outputs": [],
   "source": [
    "r = np.mean(X, axis=0) # 기대값 (수익률 평균)\n",
    "r = r.reshape(-1, 1)"
   ]
  },
  {
   "cell_type": "code",
   "execution_count": null,
   "metadata": {},
   "outputs": [],
   "source": []
  },
  {
   "cell_type": "code",
   "execution_count": 55,
   "metadata": {},
   "outputs": [
    {
     "data": {
      "text/plain": [
       "array([[1.],\n",
       "       [1.],\n",
       "       [1.],\n",
       "       [1.],\n",
       "       [1.]])"
      ]
     },
     "execution_count": 55,
     "metadata": {},
     "output_type": "execute_result"
    }
   ],
   "source": [
    "small_l = np.ones(small_r.shape)\n",
    "small_l"
   ]
  },
  {
   "cell_type": "code",
   "execution_count": 56,
   "metadata": {},
   "outputs": [
    {
     "data": {
      "text/plain": [
       "(5, 1)"
      ]
     },
     "execution_count": 56,
     "metadata": {},
     "output_type": "execute_result"
    }
   ],
   "source": [
    "small_l.shape"
   ]
  },
  {
   "cell_type": "code",
   "execution_count": 57,
   "metadata": {},
   "outputs": [],
   "source": [
    "l = np.ones(r.shape) # 1 벡터"
   ]
  },
  {
   "cell_type": "code",
   "execution_count": null,
   "metadata": {},
   "outputs": [],
   "source": []
  },
  {
   "cell_type": "code",
   "execution_count": 58,
   "metadata": {},
   "outputs": [
    {
     "data": {
      "text/plain": [
       "array([[ 0.01567384,         nan,  0.00597275,  0.02654771, -0.00364885,\n",
       "         1.        ,  0.03183253],\n",
       "       [        nan,         nan,         nan,         nan,         nan,\n",
       "         1.        ,         nan],\n",
       "       [ 0.00597275,         nan,  0.01572865,         nan,         nan,\n",
       "         1.        ,         nan],\n",
       "       [ 0.02654771,         nan,         nan,  0.20166854, -0.03101595,\n",
       "         1.        ,         nan],\n",
       "       [-0.00364885,         nan,         nan, -0.03101595,  0.00251723,\n",
       "         1.        ,         nan]])"
      ]
     },
     "execution_count": 58,
     "metadata": {},
     "output_type": "execute_result"
    }
   ],
   "source": [
    "small_Q_l_r = np.hstack([small_Q, small_l, small_r])\n",
    "small_Q_l_r"
   ]
  },
  {
   "cell_type": "code",
   "execution_count": 59,
   "metadata": {},
   "outputs": [
    {
     "data": {
      "text/plain": [
       "(5, 7)"
      ]
     },
     "execution_count": 59,
     "metadata": {},
     "output_type": "execute_result"
    }
   ],
   "source": [
    "small_Q_l_r.shape"
   ]
  },
  {
   "cell_type": "code",
   "execution_count": 60,
   "metadata": {},
   "outputs": [],
   "source": [
    "Q_l_r = np.hstack([Q, l, r])"
   ]
  },
  {
   "cell_type": "code",
   "execution_count": null,
   "metadata": {},
   "outputs": [],
   "source": []
  },
  {
   "cell_type": "code",
   "execution_count": 61,
   "metadata": {},
   "outputs": [
    {
     "data": {
      "text/plain": [
       "array([[0.],\n",
       "       [0.],\n",
       "       [0.],\n",
       "       [0.],\n",
       "       [0.]])"
      ]
     },
     "execution_count": 61,
     "metadata": {},
     "output_type": "execute_result"
    }
   ],
   "source": [
    "small_zero = np.zeros(small_l.shape)\n",
    "small_zero"
   ]
  },
  {
   "cell_type": "code",
   "execution_count": 62,
   "metadata": {},
   "outputs": [],
   "source": [
    "zero = np.zeros(l.shape)"
   ]
  },
  {
   "cell_type": "code",
   "execution_count": null,
   "metadata": {},
   "outputs": [],
   "source": []
  },
  {
   "cell_type": "code",
   "execution_count": 63,
   "metadata": {},
   "outputs": [
    {
     "data": {
      "text/plain": [
       "array([[1., 1., 1., 1., 1., 0., 0.]])"
      ]
     },
     "execution_count": 63,
     "metadata": {},
     "output_type": "execute_result"
    }
   ],
   "source": [
    "small_l_0_0 = np.hstack([small_l.T, [[0]], [[0]]])\n",
    "small_l_0_0"
   ]
  },
  {
   "cell_type": "code",
   "execution_count": 64,
   "metadata": {},
   "outputs": [
    {
     "data": {
      "text/plain": [
       "(1, 7)"
      ]
     },
     "execution_count": 64,
     "metadata": {},
     "output_type": "execute_result"
    }
   ],
   "source": [
    "small_l_0_0.shape"
   ]
  },
  {
   "cell_type": "code",
   "execution_count": 65,
   "metadata": {},
   "outputs": [],
   "source": [
    "l_0_0 = np.hstack([l.T, [[0]], [[0]]])"
   ]
  },
  {
   "cell_type": "code",
   "execution_count": null,
   "metadata": {},
   "outputs": [],
   "source": []
  },
  {
   "cell_type": "code",
   "execution_count": 66,
   "metadata": {},
   "outputs": [
    {
     "data": {
      "text/plain": [
       "array([[0.03183253,        nan,        nan,        nan,        nan,\n",
       "        0.        , 0.        ]])"
      ]
     },
     "execution_count": 66,
     "metadata": {},
     "output_type": "execute_result"
    }
   ],
   "source": [
    "small_r_0_0 = np.hstack([small_r.T, [[0]], [[0]]])\n",
    "small_r_0_0"
   ]
  },
  {
   "cell_type": "code",
   "execution_count": 67,
   "metadata": {},
   "outputs": [
    {
     "data": {
      "text/plain": [
       "(1, 7)"
      ]
     },
     "execution_count": 67,
     "metadata": {},
     "output_type": "execute_result"
    }
   ],
   "source": [
    "small_r_0_0.shape"
   ]
  },
  {
   "cell_type": "code",
   "execution_count": 68,
   "metadata": {},
   "outputs": [],
   "source": [
    "r_0_0 = np.hstack([r.T, [[0]], [[0]]]) "
   ]
  },
  {
   "cell_type": "code",
   "execution_count": null,
   "metadata": {},
   "outputs": [],
   "source": []
  },
  {
   "cell_type": "code",
   "execution_count": 69,
   "metadata": {},
   "outputs": [
    {
     "data": {
      "text/plain": [
       "array([[ 0.01567384,         nan,  0.00597275,  0.02654771, -0.00364885,\n",
       "         1.        ,  0.03183253],\n",
       "       [        nan,         nan,         nan,         nan,         nan,\n",
       "         1.        ,         nan],\n",
       "       [ 0.00597275,         nan,  0.01572865,         nan,         nan,\n",
       "         1.        ,         nan],\n",
       "       [ 0.02654771,         nan,         nan,  0.20166854, -0.03101595,\n",
       "         1.        ,         nan],\n",
       "       [-0.00364885,         nan,         nan, -0.03101595,  0.00251723,\n",
       "         1.        ,         nan],\n",
       "       [ 1.        ,  1.        ,  1.        ,  1.        ,  1.        ,\n",
       "         0.        ,  0.        ],\n",
       "       [ 0.03183253,         nan,         nan,         nan,         nan,\n",
       "         0.        ,  0.        ]])"
      ]
     },
     "execution_count": 69,
     "metadata": {},
     "output_type": "execute_result"
    }
   ],
   "source": [
    "small_L = np.vstack([small_Q_l_r, small_l_0_0, small_r_0_0])\n",
    "small_L"
   ]
  },
  {
   "cell_type": "code",
   "execution_count": 70,
   "metadata": {},
   "outputs": [
    {
     "data": {
      "text/plain": [
       "(7, 7)"
      ]
     },
     "execution_count": 70,
     "metadata": {},
     "output_type": "execute_result"
    }
   ],
   "source": [
    "small_L.shape"
   ]
  },
  {
   "cell_type": "code",
   "execution_count": 71,
   "metadata": {},
   "outputs": [],
   "source": [
    "L = np.vstack([Q_l_r, l_0_0, r_0_0])"
   ]
  },
  {
   "cell_type": "code",
   "execution_count": null,
   "metadata": {},
   "outputs": [],
   "source": []
  },
  {
   "cell_type": "code",
   "execution_count": 72,
   "metadata": {},
   "outputs": [],
   "source": [
    "MU = 0.01 # 주어진 포트폴리오 수익률"
   ]
  },
  {
   "cell_type": "code",
   "execution_count": 73,
   "metadata": {},
   "outputs": [
    {
     "data": {
      "text/plain": [
       "-6.0143105726468836e-05"
      ]
     },
     "execution_count": 73,
     "metadata": {},
     "output_type": "execute_result"
    }
   ],
   "source": [
    "np.nanmean(r)"
   ]
  },
  {
   "cell_type": "code",
   "execution_count": null,
   "metadata": {},
   "outputs": [],
   "source": []
  },
  {
   "cell_type": "code",
   "execution_count": 74,
   "metadata": {},
   "outputs": [
    {
     "data": {
      "text/plain": [
       "array([[0.],\n",
       "       [0.],\n",
       "       [0.],\n",
       "       [0.],\n",
       "       [0.]])"
      ]
     },
     "execution_count": 74,
     "metadata": {},
     "output_type": "execute_result"
    }
   ],
   "source": [
    "small_zero = np.zeros(small_l.shape)\n",
    "small_zero"
   ]
  },
  {
   "cell_type": "code",
   "execution_count": 75,
   "metadata": {},
   "outputs": [],
   "source": [
    "zero = np.zeros(l.shape)"
   ]
  },
  {
   "cell_type": "code",
   "execution_count": null,
   "metadata": {},
   "outputs": [],
   "source": []
  },
  {
   "cell_type": "code",
   "execution_count": 76,
   "metadata": {},
   "outputs": [
    {
     "data": {
      "text/plain": [
       "array([[0.  ],\n",
       "       [0.  ],\n",
       "       [0.  ],\n",
       "       [0.  ],\n",
       "       [0.  ],\n",
       "       [0.  ],\n",
       "       [0.01]])"
      ]
     },
     "execution_count": 76,
     "metadata": {},
     "output_type": "execute_result"
    }
   ],
   "source": [
    "small_zero_l_mu = np.vstack([small_zero, [[0]], [[MU]]])\n",
    "small_zero_l_mu"
   ]
  },
  {
   "cell_type": "code",
   "execution_count": 77,
   "metadata": {},
   "outputs": [],
   "source": [
    "zero_l_mu = np.vstack([zero, [[0]], [[MU]]])"
   ]
  },
  {
   "cell_type": "code",
   "execution_count": null,
   "metadata": {},
   "outputs": [],
   "source": []
  },
  {
   "cell_type": "code",
   "execution_count": 78,
   "metadata": {},
   "outputs": [
    {
     "data": {
      "text/plain": [
       "(7, 7)"
      ]
     },
     "execution_count": 78,
     "metadata": {},
     "output_type": "execute_result"
    }
   ],
   "source": [
    "small_L_inv = np.linalg.inv(small_L)\n",
    "small_L_inv.shape"
   ]
  },
  {
   "cell_type": "code",
   "execution_count": 79,
   "metadata": {},
   "outputs": [],
   "source": [
    "L_inv = np.linalg.inv(L)"
   ]
  },
  {
   "cell_type": "code",
   "execution_count": null,
   "metadata": {},
   "outputs": [],
   "source": []
  },
  {
   "cell_type": "code",
   "execution_count": 80,
   "metadata": {},
   "outputs": [
    {
     "data": {
      "text/plain": [
       "array([[nan],\n",
       "       [nan],\n",
       "       [nan],\n",
       "       [nan],\n",
       "       [nan],\n",
       "       [nan],\n",
       "       [nan]])"
      ]
     },
     "execution_count": 80,
     "metadata": {},
     "output_type": "execute_result"
    }
   ],
   "source": [
    "small_w_lmda1_lmda2 = small_L_inv @ small_zero_l_mu\n",
    "small_w_lmda1_lmda2"
   ]
  },
  {
   "cell_type": "code",
   "execution_count": 81,
   "metadata": {},
   "outputs": [],
   "source": [
    "w_lmda1_lmda2 = L_inv @ zero_l_mu"
   ]
  },
  {
   "cell_type": "code",
   "execution_count": null,
   "metadata": {},
   "outputs": [],
   "source": []
  },
  {
   "cell_type": "code",
   "execution_count": 82,
   "metadata": {},
   "outputs": [],
   "source": [
    "small_w = small_w_lmda1_lmda2[:-2]\n",
    "lmda1 = small_w_lmda1_lmda2[-2]\n",
    "lmda2 = small_w_lmda1_lmda2[-1]"
   ]
  },
  {
   "cell_type": "code",
   "execution_count": 83,
   "metadata": {},
   "outputs": [],
   "source": [
    "w = w_lmda1_lmda2[:-2]"
   ]
  },
  {
   "cell_type": "code",
   "execution_count": 84,
   "metadata": {},
   "outputs": [],
   "source": [
    "lmda1 = w_lmda1_lmda2[-2]\n",
    "lmda2 = w_lmda1_lmda2[-1]"
   ]
  },
  {
   "cell_type": "code",
   "execution_count": 85,
   "metadata": {},
   "outputs": [
    {
     "data": {
      "text/plain": [
       "array([[nan]])"
      ]
     },
     "execution_count": 85,
     "metadata": {},
     "output_type": "execute_result"
    }
   ],
   "source": [
    "small_var = small_w.T @ small_Q @ small_w\n",
    "small_var"
   ]
  },
  {
   "cell_type": "code",
   "execution_count": 86,
   "metadata": {},
   "outputs": [
    {
     "data": {
      "text/plain": [
       "array([[nan]])"
      ]
     },
     "execution_count": 86,
     "metadata": {},
     "output_type": "execute_result"
    }
   ],
   "source": [
    "var = w.T @ Q @ w\n",
    "var"
   ]
  },
  {
   "cell_type": "code",
   "execution_count": null,
   "metadata": {},
   "outputs": [],
   "source": []
  },
  {
   "cell_type": "code",
   "execution_count": 4,
   "metadata": {},
   "outputs": [
    {
     "ename": "TypeError",
     "evalue": "loop of ufunc does not support argument 0 of type NoneType which has no callable sqrt method",
     "output_type": "error",
     "traceback": [
      "\u001b[1;31m---------------------------------------------------------------------------\u001b[0m",
      "\u001b[1;31mAttributeError\u001b[0m                            Traceback (most recent call last)",
      "\u001b[1;31mAttributeError\u001b[0m: 'NoneType' object has no attribute 'sqrt'",
      "\nThe above exception was the direct cause of the following exception:\n",
      "\u001b[1;31mTypeError\u001b[0m                                 Traceback (most recent call last)",
      "Cell \u001b[1;32mIn[4], line 7\u001b[0m\n\u001b[0;32m      5\u001b[0m mu \u001b[38;5;241m=\u001b[39m \u001b[38;5;28;01mNone\u001b[39;00m \u001b[38;5;66;03m# 포트폴리오 P의 기대수익률\u001b[39;00m\n\u001b[0;32m      6\u001b[0m var \u001b[38;5;241m=\u001b[39m \u001b[38;5;28;01mNone\u001b[39;00m \u001b[38;5;66;03m# 포트폴리오 P의 분산\u001b[39;00m\n\u001b[1;32m----> 7\u001b[0m sigma \u001b[38;5;241m=\u001b[39m \u001b[43mnp\u001b[49m\u001b[38;5;241;43m.\u001b[39;49m\u001b[43msqrt\u001b[49m\u001b[43m(\u001b[49m\u001b[43mvar\u001b[49m\u001b[43m)\u001b[49m \u001b[38;5;66;03m# 포트폴리오 P의 표준편차\u001b[39;00m\n",
      "\u001b[1;31mTypeError\u001b[0m: loop of ufunc does not support argument 0 of type NoneType which has no callable sqrt method"
     ]
    }
   ],
   "source": [
    "# 2. \n",
    "\n",
    "w = None # 포트폴리오 비중\n",
    "\n",
    "mu = None # 포트폴리오 P의 기대수익률\n",
    "var = None # 포트폴리오 P의 분산\n",
    "sigma = np.sqrt(var) # 포트폴리오 P의 표준편차"
   ]
  },
  {
   "cell_type": "code",
   "execution_count": 5,
   "metadata": {},
   "outputs": [],
   "source": [
    "# 3. \n",
    "\n",
    "objective = None # 목적함수"
   ]
  },
  {
   "cell_type": "code",
   "execution_count": 6,
   "metadata": {},
   "outputs": [],
   "source": [
    "# 4. \n",
    "\n",
    "Lagrangian = None # 라그랑지안 편미분 행렬"
   ]
  },
  {
   "cell_type": "markdown",
   "metadata": {},
   "source": [
    "### (1) `MVportfolio` "
   ]
  },
  {
   "cell_type": "code",
   "execution_count": null,
   "metadata": {},
   "outputs": [],
   "source": [
    "def MVportfolio(asset, mu_p):\n",
    "    price_2d = price.to_numpy()\n",
    "\n",
    "    # 1. \n",
    "\n",
    "    X = None # 수익률 (수익률은 log 차분 수익률로 계산)\n",
    "    Q = None # 공분산 행렬\n",
    "    r = None # 기대값 (수익률 평균)\n",
    "\n",
    "    asset = None # k개의 자산 별 가격을 m일 동안 수집한 mxk 의 dataframe\n",
    "    w = None # k개의 자산 별 가중치\n",
    "    var = None # 포트폴리오 P의 분산\n",
    "\n",
    "    return asset, w, var"
   ]
  },
  {
   "cell_type": "markdown",
   "metadata": {},
   "source": [
    "### (2) Efficient Frontier"
   ]
  },
  {
   "cell_type": "code",
   "execution_count": 7,
   "metadata": {},
   "outputs": [
    {
     "data": {
      "text/html": [
       "<div>\n",
       "<style scoped>\n",
       "    .dataframe tbody tr th:only-of-type {\n",
       "        vertical-align: middle;\n",
       "    }\n",
       "\n",
       "    .dataframe tbody tr th {\n",
       "        vertical-align: top;\n",
       "    }\n",
       "\n",
       "    .dataframe thead th {\n",
       "        text-align: right;\n",
       "    }\n",
       "</style>\n",
       "<table border=\"1\" class=\"dataframe\">\n",
       "  <thead>\n",
       "    <tr style=\"text-align: right;\">\n",
       "      <th></th>\n",
       "      <th>Date</th>\n",
       "      <th>AAPL</th>\n",
       "      <th>GOOG</th>\n",
       "      <th>MSFT</th>\n",
       "      <th>IBM</th>\n",
       "      <th>T</th>\n",
       "    </tr>\n",
       "  </thead>\n",
       "  <tbody>\n",
       "    <tr>\n",
       "      <th>0</th>\n",
       "      <td>2018-01-02</td>\n",
       "      <td>169.714086</td>\n",
       "      <td>1065.00</td>\n",
       "      <td>84.484767</td>\n",
       "      <td>147.537554</td>\n",
       "      <td>36.382354</td>\n",
       "    </tr>\n",
       "    <tr>\n",
       "      <th>1</th>\n",
       "      <td>2018-01-03</td>\n",
       "      <td>169.684530</td>\n",
       "      <td>1082.48</td>\n",
       "      <td>84.877948</td>\n",
       "      <td>151.593043</td>\n",
       "      <td>35.542180</td>\n",
       "    </tr>\n",
       "    <tr>\n",
       "      <th>2</th>\n",
       "      <td>2018-01-04</td>\n",
       "      <td>170.472706</td>\n",
       "      <td>1086.40</td>\n",
       "      <td>85.624992</td>\n",
       "      <td>154.663355</td>\n",
       "      <td>35.872586</td>\n",
       "    </tr>\n",
       "    <tr>\n",
       "      <th>3</th>\n",
       "      <td>2018-01-05</td>\n",
       "      <td>172.413591</td>\n",
       "      <td>1102.23</td>\n",
       "      <td>86.686581</td>\n",
       "      <td>155.418977</td>\n",
       "      <td>36.004748</td>\n",
       "    </tr>\n",
       "    <tr>\n",
       "      <th>4</th>\n",
       "      <td>2018-01-08</td>\n",
       "      <td>171.773197</td>\n",
       "      <td>1106.94</td>\n",
       "      <td>86.775047</td>\n",
       "      <td>156.356330</td>\n",
       "      <td>36.108590</td>\n",
       "    </tr>\n",
       "    <tr>\n",
       "      <th>...</th>\n",
       "      <td>...</td>\n",
       "      <td>...</td>\n",
       "      <td>...</td>\n",
       "      <td>...</td>\n",
       "      <td>...</td>\n",
       "      <td>...</td>\n",
       "    </tr>\n",
       "    <tr>\n",
       "      <th>227</th>\n",
       "      <td>2018-11-26</td>\n",
       "      <td>174.620000</td>\n",
       "      <td>1048.62</td>\n",
       "      <td>106.470000</td>\n",
       "      <td>119.560000</td>\n",
       "      <td>29.950000</td>\n",
       "    </tr>\n",
       "    <tr>\n",
       "      <th>228</th>\n",
       "      <td>2018-11-27</td>\n",
       "      <td>174.240000</td>\n",
       "      <td>1044.41</td>\n",
       "      <td>107.140000</td>\n",
       "      <td>120.030000</td>\n",
       "      <td>30.440000</td>\n",
       "    </tr>\n",
       "    <tr>\n",
       "      <th>229</th>\n",
       "      <td>2018-11-28</td>\n",
       "      <td>180.940000</td>\n",
       "      <td>1086.23</td>\n",
       "      <td>111.120000</td>\n",
       "      <td>123.000000</td>\n",
       "      <td>30.740000</td>\n",
       "    </tr>\n",
       "    <tr>\n",
       "      <th>230</th>\n",
       "      <td>2018-11-29</td>\n",
       "      <td>179.550000</td>\n",
       "      <td>1088.30</td>\n",
       "      <td>110.190000</td>\n",
       "      <td>121.480000</td>\n",
       "      <td>30.570000</td>\n",
       "    </tr>\n",
       "    <tr>\n",
       "      <th>231</th>\n",
       "      <td>2018-11-30</td>\n",
       "      <td>178.580000</td>\n",
       "      <td>1094.43</td>\n",
       "      <td>110.890000</td>\n",
       "      <td>124.270000</td>\n",
       "      <td>31.240000</td>\n",
       "    </tr>\n",
       "  </tbody>\n",
       "</table>\n",
       "<p>232 rows × 6 columns</p>\n",
       "</div>"
      ],
      "text/plain": [
       "           Date        AAPL     GOOG        MSFT         IBM          T\n",
       "0    2018-01-02  169.714086  1065.00   84.484767  147.537554  36.382354\n",
       "1    2018-01-03  169.684530  1082.48   84.877948  151.593043  35.542180\n",
       "2    2018-01-04  170.472706  1086.40   85.624992  154.663355  35.872586\n",
       "3    2018-01-05  172.413591  1102.23   86.686581  155.418977  36.004748\n",
       "4    2018-01-08  171.773197  1106.94   86.775047  156.356330  36.108590\n",
       "..          ...         ...      ...         ...         ...        ...\n",
       "227  2018-11-26  174.620000  1048.62  106.470000  119.560000  29.950000\n",
       "228  2018-11-27  174.240000  1044.41  107.140000  120.030000  30.440000\n",
       "229  2018-11-28  180.940000  1086.23  111.120000  123.000000  30.740000\n",
       "230  2018-11-29  179.550000  1088.30  110.190000  121.480000  30.570000\n",
       "231  2018-11-30  178.580000  1094.43  110.890000  124.270000  31.240000\n",
       "\n",
       "[232 rows x 6 columns]"
      ]
     },
     "execution_count": 7,
     "metadata": {},
     "output_type": "execute_result"
    }
   ],
   "source": [
    "it = pd.read_csv('it.csv')\n",
    "it"
   ]
  },
  {
   "cell_type": "markdown",
   "metadata": {},
   "source": [
    "## 2. Momentum"
   ]
  },
  {
   "cell_type": "code",
   "execution_count": null,
   "metadata": {},
   "outputs": [],
   "source": []
  },
  {
   "cell_type": "markdown",
   "metadata": {},
   "source": [
    "## 3. Monte-Carlo Simulation"
   ]
  },
  {
   "cell_type": "code",
   "execution_count": null,
   "metadata": {},
   "outputs": [],
   "source": []
  }
 ],
 "metadata": {
  "kernelspec": {
   "display_name": ".venv",
   "language": "python",
   "name": "python3"
  },
  "language_info": {
   "codemirror_mode": {
    "name": "ipython",
    "version": 3
   },
   "file_extension": ".py",
   "mimetype": "text/x-python",
   "name": "python",
   "nbconvert_exporter": "python",
   "pygments_lexer": "ipython3",
   "version": "3.11.5"
  }
 },
 "nbformat": 4,
 "nbformat_minor": 2
}
