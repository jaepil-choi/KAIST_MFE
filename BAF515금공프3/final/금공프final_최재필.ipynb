{
 "cells": [
  {
   "cell_type": "markdown",
   "metadata": {},
   "source": [
    "# 금공프3 Final\n",
    "\n",
    "20249433 MFE 최재필"
   ]
  },
  {
   "cell_type": "code",
   "execution_count": 1,
   "metadata": {},
   "outputs": [],
   "source": [
    "import numpy as np\n",
    "import pandas as pd"
   ]
  },
  {
   "cell_type": "markdown",
   "metadata": {},
   "source": [
    "## 1. Mean-Variance Optimization"
   ]
  },
  {
   "cell_type": "code",
   "execution_count": 3,
   "metadata": {},
   "outputs": [],
   "source": [
    "# 1. \n",
    "\n",
    "X = None # 수익률 \n",
    "Q = None # 공분산 행렬\n",
    "r = None # 기대값"
   ]
  },
  {
   "cell_type": "code",
   "execution_count": 4,
   "metadata": {},
   "outputs": [
    {
     "ename": "TypeError",
     "evalue": "loop of ufunc does not support argument 0 of type NoneType which has no callable sqrt method",
     "output_type": "error",
     "traceback": [
      "\u001b[1;31m---------------------------------------------------------------------------\u001b[0m",
      "\u001b[1;31mAttributeError\u001b[0m                            Traceback (most recent call last)",
      "\u001b[1;31mAttributeError\u001b[0m: 'NoneType' object has no attribute 'sqrt'",
      "\nThe above exception was the direct cause of the following exception:\n",
      "\u001b[1;31mTypeError\u001b[0m                                 Traceback (most recent call last)",
      "Cell \u001b[1;32mIn[4], line 7\u001b[0m\n\u001b[0;32m      5\u001b[0m mu \u001b[38;5;241m=\u001b[39m \u001b[38;5;28;01mNone\u001b[39;00m \u001b[38;5;66;03m# 포트폴리오 P의 기대수익률\u001b[39;00m\n\u001b[0;32m      6\u001b[0m var \u001b[38;5;241m=\u001b[39m \u001b[38;5;28;01mNone\u001b[39;00m \u001b[38;5;66;03m# 포트폴리오 P의 분산\u001b[39;00m\n\u001b[1;32m----> 7\u001b[0m sigma \u001b[38;5;241m=\u001b[39m \u001b[43mnp\u001b[49m\u001b[38;5;241;43m.\u001b[39;49m\u001b[43msqrt\u001b[49m\u001b[43m(\u001b[49m\u001b[43mvar\u001b[49m\u001b[43m)\u001b[49m \u001b[38;5;66;03m# 포트폴리오 P의 표준편차\u001b[39;00m\n",
      "\u001b[1;31mTypeError\u001b[0m: loop of ufunc does not support argument 0 of type NoneType which has no callable sqrt method"
     ]
    }
   ],
   "source": [
    "# 2. \n",
    "\n",
    "w = None # 포트폴리오 비중\n",
    "\n",
    "mu = None # 포트폴리오 P의 기대수익률\n",
    "var = None # 포트폴리오 P의 분산\n",
    "sigma = np.sqrt(var) # 포트폴리오 P의 표준편차"
   ]
  },
  {
   "cell_type": "code",
   "execution_count": 5,
   "metadata": {},
   "outputs": [],
   "source": [
    "# 3. \n",
    "\n",
    "objective = None # 목적함수"
   ]
  },
  {
   "cell_type": "code",
   "execution_count": 6,
   "metadata": {},
   "outputs": [],
   "source": [
    "# 4. \n",
    "\n",
    "Lagrangian = None # 라그랑지안 편미분 행렬"
   ]
  },
  {
   "cell_type": "markdown",
   "metadata": {},
   "source": [
    "### (1) `MVportfolio` "
   ]
  },
  {
   "cell_type": "code",
   "execution_count": null,
   "metadata": {},
   "outputs": [],
   "source": [
    "def MVportfolio():\n",
    "    ## 수익률은 log 차분 수익률로 계산\n",
    "\n",
    "    asset = None # k개의 자산 별 가격을 m일 동안 수집한 mxk 의 dataframe\n",
    "    w = None # k개의 자산 별 가중치\n",
    "    var = None # 포트폴리오 P의 분산\n",
    "\n",
    "    return asset, w, var"
   ]
  },
  {
   "cell_type": "markdown",
   "metadata": {},
   "source": [
    "### (2) Efficient Frontier"
   ]
  },
  {
   "cell_type": "code",
   "execution_count": 7,
   "metadata": {},
   "outputs": [
    {
     "data": {
      "text/html": [
       "<div>\n",
       "<style scoped>\n",
       "    .dataframe tbody tr th:only-of-type {\n",
       "        vertical-align: middle;\n",
       "    }\n",
       "\n",
       "    .dataframe tbody tr th {\n",
       "        vertical-align: top;\n",
       "    }\n",
       "\n",
       "    .dataframe thead th {\n",
       "        text-align: right;\n",
       "    }\n",
       "</style>\n",
       "<table border=\"1\" class=\"dataframe\">\n",
       "  <thead>\n",
       "    <tr style=\"text-align: right;\">\n",
       "      <th></th>\n",
       "      <th>Date</th>\n",
       "      <th>AAPL</th>\n",
       "      <th>GOOG</th>\n",
       "      <th>MSFT</th>\n",
       "      <th>IBM</th>\n",
       "      <th>T</th>\n",
       "    </tr>\n",
       "  </thead>\n",
       "  <tbody>\n",
       "    <tr>\n",
       "      <th>0</th>\n",
       "      <td>2018-01-02</td>\n",
       "      <td>169.714086</td>\n",
       "      <td>1065.00</td>\n",
       "      <td>84.484767</td>\n",
       "      <td>147.537554</td>\n",
       "      <td>36.382354</td>\n",
       "    </tr>\n",
       "    <tr>\n",
       "      <th>1</th>\n",
       "      <td>2018-01-03</td>\n",
       "      <td>169.684530</td>\n",
       "      <td>1082.48</td>\n",
       "      <td>84.877948</td>\n",
       "      <td>151.593043</td>\n",
       "      <td>35.542180</td>\n",
       "    </tr>\n",
       "    <tr>\n",
       "      <th>2</th>\n",
       "      <td>2018-01-04</td>\n",
       "      <td>170.472706</td>\n",
       "      <td>1086.40</td>\n",
       "      <td>85.624992</td>\n",
       "      <td>154.663355</td>\n",
       "      <td>35.872586</td>\n",
       "    </tr>\n",
       "    <tr>\n",
       "      <th>3</th>\n",
       "      <td>2018-01-05</td>\n",
       "      <td>172.413591</td>\n",
       "      <td>1102.23</td>\n",
       "      <td>86.686581</td>\n",
       "      <td>155.418977</td>\n",
       "      <td>36.004748</td>\n",
       "    </tr>\n",
       "    <tr>\n",
       "      <th>4</th>\n",
       "      <td>2018-01-08</td>\n",
       "      <td>171.773197</td>\n",
       "      <td>1106.94</td>\n",
       "      <td>86.775047</td>\n",
       "      <td>156.356330</td>\n",
       "      <td>36.108590</td>\n",
       "    </tr>\n",
       "    <tr>\n",
       "      <th>...</th>\n",
       "      <td>...</td>\n",
       "      <td>...</td>\n",
       "      <td>...</td>\n",
       "      <td>...</td>\n",
       "      <td>...</td>\n",
       "      <td>...</td>\n",
       "    </tr>\n",
       "    <tr>\n",
       "      <th>227</th>\n",
       "      <td>2018-11-26</td>\n",
       "      <td>174.620000</td>\n",
       "      <td>1048.62</td>\n",
       "      <td>106.470000</td>\n",
       "      <td>119.560000</td>\n",
       "      <td>29.950000</td>\n",
       "    </tr>\n",
       "    <tr>\n",
       "      <th>228</th>\n",
       "      <td>2018-11-27</td>\n",
       "      <td>174.240000</td>\n",
       "      <td>1044.41</td>\n",
       "      <td>107.140000</td>\n",
       "      <td>120.030000</td>\n",
       "      <td>30.440000</td>\n",
       "    </tr>\n",
       "    <tr>\n",
       "      <th>229</th>\n",
       "      <td>2018-11-28</td>\n",
       "      <td>180.940000</td>\n",
       "      <td>1086.23</td>\n",
       "      <td>111.120000</td>\n",
       "      <td>123.000000</td>\n",
       "      <td>30.740000</td>\n",
       "    </tr>\n",
       "    <tr>\n",
       "      <th>230</th>\n",
       "      <td>2018-11-29</td>\n",
       "      <td>179.550000</td>\n",
       "      <td>1088.30</td>\n",
       "      <td>110.190000</td>\n",
       "      <td>121.480000</td>\n",
       "      <td>30.570000</td>\n",
       "    </tr>\n",
       "    <tr>\n",
       "      <th>231</th>\n",
       "      <td>2018-11-30</td>\n",
       "      <td>178.580000</td>\n",
       "      <td>1094.43</td>\n",
       "      <td>110.890000</td>\n",
       "      <td>124.270000</td>\n",
       "      <td>31.240000</td>\n",
       "    </tr>\n",
       "  </tbody>\n",
       "</table>\n",
       "<p>232 rows × 6 columns</p>\n",
       "</div>"
      ],
      "text/plain": [
       "           Date        AAPL     GOOG        MSFT         IBM          T\n",
       "0    2018-01-02  169.714086  1065.00   84.484767  147.537554  36.382354\n",
       "1    2018-01-03  169.684530  1082.48   84.877948  151.593043  35.542180\n",
       "2    2018-01-04  170.472706  1086.40   85.624992  154.663355  35.872586\n",
       "3    2018-01-05  172.413591  1102.23   86.686581  155.418977  36.004748\n",
       "4    2018-01-08  171.773197  1106.94   86.775047  156.356330  36.108590\n",
       "..          ...         ...      ...         ...         ...        ...\n",
       "227  2018-11-26  174.620000  1048.62  106.470000  119.560000  29.950000\n",
       "228  2018-11-27  174.240000  1044.41  107.140000  120.030000  30.440000\n",
       "229  2018-11-28  180.940000  1086.23  111.120000  123.000000  30.740000\n",
       "230  2018-11-29  179.550000  1088.30  110.190000  121.480000  30.570000\n",
       "231  2018-11-30  178.580000  1094.43  110.890000  124.270000  31.240000\n",
       "\n",
       "[232 rows x 6 columns]"
      ]
     },
     "execution_count": 7,
     "metadata": {},
     "output_type": "execute_result"
    }
   ],
   "source": [
    "it = pd.read_csv('it.csv')\n",
    "it"
   ]
  },
  {
   "cell_type": "markdown",
   "metadata": {},
   "source": [
    "## 2. Momentum"
   ]
  },
  {
   "cell_type": "code",
   "execution_count": null,
   "metadata": {},
   "outputs": [],
   "source": []
  },
  {
   "cell_type": "markdown",
   "metadata": {},
   "source": [
    "## 3. Monte-Carlo Simulation"
   ]
  },
  {
   "cell_type": "code",
   "execution_count": null,
   "metadata": {},
   "outputs": [],
   "source": []
  }
 ],
 "metadata": {
  "kernelspec": {
   "display_name": ".venv",
   "language": "python",
   "name": "python3"
  },
  "language_info": {
   "codemirror_mode": {
    "name": "ipython",
    "version": 3
   },
   "file_extension": ".py",
   "mimetype": "text/x-python",
   "name": "python",
   "nbconvert_exporter": "python",
   "pygments_lexer": "ipython3",
   "version": "3.11.5"
  }
 },
 "nbformat": 4,
 "nbformat_minor": 2
}
