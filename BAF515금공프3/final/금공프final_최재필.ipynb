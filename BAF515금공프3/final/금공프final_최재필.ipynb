{
 "cells": [
  {
   "cell_type": "markdown",
   "metadata": {},
   "source": [
    "# 금공프3 Final\n",
    "\n",
    "20249433 MFE 최재필"
   ]
  },
  {
   "cell_type": "code",
   "execution_count": 1,
   "metadata": {},
   "outputs": [],
   "source": [
    "import numpy as np\n",
    "import pandas as pd\n",
    "\n",
    "import matplotlib.pyplot as plt\n",
    "\n",
    "import math\n",
    "import random"
   ]
  },
  {
   "cell_type": "markdown",
   "metadata": {},
   "source": [
    "## 1. Mean-Variance Optimization"
   ]
  },
  {
   "cell_type": "code",
   "execution_count": 2,
   "metadata": {},
   "outputs": [
    {
     "data": {
      "text/html": [
       "<div>\n",
       "<style scoped>\n",
       "    .dataframe tbody tr th:only-of-type {\n",
       "        vertical-align: middle;\n",
       "    }\n",
       "\n",
       "    .dataframe tbody tr th {\n",
       "        vertical-align: top;\n",
       "    }\n",
       "\n",
       "    .dataframe thead th {\n",
       "        text-align: right;\n",
       "    }\n",
       "</style>\n",
       "<table border=\"1\" class=\"dataframe\">\n",
       "  <thead>\n",
       "    <tr style=\"text-align: right;\">\n",
       "      <th></th>\n",
       "      <th>AAPL</th>\n",
       "      <th>GOOG</th>\n",
       "      <th>MSFT</th>\n",
       "      <th>IBM</th>\n",
       "      <th>T</th>\n",
       "    </tr>\n",
       "    <tr>\n",
       "      <th>Date</th>\n",
       "      <th></th>\n",
       "      <th></th>\n",
       "      <th></th>\n",
       "      <th></th>\n",
       "      <th></th>\n",
       "    </tr>\n",
       "  </thead>\n",
       "  <tbody>\n",
       "    <tr>\n",
       "      <th>2018-01-02</th>\n",
       "      <td>169.714086</td>\n",
       "      <td>1065.00</td>\n",
       "      <td>84.484767</td>\n",
       "      <td>147.537554</td>\n",
       "      <td>36.382354</td>\n",
       "    </tr>\n",
       "    <tr>\n",
       "      <th>2018-01-03</th>\n",
       "      <td>169.684530</td>\n",
       "      <td>1082.48</td>\n",
       "      <td>84.877948</td>\n",
       "      <td>151.593043</td>\n",
       "      <td>35.542180</td>\n",
       "    </tr>\n",
       "    <tr>\n",
       "      <th>2018-01-04</th>\n",
       "      <td>170.472706</td>\n",
       "      <td>1086.40</td>\n",
       "      <td>85.624992</td>\n",
       "      <td>154.663355</td>\n",
       "      <td>35.872586</td>\n",
       "    </tr>\n",
       "    <tr>\n",
       "      <th>2018-01-05</th>\n",
       "      <td>172.413591</td>\n",
       "      <td>1102.23</td>\n",
       "      <td>86.686581</td>\n",
       "      <td>155.418977</td>\n",
       "      <td>36.004748</td>\n",
       "    </tr>\n",
       "    <tr>\n",
       "      <th>2018-01-08</th>\n",
       "      <td>171.773197</td>\n",
       "      <td>1106.94</td>\n",
       "      <td>86.775047</td>\n",
       "      <td>156.356330</td>\n",
       "      <td>36.108590</td>\n",
       "    </tr>\n",
       "  </tbody>\n",
       "</table>\n",
       "</div>"
      ],
      "text/plain": [
       "                  AAPL     GOOG       MSFT         IBM          T\n",
       "Date                                                             \n",
       "2018-01-02  169.714086  1065.00  84.484767  147.537554  36.382354\n",
       "2018-01-03  169.684530  1082.48  84.877948  151.593043  35.542180\n",
       "2018-01-04  170.472706  1086.40  85.624992  154.663355  35.872586\n",
       "2018-01-05  172.413591  1102.23  86.686581  155.418977  36.004748\n",
       "2018-01-08  171.773197  1106.94  86.775047  156.356330  36.108590"
      ]
     },
     "execution_count": 2,
     "metadata": {},
     "output_type": "execute_result"
    }
   ],
   "source": [
    "asset = pd.read_csv('it.csv')\n",
    "asset.set_index('Date', inplace=True)\n",
    "asset.head() # 다행히 데이터에 nan이 없다."
   ]
  },
  {
   "cell_type": "code",
   "execution_count": 3,
   "metadata": {},
   "outputs": [
    {
     "data": {
      "text/plain": [
       "(232, 5)"
      ]
     },
     "execution_count": 3,
     "metadata": {},
     "output_type": "execute_result"
    }
   ],
   "source": [
    "asset.shape"
   ]
  },
  {
   "cell_type": "markdown",
   "metadata": {},
   "source": [
    "### (1) `MVportfolio` "
   ]
  },
  {
   "cell_type": "code",
   "execution_count": 4,
   "metadata": {},
   "outputs": [],
   "source": [
    "def MVportfolio(asset, mu_p):\n",
    "    asset_2d = asset.to_numpy()\n",
    "\n",
    "    X = np.log(asset_2d[1:]/asset_2d[:-1]) # 수익률 (수익률은 log 차분 수익률로 계산)\n",
    "    Q = np.cov(X.T) # 공분산 행렬\n",
    "    r = np.nanmean(X, axis=0).reshape(-1, 1) # 기대값 (수익률 평균)\n",
    "    l = np.ones(r.shape) # 1 벡터\n",
    "    zero = np.zeros(l.shape) # 0 벡터\n",
    "\n",
    "    # 라그랑지안 편미분 방정식 행렬\n",
    "    Q_l_r = np.hstack([Q, l, r]) # 목적함수 편미분 \n",
    "    l_0_0 = np.hstack([l.T, [[0]], [[0]]]) # 제약조건 1: 가중치 합 = 1\n",
    "    r_0_0 = np.hstack([r.T, [[0]], [[0]]]) # 제약조건 2: 수익률 = mu_p\n",
    "\n",
    "    L = np.vstack([Q_l_r, l_0_0, r_0_0]) # 완성된 라그랑지안 \n",
    "\n",
    "    zero_l_mu = np.vstack([zero, [[1]], [[mu_p]]]) # 우변\n",
    "    L_inv = np.linalg.inv(L) # 역행렬 계산\n",
    "\n",
    "    w_lmda1_lmda2 = L_inv @ zero_l_mu # 라그랑지안 해벡터\n",
    "\n",
    "    w = w_lmda1_lmda2[:-2] # 최적 포트폴리오 가중치\n",
    "    lmda1 = w_lmda1_lmda2[-2] # 라그랑지안 해벡터 람다1\n",
    "    lmda2 = w_lmda1_lmda2[-1] # 라그랑지안 해벡터 람다2\n",
    "\n",
    "    var = w.T @ Q @ w # 최적 포트폴리오 분산\n",
    "\n",
    "    return w, var"
   ]
  },
  {
   "cell_type": "markdown",
   "metadata": {},
   "source": [
    "### (2) Efficient Frontier"
   ]
  },
  {
   "cell_type": "code",
   "execution_count": 5,
   "metadata": {},
   "outputs": [],
   "source": [
    "mu_p_min = -0.001\n",
    "mu_p_max = 0.001\n",
    "\n",
    "mu_p_range = np.linspace(mu_p_min, mu_p_max, 100)"
   ]
  },
  {
   "cell_type": "code",
   "execution_count": 6,
   "metadata": {},
   "outputs": [],
   "source": [
    "asset_2d = asset.to_numpy()\n",
    "\n",
    "X = np.log(asset_2d[1:]/asset_2d[:-1]) # 수익률 (수익률은 log 차분 수익률로 계산)\n",
    "r = np.nanmean(X, axis=0).reshape(-1, 1) # 기대값 (수익률 평균)"
   ]
  },
  {
   "cell_type": "code",
   "execution_count": 7,
   "metadata": {},
   "outputs": [],
   "source": [
    "w_var = [MVportfolio(asset, mu_p) for mu_p in mu_p_range]\n",
    "var_ret = np.array([(var, w.T @ r) for w, var in w_var]).reshape(len(w_var), 2)"
   ]
  },
  {
   "cell_type": "code",
   "execution_count": 8,
   "metadata": {},
   "outputs": [
    {
     "data": {
      "image/png": "[encoded data removed]",
      "text/plain": [
       "<Figure size 1000x600 with 1 Axes>"
      ]
     },
     "metadata": {},
     "output_type": "display_data"
    }
   ],
   "source": [
    "# Plot the efficient frontier\n",
    "plt.figure(figsize=(10, 6))\n",
    "plt.plot(var_ret[:, 0], var_ret[:, 1], marker='o', linestyle='-')\n",
    "\n",
    "plt.title('Efficient Frontier')\n",
    "plt.xlabel('Variance (Risk^2)')\n",
    "plt.ylabel('Expected Return (daily)')\n",
    "plt.grid(True)\n",
    "plt.show()"
   ]
  },
  {
   "cell_type": "markdown",
   "metadata": {},
   "source": [
    "## 2. Momentum"
   ]
  },
  {
   "cell_type": "code",
   "execution_count": 9,
   "metadata": {},
   "outputs": [
    {
     "data": {
      "text/html": [
       "<div>\n",
       "<style scoped>\n",
       "    .dataframe tbody tr th:only-of-type {\n",
       "        vertical-align: middle;\n",
       "    }\n",
       "\n",
       "    .dataframe tbody tr th {\n",
       "        vertical-align: top;\n",
       "    }\n",
       "\n",
       "    .dataframe thead th {\n",
       "        text-align: right;\n",
       "    }\n",
       "</style>\n",
       "<table border=\"1\" class=\"dataframe\">\n",
       "  <thead>\n",
       "    <tr style=\"text-align: right;\">\n",
       "      <th></th>\n",
       "      <th>X005930</th>\n",
       "      <th>X000660</th>\n",
       "      <th>X051910</th>\n",
       "      <th>X207940</th>\n",
       "      <th>X035420</th>\n",
       "      <th>X035720</th>\n",
       "      <th>X005380</th>\n",
       "      <th>X006400</th>\n",
       "      <th>X068270</th>\n",
       "      <th>X000270</th>\n",
       "      <th>...</th>\n",
       "      <th>X058220</th>\n",
       "      <th>X038160</th>\n",
       "      <th>X033600</th>\n",
       "      <th>X195440</th>\n",
       "      <th>X058420</th>\n",
       "      <th>X121890</th>\n",
       "      <th>X114570</th>\n",
       "      <th>X347140</th>\n",
       "      <th>X080440</th>\n",
       "      <th>X158310</th>\n",
       "    </tr>\n",
       "    <tr>\n",
       "      <th>date</th>\n",
       "      <th></th>\n",
       "      <th></th>\n",
       "      <th></th>\n",
       "      <th></th>\n",
       "      <th></th>\n",
       "      <th></th>\n",
       "      <th></th>\n",
       "      <th></th>\n",
       "      <th></th>\n",
       "      <th></th>\n",
       "      <th></th>\n",
       "      <th></th>\n",
       "      <th></th>\n",
       "      <th></th>\n",
       "      <th></th>\n",
       "      <th></th>\n",
       "      <th></th>\n",
       "      <th></th>\n",
       "      <th></th>\n",
       "      <th></th>\n",
       "      <th></th>\n",
       "    </tr>\n",
       "  </thead>\n",
       "  <tbody>\n",
       "    <tr>\n",
       "      <th>2018-05-23</th>\n",
       "      <td>51800</td>\n",
       "      <td>95300.0</td>\n",
       "      <td>343500.0</td>\n",
       "      <td>399500.0</td>\n",
       "      <td>136994</td>\n",
       "      <td>22580</td>\n",
       "      <td>144500.0</td>\n",
       "      <td>204500</td>\n",
       "      <td>237286</td>\n",
       "      <td>33650</td>\n",
       "      <td>...</td>\n",
       "      <td>2500.0</td>\n",
       "      <td>7790.0</td>\n",
       "      <td>7460.0</td>\n",
       "      <td>63720.0</td>\n",
       "      <td>13298.0</td>\n",
       "      <td>2905.0</td>\n",
       "      <td>26630.0</td>\n",
       "      <td>NaN</td>\n",
       "      <td>5079.0</td>\n",
       "      <td>10250.0</td>\n",
       "    </tr>\n",
       "    <tr>\n",
       "      <th>2018-05-24</th>\n",
       "      <td>51400</td>\n",
       "      <td>94600.0</td>\n",
       "      <td>345000.0</td>\n",
       "      <td>418000.0</td>\n",
       "      <td>136193</td>\n",
       "      <td>22681</td>\n",
       "      <td>140000.0</td>\n",
       "      <td>204500</td>\n",
       "      <td>243737</td>\n",
       "      <td>32700</td>\n",
       "      <td>...</td>\n",
       "      <td>2383.0</td>\n",
       "      <td>7880.0</td>\n",
       "      <td>7310.0</td>\n",
       "      <td>63536.0</td>\n",
       "      <td>13226.0</td>\n",
       "      <td>2890.0</td>\n",
       "      <td>25339.0</td>\n",
       "      <td>NaN</td>\n",
       "      <td>5005.0</td>\n",
       "      <td>9300.0</td>\n",
       "    </tr>\n",
       "    <tr>\n",
       "      <th>2018-05-25</th>\n",
       "      <td>52700</td>\n",
       "      <td>95200.0</td>\n",
       "      <td>352500.0</td>\n",
       "      <td>430500.0</td>\n",
       "      <td>137194</td>\n",
       "      <td>22480</td>\n",
       "      <td>139000.0</td>\n",
       "      <td>207000</td>\n",
       "      <td>253413</td>\n",
       "      <td>32250</td>\n",
       "      <td>...</td>\n",
       "      <td>2400.0</td>\n",
       "      <td>7770.0</td>\n",
       "      <td>7200.0</td>\n",
       "      <td>63997.0</td>\n",
       "      <td>13265.0</td>\n",
       "      <td>2830.0</td>\n",
       "      <td>25574.0</td>\n",
       "      <td>NaN</td>\n",
       "      <td>4870.0</td>\n",
       "      <td>8920.0</td>\n",
       "    </tr>\n",
       "    <tr>\n",
       "      <th>2018-05-28</th>\n",
       "      <td>52300</td>\n",
       "      <td>94500.0</td>\n",
       "      <td>352000.0</td>\n",
       "      <td>429000.0</td>\n",
       "      <td>136193</td>\n",
       "      <td>21677</td>\n",
       "      <td>138500.0</td>\n",
       "      <td>209000</td>\n",
       "      <td>249726</td>\n",
       "      <td>32300</td>\n",
       "      <td>...</td>\n",
       "      <td>2403.0</td>\n",
       "      <td>7980.0</td>\n",
       "      <td>7370.0</td>\n",
       "      <td>62800.0</td>\n",
       "      <td>13226.0</td>\n",
       "      <td>2790.0</td>\n",
       "      <td>25339.0</td>\n",
       "      <td>NaN</td>\n",
       "      <td>4980.0</td>\n",
       "      <td>8740.0</td>\n",
       "    </tr>\n",
       "    <tr>\n",
       "      <th>2018-05-29</th>\n",
       "      <td>51300</td>\n",
       "      <td>94800.0</td>\n",
       "      <td>343500.0</td>\n",
       "      <td>433000.0</td>\n",
       "      <td>133789</td>\n",
       "      <td>21677</td>\n",
       "      <td>140000.0</td>\n",
       "      <td>211500</td>\n",
       "      <td>249266</td>\n",
       "      <td>31650</td>\n",
       "      <td>...</td>\n",
       "      <td>2350.0</td>\n",
       "      <td>8930.0</td>\n",
       "      <td>7240.0</td>\n",
       "      <td>60866.0</td>\n",
       "      <td>13121.0</td>\n",
       "      <td>2740.0</td>\n",
       "      <td>26281.0</td>\n",
       "      <td>NaN</td>\n",
       "      <td>4631.0</td>\n",
       "      <td>8720.0</td>\n",
       "    </tr>\n",
       "  </tbody>\n",
       "</table>\n",
       "<p>5 rows × 2203 columns</p>\n",
       "</div>"
      ],
      "text/plain": [
       "            X005930  X000660   X051910   X207940  X035420  X035720   X005380  \\\n",
       "date                                                                           \n",
       "2018-05-23    51800  95300.0  343500.0  399500.0   136994    22580  144500.0   \n",
       "2018-05-24    51400  94600.0  345000.0  418000.0   136193    22681  140000.0   \n",
       "2018-05-25    52700  95200.0  352500.0  430500.0   137194    22480  139000.0   \n",
       "2018-05-28    52300  94500.0  352000.0  429000.0   136193    21677  138500.0   \n",
       "2018-05-29    51300  94800.0  343500.0  433000.0   133789    21677  140000.0   \n",
       "\n",
       "            X006400  X068270  X000270  ...  X058220  X038160  X033600  \\\n",
       "date                                   ...                              \n",
       "2018-05-23   204500   237286    33650  ...   2500.0   7790.0   7460.0   \n",
       "2018-05-24   204500   243737    32700  ...   2383.0   7880.0   7310.0   \n",
       "2018-05-25   207000   253413    32250  ...   2400.0   7770.0   7200.0   \n",
       "2018-05-28   209000   249726    32300  ...   2403.0   7980.0   7370.0   \n",
       "2018-05-29   211500   249266    31650  ...   2350.0   8930.0   7240.0   \n",
       "\n",
       "            X195440  X058420  X121890  X114570  X347140  X080440  X158310  \n",
       "date                                                                       \n",
       "2018-05-23  63720.0  13298.0   2905.0  26630.0      NaN   5079.0  10250.0  \n",
       "2018-05-24  63536.0  13226.0   2890.0  25339.0      NaN   5005.0   9300.0  \n",
       "2018-05-25  63997.0  13265.0   2830.0  25574.0      NaN   4870.0   8920.0  \n",
       "2018-05-28  62800.0  13226.0   2790.0  25339.0      NaN   4980.0   8740.0  \n",
       "2018-05-29  60866.0  13121.0   2740.0  26281.0      NaN   4631.0   8720.0  \n",
       "\n",
       "[5 rows x 2203 columns]"
      ]
     },
     "execution_count": 9,
     "metadata": {},
     "output_type": "execute_result"
    }
   ],
   "source": [
    "# (1) price 파일 불러온 뒤 date 열을 DatetimeIndex로 변경한 뒤 인덱스로 설정\n",
    "price = pd.read_csv('price.csv')\n",
    "price['date'] = pd.to_datetime(price['date'])\n",
    "price.set_index('date', inplace=True)\n",
    "price.head() \n",
    "\n",
    "# 참고: 데이터에 nan이 많음. \n",
    "# 대부분은 상장폐지 종목 또는 상장 이전 종목이라고 판단됨.\n",
    "# 하지만 전 기간 nan인 종목도 있음. "
   ]
  },
  {
   "cell_type": "code",
   "execution_count": 10,
   "metadata": {},
   "outputs": [
    {
     "data": {
      "text/plain": [
       "(565, 2203)"
      ]
     },
     "execution_count": 10,
     "metadata": {},
     "output_type": "execute_result"
    }
   ],
   "source": [
    "price.shape"
   ]
  },
  {
   "cell_type": "code",
   "execution_count": 11,
   "metadata": {},
   "outputs": [],
   "source": [
    "# (2) 2019년도 자료만 선택\n",
    "price_sub = price.loc['2019-01-01':'2019-12-31', :].copy() "
   ]
  },
  {
   "cell_type": "code",
   "execution_count": 12,
   "metadata": {},
   "outputs": [],
   "source": [
    "# (3) 누적곱으로 수익률 계산 (Series 객체로 저장)\n",
    "cum_ret = price_sub.pct_change(fill_method=None).add(1).prod() - 1"
   ]
  },
  {
   "cell_type": "code",
   "execution_count": 13,
   "metadata": {},
   "outputs": [
    {
     "data": {
      "text/plain": [
       "X088290    13.576271\n",
       "X101360     7.400000\n",
       "X078130     4.155172\n",
       "X139670     4.049401\n",
       "X032500     3.443478\n",
       "X009190     2.992042\n",
       "X138080     2.719443\n",
       "X336370     2.693285\n",
       "X033250     2.536524\n",
       "X214150     2.498146\n",
       "dtype: float64"
      ]
     },
     "execution_count": 13,
     "metadata": {},
     "output_type": "execute_result"
    }
   ],
   "source": [
    "# (4) 누적 수익률 상위 10개 종목 출력\n",
    "top10_cumret = cum_ret.sort_values(ascending=False).head(10)\n",
    "top10_cumret"
   ]
  },
  {
   "cell_type": "code",
   "execution_count": 14,
   "metadata": {},
   "outputs": [
    {
     "data": {
      "text/plain": [
       "<Axes: title={'center': '2019 Top 1 Cumulative Return'}, xlabel='date'>"
      ]
     },
     "execution_count": 14,
     "metadata": {},
     "output_type": "execute_result"
    },
    {
     "data": {
      "image/png": "[encoded data removed]",
      "text/plain": [
       "<Figure size 1000x600 with 1 Axes>"
      ]
     },
     "metadata": {},
     "output_type": "display_data"
    }
   ],
   "source": [
    "price_sub[top10_cumret.index[0]].plot(figsize=(10, 6), title='2019 Top 1 Cumulative Return')"
   ]
  },
  {
   "cell_type": "code",
   "execution_count": 15,
   "metadata": {},
   "outputs": [],
   "source": [
    "# (5) 종목별 연율화 변동성 계산 (252일 기준, Series 객체로 저장)\n",
    "std = price_sub.pct_change(fill_method=None).std() * np.sqrt(252)"
   ]
  },
  {
   "cell_type": "code",
   "execution_count": 16,
   "metadata": {},
   "outputs": [],
   "source": [
    "# (6) std가 0인 경우와 nan인 경우를 제외\n",
    "std = std[std != 0].dropna()"
   ]
  },
  {
   "cell_type": "code",
   "execution_count": 17,
   "metadata": {},
   "outputs": [],
   "source": [
    "# (7) 샤프지수 계산\n",
    "shrp = cum_ret / std"
   ]
  },
  {
   "cell_type": "code",
   "execution_count": 18,
   "metadata": {},
   "outputs": [],
   "source": [
    "# (8) 샤프지수가 nan인 경우 shrp 최소값으로 대체\n",
    "shrp = shrp.fillna(shrp.min())"
   ]
  },
  {
   "cell_type": "code",
   "execution_count": 19,
   "metadata": {},
   "outputs": [
    {
     "data": {
      "text/plain": [
       "X088290    12.317314\n",
       "X032500     5.582321\n",
       "X101360     5.364799\n",
       "X139670     4.570944\n",
       "X138080     4.033614\n",
       "X078130     3.760220\n",
       "X214150     3.711147\n",
       "X036540     3.707145\n",
       "X097520     3.624222\n",
       "X000990     3.552103\n",
       "dtype: float64"
      ]
     },
     "execution_count": 19,
     "metadata": {},
     "output_type": "execute_result"
    }
   ],
   "source": [
    "# (9) 샤프지수 상위 10개 종목 출력\n",
    "top10_shrp = shrp.sort_values(ascending=False).head(10)\n",
    "top10_shrp"
   ]
  },
  {
   "cell_type": "code",
   "execution_count": 20,
   "metadata": {},
   "outputs": [
    {
     "data": {
      "text/html": [
       "<div>\n",
       "<style scoped>\n",
       "    .dataframe tbody tr th:only-of-type {\n",
       "        vertical-align: middle;\n",
       "    }\n",
       "\n",
       "    .dataframe tbody tr th {\n",
       "        vertical-align: top;\n",
       "    }\n",
       "\n",
       "    .dataframe thead th {\n",
       "        text-align: right;\n",
       "    }\n",
       "</style>\n",
       "<table border=\"1\" class=\"dataframe\">\n",
       "  <thead>\n",
       "    <tr style=\"text-align: right;\">\n",
       "      <th></th>\n",
       "      <th>cum_ret</th>\n",
       "      <th>std</th>\n",
       "      <th>shrp</th>\n",
       "    </tr>\n",
       "  </thead>\n",
       "  <tbody>\n",
       "    <tr>\n",
       "      <th>X088290</th>\n",
       "      <td>13.576271</td>\n",
       "      <td>1.102210</td>\n",
       "      <td>12.317314</td>\n",
       "    </tr>\n",
       "    <tr>\n",
       "      <th>X032500</th>\n",
       "      <td>3.443478</td>\n",
       "      <td>0.616854</td>\n",
       "      <td>5.582321</td>\n",
       "    </tr>\n",
       "    <tr>\n",
       "      <th>X101360</th>\n",
       "      <td>7.400000</td>\n",
       "      <td>1.379362</td>\n",
       "      <td>5.364799</td>\n",
       "    </tr>\n",
       "    <tr>\n",
       "      <th>X139670</th>\n",
       "      <td>4.049401</td>\n",
       "      <td>0.885900</td>\n",
       "      <td>4.570944</td>\n",
       "    </tr>\n",
       "    <tr>\n",
       "      <th>X138080</th>\n",
       "      <td>2.719443</td>\n",
       "      <td>0.674195</td>\n",
       "      <td>4.033614</td>\n",
       "    </tr>\n",
       "    <tr>\n",
       "      <th>X078130</th>\n",
       "      <td>4.155172</td>\n",
       "      <td>1.105034</td>\n",
       "      <td>3.760220</td>\n",
       "    </tr>\n",
       "    <tr>\n",
       "      <th>X214150</th>\n",
       "      <td>2.498146</td>\n",
       "      <td>0.673147</td>\n",
       "      <td>3.711147</td>\n",
       "    </tr>\n",
       "    <tr>\n",
       "      <th>X036540</th>\n",
       "      <td>2.142336</td>\n",
       "      <td>0.577894</td>\n",
       "      <td>3.707145</td>\n",
       "    </tr>\n",
       "    <tr>\n",
       "      <th>X097520</th>\n",
       "      <td>1.903846</td>\n",
       "      <td>0.525312</td>\n",
       "      <td>3.624222</td>\n",
       "    </tr>\n",
       "    <tr>\n",
       "      <th>X000990</th>\n",
       "      <td>1.628571</td>\n",
       "      <td>0.458481</td>\n",
       "      <td>3.552103</td>\n",
       "    </tr>\n",
       "  </tbody>\n",
       "</table>\n",
       "</div>"
      ],
      "text/plain": [
       "           cum_ret       std       shrp\n",
       "X088290  13.576271  1.102210  12.317314\n",
       "X032500   3.443478  0.616854   5.582321\n",
       "X101360   7.400000  1.379362   5.364799\n",
       "X139670   4.049401  0.885900   4.570944\n",
       "X138080   2.719443  0.674195   4.033614\n",
       "X078130   4.155172  1.105034   3.760220\n",
       "X214150   2.498146  0.673147   3.711147\n",
       "X036540   2.142336  0.577894   3.707145\n",
       "X097520   1.903846  0.525312   3.624222\n",
       "X000990   1.628571  0.458481   3.552103"
      ]
     },
     "execution_count": 20,
     "metadata": {},
     "output_type": "execute_result"
    }
   ],
   "source": [
    "# (10) Top 10 종목의 최종 결과 출력\n",
    "\n",
    "top10_shrp_stocks = top10_shrp.index\n",
    "\n",
    "final_result = pd.DataFrame(\n",
    "    data=zip(\n",
    "        cum_ret[top10_shrp_stocks],\n",
    "        std[top10_shrp_stocks],\n",
    "        shrp[top10_shrp_stocks]\n",
    "        ),\n",
    "    index=top10_shrp_stocks,\n",
    "    columns=['cum_ret', 'std', 'shrp']\n",
    ")\n",
    "\n",
    "final_result"
   ]
  },
  {
   "cell_type": "markdown",
   "metadata": {},
   "source": [
    "## 3. Monte-Carlo Simulation"
   ]
  },
  {
   "cell_type": "code",
   "execution_count": 21,
   "metadata": {},
   "outputs": [],
   "source": [
    "def ECallSimul_1(S0, K, T, r, sigma, M, l=250000):\n",
    "    S = []\n",
    "    dt = T/M\n",
    "    for i in range(l):\n",
    "        path = []\n",
    "        \n",
    "        for t in range(M+1):\n",
    "            if t == 0:\n",
    "                path.append(S0)\n",
    "            else:\n",
    "                z = random.gauss(0., 1.)\n",
    "                St = path[t-1] * math.exp( (r - 0.5*sigma**2)*dt + sigma*math.sqrt(dt)*z )\n",
    "                path.append(St)\n",
    "            \n",
    "        S.append(path)\n",
    "        \n",
    "    sum_val = 0.\n",
    "\n",
    "    for path in S:\n",
    "        sum_val += max(path[-1] - K, 0)\n",
    "    \n",
    "    C0 = math.exp(-r*T) * sum_val / l\n",
    "\n",
    "    return round(C0, 3)"
   ]
  },
  {
   "cell_type": "markdown",
   "metadata": {},
   "source": [
    "### (1) 가능한 모든 부분을 `numpy`를 활용하는 것으로 수정"
   ]
  },
  {
   "cell_type": "code",
   "execution_count": 22,
   "metadata": {},
   "outputs": [],
   "source": [
    "def ECallSimul_2(S0, K, T, r, sigma, M, l=250000):\n",
    "    dt = T/M\n",
    "\n",
    "    Z = np.random.randn(l, M)\n",
    "    S = np.zeros((l, M+1)) # 맨 앞에 S0를 넣기 위해 M+1\n",
    "    S[:, 0] = S0\n",
    "\n",
    "    drift = (r - 0.5*sigma**2)*dt\n",
    "    diffusion = sigma * np.sqrt(dt) * Z\n",
    "\n",
    "    S[:, 1:] = S0 * np.exp(np.cumsum(drift + diffusion, axis=1))\n",
    "\n",
    "    payoffs = np.maximum(S[:, -1] - K, 0)\n",
    "    C0 = np.exp(-r*T) * np.mean(payoffs)\n",
    "\n",
    "    return round(C0, 3)"
   ]
  },
  {
   "cell_type": "markdown",
   "metadata": {},
   "source": [
    "### (2) 연산시간 비교"
   ]
  },
  {
   "cell_type": "code",
   "execution_count": 23,
   "metadata": {},
   "outputs": [],
   "source": [
    "S0 = 100.\n",
    "K = 105.\n",
    "T = 1.\n",
    "r = 0.05\n",
    "sigma = 0.2\n",
    "M = 50\n",
    "l = 250000"
   ]
  },
  {
   "cell_type": "code",
   "execution_count": 24,
   "metadata": {},
   "outputs": [
    {
     "name": "stdout",
     "output_type": "stream",
     "text": [
      "CPU times: total: 7.81 s\n",
      "Wall time: 11.7 s\n"
     ]
    }
   ],
   "source": [
    "%time C0_1 = ECallSimul_1(S0, K, T, r, sigma, M, l)"
   ]
  },
  {
   "cell_type": "code",
   "execution_count": 25,
   "metadata": {},
   "outputs": [
    {
     "name": "stdout",
     "output_type": "stream",
     "text": [
      "CPU times: total: 359 ms\n",
      "Wall time: 613 ms\n"
     ]
    }
   ],
   "source": [
    "%time C0_2 = ECallSimul_2(S0, K, T, r, sigma, M, l)"
   ]
  }
 ],
 "metadata": {
  "kernelspec": {
   "display_name": ".venv",
   "language": "python",
   "name": "python3"
  },
  "language_info": {
   "codemirror_mode": {
    "name": "ipython",
    "version": 3
   },
   "file_extension": ".py",
   "mimetype": "text/x-python",
   "name": "python",
   "nbconvert_exporter": "python",
   "pygments_lexer": "ipython3",
   "version": "3.11.5"
  }
 },
 "nbformat": 4,
 "nbformat_minor": 2
}
