{
 "cells": [
  {
   "cell_type": "markdown",
   "metadata": {},
   "source": [
    "# 금공프3 Final\n",
    "\n",
    "20249433 MFE 최재필"
   ]
  },
  {
   "cell_type": "code",
   "execution_count": 1,
   "metadata": {},
   "outputs": [],
   "source": [
    "from functools import reduce\n",
    "\n",
    "import numpy as np\n",
    "import pandas as pd"
   ]
  },
  {
   "cell_type": "markdown",
   "metadata": {},
   "source": [
    "## 1. Mean-Variance Optimization"
   ]
  },
  {
   "cell_type": "code",
   "execution_count": 111,
   "metadata": {},
   "outputs": [],
   "source": [
    "# 1"
   ]
  },
  {
   "cell_type": "code",
   "execution_count": 112,
   "metadata": {},
   "outputs": [],
   "source": [
    "# asset = pd.read_csv('price.csv')"
   ]
  },
  {
   "cell_type": "code",
   "execution_count": 113,
   "metadata": {},
   "outputs": [],
   "source": [
    "asset = pd.read_csv('it.csv')"
   ]
  },
  {
   "cell_type": "code",
   "execution_count": 114,
   "metadata": {},
   "outputs": [
    {
     "data": {
      "text/html": [
       "<div>\n",
       "<style scoped>\n",
       "    .dataframe tbody tr th:only-of-type {\n",
       "        vertical-align: middle;\n",
       "    }\n",
       "\n",
       "    .dataframe tbody tr th {\n",
       "        vertical-align: top;\n",
       "    }\n",
       "\n",
       "    .dataframe thead th {\n",
       "        text-align: right;\n",
       "    }\n",
       "</style>\n",
       "<table border=\"1\" class=\"dataframe\">\n",
       "  <thead>\n",
       "    <tr style=\"text-align: right;\">\n",
       "      <th></th>\n",
       "      <th>Date</th>\n",
       "      <th>AAPL</th>\n",
       "      <th>GOOG</th>\n",
       "      <th>MSFT</th>\n",
       "      <th>IBM</th>\n",
       "      <th>T</th>\n",
       "    </tr>\n",
       "  </thead>\n",
       "  <tbody>\n",
       "    <tr>\n",
       "      <th>0</th>\n",
       "      <td>2018-01-02</td>\n",
       "      <td>169.714086</td>\n",
       "      <td>1065.00</td>\n",
       "      <td>84.484767</td>\n",
       "      <td>147.537554</td>\n",
       "      <td>36.382354</td>\n",
       "    </tr>\n",
       "    <tr>\n",
       "      <th>1</th>\n",
       "      <td>2018-01-03</td>\n",
       "      <td>169.684530</td>\n",
       "      <td>1082.48</td>\n",
       "      <td>84.877948</td>\n",
       "      <td>151.593043</td>\n",
       "      <td>35.542180</td>\n",
       "    </tr>\n",
       "    <tr>\n",
       "      <th>2</th>\n",
       "      <td>2018-01-04</td>\n",
       "      <td>170.472706</td>\n",
       "      <td>1086.40</td>\n",
       "      <td>85.624992</td>\n",
       "      <td>154.663355</td>\n",
       "      <td>35.872586</td>\n",
       "    </tr>\n",
       "    <tr>\n",
       "      <th>3</th>\n",
       "      <td>2018-01-05</td>\n",
       "      <td>172.413591</td>\n",
       "      <td>1102.23</td>\n",
       "      <td>86.686581</td>\n",
       "      <td>155.418977</td>\n",
       "      <td>36.004748</td>\n",
       "    </tr>\n",
       "    <tr>\n",
       "      <th>4</th>\n",
       "      <td>2018-01-08</td>\n",
       "      <td>171.773197</td>\n",
       "      <td>1106.94</td>\n",
       "      <td>86.775047</td>\n",
       "      <td>156.356330</td>\n",
       "      <td>36.108590</td>\n",
       "    </tr>\n",
       "    <tr>\n",
       "      <th>...</th>\n",
       "      <td>...</td>\n",
       "      <td>...</td>\n",
       "      <td>...</td>\n",
       "      <td>...</td>\n",
       "      <td>...</td>\n",
       "      <td>...</td>\n",
       "    </tr>\n",
       "    <tr>\n",
       "      <th>227</th>\n",
       "      <td>2018-11-26</td>\n",
       "      <td>174.620000</td>\n",
       "      <td>1048.62</td>\n",
       "      <td>106.470000</td>\n",
       "      <td>119.560000</td>\n",
       "      <td>29.950000</td>\n",
       "    </tr>\n",
       "    <tr>\n",
       "      <th>228</th>\n",
       "      <td>2018-11-27</td>\n",
       "      <td>174.240000</td>\n",
       "      <td>1044.41</td>\n",
       "      <td>107.140000</td>\n",
       "      <td>120.030000</td>\n",
       "      <td>30.440000</td>\n",
       "    </tr>\n",
       "    <tr>\n",
       "      <th>229</th>\n",
       "      <td>2018-11-28</td>\n",
       "      <td>180.940000</td>\n",
       "      <td>1086.23</td>\n",
       "      <td>111.120000</td>\n",
       "      <td>123.000000</td>\n",
       "      <td>30.740000</td>\n",
       "    </tr>\n",
       "    <tr>\n",
       "      <th>230</th>\n",
       "      <td>2018-11-29</td>\n",
       "      <td>179.550000</td>\n",
       "      <td>1088.30</td>\n",
       "      <td>110.190000</td>\n",
       "      <td>121.480000</td>\n",
       "      <td>30.570000</td>\n",
       "    </tr>\n",
       "    <tr>\n",
       "      <th>231</th>\n",
       "      <td>2018-11-30</td>\n",
       "      <td>178.580000</td>\n",
       "      <td>1094.43</td>\n",
       "      <td>110.890000</td>\n",
       "      <td>124.270000</td>\n",
       "      <td>31.240000</td>\n",
       "    </tr>\n",
       "  </tbody>\n",
       "</table>\n",
       "<p>232 rows × 6 columns</p>\n",
       "</div>"
      ],
      "text/plain": [
       "           Date        AAPL     GOOG        MSFT         IBM          T\n",
       "0    2018-01-02  169.714086  1065.00   84.484767  147.537554  36.382354\n",
       "1    2018-01-03  169.684530  1082.48   84.877948  151.593043  35.542180\n",
       "2    2018-01-04  170.472706  1086.40   85.624992  154.663355  35.872586\n",
       "3    2018-01-05  172.413591  1102.23   86.686581  155.418977  36.004748\n",
       "4    2018-01-08  171.773197  1106.94   86.775047  156.356330  36.108590\n",
       "..          ...         ...      ...         ...         ...        ...\n",
       "227  2018-11-26  174.620000  1048.62  106.470000  119.560000  29.950000\n",
       "228  2018-11-27  174.240000  1044.41  107.140000  120.030000  30.440000\n",
       "229  2018-11-28  180.940000  1086.23  111.120000  123.000000  30.740000\n",
       "230  2018-11-29  179.550000  1088.30  110.190000  121.480000  30.570000\n",
       "231  2018-11-30  178.580000  1094.43  110.890000  124.270000  31.240000\n",
       "\n",
       "[232 rows x 6 columns]"
      ]
     },
     "execution_count": 114,
     "metadata": {},
     "output_type": "execute_result"
    }
   ],
   "source": [
    "asset"
   ]
  },
  {
   "cell_type": "code",
   "execution_count": 115,
   "metadata": {},
   "outputs": [],
   "source": [
    "# asset.set_index('date', inplace=True)\n",
    "asset.set_index('Date', inplace=True)"
   ]
  },
  {
   "cell_type": "code",
   "execution_count": 116,
   "metadata": {},
   "outputs": [
    {
     "name": "stdout",
     "output_type": "stream",
     "text": [
      "<class 'pandas.core.frame.DataFrame'>\n",
      "Index: 232 entries, 2018-01-02 to 2018-11-30\n",
      "Data columns (total 5 columns):\n",
      " #   Column  Non-Null Count  Dtype  \n",
      "---  ------  --------------  -----  \n",
      " 0   AAPL    232 non-null    float64\n",
      " 1   GOOG    232 non-null    float64\n",
      " 2   MSFT    232 non-null    float64\n",
      " 3   IBM     232 non-null    float64\n",
      " 4   T       232 non-null    float64\n",
      "dtypes: float64(5)\n",
      "memory usage: 10.9+ KB\n"
     ]
    }
   ],
   "source": [
    "asset.info()"
   ]
  },
  {
   "cell_type": "code",
   "execution_count": 117,
   "metadata": {},
   "outputs": [
    {
     "data": {
      "text/plain": [
       "Index(['2018-01-02', '2018-01-03', '2018-01-04', '2018-01-05', '2018-01-08',\n",
       "       '2018-01-09', '2018-01-10', '2018-01-11', '2018-01-12', '2018-01-16',\n",
       "       ...\n",
       "       '2018-11-16', '2018-11-19', '2018-11-20', '2018-11-21', '2018-11-23',\n",
       "       '2018-11-26', '2018-11-27', '2018-11-28', '2018-11-29', '2018-11-30'],\n",
       "      dtype='object', name='Date', length=232)"
      ]
     },
     "execution_count": 117,
     "metadata": {},
     "output_type": "execute_result"
    }
   ],
   "source": [
    "asset.index"
   ]
  },
  {
   "cell_type": "code",
   "execution_count": 118,
   "metadata": {},
   "outputs": [
    {
     "data": {
      "text/plain": [
       "array([[ 169.7140864 , 1065.        ,   84.48476724,  147.5375538 ,\n",
       "          36.38235422],\n",
       "       [ 169.6845298 , 1082.48      ,   84.87794824,  151.5930431 ,\n",
       "          35.54218049],\n",
       "       [ 170.4727062 , 1086.4       ,   85.62499214,  154.6633546 ,\n",
       "          35.87258589],\n",
       "       ...,\n",
       "       [ 180.94      , 1086.23      ,  111.12      ,  123.        ,\n",
       "          30.74      ],\n",
       "       [ 179.55      , 1088.3       ,  110.19      ,  121.48      ,\n",
       "          30.57      ],\n",
       "       [ 178.58      , 1094.43      ,  110.89      ,  124.27      ,\n",
       "          31.24      ]])"
      ]
     },
     "execution_count": 118,
     "metadata": {},
     "output_type": "execute_result"
    }
   ],
   "source": [
    "asset_2d = asset.to_numpy()\n",
    "asset_2d"
   ]
  },
  {
   "cell_type": "code",
   "execution_count": 119,
   "metadata": {},
   "outputs": [
    {
     "data": {
      "text/plain": [
       "(231, 5)"
      ]
     },
     "execution_count": 119,
     "metadata": {},
     "output_type": "execute_result"
    }
   ],
   "source": [
    "X = np.log(asset_2d[1:]/asset_2d[:-1]) # 수익률 (수익률은 log 차분 수익률로 계산)\n",
    "X.shape"
   ]
  },
  {
   "cell_type": "code",
   "execution_count": 120,
   "metadata": {},
   "outputs": [],
   "source": [
    "X_df = pd.DataFrame(X, columns=asset.columns)"
   ]
  },
  {
   "cell_type": "code",
   "execution_count": 121,
   "metadata": {},
   "outputs": [],
   "source": [
    "Q = X_df.cov(min_periods=2).to_numpy()"
   ]
  },
  {
   "cell_type": "code",
   "execution_count": 122,
   "metadata": {},
   "outputs": [
    {
     "data": {
      "text/plain": [
       "0"
      ]
     },
     "execution_count": 122,
     "metadata": {},
     "output_type": "execute_result"
    }
   ],
   "source": [
    "np.isnan(Q).sum()  "
   ]
  },
  {
   "cell_type": "code",
   "execution_count": 123,
   "metadata": {},
   "outputs": [],
   "source": [
    "r = np.nanmean(X, axis=0) # 기대값 (수익률 평균)\n",
    "r = r.reshape(-1, 1)"
   ]
  },
  {
   "cell_type": "code",
   "execution_count": 124,
   "metadata": {},
   "outputs": [],
   "source": [
    "l = np.ones(r.shape) # 1 벡터"
   ]
  },
  {
   "cell_type": "code",
   "execution_count": 125,
   "metadata": {},
   "outputs": [],
   "source": [
    "Q_l_r = np.hstack([Q, l, r])"
   ]
  },
  {
   "cell_type": "code",
   "execution_count": 126,
   "metadata": {},
   "outputs": [],
   "source": [
    "zero = np.zeros(l.shape)"
   ]
  },
  {
   "cell_type": "code",
   "execution_count": 127,
   "metadata": {},
   "outputs": [],
   "source": [
    "l_0_0 = np.hstack([l.T, [[0]], [[0]]])"
   ]
  },
  {
   "cell_type": "code",
   "execution_count": 128,
   "metadata": {},
   "outputs": [],
   "source": [
    "r_0_0 = np.hstack([r.T, [[0]], [[0]]]) "
   ]
  },
  {
   "cell_type": "code",
   "execution_count": 129,
   "metadata": {},
   "outputs": [],
   "source": [
    "L = np.vstack([Q_l_r, l_0_0, r_0_0])"
   ]
  },
  {
   "cell_type": "code",
   "execution_count": 130,
   "metadata": {},
   "outputs": [],
   "source": [
    "MU = 0.01 # 주어진 포트폴리오 수익률"
   ]
  },
  {
   "cell_type": "code",
   "execution_count": 131,
   "metadata": {},
   "outputs": [
    {
     "data": {
      "text/plain": [
       "2.262958348045311e-05"
      ]
     },
     "execution_count": 131,
     "metadata": {},
     "output_type": "execute_result"
    }
   ],
   "source": [
    "np.nanmean(r)"
   ]
  },
  {
   "cell_type": "code",
   "execution_count": 133,
   "metadata": {},
   "outputs": [],
   "source": [
    "zero_l_mu = np.vstack([zero, [[0]], [[MU]]])"
   ]
  },
  {
   "cell_type": "code",
   "execution_count": 134,
   "metadata": {},
   "outputs": [],
   "source": [
    "L_inv = np.linalg.inv(L)"
   ]
  },
  {
   "cell_type": "code",
   "execution_count": 135,
   "metadata": {},
   "outputs": [],
   "source": [
    "w_lmda1_lmda2 = L_inv @ zero_l_mu"
   ]
  },
  {
   "cell_type": "code",
   "execution_count": 136,
   "metadata": {},
   "outputs": [],
   "source": [
    "w = w_lmda1_lmda2[:-2]"
   ]
  },
  {
   "cell_type": "code",
   "execution_count": 137,
   "metadata": {},
   "outputs": [],
   "source": [
    "lmda1 = w_lmda1_lmda2[-2]\n",
    "lmda2 = w_lmda1_lmda2[-1]"
   ]
  },
  {
   "cell_type": "code",
   "execution_count": 138,
   "metadata": {},
   "outputs": [
    {
     "data": {
      "text/plain": [
       "array([[0.00462093]])"
      ]
     },
     "execution_count": 138,
     "metadata": {},
     "output_type": "execute_result"
    }
   ],
   "source": [
    "var = w.T @ Q @ w\n",
    "var"
   ]
  },
  {
   "cell_type": "markdown",
   "metadata": {},
   "source": [
    "### (1) `MVportfolio` "
   ]
  },
  {
   "cell_type": "code",
   "execution_count": null,
   "metadata": {},
   "outputs": [],
   "source": [
    "def MVportfolio(asset, mu_p):\n",
    "    price_2d = price.to_numpy()\n",
    "\n",
    "    # 1. \n",
    "\n",
    "    X = None # 수익률 (수익률은 log 차분 수익률로 계산)\n",
    "    Q = None # 공분산 행렬\n",
    "    r = None # 기대값 (수익률 평균)\n",
    "\n",
    "    asset = None # k개의 자산 별 가격을 m일 동안 수집한 mxk 의 dataframe\n",
    "    w = None # k개의 자산 별 가중치\n",
    "    var = None # 포트폴리오 P의 분산\n",
    "\n",
    "    return asset, w, var"
   ]
  },
  {
   "cell_type": "markdown",
   "metadata": {},
   "source": [
    "### (2) Efficient Frontier"
   ]
  },
  {
   "cell_type": "code",
   "execution_count": null,
   "metadata": {},
   "outputs": [
    {
     "data": {
      "text/html": [
       "<div>\n",
       "<style scoped>\n",
       "    .dataframe tbody tr th:only-of-type {\n",
       "        vertical-align: middle;\n",
       "    }\n",
       "\n",
       "    .dataframe tbody tr th {\n",
       "        vertical-align: top;\n",
       "    }\n",
       "\n",
       "    .dataframe thead th {\n",
       "        text-align: right;\n",
       "    }\n",
       "</style>\n",
       "<table border=\"1\" class=\"dataframe\">\n",
       "  <thead>\n",
       "    <tr style=\"text-align: right;\">\n",
       "      <th></th>\n",
       "      <th>Date</th>\n",
       "      <th>AAPL</th>\n",
       "      <th>GOOG</th>\n",
       "      <th>MSFT</th>\n",
       "      <th>IBM</th>\n",
       "      <th>T</th>\n",
       "    </tr>\n",
       "  </thead>\n",
       "  <tbody>\n",
       "    <tr>\n",
       "      <th>0</th>\n",
       "      <td>2018-01-02</td>\n",
       "      <td>169.714086</td>\n",
       "      <td>1065.00</td>\n",
       "      <td>84.484767</td>\n",
       "      <td>147.537554</td>\n",
       "      <td>36.382354</td>\n",
       "    </tr>\n",
       "    <tr>\n",
       "      <th>1</th>\n",
       "      <td>2018-01-03</td>\n",
       "      <td>169.684530</td>\n",
       "      <td>1082.48</td>\n",
       "      <td>84.877948</td>\n",
       "      <td>151.593043</td>\n",
       "      <td>35.542180</td>\n",
       "    </tr>\n",
       "    <tr>\n",
       "      <th>2</th>\n",
       "      <td>2018-01-04</td>\n",
       "      <td>170.472706</td>\n",
       "      <td>1086.40</td>\n",
       "      <td>85.624992</td>\n",
       "      <td>154.663355</td>\n",
       "      <td>35.872586</td>\n",
       "    </tr>\n",
       "    <tr>\n",
       "      <th>3</th>\n",
       "      <td>2018-01-05</td>\n",
       "      <td>172.413591</td>\n",
       "      <td>1102.23</td>\n",
       "      <td>86.686581</td>\n",
       "      <td>155.418977</td>\n",
       "      <td>36.004748</td>\n",
       "    </tr>\n",
       "    <tr>\n",
       "      <th>4</th>\n",
       "      <td>2018-01-08</td>\n",
       "      <td>171.773197</td>\n",
       "      <td>1106.94</td>\n",
       "      <td>86.775047</td>\n",
       "      <td>156.356330</td>\n",
       "      <td>36.108590</td>\n",
       "    </tr>\n",
       "    <tr>\n",
       "      <th>...</th>\n",
       "      <td>...</td>\n",
       "      <td>...</td>\n",
       "      <td>...</td>\n",
       "      <td>...</td>\n",
       "      <td>...</td>\n",
       "      <td>...</td>\n",
       "    </tr>\n",
       "    <tr>\n",
       "      <th>227</th>\n",
       "      <td>2018-11-26</td>\n",
       "      <td>174.620000</td>\n",
       "      <td>1048.62</td>\n",
       "      <td>106.470000</td>\n",
       "      <td>119.560000</td>\n",
       "      <td>29.950000</td>\n",
       "    </tr>\n",
       "    <tr>\n",
       "      <th>228</th>\n",
       "      <td>2018-11-27</td>\n",
       "      <td>174.240000</td>\n",
       "      <td>1044.41</td>\n",
       "      <td>107.140000</td>\n",
       "      <td>120.030000</td>\n",
       "      <td>30.440000</td>\n",
       "    </tr>\n",
       "    <tr>\n",
       "      <th>229</th>\n",
       "      <td>2018-11-28</td>\n",
       "      <td>180.940000</td>\n",
       "      <td>1086.23</td>\n",
       "      <td>111.120000</td>\n",
       "      <td>123.000000</td>\n",
       "      <td>30.740000</td>\n",
       "    </tr>\n",
       "    <tr>\n",
       "      <th>230</th>\n",
       "      <td>2018-11-29</td>\n",
       "      <td>179.550000</td>\n",
       "      <td>1088.30</td>\n",
       "      <td>110.190000</td>\n",
       "      <td>121.480000</td>\n",
       "      <td>30.570000</td>\n",
       "    </tr>\n",
       "    <tr>\n",
       "      <th>231</th>\n",
       "      <td>2018-11-30</td>\n",
       "      <td>178.580000</td>\n",
       "      <td>1094.43</td>\n",
       "      <td>110.890000</td>\n",
       "      <td>124.270000</td>\n",
       "      <td>31.240000</td>\n",
       "    </tr>\n",
       "  </tbody>\n",
       "</table>\n",
       "<p>232 rows × 6 columns</p>\n",
       "</div>"
      ],
      "text/plain": [
       "           Date        AAPL     GOOG        MSFT         IBM          T\n",
       "0    2018-01-02  169.714086  1065.00   84.484767  147.537554  36.382354\n",
       "1    2018-01-03  169.684530  1082.48   84.877948  151.593043  35.542180\n",
       "2    2018-01-04  170.472706  1086.40   85.624992  154.663355  35.872586\n",
       "3    2018-01-05  172.413591  1102.23   86.686581  155.418977  36.004748\n",
       "4    2018-01-08  171.773197  1106.94   86.775047  156.356330  36.108590\n",
       "..          ...         ...      ...         ...         ...        ...\n",
       "227  2018-11-26  174.620000  1048.62  106.470000  119.560000  29.950000\n",
       "228  2018-11-27  174.240000  1044.41  107.140000  120.030000  30.440000\n",
       "229  2018-11-28  180.940000  1086.23  111.120000  123.000000  30.740000\n",
       "230  2018-11-29  179.550000  1088.30  110.190000  121.480000  30.570000\n",
       "231  2018-11-30  178.580000  1094.43  110.890000  124.270000  31.240000\n",
       "\n",
       "[232 rows x 6 columns]"
      ]
     },
     "execution_count": 7,
     "metadata": {},
     "output_type": "execute_result"
    }
   ],
   "source": [
    "it = pd.read_csv('it.csv')\n",
    "it"
   ]
  },
  {
   "cell_type": "markdown",
   "metadata": {},
   "source": [
    "## 2. Momentum"
   ]
  },
  {
   "cell_type": "code",
   "execution_count": null,
   "metadata": {},
   "outputs": [],
   "source": []
  },
  {
   "cell_type": "markdown",
   "metadata": {},
   "source": [
    "## 3. Monte-Carlo Simulation"
   ]
  },
  {
   "cell_type": "code",
   "execution_count": null,
   "metadata": {},
   "outputs": [],
   "source": []
  }
 ],
 "metadata": {
  "kernelspec": {
   "display_name": ".venv",
   "language": "python",
   "name": "python3"
  },
  "language_info": {
   "codemirror_mode": {
    "name": "ipython",
    "version": 3
   },
   "file_extension": ".py",
   "mimetype": "text/x-python",
   "name": "python",
   "nbconvert_exporter": "python",
   "pygments_lexer": "ipython3",
   "version": "3.11.5"
  }
 },
 "nbformat": 4,
 "nbformat_minor": 2
}
