{
 "cells": [
  {
   "cell_type": "markdown",
   "metadata": {},
   "source": [
    "# 금공프3 Final\n",
    "\n",
    "20249433 MFE 최재필"
   ]
  },
  {
   "cell_type": "code",
   "execution_count": 249,
   "metadata": {},
   "outputs": [],
   "source": [
    "from functools import reduce\n",
    "\n",
    "import numpy as np\n",
    "import pandas as pd"
   ]
  },
  {
   "cell_type": "markdown",
   "metadata": {},
   "source": [
    "## 1. Mean-Variance Optimization"
   ]
  },
  {
   "cell_type": "code",
   "execution_count": 134,
   "metadata": {},
   "outputs": [],
   "source": [
    "# 1"
   ]
  },
  {
   "cell_type": "code",
   "execution_count": 135,
   "metadata": {},
   "outputs": [],
   "source": [
    "asset = pd.read_csv('price.csv')"
   ]
  },
  {
   "cell_type": "code",
   "execution_count": 136,
   "metadata": {},
   "outputs": [],
   "source": [
    "asset.set_index('date', inplace=True)"
   ]
  },
  {
   "cell_type": "code",
   "execution_count": 172,
   "metadata": {},
   "outputs": [
    {
     "name": "stdout",
     "output_type": "stream",
     "text": [
      "<class 'pandas.core.frame.DataFrame'>\n",
      "Index: 565 entries, 2018-05-23 to 2020-09-04\n",
      "Columns: 2203 entries, X005930 to X158310\n",
      "dtypes: float64(1722), int64(481)\n",
      "memory usage: 9.5+ MB\n"
     ]
    }
   ],
   "source": [
    "asset.info()"
   ]
  },
  {
   "cell_type": "code",
   "execution_count": 175,
   "metadata": {},
   "outputs": [
    {
     "data": {
      "text/plain": [
       "Index(['2018-05-23', '2018-05-24', '2018-05-25', '2018-05-28', '2018-05-29',\n",
       "       '2018-05-30', '2018-05-31', '2018-06-01', '2018-06-04', '2018-06-05',\n",
       "       ...\n",
       "       '2020-08-24', '2020-08-25', '2020-08-26', '2020-08-27', '2020-08-28',\n",
       "       '2020-08-31', '2020-09-01', '2020-09-02', '2020-09-03', '2020-09-04'],\n",
       "      dtype='object', name='date', length=565)"
      ]
     },
     "execution_count": 175,
     "metadata": {},
     "output_type": "execute_result"
    }
   ],
   "source": [
    "asset.index"
   ]
  },
  {
   "cell_type": "code",
   "execution_count": null,
   "metadata": {},
   "outputs": [],
   "source": []
  },
  {
   "cell_type": "code",
   "execution_count": 152,
   "metadata": {},
   "outputs": [
    {
     "data": {
      "text/html": [
       "<div>\n",
       "<style scoped>\n",
       "    .dataframe tbody tr th:only-of-type {\n",
       "        vertical-align: middle;\n",
       "    }\n",
       "\n",
       "    .dataframe tbody tr th {\n",
       "        vertical-align: top;\n",
       "    }\n",
       "\n",
       "    .dataframe thead th {\n",
       "        text-align: right;\n",
       "    }\n",
       "</style>\n",
       "<table border=\"1\" class=\"dataframe\">\n",
       "  <thead>\n",
       "    <tr style=\"text-align: right;\">\n",
       "      <th></th>\n",
       "      <th>X005930</th>\n",
       "      <th>X000660</th>\n",
       "      <th>X051910</th>\n",
       "      <th>X207940</th>\n",
       "    </tr>\n",
       "    <tr>\n",
       "      <th>date</th>\n",
       "      <th></th>\n",
       "      <th></th>\n",
       "      <th></th>\n",
       "      <th></th>\n",
       "    </tr>\n",
       "  </thead>\n",
       "  <tbody>\n",
       "    <tr>\n",
       "      <th>2018-05-23</th>\n",
       "      <td>NaN</td>\n",
       "      <td>95300.0</td>\n",
       "      <td>343500.0</td>\n",
       "      <td>399500.0</td>\n",
       "    </tr>\n",
       "    <tr>\n",
       "      <th>2018-05-24</th>\n",
       "      <td>NaN</td>\n",
       "      <td>94600.0</td>\n",
       "      <td>345000.0</td>\n",
       "      <td>418000.0</td>\n",
       "    </tr>\n",
       "    <tr>\n",
       "      <th>2018-05-25</th>\n",
       "      <td>NaN</td>\n",
       "      <td>95200.0</td>\n",
       "      <td>352500.0</td>\n",
       "      <td>430500.0</td>\n",
       "    </tr>\n",
       "    <tr>\n",
       "      <th>2018-05-28</th>\n",
       "      <td>NaN</td>\n",
       "      <td>NaN</td>\n",
       "      <td>NaN</td>\n",
       "      <td>429000.0</td>\n",
       "    </tr>\n",
       "    <tr>\n",
       "      <th>2018-05-29</th>\n",
       "      <td>NaN</td>\n",
       "      <td>NaN</td>\n",
       "      <td>NaN</td>\n",
       "      <td>433000.0</td>\n",
       "    </tr>\n",
       "    <tr>\n",
       "      <th>2018-05-30</th>\n",
       "      <td>NaN</td>\n",
       "      <td>95000.0</td>\n",
       "      <td>NaN</td>\n",
       "      <td>425500.0</td>\n",
       "    </tr>\n",
       "    <tr>\n",
       "      <th>2018-05-31</th>\n",
       "      <td>NaN</td>\n",
       "      <td>93400.0</td>\n",
       "      <td>NaN</td>\n",
       "      <td>435000.0</td>\n",
       "    </tr>\n",
       "    <tr>\n",
       "      <th>2018-06-01</th>\n",
       "      <td>51300.0</td>\n",
       "      <td>91400.0</td>\n",
       "      <td>NaN</td>\n",
       "      <td>451500.0</td>\n",
       "    </tr>\n",
       "    <tr>\n",
       "      <th>2018-06-04</th>\n",
       "      <td>51100.0</td>\n",
       "      <td>89800.0</td>\n",
       "      <td>NaN</td>\n",
       "      <td>419000.0</td>\n",
       "    </tr>\n",
       "    <tr>\n",
       "      <th>2018-06-05</th>\n",
       "      <td>51300.0</td>\n",
       "      <td>91000.0</td>\n",
       "      <td>NaN</td>\n",
       "      <td>421000.0</td>\n",
       "    </tr>\n",
       "  </tbody>\n",
       "</table>\n",
       "</div>"
      ],
      "text/plain": [
       "            X005930  X000660   X051910   X207940\n",
       "date                                            \n",
       "2018-05-23      NaN  95300.0  343500.0  399500.0\n",
       "2018-05-24      NaN  94600.0  345000.0  418000.0\n",
       "2018-05-25      NaN  95200.0  352500.0  430500.0\n",
       "2018-05-28      NaN      NaN       NaN  429000.0\n",
       "2018-05-29      NaN      NaN       NaN  433000.0\n",
       "2018-05-30      NaN  95000.0       NaN  425500.0\n",
       "2018-05-31      NaN  93400.0       NaN  435000.0\n",
       "2018-06-01  51300.0  91400.0       NaN  451500.0\n",
       "2018-06-04  51100.0  89800.0       NaN  419000.0\n",
       "2018-06-05  51300.0  91000.0       NaN  421000.0"
      ]
     },
     "execution_count": 152,
     "metadata": {},
     "output_type": "execute_result"
    }
   ],
   "source": [
    "small_asset = asset.iloc[:10, :5].copy()\n",
    "small_asset.iloc[:7, 0] = np.nan\n",
    "small_asset.iloc[3:5, 1] = np.nan\n",
    "small_asset.iloc[-7:, 2] = np.nan\n",
    "\n",
    "small_asset # 극단적인 케이스 가정하여 만듦"
   ]
  },
  {
   "cell_type": "code",
   "execution_count": null,
   "metadata": {},
   "outputs": [],
   "source": []
  },
  {
   "cell_type": "code",
   "execution_count": null,
   "metadata": {},
   "outputs": [
    {
     "data": {
      "text/plain": [
       "array([[    nan,  95300., 343500., 399500.],\n",
       "       [    nan,  94600., 345000., 418000.],\n",
       "       [    nan,  95200., 352500., 430500.],\n",
       "       [    nan,     nan,     nan, 429000.],\n",
       "       [    nan,     nan,     nan, 433000.],\n",
       "       [    nan,  95000.,     nan, 425500.],\n",
       "       [    nan,  93400.,     nan, 435000.],\n",
       "       [ 51300.,  91400.,     nan, 451500.],\n",
       "       [ 51100.,  89800.,     nan, 419000.],\n",
       "       [ 51300.,  91000.,     nan, 421000.]])"
      ]
     },
     "metadata": {},
     "output_type": "display_data"
    }
   ],
   "source": [
    "small_asset_2d = small_asset.to_numpy()\n",
    "small_asset_2d\n",
    "\n",
    "# TODO: quant research 시 좋은 approach. util 로 빼서 case별로 small 만들어주는 툴 있으면 좋음. \n"
   ]
  },
  {
   "cell_type": "code",
   "execution_count": null,
   "metadata": {},
   "outputs": [
    {
     "data": {
      "text/plain": [
       "(10, 4)"
      ]
     },
     "metadata": {},
     "output_type": "display_data"
    }
   ],
   "source": [
    "small_asset_2d.shape"
   ]
  },
  {
   "cell_type": "code",
   "execution_count": 153,
   "metadata": {},
   "outputs": [
    {
     "data": {
      "text/plain": [
       "array([[5.180e+04, 9.530e+04, 3.435e+05, ...,       nan, 5.079e+03,\n",
       "        1.025e+04],\n",
       "       [5.140e+04, 9.460e+04, 3.450e+05, ...,       nan, 5.005e+03,\n",
       "        9.300e+03],\n",
       "       [5.270e+04, 9.520e+04, 3.525e+05, ...,       nan, 4.870e+03,\n",
       "        8.920e+03],\n",
       "       ...,\n",
       "       [5.440e+04, 7.550e+04, 7.420e+05, ..., 2.015e+03, 4.980e+02,\n",
       "        5.050e+02],\n",
       "       [5.640e+04, 7.870e+04, 7.680e+05, ..., 2.010e+03, 4.980e+02,\n",
       "        5.050e+02],\n",
       "       [5.560e+04, 7.870e+04, 7.430e+05, ...,       nan,       nan,\n",
       "              nan]])"
      ]
     },
     "execution_count": 153,
     "metadata": {},
     "output_type": "execute_result"
    }
   ],
   "source": [
    "asset_2d = asset.to_numpy()\n",
    "asset_2d"
   ]
  },
  {
   "cell_type": "code",
   "execution_count": null,
   "metadata": {},
   "outputs": [],
   "source": []
  },
  {
   "cell_type": "code",
   "execution_count": 159,
   "metadata": {},
   "outputs": [
    {
     "data": {
      "text/plain": [
       "array([[        nan, -0.00737233,  0.00435731,  0.04526767],\n",
       "       [        nan,  0.00632247,  0.02150621,  0.02946589],\n",
       "       [        nan,         nan,         nan, -0.0034904 ],\n",
       "       [        nan,         nan,         nan,  0.00928081],\n",
       "       [        nan,         nan,         nan, -0.01747278],\n",
       "       [        nan, -0.01698555,         nan,  0.02208108],\n",
       "       [        nan, -0.02164587,         nan,  0.03722934],\n",
       "       [-0.00390625, -0.0176605 ,         nan, -0.07470445],\n",
       "       [ 0.00390625,  0.01327453,         nan,  0.00476191]])"
      ]
     },
     "execution_count": 159,
     "metadata": {},
     "output_type": "execute_result"
    }
   ],
   "source": [
    "small_X = np.log(small_asset_2d[1:]/small_asset_2d[:-1])\n",
    "small_X"
   ]
  },
  {
   "cell_type": "code",
   "execution_count": 160,
   "metadata": {},
   "outputs": [
    {
     "data": {
      "text/plain": [
       "(9, 4)"
      ]
     },
     "execution_count": 160,
     "metadata": {},
     "output_type": "execute_result"
    }
   ],
   "source": [
    "small_X.shape"
   ]
  },
  {
   "cell_type": "code",
   "execution_count": 161,
   "metadata": {},
   "outputs": [
    {
     "data": {
      "text/plain": [
       "(564, 2203)"
      ]
     },
     "execution_count": 161,
     "metadata": {},
     "output_type": "execute_result"
    }
   ],
   "source": [
    "X = np.log(asset_2d[1:]/asset_2d[:-1]) # 수익률 (수익률은 log 차분 수익률로 계산)\n",
    "X.shape"
   ]
  },
  {
   "cell_type": "code",
   "execution_count": null,
   "metadata": {},
   "outputs": [],
   "source": []
  },
  {
   "cell_type": "code",
   "execution_count": 162,
   "metadata": {},
   "outputs": [],
   "source": [
    "# to address nan values, use pandas for covariance matrix\n",
    "\n",
    "small_X_df = pd.DataFrame(small_X, columns=small_asset.columns)"
   ]
  },
  {
   "cell_type": "code",
   "execution_count": 165,
   "metadata": {},
   "outputs": [
    {
     "data": {
      "text/html": [
       "<div>\n",
       "<style scoped>\n",
       "    .dataframe tbody tr th:only-of-type {\n",
       "        vertical-align: middle;\n",
       "    }\n",
       "\n",
       "    .dataframe tbody tr th {\n",
       "        vertical-align: top;\n",
       "    }\n",
       "\n",
       "    .dataframe thead th {\n",
       "        text-align: right;\n",
       "    }\n",
       "</style>\n",
       "<table border=\"1\" class=\"dataframe\">\n",
       "  <thead>\n",
       "    <tr style=\"text-align: right;\">\n",
       "      <th></th>\n",
       "      <th>X005930</th>\n",
       "      <th>X000660</th>\n",
       "      <th>X051910</th>\n",
       "      <th>X207940</th>\n",
       "    </tr>\n",
       "  </thead>\n",
       "  <tbody>\n",
       "    <tr>\n",
       "      <th>X005930</th>\n",
       "      <td>0.000031</td>\n",
       "      <td>0.000121</td>\n",
       "      <td>NaN</td>\n",
       "      <td>0.000310</td>\n",
       "    </tr>\n",
       "    <tr>\n",
       "      <th>X000660</th>\n",
       "      <td>0.000121</td>\n",
       "      <td>0.000203</td>\n",
       "      <td>0.000117</td>\n",
       "      <td>0.000105</td>\n",
       "    </tr>\n",
       "    <tr>\n",
       "      <th>X051910</th>\n",
       "      <td>NaN</td>\n",
       "      <td>0.000117</td>\n",
       "      <td>0.000147</td>\n",
       "      <td>-0.000135</td>\n",
       "    </tr>\n",
       "    <tr>\n",
       "      <th>X207940</th>\n",
       "      <td>0.000310</td>\n",
       "      <td>0.000105</td>\n",
       "      <td>-0.000135</td>\n",
       "      <td>0.001312</td>\n",
       "    </tr>\n",
       "  </tbody>\n",
       "</table>\n",
       "</div>"
      ],
      "text/plain": [
       "          X005930   X000660   X051910   X207940\n",
       "X005930  0.000031  0.000121       NaN  0.000310\n",
       "X000660  0.000121  0.000203  0.000117  0.000105\n",
       "X051910       NaN  0.000117  0.000147 -0.000135\n",
       "X207940  0.000310  0.000105 -0.000135  0.001312"
      ]
     },
     "execution_count": 165,
     "metadata": {},
     "output_type": "execute_result"
    }
   ],
   "source": [
    "small_X_df.cov(min_periods=2)"
   ]
  },
  {
   "cell_type": "code",
   "execution_count": 168,
   "metadata": {},
   "outputs": [],
   "source": [
    "X_df = pd.DataFrame(X, columns=asset.columns)"
   ]
  },
  {
   "cell_type": "code",
   "execution_count": null,
   "metadata": {},
   "outputs": [],
   "source": []
  },
  {
   "cell_type": "code",
   "execution_count": 166,
   "metadata": {},
   "outputs": [
    {
     "data": {
      "text/plain": [
       "array([[ 3.05176557e-05,  1.20840132e-04,             nan,\n",
       "         3.10415890e-04],\n",
       "       [ 1.20840132e-04,  2.03165993e-04,  1.17425380e-04,\n",
       "         1.04994847e-04],\n",
       "       [            nan,  1.17425380e-04,  1.47042383e-04,\n",
       "        -1.35491537e-04],\n",
       "       [ 3.10415890e-04,  1.04994847e-04, -1.35491537e-04,\n",
       "         1.31159219e-03]])"
      ]
     },
     "execution_count": 166,
     "metadata": {},
     "output_type": "execute_result"
    }
   ],
   "source": [
    "small_Q = small_X_df.cov(min_periods=2).to_numpy()\n",
    "small_Q"
   ]
  },
  {
   "cell_type": "code",
   "execution_count": 167,
   "metadata": {},
   "outputs": [
    {
     "data": {
      "text/plain": [
       "(4, 4)"
      ]
     },
     "execution_count": 167,
     "metadata": {},
     "output_type": "execute_result"
    }
   ],
   "source": [
    "small_Q.shape"
   ]
  },
  {
   "cell_type": "code",
   "execution_count": 169,
   "metadata": {},
   "outputs": [],
   "source": [
    "Q = X_df.cov(min_periods=2).to_numpy()"
   ]
  },
  {
   "cell_type": "code",
   "execution_count": 171,
   "metadata": {},
   "outputs": [
    {
     "data": {
      "text/plain": [
       "277888"
      ]
     },
     "execution_count": 171,
     "metadata": {},
     "output_type": "execute_result"
    }
   ],
   "source": [
    "np.isnan(Q).sum()  "
   ]
  },
  {
   "cell_type": "code",
   "execution_count": null,
   "metadata": {},
   "outputs": [],
   "source": []
  },
  {
   "cell_type": "code",
   "execution_count": 50,
   "metadata": {},
   "outputs": [
    {
     "data": {
      "text/plain": [
       "(5, 1)"
      ]
     },
     "execution_count": 50,
     "metadata": {},
     "output_type": "execute_result"
    }
   ],
   "source": [
    "small_r = np.mean(small_X, axis=0)\n",
    "small_r = small_r.reshape(-1, 1)\n",
    "small_r.shape\n"
   ]
  },
  {
   "cell_type": "code",
   "execution_count": 51,
   "metadata": {},
   "outputs": [],
   "source": [
    "r = np.mean(X, axis=0) # 기대값 (수익률 평균)\n",
    "r = r.reshape(-1, 1)"
   ]
  },
  {
   "cell_type": "code",
   "execution_count": null,
   "metadata": {},
   "outputs": [],
   "source": []
  },
  {
   "cell_type": "code",
   "execution_count": 52,
   "metadata": {},
   "outputs": [
    {
     "data": {
      "text/plain": [
       "array([[1.],\n",
       "       [1.],\n",
       "       [1.],\n",
       "       [1.],\n",
       "       [1.]])"
      ]
     },
     "execution_count": 52,
     "metadata": {},
     "output_type": "execute_result"
    }
   ],
   "source": [
    "small_l = np.ones(small_r.shape)\n",
    "small_l"
   ]
  },
  {
   "cell_type": "code",
   "execution_count": 54,
   "metadata": {},
   "outputs": [
    {
     "data": {
      "text/plain": [
       "(5, 1)"
      ]
     },
     "execution_count": 54,
     "metadata": {},
     "output_type": "execute_result"
    }
   ],
   "source": [
    "small_l.shape"
   ]
  },
  {
   "cell_type": "code",
   "execution_count": 57,
   "metadata": {},
   "outputs": [],
   "source": [
    "l = np.ones(r.shape) # 1 벡터"
   ]
  },
  {
   "cell_type": "code",
   "execution_count": null,
   "metadata": {},
   "outputs": [],
   "source": []
  },
  {
   "cell_type": "code",
   "execution_count": 71,
   "metadata": {},
   "outputs": [
    {
     "data": {
      "text/plain": [
       "array([[ 3.90341297e-04, -5.69506461e-05,  3.32604512e-04,\n",
       "         2.73799928e-04,  2.91567602e-04,  1.00000000e+00,\n",
       "        -1.07771079e-03],\n",
       "       [-5.69506461e-05,  1.46447778e-04, -1.69814194e-04,\n",
       "         4.26802830e-05, -7.84137101e-05,  1.00000000e+00,\n",
       "        -5.13003379e-03],\n",
       "       [ 3.32604512e-04, -1.69814194e-04,  1.04134235e-03,\n",
       "        -5.28644749e-04,  1.72710965e-04,  1.00000000e+00,\n",
       "         6.28802059e-03],\n",
       "       [ 2.73799928e-04,  4.26802830e-05, -5.28644749e-04,\n",
       "         1.31159219e-03,  2.84438052e-04,  1.00000000e+00,\n",
       "         5.82434094e-03],\n",
       "       [ 2.91567602e-04, -7.84137101e-05,  1.72710965e-04,\n",
       "         2.84438052e-04,  2.57507560e-04,  1.00000000e+00,\n",
       "        -1.63655774e-03]])"
      ]
     },
     "execution_count": 71,
     "metadata": {},
     "output_type": "execute_result"
    }
   ],
   "source": [
    "small_Q_l_r = np.hstack([small_Q, small_l, small_r])\n",
    "small_Q_l_r"
   ]
  },
  {
   "cell_type": "code",
   "execution_count": 72,
   "metadata": {},
   "outputs": [
    {
     "data": {
      "text/plain": [
       "(5, 7)"
      ]
     },
     "execution_count": 72,
     "metadata": {},
     "output_type": "execute_result"
    }
   ],
   "source": [
    "small_Q_l_r.shape"
   ]
  },
  {
   "cell_type": "code",
   "execution_count": 64,
   "metadata": {},
   "outputs": [],
   "source": [
    "Q_l_r = np.hstack([Q, l, r])"
   ]
  },
  {
   "cell_type": "code",
   "execution_count": null,
   "metadata": {},
   "outputs": [],
   "source": []
  },
  {
   "cell_type": "code",
   "execution_count": 68,
   "metadata": {},
   "outputs": [
    {
     "data": {
      "text/plain": [
       "array([[0.],\n",
       "       [0.],\n",
       "       [0.],\n",
       "       [0.],\n",
       "       [0.]])"
      ]
     },
     "execution_count": 68,
     "metadata": {},
     "output_type": "execute_result"
    }
   ],
   "source": [
    "small_zero = np.zeros(small_l.shape)\n",
    "small_zero"
   ]
  },
  {
   "cell_type": "code",
   "execution_count": 69,
   "metadata": {},
   "outputs": [],
   "source": [
    "zero = np.zeros(l.shape)"
   ]
  },
  {
   "cell_type": "code",
   "execution_count": null,
   "metadata": {},
   "outputs": [],
   "source": []
  },
  {
   "cell_type": "code",
   "execution_count": 75,
   "metadata": {},
   "outputs": [
    {
     "data": {
      "text/plain": [
       "array([[1., 1., 1., 1., 1., 0., 0.]])"
      ]
     },
     "execution_count": 75,
     "metadata": {},
     "output_type": "execute_result"
    }
   ],
   "source": [
    "small_l_0_0 = np.hstack([small_l.T, [[0]], [[0]]])\n",
    "small_l_0_0"
   ]
  },
  {
   "cell_type": "code",
   "execution_count": null,
   "metadata": {},
   "outputs": [
    {
     "data": {
      "text/plain": [
       "(1, 7)"
      ]
     },
     "metadata": {},
     "output_type": "display_data"
    }
   ],
   "source": [
    "small_l_0_0.shape"
   ]
  },
  {
   "cell_type": "code",
   "execution_count": 77,
   "metadata": {},
   "outputs": [],
   "source": [
    "l_0_0 = np.hstack([l.T, [[0]], [[0]]])"
   ]
  },
  {
   "cell_type": "code",
   "execution_count": null,
   "metadata": {},
   "outputs": [],
   "source": []
  },
  {
   "cell_type": "code",
   "execution_count": 80,
   "metadata": {},
   "outputs": [
    {
     "data": {
      "text/plain": [
       "array([[-0.00107771, -0.00513003,  0.00628802,  0.00582434, -0.00163656,\n",
       "         0.        ,  0.        ]])"
      ]
     },
     "execution_count": 80,
     "metadata": {},
     "output_type": "execute_result"
    }
   ],
   "source": [
    "small_r_0_0 = np.hstack([small_r.T, [[0]], [[0]]])\n",
    "small_r_0_0"
   ]
  },
  {
   "cell_type": "code",
   "execution_count": 81,
   "metadata": {},
   "outputs": [
    {
     "data": {
      "text/plain": [
       "(1, 7)"
      ]
     },
     "execution_count": 81,
     "metadata": {},
     "output_type": "execute_result"
    }
   ],
   "source": [
    "small_r_0_0.shape"
   ]
  },
  {
   "cell_type": "code",
   "execution_count": 83,
   "metadata": {},
   "outputs": [],
   "source": [
    "r_0_0 = np.hstack([r.T, [[0]], [[0]]]) "
   ]
  },
  {
   "cell_type": "code",
   "execution_count": null,
   "metadata": {},
   "outputs": [],
   "source": []
  },
  {
   "cell_type": "code",
   "execution_count": 84,
   "metadata": {},
   "outputs": [
    {
     "data": {
      "text/plain": [
       "array([[ 3.90341297e-04, -5.69506461e-05,  3.32604512e-04,\n",
       "         2.73799928e-04,  2.91567602e-04,  1.00000000e+00,\n",
       "        -1.07771079e-03],\n",
       "       [-5.69506461e-05,  1.46447778e-04, -1.69814194e-04,\n",
       "         4.26802830e-05, -7.84137101e-05,  1.00000000e+00,\n",
       "        -5.13003379e-03],\n",
       "       [ 3.32604512e-04, -1.69814194e-04,  1.04134235e-03,\n",
       "        -5.28644749e-04,  1.72710965e-04,  1.00000000e+00,\n",
       "         6.28802059e-03],\n",
       "       [ 2.73799928e-04,  4.26802830e-05, -5.28644749e-04,\n",
       "         1.31159219e-03,  2.84438052e-04,  1.00000000e+00,\n",
       "         5.82434094e-03],\n",
       "       [ 2.91567602e-04, -7.84137101e-05,  1.72710965e-04,\n",
       "         2.84438052e-04,  2.57507560e-04,  1.00000000e+00,\n",
       "        -1.63655774e-03],\n",
       "       [ 1.00000000e+00,  1.00000000e+00,  1.00000000e+00,\n",
       "         1.00000000e+00,  1.00000000e+00,  0.00000000e+00,\n",
       "         0.00000000e+00],\n",
       "       [-1.07771079e-03, -5.13003379e-03,  6.28802059e-03,\n",
       "         5.82434094e-03, -1.63655774e-03,  0.00000000e+00,\n",
       "         0.00000000e+00]])"
      ]
     },
     "execution_count": 84,
     "metadata": {},
     "output_type": "execute_result"
    }
   ],
   "source": [
    "small_L = np.vstack([small_Q_l_r, small_l_0_0, small_r_0_0])\n",
    "small_L"
   ]
  },
  {
   "cell_type": "code",
   "execution_count": 85,
   "metadata": {},
   "outputs": [
    {
     "data": {
      "text/plain": [
       "(7, 7)"
      ]
     },
     "execution_count": 85,
     "metadata": {},
     "output_type": "execute_result"
    }
   ],
   "source": [
    "small_L.shape"
   ]
  },
  {
   "cell_type": "code",
   "execution_count": 86,
   "metadata": {},
   "outputs": [],
   "source": [
    "L = np.vstack([Q_l_r, l_0_0, r_0_0])"
   ]
  },
  {
   "cell_type": "code",
   "execution_count": null,
   "metadata": {},
   "outputs": [],
   "source": []
  },
  {
   "cell_type": "code",
   "execution_count": 92,
   "metadata": {},
   "outputs": [],
   "source": [
    "MU = 0.01 # 주어진 포트폴리오 수익률"
   ]
  },
  {
   "cell_type": "code",
   "execution_count": 93,
   "metadata": {},
   "outputs": [
    {
     "data": {
      "text/plain": [
       "-6.0143105726468836e-05"
      ]
     },
     "execution_count": 93,
     "metadata": {},
     "output_type": "execute_result"
    }
   ],
   "source": [
    "np.nanmean(r)"
   ]
  },
  {
   "cell_type": "code",
   "execution_count": null,
   "metadata": {},
   "outputs": [],
   "source": []
  },
  {
   "cell_type": "code",
   "execution_count": 100,
   "metadata": {},
   "outputs": [
    {
     "data": {
      "text/plain": [
       "array([[0.],\n",
       "       [0.],\n",
       "       [0.],\n",
       "       [0.],\n",
       "       [0.]])"
      ]
     },
     "execution_count": 100,
     "metadata": {},
     "output_type": "execute_result"
    }
   ],
   "source": [
    "small_zero = np.zeros(small_l.shape)\n",
    "small_zero"
   ]
  },
  {
   "cell_type": "code",
   "execution_count": 101,
   "metadata": {},
   "outputs": [],
   "source": [
    "zero = np.zeros(l.shape)"
   ]
  },
  {
   "cell_type": "code",
   "execution_count": null,
   "metadata": {},
   "outputs": [],
   "source": []
  },
  {
   "cell_type": "code",
   "execution_count": 102,
   "metadata": {},
   "outputs": [
    {
     "data": {
      "text/plain": [
       "array([[0.  ],\n",
       "       [0.  ],\n",
       "       [0.  ],\n",
       "       [0.  ],\n",
       "       [0.  ],\n",
       "       [0.  ],\n",
       "       [0.01]])"
      ]
     },
     "execution_count": 102,
     "metadata": {},
     "output_type": "execute_result"
    }
   ],
   "source": [
    "small_zero_l_mu = np.vstack([small_zero, [[0]], [[MU]]])\n",
    "small_zero_l_mu"
   ]
  },
  {
   "cell_type": "code",
   "execution_count": 103,
   "metadata": {},
   "outputs": [],
   "source": [
    "zero_l_mu = np.vstack([zero, [[0]], [[MU]]])"
   ]
  },
  {
   "cell_type": "code",
   "execution_count": null,
   "metadata": {},
   "outputs": [],
   "source": []
  },
  {
   "cell_type": "code",
   "execution_count": 104,
   "metadata": {},
   "outputs": [
    {
     "data": {
      "text/plain": [
       "(7, 7)"
      ]
     },
     "execution_count": 104,
     "metadata": {},
     "output_type": "execute_result"
    }
   ],
   "source": [
    "small_L_inv = np.linalg.inv(small_L)\n",
    "small_L_inv.shape"
   ]
  },
  {
   "cell_type": "code",
   "execution_count": 105,
   "metadata": {},
   "outputs": [],
   "source": [
    "L_inv = np.linalg.inv(L)"
   ]
  },
  {
   "cell_type": "code",
   "execution_count": null,
   "metadata": {},
   "outputs": [],
   "source": []
  },
  {
   "cell_type": "code",
   "execution_count": 107,
   "metadata": {},
   "outputs": [
    {
     "data": {
      "text/plain": [
       "array([[-8.26198516e-01],\n",
       "       [-2.01322689e-01],\n",
       "       [ 6.78935765e-01],\n",
       "       [ 5.86809051e-01],\n",
       "       [-2.38223610e-01],\n",
       "       [-2.19478506e-05],\n",
       "       [-1.48042550e-02]])"
      ]
     },
     "execution_count": 107,
     "metadata": {},
     "output_type": "execute_result"
    }
   ],
   "source": [
    "small_w_lmda1_lmda2 = small_L_inv @ small_zero_l_mu\n",
    "small_w_lmda1_lmda2"
   ]
  },
  {
   "cell_type": "code",
   "execution_count": 108,
   "metadata": {},
   "outputs": [],
   "source": [
    "w_lmda1_lmda2 = L_inv @ zero_l_mu"
   ]
  },
  {
   "cell_type": "code",
   "execution_count": null,
   "metadata": {},
   "outputs": [],
   "source": []
  },
  {
   "cell_type": "code",
   "execution_count": 111,
   "metadata": {},
   "outputs": [],
   "source": [
    "small_w = small_w_lmda1_lmda2[:-2]\n",
    "lmda1 = small_w_lmda1_lmda2[-2]\n",
    "lmda2 = small_w_lmda1_lmda2[-1]"
   ]
  },
  {
   "cell_type": "code",
   "execution_count": 112,
   "metadata": {},
   "outputs": [],
   "source": [
    "w = w_lmda1_lmda2[:-2]"
   ]
  },
  {
   "cell_type": "code",
   "execution_count": 110,
   "metadata": {},
   "outputs": [],
   "source": [
    "lmda1 = w_lmda1_lmda2[-2]\n",
    "lmda2 = w_lmda1_lmda2[-1]"
   ]
  },
  {
   "cell_type": "code",
   "execution_count": 115,
   "metadata": {},
   "outputs": [
    {
     "data": {
      "text/plain": [
       "array([[0.00014804]])"
      ]
     },
     "execution_count": 115,
     "metadata": {},
     "output_type": "execute_result"
    }
   ],
   "source": [
    "small_var = small_w.T @ small_Q @ small_w\n",
    "small_var"
   ]
  },
  {
   "cell_type": "code",
   "execution_count": 117,
   "metadata": {},
   "outputs": [
    {
     "data": {
      "text/plain": [
       "array([[nan]])"
      ]
     },
     "execution_count": 117,
     "metadata": {},
     "output_type": "execute_result"
    }
   ],
   "source": [
    "var = w.T @ Q @ w\n",
    "var"
   ]
  },
  {
   "cell_type": "code",
   "execution_count": null,
   "metadata": {},
   "outputs": [],
   "source": []
  },
  {
   "cell_type": "code",
   "execution_count": 4,
   "metadata": {},
   "outputs": [
    {
     "ename": "TypeError",
     "evalue": "loop of ufunc does not support argument 0 of type NoneType which has no callable sqrt method",
     "output_type": "error",
     "traceback": [
      "\u001b[1;31m---------------------------------------------------------------------------\u001b[0m",
      "\u001b[1;31mAttributeError\u001b[0m                            Traceback (most recent call last)",
      "\u001b[1;31mAttributeError\u001b[0m: 'NoneType' object has no attribute 'sqrt'",
      "\nThe above exception was the direct cause of the following exception:\n",
      "\u001b[1;31mTypeError\u001b[0m                                 Traceback (most recent call last)",
      "Cell \u001b[1;32mIn[4], line 7\u001b[0m\n\u001b[0;32m      5\u001b[0m mu \u001b[38;5;241m=\u001b[39m \u001b[38;5;28;01mNone\u001b[39;00m \u001b[38;5;66;03m# 포트폴리오 P의 기대수익률\u001b[39;00m\n\u001b[0;32m      6\u001b[0m var \u001b[38;5;241m=\u001b[39m \u001b[38;5;28;01mNone\u001b[39;00m \u001b[38;5;66;03m# 포트폴리오 P의 분산\u001b[39;00m\n\u001b[1;32m----> 7\u001b[0m sigma \u001b[38;5;241m=\u001b[39m \u001b[43mnp\u001b[49m\u001b[38;5;241;43m.\u001b[39;49m\u001b[43msqrt\u001b[49m\u001b[43m(\u001b[49m\u001b[43mvar\u001b[49m\u001b[43m)\u001b[49m \u001b[38;5;66;03m# 포트폴리오 P의 표준편차\u001b[39;00m\n",
      "\u001b[1;31mTypeError\u001b[0m: loop of ufunc does not support argument 0 of type NoneType which has no callable sqrt method"
     ]
    }
   ],
   "source": [
    "# 2. \n",
    "\n",
    "w = None # 포트폴리오 비중\n",
    "\n",
    "mu = None # 포트폴리오 P의 기대수익률\n",
    "var = None # 포트폴리오 P의 분산\n",
    "sigma = np.sqrt(var) # 포트폴리오 P의 표준편차"
   ]
  },
  {
   "cell_type": "code",
   "execution_count": 5,
   "metadata": {},
   "outputs": [],
   "source": [
    "# 3. \n",
    "\n",
    "objective = None # 목적함수"
   ]
  },
  {
   "cell_type": "code",
   "execution_count": 6,
   "metadata": {},
   "outputs": [],
   "source": [
    "# 4. \n",
    "\n",
    "Lagrangian = None # 라그랑지안 편미분 행렬"
   ]
  },
  {
   "cell_type": "markdown",
   "metadata": {},
   "source": [
    "### (1) `MVportfolio` "
   ]
  },
  {
   "cell_type": "code",
   "execution_count": null,
   "metadata": {},
   "outputs": [],
   "source": [
    "def MVportfolio(asset, mu_p):\n",
    "    price_2d = price.to_numpy()\n",
    "\n",
    "    # 1. \n",
    "\n",
    "    X = None # 수익률 (수익률은 log 차분 수익률로 계산)\n",
    "    Q = None # 공분산 행렬\n",
    "    r = None # 기대값 (수익률 평균)\n",
    "\n",
    "    asset = None # k개의 자산 별 가격을 m일 동안 수집한 mxk 의 dataframe\n",
    "    w = None # k개의 자산 별 가중치\n",
    "    var = None # 포트폴리오 P의 분산\n",
    "\n",
    "    return asset, w, var"
   ]
  },
  {
   "cell_type": "markdown",
   "metadata": {},
   "source": [
    "### (2) Efficient Frontier"
   ]
  },
  {
   "cell_type": "code",
   "execution_count": 7,
   "metadata": {},
   "outputs": [
    {
     "data": {
      "text/html": [
       "<div>\n",
       "<style scoped>\n",
       "    .dataframe tbody tr th:only-of-type {\n",
       "        vertical-align: middle;\n",
       "    }\n",
       "\n",
       "    .dataframe tbody tr th {\n",
       "        vertical-align: top;\n",
       "    }\n",
       "\n",
       "    .dataframe thead th {\n",
       "        text-align: right;\n",
       "    }\n",
       "</style>\n",
       "<table border=\"1\" class=\"dataframe\">\n",
       "  <thead>\n",
       "    <tr style=\"text-align: right;\">\n",
       "      <th></th>\n",
       "      <th>Date</th>\n",
       "      <th>AAPL</th>\n",
       "      <th>GOOG</th>\n",
       "      <th>MSFT</th>\n",
       "      <th>IBM</th>\n",
       "      <th>T</th>\n",
       "    </tr>\n",
       "  </thead>\n",
       "  <tbody>\n",
       "    <tr>\n",
       "      <th>0</th>\n",
       "      <td>2018-01-02</td>\n",
       "      <td>169.714086</td>\n",
       "      <td>1065.00</td>\n",
       "      <td>84.484767</td>\n",
       "      <td>147.537554</td>\n",
       "      <td>36.382354</td>\n",
       "    </tr>\n",
       "    <tr>\n",
       "      <th>1</th>\n",
       "      <td>2018-01-03</td>\n",
       "      <td>169.684530</td>\n",
       "      <td>1082.48</td>\n",
       "      <td>84.877948</td>\n",
       "      <td>151.593043</td>\n",
       "      <td>35.542180</td>\n",
       "    </tr>\n",
       "    <tr>\n",
       "      <th>2</th>\n",
       "      <td>2018-01-04</td>\n",
       "      <td>170.472706</td>\n",
       "      <td>1086.40</td>\n",
       "      <td>85.624992</td>\n",
       "      <td>154.663355</td>\n",
       "      <td>35.872586</td>\n",
       "    </tr>\n",
       "    <tr>\n",
       "      <th>3</th>\n",
       "      <td>2018-01-05</td>\n",
       "      <td>172.413591</td>\n",
       "      <td>1102.23</td>\n",
       "      <td>86.686581</td>\n",
       "      <td>155.418977</td>\n",
       "      <td>36.004748</td>\n",
       "    </tr>\n",
       "    <tr>\n",
       "      <th>4</th>\n",
       "      <td>2018-01-08</td>\n",
       "      <td>171.773197</td>\n",
       "      <td>1106.94</td>\n",
       "      <td>86.775047</td>\n",
       "      <td>156.356330</td>\n",
       "      <td>36.108590</td>\n",
       "    </tr>\n",
       "    <tr>\n",
       "      <th>...</th>\n",
       "      <td>...</td>\n",
       "      <td>...</td>\n",
       "      <td>...</td>\n",
       "      <td>...</td>\n",
       "      <td>...</td>\n",
       "      <td>...</td>\n",
       "    </tr>\n",
       "    <tr>\n",
       "      <th>227</th>\n",
       "      <td>2018-11-26</td>\n",
       "      <td>174.620000</td>\n",
       "      <td>1048.62</td>\n",
       "      <td>106.470000</td>\n",
       "      <td>119.560000</td>\n",
       "      <td>29.950000</td>\n",
       "    </tr>\n",
       "    <tr>\n",
       "      <th>228</th>\n",
       "      <td>2018-11-27</td>\n",
       "      <td>174.240000</td>\n",
       "      <td>1044.41</td>\n",
       "      <td>107.140000</td>\n",
       "      <td>120.030000</td>\n",
       "      <td>30.440000</td>\n",
       "    </tr>\n",
       "    <tr>\n",
       "      <th>229</th>\n",
       "      <td>2018-11-28</td>\n",
       "      <td>180.940000</td>\n",
       "      <td>1086.23</td>\n",
       "      <td>111.120000</td>\n",
       "      <td>123.000000</td>\n",
       "      <td>30.740000</td>\n",
       "    </tr>\n",
       "    <tr>\n",
       "      <th>230</th>\n",
       "      <td>2018-11-29</td>\n",
       "      <td>179.550000</td>\n",
       "      <td>1088.30</td>\n",
       "      <td>110.190000</td>\n",
       "      <td>121.480000</td>\n",
       "      <td>30.570000</td>\n",
       "    </tr>\n",
       "    <tr>\n",
       "      <th>231</th>\n",
       "      <td>2018-11-30</td>\n",
       "      <td>178.580000</td>\n",
       "      <td>1094.43</td>\n",
       "      <td>110.890000</td>\n",
       "      <td>124.270000</td>\n",
       "      <td>31.240000</td>\n",
       "    </tr>\n",
       "  </tbody>\n",
       "</table>\n",
       "<p>232 rows × 6 columns</p>\n",
       "</div>"
      ],
      "text/plain": [
       "           Date        AAPL     GOOG        MSFT         IBM          T\n",
       "0    2018-01-02  169.714086  1065.00   84.484767  147.537554  36.382354\n",
       "1    2018-01-03  169.684530  1082.48   84.877948  151.593043  35.542180\n",
       "2    2018-01-04  170.472706  1086.40   85.624992  154.663355  35.872586\n",
       "3    2018-01-05  172.413591  1102.23   86.686581  155.418977  36.004748\n",
       "4    2018-01-08  171.773197  1106.94   86.775047  156.356330  36.108590\n",
       "..          ...         ...      ...         ...         ...        ...\n",
       "227  2018-11-26  174.620000  1048.62  106.470000  119.560000  29.950000\n",
       "228  2018-11-27  174.240000  1044.41  107.140000  120.030000  30.440000\n",
       "229  2018-11-28  180.940000  1086.23  111.120000  123.000000  30.740000\n",
       "230  2018-11-29  179.550000  1088.30  110.190000  121.480000  30.570000\n",
       "231  2018-11-30  178.580000  1094.43  110.890000  124.270000  31.240000\n",
       "\n",
       "[232 rows x 6 columns]"
      ]
     },
     "execution_count": 7,
     "metadata": {},
     "output_type": "execute_result"
    }
   ],
   "source": [
    "it = pd.read_csv('it.csv')\n",
    "it"
   ]
  },
  {
   "cell_type": "markdown",
   "metadata": {},
   "source": [
    "## 2. Momentum"
   ]
  },
  {
   "cell_type": "code",
   "execution_count": null,
   "metadata": {},
   "outputs": [],
   "source": []
  },
  {
   "cell_type": "markdown",
   "metadata": {},
   "source": [
    "## 3. Monte-Carlo Simulation"
   ]
  },
  {
   "cell_type": "code",
   "execution_count": null,
   "metadata": {},
   "outputs": [],
   "source": []
  }
 ],
 "metadata": {
  "kernelspec": {
   "display_name": ".venv",
   "language": "python",
   "name": "python3"
  },
  "language_info": {
   "codemirror_mode": {
    "name": "ipython",
    "version": 3
   },
   "file_extension": ".py",
   "mimetype": "text/x-python",
   "name": "python",
   "nbconvert_exporter": "python",
   "pygments_lexer": "ipython3",
   "version": "3.11.5"
  }
 },
 "nbformat": 4,
 "nbformat_minor": 2
}
