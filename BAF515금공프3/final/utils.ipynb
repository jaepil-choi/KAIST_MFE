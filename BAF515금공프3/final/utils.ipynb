{
 "cells": [
  {
   "cell_type": "code",
   "execution_count": null,
   "metadata": {},
   "outputs": [],
   "source": [
    "from functools import reduce"
   ]
  },
  {
   "cell_type": "code",
   "execution_count": null,
   "metadata": {},
   "outputs": [],
   "source": [
    "# EDA asset dataframe\n",
    "\n",
    "# Hypothesis: Five cases of nan values in the dataframe\n",
    "# 1. The first rows of the series has nan values\n",
    "c0 = [1, 1, 0, 0, 0]\n",
    "\n",
    "# 2. The last rows of the series has nan values\n",
    "c1 = [0, 0, 0, 1, 1]\n",
    "\n",
    "\n",
    "# 3. The middle rows of the series has nan values\n",
    "c2 = [0, 1, 1, 0, 0]\n",
    "\n",
    "# 4. The first few and last few rows of the series has nan values\n",
    "c3 = [1, 1, 0, 0, 1]\n",
    "\n",
    "# 5. No nan values in the series\n",
    "c4 = [0, 0, 0, 0, 0]"
   ]
  },
  {
   "cell_type": "code",
   "execution_count": null,
   "metadata": {},
   "outputs": [],
   "source": [
    "def reduce_same(result, x):\n",
    "    if result[-1] == x:\n",
    "        return result\n",
    "    else:\n",
    "        result.append(x)\n",
    "        return result"
   ]
  },
  {
   "cell_type": "code",
   "execution_count": null,
   "metadata": {},
   "outputs": [
    {
     "data": {
      "text/plain": [
       "[-1, 1, 0]"
      ]
     },
     "metadata": {},
     "output_type": "display_data"
    }
   ],
   "source": [
    "reduce(reduce_same, c0, [-1])"
   ]
  },
  {
   "cell_type": "code",
   "execution_count": null,
   "metadata": {},
   "outputs": [],
   "source": [
    "def make_unique_case_df(df):\n",
    "    unique_case_df = pd.DataFrame()\n",
    "    cases = {\n",
    "        (-1, 1, 0): 0, # 존재하지 않았다가 나타난 경우\n",
    "        (-1, 0, 1): 1, # 존재했다가 사라진 경우\n",
    "        (-1, 0, 1, 0): 2, # 존재했다가 사라지다가 다시 나타난 경우\n",
    "        (-1, 1, 0, 1): 3, # 존재하지 않았다가 나타나다가 사라진 경우\n",
    "        (-1, 1): 4, # 계속 존재하지 않은 경우\n",
    "        (-1, 0): 5, # 계속 존재하는 경우\n",
    "    }\n",
    "    case_satisfied = [0] * len(cases.keys())\n",
    "    result_cases = []\n",
    "\n",
    "    for col in df.columns:\n",
    "        series = df[col]\n",
    "        isna = (series.isna() * 1).tolist()\n",
    "\n",
    "        case_tuple = tuple(reduce(reduce_same, isna, [-1]))\n",
    "        \n",
    "        assert case_tuple in cases.keys() , f\"Case tuple {case_tuple} not in cases\"\n",
    "\n",
    "        if case_satisfied[cases[case_tuple]] != 1:\n",
    "            unique_case_df[col] = series\n",
    "            case_satisfied[cases[case_tuple]] = 1\n",
    "            result_cases.append(cases[case_tuple])\n",
    "        else:\n",
    "            if sum(case_satisfied) == len(cases.keys()):\n",
    "                break\n",
    "            else:\n",
    "                continue\n",
    "        \n",
    "    return unique_case_df, result_cases"
   ]
  },
  {
   "cell_type": "code",
   "execution_count": null,
   "metadata": {},
   "outputs": [],
   "source": [
    "uc_df, _ = make_unique_case_df(asset)"
   ]
  },
  {
   "cell_type": "code",
   "execution_count": null,
   "metadata": {},
   "outputs": [
    {
     "data": {
      "text/html": [
       "<div>\n",
       "<style scoped>\n",
       "    .dataframe tbody tr th:only-of-type {\n",
       "        vertical-align: middle;\n",
       "    }\n",
       "\n",
       "    .dataframe tbody tr th {\n",
       "        vertical-align: top;\n",
       "    }\n",
       "\n",
       "    .dataframe thead th {\n",
       "        text-align: right;\n",
       "    }\n",
       "</style>\n",
       "<table border=\"1\" class=\"dataframe\">\n",
       "  <thead>\n",
       "    <tr style=\"text-align: right;\">\n",
       "      <th></th>\n",
       "      <th>AAPL</th>\n",
       "    </tr>\n",
       "    <tr>\n",
       "      <th>Date</th>\n",
       "      <th></th>\n",
       "    </tr>\n",
       "  </thead>\n",
       "  <tbody>\n",
       "    <tr>\n",
       "      <th>2018-01-02</th>\n",
       "      <td>169.714086</td>\n",
       "    </tr>\n",
       "    <tr>\n",
       "      <th>2018-01-03</th>\n",
       "      <td>169.684530</td>\n",
       "    </tr>\n",
       "    <tr>\n",
       "      <th>2018-01-04</th>\n",
       "      <td>170.472706</td>\n",
       "    </tr>\n",
       "    <tr>\n",
       "      <th>2018-01-05</th>\n",
       "      <td>172.413591</td>\n",
       "    </tr>\n",
       "    <tr>\n",
       "      <th>2018-01-08</th>\n",
       "      <td>171.773197</td>\n",
       "    </tr>\n",
       "    <tr>\n",
       "      <th>...</th>\n",
       "      <td>...</td>\n",
       "    </tr>\n",
       "    <tr>\n",
       "      <th>2018-11-26</th>\n",
       "      <td>174.620000</td>\n",
       "    </tr>\n",
       "    <tr>\n",
       "      <th>2018-11-27</th>\n",
       "      <td>174.240000</td>\n",
       "    </tr>\n",
       "    <tr>\n",
       "      <th>2018-11-28</th>\n",
       "      <td>180.940000</td>\n",
       "    </tr>\n",
       "    <tr>\n",
       "      <th>2018-11-29</th>\n",
       "      <td>179.550000</td>\n",
       "    </tr>\n",
       "    <tr>\n",
       "      <th>2018-11-30</th>\n",
       "      <td>178.580000</td>\n",
       "    </tr>\n",
       "  </tbody>\n",
       "</table>\n",
       "<p>232 rows × 1 columns</p>\n",
       "</div>"
      ],
      "text/plain": [
       "                  AAPL\n",
       "Date                  \n",
       "2018-01-02  169.714086\n",
       "2018-01-03  169.684530\n",
       "2018-01-04  170.472706\n",
       "2018-01-05  172.413591\n",
       "2018-01-08  171.773197\n",
       "...                ...\n",
       "2018-11-26  174.620000\n",
       "2018-11-27  174.240000\n",
       "2018-11-28  180.940000\n",
       "2018-11-29  179.550000\n",
       "2018-11-30  178.580000\n",
       "\n",
       "[232 rows x 1 columns]"
      ]
     },
     "metadata": {},
     "output_type": "display_data"
    }
   ],
   "source": [
    "uc_df"
   ]
  },
  {
   "cell_type": "code",
   "execution_count": null,
   "metadata": {},
   "outputs": [],
   "source": [
    "def shorten_nan_cases(unique_case_df, minimum_rows_per_case=1):\n",
    "    isna_df = unique_case_df.isna()\n",
    "\n",
    "    unique_rows_df = isna_df.drop_duplicates()\n",
    "    rowwise_cases = [tuple(c.values()) for c in list(unique_rows_df.T.to_dict().values())]\n",
    "    cases_mapping = {case: i for i, case in enumerate(rowwise_cases)}\n",
    "\n",
    "    case_satisfied_count = np.zeros(len(cases_mapping))\n",
    "\n",
    "    if isinstance(minimum_rows_per_case, int):\n",
    "        case_minimum_counts = np.ones(len(cases_mapping)) * minimum_rows_per_case\n",
    "    elif isinstance(minimum_rows_per_case, list):\n",
    "        assert len(minimum_rows_per_case) == len(cases_mapping), f\"Required cases: {len(cases_mapping)} != Input cases: {len(minimum_rows_per_case)}\"\n",
    "        case_minimum_counts = minimum_rows_per_case\n",
    "    \n",
    "    boolmask_df = pd.DataFrame()\n",
    "    \n",
    "    already_sampled = [] # Assuming unique time-series index\n",
    "\n",
    "    while not (case_satisfied_count >= case_minimum_counts).all():\n",
    "        sample_row = isna_df.sample(1)\n",
    "\n",
    "        if sample_row.index[0] in already_sampled:\n",
    "            continue\n",
    "        else:\n",
    "            already_sampled.append(sample_row.index[0])\n",
    "        \n",
    "        row_case = tuple(sample_row.values[0])\n",
    "        case_idx = cases_mapping[row_case]\n",
    "\n",
    "        if case_satisfied_count[case_idx] >= case_minimum_counts[case_idx]:\n",
    "            continue\n",
    "        else:\n",
    "            case_satisfied_count[case_idx] += 1\n",
    "            boolmask_df = pd.concat([boolmask_df, sample_row], axis=0)\n",
    "        \n",
    "    result_df = unique_case_df.reindex(index=boolmask_df.index, columns=boolmask_df.columns).sort_index()\n",
    "\n",
    "    return result_df\n",
    "\n",
    "\n",
    "# 주의: 경계값을 생각하지 않음. "
   ]
  },
  {
   "cell_type": "code",
   "execution_count": null,
   "metadata": {},
   "outputs": [
    {
     "data": {
      "text/html": [
       "<div>\n",
       "<style scoped>\n",
       "    .dataframe tbody tr th:only-of-type {\n",
       "        vertical-align: middle;\n",
       "    }\n",
       "\n",
       "    .dataframe tbody tr th {\n",
       "        vertical-align: top;\n",
       "    }\n",
       "\n",
       "    .dataframe thead th {\n",
       "        text-align: right;\n",
       "    }\n",
       "</style>\n",
       "<table border=\"1\" class=\"dataframe\">\n",
       "  <thead>\n",
       "    <tr style=\"text-align: right;\">\n",
       "      <th></th>\n",
       "      <th>X005930</th>\n",
       "      <th>X302440</th>\n",
       "      <th>X326030</th>\n",
       "      <th>X011690</th>\n",
       "      <th>X322000</th>\n",
       "    </tr>\n",
       "    <tr>\n",
       "      <th>date</th>\n",
       "      <th></th>\n",
       "      <th></th>\n",
       "      <th></th>\n",
       "      <th></th>\n",
       "      <th></th>\n",
       "    </tr>\n",
       "  </thead>\n",
       "  <tbody>\n",
       "    <tr>\n",
       "      <th>2018-07-02</th>\n",
       "      <td>45550</td>\n",
       "      <td>NaN</td>\n",
       "      <td>NaN</td>\n",
       "      <td>16860.0</td>\n",
       "      <td>NaN</td>\n",
       "    </tr>\n",
       "    <tr>\n",
       "      <th>2018-07-13</th>\n",
       "      <td>46500</td>\n",
       "      <td>NaN</td>\n",
       "      <td>NaN</td>\n",
       "      <td>16780.0</td>\n",
       "      <td>NaN</td>\n",
       "    </tr>\n",
       "    <tr>\n",
       "      <th>2019-02-18</th>\n",
       "      <td>46200</td>\n",
       "      <td>NaN</td>\n",
       "      <td>NaN</td>\n",
       "      <td>17340.0</td>\n",
       "      <td>NaN</td>\n",
       "    </tr>\n",
       "    <tr>\n",
       "      <th>2020-01-13</th>\n",
       "      <td>60000</td>\n",
       "      <td>NaN</td>\n",
       "      <td>NaN</td>\n",
       "      <td>9990.0</td>\n",
       "      <td>18700.0</td>\n",
       "    </tr>\n",
       "    <tr>\n",
       "      <th>2020-03-10</th>\n",
       "      <td>54600</td>\n",
       "      <td>NaN</td>\n",
       "      <td>NaN</td>\n",
       "      <td>4180.0</td>\n",
       "      <td>23100.0</td>\n",
       "    </tr>\n",
       "    <tr>\n",
       "      <th>2020-03-17</th>\n",
       "      <td>47300</td>\n",
       "      <td>NaN</td>\n",
       "      <td>NaN</td>\n",
       "      <td>3720.0</td>\n",
       "      <td>20150.0</td>\n",
       "    </tr>\n",
       "    <tr>\n",
       "      <th>2020-07-15</th>\n",
       "      <td>54700</td>\n",
       "      <td>NaN</td>\n",
       "      <td>177000.0</td>\n",
       "      <td>2440.0</td>\n",
       "      <td>27300.0</td>\n",
       "    </tr>\n",
       "    <tr>\n",
       "      <th>2020-09-02</th>\n",
       "      <td>54400</td>\n",
       "      <td>NaN</td>\n",
       "      <td>181500.0</td>\n",
       "      <td>2440.0</td>\n",
       "      <td>28800.0</td>\n",
       "    </tr>\n",
       "    <tr>\n",
       "      <th>2020-09-04</th>\n",
       "      <td>55600</td>\n",
       "      <td>NaN</td>\n",
       "      <td>190000.0</td>\n",
       "      <td>NaN</td>\n",
       "      <td>NaN</td>\n",
       "    </tr>\n",
       "  </tbody>\n",
       "</table>\n",
       "</div>"
      ],
      "text/plain": [
       "            X005930  X302440   X326030  X011690  X322000\n",
       "date                                                    \n",
       "2018-07-02    45550      NaN       NaN  16860.0      NaN\n",
       "2018-07-13    46500      NaN       NaN  16780.0      NaN\n",
       "2019-02-18    46200      NaN       NaN  17340.0      NaN\n",
       "2020-01-13    60000      NaN       NaN   9990.0  18700.0\n",
       "2020-03-10    54600      NaN       NaN   4180.0  23100.0\n",
       "2020-03-17    47300      NaN       NaN   3720.0  20150.0\n",
       "2020-07-15    54700      NaN  177000.0   2440.0  27300.0\n",
       "2020-09-02    54400      NaN  181500.0   2440.0  28800.0\n",
       "2020-09-04    55600      NaN  190000.0      NaN      NaN"
      ]
     },
     "metadata": {},
     "output_type": "display_data"
    }
   ],
   "source": [
    "small_asset = shorten_nan_cases(uc_df, minimum_rows_per_case=[3, 3, 2, 1])\n",
    "small_asset"
   ]
  },
  {
   "cell_type": "code",
   "execution_count": null,
   "metadata": {},
   "outputs": [],
   "source": [
    "# small_asset = asset.iloc[:10, :5].copy()\n",
    "# small_asset.iloc[:7, 0] = np.nan\n",
    "# small_asset.iloc[3:5, 1] = np.nan\n",
    "# small_asset.iloc[-7:, 2] = np.nan\n",
    "\n",
    "# small_asset # 극단적인 케이스 가정하여 만듦"
   ]
  },
  {
   "cell_type": "code",
   "execution_count": null,
   "metadata": {},
   "outputs": [
    {
     "data": {
      "text/plain": [
       "array([[ 45550.,     nan,     nan,  16860.,     nan],\n",
       "       [ 46500.,     nan,     nan,  16780.,     nan],\n",
       "       [ 46200.,     nan,     nan,  17340.,     nan],\n",
       "       [ 60000.,     nan,     nan,   9990.,  18700.],\n",
       "       [ 54600.,     nan,     nan,   4180.,  23100.],\n",
       "       [ 47300.,     nan,     nan,   3720.,  20150.],\n",
       "       [ 54700.,     nan, 177000.,   2440.,  27300.],\n",
       "       [ 54400.,     nan, 181500.,   2440.,  28800.],\n",
       "       [ 55600.,     nan, 190000.,     nan,     nan]])"
      ]
     },
     "metadata": {},
     "output_type": "display_data"
    }
   ],
   "source": [
    "small_asset_2d = small_asset.to_numpy()\n",
    "small_asset_2d\n"
   ]
  },
  {
   "cell_type": "code",
   "execution_count": null,
   "metadata": {},
   "outputs": [
    {
     "data": {
      "text/plain": [
       "(9, 5)"
      ]
     },
     "metadata": {},
     "output_type": "display_data"
    }
   ],
   "source": [
    "small_asset_2d.shape"
   ]
  },
  {
   "cell_type": "code",
   "execution_count": null,
   "metadata": {},
   "outputs": [
    {
     "data": {
      "text/plain": [
       "array([[ 0.02064169,         nan,         nan, -0.00475625,         nan],\n",
       "       [-0.00647251,         nan,         nan,  0.03282827,         nan],\n",
       "       [ 0.26136476,         nan,         nan, -0.55143138,         nan],\n",
       "       [-0.09431068,         nan,         nan, -0.87127335,  0.21130909],\n",
       "       [-0.14352359,         nan,         nan, -0.11658758, -0.13662833],\n",
       "       [ 0.14535341,         nan,         nan, -0.42172563,  0.30368241],\n",
       "       [-0.00549956,         nan,  0.02510592,  0.        ,  0.05348868],\n",
       "       [ 0.02181905,         nan,  0.04576842,         nan,         nan]])"
      ]
     },
     "metadata": {},
     "output_type": "display_data"
    }
   ],
   "source": [
    "small_X = np.log(small_asset_2d[1:]/small_asset_2d[:-1])\n",
    "small_X"
   ]
  },
  {
   "cell_type": "code",
   "execution_count": null,
   "metadata": {},
   "outputs": [
    {
     "data": {
      "text/plain": [
       "(8, 5)"
      ]
     },
     "metadata": {},
     "output_type": "display_data"
    }
   ],
   "source": [
    "small_X.shape"
   ]
  },
  {
   "cell_type": "code",
   "execution_count": null,
   "metadata": {},
   "outputs": [],
   "source": [
    "# to address nan values, use pandas for covariance matrix\n",
    "\n",
    "small_X_df = pd.DataFrame(small_X, columns=small_asset.columns)"
   ]
  },
  {
   "cell_type": "code",
   "execution_count": null,
   "metadata": {},
   "outputs": [
    {
     "data": {
      "text/html": [
       "<div>\n",
       "<style scoped>\n",
       "    .dataframe tbody tr th:only-of-type {\n",
       "        vertical-align: middle;\n",
       "    }\n",
       "\n",
       "    .dataframe tbody tr th {\n",
       "        vertical-align: top;\n",
       "    }\n",
       "\n",
       "    .dataframe thead th {\n",
       "        text-align: right;\n",
       "    }\n",
       "</style>\n",
       "<table border=\"1\" class=\"dataframe\">\n",
       "  <thead>\n",
       "    <tr style=\"text-align: right;\">\n",
       "      <th></th>\n",
       "      <th>X005930</th>\n",
       "      <th>X302440</th>\n",
       "      <th>X326030</th>\n",
       "      <th>X011690</th>\n",
       "      <th>X322000</th>\n",
       "    </tr>\n",
       "  </thead>\n",
       "  <tbody>\n",
       "    <tr>\n",
       "      <th>X005930</th>\n",
       "      <td>0.016420</td>\n",
       "      <td>NaN</td>\n",
       "      <td>0.000282</td>\n",
       "      <td>-0.009634</td>\n",
       "      <td>0.018035</td>\n",
       "    </tr>\n",
       "    <tr>\n",
       "      <th>X302440</th>\n",
       "      <td>NaN</td>\n",
       "      <td>NaN</td>\n",
       "      <td>NaN</td>\n",
       "      <td>NaN</td>\n",
       "      <td>NaN</td>\n",
       "    </tr>\n",
       "    <tr>\n",
       "      <th>X326030</th>\n",
       "      <td>0.000282</td>\n",
       "      <td>NaN</td>\n",
       "      <td>0.000213</td>\n",
       "      <td>NaN</td>\n",
       "      <td>NaN</td>\n",
       "    </tr>\n",
       "    <tr>\n",
       "      <th>X011690</th>\n",
       "      <td>-0.009634</td>\n",
       "      <td>NaN</td>\n",
       "      <td>NaN</td>\n",
       "      <td>0.120331</td>\n",
       "      <td>-0.048022</td>\n",
       "    </tr>\n",
       "    <tr>\n",
       "      <th>X322000</th>\n",
       "      <td>0.018035</td>\n",
       "      <td>NaN</td>\n",
       "      <td>NaN</td>\n",
       "      <td>-0.048022</td>\n",
       "      <td>0.037260</td>\n",
       "    </tr>\n",
       "  </tbody>\n",
       "</table>\n",
       "</div>"
      ],
      "text/plain": [
       "          X005930  X302440   X326030   X011690   X322000\n",
       "X005930  0.016420      NaN  0.000282 -0.009634  0.018035\n",
       "X302440       NaN      NaN       NaN       NaN       NaN\n",
       "X326030  0.000282      NaN  0.000213       NaN       NaN\n",
       "X011690 -0.009634      NaN       NaN  0.120331 -0.048022\n",
       "X322000  0.018035      NaN       NaN -0.048022  0.037260"
      ]
     },
     "metadata": {},
     "output_type": "display_data"
    }
   ],
   "source": [
    "small_X_df.cov(min_periods=1)"
   ]
  },
  {
   "cell_type": "code",
   "execution_count": null,
   "metadata": {},
   "outputs": [
    {
     "data": {
      "text/plain": [
       "array([[ 0.01641976,         nan,  0.00028224, -0.00963374,  0.01803535],\n",
       "       [        nan,         nan,         nan,         nan,         nan],\n",
       "       [ 0.00028224,         nan,  0.00021347,         nan,         nan],\n",
       "       [-0.00963374,         nan,         nan,  0.12033084, -0.04802211],\n",
       "       [ 0.01803535,         nan,         nan, -0.04802211,  0.03725962]])"
      ]
     },
     "metadata": {},
     "output_type": "display_data"
    }
   ],
   "source": [
    "small_Q = small_X_df.cov(min_periods=2).to_numpy()\n",
    "small_Q"
   ]
  },
  {
   "cell_type": "code",
   "execution_count": null,
   "metadata": {},
   "outputs": [
    {
     "data": {
      "text/plain": [
       "13"
      ]
     },
     "metadata": {},
     "output_type": "display_data"
    }
   ],
   "source": [
    "np.isnan(small_Q).sum()"
   ]
  },
  {
   "cell_type": "code",
   "execution_count": null,
   "metadata": {},
   "outputs": [
    {
     "data": {
      "text/plain": [
       "(5, 5)"
      ]
     },
     "metadata": {},
     "output_type": "display_data"
    }
   ],
   "source": [
    "small_Q.shape"
   ]
  },
  {
   "cell_type": "code",
   "execution_count": null,
   "metadata": {},
   "outputs": [
    {
     "name": "stderr",
     "output_type": "stream",
     "text": [
      "C:\\Users\\chlje\\AppData\\Local\\Temp\\ipykernel_44428\\1298522824.py:1: RuntimeWarning: Mean of empty slice\n",
      "  small_r = np.nanmean(small_X, axis=0)\n"
     ]
    },
    {
     "data": {
      "text/plain": [
       "(5, 1)"
      ]
     },
     "metadata": {},
     "output_type": "display_data"
    }
   ],
   "source": [
    "small_r = np.nanmean(small_X, axis=0)\n",
    "small_r = small_r.reshape(-1, 1)\n",
    "small_r.shape\n"
   ]
  },
  {
   "cell_type": "code",
   "execution_count": null,
   "metadata": {},
   "outputs": [
    {
     "data": {
      "text/plain": [
       "array([[ 0.02492157],\n",
       "       [        nan],\n",
       "       [ 0.03543717],\n",
       "       [-0.27613513],\n",
       "       [ 0.10796297]])"
      ]
     },
     "metadata": {},
     "output_type": "display_data"
    }
   ],
   "source": [
    "small_r"
   ]
  },
  {
   "cell_type": "code",
   "execution_count": null,
   "metadata": {},
   "outputs": [
    {
     "data": {
      "text/plain": [
       "array([[1.],\n",
       "       [1.],\n",
       "       [1.],\n",
       "       [1.],\n",
       "       [1.]])"
      ]
     },
     "metadata": {},
     "output_type": "display_data"
    }
   ],
   "source": [
    "small_l = np.ones(small_r.shape)\n",
    "small_l"
   ]
  },
  {
   "cell_type": "code",
   "execution_count": null,
   "metadata": {},
   "outputs": [
    {
     "data": {
      "text/plain": [
       "(5, 1)"
      ]
     },
     "metadata": {},
     "output_type": "display_data"
    }
   ],
   "source": [
    "small_l.shape"
   ]
  },
  {
   "cell_type": "code",
   "execution_count": null,
   "metadata": {},
   "outputs": [
    {
     "data": {
      "text/plain": [
       "array([[ 1.64197557e-02,             nan,  2.82235280e-04,\n",
       "        -9.63373912e-03,  1.80353503e-02,  1.00000000e+00,\n",
       "         2.49215722e-02],\n",
       "       [            nan,             nan,             nan,\n",
       "                    nan,             nan,  1.00000000e+00,\n",
       "                    nan],\n",
       "       [ 2.82235280e-04,             nan,  2.13469398e-04,\n",
       "                    nan,             nan,  1.00000000e+00,\n",
       "         3.54371698e-02],\n",
       "       [-9.63373912e-03,             nan,             nan,\n",
       "         1.20330837e-01, -4.80221091e-02,  1.00000000e+00,\n",
       "        -2.76135130e-01],\n",
       "       [ 1.80353503e-02,             nan,             nan,\n",
       "        -4.80221091e-02,  3.72596244e-02,  1.00000000e+00,\n",
       "         1.07962966e-01]])"
      ]
     },
     "metadata": {},
     "output_type": "display_data"
    }
   ],
   "source": [
    "small_Q_l_r = np.hstack([small_Q, small_l, small_r])\n",
    "small_Q_l_r"
   ]
  },
  {
   "cell_type": "code",
   "execution_count": null,
   "metadata": {},
   "outputs": [
    {
     "data": {
      "text/plain": [
       "(5, 7)"
      ]
     },
     "metadata": {},
     "output_type": "display_data"
    }
   ],
   "source": [
    "small_Q_l_r.shape"
   ]
  },
  {
   "cell_type": "code",
   "execution_count": null,
   "metadata": {},
   "outputs": [
    {
     "data": {
      "text/plain": [
       "array([[1., 1., 1., 1., 1., 0., 0.]])"
      ]
     },
     "metadata": {},
     "output_type": "display_data"
    }
   ],
   "source": [
    "small_l_0_0 = np.hstack([small_l.T, [[0]], [[0]]])\n",
    "small_l_0_0"
   ]
  },
  {
   "cell_type": "code",
   "execution_count": null,
   "metadata": {},
   "outputs": [
    {
     "data": {
      "text/plain": [
       "(1, 7)"
      ]
     },
     "metadata": {},
     "output_type": "display_data"
    }
   ],
   "source": [
    "small_l_0_0.shape"
   ]
  },
  {
   "cell_type": "code",
   "execution_count": null,
   "metadata": {},
   "outputs": [
    {
     "data": {
      "text/plain": [
       "array([[ 0.02492157,         nan,  0.03543717, -0.27613513,  0.10796297,\n",
       "         0.        ,  0.        ]])"
      ]
     },
     "metadata": {},
     "output_type": "display_data"
    }
   ],
   "source": [
    "small_r_0_0 = np.hstack([small_r.T, [[0]], [[0]]])\n",
    "small_r_0_0"
   ]
  },
  {
   "cell_type": "code",
   "execution_count": null,
   "metadata": {},
   "outputs": [
    {
     "data": {
      "text/plain": [
       "(1, 7)"
      ]
     },
     "metadata": {},
     "output_type": "display_data"
    }
   ],
   "source": [
    "small_r_0_0.shape"
   ]
  },
  {
   "cell_type": "code",
   "execution_count": null,
   "metadata": {},
   "outputs": [
    {
     "data": {
      "text/plain": [
       "array([[ 1.64197557e-02,             nan,  2.82235280e-04,\n",
       "        -9.63373912e-03,  1.80353503e-02,  1.00000000e+00,\n",
       "         2.49215722e-02],\n",
       "       [            nan,             nan,             nan,\n",
       "                    nan,             nan,  1.00000000e+00,\n",
       "                    nan],\n",
       "       [ 2.82235280e-04,             nan,  2.13469398e-04,\n",
       "                    nan,             nan,  1.00000000e+00,\n",
       "         3.54371698e-02],\n",
       "       [-9.63373912e-03,             nan,             nan,\n",
       "         1.20330837e-01, -4.80221091e-02,  1.00000000e+00,\n",
       "        -2.76135130e-01],\n",
       "       [ 1.80353503e-02,             nan,             nan,\n",
       "        -4.80221091e-02,  3.72596244e-02,  1.00000000e+00,\n",
       "         1.07962966e-01],\n",
       "       [ 1.00000000e+00,  1.00000000e+00,  1.00000000e+00,\n",
       "         1.00000000e+00,  1.00000000e+00,  0.00000000e+00,\n",
       "         0.00000000e+00],\n",
       "       [ 2.49215722e-02,             nan,  3.54371698e-02,\n",
       "        -2.76135130e-01,  1.07962966e-01,  0.00000000e+00,\n",
       "         0.00000000e+00]])"
      ]
     },
     "metadata": {},
     "output_type": "display_data"
    }
   ],
   "source": [
    "small_L = np.vstack([small_Q_l_r, small_l_0_0, small_r_0_0])\n",
    "small_L"
   ]
  },
  {
   "cell_type": "code",
   "execution_count": null,
   "metadata": {},
   "outputs": [
    {
     "data": {
      "text/plain": [
       "(7, 7)"
      ]
     },
     "metadata": {},
     "output_type": "display_data"
    }
   ],
   "source": [
    "small_L.shape"
   ]
  },
  {
   "cell_type": "code",
   "execution_count": null,
   "metadata": {},
   "outputs": [
    {
     "data": {
      "text/plain": [
       "array([[0.],\n",
       "       [0.],\n",
       "       [0.],\n",
       "       [0.],\n",
       "       [0.]])"
      ]
     },
     "metadata": {},
     "output_type": "display_data"
    }
   ],
   "source": [
    "small_zero = np.zeros(small_l.shape)\n",
    "small_zero"
   ]
  },
  {
   "cell_type": "code",
   "execution_count": null,
   "metadata": {},
   "outputs": [
    {
     "data": {
      "text/plain": [
       "array([[0.  ],\n",
       "       [0.  ],\n",
       "       [0.  ],\n",
       "       [0.  ],\n",
       "       [0.  ],\n",
       "       [0.  ],\n",
       "       [0.01]])"
      ]
     },
     "metadata": {},
     "output_type": "display_data"
    }
   ],
   "source": [
    "small_zero_l_mu = np.vstack([small_zero, [[0]], [[MU]]])\n",
    "small_zero_l_mu"
   ]
  },
  {
   "cell_type": "code",
   "execution_count": null,
   "metadata": {},
   "outputs": [
    {
     "data": {
      "text/plain": [
       "(7, 7)"
      ]
     },
     "metadata": {},
     "output_type": "display_data"
    }
   ],
   "source": [
    "small_L_inv = np.linalg.inv(small_L)\n",
    "small_L_inv.shape"
   ]
  },
  {
   "cell_type": "code",
   "execution_count": null,
   "metadata": {},
   "outputs": [
    {
     "data": {
      "text/plain": [
       "array([[nan, nan, nan, nan, nan, nan, nan],\n",
       "       [nan, nan, nan, nan, nan, nan, nan],\n",
       "       [nan, nan, nan, nan, nan, nan, nan],\n",
       "       [nan, nan, nan, nan, nan, nan, nan],\n",
       "       [nan, nan, nan, nan, nan, nan, nan],\n",
       "       [nan, nan, nan, nan, nan, nan, nan],\n",
       "       [nan, nan, nan, nan, nan, nan, nan]])"
      ]
     },
     "metadata": {},
     "output_type": "display_data"
    }
   ],
   "source": [
    "small_L_inv"
   ]
  },
  {
   "cell_type": "code",
   "execution_count": null,
   "metadata": {},
   "outputs": [
    {
     "data": {
      "text/plain": [
       "array([[nan],\n",
       "       [nan],\n",
       "       [nan],\n",
       "       [nan],\n",
       "       [nan],\n",
       "       [nan],\n",
       "       [nan]])"
      ]
     },
     "metadata": {},
     "output_type": "display_data"
    }
   ],
   "source": [
    "small_w_lmda1_lmda2 = small_L_inv @ small_zero_l_mu\n",
    "small_w_lmda1_lmda2"
   ]
  },
  {
   "cell_type": "code",
   "execution_count": null,
   "metadata": {},
   "outputs": [],
   "source": [
    "small_w = small_w_lmda1_lmda2[:-2]\n",
    "small_lmda1 = small_w_lmda1_lmda2[-2]\n",
    "small_lmda2 = small_w_lmda1_lmda2[-1]"
   ]
  },
  {
   "cell_type": "code",
   "execution_count": null,
   "metadata": {},
   "outputs": [
    {
     "data": {
      "text/plain": [
       "array([[nan]])"
      ]
     },
     "metadata": {},
     "output_type": "display_data"
    }
   ],
   "source": [
    "small_var = small_w.T @ small_Q @ small_w\n",
    "small_var"
   ]
  }
 ],
 "metadata": {
  "language_info": {
   "name": "python"
  }
 },
 "nbformat": 4,
 "nbformat_minor": 2
}
