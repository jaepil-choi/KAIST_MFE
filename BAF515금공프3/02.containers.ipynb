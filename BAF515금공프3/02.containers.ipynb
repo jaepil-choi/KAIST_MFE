{
 "cells": [
  {
   "cell_type": "markdown",
   "metadata": {},
   "source": [
    "# Chapter 2. Containers"
   ]
  },
  {
   "cell_type": "markdown",
   "metadata": {},
   "source": [
    "- string은 immutable해서 replace 안됨. 명시적으로 `.replace()` method 써주지 않는 이상. \n",
    "    - `.replace()` 하면 해당 object를 지우고 다시 지정해주는 것임. \n",
    "    - `.upper()`로 바뀌는 것도 새로운 값을 return하는 것이지 str object 자체는 안변함. \n",
    "- list같은 mutable한 object들, str같은 immutable과는 달리 method로 바꿀 때 inplace로 객체 자체가 바뀌는 경우들이 있음. \n",
    "- `sorted()`와 `.sort()`의 차이: inplace 여부\n",
    "    - inplace로 update하는 식으로 하면 좀 더 메모리 효율적\n",
    "    - `.sort()` 와 같이 inplace하는 메소드들은 None return 하고 끝난다는 것을 유의. \n",
    "- list copy 방법:\n",
    "    - `[:]` 쓰던가 `.copy()` 매소드 사용\n",
    "    - 그냥 다른 변수에 할당하는 것은 reference를 바꾸는 것에 불과함. \n",
    "    - 나중에 pd, np 쓰게되면, 그땐 view vs copy의 문제가 나옴. \n",
    "- set operations\n",
    "    - `<=` or `.issubset()`\n",
    "    - `>=` or `.issuperset()`\n",
    "    - `^`: 대칭차집합 - 합집합에서 교집합 빼준 것. 둘 다 포함되는 것들 아예 제외. \n",
    "    - `.add()` vs `.update()`\n",
    "        - inplace로 바꾸는 것은 동일\n",
    "        - add는 1개 원소\n",
    "        - update는 set(또는 collection)을 합해줌\n",
    "    - `.discard()` vs `.remove()`\n",
    "        - set에서 제거하는 것은 동일하나\n",
    "        - remove는 error을 raise. \n"
   ]
  },
  {
   "cell_type": "markdown",
   "metadata": {},
   "source": [
    "set 연산자"
   ]
  },
  {
   "cell_type": "code",
   "execution_count": 17,
   "metadata": {},
   "outputs": [],
   "source": [
    "A = {1, 2, 3, 4}\n",
    "B = {1, 2}\n",
    "C = {3, 4, 5}"
   ]
  },
  {
   "cell_type": "code",
   "execution_count": 18,
   "metadata": {},
   "outputs": [
    {
     "data": {
      "text/plain": [
       "True"
      ]
     },
     "execution_count": 18,
     "metadata": {},
     "output_type": "execute_result"
    }
   ],
   "source": [
    "B <= A"
   ]
  },
  {
   "cell_type": "code",
   "execution_count": 19,
   "metadata": {},
   "outputs": [
    {
     "data": {
      "text/plain": [
       "True"
      ]
     },
     "execution_count": 19,
     "metadata": {},
     "output_type": "execute_result"
    }
   ],
   "source": [
    "A >= B"
   ]
  },
  {
   "cell_type": "code",
   "execution_count": 20,
   "metadata": {},
   "outputs": [
    {
     "data": {
      "text/plain": [
       "{1, 2, 5}"
      ]
     },
     "execution_count": 20,
     "metadata": {},
     "output_type": "execute_result"
    }
   ],
   "source": [
    "A^C"
   ]
  },
  {
   "cell_type": "markdown",
   "metadata": {},
   "source": [
    "- shallow copy vs deep copy \n",
    "    - shallow copy는 이름 그대로 list 등의 원소가 mutable 할 경우 그대로 reference만 가져온다. \n",
    "        - element of list가 mutable일 때 그게 변하면 shallow copy 된 object에도 반영이 되어버림. \n",
    "    - deep copy의 경우 안에 있는 것도 다 reference 대신 새로 memory 따기 때문에 진짜 안바뀜. "
   ]
  },
  {
   "cell_type": "code",
   "execution_count": 21,
   "metadata": {},
   "outputs": [],
   "source": [
    "import copy\n",
    "\n",
    "a = [1,2,3,[5,6,7]]\n",
    "\n",
    "b = copy.copy(a)\n",
    "c = copy.deepcopy(a)"
   ]
  },
  {
   "cell_type": "code",
   "execution_count": 22,
   "metadata": {},
   "outputs": [],
   "source": [
    "b[-1][0] = 99"
   ]
  },
  {
   "cell_type": "code",
   "execution_count": 23,
   "metadata": {},
   "outputs": [
    {
     "data": {
      "text/plain": [
       "[1, 2, 3, [99, 6, 7]]"
      ]
     },
     "execution_count": 23,
     "metadata": {},
     "output_type": "execute_result"
    }
   ],
   "source": [
    "a"
   ]
  },
  {
   "cell_type": "code",
   "execution_count": 24,
   "metadata": {},
   "outputs": [],
   "source": [
    "c[-1][-1] = 11"
   ]
  },
  {
   "cell_type": "code",
   "execution_count": 25,
   "metadata": {},
   "outputs": [
    {
     "data": {
      "text/plain": [
       "[1, 2, 3, [99, 6, 7]]"
      ]
     },
     "execution_count": 25,
     "metadata": {},
     "output_type": "execute_result"
    }
   ],
   "source": [
    "a"
   ]
  },
  {
   "cell_type": "code",
   "execution_count": 26,
   "metadata": {},
   "outputs": [
    {
     "data": {
      "text/plain": [
       "[1, 2, 3, [5, 6, 11]]"
      ]
     },
     "execution_count": 26,
     "metadata": {},
     "output_type": "execute_result"
    }
   ],
   "source": [
    "c"
   ]
  },
  {
   "cell_type": "markdown",
   "metadata": {},
   "source": [
    "|       | seq | mutable | elem_type                 |\n",
    "|-------|-----|---------|---------------------------|\n",
    "| str   | o   | x       | char                      |\n",
    "| list  | o   | o       | any                       |\n",
    "| tuple | o   | x       | any                       |\n",
    "| dict  | x   | o       | key: immutable value: any |\n",
    "| set   | x   | o       | immutable                 |"
   ]
  },
  {
   "cell_type": "markdown",
   "metadata": {},
   "source": [
    "- Immutability is about whether an object can change its state or not.\n",
    "- Hashability is about whether an object can return a consistent hash value, making it usable as a dictionary key or set element.\n",
    "\n",
    "The key relationship between the two is that all immutable objects in Python are hashable by default because their immutable nature means their hash value will not change over time. However, not all hashable objects are necessarily immutable; a custom object can be made hashable by defining both a __hash__() method that returns a consistent hash value and an __eq__() method, but this does not make the object immutable."
   ]
  },
  {
   "cell_type": "markdown",
   "metadata": {},
   "source": []
  }
 ],
 "metadata": {
  "kernelspec": {
   "display_name": "sandbox311",
   "language": "python",
   "name": "python3"
  },
  "language_info": {
   "codemirror_mode": {
    "name": "ipython",
    "version": 3
   },
   "file_extension": ".py",
   "mimetype": "text/x-python",
   "name": "python",
   "nbconvert_exporter": "python",
   "pygments_lexer": "ipython3",
   "version": "3.11.5"
  }
 },
 "nbformat": 4,
 "nbformat_minor": 2
}
