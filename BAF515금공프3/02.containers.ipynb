{
 "cells": [
  {
   "cell_type": "markdown",
   "metadata": {},
   "source": [
    "# Chapter 2. Containers"
   ]
  },
  {
   "cell_type": "markdown",
   "metadata": {},
   "source": [
    "- string은 immutable해서 replace 안됨. 명시적으로 `.replace()` method 써주지 않는 이상. \n",
    "    - `.replace()` 하면 해당 object를 지우고 다시 지정해주는 것임. \n",
    "    - `.upper()`로 바뀌는 것도 새로운 값을 return하는 것이지 str object 자체는 안변함. \n",
    "- list같은 mutable한 object들, str같은 immutable과는 달리 method로 바꿀 때 inplace로 객체 자체가 바뀌는 경우들이 있음. \n",
    "- `sorted()`와 `.sort()`의 차이: inplace 여부\n",
    "    - inplace로 update하는 식으로 하면 좀 더 메모리 효율적\n",
    "    - `.sort()` 와 같이 inplace하는 메소드들은 None return 하고 끝난다는 것을 유의. \n",
    "- list copy 방법:\n",
    "    - `[:]` 쓰던가 `.copy()` 매소드 사용\n",
    "    - 그냥 다른 변수에 할당하는 것은 reference를 바꾸는 것에 불과함. \n",
    "    - 나중에 pd, np 쓰게되면, 그땐 view vs copy의 문제가 나옴. \n"
   ]
  },
  {
   "cell_type": "code",
   "execution_count": null,
   "metadata": {
    "vscode": {
     "languageId": "plaintext"
    }
   },
   "outputs": [],
   "source": []
  }
 ],
 "metadata": {
  "language_info": {
   "name": "python"
  }
 },
 "nbformat": 4,
 "nbformat_minor": 2
}
