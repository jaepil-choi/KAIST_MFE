{
 "cells": [
  {
   "cell_type": "markdown",
   "metadata": {},
   "source": [
    "# 금공프3 중간대체과제 \n",
    "\n",
    "MFE 20249433 최재필"
   ]
  },
  {
   "cell_type": "code",
   "execution_count": 20,
   "metadata": {},
   "outputs": [],
   "source": [
    "import numpy as np\n",
    "\n",
    "import math"
   ]
  },
  {
   "cell_type": "markdown",
   "metadata": {},
   "source": [
    "## 1. 채권 가격과 듀레이션\n",
    "\n",
    "### (1)\n",
    "\n",
    "** 문제에 제시된 공식이 잘못되어 아래와 같이 수정했습니다. \n",
    "\n",
    "- 채권 가격: \n",
    "    - 마지막 기에 $ \\frac{FV}{(1 + \\frac{(y/100)}{f})^t} $ 더해줘야 함. (만기 원금)\n",
    "- 듀레이션:\n",
    "    - $ t $가 아닌 $ \\frac{t}{f} $ 를 곱해줘야 함. \n",
    "    - 또한 채권 가격과 마찬가지로 만기 원금을 더해줘야 함.\n",
    "    \n",
    " 즉, $$ D = \\frac{1}{P} ( \\sum_{t=1}^n \\frac{t}{f} \\cdot \\frac{C_t}{(1 + \\frac{(y/100)}{f})^t} + \\frac{n}{f} \\cdot \\frac{FV}{(1 + \\frac{(y/100)}{f})^n} )$$\n",
    "\n",
    " 로 고쳐져야 합니다. \n",
    "\n",
    " 위와 같이 고쳤을 때 테스트 케이스와 일치하는 값이 반환됩니다. "
   ]
  },
  {
   "cell_type": "code",
   "execution_count": 21,
   "metadata": {},
   "outputs": [],
   "source": [
    "def bondftn(facevalue, couprate, y, maturity, frequency):\n",
    "    \"\"\"계산된 채권가격과 듀레이션을 튜플로 반환하는 함수\n",
    "\n",
    "    Args:\n",
    "        facevalue (float): 액면가격\n",
    "        couprate (float): 쿠폰이자율\n",
    "        y (float): 만기수익률\n",
    "        maturity (float): 만기\n",
    "        frequency (float): 연간쿠폰지급횟수\n",
    "\n",
    "    Returns:\n",
    "        tuple: (채권가격, 듀레이션)\n",
    "    \"\"\"    \n",
    "    frequencies = {\n",
    "        'annual': 1,\n",
    "        'semi-annual': 2,\n",
    "        'quarterly': 4,\n",
    "    }\n",
    "\n",
    "    if frequency in frequencies:\n",
    "        f = frequencies[frequency]\n",
    "    else:\n",
    "        print(f'Invalid frequency: {frequency}')\n",
    "        return\n",
    "    \n",
    "    c = couprate / 100\n",
    "    ytm = y / 100\n",
    "    c_dollar = facevalue * c / f\n",
    "    nper = maturity * f\n",
    "\n",
    "    ## 채권 가격\n",
    "    P = 0\n",
    "    for t in range(1, nper+1):\n",
    "        P += c_dollar / (1 + ytm/f)**t\n",
    "    \n",
    "    P += facevalue / (1 + ytm/f)**t\n",
    "\n",
    "    ## 듀레이션\n",
    "    D = 0\n",
    "    for t in range(1, nper+1):\n",
    "        D += t/f * ( c_dollar / (1 + ytm/f)**t )\n",
    "    \n",
    "    D += t/f * ( facevalue / (1 + ytm/f)**t )\n",
    "    D = D/P\n",
    "    \n",
    "    return P, D\n",
    "    "
   ]
  },
  {
   "cell_type": "code",
   "execution_count": 22,
   "metadata": {},
   "outputs": [],
   "source": [
    "test_case = {\n",
    "    'facevalue': 100,\n",
    "    'couprate': 5,\n",
    "    'y': 4.5,\n",
    "    'maturity': 2,\n",
    "    'frequency': 'quarterly',\n",
    "}"
   ]
  },
  {
   "cell_type": "code",
   "execution_count": 23,
   "metadata": {},
   "outputs": [
    {
     "data": {
      "text/plain": [
       "(100.95121625257656, 1.9161694881599696)"
      ]
     },
     "execution_count": 23,
     "metadata": {},
     "output_type": "execute_result"
    }
   ],
   "source": [
    "bondftn(**test_case)"
   ]
  },
  {
   "cell_type": "markdown",
   "metadata": {},
   "source": [
    "### (2)"
   ]
  },
  {
   "cell_type": "code",
   "execution_count": 24,
   "metadata": {},
   "outputs": [],
   "source": [
    "def price_change(facevalue, couprate, y_old, y_new, maturity, frequency):\n",
    "    \"\"\"만기수익률 변화에 따른 가격변화율을 계산하는 함수\n",
    "\n",
    "    Args:\n",
    "        y_old (float): 변화 전 만기수익률\n",
    "        y_new (float): 변화 후 만기수익률\n",
    "\n",
    "    Returns:\n",
    "        float: 가격변화율\n",
    "    \"\"\"    \n",
    "    old_price = bondftn(facevalue, couprate, y_old, maturity, frequency)[0]\n",
    "    new_price = bondftn(facevalue, couprate, y_new, maturity, frequency)[0]\n",
    "\n",
    "    return (new_price - old_price) / old_price"
   ]
  },
  {
   "cell_type": "code",
   "execution_count": 25,
   "metadata": {},
   "outputs": [],
   "source": [
    "y_old = 10\n",
    "y_new = 11\n",
    "frequency = 'annual'\n",
    "facevalue = 100\n",
    "\n",
    "result_dict = {}\n",
    "\n",
    "test_maturities = [5, 4, 3, 2, 1]\n",
    "test_couprates = [5, 4, 3, 2, 1]\n",
    "\n",
    "for m in test_maturities:\n",
    "    result_dict[f'M={m}'] = {}\n",
    "    for c in test_couprates:\n",
    "        result_dict[f'M={m}'][f'{c}%'] = price_change(facevalue=facevalue, couprate=c, y_old=y_old, y_new=y_new, maturity=m, frequency=frequency)\n"
   ]
  },
  {
   "cell_type": "code",
   "execution_count": 26,
   "metadata": {},
   "outputs": [
    {
     "data": {
      "text/plain": [
       "{'M=5': {'5%': -0.03974836055305566,\n",
       "  '4%': -0.04047048346784374,\n",
       "  '3%': -0.041267129839987905,\n",
       "  '2%': -0.04215046362141572,\n",
       "  '1%': -0.04313544833326965},\n",
       " 'M=4': {'5%': -0.03286185142470099,\n",
       "  '4%': -0.03331563660900725,\n",
       "  '3%': -0.033806394433436325,\n",
       "  '2%': -0.034338835372434776,\n",
       "  '1%': -0.03491850556952312},\n",
       " 'M=3': {'5%': -0.025444064500651814,\n",
       "  '4%': -0.0256807665472403,\n",
       "  '3%': -0.0259317228242334,\n",
       "  '2%': -0.026198260892201106,\n",
       "  '1%': -0.026481878449181942},\n",
       " 'M=2': {'5%': -0.01749248331124319,\n",
       "  '4%': -0.017574470850625305,\n",
       "  '3%': -0.01765969778478984,\n",
       "  '2%': -0.01774835996965999,\n",
       "  '1%': -0.017840669374671377},\n",
       " 'M=1': {'5%': -0.009009009009008976,\n",
       "  '4%': -0.009009009009009075,\n",
       "  '3%': -0.009009009009009023,\n",
       "  '2%': -0.009009009009008973,\n",
       "  '1%': -0.009009009009008919}}"
      ]
     },
     "execution_count": 26,
     "metadata": {},
     "output_type": "execute_result"
    }
   ],
   "source": [
    "result_dict "
   ]
  },
  {
   "cell_type": "code",
   "execution_count": 27,
   "metadata": {},
   "outputs": [
    {
     "data": {
      "text/plain": [
       "-0.03974836055305566"
      ]
     },
     "execution_count": 27,
     "metadata": {},
     "output_type": "execute_result"
    }
   ],
   "source": [
    "result_dict['M=5']['5%']"
   ]
  },
  {
   "cell_type": "markdown",
   "metadata": {},
   "source": [
    "### (3)"
   ]
  },
  {
   "cell_type": "code",
   "execution_count": 28,
   "metadata": {},
   "outputs": [],
   "source": [
    "result_dict_dur = {}\n",
    "\n",
    "for m in test_maturities:\n",
    "    result_dict_dur[f'M={m}'] = {}\n",
    "    for c in test_couprates:\n",
    "        result_dict_dur[f'M={m}'][f'{c}%'] = bondftn(facevalue=facevalue, couprate=c, y=y_old, maturity=m, frequency=frequency)[1]"
   ]
  },
  {
   "cell_type": "code",
   "execution_count": 29,
   "metadata": {},
   "outputs": [
    {
     "data": {
      "text/plain": [
       "4.570186239555571"
      ]
     },
     "execution_count": 29,
     "metadata": {},
     "output_type": "execute_result"
    }
   ],
   "source": [
    "result_dict_dur['M=5']['4%']"
   ]
  },
  {
   "cell_type": "markdown",
   "metadata": {},
   "source": [
    "## 2. 자동차 보험회사에 관한 몬테카를로 시뮬레이션"
   ]
  },
  {
   "cell_type": "code",
   "execution_count": 43,
   "metadata": {},
   "outputs": [],
   "source": [
    "import matplotlib.pyplot as plt\n",
    "import seaborn as sns"
   ]
  },
  {
   "cell_type": "code",
   "execution_count": 30,
   "metadata": {},
   "outputs": [],
   "source": [
    "# poisson (연간청구건수)\n",
    "poi_mean = 100\n",
    "\n",
    "# gamma (청구건수 별 청구금액)\n",
    "alpha = 2 # 모양\n",
    "beta = 1/2 # 척도\n",
    "\n",
    "# uniform (청구건수 별 청구발생시점)\n",
    "start = 0\n",
    "end = 1\n",
    "\n",
    "# 보험료 수입\n",
    "slope = 150"
   ]
  },
  {
   "cell_type": "markdown",
   "metadata": {},
   "source": [
    "### (1)"
   ]
  },
  {
   "cell_type": "code",
   "execution_count": 66,
   "metadata": {},
   "outputs": [
    {
     "data": {
      "text/plain": [
       "114"
      ]
     },
     "execution_count": 66,
     "metadata": {},
     "output_type": "execute_result"
    }
   ],
   "source": [
    "# 연간 청구 건수를 포아송 분포에서 샘플링\n",
    "poisson_samples = np.random.poisson(lam=poi_mean, size=10000)\n",
    "\n",
    "case_count = np.random.choice(poisson_samples, 1)[0]\n",
    "case_count "
   ]
  },
  {
   "cell_type": "code",
   "execution_count": 67,
   "metadata": {},
   "outputs": [],
   "source": [
    "# 청구 건수별로 청구금액을 감마 분포에서 샘플링\n",
    "claims = np.random.gamma(alpha, scale=beta, size=case_count)"
   ]
  },
  {
   "cell_type": "code",
   "execution_count": 83,
   "metadata": {},
   "outputs": [],
   "source": [
    "# 청구 건수별 청구 발생시점을 균등 분포에서 샘플링\n",
    "times = np.random.uniform(start, end, size=case_count)"
   ]
  },
  {
   "cell_type": "code",
   "execution_count": 98,
   "metadata": {},
   "outputs": [],
   "source": [
    "sort_idx = np.argsort(times) # 시간순으로 정렬하기 위한 인덱스\n",
    "\n",
    "claims_timeseries = claims[sort_idx]\n",
    "times_timeseries = times[sort_idx]\n",
    "revenue_timeseries = slope * times_timeseries # 보험료 수입\n",
    "\n",
    "cumulative_claims_timeseries = np.cumsum(claims_timeseries) # 누적 청구금액\n",
    "balance_timeseries = revenue_timeseries - cumulative_claims_timeseries # 누적 수입 - 누적 청구금액"
   ]
  },
  {
   "cell_type": "code",
   "execution_count": 99,
   "metadata": {},
   "outputs": [
    {
     "data": {
      "text/plain": [
       "array([ 0.        , -0.26227715, -1.6180239 , -1.82463633, -1.53089757,\n",
       "       -2.46839791, -2.20997289, -1.2079736 , -1.47598418, -0.86802952,\n",
       "        0.19901351, -0.71986213,  1.29431308,  0.71045542,  1.42182522,\n",
       "        3.96899387,  3.22860918,  5.0048229 ,  9.23842309, 11.96273557,\n",
       "       11.72405712, 12.87905416, 13.30443201, 13.43980583, 12.52498499,\n",
       "       11.60429671, 14.53106592, 15.10440251, 17.28381553, 16.5711021 ,\n",
       "       19.22145751, 19.24898417, 20.12286951, 19.16216323, 19.15369614,\n",
       "       18.92150726, 18.45788688, 19.85570357, 21.03005458, 21.98517586,\n",
       "       24.8563027 , 29.46789881, 29.41446588, 28.73813918, 27.05527385,\n",
       "       26.31907777, 28.127566  , 27.25316095, 26.65294555, 27.72929123,\n",
       "       26.05134375, 26.22319595, 26.25914594, 27.91199516, 27.14190793,\n",
       "       27.8215918 , 28.00206147, 27.38688218, 26.75384067, 26.46275544,\n",
       "       24.61527075, 25.25216238, 24.9845234 , 24.51949075, 26.03631959,\n",
       "       26.64880291, 25.63082927, 24.0519857 , 25.91985378, 26.84760604,\n",
       "       26.84612513, 26.44281845, 27.75413662, 28.74075064, 29.94714107,\n",
       "       30.55295038, 29.34245207, 28.92148218, 30.47504904, 28.61465751,\n",
       "       31.29143915, 30.75692533, 33.80380902, 32.56890702, 33.56630241,\n",
       "       33.77149224, 33.89648082, 33.54392874, 32.54996614, 31.3620031 ,\n",
       "       32.06302275, 36.68756394, 35.88979524, 36.20364485, 36.16121612,\n",
       "       33.64857627, 33.23687058, 34.65241891, 34.45934454, 35.4917505 ,\n",
       "       38.95738146, 38.24324673, 39.04172957, 39.15510184, 39.18276481,\n",
       "       38.07176085, 37.8513551 , 36.45430046, 35.0233919 , 36.33094952,\n",
       "       36.37338146, 38.95739864, 41.89933844, 41.62230624, 45.49691662])"
      ]
     },
     "execution_count": 99,
     "metadata": {},
     "output_type": "execute_result"
    }
   ],
   "source": [
    "balance = np.insert(balance_timeseries, 0, 0) # 첫 번째 값은 0으로 삽입\n",
    "balance"
   ]
  },
  {
   "cell_type": "markdown",
   "metadata": {},
   "source": [
    "### (2)"
   ]
  },
  {
   "cell_type": "code",
   "execution_count": 119,
   "metadata": {},
   "outputs": [],
   "source": [
    "def generate_balance_path(\n",
    "        poisson_size=10000,\n",
    "        poi_mean=100,\n",
    "        alpha=2,\n",
    "        beta=1/2,\n",
    "        start=0,\n",
    "        end=1,\n",
    "        slope=150\n",
    "        ):\n",
    "    \"\"\"Monte Carlo 실험을 위해 balance의 path를 generate하는 함수\n",
    "\n",
    "    Returns:\n",
    "        np.ndarray: 잔고의 path\n",
    "    \"\"\"    \n",
    "    \n",
    "    # 연간 청구 건수를 포아송 분포에서 샘플링\n",
    "    poisson_samples = np.random.poisson(lam=poi_mean, size=poisson_size)\n",
    "    case_count = np.random.choice(poisson_samples, 1)[0]\n",
    "\n",
    "    # 청구 건수별로 청구금액을 감마 분포에서 샘플링\n",
    "    claims = np.random.gamma(alpha, scale=beta, size=case_count)\n",
    "\n",
    "    # 청구 건수별 청구 발생시점을 균등 분포에서 샘플링\n",
    "    times = np.random.uniform(start, end, size=case_count)\n",
    "\n",
    "    sort_idx = np.argsort(times) # 시간순으로 정렬하기 위한 인덱스\n",
    "\n",
    "    claims_timeseries = claims[sort_idx]\n",
    "    times_timeseries = times[sort_idx]\n",
    "    revenue_timeseries = slope * times_timeseries # 보험료 수입\n",
    "\n",
    "    cumulative_claims_timeseries = np.cumsum(claims_timeseries) # 누적 청구금액\n",
    "    balance_timeseries = revenue_timeseries - cumulative_claims_timeseries # 누적 수입 - 누적 청구금액\n",
    "    \n",
    "    balance = np.insert(balance_timeseries, 0, 0) # 첫 번째 값은 0으로 삽입\n",
    "\n",
    "    return balance"
   ]
  },
  {
   "cell_type": "markdown",
   "metadata": {},
   "source": [
    "#### (a)"
   ]
  },
  {
   "cell_type": "code",
   "execution_count": 120,
   "metadata": {},
   "outputs": [],
   "source": [
    "num_experiments = 10000\n",
    "\n",
    "# 최종 balance만 generate\n",
    "simulate_final_balance = [generate_balance_path()[-1] for _ in range(num_experiments)]"
   ]
  },
  {
   "cell_type": "code",
   "execution_count": 121,
   "metadata": {},
   "outputs": [
    {
     "data": {
      "text/plain": [
       "48.34827097170984"
      ]
     },
     "execution_count": 121,
     "metadata": {},
     "output_type": "execute_result"
    }
   ],
   "source": [
    "# balance의 기대값\n",
    "np.mean(simulate_final_balance)"
   ]
  },
  {
   "cell_type": "markdown",
   "metadata": {},
   "source": [
    "#### (b)"
   ]
  },
  {
   "cell_type": "code",
   "execution_count": 131,
   "metadata": {},
   "outputs": [],
   "source": [
    "# balance path들을 generate\n",
    "balance_paths = [generate_balance_path() for _ in range(num_experiments)]"
   ]
  },
  {
   "cell_type": "code",
   "execution_count": 143,
   "metadata": {},
   "outputs": [
    {
     "data": {
      "text/plain": [
       "0.0633"
      ]
     },
     "execution_count": 143,
     "metadata": {},
     "output_type": "execute_result"
    }
   ],
   "source": [
    "# 1년 중 한 번 이상 -5 이하로 떨어질 확률\n",
    "p = np.mean([np.any(balance <= -5) for balance in balance_paths])\n",
    "p"
   ]
  }
 ],
 "metadata": {
  "kernelspec": {
   "display_name": ".venv",
   "language": "python",
   "name": "python3"
  },
  "language_info": {
   "codemirror_mode": {
    "name": "ipython",
    "version": 3
   },
   "file_extension": ".py",
   "mimetype": "text/x-python",
   "name": "python",
   "nbconvert_exporter": "python",
   "pygments_lexer": "ipython3",
   "version": "3.10.11"
  }
 },
 "nbformat": 4,
 "nbformat_minor": 2
}
