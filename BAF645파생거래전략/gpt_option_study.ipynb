{
 "cells": [
  {
   "cell_type": "markdown",
   "id": "af8937c0",
   "metadata": {},
   "source": [
    "# GPT로 코드 받아 확인해보는 Option Study \n",
    "\n",
    "- 책 읽으며 헷갈리는 부분 즉석해서 GPT로 코드구현"
   ]
  },
  {
   "cell_type": "markdown",
   "id": "8d4e48cb",
   "metadata": {},
   "source": [
    "## ITM, OTM, ATM premium 어떻게 되나 시각화. \n",
    "\n",
    "- 감을 잡자. "
   ]
  },
  {
   "cell_type": "code",
   "execution_count": null,
   "id": "3cc8a669",
   "metadata": {
    "lines_to_next_cell": 2
   },
   "outputs": [],
   "source": [
    "import QuantLib as ql\n",
    "import matplotlib.pyplot as plt\n",
    "import numpy as np\n",
    "\n",
    "# Parameters\n",
    "spot = 100\n",
    "vol = 0.2\n",
    "rate = 0.05\n",
    "div = 0.0\n",
    "expiry = 0.5  # in years\n",
    "\n",
    "# Setup QuantLib\n",
    "calendar = ql.UnitedStates(ql.UnitedStates.GovernmentBond)\n",
    "day_count = ql.Actual365Fixed()\n",
    "settlement_date = ql.Date.todaysDate()\n",
    "ql.Settings.instance().evaluationDate = settlement_date\n",
    "\n",
    "# Black-Scholes process\n",
    "bsm_process = ql.BlackScholesMertonProcess(\n",
    "    ql.QuoteHandle(ql.SimpleQuote(spot)),\n",
    "    ql.YieldTermStructureHandle(ql.FlatForward(settlement_date, div, day_count)),\n",
    "    ql.YieldTermStructureHandle(ql.FlatForward(settlement_date, rate, day_count)),\n",
    "    ql.BlackVolTermStructureHandle(ql.BlackConstantVol(settlement_date, calendar, vol, day_count))\n",
    ")\n",
    "\n",
    "# Option premiums vs strike\n",
    "strikes = np.linspace(80, 120, 100)\n",
    "premiums = []\n",
    "\n",
    "for strike in strikes:\n",
    "    payoff = ql.PlainVanillaPayoff(ql.Option.Call, strike)\n",
    "    exercise = ql.EuropeanExercise(settlement_date + ql.Period(int(expiry*365), ql.Days))\n",
    "    option = ql.VanillaOption(payoff, exercise)\n",
    "    option.setPricingEngine(ql.AnalyticEuropeanEngine(bsm_process))\n",
    "    premiums.append(-option.NPV())  # Negative for buying\n",
    "\n",
    "# Option payoffs for K=90, 100, 110\n",
    "buy_strikes = [90, 100, 110]\n",
    "buy_premiums = {}\n",
    "\n",
    "for K in buy_strikes:\n",
    "    payoff = ql.PlainVanillaPayoff(ql.Option.Call, K)\n",
    "    exercise = ql.EuropeanExercise(settlement_date + ql.Period(int(expiry*365), ql.Days))\n",
    "    option = ql.VanillaOption(payoff, exercise)\n",
    "    option.setPricingEngine(ql.AnalyticEuropeanEngine(bsm_process))\n",
    "    buy_premiums[K] = option.NPV()\n",
    "\n",
    "# Stock price range\n",
    "S = np.linspace(60, 140, 400)\n",
    "\n",
    "# Calculate payoffs\n",
    "payoffs = {}\n",
    "for K in buy_strikes:\n",
    "    payoffs[K] = np.maximum(S - K, 0) - buy_premiums[K]\n",
    "\n",
    "# Plotting\n",
    "plt.figure(figsize=(10,6))\n",
    "\n",
    "# Plot premium vs strike (mirrored)\n",
    "plt.plot(strikes, premiums, color='blue', label='Call Premium (Negative)')\n",
    "plt.fill_between(strikes, premiums, color='blue', alpha=0.1)\n",
    "\n",
    "# Plot payoffs\n",
    "colors = ['green', 'orange', 'red']\n",
    "for i, K in enumerate(buy_strikes):\n",
    "    label = f'K={K} ({ \"ITM\" if K < spot else \"ATM\" if K == spot else \"OTM\" })'\n",
    "    plt.plot(S, payoffs[K], color=colors[i], label=label)\n",
    "\n",
    "plt.axhline(0, color='black', linewidth=0.5)\n",
    "plt.axvline(x=spot, color='grey', linestyle='--', label='Spot Price')\n",
    "\n",
    "plt.xlabel('Stock Price')\n",
    "plt.ylabel('Premium / Payoff')\n",
    "plt.title('Option Premiums and Payoff of Buying Call Options')\n",
    "plt.legend()\n",
    "plt.grid(True)\n",
    "plt.show()"
   ]
  },
  {
   "cell_type": "code",
   "execution_count": null,
   "id": "3b12e240",
   "metadata": {},
   "outputs": [],
   "source": []
  }
 ],
 "metadata": {
  "kernelspec": {
   "display_name": ".venv",
   "language": "python",
   "name": "python3"
  }
 },
 "nbformat": 4,
 "nbformat_minor": 5
}
