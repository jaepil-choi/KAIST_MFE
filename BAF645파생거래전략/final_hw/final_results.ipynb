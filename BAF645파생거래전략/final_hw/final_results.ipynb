{
 "cells": [
  {
   "cell_type": "markdown",
   "id": "491b1df0",
   "metadata": {},
   "source": [
    "# 우섭형 delta band 케이스별로 \n",
    "\n"
   ]
  },
  {
   "cell_type": "code",
   "execution_count": null,
   "id": "33951b99",
   "metadata": {
    "lines_to_next_cell": 2
   },
   "outputs": [],
   "source": [
    "import pandas as pd\n",
    "import numpy as np\n",
    "\n",
    "import matplotlib.pyplot as plt\n",
    "import seaborn as sns\n",
    "import plotly.express as px\n",
    "import plotly.graph_objects as go\n",
    "\n",
    "from pathlib import Path\n",
    "\n",
    "from tqdm import tqdm\n",
    "\n",
    "\n",
    "plt.rc('font', family='Malgun Gothic')"
   ]
  },
  {
   "cell_type": "code",
   "execution_count": null,
   "id": "8894baab",
   "metadata": {},
   "outputs": [],
   "source": [
    "pd.set_option('display.float_format', '{:.0f}'.format)"
   ]
  },
  {
   "cell_type": "code",
   "execution_count": null,
   "id": "134f17d3",
   "metadata": {},
   "outputs": [],
   "source": [
    "CWD_PATH = Path.cwd()\n",
    "DATA_PATH = CWD_PATH / 'data'\n",
    "OUTPUT_PATH = CWD_PATH / 'output'"
   ]
  },
  {
   "cell_type": "code",
   "execution_count": null,
   "id": "eb1011bf",
   "metadata": {},
   "outputs": [],
   "source": [
    "SELECTION = [\n",
    "    '삼성전자',\n",
    "    '현대모비스',\n",
    "    'NAVER',\n",
    "    '카카오'\n",
    "]"
   ]
  },
  {
   "cell_type": "code",
   "execution_count": null,
   "id": "b6b1aea4",
   "metadata": {},
   "outputs": [],
   "source": [
    "dfs = []\n",
    "\n",
    "for selec in SELECTION:\n",
    "    temp_df = pd.read_pickle(OUTPUT_PATH / f'all_final_results_{selec}.pkl')\n",
    "    temp_df['udly_name'] = selec\n",
    "    dfs.append(temp_df)\n",
    "\n",
    "df = pd.concat(dfs, ignore_index=True, sort=False, axis=0)"
   ]
  },
  {
   "cell_type": "code",
   "execution_count": null,
   "id": "0c519626",
   "metadata": {},
   "outputs": [],
   "source": [
    "sorted_df = df.sort_values(by=['udly_name', 'hedge_cost'], ascending=[True, True])\n",
    "top_k = 5\n",
    "\n",
    "top_k_df = sorted_df.groupby('udly_name').head(top_k).copy()"
   ]
  },
  {
   "cell_type": "code",
   "execution_count": null,
   "id": "074a36a3",
   "metadata": {},
   "outputs": [],
   "source": [
    "top_k_df['in_group_rank'] = top_k_df.groupby('udly_name')['hedge_cost'].rank(ascending=True, method='first')"
   ]
  },
  {
   "cell_type": "code",
   "execution_count": null,
   "id": "63503364",
   "metadata": {},
   "outputs": [],
   "source": [
    "top_k_df.sort_values(by=['udly_name', 'in_group_rank'], ascending=[True, True], inplace=True)"
   ]
  },
  {
   "cell_type": "code",
   "execution_count": null,
   "id": "556f40c1",
   "metadata": {},
   "outputs": [],
   "source": [
    "top_k_df"
   ]
  },
  {
   "cell_type": "code",
   "execution_count": null,
   "id": "5c3ee414",
   "metadata": {},
   "outputs": [],
   "source": []
  }
 ],
 "metadata": {
  "kernelspec": {
   "display_name": ".venv",
   "language": "python",
   "name": "python3"
  }
 },
 "nbformat": 4,
 "nbformat_minor": 5
}
