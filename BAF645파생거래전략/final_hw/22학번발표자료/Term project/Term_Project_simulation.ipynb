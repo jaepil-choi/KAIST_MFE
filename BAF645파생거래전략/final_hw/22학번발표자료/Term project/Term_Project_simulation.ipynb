{
 "cells": [
  {
   "cell_type": "code",
   "execution_count": null,
   "id": "0692b71f",
   "metadata": {
    "colab": {
     "base_uri": "https://localhost:8080/",
     "height": 400
    },
    "executionInfo": {
     "elapsed": 923,
     "status": "error",
     "timestamp": 1701586212083,
     "user": {
      "displayName": "강병표",
      "userId": "10016608623122375854"
     },
     "user_tz": -540
    },
    "id": "-8UUbMlZ_Wto",
    "outputId": "8d117e8d-1bfb-4cae-ce1c-dd4bc656559c"
   },
   "outputs": [],
   "source": [
    "import numpy as np\n",
    "import pandas as pd\n",
    "import matplotlib.pyplot as plt\n",
    "\n",
    "from scipy.stats import norm\n",
    "import warnings\n",
    "warnings.filterwarnings('ignore')\n",
    "from tqdm import tqdm\n",
    "\n",
    "import time\n",
    "from scipy.ndimage.interpolation import shift\n",
    "import scipy.stats\n",
    "import FinanceDataReader as fdr\n",
    "import yfinance as yf\n",
    "import seaborn as sns"
   ]
  },
  {
   "cell_type": "code",
   "execution_count": null,
   "id": "13b8b9ad",
   "metadata": {
    "executionInfo": {
     "elapsed": 22,
     "status": "aborted",
     "timestamp": 1701586212084,
     "user": {
      "displayName": "강병표",
      "userId": "10016608623122375854"
     },
     "user_tz": -540
    },
    "id": "l7qMoK3-_Wtu"
   },
   "outputs": [],
   "source": [
    "def BSprice(PutCall, x, T, K, r, q, sigma):\n",
    "    d1 =(1/(sigma*np.sqrt(T)))*(np.log(x/K) + (r - q + 0.5*sigma**2)*T)\n",
    "    d2 = (1/(sigma*np.sqrt(T)))*(np.log(x/K) + (r - q - 0.5*sigma**2)*T)\n",
    "    Nd1 = norm.cdf(d1)\n",
    "    Nd2 = norm.cdf(d2)\n",
    "    Nd1m = norm.cdf(-d1)\n",
    "    Nd2m = norm.cdf(-d2)\n",
    "\n",
    "    if PutCall == 'C':\n",
    "        price1 = x*np.exp(-q*T)*Nd1 - K*np.exp(-r*T)*Nd2\n",
    "        price2 = np.exp(-q*T)*Nd1\n",
    "    elif PutCall =='P':\n",
    "        price1 = K*np.exp(-r*T)*Nd2m - x*np.exp(-q*T)*Nd1m\n",
    "        price2 = -np.exp(-q*T)*Nd1m\n",
    "\n",
    "    return(price1,price2)           # returns array\n",
    "\n"
   ]
  },
  {
   "cell_type": "markdown",
   "id": "8360d64a",
   "metadata": {
    "id": "Q6gaH8Vo_Wtv"
   },
   "source": [
    "# Hedging Cost 비교"
   ]
  },
  {
   "cell_type": "code",
   "execution_count": null,
   "id": "1f16a91b",
   "metadata": {
    "executionInfo": {
     "elapsed": 22,
     "status": "aborted",
     "timestamp": 1701586212084,
     "user": {
      "displayName": "강병표",
      "userId": "10016608623122375854"
     },
     "user_tz": -540
    },
    "id": "5tgpEEOb_Wty"
   },
   "outputs": [],
   "source": [
    "def hedging_Call(s0,M,mu,K,r,sigma,T,q,PutCall,simulation_number):\n",
    "\n",
    "    M_s=20/M\n",
    "    M_s=np.int(M_s)\n",
    "    dt=M/52\n",
    "    tt=np.repeat(T,M_s)\n",
    "    for i in range(M_s-1):\n",
    "        tt[i+1]=tt[i]-dt\n",
    "    tt=np.append(tt,0)\n",
    "\n",
    "\n",
    "\n",
    "    # Generating random\n",
    "    generating_number=int(round(T*(1/dt)))+1\n",
    "\n",
    "    # generating stock path\n",
    "    z=np.random.randn(simulation_number,generating_number)\n",
    "    stock_path_bm=np.exp((mu-0.5*sigma**2)*dt+sigma*np.sqrt(dt)*z)\n",
    "    stock_path_bm[:,0]=1\n",
    "    stock_price=stock_path_bm.cumprod(1)*s0\n",
    "\n",
    "    # Calculating Delta\n",
    "    Delta=BSprice(PutCall,stock_price, tt, K, r, q, sigma)[1]\n",
    "    Delta_diff=Delta[:,1:]-Delta[:,:-1]\n",
    "    Delta_diff.shape\n",
    "\n",
    "    initial_array=np.repeat(Delta[0][0],Delta_diff.shape[0]).reshape(Delta_diff.shape[0],1)\n",
    "    Delta_change=np.concatenate([initial_array,Delta_diff],axis=1)\n",
    "\n",
    "    # Delta 변화에따른 stock trade\n",
    "    shares_purchased=Delta_change*100000\n",
    "    shares_purchased=shares_purchased.round()  #정수만 purchase\n",
    "\n",
    "\n",
    "\n",
    "    cost_purchased=shares_purchased*stock_price\n",
    "    #trans_cost=np.where(cost_purchased<0,cost_purchased*0.0002,0) #transaction Cost\n",
    "    trans_cost=cost_purchased*0.00015\n",
    "    trans_cost=abs(trans_cost)\n",
    "    transaction=np.cumsum(trans_cost,axis=1)\n",
    "    cum_cost=np.cumsum(cost_purchased,axis=1)\n",
    "\n",
    "    # Interest Cost 계산\n",
    "    for i in range(1,cum_cost.shape[1]):\n",
    "\n",
    "        cum_cost[:,i]=cum_cost[:,i-1]*np.exp(r*M/52)+cost_purchased[:,i]\n",
    "\n",
    "\n",
    "    # Final cost 계산\n",
    "    Final_cost=cum_cost[:,-1]\n",
    "    hedge_cost=np.where(stock_price[:,-1]>50,Final_cost-5000000,Final_cost)\n",
    "\n",
    "    Final_cost_tr=cum_cost[:,-1]+transaction[:,-1]\n",
    "    hedge_cost_tr=np.where(stock_price[:,-1]>50,Final_cost_tr-5000000,Final_cost_tr)\n",
    "\n",
    "    Mean=np.mean(hedge_cost)\n",
    "    Performance_MSR=np.std(hedge_cost)/240000\n",
    "\n",
    "\n",
    "    Mean_tr=np.mean(hedge_cost_tr)\n",
    "    Performance_MSR_tr=np.std(hedge_cost_tr)/240000\n",
    "\n",
    "    return(Mean,Performance_MSR,Mean_tr,Performance_MSR_tr)\n",
    "\n"
   ]
  },
  {
   "cell_type": "code",
   "execution_count": null,
   "id": "5020d32c",
   "metadata": {
    "executionInfo": {
     "elapsed": 22,
     "status": "aborted",
     "timestamp": 1701586212084,
     "user": {
      "displayName": "강병표",
      "userId": "10016608623122375854"
     },
     "user_tz": -540
    },
    "id": "6vUgMd2k_Wtz"
   },
   "outputs": [],
   "source": [
    "M=[5,4,2,1,0.5,0.25]\n",
    "simulation_number=1000\n",
    "s0=49\n",
    "K=50\n",
    "mu=0.13\n",
    "r=0.05\n",
    "sigma=0.2\n",
    "q=0\n",
    "PutCall='C'\n",
    "T=20/52"
   ]
  },
  {
   "cell_type": "code",
   "execution_count": null,
   "id": "99f7934a",
   "metadata": {
    "executionInfo": {
     "elapsed": 22,
     "status": "aborted",
     "timestamp": 1701586212084,
     "user": {
      "displayName": "강병표",
      "userId": "10016608623122375854"
     },
     "user_tz": -540
    },
    "id": "9VKr3k16_Wtz"
   },
   "outputs": [],
   "source": [
    "for i in M:\n",
    "\n",
    "    Mean,MSR,Mean_tr,MSR_tr=hedging_Call(s0,i,mu,K,r,sigma,T,q,PutCall,simulation_number)\n",
    "\n",
    "    if i==5:\n",
    "        m5=Mean\n",
    "        m5_tr=Mean_tr\n",
    "        std5=MSR\n",
    "        std5_tr=MSR_tr\n",
    "\n",
    "\n",
    "    if i==4:\n",
    "        m4=Mean\n",
    "        m4_tr=Mean_tr\n",
    "        std4=MSR\n",
    "        std4_tr=MSR_tr\n",
    "\n",
    "    if i==2:\n",
    "        m2=Mean\n",
    "        m2_tr=Mean_tr\n",
    "        std2=MSR\n",
    "        std2_tr=MSR_tr\n",
    "\n",
    "\n",
    "    if i==1:\n",
    "        m1=Mean\n",
    "        m1_tr=Mean_tr\n",
    "        std1=MSR\n",
    "        std1_tr=MSR_tr\n",
    "\n",
    "    if i==0.5:\n",
    "        m05=Mean\n",
    "        m05_tr=Mean_tr\n",
    "        std05=MSR\n",
    "        std05_tr=MSR_tr\n",
    "\n",
    "    if i==0.25:\n",
    "\n",
    "        m025=Mean\n",
    "        m025_tr=Mean_tr\n",
    "        std025=MSR\n",
    "        std025_tr=MSR_tr\n",
    "\n"
   ]
  },
  {
   "cell_type": "markdown",
   "id": "807acc56",
   "metadata": {
    "id": "DW5Mj_Vp_Wt0"
   },
   "source": [
    "### without transaction cost"
   ]
  },
  {
   "cell_type": "code",
   "execution_count": null,
   "id": "faf89153",
   "metadata": {
    "executionInfo": {
     "elapsed": 22,
     "status": "aborted",
     "timestamp": 1701586212084,
     "user": {
      "displayName": "강병표",
      "userId": "10016608623122375854"
     },
     "user_tz": -540
    },
    "id": "BncL1jYF_Wt1"
   },
   "outputs": [],
   "source": [
    "df=pd.DataFrame([[m5/100000,m4/100000,m2/100000,m1/100000,m05/100000,m025/100000],[std5,std4,std2,std1,std05,std025]],columns=[5,4,2,1,0.5,0.25])\n",
    "df.index=['Mean',\"Performance MSR\"]\n",
    "df.columns.names=['Rebalance']\n",
    "df"
   ]
  },
  {
   "cell_type": "markdown",
   "id": "67547e0e",
   "metadata": {
    "id": "iusNfh_e_Wt2"
   },
   "source": [
    "### transaction cost included"
   ]
  },
  {
   "cell_type": "code",
   "execution_count": null,
   "id": "70ca0cd4",
   "metadata": {
    "executionInfo": {
     "elapsed": 21,
     "status": "aborted",
     "timestamp": 1701586212084,
     "user": {
      "displayName": "강병표",
      "userId": "10016608623122375854"
     },
     "user_tz": -540
    },
    "id": "IxtYFlo1_Wt3"
   },
   "outputs": [],
   "source": [
    "df=pd.DataFrame([[m5_tr/100000,m4_tr/100000,m2_tr/100000,m1_tr/100000,m05_tr/100000,m025_tr/100000],[std5_tr,std4_tr,std2_tr,std1_tr,std05_tr,std025_tr]],columns=[5,4,2,1,0.5,0.25])\n",
    "df.index=['Mean',\"Performance MSR\"]\n",
    "df.columns.names=['Rebalance']\n",
    "df"
   ]
  },
  {
   "cell_type": "code",
   "execution_count": null,
   "id": "045b3134",
   "metadata": {
    "executionInfo": {
     "elapsed": 21,
     "status": "aborted",
     "timestamp": 1701586212084,
     "user": {
      "displayName": "강병표",
      "userId": "10016608623122375854"
     },
     "user_tz": -540
    },
    "id": "pI_SM4fX_Wt4"
   },
   "outputs": [],
   "source": [
    "\n",
    "M=1\n",
    "M_s=20/M\n",
    "M_s=np.int(M_s)\n",
    "dt=M/52\n",
    "tt=np.repeat(T,M_s)\n",
    "for i in range(M_s-1):\n",
    "    tt[i+1]=tt[i]-dt\n",
    "tt=np.append(tt,0)\n",
    "\n",
    "\n",
    "\n",
    "# Generating random\n",
    "generating_number=int(round(T*(1/dt)))+1\n",
    "\n",
    "# generating stock path\n",
    "z=np.random.randn(simulation_number,generating_number)\n",
    "stock_path_bm=np.exp((mu-0.5*sigma**2)*dt+sigma*np.sqrt(dt)*z)\n",
    "stock_path_bm[:,0]=1\n",
    "stock_price=stock_path_bm.cumprod(1)*s0"
   ]
  },
  {
   "cell_type": "code",
   "execution_count": null,
   "id": "93bbba36",
   "metadata": {
    "executionInfo": {
     "elapsed": 21,
     "status": "aborted",
     "timestamp": 1701586212084,
     "user": {
      "displayName": "강병표",
      "userId": "10016608623122375854"
     },
     "user_tz": -540
    },
    "id": "lwkFlsrK_Wt4"
   },
   "outputs": [],
   "source": [
    "for i in range(1000):\n",
    "    plt.plot(stock_price[i])"
   ]
  },
  {
   "cell_type": "code",
   "execution_count": null,
   "id": "f02b995e",
   "metadata": {
    "executionInfo": {
     "elapsed": 21,
     "status": "aborted",
     "timestamp": 1701586212085,
     "user": {
      "displayName": "강병표",
      "userId": "10016608623122375854"
     },
     "user_tz": -540
    },
    "id": "7K3jB1Tl_Wt4"
   },
   "outputs": [],
   "source": []
  },
  {
   "cell_type": "code",
   "execution_count": null,
   "id": "68399b55",
   "metadata": {
    "executionInfo": {
     "elapsed": 21,
     "status": "aborted",
     "timestamp": 1701586212085,
     "user": {
      "displayName": "강병표",
      "userId": "10016608623122375854"
     },
     "user_tz": -540
    },
    "id": "a1k-9uD8_Wt5"
   },
   "outputs": [],
   "source": []
  },
  {
   "cell_type": "code",
   "execution_count": null,
   "id": "243167ad",
   "metadata": {
    "executionInfo": {
     "elapsed": 21,
     "status": "aborted",
     "timestamp": 1701586212085,
     "user": {
      "displayName": "강병표",
      "userId": "10016608623122375854"
     },
     "user_tz": -540
    },
    "id": "YqFVk8BZ_Wt5"
   },
   "outputs": [],
   "source": []
  },
  {
   "cell_type": "code",
   "execution_count": null,
   "id": "0edc53c1",
   "metadata": {
    "executionInfo": {
     "elapsed": 21,
     "status": "aborted",
     "timestamp": 1701586212085,
     "user": {
      "displayName": "강병표",
      "userId": "10016608623122375854"
     },
     "user_tz": -540
    },
    "id": "9ccZjgOj_Wt5"
   },
   "outputs": [],
   "source": [
    "-----------절취선-----------------    #여기까지 기존 과제"
   ]
  },
  {
   "cell_type": "markdown",
   "id": "6dac04e3",
   "metadata": {
    "id": "_RiTdlnU_Wt5"
   },
   "source": [
    "### 현재가 50,000원 strike = 55,000원  수량# 100,000 계약\n",
    "### OPT 매도 포지션일때 내재 변동성 45%로 마진을 쌓아 놓고 Hedging PNL을 계산한다\n",
    "### Int cost =4% daily calculation\n",
    "### Transaction Cost= 0.1% at selling"
   ]
  },
  {
   "cell_type": "code",
   "execution_count": null,
   "id": "703aabff",
   "metadata": {
    "executionInfo": {
     "elapsed": 21,
     "status": "aborted",
     "timestamp": 1701586212085,
     "user": {
      "displayName": "강병표",
      "userId": "10016608623122375854"
     },
     "user_tz": -540
    },
    "id": "CKf8MZsI_Wt6"
   },
   "outputs": [],
   "source": [
    "PutCall='C'    # put / call 중에 어떤 상품인가\n",
    "x=50    # 기초자산 현재가격\n",
    "T=20/52    # 만기\n",
    "K=55    # strike price\n",
    "r=0.05   # 자금비용 & risk-free rate\n",
    "q=0    # 배당 (무시)\n",
    "sigma=0.46    # impvol\n",
    "\n",
    "\n",
    "\n",
    "c_price=BSprice(PutCall, x, T, K, r, q, sigma)[0]\n",
    "c_price*100000   #Margin"
   ]
  },
  {
   "cell_type": "code",
   "execution_count": null,
   "id": "3c28b822",
   "metadata": {
    "executionInfo": {
     "elapsed": 21,
     "status": "aborted",
     "timestamp": 1701586212085,
     "user": {
      "displayName": "강병표",
      "userId": "10016608623122375854"
     },
     "user_tz": -540
    },
    "id": "C9Q-QuOh_Wt6"
   },
   "outputs": [],
   "source": [
    "simulation_number=1000\n",
    "s0=50\n",
    "K=55\n",
    "mu=0.13\n",
    "r=0.04\n",
    "sigma=0.4\n",
    "q=0\n",
    "PutCall='C'\n",
    "T=20/52"
   ]
  },
  {
   "cell_type": "code",
   "execution_count": null,
   "id": "e47bea05",
   "metadata": {
    "executionInfo": {
     "elapsed": 20,
     "status": "aborted",
     "timestamp": 1701586212085,
     "user": {
      "displayName": "강병표",
      "userId": "10016608623122375854"
     },
     "user_tz": -540
    },
    "id": "hkiSXFXL_Wt6"
   },
   "outputs": [],
   "source": [
    "def hedging_C(s0,mu,K,r,sigma,T,q,PutCall,simulation_number):\n",
    "    M=1\n",
    "    M_s=20/M\n",
    "    M_s=np.int(M_s)\n",
    "    dt=M/52\n",
    "    tt=np.repeat(T,M_s)\n",
    "    for i in range(M_s-1):\n",
    "        tt[i+1]=tt[i]-dt\n",
    "    tt=np.append(tt,0)\n",
    "\n",
    "\n",
    "\n",
    "    # Generating random\n",
    "    generating_number=int(round(T*(1/dt)))+1\n",
    "\n",
    "    # generating stock path\n",
    "    z=np.random.randn(simulation_number,generating_number)\n",
    "    stock_path_bm=np.exp((mu-0.5*sigma**2)*dt+sigma*np.sqrt(dt)*z)\n",
    "    stock_path_bm[:,0]=1\n",
    "    stock_price=stock_path_bm.cumprod(1)*s0\n",
    "\n",
    "    # Calculating Delta\n",
    "    Delta=BSprice(PutCall,stock_price, tt, K, r, q, sigma)[1]\n",
    "    Delta_diff=Delta[:,1:]-Delta[:,:-1]\n",
    "    Delta_diff.shape\n",
    "\n",
    "    initial_array=np.repeat(Delta[0][0],Delta_diff.shape[0]).reshape(Delta_diff.shape[0],1)\n",
    "    Delta_change=np.concatenate([initial_array,Delta_diff],axis=1)\n",
    "\n",
    "    # Delta 변화에따른 stock trade\n",
    "    shares_purchased=Delta_change*100000\n",
    "    shares_purchased=shares_purchased.round()  #정수만 purchase\n",
    "\n",
    "\n",
    "\n",
    "    cost_purchased=shares_purchased*stock_price\n",
    "    trans_cost=np.where(cost_purchased<0,cost_purchased*0.001,0) #transaction Cost # 매도시에만 10BP\n",
    "    #trans_cost=cost_purchased*0.00015\n",
    "    trans_cost=abs(trans_cost)\n",
    "    transaction=np.cumsum(trans_cost,axis=1)\n",
    "    cum_cost=np.cumsum(cost_purchased,axis=1)\n",
    "\n",
    "    # Interest Cost 계산\n",
    "    for i in range(1,cum_cost.shape[1]):\n",
    "\n",
    "        cum_cost[:,i]=cum_cost[:,i-1]*np.exp(r*M/52)+cost_purchased[:,i]\n",
    "\n",
    "\n",
    "    # Final cost 계산\n",
    "    Final_cost=cum_cost[:,-1]\n",
    "    hedge_cost=np.where(stock_price[:,-1]>K,Final_cost-K*100000,Final_cost)\n",
    "\n",
    "    Final_cost_tr=cum_cost[:,-1]+transaction[:,-1]\n",
    "    hedge_cost_tr=np.where(stock_price[:,-1]>K,Final_cost_tr-K*100000,Final_cost_tr)\n",
    "\n",
    "    ATM_C=np.where((stock_price[:,-1]<1.01*K)&(stock_price[:,-1]>0.99*K),hedge_cost,0)    #ATM 으로 끝났을때\n",
    "    ITM_C=np.where(stock_price[:,-1]>K,hedge_cost,0)    #ITM 으로 끝났을때\n",
    "    OTM_C=np.where(stock_price[:,-1]<K,hedge_cost,0)    #OTM 으로 끝났을때\n",
    "\n",
    "    ATM_Case=ATM_C[ATM_C!=0]\n",
    "    ITM_Case=ITM_C[ITM_C!=0]\n",
    "    OTM_Case=OTM_C[OTM_C!=0]\n",
    "\n",
    "\n",
    "    hedging_PNL=(c_price*100000-hedge_cost)\n",
    "\n",
    "    Mean=np.mean(hedge_cost)    # transcation cost 포함하지 않은 hedging cost\n",
    "    Performance_MSR=np.std(hedge_cost)/240000\n",
    "\n",
    "\n",
    "    Mean_tr=np.mean(hedge_cost_tr)   #transaction cost 포함함 hedging cost\n",
    "    Performance_MSR_tr=np.std(hedge_cost_tr)/240000\n",
    "    Mean_hedging_PNL=np.mean(hedging_PNL)\n",
    "\n",
    "\n",
    "    return(Mean,Performance_MSR,Mean_tr,Performance_MSR_tr,np.mean(ITM_Case),np.mean(OTM_Case),np.mean(ATM_Case),Mean_hedging_PNL)\n",
    "\n",
    "\n"
   ]
  },
  {
   "cell_type": "code",
   "execution_count": null,
   "id": "4b8fbe7d",
   "metadata": {
    "executionInfo": {
     "elapsed": 20,
     "status": "aborted",
     "timestamp": 1701586212085,
     "user": {
      "displayName": "강병표",
      "userId": "10016608623122375854"
     },
     "user_tz": -540
    },
    "id": "4f3QjHF8_Wt6",
    "lines_to_next_cell": 2
   },
   "outputs": [],
   "source": [
    "s0=49\n",
    "K=50\n",
    "mu=0.13\n",
    "r=0.05\n",
    "sigma=0.2\n",
    "q=0\n",
    "PutCall='C'\n",
    "T=20/52\n",
    "simulation_number=1000"
   ]
  },
  {
   "cell_type": "markdown",
   "id": "c9743fe1",
   "metadata": {
    "id": "aKBKulXW_Wt7"
   },
   "source": [
    "## transaction cost 비교"
   ]
  },
  {
   "cell_type": "code",
   "execution_count": null,
   "id": "a9aac99c",
   "metadata": {
    "executionInfo": {
     "elapsed": 20,
     "status": "aborted",
     "timestamp": 1701586212085,
     "user": {
      "displayName": "강병표",
      "userId": "10016608623122375854"
     },
     "user_tz": -540
    },
    "id": "dXPKK86J_Wt7",
    "lines_to_next_cell": 2
   },
   "outputs": [],
   "source": [
    "Mean_without_transcost=np.zeros(1000)\n",
    "Mean_with_transcost=np.zeros(1000)\n",
    "for i in tqdm(range(1000)):\n",
    "\n",
    "    Mean_without_transcost[i]=hedging_C(s0,mu,K,r,sigma,T,q,PutCall,simulation_number)[0]\n",
    "    Mean_with_transcost[i]=hedging_C(s0,mu,K,r,sigma,T,q,PutCall,simulation_number)[2]"
   ]
  },
  {
   "cell_type": "code",
   "execution_count": null,
   "id": "946949a2",
   "metadata": {
    "executionInfo": {
     "elapsed": 20,
     "status": "aborted",
     "timestamp": 1701586212085,
     "user": {
      "displayName": "강병표",
      "userId": "10016608623122375854"
     },
     "user_tz": -540
    },
    "id": "qCPCnGCP_Wt7"
   },
   "outputs": [],
   "source": [
    "plt.figure(figsize=(10,10))\n",
    "sns.distplot(Mean_without_transcost,color='blue',label='Without Cost')\n",
    "plt.axvline(x=Mean_without_transcost.mean(),color='black',ls='--',lw=4)\n",
    "\n",
    "sns.distplot(Mean_with_transcost,color='red',label=\"Wiht Cost\")\n",
    "plt.axvline(x=Mean_with_transcost.mean(),color='black',ls='--',lw=4)\n",
    "\n",
    "plt.xlabel(\"Cost\",size=20)\n",
    "plt.legend()\n",
    "plt.show()"
   ]
  },
  {
   "cell_type": "markdown",
   "id": "9f7a5768",
   "metadata": {
    "id": "UdQyjyUz_Wt7"
   },
   "source": [
    "## Hedging PNL"
   ]
  },
  {
   "cell_type": "code",
   "execution_count": null,
   "id": "4e49b28a",
   "metadata": {
    "executionInfo": {
     "elapsed": 20,
     "status": "aborted",
     "timestamp": 1701586212085,
     "user": {
      "displayName": "강병표",
      "userId": "10016608623122375854"
     },
     "user_tz": -540
    },
    "id": "FeNCL8My_Wt7"
   },
   "outputs": [],
   "source": [
    "a=np.zeros(1000)\n",
    "for i in tqdm(range(1000)):\n",
    "    a[i]=hedging_C(s0,mu,K,r,sigma,T,q,PutCall,simulation_number)[7]"
   ]
  },
  {
   "cell_type": "code",
   "execution_count": null,
   "id": "a7bedbe1",
   "metadata": {
    "executionInfo": {
     "elapsed": 20,
     "status": "aborted",
     "timestamp": 1701586212086,
     "user": {
      "displayName": "강병표",
      "userId": "10016608623122375854"
     },
     "user_tz": -540
    },
    "id": "n2wr7Vkh_Wt7"
   },
   "outputs": [],
   "source": [
    "sns.distplot(a,color='blue')\n",
    "plt.axvline(x=a.mean(),color='black',ls='--',lw=4)"
   ]
  },
  {
   "cell_type": "markdown",
   "id": "b32d3ce9",
   "metadata": {
    "id": "vTJ28qZt_Wt8"
   },
   "source": [
    "### ITM ATM OTM case"
   ]
  },
  {
   "cell_type": "code",
   "execution_count": null,
   "id": "6a972e49",
   "metadata": {
    "executionInfo": {
     "elapsed": 20,
     "status": "aborted",
     "timestamp": 1701586212086,
     "user": {
      "displayName": "강병표",
      "userId": "10016608623122375854"
     },
     "user_tz": -540
    },
    "id": "yMsRAWaJ_Wt8"
   },
   "outputs": [],
   "source": [
    "ITM_=np.zeros(1000)\n",
    "ATM_=np.zeros(1000)\n",
    "OTM_=np.zeros(1000)\n",
    "for i in tqdm(range(1000)):\n",
    "\n",
    "    ITM_[i]=hedging_C(s0,mu,K,r,sigma,T,q,PutCall,simulation_number)[4]\n",
    "    OTM_[i]=hedging_C(s0,mu,K,r,sigma,T,q,PutCall,simulation_number)[5]\n",
    "    ATM_[i]=hedging_C(s0,mu,K,r,sigma,T,q,PutCall,simulation_number)[6]"
   ]
  },
  {
   "cell_type": "code",
   "execution_count": null,
   "id": "3ff702ac",
   "metadata": {
    "executionInfo": {
     "elapsed": 20,
     "status": "aborted",
     "timestamp": 1701586212086,
     "user": {
      "displayName": "강병표",
      "userId": "10016608623122375854"
     },
     "user_tz": -540
    },
    "id": "-fLzY7ea_Wt8"
   },
   "outputs": [],
   "source": [
    "plt.figure(figsize=(10,10))\n",
    "sns.distplot(ITM_,color='blue',label='ITM')\n",
    "plt.axvline(x=ITM_.mean(),color='black',ls='--',lw=4)\n",
    "\n",
    "sns.distplot(OTM_,color='red',label=\"OTM\")\n",
    "plt.axvline(x=OTM_.mean(),color='black',ls='--',lw=4)\n",
    "\n",
    "sns.distplot(ATM_,color='gray',label=\"ATM\")\n",
    "plt.axvline(x=ATM_.mean(),color='black',ls='--',lw=4)\n",
    "\n",
    "plt.xlabel(\"Cost\",size=20)\n",
    "plt.legend()\n",
    "plt.show()"
   ]
  },
  {
   "cell_type": "code",
   "execution_count": null,
   "id": "0c2edb06",
   "metadata": {
    "executionInfo": {
     "elapsed": 20,
     "status": "aborted",
     "timestamp": 1701586212086,
     "user": {
      "displayName": "강병표",
      "userId": "10016608623122375854"
     },
     "user_tz": -540
    },
    "id": "6wH62w4Z_Wt8"
   },
   "outputs": [],
   "source": []
  },
  {
   "cell_type": "code",
   "execution_count": null,
   "id": "b43a855e",
   "metadata": {
    "executionInfo": {
     "elapsed": 20,
     "status": "aborted",
     "timestamp": 1701586212086,
     "user": {
      "displayName": "강병표",
      "userId": "10016608623122375854"
     },
     "user_tz": -540
    },
    "id": "umnUjshA_Wt8"
   },
   "outputs": [],
   "source": [
    "-------------1차 절취선---------------"
   ]
  },
  {
   "cell_type": "code",
   "execution_count": null,
   "id": "105dbfc5",
   "metadata": {
    "executionInfo": {
     "elapsed": 19,
     "status": "aborted",
     "timestamp": 1701586212086,
     "user": {
      "displayName": "강병표",
      "userId": "10016608623122375854"
     },
     "user_tz": -540
    },
    "id": "SWBNb6Ss_Wt8"
   },
   "outputs": [],
   "source": []
  },
  {
   "cell_type": "code",
   "execution_count": null,
   "id": "f7bd9d97",
   "metadata": {
    "executionInfo": {
     "elapsed": 19,
     "status": "aborted",
     "timestamp": 1701586212086,
     "user": {
      "displayName": "강병표",
      "userId": "10016608623122375854"
     },
     "user_tz": -540
    },
    "id": "98C_Z0Xi_Wt9"
   },
   "outputs": [],
   "source": []
  },
  {
   "cell_type": "code",
   "execution_count": null,
   "id": "c1cabb80",
   "metadata": {
    "executionInfo": {
     "elapsed": 19,
     "status": "aborted",
     "timestamp": 1701586212086,
     "user": {
      "displayName": "강병표",
      "userId": "10016608623122375854"
     },
     "user_tz": -540
    },
    "id": "vOp_XcN6_Wt9"
   },
   "outputs": [],
   "source": []
  },
  {
   "cell_type": "code",
   "execution_count": null,
   "id": "db248a6d",
   "metadata": {
    "executionInfo": {
     "elapsed": 19,
     "status": "aborted",
     "timestamp": 1701586212086,
     "user": {
      "displayName": "강병표",
      "userId": "10016608623122375854"
     },
     "user_tz": -540
    },
    "id": "MO_0sFVZ_Wt9"
   },
   "outputs": [],
   "source": []
  },
  {
   "cell_type": "code",
   "execution_count": null,
   "id": "c85ed5de",
   "metadata": {
    "executionInfo": {
     "elapsed": 19,
     "status": "aborted",
     "timestamp": 1701586212086,
     "user": {
      "displayName": "강병표",
      "userId": "10016608623122375854"
     },
     "user_tz": -540
    },
    "id": "ScvVg1Pm_Wt9"
   },
   "outputs": [],
   "source": [
    "kospi_c_all=pd.read_csv(\"kospi_opt_M11_K355.csv\")\n",
    "kospi_c_all.index=kospi_c_all['일자']\n",
    "kospi_c_all=kospi_c_all.iloc[:,:11]\n",
    "kospi_opt_df=kospi_c_all[kospi_c_all['거래량']>50]  # 거래량 50 이상\n",
    "kospi_opt_df.iloc[-1]"
   ]
  },
  {
   "cell_type": "code",
   "execution_count": null,
   "id": "5a0366a8",
   "metadata": {
    "executionInfo": {
     "elapsed": 18,
     "status": "aborted",
     "timestamp": 1701586212086,
     "user": {
      "displayName": "강병표",
      "userId": "10016608623122375854"
     },
     "user_tz": -540
    },
    "id": "VOBZFjWd_Wt9",
    "lines_to_next_cell": 2
   },
   "outputs": [],
   "source": [
    "df_etf=fdr.DataReader('069500')\n",
    "df_etf=df_etf['Close']"
   ]
  },
  {
   "cell_type": "code",
   "execution_count": null,
   "id": "95ba056f",
   "metadata": {
    "executionInfo": {
     "elapsed": 18,
     "status": "aborted",
     "timestamp": 1701586212086,
     "user": {
      "displayName": "강병표",
      "userId": "10016608623122375854"
     },
     "user_tz": -540
    },
    "id": "E3_7RDA0_Wt9"
   },
   "outputs": [],
   "source": [
    "df_etf_ret=df_etf.pct_change(1).dropna()"
   ]
  },
  {
   "cell_type": "code",
   "execution_count": null,
   "id": "9c4a37b6",
   "metadata": {
    "executionInfo": {
     "elapsed": 18,
     "status": "aborted",
     "timestamp": 1701586212086,
     "user": {
      "displayName": "강병표",
      "userId": "10016608623122375854"
     },
     "user_tz": -540
    },
    "id": "IqfTIPkE_WuF"
   },
   "outputs": [],
   "source": [
    "rolling_90_std=df_etf_ret.rolling(90).std()*np.sqrt(252)\n",
    "rolling_90_std=rolling_90_std[(rolling_90_std.index<='2022-11-10')&(rolling_90_std.index>='2022-07-07')]\n",
    "rolling_90_std"
   ]
  },
  {
   "cell_type": "code",
   "execution_count": null,
   "id": "42b24693",
   "metadata": {
    "executionInfo": {
     "elapsed": 18,
     "status": "aborted",
     "timestamp": 1701586212086,
     "user": {
      "displayName": "강병표",
      "userId": "10016608623122375854"
     },
     "user_tz": -540
    },
    "id": "4JnFaq5o_WuF"
   },
   "outputs": [],
   "source": [
    "df_etf_kospi=df_etf[(df_etf.index>=\"2022-07-07\")&(df_etf.index<=\"2022-11-10\")]\n",
    "df_etf_kospi"
   ]
  },
  {
   "cell_type": "code",
   "execution_count": null,
   "id": "c74ebea0",
   "metadata": {
    "executionInfo": {
     "elapsed": 18,
     "status": "aborted",
     "timestamp": 1701586212086,
     "user": {
      "displayName": "강병표",
      "userId": "10016608623122375854"
     },
     "user_tz": -540
    },
    "id": "K1N5-qa5_WuF"
   },
   "outputs": [],
   "source": [
    "kospi_200_s=pd.read_csv('Kospi_200_index.csv')\n",
    "kospi_200_s.index=kospi_200_s['일자']\n",
    "kospi_200_s=kospi_200_s[(kospi_200_s.index>=\"2022-07-07\")&(kospi_200_s.index<=\"2022-11-10\")]\n",
    "kospi_200_s=kospi_200_s['종가'].loc[::-1]\n",
    "kospi_200_s"
   ]
  },
  {
   "cell_type": "code",
   "execution_count": null,
   "id": "77635ce6",
   "metadata": {
    "executionInfo": {
     "elapsed": 18,
     "status": "aborted",
     "timestamp": 1701586212086,
     "user": {
      "displayName": "강병표",
      "userId": "10016608623122375854"
     },
     "user_tz": -540
    },
    "id": "C8KMXCgZ_WuG"
   },
   "outputs": [],
   "source": [
    "def BSprice(PutCall, x, T, K, r, q, sigma):\n",
    "    d1 =(1/(sigma*np.sqrt(T)))*(np.log(x/K) + (r - q + 0.5*sigma**2)*T)\n",
    "    d2 = (1/(sigma*np.sqrt(T)))*(np.log(x/K) + (r - q - 0.5*sigma**2)*T)\n",
    "    Nd1 = norm.cdf(d1)\n",
    "    Nd2 = norm.cdf(d2)\n",
    "    Nd1m = norm.cdf(-d1)\n",
    "    Nd2m = norm.cdf(-d2)\n",
    "\n",
    "    if PutCall == 'C':\n",
    "        price1 = x*np.exp(-q*T)*Nd1 - K*np.exp(-r*T)*Nd2\n",
    "        price2 = np.exp(-q*T)*Nd1\n",
    "    elif PutCall =='P':\n",
    "        price1 = K*np.exp(-r*T)*Nd2m - x*np.exp(-q*T)*Nd1m\n",
    "        price2 = -np.exp(-q*T)*Nd1m\n",
    "\n",
    "    return(price1,price2)"
   ]
  },
  {
   "cell_type": "code",
   "execution_count": null,
   "id": "dd32c761",
   "metadata": {
    "executionInfo": {
     "elapsed": 17,
     "status": "aborted",
     "timestamp": 1701586212086,
     "user": {
      "displayName": "강병표",
      "userId": "10016608623122375854"
     },
     "user_tz": -540
    },
    "id": "vaZNTEf4_WuG"
   },
   "outputs": [],
   "source": [
    "PutCall=\"C\"\n",
    "T=len(kospi_200_s.index)\n",
    "tt=[]\n",
    "for i in range(T-1):\n",
    "    tt.append(T-1-i)\n",
    "tt.append(0)\n",
    "tt=np.array(tt)\n",
    "T=tt\n",
    "K=355\n",
    "r=0.0321\n",
    "sigma=rolling_90_std"
   ]
  },
  {
   "cell_type": "code",
   "execution_count": null,
   "id": "432ad6da",
   "metadata": {
    "executionInfo": {
     "elapsed": 17,
     "status": "aborted",
     "timestamp": 1701586212086,
     "user": {
      "displayName": "강병표",
      "userId": "10016608623122375854"
     },
     "user_tz": -540
    },
    "id": "gWhxX6cf_WuG"
   },
   "outputs": [],
   "source": [
    "df_etf_kospi*0.01"
   ]
  },
  {
   "cell_type": "code",
   "execution_count": null,
   "id": "9603436d",
   "metadata": {
    "executionInfo": {
     "elapsed": 17,
     "status": "aborted",
     "timestamp": 1701586212086,
     "user": {
      "displayName": "강병표",
      "userId": "10016608623122375854"
     },
     "user_tz": -540
    },
    "id": "rc0TGQPH_WuG"
   },
   "outputs": [],
   "source": [
    "BSprice('C',df_etf_kospi*0.01,tt,K,r,0.0179,rolling_90_std)[0]  # Call price"
   ]
  },
  {
   "cell_type": "code",
   "execution_count": null,
   "id": "b219a91e",
   "metadata": {
    "executionInfo": {
     "elapsed": 18,
     "status": "aborted",
     "timestamp": 1701586212087,
     "user": {
      "displayName": "강병표",
      "userId": "10016608623122375854"
     },
     "user_tz": -540
    },
    "id": "zG5JVFm-_WuH"
   },
   "outputs": [],
   "source": [
    "Delta=BSprice('C',df_etf_kospi*0.01,tt,K,r,0.0179,rolling_90_std)[1]   # Delta\n",
    "Delta"
   ]
  },
  {
   "cell_type": "code",
   "execution_count": null,
   "id": "e8c46ac0",
   "metadata": {
    "executionInfo": {
     "elapsed": 18,
     "status": "aborted",
     "timestamp": 1701586212087,
     "user": {
      "displayName": "강병표",
      "userId": "10016608623122375854"
     },
     "user_tz": -540
    },
    "id": "hOypbGxV_WuH"
   },
   "outputs": [],
   "source": [
    "Delta_diff=Delta[1:]-Delta[:-1]"
   ]
  },
  {
   "cell_type": "code",
   "execution_count": null,
   "id": "184bb410",
   "metadata": {
    "executionInfo": {
     "elapsed": 17,
     "status": "aborted",
     "timestamp": 1701586212087,
     "user": {
      "displayName": "강병표",
      "userId": "10016608623122375854"
     },
     "user_tz": -540
    },
    "id": "IUNQLXUH_WuH"
   },
   "outputs": [],
   "source": [
    "Delta_diff\n",
    "Delta_change=np.repeat(Delta[0],len(Delta_diff)+1)\n",
    "Delta_change[1:]=Delta_diff\n",
    "Delta_change"
   ]
  },
  {
   "cell_type": "code",
   "execution_count": null,
   "id": "cdc27c01",
   "metadata": {
    "executionInfo": {
     "elapsed": 17,
     "status": "aborted",
     "timestamp": 1701586212087,
     "user": {
      "displayName": "강병표",
      "userId": "10016608623122375854"
     },
     "user_tz": -540
    },
    "id": "wBhqbG6y_WuH"
   },
   "outputs": [],
   "source": [
    "Delta_change*100000"
   ]
  },
  {
   "cell_type": "code",
   "execution_count": null,
   "id": "55f18f58",
   "metadata": {
    "executionInfo": {
     "elapsed": 17,
     "status": "aborted",
     "timestamp": 1701586212087,
     "user": {
      "displayName": "강병표",
      "userId": "10016608623122375854"
     },
     "user_tz": -540
    },
    "id": "osu0N9FW_WuL"
   },
   "outputs": [],
   "source": [
    "1.39/0.05*250000"
   ]
  },
  {
   "cell_type": "code",
   "execution_count": null,
   "id": "87016c6d",
   "metadata": {
    "executionInfo": {
     "elapsed": 17,
     "status": "aborted",
     "timestamp": 1701586212087,
     "user": {
      "displayName": "강병표",
      "userId": "10016608623122375854"
     },
     "user_tz": -540
    },
    "id": "IVVP3It__WuL"
   },
   "outputs": [],
   "source": [
    "1.4/0.5*250000"
   ]
  },
  {
   "cell_type": "code",
   "execution_count": null,
   "id": "5bac48b1",
   "metadata": {
    "executionInfo": {
     "elapsed": 17,
     "status": "aborted",
     "timestamp": 1701586212087,
     "user": {
      "displayName": "강병표",
      "userId": "10016608623122375854"
     },
     "user_tz": -540
    },
    "id": "8ZDQMg3N_WuM"
   },
   "outputs": [],
   "source": []
  },
  {
   "cell_type": "code",
   "execution_count": null,
   "id": "d03fcd00",
   "metadata": {
    "executionInfo": {
     "elapsed": 17,
     "status": "aborted",
     "timestamp": 1701586212087,
     "user": {
      "displayName": "강병표",
      "userId": "10016608623122375854"
     },
     "user_tz": -540
    },
    "id": "Djm5Y9bR_WuM"
   },
   "outputs": [],
   "source": [
    "------ 절취선------- 아래는 실패작"
   ]
  },
  {
   "cell_type": "code",
   "execution_count": null,
   "id": "ea1b3125",
   "metadata": {
    "executionInfo": {
     "elapsed": 17,
     "status": "aborted",
     "timestamp": 1701586212087,
     "user": {
      "displayName": "강병표",
      "userId": "10016608623122375854"
     },
     "user_tz": -540
    },
    "id": "T_Xfazj5_WuM"
   },
   "outputs": [],
   "source": [
    "def BSprice_Futures(PutCall, F, T, K, r, sigma):   ### John hull 책 415 페이지 관련내용\n",
    "    d1 =(1/(sigma*np.sqrt(T)))*(np.log(F/K) + (0.5*sigma**2)*T)\n",
    "    d2 = (1/(sigma*np.sqrt(T)))*(np.log(F/K) - (0.5*sigma**2)*T)\n",
    "    Nd1 = norm.cdf(d1)\n",
    "    Nd2 = norm.cdf(d2)\n",
    "    Nd1m = norm.cdf(-d1)\n",
    "    Nd2m = norm.cdf(-d2)\n",
    "\n",
    "    if PutCall == 'C':\n",
    "        price1 = F*np.exp(-r*T)*Nd1 - K*np.exp(-r*T)*Nd2\n",
    "        price2 = np.exp(-r*T)*Nd1\n",
    "    elif PutCall =='P':\n",
    "        price1 = K*np.exp(-r*T)*Nd2m - F*np.exp(-r*T)*Nd1m\n",
    "        price2 = -np.exp(-r*T)*Nd1m\n",
    "\n",
    "    return(price1,price2)           # returns array\n",
    "\n"
   ]
  },
  {
   "cell_type": "code",
   "execution_count": null,
   "id": "c2cfcc24",
   "metadata": {
    "executionInfo": {
     "elapsed": 17,
     "status": "aborted",
     "timestamp": 1701586212087,
     "user": {
      "displayName": "강병표",
      "userId": "10016608623122375854"
     },
     "user_tz": -540
    },
    "id": "IO4iP1iD_WuM"
   },
   "outputs": [],
   "source": [
    "kospi_c_all=pd.read_csv(\"kospi_opt_M11_K355.csv\")\n",
    "kospi_c_all.index=kospi_c_all['일자']\n",
    "kospi_c_all=kospi_c_all.iloc[:,:11]\n",
    "kospi_opt_df=kospi_c_all[kospi_c_all['거래량']>50]  # 거래량 50 이상\n",
    "kospi_opt_df.iloc[-1]"
   ]
  },
  {
   "cell_type": "code",
   "execution_count": null,
   "id": "5cd14949",
   "metadata": {
    "executionInfo": {
     "elapsed": 17,
     "status": "aborted",
     "timestamp": 1701586212087,
     "user": {
      "displayName": "강병표",
      "userId": "10016608623122375854"
     },
     "user_tz": -540
    },
    "id": "Au8_ezuR_WuM",
    "lines_to_next_cell": 2
   },
   "outputs": [],
   "source": [
    "kospi_200=pd.read_csv('Kospi_200_index.csv')\n",
    "kospi_200.index=kospi_200['일자']\n",
    "#kospi_200#=#kospi_200[(kospi_200.index>=\"2022-08-04\")&(kospi_200.index<=\"2022-11-10\")]\n",
    "kospi_200=kospi_200['종가'].loc[::-1]\n",
    "kospi_200=kospi_200[kospi_200.index=='2022-07-07']\n",
    "kospi_200"
   ]
  },
  {
   "cell_type": "code",
   "execution_count": null,
   "id": "826f9d00",
   "metadata": {
    "executionInfo": {
     "elapsed": 16,
     "status": "aborted",
     "timestamp": 1701586212087,
     "user": {
      "displayName": "강병표",
      "userId": "10016608623122375854"
     },
     "user_tz": -540
    },
    "id": "s32ngUHg_WuN"
   },
   "outputs": [],
   "source": [
    "kospi_200_s=pd.read_csv('Kospi_200_index.csv')\n",
    "kospi_200_s.index=kospi_200_s['일자']\n",
    "kospi_200_s=kospi_200_s['종가']\n",
    "kospi_200_s=kospi_200_s.pct_change(1).dropna()\n",
    "kospi_200_s=kospi_200_s.loc[::-1]\n",
    "rolling_90_std=kospi_200_s.rolling(90).std()*np.sqrt(252)\n",
    "rolling_90_std=rolling_90_std.dropna()\n",
    "rolling_90_std=rolling_90_std[(rolling_90_std.index<=\"2022-11-10\")&(rolling_90_std.index>=\"2022-07-07\")]\n",
    "rolling_90_std"
   ]
  },
  {
   "cell_type": "code",
   "execution_count": null,
   "id": "6c6de339",
   "metadata": {
    "executionInfo": {
     "elapsed": 16,
     "status": "aborted",
     "timestamp": 1701586212087,
     "user": {
      "displayName": "강병표",
      "userId": "10016608623122375854"
     },
     "user_tz": -540
    },
    "id": "4WsMnu7U_WuN"
   },
   "outputs": [],
   "source": [
    "kospi_fut=pd.read_csv(\"kospi_200_Fut.csv\") ## futures\n",
    "kospi_fut.index=kospi_fut['일자']\n",
    "kospi_fut=kospi_fut.iloc[:,1:]\n",
    "kospi_fut=kospi_fut.iloc[:,:10].dropna()\n",
    "kospi_fut=kospi_fut.loc[::-1]\n",
    "kospi_fut=kospi_fut[(kospi_fut.index>='2022-07-07')&(kospi_fut.index<='2022-11-10')]\n",
    "kospi_fut"
   ]
  },
  {
   "cell_type": "code",
   "execution_count": null,
   "id": "a95a6d71",
   "metadata": {
    "executionInfo": {
     "elapsed": 16,
     "status": "aborted",
     "timestamp": 1701586212087,
     "user": {
      "displayName": "강병표",
      "userId": "10016608623122375854"
     },
     "user_tz": -540
    },
    "id": "IroM0Sn0_WuN",
    "lines_to_next_cell": 2
   },
   "outputs": [],
   "source": [
    "# plt.figure(figsize=(20,10))\n",
    "# kospi_fut=kospi_fut[kospi_fut.index>='2022-07-07']\n",
    "# plt.plot(kospi_fut['종가'])\n",
    "# plt.plot(kospi_200[kospi_200.index>='2022-07-07'])"
   ]
  },
  {
   "cell_type": "code",
   "execution_count": null,
   "id": "69deed58",
   "metadata": {
    "executionInfo": {
     "elapsed": 16,
     "status": "aborted",
     "timestamp": 1701586212087,
     "user": {
      "displayName": "강병표",
      "userId": "10016608623122375854"
     },
     "user_tz": -540
    },
    "id": "U2VPScHt_WuN"
   },
   "outputs": [],
   "source": [
    "T=len(kospi_fut.index)\n",
    "tt=[]\n",
    "for i in range(T-1):\n",
    "    tt.append(T-1-i)\n",
    "tt.append(0)"
   ]
  },
  {
   "cell_type": "code",
   "execution_count": null,
   "id": "1763f8d4",
   "metadata": {
    "executionInfo": {
     "elapsed": 16,
     "status": "aborted",
     "timestamp": 1701586212087,
     "user": {
      "displayName": "강병표",
      "userId": "10016608623122375854"
     },
     "user_tz": -540
    },
    "id": "7OsrK-5G_WuO"
   },
   "outputs": [],
   "source": [
    "PutCall=\"C\"\n",
    "F=kospi_fut['종가']\n",
    "T=len(kospi_fut.index)\n",
    "tt=[]\n",
    "for i in range(T-1):\n",
    "    tt.append(T-1-i)\n",
    "tt.append(0)\n",
    "tt=np.array(tt)\n",
    "T=tt\n",
    "K=355\n",
    "r=0.0321\n",
    "sigma=rolling_90_std"
   ]
  },
  {
   "cell_type": "code",
   "execution_count": null,
   "id": "24e405a0",
   "metadata": {
    "executionInfo": {
     "elapsed": 16,
     "status": "aborted",
     "timestamp": 1701586212087,
     "user": {
      "displayName": "강병표",
      "userId": "10016608623122375854"
     },
     "user_tz": -540
    },
    "id": "J0Zl3G5K_WuO"
   },
   "outputs": [],
   "source": [
    "Delta=BSprice_Futures(PutCall, F, T, K, r, sigma)[1]"
   ]
  },
  {
   "cell_type": "code",
   "execution_count": null,
   "id": "57460e40",
   "metadata": {
    "executionInfo": {
     "elapsed": 17,
     "status": "aborted",
     "timestamp": 1701586212088,
     "user": {
      "displayName": "강병표",
      "userId": "10016608623122375854"
     },
     "user_tz": -540
    },
    "id": "gx0WPve-_WuO"
   },
   "outputs": [],
   "source": [
    "import numpy as np"
   ]
  },
  {
   "cell_type": "code",
   "execution_count": null,
   "id": "f67879f4",
   "metadata": {
    "executionInfo": {
     "elapsed": 17,
     "status": "aborted",
     "timestamp": 1701586212088,
     "user": {
      "displayName": "강병표",
      "userId": "10016608623122375854"
     },
     "user_tz": -540
    },
    "id": "fwZUVWAM_WuO"
   },
   "outputs": [],
   "source": [
    "(np.exp(0.03/12)*(6.23+4.05-2*5.05))/1.25**2"
   ]
  },
  {
   "cell_type": "code",
   "execution_count": null,
   "id": "1cc8bd86",
   "metadata": {
    "executionInfo": {
     "elapsed": 17,
     "status": "aborted",
     "timestamp": 1701586212088,
     "user": {
      "displayName": "강병표",
      "userId": "10016608623122375854"
     },
     "user_tz": -540
    },
    "id": "2yzLxsZv_WuO"
   },
   "outputs": [],
   "source": [
    "Delta"
   ]
  },
  {
   "cell_type": "code",
   "execution_count": null,
   "id": "fbb4d0e7",
   "metadata": {
    "executionInfo": {
     "elapsed": 17,
     "status": "aborted",
     "timestamp": 1701586212088,
     "user": {
      "displayName": "강병표",
      "userId": "10016608623122375854"
     },
     "user_tz": -540
    },
    "id": "p_yB48Yp_WuO"
   },
   "outputs": [],
   "source": [
    "plt.plot(Delta)"
   ]
  },
  {
   "cell_type": "code",
   "execution_count": null,
   "id": "09cdb4ab",
   "metadata": {
    "executionInfo": {
     "elapsed": 17,
     "status": "aborted",
     "timestamp": 1701586212088,
     "user": {
      "displayName": "강병표",
      "userId": "10016608623122375854"
     },
     "user_tz": -540
    },
    "id": "eYrB4FrW_WuP"
   },
   "outputs": [],
   "source": [
    "BSprice_Futures(PutCall, F, T, K, r, sigma)[0]"
   ]
  },
  {
   "cell_type": "code",
   "execution_count": null,
   "id": "a610904c",
   "metadata": {
    "executionInfo": {
     "elapsed": 17,
     "status": "aborted",
     "timestamp": 1701586212088,
     "user": {
      "displayName": "강병표",
      "userId": "10016608623122375854"
     },
     "user_tz": -540
    },
    "id": "Y21ll8s3_WuP"
   },
   "outputs": [],
   "source": [
    "Delta_diff=Delta[:-1]-Delta[1:]\n",
    "Delta_change=np.repeat(Delta[0],len(Delta_diff)+1)\n",
    "Delta_change[1:]=Delta_diff"
   ]
  },
  {
   "cell_type": "code",
   "execution_count": null,
   "id": "f514c341",
   "metadata": {
    "executionInfo": {
     "elapsed": 16,
     "status": "aborted",
     "timestamp": 1701586212088,
     "user": {
      "displayName": "강병표",
      "userId": "10016608623122375854"
     },
     "user_tz": -540
    },
    "id": "FRsrCyUg_WuP"
   },
   "outputs": [],
   "source": [
    "Delta_change"
   ]
  },
  {
   "cell_type": "code",
   "execution_count": null,
   "id": "d4db311b",
   "metadata": {
    "executionInfo": {
     "elapsed": 16,
     "status": "aborted",
     "timestamp": 1701586212088,
     "user": {
      "displayName": "강병표",
      "userId": "10016608623122375854"
     },
     "user_tz": -540
    },
    "id": "NoukfUFE_WuP"
   },
   "outputs": [],
   "source": [
    "shares_purchased=Delta_change*1000000\n",
    "shares_purchased=shares_purchased.round()"
   ]
  },
  {
   "cell_type": "code",
   "execution_count": null,
   "id": "b78ed2a0",
   "metadata": {
    "executionInfo": {
     "elapsed": 16,
     "status": "aborted",
     "timestamp": 1701586212088,
     "user": {
      "displayName": "강병표",
      "userId": "10016608623122375854"
     },
     "user_tz": -540
    },
    "id": "0Cv6wXNL_WuP"
   },
   "outputs": [],
   "source": [
    "np.cumsum(shares_purchased*kospi_fut['종가'])[-1]"
   ]
  },
  {
   "cell_type": "code",
   "execution_count": null,
   "id": "b53b0c00",
   "metadata": {
    "executionInfo": {
     "elapsed": 16,
     "status": "aborted",
     "timestamp": 1701586212088,
     "user": {
      "displayName": "강병표",
      "userId": "10016608623122375854"
     },
     "user_tz": -540
    },
    "id": "9781yBBb_WuP",
    "lines_to_next_cell": 2
   },
   "outputs": [],
   "source": [
    "Delta_diff=Delta[:-1]-Delta[1:]"
   ]
  },
  {
   "cell_type": "code",
   "execution_count": null,
   "id": "19ee1490",
   "metadata": {
    "executionInfo": {
     "elapsed": 16,
     "status": "aborted",
     "timestamp": 1701586212088,
     "user": {
      "displayName": "강병표",
      "userId": "10016608623122375854"
     },
     "user_tz": -540
    },
    "id": "ne9cTx1C_WuQ"
   },
   "outputs": [],
   "source": [
    "Delta_diff"
   ]
  },
  {
   "cell_type": "code",
   "execution_count": null,
   "id": "1229013a",
   "metadata": {
    "executionInfo": {
     "elapsed": 16,
     "status": "aborted",
     "timestamp": 1701586212088,
     "user": {
      "displayName": "강병표",
      "userId": "10016608623122375854"
     },
     "user_tz": -540
    },
    "id": "-dCLEkyb_WuQ"
   },
   "outputs": [],
   "source": [
    "Delta_change=np.repeat(Delta[0],len(Delta_diff)+1)\n",
    "Delta_change[1:]=Delta_diff"
   ]
  },
  {
   "cell_type": "code",
   "execution_count": null,
   "id": "b2c7aa78",
   "metadata": {
    "executionInfo": {
     "elapsed": 16,
     "status": "aborted",
     "timestamp": 1701586212088,
     "user": {
      "displayName": "강병표",
      "userId": "10016608623122375854"
     },
     "user_tz": -540
    },
    "id": "wKKOoS4T_WuQ"
   },
   "outputs": [],
   "source": [
    "shares_purchased=Delta_change*1000000\n",
    "shares_purchased=shares_purchased.round()"
   ]
  },
  {
   "cell_type": "code",
   "execution_count": null,
   "id": "02eb7b50",
   "metadata": {
    "executionInfo": {
     "elapsed": 16,
     "status": "aborted",
     "timestamp": 1701586212088,
     "user": {
      "displayName": "강병표",
      "userId": "10016608623122375854"
     },
     "user_tz": -540
    },
    "id": "iPKXq7Un_WuQ"
   },
   "outputs": [],
   "source": [
    "shares_purchased"
   ]
  },
  {
   "cell_type": "code",
   "execution_count": null,
   "id": "de2a7198",
   "metadata": {
    "executionInfo": {
     "elapsed": 17,
     "status": "aborted",
     "timestamp": 1701586212089,
     "user": {
      "displayName": "강병표",
      "userId": "10016608623122375854"
     },
     "user_tz": -540
    },
    "id": "FcoNwWZQ_WuQ"
   },
   "outputs": [],
   "source": [
    "np.cumsum(shares_purchased*kospi_fut['종가'])[-1]"
   ]
  },
  {
   "cell_type": "code",
   "execution_count": null,
   "id": "0e616962",
   "metadata": {
    "executionInfo": {
     "elapsed": 17,
     "status": "aborted",
     "timestamp": 1701586212089,
     "user": {
      "displayName": "강병표",
      "userId": "10016608623122375854"
     },
     "user_tz": -540
    },
    "id": "e1EHo_dj_WuQ"
   },
   "outputs": [],
   "source": [
    "1.39*1000000"
   ]
  },
  {
   "cell_type": "code",
   "execution_count": null,
   "id": "7c174151",
   "metadata": {
    "executionInfo": {
     "elapsed": 17,
     "status": "aborted",
     "timestamp": 1701586212089,
     "user": {
      "displayName": "강병표",
      "userId": "10016608623122375854"
     },
     "user_tz": -540
    },
    "id": "D4zulf1-_WuQ"
   },
   "outputs": [],
   "source": [
    "kospi_fut"
   ]
  },
  {
   "cell_type": "code",
   "execution_count": null,
   "id": "1da33538",
   "metadata": {
    "executionInfo": {
     "elapsed": 17,
     "status": "aborted",
     "timestamp": 1701586212089,
     "user": {
      "displayName": "강병표",
      "userId": "10016608623122375854"
     },
     "user_tz": -540
    },
    "id": "SPLwfSM7_WuQ"
   },
   "outputs": [],
   "source": [
    "T"
   ]
  },
  {
   "cell_type": "code",
   "execution_count": null,
   "id": "54b806b0",
   "metadata": {
    "executionInfo": {
     "elapsed": 18,
     "status": "aborted",
     "timestamp": 1701586212090,
     "user": {
      "displayName": "강병표",
      "userId": "10016608623122375854"
     },
     "user_tz": -540
    },
    "id": "blq1AUeb_WuR"
   },
   "outputs": [],
   "source": [
    "kospi_fut['종가']"
   ]
  },
  {
   "cell_type": "code",
   "execution_count": null,
   "id": "0073939c",
   "metadata": {
    "executionInfo": {
     "elapsed": 18,
     "status": "aborted",
     "timestamp": 1701586212090,
     "user": {
      "displayName": "강병표",
      "userId": "10016608623122375854"
     },
     "user_tz": -540
    },
    "id": "rzPn3RLy_WuR"
   },
   "outputs": [],
   "source": [
    "Delta_diff.round(3)"
   ]
  },
  {
   "cell_type": "code",
   "execution_count": null,
   "id": "7b0db7f6",
   "metadata": {
    "executionInfo": {
     "elapsed": 18,
     "status": "aborted",
     "timestamp": 1701586212090,
     "user": {
      "displayName": "강병표",
      "userId": "10016608623122375854"
     },
     "user_tz": -540
    },
    "id": "R4loxsqd_WuR",
    "lines_to_next_cell": 2
   },
   "outputs": [],
   "source": [
    "len(Delta_diff)"
   ]
  },
  {
   "cell_type": "code",
   "execution_count": null,
   "id": "f7bebfe7",
   "metadata": {
    "executionInfo": {
     "elapsed": 18,
     "status": "aborted",
     "timestamp": 1701586212090,
     "user": {
      "displayName": "강병표",
      "userId": "10016608623122375854"
     },
     "user_tz": -540
    },
    "id": "UM5cJvpG_WuR"
   },
   "outputs": [],
   "source": [
    "fdr.DataReader('069500','2022-01-01')"
   ]
  },
  {
   "cell_type": "code",
   "execution_count": null,
   "id": "96eea19b",
   "metadata": {
    "executionInfo": {
     "elapsed": 18,
     "status": "aborted",
     "timestamp": 1701586212090,
     "user": {
      "displayName": "강병표",
      "userId": "10016608623122375854"
     },
     "user_tz": -540
    },
    "id": "TDtGbXYf_WuS"
   },
   "outputs": [],
   "source": []
  },
  {
   "cell_type": "code",
   "execution_count": null,
   "id": "9738a508",
   "metadata": {
    "executionInfo": {
     "elapsed": 18,
     "status": "aborted",
     "timestamp": 1701586212090,
     "user": {
      "displayName": "강병표",
      "userId": "10016608623122375854"
     },
     "user_tz": -540
    },
    "id": "V16WUNSD_WuS"
   },
   "outputs": [],
   "source": [
    "8+5+8+8"
   ]
  },
  {
   "cell_type": "code",
   "execution_count": null,
   "id": "a6d38964",
   "metadata": {
    "executionInfo": {
     "elapsed": 18,
     "status": "aborted",
     "timestamp": 1701586212090,
     "user": {
      "displayName": "강병표",
      "userId": "10016608623122375854"
     },
     "user_tz": -540
    },
    "id": "sT5D1drD_WuS",
    "lines_to_next_cell": 2
   },
   "outputs": [],
   "source": [
    "9+7+10+10"
   ]
  },
  {
   "cell_type": "code",
   "execution_count": null,
   "id": "36f0fdf5",
   "metadata": {
    "executionInfo": {
     "elapsed": 19,
     "status": "aborted",
     "timestamp": 1701586212091,
     "user": {
      "displayName": "강병표",
      "userId": "10016608623122375854"
     },
     "user_tz": -540
    },
    "id": "w51B9nty_WuS"
   },
   "outputs": [],
   "source": [
    "--------절취선----------   # 위에까지가 Futures"
   ]
  },
  {
   "cell_type": "code",
   "execution_count": null,
   "id": "b84a94ea",
   "metadata": {
    "executionInfo": {
     "elapsed": 19,
     "status": "aborted",
     "timestamp": 1701586212091,
     "user": {
      "displayName": "강병표",
      "userId": "10016608623122375854"
     },
     "user_tz": -540
    },
    "id": "YQ8TpZll_WuS"
   },
   "outputs": [],
   "source": []
  },
  {
   "cell_type": "code",
   "execution_count": null,
   "id": "f5dfd9a9",
   "metadata": {
    "executionInfo": {
     "elapsed": 19,
     "status": "aborted",
     "timestamp": 1701586212092,
     "user": {
      "displayName": "강병표",
      "userId": "10016608623122375854"
     },
     "user_tz": -540
    },
    "id": "YNw6_flx_WuS"
   },
   "outputs": [],
   "source": [
    "s0=50\n",
    "K=55\n",
    "mu=0.13\n",
    "r=0.04\n",
    "sigma=0.4\n",
    "q=0\n",
    "PutCall='C'\n",
    "T=20/52"
   ]
  },
  {
   "cell_type": "code",
   "execution_count": null,
   "id": "b243d094",
   "metadata": {
    "executionInfo": {
     "elapsed": 19,
     "status": "aborted",
     "timestamp": 1701586212092,
     "user": {
      "displayName": "강병표",
      "userId": "10016608623122375854"
     },
     "user_tz": -540
    },
    "id": "hPsq6WXq_WuS"
   },
   "outputs": [],
   "source": [
    "\n",
    "M=1\n",
    "M_s=20/M\n",
    "M_s=np.int(M_s)\n",
    "dt=M/52\n",
    "tt=np.repeat(T,M_s)\n",
    "for i in range(M_s-1):\n",
    "    tt[i+1]=tt[i]-dt\n",
    "tt=np.append(tt,0)\n",
    "\n",
    "\n",
    "\n",
    "# Generating random\n",
    "generating_number=int(round(T*(1/dt)))+1\n",
    "\n",
    "# generating stock path\n",
    "z=np.random.randn(simulation_number,generating_number)\n",
    "stock_path_bm=np.exp((mu-0.5*sigma**2)*dt+sigma*np.sqrt(dt)*z)\n",
    "stock_path_bm[:,0]=1\n",
    "stock_price=stock_path_bm.cumprod(1)*s0\n",
    "\n",
    "# Calculating Delta\n",
    "Delta=BSprice(PutCall,stock_price, tt, K, r, q, sigma)[1]\n",
    "Delta_diff=Delta[:,1:]-Delta[:,:-1]\n",
    "Delta_diff.shape\n",
    "\n",
    "initial_array=np.repeat(Delta[0][0],Delta_diff.shape[0]).reshape(Delta_diff.shape[0],1)\n",
    "Delta_change=np.concatenate([initial_array,Delta_diff],axis=1)\n",
    "\n",
    "# Delta 변화에따른 stock trade\n",
    "shares_purchased=Delta_change*100000\n",
    "shares_purchased=shares_purchased.round()  #정수만 purchase\n",
    "\n",
    "\n",
    "\n",
    "cost_purchased=shares_purchased*stock_price\n",
    "trans_cost=np.where(cost_purchased<0,cost_purchased*0.001,0) #transaction Cost # 매도시에만 10BP\n",
    "#trans_cost=cost_purchased*0.00015\n",
    "trans_cost=abs(trans_cost)\n",
    "transaction=np.cumsum(trans_cost,axis=1)\n",
    "cum_cost=np.cumsum(cost_purchased,axis=1)\n",
    "\n",
    "# Interest Cost 계산\n",
    "for i in range(1,cum_cost.shape[1]):\n",
    "\n",
    "    cum_cost[:,i]=cum_cost[:,i-1]*np.exp(r*M/52)+cost_purchased[:,i]\n",
    "\n",
    "\n",
    "# Final cost 계산\n",
    "Final_cost=cum_cost[:,-1]\n",
    "hedge_cost=np.where(stock_price[:,-1]>K,Final_cost-K*100000,Final_cost)\n",
    "\n",
    "Final_cost_tr=cum_cost[:,-1]+transaction[:,-1]\n",
    "hedge_cost_tr=np.where(stock_price[:,-1]>K,Final_cost_tr-K*100000,Final_cost_tr)\n",
    "\n",
    "ATM_C=np.where(stock_price[:,-1]==K,hedge_cost,0)    #ATM 으로 끝났을때\n",
    "ITM_C=np.where(stock_price[:,-1]>K,hedge_cost,0)    #ITM 으로 끝났을때\n",
    "OTM_C=np.where(stock_price[:,-1]<K,hedge_cost,0)    #OTM 으로 끝났을때\n",
    "\n",
    "ATM_Case=ATM_C[ATM_C!=0]\n",
    "ITM_Case=ITM_C[ITM_C!=0]\n",
    "OTM_Case=OTM_C[OTM_C!=0]\n",
    "\n",
    "\n",
    "hedging_PNL=(405567.6897503858-hedge_cost)\n",
    "\n",
    "Mean=np.mean(hedge_cost)    # transcation cost 포함하지 않은 hedging cost\n",
    "Performance_MSR=np.std(hedge_cost)/240000\n",
    "\n",
    "\n",
    "Mean_tr=np.mean(hedge_cost_tr)   #transaction cost 포함함 hedging cost\n",
    "Performance_MSR_tr=np.std(hedge_cost_tr)/240000\n",
    "Mean_hedging_PNL=np.mean(hedging_PNL)\n",
    "\n",
    "\n",
    "Mean,Performance_MSR,Mean_tr,Performance_MSR_tr,np.mean(ITM_Case),np.mean(OTM_Case),np.mean(ATM_Case)\n",
    "\n",
    "\n",
    "\n"
   ]
  },
  {
   "cell_type": "code",
   "execution_count": null,
   "id": "c08b9a2f",
   "metadata": {
    "executionInfo": {
     "elapsed": 19,
     "status": "aborted",
     "timestamp": 1701586212092,
     "user": {
      "displayName": "강병표",
      "userId": "10016608623122375854"
     },
     "user_tz": -540
    },
    "id": "NCv0iM9z_WuT"
   },
   "outputs": [],
   "source": []
  },
  {
   "cell_type": "code",
   "execution_count": null,
   "id": "684fd9e3",
   "metadata": {
    "executionInfo": {
     "elapsed": 19,
     "status": "aborted",
     "timestamp": 1701586212092,
     "user": {
      "displayName": "강병표",
      "userId": "10016608623122375854"
     },
     "user_tz": -540
    },
    "id": "IQuqZNuA_WuT"
   },
   "outputs": [],
   "source": []
  },
  {
   "cell_type": "code",
   "execution_count": null,
   "id": "c9bfd974",
   "metadata": {
    "executionInfo": {
     "elapsed": 19,
     "status": "aborted",
     "timestamp": 1701586212092,
     "user": {
      "displayName": "강병표",
      "userId": "10016608623122375854"
     },
     "user_tz": -540
    },
    "id": "zRjNRHnh_WuT"
   },
   "outputs": [],
   "source": []
  },
  {
   "cell_type": "code",
   "execution_count": null,
   "id": "2dfa8d75",
   "metadata": {
    "executionInfo": {
     "elapsed": 19,
     "status": "aborted",
     "timestamp": 1701586212092,
     "user": {
      "displayName": "강병표",
      "userId": "10016608623122375854"
     },
     "user_tz": -540
    },
    "id": "MWxb4nIu_WuT"
   },
   "outputs": [],
   "source": []
  },
  {
   "cell_type": "code",
   "execution_count": null,
   "id": "d015e8ef",
   "metadata": {
    "executionInfo": {
     "elapsed": 19,
     "status": "aborted",
     "timestamp": 1701586212092,
     "user": {
      "displayName": "강병표",
      "userId": "10016608623122375854"
     },
     "user_tz": -540
    },
    "id": "Mk3ecPVM_WuT"
   },
   "outputs": [],
   "source": [
    "345*1.05"
   ]
  },
  {
   "cell_type": "code",
   "execution_count": null,
   "id": "bff38054",
   "metadata": {
    "executionInfo": {
     "elapsed": 19,
     "status": "aborted",
     "timestamp": 1701586212092,
     "user": {
      "displayName": "강병표",
      "userId": "10016608623122375854"
     },
     "user_tz": -540
    },
    "id": "3trm5w1R_WuT"
   },
   "outputs": [],
   "source": [
    "yf.download('005930.KS',start='2022-05-13')"
   ]
  },
  {
   "cell_type": "code",
   "execution_count": null,
   "id": "dcc3e140",
   "metadata": {
    "executionInfo": {
     "elapsed": 19,
     "status": "aborted",
     "timestamp": 1701586212092,
     "user": {
      "displayName": "강병표",
      "userId": "10016608623122375854"
     },
     "user_tz": -540
    },
    "id": "5dop3kNk_WuT"
   },
   "outputs": [],
   "source": []
  },
  {
   "cell_type": "code",
   "execution_count": null,
   "id": "ffc32439",
   "metadata": {
    "executionInfo": {
     "elapsed": 20,
     "status": "aborted",
     "timestamp": 1701586212093,
     "user": {
      "displayName": "강병표",
      "userId": "10016608623122375854"
     },
     "user_tz": -540
    },
    "id": "oukxZ5DU_WuT"
   },
   "outputs": [],
   "source": []
  },
  {
   "cell_type": "code",
   "execution_count": null,
   "id": "2be95d9d",
   "metadata": {
    "executionInfo": {
     "elapsed": 20,
     "status": "aborted",
     "timestamp": 1701586212093,
     "user": {
      "displayName": "강병표",
      "userId": "10016608623122375854"
     },
     "user_tz": -540
    },
    "id": "_NkXn8Ux_WuT"
   },
   "outputs": [],
   "source": []
  },
  {
   "cell_type": "code",
   "execution_count": null,
   "id": "a9308ee9",
   "metadata": {
    "executionInfo": {
     "elapsed": 20,
     "status": "aborted",
     "timestamp": 1701586212093,
     "user": {
      "displayName": "강병표",
      "userId": "10016608623122375854"
     },
     "user_tz": -540
    },
    "id": "i1XwkLcc_WuT"
   },
   "outputs": [],
   "source": []
  },
  {
   "cell_type": "code",
   "execution_count": null,
   "id": "de3f81b3",
   "metadata": {
    "executionInfo": {
     "elapsed": 20,
     "status": "aborted",
     "timestamp": 1701586212093,
     "user": {
      "displayName": "강병표",
      "userId": "10016608623122375854"
     },
     "user_tz": -540
    },
    "id": "3OhLHrXf_WuT"
   },
   "outputs": [],
   "source": []
  },
  {
   "cell_type": "code",
   "execution_count": null,
   "id": "a3db0b4c",
   "metadata": {
    "executionInfo": {
     "elapsed": 20,
     "status": "aborted",
     "timestamp": 1701586212093,
     "user": {
      "displayName": "강병표",
      "userId": "10016608623122375854"
     },
     "user_tz": -540
    },
    "id": "iKBLKVYf_WuU"
   },
   "outputs": [],
   "source": []
  },
  {
   "cell_type": "code",
   "execution_count": null,
   "id": "32157487",
   "metadata": {
    "executionInfo": {
     "elapsed": 20,
     "status": "aborted",
     "timestamp": 1701586212093,
     "user": {
      "displayName": "강병표",
      "userId": "10016608623122375854"
     },
     "user_tz": -540
    },
    "id": "a12NfrKx_WuU"
   },
   "outputs": [],
   "source": []
  },
  {
   "cell_type": "code",
   "execution_count": null,
   "id": "787502dc",
   "metadata": {
    "executionInfo": {
     "elapsed": 20,
     "status": "aborted",
     "timestamp": 1701586212093,
     "user": {
      "displayName": "강병표",
      "userId": "10016608623122375854"
     },
     "user_tz": -540
    },
    "id": "ssYEG-TJ_WuU"
   },
   "outputs": [],
   "source": []
  },
  {
   "cell_type": "code",
   "execution_count": null,
   "id": "e3ae34c0",
   "metadata": {
    "executionInfo": {
     "elapsed": 20,
     "status": "aborted",
     "timestamp": 1701586212093,
     "user": {
      "displayName": "강병표",
      "userId": "10016608623122375854"
     },
     "user_tz": -540
    },
    "id": "K39j-7Ds_WuU"
   },
   "outputs": [],
   "source": []
  },
  {
   "cell_type": "code",
   "execution_count": null,
   "id": "f3e81f1d",
   "metadata": {
    "executionInfo": {
     "elapsed": 20,
     "status": "aborted",
     "timestamp": 1701586212093,
     "user": {
      "displayName": "강병표",
      "userId": "10016608623122375854"
     },
     "user_tz": -540
    },
    "id": "MIqKYus9_WuU"
   },
   "outputs": [],
   "source": []
  },
  {
   "cell_type": "code",
   "execution_count": null,
   "id": "ee3e0a80",
   "metadata": {
    "executionInfo": {
     "elapsed": 20,
     "status": "aborted",
     "timestamp": 1701586212093,
     "user": {
      "displayName": "강병표",
      "userId": "10016608623122375854"
     },
     "user_tz": -540
    },
    "id": "N_8aJZCv_WuU"
   },
   "outputs": [],
   "source": []
  },
  {
   "cell_type": "code",
   "execution_count": null,
   "id": "bdea343f",
   "metadata": {
    "executionInfo": {
     "elapsed": 20,
     "status": "aborted",
     "timestamp": 1701586212093,
     "user": {
      "displayName": "강병표",
      "userId": "10016608623122375854"
     },
     "user_tz": -540
    },
    "id": "YVyUe_q-_WuU"
   },
   "outputs": [],
   "source": []
  },
  {
   "cell_type": "code",
   "execution_count": null,
   "id": "808ae989",
   "metadata": {
    "executionInfo": {
     "elapsed": 20,
     "status": "aborted",
     "timestamp": 1701586212093,
     "user": {
      "displayName": "강병표",
      "userId": "10016608623122375854"
     },
     "user_tz": -540
    },
    "id": "93oVI2a7_WuU"
   },
   "outputs": [],
   "source": [
    "-------- 2차 절취선-----------\n",
    "\n"
   ]
  },
  {
   "cell_type": "code",
   "execution_count": null,
   "id": "93fea382",
   "metadata": {
    "executionInfo": {
     "elapsed": 21,
     "status": "aborted",
     "timestamp": 1701586212094,
     "user": {
      "displayName": "강병표",
      "userId": "10016608623122375854"
     },
     "user_tz": -540
    },
    "id": "OFbRt6AV_WuV"
   },
   "outputs": [],
   "source": [
    "def hedging_Call(s0,M,mu,K,r,sigma,T,q,PutCall,simulation_number):\n",
    "    M_s=20/M\n",
    "    M_s=np.int(M_s)\n",
    "    dt=M/52\n",
    "    tt=np.repeat(T,M_s)\n",
    "    for i in range(M_s-1):\n",
    "        tt[i+1]=tt[i]-dt\n",
    "    tt=np.append(tt,0)\n",
    "\n",
    "\n",
    "\n",
    "    # Generating random\n",
    "    generating_number=int(round(T*(1/dt)))+1\n",
    "\n",
    "    # generating stock path\n",
    "    z=np.random.randn(simulation_number,generating_number)\n",
    "    stock_path_bm=np.exp((mu-0.5*sigma**2)*dt+sigma*np.sqrt(dt)*z)\n",
    "    stock_path_bm[:,0]=1\n",
    "    stock_price=stock_path_bm.cumprod(1)*s0\n",
    "\n",
    "    # Calculating Delta\n",
    "    Delta=BSprice(PutCall,stock_price, tt, K, r, q, sigma)[1]\n",
    "    Delta_diff=Delta[:,1:]-Delta[:,:-1]\n",
    "    Delta_diff.shape\n",
    "\n",
    "    initial_array=np.repeat(Delta[0][0],Delta_diff.shape[0]).reshape(Delta_diff.shape[0],1)\n",
    "    Delta_change=np.concatenate([initial_array,Delta_diff],axis=1)\n",
    "\n",
    "    # Delta 변화에따른 stock trade\n",
    "    shares_purchased=Delta_change*100000\n",
    "    shares_purchased=shares_purchased.round()  #정수만 purchase\n",
    "\n",
    "\n",
    "\n",
    "    cost_purchased=shares_purchased*stock_price\n",
    "    #trans_cost=np.where(cost_purchased<0,cost_purchased*0.0002,0) #transaction Cost\n",
    "    trans_cost=cost_purchased*0.00015\n",
    "    trans_cost=abs(trans_cost)\n",
    "    transaction=np.cumsum(trans_cost,axis=1)\n",
    "    cum_cost=np.cumsum(cost_purchased,axis=1)\n",
    "\n",
    "    # Interest Cost 계산\n",
    "    for i in range(1,cum_cost.shape[1]):\n",
    "\n",
    "        cum_cost[:,i]=cum_cost[:,i-1]*np.exp(r*M/52)+cost_purchased[:,i]\n",
    "\n",
    "\n",
    "    # Final cost 계산\n",
    "    Final_cost=cum_cost[:,-1]\n",
    "    hedge_cost=np.where(stock_price[:,-1]>50,Final_cost-5000000,Final_cost)\n",
    "\n",
    "    Final_cost_tr=cum_cost[:,-1]+transaction[:,-1]\n",
    "    hedge_cost_tr=np.where(stock_price[:,-1]>50,Final_cost_tr-5000000,Final_cost_tr)\n",
    "\n",
    "    Mean=np.mean(hedge_cost)\n",
    "    Performance_MSR=np.std(hedge_cost)/240000\n",
    "\n",
    "\n",
    "    Mean_tr=np.mean(hedge_cost_tr)\n",
    "    Performance_MSR_tr=np.std(hedge_cost_tr)/240000\n",
    "\n",
    "    return(Mean,Performance_MSR,Mean_tr,Performance_MSR_tr)\n",
    "\n",
    "\n",
    "M=[5,4,2,1,0.5,0.25]\n",
    "simulation_number=1000\n",
    "s0=49\n",
    "K=50\n",
    "mu=0.13\n",
    "r=0.05\n",
    "sigma=0.2\n",
    "q=0\n",
    "PutCall='C'\n",
    "T=20/52\n",
    "for i in M:\n",
    "\n",
    "    Mean,MSR,Mean_tr,MSR_tr=hedging_Call(s0,i,mu,K,r,sigma,T,q,PutCall,simulation_number)\n",
    "\n",
    "    if i==5:\n",
    "        m5=Mean\n",
    "        m5_tr=Mean_tr\n",
    "        std5=MSR\n",
    "        std5_tr=MSR_tr\n",
    "\n",
    "\n",
    "    if i==4:\n",
    "        m4=Mean\n",
    "        m4_tr=Mean_tr\n",
    "        std4=MSR\n",
    "        std4_tr=MSR_tr\n",
    "\n",
    "    if i==2:\n",
    "        m2=Mean\n",
    "        m2_tr=Mean_tr\n",
    "        std2=MSR\n",
    "        std2_tr=MSR_tr\n",
    "\n",
    "\n",
    "    if i==1:\n",
    "        m1=Mean\n",
    "        m1_tr=Mean_tr\n",
    "        std1=MSR\n",
    "        std1_tr=MSR_tr\n",
    "\n",
    "    if i==0.5:\n",
    "        m05=Mean\n",
    "        m05_tr=Mean_tr\n",
    "        std05=MSR\n",
    "        std05_tr=MSR_tr\n",
    "\n",
    "    if i==0.25:\n",
    "\n",
    "        m025=Mean\n",
    "        m025_tr=Mean_tr\n",
    "        std025=MSR\n",
    "        std025_tr=MSR_tr\n",
    "\n",
    "\n",
    "### without transaction cost"
   ]
  },
  {
   "cell_type": "code",
   "execution_count": null,
   "id": "2012edb9",
   "metadata": {
    "executionInfo": {
     "elapsed": 21,
     "status": "aborted",
     "timestamp": 1701586212094,
     "user": {
      "displayName": "강병표",
      "userId": "10016608623122375854"
     },
     "user_tz": -540
    },
    "id": "Va_vffGY_WuV"
   },
   "outputs": [],
   "source": [
    "df=pd.DataFrame([[m5_tr/100000,m4_tr/100000,m2_tr/100000,m1_tr/100000,m05_tr/100000,m025_tr/100000],[std5_tr,std4_tr,std2_tr,std1_tr,std05_tr,std025_tr]],columns=[5,4,2,1,0.5,0.25])\n",
    "df.index=['Mean',\"Performance MSR\"]\n",
    "df.columns.names=['Rebalance']\n",
    "df"
   ]
  },
  {
   "cell_type": "code",
   "execution_count": null,
   "id": "6cd263c3",
   "metadata": {
    "executionInfo": {
     "elapsed": 22,
     "status": "aborted",
     "timestamp": 1701586212095,
     "user": {
      "displayName": "강병표",
      "userId": "10016608623122375854"
     },
     "user_tz": -540
    },
    "id": "_hvM70Hh_WuV"
   },
   "outputs": [],
   "source": [
    "ITM_C=np.where(stock_price[:,-1]>K,hedge_cost,0)\n",
    "OTM_C=np.where(stock_price[:,-1]<K,hedge_cost,0)\n",
    "ITM_Case=ITM_C[ITM_C!=0]\n",
    "OTM_Case=OTM_C[OTM_C!=0]\n",
    "np.mean(ITM_Case),np.mean(OTM_Case)\n",
    "\n"
   ]
  },
  {
   "cell_type": "code",
   "execution_count": null,
   "id": "f9b16f5a",
   "metadata": {
    "executionInfo": {
     "elapsed": 3242,
     "status": "aborted",
     "timestamp": 1701586212095,
     "user": {
      "displayName": "강병표",
      "userId": "10016608623122375854"
     },
     "user_tz": -540
    },
    "id": "7X9aPdoT_WuV",
    "lines_to_next_cell": 2
   },
   "outputs": [],
   "source": [
    "ITM_Case[ITM_Case!=0]"
   ]
  },
  {
   "cell_type": "code",
   "execution_count": null,
   "id": "f9ff78a3",
   "metadata": {
    "executionInfo": {
     "elapsed": 3242,
     "status": "aborted",
     "timestamp": 1701586212095,
     "user": {
      "displayName": "강병표",
      "userId": "10016608623122375854"
     },
     "user_tz": -540
    },
    "id": "qxcegA5z_WuV"
   },
   "outputs": [],
   "source": []
  },
  {
   "cell_type": "code",
   "execution_count": null,
   "id": "d5095b2c",
   "metadata": {
    "executionInfo": {
     "elapsed": 3242,
     "status": "aborted",
     "timestamp": 1701586212095,
     "user": {
      "displayName": "강병표",
      "userId": "10016608623122375854"
     },
     "user_tz": -540
    },
    "id": "3ynx2w_h_WuW"
   },
   "outputs": [],
   "source": [
    "df_1=pd.DataFrame([stock_price[-1,:],Delta[-1,:],shares_purchased[-1,:],cost_purchased[-1,:],cum_cost[-1,:]],index=['stock','delta','#purch','$purch','cum']).T\n",
    "df_1.round(3)"
   ]
  },
  {
   "cell_type": "code",
   "execution_count": null,
   "id": "bf38d9b6",
   "metadata": {
    "executionInfo": {
     "elapsed": 3242,
     "status": "aborted",
     "timestamp": 1701586212095,
     "user": {
      "displayName": "강병표",
      "userId": "10016608623122375854"
     },
     "user_tz": -540
    },
    "id": "4isUIwPE_WuW"
   },
   "outputs": [],
   "source": [
    "# Generating random\n",
    "generating_number=int(round(T*(1/dt)))+1\n",
    "\n",
    "# generating stock path\n",
    "z=np.random.randn(simulation_number,generating_number)\n",
    "stock_path_bm=np.exp((mu-0.5*sigma**2)*dt+sigma*np.sqrt(dt)*z)\n",
    "stock_path_bm[:,0]=1\n",
    "stock_price=stock_path_bm.cumprod(1)*s0"
   ]
  },
  {
   "cell_type": "code",
   "execution_count": null,
   "id": "9761c2e9",
   "metadata": {
    "executionInfo": {
     "elapsed": 3242,
     "status": "aborted",
     "timestamp": 1701586212095,
     "user": {
      "displayName": "강병표",
      "userId": "10016608623122375854"
     },
     "user_tz": -540
    },
    "id": "XZloLA49_WuW"
   },
   "outputs": [],
   "source": [
    "stock_price[0]"
   ]
  },
  {
   "cell_type": "code",
   "execution_count": null,
   "id": "c862555a",
   "metadata": {
    "executionInfo": {
     "elapsed": 3242,
     "status": "aborted",
     "timestamp": 1701586212095,
     "user": {
      "displayName": "강병표",
      "userId": "10016608623122375854"
     },
     "user_tz": -540
    },
    "id": "YZLkheqA_WuX"
   },
   "outputs": [],
   "source": [
    "PutCall=\"C\"\n",
    "x=50\n",
    "T=20/52\n",
    "K=55\n",
    "r=0.04\n",
    "q=0\n",
    "sigma=0.46"
   ]
  },
  {
   "cell_type": "code",
   "execution_count": null,
   "id": "0b23e1e6",
   "metadata": {
    "executionInfo": {
     "elapsed": 3241,
     "status": "aborted",
     "timestamp": 1701586212095,
     "user": {
      "displayName": "강병표",
      "userId": "10016608623122375854"
     },
     "user_tz": -540
    },
    "id": "WSc8gwfN_WuX"
   },
   "outputs": [],
   "source": [
    "BSprice(PutCall, x, T, K, r, q, sigma)[0]*100000"
   ]
  },
  {
   "cell_type": "code",
   "execution_count": null,
   "id": "ebcc121d",
   "metadata": {
    "executionInfo": {
     "elapsed": 3242,
     "status": "aborted",
     "timestamp": 1701586212096,
     "user": {
      "displayName": "강병표",
      "userId": "10016608623122375854"
     },
     "user_tz": -540
    },
    "id": "-SnyvKXQ_WuX"
   },
   "outputs": [],
   "source": [
    "d1 =(1/(sigma*np.sqrt(T)))*(np.log(x/K) + (r - q + 0.5*sigma**2)*T)\n",
    "d2 = (1/(sigma*np.sqrt(T)))*(np.log(x/K) + (r - q - 0.5*sigma**2)*T)\n",
    "Nd1 = norm.cdf(d1)\n",
    "Nd2 = norm.cdf(d2)\n",
    "Nd1m = norm.cdf(-d1)\n",
    "Nd2m = norm.cdf(-d2)\n",
    "\n"
   ]
  },
  {
   "cell_type": "markdown",
   "id": "a09f4076",
   "metadata": {
    "id": "_dY1SNa9_WuY"
   },
   "source": [
    "# 유의성 검정"
   ]
  },
  {
   "cell_type": "code",
   "execution_count": null,
   "id": "1c05f87e",
   "metadata": {
    "executionInfo": {
     "elapsed": 3242,
     "status": "aborted",
     "timestamp": 1701586212096,
     "user": {
      "displayName": "강병표",
      "userId": "10016608623122375854"
     },
     "user_tz": -540
    },
    "id": "CckIjL0B_WuY"
   },
   "outputs": [],
   "source": [
    "M=[5,4,2,1,0.5,0.25]\n",
    "simulation_number=1000\n",
    "s0=49\n",
    "K=50\n",
    "mu=0.13\n",
    "r=0.05\n",
    "sigma=0.2\n",
    "q=0\n",
    "PutCall='C'\n",
    "T=20/52\n",
    "Mean_5=[]\n",
    "std_5=[]\n",
    "Mean_4=[]\n",
    "std_4=[]\n",
    "Mean_2=[]\n",
    "std_2=[]\n",
    "Mean_1=[]\n",
    "std_1=[]\n",
    "Mean_05=[]\n",
    "std_05=[]\n",
    "Mean_025=[]\n",
    "std_025=[]\n",
    "\n",
    "Mean_tr_5=[]\n",
    "std_tr_5=[]\n",
    "Mean_tr_4=[]\n",
    "std_tr_4=[]\n",
    "Mean_tr_2=[]\n",
    "std_tr_2=[]\n",
    "Mean_tr_1=[]\n",
    "std_tr_1=[]\n",
    "Mean_tr_05=[]\n",
    "std_tr_05=[]\n",
    "Mean_tr_025=[]\n",
    "std_tr_025=[]\n",
    "\n",
    "for j in tqdm(range(1000)):\n",
    "    for i in M:\n",
    "\n",
    "        Mean,MSR,Mean_tr,MSR_tr=hedging_Call(s0,i,mu,K,r,sigma,T,q,PutCall,simulation_number)\n",
    "\n",
    "        if i==5:\n",
    "            Mean_5.append(Mean)\n",
    "            std_5.append(MSR)\n",
    "            Mean_tr_5.append(Mean_tr)\n",
    "            std_tr_5.append(MSR_tr)\n",
    "\n",
    "        if i==4:\n",
    "\n",
    "            Mean_4.append(Mean)\n",
    "            std_4.append(MSR)\n",
    "            Mean_tr_4.append(Mean_tr)\n",
    "            std_tr_4.append(MSR_tr)\n",
    "\n",
    "        if i==2:\n",
    "\n",
    "            Mean_2.append(Mean)\n",
    "            std_2.append(MSR)\n",
    "            Mean_tr_2.append(Mean_tr)\n",
    "            std_tr_2.append(MSR_tr)\n",
    "\n",
    "        if i==1:\n",
    "\n",
    "            Mean_1.append(Mean)\n",
    "            std_1.append(MSR)\n",
    "            Mean_tr_1.append(Mean_tr)\n",
    "            std_tr_1.append(MSR_tr)\n",
    "\n",
    "        if i==0.5:\n",
    "\n",
    "            Mean_05.append(Mean)\n",
    "            std_05.append(MSR)\n",
    "            Mean_tr_05.append(Mean_tr)\n",
    "            std_tr_05.append(MSR_tr)\n",
    "\n",
    "        if i==0.25:\n",
    "\n",
    "            Mean_025.append(Mean)\n",
    "            std_025.append(MSR)\n",
    "            Mean_tr_025.append(Mean_tr)\n",
    "            std_tr_025.append(MSR_tr)\n",
    "\n"
   ]
  },
  {
   "cell_type": "code",
   "execution_count": null,
   "id": "cd0b92e1",
   "metadata": {
    "executionInfo": {
     "elapsed": 3242,
     "status": "aborted",
     "timestamp": 1701586212096,
     "user": {
      "displayName": "강병표",
      "userId": "10016608623122375854"
     },
     "user_tz": -540
    },
    "id": "eKrhQ1hm_WuY"
   },
   "outputs": [],
   "source": [
    "s0=49\n",
    "K=50\n",
    "mu=0.13\n",
    "r=0.05\n",
    "sigma=0.2\n",
    "q=0\n",
    "PutCall='C'\n",
    "T=20/52\n",
    "simulation_number=10000"
   ]
  },
  {
   "cell_type": "code",
   "execution_count": null,
   "id": "d205d5b0",
   "metadata": {
    "executionInfo": {
     "elapsed": 3242,
     "status": "aborted",
     "timestamp": 1701586212096,
     "user": {
      "displayName": "강병표",
      "userId": "10016608623122375854"
     },
     "user_tz": -540
    },
    "id": "ax8R00Mp_WuY"
   },
   "outputs": [],
   "source": [
    "\n",
    "M=1\n",
    "M_s=20/M\n",
    "M_s=np.int(M_s)\n",
    "dt=M/52\n",
    "tt=np.repeat(T,M_s)\n",
    "for i in range(M_s-1):\n",
    "    tt[i+1]=tt[i]-dt\n",
    "tt=np.append(tt,0)\n",
    "\n",
    "\n",
    "\n",
    "# Generating random\n",
    "generating_number=int(round(T*(1/dt)))+1\n",
    "\n",
    "# generating stock path\n",
    "z=np.random.randn(simulation_number,generating_number)\n",
    "stock_path_bm=np.exp((mu-0.5*sigma**2)*dt+sigma*np.sqrt(dt)*z)\n",
    "stock_path_bm[:,0]=1\n",
    "stock_price=stock_path_bm.cumprod(1)*s0\n",
    "\n",
    "# Calculating Delta\n",
    "Delta=BSprice(PutCall,stock_price, tt, K, r, q, sigma)[1]\n",
    "Delta_diff=Delta[:,1:]-Delta[:,:-1]\n",
    "Delta_diff.shape\n",
    "\n",
    "initial_array=np.repeat(Delta[0][0],Delta_diff.shape[0]).reshape(Delta_diff.shape[0],1)\n",
    "Delta_change=np.concatenate([initial_array,Delta_diff],axis=1)\n",
    "\n",
    "# Delta 변화에따른 stock trade\n",
    "shares_purchased=Delta_change*100000\n",
    "shares_purchased=shares_purchased.round()  #정수만 purchase\n",
    "\n",
    "\n",
    "\n",
    "cost_purchased=shares_purchased*stock_price\n",
    "trans_cost=np.where(cost_purchased<0,cost_purchased*0.001,0) #transaction Cost # 매도시에만 10BP\n",
    "#trans_cost=cost_purchased*0.00015\n",
    "trans_cost=abs(trans_cost)\n",
    "transaction=np.cumsum(trans_cost,axis=1)\n",
    "cum_cost=np.cumsum(cost_purchased,axis=1)\n",
    "\n",
    "# Interest Cost 계산\n",
    "for i in range(1,cum_cost.shape[1]):\n",
    "\n",
    "    cum_cost[:,i]=cum_cost[:,i-1]*np.exp(r*M/52)+cost_purchased[:,i]\n",
    "\n",
    "\n",
    "# Final cost 계산\n",
    "Final_cost=cum_cost[:,-1]\n",
    "hedge_cost=np.where(stock_price[:,-1]>K,Final_cost-K*100000,Final_cost)\n",
    "\n",
    "Final_cost_tr=cum_cost[:,-1]+transaction[:,-1]\n",
    "hedge_cost_tr=np.where(stock_price[:,-1]>K,Final_cost_tr-K*100000,Final_cost_tr)\n",
    "\n",
    "ATM_C=np.where((stock_price[:,-1]<(K+1))&(stock_price[:,-1]>(K-1)),hedge_cost,0)   #ATM 으로 끝났을때\n",
    "ITM_C=np.where(stock_price[:,-1]>K,hedge_cost,0)    #ITM 으로 끝났을때\n",
    "OTM_C=np.where(stock_price[:,-1]<K,hedge_cost,0)    #OTM 으로 끝났을때\n",
    "\n",
    "ATM_Case=ATM_C[ATM_C!=0]\n",
    "ITM_Case=ITM_C[ITM_C!=0]\n",
    "OTM_Case=OTM_C[OTM_C!=0]\n",
    "\n",
    "\n",
    "hedging_PNL=(c_price*100000-hedge_cost)\n",
    "\n",
    "Mean=np.mean(hedge_cost)    # transcation cost 포함하지 않은 hedging cost\n",
    "Performance_MSR=np.std(hedge_cost)/240000\n",
    "\n",
    "\n",
    "Mean_tr=np.mean(hedge_cost_tr)   #transaction cost 포함함 hedging cost\n",
    "Performance_MSR_tr=np.std(hedge_cost_tr)/240000\n",
    "Mean_hedging_PNL=np.mean(hedging_PNL)\n",
    "Mean,Performance_MSR,Mean_tr,Performance_MSR_tr,np.mean(ITM_Case),np.mean(OTM_Case),np.mean(ATM_Case),Mean_hedging_PNL\n",
    "\n",
    "\n"
   ]
  },
  {
   "cell_type": "code",
   "execution_count": null,
   "id": "0328f6da",
   "metadata": {
    "executionInfo": {
     "elapsed": 3242,
     "status": "aborted",
     "timestamp": 1701586212096,
     "user": {
      "displayName": "강병표",
      "userId": "10016608623122375854"
     },
     "user_tz": -540
    },
    "id": "EU5skAX-_WuY"
   },
   "outputs": [],
   "source": [
    "ATM_Case"
   ]
  }
 ],
 "metadata": {
  "kernelspec": {
   "display_name": "Python 3",
   "language": "python",
   "name": "python3"
  }
 },
 "nbformat": 4,
 "nbformat_minor": 5
}
