{
 "cells": [
  {
   "cell_type": "code",
   "execution_count": null,
   "id": "7bbde8b0",
   "metadata": {},
   "outputs": [],
   "source": [
    "import numpy as np\n",
    "import pandas as pd\n",
    "import matplotlib.pyplot as plt\n",
    "from scipy.stats import norm\n",
    "import warnings \n",
    "warnings.filterwarnings('ignore')\n",
    "from tqdm import tqdm\n",
    "import os\n",
    "import time\n",
    "from scipy.ndimage.interpolation import shift\n",
    "#import scipy.stats\n",
    "import FinanceDataReader as fdr\n",
    "#import yfinance as yf\n",
    "#import seaborn as sns\n",
    "#from scipy import interpolate\n",
    "from itertools import accumulate\n",
    "from dateutil import relativedelta\n",
    "from pykrx import stock\n",
    "import datetime as dt\n",
    "import seaborn as sns"
   ]
  },
  {
   "cell_type": "code",
   "execution_count": null,
   "id": "a926ffcb",
   "metadata": {},
   "outputs": [],
   "source": [
    "def BSprice(PutCall, x, T, K, r, q, sigma):\n",
    "    d1 =(1/(sigma*np.sqrt(T)))*(np.log(x/K) + (r - q + 0.5*sigma**2)*T)\n",
    "    d2 = (1/(sigma*np.sqrt(T)))*(np.log(x/K) + (r - q - 0.5*sigma**2)*T)\n",
    "    Nd1 = norm.cdf(d1)\n",
    "    Nd2 = norm.cdf(d2)\n",
    "    Nd1m = norm.cdf(-d1)\n",
    "    Nd2m = norm.cdf(-d2)\n",
    "    \n",
    "    if PutCall == 'C':\n",
    "        price1 = x*np.exp(-q*T)*Nd1 - K*np.exp(-r*T)*Nd2\n",
    "        price2 = np.exp(-q*T)*Nd1\n",
    "    elif PutCall =='P':\n",
    "        price1 = K*np.exp(-r*T)*Nd2m - x*np.exp(-q*T)*Nd1m\n",
    "        price2 = -np.exp(-q*T)*Nd1m\n",
    "        \n",
    "    return(price1,price2)           # returns array\n",
    "\n"
   ]
  },
  {
   "cell_type": "code",
   "execution_count": null,
   "id": "c21772c4",
   "metadata": {},
   "outputs": [],
   "source": [
    "def ch (name):\n",
    "    cptype = name[7:8]\n",
    "    maturity = name[9:15]\n",
    "    strike = name[16:]\n",
    "\n",
    "    return cptype+maturity+strike\n",
    "\n",
    "def op_chain_df (cpflag, maturity, strike, data_list, s0=None):\n",
    "    \n",
    "    idx = (cpflag, maturity, strike)    \n",
    "    df = data_list[idx].dropna()\n",
    "\n",
    "    k = float(strike)\n",
    "\n",
    "    if s0 is None:\n",
    "        df['행사가격'] = [k for x in range(len(df))]\n",
    "        return df\n",
    "\n",
    "    else:\n",
    "        df['행사가격'] = [k for x in range(len(df))]\n",
    "        df['기초자산가'] = s0.loc[df.index]\n",
    "        return df\n",
    "\n",
    "\n",
    "def option_date_creator (week, date):\n",
    "    '''마지막 만기 거래일이 나옴'''\n",
    "    base_date = dt.datetime.strptime(date, '%Y-%m')\n",
    "    option_date = base_date + relativedelta.relativedelta(weekday=3) + dt.timedelta(weeks=week)\n",
    "    option_date = option_date.strftime('%Y-%m-%d')\n",
    "\n",
    "    return option_date"
   ]
  },
  {
   "cell_type": "markdown",
   "id": "5f571b08",
   "metadata": {},
   "source": [
    "# 데이터 불러오기"
   ]
  },
  {
   "cell_type": "code",
   "execution_count": null,
   "id": "86a96a73",
   "metadata": {},
   "outputs": [],
   "source": [
    "kospi200 = stock.get_index_ohlcv('20070801', '20221130', '1028')['종가']\n",
    "file_path = os.getcwd() + '/Data/'\n",
    "\n",
    "df_close   = pd.read_pickle(file_path+'Call_data_close.pkl')\n",
    "df_base    = pd.read_pickle(file_path+'Call_data_base.pkl')\n",
    "df_volume  = pd.read_pickle(file_path+'Call_data_volume.pkl')\n",
    "df_imvol   = pd.read_pickle(file_path+'Call_data_imvol.pkl')\n",
    "df_open    = pd.read_pickle(file_path+'Call_data_open.pkl')\n",
    "\n",
    "df_close2   = pd.read_pickle(file_path+'Put_data_close.pkl')\n",
    "df_base2    = pd.read_pickle(file_path+'Put_data_base.pkl')\n",
    "df_volume2  = pd.read_pickle(file_path+'Put_data_volume.pkl')\n",
    "df_imvol2   = pd.read_pickle(file_path+'Put_data_imvol.pkl')\n",
    "df_open2    = pd.read_pickle(file_path+'Put_data_open.pkl')\n",
    "\n",
    "data_list = [df_close, df_base, df_volume, df_imvol, df_open,\\\n",
    "             df_close2, df_base2, df_volume2, df_imvol2, df_open2]\n",
    "\n",
    "test = []\n",
    "ttt = ['종가', '기준가', '거래량', '내재변동성', '미결제약정', '종가', '기준가', '거래량', '내재변동성', '미결제약정']\n",
    "\n",
    "for idx, dfdfdfdf in enumerate(data_list):\n",
    "\n",
    "    tmp = dfdfdfdf.iloc[8:]\n",
    "    tmp = tmp.set_axis(tmp.iloc[0], axis=1).drop(index=[8,9,10,11,12])\n",
    "\n",
    "    tmp = tmp.rename(columns={tmp.columns[0] : 'Date'}).set_index('Date')\n",
    "    tmp.index = pd.to_datetime(tmp.index)\n",
    "    tmp.columns = [ch(x) for x in tmp.columns]\n",
    "\n",
    "    k_list = [x[-5:] for x in tmp.columns]\n",
    "    t_list = [x[1:-5] for x in tmp.columns]\n",
    "    c_list = [x[0] for x in tmp.columns]\n",
    "    f_list = [ttt[idx] for x in tmp.columns]\n",
    "    ppp = pd.DataFrame(data=tmp.values, index=tmp.index, columns=[c_list, t_list, k_list, f_list])\n",
    "    test.append(ppp)\n",
    "\n",
    "df = pd.concat(test, axis=1)\n",
    "df"
   ]
  },
  {
   "cell_type": "code",
   "execution_count": null,
   "id": "bad134ee",
   "metadata": {},
   "outputs": [],
   "source": [
    "ticker_list = [ch(x) for x in df_close.iloc[8].values][1:]\n",
    "maturity_date = list(pd.Series([str(x[1:7]) for x in ticker_list]).unique())\n",
    "\n",
    "upper = []\n",
    "lower = []\n",
    "k_list = []\n",
    "\n",
    "for date in maturity_date:\n",
    "    buffer = []\n",
    "    for tick in ticker_list:\n",
    "        if tick[1:7] == date:\n",
    "            buffer.append(tick[7:])\n",
    "        else:\n",
    "            pass\n",
    "    \n",
    "    k_list.append(buffer)\n",
    "\n",
    "    upper.append(buffer[np.argmax(buffer)])\n",
    "    lower.append(buffer[np.argmin(buffer)])\n",
    "    \n",
    "\n",
    "reg = pd.DataFrame(data=[upper, lower], columns=maturity_date).T.rename(columns={0:'Upper', 1:'Lower'}).astype(float)\n",
    "reg\n",
    "reg['last_trade_date'] = [option_date_creator(1, f'{x[:4]}-{x[4:]}') for x in reg.index]\n",
    "reg['k_list'] = k_list\n",
    "reg"
   ]
  },
  {
   "cell_type": "code",
   "execution_count": null,
   "id": "0f7d6d8e",
   "metadata": {},
   "outputs": [],
   "source": [
    "def imp_dist(c_k_under,c_k,c_k_over,k_distance,tau,r):\n",
    "    g=(np.exp(r*tau)*(c_k_under+c_k_over-2*c_k))/(k_distance**2)\n",
    "    return(g)\n",
    "\n"
   ]
  },
  {
   "cell_type": "code",
   "execution_count": null,
   "id": "95995cd0",
   "metadata": {
    "lines_to_next_cell": 2
   },
   "outputs": [],
   "source": [
    "kospi200_start=kospi200[(kospi200.index>=\"2007-12-03\")&(kospi200.index<\"2022-10-17\")]\n",
    "#Month_data=kospi200_start.index.strftime(\"%Y%m\")"
   ]
  },
  {
   "cell_type": "code",
   "execution_count": null,
   "id": "17671e12",
   "metadata": {},
   "outputs": [],
   "source": [
    "def new_next_exp(today):\n",
    "\n",
    "    next_mon = today + relativedelta.relativedelta(months=1)\n",
    "    nnext_mon = next_mon + relativedelta.relativedelta(months=1)\n",
    "\n",
    "    if today.day < 15:\n",
    "        result = next_mon\n",
    "    else:\n",
    "        result = nnext_mon\n",
    "        \n",
    "    return result.strftime(\"%Y%m\")\n",
    "    \n"
   ]
  },
  {
   "cell_type": "code",
   "execution_count": null,
   "id": "f6871229",
   "metadata": {},
   "outputs": [],
   "source": [
    "ac= {}\n",
    "ap= {}\n",
    "\n",
    "for i in tqdm(kospi200_start.index):\n",
    "    try:\n",
    "        ac[i] = df.loc[i,(\"C\", new_next_exp(i), slice(None),'종가')].dropna()\n",
    "        ap[i] = df.loc[i,(\"P\", new_next_exp(i), slice(None),'종가')].dropna()\n",
    "\n",
    "    except:\n",
    "        ac[i] = np.nan\n",
    "        ap[i] = np.nan      "
   ]
  },
  {
   "cell_type": "code",
   "execution_count": null,
   "id": "adcc6554",
   "metadata": {},
   "outputs": [],
   "source": [
    "# ac= {}\n",
    "# ap= {}\n",
    "\n",
    "# for i in tqdm(kospi200_start.index):\n",
    "\n",
    "#         ac[i] = df.loc[i,(\"C\", new_next_exp(i), slice(None),'종가')].dropna()\n",
    "#         ap[i] = df.loc[i,(\"P\", new_next_exp(i), slice(None),'종가')].dropna()\n",
    "\n"
   ]
  },
  {
   "cell_type": "code",
   "execution_count": null,
   "id": "779baeb6",
   "metadata": {
    "lines_to_next_cell": 2
   },
   "outputs": [],
   "source": [
    "ac_k = {}\n",
    "ap_k = {}\n",
    "\n",
    "for i in tqdm(kospi200_start.index):\n",
    "        tmp_c=[]\n",
    "        tmp_p=[]\n",
    "\n",
    "        for j in range(len(ac[i]-1)):\n",
    "\n",
    "                try:\n",
    "                        \n",
    "                        tmp_c.append(np.float(ac[i].index[j][2]))\n",
    "                        ac_k[i]=tmp_c\n",
    "                        tmp_p.append(np.float(ap[i].index[j][2]))\n",
    "                        ap_k[i]=tmp_p\n",
    "                except:\n",
    "                        pass"
   ]
  },
  {
   "cell_type": "code",
   "execution_count": null,
   "id": "71b58d4d",
   "metadata": {},
   "outputs": [],
   "source": [
    "ot_c={}\n",
    "ot_p={}\n",
    "otm_price={}\n",
    "for i in tqdm(kospi200_start.index):\n",
    "    \n",
    "\n",
    "        ot_c[i]=list(np.array(ac_k[i])[np.array(ac_k[i])>kospi200_start[i]])\n",
    "        otc = ac[i].copy()\n",
    "        otc.index = ac[i].index.droplevel([0,1,3])\n",
    "        otc.index = pd.Series(otc.index).apply(lambda x: float(x))\n",
    "        ot_c[i]=otc[ot_c[i]]\n",
    "        \n",
    "    \n",
    "        ot_p[i]=list(np.array(ap_k[i])[np.array(ap_k[i])<kospi200_start[i]])\n",
    "        otp = ap[i].copy()\n",
    "        otp.index = ap[i].index.droplevel([0,1,3])\n",
    "        otp.index = pd.Series(otp.index).apply(lambda x: float(x))\n",
    "        ot_p[i]=ot_p[i]=otp[ot_p[i]]\n",
    "\n",
    "        otm_price[i]=pd.concat([ot_p[i],ot_c[i]])\n",
    "\n",
    "        \n",
    "        \n",
    "\n",
    "        #otm_strike[i]=ot_p[i]+ot_c[i]"
   ]
  },
  {
   "cell_type": "code",
   "execution_count": null,
   "id": "2bca2db2",
   "metadata": {},
   "outputs": [],
   "source": [
    "put_g={}\n",
    "for i in tqdm(kospi200_start.index):\n",
    "    tmp_p=[]\n",
    "    option_point_p=ot_p[i]\n",
    "    for j in range(len(option_point_p)-2):\n",
    "        \n",
    "        tmp_p.append(imp_dist(option_point_p.iloc[j],option_point_p.iloc[j+1],option_point_p.iloc[j+2],2.5,30,0.03))\n",
    "    put_g[i]=tmp_p"
   ]
  },
  {
   "cell_type": "code",
   "execution_count": null,
   "id": "5361a4ed",
   "metadata": {},
   "outputs": [],
   "source": [
    "call_g={}\n",
    "for i in tqdm(kospi200_start.index):\n",
    "    tmp_c=[]\n",
    "    option_point_c=ot_c[i]\n",
    "    for j in range(len(option_point_c)-2):\n",
    "        \n",
    "        tmp_c.append(imp_dist(option_point_c.iloc[j],option_point_c.iloc[j+1],option_point_c.iloc[j+2],2.5,30,0.03))\n",
    "    call_g[i]=tmp_c"
   ]
  },
  {
   "cell_type": "code",
   "execution_count": null,
   "id": "dd55c06a",
   "metadata": {},
   "outputs": [],
   "source": [
    "put_call_g={}\n",
    "for i in tqdm(kospi200_start.index):\n",
    "    put_call_g[i]=put_g[i]+call_g[i]"
   ]
  },
  {
   "cell_type": "markdown",
   "id": "daff34f5",
   "metadata": {},
   "source": [
    "### G값"
   ]
  },
  {
   "cell_type": "code",
   "execution_count": null,
   "id": "c2489ef9",
   "metadata": {},
   "outputs": [],
   "source": [
    "put_call_g"
   ]
  },
  {
   "cell_type": "markdown",
   "id": "272fe87a",
   "metadata": {},
   "source": [
    "###  ac_k 와 ac_p는 같다"
   ]
  },
  {
   "cell_type": "code",
   "execution_count": null,
   "id": "9ef97bd4",
   "metadata": {},
   "outputs": [],
   "source": [
    "s=0                               ##  ac_k 와 ac_p는 같다\n",
    "for i in kospi200_start.index:\n",
    "    if len(ac_k[i])!=len(ap_k[i]):\n",
    "        s=s+1\n",
    "s"
   ]
  },
  {
   "cell_type": "markdown",
   "id": "4b428034",
   "metadata": {},
   "source": [
    "### strike price"
   ]
  },
  {
   "cell_type": "code",
   "execution_count": null,
   "id": "8ad47993",
   "metadata": {},
   "outputs": [],
   "source": [
    "g_strike_price={}\n",
    "for i in kospi200_start.index:\n",
    "    g_strike_price[i]=ac_k[i][:-4]\n",
    "g_strike_price"
   ]
  },
  {
   "cell_type": "markdown",
   "id": "0416d517",
   "metadata": {},
   "source": [
    "## DataFrame만들기"
   ]
  },
  {
   "cell_type": "code",
   "execution_count": null,
   "id": "95269234",
   "metadata": {
    "lines_to_next_cell": 2
   },
   "outputs": [],
   "source": [
    "col=kospi200_start.index\n",
    "ind=np.zeros(1000)\n",
    "dfs=pd.DataFrame(index=ind,columns=col)"
   ]
  },
  {
   "cell_type": "code",
   "execution_count": null,
   "id": "b9c7dcab",
   "metadata": {
    "lines_to_next_cell": 2
   },
   "outputs": [],
   "source": [
    "dfs=pd.DataFrame(index=ind,columns=col)"
   ]
  },
  {
   "cell_type": "code",
   "execution_count": null,
   "id": "681aeb4d",
   "metadata": {},
   "outputs": [],
   "source": [
    "for i in range(len(col)):\n",
    "    input=put_call_g[kospi200_start.index[i]]\n",
    "    dfs.iloc[:len(input),i]=input"
   ]
  },
  {
   "cell_type": "code",
   "execution_count": null,
   "id": "2dc3e1b9",
   "metadata": {},
   "outputs": [],
   "source": [
    "implied_dist=dfs"
   ]
  },
  {
   "cell_type": "code",
   "execution_count": null,
   "id": "451e3010",
   "metadata": {},
   "outputs": [],
   "source": [
    "coll=kospi200_start.index\n",
    "indd=np.zeros(1000)"
   ]
  },
  {
   "cell_type": "code",
   "execution_count": null,
   "id": "be8acae9",
   "metadata": {},
   "outputs": [],
   "source": [
    "dff=pd.DataFrame(index=indd,columns=coll)"
   ]
  },
  {
   "cell_type": "code",
   "execution_count": null,
   "id": "ed7939f8",
   "metadata": {},
   "outputs": [],
   "source": [
    "for i in range(len(coll)):\n",
    "    input=g_strike_price[kospi200_start.index[i]]\n",
    "    dff.iloc[:len(input),i]=input"
   ]
  },
  {
   "cell_type": "code",
   "execution_count": null,
   "id": "80830a5c",
   "metadata": {},
   "outputs": [],
   "source": [
    "strike=dff"
   ]
  },
  {
   "cell_type": "code",
   "execution_count": null,
   "id": "d31f4bbc",
   "metadata": {},
   "outputs": [],
   "source": [
    "# implied_dist.to_csv(\"implied_dist.csv\")\n",
    "# strike.to_csv(\"strike.csv\")"
   ]
  },
  {
   "cell_type": "code",
   "execution_count": null,
   "id": "9644506d",
   "metadata": {},
   "outputs": [],
   "source": [
    "------------------------"
   ]
  },
  {
   "cell_type": "markdown",
   "id": "d5835094",
   "metadata": {},
   "source": [
    "# SKEW 계산"
   ]
  },
  {
   "cell_type": "code",
   "execution_count": null,
   "id": "8847dcd0",
   "metadata": {},
   "outputs": [],
   "source": [
    "ac_IV= {}\n",
    "ap_IV= {}\n",
    "\n",
    "for i in tqdm(kospi200_start.index):\n",
    "    try:\n",
    "        ac_IV[i] = df.loc[i,(\"C\", new_next_exp(i), slice(None),'내재변동성')].dropna()\n",
    "        ap_IV[i] = df.loc[i,(\"P\", new_next_exp(i), slice(None),'내재변동성')].dropna()\n",
    "\n",
    "    except:\n",
    "        ac_IV[i] = np.nan\n",
    "        ap_IV[i] = np.nan      "
   ]
  },
  {
   "cell_type": "code",
   "execution_count": null,
   "id": "2e85c0fc",
   "metadata": {
    "lines_to_next_cell": 2
   },
   "outputs": [],
   "source": [
    "ac_k_IV = {}\n",
    "ap_k_IV = {}\n",
    "\n",
    "for i in tqdm(kospi200_start.index):\n",
    "        tmp_c=[]\n",
    "        tmp_p=[]\n",
    "\n",
    "        for j in range(len(ac_IV[i]-1)):\n",
    "\n",
    "                try:\n",
    "                        \n",
    "                        tmp_c.append(np.float(ac_IV[i].index[j][2]))\n",
    "                        ac_k_IV[i]=tmp_c\n",
    "                        tmp_p.append(np.float(ap_IV[i].index[j][2]))\n",
    "                        ap_k_IV[i]=tmp_p\n",
    "                except:\n",
    "                        pass"
   ]
  },
  {
   "cell_type": "code",
   "execution_count": null,
   "id": "57d4b8a7",
   "metadata": {},
   "outputs": [],
   "source": [
    "ot_c_IV={}\n",
    "ot_p_IV={}\n",
    "otm_price_IV={}\n",
    "for i in tqdm(kospi200_start.index):\n",
    "    \n",
    "\n",
    "        ot_c_IV[i]=list(np.array(ac_k_IV[i])[np.array(ac_k_IV[i])>kospi200_start[i]])\n",
    "        otc_IV = ac_IV[i].copy()\n",
    "        otc_IV.index = ac_IV[i].index.droplevel([0,1,3])\n",
    "        otc_IV.index = pd.Series(otc_IV.index).apply(lambda x: float(x))\n",
    "        ot_c_IV[i]=otc_IV[ot_c_IV[i]]\n",
    "        \n",
    "    \n",
    "        ot_p_IV[i]=list(np.array(ap_k_IV[i])[np.array(ap_k_IV[i])<kospi200_start[i]])\n",
    "        otp_IV = ap_IV[i].copy()\n",
    "        otp_IV.index = ap_IV[i].index.droplevel([0,1,3])\n",
    "        otp_IV.index = pd.Series(otp_IV.index).apply(lambda x: float(x))\n",
    "        ot_p_IV[i]=ot_p_IV[i]=otp_IV[ot_p_IV[i]]\n",
    "\n",
    "        otm_price_IV[i]=pd.concat([ot_p_IV[i],ot_c_IV[i]])\n",
    "        \n",
    "\n",
    "        \n",
    "        \n",
    "\n",
    "        #otm_strike[i]=ot_p[i]+ot_c[i]"
   ]
  },
  {
   "cell_type": "code",
   "execution_count": null,
   "id": "2a64d345",
   "metadata": {},
   "outputs": [],
   "source": [
    "def option_skew(otm_level):  #ex 0.95\n",
    "    impvol={}\n",
    "\n",
    "    for i in tqdm(kospi200_start.index):\n",
    "        atm_impvol=otm_price_IV[i].iloc[np.argmin((otm_price_IV[i].index-kospi200_start[i])**2)]\n",
    "        atm_k=otm_price_IV[i][otm_price_IV[i]==atm_impvol].index[0]\n",
    "        otm_impvol=otm_price_IV[i].iloc[np.argmin((otm_price_IV[i].index-atm_k*otm_level)**2)]\n",
    "\n",
    "        \n",
    "        impvol[i]=otm_impvol-atm_impvol\n",
    "    return(impvol)\n",
    "\n",
    "            \n",
    "                    "
   ]
  },
  {
   "cell_type": "code",
   "execution_count": null,
   "id": "a1ea78d6",
   "metadata": {},
   "outputs": [],
   "source": [
    "def skew_df(otm_level):\n",
    "    inddd=kospi200_start.index\n",
    "    skew=pd.DataFrame(index=inddd)\n",
    "    aaa=option_skew(otm_level)\n",
    "    for i in kospi200_start.index:\n",
    "        skew.loc[i,1]=aaa[i]\n",
    "    return(skew)\n",
    "\n"
   ]
  },
  {
   "cell_type": "code",
   "execution_count": null,
   "id": "7353beab",
   "metadata": {
    "lines_to_next_cell": 2
   },
   "outputs": [],
   "source": [
    "skew_df(0.95).to_csv(\"skew_95.csv\")\n",
    "skew_df(0.85).to_csv(\"skew_85.csv\")\n",
    "skew_df(0.75).to_csv(\"skew_75.csv\")"
   ]
  }
 ],
 "metadata": {
  "kernelspec": {
   "display_name": "Python 3",
   "language": "python",
   "name": "python3"
  }
 },
 "nbformat": 4,
 "nbformat_minor": 5
}
