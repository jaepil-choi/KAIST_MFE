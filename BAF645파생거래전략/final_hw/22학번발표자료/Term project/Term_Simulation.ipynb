{
 "cells": [
  {
   "cell_type": "code",
   "execution_count": null,
   "id": "835b443a",
   "metadata": {
    "id": "c7a23864"
   },
   "outputs": [],
   "source": [
    "import numpy as np\n",
    "import pandas as pd\n",
    "import matplotlib.pyplot as plt\n",
    "\n",
    "from scipy.stats import norm\n",
    "import warnings\n",
    "warnings.filterwarnings('ignore')\n",
    "from tqdm import tqdm\n",
    "\n",
    "import time\n",
    "from scipy.ndimage.interpolation import shift\n",
    "import scipy.stats\n",
    "# import FinanceDataReader as fdr\n",
    "import yfinance as yf\n",
    "import seaborn as sns"
   ]
  },
  {
   "cell_type": "code",
   "execution_count": null,
   "id": "27c3fcdf",
   "metadata": {
    "id": "c1069c91"
   },
   "outputs": [],
   "source": [
    "def BSprice(PutCall, S0, T, K, r, q, imp_vol):\n",
    "    d1 =(1/(imp_vol*np.sqrt(T)))*(np.log(S0/K) + (r - q + 0.5*imp_vol**2)*T)\n",
    "    d2 = (1/(imp_vol*np.sqrt(T)))*(np.log(S0/K) + (r - q - 0.5*imp_vol**2)*T)\n",
    "    Nd1 = norm.cdf(d1)\n",
    "    Nd2 = norm.cdf(d2)\n",
    "    Nd1m = norm.cdf(-d1)\n",
    "    Nd2m = norm.cdf(-d2)\n",
    "\n",
    "    if PutCall == 'C':\n",
    "        price1 = S0 * np.exp(-q*T) * Nd1 - K * np.exp(-r*T) * Nd2\n",
    "        price2 = np.exp(-q*T) * Nd1\n",
    "    elif PutCall =='P':\n",
    "        price1 = K * np.exp(-r*T) * Nd2m - S0 * np.exp(-q*T) * Nd1m\n",
    "        price2 = -np.exp(-q*T) * Nd1m\n",
    "\n",
    "    return(price1,price2)           # returns array"
   ]
  },
  {
   "cell_type": "markdown",
   "id": "bc196945",
   "metadata": {
    "id": "67c09760"
   },
   "source": [
    "### 현재가 50,000원 strike = 55,000원  수량# 100,000 계약\n",
    "### OPT 매도 포지션일때 내재 변동성 46%로 마진을 쌓아 놓고 Hedging PNL을 계산한다\n",
    "### Int cost =4% daily calculation\n",
    "### Transaction Cost= 0.1% at selling"
   ]
  },
  {
   "cell_type": "code",
   "execution_count": null,
   "id": "85838275",
   "metadata": {
    "colab": {
     "base_uri": "https://localhost:8080/"
    },
    "executionInfo": {
     "elapsed": 7,
     "status": "ok",
     "timestamp": 1701589109904,
     "user": {
      "displayName": "강병표",
      "userId": "10016608623122375854"
     },
     "user_tz": -540
    },
    "id": "e468f15f",
    "outputId": "b85cf3cf-ff0a-47ea-f8d4-2d0a9f276778"
   },
   "outputs": [],
   "source": [
    "PutCall='C'    # put / call 중에 어떤 상품인가\n",
    "S0=50    # 기초자산 현재가격\n",
    "T=1/2    # 만기\n",
    "K=55    # strike price\n",
    "r=0.04   # 자금비용 & risk-free rate\n",
    "q=0    # 배당 (무시)\n",
    "imp_vol=0.46    # impvol\n",
    "\n",
    "c_price=BSprice(PutCall, S0, T, K, r, q, imp_vol)[0]\n",
    "c_price*100000   #Margin"
   ]
  },
  {
   "cell_type": "code",
   "execution_count": null,
   "id": "79eca4dd",
   "metadata": {
    "id": "fe4b5040"
   },
   "outputs": [],
   "source": [
    "simulation_number=1000\n",
    "mu=0.13\n",
    "sigma=0.4"
   ]
  },
  {
   "cell_type": "code",
   "execution_count": null,
   "id": "a798c314",
   "metadata": {
    "id": "3511859d"
   },
   "outputs": [],
   "source": [
    "def hedging_C(S0, mu, K, r, sigma, T, q, PutCall, c_price, simulation_number):\n",
    "    M=1\n",
    "    M_s=180/M\n",
    "    M_s=np.int(M_s)\n",
    "    dt=M/360\n",
    "    tt=np.repeat(T,M_s)\n",
    "    for i in range(M_s-1):\n",
    "        tt[i+1]=tt[i]-dt\n",
    "    tt=np.append(tt,0)\n",
    "\n",
    "    # Generating random\n",
    "    generating_number=int(round(T*(1/dt)))+1\n",
    "\n",
    "    # generating stock path\n",
    "    z=np.random.randn(simulation_number,generating_number)\n",
    "    stock_path_bm=np.exp((mu-0.5*sigma**2)*dt+sigma*np.sqrt(dt)*z)\n",
    "    stock_path_bm[:,0]=1\n",
    "    stock_price=stock_path_bm.cumprod(1)*S0\n",
    "\n",
    "    # Calculating Delta\n",
    "    Delta=BSprice(PutCall,stock_price, tt, K, r, q, imp_vol)[1]\n",
    "    Delta_diff=Delta[:,1:]-Delta[:,:-1]\n",
    "    Delta_diff.shape\n",
    "\n",
    "    initial_array=np.repeat(Delta[0][0],Delta_diff.shape[0]).reshape(Delta_diff.shape[0],1)\n",
    "    Delta_change=np.concatenate([initial_array,Delta_diff],axis=1)\n",
    "\n",
    "    # Delta 변화에따른 stock trade\n",
    "    shares_purchased=Delta_change*100000\n",
    "    shares_purchased=shares_purchased.round()  #정수만 purchase\n",
    "\n",
    "    cost_purchased=shares_purchased*stock_price\n",
    "    trans_cost=np.where(cost_purchased<0,cost_purchased*0.001,0) #transaction Cost # 매도시에만 10BP\n",
    "    #trans_cost=cost_purchased*0.00015\n",
    "    trans_cost=abs(trans_cost)\n",
    "    transaction=np.cumsum(trans_cost,axis=1)\n",
    "    cum_cost=np.cumsum(cost_purchased,axis=1)\n",
    "\n",
    "    # Interest Cost 계산\n",
    "    for i in range(1,cum_cost.shape[1]):\n",
    "\n",
    "        cum_cost[:,i]=cum_cost[:,i-1]*np.exp(r*M/360)+cost_purchased[:,i]\n",
    "\n",
    "\n",
    "    # Final cost 계산\n",
    "    Final_cost=cum_cost[:,-1]\n",
    "    hedge_cost=np.where(stock_price[:,-1]>K,Final_cost-K*100000,Final_cost)\n",
    "\n",
    "    Final_cost_tr=cum_cost[:,-1]+transaction[:,-1]\n",
    "    hedge_cost_tr=np.where(stock_price[:,-1]>K,Final_cost_tr-K*100000,Final_cost_tr)\n",
    "\n",
    "    ATM_C=np.where((stock_price[:,-1]<1.01*K)&(stock_price[:,-1]>0.99*K),hedge_cost,0)\n",
    "    ITM_C=np.where(stock_price[:,-1]>K,hedge_cost,0)\n",
    "    OTM_C=np.where(stock_price[:,-1]<K,hedge_cost,0)\n",
    "\n",
    "    ATM_Case=ATM_C[ATM_C!=0]\n",
    "    ITM_Case=ITM_C[ITM_C!=0]\n",
    "    OTM_Case=OTM_C[OTM_C!=0]\n",
    "\n",
    "\n",
    "    hedging_PNL=(c_price*100000-hedge_cost)\n",
    "\n",
    "    Mean=np.mean(hedge_cost)    # transcation cost 포함하지 않은 hedging cost\n",
    "    Performance_MSR=np.std(hedge_cost)/c_price\n",
    "\n",
    "\n",
    "    Mean_tr=np.mean(hedge_cost_tr)   #transaction cost 포함함 hedging cost\n",
    "    Performance_MSR_tr=np.std(hedge_cost_tr)/c_price\n",
    "    Mean_hedging_PNL=np.mean(hedging_PNL)\n",
    "\n",
    "\n",
    "    return(Mean,Performance_MSR,     Mean_tr,Performance_MSR_tr,        np.mean(ITM_Case),np.mean(OTM_Case),np.mean(ATM_Case),       Mean_hedging_PNL, stock_price)"
   ]
  },
  {
   "cell_type": "code",
   "execution_count": null,
   "id": "f13bcf15",
   "metadata": {
    "colab": {
     "base_uri": "https://localhost:8080/",
     "height": 448
    },
    "executionInfo": {
     "elapsed": 97026,
     "status": "ok",
     "timestamp": 1701589206926,
     "user": {
      "displayName": "강병표",
      "userId": "10016608623122375854"
     },
     "user_tz": -540
    },
    "id": "402647b5",
    "outputId": "5d58fa95-a9e1-42fb-ba60-9ab77a918ce0"
   },
   "outputs": [],
   "source": [
    "for i in tqdm(range(1000)):\n",
    "    plt.plot(hedging_C(S0,mu,K,r,sigma,T,q,PutCall, c_price, simulation_number)[8][i])"
   ]
  },
  {
   "cell_type": "code",
   "execution_count": null,
   "id": "fbc68f79",
   "metadata": {
    "colab": {
     "base_uri": "https://localhost:8080/"
    },
    "executionInfo": {
     "elapsed": 8,
     "status": "ok",
     "timestamp": 1701589206926,
     "user": {
      "displayName": "강병표",
      "userId": "10016608623122375854"
     },
     "user_tz": -540
    },
    "id": "0ba06540",
    "outputId": "0684a118-6176-491a-fe15-a985ba8ef577"
   },
   "outputs": [],
   "source": [
    "hedging_C(S0,mu,K,r,sigma,T,q,PutCall, c_price, simulation_number)[8]"
   ]
  },
  {
   "cell_type": "markdown",
   "id": "2f743bfb",
   "metadata": {
    "id": "1627bb16"
   },
   "source": [
    "### Transaction cost 비교"
   ]
  },
  {
   "cell_type": "code",
   "execution_count": null,
   "id": "71ca4652",
   "metadata": {
    "colab": {
     "base_uri": "https://localhost:8080/"
    },
    "executionInfo": {
     "elapsed": 162189,
     "status": "ok",
     "timestamp": 1701589369110,
     "user": {
      "displayName": "강병표",
      "userId": "10016608623122375854"
     },
     "user_tz": -540
    },
    "id": "ebec8066",
    "outputId": "645b76a2-1dd6-4a59-f758-94f60becc4e7"
   },
   "outputs": [],
   "source": [
    "Mean_without_transcost=np.zeros(1000)\n",
    "Mean_with_transcost=np.zeros(1000)\n",
    "for i in tqdm(range(1000)):\n",
    "\n",
    "    Mean_without_transcost[i]=hedging_C(S0,mu,K,r,sigma,T,q,PutCall, c_price, simulation_number)[0]\n",
    "    Mean_with_transcost[i]=hedging_C(S0,mu,K,r,sigma,T,q,PutCall, c_price, simulation_number)[2]"
   ]
  },
  {
   "cell_type": "code",
   "execution_count": null,
   "id": "26a0df93",
   "metadata": {
    "colab": {
     "base_uri": "https://localhost:8080/",
     "height": 864
    },
    "executionInfo": {
     "elapsed": 828,
     "status": "ok",
     "timestamp": 1701589369911,
     "user": {
      "displayName": "강병표",
      "userId": "10016608623122375854"
     },
     "user_tz": -540
    },
    "id": "3fe094af",
    "outputId": "e3c9d9d1-b08c-4e94-efa8-c0d650d0ab28"
   },
   "outputs": [],
   "source": [
    "plt.figure(figsize=(10,10))\n",
    "sns.distplot(Mean_without_transcost,color='blue',label='Without Cost')\n",
    "plt.axvline(x=Mean_without_transcost.mean(),color='black',ls='--',lw=4)\n",
    "\n",
    "sns.distplot(Mean_with_transcost,color='red',label=\"Wiht Cost\")\n",
    "plt.axvline(x=Mean_with_transcost.mean(),color='black',ls='--',lw=4)\n",
    "\n",
    "plt.xlabel(\"Cost\",size=20)\n",
    "plt.legend()\n",
    "plt.show()"
   ]
  },
  {
   "cell_type": "markdown",
   "id": "13110339",
   "metadata": {
    "id": "43ff0e7b"
   },
   "source": [
    "## Hedging PNL"
   ]
  },
  {
   "cell_type": "code",
   "execution_count": null,
   "id": "38c15b26",
   "metadata": {
    "colab": {
     "base_uri": "https://localhost:8080/"
    },
    "executionInfo": {
     "elapsed": 82003,
     "status": "ok",
     "timestamp": 1701589451908,
     "user": {
      "displayName": "강병표",
      "userId": "10016608623122375854"
     },
     "user_tz": -540
    },
    "id": "d589862d",
    "outputId": "d414a422-60f8-4ecf-c2c2-e24fd0e89bdd"
   },
   "outputs": [],
   "source": [
    "a=np.zeros(1000)\n",
    "for i in tqdm(range(1000)):\n",
    "    a[i]=hedging_C(S0,mu,K,r,sigma,T,q,PutCall, c_price, simulation_number)[7]"
   ]
  },
  {
   "cell_type": "code",
   "execution_count": null,
   "id": "5c70d8ce",
   "metadata": {
    "colab": {
     "base_uri": "https://localhost:8080/",
     "height": 448
    },
    "executionInfo": {
     "elapsed": 524,
     "status": "ok",
     "timestamp": 1701589453069,
     "user": {
      "displayName": "강병표",
      "userId": "10016608623122375854"
     },
     "user_tz": -540
    },
    "id": "f3b19971",
    "outputId": "c81c9d0b-023e-4760-8616-5d27152d7a67"
   },
   "outputs": [],
   "source": [
    "sns.distplot(a,color='blue')\n",
    "plt.axvline(x=a.mean(),color='black',ls='--',lw=4)"
   ]
  },
  {
   "cell_type": "markdown",
   "id": "c098ce98",
   "metadata": {
    "id": "5f0c20dc"
   },
   "source": [
    "### ITM ATM OTM case"
   ]
  },
  {
   "cell_type": "code",
   "execution_count": null,
   "id": "b199af5f",
   "metadata": {
    "colab": {
     "base_uri": "https://localhost:8080/"
    },
    "executionInfo": {
     "elapsed": 239343,
     "status": "ok",
     "timestamp": 1701589692408,
     "user": {
      "displayName": "강병표",
      "userId": "10016608623122375854"
     },
     "user_tz": -540
    },
    "id": "ec55d1b6",
    "outputId": "2a33e89f-6542-4d7d-8291-26478de1db1f"
   },
   "outputs": [],
   "source": [
    "ITM_=np.zeros(1000)\n",
    "ATM_=np.zeros(1000)\n",
    "OTM_=np.zeros(1000)\n",
    "for i in tqdm(range(1000)):\n",
    "\n",
    "    ITM_[i]=hedging_C(S0,mu,K,r,sigma,T,q,PutCall, c_price, simulation_number)[4]\n",
    "    OTM_[i]=hedging_C(S0,mu,K,r,sigma,T,q,PutCall, c_price, simulation_number)[5]\n",
    "    ATM_[i]=hedging_C(S0,mu,K,r,sigma,T,q,PutCall, c_price, simulation_number)[6]"
   ]
  },
  {
   "cell_type": "code",
   "execution_count": null,
   "id": "8a7f21c6",
   "metadata": {
    "colab": {
     "base_uri": "https://localhost:8080/"
    },
    "executionInfo": {
     "elapsed": 6,
     "status": "ok",
     "timestamp": 1701589865785,
     "user": {
      "displayName": "강병표",
      "userId": "10016608623122375854"
     },
     "user_tz": -540
    },
    "id": "ut5N_CqwplMr",
    "outputId": "035576f0-537b-4445-fef7-4bf29a75d8eb"
   },
   "outputs": [],
   "source": [
    "ITM_"
   ]
  },
  {
   "cell_type": "code",
   "execution_count": null,
   "id": "50cfafe0",
   "metadata": {
    "colab": {
     "base_uri": "https://localhost:8080/",
     "height": 864
    },
    "executionInfo": {
     "elapsed": 796,
     "status": "ok",
     "timestamp": 1701589693180,
     "user": {
      "displayName": "강병표",
      "userId": "10016608623122375854"
     },
     "user_tz": -540
    },
    "id": "b535130b",
    "outputId": "3ea81d90-3d21-4e92-d38d-1e1ba2091527"
   },
   "outputs": [],
   "source": [
    "plt.figure(figsize=(10,10))\n",
    "sns.distplot(ITM_,color='blue',label='ITM')\n",
    "plt.axvline(x=ITM_.mean(),color='black',ls='--',lw=4)\n",
    "\n",
    "sns.distplot(OTM_,color='red',label=\"OTM\")\n",
    "plt.axvline(x=OTM_.mean(),color='black',ls='--',lw=4)\n",
    "\n",
    "sns.distplot(ATM_,color='gray',label=\"ATM\")\n",
    "plt.axvline(x=ATM_.mean(),color='black',ls='--',lw=4)\n",
    "\n",
    "plt.xlabel(\"Cost\",size=20)\n",
    "plt.legend()\n",
    "plt.show()"
   ]
  },
  {
   "cell_type": "markdown",
   "id": "3d2b24bb",
   "metadata": {
    "id": "87100ecc"
   },
   "source": [
    "### Delta trigger"
   ]
  },
  {
   "cell_type": "code",
   "execution_count": null,
   "id": "f76a74ea",
   "metadata": {
    "colab": {
     "base_uri": "https://localhost:8080/"
    },
    "executionInfo": {
     "elapsed": 12,
     "status": "ok",
     "timestamp": 1701589693180,
     "user": {
      "displayName": "강병표",
      "userId": "10016608623122375854"
     },
     "user_tz": -540
    },
    "id": "d6f3b87e",
    "outputId": "50501fbd-e43a-4b1a-c2f0-9b24a89a5a6e"
   },
   "outputs": [],
   "source": [
    "c_price=BSprice(PutCall=\"C\", S0=50, T=26/52, K=55, r=0.04, q=0, imp_vol=0.46)[0]\n",
    "c_price*100000   #Margin\n",
    "c_price_origin=BSprice(PutCall=\"C\", S0=50, T=26/52, K=55, r=0.04, q=0, imp_vol=0.40)[0]\n",
    "c_price_origin   #Margin"
   ]
  },
  {
   "cell_type": "code",
   "execution_count": null,
   "id": "ff1474de",
   "metadata": {
    "id": "4f127103"
   },
   "outputs": [],
   "source": [
    "def delta_trigger_result(s0,K,mu,r,sigma,q,T,simulation_number,trigger):\n",
    "    M=1\n",
    "    M_s=180/M\n",
    "    M_s=np.int(M_s)\n",
    "    dt=M/360\n",
    "    tt=np.repeat(T,M_s)\n",
    "    for i in range(M_s-1):\n",
    "        tt[i+1]=tt[i]-dt\n",
    "    tt=np.append(tt,0)\n",
    "\n",
    "\n",
    "\n",
    "    # Generating random\n",
    "    generating_number=int(round(T*(1/dt)))+1\n",
    "\n",
    "    # generating stock path\n",
    "    z=np.random.randn(simulation_number,generating_number)\n",
    "    stock_path_bm=np.exp((mu-0.5*sigma**2)*dt+sigma*np.sqrt(dt)*z)\n",
    "    stock_path_bm[:,0]=1\n",
    "    stock_price=stock_path_bm.cumprod(1)*s0\n",
    "\n",
    "    # Calculating Delta\n",
    "    Delta=BSprice(PutCall,stock_price, tt, K, r, q, imp_vol)[1]\n",
    "    Delta_diff=Delta[:,1:]-Delta[:,:-1]\n",
    "    Delta_diff.shape\n",
    "    Delta_diff_trigger=np.where(Delta_diff>Delta[:,:-1]*trigger,Delta_diff,0)\n",
    "\n",
    "    initial_array=np.repeat(Delta[0][0],Delta_diff_trigger.shape[0]).reshape(Delta_diff_trigger.shape[0],1)\n",
    "    Delta_change=np.concatenate([initial_array,Delta_diff_trigger],axis=1)\n",
    "\n",
    "    # initial_array=np.repeat(Delta[0][0],Delta_diff.shape[0]).reshape(Delta_diff.shape[0],1)\n",
    "    # Delta_change=np.concatenate([initial_array,Delta_diff],axis=1)\n",
    "\n",
    "    # Delta 변화에따른 stock trade\n",
    "\n",
    "    shares_purchased=Delta_change*100000\n",
    "    np.where(shares_purchased)\n",
    "    shares_purchased=shares_purchased.round()  #정수만 purchase\n",
    "\n",
    "    cost_purchased=shares_purchased*stock_price\n",
    "    trans_cost=np.where(cost_purchased<0,cost_purchased*0.001,0) #transaction Cost # 매도시에만 10BP\n",
    "    #trans_cost=cost_purchased*0.00015\n",
    "    trans_cost=abs(trans_cost)\n",
    "    transaction=np.cumsum(trans_cost,axis=1)\n",
    "    cum_cost=np.cumsum(cost_purchased,axis=1)\n",
    "\n",
    "    # Interest Cost 계산\n",
    "    for i in range(1,cum_cost.shape[1]):\n",
    "\n",
    "        cum_cost[:,i]=cum_cost[:,i-1]*np.exp(r*M/360)+cost_purchased[:,i]\n",
    "\n",
    "\n",
    "    # Final cost 계산\n",
    "    Final_cost=cum_cost[:,-1]\n",
    "    hedge_cost=np.where(stock_price[:,-1]>K,Final_cost-K*100000,Final_cost)\n",
    "\n",
    "    Final_cost_tr=cum_cost[:,-1]+transaction[:,-1]\n",
    "    hedge_cost_tr=np.where(stock_price[:,-1]>K,Final_cost_tr-K*100000,Final_cost_tr)\n",
    "\n",
    "    # ATM_C=np.where((stock_price[:,-1]<(K+1))&(stock_price[:,-1]>(K-1)),hedge_cost,0)   #ATM 으로 끝났을때\n",
    "    # ITM_C=np.where(stock_price[:,-1]>K,hedge_cost,0)    #ITM 으로 끝났을때\n",
    "    # OTM_C=np.where(stock_price[:,-1]<K,hedge_cost,0)    #OTM 으로 끝났을때\n",
    "\n",
    "    # ATM_Case=ATM_C[ATM_C!=0]\n",
    "    # ITM_Case=ITM_C[ITM_C!=0]\n",
    "    # OTM_Case=OTM_C[OTM_C!=0]\n",
    "\n",
    "\n",
    "    hedging_PNL=(c_price*100000-hedge_cost)\n",
    "\n",
    "    Mean=np.mean(hedge_cost)    # transcation cost 포함하지 않은 hedging cost\n",
    "    Performance_MSR=np.std(hedge_cost)/(c_price_origin*100000)\n",
    "\n",
    "\n",
    "    Mean_tr=np.mean(hedge_cost_tr)   #transaction cost 포함함 hedging cost\n",
    "    Performance_MSR_tr=np.std(hedge_cost_tr)/(c_price_origin*100000)\n",
    "    Mean_hedging_PNL=np.mean(hedging_PNL)\n",
    "\n",
    "    return(Mean,Performance_MSR)\n",
    "    #,Mean_tr,Performance_MSR_tr#,np.mean(ITM_Case),np.mean(OTM_Case),np.mean(ATM_Case),Mean_hedging_PNL\n",
    "\n",
    "\n"
   ]
  },
  {
   "cell_type": "code",
   "execution_count": null,
   "id": "675a0eed",
   "metadata": {
    "id": "64c639f6"
   },
   "outputs": [],
   "source": [
    "def delta_trigger_sim(trigger):\n",
    "    mean_trig=[]\n",
    "    std_trig=[]\n",
    "    s0=50\n",
    "    K=55\n",
    "    mu=0.13\n",
    "    r=0.04\n",
    "    sigma=0.4\n",
    "    q=0\n",
    "    T=26/52\n",
    "    simulation_number=1000\n",
    "    for g in trigger:\n",
    "        mean_trig.append(delta_trigger_result(s0,K,mu,r,sigma,q,T,simulation_number,g)[0])\n",
    "        std_trig.append(delta_trigger_result(s0,K,mu,r,sigma,q,T,simulation_number,g)[1])\n",
    "\n",
    "    return(mean_trig,std_trig)"
   ]
  },
  {
   "cell_type": "code",
   "execution_count": null,
   "id": "5dead632",
   "metadata": {
    "id": "63060177"
   },
   "outputs": [],
   "source": [
    "trigger=np.linspace(0.05,0.4,50)\n",
    "trigger=list(trigger)"
   ]
  },
  {
   "cell_type": "code",
   "execution_count": null,
   "id": "d13ff712",
   "metadata": {
    "colab": {
     "base_uri": "https://localhost:8080/"
    },
    "executionInfo": {
     "elapsed": 8032,
     "status": "ok",
     "timestamp": 1701589701205,
     "user": {
      "displayName": "강병표",
      "userId": "10016608623122375854"
     },
     "user_tz": -540
    },
    "id": "f041b941",
    "outputId": "05422598-a10c-469f-90f6-bcc80f886e1c"
   },
   "outputs": [],
   "source": [
    "delta_trigger_sim(trigger)"
   ]
  },
  {
   "cell_type": "markdown",
   "id": "fabc5e65",
   "metadata": {
    "id": "fb5b4abb"
   },
   "source": [
    "### Trigger를 크게 줄수록 hedging cost 줄어듦"
   ]
  },
  {
   "cell_type": "code",
   "execution_count": null,
   "id": "ad7398d4",
   "metadata": {
    "colab": {
     "base_uri": "https://localhost:8080/",
     "height": 880
    },
    "executionInfo": {
     "elapsed": 14321,
     "status": "ok",
     "timestamp": 1701589715522,
     "user": {
      "displayName": "강병표",
      "userId": "10016608623122375854"
     },
     "user_tz": -540
    },
    "id": "b5d80be2",
    "outputId": "2e85aa37-9fd7-41a1-c551-bdea883d173d"
   },
   "outputs": [],
   "source": [
    "plt.figure(figsize=(10,10))\n",
    "\n",
    "y=delta_trigger_sim(trigger)[0]\n",
    "x=trigger\n",
    "plt.scatter(x,y,s=100,c='#33FFCE')\n",
    "plt.plot(x,y,linestyle='solid',color='blue',label=\"Mean\")\n",
    "plt.xlabel(\"Trigger\",labelpad=15)\n",
    "plt.ylabel(\"Mean Cost\",labelpad=15)\n",
    "plt.legend(fontsize=14)\n",
    "plt.show()"
   ]
  },
  {
   "cell_type": "markdown",
   "id": "06636b44",
   "metadata": {
    "id": "c9060808"
   },
   "source": [
    "### Trigger 크게줄수록 STD증가"
   ]
  },
  {
   "cell_type": "code",
   "execution_count": null,
   "id": "e8b3ec9a",
   "metadata": {
    "colab": {
     "base_uri": "https://localhost:8080/",
     "height": 865
    },
    "executionInfo": {
     "elapsed": 7815,
     "status": "ok",
     "timestamp": 1701589723332,
     "user": {
      "displayName": "강병표",
      "userId": "10016608623122375854"
     },
     "user_tz": -540
    },
    "id": "b6867328",
    "outputId": "4f704d57-e41c-4d83-d272-24ac758f8de4"
   },
   "outputs": [],
   "source": [
    "plt.figure(figsize=(10,10))\n",
    "\n",
    "y=delta_trigger_sim(trigger)[1]\n",
    "x=trigger\n",
    "plt.scatter(x,y,s=100,c='#33FFCE')\n",
    "plt.plot(x,y,linestyle='solid',color='blue',label=\"STD\")\n",
    "plt.xlabel(\"Trigger\",labelpad=15)\n",
    "plt.ylabel(\"STD\",labelpad=15)\n",
    "plt.legend(fontsize=14)\n",
    "plt.show()"
   ]
  },
  {
   "cell_type": "code",
   "execution_count": null,
   "id": "0ed91aeb",
   "metadata": {
    "id": "7wQP-q-XnVp-"
   },
   "outputs": [],
   "source": []
  }
 ],
 "metadata": {
  "kernelspec": {
   "display_name": "Python 3",
   "language": "python",
   "name": "python3"
  }
 },
 "nbformat": 4,
 "nbformat_minor": 5
}
