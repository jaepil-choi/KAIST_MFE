{
 "cells": [
  {
   "cell_type": "markdown",
   "metadata": {},
   "source": [
    "# 거래소에서 option data 가져와보기\n",
    "\n",
    "- daily snapshot으로 전 행사가, 전 만기를 가져올 수 있어 좋다. 데이터 양이 너무 많다는 것이 문제라면 문제 \n",
    "- 너무 많이 요청했을 때 차단 당한다. \n",
    "    - 차단 안당하게 충분히 sleep 넣어주고, retry도 multiplier 높여주기. \n",
    "    - 카이스트 ip 차단 방지하기 위해 피씨방에 돈 충전하고 크롤링은 parsec으로 원격으로 돌리기. \n",
    "- 차단/중단시 그동안 한거라도 건지기 위해 계속 h5로 append, copy하여 저장. "
   ]
  },
  {
   "cell_type": "code",
   "execution_count": 2,
   "metadata": {},
   "outputs": [],
   "source": [
    "import pandas as pd\n",
    "import numpy as np\n",
    "\n",
    "import matplotlib.pyplot as plt\n",
    "import seaborn as sns\n",
    "\n",
    "import time\n",
    "from datetime import datetime, timedelta\n",
    "from zoneinfo import ZoneInfo  # Python 3.9 이상\n",
    "\n",
    "from typing import List, Tuple \n",
    "from tqdm import tqdm\n",
    "\n",
    "import requests"
   ]
  },
  {
   "cell_type": "code",
   "execution_count": 3,
   "metadata": {},
   "outputs": [],
   "source": [
    "from pathlib import Path\n",
    "\n",
    "CWD_PATH = Path.cwd()\n",
    "DATA_PATH = CWD_PATH / 'data'\n",
    "BACKUP_PATH = CWD_PATH / 'backup'\n",
    "OUTPUT_PATH = CWD_PATH / 'output'"
   ]
  },
  {
   "cell_type": "code",
   "execution_count": 4,
   "metadata": {},
   "outputs": [
    {
     "data": {
      "text/plain": [
       "WindowsPath('c:/Users/chlje/VSCodeProjects/KAIST_MFE/BAF645파생거래전략/final_hw')"
      ]
     },
     "execution_count": 4,
     "metadata": {},
     "output_type": "execute_result"
    }
   ],
   "source": [
    "CWD_PATH"
   ]
  },
  {
   "cell_type": "code",
   "execution_count": 5,
   "metadata": {},
   "outputs": [],
   "source": [
    "## custom libs\n",
    "\n",
    "from krx_config import (\n",
    "API_URL, \n",
    "HEADERS, \n",
    "PAYLOAD_TEMPLATE, \n",
    "PAYLOAD_OPTION_HOME, \n",
    "HEADERS_OPTION_HOME, \n",
    "PAYLOAD_TEMPLATE2,\n",
    "H5_SCHEMA,\n",
    ")"
   ]
  },
  {
   "cell_type": "markdown",
   "metadata": {},
   "source": [
    "## Scraping code "
   ]
  },
  {
   "cell_type": "code",
   "execution_count": 6,
   "metadata": {},
   "outputs": [],
   "source": [
    "# main.py\n",
    "\n",
    "import requests\n",
    "import pandas as pd\n",
    "from datetime import datetime, timedelta\n",
    "import time\n",
    "from typing import List\n",
    "from tqdm import tqdm\n",
    "import h5py\n",
    "import os\n",
    "import shutil\n",
    "from requests.adapters import HTTPAdapter\n",
    "from urllib3.util.retry import Retry\n",
    "\n",
    "from zoneinfo import ZoneInfo  # Python 3.9 이상\n",
    "\n",
    "# Import configurations\n",
    "from krx_config import API_URL, HEADERS, PAYLOAD_TEMPLATE\n",
    "\n",
    "\n",
    "\n",
    "# Constants for backup\n",
    "BACKUP_INTERVAL = 10  # Backup after every 100 successful scrapes\n",
    "H5_FILE = DATA_PATH / \"krx_option_data.h5\"\n",
    "\n",
    "def generate_date_range(start_date: str, end_date: str) -> List[str]: \n",
    "    \"\"\"\n",
    "    종료일(end_date)부터 시작일(start_date)까지의 비주말(평일) 날짜를 YYYYMMDD 형식으로 반환합니다.\n",
    "    날짜는 한국 서울 시간대 기준입니다.\n",
    "\n",
    "    Args:\n",
    "        start_date (str): 시작 날짜 ('YYYY-MM-DD' 형식).\n",
    "        end_date (str): 종료 날짜 ('YYYY-MM-DD' 형식).\n",
    "\n",
    "    Returns:\n",
    "        List[str]: 내림차순으로 정렬된 비주말 날짜 리스트 ('YYYYMMDD' 형식).\n",
    "    \"\"\"\n",
    "    tz = ZoneInfo('Asia/Seoul')\n",
    "    start = datetime.strptime(start_date, \"%Y-%m-%d\").replace(tzinfo=tz)\n",
    "    end = datetime.strptime(end_date, \"%Y-%m-%d\").replace(tzinfo=tz)\n",
    "    delta = end - start\n",
    "    date_list = []\n",
    "    for i in range(delta.days + 1):\n",
    "        current_date = end - timedelta(days=i)\n",
    "        if current_date.weekday() < 5:  # 0-4는 월요일~금요일\n",
    "            date_list.append(current_date.strftime(\"%Y%m%d\"))\n",
    "    return date_list\n",
    "\n",
    "def setup_session() -> requests.Session:\n",
    "    \"\"\"\n",
    "    Sets up a requests session with headers and retry strategy.\n",
    "    \"\"\"\n",
    "    session = requests.Session()\n",
    "    session.headers.update(HEADERS)\n",
    "    \n",
    "    retry_strategy = Retry(\n",
    "        total=3,\n",
    "        status_forcelist=[400, 429, 500, 502, 503, 504],\n",
    "        # method_whitelist=[\"POST\"], # Deprecated\n",
    "        allowed_methods=[\"POST\"],\n",
    "        backoff_factor=1000 # 1000s * 2^0 = 1000s = 16m 40s 기다리고, \n",
    "        # 1000s * 2^1 = 2000s = 33m 20s 기다리고, 1000s * 2^2 = 4000s = 1시간 6분 40초 기다림\n",
    "    )\n",
    "    adapter = HTTPAdapter(max_retries=retry_strategy)\n",
    "    session.mount(\"http://\", adapter)\n",
    "    session.mount(\"https://\", adapter)\n",
    "    \n",
    "    return session\n",
    "\n",
    "def fetch_option_data(session: requests.Session, trade_date: str) -> pd.DataFrame:\n",
    "    \"\"\"\n",
    "    Fetches option data for a specific trade date.\n",
    "    \"\"\"\n",
    "    payload = PAYLOAD_TEMPLATE.copy()\n",
    "    payload[\"trdDd\"] = trade_date\n",
    "\n",
    "    response = session.post(API_URL, data=payload)\n",
    "    response.raise_for_status()\n",
    "\n",
    "    data = response.json()\n",
    "\n",
    "    if \"output\" not in data:\n",
    "        return pd.DataFrame()\n",
    "\n",
    "    return pd.DataFrame(data[\"output\"])\n",
    "\n",
    "from pathlib import Path\n",
    "import pandas as pd\n",
    "\n",
    "def save_data_h5(df: pd.DataFrame, filename: str, schema: dict):\n",
    "    # Enforce schema: cast object columns to string\n",
    "    for col, (dtype, _) in schema.items():\n",
    "        if dtype == 'object':\n",
    "            df[col] = df[col].astype(str)\n",
    "\n",
    "    # Prepare min_itemsize mapping\n",
    "    min_itemsize = {col: max_len for col, (dtype, max_len) in schema.items() if dtype == 'object'}\n",
    "\n",
    "    # Update min_itemsize if file exists\n",
    "    if Path(filename).exists():\n",
    "        with pd.HDFStore(filename, 'r') as store:\n",
    "            if 'option_data' in store:\n",
    "                storer = store.get_storer('option_data')\n",
    "                for col in min_itemsize:\n",
    "                    if col in storer.min_itemsize:\n",
    "                        min_itemsize[col] = max(min_itemsize[col], storer.min_itemsize[col])\n",
    "\n",
    "    # Append DataFrame\n",
    "    with pd.HDFStore(filename, 'a') as store:\n",
    "        store.append('option_data', df, format='table', data_columns=True, min_itemsize=min_itemsize)\n",
    "\n",
    "\n",
    "def backup_h5_file(source: str, backup_path: Path):\n",
    "    \"\"\"\n",
    "    Copies the HDF5 file to the backup directory with a timestamp.\n",
    "    \"\"\"\n",
    "    timestamp = datetime.now().strftime(\"%Y%m%d%H%M%S\")\n",
    "    backup_path = BACKUP_PATH / f\"krx_option_data_backup_{timestamp}.h5\"\n",
    "    shutil.copy(source, backup_path)\n",
    "    print(f\"Backup created at {backup_path}\")\n",
    "\n",
    "def scrape_krx_option_data(start_date: str, end_date: str) -> None:\n",
    "    \"\"\"\n",
    "    Scrapes KRX option data between start_date and end_date and saves to HDF5.\n",
    "    Implements retry and backup strategies.\n",
    "    \"\"\"\n",
    "    dates = generate_date_range(start_date, end_date)\n",
    "    success_count = 0\n",
    "\n",
    "    session = setup_session()\n",
    "    \n",
    "    for date in tqdm(dates, desc=\"Fetching data\"):\n",
    "        try:\n",
    "            daily_data = fetch_option_data(session, date)\n",
    "            if not daily_data.empty:\n",
    "                daily_data['Trade_Date'] = pd.to_datetime(date, format='%Y%m%d')\n",
    "                save_data_h5(daily_data, H5_FILE, H5_SCHEMA)\n",
    "                success_count += 1\n",
    "                \n",
    "                if success_count % BACKUP_INTERVAL == 0:\n",
    "                    backup_h5_file(H5_FILE, BACKUP_PATH)\n",
    "            \n",
    "            time.sleep(10)  # Delay to mimic human behavior\n",
    "        \n",
    "        \n",
    "        except requests.HTTPError as http_err: # 이미 Retry에서 처리되므로, 별로 필요 없음\n",
    "            print(f\"HTTP error for date {date}: {http_err}\")\n",
    "            time.sleep(100)  # Wait before retrying\n",
    "        except Exception as err:\n",
    "            print(f\"Error for date {date}: {err}\")\n",
    "            time.sleep(100)  # Wait before continuing\n",
    "    \n",
    "    # Final backup after completion\n",
    "    backup_h5_file(H5_FILE, BACKUP_PATH)\n"
   ]
  },
  {
   "cell_type": "code",
   "execution_count": null,
   "metadata": {},
   "outputs": [],
   "source": []
  },
  {
   "cell_type": "code",
   "execution_count": 7,
   "metadata": {},
   "outputs": [],
   "source": [
    "start = '2024-12-02'\n",
    "end = '2024-12-04'"
   ]
  },
  {
   "cell_type": "code",
   "execution_count": 8,
   "metadata": {},
   "outputs": [
    {
     "data": {
      "text/plain": [
       "['20241204', '20241203', '20241202']"
      ]
     },
     "execution_count": 8,
     "metadata": {},
     "output_type": "execute_result"
    }
   ],
   "source": [
    "generate_date_range(start, end)"
   ]
  },
  {
   "cell_type": "code",
   "execution_count": null,
   "metadata": {},
   "outputs": [],
   "source": [
    "# with requests.Session() as session:\n",
    "#     session.headers.update(HEADERS)\n",
    "    \n",
    "#     payload = PAYLOAD_TEMPLATE.copy()\n",
    "#     payload[\"trdDd\"] = '20241202'\n",
    "\n",
    "#     response = session.post(API_URL, data=payload)\n",
    "#     response.raise_for_status()\n",
    "#     data = response.json()"
   ]
  },
  {
   "cell_type": "code",
   "execution_count": null,
   "metadata": {},
   "outputs": [
    {
     "data": {
      "text/html": [
       "<div>\n",
       "<style scoped>\n",
       "    .dataframe tbody tr th:only-of-type {\n",
       "        vertical-align: middle;\n",
       "    }\n",
       "\n",
       "    .dataframe tbody tr th {\n",
       "        vertical-align: top;\n",
       "    }\n",
       "\n",
       "    .dataframe thead th {\n",
       "        text-align: right;\n",
       "    }\n",
       "</style>\n",
       "<table border=\"1\" class=\"dataframe\">\n",
       "  <thead>\n",
       "    <tr style=\"text-align: right;\">\n",
       "      <th></th>\n",
       "      <th>ISU_CD</th>\n",
       "      <th>ISU_SRT_CD</th>\n",
       "      <th>ISU_NM</th>\n",
       "      <th>TDD_CLSPRC</th>\n",
       "      <th>FLUC_TP_CD</th>\n",
       "      <th>CMPPREVDD_PRC</th>\n",
       "      <th>TDD_OPNPRC</th>\n",
       "      <th>TDD_HGPRC</th>\n",
       "      <th>TDD_LWPRC</th>\n",
       "      <th>IMP_VOLT</th>\n",
       "      <th>NXTDD_BAS_PRC</th>\n",
       "      <th>ACC_TRDVOL</th>\n",
       "      <th>ACC_TRDVAL</th>\n",
       "      <th>ACC_OPNINT_QTY</th>\n",
       "      <th>SECUGRP_ID</th>\n",
       "    </tr>\n",
       "  </thead>\n",
       "  <tbody>\n",
       "    <tr>\n",
       "      <th>0</th>\n",
       "      <td>KR4239VC0561</td>\n",
       "      <td>239VC056</td>\n",
       "      <td>HD한국조선 C 202412    84,000(  10)</td>\n",
       "      <td>-</td>\n",
       "      <td>0</td>\n",
       "      <td>-</td>\n",
       "      <td>-</td>\n",
       "      <td>-</td>\n",
       "      <td>-</td>\n",
       "      <td>47.30</td>\n",
       "      <td>111,600.00</td>\n",
       "      <td>0</td>\n",
       "      <td>0</td>\n",
       "      <td>0</td>\n",
       "      <td>OP</td>\n",
       "    </tr>\n",
       "  </tbody>\n",
       "</table>\n",
       "</div>"
      ],
      "text/plain": [
       "         ISU_CD ISU_SRT_CD                           ISU_NM TDD_CLSPRC  \\\n",
       "0  KR4239VC0561   239VC056  HD한국조선 C 202412    84,000(  10)          -   \n",
       "\n",
       "  FLUC_TP_CD CMPPREVDD_PRC TDD_OPNPRC TDD_HGPRC TDD_LWPRC IMP_VOLT  \\\n",
       "0          0             -          -         -         -    47.30   \n",
       "\n",
       "  NXTDD_BAS_PRC ACC_TRDVOL ACC_TRDVAL ACC_OPNINT_QTY SECUGRP_ID  \n",
       "0    111,600.00          0          0              0         OP  "
      ]
     },
     "execution_count": 12,
     "metadata": {},
     "output_type": "execute_result"
    }
   ],
   "source": [
    "# dd = pd.DataFrame(data['output'])\n",
    "# dd.head(1)"
   ]
  },
  {
   "cell_type": "code",
   "execution_count": null,
   "metadata": {},
   "outputs": [
    {
     "data": {
      "text/plain": [
       "Index(['ISU_CD', 'ISU_SRT_CD', 'ISU_NM', 'TDD_CLSPRC', 'FLUC_TP_CD',\n",
       "       'CMPPREVDD_PRC', 'TDD_OPNPRC', 'TDD_HGPRC', 'TDD_LWPRC', 'IMP_VOLT',\n",
       "       'NXTDD_BAS_PRC', 'ACC_TRDVOL', 'ACC_TRDVAL', 'ACC_OPNINT_QTY',\n",
       "       'SECUGRP_ID'],\n",
       "      dtype='object')"
      ]
     },
     "execution_count": 13,
     "metadata": {},
     "output_type": "execute_result"
    }
   ],
   "source": [
    "# dd.columns"
   ]
  },
  {
   "cell_type": "code",
   "execution_count": null,
   "metadata": {},
   "outputs": [
    {
     "name": "stdout",
     "output_type": "stream",
     "text": [
      "<class 'pandas.core.frame.DataFrame'>\n",
      "RangeIndex: 9280 entries, 0 to 9279\n",
      "Data columns (total 15 columns):\n",
      " #   Column          Non-Null Count  Dtype \n",
      "---  ------          --------------  ----- \n",
      " 0   ISU_CD          9280 non-null   object\n",
      " 1   ISU_SRT_CD      9280 non-null   object\n",
      " 2   ISU_NM          9280 non-null   object\n",
      " 3   TDD_CLSPRC      9280 non-null   object\n",
      " 4   FLUC_TP_CD      9280 non-null   object\n",
      " 5   CMPPREVDD_PRC   9280 non-null   object\n",
      " 6   TDD_OPNPRC      9280 non-null   object\n",
      " 7   TDD_HGPRC       9280 non-null   object\n",
      " 8   TDD_LWPRC       9280 non-null   object\n",
      " 9   IMP_VOLT        9280 non-null   object\n",
      " 10  NXTDD_BAS_PRC   9280 non-null   object\n",
      " 11  ACC_TRDVOL      9280 non-null   object\n",
      " 12  ACC_TRDVAL      9280 non-null   object\n",
      " 13  ACC_OPNINT_QTY  9280 non-null   object\n",
      " 14  SECUGRP_ID      9280 non-null   object\n",
      "dtypes: object(15)\n",
      "memory usage: 1.1+ MB\n"
     ]
    }
   ],
   "source": [
    "# dd.info()"
   ]
  },
  {
   "cell_type": "code",
   "execution_count": 9,
   "metadata": {},
   "outputs": [
    {
     "data": {
      "text/plain": [
       "{'ISU_CD': ('object', 22),\n",
       " 'ISU_SRT_CD': ('object', 18),\n",
       " 'ISU_NM': ('object', 36),\n",
       " 'TDD_CLSPRC': ('object', 11),\n",
       " 'FLUC_TP_CD': ('object', 11),\n",
       " 'CMPPREVDD_PRC': ('object', 11),\n",
       " 'TDD_OPNPRC': ('object', 11),\n",
       " 'TDD_HGPRC': ('object', 11),\n",
       " 'TDD_LWPRC': ('object', 11),\n",
       " 'IMP_VOLT': ('object', 15),\n",
       " 'NXTDD_BAS_PRC': ('object', 20),\n",
       " 'ACC_TRDVOL': ('object', 11),\n",
       " 'ACC_TRDVAL': ('object', 11),\n",
       " 'ACC_OPNINT_QTY': ('object', 11),\n",
       " 'SECUGRP_ID': ('object', 12)}"
      ]
     },
     "execution_count": 9,
     "metadata": {},
     "output_type": "execute_result"
    }
   ],
   "source": [
    "H5_SCHEMA"
   ]
  },
  {
   "cell_type": "code",
   "execution_count": null,
   "metadata": {},
   "outputs": [
    {
     "name": "stderr",
     "output_type": "stream",
     "text": [
      "Fetching data:   0%|          | 0/3 [00:00<?, ?it/s]"
     ]
    },
    {
     "name": "stdout",
     "output_type": "stream",
     "text": [
      "Error for date 20241204: Trying to store a string with len [22] in [ISU_CD] column but\n",
      "this column has a limit of [12]!\n",
      "Consider using min_itemsize to preset the sizes on these columns\n"
     ]
    }
   ],
   "source": [
    "scrape_krx_option_data(start, end)"
   ]
  },
  {
   "cell_type": "code",
   "execution_count": null,
   "metadata": {},
   "outputs": [],
   "source": []
  }
 ],
 "metadata": {
  "kernelspec": {
   "display_name": ".venv",
   "language": "python",
   "name": "python3"
  },
  "language_info": {
   "codemirror_mode": {
    "name": "ipython",
    "version": 3
   },
   "file_extension": ".py",
   "mimetype": "text/x-python",
   "name": "python",
   "nbconvert_exporter": "python",
   "pygments_lexer": "ipython3",
   "version": "3.11.5"
  }
 },
 "nbformat": 4,
 "nbformat_minor": 2
}
