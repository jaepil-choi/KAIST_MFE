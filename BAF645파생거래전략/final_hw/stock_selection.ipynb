{
 "cells": [
  {
   "cell_type": "markdown",
   "id": "06148532",
   "metadata": {},
   "source": [
    "# 종목 확인"
   ]
  },
  {
   "cell_type": "code",
   "execution_count": null,
   "id": "540fff1d",
   "metadata": {
    "lines_to_next_cell": 2
   },
   "outputs": [],
   "source": [
    "import pandas as pd\n",
    "import numpy as np\n",
    "\n",
    "import matplotlib.pyplot as plt\n",
    "import seaborn as sns\n",
    "import plotly.express as px\n",
    "import plotly.graph_objects as go\n",
    "\n",
    "from pathlib import Path\n",
    "\n",
    "from tqdm import tqdm\n",
    "\n",
    "\n",
    "plt.rc('font', family='Malgun Gothic')"
   ]
  },
  {
   "cell_type": "code",
   "execution_count": null,
   "id": "0953f293",
   "metadata": {},
   "outputs": [],
   "source": [
    "CWD_PATH = Path.cwd()\n",
    "DATA_PATH = CWD_PATH / 'data'\n",
    "OUTPUT_PATH = CWD_PATH / 'output'"
   ]
  },
  {
   "cell_type": "code",
   "execution_count": null,
   "id": "8b7c97e2",
   "metadata": {},
   "outputs": [],
   "source": [
    "data_df = pd.read_parquet(OUTPUT_PATH / 'option_data_targets_20220101-20241204.parquet')"
   ]
  },
  {
   "cell_type": "code",
   "execution_count": null,
   "id": "52feab9b",
   "metadata": {},
   "outputs": [],
   "source": [
    "udly_cols = [\n",
    "    'trade_date',\n",
    "    'underlying_full',\n",
    "    # 'udly_open',\n",
    "    # 'udly_high',\n",
    "    # 'udly_low',\n",
    "    # 'udly_close',\n",
    "    # 'udly_volume',\n",
    "    'udly_return',   \n",
    "]"
   ]
  },
  {
   "cell_type": "code",
   "execution_count": null,
   "id": "eafc3823",
   "metadata": {},
   "outputs": [],
   "source": [
    "data_df = data_df[udly_cols].drop_duplicates().sort_values('trade_date').reset_index(drop=True)"
   ]
  },
  {
   "cell_type": "code",
   "execution_count": null,
   "id": "abbbefa7",
   "metadata": {},
   "outputs": [],
   "source": [
    "data_df = data_df.pivot_table(index='trade_date', columns='underlying_full', values='udly_return')\n",
    "# data_df = data_df.pivot_table(index='trade_date', columns='underlying_full', values='udly_close')"
   ]
  },
  {
   "cell_type": "code",
   "execution_count": null,
   "id": "a82773bf",
   "metadata": {},
   "outputs": [],
   "source": [
    "# relative_price = data_df / data_df.iloc[0]\n",
    "# relative_price.plot(figsize=(20, 10))"
   ]
  },
  {
   "cell_type": "code",
   "execution_count": null,
   "id": "87ad17d9",
   "metadata": {},
   "outputs": [],
   "source": [
    "VOL_WINDOW = 126 # 6 months\n",
    "\n",
    "vol_df = data_df.rolling(window=VOL_WINDOW).std() * np.sqrt(252) # annualized"
   ]
  },
  {
   "cell_type": "code",
   "execution_count": null,
   "id": "dc447624",
   "metadata": {},
   "outputs": [],
   "source": [
    "START_DATE = '2024-05-02'\n",
    "\n",
    "vol_df = vol_df.loc[START_DATE:, :]"
   ]
  },
  {
   "cell_type": "code",
   "execution_count": null,
   "id": "5eafe5ef",
   "metadata": {},
   "outputs": [],
   "source": [
    "vol_df.columns"
   ]
  },
  {
   "cell_type": "code",
   "execution_count": null,
   "id": "b191d452",
   "metadata": {},
   "outputs": [],
   "source": [
    "# 6개월 데이터 없는 놈들 drop \n",
    "\n",
    "MAX_NAN_ALLOWED = 10\n",
    "\n",
    "vol_df = vol_df.dropna(thresh=len(vol_df) - MAX_NAN_ALLOWED, axis=1)\n",
    "\n",
    "relative_vol_df = vol_df / vol_df.iloc[0]"
   ]
  },
  {
   "cell_type": "code",
   "execution_count": null,
   "id": "9f35a9a8",
   "metadata": {
    "lines_to_next_cell": 2
   },
   "outputs": [],
   "source": [
    "# Melt the dataframe for easier plotting in Plotly\n",
    "melted_df = relative_vol_df.reset_index().melt(id_vars=relative_vol_df.index.name, var_name='Stock', value_name='Price')\n",
    "melted_df.rename(columns={'index': 'Date'}, inplace=True)"
   ]
  },
  {
   "cell_type": "code",
   "execution_count": null,
   "id": "9ad4577c",
   "metadata": {},
   "outputs": [],
   "source": [
    "melted_df"
   ]
  },
  {
   "cell_type": "code",
   "execution_count": null,
   "id": "e4ce4467",
   "metadata": {},
   "outputs": [],
   "source": [
    "plt.figure(figsize=(12, 6))\n",
    "\n",
    "for stock in melted_df['Stock'].unique():\n",
    "    stock_data = melted_df[melted_df['Stock'] == stock]\n",
    "    plt.plot(stock_data['trade_date'], stock_data['Price'], label=stock)\n",
    "\n",
    "# Customize the plot\n",
    "plt.title('120일 변동성 비교')\n",
    "plt.xlabel('날짜')\n",
    "plt.ylabel('주가')\n",
    "plt.legend(title='주식명')\n",
    "plt.grid()\n",
    "\n",
    "plt.show()"
   ]
  },
  {
   "cell_type": "code",
   "execution_count": null,
   "id": "0315841a",
   "metadata": {
    "lines_to_next_cell": 2
   },
   "outputs": [],
   "source": [
    "current_vol_rank = vol_df.iloc[-1].sort_values(ascending=False)\n",
    "current_vol_rank = pd.DataFrame(current_vol_rank).reset_index()\n",
    "current_vol_rank.columns = ['Stock', '120d vol']\n",
    "current_vol_rank['rank'] = current_vol_rank['120d vol'].rank(ascending=False)\n",
    "current_vol_rank"
   ]
  },
  {
   "cell_type": "code",
   "execution_count": null,
   "id": "102f86cd",
   "metadata": {},
   "outputs": [],
   "source": [
    "vol_valid_stocks = vol_df.columns"
   ]
  },
  {
   "cell_type": "code",
   "execution_count": null,
   "id": "47f29b5d",
   "metadata": {},
   "outputs": [],
   "source": [
    "ret_df = data_df.loc[START_DATE:, :]\n",
    "\n",
    "ret_df = ret_df[vol_valid_stocks]\n",
    "\n",
    "cumret_df = (1 + ret_df).cumprod()"
   ]
  },
  {
   "cell_type": "code",
   "execution_count": null,
   "id": "7b914385",
   "metadata": {},
   "outputs": [],
   "source": [
    "def plot_regression_trends(price_data):\n",
    "    plt.figure(figsize=(12, 6))\n",
    "\n",
    "    for stock_id in price_data.columns:\n",
    "        prices = price_data[stock_id]\n",
    "        x = np.arange(len(prices))  # x-axis as sequential integers for regression\n",
    "        \n",
    "        # Fit a linear regression model (y = mx + b)\n",
    "        m, b = np.polyfit(x, prices, 1)\n",
    "        \n",
    "        # Generate regression line\n",
    "        trend_line = m * x + b\n",
    "        \n",
    "        # Plot original prices and regression trend\n",
    "        plt.plot(price_data.index, prices, marker='o', alpha=0.3)\n",
    "        plt.plot(price_data.index, trend_line, linestyle='-', label=f'{stock_id} 기울기* = {1000 * m:.2f}')\n",
    "\n",
    "    # Customize the plot\n",
    "    plt.title('주가 추이 비교')\n",
    "    plt.xlabel('Date')\n",
    "    plt.ylabel('Price')\n",
    "    plt.legend()\n",
    "    plt.grid()\n",
    "    \n",
    "    plt.figtext(0.5, 0.01, \"* 기울기는 1000배 scale 되었습니다.\", ha=\"center\", fontsize=10)\n",
    "\n",
    "    # Show the plot\n",
    "    plt.show()\n",
    "\n",
    "# Call the function with the price data\n",
    "plot_regression_trends(cumret_df)"
   ]
  },
  {
   "cell_type": "code",
   "execution_count": null,
   "id": "afa5c71e",
   "metadata": {
    "lines_to_next_cell": 2
   },
   "outputs": [],
   "source": [
    "import pandas as pd\n",
    "import numpy as np\n",
    "\n",
    "# Calculate the slope for each stock in cumret_df\n",
    "def calculate_slopes(price_data):\n",
    "    slopes = {}\n",
    "    for stock_id in price_data.columns:\n",
    "        prices = price_data[stock_id]\n",
    "        x = np.arange(len(prices))  # x-axis as sequential integers for regression\n",
    "        m, _ = np.polyfit(x, prices, 1)  # Only need the slope (m)\n",
    "        slopes[stock_id] = m\n",
    "    return slopes\n",
    "\n",
    "# Get slopes and create a DataFrame with ranks\n",
    "slopes = calculate_slopes(cumret_df)\n",
    "slopes_df = pd.DataFrame.from_dict(slopes, orient='index', columns=['Slope'])\n",
    "slopes_df['Rank'] = slopes_df['Slope'].rank(ascending=False).astype(int)\n",
    "\n",
    "# Sort the DataFrame by rank\n",
    "slopes_df = slopes_df.sort_values(by='Rank')\n",
    "\n",
    "slopes_df.reset_index(inplace=True)\n",
    "slopes_df"
   ]
  },
  {
   "cell_type": "code",
   "execution_count": null,
   "id": "5b6cba9c",
   "metadata": {},
   "outputs": [],
   "source": [
    "agg_rank = pd.merge(current_vol_rank, slopes_df, left_on='Stock', right_on='index', how='inner')\n",
    "agg_rank.drop(columns='index', inplace=True)"
   ]
  },
  {
   "cell_type": "code",
   "execution_count": null,
   "id": "ecb328ef",
   "metadata": {},
   "outputs": [],
   "source": [
    "agg_rank['high_vol?'] = agg_rank['120d vol'] > agg_rank['120d vol'].median()\n",
    "agg_rank['high_slope?'] = agg_rank['Slope'] > agg_rank['Slope'].median()"
   ]
  },
  {
   "cell_type": "code",
   "execution_count": null,
   "id": "37acebf6",
   "metadata": {},
   "outputs": [],
   "source": [
    "agg_rank['vol_slope_case'] = agg_rank['high_vol?'].astype(int) * 2 + agg_rank['high_slope?'].astype(int)"
   ]
  },
  {
   "cell_type": "code",
   "execution_count": null,
   "id": "60205a1f",
   "metadata": {},
   "outputs": [],
   "source": [
    "agg_rank.sort_values('vol_slope_case', ascending=False)"
   ]
  },
  {
   "cell_type": "code",
   "execution_count": null,
   "id": "f65afb97",
   "metadata": {},
   "outputs": [],
   "source": [
    "df = agg_rank\n",
    "\n",
    "df['Slope'] = 1000 * df['Slope']  # Scale the slope for better visualization\n",
    "\n",
    "# Calculate medians for \"120d vol\" and \"Slope\"\n",
    "median_vol = df[\"120d vol\"].median()\n",
    "median_slope = df[\"Slope\"].median()\n",
    "\n",
    "# Adjusting the font size and fixing the x-axis range\n",
    "plt.figure(figsize=(8, 6))\n",
    "plt.scatter(df[\"120d vol\"], df[\"Slope\"], color=\"blue\", label=\"Stocks\")\n",
    "\n",
    "# Add labels to points with increased font size\n",
    "for i, stock in enumerate(df[\"Stock\"]):\n",
    "    plt.text(df[\"120d vol\"][i], df[\"Slope\"][i], stock, fontsize=18, ha=\"right\")\n",
    "\n",
    "# Add median lines\n",
    "plt.axvline(median_vol, color=\"red\", linestyle=\"--\", label=\"Median 120d vol\")\n",
    "plt.axhline(median_slope, color=\"green\", linestyle=\"--\", label=\"Median Slope\")\n",
    "\n",
    "# Customize the plot with larger font sizes and fixed x-axis range\n",
    "plt.title(\"120d Volatility vs Slope\", fontsize=20)\n",
    "plt.xlabel(\"120d Volatility\", fontsize=16)\n",
    "plt.ylabel(\"Slope\", fontsize=16)\n",
    "plt.xticks(fontsize=14)\n",
    "plt.yticks(fontsize=14)\n",
    "plt.legend(fontsize=14)\n",
    "plt.grid(alpha=0.5)\n",
    "plt.xlim(0.25, 0.45)  # Fix x-axis range\n",
    "\n",
    "# Show plot\n",
    "plt.show()"
   ]
  },
  {
   "cell_type": "code",
   "execution_count": null,
   "id": "57d9c411",
   "metadata": {},
   "outputs": [],
   "source": [
    "SELECTION = [\n",
    "    '삼성전자',\n",
    "    '현대모비스',\n",
    "    'NAVER',\n",
    "    '카카오'\n",
    "]"
   ]
  },
  {
   "cell_type": "code",
   "execution_count": null,
   "id": "2f9309b4",
   "metadata": {},
   "outputs": [],
   "source": [
    "cumret_df[SELECTION].plot(figsize=(12, 6), title='선정된 종목들의 주가 추이 (상대가격)')"
   ]
  },
  {
   "cell_type": "code",
   "execution_count": null,
   "id": "703bba8a",
   "metadata": {},
   "outputs": [],
   "source": [
    "start_vol = vol_df[SELECTION].iloc[0] # annualized\n",
    "start_vol.round(2)"
   ]
  },
  {
   "cell_type": "code",
   "execution_count": null,
   "id": "8e94e2b9",
   "metadata": {},
   "outputs": [],
   "source": [
    "end_vol = vol_df[SELECTION].iloc[-1]\n",
    "end_vol.round(2)"
   ]
  },
  {
   "cell_type": "code",
   "execution_count": null,
   "id": "82d12c88",
   "metadata": {},
   "outputs": [],
   "source": []
  }
 ],
 "metadata": {
  "kernelspec": {
   "display_name": ".venv",
   "language": "python",
   "name": "python3"
  }
 },
 "nbformat": 4,
 "nbformat_minor": 5
}
