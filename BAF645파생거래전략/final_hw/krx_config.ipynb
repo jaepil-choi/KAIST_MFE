{
 "cells": [
  {
   "cell_type": "code",
   "execution_count": null,
   "id": "24229283",
   "metadata": {},
   "outputs": [],
   "source": [
    "# Constants\n",
    "API_URL = \"http://data.krx.co.kr/comm/bldAttendant/getJsonData.cmd\"\n",
    "HEADERS = {\n",
    "    \"User-Agent\": \"Mozilla/5.0 (Windows NT 10.0; Win64; x64) \"\n",
    "                  \"AppleWebKit/537.36 (KHTML, like Gecko) \"\n",
    "                  \"Chrome/131.0.0.0 Safari/537.36\",\n",
    "    \"Accept\": \"*/*\",\n",
    "    \"Accept-Language\": \"en-US,en;q=0.9,ko-KR;q=0.8,ko;q=0.7\",\n",
    "    \"Content-Type\": \"application/x-www-form-urlencoded\",\n",
    "    \"Origin\": \"http://data.krx.co.kr\",\n",
    "    \"Referer\": \"http://data.krx.co.kr/contents/MMC/ISIF/isif/MMCISIF011.cmd\",\n",
    "    \"Connection\": \"keep-alive\",\n",
    "}"
   ]
  },
  {
   "cell_type": "code",
   "execution_count": null,
   "id": "d7e435f5",
   "metadata": {},
   "outputs": [],
   "source": [
    "PAYLOAD_TEMPLATE = {\n",
    "    \"bld\": \"dbms/MDC/STAT/standard/MDCSTAT12502\",\n",
    "    \"prodId02\": \"KRDRVOPEQU\", \n",
    "    \"prodId\": \"KRDRVOPEQU\",\n",
    "    \"ulyId\": \"KRDRVOPEQU\",\n",
    "    \"rghtTpCd\": \"T\",\n",
    "    \"trdDd\": \"\",  # To be filled with date in YYYYMMDD format\n",
    "    \"idxIndMidclssCd\": \"01\"\n",
    "}"
   ]
  },
  {
   "cell_type": "code",
   "execution_count": null,
   "id": "0e2f7a52",
   "metadata": {
    "lines_to_next_cell": 2
   },
   "outputs": [],
   "source": [
    "HEADERS_OPTION_HOME = {\n",
    "    \"User-Agent\": \"Mozilla/5.0 (Windows NT 10.0; Win64; x64) \"\n",
    "                  \"AppleWebKit/537.36 (KHTML, like Gecko) \"\n",
    "                  \"Chrome/131.0.0.0 Safari/537.36\",\n",
    "    \"Accept\": \"*/*\",\n",
    "    \"Accept-Language\": \"en-US,en;q=0.9,ko-KR;q=0.8,ko;q=0.7\",\n",
    "    \"Content-Type\": \"application/x-www-form-urlencoded\",\n",
    "    \"Origin\": \"http://data.krx.co.kr\",\n",
    "    \"Referer\": \"http://data.krx.co.kr/contents/MMC/ISIF/isif/MMCISIF011.cmd\",\n",
    "    \"Connection\": \"keep-alive\",\n",
    "}"
   ]
  },
  {
   "cell_type": "code",
   "execution_count": null,
   "id": "ed3f4f2a",
   "metadata": {},
   "outputs": [],
   "source": [
    "PAYLOAD_OPTION_HOME = {\n",
    "    \"locale\": \"ko_KR\",\n",
    "    \"trdDd\": \"20241206\",\n",
    "    \"prodId\": \"KRDRVOPEQU\",\n",
    "    \"ulyId\": \"\",\n",
    "    \"trdDdBox1\": \"20241206\",\n",
    "    \"trdDdBox2\": \"20241206\",\n",
    "    \"mktTpCd\": \"T\",\n",
    "    \"rghtTpCd\": \"T\",\n",
    "    \"share\": 1,\n",
    "    \"money\": 3,\n",
    "    \"csvxls_isNo\": False,\n",
    "    \"bld\": \"/dbms/comm/component/drv_clss11\"\n",
    "}"
   ]
  },
  {
   "cell_type": "code",
   "execution_count": null,
   "id": "520dd26d",
   "metadata": {},
   "outputs": [],
   "source": [
    "PAYLOAD_TEMPLATE2 = {\n",
    "    \"bld\": \"dbms/MDC/STAT/standard/MDCSTAT12502\",\n",
    "    \"locale\": \"ko_KR\",\n",
    "    \"trdDd\": \"\", # To be filled with date in YYYYMMDD format\n",
    "    \"prodId\": \"KRDRVOPEQU\",\n",
    "    \"ulyId\": \"\", # To be filled with specific underlying ID\n",
    "    \"trdDdBox1\": \"\", # To be filled with date in YYYYMMDD format\n",
    "    \"trdDdBox2\": \"\", # To be filled with date in YYYYMMDD format\n",
    "    \"mktTpCd\": \"T\",\n",
    "    \"rghtTpCd\": \"T\",\n",
    "    \"share\": 1,\n",
    "    \"money\": 3,\n",
    "    \"csvxls_isNo\": False,\n",
    "}"
   ]
  },
  {
   "cell_type": "code",
   "execution_count": null,
   "id": "7f26d2bc",
   "metadata": {},
   "outputs": [],
   "source": [
    "ROOM = 10"
   ]
  },
  {
   "cell_type": "code",
   "execution_count": null,
   "id": "2abaee19",
   "metadata": {
    "lines_to_next_cell": 2
   },
   "outputs": [],
   "source": [
    "# Define schema: column_name: (dtype, max_length)\n",
    "H5_SCHEMA = {\n",
    "    'ISU_CD': ('object', ROOM + 12),          # Base length 12 + ROOM=10 => 22\n",
    "    'ISU_SRT_CD': ('object', ROOM + 8),      # Base length 8 + ROOM=10 => 18\n",
    "    'ISU_NM': ('object', ROOM + 26),         # Base length 26 + ROOM=10 => 36\n",
    "    'TDD_CLSPRC': ('object', ROOM + 1),      # Base length 1 + ROOM=10 => 11\n",
    "    'FLUC_TP_CD': ('object', ROOM + 1),      # Base length 1 + ROOM=10 => 11\n",
    "    'CMPPREVDD_PRC': ('object', ROOM + 1),   # Base length 1 + ROOM=10 => 11\n",
    "    'TDD_OPNPRC': ('object', ROOM + 1),      # Base length 1 + ROOM=10 => 11\n",
    "    'TDD_HGPRC': ('object', ROOM + 1),       # Base length 1 + ROOM=10 => 11\n",
    "    'TDD_LWPRC': ('object', ROOM + 1),       # Base length 1 + ROOM=10 => 11\n",
    "    'IMP_VOLT': ('object', ROOM + 5),        # Base length 5 + ROOM=10 => 15\n",
    "    'NXTDD_BAS_PRC': ('object', ROOM + 10),  # Base length 10 + ROOM=10 => 20\n",
    "    'ACC_TRDVOL': ('object', ROOM + 1),      # Base length 1 + ROOM=10 => 11\n",
    "    'ACC_TRDVAL': ('object', ROOM + 1),      # Base length 1 + ROOM=10 => 11\n",
    "    'ACC_OPNINT_QTY': ('object', ROOM + 1),  # Base length 1 + ROOM=10 => 11\n",
    "    'SECUGRP_ID': ('object', ROOM + 2)       # Base length 2 + ROOM=10 => 12\n",
    "}"
   ]
  },
  {
   "cell_type": "code",
   "execution_count": null,
   "id": "ecf65c87",
   "metadata": {},
   "outputs": [],
   "source": [
    "H5_SCHEMA = {\n",
    "    'ISU_CD': ('object', ROOM + 12),          # Base length 12 + ROOM=10 => 22\n",
    "    'ISU_SRT_CD': ('object', ROOM + 8),      # Base length 8 + ROOM=10 => 18\n",
    "    'ISU_NM': ('object', ROOM + 26),         # Base length 26 + ROOM=10 => 36\n",
    "    'TDD_CLSPRC': ('object', ROOM + 1),      # Base length 1 + ROOM=10 => 11\n",
    "    'FLUC_TP_CD': ('object', ROOM + 1),      # Base length 1 + ROOM=10 => 11\n",
    "    'CMPPREVDD_PRC': ('object', ROOM + 1),   # Base length 1 + ROOM=10 => 11\n",
    "    'TDD_OPNPRC': ('object', ROOM + 1),      # Base length 1 + ROOM=10 => 11\n",
    "    'TDD_HGPRC': ('object', ROOM + 1),       # Base length 1 + ROOM=10 => 11\n",
    "    'TDD_LWPRC': ('object', ROOM + 1),       # Base length 1 + ROOM=10 => 11\n",
    "    'IMP_VOLT': ('object', ROOM + 5),        # Base length 5 + ROOM=10 => 15\n",
    "    'NXTDD_BAS_PRC': ('object', ROOM + 10),  # Base length 10 + ROOM=10 => 20\n",
    "    'ACC_TRDVOL': ('object', ROOM + 1),      # Base length 1 + ROOM=10 => 11\n",
    "    'ACC_TRDVAL': ('object', ROOM + 1),      # Base length 1 + ROOM=10 => 11\n",
    "    'ACC_OPNINT_QTY': ('object', ROOM + 1),  # Base length 1 + ROOM=10 => 11\n",
    "    'SECUGRP_ID': ('object', ROOM + 2)       # Base length 2 + ROOM=10 => 12\n",
    "}"
   ]
  }
 ],
 "metadata": {
  "jupytext": {
   "cell_metadata_filter": "-all",
   "main_language": "python",
   "notebook_metadata_filter": "-all"
  }
 },
 "nbformat": 4,
 "nbformat_minor": 5
}
