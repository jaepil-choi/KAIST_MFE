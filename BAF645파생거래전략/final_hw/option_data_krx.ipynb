{
 "cells": [
  {
   "cell_type": "markdown",
   "metadata": {},
   "source": [
    "# 거래소에서 option data 가져와보기"
   ]
  },
  {
   "cell_type": "code",
   "execution_count": 1,
   "metadata": {},
   "outputs": [],
   "source": [
    "import pandas as pd\n",
    "import numpy as np\n",
    "\n",
    "import matplotlib.pyplot as plt\n",
    "import seaborn as sns\n",
    "\n",
    "import time\n",
    "from datetime import datetime, timedelta\n",
    "\n",
    "from typing import List, Tuple \n",
    "from tqdm import tqdm\n",
    "\n",
    "import requests"
   ]
  },
  {
   "cell_type": "code",
   "execution_count": 2,
   "metadata": {},
   "outputs": [],
   "source": [
    "## custom libs\n",
    "\n",
    "from krx_config import API_URL, HEADERS, PAYLOAD_TEMPLATE"
   ]
  },
  {
   "cell_type": "code",
   "execution_count": 3,
   "metadata": {},
   "outputs": [],
   "source": [
    "def generate_date_range(start_date: str, end_date: str) -> List[str]:\n",
    "    \"\"\"\n",
    "    Generates a list of dates in YYYYMMDD format between start_date and end_date inclusive.\n",
    "\n",
    "    Args:\n",
    "        start_date (str): Start date in 'YYYY-MM-DD' format.\n",
    "        end_date (str): End date in 'YYYY-MM-DD' format.\n",
    "\n",
    "    Returns:\n",
    "        List[str]: List of dates as strings in 'YYYYMMDD' format.\n",
    "    \"\"\"\n",
    "    start = datetime.strptime(start_date, \"%Y-%m-%d\")\n",
    "    end = datetime.strptime(end_date, \"%Y-%m-%d\")\n",
    "    delta = end - start\n",
    "    return [(start + timedelta(days=i)).strftime(\"%Y%m%d\") for i in range(delta.days + 1)]\n",
    "\n",
    "def fetch_option_data(session: requests.Session, trade_date: str) -> pd.DataFrame:\n",
    "    \"\"\"\n",
    "    Fetches option data for a specific trade date.\n",
    "\n",
    "    Args:\n",
    "        session (requests.Session): The requests session with headers set.\n",
    "        trade_date (str): Trade date in 'YYYYMMDD' format.\n",
    "\n",
    "    Returns:\n",
    "        pd.DataFrame: DataFrame containing option data for the trade date.\n",
    "    \"\"\"\n",
    "    payload = PAYLOAD_TEMPLATE.copy()\n",
    "    payload[\"trdDd\"] = trade_date\n",
    "\n",
    "    response = session.post(API_URL, data=payload)\n",
    "    response.raise_for_status()\n",
    "\n",
    "    data = response.json()\n",
    "\n",
    "    if \"output\" not in data:\n",
    "        return pd.DataFrame()\n",
    "\n",
    "    return pd.DataFrame(data[\"output\"])\n",
    "\n",
    "def scrape_krx_option_data(start_date: str, end_date: str) -> pd.DataFrame:\n",
    "    \"\"\"\n",
    "    Scrapes KRX option data between start_date and end_date.\n",
    "\n",
    "    Args:\n",
    "        start_date (str): Start date in 'YYYY-MM-DD' format.\n",
    "        end_date (str): End date in 'YYYY-MM-DD' format.\n",
    "\n",
    "    Returns:\n",
    "        pd.DataFrame: Combined DataFrame containing option data for all dates.\n",
    "    \"\"\"\n",
    "    dates = generate_date_range(start_date, end_date)\n",
    "    all_data = []\n",
    "\n",
    "    with requests.Session() as session:\n",
    "        session.headers.update(HEADERS)\n",
    "        for date in tqdm(dates, desc=\"Fetching data\"):\n",
    "            try:\n",
    "                daily_data = fetch_option_data(session, date)\n",
    "                if not daily_data.empty:\n",
    "                    daily_data['Trade_Date'] = datetime.strptime(date, \"%Y%m%d\").date()\n",
    "                    all_data.append(daily_data)\n",
    "                time.sleep(1)  # Delay to mimic human behavior\n",
    "            except requests.HTTPError as http_err:\n",
    "                print(f\"HTTP error for date {date}: {http_err}\")\n",
    "            except Exception as err:\n",
    "                print(f\"Error for date {date}: {err}\")\n",
    "\n",
    "    if all_data:\n",
    "        return pd.concat(all_data, ignore_index=True)\n",
    "    else:\n",
    "        return pd.DataFrame()\n",
    "\n",
    "def save_to_excel(df: pd.DataFrame, filename: str):\n",
    "    \"\"\"\n",
    "    Saves the DataFrame to an Excel file.\n",
    "\n",
    "    Args:\n",
    "        df (pd.DataFrame): DataFrame to save.\n",
    "        filename (str): Filename for the Excel file.\n",
    "    \"\"\"\n",
    "    df.to_excel(filename, index=False)\n",
    "    print(f\"Data saved to {filename}\")"
   ]
  },
  {
   "cell_type": "code",
   "execution_count": 4,
   "metadata": {},
   "outputs": [],
   "source": [
    "sample_date = '20241204'"
   ]
  },
  {
   "cell_type": "code",
   "execution_count": 5,
   "metadata": {},
   "outputs": [
    {
     "ename": "",
     "evalue": "",
     "output_type": "error",
     "traceback": [
      "\u001b[1;31mCannot execute code, session has been disposed. Please try restarting the Kernel."
     ]
    },
    {
     "ename": "",
     "evalue": "",
     "output_type": "error",
     "traceback": [
      "\u001b[1;31mCannot execute code, session has been disposed. Please try restarting the Kernel. \n",
      "\u001b[1;31mView Jupyter <a href='command:jupyter.viewOutput'>log</a> for further details."
     ]
    }
   ],
   "source": [
    "with requests.Session() as session:\n",
    "    session.headers.update(HEADERS)\n",
    "    payload = PAYLOAD_TEMPLATE.copy()\n",
    "    payload[\"trdDd\"] = sample_date\n",
    "\n",
    "    response = session.post(API_URL, data=payload)"
   ]
  },
  {
   "cell_type": "code",
   "execution_count": null,
   "metadata": {},
   "outputs": [],
   "source": [
    "dd = response.json()"
   ]
  },
  {
   "cell_type": "code",
   "execution_count": 21,
   "metadata": {},
   "outputs": [],
   "source": [
    "START_DATE = '2021-01-01'\n",
    "END_DATE = '2024-12-05'"
   ]
  },
  {
   "cell_type": "code",
   "execution_count": null,
   "metadata": {},
   "outputs": [
    {
     "name": "stderr",
     "output_type": "stream",
     "text": [
      "Fetching data:  37%|███▋      | 524/1435 [37:09<5:12:52, 20.61s/it]"
     ]
    },
    {
     "name": "stdout",
     "output_type": "stream",
     "text": [
      "HTTP error for date 20220608: 400 Client Error: Bad Request for url: http://data.krx.co.kr/comm/bldAttendant/getJsonData.cmd\n"
     ]
    },
    {
     "name": "stderr",
     "output_type": "stream",
     "text": [
      "Fetching data:  37%|███▋      | 525/1435 [38:10<8:16:21, 32.73s/it]"
     ]
    },
    {
     "name": "stdout",
     "output_type": "stream",
     "text": [
      "HTTP error for date 20220609: 400 Client Error: Bad Request for url: http://data.krx.co.kr/comm/bldAttendant/getJsonData.cmd\n"
     ]
    },
    {
     "name": "stderr",
     "output_type": "stream",
     "text": [
      "Fetching data:  37%|███▋      | 526/1435 [39:11<10:24:23, 41.21s/it]"
     ]
    },
    {
     "name": "stdout",
     "output_type": "stream",
     "text": [
      "HTTP error for date 20220610: 400 Client Error: Bad Request for url: http://data.krx.co.kr/comm/bldAttendant/getJsonData.cmd\n"
     ]
    },
    {
     "name": "stderr",
     "output_type": "stream",
     "text": [
      "Fetching data:  37%|███▋      | 529/1435 [40:14<8:13:36, 32.69s/it] "
     ]
    },
    {
     "name": "stdout",
     "output_type": "stream",
     "text": [
      "HTTP error for date 20220613: 400 Client Error: Bad Request for url: http://data.krx.co.kr/comm/bldAttendant/getJsonData.cmd\n"
     ]
    },
    {
     "name": "stderr",
     "output_type": "stream",
     "text": [
      "Fetching data:  37%|███▋      | 530/1435 [41:15<10:21:12, 41.18s/it]"
     ]
    },
    {
     "name": "stdout",
     "output_type": "stream",
     "text": [
      "HTTP error for date 20220614: 400 Client Error: Bad Request for url: http://data.krx.co.kr/comm/bldAttendant/getJsonData.cmd\n"
     ]
    },
    {
     "name": "stderr",
     "output_type": "stream",
     "text": [
      "Fetching data:  37%|███▋      | 531/1435 [42:16<11:50:06, 47.13s/it]"
     ]
    },
    {
     "name": "stdout",
     "output_type": "stream",
     "text": [
      "HTTP error for date 20220615: 400 Client Error: Bad Request for url: http://data.krx.co.kr/comm/bldAttendant/getJsonData.cmd\n"
     ]
    },
    {
     "name": "stderr",
     "output_type": "stream",
     "text": [
      "Fetching data:  37%|███▋      | 532/1435 [43:17<12:52:03, 51.30s/it]"
     ]
    },
    {
     "name": "stdout",
     "output_type": "stream",
     "text": [
      "HTTP error for date 20220616: 400 Client Error: Bad Request for url: http://data.krx.co.kr/comm/bldAttendant/getJsonData.cmd\n"
     ]
    },
    {
     "name": "stderr",
     "output_type": "stream",
     "text": [
      "Fetching data:  37%|███▋      | 533/1435 [44:18<13:34:56, 54.21s/it]"
     ]
    },
    {
     "name": "stdout",
     "output_type": "stream",
     "text": [
      "HTTP error for date 20220617: 400 Client Error: Bad Request for url: http://data.krx.co.kr/comm/bldAttendant/getJsonData.cmd\n"
     ]
    },
    {
     "name": "stderr",
     "output_type": "stream",
     "text": [
      "Fetching data:  37%|███▋      | 536/1435 [45:21<9:16:40, 37.15s/it] "
     ]
    },
    {
     "name": "stdout",
     "output_type": "stream",
     "text": [
      "HTTP error for date 20220620: 400 Client Error: Bad Request for url: http://data.krx.co.kr/comm/bldAttendant/getJsonData.cmd\n"
     ]
    },
    {
     "name": "stderr",
     "output_type": "stream",
     "text": [
      "Fetching data:  37%|███▋      | 537/1435 [46:22<11:03:08, 44.31s/it]"
     ]
    },
    {
     "name": "stdout",
     "output_type": "stream",
     "text": [
      "HTTP error for date 20220621: 400 Client Error: Bad Request for url: http://data.krx.co.kr/comm/bldAttendant/getJsonData.cmd\n"
     ]
    },
    {
     "name": "stderr",
     "output_type": "stream",
     "text": [
      "Fetching data:  37%|███▋      | 538/1435 [47:23<12:17:18, 49.32s/it]"
     ]
    },
    {
     "name": "stdout",
     "output_type": "stream",
     "text": [
      "HTTP error for date 20220622: 400 Client Error: Bad Request for url: http://data.krx.co.kr/comm/bldAttendant/getJsonData.cmd\n"
     ]
    },
    {
     "name": "stderr",
     "output_type": "stream",
     "text": [
      "Fetching data:  38%|███▊      | 539/1435 [48:24<13:08:49, 52.82s/it]"
     ]
    },
    {
     "name": "stdout",
     "output_type": "stream",
     "text": [
      "HTTP error for date 20220623: 400 Client Error: Bad Request for url: http://data.krx.co.kr/comm/bldAttendant/getJsonData.cmd\n"
     ]
    },
    {
     "name": "stderr",
     "output_type": "stream",
     "text": [
      "Fetching data:  38%|███▊      | 540/1435 [49:25<13:44:33, 55.28s/it]"
     ]
    },
    {
     "name": "stdout",
     "output_type": "stream",
     "text": [
      "HTTP error for date 20220624: 400 Client Error: Bad Request for url: http://data.krx.co.kr/comm/bldAttendant/getJsonData.cmd\n"
     ]
    },
    {
     "name": "stderr",
     "output_type": "stream",
     "text": [
      "Fetching data:  38%|███▊      | 543/1435 [50:28<9:18:03, 37.54s/it] "
     ]
    },
    {
     "name": "stdout",
     "output_type": "stream",
     "text": [
      "HTTP error for date 20220627: 400 Client Error: Bad Request for url: http://data.krx.co.kr/comm/bldAttendant/getJsonData.cmd\n"
     ]
    },
    {
     "name": "stderr",
     "output_type": "stream",
     "text": [
      "Fetching data:  38%|███▊      | 544/1435 [51:29<11:01:45, 44.56s/it]"
     ]
    },
    {
     "name": "stdout",
     "output_type": "stream",
     "text": [
      "HTTP error for date 20220628: 400 Client Error: Bad Request for url: http://data.krx.co.kr/comm/bldAttendant/getJsonData.cmd\n"
     ]
    },
    {
     "name": "stderr",
     "output_type": "stream",
     "text": [
      "Fetching data:  38%|███▊      | 545/1435 [52:30<12:14:15, 49.50s/it]"
     ]
    },
    {
     "name": "stdout",
     "output_type": "stream",
     "text": [
      "HTTP error for date 20220629: 400 Client Error: Bad Request for url: http://data.krx.co.kr/comm/bldAttendant/getJsonData.cmd\n"
     ]
    },
    {
     "name": "stderr",
     "output_type": "stream",
     "text": [
      "Fetching data:  38%|███▊      | 546/1435 [53:31<13:04:42, 52.96s/it]"
     ]
    },
    {
     "name": "stdout",
     "output_type": "stream",
     "text": [
      "HTTP error for date 20220630: 400 Client Error: Bad Request for url: http://data.krx.co.kr/comm/bldAttendant/getJsonData.cmd\n"
     ]
    },
    {
     "name": "stderr",
     "output_type": "stream",
     "text": [
      "Fetching data:  38%|███▊      | 547/1435 [54:32<13:39:24, 55.37s/it]"
     ]
    },
    {
     "name": "stdout",
     "output_type": "stream",
     "text": [
      "HTTP error for date 20220701: 400 Client Error: Bad Request for url: http://data.krx.co.kr/comm/bldAttendant/getJsonData.cmd\n"
     ]
    },
    {
     "name": "stderr",
     "output_type": "stream",
     "text": [
      "Fetching data:  38%|███▊      | 550/1435 [55:36<9:17:21, 37.79s/it] "
     ]
    },
    {
     "name": "stdout",
     "output_type": "stream",
     "text": [
      "HTTP error for date 20220704: 400 Client Error: Bad Request for url: http://data.krx.co.kr/comm/bldAttendant/getJsonData.cmd\n"
     ]
    },
    {
     "name": "stderr",
     "output_type": "stream",
     "text": [
      "Fetching data:  38%|███▊      | 551/1435 [56:37<10:59:22, 44.75s/it]"
     ]
    },
    {
     "name": "stdout",
     "output_type": "stream",
     "text": [
      "HTTP error for date 20220705: 400 Client Error: Bad Request for url: http://data.krx.co.kr/comm/bldAttendant/getJsonData.cmd\n"
     ]
    },
    {
     "name": "stderr",
     "output_type": "stream",
     "text": [
      "Fetching data:  38%|███▊      | 552/1435 [57:38<12:10:20, 49.63s/it]"
     ]
    },
    {
     "name": "stdout",
     "output_type": "stream",
     "text": [
      "HTTP error for date 20220706: 400 Client Error: Bad Request for url: http://data.krx.co.kr/comm/bldAttendant/getJsonData.cmd\n"
     ]
    },
    {
     "name": "stderr",
     "output_type": "stream",
     "text": [
      "Fetching data:  39%|███▊      | 553/1435 [58:39<12:59:42, 53.04s/it]"
     ]
    },
    {
     "name": "stdout",
     "output_type": "stream",
     "text": [
      "HTTP error for date 20220707: 400 Client Error: Bad Request for url: http://data.krx.co.kr/comm/bldAttendant/getJsonData.cmd\n"
     ]
    },
    {
     "name": "stderr",
     "output_type": "stream",
     "text": [
      "Fetching data:  39%|███▊      | 554/1435 [59:40<13:33:58, 55.44s/it]"
     ]
    },
    {
     "name": "stdout",
     "output_type": "stream",
     "text": [
      "HTTP error for date 20220708: 400 Client Error: Bad Request for url: http://data.krx.co.kr/comm/bldAttendant/getJsonData.cmd\n"
     ]
    },
    {
     "name": "stderr",
     "output_type": "stream",
     "text": [
      "Fetching data:  39%|███▉      | 557/1435 [1:00:43<9:09:52, 37.58s/it]"
     ]
    },
    {
     "name": "stdout",
     "output_type": "stream",
     "text": [
      "HTTP error for date 20220711: 400 Client Error: Bad Request for url: http://data.krx.co.kr/comm/bldAttendant/getJsonData.cmd\n"
     ]
    },
    {
     "name": "stderr",
     "output_type": "stream",
     "text": [
      "Fetching data:  39%|███▉      | 558/1435 [1:01:44<10:51:55, 44.60s/it]"
     ]
    },
    {
     "name": "stdout",
     "output_type": "stream",
     "text": [
      "HTTP error for date 20220712: 400 Client Error: Bad Request for url: http://data.krx.co.kr/comm/bldAttendant/getJsonData.cmd\n"
     ]
    },
    {
     "name": "stderr",
     "output_type": "stream",
     "text": [
      "Fetching data:  39%|███▉      | 559/1435 [1:02:45<12:03:02, 49.52s/it]"
     ]
    },
    {
     "name": "stdout",
     "output_type": "stream",
     "text": [
      "HTTP error for date 20220713: 400 Client Error: Bad Request for url: http://data.krx.co.kr/comm/bldAttendant/getJsonData.cmd\n"
     ]
    },
    {
     "name": "stderr",
     "output_type": "stream",
     "text": [
      "Fetching data:  39%|███▉      | 560/1435 [1:03:46<12:52:27, 52.97s/it]"
     ]
    },
    {
     "name": "stdout",
     "output_type": "stream",
     "text": [
      "HTTP error for date 20220714: 400 Client Error: Bad Request for url: http://data.krx.co.kr/comm/bldAttendant/getJsonData.cmd\n"
     ]
    },
    {
     "name": "stderr",
     "output_type": "stream",
     "text": [
      "Fetching data:  39%|███▉      | 561/1435 [1:04:47<13:26:41, 55.38s/it]"
     ]
    },
    {
     "name": "stdout",
     "output_type": "stream",
     "text": [
      "HTTP error for date 20220715: 400 Client Error: Bad Request for url: http://data.krx.co.kr/comm/bldAttendant/getJsonData.cmd\n"
     ]
    },
    {
     "name": "stderr",
     "output_type": "stream",
     "text": [
      "Fetching data:  39%|███▉      | 564/1435 [1:05:50<9:05:15, 37.56s/it] "
     ]
    },
    {
     "name": "stdout",
     "output_type": "stream",
     "text": [
      "HTTP error for date 20220718: 400 Client Error: Bad Request for url: http://data.krx.co.kr/comm/bldAttendant/getJsonData.cmd\n"
     ]
    },
    {
     "name": "stderr",
     "output_type": "stream",
     "text": [
      "Fetching data:  39%|███▉      | 565/1435 [1:06:51<10:46:37, 44.59s/it]"
     ]
    },
    {
     "name": "stdout",
     "output_type": "stream",
     "text": [
      "HTTP error for date 20220719: 400 Client Error: Bad Request for url: http://data.krx.co.kr/comm/bldAttendant/getJsonData.cmd\n"
     ]
    },
    {
     "name": "stderr",
     "output_type": "stream",
     "text": [
      "Fetching data:  39%|███▉      | 566/1435 [1:07:52<11:57:13, 49.52s/it]"
     ]
    },
    {
     "name": "stdout",
     "output_type": "stream",
     "text": [
      "HTTP error for date 20220720: 400 Client Error: Bad Request for url: http://data.krx.co.kr/comm/bldAttendant/getJsonData.cmd\n"
     ]
    },
    {
     "name": "stderr",
     "output_type": "stream",
     "text": [
      "Fetching data:  40%|███▉      | 567/1435 [1:08:53<12:46:14, 52.97s/it]"
     ]
    },
    {
     "name": "stdout",
     "output_type": "stream",
     "text": [
      "HTTP error for date 20220721: 400 Client Error: Bad Request for url: http://data.krx.co.kr/comm/bldAttendant/getJsonData.cmd\n"
     ]
    },
    {
     "name": "stderr",
     "output_type": "stream",
     "text": [
      "Fetching data:  40%|███▉      | 568/1435 [1:09:54<13:20:12, 55.38s/it]"
     ]
    },
    {
     "name": "stdout",
     "output_type": "stream",
     "text": [
      "HTTP error for date 20220722: 400 Client Error: Bad Request for url: http://data.krx.co.kr/comm/bldAttendant/getJsonData.cmd\n"
     ]
    },
    {
     "name": "stderr",
     "output_type": "stream",
     "text": [
      "Fetching data:  40%|███▉      | 571/1435 [1:10:57<9:00:52, 37.56s/it] "
     ]
    },
    {
     "name": "stdout",
     "output_type": "stream",
     "text": [
      "HTTP error for date 20220725: 400 Client Error: Bad Request for url: http://data.krx.co.kr/comm/bldAttendant/getJsonData.cmd\n"
     ]
    },
    {
     "name": "stderr",
     "output_type": "stream",
     "text": [
      "Fetching data:  40%|███▉      | 572/1435 [1:11:58<10:41:26, 44.60s/it]"
     ]
    },
    {
     "name": "stdout",
     "output_type": "stream",
     "text": [
      "HTTP error for date 20220726: 400 Client Error: Bad Request for url: http://data.krx.co.kr/comm/bldAttendant/getJsonData.cmd\n"
     ]
    },
    {
     "name": "stderr",
     "output_type": "stream",
     "text": [
      "Fetching data:  40%|███▉      | 573/1435 [1:12:59<11:51:26, 49.52s/it]"
     ]
    },
    {
     "name": "stdout",
     "output_type": "stream",
     "text": [
      "HTTP error for date 20220727: 400 Client Error: Bad Request for url: http://data.krx.co.kr/comm/bldAttendant/getJsonData.cmd\n"
     ]
    },
    {
     "name": "stderr",
     "output_type": "stream",
     "text": [
      "Fetching data:  40%|████      | 574/1435 [1:14:00<12:40:01, 52.96s/it]"
     ]
    },
    {
     "name": "stdout",
     "output_type": "stream",
     "text": [
      "HTTP error for date 20220728: 400 Client Error: Bad Request for url: http://data.krx.co.kr/comm/bldAttendant/getJsonData.cmd\n"
     ]
    },
    {
     "name": "stderr",
     "output_type": "stream",
     "text": [
      "Fetching data:  40%|████      | 575/1435 [1:15:01<13:13:42, 55.38s/it]"
     ]
    },
    {
     "name": "stdout",
     "output_type": "stream",
     "text": [
      "HTTP error for date 20220729: 400 Client Error: Bad Request for url: http://data.krx.co.kr/comm/bldAttendant/getJsonData.cmd\n"
     ]
    },
    {
     "name": "stderr",
     "output_type": "stream",
     "text": [
      "Fetching data:  40%|████      | 578/1435 [1:16:04<8:57:15, 37.61s/it] "
     ]
    },
    {
     "name": "stdout",
     "output_type": "stream",
     "text": [
      "HTTP error for date 20220801: 400 Client Error: Bad Request for url: http://data.krx.co.kr/comm/bldAttendant/getJsonData.cmd\n"
     ]
    },
    {
     "name": "stderr",
     "output_type": "stream",
     "text": [
      "Fetching data:  40%|████      | 579/1435 [1:17:05<10:36:44, 44.63s/it]"
     ]
    },
    {
     "name": "stdout",
     "output_type": "stream",
     "text": [
      "HTTP error for date 20220802: 400 Client Error: Bad Request for url: http://data.krx.co.kr/comm/bldAttendant/getJsonData.cmd\n"
     ]
    },
    {
     "name": "stderr",
     "output_type": "stream",
     "text": [
      "Fetching data:  40%|████      | 580/1435 [1:18:06<11:45:59, 49.54s/it]"
     ]
    },
    {
     "name": "stdout",
     "output_type": "stream",
     "text": [
      "HTTP error for date 20220803: 400 Client Error: Bad Request for url: http://data.krx.co.kr/comm/bldAttendant/getJsonData.cmd\n"
     ]
    },
    {
     "name": "stderr",
     "output_type": "stream",
     "text": [
      "Fetching data:  40%|████      | 581/1435 [1:19:07<12:34:08, 52.98s/it]"
     ]
    },
    {
     "name": "stdout",
     "output_type": "stream",
     "text": [
      "HTTP error for date 20220804: 400 Client Error: Bad Request for url: http://data.krx.co.kr/comm/bldAttendant/getJsonData.cmd\n"
     ]
    },
    {
     "name": "stderr",
     "output_type": "stream",
     "text": [
      "Fetching data:  41%|████      | 582/1435 [1:20:08<13:07:26, 55.39s/it]"
     ]
    },
    {
     "name": "stdout",
     "output_type": "stream",
     "text": [
      "HTTP error for date 20220805: 400 Client Error: Bad Request for url: http://data.krx.co.kr/comm/bldAttendant/getJsonData.cmd\n"
     ]
    },
    {
     "name": "stderr",
     "output_type": "stream",
     "text": [
      "Fetching data:  41%|████      | 585/1435 [1:21:12<8:55:48, 37.82s/it] "
     ]
    },
    {
     "name": "stdout",
     "output_type": "stream",
     "text": [
      "HTTP error for date 20220808: 400 Client Error: Bad Request for url: http://data.krx.co.kr/comm/bldAttendant/getJsonData.cmd\n"
     ]
    },
    {
     "name": "stderr",
     "output_type": "stream",
     "text": [
      "Fetching data:  41%|████      | 586/1435 [1:22:13<10:33:36, 44.78s/it]"
     ]
    },
    {
     "name": "stdout",
     "output_type": "stream",
     "text": [
      "HTTP error for date 20220809: 400 Client Error: Bad Request for url: http://data.krx.co.kr/comm/bldAttendant/getJsonData.cmd\n"
     ]
    },
    {
     "name": "stderr",
     "output_type": "stream",
     "text": [
      "Fetching data:  41%|████      | 587/1435 [1:23:14<11:41:39, 49.65s/it]"
     ]
    },
    {
     "name": "stdout",
     "output_type": "stream",
     "text": [
      "HTTP error for date 20220810: 400 Client Error: Bad Request for url: http://data.krx.co.kr/comm/bldAttendant/getJsonData.cmd\n"
     ]
    },
    {
     "name": "stderr",
     "output_type": "stream",
     "text": [
      "Fetching data:  41%|████      | 588/1435 [1:24:15<12:28:55, 53.05s/it]"
     ]
    },
    {
     "name": "stdout",
     "output_type": "stream",
     "text": [
      "HTTP error for date 20220811: 400 Client Error: Bad Request for url: http://data.krx.co.kr/comm/bldAttendant/getJsonData.cmd\n"
     ]
    },
    {
     "name": "stderr",
     "output_type": "stream",
     "text": [
      "Fetching data:  41%|████      | 589/1435 [1:25:16<13:01:46, 55.45s/it]"
     ]
    },
    {
     "name": "stdout",
     "output_type": "stream",
     "text": [
      "HTTP error for date 20220812: 400 Client Error: Bad Request for url: http://data.krx.co.kr/comm/bldAttendant/getJsonData.cmd\n"
     ]
    },
    {
     "name": "stderr",
     "output_type": "stream",
     "text": [
      "Fetching data:  41%|████▏     | 593/1435 [1:26:21<7:32:01, 32.21s/it] "
     ]
    },
    {
     "name": "stdout",
     "output_type": "stream",
     "text": [
      "HTTP error for date 20220816: 400 Client Error: Bad Request for url: http://data.krx.co.kr/comm/bldAttendant/getJsonData.cmd\n"
     ]
    },
    {
     "name": "stderr",
     "output_type": "stream",
     "text": [
      "Fetching data:  41%|████▏     | 594/1435 [1:27:22<9:32:33, 40.85s/it]"
     ]
    },
    {
     "name": "stdout",
     "output_type": "stream",
     "text": [
      "HTTP error for date 20220817: 400 Client Error: Bad Request for url: http://data.krx.co.kr/comm/bldAttendant/getJsonData.cmd\n"
     ]
    },
    {
     "name": "stderr",
     "output_type": "stream",
     "text": [
      "Fetching data:  41%|████▏     | 595/1435 [1:28:23<10:56:32, 46.90s/it]"
     ]
    },
    {
     "name": "stdout",
     "output_type": "stream",
     "text": [
      "HTTP error for date 20220818: 400 Client Error: Bad Request for url: http://data.krx.co.kr/comm/bldAttendant/getJsonData.cmd\n"
     ]
    },
    {
     "name": "stderr",
     "output_type": "stream",
     "text": [
      "Fetching data:  42%|████▏     | 596/1435 [1:29:24<11:54:57, 51.13s/it]"
     ]
    },
    {
     "name": "stdout",
     "output_type": "stream",
     "text": [
      "HTTP error for date 20220819: 400 Client Error: Bad Request for url: http://data.krx.co.kr/comm/bldAttendant/getJsonData.cmd\n"
     ]
    },
    {
     "name": "stderr",
     "output_type": "stream",
     "text": [
      "Fetching data:  42%|████▏     | 599/1435 [1:30:27<8:23:08, 36.11s/it] "
     ]
    },
    {
     "name": "stdout",
     "output_type": "stream",
     "text": [
      "HTTP error for date 20220822: 400 Client Error: Bad Request for url: http://data.krx.co.kr/comm/bldAttendant/getJsonData.cmd\n"
     ]
    },
    {
     "name": "stderr",
     "output_type": "stream",
     "text": [
      "Fetching data:  42%|████▏     | 600/1435 [1:31:28<10:06:24, 43.57s/it]"
     ]
    },
    {
     "name": "stdout",
     "output_type": "stream",
     "text": [
      "HTTP error for date 20220823: 400 Client Error: Bad Request for url: http://data.krx.co.kr/comm/bldAttendant/getJsonData.cmd\n"
     ]
    },
    {
     "name": "stderr",
     "output_type": "stream",
     "text": [
      "Fetching data:  42%|████▏     | 601/1435 [1:32:29<11:18:24, 48.81s/it]"
     ]
    },
    {
     "name": "stdout",
     "output_type": "stream",
     "text": [
      "HTTP error for date 20220824: 400 Client Error: Bad Request for url: http://data.krx.co.kr/comm/bldAttendant/getJsonData.cmd\n"
     ]
    },
    {
     "name": "stderr",
     "output_type": "stream",
     "text": [
      "Fetching data:  42%|████▏     | 602/1435 [1:33:30<12:08:23, 52.46s/it]"
     ]
    },
    {
     "name": "stdout",
     "output_type": "stream",
     "text": [
      "HTTP error for date 20220825: 400 Client Error: Bad Request for url: http://data.krx.co.kr/comm/bldAttendant/getJsonData.cmd\n"
     ]
    },
    {
     "name": "stderr",
     "output_type": "stream",
     "text": [
      "Fetching data:  42%|████▏     | 603/1435 [1:34:31<12:43:04, 55.03s/it]"
     ]
    },
    {
     "name": "stdout",
     "output_type": "stream",
     "text": [
      "HTTP error for date 20220826: 400 Client Error: Bad Request for url: http://data.krx.co.kr/comm/bldAttendant/getJsonData.cmd\n"
     ]
    },
    {
     "name": "stderr",
     "output_type": "stream",
     "text": [
      "Fetching data:  42%|████▏     | 606/1435 [1:35:34<8:37:14, 37.44s/it] "
     ]
    },
    {
     "name": "stdout",
     "output_type": "stream",
     "text": [
      "HTTP error for date 20220829: 400 Client Error: Bad Request for url: http://data.krx.co.kr/comm/bldAttendant/getJsonData.cmd\n"
     ]
    }
   ],
   "source": [
    "option_data_df = scrape_krx_option_data(START_DATE, END_DATE)"
   ]
  },
  {
   "cell_type": "code",
   "execution_count": null,
   "metadata": {},
   "outputs": [],
   "source": []
  },
  {
   "cell_type": "code",
   "execution_count": null,
   "metadata": {},
   "outputs": [],
   "source": []
  }
 ],
 "metadata": {
  "kernelspec": {
   "display_name": ".venv",
   "language": "python",
   "name": "python3"
  },
  "language_info": {
   "codemirror_mode": {
    "name": "ipython",
    "version": 3
   },
   "file_extension": ".py",
   "mimetype": "text/x-python",
   "name": "python",
   "nbconvert_exporter": "python",
   "pygments_lexer": "ipython3",
   "version": "3.11.5"
  }
 },
 "nbformat": 4,
 "nbformat_minor": 2
}
