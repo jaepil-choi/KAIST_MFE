{
 "cells": [
  {
   "cell_type": "markdown",
   "metadata": {},
   "source": [
    "# 거래소에서 option data 가져와보기"
   ]
  },
  {
   "cell_type": "code",
   "execution_count": 1,
   "metadata": {},
   "outputs": [],
   "source": [
    "import pandas as pd\n",
    "import numpy as np\n",
    "\n",
    "import matplotlib.pyplot as plt\n",
    "import seaborn as sns\n",
    "\n",
    "import time\n",
    "from datetime import datetime, timedelta\n",
    "from zoneinfo import ZoneInfo  # Python 3.9 이상\n",
    "\n",
    "from typing import List, Tuple \n",
    "from tqdm import tqdm\n",
    "\n",
    "import requests"
   ]
  },
  {
   "cell_type": "code",
   "execution_count": 2,
   "metadata": {},
   "outputs": [],
   "source": [
    "from pathlib import Path\n",
    "\n",
    "CWD_PATH = Path.cwd()\n",
    "DATA_PATH = CWD_PATH / 'data'\n",
    "BACKUP_PATH = CWD_PATH / 'backup'\n",
    "OUTPUT_PATH = CWD_PATH / 'output'"
   ]
  },
  {
   "cell_type": "code",
   "execution_count": 3,
   "metadata": {},
   "outputs": [
    {
     "data": {
      "text/plain": [
       "WindowsPath('c:/Users/chlje/VSCodeProjects/KAIST_MFE/BAF645파생거래전략/final_hw')"
      ]
     },
     "execution_count": 3,
     "metadata": {},
     "output_type": "execute_result"
    }
   ],
   "source": [
    "CWD_PATH"
   ]
  },
  {
   "cell_type": "code",
   "execution_count": 4,
   "metadata": {},
   "outputs": [],
   "source": [
    "## custom libs\n",
    "\n",
    "from krx_config import API_URL, HEADERS, PAYLOAD_TEMPLATE, PAYLOAD_OPTION_HOME, HEADERS_OPTION_HOME, PAYLOAD_TEMPLATE2"
   ]
  },
  {
   "cell_type": "markdown",
   "metadata": {},
   "source": [
    "## API scraping code"
   ]
  },
  {
   "cell_type": "markdown",
   "metadata": {},
   "source": [
    "### Prompt 1\n",
    "\n",
    "I need to write code to scrape data from KRX(한국거래소) website. The website uses POST to get daily snapshot of all the options traded on that day. \n",
    "\n",
    "Below is the information for its endpint (getJsonData.cmd) and what are in the headers and what the payload is and what the response looks like. \n",
    "\n",
    "Write Python code that takes start date and end date as an input and iteratively get the option price data from the api. \n",
    "\n",
    "You should make the requests to look like human by setting web browser user-agent and other stuff that can be detected by site admin. \n",
    "\n",
    "Although, you don't have to use dynamic scraping like selenium because as you can see, we're communicating with an API in restful way, with POST method. \n",
    "\n",
    "When you write the code, make the code modular and keep the function document as simple as possible. Never make verbose docstring that can bloat the code with unnecessary details. \n",
    "\n",
    "Below are the information that you need to write the correct API call scraper. "
   ]
  },
  {
   "cell_type": "code",
   "execution_count": 5,
   "metadata": {},
   "outputs": [],
   "source": [
    "def generate_date_range(start_date: str, end_date: str) -> List[str]: \n",
    "    \"\"\"\n",
    "    종료일(end_date)부터 시작일(start_date)까지의 비주말(평일) 날짜를 YYYYMMDD 형식으로 반환합니다.\n",
    "    날짜는 한국 서울 시간대 기준입니다.\n",
    "\n",
    "    Args:\n",
    "        start_date (str): 시작 날짜 ('YYYY-MM-DD' 형식).\n",
    "        end_date (str): 종료 날짜 ('YYYY-MM-DD' 형식).\n",
    "\n",
    "    Returns:\n",
    "        List[str]: 내림차순으로 정렬된 비주말 날짜 리스트 ('YYYYMMDD' 형식).\n",
    "    \"\"\"\n",
    "    tz = ZoneInfo('Asia/Seoul')\n",
    "    start = datetime.strptime(start_date, \"%Y-%m-%d\").replace(tzinfo=tz)\n",
    "    end = datetime.strptime(end_date, \"%Y-%m-%d\").replace(tzinfo=tz)\n",
    "    delta = end - start\n",
    "    date_list = []\n",
    "    for i in range(delta.days + 1):\n",
    "        current_date = end - timedelta(days=i)\n",
    "        if current_date.weekday() < 5:  # 0-4는 월요일~금요일\n",
    "            date_list.append(current_date.strftime(\"%Y%m%d\"))\n",
    "    return date_list\n",
    "\n",
    "def fetch_option_data(session: requests.Session, trade_date: str) -> pd.DataFrame:\n",
    "    \"\"\"\n",
    "    Fetches option data for a specific trade date.\n",
    "\n",
    "    Args:\n",
    "        session (requests.Session): The requests session with headers set.\n",
    "        trade_date (str): Trade date in 'YYYYMMDD' format.\n",
    "\n",
    "    Returns:\n",
    "        pd.DataFrame: DataFrame containing option data for the trade date.\n",
    "    \"\"\"\n",
    "    payload = PAYLOAD_TEMPLATE.copy()\n",
    "    payload[\"trdDd\"] = trade_date\n",
    "\n",
    "    response = session.post(API_URL, data=payload)\n",
    "    response.raise_for_status()\n",
    "\n",
    "    data = response.json()\n",
    "\n",
    "    if \"output\" not in data:\n",
    "        return pd.DataFrame()\n",
    "\n",
    "    return pd.DataFrame(data[\"output\"])\n",
    "\n",
    "def scrape_krx_option_data(start_date: str, end_date: str) -> pd.DataFrame:\n",
    "    \"\"\"\n",
    "    Scrapes KRX option data between start_date and end_date.\n",
    "\n",
    "    Args:\n",
    "        start_date (str): Start date in 'YYYY-MM-DD' format.\n",
    "        end_date (str): End date in 'YYYY-MM-DD' format.\n",
    "\n",
    "    Returns:\n",
    "        pd.DataFrame: Combined DataFrame containing option data for all dates.\n",
    "    \"\"\"\n",
    "    dates = generate_date_range(start_date, end_date)\n",
    "    all_data = []\n",
    "\n",
    "    with requests.Session() as session:\n",
    "        session.headers.update(HEADERS)\n",
    "        for date in tqdm(dates, desc=\"Fetching data\"):\n",
    "            try:\n",
    "                daily_data = fetch_option_data(session, date)\n",
    "                if not daily_data.empty:\n",
    "                    daily_data['Trade_Date'] = datetime.strptime(date, \"%Y%m%d\").date()\n",
    "                    all_data.append(daily_data)\n",
    "                time.sleep(1)  # Delay to mimic human behavior\n",
    "            except requests.HTTPError as http_err:\n",
    "                print(f\"HTTP error for date {date}: {http_err}\")\n",
    "            except Exception as err:\n",
    "                print(f\"Error for date {date}: {err}\")\n",
    "\n",
    "    if all_data:\n",
    "        return pd.concat(all_data, ignore_index=True)\n",
    "    else:\n",
    "        return pd.DataFrame()\n",
    "\n",
    "def save_to_excel(df: pd.DataFrame, filename: str):\n",
    "    \"\"\"\n",
    "    Saves the DataFrame to an Excel file.\n",
    "\n",
    "    Args:\n",
    "        df (pd.DataFrame): DataFrame to save.\n",
    "        filename (str): Filename for the Excel file.\n",
    "    \"\"\"\n",
    "    df.to_excel(filename, index=False)\n",
    "    print(f\"Data saved to {filename}\")"
   ]
  },
  {
   "cell_type": "code",
   "execution_count": 6,
   "metadata": {},
   "outputs": [],
   "source": [
    "sample_date = '20241204'"
   ]
  },
  {
   "cell_type": "code",
   "execution_count": 7,
   "metadata": {},
   "outputs": [],
   "source": [
    "# with requests.Session() as session:\n",
    "#     session.headers.update(HEADERS)\n",
    "#     payload = PAYLOAD_TEMPLATE.copy()\n",
    "#     payload[\"trdDd\"] = sample_date\n",
    "\n",
    "#     response = session.post(API_URL, data=payload)"
   ]
  },
  {
   "cell_type": "code",
   "execution_count": 8,
   "metadata": {},
   "outputs": [],
   "source": [
    "# response.content"
   ]
  },
  {
   "cell_type": "code",
   "execution_count": 9,
   "metadata": {},
   "outputs": [],
   "source": [
    "# dd = response.json()"
   ]
  },
  {
   "cell_type": "markdown",
   "metadata": {},
   "source": [
    "거래소 주식 옵션 전체로 조회하는거 막혔음. 나만 막힌게 아니고 전부. \n",
    "\n",
    "하지만 개별 underlying 종목을 설정해서 조회할 경우 불러올 수 있음. 딱 1년치만 불러오자. \n"
   ]
  },
  {
   "cell_type": "markdown",
   "metadata": {},
   "source": [
    "### 개별 주식 옵션 데이터 불러오기 테스트"
   ]
  },
  {
   "cell_type": "markdown",
   "metadata": {},
   "source": [
    "또 막힐 수 있으니까 일단 삼성만 1년치 불러오고 나머지는 다시 하는걸로? "
   ]
  },
  {
   "cell_type": "code",
   "execution_count": 10,
   "metadata": {},
   "outputs": [],
   "source": [
    "# 거래소 주식 옵션 종목들 조회 \n",
    "\n",
    "with requests.Session() as session:\n",
    "    session.headers.update(HEADERS_OPTION_HOME)\n",
    "    payload = PAYLOAD_OPTION_HOME.copy()\n",
    "    response = session.post(API_URL, data=payload)"
   ]
  },
  {
   "cell_type": "code",
   "execution_count": 11,
   "metadata": {},
   "outputs": [],
   "source": [
    "available_underlyings = pd.DataFrame(response.json()['output'])"
   ]
  },
  {
   "cell_type": "code",
   "execution_count": 12,
   "metadata": {},
   "outputs": [
    {
     "data": {
      "text/html": [
       "<div>\n",
       "<style scoped>\n",
       "    .dataframe tbody tr th:only-of-type {\n",
       "        vertical-align: middle;\n",
       "    }\n",
       "\n",
       "    .dataframe tbody tr th {\n",
       "        vertical-align: top;\n",
       "    }\n",
       "\n",
       "    .dataframe thead th {\n",
       "        text-align: right;\n",
       "    }\n",
       "</style>\n",
       "<table border=\"1\" class=\"dataframe\">\n",
       "  <thead>\n",
       "    <tr style=\"text-align: right;\">\n",
       "      <th></th>\n",
       "      <th>value</th>\n",
       "      <th>name</th>\n",
       "    </tr>\n",
       "  </thead>\n",
       "  <tbody>\n",
       "    <tr>\n",
       "      <th>0</th>\n",
       "      <td>KRDRVOPEQU</td>\n",
       "      <td>전체</td>\n",
       "    </tr>\n",
       "    <tr>\n",
       "      <th>1</th>\n",
       "      <td>KRDRVOPS39</td>\n",
       "      <td>HD한국조선 옵션</td>\n",
       "    </tr>\n",
       "    <tr>\n",
       "      <th>2</th>\n",
       "      <td>KRDRVOPS49</td>\n",
       "      <td>HD현대인프 옵션</td>\n",
       "    </tr>\n",
       "    <tr>\n",
       "      <th>3</th>\n",
       "      <td>KRDRVOPSGH</td>\n",
       "      <td>HD현대일렉 옵션</td>\n",
       "    </tr>\n",
       "    <tr>\n",
       "      <th>4</th>\n",
       "      <td>KRDRVOPSFA</td>\n",
       "      <td>HMM 옵션</td>\n",
       "    </tr>\n",
       "  </tbody>\n",
       "</table>\n",
       "</div>"
      ],
      "text/plain": [
       "        value       name\n",
       "0  KRDRVOPEQU         전체\n",
       "1  KRDRVOPS39  HD한국조선 옵션\n",
       "2  KRDRVOPS49  HD현대인프 옵션\n",
       "3  KRDRVOPSGH  HD현대일렉 옵션\n",
       "4  KRDRVOPSFA     HMM 옵션"
      ]
     },
     "execution_count": 12,
     "metadata": {},
     "output_type": "execute_result"
    }
   ],
   "source": [
    "available_underlyings.head()"
   ]
  },
  {
   "cell_type": "code",
   "execution_count": 13,
   "metadata": {},
   "outputs": [
    {
     "data": {
      "text/plain": [
       "59"
      ]
     },
     "execution_count": 13,
     "metadata": {},
     "output_type": "execute_result"
    }
   ],
   "source": [
    "len(available_underlyings)"
   ]
  },
  {
   "cell_type": "code",
   "execution_count": 14,
   "metadata": {},
   "outputs": [],
   "source": [
    "avail_under_code_list = available_underlyings['value'].tolist()[1:]"
   ]
  },
  {
   "cell_type": "code",
   "execution_count": 15,
   "metadata": {},
   "outputs": [],
   "source": [
    "samsung_elec = 'KRDRVOPS11'"
   ]
  },
  {
   "cell_type": "code",
   "execution_count": 30,
   "metadata": {},
   "outputs": [],
   "source": [
    "# 개별 종목 call 되나 확인 \n",
    "\n",
    "with requests.Session() as session:\n",
    "    session.headers.update(HEADERS)\n",
    "    payload = PAYLOAD_TEMPLATE2.copy()\n",
    "    \n",
    "    payload['trdDd'] = sample_date\n",
    "    payload['trdDdBox1'] = sample_date\n",
    "    payload['trdDdBox2'] = sample_date\n",
    "    \n",
    "    payload[\"ulyId\"] = samsung_elec\n",
    "\n",
    "    response = session.post(API_URL, data=payload)"
   ]
  },
  {
   "cell_type": "code",
   "execution_count": 31,
   "metadata": {},
   "outputs": [
    {
     "data": {
      "text/plain": [
       "168"
      ]
     },
     "execution_count": 31,
     "metadata": {},
     "output_type": "execute_result"
    }
   ],
   "source": [
    "dd1 = pd.DataFrame(response.json()['output'])\n",
    "len(dd1)"
   ]
  },
  {
   "cell_type": "code",
   "execution_count": 32,
   "metadata": {},
   "outputs": [
    {
     "data": {
      "text/plain": [
       "'20241204'"
      ]
     },
     "execution_count": 32,
     "metadata": {},
     "output_type": "execute_result"
    }
   ],
   "source": [
    "sample_date"
   ]
  },
  {
   "cell_type": "code",
   "execution_count": 33,
   "metadata": {},
   "outputs": [],
   "source": [
    "# 개별 종목 call, 기간 줘도 되나 확인. \n",
    "\n",
    "with requests.Session() as session:\n",
    "    session.headers.update(HEADERS)\n",
    "    payload = PAYLOAD_TEMPLATE2.copy()\n",
    "    \n",
    "    payload['trdDd'] = sample_date\n",
    "    payload['trdDdBox1'] = '20241202'\n",
    "    payload['trdDdBox2'] = sample_date\n",
    "    \n",
    "    payload[\"ulyId\"] = samsung_elec\n",
    "\n",
    "    response = session.post(API_URL, data=payload)"
   ]
  },
  {
   "cell_type": "code",
   "execution_count": 34,
   "metadata": {},
   "outputs": [],
   "source": [
    "dd2 = pd.DataFrame(response.json()['output'])"
   ]
  },
  {
   "cell_type": "code",
   "execution_count": 35,
   "metadata": {},
   "outputs": [
    {
     "data": {
      "text/plain": [
       "168"
      ]
     },
     "execution_count": 35,
     "metadata": {},
     "output_type": "execute_result"
    }
   ],
   "source": [
    "len(dd2)"
   ]
  },
  {
   "cell_type": "code",
   "execution_count": 36,
   "metadata": {},
   "outputs": [],
   "source": [
    "# trdDdBox1, trdDdBox2 는 그냥 deprecated된 legacy parameter로 보인다. "
   ]
  },
  {
   "cell_type": "code",
   "execution_count": null,
   "metadata": {},
   "outputs": [],
   "source": [
    "# 개별 종목 call, 기간 줘도 되나 확인. \n",
    "\n",
    "with requests.Session() as session:\n",
    "    session.headers.update(HEADERS)\n",
    "    payload = PAYLOAD_TEMPLATE2.copy()\n",
    "    \n",
    "    payload['trdDd'] = \"\" # 빠지면 안됨.\n",
    "    payload['trdDdBox1'] = '20241202'\n",
    "    payload['trdDdBox2'] = sample_date\n",
    "    \n",
    "    payload[\"ulyId\"] = samsung_elec\n",
    "\n",
    "    response = session.post(API_URL, data=payload)"
   ]
  },
  {
   "cell_type": "code",
   "execution_count": 38,
   "metadata": {},
   "outputs": [],
   "source": [
    "dd3 = pd.DataFrame(response.json()['output'])"
   ]
  },
  {
   "cell_type": "code",
   "execution_count": 39,
   "metadata": {},
   "outputs": [
    {
     "data": {
      "text/plain": [
       "0"
      ]
     },
     "execution_count": 39,
     "metadata": {},
     "output_type": "execute_result"
    }
   ],
   "source": [
    "len(dd3)"
   ]
  },
  {
   "cell_type": "markdown",
   "metadata": {},
   "source": [
    "### 개별 주식 옵션 데이터 불러와서 합치기"
   ]
  },
  {
   "cell_type": "markdown",
   "metadata": {},
   "source": [
    "일단 테스트로 삼성만"
   ]
  },
  {
   "cell_type": "code",
   "execution_count": 46,
   "metadata": {},
   "outputs": [],
   "source": [
    "def fetch_option_data1(session: requests.Session, uly_code: str, trade_date: str,) -> pd.DataFrame:\n",
    "    payload = PAYLOAD_TEMPLATE.copy()\n",
    "    \n",
    "    payload[\"trdDd\"] = trade_date\n",
    "    payload['trdDdBox1'] = trade_date\n",
    "    payload['trdDdBox2'] = trade_date\n",
    "\n",
    "    payload[\"ulyId\"] = uly_code\n",
    "\n",
    "    response = session.post(API_URL, data=payload)\n",
    "    response.raise_for_status()\n",
    "\n",
    "    data = response.json()\n",
    "\n",
    "    if \"output\" not in data:\n",
    "        return pd.DataFrame()\n",
    "\n",
    "    return pd.DataFrame(data[\"output\"])\n",
    "\n",
    "def scrape_krx_option_data1(start_date: str, end_date: str, ulycode_list: list) -> pd.DataFrame:\n",
    "    dates = generate_date_range(start_date, end_date)\n",
    "    \n",
    "    all_data = []\n",
    "    for uly_code in ulycode_list:\n",
    "        with requests.Session() as session:\n",
    "            session.headers.update(HEADERS)\n",
    "            for date in tqdm(dates, desc=\"Fetching data\"):\n",
    "                try:\n",
    "                    daily_data = fetch_option_data(session, uly_code, date)\n",
    "                    if not daily_data.empty:\n",
    "                        daily_data['Trade_Date'] = datetime.strptime(date, \"%Y%m%d\").date()\n",
    "                        daily_data['Uly_Code'] = uly_code\n",
    "                        all_data.append(daily_data)\n",
    "                    time.sleep(3)  # Delay to mimic human behavior\n",
    "                except requests.HTTPError as http_err:\n",
    "                    print(f\"HTTP error for date {date}: {http_err}\")\n",
    "                except Exception as err:\n",
    "                    print(f\"Error for date {date}: {err}\")\n",
    "\n",
    "    if all_data:\n",
    "        return pd.concat(all_data, ignore_index=True)\n",
    "    else:\n",
    "        return pd.DataFrame()\n",
    "        \n"
   ]
  },
  {
   "cell_type": "code",
   "execution_count": 47,
   "metadata": {},
   "outputs": [],
   "source": [
    "start = '2024-01-01'\n",
    "end = '2024-12-04'\n",
    "\n",
    "samsung_list = [samsung_elec]"
   ]
  },
  {
   "cell_type": "code",
   "execution_count": 48,
   "metadata": {},
   "outputs": [
    {
     "name": "stderr",
     "output_type": "stream",
     "text": [
      "Fetching data: 100%|██████████| 243/243 [49:48<00:00, 12.30s/it] \n"
     ]
    }
   ],
   "source": [
    "samsung_df = scrape_krx_option_data1(start, end, samsung_list)"
   ]
  },
  {
   "cell_type": "code",
   "execution_count": 50,
   "metadata": {},
   "outputs": [],
   "source": [
    "samsung_df.to_pickle(DATA_PATH / 'samsung_option.pkl')"
   ]
  },
  {
   "cell_type": "code",
   "execution_count": 49,
   "metadata": {},
   "outputs": [
    {
     "data": {
      "text/plain": [
       "35978"
      ]
     },
     "execution_count": 49,
     "metadata": {},
     "output_type": "execute_result"
    }
   ],
   "source": [
    "len(samsung_df)"
   ]
  },
  {
   "cell_type": "code",
   "execution_count": 131,
   "metadata": {},
   "outputs": [],
   "source": [
    "samsung_df = pd.read_pickle(DATA_PATH / 'samsung_option.pkl')"
   ]
  },
  {
   "cell_type": "code",
   "execution_count": 132,
   "metadata": {},
   "outputs": [
    {
     "data": {
      "text/plain": [
       "Index(['ISU_CD', 'ISU_SRT_CD', 'ISU_NM', 'TDD_CLSPRC', 'FLUC_TP_CD',\n",
       "       'CMPPREVDD_PRC', 'TDD_OPNPRC', 'TDD_HGPRC', 'TDD_LWPRC', 'IMP_VOLT',\n",
       "       'NXTDD_BAS_PRC', 'ACC_TRDVOL', 'ACC_TRDVAL', 'ACC_OPNINT_QTY',\n",
       "       'SECUGRP_ID', 'Trade_Date', 'Uly_Code'],\n",
       "      dtype='object')"
      ]
     },
     "execution_count": 132,
     "metadata": {},
     "output_type": "execute_result"
    }
   ],
   "source": [
    "samsung_df.columns"
   ]
  },
  {
   "cell_type": "code",
   "execution_count": 133,
   "metadata": {},
   "outputs": [],
   "source": [
    "# strike price 등의 정보를 이름에서 파싱 \n",
    "\n",
    "import re\n",
    "\n",
    "def parse_option_name(option_name):\n",
    "    pattern = r\"(?P<underlying>[\\w가-힣]+)\\s+(?P<call_or_put>[CP])\\s+(?P<expiration>\\d{6})\\s+(?P<strike>[\\d,]+)\\(\\s*(?P<multiplier>\\d+)\\)\"\n",
    "\n",
    "    # Match the pattern\n",
    "    match = re.match(pattern, option_name)\n",
    "\n",
    "    # Extract data if a match is found\n",
    "    if match:\n",
    "        data = {\n",
    "            \"underlying\": match.group(\"underlying\"),\n",
    "            \"call_or_put\": match.group(\"call_or_put\"),\n",
    "            \"expiration\": match.group(\"expiration\"),\n",
    "            \"strike\": float(match.group(\"strike\").replace(\",\", \"\")),\n",
    "            \"multiplier\": int(match.group(\"multiplier\")),\n",
    "        }\n",
    "\n",
    "        return data\n",
    "        \n",
    "    else:\n",
    "        data = {\n",
    "            \"underlying\": None,\n",
    "            \"call_or_put\": None,\n",
    "            \"expiration\": None,\n",
    "            \"strike\": None,\n",
    "            \"multiplier\": None,\n",
    "        }\n",
    "\n",
    "        return data"
   ]
  },
  {
   "cell_type": "code",
   "execution_count": 134,
   "metadata": {},
   "outputs": [],
   "source": [
    "parsed_data = samsung_df['ISU_NM'].apply(parse_option_name)"
   ]
  },
  {
   "cell_type": "code",
   "execution_count": 135,
   "metadata": {},
   "outputs": [],
   "source": [
    "parsed_df = pd.DataFrame(parsed_data.tolist())"
   ]
  },
  {
   "cell_type": "code",
   "execution_count": 136,
   "metadata": {},
   "outputs": [],
   "source": [
    "samsung_df = pd.concat([samsung_df, parsed_df], axis=1)"
   ]
  },
  {
   "cell_type": "code",
   "execution_count": 137,
   "metadata": {},
   "outputs": [],
   "source": [
    "column_to_name = {\n",
    "    'ISU_CD': 'option_sid(full)',  # 종목코드(full)\n",
    "    'ISU_SRT_CD': 'option_sid(short)',  # 종목코드(short)\n",
    "    'ISU_NM': 'option_name',  # 종목명\n",
    "    'TDD_CLSPRC': 'close_price',  # 종가\n",
    "    'FLUC_TP_CD': 'up_or_down',  # 등락구분\n",
    "    'CMPPREVDD_PRC': 'price_change',  # 대비\n",
    "    'TDD_OPNPRC': 'open_price',  # 시가\n",
    "    'TDD_HGPRC': 'high_price',  # 고가\n",
    "    'TDD_LWPRC': 'low_price',  # 저가\n",
    "    'IMP_VOLT': 'im_vol',  # 내재변동성\n",
    "    'NXTDD_BAS_PRC': 'next_day_base_price',  # 익일기준가\n",
    "    'ACC_TRDVOL': 'trade_volume',  # 거래량\n",
    "    'ACC_TRDVAL': 'trade_value',  # 거래대금\n",
    "    'ACC_OPNINT_QTY': 'open_interest_quantity',  # 미결제약정수량\n",
    "    'SECUGRP_ID': 'security_type',  # 증권유형\n",
    "    'Trade_Date': 'trade_date',  # 거래일자\n",
    "    'Uly_Code': 'underlying_code',  # 기초자산코드\n",
    "}"
   ]
  },
  {
   "cell_type": "code",
   "execution_count": 138,
   "metadata": {},
   "outputs": [],
   "source": [
    "samsung_df.rename(columns=column_to_name, inplace=True)"
   ]
  },
  {
   "cell_type": "code",
   "execution_count": 139,
   "metadata": {},
   "outputs": [],
   "source": [
    "float_cols = [\n",
    "    'close_price', 'price_change', 'open_price', 'high_price', 'low_price',\n",
    "    'im_vol', 'next_day_base_price', 'trade_volume', 'trade_value',\n",
    "    'open_interest_quantity', \n",
    "    'expiration', \n",
    "    'up_or_down',\n",
    "    # 'strike', \n",
    "    # 'multiplier',\n",
    "]"
   ]
  },
  {
   "cell_type": "code",
   "execution_count": 140,
   "metadata": {},
   "outputs": [
    {
     "name": "stdout",
     "output_type": "stream",
     "text": [
      "converting close_price to numeric\n",
      "converting price_change to numeric\n",
      "converting open_price to numeric\n",
      "converting high_price to numeric\n",
      "converting low_price to numeric\n",
      "converting im_vol to numeric\n",
      "converting next_day_base_price to numeric\n",
      "converting trade_volume to numeric\n",
      "converting trade_value to numeric\n",
      "converting open_interest_quantity to numeric\n",
      "converting expiration to numeric\n",
      "converting up_or_down to numeric\n"
     ]
    }
   ],
   "source": [
    "for float_col in float_cols:\n",
    "    print(f'converting {float_col} to numeric')\n",
    "    samsung_df[float_col] = samsung_df[float_col].str.replace('-', '')\n",
    "    samsung_df[float_col] = samsung_df[float_col].str.replace(',', '')\n",
    "    samsung_df[float_col] = pd.to_numeric(samsung_df[float_col], errors='raise')"
   ]
  },
  {
   "cell_type": "code",
   "execution_count": 143,
   "metadata": {},
   "outputs": [],
   "source": [
    "samsung_df['trade_date'] = pd.to_datetime(samsung_df['trade_date'])"
   ]
  },
  {
   "cell_type": "code",
   "execution_count": 144,
   "metadata": {},
   "outputs": [
    {
     "name": "stdout",
     "output_type": "stream",
     "text": [
      "<class 'pandas.core.frame.DataFrame'>\n",
      "RangeIndex: 35978 entries, 0 to 35977\n",
      "Data columns (total 22 columns):\n",
      " #   Column                  Non-Null Count  Dtype         \n",
      "---  ------                  --------------  -----         \n",
      " 0   option_sid(full)        35978 non-null  object        \n",
      " 1   option_sid(short)       35978 non-null  object        \n",
      " 2   option_name             35978 non-null  object        \n",
      " 3   close_price             4871 non-null   float64       \n",
      " 4   up_or_down              35978 non-null  int64         \n",
      " 5   price_change            4871 non-null   float64       \n",
      " 6   open_price              4871 non-null   float64       \n",
      " 7   high_price              4871 non-null   float64       \n",
      " 8   low_price               4871 non-null   float64       \n",
      " 9   im_vol                  35978 non-null  float64       \n",
      " 10  next_day_base_price     35570 non-null  float64       \n",
      " 11  trade_volume            35978 non-null  int64         \n",
      " 12  trade_value             35978 non-null  int64         \n",
      " 13  open_interest_quantity  35978 non-null  int64         \n",
      " 14  security_type           35978 non-null  object        \n",
      " 15  trade_date              35978 non-null  datetime64[ns]\n",
      " 16  underlying_code         35978 non-null  object        \n",
      " 17  underlying              35978 non-null  object        \n",
      " 18  call_or_put             35978 non-null  object        \n",
      " 19  expiration              35978 non-null  int64         \n",
      " 20  strike                  35978 non-null  float64       \n",
      " 21  multiplier              35978 non-null  int64         \n",
      "dtypes: datetime64[ns](1), float64(8), int64(6), object(7)\n",
      "memory usage: 6.0+ MB\n"
     ]
    }
   ],
   "source": [
    "samsung_df.info()"
   ]
  },
  {
   "cell_type": "markdown",
   "metadata": {},
   "source": [
    "데이터를 처리하기 쉬운 형태로 변환"
   ]
  },
  {
   "cell_type": "code",
   "execution_count": 145,
   "metadata": {},
   "outputs": [
    {
     "data": {
      "text/plain": [
       "Index(['option_sid(full)', 'option_sid(short)', 'option_name', 'close_price',\n",
       "       'up_or_down', 'price_change', 'open_price', 'high_price', 'low_price',\n",
       "       'im_vol', 'next_day_base_price', 'trade_volume', 'trade_value',\n",
       "       'open_interest_quantity', 'security_type', 'trade_date',\n",
       "       'underlying_code', 'underlying', 'call_or_put', 'expiration', 'strike',\n",
       "       'multiplier'],\n",
       "      dtype='object')"
      ]
     },
     "execution_count": 145,
     "metadata": {},
     "output_type": "execute_result"
    }
   ],
   "source": [
    "samsung_df.columns"
   ]
  },
  {
   "cell_type": "code",
   "execution_count": 146,
   "metadata": {},
   "outputs": [],
   "source": [
    "index_cols = [\n",
    "    'underlying',\n",
    "    'call_or_put',\n",
    "    'expiration',\n",
    "    'trade_date',\n",
    "    'strike',\n",
    "]"
   ]
  },
  {
   "cell_type": "code",
   "execution_count": 147,
   "metadata": {},
   "outputs": [],
   "source": [
    "value_cols = [\n",
    "    'close_price',\n",
    "    'open_price',\n",
    "    'high_price',\n",
    "    'low_price',\n",
    "    'im_vol',\n",
    "    'next_day_base_price',\n",
    "    'trade_volume',\n",
    "    'trade_value',\n",
    "    'open_interest_quantity',\n",
    "]"
   ]
  },
  {
   "cell_type": "code",
   "execution_count": 148,
   "metadata": {},
   "outputs": [],
   "source": [
    "samsung_final_df = samsung_df[index_cols + value_cols].copy()\n",
    "samsung_final_df.set_index(index_cols, inplace=True)\n"
   ]
  },
  {
   "cell_type": "code",
   "execution_count": 149,
   "metadata": {},
   "outputs": [
    {
     "data": {
      "text/html": [
       "<div>\n",
       "<style scoped>\n",
       "    .dataframe tbody tr th:only-of-type {\n",
       "        vertical-align: middle;\n",
       "    }\n",
       "\n",
       "    .dataframe tbody tr th {\n",
       "        vertical-align: top;\n",
       "    }\n",
       "\n",
       "    .dataframe thead th {\n",
       "        text-align: right;\n",
       "    }\n",
       "</style>\n",
       "<table border=\"1\" class=\"dataframe\">\n",
       "  <thead>\n",
       "    <tr style=\"text-align: right;\">\n",
       "      <th></th>\n",
       "      <th></th>\n",
       "      <th></th>\n",
       "      <th></th>\n",
       "      <th></th>\n",
       "      <th>close_price</th>\n",
       "      <th>open_price</th>\n",
       "      <th>high_price</th>\n",
       "      <th>low_price</th>\n",
       "      <th>im_vol</th>\n",
       "      <th>next_day_base_price</th>\n",
       "      <th>trade_volume</th>\n",
       "      <th>trade_value</th>\n",
       "      <th>open_interest_quantity</th>\n",
       "    </tr>\n",
       "    <tr>\n",
       "      <th>underlying</th>\n",
       "      <th>call_or_put</th>\n",
       "      <th>expiration</th>\n",
       "      <th>trade_date</th>\n",
       "      <th>strike</th>\n",
       "      <th></th>\n",
       "      <th></th>\n",
       "      <th></th>\n",
       "      <th></th>\n",
       "      <th></th>\n",
       "      <th></th>\n",
       "      <th></th>\n",
       "      <th></th>\n",
       "      <th></th>\n",
       "    </tr>\n",
       "  </thead>\n",
       "  <tbody>\n",
       "    <tr>\n",
       "      <th rowspan=\"11\" valign=\"top\">삼성전자</th>\n",
       "      <th rowspan=\"5\" valign=\"top\">C</th>\n",
       "      <th rowspan=\"5\" valign=\"top\">202412</th>\n",
       "      <th rowspan=\"5\" valign=\"top\">2024-12-04</th>\n",
       "      <th>45000.0</th>\n",
       "      <td>NaN</td>\n",
       "      <td>NaN</td>\n",
       "      <td>NaN</td>\n",
       "      <td>NaN</td>\n",
       "      <td>33.7</td>\n",
       "      <td>8100.0</td>\n",
       "      <td>0</td>\n",
       "      <td>0</td>\n",
       "      <td>0</td>\n",
       "    </tr>\n",
       "    <tr>\n",
       "      <th>46000.0</th>\n",
       "      <td>NaN</td>\n",
       "      <td>NaN</td>\n",
       "      <td>NaN</td>\n",
       "      <td>NaN</td>\n",
       "      <td>33.7</td>\n",
       "      <td>7100.0</td>\n",
       "      <td>0</td>\n",
       "      <td>0</td>\n",
       "      <td>0</td>\n",
       "    </tr>\n",
       "    <tr>\n",
       "      <th>47000.0</th>\n",
       "      <td>NaN</td>\n",
       "      <td>NaN</td>\n",
       "      <td>NaN</td>\n",
       "      <td>NaN</td>\n",
       "      <td>33.7</td>\n",
       "      <td>6100.0</td>\n",
       "      <td>0</td>\n",
       "      <td>0</td>\n",
       "      <td>185</td>\n",
       "    </tr>\n",
       "    <tr>\n",
       "      <th>48000.0</th>\n",
       "      <td>NaN</td>\n",
       "      <td>NaN</td>\n",
       "      <td>NaN</td>\n",
       "      <td>NaN</td>\n",
       "      <td>33.7</td>\n",
       "      <td>5200.0</td>\n",
       "      <td>0</td>\n",
       "      <td>0</td>\n",
       "      <td>6</td>\n",
       "    </tr>\n",
       "    <tr>\n",
       "      <th>49000.0</th>\n",
       "      <td>NaN</td>\n",
       "      <td>NaN</td>\n",
       "      <td>NaN</td>\n",
       "      <td>NaN</td>\n",
       "      <td>33.7</td>\n",
       "      <td>4200.0</td>\n",
       "      <td>0</td>\n",
       "      <td>0</td>\n",
       "      <td>161</td>\n",
       "    </tr>\n",
       "    <tr>\n",
       "      <th>...</th>\n",
       "      <th>...</th>\n",
       "      <th>...</th>\n",
       "      <th>...</th>\n",
       "      <td>...</td>\n",
       "      <td>...</td>\n",
       "      <td>...</td>\n",
       "      <td>...</td>\n",
       "      <td>...</td>\n",
       "      <td>...</td>\n",
       "      <td>...</td>\n",
       "      <td>...</td>\n",
       "      <td>...</td>\n",
       "    </tr>\n",
       "    <tr>\n",
       "      <th rowspan=\"5\" valign=\"top\">P</th>\n",
       "      <th rowspan=\"5\" valign=\"top\">202412</th>\n",
       "      <th rowspan=\"5\" valign=\"top\">2024-01-02</th>\n",
       "      <th>80000.0</th>\n",
       "      <td>NaN</td>\n",
       "      <td>NaN</td>\n",
       "      <td>NaN</td>\n",
       "      <td>NaN</td>\n",
       "      <td>19.1</td>\n",
       "      <td>5100.0</td>\n",
       "      <td>0</td>\n",
       "      <td>0</td>\n",
       "      <td>0</td>\n",
       "    </tr>\n",
       "    <tr>\n",
       "      <th>84000.0</th>\n",
       "      <td>NaN</td>\n",
       "      <td>NaN</td>\n",
       "      <td>NaN</td>\n",
       "      <td>NaN</td>\n",
       "      <td>19.1</td>\n",
       "      <td>7200.0</td>\n",
       "      <td>0</td>\n",
       "      <td>0</td>\n",
       "      <td>0</td>\n",
       "    </tr>\n",
       "    <tr>\n",
       "      <th>88000.0</th>\n",
       "      <td>NaN</td>\n",
       "      <td>NaN</td>\n",
       "      <td>NaN</td>\n",
       "      <td>NaN</td>\n",
       "      <td>19.1</td>\n",
       "      <td>9700.0</td>\n",
       "      <td>0</td>\n",
       "      <td>0</td>\n",
       "      <td>0</td>\n",
       "    </tr>\n",
       "    <tr>\n",
       "      <th>92000.0</th>\n",
       "      <td>NaN</td>\n",
       "      <td>NaN</td>\n",
       "      <td>NaN</td>\n",
       "      <td>NaN</td>\n",
       "      <td>19.1</td>\n",
       "      <td>12600.0</td>\n",
       "      <td>0</td>\n",
       "      <td>0</td>\n",
       "      <td>0</td>\n",
       "    </tr>\n",
       "    <tr>\n",
       "      <th>96000.0</th>\n",
       "      <td>NaN</td>\n",
       "      <td>NaN</td>\n",
       "      <td>NaN</td>\n",
       "      <td>NaN</td>\n",
       "      <td>19.1</td>\n",
       "      <td>15600.0</td>\n",
       "      <td>0</td>\n",
       "      <td>0</td>\n",
       "      <td>0</td>\n",
       "    </tr>\n",
       "  </tbody>\n",
       "</table>\n",
       "<p>35978 rows × 9 columns</p>\n",
       "</div>"
      ],
      "text/plain": [
       "                                                      close_price  open_price  \\\n",
       "underlying call_or_put expiration trade_date strike                             \n",
       "삼성전자       C           202412     2024-12-04 45000.0          NaN         NaN   \n",
       "                                             46000.0          NaN         NaN   \n",
       "                                             47000.0          NaN         NaN   \n",
       "                                             48000.0          NaN         NaN   \n",
       "                                             49000.0          NaN         NaN   \n",
       "...                                                           ...         ...   \n",
       "           P           202412     2024-01-02 80000.0          NaN         NaN   \n",
       "                                             84000.0          NaN         NaN   \n",
       "                                             88000.0          NaN         NaN   \n",
       "                                             92000.0          NaN         NaN   \n",
       "                                             96000.0          NaN         NaN   \n",
       "\n",
       "                                                      high_price  low_price  \\\n",
       "underlying call_or_put expiration trade_date strike                           \n",
       "삼성전자       C           202412     2024-12-04 45000.0         NaN        NaN   \n",
       "                                             46000.0         NaN        NaN   \n",
       "                                             47000.0         NaN        NaN   \n",
       "                                             48000.0         NaN        NaN   \n",
       "                                             49000.0         NaN        NaN   \n",
       "...                                                          ...        ...   \n",
       "           P           202412     2024-01-02 80000.0         NaN        NaN   \n",
       "                                             84000.0         NaN        NaN   \n",
       "                                             88000.0         NaN        NaN   \n",
       "                                             92000.0         NaN        NaN   \n",
       "                                             96000.0         NaN        NaN   \n",
       "\n",
       "                                                      im_vol  \\\n",
       "underlying call_or_put expiration trade_date strike            \n",
       "삼성전자       C           202412     2024-12-04 45000.0    33.7   \n",
       "                                             46000.0    33.7   \n",
       "                                             47000.0    33.7   \n",
       "                                             48000.0    33.7   \n",
       "                                             49000.0    33.7   \n",
       "...                                                      ...   \n",
       "           P           202412     2024-01-02 80000.0    19.1   \n",
       "                                             84000.0    19.1   \n",
       "                                             88000.0    19.1   \n",
       "                                             92000.0    19.1   \n",
       "                                             96000.0    19.1   \n",
       "\n",
       "                                                      next_day_base_price  \\\n",
       "underlying call_or_put expiration trade_date strike                         \n",
       "삼성전자       C           202412     2024-12-04 45000.0               8100.0   \n",
       "                                             46000.0               7100.0   \n",
       "                                             47000.0               6100.0   \n",
       "                                             48000.0               5200.0   \n",
       "                                             49000.0               4200.0   \n",
       "...                                                                   ...   \n",
       "           P           202412     2024-01-02 80000.0               5100.0   \n",
       "                                             84000.0               7200.0   \n",
       "                                             88000.0               9700.0   \n",
       "                                             92000.0              12600.0   \n",
       "                                             96000.0              15600.0   \n",
       "\n",
       "                                                      trade_volume  \\\n",
       "underlying call_or_put expiration trade_date strike                  \n",
       "삼성전자       C           202412     2024-12-04 45000.0             0   \n",
       "                                             46000.0             0   \n",
       "                                             47000.0             0   \n",
       "                                             48000.0             0   \n",
       "                                             49000.0             0   \n",
       "...                                                            ...   \n",
       "           P           202412     2024-01-02 80000.0             0   \n",
       "                                             84000.0             0   \n",
       "                                             88000.0             0   \n",
       "                                             92000.0             0   \n",
       "                                             96000.0             0   \n",
       "\n",
       "                                                      trade_value  \\\n",
       "underlying call_or_put expiration trade_date strike                 \n",
       "삼성전자       C           202412     2024-12-04 45000.0            0   \n",
       "                                             46000.0            0   \n",
       "                                             47000.0            0   \n",
       "                                             48000.0            0   \n",
       "                                             49000.0            0   \n",
       "...                                                           ...   \n",
       "           P           202412     2024-01-02 80000.0            0   \n",
       "                                             84000.0            0   \n",
       "                                             88000.0            0   \n",
       "                                             92000.0            0   \n",
       "                                             96000.0            0   \n",
       "\n",
       "                                                      open_interest_quantity  \n",
       "underlying call_or_put expiration trade_date strike                           \n",
       "삼성전자       C           202412     2024-12-04 45000.0                       0  \n",
       "                                             46000.0                       0  \n",
       "                                             47000.0                     185  \n",
       "                                             48000.0                       6  \n",
       "                                             49000.0                     161  \n",
       "...                                                                      ...  \n",
       "           P           202412     2024-01-02 80000.0                       0  \n",
       "                                             84000.0                       0  \n",
       "                                             88000.0                       0  \n",
       "                                             92000.0                       0  \n",
       "                                             96000.0                       0  \n",
       "\n",
       "[35978 rows x 9 columns]"
      ]
     },
     "execution_count": 149,
     "metadata": {},
     "output_type": "execute_result"
    }
   ],
   "source": [
    "samsung_final_df"
   ]
  },
  {
   "cell_type": "code",
   "execution_count": 151,
   "metadata": {},
   "outputs": [],
   "source": [
    "samsung_final_df.to_pickle(DATA_PATH / 'samsung_option_final.pkl')"
   ]
  },
  {
   "cell_type": "code",
   "execution_count": 150,
   "metadata": {},
   "outputs": [],
   "source": [
    "START_DATE = '2021-01-01'\n",
    "END_DATE = '2024-12-05'"
   ]
  },
  {
   "cell_type": "markdown",
   "metadata": {},
   "source": [
    "\n",
    "### New Prompt\n",
    "\n",
    "Implement retry strategy in this code. \n",
    "Retry strategy should:\n",
    "- when there's bad requests like 400, step back and wait and retry. \n",
    "\n",
    "You should suggest me additional measure to avoid getting blocked. Is there a free VPN service that I can use to hide my identity? \n",
    "\n",
    "Also, to avoid losing all the data when I get blocked, write the code to:\n",
    "\n",
    "- start from end date to start date\n",
    "- for each date scraped, save it in the data by appending the data (not overwriting). You should use h5py to save it in h5 format to append the data. \n",
    "- periodically (per 100 scrape) copy that h5 file to somewhere else for me to safely use it without racing condition. ( I will copy the copy of the h5 and use it at somewhere else)"
   ]
  },
  {
   "cell_type": "code",
   "execution_count": null,
   "metadata": {},
   "outputs": [],
   "source": [
    "# main.py\n",
    "\n",
    "import requests\n",
    "import pandas as pd\n",
    "from datetime import datetime, timedelta\n",
    "import time\n",
    "from typing import List\n",
    "from tqdm import tqdm\n",
    "import h5py\n",
    "import os\n",
    "import shutil\n",
    "from requests.adapters import HTTPAdapter\n",
    "from urllib3.util.retry import Retry\n",
    "\n",
    "from zoneinfo import ZoneInfo  # Python 3.9 이상\n",
    "\n",
    "# Import configurations\n",
    "from krx_config import API_URL, HEADERS, PAYLOAD_TEMPLATE\n",
    "\n",
    "\n",
    "\n",
    "# Constants for backup\n",
    "BACKUP_INTERVAL = 100  # Backup after every 100 successful scrapes\n",
    "H5_FILE = DATA_PATH / \"krx_option_data.h5\"\n",
    "\n",
    "def generate_date_range(start_date: str, end_date: str) -> List[str]: \n",
    "    \"\"\"\n",
    "    종료일(end_date)부터 시작일(start_date)까지의 비주말(평일) 날짜를 YYYYMMDD 형식으로 반환합니다.\n",
    "    날짜는 한국 서울 시간대 기준입니다.\n",
    "\n",
    "    Args:\n",
    "        start_date (str): 시작 날짜 ('YYYY-MM-DD' 형식).\n",
    "        end_date (str): 종료 날짜 ('YYYY-MM-DD' 형식).\n",
    "\n",
    "    Returns:\n",
    "        List[str]: 내림차순으로 정렬된 비주말 날짜 리스트 ('YYYYMMDD' 형식).\n",
    "    \"\"\"\n",
    "    tz = ZoneInfo('Asia/Seoul')\n",
    "    start = datetime.strptime(start_date, \"%Y-%m-%d\").replace(tzinfo=tz)\n",
    "    end = datetime.strptime(end_date, \"%Y-%m-%d\").replace(tzinfo=tz)\n",
    "    delta = end - start\n",
    "    date_list = []\n",
    "    for i in range(delta.days + 1):\n",
    "        current_date = end - timedelta(days=i)\n",
    "        if current_date.weekday() < 5:  # 0-4는 월요일~금요일\n",
    "            date_list.append(current_date.strftime(\"%Y%m%d\"))\n",
    "    return date_list\n",
    "\n",
    "def setup_session() -> requests.Session:\n",
    "    \"\"\"\n",
    "    Sets up a requests session with headers and retry strategy.\n",
    "    \"\"\"\n",
    "    session = requests.Session()\n",
    "    session.headers.update(HEADERS)\n",
    "    \n",
    "    retry_strategy = Retry(\n",
    "        total=5,\n",
    "        status_forcelist=[400, 429, 500, 502, 503, 504],\n",
    "        method_whitelist=[\"POST\"],\n",
    "        backoff_factor=1\n",
    "    )\n",
    "    adapter = HTTPAdapter(max_retries=retry_strategy)\n",
    "    session.mount(\"http://\", adapter)\n",
    "    session.mount(\"https://\", adapter)\n",
    "    \n",
    "    return session\n",
    "\n",
    "def fetch_option_data(session: requests.Session, trade_date: str) -> pd.DataFrame:\n",
    "    \"\"\"\n",
    "    Fetches option data for a specific trade date.\n",
    "    \"\"\"\n",
    "    payload = PAYLOAD_TEMPLATE.copy()\n",
    "    payload[\"trdDd\"] = trade_date\n",
    "\n",
    "    response = session.post(API_URL, data=payload)\n",
    "    response.raise_for_status()\n",
    "\n",
    "    data = response.json()\n",
    "\n",
    "    if \"output\" not in data:\n",
    "        return pd.DataFrame()\n",
    "\n",
    "    return pd.DataFrame(data[\"output\"])\n",
    "\n",
    "def save_data_h5(df: pd.DataFrame, filename: str):\n",
    "    \"\"\"\n",
    "    Appends DataFrame to an HDF5 file.\n",
    "    \"\"\"\n",
    "    with pd.HDFStore(filename, mode='a') as store:\n",
    "        store.append('option_data', df, format='table', data_columns=True)\n",
    "\n",
    "def backup_h5_file(source: str, backup_path: Path):\n",
    "    \"\"\"\n",
    "    Copies the HDF5 file to the backup directory with a timestamp.\n",
    "    \"\"\"\n",
    "    timestamp = datetime.now().strftime(\"%Y%m%d%H%M%S\")\n",
    "    backup_path = BACKUP_PATH / f\"krx_option_data_backup_{timestamp}.h5\"\n",
    "    shutil.copy(source, backup_path)\n",
    "    print(f\"Backup created at {backup_path}\")\n",
    "\n",
    "def scrape_krx_option_data(start_date: str, end_date: str) -> None:\n",
    "    \"\"\"\n",
    "    Scrapes KRX option data between start_date and end_date and saves to HDF5.\n",
    "    Implements retry and backup strategies.\n",
    "    \"\"\"\n",
    "    dates = generate_date_range(start_date, end_date)\n",
    "    success_count = 0\n",
    "\n",
    "    session = setup_session()\n",
    "    \n",
    "    for date in tqdm(dates, desc=\"Fetching data\"):\n",
    "        try:\n",
    "            daily_data = fetch_option_data(session, date)\n",
    "            if not daily_data.empty:\n",
    "                daily_data['Trade_Date'] = datetime.strptime(date, \"%Y%m%d\").date()\n",
    "                save_data_h5(daily_data, H5_FILE)\n",
    "                success_count += 1\n",
    "                \n",
    "                if success_count % BACKUP_INTERVAL == 0:\n",
    "                    backup_h5_file(H5_FILE, BACKUP_PATH)\n",
    "            \n",
    "            time.sleep(1)  # Delay to mimic human behavior\n",
    "        except requests.HTTPError as http_err:\n",
    "            print(f\"HTTP error for date {date}: {http_err}\")\n",
    "            time.sleep(5)  # Wait before retrying\n",
    "        except Exception as err:\n",
    "            print(f\"Error for date {date}: {err}\")\n",
    "            time.sleep(5)  # Wait before continuing\n",
    "    \n",
    "    # Final backup after completion\n",
    "    backup_h5_file(H5_FILE, BACKUP_PATH)\n"
   ]
  },
  {
   "cell_type": "code",
   "execution_count": null,
   "metadata": {},
   "outputs": [],
   "source": [
    "\n",
    "def main():\n",
    "    # Example usage\n",
    "    START_DATE = \"2024-12-01\"\n",
    "    END_DATE = \"2024-12-06\"\n",
    "    \n",
    "    print(f\"Scraping KRX option data from {START_DATE} to {END_DATE}...\")\n",
    "    scrape_krx_option_data(START_DATE, END_DATE)\n",
    "    print(\"Scraping completed.\")\n",
    "\n",
    "if __name__ == \"__main__\":\n",
    "    main()\n"
   ]
  },
  {
   "cell_type": "code",
   "execution_count": null,
   "metadata": {},
   "outputs": [],
   "source": []
  }
 ],
 "metadata": {
  "kernelspec": {
   "display_name": ".venv",
   "language": "python",
   "name": "python3"
  },
  "language_info": {
   "codemirror_mode": {
    "name": "ipython",
    "version": 3
   },
   "file_extension": ".py",
   "mimetype": "text/x-python",
   "name": "python",
   "nbconvert_exporter": "python",
   "pygments_lexer": "ipython3",
   "version": "3.11.5"
  }
 },
 "nbformat": 4,
 "nbformat_minor": 2
}
