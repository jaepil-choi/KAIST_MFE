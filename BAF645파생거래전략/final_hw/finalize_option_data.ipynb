{
 "cells": [
  {
   "cell_type": "markdown",
   "metadata": {},
   "source": [
    "# 옵션 데이터 전처리 최종\n",
    "\n",
    "- equitiy option 종목들 중 주식 sma (simple moving average) vol 30% 미만만 남기기\n",
    "- underlying (주식) ohlcv 붙이기 \n",
    "- option atm otm itm 여부 label, 거래 안되는 strike option들 날리기\n",
    "- option strike를 atm 기준으로 relative 하게 바꾸기"
   ]
  },
  {
   "cell_type": "markdown",
   "metadata": {},
   "source": [
    "## import libs"
   ]
  },
  {
   "cell_type": "code",
   "execution_count": 140,
   "metadata": {},
   "outputs": [],
   "source": [
    "import pandas as pd\n",
    "import numpy as np\n",
    "\n",
    "import matplotlib.pyplot as plt\n",
    "import seaborn as sns\n",
    "\n",
    "from pathlib import Path\n",
    "import os, sys\n",
    "import re\n",
    "\n",
    "import FinanceDataReader as fdr\n",
    "from pykrx import stock"
   ]
  },
  {
   "cell_type": "code",
   "execution_count": 141,
   "metadata": {},
   "outputs": [],
   "source": [
    "CWD_PATH = Path.cwd()\n",
    "DATA_PATH = CWD_PATH / 'data'\n",
    "OUTPUT_PATH = CWD_PATH / 'output'"
   ]
  },
  {
   "cell_type": "code",
   "execution_count": 142,
   "metadata": {},
   "outputs": [],
   "source": [
    "krx_option_df = pd.read_parquet(OUTPUT_PATH / 'krx_option_data_20220101-20241204.parquet')"
   ]
  },
  {
   "cell_type": "code",
   "execution_count": 143,
   "metadata": {},
   "outputs": [
    {
     "data": {
      "text/html": [
       "<div>\n",
       "<style scoped>\n",
       "    .dataframe tbody tr th:only-of-type {\n",
       "        vertical-align: middle;\n",
       "    }\n",
       "\n",
       "    .dataframe tbody tr th {\n",
       "        vertical-align: top;\n",
       "    }\n",
       "\n",
       "    .dataframe thead th {\n",
       "        text-align: right;\n",
       "    }\n",
       "</style>\n",
       "<table border=\"1\" class=\"dataframe\">\n",
       "  <thead>\n",
       "    <tr style=\"text-align: right;\">\n",
       "      <th></th>\n",
       "      <th>underlying</th>\n",
       "      <th>call_or_put</th>\n",
       "      <th>expiration</th>\n",
       "      <th>trade_date</th>\n",
       "      <th>strike</th>\n",
       "      <th>close_price</th>\n",
       "      <th>open_price</th>\n",
       "      <th>high_price</th>\n",
       "      <th>low_price</th>\n",
       "      <th>im_vol</th>\n",
       "      <th>next_day_base_price</th>\n",
       "      <th>trade_volume</th>\n",
       "      <th>trade_value</th>\n",
       "      <th>open_interest_quantity</th>\n",
       "    </tr>\n",
       "  </thead>\n",
       "  <tbody>\n",
       "    <tr>\n",
       "      <th>0</th>\n",
       "      <td>KB금융</td>\n",
       "      <td>C</td>\n",
       "      <td>202201</td>\n",
       "      <td>2022-01-03</td>\n",
       "      <td>47000.0</td>\n",
       "      <td>NaN</td>\n",
       "      <td>NaN</td>\n",
       "      <td>NaN</td>\n",
       "      <td>NaN</td>\n",
       "      <td>25.5</td>\n",
       "      <td>8300.0</td>\n",
       "      <td>0</td>\n",
       "      <td>0</td>\n",
       "      <td>0</td>\n",
       "    </tr>\n",
       "    <tr>\n",
       "      <th>1</th>\n",
       "      <td>KB금융</td>\n",
       "      <td>C</td>\n",
       "      <td>202201</td>\n",
       "      <td>2022-01-03</td>\n",
       "      <td>48000.0</td>\n",
       "      <td>NaN</td>\n",
       "      <td>NaN</td>\n",
       "      <td>NaN</td>\n",
       "      <td>NaN</td>\n",
       "      <td>25.5</td>\n",
       "      <td>7300.0</td>\n",
       "      <td>0</td>\n",
       "      <td>0</td>\n",
       "      <td>0</td>\n",
       "    </tr>\n",
       "    <tr>\n",
       "      <th>2</th>\n",
       "      <td>KB금융</td>\n",
       "      <td>C</td>\n",
       "      <td>202201</td>\n",
       "      <td>2022-01-03</td>\n",
       "      <td>49000.0</td>\n",
       "      <td>NaN</td>\n",
       "      <td>NaN</td>\n",
       "      <td>NaN</td>\n",
       "      <td>NaN</td>\n",
       "      <td>25.5</td>\n",
       "      <td>6300.0</td>\n",
       "      <td>0</td>\n",
       "      <td>0</td>\n",
       "      <td>0</td>\n",
       "    </tr>\n",
       "    <tr>\n",
       "      <th>3</th>\n",
       "      <td>KB금융</td>\n",
       "      <td>C</td>\n",
       "      <td>202201</td>\n",
       "      <td>2022-01-03</td>\n",
       "      <td>50000.0</td>\n",
       "      <td>NaN</td>\n",
       "      <td>NaN</td>\n",
       "      <td>NaN</td>\n",
       "      <td>NaN</td>\n",
       "      <td>25.5</td>\n",
       "      <td>5300.0</td>\n",
       "      <td>0</td>\n",
       "      <td>0</td>\n",
       "      <td>0</td>\n",
       "    </tr>\n",
       "    <tr>\n",
       "      <th>4</th>\n",
       "      <td>KB금융</td>\n",
       "      <td>C</td>\n",
       "      <td>202201</td>\n",
       "      <td>2022-01-03</td>\n",
       "      <td>52000.0</td>\n",
       "      <td>NaN</td>\n",
       "      <td>NaN</td>\n",
       "      <td>NaN</td>\n",
       "      <td>NaN</td>\n",
       "      <td>25.5</td>\n",
       "      <td>3400.0</td>\n",
       "      <td>0</td>\n",
       "      <td>0</td>\n",
       "      <td>0</td>\n",
       "    </tr>\n",
       "  </tbody>\n",
       "</table>\n",
       "</div>"
      ],
      "text/plain": [
       "  underlying call_or_put expiration trade_date   strike  close_price  \\\n",
       "0       KB금융           C     202201 2022-01-03  47000.0          NaN   \n",
       "1       KB금융           C     202201 2022-01-03  48000.0          NaN   \n",
       "2       KB금융           C     202201 2022-01-03  49000.0          NaN   \n",
       "3       KB금융           C     202201 2022-01-03  50000.0          NaN   \n",
       "4       KB금융           C     202201 2022-01-03  52000.0          NaN   \n",
       "\n",
       "   open_price  high_price  low_price  im_vol  next_day_base_price  \\\n",
       "0         NaN         NaN        NaN    25.5               8300.0   \n",
       "1         NaN         NaN        NaN    25.5               7300.0   \n",
       "2         NaN         NaN        NaN    25.5               6300.0   \n",
       "3         NaN         NaN        NaN    25.5               5300.0   \n",
       "4         NaN         NaN        NaN    25.5               3400.0   \n",
       "\n",
       "   trade_volume  trade_value  open_interest_quantity  \n",
       "0             0            0                       0  \n",
       "1             0            0                       0  \n",
       "2             0            0                       0  \n",
       "3             0            0                       0  \n",
       "4             0            0                       0  "
      ]
     },
     "execution_count": 143,
     "metadata": {},
     "output_type": "execute_result"
    }
   ],
   "source": [
    "krx_option_df.head()"
   ]
  },
  {
   "cell_type": "markdown",
   "metadata": {},
   "source": [
    "underlying이 비어있는 경우 발견. \n",
    "\n",
    "\"LS ELECTRIC C 202401 120,000(100)\" 이 이전 정규식에서 제대로 파싱되지 않아서 발생. 이름 중간에 띄어쓰기 들어갈 것이라 생각 못했음. \n",
    "\n",
    "그냥 얘 하나밖에 없으니까 빼고 가자. "
   ]
  },
  {
   "cell_type": "code",
   "execution_count": 144,
   "metadata": {},
   "outputs": [],
   "source": [
    "krx_option_df = krx_option_df[ krx_option_df['underlying'].notnull() ]"
   ]
  },
  {
   "cell_type": "code",
   "execution_count": 145,
   "metadata": {},
   "outputs": [
    {
     "data": {
      "text/plain": [
       "5669094"
      ]
     },
     "execution_count": 145,
     "metadata": {},
     "output_type": "execute_result"
    }
   ],
   "source": [
    "len(krx_option_df)"
   ]
  },
  {
   "cell_type": "markdown",
   "metadata": {},
   "source": [
    "## stock ohlcv 가져오기\n",
    "\n",
    "- pykrx\n",
    "- fdr"
   ]
  },
  {
   "cell_type": "code",
   "execution_count": 146,
   "metadata": {},
   "outputs": [
    {
     "data": {
      "text/plain": [
       "array(['KB금융', 'KT', 'LGD', 'LG유플러스', 'LG전자', 'LG화학', 'NAVER', 'POSCO',\n",
       "       'SK이노베이', 'SK텔레콤', 'SK하이닉스', '기아', '넷마블', '미래에셋증', '삼성SDI',\n",
       "       '삼성SDS', '삼성물산', '삼성전기', '삼성전자', '셀트리온', '신한지주', '씨젠', '아모레퍼시',\n",
       "       '엔씨소프트', '웹젠', '카카오', '하나지주', '한국전력', '한국조선해', '한국항공우', '한화솔루션',\n",
       "       '현대건설', '현대두산인', '현대모비스', '현대제철', '현대차', '호텔신라', 'LG에너지솔',\n",
       "       'SK바이오사', 'SK아이이테', '카카오뱅크', '카카오페이', 'HD현대인프', 'HD한국조선', 'HMM',\n",
       "       'LG생활건강', 'LG이노텍', '두산에너빌', '포스코퓨처', 'LG디스플레', '에코프로비', '엘앤에프',\n",
       "       '포스코DX', '포스코인터', '하나금융지', '한화에어로', 'HD현대일렉', '삼성바이오', '삼성생명',\n",
       "       '알테오젠', '하이브'], dtype=object)"
      ]
     },
     "execution_count": 146,
     "metadata": {},
     "output_type": "execute_result"
    }
   ],
   "source": [
    "underlyings = krx_option_df['underlying'].unique()\n",
    "underlyings"
   ]
  },
  {
   "cell_type": "code",
   "execution_count": 147,
   "metadata": {},
   "outputs": [],
   "source": [
    "# pykrx로 stock들 이름부터 조회 \n",
    "\n",
    "stock_list = stock.get_market_ticker_list(market='ALL')\n",
    "ticker_to_name = {ticker: stock.get_market_ticker_name(ticker) for ticker in stock_list}\n",
    "name_to_ticker = {v: k for k, v in ticker_to_name.items()}"
   ]
  },
  {
   "cell_type": "code",
   "execution_count": 148,
   "metadata": {},
   "outputs": [
    {
     "name": "stdout",
     "output_type": "stream",
     "text": [
      "LGD not found\n",
      "삼성SDS not found\n",
      "하나지주 not found\n",
      "한국조선해 not found\n",
      "현대두산인 not found\n"
     ]
    }
   ],
   "source": [
    "underlying_name_mapping = []\n",
    "\n",
    "name_to_ticker5 = {k[:5]: v for k, v in name_to_ticker.items()}\n",
    "name_to_ticker6 = {k[:6]: v for k, v in name_to_ticker.items()}\n",
    "\n",
    "for underlying_name in underlyings:\n",
    "    if underlying_name in name_to_ticker5.keys():\n",
    "        ticker = name_to_ticker5[underlying_name]\n",
    "        real_name = ticker_to_name[ticker]\n",
    "        temp = (underlying_name, real_name, ticker)\n",
    "        underlying_name_mapping.append(temp)\n",
    "    \n",
    "    elif underlying_name in name_to_ticker6.keys():\n",
    "        ticker = name_to_ticker6[underlying_name]\n",
    "        real_name = ticker_to_name[ticker]\n",
    "        temp = (underlying_name, real_name, ticker)\n",
    "        underlying_name_mapping.append(temp)\n",
    "\n",
    "    else:\n",
    "        print(f'{underlying_name} not found')"
   ]
  },
  {
   "cell_type": "code",
   "execution_count": 149,
   "metadata": {},
   "outputs": [],
   "source": [
    "# manual mapping\n",
    "\n",
    "underlying_name_mapping.append(('LGD', 'LG디스플레이', '034220'))\n",
    "underlying_name_mapping.append(('삼성SDS', '삼성에스디에스', '018260'))\n",
    "underlying_name_mapping.append(('하나지주', '하나금융지주', '086790'))\n",
    "underlying_name_mapping.append(('한국조선해', 'HD한국조선해양', '009540'))\n",
    "underlying_name_mapping.append(('현대두산인', 'HD현대인프라코어', '042670'))"
   ]
  },
  {
   "cell_type": "code",
   "execution_count": 150,
   "metadata": {},
   "outputs": [],
   "source": [
    "underlyings_df = pd.DataFrame(\n",
    "    data=underlying_name_mapping,\n",
    "    columns=['underlying', 'underlying_full', 'ticker']\n",
    ") "
   ]
  },
  {
   "cell_type": "code",
   "execution_count": 151,
   "metadata": {},
   "outputs": [],
   "source": [
    "trade_dates = krx_option_df['trade_date'].unique()\n",
    "trade_dates = sorted(trade_dates)"
   ]
  },
  {
   "cell_type": "code",
   "execution_count": 152,
   "metadata": {},
   "outputs": [
    {
     "data": {
      "text/plain": [
       "('20220103', '20241204')"
      ]
     },
     "execution_count": 152,
     "metadata": {},
     "output_type": "execute_result"
    }
   ],
   "source": [
    "START = trade_dates[0].strftime('%Y%m%d')\n",
    "END = trade_dates[-1].strftime('%Y%m%d')\n",
    "\n",
    "START, END"
   ]
  },
  {
   "cell_type": "code",
   "execution_count": 153,
   "metadata": {},
   "outputs": [],
   "source": [
    "underlying_tickers = underlyings_df['ticker'].unique()\n",
    "\n",
    "ohlcv_df = pd.DataFrame()\n",
    "\n",
    "for ticker in underlying_tickers:\n",
    "    df = stock.get_market_ohlcv_by_date(START, END, ticker)\n",
    "    df['ticker'] = ticker\n",
    "    ohlcv_df = pd.concat([ohlcv_df, df], axis=0)"
   ]
  },
  {
   "cell_type": "markdown",
   "metadata": {},
   "source": [
    "변동성 등 먼저 계산"
   ]
  },
  {
   "cell_type": "code",
   "execution_count": 154,
   "metadata": {},
   "outputs": [],
   "source": [
    "SMA_WINDOW = 21 * 6 # 6 months\n",
    "\n",
    "ohlcv_df['등락률'] = ohlcv_df['등락률'] / 100\n",
    "ohlcv_df['SMA'] = ohlcv_df.groupby('ticker')['등락률'].transform(lambda x: x.rolling(window=SMA_WINDOW).mean())"
   ]
  },
  {
   "cell_type": "code",
   "execution_count": 155,
   "metadata": {},
   "outputs": [],
   "source": [
    "ohlcv_df['ret_vol_20d'] = ohlcv_df.groupby('ticker')['등락률'].transform(lambda x: x.rolling(window=20).std())\n",
    "ohlcv_df['sma_vol_20d'] = ohlcv_df.groupby('ticker')['SMA'].transform(lambda x: x.rolling(window=20).std())\n",
    "\n",
    "ohlcv_df['ret_vol_60d'] = ohlcv_df.groupby('ticker')['등락률'].transform(lambda x: x.rolling(window=60).std())\n",
    "ohlcv_df['sma_vol_60d'] = ohlcv_df.groupby('ticker')['SMA'].transform(lambda x: x.rolling(window=60).std())\n",
    "\n",
    "ohlcv_df['ret_vol_120d'] = ohlcv_df.groupby('ticker')['등락률'].transform(lambda x: x.rolling(window=120).std())\n",
    "ohlcv_df['sma_vol_120d'] = ohlcv_df.groupby('ticker')['SMA'].transform(lambda x: x.rolling(window=120).std())\n",
    "\n",
    "ohlcv_df['ret_vol_180d'] = ohlcv_df.groupby('ticker')['등락률'].transform(lambda x: x.rolling(window=180).std())\n",
    "ohlcv_df['sma_vol_180d'] = ohlcv_df.groupby('ticker')['SMA'].transform(lambda x: x.rolling(window=180).std())"
   ]
  },
  {
   "cell_type": "markdown",
   "metadata": {},
   "source": [
    "underlying ticker info와 붙이기"
   ]
  },
  {
   "cell_type": "code",
   "execution_count": 156,
   "metadata": {},
   "outputs": [],
   "source": [
    "ohlcv_df.reset_index(inplace=True, drop=False)\n",
    "underlyings_df = underlyings_df.merge(ohlcv_df, left_on='ticker', right_on='ticker', how='right')"
   ]
  },
  {
   "cell_type": "code",
   "execution_count": 157,
   "metadata": {},
   "outputs": [
    {
     "data": {
      "text/html": [
       "<div>\n",
       "<style scoped>\n",
       "    .dataframe tbody tr th:only-of-type {\n",
       "        vertical-align: middle;\n",
       "    }\n",
       "\n",
       "    .dataframe tbody tr th {\n",
       "        vertical-align: top;\n",
       "    }\n",
       "\n",
       "    .dataframe thead th {\n",
       "        text-align: right;\n",
       "    }\n",
       "</style>\n",
       "<table border=\"1\" class=\"dataframe\">\n",
       "  <thead>\n",
       "    <tr style=\"text-align: right;\">\n",
       "      <th></th>\n",
       "      <th>underlying</th>\n",
       "      <th>underlying_full</th>\n",
       "      <th>ticker</th>\n",
       "      <th>날짜</th>\n",
       "      <th>시가</th>\n",
       "      <th>고가</th>\n",
       "      <th>저가</th>\n",
       "      <th>종가</th>\n",
       "      <th>거래량</th>\n",
       "      <th>등락률</th>\n",
       "      <th>SMA</th>\n",
       "      <th>ret_vol_20d</th>\n",
       "      <th>sma_vol_20d</th>\n",
       "      <th>ret_vol_60d</th>\n",
       "      <th>sma_vol_60d</th>\n",
       "      <th>ret_vol_120d</th>\n",
       "      <th>sma_vol_120d</th>\n",
       "      <th>ret_vol_180d</th>\n",
       "      <th>sma_vol_180d</th>\n",
       "    </tr>\n",
       "  </thead>\n",
       "  <tbody>\n",
       "    <tr>\n",
       "      <th>0</th>\n",
       "      <td>KB금융</td>\n",
       "      <td>KB금융</td>\n",
       "      <td>105560</td>\n",
       "      <td>2022-01-03</td>\n",
       "      <td>54900</td>\n",
       "      <td>55700</td>\n",
       "      <td>54800</td>\n",
       "      <td>55300</td>\n",
       "      <td>635124</td>\n",
       "      <td>0.005455</td>\n",
       "      <td>NaN</td>\n",
       "      <td>NaN</td>\n",
       "      <td>NaN</td>\n",
       "      <td>NaN</td>\n",
       "      <td>NaN</td>\n",
       "      <td>NaN</td>\n",
       "      <td>NaN</td>\n",
       "      <td>NaN</td>\n",
       "      <td>NaN</td>\n",
       "    </tr>\n",
       "    <tr>\n",
       "      <th>1</th>\n",
       "      <td>KB금융</td>\n",
       "      <td>KB금융</td>\n",
       "      <td>105560</td>\n",
       "      <td>2022-01-04</td>\n",
       "      <td>55800</td>\n",
       "      <td>56400</td>\n",
       "      <td>55600</td>\n",
       "      <td>56400</td>\n",
       "      <td>927067</td>\n",
       "      <td>0.019892</td>\n",
       "      <td>NaN</td>\n",
       "      <td>NaN</td>\n",
       "      <td>NaN</td>\n",
       "      <td>NaN</td>\n",
       "      <td>NaN</td>\n",
       "      <td>NaN</td>\n",
       "      <td>NaN</td>\n",
       "      <td>NaN</td>\n",
       "      <td>NaN</td>\n",
       "    </tr>\n",
       "    <tr>\n",
       "      <th>2</th>\n",
       "      <td>KB금융</td>\n",
       "      <td>KB금융</td>\n",
       "      <td>105560</td>\n",
       "      <td>2022-01-05</td>\n",
       "      <td>56400</td>\n",
       "      <td>57100</td>\n",
       "      <td>55800</td>\n",
       "      <td>56600</td>\n",
       "      <td>1429634</td>\n",
       "      <td>0.003546</td>\n",
       "      <td>NaN</td>\n",
       "      <td>NaN</td>\n",
       "      <td>NaN</td>\n",
       "      <td>NaN</td>\n",
       "      <td>NaN</td>\n",
       "      <td>NaN</td>\n",
       "      <td>NaN</td>\n",
       "      <td>NaN</td>\n",
       "      <td>NaN</td>\n",
       "    </tr>\n",
       "    <tr>\n",
       "      <th>3</th>\n",
       "      <td>KB금융</td>\n",
       "      <td>KB금융</td>\n",
       "      <td>105560</td>\n",
       "      <td>2022-01-06</td>\n",
       "      <td>56600</td>\n",
       "      <td>56900</td>\n",
       "      <td>55500</td>\n",
       "      <td>55800</td>\n",
       "      <td>988985</td>\n",
       "      <td>-0.014134</td>\n",
       "      <td>NaN</td>\n",
       "      <td>NaN</td>\n",
       "      <td>NaN</td>\n",
       "      <td>NaN</td>\n",
       "      <td>NaN</td>\n",
       "      <td>NaN</td>\n",
       "      <td>NaN</td>\n",
       "      <td>NaN</td>\n",
       "      <td>NaN</td>\n",
       "    </tr>\n",
       "    <tr>\n",
       "      <th>4</th>\n",
       "      <td>KB금융</td>\n",
       "      <td>KB금융</td>\n",
       "      <td>105560</td>\n",
       "      <td>2022-01-07</td>\n",
       "      <td>56000</td>\n",
       "      <td>56100</td>\n",
       "      <td>54800</td>\n",
       "      <td>55700</td>\n",
       "      <td>1193940</td>\n",
       "      <td>-0.001792</td>\n",
       "      <td>NaN</td>\n",
       "      <td>NaN</td>\n",
       "      <td>NaN</td>\n",
       "      <td>NaN</td>\n",
       "      <td>NaN</td>\n",
       "      <td>NaN</td>\n",
       "      <td>NaN</td>\n",
       "      <td>NaN</td>\n",
       "      <td>NaN</td>\n",
       "    </tr>\n",
       "  </tbody>\n",
       "</table>\n",
       "</div>"
      ],
      "text/plain": [
       "  underlying underlying_full  ticker         날짜     시가     고가     저가     종가  \\\n",
       "0       KB금융            KB금융  105560 2022-01-03  54900  55700  54800  55300   \n",
       "1       KB금융            KB금융  105560 2022-01-04  55800  56400  55600  56400   \n",
       "2       KB금융            KB금융  105560 2022-01-05  56400  57100  55800  56600   \n",
       "3       KB금융            KB금융  105560 2022-01-06  56600  56900  55500  55800   \n",
       "4       KB금융            KB금융  105560 2022-01-07  56000  56100  54800  55700   \n",
       "\n",
       "       거래량       등락률  SMA  ret_vol_20d  sma_vol_20d  ret_vol_60d  sma_vol_60d  \\\n",
       "0   635124  0.005455  NaN          NaN          NaN          NaN          NaN   \n",
       "1   927067  0.019892  NaN          NaN          NaN          NaN          NaN   \n",
       "2  1429634  0.003546  NaN          NaN          NaN          NaN          NaN   \n",
       "3   988985 -0.014134  NaN          NaN          NaN          NaN          NaN   \n",
       "4  1193940 -0.001792  NaN          NaN          NaN          NaN          NaN   \n",
       "\n",
       "   ret_vol_120d  sma_vol_120d  ret_vol_180d  sma_vol_180d  \n",
       "0           NaN           NaN           NaN           NaN  \n",
       "1           NaN           NaN           NaN           NaN  \n",
       "2           NaN           NaN           NaN           NaN  \n",
       "3           NaN           NaN           NaN           NaN  \n",
       "4           NaN           NaN           NaN           NaN  "
      ]
     },
     "execution_count": 157,
     "metadata": {},
     "output_type": "execute_result"
    }
   ],
   "source": [
    "underlyings_df.head()"
   ]
  },
  {
   "cell_type": "code",
   "execution_count": 158,
   "metadata": {},
   "outputs": [
    {
     "data": {
      "text/plain": [
       "43780"
      ]
     },
     "execution_count": 158,
     "metadata": {},
     "output_type": "execute_result"
    }
   ],
   "source": [
    "len(underlyings_df)"
   ]
  },
  {
   "cell_type": "code",
   "execution_count": 159,
   "metadata": {},
   "outputs": [],
   "source": [
    "underlyings_df.rename(\n",
    "    columns={\n",
    "        '날짜': 'trade_date',\n",
    "        '시가': 'udly_open',\n",
    "        '고가': 'udly_high',\n",
    "        '저가': 'udly_low',\n",
    "        '종가': 'udly_close',\n",
    "        '거래량': 'udly_volume',\n",
    "        '등락률': 'udly_return',\n",
    "        }, \n",
    "    inplace=True,\n",
    "    )"
   ]
  },
  {
   "cell_type": "code",
   "execution_count": 160,
   "metadata": {},
   "outputs": [],
   "source": [
    "option_data_full = krx_option_df.merge(underlyings_df, left_on=['underlying', 'trade_date'], right_on=['underlying', 'trade_date'], how='left')"
   ]
  },
  {
   "cell_type": "code",
   "execution_count": 161,
   "metadata": {},
   "outputs": [],
   "source": [
    "# 옵션이 close_price 도 없고 open_interest_quantity 도 0인 경우 제외. 아예 거래 없는 행사가의 옵션들임. \n",
    "\n",
    "option_data_full = option_data_full[option_data_full['close_price'].notnull() & (option_data_full['open_interest_quantity'] > 0)].copy()"
   ]
  },
  {
   "cell_type": "code",
   "execution_count": 162,
   "metadata": {},
   "outputs": [],
   "source": [
    "# 현재 underlying의 종가와 행사가의 차이 기준으로 ATM, OTM, ITM 구분\n",
    "\n",
    "option_data_full['close_strike_diff'] = option_data_full['udly_close'] - option_data_full['strike']"
   ]
  },
  {
   "cell_type": "code",
   "execution_count": 163,
   "metadata": {},
   "outputs": [],
   "source": [
    "# 가장 작은 차이를 가지는 것이 ATM\n",
    "\n",
    "option_data_full['atm'] = option_data_full.groupby(['trade_date', 'underlying', 'call_or_put', 'expiration', ])['close_strike_diff'].transform(lambda x: x.abs().idxmin() == x.index)"
   ]
  },
  {
   "cell_type": "code",
   "execution_count": 164,
   "metadata": {},
   "outputs": [],
   "source": [
    "# open interest quantity는 있는데 거래가 안돼서 가격이 없는 경우가 존재함. (deep deep ITM/OTM)\n",
    "# 이 경우 atm, otm, itm 모두 False로 처리\n",
    "\n",
    "option_data_full['atm'] = option_data_full['atm'] & option_data_full['close_price'].notnull()"
   ]
  },
  {
   "cell_type": "code",
   "execution_count": 165,
   "metadata": {},
   "outputs": [],
   "source": [
    "option_data_full['itm'] = False\n",
    "\n",
    "option_data_full.loc[option_data_full['call_or_put'] == 'C', 'itm'] = option_data_full.loc[option_data_full['call_or_put'] == 'C', 'close_strike_diff'] > 0\n",
    "option_data_full.loc[option_data_full['call_or_put'] == 'P', 'itm'] = option_data_full.loc[option_data_full['call_or_put'] == 'P', 'close_strike_diff'] < 0\n",
    "\n",
    "option_data_full.loc[option_data_full['atm'] == True, 'itm'] = False # ATM은 ITM이 아님"
   ]
  },
  {
   "cell_type": "code",
   "execution_count": 166,
   "metadata": {},
   "outputs": [],
   "source": [
    "# 마찬가지로 itm도 close_price가 없으면 모두 False로 처리\n",
    "\n",
    "option_data_full['itm'] = option_data_full['itm'] & option_data_full['close_price'].notnull()"
   ]
  },
  {
   "cell_type": "code",
   "execution_count": 167,
   "metadata": {},
   "outputs": [],
   "source": [
    "option_data_full['otm'] = ~option_data_full['atm'] & ~option_data_full['itm']"
   ]
  },
  {
   "cell_type": "code",
   "execution_count": 168,
   "metadata": {},
   "outputs": [],
   "source": [
    "# 마찬가지로 otm도 close_price가 없으면 모두 False로 처리\n",
    "\n",
    "option_data_full['otm'] = option_data_full['otm'] & option_data_full['close_price'].notnull()"
   ]
  },
  {
   "cell_type": "code",
   "execution_count": 169,
   "metadata": {},
   "outputs": [],
   "source": [
    "# verify atm, itm, otm \n",
    "\n",
    "is_itm = option_data_full['itm'] == True\n",
    "is_atm = option_data_full['atm'] == True\n",
    "is_otm = option_data_full['otm'] == True\n",
    "\n",
    "assert option_data_full[is_itm & is_atm].shape[0] == 0 # ATM이면서 ITM인 경우 없어야 함\n",
    "assert option_data_full[is_itm & is_otm].shape[0] == 0 # OTM이면서 ITM인 경우 없어야 함\n",
    "assert option_data_full[is_atm & is_otm].shape[0] == 0 # ATM이면서 OTM인 경우 없어야 함\n",
    "\n",
    "# assert option_data_full[~(is_itm | is_atm | is_otm)].shape[0] == 0 # ATM, ITM, OTM이 아닌 경우는 존재함. open interest가 있는데 거래가 안된 경우"
   ]
  },
  {
   "cell_type": "code",
   "execution_count": 170,
   "metadata": {},
   "outputs": [],
   "source": [
    "option_data_full['moneyness'] = np.log(option_data_full['strike'] / option_data_full['udly_close'])"
   ]
  },
  {
   "cell_type": "code",
   "execution_count": 171,
   "metadata": {},
   "outputs": [
    {
     "data": {
      "text/plain": [
       "Index(['underlying', 'call_or_put', 'expiration', 'trade_date', 'strike',\n",
       "       'close_price', 'open_price', 'high_price', 'low_price', 'im_vol',\n",
       "       'next_day_base_price', 'trade_volume', 'trade_value',\n",
       "       'open_interest_quantity', 'underlying_full', 'ticker', 'udly_open',\n",
       "       'udly_high', 'udly_low', 'udly_close', 'udly_volume', 'udly_return',\n",
       "       'SMA', 'ret_vol_20d', 'sma_vol_20d', 'ret_vol_60d', 'sma_vol_60d',\n",
       "       'ret_vol_120d', 'sma_vol_120d', 'ret_vol_180d', 'sma_vol_180d',\n",
       "       'close_strike_diff', 'atm', 'itm', 'otm', 'moneyness'],\n",
       "      dtype='object')"
      ]
     },
     "execution_count": 171,
     "metadata": {},
     "output_type": "execute_result"
    }
   ],
   "source": [
    "option_data_full.columns"
   ]
  },
  {
   "cell_type": "markdown",
   "metadata": {},
   "source": [
    "정확한 만기일 (만기월 두 번째 목요일) 구하기"
   ]
  },
  {
   "cell_type": "code",
   "execution_count": 172,
   "metadata": {},
   "outputs": [
    {
     "name": "stdout",
     "output_type": "stream",
     "text": [
      "The second Thursday of 202201 is 2022-01-13\n"
     ]
    }
   ],
   "source": [
    "from datetime import datetime, timedelta\n",
    "\n",
    "def get_second_thursday_from_str(yyyymm: str) -> datetime:\n",
    "    \"\"\"\n",
    "    Calculate the second Thursday of a given year and month from a string input.\n",
    "    \n",
    "    :param yyyymm: A string in 'YYYYMM' format representing the year and month.\n",
    "    :return: A datetime object representing the second Thursday.\n",
    "    \"\"\"\n",
    "    # Parse the year and month from the string\n",
    "    year = int(yyyymm[:4])\n",
    "    month = int(yyyymm[4:])\n",
    "    \n",
    "    # Get the first day of the month\n",
    "    first_day = datetime(year, month, 1)\n",
    "    \n",
    "    # Find the first Thursday of the month\n",
    "    first_thursday = first_day + timedelta(days=(3 - first_day.weekday() + 7) % 7)\n",
    "    \n",
    "    # Add 7 days to get the second Thursday\n",
    "    second_thursday = first_thursday + timedelta(days=7)\n",
    "    \n",
    "    return second_thursday\n",
    "\n",
    "# Example usage\n",
    "yyyymm = '202201'  # YYYYMM format\n",
    "second_thursday = get_second_thursday_from_str(yyyymm)\n",
    "print(f\"The second Thursday of {yyyymm} is {second_thursday.date()}\")\n"
   ]
  },
  {
   "cell_type": "code",
   "execution_count": 173,
   "metadata": {},
   "outputs": [],
   "source": [
    "option_data_full['expiration_date'] = option_data_full['expiration'].apply(lambda x: get_second_thursday_from_str(x))"
   ]
  },
  {
   "cell_type": "markdown",
   "metadata": {},
   "source": [
    "SMA vol 범위 30% 내외인 종목만 남기기\n",
    "\n",
    "--> sma 로 하면 다 smoothing 되어버려 범위가 전혀 안나옴. \n",
    "\n",
    "그냥 6개월 실현 변동성 연율화 한게 30% 내외인걸로 하자. --> `ret_vol_120d`"
   ]
  },
  {
   "cell_type": "code",
   "execution_count": 185,
   "metadata": {},
   "outputs": [],
   "source": [
    "SMA_VOL_LOWER, SMA_VOL_UPPER = (0.25, 0.35)"
   ]
  },
  {
   "cell_type": "code",
   "execution_count": 189,
   "metadata": {},
   "outputs": [],
   "source": [
    "option_data_full['ret_vol_120d_ann'] = option_data_full['ret_vol_120d'] * np.sqrt(252)"
   ]
  },
  {
   "cell_type": "code",
   "execution_count": 201,
   "metadata": {},
   "outputs": [],
   "source": [
    "TEST_PERIOD = 21 * 6 # 6 months\n",
    "\n",
    "TEST_START_DATE = trade_dates[-TEST_PERIOD]\n",
    "TRAIN_LAST_DATE = trade_dates[-TEST_PERIOD - 1]"
   ]
  },
  {
   "cell_type": "code",
   "execution_count": 202,
   "metadata": {},
   "outputs": [],
   "source": [
    "last_date_data = option_data_full[option_data_full['trade_date'] == TRAIN_LAST_DATE]"
   ]
  },
  {
   "cell_type": "code",
   "execution_count": 205,
   "metadata": {},
   "outputs": [
    {
     "data": {
      "text/plain": [
       "array(['KT', 'LG디스플레', 'LG생활건강', 'LG에너지솔', 'LG전자', 'LG화학', 'NAVER',\n",
       "       '삼성SDS', '삼성전기', '삼성전자', '아모레퍼시', '카카오', '한국항공우', '현대모비스', '현대제철'],\n",
       "      dtype=object)"
      ]
     },
     "execution_count": 205,
     "metadata": {},
     "output_type": "execute_result"
    }
   ],
   "source": [
    "# 6개월 연율화 변동성이 25% 이상 35% 미만인 종목들\n",
    "investment_targets = last_date_data[ (SMA_VOL_LOWER < last_date_data['ret_vol_120d_ann']) & (last_date_data['ret_vol_120d_ann'] < SMA_VOL_UPPER) ]['underlying'].unique()\n",
    "investment_targets"
   ]
  },
  {
   "cell_type": "code",
   "execution_count": 207,
   "metadata": {},
   "outputs": [
    {
     "data": {
      "text/plain": [
       "array(['KB금융', 'KT', 'LGD', 'LG유플러스', 'LG전자', 'LG화학', 'NAVER', 'POSCO',\n",
       "       'SK이노베이', 'SK텔레콤', 'SK하이닉스', '기아', '넷마블', '미래에셋증', '삼성SDI',\n",
       "       '삼성SDS', '삼성물산', '삼성전기', '삼성전자', '셀트리온', '신한지주', '씨젠', '아모레퍼시',\n",
       "       '엔씨소프트', '웹젠', '카카오', '하나지주', '한국전력', '한국조선해', '한국항공우', '한화솔루션',\n",
       "       '현대건설', '현대두산인', '현대모비스', '현대제철', '현대차', '호텔신라', 'LG에너지솔',\n",
       "       'SK바이오사', 'SK아이이테', '카카오뱅크', '카카오페이', 'HD현대인프', 'HD한국조선', 'HMM',\n",
       "       '두산에너빌', '포스코퓨처', 'LG생활건강', 'LG이노텍', 'LG디스플레', '에코프로비', '엘앤에프',\n",
       "       '포스코DX', '포스코인터', '하나금융지', '한화에어로', 'HD현대일렉', '삼성바이오', '삼성생명',\n",
       "       '알테오젠', '하이브'], dtype=object)"
      ]
     },
     "execution_count": 207,
     "metadata": {},
     "output_type": "execute_result"
    }
   ],
   "source": [
    "# 원래 전체 데이터\n",
    "option_data_full['underlying'].unique()"
   ]
  },
  {
   "cell_type": "code",
   "execution_count": 208,
   "metadata": {},
   "outputs": [],
   "source": [
    "option_data_targets = option_data_full[option_data_full['underlying'].isin(investment_targets)].copy()"
   ]
  },
  {
   "cell_type": "code",
   "execution_count": null,
   "metadata": {},
   "outputs": [],
   "source": [
    "option_data_targets.drop(\n",
    "    columns=[\n",
    "        'SMA', \n",
    "        'ret_vol_20d', 'ret_vol_60d', 'ret_vol_120d', 'ret_vol_180d',\n",
    "        'sma_vol_20d', 'sma_vol_60d', 'sma_vol_120d', 'sma_vol_180d',\n",
    "        'underlying'\n",
    "    ],\n",
    "    inplace=True,\n",
    ")"
   ]
  },
  {
   "cell_type": "code",
   "execution_count": 215,
   "metadata": {},
   "outputs": [],
   "source": [
    "option_data_targets = option_data_targets[\n",
    "    [\n",
    "        # 옵션 기본 정보\n",
    "        'underlying_full', # underlying 주식명\n",
    "        'ticker', # underlying 주식 코드\n",
    "        'trade_date', # 거래일자\n",
    "        'expiration', # 만기월 (YYYYMM)\n",
    "        'expiration_date', # 정확한 만기일자 (해당 월 2번째 목요일)\n",
    "        'call_or_put', # C/P\n",
    "        'strike', # 행사가\n",
    "\n",
    "        # 옵션 가격 정보\n",
    "        'close_price', # 옵션의 종가\n",
    "        'open_price', # 옵션의 시가\n",
    "        'high_price', # 옵션의 고가\n",
    "        'low_price', # 옵션의 저가\n",
    "        'im_vol', # 옵션의 내재 변동성\n",
    "        'next_day_base_price', # 다음 거래일의 옵션 기준가 (특별한 일 없으면 오늘 옵션의 종가와 같음)\n",
    "        'trade_volume', # 옵션 거래량\n",
    "        'trade_value', # 옵션 거래대금\n",
    "        'open_interest_quantity', # 옵션 잔존수량\n",
    "        \n",
    "        # 주식 가격 정보\n",
    "        'udly_open', # 주식 시가\n",
    "        'udly_high', # 주식 고가\n",
    "        'udly_low', # 주식 저가\n",
    "        'udly_close', # 주식 종가\n",
    "        'udly_volume', # 주식 거래량\n",
    "        'udly_return', # 주식 수익률\n",
    "        'ret_vol_120d_ann', # 주식 120일 변동성 (연율화) = 6개월 실현변동성 (realized volatility)\n",
    "\n",
    "        # moneyness 정보\n",
    "        'close_strike_diff', # 행사가와 주식 종가의 차이\n",
    "        'atm', # ATM 여부 (True/False)\n",
    "        'itm', # ITM 여부 (True/False)\n",
    "        'otm', # OTM 여부 (True/False)\n",
    "        'moneyness', # moneyness (= log(strike / udly_close))\n",
    "\n",
    "    ]\n",
    "]"
   ]
  },
  {
   "cell_type": "code",
   "execution_count": 216,
   "metadata": {},
   "outputs": [],
   "source": [
    "option_data_targets.to_parquet(OUTPUT_PATH / 'option_data_targets_20220101-20241204.parquet')"
   ]
  },
  {
   "cell_type": "code",
   "execution_count": null,
   "metadata": {},
   "outputs": [],
   "source": []
  }
 ],
 "metadata": {
  "kernelspec": {
   "display_name": ".venv",
   "language": "python",
   "name": "python3"
  },
  "language_info": {
   "codemirror_mode": {
    "name": "ipython",
    "version": 3
   },
   "file_extension": ".py",
   "mimetype": "text/x-python",
   "name": "python",
   "nbconvert_exporter": "python",
   "pygments_lexer": "ipython3",
   "version": "3.11.5"
  }
 },
 "nbformat": 4,
 "nbformat_minor": 2
}
