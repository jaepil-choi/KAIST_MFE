{
 "cells": [
  {
   "cell_type": "code",
   "execution_count": null,
   "id": "d3633d55",
   "metadata": {},
   "outputs": [],
   "source": [
    "import numpy as np\n",
    "import pandas as pd\n",
    "import matplotlib.pyplot as plt\n",
    "from scipy.stats import norm\n",
    "from tqdm import tqdm\n",
    "from scipy.ndimage.interpolation import shift\n",
    "import scipy.stats as sst\n",
    "import seaborn as sns\n",
    "import time\n",
    "import warnings\n",
    "warnings.filterwarnings('ignore')\n",
    "\n",
    "from arch import arch_model"
   ]
  },
  {
   "cell_type": "code",
   "execution_count": null,
   "id": "5fb0ee4c",
   "metadata": {},
   "outputs": [],
   "source": [
    "pd.set_option('display.float_format', '{:.2f}'.format)"
   ]
  },
  {
   "cell_type": "code",
   "execution_count": null,
   "id": "fbfbc399",
   "metadata": {},
   "outputs": [],
   "source": [
    "from pathlib import Path\n",
    "# OUTPUT_PATH = Path(r\"C:\\Users\\USER\\OneDrive\\바탕 화면\\임우섭\\01. 카이스트\\02. 입학후\\03. 24-2학기\\08. 파생상품 거래전략\\04. 과제\\02. Term project\")\n",
    "\n",
    "# CWD_PATH = Path.cwd()\n",
    "# OUTPUT_PATH = CWD_PATH / \"output\"\n",
    "# DATA_PATH = CWD_PATH / \"data\""
   ]
  },
  {
   "cell_type": "code",
   "execution_count": null,
   "id": "111b850f",
   "metadata": {
    "lines_to_next_cell": 2
   },
   "outputs": [],
   "source": [
    "import os\n",
    "import pandas as pd\n",
    "\n",
    "# Get the current directory\n",
    "current_dir = os.getcwd()\n",
    "\n",
    "# List all files in the current directory\n",
    "all_files = os.listdir(current_dir)\n",
    "\n",
    "# Filter files starting with 'hc_pnl' and ending with '.pkl'\n",
    "pickle_files = [file for file in all_files if file.startswith('hc_pnl') and file.endswith('.pkl')]\n",
    "\n",
    "# Initialize an empty list to store DataFrames\n",
    "dataframes = []\n",
    "\n",
    "# Load each pickle file into a DataFrame and append it to the list\n",
    "for file in pickle_files:\n",
    "    df = pd.read_pickle(file)\n",
    "    dataframes.append(df)\n",
    "\n",
    "# Merge all DataFrames into one\n",
    "merged_df = pd.concat(dataframes, ignore_index=True)\n",
    "\n",
    "# Display the merged DataFrame"
   ]
  },
  {
   "cell_type": "code",
   "execution_count": null,
   "id": "1f5b7d88",
   "metadata": {},
   "outputs": [],
   "source": [
    "merged_df"
   ]
  },
  {
   "cell_type": "code",
   "execution_count": null,
   "id": "329df888",
   "metadata": {},
   "outputs": [],
   "source": [
    "merged_df.describe()"
   ]
  },
  {
   "cell_type": "code",
   "execution_count": null,
   "id": "cb608645",
   "metadata": {},
   "outputs": [],
   "source": []
  }
 ],
 "metadata": {
  "kernelspec": {
   "display_name": ".venv",
   "language": "python",
   "name": "python3"
  }
 },
 "nbformat": 4,
 "nbformat_minor": 5
}
