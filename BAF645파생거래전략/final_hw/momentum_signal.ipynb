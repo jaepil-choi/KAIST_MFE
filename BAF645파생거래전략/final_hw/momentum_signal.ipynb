{
 "cells": [
  {
   "cell_type": "markdown",
   "id": "9737ef57",
   "metadata": {},
   "source": [
    "# 모멘텀 시그널\n",
    "\n",
    "- 옵션이 ITM으로 끝나는지 OTM으로 끝나는지 ATM으로 끝나는지 등을 보기 위함"
   ]
  },
  {
   "cell_type": "code",
   "execution_count": null,
   "id": "ae394fca",
   "metadata": {},
   "outputs": [],
   "source": [
    "import pandas as pd\n",
    "import numpy as np\n",
    "\n",
    "import matplotlib.pyplot as plt\n",
    "import seaborn as sns\n",
    "import plotly.graph_objects as go\n",
    "\n",
    "from pathlib import Path\n",
    "\n",
    "from tqdm import tqdm"
   ]
  },
  {
   "cell_type": "code",
   "execution_count": null,
   "id": "e944fd14",
   "metadata": {},
   "outputs": [],
   "source": [
    "CWD_PATH = Path.cwd()\n",
    "DATA_PATH = CWD_PATH / 'data'\n",
    "OUTPUT_PATH = CWD_PATH / 'output'"
   ]
  },
  {
   "cell_type": "code",
   "execution_count": null,
   "id": "c30d5fab",
   "metadata": {},
   "outputs": [],
   "source": [
    "data_df = pd.read_parquet(OUTPUT_PATH / 'option_data_targets_20220101-20241204.parquet')"
   ]
  },
  {
   "cell_type": "markdown",
   "id": "80a1878d",
   "metadata": {},
   "source": [
    "## underlying만 남기기 "
   ]
  },
  {
   "cell_type": "code",
   "execution_count": null,
   "id": "7a540704",
   "metadata": {},
   "outputs": [],
   "source": [
    "ticker = '005930'"
   ]
  },
  {
   "cell_type": "code",
   "execution_count": null,
   "id": "967a99af",
   "metadata": {},
   "outputs": [],
   "source": [
    "data_df = data_df[data_df['ticker'] == ticker]"
   ]
  },
  {
   "cell_type": "code",
   "execution_count": null,
   "id": "30c46a34",
   "metadata": {},
   "outputs": [],
   "source": [
    "udly_cols = [\n",
    "    'trade_date',\n",
    "    'udly_open',\n",
    "    'udly_high',\n",
    "    'udly_low',\n",
    "    'udly_close',\n",
    "    'udly_volume',\n",
    "    'udly_return',   \n",
    "]"
   ]
  },
  {
   "cell_type": "code",
   "execution_count": null,
   "id": "765f7617",
   "metadata": {},
   "outputs": [],
   "source": [
    "data_df = data_df[udly_cols].drop_duplicates().sort_values('trade_date').reset_index(drop=True)"
   ]
  },
  {
   "cell_type": "code",
   "execution_count": null,
   "id": "83db10bf",
   "metadata": {},
   "outputs": [],
   "source": [
    "data_df.set_index('trade_date', inplace=True)"
   ]
  },
  {
   "cell_type": "code",
   "execution_count": null,
   "id": "edd0396c",
   "metadata": {},
   "outputs": [],
   "source": [
    "fig = go.Figure(data=[go.Candlestick(\n",
    "    x=data_df.index,\n",
    "    open=data_df['udly_open'],\n",
    "    high=data_df['udly_high'],\n",
    "    low=data_df['udly_low'],\n",
    "    close=data_df['udly_close'],\n",
    ")])"
   ]
  },
  {
   "cell_type": "code",
   "execution_count": null,
   "id": "ee100d92",
   "metadata": {},
   "outputs": [],
   "source": [
    "fig.update_layout(\n",
    "    title=f'{ticker} Daily Candlestick',\n",
    "    xaxis_title='Date',\n",
    "    yaxis_title='Price',\n",
    "    xaxis_rangeslider_visible=False,\n",
    ")\n",
    "\n",
    "fig.show()"
   ]
  },
  {
   "cell_type": "markdown",
   "id": "b2f593fb",
   "metadata": {},
   "source": [
    "## 모멘텀 시그널\n",
    "\n",
    "- 캔들 "
   ]
  },
  {
   "cell_type": "code",
   "execution_count": null,
   "id": "1c23556f",
   "metadata": {},
   "outputs": [],
   "source": [
    "# 1. Short term moving average deviation\n",
    "\n",
    "import numpy as np\n",
    "import pandas as pd\n",
    "\n",
    "def sma_momentum_signal(data_df, window=5):\n",
    "    # Calculate 5-day SMA of close\n",
    "    sma = data_df['udly_close'].rolling(window=window).mean()\n",
    "    # Compute ratio: (close - SMA)/SMA\n",
    "    ratio = (data_df['udly_close'] - sma) / sma\n",
    "    # Use tanh to scale into (-1,1)\n",
    "    signal = np.tanh(ratio)\n",
    "    return signal\n",
    "\n"
   ]
  },
  {
   "cell_type": "code",
   "execution_count": null,
   "id": "0da83140",
   "metadata": {},
   "outputs": [],
   "source": [
    "# 2. recent returns momentum signal\n",
    "\n",
    "def recent_returns_momentum_signal(data_df, window=10):\n",
    "    # Rolling sum of returns\n",
    "    rolling_sum = data_df['udly_return'].rolling(window=window).sum()\n",
    "    # Standard deviation of recent returns for scaling\n",
    "    rolling_std = data_df['udly_return'].rolling(window=window).std()\n",
    "    \n",
    "    # Avoid division by zero\n",
    "    scaled = rolling_sum / (rolling_std + 1e-9)\n",
    "    # Tanh for (-1,1)\n",
    "    signal = np.tanh(scaled)\n",
    "    return signal\n",
    "\n"
   ]
  },
  {
   "cell_type": "code",
   "execution_count": null,
   "id": "7dcb6af4",
   "metadata": {},
   "outputs": [],
   "source": [
    "# 3. RSI based momentum signal \n",
    "\n",
    "def rsi_momentum_signal(data_df, period=14):\n",
    "    # Calculate RSI\n",
    "    # RSI = 100 - [100/(1 + avg_gain/avg_loss)]\n",
    "    diff = data_df['udly_close'].diff()\n",
    "    gain = diff.clip(lower=0)\n",
    "    loss = -diff.clip(upper=0)\n",
    "    avg_gain = gain.rolling(window=period).mean()\n",
    "    avg_loss = loss.rolling(window=period).mean()\n",
    "    rs = avg_gain / (avg_loss + 1e-9)\n",
    "    rsi = 100 - (100 / (1 + rs))\n",
    "    \n",
    "    # Scale RSI: (RSI - 50)/50 => [-1, 1]\n",
    "    signal = (rsi - 50) / 50\n",
    "    return signal\n",
    "\n"
   ]
  },
  {
   "cell_type": "code",
   "execution_count": null,
   "id": "35f7849c",
   "metadata": {},
   "outputs": [],
   "source": [
    "# 4. Price channel breakout positioning\n",
    "\n",
    "def channel_position_signal(data_df, window=20):\n",
    "    # Rolling highest high and lowest low\n",
    "    highest = data_df['udly_high'].rolling(window=window).max()\n",
    "    lowest = data_df['udly_low'].rolling(window=window).min()\n",
    "    # Position of close within the channel\n",
    "    position = (data_df['udly_close'] - lowest) / (highest - lowest + 1e-9)\n",
    "    # Scale to (-1, 1)\n",
    "    signal = 2 * position - 1\n",
    "    return signal\n",
    "\n"
   ]
  },
  {
   "cell_type": "code",
   "execution_count": null,
   "id": "29983591",
   "metadata": {},
   "outputs": [],
   "source": [
    "# 5. Intraday momentum signal \n",
    "\n",
    "def intraday_momentum_signal(data_df):\n",
    "    day_range = (data_df['udly_high'] - data_df['udly_low']) + 1e-9\n",
    "    position = (data_df['udly_close'] - data_df['udly_low']) / day_range\n",
    "    signal = 2 * position - 1\n",
    "    return signal\n",
    "\n"
   ]
  },
  {
   "cell_type": "code",
   "execution_count": null,
   "id": "efb9eb3f",
   "metadata": {},
   "outputs": [],
   "source": [
    "# 6. gap momentum strategy\n",
    "\n",
    "import numpy as np\n",
    "\n",
    "def gap_momentum_signal(data_df):\n",
    "    prev_close = data_df['udly_close'].shift(1)\n",
    "    gap = (data_df['udly_open'] - prev_close) / (prev_close + 1e-9)\n",
    "    signal = np.tanh(gap)\n",
    "    return signal\n",
    "\n"
   ]
  },
  {
   "cell_type": "code",
   "execution_count": null,
   "id": "a5a7745a",
   "metadata": {},
   "outputs": [],
   "source": [
    "# 7. volume breakout\n",
    "\n",
    "def volatility_breakout_signal(data_df, window=20):\n",
    "    # Normalized daily range\n",
    "    daily_range_norm = (data_df['udly_high'] - data_df['udly_low']) / (data_df['udly_close'] + 1e-9)\n",
    "    \n",
    "    # Rolling average of normalized daily ranges\n",
    "    rolling_avg_range = daily_range_norm.rolling(window=window).mean()\n",
    "    \n",
    "    # Ratio of today's range to recent average (subtract 1 so that 1 means no change)\n",
    "    ratio = (daily_range_norm / (rolling_avg_range + 1e-9)) - 1\n",
    "    \n",
    "    # Position of close within today's range (2P_t - 1 maps [0,1] to [-1,1])\n",
    "    pos = (data_df['udly_close'] - data_df['udly_low']) / ((data_df['udly_high'] - data_df['udly_low']) + 1e-9)\n",
    "    pos_scaled = 2 * pos - 1\n",
    "    \n",
    "    # Combine ratio and position and apply tanh to ratio (pos is already [-1,1])\n",
    "    signal = np.tanh(ratio) * pos_scaled\n",
    "    return signal\n",
    "\n"
   ]
  },
  {
   "cell_type": "code",
   "execution_count": null,
   "id": "177bdfef",
   "metadata": {},
   "outputs": [],
   "source": [
    "# 8. Volume Spike Confirmation Signal\n",
    "\n",
    "import numpy as np\n",
    "import pandas as pd\n",
    "\n",
    "def volume_spike_confirmation_signal(data_df, window=20):\n",
    "    avg_vol = data_df['udly_volume'].rolling(window=window).mean()\n",
    "    vol_ratio = (data_df['udly_volume'] / (avg_vol + 1e-9))\n",
    "    \n",
    "    price_dir = (data_df['udly_close'] - data_df['udly_open']) / (data_df['udly_open'] + 1e-9)\n",
    "    combined = vol_ratio * price_dir\n",
    "    \n",
    "    signal = np.tanh(combined)\n",
    "    return signal\n",
    "\n"
   ]
  },
  {
   "cell_type": "code",
   "execution_count": null,
   "id": "bd43282f",
   "metadata": {},
   "outputs": [],
   "source": [
    "# 9. On-Balance Volume (OBV) Momentum Signal\n",
    "\n",
    "def obv_momentum_signal(data_df, window=20):\n",
    "    close = data_df['udly_close']\n",
    "    volume = data_df['udly_volume']\n",
    "    \n",
    "    # Compute OBV\n",
    "    direction = np.sign(close.diff().fillna(0))\n",
    "    # direction: +1 if up, -1 if down, 0 if flat\n",
    "    obv = (direction * volume).cumsum()\n",
    "    \n",
    "    # Compute a rolling standard deviation and difference\n",
    "    obv_diff = (obv - obv.shift(window)) / (obv.rolling(window=window).std() + 1e-9)\n",
    "    \n",
    "    signal = np.tanh(obv_diff)\n",
    "    return signal\n",
    "\n"
   ]
  },
  {
   "cell_type": "code",
   "execution_count": null,
   "id": "517b6146",
   "metadata": {},
   "outputs": [],
   "source": [
    "# 10. Volume-Adjusted Volatility Breakout Signal\n",
    "\n",
    "def volume_adjusted_breakout_signal(data_df, window=20):\n",
    "    close = data_df['udly_close']\n",
    "    high = data_df['udly_high']\n",
    "    low = data_df['udly_low']\n",
    "    volume = data_df['udly_volume']\n",
    "    \n",
    "    # Normalized daily range\n",
    "    daily_range_norm = (high - low) / (close + 1e-9)\n",
    "    \n",
    "    # Rolling averages\n",
    "    avg_range = daily_range_norm.rolling(window=window).mean()\n",
    "    avg_vol = volume.rolling(window=window).mean()\n",
    "    \n",
    "    # Ratios\n",
    "    range_ratio = (daily_range_norm / (avg_range + 1e-9)) - 1\n",
    "    vol_ratio = (volume / (avg_vol + 1e-9)) - 1\n",
    "    \n",
    "    # Combine and factor in the candle's close position\n",
    "    combined = range_ratio * vol_ratio\n",
    "    pos = (close - low) / ((high - low) + 1e-9)\n",
    "    pos_scaled = 2 * pos - 1\n",
    "    \n",
    "    signal = np.tanh(combined) * pos_scaled\n",
    "    return signal\n",
    "\n"
   ]
  },
  {
   "cell_type": "code",
   "execution_count": null,
   "id": "250eb054",
   "metadata": {
    "lines_to_next_cell": 2
   },
   "outputs": [],
   "source": [
    "mom1 = sma_momentum_signal(data_df)\n",
    "mom2 = recent_returns_momentum_signal(data_df)\n",
    "mom3 = rsi_momentum_signal(data_df)\n",
    "mom4 = channel_position_signal(data_df)\n",
    "mom5 = intraday_momentum_signal(data_df)\n",
    "mom6 = gap_momentum_signal(data_df)\n",
    "mom7 = volatility_breakout_signal(data_df)\n",
    "mom8 = volume_spike_confirmation_signal(data_df)\n",
    "mom9 = obv_momentum_signal(data_df)\n",
    "mom10 = volume_adjusted_breakout_signal(data_df)"
   ]
  },
  {
   "cell_type": "code",
   "execution_count": null,
   "id": "9427c949",
   "metadata": {},
   "outputs": [],
   "source": [
    "data_df['mom1'] = mom1\n",
    "data_df['mom2'] = mom2\n",
    "data_df['mom3'] = mom3\n",
    "data_df['mom4'] = mom4\n",
    "data_df['mom5'] = mom5\n",
    "data_df['mom6'] = mom6\n",
    "data_df['mom7'] = mom7\n",
    "data_df['mom8'] = mom8\n",
    "data_df['mom9'] = mom9\n",
    "data_df['mom10'] = mom10"
   ]
  },
  {
   "cell_type": "code",
   "execution_count": null,
   "id": "70028a08",
   "metadata": {},
   "outputs": [],
   "source": [
    "performance = data_df[\n",
    "    [\n",
    "        'mom1',\n",
    "        'mom2',\n",
    "        'mom3',\n",
    "        'mom4',\n",
    "        'mom5',\n",
    "        'mom6',\n",
    "        'mom7',\n",
    "        'mom8',\n",
    "        'mom9',\n",
    "        'mom10',\n",
    "    ]\n",
    "].copy()\n",
    "\n",
    "performance = performance.shift(1)\n",
    "performance = performance.mul(data_df['udly_return'], axis=0).cumsum()"
   ]
  },
  {
   "cell_type": "code",
   "execution_count": null,
   "id": "0bcb5141",
   "metadata": {},
   "outputs": [],
   "source": [
    "performance.plot(title='Momentum Strategy Performance', figsize=(14, 7))"
   ]
  },
  {
   "cell_type": "code",
   "execution_count": null,
   "id": "45abd6d2",
   "metadata": {},
   "outputs": [],
   "source": [
    "performance.iloc[-1].sort_values(ascending=False)"
   ]
  },
  {
   "cell_type": "code",
   "execution_count": null,
   "id": "bfb98f11",
   "metadata": {},
   "outputs": [],
   "source": [
    "mom_to_name = {\n",
    "    'mom1': 'SMA Momentum',\n",
    "    'mom2': 'Recent Returns Momentum',\n",
    "    'mom3': 'RSI Momentum',\n",
    "    'mom4': 'Channel Position',\n",
    "    'mom5': 'Intraday Momentum',\n",
    "    'mom6': 'Gap Momentum',\n",
    "    'mom7': 'Volatility Breakout',\n",
    "    'mom8': 'Volume Spike Confirmation',\n",
    "    'mom9': 'OBV Momentum',\n",
    "    'mom10': 'Volume-Adjusted Breakout',\n",
    "}"
   ]
  },
  {
   "cell_type": "code",
   "execution_count": null,
   "id": "76f4bd1c",
   "metadata": {},
   "outputs": [],
   "source": [
    "mom9.to_pickle(OUTPUT_PATH / 'mom9.pkl')\n",
    "mom7.to_pickle(OUTPUT_PATH / 'mom7.pkl')\n",
    "mom10.to_pickle(OUTPUT_PATH / 'mom10.pkl')"
   ]
  },
  {
   "cell_type": "code",
   "execution_count": null,
   "id": "691ec1e8",
   "metadata": {},
   "outputs": [],
   "source": [
    "data_df.to_pickle(OUTPUT_PATH / 'samsung_df.pkl')"
   ]
  },
  {
   "cell_type": "markdown",
   "id": "f139c826",
   "metadata": {},
   "source": [
    "## Vol signals"
   ]
  },
  {
   "cell_type": "code",
   "execution_count": null,
   "id": "ee3ec11c",
   "metadata": {},
   "outputs": [],
   "source": []
  },
  {
   "cell_type": "code",
   "execution_count": null,
   "id": "968f9c87",
   "metadata": {},
   "outputs": [],
   "source": []
  },
  {
   "cell_type": "markdown",
   "id": "b63aa243",
   "metadata": {},
   "source": [
    "## Export data"
   ]
  },
  {
   "cell_type": "code",
   "execution_count": null,
   "id": "3748e9ec",
   "metadata": {},
   "outputs": [],
   "source": [
    "data_df = pd.read_parquet(OUTPUT_PATH / 'option_data_targets_20220101-20241204.parquet')"
   ]
  },
  {
   "cell_type": "code",
   "execution_count": null,
   "id": "fcd03cec",
   "metadata": {},
   "outputs": [],
   "source": [
    "udly_cols = [\n",
    "    'trade_date',\n",
    "    'underlying_full',\n",
    "    'udly_open',\n",
    "    'udly_high',\n",
    "    'udly_low',\n",
    "    'udly_close',\n",
    "    'udly_volume',\n",
    "    'udly_return',   \n",
    "]"
   ]
  },
  {
   "cell_type": "code",
   "execution_count": null,
   "id": "d856368c",
   "metadata": {},
   "outputs": [],
   "source": [
    "data_df = data_df[udly_cols].drop_duplicates().sort_values('trade_date').reset_index(drop=True)"
   ]
  },
  {
   "cell_type": "code",
   "execution_count": null,
   "id": "17cb3ab4",
   "metadata": {},
   "outputs": [],
   "source": [
    "data_df.set_index('trade_date', inplace=True)"
   ]
  },
  {
   "cell_type": "code",
   "execution_count": null,
   "id": "c4fa7ccd",
   "metadata": {},
   "outputs": [],
   "source": [
    "data_df.to_pickle(OUTPUT_PATH / 'all_udly_df.pkl')"
   ]
  },
  {
   "cell_type": "code",
   "execution_count": null,
   "id": "a44dd9e4",
   "metadata": {},
   "outputs": [],
   "source": [
    "data_df"
   ]
  },
  {
   "cell_type": "code",
   "execution_count": null,
   "id": "99328690",
   "metadata": {},
   "outputs": [],
   "source": []
  }
 ],
 "metadata": {
  "kernelspec": {
   "display_name": ".venv",
   "language": "python",
   "name": "python3"
  }
 },
 "nbformat": 4,
 "nbformat_minor": 5
}
