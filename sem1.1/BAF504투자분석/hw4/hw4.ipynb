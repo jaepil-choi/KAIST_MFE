{
 "cells": [
  {
   "cell_type": "markdown",
   "id": "2a994194",
   "metadata": {},
   "source": [
    "# 투자분석 hw4\n",
    "\n",
    "20249433 최재필\n"
   ]
  },
  {
   "cell_type": "code",
   "execution_count": null,
   "id": "7b3924fd",
   "metadata": {},
   "outputs": [],
   "source": [
    "import pandas as pd\n",
    "import numpy as np\n",
    "\n",
    "import matplotlib.pyplot as plt\n",
    "import seaborn as sns\n",
    "\n",
    "import scipy.stats as stats\n",
    "import statsmodels.api as sm\n",
    "\n",
    "import yfinance as yf"
   ]
  },
  {
   "cell_type": "markdown",
   "id": "0863ceb8",
   "metadata": {},
   "source": [
    "## (a)\n",
    "\n",
    "- MSFT\n",
    "- GOOG\n",
    "- KO\n",
    "\n",
    "Source: Yahoo Finance"
   ]
  },
  {
   "cell_type": "code",
   "execution_count": null,
   "id": "0edf4027",
   "metadata": {
    "lines_to_next_cell": 2
   },
   "outputs": [],
   "source": [
    "END = '2024-05-31'\n",
    "\n",
    "# START = '2015-01-01'\n",
    "START = pd.to_datetime(END) - pd.DateOffset(years=5)\n",
    "START = START.strftime('%Y-%m-%d')"
   ]
  },
  {
   "cell_type": "code",
   "execution_count": null,
   "id": "d19a3c36",
   "metadata": {},
   "outputs": [],
   "source": [
    "MSFT = yf.Ticker(\"MSFT\") # originally MSFT\n",
    "GOOG = yf.Ticker(\"GOOG\") # originally GOOGL\n",
    "KO = yf.Ticker(\"KO\") # originally KO\n",
    "\n",
    "SPY = yf.Ticker(\"SPY\")\n",
    "Tbill3M = yf.Ticker(\"^IRX\")"
   ]
  },
  {
   "cell_type": "code",
   "execution_count": null,
   "id": "77c97dcb",
   "metadata": {},
   "outputs": [],
   "source": [
    "MSFT_df = MSFT.history(start=START, end=END, interval='1mo')\n",
    "MSFT_ret = MSFT_df['Close'].pct_change().dropna()\n",
    "MSFT_ret = MSFT_ret.rename('MSFT')\n",
    "\n",
    "GOOG_df = GOOG.history(start=START, end=END, interval='1mo')\n",
    "GOOG_ret = GOOG_df['Close'].pct_change().dropna()\n",
    "GOOG_ret = GOOG_ret.rename('GOOG')\n",
    "\n",
    "KO_df = KO.history(start=START, end=END, interval='1mo')\n",
    "KO_ret = KO_df['Close'].pct_change().dropna()\n",
    "KO_ret = KO_ret.rename('KO')\n",
    "\n",
    "SPY_df = SPY.history(start=START, end=END, interval='1mo')\n",
    "SPY_ret = SPY_df['Close'].pct_change().dropna()\n",
    "SPY_ret = SPY_ret.rename('SPY')\n",
    "\n",
    "Tbill3M_df = Tbill3M.history(start=START, end=END, interval='1mo')\n",
    "Tbill3M_ret = Tbill3M_df['Close']\n",
    "Tbill3M_ret = Tbill3M_ret.rename('Tbill3M')\n",
    "Tbill3M_ret = Tbill3M_ret / 100 / 12 # convert to monthly rate"
   ]
  },
  {
   "cell_type": "code",
   "execution_count": null,
   "id": "34ec8654",
   "metadata": {},
   "outputs": [],
   "source": [
    "MSFT_ret.index = MSFT_ret.index.to_period('M')\n",
    "GOOG_ret.index = GOOG_ret.index.to_period('M')\n",
    "KO_ret.index = KO_ret.index.to_period('M')\n",
    "SPY_ret.index = SPY_ret.index.to_period('M')\n",
    "Tbill3M_ret.index = Tbill3M_ret.index.to_period('M')\n",
    "\n",
    "Tbill3M_ret = Tbill3M_ret.reindex(MSFT_ret.index, method='ffill')"
   ]
  },
  {
   "cell_type": "code",
   "execution_count": null,
   "id": "e49c8a8c",
   "metadata": {},
   "outputs": [],
   "source": [
    "df = pd.concat([MSFT_ret, GOOG_ret, KO_ret, SPY_ret, Tbill3M_ret], axis=1)\n",
    "df = df.dropna()"
   ]
  },
  {
   "cell_type": "code",
   "execution_count": null,
   "id": "71292ee3",
   "metadata": {},
   "outputs": [],
   "source": [
    "# Make it excess return\n",
    "excs_df = df.loc[:, ['MSFT', 'GOOG', 'KO', 'SPY']].subtract(df.loc[:, 'Tbill3M'], axis=0)\n",
    "excs_df.columns = [f'{ticker}_excs' for ticker in excs_df.columns]\n",
    "excs_df.tail()"
   ]
  },
  {
   "cell_type": "markdown",
   "id": "18a7df6f",
   "metadata": {},
   "source": [
    "## (b)"
   ]
  },
  {
   "cell_type": "code",
   "execution_count": null,
   "id": "ddba166c",
   "metadata": {},
   "outputs": [],
   "source": [
    "stocks = ['MSFT', 'GOOG', 'KO']\n",
    "\n",
    "def get_SIM_regression(stock_returns, market_returns, print_summary=True):\n",
    "    X = sm.add_constant(market_returns)\n",
    "    model = sm.OLS(stock_returns, X)\n",
    "    results = model.fit()\n",
    "\n",
    "    if print_summary:\n",
    "        print(results.summary())\n",
    "\n",
    "    return results"
   ]
  },
  {
   "cell_type": "markdown",
   "id": "1f0344a3",
   "metadata": {},
   "source": [
    "각 종목의 초과수익률을 시장 초과수익률에 대해 regress"
   ]
  },
  {
   "cell_type": "code",
   "execution_count": null,
   "id": "0fe96fa3",
   "metadata": {},
   "outputs": [],
   "source": [
    "results = {}\n",
    "\n",
    "for stock in stocks:\n",
    "    print(f'SIM regression result of {stock}')\n",
    "    results[stock] = get_SIM_regression(excs_df[f'{stock}_excs'], excs_df['SPY_excs'], print_summary=True)\n",
    "    print('\\n'*5)"
   ]
  },
  {
   "cell_type": "code",
   "execution_count": null,
   "id": "95bf0fad",
   "metadata": {},
   "outputs": [],
   "source": [
    "def get_result_values(single_stock_result):\n",
    "    alpha, beta = single_stock_result.params\n",
    "    t_value_alpha, t_value_beta = single_stock_result.tvalues\n",
    "    p_value_alpha, p_value_beta = single_stock_result.pvalues\n",
    "    r_squared = single_stock_result.rsquared\n",
    "\n",
    "    # residual std는 따로 계산해야 함\n",
    "    residuals = single_stock_result.resid\n",
    "    resid_df = single_stock_result.df_resid\n",
    "    residual_std = np.sqrt( (residuals**2).sum() / resid_df )\n",
    "\n",
    "    result_values = {\n",
    "        'alpha': alpha,\n",
    "        'beta': beta,\n",
    "        't_value_alpha': t_value_alpha,\n",
    "        't_value_beta': t_value_beta,\n",
    "        'p_value_alpha': p_value_alpha,\n",
    "        'p_value_beta': p_value_beta,\n",
    "        'r_squared': r_squared,\n",
    "        'residual_std': residual_std\n",
    "    }\n",
    "\n",
    "    return result_values\n",
    "\n"
   ]
  },
  {
   "cell_type": "code",
   "execution_count": null,
   "id": "2dde48ec",
   "metadata": {
    "lines_to_next_cell": 2
   },
   "outputs": [],
   "source": [
    "msft_result_values = get_result_values(results['MSFT'])\n",
    "goog_result_values = get_result_values(results['GOOG'])\n",
    "ko_result_values = get_result_values(results['KO'])"
   ]
  },
  {
   "cell_type": "code",
   "execution_count": null,
   "id": "b755d332",
   "metadata": {},
   "outputs": [],
   "source": [
    "pd.DataFrame([msft_result_values, goog_result_values, ko_result_values], index=stocks)"
   ]
  },
  {
   "cell_type": "markdown",
   "id": "c74aeebf",
   "metadata": {},
   "source": [
    "## (c)"
   ]
  },
  {
   "cell_type": "markdown",
   "id": "2bede211",
   "metadata": {},
   "source": [
    "다음 방법을 파트 (C)에 사용할 예정입니다.\n",
    "\n",
    "여기서의 문제는 시장 위험 프리미엄 $E[R_m]$, 그 표준 편차, 각 주식의 기대 수익률의 알파 $ \\alpha_i $ 등의 예측된 값에 접근할 수 없다는 것입니다.\n",
    "\n",
    "타임머신이 있다고 가정해보겠습니다. 우리가 2년 전으로 돌아갈 수 있다고 하면, 데이터가 2019년 8월부터 2024년 5월까지 (총 5년) 존재하므로 2022년 6월로 돌아가게 됩니다.\n",
    "\n",
    "이 \"미래\" 2년치 데이터를 통해 시장 위험 프리미엄의 정확한 미래 값, 그 표준 편차, 각 주식의 기대 수익률의 알파를 추정할 수 있습니다.\n",
    "\n",
    "이 데이터를 사용하여 최적의 위험 포트폴리오를 구성할 것입니다. 이 포트폴리오는 지수와 세 개의 주식으로 구성되며, 샤프 비율을 최대화하도록 설계될 것입니다."
   ]
  },
  {
   "cell_type": "code",
   "execution_count": null,
   "id": "14618c64",
   "metadata": {},
   "outputs": [],
   "source": [
    "lookahead = 24"
   ]
  },
  {
   "cell_type": "code",
   "execution_count": null,
   "id": "c5ba001b",
   "metadata": {},
   "outputs": [],
   "source": [
    "# \"미래\" 2개년치와 \"과거\" 3개년치를 나눔\n",
    "\n",
    "lookahead_excs_df = excs_df.iloc[-lookahead:, :].copy()\n",
    "past_excs_df = excs_df.iloc[:-lookahead, :].copy()"
   ]
  },
  {
   "cell_type": "code",
   "execution_count": null,
   "id": "36a5c620",
   "metadata": {},
   "outputs": [],
   "source": [
    "# \"미래\" 기준으로 market excess return의 평균과 표준편차를 구함\n",
    "\n",
    "mkt_excs_mean = lookahead_excs_df['SPY_excs'].mean() # Market expected return\n",
    "mkt_excs_std = lookahead_excs_df['SPY_excs'].std() # Market expected volatility"
   ]
  },
  {
   "cell_type": "code",
   "execution_count": null,
   "id": "dfafed73",
   "metadata": {},
   "outputs": [],
   "source": [
    "ann_mkt_excs_mean = mkt_excs_mean * 12\n",
    "ann_mkt_excs_std = mkt_excs_std * np.sqrt(12)"
   ]
  },
  {
   "cell_type": "code",
   "execution_count": null,
   "id": "3e18cfe2",
   "metadata": {
    "lines_to_next_cell": 2
   },
   "outputs": [],
   "source": [
    "# \"과거\" 기준으로 beta를 구함\n",
    "\n",
    "past_results = {}\n",
    "\n",
    "for stock in stocks:\n",
    "    past_results[stock] = get_SIM_regression(past_excs_df[f'{stock}_excs'], past_excs_df['SPY_excs'], print_summary=False)"
   ]
  },
  {
   "cell_type": "code",
   "execution_count": null,
   "id": "07718724",
   "metadata": {},
   "outputs": [],
   "source": [
    "# \"과거\" 기준 beta\n",
    "betas = np.array([past_results[stock].params.iloc[1] for stock in stocks])\n",
    "betas"
   ]
  },
  {
   "cell_type": "code",
   "execution_count": null,
   "id": "620497c5",
   "metadata": {},
   "outputs": [],
   "source": [
    "# \"미래\" 기준 excess return의 표준편차\n",
    "\n",
    "msft_excs_std = lookahead_excs_df['MSFT_excs'].std()\n",
    "goog_excs_std = lookahead_excs_df['GOOG_excs'].std()\n",
    "ko_excs_std = lookahead_excs_df['KO_excs'].std()\n",
    "\n",
    "excs_stds = np.array([msft_excs_std, goog_excs_std, ko_excs_std])\n",
    "excs_stds"
   ]
  },
  {
   "cell_type": "code",
   "execution_count": null,
   "id": "0e313ce1",
   "metadata": {},
   "outputs": [],
   "source": [
    "ann_excs_stds = excs_stds * np.sqrt(12)\n",
    "ann_excs_stds"
   ]
  },
  {
   "cell_type": "code",
   "execution_count": null,
   "id": "26c46d14",
   "metadata": {},
   "outputs": [],
   "source": [
    "sys_stds = betas * ann_mkt_excs_std\n",
    "sys_stds"
   ]
  },
  {
   "cell_type": "code",
   "execution_count": null,
   "id": "4e034f7d",
   "metadata": {},
   "outputs": [],
   "source": [
    "resid_stds = np.sqrt(ann_excs_stds**2 - sys_stds**2)\n",
    "resid_stds"
   ]
  },
  {
   "cell_type": "code",
   "execution_count": null,
   "id": "a2ffd4dd",
   "metadata": {},
   "outputs": [],
   "source": [
    "# \"미래\" 기준으로 alpha를 구함\n",
    "\n",
    "lookahead_results = {}\n",
    "\n",
    "for stock in stocks:\n",
    "    lookahead_results[stock] = get_SIM_regression(lookahead_excs_df[f'{stock}_excs'], lookahead_excs_df['SPY_excs'], print_summary=False)"
   ]
  },
  {
   "cell_type": "code",
   "execution_count": null,
   "id": "228922e5",
   "metadata": {},
   "outputs": [],
   "source": [
    "print(lookahead_results['GOOG'].summary())"
   ]
  },
  {
   "cell_type": "code",
   "execution_count": null,
   "id": "5f5882d3",
   "metadata": {},
   "outputs": [],
   "source": [
    "alphas = np.array([lookahead_results[stock].params.iloc[0] for stock in stocks])\n",
    "alphas = alphas * 12 # annualize\n",
    "alphas"
   ]
  },
  {
   "cell_type": "code",
   "execution_count": null,
   "id": "a1150e95",
   "metadata": {},
   "outputs": [],
   "source": [
    "ANN_MKT_RISKPREMIUM = ann_mkt_excs_mean # \"미래\" 기준으로 구했던 market excess return\n",
    "\n",
    "riskpremiums = ANN_MKT_RISKPREMIUM * betas\n",
    "riskpremiums"
   ]
  },
  {
   "cell_type": "code",
   "execution_count": null,
   "id": "ae8567cb",
   "metadata": {},
   "outputs": [],
   "source": [
    "ANN_MKT_RISKPREMIUM"
   ]
  },
  {
   "cell_type": "markdown",
   "id": "88246562",
   "metadata": {},
   "source": [
    "### 교수님 엑셀처럼 값 정리하여 optimal risky portfolio 구하기"
   ]
  },
  {
   "cell_type": "markdown",
   "id": "5d5ef44c",
   "metadata": {},
   "source": [
    "#### $ \\sigma^2(\\epsilon_i) $ "
   ]
  },
  {
   "cell_type": "code",
   "execution_count": null,
   "id": "106fe68b",
   "metadata": {},
   "outputs": [],
   "source": [
    "resid_vars = resid_stds**2\n",
    "resid_vars"
   ]
  },
  {
   "cell_type": "markdown",
   "id": "812c92f3",
   "metadata": {},
   "source": [
    "#### $ \\alpha_i / \\sigma^2(\\epsilon_i) $"
   ]
  },
  {
   "cell_type": "code",
   "execution_count": null,
   "id": "956fe040",
   "metadata": {},
   "outputs": [],
   "source": [
    "alpha_div_resid_vars = alphas / resid_vars\n",
    "alpha_div_resid_vars"
   ]
  },
  {
   "cell_type": "markdown",
   "id": "30196960",
   "metadata": {},
   "source": [
    "#### $ w_i $"
   ]
  },
  {
   "cell_type": "code",
   "execution_count": null,
   "id": "d4ee54d6",
   "metadata": {},
   "outputs": [],
   "source": [
    "# weights = alpha_div_resid_vars / alpha_div_resid_vars.sum()\n",
    "weights = alpha_div_resid_vars / np.abs(alpha_div_resid_vars).sum() # 부호 바뀌는 것 막기 위해 absolute sum으로 normalize\n",
    "weights"
   ]
  },
  {
   "cell_type": "code",
   "execution_count": null,
   "id": "b4c433fb",
   "metadata": {},
   "outputs": [],
   "source": [
    "np.round(weights.sum(), 10)"
   ]
  },
  {
   "cell_type": "markdown",
   "id": "8fdb1060",
   "metadata": {},
   "source": [
    "#### $ \\alpha_A $"
   ]
  },
  {
   "cell_type": "code",
   "execution_count": null,
   "id": "4ac38501",
   "metadata": {},
   "outputs": [],
   "source": [
    "weighted_alpha = weights @ alphas\n",
    "weighted_alpha"
   ]
  },
  {
   "cell_type": "markdown",
   "id": "f82e43b5",
   "metadata": {},
   "source": [
    "#### $ \\beta_A $"
   ]
  },
  {
   "cell_type": "code",
   "execution_count": null,
   "id": "227885e3",
   "metadata": {},
   "outputs": [],
   "source": [
    "weighted_beta = weights @ betas\n",
    "weighted_beta"
   ]
  },
  {
   "cell_type": "markdown",
   "id": "b14e5a74",
   "metadata": {},
   "source": [
    "#### $ \\sigma^2(\\epsilon_A) $ - residual variance"
   ]
  },
  {
   "cell_type": "code",
   "execution_count": null,
   "id": "001dfcfb",
   "metadata": {},
   "outputs": [],
   "source": [
    "active_residual_var = weights**2 @ resid_vars\n",
    "active_residual_var"
   ]
  },
  {
   "cell_type": "markdown",
   "id": "159855ed",
   "metadata": {},
   "source": [
    "#### $ \\sigma_A^2 $ - active portfolio variance\n"
   ]
  },
  {
   "cell_type": "code",
   "execution_count": null,
   "id": "cf9d3fde",
   "metadata": {},
   "outputs": [],
   "source": [
    "active_port_var = weighted_beta**2 * ann_mkt_excs_std**2 + active_residual_var\n",
    "active_port_var"
   ]
  },
  {
   "cell_type": "markdown",
   "id": "f0cfb634",
   "metadata": {},
   "source": [
    "#### $ w_A^0 $"
   ]
  },
  {
   "cell_type": "code",
   "execution_count": null,
   "id": "f8dbc115",
   "metadata": {},
   "outputs": [],
   "source": [
    "w_A_0 = (weighted_alpha / active_residual_var) / (mkt_excs_mean / mkt_excs_std**2) # 여기서 lookahead std로 넣었다. 원래는 historical 쓰던데.\n",
    "w_A_0"
   ]
  },
  {
   "cell_type": "markdown",
   "id": "1b442356",
   "metadata": {},
   "source": [
    "#### $ w_A^* $"
   ]
  },
  {
   "cell_type": "code",
   "execution_count": null,
   "id": "1cd32809",
   "metadata": {},
   "outputs": [],
   "source": [
    "w_A_star = w_A_0 / (1 + w_A_0 * (1 - weighted_beta))\n",
    "w_A_star"
   ]
  },
  {
   "cell_type": "markdown",
   "id": "84b13f31",
   "metadata": {},
   "source": [
    "개별 주식 weight"
   ]
  },
  {
   "cell_type": "code",
   "execution_count": null,
   "id": "666613c8",
   "metadata": {},
   "outputs": [],
   "source": [
    "final_weights = w_A_star * weights\n",
    "final_weights"
   ]
  },
  {
   "cell_type": "markdown",
   "id": "0dfad5c2",
   "metadata": {},
   "source": [
    "#### $ w_M^* $"
   ]
  },
  {
   "cell_type": "code",
   "execution_count": null,
   "id": "0bb4bd8c",
   "metadata": {},
   "outputs": [],
   "source": [
    "w_M_star = 1 - w_A_star\n",
    "w_M_star"
   ]
  },
  {
   "cell_type": "markdown",
   "id": "cef78472",
   "metadata": {},
   "source": [
    "### 그래프 확인"
   ]
  },
  {
   "cell_type": "code",
   "execution_count": null,
   "id": "1e57d0a4",
   "metadata": {},
   "outputs": [],
   "source": [
    "((1 + df).cumprod() - 1).plot()"
   ]
  },
  {
   "cell_type": "code",
   "execution_count": null,
   "id": "93b95a80",
   "metadata": {},
   "outputs": [],
   "source": [
    "final_alpha = final_weights @ alphas\n",
    "final_alpha"
   ]
  },
  {
   "cell_type": "code",
   "execution_count": null,
   "id": "552f96df",
   "metadata": {},
   "outputs": [],
   "source": [
    "final_std = np.sqrt(final_weights @ resid_vars)\n",
    "final_std"
   ]
  },
  {
   "cell_type": "markdown",
   "id": "a89290fc",
   "metadata": {},
   "source": [
    "## (d)"
   ]
  },
  {
   "cell_type": "markdown",
   "id": "afb4b8ec",
   "metadata": {},
   "source": [
    "Information ratio"
   ]
  },
  {
   "cell_type": "code",
   "execution_count": null,
   "id": "65dc9ffc",
   "metadata": {},
   "outputs": [],
   "source": [
    "information_ratio = final_alpha / final_std\n",
    "information_ratio"
   ]
  },
  {
   "cell_type": "markdown",
   "id": "d4093228",
   "metadata": {},
   "source": [
    "## (e)"
   ]
  },
  {
   "cell_type": "code",
   "execution_count": null,
   "id": "84939947",
   "metadata": {},
   "outputs": [],
   "source": [
    "active_riskpremium = final_weights @ riskpremiums\n",
    "active_riskpremium"
   ]
  },
  {
   "cell_type": "code",
   "execution_count": null,
   "id": "10fdfa1d",
   "metadata": {},
   "outputs": [],
   "source": [
    "optimal_riskpremium = ANN_MKT_RISKPREMIUM * w_M_star + active_riskpremium * w_A_star\n",
    "optimal_riskpremium"
   ]
  },
  {
   "cell_type": "code",
   "execution_count": null,
   "id": "5734e41a",
   "metadata": {},
   "outputs": [],
   "source": [
    "market_sharpe = ANN_MKT_RISKPREMIUM / ann_mkt_excs_std\n",
    "market_sharpe"
   ]
  },
  {
   "cell_type": "code",
   "execution_count": null,
   "id": "0074d7d3",
   "metadata": {},
   "outputs": [],
   "source": [
    "optimal_sharpe = np.sqrt(market_sharpe ** 2 + information_ratio ** 2)\n",
    "optimal_sharpe"
   ]
  },
  {
   "cell_type": "code",
   "execution_count": null,
   "id": "4ea68fd5",
   "metadata": {},
   "outputs": [],
   "source": []
  },
  {
   "cell_type": "code",
   "execution_count": null,
   "id": "23e3b520",
   "metadata": {},
   "outputs": [],
   "source": []
  }
 ],
 "metadata": {
  "kernelspec": {
   "display_name": ".venv",
   "language": "python",
   "name": "python3"
  }
 },
 "nbformat": 4,
 "nbformat_minor": 5
}
