{
 "cells": [
  {
   "cell_type": "markdown",
   "metadata": {},
   "source": [
    "# 투자분석 Assignment 1\n",
    "\n",
    "Stock evaluation\n",
    "\n",
    "## Requirements\n",
    "- Data\n",
    "    - risk-free rate\n",
    "        - 3-month T-bill or 1-month LIBOR\n",
    "    - market risk premium\n",
    "- Model\n",
    "    - constant growth dividend discount model\n",
    "- Do NOT hand in the data/program code. \n",
    "\n",
    "## Questions:\n",
    "- a. What are the names of the stocks you choose:\n",
    "    - KO (코카콜라)\n",
    "    - XOM (엑손모빌)\n",
    "    - NVDA (엔비디아)\n",
    "- b. Specify risk-free rate, risk premium, data source\n",
    "    - risk-free\n",
    "    - risk premium\n",
    "    - 주식: Valley AI\n",
    "- c. Required Rate of Return using CAPM. Specify: \n",
    "    - B: Firm's beta\n",
    "    - R_m: Expected rate of return of the market index portfolio \n",
    "- D. Calculate PVGO for each stock\n",
    "- E. Find V_0, V_1 for each stock\n",
    "- F. Find the expected return for each stock\n",
    "    - i.e = (V_1-P_0) / P_0 \n",
    "    - P_0 is the current market price\n",
    "- G. Based on the calculation above, which stock do you buy/sell? Explain briefly. \n",
    "\n",
    "\n"
   ]
  },
  {
   "cell_type": "code",
   "execution_count": 34,
   "metadata": {},
   "outputs": [],
   "source": [
    "import pandas_datareader.data as web\n",
    "import yfinance as yf\n",
    "\n",
    "import pandas as pd\n",
    "import numpy as np\n",
    "\n",
    "import matplotlib.pyplot as plt\n",
    "import seaborn as sns"
   ]
  },
  {
   "cell_type": "code",
   "execution_count": null,
   "metadata": {},
   "outputs": [],
   "source": [
    "# sp500tr = web.DataReader('^SP500TR', 'yahoo', start='2023-03-25', end='2024-03-25')\n",
    "# sp500tr"
   ]
  },
  {
   "cell_type": "code",
   "execution_count": 8,
   "metadata": {},
   "outputs": [],
   "source": [
    "sp500tr = yf.Ticker('^SP500TR')"
   ]
  },
  {
   "cell_type": "code",
   "execution_count": 11,
   "metadata": {},
   "outputs": [
    {
     "data": {
      "text/html": [
       "<div>\n",
       "<style scoped>\n",
       "    .dataframe tbody tr th:only-of-type {\n",
       "        vertical-align: middle;\n",
       "    }\n",
       "\n",
       "    .dataframe tbody tr th {\n",
       "        vertical-align: top;\n",
       "    }\n",
       "\n",
       "    .dataframe thead th {\n",
       "        text-align: right;\n",
       "    }\n",
       "</style>\n",
       "<table border=\"1\" class=\"dataframe\">\n",
       "  <thead>\n",
       "    <tr style=\"text-align: right;\">\n",
       "      <th></th>\n",
       "      <th>Open</th>\n",
       "      <th>High</th>\n",
       "      <th>Low</th>\n",
       "      <th>Close</th>\n",
       "      <th>Volume</th>\n",
       "      <th>Dividends</th>\n",
       "      <th>Stock Splits</th>\n",
       "    </tr>\n",
       "    <tr>\n",
       "      <th>Date</th>\n",
       "      <th></th>\n",
       "      <th></th>\n",
       "      <th></th>\n",
       "      <th></th>\n",
       "      <th></th>\n",
       "      <th></th>\n",
       "      <th></th>\n",
       "    </tr>\n",
       "  </thead>\n",
       "  <tbody>\n",
       "    <tr>\n",
       "      <th>2024-03-21 00:00:00-04:00</th>\n",
       "      <td>11413.740234</td>\n",
       "      <td>11430.349609</td>\n",
       "      <td>11386.080078</td>\n",
       "      <td>11387.889648</td>\n",
       "      <td>0</td>\n",
       "      <td>0.0</td>\n",
       "      <td>0.0</td>\n",
       "    </tr>\n",
       "    <tr>\n",
       "      <th>2024-03-22 00:00:00-04:00</th>\n",
       "      <td>11390.519531</td>\n",
       "      <td>11398.320312</td>\n",
       "      <td>11363.509766</td>\n",
       "      <td>11372.490234</td>\n",
       "      <td>0</td>\n",
       "      <td>0.0</td>\n",
       "      <td>0.0</td>\n",
       "    </tr>\n",
       "    <tr>\n",
       "      <th>2024-03-25 00:00:00-04:00</th>\n",
       "      <td>11340.629883</td>\n",
       "      <td>11361.330078</td>\n",
       "      <td>11333.389648</td>\n",
       "      <td>11337.740234</td>\n",
       "      <td>0</td>\n",
       "      <td>0.0</td>\n",
       "      <td>0.0</td>\n",
       "    </tr>\n",
       "    <tr>\n",
       "      <th>2024-03-26 00:00:00-04:00</th>\n",
       "      <td>11360.900391</td>\n",
       "      <td>11374.040039</td>\n",
       "      <td>11305.990234</td>\n",
       "      <td>11306.009766</td>\n",
       "      <td>0</td>\n",
       "      <td>0.0</td>\n",
       "      <td>0.0</td>\n",
       "    </tr>\n",
       "    <tr>\n",
       "      <th>2024-03-27 00:00:00-04:00</th>\n",
       "      <td>11356.750000</td>\n",
       "      <td>11377.320312</td>\n",
       "      <td>11329.980469</td>\n",
       "      <td>11346.059570</td>\n",
       "      <td>0</td>\n",
       "      <td>0.0</td>\n",
       "      <td>0.0</td>\n",
       "    </tr>\n",
       "  </tbody>\n",
       "</table>\n",
       "</div>"
      ],
      "text/plain": [
       "                                   Open          High           Low  \\\n",
       "Date                                                                  \n",
       "2024-03-21 00:00:00-04:00  11413.740234  11430.349609  11386.080078   \n",
       "2024-03-22 00:00:00-04:00  11390.519531  11398.320312  11363.509766   \n",
       "2024-03-25 00:00:00-04:00  11340.629883  11361.330078  11333.389648   \n",
       "2024-03-26 00:00:00-04:00  11360.900391  11374.040039  11305.990234   \n",
       "2024-03-27 00:00:00-04:00  11356.750000  11377.320312  11329.980469   \n",
       "\n",
       "                                  Close  Volume  Dividends  Stock Splits  \n",
       "Date                                                                      \n",
       "2024-03-21 00:00:00-04:00  11387.889648       0        0.0           0.0  \n",
       "2024-03-22 00:00:00-04:00  11372.490234       0        0.0           0.0  \n",
       "2024-03-25 00:00:00-04:00  11337.740234       0        0.0           0.0  \n",
       "2024-03-26 00:00:00-04:00  11306.009766       0        0.0           0.0  \n",
       "2024-03-27 00:00:00-04:00  11346.059570       0        0.0           0.0  "
      ]
     },
     "execution_count": 11,
     "metadata": {},
     "output_type": "execute_result"
    }
   ],
   "source": [
    "sp500tr_df = sp500tr.history(period='1y', interval='1d')\n",
    "sp500tr_df.tail()"
   ]
  },
  {
   "cell_type": "code",
   "execution_count": 32,
   "metadata": {},
   "outputs": [
    {
     "data": {
      "text/plain": [
       "<Axes: xlabel='Date'>"
      ]
     },
     "execution_count": 32,
     "metadata": {},
     "output_type": "execute_result"
    },
    {
     "data": {
      "image/png": "[encoded data removed]",
      "text/plain": [
       "<Figure size 640x480 with 1 Axes>"
      ]
     },
     "metadata": {},
     "output_type": "display_data"
    }
   ],
   "source": [
    "sp500tr_df['Close'].plot()"
   ]
  },
  {
   "cell_type": "code",
   "execution_count": 12,
   "metadata": {},
   "outputs": [],
   "source": [
    "# P0 = sp500tr_df.iloc[0]['Close']\n",
    "# P1 = sp500tr_df.iloc[-1]['Close']"
   ]
  },
  {
   "cell_type": "markdown",
   "metadata": {},
   "source": [
    "HPR로 하면 market timing에 노출된다. \n",
    "\n",
    "그냥 일평균 수익률 내서 이를 annualize하자. "
   ]
  },
  {
   "cell_type": "code",
   "execution_count": 22,
   "metadata": {},
   "outputs": [],
   "source": [
    "returns = sp500tr_df['Close'].pct_change()"
   ]
  },
  {
   "cell_type": "code",
   "execution_count": 35,
   "metadata": {},
   "outputs": [
    {
     "data": {
      "text/plain": [
       "<Axes: xlabel='Close', ylabel='Count'>"
      ]
     },
     "execution_count": 35,
     "metadata": {},
     "output_type": "execute_result"
    },
    {
     "data": {
      "image/png": "[encoded data removed]",
      "text/plain": [
       "<Figure size 640x480 with 1 Axes>"
      ]
     },
     "metadata": {},
     "output_type": "display_data"
    }
   ],
   "source": [
    "sns.histplot(data=returns)"
   ]
  },
  {
   "cell_type": "code",
   "execution_count": 23,
   "metadata": {},
   "outputs": [],
   "source": [
    "rf = 0.040727"
   ]
  },
  {
   "cell_type": "code",
   "execution_count": 41,
   "metadata": {},
   "outputs": [
    {
     "data": {
      "text/plain": [
       "34.25482737222578"
      ]
     },
     "execution_count": 41,
     "metadata": {},
     "output_type": "execute_result"
    }
   ],
   "source": [
    "mean = returns.mean()\n",
    "mean_annualized = (1 + mean)**252 - 1\n",
    "mean_annualized * 100"
   ]
  },
  {
   "cell_type": "code",
   "execution_count": 42,
   "metadata": {},
   "outputs": [
    {
     "data": {
      "text/plain": [
       "33.21306607876042"
      ]
     },
     "execution_count": 42,
     "metadata": {},
     "output_type": "execute_result"
    }
   ],
   "source": [
    "gmean = (1 + returns).prod()**(1/len(returns)) - 1\n",
    "gmean_annualized = (1 + gmean)**252 - 1\n",
    "gmean_annualized * 100"
   ]
  },
  {
   "cell_type": "code",
   "execution_count": 43,
   "metadata": {},
   "outputs": [
    {
     "data": {
      "text/plain": [
       "29.140366078760422"
      ]
     },
     "execution_count": 43,
     "metadata": {},
     "output_type": "execute_result"
    }
   ],
   "source": [
    "risk_premium = gmean_annualized - rf\n",
    "risk_premium * 100"
   ]
  },
  {
   "cell_type": "code",
   "execution_count": 44,
   "metadata": {},
   "outputs": [],
   "source": [
    "def get_k(beta, rm, rf):\n",
    "    return rf + beta * (rm - rf)"
   ]
  },
  {
   "cell_type": "code",
   "execution_count": 45,
   "metadata": {},
   "outputs": [],
   "source": [
    "KO_k = get_k(0.59, gmean_annualized, rf)\n",
    "XOM_k = get_k(0.95, gmean_annualized, rf)\n",
    "AAPL_k = get_k(1.29, gmean_annualized, rf)"
   ]
  },
  {
   "cell_type": "code",
   "execution_count": 49,
   "metadata": {},
   "outputs": [
    {
     "name": "stdout",
     "output_type": "stream",
     "text": [
      "KO: 21.2655%\n",
      "XOM: 31.7560%\n",
      "AAPL: 41.6638%\n"
     ]
    }
   ],
   "source": [
    "print(f'KO: {KO_k * 100:.4f}%')\n",
    "print(f'XOM: {XOM_k * 100:.4f}%')\n",
    "print(f'AAPL: {AAPL_k * 100:.4f}%')"
   ]
  },
  {
   "cell_type": "markdown",
   "metadata": {},
   "source": [
    "Dividend 데이터 "
   ]
  },
  {
   "cell_type": "code",
   "execution_count": 50,
   "metadata": {},
   "outputs": [],
   "source": [
    "KO = yf.Ticker('KO')\n",
    "XOM = yf.Ticker('XOM')\n",
    "AAPL = yf.Ticker('AAPL')"
   ]
  },
  {
   "cell_type": "code",
   "execution_count": 52,
   "metadata": {},
   "outputs": [],
   "source": [
    "KO_div = KO.dividends\n",
    "XOM_div = XOM.dividends\n",
    "AAPL_div = AAPL.dividends"
   ]
  },
  {
   "cell_type": "code",
   "execution_count": 53,
   "metadata": {},
   "outputs": [
    {
     "data": {
      "text/plain": [
       "Date\n",
       "1962-03-13 00:00:00-05:00    0.001563\n",
       "1962-06-11 00:00:00-04:00    0.001563\n",
       "1962-09-11 00:00:00-04:00    0.001563\n",
       "1962-11-28 00:00:00-05:00    0.001563\n",
       "1963-03-11 00:00:00-05:00    0.001758\n",
       "                               ...   \n",
       "2023-03-16 00:00:00-04:00    0.460000\n",
       "2023-06-15 00:00:00-04:00    0.460000\n",
       "2023-09-14 00:00:00-04:00    0.460000\n",
       "2023-11-30 00:00:00-05:00    0.460000\n",
       "2024-03-14 00:00:00-04:00    0.485000\n",
       "Name: Dividends, Length: 248, dtype: float64"
      ]
     },
     "execution_count": 53,
     "metadata": {},
     "output_type": "execute_result"
    }
   ],
   "source": [
    "KO_div"
   ]
  },
  {
   "cell_type": "code",
   "execution_count": 56,
   "metadata": {},
   "outputs": [],
   "source": [
    "KO_div5y = KO_div.loc[KO_div.index > '2019-01-01']\n",
    "XOM_div5y = XOM_div.loc[XOM_div.index > '2019-01-01']\n",
    "AAPL_div5y = AAPL_div.loc[AAPL_div.index > '2019-01-01']"
   ]
  },
  {
   "cell_type": "code",
   "execution_count": null,
   "metadata": {},
   "outputs": [
    {
     "data": {
      "text/plain": [
       "<Axes: title={'center': 'KO Dividends'}, xlabel='Date'>"
      ]
     },
     "metadata": {},
     "output_type": "display_data"
    },
    {
     "data": {
      "image/png": "[encoded data removed]",
      "text/plain": [
       "<Figure size 640x480 with 1 Axes>"
      ]
     },
     "metadata": {},
     "output_type": "display_data"
    }
   ],
   "source": [
    "KO_div5y.plot(title='KO Dividends')"
   ]
  },
  {
   "cell_type": "code",
   "execution_count": 67,
   "metadata": {},
   "outputs": [
    {
     "data": {
      "text/plain": [
       "3.994717618400734"
      ]
     },
     "execution_count": 67,
     "metadata": {},
     "output_type": "execute_result"
    }
   ],
   "source": [
    "KO_g = (1+KO_div5y.pct_change().mean())**4 - 1\n",
    "KO_g * 100"
   ]
  },
  {
   "cell_type": "code",
   "execution_count": 68,
   "metadata": {},
   "outputs": [
    {
     "data": {
      "text/plain": [
       "3.0444901022934623"
      ]
     },
     "execution_count": 68,
     "metadata": {},
     "output_type": "execute_result"
    }
   ],
   "source": [
    "XOM_g = (1+XOM_div5y.pct_change().mean())**4 - 1\n",
    "XOM_g * 100"
   ]
  },
  {
   "cell_type": "code",
   "execution_count": 69,
   "metadata": {},
   "outputs": [
    {
     "data": {
      "text/plain": [
       "5.756930576722552"
      ]
     },
     "execution_count": 69,
     "metadata": {},
     "output_type": "execute_result"
    }
   ],
   "source": [
    "AAPL_g = (1+AAPL_div5y.pct_change().mean())**4 - 1\n",
    "AAPL_g * 100"
   ]
  },
  {
   "cell_type": "markdown",
   "metadata": {},
   "source": [
    "calculate g from yahoo finance"
   ]
  },
  {
   "cell_type": "code",
   "execution_count": 72,
   "metadata": {},
   "outputs": [],
   "source": [
    "KO_divy = 0.0320\n",
    "XOM_divy = 0.0334\n",
    "AAPL_divy = 0.0057"
   ]
  },
  {
   "cell_type": "code",
   "execution_count": 73,
   "metadata": {},
   "outputs": [],
   "source": [
    "KO_plowback = 1 - KO_divy\n",
    "XOM_plowback = 1 - XOM_divy\n",
    "AAPL_plowback = 1 - AAPL_divy"
   ]
  },
  {
   "cell_type": "code",
   "execution_count": 74,
   "metadata": {},
   "outputs": [],
   "source": [
    "KO_ROE = 0.4016\n",
    "XOM_ROE = 0.1800\n",
    "AAPL_ROE = 1.5427"
   ]
  },
  {
   "cell_type": "code",
   "execution_count": 75,
   "metadata": {},
   "outputs": [],
   "source": [
    "KO_g_est = KO_ROE * KO_plowback\n",
    "XOM_g_est = XOM_ROE * XOM_plowback\n",
    "AAPL_g_est = AAPL_ROE * AAPL_plowback"
   ]
  },
  {
   "cell_type": "code",
   "execution_count": 76,
   "metadata": {},
   "outputs": [
    {
     "name": "stdout",
     "output_type": "stream",
     "text": [
      "KO: 38.8749%\n",
      "XOM: 17.3988%\n",
      "AAPL: 153.3907%\n"
     ]
    }
   ],
   "source": [
    "print(f'KO: {KO_g_est * 100:.4f}%')\n",
    "print(f'XOM: {XOM_g_est * 100:.4f}%')\n",
    "print(f'AAPL: {AAPL_g_est * 100:.4f}%')"
   ]
  },
  {
   "cell_type": "markdown",
   "metadata": {},
   "source": [
    "PVGO 계산\n"
   ]
  },
  {
   "cell_type": "code",
   "execution_count": 77,
   "metadata": {},
   "outputs": [],
   "source": [
    "KO_eps = 2.47\n",
    "XOM_eps = 8.89\n",
    "AAPL_eps = 6.43"
   ]
  },
  {
   "cell_type": "code",
   "execution_count": 78,
   "metadata": {},
   "outputs": [],
   "source": [
    "KO_div_usd = 1.94\n",
    "XOM_div_usd = 3.80\n",
    "AAPL_div_usd = 0.96"
   ]
  },
  {
   "cell_type": "code",
   "execution_count": 79,
   "metadata": {},
   "outputs": [],
   "source": [
    "def calculate_V0(g, k, div):\n",
    "    return div / (k - g)"
   ]
  },
  {
   "cell_type": "code",
   "execution_count": 80,
   "metadata": {},
   "outputs": [],
   "source": [
    "KO_V0 = calculate_V0(KO_g, KO_k, KO_div_usd)\n",
    "XOM_V0 = calculate_V0(XOM_g, XOM_k, XOM_div_usd)\n",
    "AAPL_V0 = calculate_V0(AAPL_g, AAPL_k, AAPL_div_usd)"
   ]
  },
  {
   "cell_type": "code",
   "execution_count": 81,
   "metadata": {},
   "outputs": [
    {
     "name": "stdout",
     "output_type": "stream",
     "text": [
      "KO: 11.2328\n",
      "XOM: 13.2351\n",
      "AAPL: 2.6736\n"
     ]
    }
   ],
   "source": [
    "print(f'KO: {KO_V0:.4f}')\n",
    "print(f'XOM: {XOM_V0:.4f}')\n",
    "print(f'AAPL: {AAPL_V0:.4f}')"
   ]
  },
  {
   "cell_type": "code",
   "execution_count": 82,
   "metadata": {},
   "outputs": [],
   "source": [
    "def calculate_nogrowth_V(eps, k):\n",
    "    return eps / k"
   ]
  },
  {
   "cell_type": "code",
   "execution_count": 83,
   "metadata": {},
   "outputs": [],
   "source": [
    "KO_nogrowth_V = calculate_nogrowth_V(KO_eps, KO_k)\n",
    "XOM_nogrowth_V = calculate_nogrowth_V(XOM_eps, XOM_k)\n",
    "AAPL_nogrowth_V = calculate_nogrowth_V(AAPL_eps, AAPL_k)"
   ]
  },
  {
   "cell_type": "code",
   "execution_count": 84,
   "metadata": {},
   "outputs": [
    {
     "name": "stdout",
     "output_type": "stream",
     "text": [
      "KO: 11.6150\n",
      "XOM: 27.9947\n",
      "AAPL: 15.4331\n"
     ]
    }
   ],
   "source": [
    "print(f'KO: {KO_nogrowth_V:.4f}')\n",
    "print(f'XOM: {XOM_nogrowth_V:.4f}')\n",
    "print(f'AAPL: {AAPL_nogrowth_V:.4f}')"
   ]
  },
  {
   "cell_type": "code",
   "execution_count": 85,
   "metadata": {},
   "outputs": [],
   "source": [
    "KO_PVGO = KO_V0 - KO_nogrowth_V\n",
    "XOM_PVGO = XOM_V0 - XOM_nogrowth_V\n",
    "AAPL_PVGO = AAPL_V0 - AAPL_nogrowth_V"
   ]
  },
  {
   "cell_type": "code",
   "execution_count": 86,
   "metadata": {},
   "outputs": [
    {
     "name": "stdout",
     "output_type": "stream",
     "text": [
      "KO: -0.3822\n",
      "XOM: -14.7596\n",
      "AAPL: -12.7595\n"
     ]
    }
   ],
   "source": [
    "print(f'KO: {KO_PVGO:.4f}') \n",
    "print(f'XOM: {XOM_PVGO:.4f}')\n",
    "print(f'AAPL: {AAPL_PVGO:.4f}')"
   ]
  },
  {
   "cell_type": "markdown",
   "metadata": {},
   "source": [
    "V1 구하기 \n",
    "\n",
    "(1+g) 만 곱하면 됨. "
   ]
  },
  {
   "cell_type": "code",
   "execution_count": 87,
   "metadata": {},
   "outputs": [],
   "source": [
    "KO_V1 = KO_V0 * (1 + KO_g)\n",
    "XOM_V1 = XOM_V0 * (1 + XOM_g)\n",
    "AAPL_V1 = AAPL_V0 * (1 + AAPL_g)"
   ]
  },
  {
   "cell_type": "code",
   "execution_count": 88,
   "metadata": {},
   "outputs": [
    {
     "name": "stdout",
     "output_type": "stream",
     "text": [
      "KO: 11.6816\n",
      "XOM: 13.6380\n",
      "AAPL: 2.8275\n"
     ]
    }
   ],
   "source": [
    "print(f'KO: {KO_V1:.4f}')   \n",
    "print(f'XOM: {XOM_V1:.4f}')\n",
    "print(f'AAPL: {AAPL_V1:.4f}')"
   ]
  },
  {
   "cell_type": "markdown",
   "metadata": {},
   "source": [
    "Earning 구하기 "
   ]
  },
  {
   "cell_type": "code",
   "execution_count": 91,
   "metadata": {},
   "outputs": [],
   "source": [
    "KO_now = KO.history(period='1d')['Close'].iloc[-1]\n",
    "XOM_now = XOM.history(period='1d')['Close'].iloc[-1]\n",
    "AAPL_now = AAPL.history(period='1d')['Close'].iloc[-1]"
   ]
  },
  {
   "cell_type": "code",
   "execution_count": 93,
   "metadata": {},
   "outputs": [],
   "source": [
    "def expected_ret(V1, P0):\n",
    "    return (V1 - P0) / P0"
   ]
  },
  {
   "cell_type": "code",
   "execution_count": 96,
   "metadata": {},
   "outputs": [],
   "source": [
    "KO_expR = expected_ret(KO_V1, KO_now) * 100\n",
    "XOM_expR = expected_ret(XOM_V1, XOM_now) * 100\n",
    "AAPL_expR = expected_ret(AAPL_V1, AAPL_now) * 100"
   ]
  },
  {
   "cell_type": "code",
   "execution_count": 97,
   "metadata": {},
   "outputs": [
    {
     "name": "stdout",
     "output_type": "stream",
     "text": [
      "KO: -80.8593\n",
      "XOM: -88.1377\n",
      "AAPL: -98.3685\n"
     ]
    }
   ],
   "source": [
    "print(f'KO: {KO_expR:.4f}')\n",
    "print(f'XOM: {XOM_expR:.4f}')\n",
    "print(f'AAPL: {AAPL_expR:.4f}')"
   ]
  },
  {
   "cell_type": "code",
   "execution_count": 99,
   "metadata": {},
   "outputs": [
    {
     "name": "stdout",
     "output_type": "stream",
     "text": [
      "KO error: 5.43317939856014\n",
      "XOM error: 8.686757422786686\n",
      "AAPL error: 64.82306917996758\n"
     ]
    }
   ],
   "source": [
    "print(f'KO error: {KO_now/KO_V0}')\n",
    "print(f'XOM error: {XOM_now/XOM_V0}')\n",
    "print(f'AAPL error: {AAPL_now/AAPL_V0}')"
   ]
  },
  {
   "cell_type": "code",
   "execution_count": null,
   "metadata": {},
   "outputs": [],
   "source": []
  }
 ],
 "metadata": {
  "kernelspec": {
   "display_name": ".venv",
   "language": "python",
   "name": "python3"
  },
  "language_info": {
   "codemirror_mode": {
    "name": "ipython",
    "version": 3
   },
   "file_extension": ".py",
   "mimetype": "text/x-python",
   "name": "python",
   "nbconvert_exporter": "python",
   "pygments_lexer": "ipython3",
   "version": "3.10.11"
  }
 },
 "nbformat": 4,
 "nbformat_minor": 2
}
