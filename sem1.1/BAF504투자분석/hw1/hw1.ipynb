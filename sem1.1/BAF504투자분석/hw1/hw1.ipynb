{
 "cells": [
  {
   "cell_type": "markdown",
   "id": "92dd4f56",
   "metadata": {},
   "source": [
    "# 투자분석 Assignment 1\n",
    "\n",
    "Stock evaluation\n",
    "\n",
    "## Requirements\n",
    "- Data\n",
    "    - risk-free rate\n",
    "        - 3-month T-bill or 1-month LIBOR\n",
    "    - market risk premium\n",
    "- Model\n",
    "    - constant growth dividend discount model\n",
    "- Do NOT hand in the data/program code. \n",
    "\n",
    "## Questions:\n",
    "- a. What are the names of the stocks you choose:\n",
    "    - KO (코카콜라)\n",
    "    - XOM (엑손모빌)\n",
    "    - NVDA (엔비디아)\n",
    "- b. Specify risk-free rate, risk premium, data source\n",
    "    - risk-free\n",
    "    - risk premium\n",
    "    - 주식: Valley AI\n",
    "- c. Required Rate of Return using CAPM. Specify: \n",
    "    - B: Firm's beta\n",
    "    - R_m: Expected rate of return of the market index portfolio \n",
    "- D. Calculate PVGO for each stock\n",
    "- E. Find V_0, V_1 for each stock\n",
    "- F. Find the expected return for each stock\n",
    "    - i.e = (V_1-P_0) / P_0 \n",
    "    - P_0 is the current market price\n",
    "- G. Based on the calculation above, which stock do you buy/sell? Explain briefly. \n",
    "\n",
    "\n"
   ]
  },
  {
   "cell_type": "code",
   "execution_count": null,
   "id": "0ceb7344",
   "metadata": {},
   "outputs": [],
   "source": [
    "import pandas_datareader.data as web\n",
    "import yfinance as yf\n",
    "\n",
    "import pandas as pd\n",
    "import numpy as np\n",
    "\n",
    "import matplotlib.pyplot as plt\n",
    "import seaborn as sns"
   ]
  },
  {
   "cell_type": "code",
   "execution_count": null,
   "id": "8d4cb165",
   "metadata": {},
   "outputs": [],
   "source": [
    "# sp500tr = web.DataReader('^SP500TR', 'yahoo', start='2023-03-25', end='2024-03-25')\n",
    "# sp500tr"
   ]
  },
  {
   "cell_type": "code",
   "execution_count": null,
   "id": "813ad8b0",
   "metadata": {},
   "outputs": [],
   "source": [
    "sp500tr = yf.Ticker('^SP500TR')"
   ]
  },
  {
   "cell_type": "code",
   "execution_count": null,
   "id": "33384998",
   "metadata": {},
   "outputs": [],
   "source": [
    "sp500tr_df = sp500tr.history(period='1y', interval='1d')\n",
    "sp500tr_df.tail()"
   ]
  },
  {
   "cell_type": "code",
   "execution_count": null,
   "id": "3eea36e3",
   "metadata": {},
   "outputs": [],
   "source": [
    "sp500tr_df['Close'].plot()"
   ]
  },
  {
   "cell_type": "code",
   "execution_count": null,
   "id": "89130132",
   "metadata": {},
   "outputs": [],
   "source": [
    "# P0 = sp500tr_df.iloc[0]['Close']\n",
    "# P1 = sp500tr_df.iloc[-1]['Close']"
   ]
  },
  {
   "cell_type": "markdown",
   "id": "94a1e11c",
   "metadata": {},
   "source": [
    "HPR로 하면 market timing에 노출된다. \n",
    "\n",
    "그냥 일평균 수익률 내서 이를 annualize하자. "
   ]
  },
  {
   "cell_type": "code",
   "execution_count": null,
   "id": "133fa29c",
   "metadata": {},
   "outputs": [],
   "source": [
    "returns = sp500tr_df['Close'].pct_change()"
   ]
  },
  {
   "cell_type": "code",
   "execution_count": null,
   "id": "f8dded91",
   "metadata": {},
   "outputs": [],
   "source": [
    "sns.histplot(data=returns)"
   ]
  },
  {
   "cell_type": "code",
   "execution_count": null,
   "id": "c2b8a275",
   "metadata": {},
   "outputs": [],
   "source": [
    "rf = 0.040727"
   ]
  },
  {
   "cell_type": "code",
   "execution_count": null,
   "id": "3190b4f0",
   "metadata": {},
   "outputs": [],
   "source": [
    "mean = returns.mean()\n",
    "mean_annualized = (1 + mean)**252 - 1\n",
    "mean_annualized * 100"
   ]
  },
  {
   "cell_type": "code",
   "execution_count": null,
   "id": "7d24851a",
   "metadata": {},
   "outputs": [],
   "source": [
    "gmean = (1 + returns).prod()**(1/len(returns)) - 1\n",
    "gmean_annualized = (1 + gmean)**252 - 1\n",
    "gmean_annualized * 100"
   ]
  },
  {
   "cell_type": "code",
   "execution_count": null,
   "id": "29ed1b37",
   "metadata": {},
   "outputs": [],
   "source": [
    "risk_premium = gmean_annualized - rf\n",
    "risk_premium * 100"
   ]
  },
  {
   "cell_type": "code",
   "execution_count": null,
   "id": "dd544f4e",
   "metadata": {},
   "outputs": [],
   "source": [
    "def get_k(beta, rm, rf):\n",
    "    return rf + beta * (rm - rf)"
   ]
  },
  {
   "cell_type": "code",
   "execution_count": null,
   "id": "60b6d070",
   "metadata": {},
   "outputs": [],
   "source": [
    "KO_k = get_k(0.59, gmean_annualized, rf)\n",
    "XOM_k = get_k(0.95, gmean_annualized, rf)\n",
    "AAPL_k = get_k(1.29, gmean_annualized, rf)"
   ]
  },
  {
   "cell_type": "code",
   "execution_count": null,
   "id": "411b2be9",
   "metadata": {},
   "outputs": [],
   "source": [
    "print(f'KO: {KO_k * 100:.4f}%')\n",
    "print(f'XOM: {XOM_k * 100:.4f}%')\n",
    "print(f'AAPL: {AAPL_k * 100:.4f}%')"
   ]
  },
  {
   "cell_type": "markdown",
   "id": "0ad7bd9b",
   "metadata": {},
   "source": [
    "Dividend 데이터 "
   ]
  },
  {
   "cell_type": "code",
   "execution_count": null,
   "id": "9c82fa60",
   "metadata": {},
   "outputs": [],
   "source": [
    "KO = yf.Ticker('KO')\n",
    "XOM = yf.Ticker('XOM')\n",
    "AAPL = yf.Ticker('AAPL')"
   ]
  },
  {
   "cell_type": "code",
   "execution_count": null,
   "id": "e50f4ffa",
   "metadata": {},
   "outputs": [],
   "source": [
    "KO_div = KO.dividends\n",
    "XOM_div = XOM.dividends\n",
    "AAPL_div = AAPL.dividends"
   ]
  },
  {
   "cell_type": "code",
   "execution_count": null,
   "id": "7b2e0ba2",
   "metadata": {},
   "outputs": [],
   "source": [
    "KO_div"
   ]
  },
  {
   "cell_type": "code",
   "execution_count": null,
   "id": "f469f8e6",
   "metadata": {},
   "outputs": [],
   "source": [
    "KO_div5y = KO_div.loc[KO_div.index > '2019-01-01']\n",
    "XOM_div5y = XOM_div.loc[XOM_div.index > '2019-01-01']\n",
    "AAPL_div5y = AAPL_div.loc[AAPL_div.index > '2019-01-01']"
   ]
  },
  {
   "cell_type": "code",
   "execution_count": null,
   "id": "e9d314ff",
   "metadata": {},
   "outputs": [],
   "source": [
    "KO_div5y.plot(title='KO Dividends')"
   ]
  },
  {
   "cell_type": "code",
   "execution_count": null,
   "id": "289b8528",
   "metadata": {},
   "outputs": [],
   "source": [
    "KO_g = (1+KO_div5y.pct_change().mean())**4 - 1\n",
    "KO_g * 100"
   ]
  },
  {
   "cell_type": "code",
   "execution_count": null,
   "id": "69c02bcc",
   "metadata": {},
   "outputs": [],
   "source": [
    "XOM_g = (1+XOM_div5y.pct_change().mean())**4 - 1\n",
    "XOM_g * 100"
   ]
  },
  {
   "cell_type": "code",
   "execution_count": null,
   "id": "7711dda3",
   "metadata": {},
   "outputs": [],
   "source": [
    "AAPL_g = (1+AAPL_div5y.pct_change().mean())**4 - 1\n",
    "AAPL_g * 100"
   ]
  },
  {
   "cell_type": "markdown",
   "id": "3bf65b08",
   "metadata": {},
   "source": [
    "calculate g from yahoo finance"
   ]
  },
  {
   "cell_type": "code",
   "execution_count": null,
   "id": "c632468d",
   "metadata": {},
   "outputs": [],
   "source": [
    "KO_divy = 0.0320\n",
    "XOM_divy = 0.0334\n",
    "AAPL_divy = 0.0057"
   ]
  },
  {
   "cell_type": "code",
   "execution_count": null,
   "id": "0fd7b9be",
   "metadata": {},
   "outputs": [],
   "source": [
    "KO_plowback = 1 - KO_divy\n",
    "XOM_plowback = 1 - XOM_divy\n",
    "AAPL_plowback = 1 - AAPL_divy"
   ]
  },
  {
   "cell_type": "code",
   "execution_count": null,
   "id": "9046f611",
   "metadata": {},
   "outputs": [],
   "source": [
    "KO_ROE = 0.4016\n",
    "XOM_ROE = 0.1800\n",
    "AAPL_ROE = 1.5427"
   ]
  },
  {
   "cell_type": "code",
   "execution_count": null,
   "id": "d1ea35c9",
   "metadata": {},
   "outputs": [],
   "source": [
    "KO_g_est = KO_ROE * KO_plowback\n",
    "XOM_g_est = XOM_ROE * XOM_plowback\n",
    "AAPL_g_est = AAPL_ROE * AAPL_plowback"
   ]
  },
  {
   "cell_type": "code",
   "execution_count": null,
   "id": "47fe075e",
   "metadata": {},
   "outputs": [],
   "source": [
    "print(f'KO: {KO_g_est * 100:.4f}%')\n",
    "print(f'XOM: {XOM_g_est * 100:.4f}%')\n",
    "print(f'AAPL: {AAPL_g_est * 100:.4f}%')"
   ]
  },
  {
   "cell_type": "markdown",
   "id": "eff1e4cc",
   "metadata": {},
   "source": [
    "PVGO 계산\n"
   ]
  },
  {
   "cell_type": "code",
   "execution_count": null,
   "id": "313b4760",
   "metadata": {},
   "outputs": [],
   "source": [
    "KO_eps = 2.47\n",
    "XOM_eps = 8.89\n",
    "AAPL_eps = 6.43"
   ]
  },
  {
   "cell_type": "code",
   "execution_count": null,
   "id": "d0831947",
   "metadata": {},
   "outputs": [],
   "source": [
    "KO_div_usd = 1.94\n",
    "XOM_div_usd = 3.80\n",
    "AAPL_div_usd = 0.96"
   ]
  },
  {
   "cell_type": "code",
   "execution_count": null,
   "id": "ecee2205",
   "metadata": {},
   "outputs": [],
   "source": [
    "def calculate_V0(g, k, div):\n",
    "    return div / (k - g)"
   ]
  },
  {
   "cell_type": "code",
   "execution_count": null,
   "id": "ec030f82",
   "metadata": {},
   "outputs": [],
   "source": [
    "KO_V0 = calculate_V0(KO_g, KO_k, KO_div_usd)\n",
    "XOM_V0 = calculate_V0(XOM_g, XOM_k, XOM_div_usd)\n",
    "AAPL_V0 = calculate_V0(AAPL_g, AAPL_k, AAPL_div_usd)"
   ]
  },
  {
   "cell_type": "code",
   "execution_count": null,
   "id": "ce5f4608",
   "metadata": {},
   "outputs": [],
   "source": [
    "print(f'KO: {KO_V0:.4f}')\n",
    "print(f'XOM: {XOM_V0:.4f}')\n",
    "print(f'AAPL: {AAPL_V0:.4f}')"
   ]
  },
  {
   "cell_type": "code",
   "execution_count": null,
   "id": "84bb8050",
   "metadata": {},
   "outputs": [],
   "source": [
    "def calculate_nogrowth_V(eps, k):\n",
    "    return eps / k"
   ]
  },
  {
   "cell_type": "code",
   "execution_count": null,
   "id": "a121efa9",
   "metadata": {},
   "outputs": [],
   "source": [
    "KO_nogrowth_V = calculate_nogrowth_V(KO_eps, KO_k)\n",
    "XOM_nogrowth_V = calculate_nogrowth_V(XOM_eps, XOM_k)\n",
    "AAPL_nogrowth_V = calculate_nogrowth_V(AAPL_eps, AAPL_k)"
   ]
  },
  {
   "cell_type": "code",
   "execution_count": null,
   "id": "990d22ac",
   "metadata": {},
   "outputs": [],
   "source": [
    "print(f'KO: {KO_nogrowth_V:.4f}')\n",
    "print(f'XOM: {XOM_nogrowth_V:.4f}')\n",
    "print(f'AAPL: {AAPL_nogrowth_V:.4f}')"
   ]
  },
  {
   "cell_type": "code",
   "execution_count": null,
   "id": "c0cd3973",
   "metadata": {},
   "outputs": [],
   "source": [
    "KO_PVGO = KO_V0 - KO_nogrowth_V\n",
    "XOM_PVGO = XOM_V0 - XOM_nogrowth_V\n",
    "AAPL_PVGO = AAPL_V0 - AAPL_nogrowth_V"
   ]
  },
  {
   "cell_type": "code",
   "execution_count": null,
   "id": "692bc9bb",
   "metadata": {},
   "outputs": [],
   "source": [
    "print(f'KO: {KO_PVGO:.4f}') \n",
    "print(f'XOM: {XOM_PVGO:.4f}')\n",
    "print(f'AAPL: {AAPL_PVGO:.4f}')"
   ]
  },
  {
   "cell_type": "markdown",
   "id": "9fa3c5c4",
   "metadata": {},
   "source": [
    "V1 구하기 \n",
    "\n",
    "(1+g) 만 곱하면 됨. "
   ]
  },
  {
   "cell_type": "code",
   "execution_count": null,
   "id": "1ff6ebd8",
   "metadata": {},
   "outputs": [],
   "source": [
    "KO_V1 = KO_V0 * (1 + KO_g)\n",
    "XOM_V1 = XOM_V0 * (1 + XOM_g)\n",
    "AAPL_V1 = AAPL_V0 * (1 + AAPL_g)"
   ]
  },
  {
   "cell_type": "code",
   "execution_count": null,
   "id": "37fdc2e8",
   "metadata": {},
   "outputs": [],
   "source": [
    "print(f'KO: {KO_V1:.4f}')   \n",
    "print(f'XOM: {XOM_V1:.4f}')\n",
    "print(f'AAPL: {AAPL_V1:.4f}')"
   ]
  },
  {
   "cell_type": "markdown",
   "id": "ce122fa9",
   "metadata": {},
   "source": [
    "Earning 구하기 "
   ]
  },
  {
   "cell_type": "code",
   "execution_count": null,
   "id": "56bb5361",
   "metadata": {},
   "outputs": [],
   "source": [
    "KO_now = KO.history(period='1d')['Close'].iloc[-1]\n",
    "XOM_now = XOM.history(period='1d')['Close'].iloc[-1]\n",
    "AAPL_now = AAPL.history(period='1d')['Close'].iloc[-1]"
   ]
  },
  {
   "cell_type": "code",
   "execution_count": null,
   "id": "b479a998",
   "metadata": {},
   "outputs": [],
   "source": [
    "def expected_ret(V1, P0):\n",
    "    return (V1 - P0) / P0"
   ]
  },
  {
   "cell_type": "code",
   "execution_count": null,
   "id": "c19397b2",
   "metadata": {},
   "outputs": [],
   "source": [
    "KO_expR = expected_ret(KO_V1, KO_now) * 100\n",
    "XOM_expR = expected_ret(XOM_V1, XOM_now) * 100\n",
    "AAPL_expR = expected_ret(AAPL_V1, AAPL_now) * 100"
   ]
  },
  {
   "cell_type": "code",
   "execution_count": null,
   "id": "966d4c35",
   "metadata": {},
   "outputs": [],
   "source": [
    "print(f'KO: {KO_expR:.4f}')\n",
    "print(f'XOM: {XOM_expR:.4f}')\n",
    "print(f'AAPL: {AAPL_expR:.4f}')"
   ]
  },
  {
   "cell_type": "code",
   "execution_count": null,
   "id": "b2af3f09",
   "metadata": {},
   "outputs": [],
   "source": [
    "print(f'KO error: {KO_now/KO_V0}')\n",
    "print(f'XOM error: {XOM_now/XOM_V0}')\n",
    "print(f'AAPL error: {AAPL_now/AAPL_V0}')"
   ]
  },
  {
   "cell_type": "code",
   "execution_count": null,
   "id": "719ccb19",
   "metadata": {},
   "outputs": [],
   "source": []
  }
 ],
 "metadata": {
  "kernelspec": {
   "display_name": ".venv",
   "language": "python",
   "name": "python3"
  }
 },
 "nbformat": 4,
 "nbformat_minor": 5
}
