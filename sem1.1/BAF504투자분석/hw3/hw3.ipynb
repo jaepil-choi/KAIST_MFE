{
 "cells": [
  {
   "cell_type": "markdown",
   "id": "06aa7beb",
   "metadata": {},
   "source": [
    "# 투자분석 hw3\n",
    "\n",
    "SIM (Single Index Model)\n",
    "\n",
    "20249433 최재필"
   ]
  },
  {
   "cell_type": "code",
   "execution_count": null,
   "id": "29fccfdc",
   "metadata": {},
   "outputs": [],
   "source": [
    "import numpy as np\n",
    "import pandas as pd\n",
    "\n",
    "import matplotlib.pyplot as plt\n",
    "import seaborn as sns\n",
    "\n",
    "from pathlib import Path"
   ]
  },
  {
   "cell_type": "code",
   "execution_count": null,
   "id": "8ee13208",
   "metadata": {},
   "outputs": [],
   "source": [
    "import statsmodels.api as sm"
   ]
  },
  {
   "cell_type": "code",
   "execution_count": null,
   "id": "b4c4621e",
   "metadata": {},
   "outputs": [],
   "source": [
    "import yfinance as yf"
   ]
  },
  {
   "cell_type": "markdown",
   "id": "431b00aa",
   "metadata": {},
   "source": [
    "## (a) \n",
    "\n",
    "- Choose 4 stocks, each from different industries. \n",
    "- Collect 60 monthly returns \n",
    "- Collect T bill rates for the same period\n",
    "- Collect market index returns for the same period\n",
    "- Run regression model with this data\n",
    "- Report alpha/beta estimates"
   ]
  },
  {
   "cell_type": "markdown",
   "id": "a7943f1f",
   "metadata": {},
   "source": [
    "### Collect data\n",
    "\n",
    "![image.png](attachment:image.png)\n",
    "\n",
    "- Stock selection:\n",
    "    - Technology: AAPL (Apple)\n",
    "    - Financial: SPGI (S&P Global)\n",
    "    - Consumer Cyclical: MCD (McDonald's)\n",
    "    - Consumer Defensive: KO (Coca Cola's)\n",
    "- Risk-free rate selection:\n",
    "    - T-bill 3-month\n",
    "- Market Index Selection:\n",
    "    - S&P 500 Index: SPY"
   ]
  },
  {
   "cell_type": "code",
   "execution_count": null,
   "id": "c71da391",
   "metadata": {},
   "outputs": [],
   "source": [
    "AAPL = yf.Ticker(\"AAPL\")\n",
    "SPGI = yf.Ticker(\"SPGI\")\n",
    "MCD = yf.Ticker(\"MCD\")\n",
    "KO = yf.Ticker(\"KO\")\n",
    "\n",
    "SPY = yf.Ticker(\"SPY\")\n",
    "Tbill3M = yf.Ticker(\"^IRX\")"
   ]
  },
  {
   "cell_type": "code",
   "execution_count": null,
   "id": "c53eca7c",
   "metadata": {},
   "outputs": [],
   "source": [
    "AAPL_df = AAPL.history(period=\"5y\", interval='1mo')\n",
    "AAPL_ret = AAPL_df['Close'].pct_change().dropna()\n",
    "AAPL_ret = AAPL_ret.rename('AAPL')\n",
    "\n",
    "SPGI_df = SPGI.history(period=\"5y\", interval='1mo')\n",
    "SPGI_ret = SPGI_df['Close'].pct_change().dropna()\n",
    "SPGI_ret = SPGI_ret.rename('SPGI')\n",
    "\n",
    "MCD_df = MCD.history(period=\"5y\", interval='1mo')\n",
    "MCD_ret = MCD_df['Close'].pct_change().dropna()\n",
    "MCD_ret = MCD_ret.rename('MCD')\n",
    "\n",
    "KO_df = KO.history(period=\"5y\", interval='1mo')\n",
    "KO_ret = KO_df['Close'].pct_change().dropna()\n",
    "KO_ret = KO_ret.rename('KO')\n",
    "\n",
    "SPY_df = SPY.history(period=\"5y\", interval='1mo')\n",
    "SPY_ret = SPY_df['Close'].pct_change().dropna()\n",
    "SPY_ret = SPY_ret.rename('SPY')\n",
    "\n",
    "Tbill3M_df = Tbill3M.history(period=\"5y\", interval='1mo') # Annualized return\n",
    "Tbill3M_ret = Tbill3M_df['Close']\n",
    "Tbill3M_ret = Tbill3M_ret.rename('Tbill3M')\n",
    "\n",
    "Tbill3M_ret = Tbill3M_ret / 100 / 12 # Monthly return"
   ]
  },
  {
   "cell_type": "code",
   "execution_count": null,
   "id": "57c89aa6",
   "metadata": {},
   "outputs": [],
   "source": [
    "AAPL_ret.index = AAPL_ret.index.to_period('M')\n",
    "SPGI_ret.index = SPGI_ret.index.to_period('M')\n",
    "MCD_ret.index = MCD_ret.index.to_period('M')\n",
    "KO_ret.index = KO_ret.index.to_period('M')\n",
    "SPY_ret.index = SPY_ret.index.to_period('M')\n",
    "\n",
    "Tbill3M_ret.index = Tbill3M_ret.index.to_period('M')"
   ]
  },
  {
   "cell_type": "code",
   "execution_count": null,
   "id": "f2838df1",
   "metadata": {},
   "outputs": [],
   "source": [
    "len(Tbill3M_df)"
   ]
  },
  {
   "cell_type": "code",
   "execution_count": null,
   "id": "c258c9e9",
   "metadata": {},
   "outputs": [],
   "source": [
    "data_df = pd.concat([AAPL_ret, SPGI_ret, MCD_ret, KO_ret, SPY_ret, Tbill3M_ret], axis=1)\n",
    "data_df.dropna(inplace=True)\n",
    "\n",
    "data_df.tail()"
   ]
  },
  {
   "cell_type": "code",
   "execution_count": null,
   "id": "12e2b2ce",
   "metadata": {},
   "outputs": [],
   "source": [
    "data_df.info()"
   ]
  },
  {
   "cell_type": "code",
   "execution_count": null,
   "id": "c8148d8e",
   "metadata": {},
   "outputs": [],
   "source": [
    "# Make it excess return\n",
    "data_df.loc[:, ['AAPL', 'SPGI', 'MCD', 'KO', 'SPY']] = data_df.loc[:, ['AAPL', 'SPGI', 'MCD', 'KO', 'SPY']].subtract(data_df.loc[:, 'Tbill3M'], axis=0)"
   ]
  },
  {
   "cell_type": "markdown",
   "id": "54feb937",
   "metadata": {},
   "source": [
    "### Run regression "
   ]
  },
  {
   "cell_type": "code",
   "execution_count": null,
   "id": "8da0d989",
   "metadata": {},
   "outputs": [],
   "source": [
    "stocks = ['AAPL', 'SPGI', 'MCD', 'KO']\n",
    "\n",
    "def get_SIM_regression(stock_returns, market_returns, print_summary=True):\n",
    "    X = sm.add_constant(market_returns)\n",
    "    model = sm.OLS(stock_returns, X)\n",
    "    results = model.fit()\n",
    "\n",
    "    if print_summary:\n",
    "        print(results.summary())\n",
    "\n",
    "    return results"
   ]
  },
  {
   "cell_type": "code",
   "execution_count": null,
   "id": "26af4a47",
   "metadata": {},
   "outputs": [],
   "source": [
    "results = {}\n",
    "\n",
    "for stock in stocks:\n",
    "    print(f'SIM regression result of {stock}')\n",
    "    results[stock] = get_SIM_regression(data_df[stock], data_df['SPY'], print_summary=True)\n",
    "    print('\\n'*5)"
   ]
  },
  {
   "cell_type": "markdown",
   "id": "98b383dd",
   "metadata": {},
   "source": [
    "## (b)\n",
    "\n",
    "- Interpret alpha/beta estimates\n",
    "- Consider the smallest/largest betas among the four stocks\n",
    "- To which industries do the two companies belong? \n",
    "- Is the business consistent with the estimated beta for the two companies?"
   ]
  },
  {
   "cell_type": "code",
   "execution_count": null,
   "id": "45fb9aea",
   "metadata": {},
   "outputs": [],
   "source": [
    "estimates = [(stock, results[stock].params.values) for stock in stocks]"
   ]
  },
  {
   "cell_type": "code",
   "execution_count": null,
   "id": "beb7462c",
   "metadata": {},
   "outputs": [],
   "source": [
    "sorted(estimates, key=lambda x: x[1][1]) # ticker, alpha, beta / Sort by beta"
   ]
  },
  {
   "cell_type": "markdown",
   "id": "51d0287b",
   "metadata": {},
   "source": [
    "- Lowest beta: KO / Consumer Defensive\n",
    "- Largest beta: AAPL / Tech\n",
    "\n",
    "It is consistent with the economic rationale. \n",
    "\n",
    "The betas are also in the reasonable range between 0 ~ 2"
   ]
  },
  {
   "cell_type": "markdown",
   "id": "d53a75b1",
   "metadata": {},
   "source": [
    "## (c)\n",
    "\n",
    "- Use the first 30 months only and run the regression.\n",
    "- Report the alpha/beta estimates"
   ]
  },
  {
   "cell_type": "code",
   "execution_count": null,
   "id": "43fb1f02",
   "metadata": {},
   "outputs": [],
   "source": [
    "first30 = data_df.iloc[:30]\n",
    "\n",
    "first30_results = {}\n",
    "\n",
    "for stock in stocks:\n",
    "    first30_results[stock] = get_SIM_regression(first30[stock], first30['SPY'], print_summary=False)\n",
    "\n",
    "first30_estimates = [(stock, first30_results[stock].params.values) for stock in stocks]\n",
    "\n",
    "sorted(first30_estimates, key=lambda x: x[1][1]) # ticker, alpha, beta / Sort by beta"
   ]
  },
  {
   "cell_type": "markdown",
   "id": "f2d0a5b1",
   "metadata": {},
   "source": [
    "## (d)\n",
    "\n",
    "- Use the latter 30 months only and run the regression.\n",
    "- Report the alpha/beta estimates"
   ]
  },
  {
   "cell_type": "code",
   "execution_count": null,
   "id": "29863548",
   "metadata": {},
   "outputs": [],
   "source": [
    "last30 = data_df.iloc[30:]\n",
    "\n",
    "last30_results = {}\n",
    "\n",
    "for stock in stocks:\n",
    "    last30_results[stock] = get_SIM_regression(last30[stock], last30['SPY'], print_summary=False)\n",
    "\n",
    "last30_estimates = [(stock, last30_results[stock].params.values) for stock in stocks]\n",
    "\n",
    "sorted(last30_estimates, key=lambda x: x[1][1]) # ticker, alpha, beta / Sort by beta"
   ]
  },
  {
   "cell_type": "markdown",
   "id": "55c0eed7",
   "metadata": {},
   "source": [
    "## (e)\n",
    "\n",
    "- Are the three set of estimates (all/first/latter) identical? \n",
    "- Discuss the result of a), c) and d)"
   ]
  },
  {
   "cell_type": "code",
   "execution_count": null,
   "id": "ee5bd8c7",
   "metadata": {},
   "outputs": [],
   "source": [
    "def plot_first_and_last(stock_ticker):\n",
    "    # Predicting the lines\n",
    "    first30_line = first30_results[stock_ticker].predict(sm.add_constant(first30['SPY']))\n",
    "    last30_line = last30_results[stock_ticker].predict(sm.add_constant(last30['SPY']))\n",
    "\n",
    "    plt.figure(figsize=(12, 8))\n",
    "    \n",
    "    # Scatter and plot for first 30 months\n",
    "    plt.scatter(first30['SPY'], first30[stock_ticker], color='blue', alpha=0.5, label=f'{stock_ticker} First 30 months')\n",
    "    plt.plot(first30['SPY'], first30_line, color='blue', linewidth=2, label='First 30 months OLS Line')\n",
    "    \n",
    "    # Scatter and plot for last 30 months\n",
    "    plt.scatter(last30['SPY'], last30[stock_ticker], color='orange', alpha=0.5, label=f'{stock_ticker} Last 30 months')\n",
    "    plt.plot(last30['SPY'], last30_line, color='orange', linewidth=2, label='Last 30 months OLS Line')\n",
    "    \n",
    "    # Labels and legend\n",
    "    plt.xlabel('Market Return (SPY)')\n",
    "    plt.ylabel(f'{stock_ticker} Return')\n",
    "    plt.title(f'{stock_ticker} Return vs Market Return')\n",
    "    plt.legend()\n",
    "    plt.show()\n",
    "\n"
   ]
  },
  {
   "cell_type": "code",
   "execution_count": null,
   "id": "bdc78b3c",
   "metadata": {},
   "outputs": [],
   "source": [
    "plot_first_and_last('AAPL')"
   ]
  },
  {
   "cell_type": "code",
   "execution_count": null,
   "id": "0d154a24",
   "metadata": {},
   "outputs": [],
   "source": [
    "plot_first_and_last('SPGI')"
   ]
  },
  {
   "cell_type": "code",
   "execution_count": null,
   "id": "9bdbcabd",
   "metadata": {},
   "outputs": [],
   "source": [
    "plot_first_and_last('MCD')"
   ]
  },
  {
   "cell_type": "code",
   "execution_count": null,
   "id": "23e60d01",
   "metadata": {},
   "outputs": [],
   "source": [
    "plot_first_and_last('KO')"
   ]
  },
  {
   "cell_type": "code",
   "execution_count": null,
   "id": "b13517bc",
   "metadata": {},
   "outputs": [],
   "source": []
  }
 ],
 "metadata": {
  "kernelspec": {
   "display_name": ".venv",
   "language": "python",
   "name": "python3"
  }
 },
 "nbformat": 4,
 "nbformat_minor": 5
}
