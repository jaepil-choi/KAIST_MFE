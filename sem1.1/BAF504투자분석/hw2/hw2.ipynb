{
 "cells": [
  {
   "cell_type": "markdown",
   "id": "23639b8f",
   "metadata": {},
   "source": [
    "# 투자분석 hw2 \n",
    "\n",
    "20249433 최재필\n"
   ]
  },
  {
   "cell_type": "code",
   "execution_count": null,
   "id": "54d28ea1",
   "metadata": {},
   "outputs": [],
   "source": [
    "import pandas as pd\n",
    "import numpy as np\n",
    "\n",
    "import matplotlib.pyplot as plt\n",
    "import seaborn as sns\n",
    "\n",
    "import scipy.stats as stats"
   ]
  },
  {
   "cell_type": "markdown",
   "id": "19cf3146",
   "metadata": {
    "vscode": {
     "languageId": "plaintext"
    }
   },
   "source": [
    "## (a)\n",
    "\n",
    "- MSFT\n",
    "- GOOG\n",
    "- KO"
   ]
  },
  {
   "cell_type": "markdown",
   "id": "8cb769f4",
   "metadata": {
    "vscode": {
     "languageId": "plaintext"
    }
   },
   "source": [
    "## (b)"
   ]
  },
  {
   "cell_type": "code",
   "execution_count": null,
   "id": "0180d230",
   "metadata": {},
   "outputs": [],
   "source": [
    "df = pd.read_csv('wrds_stock_return.csv')\n",
    "df['date'] = pd.to_datetime(df['date'])\n",
    "df = df[df['TICKER'].isin(['MSFT', 'GOOG', 'KO'])]\n",
    "df # 5-year monthly data"
   ]
  },
  {
   "cell_type": "markdown",
   "id": "24eb74af",
   "metadata": {},
   "source": [
    "- `RET`: return\n",
    "- `RETX`: return excluding dividend"
   ]
  },
  {
   "cell_type": "code",
   "execution_count": null,
   "id": "f41f87e9",
   "metadata": {},
   "outputs": [],
   "source": [
    "ret_df = df.pivot(index='date', columns='TICKER', values='RET')\n",
    "retx_df = df.pivot(index='date', columns='TICKER', values='RETX')"
   ]
  },
  {
   "cell_type": "code",
   "execution_count": null,
   "id": "32c1b7e5",
   "metadata": {},
   "outputs": [],
   "source": [
    "ret_df.head()"
   ]
  },
  {
   "cell_type": "markdown",
   "id": "fe0a99c7",
   "metadata": {},
   "source": [
    "### Calculate historical arithmetic average & SD for each stock"
   ]
  },
  {
   "cell_type": "markdown",
   "id": "e1ceb18a",
   "metadata": {},
   "source": [
    "#### `RET`"
   ]
  },
  {
   "cell_type": "code",
   "execution_count": null,
   "id": "6339142f",
   "metadata": {},
   "outputs": [],
   "source": [
    "ret_df.mean(axis=0)"
   ]
  },
  {
   "cell_type": "code",
   "execution_count": null,
   "id": "f431d2d8",
   "metadata": {},
   "outputs": [],
   "source": [
    "ret_df.std(axis=0)"
   ]
  },
  {
   "cell_type": "code",
   "execution_count": null,
   "id": "191e7fd5",
   "metadata": {},
   "outputs": [],
   "source": [
    "ret_df.cov()"
   ]
  },
  {
   "cell_type": "code",
   "execution_count": null,
   "id": "9fdb6b78",
   "metadata": {},
   "outputs": [],
   "source": [
    "ret_df.corr()"
   ]
  },
  {
   "cell_type": "markdown",
   "id": "3b1e2eb3",
   "metadata": {},
   "source": [
    "#### `RETX`"
   ]
  },
  {
   "cell_type": "code",
   "execution_count": null,
   "id": "c4576ecd",
   "metadata": {},
   "outputs": [],
   "source": [
    "retx_df.mean(axis=0)"
   ]
  },
  {
   "cell_type": "code",
   "execution_count": null,
   "id": "32ca8c7a",
   "metadata": {},
   "outputs": [],
   "source": [
    "retx_df.std(axis=0)"
   ]
  },
  {
   "cell_type": "code",
   "execution_count": null,
   "id": "35148fbc",
   "metadata": {},
   "outputs": [],
   "source": [
    "retx_df.cov()"
   ]
  },
  {
   "cell_type": "markdown",
   "id": "7ffd8469",
   "metadata": {},
   "source": [
    "## (c)"
   ]
  },
  {
   "cell_type": "code",
   "execution_count": null,
   "id": "c36fe6d8",
   "metadata": {},
   "outputs": [],
   "source": []
  },
  {
   "cell_type": "markdown",
   "id": "688b8a07",
   "metadata": {},
   "source": [
    "## (d)"
   ]
  },
  {
   "cell_type": "code",
   "execution_count": null,
   "id": "f66f84c7",
   "metadata": {},
   "outputs": [],
   "source": []
  },
  {
   "cell_type": "markdown",
   "id": "26dc8604",
   "metadata": {},
   "source": [
    "## (e)"
   ]
  },
  {
   "cell_type": "code",
   "execution_count": null,
   "id": "885ec035",
   "metadata": {},
   "outputs": [],
   "source": []
  },
  {
   "cell_type": "markdown",
   "id": "9584fb87",
   "metadata": {},
   "source": [
    "## (f)"
   ]
  },
  {
   "cell_type": "code",
   "execution_count": null,
   "id": "48297018",
   "metadata": {},
   "outputs": [],
   "source": [
    "opt_port_mean = 0.0197\n",
    "opt_port_std = 0.0517"
   ]
  },
  {
   "cell_type": "code",
   "execution_count": null,
   "id": "fd06800b",
   "metadata": {},
   "outputs": [],
   "source": [
    "alpha = 0.05"
   ]
  },
  {
   "cell_type": "code",
   "execution_count": null,
   "id": "6c4bb9db",
   "metadata": {},
   "outputs": [],
   "source": [
    "# Value at Risk\n",
    "VaR = opt_port_mean + opt_port_std * stats.norm.ppf(alpha)\n",
    "VaR"
   ]
  },
  {
   "cell_type": "code",
   "execution_count": null,
   "id": "3d89a3dd",
   "metadata": {},
   "outputs": [],
   "source": [
    "# Expected Shortfall\n",
    "ES = opt_port_mean - opt_port_std * stats.norm.pdf(stats.norm.ppf(alpha)) / alpha\n",
    "ES"
   ]
  },
  {
   "cell_type": "code",
   "execution_count": null,
   "id": "a44cae3f",
   "metadata": {},
   "outputs": [],
   "source": [
    "stats.norm.pdf(stats.norm.ppf(alpha))"
   ]
  },
  {
   "cell_type": "code",
   "execution_count": null,
   "id": "5b52c730",
   "metadata": {},
   "outputs": [],
   "source": [
    "stats.norm.ppf(alpha)"
   ]
  },
  {
   "cell_type": "code",
   "execution_count": null,
   "id": "5cbfeab5",
   "metadata": {},
   "outputs": [],
   "source": [
    "stats.norm.pdf(-1.6448536269514729)"
   ]
  },
  {
   "cell_type": "code",
   "execution_count": null,
   "id": "f927a114",
   "metadata": {},
   "outputs": [],
   "source": [
    "stats.norm.pdf(0)"
   ]
  },
  {
   "cell_type": "code",
   "execution_count": null,
   "id": "ea220635",
   "metadata": {},
   "outputs": [],
   "source": [
    "stats.norm.cdf(-1.6448536269514729)"
   ]
  },
  {
   "cell_type": "code",
   "execution_count": null,
   "id": "5795eb96",
   "metadata": {
    "lines_to_next_cell": 2
   },
   "outputs": [],
   "source": [
    "from scipy.stats import norm\n",
    "\n",
    "# Given mean and standard deviation for the returns\n",
    "mean = 0.0197\n",
    "std_dev = 0.0517\n",
    "\n",
    "# Set the confidence level for VaR and ES\n",
    "confidence_level = 0.95\n",
    "\n",
    "# Calculate the z-score for the given confidence level\n",
    "z_score = norm.ppf(confidence_level)\n",
    "\n",
    "# Calculate VaR (Value at Risk) for the left-tail risk\n",
    "VaR = mean - z_score * std_dev\n",
    "\n",
    "# For a normal distribution, the Expected Shortfall (ES) at a given confidence level can be computed using the formula:\n",
    "# ES = mean - (pdf(z_score)/(1 - confidence_level)) * std_dev\n",
    "# where pdf(z_score) is the probability density function of the normal distribution at the z_score\n",
    "ES = mean - (norm.pdf(z_score) / (1 - confidence_level)) * std_dev\n",
    "\n",
    "VaR, ES"
   ]
  },
  {
   "cell_type": "code",
   "execution_count": null,
   "id": "05dc7d9a",
   "metadata": {},
   "outputs": [],
   "source": [
    "z_score"
   ]
  },
  {
   "cell_type": "code",
   "execution_count": null,
   "id": "d6ebaed9",
   "metadata": {},
   "outputs": [],
   "source": []
  },
  {
   "cell_type": "markdown",
   "id": "c2c66595",
   "metadata": {},
   "source": [
    "## (g)"
   ]
  },
  {
   "cell_type": "markdown",
   "id": "f7af4e2b",
   "metadata": {},
   "source": []
  }
 ],
 "metadata": {
  "kernelspec": {
   "display_name": ".venv",
   "language": "python",
   "name": "python3"
  }
 },
 "nbformat": 4,
 "nbformat_minor": 5
}
