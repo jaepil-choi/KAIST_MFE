{
 "cells": [
  {
   "cell_type": "markdown",
   "id": "1b575d93",
   "metadata": {},
   "source": [
    "# HW3\n",
    "\n",
    "20249433 최재필"
   ]
  },
  {
   "cell_type": "code",
   "execution_count": null,
   "id": "f8ac5e45",
   "metadata": {},
   "outputs": [],
   "source": [
    "import sympy as sp\n",
    "import numpy as np\n",
    "import math"
   ]
  },
  {
   "cell_type": "markdown",
   "id": "035be738",
   "metadata": {},
   "source": [
    "## 2. par yield 빈 칸 채우기"
   ]
  },
  {
   "cell_type": "markdown",
   "id": "bd92d9dc",
   "metadata": {},
   "source": [
    "year 0.5부터\n",
    "\n",
    "$$\n",
    "\n",
    "100 = \\frac{C_{\\frac{1}{2}} + 100 }{(1+\\frac{z_{0.5}}{2})^{2 \\times 0.5}} \n",
    "\n",
    "$$\n",
    "\n",
    "에서 $ C_{\\frac{1}{2}} $ 는 주어짐. $ z_{\\frac{1}{2}} $ 를 구해야 함. "
   ]
  },
  {
   "cell_type": "code",
   "execution_count": null,
   "id": "4e29c0ce",
   "metadata": {
    "lines_to_next_cell": 2
   },
   "outputs": [],
   "source": [
    "# c = sp.symbols('c')\n",
    "\n",
    "c_bi = (0.0536 * 100)/ 2\n",
    "z05 = sp.symbols('z05')"
   ]
  },
  {
   "cell_type": "code",
   "execution_count": null,
   "id": "f6c0769e",
   "metadata": {},
   "outputs": [],
   "source": [
    "eq = sp.Eq(\n",
    "    100, \n",
    "    (c_bi+100)/(1+z05/2)**(2 * 0.5)\n",
    "    )\n",
    "eq"
   ]
  },
  {
   "cell_type": "code",
   "execution_count": null,
   "id": "0db16e31",
   "metadata": {},
   "outputs": [],
   "source": [
    "z05_n = sp.nsolve(eq, z05, 0.05)\n",
    "z05_n"
   ]
  },
  {
   "cell_type": "markdown",
   "id": "89f4ea67",
   "metadata": {},
   "source": [
    "year 1.0\n",
    "\n",
    "$$\n",
    "\n",
    "100 = \\frac{C_{\\frac{1}{2}}}{(1+\\frac{z_{0.5}}{2})^{2 \\times 0.5}}  \n",
    "+ \\frac{C_{\\frac{1}{2}} + 100 }{(1+\\frac{z_{1.0}}{2})^{2 \\times 1.0}} \n",
    "\n",
    "$$\n",
    "\n",
    "에서 $ C_{\\frac{1}{2}} $ 는 주어짐. $ z_{\\frac{1}{2}} $ 를 구해야 함. "
   ]
  },
  {
   "cell_type": "code",
   "execution_count": null,
   "id": "70edba41",
   "metadata": {
    "lines_to_next_cell": 2
   },
   "outputs": [],
   "source": [
    "c_bi = (0.0501 * 100)/ 2\n",
    "\n",
    "z10 = sp.symbols('z10')"
   ]
  },
  {
   "cell_type": "code",
   "execution_count": null,
   "id": "2ab4e6a5",
   "metadata": {},
   "outputs": [],
   "source": [
    "eq = sp.Eq(\n",
    "    100, \n",
    "    (c_bi)/(1+z05_n/2)**(2 * 0.5) + \n",
    "    (c_bi+100)/(1+z10/2)**(2 * 1.0)\n",
    "    )\n",
    "eq"
   ]
  },
  {
   "cell_type": "code",
   "execution_count": null,
   "id": "133912ae",
   "metadata": {},
   "outputs": [],
   "source": [
    "z10_n = sp.nsolve(eq, z10, 0.05)\n",
    "z10_n"
   ]
  },
  {
   "cell_type": "markdown",
   "id": "70270485",
   "metadata": {},
   "source": [
    "year 1.5\n",
    "\n",
    "$$\n",
    "\n",
    "100 = \\frac{C_{\\frac{1}{2}}}{(1+\\frac{z_{0.5}}{2})^{2 \\times 0.5}}  \n",
    "+ \\frac{C_{\\frac{1}{2}}}{(1+\\frac{z_{1.0}}{2})^{2 \\times 1.0}} \n",
    "+ \\frac{C_{\\frac{1}{2}} + 100 }{(1+\\frac{z_{1.5}}{2})^{2 \\times 1.5}} \n",
    "\n",
    "$$\n",
    "\n",
    "에서 이제 C 가 주어지지 않음. 앞에서 구한 것을 바탕으로 1.5의 par yield를 구해야 함."
   ]
  },
  {
   "cell_type": "code",
   "execution_count": null,
   "id": "48be8f53",
   "metadata": {
    "lines_to_next_cell": 2
   },
   "outputs": [],
   "source": [
    "c15 = sp.symbols('c15')\n",
    "\n",
    "z15 = sp.symbols('z15')"
   ]
  },
  {
   "cell_type": "code",
   "execution_count": null,
   "id": "d95e6cce",
   "metadata": {},
   "outputs": [],
   "source": [
    "eq = sp.Eq(\n",
    "    100, \n",
    "    (c15)/(1+z05_n/2)**(2 * 0.5) + \n",
    "    (c15)/(1+z10_n/2)**(2 * 1.0) +\n",
    "    (c15+100)/(1+z15/2)**(2 * 1.5)\n",
    "    )\n",
    "eq"
   ]
  },
  {
   "cell_type": "code",
   "execution_count": null,
   "id": "03423f9a",
   "metadata": {},
   "outputs": [],
   "source": [
    "z10_n = sp.nsolve(eq, z10, 0.05)\n",
    "z10_n"
   ]
  },
  {
   "cell_type": "code",
   "execution_count": null,
   "id": "9859f85e",
   "metadata": {},
   "outputs": [],
   "source": []
  },
  {
   "cell_type": "code",
   "execution_count": null,
   "id": "2d83e257",
   "metadata": {},
   "outputs": [],
   "source": []
  },
  {
   "cell_type": "code",
   "execution_count": null,
   "id": "4a310d7c",
   "metadata": {},
   "outputs": [],
   "source": []
  },
  {
   "cell_type": "code",
   "execution_count": null,
   "id": "c4150e29",
   "metadata": {},
   "outputs": [],
   "source": [
    "p0 = 110/1.1005\n",
    "p0"
   ]
  },
  {
   "cell_type": "code",
   "execution_count": null,
   "id": "8b46719e",
   "metadata": {},
   "outputs": [],
   "source": [
    "p_u = 110/1.1015 # price up\n",
    "p_u"
   ]
  },
  {
   "cell_type": "code",
   "execution_count": null,
   "id": "e5503df1",
   "metadata": {},
   "outputs": [],
   "source": [
    "p_d = 110/1.0995 # price down\n",
    "p_d"
   ]
  },
  {
   "cell_type": "code",
   "execution_count": null,
   "id": "edddfb17",
   "metadata": {},
   "outputs": [],
   "source": [
    "p_d = 100"
   ]
  },
  {
   "cell_type": "code",
   "execution_count": null,
   "id": "3001728e",
   "metadata": {},
   "outputs": [],
   "source": [
    "bp20 = 0.002\n",
    "\n",
    "duration = -(1/p0) * (p_u - p_d)/bp20\n",
    "duration"
   ]
  },
  {
   "cell_type": "code",
   "execution_count": null,
   "id": "7a2a9300",
   "metadata": {},
   "outputs": [],
   "source": [
    "(100-99.8638)/(99.9546*0.002)"
   ]
  },
  {
   "cell_type": "markdown",
   "id": "8588dcb9",
   "metadata": {},
   "source": [
    "accrued interest"
   ]
  },
  {
   "cell_type": "code",
   "execution_count": null,
   "id": "38563b71",
   "metadata": {
    "lines_to_next_cell": 2
   },
   "outputs": [],
   "source": [
    "# 103-22+ US Treasury\n",
    "T_value = 103 + 22/32 + 1/64\n",
    "T_value"
   ]
  },
  {
   "cell_type": "code",
   "execution_count": null,
   "id": "33d755e7",
   "metadata": {},
   "outputs": [],
   "source": [
    "c_rate = 0.06125\n",
    "\n",
    "C_semi = 100 * c_rate/2\n",
    "C_semi"
   ]
  },
  {
   "cell_type": "code",
   "execution_count": null,
   "id": "19e76efe",
   "metadata": {},
   "outputs": [],
   "source": [
    "accrued_interest = C_semi * 152/183\n",
    "accrued_interest"
   ]
  },
  {
   "cell_type": "code",
   "execution_count": null,
   "id": "e4185a4b",
   "metadata": {},
   "outputs": [],
   "source": [
    "full_price = accrued_interest + T_value\n",
    "full_price"
   ]
  },
  {
   "cell_type": "code",
   "execution_count": null,
   "id": "19299a80",
   "metadata": {},
   "outputs": [],
   "source": []
  }
 ],
 "metadata": {
  "kernelspec": {
   "display_name": ".venv",
   "language": "python",
   "name": "python3"
  }
 },
 "nbformat": 4,
 "nbformat_minor": 5
}
