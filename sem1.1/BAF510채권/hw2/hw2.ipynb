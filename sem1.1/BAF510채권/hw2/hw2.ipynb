{
 "cells": [
  {
   "cell_type": "markdown",
   "metadata": {},
   "source": [
    "# HW3\n",
    "\n",
    "20249433 최재필"
   ]
  },
  {
   "cell_type": "code",
   "execution_count": 1,
   "metadata": {},
   "outputs": [],
   "source": [
    "import sympy as sp\n",
    "import numpy as np\n",
    "import math"
   ]
  },
  {
   "cell_type": "markdown",
   "metadata": {},
   "source": [
    "## 2. par yield 빈 칸 채우기"
   ]
  },
  {
   "cell_type": "markdown",
   "metadata": {},
   "source": [
    "year 0.5부터\n",
    "\n",
    "$$\n",
    "\n",
    "100 = \\frac{C_{\\frac{1}{2}} + 100 }{(1+\\frac{z_{0.5}}{2})^{2 \\times 0.5}} \n",
    "\n",
    "$$\n",
    "\n",
    "에서 $ C_{\\frac{1}{2}} $ 는 주어짐. $ z_{\\frac{1}{2}} $ 를 구해야 함. "
   ]
  },
  {
   "cell_type": "code",
   "execution_count": 106,
   "metadata": {},
   "outputs": [],
   "source": [
    "# c = sp.symbols('c')\n",
    "\n",
    "c_bi = (0.0536 * 100)/ 2\n",
    "z05 = sp.symbols('z05')\n"
   ]
  },
  {
   "cell_type": "code",
   "execution_count": 114,
   "metadata": {},
   "outputs": [
    {
     "data": {
      "text/latex": [
       "$\\displaystyle 100 = \\frac{102.68}{\\left(\\frac{z_{05}}{2} + 1\\right)^{1.0}}$"
      ],
      "text/plain": [
       "Eq(100, 102.68/(z05/2 + 1)**1.0)"
      ]
     },
     "execution_count": 114,
     "metadata": {},
     "output_type": "execute_result"
    }
   ],
   "source": [
    "eq = sp.Eq(\n",
    "    100, \n",
    "    (c_bi+100)/(1+z05/2)**(2 * 0.5)\n",
    "    )\n",
    "eq"
   ]
  },
  {
   "cell_type": "code",
   "execution_count": 115,
   "metadata": {},
   "outputs": [
    {
     "data": {
      "text/latex": [
       "$\\displaystyle 0.0536000000000001$"
      ],
      "text/plain": [
       "0.0536000000000001"
      ]
     },
     "execution_count": 115,
     "metadata": {},
     "output_type": "execute_result"
    }
   ],
   "source": [
    "z05_n = sp.nsolve(eq, z05, 0.05)\n",
    "z05_n"
   ]
  },
  {
   "cell_type": "markdown",
   "metadata": {},
   "source": [
    "year 1.0\n",
    "\n",
    "$$\n",
    "\n",
    "100 = \\frac{C_{\\frac{1}{2}}}{(1+\\frac{z_{0.5}}{2})^{2 \\times 0.5}}  \n",
    "+ \\frac{C_{\\frac{1}{2}} + 100 }{(1+\\frac{z_{1.0}}{2})^{2 \\times 1.0}} \n",
    "\n",
    "$$\n",
    "\n",
    "에서 $ C_{\\frac{1}{2}} $ 는 주어짐. $ z_{\\frac{1}{2}} $ 를 구해야 함. "
   ]
  },
  {
   "cell_type": "code",
   "execution_count": 125,
   "metadata": {},
   "outputs": [],
   "source": [
    "c_bi = (0.0501 * 100)/ 2\n",
    "\n",
    "z10 = sp.symbols('z10')\n"
   ]
  },
  {
   "cell_type": "code",
   "execution_count": 130,
   "metadata": {},
   "outputs": [
    {
     "data": {
      "text/latex": [
       "$\\displaystyle 100 = \\frac{102.505}{\\left(\\frac{z_{10}}{2} + 1\\right)^{2.0}} + 2.43961823139852$"
      ],
      "text/plain": [
       "Eq(100, 102.505/(z10/2 + 1)**2.0 + 2.43961823139852)"
      ]
     },
     "execution_count": 130,
     "metadata": {},
     "output_type": "execute_result"
    }
   ],
   "source": [
    "eq = sp.Eq(\n",
    "    100, \n",
    "    (c_bi)/(1+z05_n/2)**(2 * 0.5) + \n",
    "    (c_bi+100)/(1+z10/2)**(2 * 1.0)\n",
    "    )\n",
    "eq"
   ]
  },
  {
   "cell_type": "code",
   "execution_count": 127,
   "metadata": {},
   "outputs": [
    {
     "data": {
      "text/latex": [
       "$\\displaystyle 0.0500562386145425$"
      ],
      "text/plain": [
       "0.0500562386145425"
      ]
     },
     "execution_count": 127,
     "metadata": {},
     "output_type": "execute_result"
    }
   ],
   "source": [
    "z10_n = sp.nsolve(eq, z10, 0.05)\n",
    "z10_n"
   ]
  },
  {
   "cell_type": "markdown",
   "metadata": {},
   "source": [
    "year 1.5\n",
    "\n",
    "$$\n",
    "\n",
    "100 = \\frac{C_{\\frac{1}{2}}}{(1+\\frac{z_{0.5}}{2})^{2 \\times 0.5}}  \n",
    "+ \\frac{C_{\\frac{1}{2}}}{(1+\\frac{z_{1.0}}{2})^{2 \\times 1.0}} \n",
    "+ \\frac{C_{\\frac{1}{2}} + 100 }{(1+\\frac{z_{1.5}}{2})^{2 \\times 1.5}} \n",
    "\n",
    "$$\n",
    "\n",
    "에서 이제 C 가 주어지지 않음. 앞에서 구한 것을 바탕으로 1.5의 par yield를 구해야 함."
   ]
  },
  {
   "cell_type": "code",
   "execution_count": 129,
   "metadata": {},
   "outputs": [],
   "source": [
    "c15 = sp.symbols('c15')\n",
    "\n",
    "z15 = sp.symbols('z15')\n"
   ]
  },
  {
   "cell_type": "code",
   "execution_count": 131,
   "metadata": {},
   "outputs": [
    {
     "data": {
      "text/latex": [
       "$\\displaystyle 100 = 1.92566166876959 c_{15} + \\frac{c_{15} + 100}{\\left(\\frac{z_{15}}{2} + 1\\right)^{3.0}}$"
      ],
      "text/plain": [
       "Eq(100, 1.92566166876959*c15 + (c15 + 100)/(z15/2 + 1)**3.0)"
      ]
     },
     "execution_count": 131,
     "metadata": {},
     "output_type": "execute_result"
    }
   ],
   "source": [
    "eq = sp.Eq(\n",
    "    100, \n",
    "    (c15)/(1+z05_n/2)**(2 * 0.5) + \n",
    "    (c15)/(1+z10_n/2)**(2 * 1.0) +\n",
    "    (c15+100)/(1+z15/2)**(2 * 1.5)\n",
    "    )\n",
    "eq"
   ]
  },
  {
   "cell_type": "code",
   "execution_count": null,
   "metadata": {},
   "outputs": [
    {
     "data": {
      "text/latex": [
       "$\\displaystyle 0.0500562386145425$"
      ],
      "text/plain": [
       "0.0500562386145425"
      ]
     },
     "metadata": {},
     "output_type": "display_data"
    }
   ],
   "source": [
    "z10_n = sp.nsolve(eq, z10, 0.05)\n",
    "z10_n"
   ]
  },
  {
   "cell_type": "code",
   "execution_count": null,
   "metadata": {},
   "outputs": [],
   "source": []
  },
  {
   "cell_type": "code",
   "execution_count": null,
   "metadata": {},
   "outputs": [],
   "source": []
  },
  {
   "cell_type": "code",
   "execution_count": null,
   "metadata": {},
   "outputs": [],
   "source": []
  },
  {
   "cell_type": "code",
   "execution_count": 75,
   "metadata": {},
   "outputs": [
    {
     "data": {
      "text/plain": [
       "99.95456610631531"
      ]
     },
     "execution_count": 75,
     "metadata": {},
     "output_type": "execute_result"
    }
   ],
   "source": [
    "p0 = 110/1.1005\n",
    "p0"
   ]
  },
  {
   "cell_type": "code",
   "execution_count": 76,
   "metadata": {},
   "outputs": [
    {
     "data": {
      "text/plain": [
       "99.86382206082615"
      ]
     },
     "execution_count": 76,
     "metadata": {},
     "output_type": "execute_result"
    }
   ],
   "source": [
    "p_u = 110/1.1015 # price up\n",
    "p_u"
   ]
  },
  {
   "cell_type": "code",
   "execution_count": 77,
   "metadata": {},
   "outputs": [
    {
     "data": {
      "text/plain": [
       "100.04547521600729"
      ]
     },
     "execution_count": 77,
     "metadata": {},
     "output_type": "execute_result"
    }
   ],
   "source": [
    "p_d = 110/1.0995 # price down\n",
    "p_d"
   ]
  },
  {
   "cell_type": "code",
   "execution_count": 82,
   "metadata": {},
   "outputs": [],
   "source": [
    "p_d = 100"
   ]
  },
  {
   "cell_type": "code",
   "execution_count": 83,
   "metadata": {},
   "outputs": [
    {
     "data": {
      "text/plain": [
       "0.6811991911855443"
      ]
     },
     "execution_count": 83,
     "metadata": {},
     "output_type": "execute_result"
    }
   ],
   "source": [
    "bp20 = 0.002\n",
    "\n",
    "duration = -(1/p0) * (p_u - p_d)/bp20\n",
    "duration"
   ]
  },
  {
   "cell_type": "code",
   "execution_count": 84,
   "metadata": {},
   "outputs": [
    {
     "data": {
      "text/plain": [
       "0.6813093144287622"
      ]
     },
     "execution_count": 84,
     "metadata": {},
     "output_type": "execute_result"
    }
   ],
   "source": [
    "(100-99.8638)/(99.9546*0.002)"
   ]
  },
  {
   "cell_type": "markdown",
   "metadata": {},
   "source": [
    "accrued interest"
   ]
  },
  {
   "cell_type": "code",
   "execution_count": 1,
   "metadata": {},
   "outputs": [
    {
     "data": {
      "text/plain": [
       "103.703125"
      ]
     },
     "execution_count": 1,
     "metadata": {},
     "output_type": "execute_result"
    }
   ],
   "source": [
    "# 103-22+ US Treasury\n",
    "T_value = 103 + 22/32 + 1/64\n",
    "T_value\n"
   ]
  },
  {
   "cell_type": "code",
   "execution_count": 2,
   "metadata": {},
   "outputs": [
    {
     "data": {
      "text/plain": [
       "3.0625"
      ]
     },
     "execution_count": 2,
     "metadata": {},
     "output_type": "execute_result"
    }
   ],
   "source": [
    "c_rate = 0.06125\n",
    "\n",
    "C_semi = 100 * c_rate/2\n",
    "C_semi"
   ]
  },
  {
   "cell_type": "code",
   "execution_count": 3,
   "metadata": {},
   "outputs": [
    {
     "data": {
      "text/plain": [
       "2.5437158469945356"
      ]
     },
     "execution_count": 3,
     "metadata": {},
     "output_type": "execute_result"
    }
   ],
   "source": [
    "accrued_interest = C_semi * 152/183\n",
    "accrued_interest"
   ]
  },
  {
   "cell_type": "code",
   "execution_count": 4,
   "metadata": {},
   "outputs": [
    {
     "data": {
      "text/plain": [
       "106.24684084699453"
      ]
     },
     "execution_count": 4,
     "metadata": {},
     "output_type": "execute_result"
    }
   ],
   "source": [
    "full_price = accrued_interest + T_value\n",
    "full_price"
   ]
  },
  {
   "cell_type": "code",
   "execution_count": null,
   "metadata": {},
   "outputs": [],
   "source": []
  }
 ],
 "metadata": {
  "kernelspec": {
   "display_name": ".venv",
   "language": "python",
   "name": "python3"
  },
  "language_info": {
   "codemirror_mode": {
    "name": "ipython",
    "version": 3
   },
   "file_extension": ".py",
   "mimetype": "text/x-python",
   "name": "python",
   "nbconvert_exporter": "python",
   "pygments_lexer": "ipython3",
   "version": "3.11.5"
  }
 },
 "nbformat": 4,
 "nbformat_minor": 2
}
