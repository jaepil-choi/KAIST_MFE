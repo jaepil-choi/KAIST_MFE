{
 "cells": [
  {
   "cell_type": "markdown",
   "id": "14638128",
   "metadata": {},
   "source": [
    "# Yields"
   ]
  },
  {
   "cell_type": "code",
   "execution_count": null,
   "id": "568a4aad",
   "metadata": {},
   "outputs": [],
   "source": [
    "import sympy as sp\n",
    "import numpy as np\n",
    "import math"
   ]
  },
  {
   "cell_type": "markdown",
   "id": "47453ab0",
   "metadata": {},
   "source": [
    "zero rates\n",
    "\n",
    "$$\n",
    "\n",
    "Pm = \\frac{FV}{(1+z)^T}\n",
    "\n",
    "$$"
   ]
  },
  {
   "cell_type": "markdown",
   "id": "56b41049",
   "metadata": {},
   "source": [
    "$$\n",
    "\n",
    "z = (\\frac{FV}{Pm})^{1/T} - 1\n",
    "\n",
    "$$"
   ]
  },
  {
   "cell_type": "code",
   "execution_count": null,
   "id": "4d618cd3",
   "metadata": {},
   "outputs": [],
   "source": [
    "def get_zero_rate(Pm, T, FV=100):\n",
    "    z = (FV/Pm)**(1/T) - 1\n",
    "\n",
    "    return z"
   ]
  },
  {
   "cell_type": "markdown",
   "id": "7806a971",
   "metadata": {},
   "source": [
    "forward rate\n",
    "$$\n",
    "\n",
    "(1+z_{n})^n = (1+z_{n-1})^{n-1} \\times (1+f_{n,1})\n",
    "\n",
    "$$"
   ]
  },
  {
   "cell_type": "code",
   "execution_count": null,
   "id": "c1e46c23",
   "metadata": {},
   "outputs": [],
   "source": [
    "def get_forward_from_zero(z_n, z_n_prev, n):\n",
    "    f = (1 + z_n)**n / (1 + z_n_prev)**(n-1) - 1\n",
    "\n",
    "    return f"
   ]
  },
  {
   "cell_type": "code",
   "execution_count": null,
   "id": "91b7e2d3",
   "metadata": {},
   "outputs": [],
   "source": []
  },
  {
   "cell_type": "code",
   "execution_count": null,
   "id": "a855f942",
   "metadata": {},
   "outputs": [],
   "source": [
    "def get_coupon_sum(C_r, maturity, frequency, FV=100):\n",
    "    i = sp.symbols('i')\n",
    "    r = sp.symbols('r', real=True) # 채권의 수익률\n",
    "    e = sp.E\n",
    "\n",
    "    C_1period = FV * C_r / frequency\n",
    "    coupon_sum = sp.Sum(C_1period / e**((i/frequency)*r), (i, 1, frequency * maturity)).doit()\n",
    "\n",
    "    return coupon_sum\n",
    "\n"
   ]
  },
  {
   "cell_type": "code",
   "execution_count": null,
   "id": "f2a0d1eb",
   "metadata": {
    "lines_to_next_cell": 2
   },
   "outputs": [],
   "source": [
    "def get_bond_equation(PV, C_r, maturity, frequency, FV=100):\n",
    "    i = sp.symbols('i')\n",
    "    r = sp.symbols('r', real=True) # 채권의 수익률\n",
    "    e = sp.E\n",
    "\n",
    "    coupon_sum = get_coupon_sum(C_r, maturity, frequency, FV)\n",
    "    bond_equation = sp.Eq(PV, coupon_sum + FV / e**(r*(maturity*frequency/frequency)))\n",
    "\n",
    "    return bond_equation"
   ]
  },
  {
   "cell_type": "code",
   "execution_count": null,
   "id": "2cf59fc1",
   "metadata": {},
   "outputs": [],
   "source": [
    "##TODO: Discrete sum 할 수 있도록 해야. e로 하면 continuous compounding. discrete, continuous 나눠줘야.\n",
    "\n"
   ]
  },
  {
   "cell_type": "code",
   "execution_count": null,
   "id": "2c80d21e",
   "metadata": {},
   "outputs": [],
   "source": [
    "FV = 100 # 액면가\n",
    "PV = 92.5067 # 딜러 요구 가격\n",
    "\n",
    "C_r = 0.08 # 쿠폰 이자율\n",
    "\n",
    "frequency = 2 # 6개월마다 쿠폰 지급\n",
    "maturity = 3 # 잔존만기 3년"
   ]
  },
  {
   "cell_type": "code",
   "execution_count": null,
   "id": "fda36f93",
   "metadata": {},
   "outputs": [],
   "source": [
    "equation = get_bond_equation(PV, C_r, maturity, frequency, FV)\n",
    "init_r = 0.10\n",
    "\n",
    "r = sp.symbols('r', real=True) # 채권의 수익률\n",
    "\n",
    "solution = sp.nsolve(equation, r, init_r)"
   ]
  },
  {
   "cell_type": "code",
   "execution_count": null,
   "id": "546cbdb7",
   "metadata": {},
   "outputs": [],
   "source": [
    "get_bond_equation(100, 0.0857, 4, 1, 100)"
   ]
  },
  {
   "cell_type": "code",
   "execution_count": null,
   "id": "dc3755af",
   "metadata": {},
   "outputs": [],
   "source": []
  }
 ],
 "metadata": {
  "kernelspec": {
   "display_name": ".venv",
   "language": "python",
   "name": "python3"
  }
 },
 "nbformat": 4,
 "nbformat_minor": 5
}
