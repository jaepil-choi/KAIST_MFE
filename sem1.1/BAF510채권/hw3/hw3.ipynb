{
 "cells": [
  {
   "cell_type": "markdown",
   "id": "692b2321",
   "metadata": {},
   "source": [
    "# 채권 hw3"
   ]
  },
  {
   "cell_type": "code",
   "execution_count": null,
   "id": "92291c4f",
   "metadata": {},
   "outputs": [],
   "source": [
    "from datetime import datetime, timedelta\n",
    "import sympy as sp\n",
    "import math"
   ]
  },
  {
   "cell_type": "markdown",
   "id": "638b4266",
   "metadata": {
    "vscode": {
     "languageId": "plaintext"
    }
   },
   "source": [
    "## 1"
   ]
  },
  {
   "cell_type": "code",
   "execution_count": null,
   "id": "2b539885",
   "metadata": {},
   "outputs": [],
   "source": [
    "treasury = 101 + 25/32 + 1/64 # 101-25+\n",
    "treasury"
   ]
  },
  {
   "cell_type": "code",
   "execution_count": null,
   "id": "64c26a9b",
   "metadata": {},
   "outputs": [],
   "source": [
    "FV = 1000\n",
    "Cr = 0.07\n",
    "C_semi = FV * Cr/2"
   ]
  },
  {
   "cell_type": "code",
   "execution_count": null,
   "id": "56e9fa3a",
   "metadata": {},
   "outputs": [],
   "source": [
    "def date_difference(start_date_str, end_date_str, is_inclusive=False):\n",
    "    start_date = datetime.strptime(start_date_str, '%Y-%m-%d')\n",
    "    end_date = datetime.strptime(end_date_str, '%Y-%m-%d')\n",
    "    \n",
    "    day_difference = (end_date - start_date).days\n",
    "    if is_inclusive:\n",
    "        day_difference += 1\n",
    "    \n",
    "    return day_difference\n",
    "\n"
   ]
  },
  {
   "cell_type": "code",
   "execution_count": null,
   "id": "8dcda3db",
   "metadata": {},
   "outputs": [],
   "source": [
    "paydate = '2024-02-05'\n",
    "\n",
    "last_coupon_date = '2023-10-15'\n",
    "upcoming_coupon_date = '2024-04-15'\n",
    "\n",
    "# days_to_next_coupon = date_difference(paydate, upcoming_coupon_date)\n",
    "days_from_the_last_coupon = date_difference(last_coupon_date, paydate)\n",
    "coupon_period = date_difference(last_coupon_date, upcoming_coupon_date)\n",
    "\n",
    "days_from_the_last_coupon, coupon_period"
   ]
  },
  {
   "cell_type": "code",
   "execution_count": null,
   "id": "32287034",
   "metadata": {},
   "outputs": [],
   "source": [
    "accrued_interest = C_semi * days_from_the_last_coupon / coupon_period\n",
    "accrued_interest"
   ]
  },
  {
   "cell_type": "code",
   "execution_count": null,
   "id": "db074866",
   "metadata": {},
   "outputs": [],
   "source": [
    "full_price = FV*(treasury/100) + accrued_interest \n",
    "full_price"
   ]
  },
  {
   "cell_type": "markdown",
   "id": "c7713c74",
   "metadata": {},
   "source": [
    "## 2"
   ]
  },
  {
   "cell_type": "code",
   "execution_count": null,
   "id": "8af0f520",
   "metadata": {},
   "outputs": [],
   "source": [
    "zero1 = 0.04\n",
    "zero2 = 0.05\n",
    "p = 1/2\n",
    "FV = 100\n",
    "\n",
    "log_std = 0.005  "
   ]
  },
  {
   "cell_type": "code",
   "execution_count": null,
   "id": "0af91054",
   "metadata": {},
   "outputs": [],
   "source": [
    "PV = 100 / (1+zero2)**2\n",
    "PV"
   ]
  },
  {
   "cell_type": "code",
   "execution_count": null,
   "id": "014a932c",
   "metadata": {},
   "outputs": [],
   "source": [
    "ru = sp.symbols('ru')\n",
    "rd = sp.symbols('rd')\n",
    "e = math.e"
   ]
  },
  {
   "cell_type": "code",
   "execution_count": null,
   "id": "0ba9e164",
   "metadata": {},
   "outputs": [],
   "source": [
    "eq1 = sp.Eq(ru, rd * e**(2*log_std))\n",
    "eq1"
   ]
  },
  {
   "cell_type": "code",
   "execution_count": null,
   "id": "299ff755",
   "metadata": {},
   "outputs": [],
   "source": [
    "eq2 = sp.Eq(PV, 1/(1+zero1) * 1/2 * ( 100/(1+ru) + 100/(1+rd) ))\n",
    "eq2"
   ]
  },
  {
   "cell_type": "code",
   "execution_count": null,
   "id": "3daca886",
   "metadata": {},
   "outputs": [],
   "source": [
    "solution = sp.solve([eq1, eq2], (ru, rd))\n",
    "solution"
   ]
  },
  {
   "cell_type": "code",
   "execution_count": null,
   "id": "c2e50d04",
   "metadata": {},
   "outputs": [],
   "source": [
    "ru_solve = solution[1][0]\n",
    "rd_solve = solution[1][1]\n",
    "\n",
    "ru_solve, rd_solve"
   ]
  },
  {
   "cell_type": "markdown",
   "id": "dc7d4fab",
   "metadata": {},
   "source": [
    "## 3"
   ]
  },
  {
   "cell_type": "code",
   "execution_count": null,
   "id": "f4ffd795",
   "metadata": {},
   "outputs": [],
   "source": [
    "maturity = 2\n",
    "coupon = 8\n",
    "freq = 1"
   ]
  },
  {
   "cell_type": "code",
   "execution_count": null,
   "id": "2fe69314",
   "metadata": {},
   "outputs": [],
   "source": [
    "call_strike = 100\n",
    "market_price = 101.9"
   ]
  },
  {
   "cell_type": "code",
   "execution_count": null,
   "id": "b7aefbd1",
   "metadata": {},
   "outputs": [],
   "source": []
  },
  {
   "cell_type": "markdown",
   "id": "cd0b214e",
   "metadata": {},
   "source": [
    "## 4"
   ]
  },
  {
   "cell_type": "code",
   "execution_count": null,
   "id": "e23a7743",
   "metadata": {},
   "outputs": [],
   "source": []
  },
  {
   "cell_type": "markdown",
   "id": "b2645885",
   "metadata": {},
   "source": [
    "## 5"
   ]
  },
  {
   "cell_type": "code",
   "execution_count": null,
   "id": "5cfa8818",
   "metadata": {},
   "outputs": [],
   "source": [
    "A_par = 300\n",
    "B_par = 200\n",
    "C_par = 200\n",
    "D_par = 250"
   ]
  },
  {
   "cell_type": "code",
   "execution_count": null,
   "id": "721bcf48",
   "metadata": {},
   "outputs": [],
   "source": [
    "A_coupon = 0.07\n",
    "B_coupon = 0.0675\n",
    "C_coupon = 0.0725\n",
    "D_coupon = 0.0775"
   ]
  },
  {
   "cell_type": "code",
   "execution_count": null,
   "id": "e2068daa",
   "metadata": {},
   "outputs": [],
   "source": [
    "r = 0.09"
   ]
  },
  {
   "cell_type": "code",
   "execution_count": null,
   "id": "7d92b80d",
   "metadata": {},
   "outputs": [],
   "source": [
    "pool = A_par * (r - A_coupon) + B_par * (r - B_coupon) + C_par * (r - C_coupon) + D_par * (r - D_coupon)\n",
    "pool"
   ]
  },
  {
   "cell_type": "code",
   "execution_count": null,
   "id": "c46f4fa8",
   "metadata": {},
   "outputs": [],
   "source": [
    "pool * 1000000 / r"
   ]
  },
  {
   "cell_type": "code",
   "execution_count": null,
   "id": "cc14bef3",
   "metadata": {},
   "outputs": [],
   "source": []
  }
 ],
 "metadata": {
  "kernelspec": {
   "display_name": ".venv",
   "language": "python",
   "name": "python3"
  }
 },
 "nbformat": 4,
 "nbformat_minor": 5
}
