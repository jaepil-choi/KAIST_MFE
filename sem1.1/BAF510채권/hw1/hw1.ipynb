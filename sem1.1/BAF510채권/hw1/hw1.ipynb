{
 "cells": [
  {
   "cell_type": "markdown",
   "id": "b7803910",
   "metadata": {},
   "source": [
    "# 채권분석 hw1\n",
    "\n"
   ]
  },
  {
   "cell_type": "code",
   "execution_count": null,
   "id": "1a1392fe",
   "metadata": {},
   "outputs": [],
   "source": [
    "import sympy as sp\n",
    "import numpy as np\n",
    "import math"
   ]
  },
  {
   "cell_type": "markdown",
   "id": "27e025db",
   "metadata": {},
   "source": [
    "## Q3"
   ]
  },
  {
   "cell_type": "code",
   "execution_count": null,
   "id": "94116d92",
   "metadata": {},
   "outputs": [],
   "source": [
    "FV = 100 # 액면가\n",
    "P = 92.5067 # 딜러 요구 가격\n",
    "\n",
    "C_r = 0.08 # 쿠폰 이자율\n",
    "\n",
    "frequency = 2 # 6개월마다 쿠폰 지급\n",
    "maturity = 3 # 잔존만기 3년"
   ]
  },
  {
   "cell_type": "code",
   "execution_count": null,
   "id": "47a12c8e",
   "metadata": {},
   "outputs": [],
   "source": [
    "r = sp.symbols('r', real=True) # 채권의 수익률"
   ]
  },
  {
   "cell_type": "markdown",
   "id": "39b2b457",
   "metadata": {},
   "source": [
    "$$\n",
    "P = \\sum_{i=1}^{2\\times3}\\frac{C_{\\frac{1}{2}}}{(1+\\frac{r}{2})^i} + \\frac{FV}{(1+\\frac{r}{2})^6}\n",
    "$$"
   ]
  },
  {
   "cell_type": "code",
   "execution_count": null,
   "id": "227f0729",
   "metadata": {},
   "outputs": [],
   "source": [
    "C_biannual = FV * C_r / frequency\n",
    "C_biannual"
   ]
  },
  {
   "cell_type": "code",
   "execution_count": null,
   "id": "2917c60c",
   "metadata": {},
   "outputs": [],
   "source": [
    "i = sp.symbols('i')\n",
    "coupon_sum = sp.Sum(C_biannual / (1 + r / frequency) ** i, (i, 1, frequency * maturity)).doit()\n",
    "coupon_sum"
   ]
  },
  {
   "cell_type": "code",
   "execution_count": null,
   "id": "3a02dd87",
   "metadata": {},
   "outputs": [],
   "source": [
    "equation = sp.Eq(P, coupon_sum + FV / (1 + r / frequency) ** (frequency * maturity))\n",
    "equation"
   ]
  },
  {
   "cell_type": "code",
   "execution_count": null,
   "id": "a49663f9",
   "metadata": {},
   "outputs": [],
   "source": [
    "solution = sp.solve(equation, r)\n",
    "solution"
   ]
  },
  {
   "cell_type": "code",
   "execution_count": null,
   "id": "ed3523d7",
   "metadata": {},
   "outputs": [],
   "source": [
    "ans = [s for s in solution if s.is_real and s >= 0][0]\n",
    "ans"
   ]
  },
  {
   "cell_type": "markdown",
   "id": "5e6e1668",
   "metadata": {},
   "source": [
    "## Q4"
   ]
  },
  {
   "cell_type": "code",
   "execution_count": null,
   "id": "18ae36be",
   "metadata": {},
   "outputs": [],
   "source": [
    "e = sp.E"
   ]
  },
  {
   "cell_type": "code",
   "execution_count": null,
   "id": "1d249dc4",
   "metadata": {},
   "outputs": [],
   "source": [
    "coupon_sum = sp.Sum(C_biannual / e**((i/frequency)*r), (i, 1, frequency * maturity)).doit()\n",
    "coupon_sum"
   ]
  },
  {
   "cell_type": "code",
   "execution_count": null,
   "id": "d1e34d97",
   "metadata": {},
   "outputs": [],
   "source": [
    "equation = sp.Eq(P, coupon_sum + FV / e**(r*(maturity*frequency/frequency)))\n",
    "equation"
   ]
  },
  {
   "cell_type": "code",
   "execution_count": null,
   "id": "e1d64f11",
   "metadata": {},
   "outputs": [],
   "source": [
    "# solution = sp.solve(equation, r)\n",
    "# solution"
   ]
  },
  {
   "cell_type": "code",
   "execution_count": null,
   "id": "ef984922",
   "metadata": {},
   "outputs": [],
   "source": [
    "solution = sp.nsolve(equation, r, 0.10) # numeric solution으로 빠르게 찾는 법. 대신 어느 정도 근사값이 필요\n",
    "solution"
   ]
  },
  {
   "cell_type": "markdown",
   "id": "ee9ba11b",
   "metadata": {},
   "source": [
    "또는 이렇게 풀면 된다. \n",
    "\n",
    "3번에서 구한 연 2회 이산 복리를 연속 복리로 \"변환\""
   ]
  },
  {
   "cell_type": "code",
   "execution_count": null,
   "id": "060cc3f8",
   "metadata": {},
   "outputs": [],
   "source": [
    "equation = sp.Eq(e**r, (1+ans/frequency)**frequency)\n",
    "equation"
   ]
  },
  {
   "cell_type": "code",
   "execution_count": null,
   "id": "e33b3d73",
   "metadata": {},
   "outputs": [],
   "source": [
    "sp.solve(equation, r)"
   ]
  },
  {
   "cell_type": "code",
   "execution_count": null,
   "id": "d92be9a7",
   "metadata": {},
   "outputs": [],
   "source": [
    "math.log((1+ans/frequency)**frequency)"
   ]
  },
  {
   "cell_type": "markdown",
   "id": "6e3cf744",
   "metadata": {},
   "source": [
    "나중에 쓰기 위한 함수화"
   ]
  },
  {
   "cell_type": "code",
   "execution_count": null,
   "id": "ae1ff563",
   "metadata": {},
   "outputs": [],
   "source": [
    "def get_coupon_sum(C_r, maturity, frequency, FV=100):\n",
    "    i = sp.symbols('i')\n",
    "    r = sp.symbols('r', real=True) # 채권의 수익률\n",
    "    e = sp.E\n",
    "\n",
    "    C_1period = FV * C_r / frequency\n",
    "    coupon_sum = sp.Sum(C_1period / e**((i/frequency)*r), (i, 1, frequency * maturity)).doit()\n",
    "\n",
    "    return coupon_sum\n",
    "\n"
   ]
  },
  {
   "cell_type": "code",
   "execution_count": null,
   "id": "cdb099a0",
   "metadata": {},
   "outputs": [],
   "source": [
    "def get_bond_equation(PV, C_r, maturity, frequency, FV=100):\n",
    "    i = sp.symbols('i')\n",
    "    r = sp.symbols('r', real=True) # 채권의 수익률\n",
    "    e = sp.E\n",
    "\n",
    "    coupon_sum = get_coupon_sum(C_r, maturity, frequency, FV)\n",
    "    bond_equation = sp.Eq(PV, coupon_sum + FV / e**(r*(maturity*frequency/frequency)))\n",
    "\n",
    "    return bond_equation\n",
    "\n"
   ]
  },
  {
   "cell_type": "code",
   "execution_count": null,
   "id": "b02c9737",
   "metadata": {},
   "outputs": [],
   "source": [
    "FV = 100 # 액면가\n",
    "PV = 92.5067 # 딜러 요구 가격\n",
    "\n",
    "C_r = 0.08 # 쿠폰 이자율\n",
    "\n",
    "frequency = 2 # 6개월마다 쿠폰 지급\n",
    "maturity = 3 # 잔존만기 3년"
   ]
  },
  {
   "cell_type": "code",
   "execution_count": null,
   "id": "ddb52b60",
   "metadata": {},
   "outputs": [],
   "source": [
    "equation = get_bond_equation(PV, C_r, maturity, frequency, FV)\n",
    "init_r = 0.10\n",
    "\n",
    "r = sp.symbols('r', real=True) # 채권의 수익률\n",
    "\n",
    "solution = sp.nsolve(equation, r, init_r)"
   ]
  }
 ],
 "metadata": {
  "kernelspec": {
   "display_name": "sandbox311",
   "language": "python",
   "name": "python3"
  }
 },
 "nbformat": 4,
 "nbformat_minor": 5
}
