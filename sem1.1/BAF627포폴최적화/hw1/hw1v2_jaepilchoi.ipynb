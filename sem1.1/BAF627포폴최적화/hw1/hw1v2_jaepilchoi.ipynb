{
 "cells": [
  {
   "cell_type": "markdown",
   "id": "40c3dbd4",
   "metadata": {},
   "source": [
    "# BAF627 HW1\n",
    "\n",
    "20249433 최재필"
   ]
  },
  {
   "cell_type": "code",
   "execution_count": null,
   "id": "9f703854",
   "metadata": {},
   "outputs": [],
   "source": [
    "import numpy as np\n",
    "import pandas as pd\n",
    "\n",
    "import matplotlib.pyplot as plt\n",
    "import seaborn as sns\n",
    "\n",
    "from pathlib import Path\n",
    "\n",
    "import scipy.optimize as sco\n",
    "\n",
    "from tqdm import tqdm"
   ]
  },
  {
   "cell_type": "code",
   "execution_count": null,
   "id": "464ac3ee",
   "metadata": {},
   "outputs": [],
   "source": [
    "np.random.seed(42)"
   ]
  },
  {
   "cell_type": "code",
   "execution_count": null,
   "id": "ac4877c2",
   "metadata": {},
   "outputs": [],
   "source": [
    "CWD = Path.cwd()\n",
    "OUTPUT_PATH = CWD / 'output'"
   ]
  },
  {
   "cell_type": "markdown",
   "id": "3d86ea7e",
   "metadata": {},
   "source": [
    "## 0. Import Data"
   ]
  },
  {
   "cell_type": "markdown",
   "id": "a3b445a9",
   "metadata": {},
   "source": [
    "### Load data & convert"
   ]
  },
  {
   "cell_type": "code",
   "execution_count": null,
   "id": "12f262b7",
   "metadata": {},
   "outputs": [],
   "source": [
    "msf = pd.read_csv('msf.csv')\n",
    "msp500_rf = pd.read_csv('msp500_risk_free.csv')"
   ]
  },
  {
   "cell_type": "code",
   "execution_count": null,
   "id": "b8094222",
   "metadata": {},
   "outputs": [],
   "source": [
    "# datetime index\n",
    "msf['mdate'] = pd.to_datetime(msf['mdate'])\n",
    "msp500_rf['mdate'] = pd.to_datetime(msp500_rf['mdate'])"
   ]
  },
  {
   "cell_type": "code",
   "execution_count": null,
   "id": "612a2071",
   "metadata": {},
   "outputs": [],
   "source": [
    "msf_ret_df = msf[['mdate', 'ticker', 'ret']].pivot(index='mdate', columns='ticker', values='ret')\n",
    "sp500_ret_s = msp500_rf[['mdate', 'spret']].set_index('mdate')\n",
    "rf_s = msp500_rf[['mdate', 'rf']].set_index('mdate')\n",
    "\n",
    "sp500_excess_s = sp500_ret_s['spret'] - rf_s['rf']\n",
    "msf_excess_df = msf_ret_df.subtract(rf_s['rf'], axis=0)"
   ]
  },
  {
   "cell_type": "markdown",
   "id": "e494410c",
   "metadata": {},
   "source": [
    "### Basic matrix/vectors"
   ]
  },
  {
   "cell_type": "code",
   "execution_count": null,
   "id": "e2dfce1b",
   "metadata": {},
   "outputs": [],
   "source": [
    "# Pandas\n",
    "cov_df = msf_ret_df.cov()\n",
    "excess_cov_df = msf_excess_df.cov()\n",
    "mean_ret_s = msf_ret_df.mean()\n",
    "mean_excess_s = msf_excess_df.mean()\n",
    "std_s = msf_ret_df.std()\n",
    "\n",
    "# Numpy\n",
    "cov_2d = cov_df.values\n",
    "excess_cov_2d = excess_cov_df.values\n",
    "mean_ret_v = mean_ret_s.values\n",
    "mean_excess_v = mean_excess_s.values\n",
    "std_v = std_s.values\n",
    "\n",
    "sp500_ret_v = sp500_ret_s.values\n",
    "sp500_excess_v = sp500_excess_s.values\n",
    "rf_v = rf_s.values"
   ]
  },
  {
   "cell_type": "code",
   "execution_count": null,
   "id": "59a52178",
   "metadata": {},
   "outputs": [],
   "source": [
    "sid_list = mean_ret_s.index\n",
    "date_list = msf_ret_df.index"
   ]
  },
  {
   "cell_type": "markdown",
   "id": "d31710a4",
   "metadata": {},
   "source": [
    "### Basic scalar"
   ]
  },
  {
   "cell_type": "code",
   "execution_count": null,
   "id": "f9f8149c",
   "metadata": {},
   "outputs": [],
   "source": [
    "mean_ret = mean_ret_v.mean()\n",
    "mean_excess = mean_excess_v.mean()\n",
    "\n",
    "sp500_ret = sp500_ret_v.mean()\n",
    "sp500_std = sp500_ret_v.std()\n",
    "sp500_excess = sp500_excess_v.mean()\n",
    "sp500_excess_std = sp500_excess_v.std()\n",
    "\n",
    "rf = rf_v.mean()"
   ]
  },
  {
   "cell_type": "markdown",
   "id": "39d28a1f",
   "metadata": {},
   "source": [
    "## 1. No risk-free & Short-selling allowed\n",
    "\n",
    "Case #2"
   ]
  },
  {
   "cell_type": "markdown",
   "id": "3e6ee7fa",
   "metadata": {},
   "source": [
    "### (a)\n",
    "\n",
    "- Derive the mean-variance frontier using the standard deviation for measuring risk\n",
    "- Plot the mean-variance frontier\n",
    "- Indicate the global minimum portfolio (GMVP) on the plot"
   ]
  },
  {
   "cell_type": "code",
   "execution_count": null,
   "id": "30f1e8ce",
   "metadata": {},
   "outputs": [],
   "source": [
    "def get_port_mean(W, mean_v, rf_v=None):\n",
    "    if rf_v:\n",
    "        return np.dot(W, mean_v - rf_v)\n",
    "    else:\n",
    "        return np.dot(W, mean_v)"
   ]
  },
  {
   "cell_type": "code",
   "execution_count": null,
   "id": "e6445bdb",
   "metadata": {},
   "outputs": [],
   "source": [
    "def get_port_var(W, cov_2d):\n",
    "    return np.dot(W.T, np.dot(cov_2d, W))"
   ]
  },
  {
   "cell_type": "code",
   "execution_count": null,
   "id": "8bd3406e",
   "metadata": {},
   "outputs": [],
   "source": [
    "def negative_port_sharpe(W, mean_v, cov_2d, rf_v=None):\n",
    "    port_mean = get_port_mean(W, mean_v, rf_v)\n",
    "    port_var = get_port_var(W, cov_2d)\n",
    "    port_std = np.sqrt(port_var)\n",
    "\n",
    "    if port_mean > 0:\n",
    "        return -port_mean / port_std\n",
    "    else:\n",
    "        return port_mean / port_std"
   ]
  },
  {
   "cell_type": "code",
   "execution_count": null,
   "id": "4b22054f",
   "metadata": {},
   "outputs": [],
   "source": [
    "def optimize_portfolio(mean_v, cov_2d):\n",
    "    n = len(mean_v)\n",
    "    args = (mean_v, cov_2d)\n",
    "    constraints = [\n",
    "        {'type': 'eq', 'fun': lambda W: np.sum(W) - 1},\n",
    "        ]\n",
    "    # bounds = tuple((-1, 1) for i in range(n))\n",
    "\n",
    "    result = sco.minimize(\n",
    "        negative_port_sharpe,\n",
    "        n * [1. / n,],\n",
    "        args=args,\n",
    "        method='SLSQP',\n",
    "        # bounds=bounds,\n",
    "        constraints=constraints,\n",
    "    )\n",
    "\n",
    "    return result"
   ]
  },
  {
   "cell_type": "code",
   "execution_count": null,
   "id": "9b9430ce",
   "metadata": {},
   "outputs": [],
   "source": [
    "def optimize_portfolio_given_return(target_return, mean_v, cov_2d, rf_v=None):\n",
    "    n = len(mean_v)\n",
    "    args = (mean_v, cov_2d, rf_v)\n",
    "    constraints = [\n",
    "        {'type': 'eq', 'fun': lambda W: np.sum(W) - 1},\n",
    "        {'type': 'eq', 'fun': lambda W: target_return - get_port_mean(W, mean_v, rf_v)},\n",
    "        ]\n",
    "    # bounds = tuple((-1, 1) for i in range(n))\n",
    "\n",
    "    result = sco.minimize(\n",
    "        negative_port_sharpe,\n",
    "        n * [1. / n,],\n",
    "        args=args,\n",
    "        method='SLSQP',\n",
    "        # bounds=bounds,\n",
    "        constraints=constraints,\n",
    "    )\n",
    "\n",
    "    return result"
   ]
  },
  {
   "cell_type": "code",
   "execution_count": null,
   "id": "7b8de024",
   "metadata": {},
   "outputs": [],
   "source": [
    "def get_efficient_frontier(mean_v, cov_2d, rf_v=None, return_minmax=[-0.1, 0.1], num_portfolios=100):\n",
    "    weights_record = []\n",
    "\n",
    "    min_return, max_return = return_minmax\n",
    "    ret_range = np.linspace(min_return, max_return, num_portfolios)\n",
    "    frontier_ports = np.zeros((3, len(ret_range))) # mean, std, sharpe\n",
    "\n",
    "    for i, target_return in enumerate(tqdm(ret_range)):\n",
    "        result = optimize_portfolio_given_return(target_return, mean_v, cov_2d, rf_v)\n",
    "        weights = result.x\n",
    "\n",
    "        port_mean = get_port_mean(weights, mean_v, rf_v)\n",
    "        port_std = np.sqrt(get_port_var(weights, cov_2d))\n",
    "\n",
    "        frontier_ports[0, i] = port_mean\n",
    "        frontier_ports[1, i] = port_std\n",
    "        frontier_ports[2, i] = port_mean / port_std\n",
    "\n",
    "        weights_record.append(weights)\n",
    "\n",
    "    return frontier_ports, weights_record"
   ]
  },
  {
   "cell_type": "code",
   "execution_count": null,
   "id": "f01a4d97",
   "metadata": {},
   "outputs": [],
   "source": [
    "Q1_frontier_ports, Q1_weights_record = get_efficient_frontier(mean_ret_v, cov_2d, num_portfolios=100)"
   ]
  },
  {
   "cell_type": "code",
   "execution_count": null,
   "id": "ce389d06",
   "metadata": {},
   "outputs": [],
   "source": [
    "# Global minimum variance portfolio\n",
    "min_vol_idx = np.argmin(Q1_frontier_ports[1])\n",
    "gmvp_ret, gmvp_std, gmvp_sharpe = Q1_frontier_ports[:, min_vol_idx]\n",
    "\n",
    "# Plot efficient frontier\n",
    "plt.figure(figsize=(10, 7))\n",
    "plt.scatter(Q1_frontier_ports[1, :], Q1_frontier_ports[0, :], c=Q1_frontier_ports[2, :], cmap='cool', marker='o')\n",
    "plt.colorbar(label='Sharpe Ratio')\n",
    "\n",
    "plt.scatter(gmvp_std, gmvp_ret, marker='*', color='g', s=100, label='GMVP')\n",
    "\n",
    "plt.title('Efficient frontier (No riskfree, Yes short sale)')\n",
    "plt.xlabel('Risk (Std. Deviation)')\n",
    "plt.ylabel('Return')\n",
    "plt.legend(labelspacing=0.8)\n",
    "\n",
    "plt.annotate(\n",
    "    f'Return: {gmvp_ret:.2%}\\nStd: {gmvp_std:.2%}\\nSharpe: {gmvp_sharpe:.2f}',\n",
    "    (gmvp_std, gmvp_ret),\n",
    "    textcoords='offset points',\n",
    "    xytext=(10, 10),\n",
    "    ha='center'\n",
    ")\n",
    "\n",
    "plt.show()"
   ]
  },
  {
   "cell_type": "markdown",
   "id": "03ee135f",
   "metadata": {},
   "source": [
    "### (b)\n",
    "\n",
    "- Derive optimal portfolio weights that matches S&P500 BM return\n",
    "- Report portfolio weights in an excel file\n",
    "- Report portfolio weights on a given set of stocks"
   ]
  },
  {
   "cell_type": "code",
   "execution_count": null,
   "id": "3b82fbbc",
   "metadata": {},
   "outputs": [],
   "source": [
    "sp500_ret"
   ]
  },
  {
   "cell_type": "code",
   "execution_count": null,
   "id": "08291a3b",
   "metadata": {},
   "outputs": [],
   "source": [
    "Q1_match_sp500_result = optimize_portfolio_given_return(sp500_ret, mean_ret_v, cov_2d)\n",
    "Q1_match_sp500_weights = Q1_match_sp500_result.x\n",
    "\n",
    "Q1_match_sp500_weights_df = pd.DataFrame(Q1_match_sp500_weights, index=sid_list, columns=['weight'])\n",
    "Q1_match_sp500_weights_df"
   ]
  },
  {
   "cell_type": "code",
   "execution_count": null,
   "id": "760a499d",
   "metadata": {},
   "outputs": [],
   "source": [
    "Q1_match_sp500_weights_df.to_csv(OUTPUT_PATH / 'hw1_1.b_match_sp500_weights.csv')"
   ]
  },
  {
   "cell_type": "code",
   "execution_count": null,
   "id": "dd7632d3",
   "metadata": {},
   "outputs": [],
   "source": [
    "WATCH_LIST = ['MMM', 'BAC', 'AMD', 'AAPL', 'MCD']\n",
    "\n",
    "Q1_match_sp500_weights_df.loc[WATCH_LIST]"
   ]
  },
  {
   "cell_type": "markdown",
   "id": "ab575d4e",
   "metadata": {},
   "source": [
    "### (c)\n",
    "\n",
    "- Compute the annualized excess returns, annualized volatility, and annualized Sharpe ratio of the optimal (matching) portfolio and S&P500 BM"
   ]
  },
  {
   "cell_type": "code",
   "execution_count": null,
   "id": "47b67930",
   "metadata": {},
   "outputs": [],
   "source": [
    "sp500_excess_annual = sp500_excess * 12\n",
    "sp500_excess_std_annual = sp500_excess_std * np.sqrt(12)\n",
    "sp500_sharpe = sp500_excess_annual / sp500_excess_std_annual\n",
    "\n",
    "sp500_excess_annual, sp500_excess_std_annual, sp500_sharpe"
   ]
  },
  {
   "cell_type": "code",
   "execution_count": null,
   "id": "3a014b21",
   "metadata": {},
   "outputs": [],
   "source": [
    "Q1_optimal_ret_s = msf_ret_df.multiply(Q1_match_sp500_weights, axis=1).sum(axis=1)\n",
    "Q1_optimal_excess_s = Q1_optimal_ret_s - rf_s['rf']\n",
    "\n",
    "Q1_optimal_excess = Q1_optimal_excess_s.mean()\n",
    "Q1_optimal_excess_std = Q1_optimal_excess_s.std()\n",
    "\n",
    "Q1_optimal_excess_annual = Q1_optimal_excess * 12\n",
    "Q1_optimal_excess_std_annual = Q1_optimal_excess_std * np.sqrt(12)\n",
    "Q1_optimal_sharpe = Q1_optimal_excess_annual / Q1_optimal_excess_std_annual\n",
    "\n",
    "Q1_optimal_excess_annual, Q1_optimal_excess_std_annual, Q1_optimal_sharpe"
   ]
  },
  {
   "cell_type": "markdown",
   "id": "a416e830",
   "metadata": {},
   "source": [
    "### (d)\n",
    "\n",
    "- Plot the cumulative return of optimal and S&P500\n",
    "- Discuss the difference in the performance of the two"
   ]
  },
  {
   "cell_type": "code",
   "execution_count": null,
   "id": "dedcbf9d",
   "metadata": {},
   "outputs": [],
   "source": [
    "def get_cumreturn(ret_s, cum_method='sum'):\n",
    "    if cum_method == 'sum':\n",
    "        return ret_s.cumsum()\n",
    "    elif cum_method == 'prod':\n",
    "        return (1 + ret_s).cumprod() - 1"
   ]
  },
  {
   "cell_type": "code",
   "execution_count": null,
   "id": "956983e1",
   "metadata": {},
   "outputs": [],
   "source": [
    "sp500_cumret_s = get_cumreturn(sp500_ret_s)\n",
    "Q1_optimal_cumret_s = get_cumreturn(Q1_optimal_ret_s)"
   ]
  },
  {
   "cell_type": "code",
   "execution_count": null,
   "id": "2d19f1a2",
   "metadata": {},
   "outputs": [],
   "source": [
    "# Plot S&P 500 cumulative return\n",
    "plt.plot(sp500_cumret_s, label='S&P 500 BM')\n",
    "\n",
    "# Plot optimal matching portfolio cumulative return\n",
    "plt.plot(Q1_optimal_cumret_s, label='case#2')\n",
    "\n",
    "# Add title and labels\n",
    "plt.title('Q1. (No risk-free, Yes short sale)')\n",
    "plt.xlabel('Date')\n",
    "plt.ylabel('Cumulative Return (sum)')\n",
    "\n",
    "# Add legend\n",
    "plt.legend()\n",
    "\n",
    "# Show plot\n",
    "plt.show()"
   ]
  },
  {
   "cell_type": "markdown",
   "id": "2eb1ddeb",
   "metadata": {},
   "source": [
    "## 2. Yes risk-free & Yes Short-selling\n",
    "\n",
    "Case #1"
   ]
  },
  {
   "cell_type": "markdown",
   "id": "cc9154b1",
   "metadata": {},
   "source": [
    "### (a)\n",
    "\n",
    "- Derive the MV frontier\n",
    "- Report the slope of the MV frontier\n",
    "- Plot the MV frontier together with the MV frontier in Q1"
   ]
  },
  {
   "cell_type": "code",
   "execution_count": null,
   "id": "3cb55c0b",
   "metadata": {},
   "outputs": [],
   "source": [
    "Q2_tangent_point = (None, None) # std, ret\n",
    "tangent_point_index = None\n",
    "Q2_tangent_weight = None\n",
    "\n",
    "current_maximum_sharpe = -np.inf\n",
    "for i in range(Q1_frontier_ports.shape[1]): # From lowest to the highest return\n",
    "    ret = Q1_frontier_ports[0, i]\n",
    "    std = Q1_frontier_ports[1, i]\n",
    "    \n",
    "    current_sharpe = (ret - rf) / std\n",
    "    if current_sharpe > current_maximum_sharpe:\n",
    "        current_maximum_sharpe = current_sharpe\n",
    "        Q2_tangent_point = (std, ret)\n",
    "        Q2_tangent_weight = Q1_weights_record[i]\n",
    "    \n",
    "    if current_sharpe < current_maximum_sharpe:\n",
    "        break"
   ]
  },
  {
   "cell_type": "code",
   "execution_count": null,
   "id": "4f12c48e",
   "metadata": {},
   "outputs": [],
   "source": [
    "Q2_tangent_sharpe = current_maximum_sharpe\n",
    "Q2_tangent_sharpe # Slope"
   ]
  },
  {
   "cell_type": "code",
   "execution_count": null,
   "id": "6e2ba938",
   "metadata": {
    "lines_to_next_cell": 2
   },
   "outputs": [],
   "source": [
    "# Plot efficient frontier\n",
    "plt.figure(figsize=(10, 7))\n",
    "plt.scatter(Q1_frontier_ports[1, :], Q1_frontier_ports[0, :], c='#D3D3D3', marker='o')\n",
    "# plt.colorbar(label='Sharpe Ratio')\n",
    "\n",
    "# Plot risk-free point\n",
    "plt.scatter(0, rf, marker='o', color='r', s=200, label='risk-free')\n",
    "\n",
    "# Plot tangent point\n",
    "plt.scatter(*Q2_tangent_point, marker='*', color='g', s=100, label='Tangent')\n",
    "\n",
    "# Draw the Capital Market Line (CML)\n",
    "plt.axline(\n",
    "    (0, rf), \n",
    "    slope=(Q2_tangent_point[1] - rf) / Q2_tangent_point[0], \n",
    "    color='black', \n",
    "    linestyle='--', \n",
    "    linewidth=1.5,\n",
    ")\n",
    "\n",
    "# Add title and labels\n",
    "plt.title('Efficient frontier (Yes risk-free, Yes short sale)')\n",
    "plt.xlabel('Risk (Std. Deviation)')\n",
    "plt.ylabel('Return')\n",
    "plt.legend(labelspacing=0.8)\n",
    "plt.xlim(left=0)\n",
    "\n",
    "# Annotate risk-free point\n",
    "plt.annotate(\n",
    "    f'Return: {rf:.2%}',\n",
    "    (0, rf),\n",
    "    textcoords='offset points',\n",
    "    xytext=(10, -20),  # Adjust position to avoid overlap\n",
    "    ha='center'\n",
    ")\n",
    "\n",
    "# Annotate tangent point\n",
    "plt.annotate(\n",
    "    f'Return: {Q2_tangent_point[1]:.2%}\\nStd: {Q2_tangent_point[0]:.2%}',\n",
    "    Q2_tangent_point,\n",
    "    textcoords='offset points',\n",
    "    xytext=(10, 10),  # Adjust position to avoid overlap\n",
    "    ha='center'\n",
    ")\n",
    "\n",
    "# Show plot\n",
    "plt.show()"
   ]
  },
  {
   "cell_type": "markdown",
   "id": "156f1acf",
   "metadata": {},
   "source": [
    "### (b)\n",
    "\n",
    "- Derive optimal portfolio weights that matches S&P500 BM return\n",
    "- Report portfolio weights in an excel file\n",
    "- Report portfolio weights on a given set of stocks\n",
    "- Report the weight of a risk-free asset"
   ]
  },
  {
   "cell_type": "code",
   "execution_count": null,
   "id": "810b33e8",
   "metadata": {},
   "outputs": [],
   "source": [
    "Q2_tangent_std, Q2_tangent_ret = Q2_tangent_point # 순서 조심. \n",
    "Q2_tangent_std, Q2_tangent_ret"
   ]
  },
  {
   "cell_type": "code",
   "execution_count": null,
   "id": "5d9e1047",
   "metadata": {},
   "outputs": [],
   "source": [
    "sp500_sharpe"
   ]
  },
  {
   "cell_type": "code",
   "execution_count": null,
   "id": "6f5ab4c0",
   "metadata": {},
   "outputs": [],
   "source": [
    "Q2_match_sp500_std = (sp500_ret - rf) / Q2_tangent_sharpe\n",
    "Q2_match_sp500_std"
   ]
  },
  {
   "cell_type": "code",
   "execution_count": null,
   "id": "a4477551",
   "metadata": {},
   "outputs": [],
   "source": [
    "Q2_risky_weight = (sp500_ret - rf) / (Q2_tangent_ret - rf)\n",
    "Q2_riskfree_weight = 1 - Q2_risky_weight\n",
    "\n",
    "Q2_risky_weight, Q2_riskfree_weight"
   ]
  },
  {
   "cell_type": "code",
   "execution_count": null,
   "id": "b5e4e637",
   "metadata": {},
   "outputs": [],
   "source": [
    "Q2_port_weights = Q2_risky_weight * Q2_tangent_weight\n",
    "\n",
    "Q2_port_weights_df = pd.DataFrame(Q2_port_weights, index=sid_list, columns=['weight'])\n",
    "Q2_port_weights_df"
   ]
  },
  {
   "cell_type": "code",
   "execution_count": null,
   "id": "78c7a392",
   "metadata": {},
   "outputs": [],
   "source": [
    "Q2_port_weights_df.to_csv(OUTPUT_PATH / 'hw1_2.b_port_weights.csv')"
   ]
  },
  {
   "cell_type": "code",
   "execution_count": null,
   "id": "8a91310e",
   "metadata": {},
   "outputs": [],
   "source": [
    "Q2_port_weights_df.loc[WATCH_LIST]"
   ]
  },
  {
   "cell_type": "markdown",
   "id": "5a85c224",
   "metadata": {},
   "source": [
    "### (c)\n",
    "\n",
    "- Compute the annualized excess returns, annualized volatility, and annualized Sharpe ratio of the optimal (matching) portfolio and S&P500 BM\n",
    "- Compare the result from Q1"
   ]
  },
  {
   "cell_type": "code",
   "execution_count": null,
   "id": "a352b4ff",
   "metadata": {},
   "outputs": [],
   "source": [
    "Q2_optimal_ret_s = msf_ret_df.multiply(Q2_port_weights, axis=1).sum(axis=1)\n",
    "Q2_optimal_ret = Q2_optimal_ret_s.mean()\n",
    "\n",
    "Q2_riskfree_s = rf_s['rf'] * Q2_riskfree_weight\n",
    "\n",
    "Q2_total_ret_s = Q2_optimal_ret_s + Q2_riskfree_s\n",
    "Q2_total_excess_s = Q2_total_ret_s - rf_s['rf']\n",
    "\n",
    "Q2_total_excess_std = Q2_total_excess_s.std()\n",
    "Q2_total_excess_mean = Q2_total_excess_s.mean()"
   ]
  },
  {
   "cell_type": "code",
   "execution_count": null,
   "id": "3161229d",
   "metadata": {},
   "outputs": [],
   "source": [
    "Q2_total_excess_mean_annual = Q2_total_excess_mean * 12\n",
    "Q2_total_excess_std_annual = Q2_total_excess_std * np.sqrt(12)\n",
    "Q2_total_sharpe = Q2_total_excess_mean_annual / Q2_total_excess_std_annual\n",
    "\n",
    "Q2_total_excess_mean_annual, Q2_total_excess_std_annual, Q2_total_sharpe"
   ]
  },
  {
   "cell_type": "code",
   "execution_count": null,
   "id": "c52fe7a0",
   "metadata": {},
   "outputs": [],
   "source": [
    "# Results from Q1\n",
    "Q1_optimal_excess_annual, Q1_optimal_excess_std_annual, Q1_optimal_sharpe"
   ]
  },
  {
   "cell_type": "code",
   "execution_count": null,
   "id": "a3aa5f6a",
   "metadata": {},
   "outputs": [],
   "source": [
    "# S&P 500 Benchmark\n",
    "sp500_excess_annual, sp500_excess_std_annual, sp500_sharpe"
   ]
  },
  {
   "cell_type": "markdown",
   "id": "896a96fb",
   "metadata": {},
   "source": [
    "### (d)\n",
    "\n",
    "- Plot the cumulative return of optimal and S&P500 (with previous results)\n",
    "- Discuss the difference in the performance of the three portfolios"
   ]
  },
  {
   "cell_type": "code",
   "execution_count": null,
   "id": "02d398e7",
   "metadata": {},
   "outputs": [],
   "source": [
    "sp500_cumret_s = get_cumreturn(sp500_ret_s)\n",
    "Q2_optimal_cumret_s = get_cumreturn(Q2_total_ret_s)"
   ]
  },
  {
   "cell_type": "code",
   "execution_count": null,
   "id": "ac25f435",
   "metadata": {},
   "outputs": [],
   "source": [
    "# Plot S&P 500 cumulative return\n",
    "plt.plot(sp500_cumret_s, label='S&P 500 BM')\n",
    "\n",
    "# Plot optimal matching portfolio cumulative return\n",
    "plt.plot(Q1_optimal_cumret_s, label='case#2')\n",
    "plt.plot(Q2_optimal_cumret_s, label='case#1')\n",
    "\n",
    "# Add title and labels\n",
    "plt.title('Q2. (Yes risk-free, No short sale)')\n",
    "plt.xlabel('Date')\n",
    "plt.ylabel('Cumulative Return (sum)')\n",
    "\n",
    "# Add legend\n",
    "plt.legend()\n",
    "\n",
    "# Show plot\n",
    "plt.show()"
   ]
  },
  {
   "cell_type": "markdown",
   "id": "ab75c81f",
   "metadata": {},
   "source": [
    "## 3. Yes risk-free & Short-selling not allowed\n",
    "\n",
    "Case #3"
   ]
  },
  {
   "cell_type": "markdown",
   "id": "7addebaa",
   "metadata": {},
   "source": [
    "### (a)\n",
    "\n",
    "- Derive the MV frontier\n",
    "- Report the slope of the MV frontier\n",
    "- Plot the MV frontier together with the MV frontier in Q1, Q2\n",
    "- Report which one has a higher slope, and what its meaning is"
   ]
  },
  {
   "cell_type": "code",
   "execution_count": null,
   "id": "0445db3e",
   "metadata": {},
   "outputs": [],
   "source": [
    "def optimize_portfolio_given_return_noshort(target_return, mean_v, cov_2d, rf_v=None):\n",
    "    n = len(mean_v)\n",
    "    args = (mean_v, cov_2d, rf_v)\n",
    "    constraints = [\n",
    "        {'type': 'eq', 'fun': lambda W: np.sum(W) - 1},\n",
    "        {'type': 'eq', 'fun': lambda W: target_return - get_port_mean(W, mean_v, rf_v)},\n",
    "        ]\n",
    "    bounds = tuple((0, 1) for i in range(n))\n",
    "\n",
    "    result = sco.minimize(\n",
    "        negative_port_sharpe,\n",
    "        n * [1. / n,],\n",
    "        args=args,\n",
    "        method='SLSQP',\n",
    "        bounds=bounds,\n",
    "        constraints=constraints,\n",
    "    )\n",
    "\n",
    "    return result"
   ]
  },
  {
   "cell_type": "code",
   "execution_count": null,
   "id": "481aca30",
   "metadata": {},
   "outputs": [],
   "source": [
    "def get_efficient_frontier_noshort(mean_v, cov_2d, rf_v=None, return_minmax=[-0.1, 0.1], num_portfolios=100):\n",
    "    weights_record = []\n",
    "\n",
    "    min_return, max_return = return_minmax\n",
    "    ret_range = np.linspace(min_return, max_return, num_portfolios)\n",
    "    frontier_ports = np.zeros((3, len(ret_range))) # mean, std, sharpe\n",
    "\n",
    "    for i, target_return in enumerate(tqdm(ret_range)):\n",
    "        result = optimize_portfolio_given_return_noshort(target_return, mean_v, cov_2d, rf_v)\n",
    "        weights = result.x\n",
    "\n",
    "        port_mean = get_port_mean(weights, mean_v, rf_v)\n",
    "        port_std = np.sqrt(get_port_var(weights, cov_2d))\n",
    "\n",
    "        frontier_ports[0, i] = port_mean\n",
    "        frontier_ports[1, i] = port_std\n",
    "        frontier_ports[2, i] = port_mean / port_std\n",
    "\n",
    "        weights_record.append(weights)\n",
    "\n",
    "    return frontier_ports, weights_record"
   ]
  },
  {
   "cell_type": "code",
   "execution_count": null,
   "id": "d3923154",
   "metadata": {},
   "outputs": [],
   "source": [
    "Q3_frontier_ports, Q3_weights_record = get_efficient_frontier_noshort(mean_ret_v, cov_2d, num_portfolios=100)"
   ]
  },
  {
   "cell_type": "code",
   "execution_count": null,
   "id": "452e4839",
   "metadata": {
    "lines_to_next_cell": 2
   },
   "outputs": [],
   "source": [
    "Q3_tangent_point = (None, None) # std, ret\n",
    "tangent_point_index = None\n",
    "Q3_tangent_weight = None\n",
    "\n",
    "current_maximum_sharpe = -np.inf\n",
    "for i in range(Q3_frontier_ports.shape[1]): # From lowest to the highest return\n",
    "    ret = Q3_frontier_ports[0, i]\n",
    "    std = Q3_frontier_ports[1, i]\n",
    "    \n",
    "    current_sharpe = (ret - rf) / std\n",
    "\n",
    "    if ret - rf < 0:\n",
    "        continue\n",
    "\n",
    "    if current_sharpe > current_maximum_sharpe:\n",
    "        current_maximum_sharpe = current_sharpe\n",
    "        Q3_tangent_point = (std, ret)\n",
    "        Q3_tangent_weight = Q3_weights_record[i]"
   ]
  },
  {
   "cell_type": "code",
   "execution_count": null,
   "id": "c7eab198",
   "metadata": {},
   "outputs": [],
   "source": [
    "Q3_tangent_sharpe = current_maximum_sharpe\n",
    "Q3_tangent_sharpe # Slope"
   ]
  },
  {
   "cell_type": "code",
   "execution_count": null,
   "id": "2a402a30",
   "metadata": {
    "lines_to_next_cell": 2
   },
   "outputs": [],
   "source": [
    "# Plot efficient frontier # Q3\n",
    "plt.figure(figsize=(10, 7))\n",
    "plt.scatter(Q3_frontier_ports[1, :], Q3_frontier_ports[0, :], c='#D3D3D3', marker='o')\n",
    "\n",
    "# Draw line connecting risk-free point to tangent point\n",
    "plt.plot(\n",
    "    [0, Q3_tangent_point[0]], \n",
    "    [rf, Q3_tangent_point[1]], \n",
    "    color='red', \n",
    "    linestyle='--', \n",
    "    linewidth=1.5,\n",
    ")\n",
    "\n",
    "# Plot efficient frontier # Q1\n",
    "plt.scatter(Q1_frontier_ports[1, :], Q1_frontier_ports[0, :], color='#D3D3D3', marker='o')\n",
    "\n",
    "# Draw the Capital Market Line (CML) # Q2\n",
    "plt.plot(\n",
    "    [0, Q2_tangent_point[0]], \n",
    "    [rf, Q2_tangent_point[1]], \n",
    "    color='gray', \n",
    "    linestyle='--', \n",
    "    linewidth=1.5,\n",
    ")\n",
    "\n",
    "# Plot tangent point\n",
    "plt.scatter(*Q3_tangent_point, marker='*', color='g', s=100, label='Tangent')\n",
    "\n",
    "# Plot risk-free point\n",
    "plt.scatter(0, rf, marker='o', color='r', s=200, label='risk-free')\n",
    "\n",
    "# Annotate risk-free point\n",
    "plt.annotate(\n",
    "    f'Return: {rf:.2%}',\n",
    "    (0, rf),\n",
    "    textcoords='offset points',\n",
    "    xytext=(10, -20),  # Adjust position to avoid overlap\n",
    "    ha='center'\n",
    ")\n",
    "\n",
    "# Annotate tangent point\n",
    "plt.annotate(\n",
    "    f'Return: {Q3_tangent_point[1]:.2%}\\nStd: {Q3_tangent_point[0]:.2%}',\n",
    "    Q3_tangent_point,\n",
    "    textcoords='offset points',\n",
    "    xytext=(10, 10),  # Adjust position to avoid overlap\n",
    "    ha='center'\n",
    ")\n",
    "\n",
    "# Add title and labels\n",
    "plt.title('Efficient frontier (Yes risk-free, No short sale)')\n",
    "plt.xlabel('Risk (Std. Deviation)')\n",
    "plt.ylabel('Return')\n",
    "plt.legend(labelspacing=0.8)\n",
    "plt.xlim(left=0)\n",
    "\n",
    "# Show plot\n",
    "plt.show()"
   ]
  },
  {
   "cell_type": "markdown",
   "id": "09f7e5b2",
   "metadata": {},
   "source": [
    "As seen above, slope is much inferior in Q3 (red linear line, green star is the tangent point) compared to Q1 (gray parabolic curve) and Q2 (gray linear line)\n",
    "\n",
    "This implys that yes-risk-free asset & no-short-sale constraint is making the efficient frontier worse, lowering the maximum utility for any investor. "
   ]
  },
  {
   "cell_type": "markdown",
   "id": "54a9293f",
   "metadata": {},
   "source": [
    "### (b)\n",
    "\n",
    "- Derive optimal portfolio weights that matches S&P500 BM return\n",
    "- Report portfolio weights in an excel file\n",
    "- Report portfolio weights on a given set of stocks\n",
    "- Report the weight of a risk-free asset"
   ]
  },
  {
   "cell_type": "code",
   "execution_count": null,
   "id": "85b0f118",
   "metadata": {},
   "outputs": [],
   "source": [
    "Q3_tangent_std, Q3_tangent_ret = Q3_tangent_point # 순서 조심. \n",
    "Q3_tangent_std, Q3_tangent_ret"
   ]
  },
  {
   "cell_type": "code",
   "execution_count": null,
   "id": "374c18df",
   "metadata": {},
   "outputs": [],
   "source": [
    "sp500_sharpe"
   ]
  },
  {
   "cell_type": "code",
   "execution_count": null,
   "id": "a57ef765",
   "metadata": {},
   "outputs": [],
   "source": [
    "Q3_match_sp500_std = (sp500_ret - rf) / Q3_tangent_sharpe\n",
    "Q3_match_sp500_std"
   ]
  },
  {
   "cell_type": "code",
   "execution_count": null,
   "id": "330bb66d",
   "metadata": {},
   "outputs": [],
   "source": [
    "Q3_risky_weight = (sp500_ret - rf) / (Q3_tangent_ret - rf)\n",
    "Q3_riskfree_weight = 1 - Q3_risky_weight\n",
    "\n",
    "Q3_risky_weight, Q3_riskfree_weight"
   ]
  },
  {
   "cell_type": "code",
   "execution_count": null,
   "id": "85253c03",
   "metadata": {},
   "outputs": [],
   "source": [
    "Q3_port_weights = Q3_risky_weight * Q3_tangent_weight\n",
    "\n",
    "Q3_port_weights_df = pd.DataFrame(Q3_port_weights, index=sid_list, columns=['weight'])\n",
    "Q3_port_weights_df"
   ]
  },
  {
   "cell_type": "code",
   "execution_count": null,
   "id": "9af0d2e3",
   "metadata": {},
   "outputs": [],
   "source": [
    "Q3_port_weights_df.to_csv(OUTPUT_PATH / 'hw1_3.b_port_weights.csv')"
   ]
  },
  {
   "cell_type": "code",
   "execution_count": null,
   "id": "ffe44b35",
   "metadata": {},
   "outputs": [],
   "source": [
    "Q3_port_weights_df.loc[WATCH_LIST]"
   ]
  },
  {
   "cell_type": "markdown",
   "id": "46d9a38a",
   "metadata": {},
   "source": [
    "### (c)\n",
    "\n",
    "- Compute the annualized excess returns, annualized volatility, and annualized Sharpe ratio of the optimal (matching) portfolio and S&P500 BM\n",
    "- Compare the result from Q1, Q2"
   ]
  },
  {
   "cell_type": "code",
   "execution_count": null,
   "id": "9c677252",
   "metadata": {},
   "outputs": [],
   "source": [
    "Q3_optimal_ret_s = msf_ret_df.multiply(Q3_port_weights, axis=1).sum(axis=1)\n",
    "Q3_optimal_ret = Q3_optimal_ret_s.mean()\n",
    "\n",
    "Q3_riskfree_s = rf_s['rf'] * Q3_riskfree_weight\n",
    "\n",
    "Q3_total_ret_s = Q3_optimal_ret_s + Q3_riskfree_s\n",
    "Q3_total_excess_s = Q3_total_ret_s - rf_s['rf']\n",
    "\n",
    "Q3_total_excess_std = Q3_total_excess_s.std()\n",
    "Q3_total_excess_mean = Q3_total_excess_s.mean()"
   ]
  },
  {
   "cell_type": "code",
   "execution_count": null,
   "id": "b2ede7e9",
   "metadata": {},
   "outputs": [],
   "source": [
    "Q3_total_excess_mean_annual = Q3_total_excess_mean * 12\n",
    "Q3_total_excess_std_annual = Q3_total_excess_std * np.sqrt(12)\n",
    "Q3_total_sharpe = Q3_total_excess_mean_annual / Q3_total_excess_std_annual\n",
    "\n",
    "Q3_total_excess_mean_annual, Q3_total_excess_std_annual, Q3_total_sharpe"
   ]
  },
  {
   "cell_type": "code",
   "execution_count": null,
   "id": "e7fa06c7",
   "metadata": {},
   "outputs": [],
   "source": [
    "Q2_total_excess_mean_annual, Q2_total_excess_std_annual, Q2_total_sharpe"
   ]
  },
  {
   "cell_type": "code",
   "execution_count": null,
   "id": "4f1f26b7",
   "metadata": {},
   "outputs": [],
   "source": [
    "# Results from Q1\n",
    "Q1_optimal_excess_annual, Q1_optimal_excess_std_annual, Q1_optimal_sharpe"
   ]
  },
  {
   "cell_type": "code",
   "execution_count": null,
   "id": "1bc7960a",
   "metadata": {},
   "outputs": [],
   "source": [
    "# S&P 500 Benchmark\n",
    "sp500_excess_annual, sp500_excess_std_annual, sp500_sharpe"
   ]
  },
  {
   "cell_type": "markdown",
   "id": "a5f8fce9",
   "metadata": {},
   "source": [
    "### (d)\n",
    "\n",
    "- Plot the cumulative return of optimal and S&P500 (with previous results)\n",
    "- Discuss the difference in the performance of the four portfolios"
   ]
  },
  {
   "cell_type": "code",
   "execution_count": null,
   "id": "daffcf50",
   "metadata": {},
   "outputs": [],
   "source": [
    "Q3_optimal_cumret_s = get_cumreturn(Q3_total_ret_s)"
   ]
  },
  {
   "cell_type": "code",
   "execution_count": null,
   "id": "0fd29e2a",
   "metadata": {},
   "outputs": [],
   "source": [
    "# Plot S&P 500 cumulative return\n",
    "plt.plot(sp500_cumret_s, label='S&P 500 BM')\n",
    "\n",
    "# Plot optimal matching portfolio cumulative return\n",
    "plt.plot(Q1_optimal_cumret_s, label='case#2')\n",
    "plt.plot(Q2_optimal_cumret_s, label='case#1')\n",
    "plt.plot(Q3_optimal_cumret_s, label='case#3')\n",
    "\n",
    "# Add title and labels\n",
    "plt.title('Q3. (Yes risk-free, No short sale)')\n",
    "plt.xlabel('Date')\n",
    "plt.ylabel('Cumulative Return (sum)')\n",
    "\n",
    "# Add legend\n",
    "plt.legend()\n",
    "\n",
    "# Show plot\n",
    "plt.show()"
   ]
  },
  {
   "cell_type": "markdown",
   "id": "c879df7c",
   "metadata": {},
   "source": [
    "## 4. No risk-free & Short-selling not allowed\n",
    "\n",
    "Case #4"
   ]
  },
  {
   "cell_type": "markdown",
   "id": "69a769a2",
   "metadata": {},
   "source": [
    "### (a)\n",
    "\n",
    "- Derive the MV frontier\n",
    "- Report the slop of the MV frontier\n",
    "- Plot the MV frontier together with the MV frontier in Q1, Q2, Q3\n",
    "- Explain the differences in the plotted frontiers (Check the efficient frontier's shift)"
   ]
  },
  {
   "cell_type": "code",
   "execution_count": null,
   "id": "f755ef99",
   "metadata": {
    "lines_to_next_cell": 2
   },
   "outputs": [],
   "source": [
    "Q4_tangent_point = (None, None) # std, ret\n",
    "tangent_point_index = None\n",
    "Q4_tangent_weight = None\n",
    "\n",
    "current_maximum_sharpe = -np.inf\n",
    "for i in range(Q3_frontier_ports.shape[1]): # From lowest to the highest return\n",
    "    ret = Q3_frontier_ports[0, i]\n",
    "    std = Q3_frontier_ports[1, i]\n",
    "    \n",
    "    current_sharpe = (ret - rf) / std\n",
    "\n",
    "    if ret - rf < 0:\n",
    "        continue\n",
    "\n",
    "    if current_sharpe > current_maximum_sharpe:\n",
    "        current_maximum_sharpe = current_sharpe\n",
    "        Q4_tangent_point = (std, ret)\n",
    "        Q4_tangent_weight = Q3_weights_record[i]"
   ]
  },
  {
   "cell_type": "code",
   "execution_count": null,
   "id": "a714fc83",
   "metadata": {},
   "outputs": [],
   "source": [
    "Q4_tangent_sharpe = current_maximum_sharpe\n",
    "Q4_tangent_sharpe # Slope"
   ]
  },
  {
   "cell_type": "code",
   "execution_count": null,
   "id": "c7a25ec1",
   "metadata": {
    "lines_to_next_cell": 2
   },
   "outputs": [],
   "source": [
    "# Plot efficient frontier # Q3\n",
    "plt.figure(figsize=(10, 7))\n",
    "plt.scatter(Q3_frontier_ports[1, :], Q3_frontier_ports[0, :], c=Q3_frontier_ports[2, :], cmap='cool', marker='o')\n",
    "plt.colorbar(label='Sharpe Ratio')\n",
    "\n",
    "plt.plot(\n",
    "    [0, Q3_tangent_point[0]], \n",
    "    [rf, Q3_tangent_point[1]], \n",
    "    color='gray', \n",
    "    linestyle='--', \n",
    "    linewidth=1.5,\n",
    ")\n",
    "\n",
    "# Plot efficient frontier # Q1\n",
    "plt.scatter(Q1_frontier_ports[1, :], Q1_frontier_ports[0, :], color='#D3D3D3', marker='o')\n",
    "\n",
    "# Draw the Capital Market Line (CML) # Q2\n",
    "plt.axline(\n",
    "    (0, rf), \n",
    "    slope=(Q2_tangent_point[1] - rf) / Q2_tangent_point[0], \n",
    "    color='gray', \n",
    "    linestyle='--', \n",
    "    linewidth=1.5,\n",
    ")\n",
    "\n",
    "\n",
    "# Plot tangent point\n",
    "plt.scatter(*Q4_tangent_point, marker='*', color='g', s=100, label='Tangent')\n",
    "\n",
    "# Plot risk-free point\n",
    "plt.scatter(0, rf, marker='o', color='r', s=200, label='risk-free')\n",
    "\n",
    "# Annotate risk-free point\n",
    "plt.annotate(\n",
    "    f'Return: {rf:.2%}',\n",
    "    (0, rf),\n",
    "    textcoords='offset points',\n",
    "    xytext=(10, -20),  # Adjust position to avoid overlap\n",
    "    ha='center'\n",
    ")\n",
    "\n",
    "# Annotate tangent point\n",
    "plt.annotate(\n",
    "    f'Return: {Q4_tangent_point[1]:.2%}\\nStd: {Q4_tangent_point[0]:.2%}',\n",
    "    Q4_tangent_point,\n",
    "    textcoords='offset points',\n",
    "    xytext=(10, 10),  # Adjust position to avoid overlap\n",
    "    ha='center'\n",
    ")\n",
    "\n",
    "# Add title and labels\n",
    "plt.title('Efficient frontier (Yes risk-free, No short sale)')\n",
    "plt.xlabel('Risk (Std. Deviation)')\n",
    "plt.ylabel('Return')\n",
    "plt.legend(labelspacing=0.8)\n",
    "plt.xlim(left=0)\n",
    "\n",
    "# Show plot\n",
    "plt.show()"
   ]
  },
  {
   "cell_type": "markdown",
   "id": "bda3dc93",
   "metadata": {},
   "source": [
    "As seen above, slope is much inferior in Q4 (colorful parabolic curve) compared to Q1 (gray parabolic curve), Q2 (gray linear line) and Q3 (gray linear line that's flatter)\n",
    "\n",
    "This implys that no-risk-free asset & no-short-sale constraint is making the efficient frontier worse, lowering the maximum utility for any investor. "
   ]
  },
  {
   "cell_type": "markdown",
   "id": "3d85236a",
   "metadata": {},
   "source": [
    "### (b)\n",
    "\n",
    "- Derive optimal portfolio weights that matches S&P500 BM return\n",
    "- Report portfolio weights in an excel file\n",
    "- Report portfolio weights on a given set of stocks"
   ]
  },
  {
   "cell_type": "code",
   "execution_count": null,
   "id": "8b7ebd41",
   "metadata": {},
   "outputs": [],
   "source": [
    "Q4_match_sp500_result = optimize_portfolio_given_return_noshort(sp500_ret, mean_ret_v, cov_2d)\n",
    "Q4_match_sp500_weights = Q4_match_sp500_result.x\n",
    "\n",
    "Q4_match_sp500_weights_df = pd.DataFrame(Q4_match_sp500_weights, index=sid_list, columns=['weight'])\n",
    "Q4_match_sp500_weights_df"
   ]
  },
  {
   "cell_type": "code",
   "execution_count": null,
   "id": "a03fda60",
   "metadata": {},
   "outputs": [],
   "source": [
    "Q4_match_sp500_weights_df.to_csv(OUTPUT_PATH / 'hw1_4.b_match_sp500_weights.csv')"
   ]
  },
  {
   "cell_type": "code",
   "execution_count": null,
   "id": "f5569fff",
   "metadata": {},
   "outputs": [],
   "source": [
    "WATCH_LIST = ['MMM', 'BAC', 'AMD', 'AAPL', 'MCD']\n",
    "\n",
    "Q4_match_sp500_weights_df.loc[WATCH_LIST]"
   ]
  },
  {
   "cell_type": "markdown",
   "id": "8b05f096",
   "metadata": {},
   "source": [
    "### (c)\n",
    "\n",
    "- Compute the annualized excess returns, annualized volatility, and annualized Sharpe ratio of the optimal (matching) portfolio and S&P500 BM\n",
    "- Compare the result from Q1, Q2, Q3"
   ]
  },
  {
   "cell_type": "code",
   "execution_count": null,
   "id": "f82363e1",
   "metadata": {},
   "outputs": [],
   "source": [
    "Q4_optimal_ret_s = msf_ret_df.multiply(Q4_match_sp500_weights, axis=1).sum(axis=1)\n",
    "Q4_optimal_excess_s = Q4_optimal_ret_s - rf_s['rf']\n",
    "\n",
    "Q4_optimal_excess = Q4_optimal_excess_s.mean()\n",
    "Q4_optimal_excess_std = Q4_optimal_excess_s.std()\n",
    "\n",
    "Q4_optimal_excess_annual = Q4_optimal_excess * 12\n",
    "Q4_optimal_excess_std_annual = Q4_optimal_excess_std * np.sqrt(12)\n",
    "Q4_optimal_sharpe = Q4_optimal_excess_annual / Q4_optimal_excess_std_annual\n",
    "\n",
    "Q4_optimal_excess_annual, Q4_optimal_excess_std_annual, Q4_optimal_sharpe"
   ]
  },
  {
   "cell_type": "code",
   "execution_count": null,
   "id": "312f5a69",
   "metadata": {},
   "outputs": [],
   "source": [
    "Q3_total_excess_mean_annual, Q3_total_excess_std_annual, Q3_total_sharpe"
   ]
  },
  {
   "cell_type": "code",
   "execution_count": null,
   "id": "c30f1479",
   "metadata": {},
   "outputs": [],
   "source": [
    "Q2_total_excess_mean_annual, Q2_total_excess_std_annual, Q2_total_sharpe"
   ]
  },
  {
   "cell_type": "code",
   "execution_count": null,
   "id": "b9471f34",
   "metadata": {},
   "outputs": [],
   "source": [
    "# Results from Q1\n",
    "Q1_optimal_excess_annual, Q1_optimal_excess_std_annual, Q1_optimal_sharpe"
   ]
  },
  {
   "cell_type": "code",
   "execution_count": null,
   "id": "5efd55f6",
   "metadata": {},
   "outputs": [],
   "source": [
    "# S&P 500 Benchmark\n",
    "sp500_excess_annual, sp500_excess_std_annual, sp500_sharpe"
   ]
  },
  {
   "cell_type": "markdown",
   "id": "cf982b70",
   "metadata": {},
   "source": [
    "### (d)\n",
    "\n",
    "- Plot the cumulative return of optimal and S&P500 (with previous results)\n",
    "- Discuss the difference in the performance of the five portfolios"
   ]
  },
  {
   "cell_type": "code",
   "execution_count": null,
   "id": "d5aa2832",
   "metadata": {},
   "outputs": [],
   "source": [
    "Q4_optimal_cumret_s = get_cumreturn(Q4_optimal_ret_s)"
   ]
  },
  {
   "cell_type": "code",
   "execution_count": null,
   "id": "67950330",
   "metadata": {},
   "outputs": [],
   "source": [
    "# Plot S&P 500 cumulative return\n",
    "plt.plot(sp500_cumret_s, label='S&P 500 BM')\n",
    "\n",
    "# Plot optimal matching portfolio cumulative return\n",
    "plt.plot(Q1_optimal_cumret_s, label='case#2')\n",
    "plt.plot(Q2_optimal_cumret_s, label='case#1')\n",
    "plt.plot(Q3_optimal_cumret_s, label='case#3')\n",
    "plt.plot(Q4_optimal_cumret_s, label='case#4')\n",
    "\n",
    "# Add title and labels\n",
    "plt.title('Q4. (No risk-free, No short sale)')\n",
    "plt.xlabel('Date')\n",
    "plt.ylabel('Cumulative Return (sum)')\n",
    "\n",
    "# Add legend\n",
    "plt.legend()\n",
    "\n",
    "# Show plot\n",
    "plt.show()"
   ]
  },
  {
   "cell_type": "markdown",
   "id": "ced7b5ee",
   "metadata": {},
   "source": [
    "## 5. Portfolio performance and the number of stocks"
   ]
  },
  {
   "cell_type": "markdown",
   "id": "f5e81237",
   "metadata": {},
   "source": [
    "### (a) \n",
    "\n",
    "- Randomly choose 10 stocks\n",
    "- Plot the MV frontier for case #2 (No risk-free, short-sale allowed)\n",
    "- Plot the MV frontier for case #1 (Yes risk-free, short-sale allowed)\n",
    "- Compare annualized Sharpe with case #2 and case #1"
   ]
  },
  {
   "cell_type": "code",
   "execution_count": null,
   "id": "9f855125",
   "metadata": {},
   "outputs": [],
   "source": [
    "random_10_sid_list = np.random.choice(sid_list, 10, replace=False)\n",
    "random_10_sid_list"
   ]
  },
  {
   "cell_type": "code",
   "execution_count": null,
   "id": "7a446849",
   "metadata": {},
   "outputs": [],
   "source": [
    "random_msf_ret_df = msf_ret_df[random_10_sid_list].copy()\n",
    "random_msf_excess_df = random_msf_ret_df.subtract(rf_s['rf'], axis=0)\n",
    "\n",
    "# Pandas\n",
    "random_cov_df = random_msf_ret_df.cov()\n",
    "random_excess_cov_df = random_msf_excess_df.cov()\n",
    "random_mean_ret_s = random_msf_ret_df.mean()\n",
    "random_mean_excess_s = random_msf_excess_df.mean()\n",
    "random_std_s = random_msf_ret_df.std()\n",
    "\n",
    "# Numpy\n",
    "random_cov_2d = random_cov_df.values\n",
    "random_excess_cov_2d = random_excess_cov_df.values\n",
    "random_mean_ret_v = random_mean_ret_s.values\n",
    "random_mean_excess_v = random_mean_excess_s.values\n",
    "random_std_v = random_std_s.values\n",
    "\n",
    "random_sid_list = random_mean_ret_s.index\n",
    "\n",
    "random_mean_ret = random_mean_ret_v.mean()\n",
    "random_mean_excess = random_mean_excess_v.mean()"
   ]
  },
  {
   "cell_type": "markdown",
   "id": "8dc6c227",
   "metadata": {},
   "source": [
    "#### MV frontier for case #2 (No risk-free, Yes short-sale)"
   ]
  },
  {
   "cell_type": "code",
   "execution_count": null,
   "id": "71ec27d9",
   "metadata": {},
   "outputs": [],
   "source": [
    "Q5a_frontier_ports, Q5a_weights_record = get_efficient_frontier(random_mean_ret_v, random_cov_2d, num_portfolios=100)"
   ]
  },
  {
   "cell_type": "code",
   "execution_count": null,
   "id": "1c251978",
   "metadata": {},
   "outputs": [],
   "source": [
    "# Global minimum variance portfolio\n",
    "min_vol_idx = np.argmin(Q5a_frontier_ports[1])\n",
    "gmvp_ret, gmvp_std, gmvp_sharpe = Q5a_frontier_ports[:, min_vol_idx]\n",
    "\n",
    "# Plot efficient frontier\n",
    "plt.figure(figsize=(10, 7))\n",
    "plt.scatter(Q5a_frontier_ports[1, :], Q5a_frontier_ports[0, :], c=Q5a_frontier_ports[2, :], cmap='cool', marker='o')\n",
    "plt.colorbar(label='Sharpe Ratio')\n",
    "\n",
    "plt.scatter(gmvp_std, gmvp_ret, marker='*', color='g', s=100, label='GMVP')\n",
    "\n",
    "plt.title('Efficient frontier (No riskfree, Yes short sale)')\n",
    "plt.xlabel('Risk (Std. Deviation)')\n",
    "plt.ylabel('Return')\n",
    "plt.legend(labelspacing=0.8)\n",
    "\n",
    "plt.annotate(\n",
    "    f'Return: {gmvp_ret:.2%}\\nStd: {gmvp_std:.2%}\\nSharpe: {gmvp_sharpe:.2f}',\n",
    "    (gmvp_std, gmvp_ret),\n",
    "    textcoords='offset points',\n",
    "    xytext=(10, 10),\n",
    "    ha='center'\n",
    ")\n",
    "\n",
    "plt.show()"
   ]
  },
  {
   "cell_type": "markdown",
   "id": "21c1b723",
   "metadata": {},
   "source": [
    "#### MV frontier for case #1 (Yes risk-free, Yes short-sale)"
   ]
  },
  {
   "cell_type": "code",
   "execution_count": null,
   "id": "2b0c3c8a",
   "metadata": {},
   "outputs": [],
   "source": [
    "Q5a_tangent_point = (None, None) # std, ret\n",
    "tangent_point_index = None\n",
    "Q5a_tangent_weight = None\n",
    "\n",
    "current_maximum_sharpe = -np.inf\n",
    "for i in range(Q5a_frontier_ports.shape[1]): # From lowest to the highest return\n",
    "    ret = Q5a_frontier_ports[0, i]\n",
    "    std = Q5a_frontier_ports[1, i]\n",
    "    \n",
    "    current_sharpe = (ret - rf) / std\n",
    "    if current_sharpe > current_maximum_sharpe:\n",
    "        current_maximum_sharpe = current_sharpe\n",
    "        Q5a_tangent_point = (std, ret)\n",
    "        Q5a_tangent_weight = Q5a_weights_record[i]"
   ]
  },
  {
   "cell_type": "code",
   "execution_count": null,
   "id": "f07537f9",
   "metadata": {},
   "outputs": [],
   "source": [
    "Q5_tangent_sharpe = current_maximum_sharpe\n",
    "Q5_tangent_sharpe # Slope"
   ]
  },
  {
   "cell_type": "code",
   "execution_count": null,
   "id": "156aa28e",
   "metadata": {
    "lines_to_next_cell": 2
   },
   "outputs": [],
   "source": [
    "# Plot efficient frontier\n",
    "plt.figure(figsize=(10, 7))\n",
    "plt.scatter(Q5a_frontier_ports[1, :], Q5a_frontier_ports[0, :], c='#D3D3D3', marker='o')\n",
    "# plt.colorbar(label='Sharpe Ratio')\n",
    "\n",
    "# Plot risk-free point\n",
    "plt.scatter(0, rf, marker='o', color='r', s=200, label='risk-free')\n",
    "\n",
    "# Plot tangent point\n",
    "plt.scatter(*Q5a_tangent_point, marker='*', color='g', s=100, label='Tangent')\n",
    "\n",
    "# Draw the Capital Market Line (CML)\n",
    "plt.axline(\n",
    "    (0, rf), \n",
    "    slope=(Q5a_tangent_point[1] - rf) / Q5a_tangent_point[0], \n",
    "    color='black', \n",
    "    linestyle='--', \n",
    "    linewidth=1.5,\n",
    ")\n",
    "\n",
    "# Add title and labels\n",
    "plt.title('10-asset portfolio ')\n",
    "plt.xlabel('Risk (Std. Deviation)')\n",
    "plt.ylabel('Return')\n",
    "plt.legend(labelspacing=0.8)\n",
    "plt.xlim(left=0)\n",
    "\n",
    "# Annotate risk-free point\n",
    "plt.annotate(\n",
    "    f'Return: {rf:.2%}',\n",
    "    (0, rf),\n",
    "    textcoords='offset points',\n",
    "    xytext=(10, -20),  # Adjust position to avoid overlap\n",
    "    ha='center'\n",
    ")\n",
    "\n",
    "# Annotate tangent point\n",
    "plt.annotate(\n",
    "    f'Return: {Q5a_tangent_point[1]:.2%}\\nStd: {Q5a_tangent_point[0]:.2%}',\n",
    "    Q5a_tangent_point,\n",
    "    textcoords='offset points',\n",
    "    xytext=(10, 10),  # Adjust position to avoid overlap\n",
    "    ha='center'\n",
    ")\n",
    "\n",
    "# Show plot\n",
    "plt.show()"
   ]
  },
  {
   "cell_type": "markdown",
   "id": "dd09392c",
   "metadata": {},
   "source": [
    "#### Annualized Sharpe of case #2 (No risk-free, Yes short-sale)"
   ]
  },
  {
   "cell_type": "code",
   "execution_count": null,
   "id": "e8d2da59",
   "metadata": {},
   "outputs": [],
   "source": [
    "Q5a_match_sp500_result = optimize_portfolio_given_return(sp500_ret, random_mean_ret_v, random_cov_2d)\n",
    "Q5a_match_sp500_weights = Q5a_match_sp500_result.x"
   ]
  },
  {
   "cell_type": "code",
   "execution_count": null,
   "id": "a7cb4c5c",
   "metadata": {},
   "outputs": [],
   "source": [
    "Q5a_optimal_ret_s = random_msf_ret_df.multiply(Q5a_match_sp500_weights, axis=1).sum(axis=1)\n",
    "Q5a_optimal_excess_s = Q5a_optimal_ret_s - rf_s['rf']\n",
    "\n",
    "Q5a_optimal_excess = Q5a_optimal_excess_s.mean()\n",
    "Q5a_optimal_excess_std = Q5a_optimal_excess_s.std()\n",
    "\n",
    "Q5a_optimal_excess_annual = Q5a_optimal_excess * 12\n",
    "Q5a_optimal_excess_std_annual = Q5a_optimal_excess_std * np.sqrt(12)\n",
    "Q5a_optimal_sharpe = Q5a_optimal_excess_annual / Q5a_optimal_excess_std_annual\n",
    "\n",
    "Q5a_optimal_excess_annual, Q5a_optimal_excess_std_annual, Q5a_optimal_sharpe"
   ]
  },
  {
   "cell_type": "markdown",
   "id": "b43af1a6",
   "metadata": {},
   "source": [
    "#### Annualized Sharpe of case #1 (Yes risk-free, Yes short-sale)"
   ]
  },
  {
   "cell_type": "code",
   "execution_count": null,
   "id": "bc61a81a",
   "metadata": {},
   "outputs": [],
   "source": [
    "Q5a_tangent_std, Q5a_tangent_ret = Q5a_tangent_point # 순서 조심. \n",
    "Q5a_tangent_std, Q5a_tangent_ret"
   ]
  },
  {
   "cell_type": "code",
   "execution_count": null,
   "id": "2990b43e",
   "metadata": {},
   "outputs": [],
   "source": [
    "Q5a_risky_weight = (sp500_ret - rf) / (Q5a_tangent_ret - rf)\n",
    "Q5a_riskfree_weight = 1 - Q5a_risky_weight\n",
    "\n",
    "Q5a_risky_weight, Q3_riskfree_weight"
   ]
  },
  {
   "cell_type": "code",
   "execution_count": null,
   "id": "2adcc7e9",
   "metadata": {},
   "outputs": [],
   "source": [
    "Q5a_port_weights = Q5a_risky_weight * Q5a_tangent_weight"
   ]
  },
  {
   "cell_type": "code",
   "execution_count": null,
   "id": "1d7f96f8",
   "metadata": {},
   "outputs": [],
   "source": [
    "Q5a_optimal_ret_s = random_msf_ret_df.multiply(Q5a_port_weights, axis=1).sum(axis=1)\n",
    "Q5a_optimal_ret = Q5a_optimal_ret_s.mean()\n",
    "\n",
    "Q5a_riskfree_s = rf_s['rf'] * Q5a_riskfree_weight\n",
    "\n",
    "Q5a_total_ret_s = Q5a_optimal_ret_s + Q5a_riskfree_s\n",
    "Q5a_total_excess_s = Q5a_total_ret_s - rf_s['rf']\n",
    "\n",
    "Q5a_total_excess_std = Q5a_total_excess_s.std()\n",
    "Q5a_total_excess_mean = Q5a_total_excess_s.mean()"
   ]
  },
  {
   "cell_type": "code",
   "execution_count": null,
   "id": "4b347989",
   "metadata": {},
   "outputs": [],
   "source": [
    "Q3_total_excess_mean_annual = Q3_total_excess_mean * 12\n",
    "Q3_total_excess_std_annual = Q3_total_excess_std * np.sqrt(12)\n",
    "Q3_total_sharpe = Q3_total_excess_mean_annual / Q3_total_excess_std_annual\n",
    "\n",
    "Q3_total_excess_mean_annual, Q3_total_excess_std_annual, Q3_total_sharpe"
   ]
  },
  {
   "cell_type": "markdown",
   "id": "41c913ce",
   "metadata": {},
   "source": [
    "### (b)\n",
    "\n",
    "- Construct money-sector portfolio C (`flag_sector=1`)\n",
    "- Construct diverse-industry portfolio D (`flag_sector=0`)\n",
    "- Plot MV frontiers of C, D for case #2 (No risk-free, short-sale allowed)\n",
    "- Plot MV frontiers of C, D for case #1 (Yes risk-free, short-sale allowed)\n",
    "- Report whose Sharpe is higher and explain why\n"
   ]
  },
  {
   "cell_type": "code",
   "execution_count": null,
   "id": "cff9fda9",
   "metadata": {},
   "outputs": [],
   "source": [
    "msf_C = msf[msf['flag_sector'] == 1].copy()\n",
    "msf_D = msf[msf['flag_sector'] == 0].copy()"
   ]
  },
  {
   "cell_type": "code",
   "execution_count": null,
   "id": "404888fe",
   "metadata": {},
   "outputs": [],
   "source": [
    "len(msf_C['ticker'].unique())"
   ]
  },
  {
   "cell_type": "code",
   "execution_count": null,
   "id": "2740a51d",
   "metadata": {},
   "outputs": [],
   "source": [
    "len(msf_D['ticker'].unique())"
   ]
  },
  {
   "cell_type": "code",
   "execution_count": null,
   "id": "3b65a923",
   "metadata": {},
   "outputs": [],
   "source": [
    "msf_C_ret_df = msf_C[['mdate', 'ticker', 'ret']].pivot(index='mdate', columns='ticker', values='ret')\n",
    "msf_D_ret_df = msf_D[['mdate', 'ticker', 'ret']].pivot(index='mdate', columns='ticker', values='ret')"
   ]
  },
  {
   "cell_type": "code",
   "execution_count": null,
   "id": "5701f255",
   "metadata": {},
   "outputs": [],
   "source": [
    "C_msf_excess_df = msf_C_ret_df.subtract(rf_s['rf'], axis=0)\n",
    "\n",
    "# Pandas\n",
    "C_cov_df = msf_C_ret_df.cov()\n",
    "C_excess_cov_df = C_msf_excess_df.cov()\n",
    "C_mean_ret_s = msf_C_ret_df.mean()\n",
    "C_mean_excess_s = C_msf_excess_df.mean()\n",
    "C_std_s = msf_C_ret_df.std()\n",
    "\n",
    "# Numpy\n",
    "C_cov_2d = C_cov_df.values\n",
    "C_excess_cov_2d = C_excess_cov_df.values\n",
    "C_mean_ret_v = C_mean_ret_s.values\n",
    "C_mean_excess_v = C_mean_excess_s.values\n",
    "C_std_v = C_std_s.values\n",
    "\n",
    "C_sid_list = C_mean_ret_s.index\n",
    "\n",
    "C_mean_ret = C_mean_ret_v.mean()\n",
    "C_mean_excess = C_mean_excess_v.mean()"
   ]
  },
  {
   "cell_type": "code",
   "execution_count": null,
   "id": "cfb73356",
   "metadata": {
    "lines_to_next_cell": 2
   },
   "outputs": [],
   "source": [
    "D_msf_excess_df = msf_C_ret_df.subtract(rf_s['rf'], axis=0)\n",
    "\n",
    "# Pandas\n",
    "D_cov_df = msf_C_ret_df.cov()\n",
    "D_excess_cov_df = D_msf_excess_df.cov()\n",
    "D_mean_ret_s = msf_C_ret_df.mean()\n",
    "D_mean_excess_s = D_msf_excess_df.mean()\n",
    "D_std_s = msf_C_ret_df.std()\n",
    "\n",
    "# Numpy\n",
    "D_cov_2d = D_cov_df.values\n",
    "D_excess_cov_2d = D_excess_cov_df.values\n",
    "D_mean_ret_v = D_mean_ret_s.values\n",
    "D_mean_excess_v = D_mean_excess_s.values\n",
    "D_std_v = D_std_s.values\n",
    "\n",
    "D_sid_list = D_mean_ret_s.index\n",
    "\n",
    "D_mean_ret = D_mean_ret_v.mean()\n",
    "D_mean_excess = D_mean_excess_v.mean()"
   ]
  },
  {
   "cell_type": "markdown",
   "id": "32e3cd55",
   "metadata": {},
   "source": [
    "#### C\n",
    "\n",
    "- Plot MV frontiers for case #2 (No risk-free, short-sale allowed)\n",
    "- Plot MV frontiers for case #1 (Yes risk-free, short-sale allowed)\n"
   ]
  },
  {
   "cell_type": "code",
   "execution_count": null,
   "id": "e897d0ce",
   "metadata": {},
   "outputs": [],
   "source": [
    "Q5bC_frontier_ports, Q5bC_weights_record = get_efficient_frontier(C_mean_ret_v, C_cov_2d, num_portfolios=100)"
   ]
  },
  {
   "cell_type": "code",
   "execution_count": null,
   "id": "456b0b64",
   "metadata": {},
   "outputs": [],
   "source": [
    "Q5bC_tangent_point = (None, None) # std, ret\n",
    "tangent_point_index = None\n",
    "Q5bC_tangent_weight = None\n",
    "\n",
    "current_maximum_sharpe = -np.inf\n",
    "for i in range(Q5bC_frontier_ports.shape[1]): # From lowest to the highest return\n",
    "    ret = Q5bC_frontier_ports[0, i]\n",
    "    std = Q5bC_frontier_ports[1, i]\n",
    "    \n",
    "    current_sharpe = (ret - rf) / std\n",
    "    if current_sharpe > current_maximum_sharpe:\n",
    "        current_maximum_sharpe = current_sharpe\n",
    "        Q5bC_tangent_point = (std, ret)\n",
    "        Q5bC_tangent_weight = Q5bC_weights_record[i]"
   ]
  },
  {
   "cell_type": "code",
   "execution_count": null,
   "id": "1b3a76e0",
   "metadata": {},
   "outputs": [],
   "source": [
    "Q5bC_tangent_sharpe = current_maximum_sharpe\n",
    "Q5bC_tangent_sharpe # Slope"
   ]
  },
  {
   "cell_type": "code",
   "execution_count": null,
   "id": "6610c926",
   "metadata": {},
   "outputs": [],
   "source": [
    "# Plot efficient frontier\n",
    "plt.figure(figsize=(10, 7))\n",
    "plt.scatter(Q5bC_frontier_ports[1, :], Q5bC_frontier_ports[0, :], c=Q5bC_frontier_ports[2, :], cmap='cool', marker='o')\n",
    "plt.colorbar(label='Sharpe Ratio')\n",
    "\n",
    "plt.title('Efficient frontier (No riskfree, Yes short sale)')\n",
    "plt.xlabel('Risk (Std. Deviation)')\n",
    "plt.ylabel('Return')\n",
    "plt.legend(labelspacing=0.8)\n",
    "\n",
    "plt.show()"
   ]
  },
  {
   "cell_type": "code",
   "execution_count": null,
   "id": "1ae8616f",
   "metadata": {},
   "outputs": [],
   "source": []
  },
  {
   "cell_type": "markdown",
   "id": "05909ead",
   "metadata": {},
   "source": [
    "#### D\n",
    "\n",
    "- Plot MV frontiers for case #2 (No risk-free, short-sale allowed)\n",
    "- Plot MV frontiers for case #1 (Yes risk-free, short-sale allowed)\n"
   ]
  },
  {
   "cell_type": "code",
   "execution_count": null,
   "id": "5475d951",
   "metadata": {},
   "outputs": [],
   "source": [
    "Q5a_frontier_ports, Q5a_weights_record = get_efficient_frontier(random_mean_ret_v, random_cov_2d, num_portfolios=100)"
   ]
  },
  {
   "cell_type": "code",
   "execution_count": null,
   "id": "1b5b70f8",
   "metadata": {},
   "outputs": [],
   "source": [
    "# Plot efficient frontier\n",
    "plt.figure(figsize=(10, 7))\n",
    "\n",
    "plt.scatter(Q5bC_frontier_ports[1, :], Q5bC_frontier_ports[0, :], c=Q5bC_frontier_ports[2, :], cmap='cool', marker='o')\n",
    "plt.scatter(Q5a_frontier_ports[1, :], Q5a_frontier_ports[0, :], c=Q5a_frontier_ports[2, :], cmap='gray', marker='o')\n",
    "\n",
    "plt.title('Port C and D')\n",
    "plt.xlabel('Risk (Std. Deviation)')\n",
    "plt.ylabel('Return')\n",
    "plt.legend(labelspacing=0.8)\n",
    "\n",
    "plt.show()"
   ]
  },
  {
   "cell_type": "code",
   "execution_count": null,
   "id": "ec42b97d",
   "metadata": {},
   "outputs": [],
   "source": []
  },
  {
   "cell_type": "markdown",
   "id": "2d37ec00",
   "metadata": {},
   "source": []
  }
 ],
 "metadata": {
  "kernelspec": {
   "display_name": ".venv",
   "language": "python",
   "name": "python3"
  }
 },
 "nbformat": 4,
 "nbformat_minor": 5
}
