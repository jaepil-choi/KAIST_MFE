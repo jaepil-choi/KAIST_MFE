{
 "cells": [
  {
   "cell_type": "markdown",
   "id": "9d63d010",
   "metadata": {},
   "source": [
    "# BAF627 HW1 \n",
    "\n",
    "20249433 MFE 최재필\n"
   ]
  },
  {
   "cell_type": "code",
   "execution_count": null,
   "id": "4983dca8",
   "metadata": {},
   "outputs": [],
   "source": [
    "import numpy as np\n",
    "import pandas as pd\n",
    "\n",
    "import matplotlib.pyplot as plt\n",
    "import seaborn as sns\n",
    "\n",
    "from pathlib import Path\n",
    "\n",
    "import scipy.optimize as sco\n",
    "\n",
    "from tqdm import tqdm"
   ]
  },
  {
   "cell_type": "code",
   "execution_count": null,
   "id": "63794dc3",
   "metadata": {},
   "outputs": [],
   "source": [
    "np.random.seed(42)"
   ]
  },
  {
   "cell_type": "code",
   "execution_count": null,
   "id": "3ba6d490",
   "metadata": {},
   "outputs": [],
   "source": [
    "CWD = Path.cwd()\n",
    "OUTPUT_PATH = CWD / 'output'"
   ]
  },
  {
   "cell_type": "markdown",
   "id": "9149497d",
   "metadata": {},
   "source": [
    "## 0. Import Data"
   ]
  },
  {
   "cell_type": "code",
   "execution_count": null,
   "id": "944f0f82",
   "metadata": {},
   "outputs": [],
   "source": [
    "msf = pd.read_csv('msf.csv')\n",
    "msp500_rf = pd.read_csv('msp500_risk_free.csv')"
   ]
  },
  {
   "cell_type": "code",
   "execution_count": null,
   "id": "c7c9d149",
   "metadata": {},
   "outputs": [],
   "source": [
    "msf['mdate'] = pd.to_datetime(msf['mdate'])"
   ]
  },
  {
   "cell_type": "code",
   "execution_count": null,
   "id": "e94c8a06",
   "metadata": {},
   "outputs": [],
   "source": [
    "msp500_rf['mdate'] = pd.to_datetime(msp500_rf['mdate'])"
   ]
  },
  {
   "cell_type": "code",
   "execution_count": null,
   "id": "6b65eb95",
   "metadata": {},
   "outputs": [],
   "source": [
    "msf_ret = msf[['mdate', 'ticker', 'ret']].pivot(index='mdate', columns='ticker', values='ret')\n",
    "msf_ret.tail()"
   ]
  },
  {
   "cell_type": "code",
   "execution_count": null,
   "id": "659d7e42",
   "metadata": {},
   "outputs": [],
   "source": [
    "msp500_rf"
   ]
  },
  {
   "cell_type": "code",
   "execution_count": null,
   "id": "b99aa094",
   "metadata": {},
   "outputs": [],
   "source": [
    "sp500_ret = msp500_rf[['mdate', 'spret']].set_index('mdate')"
   ]
  },
  {
   "cell_type": "code",
   "execution_count": null,
   "id": "f6782459",
   "metadata": {},
   "outputs": [],
   "source": [
    "rf_s = msp500_rf[['mdate', 'rf']].set_index('mdate')"
   ]
  },
  {
   "cell_type": "code",
   "execution_count": null,
   "id": "33737047",
   "metadata": {},
   "outputs": [],
   "source": [
    "sp500_excess_ret = sp500_ret['spret'] - rf_s['rf']\n",
    "msf_excess_ret = msf_ret.subtract(rf_s['rf'], axis=0)"
   ]
  },
  {
   "cell_type": "markdown",
   "id": "8af3787a",
   "metadata": {},
   "source": [
    "## 1. No risk-free asset & Short-selling is allowed\n",
    "\n",
    "Case #2"
   ]
  },
  {
   "cell_type": "code",
   "execution_count": null,
   "id": "413cc3a8",
   "metadata": {},
   "outputs": [],
   "source": [
    "cov_df = msf_ret.cov()\n",
    "mean_s = msf_ret.mean()"
   ]
  },
  {
   "cell_type": "code",
   "execution_count": null,
   "id": "07e8e389",
   "metadata": {},
   "outputs": [],
   "source": [
    "std_s = msf_ret.std()"
   ]
  },
  {
   "cell_type": "code",
   "execution_count": null,
   "id": "2d82964a",
   "metadata": {},
   "outputs": [],
   "source": [
    "cov_2d = cov_df.values\n",
    "mean_v = mean_s.values\n",
    "std_v = std_s.values"
   ]
  },
  {
   "cell_type": "code",
   "execution_count": null,
   "id": "a26e49fe",
   "metadata": {},
   "outputs": [],
   "source": [
    "sid_list = mean_s.index\n",
    "sid_list"
   ]
  },
  {
   "cell_type": "code",
   "execution_count": null,
   "id": "7f798d01",
   "metadata": {},
   "outputs": [],
   "source": [
    "date_list = msf_ret.index\n",
    "date_list"
   ]
  },
  {
   "cell_type": "markdown",
   "id": "20bab2f8",
   "metadata": {},
   "source": [
    "### (a) \n",
    "\n",
    "- Derive the mean-variance frontier using the standard deviation for measuring risk\n",
    "- Plot the mean-variance frontier\n",
    "- Indicate the global minimum portfolio (GMVP) on the plot\n",
    "\n",
    "Note: Raw returns are used to plot efficient frontier"
   ]
  },
  {
   "cell_type": "code",
   "execution_count": null,
   "id": "aae1db19",
   "metadata": {},
   "outputs": [],
   "source": [
    "def port_mean(W, mean_v, rf=0):\n",
    "    \"\"\"Get the mean of the portfolio\n",
    "\n",
    "    Args:\n",
    "        W (np.ndarray): 1*n array of weights\n",
    "        mean_v (np.ndarray): 1*n array of mean returns\n",
    "\n",
    "    Returns:\n",
    "        float: weighted mean return of the portfolio. (1, ) scalar\n",
    "    \"\"\"\n",
    "    return np.dot(W, mean_v - rf)"
   ]
  },
  {
   "cell_type": "code",
   "execution_count": null,
   "id": "620edde9",
   "metadata": {},
   "outputs": [],
   "source": [
    "# Test the function\n",
    "\n",
    "n = len(mean_v)\n",
    "W = np.ones((1, n)) / n"
   ]
  },
  {
   "cell_type": "code",
   "execution_count": null,
   "id": "a3654678",
   "metadata": {},
   "outputs": [],
   "source": [
    "port_mean(W, mean_v) "
   ]
  },
  {
   "cell_type": "code",
   "execution_count": null,
   "id": "45cea308",
   "metadata": {},
   "outputs": [],
   "source": [
    "def port_var(W, cov_2d):\n",
    "    \"\"\"Get the variance of the portfolio\n",
    "\n",
    "    Args:\n",
    "        W (np.ndarray): 1*n array of weights\n",
    "        cov_2d (np.ndarray): n*n array of covariance matrix\n",
    "\n",
    "    Returns:\n",
    "        float: variance of the portfolio. (1, 1) array\n",
    "    \"\"\"    \n",
    "    return np.dot(W, np.dot(cov_2d, W.T))"
   ]
  },
  {
   "cell_type": "code",
   "execution_count": null,
   "id": "932036a4",
   "metadata": {},
   "outputs": [],
   "source": [
    "port_var(W, cov_2d)"
   ]
  },
  {
   "cell_type": "code",
   "execution_count": null,
   "id": "5790c551",
   "metadata": {},
   "outputs": [],
   "source": [
    "def negative_port_sharpe(W, mean_v, cov_2d):\n",
    "    \"\"\"Get the Sharpe ratio of the portfolio\n",
    "\n",
    "    Args:\n",
    "        W (np.ndarray): 1*n array of weights\n",
    "        mean_v (np.ndarray): 1*n array of mean returns\n",
    "        cov_2d (np.ndarray): n*n array of covariance matrix\n",
    "\n",
    "    Returns:\n",
    "        float: Sharpe ratio of the portfolio. (1, 1) array\n",
    "    \"\"\"    \n",
    "\n",
    "    mean_p = port_mean(W, mean_v)\n",
    "    std_p = np.sqrt(port_var(W, cov_2d))\n",
    "\n",
    "    if mean_p > 0:\n",
    "        return -1 * mean_p / std_p # negative Sharpe ratio\n",
    "    else:\n",
    "        return mean_p / std_p # positive Sharpe ratio"
   ]
  },
  {
   "cell_type": "code",
   "execution_count": null,
   "id": "041b82e7",
   "metadata": {},
   "outputs": [],
   "source": [
    "negative_port_sharpe(W, mean_v, cov_2d)"
   ]
  },
  {
   "cell_type": "code",
   "execution_count": null,
   "id": "9f51b843",
   "metadata": {},
   "outputs": [],
   "source": [
    "def optimize_portfolio(mean_v, cov_2d):\n",
    "    \"\"\"Optimize the portfolio to get the maximum Sharpe ratio\n",
    "\n",
    "    Args:\n",
    "        mean_v (np.ndarray): 1*n array of mean returns\n",
    "        cov_2d (np.ndarray): n*n array of covariance matrix\n",
    "        rf (float): risk-free rate\n",
    "\n",
    "    Returns:\n",
    "        scipy.optimize.OptimizeResult: Result of the optimization\n",
    "    \"\"\"\n",
    "    n = len(mean_v)\n",
    "    args = (mean_v, cov_2d)\n",
    "    constraints = {\n",
    "        \"type\": \"eq\",\n",
    "        \"fun\": lambda W: np.sum(W) - 1,\n",
    "    }\n",
    "    bounds = tuple((-1, 1) for asset in range(n))\n",
    "\n",
    "    result = sco.minimize(\n",
    "        negative_port_sharpe,  # Minimize the negative Sharpe ratio = maximize the Sharpe ratio\n",
    "        n * [1.0 / n,],  # Initial guess\n",
    "        args=args,  # asset returns, covariance matrix\n",
    "        method=\"SLSQP\",\n",
    "        bounds=bounds,  # weights between -1 and 1\n",
    "        constraints=constraints,  # weights sum to 1\n",
    "    )\n",
    "\n",
    "    return result"
   ]
  },
  {
   "cell_type": "code",
   "execution_count": null,
   "id": "ed193e04",
   "metadata": {},
   "outputs": [],
   "source": [
    "def optimize_portfolio_given_return(ret, mean_v, cov_2d):\n",
    "    \"\"\"Optimize the portfolio to get the maximum Sharpe ratio\n",
    "\n",
    "    Args:\n",
    "        mean_v (np.ndarray): 1*n array of mean returns\n",
    "        cov_2d (np.ndarray): n*n array of covariance matrix\n",
    "        rf (float): risk-free rate\n",
    "\n",
    "    Returns:\n",
    "        scipy.optimize.OptimizeResult: Result of the optimization\n",
    "    \"\"\"\n",
    "    n = len(mean_v)\n",
    "    args = (mean_v, cov_2d)\n",
    "    constraints = [\n",
    "        {\"type\": \"eq\", \"fun\": lambda W: np.sum(W) - 1,}, \n",
    "        {\"type\": \"eq\", \"fun\": lambda W: port_mean(W, mean_v) - ret,}\n",
    "        ]\n",
    "    bounds = tuple((-1, 1) for asset in range(n))\n",
    "\n",
    "    result = sco.minimize(\n",
    "        negative_port_sharpe,  # Minimize the negative Sharpe ratio = maximize the Sharpe ratio\n",
    "        n * [1.0 / n,],  # Initial guess\n",
    "        args=args,  # asset returns, covariance matrix\n",
    "        method=\"SLSQP\",\n",
    "        bounds=bounds,  # weights between -1 and 1\n",
    "        constraints=constraints,  # weights sum to 1, return target\n",
    "    )\n",
    "\n",
    "    return result"
   ]
  },
  {
   "cell_type": "code",
   "execution_count": null,
   "id": "c81d11fe",
   "metadata": {},
   "outputs": [],
   "source": [
    "optimize_portfolio(mean_v, cov_2d) # optimized result의 x가 optimal weights"
   ]
  },
  {
   "cell_type": "code",
   "execution_count": null,
   "id": "da121f40",
   "metadata": {},
   "outputs": [],
   "source": [
    "def get_opportunity_set(mean_v, cov_2d, num_portfolios=100):\n",
    "    \"\"\"Get the opportunity set by generating random portfolios\n",
    "\n",
    "    Args:\n",
    "        mean_v (np.ndarray): 1*n array of mean returns\n",
    "        cov_2d (np.ndarray): n*n array of covariance matrix\n",
    "        num_portfolios (int): number of random portfolios to generate\n",
    "\n",
    "    Returns:\n",
    "        np.ndarray: 3 * num_portfolios array of results // (portfolio return, portfolio std, portfolio sharpe ratio)\n",
    "        list: list of weights\n",
    "    \"\"\"\n",
    "\n",
    "    results = np.zeros((3, num_portfolios))\n",
    "    weights_record = []\n",
    "\n",
    "    for i in range(num_portfolios):\n",
    "        weights = np.random.uniform(-1, 1, len(mean_v))\n",
    "        weights /= np.sum(np.abs(weights))\n",
    "        # TODO: Weights don't sum to 1. If normalized, the resulting efficient frontier breaks.\n",
    "\n",
    "        p_ret, p_std = port_mean(weights, mean_v), np.sqrt(port_var(weights, cov_2d))\n",
    "        results[0, i] = p_ret\n",
    "        results[1, i] = p_std\n",
    "        results[2, i] = p_ret / p_std\n",
    "\n",
    "        weights_record.append(weights)\n",
    "    \n",
    "    return results, weights_record\n",
    "    \n"
   ]
  },
  {
   "cell_type": "code",
   "execution_count": null,
   "id": "06791286",
   "metadata": {},
   "outputs": [],
   "source": [
    "def get_efficient_frontier(mean_v, cov_2d, return_range=[-0.1, 0.1], num_portfolios=100):\n",
    "    \"\"\"Get the efficient frontier by optimizing the portfolio for each return given the range\n",
    "\n",
    "    Args:\n",
    "        mean_v (np.ndarray): 1*n array of mean returns\n",
    "        cov_2d (np.ndarray): n*n array of covariance matrix\n",
    "        return_range (list): range of return to optimize the portfolio\n",
    "        num_portfolios (int): number of portfolios to generate\n",
    "\n",
    "    Returns:\n",
    "        np.ndarray: 3 * num_portfolios array of results // (portfolio return, portfolio std, portfolio sharpe ratio)\n",
    "        list: list of weights\n",
    "    \"\"\"\n",
    "    weights_record = []\n",
    "\n",
    "    min_ret, max_ret = return_range\n",
    "    ret_range = np.linspace(min_ret, max_ret, num_portfolios)\n",
    "    results = np.zeros((3, len(ret_range)))\n",
    "\n",
    "    for i, ret in enumerate(ret_range):\n",
    "        result = optimize_portfolio_given_return(ret, mean_v, cov_2d)\n",
    "        weights = result.x\n",
    "\n",
    "        p_ret, p_std = port_mean(weights, mean_v), np.sqrt(port_var(weights, cov_2d))\n",
    "        results[0, i] = p_ret\n",
    "        results[1, i] = p_std\n",
    "        results[2, i] = p_ret / p_std\n",
    "\n",
    "        weights_record.append(weights)\n",
    "        \n",
    "    return results, weights_record\n",
    "    \n"
   ]
  },
  {
   "cell_type": "code",
   "execution_count": null,
   "id": "299848bb",
   "metadata": {},
   "outputs": [],
   "source": [
    "from concurrent.futures import ThreadPoolExecutor, as_completed\n",
    "\n",
    "\n",
    "def calculate_optimization(ret, mean_v, cov_2d):\n",
    "    \"\"\"Helper function to perform optimization and return results\"\"\"\n",
    "    result = optimize_portfolio_given_return(ret, mean_v, cov_2d)\n",
    "    weights = result.x\n",
    "    p_ret = port_mean(weights, mean_v)\n",
    "    p_std = np.sqrt(port_var(weights, cov_2d))\n",
    "    sharpe_ratio = p_ret / p_std\n",
    "    return p_ret, p_std, sharpe_ratio, weights\n",
    "\n",
    "def get_efficient_frontier_parallel(mean_v, cov_2d, return_range=[-0.1, 0.1], num_portfolios=100):\n",
    "    \"\"\"Get the efficient frontier by optimizing the portfolio for each return given the range\n",
    "\n",
    "    Args:\n",
    "        mean_v (np.ndarray): 1*n array of mean returns\n",
    "        cov_2d (np.ndarray): n*n array of covariance matrix\n",
    "        return_range (list): range of return to optimize the portfolio\n",
    "        num_portfolios (int): number of portfolios to generate\n",
    "\n",
    "    Returns:\n",
    "        np.ndarray: 3 * num_portfolios array of results // (portfolio return, portfolio std, portfolio sharpe ratio)\n",
    "        list: list of weights\n",
    "    \"\"\"\n",
    "    min_ret, max_ret = return_range\n",
    "    ret_range = np.linspace(min_ret, max_ret, num_portfolios)\n",
    "    \n",
    "    results_array = np.zeros((3, num_portfolios))\n",
    "    weights_record = []\n",
    "    \n",
    "    with ThreadPoolExecutor() as executor:\n",
    "        futures = {executor.submit(calculate_optimization, ret, mean_v, cov_2d): ret for ret in ret_range}\n",
    "        for future in as_completed(futures):\n",
    "            ret = futures[future]\n",
    "            try:\n",
    "                p_ret, p_std, sharpe_ratio, weights = future.result()\n",
    "                idx = np.where(ret_range == ret)[0][0]\n",
    "                results_array[0, idx] = p_ret\n",
    "                results_array[1, idx] = p_std\n",
    "                results_array[2, idx] = sharpe_ratio\n",
    "                weights_record.append(weights)\n",
    "            except Exception as exc:\n",
    "                print(f'Return {ret} generated an exception: {exc}')\n",
    "    \n",
    "    return results_array, weights_record\n",
    "\n"
   ]
  },
  {
   "cell_type": "markdown",
   "id": "63f1a7c4",
   "metadata": {},
   "source": [
    "We can plot the opportunity set but beware that it's NOT deriving the efficient frontier. \n",
    "\n",
    "It's just randomly generating portfolios. "
   ]
  },
  {
   "cell_type": "code",
   "execution_count": null,
   "id": "ecbe8ca4",
   "metadata": {
    "lines_to_next_cell": 2
   },
   "outputs": [],
   "source": [
    "results, weights_record = get_opportunity_set(mean_v, cov_2d, num_portfolios=1000)\n",
    "\n",
    "# Optimal portfolio\n",
    "max_sharpe_idx = np.argmax(results[2])\n",
    "tangent_p_std, tangent_p_ret = results[1, max_sharpe_idx], results[0, max_sharpe_idx]\n",
    "\n",
    "# Global minimum variance portfolio\n",
    "min_vol_idx = np.argmin(results[1])\n",
    "gmvp_std, gmvp_ret = results[1, min_vol_idx], results[0, min_vol_idx]\n",
    "\n",
    "\n",
    "\n",
    "# Plot the efficient frontier\n",
    "plt.figure(figsize=(10, 7))\n",
    "plt.scatter(results[1,:], results[0,:], c=results[2,:], cmap='cool', marker='o')\n",
    "plt.colorbar(label='Sharpe ratio')\n",
    "plt.scatter(gmvp_std, gmvp_ret, marker='*', color='r', s=200, label='GMVP')\n",
    "plt.title('Efficient Frontier with Short Selling Allowed')\n",
    "plt.xlabel('Risk (Std. Deviation)')\n",
    "plt.ylabel('Return')\n",
    "plt.legend(labelspacing=0.8)\n",
    "plt.show()"
   ]
  },
  {
   "cell_type": "code",
   "execution_count": null,
   "id": "628adff5",
   "metadata": {
    "lines_to_next_cell": 2
   },
   "outputs": [],
   "source": [
    "results, weights_record = get_efficient_frontier_parallel(mean_v, cov_2d, num_portfolios=100)\n",
    "\n",
    "# Global minimum variance portfolio\n",
    "min_vol_idx = np.argmin(results[1])\n",
    "gmvp_std, gmvp_ret = results[1, min_vol_idx], results[0, min_vol_idx]\n",
    "\n",
    "# Plot the efficient frontier\n",
    "plt.figure(figsize=(10, 7))\n",
    "plt.scatter(results[1,:], results[0,:], c=results[2,:], cmap='cool', marker='o')\n",
    "plt.colorbar(label='Sharpe ratio')\n",
    "plt.scatter(gmvp_std, gmvp_ret, marker='*', color='r', s=200, label='GMVP')\n",
    "plt.title('Efficient Frontier with Short Selling Allowed')\n",
    "plt.xlabel('Risk (Std. Deviation)')\n",
    "plt.ylabel('Return')\n",
    "plt.legend(labelspacing=0.8)\n",
    "\n",
    "# Annotate the GMVP point with its x and y values\n",
    "plt.annotate(f'({gmvp_std:.2f}, {gmvp_ret:.2f})', \n",
    "             (gmvp_std, gmvp_ret), \n",
    "             textcoords=\"offset points\", \n",
    "             xytext=(10,-10), \n",
    "             ha='center')\n",
    "\n",
    "plt.show()"
   ]
  },
  {
   "cell_type": "markdown",
   "id": "dc4c8d8d",
   "metadata": {},
   "source": [
    "### (b)"
   ]
  },
  {
   "cell_type": "code",
   "execution_count": null,
   "id": "0ac507d1",
   "metadata": {},
   "outputs": [],
   "source": [
    "sp500_mean = sp500_ret.mean().values[0]"
   ]
  },
  {
   "cell_type": "code",
   "execution_count": null,
   "id": "5f3506b2",
   "metadata": {},
   "outputs": [],
   "source": [
    "match_sp500_result = optimize_portfolio_given_return(sp500_mean, mean_v, cov_2d)\n",
    "match_sp500_weights = match_sp500_result.x\n",
    "\n",
    "match_sp500_weights_df = pd.DataFrame(match_sp500_weights, index=sid_list, columns=['weight'])\n",
    "match_sp500_weights_df"
   ]
  },
  {
   "cell_type": "code",
   "execution_count": null,
   "id": "679a4bd5",
   "metadata": {},
   "outputs": [],
   "source": [
    "match_sp500_weights_df.to_csv(OUTPUT_PATH / 'hw1_1.b_match_sp500_weights.csv')"
   ]
  },
  {
   "cell_type": "code",
   "execution_count": null,
   "id": "90507435",
   "metadata": {},
   "outputs": [],
   "source": [
    "watching = ['MMM', 'BAC', 'AMD', 'AAPL', 'MCD']\n",
    "\n",
    "match_sp500_weights_df.loc[watching]"
   ]
  },
  {
   "cell_type": "markdown",
   "id": "8fd374ad",
   "metadata": {},
   "source": [
    "### (c)"
   ]
  },
  {
   "cell_type": "code",
   "execution_count": null,
   "id": "a88d75af",
   "metadata": {},
   "outputs": [],
   "source": [
    "# Optimal portfolio matching sp500\n",
    "\n",
    "max_sharpe_idx = np.argmax(results[2])\n",
    "tangent_p_std, tangent_p_ret = results[1, max_sharpe_idx], results[0, max_sharpe_idx]\n",
    "tangent_p_weight = weights_record[max_sharpe_idx]"
   ]
  },
  {
   "cell_type": "code",
   "execution_count": null,
   "id": "38dff029",
   "metadata": {},
   "outputs": [],
   "source": [
    "tangent_excess_ret = msf_excess_ret.multiply(tangent_p_weight, axis=1).sum(axis=1)\n",
    "\n",
    "tangent_excess_mean = tangent_excess_ret.mean()\n",
    "tangent_excess_std = tangent_excess_ret.std()"
   ]
  },
  {
   "cell_type": "code",
   "execution_count": null,
   "id": "16c83f8e",
   "metadata": {},
   "outputs": [],
   "source": [
    "# Annualize return, std, sharpe ratio\n",
    "\n",
    "def monthly_to_annual(data_v):\n",
    "    monthly_mean = data_v.mean()\n",
    "    monthly_std = data_v.std()\n",
    "\n",
    "    annual_mean = monthly_mean * 12\n",
    "    annual_std = monthly_std * np.sqrt(12)\n",
    "\n",
    "    return annual_mean, annual_std"
   ]
  },
  {
   "cell_type": "code",
   "execution_count": null,
   "id": "90f855c4",
   "metadata": {},
   "outputs": [],
   "source": [
    "sp500_annual_excess_mean, sp500_annual_excess_std = monthly_to_annual(sp500_excess_ret)\n",
    "sp500_annual_excess_mean, sp500_annual_excess_std"
   ]
  },
  {
   "cell_type": "code",
   "execution_count": null,
   "id": "8c65fa73",
   "metadata": {},
   "outputs": [],
   "source": [
    "sp500_annual_excess_sharpe = sp500_annual_excess_mean / sp500_annual_excess_std\n",
    "sp500_annual_excess_sharpe"
   ]
  },
  {
   "cell_type": "code",
   "execution_count": null,
   "id": "6f3b6e19",
   "metadata": {},
   "outputs": [],
   "source": [
    "tangent_p_mean_annual = tangent_excess_mean * 12\n",
    "tangent_p_std_annual = tangent_excess_std * np.sqrt(12)\n",
    "\n",
    "tangent_p_mean_annual, tangent_p_std_annual"
   ]
  },
  {
   "cell_type": "code",
   "execution_count": null,
   "id": "9bd4b355",
   "metadata": {},
   "outputs": [],
   "source": [
    "tangent_annual_sharpe = tangent_p_mean_annual / tangent_p_std_annual\n",
    "tangent_annual_sharpe"
   ]
  },
  {
   "cell_type": "markdown",
   "id": "181d75fb",
   "metadata": {},
   "source": [
    "### (d)"
   ]
  },
  {
   "cell_type": "code",
   "execution_count": null,
   "id": "bbb249e7",
   "metadata": {},
   "outputs": [],
   "source": [
    "tangent_p_weight = weights_record[max_sharpe_idx]\n",
    "\n",
    "tangent_p_ret = np.dot(tangent_p_weight, msf_ret.to_numpy().T)"
   ]
  },
  {
   "cell_type": "code",
   "execution_count": null,
   "id": "c9d1388b",
   "metadata": {},
   "outputs": [],
   "source": [
    "tangent_p_cum_ret = np.cumprod(1 + tangent_p_ret) - 1"
   ]
  },
  {
   "cell_type": "code",
   "execution_count": null,
   "id": "59dc2e90",
   "metadata": {},
   "outputs": [],
   "source": [
    "sp500_cum_ret = np.cumprod(1 + sp500_ret.to_numpy()) - 1"
   ]
  },
  {
   "cell_type": "code",
   "execution_count": null,
   "id": "8f0d4148",
   "metadata": {
    "lines_to_next_cell": 2
   },
   "outputs": [],
   "source": [
    "sns.lineplot(y=tangent_p_cum_ret[1:], x=date_list[1:], label='Optimal Portfolio Cum Return')\n",
    "sns.lineplot(y=sp500_cum_ret, x=date_list[1:], label='S&P 500 Cum Return')"
   ]
  },
  {
   "cell_type": "markdown",
   "id": "86182a21",
   "metadata": {},
   "source": [
    "## 2. There is risk-free asset & Short-selling is allowed\n",
    "\n",
    "Case #1\n",
    "\n",
    "Assume correlation between risk-free treasury and any asset is 0"
   ]
  },
  {
   "cell_type": "markdown",
   "id": "7345f634",
   "metadata": {},
   "source": [
    "### (a)"
   ]
  },
  {
   "cell_type": "code",
   "execution_count": null,
   "id": "ce64545a",
   "metadata": {},
   "outputs": [],
   "source": [
    "rf = rf_s.mean().values[0]\n",
    "rf"
   ]
  },
  {
   "cell_type": "code",
   "execution_count": null,
   "id": "e379570f",
   "metadata": {},
   "outputs": [],
   "source": [
    "results.shape"
   ]
  },
  {
   "cell_type": "code",
   "execution_count": null,
   "id": "064abadf",
   "metadata": {},
   "outputs": [],
   "source": [
    "tangent_point = (None, None) # std, ret\n",
    "tangent_point_index = None\n",
    "\n",
    "current_maximum_sharpe = -np.inf\n",
    "for i in range(results.shape[1]): # From lowest to the highest return\n",
    "    ret = results[0, i]\n",
    "    std = results[1, i]\n",
    "    \n",
    "    current_sharpe = (ret - rf) / std\n",
    "    if current_sharpe > current_maximum_sharpe:\n",
    "        current_maximum_sharpe = current_sharpe\n",
    "        tangent_point = (std, ret)\n",
    "        tangent_point_index = i\n",
    "    \n",
    "    if current_sharpe < current_maximum_sharpe:\n",
    "        break"
   ]
  },
  {
   "cell_type": "code",
   "execution_count": null,
   "id": "acfe804a",
   "metadata": {},
   "outputs": [],
   "source": [
    "tangent_sharpe = current_maximum_sharpe\n",
    "tangent_sharpe # slope"
   ]
  },
  {
   "cell_type": "code",
   "execution_count": null,
   "id": "86085800",
   "metadata": {},
   "outputs": [],
   "source": [
    "tangent_point"
   ]
  },
  {
   "cell_type": "code",
   "execution_count": null,
   "id": "9cf9a75d",
   "metadata": {},
   "outputs": [],
   "source": [
    "tangent_weight = weights_record[tangent_point_index]"
   ]
  },
  {
   "cell_type": "code",
   "execution_count": null,
   "id": "abfb094d",
   "metadata": {
    "lines_to_next_cell": 2
   },
   "outputs": [],
   "source": [
    "\n",
    "# Plot the efficient frontier\n",
    "plt.figure(figsize=(10, 7))\n",
    "plt.scatter(results[1,:], results[0,:], c=results[2,:], cmap='cool', marker='o')\n",
    "plt.colorbar(label='Sharpe ratio')\n",
    "plt.title('Efficient Frontier with Short Selling Allowed')\n",
    "plt.xlabel('Risk (Std. Deviation)')\n",
    "plt.ylabel('Return')\n",
    "\n",
    "plt.scatter(0, rf, marker='o', color='r', s=200, label='risk-free')\n",
    "plt.scatter(*tangent_point, marker='*', color='g', s=200, label='Tangent')\n",
    "\n",
    "plt.axline((0, rf), slope=(tangent_point[1] - rf) / tangent_point[0], color='black', linestyle='--', linewidth=1.5)\n",
    "\n",
    "\n",
    "\n",
    "# Set the x-axis to start from 0\n",
    "plt.xlim(left=0)\n",
    "\n",
    "plt.legend(labelspacing=0.8)\n",
    "plt.show()"
   ]
  },
  {
   "cell_type": "markdown",
   "id": "1af7d9d8",
   "metadata": {},
   "source": [
    "### (b)"
   ]
  },
  {
   "cell_type": "code",
   "execution_count": null,
   "id": "36618158",
   "metadata": {},
   "outputs": [],
   "source": [
    "tangent_ret, tangent_std = tangent_point"
   ]
  },
  {
   "cell_type": "code",
   "execution_count": null,
   "id": "e4559775",
   "metadata": {},
   "outputs": [],
   "source": [
    "sp500_mean "
   ]
  },
  {
   "cell_type": "code",
   "execution_count": null,
   "id": "ecd6927b",
   "metadata": {},
   "outputs": [],
   "source": [
    "sp500_matching_std = (sp500_mean  - rf) / tangent_sharpe\n",
    "sp500_matching_std"
   ]
  },
  {
   "cell_type": "code",
   "execution_count": null,
   "id": "b435037b",
   "metadata": {},
   "outputs": [],
   "source": [
    "risky_weight = (sp500_mean - rf) / (tangent_ret - rf)\n",
    "risk_free_weight = 1 - risky_weight\n",
    "\n",
    "risky_weight, risk_free_weight"
   ]
  },
  {
   "cell_type": "code",
   "execution_count": null,
   "id": "412e52b3",
   "metadata": {},
   "outputs": [],
   "source": [
    "tangent_weight_mixing_riskfree = tangent_weight * risky_weight\n",
    "\n",
    "tangent_weight_mixing_riskfree_df = pd.DataFrame(tangent_weight_mixing_riskfree, index=sid_list, columns=['weight'])\n",
    "tangent_weight_mixing_riskfree_df"
   ]
  },
  {
   "cell_type": "code",
   "execution_count": null,
   "id": "c67db018",
   "metadata": {},
   "outputs": [],
   "source": [
    "tangent_weight_mixing_riskfree_df.loc[watching]"
   ]
  },
  {
   "cell_type": "code",
   "execution_count": null,
   "id": "30cee2b3",
   "metadata": {},
   "outputs": [],
   "source": [
    "tangent_weight_mixing_riskfree_df.to_csv(OUTPUT_PATH / 'hw1_2.b_tangent_weight_mixing_riskfree.csv')"
   ]
  },
  {
   "cell_type": "markdown",
   "id": "d922e350",
   "metadata": {},
   "source": [
    "### (c)"
   ]
  },
  {
   "cell_type": "code",
   "execution_count": null,
   "id": "ed37c45d",
   "metadata": {},
   "outputs": [],
   "source": [
    "annual_tangent_excess_ret = (tangent_ret - rf) * 12\n",
    "annual_tangent_std = tangent_std * np.sqrt(12)\n",
    "\n",
    "annual_tangent_excess_ret, annual_tangent_std"
   ]
  },
  {
   "cell_type": "code",
   "execution_count": null,
   "id": "da86e487",
   "metadata": {},
   "outputs": [],
   "source": [
    "annual_tangent_sharpe = annual_tangent_excess_ret / annual_tangent_std\n",
    "annual_tangent_sharpe"
   ]
  },
  {
   "cell_type": "markdown",
   "id": "6de5f04a",
   "metadata": {},
   "source": [
    "### (d)"
   ]
  },
  {
   "cell_type": "code",
   "execution_count": null,
   "id": "beebc6b0",
   "metadata": {},
   "outputs": [],
   "source": []
  }
 ],
 "metadata": {
  "kernelspec": {
   "display_name": ".venv",
   "language": "python",
   "name": "python3"
  }
 },
 "nbformat": 4,
 "nbformat_minor": 5
}
