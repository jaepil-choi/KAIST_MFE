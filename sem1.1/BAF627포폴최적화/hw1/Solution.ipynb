{
 "cells": [
  {
   "cell_type": "markdown",
   "id": "a28244eb",
   "metadata": {},
   "source": [
    "# [BAF627] Portfolio Optimization and Management HW 1"
   ]
  },
  {
   "cell_type": "markdown",
   "id": "c1426bcc",
   "metadata": {},
   "source": [
    "## Install tqdm by following:\n",
    "\n",
    "!pip install tqdm"
   ]
  },
  {
   "cell_type": "markdown",
   "id": "4c8cc0b3",
   "metadata": {},
   "source": [
    "# Import modules"
   ]
  },
  {
   "cell_type": "code",
   "execution_count": null,
   "id": "b5338a44",
   "metadata": {},
   "outputs": [],
   "source": [
    "import os\n",
    "# print(os.getcwd())\n",
    "\n",
    "import pandas as pd\n",
    "from pandas.tseries.offsets import MonthEnd\n",
    "\n",
    "import numpy as np\n",
    "\n",
    "import matplotlib.pyplot as plt\n",
    "\n",
    "from tqdm import tqdm\n",
    "import copy\n",
    "\n",
    "# https://programmerclick.com/article/4079505481/\n",
    "from scipy.optimize import minimize"
   ]
  },
  {
   "cell_type": "markdown",
   "id": "17af3b60",
   "metadata": {},
   "source": [
    "# Read data"
   ]
  },
  {
   "cell_type": "code",
   "execution_count": null,
   "id": "b13e7dc2",
   "metadata": {},
   "outputs": [],
   "source": [
    "msf = pd.read_csv('msf.csv')\n",
    "msf['mdate'] = pd.to_datetime(msf['mdate'],format='%Y-%m-%d')\n",
    "\n",
    "msp500 = pd.read_csv('msp500_risk_free.csv')\n",
    "msp500['mdate'] = pd.to_datetime(msp500['mdate'],format='%Y-%m-%d')"
   ]
  },
  {
   "cell_type": "markdown",
   "id": "7cc0d01e",
   "metadata": {},
   "source": [
    "# Basic Parameters"
   ]
  },
  {
   "cell_type": "markdown",
   "id": "404558cc",
   "metadata": {},
   "source": [
    "### Standard deviations"
   ]
  },
  {
   "cell_type": "code",
   "execution_count": null,
   "id": "13ecadb7",
   "metadata": {},
   "outputs": [],
   "source": [
    "mu_msp500 = msp500['spret'].mean()\n",
    "std_msp500 = msp500['spret'].std()"
   ]
  },
  {
   "cell_type": "markdown",
   "id": "b5ff9851",
   "metadata": {},
   "source": [
    "### Average risk-free rate"
   ]
  },
  {
   "cell_type": "code",
   "execution_count": null,
   "id": "5e34ff8c",
   "metadata": {},
   "outputs": [],
   "source": [
    "rf_all = msp500['rf'].mean()"
   ]
  },
  {
   "cell_type": "markdown",
   "id": "cd18de6b",
   "metadata": {},
   "source": [
    "### Covariance matrix"
   ]
  },
  {
   "cell_type": "code",
   "execution_count": null,
   "id": "d4b239b4",
   "metadata": {},
   "outputs": [],
   "source": [
    "def get_cov_inv(msf_sample):\n",
    "\n",
    "    msf_pivot = msf_sample.pivot(index='mdate', columns='permno', values='ret')\n",
    "    sigma = msf_pivot.cov()\n",
    "    inv = np.linalg.inv(sigma)\n",
    "    \n",
    "    return sigma, inv"
   ]
  },
  {
   "cell_type": "markdown",
   "id": "e744d01e",
   "metadata": {},
   "source": [
    "### Vector of ones"
   ]
  },
  {
   "cell_type": "code",
   "execution_count": null,
   "id": "62171784",
   "metadata": {},
   "outputs": [],
   "source": [
    "nfirms = len(msf['permno'].unique())\n",
    "ones100 = np.ones((nfirms,1))"
   ]
  },
  {
   "cell_type": "markdown",
   "id": "d0d9c3b1",
   "metadata": {},
   "source": [
    "# 1. Case#2"
   ]
  },
  {
   "cell_type": "markdown",
   "id": "66f34b01",
   "metadata": {},
   "source": [
    "## 1.a."
   ]
  },
  {
   "cell_type": "code",
   "execution_count": null,
   "id": "999425f8",
   "metadata": {},
   "outputs": [],
   "source": [
    "def get_parameters(ones, inv, z):\n",
    "\n",
    "    A = ones.T.dot(inv).dot(ones)\n",
    "\n",
    "    B = ones.T.dot(inv).dot(z)\n",
    "\n",
    "    C = z.T.dot(inv).dot(z)\n",
    "\n",
    "    Delta = A*C-B**2\n",
    "    \n",
    "    return A, B, C, Delta"
   ]
  },
  {
   "cell_type": "code",
   "execution_count": null,
   "id": "559c1ead",
   "metadata": {},
   "outputs": [],
   "source": [
    "def get_ans1a(mu_p,\n",
    "              z, A, B, C, Delta, inv, sigma, ones,\n",
    "             ):\n",
    "    '''Calculate the closed-form solution of Case 2 for given target portfolio retun mu_p'''\n",
    "    \n",
    "    gamma1a = (mu_p*A-B)/Delta\n",
    "    lambda1a = (C-mu_p*B)/Delta\n",
    "    w1a = inv.dot(lambda1a*ones+gamma1a*z)\n",
    "\n",
    "    mu_port1a = float(w1a.T.dot(z)[0][0])\n",
    "    std_port1a = float(w1a.T.dot(sigma).dot(w1a)[0][0])**(1/2)\n",
    "    \n",
    "    return w1a, mu_port1a, std_port1a"
   ]
  },
  {
   "cell_type": "markdown",
   "id": "4abfd3cb",
   "metadata": {},
   "source": [
    "### Average returns of given sample"
   ]
  },
  {
   "cell_type": "code",
   "execution_count": null,
   "id": "8af049d6",
   "metadata": {},
   "outputs": [],
   "source": [
    "# We will save weights for problems on the weights\n",
    "weights = msf.groupby(['permno', 'ticker', 'comnam'])['ret'].mean().reset_index().set_index(['permno'])"
   ]
  },
  {
   "cell_type": "code",
   "execution_count": null,
   "id": "b28a88ca",
   "metadata": {},
   "outputs": [],
   "source": [
    "z1a = weights['ret'].values.reshape(-1,1)"
   ]
  },
  {
   "cell_type": "code",
   "execution_count": null,
   "id": "4b88f314",
   "metadata": {},
   "outputs": [],
   "source": [
    "sigma1a, inv1a = get_cov_inv(msf)"
   ]
  },
  {
   "cell_type": "code",
   "execution_count": null,
   "id": "ab76ac53",
   "metadata": {},
   "outputs": [],
   "source": [
    "A1a, B1a, C1a, Delta1a = get_parameters(ones100, inv1a, z1a)"
   ]
  },
  {
   "cell_type": "code",
   "execution_count": null,
   "id": "e16aef9f",
   "metadata": {},
   "outputs": [],
   "source": [
    "step = 0.001 # 10bp\n",
    "\n",
    "min_ret = -0.1 # multiply 100 to get a percent unit.\n",
    "max_ret = 0.1\n",
    "\n",
    "list_ans1a = []\n",
    "for mu_p in np.arange(min_ret,max_ret+step,step):\n",
    "    \n",
    "    _, mu_port1a, std_port1a = get_ans1a(mu_p, z1a, A1a, B1a, C1a, Delta1a, inv1a, sigma1a, ones100)\n",
    "    \n",
    "    tmp_ans1a = pd.DataFrame([[mu_port1a, std_port1a]],columns=['port_ret', 'port_std'])\n",
    "    \n",
    "    list_ans1a.append(tmp_ans1a)"
   ]
  },
  {
   "cell_type": "code",
   "execution_count": null,
   "id": "8b3df6d1",
   "metadata": {},
   "outputs": [],
   "source": [
    "ans1a = pd.concat(list_ans1a).reset_index(drop=True)\n",
    "ans1a.sort_values(['port_ret'],inplace=True)\n",
    "ans1a.reset_index(drop=True,inplace=True)"
   ]
  },
  {
   "cell_type": "code",
   "execution_count": null,
   "id": "b1bc3f1c",
   "metadata": {},
   "outputs": [],
   "source": [
    "## fig\n",
    "\n",
    "fig, ax = plt.subplots(1,1,figsize=(12,8))\n",
    "\n",
    "ans1a.plot(x='port_std', y='port_ret', ax=ax, legend=False)\n",
    "\n",
    "ax.set_xlabel('Standard Deviation')\n",
    "ax.set_ylabel('Expected Return')\n",
    "\n",
    "ax.set_xlim(0,0.07)\n",
    "ax.set_ylim(-0.03,0.05)\n",
    "\n",
    "ax.set_xlim(0)\n",
    "\n",
    "w_gmvp = inv1a.dot(ones100)/(ones100.T.dot(inv1a).dot(ones100))\n",
    "w_gmvp.sum()\n",
    "\n",
    "mu_gmvp = w_gmvp.T.dot(z1a)\n",
    "std_gmvp = (w_gmvp.T.dot(sigma1a).dot(w_gmvp))**(0.5)\n",
    "\n",
    "# ax.axvline(std_gmvp,color='black')\n",
    "arrowprops=dict(\n",
    "    arrowstyle='-',\n",
    "    connectionstyle=\"angle,angle A=90, angle B=0\")\n",
    "\n",
    "bbox=dict(fc='1')\n",
    "\n",
    "ax.annotate(\n",
    "    \"GMVP\",\n",
    "    xy=(std_gmvp,mu_gmvp),\n",
    "    xytext=(-40,80), #위치\n",
    "    textcoords='offset points',\n",
    "    arrowprops=arrowprops, \n",
    "    bbox=bbox\n",
    ")\n",
    "\n",
    "print('GMVP Std: {:.3f}%'.format(100*float(std_gmvp[0][0])), '\\nGMVP Return: {:.3f}%'.format(100*float(mu_gmvp[0][0])))\n",
    "ax.legend(['Optimal Portfolio (Case 2)'])"
   ]
  },
  {
   "cell_type": "markdown",
   "id": "0e5fec23",
   "metadata": {
    "jp-MarkdownHeadingCollapsed": true
   },
   "source": [
    "### Annualizing also works"
   ]
  },
  {
   "cell_type": "markdown",
   "id": "80ea2377",
   "metadata": {},
   "source": [
    "## Vectorized solution"
   ]
  },
  {
   "cell_type": "code",
   "execution_count": null,
   "id": "5421fc16",
   "metadata": {},
   "outputs": [],
   "source": [
    "mu_v = np.arange(min_ret,max_ret+step,step).reshape(-1,1)\n",
    "gamma1_v = (mu_v*A1a-B1a)/Delta1a\n",
    "lambda1_v = (C1a-mu_v*B1a)/Delta1a\n",
    "w1v = inv1a.dot(ones100.dot(lambda1_v.T)+z1a.dot(gamma1_v.T))\n",
    "\n",
    "port_ret_v = w1v.T.dot(z1a)\n",
    "port_std_v = (np.diag(w1v.T.dot(sigma1a).dot(w1v))**(1/2)).reshape(-1,1)\n",
    "\n",
    "ans1_v = pd.DataFrame(np.c_[port_ret_v, port_std_v],columns=['ret', 'std'])\n",
    "\n",
    "ans1_v.sort_values(['ret'],inplace=True)\n",
    "ans1_v.reset_index(drop=True,inplace=True)"
   ]
  },
  {
   "cell_type": "code",
   "execution_count": null,
   "id": "2e374669",
   "metadata": {},
   "outputs": [],
   "source": [
    "port_ret_v = w1v.T.dot(z1a)\n",
    "port_std_v = (np.diag(w1v.T.dot(sigma1a).dot(w1v))**(1/2)).reshape(-1,1)"
   ]
  },
  {
   "cell_type": "code",
   "execution_count": null,
   "id": "6260c4a2",
   "metadata": {},
   "outputs": [],
   "source": [
    "ans1_v = pd.DataFrame(np.c_[port_ret_v, port_std_v],columns=['ret', 'std'])"
   ]
  },
  {
   "cell_type": "code",
   "execution_count": null,
   "id": "2c1749fe",
   "metadata": {},
   "outputs": [],
   "source": [
    "ans1_v.sort_values(['ret'],inplace=True)\n",
    "ans1_v.reset_index(drop=True,inplace=True)"
   ]
  },
  {
   "cell_type": "code",
   "execution_count": null,
   "id": "bdee1923",
   "metadata": {},
   "outputs": [],
   "source": [
    "ans1_v[ans1_v['std']<0.05].set_index(['std']).plot()"
   ]
  },
  {
   "cell_type": "markdown",
   "id": "bbc13493",
   "metadata": {},
   "source": [
    "## 1.b."
   ]
  },
  {
   "cell_type": "code",
   "execution_count": null,
   "id": "2c48f72d",
   "metadata": {},
   "outputs": [],
   "source": [
    "mu_msp500"
   ]
  },
  {
   "cell_type": "code",
   "execution_count": null,
   "id": "bc8d8f2d",
   "metadata": {},
   "outputs": [],
   "source": [
    "w1b, mu1b, std1b = get_ans1a(mu_msp500, z1a, A1a, B1a, C1a, Delta1a, inv1a, sigma1a, ones100)"
   ]
  },
  {
   "cell_type": "code",
   "execution_count": null,
   "id": "5d068b74",
   "metadata": {},
   "outputs": [],
   "source": [
    "weights['w1b'] = w1b"
   ]
  },
  {
   "cell_type": "code",
   "execution_count": null,
   "id": "41bce5fc",
   "metadata": {},
   "outputs": [],
   "source": [
    "weights"
   ]
  },
  {
   "cell_type": "code",
   "execution_count": null,
   "id": "3500a482",
   "metadata": {},
   "outputs": [],
   "source": [
    "(weights.loc[[22592,59408,61241,14593,43449]].reset_index().set_index(['permno', 'ticker', 'comnam'])[['w1b']]*100).round(3)"
   ]
  },
  {
   "cell_type": "markdown",
   "id": "70bfbc8f",
   "metadata": {},
   "source": [
    "## 1.c. "
   ]
  },
  {
   "cell_type": "code",
   "execution_count": null,
   "id": "eee745b1",
   "metadata": {},
   "outputs": [],
   "source": [
    "ans1c = pd.DataFrame([[(mu1b-rf_all)*12*100, (mu_msp500-rf_all)*12*100],\n",
    "                      [std1b*np.sqrt(12)*100, std_msp500*np.sqrt(12)*100],\n",
    "                      [(mu1b-rf_all)/std1b*np.sqrt(12), (mu_msp500-rf_all)/std_msp500*np.sqrt(12)],\n",
    "                     ],\n",
    "                     columns=['Optimal Portfolio (Case 2)', 'S&P 500'],\n",
    "                     index=['Excess Return (%)',\n",
    "                            'Volatility (%)',\n",
    "                            'Sharpe Ratio',\n",
    "                           ],\n",
    "                    )"
   ]
  },
  {
   "cell_type": "code",
   "execution_count": null,
   "id": "9e6a5954",
   "metadata": {},
   "outputs": [],
   "source": [
    "ans1c[['S&P 500',\n",
    "       'Optimal Portfolio (Case 2)',\n",
    "      ]]"
   ]
  },
  {
   "cell_type": "markdown",
   "id": "b9bf1689",
   "metadata": {},
   "source": [
    "## 1.d."
   ]
  },
  {
   "cell_type": "code",
   "execution_count": null,
   "id": "e55ed21d",
   "metadata": {},
   "outputs": [],
   "source": [
    "msf['w1b'] = msf['permno'].map(weights['w1b'])\n",
    "msf['wret1b'] = msf['ret']*msf['w1b']"
   ]
  },
  {
   "cell_type": "code",
   "execution_count": null,
   "id": "22742ed7",
   "metadata": {},
   "outputs": [],
   "source": [
    "ans1d = msf.groupby(['mdate'])['wret1b'].sum()"
   ]
  },
  {
   "cell_type": "code",
   "execution_count": null,
   "id": "66e13b4d",
   "metadata": {},
   "outputs": [],
   "source": [
    "fig, ax = plt.subplots(1,1,figsize=(12,8))\n",
    "\n",
    "msp500.set_index(['mdate'])['spret'].add(1).cumprod().plot()\n",
    "ans1d.add(1).cumprod().plot()\n",
    "\n",
    "ax.legend(['S&P 500', \n",
    "           'Optimal Portfolio (Case 2)', ],)"
   ]
  },
  {
   "cell_type": "markdown",
   "id": "4234df1a",
   "metadata": {},
   "source": [
    "# 2."
   ]
  },
  {
   "cell_type": "markdown",
   "id": "669c5060",
   "metadata": {},
   "source": [
    "## 2.a."
   ]
  },
  {
   "cell_type": "code",
   "execution_count": null,
   "id": "4330c6fd",
   "metadata": {},
   "outputs": [],
   "source": [
    "def get_ans2a(mu_p,\n",
    "              z,A,B,C,rf,inv,sigma,ones,\n",
    "             ):\n",
    "    '''Calculate the closed-form solution of Case 2 for given target portfolio retun mu_p'''\n",
    "    \n",
    "    gamma2a = (mu_p-rf)/(C-2*rf*B+rf**2*A)\n",
    "    w2a = gamma2a*inv.dot(z-rf*ones)\n",
    "\n",
    "    mu2a = float(w2a.T.dot(z)[0][0]+(1-w2a.T.dot(ones)[0][0])*rf)\n",
    "    std2a = float(w2a.T.dot(sigma).dot(w2a)[0][0])**(1/2)\n",
    "    \n",
    "    return w2a, mu2a, std2a"
   ]
  },
  {
   "cell_type": "code",
   "execution_count": null,
   "id": "0cbd333e",
   "metadata": {},
   "outputs": [],
   "source": [
    "step = 0.001 # 10bp\n",
    "\n",
    "max_ret = 0.1\n",
    "\n",
    "list_ans2a = []\n",
    "\n",
    "for mu_p2a in list(np.arange(rf_all,max_ret+step,step))+[rf_all]:\n",
    "    _, mu2a, std2a = get_ans2a(mu_p2a, z1a, A1a,B1a,C1a,rf_all,inv1a,sigma1a,ones100,)\n",
    "    \n",
    "    tmp_ans2a = pd.DataFrame([[mu2a, std2a]],columns=['port_ret', 'port_std'])\n",
    "    \n",
    "    list_ans2a.append(tmp_ans2a)"
   ]
  },
  {
   "cell_type": "code",
   "execution_count": null,
   "id": "37b8f191",
   "metadata": {},
   "outputs": [],
   "source": [
    "ans2a = pd.concat(list_ans2a).reset_index(drop=True)\n",
    "ans2a.sort_values(['port_std', 'port_ret'],inplace=True)\n",
    "ans2a.reset_index(drop=True,inplace=True)"
   ]
  },
  {
   "cell_type": "code",
   "execution_count": null,
   "id": "1309dfa1",
   "metadata": {},
   "outputs": [],
   "source": [
    "fig, ax = plt.subplots(1,1,figsize=(12,8))\n",
    "\n",
    "ans1a.plot(x='port_std', y='port_ret', ax=ax, legend=False)\n",
    "ans2a.plot(x='port_std', y='port_ret', ax=ax, legend=False)\n",
    "\n",
    "ax.set_xlabel('Standard Deviation')\n",
    "ax.set_ylabel('Expected Return')\n",
    "\n",
    "ax.set_xlim(0,0.07)\n",
    "ax.set_ylim(-0.03,0.05)\n",
    "\n",
    "ax.set_xlim(0)\n",
    "\n",
    "slope = np.sqrt(C1a-2*rf_all*B1a+rf_all**2*A1a)\n",
    "\n",
    "rf_all\n",
    "\n",
    "slope*np.sqrt(12)\n",
    "\n",
    "tmp_x = np.linspace(0,0.07,101)\n",
    "# ax.plot(tmp_x,tmp_x*slope[0,0]+rf)\n",
    "\n",
    "ax.legend(['Case 2 (No RF)', 'Case 1 (Yes RF)'],frameon=False,loc='upper left')"
   ]
  },
  {
   "cell_type": "markdown",
   "id": "1d5fa336",
   "metadata": {},
   "source": [
    "## 2.b."
   ]
  },
  {
   "cell_type": "code",
   "execution_count": null,
   "id": "0c68be19",
   "metadata": {},
   "outputs": [],
   "source": [
    "w2b, mu2b, std2b = get_ans2a(mu_msp500, z1a, A1a,B1a,C1a,rf_all,inv1a,sigma1a,ones100,)"
   ]
  },
  {
   "cell_type": "code",
   "execution_count": null,
   "id": "44fe5d0d",
   "metadata": {},
   "outputs": [],
   "source": [
    "weights['w2b'] = w2b"
   ]
  },
  {
   "cell_type": "code",
   "execution_count": null,
   "id": "d77bb691",
   "metadata": {},
   "outputs": [],
   "source": [
    "(weights.loc[[22592,59408,61241,14593,43449]].reset_index().set_index(['permno', 'ticker', 'comnam'])[['w2b']]*100).round(3)"
   ]
  },
  {
   "cell_type": "markdown",
   "id": "42df375d",
   "metadata": {},
   "source": [
    "## 2.c."
   ]
  },
  {
   "cell_type": "code",
   "execution_count": null,
   "id": "d216c818",
   "metadata": {},
   "outputs": [],
   "source": [
    "ans2c = pd.DataFrame([[(mu2b-rf_all)*12*100],\n",
    "                      [std2b*np.sqrt(12)*100],\n",
    "                      [(mu2b-rf_all)/std2b*np.sqrt(12)],\n",
    "                     ],\n",
    "                     columns=['Optimal Portfolio (Case 1)'],\n",
    "                     index=['Excess Return (%)',\n",
    "                            'Volatility (%)',\n",
    "                            'Sharpe Ratio',\n",
    "                           ],\n",
    "                    )\n",
    "ans_summary_stat = ans1c.copy()\n",
    "ans_summary_stat['Optimal Portfolio (Case 1)'] = ans2c['Optimal Portfolio (Case 1)']"
   ]
  },
  {
   "cell_type": "code",
   "execution_count": null,
   "id": "ab823a9a",
   "metadata": {},
   "outputs": [],
   "source": [
    "ans_summary_stat[['S&P 500',\n",
    "                  'Optimal Portfolio (Case 1)', \n",
    "                  'Optimal Portfolio (Case 2)'\n",
    "                  ]]"
   ]
  },
  {
   "cell_type": "markdown",
   "id": "eb67f764",
   "metadata": {},
   "source": [
    "## 2.d."
   ]
  },
  {
   "cell_type": "code",
   "execution_count": null,
   "id": "34f69485",
   "metadata": {},
   "outputs": [],
   "source": [
    "msf['w2b'] = msf['permno'].map(weights['w2b'])\n",
    "msf['wret2b'] = msf['ret']*msf['w2b']"
   ]
  },
  {
   "cell_type": "markdown",
   "id": "224cfbe5",
   "metadata": {},
   "source": [
    "$r_p = w\\cdot r_{risky}+(1-w)\\cdot r_f$"
   ]
  },
  {
   "cell_type": "code",
   "execution_count": null,
   "id": "5be60272",
   "metadata": {},
   "outputs": [],
   "source": [
    "1-weights['w2b'].sum(0)"
   ]
  },
  {
   "cell_type": "code",
   "execution_count": null,
   "id": "9802a548",
   "metadata": {},
   "outputs": [],
   "source": [
    "ans2d = msf.groupby(['mdate'])['wret2b'].sum()+(1-msf.groupby(['mdate'])['w2b'].sum())*msp500.set_index(['mdate'])['rf']"
   ]
  },
  {
   "cell_type": "code",
   "execution_count": null,
   "id": "00ed8ba3",
   "metadata": {},
   "outputs": [],
   "source": [
    "fig, ax = plt.subplots(1,1,figsize=(12,8))\n",
    "\n",
    "msp500.set_index(['mdate'])['spret'].add(1).cumprod().plot()\n",
    "ans2d.add(1).cumprod().plot()\n",
    "ans1d.add(1).cumprod().plot()\n",
    "\n",
    "ax.legend(['S&P 500', \n",
    "           'Optimal Portfolio (Case 1)', \n",
    "           'Optimal Portfolio (Case 2)',\n",
    "          ],)"
   ]
  },
  {
   "cell_type": "markdown",
   "id": "2805821d",
   "metadata": {},
   "source": [
    "# 3."
   ]
  },
  {
   "cell_type": "markdown",
   "id": "5539e302",
   "metadata": {},
   "source": [
    "## 3.a."
   ]
  },
  {
   "cell_type": "code",
   "execution_count": null,
   "id": "0f31f9b8",
   "metadata": {},
   "outputs": [],
   "source": [
    "min_vol = 0\n",
    "max_vol = 0.2\n",
    "\n",
    "step2 = 0.0005"
   ]
  },
  {
   "cell_type": "markdown",
   "id": "fedec4ad",
   "metadata": {},
   "source": [
    "- w: [rf, r_1, r_2, ..., r_n]\n",
    "\n",
    "- w[0] : weight on the risk-free\n",
    "\n",
    "- w[1:] : weights on the risky"
   ]
  },
  {
   "cell_type": "code",
   "execution_count": null,
   "id": "102985da",
   "metadata": {},
   "outputs": [],
   "source": [
    "def minimizing_vol(w):\n",
    "    port_vol = w[1:].T.dot(sigma1a).dot(w[1:])\n",
    "    return port_vol"
   ]
  },
  {
   "cell_type": "code",
   "execution_count": null,
   "id": "e9ae149d",
   "metadata": {},
   "outputs": [],
   "source": [
    "def constraint_weight_sum(w):\n",
    "    return sum(w)-1\n",
    "\n",
    "def constraint_target_ret(target_port_ret):\n",
    "    def constraint_target_ret_(w):\n",
    "        ret_diff = w[1:].T.dot(z1a)+w[0]*rf_all-target_port_ret\n",
    "        return ret_diff\n",
    "    return constraint_target_ret_"
   ]
  },
  {
   "cell_type": "code",
   "execution_count": null,
   "id": "e4201df4",
   "metadata": {},
   "outputs": [],
   "source": [
    "eq_con_sum_w = {'type': 'eq', 'fun': constraint_weight_sum}"
   ]
  },
  {
   "cell_type": "code",
   "execution_count": null,
   "id": "fd4bd20f",
   "metadata": {},
   "outputs": [],
   "source": [
    "b0 = (None,None) ## no constraint for lending/borrowing\n",
    "b = (0,None) ## risky asset should not be shorted. None means there is no upper bound. Greater than 1 means borrowed money is invested in some stocks\n",
    "\n",
    "bnds = [b0]+[b for i in range(nfirms)]"
   ]
  },
  {
   "cell_type": "code",
   "execution_count": null,
   "id": "443e8dbb",
   "metadata": {},
   "outputs": [],
   "source": [
    "nassets = nfirms+1\n",
    "\n",
    "w0 = list((np.ones([nassets,1])/nassets).reshape(-1))"
   ]
  },
  {
   "cell_type": "code",
   "execution_count": null,
   "id": "1b690fbf",
   "metadata": {},
   "outputs": [],
   "source": [
    "list_ans3a = []\n",
    "\n",
    "for mu_p3a in tqdm(np.linspace(rf_all,max_ret,201)):\n",
    "    \n",
    "    eq_con_target_ret = {'type': 'eq', 'fun': constraint_target_ret(mu_p3a)}\n",
    "    cons = [eq_con_sum_w]+[eq_con_target_ret]\n",
    "    \n",
    "    sol3a = minimize(minimizing_vol, \n",
    "                     w0,\n",
    "                     method='SLSQP', \n",
    "                     constraints=cons, \n",
    "                     bounds=bnds,\n",
    "                     options={'maxiter':10000},\n",
    "                     tol=1e-12\n",
    "                    )\n",
    "    if not sol3a.success:\n",
    "        print('Fail to converge')\n",
    "        \n",
    "    w3a = sol3a.x\n",
    "    mu3a = (w3a[0]*rf_all+w3a[1:].dot(z1a))[0]\n",
    "    std3a = (w3a[1:].T.dot(sigma1a).dot(w3a[1:]))**(1/2)\n",
    "    \n",
    "    tmp_ans3a = pd.DataFrame([[mu3a, std3a]],columns=['port_ret', 'port_std'])\n",
    "    \n",
    "    list_ans3a.append(tmp_ans3a)"
   ]
  },
  {
   "cell_type": "code",
   "execution_count": null,
   "id": "9ca0ac3c",
   "metadata": {},
   "outputs": [],
   "source": [
    "ans3a = pd.concat(list_ans3a).reset_index(drop=True)\n",
    "ans3a.sort_values(['port_std'],inplace=True)\n",
    "ans3a.sort_values(['port_ret'],inplace=True)"
   ]
  },
  {
   "cell_type": "code",
   "execution_count": null,
   "id": "8e42c901",
   "metadata": {},
   "outputs": [],
   "source": [
    "ans3a.to_csv('ans3a.csv')"
   ]
  },
  {
   "cell_type": "code",
   "execution_count": null,
   "id": "1c09e3c3",
   "metadata": {},
   "outputs": [],
   "source": [
    "fig, ax = plt.subplots(1,1,figsize=(12,8))\n",
    "\n",
    "ans1a.plot(x='port_std', y='port_ret', ax=ax, legend=False)\n",
    "ans2a.plot(x='port_std', y='port_ret', ax=ax, legend=False)\n",
    "ans3a.plot(x='port_std',y='port_ret',ax=ax,legend=False)\n",
    "\n",
    "ax.set_xlim(0,0.07)\n",
    "ax.set_ylim(-0.03,0.05)\n",
    "\n",
    "ax.set_xlabel('Standard Deviation')\n",
    "ax.set_ylabel('Expected Return')\n",
    "\n",
    "ax.legend(['Case 2', 'Case 1', 'Case 3'])"
   ]
  },
  {
   "cell_type": "markdown",
   "id": "fa52219b",
   "metadata": {},
   "source": [
    "## 3.b."
   ]
  },
  {
   "cell_type": "code",
   "execution_count": null,
   "id": "1e88d0f0",
   "metadata": {},
   "outputs": [],
   "source": [
    "eq_con_target_ret = {'type': 'eq', 'fun': constraint_target_ret(mu_msp500)}\n",
    "cons = [eq_con_sum_w]+[eq_con_target_ret]\n",
    "\n",
    "sol3b = minimize(minimizing_vol, \n",
    "                 w0,\n",
    "                 method='SLSQP', \n",
    "                 constraints=cons, \n",
    "                 bounds=bnds,\n",
    "                 options={'maxiter':10000},\n",
    "                 tol=1e-12\n",
    "                )\n",
    "if not sol3b.success:\n",
    "    print('Fail to converge')\n",
    "\n",
    "w3b = sol3b.x\n",
    "mu3b = (w3b[0]*rf_all+w3b[1:].dot(z1a))[0]\n",
    "std3b = (w3b[1:].T.dot(sigma1a).dot(w3b[1:]))**(1/2)"
   ]
  },
  {
   "cell_type": "code",
   "execution_count": null,
   "id": "fa1fbbb4",
   "metadata": {},
   "outputs": [],
   "source": [
    "weights['w3b'] = w3b[1:]"
   ]
  },
  {
   "cell_type": "code",
   "execution_count": null,
   "id": "c9a04e3c",
   "metadata": {},
   "outputs": [],
   "source": [
    "1-weights['w3b'].sum(0)"
   ]
  },
  {
   "cell_type": "code",
   "execution_count": null,
   "id": "ceac4755",
   "metadata": {},
   "outputs": [],
   "source": [
    "(weights.loc[[22592,59408,61241,14593,43449]].reset_index().set_index(['permno', 'ticker', 'comnam'])[['w3b']]*100).round(3)"
   ]
  },
  {
   "cell_type": "markdown",
   "id": "75fd87e9",
   "metadata": {},
   "source": [
    "## 3.c."
   ]
  },
  {
   "cell_type": "code",
   "execution_count": null,
   "id": "94703452",
   "metadata": {},
   "outputs": [],
   "source": [
    "ans3c = pd.DataFrame([[(mu3b-rf_all)*12*100],\n",
    "                      [std3b*np.sqrt(12)*100],\n",
    "                      [(mu3b-rf_all)/std3b*np.sqrt(12)],\n",
    "                     ],\n",
    "                     columns=['Optimal Portfolio (Case 3)'],\n",
    "                     index=['Excess Return (%)',\n",
    "                            'Volatility (%)',\n",
    "                            'Sharpe Ratio',\n",
    "                           ],\n",
    "                    )\n",
    "\n",
    "ans_summary_stat['Optimal Portfolio (Case 3)'] = ans3c['Optimal Portfolio (Case 3)']"
   ]
  },
  {
   "cell_type": "code",
   "execution_count": null,
   "id": "deeb5bd1",
   "metadata": {},
   "outputs": [],
   "source": [
    "ans_summary_stat[['S&P 500',\n",
    "                  'Optimal Portfolio (Case 2)', \n",
    "                  'Optimal Portfolio (Case 1)', \n",
    "                  'Optimal Portfolio (Case 3)', \n",
    "                  ]]"
   ]
  },
  {
   "cell_type": "markdown",
   "id": "ec799066",
   "metadata": {},
   "source": [
    "## 3.d."
   ]
  },
  {
   "cell_type": "code",
   "execution_count": null,
   "id": "afe4daf1",
   "metadata": {},
   "outputs": [],
   "source": [
    "msf['w3b'] = msf['permno'].map(weights['w3b'])\n",
    "msf['wret3b'] = msf['ret']*msf['w3b']"
   ]
  },
  {
   "cell_type": "markdown",
   "id": "d6867e9a",
   "metadata": {},
   "source": [
    "$r_p = w\\cdot r_{risky}+(1-w)\\cdot r_f$"
   ]
  },
  {
   "cell_type": "code",
   "execution_count": null,
   "id": "30221c5e",
   "metadata": {},
   "outputs": [],
   "source": [
    "ans3d = msf.groupby(['mdate'])['wret3b'].sum()+(1-msf.groupby(['mdate'])['w3b'].sum())*msp500.set_index(['mdate'])['rf']"
   ]
  },
  {
   "cell_type": "code",
   "execution_count": null,
   "id": "1b68b8fa",
   "metadata": {},
   "outputs": [],
   "source": [
    "fig, ax = plt.subplots(1,1,figsize=(12,8))\n",
    "\n",
    "msp500.set_index(['mdate'])['spret'].add(1).cumprod().plot()\n",
    "ans1d.add(1).cumprod().plot()\n",
    "ans2d.add(1).cumprod().plot()\n",
    "ans3d.add(1).cumprod().plot()\n",
    "\n",
    "ax.legend(['S&P 500',\n",
    "           'Optimal Portfolio (Case 2)', \n",
    "           'Optimal Portfolio (Case 1)', \n",
    "           'Optimal Portfolio (Case 3)', \n",
    "          ],)"
   ]
  },
  {
   "cell_type": "markdown",
   "id": "c046801e",
   "metadata": {},
   "source": [
    "# 4."
   ]
  },
  {
   "cell_type": "markdown",
   "id": "4629b2aa",
   "metadata": {},
   "source": [
    "## 4.a."
   ]
  },
  {
   "cell_type": "code",
   "execution_count": null,
   "id": "ea468c39",
   "metadata": {},
   "outputs": [],
   "source": [
    "def minimizing_vol_no_rf(w):\n",
    "    port_vol = w.T.dot(sigma1a).dot(w)\n",
    "    return port_vol\n",
    "\n",
    "def constraint_target_ret_no_rf(port_ret):\n",
    "    def constraint_target_ret_(w):\n",
    "        ret_diff = w.T.dot(z1a)-port_ret\n",
    "        return ret_diff\n",
    "    return constraint_target_ret_"
   ]
  },
  {
   "cell_type": "code",
   "execution_count": null,
   "id": "7c9e347d",
   "metadata": {},
   "outputs": [],
   "source": [
    "eq_con_sum_w4a = {'type': 'eq', 'fun': constraint_weight_sum}"
   ]
  },
  {
   "cell_type": "code",
   "execution_count": null,
   "id": "b67280ff",
   "metadata": {},
   "outputs": [],
   "source": [
    "b4a = (0,1) ## risky asset should not be shorted. There is no lending from risk-free\n",
    "\n",
    "bnds4a = [b4a for i in range(nfirms)]"
   ]
  },
  {
   "cell_type": "code",
   "execution_count": null,
   "id": "7978bdf3",
   "metadata": {},
   "outputs": [],
   "source": [
    "w04a = list((np.ones([nfirms,1])/nfirms).reshape(-1))"
   ]
  },
  {
   "cell_type": "code",
   "execution_count": null,
   "id": "55ff4d43",
   "metadata": {},
   "outputs": [],
   "source": [
    "list_ans4a = []\n",
    "\n",
    "min_vol = 0\n",
    "max_vol = 0.2\n",
    "\n",
    "step2 = 0.0005\n",
    "\n",
    "## Since we cannot short or borrowing from risk-free, the portfolio return should be between the minimum and maximum of the returns\n",
    "for mu_p4a in tqdm(np.linspace(min(z1a),max(z1a),201)):\n",
    "    \n",
    "    eq_con_target_ret_no_rf = {'type': 'eq', 'fun': constraint_target_ret_no_rf(mu_p4a)}\n",
    "    cons4a = [eq_con_sum_w4a]+[eq_con_target_ret_no_rf]\n",
    "    \n",
    "    sol4a = minimize(minimizing_vol_no_rf, \n",
    "                     w04a, \n",
    "                     method='SLSQP', \n",
    "                     constraints=cons4a, \n",
    "                     bounds=bnds4a,\n",
    "                     tol=1e-12,\n",
    "                     options={'maxiter':10000}\n",
    "                    )\n",
    "    \n",
    "    if not sol4a.success:\n",
    "        print('Fail to converge')\n",
    "        \n",
    "    w4a = sol4a.x\n",
    "    mu4a = (w4a.dot(z1a))[0]\n",
    "    std4a = (w4a.T.dot(sigma1a).dot(w4a))**(1/2)\n",
    "    \n",
    "    tmp_ans4a = pd.DataFrame([[mu4a, std4a]],columns=['port_ret', 'port_std'])\n",
    "    \n",
    "    list_ans4a.append(tmp_ans4a)"
   ]
  },
  {
   "cell_type": "code",
   "execution_count": null,
   "id": "c0073b1c",
   "metadata": {},
   "outputs": [],
   "source": [
    "ans4a = pd.concat(list_ans4a).reset_index(drop=True)\n",
    "ans4a.sort_values(['port_ret'],inplace=True)"
   ]
  },
  {
   "cell_type": "code",
   "execution_count": null,
   "id": "f1020746",
   "metadata": {},
   "outputs": [],
   "source": [
    "ans4a.to_csv('ans4a.csv')"
   ]
  },
  {
   "cell_type": "code",
   "execution_count": null,
   "id": "cd69cb73",
   "metadata": {},
   "outputs": [],
   "source": [
    "fig, ax = plt.subplots(1,1,figsize=(12,8))\n",
    "\n",
    "ans1a.plot(x='port_std',y='port_ret',ax=ax,legend=False)\n",
    "ans2a.plot(x='port_std',y='port_ret',ax=ax,legend=False)\n",
    "ans3a.plot(x='port_std',y='port_ret',ax=ax,legend=False)\n",
    "ans4a.plot(x='port_std',y='port_ret',ax=ax,legend=False)\n",
    "\n",
    "ax.set_xlim(0,)\n",
    "ax.set_ylim(-0.03,0.05)\n",
    "\n",
    "ax.set_xlabel('Standard Deviation')\n",
    "ax.set_ylabel('Expected Return')\n",
    "\n",
    "ax.legend(['Case 2', 'Case 1', 'Case 3', 'Case 4'])"
   ]
  },
  {
   "cell_type": "markdown",
   "id": "b9e78d7e",
   "metadata": {},
   "source": [
    "## 4.b."
   ]
  },
  {
   "cell_type": "code",
   "execution_count": null,
   "id": "1d56b91e",
   "metadata": {},
   "outputs": [],
   "source": [
    "eq_con_target_ret_no_rf4b = {'type': 'eq', 'fun': constraint_target_ret_no_rf(mu_msp500)}\n",
    "cons4b = [eq_con_sum_w4a]+[eq_con_target_ret_no_rf4b]\n",
    "\n",
    "sol4b = minimize(minimizing_vol_no_rf, \n",
    "                 w04a,\n",
    "                 method='SLSQP', \n",
    "                 constraints=cons4b, \n",
    "                 bounds=bnds4a,\n",
    "                 tol=1e-12,\n",
    "                 options={'maxiter':10000}\n",
    "                )\n",
    "if not sol4b.success:\n",
    "    print('Fail to converge')\n",
    "\n",
    "w4b = sol4b.x\n",
    "mu4b = (w4b.dot(z1a))[0]\n",
    "std4b = (w4b.T.dot(sigma1a).dot(w4b))**(1/2)"
   ]
  },
  {
   "cell_type": "code",
   "execution_count": null,
   "id": "44eedea5",
   "metadata": {},
   "outputs": [],
   "source": [
    "weights['w4b'] = w4b"
   ]
  },
  {
   "cell_type": "code",
   "execution_count": null,
   "id": "cd870448",
   "metadata": {},
   "outputs": [],
   "source": [
    "(weights.loc[[22592,59408,61241,14593,43449]].reset_index().set_index(['permno', 'ticker', 'comnam'])[['w4b']]*100)"
   ]
  },
  {
   "cell_type": "markdown",
   "id": "a434db70",
   "metadata": {},
   "source": [
    "## 4.c."
   ]
  },
  {
   "cell_type": "code",
   "execution_count": null,
   "id": "76ba4e80",
   "metadata": {},
   "outputs": [],
   "source": [
    "ans4c = pd.DataFrame([[(mu4b-rf_all)*12*100],\n",
    "                      [std4b*np.sqrt(12)*100],\n",
    "                      [(mu4b-rf_all)/std4b*np.sqrt(12)],\n",
    "                     ],\n",
    "                     columns=['Optimal Portfolio (Case 4)'],\n",
    "                     index=['Excess Return (%)',\n",
    "                            'Volatility (%)',\n",
    "                            'Sharpe Ratio',\n",
    "                           ],\n",
    "                    )\n",
    "\n",
    "ans_summary_stat['Optimal Portfolio (Case 4)'] = ans4c['Optimal Portfolio (Case 4)']"
   ]
  },
  {
   "cell_type": "code",
   "execution_count": null,
   "id": "9cc88394",
   "metadata": {},
   "outputs": [],
   "source": [
    "ans_summary_stat[['S&P 500',\n",
    "                  'Optimal Portfolio (Case 2)', \n",
    "                  'Optimal Portfolio (Case 1)', \n",
    "                  'Optimal Portfolio (Case 3)', \n",
    "                  'Optimal Portfolio (Case 4)', \n",
    "                  ]]"
   ]
  },
  {
   "cell_type": "markdown",
   "id": "7c527246",
   "metadata": {},
   "source": [
    "## 4.d."
   ]
  },
  {
   "cell_type": "code",
   "execution_count": null,
   "id": "806ce4d1",
   "metadata": {},
   "outputs": [],
   "source": [
    "msf['w4b'] = msf['permno'].map(weights['w4b'])\n",
    "msf['wret4b'] = msf['ret']*msf['w4b']"
   ]
  },
  {
   "cell_type": "code",
   "execution_count": null,
   "id": "82a36692",
   "metadata": {},
   "outputs": [],
   "source": [
    "ans4d = msf.groupby(['mdate'])['wret4b'].sum()"
   ]
  },
  {
   "cell_type": "code",
   "execution_count": null,
   "id": "de66a6be",
   "metadata": {},
   "outputs": [],
   "source": [
    "fig, ax = plt.subplots(1,1,figsize=(12,8))\n",
    "\n",
    "msp500.set_index(['mdate'])['spret'].add(1).cumprod().plot()\n",
    "\n",
    "ans1d.add(1).cumprod().plot()\n",
    "ans2d.add(1).cumprod().plot()\n",
    "ans3d.add(1).cumprod().plot()\n",
    "ans4d.add(1).cumprod().plot()\n",
    "\n",
    "\n",
    "ax.legend(['S&P 500',\n",
    "           'Optimal Portfolio (Case 2)', \n",
    "           'Optimal Portfolio (Case 1)', \n",
    "           'Optimal Portfolio (Case 3)', \n",
    "           'Optimal Portfolio (Case 4)', \n",
    "          ],)"
   ]
  },
  {
   "cell_type": "code",
   "execution_count": null,
   "id": "740e328c",
   "metadata": {},
   "outputs": [],
   "source": [
    "fig, ax = plt.subplots(1,1,figsize=(12,8))\n",
    "\n",
    "msp500.set_index(['mdate'])['spret'].apply(lambda x: np.log(1+x)).cumsum().plot()\n",
    "\n",
    "ans1d.apply(lambda x: np.log(1+x)).cumsum().plot()\n",
    "ans2d.apply(lambda x: np.log(1+x)).cumsum().plot()\n",
    "ans3d.apply(lambda x: np.log(1+x)).cumsum().plot()\n",
    "ans4d.apply(lambda x: np.log(1+x)).cumsum().plot()\n",
    "\n",
    "\n",
    "ax.legend(['S&P 500',\n",
    "           'Optimal Portfolio (Case 2)', \n",
    "           'Optimal Portfolio (Case 1)', \n",
    "           'Optimal Portfolio (Case 3)', \n",
    "           'Optimal Portfolio (Case 4)', \n",
    "          ],)"
   ]
  },
  {
   "cell_type": "code",
   "execution_count": null,
   "id": "b4d5331e",
   "metadata": {},
   "outputs": [],
   "source": [
    "weights[['ticker','w1b', 'w2b', 'w3b', 'w4b']].to_excel('Weights.xlsx')"
   ]
  },
  {
   "cell_type": "markdown",
   "id": "07c18328",
   "metadata": {},
   "source": [
    "# 5."
   ]
  },
  {
   "cell_type": "markdown",
   "id": "594a0803",
   "metadata": {},
   "source": [
    "## 5.a."
   ]
  },
  {
   "cell_type": "markdown",
   "id": "3cd41df6",
   "metadata": {},
   "source": [
    "## Randomly select 10 stocks."
   ]
  },
  {
   "cell_type": "code",
   "execution_count": null,
   "id": "46b15aba",
   "metadata": {},
   "outputs": [],
   "source": [
    "np.random.seed(0)\n",
    "random_stocks_index = np.random.choice(100,10,replace=False)"
   ]
  },
  {
   "cell_type": "code",
   "execution_count": null,
   "id": "fe033a9e",
   "metadata": {},
   "outputs": [],
   "source": [
    "random_stocks_index"
   ]
  },
  {
   "cell_type": "code",
   "execution_count": null,
   "id": "77ef0298",
   "metadata": {},
   "outputs": [],
   "source": [
    "random_stocks = weights.iloc[random_stocks_index]"
   ]
  },
  {
   "cell_type": "code",
   "execution_count": null,
   "id": "fef53e83",
   "metadata": {},
   "outputs": [],
   "source": [
    "random_stocks"
   ]
  },
  {
   "cell_type": "code",
   "execution_count": null,
   "id": "b0a010d0",
   "metadata": {},
   "outputs": [],
   "source": [
    "msf5a = msf[msf['permno'].apply(lambda x: x in random_stocks.index)].copy()"
   ]
  },
  {
   "cell_type": "code",
   "execution_count": null,
   "id": "6e4f20bc",
   "metadata": {},
   "outputs": [],
   "source": [
    "z5a = msf5a.groupby(['permno'])['ret'].mean().values.reshape(-1,1)"
   ]
  },
  {
   "cell_type": "markdown",
   "id": "e420c26a",
   "metadata": {},
   "source": [
    "### Covariance matrix"
   ]
  },
  {
   "cell_type": "code",
   "execution_count": null,
   "id": "b157c0c9",
   "metadata": {},
   "outputs": [],
   "source": [
    "sigma5a, inv5a = get_cov_inv(msf5a)"
   ]
  },
  {
   "cell_type": "markdown",
   "id": "c9f05e17",
   "metadata": {},
   "source": [
    "### Vector of ones"
   ]
  },
  {
   "cell_type": "code",
   "execution_count": null,
   "id": "0d7fe033",
   "metadata": {},
   "outputs": [],
   "source": [
    "nfirms5a = len(msf5a['permno'].unique())\n",
    "ones5a = np.ones((nfirms5a,1))"
   ]
  },
  {
   "cell_type": "code",
   "execution_count": null,
   "id": "0469c70e",
   "metadata": {},
   "outputs": [],
   "source": [
    "A5a, B5a, C5a, Delta5a = get_parameters(ones5a, inv5a, z5a)"
   ]
  },
  {
   "cell_type": "code",
   "execution_count": null,
   "id": "dff2c92f",
   "metadata": {},
   "outputs": [],
   "source": [
    "step = 0.001 # 10bp\n",
    "\n",
    "min_ret = -0.1 # multiply 100 to get a percent unit.\n",
    "max_ret = 0.1\n",
    "\n",
    "list_ans5a_case2 = []\n",
    "list_ans5a_case1 = []\n",
    "for mu_p in np.arange(min_ret,max_ret+step,step):\n",
    "    \n",
    "    _, mu_port5a_case2, std_port5a_case2 = get_ans1a(mu_p, z5a, A5a, B5a, C5a, Delta5a, inv5a, sigma5a,ones5a)\n",
    "    tmp_ans5a_case2 = pd.DataFrame([[mu_port5a_case2, std_port5a_case2]],columns=['port_ret', 'port_std'])\n",
    "    list_ans5a_case2.append(tmp_ans5a_case2)\n",
    "    \n",
    "for mu_p in np.arange(rf_all,max_ret+step,step):\n",
    "    \n",
    "    _, mu_port5a_case1, std_port5a_case1 = get_ans2a(mu_p, z5a, A5a,B5a,C5a,rf_all,inv5a,sigma5a,ones5a,)\n",
    "    tmp_ans5a_case1 = pd.DataFrame([[mu_port5a_case1, std_port5a_case1]],columns=['port_ret', 'port_std'])\n",
    "    list_ans5a_case1.append(tmp_ans5a_case1)"
   ]
  },
  {
   "cell_type": "code",
   "execution_count": null,
   "id": "a381991f",
   "metadata": {},
   "outputs": [],
   "source": [
    "ans5a_case2 = pd.concat(list_ans5a_case2).reset_index(drop=True)\n",
    "ans5a_case2.sort_values(['port_ret'],inplace=True)\n",
    "ans5a_case2.reset_index(drop=True,inplace=True)\n",
    "\n",
    "ans5a_case1 = pd.concat(list_ans5a_case1).reset_index(drop=True)\n",
    "ans5a_case1.sort_values(['port_ret'],inplace=True)\n",
    "ans5a_case1.reset_index(drop=True,inplace=True)"
   ]
  },
  {
   "cell_type": "code",
   "execution_count": null,
   "id": "fb4640b4",
   "metadata": {},
   "outputs": [],
   "source": [
    "## fig\n",
    "\n",
    "fig, ax = plt.subplots(1,1,figsize=(12,8))\n",
    "\n",
    "ans1a.plot(x='port_std', y='port_ret', ax=ax, legend=False)\n",
    "ans2a.plot(x='port_std', y='port_ret', ax=ax, legend=False)\n",
    "\n",
    "ans5a_case2.plot(x='port_std', y='port_ret', ax=ax, legend=False)\n",
    "ans5a_case1.plot(x='port_std', y='port_ret', ax=ax, legend=False)\n",
    "\n",
    "ax.set_xlabel('Standard Deviation')\n",
    "ax.set_ylabel('Expected Return')\n",
    "\n",
    "ax.set_xlim(0,0.10)\n",
    "ax.set_ylim(-0.03,0.05)\n",
    "\n",
    "ax.set_xlim(0)\n",
    "\n",
    "w_gmvp5a = inv5a.dot(ones5a)/(ones5a.T.dot(inv5a).dot(ones5a))\n",
    "w_gmvp5a.sum()\n",
    "\n",
    "mu_gmvp5a = w_gmvp5a.T.dot(z5a)\n",
    "std_gmvp5a = (w_gmvp5a.T.dot(sigma5a).dot(w_gmvp5a))**(0.5)\n",
    "\n",
    "ax.plot(std_gmvp, mu_gmvp, 'o',color='black')\n",
    "ax.text(std_gmvp, mu_gmvp, 'GMVP 1.a.',ha='right')\n",
    "\n",
    "ax.plot(std_gmvp5a, mu_gmvp5a, 'o',color='black')\n",
    "ax.text(std_gmvp5a, mu_gmvp5a, 'GMVP 5.a.',ha='right', va='top')\n",
    "\n",
    "\n",
    "ax.set_xlabel('Standard Deviation')\n",
    "ax.set_ylabel('Expected Return')\n",
    "\n",
    "ax.set_xlim(0,0.10)\n",
    "ax.set_ylim(-0.03,0.05)\n",
    "\n",
    "ax.set_xlim(0)\n",
    "\n",
    "w_gmvp5a = inv5a.dot(ones5a)/(ones5a.T.dot(inv5a).dot(ones5a))\n",
    "w_gmvp5a.sum()\n",
    "\n",
    "mu_gmvp5a = w_gmvp5a.T.dot(z5a)\n",
    "std_gmvp5a = (w_gmvp5a.T.dot(sigma5a).dot(w_gmvp5a))**(0.5)\n",
    "\n",
    "ax.legend(['1.a. Case 2, 100 Stocks', \n",
    "           '1.b. Case 1, 100 Stocks', \n",
    "           '5.a. Case 2, 10 Stocks',\n",
    "           '5.a. Case 1, 10 Stocks'\n",
    "          ])"
   ]
  },
  {
   "cell_type": "markdown",
   "id": "2b9ab23f",
   "metadata": {},
   "source": [
    "## Sharpe"
   ]
  },
  {
   "cell_type": "code",
   "execution_count": null,
   "id": "33f009ed",
   "metadata": {},
   "outputs": [],
   "source": [
    "_, mu5a_case2, std5a_case2 = get_ans1a(mu_msp500, z5a, A5a, B5a, C5a, Delta5a, inv5a, sigma5a,ones5a)"
   ]
  },
  {
   "cell_type": "code",
   "execution_count": null,
   "id": "0d6a57d9",
   "metadata": {},
   "outputs": [],
   "source": [
    "_, mu5a_case1, std5a_case1 = get_ans2a(mu_msp500, z5a, A5a,B5a,C5a,rf_all,inv5a,sigma5a,ones5a,)"
   ]
  },
  {
   "cell_type": "code",
   "execution_count": null,
   "id": "1f7e7067",
   "metadata": {},
   "outputs": [],
   "source": [
    "ans5a_sharpe_case2 = pd.DataFrame([[(mu5a_case2-rf_all)*12*100],\n",
    "                             [std5a_case2*np.sqrt(12)*100],\n",
    "                             [(mu5a_case2-rf_all)/std5a_case2*np.sqrt(12)],\n",
    "                            ],\n",
    "                            columns=['Optimal Portfolio (Case 2), 10 Stocks'],\n",
    "                            index=['Excess Return (%)',\n",
    "                                   'Volatility (%)',\n",
    "                                   'Sharpe Ratio',\n",
    "                                  ],\n",
    "                           )"
   ]
  },
  {
   "cell_type": "code",
   "execution_count": null,
   "id": "cdc66697",
   "metadata": {},
   "outputs": [],
   "source": [
    "ans5a_sharpe_case1 = pd.DataFrame([[(mu5a_case1-rf_all)*12*100],\n",
    "                             [std5a_case1*np.sqrt(12)*100],\n",
    "                             [(mu5a_case1-rf_all)/std5a_case1*np.sqrt(12)],\n",
    "                            ],\n",
    "                            columns=['Optimal Portfolio (Case 1), 10 Stocks'],\n",
    "                            index=['Excess Return (%)',\n",
    "                                   'Volatility (%)',\n",
    "                                   'Sharpe Ratio',\n",
    "                                  ],\n",
    "                           )"
   ]
  },
  {
   "cell_type": "code",
   "execution_count": null,
   "id": "3a8c7d0e",
   "metadata": {},
   "outputs": [],
   "source": [
    "ans_summary_stat['Optimal Portfolio (Case 2), 10 Stocks'] = ans5a_sharpe_case2['Optimal Portfolio (Case 2), 10 Stocks']"
   ]
  },
  {
   "cell_type": "code",
   "execution_count": null,
   "id": "5033f0b7",
   "metadata": {},
   "outputs": [],
   "source": [
    "ans_summary_stat['Optimal Portfolio (Case 1), 10 Stocks'] = ans5a_sharpe_case1['Optimal Portfolio (Case 1), 10 Stocks']"
   ]
  },
  {
   "cell_type": "code",
   "execution_count": null,
   "id": "75d5be88",
   "metadata": {},
   "outputs": [],
   "source": [
    "ans_summary_stat[['S&P 500',\n",
    "                  'Optimal Portfolio (Case 2)', 'Optimal Portfolio (Case 2), 10 Stocks', \n",
    "                  'Optimal Portfolio (Case 1)', 'Optimal Portfolio (Case 1), 10 Stocks', \n",
    "                  ]]"
   ]
  },
  {
   "cell_type": "markdown",
   "id": "cbe2400b",
   "metadata": {},
   "source": [
    "### More amount of stocks provides better diversification benefit."
   ]
  },
  {
   "cell_type": "markdown",
   "id": "4372a0d9",
   "metadata": {},
   "source": [
    "## 5.b."
   ]
  },
  {
   "cell_type": "code",
   "execution_count": null,
   "id": "8c58cc0c",
   "metadata": {},
   "outputs": [],
   "source": [
    "msf5b_money = msf[msf['flag_sector']==1].copy()\n",
    "msf5b_divind = msf[msf['flag_sector']==0].copy()"
   ]
  },
  {
   "cell_type": "code",
   "execution_count": null,
   "id": "c82ea3c1",
   "metadata": {},
   "outputs": [],
   "source": [
    "z5b_money = msf5b_money.groupby(['permno'])['ret'].mean().values.reshape(-1,1)\n",
    "z5b_divind = msf5b_divind.groupby(['permno'])['ret'].mean().values.reshape(-1,1)"
   ]
  },
  {
   "cell_type": "markdown",
   "id": "8a3cdba3",
   "metadata": {},
   "source": [
    "### Covariance matrix"
   ]
  },
  {
   "cell_type": "code",
   "execution_count": null,
   "id": "822ddaf1",
   "metadata": {},
   "outputs": [],
   "source": [
    "sigma5b_money, inv5b_money = get_cov_inv(msf5b_money)\n",
    "sigma5b_divind, inv5b_divind = get_cov_inv(msf5b_divind)"
   ]
  },
  {
   "cell_type": "markdown",
   "id": "001d7434",
   "metadata": {},
   "source": [
    "### Vector of ones"
   ]
  },
  {
   "cell_type": "code",
   "execution_count": null,
   "id": "4825f8cb",
   "metadata": {},
   "outputs": [],
   "source": [
    "nfirms5b_money = len(msf5b_money['permno'].unique())\n",
    "ones5b_money = np.ones((nfirms5b_money,1))"
   ]
  },
  {
   "cell_type": "code",
   "execution_count": null,
   "id": "a10f87ff",
   "metadata": {},
   "outputs": [],
   "source": [
    "nfirms5b_divind = len(msf5b_divind['permno'].unique())\n",
    "ones5b_divind = np.ones((nfirms5b_divind,1))"
   ]
  },
  {
   "cell_type": "code",
   "execution_count": null,
   "id": "89534e1b",
   "metadata": {},
   "outputs": [],
   "source": [
    "A5b_money, B5b_money, C5b_money, Delta5b_money = get_parameters(ones5b_money, inv5b_money, z5b_money)"
   ]
  },
  {
   "cell_type": "code",
   "execution_count": null,
   "id": "b3d86ef5",
   "metadata": {},
   "outputs": [],
   "source": [
    "A5b_divind, B5b_divind, C5b_divind, Delta5b_divind = get_parameters(ones5b_divind, inv5b_divind, z5b_divind)"
   ]
  },
  {
   "cell_type": "code",
   "execution_count": null,
   "id": "3132727a",
   "metadata": {},
   "outputs": [],
   "source": [
    "step = 0.001 # 10bp\n",
    "\n",
    "min_ret = -0.1 # multiply 100 to get a percent unit.\n",
    "max_ret = 0.1\n",
    "\n",
    "list_ans5b_money_case2 = []\n",
    "list_ans5b_money_case1 = []\n",
    "for mu_p in np.arange(min_ret,max_ret+step,step):\n",
    "    \n",
    "    _, mu_port5b_money_case2, std_port5b_money_case2 = get_ans1a(mu_p, z5b_money, A5b_money, B5b_money, C5b_money, Delta5b_money, inv5b_money, sigma5b_money,ones5b_money)\n",
    "    tmp_ans5b_money_case2 = pd.DataFrame([[mu_port5b_money_case2, std_port5b_money_case2]],columns=['port_ret', 'port_std'])\n",
    "    list_ans5b_money_case2.append(tmp_ans5b_money_case2)\n",
    "    \n",
    "for mu_p in np.arange(rf_all,max_ret+step,step):\n",
    "    \n",
    "    _, mu_port5b_money_case1, std_port5b_money_case1 = get_ans2a(mu_p, z5b_money, A5b_money,B5b_money,C5b_money,rf_all,inv5b_money,sigma5b_money,ones5b_money,)\n",
    "    tmp_ans5b_money_case1 = pd.DataFrame([[mu_port5b_money_case1, std_port5b_money_case1]],columns=['port_ret', 'port_std'])\n",
    "    list_ans5b_money_case1.append(tmp_ans5b_money_case1)"
   ]
  },
  {
   "cell_type": "code",
   "execution_count": null,
   "id": "89cc3f55",
   "metadata": {},
   "outputs": [],
   "source": [
    "step = 0.001 # 10bp\n",
    "\n",
    "min_ret = -0.1 # multiply 100 to get a percent unit.\n",
    "max_ret = 0.1\n",
    "\n",
    "list_ans5b_divind_case2 = []\n",
    "list_ans5b_divind_case1 = []\n",
    "for mu_p in np.arange(min_ret,max_ret+step,step):\n",
    "    \n",
    "    _, mu_port5b_divind_case2, std_port5b_divind_case2 = get_ans1a(mu_p, z5b_divind, A5b_divind, B5b_divind, C5b_divind, Delta5b_divind, inv5b_divind, sigma5b_divind,ones5b_divind)\n",
    "    tmp_ans5b_divind_case2 = pd.DataFrame([[mu_port5b_divind_case2, std_port5b_divind_case2]],columns=['port_ret', 'port_std'])\n",
    "    list_ans5b_divind_case2.append(tmp_ans5b_divind_case2)\n",
    "    \n",
    "for mu_p in np.arange(rf_all,max_ret+step,step):\n",
    "    \n",
    "    _, mu_port5b_divind_case1, std_port5b_divind_case1 = get_ans2a(mu_p, z5b_divind, A5b_divind,B5b_divind,C5b_divind,rf_all,inv5b_divind,sigma5b_divind,ones5b_divind,)\n",
    "    tmp_ans5b_divind_case1 = pd.DataFrame([[mu_port5b_divind_case1, std_port5b_divind_case1]],columns=['port_ret', 'port_std'])\n",
    "    list_ans5b_divind_case1.append(tmp_ans5b_divind_case1)"
   ]
  },
  {
   "cell_type": "code",
   "execution_count": null,
   "id": "b9370cb4",
   "metadata": {},
   "outputs": [],
   "source": [
    "ans5b_money_case2 = pd.concat(list_ans5b_money_case2).reset_index(drop=True)\n",
    "ans5b_money_case2.sort_values(['port_ret'],inplace=True)\n",
    "ans5b_money_case2.reset_index(drop=True,inplace=True)\n",
    "\n",
    "ans5b_money_case1 = pd.concat(list_ans5b_money_case1).reset_index(drop=True)\n",
    "ans5b_money_case1.sort_values(['port_ret'],inplace=True)\n",
    "ans5b_money_case1.reset_index(drop=True,inplace=True)"
   ]
  },
  {
   "cell_type": "code",
   "execution_count": null,
   "id": "b428bd32",
   "metadata": {},
   "outputs": [],
   "source": [
    "ans5b_divind_case2 = pd.concat(list_ans5b_divind_case2).reset_index(drop=True)\n",
    "ans5b_divind_case2.sort_values(['port_ret'],inplace=True)\n",
    "ans5b_divind_case2.reset_index(drop=True,inplace=True)\n",
    "\n",
    "ans5b_divind_case1 = pd.concat(list_ans5b_divind_case1).reset_index(drop=True)\n",
    "ans5b_divind_case1.sort_values(['port_ret'],inplace=True)\n",
    "ans5b_divind_case1.reset_index(drop=True,inplace=True)"
   ]
  },
  {
   "cell_type": "code",
   "execution_count": null,
   "id": "4c3fa0e5",
   "metadata": {},
   "outputs": [],
   "source": [
    "## fig\n",
    "\n",
    "fig, ax = plt.subplots(1,1,figsize=(12,8))\n",
    "\n",
    "ans5b_money_case2.plot(x='port_std', y='port_ret', ax=ax, legend=False)\n",
    "ans5b_money_case1.plot(x='port_std', y='port_ret', ax=ax, legend=False)\n",
    "\n",
    "\n",
    "ans5b_divind_case2.plot(x='port_std', y='port_ret', ax=ax, legend=False)\n",
    "ans5b_divind_case1.plot(x='port_std', y='port_ret', ax=ax, legend=False)\n",
    "\n",
    "\n",
    "ax.set_xlabel('Standard Deviation')\n",
    "ax.set_ylabel('Expected Return')\n",
    "\n",
    "ax.set_xlim(0,0.10)\n",
    "ax.set_ylim(-0.03,0.05)\n",
    "\n",
    "ax.set_xlim(0)\n",
    "\n",
    "w_gmvp5b_money = inv5b_money.dot(ones5b_money)/(ones5b_money.T.dot(inv5b_money).dot(ones5b_money))\n",
    "w_gmvp5b_money.sum()\n",
    "\n",
    "mu_gmvp5b_money = w_gmvp5b_money.T.dot(z5b_money)\n",
    "std_gmvp5b_money = (w_gmvp5b_money.T.dot(sigma5b_money).dot(w_gmvp5b_money))**(0.5)\n",
    "\n",
    "w_gmvp5b_divind = inv5b_divind.dot(ones5b_divind)/(ones5b_divind.T.dot(inv5b_divind).dot(ones5b_divind))\n",
    "w_gmvp5b_divind.sum()\n",
    "\n",
    "mu_gmvp5b_divind = w_gmvp5b_divind.T.dot(z5b_divind)\n",
    "std_gmvp5b_divind = (w_gmvp5b_divind.T.dot(sigma5b_divind).dot(w_gmvp5b_divind))**(0.5)\n",
    "\n",
    "ax.plot(std_gmvp5b_money, mu_gmvp5b_money, 'o',color='black')\n",
    "ax.text(std_gmvp5b_money, mu_gmvp5b_money, 'GMVP Money',ha='left', va='top')\n",
    "\n",
    "\n",
    "\n",
    "ax.plot(std_gmvp5b_divind, mu_gmvp5b_divind, 'o',color='black')\n",
    "ax.text(std_gmvp5b_divind, mu_gmvp5b_divind, 'GMVP Div. Ind.',ha='right',va='top')\n",
    "\n",
    "ax.set_xlabel('Standard Deviation')\n",
    "ax.set_ylabel('Expected Return')\n",
    "\n",
    "ax.set_xlim(0,0.10)\n",
    "ax.set_ylim(-0.03,0.05)\n",
    "\n",
    "ax.set_xlim(0)\n",
    "\n",
    "w_gmvp5b_money = inv5b_money.dot(ones5b_money)/(ones5b_money.T.dot(inv5b_money).dot(ones5b_money))\n",
    "w_gmvp5b_money.sum()\n",
    "\n",
    "mu_gmvp5b_money = w_gmvp5b_money.T.dot(z5b_money)\n",
    "std_gmvp5b_money = (w_gmvp5b_money.T.dot(sigma5b_money).dot(w_gmvp5b_money))**(0.5)\n",
    "\n",
    "ax.legend(['Money, Case 2', \n",
    "           'Money, Case 1', \n",
    "           'Div. Ind., Case 2',\n",
    "           'Div. Ind., Case 1',\n",
    "          ])"
   ]
  },
  {
   "cell_type": "markdown",
   "id": "62a07069",
   "metadata": {},
   "source": [
    "## Sharpe"
   ]
  },
  {
   "cell_type": "code",
   "execution_count": null,
   "id": "32308424",
   "metadata": {},
   "outputs": [],
   "source": [
    "_, mu5b_money_case2, std5b_money_case2 = get_ans1a(mu_msp500, z5b_money, A5b_money, B5b_money, C5b_money, Delta5b_money, inv5b_money, sigma5b_money,ones5b_money)"
   ]
  },
  {
   "cell_type": "code",
   "execution_count": null,
   "id": "f230ec9f",
   "metadata": {},
   "outputs": [],
   "source": [
    "_, mu5b_money_case1, std5b_money_case1 = get_ans2a(mu_msp500, z5b_money, A5b_money,B5b_money,C5b_money,rf_all,inv5b_money,sigma5b_money,ones5b_money,)"
   ]
  },
  {
   "cell_type": "code",
   "execution_count": null,
   "id": "032a698d",
   "metadata": {},
   "outputs": [],
   "source": [
    "ans5b_money_sharpe_case2 = pd.DataFrame([[(mu5b_money_case2-rf_all)*12*100],\n",
    "                             [std5b_money_case2*np.sqrt(12)*100],\n",
    "                             [(mu5b_money_case2-rf_all)/std5b_money_case2*np.sqrt(12)],\n",
    "                            ],\n",
    "                            columns=['Optimal Portfolio (Case 2), Money'],\n",
    "                            index=['Excess Return (%)',\n",
    "                                   'Volatility (%)',\n",
    "                                   'Sharpe Ratio',\n",
    "                                  ],\n",
    "                           )"
   ]
  },
  {
   "cell_type": "code",
   "execution_count": null,
   "id": "052968c4",
   "metadata": {},
   "outputs": [],
   "source": [
    "ans5b_money_sharpe_case1 = pd.DataFrame([[(mu5b_money_case1-rf_all)*12*100],\n",
    "                             [std5b_money_case1*np.sqrt(12)*100],\n",
    "                             [(mu5b_money_case1-rf_all)/std5b_money_case1*np.sqrt(12)],\n",
    "                            ],\n",
    "                            columns=['Optimal Portfolio (Case 1), Money'],\n",
    "                            index=['Excess Return (%)',\n",
    "                                   'Volatility (%)',\n",
    "                                   'Sharpe Ratio',\n",
    "                                  ],\n",
    "                           )"
   ]
  },
  {
   "cell_type": "code",
   "execution_count": null,
   "id": "081e3a87",
   "metadata": {},
   "outputs": [],
   "source": [
    "ans_summary_stat['Optimal Portfolio (Case 2), Money'] = ans5b_money_sharpe_case2['Optimal Portfolio (Case 2), Money']"
   ]
  },
  {
   "cell_type": "code",
   "execution_count": null,
   "id": "65aeeb32",
   "metadata": {},
   "outputs": [],
   "source": [
    "ans_summary_stat['Optimal Portfolio (Case 1), Money'] = ans5b_money_sharpe_case1['Optimal Portfolio (Case 1), Money']"
   ]
  },
  {
   "cell_type": "code",
   "execution_count": null,
   "id": "0cc20be5",
   "metadata": {},
   "outputs": [],
   "source": [
    "_, mu5b_divind_case2, std5b_divind_case2 = get_ans1a(mu_msp500, z5b_divind, A5b_divind, B5b_divind, C5b_divind, Delta5b_divind, inv5b_divind, sigma5b_divind,ones5b_divind)"
   ]
  },
  {
   "cell_type": "code",
   "execution_count": null,
   "id": "1fc32989",
   "metadata": {},
   "outputs": [],
   "source": [
    "_, mu5b_divind_case1, std5b_divind_case1 = get_ans2a(mu_msp500, z5b_divind, A5b_divind,B5b_divind,C5b_divind,rf_all,inv5b_divind,sigma5b_divind,ones5b_divind,)"
   ]
  },
  {
   "cell_type": "code",
   "execution_count": null,
   "id": "2a7ef0a9",
   "metadata": {},
   "outputs": [],
   "source": [
    "ans5b_divind_sharpe_case2 = pd.DataFrame([[(mu5b_divind_case2-rf_all)*12*100],\n",
    "                             [std5b_divind_case2*np.sqrt(12)*100],\n",
    "                             [(mu5b_divind_case2-rf_all)/std5b_divind_case2*np.sqrt(12)],\n",
    "                            ],\n",
    "                            columns=['Optimal Portfolio (Case 2), Div. Ind.'],\n",
    "                            index=['Excess Return (%)',\n",
    "                                   'Volatility (%)',\n",
    "                                   'Sharpe Ratio',\n",
    "                                  ],\n",
    "                           )"
   ]
  },
  {
   "cell_type": "code",
   "execution_count": null,
   "id": "6ef78475",
   "metadata": {},
   "outputs": [],
   "source": [
    "ans5b_divind_sharpe_case1 = pd.DataFrame([[(mu5b_divind_case1-rf_all)*12*100],\n",
    "                             [std5b_divind_case1*np.sqrt(12)*100],\n",
    "                             [(mu5b_divind_case1-rf_all)/std5b_divind_case1*np.sqrt(12)],\n",
    "                            ],\n",
    "                            columns=['Optimal Portfolio (Case 1), Div. Ind.'],\n",
    "                            index=['Excess Return (%)',\n",
    "                                   'Volatility (%)',\n",
    "                                   'Sharpe Ratio',\n",
    "                                  ],\n",
    "                           )"
   ]
  },
  {
   "cell_type": "code",
   "execution_count": null,
   "id": "996ca3a0",
   "metadata": {},
   "outputs": [],
   "source": [
    "ans_summary_stat['Optimal Portfolio (Case 2), Div. Ind.'] = ans5b_divind_sharpe_case2['Optimal Portfolio (Case 2), Div. Ind.']"
   ]
  },
  {
   "cell_type": "code",
   "execution_count": null,
   "id": "47b8f9ae",
   "metadata": {},
   "outputs": [],
   "source": [
    "ans_summary_stat['Optimal Portfolio (Case 1), Div. Ind.'] = ans5b_divind_sharpe_case1['Optimal Portfolio (Case 1), Div. Ind.']"
   ]
  },
  {
   "cell_type": "code",
   "execution_count": null,
   "id": "7193eb39",
   "metadata": {},
   "outputs": [],
   "source": [
    "ans_summary_stat[['S&P 500',\n",
    "                  'Optimal Portfolio (Case 2), Money', 'Optimal Portfolio (Case 2), Div. Ind.', \n",
    "                  'Optimal Portfolio (Case 1), Money', 'Optimal Portfolio (Case 1), Div. Ind.', \n",
    "                  ]]"
   ]
  },
  {
   "cell_type": "markdown",
   "id": "801e6739",
   "metadata": {},
   "source": [
    "### Diversed industry gives better risk-return profile."
   ]
  }
 ],
 "metadata": {
  "kernelspec": {
   "display_name": "Python 3 (ipykernel)",
   "language": "python",
   "name": "python3"
  }
 },
 "nbformat": 4,
 "nbformat_minor": 5
}
