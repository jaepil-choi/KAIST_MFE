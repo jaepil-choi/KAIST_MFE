{
 "cells": [
  {
   "cell_type": "code",
   "execution_count": null,
   "id": "2978e769",
   "metadata": {
    "lines_to_next_cell": 2
   },
   "outputs": [],
   "source": [
    "## Sum = 1이 되는 (-1, 1) 사이의 weights 생성\n",
    "\n",
    "def generate_random_weights(size):\n",
    "    # Step 1: Generate random weights with values between -1 and 1\n",
    "    weights = np.random.uniform(-1, 1, size)\n",
    "    \n",
    "    # Step 2: Compute the sum of the absolute values of these weights\n",
    "    abs_sum = np.sum(np.abs(weights))\n",
    "    \n",
    "    # Step 3: Normalize the weights by dividing each weight by the sum of the absolute values\n",
    "    normalized_weights = weights / abs_sum\n",
    "    \n",
    "    # Ensure the sum of weights is exactly 1\n",
    "    normalized_weights = normalized_weights / np.sum(normalized_weights)\n",
    "    \n",
    "    return normalized_weights\n",
    "\n",
    "# Example usage\n",
    "weights = generate_random_weights(1000)\n",
    "negative_weights_count = (weights < 0).sum()\n",
    "weights_sum = np.sum(weights)\n",
    "weights[:10], negative_weights_count, weights_sum"
   ]
  }
 ],
 "metadata": {
  "jupytext": {
   "main_language": "python"
  }
 },
 "nbformat": 4,
 "nbformat_minor": 5
}
