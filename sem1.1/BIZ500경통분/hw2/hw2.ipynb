{
 "cells": [
  {
   "cell_type": "markdown",
   "id": "57cd486d",
   "metadata": {},
   "source": [
    "# 경통분 hw 2\n",
    "\n",
    "20249433 최재필"
   ]
  },
  {
   "cell_type": "code",
   "execution_count": null,
   "id": "47b3d8be",
   "metadata": {},
   "outputs": [],
   "source": [
    "import pandas as pd\n",
    "import numpy as np\n",
    "\n",
    "import matplotlib.pyplot as plt\n",
    "import seaborn as sns\n",
    "\n",
    "from scipy.stats import binom, norm\n",
    "\n",
    "import itertools\n",
    "\n",
    "from math import comb"
   ]
  },
  {
   "cell_type": "markdown",
   "id": "c80bfb76",
   "metadata": {},
   "source": [
    "## 1. "
   ]
  },
  {
   "cell_type": "code",
   "execution_count": null,
   "id": "21f0bbbf",
   "metadata": {},
   "outputs": [],
   "source": [
    "p = 0.6\n",
    "n = 5"
   ]
  },
  {
   "cell_type": "markdown",
   "id": "3b50553e",
   "metadata": {},
   "source": [
    "### (a)"
   ]
  },
  {
   "cell_type": "code",
   "execution_count": null,
   "id": "c3e08f35",
   "metadata": {},
   "outputs": [],
   "source": [
    "probs = [binom.pmf(k, n, p) for k in range(n+1)]\n",
    "probs"
   ]
  },
  {
   "cell_type": "code",
   "execution_count": null,
   "id": "9473e773",
   "metadata": {},
   "outputs": [],
   "source": [
    "sns.barplot(data=np.array(probs))"
   ]
  },
  {
   "cell_type": "markdown",
   "id": "32dbb37c",
   "metadata": {},
   "source": [
    "### (b)"
   ]
  },
  {
   "cell_type": "code",
   "execution_count": null,
   "id": "94118be9",
   "metadata": {},
   "outputs": [],
   "source": [
    "mean = sum(np.array(probs) * np.array(range(n+1)))\n",
    "mean"
   ]
  },
  {
   "cell_type": "code",
   "execution_count": null,
   "id": "73af8ebb",
   "metadata": {},
   "outputs": [],
   "source": [
    "mean = n * p\n",
    "mean"
   ]
  },
  {
   "cell_type": "code",
   "execution_count": null,
   "id": "ecdfe717",
   "metadata": {},
   "outputs": [],
   "source": [
    "variance = sum(np.array(probs) * (np.array(range(n+1)) - mean)**2)\n",
    "variance"
   ]
  },
  {
   "cell_type": "code",
   "execution_count": null,
   "id": "ebda11ef",
   "metadata": {},
   "outputs": [],
   "source": [
    "variance = n * p * (1-p)\n",
    "variance"
   ]
  },
  {
   "cell_type": "code",
   "execution_count": null,
   "id": "96f790c3",
   "metadata": {
    "lines_to_next_cell": 2
   },
   "outputs": [],
   "source": [
    "# Define a function to simulate a single Bernoulli trial\n",
    "def bernoulli_trial(p):\n",
    "    \"\"\"Returns 1 with probability p and 0 with probability 1-p.\"\"\"\n",
    "    return np.random.rand() < p\n",
    "\n",
    "# Simulate n Bernoulli trials and compute the sample variance\n",
    "def simulate_binomial_variance(n, p, num_simulations=10000):\n",
    "    variances = []\n",
    "    for _ in range(num_simulations):\n",
    "        trials = [bernoulli_trial(p) for _ in range(n)]\n",
    "        variances.append(np.var(trials, ddof=0))  # Population variance\n",
    "    return np.mean(variances)\n",
    "\n",
    "# Parameters for the binomial distribution\n",
    "n = 10  # number of trials\n",
    "p = 0.5  # probability of success\n",
    "\n",
    "# Compute q, the probability of failure\n",
    "q = 1 - p\n",
    "\n",
    "# Simulate to compute the average variance from the simulations\n",
    "simulated_variance = simulate_binomial_variance(n, p)\n",
    "\n",
    "simulated_variance"
   ]
  },
  {
   "cell_type": "code",
   "execution_count": null,
   "id": "4591cde2",
   "metadata": {},
   "outputs": [],
   "source": [
    "n * p * q"
   ]
  },
  {
   "cell_type": "markdown",
   "id": "588c1cef",
   "metadata": {},
   "source": [
    "## 2. "
   ]
  },
  {
   "cell_type": "code",
   "execution_count": null,
   "id": "e9e232f5",
   "metadata": {},
   "outputs": [],
   "source": [
    "mu = 100\n",
    "sigma = 5"
   ]
  },
  {
   "cell_type": "code",
   "execution_count": null,
   "id": "165cd486",
   "metadata": {},
   "outputs": [],
   "source": [
    "def prob_smaller_than_b(b, mu, sigma):\n",
    "    z = (b - mu) / sigma\n",
    "    \n",
    "    return norm.cdf(z)\n",
    "\n"
   ]
  },
  {
   "cell_type": "code",
   "execution_count": null,
   "id": "cdb39045",
   "metadata": {},
   "outputs": [],
   "source": [
    "def prob_bigger_than_b(b, mu, sigma):\n",
    "    z = (b - mu) / sigma\n",
    "    \n",
    "    return 1 - norm.cdf(z)"
   ]
  },
  {
   "cell_type": "code",
   "execution_count": null,
   "id": "daa76c9f",
   "metadata": {},
   "outputs": [],
   "source": [
    "def find_b_given_prob(prob, mu, sigma):\n",
    "    z = norm.ppf(prob)\n",
    "    \n",
    "    return mu + z * sigma"
   ]
  },
  {
   "cell_type": "code",
   "execution_count": null,
   "id": "f6572f6f",
   "metadata": {},
   "outputs": [],
   "source": [
    "def find_brange_given_prob(prob, mu, sigma):\n",
    "    cumprob = 0.5 + prob / 2\n",
    "    z = norm.ppf(cumprob)\n",
    "\n",
    "    return (mu - z * sigma, mu + z * sigma)\n",
    "    \n"
   ]
  },
  {
   "cell_type": "markdown",
   "id": "cf5520af",
   "metadata": {},
   "source": [
    "### (a)"
   ]
  },
  {
   "cell_type": "code",
   "execution_count": null,
   "id": "679d8e31",
   "metadata": {},
   "outputs": [],
   "source": [
    "find_b_given_prob(0.67, mu, sigma)"
   ]
  },
  {
   "cell_type": "code",
   "execution_count": null,
   "id": "a026a655",
   "metadata": {},
   "outputs": [],
   "source": [
    "prob_smaller_than_b(0.44, 0, 1)"
   ]
  },
  {
   "cell_type": "code",
   "execution_count": null,
   "id": "1fb5aa07",
   "metadata": {},
   "outputs": [],
   "source": [
    "0.44*5+100"
   ]
  },
  {
   "cell_type": "markdown",
   "id": "a728e7f5",
   "metadata": {},
   "source": [
    "### (b)"
   ]
  },
  {
   "cell_type": "code",
   "execution_count": null,
   "id": "077fbff7",
   "metadata": {},
   "outputs": [],
   "source": [
    "find_b_given_prob(0.011, mu, sigma)"
   ]
  },
  {
   "cell_type": "code",
   "execution_count": null,
   "id": "2e67c14f",
   "metadata": {},
   "outputs": [],
   "source": [
    "100 + (100 - find_b_given_prob(0.011, mu, sigma))"
   ]
  },
  {
   "cell_type": "code",
   "execution_count": null,
   "id": "9b3ad466",
   "metadata": {},
   "outputs": [],
   "source": [
    "find_b_given_prob((1 - 0.011), mu, sigma)"
   ]
  },
  {
   "cell_type": "markdown",
   "id": "3283bb74",
   "metadata": {},
   "source": [
    "### (c)"
   ]
  },
  {
   "cell_type": "code",
   "execution_count": null,
   "id": "f647122a",
   "metadata": {},
   "outputs": [],
   "source": [
    "a, b = find_brange_given_prob(0.966, mu, sigma)\n",
    "a, b"
   ]
  },
  {
   "cell_type": "code",
   "execution_count": null,
   "id": "c0bd501b",
   "metadata": {},
   "outputs": [],
   "source": [
    "(b - a) / 2"
   ]
  },
  {
   "cell_type": "markdown",
   "id": "29cda913",
   "metadata": {},
   "source": [
    "### (d)"
   ]
  },
  {
   "cell_type": "code",
   "execution_count": null,
   "id": "425d483f",
   "metadata": {},
   "outputs": [],
   "source": [
    "prob_smaller_than_b(110, mu, sigma)"
   ]
  },
  {
   "cell_type": "markdown",
   "id": "d613d1d1",
   "metadata": {},
   "source": [
    "### (e)"
   ]
  },
  {
   "cell_type": "code",
   "execution_count": null,
   "id": "740ba664",
   "metadata": {},
   "outputs": [],
   "source": [
    "prob_bigger_than_b(95, mu, sigma)"
   ]
  },
  {
   "cell_type": "markdown",
   "id": "c0652b53",
   "metadata": {},
   "source": [
    "## 3. "
   ]
  },
  {
   "cell_type": "code",
   "execution_count": null,
   "id": "901197fc",
   "metadata": {},
   "outputs": [],
   "source": [
    "mu = 302\n",
    "sigma = 2"
   ]
  },
  {
   "cell_type": "markdown",
   "id": "1b756ebb",
   "metadata": {},
   "source": [
    "### (a)"
   ]
  },
  {
   "cell_type": "code",
   "execution_count": null,
   "id": "0e75dbb7",
   "metadata": {},
   "outputs": [],
   "source": [
    "p = prob_smaller_than_b(299, mu, sigma)\n",
    "p"
   ]
  },
  {
   "cell_type": "code",
   "execution_count": null,
   "id": "82fb2fde",
   "metadata": {},
   "outputs": [],
   "source": [
    "prob_smaller_than_b(-1.5, 0, 1) "
   ]
  },
  {
   "cell_type": "markdown",
   "id": "d39fc926",
   "metadata": {},
   "source": [
    "### (b)"
   ]
  },
  {
   "cell_type": "code",
   "execution_count": null,
   "id": "9c92414f",
   "metadata": {},
   "outputs": [],
   "source": [
    "p ** 5"
   ]
  },
  {
   "cell_type": "markdown",
   "id": "61e468f1",
   "metadata": {},
   "source": [
    "## 4. "
   ]
  },
  {
   "cell_type": "code",
   "execution_count": null,
   "id": "86326592",
   "metadata": {},
   "outputs": [],
   "source": [
    "x = np.array([0, 1, 2, 3])\n",
    "probs = np.array([0.4, 0.3, 0.1, 0.2])"
   ]
  },
  {
   "cell_type": "markdown",
   "id": "85791801",
   "metadata": {},
   "source": [
    "### (a)"
   ]
  },
  {
   "cell_type": "code",
   "execution_count": null,
   "id": "62a2550e",
   "metadata": {},
   "outputs": [],
   "source": [
    "expected_value = sum(x * probs)\n",
    "expected_value"
   ]
  },
  {
   "cell_type": "code",
   "execution_count": null,
   "id": "cfe791ca",
   "metadata": {},
   "outputs": [],
   "source": [
    "std = np.sqrt(sum(probs * (x - expected_value)**2))\n",
    "std"
   ]
  },
  {
   "cell_type": "markdown",
   "id": "0a8a6327",
   "metadata": {},
   "source": [
    "### (b)"
   ]
  },
  {
   "cell_type": "code",
   "execution_count": null,
   "id": "e1e63861",
   "metadata": {},
   "outputs": [],
   "source": [
    "n = 100\n",
    "\n",
    "mean_of_samplemean = expected_value\n",
    "var_of_samplemean = std**2 / n\n",
    "\n",
    "std_of_samplemean = np.sqrt(var_of_samplemean)\n",
    "std_of_samplemean"
   ]
  },
  {
   "cell_type": "code",
   "execution_count": null,
   "id": "20e8679d",
   "metadata": {},
   "outputs": [],
   "source": [
    "prob_bigger_than_b(2, mean_of_samplemean, std_of_samplemean)"
   ]
  },
  {
   "cell_type": "markdown",
   "id": "1cb9ba88",
   "metadata": {},
   "source": [
    "### (c)"
   ]
  },
  {
   "cell_type": "code",
   "execution_count": null,
   "id": "88c12f45",
   "metadata": {},
   "outputs": [],
   "source": [
    "comb(5, 2) * 0.3**2 * 0.7**3"
   ]
  },
  {
   "cell_type": "markdown",
   "id": "6e584224",
   "metadata": {},
   "source": [
    "### (d)"
   ]
  },
  {
   "cell_type": "code",
   "execution_count": null,
   "id": "a531f828",
   "metadata": {},
   "outputs": [],
   "source": [
    "n = 100\n",
    "p = 0.4"
   ]
  },
  {
   "cell_type": "code",
   "execution_count": null,
   "id": "84bac9e0",
   "metadata": {},
   "outputs": [],
   "source": [
    "n * p"
   ]
  },
  {
   "cell_type": "code",
   "execution_count": null,
   "id": "e2318121",
   "metadata": {},
   "outputs": [],
   "source": [
    "n * p * (1 - p)"
   ]
  },
  {
   "cell_type": "markdown",
   "id": "8f6b66c6",
   "metadata": {},
   "source": [
    "### (e)"
   ]
  },
  {
   "cell_type": "code",
   "execution_count": null,
   "id": "92d03805",
   "metadata": {},
   "outputs": [],
   "source": [
    "mu = 40\n",
    "sigma = np.sqrt(24)"
   ]
  },
  {
   "cell_type": "code",
   "execution_count": null,
   "id": "ac5eb0ad",
   "metadata": {},
   "outputs": [],
   "source": [
    "z = (30 - mu) / sigma\n",
    "z"
   ]
  },
  {
   "cell_type": "code",
   "execution_count": null,
   "id": "10f7208e",
   "metadata": {},
   "outputs": [],
   "source": [
    "prob_smaller_than_b(30, mu, sigma)"
   ]
  },
  {
   "cell_type": "code",
   "execution_count": null,
   "id": "b68ecf88",
   "metadata": {},
   "outputs": [],
   "source": [
    "norm.cdf(z)"
   ]
  },
  {
   "cell_type": "code",
   "execution_count": null,
   "id": "8bb0c718",
   "metadata": {},
   "outputs": [],
   "source": [
    "binom.cdf(30, 100, 0.4)"
   ]
  },
  {
   "cell_type": "markdown",
   "id": "444aa463",
   "metadata": {},
   "source": [
    "## 5. "
   ]
  },
  {
   "cell_type": "markdown",
   "id": "119794f1",
   "metadata": {},
   "source": [
    "### (a)"
   ]
  },
  {
   "cell_type": "code",
   "execution_count": null,
   "id": "0264014e",
   "metadata": {},
   "outputs": [],
   "source": [
    "0.7**3 * 0.3"
   ]
  },
  {
   "cell_type": "markdown",
   "id": "4ba222f0",
   "metadata": {},
   "source": [
    "### (b)"
   ]
  },
  {
   "cell_type": "code",
   "execution_count": null,
   "id": "796c1d7d",
   "metadata": {},
   "outputs": [],
   "source": [
    "comb(5, 1) * 0.3 * 0.7**4"
   ]
  },
  {
   "cell_type": "markdown",
   "id": "2f6cf659",
   "metadata": {},
   "source": [
    "## 6. "
   ]
  },
  {
   "cell_type": "markdown",
   "id": "fc2983dc",
   "metadata": {},
   "source": [
    "### (b)"
   ]
  },
  {
   "cell_type": "code",
   "execution_count": null,
   "id": "eb13e1bb",
   "metadata": {},
   "outputs": [],
   "source": [
    "0.54 + 0.27 - 0.14"
   ]
  },
  {
   "cell_type": "markdown",
   "id": "5c923905",
   "metadata": {},
   "source": [
    "## 7. "
   ]
  },
  {
   "cell_type": "code",
   "execution_count": null,
   "id": "f2b4fc69",
   "metadata": {},
   "outputs": [],
   "source": []
  }
 ],
 "metadata": {
  "kernelspec": {
   "display_name": ".venv",
   "language": "python",
   "name": "python3"
  }
 },
 "nbformat": 4,
 "nbformat_minor": 5
}
