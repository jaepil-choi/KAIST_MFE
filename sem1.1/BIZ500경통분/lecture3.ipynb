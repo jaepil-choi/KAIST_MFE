{
 "cells": [
  {
   "cell_type": "code",
   "execution_count": null,
   "id": "d6f5007f",
   "metadata": {
    "vscode": {
     "languageId": "r"
    }
   },
   "outputs": [],
   "source": [
    "rm(list=ls())\n",
    "\n",
    "setwd(\"./\")"
   ]
  },
  {
   "cell_type": "code",
   "execution_count": null,
   "id": "d802337c",
   "metadata": {
    "vscode": {
     "languageId": "r"
    }
   },
   "outputs": [],
   "source": [
    "longdist <- read.csv('./ch1andch2_dataset/long_distance_telephone_bills.csv')\n",
    "head( longdist )"
   ]
  },
  {
   "cell_type": "code",
   "execution_count": null,
   "id": "dc000d56",
   "metadata": {
    "vscode": {
     "languageId": "r"
    }
   },
   "outputs": [],
   "source": [
    "bills <- longdist$Bills"
   ]
  },
  {
   "cell_type": "code",
   "execution_count": null,
   "id": "f7230bb4",
   "metadata": {
    "vscode": {
     "languageId": "r"
    }
   },
   "outputs": [],
   "source": [
    "mean( bills )\n",
    "median( bills )\n",
    "range( bills )\n",
    "diff( range( bills ) )\n",
    "var( bills )\n",
    "sd( bills )\n",
    "sd( bills )/mean( bills )"
   ]
  },
  {
   "cell_type": "code",
   "execution_count": null,
   "id": "0e224f4c",
   "metadata": {
    "vscode": {
     "languageId": "r"
    }
   },
   "outputs": [],
   "source": [
    "quantile( bills )\n",
    "quantile( bills , prob=c(0.3, 0.8))"
   ]
  },
  {
   "cell_type": "code",
   "execution_count": null,
   "id": "acc2167e",
   "metadata": {
    "vscode": {
     "languageId": "r"
    }
   },
   "outputs": [],
   "source": [
    "bills <- longdist$Bills\n",
    "times <- read.csv('./ch3_dataset/serving_times_of_drive_throughs.csv')\n",
    "head( times )\n",
    "boxplot( times, horizontal=TRUE, col=\"lightblue\" )"
   ]
  },
  {
   "cell_type": "code",
   "execution_count": null,
   "id": "2baf7a3d",
   "metadata": {
    "vscode": {
     "languageId": "r"
    }
   },
   "outputs": [],
   "source": [
    "scores <- read.csv('./ch3_dataset/GMAT_and_GPA_scores_for_MBA_students.csv')\n",
    "head( scores )\n",
    "gmat <- scores$GMAT\n",
    "gpa <- scores$GPA\n",
    "plot( gmat, gpa )"
   ]
  },
  {
   "cell_type": "code",
   "execution_count": null,
   "id": "94fd2587",
   "metadata": {
    "vscode": {
     "languageId": "r"
    }
   },
   "outputs": [],
   "source": [
    "cov( gmat, gpa )\n",
    "cor( gmat, gpa )"
   ]
  },
  {
   "cell_type": "code",
   "execution_count": null,
   "id": "7b14ce05",
   "metadata": {
    "vscode": {
     "languageId": "r"
    }
   },
   "outputs": [],
   "source": []
  }
 ],
 "metadata": {
  "kernelspec": {
   "display_name": "R",
   "language": "R",
   "name": "ir"
  }
 },
 "nbformat": 4,
 "nbformat_minor": 5
}
