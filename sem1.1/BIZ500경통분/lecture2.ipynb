{
 "cells": [
  {
   "cell_type": "code",
   "execution_count": null,
   "id": "2bee7c64",
   "metadata": {
    "vscode": {
     "languageId": "r"
    }
   },
   "outputs": [],
   "source": [
    "rm(list=ls()) # Wipe memory for initialization"
   ]
  },
  {
   "cell_type": "code",
   "execution_count": null,
   "id": "60380fd7",
   "metadata": {
    "vscode": {
     "languageId": "r"
    }
   },
   "outputs": [],
   "source": [
    "setwd(\"./ch1andch2 dataset\") # No need to write the full path from now on"
   ]
  },
  {
   "cell_type": "code",
   "execution_count": null,
   "id": "e6bf9e61",
   "metadata": {
    "vscode": {
     "languageId": "r"
    }
   },
   "outputs": [],
   "source": [
    "lightbeer = read.csv(\"light_beer_preference_survey.csv\")\n",
    "head( lightbeer )  "
   ]
  },
  {
   "cell_type": "code",
   "execution_count": null,
   "id": "b478cdd2",
   "metadata": {
    "vscode": {
     "languageId": "r"
    }
   },
   "outputs": [],
   "source": [
    "lightbeer[1, 3] # row, col"
   ]
  },
  {
   "cell_type": "code",
   "execution_count": null,
   "id": "8edca656",
   "metadata": {
    "vscode": {
     "languageId": "r"
    }
   },
   "outputs": [],
   "source": [
    "lightbeer[1, ] # row 1, all cols"
   ]
  },
  {
   "cell_type": "code",
   "execution_count": null,
   "id": "5f9ed510",
   "metadata": {
    "vscode": {
     "languageId": "r"
    }
   },
   "outputs": [],
   "source": [
    "brand = lightbeer$Brand # select column\n",
    "brand_freq = table(brand)\n",
    "brand_freq"
   ]
  },
  {
   "cell_type": "code",
   "execution_count": null,
   "id": "14d08244",
   "metadata": {
    "vscode": {
     "languageId": "r"
    }
   },
   "outputs": [],
   "source": [
    "\n",
    "freq_dist = cbind( brand_freq, brand_freq/sum(brand_freq)*100) # relative frequency to percentage\n",
    "barplot(brand_freq)"
   ]
  },
  {
   "cell_type": "code",
   "execution_count": null,
   "id": "faf39df5",
   "metadata": {
    "vscode": {
     "languageId": "r"
    }
   },
   "outputs": [],
   "source": [
    "pie(brand_freq)"
   ]
  },
  {
   "cell_type": "code",
   "execution_count": null,
   "id": "c963e142",
   "metadata": {
    "vscode": {
     "languageId": "r"
    }
   },
   "outputs": [],
   "source": [
    "longdist = read.csv(\"long_distance_telephone_bills.csv\")\n",
    "head(longdist )"
   ]
  },
  {
   "cell_type": "code",
   "execution_count": null,
   "id": "90f6549b",
   "metadata": {
    "vscode": {
     "languageId": "r"
    }
   },
   "outputs": [],
   "source": [
    "bills <- longdist$Bills\n",
    "hist(bills, breaks=seq(0, 120, 15), col='blue')"
   ]
  },
  {
   "cell_type": "code",
   "execution_count": null,
   "id": "f6c7f6cd",
   "metadata": {
    "vscode": {
     "languageId": "r"
    }
   },
   "outputs": [],
   "source": [
    "news_reader <- read.csv('newspaper_readership_survey.csv')\n",
    "head( news_reader )"
   ]
  },
  {
   "cell_type": "code",
   "execution_count": null,
   "id": "39166048",
   "metadata": {
    "vscode": {
     "languageId": "r"
    }
   },
   "outputs": [],
   "source": [
    "ctgc_tab <- table( news_reader$Newspaper, news_reader$Occupation )\n",
    "colnames(ctgc_tab)<- c(\"Blue Collar\", \"While Collar\", \"Professional\")\n",
    "rownames(ctgc_tab)<- c(\"G&M\", \"Post\", \"Star\", \"Sun\")\n",
    "ctgc_tab"
   ]
  },
  {
   "cell_type": "code",
   "execution_count": null,
   "id": "2dd3a8c3",
   "metadata": {
    "vscode": {
     "languageId": "r"
    }
   },
   "outputs": [],
   "source": [
    "barplot( ctgc_tab )"
   ]
  },
  {
   "cell_type": "code",
   "execution_count": null,
   "id": "ed0e4ef3",
   "metadata": {
    "vscode": {
     "languageId": "r"
    }
   },
   "outputs": [],
   "source": [
    "barplot( ctgc_tab, beside=TRUE )"
   ]
  },
  {
   "cell_type": "code",
   "execution_count": null,
   "id": "61f73055",
   "metadata": {
    "vscode": {
     "languageId": "r"
    }
   },
   "outputs": [],
   "source": [
    "house <- read.csv('price_and_size_of_houses.csv')\n",
    " head( house )\n",
    " plot( house$Size, house$Price, xlab=\"Size\", ylab=\"Price\" )"
   ]
  },
  {
   "cell_type": "code",
   "execution_count": null,
   "id": "f592fcf0",
   "metadata": {
    "vscode": {
     "languageId": "r"
    }
   },
   "outputs": [],
   "source": [
    "gasoline <- read.csv('price_of_gasoline.csv')\n",
    "  head( gasoline )\n",
    "plot( gasoline$Price, type=\"l\", xlab=\"Month\", ylab=\"Price of Gasoline\")"
   ]
  },
  {
   "cell_type": "code",
   "execution_count": null,
   "id": "b43224b4",
   "metadata": {
    "vscode": {
     "languageId": "r"
    }
   },
   "outputs": [],
   "source": []
  }
 ],
 "metadata": {
  "kernelspec": {
   "display_name": "R",
   "language": "R",
   "name": "ir"
  }
 },
 "nbformat": 4,
 "nbformat_minor": 5
}
