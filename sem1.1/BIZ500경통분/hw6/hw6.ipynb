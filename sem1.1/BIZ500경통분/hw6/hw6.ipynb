{
 "cells": [
  {
   "cell_type": "markdown",
   "id": "25d9ef14",
   "metadata": {},
   "source": [
    "# 경통분 HW6"
   ]
  },
  {
   "cell_type": "code",
   "execution_count": null,
   "id": "02a2ca73",
   "metadata": {},
   "outputs": [],
   "source": [
    "import numpy as np\n",
    "import pandas as pd\n",
    "\n",
    "from scipy.stats import norm\n",
    "import statsmodels.api as sm"
   ]
  },
  {
   "cell_type": "markdown",
   "id": "68214aa8",
   "metadata": {},
   "source": [
    "## 1. "
   ]
  },
  {
   "cell_type": "code",
   "execution_count": null,
   "id": "cef9bfa9",
   "metadata": {},
   "outputs": [],
   "source": [
    "data = pd.DataFrame(\n",
    "    [\n",
    "        (0, 4), \n",
    "        (1, 3), \n",
    "        (6, 0), \n",
    "        (3, 2), \n",
    "        (5, 1),\n",
    "    ], \n",
    "    columns=['x', 'y']\n",
    ")\n",
    "\n",
    "data"
   ]
  },
  {
   "cell_type": "markdown",
   "id": "93df3675",
   "metadata": {},
   "source": [
    "### (a)"
   ]
  },
  {
   "cell_type": "code",
   "execution_count": null,
   "id": "cb636b8c",
   "metadata": {},
   "outputs": [],
   "source": [
    "X = sm.add_constant(data['x'])\n",
    "model = sm.OLS(data['y'], X)\n",
    "results = model.fit()"
   ]
  },
  {
   "cell_type": "code",
   "execution_count": null,
   "id": "6c25d07d",
   "metadata": {},
   "outputs": [],
   "source": [
    "print(results.summary())"
   ]
  },
  {
   "cell_type": "markdown",
   "id": "497415d6",
   "metadata": {},
   "source": [
    "### (b)"
   ]
  },
  {
   "cell_type": "markdown",
   "id": "81cf11af",
   "metadata": {},
   "source": [
    "Check the above result. "
   ]
  },
  {
   "cell_type": "markdown",
   "id": "9446c7b8",
   "metadata": {},
   "source": [
    "### (c)"
   ]
  },
  {
   "cell_type": "code",
   "execution_count": null,
   "id": "49e0c8ff",
   "metadata": {},
   "outputs": [],
   "source": [
    "new_input = pd.DataFrame({'x': [1]})\n",
    "new_X = sm.add_constant(new_input, has_constant='add')\n",
    "new_X"
   ]
  },
  {
   "cell_type": "code",
   "execution_count": null,
   "id": "ad99386f",
   "metadata": {},
   "outputs": [],
   "source": [
    "pred_y = results.get_prediction(new_X)"
   ]
  },
  {
   "cell_type": "code",
   "execution_count": null,
   "id": "4700c2e4",
   "metadata": {},
   "outputs": [],
   "source": [
    "pred_y.summary_frame(alpha=0.05)"
   ]
  },
  {
   "cell_type": "markdown",
   "id": "a50782d1",
   "metadata": {},
   "source": [
    "### (d)"
   ]
  },
  {
   "cell_type": "markdown",
   "id": "cbc703ae",
   "metadata": {},
   "source": [
    "check the regression result"
   ]
  },
  {
   "cell_type": "markdown",
   "id": "5c59cc45",
   "metadata": {},
   "source": [
    "## 2. "
   ]
  },
  {
   "cell_type": "markdown",
   "id": "22875c5a",
   "metadata": {},
   "source": [
    "### (a)"
   ]
  },
  {
   "cell_type": "markdown",
   "id": "5ac9e21c",
   "metadata": {},
   "source": [
    "### (b)"
   ]
  },
  {
   "cell_type": "markdown",
   "id": "b6129eb5",
   "metadata": {},
   "source": [
    "### (c)"
   ]
  },
  {
   "cell_type": "markdown",
   "id": "c7292024",
   "metadata": {},
   "source": [
    "### (d)"
   ]
  },
  {
   "cell_type": "code",
   "execution_count": null,
   "id": "e6307b40",
   "metadata": {
    "lines_to_next_cell": 2
   },
   "outputs": [],
   "source": [
    "import scipy.stats as stats\n",
    "import statsmodels.api as sm\n",
    "import pandas as pd\n",
    "import numpy as np\n",
    "\n",
    "# Given model coefficients and errors\n",
    "intercept = 23.6409\n",
    "slope = 0.6527\n",
    "rse = 1.779\n",
    "df = 12\n",
    "\n",
    "# New data point\n",
    "new_x = 70\n",
    "new_data = pd.DataFrame({'x': [new_x]})\n",
    "new_data = sm.add_constant(new_data, has_constant='add')\n",
    "\n",
    "# Manually create the model's coefficient array\n",
    "coeffs = np.array([intercept, slope])\n",
    "\n",
    "# Predict the new value of y\n",
    "predicted_y = np.dot(new_data, coeffs)[0]\n",
    "\n",
    "# Calculate t-critical value for 95% confidence interval\n",
    "t_critical = stats.t.ppf(1 - 0.025, df)\n",
    "\n",
    "# Calculate the standard error of the prediction\n",
    "X = sm.add_constant(data['x'])\n",
    "XtX_inv = np.linalg.inv(np.dot(X.T, X))\n",
    "se_pred = np.sqrt(rse**2 + np.dot(np.dot(new_data, XtX_inv), new_data.T)[0, 0])\n",
    "\n",
    "# Construct the prediction interval\n",
    "margin_of_error = t_critical * se_pred\n",
    "prediction_interval = (predicted_y - margin_of_error, predicted_y + margin_of_error)\n",
    "\n",
    "# Output the results\n",
    "print(f\"Predicted value of y for x = {new_x}: {predicted_y}\")\n",
    "print(f\"95% prediction interval: {prediction_interval}\")"
   ]
  },
  {
   "cell_type": "code",
   "execution_count": null,
   "id": "67bbeaee",
   "metadata": {},
   "outputs": [],
   "source": []
  }
 ],
 "metadata": {
  "kernelspec": {
   "display_name": ".venv",
   "language": "python",
   "name": "python3"
  }
 },
 "nbformat": 4,
 "nbformat_minor": 5
}
