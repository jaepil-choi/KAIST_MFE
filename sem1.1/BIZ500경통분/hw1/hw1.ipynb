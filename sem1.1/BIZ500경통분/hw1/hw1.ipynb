{
 "cells": [
  {
   "cell_type": "markdown",
   "id": "d6dcf2d7",
   "metadata": {},
   "source": [
    "# 경통분 hw1\n",
    "\n",
    "MFE 20249433 최재필"
   ]
  },
  {
   "cell_type": "code",
   "execution_count": null,
   "id": "40d11bbd",
   "metadata": {},
   "outputs": [],
   "source": [
    "import seaborn as sns\n",
    "\n",
    "import numpy as np\n",
    "import pandas as pd\n",
    "\n",
    "import math"
   ]
  },
  {
   "cell_type": "markdown",
   "id": "690e7bdf",
   "metadata": {},
   "source": [
    "## 1. \n",
    "\n",
    "- numerical \n",
    "    - discrete\n",
    "    - continuous\n",
    "- categorical\n",
    "    - nominal\n",
    "    - ordinal\n",
    "\n",
    "뷴류하시오"
   ]
  },
  {
   "cell_type": "markdown",
   "id": "92806239",
   "metadata": {},
   "source": [
    "- a. numerical / discrete\n",
    "- b. numerical / continuous\n",
    "- c. categorical / ordinal\n",
    "- d. numerical / continuous\n",
    "- e. categorical / ordinal\n",
    "- f. numerical / continous\n",
    "- g. numerical / discrete\n",
    "- h. numerical / discrete\n",
    "- i. categorical / nominal\n",
    "- j. numerical / continuous\n"
   ]
  },
  {
   "cell_type": "markdown",
   "id": "8b983d53",
   "metadata": {},
   "source": [
    "## 2. "
   ]
  },
  {
   "cell_type": "code",
   "execution_count": null,
   "id": "554a59cb",
   "metadata": {
    "lines_to_next_cell": 2
   },
   "outputs": [],
   "source": [
    "data = [\n",
    "    0.0, 0.0, 0.04, 0.21, 0.29, 0.54, 0.63, 0.88, 0.96, 1.25, 1.67, 1.75, 1.84, 1.96,\n",
    "    2.01, 2.51, 2.72, 3.3, 3.51, 4.05, 4.85, 6.94, 8.73, 10.57, 11.11, 12.45, 14.0,\n",
    "    17.3, 17.92, 18.05, 18.43, 22.48, 22.48, 23.48, 26.32, 26.45, 28.87,\n",
    "    ]"
   ]
  },
  {
   "cell_type": "markdown",
   "id": "634a6796",
   "metadata": {},
   "source": [
    "### a. \n",
    "\n",
    "Plot the data in a histogram and describe the shape of the frequency distribution. "
   ]
  },
  {
   "cell_type": "code",
   "execution_count": null,
   "id": "6547199d",
   "metadata": {},
   "outputs": [],
   "source": [
    "sns.histplot(data, kde=True, binrange=(0, 30), bins=6)"
   ]
  },
  {
   "cell_type": "markdown",
   "id": "fd117d7a",
   "metadata": {},
   "source": [
    "- Shape of the distribution: \n",
    "    - 0~5 사이의 빈도가 매우 높고 나머지는 상대적으로 평평함. \n",
    "        - Skewed to the right\n",
    "    - 전체 분포를 너무 크게 벗어나는 outlier가 존재하진 않음. "
   ]
  },
  {
   "cell_type": "markdown",
   "id": "6a8db02d",
   "metadata": {},
   "source": [
    "### b. \n",
    "\n",
    "Approximate the mean and median of the distribution. Which should be greater? Explain your reasoning. "
   ]
  },
  {
   "cell_type": "markdown",
   "id": "95fa3ea8",
   "metadata": {},
   "source": [
    "- Visual approximation:\n",
    "    - Median < Mean\n",
    "- Explain my reasoning:\n",
    "    - 위와 같이 positive skew가 있을 때, 오른쪽으로 꼬리가 매우 길다고 상상해보면 outlier의 값에 의해 평균은 끌어내려지게 된다.\n",
    "    - 즉, 아무리 대세는 대부분의 관측치가 몰려있는 왼쪽이라고 하더라도 오른쪽의 몇 안되는 극단 값에 의해 평균이 오른쪽으로 이동하게 된다. \n",
    "    - 반면 median은 오직 관측치의 수에만 기반하므로 outlier의 영향을 받지 않는다. \n",
    "    - 그러므로 Median < Mean 이 될 것이라 예측해볼 수 있다. "
   ]
  },
  {
   "cell_type": "markdown",
   "id": "e35d39bc",
   "metadata": {},
   "source": [
    "### c. \n",
    "\n",
    "예측이 맞았다. "
   ]
  },
  {
   "cell_type": "code",
   "execution_count": null,
   "id": "39bc6fa3",
   "metadata": {},
   "outputs": [],
   "source": [
    "mean = np.mean(data)\n",
    "mean"
   ]
  },
  {
   "cell_type": "code",
   "execution_count": null,
   "id": "39ec8af0",
   "metadata": {},
   "outputs": [],
   "source": [
    "median = np.median(data)\n",
    "median"
   ]
  },
  {
   "cell_type": "markdown",
   "id": "26bfadc8",
   "metadata": {},
   "source": [
    "### d. "
   ]
  },
  {
   "cell_type": "code",
   "execution_count": null,
   "id": "e1940ea6",
   "metadata": {},
   "outputs": [],
   "source": [
    "q1 = np.percentile(data, 25)\n",
    "q3 = np.percentile(data, 75)\n",
    "\n",
    "print(f'''\n",
    "1st quantile: {q1}\n",
    "3rd quantile: {q3}\n",
    "''')"
   ]
  },
  {
   "cell_type": "code",
   "execution_count": null,
   "id": "bb0b298e",
   "metadata": {},
   "outputs": [],
   "source": [
    "IQR = q3 - q1\n",
    "IQR"
   ]
  },
  {
   "cell_type": "markdown",
   "id": "3e50e203",
   "metadata": {},
   "source": [
    "### e."
   ]
  },
  {
   "cell_type": "code",
   "execution_count": null,
   "id": "92d7a7c3",
   "metadata": {},
   "outputs": [],
   "source": [
    "sns.boxplot(data=data)"
   ]
  },
  {
   "cell_type": "markdown",
   "id": "8f94fcfc",
   "metadata": {},
   "source": [
    "## 3."
   ]
  },
  {
   "cell_type": "markdown",
   "id": "fc651829",
   "metadata": {},
   "source": [
    "### a.\n",
    "\n",
    "It is a histogram. (frequency distribution)"
   ]
  },
  {
   "cell_type": "markdown",
   "id": "8f6e8ec9",
   "metadata": {},
   "source": [
    "### b.\n",
    "\n",
    "Approx value of the mean seems to be around 1,000\n",
    "\n",
    "- The distribution has\n",
    "    - positive skew: There are more values under 1100 than over 1100. \n",
    "    - However, the right tail is fatter than the left tail, indicating that the skew can be evened out when arithmetic mean is calculated. \n",
    "    - Thus, my guess is that the mean should be around 1,000."
   ]
  },
  {
   "cell_type": "markdown",
   "id": "477ad652",
   "metadata": {},
   "source": [
    "### c.\n",
    "\n",
    "Approx value of the median seems to be around 1,000\n",
    "\n",
    "- The distribution has:\n",
    "    - positive skew, so the area is not symmetrical. Around 900 cuts the area in half. \n",
    "\n",
    "Since the median is the location where the frequency is divided 50:50, it should be about 1,000.\n",
    "\n"
   ]
  },
  {
   "cell_type": "markdown",
   "id": "2d65405f",
   "metadata": {},
   "source": [
    "### d.\n",
    "\n",
    "Unlike mean or median, mode seems to be pretty obvious. Mode is the most frequent value/data bin. \n",
    "\n",
    "1,000~1,100 bin has the largest frequency - the highest bar - so mode should be around 1,100."
   ]
  },
  {
   "cell_type": "markdown",
   "id": "8a4529bb",
   "metadata": {},
   "source": [
    "### e.\n",
    "\n",
    "Given the distribution is seemingly a little bit skewed from the normal distribution, we can approximate +-1 sigma range. \n",
    "\n",
    "+-1 sigma in normal distribution is about 70%, so 1 std should be about 200 yards. \n",
    "\n"
   ]
  },
  {
   "cell_type": "markdown",
   "id": "d7a58a8e",
   "metadata": {},
   "source": [
    "## 4. "
   ]
  },
  {
   "cell_type": "code",
   "execution_count": null,
   "id": "0e585f85",
   "metadata": {},
   "outputs": [],
   "source": [
    "body = [\n",
    "    ('A', 17, 150),\n",
    "    ('B', 15, 154),\n",
    "    ('C', 19, 169),\n",
    "    ('D', 17, 172),\n",
    "    ('E', 21, 175),\n",
    "]"
   ]
  },
  {
   "cell_type": "code",
   "execution_count": null,
   "id": "38a9f4a7",
   "metadata": {},
   "outputs": [],
   "source": [
    "df = pd.DataFrame(body, columns=['Person', 'Hand', 'Height'])\n",
    "df"
   ]
  },
  {
   "cell_type": "code",
   "execution_count": null,
   "id": "a476e930",
   "metadata": {},
   "outputs": [],
   "source": [
    "n = len(df)"
   ]
  },
  {
   "cell_type": "code",
   "execution_count": null,
   "id": "26687743",
   "metadata": {},
   "outputs": [],
   "source": [
    "df.describe() # Pandas 는 default로 std 등을 구할 때 sample std를 구한다."
   ]
  },
  {
   "cell_type": "code",
   "execution_count": null,
   "id": "30fa0e3d",
   "metadata": {},
   "outputs": [],
   "source": [
    "df.describe().loc['std', :] ** 2"
   ]
  },
  {
   "cell_type": "markdown",
   "id": "7827caa2",
   "metadata": {},
   "source": [
    "### a."
   ]
  },
  {
   "cell_type": "code",
   "execution_count": null,
   "id": "d366b7bd",
   "metadata": {},
   "outputs": [],
   "source": [
    "math.sqrt((df['Hand'] ** 2).mean() - (df['Hand'].mean() ** 2)) # population std"
   ]
  },
  {
   "cell_type": "code",
   "execution_count": null,
   "id": "317994ee",
   "metadata": {},
   "outputs": [],
   "source": [
    "E_X2 = (df['Hand'] ** 2).sum() / (n-1)\n",
    "E_Xsqrd = df['Hand'].mean() ** 2 * n / (n-1)"
   ]
  },
  {
   "cell_type": "code",
   "execution_count": null,
   "id": "155f80e3",
   "metadata": {},
   "outputs": [],
   "source": [
    "math.sqrt(E_X2 - E_Xsqrd) # sample std"
   ]
  },
  {
   "cell_type": "code",
   "execution_count": null,
   "id": "6c1929e5",
   "metadata": {},
   "outputs": [],
   "source": [
    "math.sqrt(((df['Hand'] - df['Hand'].mean()) ** 2).sum() / (n-1)) sample std"
   ]
  },
  {
   "cell_type": "markdown",
   "id": "924f306d",
   "metadata": {},
   "source": [
    "### b."
   ]
  },
  {
   "cell_type": "code",
   "execution_count": null,
   "id": "7a9aabbf",
   "metadata": {},
   "outputs": [],
   "source": [
    "(df['Hand'] ** 2).sum() / (n-1)"
   ]
  },
  {
   "cell_type": "code",
   "execution_count": null,
   "id": "2e6ec206",
   "metadata": {},
   "outputs": [],
   "source": [
    "((df['Hand'].sum() / (n-1)) ** 2)"
   ]
  },
  {
   "cell_type": "markdown",
   "id": "80b9c7c2",
   "metadata": {},
   "source": [
    "### c."
   ]
  },
  {
   "cell_type": "code",
   "execution_count": null,
   "id": "0ee69f20",
   "metadata": {},
   "outputs": [],
   "source": [
    "df.iloc[:, 1:].cov()"
   ]
  },
  {
   "cell_type": "markdown",
   "id": "f164efbb",
   "metadata": {},
   "source": [
    "### d."
   ]
  },
  {
   "cell_type": "code",
   "execution_count": null,
   "id": "ddd337a4",
   "metadata": {},
   "outputs": [],
   "source": [
    "df.iloc[:, 1:].corr()"
   ]
  },
  {
   "cell_type": "code",
   "execution_count": null,
   "id": "69716cb7",
   "metadata": {},
   "outputs": [],
   "source": []
  }
 ],
 "metadata": {
  "kernelspec": {
   "display_name": "sandbox311",
   "language": "python",
   "name": "python3"
  }
 },
 "nbformat": 4,
 "nbformat_minor": 5
}
