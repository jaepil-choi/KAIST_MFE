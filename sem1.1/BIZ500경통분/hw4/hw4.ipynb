{
 "cells": [
  {
   "cell_type": "markdown",
   "id": "eb25fa80",
   "metadata": {},
   "source": [
    "# 경통분 hw4\n",
    "\n",
    "20249433 최재필"
   ]
  },
  {
   "cell_type": "code",
   "execution_count": null,
   "id": "eed0fafb",
   "metadata": {},
   "outputs": [],
   "source": [
    "from scipy.stats import norm\n",
    "import numpy as np\n",
    "\n",
    "import sympy as sp"
   ]
  },
  {
   "cell_type": "markdown",
   "id": "1747cbb0",
   "metadata": {},
   "source": [
    "## 1. "
   ]
  },
  {
   "cell_type": "code",
   "execution_count": null,
   "id": "11b792e5",
   "metadata": {},
   "outputs": [],
   "source": [
    "sigma = 3.5\n",
    "alpha = 0.10\n",
    "\n",
    "min_interval_length = 0.5 * 2"
   ]
  },
  {
   "cell_type": "code",
   "execution_count": null,
   "id": "0bf4bf59",
   "metadata": {},
   "outputs": [],
   "source": [
    "Z_a2 = norm.ppf(1 - alpha / 2)\n",
    "Z_a2"
   ]
  },
  {
   "cell_type": "code",
   "execution_count": null,
   "id": "00a59a18",
   "metadata": {},
   "outputs": [],
   "source": [
    "n = sp.Symbol('n')"
   ]
  },
  {
   "cell_type": "code",
   "execution_count": null,
   "id": "f425654a",
   "metadata": {},
   "outputs": [],
   "source": [
    "eq = sp.Eq(2 * Z_a2 * sigma / sp.sqrt(n), min_interval_length)"
   ]
  },
  {
   "cell_type": "code",
   "execution_count": null,
   "id": "1731987a",
   "metadata": {},
   "outputs": [],
   "source": [
    "sol = sp.solve(eq, n)\n",
    "n_sol = sol[0]\n",
    "n_sol"
   ]
  },
  {
   "cell_type": "markdown",
   "id": "40310abb",
   "metadata": {},
   "source": [
    "## 2. "
   ]
  },
  {
   "cell_type": "code",
   "execution_count": null,
   "id": "cf8e09db",
   "metadata": {},
   "outputs": [],
   "source": [
    "n = 43\n",
    "x_bar = 8.12\n",
    "s = 1.78\n",
    "\n",
    "alpha = 0.10\n",
    "Z_a2 = norm.ppf(1 - alpha / 2)"
   ]
  },
  {
   "cell_type": "code",
   "execution_count": null,
   "id": "e7b804ed",
   "metadata": {},
   "outputs": [],
   "source": [
    "CI = (x_bar - Z_a2 * s / np.sqrt(n), x_bar + Z_a2 * s / np.sqrt(n))\n",
    "CI"
   ]
  },
  {
   "cell_type": "markdown",
   "id": "ebcff512",
   "metadata": {},
   "source": [
    "## 3. "
   ]
  },
  {
   "cell_type": "code",
   "execution_count": null,
   "id": "d734bcce",
   "metadata": {},
   "outputs": [],
   "source": [
    "x_bar = 630\n",
    "s = 35\n",
    "conf_level = 0.95\n",
    "\n",
    "alpha = 1 - conf_level\n",
    "Z_a2 = norm.ppf(1 - alpha / 2)\n",
    "\n",
    "MoE = Z_a2 * s / np.sqrt(n)"
   ]
  },
  {
   "cell_type": "code",
   "execution_count": null,
   "id": "e425fa31",
   "metadata": {},
   "outputs": [],
   "source": [
    "Z_a2"
   ]
  },
  {
   "cell_type": "code",
   "execution_count": null,
   "id": "5249bfa2",
   "metadata": {},
   "outputs": [],
   "source": [
    "MoE"
   ]
  },
  {
   "cell_type": "code",
   "execution_count": null,
   "id": "2d69f10b",
   "metadata": {},
   "outputs": [],
   "source": [
    "CI = (x_bar - MoE, x_bar + MoE)\n",
    "CI"
   ]
  }
 ],
 "metadata": {
  "kernelspec": {
   "display_name": ".venv",
   "language": "python",
   "name": "python3"
  }
 },
 "nbformat": 4,
 "nbformat_minor": 5
}
