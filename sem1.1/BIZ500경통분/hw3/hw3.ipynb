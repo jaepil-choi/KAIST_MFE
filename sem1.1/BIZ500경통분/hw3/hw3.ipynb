{
 "cells": [
  {
   "cell_type": "markdown",
   "id": "4b8af298",
   "metadata": {},
   "source": [
    "# HW3"
   ]
  },
  {
   "cell_type": "code",
   "execution_count": null,
   "id": "63eaa18f",
   "metadata": {},
   "outputs": [],
   "source": [
    "import pandas as pd\n",
    "import numpy as np\n",
    "\n",
    "import matplotlib.pyplot as plt\n",
    "import seaborn as sns\n",
    "\n",
    "from scipy.stats import binom, norm\n",
    "\n",
    "import itertools\n",
    "\n",
    "from math import comb"
   ]
  },
  {
   "cell_type": "markdown",
   "id": "6d311e2a",
   "metadata": {},
   "source": [
    "## 2."
   ]
  },
  {
   "cell_type": "code",
   "execution_count": null,
   "id": "1a161707",
   "metadata": {},
   "outputs": [],
   "source": [
    "n = 400\n",
    "p = 0.03"
   ]
  },
  {
   "cell_type": "code",
   "execution_count": null,
   "id": "1e9d7c22",
   "metadata": {},
   "outputs": [],
   "source": [
    "mu = n*p\n",
    "sigma = np.sqrt(n*p*(1-p))\n",
    "\n",
    "mu, sigma**2"
   ]
  },
  {
   "cell_type": "markdown",
   "id": "e5a85b7d",
   "metadata": {},
   "source": [
    "### (a)"
   ]
  },
  {
   "cell_type": "code",
   "execution_count": null,
   "id": "1b06ab75",
   "metadata": {},
   "outputs": [],
   "source": [
    "p_alt = 0.05\n",
    "\n",
    "n * p_alt"
   ]
  },
  {
   "cell_type": "code",
   "execution_count": null,
   "id": "5074103b",
   "metadata": {},
   "outputs": [],
   "source": [
    "norm.sf(n*p_alt, mu, sigma)"
   ]
  },
  {
   "cell_type": "markdown",
   "id": "8621bd90",
   "metadata": {},
   "source": [
    "### (b)"
   ]
  },
  {
   "cell_type": "code",
   "execution_count": null,
   "id": "f8aec8b4",
   "metadata": {},
   "outputs": [],
   "source": [
    "binom.sf(n*p_alt, n, p)"
   ]
  },
  {
   "cell_type": "markdown",
   "id": "bc75f51c",
   "metadata": {},
   "source": [
    "## 3."
   ]
  },
  {
   "cell_type": "code",
   "execution_count": null,
   "id": "00633bf9",
   "metadata": {},
   "outputs": [],
   "source": [
    "mu = 10\n",
    "sigma = 2"
   ]
  },
  {
   "cell_type": "code",
   "execution_count": null,
   "id": "f017c06a",
   "metadata": {},
   "outputs": [],
   "source": [
    "def to_z(x, mu, sigma):\n",
    "    return (x - mu) / sigma"
   ]
  },
  {
   "cell_type": "code",
   "execution_count": null,
   "id": "cbc0dda5",
   "metadata": {},
   "outputs": [],
   "source": [
    "lower = to_z(6, mu, sigma)\n",
    "upper = to_z(14, mu, sigma)"
   ]
  },
  {
   "cell_type": "markdown",
   "id": "7f612876",
   "metadata": {},
   "source": [
    "### (a)"
   ]
  },
  {
   "cell_type": "code",
   "execution_count": null,
   "id": "0b618127",
   "metadata": {},
   "outputs": [],
   "source": [
    "prob_between = norm.cdf(upper) - norm.cdf(lower)\n",
    "prob_between"
   ]
  },
  {
   "cell_type": "markdown",
   "id": "978d488b",
   "metadata": {},
   "source": [
    "### (b)"
   ]
  },
  {
   "cell_type": "code",
   "execution_count": null,
   "id": "7ac165df",
   "metadata": {},
   "outputs": [],
   "source": [
    "norm.ppf(0.95, loc=mu, scale=sigma)"
   ]
  },
  {
   "cell_type": "markdown",
   "id": "ccfdeece",
   "metadata": {},
   "source": [
    "### (c)\n",
    "\n",
    "$ X_i \\sim N(10, 2^2) , n=4 $\n",
    "\n",
    "So, \n",
    "\n",
    "$ \\bar{X} \\sim N(10, \\frac{2^2}{4}) $"
   ]
  },
  {
   "cell_type": "code",
   "execution_count": null,
   "id": "09c40da7",
   "metadata": {},
   "outputs": [],
   "source": [
    "n = 4\n",
    "mean = 10\n",
    "std = 2\n",
    "\n",
    "x_bar_mean = mean\n",
    "x_bar_std = std / np.sqrt(n)"
   ]
  },
  {
   "cell_type": "code",
   "execution_count": null,
   "id": "6b2c6533",
   "metadata": {},
   "outputs": [],
   "source": [
    "norm.cdf(12, x_bar_mean, x_bar_std)"
   ]
  },
  {
   "cell_type": "markdown",
   "id": "4cca1e40",
   "metadata": {},
   "source": [
    "원래 풀었던 대로 아래처럼 풀 수도 있음. 그러나 이럴 필요가 없음. "
   ]
  },
  {
   "cell_type": "code",
   "execution_count": null,
   "id": "6139c585",
   "metadata": {},
   "outputs": [],
   "source": [
    "# x1x2x3x4_mean = mean * 4\n",
    "# x1x2x3x4_var = 4 * std**2\n",
    "# x1x2x3x4_std = np.sqrt(x1x2x3x4_var)\n",
    "\n",
    "# x1x2x3x4_mean, x1x2x3x4_std"
   ]
  },
  {
   "cell_type": "code",
   "execution_count": null,
   "id": "5bd7a8a7",
   "metadata": {},
   "outputs": [],
   "source": [
    "# norm.cdf(48, x1x2x3x4_mean, x1x2x3x4_std)"
   ]
  },
  {
   "cell_type": "markdown",
   "id": "05bbc3a6",
   "metadata": {},
   "source": [
    "## 4. "
   ]
  },
  {
   "cell_type": "code",
   "execution_count": null,
   "id": "912d3ce1",
   "metadata": {},
   "outputs": [],
   "source": [
    "n = 160\n",
    "p = 0.2"
   ]
  },
  {
   "cell_type": "code",
   "execution_count": null,
   "id": "85929001",
   "metadata": {},
   "outputs": [],
   "source": [
    "EX = n*p\n",
    "Var = n*p*(1-p)\n",
    "std = np.sqrt(Var)\n",
    "\n",
    "EX, Var, std"
   ]
  },
  {
   "cell_type": "markdown",
   "id": "38b335cd",
   "metadata": {},
   "source": [
    "approximately, X~N(32, 25.6)"
   ]
  },
  {
   "cell_type": "code",
   "execution_count": null,
   "id": "5a147237",
   "metadata": {},
   "outputs": [],
   "source": [
    "z = (50 - EX)/std\n",
    "z"
   ]
  },
  {
   "cell_type": "code",
   "execution_count": null,
   "id": "6e401271",
   "metadata": {},
   "outputs": [],
   "source": [
    "norm.sf(z)"
   ]
  },
  {
   "cell_type": "markdown",
   "id": "c508e3db",
   "metadata": {},
   "source": [
    "## 5."
   ]
  },
  {
   "cell_type": "code",
   "execution_count": null,
   "id": "cd26ca76",
   "metadata": {},
   "outputs": [],
   "source": [
    "pool = [0, 1, 2]\n",
    "\n",
    "choices = [(X1, X2) for X1 in pool for X2 in pool]\n",
    "choices"
   ]
  },
  {
   "cell_type": "code",
   "execution_count": null,
   "id": "57f33543",
   "metadata": {},
   "outputs": [],
   "source": [
    "prob_mapping = {\n",
    "    0: 0.1,\n",
    "    1: 0.2,\n",
    "    2: 0.7,\n",
    "}"
   ]
  },
  {
   "cell_type": "code",
   "execution_count": null,
   "id": "c28f6a42",
   "metadata": {},
   "outputs": [],
   "source": [
    "def size2_prob(tup):\n",
    "    x1, x2 = tup\n",
    "    return prob_mapping[x1] * prob_mapping[x2]"
   ]
  },
  {
   "cell_type": "code",
   "execution_count": null,
   "id": "9ea3db49",
   "metadata": {},
   "outputs": [],
   "source": [
    "probs_df = pd.DataFrame([(X1, X2, size2_prob((X1, X2))) for X1, X2 in choices], columns=['X1', 'X2', 'P(X1, X2)'])\n",
    "probs_df"
   ]
  },
  {
   "cell_type": "code",
   "execution_count": null,
   "id": "bacc218a",
   "metadata": {},
   "outputs": [],
   "source": [
    "probs_df['max(X1,X2)'] = probs_df[['X1', 'X2']].max(axis=1)\n",
    "probs_df['X1+X2'] = probs_df['X1'] + probs_df['X2']"
   ]
  },
  {
   "cell_type": "code",
   "execution_count": null,
   "id": "bb6bc84c",
   "metadata": {},
   "outputs": [],
   "source": [
    "probs_df"
   ]
  },
  {
   "cell_type": "code",
   "execution_count": null,
   "id": "71676f50",
   "metadata": {},
   "outputs": [],
   "source": [
    "probs_df[['X1+X2', 'P(X1, X2)']].groupby('X1+X2').sum()"
   ]
  },
  {
   "cell_type": "code",
   "execution_count": null,
   "id": "75e1256e",
   "metadata": {},
   "outputs": [],
   "source": [
    "probs_df[['max(X1,X2)', 'P(X1, X2)']].groupby('max(X1,X2)').sum()"
   ]
  },
  {
   "cell_type": "code",
   "execution_count": null,
   "id": "82e9594e",
   "metadata": {},
   "outputs": [],
   "source": []
  }
 ],
 "metadata": {
  "kernelspec": {
   "display_name": ".venv",
   "language": "python",
   "name": "python3"
  }
 },
 "nbformat": 4,
 "nbformat_minor": 5
}
