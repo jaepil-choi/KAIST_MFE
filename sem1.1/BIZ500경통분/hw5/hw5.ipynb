{
 "cells": [
  {
   "cell_type": "markdown",
   "metadata": {},
   "source": [
    "# 경통분 hw5\n",
    "\n",
    "20249433 최재필"
   ]
  },
  {
   "cell_type": "code",
   "execution_count": 3,
   "metadata": {},
   "outputs": [],
   "source": [
    "import scipy.stats as stats\n",
    "\n",
    "import numpy as np"
   ]
  },
  {
   "cell_type": "markdown",
   "metadata": {},
   "source": [
    "# 1. "
   ]
  },
  {
   "cell_type": "markdown",
   "metadata": {},
   "source": [
    "skip"
   ]
  },
  {
   "cell_type": "markdown",
   "metadata": {},
   "source": [
    "# 2. "
   ]
  },
  {
   "cell_type": "markdown",
   "metadata": {},
   "source": [
    "### a\n",
    "\n",
    "skip"
   ]
  },
  {
   "cell_type": "markdown",
   "metadata": {},
   "source": [
    "### b"
   ]
  },
  {
   "cell_type": "code",
   "execution_count": 4,
   "metadata": {},
   "outputs": [],
   "source": [
    "n = 35\n",
    "x_bar = 0.235\n",
    "s = 3.1\n",
    "\n",
    "H0_mu = 0.25\n",
    "alpha = 0.05"
   ]
  },
  {
   "cell_type": "markdown",
   "metadata": {},
   "source": [
    "use t test"
   ]
  },
  {
   "cell_type": "code",
   "execution_count": 5,
   "metadata": {},
   "outputs": [
    {
     "data": {
      "text/plain": [
       "(-0.02862619249886914, 0.4886650471930065)"
      ]
     },
     "execution_count": 5,
     "metadata": {},
     "output_type": "execute_result"
    }
   ],
   "source": [
    "# Calculate the test statistic\n",
    "t_statistic = (x_bar - H0_mu) / (s / (n ** 0.5))\n",
    "\n",
    "# Calculate the p-value for a one-tailed test\n",
    "p_value = stats.t.cdf(t_statistic, df=n-1)\n",
    "\n",
    "# Print the results\n",
    "t_statistic, p_value"
   ]
  },
  {
   "cell_type": "code",
   "execution_count": 7,
   "metadata": {},
   "outputs": [
    {
     "data": {
      "text/plain": [
       "False"
      ]
     },
     "execution_count": 7,
     "metadata": {},
     "output_type": "execute_result"
    }
   ],
   "source": [
    "reject_null = p_value < alpha\n",
    "reject_null"
   ]
  },
  {
   "cell_type": "markdown",
   "metadata": {},
   "source": [
    "# 3. "
   ]
  },
  {
   "cell_type": "markdown",
   "metadata": {},
   "source": [
    "### a"
   ]
  },
  {
   "cell_type": "code",
   "execution_count": 8,
   "metadata": {},
   "outputs": [],
   "source": [
    "H0_mu = 15\n",
    "n = 70\n",
    "x_bar = 14.6\n",
    "s = 3.0\n",
    "alpha = 0.025"
   ]
  },
  {
   "cell_type": "code",
   "execution_count": 9,
   "metadata": {},
   "outputs": [
    {
     "data": {
      "text/plain": [
       "(-1.994945414632814, -1.1155467020454353)"
      ]
     },
     "execution_count": 9,
     "metadata": {},
     "output_type": "execute_result"
    }
   ],
   "source": [
    "\n",
    "# Degrees of freedom\n",
    "df = n - 1\n",
    "\n",
    "# Calculate the critical value for a one-tailed test\n",
    "t_critical = stats.t.ppf(alpha, df)\n",
    "\n",
    "# Calculate the test statistic\n",
    "t_statistic = (x_bar - H0_mu) / (s / (n ** 0.5))\n",
    "\n",
    "t_critical, t_statistic"
   ]
  },
  {
   "cell_type": "code",
   "execution_count": 10,
   "metadata": {},
   "outputs": [
    {
     "data": {
      "text/plain": [
       "False"
      ]
     },
     "execution_count": 10,
     "metadata": {},
     "output_type": "execute_result"
    }
   ],
   "source": [
    "reject_null = t_statistic < t_critical\n",
    "reject_null"
   ]
  },
  {
   "cell_type": "markdown",
   "metadata": {},
   "source": [
    "### b"
   ]
  },
  {
   "cell_type": "code",
   "execution_count": 11,
   "metadata": {},
   "outputs": [
    {
     "data": {
      "text/plain": [
       "(-1.1155467020454353, 0.13424317341284805)"
      ]
     },
     "execution_count": 11,
     "metadata": {},
     "output_type": "execute_result"
    }
   ],
   "source": [
    "p_value = stats.t.cdf(t_statistic, df)\n",
    "\n",
    "t_statistic, p_value"
   ]
  },
  {
   "cell_type": "code",
   "execution_count": 12,
   "metadata": {},
   "outputs": [
    {
     "data": {
      "text/plain": [
       "False"
      ]
     },
     "execution_count": 12,
     "metadata": {},
     "output_type": "execute_result"
    }
   ],
   "source": [
    "reject_null = p_value < alpha\n",
    "reject_null"
   ]
  },
  {
   "cell_type": "markdown",
   "metadata": {},
   "source": [
    "# 4. "
   ]
  },
  {
   "cell_type": "code",
   "execution_count": 14,
   "metadata": {},
   "outputs": [],
   "source": [
    "n1 = 47\n",
    "x_bar1 = 7.92\n",
    "s1 = 3.45\n",
    "\n",
    "n2 = 38\n",
    "x_bar2 = 5.80\n",
    "s2 = 2.87"
   ]
  },
  {
   "cell_type": "code",
   "execution_count": 15,
   "metadata": {},
   "outputs": [
    {
     "data": {
      "text/plain": [
       "(3.0923206897711135, 82.92035738436434, 0.0013527112367648364)"
      ]
     },
     "execution_count": 15,
     "metadata": {},
     "output_type": "execute_result"
    }
   ],
   "source": [
    "# Calculate the test statistic\n",
    "t_statistic = (x_bar1 - x_bar2) / ((s1**2 / n1 + s2**2 / n2) ** 0.5)\n",
    "\n",
    "# Calculate the degrees of freedom\n",
    "df = ((s1**2 / n1 + s2**2 / n2) ** 2) / (((s1**2 / n1) ** 2 / (n1 - 1)) + ((s2**2 / n2) ** 2 / (n2 - 1)))\n",
    "\n",
    "# Calculate the p-value for a one-tailed test\n",
    "p_value = 1 - stats.t.cdf(t_statistic, df)\n",
    "\n",
    "t_statistic, df, p_value"
   ]
  },
  {
   "cell_type": "code",
   "execution_count": 16,
   "metadata": {},
   "outputs": [
    {
     "data": {
      "text/plain": [
       "True"
      ]
     },
     "execution_count": 16,
     "metadata": {},
     "output_type": "execute_result"
    }
   ],
   "source": [
    "reject_null = p_value < alpha\n",
    "reject_null"
   ]
  },
  {
   "cell_type": "markdown",
   "metadata": {},
   "source": [
    "alternatively, assume 2. equal variance 를 하고 \n",
    "\n",
    "sigma 1 = sigma 2 = population sigma 라고 놓고 푸는 방법도 있다. \n",
    "\n",
    "(pulled variance 이용)"
   ]
  },
  {
   "cell_type": "code",
   "execution_count": 17,
   "metadata": {},
   "outputs": [
    {
     "data": {
      "text/plain": [
       "(3.0325987141885844, 83, 0.001617467803097461)"
      ]
     },
     "execution_count": 17,
     "metadata": {},
     "output_type": "execute_result"
    }
   ],
   "source": [
    "import scipy.stats as stats\n",
    "\n",
    "# Given data\n",
    "n1 = 47\n",
    "x_bar1 = 7.92\n",
    "s1 = 3.45\n",
    "\n",
    "n2 = 38\n",
    "x_bar2 = 5.80\n",
    "s2 = 2.87\n",
    "\n",
    "# Calculate the pooled variance\n",
    "sp_squared = ((n1 - 1) * s1**2 + (n2 - 1) * s2**2) / (n1 + n2 - 2)\n",
    "sp = sp_squared ** 0.5\n",
    "\n",
    "# Calculate the test statistic\n",
    "t_statistic = (x_bar1 - x_bar2) / (sp * ((1 / n1 + 1 / n2) ** 0.5))\n",
    "\n",
    "# Calculate the degrees of freedom\n",
    "df = n1 + n2 - 2\n",
    "\n",
    "# Calculate the p-value for a one-tailed test\n",
    "p_value = 1 - stats.t.cdf(t_statistic, df)\n",
    "\n",
    "t_statistic, df, p_value\n"
   ]
  },
  {
   "cell_type": "markdown",
   "metadata": {},
   "source": [
    "# 5. "
   ]
  },
  {
   "cell_type": "markdown",
   "metadata": {},
   "source": [
    "### (a)"
   ]
  },
  {
   "cell_type": "code",
   "execution_count": 20,
   "metadata": {},
   "outputs": [
    {
     "data": {
      "text/plain": [
       "(-3.4970534040275143, 16.715341177666996, 0.002820768708326815)"
      ]
     },
     "execution_count": 20,
     "metadata": {},
     "output_type": "execute_result"
    }
   ],
   "source": [
    "import numpy as np\n",
    "import scipy.stats as stats\n",
    "\n",
    "# Given data\n",
    "data = {\n",
    "    'female': [57, 84, 90, 71, 71, 77, 68, 73],\n",
    "    'male': [71, 93, 101, 84, 88, 117, 86, 86, 93, 86, 106]\n",
    "}\n",
    "\n",
    "alpha = 0.05\n",
    "\n",
    "# Calculate sample means and standard deviations\n",
    "female_xbar = np.mean(data['female'])\n",
    "male_xbar = np.mean(data['male'])\n",
    "\n",
    "female_s = np.std(data['female'], ddof=1)\n",
    "male_s = np.std(data['male'], ddof=1)\n",
    "\n",
    "# Sample sizes\n",
    "n_female = len(data['female'])\n",
    "n_male = len(data['male'])\n",
    "\n",
    "# Calculate the test statistic\n",
    "t_statistic = (female_xbar - male_xbar) / np.sqrt((female_s**2 / n_female) + (male_s**2 / n_male))\n",
    "\n",
    "# Calculate the degrees of freedom\n",
    "df = ((female_s**2 / n_female) + (male_s**2 / n_male))**2 / (((female_s**2 / n_female)**2 / (n_female - 1)) + ((male_s**2 / n_male)**2 / (n_male - 1)))\n",
    "\n",
    "# Calculate the p-value for a two-tailed test\n",
    "p_value = 2 * (1 - stats.t.cdf(np.abs(t_statistic), df))\n",
    "\n",
    "# Print results\n",
    "t_statistic, df, p_value\n"
   ]
  },
  {
   "cell_type": "code",
   "execution_count": 21,
   "metadata": {},
   "outputs": [
    {
     "data": {
      "text/plain": [
       "True"
      ]
     },
     "execution_count": 21,
     "metadata": {},
     "output_type": "execute_result"
    }
   ],
   "source": [
    "reject_null = p_value < alpha\n",
    "reject_null"
   ]
  },
  {
   "cell_type": "markdown",
   "metadata": {},
   "source": [
    "### (b)"
   ]
  },
  {
   "cell_type": "markdown",
   "metadata": {},
   "source": [
    "### (c)"
   ]
  },
  {
   "cell_type": "code",
   "execution_count": 22,
   "metadata": {},
   "outputs": [
    {
     "data": {
      "text/plain": [
       "(1.51371731777304, 10, 7, 0.5981089943502342)"
      ]
     },
     "execution_count": 22,
     "metadata": {},
     "output_type": "execute_result"
    }
   ],
   "source": [
    "import numpy as np\n",
    "import scipy.stats as stats\n",
    "\n",
    "# Given data\n",
    "data = {\n",
    "    'female': [57, 84, 90, 71, 71, 77, 68, 73],\n",
    "    'male': [71, 93, 101, 84, 88, 117, 86, 86, 93, 86, 106]\n",
    "}\n",
    "\n",
    "alpha = 0.05\n",
    "\n",
    "# Calculate sample variances\n",
    "female_s2 = np.var(data['female'], ddof=1)\n",
    "male_s2 = np.var(data['male'], ddof=1)\n",
    "\n",
    "# Sample sizes\n",
    "n_female = len(data['female'])\n",
    "n_male = len(data['male'])\n",
    "\n",
    "# Calculate the F-statistic\n",
    "F_statistic = male_s2 / female_s2\n",
    "\n",
    "# Degrees of freedom\n",
    "df1 = n_male - 1\n",
    "df2 = n_female - 1\n",
    "\n",
    "# Calculate the p-value for a two-tailed test\n",
    "p_value = 2 * min(stats.f.cdf(F_statistic, df1, df2), 1 - stats.f.cdf(F_statistic, df1, df2))\n",
    "\n",
    "# Print results\n",
    "F_statistic, df1, df2, p_value\n"
   ]
  },
  {
   "cell_type": "code",
   "execution_count": 23,
   "metadata": {},
   "outputs": [
    {
     "data": {
      "text/plain": [
       "(11, 8)"
      ]
     },
     "execution_count": 23,
     "metadata": {},
     "output_type": "execute_result"
    }
   ],
   "source": [
    "n_male, n_female"
   ]
  },
  {
   "cell_type": "code",
   "execution_count": 24,
   "metadata": {},
   "outputs": [
    {
     "data": {
      "text/plain": [
       "False"
      ]
     },
     "execution_count": 24,
     "metadata": {},
     "output_type": "execute_result"
    }
   ],
   "source": [
    "reject_null = p_value < alpha\n",
    "reject_null"
   ]
  },
  {
   "cell_type": "code",
   "execution_count": null,
   "metadata": {},
   "outputs": [],
   "source": []
  }
 ],
 "metadata": {
  "kernelspec": {
   "display_name": ".venv",
   "language": "python",
   "name": "python3"
  },
  "language_info": {
   "codemirror_mode": {
    "name": "ipython",
    "version": 3
   },
   "file_extension": ".py",
   "mimetype": "text/x-python",
   "name": "python",
   "nbconvert_exporter": "python",
   "pygments_lexer": "ipython3",
   "version": "3.10.11"
  }
 },
 "nbformat": 4,
 "nbformat_minor": 2
}
