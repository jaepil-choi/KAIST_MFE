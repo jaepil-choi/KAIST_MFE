{
 "cells": [
  {
   "cell_type": "markdown",
   "id": "26fe041d",
   "metadata": {},
   "source": [
    "# 금공프3 Quiz 3 \n",
    "\n",
    "MFE 20249433 최재필"
   ]
  },
  {
   "cell_type": "markdown",
   "id": "2eedd91d",
   "metadata": {},
   "source": [
    "## Q1 \n",
    "\n",
    "![image.png](attachment:image.png)"
   ]
  },
  {
   "cell_type": "code",
   "execution_count": null,
   "id": "31f33071",
   "metadata": {},
   "outputs": [],
   "source": [
    "i = 1\n",
    "summation = 0\n",
    "\n",
    "while i<=10 and i**4 < 1000:\n",
    "    summation += i**4\n",
    "    print(f'{i}: i^4={i**4} / Summation={summation}')\n",
    "    i += 1"
   ]
  },
  {
   "cell_type": "markdown",
   "id": "19b3802c",
   "metadata": {},
   "source": [
    "## Q2\n",
    "\n",
    "![image.png](attachment:image.png)"
   ]
  },
  {
   "cell_type": "code",
   "execution_count": null,
   "id": "6d9cad14",
   "metadata": {},
   "outputs": [],
   "source": [
    "x = [1, 2, 3, 4]\n",
    "y = [5, 6, 7, 8]"
   ]
  },
  {
   "cell_type": "markdown",
   "id": "60cf865f",
   "metadata": {},
   "source": [
    "### (1)"
   ]
  },
  {
   "cell_type": "code",
   "execution_count": null,
   "id": "963ca198",
   "metadata": {},
   "outputs": [],
   "source": [
    "z = [[a, b] for a in x for b in y]\n",
    "z"
   ]
  },
  {
   "cell_type": "markdown",
   "id": "c02035f4",
   "metadata": {},
   "source": [
    "### (2)"
   ]
  },
  {
   "cell_type": "code",
   "execution_count": null,
   "id": "a2d5eeec",
   "metadata": {},
   "outputs": [],
   "source": [
    "z = [[a, b] for a in x for b in y if (a+b) >= 8]\n",
    "z"
   ]
  },
  {
   "cell_type": "markdown",
   "id": "6b480154",
   "metadata": {},
   "source": [
    "## Q3\n",
    "\n",
    "Grading Score"
   ]
  },
  {
   "cell_type": "code",
   "execution_count": null,
   "id": "bebbf573",
   "metadata": {},
   "outputs": [],
   "source": [
    "def grading(score):\n",
    "    if not (0 <= score <= 100):\n",
    "        return 'Score must be a number between 0 and 100!!'\n",
    "\n",
    "    if 90 < score:\n",
    "        grade = 'A'\n",
    "    elif 80 < score:\n",
    "        grade = 'B'\n",
    "    elif 70 < score:\n",
    "        grade = 'C'\n",
    "    elif 60 < score:\n",
    "        grade = 'D'\n",
    "    else:\n",
    "        grade = 'F'\n",
    "    \n",
    "    return f'Grade is {grade}!'"
   ]
  },
  {
   "cell_type": "code",
   "execution_count": null,
   "id": "c0592051",
   "metadata": {},
   "outputs": [],
   "source": [
    "grading(score=75)"
   ]
  },
  {
   "cell_type": "code",
   "execution_count": null,
   "id": "b800d3e1",
   "metadata": {},
   "outputs": [],
   "source": [
    "grading(-5)"
   ]
  },
  {
   "cell_type": "markdown",
   "id": "4ed406b4",
   "metadata": {},
   "source": [
    "## Q4\n",
    "\n",
    "Explain why the error occrus"
   ]
  },
  {
   "cell_type": "markdown",
   "id": "9e8906de",
   "metadata": {},
   "source": [
    "### (1)"
   ]
  },
  {
   "cell_type": "code",
   "execution_count": null,
   "id": "a3f04207",
   "metadata": {},
   "outputs": [],
   "source": [
    "def infoprint(name, age, gender):\n",
    "    print(name, 'is', age, 'years old', gender, '.')"
   ]
  },
  {
   "cell_type": "code",
   "execution_count": null,
   "id": "fb58d49e",
   "metadata": {},
   "outputs": [],
   "source": [
    "infoprint(name='Kim', 'male')"
   ]
  },
  {
   "cell_type": "markdown",
   "id": "76dc8277",
   "metadata": {},
   "source": [
    "Error occured because positional arguments should always come before keyword arguments"
   ]
  },
  {
   "cell_type": "code",
   "execution_count": null,
   "id": "a5e0f01c",
   "metadata": {},
   "outputs": [],
   "source": [
    "# To fix this, correct the order and add a missing argument\n",
    "infoprint('Kim', 13, gender='male')"
   ]
  },
  {
   "cell_type": "markdown",
   "id": "d65bae04",
   "metadata": {},
   "source": [
    "### (2)"
   ]
  },
  {
   "cell_type": "code",
   "execution_count": null,
   "id": "1b0953dc",
   "metadata": {},
   "outputs": [],
   "source": [
    "infoprint('Kim', gender='male')"
   ]
  },
  {
   "cell_type": "markdown",
   "id": "5ecdef8b",
   "metadata": {},
   "source": [
    "The function requires all three arguments: `name`, `age`, and `gender` inthe correct order. "
   ]
  },
  {
   "cell_type": "code",
   "execution_count": null,
   "id": "4ec7bca9",
   "metadata": {},
   "outputs": [],
   "source": [
    "# To fix this, add a missing argument\n",
    "infoprint('Kim', 13, gender='male')"
   ]
  },
  {
   "cell_type": "markdown",
   "id": "e9d96c96",
   "metadata": {},
   "source": [
    "### (3)"
   ]
  },
  {
   "cell_type": "code",
   "execution_count": null,
   "id": "c31a2144",
   "metadata": {},
   "outputs": [],
   "source": [
    "fac = 1\n",
    "\n",
    "def myfactorial(n):\n",
    "    for i in range(n):\n",
    "        fac *= i + 1\n",
    "    \n",
    "    return fac"
   ]
  },
  {
   "cell_type": "code",
   "execution_count": null,
   "id": "52eb1663",
   "metadata": {},
   "outputs": [],
   "source": [
    "myfactorial(n=5)"
   ]
  },
  {
   "cell_type": "markdown",
   "id": "e6f53d62",
   "metadata": {},
   "source": [
    "A variable `fac` was not declared inside a function, `myfactorial()`. \n",
    "\n",
    "Either `global` should be used or `fac` should be declared inside the function. "
   ]
  },
  {
   "cell_type": "code",
   "execution_count": null,
   "id": "e9628b6b",
   "metadata": {},
   "outputs": [],
   "source": [
    "# To fix this (1)\n",
    "\n",
    "fac = 1\n",
    "\n",
    "def myfactorial(n):\n",
    "    global fac\n",
    "    for i in range(n):\n",
    "        fac *= i + 1\n",
    "    \n",
    "    return fac"
   ]
  },
  {
   "cell_type": "code",
   "execution_count": null,
   "id": "98735a44",
   "metadata": {},
   "outputs": [],
   "source": [
    "myfactorial(n=5)"
   ]
  },
  {
   "cell_type": "code",
   "execution_count": null,
   "id": "b2b9dfaa",
   "metadata": {},
   "outputs": [],
   "source": [
    "# To fix this (2)\n",
    "\n",
    "def myfactorial(n):\n",
    "    fac = 1\n",
    "    for i in range(n):\n",
    "        fac *= i + 1\n",
    "    \n",
    "    return fac"
   ]
  },
  {
   "cell_type": "code",
   "execution_count": null,
   "id": "3701a01f",
   "metadata": {},
   "outputs": [],
   "source": [
    "myfactorial(n=5)"
   ]
  }
 ],
 "metadata": {
  "kernelspec": {
   "display_name": ".venv",
   "language": "python",
   "name": "python3"
  }
 },
 "nbformat": 4,
 "nbformat_minor": 5
}
