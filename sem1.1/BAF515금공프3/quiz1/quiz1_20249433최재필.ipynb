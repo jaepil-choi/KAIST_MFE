{
 "cells": [
  {
   "cell_type": "markdown",
   "id": "46e833ec",
   "metadata": {},
   "source": [
    "# BAF515 금공프3 Quiz 1\n",
    "\n",
    "**20249433 MFE 최재필**\n",
    "\n",
    "\n",
    "수업 중에 배운 내용만을 이용해서 코드를 작성해주시면 됩니다.\n",
    "\n",
    "사용자 정의함수, 조건문, 반복문 등 아직 배우지 않은 내용을 활용하면 안됩니다.\n"
   ]
  },
  {
   "cell_type": "code",
   "execution_count": null,
   "id": "fd6f5c5c",
   "metadata": {},
   "outputs": [],
   "source": [
    "import math"
   ]
  },
  {
   "cell_type": "markdown",
   "id": "609b4539",
   "metadata": {},
   "source": [
    "## 1. \n",
    "\n",
    "Calculate the following"
   ]
  },
  {
   "cell_type": "markdown",
   "id": "21551e4d",
   "metadata": {},
   "source": [
    "### (1)\n",
    "\n",
    "![image.png](attachment:image.png)"
   ]
  },
  {
   "cell_type": "code",
   "execution_count": null,
   "id": "214255fb",
   "metadata": {},
   "outputs": [],
   "source": [
    "a = 2\n",
    "b = -1\n",
    "c = -15\n",
    "\n",
    "roots = [\n",
    "    (-b + math.sqrt(b**2 - 4*a*c)) / (2*a), \n",
    "    (-b - math.sqrt(b**2 - 4*a*c)) / (2*a),\n",
    "    ]\n",
    "\n",
    "roots"
   ]
  },
  {
   "cell_type": "markdown",
   "id": "5d30c433",
   "metadata": {},
   "source": [
    "### (2)\n",
    "\n",
    "![image.png](attachment:image.png)"
   ]
  },
  {
   "cell_type": "code",
   "execution_count": null,
   "id": "380ee37a",
   "metadata": {},
   "outputs": [],
   "source": [
    "mu = 2\n",
    "variance = 3\n",
    "\n",
    "x = 1\n",
    "\n",
    "f = (1 / (math.sqrt(2 * math.pi * variance))) * math.exp(-((x - mu)**2) / (2 * variance))\n",
    "f"
   ]
  },
  {
   "cell_type": "markdown",
   "id": "0bfbfe82",
   "metadata": {},
   "source": [
    "## 2. \n",
    "\n",
    "Briefly explain why the error occur in the following expression"
   ]
  },
  {
   "cell_type": "markdown",
   "id": "16d9ed70",
   "metadata": {},
   "source": [
    "### (1)\n",
    "\n",
    "![image.png](attachment:image.png)"
   ]
  },
  {
   "cell_type": "code",
   "execution_count": null,
   "id": "3d762d08",
   "metadata": {},
   "outputs": [],
   "source": [
    "a = input('enter a number')"
   ]
  },
  {
   "cell_type": "code",
   "execution_count": null,
   "id": "d22cb88d",
   "metadata": {},
   "outputs": [],
   "source": [
    "a"
   ]
  },
  {
   "cell_type": "code",
   "execution_count": null,
   "id": "df762168",
   "metadata": {},
   "outputs": [],
   "source": [
    "a + 3"
   ]
  },
  {
   "cell_type": "markdown",
   "id": "6e952f6f",
   "metadata": {},
   "source": [
    "As shown above, it's because `input()` function takes the input as `str`, and `str` cannot add with 3, which is an `int`. \n",
    "\n",
    "To correct this: "
   ]
  },
  {
   "cell_type": "code",
   "execution_count": null,
   "id": "4f50eb90",
   "metadata": {},
   "outputs": [],
   "source": [
    "int(a) + 3"
   ]
  },
  {
   "cell_type": "markdown",
   "id": "71b4d3cb",
   "metadata": {},
   "source": [
    "### (2)\n",
    "\n",
    "![image.png](attachment:image.png)"
   ]
  },
  {
   "cell_type": "code",
   "execution_count": null,
   "id": "f2f205ee",
   "metadata": {},
   "outputs": [],
   "source": [
    "tmp = 'My String'"
   ]
  },
  {
   "cell_type": "code",
   "execution_count": null,
   "id": "e019695e",
   "metadata": {},
   "outputs": [],
   "source": [
    "tmp[10]"
   ]
  },
  {
   "cell_type": "markdown",
   "id": "c6f548b5",
   "metadata": {},
   "source": [
    "As shown above, it's because string index is out of range. The given string, `tmp` only has 0~8 indices (length: 9)"
   ]
  },
  {
   "cell_type": "code",
   "execution_count": null,
   "id": "27482c63",
   "metadata": {},
   "outputs": [],
   "source": [
    "len(tmp)"
   ]
  },
  {
   "cell_type": "code",
   "execution_count": null,
   "id": "1d7ce2a9",
   "metadata": {},
   "outputs": [],
   "source": [
    "tmp[8]"
   ]
  },
  {
   "cell_type": "markdown",
   "id": "b4a8944a",
   "metadata": {},
   "source": [
    "### (3)\n",
    "\n",
    "![image.png](attachment:image.png)"
   ]
  },
  {
   "cell_type": "code",
   "execution_count": null,
   "id": "d3bb9d2c",
   "metadata": {},
   "outputs": [],
   "source": [
    "ex1 = 'sample string'\n",
    "ex2 = ex1.upper"
   ]
  },
  {
   "cell_type": "code",
   "execution_count": null,
   "id": "e0b795cc",
   "metadata": {},
   "outputs": [],
   "source": [
    "ex2[:4]"
   ]
  },
  {
   "cell_type": "markdown",
   "id": "719598a9",
   "metadata": {},
   "source": [
    "This error occurs because `.upper()` method was not called properly. It should have `()` in the end. If `()` is missing, `.upper` is the method function itself. "
   ]
  },
  {
   "cell_type": "code",
   "execution_count": null,
   "id": "364daf8a",
   "metadata": {},
   "outputs": [],
   "source": [
    "type(ex2)"
   ]
  },
  {
   "cell_type": "markdown",
   "id": "bfdf3d85",
   "metadata": {},
   "source": [
    "To correct this:"
   ]
  },
  {
   "cell_type": "code",
   "execution_count": null,
   "id": "ddb21123",
   "metadata": {},
   "outputs": [],
   "source": [
    "ex2 = ex1.upper()\n",
    "\n",
    "ex2[:4]"
   ]
  },
  {
   "cell_type": "markdown",
   "id": "1417a857",
   "metadata": {},
   "source": [
    "## 3. \n",
    "\n",
    "Create the following string object 'grade'\n",
    "\n",
    "![image.png](attachment:image.png)"
   ]
  },
  {
   "cell_type": "code",
   "execution_count": null,
   "id": "76f338bd",
   "metadata": {},
   "outputs": [],
   "source": [
    "grade = 'ABCDF'"
   ]
  },
  {
   "cell_type": "markdown",
   "id": "9d9173b8",
   "metadata": {},
   "source": [
    "### (1)\n",
    "\n",
    "Using the `+` operator on `grade`, create `grade_str` as follows.\n",
    "\n",
    "![image.png](attachment:image.png)"
   ]
  },
  {
   "cell_type": "code",
   "execution_count": null,
   "id": "e10dc32e",
   "metadata": {},
   "outputs": [],
   "source": [
    "grade_str = grade + 'F' + grade[::-1]\n",
    "\n",
    "grade_str"
   ]
  },
  {
   "cell_type": "markdown",
   "id": "d439f379",
   "metadata": {},
   "source": [
    "### (2)\n",
    "\n",
    "Count the number of 'A' in `grade_str`"
   ]
  },
  {
   "cell_type": "code",
   "execution_count": null,
   "id": "2e295e9f",
   "metadata": {},
   "outputs": [],
   "source": [
    "list(grade_str).count('A')"
   ]
  },
  {
   "cell_type": "markdown",
   "id": "eef240e7",
   "metadata": {},
   "source": [
    "### (3)\n",
    "\n",
    "Present 4 different slicing expressions to extract 'FFF' in `grade_str`"
   ]
  },
  {
   "cell_type": "code",
   "execution_count": null,
   "id": "d64f93f8",
   "metadata": {},
   "outputs": [],
   "source": [
    "# 1 Normal Slicing\n",
    "grade_str[4:7]"
   ]
  },
  {
   "cell_type": "code",
   "execution_count": null,
   "id": "bf7b74db",
   "metadata": {},
   "outputs": [],
   "source": [
    "# 2 Using negative step\n",
    "grade_str[6:3:-1]"
   ]
  },
  {
   "cell_type": "code",
   "execution_count": null,
   "id": "72d36536",
   "metadata": {},
   "outputs": [],
   "source": [
    "# 3 Using negative indices\n",
    "grade_str[-7:-4]"
   ]
  },
  {
   "cell_type": "code",
   "execution_count": null,
   "id": "7a7f3e3b",
   "metadata": {},
   "outputs": [],
   "source": [
    "# 4 Using negative indices and negative step\n",
    "grade_str[-5:-8:-1]"
   ]
  },
  {
   "cell_type": "markdown",
   "id": "8cd0de88",
   "metadata": {},
   "source": [
    "### (4)\n",
    "\n",
    "Modify `grade_str` in (3) as the following\n",
    "\n",
    "![image.png](attachment:image.png)"
   ]
  },
  {
   "cell_type": "code",
   "execution_count": null,
   "id": "c800b3de",
   "metadata": {},
   "outputs": [],
   "source": [
    "grade_str = grade_str.replace('FFF', 'AAA')\n",
    "grade_str"
   ]
  },
  {
   "cell_type": "markdown",
   "id": "c941f5c5",
   "metadata": {},
   "source": [
    "### (5)\n",
    "\n",
    "Change all letters of `grade_str` to lower case"
   ]
  },
  {
   "cell_type": "code",
   "execution_count": null,
   "id": "f32b77b7",
   "metadata": {},
   "outputs": [],
   "source": [
    "grade_str.lower()"
   ]
  },
  {
   "cell_type": "markdown",
   "id": "6cab1501",
   "metadata": {},
   "source": [
    "## 4.\n",
    "\n",
    "Briefly explain why the error occurs in the following expression. "
   ]
  },
  {
   "cell_type": "markdown",
   "id": "ff0e1123",
   "metadata": {},
   "source": [
    "### (1)\n",
    "\n",
    "![image.png](attachment:image.png)"
   ]
  },
  {
   "cell_type": "code",
   "execution_count": null,
   "id": "a371b8b8",
   "metadata": {},
   "outputs": [],
   "source": [
    "L = [\n",
    "    [1, 3, 5, 7, 9],\n",
    "    [2, 4, 6, 8, 10],\n",
    "    ]"
   ]
  },
  {
   "cell_type": "code",
   "execution_count": null,
   "id": "666c6840",
   "metadata": {},
   "outputs": [],
   "source": [
    "L[0][1:2] = 30"
   ]
  },
  {
   "cell_type": "markdown",
   "id": "815d89d5",
   "metadata": {},
   "source": [
    "This error occurs because an `int` value instead of iterable(`list`) was assigned. "
   ]
  },
  {
   "cell_type": "code",
   "execution_count": null,
   "id": "d941fa31",
   "metadata": {},
   "outputs": [],
   "source": [
    "L[0][1:2]"
   ]
  },
  {
   "cell_type": "markdown",
   "id": "2f092504",
   "metadata": {},
   "source": [
    "To correct this:"
   ]
  },
  {
   "cell_type": "code",
   "execution_count": null,
   "id": "a6632dce",
   "metadata": {},
   "outputs": [],
   "source": [
    "L[0][1:2] = [30]"
   ]
  },
  {
   "cell_type": "code",
   "execution_count": null,
   "id": "2e3eca31",
   "metadata": {},
   "outputs": [],
   "source": [
    "L"
   ]
  },
  {
   "cell_type": "markdown",
   "id": "95776968",
   "metadata": {},
   "source": [
    "### (2)\n",
    "\n",
    "![image.png](attachment:image.png)"
   ]
  },
  {
   "cell_type": "code",
   "execution_count": null,
   "id": "35121c23",
   "metadata": {},
   "outputs": [],
   "source": [
    "T = (10, 20, 30)"
   ]
  },
  {
   "cell_type": "code",
   "execution_count": null,
   "id": "0b06d258",
   "metadata": {},
   "outputs": [],
   "source": [
    "T[:2] + (40)"
   ]
  },
  {
   "cell_type": "markdown",
   "id": "c230a0e8",
   "metadata": {},
   "source": [
    "This error occurs because `(40)` was interpretted as `int` instead of `tuple`\n",
    "\n",
    "To correct this:"
   ]
  },
  {
   "cell_type": "code",
   "execution_count": null,
   "id": "fb887df7",
   "metadata": {},
   "outputs": [],
   "source": [
    "T[:2] + (40,)"
   ]
  },
  {
   "cell_type": "markdown",
   "id": "827b950a",
   "metadata": {},
   "source": [
    "### (3)\n",
    "\n",
    "![image.png](attachment:image.png)"
   ]
  },
  {
   "cell_type": "code",
   "execution_count": null,
   "id": "d8f8f984",
   "metadata": {},
   "outputs": [],
   "source": [
    "D = {\n",
    "    'A': 10,\n",
    "    'B': 20,\n",
    "    'C': 30,\n",
    "    }"
   ]
  },
  {
   "cell_type": "code",
   "execution_count": null,
   "id": "c77d84b3",
   "metadata": {},
   "outputs": [],
   "source": [
    "D2 = D"
   ]
  },
  {
   "cell_type": "code",
   "execution_count": null,
   "id": "db6d78c6",
   "metadata": {},
   "outputs": [],
   "source": [
    "del D2['A']"
   ]
  },
  {
   "cell_type": "code",
   "execution_count": null,
   "id": "ba5ddb30",
   "metadata": {},
   "outputs": [],
   "source": [
    "D['A']"
   ]
  },
  {
   "cell_type": "markdown",
   "id": "8845971b",
   "metadata": {},
   "source": [
    "This error occurs because `D`'s key `'A'` has already been deleted. \n",
    "\n",
    "Although variable `D2 = D` was declared, it is merely referencing D object in the memory. \n",
    "\n",
    "Thus, the change in the `D2` object itself is shown in `D`. \n",
    "\n",
    "To correct this:"
   ]
  },
  {
   "cell_type": "code",
   "execution_count": null,
   "id": "3d420223",
   "metadata": {},
   "outputs": [],
   "source": [
    "D = {\n",
    "    'A': 10,\n",
    "    'B': 20,\n",
    "    'C': 30,\n",
    "    }"
   ]
  },
  {
   "cell_type": "code",
   "execution_count": null,
   "id": "057af226",
   "metadata": {},
   "outputs": [],
   "source": [
    "D2 = D.copy()"
   ]
  },
  {
   "cell_type": "code",
   "execution_count": null,
   "id": "ccda0fc7",
   "metadata": {},
   "outputs": [],
   "source": [
    "del D2['A']"
   ]
  },
  {
   "cell_type": "code",
   "execution_count": null,
   "id": "9b04b7ff",
   "metadata": {},
   "outputs": [],
   "source": [
    "D['A']"
   ]
  },
  {
   "cell_type": "code",
   "execution_count": null,
   "id": "1ed71315",
   "metadata": {},
   "outputs": [],
   "source": [
    "D"
   ]
  },
  {
   "cell_type": "code",
   "execution_count": null,
   "id": "bc6460b0",
   "metadata": {},
   "outputs": [],
   "source": [
    "D2"
   ]
  },
  {
   "cell_type": "markdown",
   "id": "aaa495f0",
   "metadata": {},
   "source": [
    "### (4)\n",
    "\n",
    "![image.png](attachment:image.png)"
   ]
  },
  {
   "cell_type": "code",
   "execution_count": null,
   "id": "7e6bfe9e",
   "metadata": {},
   "outputs": [],
   "source": [
    "D3 = {\n",
    "    ['Park', 'male']: 30,\n",
    "    ['Lee', 'female']: 28,\n",
    "    ['Kim', 'male']: 34,\n",
    "}"
   ]
  },
  {
   "cell_type": "markdown",
   "id": "947ecdc3",
   "metadata": {},
   "source": [
    "This error occurs because the dictionary's key is unhashable type, `list`. \n",
    "\n",
    "To correct this: "
   ]
  },
  {
   "cell_type": "code",
   "execution_count": null,
   "id": "db8d0413",
   "metadata": {},
   "outputs": [],
   "source": [
    "D3 = {\n",
    "    ('Park', 'male'): 30,\n",
    "    ('Lee', 'female'): 28,\n",
    "    ('Kim', 'male'): 34,\n",
    "}"
   ]
  },
  {
   "cell_type": "markdown",
   "id": "b3a76136",
   "metadata": {},
   "source": [
    "### (5)\n",
    "\n",
    "![image.png](attachment:image.png)"
   ]
  },
  {
   "cell_type": "code",
   "execution_count": null,
   "id": "2ebe07ef",
   "metadata": {},
   "outputs": [],
   "source": [
    "dict_y = {\n",
    "    (1,): 10, \n",
    "    (2,): 20,\n",
    "    (3,): 30,\n",
    "    (4,): 40,\n",
    "}"
   ]
  },
  {
   "cell_type": "code",
   "execution_count": null,
   "id": "3fea35fe",
   "metadata": {},
   "outputs": [],
   "source": [
    "dict_y[-2:]"
   ]
  },
  {
   "cell_type": "markdown",
   "id": "e017f5d1",
   "metadata": {},
   "source": [
    "This error occurs because dictionary, although it maintains its order from Python 3.7+, is not indexable nor subscriptible. \n",
    "\n",
    "To correct this: (Although it is not common/recommended to slice dictionary key-value pairs,)"
   ]
  },
  {
   "cell_type": "code",
   "execution_count": null,
   "id": "fb61ed87",
   "metadata": {},
   "outputs": [],
   "source": [
    "list(dict_y)[-2:] # Only maintains the keys"
   ]
  },
  {
   "cell_type": "code",
   "execution_count": null,
   "id": "3851bff4",
   "metadata": {},
   "outputs": [],
   "source": [
    "list(dict_y.items())[-2:] # Maintains the key-value pairs"
   ]
  },
  {
   "cell_type": "markdown",
   "id": "23a333a7",
   "metadata": {},
   "source": [
    "## 5. \n",
    "\n",
    "Create the following list object 'days'.\n",
    "\n",
    "![image.png](attachment:image.png)"
   ]
  },
  {
   "cell_type": "code",
   "execution_count": null,
   "id": "869c5811",
   "metadata": {},
   "outputs": [],
   "source": [
    "days = ['Mon', 'Tues', 'Wed', 'Thur', 'Fri', ['Sat', 'Sun']]"
   ]
  },
  {
   "cell_type": "markdown",
   "id": "962e7555",
   "metadata": {},
   "source": [
    "### (1)\n",
    "\n",
    "Extract elements from `days` as shown below\n",
    "\n",
    "![image.png](attachment:image.png)"
   ]
  },
  {
   "cell_type": "code",
   "execution_count": null,
   "id": "98b0a05a",
   "metadata": {},
   "outputs": [],
   "source": [
    "# 1\n",
    "\n",
    "days[-1:]"
   ]
  },
  {
   "cell_type": "code",
   "execution_count": null,
   "id": "96104e66",
   "metadata": {},
   "outputs": [],
   "source": [
    "# 2\n",
    "\n",
    "days[-1:-6:-2]"
   ]
  },
  {
   "cell_type": "code",
   "execution_count": null,
   "id": "d410f3ad",
   "metadata": {},
   "outputs": [],
   "source": [
    "# 3\n",
    "\n",
    "days[-1][0]"
   ]
  },
  {
   "cell_type": "markdown",
   "id": "8ec55949",
   "metadata": {},
   "source": [
    "### (2)\n",
    "\n",
    "Modify `days` as shown below by applying the slicing(`:`) and concatenation operator(`+`) and name it `days2`\n",
    "\n",
    "![image.png](attachment:image.png)"
   ]
  },
  {
   "cell_type": "code",
   "execution_count": null,
   "id": "c9e829ea",
   "metadata": {},
   "outputs": [],
   "source": [
    "days2 = [days[:5]] + days[-1]\n",
    "days2"
   ]
  },
  {
   "cell_type": "markdown",
   "id": "dcea9bb5",
   "metadata": {},
   "source": [
    "### (3)\n",
    "\n",
    "Modify `days2` in (2) as follows, by removing the 2 items 'Wed' and 'Fri'.\n",
    "\n",
    "![image.png](attachment:image.png)"
   ]
  },
  {
   "cell_type": "code",
   "execution_count": null,
   "id": "9822b357",
   "metadata": {},
   "outputs": [],
   "source": [
    "days2[0].remove('Wed')\n",
    "days2[0].remove('Fri')"
   ]
  },
  {
   "cell_type": "code",
   "execution_count": null,
   "id": "b45afc10",
   "metadata": {},
   "outputs": [],
   "source": [
    "days2"
   ]
  },
  {
   "cell_type": "markdown",
   "id": "833afc80",
   "metadata": {},
   "source": [
    "### (4)\n",
    "\n",
    "Modify `days2` in (3) as following, by inserting 'W' at the given position.\n",
    "\n",
    "![image.png](attachment:image.png)"
   ]
  },
  {
   "cell_type": "code",
   "execution_count": null,
   "id": "f722e6bc",
   "metadata": {},
   "outputs": [],
   "source": [
    "days2[0].insert(2, 'W')"
   ]
  },
  {
   "cell_type": "code",
   "execution_count": null,
   "id": "a7c0e8a2",
   "metadata": {},
   "outputs": [],
   "source": [
    "days2"
   ]
  },
  {
   "cell_type": "markdown",
   "id": "5f972995",
   "metadata": {},
   "source": [
    "## 6. \n",
    "\n",
    "Create the following list object `Nums`.\n",
    "\n",
    "![image.png](attachment:image.png)"
   ]
  },
  {
   "cell_type": "code",
   "execution_count": null,
   "id": "e7d91b0c",
   "metadata": {},
   "outputs": [],
   "source": [
    "Nums = [1, 5, 2, 7, 3, 6, 4]"
   ]
  },
  {
   "cell_type": "markdown",
   "id": "e0578fae",
   "metadata": {},
   "source": [
    "### (1)\n",
    "\n",
    "Append the largest element of `Nums` to the end of `Nums`.\n",
    "\n",
    "![image.png](attachment:image.png)"
   ]
  },
  {
   "cell_type": "code",
   "execution_count": null,
   "id": "412a46a0",
   "metadata": {},
   "outputs": [],
   "source": [
    "Nums = Nums + [max(Nums)]\n",
    "Nums"
   ]
  },
  {
   "cell_type": "markdown",
   "id": "14a8ea81",
   "metadata": {},
   "source": [
    "### (2)\n",
    "\n",
    "Sort the elements in `Nums` in decreasing order. \n",
    "\n",
    "![image.png](attachment:image.png)"
   ]
  },
  {
   "cell_type": "code",
   "execution_count": null,
   "id": "392f94df",
   "metadata": {},
   "outputs": [],
   "source": [
    "Nums.sort(reverse=True)"
   ]
  },
  {
   "cell_type": "code",
   "execution_count": null,
   "id": "9e11b083",
   "metadata": {},
   "outputs": [],
   "source": [
    "Nums"
   ]
  },
  {
   "cell_type": "markdown",
   "id": "7ee18ab4",
   "metadata": {},
   "source": [
    "### (3)\n",
    "\n",
    "Modify the `Nums` in (2) as the following. (Replace the 1st, 3rd, 5th and 7th elements in `Nums` with 'a'.)\n",
    "\n",
    "![image.png](attachment:image.png)"
   ]
  },
  {
   "cell_type": "code",
   "execution_count": null,
   "id": "16f22ff0",
   "metadata": {},
   "outputs": [],
   "source": [
    "Nums[0::2] = ['a']*4"
   ]
  },
  {
   "cell_type": "code",
   "execution_count": null,
   "id": "01e44460",
   "metadata": {},
   "outputs": [],
   "source": [
    "Nums"
   ]
  },
  {
   "cell_type": "markdown",
   "id": "a0bc394e",
   "metadata": {},
   "source": [
    "## 7. \n",
    "\n",
    "Create the following tuple object 'price'.\n",
    "\n",
    "![image.png](attachment:image.png)"
   ]
  },
  {
   "cell_type": "code",
   "execution_count": null,
   "id": "eadb1aea",
   "metadata": {},
   "outputs": [],
   "source": [
    "price = (180, 130, 110, 160, 140, 170)"
   ]
  },
  {
   "cell_type": "markdown",
   "id": "689057e6",
   "metadata": {},
   "source": [
    "### (1)\n",
    "\n",
    "Sort the items of `price` in ascending order so that `price` is displayed as below. \n",
    "\n",
    "![image.png](attachment:image.png)"
   ]
  },
  {
   "cell_type": "code",
   "execution_count": null,
   "id": "8b1fca34",
   "metadata": {},
   "outputs": [],
   "source": [
    "price = tuple(sorted(price))\n",
    "price"
   ]
  },
  {
   "cell_type": "markdown",
   "id": "5df1cd3c",
   "metadata": {},
   "source": [
    "### (2)\n",
    "\n",
    "Write a code that returns `True` if `price` has the value 170 and `False` otherwise. "
   ]
  },
  {
   "cell_type": "code",
   "execution_count": null,
   "id": "d830bb22",
   "metadata": {},
   "outputs": [],
   "source": [
    "170 in price"
   ]
  },
  {
   "cell_type": "markdown",
   "id": "4be228d5",
   "metadata": {},
   "source": [
    "### (3)\n",
    "\n",
    "Insert 3 zeros instead of 5th value 160 in `price`, so that `price` is displayed as below. \n",
    "\n",
    "![image.png](attachment:image.png)"
   ]
  },
  {
   "cell_type": "code",
   "execution_count": null,
   "id": "c7075f8e",
   "metadata": {},
   "outputs": [],
   "source": [
    "price[:4] + (0, 0, 0) + price[-1:]"
   ]
  }
 ],
 "metadata": {
  "kernelspec": {
   "display_name": "sandbox39",
   "language": "python",
   "name": "python3"
  }
 },
 "nbformat": 4,
 "nbformat_minor": 5
}
