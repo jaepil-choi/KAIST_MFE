{
 "cells": [
  {
   "cell_type": "markdown",
   "id": "7de1a384",
   "metadata": {},
   "source": [
    "# 3. Control Flows"
   ]
  },
  {
   "cell_type": "code",
   "execution_count": null,
   "id": "d8801fa3",
   "metadata": {},
   "outputs": [],
   "source": [
    "import numpy as np\n",
    "\n",
    "import seaborn as sns"
   ]
  },
  {
   "cell_type": "markdown",
   "id": "b6161eda",
   "metadata": {},
   "source": [
    "## Exercises"
   ]
  },
  {
   "cell_type": "markdown",
   "id": "d23ddd5f",
   "metadata": {},
   "source": [
    "### If"
   ]
  },
  {
   "cell_type": "markdown",
   "id": "b67d9ead",
   "metadata": {},
   "source": [
    "Exercise 1\n",
    "\n",
    "![image.png](attachment:image.png)"
   ]
  },
  {
   "cell_type": "code",
   "execution_count": null,
   "id": "80392953",
   "metadata": {},
   "outputs": [],
   "source": [
    "a = [6, 2, 3, 8]\n",
    "b = [1, 2, 3, 4]"
   ]
  },
  {
   "cell_type": "code",
   "execution_count": null,
   "id": "e778b08d",
   "metadata": {},
   "outputs": [],
   "source": [
    "\n",
    "if a == sorted(a, reverse=False):\n",
    "    print('It is sorted in ascending order')\n",
    "else:\n",
    "    print('It is not sorted in ascending order')"
   ]
  },
  {
   "cell_type": "code",
   "execution_count": null,
   "id": "2b16237a",
   "metadata": {},
   "outputs": [],
   "source": [
    "\n",
    "if b == sorted(b, reverse=False):\n",
    "    print('It is sorted in ascending order')\n",
    "else:\n",
    "    print('It is not sorted in ascending order')"
   ]
  },
  {
   "cell_type": "markdown",
   "id": "10f667e1",
   "metadata": {},
   "source": [
    "Exercise 2\n",
    "\n",
    "![image.png](attachment:image.png)"
   ]
  },
  {
   "cell_type": "code",
   "execution_count": null,
   "id": "263caf52",
   "metadata": {
    "lines_to_next_cell": 2
   },
   "outputs": [],
   "source": [
    "import random\n",
    "\n",
    "n = 10\n",
    "x = [random.randint(1, 100) for i in range(n)]"
   ]
  },
  {
   "cell_type": "code",
   "execution_count": null,
   "id": "2e2ba3c6",
   "metadata": {},
   "outputs": [],
   "source": [
    "x"
   ]
  },
  {
   "cell_type": "code",
   "execution_count": null,
   "id": "245e1861",
   "metadata": {},
   "outputs": [],
   "source": [
    "def median(x):\n",
    "    x = sorted(x, reverse=False)\n",
    "\n",
    "    if n % 2 == 0:\n",
    "        idx = int(n/2)\n",
    "        return (x[idx] + x[idx + 1]) / 2\n",
    "    else:\n",
    "        return x[(n+1)/2]"
   ]
  },
  {
   "cell_type": "code",
   "execution_count": null,
   "id": "0ab0578d",
   "metadata": {},
   "outputs": [],
   "source": [
    "median(x)"
   ]
  },
  {
   "cell_type": "markdown",
   "id": "606a59dd",
   "metadata": {},
   "source": [
    "Exercise 7\n",
    "\n",
    "![image.png](attachment:image.png)"
   ]
  },
  {
   "cell_type": "code",
   "execution_count": null,
   "id": "f92212d9",
   "metadata": {},
   "outputs": [],
   "source": [
    "def fibonacci_while(n):\n",
    "    n1 = 1\n",
    "    n2 = 1\n",
    "    fibo = [n1, n2]\n",
    "\n",
    "    while n1 + n2 <= n:\n",
    "        fibo.append(n1 + n2)\n",
    "        n1, n2 = n2, n1 + n2\n",
    "\n",
    "    return fibo"
   ]
  },
  {
   "cell_type": "code",
   "execution_count": null,
   "id": "064cc3c9",
   "metadata": {},
   "outputs": [],
   "source": [
    "fibos = fibonacci_while(100000)\n",
    "len(fibos)"
   ]
  },
  {
   "cell_type": "code",
   "execution_count": null,
   "id": "6134d2fb",
   "metadata": {},
   "outputs": [],
   "source": [
    "fibos"
   ]
  },
  {
   "cell_type": "markdown",
   "id": "0fc80ff1",
   "metadata": {},
   "source": [
    "European Call Option 예시\n",
    "\n",
    "Monte Carlo simulation"
   ]
  },
  {
   "cell_type": "code",
   "execution_count": null,
   "id": "459bedcd",
   "metadata": {},
   "outputs": [],
   "source": [
    "import math\n",
    "import random"
   ]
  },
  {
   "cell_type": "code",
   "execution_count": null,
   "id": "80ca6202",
   "metadata": {},
   "outputs": [],
   "source": [
    "S0 = 100. # initial stock price\n",
    "K= 105. # strike price\n",
    "T = 1. # time-to-maturity\n",
    "r = 0.05 # riskless short rate\n",
    "sigma = 0.2 # volatility\n",
    "M = 50 # number of time steps\n",
    "dt = T / M # length of time interval 이산화 하였을 때의 시간 간격\n",
    "I = 250000 # number of paths"
   ]
  },
  {
   "cell_type": "code",
   "execution_count": null,
   "id": "94694279",
   "metadata": {},
   "outputs": [],
   "source": [
    "def generate_path():\n",
    "    path = []\n",
    "\n",
    "    for t in range(M+1):\n",
    "        if t == 0:\n",
    "            path.append(S0)\n",
    "        else:\n",
    "            z = random.gauss(0.0, 1.0)\n",
    "            St = path[t-1] * math.exp((r-0.5*sigma**2)*dt + sigma * math.sqrt(dt)*z)\n",
    "            path.append(St)\n",
    "    \n",
    "    return path"
   ]
  },
  {
   "cell_type": "code",
   "execution_count": null,
   "id": "fa30306a",
   "metadata": {},
   "outputs": [],
   "source": [
    "%%time\n",
    "\n",
    "sum_val = 0.0\n",
    "\n",
    "S = [generate_path() for i in range(I)]"
   ]
  },
  {
   "cell_type": "code",
   "execution_count": null,
   "id": "bab03bbe",
   "metadata": {},
   "outputs": [],
   "source": [
    "sum_val = 0.\n",
    "for path in S:\n",
    "    sum_val += max(path[-1] - K, 0)\n",
    "\n",
    "C0 = math.exp(-r * T)*sum_val/I\n",
    "C0"
   ]
  },
  {
   "cell_type": "code",
   "execution_count": null,
   "id": "5158331b",
   "metadata": {},
   "outputs": [],
   "source": [
    "S = np.array(S)"
   ]
  },
  {
   "cell_type": "code",
   "execution_count": null,
   "id": "b2e39ce1",
   "metadata": {},
   "outputs": [],
   "source": [
    "s = S[:5][:]\n",
    "\n",
    "sns.lineplot(s.T)"
   ]
  },
  {
   "cell_type": "code",
   "execution_count": null,
   "id": "64a3d931",
   "metadata": {},
   "outputs": [],
   "source": []
  }
 ],
 "metadata": {
  "kernelspec": {
   "display_name": "sandbox311",
   "language": "python",
   "name": "python3"
  }
 },
 "nbformat": 4,
 "nbformat_minor": 5
}
