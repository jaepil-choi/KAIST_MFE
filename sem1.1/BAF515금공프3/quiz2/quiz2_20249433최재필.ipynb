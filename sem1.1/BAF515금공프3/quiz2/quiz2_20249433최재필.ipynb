{
 "cells": [
  {
   "cell_type": "markdown",
   "id": "923fbb5c",
   "metadata": {},
   "source": [
    "# BAF515 금공프3 Quiz 2\n",
    "\n",
    "**20249433 MFE 최재필**\n"
   ]
  },
  {
   "cell_type": "markdown",
   "id": "26a4b3bf",
   "metadata": {},
   "source": [
    "## 1. \n",
    "\n",
    "![image.png](attachment:image.png)"
   ]
  },
  {
   "cell_type": "code",
   "execution_count": null,
   "id": "b7be56ca",
   "metadata": {},
   "outputs": [],
   "source": [
    "icecream = {\n",
    "    'cheery': [12, 100], # price, inventory\n",
    "    'cookies': [18, 200],\n",
    "    'greentea': [15, 140],\n",
    "    'mango': [10, 200],\n",
    "}"
   ]
  },
  {
   "cell_type": "markdown",
   "id": "07818a11",
   "metadata": {},
   "source": [
    "### (1)"
   ]
  },
  {
   "cell_type": "code",
   "execution_count": null,
   "id": "d1f59fd0",
   "metadata": {},
   "outputs": [],
   "source": [
    "icecream['cookies'][0] = 13\n",
    "icecream"
   ]
  },
  {
   "cell_type": "markdown",
   "id": "382fdb4a",
   "metadata": {},
   "source": [
    "### (2)\n"
   ]
  },
  {
   "cell_type": "code",
   "execution_count": null,
   "id": "1840c69e",
   "metadata": {},
   "outputs": [],
   "source": [
    "icecream['Strawberry'] = [12, 170]\n",
    "icecream['pistachio'] = [15, 100]\n",
    "icecream"
   ]
  },
  {
   "cell_type": "markdown",
   "id": "7ff39c31",
   "metadata": {},
   "source": [
    "## 2. \n",
    "\n",
    "![image.png](attachment:image.png)"
   ]
  },
  {
   "cell_type": "code",
   "execution_count": null,
   "id": "c21b9b81",
   "metadata": {},
   "outputs": [],
   "source": [
    "d1 = {\n",
    "    'key1': 1,\n",
    "    'key2': 3,\n",
    "    'key3': 2,\n",
    "    'key10': 7,\n",
    "}\n",
    "\n",
    "d2 = {\n",
    "    'key3': 1,\n",
    "    'key2': 2,\n",
    "    'key7': 2,\n",
    "    'key5': 4,\n",
    "    'key1': 7,\n",
    "    'key9': 8,\n",
    "    'key0': 7,\n",
    "}"
   ]
  },
  {
   "cell_type": "markdown",
   "id": "930b7c69",
   "metadata": {},
   "source": [
    "### (1)"
   ]
  },
  {
   "cell_type": "code",
   "execution_count": null,
   "id": "ad9943b6",
   "metadata": {},
   "outputs": [],
   "source": [
    "sorted(list(d2.values()))[-2:]"
   ]
  },
  {
   "cell_type": "markdown",
   "id": "f623fe44",
   "metadata": {},
   "source": [
    "### (2)"
   ]
  },
  {
   "cell_type": "code",
   "execution_count": null,
   "id": "1e637940",
   "metadata": {},
   "outputs": [],
   "source": [
    "set(d2.values())"
   ]
  },
  {
   "cell_type": "markdown",
   "id": "6d2772d5",
   "metadata": {},
   "source": [
    "### (3)"
   ]
  },
  {
   "cell_type": "code",
   "execution_count": null,
   "id": "df911d2b",
   "metadata": {},
   "outputs": [],
   "source": [
    "if set(d1.keys()) <= set(d2.keys()):\n",
    "    print('True')\n",
    "else:\n",
    "    print('False')"
   ]
  },
  {
   "cell_type": "markdown",
   "id": "5a62e5b2",
   "metadata": {},
   "source": [
    "### (4)"
   ]
  },
  {
   "cell_type": "code",
   "execution_count": null,
   "id": "ae580e26",
   "metadata": {},
   "outputs": [],
   "source": [
    "set(d1.values()) & set(d2.values())"
   ]
  },
  {
   "cell_type": "markdown",
   "id": "4914c1b7",
   "metadata": {},
   "source": [
    "## 3.\n",
    "\n",
    "![image.png](attachment:image.png)"
   ]
  },
  {
   "cell_type": "code",
   "execution_count": null,
   "id": "11321c2b",
   "metadata": {},
   "outputs": [],
   "source": [
    "A = input('Arbitrary String:')\n",
    "A"
   ]
  },
  {
   "cell_type": "code",
   "execution_count": null,
   "id": "548e4631",
   "metadata": {
    "lines_to_next_cell": 2
   },
   "outputs": [],
   "source": [
    "if A.startswith('#'):\n",
    "    A = '*' + A[1:]\n",
    "else:\n",
    "    A = '*' + A\n",
    "\n",
    "A"
   ]
  },
  {
   "cell_type": "markdown",
   "id": "445c17a1",
   "metadata": {},
   "source": [
    "## 4. \n",
    "\n",
    "![image.png](attachment:image.png)"
   ]
  },
  {
   "cell_type": "code",
   "execution_count": null,
   "id": "fde9f019",
   "metadata": {},
   "outputs": [],
   "source": [
    "n = 10\n",
    "\n",
    "summation = 0\n",
    "for i in range(1, n+1):\n",
    "    summation += i**4\n",
    "\n",
    "summation"
   ]
  }
 ],
 "metadata": {
  "kernelspec": {
   "display_name": "sandbox39",
   "language": "python",
   "name": "python3"
  }
 },
 "nbformat": 4,
 "nbformat_minor": 5
}
