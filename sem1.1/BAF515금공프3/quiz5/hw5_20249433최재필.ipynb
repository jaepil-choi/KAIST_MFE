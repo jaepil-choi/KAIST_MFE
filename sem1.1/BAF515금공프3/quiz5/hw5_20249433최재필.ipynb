{
 "cells": [
  {
   "cell_type": "markdown",
   "metadata": {},
   "source": [
    "# 금공프 HW5\n",
    "\n",
    "20249433 최재필"
   ]
  },
  {
   "cell_type": "code",
   "execution_count": 1,
   "metadata": {},
   "outputs": [],
   "source": [
    "import numpy as np\n",
    "import pandas as pd"
   ]
  },
  {
   "cell_type": "markdown",
   "metadata": {},
   "source": [
    "## 1. "
   ]
  },
  {
   "cell_type": "code",
   "execution_count": 3,
   "metadata": {},
   "outputs": [],
   "source": [
    "np.random.seed(123)\n",
    "\n",
    "arr = np.random.randn(8, 10)"
   ]
  },
  {
   "cell_type": "markdown",
   "metadata": {},
   "source": [
    "### (1)    "
   ]
  },
  {
   "cell_type": "code",
   "execution_count": 5,
   "metadata": {},
   "outputs": [
    {
     "data": {
      "text/plain": [
       "array([-3.68648899, -3.20797062,  1.89628963, -4.31697028, -1.68652947,\n",
       "        3.31014718,  3.61439765,  2.82609217,  1.68894737,  0.84241575])"
      ]
     },
     "execution_count": 5,
     "metadata": {},
     "output_type": "execute_result"
    }
   ],
   "source": [
    "arr.sum(axis=0)"
   ]
  },
  {
   "cell_type": "markdown",
   "metadata": {},
   "source": [
    "### (2)"
   ]
  },
  {
   "cell_type": "code",
   "execution_count": 14,
   "metadata": {},
   "outputs": [
    {
     "name": "stdout",
     "output_type": "stream",
     "text": [
      "row index: [1 1 4 4]\n",
      "column index: [6 7 6 9]\n"
     ]
    }
   ],
   "source": [
    "row_idx, col_idx = np.where(arr > 2)\n",
    "\n",
    "print(f'row index: {row_idx}')\n",
    "print(f'column index: {col_idx}')"
   ]
  },
  {
   "cell_type": "markdown",
   "metadata": {},
   "source": [
    "## 2. "
   ]
  },
  {
   "cell_type": "code",
   "execution_count": 15,
   "metadata": {},
   "outputs": [],
   "source": [
    "values = [0, 1, 2, 3]\n",
    "index = ['a', 'b', 'c', 'd']"
   ]
  },
  {
   "cell_type": "code",
   "execution_count": 16,
   "metadata": {},
   "outputs": [
    {
     "data": {
      "text/plain": [
       "a    0\n",
       "b    1\n",
       "c    2\n",
       "d    3\n",
       "dtype: int64"
      ]
     },
     "execution_count": 16,
     "metadata": {},
     "output_type": "execute_result"
    }
   ],
   "source": [
    "# 1. Create series from list/numpy array\n",
    "s = pd.Series(data=values, index=index)\n",
    "s"
   ]
  },
  {
   "cell_type": "code",
   "execution_count": 17,
   "metadata": {},
   "outputs": [
    {
     "data": {
      "text/plain": [
       "a    0\n",
       "b    1\n",
       "c    2\n",
       "d    3\n",
       "dtype: int64"
      ]
     },
     "execution_count": 17,
     "metadata": {},
     "output_type": "execute_result"
    }
   ],
   "source": [
    "# 2. Create series from dictionary\n",
    "s = pd.Series(data={k: v for k, v in zip(index, values)})\n",
    "s"
   ]
  },
  {
   "cell_type": "code",
   "execution_count": 25,
   "metadata": {},
   "outputs": [
    {
     "data": {
      "text/plain": [
       "a    0\n",
       "b    1\n",
       "c    2\n",
       "d    3\n",
       "dtype: int64"
      ]
     },
     "execution_count": 25,
     "metadata": {},
     "output_type": "execute_result"
    }
   ],
   "source": [
    "# 3. Create series from scalar value\n",
    "s = pd.Series(data=0, index=index)\n",
    "\n",
    "s['b'] = 1\n",
    "s['c'] = 2\n",
    "s['d'] = 3\n",
    "\n",
    "s"
   ]
  },
  {
   "cell_type": "markdown",
   "metadata": {},
   "source": [
    "## 3. "
   ]
  },
  {
   "cell_type": "code",
   "execution_count": 30,
   "metadata": {},
   "outputs": [
    {
     "data": {
      "text/plain": [
       "a    1\n",
       "b    4\n",
       "c    2\n",
       "d    3\n",
       "dtype: int64"
      ]
     },
     "execution_count": 30,
     "metadata": {},
     "output_type": "execute_result"
    }
   ],
   "source": [
    "Snew = pd.Series({\n",
    "    'a': 1,\n",
    "    'b': 4,\n",
    "    'c': 2,\n",
    "    'd': 3,\n",
    "})\n",
    "Snew"
   ]
  },
  {
   "cell_type": "code",
   "execution_count": 37,
   "metadata": {},
   "outputs": [
    {
     "data": {
      "text/plain": [
       "b    4\n",
       "c    2\n",
       "dtype: int64"
      ]
     },
     "execution_count": 37,
     "metadata": {},
     "output_type": "execute_result"
    }
   ],
   "source": [
    "# Use index number to access values\n",
    "Snew[1:3]"
   ]
  },
  {
   "cell_type": "code",
   "execution_count": 38,
   "metadata": {},
   "outputs": [
    {
     "data": {
      "text/plain": [
       "b    4\n",
       "c    2\n",
       "dtype: int64"
      ]
     },
     "execution_count": 38,
     "metadata": {},
     "output_type": "execute_result"
    }
   ],
   "source": [
    "# Use index value to access values\n",
    "Snew[['b', 'c']]"
   ]
  },
  {
   "cell_type": "code",
   "execution_count": 39,
   "metadata": {},
   "outputs": [
    {
     "data": {
      "text/plain": [
       "b    4\n",
       "c    2\n",
       "dtype: int64"
      ]
     },
     "execution_count": 39,
     "metadata": {},
     "output_type": "execute_result"
    }
   ],
   "source": [
    "# Use the .loc[] accessor to select elements by index\n",
    "Snew.loc['b':'c']"
   ]
  },
  {
   "cell_type": "code",
   "execution_count": 40,
   "metadata": {},
   "outputs": [
    {
     "data": {
      "text/plain": [
       "b    4\n",
       "c    2\n",
       "dtype: int64"
      ]
     },
     "execution_count": 40,
     "metadata": {},
     "output_type": "execute_result"
    }
   ],
   "source": [
    "# Use the .iloc[] accessor to select elements by position\n",
    "Snew.iloc[1:3]"
   ]
  },
  {
   "cell_type": "markdown",
   "metadata": {},
   "source": [
    "## 4"
   ]
  },
  {
   "cell_type": "code",
   "execution_count": 41,
   "metadata": {},
   "outputs": [
    {
     "data": {
      "text/html": [
       "<div>\n",
       "<style scoped>\n",
       "    .dataframe tbody tr th:only-of-type {\n",
       "        vertical-align: middle;\n",
       "    }\n",
       "\n",
       "    .dataframe tbody tr th {\n",
       "        vertical-align: top;\n",
       "    }\n",
       "\n",
       "    .dataframe thead th {\n",
       "        text-align: right;\n",
       "    }\n",
       "</style>\n",
       "<table border=\"1\" class=\"dataframe\">\n",
       "  <thead>\n",
       "    <tr style=\"text-align: right;\">\n",
       "      <th></th>\n",
       "      <th>a</th>\n",
       "      <th>b</th>\n",
       "      <th>c</th>\n",
       "      <th>d</th>\n",
       "      <th>e</th>\n",
       "      <th>f</th>\n",
       "      <th>g</th>\n",
       "    </tr>\n",
       "  </thead>\n",
       "  <tbody>\n",
       "    <tr>\n",
       "      <th>3</th>\n",
       "      <td>1.255237</td>\n",
       "      <td>-0.688869</td>\n",
       "      <td>1.660952</td>\n",
       "      <td>0.807308</td>\n",
       "      <td>-0.314758</td>\n",
       "      <td>-1.085902</td>\n",
       "      <td>-0.732462</td>\n",
       "    </tr>\n",
       "    <tr>\n",
       "      <th>2</th>\n",
       "      <td>-1.212523</td>\n",
       "      <td>2.087113</td>\n",
       "      <td>0.164441</td>\n",
       "      <td>1.150206</td>\n",
       "      <td>-1.267352</td>\n",
       "      <td>0.181035</td>\n",
       "      <td>1.177862</td>\n",
       "    </tr>\n",
       "    <tr>\n",
       "      <th>4</th>\n",
       "      <td>-0.335011</td>\n",
       "      <td>1.031114</td>\n",
       "      <td>-1.084568</td>\n",
       "      <td>-1.363472</td>\n",
       "      <td>0.379401</td>\n",
       "      <td>-0.379176</td>\n",
       "      <td>0.642055</td>\n",
       "    </tr>\n",
       "    <tr>\n",
       "      <th>5</th>\n",
       "      <td>-1.977888</td>\n",
       "      <td>0.712265</td>\n",
       "      <td>2.598304</td>\n",
       "      <td>-0.024626</td>\n",
       "      <td>0.034142</td>\n",
       "      <td>0.179549</td>\n",
       "      <td>-1.861976</td>\n",
       "    </tr>\n",
       "    <tr>\n",
       "      <th>1</th>\n",
       "      <td>0.426147</td>\n",
       "      <td>-1.605410</td>\n",
       "      <td>-0.427680</td>\n",
       "      <td>1.242870</td>\n",
       "      <td>-0.735217</td>\n",
       "      <td>0.501249</td>\n",
       "      <td>1.012739</td>\n",
       "    </tr>\n",
       "    <tr>\n",
       "      <th>0</th>\n",
       "      <td>0.278741</td>\n",
       "      <td>-1.370948</td>\n",
       "      <td>-0.332475</td>\n",
       "      <td>1.959411</td>\n",
       "      <td>-2.025046</td>\n",
       "      <td>-0.275786</td>\n",
       "      <td>-0.552108</td>\n",
       "    </tr>\n",
       "  </tbody>\n",
       "</table>\n",
       "</div>"
      ],
      "text/plain": [
       "          a         b         c         d         e         f         g\n",
       "3  1.255237 -0.688869  1.660952  0.807308 -0.314758 -1.085902 -0.732462\n",
       "2 -1.212523  2.087113  0.164441  1.150206 -1.267352  0.181035  1.177862\n",
       "4 -0.335011  1.031114 -1.084568 -1.363472  0.379401 -0.379176  0.642055\n",
       "5 -1.977888  0.712265  2.598304 -0.024626  0.034142  0.179549 -1.861976\n",
       "1  0.426147 -1.605410 -0.427680  1.242870 -0.735217  0.501249  1.012739\n",
       "0  0.278741 -1.370948 -0.332475  1.959411 -2.025046 -0.275786 -0.552108"
      ]
     },
     "execution_count": 41,
     "metadata": {},
     "output_type": "execute_result"
    }
   ],
   "source": [
    "DF = pd.DataFrame(\n",
    "    data=np.random.randn(6, 7), \n",
    "    columns=list('abcdefg'), \n",
    "    index=[3, 2, 4, 5, 1, 0],\n",
    "    )\n",
    "DF"
   ]
  },
  {
   "cell_type": "markdown",
   "metadata": {},
   "source": [
    "### (1)"
   ]
  },
  {
   "cell_type": "code",
   "execution_count": 43,
   "metadata": {},
   "outputs": [
    {
     "data": {
      "text/html": [
       "<div>\n",
       "<style scoped>\n",
       "    .dataframe tbody tr th:only-of-type {\n",
       "        vertical-align: middle;\n",
       "    }\n",
       "\n",
       "    .dataframe tbody tr th {\n",
       "        vertical-align: top;\n",
       "    }\n",
       "\n",
       "    .dataframe thead th {\n",
       "        text-align: right;\n",
       "    }\n",
       "</style>\n",
       "<table border=\"1\" class=\"dataframe\">\n",
       "  <thead>\n",
       "    <tr style=\"text-align: right;\">\n",
       "      <th></th>\n",
       "      <th>c</th>\n",
       "      <th>d</th>\n",
       "      <th>e</th>\n",
       "    </tr>\n",
       "  </thead>\n",
       "  <tbody>\n",
       "    <tr>\n",
       "      <th>3</th>\n",
       "      <td>1.660952</td>\n",
       "      <td>0.807308</td>\n",
       "      <td>-0.314758</td>\n",
       "    </tr>\n",
       "    <tr>\n",
       "      <th>2</th>\n",
       "      <td>0.164441</td>\n",
       "      <td>1.150206</td>\n",
       "      <td>-1.267352</td>\n",
       "    </tr>\n",
       "    <tr>\n",
       "      <th>4</th>\n",
       "      <td>-1.084568</td>\n",
       "      <td>-1.363472</td>\n",
       "      <td>0.379401</td>\n",
       "    </tr>\n",
       "    <tr>\n",
       "      <th>5</th>\n",
       "      <td>2.598304</td>\n",
       "      <td>-0.024626</td>\n",
       "      <td>0.034142</td>\n",
       "    </tr>\n",
       "    <tr>\n",
       "      <th>1</th>\n",
       "      <td>-0.427680</td>\n",
       "      <td>1.242870</td>\n",
       "      <td>-0.735217</td>\n",
       "    </tr>\n",
       "    <tr>\n",
       "      <th>0</th>\n",
       "      <td>-0.332475</td>\n",
       "      <td>1.959411</td>\n",
       "      <td>-2.025046</td>\n",
       "    </tr>\n",
       "  </tbody>\n",
       "</table>\n",
       "</div>"
      ],
      "text/plain": [
       "          c         d         e\n",
       "3  1.660952  0.807308 -0.314758\n",
       "2  0.164441  1.150206 -1.267352\n",
       "4 -1.084568 -1.363472  0.379401\n",
       "5  2.598304 -0.024626  0.034142\n",
       "1 -0.427680  1.242870 -0.735217\n",
       "0 -0.332475  1.959411 -2.025046"
      ]
     },
     "execution_count": 43,
     "metadata": {},
     "output_type": "execute_result"
    }
   ],
   "source": [
    "DF.iloc[:, 2:5]"
   ]
  },
  {
   "cell_type": "markdown",
   "metadata": {},
   "source": [
    "### (2)"
   ]
  },
  {
   "cell_type": "code",
   "execution_count": 44,
   "metadata": {},
   "outputs": [
    {
     "data": {
      "text/html": [
       "<div>\n",
       "<style scoped>\n",
       "    .dataframe tbody tr th:only-of-type {\n",
       "        vertical-align: middle;\n",
       "    }\n",
       "\n",
       "    .dataframe tbody tr th {\n",
       "        vertical-align: top;\n",
       "    }\n",
       "\n",
       "    .dataframe thead th {\n",
       "        text-align: right;\n",
       "    }\n",
       "</style>\n",
       "<table border=\"1\" class=\"dataframe\">\n",
       "  <thead>\n",
       "    <tr style=\"text-align: right;\">\n",
       "      <th></th>\n",
       "      <th>c</th>\n",
       "      <th>d</th>\n",
       "      <th>e</th>\n",
       "    </tr>\n",
       "  </thead>\n",
       "  <tbody>\n",
       "    <tr>\n",
       "      <th>3</th>\n",
       "      <td>1.660952</td>\n",
       "      <td>0.807308</td>\n",
       "      <td>-0.314758</td>\n",
       "    </tr>\n",
       "    <tr>\n",
       "      <th>2</th>\n",
       "      <td>0.164441</td>\n",
       "      <td>1.150206</td>\n",
       "      <td>-1.267352</td>\n",
       "    </tr>\n",
       "    <tr>\n",
       "      <th>4</th>\n",
       "      <td>-1.084568</td>\n",
       "      <td>-1.363472</td>\n",
       "      <td>0.379401</td>\n",
       "    </tr>\n",
       "    <tr>\n",
       "      <th>5</th>\n",
       "      <td>2.598304</td>\n",
       "      <td>-0.024626</td>\n",
       "      <td>0.034142</td>\n",
       "    </tr>\n",
       "    <tr>\n",
       "      <th>1</th>\n",
       "      <td>-0.427680</td>\n",
       "      <td>1.242870</td>\n",
       "      <td>-0.735217</td>\n",
       "    </tr>\n",
       "    <tr>\n",
       "      <th>0</th>\n",
       "      <td>-0.332475</td>\n",
       "      <td>1.959411</td>\n",
       "      <td>-2.025046</td>\n",
       "    </tr>\n",
       "  </tbody>\n",
       "</table>\n",
       "</div>"
      ],
      "text/plain": [
       "          c         d         e\n",
       "3  1.660952  0.807308 -0.314758\n",
       "2  0.164441  1.150206 -1.267352\n",
       "4 -1.084568 -1.363472  0.379401\n",
       "5  2.598304 -0.024626  0.034142\n",
       "1 -0.427680  1.242870 -0.735217\n",
       "0 -0.332475  1.959411 -2.025046"
      ]
     },
     "execution_count": 44,
     "metadata": {},
     "output_type": "execute_result"
    }
   ],
   "source": [
    "DF[['c', 'd', 'e']]"
   ]
  },
  {
   "cell_type": "markdown",
   "metadata": {},
   "source": [
    "## 5. "
   ]
  },
  {
   "cell_type": "markdown",
   "metadata": {},
   "source": [
    "### (1)"
   ]
  },
  {
   "cell_type": "code",
   "execution_count": 47,
   "metadata": {},
   "outputs": [
    {
     "data": {
      "text/plain": [
       "4   -1.084568\n",
       "1   -0.427680\n",
       "0   -0.332475\n",
       "Name: c, dtype: float64"
      ]
     },
     "execution_count": 47,
     "metadata": {},
     "output_type": "execute_result"
    }
   ],
   "source": [
    "DF.loc[DF['c'] < 0, 'c']"
   ]
  },
  {
   "cell_type": "markdown",
   "metadata": {},
   "source": [
    "### (2)"
   ]
  },
  {
   "cell_type": "code",
   "execution_count": 79,
   "metadata": {},
   "outputs": [
    {
     "data": {
      "text/plain": [
       "4   -1.084568\n",
       "1   -0.427680\n",
       "0   -0.332475\n",
       "Name: c, dtype: float64"
      ]
     },
     "execution_count": 79,
     "metadata": {},
     "output_type": "execute_result"
    }
   ],
   "source": [
    "DF[(DF['c'] < 0)]['c']"
   ]
  }
 ],
 "metadata": {
  "kernelspec": {
   "display_name": ".venv",
   "language": "python",
   "name": "python3"
  },
  "language_info": {
   "codemirror_mode": {
    "name": "ipython",
    "version": 3
   },
   "file_extension": ".py",
   "mimetype": "text/x-python",
   "name": "python",
   "nbconvert_exporter": "python",
   "pygments_lexer": "ipython3",
   "version": "3.10.11"
  }
 },
 "nbformat": 4,
 "nbformat_minor": 2
}
