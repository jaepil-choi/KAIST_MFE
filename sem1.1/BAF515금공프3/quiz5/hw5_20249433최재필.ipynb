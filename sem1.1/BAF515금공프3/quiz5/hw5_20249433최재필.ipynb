{
 "cells": [
  {
   "cell_type": "markdown",
   "id": "ba891749",
   "metadata": {},
   "source": [
    "# 금공프 HW5\n",
    "\n",
    "20249433 최재필"
   ]
  },
  {
   "cell_type": "code",
   "execution_count": null,
   "id": "0c52bd5f",
   "metadata": {},
   "outputs": [],
   "source": [
    "import numpy as np\n",
    "import pandas as pd"
   ]
  },
  {
   "cell_type": "markdown",
   "id": "dee3d181",
   "metadata": {},
   "source": [
    "## 1. "
   ]
  },
  {
   "cell_type": "code",
   "execution_count": null,
   "id": "740a0817",
   "metadata": {},
   "outputs": [],
   "source": [
    "np.random.seed(123)\n",
    "\n",
    "arr = np.random.randn(8, 10)"
   ]
  },
  {
   "cell_type": "markdown",
   "id": "540cf969",
   "metadata": {},
   "source": [
    "### (1)    "
   ]
  },
  {
   "cell_type": "code",
   "execution_count": null,
   "id": "470ee0ca",
   "metadata": {},
   "outputs": [],
   "source": [
    "arr.sum(axis=0)"
   ]
  },
  {
   "cell_type": "markdown",
   "id": "43382998",
   "metadata": {},
   "source": [
    "### (2)"
   ]
  },
  {
   "cell_type": "code",
   "execution_count": null,
   "id": "2f548c94",
   "metadata": {},
   "outputs": [],
   "source": [
    "row_idx, col_idx = np.where(arr > 2)\n",
    "\n",
    "print(f'row index: {row_idx}')\n",
    "print(f'column index: {col_idx}')"
   ]
  },
  {
   "cell_type": "markdown",
   "id": "b662a7c8",
   "metadata": {},
   "source": [
    "## 2. "
   ]
  },
  {
   "cell_type": "code",
   "execution_count": null,
   "id": "9a8d9302",
   "metadata": {},
   "outputs": [],
   "source": [
    "values = [0, 1, 2, 3]\n",
    "index = ['a', 'b', 'c', 'd']"
   ]
  },
  {
   "cell_type": "code",
   "execution_count": null,
   "id": "491d22a6",
   "metadata": {},
   "outputs": [],
   "source": [
    "# 1. Create series from list/numpy array\n",
    "s = pd.Series(data=values, index=index)\n",
    "s"
   ]
  },
  {
   "cell_type": "code",
   "execution_count": null,
   "id": "ee195d29",
   "metadata": {},
   "outputs": [],
   "source": [
    "# 2. Create series from dictionary\n",
    "s = pd.Series(data={k: v for k, v in zip(index, values)})\n",
    "s"
   ]
  },
  {
   "cell_type": "code",
   "execution_count": null,
   "id": "a67b3820",
   "metadata": {},
   "outputs": [],
   "source": [
    "# 3. Create series from scalar value\n",
    "s = pd.Series(data=0, index=index)\n",
    "\n",
    "s['b'] = 1\n",
    "s['c'] = 2\n",
    "s['d'] = 3\n",
    "\n",
    "s"
   ]
  },
  {
   "cell_type": "markdown",
   "id": "57954089",
   "metadata": {},
   "source": [
    "## 3. "
   ]
  },
  {
   "cell_type": "code",
   "execution_count": null,
   "id": "e62ca6c6",
   "metadata": {},
   "outputs": [],
   "source": [
    "Snew = pd.Series({\n",
    "    'a': 1,\n",
    "    'b': 4,\n",
    "    'c': 2,\n",
    "    'd': 3,\n",
    "})\n",
    "Snew"
   ]
  },
  {
   "cell_type": "code",
   "execution_count": null,
   "id": "42cea555",
   "metadata": {},
   "outputs": [],
   "source": [
    "# Use index number to access values\n",
    "Snew[1:3]"
   ]
  },
  {
   "cell_type": "code",
   "execution_count": null,
   "id": "d0892c77",
   "metadata": {},
   "outputs": [],
   "source": [
    "# Use index value to access values\n",
    "Snew[['b', 'c']]"
   ]
  },
  {
   "cell_type": "code",
   "execution_count": null,
   "id": "0b8f7497",
   "metadata": {},
   "outputs": [],
   "source": [
    "# Use the .loc[] accessor to select elements by index\n",
    "Snew.loc['b':'c']"
   ]
  },
  {
   "cell_type": "code",
   "execution_count": null,
   "id": "aaedd884",
   "metadata": {},
   "outputs": [],
   "source": [
    "# Use the .iloc[] accessor to select elements by position\n",
    "Snew.iloc[1:3]"
   ]
  },
  {
   "cell_type": "markdown",
   "id": "51c30087",
   "metadata": {},
   "source": [
    "## 4"
   ]
  },
  {
   "cell_type": "code",
   "execution_count": null,
   "id": "74b991fe",
   "metadata": {},
   "outputs": [],
   "source": [
    "DF = pd.DataFrame(\n",
    "    data=np.random.randn(6, 7), \n",
    "    columns=list('abcdefg'), \n",
    "    index=[3, 2, 4, 5, 1, 0],\n",
    "    )\n",
    "DF"
   ]
  },
  {
   "cell_type": "markdown",
   "id": "fabc51a9",
   "metadata": {},
   "source": [
    "### (1)"
   ]
  },
  {
   "cell_type": "code",
   "execution_count": null,
   "id": "6365002e",
   "metadata": {},
   "outputs": [],
   "source": [
    "DF.iloc[:, 2:5]"
   ]
  },
  {
   "cell_type": "markdown",
   "id": "a0641e43",
   "metadata": {},
   "source": [
    "### (2)"
   ]
  },
  {
   "cell_type": "code",
   "execution_count": null,
   "id": "f4411283",
   "metadata": {},
   "outputs": [],
   "source": [
    "DF[['c', 'd', 'e']]"
   ]
  },
  {
   "cell_type": "markdown",
   "id": "6e00da5b",
   "metadata": {},
   "source": [
    "## 5. "
   ]
  },
  {
   "cell_type": "markdown",
   "id": "483b892a",
   "metadata": {},
   "source": [
    "### (1)"
   ]
  },
  {
   "cell_type": "code",
   "execution_count": null,
   "id": "5386beb9",
   "metadata": {},
   "outputs": [],
   "source": [
    "DF.loc[DF['c'] < 0, 'c']"
   ]
  },
  {
   "cell_type": "markdown",
   "id": "1c29e32f",
   "metadata": {},
   "source": [
    "### (2)"
   ]
  },
  {
   "cell_type": "code",
   "execution_count": null,
   "id": "a7b2e864",
   "metadata": {},
   "outputs": [],
   "source": [
    "DF[(DF['c'] < 0)]['c']"
   ]
  }
 ],
 "metadata": {
  "kernelspec": {
   "display_name": ".venv",
   "language": "python",
   "name": "python3"
  }
 },
 "nbformat": 4,
 "nbformat_minor": 5
}
