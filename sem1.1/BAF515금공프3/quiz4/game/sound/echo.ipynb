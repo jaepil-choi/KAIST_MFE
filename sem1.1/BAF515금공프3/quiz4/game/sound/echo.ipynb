{
 "cells": [
  {
   "cell_type": "code",
   "execution_count": null,
   "id": "bcedd530",
   "metadata": {
    "lines_to_next_cell": 1
   },
   "outputs": [],
   "source": [
    "foo = 1"
   ]
  },
  {
   "cell_type": "code",
   "execution_count": null,
   "id": "bb7a1134",
   "metadata": {},
   "outputs": [],
   "source": [
    "def echo_test():\n",
    "    print(foo)\n",
    "\n",
    "    return"
   ]
  }
 ],
 "metadata": {
  "jupytext": {
   "cell_metadata_filter": "-all",
   "main_language": "python",
   "notebook_metadata_filter": "-all"
  }
 },
 "nbformat": 4,
 "nbformat_minor": 5
}
