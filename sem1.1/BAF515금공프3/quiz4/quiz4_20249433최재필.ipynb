{
 "cells": [
  {
   "cell_type": "markdown",
   "id": "440445a8",
   "metadata": {},
   "source": [
    "# 금공프3 퀴즈4\n",
    "\n",
    "MFE 20249433 최재필"
   ]
  },
  {
   "cell_type": "markdown",
   "id": "0f3e454a",
   "metadata": {},
   "source": [
    "## 1. "
   ]
  },
  {
   "cell_type": "markdown",
   "id": "fa2c2452",
   "metadata": {},
   "source": [
    "Answer: 3\n",
    "\n",
    "Why?\n",
    "- Python's import system is hierarchical, which means that importing a top-level package does not automatically import its subpackages or modules. \n",
    "- Given `__init__.py ` is empty, importing just a top-level package `game` does not import its subpackages/modules. "
   ]
  },
  {
   "cell_type": "markdown",
   "id": "8cebd1de",
   "metadata": {},
   "source": [
    "## 2. "
   ]
  },
  {
   "cell_type": "code",
   "execution_count": null,
   "id": "c8967d60",
   "metadata": {},
   "outputs": [],
   "source": [
    "import numpy as np\n",
    "\n",
    "abc = np.arange(5)\n",
    "abc[0] = 10.2345\n",
    "abc"
   ]
  },
  {
   "cell_type": "code",
   "execution_count": null,
   "id": "9670bb8f",
   "metadata": {},
   "outputs": [],
   "source": [
    "abc.dtype"
   ]
  },
  {
   "cell_type": "markdown",
   "id": "a79a963f",
   "metadata": {},
   "source": [
    "Why?\n",
    "\n",
    "- Because the array was originally created as an array of integers, its `dtype` is `int32`. \n",
    "- To maintain the same type across all elements, numpy transformed the float value to int. "
   ]
  },
  {
   "cell_type": "markdown",
   "id": "f63ad5e8",
   "metadata": {},
   "source": [
    "## 3. "
   ]
  },
  {
   "cell_type": "code",
   "execution_count": null,
   "id": "2042c11d",
   "metadata": {},
   "outputs": [],
   "source": [
    "np.random.seed(1)\n",
    "rmat = np.random.randint(10, size=(3, 4))\n",
    "rmat"
   ]
  },
  {
   "cell_type": "code",
   "execution_count": null,
   "id": "ba032cd0",
   "metadata": {},
   "outputs": [],
   "source": [
    "rmat2 = rmat[0]\n",
    "rmat2"
   ]
  },
  {
   "cell_type": "markdown",
   "id": "45a17736",
   "metadata": {},
   "source": [
    "Why?\n",
    "\n",
    "- `rmat2` is of course one-dimensional because it's selecting the first (0th) element of `rmat`, which is basically an array of arrays. \n",
    "- The first row is the first (0th) element of `rmat`, so naturally `rmat2` is one-dimensional instead of two. "
   ]
  },
  {
   "cell_type": "markdown",
   "id": "8c97c395",
   "metadata": {},
   "source": [
    "## 4. "
   ]
  },
  {
   "cell_type": "code",
   "execution_count": null,
   "id": "ed721e78",
   "metadata": {},
   "outputs": [],
   "source": [
    "a = np.arange(15).reshape(3, 5)\n",
    "a.shape"
   ]
  },
  {
   "cell_type": "code",
   "execution_count": null,
   "id": "d337646a",
   "metadata": {},
   "outputs": [],
   "source": [
    "b = np.arange(3)\n",
    "b.shape"
   ]
  },
  {
   "cell_type": "code",
   "execution_count": null,
   "id": "3f3543fb",
   "metadata": {},
   "outputs": [],
   "source": [
    "np.hstack([a, b])"
   ]
  },
  {
   "cell_type": "markdown",
   "id": "ff3a1443",
   "metadata": {},
   "source": [
    "Why? \n",
    "- `a`'s shape is (3, 5) while `b` is (3, )\n",
    "- To perform `hstack`, all dimensions should match except for the concatenation axis. \n",
    "- Since `a`'s concatenation axis is 5 and `b` is None, they cannot be stacked. "
   ]
  },
  {
   "cell_type": "markdown",
   "id": "52e29b37",
   "metadata": {},
   "source": [
    "## 5. "
   ]
  },
  {
   "cell_type": "code",
   "execution_count": null,
   "id": "0a268056",
   "metadata": {},
   "outputs": [],
   "source": [
    "a = np.arange(15).reshape(3, 5)\n",
    "a.shape"
   ]
  },
  {
   "cell_type": "code",
   "execution_count": null,
   "id": "d8365145",
   "metadata": {},
   "outputs": [],
   "source": [
    "b = np.arange(3)\n",
    "b.shape"
   ]
  },
  {
   "cell_type": "code",
   "execution_count": null,
   "id": "bf1fcd06",
   "metadata": {},
   "outputs": [],
   "source": [
    "b[None, :].shape # The same as b[np.newaxis, :]"
   ]
  },
  {
   "cell_type": "markdown",
   "id": "29fa1f9f",
   "metadata": {},
   "source": [
    "Why?\n",
    "\n",
    "- `+` is element-wise operation in Numpy. To perform element-wise operation, the arrays should be in the same shape or are broadcastable. \n",
    "- To use broadcasting, `b` should be changed like the below. "
   ]
  },
  {
   "cell_type": "code",
   "execution_count": null,
   "id": "847e4414",
   "metadata": {},
   "outputs": [],
   "source": [
    "a + b[:, None]"
   ]
  }
 ],
 "metadata": {
  "kernelspec": {
   "display_name": ".venv",
   "language": "python",
   "name": "python3"
  }
 },
 "nbformat": 4,
 "nbformat_minor": 5
}
