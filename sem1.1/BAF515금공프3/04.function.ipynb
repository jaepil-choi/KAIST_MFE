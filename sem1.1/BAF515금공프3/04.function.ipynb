{
 "cells": [
  {
   "cell_type": "markdown",
   "id": "c5780cba",
   "metadata": {},
   "source": [
    "# Chapter 4. Function"
   ]
  },
  {
   "cell_type": "code",
   "execution_count": null,
   "id": "2be14b73",
   "metadata": {},
   "outputs": [],
   "source": [
    "import numpy as np"
   ]
  },
  {
   "cell_type": "markdown",
   "id": "cd7a63e0",
   "metadata": {},
   "source": [
    "![image.png](attachment:image.png)"
   ]
  },
  {
   "cell_type": "code",
   "execution_count": null,
   "id": "9f14227d",
   "metadata": {},
   "outputs": [],
   "source": [
    "def count_odd(l):\n",
    "    odd_count = 0\n",
    "    for i in l:\n",
    "        if i % 2 != 0:\n",
    "            odd_count += 1\n",
    "    \n",
    "    return odd_count"
   ]
  },
  {
   "cell_type": "code",
   "execution_count": null,
   "id": "e0d40666",
   "metadata": {},
   "outputs": [],
   "source": [
    "a = count_odd(l=[1,2,5,7,8])\n",
    "a"
   ]
  },
  {
   "cell_type": "code",
   "execution_count": null,
   "id": "173b360b",
   "metadata": {},
   "outputs": [],
   "source": [
    "np.where(np.array([1,2,5,7,8]) % 2 != 0, 1, 0).sum()"
   ]
  },
  {
   "cell_type": "markdown",
   "id": "2da8bac7",
   "metadata": {},
   "source": [
    "Self-Exercise: Numerical Square Root"
   ]
  },
  {
   "cell_type": "code",
   "execution_count": null,
   "id": "7c0176cd",
   "metadata": {},
   "outputs": [],
   "source": [
    "def num_sqrt(n):\n",
    "    # Initial Values\n",
    "    epsilon = 0.00001\n",
    "    \n",
    "    r = n/2\n",
    "    lin1 = n/r\n",
    "    lin2 = r \n",
    "\n",
    "    while abs(lin1 - lin2) >= epsilon:\n",
    "        r = (lin1 + lin2) / 2 # 이걸 잘못 써서 느렸던 것. 처음에 (lin1 - lin2) / 2로 했었다. 수렴하지 않는 방향. \n",
    "        lin1 = n/r\n",
    "        lin2 = r\n",
    "    \n",
    "    return r"
   ]
  },
  {
   "cell_type": "code",
   "execution_count": null,
   "id": "e81cd51f",
   "metadata": {},
   "outputs": [],
   "source": [
    "num_sqrt(9)"
   ]
  },
  {
   "cell_type": "code",
   "execution_count": null,
   "id": "6d629752",
   "metadata": {},
   "outputs": [],
   "source": [
    "num_sqrt(10000)"
   ]
  },
  {
   "cell_type": "code",
   "execution_count": null,
   "id": "d2e37693",
   "metadata": {},
   "outputs": [],
   "source": [
    "10000**(1/2)"
   ]
  },
  {
   "cell_type": "code",
   "execution_count": null,
   "id": "75920ed4",
   "metadata": {},
   "outputs": [],
   "source": [
    "# 교수님 풀이 \n",
    "\n",
    "def mySqrt(n):\n",
    "    old = 0\n",
    "    new = n/2\n",
    "\n",
    "    while abs(old-new) >= 1e-10:\n",
    "        old = new\n",
    "        new = 1/2 * (old + n/old)\n",
    "    \n",
    "    return new"
   ]
  },
  {
   "cell_type": "code",
   "execution_count": null,
   "id": "e858d915",
   "metadata": {},
   "outputs": [],
   "source": [
    "mySqrt(9)"
   ]
  },
  {
   "cell_type": "markdown",
   "id": "a9c4e6e8",
   "metadata": {},
   "source": [
    "Function Scope \n",
    "\n",
    "- Local vs Global \n",
    "    - global은 원래 함수 내에서 읽을 수만 있고 수정은 안됨. \n",
    "    - `global`을 통해 함수의 local scope 내에서도 write 할 수 있다. \n",
    "- 함수가 variable 을 탐색하는 순서:\n",
    "    - LEGB (Local Enclosed Global Built-in)\n",
    "    - nested inner의 경우 enclosed를 local 다음으로 읽고, 할당이 안된다. "
   ]
  },
  {
   "cell_type": "markdown",
   "id": "737bcd5a",
   "metadata": {},
   "source": [
    "질문: \n",
    "\n",
    "- function 종료될 때 local 에 할당한 변수들 다 메모리 회수되나? \n",
    "- pandas 같은것에서 변수에 dataframe을 하나씩 transform 해가며 할당할 때, 가급적 같은 변수에 계속 재할당 하는 것이 좋은지? (garbage collection 관점에서)"
   ]
  },
  {
   "cell_type": "code",
   "execution_count": null,
   "id": "eea5a1cb",
   "metadata": {},
   "outputs": [],
   "source": [
    "a = 200\n",
    "b = 300\n",
    "def outer():\n",
    "    a = 10\n",
    "    def inner():\n",
    "        c = 30\n",
    "        print(a, b, c)\n",
    "    inner()\n",
    "    a = 22\n",
    "    inner()"
   ]
  },
  {
   "cell_type": "code",
   "execution_count": null,
   "id": "3f1bed58",
   "metadata": {},
   "outputs": [],
   "source": [
    "a = 200\n",
    "b = 300\n",
    "def outer():\n",
    "    a = 10\n",
    "    def inner():\n",
    "        c = 30\n",
    "        a = 99 # enclosed 변수는 nested inner에서 수정할 수 없다.  \n",
    "        print('inner', a, b, c)\n",
    "    inner()\n",
    "    print('outer', a, b)\n",
    "    a = 22\n",
    "    inner()"
   ]
  },
  {
   "cell_type": "code",
   "execution_count": null,
   "id": "97164502",
   "metadata": {},
   "outputs": [],
   "source": [
    "outer()"
   ]
  },
  {
   "cell_type": "code",
   "execution_count": null,
   "id": "f970129e",
   "metadata": {},
   "outputs": [],
   "source": []
  }
 ],
 "metadata": {
  "kernelspec": {
   "display_name": "sandbox311",
   "language": "python",
   "name": "python3"
  }
 },
 "nbformat": 4,
 "nbformat_minor": 5
}
