{
 "cells": [
  {
   "cell_type": "code",
   "execution_count": null,
   "id": "f286aec3",
   "metadata": {},
   "outputs": [],
   "source": [
    "from SmartPhones import Galaxy\n",
    "from SmartPhones import IPhone\n",
    "from SmartPhones import TMP"
   ]
  }
 ],
 "metadata": {
  "jupytext": {
   "cell_metadata_filter": "-all",
   "main_language": "python",
   "notebook_metadata_filter": "-all"
  }
 },
 "nbformat": 4,
 "nbformat_minor": 5
}
