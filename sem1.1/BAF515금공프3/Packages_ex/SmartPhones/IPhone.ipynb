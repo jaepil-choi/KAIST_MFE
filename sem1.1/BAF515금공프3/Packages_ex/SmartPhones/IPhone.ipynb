{
 "cells": [
  {
   "cell_type": "code",
   "execution_count": null,
   "id": "ce8ddb8a",
   "metadata": {},
   "outputs": [],
   "source": [
    "def IPhone_ftn():\n",
    "    print(\"I am Iphone\")"
   ]
  }
 ],
 "metadata": {
  "jupytext": {
   "cell_metadata_filter": "-all",
   "main_language": "python",
   "notebook_metadata_filter": "-all"
  }
 },
 "nbformat": 4,
 "nbformat_minor": 5
}
