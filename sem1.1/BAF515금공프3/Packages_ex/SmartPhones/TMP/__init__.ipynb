{
 "cells": [
  {
   "cell_type": "code",
   "execution_count": null,
   "id": "a45bf098",
   "metadata": {},
   "outputs": [],
   "source": [
    "from SmartPhones.TMP import abc"
   ]
  }
 ],
 "metadata": {
  "jupytext": {
   "cell_metadata_filter": "-all",
   "main_language": "python",
   "notebook_metadata_filter": "-all"
  }
 },
 "nbformat": 4,
 "nbformat_minor": 5
}
