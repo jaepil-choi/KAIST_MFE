{
 "cells": [
  {
   "cell_type": "code",
   "execution_count": null,
   "id": "7212b249",
   "metadata": {},
   "outputs": [],
   "source": [
    "def Galaxy_ftn():\n",
    "    print(\"I am Galaxy\")"
   ]
  }
 ],
 "metadata": {
  "jupytext": {
   "cell_metadata_filter": "-all",
   "main_language": "python",
   "notebook_metadata_filter": "-all"
  }
 },
 "nbformat": 4,
 "nbformat_minor": 5
}
