{
 "cells": [
  {
   "cell_type": "code",
   "execution_count": null,
   "id": "3aa0d6fb",
   "metadata": {},
   "outputs": [],
   "source": [
    "def abc_ftn():\n",
    "    print(\"abc\")"
   ]
  }
 ],
 "metadata": {
  "jupytext": {
   "cell_metadata_filter": "-all",
   "main_language": "python",
   "notebook_metadata_filter": "-all"
  }
 },
 "nbformat": 4,
 "nbformat_minor": 5
}
