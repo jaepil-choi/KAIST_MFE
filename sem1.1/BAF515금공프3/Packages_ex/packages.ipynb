{
 "cells": [
  {
   "cell_type": "markdown",
   "id": "4c833e9c",
   "metadata": {},
   "source": [
    "# Packages 실습"
   ]
  },
  {
   "cell_type": "markdown",
   "id": "7d500363",
   "metadata": {},
   "source": [
    "- `SmartPhones`가 package, `TMP`가 subpackage"
   ]
  },
  {
   "cell_type": "code",
   "execution_count": null,
   "id": "558e0978",
   "metadata": {},
   "outputs": [],
   "source": [
    "from SmartPhones.TMP import abc"
   ]
  },
  {
   "cell_type": "code",
   "execution_count": null,
   "id": "ee94c55e",
   "metadata": {},
   "outputs": [],
   "source": [
    "abc.abc_ftn()"
   ]
  },
  {
   "cell_type": "code",
   "execution_count": null,
   "id": "74c8007a",
   "metadata": {},
   "outputs": [],
   "source": [
    "\n",
    "from SmartPhones import IPhone, Galaxy, TMP"
   ]
  },
  {
   "cell_type": "code",
   "execution_count": null,
   "id": "3138f8c4",
   "metadata": {},
   "outputs": [],
   "source": [
    "IPhone.IPhone_ftn()"
   ]
  },
  {
   "cell_type": "code",
   "execution_count": null,
   "id": "e315e965",
   "metadata": {},
   "outputs": [],
   "source": [
    "Galaxy.Galaxy_ftn()"
   ]
  },
  {
   "cell_type": "code",
   "execution_count": null,
   "id": "bf438c0b",
   "metadata": {},
   "outputs": [],
   "source": []
  }
 ],
 "metadata": {
  "kernelspec": {
   "display_name": ".venv",
   "language": "python",
   "name": "python3"
  }
 },
 "nbformat": 4,
 "nbformat_minor": 5
}
