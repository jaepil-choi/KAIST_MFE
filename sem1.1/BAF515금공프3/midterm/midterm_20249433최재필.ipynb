{
 "cells": [
  {
   "cell_type": "markdown",
   "metadata": {},
   "source": [
    "# 금공프3 중간대체과제 \n",
    "\n",
    "MFE 20249433 최재필"
   ]
  },
  {
   "cell_type": "code",
   "execution_count": 1,
   "metadata": {},
   "outputs": [],
   "source": [
    "import numpy as np"
   ]
  },
  {
   "cell_type": "markdown",
   "metadata": {},
   "source": [
    "## 1. 채권 가격과 듀레이션\n",
    "\n",
    "### (1)\n",
    "\n",
    "** 문제에 제시된 공식을 아래와 같이 구현하였습니다. \n",
    "\n",
    "- 채권 가격: \n",
    "    - 마지막 기에 $ \\frac{FV}{(1 + \\frac{(y/100)}{f})^t} $ 더해줘야 함. (만기 원금)\n",
    "    - 이는 마지막 기의 $ C_n $ 에 포함됨. \n",
    "- 듀레이션:\n",
    "    - $ t $가 아닌 $ \\frac{t}{f} $ 를 곱해줘야 함. \n",
    "    - 또한 채권 가격과 마찬가지로 만기 원금을 더해줘야 함. - 이 또한 마지막 기의 $ C_n $ 에 포함됨. \n",
    "    \n",
    " 즉, $$ D = \\frac{1}{P} ( \\sum_{t=1}^n \\frac{t}{f} \\cdot \\frac{C_t}{(1 + \\frac{(y/100)}{f})^t} + \\frac{n}{f} \\cdot \\frac{FV}{(1 + \\frac{(y/100)}{f})^n} )$$\n",
    "\n",
    " 로 수정. "
   ]
  },
  {
   "cell_type": "code",
   "execution_count": 2,
   "metadata": {},
   "outputs": [],
   "source": [
    "def bondftn(facevalue, couprate, y, maturity, frequency):\n",
    "    \"\"\"계산된 채권가격과 듀레이션을 튜플로 반환하는 함수\n",
    "\n",
    "    Args:\n",
    "        facevalue (float): 액면가격\n",
    "        couprate (float): 쿠폰이자율\n",
    "        y (float): 만기수익률\n",
    "        maturity (float): 만기\n",
    "        frequency (float): 연간쿠폰지급횟수\n",
    "\n",
    "    Returns:\n",
    "        tuple: (채권가격, 듀레이션)\n",
    "    \"\"\"    \n",
    "    frequencies = {\n",
    "        'annual': 1,\n",
    "        'semi-annual': 2,\n",
    "        'quarterly': 4,\n",
    "    }\n",
    "\n",
    "    if frequency in frequencies:\n",
    "        f = frequencies[frequency]\n",
    "    else:\n",
    "        print(f'Invalid frequency: {frequency}')\n",
    "        return\n",
    "    \n",
    "    c = couprate / 100\n",
    "    ytm = y / 100\n",
    "    c_dollar = facevalue * c / f\n",
    "    nper = maturity * f\n",
    "\n",
    "    ## 채권 가격\n",
    "    P = 0\n",
    "    for t in range(1, nper+1):\n",
    "        P += c_dollar / (1 + ytm/f)**t\n",
    "    \n",
    "    P += facevalue / (1 + ytm/f)**t\n",
    "\n",
    "    ## 듀레이션\n",
    "    D = 0\n",
    "    for t in range(1, nper+1):\n",
    "        D += t/f * ( c_dollar / (1 + ytm/f)**t )\n",
    "    \n",
    "    D += t/f * ( facevalue / (1 + ytm/f)**t )\n",
    "    D = D/P\n",
    "    \n",
    "    return P, D\n",
    "    "
   ]
  },
  {
   "cell_type": "code",
   "execution_count": 3,
   "metadata": {},
   "outputs": [],
   "source": [
    "test_case = {\n",
    "    'facevalue': 100,\n",
    "    'couprate': 5,\n",
    "    'y': 4.5,\n",
    "    'maturity': 2,\n",
    "    'frequency': 'quarterly',\n",
    "}"
   ]
  },
  {
   "cell_type": "code",
   "execution_count": 4,
   "metadata": {},
   "outputs": [
    {
     "data": {
      "text/plain": [
       "(100.95121625257656, 1.9161694881599696)"
      ]
     },
     "execution_count": 4,
     "metadata": {},
     "output_type": "execute_result"
    }
   ],
   "source": [
    "bondftn(**test_case)"
   ]
  },
  {
   "cell_type": "markdown",
   "metadata": {},
   "source": [
    "### (2)"
   ]
  },
  {
   "cell_type": "code",
   "execution_count": 5,
   "metadata": {},
   "outputs": [],
   "source": [
    "def price_change(facevalue, couprate, y_old, y_new, maturity, frequency):\n",
    "    \"\"\"만기수익률 변화에 따른 가격변화율을 계산하는 함수\n",
    "\n",
    "    Args:\n",
    "        y_old (float): 변화 전 만기수익률\n",
    "        y_new (float): 변화 후 만기수익률\n",
    "\n",
    "    Returns:\n",
    "        float: 가격변화율\n",
    "    \"\"\"    \n",
    "    old_price = bondftn(facevalue, couprate, y_old, maturity, frequency)[0]\n",
    "    new_price = bondftn(facevalue, couprate, y_new, maturity, frequency)[0]\n",
    "\n",
    "    return (new_price - old_price) / old_price"
   ]
  },
  {
   "cell_type": "code",
   "execution_count": 6,
   "metadata": {},
   "outputs": [],
   "source": [
    "y_old = 10\n",
    "y_new = 11\n",
    "frequency = 'annual'\n",
    "facevalue = 100\n",
    "\n",
    "result_dict = {}\n",
    "\n",
    "test_maturities = [5, 4, 3, 2, 1]\n",
    "test_couprates = [5, 4, 3, 2, 1]\n",
    "\n",
    "for m in test_maturities:\n",
    "    result_dict[f'M={m}'] = {}\n",
    "    for c in test_couprates:\n",
    "        result_dict[f'M={m}'][f'{c}%'] = price_change(\n",
    "            facevalue=facevalue, \n",
    "            couprate=c, \n",
    "            y_old=y_old, \n",
    "            y_new=y_new, \n",
    "            maturity=m, \n",
    "            frequency=frequency,\n",
    "            )\n"
   ]
  },
  {
   "cell_type": "code",
   "execution_count": 7,
   "metadata": {},
   "outputs": [
    {
     "data": {
      "text/plain": [
       "{'M=5': {'5%': -0.03974836055305566,\n",
       "  '4%': -0.04047048346784374,\n",
       "  '3%': -0.041267129839987905,\n",
       "  '2%': -0.04215046362141572,\n",
       "  '1%': -0.04313544833326965},\n",
       " 'M=4': {'5%': -0.03286185142470099,\n",
       "  '4%': -0.03331563660900725,\n",
       "  '3%': -0.033806394433436325,\n",
       "  '2%': -0.034338835372434776,\n",
       "  '1%': -0.03491850556952312},\n",
       " 'M=3': {'5%': -0.025444064500651814,\n",
       "  '4%': -0.0256807665472403,\n",
       "  '3%': -0.0259317228242334,\n",
       "  '2%': -0.026198260892201106,\n",
       "  '1%': -0.026481878449181942},\n",
       " 'M=2': {'5%': -0.01749248331124319,\n",
       "  '4%': -0.017574470850625305,\n",
       "  '3%': -0.01765969778478984,\n",
       "  '2%': -0.01774835996965999,\n",
       "  '1%': -0.017840669374671377},\n",
       " 'M=1': {'5%': -0.009009009009008976,\n",
       "  '4%': -0.009009009009009075,\n",
       "  '3%': -0.009009009009009023,\n",
       "  '2%': -0.009009009009008973,\n",
       "  '1%': -0.009009009009008919}}"
      ]
     },
     "execution_count": 7,
     "metadata": {},
     "output_type": "execute_result"
    }
   ],
   "source": [
    "result_dict "
   ]
  },
  {
   "cell_type": "code",
   "execution_count": 8,
   "metadata": {},
   "outputs": [
    {
     "data": {
      "text/plain": [
       "-0.03974836055305566"
      ]
     },
     "execution_count": 8,
     "metadata": {},
     "output_type": "execute_result"
    }
   ],
   "source": [
    "result_dict['M=5']['5%']"
   ]
  },
  {
   "cell_type": "markdown",
   "metadata": {},
   "source": [
    "### (3)"
   ]
  },
  {
   "cell_type": "code",
   "execution_count": 9,
   "metadata": {},
   "outputs": [],
   "source": [
    "result_dict_dur = {}\n",
    "\n",
    "for m in test_maturities:\n",
    "    result_dict_dur[f'M={m}'] = {}\n",
    "    for c in test_couprates:\n",
    "        result_dict_dur[f'M={m}'][f'{c}%'] = bondftn(\n",
    "            facevalue=facevalue, \n",
    "            couprate=c, \n",
    "            y=y_old, \n",
    "            maturity=m, \n",
    "            frequency=frequency\n",
    "            )[1]"
   ]
  },
  {
   "cell_type": "code",
   "execution_count": 10,
   "metadata": {},
   "outputs": [
    {
     "data": {
      "text/plain": [
       "4.570186239555571"
      ]
     },
     "execution_count": 10,
     "metadata": {},
     "output_type": "execute_result"
    }
   ],
   "source": [
    "result_dict_dur['M=5']['4%']"
   ]
  },
  {
   "cell_type": "markdown",
   "metadata": {},
   "source": [
    "## 2. 자동차 보험회사에 관한 몬테카를로 시뮬레이션"
   ]
  },
  {
   "cell_type": "code",
   "execution_count": 12,
   "metadata": {},
   "outputs": [],
   "source": [
    "# poisson (연간청구건수)\n",
    "poi_mean = 100\n",
    "\n",
    "# gamma (청구건수 별 청구금액)\n",
    "alpha = 2 # 모양\n",
    "beta = 1/2 # 척도\n",
    "\n",
    "# uniform (청구건수 별 청구발생시점)\n",
    "start = 0\n",
    "end = 1\n",
    "\n",
    "# 보험료 수입\n",
    "slope = 150"
   ]
  },
  {
   "cell_type": "markdown",
   "metadata": {},
   "source": [
    "### (1)"
   ]
  },
  {
   "cell_type": "code",
   "execution_count": 13,
   "metadata": {},
   "outputs": [
    {
     "data": {
      "text/plain": [
       "110"
      ]
     },
     "execution_count": 13,
     "metadata": {},
     "output_type": "execute_result"
    }
   ],
   "source": [
    "# 연간 청구 건수를 포아송 분포에서 샘플링\n",
    "poisson_samples = np.random.poisson(lam=poi_mean, size=10000)\n",
    "\n",
    "case_count = np.random.choice(poisson_samples, 1)[0]\n",
    "case_count "
   ]
  },
  {
   "cell_type": "code",
   "execution_count": 14,
   "metadata": {},
   "outputs": [],
   "source": [
    "# 청구 건수별로 청구금액을 감마 분포에서 샘플링\n",
    "claims = np.random.gamma(alpha, scale=beta, size=case_count)"
   ]
  },
  {
   "cell_type": "code",
   "execution_count": 15,
   "metadata": {},
   "outputs": [],
   "source": [
    "# 청구 건수별 청구 발생시점을 균등 분포에서 샘플링\n",
    "times = np.random.uniform(start, end, size=case_count)"
   ]
  },
  {
   "cell_type": "code",
   "execution_count": 16,
   "metadata": {},
   "outputs": [],
   "source": [
    "sort_idx = np.argsort(times) # 시간순으로 정렬하기 위한 인덱스\n",
    "\n",
    "claims_timeseries = claims[sort_idx]\n",
    "times_timeseries = times[sort_idx]\n",
    "revenue_timeseries = slope * times_timeseries # 보험료 수입\n",
    "\n",
    "cumulative_claims_timeseries = np.cumsum(claims_timeseries) # 누적 청구금액\n",
    "balance_timeseries = revenue_timeseries - cumulative_claims_timeseries # 누적 수입 - 누적 청구금액"
   ]
  },
  {
   "cell_type": "code",
   "execution_count": 17,
   "metadata": {},
   "outputs": [
    {
     "data": {
      "text/plain": [
       "array([ 0.00000000e+00, -1.07972074e+00,  1.50886162e+00,  4.28157738e-01,\n",
       "       -9.42877741e-01, -1.44171883e+00, -9.32929195e-01, -1.35647123e+00,\n",
       "       -3.29282363e+00, -4.37979469e+00, -3.62834379e+00, -2.84995774e+00,\n",
       "       -2.90561369e+00, -2.42744123e+00, -3.45143331e+00, -3.37311821e+00,\n",
       "       -1.61996981e+00, -1.07685558e+00, -1.21732346e+00, -2.22586904e+00,\n",
       "       -2.72724252e+00, -1.71853579e+00, -2.19973083e+00, -2.25026123e+00,\n",
       "        4.52829109e-01, -2.67348317e-02,  2.47443609e-02, -5.90084108e-02,\n",
       "        4.61792787e-01,  4.34099905e+00,  4.14820372e+00,  3.39836424e+00,\n",
       "        3.23019627e+00,  3.98504065e+00,  4.55653517e+00,  3.48609245e+00,\n",
       "        5.26689317e+00,  9.84552973e+00,  9.54694617e+00,  1.05533305e+01,\n",
       "        9.35558806e+00,  8.36645021e+00,  1.06454623e+01,  1.14455226e+01,\n",
       "        1.27676591e+01,  1.39382022e+01,  1.08924490e+01,  9.41360963e+00,\n",
       "        9.26728015e+00,  8.03465964e+00,  9.26701969e+00,  1.26158893e+01,\n",
       "        1.37150396e+01,  1.39912695e+01,  1.36993478e+01,  1.37852480e+01,\n",
       "        1.28738881e+01,  1.31313303e+01,  1.48969555e+01,  1.50030808e+01,\n",
       "        1.49417742e+01,  1.47451857e+01,  1.47463252e+01,  1.43020762e+01,\n",
       "        1.46992082e+01,  1.49197317e+01,  1.57139045e+01,  1.55582151e+01,\n",
       "        1.56387909e+01,  1.40948365e+01,  1.72545298e+01,  1.85903851e+01,\n",
       "        1.93982885e+01,  2.03317742e+01,  2.21420232e+01,  2.55934531e+01,\n",
       "        2.67844068e+01,  2.97919817e+01,  3.10641374e+01,  3.03085791e+01,\n",
       "        3.19292345e+01,  3.14420930e+01,  3.33117413e+01,  3.27176518e+01,\n",
       "        3.75026947e+01,  3.72408553e+01,  3.76503579e+01,  3.76218412e+01,\n",
       "        3.64273332e+01,  3.57591655e+01,  3.45083871e+01,  3.36211937e+01,\n",
       "        3.29620050e+01,  3.21953560e+01,  3.18713019e+01,  3.15154514e+01,\n",
       "        3.36727237e+01,  3.44396580e+01,  3.39766569e+01,  3.52317077e+01,\n",
       "        3.49824029e+01,  3.41152045e+01,  3.44138322e+01,  3.43781050e+01,\n",
       "        3.54046971e+01,  3.47350033e+01,  3.37686576e+01,  3.54831670e+01,\n",
       "        3.60020244e+01,  3.59110720e+01,  3.53188497e+01])"
      ]
     },
     "execution_count": 17,
     "metadata": {},
     "output_type": "execute_result"
    }
   ],
   "source": [
    "balance = np.insert(balance_timeseries, 0, 0) # 첫 번째 값은 0으로 삽입\n",
    "balance"
   ]
  },
  {
   "cell_type": "markdown",
   "metadata": {},
   "source": [
    "### (2)"
   ]
  },
  {
   "cell_type": "code",
   "execution_count": 18,
   "metadata": {},
   "outputs": [],
   "source": [
    "def generate_balance_path(\n",
    "        poisson_size=10000,\n",
    "        poi_mean=100,\n",
    "        alpha=2,\n",
    "        beta=1/2,\n",
    "        start=0,\n",
    "        end=1,\n",
    "        slope=150\n",
    "        ):\n",
    "    \"\"\"Monte Carlo 실험을 위해 balance의 path를 generate하는 함수\n",
    "\n",
    "    Returns:\n",
    "        np.ndarray: 잔고의 path\n",
    "    \"\"\"    \n",
    "    \n",
    "    # 연간 청구 건수를 포아송 분포에서 샘플링\n",
    "    poisson_samples = np.random.poisson(lam=poi_mean, size=poisson_size)\n",
    "    case_count = np.random.choice(poisson_samples, 1)[0]\n",
    "\n",
    "    # 청구 건수별로 청구금액을 감마 분포에서 샘플링\n",
    "    claims = np.random.gamma(alpha, scale=beta, size=case_count)\n",
    "\n",
    "    # 청구 건수별 청구 발생시점을 균등 분포에서 샘플링\n",
    "    times = np.random.uniform(start, end, size=case_count)\n",
    "\n",
    "    sort_idx = np.argsort(times) # 시간순으로 정렬하기 위한 인덱스\n",
    "\n",
    "    claims_timeseries = claims[sort_idx]\n",
    "    times_timeseries = times[sort_idx]\n",
    "    revenue_timeseries = slope * times_timeseries # 보험료 수입\n",
    "\n",
    "    cumulative_claims_timeseries = np.cumsum(claims_timeseries) # 누적 청구금액\n",
    "    balance_timeseries = revenue_timeseries - cumulative_claims_timeseries # 누적 수입 - 누적 청구금액\n",
    "    \n",
    "    balance = np.insert(balance_timeseries, 0, 0) # 첫 번째 값은 0으로 삽입\n",
    "\n",
    "    return balance"
   ]
  },
  {
   "cell_type": "markdown",
   "metadata": {},
   "source": [
    "#### (a)"
   ]
  },
  {
   "cell_type": "code",
   "execution_count": 19,
   "metadata": {},
   "outputs": [],
   "source": [
    "num_experiments = 10000\n",
    "\n",
    "# 최종 balance만 generate\n",
    "simulate_final_balance = [generate_balance_path()[-1] for _ in range(num_experiments)]"
   ]
  },
  {
   "cell_type": "code",
   "execution_count": 20,
   "metadata": {},
   "outputs": [
    {
     "data": {
      "text/plain": [
       "48.46796707755993"
      ]
     },
     "execution_count": 20,
     "metadata": {},
     "output_type": "execute_result"
    }
   ],
   "source": [
    "# balance의 기대값\n",
    "np.mean(simulate_final_balance)"
   ]
  },
  {
   "cell_type": "markdown",
   "metadata": {},
   "source": [
    "#### (b)"
   ]
  },
  {
   "cell_type": "code",
   "execution_count": 21,
   "metadata": {},
   "outputs": [],
   "source": [
    "# balance path들을 generate\n",
    "balance_paths = [generate_balance_path() for _ in range(num_experiments)]"
   ]
  },
  {
   "cell_type": "code",
   "execution_count": 22,
   "metadata": {},
   "outputs": [
    {
     "data": {
      "text/plain": [
       "0.0694"
      ]
     },
     "execution_count": 22,
     "metadata": {},
     "output_type": "execute_result"
    }
   ],
   "source": [
    "# 1년 중 한 번 이상 -5 이하로 떨어질 확률\n",
    "p = np.mean([np.any(balance <= -5) for balance in balance_paths])\n",
    "p"
   ]
  }
 ],
 "metadata": {
  "kernelspec": {
   "display_name": ".venv",
   "language": "python",
   "name": "python3"
  },
  "language_info": {
   "codemirror_mode": {
    "name": "ipython",
    "version": 3
   },
   "file_extension": ".py",
   "mimetype": "text/x-python",
   "name": "python",
   "nbconvert_exporter": "python",
   "pygments_lexer": "ipython3",
   "version": "3.10.11"
  }
 },
 "nbformat": 4,
 "nbformat_minor": 2
}
