{
 "cells": [
  {
   "cell_type": "markdown",
   "id": "fdbc2920",
   "metadata": {},
   "source": [
    "# 금공프3 중간대체과제 \n",
    "\n",
    "MFE 20249433 최재필"
   ]
  },
  {
   "cell_type": "code",
   "execution_count": null,
   "id": "e053d35f",
   "metadata": {},
   "outputs": [],
   "source": [
    "import numpy as np"
   ]
  },
  {
   "cell_type": "markdown",
   "id": "edad974c",
   "metadata": {},
   "source": [
    "## 1. 채권 가격과 듀레이션\n",
    "\n",
    "### (1)\n",
    "\n",
    "** 문제에 제시된 공식을 아래와 같이 구현하였습니다. \n",
    "\n",
    "- 채권 가격: \n",
    "    - 마지막 기에 $ \\frac{FV}{(1 + \\frac{(y/100)}{f})^t} $ 더해줘야 함. (만기 원금)\n",
    "    - 이는 마지막 기의 $ C_n $ 에 포함됨. \n",
    "- 듀레이션:\n",
    "    - $ t $가 아닌 $ \\frac{t}{f} $ 를 곱해줘야 함. \n",
    "    - 또한 채권 가격과 마찬가지로 만기 원금을 더해줘야 함. - 이 또한 마지막 기의 $ C_n $ 에 포함됨. \n",
    "    \n",
    " 즉, $$ D = \\frac{1}{P} ( \\sum_{t=1}^n \\frac{t}{f} \\cdot \\frac{C_t}{(1 + \\frac{(y/100)}{f})^t} + \\frac{n}{f} \\cdot \\frac{FV}{(1 + \\frac{(y/100)}{f})^n} )$$\n",
    "\n",
    " 로 수정. "
   ]
  },
  {
   "cell_type": "code",
   "execution_count": null,
   "id": "5138cc25",
   "metadata": {},
   "outputs": [],
   "source": [
    "def bondftn(facevalue, couprate, y, maturity, frequency):\n",
    "    \"\"\"계산된 채권가격과 듀레이션을 튜플로 반환하는 함수\n",
    "\n",
    "    Args:\n",
    "        facevalue (float): 액면가격\n",
    "        couprate (float): 쿠폰이자율\n",
    "        y (float): 만기수익률\n",
    "        maturity (float): 만기\n",
    "        frequency (float): 연간쿠폰지급횟수\n",
    "\n",
    "    Returns:\n",
    "        tuple: (채권가격, 듀레이션)\n",
    "    \"\"\"    \n",
    "    frequencies = {\n",
    "        'annual': 1,\n",
    "        'semi-annual': 2,\n",
    "        'quarterly': 4,\n",
    "    }\n",
    "\n",
    "    if frequency in frequencies:\n",
    "        f = frequencies[frequency]\n",
    "    else:\n",
    "        print(f'Invalid frequency: {frequency}')\n",
    "        return\n",
    "    \n",
    "    c = couprate / 100\n",
    "    ytm = y / 100\n",
    "    c_dollar = facevalue * c / f\n",
    "    nper = maturity * f\n",
    "\n",
    "    ## 채권 가격\n",
    "    P = 0\n",
    "    for t in range(1, nper+1):\n",
    "        P += c_dollar / (1 + ytm/f)**t\n",
    "    \n",
    "    P += facevalue / (1 + ytm/f)**t\n",
    "\n",
    "    ## 듀레이션\n",
    "    D = 0\n",
    "    for t in range(1, nper+1):\n",
    "        D += t/f * ( c_dollar / (1 + ytm/f)**t )\n",
    "    \n",
    "    D += t/f * ( facevalue / (1 + ytm/f)**t )\n",
    "    D = D/P\n",
    "    \n",
    "    return P, D\n",
    "    \n"
   ]
  },
  {
   "cell_type": "code",
   "execution_count": null,
   "id": "958c4bd9",
   "metadata": {},
   "outputs": [],
   "source": [
    "test_case = {\n",
    "    'facevalue': 100,\n",
    "    'couprate': 5,\n",
    "    'y': 4.5,\n",
    "    'maturity': 2,\n",
    "    'frequency': 'quarterly',\n",
    "}"
   ]
  },
  {
   "cell_type": "code",
   "execution_count": null,
   "id": "98acb918",
   "metadata": {},
   "outputs": [],
   "source": [
    "bondftn(**test_case)"
   ]
  },
  {
   "cell_type": "markdown",
   "id": "a37d88bb",
   "metadata": {},
   "source": [
    "### (2)"
   ]
  },
  {
   "cell_type": "code",
   "execution_count": null,
   "id": "9d524553",
   "metadata": {},
   "outputs": [],
   "source": [
    "def price_change(facevalue, couprate, y_old, y_new, maturity, frequency):\n",
    "    \"\"\"만기수익률 변화에 따른 가격변화율을 계산하는 함수\n",
    "\n",
    "    Args:\n",
    "        y_old (float): 변화 전 만기수익률\n",
    "        y_new (float): 변화 후 만기수익률\n",
    "\n",
    "    Returns:\n",
    "        float: 가격변화율\n",
    "    \"\"\"    \n",
    "    old_price = bondftn(facevalue, couprate, y_old, maturity, frequency)[0]\n",
    "    new_price = bondftn(facevalue, couprate, y_new, maturity, frequency)[0]\n",
    "\n",
    "    return (new_price - old_price) / old_price"
   ]
  },
  {
   "cell_type": "code",
   "execution_count": null,
   "id": "b95b80de",
   "metadata": {
    "lines_to_next_cell": 2
   },
   "outputs": [],
   "source": [
    "y_old = 10\n",
    "y_new = 11\n",
    "frequency = 'annual'\n",
    "facevalue = 100\n",
    "\n",
    "result_dict = {}\n",
    "\n",
    "test_maturities = [5, 4, 3, 2, 1]\n",
    "test_couprates = [5, 4, 3, 2, 1]\n",
    "\n",
    "for m in test_maturities:\n",
    "    result_dict[f'M={m}'] = {}\n",
    "    for c in test_couprates:\n",
    "        result_dict[f'M={m}'][f'{c}%'] = price_change(\n",
    "            facevalue=facevalue, \n",
    "            couprate=c, \n",
    "            y_old=y_old, \n",
    "            y_new=y_new, \n",
    "            maturity=m, \n",
    "            frequency=frequency,\n",
    "            )"
   ]
  },
  {
   "cell_type": "code",
   "execution_count": null,
   "id": "b5d8ae58",
   "metadata": {},
   "outputs": [],
   "source": [
    "result_dict "
   ]
  },
  {
   "cell_type": "code",
   "execution_count": null,
   "id": "d0ffc0c4",
   "metadata": {},
   "outputs": [],
   "source": [
    "result_dict['M=5']['5%']"
   ]
  },
  {
   "cell_type": "markdown",
   "id": "4616df6c",
   "metadata": {},
   "source": [
    "### (3)"
   ]
  },
  {
   "cell_type": "code",
   "execution_count": null,
   "id": "ed82444f",
   "metadata": {},
   "outputs": [],
   "source": [
    "result_dict_dur = {}\n",
    "\n",
    "for m in test_maturities:\n",
    "    result_dict_dur[f'M={m}'] = {}\n",
    "    for c in test_couprates:\n",
    "        result_dict_dur[f'M={m}'][f'{c}%'] = bondftn(\n",
    "            facevalue=facevalue, \n",
    "            couprate=c, \n",
    "            y=y_old, \n",
    "            maturity=m, \n",
    "            frequency=frequency\n",
    "            )[1]"
   ]
  },
  {
   "cell_type": "code",
   "execution_count": null,
   "id": "3e54a46b",
   "metadata": {},
   "outputs": [],
   "source": [
    "result_dict_dur['M=5']['4%']"
   ]
  },
  {
   "cell_type": "markdown",
   "id": "12f35f5d",
   "metadata": {},
   "source": [
    "## 2. 자동차 보험회사에 관한 몬테카를로 시뮬레이션"
   ]
  },
  {
   "cell_type": "code",
   "execution_count": null,
   "id": "02399673",
   "metadata": {},
   "outputs": [],
   "source": [
    "# poisson (연간청구건수)\n",
    "poi_mean = 100\n",
    "\n",
    "# gamma (청구건수 별 청구금액)\n",
    "alpha = 2 # 모양\n",
    "beta = 1/2 # 척도\n",
    "\n",
    "# uniform (청구건수 별 청구발생시점)\n",
    "start = 0\n",
    "end = 1\n",
    "\n",
    "# 보험료 수입\n",
    "slope = 150"
   ]
  },
  {
   "cell_type": "markdown",
   "id": "2099d787",
   "metadata": {},
   "source": [
    "### (1)"
   ]
  },
  {
   "cell_type": "code",
   "execution_count": null,
   "id": "2df917dc",
   "metadata": {},
   "outputs": [],
   "source": [
    "# 연간 청구 건수를 포아송 분포에서 샘플링\n",
    "poisson_samples = np.random.poisson(lam=poi_mean, size=10000)\n",
    "\n",
    "case_count = np.random.choice(poisson_samples, 1)[0]\n",
    "case_count "
   ]
  },
  {
   "cell_type": "code",
   "execution_count": null,
   "id": "b5043a45",
   "metadata": {},
   "outputs": [],
   "source": [
    "# 청구 건수별로 청구금액을 감마 분포에서 샘플링\n",
    "claims = np.random.gamma(alpha, scale=beta, size=case_count)"
   ]
  },
  {
   "cell_type": "code",
   "execution_count": null,
   "id": "ebc7f511",
   "metadata": {},
   "outputs": [],
   "source": [
    "# 청구 건수별 청구 발생시점을 균등 분포에서 샘플링\n",
    "times = np.random.uniform(start, end, size=case_count)"
   ]
  },
  {
   "cell_type": "code",
   "execution_count": null,
   "id": "49f67f52",
   "metadata": {},
   "outputs": [],
   "source": [
    "sort_idx = np.argsort(times) # 시간순으로 정렬하기 위한 인덱스\n",
    "\n",
    "claims_timeseries = claims[sort_idx]\n",
    "times_timeseries = times[sort_idx]\n",
    "revenue_timeseries = slope * times_timeseries # 보험료 수입\n",
    "\n",
    "cumulative_claims_timeseries = np.cumsum(claims_timeseries) # 누적 청구금액\n",
    "balance_timeseries = revenue_timeseries - cumulative_claims_timeseries # 누적 수입 - 누적 청구금액"
   ]
  },
  {
   "cell_type": "code",
   "execution_count": null,
   "id": "88703e4e",
   "metadata": {},
   "outputs": [],
   "source": [
    "balance = np.insert(balance_timeseries, 0, 0) # 첫 번째 값은 0으로 삽입\n",
    "balance"
   ]
  },
  {
   "cell_type": "markdown",
   "id": "9a9e7209",
   "metadata": {},
   "source": [
    "### (2)"
   ]
  },
  {
   "cell_type": "code",
   "execution_count": null,
   "id": "4771bc02",
   "metadata": {},
   "outputs": [],
   "source": [
    "def generate_balance_path(\n",
    "        poisson_size=10000,\n",
    "        poi_mean=100,\n",
    "        alpha=2,\n",
    "        beta=1/2,\n",
    "        start=0,\n",
    "        end=1,\n",
    "        slope=150\n",
    "        ):\n",
    "    \"\"\"Monte Carlo 실험을 위해 balance의 path를 generate하는 함수\n",
    "\n",
    "    Returns:\n",
    "        np.ndarray: 잔고의 path\n",
    "    \"\"\"    \n",
    "    \n",
    "    # 연간 청구 건수를 포아송 분포에서 샘플링\n",
    "    poisson_samples = np.random.poisson(lam=poi_mean, size=poisson_size)\n",
    "    case_count = np.random.choice(poisson_samples, 1)[0]\n",
    "\n",
    "    # 청구 건수별로 청구금액을 감마 분포에서 샘플링\n",
    "    claims = np.random.gamma(alpha, scale=beta, size=case_count)\n",
    "\n",
    "    # 청구 건수별 청구 발생시점을 균등 분포에서 샘플링\n",
    "    times = np.random.uniform(start, end, size=case_count)\n",
    "\n",
    "    sort_idx = np.argsort(times) # 시간순으로 정렬하기 위한 인덱스\n",
    "\n",
    "    claims_timeseries = claims[sort_idx]\n",
    "    times_timeseries = times[sort_idx]\n",
    "    revenue_timeseries = slope * times_timeseries # 보험료 수입\n",
    "\n",
    "    cumulative_claims_timeseries = np.cumsum(claims_timeseries) # 누적 청구금액\n",
    "    balance_timeseries = revenue_timeseries - cumulative_claims_timeseries # 누적 수입 - 누적 청구금액\n",
    "    \n",
    "    balance = np.insert(balance_timeseries, 0, 0) # 첫 번째 값은 0으로 삽입\n",
    "\n",
    "    return balance"
   ]
  },
  {
   "cell_type": "markdown",
   "id": "f79eb69b",
   "metadata": {},
   "source": [
    "#### (a)"
   ]
  },
  {
   "cell_type": "code",
   "execution_count": null,
   "id": "61651461",
   "metadata": {},
   "outputs": [],
   "source": [
    "num_experiments = 10000\n",
    "\n",
    "# 최종 balance만 generate\n",
    "simulate_final_balance = [generate_balance_path()[-1] for _ in range(num_experiments)]"
   ]
  },
  {
   "cell_type": "code",
   "execution_count": null,
   "id": "c2274c46",
   "metadata": {},
   "outputs": [],
   "source": [
    "# balance의 기대값\n",
    "np.mean(simulate_final_balance)"
   ]
  },
  {
   "cell_type": "markdown",
   "id": "1df5bf36",
   "metadata": {},
   "source": [
    "#### (b)"
   ]
  },
  {
   "cell_type": "code",
   "execution_count": null,
   "id": "dcc805e8",
   "metadata": {},
   "outputs": [],
   "source": [
    "# balance path들을 generate\n",
    "balance_paths = [generate_balance_path() for _ in range(num_experiments)]"
   ]
  },
  {
   "cell_type": "code",
   "execution_count": null,
   "id": "e25d18b9",
   "metadata": {},
   "outputs": [],
   "source": [
    "# 1년 중 한 번 이상 -5 이하로 떨어질 확률\n",
    "p = np.mean([np.any(balance <= -5) for balance in balance_paths])\n",
    "p"
   ]
  }
 ],
 "metadata": {
  "kernelspec": {
   "display_name": ".venv",
   "language": "python",
   "name": "python3"
  }
 },
 "nbformat": 4,
 "nbformat_minor": 5
}
