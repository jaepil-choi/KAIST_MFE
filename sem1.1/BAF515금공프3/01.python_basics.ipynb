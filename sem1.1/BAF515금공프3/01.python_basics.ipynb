{
 "cells": [
  {
   "cell_type": "markdown",
   "id": "bfb1ee42",
   "metadata": {},
   "source": [
    "# Chatper 1. Python Basics"
   ]
  },
  {
   "cell_type": "code",
   "execution_count": null,
   "id": "c2be1464",
   "metadata": {},
   "outputs": [],
   "source": [
    "1 - 0.9 # 내부 로직이 0.1을 정확하게 표현하지 못함"
   ]
  },
  {
   "cell_type": "markdown",
   "id": "d73f191f",
   "metadata": {},
   "source": [
    "- `inf`는 사실 아주 큰 값. 아주 크면 그냥 무한으로 인식. "
   ]
  },
  {
   "cell_type": "code",
   "execution_count": null,
   "id": "220c178d",
   "metadata": {},
   "outputs": [],
   "source": [
    "import math\n",
    "\n",
    "math.e"
   ]
  },
  {
   "cell_type": "code",
   "execution_count": null,
   "id": "aee1adac",
   "metadata": {},
   "outputs": [],
   "source": [
    "math.pi"
   ]
  },
  {
   "cell_type": "code",
   "execution_count": null,
   "id": "6ff8ec66",
   "metadata": {},
   "outputs": [],
   "source": []
  }
 ],
 "metadata": {
  "kernelspec": {
   "display_name": "sandbox311",
   "language": "python",
   "name": "python3"
  }
 },
 "nbformat": 4,
 "nbformat_minor": 5
}
