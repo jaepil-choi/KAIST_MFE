{
 "cells": [
  {
   "cell_type": "code",
   "execution_count": null,
   "id": "834446df",
   "metadata": {},
   "outputs": [],
   "source": [
    "from functools import reduce"
   ]
  },
  {
   "cell_type": "code",
   "execution_count": null,
   "id": "5a86b8b4",
   "metadata": {},
   "outputs": [],
   "source": [
    "# EDA asset dataframe\n",
    "\n",
    "# Hypothesis: Five cases of nan values in the dataframe\n",
    "# 1. The first rows of the series has nan values\n",
    "c0 = [1, 1, 0, 0, 0]\n",
    "\n",
    "# 2. The last rows of the series has nan values\n",
    "c1 = [0, 0, 0, 1, 1]\n",
    "\n",
    "\n",
    "# 3. The middle rows of the series has nan values\n",
    "c2 = [0, 1, 1, 0, 0]\n",
    "\n",
    "# 4. The first few and last few rows of the series has nan values\n",
    "c3 = [1, 1, 0, 0, 1]\n",
    "\n",
    "# 5. No nan values in the series\n",
    "c4 = [0, 0, 0, 0, 0]"
   ]
  },
  {
   "cell_type": "code",
   "execution_count": null,
   "id": "f8df2817",
   "metadata": {},
   "outputs": [],
   "source": [
    "def reduce_same(result, x):\n",
    "    if result[-1] == x:\n",
    "        return result\n",
    "    else:\n",
    "        result.append(x)\n",
    "        return result"
   ]
  },
  {
   "cell_type": "code",
   "execution_count": null,
   "id": "1fe4cce9",
   "metadata": {},
   "outputs": [],
   "source": [
    "reduce(reduce_same, c0, [-1])"
   ]
  },
  {
   "cell_type": "code",
   "execution_count": null,
   "id": "72a567ff",
   "metadata": {},
   "outputs": [],
   "source": [
    "def make_unique_case_df(df):\n",
    "    unique_case_df = pd.DataFrame()\n",
    "    cases = {\n",
    "        (-1, 1, 0): 0, # 존재하지 않았다가 나타난 경우\n",
    "        (-1, 0, 1): 1, # 존재했다가 사라진 경우\n",
    "        (-1, 0, 1, 0): 2, # 존재했다가 사라지다가 다시 나타난 경우\n",
    "        (-1, 1, 0, 1): 3, # 존재하지 않았다가 나타나다가 사라진 경우\n",
    "        (-1, 1): 4, # 계속 존재하지 않은 경우\n",
    "        (-1, 0): 5, # 계속 존재하는 경우\n",
    "    }\n",
    "    case_satisfied = [0] * len(cases.keys())\n",
    "    result_cases = []\n",
    "\n",
    "    for col in df.columns:\n",
    "        series = df[col]\n",
    "        isna = (series.isna() * 1).tolist()\n",
    "\n",
    "        case_tuple = tuple(reduce(reduce_same, isna, [-1]))\n",
    "        \n",
    "        assert case_tuple in cases.keys() , f\"Case tuple {case_tuple} not in cases\"\n",
    "\n",
    "        if case_satisfied[cases[case_tuple]] != 1:\n",
    "            unique_case_df[col] = series\n",
    "            case_satisfied[cases[case_tuple]] = 1\n",
    "            result_cases.append(cases[case_tuple])\n",
    "        else:\n",
    "            if sum(case_satisfied) == len(cases.keys()):\n",
    "                break\n",
    "            else:\n",
    "                continue\n",
    "        \n",
    "    return unique_case_df, result_cases"
   ]
  },
  {
   "cell_type": "code",
   "execution_count": null,
   "id": "d190f515",
   "metadata": {},
   "outputs": [],
   "source": [
    "uc_df, _ = make_unique_case_df(asset)"
   ]
  },
  {
   "cell_type": "code",
   "execution_count": null,
   "id": "74b7a34e",
   "metadata": {},
   "outputs": [],
   "source": [
    "uc_df"
   ]
  },
  {
   "cell_type": "code",
   "execution_count": null,
   "id": "4d2e9aa6",
   "metadata": {},
   "outputs": [],
   "source": [
    "def shorten_nan_cases(unique_case_df, minimum_rows_per_case=1):\n",
    "    isna_df = unique_case_df.isna()\n",
    "\n",
    "    unique_rows_df = isna_df.drop_duplicates()\n",
    "    rowwise_cases = [tuple(c.values()) for c in list(unique_rows_df.T.to_dict().values())]\n",
    "    cases_mapping = {case: i for i, case in enumerate(rowwise_cases)}\n",
    "\n",
    "    case_satisfied_count = np.zeros(len(cases_mapping))\n",
    "\n",
    "    if isinstance(minimum_rows_per_case, int):\n",
    "        case_minimum_counts = np.ones(len(cases_mapping)) * minimum_rows_per_case\n",
    "    elif isinstance(minimum_rows_per_case, list):\n",
    "        assert len(minimum_rows_per_case) == len(cases_mapping), f\"Required cases: {len(cases_mapping)} != Input cases: {len(minimum_rows_per_case)}\"\n",
    "        case_minimum_counts = minimum_rows_per_case\n",
    "    \n",
    "    boolmask_df = pd.DataFrame()\n",
    "    \n",
    "    already_sampled = [] # Assuming unique time-series index\n",
    "\n",
    "    while not (case_satisfied_count >= case_minimum_counts).all():\n",
    "        sample_row = isna_df.sample(1)\n",
    "\n",
    "        if sample_row.index[0] in already_sampled:\n",
    "            continue\n",
    "        else:\n",
    "            already_sampled.append(sample_row.index[0])\n",
    "        \n",
    "        row_case = tuple(sample_row.values[0])\n",
    "        case_idx = cases_mapping[row_case]\n",
    "\n",
    "        if case_satisfied_count[case_idx] >= case_minimum_counts[case_idx]:\n",
    "            continue\n",
    "        else:\n",
    "            case_satisfied_count[case_idx] += 1\n",
    "            boolmask_df = pd.concat([boolmask_df, sample_row], axis=0)\n",
    "        \n",
    "    result_df = unique_case_df.reindex(index=boolmask_df.index, columns=boolmask_df.columns).sort_index()\n",
    "\n",
    "    return result_df\n",
    "\n",
    "\n",
    "# 주의: 경계값을 생각하지 않음. "
   ]
  },
  {
   "cell_type": "code",
   "execution_count": null,
   "id": "00f9ad26",
   "metadata": {},
   "outputs": [],
   "source": [
    "small_asset = shorten_nan_cases(uc_df, minimum_rows_per_case=[3, 3, 2, 1])\n",
    "small_asset"
   ]
  },
  {
   "cell_type": "code",
   "execution_count": null,
   "id": "e1a30f1a",
   "metadata": {},
   "outputs": [],
   "source": [
    "# small_asset = asset.iloc[:10, :5].copy()\n",
    "# small_asset.iloc[:7, 0] = np.nan\n",
    "# small_asset.iloc[3:5, 1] = np.nan\n",
    "# small_asset.iloc[-7:, 2] = np.nan\n",
    "\n",
    "# small_asset # 극단적인 케이스 가정하여 만듦"
   ]
  },
  {
   "cell_type": "code",
   "execution_count": null,
   "id": "a4be61f4",
   "metadata": {
    "lines_to_next_cell": 2
   },
   "outputs": [],
   "source": [
    "small_asset_2d = small_asset.to_numpy()\n",
    "small_asset_2d"
   ]
  },
  {
   "cell_type": "code",
   "execution_count": null,
   "id": "446a1754",
   "metadata": {},
   "outputs": [],
   "source": [
    "small_asset_2d.shape"
   ]
  },
  {
   "cell_type": "code",
   "execution_count": null,
   "id": "22f6d554",
   "metadata": {},
   "outputs": [],
   "source": [
    "small_X = np.log(small_asset_2d[1:]/small_asset_2d[:-1])\n",
    "small_X"
   ]
  },
  {
   "cell_type": "code",
   "execution_count": null,
   "id": "7be6f6f5",
   "metadata": {},
   "outputs": [],
   "source": [
    "small_X.shape"
   ]
  },
  {
   "cell_type": "code",
   "execution_count": null,
   "id": "00af7172",
   "metadata": {},
   "outputs": [],
   "source": [
    "# to address nan values, use pandas for covariance matrix\n",
    "\n",
    "small_X_df = pd.DataFrame(small_X, columns=small_asset.columns)"
   ]
  },
  {
   "cell_type": "code",
   "execution_count": null,
   "id": "a24f4234",
   "metadata": {},
   "outputs": [],
   "source": [
    "small_X_df.cov(min_periods=1)"
   ]
  },
  {
   "cell_type": "code",
   "execution_count": null,
   "id": "935bed10",
   "metadata": {},
   "outputs": [],
   "source": [
    "small_Q = small_X_df.cov(min_periods=2).to_numpy()\n",
    "small_Q"
   ]
  },
  {
   "cell_type": "code",
   "execution_count": null,
   "id": "e1f898b8",
   "metadata": {},
   "outputs": [],
   "source": [
    "np.isnan(small_Q).sum()"
   ]
  },
  {
   "cell_type": "code",
   "execution_count": null,
   "id": "19fd1fd8",
   "metadata": {},
   "outputs": [],
   "source": [
    "small_Q.shape"
   ]
  },
  {
   "cell_type": "code",
   "execution_count": null,
   "id": "2dd38edf",
   "metadata": {
    "lines_to_next_cell": 2
   },
   "outputs": [],
   "source": [
    "small_r = np.nanmean(small_X, axis=0)\n",
    "small_r = small_r.reshape(-1, 1)\n",
    "small_r.shape"
   ]
  },
  {
   "cell_type": "code",
   "execution_count": null,
   "id": "bfa380b6",
   "metadata": {},
   "outputs": [],
   "source": [
    "small_r"
   ]
  },
  {
   "cell_type": "code",
   "execution_count": null,
   "id": "9cece40c",
   "metadata": {},
   "outputs": [],
   "source": [
    "small_l = np.ones(small_r.shape)\n",
    "small_l"
   ]
  },
  {
   "cell_type": "code",
   "execution_count": null,
   "id": "c77c5a03",
   "metadata": {},
   "outputs": [],
   "source": [
    "small_l.shape"
   ]
  },
  {
   "cell_type": "code",
   "execution_count": null,
   "id": "59a4a78b",
   "metadata": {},
   "outputs": [],
   "source": [
    "small_Q_l_r = np.hstack([small_Q, small_l, small_r])\n",
    "small_Q_l_r"
   ]
  },
  {
   "cell_type": "code",
   "execution_count": null,
   "id": "2444e9e0",
   "metadata": {},
   "outputs": [],
   "source": [
    "small_Q_l_r.shape"
   ]
  },
  {
   "cell_type": "code",
   "execution_count": null,
   "id": "32e67d18",
   "metadata": {},
   "outputs": [],
   "source": [
    "small_l_0_0 = np.hstack([small_l.T, [[0]], [[0]]])\n",
    "small_l_0_0"
   ]
  },
  {
   "cell_type": "code",
   "execution_count": null,
   "id": "e370fb17",
   "metadata": {},
   "outputs": [],
   "source": [
    "small_l_0_0.shape"
   ]
  },
  {
   "cell_type": "code",
   "execution_count": null,
   "id": "b4fa2ba5",
   "metadata": {},
   "outputs": [],
   "source": [
    "small_r_0_0 = np.hstack([small_r.T, [[0]], [[0]]])\n",
    "small_r_0_0"
   ]
  },
  {
   "cell_type": "code",
   "execution_count": null,
   "id": "be48dab3",
   "metadata": {},
   "outputs": [],
   "source": [
    "small_r_0_0.shape"
   ]
  },
  {
   "cell_type": "code",
   "execution_count": null,
   "id": "1bffe637",
   "metadata": {},
   "outputs": [],
   "source": [
    "small_L = np.vstack([small_Q_l_r, small_l_0_0, small_r_0_0])\n",
    "small_L"
   ]
  },
  {
   "cell_type": "code",
   "execution_count": null,
   "id": "391a79fd",
   "metadata": {},
   "outputs": [],
   "source": [
    "small_L.shape"
   ]
  },
  {
   "cell_type": "code",
   "execution_count": null,
   "id": "fea0ac38",
   "metadata": {},
   "outputs": [],
   "source": [
    "small_zero = np.zeros(small_l.shape)\n",
    "small_zero"
   ]
  },
  {
   "cell_type": "code",
   "execution_count": null,
   "id": "a338a1fd",
   "metadata": {},
   "outputs": [],
   "source": [
    "small_zero_l_mu = np.vstack([small_zero, [[0]], [[MU]]])\n",
    "small_zero_l_mu"
   ]
  },
  {
   "cell_type": "code",
   "execution_count": null,
   "id": "861641f9",
   "metadata": {},
   "outputs": [],
   "source": [
    "small_L_inv = np.linalg.inv(small_L)\n",
    "small_L_inv.shape"
   ]
  },
  {
   "cell_type": "code",
   "execution_count": null,
   "id": "cad01a9a",
   "metadata": {},
   "outputs": [],
   "source": [
    "small_L_inv"
   ]
  },
  {
   "cell_type": "code",
   "execution_count": null,
   "id": "aa822a82",
   "metadata": {},
   "outputs": [],
   "source": [
    "small_w_lmda1_lmda2 = small_L_inv @ small_zero_l_mu\n",
    "small_w_lmda1_lmda2"
   ]
  },
  {
   "cell_type": "code",
   "execution_count": null,
   "id": "ee6d8cd5",
   "metadata": {},
   "outputs": [],
   "source": [
    "small_w = small_w_lmda1_lmda2[:-2]\n",
    "small_lmda1 = small_w_lmda1_lmda2[-2]\n",
    "small_lmda2 = small_w_lmda1_lmda2[-1]"
   ]
  },
  {
   "cell_type": "code",
   "execution_count": null,
   "id": "6c04743a",
   "metadata": {},
   "outputs": [],
   "source": [
    "small_var = small_w.T @ small_Q @ small_w\n",
    "small_var"
   ]
  }
 ],
 "metadata": {
  "jupytext": {
   "main_language": "python"
  }
 },
 "nbformat": 4,
 "nbformat_minor": 5
}
