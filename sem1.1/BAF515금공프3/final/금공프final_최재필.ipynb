{
 "cells": [
  {
   "cell_type": "markdown",
   "id": "a30e01ad",
   "metadata": {},
   "source": [
    "# 금공프3 Final\n",
    "\n",
    "20249433 MFE 최재필"
   ]
  },
  {
   "cell_type": "code",
   "execution_count": null,
   "id": "a5734c6e",
   "metadata": {},
   "outputs": [],
   "source": [
    "import numpy as np\n",
    "import pandas as pd\n",
    "\n",
    "import matplotlib.pyplot as plt\n",
    "\n",
    "import math\n",
    "import random"
   ]
  },
  {
   "cell_type": "markdown",
   "id": "999b578a",
   "metadata": {},
   "source": [
    "## 1. Mean-Variance Optimization"
   ]
  },
  {
   "cell_type": "code",
   "execution_count": null,
   "id": "f2116021",
   "metadata": {},
   "outputs": [],
   "source": [
    "asset = pd.read_csv('it.csv')\n",
    "asset.set_index('Date', inplace=True)\n",
    "asset.head() # 다행히 데이터에 nan이 없다."
   ]
  },
  {
   "cell_type": "code",
   "execution_count": null,
   "id": "77da5df6",
   "metadata": {},
   "outputs": [],
   "source": [
    "asset.shape"
   ]
  },
  {
   "cell_type": "markdown",
   "id": "5e3e0871",
   "metadata": {},
   "source": [
    "### (1) `MVportfolio` "
   ]
  },
  {
   "cell_type": "code",
   "execution_count": null,
   "id": "59a6ec66",
   "metadata": {},
   "outputs": [],
   "source": [
    "def MVportfolio(asset, mu_p):\n",
    "    asset_2d = asset.to_numpy()\n",
    "\n",
    "    X = np.log(asset_2d[1:]/asset_2d[:-1]) # 수익률 (수익률은 log 차분 수익률로 계산)\n",
    "    Q = np.cov(X.T) # 공분산 행렬\n",
    "    r = np.nanmean(X, axis=0).reshape(-1, 1) # 기대값 (수익률 평균)\n",
    "    l = np.ones(r.shape) # 1 벡터\n",
    "    zero = np.zeros(l.shape) # 0 벡터\n",
    "\n",
    "    # 라그랑지안 편미분 방정식 행렬\n",
    "    Q_l_r = np.hstack([Q, l, r]) # 목적함수 편미분 \n",
    "    l_0_0 = np.hstack([l.T, [[0]], [[0]]]) # 제약조건 1: 가중치 합 = 1\n",
    "    r_0_0 = np.hstack([r.T, [[0]], [[0]]]) # 제약조건 2: 수익률 = mu_p\n",
    "\n",
    "    L = np.vstack([Q_l_r, l_0_0, r_0_0]) # 완성된 라그랑지안 \n",
    "\n",
    "    zero_l_mu = np.vstack([zero, [[1]], [[mu_p]]]) # 우변\n",
    "    L_inv = np.linalg.inv(L) # 역행렬 계산\n",
    "\n",
    "    w_lmda1_lmda2 = L_inv @ zero_l_mu # 라그랑지안 해벡터\n",
    "\n",
    "    w = w_lmda1_lmda2[:-2] # 최적 포트폴리오 가중치\n",
    "    lmda1 = w_lmda1_lmda2[-2] # 라그랑지안 해벡터 람다1\n",
    "    lmda2 = w_lmda1_lmda2[-1] # 라그랑지안 해벡터 람다2\n",
    "\n",
    "    var = w.T @ Q @ w # 최적 포트폴리오 분산\n",
    "\n",
    "    return w, var"
   ]
  },
  {
   "cell_type": "markdown",
   "id": "5a26150d",
   "metadata": {},
   "source": [
    "### (2) Efficient Frontier"
   ]
  },
  {
   "cell_type": "code",
   "execution_count": null,
   "id": "7b2e91e6",
   "metadata": {},
   "outputs": [],
   "source": [
    "mu_p_min = -0.001\n",
    "mu_p_max = 0.001\n",
    "\n",
    "mu_p_range = np.linspace(mu_p_min, mu_p_max, 100)"
   ]
  },
  {
   "cell_type": "code",
   "execution_count": null,
   "id": "83ae18c3",
   "metadata": {},
   "outputs": [],
   "source": [
    "asset_2d = asset.to_numpy()\n",
    "\n",
    "X = np.log(asset_2d[1:]/asset_2d[:-1]) # 수익률 (수익률은 log 차분 수익률로 계산)\n",
    "r = np.nanmean(X, axis=0).reshape(-1, 1) # 기대값 (수익률 평균)"
   ]
  },
  {
   "cell_type": "code",
   "execution_count": null,
   "id": "169ca30b",
   "metadata": {},
   "outputs": [],
   "source": [
    "w_var = [MVportfolio(asset, mu_p) for mu_p in mu_p_range]\n",
    "var_ret = np.array([(var, w.T @ r) for w, var in w_var]).reshape(len(w_var), 2)"
   ]
  },
  {
   "cell_type": "code",
   "execution_count": null,
   "id": "bf80fc21",
   "metadata": {},
   "outputs": [],
   "source": [
    "# Plot the efficient frontier\n",
    "plt.figure(figsize=(10, 6))\n",
    "plt.plot(var_ret[:, 0], var_ret[:, 1], marker='o', linestyle='-')\n",
    "\n",
    "plt.title('Efficient Frontier')\n",
    "plt.xlabel('Variance (Risk^2)')\n",
    "plt.ylabel('Expected Return (daily)')\n",
    "plt.grid(True)\n",
    "plt.show()"
   ]
  },
  {
   "cell_type": "markdown",
   "id": "dbc21b17",
   "metadata": {},
   "source": [
    "## 2. Momentum"
   ]
  },
  {
   "cell_type": "code",
   "execution_count": null,
   "id": "a640359b",
   "metadata": {},
   "outputs": [],
   "source": [
    "# (1) price 파일 불러온 뒤 date 열을 DatetimeIndex로 변경한 뒤 인덱스로 설정\n",
    "price = pd.read_csv('price.csv')\n",
    "price['date'] = pd.to_datetime(price['date'])\n",
    "price.set_index('date', inplace=True)\n",
    "price.head() \n",
    "\n",
    "# 참고: 데이터에 nan이 많음. \n",
    "# 대부분은 상장폐지 종목 또는 상장 이전 종목이라고 판단됨.\n",
    "# 하지만 전 기간 nan인 종목도 있음. "
   ]
  },
  {
   "cell_type": "code",
   "execution_count": null,
   "id": "26b7ab9e",
   "metadata": {},
   "outputs": [],
   "source": [
    "price.shape"
   ]
  },
  {
   "cell_type": "code",
   "execution_count": null,
   "id": "a8627735",
   "metadata": {},
   "outputs": [],
   "source": [
    "# (2) 2019년도 자료만 선택\n",
    "price_sub = price.loc['2019-01-01':'2019-12-31', :].copy() "
   ]
  },
  {
   "cell_type": "code",
   "execution_count": null,
   "id": "01a881a5",
   "metadata": {},
   "outputs": [],
   "source": [
    "# (3) 누적곱으로 수익률 계산 (Series 객체로 저장)\n",
    "cum_ret = price_sub.pct_change(fill_method=None).add(1).prod() - 1"
   ]
  },
  {
   "cell_type": "code",
   "execution_count": null,
   "id": "7fa6ef10",
   "metadata": {},
   "outputs": [],
   "source": [
    "# (4) 누적 수익률 상위 10개 종목 출력\n",
    "top10_cumret = cum_ret.sort_values(ascending=False).head(10)\n",
    "top10_cumret"
   ]
  },
  {
   "cell_type": "code",
   "execution_count": null,
   "id": "9876ba42",
   "metadata": {},
   "outputs": [],
   "source": [
    "price_sub[top10_cumret.index[0]].plot(figsize=(10, 6), title='2019 Top 1 Cumulative Return')"
   ]
  },
  {
   "cell_type": "code",
   "execution_count": null,
   "id": "1394cf40",
   "metadata": {},
   "outputs": [],
   "source": [
    "# (5) 종목별 연율화 변동성 계산 (252일 기준, Series 객체로 저장)\n",
    "std = price_sub.pct_change(fill_method=None).std() * np.sqrt(252)"
   ]
  },
  {
   "cell_type": "code",
   "execution_count": null,
   "id": "105d7969",
   "metadata": {},
   "outputs": [],
   "source": [
    "# (6) std가 0인 경우와 nan인 경우를 제외\n",
    "std = std[std != 0].dropna()"
   ]
  },
  {
   "cell_type": "code",
   "execution_count": null,
   "id": "f6a44a82",
   "metadata": {},
   "outputs": [],
   "source": [
    "# (7) 샤프지수 계산\n",
    "shrp = cum_ret / std"
   ]
  },
  {
   "cell_type": "code",
   "execution_count": null,
   "id": "e61fa80a",
   "metadata": {},
   "outputs": [],
   "source": [
    "# (8) 샤프지수가 nan인 경우 shrp 최소값으로 대체\n",
    "shrp = shrp.fillna(shrp.min())"
   ]
  },
  {
   "cell_type": "code",
   "execution_count": null,
   "id": "8df479e3",
   "metadata": {},
   "outputs": [],
   "source": [
    "# (9) 샤프지수 상위 10개 종목 출력\n",
    "top10_shrp = shrp.sort_values(ascending=False).head(10)\n",
    "top10_shrp"
   ]
  },
  {
   "cell_type": "code",
   "execution_count": null,
   "id": "f8b5c954",
   "metadata": {},
   "outputs": [],
   "source": [
    "# (10) Top 10 종목의 최종 결과 출력\n",
    "\n",
    "top10_shrp_stocks = top10_shrp.index\n",
    "\n",
    "final_result = pd.DataFrame(\n",
    "    data=zip(\n",
    "        cum_ret[top10_shrp_stocks],\n",
    "        std[top10_shrp_stocks],\n",
    "        shrp[top10_shrp_stocks]\n",
    "        ),\n",
    "    index=top10_shrp_stocks,\n",
    "    columns=['cum_ret', 'std', 'shrp']\n",
    ")\n",
    "\n",
    "final_result"
   ]
  },
  {
   "cell_type": "markdown",
   "id": "f2f7fd82",
   "metadata": {},
   "source": [
    "## 3. Monte-Carlo Simulation"
   ]
  },
  {
   "cell_type": "code",
   "execution_count": null,
   "id": "37d8410a",
   "metadata": {},
   "outputs": [],
   "source": [
    "def ECallSimul_1(S0, K, T, r, sigma, M, l=250000):\n",
    "    S = []\n",
    "    dt = T/M\n",
    "    for i in range(l):\n",
    "        path = []\n",
    "        \n",
    "        for t in range(M+1):\n",
    "            if t == 0:\n",
    "                path.append(S0)\n",
    "            else:\n",
    "                z = random.gauss(0., 1.)\n",
    "                St = path[t-1] * math.exp( (r - 0.5*sigma**2)*dt + sigma*math.sqrt(dt)*z )\n",
    "                path.append(St)\n",
    "            \n",
    "        S.append(path)\n",
    "        \n",
    "    sum_val = 0.\n",
    "\n",
    "    for path in S:\n",
    "        sum_val += max(path[-1] - K, 0)\n",
    "    \n",
    "    C0 = math.exp(-r*T) * sum_val / l\n",
    "\n",
    "    return round(C0, 3)"
   ]
  },
  {
   "cell_type": "markdown",
   "id": "6ff2c5f6",
   "metadata": {},
   "source": [
    "### (1) 가능한 모든 부분을 `numpy`를 활용하는 것으로 수정"
   ]
  },
  {
   "cell_type": "code",
   "execution_count": null,
   "id": "1a14d6cb",
   "metadata": {},
   "outputs": [],
   "source": [
    "def ECallSimul_2(S0, K, T, r, sigma, M, l=250000):\n",
    "    dt = T/M\n",
    "\n",
    "    Z = np.random.randn(l, M)\n",
    "    S = np.zeros((l, M+1)) # 맨 앞에 S0를 넣기 위해 M+1\n",
    "    S[:, 0] = S0\n",
    "\n",
    "    drift = (r - 0.5*sigma**2)*dt\n",
    "    diffusion = sigma * np.sqrt(dt) * Z\n",
    "\n",
    "    S[:, 1:] = S0 * np.exp(np.cumsum(drift + diffusion, axis=1))\n",
    "\n",
    "    payoffs = np.maximum(S[:, -1] - K, 0)\n",
    "    C0 = np.exp(-r*T) * np.mean(payoffs)\n",
    "\n",
    "    return round(C0, 3)"
   ]
  },
  {
   "cell_type": "markdown",
   "id": "fbb60049",
   "metadata": {},
   "source": [
    "### (2) 연산시간 비교"
   ]
  },
  {
   "cell_type": "code",
   "execution_count": null,
   "id": "edb41dc8",
   "metadata": {},
   "outputs": [],
   "source": [
    "S0 = 100.\n",
    "K = 105.\n",
    "T = 1.\n",
    "r = 0.05\n",
    "sigma = 0.2\n",
    "M = 50\n",
    "l = 250000"
   ]
  },
  {
   "cell_type": "code",
   "execution_count": null,
   "id": "50da0ae8",
   "metadata": {},
   "outputs": [],
   "source": [
    "%time C0_1 = ECallSimul_1(S0, K, T, r, sigma, M, l)"
   ]
  },
  {
   "cell_type": "code",
   "execution_count": null,
   "id": "f5012a67",
   "metadata": {},
   "outputs": [],
   "source": [
    "%time C0_2 = ECallSimul_2(S0, K, T, r, sigma, M, l)"
   ]
  }
 ],
 "metadata": {
  "kernelspec": {
   "display_name": ".venv",
   "language": "python",
   "name": "python3"
  }
 },
 "nbformat": 4,
 "nbformat_minor": 5
}
