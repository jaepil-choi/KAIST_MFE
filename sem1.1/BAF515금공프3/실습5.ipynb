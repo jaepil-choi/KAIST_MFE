{
 "cells": [
  {
   "cell_type": "markdown",
   "metadata": {},
   "source": [
    "# 블랙 리터만 모델\n",
    "\n"
   ]
  },
  {
   "cell_type": "markdown",
   "metadata": {},
   "source": [
    "- market portfolio 를 optimal tangent portfolio로 친다. \n",
    "- risk aversion factor를 sharpe ratio로 쓴다. \n",
    "    - 근데 excess return이 아니라 그냥 return / std\n",
    "    - \"market price of risk\": 한음이가 파생에서 발표했던 것과 같음. \n",
    "- `asset_returns`: \n",
    "    - level 2 DM 형태로 되어있음. \n",
    "    - 자산은 마치 GAPS 처럼 bond, large cap growth, large cap value 등등으로 나눠짐. \n",
    "- `excess_asset_returns`: \n",
    "    - 2d에서 1d 수익률 빼줘야 하니까 `np.newaxis` 로 맞춰줘야 broadcasting 가능. \n",
    "- var-covar matrix 구할 때 \n",
    "    - `rowvar=False` 꼭 해줘야 함. numpy에서 default는 row를 변수라고 취급해놓음. \n",
    "- global return, std를 행렬 연산으로 구해줌. \n",
    "    - 코드 잘못됐다. `global_sd`에서 sqrt 안씌워줬네. \n",
    "- Black Litterman의 전망을 반영하기 위해 \n",
    "    - `Q`: 전망치\n",
    "    - `P`: \n",
    "        - absolute return이면 그냥 1 적어주고 \n",
    "        - over/underperform의 relative 한 전망이면 1, -1 와 같이 합이 1이 되게 만들어 줌. \n",
    "    - tau: tuning constant\n",
    "        - 예측값과 모델값 사이의 weight를 나타냄. ( w vs (1-w) )\n",
    "        - 이게 높으면 예측값에 더 무게를 싣는 것. \n",
    "    - Omega: \n",
    "        - 전망 하나하나에 대한 불확실성. \n",
    "- 최종적으로 BL return vector를 계산할 때는\n",
    "    - $ E[R] = ( (\\tau \\Sigma)^{-1} + P^T \\Omega^{-1} ?? ... ) $ \n",
    "- 그 다음 최초의 asset weight와 BL 모델을 반영한 asset weight를 비교해보자. "
   ]
  }
 ],
 "metadata": {
  "language_info": {
   "name": "python"
  }
 },
 "nbformat": 4,
 "nbformat_minor": 2
}
