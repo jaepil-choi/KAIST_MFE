{
 "cells": [
  {
   "cell_type": "code",
   "execution_count": 1,
   "id": "68fb77fd-9d51-4752-87df-53c096a46e37",
   "metadata": {},
   "outputs": [
    {
     "data": {
      "text/plain": [
       "array([[0.238, 0.067, 0.051, 0.16 , 0.254, 0.11 , 0.79 ],\n",
       "       [0.231, 0.131, 0.1  , 0.084, 0.261, 0.115, 0.012],\n",
       "       [0.102, 0.268, 0.04 , 0.039, 0.152, 0.152, 0.201],\n",
       "       [0.379, 0.258, 0.189, 0.256, 0.078, 0.09 , 0.052],\n",
       "       [0.07 , 0.199, 0.019, 0.114, 0.113, 0.136, 0.111],\n",
       "       [0.075, 0.111, 0.448, 0.577, 0.139, 0.196, 0.025],\n",
       "       [0.076, 0.107, 0.402, 0.058, 0.132, 0.848, 0.147],\n",
       "       [0.19 , 0.026, 0.35 , 0.185, 0.158, 0.084, 0.073],\n",
       "       [0.108, 0.229, 0.417, 0.143, 0.221, 0.176, 0.196],\n",
       "       [0.225, 0.369, 0.017, 0.289, 0.056, 0.043, 0.17 ]])"
      ]
     },
     "execution_count": 1,
     "metadata": {},
     "output_type": "execute_result"
    }
   ],
   "source": [
    "import numpy as np\n",
    "np.random.seed(123)\n",
    "MAT = np.random.exponential( scale=1/5, size=(10, 7))\n",
    "MAT = np.around( MAT, decimals=3)\n",
    "MAT"
   ]
  },
  {
   "cell_type": "code",
   "execution_count": 5,
   "id": "f698c9be-557c-4550-8112-eba1adb08661",
   "metadata": {},
   "outputs": [
    {
     "data": {
      "text/plain": [
       "array([0.79 , 0.577, 0.848])"
      ]
     },
     "execution_count": 5,
     "metadata": {},
     "output_type": "execute_result"
    }
   ],
   "source": [
    "Q1 = np.percentile( MAT, q=25)\n",
    "Q3 = np.percentile( MAT, q=75)\n",
    "MAT [ ( MAT < Q1- 1.5*(Q3-Q1) ) | ( MAT > Q3 + 1.5*(Q3-Q1) ) ] "
   ]
  },
  {
   "cell_type": "code",
   "execution_count": null,
   "id": "ada4751d-1743-4780-a43a-157dc4d2a3c5",
   "metadata": {},
   "outputs": [],
   "source": []
  },
  {
   "cell_type": "code",
   "execution_count": 9,
   "id": "7dd8c849-603b-4ec6-a367-fedd1b7cd281",
   "metadata": {},
   "outputs": [
    {
     "data": {
      "text/plain": [
       "(array([8], dtype=int64), array([3], dtype=int64))"
      ]
     },
     "execution_count": 9,
     "metadata": {},
     "output_type": "execute_result"
    }
   ],
   "source": [
    "m = np.median( MAT )\n",
    "mdiff = np.abs ( MAT - m )\n",
    "np.nonzero ( mdiff == np.min ( mdiff ) )"
   ]
  },
  {
   "cell_type": "code",
   "execution_count": 12,
   "id": "54803b0b-f8c1-4d9e-b367-b410ee7398b1",
   "metadata": {},
   "outputs": [
    {
     "data": {
      "text/plain": [
       "array([[0.19 , 0.026, 0.35 , 0.185, 0.158, 0.084, 0.073],\n",
       "       [0.238, 0.067, 0.051, 0.16 , 0.254, 0.11 , 0.79 ],\n",
       "       [0.076, 0.107, 0.402, 0.058, 0.132, 0.848, 0.147],\n",
       "       [0.075, 0.111, 0.448, 0.577, 0.139, 0.196, 0.025],\n",
       "       [0.231, 0.131, 0.1  , 0.084, 0.261, 0.115, 0.012],\n",
       "       [0.07 , 0.199, 0.019, 0.114, 0.113, 0.136, 0.111],\n",
       "       [0.108, 0.229, 0.417, 0.143, 0.221, 0.176, 0.196],\n",
       "       [0.379, 0.258, 0.189, 0.256, 0.078, 0.09 , 0.052],\n",
       "       [0.102, 0.268, 0.04 , 0.039, 0.152, 0.152, 0.201],\n",
       "       [0.225, 0.369, 0.017, 0.289, 0.056, 0.043, 0.17 ]])"
      ]
     },
     "execution_count": 12,
     "metadata": {},
     "output_type": "execute_result"
    }
   ],
   "source": [
    "MAT[ np.argsort(MAT[:, 1]), : ]"
   ]
  },
  {
   "cell_type": "code",
   "execution_count": 16,
   "id": "6bc17589-8e1e-4bc4-9524-cd9f8fc10da0",
   "metadata": {},
   "outputs": [
    {
     "data": {
      "text/plain": [
       "array([[0.051, 0.11 , 0.16 , 0.79 , 0.067, 0.238, 0.254],\n",
       "       [0.1  , 0.115, 0.084, 0.012, 0.131, 0.231, 0.261],\n",
       "       [0.04 , 0.152, 0.039, 0.201, 0.268, 0.102, 0.152],\n",
       "       [0.189, 0.09 , 0.256, 0.052, 0.258, 0.379, 0.078],\n",
       "       [0.019, 0.136, 0.114, 0.111, 0.199, 0.07 , 0.113],\n",
       "       [0.448, 0.196, 0.577, 0.025, 0.111, 0.075, 0.139],\n",
       "       [0.402, 0.848, 0.058, 0.147, 0.107, 0.076, 0.132],\n",
       "       [0.35 , 0.084, 0.185, 0.073, 0.026, 0.19 , 0.158],\n",
       "       [0.417, 0.176, 0.143, 0.196, 0.229, 0.108, 0.221],\n",
       "       [0.017, 0.043, 0.289, 0.17 , 0.369, 0.225, 0.056]])"
      ]
     },
     "execution_count": 16,
     "metadata": {},
     "output_type": "execute_result"
    }
   ],
   "source": [
    "MAT  [  :  , np.argsort( np.mean( MAT, axis = 0 ) ) [::-1]  ]"
   ]
  },
  {
   "cell_type": "code",
   "execution_count": 17,
   "id": "f7bfd47d-cd56-4935-8cda-778da3d36a58",
   "metadata": {},
   "outputs": [
    {
     "data": {
      "text/plain": [
       "array([[0.238, 0.067, 0.051, 0.16 , 0.254, 0.11 ,   nan],\n",
       "       [0.231, 0.131, 0.1  , 0.084, 0.261, 0.115, 0.012],\n",
       "       [0.102, 0.268, 0.04 , 0.039, 0.152, 0.152, 0.201],\n",
       "       [0.379, 0.258, 0.189, 0.256, 0.078, 0.09 , 0.052],\n",
       "       [0.07 , 0.199, 0.019, 0.114, 0.113, 0.136, 0.111],\n",
       "       [0.075, 0.111, 0.448,   nan, 0.139, 0.196, 0.025],\n",
       "       [0.076, 0.107, 0.402, 0.058, 0.132,   nan, 0.147],\n",
       "       [0.19 , 0.026, 0.35 , 0.185, 0.158, 0.084, 0.073],\n",
       "       [0.108, 0.229, 0.417, 0.143, 0.221, 0.176, 0.196],\n",
       "       [0.225, 0.369, 0.017, 0.289, 0.056, 0.043, 0.17 ]])"
      ]
     },
     "execution_count": 17,
     "metadata": {},
     "output_type": "execute_result"
    }
   ],
   "source": [
    "MAT [ ( MAT < Q1- 1.5*(Q3-Q1) ) | ( MAT > Q3 + 1.5*(Q3-Q1) ) ] = np.nan\n",
    "MAT"
   ]
  },
  {
   "cell_type": "code",
   "execution_count": 21,
   "id": "d9701986-10bc-453b-9585-48964ccd5871",
   "metadata": {},
   "outputs": [
    {
     "data": {
      "text/plain": [
       "array([[0.238, 0.067, 0.051, 0.16 , 0.254, 0.11 ,   nan],\n",
       "       [0.075, 0.111, 0.448,   nan, 0.139, 0.196, 0.025],\n",
       "       [0.076, 0.107, 0.402, 0.058, 0.132,   nan, 0.147]])"
      ]
     },
     "execution_count": 21,
     "metadata": {},
     "output_type": "execute_result"
    }
   ],
   "source": [
    "MAT[ np.sum ( np.isnan( MAT ) ,  axis = 1 )> 0 , : ]"
   ]
  },
  {
   "cell_type": "code",
   "execution_count": 26,
   "id": "bf13a7cc-d5db-48a1-9e9d-7a7a4f3f6bc8",
   "metadata": {},
   "outputs": [
    {
     "data": {
      "text/plain": [
       "array([1, 1, 1, 1, 0, 1, 1, 1, 1, 0])"
      ]
     },
     "execution_count": 26,
     "metadata": {},
     "output_type": "execute_result"
    }
   ],
   "source": [
    "np.random.seed(123)\n",
    "aMAT = np.random.randint ( 0, 100, (6, 10))\n",
    "aVec = np.where( np.mean (aMAT , axis=0 ) > 50 , 1, 0 )\n",
    "aVec"
   ]
  },
  {
   "cell_type": "code",
   "execution_count": 29,
   "id": "c10b2a54-416b-4f38-9c48-e6522a6260b0",
   "metadata": {},
   "outputs": [
    {
     "data": {
      "text/plain": [
       "array([[66, 92, 98, 17, 83, 57, 86, 97, 96, 47],\n",
       "       [61, 48,  7, 99, 92, 52, 97, 85, 94, 27]])"
      ]
     },
     "execution_count": 29,
     "metadata": {},
     "output_type": "execute_result"
    }
   ],
   "source": [
    "aMAT[  ( aMAT [:, 4] > 50 ) | ( aMAT [:, 6] < 30 ), : ]"
   ]
  },
  {
   "cell_type": "code",
   "execution_count": 32,
   "id": "ea831faa-21e6-4b0e-8a94-193f290ea32d",
   "metadata": {},
   "outputs": [
    {
     "data": {
      "text/plain": [
       "array([[ 66,  92,  98,  17,  83,  57,  86,  97,  96,  47],\n",
       "       [ 73,  32,  46,  96,  25,  83, 999,  36,  96,  80],\n",
       "       [ 68,  49,  55,  67,   2,  84,  39,  66,  84,  47],\n",
       "       [ 61, 999,   7,  99,  92,  52,  97,  85,  94,  27],\n",
       "       [ 34,  97,  76,  40,   3,  69,  64,  75,  34,  58],\n",
       "       [ 10,  22,  77,  18,  15,  27,  30,  52,  70,  26]])"
      ]
     },
     "execution_count": 32,
     "metadata": {},
     "output_type": "execute_result"
    }
   ],
   "source": [
    "aMAT [ [3, 1] , [1, 6] ] = 999\n",
    "aMAT"
   ]
  },
  {
   "cell_type": "code",
   "execution_count": 37,
   "id": "f4797c99-9fb6-4264-8d9e-cd724341a550",
   "metadata": {},
   "outputs": [
    {
     "data": {
      "text/plain": [
       "array([44.5 , 65.  , 76.5 , 35.5 , 25.75, 59.25, 54.75, 72.5 , 71.  ,\n",
       "       44.5 ])"
      ]
     },
     "execution_count": 37,
     "metadata": {},
     "output_type": "execute_result"
    }
   ],
   "source": [
    "aMAT [ ~ np.any( aMAT == 999, axis = 1 ), : ].mean(axis=0)"
   ]
  },
  {
   "cell_type": "code",
   "execution_count": 39,
   "id": "1d6bab3d-be7a-48c7-8ca1-8c58324a8518",
   "metadata": {},
   "outputs": [
    {
     "data": {
      "text/plain": [
       "array([24.05722345, 31.05640031, 15.20690633, 20.37768387, 33.44678609,\n",
       "       20.93292861, 21.92458666, 16.34778272, 23.2594067 , 11.58663023])"
      ]
     },
     "execution_count": 39,
     "metadata": {},
     "output_type": "execute_result"
    }
   ],
   "source": [
    "aMAT [ ~ np.any( aMAT == 999, axis = 1 ), : ].std(axis=0)"
   ]
  }
 ],
 "metadata": {
  "kernelspec": {
   "display_name": "Python 3 (ipykernel)",
   "language": "python",
   "name": "python3"
  },
  "language_info": {
   "codemirror_mode": {
    "name": "ipython",
    "version": 3
   },
   "file_extension": ".py",
   "mimetype": "text/x-python",
   "name": "python",
   "nbconvert_exporter": "python",
   "pygments_lexer": "ipython3",
   "version": "3.11.7"
  }
 },
 "nbformat": 4,
 "nbformat_minor": 5
}
