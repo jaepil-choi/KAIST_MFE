{
 "cells": [
  {
   "cell_type": "code",
   "execution_count": null,
   "id": "35a87268",
   "metadata": {},
   "outputs": [],
   "source": [
    "import numpy as np\n",
    "np.random.seed(123)\n",
    "MAT = np.random.exponential( scale=1/5, size=(10, 7))\n",
    "MAT = np.around( MAT, decimals=3)\n",
    "MAT"
   ]
  },
  {
   "cell_type": "code",
   "execution_count": null,
   "id": "b03ca330",
   "metadata": {},
   "outputs": [],
   "source": [
    "Q1 = np.percentile( MAT, q=25)\n",
    "Q3 = np.percentile( MAT, q=75)\n",
    "MAT [ ( MAT < Q1- 1.5*(Q3-Q1) ) | ( MAT > Q3 + 1.5*(Q3-Q1) ) ] "
   ]
  },
  {
   "cell_type": "code",
   "execution_count": null,
   "id": "0314a3be",
   "metadata": {},
   "outputs": [],
   "source": []
  },
  {
   "cell_type": "code",
   "execution_count": null,
   "id": "86f5e951",
   "metadata": {},
   "outputs": [],
   "source": [
    "m = np.median( MAT )\n",
    "mdiff = np.abs ( MAT - m )\n",
    "np.nonzero ( mdiff == np.min ( mdiff ) )"
   ]
  },
  {
   "cell_type": "code",
   "execution_count": null,
   "id": "78c6a8b0",
   "metadata": {},
   "outputs": [],
   "source": [
    "MAT[ np.argsort(MAT[:, 1]), : ]"
   ]
  },
  {
   "cell_type": "code",
   "execution_count": null,
   "id": "b1d9fb04",
   "metadata": {},
   "outputs": [],
   "source": [
    "MAT  [  :  , np.argsort( np.mean( MAT, axis = 0 ) ) [::-1]  ]"
   ]
  },
  {
   "cell_type": "code",
   "execution_count": null,
   "id": "5ae2e1fe",
   "metadata": {},
   "outputs": [],
   "source": [
    "MAT [ ( MAT < Q1- 1.5*(Q3-Q1) ) | ( MAT > Q3 + 1.5*(Q3-Q1) ) ] = np.nan\n",
    "MAT"
   ]
  },
  {
   "cell_type": "code",
   "execution_count": null,
   "id": "f9720619",
   "metadata": {},
   "outputs": [],
   "source": [
    "MAT[ np.sum ( np.isnan( MAT ) ,  axis = 1 )> 0 , : ]"
   ]
  },
  {
   "cell_type": "code",
   "execution_count": null,
   "id": "d6d0827d",
   "metadata": {},
   "outputs": [],
   "source": [
    "np.random.seed(123)\n",
    "aMAT = np.random.randint ( 0, 100, (6, 10))\n",
    "aVec = np.where( np.mean (aMAT , axis=0 ) > 50 , 1, 0 )\n",
    "aVec"
   ]
  },
  {
   "cell_type": "code",
   "execution_count": null,
   "id": "fc43ba88",
   "metadata": {},
   "outputs": [],
   "source": [
    "aMAT[  ( aMAT [:, 4] > 50 ) | ( aMAT [:, 6] < 30 ), : ]"
   ]
  },
  {
   "cell_type": "code",
   "execution_count": null,
   "id": "7a1cef79",
   "metadata": {},
   "outputs": [],
   "source": [
    "aMAT [ [3, 1] , [1, 6] ] = 999\n",
    "aMAT"
   ]
  },
  {
   "cell_type": "code",
   "execution_count": null,
   "id": "7193e3db",
   "metadata": {},
   "outputs": [],
   "source": [
    "aMAT [ ~ np.any( aMAT == 999, axis = 1 ), : ].mean(axis=0)"
   ]
  },
  {
   "cell_type": "code",
   "execution_count": null,
   "id": "2b416a77",
   "metadata": {},
   "outputs": [],
   "source": [
    "aMAT [ ~ np.any( aMAT == 999, axis = 1 ), : ].std(axis=0)"
   ]
  }
 ],
 "metadata": {
  "kernelspec": {
   "display_name": "Python 3 (ipykernel)",
   "language": "python",
   "name": "python3"
  }
 },
 "nbformat": 4,
 "nbformat_minor": 5
}
