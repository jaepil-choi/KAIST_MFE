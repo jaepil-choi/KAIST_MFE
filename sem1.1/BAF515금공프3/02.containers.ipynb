{
 "cells": [
  {
   "cell_type": "markdown",
   "id": "c3f7e73f",
   "metadata": {},
   "source": [
    "# Chapter 2. Containers"
   ]
  },
  {
   "cell_type": "markdown",
   "id": "360156a4",
   "metadata": {},
   "source": [
    "- string은 immutable해서 replace 안됨. 명시적으로 `.replace()` method 써주지 않는 이상. \n",
    "    - `.replace()` 하면 해당 object를 지우고 다시 지정해주는 것임. \n",
    "    - `.upper()`로 바뀌는 것도 새로운 값을 return하는 것이지 str object 자체는 안변함. \n",
    "- list같은 mutable한 object들, str같은 immutable과는 달리 method로 바꿀 때 inplace로 객체 자체가 바뀌는 경우들이 있음. \n",
    "- `sorted()`와 `.sort()`의 차이: inplace 여부\n",
    "    - inplace로 update하는 식으로 하면 좀 더 메모리 효율적\n",
    "    - `.sort()` 와 같이 inplace하는 메소드들은 None return 하고 끝난다는 것을 유의. \n",
    "- list copy 방법:\n",
    "    - `[:]` 쓰던가 `.copy()` 매소드 사용\n",
    "    - 그냥 다른 변수에 할당하는 것은 reference를 바꾸는 것에 불과함. \n",
    "    - 나중에 pd, np 쓰게되면, 그땐 view vs copy의 문제가 나옴. \n",
    "- set operations\n",
    "    - `<=` or `.issubset()`\n",
    "    - `>=` or `.issuperset()`\n",
    "    - `^`: 대칭차집합 - 합집합에서 교집합 빼준 것. 둘 다 포함되는 것들 아예 제외. \n",
    "    - `.add()` vs `.update()`\n",
    "        - inplace로 바꾸는 것은 동일\n",
    "        - add는 1개 원소\n",
    "        - update는 set(또는 collection)을 합해줌\n",
    "    - `.discard()` vs `.remove()`\n",
    "        - set에서 제거하는 것은 동일하나\n",
    "        - remove는 error을 raise. \n"
   ]
  },
  {
   "cell_type": "markdown",
   "id": "bf3634a1",
   "metadata": {},
   "source": [
    "set 연산자"
   ]
  },
  {
   "cell_type": "code",
   "execution_count": null,
   "id": "dda6eeda",
   "metadata": {},
   "outputs": [],
   "source": [
    "A = {1, 2, 3, 4}\n",
    "B = {1, 2}\n",
    "C = {3, 4, 5}"
   ]
  },
  {
   "cell_type": "code",
   "execution_count": null,
   "id": "0301f625",
   "metadata": {},
   "outputs": [],
   "source": [
    "B <= A"
   ]
  },
  {
   "cell_type": "code",
   "execution_count": null,
   "id": "bbde1005",
   "metadata": {},
   "outputs": [],
   "source": [
    "A >= B"
   ]
  },
  {
   "cell_type": "code",
   "execution_count": null,
   "id": "63df3196",
   "metadata": {},
   "outputs": [],
   "source": [
    "A^C"
   ]
  },
  {
   "cell_type": "markdown",
   "id": "0751c1f7",
   "metadata": {},
   "source": [
    "- shallow copy vs deep copy \n",
    "    - shallow copy는 이름 그대로 list 등의 원소가 mutable 할 경우 그대로 reference만 가져온다. \n",
    "        - element of list가 mutable일 때 그게 변하면 shallow copy 된 object에도 반영이 되어버림. \n",
    "    - deep copy의 경우 안에 있는 것도 다 reference 대신 새로 memory 따기 때문에 진짜 안바뀜. "
   ]
  },
  {
   "cell_type": "code",
   "execution_count": null,
   "id": "da7a5cac",
   "metadata": {},
   "outputs": [],
   "source": [
    "import copy\n",
    "\n",
    "a = [1,2,3,[5,6,7]]\n",
    "\n",
    "b = copy.copy(a)\n",
    "c = copy.deepcopy(a)"
   ]
  },
  {
   "cell_type": "code",
   "execution_count": null,
   "id": "ee041e36",
   "metadata": {},
   "outputs": [],
   "source": [
    "b[-1][0] = 99"
   ]
  },
  {
   "cell_type": "code",
   "execution_count": null,
   "id": "c5f96864",
   "metadata": {},
   "outputs": [],
   "source": [
    "a"
   ]
  },
  {
   "cell_type": "code",
   "execution_count": null,
   "id": "b0c8f4bb",
   "metadata": {},
   "outputs": [],
   "source": [
    "c[-1][-1] = 11"
   ]
  },
  {
   "cell_type": "code",
   "execution_count": null,
   "id": "6cbbbc3e",
   "metadata": {},
   "outputs": [],
   "source": [
    "a"
   ]
  },
  {
   "cell_type": "code",
   "execution_count": null,
   "id": "a4d09c6b",
   "metadata": {},
   "outputs": [],
   "source": [
    "c"
   ]
  },
  {
   "cell_type": "markdown",
   "id": "57b56443",
   "metadata": {},
   "source": [
    "|       | seq | mutable | elem_type                 |\n",
    "|-------|-----|---------|---------------------------|\n",
    "| str   | o   | x       | char                      |\n",
    "| list  | o   | o       | any                       |\n",
    "| tuple | o   | x       | any                       |\n",
    "| dict  | x   | o       | key: immutable value: any |\n",
    "| set   | x   | o       | immutable                 |"
   ]
  },
  {
   "cell_type": "markdown",
   "id": "31ec629e",
   "metadata": {},
   "source": [
    "- Immutability is about whether an object can change its state or not.\n",
    "- Hashability is about whether an object can return a consistent hash value, making it usable as a dictionary key or set element.\n",
    "\n",
    "The key relationship between the two is that all immutable objects in Python are hashable by default because their immutable nature means their hash value will not change over time. However, not all hashable objects are necessarily immutable; a custom object can be made hashable by defining both a __hash__() method that returns a consistent hash value and an __eq__() method, but this does not make the object immutable."
   ]
  },
  {
   "cell_type": "markdown",
   "id": "90d3c4b8",
   "metadata": {},
   "source": []
  }
 ],
 "metadata": {
  "kernelspec": {
   "display_name": "sandbox311",
   "language": "python",
   "name": "python3"
  }
 },
 "nbformat": 4,
 "nbformat_minor": 5
}
