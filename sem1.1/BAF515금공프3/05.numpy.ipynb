{
 "cells": [
  {
   "cell_type": "markdown",
   "id": "0d4d6148",
   "metadata": {},
   "source": [
    "# Chp 5. Numpy"
   ]
  },
  {
   "cell_type": "code",
   "execution_count": null,
   "id": "489b727c",
   "metadata": {},
   "outputs": [],
   "source": [
    "import numpy as np"
   ]
  },
  {
   "cell_type": "code",
   "execution_count": null,
   "id": "0d477468",
   "metadata": {},
   "outputs": [],
   "source": [
    "np.__version__ # 최신 버전 쓰고 있음. "
   ]
  },
  {
   "cell_type": "markdown",
   "id": "fb78d56e",
   "metadata": {},
   "source": [
    "- same dtype으로 array에 들어감. "
   ]
  },
  {
   "cell_type": "code",
   "execution_count": null,
   "id": "b19583f6",
   "metadata": {},
   "outputs": [],
   "source": [
    "arr = np.array([\n",
    "    [1.5, 1, 3],\n",
    "    [2, 2, 2],\n",
    "    ]) # 하나가 float이면 전체가 float"
   ]
  },
  {
   "cell_type": "code",
   "execution_count": null,
   "id": "3a6e763b",
   "metadata": {},
   "outputs": [],
   "source": [
    "arr.ndim"
   ]
  },
  {
   "cell_type": "code",
   "execution_count": null,
   "id": "d9f4478c",
   "metadata": {},
   "outputs": [],
   "source": [
    "arr.size"
   ]
  },
  {
   "cell_type": "code",
   "execution_count": null,
   "id": "cf728a6a",
   "metadata": {},
   "outputs": [],
   "source": [
    "arr.shape"
   ]
  },
  {
   "cell_type": "code",
   "execution_count": null,
   "id": "06ef2c96",
   "metadata": {},
   "outputs": [],
   "source": [
    "arr.dtype # float의 default는 float64"
   ]
  },
  {
   "cell_type": "markdown",
   "id": "d98ee599",
   "metadata": {},
   "source": [
    "- dtypes:\n",
    "    - int32\n",
    "    - int64\n",
    "    - float32\n",
    "    - float64\n",
    "    - complex128\n",
    "    - bool"
   ]
  },
  {
   "cell_type": "markdown",
   "id": "1748c9a5",
   "metadata": {},
   "source": [
    "- Empty array creation\n",
    "\n",
    "틀 만들어놓고 시작하는 경우 유용"
   ]
  },
  {
   "cell_type": "code",
   "execution_count": null,
   "id": "df79c71b",
   "metadata": {},
   "outputs": [],
   "source": [
    "arr = np.zeros((3, 4))\n",
    "arr"
   ]
  },
  {
   "cell_type": "code",
   "execution_count": null,
   "id": "0178da5a",
   "metadata": {},
   "outputs": [],
   "source": [
    "arr = np.ones((3, 4))\n",
    "arr"
   ]
  },
  {
   "cell_type": "code",
   "execution_count": null,
   "id": "feffb987",
   "metadata": {},
   "outputs": [],
   "source": [
    "arr = np.empty((3, 4))\n",
    "arr # random한 값들이 채워져 있어야 하는데 1.0이 계속 들어가네. 이상하다..."
   ]
  },
  {
   "cell_type": "code",
   "execution_count": null,
   "id": "3c39eba8",
   "metadata": {},
   "outputs": [],
   "source": [
    "arr[0, 0]"
   ]
  },
  {
   "cell_type": "code",
   "execution_count": null,
   "id": "48516bca",
   "metadata": {},
   "outputs": [],
   "source": [
    "arr = np.eye(3)\n",
    "arr # 3x3의 identity matrix"
   ]
  },
  {
   "cell_type": "code",
   "execution_count": null,
   "id": "09f2b248",
   "metadata": {},
   "outputs": [],
   "source": [
    "arr = np.full((3, 4), 99.)\n",
    "arr"
   ]
  },
  {
   "cell_type": "markdown",
   "id": "52e52267",
   "metadata": {},
   "source": [
    "- sequence of number를 가지고 create하는 방법"
   ]
  },
  {
   "cell_type": "code",
   "execution_count": null,
   "id": "f5c50266",
   "metadata": {},
   "outputs": [],
   "source": [
    "arr = np.arange(1, 10, 0.1)\n",
    "arr"
   ]
  },
  {
   "cell_type": "code",
   "execution_count": null,
   "id": "dd6f4e5e",
   "metadata": {},
   "outputs": [],
   "source": [
    "arr = np.linspace(start=1, stop=10, num=50) # 1이상 10이하 50개의 숫자를 만들어라. 같은 간격. high도 포함됨.(이하)\n",
    "arr"
   ]
  },
  {
   "cell_type": "markdown",
   "id": "0f3247c0",
   "metadata": {},
   "source": [
    "- random number creation"
   ]
  },
  {
   "cell_type": "code",
   "execution_count": null,
   "id": "df93e683",
   "metadata": {},
   "outputs": [],
   "source": [
    "np.random.seed(42)"
   ]
  },
  {
   "cell_type": "code",
   "execution_count": null,
   "id": "99e174ef",
   "metadata": {},
   "outputs": [],
   "source": [
    "# uniform distribution (0~1)\n",
    "arr = np.random.rand(3, 4) # shape가 들어감. tuple 아닌 채로. \n",
    "arr"
   ]
  },
  {
   "cell_type": "code",
   "execution_count": null,
   "id": "9df68c95",
   "metadata": {},
   "outputs": [],
   "source": [
    "# uniform distribution (low~high)\n",
    "arr = np.random.uniform(low=10, high=100, size=(3, 4))\n",
    "arr"
   ]
  },
  {
   "cell_type": "code",
   "execution_count": null,
   "id": "b874ef8f",
   "metadata": {},
   "outputs": [],
   "source": [
    "# standard normal distribution\n",
    "arr = np.random.randn(3, 4) # shape가 들어감. tuple 아닌 채로.\n",
    "arr"
   ]
  },
  {
   "cell_type": "code",
   "execution_count": null,
   "id": "a57cc267",
   "metadata": {},
   "outputs": [],
   "source": [
    "# normal distribution\n",
    "arr = np.random.normal(loc=6, scale=4, size=(3, 4)) # loc: mean, scale: std\n",
    "arr"
   ]
  },
  {
   "cell_type": "code",
   "execution_count": null,
   "id": "58fd1fdf",
   "metadata": {},
   "outputs": [],
   "source": [
    "# random integer. discrete uniform distribution\n",
    "arr = np.random.randint(low=1, high=100, size=(3, 4)) # 1이상 100미만의 정수를 3x4 matrix로 만들어라.\n",
    "arr"
   ]
  },
  {
   "cell_type": "markdown",
   "id": "ad445c0a",
   "metadata": {},
   "source": [
    "이 외에도 `np.random` 내에 \n",
    "\n",
    "- binomial, \n",
    "- chisquare, \n",
    "- exponential, \n",
    "- f, \n",
    "- normal, \n",
    "- poisson, \n",
    "- standard_t, \n",
    "- standard_normal, \n",
    "- uniform \n",
    "\n",
    "분포가 준비되어 있음. "
   ]
  },
  {
   "cell_type": "markdown",
   "id": "0663c29d",
   "metadata": {},
   "source": [
    "Exercise 1"
   ]
  },
  {
   "cell_type": "markdown",
   "id": "9d7dfd77",
   "metadata": {},
   "source": [
    "Exercise 1 \n",
    "\n",
    "- Create an 1 dimensional array of all the even integers from 30 to 70.\n",
    "- Create an 3x5 array filled with 15 random numbers from a standard normal distribution.\n",
    "- Create a 2 dimensional array with shape (2, 5) by randomly extracting 10 integers between 10 and 30 inclusive.\n",
    "- Create an array of shape (5,6), filled with integer zeros."
   ]
  },
  {
   "cell_type": "code",
   "execution_count": null,
   "id": "695c4ece",
   "metadata": {},
   "outputs": [],
   "source": [
    "arr = np.arange(30, 70+1)\n",
    "arr"
   ]
  },
  {
   "cell_type": "code",
   "execution_count": null,
   "id": "fdc25721",
   "metadata": {},
   "outputs": [],
   "source": [
    "arr = np.random.randn(3, 5)\n",
    "arr"
   ]
  },
  {
   "cell_type": "code",
   "execution_count": null,
   "id": "190cc2f1",
   "metadata": {},
   "outputs": [],
   "source": [
    "arr = np.random.randint(10, 30+1, (2, 5)) # inclusive하게 뽑으려면 +1 해줘야 함.\n",
    "arr"
   ]
  },
  {
   "cell_type": "code",
   "execution_count": null,
   "id": "b2291904",
   "metadata": {},
   "outputs": [],
   "source": [
    "arr = np.zeros((5, 6), dtype=int) # default는 floating point zero. integer로 뽑으려면 dtype을 지정해줘야 함.\n",
    "arr"
   ]
  },
  {
   "cell_type": "code",
   "execution_count": null,
   "id": "130a7e31",
   "metadata": {},
   "outputs": [],
   "source": [
    "arr.dtype # int의 default는 int32"
   ]
  },
  {
   "cell_type": "markdown",
   "id": "348adf3d",
   "metadata": {},
   "source": [
    "- accessing values in numpy arrays\n",
    "    - indexing\n",
    "    - slicing\n",
    "    - numericalindexing\n",
    "    - logical indexing (boolean masking)\n",
    "        - masking은 진짜 중요함. Haafor에서의 기억..."
   ]
  },
  {
   "cell_type": "markdown",
   "id": "0aefcf2f",
   "metadata": {},
   "source": [
    "- indexing\n",
    "    - one-dimensional & multi-dimensional"
   ]
  },
  {
   "cell_type": "code",
   "execution_count": null,
   "id": "a49de781",
   "metadata": {},
   "outputs": [],
   "source": [
    "arr = np.random.randn(3, 4) \n",
    "arr"
   ]
  },
  {
   "cell_type": "code",
   "execution_count": null,
   "id": "523916c7",
   "metadata": {},
   "outputs": [],
   "source": [
    "arr[0][2] # 아무도 이렇게 안 씀. "
   ]
  },
  {
   "cell_type": "code",
   "execution_count": null,
   "id": "e935daa3",
   "metadata": {},
   "outputs": [],
   "source": [
    "arr[0, 2]"
   ]
  },
  {
   "cell_type": "code",
   "execution_count": null,
   "id": "83e84ed7",
   "metadata": {},
   "outputs": [],
   "source": [
    "arr[2, :]"
   ]
  },
  {
   "cell_type": "code",
   "execution_count": null,
   "id": "8ab11790",
   "metadata": {},
   "outputs": [],
   "source": [
    "arr[:, 2]"
   ]
  },
  {
   "cell_type": "markdown",
   "id": "2941a54f",
   "metadata": {},
   "source": [
    "exercise 2"
   ]
  },
  {
   "cell_type": "code",
   "execution_count": null,
   "id": "17f400c8",
   "metadata": {},
   "outputs": [],
   "source": [
    "grid = np.arange(6) + np.arange(0, 60, 10).reshape(-1, 1)\n",
    "grid"
   ]
  },
  {
   "cell_type": "code",
   "execution_count": null,
   "id": "40a173f2",
   "metadata": {},
   "outputs": [],
   "source": [
    "#1\n",
    "grid[0, 3:5]"
   ]
  },
  {
   "cell_type": "code",
   "execution_count": null,
   "id": "b4f07155",
   "metadata": {},
   "outputs": [],
   "source": [
    "#2\n",
    "grid[4:6, 4:6]"
   ]
  },
  {
   "cell_type": "code",
   "execution_count": null,
   "id": "967afb2b",
   "metadata": {},
   "outputs": [],
   "source": [
    "#3\n",
    "grid[:, 2]"
   ]
  },
  {
   "cell_type": "code",
   "execution_count": null,
   "id": "a2176659",
   "metadata": {},
   "outputs": [],
   "source": [
    "#4\n",
    "grid[:, 2:3]"
   ]
  },
  {
   "cell_type": "code",
   "execution_count": null,
   "id": "be429ef2",
   "metadata": {},
   "outputs": [],
   "source": [
    "#5\n",
    "grid[2:5:2, 0:5:2]"
   ]
  },
  {
   "cell_type": "markdown",
   "id": "bf90c294",
   "metadata": {},
   "source": [
    "exercise 3"
   ]
  },
  {
   "cell_type": "code",
   "execution_count": null,
   "id": "24ea20b5",
   "metadata": {},
   "outputs": [],
   "source": [
    "grid = np.zeros((8,8), dtype=np.int64)\n",
    "grid"
   ]
  },
  {
   "cell_type": "code",
   "execution_count": null,
   "id": "f62bf5c8",
   "metadata": {},
   "outputs": [],
   "source": [
    "grid[1::2, 0::2] = 1\n",
    "grid"
   ]
  },
  {
   "cell_type": "code",
   "execution_count": null,
   "id": "ea7fbec7",
   "metadata": {},
   "outputs": [],
   "source": [
    "grid"
   ]
  },
  {
   "cell_type": "markdown",
   "id": "9be64b52",
   "metadata": {},
   "source": [
    "`np.newaxis` == None"
   ]
  },
  {
   "cell_type": "code",
   "execution_count": null,
   "id": "9c7d3b13",
   "metadata": {},
   "outputs": [],
   "source": [
    "a = np.array([1,2,3])\n",
    "a.reshape(1,3)"
   ]
  },
  {
   "cell_type": "code",
   "execution_count": null,
   "id": "910647a5",
   "metadata": {},
   "outputs": [],
   "source": [
    "a[np.newaxis, :]"
   ]
  },
  {
   "cell_type": "code",
   "execution_count": null,
   "id": "7a4ec8ce",
   "metadata": {},
   "outputs": [],
   "source": [
    "a[None, :]"
   ]
  },
  {
   "cell_type": "code",
   "execution_count": null,
   "id": "13022e83",
   "metadata": {},
   "outputs": [],
   "source": [
    "a[:, None]"
   ]
  },
  {
   "cell_type": "markdown",
   "id": "2a40597d",
   "metadata": {},
   "source": [
    "그 외 shape manipulations"
   ]
  },
  {
   "cell_type": "code",
   "execution_count": null,
   "id": "96752539",
   "metadata": {},
   "outputs": [],
   "source": [
    "A = np.random.rand(2, 3)\n",
    "A"
   ]
  },
  {
   "cell_type": "code",
   "execution_count": null,
   "id": "74000a26",
   "metadata": {},
   "outputs": [],
   "source": [
    "A.flatten()"
   ]
  },
  {
   "cell_type": "code",
   "execution_count": null,
   "id": "5bf60dbd",
   "metadata": {},
   "outputs": [],
   "source": [
    "A.flatten('F') # flatten with Fortran order. 위 아래 위래 위 아래 이런 식으로 column 먼저 flatten"
   ]
  },
  {
   "cell_type": "markdown",
   "id": "6cc70ef9",
   "metadata": {},
   "source": [
    "concatenation"
   ]
  },
  {
   "cell_type": "code",
   "execution_count": null,
   "id": "9a9d49dc",
   "metadata": {},
   "outputs": [],
   "source": [
    "x = np.array([\n",
    "    [1, 2, 3],\n",
    "    [4, 5, 6]\n",
    "])"
   ]
  },
  {
   "cell_type": "code",
   "execution_count": null,
   "id": "bf54ff94",
   "metadata": {},
   "outputs": [],
   "source": [
    "y = np.array([\n",
    "    [7, 8, 9],\n",
    "    [10, 11, 12],\n",
    "    [13, 14, 15]\n",
    "])"
   ]
  },
  {
   "cell_type": "code",
   "execution_count": null,
   "id": "477952fd",
   "metadata": {},
   "outputs": [],
   "source": [
    "np.concatenate([x, y], axis=0)"
   ]
  },
  {
   "cell_type": "code",
   "execution_count": null,
   "id": "b9070b29",
   "metadata": {},
   "outputs": [],
   "source": [
    "np.concatenate([x, y], axis=1) # 모양 안맞으면 에러 남. "
   ]
  },
  {
   "cell_type": "markdown",
   "id": "e9625fa6",
   "metadata": {},
   "source": [
    "concat으로 쓰는 대신 명시적으로 \n",
    "\n",
    "`vstack`, `hstack` 써주자. "
   ]
  },
  {
   "cell_type": "code",
   "execution_count": null,
   "id": "7f679507",
   "metadata": {},
   "outputs": [],
   "source": [
    "np.vstack([x, y])"
   ]
  },
  {
   "cell_type": "code",
   "execution_count": null,
   "id": "84da365a",
   "metadata": {},
   "outputs": [],
   "source": [
    "np.hstack([x, x])"
   ]
  },
  {
   "cell_type": "code",
   "execution_count": null,
   "id": "b02c12ed",
   "metadata": {},
   "outputs": [],
   "source": [
    "two = np.array([\n",
    "    [1, 2],\n",
    "    [3, 4]\n",
    "])\n",
    "\n",
    "one = np.array([5, 6])\n",
    "\n",
    "np.column_stack([two, one]) # 이런거도 있긴한데 굳이.. 그냥 one을 reshape해서 column으로 만들어서 hstack해도 됨."
   ]
  },
  {
   "cell_type": "markdown",
   "id": "6bbd250c",
   "metadata": {},
   "source": [
    "반대로 split으로 찢을 수도 있음"
   ]
  },
  {
   "cell_type": "code",
   "execution_count": null,
   "id": "bb8eaaf3",
   "metadata": {},
   "outputs": [],
   "source": [
    "grid"
   ]
  },
  {
   "cell_type": "code",
   "execution_count": null,
   "id": "c89e213c",
   "metadata": {},
   "outputs": [],
   "source": [
    "np.vsplit(grid, 2) # 2개로 나눠라."
   ]
  },
  {
   "cell_type": "code",
   "execution_count": null,
   "id": "812a674f",
   "metadata": {},
   "outputs": [],
   "source": [
    "np.vsplit(grid, [2]) # 2번 인덱스에서 나눠라."
   ]
  },
  {
   "cell_type": "code",
   "execution_count": null,
   "id": "6f6bb744",
   "metadata": {},
   "outputs": [],
   "source": [
    "np.split(grid, [2], axis=0)"
   ]
  },
  {
   "cell_type": "markdown",
   "id": "5f2d9354",
   "metadata": {},
   "source": [
    "array끼리의 연산\n",
    "\n",
    "원래는 element-wise. shape가 같아야 함. \n",
    "\n",
    "하지만 broadcasting이 가능한 경우는 ㄱㅊ\n",
    "\n",
    "- `@` 와 `np.dot` 같음\n"
   ]
  },
  {
   "cell_type": "markdown",
   "id": "e8e3dcac",
   "metadata": {},
   "source": [
    "\n",
    "그 외 universal function들이 있다. \n",
    "\n",
    "- `np.exp`\n",
    "- `np.log`\n",
    "- `np.log10`\n",
    "- `np.sqrt`\n",
    "    - `np.cbrt`도 있고 \n",
    "    - `np.power` 쓸 수 있음. \n",
    "    - 아니면 그냥 `**(1/3) ` 이게 제일 깔끔하지\n",
    "- `np.sin` 외 삼각함수 2종\n",
    "- `np.rint`\n",
    "    - nearest \"even\" integer로 감. 반올림이 아님. 2.5면 2로 가고 3.5면 4로 감. \n",
    "    - 반올림은 `np.round(9.3456, 2)` >> 9.35 써야. \n",
    "- `np.ceil` 올림\n",
    "- `np.floor` 버림\n",
    "- `np.abs`\n",
    "- `np.isnan`\n",
    "- `np.inf`\n"
   ]
  },
  {
   "cell_type": "markdown",
   "id": "036f39ab",
   "metadata": {},
   "source": [
    "numpy broadcasting\n",
    "\n",
    "- 차원의 shape가 같거나\n",
    "- 적어도 둘 중 하나의 작은 dimension이 1이라 그걸 늘렸을 때 다른 array와 shape를 맞출 수 있어야 함. \n"
   ]
  },
  {
   "cell_type": "code",
   "execution_count": null,
   "id": "0dd74853",
   "metadata": {},
   "outputs": [],
   "source": [
    "a = np.array([1, 2, 3])\n",
    "a"
   ]
  },
  {
   "cell_type": "code",
   "execution_count": null,
   "id": "8bb948ee",
   "metadata": {},
   "outputs": [],
   "source": [
    "b = np.array([\n",
    "    [4, 5, 6],\n",
    "    [7, 8, 9]\n",
    "])\n",
    "b"
   ]
  },
  {
   "cell_type": "code",
   "execution_count": null,
   "id": "650a3fc1",
   "metadata": {},
   "outputs": [],
   "source": [
    "a + b"
   ]
  },
  {
   "cell_type": "markdown",
   "id": "6d4fdc36",
   "metadata": {},
   "source": [
    "aggregation operations \n",
    "\n",
    "이거 좋다. 속도가 빠름. 앵간한 것은 이걸로 해주는 것이 좋다. \n",
    "\n",
    "그리고 nan-safe version도 있음. nan 무시하고 연산. \n",
    "\n",
    "- `np.sum`, `np.nansum`\n",
    "- `np.prod`, `np.nanprod`\n",
    "- `np.mean`, `np.nanmean` 매우 소중하다\n",
    "- `np.std`, `np.nanstd`\n",
    "- `np.var`, `np.nanvar`\n",
    "- `np.min`, `np.nanmin`\n",
    "- `np.max`, `np.nanmax`\n",
    "- `np.median`, `np.nanmedian` \n",
    "- `np.percentile`, `np.nanpercentile` 매우 소중하다\n",
    "- `np.any` boolean으로 판단\n",
    "- `np.all` boolean으로 판단"
   ]
  },
  {
   "cell_type": "code",
   "execution_count": null,
   "id": "2c337ae4",
   "metadata": {},
   "outputs": [],
   "source": [
    "a = np.array([1, 2, 3, np.nan])\n",
    "np.prod(a)"
   ]
  },
  {
   "cell_type": "code",
   "execution_count": null,
   "id": "dcb7545d",
   "metadata": {},
   "outputs": [],
   "source": [
    "np.nanprod(a)"
   ]
  },
  {
   "cell_type": "markdown",
   "id": "f800e3c9",
   "metadata": {},
   "source": [
    "sorting & searching function\n",
    "\n",
    "이것들도 매우 중요하다. \n",
    "\n",
    "- `np.sort`\n",
    "- `np.argsort` 특히 중요\n",
    "- `np.argmax`, `np.argmin`\n",
    "- `np.nonzero`\n",
    "- `np.where(condition, [, x, y])` 매우 중요"
   ]
  },
  {
   "cell_type": "code",
   "execution_count": null,
   "id": "dd90e71a",
   "metadata": {},
   "outputs": [],
   "source": [
    "p = np.random.randn(3, 4)\n",
    "p"
   ]
  },
  {
   "cell_type": "code",
   "execution_count": null,
   "id": "f8c2e0e9",
   "metadata": {},
   "outputs": [],
   "source": [
    "np.where(p < 0)"
   ]
  },
  {
   "cell_type": "markdown",
   "id": "df5ed672",
   "metadata": {},
   "source": [
    "condition만 들어가면 이렇게 참인 곳의 array만 shape 순으로 나옴. \n",
    "\n",
    "(3, 4)의 shape에서 row 먼저 좌표가 쭉 나오고, column 좌표가 그 다음에 나옴. \n"
   ]
  },
  {
   "cell_type": "code",
   "execution_count": null,
   "id": "5d8bc131",
   "metadata": {},
   "outputs": [],
   "source": [
    "# 일반적인 사용 \n",
    "\n",
    "condition = np.array([\n",
    "    [True, False],\n",
    "    [False, True]\n",
    "])\n",
    "\n",
    "x = np.array([[1, 2],\n",
    "              [3, 4]])\n",
    "\n",
    "y = np.array([[5, 6],\n",
    "              [7, 8]])\n",
    "\n",
    "np.where(condition, x, y)"
   ]
  },
  {
   "cell_type": "markdown",
   "id": "2ffc8131",
   "metadata": {},
   "source": [
    "\n",
    "condition 뒤에 x, y가 들어가면 true일 때 x, false일때 y의 그 자리에 있는 것을 반환. \n",
    "\n",
    "이 때 일반적으로 shape가 맞아야 하지만, broadcastable 하면 아래처럼 동작은 할 수 있음. \n",
    "\n",
    "근데 너무 헷갈리니까 그냥 얌전히 condtiion, x, y 모두 사이즈를 맞춰서 넣어주는 것이 좋음. "
   ]
  },
  {
   "cell_type": "code",
   "execution_count": null,
   "id": "5b31662a",
   "metadata": {
    "lines_to_next_cell": 2
   },
   "outputs": [],
   "source": [
    "# Condition: 2x2 boolean array\n",
    "condition = np.array([[True, False],\n",
    "                      [True, True]])\n",
    "\n",
    "# x: 2x2 array\n",
    "x = np.array([[1, 2],\n",
    "              [3, 4]])\n",
    "\n",
    "# y: 1x2 array\n",
    "y = np.array([5, 6]) # broadcasting 사용\n",
    "\n",
    "# Attempt to use numpy.where with incompatible shapes\n",
    "result = np.where(condition, x, y)\n",
    "\n",
    "print(result)"
   ]
  },
  {
   "cell_type": "code",
   "execution_count": null,
   "id": "d1e457f3",
   "metadata": {},
   "outputs": [],
   "source": [
    "p"
   ]
  },
  {
   "cell_type": "code",
   "execution_count": null,
   "id": "227e1257",
   "metadata": {},
   "outputs": [],
   "source": [
    "argmin = np.argmin(p)\n",
    "argmin"
   ]
  },
  {
   "cell_type": "code",
   "execution_count": null,
   "id": "a520f8b9",
   "metadata": {},
   "outputs": [],
   "source": [
    "argmin = np.argmin(p, axis=0)\n",
    "argmin"
   ]
  },
  {
   "cell_type": "markdown",
   "id": "02963da2",
   "metadata": {},
   "source": [
    "위처럼, argmin 했을 때 그냥 flatten된 index가 나와서 불편함. row, column 위치가 나오지 않음. \n",
    "\n",
    "이 경우 아래와 같이 shape를 주고 위치를 원복하는 것이 좋음. "
   ]
  },
  {
   "cell_type": "code",
   "execution_count": null,
   "id": "46fb9ec7",
   "metadata": {},
   "outputs": [],
   "source": [
    "np.unravel_index(argmin, p.shape)"
   ]
  },
  {
   "cell_type": "code",
   "execution_count": null,
   "id": "d7990f08",
   "metadata": {},
   "outputs": [],
   "source": [
    "# exercise 9\n",
    "np.random.seed(123)\n",
    "mat = np.random.randn(6, 4)\n",
    "mat"
   ]
  },
  {
   "cell_type": "code",
   "execution_count": null,
   "id": "d3f30d5e",
   "metadata": {},
   "outputs": [],
   "source": [
    "vs = np.exp(mat[:, 0])[None, :]\n",
    "vs.T"
   ]
  },
  {
   "cell_type": "code",
   "execution_count": null,
   "id": "4130e60b",
   "metadata": {},
   "outputs": [],
   "source": [
    "np.hstack([mat, vs.T])"
   ]
  },
  {
   "cell_type": "markdown",
   "id": "0c83393a",
   "metadata": {},
   "source": [
    "Logic functions\n",
    "\n",
    "- `np.unique(a)`: unique, sorted\n",
    "- `np.intersect1d(a)`: intersect, sorted\n",
    "- `np.union1d(a)`: union, sorted\n",
    "- `np.in1d(a)`: sorted, 순서 중요"
   ]
  },
  {
   "cell_type": "code",
   "execution_count": null,
   "id": "cc02cfaa",
   "metadata": {},
   "outputs": [],
   "source": [
    "sid1 = np.array(['aapl', 'msft', 'nvda', 'cpng', 'amzn', 'amzn'])\n",
    "sid2 = np.array(['msft', 'nvda', 'amzn', 'meta', 'intc', 'intc', 'intc'])"
   ]
  },
  {
   "cell_type": "code",
   "execution_count": null,
   "id": "7b02373a",
   "metadata": {},
   "outputs": [],
   "source": [
    "np.unique(sid1) "
   ]
  },
  {
   "cell_type": "code",
   "execution_count": null,
   "id": "d6b32cfc",
   "metadata": {},
   "outputs": [],
   "source": [
    "np.intersect1d(sid1, sid2)"
   ]
  },
  {
   "cell_type": "code",
   "execution_count": null,
   "id": "2a20211a",
   "metadata": {},
   "outputs": [],
   "source": [
    "np.union1d(sid1, sid2)"
   ]
  },
  {
   "cell_type": "code",
   "execution_count": null,
   "id": "35dbae3a",
   "metadata": {},
   "outputs": [],
   "source": [
    "np.in1d(sid1, sid2) # sid1 in sid2 ?"
   ]
  },
  {
   "cell_type": "code",
   "execution_count": null,
   "id": "96494c53",
   "metadata": {},
   "outputs": [],
   "source": [
    "np.in1d(sid2, sid1) # sid2 in sid1?"
   ]
  },
  {
   "cell_type": "markdown",
   "id": "a95fb236",
   "metadata": {},
   "source": [
    "선형대수 함수들\n",
    "\n",
    "- `np.transpose(a)`: `.T` 랑 같음. \n",
    "- `np.dot(a, b)`: = `@`\n",
    "- `np.diag(a)`: 대각 원소 반환"
   ]
  },
  {
   "cell_type": "code",
   "execution_count": null,
   "id": "b639cc5e",
   "metadata": {
    "lines_to_next_cell": 2
   },
   "outputs": [],
   "source": [
    "a = np.random.randn(3, 5)\n",
    "a"
   ]
  },
  {
   "cell_type": "code",
   "execution_count": null,
   "id": "e990e801",
   "metadata": {},
   "outputs": [],
   "source": [
    "np.diag(a) # 꼭 정방행렬이 아니어도 diag를 반환함. 1d로. "
   ]
  },
  {
   "cell_type": "code",
   "execution_count": null,
   "id": "2c1617bc",
   "metadata": {},
   "outputs": [],
   "source": [
    "np.trace(a) # 대각선의 합 = trace"
   ]
  },
  {
   "cell_type": "code",
   "execution_count": null,
   "id": "fc2269fa",
   "metadata": {},
   "outputs": [],
   "source": [
    "b = np.random.randn(3, 3)\n",
    "\n",
    "np.linalg.det(b) # 행렬식 determinant 반환. "
   ]
  },
  {
   "cell_type": "code",
   "execution_count": null,
   "id": "a65d17c1",
   "metadata": {},
   "outputs": [],
   "source": [
    "np.linalg.eig(b) # eigenvalue와 eigenvector 반환"
   ]
  },
  {
   "cell_type": "code",
   "execution_count": null,
   "id": "3a4d0f59",
   "metadata": {},
   "outputs": [],
   "source": []
  }
 ],
 "metadata": {
  "kernelspec": {
   "display_name": ".venv",
   "language": "python",
   "name": "python3"
  }
 },
 "nbformat": 4,
 "nbformat_minor": 5
}
