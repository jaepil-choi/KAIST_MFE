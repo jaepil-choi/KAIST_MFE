{
 "cells": [
  {
   "cell_type": "markdown",
   "metadata": {},
   "source": [
    "# BAF627 HW1\n",
    "\n",
    "20249433 최재필"
   ]
  },
  {
   "cell_type": "code",
   "execution_count": 1,
   "metadata": {},
   "outputs": [],
   "source": [
    "import numpy as np\n",
    "import pandas as pd\n",
    "\n",
    "import matplotlib.pyplot as plt\n",
    "import seaborn as sns\n",
    "\n",
    "from pathlib import Path\n",
    "\n",
    "import scipy.optimize as sco\n",
    "\n",
    "from tqdm import tqdm"
   ]
  },
  {
   "cell_type": "code",
   "execution_count": 2,
   "metadata": {},
   "outputs": [],
   "source": [
    "np.random.seed(42)"
   ]
  },
  {
   "cell_type": "code",
   "execution_count": 3,
   "metadata": {},
   "outputs": [],
   "source": [
    "CWD = Path.cwd()\n",
    "OUTPUT_PATH = CWD / 'output'"
   ]
  },
  {
   "cell_type": "markdown",
   "metadata": {},
   "source": [
    "## 0. Import Data"
   ]
  },
  {
   "cell_type": "markdown",
   "metadata": {},
   "source": [
    "### Load data & convert"
   ]
  },
  {
   "cell_type": "code",
   "execution_count": 4,
   "metadata": {},
   "outputs": [],
   "source": [
    "msf = pd.read_csv('msf.csv')\n",
    "msp500_rf = pd.read_csv('msp500_risk_free.csv')"
   ]
  },
  {
   "cell_type": "code",
   "execution_count": 5,
   "metadata": {},
   "outputs": [],
   "source": [
    "# datetime index\n",
    "msf['mdate'] = pd.to_datetime(msf['mdate'])\n",
    "msp500_rf['mdate'] = pd.to_datetime(msp500_rf['mdate'])"
   ]
  },
  {
   "cell_type": "code",
   "execution_count": 6,
   "metadata": {},
   "outputs": [],
   "source": [
    "msf_ret_df = msf[['mdate', 'ticker', 'ret']].pivot(index='mdate', columns='ticker', values='ret')\n",
    "sp500_ret_s = msp500_rf[['mdate', 'spret']].set_index('mdate')\n",
    "rf_s = msp500_rf[['mdate', 'rf']].set_index('mdate')\n",
    "\n",
    "sp500_excess_s = sp500_ret_s['spret'] - rf_s['rf']\n",
    "msf_excess_df = msf_ret_df.subtract(rf_s['rf'], axis=0)"
   ]
  },
  {
   "cell_type": "markdown",
   "metadata": {},
   "source": [
    "### Basic matrix/vectors"
   ]
  },
  {
   "cell_type": "code",
   "execution_count": 7,
   "metadata": {},
   "outputs": [],
   "source": [
    "# Pandas\n",
    "cov_df = msf_ret_df.cov()\n",
    "excess_cov_df = msf_excess_df.cov()\n",
    "mean_ret_s = msf_ret_df.mean()\n",
    "mean_excess_s = msf_excess_df.mean()\n",
    "std_s = msf_ret_df.std()\n",
    "\n",
    "# Numpy\n",
    "cov_2d = cov_df.values\n",
    "excess_cov_2d = excess_cov_df.values\n",
    "mean_ret_v = mean_ret_s.values\n",
    "mean_excess_v = mean_excess_s.values\n",
    "std_v = std_s.values\n",
    "\n",
    "sp500_ret_v = sp500_ret_s.values\n",
    "sp500_excess_v = sp500_excess_s.values\n",
    "rf_v = rf_s.values"
   ]
  },
  {
   "cell_type": "code",
   "execution_count": 8,
   "metadata": {},
   "outputs": [],
   "source": [
    "sid_list = mean_ret_s.index\n",
    "date_list = msf_ret_df.index"
   ]
  },
  {
   "cell_type": "markdown",
   "metadata": {},
   "source": [
    "### Basic scalar"
   ]
  },
  {
   "cell_type": "code",
   "execution_count": 9,
   "metadata": {},
   "outputs": [],
   "source": [
    "mean_ret = mean_ret_v.mean()\n",
    "mean_excess = mean_excess_v.mean()\n",
    "\n",
    "sp500_ret = sp500_ret_v.mean()\n",
    "sp500_std = sp500_ret_v.std()\n",
    "sp500_excess = sp500_excess_v.mean()\n",
    "sp500_excess_std = sp500_excess_v.std()\n",
    "\n",
    "rf = rf_v.mean()"
   ]
  },
  {
   "cell_type": "markdown",
   "metadata": {},
   "source": [
    "## 1. No risk-free & Short-selling allowed\n",
    "\n",
    "Case #2"
   ]
  },
  {
   "cell_type": "markdown",
   "metadata": {},
   "source": [
    "### (a)\n",
    "\n",
    "- Derive the mean-variance frontier using the standard deviation for measuring risk\n",
    "- Plot the mean-variance frontier\n",
    "- Indicate the global minimum portfolio (GMVP) on the plot"
   ]
  },
  {
   "cell_type": "code",
   "execution_count": 10,
   "metadata": {},
   "outputs": [],
   "source": [
    "def get_port_mean(W, mean_v, rf_v=None):\n",
    "    if rf_v:\n",
    "        return np.dot(W, mean_v - rf_v)\n",
    "    else:\n",
    "        return np.dot(W, mean_v)"
   ]
  },
  {
   "cell_type": "code",
   "execution_count": 11,
   "metadata": {},
   "outputs": [],
   "source": [
    "def get_port_var(W, cov_2d):\n",
    "    return np.dot(W.T, np.dot(cov_2d, W))"
   ]
  },
  {
   "cell_type": "code",
   "execution_count": 12,
   "metadata": {},
   "outputs": [],
   "source": [
    "def negative_port_sharpe(W, mean_v, cov_2d, rf_v=None):\n",
    "    port_mean = get_port_mean(W, mean_v, rf_v)\n",
    "    port_var = get_port_var(W, cov_2d)\n",
    "    port_std = np.sqrt(port_var)\n",
    "\n",
    "    if port_mean > 0:\n",
    "        return -port_mean / port_std\n",
    "    else:\n",
    "        return port_mean / port_std"
   ]
  },
  {
   "cell_type": "code",
   "execution_count": 13,
   "metadata": {},
   "outputs": [],
   "source": [
    "def optimize_portfolio(mean_v, cov_2d):\n",
    "    n = len(mean_v)\n",
    "    args = (mean_v, cov_2d)\n",
    "    constraints = [\n",
    "        {'type': 'eq', 'fun': lambda W: np.sum(W) - 1},\n",
    "        ]\n",
    "    bounds = tuple((-1, 1) for i in range(n))\n",
    "\n",
    "    result = sco.minimize(\n",
    "        negative_port_sharpe,\n",
    "        n * [1. / n,],\n",
    "        args=args,\n",
    "        method='SLSQP',\n",
    "        bounds=bounds,\n",
    "        constraints=constraints,\n",
    "    )\n",
    "\n",
    "    return result"
   ]
  },
  {
   "cell_type": "code",
   "execution_count": 14,
   "metadata": {},
   "outputs": [],
   "source": [
    "def optimize_portfolio_given_return(target_return, mean_v, cov_2d, rf_v=None):\n",
    "    n = len(mean_v)\n",
    "    args = (mean_v, cov_2d, rf_v)\n",
    "    constraints = [\n",
    "        {'type': 'eq', 'fun': lambda W: np.sum(W) - 1},\n",
    "        {'type': 'eq', 'fun': lambda W: target_return - get_port_mean(W, mean_v, rf_v)},\n",
    "        ]\n",
    "    bounds = tuple((-1, 1) for i in range(n))\n",
    "\n",
    "    result = sco.minimize(\n",
    "        negative_port_sharpe,\n",
    "        n * [1. / n,],\n",
    "        args=args,\n",
    "        method='SLSQP',\n",
    "        bounds=bounds,\n",
    "        constraints=constraints,\n",
    "    )\n",
    "\n",
    "    return result"
   ]
  },
  {
   "cell_type": "code",
   "execution_count": 15,
   "metadata": {},
   "outputs": [],
   "source": [
    "def get_efficient_frontier(mean_v, cov_2d, rf_v=None, return_minmax=[-0.1, 0.1], num_portfolios=100):\n",
    "    weights_record = []\n",
    "\n",
    "    min_return, max_return = return_minmax\n",
    "    ret_range = np.linspace(min_return, max_return, num_portfolios)\n",
    "    frontier_ports = np.zeros((3, len(ret_range))) # mean, std, sharpe\n",
    "\n",
    "    for i, target_return in enumerate(tqdm(ret_range)):\n",
    "        result = optimize_portfolio_given_return(target_return, mean_v, cov_2d, rf_v)\n",
    "        weights = result.x\n",
    "\n",
    "        port_mean = get_port_mean(weights, mean_v, rf_v)\n",
    "        port_std = np.sqrt(get_port_var(weights, cov_2d))\n",
    "\n",
    "        frontier_ports[0, i] = port_mean\n",
    "        frontier_ports[1, i] = port_std\n",
    "        frontier_ports[2, i] = port_mean / port_std\n",
    "\n",
    "        weights_record.append(weights)\n",
    "\n",
    "    return frontier_ports, weights_record"
   ]
  },
  {
   "cell_type": "code",
   "execution_count": 16,
   "metadata": {},
   "outputs": [
    {
     "name": "stderr",
     "output_type": "stream",
     "text": [
      "100%|██████████| 100/100 [00:48<00:00,  2.06it/s]\n"
     ]
    }
   ],
   "source": [
    "Q1_frontier_ports, Q1_weights_record = get_efficient_frontier(mean_ret_v, cov_2d, num_portfolios=100)"
   ]
  },
  {
   "cell_type": "code",
   "execution_count": 17,
   "metadata": {},
   "outputs": [
    {
     "data": {
      "image/png": "[encoded data removed]",
      "text/plain": [
       "<Figure size 1000x700 with 2 Axes>"
      ]
     },
     "metadata": {},
     "output_type": "display_data"
    }
   ],
   "source": [
    "# Global minimum variance portfolio\n",
    "min_vol_idx = np.argmin(Q1_frontier_ports[1])\n",
    "gmvp_ret, gmvp_std, gmvp_sharpe = Q1_frontier_ports[:, min_vol_idx]\n",
    "\n",
    "# Plot efficient frontier\n",
    "plt.figure(figsize=(10, 7))\n",
    "plt.scatter(Q1_frontier_ports[1, :], Q1_frontier_ports[0, :], c=Q1_frontier_ports[2, :], cmap='cool', marker='o')\n",
    "plt.colorbar(label='Sharpe Ratio')\n",
    "\n",
    "plt.scatter(gmvp_std, gmvp_ret, marker='*', color='g', s=100, label='GMVP')\n",
    "\n",
    "plt.title('Efficient frontier (no riskfree, short sale allowed)')\n",
    "plt.xlabel('Risk (Std. Deviation)')\n",
    "plt.ylabel('Return')\n",
    "plt.legend(labelspacing=0.8)\n",
    "\n",
    "plt.annotate(\n",
    "    f'Return: {gmvp_ret:.2%}\\nStd: {gmvp_std:.2%}\\nSharpe: {gmvp_sharpe:.2f}',\n",
    "    (gmvp_std, gmvp_ret),\n",
    "    textcoords='offset points',\n",
    "    xytext=(10, 10),\n",
    "    ha='center'\n",
    ")\n",
    "\n",
    "plt.show()"
   ]
  },
  {
   "cell_type": "markdown",
   "metadata": {},
   "source": [
    "### (b)\n",
    "\n",
    "- Derive optimal portfolio weights that matches S&P500 BM return\n",
    "- Report portfolio weights in an excel file\n",
    "- Report portfolio weights on a given set of stocks"
   ]
  },
  {
   "cell_type": "code",
   "execution_count": 18,
   "metadata": {},
   "outputs": [
    {
     "data": {
      "text/plain": [
       "0.007691879732135416"
      ]
     },
     "execution_count": 18,
     "metadata": {},
     "output_type": "execute_result"
    }
   ],
   "source": [
    "sp500_ret"
   ]
  },
  {
   "cell_type": "code",
   "execution_count": 19,
   "metadata": {},
   "outputs": [
    {
     "data": {
      "text/html": [
       "<div>\n",
       "<style scoped>\n",
       "    .dataframe tbody tr th:only-of-type {\n",
       "        vertical-align: middle;\n",
       "    }\n",
       "\n",
       "    .dataframe tbody tr th {\n",
       "        vertical-align: top;\n",
       "    }\n",
       "\n",
       "    .dataframe thead th {\n",
       "        text-align: right;\n",
       "    }\n",
       "</style>\n",
       "<table border=\"1\" class=\"dataframe\">\n",
       "  <thead>\n",
       "    <tr style=\"text-align: right;\">\n",
       "      <th></th>\n",
       "      <th>weight</th>\n",
       "    </tr>\n",
       "    <tr>\n",
       "      <th>ticker</th>\n",
       "      <th></th>\n",
       "    </tr>\n",
       "  </thead>\n",
       "  <tbody>\n",
       "    <tr>\n",
       "      <th>AAPL</th>\n",
       "      <td>-0.001531</td>\n",
       "    </tr>\n",
       "    <tr>\n",
       "      <th>ABT</th>\n",
       "      <td>0.033021</td>\n",
       "    </tr>\n",
       "    <tr>\n",
       "      <th>ADBE</th>\n",
       "      <td>-0.011211</td>\n",
       "    </tr>\n",
       "    <tr>\n",
       "      <th>ADI</th>\n",
       "      <td>-0.006286</td>\n",
       "    </tr>\n",
       "    <tr>\n",
       "      <th>ADP</th>\n",
       "      <td>-0.000268</td>\n",
       "    </tr>\n",
       "    <tr>\n",
       "      <th>...</th>\n",
       "      <td>...</td>\n",
       "    </tr>\n",
       "    <tr>\n",
       "      <th>VZ</th>\n",
       "      <td>-0.019541</td>\n",
       "    </tr>\n",
       "    <tr>\n",
       "      <th>WFC</th>\n",
       "      <td>-0.047710</td>\n",
       "    </tr>\n",
       "    <tr>\n",
       "      <th>WM</th>\n",
       "      <td>0.004380</td>\n",
       "    </tr>\n",
       "    <tr>\n",
       "      <th>WMT</th>\n",
       "      <td>0.154212</td>\n",
       "    </tr>\n",
       "    <tr>\n",
       "      <th>XOM</th>\n",
       "      <td>0.046542</td>\n",
       "    </tr>\n",
       "  </tbody>\n",
       "</table>\n",
       "<p>100 rows × 1 columns</p>\n",
       "</div>"
      ],
      "text/plain": [
       "          weight\n",
       "ticker          \n",
       "AAPL   -0.001531\n",
       "ABT     0.033021\n",
       "ADBE   -0.011211\n",
       "ADI    -0.006286\n",
       "ADP    -0.000268\n",
       "...          ...\n",
       "VZ     -0.019541\n",
       "WFC    -0.047710\n",
       "WM      0.004380\n",
       "WMT     0.154212\n",
       "XOM     0.046542\n",
       "\n",
       "[100 rows x 1 columns]"
      ]
     },
     "execution_count": 19,
     "metadata": {},
     "output_type": "execute_result"
    }
   ],
   "source": [
    "Q1_match_sp500_result = optimize_portfolio_given_return(sp500_ret, mean_ret_v, cov_2d)\n",
    "Q1_match_sp500_weights = Q1_match_sp500_result.x\n",
    "\n",
    "Q1_match_sp500_weights_df = pd.DataFrame(Q1_match_sp500_weights, index=sid_list, columns=['weight'])\n",
    "Q1_match_sp500_weights_df"
   ]
  },
  {
   "cell_type": "code",
   "execution_count": 20,
   "metadata": {},
   "outputs": [],
   "source": [
    "Q1_match_sp500_weights_df.to_csv(OUTPUT_PATH / 'hw1_1.b_match_sp500_weights.csv')"
   ]
  },
  {
   "cell_type": "code",
   "execution_count": 21,
   "metadata": {},
   "outputs": [
    {
     "data": {
      "text/html": [
       "<div>\n",
       "<style scoped>\n",
       "    .dataframe tbody tr th:only-of-type {\n",
       "        vertical-align: middle;\n",
       "    }\n",
       "\n",
       "    .dataframe tbody tr th {\n",
       "        vertical-align: top;\n",
       "    }\n",
       "\n",
       "    .dataframe thead th {\n",
       "        text-align: right;\n",
       "    }\n",
       "</style>\n",
       "<table border=\"1\" class=\"dataframe\">\n",
       "  <thead>\n",
       "    <tr style=\"text-align: right;\">\n",
       "      <th></th>\n",
       "      <th>weight</th>\n",
       "    </tr>\n",
       "    <tr>\n",
       "      <th>ticker</th>\n",
       "      <th></th>\n",
       "    </tr>\n",
       "  </thead>\n",
       "  <tbody>\n",
       "    <tr>\n",
       "      <th>MMM</th>\n",
       "      <td>0.137152</td>\n",
       "    </tr>\n",
       "    <tr>\n",
       "      <th>BAC</th>\n",
       "      <td>-0.017789</td>\n",
       "    </tr>\n",
       "    <tr>\n",
       "      <th>AMD</th>\n",
       "      <td>-0.024176</td>\n",
       "    </tr>\n",
       "    <tr>\n",
       "      <th>AAPL</th>\n",
       "      <td>-0.001531</td>\n",
       "    </tr>\n",
       "    <tr>\n",
       "      <th>MCD</th>\n",
       "      <td>-0.003986</td>\n",
       "    </tr>\n",
       "  </tbody>\n",
       "</table>\n",
       "</div>"
      ],
      "text/plain": [
       "          weight\n",
       "ticker          \n",
       "MMM     0.137152\n",
       "BAC    -0.017789\n",
       "AMD    -0.024176\n",
       "AAPL   -0.001531\n",
       "MCD    -0.003986"
      ]
     },
     "execution_count": 21,
     "metadata": {},
     "output_type": "execute_result"
    }
   ],
   "source": [
    "WATCH_LIST = ['MMM', 'BAC', 'AMD', 'AAPL', 'MCD']\n",
    "\n",
    "Q1_match_sp500_weights_df.loc[WATCH_LIST]"
   ]
  },
  {
   "cell_type": "markdown",
   "metadata": {},
   "source": [
    "### (c)\n",
    "\n",
    "- Compute the annualized excess returns, annualized volatility, and annualized Sharpe ratio of the optimal (matching) portfolio and S&P500 BM"
   ]
  },
  {
   "cell_type": "code",
   "execution_count": 22,
   "metadata": {},
   "outputs": [
    {
     "data": {
      "text/plain": [
       "(0.06700255678562506, 0.14584236192180058, 0.45941766097803083)"
      ]
     },
     "execution_count": 22,
     "metadata": {},
     "output_type": "execute_result"
    }
   ],
   "source": [
    "sp500_excess_annual = sp500_excess * 12\n",
    "sp500_excess_std_annual = sp500_excess_std * np.sqrt(12)\n",
    "sp500_sharpe = sp500_excess_annual / sp500_excess_std_annual\n",
    "\n",
    "sp500_excess_annual, sp500_excess_std_annual, sp500_sharpe"
   ]
  },
  {
   "cell_type": "code",
   "execution_count": 23,
   "metadata": {},
   "outputs": [
    {
     "data": {
      "text/plain": [
       "(0.06700255678551453, 0.08799755612671221, 0.7614138361869288)"
      ]
     },
     "execution_count": 23,
     "metadata": {},
     "output_type": "execute_result"
    }
   ],
   "source": [
    "Q1_optimal_ret_s = msf_ret_df.multiply(Q1_match_sp500_weights, axis=1).sum(axis=1)\n",
    "Q1_optimal_excess_s = Q1_optimal_ret_s - rf_s['rf']\n",
    "\n",
    "Q1_optimal_excess = Q1_optimal_excess_s.mean()\n",
    "Q1_optimal_excess_std = Q1_optimal_excess_s.std()\n",
    "\n",
    "Q1_optimal_excess_annual = Q1_optimal_excess * 12\n",
    "Q1_optimal_excess_std_annual = Q1_optimal_excess_std * np.sqrt(12)\n",
    "Q1_optimal_sharpe = Q1_optimal_excess_annual / Q1_optimal_excess_std_annual\n",
    "\n",
    "Q1_optimal_excess_annual, Q1_optimal_excess_std_annual, Q1_optimal_sharpe"
   ]
  },
  {
   "cell_type": "markdown",
   "metadata": {},
   "source": [
    "### (d)\n",
    "\n",
    "- Plot the cumulative return of optimal and S&P500\n",
    "- Discuss the difference in the performance of the two"
   ]
  },
  {
   "cell_type": "code",
   "execution_count": 24,
   "metadata": {},
   "outputs": [],
   "source": [
    "def get_cumreturn(ret_s):\n",
    "    return (1 + ret_s).cumprod() - 1"
   ]
  },
  {
   "cell_type": "code",
   "execution_count": 25,
   "metadata": {},
   "outputs": [],
   "source": [
    "sp500_cumret_s = get_cumreturn(sp500_ret_s)\n",
    "optimal_cumret_s = get_cumreturn(Q1_optimal_ret_s)"
   ]
  },
  {
   "cell_type": "code",
   "execution_count": 26,
   "metadata": {},
   "outputs": [
    {
     "data": {
      "image/png": "[encoded data removed]",
      "text/plain": [
       "<Figure size 640x480 with 1 Axes>"
      ]
     },
     "metadata": {},
     "output_type": "display_data"
    }
   ],
   "source": [
    "# Plot S&P 500 cumulative return\n",
    "plt.plot(sp500_cumret_s, label='S&P 500 BM')\n",
    "\n",
    "# Plot optimal matching portfolio cumulative return\n",
    "plt.plot(optimal_cumret_s, label='Optimal Matching Port')\n",
    "\n",
    "# Add title and labels\n",
    "plt.title('Q1. (no risk-free, short sale allowed)')\n",
    "plt.xlabel('Date')\n",
    "plt.ylabel('Cumulative Return')\n",
    "\n",
    "# Add legend\n",
    "plt.legend()\n",
    "\n",
    "# Show plot\n",
    "plt.show()"
   ]
  },
  {
   "cell_type": "markdown",
   "metadata": {},
   "source": [
    "## 2. There is risk-free & Short-selling allowed\n",
    "\n",
    "Case #1"
   ]
  },
  {
   "cell_type": "markdown",
   "metadata": {},
   "source": [
    "### (a)\n",
    "\n",
    "- Derive the MV frontier\n",
    "- Report the slop of the MV frontier\n",
    "- Plot the MV frontier together with the MV frontier in Q1"
   ]
  },
  {
   "cell_type": "code",
   "execution_count": 27,
   "metadata": {},
   "outputs": [],
   "source": [
    "Q2_tangent_point = (None, None) # std, ret\n",
    "tangent_point_index = None\n",
    "Q2_tangent_weight = None\n",
    "\n",
    "current_maximum_sharpe = -np.inf\n",
    "for i in range(Q1_frontier_ports.shape[1]): # From lowest to the highest return\n",
    "    ret = Q1_frontier_ports[0, i]\n",
    "    std = Q1_frontier_ports[1, i]\n",
    "    \n",
    "    current_sharpe = (ret - rf) / std\n",
    "    if current_sharpe > current_maximum_sharpe:\n",
    "        current_maximum_sharpe = current_sharpe\n",
    "        Q2_tangent_point = (std, ret)\n",
    "        Q2_tangent_weight = Q1_weights_record[i]\n",
    "    \n",
    "    if current_sharpe < current_maximum_sharpe:\n",
    "        break"
   ]
  },
  {
   "cell_type": "code",
   "execution_count": 28,
   "metadata": {},
   "outputs": [
    {
     "data": {
      "text/plain": [
       "0.6226493118422776"
      ]
     },
     "execution_count": 28,
     "metadata": {},
     "output_type": "execute_result"
    }
   ],
   "source": [
    "Q2_tangent_sharpe = current_maximum_sharpe\n",
    "Q2_tangent_sharpe # Slope"
   ]
  },
  {
   "cell_type": "code",
   "execution_count": 29,
   "metadata": {},
   "outputs": [
    {
     "data": {
      "image/png": "[encoded data removed]",
      "text/plain": [
       "<Figure size 1000x700 with 2 Axes>"
      ]
     },
     "metadata": {},
     "output_type": "display_data"
    }
   ],
   "source": [
    "# Plot efficient frontier\n",
    "plt.figure(figsize=(10, 7))\n",
    "plt.scatter(Q1_frontier_ports[1, :], Q1_frontier_ports[0, :], c=Q1_frontier_ports[2, :], cmap='cool', marker='o')\n",
    "plt.colorbar(label='Sharpe Ratio')\n",
    "\n",
    "# Plot risk-free point\n",
    "plt.scatter(0, rf, marker='o', color='r', s=200, label='risk-free')\n",
    "\n",
    "# Plot tangent point\n",
    "plt.scatter(*Q2_tangent_point, marker='*', color='g', s=100, label='Tangent')\n",
    "\n",
    "# Draw the Capital Market Line (CML)\n",
    "plt.axline(\n",
    "    (0, rf), \n",
    "    slope=(Q2_tangent_point[1] - rf) / Q2_tangent_point[0], \n",
    "    color='black', \n",
    "    linestyle='--', \n",
    "    linewidth=1.5,\n",
    ")\n",
    "\n",
    "# Add title and labels\n",
    "plt.title('Efficient frontier (There is risk-free, short sale allowed)')\n",
    "plt.xlabel('Risk (Std. Deviation)')\n",
    "plt.ylabel('Return')\n",
    "plt.legend(labelspacing=0.8)\n",
    "plt.xlim(left=0)\n",
    "\n",
    "# Annotate risk-free point\n",
    "plt.annotate(\n",
    "    f'Return: {rf:.2%}',\n",
    "    (0, rf),\n",
    "    textcoords='offset points',\n",
    "    xytext=(10, -20),  # Adjust position to avoid overlap\n",
    "    ha='center'\n",
    ")\n",
    "\n",
    "# Annotate tangent point\n",
    "plt.annotate(\n",
    "    f'Return: {Q2_tangent_point[1]:.2%}\\nStd: {Q2_tangent_point[0]:.2%}',\n",
    "    Q2_tangent_point,\n",
    "    textcoords='offset points',\n",
    "    xytext=(10, 10),  # Adjust position to avoid overlap\n",
    "    ha='center'\n",
    ")\n",
    "\n",
    "# Show plot\n",
    "plt.show()\n"
   ]
  },
  {
   "cell_type": "markdown",
   "metadata": {},
   "source": [
    "### (b)\n",
    "\n",
    "- Derive optimal portfolio weights that matches S&P500 BM return\n",
    "- Report portfolio weights in an excel file\n",
    "- Report portfolio weights on a given set of stocks\n",
    "- Report the weight of a risk-free asset"
   ]
  },
  {
   "cell_type": "code",
   "execution_count": 30,
   "metadata": {},
   "outputs": [
    {
     "data": {
      "text/plain": [
       "(0.037170509111211766, 0.025252525252256443)"
      ]
     },
     "execution_count": 30,
     "metadata": {},
     "output_type": "execute_result"
    }
   ],
   "source": [
    "Q2_tangent_std, Q2_tangent_ret = Q2_tangent_point # 순서 조심. \n",
    "Q2_tangent_std, Q2_tangent_ret"
   ]
  },
  {
   "cell_type": "code",
   "execution_count": 31,
   "metadata": {},
   "outputs": [
    {
     "data": {
      "text/plain": [
       "0.45941766097803083"
      ]
     },
     "execution_count": 31,
     "metadata": {},
     "output_type": "execute_result"
    }
   ],
   "source": [
    "sp500_sharpe"
   ]
  },
  {
   "cell_type": "code",
   "execution_count": 32,
   "metadata": {},
   "outputs": [
    {
     "data": {
      "text/plain": [
       "0.008967401541457814"
      ]
     },
     "execution_count": 32,
     "metadata": {},
     "output_type": "execute_result"
    }
   ],
   "source": [
    "Q2_match_sp500_std = (sp500_ret - rf) / Q2_tangent_sharpe\n",
    "Q2_match_sp500_std"
   ]
  },
  {
   "cell_type": "code",
   "execution_count": 33,
   "metadata": {},
   "outputs": [
    {
     "data": {
      "text/plain": [
       "(0.2412504363238052, 0.7587495636761948)"
      ]
     },
     "execution_count": 33,
     "metadata": {},
     "output_type": "execute_result"
    }
   ],
   "source": [
    "Q2_risky_weight = (sp500_ret - rf) / (Q2_tangent_ret - rf)\n",
    "Q2_riskfree_weight = 1 - Q2_risky_weight\n",
    "\n",
    "Q2_risky_weight, Q2_riskfree_weight"
   ]
  },
  {
   "cell_type": "code",
   "execution_count": 34,
   "metadata": {},
   "outputs": [
    {
     "data": {
      "text/html": [
       "<div>\n",
       "<style scoped>\n",
       "    .dataframe tbody tr th:only-of-type {\n",
       "        vertical-align: middle;\n",
       "    }\n",
       "\n",
       "    .dataframe tbody tr th {\n",
       "        vertical-align: top;\n",
       "    }\n",
       "\n",
       "    .dataframe thead th {\n",
       "        text-align: right;\n",
       "    }\n",
       "</style>\n",
       "<table border=\"1\" class=\"dataframe\">\n",
       "  <thead>\n",
       "    <tr style=\"text-align: right;\">\n",
       "      <th></th>\n",
       "      <th>weight</th>\n",
       "    </tr>\n",
       "    <tr>\n",
       "      <th>ticker</th>\n",
       "      <th></th>\n",
       "    </tr>\n",
       "  </thead>\n",
       "  <tbody>\n",
       "    <tr>\n",
       "      <th>AAPL</th>\n",
       "      <td>0.010901</td>\n",
       "    </tr>\n",
       "    <tr>\n",
       "      <th>ABT</th>\n",
       "      <td>0.010874</td>\n",
       "    </tr>\n",
       "    <tr>\n",
       "      <th>ADBE</th>\n",
       "      <td>-0.002649</td>\n",
       "    </tr>\n",
       "    <tr>\n",
       "      <th>ADI</th>\n",
       "      <td>0.000142</td>\n",
       "    </tr>\n",
       "    <tr>\n",
       "      <th>ADP</th>\n",
       "      <td>-0.000255</td>\n",
       "    </tr>\n",
       "    <tr>\n",
       "      <th>...</th>\n",
       "      <td>...</td>\n",
       "    </tr>\n",
       "    <tr>\n",
       "      <th>VZ</th>\n",
       "      <td>-0.016808</td>\n",
       "    </tr>\n",
       "    <tr>\n",
       "      <th>WFC</th>\n",
       "      <td>0.018280</td>\n",
       "    </tr>\n",
       "    <tr>\n",
       "      <th>WM</th>\n",
       "      <td>0.007953</td>\n",
       "    </tr>\n",
       "    <tr>\n",
       "      <th>WMT</th>\n",
       "      <td>0.001653</td>\n",
       "    </tr>\n",
       "    <tr>\n",
       "      <th>XOM</th>\n",
       "      <td>0.002180</td>\n",
       "    </tr>\n",
       "  </tbody>\n",
       "</table>\n",
       "<p>100 rows × 1 columns</p>\n",
       "</div>"
      ],
      "text/plain": [
       "          weight\n",
       "ticker          \n",
       "AAPL    0.010901\n",
       "ABT     0.010874\n",
       "ADBE   -0.002649\n",
       "ADI     0.000142\n",
       "ADP    -0.000255\n",
       "...          ...\n",
       "VZ     -0.016808\n",
       "WFC     0.018280\n",
       "WM      0.007953\n",
       "WMT     0.001653\n",
       "XOM     0.002180\n",
       "\n",
       "[100 rows x 1 columns]"
      ]
     },
     "execution_count": 34,
     "metadata": {},
     "output_type": "execute_result"
    }
   ],
   "source": [
    "Q2_port_weights = Q2_risky_weight * Q2_tangent_weight\n",
    "\n",
    "Q2_port_weights_df = pd.DataFrame(Q2_port_weights, index=sid_list, columns=['weight'])\n",
    "Q2_port_weights_df"
   ]
  },
  {
   "cell_type": "code",
   "execution_count": 35,
   "metadata": {},
   "outputs": [],
   "source": [
    "Q2_port_weights_df.to_csv(OUTPUT_PATH / 'hw1_2.b_port_weights.csv')"
   ]
  },
  {
   "cell_type": "code",
   "execution_count": 36,
   "metadata": {},
   "outputs": [
    {
     "data": {
      "text/html": [
       "<div>\n",
       "<style scoped>\n",
       "    .dataframe tbody tr th:only-of-type {\n",
       "        vertical-align: middle;\n",
       "    }\n",
       "\n",
       "    .dataframe tbody tr th {\n",
       "        vertical-align: top;\n",
       "    }\n",
       "\n",
       "    .dataframe thead th {\n",
       "        text-align: right;\n",
       "    }\n",
       "</style>\n",
       "<table border=\"1\" class=\"dataframe\">\n",
       "  <thead>\n",
       "    <tr style=\"text-align: right;\">\n",
       "      <th></th>\n",
       "      <th>weight</th>\n",
       "    </tr>\n",
       "    <tr>\n",
       "      <th>ticker</th>\n",
       "      <th></th>\n",
       "    </tr>\n",
       "  </thead>\n",
       "  <tbody>\n",
       "    <tr>\n",
       "      <th>MMM</th>\n",
       "      <td>0.023872</td>\n",
       "    </tr>\n",
       "    <tr>\n",
       "      <th>BAC</th>\n",
       "      <td>-0.008930</td>\n",
       "    </tr>\n",
       "    <tr>\n",
       "      <th>AMD</th>\n",
       "      <td>-0.002258</td>\n",
       "    </tr>\n",
       "    <tr>\n",
       "      <th>AAPL</th>\n",
       "      <td>0.010901</td>\n",
       "    </tr>\n",
       "    <tr>\n",
       "      <th>MCD</th>\n",
       "      <td>0.011199</td>\n",
       "    </tr>\n",
       "  </tbody>\n",
       "</table>\n",
       "</div>"
      ],
      "text/plain": [
       "          weight\n",
       "ticker          \n",
       "MMM     0.023872\n",
       "BAC    -0.008930\n",
       "AMD    -0.002258\n",
       "AAPL    0.010901\n",
       "MCD     0.011199"
      ]
     },
     "execution_count": 36,
     "metadata": {},
     "output_type": "execute_result"
    }
   ],
   "source": [
    "Q2_port_weights_df.loc[WATCH_LIST]"
   ]
  },
  {
   "cell_type": "markdown",
   "metadata": {},
   "source": [
    "### (c)\n",
    "\n",
    "- Compute the annualized excess returns, annualized volatility, and annualized Sharpe ratio of the optimal (matching) portfolio and S&P500 BM\n",
    "- Compare the result from Q1"
   ]
  },
  {
   "cell_type": "code",
   "execution_count": 42,
   "metadata": {},
   "outputs": [],
   "source": [
    "Q2_optimal_ret_s = msf_ret_df.multiply(Q2_port_weights, axis=1).sum(axis=1)\n",
    "Q2_optimal_ret = Q2_optimal_ret_s.mean()\n",
    "\n",
    "Q2_riskfree_s = rf_s['rf'] * Q2_riskfree_weight\n",
    "\n",
    "Q2_total_ret_s = Q2_optimal_ret_s + Q2_riskfree_s\n",
    "Q2_total_excess_s = Q2_total_ret_s - rf_s['rf']\n",
    "\n",
    "Q2_total_excess_std = Q2_total_excess_s.std()\n",
    "Q2_total_excess_mean = Q2_total_excess_s.mean()"
   ]
  },
  {
   "cell_type": "code",
   "execution_count": 43,
   "metadata": {},
   "outputs": [
    {
     "data": {
      "text/plain": [
       "(0.067002556785625, 0.031039753544505024, 2.1586046644847308)"
      ]
     },
     "execution_count": 43,
     "metadata": {},
     "output_type": "execute_result"
    }
   ],
   "source": [
    "Q2_total_excess_mean_annual = Q2_total_excess_mean * 12\n",
    "Q2_total_excess_std_annual = Q2_total_excess_std * np.sqrt(12)\n",
    "Q2_total_sharpe = Q2_total_excess_mean_annual / Q2_total_excess_std_annual\n",
    "\n",
    "Q2_total_excess_mean_annual, Q2_total_excess_std_annual, Q2_total_sharpe"
   ]
  },
  {
   "cell_type": "code",
   "execution_count": 44,
   "metadata": {},
   "outputs": [
    {
     "data": {
      "text/plain": [
       "(0.06700255678551453, 0.08799755612671221, 0.7614138361869288)"
      ]
     },
     "execution_count": 44,
     "metadata": {},
     "output_type": "execute_result"
    }
   ],
   "source": [
    "# Results from Q1\n",
    "Q1_optimal_excess_annual, Q1_optimal_excess_std_annual, Q1_optimal_sharpe"
   ]
  },
  {
   "cell_type": "code",
   "execution_count": 45,
   "metadata": {},
   "outputs": [
    {
     "data": {
      "text/plain": [
       "(0.06700255678562506, 0.14584236192180058, 0.45941766097803083)"
      ]
     },
     "execution_count": 45,
     "metadata": {},
     "output_type": "execute_result"
    }
   ],
   "source": [
    "# S&P 500 Benchmark\n",
    "sp500_excess_annual, sp500_excess_std_annual, sp500_sharpe"
   ]
  },
  {
   "cell_type": "markdown",
   "metadata": {},
   "source": [
    "### (d)\n",
    "\n",
    "- Plot the cumulative return of optimal and S&P500 (with previous results)\n",
    "- Discuss the difference in the performance of the three portfolios"
   ]
  },
  {
   "cell_type": "code",
   "execution_count": null,
   "metadata": {},
   "outputs": [],
   "source": []
  }
 ],
 "metadata": {
  "kernelspec": {
   "display_name": ".venv",
   "language": "python",
   "name": "python3"
  },
  "language_info": {
   "codemirror_mode": {
    "name": "ipython",
    "version": 3
   },
   "file_extension": ".py",
   "mimetype": "text/x-python",
   "name": "python",
   "nbconvert_exporter": "python",
   "pygments_lexer": "ipython3",
   "version": "3.10.11"
  }
 },
 "nbformat": 4,
 "nbformat_minor": 2
}
