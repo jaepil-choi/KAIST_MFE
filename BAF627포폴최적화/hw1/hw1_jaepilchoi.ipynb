{
 "cells": [
  {
   "cell_type": "markdown",
   "metadata": {},
   "source": [
    "# BAF627 HW1 \n",
    "\n",
    "20249433 MFE 최재필\n"
   ]
  },
  {
   "cell_type": "code",
   "execution_count": 110,
   "metadata": {},
   "outputs": [],
   "source": [
    "import numpy as np\n",
    "import pandas as pd\n",
    "\n",
    "import matplotlib.pyplot as plt\n",
    "import seaborn as sns\n",
    "\n",
    "from pathlib import Path\n",
    "\n",
    "import scipy.optimize as sco\n",
    "\n",
    "from tqdm import tqdm"
   ]
  },
  {
   "cell_type": "code",
   "execution_count": 111,
   "metadata": {},
   "outputs": [],
   "source": [
    "np.random.seed(42)"
   ]
  },
  {
   "cell_type": "code",
   "execution_count": 112,
   "metadata": {},
   "outputs": [],
   "source": [
    "CWD = Path.cwd()\n",
    "OUTPUT_PATH = CWD / 'output'"
   ]
  },
  {
   "cell_type": "markdown",
   "metadata": {},
   "source": [
    "## 0. Import Data"
   ]
  },
  {
   "cell_type": "code",
   "execution_count": 113,
   "metadata": {},
   "outputs": [],
   "source": [
    "msf = pd.read_csv('msf.csv')\n",
    "msp500_rf = pd.read_csv('msp500_risk_free.csv')"
   ]
  },
  {
   "cell_type": "code",
   "execution_count": 114,
   "metadata": {},
   "outputs": [],
   "source": [
    "msf['mdate'] = pd.to_datetime(msf['mdate'])"
   ]
  },
  {
   "cell_type": "code",
   "execution_count": 115,
   "metadata": {},
   "outputs": [],
   "source": [
    "msp500_rf['mdate'] = pd.to_datetime(msp500_rf['mdate'])"
   ]
  },
  {
   "cell_type": "code",
   "execution_count": 116,
   "metadata": {},
   "outputs": [
    {
     "data": {
      "text/html": [
       "<div>\n",
       "<style scoped>\n",
       "    .dataframe tbody tr th:only-of-type {\n",
       "        vertical-align: middle;\n",
       "    }\n",
       "\n",
       "    .dataframe tbody tr th {\n",
       "        vertical-align: top;\n",
       "    }\n",
       "\n",
       "    .dataframe thead th {\n",
       "        text-align: right;\n",
       "    }\n",
       "</style>\n",
       "<table border=\"1\" class=\"dataframe\">\n",
       "  <thead>\n",
       "    <tr style=\"text-align: right;\">\n",
       "      <th>ticker</th>\n",
       "      <th>AAPL</th>\n",
       "      <th>ABT</th>\n",
       "      <th>ADBE</th>\n",
       "      <th>ADI</th>\n",
       "      <th>ADP</th>\n",
       "      <th>ADSK</th>\n",
       "      <th>AIG</th>\n",
       "      <th>AMAT</th>\n",
       "      <th>AMD</th>\n",
       "      <th>AMGN</th>\n",
       "      <th>...</th>\n",
       "      <th>TMO</th>\n",
       "      <th>TXN</th>\n",
       "      <th>UNH</th>\n",
       "      <th>UNP</th>\n",
       "      <th>USB</th>\n",
       "      <th>VZ</th>\n",
       "      <th>WFC</th>\n",
       "      <th>WM</th>\n",
       "      <th>WMT</th>\n",
       "      <th>XOM</th>\n",
       "    </tr>\n",
       "    <tr>\n",
       "      <th>mdate</th>\n",
       "      <th></th>\n",
       "      <th></th>\n",
       "      <th></th>\n",
       "      <th></th>\n",
       "      <th></th>\n",
       "      <th></th>\n",
       "      <th></th>\n",
       "      <th></th>\n",
       "      <th></th>\n",
       "      <th></th>\n",
       "      <th></th>\n",
       "      <th></th>\n",
       "      <th></th>\n",
       "      <th></th>\n",
       "      <th></th>\n",
       "      <th></th>\n",
       "      <th></th>\n",
       "      <th></th>\n",
       "      <th></th>\n",
       "      <th></th>\n",
       "      <th></th>\n",
       "    </tr>\n",
       "  </thead>\n",
       "  <tbody>\n",
       "    <tr>\n",
       "      <th>2021-08-31</th>\n",
       "      <td>0.042438</td>\n",
       "      <td>0.044553</td>\n",
       "      <td>0.067677</td>\n",
       "      <td>-0.022578</td>\n",
       "      <td>-0.002815</td>\n",
       "      <td>-0.034379</td>\n",
       "      <td>0.152270</td>\n",
       "      <td>-0.032588</td>\n",
       "      <td>0.042659</td>\n",
       "      <td>-0.058996</td>\n",
       "      <td>...</td>\n",
       "      <td>0.027666</td>\n",
       "      <td>0.001521</td>\n",
       "      <td>0.009825</td>\n",
       "      <td>-0.003886</td>\n",
       "      <td>0.033309</td>\n",
       "      <td>-0.013983</td>\n",
       "      <td>-0.000871</td>\n",
       "      <td>0.046203</td>\n",
       "      <td>0.042792</td>\n",
       "      <td>-0.037867</td>\n",
       "    </tr>\n",
       "    <tr>\n",
       "      <th>2021-09-30</th>\n",
       "      <td>-0.068037</td>\n",
       "      <td>-0.065205</td>\n",
       "      <td>-0.132560</td>\n",
       "      <td>0.027800</td>\n",
       "      <td>-0.039179</td>\n",
       "      <td>-0.080364</td>\n",
       "      <td>0.011913</td>\n",
       "      <td>-0.047362</td>\n",
       "      <td>-0.070629</td>\n",
       "      <td>-0.057110</td>\n",
       "      <td>...</td>\n",
       "      <td>0.029985</td>\n",
       "      <td>0.006810</td>\n",
       "      <td>-0.057847</td>\n",
       "      <td>-0.096062</td>\n",
       "      <td>0.043736</td>\n",
       "      <td>-0.018000</td>\n",
       "      <td>0.015536</td>\n",
       "      <td>-0.033363</td>\n",
       "      <td>-0.058879</td>\n",
       "      <td>0.078870</td>\n",
       "    </tr>\n",
       "    <tr>\n",
       "      <th>2021-10-31</th>\n",
       "      <td>0.058657</td>\n",
       "      <td>0.094895</td>\n",
       "      <td>0.129646</td>\n",
       "      <td>0.035885</td>\n",
       "      <td>0.122899</td>\n",
       "      <td>0.113757</td>\n",
       "      <td>0.076517</td>\n",
       "      <td>0.061524</td>\n",
       "      <td>0.168416</td>\n",
       "      <td>-0.026711</td>\n",
       "      <td>...</td>\n",
       "      <td>0.108064</td>\n",
       "      <td>-0.018626</td>\n",
       "      <td>0.178456</td>\n",
       "      <td>0.231570</td>\n",
       "      <td>0.015646</td>\n",
       "      <td>-0.007036</td>\n",
       "      <td>0.102349</td>\n",
       "      <td>0.072777</td>\n",
       "      <td>0.072033</td>\n",
       "      <td>0.096056</td>\n",
       "    </tr>\n",
       "    <tr>\n",
       "      <th>2021-11-30</th>\n",
       "      <td>0.104940</td>\n",
       "      <td>-0.024207</td>\n",
       "      <td>0.029968</td>\n",
       "      <td>0.038965</td>\n",
       "      <td>0.028509</td>\n",
       "      <td>-0.199679</td>\n",
       "      <td>-0.109832</td>\n",
       "      <td>0.078888</td>\n",
       "      <td>0.317225</td>\n",
       "      <td>-0.030584</td>\n",
       "      <td>...</td>\n",
       "      <td>-0.000379</td>\n",
       "      <td>0.026083</td>\n",
       "      <td>-0.035290</td>\n",
       "      <td>-0.023861</td>\n",
       "      <td>-0.083320</td>\n",
       "      <td>-0.051330</td>\n",
       "      <td>-0.062158</td>\n",
       "      <td>0.002746</td>\n",
       "      <td>-0.058827</td>\n",
       "      <td>-0.058167</td>\n",
       "    </tr>\n",
       "    <tr>\n",
       "      <th>2021-12-31</th>\n",
       "      <td>0.074229</td>\n",
       "      <td>0.119027</td>\n",
       "      <td>-0.153452</td>\n",
       "      <td>-0.021026</td>\n",
       "      <td>0.072459</td>\n",
       "      <td>0.106220</td>\n",
       "      <td>0.087072</td>\n",
       "      <td>0.069094</td>\n",
       "      <td>-0.091368</td>\n",
       "      <td>0.131185</td>\n",
       "      <td>...</td>\n",
       "      <td>0.054786</td>\n",
       "      <td>-0.020273</td>\n",
       "      <td>0.133650</td>\n",
       "      <td>0.074138</td>\n",
       "      <td>0.023310</td>\n",
       "      <td>0.033618</td>\n",
       "      <td>0.004186</td>\n",
       "      <td>0.042354</td>\n",
       "      <td>0.032781</td>\n",
       "      <td>0.022560</td>\n",
       "    </tr>\n",
       "  </tbody>\n",
       "</table>\n",
       "<p>5 rows × 100 columns</p>\n",
       "</div>"
      ],
      "text/plain": [
       "ticker          AAPL       ABT      ADBE       ADI       ADP      ADSK  \\\n",
       "mdate                                                                    \n",
       "2021-08-31  0.042438  0.044553  0.067677 -0.022578 -0.002815 -0.034379   \n",
       "2021-09-30 -0.068037 -0.065205 -0.132560  0.027800 -0.039179 -0.080364   \n",
       "2021-10-31  0.058657  0.094895  0.129646  0.035885  0.122899  0.113757   \n",
       "2021-11-30  0.104940 -0.024207  0.029968  0.038965  0.028509 -0.199679   \n",
       "2021-12-31  0.074229  0.119027 -0.153452 -0.021026  0.072459  0.106220   \n",
       "\n",
       "ticker           AIG      AMAT       AMD      AMGN  ...       TMO       TXN  \\\n",
       "mdate                                               ...                       \n",
       "2021-08-31  0.152270 -0.032588  0.042659 -0.058996  ...  0.027666  0.001521   \n",
       "2021-09-30  0.011913 -0.047362 -0.070629 -0.057110  ...  0.029985  0.006810   \n",
       "2021-10-31  0.076517  0.061524  0.168416 -0.026711  ...  0.108064 -0.018626   \n",
       "2021-11-30 -0.109832  0.078888  0.317225 -0.030584  ... -0.000379  0.026083   \n",
       "2021-12-31  0.087072  0.069094 -0.091368  0.131185  ...  0.054786 -0.020273   \n",
       "\n",
       "ticker           UNH       UNP       USB        VZ       WFC        WM  \\\n",
       "mdate                                                                    \n",
       "2021-08-31  0.009825 -0.003886  0.033309 -0.013983 -0.000871  0.046203   \n",
       "2021-09-30 -0.057847 -0.096062  0.043736 -0.018000  0.015536 -0.033363   \n",
       "2021-10-31  0.178456  0.231570  0.015646 -0.007036  0.102349  0.072777   \n",
       "2021-11-30 -0.035290 -0.023861 -0.083320 -0.051330 -0.062158  0.002746   \n",
       "2021-12-31  0.133650  0.074138  0.023310  0.033618  0.004186  0.042354   \n",
       "\n",
       "ticker           WMT       XOM  \n",
       "mdate                           \n",
       "2021-08-31  0.042792 -0.037867  \n",
       "2021-09-30 -0.058879  0.078870  \n",
       "2021-10-31  0.072033  0.096056  \n",
       "2021-11-30 -0.058827 -0.058167  \n",
       "2021-12-31  0.032781  0.022560  \n",
       "\n",
       "[5 rows x 100 columns]"
      ]
     },
     "execution_count": 116,
     "metadata": {},
     "output_type": "execute_result"
    }
   ],
   "source": [
    "msf_ret = msf[['mdate', 'ticker', 'ret']].pivot(index='mdate', columns='ticker', values='ret')\n",
    "msf_ret.tail()"
   ]
  },
  {
   "cell_type": "code",
   "execution_count": 117,
   "metadata": {},
   "outputs": [
    {
     "data": {
      "text/html": [
       "<div>\n",
       "<style scoped>\n",
       "    .dataframe tbody tr th:only-of-type {\n",
       "        vertical-align: middle;\n",
       "    }\n",
       "\n",
       "    .dataframe tbody tr th {\n",
       "        vertical-align: top;\n",
       "    }\n",
       "\n",
       "    .dataframe thead th {\n",
       "        text-align: right;\n",
       "    }\n",
       "</style>\n",
       "<table border=\"1\" class=\"dataframe\">\n",
       "  <thead>\n",
       "    <tr style=\"text-align: right;\">\n",
       "      <th></th>\n",
       "      <th>mdate</th>\n",
       "      <th>spret</th>\n",
       "      <th>spindx</th>\n",
       "      <th>rf</th>\n",
       "    </tr>\n",
       "  </thead>\n",
       "  <tbody>\n",
       "    <tr>\n",
       "      <th>0</th>\n",
       "      <td>1990-01-31</td>\n",
       "      <td>-0.068817</td>\n",
       "      <td>329.08</td>\n",
       "      <td>0.0057</td>\n",
       "    </tr>\n",
       "    <tr>\n",
       "      <th>1</th>\n",
       "      <td>1990-02-28</td>\n",
       "      <td>0.008539</td>\n",
       "      <td>331.89</td>\n",
       "      <td>0.0057</td>\n",
       "    </tr>\n",
       "    <tr>\n",
       "      <th>2</th>\n",
       "      <td>1990-03-31</td>\n",
       "      <td>0.024255</td>\n",
       "      <td>339.94</td>\n",
       "      <td>0.0064</td>\n",
       "    </tr>\n",
       "    <tr>\n",
       "      <th>3</th>\n",
       "      <td>1990-04-30</td>\n",
       "      <td>-0.026887</td>\n",
       "      <td>330.80</td>\n",
       "      <td>0.0069</td>\n",
       "    </tr>\n",
       "    <tr>\n",
       "      <th>4</th>\n",
       "      <td>1990-05-31</td>\n",
       "      <td>0.091989</td>\n",
       "      <td>361.23</td>\n",
       "      <td>0.0068</td>\n",
       "    </tr>\n",
       "    <tr>\n",
       "      <th>...</th>\n",
       "      <td>...</td>\n",
       "      <td>...</td>\n",
       "      <td>...</td>\n",
       "      <td>...</td>\n",
       "    </tr>\n",
       "    <tr>\n",
       "      <th>379</th>\n",
       "      <td>2021-08-31</td>\n",
       "      <td>0.028990</td>\n",
       "      <td>4522.68</td>\n",
       "      <td>0.0000</td>\n",
       "    </tr>\n",
       "    <tr>\n",
       "      <th>380</th>\n",
       "      <td>2021-09-30</td>\n",
       "      <td>-0.047569</td>\n",
       "      <td>4307.54</td>\n",
       "      <td>0.0000</td>\n",
       "    </tr>\n",
       "    <tr>\n",
       "      <th>381</th>\n",
       "      <td>2021-10-31</td>\n",
       "      <td>0.069144</td>\n",
       "      <td>4605.38</td>\n",
       "      <td>0.0000</td>\n",
       "    </tr>\n",
       "    <tr>\n",
       "      <th>382</th>\n",
       "      <td>2021-11-30</td>\n",
       "      <td>-0.008334</td>\n",
       "      <td>4567.00</td>\n",
       "      <td>0.0000</td>\n",
       "    </tr>\n",
       "    <tr>\n",
       "      <th>383</th>\n",
       "      <td>2021-12-31</td>\n",
       "      <td>0.043613</td>\n",
       "      <td>4766.18</td>\n",
       "      <td>0.0001</td>\n",
       "    </tr>\n",
       "  </tbody>\n",
       "</table>\n",
       "<p>384 rows × 4 columns</p>\n",
       "</div>"
      ],
      "text/plain": [
       "         mdate     spret   spindx      rf\n",
       "0   1990-01-31 -0.068817   329.08  0.0057\n",
       "1   1990-02-28  0.008539   331.89  0.0057\n",
       "2   1990-03-31  0.024255   339.94  0.0064\n",
       "3   1990-04-30 -0.026887   330.80  0.0069\n",
       "4   1990-05-31  0.091989   361.23  0.0068\n",
       "..         ...       ...      ...     ...\n",
       "379 2021-08-31  0.028990  4522.68  0.0000\n",
       "380 2021-09-30 -0.047569  4307.54  0.0000\n",
       "381 2021-10-31  0.069144  4605.38  0.0000\n",
       "382 2021-11-30 -0.008334  4567.00  0.0000\n",
       "383 2021-12-31  0.043613  4766.18  0.0001\n",
       "\n",
       "[384 rows x 4 columns]"
      ]
     },
     "execution_count": 117,
     "metadata": {},
     "output_type": "execute_result"
    }
   ],
   "source": [
    "msp500_rf"
   ]
  },
  {
   "cell_type": "code",
   "execution_count": 118,
   "metadata": {},
   "outputs": [],
   "source": [
    "sp500_ret = msp500_rf[['mdate', 'spret']].set_index('mdate')"
   ]
  },
  {
   "cell_type": "code",
   "execution_count": 119,
   "metadata": {},
   "outputs": [],
   "source": [
    "rf_s = msp500_rf[['mdate', 'rf']].set_index('mdate')"
   ]
  },
  {
   "cell_type": "code",
   "execution_count": 120,
   "metadata": {},
   "outputs": [],
   "source": [
    "sp500_excess_ret = sp500_ret['spret'] - rf_s['rf']\n",
    "msf_excess_ret = msf_ret.subtract(rf_s['rf'], axis=0)"
   ]
  },
  {
   "cell_type": "markdown",
   "metadata": {},
   "source": [
    "## 1. No risk-free asset & Short-selling is allowed\n",
    "\n",
    "Case #2"
   ]
  },
  {
   "cell_type": "code",
   "execution_count": 121,
   "metadata": {},
   "outputs": [],
   "source": [
    "cov_df = msf_ret.cov()\n",
    "mean_s = msf_ret.mean()"
   ]
  },
  {
   "cell_type": "code",
   "execution_count": 122,
   "metadata": {},
   "outputs": [],
   "source": [
    "std_s = msf_ret.std()"
   ]
  },
  {
   "cell_type": "code",
   "execution_count": 123,
   "metadata": {},
   "outputs": [],
   "source": [
    "cov_2d = cov_df.values\n",
    "mean_v = mean_s.values\n",
    "std_v = std_s.values"
   ]
  },
  {
   "cell_type": "code",
   "execution_count": 124,
   "metadata": {},
   "outputs": [
    {
     "data": {
      "text/plain": [
       "Index(['AAPL', 'ABT', 'ADBE', 'ADI', 'ADP', 'ADSK', 'AIG', 'AMAT', 'AMD',\n",
       "       'AMGN', 'APD', 'AXP', 'BA', 'BAC', 'BDX', 'BK', 'BMY', 'BRK', 'C',\n",
       "       'CAT', 'CDNS', 'CI', 'CL', 'COP', 'COST', 'CSX', 'CVS', 'CVX', 'D',\n",
       "       'DE', 'DHR', 'DIS', 'DUK', 'ECL', 'EMR', 'EOG', 'EXC', 'F', 'FDX',\n",
       "       'FISV', 'GD', 'GE', 'HD', 'HON', 'HUM', 'IBM', 'INTC', 'ITW', 'JNJ',\n",
       "       'JPM', 'KLAC', 'KMB', 'KO', 'LLY', 'LMT', 'LOW', 'LRCX', 'MCD', 'MCO',\n",
       "       'MMC', 'MMM', 'MNST', 'MO', 'MRK', 'MS', 'MSFT', 'MSI', 'MU', 'NEE',\n",
       "       'NEM', 'NKE', 'NOC', 'NSC', 'ORCL', 'PAYX', 'PEP', 'PFE', 'PG', 'PGR',\n",
       "       'PNC', 'RTX', 'SCHW', 'SHW', 'SO', 'SPGI', 'SYK', 'T', 'TFC', 'TGT',\n",
       "       'TJX', 'TMO', 'TXN', 'UNH', 'UNP', 'USB', 'VZ', 'WFC', 'WM', 'WMT',\n",
       "       'XOM'],\n",
       "      dtype='object', name='ticker')"
      ]
     },
     "execution_count": 124,
     "metadata": {},
     "output_type": "execute_result"
    }
   ],
   "source": [
    "sid_list = mean_s.index\n",
    "sid_list"
   ]
  },
  {
   "cell_type": "code",
   "execution_count": 125,
   "metadata": {},
   "outputs": [
    {
     "data": {
      "text/plain": [
       "DatetimeIndex(['1990-01-31', '1990-02-28', '1990-03-31', '1990-04-30',\n",
       "               '1990-05-31', '1990-06-30', '1990-07-31', '1990-08-31',\n",
       "               '1990-09-30', '1990-10-31',\n",
       "               ...\n",
       "               '2021-03-31', '2021-04-30', '2021-05-31', '2021-06-30',\n",
       "               '2021-07-31', '2021-08-31', '2021-09-30', '2021-10-31',\n",
       "               '2021-11-30', '2021-12-31'],\n",
       "              dtype='datetime64[ns]', name='mdate', length=384, freq=None)"
      ]
     },
     "execution_count": 125,
     "metadata": {},
     "output_type": "execute_result"
    }
   ],
   "source": [
    "date_list = msf_ret.index\n",
    "date_list"
   ]
  },
  {
   "cell_type": "markdown",
   "metadata": {},
   "source": [
    "### (a) \n",
    "\n",
    "- Derive the mean-variance frontier using the standard deviation for measuring risk\n",
    "- Plot the mean-variance frontier\n",
    "- Indicate the global minimum portfolio (GMVP) on the plot\n",
    "\n",
    "Note: Raw returns are used to plot efficient frontier"
   ]
  },
  {
   "cell_type": "code",
   "execution_count": 126,
   "metadata": {},
   "outputs": [],
   "source": [
    "def port_mean(W, mean_v, rf=0):\n",
    "    \"\"\"Get the mean of the portfolio\n",
    "\n",
    "    Args:\n",
    "        W (np.ndarray): 1*n array of weights\n",
    "        mean_v (np.ndarray): 1*n array of mean returns\n",
    "\n",
    "    Returns:\n",
    "        float: weighted mean return of the portfolio. (1, ) scalar\n",
    "    \"\"\"\n",
    "    return np.dot(W, mean_v - rf)"
   ]
  },
  {
   "cell_type": "code",
   "execution_count": 127,
   "metadata": {},
   "outputs": [],
   "source": [
    "# Test the function\n",
    "\n",
    "n = len(mean_v)\n",
    "W = np.ones((1, n)) / n"
   ]
  },
  {
   "cell_type": "code",
   "execution_count": 128,
   "metadata": {},
   "outputs": [
    {
     "data": {
      "text/plain": [
       "array([0.0146253])"
      ]
     },
     "execution_count": 128,
     "metadata": {},
     "output_type": "execute_result"
    }
   ],
   "source": [
    "port_mean(W, mean_v) "
   ]
  },
  {
   "cell_type": "code",
   "execution_count": 129,
   "metadata": {},
   "outputs": [],
   "source": [
    "def port_var(W, cov_2d):\n",
    "    \"\"\"Get the variance of the portfolio\n",
    "\n",
    "    Args:\n",
    "        W (np.ndarray): 1*n array of weights\n",
    "        cov_2d (np.ndarray): n*n array of covariance matrix\n",
    "\n",
    "    Returns:\n",
    "        float: variance of the portfolio. (1, 1) array\n",
    "    \"\"\"    \n",
    "    return np.dot(W, np.dot(cov_2d, W.T))"
   ]
  },
  {
   "cell_type": "code",
   "execution_count": 130,
   "metadata": {},
   "outputs": [
    {
     "data": {
      "text/plain": [
       "array([[0.00194029]])"
      ]
     },
     "execution_count": 130,
     "metadata": {},
     "output_type": "execute_result"
    }
   ],
   "source": [
    "port_var(W, cov_2d)"
   ]
  },
  {
   "cell_type": "code",
   "execution_count": 131,
   "metadata": {},
   "outputs": [],
   "source": [
    "def negative_port_sharpe(W, mean_v, cov_2d):\n",
    "    \"\"\"Get the Sharpe ratio of the portfolio\n",
    "\n",
    "    Args:\n",
    "        W (np.ndarray): 1*n array of weights\n",
    "        mean_v (np.ndarray): 1*n array of mean returns\n",
    "        cov_2d (np.ndarray): n*n array of covariance matrix\n",
    "\n",
    "    Returns:\n",
    "        float: Sharpe ratio of the portfolio. (1, 1) array\n",
    "    \"\"\"    \n",
    "\n",
    "    mean_p = port_mean(W, mean_v)\n",
    "    std_p = np.sqrt(port_var(W, cov_2d))\n",
    "\n",
    "    if mean_p > 0:\n",
    "        return -1 * mean_p / std_p # negative Sharpe ratio\n",
    "    else:\n",
    "        return mean_p / std_p # positive Sharpe ratio"
   ]
  },
  {
   "cell_type": "code",
   "execution_count": 132,
   "metadata": {},
   "outputs": [
    {
     "data": {
      "text/plain": [
       "array([[-0.33202557]])"
      ]
     },
     "execution_count": 132,
     "metadata": {},
     "output_type": "execute_result"
    }
   ],
   "source": [
    "negative_port_sharpe(W, mean_v, cov_2d)"
   ]
  },
  {
   "cell_type": "code",
   "execution_count": 133,
   "metadata": {},
   "outputs": [],
   "source": [
    "def optimize_portfolio(mean_v, cov_2d):\n",
    "    \"\"\"Optimize the portfolio to get the maximum Sharpe ratio\n",
    "\n",
    "    Args:\n",
    "        mean_v (np.ndarray): 1*n array of mean returns\n",
    "        cov_2d (np.ndarray): n*n array of covariance matrix\n",
    "        rf (float): risk-free rate\n",
    "\n",
    "    Returns:\n",
    "        scipy.optimize.OptimizeResult: Result of the optimization\n",
    "    \"\"\"\n",
    "    n = len(mean_v)\n",
    "    args = (mean_v, cov_2d)\n",
    "    constraints = {\n",
    "        \"type\": \"eq\",\n",
    "        \"fun\": lambda W: np.sum(W) - 1,\n",
    "    }\n",
    "    bounds = tuple((-1, 1) for asset in range(n))\n",
    "\n",
    "    result = sco.minimize(\n",
    "        negative_port_sharpe,  # Minimize the negative Sharpe ratio = maximize the Sharpe ratio\n",
    "        n * [1.0 / n,],  # Initial guess\n",
    "        args=args,  # asset returns, covariance matrix\n",
    "        method=\"SLSQP\",\n",
    "        bounds=bounds,  # weights between -1 and 1\n",
    "        constraints=constraints,  # weights sum to 1\n",
    "    )\n",
    "\n",
    "    return result"
   ]
  },
  {
   "cell_type": "code",
   "execution_count": 134,
   "metadata": {},
   "outputs": [],
   "source": [
    "def optimize_portfolio_given_return(ret, mean_v, cov_2d):\n",
    "    \"\"\"Optimize the portfolio to get the maximum Sharpe ratio\n",
    "\n",
    "    Args:\n",
    "        mean_v (np.ndarray): 1*n array of mean returns\n",
    "        cov_2d (np.ndarray): n*n array of covariance matrix\n",
    "        rf (float): risk-free rate\n",
    "\n",
    "    Returns:\n",
    "        scipy.optimize.OptimizeResult: Result of the optimization\n",
    "    \"\"\"\n",
    "    n = len(mean_v)\n",
    "    args = (mean_v, cov_2d)\n",
    "    constraints = [\n",
    "        {\"type\": \"eq\", \"fun\": lambda W: np.sum(W) - 1,}, \n",
    "        {\"type\": \"eq\", \"fun\": lambda W: port_mean(W, mean_v) - ret,}\n",
    "        ]\n",
    "    bounds = tuple((-1, 1) for asset in range(n))\n",
    "\n",
    "    result = sco.minimize(\n",
    "        negative_port_sharpe,  # Minimize the negative Sharpe ratio = maximize the Sharpe ratio\n",
    "        n * [1.0 / n,],  # Initial guess\n",
    "        args=args,  # asset returns, covariance matrix\n",
    "        method=\"SLSQP\",\n",
    "        bounds=bounds,  # weights between -1 and 1\n",
    "        constraints=constraints,  # weights sum to 1, return target\n",
    "    )\n",
    "\n",
    "    return result"
   ]
  },
  {
   "cell_type": "code",
   "execution_count": 135,
   "metadata": {},
   "outputs": [
    {
     "data": {
      "text/plain": [
       " message: Optimization terminated successfully\n",
       " success: True\n",
       "  status: 0\n",
       "     fun: -0.6829405383153178\n",
       "       x: [ 3.854e-02  4.338e-02 ...  2.784e-02  1.427e-02]\n",
       "     nit: 24\n",
       "     jac: [-1.635e-04 -6.117e-06 ... -7.313e-05 -2.860e-04]\n",
       "    nfev: 2452\n",
       "    njev: 24"
      ]
     },
     "execution_count": 135,
     "metadata": {},
     "output_type": "execute_result"
    }
   ],
   "source": [
    "optimize_portfolio(mean_v, cov_2d) # optimized result의 x가 optimal weights"
   ]
  },
  {
   "cell_type": "code",
   "execution_count": 136,
   "metadata": {},
   "outputs": [],
   "source": [
    "def get_opportunity_set(mean_v, cov_2d, num_portfolios=100):\n",
    "    \"\"\"Get the opportunity set by generating random portfolios\n",
    "\n",
    "    Args:\n",
    "        mean_v (np.ndarray): 1*n array of mean returns\n",
    "        cov_2d (np.ndarray): n*n array of covariance matrix\n",
    "        num_portfolios (int): number of random portfolios to generate\n",
    "\n",
    "    Returns:\n",
    "        np.ndarray: 3 * num_portfolios array of results // (portfolio return, portfolio std, portfolio sharpe ratio)\n",
    "        list: list of weights\n",
    "    \"\"\"\n",
    "\n",
    "    results = np.zeros((3, num_portfolios))\n",
    "    weights_record = []\n",
    "\n",
    "    for i in range(num_portfolios):\n",
    "        weights = np.random.uniform(-1, 1, len(mean_v))\n",
    "        weights /= np.sum(np.abs(weights))\n",
    "        # TODO: Weights don't sum to 1. If normalized, the resulting efficient frontier breaks.\n",
    "\n",
    "        p_ret, p_std = port_mean(weights, mean_v), np.sqrt(port_var(weights, cov_2d))\n",
    "        results[0, i] = p_ret\n",
    "        results[1, i] = p_std\n",
    "        results[2, i] = p_ret / p_std\n",
    "\n",
    "        weights_record.append(weights)\n",
    "    \n",
    "    return results, weights_record\n",
    "    "
   ]
  },
  {
   "cell_type": "code",
   "execution_count": 137,
   "metadata": {},
   "outputs": [],
   "source": [
    "def get_efficient_frontier(mean_v, cov_2d, return_range=[-0.1, 0.1], num_portfolios=100):\n",
    "    \"\"\"Get the efficient frontier by optimizing the portfolio for each return given the range\n",
    "\n",
    "    Args:\n",
    "        mean_v (np.ndarray): 1*n array of mean returns\n",
    "        cov_2d (np.ndarray): n*n array of covariance matrix\n",
    "        return_range (list): range of return to optimize the portfolio\n",
    "        num_portfolios (int): number of portfolios to generate\n",
    "\n",
    "    Returns:\n",
    "        np.ndarray: 3 * num_portfolios array of results // (portfolio return, portfolio std, portfolio sharpe ratio)\n",
    "        list: list of weights\n",
    "    \"\"\"\n",
    "    weights_record = []\n",
    "\n",
    "    min_ret, max_ret = return_range\n",
    "    ret_range = np.linspace(min_ret, max_ret, num_portfolios)\n",
    "    results = np.zeros((3, len(ret_range)))\n",
    "\n",
    "    for i, ret in enumerate(ret_range):\n",
    "        result = optimize_portfolio_given_return(ret, mean_v, cov_2d)\n",
    "        weights = result.x\n",
    "\n",
    "        p_ret, p_std = port_mean(weights, mean_v), np.sqrt(port_var(weights, cov_2d))\n",
    "        results[0, i] = p_ret\n",
    "        results[1, i] = p_std\n",
    "        results[2, i] = p_ret / p_std\n",
    "\n",
    "        weights_record.append(weights)\n",
    "        \n",
    "    return results, weights_record\n",
    "    "
   ]
  },
  {
   "cell_type": "code",
   "execution_count": 138,
   "metadata": {},
   "outputs": [],
   "source": [
    "from concurrent.futures import ThreadPoolExecutor, as_completed\n",
    "\n",
    "\n",
    "def calculate_optimization(ret, mean_v, cov_2d):\n",
    "    \"\"\"Helper function to perform optimization and return results\"\"\"\n",
    "    result = optimize_portfolio_given_return(ret, mean_v, cov_2d)\n",
    "    weights = result.x\n",
    "    p_ret = port_mean(weights, mean_v)\n",
    "    p_std = np.sqrt(port_var(weights, cov_2d))\n",
    "    sharpe_ratio = p_ret / p_std\n",
    "    return p_ret, p_std, sharpe_ratio, weights\n",
    "\n",
    "def get_efficient_frontier_parallel(mean_v, cov_2d, return_range=[-0.1, 0.1], num_portfolios=100):\n",
    "    \"\"\"Get the efficient frontier by optimizing the portfolio for each return given the range\n",
    "\n",
    "    Args:\n",
    "        mean_v (np.ndarray): 1*n array of mean returns\n",
    "        cov_2d (np.ndarray): n*n array of covariance matrix\n",
    "        return_range (list): range of return to optimize the portfolio\n",
    "        num_portfolios (int): number of portfolios to generate\n",
    "\n",
    "    Returns:\n",
    "        np.ndarray: 3 * num_portfolios array of results // (portfolio return, portfolio std, portfolio sharpe ratio)\n",
    "        list: list of weights\n",
    "    \"\"\"\n",
    "    min_ret, max_ret = return_range\n",
    "    ret_range = np.linspace(min_ret, max_ret, num_portfolios)\n",
    "    \n",
    "    results_array = np.zeros((3, num_portfolios))\n",
    "    weights_record = []\n",
    "    \n",
    "    with ThreadPoolExecutor() as executor:\n",
    "        futures = {executor.submit(calculate_optimization, ret, mean_v, cov_2d): ret for ret in ret_range}\n",
    "        for future in as_completed(futures):\n",
    "            ret = futures[future]\n",
    "            try:\n",
    "                p_ret, p_std, sharpe_ratio, weights = future.result()\n",
    "                idx = np.where(ret_range == ret)[0][0]\n",
    "                results_array[0, idx] = p_ret\n",
    "                results_array[1, idx] = p_std\n",
    "                results_array[2, idx] = sharpe_ratio\n",
    "                weights_record.append(weights)\n",
    "            except Exception as exc:\n",
    "                print(f'Return {ret} generated an exception: {exc}')\n",
    "    \n",
    "    return results_array, weights_record\n"
   ]
  },
  {
   "cell_type": "markdown",
   "metadata": {},
   "source": [
    "We can plot the opportunity set but beware that it's NOT deriving the efficient frontier. \n",
    "\n",
    "It's just randomly generating portfolios. "
   ]
  },
  {
   "cell_type": "code",
   "execution_count": 139,
   "metadata": {},
   "outputs": [
    {
     "data": {
      "image/png": "[encoded data removed]",
      "text/plain": [
       "<Figure size 1000x700 with 2 Axes>"
      ]
     },
     "metadata": {},
     "output_type": "display_data"
    }
   ],
   "source": [
    "results, weights_record = get_opportunity_set(mean_v, cov_2d, num_portfolios=1000)\n",
    "\n",
    "# Optimal portfolio\n",
    "max_sharpe_idx = np.argmax(results[2])\n",
    "tangent_p_std, tangent_p_ret = results[1, max_sharpe_idx], results[0, max_sharpe_idx]\n",
    "\n",
    "# Global minimum variance portfolio\n",
    "min_vol_idx = np.argmin(results[1])\n",
    "gmvp_std, gmvp_ret = results[1, min_vol_idx], results[0, min_vol_idx]\n",
    "\n",
    "\n",
    "\n",
    "# Plot the efficient frontier\n",
    "plt.figure(figsize=(10, 7))\n",
    "plt.scatter(results[1,:], results[0,:], c=results[2,:], cmap='cool', marker='o')\n",
    "plt.colorbar(label='Sharpe ratio')\n",
    "plt.scatter(gmvp_std, gmvp_ret, marker='*', color='r', s=200, label='GMVP')\n",
    "plt.title('Efficient Frontier with Short Selling Allowed')\n",
    "plt.xlabel('Risk (Std. Deviation)')\n",
    "plt.ylabel('Return')\n",
    "plt.legend(labelspacing=0.8)\n",
    "plt.show()\n"
   ]
  },
  {
   "cell_type": "code",
   "execution_count": 140,
   "metadata": {},
   "outputs": [
    {
     "data": {
      "image/png": "[encoded data removed]",
      "text/plain": [
       "<Figure size 1000x700 with 2 Axes>"
      ]
     },
     "metadata": {},
     "output_type": "display_data"
    }
   ],
   "source": [
    "results, weights_record = get_efficient_frontier_parallel(mean_v, cov_2d, num_portfolios=100)\n",
    "\n",
    "# Global minimum variance portfolio\n",
    "min_vol_idx = np.argmin(results[1])\n",
    "gmvp_std, gmvp_ret = results[1, min_vol_idx], results[0, min_vol_idx]\n",
    "\n",
    "# Plot the efficient frontier\n",
    "plt.figure(figsize=(10, 7))\n",
    "plt.scatter(results[1,:], results[0,:], c=results[2,:], cmap='cool', marker='o')\n",
    "plt.colorbar(label='Sharpe ratio')\n",
    "plt.scatter(gmvp_std, gmvp_ret, marker='*', color='r', s=200, label='GMVP')\n",
    "plt.title('Efficient Frontier with Short Selling Allowed')\n",
    "plt.xlabel('Risk (Std. Deviation)')\n",
    "plt.ylabel('Return')\n",
    "plt.legend(labelspacing=0.8)\n",
    "\n",
    "# Annotate the GMVP point with its x and y values\n",
    "plt.annotate(f'({gmvp_std:.2f}, {gmvp_ret:.2f})', \n",
    "             (gmvp_std, gmvp_ret), \n",
    "             textcoords=\"offset points\", \n",
    "             xytext=(10,-10), \n",
    "             ha='center')\n",
    "\n",
    "plt.show()\n"
   ]
  },
  {
   "cell_type": "markdown",
   "metadata": {},
   "source": [
    "### (b)"
   ]
  },
  {
   "cell_type": "code",
   "execution_count": 141,
   "metadata": {},
   "outputs": [],
   "source": [
    "sp500_mean = sp500_ret.mean().values[0]"
   ]
  },
  {
   "cell_type": "code",
   "execution_count": 142,
   "metadata": {},
   "outputs": [
    {
     "data": {
      "text/html": [
       "<div>\n",
       "<style scoped>\n",
       "    .dataframe tbody tr th:only-of-type {\n",
       "        vertical-align: middle;\n",
       "    }\n",
       "\n",
       "    .dataframe tbody tr th {\n",
       "        vertical-align: top;\n",
       "    }\n",
       "\n",
       "    .dataframe thead th {\n",
       "        text-align: right;\n",
       "    }\n",
       "</style>\n",
       "<table border=\"1\" class=\"dataframe\">\n",
       "  <thead>\n",
       "    <tr style=\"text-align: right;\">\n",
       "      <th></th>\n",
       "      <th>weight</th>\n",
       "    </tr>\n",
       "    <tr>\n",
       "      <th>ticker</th>\n",
       "      <th></th>\n",
       "    </tr>\n",
       "  </thead>\n",
       "  <tbody>\n",
       "    <tr>\n",
       "      <th>AAPL</th>\n",
       "      <td>-0.001531</td>\n",
       "    </tr>\n",
       "    <tr>\n",
       "      <th>ABT</th>\n",
       "      <td>0.033021</td>\n",
       "    </tr>\n",
       "    <tr>\n",
       "      <th>ADBE</th>\n",
       "      <td>-0.011211</td>\n",
       "    </tr>\n",
       "    <tr>\n",
       "      <th>ADI</th>\n",
       "      <td>-0.006286</td>\n",
       "    </tr>\n",
       "    <tr>\n",
       "      <th>ADP</th>\n",
       "      <td>-0.000268</td>\n",
       "    </tr>\n",
       "    <tr>\n",
       "      <th>...</th>\n",
       "      <td>...</td>\n",
       "    </tr>\n",
       "    <tr>\n",
       "      <th>VZ</th>\n",
       "      <td>-0.019541</td>\n",
       "    </tr>\n",
       "    <tr>\n",
       "      <th>WFC</th>\n",
       "      <td>-0.047710</td>\n",
       "    </tr>\n",
       "    <tr>\n",
       "      <th>WM</th>\n",
       "      <td>0.004380</td>\n",
       "    </tr>\n",
       "    <tr>\n",
       "      <th>WMT</th>\n",
       "      <td>0.154212</td>\n",
       "    </tr>\n",
       "    <tr>\n",
       "      <th>XOM</th>\n",
       "      <td>0.046542</td>\n",
       "    </tr>\n",
       "  </tbody>\n",
       "</table>\n",
       "<p>100 rows × 1 columns</p>\n",
       "</div>"
      ],
      "text/plain": [
       "          weight\n",
       "ticker          \n",
       "AAPL   -0.001531\n",
       "ABT     0.033021\n",
       "ADBE   -0.011211\n",
       "ADI    -0.006286\n",
       "ADP    -0.000268\n",
       "...          ...\n",
       "VZ     -0.019541\n",
       "WFC    -0.047710\n",
       "WM      0.004380\n",
       "WMT     0.154212\n",
       "XOM     0.046542\n",
       "\n",
       "[100 rows x 1 columns]"
      ]
     },
     "execution_count": 142,
     "metadata": {},
     "output_type": "execute_result"
    }
   ],
   "source": [
    "match_sp500_result = optimize_portfolio_given_return(sp500_mean, mean_v, cov_2d)\n",
    "match_sp500_weights = match_sp500_result.x\n",
    "\n",
    "match_sp500_weights_df = pd.DataFrame(match_sp500_weights, index=sid_list, columns=['weight'])\n",
    "match_sp500_weights_df"
   ]
  },
  {
   "cell_type": "code",
   "execution_count": 143,
   "metadata": {},
   "outputs": [],
   "source": [
    "match_sp500_weights_df.to_csv(OUTPUT_PATH / 'hw1_1.b_match_sp500_weights.csv')"
   ]
  },
  {
   "cell_type": "code",
   "execution_count": 144,
   "metadata": {},
   "outputs": [
    {
     "data": {
      "text/html": [
       "<div>\n",
       "<style scoped>\n",
       "    .dataframe tbody tr th:only-of-type {\n",
       "        vertical-align: middle;\n",
       "    }\n",
       "\n",
       "    .dataframe tbody tr th {\n",
       "        vertical-align: top;\n",
       "    }\n",
       "\n",
       "    .dataframe thead th {\n",
       "        text-align: right;\n",
       "    }\n",
       "</style>\n",
       "<table border=\"1\" class=\"dataframe\">\n",
       "  <thead>\n",
       "    <tr style=\"text-align: right;\">\n",
       "      <th></th>\n",
       "      <th>weight</th>\n",
       "    </tr>\n",
       "    <tr>\n",
       "      <th>ticker</th>\n",
       "      <th></th>\n",
       "    </tr>\n",
       "  </thead>\n",
       "  <tbody>\n",
       "    <tr>\n",
       "      <th>MMM</th>\n",
       "      <td>0.137152</td>\n",
       "    </tr>\n",
       "    <tr>\n",
       "      <th>BAC</th>\n",
       "      <td>-0.017789</td>\n",
       "    </tr>\n",
       "    <tr>\n",
       "      <th>AMD</th>\n",
       "      <td>-0.024176</td>\n",
       "    </tr>\n",
       "    <tr>\n",
       "      <th>AAPL</th>\n",
       "      <td>-0.001531</td>\n",
       "    </tr>\n",
       "    <tr>\n",
       "      <th>MCD</th>\n",
       "      <td>-0.003986</td>\n",
       "    </tr>\n",
       "  </tbody>\n",
       "</table>\n",
       "</div>"
      ],
      "text/plain": [
       "          weight\n",
       "ticker          \n",
       "MMM     0.137152\n",
       "BAC    -0.017789\n",
       "AMD    -0.024176\n",
       "AAPL   -0.001531\n",
       "MCD    -0.003986"
      ]
     },
     "execution_count": 144,
     "metadata": {},
     "output_type": "execute_result"
    }
   ],
   "source": [
    "watching = ['MMM', 'BAC', 'AMD', 'AAPL', 'MCD']\n",
    "\n",
    "match_sp500_weights_df.loc[watching]"
   ]
  },
  {
   "cell_type": "markdown",
   "metadata": {},
   "source": [
    "### (c)"
   ]
  },
  {
   "cell_type": "code",
   "execution_count": 35,
   "metadata": {},
   "outputs": [],
   "source": [
    "# Optimal portfolio matching sp500\n",
    "\n",
    "max_sharpe_idx = np.argmax(results[2])\n",
    "tangent_p_std, tangent_p_ret = results[1, max_sharpe_idx], results[0, max_sharpe_idx]\n",
    "tangent_p_weight = weights_record[max_sharpe_idx]"
   ]
  },
  {
   "cell_type": "code",
   "execution_count": 36,
   "metadata": {},
   "outputs": [],
   "source": [
    "tangent_excess_ret = msf_excess_ret.multiply(tangent_p_weight, axis=1).sum(axis=1)\n",
    "\n",
    "tangent_excess_mean = tangent_excess_ret.mean()\n",
    "tangent_excess_std = tangent_excess_ret.std()"
   ]
  },
  {
   "cell_type": "code",
   "execution_count": 37,
   "metadata": {},
   "outputs": [],
   "source": [
    "# Annualize return, std, sharpe ratio\n",
    "\n",
    "def monthly_to_annual(data_v):\n",
    "    monthly_mean = data_v.mean()\n",
    "    monthly_std = data_v.std()\n",
    "\n",
    "    annual_mean = monthly_mean * 12\n",
    "    annual_std = monthly_std * np.sqrt(12)\n",
    "\n",
    "    return annual_mean, annual_std"
   ]
  },
  {
   "cell_type": "code",
   "execution_count": 38,
   "metadata": {},
   "outputs": [
    {
     "data": {
      "text/plain": [
       "(0.06951223826298158, 0.14553101526384796)"
      ]
     },
     "execution_count": 38,
     "metadata": {},
     "output_type": "execute_result"
    }
   ],
   "source": [
    "sp500_annual_excess_mean, sp500_annual_excess_std = monthly_to_annual(sp500_excess_ret)\n",
    "sp500_annual_excess_mean, sp500_annual_excess_std"
   ]
  },
  {
   "cell_type": "code",
   "execution_count": 39,
   "metadata": {},
   "outputs": [
    {
     "data": {
      "text/plain": [
       "0.47764552550503264"
      ]
     },
     "execution_count": 39,
     "metadata": {},
     "output_type": "execute_result"
    }
   ],
   "source": [
    "sp500_annual_excess_sharpe = sp500_annual_excess_mean / sp500_annual_excess_std\n",
    "sp500_annual_excess_sharpe"
   ]
  },
  {
   "cell_type": "code",
   "execution_count": 40,
   "metadata": {},
   "outputs": [
    {
     "data": {
      "text/plain": [
       "(0.13227653506039636, 0.08350120329436604)"
      ]
     },
     "execution_count": 40,
     "metadata": {},
     "output_type": "execute_result"
    }
   ],
   "source": [
    "tangent_p_mean_annual = tangent_excess_mean * 12\n",
    "tangent_p_std_annual = tangent_excess_std * np.sqrt(12)\n",
    "\n",
    "tangent_p_mean_annual, tangent_p_std_annual"
   ]
  },
  {
   "cell_type": "code",
   "execution_count": 41,
   "metadata": {},
   "outputs": [
    {
     "data": {
      "text/plain": [
       "1.5841272920832419"
      ]
     },
     "execution_count": 41,
     "metadata": {},
     "output_type": "execute_result"
    }
   ],
   "source": [
    "tangent_annual_sharpe = tangent_p_mean_annual / tangent_p_std_annual\n",
    "tangent_annual_sharpe"
   ]
  },
  {
   "cell_type": "markdown",
   "metadata": {},
   "source": [
    "### (d)"
   ]
  },
  {
   "cell_type": "code",
   "execution_count": 42,
   "metadata": {},
   "outputs": [],
   "source": [
    "tangent_p_weight = weights_record[max_sharpe_idx]\n",
    "\n",
    "tangent_p_ret = np.dot(tangent_p_weight, msf_ret.to_numpy().T)"
   ]
  },
  {
   "cell_type": "code",
   "execution_count": 43,
   "metadata": {},
   "outputs": [],
   "source": [
    "tangent_p_cum_ret = np.cumprod(1 + tangent_p_ret) - 1"
   ]
  },
  {
   "cell_type": "code",
   "execution_count": 44,
   "metadata": {},
   "outputs": [],
   "source": [
    "sp500_cum_ret = np.cumprod(1 + sp500_ret.to_numpy()) - 1"
   ]
  },
  {
   "cell_type": "code",
   "execution_count": 48,
   "metadata": {},
   "outputs": [
    {
     "data": {
      "text/plain": [
       "<Axes: xlabel='mdate'>"
      ]
     },
     "execution_count": 48,
     "metadata": {},
     "output_type": "execute_result"
    },
    {
     "data": {
      "image/png": "[encoded data removed]",
      "text/plain": [
       "<Figure size 640x480 with 1 Axes>"
      ]
     },
     "metadata": {},
     "output_type": "display_data"
    }
   ],
   "source": [
    "sns.lineplot(y=tangent_p_cum_ret[1:], x=date_list[1:], label='Optimal Portfolio Cum Return')\n",
    "sns.lineplot(y=sp500_cum_ret, x=date_list[1:], label='S&P 500 Cum Return')\n"
   ]
  },
  {
   "cell_type": "markdown",
   "metadata": {},
   "source": [
    "## 2. There is risk-free asset & Short-selling is allowed\n",
    "\n",
    "Case #1\n",
    "\n",
    "Assume correlation between risk-free treasury and any asset is 0"
   ]
  },
  {
   "cell_type": "markdown",
   "metadata": {},
   "source": [
    "### (a)"
   ]
  },
  {
   "cell_type": "code",
   "execution_count": 52,
   "metadata": {},
   "outputs": [
    {
     "data": {
      "text/plain": [
       "0.0021083333333333293"
      ]
     },
     "execution_count": 52,
     "metadata": {},
     "output_type": "execute_result"
    }
   ],
   "source": [
    "rf = rf_s.mean().values[0]\n",
    "rf"
   ]
  },
  {
   "cell_type": "code",
   "execution_count": 56,
   "metadata": {},
   "outputs": [
    {
     "data": {
      "text/plain": [
       "(3, 100)"
      ]
     },
     "execution_count": 56,
     "metadata": {},
     "output_type": "execute_result"
    }
   ],
   "source": [
    "results.shape"
   ]
  },
  {
   "cell_type": "code",
   "execution_count": 73,
   "metadata": {},
   "outputs": [],
   "source": [
    "tangent_point = (None, None) # std, ret\n",
    "tangent_point_index = None\n",
    "\n",
    "current_maximum_sharpe = -np.inf\n",
    "for i in range(results.shape[1]): # From lowest to the highest return\n",
    "    ret = results[0, i]\n",
    "    std = results[1, i]\n",
    "    \n",
    "    current_sharpe = (ret - rf) / std\n",
    "    if current_sharpe > current_maximum_sharpe:\n",
    "        current_maximum_sharpe = current_sharpe\n",
    "        tangent_point = (std, ret)\n",
    "        tangent_point_index = i\n",
    "    \n",
    "    if current_sharpe < current_maximum_sharpe:\n",
    "        break"
   ]
  },
  {
   "cell_type": "code",
   "execution_count": 65,
   "metadata": {},
   "outputs": [
    {
     "data": {
      "text/plain": [
       "0.6226493118422776"
      ]
     },
     "execution_count": 65,
     "metadata": {},
     "output_type": "execute_result"
    }
   ],
   "source": [
    "tangent_sharpe = current_maximum_sharpe\n",
    "tangent_sharpe # slope"
   ]
  },
  {
   "cell_type": "code",
   "execution_count": 59,
   "metadata": {},
   "outputs": [
    {
     "data": {
      "text/plain": [
       "(0.037170509111211766, 0.025252525252256443)"
      ]
     },
     "execution_count": 59,
     "metadata": {},
     "output_type": "execute_result"
    }
   ],
   "source": [
    "tangent_point"
   ]
  },
  {
   "cell_type": "code",
   "execution_count": 74,
   "metadata": {},
   "outputs": [],
   "source": [
    "tangent_weight = weights_record[tangent_point_index]"
   ]
  },
  {
   "cell_type": "code",
   "execution_count": 64,
   "metadata": {},
   "outputs": [
    {
     "data": {
      "image/png": "[encoded data removed]",
      "text/plain": [
       "<Figure size 1000x700 with 2 Axes>"
      ]
     },
     "metadata": {},
     "output_type": "display_data"
    }
   ],
   "source": [
    "\n",
    "# Plot the efficient frontier\n",
    "plt.figure(figsize=(10, 7))\n",
    "plt.scatter(results[1,:], results[0,:], c=results[2,:], cmap='cool', marker='o')\n",
    "plt.colorbar(label='Sharpe ratio')\n",
    "plt.title('Efficient Frontier with Short Selling Allowed')\n",
    "plt.xlabel('Risk (Std. Deviation)')\n",
    "plt.ylabel('Return')\n",
    "\n",
    "plt.scatter(0, rf, marker='o', color='r', s=200, label='risk-free')\n",
    "plt.scatter(*tangent_point, marker='*', color='g', s=200, label='Tangent')\n",
    "\n",
    "plt.axline((0, rf), slope=(tangent_point[1] - rf) / tangent_point[0], color='black', linestyle='--', linewidth=1.5)\n",
    "\n",
    "\n",
    "\n",
    "# Set the x-axis to start from 0\n",
    "plt.xlim(left=0)\n",
    "\n",
    "plt.legend(labelspacing=0.8)\n",
    "plt.show()\n"
   ]
  },
  {
   "cell_type": "markdown",
   "metadata": {},
   "source": [
    "### (b)"
   ]
  },
  {
   "cell_type": "code",
   "execution_count": 70,
   "metadata": {},
   "outputs": [],
   "source": [
    "tangent_ret, tangent_std = tangent_point"
   ]
  },
  {
   "cell_type": "code",
   "execution_count": 69,
   "metadata": {},
   "outputs": [
    {
     "data": {
      "text/plain": [
       "0.007891642135492151"
      ]
     },
     "execution_count": 69,
     "metadata": {},
     "output_type": "execute_result"
    }
   ],
   "source": [
    "sp500_mean "
   ]
  },
  {
   "cell_type": "code",
   "execution_count": 68,
   "metadata": {},
   "outputs": [
    {
     "data": {
      "text/plain": [
       "0.009288228047738987"
      ]
     },
     "execution_count": 68,
     "metadata": {},
     "output_type": "execute_result"
    }
   ],
   "source": [
    "sp500_matching_std = (sp500_mean  - rf) / tangent_sharpe\n",
    "sp500_matching_std"
   ]
  },
  {
   "cell_type": "code",
   "execution_count": 80,
   "metadata": {},
   "outputs": [
    {
     "data": {
      "text/plain": [
       "(0.16494437877433862, 0.8350556212256613)"
      ]
     },
     "execution_count": 80,
     "metadata": {},
     "output_type": "execute_result"
    }
   ],
   "source": [
    "risky_weight = (sp500_mean - rf) / (tangent_ret - rf)\n",
    "risk_free_weight = 1 - risky_weight\n",
    "\n",
    "risky_weight, risk_free_weight"
   ]
  },
  {
   "cell_type": "code",
   "execution_count": 77,
   "metadata": {},
   "outputs": [
    {
     "data": {
      "text/html": [
       "<div>\n",
       "<style scoped>\n",
       "    .dataframe tbody tr th:only-of-type {\n",
       "        vertical-align: middle;\n",
       "    }\n",
       "\n",
       "    .dataframe tbody tr th {\n",
       "        vertical-align: top;\n",
       "    }\n",
       "\n",
       "    .dataframe thead th {\n",
       "        text-align: right;\n",
       "    }\n",
       "</style>\n",
       "<table border=\"1\" class=\"dataframe\">\n",
       "  <thead>\n",
       "    <tr style=\"text-align: right;\">\n",
       "      <th></th>\n",
       "      <th>weight</th>\n",
       "    </tr>\n",
       "    <tr>\n",
       "      <th>ticker</th>\n",
       "      <th></th>\n",
       "    </tr>\n",
       "  </thead>\n",
       "  <tbody>\n",
       "    <tr>\n",
       "      <th>AAPL</th>\n",
       "      <td>0.001250</td>\n",
       "    </tr>\n",
       "    <tr>\n",
       "      <th>ABT</th>\n",
       "      <td>0.005837</td>\n",
       "    </tr>\n",
       "    <tr>\n",
       "      <th>ADBE</th>\n",
       "      <td>-0.001844</td>\n",
       "    </tr>\n",
       "    <tr>\n",
       "      <th>ADI</th>\n",
       "      <td>-0.000815</td>\n",
       "    </tr>\n",
       "    <tr>\n",
       "      <th>ADP</th>\n",
       "      <td>-0.000064</td>\n",
       "    </tr>\n",
       "    <tr>\n",
       "      <th>...</th>\n",
       "      <td>...</td>\n",
       "    </tr>\n",
       "    <tr>\n",
       "      <th>VZ</th>\n",
       "      <td>-0.004834</td>\n",
       "    </tr>\n",
       "    <tr>\n",
       "      <th>WFC</th>\n",
       "      <td>-0.003897</td>\n",
       "    </tr>\n",
       "    <tr>\n",
       "      <th>WM</th>\n",
       "      <td>0.001637</td>\n",
       "    </tr>\n",
       "    <tr>\n",
       "      <th>WMT</th>\n",
       "      <td>0.020699</td>\n",
       "    </tr>\n",
       "    <tr>\n",
       "      <th>XOM</th>\n",
       "      <td>0.006470</td>\n",
       "    </tr>\n",
       "  </tbody>\n",
       "</table>\n",
       "<p>100 rows × 1 columns</p>\n",
       "</div>"
      ],
      "text/plain": [
       "          weight\n",
       "ticker          \n",
       "AAPL    0.001250\n",
       "ABT     0.005837\n",
       "ADBE   -0.001844\n",
       "ADI    -0.000815\n",
       "ADP    -0.000064\n",
       "...          ...\n",
       "VZ     -0.004834\n",
       "WFC    -0.003897\n",
       "WM      0.001637\n",
       "WMT     0.020699\n",
       "XOM     0.006470\n",
       "\n",
       "[100 rows x 1 columns]"
      ]
     },
     "execution_count": 77,
     "metadata": {},
     "output_type": "execute_result"
    }
   ],
   "source": [
    "tangent_weight_mixing_riskfree = tangent_weight * risky_weight\n",
    "\n",
    "tangent_weight_mixing_riskfree_df = pd.DataFrame(tangent_weight_mixing_riskfree, index=sid_list, columns=['weight'])\n",
    "tangent_weight_mixing_riskfree_df"
   ]
  },
  {
   "cell_type": "code",
   "execution_count": 79,
   "metadata": {},
   "outputs": [
    {
     "data": {
      "text/html": [
       "<div>\n",
       "<style scoped>\n",
       "    .dataframe tbody tr th:only-of-type {\n",
       "        vertical-align: middle;\n",
       "    }\n",
       "\n",
       "    .dataframe tbody tr th {\n",
       "        vertical-align: top;\n",
       "    }\n",
       "\n",
       "    .dataframe thead th {\n",
       "        text-align: right;\n",
       "    }\n",
       "</style>\n",
       "<table border=\"1\" class=\"dataframe\">\n",
       "  <thead>\n",
       "    <tr style=\"text-align: right;\">\n",
       "      <th></th>\n",
       "      <th>weight</th>\n",
       "    </tr>\n",
       "    <tr>\n",
       "      <th>ticker</th>\n",
       "      <th></th>\n",
       "    </tr>\n",
       "  </thead>\n",
       "  <tbody>\n",
       "    <tr>\n",
       "      <th>MMM</th>\n",
       "      <td>0.021394</td>\n",
       "    </tr>\n",
       "    <tr>\n",
       "      <th>BAC</th>\n",
       "      <td>-0.003553</td>\n",
       "    </tr>\n",
       "    <tr>\n",
       "      <th>AMD</th>\n",
       "      <td>-0.003514</td>\n",
       "    </tr>\n",
       "    <tr>\n",
       "      <th>AAPL</th>\n",
       "      <td>0.001250</td>\n",
       "    </tr>\n",
       "    <tr>\n",
       "      <th>MCD</th>\n",
       "      <td>0.000954</td>\n",
       "    </tr>\n",
       "  </tbody>\n",
       "</table>\n",
       "</div>"
      ],
      "text/plain": [
       "          weight\n",
       "ticker          \n",
       "MMM     0.021394\n",
       "BAC    -0.003553\n",
       "AMD    -0.003514\n",
       "AAPL    0.001250\n",
       "MCD     0.000954"
      ]
     },
     "execution_count": 79,
     "metadata": {},
     "output_type": "execute_result"
    }
   ],
   "source": [
    "tangent_weight_mixing_riskfree_df.loc[watching]"
   ]
  },
  {
   "cell_type": "code",
   "execution_count": 78,
   "metadata": {},
   "outputs": [],
   "source": [
    "tangent_weight_mixing_riskfree_df.to_csv(OUTPUT_PATH / 'hw1_2.b_tangent_weight_mixing_riskfree.csv')"
   ]
  },
  {
   "cell_type": "markdown",
   "metadata": {},
   "source": [
    "### (c)"
   ]
  },
  {
   "cell_type": "code",
   "execution_count": 84,
   "metadata": {},
   "outputs": [
    {
     "data": {
      "text/plain": [
       "(0.42074610933454126, 0.08747731351264847)"
      ]
     },
     "execution_count": 84,
     "metadata": {},
     "output_type": "execute_result"
    }
   ],
   "source": [
    "annual_tangent_excess_ret = (tangent_ret - rf) * 12\n",
    "annual_tangent_std = tangent_std * np.sqrt(12)\n",
    "\n",
    "annual_tangent_excess_ret, annual_tangent_std"
   ]
  },
  {
   "cell_type": "code",
   "execution_count": 85,
   "metadata": {},
   "outputs": [
    {
     "data": {
      "text/plain": [
       "4.809774013849945"
      ]
     },
     "execution_count": 85,
     "metadata": {},
     "output_type": "execute_result"
    }
   ],
   "source": [
    "annual_tangent_sharpe = annual_tangent_excess_ret / annual_tangent_std\n",
    "annual_tangent_sharpe"
   ]
  },
  {
   "cell_type": "markdown",
   "metadata": {},
   "source": [
    "### (d)"
   ]
  },
  {
   "cell_type": "code",
   "execution_count": null,
   "metadata": {},
   "outputs": [],
   "source": []
  }
 ],
 "metadata": {
  "kernelspec": {
   "display_name": ".venv",
   "language": "python",
   "name": "python3"
  },
  "language_info": {
   "codemirror_mode": {
    "name": "ipython",
    "version": 3
   },
   "file_extension": ".py",
   "mimetype": "text/x-python",
   "name": "python",
   "nbconvert_exporter": "python",
   "pygments_lexer": "ipython3",
   "version": "3.10.11"
  }
 },
 "nbformat": 4,
 "nbformat_minor": 2
}
