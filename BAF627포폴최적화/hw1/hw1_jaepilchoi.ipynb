{
 "cells": [
  {
   "cell_type": "markdown",
   "metadata": {},
   "source": [
    "# BAF627 HW1 \n",
    "\n",
    "20249433 MFE 최재필\n"
   ]
  },
  {
   "cell_type": "code",
   "execution_count": 1,
   "metadata": {},
   "outputs": [],
   "source": [
    "import numpy as np\n",
    "import pandas as pd\n",
    "\n",
    "import matplotlib.pyplot as plt\n",
    "import seaborn as sns\n",
    "\n",
    "from pathlib import Path\n",
    "\n",
    "import scipy.optimize as sco"
   ]
  },
  {
   "cell_type": "code",
   "execution_count": 2,
   "metadata": {},
   "outputs": [],
   "source": [
    "msf = pd.read_csv('msf.csv')\n",
    "msp500_rf = pd.read_csv('msp500_risk_free.csv')"
   ]
  },
  {
   "cell_type": "code",
   "execution_count": 3,
   "metadata": {},
   "outputs": [],
   "source": [
    "msf['mdate'] = pd.to_datetime(msf['mdate'])"
   ]
  },
  {
   "cell_type": "code",
   "execution_count": 4,
   "metadata": {},
   "outputs": [],
   "source": [
    "msp500_rf['mdate'] = pd.to_datetime(msp500_rf['mdate'])"
   ]
  },
  {
   "cell_type": "code",
   "execution_count": 5,
   "metadata": {},
   "outputs": [
    {
     "data": {
      "text/html": [
       "<div>\n",
       "<style scoped>\n",
       "    .dataframe tbody tr th:only-of-type {\n",
       "        vertical-align: middle;\n",
       "    }\n",
       "\n",
       "    .dataframe tbody tr th {\n",
       "        vertical-align: top;\n",
       "    }\n",
       "\n",
       "    .dataframe thead th {\n",
       "        text-align: right;\n",
       "    }\n",
       "</style>\n",
       "<table border=\"1\" class=\"dataframe\">\n",
       "  <thead>\n",
       "    <tr style=\"text-align: right;\">\n",
       "      <th>ticker</th>\n",
       "      <th>AAPL</th>\n",
       "      <th>ABT</th>\n",
       "      <th>ADBE</th>\n",
       "      <th>ADI</th>\n",
       "      <th>ADP</th>\n",
       "      <th>ADSK</th>\n",
       "      <th>AIG</th>\n",
       "      <th>AMAT</th>\n",
       "      <th>AMD</th>\n",
       "      <th>AMGN</th>\n",
       "      <th>...</th>\n",
       "      <th>TMO</th>\n",
       "      <th>TXN</th>\n",
       "      <th>UNH</th>\n",
       "      <th>UNP</th>\n",
       "      <th>USB</th>\n",
       "      <th>VZ</th>\n",
       "      <th>WFC</th>\n",
       "      <th>WM</th>\n",
       "      <th>WMT</th>\n",
       "      <th>XOM</th>\n",
       "    </tr>\n",
       "    <tr>\n",
       "      <th>mdate</th>\n",
       "      <th></th>\n",
       "      <th></th>\n",
       "      <th></th>\n",
       "      <th></th>\n",
       "      <th></th>\n",
       "      <th></th>\n",
       "      <th></th>\n",
       "      <th></th>\n",
       "      <th></th>\n",
       "      <th></th>\n",
       "      <th></th>\n",
       "      <th></th>\n",
       "      <th></th>\n",
       "      <th></th>\n",
       "      <th></th>\n",
       "      <th></th>\n",
       "      <th></th>\n",
       "      <th></th>\n",
       "      <th></th>\n",
       "      <th></th>\n",
       "      <th></th>\n",
       "    </tr>\n",
       "  </thead>\n",
       "  <tbody>\n",
       "    <tr>\n",
       "      <th>2021-08-31</th>\n",
       "      <td>0.042438</td>\n",
       "      <td>0.044553</td>\n",
       "      <td>0.067677</td>\n",
       "      <td>-0.022578</td>\n",
       "      <td>-0.002815</td>\n",
       "      <td>-0.034379</td>\n",
       "      <td>0.152270</td>\n",
       "      <td>-0.032588</td>\n",
       "      <td>0.042659</td>\n",
       "      <td>-0.058996</td>\n",
       "      <td>...</td>\n",
       "      <td>0.027666</td>\n",
       "      <td>0.001521</td>\n",
       "      <td>0.009825</td>\n",
       "      <td>-0.003886</td>\n",
       "      <td>0.033309</td>\n",
       "      <td>-0.013983</td>\n",
       "      <td>-0.000871</td>\n",
       "      <td>0.046203</td>\n",
       "      <td>0.042792</td>\n",
       "      <td>-0.037867</td>\n",
       "    </tr>\n",
       "    <tr>\n",
       "      <th>2021-09-30</th>\n",
       "      <td>-0.068037</td>\n",
       "      <td>-0.065205</td>\n",
       "      <td>-0.132560</td>\n",
       "      <td>0.027800</td>\n",
       "      <td>-0.039179</td>\n",
       "      <td>-0.080364</td>\n",
       "      <td>0.011913</td>\n",
       "      <td>-0.047362</td>\n",
       "      <td>-0.070629</td>\n",
       "      <td>-0.057110</td>\n",
       "      <td>...</td>\n",
       "      <td>0.029985</td>\n",
       "      <td>0.006810</td>\n",
       "      <td>-0.057847</td>\n",
       "      <td>-0.096062</td>\n",
       "      <td>0.043736</td>\n",
       "      <td>-0.018000</td>\n",
       "      <td>0.015536</td>\n",
       "      <td>-0.033363</td>\n",
       "      <td>-0.058879</td>\n",
       "      <td>0.078870</td>\n",
       "    </tr>\n",
       "    <tr>\n",
       "      <th>2021-10-31</th>\n",
       "      <td>0.058657</td>\n",
       "      <td>0.094895</td>\n",
       "      <td>0.129646</td>\n",
       "      <td>0.035885</td>\n",
       "      <td>0.122899</td>\n",
       "      <td>0.113757</td>\n",
       "      <td>0.076517</td>\n",
       "      <td>0.061524</td>\n",
       "      <td>0.168416</td>\n",
       "      <td>-0.026711</td>\n",
       "      <td>...</td>\n",
       "      <td>0.108064</td>\n",
       "      <td>-0.018626</td>\n",
       "      <td>0.178456</td>\n",
       "      <td>0.231570</td>\n",
       "      <td>0.015646</td>\n",
       "      <td>-0.007036</td>\n",
       "      <td>0.102349</td>\n",
       "      <td>0.072777</td>\n",
       "      <td>0.072033</td>\n",
       "      <td>0.096056</td>\n",
       "    </tr>\n",
       "    <tr>\n",
       "      <th>2021-11-30</th>\n",
       "      <td>0.104940</td>\n",
       "      <td>-0.024207</td>\n",
       "      <td>0.029968</td>\n",
       "      <td>0.038965</td>\n",
       "      <td>0.028509</td>\n",
       "      <td>-0.199679</td>\n",
       "      <td>-0.109832</td>\n",
       "      <td>0.078888</td>\n",
       "      <td>0.317225</td>\n",
       "      <td>-0.030584</td>\n",
       "      <td>...</td>\n",
       "      <td>-0.000379</td>\n",
       "      <td>0.026083</td>\n",
       "      <td>-0.035290</td>\n",
       "      <td>-0.023861</td>\n",
       "      <td>-0.083320</td>\n",
       "      <td>-0.051330</td>\n",
       "      <td>-0.062158</td>\n",
       "      <td>0.002746</td>\n",
       "      <td>-0.058827</td>\n",
       "      <td>-0.058167</td>\n",
       "    </tr>\n",
       "    <tr>\n",
       "      <th>2021-12-31</th>\n",
       "      <td>0.074229</td>\n",
       "      <td>0.119027</td>\n",
       "      <td>-0.153452</td>\n",
       "      <td>-0.021026</td>\n",
       "      <td>0.072459</td>\n",
       "      <td>0.106220</td>\n",
       "      <td>0.087072</td>\n",
       "      <td>0.069094</td>\n",
       "      <td>-0.091368</td>\n",
       "      <td>0.131185</td>\n",
       "      <td>...</td>\n",
       "      <td>0.054786</td>\n",
       "      <td>-0.020273</td>\n",
       "      <td>0.133650</td>\n",
       "      <td>0.074138</td>\n",
       "      <td>0.023310</td>\n",
       "      <td>0.033618</td>\n",
       "      <td>0.004186</td>\n",
       "      <td>0.042354</td>\n",
       "      <td>0.032781</td>\n",
       "      <td>0.022560</td>\n",
       "    </tr>\n",
       "  </tbody>\n",
       "</table>\n",
       "<p>5 rows × 100 columns</p>\n",
       "</div>"
      ],
      "text/plain": [
       "ticker          AAPL       ABT      ADBE       ADI       ADP      ADSK  \\\n",
       "mdate                                                                    \n",
       "2021-08-31  0.042438  0.044553  0.067677 -0.022578 -0.002815 -0.034379   \n",
       "2021-09-30 -0.068037 -0.065205 -0.132560  0.027800 -0.039179 -0.080364   \n",
       "2021-10-31  0.058657  0.094895  0.129646  0.035885  0.122899  0.113757   \n",
       "2021-11-30  0.104940 -0.024207  0.029968  0.038965  0.028509 -0.199679   \n",
       "2021-12-31  0.074229  0.119027 -0.153452 -0.021026  0.072459  0.106220   \n",
       "\n",
       "ticker           AIG      AMAT       AMD      AMGN  ...       TMO       TXN  \\\n",
       "mdate                                               ...                       \n",
       "2021-08-31  0.152270 -0.032588  0.042659 -0.058996  ...  0.027666  0.001521   \n",
       "2021-09-30  0.011913 -0.047362 -0.070629 -0.057110  ...  0.029985  0.006810   \n",
       "2021-10-31  0.076517  0.061524  0.168416 -0.026711  ...  0.108064 -0.018626   \n",
       "2021-11-30 -0.109832  0.078888  0.317225 -0.030584  ... -0.000379  0.026083   \n",
       "2021-12-31  0.087072  0.069094 -0.091368  0.131185  ...  0.054786 -0.020273   \n",
       "\n",
       "ticker           UNH       UNP       USB        VZ       WFC        WM  \\\n",
       "mdate                                                                    \n",
       "2021-08-31  0.009825 -0.003886  0.033309 -0.013983 -0.000871  0.046203   \n",
       "2021-09-30 -0.057847 -0.096062  0.043736 -0.018000  0.015536 -0.033363   \n",
       "2021-10-31  0.178456  0.231570  0.015646 -0.007036  0.102349  0.072777   \n",
       "2021-11-30 -0.035290 -0.023861 -0.083320 -0.051330 -0.062158  0.002746   \n",
       "2021-12-31  0.133650  0.074138  0.023310  0.033618  0.004186  0.042354   \n",
       "\n",
       "ticker           WMT       XOM  \n",
       "mdate                           \n",
       "2021-08-31  0.042792 -0.037867  \n",
       "2021-09-30 -0.058879  0.078870  \n",
       "2021-10-31  0.072033  0.096056  \n",
       "2021-11-30 -0.058827 -0.058167  \n",
       "2021-12-31  0.032781  0.022560  \n",
       "\n",
       "[5 rows x 100 columns]"
      ]
     },
     "execution_count": 5,
     "metadata": {},
     "output_type": "execute_result"
    }
   ],
   "source": [
    "msf_ret = msf[['mdate', 'ticker', 'ret']].pivot(index='mdate', columns='ticker', values='ret')\n",
    "msf_ret.tail()"
   ]
  },
  {
   "cell_type": "code",
   "execution_count": 6,
   "metadata": {},
   "outputs": [],
   "source": [
    "sp500_s = msp500_rf[['mdate', 'spindx']].set_index('mdate')\n",
    "sp500_ret = sp500_s.pct_change().dropna()"
   ]
  },
  {
   "cell_type": "code",
   "execution_count": 7,
   "metadata": {},
   "outputs": [],
   "source": [
    "rf_s = msp500_rf[['mdate', 'rf']].set_index('mdate')"
   ]
  },
  {
   "cell_type": "markdown",
   "metadata": {},
   "source": [
    "## 1. mean & covariance\n",
    "\n",
    "- Assume there is no risk-free asset\n",
    "- Short-selling is allowed"
   ]
  },
  {
   "cell_type": "code",
   "execution_count": 8,
   "metadata": {},
   "outputs": [],
   "source": [
    "cov_df = msf_ret.cov()\n",
    "mean_s = msf_ret.mean()"
   ]
  },
  {
   "cell_type": "code",
   "execution_count": 9,
   "metadata": {},
   "outputs": [],
   "source": [
    "std_s = msf_ret.std()"
   ]
  },
  {
   "cell_type": "code",
   "execution_count": 10,
   "metadata": {},
   "outputs": [],
   "source": [
    "cov_2d = cov_df.values\n",
    "mean_v = mean_s.values\n",
    "std_v = std_s.values"
   ]
  },
  {
   "cell_type": "markdown",
   "metadata": {},
   "source": [
    "### (a) \n",
    "\n",
    "- Derive the mean-variance frontier using the standard deviation for measuring risk\n",
    "- Plot the mean-variance frontier\n",
    "- Indicate the global minimum portfolio (GMVP) on the plot"
   ]
  },
  {
   "cell_type": "code",
   "execution_count": 11,
   "metadata": {},
   "outputs": [],
   "source": [
    "def port_mean(W, mean_v, rf=0):\n",
    "    \"\"\"Get the mean of the portfolio\n",
    "\n",
    "    Args:\n",
    "        W (np.ndarray): 1*n array of weights\n",
    "        mean_v (np.ndarray): 1*n array of mean returns\n",
    "\n",
    "    Returns:\n",
    "        float: weighted mean return of the portfolio. (1, ) scalar\n",
    "    \"\"\"\n",
    "    return np.dot(W, mean_v - rf)"
   ]
  },
  {
   "cell_type": "code",
   "execution_count": 12,
   "metadata": {},
   "outputs": [],
   "source": [
    "# Test the function\n",
    "\n",
    "n = len(mean_v)\n",
    "W = np.ones((1, n)) / n"
   ]
  },
  {
   "cell_type": "code",
   "execution_count": 13,
   "metadata": {},
   "outputs": [
    {
     "data": {
      "text/plain": [
       "array([0.0146253])"
      ]
     },
     "execution_count": 13,
     "metadata": {},
     "output_type": "execute_result"
    }
   ],
   "source": [
    "port_mean(W, mean_v) "
   ]
  },
  {
   "cell_type": "code",
   "execution_count": 14,
   "metadata": {},
   "outputs": [],
   "source": [
    "def port_var(W, cov_2d):\n",
    "    \"\"\"Get the variance of the portfolio\n",
    "\n",
    "    Args:\n",
    "        W (np.ndarray): 1*n array of weights\n",
    "        cov_2d (np.ndarray): n*n array of covariance matrix\n",
    "\n",
    "    Returns:\n",
    "        float: variance of the portfolio. (1, 1) array\n",
    "    \"\"\"    \n",
    "    return np.dot(W, np.dot(cov_2d, W.T))"
   ]
  },
  {
   "cell_type": "code",
   "execution_count": 15,
   "metadata": {},
   "outputs": [
    {
     "data": {
      "text/plain": [
       "array([[0.00194029]])"
      ]
     },
     "execution_count": 15,
     "metadata": {},
     "output_type": "execute_result"
    }
   ],
   "source": [
    "port_var(W, cov_2d)"
   ]
  },
  {
   "cell_type": "code",
   "execution_count": 46,
   "metadata": {},
   "outputs": [],
   "source": [
    "def negative_port_sharpe(W, mean_v, cov_2d):\n",
    "    \"\"\"Get the Sharpe ratio of the portfolio\n",
    "\n",
    "    Args:\n",
    "        W (np.ndarray): 1*n array of weights\n",
    "        mean_v (np.ndarray): 1*n array of mean returns\n",
    "        cov_2d (np.ndarray): n*n array of covariance matrix\n",
    "        rf (float): risk-free rate\n",
    "\n",
    "    Returns:\n",
    "        float: Sharpe ratio of the portfolio. (1, 1) array\n",
    "    \"\"\"    \n",
    "    return -1 * port_mean(W, mean_v) / np.sqrt(port_var(W, cov_2d))"
   ]
  },
  {
   "cell_type": "code",
   "execution_count": 47,
   "metadata": {},
   "outputs": [
    {
     "data": {
      "text/plain": [
       "array([[-0.33202557]])"
      ]
     },
     "execution_count": 47,
     "metadata": {},
     "output_type": "execute_result"
    }
   ],
   "source": [
    "negative_port_sharpe(W, mean_v, cov_2d)"
   ]
  },
  {
   "cell_type": "code",
   "execution_count": 48,
   "metadata": {},
   "outputs": [],
   "source": [
    "def optimize_portfolio(mean_v, cov_2d):\n",
    "    \"\"\"Optimize the portfolio to get the maximum Sharpe ratio\n",
    "\n",
    "    Args:\n",
    "        mean_v (np.ndarray): 1*n array of mean returns\n",
    "        cov_2d (np.ndarray): n*n array of covariance matrix\n",
    "        rf (float): risk-free rate\n",
    "\n",
    "    Returns:\n",
    "        scipy.optimize.OptimizeResult: Result of the optimization\n",
    "    \"\"\"\n",
    "    n = len(mean_v)\n",
    "    args = (mean_v, cov_2d)\n",
    "    constraints = {\n",
    "        \"type\": \"eq\",\n",
    "        \"fun\": lambda W: np.sum(W) - 1,\n",
    "    }\n",
    "    bounds = tuple((-1, 1) for asset in range(n))\n",
    "\n",
    "    result = sco.minimize(\n",
    "        negative_port_sharpe,  # Minimize the negative Sharpe ratio = maximize the Sharpe ratio\n",
    "        n * [1.0 / n,],  # Initial guess\n",
    "        args=args,  # asset returns, covariance matrix\n",
    "        method=\"SLSQP\",\n",
    "        bounds=bounds,  # weights between -1 and 1\n",
    "        constraints=constraints,  # weights sum to 1\n",
    "    )\n",
    "\n",
    "    return result"
   ]
  },
  {
   "cell_type": "code",
   "execution_count": 41,
   "metadata": {},
   "outputs": [
    {
     "data": {
      "text/plain": [
       " message: Optimization terminated successfully\n",
       " success: True\n",
       "  status: 0\n",
       "     fun: -0.6829405383191701\n",
       "       x: [ 3.854e-02  4.338e-02 ...  2.784e-02  1.427e-02]\n",
       "     nit: 24\n",
       "     jac: [-1.634e-04 -6.087e-06 ... -7.312e-05 -2.859e-04]\n",
       "    nfev: 2452\n",
       "    njev: 24"
      ]
     },
     "execution_count": 41,
     "metadata": {},
     "output_type": "execute_result"
    }
   ],
   "source": [
    "optimize_portfolio(mean_v, cov_2d) # optimized result의 x가 optimal weights"
   ]
  },
  {
   "cell_type": "code",
   "execution_count": 42,
   "metadata": {},
   "outputs": [],
   "source": [
    "def get_efficient_frontier(mean_v, cov_2d, num_portfolios=100):\n",
    "    \"\"\"Get the efficient frontier\n",
    "\n",
    "    Args:\n",
    "        mean_v (np.ndarray): 1*n array of mean returns\n",
    "        cov_2d (np.ndarray): n*n array of covariance matrix\n",
    "        rf (float): risk-free rate\n",
    "\n",
    "    Returns:\n",
    "        np.ndarray: 3 * num_portfolios array of results // (portfolio return, portfolio std, portfolio sharpe ratio)\n",
    "        list: list of weights\n",
    "    \"\"\"\n",
    "\n",
    "    results = np.zeros((3, num_portfolios))\n",
    "    weights_record = []\n",
    "\n",
    "    for i in range(num_portfolios):\n",
    "        weights = np.random.uniform(-1, 1, len(mean_v))\n",
    "        weights /= np.sum(np.abs(weights))\n",
    "        # TODO: Weights don't sum to 1. If normalized, the resulting efficient frontier breaks.\n",
    "\n",
    "        p_ret, p_std = port_mean(weights, mean_v), np.sqrt(port_var(weights, cov_2d))\n",
    "        results[0, i] = p_ret\n",
    "        results[1, i] = p_std\n",
    "        results[2, i] = p_ret / p_std\n",
    "\n",
    "        weights_record.append(weights)\n",
    "    \n",
    "    return results, weights_record\n",
    "    "
   ]
  },
  {
   "cell_type": "code",
   "execution_count": 43,
   "metadata": {},
   "outputs": [],
   "source": [
    "results, weights_record = get_efficient_frontier(mean_v, cov_2d, num_portfolios=100)"
   ]
  },
  {
   "cell_type": "code",
   "execution_count": 50,
   "metadata": {},
   "outputs": [],
   "source": [
    "\n",
    "\n",
    "# Find the optimal portfolio (maximum Sharpe ratio)\n",
    "max_sharpe_idx = np.argmax(results[2])\n",
    "sdp, rp = results[1, max_sharpe_idx], results[0, max_sharpe_idx]\n",
    "# max_sharpe_allocation = pd.DataFrame(weights[max_sharpe_idx], index=returns_df.columns, columns=['allocation'])\n",
    "# max_sharpe_allocation.allocation = [round(i*100,2) for i in max_sharpe_allocation.allocation]\n",
    "\n"
   ]
  },
  {
   "cell_type": "code",
   "execution_count": 51,
   "metadata": {},
   "outputs": [
    {
     "data": {
      "image/png": "[encoded data removed]",
      "text/plain": [
       "<Figure size 1000x700 with 2 Axes>"
      ]
     },
     "metadata": {},
     "output_type": "display_data"
    }
   ],
   "source": [
    "\n",
    "# Plot the efficient frontier\n",
    "plt.figure(figsize=(10, 7))\n",
    "plt.scatter(results[1,:], results[0,:], c=results[2,:], cmap='YlGnBu', marker='o')\n",
    "plt.colorbar(label='Sharpe ratio')\n",
    "plt.scatter(sdp, rp, marker='*', color='r', s=200, label='Max Sharpe ratio')\n",
    "plt.title('Efficient Frontier with Short Selling Allowed')\n",
    "plt.xlabel('Risk (Std. Deviation)')\n",
    "plt.ylabel('Return')\n",
    "plt.legend(labelspacing=0.8)\n",
    "plt.show()\n"
   ]
  },
  {
   "cell_type": "code",
   "execution_count": 160,
   "metadata": {},
   "outputs": [
    {
     "data": {
      "text/plain": [
       "(array([ 0.01828259,  0.02307968,  0.0005709 ,  0.02608319, -0.00157507,\n",
       "         0.0112528 , -0.04734227, -0.00696406,  0.00583611, -0.00081697]),\n",
       " 474,\n",
       " 0.9999999999999997)"
      ]
     },
     "execution_count": 160,
     "metadata": {},
     "output_type": "execute_result"
    }
   ],
   "source": [
    "## Sum = 1이 되는 (-1, 1) 사이의 weights 생성\n",
    "\n",
    "def generate_random_weights(size):\n",
    "    # Step 1: Generate random weights with values between -1 and 1\n",
    "    weights = np.random.uniform(-1, 1, size)\n",
    "    \n",
    "    # Step 2: Compute the sum of the absolute values of these weights\n",
    "    abs_sum = np.sum(np.abs(weights))\n",
    "    \n",
    "    # Step 3: Normalize the weights by dividing each weight by the sum of the absolute values\n",
    "    normalized_weights = weights / abs_sum\n",
    "    \n",
    "    # Ensure the sum of weights is exactly 1\n",
    "    normalized_weights = normalized_weights / np.sum(normalized_weights)\n",
    "    \n",
    "    return normalized_weights\n",
    "\n",
    "# Example usage\n",
    "weights = generate_random_weights(1000)\n",
    "negative_weights_count = (weights < 0).sum()\n",
    "weights_sum = np.sum(weights)\n",
    "weights[:10], negative_weights_count, weights_sum\n"
   ]
  }
 ],
 "metadata": {
  "kernelspec": {
   "display_name": ".venv",
   "language": "python",
   "name": "python3"
  },
  "language_info": {
   "codemirror_mode": {
    "name": "ipython",
    "version": 3
   },
   "file_extension": ".py",
   "mimetype": "text/x-python",
   "name": "python",
   "nbconvert_exporter": "python",
   "pygments_lexer": "ipython3",
   "version": "3.11.5"
  }
 },
 "nbformat": 4,
 "nbformat_minor": 2
}
