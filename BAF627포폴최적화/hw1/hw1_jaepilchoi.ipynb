{
 "cells": [
  {
   "cell_type": "markdown",
   "metadata": {},
   "source": [
    "# BAF627 HW1 \n",
    "\n",
    "20249433 MFE 최재필\n"
   ]
  },
  {
   "cell_type": "code",
   "execution_count": 3,
   "metadata": {},
   "outputs": [],
   "source": [
    "import numpy as np\n",
    "import pandas as pd\n",
    "\n",
    "import matplotlib.pyplot as plt\n",
    "import seaborn as sns\n",
    "\n",
    "from pathlib import Path\n",
    "\n",
    "import scipy.optimize as sco\n",
    "\n",
    "from tqdm import tqdm"
   ]
  },
  {
   "cell_type": "code",
   "execution_count": 4,
   "metadata": {},
   "outputs": [],
   "source": [
    "msf = pd.read_csv('msf.csv')\n",
    "msp500_rf = pd.read_csv('msp500_risk_free.csv')"
   ]
  },
  {
   "cell_type": "code",
   "execution_count": 5,
   "metadata": {},
   "outputs": [],
   "source": [
    "msf['mdate'] = pd.to_datetime(msf['mdate'])"
   ]
  },
  {
   "cell_type": "code",
   "execution_count": 6,
   "metadata": {},
   "outputs": [],
   "source": [
    "msp500_rf['mdate'] = pd.to_datetime(msp500_rf['mdate'])"
   ]
  },
  {
   "cell_type": "code",
   "execution_count": 7,
   "metadata": {},
   "outputs": [
    {
     "data": {
      "text/html": [
       "<div>\n",
       "<style scoped>\n",
       "    .dataframe tbody tr th:only-of-type {\n",
       "        vertical-align: middle;\n",
       "    }\n",
       "\n",
       "    .dataframe tbody tr th {\n",
       "        vertical-align: top;\n",
       "    }\n",
       "\n",
       "    .dataframe thead th {\n",
       "        text-align: right;\n",
       "    }\n",
       "</style>\n",
       "<table border=\"1\" class=\"dataframe\">\n",
       "  <thead>\n",
       "    <tr style=\"text-align: right;\">\n",
       "      <th>ticker</th>\n",
       "      <th>AAPL</th>\n",
       "      <th>ABT</th>\n",
       "      <th>ADBE</th>\n",
       "      <th>ADI</th>\n",
       "      <th>ADP</th>\n",
       "      <th>ADSK</th>\n",
       "      <th>AIG</th>\n",
       "      <th>AMAT</th>\n",
       "      <th>AMD</th>\n",
       "      <th>AMGN</th>\n",
       "      <th>...</th>\n",
       "      <th>TMO</th>\n",
       "      <th>TXN</th>\n",
       "      <th>UNH</th>\n",
       "      <th>UNP</th>\n",
       "      <th>USB</th>\n",
       "      <th>VZ</th>\n",
       "      <th>WFC</th>\n",
       "      <th>WM</th>\n",
       "      <th>WMT</th>\n",
       "      <th>XOM</th>\n",
       "    </tr>\n",
       "    <tr>\n",
       "      <th>mdate</th>\n",
       "      <th></th>\n",
       "      <th></th>\n",
       "      <th></th>\n",
       "      <th></th>\n",
       "      <th></th>\n",
       "      <th></th>\n",
       "      <th></th>\n",
       "      <th></th>\n",
       "      <th></th>\n",
       "      <th></th>\n",
       "      <th></th>\n",
       "      <th></th>\n",
       "      <th></th>\n",
       "      <th></th>\n",
       "      <th></th>\n",
       "      <th></th>\n",
       "      <th></th>\n",
       "      <th></th>\n",
       "      <th></th>\n",
       "      <th></th>\n",
       "      <th></th>\n",
       "    </tr>\n",
       "  </thead>\n",
       "  <tbody>\n",
       "    <tr>\n",
       "      <th>2021-08-31</th>\n",
       "      <td>0.042438</td>\n",
       "      <td>0.044553</td>\n",
       "      <td>0.067677</td>\n",
       "      <td>-0.022578</td>\n",
       "      <td>-0.002815</td>\n",
       "      <td>-0.034379</td>\n",
       "      <td>0.152270</td>\n",
       "      <td>-0.032588</td>\n",
       "      <td>0.042659</td>\n",
       "      <td>-0.058996</td>\n",
       "      <td>...</td>\n",
       "      <td>0.027666</td>\n",
       "      <td>0.001521</td>\n",
       "      <td>0.009825</td>\n",
       "      <td>-0.003886</td>\n",
       "      <td>0.033309</td>\n",
       "      <td>-0.013983</td>\n",
       "      <td>-0.000871</td>\n",
       "      <td>0.046203</td>\n",
       "      <td>0.042792</td>\n",
       "      <td>-0.037867</td>\n",
       "    </tr>\n",
       "    <tr>\n",
       "      <th>2021-09-30</th>\n",
       "      <td>-0.068037</td>\n",
       "      <td>-0.065205</td>\n",
       "      <td>-0.132560</td>\n",
       "      <td>0.027800</td>\n",
       "      <td>-0.039179</td>\n",
       "      <td>-0.080364</td>\n",
       "      <td>0.011913</td>\n",
       "      <td>-0.047362</td>\n",
       "      <td>-0.070629</td>\n",
       "      <td>-0.057110</td>\n",
       "      <td>...</td>\n",
       "      <td>0.029985</td>\n",
       "      <td>0.006810</td>\n",
       "      <td>-0.057847</td>\n",
       "      <td>-0.096062</td>\n",
       "      <td>0.043736</td>\n",
       "      <td>-0.018000</td>\n",
       "      <td>0.015536</td>\n",
       "      <td>-0.033363</td>\n",
       "      <td>-0.058879</td>\n",
       "      <td>0.078870</td>\n",
       "    </tr>\n",
       "    <tr>\n",
       "      <th>2021-10-31</th>\n",
       "      <td>0.058657</td>\n",
       "      <td>0.094895</td>\n",
       "      <td>0.129646</td>\n",
       "      <td>0.035885</td>\n",
       "      <td>0.122899</td>\n",
       "      <td>0.113757</td>\n",
       "      <td>0.076517</td>\n",
       "      <td>0.061524</td>\n",
       "      <td>0.168416</td>\n",
       "      <td>-0.026711</td>\n",
       "      <td>...</td>\n",
       "      <td>0.108064</td>\n",
       "      <td>-0.018626</td>\n",
       "      <td>0.178456</td>\n",
       "      <td>0.231570</td>\n",
       "      <td>0.015646</td>\n",
       "      <td>-0.007036</td>\n",
       "      <td>0.102349</td>\n",
       "      <td>0.072777</td>\n",
       "      <td>0.072033</td>\n",
       "      <td>0.096056</td>\n",
       "    </tr>\n",
       "    <tr>\n",
       "      <th>2021-11-30</th>\n",
       "      <td>0.104940</td>\n",
       "      <td>-0.024207</td>\n",
       "      <td>0.029968</td>\n",
       "      <td>0.038965</td>\n",
       "      <td>0.028509</td>\n",
       "      <td>-0.199679</td>\n",
       "      <td>-0.109832</td>\n",
       "      <td>0.078888</td>\n",
       "      <td>0.317225</td>\n",
       "      <td>-0.030584</td>\n",
       "      <td>...</td>\n",
       "      <td>-0.000379</td>\n",
       "      <td>0.026083</td>\n",
       "      <td>-0.035290</td>\n",
       "      <td>-0.023861</td>\n",
       "      <td>-0.083320</td>\n",
       "      <td>-0.051330</td>\n",
       "      <td>-0.062158</td>\n",
       "      <td>0.002746</td>\n",
       "      <td>-0.058827</td>\n",
       "      <td>-0.058167</td>\n",
       "    </tr>\n",
       "    <tr>\n",
       "      <th>2021-12-31</th>\n",
       "      <td>0.074229</td>\n",
       "      <td>0.119027</td>\n",
       "      <td>-0.153452</td>\n",
       "      <td>-0.021026</td>\n",
       "      <td>0.072459</td>\n",
       "      <td>0.106220</td>\n",
       "      <td>0.087072</td>\n",
       "      <td>0.069094</td>\n",
       "      <td>-0.091368</td>\n",
       "      <td>0.131185</td>\n",
       "      <td>...</td>\n",
       "      <td>0.054786</td>\n",
       "      <td>-0.020273</td>\n",
       "      <td>0.133650</td>\n",
       "      <td>0.074138</td>\n",
       "      <td>0.023310</td>\n",
       "      <td>0.033618</td>\n",
       "      <td>0.004186</td>\n",
       "      <td>0.042354</td>\n",
       "      <td>0.032781</td>\n",
       "      <td>0.022560</td>\n",
       "    </tr>\n",
       "  </tbody>\n",
       "</table>\n",
       "<p>5 rows × 100 columns</p>\n",
       "</div>"
      ],
      "text/plain": [
       "ticker          AAPL       ABT      ADBE       ADI       ADP      ADSK  \\\n",
       "mdate                                                                    \n",
       "2021-08-31  0.042438  0.044553  0.067677 -0.022578 -0.002815 -0.034379   \n",
       "2021-09-30 -0.068037 -0.065205 -0.132560  0.027800 -0.039179 -0.080364   \n",
       "2021-10-31  0.058657  0.094895  0.129646  0.035885  0.122899  0.113757   \n",
       "2021-11-30  0.104940 -0.024207  0.029968  0.038965  0.028509 -0.199679   \n",
       "2021-12-31  0.074229  0.119027 -0.153452 -0.021026  0.072459  0.106220   \n",
       "\n",
       "ticker           AIG      AMAT       AMD      AMGN  ...       TMO       TXN  \\\n",
       "mdate                                               ...                       \n",
       "2021-08-31  0.152270 -0.032588  0.042659 -0.058996  ...  0.027666  0.001521   \n",
       "2021-09-30  0.011913 -0.047362 -0.070629 -0.057110  ...  0.029985  0.006810   \n",
       "2021-10-31  0.076517  0.061524  0.168416 -0.026711  ...  0.108064 -0.018626   \n",
       "2021-11-30 -0.109832  0.078888  0.317225 -0.030584  ... -0.000379  0.026083   \n",
       "2021-12-31  0.087072  0.069094 -0.091368  0.131185  ...  0.054786 -0.020273   \n",
       "\n",
       "ticker           UNH       UNP       USB        VZ       WFC        WM  \\\n",
       "mdate                                                                    \n",
       "2021-08-31  0.009825 -0.003886  0.033309 -0.013983 -0.000871  0.046203   \n",
       "2021-09-30 -0.057847 -0.096062  0.043736 -0.018000  0.015536 -0.033363   \n",
       "2021-10-31  0.178456  0.231570  0.015646 -0.007036  0.102349  0.072777   \n",
       "2021-11-30 -0.035290 -0.023861 -0.083320 -0.051330 -0.062158  0.002746   \n",
       "2021-12-31  0.133650  0.074138  0.023310  0.033618  0.004186  0.042354   \n",
       "\n",
       "ticker           WMT       XOM  \n",
       "mdate                           \n",
       "2021-08-31  0.042792 -0.037867  \n",
       "2021-09-30 -0.058879  0.078870  \n",
       "2021-10-31  0.072033  0.096056  \n",
       "2021-11-30 -0.058827 -0.058167  \n",
       "2021-12-31  0.032781  0.022560  \n",
       "\n",
       "[5 rows x 100 columns]"
      ]
     },
     "execution_count": 7,
     "metadata": {},
     "output_type": "execute_result"
    }
   ],
   "source": [
    "msf_ret = msf[['mdate', 'ticker', 'ret']].pivot(index='mdate', columns='ticker', values='ret')\n",
    "msf_ret.tail()"
   ]
  },
  {
   "cell_type": "code",
   "execution_count": 8,
   "metadata": {},
   "outputs": [],
   "source": [
    "sp500_s = msp500_rf[['mdate', 'spindx']].set_index('mdate')\n",
    "sp500_ret = sp500_s.pct_change().dropna()"
   ]
  },
  {
   "cell_type": "code",
   "execution_count": 9,
   "metadata": {},
   "outputs": [],
   "source": [
    "rf_s = msp500_rf[['mdate', 'rf']].set_index('mdate')"
   ]
  },
  {
   "cell_type": "markdown",
   "metadata": {},
   "source": [
    "## 1. mean & covariance\n",
    "\n",
    "- Assume there is no risk-free asset\n",
    "- Short-selling is allowed"
   ]
  },
  {
   "cell_type": "code",
   "execution_count": 10,
   "metadata": {},
   "outputs": [],
   "source": [
    "cov_df = msf_ret.cov()\n",
    "mean_s = msf_ret.mean()"
   ]
  },
  {
   "cell_type": "code",
   "execution_count": 11,
   "metadata": {},
   "outputs": [],
   "source": [
    "std_s = msf_ret.std()"
   ]
  },
  {
   "cell_type": "code",
   "execution_count": 12,
   "metadata": {},
   "outputs": [],
   "source": [
    "cov_2d = cov_df.values\n",
    "mean_v = mean_s.values\n",
    "std_v = std_s.values"
   ]
  },
  {
   "cell_type": "markdown",
   "metadata": {},
   "source": [
    "### (a) \n",
    "\n",
    "- Derive the mean-variance frontier using the standard deviation for measuring risk\n",
    "- Plot the mean-variance frontier\n",
    "- Indicate the global minimum portfolio (GMVP) on the plot"
   ]
  },
  {
   "cell_type": "code",
   "execution_count": 13,
   "metadata": {},
   "outputs": [],
   "source": [
    "def port_mean(W, mean_v, rf=0):\n",
    "    \"\"\"Get the mean of the portfolio\n",
    "\n",
    "    Args:\n",
    "        W (np.ndarray): 1*n array of weights\n",
    "        mean_v (np.ndarray): 1*n array of mean returns\n",
    "\n",
    "    Returns:\n",
    "        float: weighted mean return of the portfolio. (1, ) scalar\n",
    "    \"\"\"\n",
    "    return np.dot(W, mean_v - rf)"
   ]
  },
  {
   "cell_type": "code",
   "execution_count": 14,
   "metadata": {},
   "outputs": [],
   "source": [
    "# Test the function\n",
    "\n",
    "n = len(mean_v)\n",
    "W = np.ones((1, n)) / n"
   ]
  },
  {
   "cell_type": "code",
   "execution_count": 15,
   "metadata": {},
   "outputs": [
    {
     "data": {
      "text/plain": [
       "array([0.0146253])"
      ]
     },
     "execution_count": 15,
     "metadata": {},
     "output_type": "execute_result"
    }
   ],
   "source": [
    "port_mean(W, mean_v) "
   ]
  },
  {
   "cell_type": "code",
   "execution_count": 16,
   "metadata": {},
   "outputs": [],
   "source": [
    "def port_var(W, cov_2d):\n",
    "    \"\"\"Get the variance of the portfolio\n",
    "\n",
    "    Args:\n",
    "        W (np.ndarray): 1*n array of weights\n",
    "        cov_2d (np.ndarray): n*n array of covariance matrix\n",
    "\n",
    "    Returns:\n",
    "        float: variance of the portfolio. (1, 1) array\n",
    "    \"\"\"    \n",
    "    return np.dot(W, np.dot(cov_2d, W.T))"
   ]
  },
  {
   "cell_type": "code",
   "execution_count": 17,
   "metadata": {},
   "outputs": [
    {
     "data": {
      "text/plain": [
       "array([[0.00194029]])"
      ]
     },
     "execution_count": 17,
     "metadata": {},
     "output_type": "execute_result"
    }
   ],
   "source": [
    "port_var(W, cov_2d)"
   ]
  },
  {
   "cell_type": "code",
   "execution_count": 18,
   "metadata": {},
   "outputs": [],
   "source": [
    "def negative_port_sharpe(W, mean_v, cov_2d):\n",
    "    \"\"\"Get the Sharpe ratio of the portfolio\n",
    "\n",
    "    Args:\n",
    "        W (np.ndarray): 1*n array of weights\n",
    "        mean_v (np.ndarray): 1*n array of mean returns\n",
    "        cov_2d (np.ndarray): n*n array of covariance matrix\n",
    "        rf (float): risk-free rate\n",
    "\n",
    "    Returns:\n",
    "        float: Sharpe ratio of the portfolio. (1, 1) array\n",
    "    \"\"\"    \n",
    "    return -1 * port_mean(W, mean_v) / np.sqrt(port_var(W, cov_2d))"
   ]
  },
  {
   "cell_type": "code",
   "execution_count": 19,
   "metadata": {},
   "outputs": [
    {
     "data": {
      "text/plain": [
       "array([[-0.33202557]])"
      ]
     },
     "execution_count": 19,
     "metadata": {},
     "output_type": "execute_result"
    }
   ],
   "source": [
    "negative_port_sharpe(W, mean_v, cov_2d)"
   ]
  },
  {
   "cell_type": "code",
   "execution_count": 20,
   "metadata": {},
   "outputs": [],
   "source": [
    "def optimize_portfolio(mean_v, cov_2d):\n",
    "    \"\"\"Optimize the portfolio to get the maximum Sharpe ratio\n",
    "\n",
    "    Args:\n",
    "        mean_v (np.ndarray): 1*n array of mean returns\n",
    "        cov_2d (np.ndarray): n*n array of covariance matrix\n",
    "        rf (float): risk-free rate\n",
    "\n",
    "    Returns:\n",
    "        scipy.optimize.OptimizeResult: Result of the optimization\n",
    "    \"\"\"\n",
    "    n = len(mean_v)\n",
    "    args = (mean_v, cov_2d)\n",
    "    constraints = {\n",
    "        \"type\": \"eq\",\n",
    "        \"fun\": lambda W: np.sum(W) - 1,\n",
    "    }\n",
    "    bounds = tuple((-1, 1) for asset in range(n))\n",
    "\n",
    "    result = sco.minimize(\n",
    "        negative_port_sharpe,  # Minimize the negative Sharpe ratio = maximize the Sharpe ratio\n",
    "        n * [1.0 / n,],  # Initial guess\n",
    "        args=args,  # asset returns, covariance matrix\n",
    "        method=\"SLSQP\",\n",
    "        bounds=bounds,  # weights between -1 and 1\n",
    "        constraints=constraints,  # weights sum to 1\n",
    "    )\n",
    "\n",
    "    return result"
   ]
  },
  {
   "cell_type": "code",
   "execution_count": 21,
   "metadata": {},
   "outputs": [],
   "source": [
    "def optimize_portfolio_given_return(ret, mean_v, cov_2d):\n",
    "    \"\"\"Optimize the portfolio to get the maximum Sharpe ratio\n",
    "\n",
    "    Args:\n",
    "        mean_v (np.ndarray): 1*n array of mean returns\n",
    "        cov_2d (np.ndarray): n*n array of covariance matrix\n",
    "        rf (float): risk-free rate\n",
    "\n",
    "    Returns:\n",
    "        scipy.optimize.OptimizeResult: Result of the optimization\n",
    "    \"\"\"\n",
    "    n = len(mean_v)\n",
    "    args = (mean_v, cov_2d)\n",
    "    constraints = [\n",
    "        {\"type\": \"eq\", \"fun\": lambda W: np.sum(W) - 1,}, \n",
    "        {\"type\": \"eq\", \"fun\": lambda W: port_mean(W, mean_v) - ret,}\n",
    "        ]\n",
    "    bounds = tuple((-1, 1) for asset in range(n))\n",
    "\n",
    "    result = sco.minimize(\n",
    "        negative_port_sharpe,  # Minimize the negative Sharpe ratio = maximize the Sharpe ratio\n",
    "        n * [1.0 / n,],  # Initial guess\n",
    "        args=args,  # asset returns, covariance matrix\n",
    "        method=\"SLSQP\",\n",
    "        bounds=bounds,  # weights between -1 and 1\n",
    "        constraints=constraints,  # weights sum to 1\n",
    "    )\n",
    "\n",
    "    return result"
   ]
  },
  {
   "cell_type": "code",
   "execution_count": 22,
   "metadata": {},
   "outputs": [
    {
     "data": {
      "text/plain": [
       " message: Optimization terminated successfully\n",
       " success: True\n",
       "  status: 0\n",
       "     fun: -0.6829405383191701\n",
       "       x: [ 3.854e-02  4.338e-02 ...  2.784e-02  1.427e-02]\n",
       "     nit: 24\n",
       "     jac: [-1.634e-04 -6.087e-06 ... -7.312e-05 -2.859e-04]\n",
       "    nfev: 2452\n",
       "    njev: 24"
      ]
     },
     "execution_count": 22,
     "metadata": {},
     "output_type": "execute_result"
    }
   ],
   "source": [
    "optimize_portfolio(mean_v, cov_2d) # optimized result의 x가 optimal weights"
   ]
  },
  {
   "cell_type": "code",
   "execution_count": 23,
   "metadata": {},
   "outputs": [],
   "source": [
    "def get_opportunity_set(mean_v, cov_2d, num_portfolios=100):\n",
    "    \"\"\"Get the opportunity set by generating random portfolios\n",
    "\n",
    "    Args:\n",
    "        mean_v (np.ndarray): 1*n array of mean returns\n",
    "        cov_2d (np.ndarray): n*n array of covariance matrix\n",
    "        num_portfolios (int): number of random portfolios to generate\n",
    "\n",
    "    Returns:\n",
    "        np.ndarray: 3 * num_portfolios array of results // (portfolio return, portfolio std, portfolio sharpe ratio)\n",
    "        list: list of weights\n",
    "    \"\"\"\n",
    "\n",
    "    results = np.zeros((3, num_portfolios))\n",
    "    weights_record = []\n",
    "\n",
    "    for i in range(num_portfolios):\n",
    "        weights = np.random.uniform(-1, 1, len(mean_v))\n",
    "        weights /= np.sum(np.abs(weights))\n",
    "        # TODO: Weights don't sum to 1. If normalized, the resulting efficient frontier breaks.\n",
    "\n",
    "        p_ret, p_std = port_mean(weights, mean_v), np.sqrt(port_var(weights, cov_2d))\n",
    "        results[0, i] = p_ret\n",
    "        results[1, i] = p_std\n",
    "        results[2, i] = p_ret / p_std\n",
    "\n",
    "        weights_record.append(weights)\n",
    "    \n",
    "    return results, weights_record\n",
    "    "
   ]
  },
  {
   "cell_type": "code",
   "execution_count": 24,
   "metadata": {},
   "outputs": [],
   "source": [
    "def get_efficient_frontier(mean_v, cov_2d, return_range=[-0.1, 0.1], num_portfolios=100):\n",
    "    \"\"\"Get the efficient frontier by optimizing the portfolio for each return given the range\n",
    "\n",
    "    Args:\n",
    "        mean_v (np.ndarray): 1*n array of mean returns\n",
    "        cov_2d (np.ndarray): n*n array of covariance matrix\n",
    "        return_range (list): range of return to optimize the portfolio\n",
    "        num_portfolios (int): number of portfolios to generate\n",
    "\n",
    "    Returns:\n",
    "        np.ndarray: 3 * num_portfolios array of results // (portfolio return, portfolio std, portfolio sharpe ratio)\n",
    "        list: list of weights\n",
    "    \"\"\"\n",
    "    weights_record = []\n",
    "\n",
    "    min_ret, max_ret = return_range\n",
    "    ret_range = np.linspace(min_ret, max_ret, num_portfolios)\n",
    "    results = np.zeros((3, len(ret_range)))\n",
    "\n",
    "    for i, ret in enumerate(tqdm(ret_range, desc=f'Calculating optimum weights in range {min_ret} to {max_ret} for {num_portfolios} portfolios')):\n",
    "        result = optimize_portfolio_given_return(ret, mean_v, cov_2d)\n",
    "        weights = result.x\n",
    "\n",
    "        p_ret, p_std = port_mean(weights, mean_v), np.sqrt(port_var(weights, cov_2d))\n",
    "        results[0, i] = p_ret\n",
    "        results[1, i] = p_std\n",
    "        results[2, i] = p_ret / p_std\n",
    "\n",
    "        weights_record.append(weights)\n",
    "        \n",
    "    return results, weights_record\n",
    "    "
   ]
  },
  {
   "cell_type": "code",
   "execution_count": 25,
   "metadata": {},
   "outputs": [],
   "source": [
    "results, weights_record = get_opportunity_set(mean_v, cov_2d, num_portfolios=100)"
   ]
  },
  {
   "cell_type": "code",
   "execution_count": 26,
   "metadata": {},
   "outputs": [],
   "source": [
    "# Tangent portfolio\n",
    "max_sharpe_idx = np.argmax(results[2])\n",
    "tangent_p_std, tangent_p_ret = results[1, max_sharpe_idx], results[0, max_sharpe_idx]\n",
    "\n",
    "# Global minimum variance portfolio\n",
    "min_vol_idx = np.argmin(results[1])\n",
    "gmvp_std, gmvp_ret = results[1, min_vol_idx], results[0, min_vol_idx]\n",
    "\n"
   ]
  },
  {
   "cell_type": "code",
   "execution_count": 27,
   "metadata": {},
   "outputs": [
    {
     "data": {
      "image/png": "[encoded data removed]",
      "text/plain": [
       "<Figure size 1000x700 with 2 Axes>"
      ]
     },
     "metadata": {},
     "output_type": "display_data"
    }
   ],
   "source": [
    "\n",
    "# Plot the efficient frontier\n",
    "plt.figure(figsize=(10, 7))\n",
    "plt.scatter(results[1,:], results[0,:], c=results[2,:], cmap='YlGnBu', marker='o')\n",
    "plt.colorbar(label='Sharpe ratio')\n",
    "plt.scatter(gmvp_std, gmvp_ret, marker='*', color='r', s=200, label='GMVP')\n",
    "plt.title('Efficient Frontier with Short Selling Allowed')\n",
    "plt.xlabel('Risk (Std. Deviation)')\n",
    "plt.ylabel('Return')\n",
    "plt.legend(labelspacing=0.8)\n",
    "plt.show()\n"
   ]
  },
  {
   "cell_type": "code",
   "execution_count": 93,
   "metadata": {},
   "outputs": [
    {
     "name": "stderr",
     "output_type": "stream",
     "text": [
      "Calculating optimum weights in range -0.1 to 0.1 for 10 portfolios:   0%|          | 0/10 [00:00<?, ?it/s]"
     ]
    },
    {
     "name": "stderr",
     "output_type": "stream",
     "text": [
      "Calculating optimum weights in range -0.1 to 0.1 for 10 portfolios: 100%|██████████| 10/10 [00:18<00:00,  1.83s/it]\n"
     ]
    }
   ],
   "source": [
    "results, weights_record = get_efficient_frontier(mean_v, cov_2d, num_portfolios=10)"
   ]
  },
  {
   "cell_type": "code",
   "execution_count": 94,
   "metadata": {},
   "outputs": [],
   "source": [
    "# Tangent portfolio\n",
    "max_sharpe_idx = np.argmax(results[2])\n",
    "tangent_p_std, tangent_p_ret = results[1, max_sharpe_idx], results[0, max_sharpe_idx]\n",
    "\n",
    "# Global minimum variance portfolio\n",
    "min_vol_idx = np.argmin(results[1])\n",
    "gmvp_std, gmvp_ret = results[1, min_vol_idx], results[0, min_vol_idx]\n",
    "\n"
   ]
  },
  {
   "cell_type": "code",
   "execution_count": 95,
   "metadata": {},
   "outputs": [
    {
     "data": {
      "image/png": "[encoded data removed]",
      "text/plain": [
       "<Figure size 1000x700 with 2 Axes>"
      ]
     },
     "metadata": {},
     "output_type": "display_data"
    }
   ],
   "source": [
    "\n",
    "# Plot the efficient frontier\n",
    "plt.figure(figsize=(10, 7))\n",
    "plt.scatter(results[1,:], results[0,:], c=results[2,:], cmap='YlGnBu', marker='o')\n",
    "plt.colorbar(label='Sharpe ratio')\n",
    "plt.scatter(gmvp_std, gmvp_ret, marker='*', color='r', s=200, label='GMVP')\n",
    "plt.title('Efficient Frontier with Short Selling Allowed')\n",
    "plt.xlabel('Risk (Std. Deviation)')\n",
    "plt.ylabel('Return')\n",
    "plt.legend(labelspacing=0.8)\n",
    "plt.show()\n"
   ]
  },
  {
   "cell_type": "code",
   "execution_count": 30,
   "metadata": {},
   "outputs": [],
   "source": [
    "import numpy as np\n",
    "import scipy.optimize as sco\n",
    "from concurrent.futures import ThreadPoolExecutor, as_completed\n",
    "from tqdm.notebook import tqdm\n",
    "\n",
    "# Assume port_mean, port_var, negative_port_sharpe are defined elsewhere\n",
    "\n",
    "def optimize_portfolio_given_return(ret, mean_v, cov_2d):\n",
    "    \"\"\"Optimize the portfolio to get the maximum Sharpe ratio\n",
    "\n",
    "    Args:\n",
    "        ret (float): target return\n",
    "        mean_v (np.ndarray): 1*n array of mean returns\n",
    "        cov_2d (np.ndarray): n*n array of covariance matrix\n",
    "\n",
    "    Returns:\n",
    "        scipy.optimize.OptimizeResult: Result of the optimization\n",
    "    \"\"\"\n",
    "    n = len(mean_v)\n",
    "    args = (mean_v, cov_2d)\n",
    "    constraints = [\n",
    "        {\"type\": \"eq\", \"fun\": lambda W: np.sum(W) - 1}, \n",
    "        {\"type\": \"eq\", \"fun\": lambda W: port_mean(W, mean_v) - ret}\n",
    "    ]\n",
    "    bounds = tuple((-1, 1) for _ in range(n))\n",
    "\n",
    "    result = sco.minimize(\n",
    "        negative_port_sharpe,  # Minimize the negative Sharpe ratio = maximize the Sharpe ratio\n",
    "        n * [1.0 / n],  # Initial guess\n",
    "        args=args,  # asset returns, covariance matrix\n",
    "        method=\"SLSQP\",\n",
    "        bounds=bounds,  # weights between -1 and 1\n",
    "        constraints=constraints,  # weights sum to 1\n",
    "    )\n",
    "\n",
    "    return result\n",
    "\n",
    "def calculate_optimization(ret, mean_v, cov_2d):\n",
    "    \"\"\"Helper function to perform optimization and return results\"\"\"\n",
    "    result = optimize_portfolio_given_return(ret, mean_v, cov_2d)\n",
    "    weights = result.x\n",
    "    p_ret = port_mean(weights, mean_v)\n",
    "    p_std = np.sqrt(port_var(weights, cov_2d))\n",
    "    sharpe_ratio = p_ret / p_std\n",
    "    return p_ret, p_std, sharpe_ratio, weights\n",
    "\n",
    "def get_efficient_frontier(mean_v, cov_2d, return_range=[-0.1, 0.1], num_portfolios=100):\n",
    "    \"\"\"Get the efficient frontier by optimizing the portfolio for each return given the range\n",
    "\n",
    "    Args:\n",
    "        mean_v (np.ndarray): 1*n array of mean returns\n",
    "        cov_2d (np.ndarray): n*n array of covariance matrix\n",
    "        return_range (list): range of return to optimize the portfolio\n",
    "        num_portfolios (int): number of portfolios to generate\n",
    "\n",
    "    Returns:\n",
    "        np.ndarray: 3 * num_portfolios array of results // (portfolio return, portfolio std, portfolio sharpe ratio)\n",
    "        list: list of weights\n",
    "    \"\"\"\n",
    "    min_ret, max_ret = return_range\n",
    "    ret_range = np.linspace(min_ret, max_ret, num_portfolios)\n",
    "    \n",
    "    results_array = np.zeros((3, num_portfolios))\n",
    "    weights_record = []\n",
    "    \n",
    "    with ThreadPoolExecutor() as executor:\n",
    "        futures = {executor.submit(calculate_optimization, ret, mean_v, cov_2d): ret for ret in ret_range}\n",
    "        for future in tqdm(as_completed(futures), total=num_portfolios, desc=f'Calculating optimum weights in range {min_ret} to {max_ret} for {num_portfolios} portfolios'):\n",
    "            ret = futures[future]\n",
    "            try:\n",
    "                p_ret, p_std, sharpe_ratio, weights = future.result()\n",
    "                idx = np.where(ret_range == ret)[0][0]\n",
    "                results_array[0, idx] = p_ret\n",
    "                results_array[1, idx] = p_std\n",
    "                results_array[2, idx] = sharpe_ratio\n",
    "                weights_record.append(weights)\n",
    "            except Exception as exc:\n",
    "                print(f'Return {ret} generated an exception: {exc}')\n",
    "    \n",
    "    return results_array, weights_record\n"
   ]
  },
  {
   "cell_type": "code",
   "execution_count": 31,
   "metadata": {},
   "outputs": [
    {
     "ename": "ImportError",
     "evalue": "IProgress not found. Please update jupyter and ipywidgets. See https://ipywidgets.readthedocs.io/en/stable/user_install.html",
     "output_type": "error",
     "traceback": [
      "\u001b[1;31m---------------------------------------------------------------------------\u001b[0m",
      "\u001b[1;31mImportError\u001b[0m                               Traceback (most recent call last)",
      "Cell \u001b[1;32mIn[31], line 1\u001b[0m\n\u001b[1;32m----> 1\u001b[0m results, weights_record \u001b[38;5;241m=\u001b[39m \u001b[43mget_efficient_frontier\u001b[49m\u001b[43m(\u001b[49m\u001b[43mmean_v\u001b[49m\u001b[43m,\u001b[49m\u001b[43m \u001b[49m\u001b[43mcov_2d\u001b[49m\u001b[43m,\u001b[49m\u001b[43m \u001b[49m\u001b[43mnum_portfolios\u001b[49m\u001b[38;5;241;43m=\u001b[39;49m\u001b[38;5;241;43m40\u001b[39;49m\u001b[43m)\u001b[49m\n",
      "Cell \u001b[1;32mIn[30], line 68\u001b[0m, in \u001b[0;36mget_efficient_frontier\u001b[1;34m(mean_v, cov_2d, return_range, num_portfolios)\u001b[0m\n\u001b[0;32m     66\u001b[0m \u001b[38;5;28;01mwith\u001b[39;00m ThreadPoolExecutor() \u001b[38;5;28;01mas\u001b[39;00m executor:\n\u001b[0;32m     67\u001b[0m     futures \u001b[38;5;241m=\u001b[39m {executor\u001b[38;5;241m.\u001b[39msubmit(calculate_optimization, ret, mean_v, cov_2d): ret \u001b[38;5;28;01mfor\u001b[39;00m ret \u001b[38;5;129;01min\u001b[39;00m ret_range}\n\u001b[1;32m---> 68\u001b[0m     \u001b[38;5;28;01mfor\u001b[39;00m future \u001b[38;5;129;01min\u001b[39;00m \u001b[43mtqdm\u001b[49m\u001b[43m(\u001b[49m\u001b[43mas_completed\u001b[49m\u001b[43m(\u001b[49m\u001b[43mfutures\u001b[49m\u001b[43m)\u001b[49m\u001b[43m,\u001b[49m\u001b[43m \u001b[49m\u001b[43mtotal\u001b[49m\u001b[38;5;241;43m=\u001b[39;49m\u001b[43mnum_portfolios\u001b[49m\u001b[43m,\u001b[49m\u001b[43m \u001b[49m\u001b[43mdesc\u001b[49m\u001b[38;5;241;43m=\u001b[39;49m\u001b[38;5;124;43mf\u001b[39;49m\u001b[38;5;124;43m'\u001b[39;49m\u001b[38;5;124;43mCalculating optimum weights in range \u001b[39;49m\u001b[38;5;132;43;01m{\u001b[39;49;00m\u001b[43mmin_ret\u001b[49m\u001b[38;5;132;43;01m}\u001b[39;49;00m\u001b[38;5;124;43m to \u001b[39;49m\u001b[38;5;132;43;01m{\u001b[39;49;00m\u001b[43mmax_ret\u001b[49m\u001b[38;5;132;43;01m}\u001b[39;49;00m\u001b[38;5;124;43m for \u001b[39;49m\u001b[38;5;132;43;01m{\u001b[39;49;00m\u001b[43mnum_portfolios\u001b[49m\u001b[38;5;132;43;01m}\u001b[39;49;00m\u001b[38;5;124;43m portfolios\u001b[39;49m\u001b[38;5;124;43m'\u001b[39;49m\u001b[43m)\u001b[49m:\n\u001b[0;32m     69\u001b[0m         ret \u001b[38;5;241m=\u001b[39m futures[future]\n\u001b[0;32m     70\u001b[0m         \u001b[38;5;28;01mtry\u001b[39;00m:\n",
      "File \u001b[1;32mc:\\Users\\chlje\\VSCodeProjects\\KAIST_MFE\\.venv\\Lib\\site-packages\\tqdm\\notebook.py:234\u001b[0m, in \u001b[0;36mtqdm_notebook.__init__\u001b[1;34m(self, *args, **kwargs)\u001b[0m\n\u001b[0;32m    232\u001b[0m unit_scale \u001b[38;5;241m=\u001b[39m \u001b[38;5;241m1\u001b[39m \u001b[38;5;28;01mif\u001b[39;00m \u001b[38;5;28mself\u001b[39m\u001b[38;5;241m.\u001b[39munit_scale \u001b[38;5;129;01mis\u001b[39;00m \u001b[38;5;28;01mTrue\u001b[39;00m \u001b[38;5;28;01melse\u001b[39;00m \u001b[38;5;28mself\u001b[39m\u001b[38;5;241m.\u001b[39munit_scale \u001b[38;5;129;01mor\u001b[39;00m \u001b[38;5;241m1\u001b[39m\n\u001b[0;32m    233\u001b[0m total \u001b[38;5;241m=\u001b[39m \u001b[38;5;28mself\u001b[39m\u001b[38;5;241m.\u001b[39mtotal \u001b[38;5;241m*\u001b[39m unit_scale \u001b[38;5;28;01mif\u001b[39;00m \u001b[38;5;28mself\u001b[39m\u001b[38;5;241m.\u001b[39mtotal \u001b[38;5;28;01melse\u001b[39;00m \u001b[38;5;28mself\u001b[39m\u001b[38;5;241m.\u001b[39mtotal\n\u001b[1;32m--> 234\u001b[0m \u001b[38;5;28mself\u001b[39m\u001b[38;5;241m.\u001b[39mcontainer \u001b[38;5;241m=\u001b[39m \u001b[38;5;28;43mself\u001b[39;49m\u001b[38;5;241;43m.\u001b[39;49m\u001b[43mstatus_printer\u001b[49m\u001b[43m(\u001b[49m\u001b[38;5;28;43mself\u001b[39;49m\u001b[38;5;241;43m.\u001b[39;49m\u001b[43mfp\u001b[49m\u001b[43m,\u001b[49m\u001b[43m \u001b[49m\u001b[43mtotal\u001b[49m\u001b[43m,\u001b[49m\u001b[43m \u001b[49m\u001b[38;5;28;43mself\u001b[39;49m\u001b[38;5;241;43m.\u001b[39;49m\u001b[43mdesc\u001b[49m\u001b[43m,\u001b[49m\u001b[43m \u001b[49m\u001b[38;5;28;43mself\u001b[39;49m\u001b[38;5;241;43m.\u001b[39;49m\u001b[43mncols\u001b[49m\u001b[43m)\u001b[49m\n\u001b[0;32m    235\u001b[0m \u001b[38;5;28mself\u001b[39m\u001b[38;5;241m.\u001b[39mcontainer\u001b[38;5;241m.\u001b[39mpbar \u001b[38;5;241m=\u001b[39m proxy(\u001b[38;5;28mself\u001b[39m)\n\u001b[0;32m    236\u001b[0m \u001b[38;5;28mself\u001b[39m\u001b[38;5;241m.\u001b[39mdisplayed \u001b[38;5;241m=\u001b[39m \u001b[38;5;28;01mFalse\u001b[39;00m\n",
      "File \u001b[1;32mc:\\Users\\chlje\\VSCodeProjects\\KAIST_MFE\\.venv\\Lib\\site-packages\\tqdm\\notebook.py:108\u001b[0m, in \u001b[0;36mtqdm_notebook.status_printer\u001b[1;34m(_, total, desc, ncols)\u001b[0m\n\u001b[0;32m     99\u001b[0m \u001b[38;5;66;03m# Fallback to text bar if there's no total\u001b[39;00m\n\u001b[0;32m    100\u001b[0m \u001b[38;5;66;03m# DEPRECATED: replaced with an 'info' style bar\u001b[39;00m\n\u001b[0;32m    101\u001b[0m \u001b[38;5;66;03m# if not total:\u001b[39;00m\n\u001b[1;32m   (...)\u001b[0m\n\u001b[0;32m    105\u001b[0m \n\u001b[0;32m    106\u001b[0m \u001b[38;5;66;03m# Prepare IPython progress bar\u001b[39;00m\n\u001b[0;32m    107\u001b[0m \u001b[38;5;28;01mif\u001b[39;00m IProgress \u001b[38;5;129;01mis\u001b[39;00m \u001b[38;5;28;01mNone\u001b[39;00m:  \u001b[38;5;66;03m# #187 #451 #558 #872\u001b[39;00m\n\u001b[1;32m--> 108\u001b[0m     \u001b[38;5;28;01mraise\u001b[39;00m \u001b[38;5;167;01mImportError\u001b[39;00m(WARN_NOIPYW)\n\u001b[0;32m    109\u001b[0m \u001b[38;5;28;01mif\u001b[39;00m total:\n\u001b[0;32m    110\u001b[0m     pbar \u001b[38;5;241m=\u001b[39m IProgress(\u001b[38;5;28mmin\u001b[39m\u001b[38;5;241m=\u001b[39m\u001b[38;5;241m0\u001b[39m, \u001b[38;5;28mmax\u001b[39m\u001b[38;5;241m=\u001b[39mtotal)\n",
      "\u001b[1;31mImportError\u001b[0m: IProgress not found. Please update jupyter and ipywidgets. See https://ipywidgets.readthedocs.io/en/stable/user_install.html"
     ]
    }
   ],
   "source": [
    "results, weights_record = get_efficient_frontier(mean_v, cov_2d, num_portfolios=40)"
   ]
  },
  {
   "cell_type": "code",
   "execution_count": null,
   "metadata": {},
   "outputs": [],
   "source": []
  },
  {
   "cell_type": "code",
   "execution_count": null,
   "metadata": {},
   "outputs": [],
   "source": []
  },
  {
   "cell_type": "code",
   "execution_count": null,
   "metadata": {},
   "outputs": [],
   "source": []
  },
  {
   "cell_type": "code",
   "execution_count": null,
   "metadata": {},
   "outputs": [],
   "source": []
  },
  {
   "cell_type": "code",
   "execution_count": null,
   "metadata": {},
   "outputs": [],
   "source": []
  },
  {
   "cell_type": "code",
   "execution_count": 75,
   "metadata": {},
   "outputs": [
    {
     "data": {
      "text/plain": [
       "(array([ 0.02899985, -0.02860115, -0.03237808, -0.01293319, -0.01355051,\n",
       "         0.03232046,  0.00799272,  0.03493762,  0.00189137,  0.01828133]),\n",
       " 467,\n",
       " 0.9999999999999999)"
      ]
     },
     "execution_count": 75,
     "metadata": {},
     "output_type": "execute_result"
    }
   ],
   "source": [
    "## Sum = 1이 되는 (-1, 1) 사이의 weights 생성\n",
    "\n",
    "def generate_random_weights(size):\n",
    "    # Step 1: Generate random weights with values between -1 and 1\n",
    "    weights = np.random.uniform(-1, 1, size)\n",
    "    \n",
    "    # Step 2: Compute the sum of the absolute values of these weights\n",
    "    abs_sum = np.sum(np.abs(weights))\n",
    "    \n",
    "    # Step 3: Normalize the weights by dividing each weight by the sum of the absolute values\n",
    "    normalized_weights = weights / abs_sum\n",
    "    \n",
    "    # Ensure the sum of weights is exactly 1\n",
    "    normalized_weights = normalized_weights / np.sum(normalized_weights)\n",
    "    \n",
    "    return normalized_weights\n",
    "\n",
    "# Example usage\n",
    "weights = generate_random_weights(1000)\n",
    "negative_weights_count = (weights < 0).sum()\n",
    "weights_sum = np.sum(weights)\n",
    "weights[:10], negative_weights_count, weights_sum\n"
   ]
  },
  {
   "cell_type": "markdown",
   "metadata": {},
   "source": []
  }
 ],
 "metadata": {
  "kernelspec": {
   "display_name": ".venv",
   "language": "python",
   "name": "python3"
  },
  "language_info": {
   "codemirror_mode": {
    "name": "ipython",
    "version": 3
   },
   "file_extension": ".py",
   "mimetype": "text/x-python",
   "name": "python",
   "nbconvert_exporter": "python",
   "pygments_lexer": "ipython3",
   "version": "3.11.5"
  }
 },
 "nbformat": 4,
 "nbformat_minor": 2
}
