{
 "cells": [
  {
   "cell_type": "markdown",
   "id": "5196e5a7",
   "metadata": {},
   "source": [
    "# BAF642 금융시계열 과제 1\n",
    "\n",
    "20249433 최재필"
   ]
  },
  {
   "cell_type": "code",
   "execution_count": null,
   "id": "3c18fbb9",
   "metadata": {},
   "outputs": [],
   "source": [
    "from pathlib import Path\n",
    "import os, sys\n",
    "import json\n",
    "\n",
    "import pandas as pd\n",
    "import numpy as np\n",
    "\n",
    "import matplotlib.pyplot as plt\n",
    "import seaborn as sns\n",
    "\n",
    "from itertools import product\n",
    "\n",
    "## Time Series Decomposition & Stationarity tests\n",
    "from statsmodels.tsa.seasonal import seasonal_decompose\n",
    "from statsmodels.graphics.tsaplots import plot_acf, plot_pacf\n",
    "from statsmodels.tsa.stattools import adfuller, kpss\n",
    "\n",
    "## ARIMA, GARCH\n",
    "from statsmodels.tsa.arima_model import ARIMA\n",
    "from pmdarima import auto_arima\n",
    "from arch import arch_model\n",
    "\n",
    "## VAR\n",
    "from statsmodels.tsa.api import VAR\n",
    "from statsmodels.tsa.stattools import grangercausalitytests\n",
    "from statsmodels.tsa.vector_ar.vecm import coint_johansen, VECM\n",
    "\n",
    "## Kalman Filter\n",
    "from scipy import stats, signal\n",
    "from pykalman import KalmanFilter\n",
    "\n",
    "## Performance analytics\n",
    "import quantstats as qs"
   ]
  },
  {
   "cell_type": "markdown",
   "id": "7238d25a",
   "metadata": {},
   "source": [
    "## Import Data"
   ]
  },
  {
   "cell_type": "code",
   "execution_count": null,
   "id": "cc454ca9",
   "metadata": {},
   "outputs": [],
   "source": [
    "CWD_PATH = Path('.').resolve()\n",
    "DATA_PATH = CWD_PATH / 'data'"
   ]
  },
  {
   "cell_type": "code",
   "execution_count": null,
   "id": "0524071a",
   "metadata": {},
   "outputs": [],
   "source": [
    "def import_BB_data(filename, data_cols, return_col=None):\n",
    "    data = pd.read_csv(DATA_PATH / filename, index_col=0, parse_dates=True)\n",
    "    data.index.name = 'date'\n",
    "    data.columns = data_cols\n",
    "    \n",
    "    vol_col = data_cols[4]\n",
    "    ret_col = data_cols[5]\n",
    "\n",
    "    try:\n",
    "        data[vol_col] = data[vol_col].str.replace('K', '000')\n",
    "        data[vol_col] = data[vol_col].str.replace('M', '000000')\n",
    "        data[vol_col] = data[vol_col].str.replace('B', '000000000')\n",
    "        data[vol_col] = data[vol_col].astype(float)\n",
    "    except:\n",
    "        pass\n",
    "\n",
    "    data[ret_col] = data[ret_col].str.replace('%', '').astype(float) / 100\n",
    "\n",
    "    data = data.astype(float)\n",
    "\n",
    "    if return_col:\n",
    "        data = data[return_col]\n",
    "    \n",
    "    return data"
   ]
  },
  {
   "cell_type": "code",
   "execution_count": null,
   "id": "bd802751",
   "metadata": {},
   "outputs": [],
   "source": [
    "data_cols1 = ['Price', 'Open', 'High', 'Low', 'Vol.', 'Change %']\n",
    "data_cols2 = ['종가', '시가', '고가', '저가', '거래량', '변동 %']"
   ]
  },
  {
   "cell_type": "code",
   "execution_count": null,
   "id": "78d4aeed",
   "metadata": {},
   "outputs": [],
   "source": [
    "v1x = import_BB_data('VIX.csv', data_cols2, '종가')\n",
    "v1x.name = 'V1X'\n",
    "\n",
    "v1x_futures = import_BB_data('VIX_futures.csv', data_cols2, '종가')\n",
    "v1x_futures.name = 'V1X_futures'\n",
    "\n",
    "v2x = import_BB_data('V2X.csv', data_cols1, 'Price')\n",
    "v2x.name = 'V2X'\n",
    "\n",
    "v2x_futures = import_BB_data('V2X_futures.csv', data_cols1, 'Price')\n",
    "v2x_futures.name = 'V2X_futures'"
   ]
  },
  {
   "cell_type": "markdown",
   "id": "16382e33",
   "metadata": {},
   "source": [
    "## 1. 추세/계절성/잡음 분해\n",
    "VIX와 V2X의 시계열을 추세, 계절성 및 잡음으로 분해하라.\n"
   ]
  },
  {
   "cell_type": "code",
   "execution_count": null,
   "id": "5eb9f810",
   "metadata": {},
   "outputs": [],
   "source": [
    "v1x_decompose = seasonal_decompose(v1x, model='additive', period=252).plot()\n",
    "v2x_decompose = seasonal_decompose(v2x, model='additive', period=252).plot()"
   ]
  },
  {
   "cell_type": "markdown",
   "id": "3c00d8fc",
   "metadata": {},
   "source": [
    "Seasonality가 있다고 봐야하나? "
   ]
  },
  {
   "cell_type": "code",
   "execution_count": null,
   "id": "deedd5c9",
   "metadata": {},
   "outputs": [],
   "source": [
    "## GPT\n",
    "\n",
    "# Friedman test for seasonality\n",
    "\n",
    "# --> seasonality test 아님"
   ]
  },
  {
   "cell_type": "code",
   "execution_count": null,
   "id": "51233661",
   "metadata": {},
   "outputs": [],
   "source": [
    "## GPT\n",
    "\n",
    "# Ljung-Box test for seasonality\n",
    "\n",
    "# --> seasonality check에 사용되기 어려움"
   ]
  },
  {
   "cell_type": "markdown",
   "id": "515c6e81",
   "metadata": {},
   "source": [
    "\n",
    "## 2. 단위근 테스트 및 정상성 확인\n",
    "VIX와 V2X 각각에 대해 단위근 테스트를 실행하고 정상성을 살펴보라.\n"
   ]
  },
  {
   "cell_type": "markdown",
   "id": "f29681a7",
   "metadata": {},
   "source": [
    "### Plot ACF, PACF\n",
    "\n",
    "- ACF는 slow decaying을 보여주고 \n",
    "- PACF는 빠른 decay를 보여줌 (short term memory)\n",
    "\n",
    "결과: Stationary"
   ]
  },
  {
   "cell_type": "code",
   "execution_count": null,
   "id": "276651c5",
   "metadata": {},
   "outputs": [],
   "source": [
    "# ACF\n",
    "plot_acf(v1x, lags=10, title='V1X PACF', )\n",
    "plot_acf(v2x, lags=10, title='V2X PACF', )\n",
    "plt.show()"
   ]
  },
  {
   "cell_type": "code",
   "execution_count": null,
   "id": "8b1aade6",
   "metadata": {},
   "outputs": [],
   "source": [
    "# PACF\n",
    "plot_pacf(v1x, lags=10, title='V1X PACF', )\n",
    "plot_pacf(v2x, lags=10, title='V2X PACF', )\n",
    "plt.show()"
   ]
  },
  {
   "cell_type": "markdown",
   "id": "67fee792",
   "metadata": {},
   "source": [
    "### ADF Test\n",
    "\n",
    "- H0: The series has a unit root (i.e, the series is not stationary)\n",
    "    - If rejected --> Stationary. \n",
    "- Use `c` regression (and `ct`) regression because there's no clear trend. \n",
    "- Use AIC autolag rather than setting fixed `maxlags=`. \n",
    "\n",
    "결과: Stationary\n"
   ]
  },
  {
   "cell_type": "code",
   "execution_count": null,
   "id": "b22a830a",
   "metadata": {},
   "outputs": [],
   "source": [
    "def adf_result(data, regression='c', autolag='AIC', alpha=0.05):\n",
    "    result = adfuller(data, regression=regression, autolag=autolag,)\n",
    "    adf = result[0]\n",
    "    print(f'ADF Statistic: {adf:.4f}')\n",
    "    \n",
    "    p_value = result[1]\n",
    "    print(f'p-value: {p_value:.4f}')\n",
    "    \n",
    "    critical_values = result[4]\n",
    "    for key, value in critical_values.items():\n",
    "        print(f'Critical Value {key}: {value:.4f}')\n",
    "    \n",
    "    if p_value < alpha:\n",
    "        print('Reject the null hypothesis: Stationary')\n",
    "    else:\n",
    "        print('Fail to reject the null hypothesis: Non-stationary')\n",
    "\n"
   ]
  },
  {
   "cell_type": "code",
   "execution_count": null,
   "id": "d11b6003",
   "metadata": {},
   "outputs": [],
   "source": [
    "adf_result(v1x)"
   ]
  },
  {
   "cell_type": "code",
   "execution_count": null,
   "id": "0db08fe3",
   "metadata": {},
   "outputs": [],
   "source": [
    "adf_result(v2x)"
   ]
  },
  {
   "cell_type": "markdown",
   "id": "7c7db563",
   "metadata": {},
   "source": [
    "What if `regression='ct'` (constant trend) ?"
   ]
  },
  {
   "cell_type": "code",
   "execution_count": null,
   "id": "b45f0c1c",
   "metadata": {},
   "outputs": [],
   "source": [
    "adf_result(v1x, regression='ct')"
   ]
  },
  {
   "cell_type": "code",
   "execution_count": null,
   "id": "f5d22ab0",
   "metadata": {},
   "outputs": [],
   "source": [
    "adf_result(v2x, regression='ct')"
   ]
  },
  {
   "cell_type": "markdown",
   "id": "2426cceb",
   "metadata": {},
   "source": [
    "### KPSS Test\n",
    "\n",
    "- H0: The series is either trend stationary or level stationary\n",
    "    - If rejected --> Non-Stationary (반대임)\n",
    "- Use `c` regression for constant trend\n",
    "\n",
    "ADF vs KPSS\n",
    "- 일단 ADF가 국룰. KPSS는 보조\n",
    "- Power and Size\n",
    "    - ADF는 작은 샘플 or near-unit root process 에서 low power일 수 있음. \n",
    "    - KPSS는 autoregressive parameter가 아주 작을 때 잘 작동\n",
    "- Autoregressive Parameter Values\n",
    "    - 자기상관계수가 0보단 훨씬 크고, 1에 가까울 경우: ADF\n",
    "    - 자기상관계수가 아주 작을 경우: KPSS\n",
    "- Trend Sensitivity\n",
    "    - ADF는 trend-stationary process와 unit root process를 헷갈려할 수 있음\n",
    "    - Deterministic trend가 있을 때 KPSS가 더 sensitive \n",
    "        - (좋은 것임. Deterministic trend가 있어도 잘 구분한다는 소리)\n",
    "    \n",
    "\n"
   ]
  },
  {
   "cell_type": "code",
   "execution_count": null,
   "id": "f219c355",
   "metadata": {},
   "outputs": [],
   "source": [
    "def kpss_result(data, regression='c', nlags='auto', alpha=0.05):\n",
    "    # 'auto' (default): Uses a data-dependent method based on Hobijn et al. (1998)\n",
    "    # 'legacy': Uses int(12 * (n / 100)**(1 / 4)) as in Schwert (1989)\n",
    "\n",
    "    result = kpss(data, regression=regression, nlags=nlags)\n",
    "    kpss_stat = result[0]\n",
    "    print(f'KPSS Statistic: {kpss_stat:.4f}')\n",
    "    \n",
    "    p_value = result[1]\n",
    "    print(f'p-value: {p_value:.4f}')\n",
    "    \n",
    "    critical_values = result[3]\n",
    "    for key, value in critical_values.items():\n",
    "        print(f'Critical Value {key}: {value:.4f}')\n",
    "    \n",
    "    if p_value < alpha:\n",
    "        print('Fail to reject the null hypothesis: Stationary')\n",
    "    else:\n",
    "        print('Reject the null hypothesis: Non-stationary')\n",
    "\n",
    "# 반대로 Fail to reject 해야 stationary라는 점에 주의"
   ]
  },
  {
   "cell_type": "code",
   "execution_count": null,
   "id": "f0386ae8",
   "metadata": {},
   "outputs": [],
   "source": [
    "kpss_result(v1x)"
   ]
  },
  {
   "cell_type": "code",
   "execution_count": null,
   "id": "8cc80a5c",
   "metadata": {},
   "outputs": [],
   "source": [
    "kpss_result(v2x) # V2X의 경우 여기선 non-stationary라고 나옴 "
   ]
  },
  {
   "cell_type": "markdown",
   "id": "30eefcaf",
   "metadata": {},
   "source": [
    "\n",
    "## 3. ARIMA GARCH 모델 적용\n",
    "VIX와 V2X 각각에 대해 ARIMA GARCH 모델을 적용하라.\n"
   ]
  },
  {
   "cell_type": "markdown",
   "id": "0f1bc7cf",
   "metadata": {},
   "source": [
    "### step 1: auto arima\n",
    "\n",
    "ARIMA 차수를 auto fitting 해줌\n",
    "\n",
    "- 작동 원리\n",
    "    - AR(p), I(d), MA(q) 계수 grid search\n",
    "    - AIC 등의 evaluation criteria로 최적 찾음\n",
    "    - Seasonality도 자동 detection 해주도록 할 수 있음\n",
    "    - Stepwise search: grid search를 모든 combination에 대해 다 돌리는게 아니라 step step 나가며 greedy하게 찾음\n",
    "\n",
    "Seasonality in VIX? \n",
    "- Seasonality, 눈으로 봐선 있긴 한데 불명확하다. \n",
    "- Friedman, Ljung-Box 는 Seasonality test 아님\n",
    "- 그냥 있는 경우 없는 경우 다 해보자. \n",
    "    - 하지만 `seasonal=True`는 너무 계산이 무거워 skip. \n",
    "\n",
    "결과: \n",
    "- V1X: ARIMA(1, 1, 0)으로 fitting\n",
    "- V2X: ARIMA(0, 1, 1)로 fitting"
   ]
  },
  {
   "cell_type": "code",
   "execution_count": null,
   "id": "9af69ce7",
   "metadata": {},
   "outputs": [],
   "source": [
    "# 계절성 없다고 칠 경우\n",
    "\n",
    "# v1x\n",
    "pmd_model_v1x = auto_arima(\n",
    "    v1x, \n",
    "\n",
    "    seasonal=False, \n",
    "\n",
    "    trace=True, \n",
    "    error_action='ignore', \n",
    "    suppress_warnings=True, # 너무 많이 나옴. \n",
    "    stepwise=True, # Reduce computational cost by performing stepwise search\n",
    "    )\n",
    "\n",
    "pmd_model_v1x.fit(v1x)"
   ]
  },
  {
   "cell_type": "code",
   "execution_count": null,
   "id": "9dc4fe7e",
   "metadata": {},
   "outputs": [],
   "source": [
    "pmd_model_v1x.summary()"
   ]
  },
  {
   "cell_type": "code",
   "execution_count": null,
   "id": "9c8d7231",
   "metadata": {
    "lines_to_next_cell": 2
   },
   "outputs": [],
   "source": [
    "pmd_model_v2x = auto_arima(\n",
    "    v2x, \n",
    "\n",
    "    seasonal=False, \n",
    "\n",
    "    trace=True, \n",
    "    error_action='ignore', \n",
    "    suppress_warnings=True, # 너무 많이 나옴. \n",
    "    stepwise=True, # Reduce computational cost by performing stepwise search\n",
    "    )\n",
    "\n",
    "pmd_model_v2x.fit(v2x)"
   ]
  },
  {
   "cell_type": "code",
   "execution_count": null,
   "id": "96904a51",
   "metadata": {},
   "outputs": [],
   "source": [
    "pmd_model_v2x.summary()"
   ]
  },
  {
   "cell_type": "markdown",
   "id": "a18156f3",
   "metadata": {},
   "source": [
    "### ARIMA-GARCH\n",
    "\n",
    "- fitting 시킨 ARIMA로 mean structure 부분을 효과적으로 제거. 남은 variance structure (residuals) 만가지고 GARCH를 모델링\n",
    "- Best GARCH model selection:\n",
    "    - GARCH는 model selection (예를들어 (1,1))을 한 뒤 MLE로 fitting 됨. \n",
    "    - fitting시킨 후 AIC같은 eval metric으로 평가 가능\n",
    "    - 여러 model을 AIC 구해 그 중 좋은 것을 select하는 방법 (보배)"
   ]
  },
  {
   "cell_type": "code",
   "execution_count": null,
   "id": "d02e939e",
   "metadata": {},
   "outputs": [],
   "source": [
    "arima_resid_v1x = pmd_model_v1x.resid()\n",
    "arima_resid_v2x = pmd_model_v2x.resid()"
   ]
  },
  {
   "cell_type": "code",
   "execution_count": null,
   "id": "37d976e0",
   "metadata": {},
   "outputs": [],
   "source": [
    "p_range = range(1, 4)\n",
    "q_range = range(1, 4)\n",
    "\n",
    "pq_space = product(p_range, q_range)\n",
    "\n",
    "best_aic_v1x = np.inf\n",
    "best_pq_v1x = None\n",
    "\n",
    "best_aic_v2x = np.inf\n",
    "best_pq_v2x = None\n",
    "\n",
    "for p, q in pq_space:\n",
    "    garch_model_v1x = arch_model(arima_resid_v1x, vol='Garch', p=p, q=q)\n",
    "    result_v1x = garch_model_v1x.fit(disp='off')\n",
    "\n",
    "    aic_v1x = result_v1x.aic\n",
    "    if aic_v1x < best_aic_v1x:\n",
    "        best_aic_v1x = aic_v1x\n",
    "        best_pq_v1x = (p, q)\n",
    "    \n",
    "    garch_model_v2x = arch_model(arima_resid_v2x, vol='Garch', p=p, q=q)\n",
    "    result_v2x = garch_model_v2x.fit(disp='off')\n",
    "\n",
    "    aic_v2x = result_v2x.aic\n",
    "    if aic_v2x < best_aic_v2x:\n",
    "        best_aic_v2x = aic_v2x\n",
    "        best_pq_v2x = (p, q)\n",
    "    \n",
    "print(f'Best AIC for V1X: {best_aic_v1x:.4f} with p, q: {best_pq_v1x}')\n",
    "print(f'Best AIC for V2X: {best_aic_v2x:.4f} with p, q: {best_pq_v2x}')\n",
    "\n"
   ]
  },
  {
   "cell_type": "code",
   "execution_count": null,
   "id": "20571c2c",
   "metadata": {},
   "outputs": [],
   "source": [
    "result_v1x.summary()"
   ]
  },
  {
   "cell_type": "code",
   "execution_count": null,
   "id": "4183a8ca",
   "metadata": {},
   "outputs": [],
   "source": [
    "result_v2x.summary()"
   ]
  },
  {
   "cell_type": "code",
   "execution_count": null,
   "id": "7e5ff416",
   "metadata": {},
   "outputs": [],
   "source": []
  },
  {
   "cell_type": "code",
   "execution_count": null,
   "id": "abcf3fa2",
   "metadata": {},
   "outputs": [],
   "source": []
  },
  {
   "cell_type": "code",
   "execution_count": null,
   "id": "d5d22b9d",
   "metadata": {},
   "outputs": [],
   "source": []
  },
  {
   "cell_type": "markdown",
   "id": "c9394c16",
   "metadata": {},
   "source": [
    "\n",
    "## 4. Multivariate GARCH 모델 적용\n",
    "VIX와 V2X에 대해 Multivariate GARCH 모델을 적용해보라.\n"
   ]
  },
  {
   "cell_type": "markdown",
   "id": "4703bdaa",
   "metadata": {},
   "source": [
    "\n",
    "## 5. VAR 모델 및 분산 분석\n",
    "VIX와 V2X를 이용해 VAR 모델을 만들고, Granger causality 테스트를 실행하고, Impulse response 그래프와 분산 분해(Variance Decomposition)를 계산하고 그래프로 보여라.\n"
   ]
  },
  {
   "cell_type": "markdown",
   "id": "3e085ca8",
   "metadata": {},
   "source": [
    "\n",
    "## 6. VECM 모델 구축\n",
    "VIX와 V2X를 이용해 공적분관계를 확인하고, VECM 모델을 구축하라.\n"
   ]
  },
  {
   "cell_type": "code",
   "execution_count": null,
   "id": "64121a31",
   "metadata": {},
   "outputs": [],
   "source": []
  },
  {
   "cell_type": "markdown",
   "id": "2011b24d",
   "metadata": {},
   "source": [
    "\n",
    "## 7. 페어 트레이딩\n",
    "트레이딩 경계(평균 +/- some 표준편차)를 설정하고 다음 방법으로 페어 트레이딩을 수행하라.\n"
   ]
  },
  {
   "cell_type": "code",
   "execution_count": null,
   "id": "b112f293",
   "metadata": {},
   "outputs": [],
   "source": []
  },
  {
   "cell_type": "markdown",
   "id": "5ab5bd9e",
   "metadata": {},
   "source": [
    "\n",
    "### 1) 단순 스프레드를 이용한 페어 트레이딩\n"
   ]
  },
  {
   "cell_type": "code",
   "execution_count": null,
   "id": "5e85e00c",
   "metadata": {},
   "outputs": [],
   "source": []
  },
  {
   "cell_type": "markdown",
   "id": "9f8b65f9",
   "metadata": {},
   "source": [
    "\n",
    "### 2) 공적분관계를 이용한 페어 트레이딩\n"
   ]
  },
  {
   "cell_type": "code",
   "execution_count": null,
   "id": "52aca0e3",
   "metadata": {},
   "outputs": [],
   "source": []
  },
  {
   "cell_type": "markdown",
   "id": "915614d3",
   "metadata": {},
   "source": [
    "\n",
    "### 3) 칼만 필터를 이용한 페어 트레이딩\n"
   ]
  },
  {
   "cell_type": "code",
   "execution_count": null,
   "id": "673a18b0",
   "metadata": {},
   "outputs": [],
   "source": []
  },
  {
   "cell_type": "markdown",
   "id": "0fde0ee9",
   "metadata": {},
   "source": [
    "\n",
    "## 8. 최소 총 이익(MTP) 경계 및 백테스트\n",
    "최소 총 이익(MTP) 경계를 구하고 이를 이용한 백테스트 결과를 제시하라. (논문과 블로그 참조)\n"
   ]
  },
  {
   "cell_type": "code",
   "execution_count": null,
   "id": "33918cff",
   "metadata": {},
   "outputs": [],
   "source": []
  }
 ],
 "metadata": {
  "kernelspec": {
   "display_name": ".venv",
   "language": "python",
   "name": "python3"
  }
 },
 "nbformat": 4,
 "nbformat_minor": 5
}
