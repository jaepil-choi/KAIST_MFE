{
 "cells": [
  {
   "cell_type": "markdown",
   "id": "14093308",
   "metadata": {
    "id": "xer-0MC30LIU"
   },
   "source": [
    "# 금융 시계열 특성을 알아보자"
   ]
  },
  {
   "cell_type": "code",
   "execution_count": null,
   "id": "ca16fd5f",
   "metadata": {
    "colab": {
     "base_uri": "https://localhost:8080/"
    },
    "executionInfo": {
     "elapsed": 5928,
     "status": "ok",
     "timestamp": 1730278264345,
     "user": {
      "displayName": "이기홍",
      "userId": "00707751831574141695"
     },
     "user_tz": -540
    },
    "id": "OAoOLGlr1-_e",
    "outputId": "e31636a6-cf11-42ec-a700-dd65542b5b6e"
   },
   "outputs": [],
   "source": [
    "!sudo apt-get install -y fonts-nanum\n",
    "!sudo fc-cache -fv\n",
    "!rm ~/.cache/matplotlib -rf"
   ]
  },
  {
   "cell_type": "markdown",
   "id": "fbfeaae5",
   "metadata": {
    "id": "OYuFzwskiYun"
   },
   "source": [
    "# 세선 다시 시작"
   ]
  },
  {
   "cell_type": "code",
   "execution_count": null,
   "id": "3da23655",
   "metadata": {
    "colab": {
     "base_uri": "https://localhost:8080/"
    },
    "executionInfo": {
     "elapsed": 6910,
     "status": "ok",
     "timestamp": 1730278271251,
     "user": {
      "displayName": "이기홍",
      "userId": "00707751831574141695"
     },
     "user_tz": -540
    },
    "id": "1Zj08oDZ0QLk",
    "outputId": "983e3683-1ea2-41a2-d92c-3f4a3108e9a4"
   },
   "outputs": [],
   "source": [
    "from google.colab import drive\n",
    "drive.mount('/content/drive')"
   ]
  },
  {
   "cell_type": "code",
   "execution_count": null,
   "id": "cf08d74a",
   "metadata": {
    "executionInfo": {
     "elapsed": 26,
     "status": "ok",
     "timestamp": 1730278271251,
     "user": {
      "displayName": "이기홍",
      "userId": "00707751831574141695"
     },
     "user_tz": -540
    },
    "id": "_refmnX10Uc_"
   },
   "outputs": [],
   "source": [
    "import os\n",
    "os.chdir('/content/drive/MyDrive/2024년 고급금융시계열 공유/1. 금융시계열 실습')"
   ]
  },
  {
   "cell_type": "code",
   "execution_count": null,
   "id": "292378a1",
   "metadata": {
    "executionInfo": {
     "elapsed": 27,
     "status": "ok",
     "timestamp": 1730278271252,
     "user": {
      "displayName": "이기홍",
      "userId": "00707751831574141695"
     },
     "user_tz": -540
    },
    "id": "8WEPQUet0LIX"
   },
   "outputs": [],
   "source": [
    "import warnings\n",
    "warnings.filterwarnings('ignore')"
   ]
  },
  {
   "cell_type": "code",
   "execution_count": null,
   "id": "34c78831",
   "metadata": {
    "executionInfo": {
     "elapsed": 26,
     "status": "ok",
     "timestamp": 1730278271252,
     "user": {
      "displayName": "이기홍",
      "userId": "00707751831574141695"
     },
     "user_tz": -540
    },
    "id": "3rXdizjN0LIY"
   },
   "outputs": [],
   "source": [
    "# 기본 라이브러리 불러오기\n",
    "import matplotlib.pyplot as plt\n",
    "import pandas as pd\n",
    "import numpy as np\n",
    "from MyUtil import TaFeatureSet"
   ]
  },
  {
   "cell_type": "code",
   "execution_count": null,
   "id": "b8670244",
   "metadata": {
    "executionInfo": {
     "elapsed": 26,
     "status": "ok",
     "timestamp": 1730278271252,
     "user": {
      "displayName": "이기홍",
      "userId": "00707751831574141695"
     },
     "user_tz": -540
    },
    "id": "WeE6lzmX0LIZ"
   },
   "outputs": [],
   "source": [
    "# 한글 폰트를 위해\n",
    "plt.rc('font', family='NanumBarunGothic')\n",
    "plt.rc('axes', unicode_minus=False)"
   ]
  },
  {
   "cell_type": "markdown",
   "id": "70943177",
   "metadata": {
    "id": "67qKYvDH0LIZ"
   },
   "source": [
    "# 정상성 대 비정상성"
   ]
  },
  {
   "cell_type": "markdown",
   "id": "82b552a6",
   "metadata": {
    "id": "tHw19WQH0LIZ"
   },
   "source": [
    "# 백색잡음과 랜덤워크"
   ]
  },
  {
   "cell_type": "code",
   "execution_count": null,
   "id": "8950c667",
   "metadata": {
    "executionInfo": {
     "elapsed": 25,
     "status": "ok",
     "timestamp": 1730278271252,
     "user": {
      "displayName": "이기홍",
      "userId": "00707751831574141695"
     },
     "user_tz": -540
    },
    "id": "n7rCPRVa0LIa"
   },
   "outputs": [],
   "source": [
    "# 백색잡음 1000개를 만들어라\n",
    "eps=np.random.randn(1000)"
   ]
  },
  {
   "cell_type": "code",
   "execution_count": null,
   "id": "d2566355",
   "metadata": {
    "executionInfo": {
     "elapsed": 26,
     "status": "ok",
     "timestamp": 1730278271253,
     "user": {
      "displayName": "이기홍",
      "userId": "00707751831574141695"
     },
     "user_tz": -540
    },
    "id": "kdE4WanI0LIa"
   },
   "outputs": [],
   "source": [
    "# 이를 이용해 랜덤워크를 만들어라 (초기값은 1로 놓아라)\n",
    "y0=1\n",
    "yt=np.cumsum(np.append(y0, eps))"
   ]
  },
  {
   "cell_type": "code",
   "execution_count": null,
   "id": "8fc02671",
   "metadata": {
    "colab": {
     "base_uri": "https://localhost:8080/",
     "height": 484
    },
    "executionInfo": {
     "elapsed": 25,
     "status": "ok",
     "timestamp": 1730278271253,
     "user": {
      "displayName": "이기홍",
      "userId": "00707751831574141695"
     },
     "user_tz": -540
    },
    "id": "lN7wnw5B0LIa",
    "outputId": "a97dd4ea-5e48-430e-c577-579d6d6bb646"
   },
   "outputs": [],
   "source": [
    "# 백색잡음과 랜덤워크 시계열을 그려라\n",
    "fig=plt.figure(figsize=(12,5))\n",
    "ax1=fig.add_subplot(121)\n",
    "ax2=fig.add_subplot(122)\n",
    "\n",
    "ax1.plot(eps)\n",
    "ax1.set_title('백색잡음')\n",
    "ax2.plot(yt)\n",
    "ax2.set_title('랜덤워크')"
   ]
  },
  {
   "cell_type": "markdown",
   "id": "21d7058d",
   "metadata": {
    "id": "ljhSR_IB0LIb"
   },
   "source": [
    "# 금융시계열(주가수익률)과 랜덤워크(백색잡음)"
   ]
  },
  {
   "cell_type": "code",
   "execution_count": null,
   "id": "e389132d",
   "metadata": {
    "executionInfo": {
     "elapsed": 16,
     "status": "ok",
     "timestamp": 1730278271253,
     "user": {
      "displayName": "이기홍",
      "userId": "00707751831574141695"
     },
     "user_tz": -540
    },
    "id": "T3oyTHGX0LIc"
   },
   "outputs": [],
   "source": [
    "# Yahoo 사이트에서 주가 데이터를 수집하여 주가, 거래량, 수익률, MACD 지표를\n",
    "# 관찰하고, 비정상 시계열 (Non-stationary)과 정상 시계열 (Stationary)의\n",
    "# 차이점을 관찰한다."
   ]
  },
  {
   "cell_type": "code",
   "execution_count": null,
   "id": "294167fa",
   "metadata": {
    "executionInfo": {
     "elapsed": 15,
     "status": "ok",
     "timestamp": 1730278271253,
     "user": {
      "displayName": "이기홍",
      "userId": "00707751831574141695"
     },
     "user_tz": -540
    },
    "id": "5u5_VmU20LIc"
   },
   "outputs": [],
   "source": [
    "# 주가 데이터를 읽어온다\n",
    "df = pd.read_csv('StockData/069500.csv', index_col=0, parse_dates=True)[::-1]"
   ]
  },
  {
   "cell_type": "code",
   "execution_count": null,
   "id": "15157351",
   "metadata": {
    "colab": {
     "base_uri": "https://localhost:8080/",
     "height": 237
    },
    "executionInfo": {
     "elapsed": 14,
     "status": "ok",
     "timestamp": 1730278271253,
     "user": {
      "displayName": "이기홍",
      "userId": "00707751831574141695"
     },
     "user_tz": -540
    },
    "id": "murhEMXo0LId",
    "outputId": "87535ef4-66aa-42fc-ef2d-33c9404f8602"
   },
   "outputs": [],
   "source": [
    "df.head()"
   ]
  },
  {
   "cell_type": "code",
   "execution_count": null,
   "id": "6b6f111b",
   "metadata": {
    "colab": {
     "base_uri": "https://localhost:8080/",
     "height": 422
    },
    "executionInfo": {
     "elapsed": 1081,
     "status": "ok",
     "timestamp": 1730278272321,
     "user": {
      "displayName": "이기홍",
      "userId": "00707751831574141695"
     },
     "user_tz": -540
    },
    "id": "XTxMuk750LIe",
    "outputId": "19c56c13-be1f-436c-dbe6-b5227cacceaf"
   },
   "outputs": [],
   "source": [
    "# 종가를 기준으로 그래프를 그린다.\n",
    "sse = df['Close'].plot()"
   ]
  },
  {
   "cell_type": "code",
   "execution_count": null,
   "id": "841e247c",
   "metadata": {
    "executionInfo": {
     "elapsed": 28,
     "status": "ok",
     "timestamp": 1730278272321,
     "user": {
      "displayName": "이기홍",
      "userId": "00707751831574141695"
     },
     "user_tz": -540
    },
    "id": "WwLtAHjw0LIe"
   },
   "outputs": [],
   "source": [
    "# 종가를 기준으로 일일 수익률을 계산한다.\n",
    "sse = np.log(df['Close']) - np.log(df['Close'].shift(1))"
   ]
  },
  {
   "cell_type": "code",
   "execution_count": null,
   "id": "d819a2ce",
   "metadata": {
    "colab": {
     "base_uri": "https://localhost:8080/",
     "height": 438
    },
    "executionInfo": {
     "elapsed": 27,
     "status": "ok",
     "timestamp": 1730278272321,
     "user": {
      "displayName": "이기홍",
      "userId": "00707751831574141695"
     },
     "user_tz": -540
    },
    "id": "xU65KR3t0LIe",
    "outputId": "19d9da73-877c-4241-cd9b-d9e6e2504645"
   },
   "outputs": [],
   "source": [
    "sse.plot()"
   ]
  },
  {
   "cell_type": "code",
   "execution_count": null,
   "id": "3166b3bc",
   "metadata": {
    "executionInfo": {
     "elapsed": 24,
     "status": "ok",
     "timestamp": 1730278272321,
     "user": {
      "displayName": "이기홍",
      "userId": "00707751831574141695"
     },
     "user_tz": -540
    },
    "id": "chrwX6Mf0LIe"
   },
   "outputs": [],
   "source": [
    "# 2 표준편차로 상하한선을 설정\n",
    "ll= sse.mean()-2.*sse.std()\n",
    "ul=sse.mean()+2.*sse.std()"
   ]
  },
  {
   "cell_type": "code",
   "execution_count": null,
   "id": "98a7c63d",
   "metadata": {
    "executionInfo": {
     "elapsed": 25,
     "status": "ok",
     "timestamp": 1730278272322,
     "user": {
      "displayName": "이기홍",
      "userId": "00707751831574141695"
     },
     "user_tz": -540
    },
    "id": "Etb1O_6u0LIe"
   },
   "outputs": [],
   "source": [
    "rw=np.random.normal(loc=np.mean(sse), scale=np.std(sse), size=len(sse))\n",
    "rw=pd.Series(rw, index=sse.index)"
   ]
  },
  {
   "cell_type": "code",
   "execution_count": null,
   "id": "c5c77232",
   "metadata": {
    "executionInfo": {
     "elapsed": 24,
     "status": "ok",
     "timestamp": 1730278272322,
     "user": {
      "displayName": "이기홍",
      "userId": "00707751831574141695"
     },
     "user_tz": -540
    },
    "id": "Kk3XfyQg0LIe"
   },
   "outputs": [],
   "source": [
    "# 랜덤워크(백색잡음)를 그려보자"
   ]
  },
  {
   "cell_type": "code",
   "execution_count": null,
   "id": "b3bd44c6",
   "metadata": {
    "colab": {
     "base_uri": "https://localhost:8080/",
     "height": 540
    },
    "executionInfo": {
     "elapsed": 24,
     "status": "ok",
     "timestamp": 1730278272322,
     "user": {
      "displayName": "이기홍",
      "userId": "00707751831574141695"
     },
     "user_tz": -540
    },
    "id": "COqG9mmz0LIf",
    "outputId": "12482be3-1c1b-4904-e417-f24588207efe"
   },
   "outputs": [],
   "source": [
    "#sse.plot(figsize=(12, 6), alpha=0.5)\n",
    "rw.plot(figsize=(12, 6), label='백색잡음', c='r', alpha=0.3)\n",
    "plt.axhline(ll, c='r', ls='--')\n",
    "plt.axhline(ul, c='r', ls='--')\n",
    "plt.title(\"백색잡음\")\n",
    "plt.legend()"
   ]
  },
  {
   "cell_type": "markdown",
   "id": "1f4b94cc",
   "metadata": {
    "id": "3nUfnYpF0LIf"
   },
   "source": [
    "# 주식의 수익률을 그려보자"
   ]
  },
  {
   "cell_type": "code",
   "execution_count": null,
   "id": "2666b8b6",
   "metadata": {
    "colab": {
     "base_uri": "https://localhost:8080/",
     "height": 540
    },
    "executionInfo": {
     "elapsed": 1107,
     "status": "ok",
     "timestamp": 1730278273412,
     "user": {
      "displayName": "이기홍",
      "userId": "00707751831574141695"
     },
     "user_tz": -540
    },
    "id": "fIVUF7VS0LIf",
    "outputId": "3add480e-9735-444a-8af2-3921fce54d38"
   },
   "outputs": [],
   "source": [
    "sse.plot(figsize=(12, 6), alpha=0.5)\n",
    "#rw.plot(label='Random Walk', c='r', alpha=0.3)\n",
    "plt.axhline(ll, c='r', ls='--')\n",
    "plt.axhline(ul, c='r', ls='--')\n",
    "plt.title(\"SEC 수익률\")\n",
    "plt.legend()"
   ]
  },
  {
   "cell_type": "markdown",
   "id": "38a2716a",
   "metadata": {
    "id": "7FMR1wn80LIf"
   },
   "source": [
    "# 주식의 수익률과 랜덤워크를 같이 그려보자"
   ]
  },
  {
   "cell_type": "code",
   "execution_count": null,
   "id": "e1fbc4af",
   "metadata": {
    "colab": {
     "base_uri": "https://localhost:8080/",
     "height": 540
    },
    "executionInfo": {
     "elapsed": 12,
     "status": "ok",
     "timestamp": 1730278273412,
     "user": {
      "displayName": "이기홍",
      "userId": "00707751831574141695"
     },
     "user_tz": -540
    },
    "id": "3VhK3tlZ0LIf",
    "outputId": "7197eae7-c1dd-495d-8d9e-ab59ec43d424"
   },
   "outputs": [],
   "source": [
    "sse.plot(figsize=(12, 6), alpha=0.5)\n",
    "rw.plot(label='Random Walk', c='r', alpha=0.3)\n",
    "plt.axhline(ll, c='r', ls='--')\n",
    "plt.axhline(ul, c='r', ls='--')\n",
    "plt.title(\"SEC 수익률 대 랜덤워크\")\n",
    "plt.legend()"
   ]
  },
  {
   "cell_type": "markdown",
   "id": "9569eaa1",
   "metadata": {
    "id": "-2XfZ5510LIg"
   },
   "source": [
    "# 비정상성과 정상성 시계열의 예"
   ]
  },
  {
   "cell_type": "code",
   "execution_count": null,
   "id": "98aae368",
   "metadata": {
    "colab": {
     "base_uri": "https://localhost:8080/",
     "height": 607
    },
    "executionInfo": {
     "elapsed": 1228,
     "status": "ok",
     "timestamp": 1730278274632,
     "user": {
      "displayName": "이기홍",
      "userId": "00707751831574141695"
     },
     "user_tz": -540
    },
    "id": "QZctylwe0LIg",
    "outputId": "d12beeea-c5b3-4809-bc8c-fa1fb12ceeef"
   },
   "outputs": [],
   "source": [
    "# 종가를 기준으로 일일 수익률을 계산한다.\n",
    "df['Rtn'] = np.log(df['Close']) - np.log(df['Close'].shift(1))\n",
    "\n",
    "# MACD 기술적 지표를 측정한다\n",
    "df['macd'] = TaFeatureSet.MACD(df)\n",
    "df = df.dropna()\n",
    "\n",
    "# 주가, 거래량, 수익률, MACD를 그린다\n",
    "fig = plt.figure(figsize=(10, 6))\n",
    "p1 = fig.add_subplot(2,2,1)\n",
    "p2 = fig.add_subplot(2,2,2)\n",
    "p3 = fig.add_subplot(2,2,3)\n",
    "p4 = fig.add_subplot(2,2,4)\n",
    "\n",
    "p1.plot(df['Close'], color='blue', linewidth=1)\n",
    "p2.plot(df['Volume'], color='red', linewidth=1)\n",
    "p3.plot(df['Rtn'], color='purple', linewidth=1)\n",
    "p4.plot(df['macd'], color='green', linewidth=1)\n",
    "p1.set_title(\"Stock Price\")\n",
    "p2.set_title(\"Volume\")\n",
    "p3.set_title(\"Return\")\n",
    "p4.set_title(\"MACD oscilator\")\n",
    "p3.axhline(y=0, color='black', linewidth=1)\n",
    "p4.axhline(y=0, color='black', linewidth=1)\n",
    "plt.tight_layout()\n",
    "plt.show()"
   ]
  },
  {
   "cell_type": "code",
   "execution_count": null,
   "id": "9636c2bb",
   "metadata": {
    "executionInfo": {
     "elapsed": 7,
     "status": "ok",
     "timestamp": 1730278274632,
     "user": {
      "displayName": "이기홍",
      "userId": "00707751831574141695"
     },
     "user_tz": -540
    },
    "id": "m549rrWh0LIg"
   },
   "outputs": [],
   "source": [
    "# df = pd.read_csv(\"jj.csv\")"
   ]
  },
  {
   "cell_type": "code",
   "execution_count": null,
   "id": "4c391d8e",
   "metadata": {
    "executionInfo": {
     "elapsed": 8,
     "status": "ok",
     "timestamp": 1730278274633,
     "user": {
      "displayName": "이기홍",
      "userId": "00707751831574141695"
     },
     "user_tz": -540
    },
    "id": "aX54x41Q0LIg"
   },
   "outputs": [],
   "source": []
  }
 ],
 "metadata": {
  "kernelspec": {
   "display_name": "Python 3",
   "language": "python",
   "name": "python3"
  }
 },
 "nbformat": 4,
 "nbformat_minor": 5
}
