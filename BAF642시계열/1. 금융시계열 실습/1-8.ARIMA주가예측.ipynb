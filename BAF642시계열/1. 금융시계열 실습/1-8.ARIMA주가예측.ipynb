{
 "cells": [
  {
   "cell_type": "code",
   "execution_count": null,
   "id": "60b74505",
   "metadata": {
    "colab": {
     "base_uri": "https://localhost:8080/"
    },
    "executionInfo": {
     "elapsed": 2518,
     "status": "ok",
     "timestamp": 1698120037904,
     "user": {
      "displayName": "이기홍",
      "userId": "00707751831574141695"
     },
     "user_tz": -540
    },
    "id": "6KuW6t2MywG8",
    "outputId": "bd7f995b-f81c-41f4-c35f-f30b214d316d"
   },
   "outputs": [],
   "source": [
    "from google.colab import drive\n",
    "drive.mount('/content/drive')"
   ]
  },
  {
   "cell_type": "code",
   "execution_count": null,
   "id": "80a1d928",
   "metadata": {
    "executionInfo": {
     "elapsed": 4,
     "status": "ok",
     "timestamp": 1698120037904,
     "user": {
      "displayName": "이기홍",
      "userId": "00707751831574141695"
     },
     "user_tz": -540
    },
    "id": "-kpdbP4hzTYP"
   },
   "outputs": [],
   "source": [
    "import os\n",
    "os.chdir('/content/drive/MyDrive/2023년_카이스트_금융시계열/1주차실습/1. 금융시계열 실습')"
   ]
  },
  {
   "cell_type": "code",
   "execution_count": null,
   "id": "63656392",
   "metadata": {
    "executionInfo": {
     "elapsed": 304,
     "status": "ok",
     "timestamp": 1698119396914,
     "user": {
      "displayName": "이기홍",
      "userId": "00707751831574141695"
     },
     "user_tz": -540
    },
    "id": "uz3OQ2c_yswW"
   },
   "outputs": [],
   "source": [
    "# ARIMA 모형을 이용하여 주가을 예측해 본다.\n",
    "# 예측 결과를 신뢰할 수 있는가? 없다면 그 원인은 무엇인가 ?"
   ]
  },
  {
   "cell_type": "code",
   "execution_count": null,
   "id": "9bb8ed9d",
   "metadata": {
    "executionInfo": {
     "elapsed": 1691,
     "status": "ok",
     "timestamp": 1698120039592,
     "user": {
      "displayName": "이기홍",
      "userId": "00707751831574141695"
     },
     "user_tz": -540
    },
    "id": "d0XnAwp-yswa"
   },
   "outputs": [],
   "source": [
    "import warnings\n",
    "warnings.filterwarnings('ignore')\n",
    "#\n",
    "# ------------------------------------------------------\n",
    "import numpy as np\n",
    "import pandas as pd\n",
    "import matplotlib.pyplot as plt\n",
    "from MyUtil.MyTimeSeries import checkNormality\n",
    "from statsmodels.tsa.arima.model import ARIMA"
   ]
  },
  {
   "cell_type": "code",
   "execution_count": null,
   "id": "9a049054",
   "metadata": {
    "executionInfo": {
     "elapsed": 280,
     "status": "ok",
     "timestamp": 1698119509587,
     "user": {
      "displayName": "이기홍",
      "userId": "00707751831574141695"
     },
     "user_tz": -540
    },
    "id": "vKTTgg7pyswb"
   },
   "outputs": [],
   "source": [
    "# 주가 데이터를 읽어온다\n",
    "p = pd.read_csv('StockData/069500.csv', index_col=0, parse_dates=True)[::-1]\n",
    "p = p.dropna()"
   ]
  },
  {
   "cell_type": "code",
   "execution_count": null,
   "id": "334ce126",
   "metadata": {
    "colab": {
     "base_uri": "https://localhost:8080/",
     "height": 498
    },
    "executionInfo": {
     "elapsed": 1788,
     "status": "ok",
     "timestamp": 1698119512634,
     "user": {
      "displayName": "이기홍",
      "userId": "00707751831574141695"
     },
     "user_tz": -540
    },
    "id": "nth9G7bpyswc",
    "outputId": "2ff4c110-518c-42aa-fc26-7b804657de79"
   },
   "outputs": [],
   "source": [
    "# 종가를 기준으로 일일 수익률을 계산한다.\n",
    "p['Rtn'] = np.log(p['Close']) - np.log(p['Close'].shift(1))\n",
    "p = p.dropna()\n",
    "\n",
    "# 수익률 시계열을 육안으로 확인한다. 이분산성이 있는가?\n",
    "plt.figure(figsize=(10,6))\n",
    "plt.plot(p['Rtn'], color='red', linewidth=1)\n",
    "plt.show()"
   ]
  },
  {
   "cell_type": "code",
   "execution_count": null,
   "id": "aca59528",
   "metadata": {
    "colab": {
     "base_uri": "https://localhost:8080/"
    },
    "executionInfo": {
     "elapsed": 1723,
     "status": "ok",
     "timestamp": 1698119517021,
     "user": {
      "displayName": "이기홍",
      "userId": "00707751831574141695"
     },
     "user_tz": -540
    },
    "id": "y3sDDhojyswc",
    "outputId": "0fcdbb46-09ad-4b34-e993-759944b5a9e2"
   },
   "outputs": [],
   "source": [
    "# 주가 데이터를 ARIMA(2,1,1) 모형으로 분석한다 (Fitting)\n",
    "y = np.array(pd.to_numeric(p['Close'], downcast='float'))  # int형이면 float형으로 변환한다\n",
    "model = ARIMA(y, order=(2,1,1))\n",
    "model_fit = model.fit()\n",
    "print(model_fit.summary())"
   ]
  },
  {
   "cell_type": "code",
   "execution_count": null,
   "id": "6a3904ba",
   "metadata": {
    "colab": {
     "base_uri": "https://localhost:8080/",
     "height": 703
    },
    "executionInfo": {
     "elapsed": 1636,
     "status": "ok",
     "timestamp": 1698119522378,
     "user": {
      "displayName": "이기홍",
      "userId": "00707751831574141695"
     },
     "user_tz": -540
    },
    "id": "ryU9Ei1hyswd",
    "outputId": "ed966201-60fe-4312-f410-5c56de9192eb"
   },
   "outputs": [],
   "source": [
    "# Fitting이 잘되었는지 확인하기 위해 Residual을 분석한다.\n",
    "# Residual은 실제 데이터와 추정치의 차이이므로 백색 잡음 (잔차) 이어야 한다.\n",
    "# 따라서 Residual은 정규분포 특성을 가져야한다. 정규분포 특성을 조사하면\n",
    "# Fitting이 잘되었는지 확인할 수 있다.\n",
    "residual = model_fit.resid\n",
    "checkNormality(residual)  # 육안으로 백색 잡음 형태인지 확인한다"
   ]
  },
  {
   "cell_type": "code",
   "execution_count": null,
   "id": "2d47fd53",
   "metadata": {
    "colab": {
     "base_uri": "https://localhost:8080/",
     "height": 519
    },
    "executionInfo": {
     "elapsed": 890,
     "status": "ok",
     "timestamp": 1698119528777,
     "user": {
      "displayName": "이기홍",
      "userId": "00707751831574141695"
     },
     "user_tz": -540
    },
    "id": "ZzMvhqrRyswd",
    "outputId": "6ccbdd11-2d48-4104-d37c-d853034673bf"
   },
   "outputs": [],
   "source": [
    "# 향후 10 기간 데이터를 예측한다\n",
    "forecast = model_fit.forecast(steps=10)[0]\n",
    "forecast = np.r_[y[-1], forecast]  # y의 마지막 값을 forecast 앞 부분에 넣는다\n",
    "\n",
    "# 원 시계열과 예측된 시계열을 그린다\n",
    "ytail = y[len(y)-100:]   # 뒷 부분 100개만 그린다\n",
    "ax1 = np.arange(1, len(ytail) + 1)\n",
    "ax2 = np.arange(len(ytail), len(ytail) + len(forecast))\n",
    "plt.figure(figsize=(10, 6))\n",
    "plt.plot(ax1, ytail, 'b-o', markersize=3, color='blue', label='Stock Price', linewidth=1)\n",
    "plt.plot(ax2, forecast, color='red', label='Forecast')\n",
    "plt.axvline(x=ax1[-1],  linestyle='dashed', linewidth=1)\n",
    "plt.title(\"Time Series Forcast\")\n",
    "plt.legend()\n",
    "plt.show()"
   ]
  },
  {
   "cell_type": "markdown",
   "id": "a14501b7",
   "metadata": {
    "id": "G9fVj86Uyswe"
   },
   "source": [
    "# 더 좋은 방법을 찾아보자!!!"
   ]
  },
  {
   "cell_type": "code",
   "execution_count": null,
   "id": "3c6d4203",
   "metadata": {
    "id": "P-4rJXXVyswf"
   },
   "outputs": [],
   "source": []
  }
 ],
 "metadata": {
  "kernelspec": {
   "display_name": "Python 3",
   "language": "python",
   "name": "python3"
  }
 },
 "nbformat": 4,
 "nbformat_minor": 5
}
