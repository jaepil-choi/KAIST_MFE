{
 "cells": [
  {
   "cell_type": "code",
   "execution_count": null,
   "id": "b64273b1",
   "metadata": {
    "colab": {
     "base_uri": "https://localhost:8080/"
    },
    "executionInfo": {
     "elapsed": 37667,
     "status": "ok",
     "timestamp": 1698121179778,
     "user": {
      "displayName": "이기홍",
      "userId": "00707751831574141695"
     },
     "user_tz": -540
    },
    "id": "V8ZBh9mf57u-",
    "outputId": "42507aeb-4d67-4979-9eb8-ea0b8a6799bb"
   },
   "outputs": [],
   "source": [
    "from google.colab import drive\n",
    "drive.mount('/content/drive')"
   ]
  },
  {
   "cell_type": "code",
   "execution_count": null,
   "id": "ea17bd18",
   "metadata": {
    "executionInfo": {
     "elapsed": 1532,
     "status": "ok",
     "timestamp": 1698121181306,
     "user": {
      "displayName": "이기홍",
      "userId": "00707751831574141695"
     },
     "user_tz": -540
    },
    "id": "YiwCvn7957ks"
   },
   "outputs": [],
   "source": [
    "import os\n",
    "os.chdir('/content/drive/MyDrive/2023년_카이스트_금융시계열/1주차실습/1. 금융시계열 실습')"
   ]
  },
  {
   "cell_type": "code",
   "execution_count": null,
   "id": "bde450a9",
   "metadata": {
    "id": "Z_4Ee6Fk5Azr"
   },
   "outputs": [],
   "source": [
    "# ARIMA 모형을 임의로 생성하고, 향후 데이터를 예측한다."
   ]
  },
  {
   "cell_type": "code",
   "execution_count": null,
   "id": "d75c5b41",
   "metadata": {
    "executionInfo": {
     "elapsed": 3052,
     "status": "ok",
     "timestamp": 1698121184354,
     "user": {
      "displayName": "이기홍",
      "userId": "00707751831574141695"
     },
     "user_tz": -540
    },
    "id": "4xwqHx1N5Azs"
   },
   "outputs": [],
   "source": [
    "import warnings\n",
    "warnings.filterwarnings('ignore')\n",
    "# --------------------------------------------------\n",
    "import numpy as np\n",
    "import matplotlib.pyplot as plt\n",
    "from MyUtil.MyTimeSeries import sampleARIMA, checkNormality\n",
    "from statsmodels.tsa.arima.model import ARIMA"
   ]
  },
  {
   "cell_type": "code",
   "execution_count": null,
   "id": "39d50607",
   "metadata": {
    "colab": {
     "base_uri": "https://localhost:8080/",
     "height": 468
    },
    "executionInfo": {
     "elapsed": 847,
     "status": "ok",
     "timestamp": 1698121185198,
     "user": {
      "displayName": "이기홍",
      "userId": "00707751831574141695"
     },
     "user_tz": -540
    },
    "id": "njuCXP1R5Azt",
    "outputId": "6e8e0fcc-6721-43dd-f759-1d366d510b91"
   },
   "outputs": [],
   "source": [
    "# ARIMA(1,1,1) 샘플을 생성한다\n",
    "y = sampleARIMA(ar=[0.8], d=1, ma=[0.5], n=500)\n",
    "d = np.diff(y) # 차분하면 ARMA(1,1)이 된다\n",
    "\n",
    "# ARIMA 시계열과 차분 시계열을 그린다\n",
    "fig = plt.figure(figsize=(12, 5))\n",
    "p1 = fig.add_subplot(1,2,1)\n",
    "p2 = fig.add_subplot(1,2,2)\n",
    "p1.plot(y, color='blue', linewidth=1)\n",
    "p2.plot(d, color='red', linewidth=1)\n",
    "p1.set_title(\"ARIMA(1,1,1)\")\n",
    "p2.set_title(\"ARMA(1,1)\")\n",
    "plt.show()"
   ]
  },
  {
   "cell_type": "code",
   "execution_count": null,
   "id": "e9d3e4bc",
   "metadata": {
    "colab": {
     "base_uri": "https://localhost:8080/"
    },
    "executionInfo": {
     "elapsed": 481,
     "status": "ok",
     "timestamp": 1698121185673,
     "user": {
      "displayName": "이기홍",
      "userId": "00707751831574141695"
     },
     "user_tz": -540
    },
    "id": "vTW8C0K35Azu",
    "outputId": "7de22325-5429-4714-e9f9-9a9745f64816"
   },
   "outputs": [],
   "source": [
    "# 샘플링 데이터를 ARIMA(1,1,1) 모형으로 분석한다 (Fitting)\n",
    "y = sampleARIMA(ar=[0.8], d=1, ma=[0.5], n=500)\n",
    "model = ARIMA(y, order=(1,1,1))\n",
    "model_fit = model.fit()\n",
    "print(model_fit.summary())"
   ]
  },
  {
   "cell_type": "code",
   "execution_count": null,
   "id": "29df36a3",
   "metadata": {
    "colab": {
     "base_uri": "https://localhost:8080/",
     "height": 753
    },
    "executionInfo": {
     "elapsed": 1453,
     "status": "ok",
     "timestamp": 1698121187120,
     "user": {
      "displayName": "이기홍",
      "userId": "00707751831574141695"
     },
     "user_tz": -540
    },
    "id": "XigFllrE5Azu",
    "outputId": "a2f9c86d-46d0-4bd7-a081-0b94fc3f9542"
   },
   "outputs": [],
   "source": [
    "# Fitting이 잘되었는지 확인하기 위해 Residual을 분석한다.\n",
    "# Residual은 실제 데이터와 추정치의 차이이므로 백색 잡음 (잔차) 이어야 한다.\n",
    "# 따라서 Residual은 정규분포 특성을 가져야한다. 정규분포 특성을 조사하면\n",
    "# Fitting이 잘되었는지 확인할 수 있다.\n",
    "residual = model_fit.resid\n",
    "checkNormality(residual)  # 육안으로 백색 잡음 형태인지 확인한다"
   ]
  },
  {
   "cell_type": "code",
   "execution_count": null,
   "id": "efc327d5",
   "metadata": {
    "colab": {
     "base_uri": "https://localhost:8080/",
     "height": 545
    },
    "executionInfo": {
     "elapsed": 9,
     "status": "ok",
     "timestamp": 1698121187120,
     "user": {
      "displayName": "이기홍",
      "userId": "00707751831574141695"
     },
     "user_tz": -540
    },
    "id": "yd_JxEIt5Azv",
    "outputId": "5964e3e8-33e3-4217-fc81-79e09c4e21ff"
   },
   "outputs": [],
   "source": [
    "# 향후 10 기간 데이터를 예측한다\n",
    "forecast = model_fit.forecast(steps=10)[0]\n",
    "forecast = np.r_[y[-1], forecast]  # y의 마지막 값을 forecast 앞 부분에 넣는다\n",
    "\n",
    "# 원 시계열과 예측된 시계열을 그린다\n",
    "ytail = y[len(y)-100:]   # 뒷 부분 100개만 그린다\n",
    "ax1 = np.arange(1, len(ytail) + 1)\n",
    "ax2 = np.arange(len(ytail), len(ytail) + len(forecast))\n",
    "plt.figure(figsize=(10, 6))\n",
    "plt.plot(ax1, ytail, 'b-o', markersize=3, color='blue', label='Time series', linewidth=1)\n",
    "plt.plot(ax2, forecast, color='red', label='Forecast')\n",
    "plt.axvline(x=ax1[-1],  linestyle='dashed', linewidth=1)\n",
    "plt.title(\"Time Series Forcast\")\n",
    "plt.legend()\n",
    "plt.show()"
   ]
  },
  {
   "cell_type": "code",
   "execution_count": null,
   "id": "ba498dbc",
   "metadata": {
    "executionInfo": {
     "elapsed": 8,
     "status": "ok",
     "timestamp": 1698121187121,
     "user": {
      "displayName": "이기홍",
      "userId": "00707751831574141695"
     },
     "user_tz": -540
    },
    "id": "uOn3Ur4P5Azv"
   },
   "outputs": [],
   "source": []
  }
 ],
 "metadata": {
  "kernelspec": {
   "display_name": "Python 3",
   "language": "python",
   "name": "python3"
  }
 },
 "nbformat": 4,
 "nbformat_minor": 5
}
