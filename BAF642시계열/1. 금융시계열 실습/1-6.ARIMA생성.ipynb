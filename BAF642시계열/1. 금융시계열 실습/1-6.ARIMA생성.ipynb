{
 "cells": [
  {
   "cell_type": "code",
   "execution_count": null,
   "id": "8ca25214",
   "metadata": {
    "colab": {
     "base_uri": "https://localhost:8080/"
    },
    "executionInfo": {
     "elapsed": 34630,
     "status": "ok",
     "timestamp": 1698120603547,
     "user": {
      "displayName": "이기홍",
      "userId": "00707751831574141695"
     },
     "user_tz": -540
    },
    "id": "vbIdD3LW3zU9",
    "outputId": "ee3fa142-a2fc-4c7b-ba7c-f58f7c6dbf3e"
   },
   "outputs": [],
   "source": [
    "from google.colab import drive\n",
    "drive.mount('/content/drive')"
   ]
  },
  {
   "cell_type": "code",
   "execution_count": null,
   "id": "4df0c33b",
   "metadata": {
    "executionInfo": {
     "elapsed": 452,
     "status": "ok",
     "timestamp": 1698120606270,
     "user": {
      "displayName": "이기홍",
      "userId": "00707751831574141695"
     },
     "user_tz": -540
    },
    "id": "TcDaAnl_3zRM"
   },
   "outputs": [],
   "source": [
    "import os\n",
    "os.chdir('/content/drive/MyDrive/2023년_카이스트_금융시계열/1주차실습/1. 금융시계열 실습')"
   ]
  },
  {
   "cell_type": "code",
   "execution_count": null,
   "id": "678b7d86",
   "metadata": {
    "id": "xiKDMmMz3rcu"
   },
   "outputs": [],
   "source": [
    "# AR 모형을 임의로 생성하고, 향후 데이터를 예측한다."
   ]
  },
  {
   "cell_type": "code",
   "execution_count": null,
   "id": "08361544",
   "metadata": {
    "executionInfo": {
     "elapsed": 2359,
     "status": "ok",
     "timestamp": 1698120609998,
     "user": {
      "displayName": "이기홍",
      "userId": "00707751831574141695"
     },
     "user_tz": -540
    },
    "id": "Yj-3Psbd3rcw"
   },
   "outputs": [],
   "source": [
    "import warnings\n",
    "warnings.filterwarnings('ignore')\n",
    "# -----------------------------------------------\n",
    "import numpy as np\n",
    "import matplotlib.pyplot as plt\n",
    "from MyUtil.MyTimeSeries import sampleARIMA\n",
    "from statsmodels.tsa.arima.model import ARIMA"
   ]
  },
  {
   "cell_type": "code",
   "execution_count": null,
   "id": "1ada55b0",
   "metadata": {
    "colab": {
     "base_uri": "https://localhost:8080/",
     "height": 291
    },
    "executionInfo": {
     "elapsed": 676,
     "status": "ok",
     "timestamp": 1698120614069,
     "user": {
      "displayName": "이기홍",
      "userId": "00707751831574141695"
     },
     "user_tz": -540
    },
    "id": "AqB1zXNs3rcx",
    "outputId": "4e315c1a-63ae-4004-8511-45e79b018994"
   },
   "outputs": [],
   "source": [
    "# AR(1) 샘플을 생성한다\n",
    "y = sampleARIMA(ar=[0.8], d=0, ma=[0], n=500)\n",
    "plt.figure(figsize=(10, 3))\n",
    "plt.plot(y, color='brown', linewidth=1)\n",
    "plt.show()"
   ]
  },
  {
   "cell_type": "code",
   "execution_count": null,
   "id": "31095a14",
   "metadata": {
    "executionInfo": {
     "elapsed": 306,
     "status": "ok",
     "timestamp": 1698120617198,
     "user": {
      "displayName": "이기홍",
      "userId": "00707751831574141695"
     },
     "user_tz": -540
    },
    "id": "pDz32hV73rcy"
   },
   "outputs": [],
   "source": [
    "# 샘플링 데이터를 AR(1) 모형으로 분석한다 (Fitting)\n",
    "model = ARIMA(y, order=(1,0,0))\n",
    "model_fit = model.fit()"
   ]
  },
  {
   "cell_type": "code",
   "execution_count": null,
   "id": "a78a0f63",
   "metadata": {
    "executionInfo": {
     "elapsed": 2,
     "status": "ok",
     "timestamp": 1698120619718,
     "user": {
      "displayName": "이기홍",
      "userId": "00707751831574141695"
     },
     "user_tz": -540
    },
    "id": "XmAtRbjh3rcz"
   },
   "outputs": [],
   "source": [
    "# 두 배열을 오른쪽 왼쪽으로 붙이기\n",
    "#    : np.r_[a, b]\n",
    "#    : np.hstack([a, b])\n",
    "#    : np.concatenate((a, b), axis = 0)"
   ]
  },
  {
   "cell_type": "code",
   "execution_count": null,
   "id": "6dc81ef8",
   "metadata": {
    "executionInfo": {
     "elapsed": 328,
     "status": "ok",
     "timestamp": 1698120624929,
     "user": {
      "displayName": "이기홍",
      "userId": "00707751831574141695"
     },
     "user_tz": -540
    },
    "id": "uiXKmtR-3rcz"
   },
   "outputs": [],
   "source": [
    "# 향후 10 기간 데이터를 예측한다\n",
    "forecast = model_fit.forecast(steps=10)[0]\n",
    "forecast = np.r_[y[-1], forecast]  # y의 마지막 값을 forecast 앞 부분에 넣는다"
   ]
  },
  {
   "cell_type": "code",
   "execution_count": null,
   "id": "e6004ace",
   "metadata": {
    "colab": {
     "base_uri": "https://localhost:8080/",
     "height": 352
    },
    "executionInfo": {
     "elapsed": 1207,
     "status": "ok",
     "timestamp": 1698120632801,
     "user": {
      "displayName": "이기홍",
      "userId": "00707751831574141695"
     },
     "user_tz": -540
    },
    "id": "OEYOLXGu3rcz",
    "outputId": "0d460721-1a33-42b1-fd93-bf88219a9017"
   },
   "outputs": [],
   "source": [
    "# 원 시계열과 예측된 시계열을 그린다\n",
    "ytail = y[len(y)-100:]   # 뒷 부분 100개만 그린다\n",
    "ax1 = np.arange(1, len(ytail) + 1)\n",
    "ax2 = np.arange(len(ytail), len(ytail) + len(forecast))\n",
    "plt.figure(figsize=(10, 3.5))\n",
    "plt.plot(ax1, ytail, color='blue', label='Time series', linewidth=1)\n",
    "plt.plot(ax2, forecast, color='red', label='Forecast')\n",
    "plt.axvline(x=ax1[-1],  linestyle='dashed', linewidth=1)\n",
    "plt.title(\"Time Series Forcast\")\n",
    "plt.legend()\n",
    "plt.show()"
   ]
  },
  {
   "cell_type": "code",
   "execution_count": null,
   "id": "59efe5f5",
   "metadata": {
    "id": "QroaghR-3rcz"
   },
   "outputs": [],
   "source": []
  }
 ],
 "metadata": {
  "kernelspec": {
   "display_name": "Python 3",
   "language": "python",
   "name": "python3"
  }
 },
 "nbformat": 4,
 "nbformat_minor": 5
}
