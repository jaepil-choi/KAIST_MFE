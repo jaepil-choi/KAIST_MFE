{
 "cells": [
  {
   "cell_type": "code",
   "execution_count": null,
   "id": "503ab590",
   "metadata": {
    "colab": {
     "base_uri": "https://localhost:8080/"
    },
    "executionInfo": {
     "elapsed": 35645,
     "status": "ok",
     "timestamp": 1698120339325,
     "user": {
      "displayName": "이기홍",
      "userId": "00707751831574141695"
     },
     "user_tz": -540
    },
    "id": "tm-FhHai2zWl",
    "outputId": "e8ff05f3-6231-4094-ba75-3a8388b88f44"
   },
   "outputs": [],
   "source": [
    "from google.colab import drive\n",
    "drive.mount('/content/drive')"
   ]
  },
  {
   "cell_type": "code",
   "execution_count": null,
   "id": "0bd5e137",
   "metadata": {
    "executionInfo": {
     "elapsed": 450,
     "status": "ok",
     "timestamp": 1698120339772,
     "user": {
      "displayName": "이기홍",
      "userId": "00707751831574141695"
     },
     "user_tz": -540
    },
    "id": "r8H4wEFP2zTG"
   },
   "outputs": [],
   "source": [
    "import os\n",
    "os.chdir('/content/drive/MyDrive/2023년_카이스트_금융시계열/1주차실습/1. 금융시계열 실습')"
   ]
  },
  {
   "cell_type": "code",
   "execution_count": null,
   "id": "4ce10687",
   "metadata": {
    "executionInfo": {
     "elapsed": 3,
     "status": "ok",
     "timestamp": 1698120339772,
     "user": {
      "displayName": "이기홍",
      "userId": "00707751831574141695"
     },
     "user_tz": -540
    },
    "id": "PTh1rZfW2VG5"
   },
   "outputs": [],
   "source": [
    "# AR 모형을 임의로 생성하고, AR 파라메터가 변할 때 시계열의 모습이 어떻게\n",
    "# 변하는지 육안으로 확인한다. AR 파라메터의 특성을 직관적으로 이해한다.\n",
    "# 또한, AR 모형에 대한 ACF와 PACF 특성을 육안으로 확인한다.\n",
    "# ACF/PACF는 향후 실제 시계열을 분석할 때 분석 모델을 선정에 참고한다."
   ]
  },
  {
   "cell_type": "code",
   "execution_count": null,
   "id": "488e80da",
   "metadata": {
    "executionInfo": {
     "elapsed": 319,
     "status": "ok",
     "timestamp": 1698120377431,
     "user": {
      "displayName": "이기홍",
      "userId": "00707751831574141695"
     },
     "user_tz": -540
    },
    "id": "m7FDtuY42VG7"
   },
   "outputs": [],
   "source": [
    "import warnings\n",
    "warnings.filterwarnings('ignore')\n",
    "# --------------------------------------------------------------------\n",
    "import matplotlib.pyplot as plt\n",
    "from MyUtil.MyTimeSeries import sampleARIMA\n",
    "from statsmodels.tsa.arima.model import ARIMA"
   ]
  },
  {
   "cell_type": "code",
   "execution_count": null,
   "id": "c7fc7630",
   "metadata": {
    "colab": {
     "base_uri": "https://localhost:8080/",
     "height": 707
    },
    "executionInfo": {
     "elapsed": 4228,
     "status": "ok",
     "timestamp": 1698120381963,
     "user": {
      "displayName": "이기홍",
      "userId": "00707751831574141695"
     },
     "user_tz": -540
    },
    "id": "TiIza9sK2VG8",
    "outputId": "5005ecb0-8e50-4263-c0c8-7311e2f71a51"
   },
   "outputs": [],
   "source": [
    "# AR(1) 모형의 parameter 변화에 따른 그래프 모양을 확인한다.\n",
    "# a 값을 변화시켜 가면서 그래프의 모양이 어떻게 바뀌는지 확인한다.\n",
    "y1 = sampleARIMA(ar=[0.1], d=0, ma=[0], n=500)\n",
    "y2 = sampleARIMA(ar=[0.5], d=0, ma=[0], n=500)\n",
    "y3 = sampleARIMA(ar=[0.9], d=0, ma=[0], n=500)\n",
    "y4 = sampleARIMA(ar=[0.99], d=0, ma=[0], n=500)\n",
    "\n",
    "fig = plt.figure(figsize=(10, 7))\n",
    "p1 = fig.add_subplot(2,2,1)\n",
    "p2 = fig.add_subplot(2,2,2)\n",
    "p3 = fig.add_subplot(2,2,3)\n",
    "p4 = fig.add_subplot(2,2,4)\n",
    "\n",
    "p1.plot(y1, color='blue', linewidth=1)\n",
    "p2.plot(y2, color='red', linewidth=1)\n",
    "p3.plot(y3, color='purple', linewidth=1)\n",
    "p4.plot(y4, color='green', linewidth=1)\n",
    "p1.set_title(\"a = 0.1\")\n",
    "p2.set_title(\"a = 0.5\")\n",
    "p3.set_title(\"a = 0.9\")\n",
    "p4.set_title(\"a = 0.99\")\n",
    "plt.tight_layout()\n",
    "plt.show()"
   ]
  },
  {
   "cell_type": "code",
   "execution_count": null,
   "id": "b86df424",
   "metadata": {
    "colab": {
     "base_uri": "https://localhost:8080/"
    },
    "executionInfo": {
     "elapsed": 10,
     "status": "ok",
     "timestamp": 1698120381964,
     "user": {
      "displayName": "이기홍",
      "userId": "00707751831574141695"
     },
     "user_tz": -540
    },
    "id": "kP7cjA0T2VG9",
    "outputId": "fa9087c7-e1ac-4a5a-be17-11babbf210d8"
   },
   "outputs": [],
   "source": [
    "# 임의로 생성한 AR(1) 샘플 데이터를 분석하여 a 값을 추정해 본다.\n",
    "# 생성할 때 지정한 값으로 추정이 잘되는지 확인한다.\n",
    "y = sampleARIMA(ar=[0.5], d=0, ma=[0], n=500)\n",
    "model = ARIMA(y, order=(1,0,0)).fit()\n",
    "print(model.summary())"
   ]
  },
  {
   "cell_type": "code",
   "execution_count": null,
   "id": "9624ac2b",
   "metadata": {
    "colab": {
     "base_uri": "https://localhost:8080/",
     "height": 864
    },
    "executionInfo": {
     "elapsed": 522,
     "status": "ok",
     "timestamp": 1698120382480,
     "user": {
      "displayName": "이기홍",
      "userId": "00707751831574141695"
     },
     "user_tz": -540
    },
    "id": "L0NlGu8C2VG9",
    "outputId": "519fa1f4-3114-4484-9bb3-a9f4d395f9d4"
   },
   "outputs": [],
   "source": [
    "# AR(2) 모형도 확인해 본다\n",
    "y = sampleARIMA(ar=[0.1, -0.4], d=0, ma=[0], n=500)\n",
    "plt.plot(y, color='blue', linewidth=1)\n",
    "model = ARIMA(y, order=(2,0,0)).fit()\n",
    "print(model.summary())"
   ]
  },
  {
   "cell_type": "code",
   "execution_count": null,
   "id": "ea6ad7a2",
   "metadata": {
    "colab": {
     "base_uri": "https://localhost:8080/",
     "height": 291
    },
    "executionInfo": {
     "elapsed": 614,
     "status": "ok",
     "timestamp": 1698120383085,
     "user": {
      "displayName": "이기홍",
      "userId": "00707751831574141695"
     },
     "user_tz": -540
    },
    "id": "B1jA8ZGk2VG-",
    "outputId": "daad5aea-cc4a-48b6-a1da-8b8436f2893b"
   },
   "outputs": [],
   "source": [
    "# AR 모형의 ACF와 PACD를 확인해 본다. a값을 변화시켜 가면서 비교해 본다\n",
    "# ACF와 PACF는 향후 실제 시계열을 어느 모형으로 분석할 지에 대한 단서를 제공한다\n",
    "from statsmodels.graphics.tsaplots import plot_acf, plot_pacf\n",
    "y = sampleARIMA(ar=[0.9], d=0, ma=[0], n=500)\n",
    "fig = plt.figure(figsize=(12, 3))\n",
    "plt.plot(y, color='red', linewidth=1)\n",
    "plt.show()"
   ]
  },
  {
   "cell_type": "code",
   "execution_count": null,
   "id": "95365f09",
   "metadata": {
    "colab": {
     "base_uri": "https://localhost:8080/"
    },
    "executionInfo": {
     "elapsed": 901,
     "status": "ok",
     "timestamp": 1698120383975,
     "user": {
      "displayName": "이기홍",
      "userId": "00707751831574141695"
     },
     "user_tz": -540
    },
    "id": "jEPbeLI72VG-",
    "lines_to_next_cell": 2,
    "outputId": "8bdc7a1f-0f19-4454-9ab2-7f5dede78c0f"
   },
   "outputs": [],
   "source": [
    "fig = plt.figure(figsize=(12, 4))\n",
    "p1 = fig.add_subplot(1,2,1)\n",
    "p2 = fig.add_subplot(1,2,2)\n",
    "plot_acf(y, p1, lags=50)\n",
    "plot_pacf(y, p2, lags=50)\n",
    "plt.show()"
   ]
  },
  {
   "cell_type": "code",
   "execution_count": null,
   "id": "3659b225",
   "metadata": {
    "executionInfo": {
     "elapsed": 11,
     "status": "ok",
     "timestamp": 1698120383975,
     "user": {
      "displayName": "이기홍",
      "userId": "00707751831574141695"
     },
     "user_tz": -540
    },
    "id": "m8WHGYNh2VG-"
   },
   "outputs": [],
   "source": []
  }
 ],
 "metadata": {
  "kernelspec": {
   "display_name": "Python 3",
   "language": "python",
   "name": "python3"
  }
 },
 "nbformat": 4,
 "nbformat_minor": 5
}
