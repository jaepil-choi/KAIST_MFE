{
 "cells": [
  {
   "cell_type": "code",
   "execution_count": null,
   "id": "a7ac44f5",
   "metadata": {},
   "outputs": [],
   "source": [
    "# AR 모형을 임의로 생성하고, 다시 분석해 본다.\n",
    "# 분석 결과가 임의로 생성할 때 사용한 파라메터와 잘 일치하는지 확인한다.\n",
    "# 잘 일치한다면 향후 실제 시계열 데이터를 분석할 때 활용할 수 있다."
   ]
  },
  {
   "cell_type": "code",
   "execution_count": null,
   "id": "97582632",
   "metadata": {},
   "outputs": [],
   "source": [
    "import warnings\n",
    "warnings.filterwarnings('ignore')\n",
    "# ------------------------------------------------------------------\n",
    "import numpy as np\n",
    "import scipy.stats as stats\n",
    "import matplotlib.pyplot as plt\n",
    "# from MyUtil.MyTimeSeries import sampleARIMA, checkNormality\n",
    "from statsmodels.tsa.arima_model import ARIMA\n",
    "from statsmodels.tsa.arima_process import arma_generate_sample\n",
    "from statsmodels.graphics.tsaplots import plot_acf"
   ]
  },
  {
   "cell_type": "code",
   "execution_count": null,
   "id": "333cd7cb",
   "metadata": {},
   "outputs": [],
   "source": [
    "# AR(2) 샘플을 생성한다\n",
    "y = sampleARIMA(ar=[0.5, -0.5], d=0, ma=[0], n=1000)\n",
    "plt.figure(figsize=(10, 6))\n",
    "plt.plot(y, color='blue', linewidth=1)\n",
    "plt.title(\"AR(2)\")\n",
    "plt.show()"
   ]
  },
  {
   "cell_type": "code",
   "execution_count": null,
   "id": "c3d93287",
   "metadata": {},
   "outputs": [],
   "source": [
    "# 샘플링 데이터를 AR(2) 모형으로 분석한다 (Fitting)\n",
    "model = ARIMA(y, order=(2,0,0))\n",
    "model_fit = model.fit()\n",
    "print(model_fit.summary())"
   ]
  },
  {
   "cell_type": "code",
   "execution_count": null,
   "id": "a48654d6",
   "metadata": {},
   "outputs": [],
   "source": [
    "\n",
    "# 시계열 데이터의 정규성을 확인한다\n",
    "def checkNormality(data):\n",
    "    fig = plt.figure(figsize=(10, 8))\n",
    "    p1 = fig.add_subplot(2,2,1)\n",
    "    p2 = fig.add_subplot(2,2,2)\n",
    "    p3 = fig.add_subplot(2,2,3)\n",
    "    p4 = fig.add_subplot(2,2,4)\n",
    "    # 육안으로 백색 잡음 형태인지 확인한다\n",
    "    p1.plot(data) \n",
    "    p1.set_title(\"Data\")\n",
    "    \n",
    "    # Residual의 분포를 육안으로 확인한다\n",
    "    r = np.copy(data)\n",
    "    r.sort()\n",
    "    pdf = stats.norm.pdf(r, np.mean(r), np.std(r))\n",
    "    p2.plot(r,pdf)\n",
    "    p2.hist(r, density=True, bins=100)\n",
    "    p2.set_title(\"Distribution\")\n",
    "    \n",
    "    # Q-Q plot을 그린다\n",
    "    stats.probplot(data, dist=\"norm\", plot=p3)\n",
    "    \n",
    "    # ACF plot을 확인한다. 백색 잡음은 자기상관성이 없다.\n",
    "    plot_acf(data, lags=100, ax=p4)\n",
    "    \n",
    "    # Shapiro-Wilks 검정을 수행한다\n",
    "    # (검정통계량, p-value)가 출력된다.\n",
    "    # 귀무가설 : 정규분포 이다, 대립가설 : 아니다\n",
    "    # p-value > 0.05 이면 귀무가설을 기각할 수 없다 --> \"정규분포이다\"\n",
    "    w = stats.shapiro(data)\n",
    "    print()\n",
    "    print(\"Shapiro-Wilks 검정 : 검정통계량 = %.4f, p-value = %.4f\" % (w[0], w[1]))"
   ]
  },
  {
   "cell_type": "code",
   "execution_count": null,
   "id": "e8a10817",
   "metadata": {},
   "outputs": [],
   "source": [
    "# Fitting이 잘되었는지 확인하기 위해 Residual을 분석한다.\n",
    "# Residual은 실제 데이터와 추정치의 차이이므로 백색 잡음 (잔차) 이어야 한다.\n",
    "# 따라서 Residual은 정규분포 특성을 가져야한다. 정규분포 특성을 조사하면 \n",
    "# Fitting이 잘되었는지 확인할 수 있다.\n",
    "residual = model_fit.resid\n",
    "checkNormality(residual)  # 육안으로 백색 잡음 형태인지 확인한다"
   ]
  },
  {
   "cell_type": "code",
   "execution_count": null,
   "id": "8d6492bc",
   "metadata": {},
   "outputs": [],
   "source": []
  }
 ],
 "metadata": {
  "kernelspec": {
   "display_name": "Python 3",
   "language": "python",
   "name": "python3"
  }
 },
 "nbformat": 4,
 "nbformat_minor": 5
}
