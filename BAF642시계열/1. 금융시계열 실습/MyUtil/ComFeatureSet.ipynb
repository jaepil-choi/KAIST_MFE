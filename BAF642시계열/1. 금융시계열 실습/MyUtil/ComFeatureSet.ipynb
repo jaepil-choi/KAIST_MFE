{
 "cells": [
  {
   "cell_type": "code",
   "execution_count": null,
   "id": "820fed51",
   "metadata": {
    "lines_to_next_cell": 1
   },
   "outputs": [],
   "source": [
    "import numpy as np"
   ]
  },
  {
   "cell_type": "code",
   "execution_count": null,
   "id": "3062ecfd",
   "metadata": {},
   "outputs": [],
   "source": [
    "# Supervised Learning을 위한 class를 부여한다\n",
    "# 종목마다 변동성이 다르므로 목표 수익률을 \"변동성의 몇 배\"로 정의한다.\n",
    "# ex : up = 0.5 이면 변동성의 +0.5 배.\n",
    "# up : 목표 수익률 표준편차 배수\n",
    "# dn : 손절률 표준편차 배수\n",
    "# period : holding 기간\n",
    "# return : 0 - 주가 횡보, 1 - 주가 하락, 2 - 주가 상승\n",
    "# --------------------------------------------------------------\n",
    "def getUpDnClass(data, up=1, dn=-1, period=20):\n",
    "    # 주가 수익률의 표준편차를 측정한다. 컬럼 이름은 class라고 부여해 놓는다.\n",
    "    # 수익률 표준편차 (변동성)는 목표 수익률과 손절률을 계산하기 위해 임시로 사용된다.\n",
    "    data['class'] = np.log(data['Close']) - np.log(data['Close'].shift(1))\n",
    "    s = np.std(data['class'])\n",
    "\n",
    "    # 목표 수익률과 손절률을 계산한다\n",
    "    uLimit = up * s * np.sqrt(period)\n",
    "    dLimit = dn * s * np.sqrt(period)\n",
    "    \n",
    "    # 가상 Trading을 통해 미래 주가 방향에 대한 Class를 결정한다. class에는 원래 수익률이 기록되어 있었으나 NaN을 기록해 둔다\n",
    "    data['class'] = np.nan\n",
    "    for i in range(len(data)-period):\n",
    "        buyPrc = data.iloc[i].Close     # 매수 포지션을 취한다\n",
    "        y = np.nan\n",
    "            \n",
    "        # 매수 포지션 이후 청산 지점을 결정한다\n",
    "        duration = 0    # 보유 기간\n",
    "        for k in range(i+1, len(data)):\n",
    "            sellPrc = data.iloc[k].Close\n",
    "            #rtn = np.log(sellPrc / buyPrc)  # 수익률을 계산한다\n",
    "            rtn = (sellPrc - buyPrc) / buyPrc\n",
    "            \n",
    "            # 목표 수익률이나 손절률에 도달하면 루프를 종료한다\n",
    "            if duration > period:\n",
    "                y = 0           # hoding 기간 동안 목표 수익률이나 손절률에 도달하지 못했음. 주가가 횡보한 것임.\n",
    "                break\n",
    "            else:\n",
    "                if rtn > uLimit:\n",
    "                    y = 2       # 수익\n",
    "                    break\n",
    "                elif rtn < dLimit:\n",
    "                    y = 1       # 손실\n",
    "                    break\n",
    "            duration += 1\n",
    "        data.iloc[i, 6] = y     # class 컬럼에 y를 기록한다.\n",
    "    data = data.dropna()    # 마지막 부분은 class를 결정하지 못해 NaN이 기록되어 있으므로 이를 제거한다.\n",
    "    return data"
   ]
  }
 ],
 "metadata": {
  "jupytext": {
   "cell_metadata_filter": "-all",
   "main_language": "python",
   "notebook_metadata_filter": "-all"
  }
 },
 "nbformat": 4,
 "nbformat_minor": 5
}
