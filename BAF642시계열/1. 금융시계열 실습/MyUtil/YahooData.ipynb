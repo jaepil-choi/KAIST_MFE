{
 "cells": [
  {
   "cell_type": "code",
   "execution_count": null,
   "id": "b45f5d0d",
   "metadata": {
    "lines_to_next_cell": 0
   },
   "outputs": [],
   "source": []
  },
  {
   "cell_type": "code",
   "execution_count": null,
   "id": "406acbd4",
   "metadata": {
    "lines_to_next_cell": 1
   },
   "outputs": [],
   "source": [
    "# 주가 데이터 수집 관련 함수를 정의한다\n",
    "#\n",
    "# -----------------------------------------------------------------\n",
    "import pandas as pd\n",
    "pd.core.common.is_list_like = pd.api.types.is_list_like\n",
    "import pandas_datareader.data as web\n",
    "import datetime as dt"
   ]
  },
  {
   "cell_type": "code",
   "execution_count": null,
   "id": "d032efbe",
   "metadata": {
    "lines_to_next_cell": 1
   },
   "outputs": [],
   "source": [
    "# Yahoo site로 부터 대형주 종목 데이터를 수집하여 파일에 저장한다.\n",
    "# Yahoo site로 부터 주가 데이터를 수집한다. 가끔 안들어올 때가 있어서 10번 시도한다.\n",
    "# 수정 주가로 환산하여 읽어온다\n",
    "def getStockDataYahoo(stockCode, start='', end=''):\n",
    "    # 수집 기간\n",
    "    if start == '':\n",
    "        start = dt.datetime(2007, 1, 1)\n",
    "    else:\n",
    "        start = dt.datetime.strptime(start, '%Y-%m-%d')\n",
    "    \n",
    "    if end == '':\n",
    "        end = dt.date.today()\n",
    "    else:\n",
    "        end = dt.datetime.strptime(end, '%Y-%m-%d')\n",
    "    \n",
    "    stock = pd.DataFrame()\n",
    "    for i in range(0, 10):\n",
    "        try:\n",
    "            stock = web.YahooDailyReader(stockCode, start, end, adjust_price=True).read()\n",
    "        except:\n",
    "            print(\"%s not collected (%d)\" % (stockCode, i + 1))\n",
    "            \n",
    "        if not stock.empty:\n",
    "            break\n",
    "        \n",
    "    if stock.empty:\n",
    "        print(\"%s not collected\" % stockCode)\n",
    "    \n",
    "    # 수정주가 비율은 이미 적용되었으므로 제거한다\n",
    "    stock = stock.drop('Adj_Ratio', 1)\n",
    "    \n",
    "    # Volume이 0 인 경우가 있으므로, 이를 제거한다 \n",
    "    stock = stock.drop(stock[stock.Volume < 10].index)\n",
    "    \n",
    "    # 데이터에 NA 값이 있으면 제거한다\n",
    "    stock = stock.dropna()\n",
    "    \n",
    "    # 수집한 데이터를 파일에 저장한다.\n",
    "    stock.to_csv('StockData/' + stockCode[0:6] + '.csv', date_format='%Y-%m-%d')\n",
    "    print (\"%s 데이터를 수집하였습니다. (rows = %d)\" % (stockCode, len(stock)))\n",
    "    return stock"
   ]
  },
  {
   "cell_type": "code",
   "execution_count": null,
   "id": "9add16cc",
   "metadata": {
    "lines_to_next_cell": 1
   },
   "outputs": [],
   "source": [
    "def getStockDataList(stockList, start='', end=''):\n",
    "    for code in stockList.keys():\n",
    "        getStockDataYahoo(code + '.KS', start=start, end=end)"
   ]
  },
  {
   "cell_type": "code",
   "execution_count": null,
   "id": "39b652f9",
   "metadata": {
    "lines_to_next_cell": 1
   },
   "outputs": [],
   "source": [
    "# 일일 데이터를 주간 (Weekly), 혹은 월간 (Monthly)으로 변환한다\n",
    "def myAgg(x):\n",
    "    names = {\n",
    "            'Open' : x['Open'].head(1),\n",
    "            'High' : x['High'].max(),\n",
    "            'Low' : x['Low'].min(),\n",
    "            'Close' : x['Close'].tail(1),\n",
    "            'Volume' : x['Volume'].mean()}\n",
    "    return pd.Series(names, index=['Open', 'High', 'Low', 'Close', 'Volume'])"
   ]
  },
  {
   "cell_type": "code",
   "execution_count": null,
   "id": "250ad809",
   "metadata": {},
   "outputs": [],
   "source": [
    "def getWeekMonthOHLC(x, type='Week'):\n",
    "    if type == 'Week':\n",
    "        rtn = x.resample('W-Fri').apply(myAgg)\n",
    "    elif type == 'Month':\n",
    "        rtn = x.resample('M').apply(myAgg)\n",
    "    else:\n",
    "        print(\"invalid type in getWeekMonthOHLC()\")\n",
    "        return\n",
    "    rtn = rtn.dropna()\n",
    "    rtn = rtn.apply(pd.to_numeric)\n",
    "    return rtn"
   ]
  }
 ],
 "metadata": {
  "jupytext": {
   "cell_metadata_filter": "-all",
   "main_language": "python",
   "notebook_metadata_filter": "-all"
  }
 },
 "nbformat": 4,
 "nbformat_minor": 5
}
