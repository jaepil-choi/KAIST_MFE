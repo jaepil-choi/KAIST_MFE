{
 "cells": [
  {
   "cell_type": "code",
   "execution_count": null,
   "id": "f99b046c",
   "metadata": {
    "lines_to_next_cell": 1
   },
   "outputs": [],
   "source": [
    "# OHLCV 데이터에서 기술적 분석 지표들의 FeatureSet을 추출한다\n",
    "# -------------------------------------------------------------\n",
    "import pandas as pd\n",
    "import numpy as np\n",
    "import math\n",
    "from scipy.stats import norm\n",
    "from scipy import ndimage\n",
    "from MyUtil.ComFeatureSet import getUpDnClass"
   ]
  },
  {
   "cell_type": "code",
   "execution_count": null,
   "id": "4e01f38f",
   "metadata": {
    "lines_to_next_cell": 1
   },
   "outputs": [],
   "source": [
    "# OHLCV 데이터로부터 기술적분석 (TA) Feature Set을 구성한다\n",
    "def getTaFeatureSet(data, u, d, period, binary=False):\n",
    "    # OHLCV 데이터에 class를 부여한다.\n",
    "    df = getUpDnClass(data, up=u, dn=d, period=period)\n",
    "    \n",
    "    # Feature value를 계산한 후 Z-score Normalization 한다\n",
    "    fmacd = scale(MACD(data, 12, 26, 9))\n",
    "    frsi = scale(RSI(data, 40))\n",
    "    fobv = scale(OBV(data, ext=True))\n",
    "    fliquidity = scale(Liquidity(data))\n",
    "    fparkinson = scale(ParkinsonVol(data, 10))\n",
    "    fvol = scale(CloseVol(data, 10))\n",
    "    \n",
    "    ft = pd.DataFrame()\n",
    "    ft['macd'] = fmacd\n",
    "    ft['rsi'] = frsi\n",
    "    ft['obv'] = fobv\n",
    "    ft['liquidity'] = fliquidity\n",
    "    ft['parkinson'] = fparkinson\n",
    "    ft['volatility'] = fvol\n",
    "    ft['class'] = df['class']\n",
    "    ft = ft.dropna()\n",
    "    \n",
    "    # Class는 0, 1, 2로 (multi-class) 측정되었는데, binary-classification을\n",
    "    # 위해서는 주가 횡보인 class=0을 제거하고, class = 1을 0으로, 2를 1로 변환한다.\n",
    "    if binary:\n",
    "        ft = ft[ft['class'] != 0.0]\n",
    "        ft['class'] -= 1.0\n",
    "        \n",
    "    # Feature들의 value (수준) 보다는 방향 (up, down)을 분석하는 것이 의미가 있어 보임.\n",
    "    # 방향을 어떻게 검출할 지는 향후 연구 과제로 한다\n",
    "\n",
    "    return ft"
   ]
  },
  {
   "cell_type": "code",
   "execution_count": null,
   "id": "bb1d2624",
   "metadata": {
    "lines_to_next_cell": 1
   },
   "outputs": [],
   "source": [
    "# MACD 지표를 계산한다\n",
    "# MACD Line : 12-day EMA - 26-day EMA\n",
    "# Signal Line : 9-day EMA of MACD line\n",
    "# MACD oscilator : MACD Line - Signal Line\n",
    "# ----------------------------------------\n",
    "def MACD(ohlc, nFast=12, nSlow=26, nSig=9, percent=True):\n",
    "    ema1 = EMA(ohlc.Close, nFast)\n",
    "    ema2 = EMA(ohlc.Close, nSlow)\n",
    "    \n",
    "    if percent:\n",
    "        macdLine =  100 * (ema1 - ema2) / ema2\n",
    "    else:\n",
    "        macdLine =  ema1 - ema2\n",
    "    signalLine = EMA(macdLine, nSig)\n",
    "    \n",
    "    return pd.DataFrame(macdLine - signalLine, index=ohlc.index)"
   ]
  },
  {
   "cell_type": "code",
   "execution_count": null,
   "id": "31d7b68b",
   "metadata": {
    "lines_to_next_cell": 1
   },
   "outputs": [],
   "source": [
    "# 지수이동평균을 계산한다\n",
    "# data : Series\n",
    "def EMA(data, n):\n",
    "    ma = []\n",
    "    \n",
    "    # data 첫 부분에 na 가 있으면 skip한다\n",
    "    x = 0\n",
    "    while True:\n",
    "        if math.isnan(data[x]):\n",
    "            ma.append(data[x])\n",
    "        else:\n",
    "            break;\n",
    "        x += 1\n",
    "        \n",
    "    # x ~ n - 1 기간까지는 na를 assign 한다\n",
    "    for i in range(x, x + n - 1):\n",
    "        ma.append(np.nan)\n",
    "    \n",
    "    # x + n - 1 기간은 x ~ x + n - 1 까지의 평균을 적용한다\n",
    "    sma = np.mean(data[x:(x + n)])\n",
    "    ma.append(sma)\n",
    "    \n",
    "    # x + n 기간 부터는 EMA를 적용한다\n",
    "    k = 2 / (n + 1)\n",
    "    \n",
    "    for i in range(x + n, len(data)):\n",
    "        #print(i, data[i])\n",
    "        ma.append(ma[-1] + k * (data[i] - ma[-1]))\n",
    "    \n",
    "    return pd.Series(ma, index=data.index)"
   ]
  },
  {
   "cell_type": "code",
   "execution_count": null,
   "id": "34db998f",
   "metadata": {
    "lines_to_next_cell": 1
   },
   "outputs": [],
   "source": [
    "# RSI 지표를 계산한다. (Momentum indicator)\n",
    "# U : Gain, D : Loss, AU : Average Gain, AD : Average Loss\n",
    "# smoothed RS는 고려하지 않았음.\n",
    "# --------------------------------------------------------\n",
    "def RSI(ohlc, n=14):\n",
    "    closePrice = pd.DataFrame(ohlc.Close)\n",
    "    U = np.where(closePrice.diff(1) > 0, closePrice.diff(1), 0)\n",
    "    D = np.where(closePrice.diff(1) < 0, closePrice.diff(1) * (-1), 0)\n",
    "    \n",
    "    U = pd.DataFrame(U, index=ohlc.index)\n",
    "    D = pd.DataFrame(D, index=ohlc.index)\n",
    "    \n",
    "    AU = U.rolling(window=n).mean()\n",
    "    AD = D.rolling(window=n).mean()\n",
    "\n",
    "    return 100 * AU / (AU + AD)"
   ]
  },
  {
   "cell_type": "code",
   "execution_count": null,
   "id": "7f62376d",
   "metadata": {
    "lines_to_next_cell": 1
   },
   "outputs": [],
   "source": [
    "# On Balance Volume (OBV) : buying and selling pressure\n",
    "# ext = False : 기존의 OBV\n",
    "# ext = True  : Extended OBV. 가격 변화를 이용하여 거래량을 매수수량, 매도수량으로 분해하여 매집량 누적\n",
    "# -------------------------------------------------------------------------------------------------\n",
    "def OBV(ohlcv, ext=True):\n",
    "    obv = [0]\n",
    "    \n",
    "    # 기존의 OBV\n",
    "    if ext == False:\n",
    "        # 기술적 지표인 OBV를 계산한다\n",
    "        for curr, prev in zip(ohlcv.itertuples(), ohlcv.shift(1).itertuples()):\n",
    "            if math.isnan(prev.Volume):\n",
    "                continue\n",
    "            \n",
    "            if curr.Close > prev.Close:\n",
    "                obv.append(obv[-1] + curr.Volume)\n",
    "            if curr.Close < prev.Close:\n",
    "                obv.append(obv[-1] - curr.Volume)\n",
    "            if curr.Close == prev.Close:\n",
    "                obv.append(obv[-1])\n",
    "    # Extendedd OBV\n",
    "    else:\n",
    "        # 가격 변화를 측정한다. 가격 변화 = 금일 종가 - 전일 종가\n",
    "        deltaClose = ohlcv['Close'].diff(1)\n",
    "        deltaClose = deltaClose.dropna(axis = 0)\n",
    "        \n",
    "        # 가격 변화의 표준편차를 측정한다\n",
    "        stdev = np.std(deltaClose)\n",
    "        \n",
    "        for curr, prev in zip(ohlcv.itertuples(), ohlcv.shift(1).itertuples()):\n",
    "            if math.isnan(prev.Close):\n",
    "                continue\n",
    "            \n",
    "            buy = curr.Volume * norm.cdf((curr.Close - prev.Close) / stdev)\n",
    "            sell = curr.Volume - buy\n",
    "            bs = abs(buy - sell)\n",
    "            \n",
    "            if curr.Close > prev.Close:\n",
    "                obv.append(obv[-1] + bs)\n",
    "            if curr.Close < prev.Close:\n",
    "                obv.append(obv[-1] - bs)\n",
    "            if curr.Close == prev.Close:\n",
    "                obv.append(obv[-1])\n",
    "        \n",
    "    return pd.DataFrame(obv, index=ohlcv.index)"
   ]
  },
  {
   "cell_type": "code",
   "execution_count": null,
   "id": "e1689973",
   "metadata": {
    "lines_to_next_cell": 1
   },
   "outputs": [],
   "source": [
    "# 유동성 척도를 계산한다\n",
    "def Liquidity(ohlcv):\n",
    "    k = []\n",
    "    \n",
    "    i = 0\n",
    "    for curr in ohlcv.itertuples():\n",
    "        dp = abs(curr.High - curr.Low)\n",
    "        if dp == 0:\n",
    "            if i == 0:\n",
    "                k = [np.nan]\n",
    "            else:\n",
    "                # dp = 0 이면 유동성은 매우 큰 것이지만, 계산이 불가하므로 이전의 유동성을 유지한다\n",
    "                k.append(k[-1])\n",
    "        else:\n",
    "            k.append(np.log(curr.Volume) / dp)\n",
    "        i += 1\n",
    "        \n",
    "    return pd.DataFrame(k, index=ohlcv.index)"
   ]
  },
  {
   "cell_type": "code",
   "execution_count": null,
   "id": "58020b9b",
   "metadata": {
    "lines_to_next_cell": 1
   },
   "outputs": [],
   "source": [
    "# 전일 Close price와 금일 Close price를 이용하여 변동성을 계산한다\n",
    "def CloseVol(ohlc, n):\n",
    "    rtn = pd.DataFrame(ohlc['Close']).apply(lambda x: np.log(x) - np.log(x.shift(1)))\n",
    "    vol = pd.DataFrame(rtn).rolling(window=n).std()\n",
    "\n",
    "    return pd.DataFrame(vol, index=ohlc.index)"
   ]
  },
  {
   "cell_type": "code",
   "execution_count": null,
   "id": "588a2257",
   "metadata": {
    "lines_to_next_cell": 1
   },
   "outputs": [],
   "source": [
    "# 당일의 High price와 Low price를 이용하여 Parkinson 변동성 (장 중 변동성)을 계산한다.\n",
    "def ParkinsonVol(ohlc, n):\n",
    "    vol = []\n",
    "    for i in range(n-1):\n",
    "        vol.append(np.nan)\n",
    "        \n",
    "    for i in range(n-1, len(ohlc)):\n",
    "        sigma = 0\n",
    "        for k in range(0, n):\n",
    "            sigma += np.log(ohlc.iloc[i-k].High / ohlc.iloc[i-k].Low) ** 2\n",
    "        vol.append(np.sqrt(sigma / (n * 4 * np.log(2))))\n",
    "        \n",
    "    return pd.DataFrame(vol, index=ohlc.index)"
   ]
  },
  {
   "cell_type": "code",
   "execution_count": null,
   "id": "cfe38219",
   "metadata": {
    "lines_to_next_cell": 1
   },
   "outputs": [],
   "source": [
    "# Z-score normalization\n",
    "def scale(data):\n",
    "    col = data.columns[0]\n",
    "    return (data[col] - data[col].mean()) / data[col].std()"
   ]
  },
  {
   "cell_type": "code",
   "execution_count": null,
   "id": "4a6ceeed",
   "metadata": {},
   "outputs": [],
   "source": [
    "# 시계열을 평활화한다\n",
    "def smooth(data, s=5):\n",
    "    y = data[data.columns[0]].values\n",
    "    w = np.isnan(y)\n",
    "    y[w] = 0.\n",
    "    sm = ndimage.gaussian_filter1d(y, s)\n",
    "    return pd.DataFrame(sm)"
   ]
  }
 ],
 "metadata": {
  "jupytext": {
   "cell_metadata_filter": "-all",
   "main_language": "python",
   "notebook_metadata_filter": "-all"
  }
 },
 "nbformat": 4,
 "nbformat_minor": 5
}
