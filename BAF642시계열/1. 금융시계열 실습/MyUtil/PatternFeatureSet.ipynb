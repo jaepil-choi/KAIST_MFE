{
 "cells": [
  {
   "cell_type": "code",
   "execution_count": null,
   "id": "c829a092",
   "metadata": {
    "lines_to_next_cell": 1
   },
   "outputs": [],
   "source": [
    "# OHLCV 데이터에서 기술적 분석 지표들의 FeatureSet을 추출한다\n",
    "# -------------------------------------------------------------\n",
    "import pandas as pd\n",
    "import numpy as np\n",
    "from MyUtil.ComFeatureSet import getUpDnClass"
   ]
  },
  {
   "cell_type": "code",
   "execution_count": null,
   "id": "a99f9d94",
   "metadata": {
    "lines_to_next_cell": 1
   },
   "outputs": [],
   "source": [
    "# 과거 n-day 동안의 주가 패턴으로 Feature Set을 구성한다\n",
    "def getPatternFeatureSet(data, u, d, nPast=20, nHop=3, nFuture=20, binary=False):\n",
    "    # OHLCV 데이터에 class를 부여한다.\n",
    "    df = getUpDnClass(data, up=u, dn=d, period=nFuture)\n",
    "    \n",
    "    # 학습 데이터를 구성한다.\n",
    "    ds = getClosePatternWithClass(df, nPast, nHop = nHop)\n",
    "    \n",
    "    # Class는 0, 1, 2로 (multi-class) 측정되었는데, binary-classification을\n",
    "    # 위해서는 주가 횡보인 class=0을 1로 대치하고, class = 1을 0으로, 2를 1로 변환한다.\n",
    "    if binary:\n",
    "#        ds.loc[ds['class'] == 0.0, 'class'] = 1.0\n",
    "        ds = ds[ds['class'] != 0.0]\n",
    "        ds['class'] -= 1.0\n",
    "    return ds"
   ]
  },
  {
   "cell_type": "code",
   "execution_count": null,
   "id": "ca792e29",
   "metadata": {
    "lines_to_next_cell": 1
   },
   "outputs": [],
   "source": [
    "# OHLCV 데이터에서 종가 (Close)를 기준으로 과거 n-기간 동안의 Pattern을 구성한다\n",
    "# nHop = 3 : 3기간씩 건너 뛰면서 pattern을 구성한다.\n",
    "def getClosePattern(data, n, nHop = 3, normalize=True):\n",
    "    loc = tuple(range(0, len(data) - n, nHop))\n",
    "    \n",
    "    # n개의 column을 가진 데이터프레임을 생성한다\n",
    "    column = [str(e) for e in range(1, (n+1))]\n",
    "    df = pd.DataFrame(columns=column)\n",
    "    \n",
    "    for i in loc:\n",
    "        pt = data['Close'].iloc[i:(i+n)].values\n",
    "        \n",
    "        if normalize:\n",
    "            pt = (pt - pt.mean()) / pt.std()\n",
    "        df = df.append(pd.DataFrame([pt],columns=column, index=[data.index[i+n]]), ignore_index=False)\n",
    "        \n",
    "    return df"
   ]
  },
  {
   "cell_type": "code",
   "execution_count": null,
   "id": "83d7825a",
   "metadata": {},
   "outputs": [],
   "source": [
    "# OHLCV + class 데이터에서 종가 (Close)를 기준으로 과거 n-기간 동안의 Pattern을 구성한다\n",
    "# nHop = 3 : 3기간씩 건너 뛰면서 pattern을 구성한다.\n",
    "# 리턴 값 :\n",
    "#           1         2         3  ...          20       vol  class\n",
    "# 0  0.056859 -0.492078 -1.041017  ...    1.586034  0.187116    0.0\n",
    "# 1  0.056859 -0.492078 -1.041017  ...    1.586034  0.187116    2.0\n",
    "# 2  0.056859 -0.492078 -1.041017  ...    1.586034  0.187116    1.0\n",
    "# ...\n",
    "def getClosePatternWithClass(data, n, nHop = 3, normalize=True):\n",
    "    # 패턴의 시작 지점을 확인해 둔다\n",
    "    loc = tuple(range(0, len(data) - n, nHop))\n",
    "    \n",
    "    # 1~n의 column과 vol, class을 가진 데이터프레임을 생성한다\n",
    "    column = np.array([str(e) for e in range(1, (n+1))])\n",
    "    column = np.append(column, ['vol', 'class'])\n",
    "    df = pd.DataFrame(columns=column)\n",
    "    \n",
    "    # 패턴 시작 지점부터 n-기간 동안의 종가, 변동성, class를 column으로 갖는 dataframe을 생성한다\n",
    "    for i in loc:       \n",
    "        # n-기간 동안의 종가 패턴\n",
    "        closePat = np.array(data['Close'].iloc[i:(i+n)])\n",
    "        \n",
    "        # n-기간의 마지막 데이터의 class\n",
    "        classY = data['class'].iloc[i+n-1]\n",
    "        \n",
    "        # closePat의 표준편차를 계산한다.\n",
    "        # 주가 수익률의 표준편차로 변동성을 측정하는 것이 일반적이나, 여기서는\n",
    "        # 주가의 표준편차 / 평균 주가로 측정한다.\n",
    "        vol = np.sqrt(n) * np.std(closePat) / np.mean(closePat)\n",
    "        \n",
    "        if normalize:\n",
    "            closePat = (closePat - np.mean(closePat)) / np.std(closePat)\n",
    "        \n",
    "        # n-기간 동안의 종가, 변동성, class를 colume으로 dataframe을 생성한다. (1-row)\n",
    "        closePat = np.append(closePat, [vol, classY])\n",
    "        tmpdf = pd.DataFrame([closePat], columns=column)\n",
    "        \n",
    "        # 결과 dataframe인 df에 계속 추가한다 (row bind)\n",
    "        df = df.append(tmpdf)\n",
    "        \n",
    "    return df"
   ]
  }
 ],
 "metadata": {
  "jupytext": {
   "cell_metadata_filter": "-all",
   "main_language": "python",
   "notebook_metadata_filter": "-all"
  }
 },
 "nbformat": 4,
 "nbformat_minor": 5
}
