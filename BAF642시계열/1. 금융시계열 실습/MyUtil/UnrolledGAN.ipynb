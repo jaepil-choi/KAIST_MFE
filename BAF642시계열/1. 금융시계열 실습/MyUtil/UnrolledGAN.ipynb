{
 "cells": [
  {
   "cell_type": "code",
   "execution_count": null,
   "id": "cc41dccd",
   "metadata": {
    "lines_to_next_cell": 1
   },
   "outputs": [],
   "source": [
    "# Unrolled GAN library - Generator가 사용할 Surrogate loss function (fk)을 생성한다.\n",
    "#\n",
    "# 원 논문 : Luke Metz, et, al., 2016, Unrolled Generative Adversarial Network\n",
    "# 아래 코드는 논문의 저자인 Google Brain 팀의 Luke Metz등이 작성한 코드의 일부임.\n",
    "# 코드 URL : https://github.com/poolio/unrolled_gan\n",
    "#\n",
    "# 이 코드를 MyUtil/UnrolledGAN에 넣고 library 처럼 활용하기로 함.\n",
    "#\n",
    "# ---------------------------------------------------------------------------------\n",
    "from collections import OrderedDict\n",
    "from keras.optimizers import Adam\n",
    "import tensorflow as tf"
   ]
  },
  {
   "cell_type": "code",
   "execution_count": null,
   "id": "f4088cf6",
   "metadata": {
    "lines_to_next_cell": 1
   },
   "outputs": [],
   "source": [
    "def graph_replace(*args, **kwargs):\n",
    "    graph = tf.get_default_graph()\n",
    "    for op in graph.get_operations():\n",
    "        op._original_op = None\n",
    "    return tf.contrib.graph_editor.graph_replace(*args, **kwargs)"
   ]
  },
  {
   "cell_type": "code",
   "execution_count": null,
   "id": "d76337ca",
   "metadata": {
    "lines_to_next_cell": 1
   },
   "outputs": [],
   "source": [
    "def extract_update_dict(update_ops):\n",
    "    name_to_var = {v.name: v for v in tf.global_variables()}\n",
    "    updates = OrderedDict()\n",
    "    for update in update_ops:\n",
    "        var_name = update.op.inputs[0].name\n",
    "        var = name_to_var[var_name]\n",
    "        value = update.op.inputs[1]\n",
    "        if update.op.type == 'Assign':\n",
    "            updates[var.value()] = value\n",
    "        elif update.op.type == 'AssignAdd':\n",
    "            updates[var.value()] = var + value\n",
    "        else:\n",
    "            raise ValueError(\"Update op type (%s) must be of type Assign or AssignAdd\" % update.op.type)\n",
    "    return updates"
   ]
  },
  {
   "cell_type": "code",
   "execution_count": null,
   "id": "9a73d08c",
   "metadata": {},
   "outputs": [],
   "source": [
    "def SurrogateLoss(theta_d, loss_d, unrolled_k):\n",
    "    D_update = Adam(lr=0.0001).get_updates(theta_d, [], loss_d)\n",
    "    train_d = tf.group(*D_update, name=\"train_d\")\n",
    "    \n",
    "    if unrolled_k > 0:\n",
    "        # Get dictionary mapping from variables to their update value after one optimization step\n",
    "        update_dict = extract_update_dict(D_update)\n",
    "        cur_update_dict = update_dict\n",
    "        \n",
    "        for i in range(unrolled_k - 1):\n",
    "            # Compute variable updates given the previous iteration's updated variable\n",
    "            cur_update_dict = graph_replace(update_dict, cur_update_dict)\n",
    "            \n",
    "        # Final unrolled loss uses the parameters at the last time step\n",
    "        loss_g = graph_replace(loss_d, cur_update_dict)\n",
    "    else:\n",
    "        loss_g = loss_d\n",
    "        \n",
    "    return train_d, loss_g"
   ]
  }
 ],
 "metadata": {
  "jupytext": {
   "cell_metadata_filter": "-all",
   "main_language": "python",
   "notebook_metadata_filter": "-all"
  }
 },
 "nbformat": 4,
 "nbformat_minor": 5
}
