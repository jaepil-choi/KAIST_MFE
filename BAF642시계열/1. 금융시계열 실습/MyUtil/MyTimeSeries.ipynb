{
 "cells": [
  {
   "cell_type": "markdown",
   "id": "6f97f49a",
   "metadata": {},
   "source": [
    "시계열분석 관련 함수를 정의한다"
   ]
  },
  {
   "cell_type": "code",
   "execution_count": null,
   "id": "8a8ee329",
   "metadata": {
    "lines_to_next_cell": 1
   },
   "outputs": [],
   "source": [
    "#-------------------------------------------\n",
    "import numpy as np\n",
    "import scipy.stats as stats\n",
    "from statsmodels.tsa.arima_process import arma_generate_sample\n",
    "from statsmodels.graphics.tsaplots import plot_acf\n",
    "import matplotlib.pyplot as plt"
   ]
  },
  {
   "cell_type": "code",
   "execution_count": null,
   "id": "52a17134",
   "metadata": {
    "lines_to_next_cell": 1
   },
   "outputs": [],
   "source": [
    "# ARIMA(ar, d, ma) 모형으로 n개의 데이터를 샘플링한다\n",
    "def sampleARIMA(ar, d, ma, n):\n",
    "    arparams = np.array(ar)\n",
    "    maparams = np.array(ma)\n",
    "    ar = np.r_[1.0, -arparams] # add zero-lag and negate\n",
    "    ma = np.r_[1.0, maparams]  # add zero-lag\n",
    "    \n",
    "    # ARMA 모형으로 n개의 데이터를 샘플링한다\n",
    "    y = arma_generate_sample(ar, ma, n)\n",
    "    \n",
    "    # 지정된 차분 횟수 (d) 만큼 누적한다\n",
    "    for i in np.arange(d):\n",
    "        y = np.cumsum(y)\n",
    "\n",
    "    return y"
   ]
  },
  {
   "cell_type": "code",
   "execution_count": null,
   "id": "6d067e56",
   "metadata": {},
   "outputs": [],
   "source": [
    "# 시계열 데이터의 정규성을 확인한다\n",
    "def checkNormality(data):\n",
    "    fig = plt.figure(figsize=(10, 8))\n",
    "    p1 = fig.add_subplot(2,2,1)\n",
    "    p2 = fig.add_subplot(2,2,2)\n",
    "    p3 = fig.add_subplot(2,2,3)\n",
    "    p4 = fig.add_subplot(2,2,4)\n",
    "    \n",
    "    p1.plot(data)  # 육안으로 백색 잡음 형태인지 확인한다\n",
    "    p1.set_title(\"Data\")\n",
    "    \n",
    "    # Residual의 분포를 육안으로 확인한다\n",
    "    r = np.copy(data)\n",
    "    r.sort()\n",
    "    pdf = stats.norm.pdf(r, np.mean(r), np.std(r))\n",
    "    p2.plot(r,pdf)\n",
    "    p2.hist(r, density=True, bins=100)\n",
    "    p2.set_title(\"Distribution\")\n",
    "    \n",
    "    # Q-Q plot을 그린다\n",
    "    stats.probplot(data, dist=\"norm\", plot=p3)\n",
    "    \n",
    "    # ACF plot을 확인한다. 백색 잡음은 자기상관성이 없다.\n",
    "    plot_acf(data, lags=100, ax=p4)\n",
    "    \n",
    "    # Shapiro-Wilks 검정을 수행한다\n",
    "    # (검정통계량, p-value)가 출력된다.\n",
    "    # 귀무가설 : 정규분포 이다, 대립가설 : 아니다\n",
    "    # p-value > 0.05 이면 귀무가설을 기각할 수 없다 --> \"정규분포이다\"\n",
    "    w = stats.shapiro(data)\n",
    "    print()\n",
    "    print(\"Shapiro-Wilks 검정 : 검정통계량 = %.4f, p-value = %.4f\" % (w[0], w[1]))"
   ]
  }
 ],
 "metadata": {
  "jupytext": {
   "cell_metadata_filter": "-all",
   "main_language": "python",
   "notebook_metadata_filter": "-all"
  }
 },
 "nbformat": 4,
 "nbformat_minor": 5
}
