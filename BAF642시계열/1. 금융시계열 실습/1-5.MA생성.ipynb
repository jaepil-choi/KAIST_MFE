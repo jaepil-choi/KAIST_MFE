{
 "cells": [
  {
   "cell_type": "code",
   "execution_count": null,
   "id": "c16097b5",
   "metadata": {
    "colab": {
     "base_uri": "https://localhost:8080/"
    },
    "executionInfo": {
     "elapsed": 39138,
     "status": "ok",
     "timestamp": 1698120486838,
     "user": {
      "displayName": "이기홍",
      "userId": "00707751831574141695"
     },
     "user_tz": -540
    },
    "id": "2--gCmm_3Rka",
    "outputId": "afc78cfc-2b18-4540-bdc6-0f544f6ae418"
   },
   "outputs": [],
   "source": [
    "from google.colab import drive\n",
    "drive.mount('/content/drive')"
   ]
  },
  {
   "cell_type": "code",
   "execution_count": null,
   "id": "c2c18e2f",
   "metadata": {
    "executionInfo": {
     "elapsed": 1356,
     "status": "ok",
     "timestamp": 1698120488190,
     "user": {
      "displayName": "이기홍",
      "userId": "00707751831574141695"
     },
     "user_tz": -540
    },
    "id": "fECdXfQ03Rg3"
   },
   "outputs": [],
   "source": [
    "import os\n",
    "os.chdir('/content/drive/MyDrive/2023년_카이스트_금융시계열/1주차실습/1. 금융시계열 실습')"
   ]
  },
  {
   "cell_type": "code",
   "execution_count": null,
   "id": "8711bc8c",
   "metadata": {
    "executionInfo": {
     "elapsed": 3,
     "status": "ok",
     "timestamp": 1698120488191,
     "user": {
      "displayName": "이기홍",
      "userId": "00707751831574141695"
     },
     "user_tz": -540
    },
    "id": "iBZOFngm3RBT"
   },
   "outputs": [],
   "source": [
    "# MA 모형을 임의로 생성하고, MA 파라메터가 변할 때 시계열의 모습이 어떻게\n",
    "# 변하는지 육안으로 확인한다. MA 파라메터의 특성을 직관적으로 이해한다.\n",
    "# 또한, MA 모형에 대한 ACF와 PACF 특성을 육안으로 확인한다.\n",
    "# ACF/PACF는 향후 실제 시계열을 분석할 때 분석 모델을 선정에 참고한다."
   ]
  },
  {
   "cell_type": "code",
   "execution_count": null,
   "id": "4481f74d",
   "metadata": {
    "executionInfo": {
     "elapsed": 2834,
     "status": "ok",
     "timestamp": 1698120491022,
     "user": {
      "displayName": "이기홍",
      "userId": "00707751831574141695"
     },
     "user_tz": -540
    },
    "id": "H2jFhdCu3RBV"
   },
   "outputs": [],
   "source": [
    "import warnings\n",
    "warnings.filterwarnings('ignore')\n",
    "# --------------------------------------------------------------------\n",
    "import matplotlib.pyplot as plt\n",
    "from MyUtil.MyTimeSeries import sampleARIMA\n",
    "from statsmodels.tsa.arima.model  import ARIMA"
   ]
  },
  {
   "cell_type": "code",
   "execution_count": null,
   "id": "9656699b",
   "metadata": {
    "colab": {
     "base_uri": "https://localhost:8080/",
     "height": 707
    },
    "executionInfo": {
     "elapsed": 2311,
     "status": "ok",
     "timestamp": 1698120493329,
     "user": {
      "displayName": "이기홍",
      "userId": "00707751831574141695"
     },
     "user_tz": -540
    },
    "id": "nj_naCub3RBV",
    "outputId": "56e86368-fb43-4a4d-c345-b7354b84346f"
   },
   "outputs": [],
   "source": [
    "# MA(1) 모형의 parameter 변화에 따른 그래프 모양을 확인한다.\n",
    "# a 값을 변화시켜 가면서 그래프의 모양이 어떻게 바뀌는지 확인한다.\n",
    "y1 = sampleARIMA(ar=[0], d=0, ma=[0.1], n=500)\n",
    "y2 = sampleARIMA(ar=[0], d=0, ma=[0.5], n=500)\n",
    "y3 = sampleARIMA(ar=[0], d=0, ma=[0.9], n=500)\n",
    "y4 = sampleARIMA(ar=[0], d=0, ma=[0.99], n=500)\n",
    "\n",
    "fig = plt.figure(figsize=(10, 7))\n",
    "p1 = fig.add_subplot(2,2,1)\n",
    "p2 = fig.add_subplot(2,2,2)\n",
    "p3 = fig.add_subplot(2,2,3)\n",
    "p4 = fig.add_subplot(2,2,4)\n",
    "\n",
    "p1.plot(y1, color='blue', linewidth=1)\n",
    "p2.plot(y2, color='red', linewidth=1)\n",
    "p3.plot(y3, color='purple', linewidth=1)\n",
    "p4.plot(y4, color='green', linewidth=1)\n",
    "p1.set_title(\"b = 0.1\")\n",
    "p2.set_title(\"b = 0.5\")\n",
    "p3.set_title(\"b = 0.9\")\n",
    "p4.set_title(\"b = 0.99\")\n",
    "plt.tight_layout()\n",
    "plt.show()"
   ]
  },
  {
   "cell_type": "code",
   "execution_count": null,
   "id": "03e250e0",
   "metadata": {
    "colab": {
     "base_uri": "https://localhost:8080/"
    },
    "executionInfo": {
     "elapsed": 14,
     "status": "ok",
     "timestamp": 1698120493330,
     "user": {
      "displayName": "이기홍",
      "userId": "00707751831574141695"
     },
     "user_tz": -540
    },
    "id": "-cB7AfOL3RBW",
    "outputId": "a355b4e6-0bae-4a1e-f4f7-004598d1291a"
   },
   "outputs": [],
   "source": [
    "# 임의로 생성한 MA(1) 샘플 데이터를 분석하여 b 값을 추정해 본다.\n",
    "# 생성할 때 지정한 값으로 추정이 잘되는지 확인한다.\n",
    "y = sampleARIMA(ar=[0], d=0, ma=[0.5], n=500)\n",
    "model = ARIMA(y, order=(0,0,1)).fit()\n",
    "print(model.summary())"
   ]
  },
  {
   "cell_type": "code",
   "execution_count": null,
   "id": "159ca1b3",
   "metadata": {
    "colab": {
     "base_uri": "https://localhost:8080/",
     "height": 864
    },
    "executionInfo": {
     "elapsed": 762,
     "status": "ok",
     "timestamp": 1698120494084,
     "user": {
      "displayName": "이기홍",
      "userId": "00707751831574141695"
     },
     "user_tz": -540
    },
    "id": "pHgMu4hz3RBX",
    "outputId": "32f0e245-c14f-41f0-e48a-8e69bc9e71dc"
   },
   "outputs": [],
   "source": [
    "# MA(2) 모형도 확인해 본다\n",
    "y = sampleARIMA(ar=[0], d=0, ma=[0.1, -0.4], n=500)\n",
    "plt.plot(y, color='blue', linewidth=1)\n",
    "model = ARIMA(y, order=(0,0,2)).fit()\n",
    "print(model.summary())"
   ]
  },
  {
   "cell_type": "code",
   "execution_count": null,
   "id": "818fda17",
   "metadata": {
    "colab": {
     "base_uri": "https://localhost:8080/",
     "height": 291
    },
    "executionInfo": {
     "elapsed": 631,
     "status": "ok",
     "timestamp": 1698120494709,
     "user": {
      "displayName": "이기홍",
      "userId": "00707751831574141695"
     },
     "user_tz": -540
    },
    "id": "7kG0R_Gv3RBX",
    "outputId": "14c4a969-ede6-4281-b21b-f6c30ca8654a"
   },
   "outputs": [],
   "source": [
    "# MA 모형의 ACF와 PACF를 확인해 본다. a값을 변화시켜 가면서 비교해 본다\n",
    "# ACF와 PACF는 향후 실제 시계열을 어느 모형으로 분석할 지에 대한 단서를 제공한다\n",
    "from statsmodels.graphics.tsaplots import plot_acf, plot_pacf\n",
    "y = sampleARIMA(ar=[0], d=0, ma=[0.5], n=500)\n",
    "fig = plt.figure(figsize=(12, 3))\n",
    "plt.plot(y, color='red', linewidth=1)\n",
    "plt.show()"
   ]
  },
  {
   "cell_type": "code",
   "execution_count": null,
   "id": "1c901218",
   "metadata": {
    "colab": {
     "base_uri": "https://localhost:8080/",
     "height": 391
    },
    "executionInfo": {
     "elapsed": 654,
     "status": "ok",
     "timestamp": 1698120495357,
     "user": {
      "displayName": "이기홍",
      "userId": "00707751831574141695"
     },
     "user_tz": -540
    },
    "id": "4PJbpKV43RBX",
    "lines_to_next_cell": 2,
    "outputId": "84b3dc24-d0e0-4087-c445-5482ea6e2d35"
   },
   "outputs": [],
   "source": [
    "fig = plt.figure(figsize=(12, 4))\n",
    "p1 = fig.add_subplot(1,2,1)\n",
    "p2 = fig.add_subplot(1,2,2)\n",
    "plot_acf(y, p1, lags=50)\n",
    "plot_pacf(y, p2, lags=50)\n",
    "plt.show()"
   ]
  },
  {
   "cell_type": "code",
   "execution_count": null,
   "id": "d89eb24c",
   "metadata": {
    "executionInfo": {
     "elapsed": 7,
     "status": "ok",
     "timestamp": 1698120495357,
     "user": {
      "displayName": "이기홍",
      "userId": "00707751831574141695"
     },
     "user_tz": -540
    },
    "id": "PPFVumou3RBX"
   },
   "outputs": [],
   "source": []
  }
 ],
 "metadata": {
  "kernelspec": {
   "display_name": "Python 3",
   "language": "python",
   "name": "python3"
  }
 },
 "nbformat": 4,
 "nbformat_minor": 5
}
