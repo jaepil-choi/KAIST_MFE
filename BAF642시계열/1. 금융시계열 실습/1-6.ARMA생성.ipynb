{
 "cells": [
  {
   "cell_type": "code",
   "execution_count": null,
   "id": "69aa45ee",
   "metadata": {
    "colab": {
     "base_uri": "https://localhost:8080/"
    },
    "executionInfo": {
     "elapsed": 38933,
     "status": "ok",
     "timestamp": 1698120773960,
     "user": {
      "displayName": "이기홍",
      "userId": "00707751831574141695"
     },
     "user_tz": -540
    },
    "id": "bN0lBcgh4XkT",
    "outputId": "9eefab3a-777e-4301-b24d-76bd6d842643"
   },
   "outputs": [],
   "source": [
    "from google.colab import drive\n",
    "drive.mount('/content/drive')"
   ]
  },
  {
   "cell_type": "code",
   "execution_count": null,
   "id": "868762ff",
   "metadata": {
    "executionInfo": {
     "elapsed": 601,
     "status": "ok",
     "timestamp": 1698120774556,
     "user": {
      "displayName": "이기홍",
      "userId": "00707751831574141695"
     },
     "user_tz": -540
    },
    "id": "iRLxDK-G4aQV"
   },
   "outputs": [],
   "source": [
    "import os\n",
    "os.chdir('/content/drive/MyDrive/2023년_카이스트_금융시계열/1주차실습/1. 금융시계열 실습')"
   ]
  },
  {
   "cell_type": "code",
   "execution_count": null,
   "id": "55f0bfe5",
   "metadata": {
    "executionInfo": {
     "elapsed": 4,
     "status": "ok",
     "timestamp": 1698120774557,
     "user": {
      "displayName": "이기홍",
      "userId": "00707751831574141695"
     },
     "user_tz": -540
    },
    "id": "l--Hdx0T4L7W"
   },
   "outputs": [],
   "source": [
    "# ARMA 모형을 임의로 생성하고, ARMA 파라메터가 변할 때 시계열의 모습이 어떻게\n",
    "# 변하는지 육안으로 확인한다. ARMA 파라메터의 특성을 직관적으로 이해한다.\n",
    "# 또한, ARMA 모형에 대한 ACF와 PACF 특성을 육안으로 확인한다.\n",
    "# ACF/PACF는 향후 실제 시계열을 분석할 때 분석 모델을 선정에 참고한다."
   ]
  },
  {
   "cell_type": "code",
   "execution_count": null,
   "id": "0de13793",
   "metadata": {
    "executionInfo": {
     "elapsed": 552,
     "status": "ok",
     "timestamp": 1698120818458,
     "user": {
      "displayName": "이기홍",
      "userId": "00707751831574141695"
     },
     "user_tz": -540
    },
    "id": "QhRRwtaH4L7Y"
   },
   "outputs": [],
   "source": [
    "import warnings\n",
    "warnings.filterwarnings('ignore')\n",
    "# ------------------------------------------------------------------------\n",
    "import matplotlib.pyplot as plt\n",
    "from MyUtil.MyTimeSeries import sampleARIMA\n",
    "from statsmodels.tsa.arima.model import ARIMA"
   ]
  },
  {
   "cell_type": "code",
   "execution_count": null,
   "id": "b1948994",
   "metadata": {
    "colab": {
     "base_uri": "https://localhost:8080/",
     "height": 407
    },
    "executionInfo": {
     "elapsed": 1573,
     "status": "ok",
     "timestamp": 1698120820028,
     "user": {
      "displayName": "이기홍",
      "userId": "00707751831574141695"
     },
     "user_tz": -540
    },
    "id": "bYgjYICr4L7Z",
    "outputId": "31de842f-2ee0-4544-a2cd-4bd83f7a5901"
   },
   "outputs": [],
   "source": [
    "# MA 모형의 parameter 변화에 따른 그래프 모양을 확인한다.\n",
    "# a 값을 변화시켜 가면서 그래프의 모양이 어떻게 바뀌는지 확인한다.\n",
    "y1 = sampleARIMA(ar=[0.9], d=0, ma=[0.5], n=500)\n",
    "y2 = sampleARIMA(ar=[0.9], d=0, ma=[0.5, 0.9], n=500)\n",
    "\n",
    "fig = plt.figure(figsize=(10, 4))\n",
    "p1 = fig.add_subplot(1,2,1)\n",
    "p2 = fig.add_subplot(1,2,2)\n",
    "\n",
    "p1.plot(y1, color='blue', linewidth=1)\n",
    "p2.plot(y2, color='red', linewidth=1)\n",
    "p1.set_title(\"ARMA(1,1) : a=0.9, b = 0.5\")\n",
    "p2.set_title(\"ARMA(1,2) : a=0.9, b = 0.5, 0.9\")\n",
    "plt.tight_layout()\n",
    "plt.show()"
   ]
  },
  {
   "cell_type": "code",
   "execution_count": null,
   "id": "3c2f2b64",
   "metadata": {
    "colab": {
     "base_uri": "https://localhost:8080/"
    },
    "executionInfo": {
     "elapsed": 573,
     "status": "ok",
     "timestamp": 1698120820593,
     "user": {
      "displayName": "이기홍",
      "userId": "00707751831574141695"
     },
     "user_tz": -540
    },
    "id": "_l0NLFXM4L7a",
    "outputId": "80d0f05b-bf38-4920-8b90-78b82e21f399"
   },
   "outputs": [],
   "source": [
    "# 임의로 생성한 ARMA(1,1) 샘플 데이터를 분석하여 b 값을 추정해 본다.\n",
    "# 생성할 때 지정한 값으로 추정이 잘되는지 확인한다.\n",
    "y = sampleARIMA(ar=[0.9], d=0, ma=[0.5], n=500)\n",
    "model = ARIMA(y, order=(1,0,1)).fit()\n",
    "print(model.summary())"
   ]
  },
  {
   "cell_type": "code",
   "execution_count": null,
   "id": "e5498d0d",
   "metadata": {
    "colab": {
     "base_uri": "https://localhost:8080/",
     "height": 881
    },
    "executionInfo": {
     "elapsed": 1612,
     "status": "ok",
     "timestamp": 1698120822200,
     "user": {
      "displayName": "이기홍",
      "userId": "00707751831574141695"
     },
     "user_tz": -540
    },
    "id": "lDh6KtN14L7a",
    "outputId": "da042163-3fa3-4c92-c163-f378cd581a97"
   },
   "outputs": [],
   "source": [
    "# ARMA(1,2) 모형도 확인해 본다\n",
    "y = sampleARIMA(ar=[0.5], d=0, ma=[0.5, -0.1], n=1000)\n",
    "plt.plot(y, color='blue', linewidth=1)\n",
    "model = ARIMA(y, order=(1,0,2)).fit()\n",
    "print(model.summary())"
   ]
  },
  {
   "cell_type": "code",
   "execution_count": null,
   "id": "85823db2",
   "metadata": {
    "colab": {
     "base_uri": "https://localhost:8080/",
     "height": 665
    },
    "executionInfo": {
     "elapsed": 1332,
     "status": "ok",
     "timestamp": 1698120823526,
     "user": {
      "displayName": "이기홍",
      "userId": "00707751831574141695"
     },
     "user_tz": -540
    },
    "id": "lTc6EZPy4L7a",
    "lines_to_next_cell": 2,
    "outputId": "56f77538-e9e2-4257-b014-124e1f7c94f0"
   },
   "outputs": [],
   "source": [
    "# ARMA 모형의 ACF와 PACF를 확인해 본다. a,b 값을 변화시켜 가면서 비교해 본다\n",
    "# ACF와 PACF는 향후 실제 시계열을 어느 모형으로 분석할 지에 대한 단서를 제공한다\n",
    "from statsmodels.graphics.tsaplots import plot_acf, plot_pacf\n",
    "y = sampleARIMA(ar=[0.9], d=0, ma=[0.5, -0.1], n=500)\n",
    "fig = plt.figure(figsize=(12, 3))\n",
    "plt.plot(y, color='red', linewidth=1)\n",
    "plt.show()\n",
    "fig = plt.figure(figsize=(12, 4))\n",
    "p1 = fig.add_subplot(1,2,1)\n",
    "p2 = fig.add_subplot(1,2,2)\n",
    "plot_acf(y, p1, lags=50)\n",
    "plot_pacf(y, p2, lags=50)\n",
    "plt.show()"
   ]
  },
  {
   "cell_type": "code",
   "execution_count": null,
   "id": "ff7d5e1e",
   "metadata": {
    "colab": {
     "base_uri": "https://localhost:8080/",
     "height": 665
    },
    "executionInfo": {
     "elapsed": 1722,
     "status": "ok",
     "timestamp": 1698120825244,
     "user": {
      "displayName": "이기홍",
      "userId": "00707751831574141695"
     },
     "user_tz": -540
    },
    "id": "iJ7B-FZn4L7a",
    "outputId": "fa9c4460-44c2-49aa-d8bf-9a76b6512e4c"
   },
   "outputs": [],
   "source": [
    "# ARMA 모형의 ACF와 PACF를 확인해 본다. a,b 값을 변화시켜 가면서 비교해 본다\n",
    "# ACF와 PACF는 향후 실제 시계열을 어느 모형으로 분석할 지에 대한 단서를 제공한다\n",
    "from statsmodels.graphics.tsaplots import plot_acf, plot_pacf\n",
    "y = sampleARIMA(ar=[0.5], d=0, ma=[0.1], n=500)\n",
    "fig = plt.figure(figsize=(12, 3))\n",
    "plt.plot(y, color='red', linewidth=1)\n",
    "plt.show()\n",
    "fig = plt.figure(figsize=(12, 4))\n",
    "p1 = fig.add_subplot(1,2,1)\n",
    "p2 = fig.add_subplot(1,2,2)\n",
    "plot_acf(y, p1, lags=50)\n",
    "plot_pacf(y, p2, lags=50)\n",
    "plt.show()"
   ]
  },
  {
   "cell_type": "code",
   "execution_count": null,
   "id": "b614c49b",
   "metadata": {
    "executionInfo": {
     "elapsed": 6,
     "status": "ok",
     "timestamp": 1698120825245,
     "user": {
      "displayName": "이기홍",
      "userId": "00707751831574141695"
     },
     "user_tz": -540
    },
    "id": "XIYyblql4L7b"
   },
   "outputs": [],
   "source": []
  },
  {
   "cell_type": "code",
   "execution_count": null,
   "id": "834dd8ff",
   "metadata": {
    "executionInfo": {
     "elapsed": 6,
     "status": "ok",
     "timestamp": 1698120825245,
     "user": {
      "displayName": "이기홍",
      "userId": "00707751831574141695"
     },
     "user_tz": -540
    },
    "id": "blb3jv4W4L7b"
   },
   "outputs": [],
   "source": []
  }
 ],
 "metadata": {
  "kernelspec": {
   "display_name": "Python 3",
   "language": "python",
   "name": "python3"
  }
 },
 "nbformat": 4,
 "nbformat_minor": 5
}
