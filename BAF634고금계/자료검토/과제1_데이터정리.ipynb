{
 "cells": [
  {
   "cell_type": "markdown",
   "id": "d0220147",
   "metadata": {},
   "source": [
    "# 고금계 과제 1 데이터 정리 "
   ]
  },
  {
   "cell_type": "code",
   "execution_count": null,
   "id": "5216a122",
   "metadata": {},
   "outputs": [],
   "source": [
    "import pandas as pd\n",
    "import numpy as np\n",
    "import matplotlib.pyplot as plt\n",
    "import seaborn as sns\n",
    "\n",
    "from pathlib import Path"
   ]
  },
  {
   "cell_type": "code",
   "execution_count": null,
   "id": "e2c8982f",
   "metadata": {},
   "outputs": [],
   "source": [
    "CWD = Path('.').resolve()\n",
    "DATA_DIR = CWD / 'data'"
   ]
  },
  {
   "cell_type": "markdown",
   "id": "351e1a91",
   "metadata": {},
   "source": [
    "## 데이터 로드"
   ]
  },
  {
   "cell_type": "code",
   "execution_count": null,
   "id": "1f39ca23",
   "metadata": {},
   "outputs": [],
   "source": [
    "fn1 = DATA_DIR / '고금계과제1_v3.3_201301-202408.csv'"
   ]
  },
  {
   "cell_type": "code",
   "execution_count": null,
   "id": "791c5fed",
   "metadata": {},
   "outputs": [],
   "source": [
    "## 추출한 fnguide 데이터를 dataframe으로 전처리\n",
    "\n",
    "def preprocess_dataguide_csv(\n",
    "        fn_file_path, \n",
    "        cols=['Symbol', 'Symbol Name', 'Kind', 'Item', 'Item Name ', 'Frequency',], # 날짜가 아닌 컬럼들\n",
    "        skiprows=8, \n",
    "        encoding=\"cp949\",\n",
    "        ):\n",
    "    fn_df = pd.read_csv(fn_file_path, encoding=encoding, skiprows=skiprows, thousands=\",\")\n",
    "    fn_df = fn_df.melt(id_vars=cols, var_name=\"date\", value_name=\"value\")\n",
    "\n",
    "    return fn_df"
   ]
  },
  {
   "cell_type": "code",
   "execution_count": null,
   "id": "2bc9fcdf",
   "metadata": {},
   "outputs": [],
   "source": [
    "fn1_df = preprocess_dataguide_csv(fn1, encoding='utf-8')"
   ]
  },
  {
   "cell_type": "code",
   "execution_count": null,
   "id": "5cdd4c82",
   "metadata": {},
   "outputs": [],
   "source": [
    "fn1_df"
   ]
  },
  {
   "cell_type": "code",
   "execution_count": null,
   "id": "0364e042",
   "metadata": {},
   "outputs": [],
   "source": [
    "items = fn1_df['Item Name '].unique() # 원래부터 DataGuide에 띄어쓰기가 들어가 있어서 'Item Name '"
   ]
  },
  {
   "cell_type": "code",
   "execution_count": null,
   "id": "0c5343b5",
   "metadata": {},
   "outputs": [],
   "source": [
    "# Mappings\n",
    "\n",
    "symbol_to_name = fn1_df[['Symbol', 'Symbol Name']].drop_duplicates().set_index('Symbol').to_dict()['Symbol Name']\n",
    "name_to_symbol = {v:k for k, v in symbol_to_name.items()}"
   ]
  },
  {
   "cell_type": "code",
   "execution_count": null,
   "id": "50e0ec86",
   "metadata": {},
   "outputs": [],
   "source": [
    "def get_panel_df(molten_df, item_name):\n",
    "    panel_df = molten_df.loc[molten_df['Item Name '] == item_name]\n",
    "    panel_df = panel_df.pivot(index='date', columns='Symbol', values='value')\n",
    "    panel_df = panel_df.reset_index()\n",
    "    \n",
    "    panel_df = panel_df.set_index('date', inplace=False)\n",
    "    panel_df.sort_index(inplace=True)\n",
    "    \n",
    "    return panel_df "
   ]
  },
  {
   "cell_type": "markdown",
   "id": "3e6177e0",
   "metadata": {},
   "source": [
    "## 전처리 (1차)"
   ]
  },
  {
   "cell_type": "markdown",
   "id": "cf89ecc1",
   "metadata": {},
   "source": [
    "### 기간 내 존재하지 않는 기업 제외"
   ]
  },
  {
   "cell_type": "code",
   "execution_count": null,
   "id": "143591ee",
   "metadata": {},
   "outputs": [],
   "source": [
    "adj_close_temp = get_panel_df(fn1_df, '수정주가(원)')"
   ]
  },
  {
   "cell_type": "code",
   "execution_count": null,
   "id": "c9cd805d",
   "metadata": {},
   "outputs": [],
   "source": [
    "adj_close_temp.head()"
   ]
  },
  {
   "cell_type": "code",
   "execution_count": null,
   "id": "77b6401b",
   "metadata": {},
   "outputs": [],
   "source": [
    "adj_close_temp.shape"
   ]
  },
  {
   "cell_type": "code",
   "execution_count": null,
   "id": "db05d40e",
   "metadata": {},
   "outputs": [],
   "source": [
    "adj_close_temp.dropna(axis=1, how='all', inplace=True)"
   ]
  },
  {
   "cell_type": "code",
   "execution_count": null,
   "id": "e3e6f0df",
   "metadata": {},
   "outputs": [],
   "source": [
    "adj_close_temp.shape"
   ]
  },
  {
   "cell_type": "code",
   "execution_count": null,
   "id": "85d60e88",
   "metadata": {},
   "outputs": [],
   "source": [
    "# 분석 기간 내 존재했던 종목들\n",
    "univ_list = adj_close_temp.columns"
   ]
  },
  {
   "cell_type": "markdown",
   "id": "930bad8e",
   "metadata": {},
   "source": [
    "### 기타 조건별 제외"
   ]
  },
  {
   "cell_type": "code",
   "execution_count": null,
   "id": "737cc81f",
   "metadata": {},
   "outputs": [],
   "source": [
    "def filter_univ(univ_list, panel_df, is_copy=True):\n",
    "    if is_copy:\n",
    "        return panel_df[univ_list].copy()\n",
    "    else:\n",
    "        return panel_df[univ_list]"
   ]
  },
  {
   "cell_type": "markdown",
   "id": "7270fbfb",
   "metadata": {},
   "source": [
    "#### 금융주 제외"
   ]
  },
  {
   "cell_type": "code",
   "execution_count": null,
   "id": "28e3db8f",
   "metadata": {},
   "outputs": [],
   "source": []
  },
  {
   "cell_type": "code",
   "execution_count": null,
   "id": "c8410620",
   "metadata": {},
   "outputs": [],
   "source": [
    "sector_all_df = get_panel_df(fn1_df, 'FnGuide Sector')\n",
    "sector_all_df.count(axis=1).plot()"
   ]
  },
  {
   "cell_type": "code",
   "execution_count": null,
   "id": "fb66714d",
   "metadata": {},
   "outputs": [],
   "source": [
    "sector_df = filter_univ(univ_list, get_panel_df(fn1_df, 'FnGuide Sector') )\n",
    "sector_df.head()"
   ]
  },
  {
   "cell_type": "code",
   "execution_count": null,
   "id": "f03c718f",
   "metadata": {},
   "outputs": [],
   "source": [
    "# 섹터는 고정되어있지 않고 중간에 바뀌기도 함. \n",
    "sector_df.nunique()[sector_df.nunique() != 1].sort_values(ascending=False)"
   ]
  },
  {
   "cell_type": "code",
   "execution_count": null,
   "id": "bb3a2e2b",
   "metadata": {},
   "outputs": [],
   "source": [
    "univ_df = ~sector_df.isnull() & (sector_df != '금융')"
   ]
  },
  {
   "cell_type": "markdown",
   "id": "09919277",
   "metadata": {},
   "source": [
    "#### 관리종목, 거래정지 제외"
   ]
  },
  {
   "cell_type": "code",
   "execution_count": null,
   "id": "adec7ce9",
   "metadata": {},
   "outputs": [],
   "source": [
    "is_under_supervision_df = filter_univ(univ_list, get_panel_df(fn1_df, '관리종목여부') )\n",
    "is_trading_halt_df = filter_univ(univ_list, get_panel_df(fn1_df, '거래정지여부') )"
   ]
  },
  {
   "cell_type": "code",
   "execution_count": null,
   "id": "56d97f70",
   "metadata": {},
   "outputs": [],
   "source": [
    "is_under_supervision_mapping = {\n",
    "    '정상': True,\n",
    "    '관리': False,\n",
    "}\n",
    "is_trading_halt_mapping = {\n",
    "    '정상': True,\n",
    "    '정지': False,\n",
    "}"
   ]
  },
  {
   "cell_type": "code",
   "execution_count": null,
   "id": "47c227d8",
   "metadata": {},
   "outputs": [],
   "source": [
    "is_under_supervision_df = is_under_supervision_df.replace(is_under_supervision_mapping).infer_objects(copy=False)\n",
    "is_trading_halt_df = is_trading_halt_df.replace(is_trading_halt_mapping).infer_objects(copy=False)"
   ]
  },
  {
   "cell_type": "code",
   "execution_count": null,
   "id": "c9971102",
   "metadata": {},
   "outputs": [],
   "source": [
    "univ_df = univ_df & is_under_supervision_df & is_trading_halt_df"
   ]
  },
  {
   "cell_type": "code",
   "execution_count": null,
   "id": "bac760a8",
   "metadata": {},
   "outputs": [],
   "source": [
    "# Update univ_list\n",
    "univ_list = univ_df.columns"
   ]
  },
  {
   "cell_type": "markdown",
   "id": "390f8ceb",
   "metadata": {},
   "source": [
    "## 데이터셋 생성"
   ]
  },
  {
   "cell_type": "markdown",
   "id": "6d43efd4",
   "metadata": {},
   "source": [
    "### 시장"
   ]
  },
  {
   "cell_type": "code",
   "execution_count": null,
   "id": "36ed3705",
   "metadata": {},
   "outputs": [],
   "source": [
    "close_df = filter_univ(univ_list, get_panel_df(fn1_df, '종가(원)') ) \n",
    "adjclose_df = filter_univ(univ_list, get_panel_df(fn1_df, '수정주가(원)') )\n",
    "adjfactor_df = filter_univ(univ_list, get_panel_df(fn1_df, '수정계수') )\n",
    "monthly_returns_df = filter_univ(univ_list, get_panel_df(fn1_df, '수익률 (1개월)(%)') ) # 수익률은 %로 되어있어 뒤에서 /100 해줘야 함.\n",
    "\n",
    "all_mkt_cap_df = filter_univ(univ_list, get_panel_df(fn1_df, '시가총액 (상장예정주식수 포함)(백만원)') )\n",
    "common_mkt_cap_df = filter_univ(univ_list, get_panel_df(fn1_df, '시가총액 (보통-상장예정주식수 포함)(백만원)') )\n",
    "common_shares_outstanding_df = filter_univ(univ_list, get_panel_df(fn1_df, '기말발행주식수 (보통)(주)') )\n",
    "\n",
    "is_under_supervision_df = filter_univ(univ_list, get_panel_df(fn1_df, '관리종목여부') )\n",
    "is_trading_halt_df = filter_univ(univ_list, get_panel_df(fn1_df, '거래정지여부') )"
   ]
  },
  {
   "cell_type": "markdown",
   "id": "4e062fd2",
   "metadata": {},
   "source": [
    "#### 재무"
   ]
  },
  {
   "cell_type": "code",
   "execution_count": null,
   "id": "8454db6a",
   "metadata": {},
   "outputs": [],
   "source": [
    "common_stock_df = filter_univ(univ_list, get_panel_df(fn1_df, '보통주자본금(천원)') )\n",
    "capital_surplus_df = filter_univ(univ_list, get_panel_df(fn1_df, '자본잉여금(천원)') )\n",
    "retained_earnings_df = filter_univ(univ_list, get_panel_df(fn1_df, '이익잉여금(천원)') )\n",
    "treasury_stock_df = filter_univ(univ_list, get_panel_df(fn1_df, '자기주식(천원)') )\n",
    "deferred_tax_liabilities_df = filter_univ(univ_list, get_panel_df(fn1_df, '이연법인세부채(천원)') )\n",
    "sales_revenue_df = filter_univ(univ_list, get_panel_df(fn1_df, '매출액(천원)') )\n",
    "cost_of_goods_sold_df = filter_univ(univ_list, get_panel_df(fn1_df, '매출원가(천원)') )\n",
    "interest_expense_df = filter_univ(univ_list, get_panel_df(fn1_df, '이자비용(천원)') )\n",
    "operating_profit_df = filter_univ(univ_list, get_panel_df(fn1_df, '영업이익(천원)') )\n",
    "total_assets_df = filter_univ(univ_list, get_panel_df(fn1_df, '총자산(천원)') )"
   ]
  },
  {
   "cell_type": "code",
   "execution_count": null,
   "id": "7db80f57",
   "metadata": {},
   "outputs": [],
   "source": [
    "total_assets_df"
   ]
  },
  {
   "cell_type": "markdown",
   "id": "4170983d",
   "metadata": {},
   "source": [
    "## 전처리 (2차)"
   ]
  },
  {
   "cell_type": "markdown",
   "id": "12d53048",
   "metadata": {},
   "source": [
    "### 형변환"
   ]
  },
  {
   "cell_type": "code",
   "execution_count": null,
   "id": "53de73e0",
   "metadata": {},
   "outputs": [],
   "source": [
    "numeric_data = [\n",
    "    close_df, adjclose_df, adjfactor_df, monthly_returns_df, all_mkt_cap_df, common_mkt_cap_df, common_shares_outstanding_df,\n",
    "    common_stock_df, capital_surplus_df, retained_earnings_df, treasury_stock_df, deferred_tax_liabilities_df,\n",
    "    sales_revenue_df, cost_of_goods_sold_df, interest_expense_df, operating_profit_df, total_assets_df\n",
    "]"
   ]
  },
  {
   "cell_type": "code",
   "execution_count": null,
   "id": "66ab6c15",
   "metadata": {
    "lines_to_next_cell": 2
   },
   "outputs": [],
   "source": [
    "for df in numeric_data:\n",
    "    obj_cols = df.select_dtypes('object').columns\n",
    "    df[obj_cols] = df[obj_cols].replace(',', '', regex=True).infer_objects(copy=False) \n",
    "    df[obj_cols] = df[obj_cols].apply(pd.to_numeric, errors='coerce')"
   ]
  },
  {
   "cell_type": "markdown",
   "id": "616d7fed",
   "metadata": {},
   "source": [
    "### 단위 통일"
   ]
  },
  {
   "cell_type": "code",
   "execution_count": null,
   "id": "a8ae5f77",
   "metadata": {},
   "outputs": [],
   "source": [
    "monthly_returns_df = monthly_returns_df / 100 # 수익률은 %로 되어있어 /100"
   ]
  },
  {
   "cell_type": "code",
   "execution_count": null,
   "id": "c6acc2ec",
   "metadata": {},
   "outputs": [],
   "source": [
    "all_mkt_cap_df = all_mkt_cap_df * 100 # 시가총액은 100만원 단위라 *100하여 천원 단위로 맞춰줌\n",
    "common_mkt_cap_df = common_mkt_cap_df * 100"
   ]
  },
  {
   "cell_type": "code",
   "execution_count": null,
   "id": "8de6ae6b",
   "metadata": {},
   "outputs": [],
   "source": [
    "all_mkt_cap_df"
   ]
  },
  {
   "cell_type": "code",
   "execution_count": null,
   "id": "746157de",
   "metadata": {},
   "outputs": [],
   "source": []
  }
 ],
 "metadata": {
  "kernelspec": {
   "display_name": ".venv",
   "language": "python",
   "name": "python3"
  }
 },
 "nbformat": 4,
 "nbformat_minor": 5
}
