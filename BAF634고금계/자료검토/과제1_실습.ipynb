{
 "cells": [
  {
   "cell_type": "markdown",
   "id": "ea09459b",
   "metadata": {},
   "source": [
    "# 파마프렌치 모델 만들기"
   ]
  },
  {
   "cell_type": "code",
   "execution_count": null,
   "id": "2ff6779c",
   "metadata": {},
   "outputs": [],
   "source": [
    "import pandas as pd\n",
    "import numpy as np\n",
    "import matplotlib.pyplot as plt\n",
    "import seaborn as sns\n",
    "\n",
    "from pathlib import Path"
   ]
  },
  {
   "cell_type": "code",
   "execution_count": null,
   "id": "72ddbce2",
   "metadata": {},
   "outputs": [],
   "source": [
    "import warnings\n",
    "\n",
    "# Suppress all FutureWarnings\n",
    "warnings.simplefilter(action='ignore', category=FutureWarning)"
   ]
  },
  {
   "cell_type": "code",
   "execution_count": null,
   "id": "3f9fd724",
   "metadata": {},
   "outputs": [],
   "source": [
    "## custom libs\n",
    "from fndata import FNData"
   ]
  },
  {
   "cell_type": "code",
   "execution_count": null,
   "id": "74342fed",
   "metadata": {},
   "outputs": [],
   "source": [
    "CWD = Path('.').resolve()\n",
    "DATA_DIR = CWD / 'data'"
   ]
  },
  {
   "cell_type": "markdown",
   "id": "787d85af",
   "metadata": {},
   "source": [
    "## 데이터 불러오기"
   ]
  },
  {
   "cell_type": "code",
   "execution_count": null,
   "id": "a69cbb4e",
   "metadata": {},
   "outputs": [],
   "source": [
    "fn1 = DATA_DIR / '고금계과제1_v3.3_201301-202408.csv'"
   ]
  },
  {
   "cell_type": "code",
   "execution_count": null,
   "id": "0aafc6b5",
   "metadata": {},
   "outputs": [],
   "source": [
    "fnd = FNData(fn1)"
   ]
  },
  {
   "cell_type": "code",
   "execution_count": null,
   "id": "393333b0",
   "metadata": {},
   "outputs": [],
   "source": [
    "items = fnd.get_items()"
   ]
  },
  {
   "cell_type": "code",
   "execution_count": null,
   "id": "110573f4",
   "metadata": {},
   "outputs": [],
   "source": [
    "items"
   ]
  },
  {
   "cell_type": "code",
   "execution_count": null,
   "id": "35818626",
   "metadata": {
    "lines_to_next_cell": 2
   },
   "outputs": [],
   "source": [
    "close_df = fnd.get_data('종가(원)')\n",
    "adjclose_df = fnd.get_data('수정주가(원)')\n",
    "adjfactor_df = fnd.get_data('수정계수')\n",
    "monthly_returns_df = fnd.get_data('수익률 (1개월)(%)')"
   ]
  },
  {
   "cell_type": "code",
   "execution_count": null,
   "id": "945392ea",
   "metadata": {
    "lines_to_next_cell": 2
   },
   "outputs": [],
   "source": [
    "\n",
    "# common_shares_listed_df = fnd.get_data('상장주식수 (보통)(주)')\n",
    "\n",
    "# all_mkt_cap_df = fnd.get_data('시가총액 (상장예정주식수 포함)(백만원)')\n",
    "# common_mkt_cap_df = fnd.get_data('시가총액 (보통-상장예정주식수 포함)(백만원)')\n",
    "common_shares_outstanding_df = fnd.get_data('기말발행주식수 (보통)(주)')\n",
    "\n",
    "common_stock_df = fnd.get_data('보통주자본금(천원)')\n",
    "capital_surplus_df = fnd.get_data('자본잉여금(천원)')\n",
    "retained_earnings_df = fnd.get_data('이익잉여금(천원)')\n",
    "treasury_stock_df = fnd.get_data('자기주식(천원)')\n",
    "deferred_tax_liabilities_df = fnd.get_data('이연법인세부채(천원)')\n",
    "sales_revenue_df = fnd.get_data('매출액(천원)')\n",
    "cost_of_goods_sold_df = fnd.get_data('매출원가(천원)')\n",
    "interest_expense_df = fnd.get_data('이자비용(천원)')\n",
    "operating_profit_df = fnd.get_data('영업이익(천원)')\n",
    "total_assets_df = fnd.get_data('총자산(천원)')"
   ]
  },
  {
   "cell_type": "code",
   "execution_count": null,
   "id": "a55030f1",
   "metadata": {},
   "outputs": [],
   "source": [
    "sales_revenue_df.head()"
   ]
  },
  {
   "cell_type": "code",
   "execution_count": null,
   "id": "14a22bf4",
   "metadata": {},
   "outputs": [],
   "source": [
    "# common_shares_listed_df * close_df"
   ]
  },
  {
   "cell_type": "code",
   "execution_count": null,
   "id": "f5161406",
   "metadata": {},
   "outputs": [],
   "source": [
    "common_shares_outstanding_df * close_df"
   ]
  },
  {
   "cell_type": "code",
   "execution_count": null,
   "id": "d03206cf",
   "metadata": {},
   "outputs": [],
   "source": [
    "# common_mkt_cap_df"
   ]
  },
  {
   "cell_type": "code",
   "execution_count": null,
   "id": "aacae7b2",
   "metadata": {},
   "outputs": [],
   "source": [
    "adjclose_df.count(axis=1).plot()"
   ]
  },
  {
   "cell_type": "code",
   "execution_count": null,
   "id": "19b18ab1",
   "metadata": {},
   "outputs": [],
   "source": [
    "sector_df = fnd.get_data('FnGuide Sector')"
   ]
  },
  {
   "cell_type": "code",
   "execution_count": null,
   "id": "2fb1651a",
   "metadata": {},
   "outputs": [],
   "source": [
    "sector_df.count(axis=1).plot()"
   ]
  },
  {
   "cell_type": "code",
   "execution_count": null,
   "id": "4a3f8ee5",
   "metadata": {},
   "outputs": [],
   "source": [
    "last_sector = sector_df.iloc[-1]\n",
    "last_sector[last_sector != ''].count()"
   ]
  },
  {
   "cell_type": "code",
   "execution_count": null,
   "id": "906cc1e2",
   "metadata": {},
   "outputs": [],
   "source": [
    "last_sector.count()"
   ]
  },
  {
   "cell_type": "markdown",
   "id": "c90ed8d5",
   "metadata": {},
   "source": [
    "## Factor Construction"
   ]
  },
  {
   "cell_type": "code",
   "execution_count": null,
   "id": "c23d763e",
   "metadata": {},
   "outputs": [],
   "source": []
  }
 ],
 "metadata": {
  "kernelspec": {
   "display_name": ".venv",
   "language": "python",
   "name": "python3"
  }
 },
 "nbformat": 4,
 "nbformat_minor": 5
}
