{
 "cells": [
  {
   "cell_type": "markdown",
   "id": "f9cb4804",
   "metadata": {},
   "source": [
    "# 데이터 정리 v2\n",
    "\n",
    "- long data를 기본으로, panel로도 불러올 수 있도록 처리 "
   ]
  },
  {
   "cell_type": "code",
   "execution_count": null,
   "id": "b221bf3f",
   "metadata": {},
   "outputs": [],
   "source": [
    "import pandas as pd\n",
    "import numpy as np\n",
    "import matplotlib.pyplot as plt\n",
    "import seaborn as sns\n",
    "\n",
    "from pathlib import Path"
   ]
  },
  {
   "cell_type": "code",
   "execution_count": null,
   "id": "b150df62",
   "metadata": {},
   "outputs": [],
   "source": [
    "CWD = Path('.').resolve()\n",
    "DATA_DIR = CWD / 'data'"
   ]
  },
  {
   "cell_type": "markdown",
   "id": "5dc726a4",
   "metadata": {},
   "source": [
    "## 데이터 로드"
   ]
  },
  {
   "cell_type": "code",
   "execution_count": null,
   "id": "4d4e82e2",
   "metadata": {},
   "outputs": [],
   "source": [
    "fn1 = DATA_DIR / '고금계과제1_v3.3_201301-202408.csv'"
   ]
  },
  {
   "cell_type": "code",
   "execution_count": null,
   "id": "d57fb7c7",
   "metadata": {},
   "outputs": [],
   "source": [
    "## 추출한 fnguide 데이터를 dataframe으로 전처리\n",
    "\n",
    "def preprocess_dataguide_csv(\n",
    "        fn_file_path, \n",
    "        cols=['Symbol', 'Symbol Name', 'Kind', 'Item', 'Item Name ', 'Frequency',], # 날짜가 아닌 컬럼들\n",
    "        skiprows=8, \n",
    "        encoding=\"cp949\",\n",
    "        ):\n",
    "    fn_df = pd.read_csv(fn_file_path, encoding=encoding, skiprows=skiprows, thousands=\",\")\n",
    "    fn_df = fn_df.melt(id_vars=cols, var_name=\"date\", value_name=\"value\")\n",
    "\n",
    "    return fn_df"
   ]
  },
  {
   "cell_type": "code",
   "execution_count": null,
   "id": "e1b83d59",
   "metadata": {},
   "outputs": [],
   "source": [
    "fn1_df = preprocess_dataguide_csv(fn1, encoding='utf-8')"
   ]
  },
  {
   "cell_type": "code",
   "execution_count": null,
   "id": "f5875c30",
   "metadata": {},
   "outputs": [],
   "source": [
    "fn1_df['Item Name '].unique()"
   ]
  },
  {
   "cell_type": "code",
   "execution_count": null,
   "id": "ede38f65",
   "metadata": {},
   "outputs": [],
   "source": [
    "symbol_to_name = fn1_df[['Symbol', 'Symbol Name']].drop_duplicates().set_index('Symbol').to_dict()['Symbol Name']\n",
    "name_to_symbol = {v:k for k, v in symbol_to_name.items()}"
   ]
  },
  {
   "cell_type": "code",
   "execution_count": null,
   "id": "51533c64",
   "metadata": {
    "lines_to_next_cell": 2
   },
   "outputs": [],
   "source": [
    "# string value를 가진 FnGuide Sector의 경우 pivot_table이 안됨. \n",
    "# 이래서 차라리 FnGuide Sector Code 로 가져오는 것이 훨씬 유용한듯. \n",
    "\n",
    "sectors = fn1_df[ fn1_df['Item Name '] == 'FnGuide Sector' ].pivot(\n",
    "    index=['date', 'Symbol', 'Symbol Name', 'Kind', 'Frequency',],\n",
    "    columns='Item Name ',\n",
    "    values='value',\n",
    ").reset_index()"
   ]
  },
  {
   "cell_type": "code",
   "execution_count": null,
   "id": "f832c98e",
   "metadata": {},
   "outputs": [],
   "source": [
    "sectors"
   ]
  },
  {
   "cell_type": "code",
   "execution_count": null,
   "id": "91fd9e88",
   "metadata": {},
   "outputs": [],
   "source": [
    "sectors[ sectors['FnGuide Sector'] == '금융']"
   ]
  },
  {
   "cell_type": "code",
   "execution_count": null,
   "id": "8e76b376",
   "metadata": {
    "lines_to_next_cell": 2
   },
   "outputs": [],
   "source": [
    "sectors.groupby('date').count()['FnGuide Sector']"
   ]
  },
  {
   "cell_type": "code",
   "execution_count": null,
   "id": "b3d3b5bd",
   "metadata": {},
   "outputs": [],
   "source": [
    "sectors.groupby('date').size()"
   ]
  },
  {
   "cell_type": "code",
   "execution_count": null,
   "id": "eef2d2eb",
   "metadata": {},
   "outputs": [],
   "source": [
    "new_df = fn1_df.pivot_table(\n",
    "    index=['date', 'Symbol', 'Symbol Name', 'Kind', 'Frequency',],\n",
    "    columns='Item Name ',\n",
    "    values='value',\n",
    "    aggfunc='first',\n",
    "    dropna=True, # False 로 하면 memory error 남. \n",
    ")"
   ]
  },
  {
   "cell_type": "code",
   "execution_count": null,
   "id": "bab4c811",
   "metadata": {},
   "outputs": [],
   "source": [
    "new_df.reset_index(inplace=True)\n",
    "new_df.index.name = None"
   ]
  },
  {
   "cell_type": "code",
   "execution_count": null,
   "id": "c8b4a0c0",
   "metadata": {},
   "outputs": [],
   "source": [
    "new_df.columns"
   ]
  },
  {
   "cell_type": "code",
   "execution_count": null,
   "id": "8fee74da",
   "metadata": {},
   "outputs": [],
   "source": [
    "for col in new_df.columns:\n",
    "    try:\n",
    "        new_df[col] = new_df[col].replace(',', '', regex=True).infer_objects()\n",
    "        new_df[col] = pd.to_numeric(new_df[col]) # Catch exception explicitly\n",
    "    except:\n",
    "        pass"
   ]
  },
  {
   "cell_type": "code",
   "execution_count": null,
   "id": "794edd4b",
   "metadata": {},
   "outputs": [],
   "source": [
    "new_df.info()"
   ]
  },
  {
   "cell_type": "code",
   "execution_count": null,
   "id": "e3cd9ce8",
   "metadata": {},
   "outputs": [],
   "source": [
    "new_df"
   ]
  },
  {
   "cell_type": "code",
   "execution_count": null,
   "id": "1a474f11",
   "metadata": {},
   "outputs": [],
   "source": [
    "new_df.groupby('date')['수익률 (1개월)(%)'].count()"
   ]
  },
  {
   "cell_type": "code",
   "execution_count": null,
   "id": "d94c6057",
   "metadata": {},
   "outputs": [],
   "source": [
    "existing = new_df.groupby('Symbol').filter(\n",
    "    lambda x: x['종가(원)'].notnull().any()\n",
    ")\n",
    "\n",
    "univ_list = existing['Symbol'].unique()"
   ]
  },
  {
   "cell_type": "code",
   "execution_count": null,
   "id": "0efe0238",
   "metadata": {},
   "outputs": [],
   "source": [
    "len(univ_list)"
   ]
  },
  {
   "cell_type": "code",
   "execution_count": null,
   "id": "a155c6ef",
   "metadata": {},
   "outputs": [],
   "source": [
    "new_df.pivot_table(\n",
    "    index='date',\n",
    "    columns='Symbol',\n",
    "    values='종가(원)',\n",
    ")"
   ]
  },
  {
   "cell_type": "markdown",
   "id": "75ea4bc8",
   "metadata": {},
   "source": [
    "모듈화한 것 테스트"
   ]
  },
  {
   "cell_type": "code",
   "execution_count": null,
   "id": "60118653",
   "metadata": {},
   "outputs": [],
   "source": [
    "import pandas as pd\n",
    "import numpy as np\n",
    "import matplotlib.pyplot as plt\n",
    "import seaborn as sns\n",
    "\n",
    "\n",
    "from pathlib import Path"
   ]
  },
  {
   "cell_type": "code",
   "execution_count": null,
   "id": "b80b5e2c",
   "metadata": {},
   "outputs": [],
   "source": [
    "CWD = Path('.').resolve()\n",
    "DATA_DIR = CWD / 'data'"
   ]
  },
  {
   "cell_type": "code",
   "execution_count": null,
   "id": "565fdd31",
   "metadata": {},
   "outputs": [],
   "source": [
    "fn1 = DATA_DIR / '고금계과제1_v3.3_201301-202408.csv'"
   ]
  },
  {
   "cell_type": "code",
   "execution_count": null,
   "id": "ccffa653",
   "metadata": {},
   "outputs": [],
   "source": [
    "# from fndata import FnData\n",
    "from fndata import FnStockData"
   ]
  },
  {
   "cell_type": "code",
   "execution_count": null,
   "id": "2819ef45",
   "metadata": {},
   "outputs": [],
   "source": [
    "# fnd = FnData(fn1)\n",
    "fnd = FnStockData(fn1)"
   ]
  },
  {
   "cell_type": "code",
   "execution_count": null,
   "id": "89d72566",
   "metadata": {},
   "outputs": [],
   "source": [
    "item = '종가(원)'"
   ]
  },
  {
   "cell_type": "code",
   "execution_count": null,
   "id": "9fb672eb",
   "metadata": {},
   "outputs": [],
   "source": [
    "fnd.get_data()"
   ]
  },
  {
   "cell_type": "code",
   "execution_count": null,
   "id": "561c28b7",
   "metadata": {},
   "outputs": [],
   "source": [
    "fnd.get_data(item)"
   ]
  },
  {
   "cell_type": "code",
   "execution_count": null,
   "id": "c04d96f0",
   "metadata": {},
   "outputs": [],
   "source": [
    "fnd.get_data().info()"
   ]
  },
  {
   "cell_type": "code",
   "execution_count": null,
   "id": "e681ac57",
   "metadata": {},
   "outputs": [],
   "source": [
    "multi_items = ['종가(원)', '수익률 (1개월)(%)']"
   ]
  },
  {
   "cell_type": "code",
   "execution_count": null,
   "id": "913edc20",
   "metadata": {},
   "outputs": [],
   "source": [
    "fnd.get_data(multi_items)"
   ]
  },
  {
   "cell_type": "code",
   "execution_count": null,
   "id": "26e37258",
   "metadata": {},
   "outputs": [],
   "source": [
    "fnd.long_format_df"
   ]
  },
  {
   "cell_type": "markdown",
   "id": "e0ec81bb",
   "metadata": {},
   "source": [
    "## 디버깅"
   ]
  },
  {
   "cell_type": "code",
   "execution_count": null,
   "id": "21e60304",
   "metadata": {},
   "outputs": [],
   "source": [
    "import pandas as pd\n",
    "import numpy as np\n",
    "import matplotlib.pyplot as plt\n",
    "import seaborn as sns\n",
    "\n",
    "\n",
    "from pathlib import Path"
   ]
  },
  {
   "cell_type": "code",
   "execution_count": null,
   "id": "c45101d0",
   "metadata": {},
   "outputs": [],
   "source": [
    "CWD = Path('.').resolve()\n",
    "DATA_DIR = CWD / 'data'"
   ]
  },
  {
   "cell_type": "code",
   "execution_count": null,
   "id": "093265e5",
   "metadata": {},
   "outputs": [],
   "source": [
    "fn1 = DATA_DIR / '고금계과제1_v3.3_201301-202408.csv'"
   ]
  },
  {
   "cell_type": "code",
   "execution_count": null,
   "id": "509e2782",
   "metadata": {},
   "outputs": [],
   "source": [
    "\n",
    "NUMERIC_DATA = [\n",
    "    '종가(원)',\n",
    "    '수정주가(원)',\n",
    "    '수정계수',\n",
    "    '수익률 (1개월)(%)',\n",
    "    # '상장주식수 (보통)(주)',\n",
    "    # '시가총액 (상장예정주식수 포함)(백만원)',\n",
    "    # '시가총액 (보통-상장예정주식수 포함)(백만원)',\n",
    "    '기말발행주식수 (보통)(주)',\n",
    "    '보통주자본금(천원)',\n",
    "    '자본잉여금(천원)',\n",
    "    '이익잉여금(천원)',\n",
    "    '자기주식(천원)',\n",
    "    '이연법인세부채(천원)',\n",
    "    '매출액(천원)',\n",
    "    '매출원가(천원)',\n",
    "    '이자비용(천원)',\n",
    "    '영업이익(천원)',\n",
    "    '총자산(천원)'\n",
    "    ]\n",
    "\n",
    "UNIV_REFERENCE_ITEMS = [\n",
    "    '수정주가(원)',\n",
    "    '종가(원)',\n",
    "    '수익률 (1개월)(%)',\n",
    "    '수익률 (%)'\n",
    "    ]\n",
    "\n",
    "DIV_BY_100 = [\n",
    "    '수익률 (%)',\n",
    "    '수익률 (1개월)(%)',\n",
    "    ]\n",
    "\n",
    "MULTIPLY_BY_1000 = [\n",
    "    '보통주자본금(천원)',\n",
    "    '자본잉여금(천원)',\n",
    "    '이익잉여금(천원)',\n",
    "    '자기주식(천원)',\n",
    "    '이연법인세부채(천원)',\n",
    "    '매출액(천원)',\n",
    "    '매출원가(천원)',\n",
    "    '이자비용(천원)',\n",
    "    '영업이익(천원)',\n",
    "    '총자산(천원)',\n",
    "    ]\n",
    "\n",
    "FN_INDEX_COLS = ['date', 'Symbol', 'Symbol Name', 'Kind', 'Frequency',]"
   ]
  },
  {
   "cell_type": "code",
   "execution_count": null,
   "id": "43f264a2",
   "metadata": {},
   "outputs": [],
   "source": [
    "import pandas as pd\n",
    "\n",
    "# Constants (formerly class variables)\n",
    "NUMERIC_DATA = [\n",
    "    '종가(원)', '수정주가(원)', '수정계수', '수익률 (1개월)(%)',\n",
    "    '기말발행주식수 (보통)(주)', '보통주자본금(천원)', '자본잉여금(천원)', '이익잉여금(천원)',\n",
    "    '자기주식(천원)', '이연법인세부채(천원)', '매출액(천원)', '매출원가(천원)',\n",
    "    '이자비용(천원)', '영업이익(천원)', '총자산(천원)'\n",
    "]\n",
    "\n",
    "UNIV_REFERENCE_ITEMS = [\n",
    "    '수익률 (1개월)(%)',\n",
    "]\n",
    "\n",
    "DIV_BY_100 = [\n",
    "    '수익률 (%)', '수익률 (1개월)(%)'\n",
    "]\n",
    "\n",
    "MULTIPLY_BY_1000 = [\n",
    "    '보통주자본금(천원)', '자본잉여금(천원)', '이익잉여금(천원)', '자기주식(천원)', \n",
    "    '이연법인세부채(천원)', '매출액(천원)', '매출원가(천원)', '이자비용(천원)', \n",
    "    '영업이익(천원)', '총자산(천원)'\n",
    "]\n",
    "\n",
    "# FN_INDEX_COLS = ['date', 'Symbol', 'Symbol Name', 'Kind', 'Frequency']\n",
    "FN_INDEX_COLS = ['date', 'Symbol', 'Symbol Name', ]\n",
    "\n",
    "def melt_dataguide_csv(fn_file_path, cols=['Symbol', 'Symbol Name', 'Kind', 'Item', 'Item Name ', 'Frequency'], skiprows=8, encoding=\"cp949\"):\n",
    "    fn_df = pd.read_csv(fn_file_path, encoding=encoding, skiprows=skiprows, thousands=\",\")\n",
    "    fn_df = fn_df.melt(id_vars=cols, var_name=\"date\", value_name=\"value\")\n",
    "    fn_df.drop(columns=['Kind', 'Item', 'Frequency'], inplace=True)\n",
    "    return fn_df\n",
    "\n",
    "def pivot_nonnumeric(fn1_df, item_name):\n",
    "    nonnumeric_data = fn1_df[fn1_df['Item Name '] == item_name].pivot(\n",
    "        index=FN_INDEX_COLS,\n",
    "        columns='Item Name ',\n",
    "        values='value'\n",
    "    ).reset_index()\n",
    "    return nonnumeric_data\n",
    "\n",
    "def pivot_numerics(fn1_df):\n",
    "    numeric_data = fn1_df.pivot_table(\n",
    "        index=FN_INDEX_COLS,\n",
    "        columns='Item Name ',\n",
    "        values='value',\n",
    "        aggfunc='first',\n",
    "        dropna=True\n",
    "    ).reset_index()\n",
    "    return numeric_data\n",
    "\n",
    "def preprocess_numerics(long_format_df):\n",
    "    obj_cols = long_format_df.select_dtypes(include='object').columns\n",
    "    obj_cols = [obj_col for obj_col in obj_cols if obj_col in NUMERIC_DATA]\n",
    "    long_format_df[obj_cols] = long_format_df[obj_cols].replace(',', '', regex=True).infer_objects(copy=False)\n",
    "    long_format_df[obj_cols] = long_format_df[obj_cols].apply(pd.to_numeric, errors='raise')\n",
    "    return long_format_df\n",
    "\n",
    "def make_filters(fn1_df):\n",
    "    finance_sector = pivot_nonnumeric(fn1_df, 'FnGuide Sector')\n",
    "    finance_sector = finance_sector[finance_sector['FnGuide Sector'] == '금융']\n",
    "\n",
    "    is_under_supervision = pivot_nonnumeric(fn1_df, '관리종목여부')\n",
    "    is_under_supervision = is_under_supervision[is_under_supervision['관리종목여부'] == '관리']\n",
    "\n",
    "    is_trading_halted = pivot_nonnumeric(fn1_df, '거래정지여부') \n",
    "    is_trading_halted = is_trading_halted[is_trading_halted['거래정지여부'] == '정지']\n",
    "\n",
    "    return [\n",
    "        finance_sector,\n",
    "        is_under_supervision,\n",
    "        is_trading_halted,\n",
    "    ]\n",
    "\n",
    "def apply_filters(long_format_df, filter_dfs):\n",
    "    for filter_df in filter_dfs:\n",
    "        filter_df['_flag_right'] = 1\n",
    "        long_format_df = long_format_df.merge(\n",
    "            filter_df,\n",
    "            on=['date', 'Symbol'],\n",
    "            how='left',\n",
    "            suffixes=('', '_right')\n",
    "        )\n",
    "        long_format_df = long_format_df[long_format_df['_flag_right'].isnull()] \n",
    "        long_format_df.drop(columns=[c for c in long_format_df.columns if c.endswith('_right')], inplace=True)\n",
    "        long_format_df.reset_index(drop=True, inplace=True)\n",
    "    return long_format_df\n",
    "\n",
    "def get_univ_list(long_format_df, reference_item='수익률 (1개월)(%)'):\n",
    "    assert reference_item in UNIV_REFERENCE_ITEMS, f\"유니버스 구축을 위해 {UNIV_REFERENCE_ITEMS} 중 하나가 필요합니다.\"\n",
    "    only_existing = long_format_df.groupby('Symbol').filter(\n",
    "        lambda x: x[reference_item].notnull().any()\n",
    "    )\n",
    "    return only_existing['Symbol'].unique()\n",
    "\n",
    "def get_wide_format_df(long_format_df, item_name):\n",
    "    return long_format_df.pivot_table(\n",
    "        index='date',\n",
    "        columns='Symbol',\n",
    "        values=item_name,\n",
    "    )\n",
    "\n",
    "def get_data(long_format_df, items, univ_list, item: list | str | None = None, multiindex: bool = True):\n",
    "    if isinstance(item, str):\n",
    "        assert item in items, f\"{item} is not in the item list\"\n",
    "        assert item in NUMERIC_DATA, f\"{item} is not a numeric data\"\n",
    "        data = get_wide_format_df(long_format_df, item)\n",
    "        data = data.reindex(columns=univ_list)\n",
    "        if item in DIV_BY_100:\n",
    "            data = data / 100\n",
    "        elif item in MULTIPLY_BY_1000:\n",
    "            data = data * 1000\n",
    "    elif isinstance(item, list):\n",
    "        for i in item:\n",
    "            assert i in items, f\"{i} is not in the item list\"\n",
    "            assert i in NUMERIC_DATA, f\"{i} is not a numeric data\"\n",
    "        data = long_format_df.loc[:, FN_INDEX_COLS + item]\n",
    "        for col in data.columns:\n",
    "            if col in DIV_BY_100:\n",
    "                data[col] = data[col] / 100\n",
    "            elif col in MULTIPLY_BY_1000:\n",
    "                data[col] = data[col] * 1000\n",
    "        if multiindex:\n",
    "            data.drop(columns=['Symbol Name',], inplace=True)\n",
    "            data.index.name = None\n",
    "            data.set_index(['date', 'Symbol'], inplace=True)\n",
    "        data = data.reindex(univ_list, level=1)\n",
    "    elif item is None:\n",
    "        data = long_format_df.copy()\n",
    "        if multiindex:\n",
    "            data.drop(columns=['Symbol Name',], inplace=True)\n",
    "            data.index.name = None\n",
    "            data.set_index(['date', 'Symbol'], inplace=True)\n",
    "        data = data.reindex(univ_list, level=1)\n",
    "    else:\n",
    "        raise ValueError(\"\"\"\n",
    "                         item은 \n",
    "                         - str (1개 item만 wide-format 반환) \n",
    "                         - list (선택한 item들 long-format 반환)\n",
    "                         - None (전체 long-format 반환)\n",
    "                         중 하나여야 합니다.\n",
    "                         (numeric data만 선택 가능)\n",
    "                         \"\"\")\n",
    "    return data\n",
    "\n",
    "def symbol_to_name(symbol_code, symbol_to_name_mapping):\n",
    "    return symbol_to_name_mapping[symbol_code]\n",
    "\n",
    "def name_to_symbol(symbol_name, name_to_symbol_mapping):\n",
    "    return name_to_symbol_mapping[symbol_name]\n",
    "\n"
   ]
  },
  {
   "cell_type": "code",
   "execution_count": null,
   "id": "d8197f01",
   "metadata": {},
   "outputs": [],
   "source": [
    "fn1_df = melt_dataguide_csv(fn1, encoding='utf-8')\n",
    "items = fn1_df['Item Name '].unique()"
   ]
  },
  {
   "cell_type": "code",
   "execution_count": null,
   "id": "a93c58fd",
   "metadata": {},
   "outputs": [],
   "source": [
    "fn1_df.drop(columns=['Kind', 'Item', 'Frequency'], inplace=True)"
   ]
  },
  {
   "cell_type": "code",
   "execution_count": null,
   "id": "7e9e8f8a",
   "metadata": {},
   "outputs": [],
   "source": [
    "items"
   ]
  },
  {
   "cell_type": "code",
   "execution_count": null,
   "id": "bbaf225d",
   "metadata": {
    "lines_to_next_cell": 2
   },
   "outputs": [],
   "source": [
    "long_format_df = pivot_numerics(fn1_df)"
   ]
  },
  {
   "cell_type": "code",
   "execution_count": null,
   "id": "04e52822",
   "metadata": {},
   "outputs": [],
   "source": [
    "long_format_df[ long_format_df['Symbol'] == 'A000020']"
   ]
  },
  {
   "cell_type": "code",
   "execution_count": null,
   "id": "12b524ff",
   "metadata": {},
   "outputs": [],
   "source": [
    "\n",
    "long_format_df = preprocess_numerics(long_format_df)\n",
    "\n"
   ]
  },
  {
   "cell_type": "code",
   "execution_count": null,
   "id": "7ac4668a",
   "metadata": {
    "lines_to_next_cell": 2
   },
   "outputs": [],
   "source": [
    "\n",
    "# Apply filters: e.g., for 금융 제거, 관리종목여부, 거래정지여부\n",
    "filter_dfs = make_filters(fn1_df)\n",
    "long_format_df = apply_filters(long_format_df, filter_dfs)"
   ]
  },
  {
   "cell_type": "code",
   "execution_count": null,
   "id": "f81c17d6",
   "metadata": {
    "lines_to_next_cell": 2
   },
   "outputs": [],
   "source": [
    "univ_list = get_univ_list(long_format_df, '수익률 (1개월)(%)')\n",
    "print(univ_list)"
   ]
  },
  {
   "cell_type": "code",
   "execution_count": null,
   "id": "890f5c49",
   "metadata": {},
   "outputs": [],
   "source": [
    "len(univ_list)"
   ]
  },
  {
   "cell_type": "code",
   "execution_count": null,
   "id": "efb158a4",
   "metadata": {},
   "outputs": [],
   "source": [
    "data = get_data(long_format_df, items, univ_list, item='수익률 (1개월)(%)') # wide는 정상작동"
   ]
  },
  {
   "cell_type": "code",
   "execution_count": null,
   "id": "b5b8d228",
   "metadata": {},
   "outputs": [],
   "source": [
    "data = get_data(long_format_df, items, univ_list, item='이자비용(천원)') # wide는 정상작동"
   ]
  },
  {
   "cell_type": "code",
   "execution_count": null,
   "id": "7f5c7e28",
   "metadata": {},
   "outputs": [],
   "source": [
    "data.shape"
   ]
  },
  {
   "cell_type": "code",
   "execution_count": null,
   "id": "62161414",
   "metadata": {},
   "outputs": [],
   "source": [
    "data = get_data(long_format_df, items, univ_list, item=['수익률 (1개월)(%)', '이자비용(천원)'], multiindex=True) # long은 정상작동"
   ]
  },
  {
   "cell_type": "code",
   "execution_count": null,
   "id": "508f2611",
   "metadata": {},
   "outputs": [],
   "source": [
    "data"
   ]
  },
  {
   "cell_type": "code",
   "execution_count": null,
   "id": "32e193cc",
   "metadata": {},
   "outputs": [],
   "source": [
    "item=['수익률 (1개월)(%)', '이자비용(천원)']\n",
    "data = long_format_df.loc[:, FnData.FN_INDEX_COLS + item]"
   ]
  },
  {
   "cell_type": "code",
   "execution_count": null,
   "id": "14677f46",
   "metadata": {},
   "outputs": [],
   "source": [
    "data.drop(columns=['Symbol Name', 'Kind', 'Frequency'], inplace=True)"
   ]
  },
  {
   "cell_type": "code",
   "execution_count": null,
   "id": "73fb609a",
   "metadata": {},
   "outputs": [],
   "source": [
    "data.index.name = None"
   ]
  },
  {
   "cell_type": "code",
   "execution_count": null,
   "id": "12d91761",
   "metadata": {},
   "outputs": [],
   "source": [
    "univ = set(univ_list)\n",
    "data_univ = set(data['Symbol'].unique())"
   ]
  },
  {
   "cell_type": "code",
   "execution_count": null,
   "id": "9bd259fc",
   "metadata": {},
   "outputs": [],
   "source": [
    "univ - data_univ"
   ]
  },
  {
   "cell_type": "code",
   "execution_count": null,
   "id": "8e99ff41",
   "metadata": {},
   "outputs": [],
   "source": [
    "data[ data[['date', 'Symbol']].duplicated() ]"
   ]
  },
  {
   "cell_type": "code",
   "execution_count": null,
   "id": "5c07d451",
   "metadata": {},
   "outputs": [],
   "source": [
    "check = data[ data['Symbol'] == 'A000020']\n",
    "check"
   ]
  },
  {
   "cell_type": "code",
   "execution_count": null,
   "id": "181048bb",
   "metadata": {},
   "outputs": [],
   "source": [
    "check['date'].value_counts()"
   ]
  },
  {
   "cell_type": "code",
   "execution_count": null,
   "id": "2109e4a2",
   "metadata": {},
   "outputs": [],
   "source": [
    "check2 = fn1_df[ fn1_df['Symbol'] == 'A000020']\n",
    "check2 = check2[ check2['Item Name '] == '수익률 (1개월)(%)' ]\n",
    "check2"
   ]
  },
  {
   "cell_type": "code",
   "execution_count": null,
   "id": "70a450a6",
   "metadata": {},
   "outputs": [],
   "source": [
    "data.set_index(['date', 'Symbol'], inplace=True)"
   ]
  },
  {
   "cell_type": "code",
   "execution_count": null,
   "id": "57cd4227",
   "metadata": {},
   "outputs": [],
   "source": [
    "data"
   ]
  },
  {
   "cell_type": "code",
   "execution_count": null,
   "id": "e49606a2",
   "metadata": {},
   "outputs": [],
   "source": [
    "data.reindex(univ_list, level=1)"
   ]
  },
  {
   "cell_type": "code",
   "execution_count": null,
   "id": "fdf47dbc",
   "metadata": {},
   "outputs": [],
   "source": []
  },
  {
   "cell_type": "code",
   "execution_count": null,
   "id": "fc7cd734",
   "metadata": {},
   "outputs": [],
   "source": []
  },
  {
   "cell_type": "code",
   "execution_count": null,
   "id": "315feab8",
   "metadata": {},
   "outputs": [],
   "source": [
    "dup = long_format_df[ long_format_df[['date', 'Symbol']].duplicated() ][['date', 'Symbol']]\n",
    "dup"
   ]
  },
  {
   "cell_type": "code",
   "execution_count": null,
   "id": "adce1ee7",
   "metadata": {},
   "outputs": [],
   "source": [
    "long_format_df[  ]"
   ]
  },
  {
   "cell_type": "code",
   "execution_count": null,
   "id": "f19fed22",
   "metadata": {},
   "outputs": [],
   "source": []
  },
  {
   "cell_type": "code",
   "execution_count": null,
   "id": "f81e57cd",
   "metadata": {
    "lines_to_next_cell": 2
   },
   "outputs": [],
   "source": [
    "right_df = filter_dfs[0].copy()\n",
    "right_df['_flag'] = 1"
   ]
  },
  {
   "cell_type": "code",
   "execution_count": null,
   "id": "159c6e7b",
   "metadata": {},
   "outputs": [],
   "source": [
    "right_df"
   ]
  },
  {
   "cell_type": "code",
   "execution_count": null,
   "id": "7170cf5d",
   "metadata": {},
   "outputs": [],
   "source": [
    "\n",
    "dd = long_format_df.merge(\n",
    "    right_df,\n",
    "    on=['date', 'Symbol'],\n",
    "    how='left',\n",
    "    suffixes=('', '_right')\n",
    ")"
   ]
  },
  {
   "cell_type": "code",
   "execution_count": null,
   "id": "14a04b0f",
   "metadata": {},
   "outputs": [],
   "source": [
    "len(dd)"
   ]
  },
  {
   "cell_type": "code",
   "execution_count": null,
   "id": "13df941b",
   "metadata": {},
   "outputs": [],
   "source": [
    "dd['_flag'].value_counts()"
   ]
  },
  {
   "cell_type": "code",
   "execution_count": null,
   "id": "bff36fee",
   "metadata": {},
   "outputs": [],
   "source": [
    "dd['_flag'].isnull().sum()"
   ]
  },
  {
   "cell_type": "code",
   "execution_count": null,
   "id": "32767e11",
   "metadata": {},
   "outputs": [],
   "source": [
    "dd.columns"
   ]
  },
  {
   "cell_type": "code",
   "execution_count": null,
   "id": "c6407a19",
   "metadata": {},
   "outputs": [],
   "source": [
    "dd['_merge'].unique()"
   ]
  },
  {
   "cell_type": "markdown",
   "id": "ed5dc450",
   "metadata": {},
   "source": [
    "## 시장수익률"
   ]
  },
  {
   "cell_type": "code",
   "execution_count": null,
   "id": "5f3a07fd",
   "metadata": {},
   "outputs": [],
   "source": [
    "import pandas as pd\n",
    "import numpy as np\n",
    "import matplotlib.pyplot as plt\n",
    "import seaborn as sns\n",
    "\n",
    "from pathlib import Path"
   ]
  },
  {
   "cell_type": "code",
   "execution_count": null,
   "id": "6c2173df",
   "metadata": {},
   "outputs": [],
   "source": [
    "CWD = Path('.').resolve()\n",
    "DATA_DIR = CWD / 'data'"
   ]
  },
  {
   "cell_type": "code",
   "execution_count": null,
   "id": "cf1bee8e",
   "metadata": {},
   "outputs": [],
   "source": [
    "fnmkt = DATA_DIR / '고금계과제_시장수익률_201301-202408.csv'"
   ]
  },
  {
   "cell_type": "code",
   "execution_count": null,
   "id": "582ee51c",
   "metadata": {},
   "outputs": [],
   "source": [
    "fn_df = pd.read_csv(\n",
    "    fnmkt,\n",
    "    encoding='utf-8', \n",
    "    skiprows=8, \n",
    "    thousands=\",\"\n",
    "    )"
   ]
  },
  {
   "cell_type": "code",
   "execution_count": null,
   "id": "36a7da67",
   "metadata": {},
   "outputs": [],
   "source": [
    "fn_df"
   ]
  },
  {
   "cell_type": "code",
   "execution_count": null,
   "id": "1ee70ace",
   "metadata": {},
   "outputs": [],
   "source": [
    "cols=['Symbol', 'Symbol Name', 'Kind', 'Item', 'Item Name ', 'Frequency',] # 날짜가 아닌 컬럼들"
   ]
  },
  {
   "cell_type": "code",
   "execution_count": null,
   "id": "3338f9c3",
   "metadata": {},
   "outputs": [],
   "source": [
    "fn_df = fn_df.melt(id_vars=cols, var_name=\"date\", value_name=\"value\")"
   ]
  },
  {
   "cell_type": "code",
   "execution_count": null,
   "id": "2f5d59c2",
   "metadata": {},
   "outputs": [],
   "source": [
    "fn_df"
   ]
  },
  {
   "cell_type": "code",
   "execution_count": null,
   "id": "ba8cad40",
   "metadata": {},
   "outputs": [],
   "source": [
    "FN_INDEX_COLS = ['date', 'Symbol', 'Symbol Name',]\n",
    "\n",
    "numeric_data = fn_df.pivot_table(\n",
    "    index=FN_INDEX_COLS,\n",
    "    columns='Item Name ',\n",
    "    values='value',\n",
    "    aggfunc='first',\n",
    "    dropna=True\n",
    ").reset_index()"
   ]
  },
  {
   "cell_type": "code",
   "execution_count": null,
   "id": "58dfe713",
   "metadata": {},
   "outputs": [],
   "source": [
    "numeric_data"
   ]
  },
  {
   "cell_type": "code",
   "execution_count": null,
   "id": "10c79ce2",
   "metadata": {},
   "outputs": [],
   "source": [
    "numeric_data.info()"
   ]
  },
  {
   "cell_type": "code",
   "execution_count": null,
   "id": "5b43af1d",
   "metadata": {},
   "outputs": [],
   "source": [
    "NUMERIC_DATA = [\n",
    "    '종가(원)',\n",
    "    '수정주가(원)',\n",
    "    '수정계수',\n",
    "    '수익률 (1개월)(%)',\n",
    "    # '상장주식수 (보통)(주)',\n",
    "    # '시가총액 (상장예정주식수 포함)(백만원)',\n",
    "    # '시가총액 (보통-상장예정주식수 포함)(백만원)',\n",
    "    '기말발행주식수 (보통)(주)',\n",
    "    '보통주자본금(천원)',\n",
    "    '자본잉여금(천원)',\n",
    "    '이익잉여금(천원)',\n",
    "    '자기주식(천원)', \n",
    "    '이연법인세부채(천원)',\n",
    "    '매출액(천원)',\n",
    "    '매출원가(천원)',\n",
    "    '이자비용(천원)',\n",
    "    '영업이익(천원)',\n",
    "    '총자산(천원)'\n",
    "    ]"
   ]
  },
  {
   "cell_type": "code",
   "execution_count": null,
   "id": "f05e9b77",
   "metadata": {},
   "outputs": [],
   "source": [
    "def _preprocess_numerics(numeric_data):\n",
    "\n",
    "    obj_cols = numeric_data.select_dtypes(include='object').columns\n",
    "    obj_cols = [obj_col for obj_col in obj_cols if obj_col in NUMERIC_DATA]\n",
    "    numeric_data[obj_cols] = numeric_data[obj_cols].replace(',', '', regex=True).infer_objects(copy=False)\n",
    "    numeric_data[obj_cols] = numeric_data[obj_cols].apply(pd.to_numeric, errors='raise') \n",
    "    \n",
    "    return"
   ]
  },
  {
   "cell_type": "code",
   "execution_count": null,
   "id": "28cfe3ca",
   "metadata": {},
   "outputs": [],
   "source": [
    "_preprocess_numerics(numeric_data)"
   ]
  },
  {
   "cell_type": "code",
   "execution_count": null,
   "id": "fc20aa8c",
   "metadata": {},
   "outputs": [],
   "source": [
    "numeric_data.info()"
   ]
  },
  {
   "cell_type": "code",
   "execution_count": null,
   "id": "d91d9601",
   "metadata": {},
   "outputs": [],
   "source": [
    "numeric_data"
   ]
  },
  {
   "cell_type": "code",
   "execution_count": null,
   "id": "48908929",
   "metadata": {},
   "outputs": [],
   "source": [
    "long = numeric_data.copy()\n",
    "\n",
    "long.drop(columns=['Symbol Name',], inplace=True)\n",
    "long.index.name = None\n",
    "long.set_index(['date', 'Symbol'], inplace=True)"
   ]
  },
  {
   "cell_type": "code",
   "execution_count": null,
   "id": "45e7db29",
   "metadata": {},
   "outputs": [],
   "source": [
    "long / 100"
   ]
  },
  {
   "cell_type": "code",
   "execution_count": null,
   "id": "f683a939",
   "metadata": {},
   "outputs": [],
   "source": [
    "wide = numeric_data.pivot_table(\n",
    "    index='date',\n",
    "    columns='Symbol',\n",
    "    values='수익률 (1개월)(%)',\n",
    ")"
   ]
  },
  {
   "cell_type": "code",
   "execution_count": null,
   "id": "a02ce389",
   "metadata": {},
   "outputs": [],
   "source": [
    "wide"
   ]
  },
  {
   "cell_type": "markdown",
   "id": "546dde7e",
   "metadata": {},
   "source": [
    "\n",
    "## 무위험이자율"
   ]
  },
  {
   "cell_type": "code",
   "execution_count": null,
   "id": "f825bdcd",
   "metadata": {},
   "outputs": [],
   "source": []
  }
 ],
 "metadata": {
  "kernelspec": {
   "display_name": ".venv",
   "language": "python",
   "name": "python3"
  }
 },
 "nbformat": 4,
 "nbformat_minor": 5
}
