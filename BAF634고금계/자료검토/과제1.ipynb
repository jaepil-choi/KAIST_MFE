{
 "cells": [
  {
   "cell_type": "markdown",
   "id": "b1474efe",
   "metadata": {},
   "source": [
    "# 고금계 과제 1 검토"
   ]
  },
  {
   "cell_type": "code",
   "execution_count": null,
   "id": "97bd4623",
   "metadata": {},
   "outputs": [],
   "source": [
    "import pandas as pd\n",
    "import numpy as np\n",
    "import matplotlib.pyplot as plt\n",
    "import seaborn as sns\n",
    "\n",
    "from pathlib import Path"
   ]
  },
  {
   "cell_type": "code",
   "execution_count": null,
   "id": "5c9a338d",
   "metadata": {},
   "outputs": [],
   "source": [
    "CWD = Path('.').resolve()\n",
    "DATA_DIR = CWD / 'data'"
   ]
  },
  {
   "cell_type": "markdown",
   "id": "2c89b711",
   "metadata": {},
   "source": [
    "## Load & Preprocess data"
   ]
  },
  {
   "cell_type": "markdown",
   "id": "7861bee1",
   "metadata": {},
   "source": [
    "### Dataguide 추출 데이터 "
   ]
  },
  {
   "cell_type": "code",
   "execution_count": null,
   "id": "baf72ef0",
   "metadata": {},
   "outputs": [],
   "source": [
    "fn1 = DATA_DIR / '고금계과제1_v3.0_201301-202408.csv'"
   ]
  },
  {
   "cell_type": "code",
   "execution_count": null,
   "id": "a1388ad8",
   "metadata": {},
   "outputs": [],
   "source": [
    "## 추출한 fnguide 데이터를 dataframe으로 전처리\n",
    "\n",
    "def preprocess_dataguide_csv(fn_file_path, cols, skiprows=8, encoding=\"cp949\"):\n",
    "    fn_df = pd.read_csv(fn_file_path, encoding=encoding, skiprows=skiprows, thousands=\",\")\n",
    "    fn_df = fn_df.melt(id_vars=cols, var_name=\"date\", value_name=\"value\")\n",
    "\n",
    "    return fn_df"
   ]
  },
  {
   "cell_type": "code",
   "execution_count": null,
   "id": "a8cc9832",
   "metadata": {},
   "outputs": [],
   "source": [
    "# 날짜가 아닌 컬럼들\n",
    "cols = ['Symbol', 'Symbol Name', 'Kind', 'Item', 'Item Name ', 'Frequency',]"
   ]
  },
  {
   "cell_type": "code",
   "execution_count": null,
   "id": "b907ef51",
   "metadata": {},
   "outputs": [],
   "source": [
    "fn1_df = preprocess_dataguide_csv(fn1, cols, encoding='utf-8')"
   ]
  },
  {
   "cell_type": "code",
   "execution_count": null,
   "id": "139b1cc6",
   "metadata": {},
   "outputs": [],
   "source": [
    "fn1_df.head(30\n",
    "            )"
   ]
  },
  {
   "cell_type": "code",
   "execution_count": null,
   "id": "299f8c0b",
   "metadata": {},
   "outputs": [],
   "source": [
    "fn1_df[ fn1_df['Frequency'] == 'DAILY' ]['Item Name '].unique()"
   ]
  },
  {
   "cell_type": "code",
   "execution_count": null,
   "id": "556a003d",
   "metadata": {},
   "outputs": [],
   "source": [
    "fn1_df['Kind'].unique()"
   ]
  },
  {
   "cell_type": "code",
   "execution_count": null,
   "id": "7c7f1bcc",
   "metadata": {},
   "outputs": [],
   "source": [
    "fn1_df[ fn1_df['Kind'].isna() ] # 날짜 빼고 다 NaN으로 나오는 케이스들 있다. "
   ]
  },
  {
   "cell_type": "code",
   "execution_count": null,
   "id": "ac39a6a9",
   "metadata": {},
   "outputs": [],
   "source": [
    "# univ_list = fn1_df['Symbol'].unique() # 나중에 기간 중 존재하지 않았던 종목들을 제외하고 다시 만들 것. \n",
    "\n",
    "items = fn1_df['Item Name '].unique() # 원래부터 DataGuide에 띄어쓰기가 들어가 있어서 이렇게 되어버림"
   ]
  },
  {
   "cell_type": "code",
   "execution_count": null,
   "id": "5a6cf8d3",
   "metadata": {},
   "outputs": [],
   "source": [
    "items"
   ]
  },
  {
   "cell_type": "markdown",
   "id": "509292e0",
   "metadata": {},
   "source": [
    "### mapping 생성"
   ]
  },
  {
   "cell_type": "code",
   "execution_count": null,
   "id": "3882a6a4",
   "metadata": {},
   "outputs": [],
   "source": [
    "symbol_to_name = fn1_df[['Symbol', 'Symbol Name']].drop_duplicates().set_index('Symbol').to_dict()['Symbol Name']"
   ]
  },
  {
   "cell_type": "code",
   "execution_count": null,
   "id": "02770b73",
   "metadata": {},
   "outputs": [],
   "source": [
    "name_to_symbol = {v:k for k, v in symbol_to_name.items()}"
   ]
  },
  {
   "cell_type": "markdown",
   "id": "96a08ebe",
   "metadata": {},
   "source": [
    "### 존재하지 않았던 기업 처리\n",
    "\n",
    "Dataguide에서 상장폐지 종목 포함하여 불러오면 주어진 기간에 존재하지 않았던 기업까지 불러옴. (즉, 전체기간 모든 기업을 univ로 불러옴)\n",
    "\n",
    "주어진 기간동안의 존재하지 않았던 주식들의 value 값에 대해선 모두 NaN을 줘버림. "
   ]
  },
  {
   "cell_type": "code",
   "execution_count": null,
   "id": "fefa4cb9",
   "metadata": {},
   "outputs": [],
   "source": [
    "name_to_symbol['신한은행'] # 신한지주 출범으로 신한 증권과 함께 2001년 8월 30일 상장폐지. 우리의 데이터 기간엔 아예 존재하지 말았어야 함. "
   ]
  },
  {
   "cell_type": "code",
   "execution_count": null,
   "id": "f0f6ffc6",
   "metadata": {},
   "outputs": [],
   "source": [
    "name_to_symbol['신한지주'] # 동년 9월 상장됨 "
   ]
  },
  {
   "cell_type": "code",
   "execution_count": null,
   "id": "37754963",
   "metadata": {},
   "outputs": [],
   "source": [
    "def get_panel_df(df, item_name):\n",
    "    panel_df = df.loc[df['Item Name '] == item_name].copy()\n",
    "    panel_df = panel_df.pivot(index='date', columns='Symbol', values='value')\n",
    "    panel_df = panel_df.reset_index()\n",
    "    \n",
    "    panel_df = panel_df.set_index('date', inplace=False)\n",
    "    panel_df.sort_index(inplace=True)\n",
    "    \n",
    "    return panel_df "
   ]
  },
  {
   "cell_type": "code",
   "execution_count": null,
   "id": "3c59a7b0",
   "metadata": {},
   "outputs": [],
   "source": [
    "returns_df = get_panel_df(fn1_df, '수익률(%)')\n",
    "returns_df.head()"
   ]
  },
  {
   "cell_type": "code",
   "execution_count": null,
   "id": "cc9a38f7",
   "metadata": {},
   "outputs": [],
   "source": [
    "get_panel_df(fn1_df, '수익률 (1개월)(%)').head() # 이걸 쓰는 것이 맞아보임. 위의 수익률은 일별 수익률인데 그냥 마지막날에 맞춘 것일 가능성이 높아보인다. "
   ]
  },
  {
   "cell_type": "code",
   "execution_count": null,
   "id": "d6ed4bcb",
   "metadata": {},
   "outputs": [],
   "source": [
    "returns_df.shape"
   ]
  },
  {
   "cell_type": "code",
   "execution_count": null,
   "id": "4e3cb2b8",
   "metadata": {},
   "outputs": [],
   "source": [
    "returns_df.dropna(axis=1, how='all').shape \n",
    "\n",
    "# DataGuide에서 데이터 뽑아올 때, 비영업일 제외로 선택하면 월말일이 주말/공휴일일 경우 데이터가 누락됨. "
   ]
  },
  {
   "cell_type": "code",
   "execution_count": null,
   "id": "9cfabd84",
   "metadata": {},
   "outputs": [],
   "source": [
    "returns_df.index"
   ]
  },
  {
   "cell_type": "code",
   "execution_count": null,
   "id": "7da47c63",
   "metadata": {},
   "outputs": [],
   "source": [
    "nans = returns_df.isnull().all()\n",
    "nan_tickers = nans[nans].index.tolist()\n",
    "\n",
    "[ symbol_to_name[ticker] for ticker in nan_tickers ] # 모든 값이 NaN인 종목들. 즉, 현재 존재하지 않는 종목들."
   ]
  },
  {
   "cell_type": "code",
   "execution_count": null,
   "id": "5f753f21",
   "metadata": {},
   "outputs": [],
   "source": [
    "returns_df.dropna(axis=1, how='all', inplace=True)\n",
    "\n",
    "univ_list = returns_df.columns"
   ]
  },
  {
   "cell_type": "code",
   "execution_count": null,
   "id": "490622e6",
   "metadata": {},
   "outputs": [],
   "source": [
    "univ_list"
   ]
  },
  {
   "cell_type": "code",
   "execution_count": null,
   "id": "bf8efc60",
   "metadata": {},
   "outputs": [],
   "source": [
    "def filter_univ(univ_list, panel_df, is_copy=True):\n",
    "    if is_copy:\n",
    "        return panel_df[univ_list].copy()\n",
    "    else:\n",
    "        return panel_df[univ_list]"
   ]
  },
  {
   "cell_type": "markdown",
   "id": "8965dfc9",
   "metadata": {},
   "source": [
    "## 데이터셋 생성"
   ]
  },
  {
   "cell_type": "code",
   "execution_count": null,
   "id": "1a998346",
   "metadata": {},
   "outputs": [],
   "source": [
    "items"
   ]
  },
  {
   "cell_type": "markdown",
   "id": "0c85ae1a",
   "metadata": {},
   "source": [
    "#### 그룹"
   ]
  },
  {
   "cell_type": "code",
   "execution_count": null,
   "id": "45181fdc",
   "metadata": {},
   "outputs": [],
   "source": [
    "# WICS Groups\n",
    "\n",
    "sector_df = filter_univ(univ_list, get_panel_df(fn1_df, 'FnGuide Sector') )\n",
    "industry_group_df = filter_univ(univ_list, get_panel_df(fn1_df, 'FnGuide Industry Group') )\n",
    "industry_df = filter_univ(univ_list, get_panel_df(fn1_df, 'FnGuide Industry') )"
   ]
  },
  {
   "cell_type": "code",
   "execution_count": null,
   "id": "11065d84",
   "metadata": {},
   "outputs": [],
   "source": [
    "sector_df.head()"
   ]
  },
  {
   "cell_type": "markdown",
   "id": "03438f3e",
   "metadata": {},
   "source": [
    "### 시장"
   ]
  },
  {
   "cell_type": "code",
   "execution_count": null,
   "id": "9d7d4904",
   "metadata": {},
   "outputs": [],
   "source": [
    "close_df = filter_univ(univ_list, get_panel_df(fn1_df, '종가(원)') ) \n",
    "adjclose_df = filter_univ(univ_list, get_panel_df(fn1_df, '수정주가(원)') )\n",
    "adjfactor_df = filter_univ(univ_list, get_panel_df(fn1_df, '수정계수') )\n",
    "monthly_returns_df = filter_univ(univ_list, get_panel_df(fn1_df, '수익률 (1개월)(%)') ) # 수익률은 %로 되어있어 /100 해줘야 함.\n",
    "\n",
    "all_mkt_cap_df = filter_univ(univ_list, get_panel_df(fn1_df, '시가총액 (상장예정주식수 포함)(백만원)') )\n",
    "common_mkt_cap_df = filter_univ(univ_list, get_panel_df(fn1_df, '시가총액 (보통-상장예정주식수 포함)(백만원)') )\n",
    "common_shares_outstanding_df = filter_univ(univ_list, get_panel_df(fn1_df, '기말발행주식수 (보통)(주)') )\n",
    "\n",
    "is_under_supervision_df = filter_univ(univ_list, get_panel_df(fn1_df, '관리종목여부') )\n",
    "is_trading_halt_df = filter_univ(univ_list, get_panel_df(fn1_df, '거래정지여부') )"
   ]
  },
  {
   "cell_type": "code",
   "execution_count": null,
   "id": "684813d5",
   "metadata": {},
   "outputs": [],
   "source": [
    "adjclose_df.head()"
   ]
  },
  {
   "cell_type": "markdown",
   "id": "ba2efc2c",
   "metadata": {},
   "source": [
    "#### 재무"
   ]
  },
  {
   "cell_type": "code",
   "execution_count": null,
   "id": "0b54a56c",
   "metadata": {},
   "outputs": [],
   "source": [
    "common_stock_df = filter_univ(univ_list, get_panel_df(fn1_df, '보통주자본금(천원)') )\n",
    "capital_surplus_df = filter_univ(univ_list, get_panel_df(fn1_df, '자본잉여금(천원)') )\n",
    "retained_earnings_df = filter_univ(univ_list, get_panel_df(fn1_df, '이익잉여금(천원)') )\n",
    "treasury_stock_df = filter_univ(univ_list, get_panel_df(fn1_df, '자기주식(천원)') )\n",
    "deferred_tax_liabilities_df = filter_univ(univ_list, get_panel_df(fn1_df, '이연법인세부채(천원)') )\n",
    "sales_revenue_df = filter_univ(univ_list, get_panel_df(fn1_df, '매출액(천원)') )\n",
    "cost_of_goods_sold_df = filter_univ(univ_list, get_panel_df(fn1_df, '매출원가(천원)') )\n",
    "interest_expense_df = filter_univ(univ_list, get_panel_df(fn1_df, '이자비용(천원)') )\n",
    "operating_profit_df = filter_univ(univ_list, get_panel_df(fn1_df, '영업이익(천원)') )\n",
    "total_assets_df = filter_univ(univ_list, get_panel_df(fn1_df, '총자산(천원)') )"
   ]
  },
  {
   "cell_type": "code",
   "execution_count": null,
   "id": "db48f746",
   "metadata": {},
   "outputs": [],
   "source": [
    "total_assets_df.head()"
   ]
  },
  {
   "cell_type": "markdown",
   "id": "84b33425",
   "metadata": {},
   "source": [
    "## 데이터셋 추가 전처리"
   ]
  },
  {
   "cell_type": "code",
   "execution_count": null,
   "id": "6872d59b",
   "metadata": {},
   "outputs": [],
   "source": [
    "numeric_data = [\n",
    "    close_df, adjclose_df, adjfactor_df, monthly_returns_df, all_mkt_cap_df, common_mkt_cap_df, common_shares_outstanding_df,\n",
    "    common_stock_df, capital_surplus_df, retained_earnings_df, treasury_stock_df, deferred_tax_liabilities_df,\n",
    "    sales_revenue_df, cost_of_goods_sold_df, interest_expense_df, operating_profit_df, total_assets_df\n",
    "]"
   ]
  },
  {
   "cell_type": "code",
   "execution_count": null,
   "id": "793105ef",
   "metadata": {
    "lines_to_next_cell": 2
   },
   "outputs": [],
   "source": [
    "for df in numeric_data:\n",
    "    obj_cols = df.select_dtypes('object').columns\n",
    "    df[obj_cols] = df[obj_cols].apply(pd.to_numeric, errors='coerce')"
   ]
  },
  {
   "cell_type": "code",
   "execution_count": null,
   "id": "32053b76",
   "metadata": {},
   "outputs": [],
   "source": [
    "monthly_returns_df = monthly_returns_df / 100"
   ]
  },
  {
   "cell_type": "code",
   "execution_count": null,
   "id": "f068790b",
   "metadata": {},
   "outputs": [],
   "source": [
    "is_under_supervision_mapping = {\n",
    "    '정상': 1,\n",
    "    '관리': 0,\n",
    "}"
   ]
  },
  {
   "cell_type": "code",
   "execution_count": null,
   "id": "1d888950",
   "metadata": {},
   "outputs": [],
   "source": [
    "is_trading_halt_mapping = {\n",
    "    '정상': 1,\n",
    "    '정지': 0,\n",
    "}"
   ]
  },
  {
   "cell_type": "code",
   "execution_count": null,
   "id": "03f0b591",
   "metadata": {},
   "outputs": [],
   "source": [
    "is_under_supervision_df = is_under_supervision_df.replace(is_under_supervision_mapping)"
   ]
  },
  {
   "cell_type": "code",
   "execution_count": null,
   "id": "6d65a11f",
   "metadata": {},
   "outputs": [],
   "source": [
    "is_trading_halt_df = is_trading_halt_df.replace(is_trading_halt_mapping)"
   ]
  },
  {
   "cell_type": "code",
   "execution_count": null,
   "id": "90832cf0",
   "metadata": {},
   "outputs": [],
   "source": []
  }
 ],
 "metadata": {
  "kernelspec": {
   "display_name": ".venv",
   "language": "python",
   "name": "python3"
  }
 },
 "nbformat": 4,
 "nbformat_minor": 5
}
