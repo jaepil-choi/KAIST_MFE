{
  "cells": [
    {
      "cell_type": "code",
      "execution_count": null,
      "metadata": {
        "colab": {
          "base_uri": "https://localhost:8080/"
        },
        "id": "lfUtAoQ0n66T",
        "outputId": "5e092793-c980-4f58-e7d0-d9b09e27ad11"
      },
      "outputs": [
        {
          "name": "stdout",
          "output_type": "stream",
          "text": [
            "Collecting python-dotenv\n",
            "  Downloading python_dotenv-1.0.1-py3-none-any.whl (19 kB)\n",
            "Installing collected packages: python-dotenv\n",
            "Successfully installed python-dotenv-1.0.1\n"
          ]
        }
      ],
      "source": [
        "pip install python-dotenv"
      ]
    },
    {
      "cell_type": "code",
      "execution_count": null,
      "metadata": {
        "id": "YpbF9bbNeJu_"
      },
      "outputs": [],
      "source": [
        "# import os\n",
        "# from dotenv import load_dotenv, find_dotenv\n",
        "# _= load_dotenv(find_dotenv())\n",
        "\n",
        "# ap =os.getenv(\"MY_VAR\")\n"
      ]
    },
    {
      "cell_type": "code",
      "execution_count": null,
      "metadata": {
        "id": "4l9Clt5rqb7A"
      },
      "outputs": [],
      "source": [
        "# !pip install langchain\n",
        "# !pip install openai"
      ]
    },
    {
      "cell_type": "code",
      "execution_count": null,
      "metadata": {
        "colab": {
          "base_uri": "https://localhost:8080/"
        },
        "id": "s-ImCydtuahh",
        "outputId": "c4806843-df10-4624-b15c-d2655cb3da34"
      },
      "outputs": [
        {
          "name": "stdout",
          "output_type": "stream",
          "text": [
            "Requirement already satisfied: langchain-openai in /usr/local/lib/python3.10/dist-packages (0.0.8)\n",
            "Requirement already satisfied: langchain-core<0.2.0,>=0.1.27 in /usr/local/lib/python3.10/dist-packages (from langchain-openai) (0.1.27)\n",
            "Requirement already satisfied: openai<2.0.0,>=1.10.0 in /usr/local/lib/python3.10/dist-packages (from langchain-openai) (1.13.3)\n",
            "Requirement already satisfied: tiktoken<1,>=0.5.2 in /usr/local/lib/python3.10/dist-packages (from langchain-openai) (0.6.0)\n",
            "Requirement already satisfied: PyYAML>=5.3 in /usr/local/lib/python3.10/dist-packages (from langchain-core<0.2.0,>=0.1.27->langchain-openai) (6.0.1)\n",
            "Requirement already satisfied: anyio<5,>=3 in /usr/local/lib/python3.10/dist-packages (from langchain-core<0.2.0,>=0.1.27->langchain-openai) (3.7.1)\n",
            "Requirement already satisfied: jsonpatch<2.0,>=1.33 in /usr/local/lib/python3.10/dist-packages (from langchain-core<0.2.0,>=0.1.27->langchain-openai) (1.33)\n",
            "Requirement already satisfied: langsmith<0.2.0,>=0.1.0 in /usr/local/lib/python3.10/dist-packages (from langchain-core<0.2.0,>=0.1.27->langchain-openai) (0.1.10)\n",
            "Requirement already satisfied: packaging<24.0,>=23.2 in /usr/local/lib/python3.10/dist-packages (from langchain-core<0.2.0,>=0.1.27->langchain-openai) (23.2)\n",
            "Requirement already satisfied: pydantic<3,>=1 in /usr/local/lib/python3.10/dist-packages (from langchain-core<0.2.0,>=0.1.27->langchain-openai) (2.6.1)\n",
            "Requirement already satisfied: requests<3,>=2 in /usr/local/lib/python3.10/dist-packages (from langchain-core<0.2.0,>=0.1.27->langchain-openai) (2.31.0)\n",
            "Requirement already satisfied: tenacity<9.0.0,>=8.1.0 in /usr/local/lib/python3.10/dist-packages (from langchain-core<0.2.0,>=0.1.27->langchain-openai) (8.2.3)\n",
            "Requirement already satisfied: distro<2,>=1.7.0 in /usr/lib/python3/dist-packages (from openai<2.0.0,>=1.10.0->langchain-openai) (1.7.0)\n",
            "Requirement already satisfied: httpx<1,>=0.23.0 in /usr/local/lib/python3.10/dist-packages (from openai<2.0.0,>=1.10.0->langchain-openai) (0.27.0)\n",
            "Requirement already satisfied: sniffio in /usr/local/lib/python3.10/dist-packages (from openai<2.0.0,>=1.10.0->langchain-openai) (1.3.0)\n",
            "Requirement already satisfied: tqdm>4 in /usr/local/lib/python3.10/dist-packages (from openai<2.0.0,>=1.10.0->langchain-openai) (4.66.2)\n",
            "Requirement already satisfied: typing-extensions<5,>=4.7 in /usr/local/lib/python3.10/dist-packages (from openai<2.0.0,>=1.10.0->langchain-openai) (4.9.0)\n",
            "Requirement already satisfied: regex>=2022.1.18 in /usr/local/lib/python3.10/dist-packages (from tiktoken<1,>=0.5.2->langchain-openai) (2023.12.25)\n",
            "Requirement already satisfied: idna>=2.8 in /usr/local/lib/python3.10/dist-packages (from anyio<5,>=3->langchain-core<0.2.0,>=0.1.27->langchain-openai) (3.6)\n",
            "Requirement already satisfied: exceptiongroup in /usr/local/lib/python3.10/dist-packages (from anyio<5,>=3->langchain-core<0.2.0,>=0.1.27->langchain-openai) (1.2.0)\n",
            "Requirement already satisfied: certifi in /usr/local/lib/python3.10/dist-packages (from httpx<1,>=0.23.0->openai<2.0.0,>=1.10.0->langchain-openai) (2024.2.2)\n",
            "Requirement already satisfied: httpcore==1.* in /usr/local/lib/python3.10/dist-packages (from httpx<1,>=0.23.0->openai<2.0.0,>=1.10.0->langchain-openai) (1.0.4)\n",
            "Requirement already satisfied: h11<0.15,>=0.13 in /usr/local/lib/python3.10/dist-packages (from httpcore==1.*->httpx<1,>=0.23.0->openai<2.0.0,>=1.10.0->langchain-openai) (0.14.0)\n",
            "Requirement already satisfied: jsonpointer>=1.9 in /usr/local/lib/python3.10/dist-packages (from jsonpatch<2.0,>=1.33->langchain-core<0.2.0,>=0.1.27->langchain-openai) (2.4)\n",
            "Requirement already satisfied: orjson<4.0.0,>=3.9.14 in /usr/local/lib/python3.10/dist-packages (from langsmith<0.2.0,>=0.1.0->langchain-core<0.2.0,>=0.1.27->langchain-openai) (3.9.15)\n",
            "Requirement already satisfied: annotated-types>=0.4.0 in /usr/local/lib/python3.10/dist-packages (from pydantic<3,>=1->langchain-core<0.2.0,>=0.1.27->langchain-openai) (0.6.0)\n",
            "Requirement already satisfied: pydantic-core==2.16.2 in /usr/local/lib/python3.10/dist-packages (from pydantic<3,>=1->langchain-core<0.2.0,>=0.1.27->langchain-openai) (2.16.2)\n",
            "Requirement already satisfied: charset-normalizer<4,>=2 in /usr/local/lib/python3.10/dist-packages (from requests<3,>=2->langchain-core<0.2.0,>=0.1.27->langchain-openai) (3.3.2)\n",
            "Requirement already satisfied: urllib3<3,>=1.21.1 in /usr/local/lib/python3.10/dist-packages (from requests<3,>=2->langchain-core<0.2.0,>=0.1.27->langchain-openai) (2.0.7)\n",
            "Collecting langchain\n",
            "  Downloading langchain-0.1.9-py3-none-any.whl (816 kB)\n",
            "\u001b[2K     \u001b[90m━━━━━━━━━━━━━━━━━━━━━━━━━━━━━━━━━━━━━━━━\u001b[0m \u001b[32m817.0/817.0 kB\u001b[0m \u001b[31m12.3 MB/s\u001b[0m eta \u001b[36m0:00:00\u001b[0m\n",
            "\u001b[?25hRequirement already satisfied: PyYAML>=5.3 in /usr/local/lib/python3.10/dist-packages (from langchain) (6.0.1)\n",
            "Requirement already satisfied: SQLAlchemy<3,>=1.4 in /usr/local/lib/python3.10/dist-packages (from langchain) (2.0.27)\n",
            "Requirement already satisfied: aiohttp<4.0.0,>=3.8.3 in /usr/local/lib/python3.10/dist-packages (from langchain) (3.9.3)\n",
            "Requirement already satisfied: async-timeout<5.0.0,>=4.0.0 in /usr/local/lib/python3.10/dist-packages (from langchain) (4.0.3)\n",
            "Collecting dataclasses-json<0.7,>=0.5.7 (from langchain)\n",
            "  Downloading dataclasses_json-0.6.4-py3-none-any.whl (28 kB)\n",
            "Requirement already satisfied: jsonpatch<2.0,>=1.33 in /usr/local/lib/python3.10/dist-packages (from langchain) (1.33)\n",
            "Collecting langchain-community<0.1,>=0.0.21 (from langchain)\n",
            "  Downloading langchain_community-0.0.24-py3-none-any.whl (1.7 MB)\n",
            "\u001b[2K     \u001b[90m━━━━━━━━━━━━━━━━━━━━━━━━━━━━━━━━━━━━━━━━\u001b[0m \u001b[32m1.7/1.7 MB\u001b[0m \u001b[31m18.4 MB/s\u001b[0m eta \u001b[36m0:00:00\u001b[0m\n",
            "\u001b[?25hRequirement already satisfied: langchain-core<0.2,>=0.1.26 in /usr/local/lib/python3.10/dist-packages (from langchain) (0.1.27)\n",
            "Requirement already satisfied: langsmith<0.2.0,>=0.1.0 in /usr/local/lib/python3.10/dist-packages (from langchain) (0.1.10)\n",
            "Requirement already satisfied: numpy<2,>=1 in /usr/local/lib/python3.10/dist-packages (from langchain) (1.25.2)\n",
            "Requirement already satisfied: pydantic<3,>=1 in /usr/local/lib/python3.10/dist-packages (from langchain) (2.6.1)\n",
            "Requirement already satisfied: requests<3,>=2 in /usr/local/lib/python3.10/dist-packages (from langchain) (2.31.0)\n",
            "Requirement already satisfied: tenacity<9.0.0,>=8.1.0 in /usr/local/lib/python3.10/dist-packages (from langchain) (8.2.3)\n",
            "Requirement already satisfied: aiosignal>=1.1.2 in /usr/local/lib/python3.10/dist-packages (from aiohttp<4.0.0,>=3.8.3->langchain) (1.3.1)\n",
            "Requirement already satisfied: attrs>=17.3.0 in /usr/local/lib/python3.10/dist-packages (from aiohttp<4.0.0,>=3.8.3->langchain) (23.2.0)\n",
            "Requirement already satisfied: frozenlist>=1.1.1 in /usr/local/lib/python3.10/dist-packages (from aiohttp<4.0.0,>=3.8.3->langchain) (1.4.1)\n",
            "Requirement already satisfied: multidict<7.0,>=4.5 in /usr/local/lib/python3.10/dist-packages (from aiohttp<4.0.0,>=3.8.3->langchain) (6.0.5)\n",
            "Requirement already satisfied: yarl<2.0,>=1.0 in /usr/local/lib/python3.10/dist-packages (from aiohttp<4.0.0,>=3.8.3->langchain) (1.9.4)\n",
            "Collecting marshmallow<4.0.0,>=3.18.0 (from dataclasses-json<0.7,>=0.5.7->langchain)\n",
            "  Downloading marshmallow-3.21.0-py3-none-any.whl (49 kB)\n",
            "\u001b[2K     \u001b[90m━━━━━━━━━━━━━━━━━━━━━━━━━━━━━━━━━━━━━━━━\u001b[0m \u001b[32m49.4/49.4 kB\u001b[0m \u001b[31m7.0 MB/s\u001b[0m eta \u001b[36m0:00:00\u001b[0m\n",
            "\u001b[?25hCollecting typing-inspect<1,>=0.4.0 (from dataclasses-json<0.7,>=0.5.7->langchain)\n",
            "  Downloading typing_inspect-0.9.0-py3-none-any.whl (8.8 kB)\n",
            "Requirement already satisfied: jsonpointer>=1.9 in /usr/local/lib/python3.10/dist-packages (from jsonpatch<2.0,>=1.33->langchain) (2.4)\n",
            "Requirement already satisfied: anyio<5,>=3 in /usr/local/lib/python3.10/dist-packages (from langchain-core<0.2,>=0.1.26->langchain) (3.7.1)\n",
            "Requirement already satisfied: packaging<24.0,>=23.2 in /usr/local/lib/python3.10/dist-packages (from langchain-core<0.2,>=0.1.26->langchain) (23.2)\n",
            "Requirement already satisfied: orjson<4.0.0,>=3.9.14 in /usr/local/lib/python3.10/dist-packages (from langsmith<0.2.0,>=0.1.0->langchain) (3.9.15)\n",
            "Requirement already satisfied: annotated-types>=0.4.0 in /usr/local/lib/python3.10/dist-packages (from pydantic<3,>=1->langchain) (0.6.0)\n",
            "Requirement already satisfied: pydantic-core==2.16.2 in /usr/local/lib/python3.10/dist-packages (from pydantic<3,>=1->langchain) (2.16.2)\n",
            "Requirement already satisfied: typing-extensions>=4.6.1 in /usr/local/lib/python3.10/dist-packages (from pydantic<3,>=1->langchain) (4.9.0)\n",
            "Requirement already satisfied: charset-normalizer<4,>=2 in /usr/local/lib/python3.10/dist-packages (from requests<3,>=2->langchain) (3.3.2)\n",
            "Requirement already satisfied: idna<4,>=2.5 in /usr/local/lib/python3.10/dist-packages (from requests<3,>=2->langchain) (3.6)\n",
            "Requirement already satisfied: urllib3<3,>=1.21.1 in /usr/local/lib/python3.10/dist-packages (from requests<3,>=2->langchain) (2.0.7)\n",
            "Requirement already satisfied: certifi>=2017.4.17 in /usr/local/lib/python3.10/dist-packages (from requests<3,>=2->langchain) (2024.2.2)\n",
            "Requirement already satisfied: greenlet!=0.4.17 in /usr/local/lib/python3.10/dist-packages (from SQLAlchemy<3,>=1.4->langchain) (3.0.3)\n",
            "Requirement already satisfied: sniffio>=1.1 in /usr/local/lib/python3.10/dist-packages (from anyio<5,>=3->langchain-core<0.2,>=0.1.26->langchain) (1.3.0)\n",
            "Requirement already satisfied: exceptiongroup in /usr/local/lib/python3.10/dist-packages (from anyio<5,>=3->langchain-core<0.2,>=0.1.26->langchain) (1.2.0)\n",
            "Collecting mypy-extensions>=0.3.0 (from typing-inspect<1,>=0.4.0->dataclasses-json<0.7,>=0.5.7->langchain)\n",
            "  Downloading mypy_extensions-1.0.0-py3-none-any.whl (4.7 kB)\n",
            "Installing collected packages: mypy-extensions, marshmallow, typing-inspect, dataclasses-json, langchain-community, langchain\n",
            "Successfully installed dataclasses-json-0.6.4 langchain-0.1.9 langchain-community-0.0.24 marshmallow-3.21.0 mypy-extensions-1.0.0 typing-inspect-0.9.0\n"
          ]
        }
      ],
      "source": [
        "!pip install -U langchain-openai\n",
        "!pip install langchain\n"
      ]
    },
    {
      "cell_type": "code",
      "execution_count": null,
      "metadata": {
        "id": "E68TvgAvqi9c"
      },
      "outputs": [],
      "source": [
        "# prompt: 어떻게 api_key를 넣는가?\n",
        "import os\n",
        "from langchain_openai import ChatOpenAI\n",
        "from dotenv import load_dotenv, find_dotenv\n",
        "\n",
        "# Load the environment variables from the .env file\n",
        "load_dotenv(find_dotenv())\n",
        "\n",
        "# Get the OpenAI API key from the environment variables\n",
        "api_key = os.getenv(\"OPENAI_API_KEY\")"
      ]
    },
    {
      "cell_type": "code",
      "execution_count": null,
      "metadata": {},
      "outputs": [],
      "source": [
        "api_key = 'YOUR API KEY'"
      ]
    },
    {
      "cell_type": "code",
      "execution_count": null,
      "metadata": {
        "id": "fqnH_TF0rF3d"
      },
      "outputs": [],
      "source": [
        "chat=ChatOpenAI(temperature=0,\n",
        "                openai_api_key=api_key,\n",
        "                )"
      ]
    },
    {
      "cell_type": "markdown",
      "metadata": {
        "id": "O5da_Wwf7ZVL"
      },
      "source": [
        "Custom Tools"
      ]
    },
    {
      "cell_type": "code",
      "execution_count": null,
      "metadata": {
        "colab": {
          "base_uri": "https://localhost:8080/"
        },
        "id": "PXQaXdH2uDrb",
        "outputId": "2be44e7e-de17-4687-b98a-8bd9215d4df5"
      },
      "outputs": [
        {
          "name": "stdout",
          "output_type": "stream",
          "text": [
            "{'question': \"What are Tesla's revenue in 2022?\", 'text': 'As of now, Tesla has not released its revenue figures for 2022. The company typically releases its financial results on a quarterly basis, so we will have to wait for their official announcements to know their revenue for 2022.'}\n"
          ]
        }
      ],
      "source": [
        "from langchain.prompts import ChatPromptTemplate\n",
        "from langchain.chains import LLMChain\n",
        "\n",
        "template = \"\"\"Question: {question}\n",
        "Answer:\n",
        "\"\"\"\n",
        "prompt = ChatPromptTemplate.from_template(template)\n",
        "\n",
        "llm_chain = LLMChain(\n",
        "    prompt = prompt,\n",
        "    llm = chat\n",
        ")\n",
        "\n",
        "print(llm_chain.invoke(\"What are Tesla's revenue in 2022?\"))"
      ]
    },
    {
      "cell_type": "code",
      "execution_count": null,
      "metadata": {},
      "outputs": [],
      "source": [
        "!pip install langchain-community # Install the langchain_community package"
      ]
    },
    {
      "cell_type": "code",
      "execution_count": null,
      "metadata": {
        "colab": {
          "base_uri": "https://localhost:8080/"
        },
        "id": "yaHvvdUt5q2u",
        "outputId": "12a92cd5-0d21-446f-edf5-31bc977e67fd"
      },
      "outputs": [
        {
          "name": "stdout",
          "output_type": "stream",
          "text": [
            "Collecting duckduckgo-search\n",
            "  Downloading duckduckgo_search-4.5.0-py3-none-any.whl (20 kB)\n",
            "Requirement already satisfied: click>=8.1.7 in /usr/local/lib/python3.10/dist-packages (from duckduckgo-search) (8.1.7)\n",
            "Collecting curl-cffi>=0.6.1 (from duckduckgo-search)\n",
            "  Downloading curl_cffi-0.6.1-cp38-abi3-manylinux_2_17_x86_64.manylinux2014_x86_64.whl (5.7 MB)\n",
            "\u001b[2K     \u001b[90m━━━━━━━━━━━━━━━━━━━━━━━━━━━━━━━━━━━━━━━━\u001b[0m \u001b[32m5.7/5.7 MB\u001b[0m \u001b[31m19.5 MB/s\u001b[0m eta \u001b[36m0:00:00\u001b[0m\n",
            "\u001b[?25hCollecting lxml>=5.1.0 (from duckduckgo-search)\n",
            "  Downloading lxml-5.1.0-cp310-cp310-manylinux_2_17_x86_64.manylinux2014_x86_64.whl (8.0 MB)\n",
            "\u001b[2K     \u001b[90m━━━━━━━━━━━━━━━━━━━━━━━━━━━━━━━━━━━━━━━━\u001b[0m \u001b[32m8.0/8.0 MB\u001b[0m \u001b[31m51.8 MB/s\u001b[0m eta \u001b[36m0:00:00\u001b[0m\n",
            "\u001b[?25hRequirement already satisfied: cffi>=1.12.0 in /usr/local/lib/python3.10/dist-packages (from curl-cffi>=0.6.1->duckduckgo-search) (1.16.0)\n",
            "Requirement already satisfied: certifi in /usr/local/lib/python3.10/dist-packages (from curl-cffi>=0.6.1->duckduckgo-search) (2024.2.2)\n",
            "Requirement already satisfied: pycparser in /usr/local/lib/python3.10/dist-packages (from cffi>=1.12.0->curl-cffi>=0.6.1->duckduckgo-search) (2.21)\n",
            "Installing collected packages: lxml, curl-cffi, duckduckgo-search\n",
            "  Attempting uninstall: lxml\n",
            "    Found existing installation: lxml 4.9.4\n",
            "    Uninstalling lxml-4.9.4:\n",
            "      Successfully uninstalled lxml-4.9.4\n",
            "Successfully installed curl-cffi-0.6.1 duckduckgo-search-4.5.0 lxml-5.1.0\n"
          ]
        }
      ],
      "source": [
        "!pip install duckduckgo-search"
      ]
    },
    {
      "cell_type": "code",
      "execution_count": null,
      "metadata": {
        "colab": {
          "base_uri": "https://localhost:8080/",
          "height": 105
        },
        "id": "DagiNO4l5qyt",
        "outputId": "b805bfe7-094d-409d-823b-ece1d5524392"
      },
      "outputs": [
        {
          "data": {
            "application/vnd.google.colaboratory.intrinsic+json": {
              "type": "string"
            },
            "text/plain": [
              "\"The History of Tesla's Stock Price by Markets Insider Tesla launched its IPO on June 29, 2010. Trading on the NASDAQ, Tesla offered 13.3 million shares at a price of $17 per share. See the latest Tesla Inc stock price (NASDAQ:TSLA), related news, valuation, dividends and more to help you make your investing decisions. View Tesla, Inc. TSLA stock quote prices, financial information, real-time forecasts, and company news from CNN. Get a real-time Tesla, Inc. (TSLA) stock price quote with breaking news, financials, statistics, charts and more. 35 Wall Street research analysts have issued 1 year target prices for Tesla's shares. Their TSLA share price targets range from $85.00 to $380.00. On average, they anticipate the company's stock price to reach $219.89 in the next twelve months. This suggests a possible upside of 10.1% from the stock's current price.\""
            ]
          },
          "execution_count": 13,
          "metadata": {},
          "output_type": "execute_result"
        }
      ],
      "source": [
        "from langchain.tools import DuckDuckGoSearchRun\n",
        "\n",
        "search = DuckDuckGoSearchRun()\n",
        "search.invoke(\"Tesla stock price?\")"
      ]
    },
    {
      "cell_type": "code",
      "execution_count": null,
      "metadata": {
        "id": "SqEx-nYc5qvE"
      },
      "outputs": [],
      "source": [
        "from langchain.tools import Tool\n",
        "\n",
        "duckduckgo_tool = Tool(\n",
        "    name = 'DuckDuckGo Search',\n",
        "    func = search.run,\n",
        "    description = \"Useful for when you need to do a search on the internet to find information that another tool can't find. be specific with your input.\"\n",
        ")"
      ]
    },
    {
      "cell_type": "code",
      "execution_count": null,
      "metadata": {
        "colab": {
          "base_uri": "https://localhost:8080/"
        },
        "id": "l4NFw9DU5qrJ",
        "outputId": "5aedfb97-2d87-47ae-e28d-dd8b9e1e3045"
      },
      "outputs": [
        {
          "name": "stderr",
          "output_type": "stream",
          "text": [
            "/usr/local/lib/python3.10/dist-packages/langchain_core/_api/deprecation.py:117: LangChainDeprecationWarning: The function `initialize_agent` was deprecated in LangChain 0.1.0 and will be removed in 0.2.0. Use Use new agent constructor methods like create_react_agent, create_json_agent, create_structured_chat_agent, etc. instead.\n",
            "  warn_deprecated(\n"
          ]
        }
      ],
      "source": [
        "from langchain.agents import AgentType\n",
        "from langchain.agents import load_tools, initialize_agent\n",
        "\n",
        "tools = [duckduckgo_tool]\n",
        "\n",
        "agent = initialize_agent(\n",
        "    tools,\n",
        "    chat,\n",
        "    agent = AgentType.CHAT_ZERO_SHOT_REACT_DESCRIPTION,\n",
        "    handle_parsing_errors = True,\n",
        "    verbose = True\n",
        ")"
      ]
    },
    {
      "cell_type": "code",
      "execution_count": null,
      "metadata": {
        "colab": {
          "base_uri": "https://localhost:8080/",
          "height": 333
        },
        "id": "IaczkNHy5qj6",
        "outputId": "458dbdba-515b-44f5-acf0-a6ee2c70a6e4"
      },
      "outputs": [
        {
          "name": "stdout",
          "output_type": "stream",
          "text": [
            "\n",
            "\n",
            "\u001b[1m> Entering new AgentExecutor chain...\u001b[0m\n",
            "\u001b[32;1m\u001b[1;3mThought: I should search for Tesla's revenue in 2022 to find the most up-to-date information.\n",
            "Action:\n",
            "```\n",
            "{\n",
            "  \"action\": \"DuckDuckGo Search\",\n",
            "  \"action_input\": \"Tesla revenue 2022\"\n",
            "}\n",
            "```\n",
            "\u001b[0m\n",
            "Observation: \u001b[36;1m\u001b[1;3mTesla's revenue from fiscal year 2008 to fiscal year 2022, based on Statista's data. The electric vehicle maker's revenue growth was driven by the Model 3 and Model Y, and its spending on production and sales in China. Another major source of revenue for Tesla is the sale of regulatory credits to other automotive manufacturers, which brought in $1.8 billion in revenues in 2022. Tesla earns tradable credits under ... Fiscal year is January - December. Source: Financials are provided by Nasdaq Data Link and sourced from the audited annual ( 10-K) and quarterly ( 10-Q) reports submitted to the Securities and Exchange Commission (SEC). Detailed annual and quarterly income statement for Tesla, Inc. (TSLA). See many years of revenue, expenses and profits or losses. In 2022, Tesla generated $81.46 billion in annual revenue. That's an increase of 51.35% compared to 2021. In the first nine months of 2023, Tesla's revenue is already $71.6 billion. We've charted the growth in Tesla's annual revenue since 2008: Note: Data for 2023 is incomplete and includes only Q1-Q3 revenue. Year. Though most of Tesla revenue comes from EV sales, revenues also come from paid use of Superchargers, ... Anticipation was high for the January call, where Q4 2022 earnings were reported.\u001b[0m\n",
            "Thought:\u001b[32;1m\u001b[1;3mFinal Answer: Tesla's revenue in 2022 was $81.46 billion.\u001b[0m\n",
            "\n",
            "\u001b[1m> Finished chain.\u001b[0m\n"
          ]
        },
        {
          "data": {
            "application/vnd.google.colaboratory.intrinsic+json": {
              "type": "string"
            },
            "text/plain": [
              "\"Tesla's revenue in 2022 was $81.46 billion.\""
            ]
          },
          "execution_count": 22,
          "metadata": {},
          "output_type": "execute_result"
        }
      ],
      "source": [
        "agent.run(\"What are Tesla's revenue in 2022?\")"
      ]
    },
    {
      "cell_type": "markdown",
      "metadata": {
        "id": "1vxjbDMp-jE_"
      },
      "source": [
        "ChatGPT as a Financial Information Extractor"
      ]
    },
    {
      "cell_type": "code",
      "execution_count": null,
      "metadata": {
        "id": "Xe7xmrIE-iSs"
      },
      "outputs": [],
      "source": [
        "from langchain.prompts import ChatPromptTemplate\n",
        "from langchain.chains import LLMChain\n",
        "\n",
        "extraction_template = \"\"\"Your task:\\n\\\n",
        "Find the value of revenue in the given content.\\n\\\n",
        "If you can't find the value, please output \"None\".\\n\\\n",
        "\n",
        "Example 1:\\n\\\n",
        "The amount of Apple's annual revenue in 2021 was $365.817B.\n",
        "Result: 365.817\n",
        "\n",
        "Given content: {text}\n",
        "Result:\n",
        "\"\"\"\n",
        "extraction_prompt = ChatPromptTemplate.from_template(extraction_template)\n",
        "\n",
        "extraction_chain = LLMChain(\n",
        "    prompt = extraction_prompt,\n",
        "    llm = chat\n",
        ")"
      ]
    },
    {
      "cell_type": "code",
      "execution_count": null,
      "metadata": {
        "colab": {
          "base_uri": "https://localhost:8080/",
          "height": 784
        },
        "id": "LvUXJJJG-iMe",
        "outputId": "2a91bdaf-1f5d-49d5-a0fc-a9ddb09fb911"
      },
      "outputs": [
        {
          "name": "stdout",
          "output_type": "stream",
          "text": [
            "\n",
            "\n",
            "\u001b[1m> Entering new SimpleSequentialChain chain...\u001b[0m\n",
            "\n",
            "\n",
            "\u001b[1m> Entering new AgentExecutor chain...\u001b[0m\n",
            "\u001b[32;1m\u001b[1;3mThought: I should search for Tesla's revenue in 2022 to find the most up-to-date information.\n",
            "Action:\n",
            "```\n",
            "{\n",
            "  \"action\": \"DuckDuckGo Search\",\n",
            "  \"action_input\": \"Tesla revenue 2022\"\n",
            "}\n",
            "```\n",
            "\u001b[0m\n",
            "Observation: \u001b[36;1m\u001b[1;3mTesla's revenue from fiscal year 2008 to fiscal year 2022, based on Statista's data. The electric vehicle maker's revenue growth was driven by the Model 3 and Model Y, and its spending on production and sales in China. Another major source of revenue for Tesla is the sale of regulatory credits to other automotive manufacturers, which brought in $1.8 billion in revenues in 2022. Tesla earns tradable credits under ... Tesla ended Q4 2023 with a net income of $7.9 billion and the full year with $15 billion in profits. While Elon Musk's company more than doubled its earnings between 2021 and 2022, this past year ... 2023 Investor Day 2023 Investor Day Presentation. Cybertruck Delivery Event. 2022. Annual Report & Webcast. Tesla Semi Delivery Event. 2022 Impact Report 3-1 stock split Filing for 3-for-1 Stock Split AI Day 2. 2021. Annual Report & Webcast. Tesla Model S Plaid Delivery Event. Fiscal year is January - December. Source: Financials are provided by Nasdaq Data Link and sourced from the audited annual ( 10-K) and quarterly ( 10-Q) reports submitted to the Securities and Exchange Commission (SEC). Detailed annual and quarterly income statement for Tesla, Inc. (TSLA). See many years of revenue, expenses and profits or losses.\u001b[0m\n",
            "Thought:\u001b[32;1m\u001b[1;3mI should extract the specific revenue figure for Tesla in 2022 from the information provided.\n",
            "Action:\n",
            "```\n",
            "{\n",
            "  \"action\": \"DuckDuckGo Search\",\n",
            "  \"action_input\": \"Tesla revenue 2022 site:statista.com\"\n",
            "}\n",
            "```\u001b[0m\n",
            "Observation: \u001b[36;1m\u001b[1;3mTesla's annual revenue has grown steadily since 2008, peaking in 2022 after breaking records in 2021. In 2018, Tesla's revenue stood at over 21 billion USD. Tesla's revenue in the United States, China, and other markets from FY 2018 to FY 2022 (in millions U.S. dollars) Premium Statistic Tesla: vehicle deliveries by main model and quarter 2023 Automotive sales are Tesla's strongest growth driver, accounting for about 82.5 percent of revenue in 2022. Automotive sales revenue increased by around 52 percent year-on-year. No loss on vision Tesla ended Q4 2023 with a net income of $7.9 billion and the full year with $15 billion in profits.While Elon Musk's company more than doubled its earnings between 2021 and 2022, this past year's ... Published by Statista Research Department , Jul 20, 2023. Tesla's energy generation and storage segment generated nearly four billion U.S. dollars in revenues in 2022. Since 2015, the automotive ...\u001b[0m\n",
            "Thought:\u001b[32;1m\u001b[1;3mI should search for the specific revenue figure for Tesla in 2022 on Statista to get the exact number.\n",
            "Action:\n",
            "```\n",
            "{\n",
            "  \"action\": \"DuckDuckGo Search\",\n",
            "  \"action_input\": \"Tesla revenue 2022 Statista\"\n",
            "}\n",
            "```\n",
            "\u001b[0m\n",
            "Observation: \u001b[36;1m\u001b[1;3mPublished by. Mathilde Carlier , Aug 30, 2023. Tesla's revenue grew to nearly 81.5 billion U.S. dollars in the 2022 fiscal year, a 51 percent increase from the previous year. The United States ... Published by Statista Research Department , Jul 20, 2023. Tesla's energy generation and storage segment generated nearly four billion U.S. dollars in revenues in 2022. Since 2015, the automotive ... Interesting Tesla statistics, from revenue to the number of charging stations and much more. Guides. ... 27.2% of all Teslas sold since 2022 have been sold so far in the first nine months of 2023. Sources: Statista, Tesla. Tesla Annual Revenue. In 2022, Tesla generated $81.46 billion in annual revenue. That's an increase of 51.35% compared to ... Annual car sales worldwide 2010-2022, with a forecast for 2023 ... Tesla: vehicle deliveries by main model and quarter 2023 ... Statista Market Insights, Revenue in the Electric Vehicles market ... This amounted to almost 7.5% of Tesla's 2022 revenue. Top-Selling Tesla Models. ... Tesla's revenue from FY 2008 to FY 2022 (Statista) Tesla's revenue in the United States, China, and other ...\u001b[0m\n",
            "Thought:\u001b[32;1m\u001b[1;3mFinal Answer: Tesla's revenue in 2022 was $81.46 billion.\u001b[0m\n",
            "\n",
            "\u001b[1m> Finished chain.\u001b[0m\n",
            "\u001b[36;1m\u001b[1;3mTesla's revenue in 2022 was $81.46 billion.\u001b[0m\n",
            "\u001b[33;1m\u001b[1;3m81.46\u001b[0m\n",
            "\n",
            "\u001b[1m> Finished chain.\u001b[0m\n"
          ]
        },
        {
          "data": {
            "application/vnd.google.colaboratory.intrinsic+json": {
              "type": "string"
            },
            "text/plain": [
              "'81.46'"
            ]
          },
          "execution_count": 24,
          "metadata": {},
          "output_type": "execute_result"
        }
      ],
      "source": [
        "from langchain.chains import SimpleSequentialChain\n",
        "\n",
        "overall_chain = SimpleSequentialChain(chains = [agent, extraction_chain],\n",
        "                                      verbose = True)\n",
        "\n",
        "overall_chain.run(\"What are Tesla's revenue in 2022?\")"
      ]
    },
    {
      "cell_type": "code",
      "execution_count": null,
      "metadata": {
        "colab": {
          "base_uri": "https://localhost:8080/",
          "height": 437
        },
        "id": "gumNagkn-iIR",
        "outputId": "26fcbc12-2737-408f-ece7-886edcf2da78"
      },
      "outputs": [
        {
          "name": "stdout",
          "output_type": "stream",
          "text": [
            "\n",
            "\n",
            "\u001b[1m> Entering new SimpleSequentialChain chain...\u001b[0m\n",
            "\n",
            "\n",
            "\u001b[1m> Entering new AgentExecutor chain...\u001b[0m\n",
            "\u001b[32;1m\u001b[1;3mThought: I need to search for Tesla's revenue for the year 2022.\n",
            "Action:\n",
            "```\n",
            "{\n",
            "  \"action\": \"DuckDuckGo Search\",\n",
            "  \"action_input\": \"Tesla 2022 revenue\"\n",
            "}\n",
            "```\u001b[0m\n",
            "Observation: \u001b[36;1m\u001b[1;3mTesla's annual revenue has grown steadily since 2008, peaking in 2022 after breaking records in 2021. In 2018, Tesla's revenue stood at over 21 billion USD. Another major source of revenue for Tesla is the sale of regulatory credits to other automotive manufacturers, which brought in $1.8 billion in revenues in 2022. Tesla earns tradable credits under ... Fiscal year is January - December. Source: Financials are provided by Nasdaq Data Link and sourced from the audited annual ( 10-K) and quarterly ( 10-Q) reports submitted to the Securities and Exchange Commission (SEC). Detailed annual and quarterly income statement for Tesla, Inc. (TSLA). See many years of revenue, expenses and profits or losses. In 2022, Tesla generated $81.46 billion in annual revenue. That's an increase of 51.35% compared to 2021. In the first nine months of 2023, Tesla's revenue is already $71.6 billion. We've charted the growth in Tesla's annual revenue since 2008: Note: Data for 2023 is incomplete and includes only Q1-Q3 revenue. Year. Though most of Tesla revenue comes from EV sales, revenues also come from paid use of Superchargers, ... Anticipation was high for the January call, where Q4 2022 earnings were reported.\u001b[0m\n",
            "Thought:\u001b[32;1m\u001b[1;3mFinal Answer: Tesla's 2022 revenue was $81.46 billion.\u001b[0m\n",
            "\n",
            "\u001b[1m> Finished chain.\u001b[0m\n",
            "\u001b[36;1m\u001b[1;3mTesla's 2022 revenue was $81.46 billion.\u001b[0m\n",
            "\u001b[33;1m\u001b[1;3m81.46\u001b[0m\n",
            "\n",
            "\u001b[1m> Finished chain.\u001b[0m\n"
          ]
        },
        {
          "data": {
            "application/vnd.google.colaboratory.intrinsic+json": {
              "type": "string"
            },
            "text/plain": [
              "'81.46'"
            ]
          },
          "execution_count": 25,
          "metadata": {},
          "output_type": "execute_result"
        }
      ],
      "source": [
        "from langchain.chains import SimpleSequentialChain\n",
        "\n",
        "overall_chain = SimpleSequentialChain(chains = [agent, extraction_chain],\n",
        "                                      verbose = True)\n",
        "\n",
        "overall_chain.run(\"테슬러의 2022년 매출은 얼마인가?\")"
      ]
    },
    {
      "cell_type": "markdown",
      "metadata": {
        "id": "tnfaSnNu_igS"
      },
      "source": [
        "# 연습문제"
      ]
    },
    {
      "cell_type": "code",
      "execution_count": null,
      "metadata": {
        "id": "SKp8Nbqc-iEF"
      },
      "outputs": [],
      "source": [
        "from langchain.prompts import ChatPromptTemplate\n",
        "from langchain.chains import LLMChain\n",
        "\n",
        "template = \"\"\"Your task:\\n\\\n",
        "Find the value of Scope 1 emissions in the given content.\\n\\\n",
        "If you can't find the value, please output \"None\".\\n\\\n",
        "\n",
        "Example 1:\\n\\\n",
        "TotalEnergies' latest Scope 1 emissions were 32 million metric tons\\\n",
        " of carbon dioxide in 2021.\n",
        "Result: 32.0\n",
        "\n",
        "Given content: {text}\n",
        "Result:\n",
        "\"\"\"\n",
        "prompt = ChatPromptTemplate.from_template(template)\n",
        "\n",
        "llm_chain = LLMChain(\n",
        "    prompt = prompt,\n",
        "    llm = chat\n",
        ")"
      ]
    },
    {
      "cell_type": "code",
      "execution_count": null,
      "metadata": {
        "id": "0Y2qnO2l-iAi"
      },
      "outputs": [],
      "source": [
        "from langchain.chains import SimpleSequentialChain\n",
        "\n",
        "overall_chain = SimpleSequentialChain(\n",
        "    chains = [agent, llm_chain],\n",
        "    verbose = True\n",
        ")"
      ]
    },
    {
      "cell_type": "code",
      "execution_count": null,
      "metadata": {
        "colab": {
          "base_uri": "https://localhost:8080/",
          "height": 1000,
          "referenced_widgets": [
            "ee858599f9d541fa927b5ec084f75da4",
            "bf1e960a079c47b78cba1e9b2410e2b2",
            "8b4dd772dcf647e98b6734f7a987f1fc",
            "b9a0d275e2a94682b7bdd8d7e8ee1f80",
            "0385680c0de84c258d57eff90a36cac5",
            "8f09e23ae2b240ebbacf1b20b0e55c5d",
            "084405c29b13414ab818a6213f0dbfc3",
            "22500a4e17574887bb5af6e8b29755b1",
            "b1974d4805344feb86166672c6859b84",
            "a80c672023ff4a49a1a73db523a606a4",
            "e94a839d162846cc93b76d76cb79dbb7"
          ]
        },
        "id": "tX9inYGH-h9I",
        "outputId": "95327014-c1de-4ef0-b5a4-da2c7cd668d8"
      },
      "outputs": [
        {
          "data": {
            "application/vnd.jupyter.widget-view+json": {
              "model_id": "ee858599f9d541fa927b5ec084f75da4",
              "version_major": 2,
              "version_minor": 0
            },
            "text/plain": [
              "  0%|          | 0/30 [00:00<?, ?it/s]"
            ]
          },
          "metadata": {},
          "output_type": "display_data"
        },
        {
          "name": "stdout",
          "output_type": "stream",
          "text": [
            "\n",
            "\n",
            "\u001b[1m> Entering new SimpleSequentialChain chain...\u001b[0m\n",
            "\n",
            "\n",
            "\u001b[1m> Entering new AgentExecutor chain...\u001b[0m\n",
            "\u001b[32;1m\u001b[1;3mThought: I need to search for the specific information regarding AT&T's Scope 1 emissions.\n",
            "Action:\n",
            "```\n",
            "{\n",
            "  \"action\": \"DuckDuckGo Search\",\n",
            "  \"action_input\": \"AT&T Scope 1 emissions amount\"\n",
            "}\n",
            "```\u001b[0m\n",
            "Observation: \u001b[36;1m\u001b[1;3mAchieve carbon neutrality (net zero Scope 1 and 2 emissions 1) by 2035. Progress: 2022 Scope 1 and 2 emissions were approximately 4.8 million MT of CO 2 e. 2 This represents a reduction of more than 4 million MT from our 2015 base year (approximately 8.8 million MT of CO 2 e)—more than 45% 1 attainment toward our net zero target. Science ... Standard Disclosure Disclosure Title Location; GRI 3-3: Management of material topics: See our Climate Change & Greenhouse Gas Emissions issue brief. GRI 305-1: Direct (Scope 1) GHG emissions: Gross direct (Scope 1) GHG emissions in metric tons of CO 2 equivalent: 917,036 MT CO 2 e.. Note that we have reported minor adjustments to historical Scope 1 emissions data, available in our Climate ... AT&T says affected customers will receive $5 credit after service outage 00:50. AT&T said it will provide a $5 credit to customers who were \"potentially impacted\" by Thursday's widespread network ... Section 2: Why Understanding Scope 1, 2, and 3 Emissions Matters. Understanding an organization's Scope 1, Scope 2, and Scope 3 emissions is crucial for comprehensively accounting for and reducing its carbon footprint. Properly evaluating Scope 1, 2, and 3 emission sources allows organizations to identify the highest-impact areas to target for ... Scope 1 and Scope 2 Inventory Guidance. Scope 1 emissions are direct greenhouse (GHG) emissions that occur from sources that are controlled or owned by an organization (e.g., emissions associated with fuel combustion in boilers, furnaces, vehicles). Scope 2 emissions are indirect GHG emissions associated with the purchase of electricity, steam ...\u001b[0m\n",
            "Thought:\u001b[32;1m\u001b[1;3mI have found the specific information regarding AT&T's Scope 1 emissions.\n",
            "Final Answer: The amount of AT&T's Scope 1 emissions is 917,036 metric tons of CO2 equivalent.\u001b[0m\n",
            "\n",
            "\u001b[1m> Finished chain.\u001b[0m\n",
            "\u001b[36;1m\u001b[1;3mThe amount of AT&T's Scope 1 emissions is 917,036 metric tons of CO2 equivalent.\u001b[0m\n",
            "\u001b[33;1m\u001b[1;3m917036.0\u001b[0m\n",
            "\n",
            "\u001b[1m> Finished chain.\u001b[0m\n",
            "\n",
            "\n",
            "\u001b[1m> Entering new SimpleSequentialChain chain...\u001b[0m\n",
            "\n",
            "\n",
            "\u001b[1m> Entering new AgentExecutor chain...\u001b[0m\n",
            "\u001b[32;1m\u001b[1;3mThought: I should search for the specific information regarding Apple Inc.'s Scope 1 emissions.\n",
            "Action:\n",
            "```\n",
            "{\n",
            "  \"action\": \"DuckDuckGo Search\",\n",
            "  \"action_input\": \"Apple Inc. Scope 1 emissions\"\n",
            "}\n",
            "```  \n",
            "\u001b[0m\n",
            "Observation: \u001b[36;1m\u001b[1;3mApple has been tracking yearly progress on suppliers reducing their Scope 1 and Scope 2 emissions, and in the fall of 2022, the company called on suppliers to decarbonize their Apple production by 2030. In 2022, the 13.7 gigawatts of renewable electricity online in Apple's supply chain avoided 17.4 million metric tons of carbon emissions ... Apple's GHG emission 2012-2022. Published by Ian Tiseo , Aug 15, 2023. Apple Inc's gross emissions were 20.6 million metric tons of carbon dioxide equivalent (MtCO₂e) in fiscal year 2022 - a ... Already carbon neutral for its corporate operations, last year Apple called on its suppliers to become carbon neutral across all Apple-related operations by 2030, including all of their direct and electricity-related emissions, also known as Scope 1 and Scope 2. High-quality carbon removals will help achieve this goal by offsetting any direct ... The first, \"Greenhouse Gas Emissions,\" details Apple's emission sources from 2015 to 2022, segmented by categories (corporate and product life cycle), scopes (direct scope 1 and indirect scopes 2 ... In October 2022, we urged our worldwide supply chain to decarbonize their entire Apple-related footprint by 2030, including their scope 1 and 2 emissions associated with Apple production.\u001b[0m\n",
            "Thought:\u001b[32;1m\u001b[1;3mI should extract the specific amount of Apple Inc.'s Scope 1 emissions from the information provided.\n",
            "Action:\n",
            "```\n",
            "{\n",
            "  \"action\": \"DuckDuckGo Search\",\n",
            "  \"action_input\": \"Apple Inc. Scope 1 emissions 20.6 million metric tons of carbon dioxide equivalent\"\n",
            "}\n",
            "```  \n",
            "\u001b[0m\n",
            "Observation: \u001b[36;1m\u001b[1;3mApple's GHG emission 2012-2022. Published by Ian Tiseo , Aug 15, 2023. Apple Inc's gross emissions were 20.6 million metric tons of carbon dioxide equivalent (MtCO₂e) in fiscal year 2022 - a ... The company's gross carbon emissions have fallen from 38.4 million metric tons in 2015 to 20.6 million metric tons of carbon dioxide in 2022, according to its latest environmental progress ... According to data from the company's 2023 sustainability report, Apple produced about 20.6 million metric tons of carbon dioxide in 2022. Just half a decade earlier in 2018, the company produced ... The good news is that Apple's gross carbon emissions are falling, according to its latest environmental progress report.It produced the equivalent of 20.6 million metric tons of carbon dioxide ... According to Apple's latest environmental report, the company's gross carbon emissions have fallen from 38.4 million metric tons in 2015 to 20.6 million metric tons of carbon dioxide in 2022. But its latest iPhone 15 has a larger carbon footprint than the iPhone 14. \"Against the background of the normalisation of environmental information ...\u001b[0m\n",
            "Thought:\u001b[32;1m\u001b[1;3mI now know the final answer. \n",
            "\n",
            "Final Answer: Apple Inc.'s Scope 1 emissions were 20.6 million metric tons of carbon dioxide equivalent in fiscal year 2022.\u001b[0m\n",
            "\n",
            "\u001b[1m> Finished chain.\u001b[0m\n",
            "\u001b[36;1m\u001b[1;3mApple Inc.'s Scope 1 emissions were 20.6 million metric tons of carbon dioxide equivalent in fiscal year 2022.\u001b[0m\n",
            "\u001b[33;1m\u001b[1;3m20.6\u001b[0m\n",
            "\n",
            "\u001b[1m> Finished chain.\u001b[0m\n",
            "\n",
            "\n",
            "\u001b[1m> Entering new SimpleSequentialChain chain...\u001b[0m\n",
            "\n",
            "\n",
            "\u001b[1m> Entering new AgentExecutor chain...\u001b[0m\n",
            "\u001b[32;1m\u001b[1;3mThought: I should search for the amount of Bank of America Scope 1 emissions using DuckDuckGo Search.\n",
            "Action:\n",
            "```\n",
            "{\n",
            "  \"action\": \"DuckDuckGo Search\",\n",
            "  \"action_input\": \"Bank of America Scope 1 emissions amount\"\n",
            "}\n",
            "```\u001b[0m\n",
            "Observation: \u001b[36;1m\u001b[1;3mSep 11, 2023. --. Scope 1: Direct emissions from the bank's own operations. Scope 2: Indirect emissions from the energy the bank purchases. Scope 3: Other indirect emissions. Scope 3: The Hidden ... The Chinese bank's scope 2 emissions in 2022 was 1.9 million tonnes of CO2 equivalent. ... Bank of America were converted from metric tonnes to tonnes. ... Number of Net-Zero Banking Alliance ... Scope 1 emissions are direct greenhouse (GHG) emissions that occur from sources that are controlled or owned by an organization (e.g., emissions associated with fuel combustion in boilers, furnaces, vehicles). Scope 2 emissions are indirect GHG emissions associated with the purchase of electricity, steam, heat, or cooling. Standard Scope 2 emissions include heating and cooling buildings. Scope 3. The final category for emissions measurement covers all the remaining activities beyond the range of the first two Scopes. This includes all the indirect emissions not contained in Scope 2. Such as employee travel, waste generation and purchased goods and services. The terms scope 1, 2 and 3 were born out of the GHG Protocol (2001) and represent distinct categories of GHG emissions that arise from different sources within and beyond an organisation. This methodology now acts as the backbone for GHG emissions reporting in the UK and will become employed internationally too. Breaking the scopes down:\u001b[0m\n",
            "Thought:\u001b[32;1m\u001b[1;3mI need to refine my search to specifically find the amount of Bank of America's Scope 1 emissions.\n",
            "Action:\n",
            "```\n",
            "{\n",
            "  \"action\": \"DuckDuckGo Search\",\n",
            "  \"action_input\": \"Bank of America Scope 1 emissions amount\"\n",
            "}\n",
            "``` \n",
            "\u001b[0m\n",
            "Observation: \u001b[36;1m\u001b[1;3mThe Chinese bank's scope 2 emissions in 2022 was 1.9 million tonnes of CO2 equivalent. ... Bank of America were converted from metric tonnes to tonnes. ... Number of Net-Zero Banking Alliance ... Looking at the banks' 2030 oil and gas sector targets, only Citibank and Wells Fargo have committed to reducing their absolute emissions by 2030 (including Scopes 1, 2, and 3) by 29% and 26%, respectively. Conversely, Bank of America, Goldman Sachs, JP Morgan Chase, and Morgan Stanley have committed to reducing emissions intensity by 2030 ... The world's 60 largest banks provided $673 billion in financing to fossil fuel companies in 2022 alone, part of $5.5 trillion financed over the past seven years, according to data from a coalition of campaign groups organized by Rainforest Action Network. This, despite the net-zero climate commitments nearly every bank has made. Sep 11, 2023. --. Scope 1: Direct emissions from the bank's own operations. Scope 2: Indirect emissions from the energy the bank purchases. Scope 3: Other indirect emissions. Scope 3: The Hidden ... Section 2: Why Understanding Scope 1, 2, and 3 Emissions Matters. Understanding an organization's Scope 1, Scope 2, and Scope 3 emissions is crucial for comprehensively accounting for and reducing its carbon footprint. Properly evaluating Scope 1, 2, and 3 emission sources allows organizations to identify the highest-impact areas to target for ...\u001b[0m\n",
            "Thought:\u001b[32;1m\u001b[1;3mI need to be more specific in my search to find the exact amount of Bank of America's Scope 1 emissions.\n",
            "Action:\n",
            "```\n",
            "{\n",
            "  \"action\": \"DuckDuckGo Search\",\n",
            "  \"action_input\": \"Bank of America Scope 1 emissions amount 2023\"\n",
            "}\n",
            "``` \n",
            "\u001b[0m\n",
            "Observation: \u001b[36;1m\u001b[1;3mThe Chinese bank's scope 2 emissions in 2022 was 1.9 million tonnes of CO2 equivalent. ... Bank of America were converted from metric tonnes to tonnes. ... (September 15, 2023). Total carbon ... The team works across the bank's eight lines of business with a firm-wide goal of mobilizing and deploying $1.5 trillion in sustainable finance capital by 2030. While the final rule is not yet public, the draft rule adopts three levels of reporting of greenhouse gas emissions. Generally, Scope 1 focuses on the direct GHG emissions of the company and Scope ... The SEC has dropped a requirement for U.S.-listed companies to disclose so-called Scope 3 emissions, which was included in its original draft of the rules published in March 2022, the sources said. Reporting scope 4 emissions isn't required in the way the scope 1, scope 2, and scope 3 emissions often are - but they can prove useful for companies seeking to improve upon their sustainability and achieve their emission reduction goals faster. Scope emissions have been used by GHG, or the Greenhouse Gas Protocol, since the late 1990s ...\u001b[0m\n",
            "Thought:\u001b[32;1m\u001b[1;3mI should try searching for the specific amount of Bank of America's Scope 1 emissions in 2023.\n",
            "Action:\n",
            "```\n",
            "{\n",
            "  \"action\": \"DuckDuckGo Search\",\n",
            "  \"action_input\": \"Bank of America Scope 1 emissions amount 2023\"\n",
            "}\n",
            "```\n",
            "\u001b[0m\n",
            "Observation: \u001b[36;1m\u001b[1;3mThe Chinese bank's scope 2 emissions in 2022 was 1.9 million tonnes of CO2 equivalent. ... Bank of America were converted from metric tonnes to tonnes. ... (September 15, 2023). Total carbon ... While the final rule is not yet public, the draft rule adopts three levels of reporting of greenhouse gas emissions. Generally, Scope 1 focuses on the direct GHG emissions of the company and Scope ... The team works across the bank's eight lines of business with a firm-wide goal of mobilizing and deploying $1.5 trillion in sustainable finance capital by 2030. The SEC has dropped a requirement for U.S.-listed companies to disclose so-called Scope 3 emissions, which was included in its original draft of the rules published in March 2022, the sources said. Reporting scope 4 emissions isn't required in the way the scope 1, scope 2, and scope 3 emissions often are - but they can prove useful for companies seeking to improve upon their sustainability and achieve their emission reduction goals faster. Scope emissions have been used by GHG, or the Greenhouse Gas Protocol, since the late 1990s ...\u001b[0m\n",
            "Thought:\u001b[32;1m\u001b[1;3mI should try searching for the specific amount of Bank of America's Scope 1 emissions in 2023 one more time to get the exact information.\n",
            "Action:\n",
            "```\n",
            "{\n",
            "  \"action\": \"DuckDuckGo Search\",\n",
            "  \"action_input\": \"Bank of America Scope 1 emissions amount 2023\"\n",
            "}\n",
            "```\n",
            "\u001b[0m\n",
            "Observation: \u001b[36;1m\u001b[1;3mThe Chinese bank's scope 2 emissions in 2022 was 1.9 million tonnes of CO2 equivalent. ... Bank of America were converted from metric tonnes to tonnes. ... (September 15, 2023). Total carbon ... While the final rule is not yet public, the draft rule adopts three levels of reporting of greenhouse gas emissions. Generally, Scope 1 focuses on the direct GHG emissions of the company and Scope ... The team works across the bank's eight lines of business with a firm-wide goal of mobilizing and deploying $1.5 trillion in sustainable finance capital by 2030. The SEC has dropped a requirement for U.S.-listed companies to disclose so-called Scope 3 emissions, which was included in its original draft of the rules published in March 2022, the sources said. Reporting scope 4 emissions isn't required in the way the scope 1, scope 2, and scope 3 emissions often are - but they can prove useful for companies seeking to improve upon their sustainability and achieve their emission reduction goals faster. Scope emissions have been used by GHG, or the Greenhouse Gas Protocol, since the late 1990s ...\u001b[0m\n",
            "Thought:\u001b[32;1m\u001b[1;3mFinal Answer: The specific amount of Bank of America's Scope 1 emissions in 2023 was not found in the search results.\u001b[0m\n",
            "\n",
            "\u001b[1m> Finished chain.\u001b[0m\n",
            "\u001b[36;1m\u001b[1;3mThe specific amount of Bank of America's Scope 1 emissions in 2023 was not found in the search results.\u001b[0m\n",
            "\u001b[33;1m\u001b[1;3mNone\u001b[0m\n",
            "\n",
            "\u001b[1m> Finished chain.\u001b[0m\n",
            "\n",
            "\n",
            "\u001b[1m> Entering new SimpleSequentialChain chain...\u001b[0m\n",
            "\n",
            "\n",
            "\u001b[1m> Entering new AgentExecutor chain...\u001b[0m\n",
            "\u001b[32;1m\u001b[1;3mThought: I should search for the amount of Boeing Scope 1 emissions using DuckDuckGo Search.\n",
            "Action:\n",
            "```\n",
            "{\n",
            "  \"action\": \"DuckDuckGo Search\",\n",
            "  \"action_input\": \"Boeing Scope 1 emissions amount\"\n",
            "}\n",
            "```\u001b[0m\n",
            "\n",
            "\u001b[1m> Entering new SimpleSequentialChain chain...\u001b[0m\n",
            "\n",
            "\n",
            "\u001b[1m> Entering new AgentExecutor chain...\u001b[0m\n",
            "\u001b[32;1m\u001b[1;3mThought: I should search for the amount of CVS Health Scope 1 emissions using DuckDuckGo Search.\n",
            "Action:\n",
            "```\n",
            "{\n",
            "  \"action\": \"DuckDuckGo Search\",\n",
            "  \"action_input\": \"CVS Health Scope 1 emissions amount\"\n",
            "}\n",
            "```\u001b[0m\n",
            "\n",
            "\u001b[1m> Entering new SimpleSequentialChain chain...\u001b[0m\n",
            "\n",
            "\n",
            "\u001b[1m> Entering new AgentExecutor chain...\u001b[0m\n",
            "\u001b[32;1m\u001b[1;3mThought: I need to search for the specific information regarding Chevron Corporation's Scope 1 emissions. \n",
            "\n",
            "Action:\n",
            "```\n",
            "{\n",
            "  \"action\": \"DuckDuckGo Search\",\n",
            "  \"action_input\": \"Chevron Corporation Scope 1 emissions\"\n",
            "}\n",
            "```\n",
            "\n",
            "\u001b[0m\n",
            "\n",
            "\u001b[1m> Entering new SimpleSequentialChain chain...\u001b[0m\n",
            "\n",
            "\n",
            "\u001b[1m> Entering new AgentExecutor chain...\u001b[0m\n",
            "\u001b[32;1m\u001b[1;3mThought: I should search for the amount of Cisco's Scope 1 emissions using DuckDuckGo Search.\n",
            "Action:\n",
            "```\n",
            "{\n",
            "  \"action\": \"DuckDuckGo Search\",\n",
            "  \"action_input\": \"Cisco Scope 1 emissions amount\"\n",
            "}\n",
            "``` \n",
            "\u001b[0m\n",
            "\n",
            "\u001b[1m> Entering new SimpleSequentialChain chain...\u001b[0m\n",
            "\n",
            "\n",
            "\u001b[1m> Entering new AgentExecutor chain...\u001b[0m\n",
            "\u001b[32;1m\u001b[1;3mThought: I need to search for the specific information regarding Citigroup's Scope 1 emissions.\n",
            "Action:\n",
            "```\n",
            "{\n",
            "  \"action\": \"DuckDuckGo Search\",\n",
            "  \"action_input\": \"Citigroup Scope 1 emissions\"\n",
            "}\n",
            "```\u001b[0m\n",
            "\n",
            "\u001b[1m> Entering new SimpleSequentialChain chain...\u001b[0m\n",
            "\n",
            "\n",
            "\u001b[1m> Entering new AgentExecutor chain...\u001b[0m\n",
            "\u001b[32;1m\u001b[1;3mThought: I should search for the amount of Disney's Scope 1 emissions to find the answer to the question.\n",
            "\n",
            "Action:\n",
            "```\n",
            "{\n",
            "  \"action\": \"DuckDuckGo Search\",\n",
            "  \"action_input\": \"Disney Scope 1 emissions amount\"\n",
            "}\n",
            "```\n",
            "\n",
            "\u001b[0m\n",
            "\n",
            "\u001b[1m> Entering new SimpleSequentialChain chain...\u001b[0m\n",
            "\n",
            "\n",
            "\u001b[1m> Entering new AgentExecutor chain...\u001b[0m\n",
            "\u001b[32;1m\u001b[1;3mThought: I need to search for the amount of Dominion Energy Scope 1 emissions.\n",
            "Action:\n",
            "```\n",
            "{\n",
            "  \"action\": \"DuckDuckGo Search\",\n",
            "  \"action_input\": \"Dominion Energy Scope 1 emissions amount\"\n",
            "}\n",
            "```\u001b[0m\n",
            "\n",
            "\u001b[1m> Entering new SimpleSequentialChain chain...\u001b[0m\n",
            "\n",
            "\n",
            "\u001b[1m> Entering new AgentExecutor chain...\u001b[0m\n",
            "\u001b[32;1m\u001b[1;3mThought: I need to search for the specific information regarding ExxonMobil's Scope 1 emissions. \n",
            "\n",
            "Action:\n",
            "```\n",
            "{\n",
            "  \"action\": \"DuckDuckGo Search\",\n",
            "  \"action_input\": \"ExxonMobil Scope 1 emissions amount\"\n",
            "}\n",
            "```\n",
            "\n",
            "\u001b[0m\n",
            "\n",
            "\u001b[1m> Entering new SimpleSequentialChain chain...\u001b[0m\n",
            "\n",
            "\n",
            "\u001b[1m> Entering new AgentExecutor chain...\u001b[0m\n",
            "\u001b[32;1m\u001b[1;3mThought: I should search for the specific information regarding Ford Motor Company's Scope 1 emissions.\n",
            "Action:\n",
            "```\n",
            "{\n",
            "  \"action\": \"DuckDuckGo Search\",\n",
            "  \"action_input\": \"Ford Motor Company Scope 1 emissions\"\n",
            "}\n",
            "```\u001b[0m\n",
            "\n",
            "\u001b[1m> Entering new SimpleSequentialChain chain...\u001b[0m\n",
            "\n",
            "\n",
            "\u001b[1m> Entering new AgentExecutor chain...\u001b[0m\n",
            "\u001b[32;1m\u001b[1;3mThought: I need to search for the specific information regarding General Electric's Scope 1 emissions.\n",
            "Action:\n",
            "```\n",
            "{\n",
            "  \"action\": \"DuckDuckGo Search\",\n",
            "  \"action_input\": \"General Electric Scope 1 emissions\"\n",
            "}\n",
            "```\u001b[0m\n",
            "\n",
            "\u001b[1m> Entering new SimpleSequentialChain chain...\u001b[0m\n",
            "\n",
            "\n",
            "\u001b[1m> Entering new AgentExecutor chain...\u001b[0m\n",
            "\u001b[32;1m\u001b[1;3mThought: I should search for the specific information about Home Depot's Scope 1 emissions.\n",
            "Action:\n",
            "```\n",
            "{\n",
            "  \"action\": \"DuckDuckGo Search\",\n",
            "  \"action_input\": \"Home Depot Scope 1 emissions\"\n",
            "}\n",
            "```\u001b[0m\n",
            "\n",
            "\u001b[1m> Entering new SimpleSequentialChain chain...\u001b[0m\n",
            "\n",
            "\n",
            "\u001b[1m> Entering new AgentExecutor chain...\u001b[0m\n",
            "\u001b[32;1m\u001b[1;3mThought: I should search for the specific information about IBM's Scope 1 emissions.\n",
            "Action:\n",
            "```\n",
            "{\n",
            "  \"action\": \"DuckDuckGo Search\",\n",
            "  \"action_input\": \"IBM Scope 1 emissions amount\"\n",
            "}\n",
            "```\u001b[0m\n",
            "\n",
            "\u001b[1m> Entering new SimpleSequentialChain chain...\u001b[0m\n",
            "\n",
            "\n",
            "\u001b[1m> Entering new AgentExecutor chain...\u001b[0m\n",
            "\u001b[32;1m\u001b[1;3mThought: I should search for the amount of Intel Scope 1 emissions to find the answer to the question.\n",
            "\n",
            "Action:\n",
            "```\n",
            "{\n",
            "  \"action\": \"DuckDuckGo Search\",\n",
            "  \"action_input\": \"Intel Scope 1 emissions amount\"\n",
            "}\n",
            "```\n",
            "\n",
            "\u001b[0m\n",
            "\n",
            "\u001b[1m> Entering new SimpleSequentialChain chain...\u001b[0m\n",
            "\n",
            "\n",
            "\u001b[1m> Entering new AgentExecutor chain...\u001b[0m\n",
            "\u001b[32;1m\u001b[1;3mThought: I should search for the specific information regarding JPMorgan Chase's Scope 1 emissions.\n",
            "Action:\n",
            "```\n",
            "{\n",
            "  \"action\": \"DuckDuckGo Search\",\n",
            "  \"action_input\": \"JPMorgan Chase Scope 1 emissions amount\"\n",
            "}\n",
            "```\n",
            "\u001b[0m\n",
            "\n",
            "\u001b[1m> Entering new SimpleSequentialChain chain...\u001b[0m\n",
            "\n",
            "\n",
            "\u001b[1m> Entering new AgentExecutor chain...\u001b[0m\n",
            "\u001b[32;1m\u001b[1;3mThought: I should search for the specific information about Johnson & Johnson's Scope 1 emissions.\n",
            "Action:\n",
            "```\n",
            "{\n",
            "  \"action\": \"DuckDuckGo Search\",\n",
            "  \"action_input\": \"Johnson & Johnson Scope 1 emissions\"\n",
            "}\n",
            "```\n",
            "\u001b[0m\n",
            "\n",
            "\u001b[1m> Entering new SimpleSequentialChain chain...\u001b[0m\n",
            "\n",
            "\n",
            "\u001b[1m> Entering new AgentExecutor chain...\u001b[0m\n",
            "\u001b[32;1m\u001b[1;3mThought: I should search for the amount of Kellogg's Scope 1 emissions using DuckDuckGo Search.\n",
            "Action:\n",
            "```\n",
            "{\n",
            "  \"action\": \"DuckDuckGo Search\",\n",
            "  \"action_input\": \"Kellogg's Scope 1 emissions amount\"\n",
            "}\n",
            "```\u001b[0m\n",
            "\n",
            "\u001b[1m> Entering new SimpleSequentialChain chain...\u001b[0m\n",
            "\n",
            "\n",
            "\u001b[1m> Entering new AgentExecutor chain...\u001b[0m\n",
            "\u001b[32;1m\u001b[1;3mThought: I should search for the amount of McKesson Scope 1 emissions using DuckDuckGo Search.\n",
            "Action:\n",
            "```\n",
            "{\n",
            "  \"action\": \"DuckDuckGo Search\",\n",
            "  \"action_input\": \"McKesson Scope 1 emissions amount\"\n",
            "}\n",
            "```\u001b[0m\n",
            "\n",
            "\u001b[1m> Entering new SimpleSequentialChain chain...\u001b[0m\n",
            "\n",
            "\n",
            "\u001b[1m> Entering new AgentExecutor chain...\u001b[0m\n",
            "\u001b[32;1m\u001b[1;3mThought: I should search for the specific information regarding Merck & Co.'s Scope 1 emissions.\n",
            "Action:\n",
            "```\n",
            "{\n",
            "  \"action\": \"DuckDuckGo Search\",\n",
            "  \"action_input\": \"Merck & Co. Scope 1 emissions amount\"\n",
            "}\n",
            "```\u001b[0m\n",
            "Observation: \u001b[36;1m\u001b[1;3mTotal greenhouse gas emissions (Scope 1 and 2 of the GHG Protocol) 1,2 metric kilotons . 2019 . 2020 3. 2021 . 2022 Merck Group . 2022 thereof Merck KGaA. Total CO 2 eq 4 emissions. 621 Climate change and emissions . By 2030, we intend to reduce direct and indirect greenhouse gas emissions (Scope 1 and 2) by 50% (2020 baseline). Systematic examination of the energy consumption at our individual production sites Reduction of process-related emissions Emission reduction through green fleet Training more employees in energy ... Scope 1 emissions are directly owned or controlled by the company, while scope 2 and 3 emissions result from the company's activities but originate from external sources, not under its control. Pfizer. Pfizer aims to reduce scope 1 and 2 GHG emissions by 46% within the next seven years compared to a 2019 baseline. In 2022, the company reported ... Limited Assurance Report of the Independent Auditor regarding Sustainability Information 1. To the Executive Board of Merck KGaA, Darmstadt ... Standards of the Global Reporting Initiative (GRI) in combination with the Corporate Accounting and Reporting Standard (Scope 1 and Scope 2 ... Scope 3 includes indirect greenhouse gas emissions, such ... Emissions reduced further. In 2022, we reduced our greenhouse gas emissions by nearly 10%, emitting a total of approximately 1,667,000 metric tons of CO 2 equivalents (CO 2 eq) (2021: 1,843,000 metric tons).. Our direct emissions (Scope 1) totaled 1,425,000 metric tons of CO 2 eq, with process-related emissions accounting for 1,167,000 metric tons of CO 2 eq and fuel use accounting for the ...\u001b[0m\n",
            "Thought:\u001b[32;1m\u001b[1;3mI should extract the specific amount of Merck & Co.'s Scope 1 emissions from the information provided.\n",
            "Action:\n",
            "```\n",
            "{\n",
            "  \"action\": \"DuckDuckGo Search\",\n",
            "  \"action_input\": \"Merck & Co. Scope 1 emissions amount 2022\"\n",
            "}\n",
            "``` \n",
            "\u001b[0m\n",
            "Observation: \u001b[36;1m\u001b[1;3mIn 2022, we reduced our greenhouse gas emissions by nearly 10%, emitting a total of approximately 1,667,000 metric tons of CO 2 equivalents (CO 2 eq) (2021: 1,843,000 metric tons). Our direct emissions (Scope 1) totaled 1,425,000 metric tons of CO 2 eq, with process-related emissions accounting for 1,167,000 metric tons of CO 2 eq and fuel use ... 2022 thereof Merck KGaA. Total CO 2 eq 4 emissions . 621 . 2,028 . 1,843 . 1,667 . 148. Thereof . direct CO 2 eq emissions . 341 . 1,706 . 1,522 . 1,425 . 108. ... Already covered under Scope 1 and 2 emissions. 8. Our company produces a huge variety of intermediate products for various purposes. Due to their many applications and our customer ... To this end, we pursued new scientific discoveries with an investment last year of $13.5 billion in research and development. In total, our products and pipeline seek to address 83% of the top 20 global burdens of diseases. In 2022, our MECTIZAN® Donation Program turned 35 years old. The longest-running disease-specific drug donation program ... Actions 2022 . Status . Material topic. Sustainable and transparent supply chain . By 2024, we will increase transparency of our supply chain by the following two sub-targets: 1) 70% of our relevant number of suppliers will be covered by a valid sustainability assessment 2) 90% of relevant supplier spend will be covered by a valid ... Scope 1 emissions are directly owned or controlled by the company, while scope 2 and 3 emissions result from the company's activities but originate from external sources, not under its control. Pfizer. Pfizer aims to reduce scope 1 and 2 GHG emissions by 46% within the next seven years compared to a 2019 baseline. In 2022, the company reported ...\u001b[0m\n",
            "Thought:\u001b[32;1m\u001b[1;3mI now know the final answer. \n",
            "\n",
            "Final Answer: The amount of Merck & Co.'s Scope 1 emissions in 2022 was 1,425,000 metric tons of CO2 equivalents.\u001b[0m\n",
            "\n",
            "\u001b[1m> Finished chain.\u001b[0m\n",
            "\u001b[36;1m\u001b[1;3mThe amount of Merck & Co.'s Scope 1 emissions in 2022 was 1,425,000 metric tons of CO2 equivalents.\u001b[0m\n",
            "\u001b[33;1m\u001b[1;3m1,425.0\u001b[0m\n",
            "\n",
            "\u001b[1m> Finished chain.\u001b[0m\n",
            "\n",
            "\n",
            "\u001b[1m> Entering new SimpleSequentialChain chain...\u001b[0m\n",
            "\n",
            "\n",
            "\u001b[1m> Entering new AgentExecutor chain...\u001b[0m\n",
            "\u001b[32;1m\u001b[1;3mThought: I should search for the amount of Microsoft Scope 1 emissions using DuckDuckGo Search.\n",
            "Action:\n",
            "```\n",
            "{\n",
            "  \"action\": \"DuckDuckGo Search\",\n",
            "  \"action_input\": \"Microsoft Scope 1 emissions amount\"\n",
            "}\n",
            "```\u001b[0m\n",
            "\n",
            "\u001b[1m> Entering new SimpleSequentialChain chain...\u001b[0m\n",
            "\n",
            "\n",
            "\u001b[1m> Entering new AgentExecutor chain...\u001b[0m\n",
            "\u001b[32;1m\u001b[1;3mThought: I should search for the specific information about Oracle Corporation's Scope 1 emissions.\n",
            "Action:\n",
            "```\n",
            "{\n",
            "  \"action\": \"DuckDuckGo Search\",\n",
            "  \"action_input\": \"Oracle Corporation Scope 1 emissions\"\n",
            "}\n",
            "```\u001b[0m\n",
            "\n",
            "\u001b[1m> Entering new SimpleSequentialChain chain...\u001b[0m\n",
            "\n",
            "\n",
            "\u001b[1m> Entering new AgentExecutor chain...\u001b[0m\n",
            "\u001b[32;1m\u001b[1;3mThought: I should search for the amount of Pfizer Scope 1 emissions using DuckDuckGo Search.\n",
            "Action:\n",
            "```\n",
            "{\n",
            "  \"action\": \"DuckDuckGo Search\",\n",
            "  \"action_input\": \"Pfizer Scope 1 emissions amount\"\n",
            "}\n",
            "```\u001b[0m\n",
            "\n",
            "\u001b[1m> Entering new SimpleSequentialChain chain...\u001b[0m\n",
            "\n",
            "\n",
            "\u001b[1m> Entering new AgentExecutor chain...\u001b[0m\n",
            "\u001b[32;1m\u001b[1;3mThought: I should search for the amount of Procter & Gamble Scope 1 emissions using DuckDuckGo Search.\n",
            "Action:\n",
            "```\n",
            "{\n",
            "  \"action\": \"DuckDuckGo Search\",\n",
            "  \"action_input\": \"Procter & Gamble Scope 1 emissions amount\"\n",
            "}\n",
            "```\u001b[0m\n",
            "Observation: \u001b[36;1m\u001b[1;3mA new combined study by Planet Tracker finds Colgate-Palmolive and Procter & Gamble lagging behind Unilever. Analysis of top consumer goods giants finds Unilever's transition plan to be most credible, highlighting its consideration of Scope 3 emissions and the link between management remuneration and sustainability, yet some gaps remain.; Current emission trends put 14% of Unilever's ... Procter & Gamble's emissions are projected to follow a business-as-usual (BAU) trajectory, resulting in a +3°C warming scenario by 2030. The primary reason for not meeting the emissions level recommended by the Science-Based Targets Initiative (SBTi) for a 1.5°C alignment is P&G's failure to address upstream Scope 3 emissions. While P&G's Climate Transition Plan (CTP) outlines various ... The Procter & Gamble Company (P&G) is an American multinational consumer goods corporation headquartered in Cincinnati, Ohio, ... Procter & Gamble reported Total CO2e emissions (Scope 1 and Scope 2) for the twelve months ending December 31, 2020, at 2,619 Kt (-1,441 /-35.5% y-o-y). Upstream Scope 3 emissions are expected to increase by over 22.7% per year, while downstream Scope 3 emissions are expected to decrease by close to 3.5% per year. As one of the world's largest consumer goods manufacturers, Procter & Gamble generated an annual average revenue of USD 72.4 billion from 2018 -2022. While Unilever is currently likely to hit emissions of 32.7m tonnes of carbon dioxide which is 1.5 times over the recommended level set by the Science-Based Targets initiative (SBTi) by 2030, Colgate-Palmolive and Procter & Gamble are both on a three-degrees-Celsius pathway with expected emissions seven times higher than recommended levels.\u001b[0m\n",
            "Thought:\u001b[32;1m\u001b[1;3mI should extract the specific information about Procter & Gamble's Scope 1 emissions from the search results.\n",
            "Action:\n",
            "```\n",
            "{\n",
            "  \"action\": \"DuckDuckGo Search\",\n",
            "  \"action_input\": \"Procter & Gamble Scope 1 emissions 2020\"\n",
            "}\n",
            "``` \n",
            "\u001b[0m\n",
            "Observation: \u001b[36;1m\u001b[1;3mThe Home Depot reduced its Scope 1 and 2 emissions in 2021 while simultaneously growing the business, and it has set a target of 100% renewable electricity powering all of its facilities worldwide by 2030. ... The Procter & Gamble Company: 2018: ... Kaiser Permanente committed to reducing greenhouse gas emissions by 30% by 2020 compared to 2008 ... Procter & Gamble reported Total CO2e emissions (Scope 1 and Scope 2) for the twelve months ending December 31, 2020, at 2,619 Kt (-1,441 /-35.5% y-o-y). In September 2021, P&G set a new ambition to achieve net zero emissions across its operations and supply chain by 2040. A new combined study by Planet Tracker finds Colgate-Palmolive and Procter & Gamble lagging behind Unilever. Analysis of top consumer goods giants finds Unilever's transition plan to be most credible, highlighting its consideration of Scope 3 emissions and the link between management remuneration and sustainability, yet some gaps remain.; Current emission trends put 14% of Unilever's ... Procter & Gamble's emissions are projected to follow a business-as-usual (BAU) trajectory, resulting in a +3°C warming scenario by 2030. The primary reason for not meeting the emissions level recommended by the Science-Based Targets Initiative (SBTi) for a 1.5°C alignment is P&G's failure to address upstream Scope 3 emissions. While P&G's Climate Transition Plan (CTP) outlines various ... Consumer goods giants Colgate-Palmolive and Procter & Gamble (P&G) are on a net zero pathway to 2030 with expected emissions seven times higher than recommended levels set by the Science-Based Targets initiative (SBTi), according to new research shared with Net Zero Investor today.. The analysis of consumer good corporates by NGO Planet Tracker found Unilever's transition plan to be the most ...\u001b[0m\n",
            "Thought:\u001b[32;1m\u001b[1;3mI should now summarize the information gathered about Procter & Gamble's Scope 1 emissions.\n",
            "Final Answer: Procter & Gamble reported Total CO2e emissions (Scope 1 and Scope 2) for the twelve months ending December 31, 2020, at 2,619 Kt.\u001b[0m\n",
            "\n",
            "\u001b[1m> Finished chain.\u001b[0m\n",
            "\u001b[36;1m\u001b[1;3mProcter & Gamble reported Total CO2e emissions (Scope 1 and Scope 2) for the twelve months ending December 31, 2020, at 2,619 Kt.\u001b[0m\n",
            "\u001b[33;1m\u001b[1;3mNone\u001b[0m\n",
            "\n",
            "\u001b[1m> Finished chain.\u001b[0m\n",
            "\n",
            "\n",
            "\u001b[1m> Entering new SimpleSequentialChain chain...\u001b[0m\n",
            "\n",
            "\n",
            "\u001b[1m> Entering new AgentExecutor chain...\u001b[0m\n",
            "\u001b[32;1m\u001b[1;3mThought: I should search for the specific information regarding United Parcel Service's Scope 1 emissions.\n",
            "Action:\n",
            "```\n",
            "{\n",
            "  \"action\": \"DuckDuckGo Search\",\n",
            "  \"action_input\": \"United Parcel Service Scope 1 emissions\"\n",
            "}\n",
            "```\u001b[0m\n",
            "\n",
            "\u001b[1m> Entering new SimpleSequentialChain chain...\u001b[0m\n",
            "\n",
            "\n",
            "\u001b[1m> Entering new AgentExecutor chain...\u001b[0m\n",
            "\u001b[32;1m\u001b[1;3mThought: I should search for the specific information about UnitedHealth Group's Scope 1 emissions.\n",
            "Action:\n",
            "```\n",
            "{\n",
            "  \"action\": \"DuckDuckGo Search\",\n",
            "  \"action_input\": \"UnitedHealth Group Scope 1 emissions\"\n",
            "}\n",
            "```\u001b[0m\n",
            "\n",
            "\u001b[1m> Entering new SimpleSequentialChain chain...\u001b[0m\n",
            "\n",
            "\n",
            "\u001b[1m> Entering new AgentExecutor chain...\u001b[0m\n",
            "\u001b[32;1m\u001b[1;3mThought: I should search for the amount of Verizon Scope 1 emissions using DuckDuckGo Search.\n",
            "Action:\n",
            "```\n",
            "{\n",
            "  \"action\": \"DuckDuckGo Search\",\n",
            "  \"action_input\": \"Verizon Scope 1 emissions amount\"\n",
            "}\n",
            "```\u001b[0m\n",
            "\n",
            "\u001b[1m> Entering new SimpleSequentialChain chain...\u001b[0m\n",
            "\n",
            "\n",
            "\u001b[1m> Entering new AgentExecutor chain...\u001b[0m\n",
            "\u001b[32;1m\u001b[1;3mThought: I should search for the specific information about Walmart's Scope 1 emissions.\n",
            "Action:\n",
            "```\n",
            "{\n",
            "  \"action\": \"DuckDuckGo Search\",\n",
            "  \"action_input\": \"Walmart Scope 1 emissions amount\"\n",
            "}\n",
            "```\u001b[0m\n",
            "\n",
            "\u001b[1m> Entering new SimpleSequentialChain chain...\u001b[0m\n",
            "\n",
            "\n",
            "\u001b[1m> Entering new AgentExecutor chain...\u001b[0m\n",
            "\u001b[32;1m\u001b[1;3mThought: Scope 1 emissions refer to direct greenhouse gas emissions from sources that are owned or controlled by the organization. I should search for Wells Fargo's Scope 1 emissions to find the amount.\n",
            "\n",
            "Action:\n",
            "```\n",
            "{\n",
            "  \"action\": \"DuckDuckGo Search\",\n",
            "  \"action_input\": \"Wells Fargo Scope 1 emissions amount\"\n",
            "}\n",
            "```\u001b[0m"
          ]
        }
      ],
      "source": [
        "from tqdm.notebook import tqdm\n",
        "\n",
        "list_companies = ['AT&T',\n",
        " 'Apple Inc.',\n",
        " 'Bank of America',\n",
        " 'Boeing',\n",
        " 'CVS Health',\n",
        " 'Chevron Corporation',\n",
        " 'Cisco',\n",
        " 'Citigroup',\n",
        " 'Disney',\n",
        " 'Dominion Energy',\n",
        " 'ExxonMobil',\n",
        " 'Ford Motor Company',\n",
        " 'General Electric',\n",
        " 'Home Depot (The)',\n",
        " 'IBM',\n",
        " 'Intel',\n",
        " 'JPMorgan Chase',\n",
        " 'Johnson & Johnson',\n",
        " \"Kellogg's\",\n",
        " 'McKesson',\n",
        " 'Merck & Co.',\n",
        " 'Microsoft',\n",
        " 'Oracle Corporation',\n",
        " 'Pfizer',\n",
        " 'Procter & Gamble',\n",
        " 'United Parcel Service',\n",
        " 'UnitedHealth Group',\n",
        " 'Verizon',\n",
        " 'Walmart',\n",
        " 'Wells Fargo']\n",
        "\n",
        "list_results = []\n",
        "\n",
        "for i in tqdm(range(len(list_companies))):\n",
        "  try:\n",
        "    response = overall_chain.run(f\"What is the amount of {list_companies[i]} Scope 1 emissions?\")\n",
        "  except:\n",
        "    response = \"None\"\n",
        "  list_results.append(response)"
      ]
    },
    {
      "cell_type": "code",
      "execution_count": null,
      "metadata": {
        "id": "gKDSlLvZ-h5d"
      },
      "outputs": [],
      "source": [
        "list_results"
      ]
    },
    {
      "cell_type": "markdown",
      "metadata": {
        "id": "6dIXSulFAvzn"
      },
      "source": [
        "Sustainability Report as a Knowledge Base"
      ]
    },
    {
      "cell_type": "code",
      "execution_count": null,
      "metadata": {
        "colab": {
          "base_uri": "https://localhost:8080/"
        },
        "id": "vfrPNNwf-h1k",
        "outputId": "728e0dfa-a4b1-4911-f36c-ce75ad2e8c61"
      },
      "outputs": [
        {
          "name": "stdout",
          "output_type": "stream",
          "text": [
            "Collecting unstructured\n",
            "  Downloading unstructured-0.12.5-py3-none-any.whl (1.8 MB)\n",
            "\u001b[2K     \u001b[90m━━━━━━━━━━━━━━━━━━━━━━━━━━━━━━━━━━━━━━━━\u001b[0m \u001b[32m1.8/1.8 MB\u001b[0m \u001b[31m10.5 MB/s\u001b[0m eta \u001b[36m0:00:00\u001b[0m\n",
            "\u001b[?25hRequirement already satisfied: chardet in /usr/local/lib/python3.10/dist-packages (from unstructured) (5.2.0)\n",
            "Collecting filetype (from unstructured)\n",
            "  Downloading filetype-1.2.0-py2.py3-none-any.whl (19 kB)\n",
            "Collecting python-magic (from unstructured)\n",
            "  Downloading python_magic-0.4.27-py2.py3-none-any.whl (13 kB)\n",
            "Requirement already satisfied: lxml in /usr/local/lib/python3.10/dist-packages (from unstructured) (5.1.0)\n",
            "Requirement already satisfied: nltk in /usr/local/lib/python3.10/dist-packages (from unstructured) (3.8.1)\n",
            "Requirement already satisfied: tabulate in /usr/local/lib/python3.10/dist-packages (from unstructured) (0.9.0)\n",
            "Requirement already satisfied: requests in /usr/local/lib/python3.10/dist-packages (from unstructured) (2.31.0)\n",
            "Requirement already satisfied: beautifulsoup4 in /usr/local/lib/python3.10/dist-packages (from unstructured) (4.12.3)\n",
            "Collecting emoji (from unstructured)\n",
            "  Downloading emoji-2.10.1-py2.py3-none-any.whl (421 kB)\n",
            "\u001b[2K     \u001b[90m━━━━━━━━━━━━━━━━━━━━━━━━━━━━━━━━━━━━━━━━\u001b[0m \u001b[32m421.5/421.5 kB\u001b[0m \u001b[31m13.2 MB/s\u001b[0m eta \u001b[36m0:00:00\u001b[0m\n",
            "\u001b[?25hRequirement already satisfied: dataclasses-json in /usr/local/lib/python3.10/dist-packages (from unstructured) (0.6.4)\n",
            "Collecting python-iso639 (from unstructured)\n",
            "  Downloading python_iso639-2024.2.7-py3-none-any.whl (274 kB)\n",
            "\u001b[2K     \u001b[90m━━━━━━━━━━━━━━━━━━━━━━━━━━━━━━━━━━━━━━━━\u001b[0m \u001b[32m274.7/274.7 kB\u001b[0m \u001b[31m10.1 MB/s\u001b[0m eta \u001b[36m0:00:00\u001b[0m\n",
            "\u001b[?25hCollecting langdetect (from unstructured)\n",
            "  Downloading langdetect-1.0.9.tar.gz (981 kB)\n",
            "\u001b[2K     \u001b[90m━━━━━━━━━━━━━━━━━━━━━━━━━━━━━━━━━━━━━━━━\u001b[0m \u001b[32m981.5/981.5 kB\u001b[0m \u001b[31m13.6 MB/s\u001b[0m eta \u001b[36m0:00:00\u001b[0m\n",
            "\u001b[?25h  Preparing metadata (setup.py) ... \u001b[?25l\u001b[?25hdone\n",
            "Requirement already satisfied: numpy in /usr/local/lib/python3.10/dist-packages (from unstructured) (1.25.2)\n",
            "Collecting rapidfuzz (from unstructured)\n",
            "  Downloading rapidfuzz-3.6.1-cp310-cp310-manylinux_2_17_x86_64.manylinux2014_x86_64.whl (3.4 MB)\n",
            "\u001b[2K     \u001b[90m━━━━━━━━━━━━━━━━━━━━━━━━━━━━━━━━━━━━━━━━\u001b[0m \u001b[32m3.4/3.4 MB\u001b[0m \u001b[31m15.3 MB/s\u001b[0m eta \u001b[36m0:00:00\u001b[0m\n",
            "\u001b[?25hCollecting backoff (from unstructured)\n",
            "  Downloading backoff-2.2.1-py3-none-any.whl (15 kB)\n",
            "Requirement already satisfied: typing-extensions in /usr/local/lib/python3.10/dist-packages (from unstructured) (4.9.0)\n",
            "Collecting unstructured-client>=0.15.1 (from unstructured)\n",
            "  Downloading unstructured_client-0.18.0-py3-none-any.whl (21 kB)\n",
            "Requirement already satisfied: wrapt in /usr/local/lib/python3.10/dist-packages (from unstructured) (1.14.1)\n",
            "Requirement already satisfied: certifi>=2023.7.22 in /usr/local/lib/python3.10/dist-packages (from unstructured-client>=0.15.1->unstructured) (2024.2.2)\n",
            "Requirement already satisfied: charset-normalizer>=3.2.0 in /usr/local/lib/python3.10/dist-packages (from unstructured-client>=0.15.1->unstructured) (3.3.2)\n",
            "Collecting dataclasses-json-speakeasy>=0.5.11 (from unstructured-client>=0.15.1->unstructured)\n",
            "  Downloading dataclasses_json_speakeasy-0.5.11-py3-none-any.whl (28 kB)\n",
            "Requirement already satisfied: idna>=3.4 in /usr/local/lib/python3.10/dist-packages (from unstructured-client>=0.15.1->unstructured) (3.6)\n",
            "Collecting jsonpath-python>=1.0.6 (from unstructured-client>=0.15.1->unstructured)\n",
            "  Downloading jsonpath_python-1.0.6-py3-none-any.whl (7.6 kB)\n",
            "Requirement already satisfied: marshmallow>=3.19.0 in /usr/local/lib/python3.10/dist-packages (from unstructured-client>=0.15.1->unstructured) (3.21.0)\n",
            "Requirement already satisfied: mypy-extensions>=1.0.0 in /usr/local/lib/python3.10/dist-packages (from unstructured-client>=0.15.1->unstructured) (1.0.0)\n",
            "Requirement already satisfied: packaging>=23.1 in /usr/local/lib/python3.10/dist-packages (from unstructured-client>=0.15.1->unstructured) (23.2)\n",
            "Requirement already satisfied: python-dateutil>=2.8.2 in /usr/local/lib/python3.10/dist-packages (from unstructured-client>=0.15.1->unstructured) (2.8.2)\n",
            "Requirement already satisfied: six>=1.16.0 in /usr/local/lib/python3.10/dist-packages (from unstructured-client>=0.15.1->unstructured) (1.16.0)\n",
            "Requirement already satisfied: typing-inspect>=0.9.0 in /usr/local/lib/python3.10/dist-packages (from unstructured-client>=0.15.1->unstructured) (0.9.0)\n",
            "Requirement already satisfied: urllib3>=1.26.18 in /usr/local/lib/python3.10/dist-packages (from unstructured-client>=0.15.1->unstructured) (2.0.7)\n",
            "Requirement already satisfied: soupsieve>1.2 in /usr/local/lib/python3.10/dist-packages (from beautifulsoup4->unstructured) (2.5)\n",
            "Requirement already satisfied: click in /usr/local/lib/python3.10/dist-packages (from nltk->unstructured) (8.1.7)\n",
            "Requirement already satisfied: joblib in /usr/local/lib/python3.10/dist-packages (from nltk->unstructured) (1.3.2)\n",
            "Requirement already satisfied: regex>=2021.8.3 in /usr/local/lib/python3.10/dist-packages (from nltk->unstructured) (2023.12.25)\n",
            "Requirement already satisfied: tqdm in /usr/local/lib/python3.10/dist-packages (from nltk->unstructured) (4.66.2)\n",
            "Building wheels for collected packages: langdetect\n",
            "  Building wheel for langdetect (setup.py) ... \u001b[?25l\u001b[?25hdone\n",
            "  Created wheel for langdetect: filename=langdetect-1.0.9-py3-none-any.whl size=993225 sha256=3be44a3223a6028e8f41a342533299f16301b6346747bc510ae31e5ab5b9016b\n",
            "  Stored in directory: /root/.cache/pip/wheels/95/03/7d/59ea870c70ce4e5a370638b5462a7711ab78fba2f655d05106\n",
            "Successfully built langdetect\n",
            "Installing collected packages: filetype, rapidfuzz, python-magic, python-iso639, langdetect, jsonpath-python, emoji, backoff, dataclasses-json-speakeasy, unstructured-client, unstructured\n",
            "Successfully installed backoff-2.2.1 dataclasses-json-speakeasy-0.5.11 emoji-2.10.1 filetype-1.2.0 jsonpath-python-1.0.6 langdetect-1.0.9 python-iso639-2024.2.7 python-magic-0.4.27 rapidfuzz-3.6.1 unstructured-0.12.5 unstructured-client-0.18.0\n",
            "Collecting pypdf\n",
            "  Downloading pypdf-4.0.2-py3-none-any.whl (283 kB)\n",
            "\u001b[2K     \u001b[90m━━━━━━━━━━━━━━━━━━━━━━━━━━━━━━━━━━━━━━━━\u001b[0m \u001b[32m284.0/284.0 kB\u001b[0m \u001b[31m6.3 MB/s\u001b[0m eta \u001b[36m0:00:00\u001b[0m\n",
            "\u001b[?25hInstalling collected packages: pypdf\n",
            "Successfully installed pypdf-4.0.2\n",
            "Collecting pdf2image\n",
            "  Downloading pdf2image-1.17.0-py3-none-any.whl (11 kB)\n",
            "Requirement already satisfied: pillow in /usr/local/lib/python3.10/dist-packages (from pdf2image) (9.4.0)\n",
            "Installing collected packages: pdf2image\n",
            "Successfully installed pdf2image-1.17.0\n"
          ]
        }
      ],
      "source": [
        "!pip install unstructured\n",
        "!pip install pypdf\n",
        "!pip install pdf2image"
      ]
    },
    {
      "cell_type": "code",
      "execution_count": null,
      "metadata": {
        "colab": {
          "base_uri": "https://localhost:8080/",
          "height": 339
        },
        "id": "vMLYSAdOBFYp",
        "outputId": "b67cf6e7-6be2-46c7-af28-eb26ff024113"
      },
      "outputs": [
        {
          "ename": "KeyboardInterrupt",
          "evalue": "",
          "output_type": "error",
          "traceback": [
            "\u001b[0;31m---------------------------------------------------------------------------\u001b[0m",
            "\u001b[0;31mKeyboardInterrupt\u001b[0m                         Traceback (most recent call last)",
            "\u001b[0;32m<ipython-input-32-9d9ce2440f9d>\u001b[0m in \u001b[0;36m<cell line: 5>\u001b[0;34m()\u001b[0m\n\u001b[1;32m      3\u001b[0m \u001b[0;34m\u001b[0m\u001b[0m\n\u001b[1;32m      4\u001b[0m \u001b[0murl\u001b[0m \u001b[0;34m=\u001b[0m \u001b[0;34m\"https://www.tesla.com/ns_videos/2021-tesla-impact-report.pdf\"\u001b[0m\u001b[0;34m\u001b[0m\u001b[0;34m\u001b[0m\u001b[0m\n\u001b[0;32m----> 5\u001b[0;31m \u001b[0mloader\u001b[0m \u001b[0;34m=\u001b[0m \u001b[0mOnlinePDFLoader\u001b[0m\u001b[0;34m(\u001b[0m\u001b[0murl\u001b[0m\u001b[0;34m)\u001b[0m\u001b[0;34m\u001b[0m\u001b[0;34m\u001b[0m\u001b[0m\n\u001b[0m\u001b[1;32m      6\u001b[0m \u001b[0mdata\u001b[0m \u001b[0;34m=\u001b[0m \u001b[0mloader\u001b[0m\u001b[0;34m.\u001b[0m\u001b[0mload\u001b[0m\u001b[0;34m(\u001b[0m\u001b[0;34m)\u001b[0m\u001b[0;34m\u001b[0m\u001b[0;34m\u001b[0m\u001b[0m\n",
            "\u001b[0;32m/usr/local/lib/python3.10/dist-packages/langchain_community/document_loaders/pdf.py\u001b[0m in \u001b[0;36m__init__\u001b[0;34m(self, file_path, headers)\u001b[0m\n\u001b[1;32m     87\u001b[0m             \u001b[0mself\u001b[0m\u001b[0;34m.\u001b[0m\u001b[0mweb_path\u001b[0m \u001b[0;34m=\u001b[0m \u001b[0mself\u001b[0m\u001b[0;34m.\u001b[0m\u001b[0mfile_path\u001b[0m\u001b[0;34m\u001b[0m\u001b[0;34m\u001b[0m\u001b[0m\n\u001b[1;32m     88\u001b[0m             \u001b[0;32mif\u001b[0m \u001b[0;32mnot\u001b[0m \u001b[0mself\u001b[0m\u001b[0;34m.\u001b[0m\u001b[0m_is_s3_url\u001b[0m\u001b[0;34m(\u001b[0m\u001b[0mself\u001b[0m\u001b[0;34m.\u001b[0m\u001b[0mfile_path\u001b[0m\u001b[0;34m)\u001b[0m\u001b[0;34m:\u001b[0m\u001b[0;34m\u001b[0m\u001b[0;34m\u001b[0m\u001b[0m\n\u001b[0;32m---> 89\u001b[0;31m                 \u001b[0mr\u001b[0m \u001b[0;34m=\u001b[0m \u001b[0mrequests\u001b[0m\u001b[0;34m.\u001b[0m\u001b[0mget\u001b[0m\u001b[0;34m(\u001b[0m\u001b[0mself\u001b[0m\u001b[0;34m.\u001b[0m\u001b[0mfile_path\u001b[0m\u001b[0;34m,\u001b[0m \u001b[0mheaders\u001b[0m\u001b[0;34m=\u001b[0m\u001b[0mself\u001b[0m\u001b[0;34m.\u001b[0m\u001b[0mheaders\u001b[0m\u001b[0;34m)\u001b[0m\u001b[0;34m\u001b[0m\u001b[0;34m\u001b[0m\u001b[0m\n\u001b[0m\u001b[1;32m     90\u001b[0m                 \u001b[0;32mif\u001b[0m \u001b[0mr\u001b[0m\u001b[0;34m.\u001b[0m\u001b[0mstatus_code\u001b[0m \u001b[0;34m!=\u001b[0m \u001b[0;36m200\u001b[0m\u001b[0;34m:\u001b[0m\u001b[0;34m\u001b[0m\u001b[0;34m\u001b[0m\u001b[0m\n\u001b[1;32m     91\u001b[0m                     raise ValueError(\n",
            "\u001b[0;32m/usr/local/lib/python3.10/dist-packages/requests/api.py\u001b[0m in \u001b[0;36mget\u001b[0;34m(url, params, **kwargs)\u001b[0m\n\u001b[1;32m     71\u001b[0m     \"\"\"\n\u001b[1;32m     72\u001b[0m \u001b[0;34m\u001b[0m\u001b[0m\n\u001b[0;32m---> 73\u001b[0;31m     \u001b[0;32mreturn\u001b[0m \u001b[0mrequest\u001b[0m\u001b[0;34m(\u001b[0m\u001b[0;34m\"get\"\u001b[0m\u001b[0;34m,\u001b[0m \u001b[0murl\u001b[0m\u001b[0;34m,\u001b[0m \u001b[0mparams\u001b[0m\u001b[0;34m=\u001b[0m\u001b[0mparams\u001b[0m\u001b[0;34m,\u001b[0m \u001b[0;34m**\u001b[0m\u001b[0mkwargs\u001b[0m\u001b[0;34m)\u001b[0m\u001b[0;34m\u001b[0m\u001b[0;34m\u001b[0m\u001b[0m\n\u001b[0m\u001b[1;32m     74\u001b[0m \u001b[0;34m\u001b[0m\u001b[0m\n\u001b[1;32m     75\u001b[0m \u001b[0;34m\u001b[0m\u001b[0m\n",
            "\u001b[0;32m/usr/local/lib/python3.10/dist-packages/requests/api.py\u001b[0m in \u001b[0;36mrequest\u001b[0;34m(method, url, **kwargs)\u001b[0m\n\u001b[1;32m     57\u001b[0m     \u001b[0;31m# cases, and look like a memory leak in others.\u001b[0m\u001b[0;34m\u001b[0m\u001b[0;34m\u001b[0m\u001b[0m\n\u001b[1;32m     58\u001b[0m     \u001b[0;32mwith\u001b[0m \u001b[0msessions\u001b[0m\u001b[0;34m.\u001b[0m\u001b[0mSession\u001b[0m\u001b[0;34m(\u001b[0m\u001b[0;34m)\u001b[0m \u001b[0;32mas\u001b[0m \u001b[0msession\u001b[0m\u001b[0;34m:\u001b[0m\u001b[0;34m\u001b[0m\u001b[0;34m\u001b[0m\u001b[0m\n\u001b[0;32m---> 59\u001b[0;31m         \u001b[0;32mreturn\u001b[0m \u001b[0msession\u001b[0m\u001b[0;34m.\u001b[0m\u001b[0mrequest\u001b[0m\u001b[0;34m(\u001b[0m\u001b[0mmethod\u001b[0m\u001b[0;34m=\u001b[0m\u001b[0mmethod\u001b[0m\u001b[0;34m,\u001b[0m \u001b[0murl\u001b[0m\u001b[0;34m=\u001b[0m\u001b[0murl\u001b[0m\u001b[0;34m,\u001b[0m \u001b[0;34m**\u001b[0m\u001b[0mkwargs\u001b[0m\u001b[0;34m)\u001b[0m\u001b[0;34m\u001b[0m\u001b[0;34m\u001b[0m\u001b[0m\n\u001b[0m\u001b[1;32m     60\u001b[0m \u001b[0;34m\u001b[0m\u001b[0m\n\u001b[1;32m     61\u001b[0m \u001b[0;34m\u001b[0m\u001b[0m\n",
            "\u001b[0;32m/usr/local/lib/python3.10/dist-packages/requests/sessions.py\u001b[0m in \u001b[0;36mrequest\u001b[0;34m(self, method, url, params, data, headers, cookies, files, auth, timeout, allow_redirects, proxies, hooks, stream, verify, cert, json)\u001b[0m\n\u001b[1;32m    587\u001b[0m         }\n\u001b[1;32m    588\u001b[0m         \u001b[0msend_kwargs\u001b[0m\u001b[0;34m.\u001b[0m\u001b[0mupdate\u001b[0m\u001b[0;34m(\u001b[0m\u001b[0msettings\u001b[0m\u001b[0;34m)\u001b[0m\u001b[0;34m\u001b[0m\u001b[0;34m\u001b[0m\u001b[0m\n\u001b[0;32m--> 589\u001b[0;31m         \u001b[0mresp\u001b[0m \u001b[0;34m=\u001b[0m \u001b[0mself\u001b[0m\u001b[0;34m.\u001b[0m\u001b[0msend\u001b[0m\u001b[0;34m(\u001b[0m\u001b[0mprep\u001b[0m\u001b[0;34m,\u001b[0m \u001b[0;34m**\u001b[0m\u001b[0msend_kwargs\u001b[0m\u001b[0;34m)\u001b[0m\u001b[0;34m\u001b[0m\u001b[0;34m\u001b[0m\u001b[0m\n\u001b[0m\u001b[1;32m    590\u001b[0m \u001b[0;34m\u001b[0m\u001b[0m\n\u001b[1;32m    591\u001b[0m         \u001b[0;32mreturn\u001b[0m \u001b[0mresp\u001b[0m\u001b[0;34m\u001b[0m\u001b[0;34m\u001b[0m\u001b[0m\n",
            "\u001b[0;32m/usr/local/lib/python3.10/dist-packages/requests/sessions.py\u001b[0m in \u001b[0;36msend\u001b[0;34m(self, request, **kwargs)\u001b[0m\n\u001b[1;32m    701\u001b[0m \u001b[0;34m\u001b[0m\u001b[0m\n\u001b[1;32m    702\u001b[0m         \u001b[0;31m# Send the request\u001b[0m\u001b[0;34m\u001b[0m\u001b[0;34m\u001b[0m\u001b[0m\n\u001b[0;32m--> 703\u001b[0;31m         \u001b[0mr\u001b[0m \u001b[0;34m=\u001b[0m \u001b[0madapter\u001b[0m\u001b[0;34m.\u001b[0m\u001b[0msend\u001b[0m\u001b[0;34m(\u001b[0m\u001b[0mrequest\u001b[0m\u001b[0;34m,\u001b[0m \u001b[0;34m**\u001b[0m\u001b[0mkwargs\u001b[0m\u001b[0;34m)\u001b[0m\u001b[0;34m\u001b[0m\u001b[0;34m\u001b[0m\u001b[0m\n\u001b[0m\u001b[1;32m    704\u001b[0m \u001b[0;34m\u001b[0m\u001b[0m\n\u001b[1;32m    705\u001b[0m         \u001b[0;31m# Total elapsed time of the request (approximately)\u001b[0m\u001b[0;34m\u001b[0m\u001b[0;34m\u001b[0m\u001b[0m\n",
            "\u001b[0;32m/usr/local/lib/python3.10/dist-packages/requests/adapters.py\u001b[0m in \u001b[0;36msend\u001b[0;34m(self, request, stream, timeout, verify, cert, proxies)\u001b[0m\n\u001b[1;32m    484\u001b[0m \u001b[0;34m\u001b[0m\u001b[0m\n\u001b[1;32m    485\u001b[0m         \u001b[0;32mtry\u001b[0m\u001b[0;34m:\u001b[0m\u001b[0;34m\u001b[0m\u001b[0;34m\u001b[0m\u001b[0m\n\u001b[0;32m--> 486\u001b[0;31m             resp = conn.urlopen(\n\u001b[0m\u001b[1;32m    487\u001b[0m                 \u001b[0mmethod\u001b[0m\u001b[0;34m=\u001b[0m\u001b[0mrequest\u001b[0m\u001b[0;34m.\u001b[0m\u001b[0mmethod\u001b[0m\u001b[0;34m,\u001b[0m\u001b[0;34m\u001b[0m\u001b[0;34m\u001b[0m\u001b[0m\n\u001b[1;32m    488\u001b[0m                 \u001b[0murl\u001b[0m\u001b[0;34m=\u001b[0m\u001b[0murl\u001b[0m\u001b[0;34m,\u001b[0m\u001b[0;34m\u001b[0m\u001b[0;34m\u001b[0m\u001b[0m\n",
            "\u001b[0;32m/usr/local/lib/python3.10/dist-packages/urllib3/connectionpool.py\u001b[0m in \u001b[0;36murlopen\u001b[0;34m(self, method, url, body, headers, retries, redirect, assert_same_host, timeout, pool_timeout, release_conn, chunked, body_pos, preload_content, decode_content, **response_kw)\u001b[0m\n\u001b[1;32m    789\u001b[0m \u001b[0;34m\u001b[0m\u001b[0m\n\u001b[1;32m    790\u001b[0m             \u001b[0;31m# Make the request on the HTTPConnection object\u001b[0m\u001b[0;34m\u001b[0m\u001b[0;34m\u001b[0m\u001b[0m\n\u001b[0;32m--> 791\u001b[0;31m             response = self._make_request(\n\u001b[0m\u001b[1;32m    792\u001b[0m                 \u001b[0mconn\u001b[0m\u001b[0;34m,\u001b[0m\u001b[0;34m\u001b[0m\u001b[0;34m\u001b[0m\u001b[0m\n\u001b[1;32m    793\u001b[0m                 \u001b[0mmethod\u001b[0m\u001b[0;34m,\u001b[0m\u001b[0;34m\u001b[0m\u001b[0;34m\u001b[0m\u001b[0m\n",
            "\u001b[0;32m/usr/local/lib/python3.10/dist-packages/urllib3/connectionpool.py\u001b[0m in \u001b[0;36m_make_request\u001b[0;34m(self, conn, method, url, body, headers, retries, timeout, chunked, response_conn, preload_content, decode_content, enforce_content_length)\u001b[0m\n\u001b[1;32m    535\u001b[0m         \u001b[0;31m# Receive the response from the server\u001b[0m\u001b[0;34m\u001b[0m\u001b[0;34m\u001b[0m\u001b[0m\n\u001b[1;32m    536\u001b[0m         \u001b[0;32mtry\u001b[0m\u001b[0;34m:\u001b[0m\u001b[0;34m\u001b[0m\u001b[0;34m\u001b[0m\u001b[0m\n\u001b[0;32m--> 537\u001b[0;31m             \u001b[0mresponse\u001b[0m \u001b[0;34m=\u001b[0m \u001b[0mconn\u001b[0m\u001b[0;34m.\u001b[0m\u001b[0mgetresponse\u001b[0m\u001b[0;34m(\u001b[0m\u001b[0;34m)\u001b[0m\u001b[0;34m\u001b[0m\u001b[0;34m\u001b[0m\u001b[0m\n\u001b[0m\u001b[1;32m    538\u001b[0m         \u001b[0;32mexcept\u001b[0m \u001b[0;34m(\u001b[0m\u001b[0mBaseSSLError\u001b[0m\u001b[0;34m,\u001b[0m \u001b[0mOSError\u001b[0m\u001b[0;34m)\u001b[0m \u001b[0;32mas\u001b[0m \u001b[0me\u001b[0m\u001b[0;34m:\u001b[0m\u001b[0;34m\u001b[0m\u001b[0;34m\u001b[0m\u001b[0m\n\u001b[1;32m    539\u001b[0m             \u001b[0mself\u001b[0m\u001b[0;34m.\u001b[0m\u001b[0m_raise_timeout\u001b[0m\u001b[0;34m(\u001b[0m\u001b[0merr\u001b[0m\u001b[0;34m=\u001b[0m\u001b[0me\u001b[0m\u001b[0;34m,\u001b[0m \u001b[0murl\u001b[0m\u001b[0;34m=\u001b[0m\u001b[0murl\u001b[0m\u001b[0;34m,\u001b[0m \u001b[0mtimeout_value\u001b[0m\u001b[0;34m=\u001b[0m\u001b[0mread_timeout\u001b[0m\u001b[0;34m)\u001b[0m\u001b[0;34m\u001b[0m\u001b[0;34m\u001b[0m\u001b[0m\n",
            "\u001b[0;32m/usr/local/lib/python3.10/dist-packages/urllib3/connection.py\u001b[0m in \u001b[0;36mgetresponse\u001b[0;34m(self)\u001b[0m\n\u001b[1;32m    459\u001b[0m \u001b[0;34m\u001b[0m\u001b[0m\n\u001b[1;32m    460\u001b[0m         \u001b[0;31m# Get the response from http.client.HTTPConnection\u001b[0m\u001b[0;34m\u001b[0m\u001b[0;34m\u001b[0m\u001b[0m\n\u001b[0;32m--> 461\u001b[0;31m         \u001b[0mhttplib_response\u001b[0m \u001b[0;34m=\u001b[0m \u001b[0msuper\u001b[0m\u001b[0;34m(\u001b[0m\u001b[0;34m)\u001b[0m\u001b[0;34m.\u001b[0m\u001b[0mgetresponse\u001b[0m\u001b[0;34m(\u001b[0m\u001b[0;34m)\u001b[0m\u001b[0;34m\u001b[0m\u001b[0;34m\u001b[0m\u001b[0m\n\u001b[0m\u001b[1;32m    462\u001b[0m \u001b[0;34m\u001b[0m\u001b[0m\n\u001b[1;32m    463\u001b[0m         \u001b[0;32mtry\u001b[0m\u001b[0;34m:\u001b[0m\u001b[0;34m\u001b[0m\u001b[0;34m\u001b[0m\u001b[0m\n",
            "\u001b[0;32m/usr/lib/python3.10/http/client.py\u001b[0m in \u001b[0;36mgetresponse\u001b[0;34m(self)\u001b[0m\n\u001b[1;32m   1373\u001b[0m         \u001b[0;32mtry\u001b[0m\u001b[0;34m:\u001b[0m\u001b[0;34m\u001b[0m\u001b[0;34m\u001b[0m\u001b[0m\n\u001b[1;32m   1374\u001b[0m             \u001b[0;32mtry\u001b[0m\u001b[0;34m:\u001b[0m\u001b[0;34m\u001b[0m\u001b[0;34m\u001b[0m\u001b[0m\n\u001b[0;32m-> 1375\u001b[0;31m                 \u001b[0mresponse\u001b[0m\u001b[0;34m.\u001b[0m\u001b[0mbegin\u001b[0m\u001b[0;34m(\u001b[0m\u001b[0;34m)\u001b[0m\u001b[0;34m\u001b[0m\u001b[0;34m\u001b[0m\u001b[0m\n\u001b[0m\u001b[1;32m   1376\u001b[0m             \u001b[0;32mexcept\u001b[0m \u001b[0mConnectionError\u001b[0m\u001b[0;34m:\u001b[0m\u001b[0;34m\u001b[0m\u001b[0;34m\u001b[0m\u001b[0m\n\u001b[1;32m   1377\u001b[0m                 \u001b[0mself\u001b[0m\u001b[0;34m.\u001b[0m\u001b[0mclose\u001b[0m\u001b[0;34m(\u001b[0m\u001b[0;34m)\u001b[0m\u001b[0;34m\u001b[0m\u001b[0;34m\u001b[0m\u001b[0m\n",
            "\u001b[0;32m/usr/lib/python3.10/http/client.py\u001b[0m in \u001b[0;36mbegin\u001b[0;34m(self)\u001b[0m\n\u001b[1;32m    316\u001b[0m         \u001b[0;31m# read until we get a non-100 response\u001b[0m\u001b[0;34m\u001b[0m\u001b[0;34m\u001b[0m\u001b[0m\n\u001b[1;32m    317\u001b[0m         \u001b[0;32mwhile\u001b[0m \u001b[0;32mTrue\u001b[0m\u001b[0;34m:\u001b[0m\u001b[0;34m\u001b[0m\u001b[0;34m\u001b[0m\u001b[0m\n\u001b[0;32m--> 318\u001b[0;31m             \u001b[0mversion\u001b[0m\u001b[0;34m,\u001b[0m \u001b[0mstatus\u001b[0m\u001b[0;34m,\u001b[0m \u001b[0mreason\u001b[0m \u001b[0;34m=\u001b[0m \u001b[0mself\u001b[0m\u001b[0;34m.\u001b[0m\u001b[0m_read_status\u001b[0m\u001b[0;34m(\u001b[0m\u001b[0;34m)\u001b[0m\u001b[0;34m\u001b[0m\u001b[0;34m\u001b[0m\u001b[0m\n\u001b[0m\u001b[1;32m    319\u001b[0m             \u001b[0;32mif\u001b[0m \u001b[0mstatus\u001b[0m \u001b[0;34m!=\u001b[0m \u001b[0mCONTINUE\u001b[0m\u001b[0;34m:\u001b[0m\u001b[0;34m\u001b[0m\u001b[0;34m\u001b[0m\u001b[0m\n\u001b[1;32m    320\u001b[0m                 \u001b[0;32mbreak\u001b[0m\u001b[0;34m\u001b[0m\u001b[0;34m\u001b[0m\u001b[0m\n",
            "\u001b[0;32m/usr/lib/python3.10/http/client.py\u001b[0m in \u001b[0;36m_read_status\u001b[0;34m(self)\u001b[0m\n\u001b[1;32m    277\u001b[0m \u001b[0;34m\u001b[0m\u001b[0m\n\u001b[1;32m    278\u001b[0m     \u001b[0;32mdef\u001b[0m \u001b[0m_read_status\u001b[0m\u001b[0;34m(\u001b[0m\u001b[0mself\u001b[0m\u001b[0;34m)\u001b[0m\u001b[0;34m:\u001b[0m\u001b[0;34m\u001b[0m\u001b[0;34m\u001b[0m\u001b[0m\n\u001b[0;32m--> 279\u001b[0;31m         \u001b[0mline\u001b[0m \u001b[0;34m=\u001b[0m \u001b[0mstr\u001b[0m\u001b[0;34m(\u001b[0m\u001b[0mself\u001b[0m\u001b[0;34m.\u001b[0m\u001b[0mfp\u001b[0m\u001b[0;34m.\u001b[0m\u001b[0mreadline\u001b[0m\u001b[0;34m(\u001b[0m\u001b[0m_MAXLINE\u001b[0m \u001b[0;34m+\u001b[0m \u001b[0;36m1\u001b[0m\u001b[0;34m)\u001b[0m\u001b[0;34m,\u001b[0m \u001b[0;34m\"iso-8859-1\"\u001b[0m\u001b[0;34m)\u001b[0m\u001b[0;34m\u001b[0m\u001b[0;34m\u001b[0m\u001b[0m\n\u001b[0m\u001b[1;32m    280\u001b[0m         \u001b[0;32mif\u001b[0m \u001b[0mlen\u001b[0m\u001b[0;34m(\u001b[0m\u001b[0mline\u001b[0m\u001b[0;34m)\u001b[0m \u001b[0;34m>\u001b[0m \u001b[0m_MAXLINE\u001b[0m\u001b[0;34m:\u001b[0m\u001b[0;34m\u001b[0m\u001b[0;34m\u001b[0m\u001b[0m\n\u001b[1;32m    281\u001b[0m             \u001b[0;32mraise\u001b[0m \u001b[0mLineTooLong\u001b[0m\u001b[0;34m(\u001b[0m\u001b[0;34m\"status line\"\u001b[0m\u001b[0;34m)\u001b[0m\u001b[0;34m\u001b[0m\u001b[0;34m\u001b[0m\u001b[0m\n",
            "\u001b[0;32m/usr/lib/python3.10/socket.py\u001b[0m in \u001b[0;36mreadinto\u001b[0;34m(self, b)\u001b[0m\n\u001b[1;32m    703\u001b[0m         \u001b[0;32mwhile\u001b[0m \u001b[0;32mTrue\u001b[0m\u001b[0;34m:\u001b[0m\u001b[0;34m\u001b[0m\u001b[0;34m\u001b[0m\u001b[0m\n\u001b[1;32m    704\u001b[0m             \u001b[0;32mtry\u001b[0m\u001b[0;34m:\u001b[0m\u001b[0;34m\u001b[0m\u001b[0;34m\u001b[0m\u001b[0m\n\u001b[0;32m--> 705\u001b[0;31m                 \u001b[0;32mreturn\u001b[0m \u001b[0mself\u001b[0m\u001b[0;34m.\u001b[0m\u001b[0m_sock\u001b[0m\u001b[0;34m.\u001b[0m\u001b[0mrecv_into\u001b[0m\u001b[0;34m(\u001b[0m\u001b[0mb\u001b[0m\u001b[0;34m)\u001b[0m\u001b[0;34m\u001b[0m\u001b[0;34m\u001b[0m\u001b[0m\n\u001b[0m\u001b[1;32m    706\u001b[0m             \u001b[0;32mexcept\u001b[0m \u001b[0mtimeout\u001b[0m\u001b[0;34m:\u001b[0m\u001b[0;34m\u001b[0m\u001b[0;34m\u001b[0m\u001b[0m\n\u001b[1;32m    707\u001b[0m                 \u001b[0mself\u001b[0m\u001b[0;34m.\u001b[0m\u001b[0m_timeout_occurred\u001b[0m \u001b[0;34m=\u001b[0m \u001b[0;32mTrue\u001b[0m\u001b[0;34m\u001b[0m\u001b[0;34m\u001b[0m\u001b[0m\n",
            "\u001b[0;32m/usr/lib/python3.10/ssl.py\u001b[0m in \u001b[0;36mrecv_into\u001b[0;34m(self, buffer, nbytes, flags)\u001b[0m\n\u001b[1;32m   1301\u001b[0m                   \u001b[0;34m\"non-zero flags not allowed in calls to recv_into() on %s\"\u001b[0m \u001b[0;34m%\u001b[0m\u001b[0;34m\u001b[0m\u001b[0;34m\u001b[0m\u001b[0m\n\u001b[1;32m   1302\u001b[0m                   self.__class__)\n\u001b[0;32m-> 1303\u001b[0;31m             \u001b[0;32mreturn\u001b[0m \u001b[0mself\u001b[0m\u001b[0;34m.\u001b[0m\u001b[0mread\u001b[0m\u001b[0;34m(\u001b[0m\u001b[0mnbytes\u001b[0m\u001b[0;34m,\u001b[0m \u001b[0mbuffer\u001b[0m\u001b[0;34m)\u001b[0m\u001b[0;34m\u001b[0m\u001b[0;34m\u001b[0m\u001b[0m\n\u001b[0m\u001b[1;32m   1304\u001b[0m         \u001b[0;32melse\u001b[0m\u001b[0;34m:\u001b[0m\u001b[0;34m\u001b[0m\u001b[0;34m\u001b[0m\u001b[0m\n\u001b[1;32m   1305\u001b[0m             \u001b[0;32mreturn\u001b[0m \u001b[0msuper\u001b[0m\u001b[0;34m(\u001b[0m\u001b[0;34m)\u001b[0m\u001b[0;34m.\u001b[0m\u001b[0mrecv_into\u001b[0m\u001b[0;34m(\u001b[0m\u001b[0mbuffer\u001b[0m\u001b[0;34m,\u001b[0m \u001b[0mnbytes\u001b[0m\u001b[0;34m,\u001b[0m \u001b[0mflags\u001b[0m\u001b[0;34m)\u001b[0m\u001b[0;34m\u001b[0m\u001b[0;34m\u001b[0m\u001b[0m\n",
            "\u001b[0;32m/usr/lib/python3.10/ssl.py\u001b[0m in \u001b[0;36mread\u001b[0;34m(self, len, buffer)\u001b[0m\n\u001b[1;32m   1157\u001b[0m         \u001b[0;32mtry\u001b[0m\u001b[0;34m:\u001b[0m\u001b[0;34m\u001b[0m\u001b[0;34m\u001b[0m\u001b[0m\n\u001b[1;32m   1158\u001b[0m             \u001b[0;32mif\u001b[0m \u001b[0mbuffer\u001b[0m \u001b[0;32mis\u001b[0m \u001b[0;32mnot\u001b[0m \u001b[0;32mNone\u001b[0m\u001b[0;34m:\u001b[0m\u001b[0;34m\u001b[0m\u001b[0;34m\u001b[0m\u001b[0m\n\u001b[0;32m-> 1159\u001b[0;31m                 \u001b[0;32mreturn\u001b[0m \u001b[0mself\u001b[0m\u001b[0;34m.\u001b[0m\u001b[0m_sslobj\u001b[0m\u001b[0;34m.\u001b[0m\u001b[0mread\u001b[0m\u001b[0;34m(\u001b[0m\u001b[0mlen\u001b[0m\u001b[0;34m,\u001b[0m \u001b[0mbuffer\u001b[0m\u001b[0;34m)\u001b[0m\u001b[0;34m\u001b[0m\u001b[0;34m\u001b[0m\u001b[0m\n\u001b[0m\u001b[1;32m   1160\u001b[0m             \u001b[0;32melse\u001b[0m\u001b[0;34m:\u001b[0m\u001b[0;34m\u001b[0m\u001b[0;34m\u001b[0m\u001b[0m\n\u001b[1;32m   1161\u001b[0m                 \u001b[0;32mreturn\u001b[0m \u001b[0mself\u001b[0m\u001b[0;34m.\u001b[0m\u001b[0m_sslobj\u001b[0m\u001b[0;34m.\u001b[0m\u001b[0mread\u001b[0m\u001b[0;34m(\u001b[0m\u001b[0mlen\u001b[0m\u001b[0;34m)\u001b[0m\u001b[0;34m\u001b[0m\u001b[0;34m\u001b[0m\u001b[0m\n",
            "\u001b[0;31mKeyboardInterrupt\u001b[0m: "
          ]
        }
      ],
      "source": [
        "from langchain.document_loaders import UnstructuredPDFLoader\n",
        "from langchain.document_loaders import OnlinePDFLoader\n",
        "\n",
        "url = \"https://www.tesla.com/ns_videos/2021-tesla-impact-report.pdf\"\n",
        "loader = OnlinePDFLoader(url)\n",
        "data = loader.load()"
      ]
    },
    {
      "cell_type": "code",
      "execution_count": null,
      "metadata": {
        "id": "QC4epjtMBFUM"
      },
      "outputs": [],
      "source": [
        "!pip install docarray\n",
        "!pip install tiktoken"
      ]
    },
    {
      "cell_type": "code",
      "execution_count": null,
      "metadata": {
        "id": "usrVoawfBFQq"
      },
      "outputs": [],
      "source": [
        "from langchain.indexes import VectorstoreIndexCreator\n",
        "from langchain.vectorstores import DocArrayInMemorySearch\n",
        "\n",
        "index = VectorstoreIndexCreator(\n",
        "    vectorstore_cls=DocArrayInMemorySearch\n",
        ").from_loaders([loader])"
      ]
    },
    {
      "cell_type": "code",
      "execution_count": null,
      "metadata": {
        "id": "uOCLZACPBFNT"
      },
      "outputs": [],
      "source": [
        "index.query(\"What is the Scope 1 Emissions?\")"
      ]
    },
    {
      "cell_type": "code",
      "execution_count": null,
      "metadata": {
        "id": "Btcg91DNBFJp"
      },
      "outputs": [],
      "source": []
    },
    {
      "cell_type": "code",
      "execution_count": null,
      "metadata": {
        "id": "RcxWNSDjBFFy"
      },
      "outputs": [],
      "source": []
    },
    {
      "cell_type": "code",
      "execution_count": null,
      "metadata": {
        "id": "MJnxU3gpBFCK"
      },
      "outputs": [],
      "source": []
    }
  ],
  "metadata": {
    "colab": {
      "provenance": []
    },
    "kernelspec": {
      "display_name": "Python 3",
      "name": "python3"
    },
    "language_info": {
      "name": "python"
    },
    "widgets": {
      "application/vnd.jupyter.widget-state+json": {
        "0385680c0de84c258d57eff90a36cac5": {
          "model_module": "@jupyter-widgets/base",
          "model_module_version": "1.2.0",
          "model_name": "LayoutModel",
          "state": {
            "_model_module": "@jupyter-widgets/base",
            "_model_module_version": "1.2.0",
            "_model_name": "LayoutModel",
            "_view_count": null,
            "_view_module": "@jupyter-widgets/base",
            "_view_module_version": "1.2.0",
            "_view_name": "LayoutView",
            "align_content": null,
            "align_items": null,
            "align_self": null,
            "border": null,
            "bottom": null,
            "display": null,
            "flex": null,
            "flex_flow": null,
            "grid_area": null,
            "grid_auto_columns": null,
            "grid_auto_flow": null,
            "grid_auto_rows": null,
            "grid_column": null,
            "grid_gap": null,
            "grid_row": null,
            "grid_template_areas": null,
            "grid_template_columns": null,
            "grid_template_rows": null,
            "height": null,
            "justify_content": null,
            "justify_items": null,
            "left": null,
            "margin": null,
            "max_height": null,
            "max_width": null,
            "min_height": null,
            "min_width": null,
            "object_fit": null,
            "object_position": null,
            "order": null,
            "overflow": null,
            "overflow_x": null,
            "overflow_y": null,
            "padding": null,
            "right": null,
            "top": null,
            "visibility": null,
            "width": null
          }
        },
        "084405c29b13414ab818a6213f0dbfc3": {
          "model_module": "@jupyter-widgets/controls",
          "model_module_version": "1.5.0",
          "model_name": "DescriptionStyleModel",
          "state": {
            "_model_module": "@jupyter-widgets/controls",
            "_model_module_version": "1.5.0",
            "_model_name": "DescriptionStyleModel",
            "_view_count": null,
            "_view_module": "@jupyter-widgets/base",
            "_view_module_version": "1.2.0",
            "_view_name": "StyleView",
            "description_width": ""
          }
        },
        "22500a4e17574887bb5af6e8b29755b1": {
          "model_module": "@jupyter-widgets/base",
          "model_module_version": "1.2.0",
          "model_name": "LayoutModel",
          "state": {
            "_model_module": "@jupyter-widgets/base",
            "_model_module_version": "1.2.0",
            "_model_name": "LayoutModel",
            "_view_count": null,
            "_view_module": "@jupyter-widgets/base",
            "_view_module_version": "1.2.0",
            "_view_name": "LayoutView",
            "align_content": null,
            "align_items": null,
            "align_self": null,
            "border": null,
            "bottom": null,
            "display": null,
            "flex": null,
            "flex_flow": null,
            "grid_area": null,
            "grid_auto_columns": null,
            "grid_auto_flow": null,
            "grid_auto_rows": null,
            "grid_column": null,
            "grid_gap": null,
            "grid_row": null,
            "grid_template_areas": null,
            "grid_template_columns": null,
            "grid_template_rows": null,
            "height": null,
            "justify_content": null,
            "justify_items": null,
            "left": null,
            "margin": null,
            "max_height": null,
            "max_width": null,
            "min_height": null,
            "min_width": null,
            "object_fit": null,
            "object_position": null,
            "order": null,
            "overflow": null,
            "overflow_x": null,
            "overflow_y": null,
            "padding": null,
            "right": null,
            "top": null,
            "visibility": null,
            "width": null
          }
        },
        "8b4dd772dcf647e98b6734f7a987f1fc": {
          "model_module": "@jupyter-widgets/controls",
          "model_module_version": "1.5.0",
          "model_name": "FloatProgressModel",
          "state": {
            "_dom_classes": [],
            "_model_module": "@jupyter-widgets/controls",
            "_model_module_version": "1.5.0",
            "_model_name": "FloatProgressModel",
            "_view_count": null,
            "_view_module": "@jupyter-widgets/controls",
            "_view_module_version": "1.5.0",
            "_view_name": "ProgressView",
            "bar_style": "success",
            "description": "",
            "description_tooltip": null,
            "layout": "IPY_MODEL_22500a4e17574887bb5af6e8b29755b1",
            "max": 30,
            "min": 0,
            "orientation": "horizontal",
            "style": "IPY_MODEL_b1974d4805344feb86166672c6859b84",
            "value": 30
          }
        },
        "8f09e23ae2b240ebbacf1b20b0e55c5d": {
          "model_module": "@jupyter-widgets/base",
          "model_module_version": "1.2.0",
          "model_name": "LayoutModel",
          "state": {
            "_model_module": "@jupyter-widgets/base",
            "_model_module_version": "1.2.0",
            "_model_name": "LayoutModel",
            "_view_count": null,
            "_view_module": "@jupyter-widgets/base",
            "_view_module_version": "1.2.0",
            "_view_name": "LayoutView",
            "align_content": null,
            "align_items": null,
            "align_self": null,
            "border": null,
            "bottom": null,
            "display": null,
            "flex": null,
            "flex_flow": null,
            "grid_area": null,
            "grid_auto_columns": null,
            "grid_auto_flow": null,
            "grid_auto_rows": null,
            "grid_column": null,
            "grid_gap": null,
            "grid_row": null,
            "grid_template_areas": null,
            "grid_template_columns": null,
            "grid_template_rows": null,
            "height": null,
            "justify_content": null,
            "justify_items": null,
            "left": null,
            "margin": null,
            "max_height": null,
            "max_width": null,
            "min_height": null,
            "min_width": null,
            "object_fit": null,
            "object_position": null,
            "order": null,
            "overflow": null,
            "overflow_x": null,
            "overflow_y": null,
            "padding": null,
            "right": null,
            "top": null,
            "visibility": null,
            "width": null
          }
        },
        "a80c672023ff4a49a1a73db523a606a4": {
          "model_module": "@jupyter-widgets/base",
          "model_module_version": "1.2.0",
          "model_name": "LayoutModel",
          "state": {
            "_model_module": "@jupyter-widgets/base",
            "_model_module_version": "1.2.0",
            "_model_name": "LayoutModel",
            "_view_count": null,
            "_view_module": "@jupyter-widgets/base",
            "_view_module_version": "1.2.0",
            "_view_name": "LayoutView",
            "align_content": null,
            "align_items": null,
            "align_self": null,
            "border": null,
            "bottom": null,
            "display": null,
            "flex": null,
            "flex_flow": null,
            "grid_area": null,
            "grid_auto_columns": null,
            "grid_auto_flow": null,
            "grid_auto_rows": null,
            "grid_column": null,
            "grid_gap": null,
            "grid_row": null,
            "grid_template_areas": null,
            "grid_template_columns": null,
            "grid_template_rows": null,
            "height": null,
            "justify_content": null,
            "justify_items": null,
            "left": null,
            "margin": null,
            "max_height": null,
            "max_width": null,
            "min_height": null,
            "min_width": null,
            "object_fit": null,
            "object_position": null,
            "order": null,
            "overflow": null,
            "overflow_x": null,
            "overflow_y": null,
            "padding": null,
            "right": null,
            "top": null,
            "visibility": null,
            "width": null
          }
        },
        "b1974d4805344feb86166672c6859b84": {
          "model_module": "@jupyter-widgets/controls",
          "model_module_version": "1.5.0",
          "model_name": "ProgressStyleModel",
          "state": {
            "_model_module": "@jupyter-widgets/controls",
            "_model_module_version": "1.5.0",
            "_model_name": "ProgressStyleModel",
            "_view_count": null,
            "_view_module": "@jupyter-widgets/base",
            "_view_module_version": "1.2.0",
            "_view_name": "StyleView",
            "bar_color": null,
            "description_width": ""
          }
        },
        "b9a0d275e2a94682b7bdd8d7e8ee1f80": {
          "model_module": "@jupyter-widgets/controls",
          "model_module_version": "1.5.0",
          "model_name": "HTMLModel",
          "state": {
            "_dom_classes": [],
            "_model_module": "@jupyter-widgets/controls",
            "_model_module_version": "1.5.0",
            "_model_name": "HTMLModel",
            "_view_count": null,
            "_view_module": "@jupyter-widgets/controls",
            "_view_module_version": "1.5.0",
            "_view_name": "HTMLView",
            "description": "",
            "description_tooltip": null,
            "layout": "IPY_MODEL_a80c672023ff4a49a1a73db523a606a4",
            "placeholder": "​",
            "style": "IPY_MODEL_e94a839d162846cc93b76d76cb79dbb7",
            "value": " 30/30 [01:22&lt;00:00,  2.13s/it]"
          }
        },
        "bf1e960a079c47b78cba1e9b2410e2b2": {
          "model_module": "@jupyter-widgets/controls",
          "model_module_version": "1.5.0",
          "model_name": "HTMLModel",
          "state": {
            "_dom_classes": [],
            "_model_module": "@jupyter-widgets/controls",
            "_model_module_version": "1.5.0",
            "_model_name": "HTMLModel",
            "_view_count": null,
            "_view_module": "@jupyter-widgets/controls",
            "_view_module_version": "1.5.0",
            "_view_name": "HTMLView",
            "description": "",
            "description_tooltip": null,
            "layout": "IPY_MODEL_8f09e23ae2b240ebbacf1b20b0e55c5d",
            "placeholder": "​",
            "style": "IPY_MODEL_084405c29b13414ab818a6213f0dbfc3",
            "value": "100%"
          }
        },
        "e94a839d162846cc93b76d76cb79dbb7": {
          "model_module": "@jupyter-widgets/controls",
          "model_module_version": "1.5.0",
          "model_name": "DescriptionStyleModel",
          "state": {
            "_model_module": "@jupyter-widgets/controls",
            "_model_module_version": "1.5.0",
            "_model_name": "DescriptionStyleModel",
            "_view_count": null,
            "_view_module": "@jupyter-widgets/base",
            "_view_module_version": "1.2.0",
            "_view_name": "StyleView",
            "description_width": ""
          }
        },
        "ee858599f9d541fa927b5ec084f75da4": {
          "model_module": "@jupyter-widgets/controls",
          "model_module_version": "1.5.0",
          "model_name": "HBoxModel",
          "state": {
            "_dom_classes": [],
            "_model_module": "@jupyter-widgets/controls",
            "_model_module_version": "1.5.0",
            "_model_name": "HBoxModel",
            "_view_count": null,
            "_view_module": "@jupyter-widgets/controls",
            "_view_module_version": "1.5.0",
            "_view_name": "HBoxView",
            "box_style": "",
            "children": [
              "IPY_MODEL_bf1e960a079c47b78cba1e9b2410e2b2",
              "IPY_MODEL_8b4dd772dcf647e98b6734f7a987f1fc",
              "IPY_MODEL_b9a0d275e2a94682b7bdd8d7e8ee1f80"
            ],
            "layout": "IPY_MODEL_0385680c0de84c258d57eff90a36cac5"
          }
        }
      }
    }
  },
  "nbformat": 4,
  "nbformat_minor": 0
}
