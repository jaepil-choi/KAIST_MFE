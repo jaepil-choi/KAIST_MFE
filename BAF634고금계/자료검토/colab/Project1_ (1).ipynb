{
 "cells": [
  {
   "cell_type": "code",
   "execution_count": null,
   "id": "eb2506a3",
   "metadata": {
    "colab": {
     "base_uri": "https://localhost:8080/"
    },
    "id": "lfUtAoQ0n66T",
    "outputId": "5e092793-c980-4f58-e7d0-d9b09e27ad11"
   },
   "outputs": [],
   "source": [
    "pip install python-dotenv"
   ]
  },
  {
   "cell_type": "code",
   "execution_count": null,
   "id": "9628ccd6",
   "metadata": {
    "id": "YpbF9bbNeJu_",
    "lines_to_next_cell": 2
   },
   "outputs": [],
   "source": [
    "# import os\n",
    "# from dotenv import load_dotenv, find_dotenv\n",
    "# _= load_dotenv(find_dotenv())\n",
    "\n",
    "# ap =os.getenv(\"MY_VAR\")"
   ]
  },
  {
   "cell_type": "code",
   "execution_count": null,
   "id": "0c08cef7",
   "metadata": {
    "id": "4l9Clt5rqb7A"
   },
   "outputs": [],
   "source": [
    "# !pip install langchain\n",
    "# !pip install openai"
   ]
  },
  {
   "cell_type": "code",
   "execution_count": null,
   "id": "9e760e29",
   "metadata": {
    "colab": {
     "base_uri": "https://localhost:8080/"
    },
    "id": "s-ImCydtuahh",
    "lines_to_next_cell": 2,
    "outputId": "c4806843-df10-4624-b15c-d2655cb3da34"
   },
   "outputs": [],
   "source": [
    "!pip install -U langchain-openai\n",
    "!pip install langchain"
   ]
  },
  {
   "cell_type": "code",
   "execution_count": null,
   "id": "138b2d78",
   "metadata": {
    "id": "E68TvgAvqi9c"
   },
   "outputs": [],
   "source": [
    "# prompt: 어떻게 api_key를 넣는가?\n",
    "import os\n",
    "from langchain_openai import ChatOpenAI\n",
    "from dotenv import load_dotenv, find_dotenv\n",
    "\n",
    "# Load the environment variables from the .env file\n",
    "load_dotenv(find_dotenv())\n",
    "\n",
    "# Get the OpenAI API key from the environment variables\n",
    "api_key = os.getenv(\"OPENAI_API_KEY\")"
   ]
  },
  {
   "cell_type": "code",
   "execution_count": null,
   "id": "76049b3c",
   "metadata": {},
   "outputs": [],
   "source": [
    "api_key = 'YOUR API KEY'"
   ]
  },
  {
   "cell_type": "code",
   "execution_count": null,
   "id": "0c7c05c1",
   "metadata": {
    "id": "fqnH_TF0rF3d"
   },
   "outputs": [],
   "source": [
    "chat=ChatOpenAI(temperature=0,\n",
    "                openai_api_key=api_key,\n",
    "                )"
   ]
  },
  {
   "cell_type": "markdown",
   "id": "fa97ec80",
   "metadata": {
    "id": "O5da_Wwf7ZVL"
   },
   "source": [
    "Custom Tools"
   ]
  },
  {
   "cell_type": "code",
   "execution_count": null,
   "id": "55282824",
   "metadata": {
    "colab": {
     "base_uri": "https://localhost:8080/"
    },
    "id": "PXQaXdH2uDrb",
    "outputId": "2be44e7e-de17-4687-b98a-8bd9215d4df5"
   },
   "outputs": [],
   "source": [
    "from langchain.prompts import ChatPromptTemplate\n",
    "from langchain.chains import LLMChain\n",
    "\n",
    "template = \"\"\"Question: {question}\n",
    "Answer:\n",
    "\"\"\"\n",
    "prompt = ChatPromptTemplate.from_template(template)\n",
    "\n",
    "llm_chain = LLMChain(\n",
    "    prompt = prompt,\n",
    "    llm = chat\n",
    ")\n",
    "\n",
    "print(llm_chain.invoke(\"What are Tesla's revenue in 2022?\"))"
   ]
  },
  {
   "cell_type": "code",
   "execution_count": null,
   "id": "5c255ef1",
   "metadata": {},
   "outputs": [],
   "source": [
    "!pip install langchain-community # Install the langchain_community package"
   ]
  },
  {
   "cell_type": "code",
   "execution_count": null,
   "id": "c9ac4096",
   "metadata": {
    "colab": {
     "base_uri": "https://localhost:8080/"
    },
    "id": "yaHvvdUt5q2u",
    "outputId": "12a92cd5-0d21-446f-edf5-31bc977e67fd"
   },
   "outputs": [],
   "source": [
    "!pip install duckduckgo-search"
   ]
  },
  {
   "cell_type": "code",
   "execution_count": null,
   "id": "440a32e9",
   "metadata": {
    "colab": {
     "base_uri": "https://localhost:8080/",
     "height": 105
    },
    "id": "DagiNO4l5qyt",
    "outputId": "b805bfe7-094d-409d-823b-ece1d5524392"
   },
   "outputs": [],
   "source": [
    "from langchain.tools import DuckDuckGoSearchRun\n",
    "\n",
    "search = DuckDuckGoSearchRun()\n",
    "search.invoke(\"Tesla stock price?\")"
   ]
  },
  {
   "cell_type": "code",
   "execution_count": null,
   "id": "1396ce4e",
   "metadata": {
    "id": "SqEx-nYc5qvE"
   },
   "outputs": [],
   "source": [
    "from langchain.tools import Tool\n",
    "\n",
    "duckduckgo_tool = Tool(\n",
    "    name = 'DuckDuckGo Search',\n",
    "    func = search.run,\n",
    "    description = \"Useful for when you need to do a search on the internet to find information that another tool can't find. be specific with your input.\"\n",
    ")"
   ]
  },
  {
   "cell_type": "code",
   "execution_count": null,
   "id": "a96c15c6",
   "metadata": {
    "colab": {
     "base_uri": "https://localhost:8080/"
    },
    "id": "l4NFw9DU5qrJ",
    "outputId": "5aedfb97-2d87-47ae-e28d-dd8b9e1e3045"
   },
   "outputs": [],
   "source": [
    "from langchain.agents import AgentType\n",
    "from langchain.agents import load_tools, initialize_agent\n",
    "\n",
    "tools = [duckduckgo_tool]\n",
    "\n",
    "agent = initialize_agent(\n",
    "    tools,\n",
    "    chat,\n",
    "    agent = AgentType.CHAT_ZERO_SHOT_REACT_DESCRIPTION,\n",
    "    handle_parsing_errors = True,\n",
    "    verbose = True\n",
    ")"
   ]
  },
  {
   "cell_type": "code",
   "execution_count": null,
   "id": "860199f9",
   "metadata": {
    "colab": {
     "base_uri": "https://localhost:8080/",
     "height": 333
    },
    "id": "IaczkNHy5qj6",
    "outputId": "458dbdba-515b-44f5-acf0-a6ee2c70a6e4"
   },
   "outputs": [],
   "source": [
    "agent.run(\"What are Tesla's revenue in 2022?\")"
   ]
  },
  {
   "cell_type": "markdown",
   "id": "7d1bd9c7",
   "metadata": {
    "id": "1vxjbDMp-jE_"
   },
   "source": [
    "ChatGPT as a Financial Information Extractor"
   ]
  },
  {
   "cell_type": "code",
   "execution_count": null,
   "id": "15110a3c",
   "metadata": {
    "id": "Xe7xmrIE-iSs"
   },
   "outputs": [],
   "source": [
    "from langchain.prompts import ChatPromptTemplate\n",
    "from langchain.chains import LLMChain\n",
    "\n",
    "extraction_template = \"\"\"Your task:\\n\\\n",
    "Find the value of revenue in the given content.\\n\\\n",
    "If you can't find the value, please output \"None\".\\n\\\n",
    "\n",
    "Example 1:\\n\\\n",
    "The amount of Apple's annual revenue in 2021 was $365.817B.\n",
    "Result: 365.817\n",
    "\n",
    "Given content: {text}\n",
    "Result:\n",
    "\"\"\"\n",
    "extraction_prompt = ChatPromptTemplate.from_template(extraction_template)\n",
    "\n",
    "extraction_chain = LLMChain(\n",
    "    prompt = extraction_prompt,\n",
    "    llm = chat\n",
    ")"
   ]
  },
  {
   "cell_type": "code",
   "execution_count": null,
   "id": "7016a7ee",
   "metadata": {
    "colab": {
     "base_uri": "https://localhost:8080/",
     "height": 784
    },
    "id": "LvUXJJJG-iMe",
    "outputId": "2a91bdaf-1f5d-49d5-a0fc-a9ddb09fb911"
   },
   "outputs": [],
   "source": [
    "from langchain.chains import SimpleSequentialChain\n",
    "\n",
    "overall_chain = SimpleSequentialChain(chains = [agent, extraction_chain],\n",
    "                                      verbose = True)\n",
    "\n",
    "overall_chain.run(\"What are Tesla's revenue in 2022?\")"
   ]
  },
  {
   "cell_type": "code",
   "execution_count": null,
   "id": "713c04d2",
   "metadata": {
    "colab": {
     "base_uri": "https://localhost:8080/",
     "height": 437
    },
    "id": "gumNagkn-iIR",
    "outputId": "26fcbc12-2737-408f-ece7-886edcf2da78"
   },
   "outputs": [],
   "source": [
    "from langchain.chains import SimpleSequentialChain\n",
    "\n",
    "overall_chain = SimpleSequentialChain(chains = [agent, extraction_chain],\n",
    "                                      verbose = True)\n",
    "\n",
    "overall_chain.run(\"테슬러의 2022년 매출은 얼마인가?\")"
   ]
  },
  {
   "cell_type": "markdown",
   "id": "da244f5f",
   "metadata": {
    "id": "tnfaSnNu_igS"
   },
   "source": [
    "# 연습문제"
   ]
  },
  {
   "cell_type": "code",
   "execution_count": null,
   "id": "7898c46c",
   "metadata": {
    "id": "SKp8Nbqc-iEF"
   },
   "outputs": [],
   "source": [
    "from langchain.prompts import ChatPromptTemplate\n",
    "from langchain.chains import LLMChain\n",
    "\n",
    "template = \"\"\"Your task:\\n\\\n",
    "Find the value of Scope 1 emissions in the given content.\\n\\\n",
    "If you can't find the value, please output \"None\".\\n\\\n",
    "\n",
    "Example 1:\\n\\\n",
    "TotalEnergies' latest Scope 1 emissions were 32 million metric tons\\\n",
    " of carbon dioxide in 2021.\n",
    "Result: 32.0\n",
    "\n",
    "Given content: {text}\n",
    "Result:\n",
    "\"\"\"\n",
    "prompt = ChatPromptTemplate.from_template(template)\n",
    "\n",
    "llm_chain = LLMChain(\n",
    "    prompt = prompt,\n",
    "    llm = chat\n",
    ")"
   ]
  },
  {
   "cell_type": "code",
   "execution_count": null,
   "id": "4bf8a630",
   "metadata": {
    "id": "0Y2qnO2l-iAi"
   },
   "outputs": [],
   "source": [
    "from langchain.chains import SimpleSequentialChain\n",
    "\n",
    "overall_chain = SimpleSequentialChain(\n",
    "    chains = [agent, llm_chain],\n",
    "    verbose = True\n",
    ")"
   ]
  },
  {
   "cell_type": "code",
   "execution_count": null,
   "id": "336d2b34",
   "metadata": {
    "colab": {
     "base_uri": "https://localhost:8080/",
     "height": 1000,
     "referenced_widgets": [
      "ee858599f9d541fa927b5ec084f75da4",
      "bf1e960a079c47b78cba1e9b2410e2b2",
      "8b4dd772dcf647e98b6734f7a987f1fc",
      "b9a0d275e2a94682b7bdd8d7e8ee1f80",
      "0385680c0de84c258d57eff90a36cac5",
      "8f09e23ae2b240ebbacf1b20b0e55c5d",
      "084405c29b13414ab818a6213f0dbfc3",
      "22500a4e17574887bb5af6e8b29755b1",
      "b1974d4805344feb86166672c6859b84",
      "a80c672023ff4a49a1a73db523a606a4",
      "e94a839d162846cc93b76d76cb79dbb7"
     ]
    },
    "id": "tX9inYGH-h9I",
    "outputId": "95327014-c1de-4ef0-b5a4-da2c7cd668d8"
   },
   "outputs": [],
   "source": [
    "from tqdm.notebook import tqdm\n",
    "\n",
    "list_companies = ['AT&T',\n",
    " 'Apple Inc.',\n",
    " 'Bank of America',\n",
    " 'Boeing',\n",
    " 'CVS Health',\n",
    " 'Chevron Corporation',\n",
    " 'Cisco',\n",
    " 'Citigroup',\n",
    " 'Disney',\n",
    " 'Dominion Energy',\n",
    " 'ExxonMobil',\n",
    " 'Ford Motor Company',\n",
    " 'General Electric',\n",
    " 'Home Depot (The)',\n",
    " 'IBM',\n",
    " 'Intel',\n",
    " 'JPMorgan Chase',\n",
    " 'Johnson & Johnson',\n",
    " \"Kellogg's\",\n",
    " 'McKesson',\n",
    " 'Merck & Co.',\n",
    " 'Microsoft',\n",
    " 'Oracle Corporation',\n",
    " 'Pfizer',\n",
    " 'Procter & Gamble',\n",
    " 'United Parcel Service',\n",
    " 'UnitedHealth Group',\n",
    " 'Verizon',\n",
    " 'Walmart',\n",
    " 'Wells Fargo']\n",
    "\n",
    "list_results = []\n",
    "\n",
    "for i in tqdm(range(len(list_companies))):\n",
    "  try:\n",
    "    response = overall_chain.run(f\"What is the amount of {list_companies[i]} Scope 1 emissions?\")\n",
    "  except:\n",
    "    response = \"None\"\n",
    "  list_results.append(response)"
   ]
  },
  {
   "cell_type": "code",
   "execution_count": null,
   "id": "a45e0422",
   "metadata": {
    "id": "gKDSlLvZ-h5d"
   },
   "outputs": [],
   "source": [
    "list_results"
   ]
  },
  {
   "cell_type": "markdown",
   "id": "156e4da7",
   "metadata": {
    "id": "6dIXSulFAvzn"
   },
   "source": [
    "Sustainability Report as a Knowledge Base"
   ]
  },
  {
   "cell_type": "code",
   "execution_count": null,
   "id": "9c7dd610",
   "metadata": {
    "colab": {
     "base_uri": "https://localhost:8080/"
    },
    "id": "vfrPNNwf-h1k",
    "outputId": "728e0dfa-a4b1-4911-f36c-ce75ad2e8c61"
   },
   "outputs": [],
   "source": [
    "!pip install unstructured\n",
    "!pip install pypdf\n",
    "!pip install pdf2image"
   ]
  },
  {
   "cell_type": "code",
   "execution_count": null,
   "id": "86518097",
   "metadata": {
    "colab": {
     "base_uri": "https://localhost:8080/",
     "height": 339
    },
    "id": "vMLYSAdOBFYp",
    "outputId": "b67cf6e7-6be2-46c7-af28-eb26ff024113"
   },
   "outputs": [],
   "source": [
    "from langchain.document_loaders import UnstructuredPDFLoader\n",
    "from langchain.document_loaders import OnlinePDFLoader\n",
    "\n",
    "url = \"https://www.tesla.com/ns_videos/2021-tesla-impact-report.pdf\"\n",
    "loader = OnlinePDFLoader(url)\n",
    "data = loader.load()"
   ]
  },
  {
   "cell_type": "code",
   "execution_count": null,
   "id": "fd5ecc42",
   "metadata": {
    "id": "QC4epjtMBFUM"
   },
   "outputs": [],
   "source": [
    "!pip install docarray\n",
    "!pip install tiktoken"
   ]
  },
  {
   "cell_type": "code",
   "execution_count": null,
   "id": "8ac84493",
   "metadata": {
    "id": "usrVoawfBFQq"
   },
   "outputs": [],
   "source": [
    "from langchain.indexes import VectorstoreIndexCreator\n",
    "from langchain.vectorstores import DocArrayInMemorySearch\n",
    "\n",
    "index = VectorstoreIndexCreator(\n",
    "    vectorstore_cls=DocArrayInMemorySearch\n",
    ").from_loaders([loader])"
   ]
  },
  {
   "cell_type": "code",
   "execution_count": null,
   "id": "c292f206",
   "metadata": {
    "id": "uOCLZACPBFNT"
   },
   "outputs": [],
   "source": [
    "index.query(\"What is the Scope 1 Emissions?\")"
   ]
  },
  {
   "cell_type": "code",
   "execution_count": null,
   "id": "98790858",
   "metadata": {
    "id": "Btcg91DNBFJp"
   },
   "outputs": [],
   "source": []
  },
  {
   "cell_type": "code",
   "execution_count": null,
   "id": "99e24187",
   "metadata": {
    "id": "RcxWNSDjBFFy"
   },
   "outputs": [],
   "source": []
  },
  {
   "cell_type": "code",
   "execution_count": null,
   "id": "62e6624a",
   "metadata": {
    "id": "MJnxU3gpBFCK"
   },
   "outputs": [],
   "source": []
  }
 ],
 "metadata": {
  "jupytext": {
   "main_language": "python"
  },
  "kernelspec": {
   "display_name": "Python 3",
   "name": "python3"
  }
 },
 "nbformat": 4,
 "nbformat_minor": 5
}
