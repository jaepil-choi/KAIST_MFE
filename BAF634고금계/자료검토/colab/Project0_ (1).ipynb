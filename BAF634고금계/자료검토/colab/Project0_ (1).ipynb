{
  "cells": [
    {
      "cell_type": "code",
      "execution_count": null,
      "metadata": {
        "colab": {
          "base_uri": "https://localhost:8080/"
        },
        "id": "lfUtAoQ0n66T",
        "outputId": "9336748b-ca09-43aa-eeaf-509915e4ea3b"
      },
      "outputs": [
        {
          "name": "stdout",
          "output_type": "stream",
          "text": [
            "Collecting python-dotenv\n",
            "  Downloading python_dotenv-1.0.1-py3-none-any.whl (19 kB)\n",
            "Installing collected packages: python-dotenv\n",
            "Successfully installed python-dotenv-1.0.1\n"
          ]
        }
      ],
      "source": [
        "pip install python-dotenv"
      ]
    },
    {
      "cell_type": "code",
      "execution_count": null,
      "metadata": {
        "id": "YpbF9bbNeJu_"
      },
      "outputs": [],
      "source": [
        "import os\n",
        "# from dotenv import load_dotenv, find_dotenv\n",
        "# _= load_dotenv(find_dotenv())\n",
        "\n",
        "# ap =os.getenv(\"MY_VAR\")\n"
      ]
    },
    {
      "cell_type": "code",
      "execution_count": null,
      "metadata": {
        "id": "4l9Clt5rqb7A"
      },
      "outputs": [],
      "source": [
        "!pip install langchain\n",
        "!pip install openai\n",
        "!pip install langchain-community # Install the langchain_community package"
      ]
    },
    {
      "cell_type": "code",
      "execution_count": null,
      "metadata": {
        "colab": {
          "base_uri": "https://localhost:8080/"
        },
        "id": "s-ImCydtuahh",
        "outputId": "06f55c70-efe9-49ba-af4c-665a02a0bb8c"
      },
      "outputs": [
        {
          "name": "stdout",
          "output_type": "stream",
          "text": [
            "Collecting langchain-openai\n",
            "  Downloading langchain_openai-0.0.8-py3-none-any.whl (32 kB)\n",
            "Requirement already satisfied: langchain-core<0.2.0,>=0.1.27 in /usr/local/lib/python3.10/dist-packages (from langchain-openai) (0.1.27)\n",
            "Requirement already satisfied: openai<2.0.0,>=1.10.0 in /usr/local/lib/python3.10/dist-packages (from langchain-openai) (1.13.3)\n",
            "Collecting tiktoken<1,>=0.5.2 (from langchain-openai)\n",
            "  Downloading tiktoken-0.6.0-cp310-cp310-manylinux_2_17_x86_64.manylinux2014_x86_64.whl (1.8 MB)\n",
            "\u001b[2K     \u001b[90m━━━━━━━━━━━━━━━━━━━━━━━━━━━━━━━━━━━━━━━━\u001b[0m \u001b[32m1.8/1.8 MB\u001b[0m \u001b[31m18.8 MB/s\u001b[0m eta \u001b[36m0:00:00\u001b[0m\n",
            "\u001b[?25hRequirement already satisfied: PyYAML>=5.3 in /usr/local/lib/python3.10/dist-packages (from langchain-core<0.2.0,>=0.1.27->langchain-openai) (6.0.1)\n",
            "Requirement already satisfied: anyio<5,>=3 in /usr/local/lib/python3.10/dist-packages (from langchain-core<0.2.0,>=0.1.27->langchain-openai) (3.7.1)\n",
            "Requirement already satisfied: jsonpatch<2.0,>=1.33 in /usr/local/lib/python3.10/dist-packages (from langchain-core<0.2.0,>=0.1.27->langchain-openai) (1.33)\n",
            "Requirement already satisfied: langsmith<0.2.0,>=0.1.0 in /usr/local/lib/python3.10/dist-packages (from langchain-core<0.2.0,>=0.1.27->langchain-openai) (0.1.10)\n",
            "Requirement already satisfied: packaging<24.0,>=23.2 in /usr/local/lib/python3.10/dist-packages (from langchain-core<0.2.0,>=0.1.27->langchain-openai) (23.2)\n",
            "Requirement already satisfied: pydantic<3,>=1 in /usr/local/lib/python3.10/dist-packages (from langchain-core<0.2.0,>=0.1.27->langchain-openai) (2.6.1)\n",
            "Requirement already satisfied: requests<3,>=2 in /usr/local/lib/python3.10/dist-packages (from langchain-core<0.2.0,>=0.1.27->langchain-openai) (2.31.0)\n",
            "Requirement already satisfied: tenacity<9.0.0,>=8.1.0 in /usr/local/lib/python3.10/dist-packages (from langchain-core<0.2.0,>=0.1.27->langchain-openai) (8.2.3)\n",
            "Requirement already satisfied: distro<2,>=1.7.0 in /usr/lib/python3/dist-packages (from openai<2.0.0,>=1.10.0->langchain-openai) (1.7.0)\n",
            "Requirement already satisfied: httpx<1,>=0.23.0 in /usr/local/lib/python3.10/dist-packages (from openai<2.0.0,>=1.10.0->langchain-openai) (0.27.0)\n",
            "Requirement already satisfied: sniffio in /usr/local/lib/python3.10/dist-packages (from openai<2.0.0,>=1.10.0->langchain-openai) (1.3.0)\n",
            "Requirement already satisfied: tqdm>4 in /usr/local/lib/python3.10/dist-packages (from openai<2.0.0,>=1.10.0->langchain-openai) (4.66.2)\n",
            "Requirement already satisfied: typing-extensions<5,>=4.7 in /usr/local/lib/python3.10/dist-packages (from openai<2.0.0,>=1.10.0->langchain-openai) (4.9.0)\n",
            "Requirement already satisfied: regex>=2022.1.18 in /usr/local/lib/python3.10/dist-packages (from tiktoken<1,>=0.5.2->langchain-openai) (2023.12.25)\n",
            "Requirement already satisfied: idna>=2.8 in /usr/local/lib/python3.10/dist-packages (from anyio<5,>=3->langchain-core<0.2.0,>=0.1.27->langchain-openai) (3.6)\n",
            "Requirement already satisfied: exceptiongroup in /usr/local/lib/python3.10/dist-packages (from anyio<5,>=3->langchain-core<0.2.0,>=0.1.27->langchain-openai) (1.2.0)\n",
            "Requirement already satisfied: certifi in /usr/local/lib/python3.10/dist-packages (from httpx<1,>=0.23.0->openai<2.0.0,>=1.10.0->langchain-openai) (2024.2.2)\n",
            "Requirement already satisfied: httpcore==1.* in /usr/local/lib/python3.10/dist-packages (from httpx<1,>=0.23.0->openai<2.0.0,>=1.10.0->langchain-openai) (1.0.4)\n",
            "Requirement already satisfied: h11<0.15,>=0.13 in /usr/local/lib/python3.10/dist-packages (from httpcore==1.*->httpx<1,>=0.23.0->openai<2.0.0,>=1.10.0->langchain-openai) (0.14.0)\n",
            "Requirement already satisfied: jsonpointer>=1.9 in /usr/local/lib/python3.10/dist-packages (from jsonpatch<2.0,>=1.33->langchain-core<0.2.0,>=0.1.27->langchain-openai) (2.4)\n",
            "Requirement already satisfied: orjson<4.0.0,>=3.9.14 in /usr/local/lib/python3.10/dist-packages (from langsmith<0.2.0,>=0.1.0->langchain-core<0.2.0,>=0.1.27->langchain-openai) (3.9.15)\n",
            "Requirement already satisfied: annotated-types>=0.4.0 in /usr/local/lib/python3.10/dist-packages (from pydantic<3,>=1->langchain-core<0.2.0,>=0.1.27->langchain-openai) (0.6.0)\n",
            "Requirement already satisfied: pydantic-core==2.16.2 in /usr/local/lib/python3.10/dist-packages (from pydantic<3,>=1->langchain-core<0.2.0,>=0.1.27->langchain-openai) (2.16.2)\n",
            "Requirement already satisfied: charset-normalizer<4,>=2 in /usr/local/lib/python3.10/dist-packages (from requests<3,>=2->langchain-core<0.2.0,>=0.1.27->langchain-openai) (3.3.2)\n",
            "Requirement already satisfied: urllib3<3,>=1.21.1 in /usr/local/lib/python3.10/dist-packages (from requests<3,>=2->langchain-core<0.2.0,>=0.1.27->langchain-openai) (2.0.7)\n",
            "Installing collected packages: tiktoken, langchain-openai\n",
            "Successfully installed langchain-openai-0.0.8 tiktoken-0.6.0\n"
          ]
        }
      ],
      "source": [
        "pip install -U langchain-openai"
      ]
    },
    {
      "cell_type": "code",
      "execution_count": null,
      "metadata": {
        "id": "E68TvgAvqi9c"
      },
      "outputs": [],
      "source": [
        "# prompt: 어떻게 api_key를 넣는가?\n",
        "\n",
        "from langchain_openai import ChatOpenAI\n",
        "from dotenv import load_dotenv, find_dotenv\n",
        "\n",
        "# Load the environment variables from the .env file\n",
        "load_dotenv(find_dotenv())\n",
        "\n",
        "# Get the OpenAI API key from the environment variables\n",
        "api_key = os.getenv(\"OPENAI_API_KEY\")"
      ]
    },
    {
      "cell_type": "code",
      "execution_count": null,
      "metadata": {
        "colab": {
          "base_uri": "https://localhost:8080/"
        },
        "id": "GBTRomSctof1",
        "outputId": "162f6713-ab25-47f1-9ab2-2fd103381244"
      },
      "outputs": [
        {
          "name": "stdout",
          "output_type": "stream",
          "text": [
            "generations=[[Generation(text='\\n\\nHello world!\\n\\nHello world!\\n\\nHello world!\\n\\nHello world!\\n\\nHello world!\\n\\nHello world!\\n\\nHello world!\\n\\nHello world!\\n\\nHello world!\\n\\nHello world!\\n\\nHello world!\\n\\nHello world!\\n\\nHello world!\\n\\nHello world!\\n\\nHello world!\\n\\nHello world!\\n\\nHello world!\\n\\nHello world!\\n\\nHello world!\\n\\nHello world!\\n\\nHello world!\\n\\nHello world!\\n\\nHello world!\\n\\nHello world!\\n\\nHello world!\\n\\nHello world!\\n\\nHello world!\\n\\nHello world!\\n\\nHello world!\\n\\nHello world!\\n\\nHello world!\\n\\nHello world!\\n\\nHello world!\\n\\nHello world!\\n\\nHello world!\\n\\nHello world!\\n\\nHello world!\\n\\nHello world!\\n\\nHello world!\\n\\nHello world!\\n\\nHello world!\\n\\nHello world!\\n\\nHello world!\\n\\nHello world!\\n\\nHello world!\\n\\nHello world!\\n\\nHello world!\\n\\nHello world!\\n\\nHello world!\\n\\nHello world!\\n\\nHello world!\\n\\nHello world!\\n\\nHello world!\\n\\nHello world!\\n\\nHello world!\\n\\nHello world!\\n\\nHello world!\\n\\nHello world!\\n\\nHello world!\\n\\nHello world!\\n\\nHello world!\\n\\nHello world!\\n\\nHello world!\\n\\nHello world!', generation_info={'finish_reason': 'length', 'logprobs': None})]] llm_output={'token_usage': {'prompt_tokens': 3, 'completion_tokens': 256, 'total_tokens': 259}, 'model_name': 'gpt-3.5-turbo-instruct'} run=[RunInfo(run_id=UUID('cbd03976-9bcf-47c5-8d09-3f46abfe5ed0'))]\n"
          ]
        }
      ],
      "source": [
        "from langchain.llms import OpenAI \n",
        "\n",
        "api_key = \"YOUR API KEY HERE\"\n",
        "\n",
        "# Create an OpenAI object using the API key\n",
        "llm = OpenAI(temperature=0, openai_api_key=api_key)\n",
        "\n",
        "# Use the llm object to interact with the OpenAI API\n",
        "response = llm.generate([\"Hello world!\"])\n",
        "\n",
        "# Print the response\n",
        "print(response)"
      ]
    },
    {
      "cell_type": "code",
      "execution_count": null,
      "metadata": {
        "id": "fqnH_TF0rF3d"
      },
      "outputs": [],
      "source": [
        "from langchain.chat_models import ChatOpenAI\n",
        "chat=ChatOpenAI(temperature=0,\n",
        "                openai_api_key=api_key\n",
        "                )"
      ]
    },
    {
      "cell_type": "code",
      "execution_count": null,
      "metadata": {
        "id": "PXQaXdH2uDrb"
      },
      "outputs": [],
      "source": [
        "from langchain.prompts import ChatPromptTemplate\n",
        "\n",
        "template=\"\"\"Question: {query} \\n\n",
        "Answer:\"\"\"\n",
        "\n",
        "prompt = ChatPromptTemplate.from_template(template)"
      ]
    },
    {
      "cell_type": "code",
      "execution_count": null,
      "metadata": {
        "id": "IlHMFAn8vGLW"
      },
      "outputs": [],
      "source": [
        "question=\"What is 2+2?\""
      ]
    },
    {
      "cell_type": "code",
      "execution_count": null,
      "metadata": {
        "colab": {
          "base_uri": "https://localhost:8080/"
        },
        "id": "rD7fn48_vK-Z",
        "outputId": "8133f8c5-1f32-4a70-f3d6-d527480ac96a"
      },
      "outputs": [
        {
          "name": "stdout",
          "output_type": "stream",
          "text": [
            "2+2 equals 4.\n"
          ]
        }
      ],
      "source": [
        "from langchain import LLMChain\n",
        "\n",
        "llm_chain = LLMChain(\n",
        "    prompt = prompt,\n",
        "    llm=chat,\n",
        ")\n",
        "\n",
        "print(llm_chain.predict(query=question))"
      ]
    },
    {
      "cell_type": "code",
      "execution_count": null,
      "metadata": {
        "id": "teroeCufwzl_"
      },
      "outputs": [],
      "source": [
        "questions = [\n",
        "    {\"query\":\"What is 2+2?\"},\n",
        "    {\"query\":\"What is 3+3?\"},\n",
        "    {\"query\":\"What is 4+4?\"}\n",
        "]"
      ]
    },
    {
      "cell_type": "code",
      "execution_count": null,
      "metadata": {
        "colab": {
          "base_uri": "https://localhost:8080/"
        },
        "id": "ubOv9Z_rw1bh",
        "outputId": "ec9f3a6c-1360-4439-f009-74c1a5f5a858"
      },
      "outputs": [
        {
          "name": "stdout",
          "output_type": "stream",
          "text": [
            "The answers are:\n",
            "1. 2+2 = 4\n",
            "2. 3+3 = 6\n",
            "3. 4+4 = 8\n"
          ]
        }
      ],
      "source": [
        "print(llm_chain.run(questions))"
      ]
    },
    {
      "cell_type": "markdown",
      "metadata": {
        "id": "ihHLD0x7x2xW"
      },
      "source": [
        "### Other Example: Inserting Context to ChatGPT"
      ]
    },
    {
      "cell_type": "code",
      "execution_count": null,
      "metadata": {
        "id": "ZvDZljiUw1X5"
      },
      "outputs": [],
      "source": [
        "template = \"\"\"\n",
        "Given the following context: {context} \\n\n",
        "Question: Who is Bob's wife? \\n\n",
        "Answer: \"\"\"\n",
        "\n",
        "prompt = ChatPromptTemplate.from_template(template)\n",
        "\n",
        "llm_chain = LLMChain(\n",
        "    prompt = prompt,\n",
        "    llm = chat\n",
        ")"
      ]
    },
    {
      "cell_type": "code",
      "execution_count": null,
      "metadata": {
        "colab": {
          "base_uri": "https://localhost:8080/"
        },
        "id": "998Ow0c1w1T_",
        "outputId": "3215af28-115c-45a8-f3c6-c39f198ccb31"
      },
      "outputs": [
        {
          "name": "stdout",
          "output_type": "stream",
          "text": [
            "Mary\n"
          ]
        }
      ],
      "source": [
        "sentence=\"Bob is married to Mary\"\n",
        "print(llm_chain.predict(context=sentence))"
      ]
    },
    {
      "cell_type": "markdown",
      "metadata": {
        "id": "K7CU6DT8zqRs"
      },
      "source": [
        "Simple Sequential Chain"
      ]
    },
    {
      "cell_type": "code",
      "execution_count": null,
      "metadata": {
        "colab": {
          "base_uri": "https://localhost:8080/"
        },
        "id": "Nxlm30tSw1QU",
        "outputId": "4cb2eaf9-62dc-4a08-b534-748ea965bfdf"
      },
      "outputs": [
        {
          "name": "stdout",
          "output_type": "stream",
          "text": [
            "John is 21 years old.\n"
          ]
        }
      ],
      "source": [
        "first_template = \"\"\"Given the following context: {query} \\n\n",
        "Question: How old is John? \\n\n",
        "Answer:\n",
        "\"\"\"\n",
        "\n",
        "first_prompt = ChatPromptTemplate.from_template(first_template)\n",
        "\n",
        "\n",
        "first_chain = LLMChain(\n",
        "    prompt = first_prompt,\n",
        "    llm = chat\n",
        ")\n",
        "\n",
        "first_question = \"John's age is half dad's age. Dad is 42 years old.\"\n",
        "\n",
        "first_response = first_chain.run(query = first_question)\n",
        "print(first_response)"
      ]
    },
    {
      "cell_type": "code",
      "execution_count": null,
      "metadata": {
        "colab": {
          "base_uri": "https://localhost:8080/"
        },
        "id": "JqCNeSqCw1Mv",
        "outputId": "4339fcec-4063-46e1-bcd2-f9387e9623b6"
      },
      "outputs": [
        {
          "name": "stdout",
          "output_type": "stream",
          "text": [
            "A good gift for John, who is 21 years old, could be a high-quality watch or a trendy piece of technology like wireless earbuds or a smart speaker. Another idea could be a gift card to his favorite clothing store or a subscription to a streaming service.\n"
          ]
        }
      ],
      "source": [
        "second_template = \"\"\"Given the following context:\n",
        "You are are a gift recommender. Given a person's age, \\\n",
        "it is your job to suggest an approapriate gift for them. \\n\\\n",
        "\n",
        "Person Age: \\n\\\n",
        "{input} \\n\\\n",
        "Suggest gift:\n",
        "\"\"\"\n",
        "\n",
        "second_prompt = ChatPromptTemplate.from_template(second_template)\n",
        "\n",
        "second_chain = LLMChain(\n",
        "    prompt = second_prompt,\n",
        "    llm = chat\n",
        ")\n",
        "\n",
        "final_response = second_chain.run(input = first_response)\n",
        "print(final_response)"
      ]
    },
    {
      "cell_type": "code",
      "execution_count": null,
      "metadata": {
        "id": "QydiXsCOw1JV"
      },
      "outputs": [],
      "source": [
        "from langchain.chains import SimpleSequentialChain\n",
        "\n",
        "overall_chain = SimpleSequentialChain(\n",
        "    chains = [first_chain, second_chain],\n",
        "    verbose = True\n",
        ")"
      ]
    },
    {
      "cell_type": "code",
      "execution_count": null,
      "metadata": {
        "colab": {
          "base_uri": "https://localhost:8080/",
          "height": 211
        },
        "id": "zH_3KaJYw1Fz",
        "outputId": "c32d4d55-fbac-48d9-8aad-7cb8875fa294"
      },
      "outputs": [
        {
          "name": "stdout",
          "output_type": "stream",
          "text": [
            "\n",
            "\n",
            "\u001b[1m> Entering new SimpleSequentialChain chain...\u001b[0m\n",
            "\u001b[36;1m\u001b[1;3mJohn is 21 years old.\u001b[0m\n",
            "\u001b[33;1m\u001b[1;3mA good gift for John, who is 21 years old, could be a high-quality set of noise-canceling headphones. This would be a practical and useful gift for someone who may be studying, working, or enjoying music in various environments.\u001b[0m\n",
            "\n",
            "\u001b[1m> Finished chain.\u001b[0m\n"
          ]
        },
        {
          "data": {
            "application/vnd.google.colaboratory.intrinsic+json": {
              "type": "string"
            },
            "text/plain": [
              "'A good gift for John, who is 21 years old, could be a high-quality set of noise-canceling headphones. This would be a practical and useful gift for someone who may be studying, working, or enjoying music in various environments.'"
            ]
          },
          "execution_count": 38,
          "metadata": {},
          "output_type": "execute_result"
        }
      ],
      "source": [
        "overall_chain.run(\"John's age is half dad's age. Dad is 42 years old.\")"
      ]
    },
    {
      "cell_type": "markdown",
      "metadata": {
        "id": "rHlMPRFw0LOQ"
      },
      "source": [
        "Exercise"
      ]
    },
    {
      "cell_type": "code",
      "execution_count": null,
      "metadata": {
        "colab": {
          "base_uri": "https://localhost:8080/"
        },
        "id": "tGyBMup4w1Cf",
        "outputId": "2a2c3f3f-38c0-4afe-a551-e7e13bbb6344"
      },
      "outputs": [
        {
          "name": "stdout",
          "output_type": "stream",
          "text": [
            "Requirement already satisfied: langchain-openai in /usr/local/lib/python3.10/dist-packages (0.0.8)\n",
            "Requirement already satisfied: langchain-core<0.2.0,>=0.1.27 in /usr/local/lib/python3.10/dist-packages (from langchain-openai) (0.1.27)\n",
            "Requirement already satisfied: openai<2.0.0,>=1.10.0 in /usr/local/lib/python3.10/dist-packages (from langchain-openai) (1.13.3)\n",
            "Requirement already satisfied: tiktoken<1,>=0.5.2 in /usr/local/lib/python3.10/dist-packages (from langchain-openai) (0.6.0)\n",
            "Requirement already satisfied: PyYAML>=5.3 in /usr/local/lib/python3.10/dist-packages (from langchain-core<0.2.0,>=0.1.27->langchain-openai) (6.0.1)\n",
            "Requirement already satisfied: anyio<5,>=3 in /usr/local/lib/python3.10/dist-packages (from langchain-core<0.2.0,>=0.1.27->langchain-openai) (3.7.1)\n",
            "Requirement already satisfied: jsonpatch<2.0,>=1.33 in /usr/local/lib/python3.10/dist-packages (from langchain-core<0.2.0,>=0.1.27->langchain-openai) (1.33)\n",
            "Requirement already satisfied: langsmith<0.2.0,>=0.1.0 in /usr/local/lib/python3.10/dist-packages (from langchain-core<0.2.0,>=0.1.27->langchain-openai) (0.1.10)\n",
            "Requirement already satisfied: packaging<24.0,>=23.2 in /usr/local/lib/python3.10/dist-packages (from langchain-core<0.2.0,>=0.1.27->langchain-openai) (23.2)\n",
            "Requirement already satisfied: pydantic<3,>=1 in /usr/local/lib/python3.10/dist-packages (from langchain-core<0.2.0,>=0.1.27->langchain-openai) (2.6.1)\n",
            "Requirement already satisfied: requests<3,>=2 in /usr/local/lib/python3.10/dist-packages (from langchain-core<0.2.0,>=0.1.27->langchain-openai) (2.31.0)\n",
            "Requirement already satisfied: tenacity<9.0.0,>=8.1.0 in /usr/local/lib/python3.10/dist-packages (from langchain-core<0.2.0,>=0.1.27->langchain-openai) (8.2.3)\n",
            "Requirement already satisfied: distro<2,>=1.7.0 in /usr/lib/python3/dist-packages (from openai<2.0.0,>=1.10.0->langchain-openai) (1.7.0)\n",
            "Requirement already satisfied: httpx<1,>=0.23.0 in /usr/local/lib/python3.10/dist-packages (from openai<2.0.0,>=1.10.0->langchain-openai) (0.27.0)\n",
            "Requirement already satisfied: sniffio in /usr/local/lib/python3.10/dist-packages (from openai<2.0.0,>=1.10.0->langchain-openai) (1.3.0)\n",
            "Requirement already satisfied: tqdm>4 in /usr/local/lib/python3.10/dist-packages (from openai<2.0.0,>=1.10.0->langchain-openai) (4.66.2)\n",
            "Requirement already satisfied: typing-extensions<5,>=4.7 in /usr/local/lib/python3.10/dist-packages (from openai<2.0.0,>=1.10.0->langchain-openai) (4.9.0)\n",
            "Requirement already satisfied: regex>=2022.1.18 in /usr/local/lib/python3.10/dist-packages (from tiktoken<1,>=0.5.2->langchain-openai) (2023.12.25)\n",
            "Requirement already satisfied: idna>=2.8 in /usr/local/lib/python3.10/dist-packages (from anyio<5,>=3->langchain-core<0.2.0,>=0.1.27->langchain-openai) (3.6)\n",
            "Requirement already satisfied: exceptiongroup in /usr/local/lib/python3.10/dist-packages (from anyio<5,>=3->langchain-core<0.2.0,>=0.1.27->langchain-openai) (1.2.0)\n",
            "Requirement already satisfied: certifi in /usr/local/lib/python3.10/dist-packages (from httpx<1,>=0.23.0->openai<2.0.0,>=1.10.0->langchain-openai) (2024.2.2)\n",
            "Requirement already satisfied: httpcore==1.* in /usr/local/lib/python3.10/dist-packages (from httpx<1,>=0.23.0->openai<2.0.0,>=1.10.0->langchain-openai) (1.0.4)\n",
            "Requirement already satisfied: h11<0.15,>=0.13 in /usr/local/lib/python3.10/dist-packages (from httpcore==1.*->httpx<1,>=0.23.0->openai<2.0.0,>=1.10.0->langchain-openai) (0.14.0)\n",
            "Requirement already satisfied: jsonpointer>=1.9 in /usr/local/lib/python3.10/dist-packages (from jsonpatch<2.0,>=1.33->langchain-core<0.2.0,>=0.1.27->langchain-openai) (2.4)\n",
            "Requirement already satisfied: orjson<4.0.0,>=3.9.14 in /usr/local/lib/python3.10/dist-packages (from langsmith<0.2.0,>=0.1.0->langchain-core<0.2.0,>=0.1.27->langchain-openai) (3.9.15)\n",
            "Requirement already satisfied: annotated-types>=0.4.0 in /usr/local/lib/python3.10/dist-packages (from pydantic<3,>=1->langchain-core<0.2.0,>=0.1.27->langchain-openai) (0.6.0)\n",
            "Requirement already satisfied: pydantic-core==2.16.2 in /usr/local/lib/python3.10/dist-packages (from pydantic<3,>=1->langchain-core<0.2.0,>=0.1.27->langchain-openai) (2.16.2)\n",
            "Requirement already satisfied: charset-normalizer<4,>=2 in /usr/local/lib/python3.10/dist-packages (from requests<3,>=2->langchain-core<0.2.0,>=0.1.27->langchain-openai) (3.3.2)\n",
            "Requirement already satisfied: urllib3<3,>=1.21.1 in /usr/local/lib/python3.10/dist-packages (from requests<3,>=2->langchain-core<0.2.0,>=0.1.27->langchain-openai) (2.0.7)\n"
          ]
        }
      ],
      "source": [
        "pip install -U langchain-openai"
      ]
    },
    {
      "cell_type": "code",
      "execution_count": null,
      "metadata": {
        "id": "9Fe3V7Zsw0-9"
      },
      "outputs": [],
      "source": [
        "# # prompt: 어떻게 api_key를 넣는가?\n",
        "\n",
        "# from dotenv import load_dotenv, find_dotenv\n",
        "\n",
        "# # Load the environment variables from the .env file\n",
        "# load_dotenv(find_dotenv())\n",
        "\n",
        "# # Get the OpenAI API key from the environment variables\n",
        "# api_key = os.getenv(\"OPENAI_API_KEY\")"
      ]
    },
    {
      "cell_type": "code",
      "execution_count": null,
      "metadata": {
        "id": "2T1Bn4Ev0eT1"
      },
      "outputs": [],
      "source": [
        "from langchain.chat_models import ChatOpenAI\n",
        "chat=ChatOpenAI(temperature=0,\n",
        "                openai_api_key=api_key\n",
        "                )"
      ]
    },
    {
      "cell_type": "code",
      "execution_count": null,
      "metadata": {
        "colab": {
          "base_uri": "https://localhost:8080/"
        },
        "id": "3ZdXukOt0ePd",
        "outputId": "e75ac1ea-a465-4448-8d31-6a17836eb4c3"
      },
      "outputs": [
        {
          "name": "stdout",
          "output_type": "stream",
          "text": [
            "Collecting wikipedia\n",
            "  Downloading wikipedia-1.4.0.tar.gz (27 kB)\n",
            "  Preparing metadata (setup.py) ... \u001b[?25l\u001b[?25hdone\n",
            "Requirement already satisfied: beautifulsoup4 in /usr/local/lib/python3.10/dist-packages (from wikipedia) (4.12.3)\n",
            "Requirement already satisfied: requests<3.0.0,>=2.0.0 in /usr/local/lib/python3.10/dist-packages (from wikipedia) (2.31.0)\n",
            "Requirement already satisfied: charset-normalizer<4,>=2 in /usr/local/lib/python3.10/dist-packages (from requests<3.0.0,>=2.0.0->wikipedia) (3.3.2)\n",
            "Requirement already satisfied: idna<4,>=2.5 in /usr/local/lib/python3.10/dist-packages (from requests<3.0.0,>=2.0.0->wikipedia) (3.6)\n",
            "Requirement already satisfied: urllib3<3,>=1.21.1 in /usr/local/lib/python3.10/dist-packages (from requests<3.0.0,>=2.0.0->wikipedia) (2.0.7)\n",
            "Requirement already satisfied: certifi>=2017.4.17 in /usr/local/lib/python3.10/dist-packages (from requests<3.0.0,>=2.0.0->wikipedia) (2024.2.2)\n",
            "Requirement already satisfied: soupsieve>1.2 in /usr/local/lib/python3.10/dist-packages (from beautifulsoup4->wikipedia) (2.5)\n",
            "Building wheels for collected packages: wikipedia\n",
            "  Building wheel for wikipedia (setup.py) ... \u001b[?25l\u001b[?25hdone\n",
            "  Created wheel for wikipedia: filename=wikipedia-1.4.0-py3-none-any.whl size=11678 sha256=1589d431430b44ce68a406444429592c18e698edc8397017f4eae26c61c42d37\n",
            "  Stored in directory: /root/.cache/pip/wheels/5e/b6/c5/93f3dec388ae76edc830cb42901bb0232504dfc0df02fc50de\n",
            "Successfully built wikipedia\n",
            "Installing collected packages: wikipedia\n",
            "Successfully installed wikipedia-1.4.0\n"
          ]
        }
      ],
      "source": [
        "pip install wikipedia"
      ]
    },
    {
      "cell_type": "code",
      "execution_count": null,
      "metadata": {
        "colab": {
          "base_uri": "https://localhost:8080/"
        },
        "id": "KbZSLutD0eLb",
        "outputId": "9ddce0b8-fa54-4d17-a98b-ba3f724a1b00"
      },
      "outputs": [
        {
          "name": "stdout",
          "output_type": "stream",
          "text": [
            "Page: Tesla, Inc.\n",
            "Summary: Tesla, Inc. ( TESS-lə or  TEZ-lə) is an American multinational automotive and clean energy company headquartered in Austin, Texas, which designs, manufactures and sells electric vehicles, stationary battery energy storage devices from home to grid-scale, solar panels and solar shingles, and related products and services.\n",
            "Tesla was incorporated in July 2003 by Martin Eberhard and Marc Tarpenning as Tesla Motors. The company's name is a tribute to inventor and electrical engineer Nikola Tesla. In February 2004 Elon Musk joined as the company's largest shareholder and in 2008 he was named CEO. In 2008, the company began production of its first car model, the Roadster sports car, followed by the Model S sedan in 2012, the Model X SUV in 2015, the Model 3 sedan in 2017, the Model Y crossover in 2020, the Tesla Semi truck in 2022 and the Cybertruck pickup truck in 2023. The Model 3 is the all-time bestselling plug-in electric car worldwide, and in June 2021 became the first electric car to sell 1 million units globally. In 2023, the Model Y was the best-selling vehicle, of any kind, globally.Tesla is one of the world's most valuable companies. In October 2021, Tesla's market capitalization temporarily reached $1 trillion, the sixth company to do so in U.S. history.  In 2022, the company led the battery electric vehicle market, with 18% share. As of 2023, it is the world's most valuable automaker. Also in 2023, the company was ranked 69th in the Forbes Global 2000.Tesla has been the subject of lawsuits, government scrutiny, and journalistic criticism, stemming from allegations of whistleblower retaliation, worker rights violations, product defects, and Musk's many controversial statements.\n"
          ]
        }
      ],
      "source": [
        "from langchain.utilities import WikipediaAPIWrapper\n",
        "\n",
        "wikipedia = WikipediaAPIWrapper(top_k_results = 1)\n",
        "print(wikipedia.run('Tesla, Inc.'))"
      ]
    },
    {
      "cell_type": "markdown",
      "metadata": {
        "id": "JNrTqsb806F-"
      },
      "source": [
        "Please generate a refined document of the following document. And please ensure that the refined document meets the following criteria:\n",
        "1. The refined document should be abstract and does not change any original meaning of the document.\n",
        "2. The refined document should retain all the important objects, concepts, and relationships between them.\n",
        "3. The refined document should only contain information that is from the document.\n",
        "4. The refined document should be readable and easy to understand without any abbreviations and misspellings.\n",
        "Here is the content: [x]"
      ]
    },
    {
      "cell_type": "markdown",
      "metadata": {
        "id": "wdD6738J0-eN"
      },
      "source": [
        "You are a knowledge graph extractor, and your task is to extract and return a knowledge graph from a given text.Let’s extract it step by step:\n",
        "(1). Identify the entities in the text. An entity can be a noun or a noun phrase that refers to a real-world object or an abstract concept. You can use a named entity recognition (NER) tool or a part-of-speech (POS) tagger to identify the entities.\n",
        "(2). Identify the relationships between the entities. A relationship can be a verb or a prepositional phrase that connects two entities. You can use dependency parsing\n",
        "to identify the relationships.\n",
        "(3). Summarize each entity and relation as short as possible and remove any stop words.\n",
        "(4). Only return the knowledge graph in the triplet format: (’head entity’, ’relation’, ’tail entity’).\n",
        "(5). Most importantly, if you cannot find any knowledge, please just output: \"None\".\n",
        "Here is the content: [x]"
      ]
    },
    {
      "cell_type": "code",
      "execution_count": null,
      "metadata": {
        "id": "thWft8vv0eH7"
      },
      "outputs": [],
      "source": [
        "from langchain.prompts import ChatPromptTemplate\n",
        "\n",
        "\n",
        "first_template = \"\"\"Please generate a refined document of the following document. \\n\\\n",
        "And please ensure that the refined document meets the following criteria: \\n\\\n",
        "1. The refined document should be abstract and does not change any original \\\n",
        "meaning of the document. \\n\\\n",
        "2. The refined document should retain all the important objects, concepts, and \\\n",
        "relationship between them. \\n\\\n",
        "3. The refined document should only contain information that is from \\\n",
        "the document. \\n\\\n",
        "4. The refined document should be readable and easy to understand without any \\\n",
        "abbrevations and misspellings. \\n\\\n",
        "Here is the content: {content}\n",
        "\"\"\"\n",
        "\n",
        "first_prompt = ChatPromptTemplate.from_template(first_template)"
      ]
    },
    {
      "cell_type": "code",
      "execution_count": null,
      "metadata": {
        "id": "od2yrMFK1GAU"
      },
      "outputs": [],
      "source": [
        "from langchain.chains import LLMChain\n",
        "\n",
        "first_chain = LLMChain(\n",
        "    prompt = first_prompt,\n",
        "    llm = chat\n",
        ")"
      ]
    },
    {
      "cell_type": "code",
      "execution_count": null,
      "metadata": {
        "id": "1F17FoHT1F8c"
      },
      "outputs": [],
      "source": [
        "second_template = \"\"\"You are a knowledge graph extractor, and your task is to extract\\\n",
        "and return a knowledge graph from a given text. Let's extract it step by step:\\n\\\n",
        "(1). Identify the entities in the text. An entity can be a noun or noun phrase \\\n",
        "that refers to a real-world object or an abstract concept. You can use a named entity\\\n",
        "recognition (NER) tool or a part-of-speech (POS) tagger to identify the entities. \\n\\\n",
        "(2). Identify the relationships between the entities. A relationship can be a verb \\\n",
        "or a prepositional phrase that connects two entities. You can use dependency parsing \\\n",
        "to identify the relationships. \\n\\\n",
        "(3). Summarize each entity and relation as short as possible and remove any stop words. \\n\\\n",
        "(4). Only return the knowledge graph in the triplet format: ('head entity', 'relation', 'tail entity'). \\n\\\n",
        "(5). Most importantly, if you cannot find any knowledge, please just output: \"None\". \\n\\\n",
        "Here is the content: {content}\n",
        "\"\"\"\n",
        "second_prompt = ChatPromptTemplate.from_template(second_template)\n",
        "\n",
        "second_chain = LLMChain(\n",
        "    prompt = second_prompt,\n",
        "    llm = chat\n",
        ")"
      ]
    },
    {
      "cell_type": "code",
      "execution_count": null,
      "metadata": {
        "id": "c1qgcyg71F40"
      },
      "outputs": [],
      "source": [
        "from langchain.chains import SimpleSequentialChain\n",
        "\n",
        "overall_chain = SimpleSequentialChain(\n",
        "    chains = [first_chain, second_chain],\n",
        "    verbose = True\n",
        ")"
      ]
    },
    {
      "cell_type": "code",
      "execution_count": null,
      "metadata": {
        "id": "QrM0GSK01F1F"
      },
      "outputs": [],
      "source": [
        "from langchain.utilities import WikipediaAPIWrapper\n",
        "\n",
        "wikipedia = WikipediaAPIWrapper(top_k_results = 1)\n",
        "wiki_pages = wikipedia.run('Tesla, Inc.')"
      ]
    },
    {
      "cell_type": "code",
      "execution_count": null,
      "metadata": {
        "colab": {
          "base_uri": "https://localhost:8080/",
          "height": 541
        },
        "id": "-bjk4XiX1Fxp",
        "outputId": "9ebd91fa-7e77-433c-ce74-eafaa8ba6c6a"
      },
      "outputs": [
        {
          "name": "stdout",
          "output_type": "stream",
          "text": [
            "\n",
            "\n",
            "\u001b[1m> Entering new SimpleSequentialChain chain...\u001b[0m\n",
            "\u001b[36;1m\u001b[1;3mTesla, Inc. is an American multinational automotive and clean energy company based in Austin, Texas. The company designs, manufactures, and sells electric vehicles, stationary battery energy storage devices, solar panels, solar shingles, and related products and services. Tesla was founded in July 2003 by Martin Eberhard and Marc Tarpenning as Tesla Motors, paying tribute to inventor Nikola Tesla. Elon Musk became the company's largest shareholder in February 2004 and CEO in 2008. Tesla has produced various car models, including the Roadster, Model S, Model X, Model 3, Model Y, Tesla Semi, and Cybertruck. The Model 3 is the best-selling plug-in electric car globally, reaching 1 million units sold in June 2021. In 2023, the Model Y became the best-selling vehicle worldwide. Tesla is one of the most valuable companies, with a market capitalization of $1 trillion in October 2021. The company leads the battery electric vehicle market with an 18% share and is the world's most valuable automaker as of 2023. Tesla was ranked 69th in the Forbes Global 2000 in 2023. The company has faced legal challenges, government scrutiny, and criticism for issues such as whistleblower retaliation, worker rights violations, product defects, and controversial statements made by Musk.\u001b[0m\n",
            "\u001b[33;1m\u001b[1;3m('Tesla, Inc.', 'is', 'American multinational automotive and clean energy company')\n",
            "('Tesla, Inc.', 'based in', 'Austin, Texas')\n",
            "('company', 'designs, manufactures, and sells', 'electric vehicles, stationary battery energy storage devices, solar panels, solar shingles, related products, services')\n",
            "('Tesla', 'founded by', 'Martin Eberhard, Marc Tarpenning')\n",
            "('Tesla', 'paying tribute to', 'inventor Nikola Tesla')\n",
            "('Elon Musk', 'became', 'company's largest shareholder, CEO')\n",
            "('Tesla', 'produced', 'various car models including Roadster, Model S, Model X, Model 3, Model Y, Tesla Semi, Cybertruck')\n",
            "('Model 3', 'best-selling', 'plug-in electric car globally, reaching 1 million units sold in June 2021')\n",
            "('Model Y', 'best-selling', 'vehicle worldwide in 2023')\n",
            "('Tesla', 'one of', 'most valuable companies, market capitalization $1 trillion in October 2021')\n",
            "('company', 'leads', 'battery electric vehicle market with 18% share, world's most valuable automaker as of 2023')\n",
            "('Tesla', 'ranked', '69th in Forbes Global 2000 in 2023')\n",
            "('company', 'faced', 'legal challenges, government scrutiny, criticism for issues whistleblower retaliation, worker rights violations, product defects, controversial statements made by Musk')\u001b[0m\n",
            "\n",
            "\u001b[1m> Finished chain.\u001b[0m\n"
          ]
        },
        {
          "data": {
            "application/vnd.google.colaboratory.intrinsic+json": {
              "type": "string"
            },
            "text/plain": [
              "\"('Tesla, Inc.', 'is', 'American multinational automotive and clean energy company')\\n('Tesla, Inc.', 'based in', 'Austin, Texas')\\n('company', 'designs, manufactures, and sells', 'electric vehicles, stationary battery energy storage devices, solar panels, solar shingles, related products, services')\\n('Tesla', 'founded by', 'Martin Eberhard, Marc Tarpenning')\\n('Tesla', 'paying tribute to', 'inventor Nikola Tesla')\\n('Elon Musk', 'became', 'company's largest shareholder, CEO')\\n('Tesla', 'produced', 'various car models including Roadster, Model S, Model X, Model 3, Model Y, Tesla Semi, Cybertruck')\\n('Model 3', 'best-selling', 'plug-in electric car globally, reaching 1 million units sold in June 2021')\\n('Model Y', 'best-selling', 'vehicle worldwide in 2023')\\n('Tesla', 'one of', 'most valuable companies, market capitalization $1 trillion in October 2021')\\n('company', 'leads', 'battery electric vehicle market with 18% share, world's most valuable automaker as of 2023')\\n('Tesla', 'ranked', '69th in Forbes Global 2000 in 2023')\\n('company', 'faced', 'legal challenges, government scrutiny, criticism for issues whistleblower retaliation, worker rights violations, product defects, controversial statements made by Musk')\""
            ]
          },
          "execution_count": 50,
          "metadata": {},
          "output_type": "execute_result"
        }
      ],
      "source": [
        "overall_chain.run(wiki_pages)"
      ]
    },
    {
      "cell_type": "markdown",
      "metadata": {
        "id": "K5wsRmtA1fEf"
      },
      "source": [
        "Agent"
      ]
    },
    {
      "cell_type": "code",
      "execution_count": null,
      "metadata": {
        "id": "_pDaRPsQ1Ft9"
      },
      "outputs": [],
      "source": [
        "from langchain.agents import initialize_agent\n",
        "from langchain.agents import AgentType\n",
        "from langchain.agents import load_tools\n",
        "\n",
        "chat = ChatOpenAI(temperature = 0.)"
      ]
    },
    {
      "cell_type": "code",
      "execution_count": null,
      "metadata": {
        "id": "TwQxmHzI1Fqh"
      },
      "outputs": [],
      "source": [
        "tools = load_tools([\"wikipedia\"], llm = chat, top_k_results = 1)"
      ]
    },
    {
      "cell_type": "code",
      "execution_count": null,
      "metadata": {
        "colab": {
          "base_uri": "https://localhost:8080/"
        },
        "id": "7F-Jav-u1mLO",
        "outputId": "c01caa29-b96e-4d62-f755-a771060ca7e9"
      },
      "outputs": [
        {
          "name": "stderr",
          "output_type": "stream",
          "text": [
            "/usr/local/lib/python3.10/dist-packages/langchain_core/_api/deprecation.py:117: LangChainDeprecationWarning: The function `initialize_agent` was deprecated in LangChain 0.1.0 and will be removed in 0.2.0. Use Use new agent constructor methods like create_react_agent, create_json_agent, create_structured_chat_agent, etc. instead.\n",
            "  warn_deprecated(\n"
          ]
        }
      ],
      "source": [
        "agent = initialize_agent(tools,\n",
        "                         llm = chat,\n",
        "                         agent = AgentType.CHAT_ZERO_SHOT_REACT_DESCRIPTION,\n",
        "                        handle_parsing_errors=True,\n",
        "                         verbose = True\n",
        "                         )"
      ]
    },
    {
      "cell_type": "code",
      "execution_count": null,
      "metadata": {
        "colab": {
          "base_uri": "https://localhost:8080/",
          "height": 506
        },
        "id": "L8rpRtfg1mHt",
        "outputId": "8d28e7de-6bb9-47f2-c3db-2735d356fc89"
      },
      "outputs": [
        {
          "name": "stdout",
          "output_type": "stream",
          "text": [
            "\n",
            "\n",
            "\u001b[1m> Entering new AgentExecutor chain...\u001b[0m\n",
            "\u001b[32;1m\u001b[1;3mThought: I should use Wikipedia to gather information about Tesla, Inc.\n",
            "Action:\n",
            "```\n",
            "{\n",
            "  \"action\": \"wikipedia\",\n",
            "  \"action_input\": \"Tesla, Inc.\"\n",
            "}\n",
            "```\u001b[0m\n",
            "Observation: \u001b[36;1m\u001b[1;3mPage: Tesla, Inc.\n",
            "Summary: Tesla, Inc. ( TESS-lə or  TEZ-lə) is an American multinational automotive and clean energy company headquartered in Austin, Texas, which designs, manufactures and sells electric vehicles, stationary battery energy storage devices from home to grid-scale, solar panels and solar shingles, and related products and services.\n",
            "Tesla was incorporated in July 2003 by Martin Eberhard and Marc Tarpenning as Tesla Motors. The company's name is a tribute to inventor and electrical engineer Nikola Tesla. In February 2004 Elon Musk joined as the company's largest shareholder and in 2008 he was named CEO. In 2008, the company began production of its first car model, the Roadster sports car, followed by the Model S sedan in 2012, the Model X SUV in 2015, the Model 3 sedan in 2017, the Model Y crossover in 2020, the Tesla Semi truck in 2022 and the Cybertruck pickup truck in 2023. The Model 3 is the all-time bestselling plug-in electric car worldwide, and in June 2021 became the first electric car to sell 1 million units globally. In 2023, the Model Y was the best-selling vehicle, of any kind, globally.Tesla is one of the world's most valuable companies. In October 2021, Tesla's market capitalization temporarily reached $1 trillion, the sixth company to do so in U.S. history.  In 2022, the company led the battery electric vehicle market, with 18% share. As of 2023, it is the world's most valuable automaker. Also in 2023, the company was ranked 69th in the Forbes Global 2000.Tesla has been the subject of lawsuits, government scrutiny, and journalistic criticism, stemming from allegations of whistleblower retaliation, worker rights violations, product defects, and Musk's many controversial statements.\u001b[0m\n",
            "Thought:\u001b[32;1m\u001b[1;3mCould not parse LLM output: I have gathered information about Tesla, Inc. from Wikipedia. Now, I should summarize the key points for the user.\n",
            "Action: I will summarize the key points about Tesla, Inc. based on the information obtained from Wikipedia.\u001b[0m\n",
            "Observation: Invalid or incomplete response\n",
            "Thought:\u001b[32;1m\u001b[1;3mThought: I will try to summarize the key points about Tesla, Inc. myself based on the information obtained from Wikipedia.\n",
            "Final Answer: Tesla, Inc. is an American multinational automotive and clean energy company founded in 2003. It designs, manufactures, and sells electric vehicles, stationary battery energy storage devices, solar products, and related services. The company was named after Nikola Tesla and has been led by Elon Musk since 2008. Tesla has produced several car models including the Roadster, Model S, Model X, Model 3, Model Y, Tesla Semi, and Cybertruck. It is known for being one of the world's most valuable automakers and has faced scrutiny and criticism over various issues.\u001b[0m\n",
            "\n",
            "\u001b[1m> Finished chain.\u001b[0m\n"
          ]
        },
        {
          "data": {
            "application/vnd.google.colaboratory.intrinsic+json": {
              "type": "string"
            },
            "text/plain": [
              "\"Tesla, Inc. is an American multinational automotive and clean energy company founded in 2003. It designs, manufactures, and sells electric vehicles, stationary battery energy storage devices, solar products, and related services. The company was named after Nikola Tesla and has been led by Elon Musk since 2008. Tesla has produced several car models including the Roadster, Model S, Model X, Model 3, Model Y, Tesla Semi, and Cybertruck. It is known for being one of the world's most valuable automakers and has faced scrutiny and criticism over various issues.\""
            ]
          },
          "execution_count": 54,
          "metadata": {},
          "output_type": "execute_result"
        }
      ],
      "source": [
        "agent.run(\"Tesla, Inc.\")"
      ]
    },
    {
      "cell_type": "code",
      "execution_count": null,
      "metadata": {
        "id": "cIMl3Dhq5Rig"
      },
      "outputs": [],
      "source": []
    },
    {
      "cell_type": "code",
      "execution_count": null,
      "metadata": {
        "id": "FXcKSEyv5Rel"
      },
      "outputs": [],
      "source": [
        "overall_chain = SimpleSequentialChain(\n",
        "    chains = [agent,\n",
        "              first_chain,\n",
        "              second_chain],\n",
        "    verbose = True\n",
        ")"
      ]
    },
    {
      "cell_type": "code",
      "execution_count": null,
      "metadata": {
        "colab": {
          "base_uri": "https://localhost:8080/",
          "height": 645
        },
        "id": "-_OR-dp25RbE",
        "outputId": "2af8e09c-cc84-44ae-974c-662cd92af6d5"
      },
      "outputs": [
        {
          "name": "stdout",
          "output_type": "stream",
          "text": [
            "\n",
            "\n",
            "\u001b[1m> Entering new SimpleSequentialChain chain...\u001b[0m\n",
            "\n",
            "\n",
            "\u001b[1m> Entering new AgentExecutor chain...\u001b[0m\n",
            "\u001b[32;1m\u001b[1;3mThought: I will use Wikipedia to gather information about Tesla, Inc.\n",
            "Action:\n",
            "```\n",
            "{\n",
            "  \"action\": \"wikipedia\",\n",
            "  \"action_input\": \"Tesla, Inc.\"\n",
            "}\n",
            "```\u001b[0m\n",
            "Observation: \u001b[36;1m\u001b[1;3mPage: Tesla, Inc.\n",
            "Summary: Tesla, Inc. ( TESS-lə or  TEZ-lə) is an American multinational automotive and clean energy company headquartered in Austin, Texas, which designs, manufactures and sells electric vehicles, stationary battery energy storage devices from home to grid-scale, solar panels and solar shingles, and related products and services.\n",
            "Tesla was incorporated in July 2003 by Martin Eberhard and Marc Tarpenning as Tesla Motors. The company's name is a tribute to inventor and electrical engineer Nikola Tesla. In February 2004 Elon Musk joined as the company's largest shareholder and in 2008 he was named CEO. In 2008, the company began production of its first car model, the Roadster sports car, followed by the Model S sedan in 2012, the Model X SUV in 2015, the Model 3 sedan in 2017, the Model Y crossover in 2020, the Tesla Semi truck in 2022 and the Cybertruck pickup truck in 2023. The Model 3 is the all-time bestselling plug-in electric car worldwide, and in June 2021 became the first electric car to sell 1 million units globally. In 2023, the Model Y was the best-selling vehicle, of any kind, globally.Tesla is one of the world's most valuable companies. In October 2021, Tesla's market capitalization temporarily reached $1 trillion, the sixth company to do so in U.S. history.  In 2022, the company led the battery electric vehicle market, with 18% share. As of 2023, it is the world's most valuable automaker. Also in 2023, the company was ranked 69th in the Forbes Global 2000.Tesla has been the subject of lawsuits, government scrutiny, and journalistic criticism, stemming from allegations of whistleblower retaliation, worker rights violations, product defects, and Musk's many controversial statements.\u001b[0m\n",
            "Thought:\u001b[32;1m\u001b[1;3mI have gathered information about Tesla, Inc. from Wikipedia. Now I can provide details about its history, products, and controversies if needed.\n",
            "\n",
            "Final Answer: Tesla, Inc. is an American multinational automotive and clean energy company known for designing, manufacturing, and selling electric vehicles, energy storage devices, solar products, and related services. It was founded in 2003 and is headquartered in Austin, Texas.\u001b[0m\n",
            "\n",
            "\u001b[1m> Finished chain.\u001b[0m\n",
            "\u001b[36;1m\u001b[1;3mTesla, Inc. is an American multinational automotive and clean energy company known for designing, manufacturing, and selling electric vehicles, energy storage devices, solar products, and related services. It was founded in 2003 and is headquartered in Austin, Texas.\u001b[0m\n",
            "\u001b[33;1m\u001b[1;3mTesla, Inc. is a US-based company that specializes in automotive and clean energy products. Established in 2003, the company is based in Austin, Texas. Tesla is renowned for its electric vehicles, energy storage solutions, solar products, and associated services.\u001b[0m\n",
            "\u001b[38;5;200m\u001b[1;3m('Tesla, Inc.', 'is', 'US-based company')\n",
            "('Tesla, Inc.', 'specializes in', 'automotive and clean energy products')\n",
            "('Tesla, Inc.', 'Established in', '2003')\n",
            "('company', 'is based in', 'Austin, Texas')\n",
            "('Tesla', 'is renowned for', 'electric vehicles, energy storage solutions, solar products, and associated services')\u001b[0m\n",
            "\n",
            "\u001b[1m> Finished chain.\u001b[0m\n"
          ]
        },
        {
          "data": {
            "application/vnd.google.colaboratory.intrinsic+json": {
              "type": "string"
            },
            "text/plain": [
              "\"('Tesla, Inc.', 'is', 'US-based company')\\n('Tesla, Inc.', 'specializes in', 'automotive and clean energy products')\\n('Tesla, Inc.', 'Established in', '2003')\\n('company', 'is based in', 'Austin, Texas')\\n('Tesla', 'is renowned for', 'electric vehicles, energy storage solutions, solar products, and associated services')\""
            ]
          },
          "execution_count": 61,
          "metadata": {},
          "output_type": "execute_result"
        }
      ],
      "source": [
        "overall_chain.run(\"Tesla, Inc.\")"
      ]
    },
    {
      "cell_type": "code",
      "execution_count": null,
      "metadata": {
        "id": "0fY7Wf655q96"
      },
      "outputs": [],
      "source": []
    },
    {
      "cell_type": "code",
      "execution_count": null,
      "metadata": {
        "id": "0UG7WJWx5q6H"
      },
      "outputs": [],
      "source": []
    },
    {
      "cell_type": "code",
      "execution_count": null,
      "metadata": {
        "id": "yaHvvdUt5q2u"
      },
      "outputs": [],
      "source": []
    },
    {
      "cell_type": "code",
      "execution_count": null,
      "metadata": {
        "id": "DagiNO4l5qyt"
      },
      "outputs": [],
      "source": []
    },
    {
      "cell_type": "code",
      "execution_count": null,
      "metadata": {
        "id": "SqEx-nYc5qvE"
      },
      "outputs": [],
      "source": []
    },
    {
      "cell_type": "code",
      "execution_count": null,
      "metadata": {
        "id": "l4NFw9DU5qrJ"
      },
      "outputs": [],
      "source": []
    },
    {
      "cell_type": "code",
      "execution_count": null,
      "metadata": {
        "id": "yBLrKEB15qnU"
      },
      "outputs": [],
      "source": []
    },
    {
      "cell_type": "code",
      "execution_count": null,
      "metadata": {
        "id": "IaczkNHy5qj6"
      },
      "outputs": [],
      "source": []
    }
  ],
  "metadata": {
    "colab": {
      "provenance": []
    },
    "kernelspec": {
      "display_name": "Python 3",
      "name": "python3"
    },
    "language_info": {
      "name": "python"
    }
  },
  "nbformat": 4,
  "nbformat_minor": 0
}
