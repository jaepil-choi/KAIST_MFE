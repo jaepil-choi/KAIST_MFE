{
 "cells": [
  {
   "cell_type": "code",
   "execution_count": null,
   "id": "924c3edd",
   "metadata": {
    "colab": {
     "base_uri": "https://localhost:8080/"
    },
    "executionInfo": {
     "elapsed": 10008,
     "status": "ok",
     "timestamp": 1724940765650,
     "user": {
      "displayName": "Jae Choi",
      "userId": "11721422988883293277"
     },
     "user_tz": -540
    },
    "id": "lfUtAoQ0n66T",
    "outputId": "212899ab-3d41-40f8-d5e1-fe13490da152"
   },
   "outputs": [],
   "source": [
    "pip install python-dotenv"
   ]
  },
  {
   "cell_type": "code",
   "execution_count": null,
   "id": "2b1751e6",
   "metadata": {
    "executionInfo": {
     "elapsed": 7,
     "status": "ok",
     "timestamp": 1724940765650,
     "user": {
      "displayName": "Jae Choi",
      "userId": "11721422988883293277"
     },
     "user_tz": -540
    },
    "id": "YpbF9bbNeJu_",
    "lines_to_next_cell": 2
   },
   "outputs": [],
   "source": [
    "# import os\n",
    "# from dotenv import load_dotenv, find_dotenv\n",
    "# _= load_dotenv(find_dotenv())\n",
    "\n",
    "# ap =os.getenv(\"MY_VAR\")"
   ]
  },
  {
   "cell_type": "code",
   "execution_count": null,
   "id": "997a636c",
   "metadata": {
    "executionInfo": {
     "elapsed": 6,
     "status": "ok",
     "timestamp": 1724940765650,
     "user": {
      "displayName": "Jae Choi",
      "userId": "11721422988883293277"
     },
     "user_tz": -540
    },
    "id": "4l9Clt5rqb7A"
   },
   "outputs": [],
   "source": [
    "# !pip install langchain\n",
    "# !pip install openai"
   ]
  },
  {
   "cell_type": "code",
   "execution_count": null,
   "id": "b2f11e74",
   "metadata": {
    "colab": {
     "base_uri": "https://localhost:8080/"
    },
    "executionInfo": {
     "elapsed": 22605,
     "status": "ok",
     "timestamp": 1724940788249,
     "user": {
      "displayName": "Jae Choi",
      "userId": "11721422988883293277"
     },
     "user_tz": -540
    },
    "id": "s-ImCydtuahh",
    "lines_to_next_cell": 2,
    "outputId": "83f8d237-1a0b-43b8-a841-0c8680bf13c3"
   },
   "outputs": [],
   "source": [
    "!pip install -U langchain-openai\n",
    "!pip install langchain"
   ]
  },
  {
   "cell_type": "code",
   "execution_count": null,
   "id": "01f28b56",
   "metadata": {
    "executionInfo": {
     "elapsed": 8385,
     "status": "ok",
     "timestamp": 1724940805712,
     "user": {
      "displayName": "Jae Choi",
      "userId": "11721422988883293277"
     },
     "user_tz": -540
    },
    "id": "E68TvgAvqi9c"
   },
   "outputs": [],
   "source": [
    "# prompt: 어떻게 api_key를 넣는가?\n",
    "import os\n",
    "from langchain_openai import ChatOpenAI\n",
    "from dotenv import load_dotenv, find_dotenv\n",
    "\n",
    "# Load the environment variables from the .env file\n",
    "load_dotenv(find_dotenv())\n",
    "\n",
    "# Get the OpenAI API key from the environment variables\n",
    "api_key = os.getenv(\"OPENAI_API_KEY\")"
   ]
  },
  {
   "cell_type": "code",
   "execution_count": null,
   "id": "101ae724",
   "metadata": {},
   "outputs": [],
   "source": [
    "api_key = 'YOUR_API_KEY'"
   ]
  },
  {
   "cell_type": "code",
   "execution_count": null,
   "id": "9d47f3b7",
   "metadata": {
    "executionInfo": {
     "elapsed": 1246,
     "status": "ok",
     "timestamp": 1724940931607,
     "user": {
      "displayName": "Jae Choi",
      "userId": "11721422988883293277"
     },
     "user_tz": -540
    },
    "id": "fqnH_TF0rF3d"
   },
   "outputs": [],
   "source": [
    "url = \"https://github.com/tlorans/ClimateRisks/blob/main/DEXUSEU.csv?raw=true\"\n",
    "\n",
    "import pandas as pd\n",
    "data = pd.read_csv(url)\n",
    "data.rename(columns = {\"DEXUSEU\":\"Exchange Rate Dollar to Euro\"}, inplace = True)\n",
    "data.to_csv(\"exchange_rate.csv\", index = None)"
   ]
  },
  {
   "cell_type": "code",
   "execution_count": null,
   "id": "0df7657f",
   "metadata": {},
   "outputs": [],
   "source": [
    "!pip install langchain-community # Install the langchain_community package"
   ]
  },
  {
   "cell_type": "code",
   "execution_count": null,
   "id": "70a5d6ae",
   "metadata": {
    "colab": {
     "base_uri": "https://localhost:8080/",
     "height": 598
    },
    "executionInfo": {
     "elapsed": 331,
     "status": "error",
     "timestamp": 1724940934919,
     "user": {
      "displayName": "Jae Choi",
      "userId": "11721422988883293277"
     },
     "user_tz": -540
    },
    "id": "GpX9chYVHuUI",
    "outputId": "b55017a6-f2fb-4c8d-8d0f-e29c40865f9e"
   },
   "outputs": [],
   "source": [
    "from langchain.document_loaders import CSVLoader\n",
    "\n",
    "file = \"exchange_rate.csv\"\n",
    "loader = CSVLoader(file_path = file)\n",
    "data = loader.load()\n",
    "print(data[0])"
   ]
  },
  {
   "cell_type": "markdown",
   "id": "9eda4a57",
   "metadata": {
    "id": "O5da_Wwf7ZVL"
   },
   "source": [
    "Custom Tools"
   ]
  },
  {
   "cell_type": "code",
   "execution_count": null,
   "id": "d1930bfd",
   "metadata": {
    "id": "PXQaXdH2uDrb"
   },
   "outputs": [],
   "source": [
    "!pip uninstall -y docarray\n",
    "!pip install docarray\n",
    "!pip install tiktoken"
   ]
  },
  {
   "cell_type": "code",
   "execution_count": null,
   "id": "45a04844",
   "metadata": {
    "id": "yaHvvdUt5q2u"
   },
   "outputs": [],
   "source": [
    "from langchain.indexes import VectorstoreIndexCreator\n",
    "from langchain.vectorstores import DocArrayInMemorySearch\n",
    "from langchain.embeddings import OpenAIEmbeddings # import embeddings\n",
    "\n",
    "# Initialize embeddings object\n",
    "embeddings = OpenAIEmbeddings(\n",
    "    openai_api_key = api_key\n",
    ")\n",
    "\n",
    "index = VectorstoreIndexCreator(\n",
    "    vectorstore_cls=DocArrayInMemorySearch,\n",
    "    embedding=embeddings # add embeddings argument\n",
    ").from_loaders([loader])"
   ]
  },
  {
   "cell_type": "code",
   "execution_count": null,
   "id": "9bbde342",
   "metadata": {},
   "outputs": [],
   "source": [
    "from langchain.llms import OpenAI # import the OpenAI class\n",
    "\n",
    "llm = OpenAI(\n",
    "    temperature=0,\n",
    "    openai_api_key = api_key\n",
    ")"
   ]
  },
  {
   "cell_type": "code",
   "execution_count": null,
   "id": "450aa61d",
   "metadata": {
    "colab": {
     "base_uri": "https://localhost:8080/",
     "height": 391
    },
    "id": "d7M71SXrSRDe",
    "outputId": "c5345447-46a0-48bf-eaeb-05d035f9fd7a"
   },
   "outputs": [],
   "source": [
    "index.query(\n",
    "    \"What is the last exchange rate? Gives the date\",\n",
    "    llm = llm\n",
    "    )"
   ]
  },
  {
   "cell_type": "code",
   "execution_count": null,
   "id": "913e7275",
   "metadata": {},
   "outputs": [],
   "source": [
    "# TODO: docarray 버전 충돌 문제로 인해 실행이 안됨"
   ]
  },
  {
   "cell_type": "code",
   "execution_count": null,
   "id": "6178e1f0",
   "metadata": {
    "colab": {
     "base_uri": "https://localhost:8080/",
     "height": 773
    },
    "id": "QnoZImdUPZIV",
    "outputId": "1a307c06-74e2-46bf-9b18-600213f0c32a"
   },
   "outputs": [],
   "source": [
    "# pip install -U docarray==0.21.0"
   ]
  },
  {
   "cell_type": "code",
   "execution_count": null,
   "id": "96f3025b",
   "metadata": {
    "colab": {
     "base_uri": "https://localhost:8080/",
     "height": 453
    },
    "id": "aVLDrM4eOhzD",
    "outputId": "5b1ac7ad-0488-451c-e5a7-05b3c60c2973"
   },
   "outputs": [],
   "source": [
    "from docarray import DocumentArray, Document\n",
    "\n",
    "# query_text를 사용하여 Document 객체 생성\n",
    "query_text = \"What is the last exchange rate? Gives the date\"\n",
    "query_doc = Document(text=query_text)\n",
    "\n",
    "# Document 객체를 DocumentArray에 추가\n",
    "docs = DocumentArray([query_doc])\n",
    "\n",
    "# DocumentArray를 사용하여 쿼리 실행\n",
    "response = index.query(docs)\n",
    "\n",
    "print(response)\n",
    "\n"
   ]
  },
  {
   "cell_type": "code",
   "execution_count": null,
   "id": "3d081cef",
   "metadata": {
    "id": "MJnxU3gpBFCK"
   },
   "outputs": [],
   "source": []
  },
  {
   "cell_type": "code",
   "execution_count": null,
   "id": "c3f0d2ea",
   "metadata": {
    "id": "K0KJyKOwOoEb"
   },
   "outputs": [],
   "source": [
    "from langchain.tools import Tool\n",
    "\n",
    "knowledge_tool = Tool(\n",
    "    name = \"FX Rate\",\n",
    "    func = index.query,\n",
    "    description = \"Useful for when you need to search for the exchange rate. Provides your input as a search query.\"\n",
    ")"
   ]
  },
  {
   "cell_type": "code",
   "execution_count": null,
   "id": "89a7bc23",
   "metadata": {
    "colab": {
     "base_uri": "https://localhost:8080/",
     "height": 651
    },
    "id": "PnxZJTWiOoAr",
    "outputId": "11779795-545b-4e36-fe1c-fc7e9b98cec9"
   },
   "outputs": [],
   "source": [
    "from langchain.agents import AgentType\n",
    "from langchain.agents import load_tools, initialize_agent\n",
    "from langchain.chat_models import ChatOpenAI\n",
    "\n",
    "chat = ChatOpenAI(temperature = 0.)\n",
    "\n",
    "\n",
    "tools = [knowledge_tool]\n",
    "\n",
    "agent = initialize_agent(\n",
    "    tools,\n",
    "    chat,\n",
    "    agent = AgentType.CHAT_ZERO_SHOT_REACT_DESCRIPTION,\n",
    "    handle_parsing_errors = True,\n",
    "    verbose = True\n",
    ")\n",
    "\n",
    "agent.run(\"What was the exchange rate in April 2022?\")"
   ]
  },
  {
   "cell_type": "markdown",
   "id": "c551449d",
   "metadata": {
    "id": "YBkvOZoKVhIQ"
   },
   "source": [
    "Interacting with Other tools"
   ]
  },
  {
   "cell_type": "code",
   "execution_count": null,
   "id": "3370ce64",
   "metadata": {
    "colab": {
     "base_uri": "https://localhost:8080/"
    },
    "id": "5BG_65PWOnxa",
    "outputId": "fe37dcba-0161-4925-a406-978727a9a50e"
   },
   "outputs": [],
   "source": [
    "!pip install duckduckgo-search"
   ]
  },
  {
   "cell_type": "code",
   "execution_count": null,
   "id": "7e97dfc6",
   "metadata": {
    "id": "VKnrtnVyOntf"
   },
   "outputs": [],
   "source": [
    "tools = load_tools([\"llm-math\"], llm = chat)\n",
    "\n",
    "from langchain.tools import DuckDuckGoSearchRun\n",
    "search = DuckDuckGoSearchRun()\n",
    "\n",
    "duckduckgo_tool = Tool(\n",
    "    name = 'DuckDuckGo Search',\n",
    "    func = search.run,\n",
    "    description = \"Useful for when you need to do a search on the internet to find information that another tool can't find. be specific with your input.\"\n",
    ")\n",
    "\n",
    "tools.append(knowledge_tool)\n",
    "tools.append(duckduckgo_tool)\n",
    "\n",
    "agent = initialize_agent(\n",
    "    tools,\n",
    "    chat,\n",
    "    agent = AgentType.CHAT_ZERO_SHOT_REACT_DESCRIPTION,\n",
    "    handle_parsing_errors = True,\n",
    "    verbose = True\n",
    ")"
   ]
  },
  {
   "cell_type": "code",
   "execution_count": null,
   "id": "d8415c7e",
   "metadata": {
    "colab": {
     "base_uri": "https://localhost:8080/",
     "height": 810
    },
    "id": "Ertx2us4Onpu",
    "outputId": "764ec41f-2287-45c7-df06-77915339e3bf"
   },
   "outputs": [],
   "source": [
    "query = \"\"\"Process as follow:\\n\\\n",
    "1. Search for Tesla's revenue in 2022. \\n\\\n",
    "2. Find the exchange rate in December 2022. \\n\\\n",
    "3. Multiply Tesla's revenue in 2022 with the exchange rate. \\n\\\n",
    "\"\"\"\n",
    "agent.run(query)"
   ]
  },
  {
   "cell_type": "code",
   "execution_count": null,
   "id": "8b3d6012",
   "metadata": {
    "id": "ntEVqlVoVyps"
   },
   "outputs": [],
   "source": []
  },
  {
   "cell_type": "markdown",
   "id": "53f3e310",
   "metadata": {
    "id": "x7HXwdMTV6i-"
   },
   "source": [
    "연습"
   ]
  },
  {
   "cell_type": "code",
   "execution_count": null,
   "id": "aea4eed9",
   "metadata": {
    "id": "O4HaISVKVylz"
   },
   "outputs": [],
   "source": [
    "url = \"\thttps://pasteur.epa.gov/uploads/10.23719/1528686/SupplyChainGHGEmissionFactors_v1.2_NAICS_CO2e_USD2021.csv\"\n",
    "\n",
    "import pandas as pd\n",
    "emissions = pd.read_csv(url)\n",
    "\n",
    "emissions.to_csv(\"emissions_factors.csv\", index = None)\n",
    "\n",
    "file = \"emissions_factors.csv\"\n",
    "loader = CSVLoader(file_path = file)\n",
    "data = loader.load()\n",
    "\n",
    "index = VectorstoreIndexCreator(\n",
    "    vectorstore_cls=DocArrayInMemorySearch\n",
    ").from_loaders([loader])"
   ]
  },
  {
   "cell_type": "code",
   "execution_count": null,
   "id": "d8a59676",
   "metadata": {
    "colab": {
     "base_uri": "https://localhost:8080/",
     "height": 391
    },
    "id": "_Rca9wouVyh4",
    "outputId": "851a93be-1183-4b1e-9f9d-adeef2e44abd"
   },
   "outputs": [],
   "source": [
    "index.query(\"What is the emission factor with margins for automobile industry?\")"
   ]
  },
  {
   "cell_type": "code",
   "execution_count": null,
   "id": "2b9da9d8",
   "metadata": {
    "colab": {
     "base_uri": "https://localhost:8080/"
    },
    "id": "i2TwSVqnVyeO",
    "outputId": "a5b360a7-01a7-4387-9676-709056bc95ea"
   },
   "outputs": [],
   "source": [
    "!pip install openai\n",
    "!pip install langchain\n",
    "!pip install docarray\n",
    "!pip install tiktoken\n",
    "!pip install duckduckgo-search"
   ]
  },
  {
   "cell_type": "code",
   "execution_count": null,
   "id": "e2a2edc8",
   "metadata": {
    "id": "G4BslYIpVyaU"
   },
   "outputs": [],
   "source": [
    "from langchain.tools import Tool\n",
    "\n",
    "knowledge_tool = Tool(\n",
    "    name = \"Supply Chain Emissions Factors\",\n",
    "    func = index.query,\n",
    "    description = \"Useful for when you need to find the emissions supply-chain for a specific industry. You want to return the emissions factors from the \\\n",
    "    most related industry.\"\n",
    ")"
   ]
  },
  {
   "cell_type": "code",
   "execution_count": null,
   "id": "5d128440",
   "metadata": {
    "id": "QNq9Zs9LVyWM"
   },
   "outputs": [],
   "source": [
    "from langchain.tools import DuckDuckGoSearchRun\n",
    "search = DuckDuckGoSearchRun()\n",
    "\n",
    "duckduckgo_tool = Tool(\n",
    "    name = 'DuckDuckGo Search',\n",
    "    func = search.run,\n",
    "    description = \"Useful for when you need to do a search on the internet to find information that another tool can't find. be specific with your input.\"\n",
    ")"
   ]
  },
  {
   "cell_type": "code",
   "execution_count": null,
   "id": "1af87110",
   "metadata": {
    "id": "LcKQHnH8OnmF"
   },
   "outputs": [],
   "source": [
    "from langchain.agents import AgentType\n",
    "from langchain.agents import load_tools, initialize_agent\n",
    "from langchain.chat_models import ChatOpenAI\n",
    "\n",
    "chat = ChatOpenAI(temperature = 0.)\n",
    "tools = load_tools([\"llm-math\"], llm = chat)\n",
    "\n",
    "tools.append(knowledge_tool)\n",
    "tools.append(duckduckgo_tool)\n",
    "\n",
    "agent = initialize_agent(\n",
    "    tools,\n",
    "    chat,\n",
    "    agent = AgentType.CHAT_ZERO_SHOT_REACT_DESCRIPTION,\n",
    "    handle_parsing_errors = True,\n",
    "    verbose = True\n",
    ")"
   ]
  },
  {
   "cell_type": "code",
   "execution_count": null,
   "id": "78c61251",
   "metadata": {
    "colab": {
     "base_uri": "https://localhost:8080/",
     "height": 983
    },
    "id": "GPikDes-WWGs",
    "outputId": "dbae0395-95db-4f5d-8562-6617c6245004"
   },
   "outputs": [],
   "source": [
    "agent.run(\"\"\"Please follow the following process: \\n\\\n",
    "1. Find Tesla's main activity and last available revenue.\\n\\\n",
    "2. Find the emissions factor with margin corresponding to Tesla's activity\\n\\\n",
    "3. Multiply the emissions factor with the revenue\\n\\\n",
    "Result:\n",
    "\"\"\")"
   ]
  },
  {
   "cell_type": "code",
   "execution_count": null,
   "id": "d0d03c9f",
   "metadata": {
    "id": "p-mWYUBXWWDA"
   },
   "outputs": [],
   "source": []
  },
  {
   "cell_type": "code",
   "execution_count": null,
   "id": "c28c2402",
   "metadata": {
    "id": "2ccV1fxTWV_q"
   },
   "outputs": [],
   "source": []
  },
  {
   "cell_type": "code",
   "execution_count": null,
   "id": "6001699b",
   "metadata": {
    "id": "qDcWNZNyWV7p"
   },
   "outputs": [],
   "source": []
  },
  {
   "cell_type": "code",
   "execution_count": null,
   "id": "3139b119",
   "metadata": {
    "id": "i8yKugoRWV3U"
   },
   "outputs": [],
   "source": []
  },
  {
   "cell_type": "code",
   "execution_count": null,
   "id": "0e9d0941",
   "metadata": {
    "id": "8F0OLmvaWVzq"
   },
   "outputs": [],
   "source": []
  },
  {
   "cell_type": "code",
   "execution_count": null,
   "id": "5df54bb3",
   "metadata": {
    "id": "N9xBBpyXWVwA"
   },
   "outputs": [],
   "source": []
  }
 ],
 "metadata": {
  "jupytext": {
   "main_language": "python"
  },
  "kernelspec": {
   "display_name": "Python 3",
   "name": "python3"
  }
 },
 "nbformat": 4,
 "nbformat_minor": 5
}
