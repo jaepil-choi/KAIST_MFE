{
 "cells": [
  {
   "cell_type": "markdown",
   "id": "088f687d",
   "metadata": {},
   "source": [
    "# 고금계 과제 1 데이터 사용법\n",
    "\n",
    "- 과제1 수행에 필요한 데이터를 불러오는 방법을 알아봅니다\n"
   ]
  },
  {
   "cell_type": "code",
   "execution_count": null,
   "id": "415a23d0",
   "metadata": {},
   "outputs": [],
   "source": [
    "import pandas as pd\n",
    "import numpy as np\n",
    "import matplotlib.pyplot as plt\n",
    "\n",
    "from pathlib import Path"
   ]
  },
  {
   "cell_type": "markdown",
   "id": "ae30ca9f",
   "metadata": {},
   "source": [
    "## 경로 설정\n",
    "\n",
    "- 과제 데이터 파일의 경로를 설정합니다. \n",
    "- 주피터노트북이 있는 폴더의 `data/` 안에 데이터를 두는 것을 권장합니다. "
   ]
  },
  {
   "cell_type": "code",
   "execution_count": null,
   "id": "e9503d77",
   "metadata": {},
   "outputs": [],
   "source": [
    "CWD = Path('.').resolve()\n",
    "DATA_DIR = CWD / 'data'"
   ]
  },
  {
   "cell_type": "code",
   "execution_count": null,
   "id": "62b59e30",
   "metadata": {},
   "outputs": [],
   "source": [
    "fndata_path = DATA_DIR / '고금계과제1_v3.3_201301-202408.csv'"
   ]
  },
  {
   "cell_type": "markdown",
   "id": "30bd586d",
   "metadata": {
    "vscode": {
     "languageId": "plaintext"
    }
   },
   "source": [
    "## 데이터 불러오기\n",
    "\n",
    "- 주식\n",
    "    - 데이터 기간: 2013-01 ~ 2024-08\n",
    "    - 기초 유니버스: KSE(코스피) + KOSDAQ 전체\n",
    "    - 기본적인 전처리가 되어있습니다. \n",
    "        - 생존편향 제거됨\n",
    "        - 데이터 기간 내 존재하지 않은 기업 (2013-01 이전 상장폐지) 제거됨\n",
    "        - 월말일 기준 관리종목/거래정지 종목 제거됨\n",
    "        - 모든 금액은 '원'단위 (천원 아님)\n",
    "        - 모든 %는 1.0 == 100%\n",
    "        - 금융 업종 제거됨\n",
    "        - 월말일 기준 1개월 수익률이 없는 종목 제거\n",
    "        - 날짜 str --> datetime 변환\n",
    "    - 다양한 포맷으로 데이터 호출\n",
    "        - long-format\n",
    "            - 날짜-종목코드를 multi-index로, 여러 항목들(수익률, 이익잉여금 등)을 컬럼으로 하여 한 번에 불러올 수 있습니다. \n",
    "        - wide-format\n",
    "            - 한 개의 항목을 index는 날짜 columns는 종목코드로 하여 불러올 수 있습니다. \n",
    "- 시장수익률\n",
    "- 무위험 이자율"
   ]
  },
  {
   "cell_type": "markdown",
   "id": "11b15fed",
   "metadata": {},
   "source": [
    "### 주식"
   ]
  },
  {
   "cell_type": "markdown",
   "id": "211714a0",
   "metadata": {},
   "source": [
    "#### 기본 사용법"
   ]
  },
  {
   "cell_type": "code",
   "execution_count": null,
   "id": "44322dd0",
   "metadata": {},
   "outputs": [],
   "source": [
    "from fndata import FnStockData"
   ]
  },
  {
   "cell_type": "code",
   "execution_count": null,
   "id": "a41d82ce",
   "metadata": {},
   "outputs": [],
   "source": [
    "# 데이터 모듈을 생성하며 기본 전처리들을 수행합니다. \n",
    "fn = FnStockData(fndata_path)"
   ]
  },
  {
   "cell_type": "code",
   "execution_count": null,
   "id": "4dea5c2d",
   "metadata": {},
   "outputs": [],
   "source": [
    "# 사용 가능한 데이터를 확인합니다.\n",
    "fn.get_items()"
   ]
  },
  {
   "cell_type": "code",
   "execution_count": null,
   "id": "4853d172",
   "metadata": {},
   "outputs": [],
   "source": [
    "# 분석 기간의 데이터 유니버스를 확인합니다. (금융업종, 거래정지, 관리종목 제외)\n",
    "univ_list = fn.get_universe()\n",
    "univ_list"
   ]
  },
  {
   "cell_type": "code",
   "execution_count": null,
   "id": "fc25d6bb",
   "metadata": {},
   "outputs": [],
   "source": [
    "len(univ_list)"
   ]
  },
  {
   "cell_type": "code",
   "execution_count": null,
   "id": "3e02e298",
   "metadata": {},
   "outputs": [],
   "source": [
    "# 이름으로 종목코드를 확인합니다.\n",
    "fn.name_to_symbol('삼성전자')"
   ]
  },
  {
   "cell_type": "code",
   "execution_count": null,
   "id": "c46b7b92",
   "metadata": {},
   "outputs": [],
   "source": [
    "# 종목코드로 이름을 확인합니다. \n",
    "fn.symbol_to_name('A005930')"
   ]
  },
  {
   "cell_type": "markdown",
   "id": "e6285236",
   "metadata": {},
   "source": [
    "#### long-format으로 불러오기"
   ]
  },
  {
   "cell_type": "code",
   "execution_count": null,
   "id": "317301aa",
   "metadata": {},
   "outputs": [],
   "source": [
    "# 원하는 데이터들을 long-format으로 불러옵니다.\n",
    "\n",
    "my_data = ['수정주가(원)', '수익률 (1개월)(%)']\n",
    "df = fn.get_data(my_data) # list가 들어가면 long-format으로 불러옵니다.\n",
    "df"
   ]
  },
  {
   "cell_type": "code",
   "execution_count": null,
   "id": "c5e4de9b",
   "metadata": {},
   "outputs": [],
   "source": [
    "# 모든 데이터를 불러옵니다. \n",
    "\n",
    "df = fn.get_data()\n",
    "df"
   ]
  },
  {
   "cell_type": "markdown",
   "id": "1c7b24bc",
   "metadata": {},
   "source": [
    "#### wide-format으로 불러오기"
   ]
  },
  {
   "cell_type": "code",
   "execution_count": null,
   "id": "03b797dd",
   "metadata": {},
   "outputs": [],
   "source": [
    "my_data = '수익률 (1개월)(%)'\n",
    "fn.get_data(my_data) # string이 들어가면 wide-format으로 불러옵니다."
   ]
  },
  {
   "cell_type": "markdown",
   "id": "c39937bf",
   "metadata": {},
   "source": [
    "### 시장수익률\n",
    "\n",
    "- 기초 유니버스로 KSE+KOSDAQ을 썼기 때문에 팩터 분석을 위해 이에 대응하는 시장수익률을 쓰는 것이 좋습니다. \n",
    "    - (기본) [MKF2000](https://www.fnindex.co.kr/multi/detail?menu_type=0&fund_cd=FI00)\n",
    "    - (보조) [KRX300](https://ko.wikipedia.org/wiki/KRX_300)\n",
    "    - 두 지수 모두 코스피+코스닥을 기초로 시가총액, 거래대금 등을 고려하여 상위 2000/300 종목을 선정해 지수를 만듭니다. \n",
    "    - 두 지수 모두 기본적으로 시가총액 가중 방식으로 지수를 산출합니다. \n",
    "    - 파마 프랜치의 경우 NYSE, AMEX, NASDAQ에 상장된 모든 주식의 시가총액 가중 평균을 사용하였습니다. ([링크](https://mba.tuck.dartmouth.edu/pages/faculty/ken.french/Data_Library/f-f_factors.html))"
   ]
  },
  {
   "cell_type": "markdown",
   "id": "be96f3b2",
   "metadata": {},
   "source": [
    "#### 기본 사용법"
   ]
  },
  {
   "cell_type": "code",
   "execution_count": null,
   "id": "eda15e8f",
   "metadata": {},
   "outputs": [],
   "source": [
    "from fndata import FnMarketData"
   ]
  },
  {
   "cell_type": "code",
   "execution_count": null,
   "id": "bc34ebf3",
   "metadata": {},
   "outputs": [],
   "source": [
    "fnmkt_path = DATA_DIR / '고금계과제_시장수익률_201301-202408.csv'"
   ]
  },
  {
   "cell_type": "code",
   "execution_count": null,
   "id": "545a06e9",
   "metadata": {},
   "outputs": [],
   "source": [
    "# 데이터 모듈을 생성하며 기본 전처리들을 수행합니다. \n",
    "fnmkt = FnMarketData(fnmkt_path)"
   ]
  },
  {
   "cell_type": "markdown",
   "id": "acd41a55",
   "metadata": {},
   "source": [
    "#### long-format으로 불러오기"
   ]
  },
  {
   "cell_type": "code",
   "execution_count": null,
   "id": "d30c6ec6",
   "metadata": {},
   "outputs": [],
   "source": [
    "fnmkt.get_data(format='long', multiindex=True)"
   ]
  },
  {
   "cell_type": "markdown",
   "id": "1134bf54",
   "metadata": {},
   "source": [
    "#### wide-format으로 불러오기"
   ]
  },
  {
   "cell_type": "code",
   "execution_count": null,
   "id": "15a2e97b",
   "metadata": {},
   "outputs": [],
   "source": [
    "fnmkt.get_data(format='wide')"
   ]
  },
  {
   "cell_type": "markdown",
   "id": "62d19e83",
   "metadata": {},
   "source": [
    "### 무위험이자율\n",
    "\n",
    "- 무위험 이자율의 경우 과제 설명과 같이 [한국은행경제통계 시스템의 통화안정증권 364일물 금리](https://ecos.bok.or.kr/#/Short/7478c5)를 사용하였습니다. \n",
    "    - 연율화 되어있으므로 과제 수행 시 월율화 작업이 필요합니다. "
   ]
  },
  {
   "cell_type": "markdown",
   "id": "5b52522e",
   "metadata": {},
   "source": [
    "#### 사용법\n",
    "\n",
    "- 무위험 이자율의 경우 데이터 가이드 포맷이 아니므로 별도 모듈을 제공하지 않습니다. "
   ]
  },
  {
   "cell_type": "code",
   "execution_count": null,
   "id": "c158810d",
   "metadata": {},
   "outputs": [],
   "source": [
    "rf_path = DATA_DIR / '통안채1년물_월평균_201301-202408.csv'"
   ]
  },
  {
   "cell_type": "code",
   "execution_count": null,
   "id": "40cccf22",
   "metadata": {},
   "outputs": [],
   "source": [
    "df = pd.read_csv(rf_path)\n",
    "df"
   ]
  },
  {
   "cell_type": "code",
   "execution_count": null,
   "id": "8527faf3",
   "metadata": {},
   "outputs": [],
   "source": [
    "df.info()"
   ]
  },
  {
   "cell_type": "code",
   "execution_count": null,
   "id": "4adeb8c6",
   "metadata": {},
   "outputs": [],
   "source": []
  }
 ],
 "metadata": {
  "kernelspec": {
   "display_name": ".venv",
   "language": "python",
   "name": "python3"
  }
 },
 "nbformat": 4,
 "nbformat_minor": 5
}
