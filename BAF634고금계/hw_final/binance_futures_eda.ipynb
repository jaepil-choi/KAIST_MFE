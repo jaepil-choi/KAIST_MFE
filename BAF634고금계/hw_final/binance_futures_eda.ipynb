{
 "cells": [
  {
   "cell_type": "code",
   "execution_count": null,
   "id": "d5153f53",
   "metadata": {
    "lines_to_next_cell": 2
   },
   "outputs": [],
   "source": [
    "import pandas as pd\n",
    "import numpy as np\n",
    "import matplotlib.pyplot as plt\n",
    "\n",
    "# Load the data\n",
    "file_path = 'binance_futures.csv'  # Update this path if needed\n",
    "binance_futures_df = pd.read_csv(file_path, header=[0, 1])\n",
    "\n",
    "# Drop any fully empty columns or rows\n",
    "binance_futures_df.dropna(how='all', axis=1, inplace=True)  # Drop fully empty columns\n",
    "binance_futures_df.dropna(how='all', axis=0, inplace=True)  # Drop fully empty rows\n",
    "\n",
    "# Descriptive statistics for key metrics\n",
    "descriptive_stats = binance_futures_df.describe(include=[float])\n",
    "print(\"Descriptive Statistics of Binance Futures Data:\")\n",
    "descriptive_stats"
   ]
  },
  {
   "cell_type": "code",
   "execution_count": null,
   "id": "2d0668b3",
   "metadata": {
    "lines_to_next_cell": 2
   },
   "outputs": [],
   "source": [
    "\n",
    "# Flatten multi-level column names for easier processing\n",
    "binance_futures_df.columns = ['_'.join(col).strip() for col in binance_futures_df.columns]\n",
    "\n",
    "# Filter for columns containing 'quote_volume' to calculate average quote volumes per symbol\n",
    "quote_volume_cols = [col for col in binance_futures_df.columns if 'quote_volume' in col]\n",
    "\n",
    "# Calculate the mean quote volume for each symbol\n",
    "quote_volume_means = binance_futures_df[quote_volume_cols].mean()\n",
    "quote_volume_means = quote_volume_means.reset_index()\n",
    "quote_volume_means.columns = ['Symbol', 'Average Quote Volume']"
   ]
  },
  {
   "cell_type": "code",
   "execution_count": null,
   "id": "62e09e55",
   "metadata": {},
   "outputs": [],
   "source": [
    "print(\"\\nAverage Quote Volume per Symbol:\")\n",
    "quote_volume_means['Symbol'] = quote_volume_means['Symbol'].str.replace('/USDT:USDT_quote_volume', '')\n",
    "quote_volume_means.set_index('Symbol', inplace=True)\n",
    "quote_volume_means.sort_values('Average Quote Volume', ascending=False, inplace=True)"
   ]
  },
  {
   "cell_type": "code",
   "execution_count": null,
   "id": "311fde44",
   "metadata": {},
   "outputs": [],
   "source": [
    "quote_volume_means.plot(kind='bar', title='Average Quote Volume per Symbol', ylabel='Average Quote Volume', xlabel='Symbol', figsize=(15, 7))"
   ]
  },
  {
   "cell_type": "code",
   "execution_count": null,
   "id": "24c2fbd9",
   "metadata": {},
   "outputs": [],
   "source": [
    "quote_volume_means_percent = quote_volume_means / quote_volume_means.sum() * 100\n",
    "\n",
    "quote_volume_means_percent.round(2)"
   ]
  },
  {
   "cell_type": "code",
   "execution_count": null,
   "id": "a5bac3de",
   "metadata": {},
   "outputs": [],
   "source": []
  }
 ],
 "metadata": {
  "kernelspec": {
   "display_name": ".venv",
   "language": "python",
   "name": "python3"
  }
 },
 "nbformat": 4,
 "nbformat_minor": 5
}
