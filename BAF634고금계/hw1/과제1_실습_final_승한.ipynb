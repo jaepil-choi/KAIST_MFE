{
 "cells": [
  {
   "cell_type": "code",
   "execution_count": null,
   "id": "ea998059",
   "metadata": {
    "lines_to_next_cell": 2
   },
   "outputs": [],
   "source": [
    "import pandas as pd\n",
    "import numpy as np\n",
    "from portsort import portsort\n",
    "\n",
    "import matplotlib.pyplot as plt\n",
    "\n",
    "from pathlib import Path\n",
    "from fndata import FnStockData\n",
    "from pandas.tseries.offsets import MonthEnd\n",
    "from pandas.tseries.offsets import YearEnd\n",
    "from tqdm import tqdm\n",
    "import warnings\n",
    "warnings.filterwarnings('ignore')"
   ]
  },
  {
   "cell_type": "markdown",
   "id": "51579d13",
   "metadata": {},
   "source": [
    "#### 선견편향 제거를 위해서 사이즈 레깅"
   ]
  },
  {
   "cell_type": "code",
   "execution_count": null,
   "id": "c91c5f95",
   "metadata": {
    "lines_to_next_cell": 2
   },
   "outputs": [],
   "source": [
    "### 매월 6월 말 기준으로 리벨런싱\n",
    "factor_df=pd.read_csv('factor.csv')\n",
    "# factor_df['size_lag1']=factor_df.groupby('Symbol')['size'].shift(1)\n",
    "rebalancing_period=sorted(list(set(pd.to_datetime(factor_df['date'])+YearEnd(0)+MonthEnd(-6))))\n",
    "factor_df['date']=pd.to_datetime(factor_df['date'])\n",
    "\n",
    "factor_df_size_ffill=factor_df.copy()\n",
    "factor_df_size_ffill=factor_df_size_ffill.drop_duplicates(subset=['date','Symbol'])\n",
    "factor_df_size_ffill=factor_df_size_ffill.loc[~(factor_df_size_ffill['수익률 (1개월)(%)'].isna())]\n",
    "factor_df_size_ffill=factor_df_size_ffill.loc[~(factor_df_size_ffill['기말발행주식수 (보통)(주)'].isna())]"
   ]
  },
  {
   "cell_type": "code",
   "execution_count": null,
   "id": "adc8af0f",
   "metadata": {},
   "outputs": [],
   "source": [
    "factor_df.columns"
   ]
  },
  {
   "cell_type": "markdown",
   "id": "9a75fe3d",
   "metadata": {},
   "source": [
    "# 백테스트 짜기\n",
    "\n",
    "#### 1. 모멘텀 팩터를 제외한 다른 팩터들은 매년 6월 말 리벨런싱/ 모멘텀은 매달 말 리벨런싱.\n",
    "#### 2. 다른 팩터들은 이미 래깅이 되어있지만 사이즈는 안되어 있어서 레깅함.\n",
    "#### 3. 포트폴리오 구성할 떄도 6월 말의 시총액 가중평균으로 7월부터 이듬 해 6월까지 리턴을 가중평균 해야함.\n",
    "#### 4. Independent Sorting"
   ]
  },
  {
   "cell_type": "code",
   "execution_count": null,
   "id": "5ef77aac",
   "metadata": {},
   "outputs": [],
   "source": [
    "class backtest:\n",
    "\n",
    "    def __init__(self,factor_df,quantile_1,quantile_2,factor_1,factor_2):\n",
    "        self.factor_df=factor_df\n",
    "        self.quantile_1=quantile_1\n",
    "        self.quantile_2=quantile_2\n",
    "        self.factor_1=factor_1\n",
    "        self.factor_2=factor_2\n",
    "        \n",
    "\n",
    "\n",
    "\n",
    "\n",
    "    def winsorizing(factor_list, q):\n",
    "        #factor_list=[i+'w' for i in factor_list]\n",
    "        self.factor_df[factor_list]=self.factor_df.groupby('date')[factor_list].apply(lambda x: x.clip(x.quantile(q, interpolation='lower'), \n",
    "                     x.quantile(1-q, interpolation='higher'), axis=0))\n",
    "\n",
    "\n",
    "    \n",
    "\n",
    "\n",
    "    def assign_scores(self,x,quantile_list):\n",
    "        # 각 그룹에 대해 퀀타일을 계산\n",
    "        result = x.quantile(q=quantile_list)\n",
    "        score = pd.Series(np.NaN, index=x.index)\n",
    "        \n",
    "        for i in range(len(quantile_list)):\n",
    "            if i == 0:\n",
    "                score = np.where(x <= result[quantile_list[i]], i + 1, score)\n",
    "            else:\n",
    "                score = np.where((x <= result[quantile_list[i]]) & \n",
    "                                (x >= result[quantile_list[i-1]]), \n",
    "                                i + 1, score)\n",
    "        \n",
    "        # 마지막 퀀타일보다 큰 값에 대해 score 할당\n",
    "        score = np.where(x > result[quantile_list[-1]], len(quantile_list) + 1, score)\n",
    "        \n",
    "        return pd.Series(score, index=x.index)\n",
    "\n",
    "\n",
    "        \n",
    "    def sorting(self,dependent_sort=True,lagging1=0,lagging2=0):\n",
    "        self.test=self.factor_df.copy()\n",
    "        self.test=self.test.loc[self.test['거래정지여부']=='정상']#### 거래되지 않는 종목들 테스트에서 제외\n",
    "        self.test=self.test.loc[self.test['관리종목여부']=='정상']\n",
    "        self.test['rtn']=self.test['수익률 (1개월)(%)']/100## 이름 헷갈려서 바꿈\n",
    "        \n",
    "        if lagging1!=0:\n",
    "       \n",
    "            self.test[self.factor_1]=self.test.groupby('Symbol')[self.factor_1].shift(lagging1)\n",
    "        if lagging2!=0:\n",
    "            self.test[self.factor_2]=self.test.groupby('Symbol')[self.factor_2].shift(lagging2)\n",
    "        \n",
    "        self.test['size_1']=self.test.groupby('Symbol')['size'].shift(1)\n",
    "        \n",
    "        self.test['score']=self.test.groupby('date')[self.factor_1].transform(func=lambda x: self.assign_scores(x,quantile_list=self.quantile_1))\n",
    "        ###dependent sort\n",
    "        if dependent_sort:\n",
    "            self.test['score2']=self.test.groupby('date')[self.factor_2].transform(func=lambda x: self.assign_scores(x,quantile_list=self.quantile_2))\n",
    "           \n",
    "\n",
    "        else: ### independent_sort\n",
    "            self.test['score2']=self.test.groupby(['date','score'])[self.factor_2].transform(func=lambda x: self.assign_scores(x,quantile_list=self.quantile_2))\n",
    "            \n",
    "\n",
    "\n",
    "\n",
    "\n",
    "    def run(self,score1,score2,value_weighted=True,not_monthly_rebalancing=True):\n",
    "        \n",
    "        self.test['indicator']=np.where((self.test['score']==score1) & (self.test['score2']==score2),1,np.nan)\n",
    "        #self.result=self.test.loc[self.test['indicator']==1]\n",
    "        self.test['indicator_1']=self.test.groupby('Symbol')['indicator'].shift(1)\n",
    "        if not_monthly_rebalancing:\n",
    "            self.test['indicator_1']=self.test.groupby('Symbol')['indicator_1'].ffill()\n",
    "        #test_period=sorted((list(set(self.test['date']))))\n",
    "        #self.rebalancing_period=rebalancing_period\n",
    "\n",
    "        if value_weighted:\n",
    "            self.v_weight=self.test.loc[self.test['indicator_1'].notna()]\n",
    "            self.v_weight['weight']=self.v_weight.groupby(['date','indicator_1'])['size_1'].transform(lambda x: x/x.sum())\n",
    "            self.port=pd.merge( self.test, self.v_weight[['date','Symbol','weight']],on=['date','Symbol'],how='left')[['date',\"Symbol\",'weight','rtn','indicator_1']]\n",
    "        else:\n",
    "            self.port=self.test.copy()\n",
    "            self.port['weight']=self.port.groupby(['date'])['indicator_1'].transform(lambda x: x/x.count())\n",
    "\n",
    "        self.port['port_rtn']=self.port['rtn']*self.port['weight']\n",
    "        self.result=self.port[['date','Symbol','indicator_1','port_rtn']]\n",
    "        self.port_rtn=self.result.dropna().groupby('date')['port_rtn'].sum()\n",
    "        return self.port_rtn\n",
    "        \n",
    "\n",
    "\n",
    "\n",
    "        \n",
    "        "
   ]
  },
  {
   "cell_type": "code",
   "execution_count": null,
   "id": "a0c0c7df",
   "metadata": {},
   "outputs": [],
   "source": [
    "from tqdm import tqdm\n",
    "quantile_list=[0.2,0.4,0.6,0.8]\n",
    "test=backtest(factor_df=factor_df_size_ffill,quantile_1=quantile_list,quantile_2=quantile_list,factor_1='size',factor_2='bm')\n",
    "test.sorting(lagging2=6)\n",
    "result=pd.DataFrame()\n",
    "for i in tqdm(range(1,6)):\n",
    "    for j in range(1,6):\n",
    "        tmp=test.run(score1=i,score2=j,value_weighted=True)\n",
    "        result[f'size_{i}_bm_{6-j}']=tmp"
   ]
  },
  {
   "cell_type": "code",
   "execution_count": null,
   "id": "5b258a20",
   "metadata": {},
   "outputs": [],
   "source": [
    "import plotly.express as px\n",
    "px.line((1+result).cumprod())"
   ]
  },
  {
   "cell_type": "code",
   "execution_count": null,
   "id": "9d40b68d",
   "metadata": {},
   "outputs": [],
   "source": [
    "result=result*100"
   ]
  },
  {
   "cell_type": "code",
   "execution_count": null,
   "id": "d86cae1e",
   "metadata": {},
   "outputs": [],
   "source": [
    "result.to_csv('5x5_table.csv')"
   ]
  },
  {
   "cell_type": "markdown",
   "id": "9b847b96",
   "metadata": {},
   "source": [
    "## 팩터 수익률"
   ]
  },
  {
   "cell_type": "code",
   "execution_count": null,
   "id": "8fed8ebc",
   "metadata": {},
   "outputs": [],
   "source": [
    "factor_df_size_ffill['devil_hml_m']=factor_df_size_ffill['devil_hml'].copy()"
   ]
  },
  {
   "cell_type": "code",
   "execution_count": null,
   "id": "4ffc7eb1",
   "metadata": {
    "lines_to_next_cell": 2
   },
   "outputs": [],
   "source": [
    "factor_df_size_ffill['devil_hml_m']=factor_df_size_ffill['devil_hml'].copy() ### 매달 리벨런싱하는 것도 만듬\n",
    "factors=['bm','op','invit','devil_hml','mom','devil_hml_m']\n",
    "quantile_list1=[0.5]\n",
    "quantile_list2=[0.3, 0.7]\n",
    "factor_result=pd.DataFrame()\n",
    "quantile_list3=[0.3,0.7]\n",
    "for factor in tqdm(factors):\n",
    "\n",
    "        \n",
    "    for i in range(1,3):\n",
    "        for j in range(1,4):\n",
    "            factor_test=backtest(factor_df=factor_df_size_ffill,quantile_1=quantile_list1,quantile_2=quantile_list2,factor_1='size',factor_2=factor)\n",
    "            factor_test.sorting(lagging2=6)\n",
    "            if factor=='mom':\n",
    "                factor_test=backtest(factor_df=factor_df_size_ffill,quantile_1=quantile_list1,quantile_2=quantile_list3,factor_1='size',factor_2=factor)\n",
    "                factor_test.sorting()\n",
    "                tmp=factor_test.run(score1=i,score2=j, value_weighted=True,not_monthly_rebalancing=False)\n",
    "\n",
    "            elif factor=='devil_hml_m':\n",
    "                factor_test=backtest(factor_df=factor_df_size_ffill,quantile_1=quantile_list1,quantile_2=quantile_list2,factor_1='size',factor_2=factor)\n",
    "                factor_test.sorting()\n",
    "                tmp=factor_test.run(score1=i,score2=j, value_weighted=True,not_monthly_rebalancing=False)\n",
    "\n",
    "            else:\n",
    "                tmp=factor_test.run(score1=i,score2=j, value_weighted=True)\n",
    "            if j!=2:\n",
    "                factor_result[f'size_{i}_{factor}_{4-j}']=tmp"
   ]
  },
  {
   "cell_type": "code",
   "execution_count": null,
   "id": "2608a23f",
   "metadata": {},
   "outputs": [],
   "source": [
    "real_factor_result=pd.DataFrame(index=factor_result.index)\n",
    "\n",
    "####bm\n",
    "real_factor_result['HML']=(factor_result['size_1_bm_1']+factor_result['size_2_bm_1']-factor_result['size_1_bm_3']-factor_result['size_2_bm_3'])/2\n",
    "\n",
    "####op\n",
    "real_factor_result['RMW']=(factor_result['size_1_op_1']+factor_result['size_2_op_1']-factor_result['size_1_op_3']-factor_result['size_2_op_3'])/2\n",
    "\n",
    "#####invit\n",
    "real_factor_result['CMA']= -(factor_result['size_1_invit_1']+factor_result['size_2_invit_1']-factor_result['size_1_invit_3']-factor_result['size_2_invit_3'])/2\n",
    "\n",
    "#####mom\n",
    "real_factor_result['UMD']=(factor_result['size_1_mom_1']+factor_result['size_2_mom_1']-factor_result['size_1_mom_3']-factor_result['size_2_mom_3'])/2\n",
    "\n",
    "#####devil_hml\n",
    "real_factor_result['devil_HML']=(factor_result['size_1_devil_hml_1']+factor_result['size_2_devil_hml_1']-factor_result['size_1_devil_hml_3']-factor_result['size_2_devil_hml_3'])/2\n",
    "\n",
    "real_factor_result['devil_HML_m']=(factor_result['size_1_devil_hml_m_1']+factor_result['size_2_devil_hml_m_1']-factor_result['size_1_devil_hml_m_3']-factor_result['size_2_devil_hml_m_3'])/2\n",
    "\n"
   ]
  },
  {
   "cell_type": "code",
   "execution_count": null,
   "id": "823925c6",
   "metadata": {},
   "outputs": [],
   "source": [
    "factor_result2"
   ]
  },
  {
   "cell_type": "code",
   "execution_count": null,
   "id": "64b3b2d6",
   "metadata": {},
   "outputs": [],
   "source": [
    "real_factor_result"
   ]
  },
  {
   "cell_type": "code",
   "execution_count": null,
   "id": "885ca1fd",
   "metadata": {},
   "outputs": [],
   "source": [
    "(1+real_factor_result).cumprod()"
   ]
  },
  {
   "cell_type": "code",
   "execution_count": null,
   "id": "364c2e14",
   "metadata": {
    "lines_to_next_cell": 2
   },
   "outputs": [],
   "source": [
    "(1+real_factor_result).cumprod()"
   ]
  },
  {
   "cell_type": "code",
   "execution_count": null,
   "id": "7a04c167",
   "metadata": {
    "lines_to_next_cell": 2
   },
   "outputs": [],
   "source": [
    "factors=['bm','op','invit']\n",
    "quantile_list1=[0.5]\n",
    "quantile_list2=[1/3, 1-(1/3)]\n",
    "quantile_list3=[0.3,0.7]\n",
    "factor_result=pd.DataFrame()\n",
    "\n",
    "for factor in tqdm(factors):\n",
    "\n",
    "        \n",
    "    for i in range(1,3):\n",
    "        for j in range(1,4):\n",
    "            factor_test=backtest(factor_df=factor_df_size_ffill,quantile_1=quantile_list3,quantile_2=quantile_list1,factor_1=factor,factor_2='size')\n",
    "            factor_test.sorting(lagging1=6)\n",
    "            \n",
    "            if factor=='mom':\n",
    "                tmp=factor_test.run(score1=j,score2=i, value_weighted=True)\n",
    "\n",
    "            else:\n",
    "                tmp=factor_test.run(score1=j,score2=i, value_weighted=True)\n",
    "                #print(f'{i}_{j}')\n",
    "       \n",
    "            factor_result[f'size_{i}_{factor}_{4-j}']=tmp"
   ]
  },
  {
   "cell_type": "code",
   "execution_count": null,
   "id": "388641b1",
   "metadata": {},
   "outputs": [],
   "source": [
    "factor_result"
   ]
  },
  {
   "cell_type": "code",
   "execution_count": null,
   "id": "10dcb67a",
   "metadata": {},
   "outputs": [],
   "source": [
    "real_factor_result['SMB']=np.sum((factor_result.iloc[:,:3].values-factor_result.iloc[:,3:6].values)/3 + (factor_result.iloc[:,6:9].values-factor_result.iloc[:,9:12].values)/3+(factor_result.iloc[:,12:15].values-factor_result.iloc[:,15:18].values)/3,axis=1)/3\n",
    "#real_factor_result['HML'] = -(factor_result.iloc[:,0] + factor_result.iloc[:,3] - factor_result.iloc[:,2] - factor_result.iloc[:, 5])/2"
   ]
  },
  {
   "cell_type": "code",
   "execution_count": null,
   "id": "1b53ed6d",
   "metadata": {},
   "outputs": [],
   "source": [
    "factor_result"
   ]
  },
  {
   "cell_type": "code",
   "execution_count": null,
   "id": "b78ba813",
   "metadata": {},
   "outputs": [],
   "source": [
    "#real_factor_result.drop(columns='devil_HML',inplace=True)"
   ]
  },
  {
   "cell_type": "code",
   "execution_count": null,
   "id": "5b90b2d8",
   "metadata": {},
   "outputs": [],
   "source": [
    "\n",
    "from pathlib import Path\n",
    "from fndata import FnStockData,FnMarketData\n",
    "from pandas.tseries.offsets import MonthEnd\n",
    "from pandas.tseries.offsets import YearEnd\n",
    "CWD = Path('.').resolve()\n",
    "DATA_DIR = CWD / 'data'\n",
    "fndata_path = DATA_DIR / '고금계과제_시장수익률_201301-202408.csv'\n",
    "fn = FnMarketData(fndata_path)\n",
    "df = fn.get_data(format='wide')"
   ]
  },
  {
   "cell_type": "code",
   "execution_count": null,
   "id": "65ff4dbf",
   "metadata": {
    "lines_to_next_cell": 2
   },
   "outputs": [],
   "source": [
    "rf_path = DATA_DIR / '통안채1년물_월평균_201301-202408.csv'\n",
    "rf = pd.read_csv(rf_path)"
   ]
  },
  {
   "cell_type": "code",
   "execution_count": null,
   "id": "6a34a57e",
   "metadata": {
    "lines_to_next_cell": 2
   },
   "outputs": [],
   "source": [
    "df=df.reset_index()\n",
    "rf['date']=df['date']"
   ]
  },
  {
   "cell_type": "code",
   "execution_count": null,
   "id": "c19da889",
   "metadata": {},
   "outputs": [],
   "source": []
  },
  {
   "cell_type": "code",
   "execution_count": null,
   "id": "423c0383",
   "metadata": {},
   "outputs": [],
   "source": [
    "(rf['원자료']/12)/100"
   ]
  },
  {
   "cell_type": "code",
   "execution_count": null,
   "id": "8f9c48bb",
   "metadata": {},
   "outputs": [],
   "source": [
    "real_factor_result=real_factor_result.reset_index()\n",
    "real_factor_result.rename(columns={'index':'date'},inplace=True)\n",
    "real_factor_result"
   ]
  },
  {
   "cell_type": "code",
   "execution_count": null,
   "id": "a639f223",
   "metadata": {},
   "outputs": [],
   "source": [
    "df['RF']=(rf['원자료']/12)/100\n",
    "df['Mkt-RF']=df['MKF2000']-df['RF']\n",
    "real_factor_result=pd.merge(real_factor_result,df[['date','RF','Mkt-RF']],how='left',on=['date'])"
   ]
  },
  {
   "cell_type": "code",
   "execution_count": null,
   "id": "9f563fe8",
   "metadata": {},
   "outputs": [],
   "source": [
    "real_factor_result"
   ]
  },
  {
   "cell_type": "code",
   "execution_count": null,
   "id": "0727d51b",
   "metadata": {},
   "outputs": [],
   "source": [
    "real_factor_result[['HML','RMW',\"CMA\",\"UMD\",'SMB',\"RF\",\"Mkt-RF\",'devil_HML','devil_HML_m']]=real_factor_result[['HML','RMW',\"CMA\",\"UMD\",'SMB',\"RF\",\"Mkt-RF\",'devil_HML','devil_HML_m']]*100"
   ]
  },
  {
   "cell_type": "code",
   "execution_count": null,
   "id": "bb0e1478",
   "metadata": {},
   "outputs": [],
   "source": [
    "submit=real_factor_result[['date','HML','RMW',\"CMA\",\"UMD\",'SMB',\"RF\",\"Mkt-RF\"]]\n",
    "submit.to_csv('factor_port.csv')\n",
    "print(submit)"
   ]
  },
  {
   "cell_type": "code",
   "execution_count": null,
   "id": "bafda9a5",
   "metadata": {},
   "outputs": [],
   "source": [
    "# real_factor_result.to_csv('factor_port.csv')"
   ]
  },
  {
   "cell_type": "code",
   "execution_count": null,
   "id": "e1e15c4d",
   "metadata": {},
   "outputs": [],
   "source": [
    "draw=real_factor_result.set_index(['date'])\n",
    "px.line((1+draw.dropna()/100).cumprod())"
   ]
  },
  {
   "cell_type": "code",
   "execution_count": null,
   "id": "b51042d7",
   "metadata": {},
   "outputs": [],
   "source": [
    "fn=pd.read_csv('fn_factor2.csv')\n",
    "fn=fn.iloc[7:].T\n",
    "fn=fn.iloc[6:]\n",
    "fn.columns=['date','MOM_fn',\"SMB_fn\",\"HML_fn\"]\n",
    "fn['date']=pd.to_datetime(fn['date'])"
   ]
  },
  {
   "cell_type": "code",
   "execution_count": null,
   "id": "720acee2",
   "metadata": {},
   "outputs": [],
   "source": []
  },
  {
   "cell_type": "code",
   "execution_count": null,
   "id": "aa9738c7",
   "metadata": {},
   "outputs": [],
   "source": [
    "\n",
    "import plotly.express as px\n",
    "temp=pd.merge(draw.reset_index(),fn,on=['date'],how='left')\n",
    "#temp[['HML_fn','SMB_fn']]=temp[['HML_fn','SMB_fn']]\n",
    "#temp=temp.astype(float)\n",
    "\n",
    "temp=temp.set_index(['date'])\n",
    "temp=temp.astype(float)\n",
    "px.line((1+temp.loc[temp.index>'2016']/100).cumprod())"
   ]
  },
  {
   "cell_type": "code",
   "execution_count": null,
   "id": "127c29b8",
   "metadata": {},
   "outputs": [],
   "source": [
    "temp.corr()"
   ]
  },
  {
   "cell_type": "code",
   "execution_count": null,
   "id": "88d36b7c",
   "metadata": {},
   "outputs": [],
   "source": []
  }
 ],
 "metadata": {
  "kernelspec": {
   "display_name": "work",
   "language": "python",
   "name": "python3"
  }
 },
 "nbformat": 4,
 "nbformat_minor": 5
}
