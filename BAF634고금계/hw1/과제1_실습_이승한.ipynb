{
 "cells": [
  {
   "cell_type": "code",
   "execution_count": null,
   "id": "a9b2f749",
   "metadata": {},
   "outputs": [],
   "source": [
    "import pandas as pd\n",
    "import numpy as np\n",
    "# from portsort import portsort\n",
    "\n",
    "import matplotlib.pyplot as plt\n",
    "\n",
    "from pathlib import Path\n",
    "from fndata import FnStockData\n",
    "from pandas.tseries.offsets import MonthEnd\n",
    "from pandas.tseries.offsets import YearEnd\n",
    "from tqdm import tqdm"
   ]
  },
  {
   "cell_type": "markdown",
   "id": "92436670",
   "metadata": {},
   "source": [
    "#### 선견편향 제거를 위해서 사이즈 레깅"
   ]
  },
  {
   "cell_type": "code",
   "execution_count": null,
   "id": "e007b45b",
   "metadata": {
    "lines_to_next_cell": 2
   },
   "outputs": [],
   "source": [
    "### 매월 6월 말 기준으로 리벨런싱\n",
    "factor_df=pd.read_csv('./data/factor.csv')\n",
    "# factor_df['size_lag1']=factor_df.groupby('Symbol')['size'].shift(1)\n",
    "rebalancing_period=sorted(list(set(pd.to_datetime(factor_df['date'])+YearEnd(0)+MonthEnd(-6))))\n",
    "factor_df['date']=pd.to_datetime(factor_df['date'])"
   ]
  },
  {
   "cell_type": "code",
   "execution_count": null,
   "id": "2d391dec",
   "metadata": {},
   "outputs": [],
   "source": [
    "factor_df.columns"
   ]
  },
  {
   "cell_type": "markdown",
   "id": "2ab1a6a9",
   "metadata": {},
   "source": [
    "# 백테스트 짜기\n",
    "\n",
    "#### 1. 모멘텀 팩터를 제외한 다른 팩터들은 매년 6월 말 리벨런싱/ 모멘텀은 매달 말 리벨런싱.\n",
    "#### 2. 다른 팩터들은 이미 래깅이 되어있지만 사이즈는 안되어 있어서 레깅함.\n",
    "#### 3. 포트폴리오 구성할 떄도 6월 말의 시총액 가중평균으로 7월부터 이듬 해 6월까지 리턴을 가중평균 해야함.\n",
    "#### 4. Independent Sorting"
   ]
  },
  {
   "cell_type": "code",
   "execution_count": null,
   "id": "cca56304",
   "metadata": {},
   "outputs": [],
   "source": []
  },
  {
   "cell_type": "code",
   "execution_count": null,
   "id": "08dcec94",
   "metadata": {},
   "outputs": [],
   "source": [
    "class backtest:\n",
    "\n",
    "    def __init__(self,factor_df,quantile_1,quantile_2,factor_1,factor_2):\n",
    "        self.factor_df=factor_df\n",
    "        self.quantile_1=quantile_1\n",
    "        self.quantile_2=quantile_2\n",
    "        self.factor_1=factor_1\n",
    "        self.factor_2=factor_2\n",
    "        \n",
    "\n",
    "\n",
    "\n",
    "\n",
    "    def winsorizing(factor_list, q):\n",
    "        #factor_list=[i+'w' for i in factor_list]\n",
    "        self.factor_df[factor_list]=self.factor_df.groupby('date')[factor_list].apply(lambda x: x.clip(x.quantile(q, interpolation='lower'), \n",
    "                     x.quantile(1-q, interpolation='higher'), axis=0))\n",
    "\n",
    "\n",
    "    \n",
    "\n",
    "\n",
    "    def assign_scores(self,x,quantile_list):\n",
    "        # 각 그룹에 대해 퀀타일을 계산\n",
    "        result = x.quantile(q=quantile_list)\n",
    "        score = pd.Series(np.NaN, index=x.index)\n",
    "        \n",
    "        for i in range(len(quantile_list)):\n",
    "            if i == 0:\n",
    "                score = np.where(x <= result[quantile_list[i]], i + 1, score)\n",
    "            else:\n",
    "                score = np.where((x <= result[quantile_list[i]]) & \n",
    "                                (x >= result[quantile_list[i-1]]), \n",
    "                                i + 1, score)\n",
    "        \n",
    "        # 마지막 퀀타일보다 큰 값에 대해 score 할당\n",
    "        score = np.where(x > result[quantile_list[-1]], len(quantile_list) + 1, score)\n",
    "        \n",
    "        return pd.Series(score, index=x.index)\n",
    "\n",
    "\n",
    "    def lagging(self,df,factor,lagging):\n",
    "        temp=pd.pivot_table(df,index='date',columns='Symbol',values=factor,dropna=False).sort_index().shift(lagging)\n",
    "        self.temp=temp.reset_index().melt(id_vars='date', var_name='Symbol', value_name=factor).dropna()\n",
    "\n",
    "        \n",
    "    def sorting(self,dependent_sort=True,lagging1=0,lagging2=0):\n",
    "        self.test=self.factor_df.copy()\n",
    "        self.test=self.test.loc[self.test['거래정지여부']=='정상']#### 거래되지 않는 종목들 테스트에서 제외\n",
    "        self.test=self.test.loc[self.test['관리종목여부']=='정상']\n",
    "        self.test['rtn']=self.test['수익률 (1개월)(%)']/100## 이름 헷갈려서 바꿈\n",
    "        \n",
    "        if lagging1!=0:\n",
    "            self.lagging(df=self.test,factor=self.factor_1,lagging=lagging1)\n",
    "            self.test.drop(columns=self.factor_1,inplace=True)\n",
    "            self.test=pd.merge(self.test,self.temp,how='left',on=['date','Symbol'])\n",
    "    \n",
    "        if lagging2!=0:\n",
    "            self.lagging(df=self.test,factor=self.factor_2,lagging=lagging2)\n",
    "            self.test.drop(columns=self.factor_2,inplace=True)\n",
    "            self.test=pd.merge(self.test,self.temp,how='left',on=['date','Symbol'])\n",
    "\n",
    "        #self.test[self.factor_2]=self.test.groupby('Symbol')[self.factor_2].shift(lagging2)\n",
    "        #self.test[self.factor_1]=self.test.groupby('Symbol')[self.factor_1].shift(lagging1)\n",
    "        self.lagging(df=self.test,factor='size',lagging=1)\n",
    "        self.temp.rename(columns={'size':'size_1'},inplace=True)\n",
    "        self.test=pd.merge(self.test,self.temp,how='left',on=['date','Symbol'])\n",
    "\n",
    "    \n",
    "\n",
    "        \n",
    "        #self.test['size_1']=self.test.groupby(\"Symbol\")['size'].shift(1)##size 래깅\n",
    "\n",
    "\n",
    "        \n",
    "        self.test['score']=self.test.groupby('date')[self.factor_1].transform(func=lambda x: self.assign_scores(x,quantile_list=self.quantile_1))\n",
    "        ###dependent sort\n",
    "        if dependent_sort:\n",
    "            self.test['score2']=self.test.groupby('date')[self.factor_2].transform(func=lambda x: self.assign_scores(x,quantile_list=self.quantile_2))\n",
    "           \n",
    "\n",
    "        else: ### independent_sort\n",
    "            self.test['score2']=self.test.groupby(['date','score'])[self.factor_2].transform(func=lambda x: self.assign_scores(x,quantile_list=self.quantile_2))\n",
    "            \n",
    "\n",
    "\n",
    "\n",
    "\n",
    "    def run(self,score1,score2,rebalancing_period=None,value_weighted=True):\n",
    "        \n",
    "        self.test['indicator']=np.where((self.test['score']==score1) & (self.test['score2']==score2),1,np.nan)\n",
    "        #self.result=self.test.loc[self.test['indicator']==1]\n",
    "\n",
    "        rtn_list=[]\n",
    "        date_list=[]\n",
    "        universe=[]\n",
    "        self.universe={}\n",
    "        test_period=sorted((list(set(self.test['date']))))\n",
    "        #self.rebalancing_period=rebalancing_period\n",
    "        \n",
    "        \n",
    "        if rebalancing_period==None: ### 데이터 프레임의 주기와 리벨런싱 주기가 같은 경우 위와 같이 하면 됨\n",
    "            rebalancing_period=test_period\n",
    "\n",
    "            \n",
    "        self.rebalancing_period=rebalancing_period\n",
    "\n",
    "        start=rebalancing_period[0]\n",
    "\n",
    "\n",
    "        for i ,date in enumerate(test_period):\n",
    "\n",
    "        \n",
    "\n",
    "\n",
    "            if (date>start) & (len(universe)!=0):\n",
    "                cap_df=self.test.loc[self.test['date']==rebalance_date]\n",
    "                df=self.test.loc[self.test['date']==date]\n",
    "        \n",
    "                \n",
    "                df=df.loc[df['Symbol'].isin(universe)]\n",
    "                cap_df=df.loc[df['Symbol'].isin(universe)]\n",
    "                # df=df.loc[~(df['rtn'].isna())]\n",
    "                # df=df.loc[~(df['size_1'].isna())]\n",
    "                df['rtn'].fillna(0,inplace=True)\n",
    "                cap_df['size_1'].fillna(0,inplace=True)\n",
    "\n",
    "                if value_weighted:\n",
    "                    \n",
    "                  \n",
    "                    rtn_list.append(np.dot( df['rtn'].values,(cap_df['size_1']/np.sum(cap_df['size_1']))))\n",
    "                \n",
    "                else:\n",
    "                    rtn_list.append(np.sum(df['rtn'])/len(df['rtn']))\n",
    "\n",
    "                date_list.append(date)\n",
    "                self.universe[date]=universe        \n",
    "                \n",
    "\n",
    "            if date in rebalancing_period:\n",
    "                tmp_universe=self.test.loc[(self.test['date']==date)&(self.test['indicator']==1)][\"Symbol\"].values\n",
    "                #rebalance_date=date\n",
    "\n",
    "                if len(tmp_universe)==0:\n",
    "                    pass\n",
    "                else:\n",
    "                    universe=tmp_universe\n",
    "                    rebalance_date=date\n",
    "\n",
    "        self.result=pd.DataFrame(rtn_list,index=date_list,columns=['port_rtn'])\n",
    "\n",
    "        return self.result\n",
    "\n",
    "\n",
    "\n",
    "    def analysis(self):\n",
    "        pass\n",
    "        # self.turn_over={}\n",
    "        # for i in range(1,len(self.universe)):\n",
    "        #     sub=len([x for x in self.universe[list(self.universe.keys())[i]] if x not in self.universe[list(self.universe.keys())[i-1]]])\n",
    "        #     self.turn_over[list(self.universe.keys())[i]]=sub/len(self.universe[list(self.universe.keys())[i-1]])\n",
    "\n",
    "        # self.turn_over=pd.DataFrame(self.turn_over,index=self.turn_over.keys())\n",
    "        # print(f\"turnover: { self.turn_over.loc[self.turn_over>0]}\")\n",
    "        # self.rtn_yearly=((1+self.result).cumprod()-1)**( 12/(len(self.result.dropna())) )\n",
    "        # self.std_yearly=(self.result.std())*np.sqrt(12)\n",
    "\n",
    "        # print(f'연환산 수익률: {self.rtn_yearly }')\n",
    "        # print(f\"샤프 비율:{self.rtn_yearly/self.std_yearly}\")\n",
    "        # self.t_val=self.turn_over.mean()/self.turn_over.std()\n",
    "        # print(f\"t_val: {self.t_val}\")\n",
    "\n",
    "\n",
    "        \n",
    "        "
   ]
  },
  {
   "cell_type": "code",
   "execution_count": null,
   "id": "53d434b5",
   "metadata": {},
   "outputs": [],
   "source": [
    "factor_df_size_ffill=factor_df.copy()\n",
    "factor_df_size_ffill['size']=factor_df_size_ffill.groupby('Symbol')['size'].ffill()\n",
    "test=backtest(factor_df=factor_df_size_ffill,quantile_1=quantile_list,quantile_2=quantile_list,factor_1='size',factor_2='bm')\n",
    "test.sorting(lagging2=6)\n",
    "mp=test.run(score1=1,score2=1,rebalancing_period=rebalancing_period,value_weighted=True)"
   ]
  },
  {
   "cell_type": "code",
   "execution_count": null,
   "id": "42e0373d",
   "metadata": {},
   "outputs": [],
   "source": [
    "mp"
   ]
  },
  {
   "cell_type": "code",
   "execution_count": null,
   "id": "8776378c",
   "metadata": {},
   "outputs": [],
   "source": [
    "from tqdm import tqdm\n",
    "quantile_list=[0.2,0.4,0.6,0.8]\n",
    "test=backtest(factor_df=factor_df_size_ffill,quantile_1=quantile_list,quantile_2=quantile_list,factor_1='size',factor_2='bm')\n",
    "test.sorting(lagging2=6)\n",
    "result=pd.DataFrame()\n",
    "for i in tqdm(range(1, 6)):\n",
    "    for j in range(1,6):\n",
    "        tmp=test.run(score1=i,score2=j,rebalancing_period=rebalancing_period,value_weighted=True)\n",
    "        result[f'size_{i}_bm_{6-j}']=tmp"
   ]
  },
  {
   "cell_type": "code",
   "execution_count": null,
   "id": "07a5c86b",
   "metadata": {},
   "outputs": [],
   "source": [
    "result"
   ]
  },
  {
   "cell_type": "code",
   "execution_count": null,
   "id": "0308b163",
   "metadata": {},
   "outputs": [],
   "source": [
    "import plotly.express as px\n",
    "px.line((1+result).cumprod())"
   ]
  },
  {
   "cell_type": "code",
   "execution_count": null,
   "id": "763d55b8",
   "metadata": {},
   "outputs": [],
   "source": [
    "result=result*100"
   ]
  },
  {
   "cell_type": "code",
   "execution_count": null,
   "id": "26338246",
   "metadata": {},
   "outputs": [],
   "source": [
    "result.to_csv('5x5_table.csv')"
   ]
  },
  {
   "cell_type": "markdown",
   "id": "ecfad188",
   "metadata": {},
   "source": [
    "## 팩터 수익률"
   ]
  },
  {
   "cell_type": "code",
   "execution_count": null,
   "id": "d5dfec86",
   "metadata": {},
   "outputs": [],
   "source": [
    "factor_df.columns"
   ]
  },
  {
   "cell_type": "code",
   "execution_count": null,
   "id": "4236200a",
   "metadata": {},
   "outputs": [],
   "source": [
    "factor_df_size_ffill['devil_hml_m']=factor_df_size_ffill['devil_hml'].copy()"
   ]
  },
  {
   "cell_type": "code",
   "execution_count": null,
   "id": "c93b71c3",
   "metadata": {
    "lines_to_next_cell": 2
   },
   "outputs": [],
   "source": [
    "factor_df_size_ffill['devil_hml_m']=factor_df_size_ffill['devil_hml'].copy() ### 매달 리벨런싱하는 것도 만듬\n",
    "factors=['bm','op','invit','devil_hml','mom','devil_hml_m']\n",
    "quantile_list1=[0.5]\n",
    "quantile_list2=[1/3, 1-(1/3)]\n",
    "factor_result=pd.DataFrame()\n",
    "quantile_list3=[0.3,0.7]\n",
    "for factor in tqdm(factors):\n",
    "\n",
    "        \n",
    "    for i in range(1,3):\n",
    "        for j in range(1,4):\n",
    "            factor_test=backtest(factor_df=factor_df_size_ffill,quantile_1=quantile_list1,quantile_2=quantile_list2,factor_1='size',factor_2=factor)\n",
    "            factor_test.sorting(lagging2=6)\n",
    "            if factor=='mom':\n",
    "                factor_test=backtest(factor_df=factor_df_size_ffill,quantile_1=quantile_list1,quantile_2=quantile_list3,factor_1='size',factor_2=factor)\n",
    "                factor_test.sorting()\n",
    "                tmp=factor_test.run(score1=i,score2=j,rebalancing_period=sorted(list(set(factor_df_size_ffill['date']))), value_weighted=True)\n",
    "\n",
    "            elif factor=='devil_hml_m':\n",
    "                factor_test=backtest(factor_df=factor_df_size_ffill,quantile_1=quantile_list1,quantile_2=quantile_list2,factor_1='size',factor_2=factor)\n",
    "                factor_test.sorting()\n",
    "                tmp=factor_test.run(score1=i,score2=j,rebalancing_period=sorted(list(set(factor_df_size_ffill['date']))), value_weighted=True)\n",
    "\n",
    "            else:\n",
    "                tmp=factor_test.run(score1=i,score2=j,rebalancing_period=rebalancing_period, value_weighted=True)\n",
    "            if j!=2:\n",
    "                factor_result[f'size_{i}_{factor}_{4-j}']=tmp"
   ]
  },
  {
   "cell_type": "code",
   "execution_count": null,
   "id": "e6c80520",
   "metadata": {},
   "outputs": [],
   "source": [
    "real_factor_result=pd.DataFrame(index=factor_result.index)\n",
    "\n",
    "####bm\n",
    "real_factor_result['HML']=(factor_result['size_1_bm_1']+factor_result['size_2_bm_1']-factor_result['size_1_bm_3']-factor_result['size_2_bm_3'])/2\n",
    "\n",
    "####op\n",
    "real_factor_result['RMW']=(factor_result['size_1_op_1']+factor_result['size_2_op_1']-factor_result['size_1_op_3']-factor_result['size_2_op_3'])/2\n",
    "\n",
    "#####invit\n",
    "real_factor_result['CMA']= -(factor_result['size_1_invit_1']+factor_result['size_2_invit_1']-factor_result['size_1_invit_3']-factor_result['size_2_invit_3'])/2\n",
    "\n",
    "#####mom\n",
    "real_factor_result['UMD']=(factor_result['size_1_mom_1']+factor_result['size_2_mom_1']-factor_result['size_1_mom_3']-factor_result['size_2_mom_3'])/2\n",
    "\n",
    "#####devil_hml\n",
    "real_factor_result['devil_HML']=(factor_result['size_1_devil_hml_1']+factor_result['size_2_devil_hml_1']-factor_result['size_1_devil_hml_3']-factor_result['size_2_devil_hml_3'])/2\n",
    "\n",
    "real_factor_result['devil_HML_m']=(factor_result['size_1_devil_hml_m_1']+factor_result['size_2_devil_hml_m_1']-factor_result['size_1_devil_hml_m_3']-factor_result['size_2_devil_hml_m_3'])/2\n",
    "\n"
   ]
  },
  {
   "cell_type": "code",
   "execution_count": null,
   "id": "e55e31ac",
   "metadata": {},
   "outputs": [],
   "source": [
    "\n",
    "\n",
    "\n",
    "# test=factor_df_size_ffill.copy()\n",
    "# def assign_scores(x,quantile_list):\n",
    "#         # 각 그룹에 대해 퀀타일을 계산\n",
    "#         result = x.quantile(q=quantile_list)\n",
    "#         score = pd.Series(np.NaN, index=x.index)\n",
    "        \n",
    "#         for i in range(len(quantile_list)):\n",
    "#             if i == 0:\n",
    "#                 score = np.where(x <= result[quantile_list[i]], i + 1, score)\n",
    "#             else:\n",
    "#                 score = np.where((x <= result[quantile_list[i]]) & \n",
    "#                                 (x >= result[quantile_list[i-1]]), \n",
    "#                                 i + 1, score)\n",
    "        \n",
    "#         # 마지막 퀀타일보다 큰 값에 대해 score 할당\n",
    "#         score = np.where(x > result[quantile_list[-1]], len(quantile_list) + 1, score)\n",
    "        \n",
    "#         return pd.Series(score, index=x.index)\n",
    "\n",
    "\n",
    "\n",
    "# def lagging(df,factor,lagging):\n",
    "#         temp=pd.pivot_table(df,index='date',columns='Symbol',values=factor,dropna=False).sort_index().shift(lagging)\n",
    "#         temp=temp.reset_index().melt(id_vars='date', var_name='Symbol', value_name=factor).dropna()\n",
    "#         return temp\n",
    "\n",
    "# dependent_sort=True\n",
    "\n",
    "# lagging1=0\n",
    "# lagging2=6\n",
    "# factor_1='size'\n",
    "# factor_2='invit'\n",
    "# quantile_list1=[0.5]\n",
    "# quantile_list2=[1/3, 1-(1/3)]\n",
    "# test=test.loc[test['거래정지여부']=='정상']#### 거래되지 않는 종목들 테스트에서 제외\n",
    "# test=test.loc[test['관리종목여부']=='정상']\n",
    "# test['rtn']=test['수익률 (1개월)(%)']/100## 이름 헷갈려서 바꿈\n",
    "\n",
    "# if lagging1!=0:\n",
    "#     temp=lagging(df=test,factor=factor_1,lagging=lagging1)\n",
    "#     test.drop(columns=factor_1,inplace=True)\n",
    "#     test=pd.merge(test,temp,how='left',on=['date','Symbol'])\n",
    "\n",
    "# if lagging2!=0:\n",
    "#     temp=lagging(df=test,factor=factor_2,lagging=lagging2)\n",
    "#     test.drop(columns=factor_2,inplace=True)\n",
    "#     test=pd.merge(test,temp,how='left',on=['date','Symbol'])\n",
    "\n",
    "# #test[factor_2]=test.groupby('Symbol')[factor_2].shift(lagging2)\n",
    "# #test[factor_1]=test.groupby('Symbol')[factor_1].shift(lagging1)\n",
    "# temp=lagging(df=test,factor='size',lagging=1)\n",
    "# temp.rename(columns={'size':'size_1'},inplace=True)\n",
    "# test=pd.merge(test,temp,how='left',on=['date','Symbol'])\n",
    "\n",
    "# #test['size_1']=test.groupby(\"Symbol\")['size'].shift(1)##size 래깅\n",
    "\n",
    "\n",
    "\n",
    "# test['score']=test.groupby('date')[factor_1].transform(func=lambda x: assign_scores(x,quantile_list=quantile_list1))\n",
    "# ###dependent sort\n",
    "# if dependent_sort:\n",
    "#     test['score2']=test.groupby('date')[factor_2].transform(func=lambda x: assign_scores(x,quantile_list=quantile_list2))\n",
    "    \n",
    "\n",
    "# else: ### independent_sort\n",
    "#     test['score2']=test.groupby(['date','score'])[factor_2].transform(func=lambda x: assign_scores(x,quantile_list=quantile_2))"
   ]
  },
  {
   "cell_type": "code",
   "execution_count": null,
   "id": "c8ca1d24",
   "metadata": {},
   "outputs": [],
   "source": [
    "(1+real_factor_result).cumprod()"
   ]
  },
  {
   "cell_type": "code",
   "execution_count": null,
   "id": "391bcabd",
   "metadata": {
    "lines_to_next_cell": 2
   },
   "outputs": [],
   "source": [
    "(1+real_factor_result).cumprod()"
   ]
  },
  {
   "cell_type": "code",
   "execution_count": null,
   "id": "fe3b06ae",
   "metadata": {
    "lines_to_next_cell": 2
   },
   "outputs": [],
   "source": [
    "factors=['bm','op','invit']\n",
    "quantile_list1=[0.5]\n",
    "quantile_list2=[1/3, 1-(1/3)]\n",
    "quantile_list3=[0.3,0.7]\n",
    "factor_result=pd.DataFrame()\n",
    "\n",
    "for factor in tqdm(factors):\n",
    "\n",
    "        \n",
    "    for i in range(1,3):\n",
    "        for j in range(1,4):\n",
    "            factor_test=backtest(factor_df=factor_df_size_ffill,quantile_1=quantile_list2,quantile_2=quantile_list1,factor_1=factor,factor_2='size')\n",
    "            factor_test.sorting(lagging1=6)\n",
    "            \n",
    "            if factor=='mom':\n",
    "                tmp=factor_test.run(score1=j,score2=i,rebalancing_period=sorted(list(set(factor_df_size_ffill['date']))), value_weighted=True)\n",
    "\n",
    "            else:\n",
    "                tmp=factor_test.run(score1=j,score2=i,rebalancing_period=rebalancing_period, value_weighted=True)\n",
    "                #print(f'{i}_{j}')\n",
    "       \n",
    "            factor_result[f'size_{i}_{factor}_{4-j}']=tmp"
   ]
  },
  {
   "cell_type": "code",
   "execution_count": null,
   "id": "c67b34f6",
   "metadata": {},
   "outputs": [],
   "source": [
    "factor_result"
   ]
  },
  {
   "cell_type": "code",
   "execution_count": null,
   "id": "f71ba257",
   "metadata": {},
   "outputs": [],
   "source": [
    "real_factor_result['SMB']=np.sum((factor_result.iloc[:,:3].values-factor_result.iloc[:,4:7].values)/3 + (factor_result.iloc[:,7:10].values-factor_result.iloc[:,10:13].values)/3+(factor_result.iloc[:,13:16].values-factor_result.iloc[:,16:-1].values)/3,axis=1)/3"
   ]
  },
  {
   "cell_type": "code",
   "execution_count": null,
   "id": "c521f290",
   "metadata": {},
   "outputs": [],
   "source": [
    "#real_factor_result.drop(columns='devil_HML',inplace=True)"
   ]
  },
  {
   "cell_type": "code",
   "execution_count": null,
   "id": "ffe779e9",
   "metadata": {},
   "outputs": [],
   "source": [
    "\n",
    "from pathlib import Path\n",
    "from fndata import FnStockData,FnMarketData\n",
    "from pandas.tseries.offsets import MonthEnd\n",
    "from pandas.tseries.offsets import YearEnd\n",
    "CWD = Path('.').resolve()\n",
    "DATA_DIR = CWD / 'data'\n",
    "fndata_path = DATA_DIR / '고금계과제_시장수익률_201301-202408.csv'\n",
    "fn = FnMarketData(fndata_path)\n",
    "df = fn.get_data(format='wide')"
   ]
  },
  {
   "cell_type": "code",
   "execution_count": null,
   "id": "1c1c6908",
   "metadata": {
    "lines_to_next_cell": 2
   },
   "outputs": [],
   "source": [
    "rf_path = DATA_DIR / '통안채1년물_월평균_201301-202408.csv'\n",
    "rf = pd.read_csv(rf_path)"
   ]
  },
  {
   "cell_type": "code",
   "execution_count": null,
   "id": "7c177482",
   "metadata": {
    "lines_to_next_cell": 2
   },
   "outputs": [],
   "source": [
    "df=df.reset_index()\n",
    "rf['date']=df['date']"
   ]
  },
  {
   "cell_type": "code",
   "execution_count": null,
   "id": "ef23c43a",
   "metadata": {},
   "outputs": [],
   "source": []
  },
  {
   "cell_type": "code",
   "execution_count": null,
   "id": "6d137a32",
   "metadata": {},
   "outputs": [],
   "source": [
    "(rf['원자료']/12)/100"
   ]
  },
  {
   "cell_type": "code",
   "execution_count": null,
   "id": "b02d604d",
   "metadata": {},
   "outputs": [],
   "source": [
    "real_factor_result=real_factor_result.reset_index()\n",
    "real_factor_result.rename(columns={'index':'date'},inplace=True)\n",
    "real_factor_result"
   ]
  },
  {
   "cell_type": "code",
   "execution_count": null,
   "id": "191b7806",
   "metadata": {},
   "outputs": [],
   "source": [
    "df['RF']=(rf['원자료']/12)/100\n",
    "df['Mkt-RF']=df['MKF2000']-df['RF']\n",
    "real_factor_result=pd.merge(real_factor_result,df[['date','RF','Mkt-RF']],how='left',on=['date'])"
   ]
  },
  {
   "cell_type": "code",
   "execution_count": null,
   "id": "43fcc7ff",
   "metadata": {},
   "outputs": [],
   "source": [
    "real_factor_result[['HML','RMW',\"CMA\",\"UMD\",'SMB',\"RF\",\"Mkt-RF\",'devil_HML','devil_HML_m']]=real_factor_result[['HML','RMW',\"CMA\",\"UMD\",'SMB',\"RF\",\"Mkt-RF\",'devil_HML','devil_HML_m']]*100"
   ]
  },
  {
   "cell_type": "code",
   "execution_count": null,
   "id": "f270be2f",
   "metadata": {},
   "outputs": [],
   "source": [
    "real_factor_result.to_csv('factor_port.csv')"
   ]
  },
  {
   "cell_type": "code",
   "execution_count": null,
   "id": "cb44124c",
   "metadata": {},
   "outputs": [],
   "source": []
  },
  {
   "cell_type": "code",
   "execution_count": null,
   "id": "221c6b57",
   "metadata": {},
   "outputs": [],
   "source": [
    "draw.dropna()"
   ]
  },
  {
   "cell_type": "code",
   "execution_count": null,
   "id": "57a5c13e",
   "metadata": {},
   "outputs": [],
   "source": [
    "real_factor_result"
   ]
  },
  {
   "cell_type": "code",
   "execution_count": null,
   "id": "f46c9958",
   "metadata": {},
   "outputs": [],
   "source": [
    "draw=real_factor_result.set_index(['date'])\n",
    "px.line((1+draw.dropna()/100).cumprod())"
   ]
  },
  {
   "cell_type": "code",
   "execution_count": null,
   "id": "ded3d690",
   "metadata": {},
   "outputs": [],
   "source": [
    "fn=pd.read_csv('fn_factor.csv')\n",
    "fn=fn.iloc[7:].T\n",
    "fn=fn.iloc[6:]\n",
    "fn.columns=['date','HML_fn',\"SMB_fn\"]\n",
    "fn['date']=pd.to_datetime(fn['date'])"
   ]
  },
  {
   "cell_type": "code",
   "execution_count": null,
   "id": "bdb7ed3b",
   "metadata": {},
   "outputs": [],
   "source": [
    "fn[\"HML_fn\"].astype(float)/100"
   ]
  },
  {
   "cell_type": "code",
   "execution_count": null,
   "id": "89ec5276",
   "metadata": {},
   "outputs": [],
   "source": []
  },
  {
   "cell_type": "code",
   "execution_count": null,
   "id": "0b235433",
   "metadata": {},
   "outputs": [],
   "source": [
    "temp=pd.merge(draw.reset_index(),fn,on=['date'],how='left')\n",
    "#temp[['HML_fn','SMB_fn']]=temp[['HML_fn','SMB_fn']]\n",
    "#temp=temp.astype(float)\n",
    "\n",
    "temp=temp.set_index(['date'])\n",
    "temp=temp.astype(float)\n",
    "px.line((1+temp.dropna()/100).cumprod())"
   ]
  },
  {
   "cell_type": "code",
   "execution_count": null,
   "id": "0e4ea057",
   "metadata": {},
   "outputs": [],
   "source": []
  },
  {
   "cell_type": "code",
   "execution_count": null,
   "id": "145c984b",
   "metadata": {},
   "outputs": [],
   "source": []
  }
 ],
 "metadata": {
  "kernelspec": {
   "display_name": ".venv",
   "language": "python",
   "name": "python3"
  }
 },
 "nbformat": 4,
 "nbformat_minor": 5
}
