{
 "cells": [
  {
   "cell_type": "code",
   "execution_count": null,
   "id": "9d39a2d1",
   "metadata": {
    "colab": {
     "base_uri": "https://localhost:8080/"
    },
    "executionInfo": {
     "elapsed": 2603,
     "status": "ok",
     "timestamp": 1727060635272,
     "user": {
      "displayName": "이기홍",
      "userId": "00707751831574141695"
     },
     "user_tz": -540
    },
    "id": "zBzN2_D-0ixp",
    "outputId": "1fc9abdf-1599-4419-e9d3-946f112caf22"
   },
   "outputs": [],
   "source": [
    "from google.colab import drive\n",
    "drive.mount('/content/drive')"
   ]
  },
  {
   "cell_type": "code",
   "execution_count": null,
   "id": "6c27c3cc",
   "metadata": {
    "executionInfo": {
     "elapsed": 513,
     "status": "ok",
     "timestamp": 1727060708372,
     "user": {
      "displayName": "이기홍",
      "userId": "00707751831574141695"
     },
     "user_tz": -540
    },
    "id": "KXeUb5K10lVR"
   },
   "outputs": [],
   "source": [
    "import os\n",
    "os.chdir(\"/content/drive/MyDrive/2024년 카이스트 고급 금융 계량/2024_BAF634고금계과제1_데이터\")"
   ]
  },
  {
   "cell_type": "markdown",
   "id": "50863afc",
   "metadata": {
    "id": "qjrwj-PJ0hpa"
   },
   "source": [
    "# 고금계 과제 1 데이터 사용법\n",
    "\n",
    "- 과제1 수행에 필요한 데이터를 불러오는 방법을 알아봅니다\n"
   ]
  },
  {
   "cell_type": "code",
   "execution_count": null,
   "id": "4c5f1fa8",
   "metadata": {
    "executionInfo": {
     "elapsed": 607,
     "status": "ok",
     "timestamp": 1727060711952,
     "user": {
      "displayName": "이기홍",
      "userId": "00707751831574141695"
     },
     "user_tz": -540
    },
    "id": "swNf2vso0hpd"
   },
   "outputs": [],
   "source": [
    "import pandas as pd\n",
    "import numpy as np\n",
    "import matplotlib.pyplot as plt\n",
    "\n",
    "from pathlib import Path"
   ]
  },
  {
   "cell_type": "markdown",
   "id": "22b8a61d",
   "metadata": {
    "id": "0we4N4Pj0hpe"
   },
   "source": [
    "## 경로 설정\n",
    "\n",
    "- 과제 데이터 파일의 경로를 설정합니다.\n",
    "- 주피터노트북이 있는 폴더의 `data/` 안에 데이터를 두는 것을 권장합니다."
   ]
  },
  {
   "cell_type": "code",
   "execution_count": null,
   "id": "031fb7ae",
   "metadata": {
    "executionInfo": {
     "elapsed": 453,
     "status": "ok",
     "timestamp": 1727060732677,
     "user": {
      "displayName": "이기홍",
      "userId": "00707751831574141695"
     },
     "user_tz": -540
    },
    "id": "9c6bNNi00hpf"
   },
   "outputs": [],
   "source": [
    "CWD = Path('.').resolve()\n",
    "DATA_DIR = CWD / 'data'"
   ]
  },
  {
   "cell_type": "code",
   "execution_count": null,
   "id": "b255dbc4",
   "metadata": {
    "executionInfo": {
     "elapsed": 304,
     "status": "ok",
     "timestamp": 1727060735740,
     "user": {
      "displayName": "이기홍",
      "userId": "00707751831574141695"
     },
     "user_tz": -540
    },
    "id": "b6_qv5Qj0hpf"
   },
   "outputs": [],
   "source": [
    "fndata_path = DATA_DIR / '고금계과제1_v3.3_201301-202408.csv'"
   ]
  },
  {
   "cell_type": "markdown",
   "id": "034109f7",
   "metadata": {
    "id": "xy45Q4FS0hpf",
    "vscode": {
     "languageId": "plaintext"
    }
   },
   "source": [
    "## 데이터 불러오기\n",
    "\n",
    "- 주식\n",
    "    - 데이터 기간: 2013-01 ~ 2024-08\n",
    "    - 기초 유니버스: KSE(코스피) + KOSDAQ 전체\n",
    "    - 기본적인 전처리가 되어있습니다.\n",
    "        - 생존편향 제거됨\n",
    "        - 데이터 기간 내 존재하지 않은 기업 (2013-01 이전 상장폐지) 제거됨\n",
    "        - 월말일 기준 관리종목/거래정지 종목 제거됨\n",
    "        - 모든 금액은 '원'단위 (천원 아님)\n",
    "        - 모든 %는 1.0 == 100%\n",
    "        - 금융 업종 제거됨\n",
    "        - 월말일 기준 1개월 수익률이 없는 종목 제거\n",
    "        - 날짜 str --> datetime 변환\n",
    "    - 다양한 포맷으로 데이터 호출\n",
    "        - long-format\n",
    "            - 날짜-종목코드를 multi-index로, 여러 항목들(수익률, 이익잉여금 등)을 컬럼으로 하여 한 번에 불러올 수 있습니다.\n",
    "        - wide-format\n",
    "            - 한 개의 항목을 index는 날짜 columns는 종목코드로 하여 불러올 수 있습니다.\n",
    "- 시장수익률\n",
    "- 무위험 이자율"
   ]
  },
  {
   "cell_type": "markdown",
   "id": "cee4239b",
   "metadata": {
    "id": "kEFM4GZR0hpg"
   },
   "source": [
    "### 주식"
   ]
  },
  {
   "cell_type": "markdown",
   "id": "f21ac7e5",
   "metadata": {
    "id": "3DppLXZ50hpg"
   },
   "source": [
    "#### 기본 사용법"
   ]
  },
  {
   "cell_type": "code",
   "execution_count": null,
   "id": "479b6d0d",
   "metadata": {
    "executionInfo": {
     "elapsed": 811,
     "status": "ok",
     "timestamp": 1727060741232,
     "user": {
      "displayName": "이기홍",
      "userId": "00707751831574141695"
     },
     "user_tz": -540
    },
    "id": "TmsG565S0hpg"
   },
   "outputs": [],
   "source": [
    "from fndata import FnStockData"
   ]
  },
  {
   "cell_type": "code",
   "execution_count": null,
   "id": "67387905",
   "metadata": {
    "executionInfo": {
     "elapsed": 41327,
     "status": "ok",
     "timestamp": 1727060784884,
     "user": {
      "displayName": "이기홍",
      "userId": "00707751831574141695"
     },
     "user_tz": -540
    },
    "id": "HKKwmb0k0hph"
   },
   "outputs": [],
   "source": [
    "# 데이터 모듈을 생성하며 기본 전처리들을 수행합니다.\n",
    "fn = FnStockData(fndata_path)"
   ]
  },
  {
   "cell_type": "code",
   "execution_count": null,
   "id": "986fc99c",
   "metadata": {
    "colab": {
     "base_uri": "https://localhost:8080/"
    },
    "executionInfo": {
     "elapsed": 438,
     "status": "ok",
     "timestamp": 1727060788297,
     "user": {
      "displayName": "이기홍",
      "userId": "00707751831574141695"
     },
     "user_tz": -540
    },
    "id": "Ombs920C0hph",
    "outputId": "95cef77e-c4fa-4926-ff00-d6e96aa6a043"
   },
   "outputs": [],
   "source": [
    "# 사용 가능한 데이터를 확인합니다.\n",
    "fn.get_items()"
   ]
  },
  {
   "cell_type": "code",
   "execution_count": null,
   "id": "b9e152d7",
   "metadata": {
    "colab": {
     "base_uri": "https://localhost:8080/"
    },
    "executionInfo": {
     "elapsed": 439,
     "status": "ok",
     "timestamp": 1727060791191,
     "user": {
      "displayName": "이기홍",
      "userId": "00707751831574141695"
     },
     "user_tz": -540
    },
    "id": "stIF3mqs0hpi",
    "outputId": "0ebf0f7a-5449-4a4f-e348-e9ed01ba9493"
   },
   "outputs": [],
   "source": [
    "# 분석 기간의 데이터 유니버스를 확인합니다. (금융업종, 거래정지, 관리종목 제외)\n",
    "univ_list = fn.get_universe()\n",
    "univ_list"
   ]
  },
  {
   "cell_type": "code",
   "execution_count": null,
   "id": "8163f72d",
   "metadata": {
    "colab": {
     "base_uri": "https://localhost:8080/"
    },
    "executionInfo": {
     "elapsed": 464,
     "status": "ok",
     "timestamp": 1727060794865,
     "user": {
      "displayName": "이기홍",
      "userId": "00707751831574141695"
     },
     "user_tz": -540
    },
    "id": "hg3yA-UA0hpi",
    "outputId": "d401a73b-1914-4946-fe81-1c27ce62a14b"
   },
   "outputs": [],
   "source": [
    "len(univ_list)"
   ]
  },
  {
   "cell_type": "code",
   "execution_count": null,
   "id": "2551c82d",
   "metadata": {
    "colab": {
     "base_uri": "https://localhost:8080/",
     "height": 35
    },
    "executionInfo": {
     "elapsed": 440,
     "status": "ok",
     "timestamp": 1727060796959,
     "user": {
      "displayName": "이기홍",
      "userId": "00707751831574141695"
     },
     "user_tz": -540
    },
    "id": "X2bw37xE0hpj",
    "outputId": "3742459c-aa71-4752-d669-f4db77ed5db4"
   },
   "outputs": [],
   "source": [
    "# 이름으로 종목코드를 확인합니다.\n",
    "fn.name_to_symbol('삼성전자')"
   ]
  },
  {
   "cell_type": "code",
   "execution_count": null,
   "id": "a42bea4b",
   "metadata": {
    "colab": {
     "base_uri": "https://localhost:8080/",
     "height": 35
    },
    "executionInfo": {
     "elapsed": 475,
     "status": "ok",
     "timestamp": 1727060799662,
     "user": {
      "displayName": "이기홍",
      "userId": "00707751831574141695"
     },
     "user_tz": -540
    },
    "id": "EFcYNHY70hpj",
    "outputId": "79e8b385-1a8e-467b-959b-4e40eb837ce2"
   },
   "outputs": [],
   "source": [
    "# 종목코드로 이름을 확인합니다.\n",
    "fn.symbol_to_name('A005930')"
   ]
  },
  {
   "cell_type": "markdown",
   "id": "1db3b745",
   "metadata": {
    "id": "Gn1NErMA0hpk"
   },
   "source": [
    "#### long-format으로 불러오기"
   ]
  },
  {
   "cell_type": "code",
   "execution_count": null,
   "id": "b98d7573",
   "metadata": {
    "colab": {
     "base_uri": "https://localhost:8080/",
     "height": 455
    },
    "executionInfo": {
     "elapsed": 326,
     "status": "ok",
     "timestamp": 1727060803681,
     "user": {
      "displayName": "이기홍",
      "userId": "00707751831574141695"
     },
     "user_tz": -540
    },
    "id": "Ts9necdB0hpk",
    "outputId": "64c29aa4-26f9-44d5-83a3-9731cad5b6d9"
   },
   "outputs": [],
   "source": [
    "# 원하는 데이터들을 long-format으로 불러옵니다.\n",
    "\n",
    "my_data = ['수정주가(원)', '수익률 (1개월)(%)']\n",
    "df = fn.get_data(my_data) # list가 들어가면 long-format으로 불러옵니다.\n",
    "df"
   ]
  },
  {
   "cell_type": "code",
   "execution_count": null,
   "id": "572fe58c",
   "metadata": {
    "colab": {
     "base_uri": "https://localhost:8080/",
     "height": 735
    },
    "executionInfo": {
     "elapsed": 434,
     "status": "ok",
     "timestamp": 1727060811924,
     "user": {
      "displayName": "이기홍",
      "userId": "00707751831574141695"
     },
     "user_tz": -540
    },
    "id": "HYWLOp5m0hpl",
    "outputId": "fad2af72-8410-439c-94de-1c9d0dc9d9da"
   },
   "outputs": [],
   "source": [
    "# 모든 데이터를 불러옵니다.\n",
    "\n",
    "df = fn.get_data()\n",
    "df"
   ]
  },
  {
   "cell_type": "markdown",
   "id": "cab445ce",
   "metadata": {
    "id": "fXH73yh10hpl"
   },
   "source": [
    "#### wide-format으로 불러오기"
   ]
  },
  {
   "cell_type": "code",
   "execution_count": null,
   "id": "c5b59098",
   "metadata": {
    "colab": {
     "base_uri": "https://localhost:8080/",
     "height": 648
    },
    "executionInfo": {
     "elapsed": 574,
     "status": "ok",
     "timestamp": 1727060816792,
     "user": {
      "displayName": "이기홍",
      "userId": "00707751831574141695"
     },
     "user_tz": -540
    },
    "id": "fNCB9yrS0hpl",
    "outputId": "b9054b7e-eb08-4d8c-ec51-95c6e2cd900b"
   },
   "outputs": [],
   "source": [
    "my_data = '수익률 (1개월)(%)'\n",
    "fn.get_data(my_data) # string이 들어가면 wide-format으로 불러옵니다."
   ]
  },
  {
   "cell_type": "markdown",
   "id": "b5ba701e",
   "metadata": {
    "id": "V3SLyW3D0hpl"
   },
   "source": [
    "### 시장수익률\n",
    "\n",
    "- 기초 유니버스로 KSE+KOSDAQ을 썼기 때문에 팩터 분석을 위해 이에 대응하는 시장수익률을 쓰는 것이 좋습니다.\n",
    "    - (기본) [MKF2000](https://www.fnindex.co.kr/multi/detail?menu_type=0&fund_cd=FI00)\n",
    "    - (보조) [KRX300](https://ko.wikipedia.org/wiki/KRX_300)\n",
    "    - 두 지수 모두 코스피+코스닥을 기초로 시가총액, 거래대금 등을 고려하여 상위 2000/300 종목을 선정해 지수를 만듭니다.\n",
    "    - 두 지수 모두 기본적으로 시가총액 가중 방식으로 지수를 산출합니다.\n",
    "    - 파마 프랜치의 경우 NYSE, AMEX, NASDAQ에 상장된 모든 주식의 시가총액 가중 평균을 사용하였습니다. ([링크](https://mba.tuck.dartmouth.edu/pages/faculty/ken.french/Data_Library/f-f_factors.html))"
   ]
  },
  {
   "cell_type": "markdown",
   "id": "6d7a8631",
   "metadata": {
    "id": "AltvIFk10hpm"
   },
   "source": [
    "#### 기본 사용법"
   ]
  },
  {
   "cell_type": "code",
   "execution_count": null,
   "id": "09944e26",
   "metadata": {
    "executionInfo": {
     "elapsed": 469,
     "status": "ok",
     "timestamp": 1727060834834,
     "user": {
      "displayName": "이기홍",
      "userId": "00707751831574141695"
     },
     "user_tz": -540
    },
    "id": "X-BNGdXw0hpm"
   },
   "outputs": [],
   "source": [
    "from fndata import FnMarketData"
   ]
  },
  {
   "cell_type": "code",
   "execution_count": null,
   "id": "6373282c",
   "metadata": {
    "executionInfo": {
     "elapsed": 466,
     "status": "ok",
     "timestamp": 1727060836989,
     "user": {
      "displayName": "이기홍",
      "userId": "00707751831574141695"
     },
     "user_tz": -540
    },
    "id": "Z0BLN_sR0hpm"
   },
   "outputs": [],
   "source": [
    "fnmkt_path = DATA_DIR / '고금계과제_시장수익률_201301-202408.csv'"
   ]
  },
  {
   "cell_type": "code",
   "execution_count": null,
   "id": "e78d2526",
   "metadata": {
    "executionInfo": {
     "elapsed": 438,
     "status": "ok",
     "timestamp": 1727060838872,
     "user": {
      "displayName": "이기홍",
      "userId": "00707751831574141695"
     },
     "user_tz": -540
    },
    "id": "DEKBrdpb0hpm"
   },
   "outputs": [],
   "source": [
    "# 데이터 모듈을 생성하며 기본 전처리들을 수행합니다.\n",
    "fnmkt = FnMarketData(fnmkt_path)"
   ]
  },
  {
   "cell_type": "markdown",
   "id": "4ed2cb2b",
   "metadata": {
    "id": "ES3ArN5b0hpm"
   },
   "source": [
    "#### long-format으로 불러오기"
   ]
  },
  {
   "cell_type": "code",
   "execution_count": null,
   "id": "ab2a4966",
   "metadata": {
    "colab": {
     "base_uri": "https://localhost:8080/",
     "height": 455
    },
    "executionInfo": {
     "elapsed": 303,
     "status": "ok",
     "timestamp": 1727060841393,
     "user": {
      "displayName": "이기홍",
      "userId": "00707751831574141695"
     },
     "user_tz": -540
    },
    "id": "aY49hQqe0hpm",
    "outputId": "42757cc3-924e-49f7-daa5-49e33271f0a9"
   },
   "outputs": [],
   "source": [
    "fnmkt.get_data(format='long', multiindex=True)"
   ]
  },
  {
   "cell_type": "markdown",
   "id": "69a81fcf",
   "metadata": {
    "id": "dgGS7uEd0hpn"
   },
   "source": [
    "#### wide-format으로 불러오기"
   ]
  },
  {
   "cell_type": "code",
   "execution_count": null,
   "id": "c39fe277",
   "metadata": {
    "colab": {
     "base_uri": "https://localhost:8080/",
     "height": 455
    },
    "executionInfo": {
     "elapsed": 467,
     "status": "ok",
     "timestamp": 1727060845033,
     "user": {
      "displayName": "이기홍",
      "userId": "00707751831574141695"
     },
     "user_tz": -540
    },
    "id": "HjWFZkT-0hpn",
    "outputId": "7f72bd69-ec6e-411b-f5a5-0215453a24a3"
   },
   "outputs": [],
   "source": [
    "fnmkt.get_data(format='wide')"
   ]
  },
  {
   "cell_type": "markdown",
   "id": "6e3f39aa",
   "metadata": {
    "id": "ER0t1lml0hpn"
   },
   "source": [
    "### 무위험이자율\n",
    "\n",
    "- 무위험 이자율의 경우 과제 설명과 같이 [한국은행경제통계 시스템의 통화안정증권 364일물 금리](https://ecos.bok.or.kr/#/Short/7478c5)를 사용하였습니다.\n",
    "    - 연율화 되어있으므로 과제 수행 시 월율화 작업이 필요합니다."
   ]
  },
  {
   "cell_type": "markdown",
   "id": "a8206746",
   "metadata": {
    "id": "1PuxML-40hpn"
   },
   "source": [
    "#### 사용법\n",
    "\n",
    "- 무위험 이자율의 경우 데이터 가이드 포맷이 아니므로 별도 모듈을 제공하지 않습니다."
   ]
  },
  {
   "cell_type": "code",
   "execution_count": null,
   "id": "16a0f0e1",
   "metadata": {
    "executionInfo": {
     "elapsed": 426,
     "status": "ok",
     "timestamp": 1727060850936,
     "user": {
      "displayName": "이기홍",
      "userId": "00707751831574141695"
     },
     "user_tz": -540
    },
    "id": "ugKt8Emb0hpo"
   },
   "outputs": [],
   "source": [
    "rf_path = DATA_DIR / '통안채1년물_월평균_201301-202408.csv'"
   ]
  },
  {
   "cell_type": "code",
   "execution_count": null,
   "id": "d8ec8717",
   "metadata": {
    "colab": {
     "base_uri": "https://localhost:8080/",
     "height": 423
    },
    "executionInfo": {
     "elapsed": 480,
     "status": "ok",
     "timestamp": 1727060852869,
     "user": {
      "displayName": "이기홍",
      "userId": "00707751831574141695"
     },
     "user_tz": -540
    },
    "id": "WiZOcaFg0hpo",
    "outputId": "c63db159-3a07-496d-9823-ccd0cf90fe47"
   },
   "outputs": [],
   "source": [
    "df = pd.read_csv(rf_path)\n",
    "df"
   ]
  },
  {
   "cell_type": "code",
   "execution_count": null,
   "id": "7b6e5384",
   "metadata": {
    "colab": {
     "base_uri": "https://localhost:8080/"
    },
    "executionInfo": {
     "elapsed": 312,
     "status": "ok",
     "timestamp": 1727060858515,
     "user": {
      "displayName": "이기홍",
      "userId": "00707751831574141695"
     },
     "user_tz": -540
    },
    "id": "zdlGmr3C0hpp",
    "outputId": "442202e9-e554-4720-b44b-697e112a736e"
   },
   "outputs": [],
   "source": [
    "df.info()"
   ]
  },
  {
   "cell_type": "code",
   "execution_count": null,
   "id": "f222cbd2",
   "metadata": {
    "id": "-7ttKysl0hpp"
   },
   "outputs": [],
   "source": []
  }
 ],
 "metadata": {
  "kernelspec": {
   "display_name": ".venv",
   "language": "python",
   "name": "python3"
  }
 },
 "nbformat": 4,
 "nbformat_minor": 5
}
