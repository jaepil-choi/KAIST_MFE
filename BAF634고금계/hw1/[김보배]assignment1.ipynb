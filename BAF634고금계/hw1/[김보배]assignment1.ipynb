{
 "cells": [
  {
   "cell_type": "markdown",
   "id": "534be9b0",
   "metadata": {},
   "source": [
    "# 고금계 과제 1"
   ]
  },
  {
   "cell_type": "code",
   "execution_count": null,
   "id": "683450a2",
   "metadata": {},
   "outputs": [],
   "source": [
    "import pandas as pd\n",
    "import numpy as np\n",
    "import matplotlib.pyplot as plt\n",
    "\n",
    "from pathlib import Path\n",
    "\n",
    "from fndata import FnStockData\n",
    "from fndata import FnMarketData"
   ]
  },
  {
   "cell_type": "code",
   "execution_count": null,
   "id": "60a40e30",
   "metadata": {},
   "outputs": [],
   "source": [
    "CWD = Path('.').resolve()\n",
    "DATA_DIR = CWD / 'data'"
   ]
  },
  {
   "cell_type": "code",
   "execution_count": null,
   "id": "d2274e9a",
   "metadata": {},
   "outputs": [],
   "source": [
    "fndata_path = DATA_DIR / '고금계과제1_v3.3_201301-202408.csv'\n",
    "mkt_path = DATA_DIR / '고금계과제_시장수익률_201301-202408.csv'\n",
    "rf_path = DATA_DIR / '통안채1년물_월평균_201301-202408.csv'"
   ]
  },
  {
   "cell_type": "markdown",
   "id": "8449fbc3",
   "metadata": {},
   "source": [
    "## 0. 데이터 전처리"
   ]
  },
  {
   "cell_type": "code",
   "execution_count": null,
   "id": "6e3ade47",
   "metadata": {},
   "outputs": [],
   "source": [
    "fn = FnStockData(fndata_path)\n",
    "df = fn.get_data()\n",
    "df"
   ]
  },
  {
   "cell_type": "code",
   "execution_count": null,
   "id": "583b1c4c",
   "metadata": {},
   "outputs": [],
   "source": [
    "fnmkt = FnMarketData(mkt_path)\n",
    "df_mkt = fnmkt.get_data()\n",
    "df_mkt"
   ]
  },
  {
   "cell_type": "code",
   "execution_count": null,
   "id": "8045b11e",
   "metadata": {},
   "outputs": [],
   "source": [
    "df_rf = pd.read_csv(rf_path)\n",
    "df_rf.columns = ['date', 'rf']\n",
    "df_rf['date'] = pd.to_datetime(df_rf['date'], format='%Y/%m') + pd.offsets.MonthEnd(0) # 말일로 변경\n",
    "df_rf.set_index('date', inplace=True)\n",
    "df_rf['rf'] = (1 + (df_rf['rf']/100)) ** (1/12) - 1 # 연율화\n",
    "df_rf"
   ]
  },
  {
   "cell_type": "markdown",
   "id": "46f67abb",
   "metadata": {},
   "source": [
    "# 1. Factor Construction"
   ]
  },
  {
   "cell_type": "markdown",
   "id": "a3f6d29c",
   "metadata": {},
   "source": [
    "## 1.1 MKT-RF\n",
    "- MKT : MKT2000\n",
    "- RF : 통안채1년물_월평균"
   ]
  },
  {
   "cell_type": "code",
   "execution_count": null,
   "id": "ecceda34",
   "metadata": {},
   "outputs": [],
   "source": [
    "df_mkt = df_mkt.xs('MKF2000', level='Symbol Name')\n",
    "df_mkt.columns = ['mkt']\n",
    "df_mkt"
   ]
  },
  {
   "cell_type": "code",
   "execution_count": null,
   "id": "fb3181a2",
   "metadata": {},
   "outputs": [],
   "source": [
    "df_mkt_rf= pd.concat([df_mkt, df_rf], axis=1)\n",
    "df_mkt_rf['mkt_rf'] = df_mkt_rf['mkt'] - df_mkt_rf['rf']"
   ]
  },
  {
   "cell_type": "code",
   "execution_count": null,
   "id": "1ead18f3",
   "metadata": {},
   "outputs": [],
   "source": [
    "df['수익률 (1개월)(%)'] = df['수익률 (1개월)(%)'] * 0.01 # 퍼센트를 소수로 변경\n",
    "df['excess_rets'] = df['수익률 (1개월)(%)'] - df_rf['rf'] # 2024-09-19 빼고는 존재함"
   ]
  },
  {
   "cell_type": "markdown",
   "id": "04f6fb39",
   "metadata": {},
   "source": [
    "## 1.2. SMB\n",
    "- 시장가치 : t년 12월 말의 보통주 주가에 발행주식을 곱해 측정한다.\n",
    "- 자기자본의 장부가치: t-1년 12월말의 보통주 자본금에 자본잉여금, 이익잉여금, 자기주식, 이연법인세 부채를 더해 측정\n",
    "- 장부가치 대 시장가치 비율(B/Mi=Bi/(PiXNi))는 자기자본의 장부가치를 시장가치로 나눈다.\n",
    "\n",
    "> 주의) 각 시점마다 independent sort"
   ]
  },
  {
   "cell_type": "code",
   "execution_count": null,
   "id": "cd8df02a",
   "metadata": {},
   "outputs": [],
   "source": [
    "# 종가가 없으면 거래가 되지 않았다고 판단하여 nan\n",
    "df['시가총액'] = df['종가(원)'] * df['기말발행주식수 (보통)(주)']"
   ]
  },
  {
   "cell_type": "code",
   "execution_count": null,
   "id": "876ca57f",
   "metadata": {},
   "outputs": [],
   "source": [
    "df['size_quantiles'] = df.groupby('date')['시가총액'].transform(lambda x: pd.qcut(x, 2, labels=['Small', 'Big']))\n",
    "df['size_quantiles']"
   ]
  },
  {
   "cell_type": "code",
   "execution_count": null,
   "id": "4112dab5",
   "metadata": {},
   "outputs": [],
   "source": [
    "df['Book'] = df['보통주자본금(천원)'].fillna(0) + df['자본잉여금(천원)'].fillna(0) + df['이익잉여금(천원)'].fillna(0) - df['자기주식(천원)'].fillna(0) + df['이연법인세부채(천원)'].fillna(0)\n",
    "df['BM'] = df['Book'] / df['시가총액']"
   ]
  },
  {
   "cell_type": "code",
   "execution_count": null,
   "id": "b9deda76",
   "metadata": {},
   "outputs": [],
   "source": [
    "def qcut_BM(x):\n",
    "    try:\n",
    "        return pd.qcut(x, 3, labels=['Low', 'Mid', 'High'])\n",
    "    except ValueError:  # 구간을 나눌 수 없는 경우\n",
    "        return pd.Series(np.nan, index=x.index)\n",
    "df['bm_quantiles'] = df.groupby('date')['BM'].transform(qcut_BM)\n",
    "df['bm_quantiles']"
   ]
  },
  {
   "cell_type": "code",
   "execution_count": null,
   "id": "5bac40ea",
   "metadata": {},
   "outputs": [],
   "source": [
    "df_smb = df.groupby(['date', 'size_quantiles', 'bm_quantiles'])['수익률 (1개월)(%)'].mean().unstack(['size_quantiles', 'bm_quantiles'])\n",
    "small_avg = df_smb[('Small', 'Low')] + df_smb[('Small', 'Mid')] + df_smb[('Small', 'High')]\n",
    "big_avg = df_smb[('Big', 'Low')] + df_smb[('Big', 'Mid')] + df_smb[('Big', 'High')]\n",
    "\n",
    "smb = (small_avg / 3) - (big_avg / 3)\n",
    "smb"
   ]
  },
  {
   "cell_type": "markdown",
   "id": "bc9974f4",
   "metadata": {},
   "source": [
    "## 1.3 HML"
   ]
  },
  {
   "cell_type": "code",
   "execution_count": null,
   "id": "535d8580",
   "metadata": {},
   "outputs": [],
   "source": [
    "df_hml = df.groupby(['date', 'size_quantiles', 'bm_quantiles'])['수익률 (1개월)(%)'].mean().unstack(['size_quantiles', 'bm_quantiles'])\n",
    "\n",
    "high_hml = df_hml[('Small', 'High')] + df_hml[('Big', 'High')]\n",
    "low_hml = df_hml[('Small', 'Low')] + df_hml[('Big', 'Low')]\n",
    "\n",
    "hml = (high_hml - low_hml) / 2\n",
    "hml"
   ]
  },
  {
   "cell_type": "markdown",
   "id": "9258632b",
   "metadata": {},
   "source": [
    "## 1.4 RMW\n",
    "- t-1년 12말의 매출액에서 매출원가, 이자비용, 판매및관리비를 차감한 영업이익을 t-1년 12월 말의 보통주 (자기자본) 장부가치로 나누어 측정"
   ]
  },
  {
   "cell_type": "code",
   "execution_count": null,
   "id": "aa7d3b73",
   "metadata": {},
   "outputs": [],
   "source": [
    "df['OP'] = df['영업이익(천원)'].fillna(0) / df['Book']"
   ]
  },
  {
   "cell_type": "code",
   "execution_count": null,
   "id": "19a06e67",
   "metadata": {},
   "outputs": [],
   "source": [
    "def qcut_OP(x):\n",
    "    try:\n",
    "        return pd.qcut(x, [0, 0.3, 0.7, 1.0], labels=['Weak', 'Neutral', 'Robust'])\n",
    "    except ValueError:  # 구간을 나눌 수 없는 경우\n",
    "        return pd.Series(np.nan, index=x.index)\n",
    "df['OP_quantiles'] = df.groupby('date')['OP'].transform(qcut_OP)\n",
    "df['OP_quantiles']"
   ]
  },
  {
   "cell_type": "code",
   "execution_count": null,
   "id": "6b94a6a0",
   "metadata": {},
   "outputs": [],
   "source": [
    "df_rmv = df.groupby(['date', 'size_quantiles', 'OP_quantiles'])['수익률 (1개월)(%)'].mean().unstack(['size_quantiles', 'OP_quantiles'])\n",
    "\n",
    "high_rmw = df_rmv[('Small', 'Robust')] + df_rmv[('Big', 'Robust')]\n",
    "low_rmw = df_rmv[('Small', 'Weak')] + df_rmv[('Big', 'Weak')]\n",
    "\n",
    "rmw = (high_rmw - low_rmw) / 2\n",
    "rmw"
   ]
  },
  {
   "cell_type": "markdown",
   "id": "ef42be32",
   "metadata": {},
   "source": [
    "## 1.5 CMA\n",
    "-  t-1년 12월 말의 총자산에서 t-2년 12월말의 총자산을 차감한 총자산증가액을 t-2년 12월 말의 총자산으로 나누어서 측정."
   ]
  },
  {
   "cell_type": "code",
   "execution_count": null,
   "id": "e9faa86e",
   "metadata": {},
   "outputs": [],
   "source": [
    "df['invest'] = df.groupby('date')['총자산(천원)'].transform(lambda x: (x - x.shift(12)) / x.shift(12))"
   ]
  },
  {
   "cell_type": "code",
   "execution_count": null,
   "id": "02c9454b",
   "metadata": {},
   "outputs": [],
   "source": [
    "def qcut_invest(x):\n",
    "    try:\n",
    "        return pd.qcut(x, [0, 0.3, 0.7, 1.0], labels=['Conservative', 'Neutral', 'Aggressive'])\n",
    "    except ValueError:  # 구간을 나눌 수 없는 경우\n",
    "        return pd.Series(np.nan, index=x.index)\n",
    "df['invest_quantiles'] = df.groupby('date')['invest'].transform(qcut_invest)"
   ]
  },
  {
   "cell_type": "code",
   "execution_count": null,
   "id": "f3dc0e0c",
   "metadata": {},
   "outputs": [],
   "source": [
    "cma_data = df.groupby(['date', 'size_quantiles', 'invest_quantiles'])['수익률 (1개월)(%)'].mean().unstack(['size_quantiles', 'invest_quantiles'])\n",
    "\n",
    "high_invest = cma_data[('Small', 'Aggressive')] + cma_data[('Big', 'Aggressive')]\n",
    "low_invest = cma_data[('Small', 'Conservative')] + cma_data[('Big', 'Conservative')]\n",
    "\n",
    "cma = low_invest - high_invest\n",
    "cma"
   ]
  },
  {
   "cell_type": "markdown",
   "id": "81ee8b30",
   "metadata": {},
   "source": [
    "## 1.6 UMD\n",
    "- (전월말 주가 – 1년전 월말 주가) / 1년전 주가\n",
    "- 보유기간이 1개월이며, 매월 리밸런싱하며, 상위 30%가 Winner(UP)이며, 하위 30%가 Loser(DOWN)이다."
   ]
  },
  {
   "cell_type": "code",
   "execution_count": null,
   "id": "a335b536",
   "metadata": {},
   "outputs": [],
   "source": [
    "df['Momentum'] = df.groupby('date')['수정주가(원)'].transform(lambda x: (x - x.shift(12)) / x.shift(12))\n",
    "df['Momentum_rank'] = df.groupby('date')['Momentum'].transform(lambda x: pd.qcut(x, [0, 0.3, 0.7, 1.0], labels=['Loser', 'Middle', 'Winner']))\n",
    "umd = df.groupby(['date', 'Momentum_rank'])['수익률 (1개월)(%)'].mean().unstack()\n",
    "umd['WML'] = umd['Winner'] - umd['Loser']\n",
    "umd"
   ]
  },
  {
   "cell_type": "markdown",
   "id": "74f9ce29",
   "metadata": {},
   "source": [
    "## 1.7 STR\n",
    "- reversal(최근월의 수익률 기반으로)"
   ]
  },
  {
   "cell_type": "code",
   "execution_count": null,
   "id": "29d69a9f",
   "metadata": {},
   "outputs": [],
   "source": [
    "df['1M_Return'] = df.groupby('date')['수정주가(원)'].transform(lambda x: x.pct_change())\n",
    "df['Reversal_rank'] = df.groupby('date')['1M_Return'].transform(lambda x: pd.qcut(x, [0, 0.3, 0.7, 1.0], labels=['Winner', 'Middle', 'Loser']))\n",
    "str = df.groupby(['date', 'Reversal_rank'])['수익률 (1개월)(%)'].mean().unstack()\n",
    "str['WML'] = str['Winner'] - str['Loser']\n",
    "str"
   ]
  },
  {
   "cell_type": "markdown",
   "id": "444b123f",
   "metadata": {},
   "source": [
    "# 2. Output\n",
    "## 2.1 output1) 25 size BEME Portfolios"
   ]
  },
  {
   "cell_type": "code",
   "execution_count": null,
   "id": "916cc21a",
   "metadata": {},
   "outputs": [],
   "source": [
    "df['size_quantiles_by5'] = pd.qcut(df['시가총액'], 5, labels=['Small', '2', '3', '4', 'Big'])\n",
    "df['size_quantiles_by5']"
   ]
  },
  {
   "cell_type": "code",
   "execution_count": null,
   "id": "b995d341",
   "metadata": {},
   "outputs": [],
   "source": [
    "def qcut_BM_by5(x):\n",
    "    try:\n",
    "        return pd.qcut(x, 5, labels=['Low', '2', '3', '4', 'High'])\n",
    "    except ValueError:  # 구간을 나눌 수 없는 경우\n",
    "        return pd.Series(np.nan, index=x.index)\n",
    "df['bm_quantiles_by5'] = df.groupby('date')['BM'].transform(qcut_BM_by5)\n",
    "df['bm_quantiles_by5']"
   ]
  },
  {
   "cell_type": "code",
   "execution_count": null,
   "id": "73a32210",
   "metadata": {},
   "outputs": [],
   "source": [
    "portfolios = df.groupby(['date', 'size_quantiles_by5', 'bm_quantiles_by5']).apply(\n",
    "    lambda group: group['excess_rets'].mean(skipna=True)\n",
    "    ).unstack(level=['size_quantiles_by5', 'bm_quantiles_by5'])"
   ]
  },
  {
   "cell_type": "code",
   "execution_count": null,
   "id": "76f8f989",
   "metadata": {},
   "outputs": [],
   "source": [
    "portfolios  # book value가 2024-06-30까지 존재함"
   ]
  },
  {
   "cell_type": "markdown",
   "id": "bf34f976",
   "metadata": {},
   "source": [
    "## 2.2 output 2) Fama-French 3factors"
   ]
  },
  {
   "cell_type": "code",
   "execution_count": null,
   "id": "b514ede1",
   "metadata": {},
   "outputs": [],
   "source": [
    "_3factors = pd.DataFrame({\n",
    "    'Mkt_RF': df_mkt_rf['mkt_rf'],\n",
    "    'SMB': smb,\n",
    "    'HML': hml,\n",
    "    'RF' : df_rf['rf'],\n",
    "    'UMD': umd['WML']\n",
    "    })\n",
    "_3factors.dropna(how='all', inplace=True)\n",
    "_3factors"
   ]
  },
  {
   "cell_type": "markdown",
   "id": "0bb12f03",
   "metadata": {},
   "source": [
    "## 2-3 output 3) Fama-French 5Factors"
   ]
  },
  {
   "cell_type": "code",
   "execution_count": null,
   "id": "3efbf1fa",
   "metadata": {},
   "outputs": [],
   "source": [
    "_5factors = pd.DataFrame({\n",
    "    'Mkt_RF': df_mkt_rf['mkt_rf'],\n",
    "    'SMB': smb,\n",
    "    'HML': hml,\n",
    "    'RMW': rmw,\n",
    "    'CMA': cma,\n",
    "    'RF' : df_rf['rf'],\n",
    "    'UMD': umd['WML'],\n",
    "    'STR': str['WML']\n",
    "})\n",
    "_5factors.dropna(how='all', inplace=True)\n",
    "_5factors"
   ]
  },
  {
   "cell_type": "markdown",
   "id": "bb546b23",
   "metadata": {},
   "source": [
    "(재필)\n",
    "\n",
    "보배 데이터 plot"
   ]
  },
  {
   "cell_type": "code",
   "execution_count": null,
   "id": "8dd90af6",
   "metadata": {},
   "outputs": [],
   "source": [
    "cols = [\n",
    "    'Mkt_RF',\n",
    "    'SMB',\n",
    "    'HML',\n",
    "    'RMW',\n",
    "    'CMA',\n",
    "    'UMD',\n",
    "    'STR',\n",
    "    'RF'\n",
    "]\n",
    "\n",
    "(_5factors[cols] + 1).cumprod().plot()"
   ]
  },
  {
   "cell_type": "code",
   "execution_count": null,
   "id": "49c1b224",
   "metadata": {},
   "outputs": [],
   "source": []
  }
 ],
 "metadata": {
  "kernelspec": {
   "display_name": ".venv",
   "language": "python",
   "name": "python3"
  }
 },
 "nbformat": 4,
 "nbformat_minor": 5
}
