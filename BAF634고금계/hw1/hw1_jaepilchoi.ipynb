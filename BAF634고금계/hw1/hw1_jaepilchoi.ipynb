{
 "cells": [
  {
   "cell_type": "markdown",
   "metadata": {},
   "source": [
    "# 고금계 과제 1\n",
    "\n",
    "20249433 최재필"
   ]
  },
  {
   "cell_type": "code",
   "execution_count": 46,
   "metadata": {},
   "outputs": [],
   "source": [
    "import pandas as pd\n",
    "import numpy as np\n",
    "import matplotlib.pyplot as plt\n",
    "\n",
    "from pathlib import Path"
   ]
  },
  {
   "cell_type": "code",
   "execution_count": 47,
   "metadata": {},
   "outputs": [],
   "source": [
    "CWD = Path('.').resolve()\n",
    "DATA_DIR = CWD / 'data'"
   ]
  },
  {
   "cell_type": "code",
   "execution_count": 48,
   "metadata": {},
   "outputs": [],
   "source": [
    "from fndata import FnStockData\n",
    "from fndata import FnMarketData"
   ]
  },
  {
   "cell_type": "markdown",
   "metadata": {},
   "source": [
    "## Load data"
   ]
  },
  {
   "cell_type": "code",
   "execution_count": 49,
   "metadata": {},
   "outputs": [],
   "source": [
    "fndata_path = DATA_DIR / '고금계과제1_v3.3_201301-202408.csv'\n",
    "fnmkt_path = DATA_DIR / '고금계과제_시장수익률_201301-202408.csv'\n",
    "rf_path = DATA_DIR / '통안채1년물_월평균_201301-202408.csv'"
   ]
  },
  {
   "cell_type": "markdown",
   "metadata": {},
   "source": [
    "### 주식 데이터"
   ]
  },
  {
   "cell_type": "code",
   "execution_count": 50,
   "metadata": {},
   "outputs": [],
   "source": [
    "# 데이터 모듈을 생성하며 기본 전처리들을 수행합니다.\n",
    "fn = FnStockData(fndata_path)"
   ]
  },
  {
   "cell_type": "code",
   "execution_count": 51,
   "metadata": {},
   "outputs": [
    {
     "data": {
      "text/plain": [
       "array(['종가(원)', '수정계수', '수정주가(원)', '수익률 (1개월)(%)', 'FnGuide Sector',\n",
       "       '거래정지여부', '관리종목여부', '보통주자본금(천원)', '자본잉여금(천원)', '이익잉여금(천원)',\n",
       "       '자기주식(천원)', '이연법인세부채(천원)', '매출액(천원)', '매출원가(천원)', '이자비용(천원)',\n",
       "       '영업이익(천원)', '총자산(천원)', '기말발행주식수 (보통)(주)'], dtype=object)"
      ]
     },
     "execution_count": 51,
     "metadata": {},
     "output_type": "execute_result"
    }
   ],
   "source": [
    "# 사용 가능한 데이터를 확인합니다.\n",
    "fn_items = fn.get_items()\n",
    "fn_items"
   ]
  },
  {
   "cell_type": "code",
   "execution_count": 52,
   "metadata": {},
   "outputs": [
    {
     "data": {
      "text/plain": [
       "array(['A000020', 'A000040', 'A000050', ..., 'A001260', 'A019660',\n",
       "       'A023460'], dtype=object)"
      ]
     },
     "execution_count": 52,
     "metadata": {},
     "output_type": "execute_result"
    }
   ],
   "source": [
    "# 분석 기간의 데이터 유니버스를 확인합니다. (금융업종, 거래정지, 관리종목 제외)\n",
    "univ_list = fn.get_universe()\n",
    "univ_list"
   ]
  },
  {
   "cell_type": "code",
   "execution_count": 53,
   "metadata": {},
   "outputs": [
    {
     "data": {
      "text/html": [
       "<div>\n",
       "<style scoped>\n",
       "    .dataframe tbody tr th:only-of-type {\n",
       "        vertical-align: middle;\n",
       "    }\n",
       "\n",
       "    .dataframe tbody tr th {\n",
       "        vertical-align: top;\n",
       "    }\n",
       "\n",
       "    .dataframe thead th {\n",
       "        text-align: right;\n",
       "    }\n",
       "</style>\n",
       "<table border=\"1\" class=\"dataframe\">\n",
       "  <thead>\n",
       "    <tr style=\"text-align: right;\">\n",
       "      <th></th>\n",
       "      <th>Item Name</th>\n",
       "      <th>FnGuide Sector</th>\n",
       "      <th>거래정지여부</th>\n",
       "      <th>관리종목여부</th>\n",
       "      <th>기말발행주식수 (보통)(주)</th>\n",
       "      <th>매출액(천원)</th>\n",
       "      <th>매출원가(천원)</th>\n",
       "      <th>보통주자본금(천원)</th>\n",
       "      <th>수익률 (1개월)(%)</th>\n",
       "      <th>수정계수</th>\n",
       "      <th>수정주가(원)</th>\n",
       "      <th>영업이익(천원)</th>\n",
       "      <th>이연법인세부채(천원)</th>\n",
       "      <th>이익잉여금(천원)</th>\n",
       "      <th>이자비용(천원)</th>\n",
       "      <th>자기주식(천원)</th>\n",
       "      <th>자본잉여금(천원)</th>\n",
       "      <th>종가(원)</th>\n",
       "      <th>총자산(천원)</th>\n",
       "    </tr>\n",
       "    <tr>\n",
       "      <th>date</th>\n",
       "      <th>Symbol</th>\n",
       "      <th></th>\n",
       "      <th></th>\n",
       "      <th></th>\n",
       "      <th></th>\n",
       "      <th></th>\n",
       "      <th></th>\n",
       "      <th></th>\n",
       "      <th></th>\n",
       "      <th></th>\n",
       "      <th></th>\n",
       "      <th></th>\n",
       "      <th></th>\n",
       "      <th></th>\n",
       "      <th></th>\n",
       "      <th></th>\n",
       "      <th></th>\n",
       "      <th></th>\n",
       "      <th></th>\n",
       "    </tr>\n",
       "  </thead>\n",
       "  <tbody>\n",
       "    <tr>\n",
       "      <th rowspan=\"5\" valign=\"top\">2013-01-31</th>\n",
       "      <th>A000020</th>\n",
       "      <td>의료</td>\n",
       "      <td>정상</td>\n",
       "      <td>정상</td>\n",
       "      <td>27931470.0</td>\n",
       "      <td>2.202406e+08</td>\n",
       "      <td>1.165344e+08</td>\n",
       "      <td>27931470.0</td>\n",
       "      <td>-0.17</td>\n",
       "      <td>1.0</td>\n",
       "      <td>6030.0</td>\n",
       "      <td>2062220.0</td>\n",
       "      <td>0.0</td>\n",
       "      <td>170147330.0</td>\n",
       "      <td>384335.0</td>\n",
       "      <td>0.0</td>\n",
       "      <td>26919758.0</td>\n",
       "      <td>6030.0</td>\n",
       "      <td>3.161655e+08</td>\n",
       "    </tr>\n",
       "    <tr>\n",
       "      <th>A000040</th>\n",
       "      <td>경기소비재</td>\n",
       "      <td>정상</td>\n",
       "      <td>정상</td>\n",
       "      <td>119341379.0</td>\n",
       "      <td>9.955327e+07</td>\n",
       "      <td>9.199679e+07</td>\n",
       "      <td>59670690.0</td>\n",
       "      <td>0.20</td>\n",
       "      <td>1.0</td>\n",
       "      <td>8727.0</td>\n",
       "      <td>-3486600.0</td>\n",
       "      <td>7181340.0</td>\n",
       "      <td>1298918.0</td>\n",
       "      <td>813333.0</td>\n",
       "      <td>-5044.0</td>\n",
       "      <td>3884892.0</td>\n",
       "      <td>495.0</td>\n",
       "      <td>1.169316e+08</td>\n",
       "    </tr>\n",
       "    <tr>\n",
       "      <th>A000050</th>\n",
       "      <td>경기소비재</td>\n",
       "      <td>정상</td>\n",
       "      <td>정상</td>\n",
       "      <td>2492298.0</td>\n",
       "      <td>3.471896e+08</td>\n",
       "      <td>2.514682e+08</td>\n",
       "      <td>12461490.0</td>\n",
       "      <td>-3.46</td>\n",
       "      <td>1.0</td>\n",
       "      <td>7874.0</td>\n",
       "      <td>36031739.0</td>\n",
       "      <td>90652345.0</td>\n",
       "      <td>612310562.0</td>\n",
       "      <td>13944625.0</td>\n",
       "      <td>0.0</td>\n",
       "      <td>13991400.0</td>\n",
       "      <td>86500.0</td>\n",
       "      <td>1.296989e+09</td>\n",
       "    </tr>\n",
       "    <tr>\n",
       "      <th>A000070</th>\n",
       "      <td>산업재</td>\n",
       "      <td>정상</td>\n",
       "      <td>정상</td>\n",
       "      <td>7704997.0</td>\n",
       "      <td>2.329145e+09</td>\n",
       "      <td>2.025952e+09</td>\n",
       "      <td>40852325.0</td>\n",
       "      <td>-4.51</td>\n",
       "      <td>1.0</td>\n",
       "      <td>67800.0</td>\n",
       "      <td>2472122.0</td>\n",
       "      <td>110818108.0</td>\n",
       "      <td>871019983.0</td>\n",
       "      <td>17176000.0</td>\n",
       "      <td>-9982000.0</td>\n",
       "      <td>355855971.0</td>\n",
       "      <td>67800.0</td>\n",
       "      <td>2.595068e+09</td>\n",
       "    </tr>\n",
       "    <tr>\n",
       "      <th>A000080</th>\n",
       "      <td>필수소비재</td>\n",
       "      <td>정상</td>\n",
       "      <td>정상</td>\n",
       "      <td>69477714.0</td>\n",
       "      <td>1.897469e+09</td>\n",
       "      <td>1.074666e+09</td>\n",
       "      <td>363168055.0</td>\n",
       "      <td>5.26</td>\n",
       "      <td>1.0</td>\n",
       "      <td>32000.0</td>\n",
       "      <td>161051461.0</td>\n",
       "      <td>23405084.0</td>\n",
       "      <td>422540903.0</td>\n",
       "      <td>56438096.0</td>\n",
       "      <td>-122693570.0</td>\n",
       "      <td>709299321.0</td>\n",
       "      <td>32000.0</td>\n",
       "      <td>3.553147e+09</td>\n",
       "    </tr>\n",
       "  </tbody>\n",
       "</table>\n",
       "</div>"
      ],
      "text/plain": [
       "Item Name          FnGuide Sector 거래정지여부 관리종목여부  기말발행주식수 (보통)(주)  \\\n",
       "date       Symbol                                                  \n",
       "2013-01-31 A000020             의료     정상     정상       27931470.0   \n",
       "           A000040          경기소비재     정상     정상      119341379.0   \n",
       "           A000050          경기소비재     정상     정상        2492298.0   \n",
       "           A000070            산업재     정상     정상        7704997.0   \n",
       "           A000080          필수소비재     정상     정상       69477714.0   \n",
       "\n",
       "Item Name                매출액(천원)      매출원가(천원)   보통주자본금(천원)  수익률 (1개월)(%)  \\\n",
       "date       Symbol                                                           \n",
       "2013-01-31 A000020  2.202406e+08  1.165344e+08   27931470.0         -0.17   \n",
       "           A000040  9.955327e+07  9.199679e+07   59670690.0          0.20   \n",
       "           A000050  3.471896e+08  2.514682e+08   12461490.0         -3.46   \n",
       "           A000070  2.329145e+09  2.025952e+09   40852325.0         -4.51   \n",
       "           A000080  1.897469e+09  1.074666e+09  363168055.0          5.26   \n",
       "\n",
       "Item Name           수정계수  수정주가(원)     영업이익(천원)  이연법인세부채(천원)    이익잉여금(천원)  \\\n",
       "date       Symbol                                                          \n",
       "2013-01-31 A000020   1.0   6030.0    2062220.0          0.0  170147330.0   \n",
       "           A000040   1.0   8727.0   -3486600.0    7181340.0    1298918.0   \n",
       "           A000050   1.0   7874.0   36031739.0   90652345.0  612310562.0   \n",
       "           A000070   1.0  67800.0    2472122.0  110818108.0  871019983.0   \n",
       "           A000080   1.0  32000.0  161051461.0   23405084.0  422540903.0   \n",
       "\n",
       "Item Name             이자비용(천원)     자기주식(천원)    자본잉여금(천원)    종가(원)  \\\n",
       "date       Symbol                                                   \n",
       "2013-01-31 A000020    384335.0          0.0   26919758.0   6030.0   \n",
       "           A000040    813333.0      -5044.0    3884892.0    495.0   \n",
       "           A000050  13944625.0          0.0   13991400.0  86500.0   \n",
       "           A000070  17176000.0   -9982000.0  355855971.0  67800.0   \n",
       "           A000080  56438096.0 -122693570.0  709299321.0  32000.0   \n",
       "\n",
       "Item Name                총자산(천원)  \n",
       "date       Symbol                 \n",
       "2013-01-31 A000020  3.161655e+08  \n",
       "           A000040  1.169316e+08  \n",
       "           A000050  1.296989e+09  \n",
       "           A000070  2.595068e+09  \n",
       "           A000080  3.553147e+09  "
      ]
     },
     "execution_count": 53,
     "metadata": {},
     "output_type": "execute_result"
    }
   ],
   "source": [
    "# 모든 데이터를 불러옵니다.\n",
    "\n",
    "df = fn.get_data()\n",
    "df.head()"
   ]
  },
  {
   "cell_type": "markdown",
   "metadata": {},
   "source": [
    "### 시장 데이터"
   ]
  },
  {
   "cell_type": "code",
   "execution_count": 54,
   "metadata": {},
   "outputs": [],
   "source": [
    "# 데이터 모듈을 생성하며 기본 전처리들을 수행합니다.\n",
    "fnmkt = FnMarketData(fnmkt_path)"
   ]
  },
  {
   "cell_type": "code",
   "execution_count": 55,
   "metadata": {},
   "outputs": [],
   "source": [
    "mkt = fnmkt.get_data(format='wide')\n",
    "\n",
    "mkf2000 = mkt['MKF2000']\n",
    "krx300 = mkt['KRX 300']"
   ]
  },
  {
   "cell_type": "markdown",
   "metadata": {},
   "source": [
    "### 무위험 이자율"
   ]
  },
  {
   "cell_type": "code",
   "execution_count": 56,
   "metadata": {},
   "outputs": [],
   "source": [
    "rf = pd.read_csv(rf_path)\n",
    "rf.columns = ['date', 'rf']\n",
    "rf.set_index('date', inplace=True)\n",
    "rf.index = pd.to_datetime(rf.index, format='%Y/%m') + pd.offsets.MonthEnd(0)"
   ]
  },
  {
   "cell_type": "code",
   "execution_count": 57,
   "metadata": {},
   "outputs": [
    {
     "data": {
      "text/html": [
       "<div>\n",
       "<style scoped>\n",
       "    .dataframe tbody tr th:only-of-type {\n",
       "        vertical-align: middle;\n",
       "    }\n",
       "\n",
       "    .dataframe tbody tr th {\n",
       "        vertical-align: top;\n",
       "    }\n",
       "\n",
       "    .dataframe thead th {\n",
       "        text-align: right;\n",
       "    }\n",
       "</style>\n",
       "<table border=\"1\" class=\"dataframe\">\n",
       "  <thead>\n",
       "    <tr style=\"text-align: right;\">\n",
       "      <th></th>\n",
       "      <th>rf</th>\n",
       "    </tr>\n",
       "    <tr>\n",
       "      <th>date</th>\n",
       "      <th></th>\n",
       "    </tr>\n",
       "  </thead>\n",
       "  <tbody>\n",
       "    <tr>\n",
       "      <th>2013-01-31</th>\n",
       "      <td>0.002239</td>\n",
       "    </tr>\n",
       "    <tr>\n",
       "      <th>2013-02-28</th>\n",
       "      <td>0.002214</td>\n",
       "    </tr>\n",
       "    <tr>\n",
       "      <th>2013-03-31</th>\n",
       "      <td>0.002149</td>\n",
       "    </tr>\n",
       "    <tr>\n",
       "      <th>2013-04-30</th>\n",
       "      <td>0.002125</td>\n",
       "    </tr>\n",
       "    <tr>\n",
       "      <th>2013-05-31</th>\n",
       "      <td>0.002125</td>\n",
       "    </tr>\n",
       "    <tr>\n",
       "      <th>...</th>\n",
       "      <td>...</td>\n",
       "    </tr>\n",
       "    <tr>\n",
       "      <th>2024-04-30</th>\n",
       "      <td>0.002781</td>\n",
       "    </tr>\n",
       "    <tr>\n",
       "      <th>2024-05-31</th>\n",
       "      <td>0.002780</td>\n",
       "    </tr>\n",
       "    <tr>\n",
       "      <th>2024-06-30</th>\n",
       "      <td>0.002751</td>\n",
       "    </tr>\n",
       "    <tr>\n",
       "      <th>2024-07-31</th>\n",
       "      <td>0.002636</td>\n",
       "    </tr>\n",
       "    <tr>\n",
       "      <th>2024-08-31</th>\n",
       "      <td>0.002505</td>\n",
       "    </tr>\n",
       "  </tbody>\n",
       "</table>\n",
       "<p>140 rows × 1 columns</p>\n",
       "</div>"
      ],
      "text/plain": [
       "                  rf\n",
       "date                \n",
       "2013-01-31  0.002239\n",
       "2013-02-28  0.002214\n",
       "2013-03-31  0.002149\n",
       "2013-04-30  0.002125\n",
       "2013-05-31  0.002125\n",
       "...              ...\n",
       "2024-04-30  0.002781\n",
       "2024-05-31  0.002780\n",
       "2024-06-30  0.002751\n",
       "2024-07-31  0.002636\n",
       "2024-08-31  0.002505\n",
       "\n",
       "[140 rows x 1 columns]"
      ]
     },
     "execution_count": 57,
     "metadata": {},
     "output_type": "execute_result"
    }
   ],
   "source": [
    "rf_m = (1 + rf / 100) ** (1 / 12) - 1 # 월율화\n",
    "rf_m"
   ]
  },
  {
   "cell_type": "markdown",
   "metadata": {},
   "source": [
    "## 팩터 데이터 생성"
   ]
  },
  {
   "cell_type": "markdown",
   "metadata": {},
   "source": [
    "### 1. Mkt Cap\n",
    "\n",
    "= 기업규모 = 시장가치 = 시가총액 = 보통주 주가 * 발행주식수"
   ]
  },
  {
   "cell_type": "code",
   "execution_count": null,
   "metadata": {},
   "outputs": [],
   "source": []
  },
  {
   "cell_type": "markdown",
   "metadata": {},
   "source": [
    "### 2. B/M\n",
    "\n",
    "자기자본 장부가치 / 시장가치"
   ]
  },
  {
   "cell_type": "markdown",
   "metadata": {},
   "source": [
    "#### 2.1 Book 계산\n",
    "\n",
    "= 자기자본 장부가치 = t-1년 12월말 보통주 자본금 + 자본잉여금 + 이익잉여금 + 자기주식 + 이연법인세 부채\n",
    "\n",
    "** 장부가치 음수인 자본잠식 상태의 기업들 분석에서 제외"
   ]
  },
  {
   "cell_type": "code",
   "execution_count": null,
   "metadata": {},
   "outputs": [],
   "source": []
  },
  {
   "cell_type": "markdown",
   "metadata": {},
   "source": [
    "#### 2.2 B/M 계산"
   ]
  },
  {
   "cell_type": "code",
   "execution_count": null,
   "metadata": {},
   "outputs": [],
   "source": []
  },
  {
   "cell_type": "markdown",
   "metadata": {},
   "source": [
    "### 3. 수익성\n",
    "\n",
    "= ROE = Net Income / Equity "
   ]
  },
  {
   "cell_type": "markdown",
   "metadata": {},
   "source": [
    "### 3.1 Net Income\n",
    "\n",
    "= t-1년 12월 말의 매출액 - 매출원가 - 이자비용 - 판매및관리비 차감한 영업이익 "
   ]
  },
  {
   "cell_type": "code",
   "execution_count": null,
   "metadata": {},
   "outputs": [],
   "source": []
  },
  {
   "cell_type": "markdown",
   "metadata": {},
   "source": [
    "#### 3.2 ROE 계산\n",
    "\n",
    "NI, Equity 둘 다 t-1년 12월 말 기준"
   ]
  },
  {
   "cell_type": "code",
   "execution_count": null,
   "metadata": {},
   "outputs": [],
   "source": []
  },
  {
   "cell_type": "markdown",
   "metadata": {},
   "source": [
    "### 4. 자본투자\n",
    "\n",
    "= (t-1년 12월 총자산 - t-2년 12월 총자산) / t-2년 12월 총자산 = 즉, 총자산의 증가율"
   ]
  },
  {
   "cell_type": "code",
   "execution_count": null,
   "metadata": {},
   "outputs": [],
   "source": []
  },
  {
   "cell_type": "markdown",
   "metadata": {},
   "source": [
    "### 5. UMD\n",
    "\n",
    "= Up Minus Down = (전월말 주가 - 1년전 월말 주가 ) / 1년전 월말 주가\n",
    "\n",
    "** 모멘텀의 경우 1개월마다 리밸런싱, 상위 30%가 winner / 하위 30%가 loser"
   ]
  },
  {
   "cell_type": "code",
   "execution_count": null,
   "metadata": {},
   "outputs": [],
   "source": []
  },
  {
   "cell_type": "markdown",
   "metadata": {},
   "source": [
    "### 6. STR\n",
    "\n",
    "= reversal \n",
    "\n",
    "최근 월의 수익률을 기반으로 구축 ? "
   ]
  },
  {
   "cell_type": "code",
   "execution_count": null,
   "metadata": {},
   "outputs": [],
   "source": []
  },
  {
   "cell_type": "markdown",
   "metadata": {},
   "source": [
    "## 팩터 포트폴리오 생성"
   ]
  },
  {
   "cell_type": "markdown",
   "metadata": {},
   "source": [
    "### 팩터 수익률 계산"
   ]
  },
  {
   "cell_type": "code",
   "execution_count": null,
   "metadata": {},
   "outputs": [],
   "source": []
  },
  {
   "cell_type": "markdown",
   "metadata": {},
   "source": [
    "### Size-B/M 포트폴리오\n",
    "\n",
    "- Size, B/M으로 double sort"
   ]
  },
  {
   "cell_type": "markdown",
   "metadata": {},
   "source": [
    "## Devil's in HML's detail \n",
    "\n",
    "- Asness의 주장대로 B/M 계산시 B는 작년 12월을 쓰더라도 M은 최근 6월 주가를 사용\n",
    "- 변경된 B/M 포트폴리오를 통해 결과 재산출"
   ]
  },
  {
   "cell_type": "code",
   "execution_count": null,
   "metadata": {},
   "outputs": [],
   "source": []
  }
 ],
 "metadata": {
  "kernelspec": {
   "display_name": ".venv",
   "language": "python",
   "name": "python3"
  },
  "language_info": {
   "codemirror_mode": {
    "name": "ipython",
    "version": 3
   },
   "file_extension": ".py",
   "mimetype": "text/x-python",
   "name": "python",
   "nbconvert_exporter": "python",
   "pygments_lexer": "ipython3",
   "version": "3.11.5"
  }
 },
 "nbformat": 4,
 "nbformat_minor": 2
}
