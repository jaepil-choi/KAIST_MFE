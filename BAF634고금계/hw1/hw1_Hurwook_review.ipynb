{
 "cells": [
  {
   "cell_type": "code",
   "execution_count": null,
   "id": "83225eff",
   "metadata": {},
   "outputs": [],
   "source": [
    "import pandas as pd\n",
    "import numpy as np\n",
    "import matplotlib.pyplot as plt\n",
    "import datetime as dt\n",
    "from pandas.tseries.offsets import MonthEnd\n",
    "from pathlib import Path\n",
    "import warnings\n",
    "warnings.filterwarnings('ignore')"
   ]
  },
  {
   "cell_type": "code",
   "execution_count": null,
   "id": "7f25a3cd",
   "metadata": {},
   "outputs": [],
   "source": [
    "CWD = Path('.').resolve()\n",
    "DATA_DIR = CWD / 'data'\n",
    "print(DATA_DIR)\n",
    "fndata_path = DATA_DIR / '고금계과제1_v3.3_201301-202408.csv'"
   ]
  },
  {
   "cell_type": "code",
   "execution_count": null,
   "id": "65ae9ed9",
   "metadata": {},
   "outputs": [],
   "source": [
    "from fndata import FnStockData\n",
    "from fndata import FnMarketData"
   ]
  },
  {
   "cell_type": "code",
   "execution_count": null,
   "id": "b972454d",
   "metadata": {},
   "outputs": [],
   "source": [
    "fn = FnStockData(fndata_path)\n",
    "#fn은 주식 데이터임\n",
    "fn.get_items()"
   ]
  },
  {
   "cell_type": "code",
   "execution_count": null,
   "id": "3a819618",
   "metadata": {},
   "outputs": [],
   "source": [
    "fnmkt_path = DATA_DIR / '고금계과제_시장수익률_201301-202408.csv'\n",
    "# 데이터 모듈을 생성하며 기본 전처리들을 수행합니다.\n",
    "fnmkt = FnMarketData(fnmkt_path)\n",
    "# long format 불러오기\n",
    "fnmkt.get_data(format='long', multiindex=True)"
   ]
  },
  {
   "cell_type": "code",
   "execution_count": null,
   "id": "241d9654",
   "metadata": {},
   "outputs": [],
   "source": [
    "#천원 단위가 아닌 것은 수정주가, 종가 2개다. \n",
    "op=fn.get_data('영업이익(천원)')\n",
    "#op[op.isna()]\n",
    "op.head()"
   ]
  },
  {
   "cell_type": "code",
   "execution_count": null,
   "id": "076ef5fd",
   "metadata": {},
   "outputs": [],
   "source": [
    "# 무위험이자율 파일을 만든다.\n",
    "rf_path = DATA_DIR / '통안채1년물_월평균_201301-202408.csv'\n",
    "rf_df = pd.read_csv(rf_path)\n",
    "rf_df.head()"
   ]
  },
  {
   "cell_type": "code",
   "execution_count": null,
   "id": "4e2409ee",
   "metadata": {},
   "outputs": [],
   "source": [
    "# rf 무위험이자율은 365일 단위이므로, 1개월 단위로 변환해야 한다.\n",
    "# (1+r/100)의 1/12 승.\n",
    "rf_df['Rf'] = (1 + (rf_df['원자료']/100)) ** (1/12) - 1\n",
    "rf_df.head()"
   ]
  },
  {
   "cell_type": "code",
   "execution_count": null,
   "id": "7eb59208",
   "metadata": {},
   "outputs": [],
   "source": [
    "# rf의 날짜가 object이므로, 접근하기 쉽게 datetime으로 변환한다. 일은 월말로 한다.\n",
    "rf_df['date'] = pd.to_datetime(rf_df['변환'], format='%Y/%m') + MonthEnd(0)\n",
    "rf_df['date'].head()"
   ]
  },
  {
   "cell_type": "code",
   "execution_count": null,
   "id": "c11e6f8b",
   "metadata": {},
   "outputs": [],
   "source": [
    "# 필요없는 이전 일자는 없앤다.\n",
    "rf_df.drop(columns='변환', inplace=True)\n",
    "rf_df"
   ]
  },
  {
   "cell_type": "markdown",
   "id": "c7c9939e",
   "metadata": {},
   "source": [
    "#1. 시장가치를 통해 장부가치, B/M구하기"
   ]
  },
  {
   "cell_type": "code",
   "execution_count": null,
   "id": "1ae8e671",
   "metadata": {},
   "outputs": [],
   "source": [
    "stock_df=fn.get_data()\n",
    "stock_df.head()"
   ]
  },
  {
   "cell_type": "code",
   "execution_count": null,
   "id": "566f9c25",
   "metadata": {},
   "outputs": [],
   "source": [
    "# 2023-12-31까지만 데이터로 삼는다. \n",
    "stock_df=stock_df[stock_df.index.get_level_values(0)<='2023-12-31']"
   ]
  },
  {
   "cell_type": "code",
   "execution_count": null,
   "id": "69889768",
   "metadata": {},
   "outputs": [],
   "source": [
    "stock_df[['자본잉여금(천원)','이익잉여금(천원)','자기주식(천원)','이연법인세부채(천원)']].fillna(0,inplace=True)\n",
    "stock_df[['자본잉여금(천원)','이익잉여금(천원)','자기주식(천원)','이연법인세부채(천원)']]"
   ]
  },
  {
   "cell_type": "code",
   "execution_count": null,
   "id": "e69bc7c2",
   "metadata": {},
   "outputs": [],
   "source": [
    "# NA는 없다. \n",
    "stock_df[['자본잉여금(천원)','이익잉여금(천원)','자기주식(천원)','이연법인세부채(천원)']].info()"
   ]
  },
  {
   "cell_type": "code",
   "execution_count": null,
   "id": "b91dba98",
   "metadata": {
    "lines_to_next_cell": 2
   },
   "outputs": [],
   "source": [
    "# 자기자본의 장부가치: t-1년 12월말의 보통주 자본금에 자본잉여금, 이익잉여금, 자기주식, 이연법인세 부채를 더해 측정\n",
    "stock_df['장부가치 (천원)'] = (stock_df['자본잉여금(천원)'] + stock_df['이익잉여금(천원)'] + stock_df['보통주자본금(천원)']+stock_df['자기주식(천원)']+stock_df['이연법인세부채(천원)'])\n",
    "#시장가치: 12월 말의 보통주 주가에 발행주식을 곱해 측정한다. 단, 종가는 천원 단위가 아니기에 1000을 나눠준 후 1000단위라고 해준다. \n",
    "stock_df['시장가치 (천원)']=(stock_df['종가(원)'] * stock_df['기말발행주식수 (보통)(주)'])/1000\n",
    "stock_df.head()"
   ]
  },
  {
   "cell_type": "code",
   "execution_count": null,
   "id": "e84146b6",
   "metadata": {},
   "outputs": [],
   "source": [
    "# 장부가치가 na가 나왔다는 것은 보통주 자본금이 NA라는 것.\n",
    "stock_df['장부가치 (천원)'].isna().sum()"
   ]
  },
  {
   "cell_type": "code",
   "execution_count": null,
   "id": "1872b070",
   "metadata": {},
   "outputs": [],
   "source": [
    "# 보통주 자본금이 NA인것은 제거한다. \n",
    "stock_df=stock_df[stock_df['장부가치 (천원)'].notna()]"
   ]
  },
  {
   "cell_type": "code",
   "execution_count": null,
   "id": "38669ee3",
   "metadata": {},
   "outputs": [],
   "source": [
    "stock_df.head()"
   ]
  },
  {
   "cell_type": "code",
   "execution_count": null,
   "id": "c1141cf3",
   "metadata": {
    "lines_to_next_cell": 2
   },
   "outputs": [],
   "source": [
    "#장부가치 대 시장가치 비율(B/Mi=Bi/(PiXNi))는 자기자본의 장부가치를 시장가치로 나눈다.\n",
    "stock_df['B/M']=stock_df['장부가치 (천원)']/stock_df['시장가치 (천원)']\n",
    "stock_df.head()"
   ]
  },
  {
   "cell_type": "code",
   "execution_count": null,
   "id": "2c783fec",
   "metadata": {},
   "outputs": [],
   "source": [
    "'''['종가(원)', '수정계수', '수정주가(원)', '수익률 (1개월)(%)', 'FnGuide Sector',\n",
    "       '거래정지여부', '관리종목여부', '보통주자본금(천원)', '자본잉여금(천원)', '이익잉여금(천원)',\n",
    "       '자기주식(천원)', '이연법인세부채(천원)', '매출액(천원)', '매출원가(천원)', '이자비용(천원)',\n",
    "       '영업이익(천원)', '총자산(천원)', '기말발행주식수 (보통)(주)'], dtype=object)'''"
   ]
  },
  {
   "cell_type": "code",
   "execution_count": null,
   "id": "be4dcd88",
   "metadata": {},
   "outputs": [],
   "source": [
    "#일단 B/M 중에서 무한대의 값은 없다. \n",
    "# B/M 중에서 np.nan 인것들은 없앤다. \n",
    "#stock_df.dropna(subset='B/M', inplace=True)\n",
    "# B/M의 NaN값 제거 이후 열 별 NaN 개수\n",
    "stock_df['B/M'].isna().sum()"
   ]
  },
  {
   "cell_type": "code",
   "execution_count": null,
   "id": "8acb2fa1",
   "metadata": {},
   "outputs": [],
   "source": [
    "stock_df['시장가치 (천원)']"
   ]
  },
  {
   "cell_type": "code",
   "execution_count": null,
   "id": "5b66b62d",
   "metadata": {},
   "outputs": [],
   "source": [
    "# 일단 (일자/주식번호)의 멀티인덱스\n",
    "# 날짜마다 있는 주식들의 중앙값을, 일자별로 groupby를 해서 얻는다\n",
    "stock_df['size_quantiles'] = stock_df.groupby('date')['시장가치 (천원)'].transform(lambda x: pd.qcut(x, 2, labels=['Small', 'Big']))\n",
    "stock_df['size_quantiles']"
   ]
  },
  {
   "cell_type": "code",
   "execution_count": null,
   "id": "e0339771",
   "metadata": {},
   "outputs": [],
   "source": [
    "# B/M이 na인 것 삭제\n",
    "stock_df=stock_df[stock_df['B/M'].notna()]\n",
    "stock_df.head()"
   ]
  },
  {
   "cell_type": "code",
   "execution_count": null,
   "id": "1f1087de",
   "metadata": {},
   "outputs": [],
   "source": [
    "def qcut_BM(x):\n",
    "    try:\n",
    "        return pd.qcut(x, 3, labels=['Low', 'Mid', 'High'])\n",
    "    except ValueError:  # 구간을 나눌 수 없는 경우\n",
    "        return pd.Series(np.nan, index=x.index)\n",
    "stock_df['bm_quantiles'] = stock_df.groupby('date')['B/M'].transform(qcut_BM)\n",
    "stock_df['bm_quantiles']"
   ]
  },
  {
   "cell_type": "code",
   "execution_count": null,
   "id": "a1b193ae",
   "metadata": {},
   "outputs": [],
   "source": [
    "df_smb = stock_df.groupby(['date', 'size_quantiles', 'bm_quantiles'])['수익률 (1개월)(%)'].mean().unstack(['size_quantiles', 'bm_quantiles'])\n",
    "small_avg = df_smb[('Small', 'Low')] + df_smb[('Small', 'Mid')] + df_smb[('Small', 'High')]\n",
    "big_avg = df_smb[('Big', 'Low')] + df_smb[('Big', 'Mid')] + df_smb[('Big', 'High')]\n",
    "\n",
    "smb = (small_avg / 3) - (big_avg / 3)\n",
    "smb"
   ]
  },
  {
   "cell_type": "code",
   "execution_count": null,
   "id": "feb9b598",
   "metadata": {},
   "outputs": [],
   "source": [
    "df_hml = stock_df.groupby(['date', 'size_quantiles', 'bm_quantiles'])['수익률 (1개월)(%)'].mean().unstack(['size_quantiles', 'bm_quantiles'])\n",
    "\n",
    "high_hml = df_hml[('Small', 'High')] + df_hml[('Big', 'High')]\n",
    "low_hml = df_hml[('Small', 'Low')] + df_hml[('Big', 'Low')]\n",
    "\n",
    "hml = (high_hml - low_hml) / 2\n",
    "hml"
   ]
  },
  {
   "cell_type": "code",
   "execution_count": null,
   "id": "ccab0890",
   "metadata": {},
   "outputs": [],
   "source": [
    "# RMW를 위해 영업이익을 확인해야 하는데, 이 값이 na이면 0처리한다. \n",
    "stock_df['영업이익(천원)'].isna().sum()"
   ]
  },
  {
   "cell_type": "code",
   "execution_count": null,
   "id": "0cb93d83",
   "metadata": {},
   "outputs": [],
   "source": [
    "# RMW를 위한 수익성 지수 측정. \n",
    "stock_df['OP'] = stock_df['영업이익(천원)'] / stock_df['장부가치 (천원)']\n",
    "stock_df['OP'].isna().sum()"
   ]
  },
  {
   "cell_type": "code",
   "execution_count": null,
   "id": "ed629bc9",
   "metadata": {},
   "outputs": [],
   "source": [
    "def qcut_OP(x):\n",
    "    try:\n",
    "        return pd.qcut(x, [0, 0.3, 0.7, 1.0], labels=['Weak', 'Neutral', 'Robust'])\n",
    "    except ValueError:  # 구간을 나눌 수 없는 경우\n",
    "        return pd.Series(np.nan, index=x.index)\n",
    "stock_df['OP_quantiles'] = stock_df.groupby('date')['OP'].transform(qcut_OP)\n",
    "stock_df['OP_quantiles']"
   ]
  },
  {
   "cell_type": "code",
   "execution_count": null,
   "id": "0580624b",
   "metadata": {},
   "outputs": [],
   "source": [
    "df_rmv = stock_df.groupby(['date', 'size_quantiles', 'OP_quantiles'])['수익률 (1개월)(%)'].mean().unstack(['size_quantiles', 'OP_quantiles'])\n",
    "\n",
    "high_rmw = df_rmv[('Small', 'Robust')] + df_rmv[('Big', 'Robust')]\n",
    "low_rmw = df_rmv[('Small', 'Weak')] + df_rmv[('Big', 'Weak')]\n",
    "\n",
    "rmw = (high_rmw - low_rmw) / 2\n",
    "rmw"
   ]
  },
  {
   "cell_type": "code",
   "execution_count": null,
   "id": "64958fa8",
   "metadata": {},
   "outputs": [],
   "source": [
    "#시장 데이터 전처리\n",
    "df_mkt=fnmkt.get_data(format='wide')\n",
    "df_mkt=df_mkt[df_mkt.index.get_level_values(0)<='2023-12-31']\n",
    "df_mkt=df_mkt['MKF2000']\n",
    "df_mkt"
   ]
  },
  {
   "cell_type": "code",
   "execution_count": null,
   "id": "3534b619",
   "metadata": {},
   "outputs": [],
   "source": [
    "rf_df=rf_df[rf_df['date']<='2023-12-31']\n",
    "rf_df"
   ]
  },
  {
   "cell_type": "code",
   "execution_count": null,
   "id": "bd03dc71",
   "metadata": {
    "lines_to_next_cell": 2
   },
   "outputs": [],
   "source": [
    "mr=pd.merge(rf_df, df_mkt,on='date')\n",
    "mr"
   ]
  },
  {
   "cell_type": "code",
   "execution_count": null,
   "id": "bebdbc76",
   "metadata": {
    "lines_to_next_cell": 2
   },
   "outputs": [],
   "source": [
    "mr['excess']=mr['MKF2000']-mr['Rf']\n",
    "mr['excess']"
   ]
  },
  {
   "cell_type": "code",
   "execution_count": null,
   "id": "c5eb91ad",
   "metadata": {},
   "outputs": [],
   "source": [
    "#지금까지 excess, smb, hml, rmw 제작. \n",
    "stock_df['invest'] = stock_df.groupby('date')['총자산(천원)'].transform(lambda x: (x - x.shift(12)) / x.shift(12))"
   ]
  },
  {
   "cell_type": "code",
   "execution_count": null,
   "id": "6159cf22",
   "metadata": {},
   "outputs": [],
   "source": [
    "# 이것만 특별히 3:4:3 구간 간격.\n",
    "def qcut_invest(x):\n",
    "    try:\n",
    "        return pd.qcut(x, [0, 0.3, 0.7, 1.0], labels=['Conservative', 'Neutral', 'Aggressive'])\n",
    "    except ValueError:  # 구간을 나눌 수 없는 경우\n",
    "        return pd.Series(np.nan, index=x.index)\n",
    "stock_df['invest_quantiles'] = stock_df.groupby('date')['invest'].transform(qcut_invest)"
   ]
  },
  {
   "cell_type": "code",
   "execution_count": null,
   "id": "bfbdaa8d",
   "metadata": {},
   "outputs": [],
   "source": [
    "cma_data = stock_df.groupby(['date', 'size_quantiles', 'invest_quantiles'])['수익률 (1개월)(%)'].mean().unstack(['size_quantiles', 'invest_quantiles'])\n",
    "\n",
    "high_invest = cma_data[('Small', 'Aggressive')] + cma_data[('Big', 'Aggressive')]\n",
    "low_invest = cma_data[('Small', 'Conservative')] + cma_data[('Big', 'Conservative')]\n",
    "\n",
    "cma = low_invest - high_invest\n",
    "cma"
   ]
  },
  {
   "cell_type": "code",
   "execution_count": null,
   "id": "c4f10623",
   "metadata": {},
   "outputs": [],
   "source": [
    "# 5팩터 최종\n",
    "d={'Mkt_RF':mr['excess'].values,'SMB': smb.values,'HML': hml.values,'RMW': rmw.values,'CMA': cma.values}\n",
    "F_5 = pd.DataFrame(data=d, index=smb.index)\n",
    "F_5\n",
    "#_5factors.dropna(how='all', inplace=True)\n",
    "#_5factors"
   ]
  },
  {
   "cell_type": "code",
   "execution_count": null,
   "id": "fa783741",
   "metadata": {},
   "outputs": [],
   "source": [
    "F_5.info()"
   ]
  },
  {
   "cell_type": "code",
   "execution_count": null,
   "id": "80efa10b",
   "metadata": {},
   "outputs": [],
   "source": [
    "stock_df['size_quantiles_by5'] = pd.qcut(stock_df['시장가치 (천원)'], 5, labels=['Small', '2', '3', '4', 'Big'])\n",
    "stock_df['size_quantiles_by5']"
   ]
  },
  {
   "cell_type": "code",
   "execution_count": null,
   "id": "552a68aa",
   "metadata": {},
   "outputs": [],
   "source": [
    "def qcut_BM_by5(x):\n",
    "    try:\n",
    "        return pd.qcut(x, 5, labels=['Low', '2', '3', '4', 'High'])\n",
    "    except ValueError:  # 구간을 나눌 수 없는 경우\n",
    "        return pd.Series(np.nan, index=x.index)\n",
    "stock_df['bm_quantiles_by5'] = stock_df.groupby('date')['B/M'].transform(qcut_BM_by5)\n",
    "stock_df['bm_quantiles_by5']"
   ]
  },
  {
   "cell_type": "code",
   "execution_count": null,
   "id": "433a1dbf",
   "metadata": {},
   "outputs": [],
   "source": [
    "stock_df['수익률 (1개월)(%)']"
   ]
  },
  {
   "cell_type": "code",
   "execution_count": null,
   "id": "63afa445",
   "metadata": {},
   "outputs": [],
   "source": [
    "s=pd.Series(rf_df['Rf'].values,index=smb.index)\n",
    "s"
   ]
  },
  {
   "cell_type": "code",
   "execution_count": null,
   "id": "d6dd8477",
   "metadata": {},
   "outputs": [],
   "source": [
    "stock_df['excess_value'] = stock_df['수익률 (1개월)(%)'] - stock_df.index.get_level_values('date').map(s)"
   ]
  },
  {
   "cell_type": "code",
   "execution_count": null,
   "id": "2cc25e3d",
   "metadata": {},
   "outputs": [],
   "source": [
    "stock_df.head()"
   ]
  },
  {
   "cell_type": "code",
   "execution_count": null,
   "id": "bbd2762f",
   "metadata": {},
   "outputs": [],
   "source": [
    "portfolios = stock_df.groupby(['date', 'size_quantiles_by5', 'bm_quantiles_by5']).apply(\n",
    "    lambda group: group['excess_value'].mean(skipna=True)\n",
    "    ).unstack(level=['size_quantiles_by5', 'bm_quantiles_by5'])"
   ]
  },
  {
   "cell_type": "code",
   "execution_count": null,
   "id": "10a349a1",
   "metadata": {},
   "outputs": [],
   "source": [
    "portfolios"
   ]
  },
  {
   "cell_type": "code",
   "execution_count": null,
   "id": "f6931dce",
   "metadata": {},
   "outputs": [],
   "source": [
    "portfolios.columns"
   ]
  },
  {
   "cell_type": "code",
   "execution_count": null,
   "id": "3553f320",
   "metadata": {},
   "outputs": [],
   "source": [
    "meanss=[portfolios[midx].mean() for midx in portfolios.columns]\n",
    "final25=pd.DataFrame({'Small':meanss[0:5],'2':meanss[5:10],'3':meanss[10:15],'4':meanss[15:20],'Big':meanss[20:]})\n",
    "final_25=final25.T\n",
    "final_25.columns=['Low','2','3','4','High']\n",
    "final_25"
   ]
  },
  {
   "cell_type": "code",
   "execution_count": null,
   "id": "5d64ff8b",
   "metadata": {},
   "outputs": [],
   "source": [
    "final_25.loc['Small-Big']=final_25.loc['Small']-final_25.loc['Big']\n",
    "final_25"
   ]
  },
  {
   "cell_type": "code",
   "execution_count": null,
   "id": "7de2950d",
   "metadata": {},
   "outputs": [],
   "source": [
    "final_25['High-Low']=final_25['High']-final_25['Low']\n",
    "final_25.loc['Small-Big','High-Low']='.'\n",
    "final_25"
   ]
  },
  {
   "cell_type": "markdown",
   "id": "4f4a17fe",
   "metadata": {},
   "source": [
    "(재필)\n",
    "\n",
    "욱이 데이터 플롯"
   ]
  },
  {
   "cell_type": "code",
   "execution_count": null,
   "id": "58a257be",
   "metadata": {},
   "outputs": [],
   "source": [
    "(portfolios/100 + 1).cumprod().plot()"
   ]
  },
  {
   "cell_type": "code",
   "execution_count": null,
   "id": "068b99ca",
   "metadata": {},
   "outputs": [],
   "source": []
  }
 ],
 "metadata": {
  "kernelspec": {
   "display_name": ".venv",
   "language": "python",
   "name": "python3"
  }
 },
 "nbformat": 4,
 "nbformat_minor": 5
}
