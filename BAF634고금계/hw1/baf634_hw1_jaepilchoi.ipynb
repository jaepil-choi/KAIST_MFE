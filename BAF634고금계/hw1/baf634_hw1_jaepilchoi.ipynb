{
 "cells": [
  {
   "cell_type": "markdown",
   "id": "df2765be",
   "metadata": {},
   "source": [
    "# 고금계 과제 1\n",
    "\n",
    "20249433 최재필"
   ]
  },
  {
   "cell_type": "code",
   "execution_count": null,
   "id": "f38458d4",
   "metadata": {},
   "outputs": [],
   "source": [
    "import pandas as pd\n",
    "import numpy as np\n",
    "import matplotlib.pyplot as plt\n",
    "\n",
    "from pathlib import Path"
   ]
  },
  {
   "cell_type": "code",
   "execution_count": null,
   "id": "56640aff",
   "metadata": {},
   "outputs": [],
   "source": [
    "pd.set_option('future.no_silent_downcasting', True)"
   ]
  },
  {
   "cell_type": "code",
   "execution_count": null,
   "id": "e43608c0",
   "metadata": {},
   "outputs": [],
   "source": [
    "CWD = Path('.').resolve()\n",
    "DATA_DIR = CWD / 'data'"
   ]
  },
  {
   "cell_type": "code",
   "execution_count": null,
   "id": "155dd1b7",
   "metadata": {},
   "outputs": [],
   "source": [
    "from fndata import FnStockData\n",
    "from fndata import FnMarketData"
   ]
  },
  {
   "cell_type": "markdown",
   "id": "146660f1",
   "metadata": {},
   "source": [
    "## Load data"
   ]
  },
  {
   "cell_type": "code",
   "execution_count": null,
   "id": "b532b527",
   "metadata": {},
   "outputs": [],
   "source": [
    "fndata_path = DATA_DIR / '고금계과제1_v3.3_201301-202408.csv'\n",
    "fnmkt_path = DATA_DIR / '고금계과제_시장수익률_201301-202408.csv'\n",
    "rf_path = DATA_DIR / '통안채1년물_월평균_201301-202408.csv'"
   ]
  },
  {
   "cell_type": "code",
   "execution_count": null,
   "id": "70ba6be1",
   "metadata": {},
   "outputs": [],
   "source": [
    "END_DATE = '2023-12-31'"
   ]
  },
  {
   "cell_type": "markdown",
   "id": "a6be1d76",
   "metadata": {},
   "source": [
    "### 주식 데이터"
   ]
  },
  {
   "cell_type": "code",
   "execution_count": null,
   "id": "42ea24a3",
   "metadata": {},
   "outputs": [],
   "source": [
    "# 데이터 모듈을 생성하며 기본 전처리들을 수행합니다.\n",
    "fn = FnStockData(fndata_path)"
   ]
  },
  {
   "cell_type": "code",
   "execution_count": null,
   "id": "bbd41646",
   "metadata": {},
   "outputs": [],
   "source": [
    "# 사용 가능한 데이터를 확인합니다.\n",
    "fn_items = fn.get_items()\n",
    "fn_items"
   ]
  },
  {
   "cell_type": "code",
   "execution_count": null,
   "id": "1c86671e",
   "metadata": {},
   "outputs": [],
   "source": [
    "# 분석 기간의 데이터 유니버스를 확인합니다. (금융업종, 거래정지, 관리종목 제외)\n",
    "univ_list = fn.get_universe()\n",
    "univ_list"
   ]
  },
  {
   "cell_type": "code",
   "execution_count": null,
   "id": "97464415",
   "metadata": {},
   "outputs": [],
   "source": [
    "# long format (전부)\n",
    "\n",
    "df = fn.get_data()\n",
    "df.head()"
   ]
  },
  {
   "cell_type": "code",
   "execution_count": null,
   "id": "cddfd571",
   "metadata": {},
   "outputs": [],
   "source": [
    "# wide format\n",
    "\n",
    "monthly_returns = fn.get_data('수익률 (1개월)(%)')\n",
    "monthly_returns = monthly_returns.loc[:END_DATE, :]\n",
    "monthly_returns.head()"
   ]
  },
  {
   "cell_type": "markdown",
   "id": "9d88b85f",
   "metadata": {},
   "source": [
    "### Universe"
   ]
  },
  {
   "cell_type": "code",
   "execution_count": null,
   "id": "21e5dc0d",
   "metadata": {},
   "outputs": [],
   "source": [
    "close = fn.get_data('종가(원)')\n",
    "close = close.loc[:END_DATE, :]\n",
    "\n",
    "close.isnull().sum().sum() , monthly_returns.isnull().sum().sum()\n",
    "\n",
    "# monthly return이 close보다 결측치가 많음. \n",
    "# 보수적으로 잡기 위해 결측치가 많은 monthly_return을 기준으로 universe mask를 만들겠다. "
   ]
  },
  {
   "cell_type": "code",
   "execution_count": null,
   "id": "5cd1d137",
   "metadata": {
    "lines_to_next_cell": 2
   },
   "outputs": [],
   "source": [
    "# 기본 유니버스. 존재 여부. \n",
    "univ_mask_df = monthly_returns.notnull()"
   ]
  },
  {
   "cell_type": "code",
   "execution_count": null,
   "id": "789875ef",
   "metadata": {},
   "outputs": [],
   "source": [
    "fn_items"
   ]
  },
  {
   "cell_type": "code",
   "execution_count": null,
   "id": "4e85ac5f",
   "metadata": {},
   "outputs": [],
   "source": [
    "class Filtering:\n",
    "    def __init__(self, filtering_df, univ_mask_df):\n",
    "        self.filtering_df = filtering_df\n",
    "        self.univ_mask_df = univ_mask_df\n",
    "\n",
    "        self.filtering_df = self.filtering_df[self.univ_mask_df]\n",
    "    \n",
    "    def _rank_universe(self):\n",
    "        pass\n",
    "\n",
    "    def _zscore_universe(self):\n",
    "        pass\n",
    "\n",
    "    def _quantile_universe(self):\n",
    "        pass\n",
    "\n",
    "    def _pct_cut_universe(self, q):\n",
    "        pass\n",
    "\n",
    "    def _value_cut_universe(self, lower, upper):\n",
    "        pass\n",
    "\n",
    "    def _top_n(self, n):\n",
    "        pass\n",
    "\n",
    "    # TODO: Incorporate group df and overhaul the class structure. "
   ]
  },
  {
   "cell_type": "code",
   "execution_count": null,
   "id": "aea97082",
   "metadata": {},
   "outputs": [],
   "source": [
    "# 거래대금 유동성 유니버스"
   ]
  },
  {
   "cell_type": "code",
   "execution_count": null,
   "id": "cd248a29",
   "metadata": {},
   "outputs": [],
   "source": [
    "# penny stock 제외 유니버스 (절대가격)"
   ]
  },
  {
   "cell_type": "code",
   "execution_count": null,
   "id": "b8746bdc",
   "metadata": {},
   "outputs": [],
   "source": []
  },
  {
   "cell_type": "markdown",
   "id": "b77bef63",
   "metadata": {},
   "source": [
    "### 시장 데이터"
   ]
  },
  {
   "cell_type": "code",
   "execution_count": null,
   "id": "b7b24f5a",
   "metadata": {},
   "outputs": [],
   "source": [
    "# 데이터 모듈을 생성하며 기본 전처리들을 수행합니다.\n",
    "fnmkt = FnMarketData(fnmkt_path)"
   ]
  },
  {
   "cell_type": "code",
   "execution_count": null,
   "id": "1b4bbef8",
   "metadata": {},
   "outputs": [],
   "source": [
    "mkt = fnmkt.get_data(format='wide')\n",
    "mkt = mkt.loc[:END_DATE, :]\n",
    "\n",
    "mkf2000 = mkt['MKF2000']\n",
    "krx300 = mkt['KRX 300']"
   ]
  },
  {
   "cell_type": "markdown",
   "id": "420730af",
   "metadata": {},
   "source": [
    "### 무위험 이자율"
   ]
  },
  {
   "cell_type": "code",
   "execution_count": null,
   "id": "b55d8034",
   "metadata": {},
   "outputs": [],
   "source": [
    "rf = pd.read_csv(rf_path)\n",
    "rf.columns = ['date', 'rf']\n",
    "rf.set_index('date', inplace=True)\n",
    "rf.index = pd.to_datetime(rf.index, format='%Y/%m') + pd.offsets.MonthEnd(0)"
   ]
  },
  {
   "cell_type": "code",
   "execution_count": null,
   "id": "b92823f5",
   "metadata": {},
   "outputs": [],
   "source": [
    "rf_m = (1 + rf / 100) ** (1 / 12) - 1 # 월율화\n",
    "rf_m = rf_m.loc[:END_DATE, :]\n",
    "rf_m.head()"
   ]
  },
  {
   "cell_type": "markdown",
   "id": "f6bcffc0",
   "metadata": {},
   "source": [
    "### 개별 주식들의 excess return"
   ]
  },
  {
   "cell_type": "code",
   "execution_count": null,
   "id": "b50337e6",
   "metadata": {},
   "outputs": [],
   "source": [
    "monthly_excess_returns = monthly_returns.sub(rf_m['rf'], axis=0)"
   ]
  },
  {
   "cell_type": "markdown",
   "id": "b2e848a8",
   "metadata": {},
   "source": [
    "## 팩터 데이터 생성\n",
    "\n",
    "2d wide format을 이용"
   ]
  },
  {
   "cell_type": "markdown",
   "id": "457de696",
   "metadata": {},
   "source": [
    "### 1. Mkt Cap\n",
    "\n",
    "= 기업규모 = 시장가치 = 시가총액 = 보통주 주가 * 발행주식수\n",
    "\n",
    "t년 6월말 보통주의 시가총액 사용 (6월말 리밸런싱하는 시점에 available한 시가총액)"
   ]
  },
  {
   "cell_type": "code",
   "execution_count": null,
   "id": "34b13413",
   "metadata": {},
   "outputs": [],
   "source": [
    "raw_close = fn.get_data('종가(원)')\n",
    "close = raw_close.loc[:END_DATE, :]\n",
    "close = close[univ_mask_df]\n",
    "\n",
    "common_shares_outstanding = fn.get_data('기말발행주식수 (보통)(주)') \n",
    "common_shares_outstanding = common_shares_outstanding.loc[:END_DATE, :]\n",
    "common_shares_outstanding = common_shares_outstanding[univ_mask_df]"
   ]
  },
  {
   "cell_type": "code",
   "execution_count": null,
   "id": "eec01126",
   "metadata": {},
   "outputs": [],
   "source": [
    "mkt_cap = close * common_shares_outstanding\n",
    "\n",
    "# 아래처럼 6월말 데이터 사용하면서는 shift와 상관없이 size가 매우 올라감. \n",
    "\n",
    "# mkt_cap = mkt_cap.shift(-1) # 1 month lag를 넣어야 forward looking을 안하는 것이 아닐까... 했는데 그게 맞았던 것 같다. 근데 왜 shift(1)이 아니고 shift(-1)이지?\n",
    "# mkt_cap = mkt_cap.shift(1)\n",
    "# mkt_cap = mkt_cap.shift(-2)"
   ]
  },
  {
   "cell_type": "code",
   "execution_count": null,
   "id": "3aa2afc9",
   "metadata": {},
   "outputs": [],
   "source": [
    "# mkt_cap = mkt_cap.shift(1) # 월별로 하면 size가 정상으로 나오는지 테스트\n",
    "# F_size = mkt_cap[univ_mask_df]"
   ]
  },
  {
   "cell_type": "code",
   "execution_count": null,
   "id": "867d826b",
   "metadata": {},
   "outputs": [],
   "source": [
    "# 시가총액을 t년 6월말 데이터 사용 (BM 볼 때는 t-1년 12월말 데이터 사용)\n",
    "\n",
    "F_size = mkt_cap.resample('YE-JUN').last().reindex(\n",
    "    index=mkt_cap.index, method='ffill'\n",
    ")\n",
    "F_size = F_size[univ_mask_df]"
   ]
  },
  {
   "cell_type": "markdown",
   "id": "be9e6d48",
   "metadata": {},
   "source": [
    "### 2. B/M\n",
    "\n",
    "자기자본 장부가치 / 시장가치"
   ]
  },
  {
   "cell_type": "markdown",
   "id": "79bbbcc8",
   "metadata": {},
   "source": [
    "#### 주의: 재무 데이터 shift \n",
    "\n",
    "- t-1년 12월말 측정된 재무제표를 사용해 t년 6월말 포트폴리오를 구성하며, 이는 t년 7월 ~ t+1월 6월까지 사용되고 t+1년 6월말에 재구축됨. \n",
    "- 현재 t-1년 12월말 재무제표가 t년 1월~12월까지 ffill(및 bfill)되어있으므로 추가적으로 .shift(6)을 시켜줘야 함. |"
   ]
  },
  {
   "cell_type": "markdown",
   "id": "f8b15ce4",
   "metadata": {},
   "source": [
    "#### 2.1 Book 계산\n",
    "\n",
    "= 자기자본 장부가치 = t-1년 12월말 보통주 자본금 + 자본잉여금 + 이익잉여금 + 자기주식 + 이연법인세 부채\n",
    "\n",
    "** 장부가치 음수인 자본잠식 상태의 기업들 분석에서 제외"
   ]
  },
  {
   "cell_type": "code",
   "execution_count": null,
   "id": "bcd4aa4f",
   "metadata": {},
   "outputs": [],
   "source": [
    "common_stock = fn.get_data('보통주자본금(천원)') # 천원단위 아님\n",
    "capital_surplus = fn.get_data('자본잉여금(천원)')\n",
    "retained_earnings = fn.get_data('이익잉여금(천원)')\n",
    "treasury_stock = fn.get_data('자기주식(천원)')\n",
    "deferred_tax_liabilities = fn.get_data('이연법인세부채(천원)')\n",
    "\n",
    "common_stock = common_stock.loc[:END_DATE, :]\n",
    "capital_surplus = capital_surplus.loc[:END_DATE, :]\n",
    "retained_earnings = retained_earnings.loc[:END_DATE, :]\n",
    "treasury_stock = treasury_stock.loc[:END_DATE, :]\n",
    "deferred_tax_liabilities = deferred_tax_liabilities.loc[:END_DATE, :]\n",
    "\n",
    "common_stock = common_stock[univ_mask_df]\n",
    "capital_surplus = capital_surplus[univ_mask_df]\n",
    "retained_earnings = retained_earnings[univ_mask_df]\n",
    "treasury_stock = treasury_stock[univ_mask_df]\n",
    "deferred_tax_liabilities = deferred_tax_liabilities[univ_mask_df]\n",
    "\n",
    "common_stock = common_stock.shift(6)\n",
    "capital_surplus = capital_surplus.shift(6)\n",
    "retained_earnings = retained_earnings.shift(6)\n",
    "treasury_stock = treasury_stock.shift(6)\n",
    "deferred_tax_liabilities = deferred_tax_liabilities.shift(6)"
   ]
  },
  {
   "cell_type": "markdown",
   "id": "e15ce799",
   "metadata": {},
   "source": [
    "******** 발견한 것: \n",
    "\n",
    "재무데이터와 `monthly_return` shape이 다르다. \n",
    "\n",
    "재무데이터는 6월30일까지만 불러와져 있다. 그것이 재무제표 업데이트하는 시점인 듯. "
   ]
  },
  {
   "cell_type": "markdown",
   "id": "7c6bf7a1",
   "metadata": {},
   "source": [
    "****\n",
    "\n",
    "재무데이터 에프앤가이드에서 이미 t-1시점 값으로 제공. "
   ]
  },
  {
   "cell_type": "code",
   "execution_count": null,
   "id": "78c9070f",
   "metadata": {},
   "outputs": [],
   "source": [
    "# # t-1년도의 값으로 ffill \n",
    "\n",
    "# eoy = (common_stock.index.month == 12)\n",
    "\n",
    "# common_stock = common_stock.loc[eoy, :].reindex(\n",
    "#     index=common_stock.index, method='ffill'\n",
    "# )\n",
    "\n",
    "# capital_surplus = capital_surplus.loc[eoy, :].reindex(\n",
    "#     index=capital_surplus.index, method='ffill'\n",
    "# )\n",
    "\n",
    "# retained_earnings = retained_earnings.loc[eoy, :].reindex(\n",
    "#     index=retained_earnings.index, method='ffill'\n",
    "# )\n",
    "\n",
    "# treasury_stock = treasury_stock.loc[eoy, :].reindex(\n",
    "#     index=treasury_stock.index, method='ffill'\n",
    "# )\n",
    "\n",
    "# deferred_tax_liabilities = deferred_tax_liabilities.loc[eoy, :].reindex(\n",
    "#     index=deferred_tax_liabilities.index, method='ffill'\n",
    "# )"
   ]
  },
  {
   "cell_type": "code",
   "execution_count": null,
   "id": "684f35f8",
   "metadata": {},
   "outputs": [],
   "source": [
    "# common_stock = common_stock.fillna(0) # 없으면 drop \n",
    "\n",
    "capital_surplus = capital_surplus.fillna(0)\n",
    "retained_earnings = retained_earnings.fillna(0)\n",
    "treasury_stock = treasury_stock.fillna(0)\n",
    "deferred_tax_liabilities = deferred_tax_liabilities.fillna(0)"
   ]
  },
  {
   "cell_type": "code",
   "execution_count": null,
   "id": "fc1f803d",
   "metadata": {},
   "outputs": [],
   "source": [
    "# fillna(0) 없이 처리하면 하나라도 nan이면 모두 nan으로 처리됨\n",
    "\n",
    "book_equity = common_stock + capital_surplus + retained_earnings + treasury_stock + deferred_tax_liabilities"
   ]
  },
  {
   "cell_type": "markdown",
   "id": "f44245cf",
   "metadata": {},
   "source": [
    "****\n",
    "\n",
    "book equity = common stock + capital surplus + retained earnings + treasury stock + deferred tax liabilities 맞음. \n",
    "\n",
    "treasury stock 의 경우 -로 report 되기 때문. \n",
    "\n",
    "비율이기 때문에 시가총액의 기준도 같이 봐야 하는데, 시가총액 역시 자사보유주를 제외하지 않은 그냥 outstanding stock이기 때문에 BE에도 treasury stock을 포함하는 것이 맞음. "
   ]
  },
  {
   "cell_type": "markdown",
   "id": "21391569",
   "metadata": {},
   "source": [
    "#### 2.2 B/M 계산"
   ]
  },
  {
   "cell_type": "code",
   "execution_count": null,
   "id": "f0febe90",
   "metadata": {
    "lines_to_next_cell": 2
   },
   "outputs": [],
   "source": [
    "mkt_cap_12 = mkt_cap.loc[mkt_cap.index.month == 12, :].reindex(\n",
    "    index=common_stock.index, method='ffill'\n",
    ") \n",
    "mkt_cap_12 = mkt_cap_12[univ_mask_df]\n",
    "\n",
    "# market cap은 재무데이터가 아니라 가장 최근 9월까지도 다 채워져있음.\n",
    "# 재무데이터 길이와 맞추도록 reindex 후 ffill"
   ]
  },
  {
   "cell_type": "code",
   "execution_count": null,
   "id": "053206d2",
   "metadata": {},
   "outputs": [],
   "source": [
    "F_bm = book_equity / mkt_cap_12"
   ]
  },
  {
   "cell_type": "markdown",
   "id": "7474e08c",
   "metadata": {},
   "source": [
    "### 3. 수익성\n",
    "\n",
    "= Operating Profit / Equity \n",
    "\n",
    "Quality 팩터"
   ]
  },
  {
   "cell_type": "markdown",
   "id": "44bca4a1",
   "metadata": {},
   "source": [
    "#### 3.1 Operating Profit\n",
    "\n",
    "= t-1년 12월 말의 매출액 - 매출원가 - 이자비용 - 판매및관리비 차감한 \n",
    "\n",
    "영업이익 "
   ]
  },
  {
   "cell_type": "code",
   "execution_count": null,
   "id": "1601f29f",
   "metadata": {},
   "outputs": [],
   "source": [
    "# sales_revenue = fn.get_data('매출액(천원)')\n",
    "# cost_of_goods_sold = fn.get_data('매출원가(천원)')\n",
    "# interest_expense = fn.get_data('이자비용(천원)')\n",
    "\n",
    "operating_profit = fn.get_data('영업이익(천원)')\n",
    "operating_profit = operating_profit.loc[:END_DATE, :]\n",
    "operating_profit = operating_profit[univ_mask_df]\n",
    "operating_profit = operating_profit.shift(6)"
   ]
  },
  {
   "cell_type": "markdown",
   "id": "0f400137",
   "metadata": {},
   "source": [
    "********** 매출액조차 분기별로 변하지 않고 연간으로 변한다.\n",
    "\n",
    "이것도 이미 작년 12월 값으로 ffill 된 것 같음. 별도 처리 필요 x "
   ]
  },
  {
   "cell_type": "markdown",
   "id": "1c6e110d",
   "metadata": {},
   "source": [
    "#### 3.2 수익성 계산\n",
    "\n",
    "Operating Profit, Equity 둘 다 t-1년 12월 말 기준"
   ]
  },
  {
   "cell_type": "code",
   "execution_count": null,
   "id": "652a6e65",
   "metadata": {},
   "outputs": [],
   "source": [
    "F_quality = operating_profit / book_equity"
   ]
  },
  {
   "cell_type": "markdown",
   "id": "c784bfdd",
   "metadata": {},
   "source": [
    "### 4. 자본투자\n",
    "\n",
    "= (t-1년 12월 총자산 - t-2년 12월 총자산) / t-2년 12월 총자산 = 즉, 총자산의 증가율"
   ]
  },
  {
   "cell_type": "code",
   "execution_count": null,
   "id": "c1efc510",
   "metadata": {},
   "outputs": [],
   "source": [
    "total_asset = fn.get_data('총자산(천원)')\n",
    "total_asset = total_asset.loc[:END_DATE, :]\n",
    "total_asset = total_asset[univ_mask_df]\n",
    "total_asset = total_asset.shift(6)"
   ]
  },
  {
   "cell_type": "code",
   "execution_count": null,
   "id": "a3813967",
   "metadata": {},
   "outputs": [],
   "source": [
    "F_inv = (total_asset - total_asset.shift(12)) / total_asset.shift(12)"
   ]
  },
  {
   "cell_type": "markdown",
   "id": "7cd16e72",
   "metadata": {},
   "source": [
    "### 5. UMD\n",
    "\n",
    "= Up Minus Down = (전월말 주가 - 1년전 월말 주가 ) / 1년전 월말 주가\n",
    "\n",
    "** 모멘텀의 경우 1개월마다 리밸런싱, 상위 30%가 winner / 하위 30%가 loser"
   ]
  },
  {
   "cell_type": "code",
   "execution_count": null,
   "id": "c0dfbf96",
   "metadata": {},
   "outputs": [],
   "source": [
    "adj_close = fn.get_data('수정주가(원)')\n",
    "adj_close = adj_close.loc[:END_DATE, :]\n",
    "adj_close = adj_close[univ_mask_df]"
   ]
  },
  {
   "cell_type": "code",
   "execution_count": null,
   "id": "388b183d",
   "metadata": {},
   "outputs": [],
   "source": [
    "F_umd = (adj_close.shift(1) - adj_close.shift(12)) / adj_close.shift(12)"
   ]
  },
  {
   "cell_type": "markdown",
   "id": "431e2f71",
   "metadata": {},
   "source": [
    "### 6. STR\n",
    "\n",
    "= short term reversal \n",
    "\n",
    "- 추후 회귀할 때 계수의 방향에 주의"
   ]
  },
  {
   "cell_type": "code",
   "execution_count": null,
   "id": "6c721707",
   "metadata": {},
   "outputs": [],
   "source": [
    "F_str = monthly_returns.shift(1).copy()"
   ]
  },
  {
   "cell_type": "markdown",
   "id": "900ca90b",
   "metadata": {},
   "source": [
    "## 팩터 포트폴리오 생성"
   ]
  },
  {
   "cell_type": "markdown",
   "id": "0e609b2d",
   "metadata": {},
   "source": [
    "### 팩터 class 생성\n",
    "\n",
    "- 팩터 2d dataframe을 1개 입력받아 팩터를 만들 수 있도록 팩터 포트폴리오 class 생성\n",
    "    - cross sectional로 XMY 나눠주는 기능\n",
    "        - 분위에 따라 1, 2, 3 , ... 이런 식으로 (ascending)\n",
    "        - 분위와 포폴(X, XMY, Y)을 입력받아 univ boolean df를 return하는 기능\n",
    "    - 이를 기반으로 X포트폴리오와 Y포트폴리오 만드는 기능\n",
    "        - weighting scheme: ew, vw 고를 수 있게 하기\n",
    "        - rebalancing 주기/날짜 고를 수 있게 하기\n",
    "    - XMY, X, Y 포트폴리오의 수익률 및 기타 성과 매트릭을 뽑을 수 있는 기능\n",
    "    - 이를 플롯할 수 있는 기능\n",
    "\n",
    "\n",
    "아래 내용은 계획 바뀌었음. double independent sort 하는거랑 XMY, SMB 구하는거랑 분리 (composition is better than inheritance)\n",
    "\n",
    "- 팩터 포트폴리오 instance를 2개 입력받아 independent sort 결과 보여주는 class 생성\n",
    "    - n분위 * m분위의 mini portfolio들을 만들어내는 기능\n",
    "    - 이를 다시 팩터 포트폴리오 instance로 만들어내는 기능\n",
    "    - 미니 포트폴리오 instance들을 사용하여 성과 매트릭을 뽑아주는 기능\n",
    "        - index축 포폴1, column축 포폴2로 기간(입력받아) 선택한 매트릭의 평균/max/min 등을 뽑아주는 기능\n",
    "        - index축 time, column축 (포폴1, 포폴2)로 선택한 매트릭의 평균/max/min 등을 뽑아주는 기능\n",
    "    - 성과 매트릭이 아닌 원본 데이터값도 뽑을 수 있게 하기 \n",
    "        - 미니 포트폴리오의 univ를 뽑아서 입력받은 원본 데이터 df에 masking시켜 테이블 형태로 반환\n",
    "        - 즉, 테이블을 뽑는 것은 instance 자체와 couple되어있으면 안됨. \n",
    "    - 최종 포폴 수익률 뽑는 기능\n",
    "        - 이 땐 1/3, 1/2 시나리오만 만들어서 구하는걸로. 애초에 SingleFactorPortfolio의 n_groups가 2 또는 3인 것들만 받아야 함. \n",
    "        - 포폴1, 포폴2를 각각 return할 수 있어야 함. "
   ]
  },
  {
   "cell_type": "code",
   "execution_count": null,
   "id": "19d589e7",
   "metadata": {},
   "outputs": [],
   "source": [
    "class FactorUniv:\n",
    "    def __init__(\n",
    "            self, \n",
    "            factor_df: pd.DataFrame, \n",
    "            n_groups: int, \n",
    "            ) -> None:\n",
    "        self.factor_df = factor_df\n",
    "        self.n_groups = n_groups\n",
    "\n",
    "        self._reload()\n",
    "        \n",
    "    def _reload(self):\n",
    "        self._qcut = self._return_qcut()\n",
    "        self.low_univ = self.get_qcut_univ(1)\n",
    "        self.high_univ = self.get_qcut_univ(self.n_groups)\n",
    "\n",
    "    def set_n_groups(self, n_groups: int):\n",
    "        self.n_groups = n_groups\n",
    "        self._reload()\n",
    "\n",
    "    def _return_qcut(self,):\n",
    "        qcut = self.factor_df.apply(\n",
    "            lambda row: pd.qcut(row, self.n_groups, labels=False, duplicates='drop') + 1, # qcut can fail if there are duplicates or all nans --> then fill with nan\n",
    "            axis=1\n",
    "        )\n",
    "\n",
    "        return qcut\n",
    "    \n",
    "    def get_qcut_univ(self, q: int):\n",
    "        assert q in range(1, self.n_groups + 1)\n",
    "\n",
    "        return ( self._qcut == q )\n",
    "    \n",
    "    def __repr__(self) -> str:\n",
    "        meta = {\n",
    "            'obj_type': self.__class__.__name__,\n",
    "\n",
    "            'factor_df': self.factor_df.shape,\n",
    "            'start_date': self.factor_df.index[0],\n",
    "            'end_date': self.factor_df.index[-1],\n",
    "\n",
    "            'n_groups': self.n_groups,\n",
    "        }\n",
    "\n",
    "        return str(meta)"
   ]
  },
  {
   "cell_type": "code",
   "execution_count": null,
   "id": "4f77ec78",
   "metadata": {},
   "outputs": [],
   "source": [
    "class Portfolio:\n",
    "    def __init__(\n",
    "            self, \n",
    "            univ_df: pd.DataFrame,\n",
    "            univ_boolmask_df: pd.DataFrame,\n",
    "            returns_df: pd.DataFrame,\n",
    "            mktcap_df: pd.DataFrame = None,\n",
    "            weighting: str = 'ew',\n",
    "            rebalancing: str = 'monthly',\n",
    "            ) -> None:\n",
    "        self.univ_df = univ_df\n",
    "        self.univ_boolmask_df = univ_boolmask_df # bool mask\n",
    "\n",
    "        assert (univ_df & ~univ_boolmask_df).any().any() == False, 'univ_df must be subset of univ_boolmask_df'\n",
    "\n",
    "        self.holding_df = univ_df.copy()\n",
    "\n",
    "        self.holding_df = self.holding_df.shift(1) # Avoid look-ahead bias / first row is empty (all nan)\n",
    "        self.holding_df = self.holding_df.fillna(False).astype(bool)\n",
    "        self.holding_df = self.holding_df & self.univ_boolmask_df # Mask universe (bool & bool)\n",
    "\n",
    "        # self.returns_df = returns_df.shift(-1) # shift -1 month to avoid look-ahead bias\n",
    "        self.returns_df = returns_df \n",
    "        self.mktcap_df = mktcap_df.shift(1) # vw에선 이것도 시그널. shift 해줘야 함. \n",
    "        \n",
    "        self.set_weighting(weighting, reload=False)\n",
    "        self.set_rebalancing(rebalancing, reload=False)\n",
    "\n",
    "        self._reload()\n",
    "    \n",
    "    def _reload(self):\n",
    "        self._compute_port_returns_df()\n",
    "        self._port_returns = self._port_returns_df.sum(axis=1)\n",
    "        self._compute_ts_nobs()\n",
    "\n",
    "    def set_weighting(self, weighting: str, reload: bool = True):\n",
    "        assert weighting in ['ew', 'vw'], 'weighting must be ew or vw'\n",
    "        if weighting == 'vw':\n",
    "            assert self.mktcap_df is not None, 'mktcap_df must be provided for vw weighting'\n",
    "        \n",
    "        self.weighting = weighting\n",
    "\n",
    "        if reload:\n",
    "            self._reload()\n",
    "    \n",
    "    def set_rebalancing(self, rebalancing: str, reload: bool = True):\n",
    "        assert rebalancing in ['monthly', 'quarterly', 'annual'], 'rebalancing must be monthly, quarterly, or annual'\n",
    "        \n",
    "        self.rebalancing = rebalancing\n",
    "\n",
    "        if self.rebalancing == 'monthly':\n",
    "            pass\n",
    "        elif self.rebalancing == 'quarterly':\n",
    "            self.holding_df = self.holding_df.resample('Q').last()\n",
    "            self.holding_df = self.holding_df.reindex(self.univ_df.index, method='ffill').astype(bool) # Pandas future behavior. Does not automatically cast after reindex.\n",
    "            self.holding_df = self.holding_df & self.univ_boolmask_df\n",
    "        elif self.rebalancing == 'annual':\n",
    "            self.holding_df = self.holding_df.resample('YE-JUN').last() # Year End June\n",
    "            self.holding_df = self.holding_df.reindex(self.univ_df.index, method='ffill').astype(bool)\n",
    "            self.holding_df = self.holding_df & self.univ_boolmask_df\n",
    "\n",
    "        if reload:\n",
    "            self._reload()\n",
    "\n",
    "    def _compute_port_returns_df(self):\n",
    "\n",
    "        # Some market caps are 0, leading to zero division error.\n",
    "        self.mktcap_df = self.mktcap_df.replace(0, np.nan)\n",
    "\n",
    "        if self.weighting == 'ew':\n",
    "            weighted_returns_df = self.returns_df[self.holding_df].div( self.holding_df.sum(axis=1), axis=0 , fill_value=None)\n",
    "        elif self.weighting == 'vw':\n",
    "            weighted_returns_df = ( (self.returns_df[self.holding_df] * self.mktcap_df[self.holding_df]) ).div( self.mktcap_df[self.holding_df].sum(axis=1), axis=0 , fill_value=None)\n",
    "\n",
    "        self._port_returns_df = weighted_returns_df\n",
    "    \n",
    "    # def _compute_ts_stats(self):\n",
    "    #     # TODO: Add more stats, like Sharpe, Sortino, etc.\n",
    "    #     pass\n",
    "\n",
    "    def _compute_ts_nobs(self):\n",
    "        self._ts_nobs = self.holding_df.sum(axis=1)\n",
    "\n",
    "    @property\n",
    "    def port_ts_nobs(self):\n",
    "        return self._ts_nobs\n",
    "    \n",
    "    @property\n",
    "    def port_returns_df(self):\n",
    "        # TODO: Apply rebalancing\n",
    "        return self._port_returns_df\n",
    "    \n",
    "    @property\n",
    "    def port_returns(self):\n",
    "        return self._port_returns\n",
    "    \n",
    "    def get_avg_factor(self, factor_df: pd.DataFrame):\n",
    "        return factor_df[self.holding_df].mean(axis=1)\n",
    "    \n",
    "    def __repr__(self) -> str:\n",
    "        meta = {\n",
    "            'obj_type': self.__class__.__name__,\n",
    "\n",
    "            'univ_df': self.univ_df.shape,\n",
    "            'start_date': self.univ_df.index[0],\n",
    "            'end_date': self.univ_df.index[-1],\n",
    "\n",
    "            'weighting': self.weighting,\n",
    "            'rebalancing': self.rebalancing,\n",
    "        }\n",
    "\n",
    "        return str(meta)"
   ]
  },
  {
   "cell_type": "code",
   "execution_count": null,
   "id": "2ccd0cea",
   "metadata": {},
   "outputs": [],
   "source": [
    "class DoubleIndependentFactor:\n",
    "    def __init__(\n",
    "            self, \n",
    "            factor_univ_1: FactorUniv,\n",
    "            factor_univ_2: FactorUniv,\n",
    "\n",
    "            univ_boolmask_df: pd.DataFrame, # boolmask\n",
    "            returns_df: pd.DataFrame,\n",
    "            mktcap_df: pd.DataFrame = None,\n",
    "            weighting: str = 'ew',\n",
    "            rebalancing: str = 'monthly',\n",
    "            ) -> None:\n",
    "\n",
    "        self.factor_univ_1 = factor_univ_1 \n",
    "        self.factor_univ_2 = factor_univ_2\n",
    "\n",
    "        self.univ_boolmask_df = univ_boolmask_df\n",
    "        self.returns_df = returns_df\n",
    "        self.mktcap_df = mktcap_df\n",
    "        self.weighting = weighting \n",
    "        self.rebalancing = rebalancing\n",
    "\n",
    "        self._combine_univs()\n",
    "        self._create_mini_portfolios()\n",
    "        # self._create_factor_returns()\n",
    "    \n",
    "    def _combine_univs(self):\n",
    "        # Combine two factor universes\n",
    "        f1_subunivs = [self.factor_univ_1.get_qcut_univ(q) for q in range(1, self.factor_univ_1.n_groups + 1)]\n",
    "        f2_subunivs = [self.factor_univ_2.get_qcut_univ(q) for q in range(1, self.factor_univ_2.n_groups + 1)]\n",
    "\n",
    "        self._univ_combinations = [\n",
    "            (i1+1, i2+1, f1 & f2) for i1, f1 in enumerate(f1_subunivs) for i2, f2 in enumerate(f2_subunivs)\n",
    "        ]\n",
    "    \n",
    "    @property\n",
    "    def univ_combinations(self):\n",
    "        return self._univ_combinations\n",
    "\n",
    "    def _create_mini_portfolios(self):\n",
    "        self._mini_portfolios = [\n",
    "            (i1, i2, Portfolio(univ_df, self.univ_boolmask_df, self.returns_df, self.mktcap_df, self.weighting, self.rebalancing)) \n",
    "            for i1, i2, univ_df in self._univ_combinations\n",
    "        ]\n",
    "\n",
    "    @property\n",
    "    def mini_portfolios(self):\n",
    "        return self._mini_portfolios\n",
    "    \n",
    "    def get_mini_portfolio(self, i1: int, i2: int):\n",
    "        return [ port for i1_, i2_, port in self._mini_portfolios if i1_ == i1 and i2_ == i2 ][0]\n",
    "    \n",
    "    def get_mini_port_univ(self, i1: int, i2: int):\n",
    "        return [ univ for i1_, i2_, univ in self._univ_combinations if i1_ == i1 and i2_ == i2 ][0]\n",
    "\n",
    "    def get_XY_table(self, metric='return', method='mean'): # TODO: Add more methods\n",
    "        available_metrics = ['return', 'cumreturn', 'nobs', ]\n",
    "        assert metric in available_metrics, f'metric must be one of {available_metrics}'\n",
    "\n",
    "        available_metrics = ['mean', 'last']\n",
    "        assert method in available_metrics, f'method must be one of {available_metrics}'\n",
    "\n",
    "        if metric == 'return':\n",
    "            XY_metrics = [ (i1, i2, port.port_returns) for i1, i2, port in self._mini_portfolios ]\n",
    "        elif metric == 'nobs':\n",
    "            XY_metrics = [ (i1, i2, port.port_ts_nobs) for i1, i2, port in self._mini_portfolios ]\n",
    "        elif metric == 'cumreturn':\n",
    "            XY_metrics = [ (i1, i2, (port.port_returns + 1).cumprod() - 1) for i1, i2, port in self._mini_portfolios ]\n",
    "        \n",
    "        if method == 'mean':\n",
    "            XY_metrics_stats = [ (i1, i2, np.mean(metric)) for i1, i2, metric in XY_metrics ]\n",
    "        elif method == 'last':\n",
    "            XY_metrics_stats = [ (i1, i2, metric.iloc[-1]) for i1, i2, metric in XY_metrics ]\n",
    "        \n",
    "        XY_metrics_stats = [ (f'size_{i1}', f'bm_{i2}', stat) for i1, i2, stat in XY_metrics_stats ]\n",
    "        \n",
    "        table_df = pd.DataFrame(XY_metrics_stats, columns=['X', 'Y', metric]) # TODO: Replace X, Y with factor names\n",
    "        table_df = table_df.pivot_table(index='X', columns='Y', values=metric)\n",
    "        \n",
    "        return table_df\n",
    "    \n",
    "    def get_XY_ts_table(self, metric='return'):\n",
    "        available_metrics = ['return', 'cumreturn', 'nobs', ]\n",
    "        assert metric in available_metrics, f'metric must be one of {available_metrics}'\n",
    "\n",
    "        if metric == 'return':\n",
    "            XY_metrics = [ (i1, i2, port.port_returns) for i1, i2, port in self._mini_portfolios ]\n",
    "        elif metric == 'nobs':\n",
    "            XY_metrics = [ (i1, i2, port.port_ts_nobs) for i1, i2, port in self._mini_portfolios ]\n",
    "        elif metric == 'cumreturn':\n",
    "            XY_metrics = [ (i1, i2, (port.port_returns + 1).cumprod() - 1) for i1, i2, port in self._mini_portfolios ]\n",
    "        \n",
    "        data_dict = {\n",
    "            (f'size_{i1}', f'bm_{i2}'): ts for i1, i2, ts in XY_metrics\n",
    "        }\n",
    "\n",
    "        ts_table_df = pd.concat(data_dict, axis=1)\n",
    "        ts_table_df = ts_table_df.sort_index(axis=1, level=[0, 1])\n",
    "\n",
    "        return ts_table_df\n",
    "\n",
    "\n",
    "    \n",
    "    def __repr__(self) -> str:\n",
    "        meta = {\n",
    "            'obj_type': self.__class__.__name__,\n",
    "\n",
    "            'factor_univ_1': self.factor_univ_1,\n",
    "            'factor_univ_2': self.factor_univ_2,\n",
    "\n",
    "            'returns_df': self.returns_df.shape,\n",
    "            'start_date': self.returns_df.index[0],\n",
    "            'end_date': self.returns_df.index[-1],\n",
    "\n",
    "            'mktcap_df': self.mktcap_df.shape if self.mktcap_df is not None else None,\n",
    "            'weighting': self.weighting,\n",
    "            'rebalancing': self.rebalancing,\n",
    "        }\n",
    "\n",
    "        return str(meta)"
   ]
  },
  {
   "cell_type": "code",
   "execution_count": null,
   "id": "75288b36",
   "metadata": {},
   "outputs": [],
   "source": [
    "class XMY:\n",
    "    def __init__( \n",
    "            self, \n",
    "            size_univ: FactorUniv, # size\n",
    "            factor_univ: FactorUniv, # factor\n",
    "\n",
    "            univ_boolmask_df: pd.DataFrame, # boolmask\n",
    "            returns_df: pd.DataFrame,\n",
    "            mktcap_df: pd.DataFrame = None,\n",
    "            weighting: str = 'ew',\n",
    "            rebalancing: str = 'monthly',\n",
    "            ) -> None:\n",
    "        \n",
    "        assert size_univ.n_groups == 2, 'size_univ must have 2 groups'\n",
    "        # assert factor_univ.n_groups == 2, 'factor_univ must have 2 groups' # UMD should have 3 groups\n",
    "\n",
    "        self.size_univ = size_univ\n",
    "        self.factor_univ = factor_univ\n",
    "\n",
    "        self.univ_boolmask_df = univ_boolmask_df\n",
    "        self.return_df = returns_df\n",
    "        self.mktcap_df = mktcap_df\n",
    "        self.weighting = weighting\n",
    "        self.rebalancing = rebalancing\n",
    "\n",
    "        self.DIS = DoubleIndependentFactor(self.size_univ, self.factor_univ, self.univ_boolmask_df, self.return_df, self.mktcap_df, self.weighting, self.rebalancing)\n",
    "        self._mini_portfolios = self.DIS.mini_portfolios\n",
    "\n",
    "        self._create_factor_returns()\n",
    "    \n",
    "    def _create_factor_returns(self):\n",
    "        mini_port_returns = [ (i1, i2, mini_port._port_returns) for i1, i2, mini_port in self._mini_portfolios]\n",
    "\n",
    "        # f1 (size) - Don't use it. It's just for reference.\n",
    "        self.f1_high = sum([ port_return for i1, _, port_return in mini_port_returns if i1 == self.size_univ.n_groups ]) / self.size_univ.n_groups\n",
    "        self.f1_low = sum([ port_return for i1, _, port_return in mini_port_returns if i1 == 1 ]) / self.size_univ.n_groups\n",
    "        self.f1_hml = self.f1_high - self.f1_low\n",
    "\n",
    "        # f2 (factor)\n",
    "        self.f2_high = sum([ port_return for _, i2, port_return in mini_port_returns if i2 == self.factor_univ.n_groups ]) / self.factor_univ.n_groups\n",
    "        self.f2_low = sum([ port_return for _, i2, port_return in mini_port_returns if i2 == 1 ]) / self.factor_univ.n_groups\n",
    "        self.f2_hml = self.f2_high - self.f2_low"
   ]
  },
  {
   "cell_type": "code",
   "execution_count": null,
   "id": "e88fee0d",
   "metadata": {},
   "outputs": [],
   "source": [
    "class SMB:\n",
    "    def __init__( \n",
    "            self, \n",
    "            size_univ: FactorUniv, # size \n",
    "            factor_univ_1: FactorUniv, # B/M\n",
    "            factor_univ_2: FactorUniv, # OP\n",
    "            factor_univ_3: FactorUniv, # INV\n",
    "\n",
    "            univ_boolmask_df: pd.DataFrame, # boolmask\n",
    "            returns_df: pd.DataFrame,\n",
    "            mktcap_df: pd.DataFrame = None,\n",
    "            weighting: str = 'ew',\n",
    "            rebalancing: str = 'monthly',\n",
    "            ) -> None:\n",
    "        \n",
    "        assert size_univ.n_groups == 2, 'size_univ must have 2 groups'\n",
    "        assert factor_univ_1.n_groups == 3, 'factor_univ_1 must have 3 groups' \n",
    "        assert factor_univ_2.n_groups == 3, 'factor_univ_2 must have 3 groups' \n",
    "        assert factor_univ_3.n_groups == 3, 'factor_univ_3 must have 3 groups' \n",
    "\n",
    "        self.size_univ = size_univ\n",
    "        self.factor_univ_1 = factor_univ_1\n",
    "        self.factor_univ_2 = factor_univ_2\n",
    "        self.factor_univ_3 = factor_univ_3\n",
    "\n",
    "        self.univ_boolmask_df = univ_boolmask_df\n",
    "        self.return_df = returns_df\n",
    "        self.mktcap_df = mktcap_df\n",
    "        self.weighting = weighting\n",
    "        self.rebalancing = rebalancing\n",
    "\n",
    "        self.DIF1 = DoubleIndependentFactor(self.size_univ, self.factor_univ_1, self.univ_boolmask_df, self.return_df, self.mktcap_df, self.weighting, self.rebalancing)\n",
    "        self._mini_portfolios1 = self.DIF1.mini_portfolios\n",
    "\n",
    "        self.DIF2 = DoubleIndependentFactor(self.size_univ, self.factor_univ_2, self.univ_boolmask_df, self.return_df, self.mktcap_df, self.weighting, self.rebalancing)\n",
    "        self._mini_portfolios2 = self.DIF2.mini_portfolios\n",
    "\n",
    "        self.DIF3 = DoubleIndependentFactor(self.size_univ, self.factor_univ_3, self.univ_boolmask_df, self.return_df, self.mktcap_df, self.weighting, self.rebalancing)\n",
    "        self._mini_portfolios3 = self.DIF3.mini_portfolios\n",
    "\n",
    "        self._create_SMB_returns()\n",
    "    \n",
    "    def _create_SMB_returns(self):\n",
    "        factor1_mini_port_returns = [ (i1, i2, mini_port._port_returns) for i1, i2, mini_port in self._mini_portfolios1] # note that i2 is the factor. i1 is the size.\n",
    "        factor2_mini_port_returns = [ (i1, i2, mini_port._port_returns) for i1, i2, mini_port in self._mini_portfolios2]\n",
    "        factor3_mini_port_returns = [ (i1, i2, mini_port._port_returns) for i1, i2, mini_port in self._mini_portfolios3]\n",
    "\n",
    "        # SMB B/M (HML)\n",
    "        self.SMB1_low = sum([ port_return for i1, _, port_return in factor1_mini_port_returns if i1 == 1 ]) / 3\n",
    "        self.SMB1_high = sum([ port_return for i1, _, port_return in factor1_mini_port_returns if i1 == 2 ]) / 3\n",
    "        self.SMB1 = self.SMB1_low - self.SMB1_high\n",
    "\n",
    "        # SMB OP (RMW)\n",
    "        self.SMB2_low = sum([ port_return for i1, _, port_return in factor2_mini_port_returns if i1 == 1 ]) / 3\n",
    "        self.SMB2_high = sum([ port_return for i1, _, port_return in factor2_mini_port_returns if i1 == 2 ]) / 3\n",
    "        self.SMB2 = self.SMB2_low - self.SMB2_high\n",
    "\n",
    "        # SMB INV (CMA)\n",
    "        self.SMB3_low = sum([ port_return for i1, _, port_return in factor3_mini_port_returns if i1 == 1 ]) / 3\n",
    "        self.SMB3_high = sum([ port_return for i1, _, port_return in factor3_mini_port_returns if i1 == 2 ]) / 3\n",
    "        self.SMB3 = self.SMB3_low - self.SMB3_high\n",
    "\n",
    "        self.SMB = (self.SMB1 + self.SMB2 + self.SMB3) / 3"
   ]
  },
  {
   "cell_type": "code",
   "execution_count": null,
   "id": "f2354df8",
   "metadata": {},
   "outputs": [],
   "source": [
    "START_DATE = '2016-01-01' # CMA가 t-2년까지 보기 때문에\n",
    "# START_DATE = '2014-01-01'"
   ]
  },
  {
   "cell_type": "code",
   "execution_count": null,
   "id": "91ece245",
   "metadata": {},
   "outputs": [],
   "source": [
    "# F_bm = F_bm.loc[START_DATE:, :]\n",
    "# F_size = F_size.loc[START_DATE:, :]\n",
    "# F_inv = F_inv.loc[START_DATE:, :]\n",
    "# F_quality = F_quality.loc[START_DATE:, :]\n",
    "# F_umd = F_umd.loc[START_DATE:, :]\n",
    "# F_str = F_str.loc[START_DATE:, :]\n",
    "# monthly_excess_returns = monthly_excess_returns.loc[START_DATE:, :]\n",
    "# univ_mask_df = univ_mask_df.loc[START_DATE:, :]\n",
    "# mkf2000 = mkf2000.loc[START_DATE:]\n",
    "# rf_m = rf_m.loc[START_DATE:, :]\n",
    "# mkt_cap = mkt_cap.loc[START_DATE:, :]"
   ]
  },
  {
   "cell_type": "markdown",
   "id": "6f149d5b",
   "metadata": {},
   "source": [
    "### Size-B/M 포트폴리오\n",
    "\n",
    "- Size, B/M으로 double sort"
   ]
  },
  {
   "cell_type": "code",
   "execution_count": null,
   "id": "91091945",
   "metadata": {},
   "outputs": [],
   "source": [
    "F_bm_univ = FactorUniv(F_bm, 5)\n",
    "F_size_univ = FactorUniv(F_size, 5)"
   ]
  },
  {
   "cell_type": "code",
   "execution_count": null,
   "id": "fdbe2bc1",
   "metadata": {},
   "outputs": [],
   "source": [
    "DIS_size_bm = DoubleIndependentFactor(F_size_univ, F_bm_univ, univ_mask_df, monthly_excess_returns, mkt_cap, 'vw', 'monthly')"
   ]
  },
  {
   "cell_type": "code",
   "execution_count": null,
   "id": "86ce7bf6",
   "metadata": {},
   "outputs": [],
   "source": [
    "table1 = DIS_size_bm.get_XY_table(metric='return', method='mean') # X: size, Y: bm\n",
    "table1"
   ]
  },
  {
   "cell_type": "code",
   "execution_count": null,
   "id": "c785c0ba",
   "metadata": {},
   "outputs": [],
   "source": [
    "table1.to_csv('size-bm_5x5.csv')"
   ]
  },
  {
   "cell_type": "code",
   "execution_count": null,
   "id": "3648c2bd",
   "metadata": {},
   "outputs": [],
   "source": [
    "table2 = DIS_size_bm.get_XY_ts_table(metric='return')\n",
    "table2.tail()"
   ]
  },
  {
   "cell_type": "code",
   "execution_count": null,
   "id": "4f4c6c9f",
   "metadata": {},
   "outputs": [],
   "source": [
    "table2 = table2.loc[START_DATE:, :]"
   ]
  },
  {
   "cell_type": "code",
   "execution_count": null,
   "id": "9ba041d3",
   "metadata": {},
   "outputs": [],
   "source": [
    "table2.to_csv('size-bm_25_ts.csv')"
   ]
  },
  {
   "cell_type": "code",
   "execution_count": null,
   "id": "79197c77",
   "metadata": {},
   "outputs": [],
   "source": [
    "(table2+1).cumprod().plot(figsize=(12, 6))"
   ]
  },
  {
   "cell_type": "code",
   "execution_count": null,
   "id": "efff8e49",
   "metadata": {},
   "outputs": [],
   "source": []
  },
  {
   "cell_type": "code",
   "execution_count": null,
   "id": "c0ff4fe2",
   "metadata": {},
   "outputs": [],
   "source": []
  },
  {
   "cell_type": "code",
   "execution_count": null,
   "id": "9d4e0fd7",
   "metadata": {},
   "outputs": [],
   "source": [
    "all_ports = [1, 2, 3, 4, 5]\n",
    "\n",
    "all_returns = []\n",
    "\n",
    "for i1 in all_ports:\n",
    "    for i2 in all_ports:\n",
    "        port = DIS_size_bm.get_mini_portfolio(i1, i2)\n",
    "        all_returns.append(port.port_returns)\n",
    "\n",
    "total_return = sum(all_returns) / len(all_returns)\n",
    "\n",
    "START_DATE = '2016-01-01'\n",
    "\n",
    "total_return = total_return[START_DATE:]"
   ]
  },
  {
   "cell_type": "code",
   "execution_count": null,
   "id": "41ca746e",
   "metadata": {},
   "outputs": [],
   "source": [
    "(total_return + 1).cumprod().plot()"
   ]
  },
  {
   "cell_type": "code",
   "execution_count": null,
   "id": "494bd4a8",
   "metadata": {},
   "outputs": [],
   "source": [
    "(mkf2000.sub(rf_m['rf'], axis=0)  + 1).cumprod().plot()"
   ]
  },
  {
   "cell_type": "markdown",
   "id": "c41561b7",
   "metadata": {},
   "source": [
    "### 팩터 수익률 계산"
   ]
  },
  {
   "cell_type": "code",
   "execution_count": null,
   "id": "7b519758",
   "metadata": {},
   "outputs": [],
   "source": [
    "# Rm - Rf\n",
    "\n",
    "# FF_RmRf = krx300.sub(rf_m['rf'], axis=0) \n",
    "FF_RmRf = mkf2000.sub(rf_m['rf'], axis=0) \n",
    "\n",
    "FF_RmRf = FF_RmRf.loc[START_DATE:]"
   ]
  },
  {
   "cell_type": "code",
   "execution_count": null,
   "id": "0b34683c",
   "metadata": {
    "lines_to_next_cell": 2
   },
   "outputs": [],
   "source": [
    "# HML, RMW, CMA, UMD, STR\n",
    "\n",
    "F_bm_univ = FactorUniv(F_bm, 2) # HML\n",
    "F_quality_univ = FactorUniv(F_quality, 2) # RMW\n",
    "F_inv_univ = FactorUniv(F_inv, 2) # CMA\n",
    "F_umd_univ = FactorUniv(F_umd, 3) # UMD\n",
    "F_str_univ = FactorUniv(F_str, 3) # STR\n",
    "\n",
    "F_size_univ = FactorUniv(F_size, 2) # SMB\n",
    "\n",
    "FF_HML = XMY(F_size_univ, F_bm_univ, univ_mask_df, monthly_excess_returns, mkt_cap, 'ew', 'annual').f2_hml\n",
    "FF_RMW = XMY(F_size_univ, F_quality_univ, univ_mask_df, monthly_excess_returns, mkt_cap, 'ew', 'annual').f2_hml\n",
    "FF_CMA = XMY(F_size_univ, F_inv_univ, univ_mask_df, monthly_excess_returns, mkt_cap, 'ew', 'annual').f2_hml\n",
    "\n",
    "FF_UMD = XMY(F_size_univ, F_umd_univ, univ_mask_df, monthly_excess_returns, mkt_cap, 'ew', 'monthly').f2_hml\n",
    "FF_STR = XMY(F_size_univ, F_str_univ, univ_mask_df, monthly_excess_returns, mkt_cap, 'ew', 'monthly').f2_hml\n",
    "\n",
    "# UMD, STR 팩터를 size 그룹과의 교차로 만들지 않고 그냥 단일 팩터 분위로 만들 경우\n",
    "\n",
    "# # up minus down이니, high에서 low를 빼야함.\n",
    "# FF_UMD = Portfolio(F_umd_univ.high_univ, monthly_excess_returns, mkt_cap, 'ew', 'monthly').port_returns \\\n",
    "# - Portfolio(F_umd_univ.low_univ, monthly_excess_returns, mkt_cap, 'ew', 'monthly').port_returns\n",
    "\n",
    "# # 마찬가지로 high에서 low를 뺀다.\n",
    "# FF_STR = Portfolio(F_str_univ.high_univ, monthly_excess_returns, mkt_cap, 'ew', 'monthly').port_returns \\\n",
    "# - Portfolio(F_str_univ.low_univ, monthly_excess_returns, mkt_cap, 'ew', 'monthly').port_returns\n",
    "\n",
    "FF_HML = FF_HML.loc[START_DATE:]\n",
    "FF_RMW = FF_RMW.loc[START_DATE:]\n",
    "FF_CMA = FF_CMA.loc[START_DATE:]\n",
    "FF_UMD = FF_UMD.loc[START_DATE:]\n",
    "FF_STR = FF_STR.loc[START_DATE:]"
   ]
  },
  {
   "cell_type": "code",
   "execution_count": null,
   "id": "a41291f7",
   "metadata": {},
   "outputs": [],
   "source": [
    "# SMB\n",
    "\n",
    "F_bm_univ = FactorUniv(F_bm, 3) # HML\n",
    "F_quality_univ = FactorUniv(F_quality, 3) # RMW\n",
    "F_inv_univ = FactorUniv(F_inv, 3) # CMA\n",
    "F_umd_univ = FactorUniv(F_umd, 3) # UMD\n",
    "F_str_univ = FactorUniv(F_str, 3) # STR\n",
    "\n",
    "F_size_univ = FactorUniv(F_size, 2) # SMB\n",
    "\n",
    "FF_SMB = SMB(F_size_univ, F_bm_univ, F_quality_univ, F_inv_univ, univ_mask_df, monthly_excess_returns, mkt_cap, 'vw', 'annual').SMB\n",
    "FF_SMB = FF_SMB.loc[START_DATE:]"
   ]
  },
  {
   "cell_type": "code",
   "execution_count": null,
   "id": "69683444",
   "metadata": {},
   "outputs": [],
   "source": [
    "(FF_RmRf + 1).cumprod().plot(legend=True, label='Rm-Rf')\n",
    "\n",
    "(FF_HML + 1).cumprod().plot(legend=True, label='HML')\n",
    "(FF_RMW + 1).cumprod().plot(legend=True, label='RMW')\n",
    "(FF_CMA + 1).cumprod().plot(legend=True, label='CMA')\n",
    "(FF_UMD + 1).cumprod().plot(legend=True, label='UMD')\n",
    "(FF_STR + 1).cumprod().plot(legend=True, label='STR')\n",
    "\n",
    "(FF_SMB + 1).cumprod().plot(legend=True, label='SMB')"
   ]
  },
  {
   "cell_type": "code",
   "execution_count": null,
   "id": "bf989ef7",
   "metadata": {},
   "outputs": [],
   "source": [
    "FF_table = pd.concat([FF_RmRf, FF_SMB, FF_HML, FF_RMW, FF_CMA, FF_UMD, FF_STR, rf_m], axis=1)\n",
    "FF_table.columns = ['Rm-Rf', 'SMB', 'HML', 'RMW', 'CMA', 'UMD', 'STR', 'Rf']\n",
    "FF_table = FF_table.loc[START_DATE:]\n",
    "FF_table"
   ]
  },
  {
   "cell_type": "code",
   "execution_count": null,
   "id": "27d99063",
   "metadata": {},
   "outputs": [],
   "source": [
    "FF_table.to_csv('FF_table.csv')"
   ]
  },
  {
   "cell_type": "markdown",
   "id": "4a849c63",
   "metadata": {},
   "source": [
    "## 팩터 데이터 검증\n",
    "\n",
    "- fn dataguide에서 SMB, HML 팩터 데이터 추출 후 비교"
   ]
  },
  {
   "cell_type": "markdown",
   "id": "6b8e8ab9",
   "metadata": {},
   "source": [
    "### Load factor data"
   ]
  },
  {
   "cell_type": "code",
   "execution_count": null,
   "id": "e08dc3d1",
   "metadata": {},
   "outputs": [],
   "source": [
    "fnfactor_path = DATA_DIR / '고금계과제1_fn팩터_HMLSMBMOM.csv'"
   ]
  },
  {
   "cell_type": "code",
   "execution_count": null,
   "id": "fe69a291",
   "metadata": {},
   "outputs": [],
   "source": [
    "fnfactor = FnMarketData(fnfactor_path)"
   ]
  },
  {
   "cell_type": "code",
   "execution_count": null,
   "id": "8f7ae995",
   "metadata": {
    "lines_to_next_cell": 2
   },
   "outputs": [],
   "source": [
    "fnf = fnfactor.get_data(format='wide')\n",
    "fnf = fnf.loc[START_DATE:END_DATE, :]\n",
    "fnf.head()"
   ]
  },
  {
   "cell_type": "code",
   "execution_count": null,
   "id": "aab14ecb",
   "metadata": {},
   "outputs": [],
   "source": [
    "fnf.columns = ['HML', 'SMB', 'MOM']\n",
    "\n",
    "fn_hml = fnf['HML']\n",
    "fn_smb = fnf['SMB']\n",
    "fn_mom = fnf['MOM']"
   ]
  },
  {
   "cell_type": "markdown",
   "id": "08b78c3b",
   "metadata": {},
   "source": [
    "### compare"
   ]
  },
  {
   "cell_type": "code",
   "execution_count": null,
   "id": "25492ee3",
   "metadata": {},
   "outputs": [],
   "source": [
    "(FF_table['HML'] + 1).cumprod().plot(legend=True)\n",
    "(fn_hml + 1).cumprod().plot(legend=True, label='Fn_HML')"
   ]
  },
  {
   "cell_type": "code",
   "execution_count": null,
   "id": "64e4c50e",
   "metadata": {},
   "outputs": [],
   "source": [
    "(FF_table['SMB'] + 1).cumprod().plot(legend=True) # ? 2020년부터 갑자기 방향이 서로 반대로 나오는 이유는 뭘까? \n",
    "(fn_smb + 1).cumprod().plot(legend=True, label='Fn_SMB')"
   ]
  },
  {
   "cell_type": "code",
   "execution_count": null,
   "id": "aa2fa9c7",
   "metadata": {},
   "outputs": [],
   "source": [
    "# 에프앤가이드에서는 모멘텀을 만들 때 size와 교차해서 만들었다는 것을 주의. 같은 방법으로 만든 팩터와 비교해야 함. \n",
    "\n",
    "(FF_table['UMD'] + 1).cumprod().plot(legend=True)\n",
    "(fn_mom + 1).cumprod().plot(legend=True, label='Fn_MOM(UMD)')"
   ]
  },
  {
   "cell_type": "markdown",
   "id": "c970bb75",
   "metadata": {},
   "source": [
    "### Size factor common mistake: vw vs ew\n",
    "\n",
    "You get abnormally high size factor return if you use equal weighting instead of value weighting. "
   ]
  },
  {
   "cell_type": "code",
   "execution_count": null,
   "id": "6a34b52f",
   "metadata": {},
   "outputs": [],
   "source": [
    "FF_SMB_ew = SMB(F_size_univ, F_bm_univ, F_quality_univ, F_inv_univ, univ_mask_df, monthly_excess_returns, mkt_cap, 'ew', 'annual').SMB\n",
    "FF_SMB_ew = FF_SMB_ew.loc[START_DATE:]"
   ]
  },
  {
   "cell_type": "code",
   "execution_count": null,
   "id": "1689279a",
   "metadata": {},
   "outputs": [],
   "source": [
    "(FF_SMB_ew + 1).cumprod().plot(legend=True, label='SMB_ew')\n",
    "(FF_SMB + 1).cumprod().plot(legend=True, label='SMB_vw')"
   ]
  },
  {
   "cell_type": "markdown",
   "id": "652064e9",
   "metadata": {},
   "source": [
    "## Devil's in HML's detail \n",
    "\n",
    "- Asness의 주장대로 B/M 계산시 B는 작년 12월을 쓰더라도 M은 최근 6월 주가를 사용\n",
    "- 변경된 B/M 포트폴리오를 통해 결과 재산출"
   ]
  },
  {
   "cell_type": "code",
   "execution_count": null,
   "id": "34ca799b",
   "metadata": {
    "lines_to_next_cell": 2
   },
   "outputs": [],
   "source": [
    "mkt_cap_6 = mkt_cap.loc[mkt_cap.index.month == 6, :].reindex(\n",
    "    index=common_stock.index, method='ffill'\n",
    ") \n",
    "mkt_cap_6 = mkt_cap_6[univ_mask_df]\n",
    "\n",
    "# market cap은 재무데이터가 아니라 가장 최근 9월까지도 다 채워져있음.\n",
    "# 재무데이터 길이와 맞추도록 reindex 후 ffill"
   ]
  },
  {
   "cell_type": "code",
   "execution_count": null,
   "id": "f5243d4a",
   "metadata": {},
   "outputs": [],
   "source": [
    "F_bm_devil = book_equity / mkt_cap_6"
   ]
  },
  {
   "cell_type": "code",
   "execution_count": null,
   "id": "72ccdae5",
   "metadata": {
    "lines_to_next_cell": 2
   },
   "outputs": [],
   "source": [
    "F_bm_devil_univ = FactorUniv(F_bm_devil, 2) # HML\n",
    "\n",
    "F_size_univ = FactorUniv(F_size, 2) # SMB\n",
    "\n",
    "FF_HML_devil = XMY(F_size_univ, F_bm_devil_univ, univ_mask_df, monthly_excess_returns, mkt_cap, 'ew', 'annual').f2_hml\n",
    "\n",
    "FF_HML_devil = FF_HML_devil.loc[START_DATE:]"
   ]
  },
  {
   "cell_type": "code",
   "execution_count": null,
   "id": "1b43d179",
   "metadata": {},
   "outputs": [],
   "source": [
    "(FF_HML_devil + 1).cumprod().plot(legend=True, label='HML_devil')\n",
    "(FF_HML + 1).cumprod().plot(legend=True, label='HML')"
   ]
  },
  {
   "cell_type": "markdown",
   "id": "c9502779",
   "metadata": {},
   "source": [
    "## 미국은 어떨까? \n",
    "\n",
    "블룸버그 가서 팩터 etf 수익률 찍어봄. 그냥 가격이고 누적 수익률은 아님을 유의"
   ]
  },
  {
   "cell_type": "markdown",
   "id": "0e599180",
   "metadata": {},
   "source": [
    "![image.png](attachment:image.png)"
   ]
  },
  {
   "cell_type": "markdown",
   "id": "a159959d",
   "metadata": {},
   "source": []
  }
 ],
 "metadata": {
  "kernelspec": {
   "display_name": ".venv",
   "language": "python",
   "name": "python3"
  }
 },
 "nbformat": 4,
 "nbformat_minor": 5
}
