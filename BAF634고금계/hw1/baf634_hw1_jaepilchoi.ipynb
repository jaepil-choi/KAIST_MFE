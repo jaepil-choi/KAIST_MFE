{
 "cells": [
  {
   "cell_type": "markdown",
   "metadata": {},
   "source": [
    "# 고금계 과제 1\n",
    "\n",
    "20249433 최재필"
   ]
  },
  {
   "cell_type": "code",
   "execution_count": 292,
   "metadata": {},
   "outputs": [],
   "source": [
    "import pandas as pd\n",
    "import numpy as np\n",
    "import matplotlib.pyplot as plt\n",
    "\n",
    "from pathlib import Path"
   ]
  },
  {
   "cell_type": "code",
   "execution_count": 293,
   "metadata": {},
   "outputs": [],
   "source": [
    "CWD = Path('.').resolve()\n",
    "DATA_DIR = CWD / 'data'"
   ]
  },
  {
   "cell_type": "code",
   "execution_count": 294,
   "metadata": {},
   "outputs": [],
   "source": [
    "from fndata import FnStockData\n",
    "from fndata import FnMarketData"
   ]
  },
  {
   "cell_type": "markdown",
   "metadata": {},
   "source": [
    "## Load data"
   ]
  },
  {
   "cell_type": "code",
   "execution_count": 295,
   "metadata": {},
   "outputs": [],
   "source": [
    "fndata_path = DATA_DIR / '고금계과제1_v3.3_201301-202408.csv'\n",
    "fnmkt_path = DATA_DIR / '고금계과제_시장수익률_201301-202408.csv'\n",
    "rf_path = DATA_DIR / '통안채1년물_월평균_201301-202408.csv'"
   ]
  },
  {
   "cell_type": "code",
   "execution_count": 296,
   "metadata": {},
   "outputs": [],
   "source": [
    "END_DATE = '2023-12-31'"
   ]
  },
  {
   "cell_type": "markdown",
   "metadata": {},
   "source": [
    "### 주식 데이터"
   ]
  },
  {
   "cell_type": "code",
   "execution_count": 297,
   "metadata": {},
   "outputs": [],
   "source": [
    "# 데이터 모듈을 생성하며 기본 전처리들을 수행합니다.\n",
    "fn = FnStockData(fndata_path)"
   ]
  },
  {
   "cell_type": "code",
   "execution_count": 298,
   "metadata": {},
   "outputs": [
    {
     "data": {
      "text/plain": [
       "array(['종가(원)', '수정계수', '수정주가(원)', '수익률 (1개월)(%)', 'FnGuide Sector',\n",
       "       '거래정지여부', '관리종목여부', '보통주자본금(천원)', '자본잉여금(천원)', '이익잉여금(천원)',\n",
       "       '자기주식(천원)', '이연법인세부채(천원)', '매출액(천원)', '매출원가(천원)', '이자비용(천원)',\n",
       "       '영업이익(천원)', '총자산(천원)', '기말발행주식수 (보통)(주)'], dtype=object)"
      ]
     },
     "execution_count": 298,
     "metadata": {},
     "output_type": "execute_result"
    }
   ],
   "source": [
    "# 사용 가능한 데이터를 확인합니다.\n",
    "fn_items = fn.get_items()\n",
    "fn_items"
   ]
  },
  {
   "cell_type": "code",
   "execution_count": 299,
   "metadata": {},
   "outputs": [
    {
     "data": {
      "text/plain": [
       "array(['A000020', 'A000040', 'A000050', ..., 'A001260', 'A019660',\n",
       "       'A023460'], dtype=object)"
      ]
     },
     "execution_count": 299,
     "metadata": {},
     "output_type": "execute_result"
    }
   ],
   "source": [
    "# 분석 기간의 데이터 유니버스를 확인합니다. (금융업종, 거래정지, 관리종목 제외)\n",
    "univ_list = fn.get_universe()\n",
    "univ_list"
   ]
  },
  {
   "cell_type": "code",
   "execution_count": 300,
   "metadata": {},
   "outputs": [
    {
     "data": {
      "text/html": [
       "<div>\n",
       "<style scoped>\n",
       "    .dataframe tbody tr th:only-of-type {\n",
       "        vertical-align: middle;\n",
       "    }\n",
       "\n",
       "    .dataframe tbody tr th {\n",
       "        vertical-align: top;\n",
       "    }\n",
       "\n",
       "    .dataframe thead th {\n",
       "        text-align: right;\n",
       "    }\n",
       "</style>\n",
       "<table border=\"1\" class=\"dataframe\">\n",
       "  <thead>\n",
       "    <tr style=\"text-align: right;\">\n",
       "      <th></th>\n",
       "      <th>Item Name</th>\n",
       "      <th>FnGuide Sector</th>\n",
       "      <th>거래정지여부</th>\n",
       "      <th>관리종목여부</th>\n",
       "      <th>기말발행주식수 (보통)(주)</th>\n",
       "      <th>매출액(천원)</th>\n",
       "      <th>매출원가(천원)</th>\n",
       "      <th>보통주자본금(천원)</th>\n",
       "      <th>수익률 (1개월)(%)</th>\n",
       "      <th>수정계수</th>\n",
       "      <th>수정주가(원)</th>\n",
       "      <th>영업이익(천원)</th>\n",
       "      <th>이연법인세부채(천원)</th>\n",
       "      <th>이익잉여금(천원)</th>\n",
       "      <th>이자비용(천원)</th>\n",
       "      <th>자기주식(천원)</th>\n",
       "      <th>자본잉여금(천원)</th>\n",
       "      <th>종가(원)</th>\n",
       "      <th>총자산(천원)</th>\n",
       "    </tr>\n",
       "    <tr>\n",
       "      <th>date</th>\n",
       "      <th>Symbol</th>\n",
       "      <th></th>\n",
       "      <th></th>\n",
       "      <th></th>\n",
       "      <th></th>\n",
       "      <th></th>\n",
       "      <th></th>\n",
       "      <th></th>\n",
       "      <th></th>\n",
       "      <th></th>\n",
       "      <th></th>\n",
       "      <th></th>\n",
       "      <th></th>\n",
       "      <th></th>\n",
       "      <th></th>\n",
       "      <th></th>\n",
       "      <th></th>\n",
       "      <th></th>\n",
       "      <th></th>\n",
       "    </tr>\n",
       "  </thead>\n",
       "  <tbody>\n",
       "    <tr>\n",
       "      <th rowspan=\"5\" valign=\"top\">2013-01-31</th>\n",
       "      <th>A000020</th>\n",
       "      <td>의료</td>\n",
       "      <td>정상</td>\n",
       "      <td>정상</td>\n",
       "      <td>27931470.0</td>\n",
       "      <td>2.202406e+08</td>\n",
       "      <td>1.165344e+08</td>\n",
       "      <td>27931470.0</td>\n",
       "      <td>-0.17</td>\n",
       "      <td>1.0</td>\n",
       "      <td>6030.0</td>\n",
       "      <td>2062220.0</td>\n",
       "      <td>0.0</td>\n",
       "      <td>170147330.0</td>\n",
       "      <td>384335.0</td>\n",
       "      <td>0.0</td>\n",
       "      <td>26919758.0</td>\n",
       "      <td>6030.0</td>\n",
       "      <td>3.161655e+08</td>\n",
       "    </tr>\n",
       "    <tr>\n",
       "      <th>A000040</th>\n",
       "      <td>경기소비재</td>\n",
       "      <td>정상</td>\n",
       "      <td>정상</td>\n",
       "      <td>119341379.0</td>\n",
       "      <td>9.955327e+07</td>\n",
       "      <td>9.199679e+07</td>\n",
       "      <td>59670690.0</td>\n",
       "      <td>0.20</td>\n",
       "      <td>1.0</td>\n",
       "      <td>8727.0</td>\n",
       "      <td>-3486600.0</td>\n",
       "      <td>7181340.0</td>\n",
       "      <td>1298918.0</td>\n",
       "      <td>813333.0</td>\n",
       "      <td>-5044.0</td>\n",
       "      <td>3884892.0</td>\n",
       "      <td>495.0</td>\n",
       "      <td>1.169316e+08</td>\n",
       "    </tr>\n",
       "    <tr>\n",
       "      <th>A000050</th>\n",
       "      <td>경기소비재</td>\n",
       "      <td>정상</td>\n",
       "      <td>정상</td>\n",
       "      <td>2492298.0</td>\n",
       "      <td>3.471896e+08</td>\n",
       "      <td>2.514682e+08</td>\n",
       "      <td>12461490.0</td>\n",
       "      <td>-3.46</td>\n",
       "      <td>1.0</td>\n",
       "      <td>7874.0</td>\n",
       "      <td>36031739.0</td>\n",
       "      <td>90652345.0</td>\n",
       "      <td>612310562.0</td>\n",
       "      <td>13944625.0</td>\n",
       "      <td>0.0</td>\n",
       "      <td>13991400.0</td>\n",
       "      <td>86500.0</td>\n",
       "      <td>1.296989e+09</td>\n",
       "    </tr>\n",
       "    <tr>\n",
       "      <th>A000070</th>\n",
       "      <td>산업재</td>\n",
       "      <td>정상</td>\n",
       "      <td>정상</td>\n",
       "      <td>7704997.0</td>\n",
       "      <td>2.329145e+09</td>\n",
       "      <td>2.025952e+09</td>\n",
       "      <td>40852325.0</td>\n",
       "      <td>-4.51</td>\n",
       "      <td>1.0</td>\n",
       "      <td>67800.0</td>\n",
       "      <td>2472122.0</td>\n",
       "      <td>110818108.0</td>\n",
       "      <td>871019983.0</td>\n",
       "      <td>17176000.0</td>\n",
       "      <td>-9982000.0</td>\n",
       "      <td>355855971.0</td>\n",
       "      <td>67800.0</td>\n",
       "      <td>2.595068e+09</td>\n",
       "    </tr>\n",
       "    <tr>\n",
       "      <th>A000080</th>\n",
       "      <td>필수소비재</td>\n",
       "      <td>정상</td>\n",
       "      <td>정상</td>\n",
       "      <td>69477714.0</td>\n",
       "      <td>1.897469e+09</td>\n",
       "      <td>1.074666e+09</td>\n",
       "      <td>363168055.0</td>\n",
       "      <td>5.26</td>\n",
       "      <td>1.0</td>\n",
       "      <td>32000.0</td>\n",
       "      <td>161051461.0</td>\n",
       "      <td>23405084.0</td>\n",
       "      <td>422540903.0</td>\n",
       "      <td>56438096.0</td>\n",
       "      <td>-122693570.0</td>\n",
       "      <td>709299321.0</td>\n",
       "      <td>32000.0</td>\n",
       "      <td>3.553147e+09</td>\n",
       "    </tr>\n",
       "  </tbody>\n",
       "</table>\n",
       "</div>"
      ],
      "text/plain": [
       "Item Name          FnGuide Sector 거래정지여부 관리종목여부  기말발행주식수 (보통)(주)  \\\n",
       "date       Symbol                                                  \n",
       "2013-01-31 A000020             의료     정상     정상       27931470.0   \n",
       "           A000040          경기소비재     정상     정상      119341379.0   \n",
       "           A000050          경기소비재     정상     정상        2492298.0   \n",
       "           A000070            산업재     정상     정상        7704997.0   \n",
       "           A000080          필수소비재     정상     정상       69477714.0   \n",
       "\n",
       "Item Name                매출액(천원)      매출원가(천원)   보통주자본금(천원)  수익률 (1개월)(%)  \\\n",
       "date       Symbol                                                           \n",
       "2013-01-31 A000020  2.202406e+08  1.165344e+08   27931470.0         -0.17   \n",
       "           A000040  9.955327e+07  9.199679e+07   59670690.0          0.20   \n",
       "           A000050  3.471896e+08  2.514682e+08   12461490.0         -3.46   \n",
       "           A000070  2.329145e+09  2.025952e+09   40852325.0         -4.51   \n",
       "           A000080  1.897469e+09  1.074666e+09  363168055.0          5.26   \n",
       "\n",
       "Item Name           수정계수  수정주가(원)     영업이익(천원)  이연법인세부채(천원)    이익잉여금(천원)  \\\n",
       "date       Symbol                                                          \n",
       "2013-01-31 A000020   1.0   6030.0    2062220.0          0.0  170147330.0   \n",
       "           A000040   1.0   8727.0   -3486600.0    7181340.0    1298918.0   \n",
       "           A000050   1.0   7874.0   36031739.0   90652345.0  612310562.0   \n",
       "           A000070   1.0  67800.0    2472122.0  110818108.0  871019983.0   \n",
       "           A000080   1.0  32000.0  161051461.0   23405084.0  422540903.0   \n",
       "\n",
       "Item Name             이자비용(천원)     자기주식(천원)    자본잉여금(천원)    종가(원)  \\\n",
       "date       Symbol                                                   \n",
       "2013-01-31 A000020    384335.0          0.0   26919758.0   6030.0   \n",
       "           A000040    813333.0      -5044.0    3884892.0    495.0   \n",
       "           A000050  13944625.0          0.0   13991400.0  86500.0   \n",
       "           A000070  17176000.0   -9982000.0  355855971.0  67800.0   \n",
       "           A000080  56438096.0 -122693570.0  709299321.0  32000.0   \n",
       "\n",
       "Item Name                총자산(천원)  \n",
       "date       Symbol                 \n",
       "2013-01-31 A000020  3.161655e+08  \n",
       "           A000040  1.169316e+08  \n",
       "           A000050  1.296989e+09  \n",
       "           A000070  2.595068e+09  \n",
       "           A000080  3.553147e+09  "
      ]
     },
     "execution_count": 300,
     "metadata": {},
     "output_type": "execute_result"
    }
   ],
   "source": [
    "# long format (전부)\n",
    "\n",
    "df = fn.get_data()\n",
    "df.head()"
   ]
  },
  {
   "cell_type": "code",
   "execution_count": 301,
   "metadata": {},
   "outputs": [
    {
     "data": {
      "text/html": [
       "<div>\n",
       "<style scoped>\n",
       "    .dataframe tbody tr th:only-of-type {\n",
       "        vertical-align: middle;\n",
       "    }\n",
       "\n",
       "    .dataframe tbody tr th {\n",
       "        vertical-align: top;\n",
       "    }\n",
       "\n",
       "    .dataframe thead th {\n",
       "        text-align: right;\n",
       "    }\n",
       "</style>\n",
       "<table border=\"1\" class=\"dataframe\">\n",
       "  <thead>\n",
       "    <tr style=\"text-align: right;\">\n",
       "      <th>Symbol</th>\n",
       "      <th>A000020</th>\n",
       "      <th>A000040</th>\n",
       "      <th>A000050</th>\n",
       "      <th>A000070</th>\n",
       "      <th>A000080</th>\n",
       "      <th>A000100</th>\n",
       "      <th>A000120</th>\n",
       "      <th>A000140</th>\n",
       "      <th>A000150</th>\n",
       "      <th>A000180</th>\n",
       "      <th>...</th>\n",
       "      <th>A014940</th>\n",
       "      <th>A053810</th>\n",
       "      <th>A007390</th>\n",
       "      <th>A002410</th>\n",
       "      <th>A037950</th>\n",
       "      <th>A038880</th>\n",
       "      <th>A015020</th>\n",
       "      <th>A001260</th>\n",
       "      <th>A019660</th>\n",
       "      <th>A023460</th>\n",
       "    </tr>\n",
       "    <tr>\n",
       "      <th>date</th>\n",
       "      <th></th>\n",
       "      <th></th>\n",
       "      <th></th>\n",
       "      <th></th>\n",
       "      <th></th>\n",
       "      <th></th>\n",
       "      <th></th>\n",
       "      <th></th>\n",
       "      <th></th>\n",
       "      <th></th>\n",
       "      <th></th>\n",
       "      <th></th>\n",
       "      <th></th>\n",
       "      <th></th>\n",
       "      <th></th>\n",
       "      <th></th>\n",
       "      <th></th>\n",
       "      <th></th>\n",
       "      <th></th>\n",
       "      <th></th>\n",
       "      <th></th>\n",
       "    </tr>\n",
       "  </thead>\n",
       "  <tbody>\n",
       "    <tr>\n",
       "      <th>2013-01-31</th>\n",
       "      <td>-0.0017</td>\n",
       "      <td>0.0020</td>\n",
       "      <td>-0.0346</td>\n",
       "      <td>-0.0451</td>\n",
       "      <td>0.0526</td>\n",
       "      <td>0.0607</td>\n",
       "      <td>0.1940</td>\n",
       "      <td>-0.0122</td>\n",
       "      <td>-0.0039</td>\n",
       "      <td>-0.0559</td>\n",
       "      <td>...</td>\n",
       "      <td>NaN</td>\n",
       "      <td>NaN</td>\n",
       "      <td>NaN</td>\n",
       "      <td>NaN</td>\n",
       "      <td>NaN</td>\n",
       "      <td>NaN</td>\n",
       "      <td>NaN</td>\n",
       "      <td>NaN</td>\n",
       "      <td>NaN</td>\n",
       "      <td>NaN</td>\n",
       "    </tr>\n",
       "    <tr>\n",
       "      <th>2013-02-28</th>\n",
       "      <td>0.0033</td>\n",
       "      <td>-0.0470</td>\n",
       "      <td>0.0537</td>\n",
       "      <td>0.0251</td>\n",
       "      <td>0.0791</td>\n",
       "      <td>-0.0028</td>\n",
       "      <td>-0.0295</td>\n",
       "      <td>-0.0414</td>\n",
       "      <td>0.0078</td>\n",
       "      <td>0.0520</td>\n",
       "      <td>...</td>\n",
       "      <td>NaN</td>\n",
       "      <td>NaN</td>\n",
       "      <td>NaN</td>\n",
       "      <td>NaN</td>\n",
       "      <td>NaN</td>\n",
       "      <td>NaN</td>\n",
       "      <td>NaN</td>\n",
       "      <td>NaN</td>\n",
       "      <td>NaN</td>\n",
       "      <td>NaN</td>\n",
       "    </tr>\n",
       "    <tr>\n",
       "      <th>2013-03-31</th>\n",
       "      <td>0.0133</td>\n",
       "      <td>-0.0064</td>\n",
       "      <td>0.0288</td>\n",
       "      <td>0.0187</td>\n",
       "      <td>-0.0073</td>\n",
       "      <td>0.0700</td>\n",
       "      <td>-0.1452</td>\n",
       "      <td>0.0432</td>\n",
       "      <td>0.0039</td>\n",
       "      <td>0.1621</td>\n",
       "      <td>...</td>\n",
       "      <td>NaN</td>\n",
       "      <td>NaN</td>\n",
       "      <td>NaN</td>\n",
       "      <td>NaN</td>\n",
       "      <td>NaN</td>\n",
       "      <td>NaN</td>\n",
       "      <td>NaN</td>\n",
       "      <td>NaN</td>\n",
       "      <td>NaN</td>\n",
       "      <td>NaN</td>\n",
       "    </tr>\n",
       "    <tr>\n",
       "      <th>2013-04-30</th>\n",
       "      <td>0.1047</td>\n",
       "      <td>0.0000</td>\n",
       "      <td>0.2594</td>\n",
       "      <td>0.3239</td>\n",
       "      <td>-0.0473</td>\n",
       "      <td>0.0995</td>\n",
       "      <td>0.0783</td>\n",
       "      <td>-0.1302</td>\n",
       "      <td>-0.0502</td>\n",
       "      <td>0.0946</td>\n",
       "      <td>...</td>\n",
       "      <td>NaN</td>\n",
       "      <td>NaN</td>\n",
       "      <td>NaN</td>\n",
       "      <td>NaN</td>\n",
       "      <td>NaN</td>\n",
       "      <td>NaN</td>\n",
       "      <td>NaN</td>\n",
       "      <td>NaN</td>\n",
       "      <td>NaN</td>\n",
       "      <td>NaN</td>\n",
       "    </tr>\n",
       "    <tr>\n",
       "      <th>2013-05-31</th>\n",
       "      <td>0.0267</td>\n",
       "      <td>0.0475</td>\n",
       "      <td>0.1667</td>\n",
       "      <td>-0.0598</td>\n",
       "      <td>-0.0140</td>\n",
       "      <td>-0.1167</td>\n",
       "      <td>-0.0283</td>\n",
       "      <td>-0.0238</td>\n",
       "      <td>0.1545</td>\n",
       "      <td>0.0367</td>\n",
       "      <td>...</td>\n",
       "      <td>NaN</td>\n",
       "      <td>NaN</td>\n",
       "      <td>NaN</td>\n",
       "      <td>NaN</td>\n",
       "      <td>NaN</td>\n",
       "      <td>NaN</td>\n",
       "      <td>NaN</td>\n",
       "      <td>NaN</td>\n",
       "      <td>NaN</td>\n",
       "      <td>NaN</td>\n",
       "    </tr>\n",
       "  </tbody>\n",
       "</table>\n",
       "<p>5 rows × 2616 columns</p>\n",
       "</div>"
      ],
      "text/plain": [
       "Symbol      A000020  A000040  A000050  A000070  A000080  A000100  A000120  \\\n",
       "date                                                                        \n",
       "2013-01-31  -0.0017   0.0020  -0.0346  -0.0451   0.0526   0.0607   0.1940   \n",
       "2013-02-28   0.0033  -0.0470   0.0537   0.0251   0.0791  -0.0028  -0.0295   \n",
       "2013-03-31   0.0133  -0.0064   0.0288   0.0187  -0.0073   0.0700  -0.1452   \n",
       "2013-04-30   0.1047   0.0000   0.2594   0.3239  -0.0473   0.0995   0.0783   \n",
       "2013-05-31   0.0267   0.0475   0.1667  -0.0598  -0.0140  -0.1167  -0.0283   \n",
       "\n",
       "Symbol      A000140  A000150  A000180  ...  A014940  A053810  A007390  \\\n",
       "date                                   ...                              \n",
       "2013-01-31  -0.0122  -0.0039  -0.0559  ...      NaN      NaN      NaN   \n",
       "2013-02-28  -0.0414   0.0078   0.0520  ...      NaN      NaN      NaN   \n",
       "2013-03-31   0.0432   0.0039   0.1621  ...      NaN      NaN      NaN   \n",
       "2013-04-30  -0.1302  -0.0502   0.0946  ...      NaN      NaN      NaN   \n",
       "2013-05-31  -0.0238   0.1545   0.0367  ...      NaN      NaN      NaN   \n",
       "\n",
       "Symbol      A002410  A037950  A038880  A015020  A001260  A019660  A023460  \n",
       "date                                                                       \n",
       "2013-01-31      NaN      NaN      NaN      NaN      NaN      NaN      NaN  \n",
       "2013-02-28      NaN      NaN      NaN      NaN      NaN      NaN      NaN  \n",
       "2013-03-31      NaN      NaN      NaN      NaN      NaN      NaN      NaN  \n",
       "2013-04-30      NaN      NaN      NaN      NaN      NaN      NaN      NaN  \n",
       "2013-05-31      NaN      NaN      NaN      NaN      NaN      NaN      NaN  \n",
       "\n",
       "[5 rows x 2616 columns]"
      ]
     },
     "execution_count": 301,
     "metadata": {},
     "output_type": "execute_result"
    }
   ],
   "source": [
    "# wide format\n",
    "\n",
    "monthly_returns = fn.get_data('수익률 (1개월)(%)')\n",
    "monthly_returns = monthly_returns.loc[:END_DATE, :]\n",
    "monthly_returns.head()"
   ]
  },
  {
   "cell_type": "code",
   "execution_count": 302,
   "metadata": {},
   "outputs": [
    {
     "data": {
      "text/plain": [
       "(95306, 96153)"
      ]
     },
     "execution_count": 302,
     "metadata": {},
     "output_type": "execute_result"
    }
   ],
   "source": [
    "close = fn.get_data('종가(원)')\n",
    "close = close.loc[:END_DATE, :]\n",
    "\n",
    "close.isnull().sum().sum() , monthly_returns.isnull().sum().sum()\n",
    "\n",
    "# monthly return이 close보다 결측치가 많음. \n",
    "# 보수적으로 잡기 위해 결측치가 많은 monthly_return을 기준으로 universe mask를 만들겠다. "
   ]
  },
  {
   "cell_type": "code",
   "execution_count": 303,
   "metadata": {},
   "outputs": [],
   "source": [
    "pd.set_option('future.no_silent_downcasting', True)\n",
    "\n",
    "univ_mask_df = monthly_returns.notnull()\n",
    "univ_mask_df = univ_mask_df.replace({True: 1, False: np.nan}).astype(float) # mask universe nan where firm doesn't exist.\n",
    "\n",
    "# C:\\Users\\chlje\\AppData\\Local\\Temp\\ipykernel_16008\\3440262636.py:2: \n",
    "# FutureWarning: Downcasting behavior in `replace` is deprecated and will be removed in a future version. \n",
    "# To retain the old behavior, explicitly call `result.infer_objects(copy=False)`. \n",
    "# To opt-in to the future behavior, set `pd.set_option('future.no_silent_downcasting', True)`\n"
   ]
  },
  {
   "cell_type": "markdown",
   "metadata": {},
   "source": [
    "### 시장 데이터"
   ]
  },
  {
   "cell_type": "code",
   "execution_count": 304,
   "metadata": {},
   "outputs": [],
   "source": [
    "# 데이터 모듈을 생성하며 기본 전처리들을 수행합니다.\n",
    "fnmkt = FnMarketData(fnmkt_path)"
   ]
  },
  {
   "cell_type": "code",
   "execution_count": 305,
   "metadata": {},
   "outputs": [],
   "source": [
    "mkt = fnmkt.get_data(format='wide')\n",
    "mkt = mkt.loc[:END_DATE, :]\n",
    "\n",
    "mkf2000 = mkt['MKF2000']\n",
    "krx300 = mkt['KRX 300']"
   ]
  },
  {
   "cell_type": "markdown",
   "metadata": {},
   "source": [
    "### 무위험 이자율"
   ]
  },
  {
   "cell_type": "code",
   "execution_count": 306,
   "metadata": {},
   "outputs": [],
   "source": [
    "rf = pd.read_csv(rf_path)\n",
    "rf.columns = ['date', 'rf']\n",
    "rf.set_index('date', inplace=True)\n",
    "rf.index = pd.to_datetime(rf.index, format='%Y/%m') + pd.offsets.MonthEnd(0)"
   ]
  },
  {
   "cell_type": "code",
   "execution_count": 307,
   "metadata": {},
   "outputs": [
    {
     "data": {
      "text/html": [
       "<div>\n",
       "<style scoped>\n",
       "    .dataframe tbody tr th:only-of-type {\n",
       "        vertical-align: middle;\n",
       "    }\n",
       "\n",
       "    .dataframe tbody tr th {\n",
       "        vertical-align: top;\n",
       "    }\n",
       "\n",
       "    .dataframe thead th {\n",
       "        text-align: right;\n",
       "    }\n",
       "</style>\n",
       "<table border=\"1\" class=\"dataframe\">\n",
       "  <thead>\n",
       "    <tr style=\"text-align: right;\">\n",
       "      <th></th>\n",
       "      <th>rf</th>\n",
       "    </tr>\n",
       "    <tr>\n",
       "      <th>date</th>\n",
       "      <th></th>\n",
       "    </tr>\n",
       "  </thead>\n",
       "  <tbody>\n",
       "    <tr>\n",
       "      <th>2013-01-31</th>\n",
       "      <td>0.002239</td>\n",
       "    </tr>\n",
       "    <tr>\n",
       "      <th>2013-02-28</th>\n",
       "      <td>0.002214</td>\n",
       "    </tr>\n",
       "    <tr>\n",
       "      <th>2013-03-31</th>\n",
       "      <td>0.002149</td>\n",
       "    </tr>\n",
       "    <tr>\n",
       "      <th>2013-04-30</th>\n",
       "      <td>0.002125</td>\n",
       "    </tr>\n",
       "    <tr>\n",
       "      <th>2013-05-31</th>\n",
       "      <td>0.002125</td>\n",
       "    </tr>\n",
       "  </tbody>\n",
       "</table>\n",
       "</div>"
      ],
      "text/plain": [
       "                  rf\n",
       "date                \n",
       "2013-01-31  0.002239\n",
       "2013-02-28  0.002214\n",
       "2013-03-31  0.002149\n",
       "2013-04-30  0.002125\n",
       "2013-05-31  0.002125"
      ]
     },
     "execution_count": 307,
     "metadata": {},
     "output_type": "execute_result"
    }
   ],
   "source": [
    "rf_m = (1 + rf / 100) ** (1 / 12) - 1 # 월율화\n",
    "rf_m = rf_m.loc[:END_DATE, :]\n",
    "rf_m.head()"
   ]
  },
  {
   "cell_type": "markdown",
   "metadata": {},
   "source": [
    "### 개별 주식들의 excess return"
   ]
  },
  {
   "cell_type": "code",
   "execution_count": 308,
   "metadata": {},
   "outputs": [],
   "source": [
    "monthly_excess_returns = monthly_returns.sub(rf_m['rf'], axis=0)"
   ]
  },
  {
   "cell_type": "markdown",
   "metadata": {},
   "source": [
    "## 팩터 데이터 생성\n",
    "\n",
    "2d wide format을 이용"
   ]
  },
  {
   "cell_type": "markdown",
   "metadata": {},
   "source": [
    "### 0. 시장초과수익률"
   ]
  },
  {
   "cell_type": "code",
   "execution_count": 309,
   "metadata": {},
   "outputs": [],
   "source": [
    "# FF_excess_returns = krx300.sub(rf_m['rf'], axis=0) \n",
    "FF_excess_returns = mkf2000.sub(rf_m['rf'], axis=0) "
   ]
  },
  {
   "cell_type": "markdown",
   "metadata": {},
   "source": [
    "### 1. Mkt Cap\n",
    "\n",
    "= 기업규모 = 시장가치 = 시가총액 = 보통주 주가 * 발행주식수"
   ]
  },
  {
   "cell_type": "code",
   "execution_count": 310,
   "metadata": {},
   "outputs": [],
   "source": [
    "raw_close = fn.get_data('종가(원)')\n",
    "close = raw_close.loc[:END_DATE, :]\n",
    "close = close * univ_mask_df\n",
    "\n",
    "common_shares_outstanding = fn.get_data('기말발행주식수 (보통)(주)') \n",
    "common_shares_outstanding = common_shares_outstanding.loc[:END_DATE, :]\n",
    "common_shares_outstanding = common_shares_outstanding * univ_mask_df"
   ]
  },
  {
   "cell_type": "code",
   "execution_count": 311,
   "metadata": {},
   "outputs": [],
   "source": [
    "F_size = raw_close * common_shares_outstanding"
   ]
  },
  {
   "cell_type": "markdown",
   "metadata": {},
   "source": [
    "### 2. B/M\n",
    "\n",
    "자기자본 장부가치 / 시장가치"
   ]
  },
  {
   "cell_type": "markdown",
   "metadata": {},
   "source": [
    "#### 주의: 재무 데이터 shift \n",
    "\n",
    "- t-1년 12월말 측정된 재무제표를 사용해 t년 6월말 포트폴리오를 구성하며, 이는 t년 7월 ~ t+1월 6월까지 사용되고 t+1년 6월말에 재구축됨. \n",
    "- 현재 t-1년 12월말 재무제표가 t년 1월~12월까지 ffill(및 bfill)되어있으므로 추가적으로 .shift(6)을 시켜줘야 함. |"
   ]
  },
  {
   "cell_type": "markdown",
   "metadata": {},
   "source": [
    "#### 2.1 Book 계산\n",
    "\n",
    "= 자기자본 장부가치 = t-1년 12월말 보통주 자본금 + 자본잉여금 + 이익잉여금 + 자기주식 + 이연법인세 부채\n",
    "\n",
    "** 장부가치 음수인 자본잠식 상태의 기업들 분석에서 제외"
   ]
  },
  {
   "cell_type": "code",
   "execution_count": 312,
   "metadata": {},
   "outputs": [],
   "source": [
    "common_stock = fn.get_data('보통주자본금(천원)') # 천원단위 아님\n",
    "capital_surplus = fn.get_data('자본잉여금(천원)')\n",
    "retained_earnings = fn.get_data('이익잉여금(천원)')\n",
    "treasury_stock = fn.get_data('자기주식(천원)')\n",
    "deferred_tax_liabilities = fn.get_data('이연법인세부채(천원)')\n",
    "\n",
    "common_stock = common_stock.loc[:END_DATE, :]\n",
    "capital_surplus = capital_surplus.loc[:END_DATE, :]\n",
    "retained_earnings = retained_earnings.loc[:END_DATE, :]\n",
    "treasury_stock = treasury_stock.loc[:END_DATE, :]\n",
    "deferred_tax_liabilities = deferred_tax_liabilities.loc[:END_DATE, :]\n",
    "\n",
    "common_stock = common_stock * univ_mask_df\n",
    "capital_surplus = capital_surplus * univ_mask_df\n",
    "retained_earnings = retained_earnings * univ_mask_df\n",
    "treasury_stock = treasury_stock * univ_mask_df\n",
    "deferred_tax_liabilities = deferred_tax_liabilities * univ_mask_df\n",
    "\n",
    "common_stock = common_stock.shift(6)\n",
    "capital_surplus = capital_surplus.shift(6)\n",
    "retained_earnings = retained_earnings.shift(6)\n",
    "treasury_stock = treasury_stock.shift(6)\n",
    "deferred_tax_liabilities = deferred_tax_liabilities.shift(6)"
   ]
  },
  {
   "cell_type": "markdown",
   "metadata": {},
   "source": [
    "******** 발견한 것: \n",
    "\n",
    "재무데이터와 `monthly_return` shape이 다르다. \n",
    "\n",
    "재무데이터는 6월30일까지만 불러와져 있다. 그것이 재무제표 업데이트하는 시점인 듯. "
   ]
  },
  {
   "cell_type": "markdown",
   "metadata": {},
   "source": [
    "****\n",
    "\n",
    "재무데이터 에프앤가이드에서 이미 t-1시점 값으로 제공. "
   ]
  },
  {
   "cell_type": "code",
   "execution_count": 313,
   "metadata": {},
   "outputs": [],
   "source": [
    "# # t-1년도의 값으로 ffill \n",
    "\n",
    "# eoy = (common_stock.index.month == 12)\n",
    "\n",
    "# common_stock = common_stock.loc[eoy, :].reindex(\n",
    "#     index=common_stock.index, method='ffill'\n",
    "# )\n",
    "\n",
    "# capital_surplus = capital_surplus.loc[eoy, :].reindex(\n",
    "#     index=capital_surplus.index, method='ffill'\n",
    "# )\n",
    "\n",
    "# retained_earnings = retained_earnings.loc[eoy, :].reindex(\n",
    "#     index=retained_earnings.index, method='ffill'\n",
    "# )\n",
    "\n",
    "# treasury_stock = treasury_stock.loc[eoy, :].reindex(\n",
    "#     index=treasury_stock.index, method='ffill'\n",
    "# )\n",
    "\n",
    "# deferred_tax_liabilities = deferred_tax_liabilities.loc[eoy, :].reindex(\n",
    "#     index=deferred_tax_liabilities.index, method='ffill'\n",
    "# )"
   ]
  },
  {
   "cell_type": "code",
   "execution_count": 314,
   "metadata": {},
   "outputs": [],
   "source": [
    "# common_stock = common_stock.fillna(0) # 없으면 drop \n",
    "\n",
    "capital_surplus = capital_surplus.fillna(0)\n",
    "retained_earnings = retained_earnings.fillna(0)\n",
    "treasury_stock = treasury_stock.fillna(0)\n",
    "deferred_tax_liabilities = deferred_tax_liabilities.fillna(0)"
   ]
  },
  {
   "cell_type": "code",
   "execution_count": 315,
   "metadata": {},
   "outputs": [],
   "source": [
    "# fillna(0) 없이 처리하면 하나라도 nan이면 모두 nan으로 처리됨\n",
    "\n",
    "book_equity = common_stock + capital_surplus + retained_earnings + treasury_stock + deferred_tax_liabilities"
   ]
  },
  {
   "cell_type": "markdown",
   "metadata": {},
   "source": [
    "****\n",
    "\n",
    "book equity = common stock + capital surplus + retained earnings + treasury stock + deferred tax liabilities 맞음. \n",
    "\n",
    "treasury stock 의 경우 -로 report 되기 때문. \n",
    "\n",
    "비율이기 때문에 시가총액의 기준도 같이 봐야 하는데, 시가총액 역시 자사보유주를 제외하지 않은 그냥 outstanding stock이기 때문에 BE에도 treasury stock을 포함하는 것이 맞음. "
   ]
  },
  {
   "cell_type": "markdown",
   "metadata": {},
   "source": [
    "#### 2.2 B/M 계산"
   ]
  },
  {
   "cell_type": "code",
   "execution_count": 316,
   "metadata": {},
   "outputs": [],
   "source": [
    "mkt_cap_12 = F_size.loc[F_size.index.month == 12, :].reindex(\n",
    "    index=common_stock.index, method='ffill'\n",
    ") \n",
    "mkt_cap_12 = mkt_cap_12 * univ_mask_df\n",
    "\n",
    "# market cap은 재무데이터가 아니라 가장 최근 9월까지도 다 채워져있음.\n",
    "# 재무데이터 길이와 맞추도록 reindex 후 ffill\n"
   ]
  },
  {
   "cell_type": "code",
   "execution_count": 317,
   "metadata": {},
   "outputs": [],
   "source": [
    "F_bm = book_equity / mkt_cap_12"
   ]
  },
  {
   "cell_type": "markdown",
   "metadata": {},
   "source": [
    "### 3. 수익성\n",
    "\n",
    "= Operating Profit / Equity \n",
    "\n",
    "Quality 팩터"
   ]
  },
  {
   "cell_type": "markdown",
   "metadata": {},
   "source": [
    "### 3.1 Operating Profit\n",
    "\n",
    "= t-1년 12월 말의 매출액 - 매출원가 - 이자비용 - 판매및관리비 차감한 \n",
    "\n",
    "영업이익 "
   ]
  },
  {
   "cell_type": "code",
   "execution_count": 318,
   "metadata": {},
   "outputs": [],
   "source": [
    "# sales_revenue = fn.get_data('매출액(천원)')\n",
    "# cost_of_goods_sold = fn.get_data('매출원가(천원)')\n",
    "# interest_expense = fn.get_data('이자비용(천원)')\n",
    "\n",
    "operating_profit = fn.get_data('영업이익(천원)')\n",
    "operating_profit = operating_profit.loc[:END_DATE, :]\n",
    "operating_profit = operating_profit * univ_mask_df\n",
    "operating_profit = operating_profit.shift(6)"
   ]
  },
  {
   "cell_type": "markdown",
   "metadata": {},
   "source": [
    "********** 매출액조차 분기별로 변하지 않고 연간으로 변한다.\n",
    "\n",
    "이것도 이미 작년 12월 값으로 ffill 된 것 같음. 별도 처리 필요 x "
   ]
  },
  {
   "cell_type": "markdown",
   "metadata": {},
   "source": [
    "#### 3.2 수익성 계산\n",
    "\n",
    "Operating Profit, Equity 둘 다 t-1년 12월 말 기준"
   ]
  },
  {
   "cell_type": "code",
   "execution_count": 319,
   "metadata": {},
   "outputs": [],
   "source": [
    "F_quality = operating_profit / book_equity"
   ]
  },
  {
   "cell_type": "markdown",
   "metadata": {},
   "source": [
    "### 4. 자본투자\n",
    "\n",
    "= (t-1년 12월 총자산 - t-2년 12월 총자산) / t-2년 12월 총자산 = 즉, 총자산의 증가율"
   ]
  },
  {
   "cell_type": "code",
   "execution_count": 320,
   "metadata": {},
   "outputs": [],
   "source": [
    "total_asset = fn.get_data('총자산(천원)')\n",
    "total_asset = total_asset.loc[:END_DATE, :]\n",
    "total_asset = total_asset * univ_mask_df\n",
    "total_asset = total_asset.shift(6)"
   ]
  },
  {
   "cell_type": "code",
   "execution_count": 321,
   "metadata": {},
   "outputs": [],
   "source": [
    "F_inv = (total_asset - total_asset.shift(12)) / total_asset.shift(12)"
   ]
  },
  {
   "cell_type": "markdown",
   "metadata": {},
   "source": [
    "### 5. UMD\n",
    "\n",
    "= Up Minus Down = (전월말 주가 - 1년전 월말 주가 ) / 1년전 월말 주가\n",
    "\n",
    "** 모멘텀의 경우 1개월마다 리밸런싱, 상위 30%가 winner / 하위 30%가 loser"
   ]
  },
  {
   "cell_type": "code",
   "execution_count": 322,
   "metadata": {},
   "outputs": [],
   "source": [
    "adj_close = fn.get_data('수정주가(원)')\n",
    "adj_close = adj_close.loc[:END_DATE, :]\n",
    "adj_close = adj_close * univ_mask_df"
   ]
  },
  {
   "cell_type": "code",
   "execution_count": 323,
   "metadata": {},
   "outputs": [],
   "source": [
    "F_umd = (adj_close.shift(1) - adj_close.shift(12)) / adj_close.shift(12)"
   ]
  },
  {
   "cell_type": "markdown",
   "metadata": {},
   "source": [
    "### 6. STR\n",
    "\n",
    "= short term reversal \n",
    "\n",
    "- 추후 회귀할 때 계수의 방향에 주의"
   ]
  },
  {
   "cell_type": "code",
   "execution_count": 324,
   "metadata": {},
   "outputs": [],
   "source": [
    "F_str = monthly_returns.shift(1).copy()"
   ]
  },
  {
   "cell_type": "markdown",
   "metadata": {},
   "source": [
    "## 팩터 포트폴리오 생성"
   ]
  },
  {
   "cell_type": "markdown",
   "metadata": {},
   "source": [
    "### 팩터 class 생성\n",
    "\n",
    "- 팩터 2d dataframe을 1개 입력받아 팩터를 만들 수 있도록 팩터 포트폴리오 class 생성\n",
    "    - cross sectional로 XMY 나눠주는 기능\n",
    "        - 분위에 따라 1, 2, 3 , ... 이런 식으로 (ascending)\n",
    "        - 분위와 포폴(X, XMY, Y)을 입력받아 univ boolean df를 return하는 기능\n",
    "    - 이를 기반으로 X포트폴리오와 Y포트폴리오 만드는 기능\n",
    "        - weighting scheme: ew, vw 고를 수 있게 하기\n",
    "        - rebalancing 주기/날짜 고를 수 있게 하기\n",
    "    - XMY, X, Y 포트폴리오의 수익률 및 기타 성과 매트릭을 뽑을 수 있는 기능\n",
    "    - 이를 플롯할 수 있는 기능\n",
    "- 팩터 포트폴리오 instance를 2개 입력받아 independent sort 결과 보여주는 class 생성\n",
    "    - n분위 * m분위의 mini portfolio들을 만들어내는 기능\n",
    "    - 이를 다시 팩터 포트폴리오 instance로 만들어내는 기능\n",
    "    - 미니 포트폴리오 instance들을 사용하여 성과 매트릭을 뽑아주는 기능\n",
    "        - index축 포폴1, column축 포폴2로 기간(입력받아) 선택한 매트릭의 평균/max/min 등을 뽑아주는 기능\n",
    "        - index축 time, column축 (포폴1, 포폴2)로 선택한 매트릭의 평균/max/min 등을 뽑아주는 기능\n",
    "    - 성과 매트릭이 아닌 원본 데이터값도 뽑을 수 있게 하기 \n",
    "        - 미니 포트폴리오의 univ를 뽑아서 입력받은 원본 데이터 df에 masking시켜 테이블 형태로 반환\n",
    "        - 즉, 테이블을 뽑는 것은 instance 자체와 couple되어있으면 안됨. \n",
    "    - 최종 포폴 수익률 뽑는 기능\n",
    "        - 이 땐 1/3, 1/2 시나리오만 만들어서 구하는걸로. 애초에 SingleFactorPortfolio의 n_groups가 2 또는 3인 것들만 받아야 함. \n",
    "        - 포폴1, 포폴2를 각각 return할 수 있어야 함. "
   ]
  },
  {
   "cell_type": "code",
   "execution_count": 352,
   "metadata": {},
   "outputs": [],
   "source": [
    "class FactorUniv:\n",
    "    def __init__(\n",
    "            self, \n",
    "            factor_df: pd.DataFrame, \n",
    "            n_groups: int, \n",
    "            ) -> None:\n",
    "        self.factor_df = factor_df\n",
    "        self.n_groups = n_groups\n",
    "\n",
    "        self._reload()\n",
    "        \n",
    "    def _reload(self):\n",
    "        self._qcut = self._return_qcut()\n",
    "        self.low_univ = self.get_qcut_univ(1)\n",
    "        self.high_univ = self.get_qcut_univ(self.n_groups)\n",
    "\n",
    "    def set_n_groups(self, n_groups: int):\n",
    "        self.n_groups = n_groups\n",
    "        self._reload()\n",
    "\n",
    "    def _return_qcut(self,):\n",
    "        qcut = self.factor_df.apply(\n",
    "            lambda row: pd.qcut(row, self.n_groups, labels=False, duplicates='drop') + 1, # qcut can fail if there are duplicates or all nans --> then fill with nan\n",
    "            axis=1\n",
    "        )\n",
    "\n",
    "        return qcut\n",
    "    \n",
    "    def get_qcut_univ(self, q: int):\n",
    "        assert q in range(1, self.n_groups + 1)\n",
    "\n",
    "        return ( self._qcut == q )\n",
    "    \n",
    "    def __repr__(self) -> str:\n",
    "        meta = {\n",
    "            'factor_df': self.factor_df.shape,\n",
    "            'start_date': self.factor_df.index[0],\n",
    "            'end_date': self.factor_df.index[-1],\n",
    "\n",
    "            'n_groups': self.n_groups,\n",
    "        }\n",
    "\n",
    "        return str(meta)"
   ]
  },
  {
   "cell_type": "code",
   "execution_count": 366,
   "metadata": {},
   "outputs": [],
   "source": [
    "class Portfolio:\n",
    "    def __init__(\n",
    "            self, \n",
    "            univ_df: pd.DataFrame,\n",
    "            returns_df: pd.DataFrame,\n",
    "            mktcap_df: pd.DataFrame = None,\n",
    "            weighting: str = 'ew',\n",
    "            rebalancing: str = 'monthly',\n",
    "            ) -> None:\n",
    "        self.univ_df = univ_df\n",
    "        self.holding_df = univ_df.copy()\n",
    "        self.returns_df = returns_df.shift(-1) # shift -1 month to avoid look-ahead bias\n",
    "        self.mktcap_df = mktcap_df\n",
    "        \n",
    "        self.set_weighting(weighting, reload=False)\n",
    "        self.set_rebalancing(rebalancing, reload=False)\n",
    "\n",
    "        self._reload()\n",
    "    \n",
    "    def _reload(self):\n",
    "        self._compute_port_returns_df()\n",
    "        self._port_returns = self._port_returns_df.sum(axis=1)\n",
    "        self._compute_ts_nobs()\n",
    "\n",
    "    def set_weighting(self, weighting: str, reload: bool = True):\n",
    "        assert weighting in ['ew', 'vw'], 'weighting must be ew or vw'\n",
    "        if weighting == 'vw':\n",
    "            assert self.mktcap_df is not None, 'mktcap_df must be provided for vw weighting'\n",
    "        \n",
    "        self.weighting = weighting\n",
    "\n",
    "        if reload:\n",
    "            self._reload()\n",
    "    \n",
    "    def set_rebalancing(self, rebalancing: str, reload: bool = True):\n",
    "        assert rebalancing in ['monthly', 'quarterly', 'annual'], 'rebalancing must be monthly, quarterly, or annual'\n",
    "        \n",
    "        self.rebalancing = rebalancing\n",
    "\n",
    "        if self.rebalancing == 'monthly':\n",
    "            pass\n",
    "        elif self.rebalancing == 'quarterly':\n",
    "            self.holding_df = self.univ_df.resample('Q').last()\n",
    "            self.holding_df = self.holding_df.reindex(self.univ_df.index, method='ffill').astype(bool)\n",
    "            self.holding_df = self.holding_df * self.univ_df\n",
    "        elif self.rebalancing == 'annual':\n",
    "            self.holding_df = self.univ_df.resample('YE-JUN').last() # Year End June\n",
    "            self.holding_df = self.holding_df.reindex(self.univ_df.index, method='ffill').astype(bool)\n",
    "            self.holding_df = self.holding_df * self.univ_df\n",
    "\n",
    "        if reload:\n",
    "            self._reload()\n",
    "\n",
    "    def _compute_port_returns_df(self):\n",
    "\n",
    "        # Some market caps are 0, leading to zero division error.\n",
    "        self.mktcap_df = self.mktcap_df.replace(0, np.nan)\n",
    "\n",
    "        if self.weighting == 'ew':\n",
    "            weighted_returns_df = self.returns_df[self.holding_df].div( self.holding_df.sum(axis=1), axis=0 , fill_value=None)\n",
    "        elif self.weighting == 'vw':\n",
    "            weighted_returns_df = ( (self.returns_df[self.holding_df] * self.mktcap_df[self.holding_df]) ).div( self.mktcap_df[self.holding_df].sum(axis=1), axis=0 , fill_value=None)\n",
    "\n",
    "        self._port_returns_df = weighted_returns_df\n",
    "    \n",
    "    # def _compute_ts_stats(self):\n",
    "    #     # TODO: Add more stats, like Sharpe, Sortino, etc.\n",
    "    #     pass\n",
    "\n",
    "    def _compute_ts_nobs(self):\n",
    "        self._ts_nobs = self.holding_df.sum(axis=1)\n",
    "\n",
    "    @property\n",
    "    def port_ts_nobs(self):\n",
    "        return self._ts_nobs\n",
    "    \n",
    "    @property\n",
    "    def port_returns_df(self):\n",
    "        # TODO: Apply rebalancing\n",
    "        return self._port_returns_df\n",
    "    \n",
    "    @property\n",
    "    def port_returns(self):\n",
    "        return self._port_returns\n",
    "    \n",
    "    def get_avg_factor(self, factor_df: pd.DataFrame):\n",
    "        return factor_df[self.holding_df].mean(axis=1)\n",
    "    \n",
    "    def __repr__(self) -> str:\n",
    "        meta = {\n",
    "            'univ_df': self.univ_df.shape,\n",
    "            'start_date': self.univ_df.index[0],\n",
    "            'end_date': self.univ_df.index[-1],\n",
    "\n",
    "            'weighting': self.weighting,\n",
    "            'rebalancing': self.rebalancing,\n",
    "        }\n",
    "\n",
    "        return str(meta)"
   ]
  },
  {
   "cell_type": "code",
   "execution_count": 327,
   "metadata": {},
   "outputs": [],
   "source": [
    "class DoubleIndependentFactor:\n",
    "    def __init__(\n",
    "            self, \n",
    "            factor_univ_1: FactorUniv,\n",
    "            factor_univ_2: FactorUniv,\n",
    "\n",
    "            returns_df: pd.DataFrame,\n",
    "            mktcap_df: pd.DataFrame = None,\n",
    "            weighting: str = 'ew',\n",
    "            rebalancing: str = 'monthly',\n",
    "            ) -> None:\n",
    "\n",
    "        self.factor_univ_1 = factor_univ_1 \n",
    "        self.factor_univ_2 = factor_univ_2\n",
    "\n",
    "        self.returns_df = returns_df\n",
    "        self.mktcap_df = mktcap_df\n",
    "        self.weighting = weighting \n",
    "        self.rebalancing = rebalancing\n",
    "\n",
    "        self._combine_univs()\n",
    "        self._create_mini_portfolios()\n",
    "        # self._create_factor_returns()\n",
    "    \n",
    "    def _combine_univs(self):\n",
    "        # Combine two factor universes\n",
    "        f1_subunivs = [self.factor_univ_1.get_qcut_univ(q) for q in range(1, self.factor_univ_1.n_groups + 1)]\n",
    "        f2_subunivs = [self.factor_univ_2.get_qcut_univ(q) for q in range(1, self.factor_univ_2.n_groups + 1)]\n",
    "\n",
    "        self._univ_combinations = [\n",
    "            (i1+1, i2+1, f1 & f2) for f1, i1 in enumerate(f1_subunivs) for f2, i2 in enumerate(f2_subunivs)\n",
    "        ]\n",
    "    \n",
    "    @property\n",
    "    def univ_combinations(self):\n",
    "        return self._univ_combinations\n",
    "\n",
    "    def _create_mini_portfolios(self):\n",
    "        self._mini_portfolios = [\n",
    "            (i1, i2, Portfolio(univ_df, self.returns_df, self.mktcap_df, self.weighting, self.rebalancing)) \n",
    "            for i1, i2, univ_df in self._univ_combinations\n",
    "        ]\n",
    "\n",
    "    @property\n",
    "    def mini_portfolios(self):\n",
    "        return self._mini_portfolios\n",
    "    \n",
    "    def __repr__(self) -> str:\n",
    "        meta = {\n",
    "            'factor_univ_1': self.factor_univ_1,\n",
    "            'factor_univ_2': self.factor_univ_2,\n",
    "\n",
    "            'returns_df': self.returns_df.shape,\n",
    "            'start_date': self.returns_df.index[0],\n",
    "            'end_date': self.returns_df.index[-1],\n",
    "\n",
    "            'mktcap_df': self.mktcap_df.shape if self.mktcap_df is not None else None,\n",
    "            'weighting': self.weighting,\n",
    "            'rebalancing': self.rebalancing,\n",
    "        }\n",
    "\n",
    "        return str(meta)\n"
   ]
  },
  {
   "cell_type": "code",
   "execution_count": 328,
   "metadata": {},
   "outputs": [],
   "source": [
    "class XMY:\n",
    "    def __init__( \n",
    "            self, \n",
    "            size_univ: FactorUniv, # size\n",
    "            factor_univ: FactorUniv, # factor\n",
    "\n",
    "            returns_df: pd.DataFrame,\n",
    "            mktcap_df: pd.DataFrame = None,\n",
    "            weighting: str = 'ew',\n",
    "            rebalancing: str = 'monthly',\n",
    "            ) -> None:\n",
    "        \n",
    "        assert size_univ.n_groups == 2, 'size_univ must have 2 groups'\n",
    "        assert factor_univ.n_groups == 2, 'factor_univ must have 2 groups'\n",
    "\n",
    "        self.size_univ = size_univ\n",
    "        self.factor_univ = factor_univ\n",
    "\n",
    "        self.return_df = returns_df\n",
    "        self.mktcap_df = mktcap_df\n",
    "        self.weighting = weighting\n",
    "        self.rebalancing = rebalancing\n",
    "\n",
    "        self.DIS = DoubleIndependentFactor(self.size_univ, self.factor_univ, self.return_df, self.mktcap_df, self.weighting, self.rebalancing)\n",
    "        self._mini_portfolios = self.DIS.mini_portfolios\n",
    "\n",
    "        self._create_factor_returns()\n",
    "    \n",
    "    def _create_factor_returns(self):\n",
    "        mini_port_returns = [ (i1, i2, mini_port._port_returns) for i1, i2, mini_port in self._mini_portfolios]\n",
    "\n",
    "        # f1 (size)\n",
    "        self.f1_high = np.mean([ port_return for i1, _, port_return in mini_port_returns if i1 == self.size_univ.n_groups ]) \n",
    "        self.f1_low = np.mean([ port_return for i1, _, port_return in mini_port_returns if i1 == 1 ])\n",
    "        self.f1_hml = self.f1_high - self.f1_low\n",
    "\n",
    "        # f2 (factor)\n",
    "        self.f2_high = np.mean([ port_return for _, i2, port_return in mini_port_returns if i2 == self.factor_univ.n_groups ])\n",
    "        self.f2_low = np.mean([ port_return for _, i2, port_return in mini_port_returns if i2 == 1 ])\n",
    "        self.f2_hml = self.f2_high - self.f2_low"
   ]
  },
  {
   "cell_type": "code",
   "execution_count": 329,
   "metadata": {},
   "outputs": [],
   "source": [
    "class SMB:\n",
    "    def __init__( \n",
    "            self, \n",
    "            size_univ: FactorUniv, # size \n",
    "            factor_univ_1: FactorUniv, # B/M\n",
    "            factor_univ_2: FactorUniv, # OP\n",
    "            factor_univ_3: FactorUniv, # INV\n",
    "\n",
    "            returns_df: pd.DataFrame,\n",
    "            mktcap_df: pd.DataFrame = None,\n",
    "            weighting: str = 'ew',\n",
    "            rebalancing: str = 'monthly',\n",
    "            ) -> None:\n",
    "        \n",
    "        assert size_univ.n_groups == 2, 'size_univ must have 2 groups'\n",
    "        assert factor_univ_1.n_groups == 3, 'factor_univ_1 must have 3 groups' \n",
    "        assert factor_univ_2.n_groups == 3, 'factor_univ_2 must have 3 groups' \n",
    "        assert factor_univ_3.n_groups == 3, 'factor_univ_3 must have 3 groups' \n",
    "\n",
    "        self.size_univ = size_univ\n",
    "        self.factor_univ_1 = factor_univ_1\n",
    "        self.factor_univ_2 = factor_univ_2\n",
    "        self.factor_univ_3 = factor_univ_3\n",
    "\n",
    "        self.return_df = returns_df\n",
    "        self.mktcap_df = mktcap_df\n",
    "        self.weighting = weighting\n",
    "        self.rebalancing = rebalancing\n",
    "\n",
    "        self.DIS1 = DoubleIndependentFactor(self.size_univ, self.factor_univ_1, self.return_df, self.mktcap_df, self.weighting, self.rebalancing)\n",
    "        self._mini_portfolios1 = self.DIS1.mini_portfolios\n",
    "\n",
    "        self.DIS2 = DoubleIndependentFactor(self.size_univ, self.factor_univ_2, self.return_df, self.mktcap_df, self.weighting, self.rebalancing)\n",
    "        self._mini_portfolios2 = self.DIS2.mini_portfolios\n",
    "\n",
    "        self.DIS3 = DoubleIndependentFactor(self.size_univ, self.factor_univ_3, self.return_df, self.mktcap_df, self.weighting, self.rebalancing)\n",
    "        self._mini_portfolios3 = self.DIS3.mini_portfolios\n",
    "\n",
    "        self._create_factor_returns()\n",
    "    \n",
    "    def _create_SMB_returns(self):\n",
    "        factor1_mini_port_returns = [ (i1, i2, mini_port._port_returns) for i1, i2, mini_port in self._mini_portfolios1] # note that i2 is the factor. i1 is the size.\n",
    "        factor2_mini_port_returns = [ (i1, i2, mini_port._port_returns) for i1, i2, mini_port in self._mini_portfolios2]\n",
    "        factor3_mini_port_returns = [ (i1, i2, mini_port._port_returns) for i1, i2, mini_port in self._mini_portfolios3]\n",
    "\n",
    "        # SMB B/M\n",
    "        self.SMB1_low = np.mean([ port_return for i1, _, port_return in factor1_mini_port_returns if i1 == 1 ])\n",
    "        self.SMB1_high = np.mean([ port_return for i1, _, port_return in factor1_mini_port_returns if i1 == 2 ])\n",
    "        self.SMB1 = self.SMB1_low - self.SMB1_high\n",
    "\n",
    "        # SMB OP\n",
    "        self.SMB2_low = np.mean([ port_return for i1, _, port_return in factor2_mini_port_returns if i1 == 1 ])\n",
    "        self.SMB2_high = np.mean([ port_return for i1, _, port_return in factor2_mini_port_returns if i1 == 2 ])\n",
    "        self.SMB2 = self.SMB2_low - self.SMB2_high\n",
    "\n",
    "        # SMB INV\n",
    "        self.SMB3_low = np.mean([ port_return for i1, _, port_return in factor3_mini_port_returns if i1 == 1 ])\n",
    "        self.SMB3_high = np.mean([ port_return for i1, _, port_return in factor3_mini_port_returns if i1 == 2 ])\n",
    "        self.SMB3 = self.SMB3_low - self.SMB3_high\n",
    "\n",
    "        self.SMB = (self.SMB1 + self.SMB2 + self.SMB3) / 3"
   ]
  },
  {
   "cell_type": "markdown",
   "metadata": {},
   "source": [
    "### 팩터 수익률 계산"
   ]
  },
  {
   "cell_type": "code",
   "execution_count": 367,
   "metadata": {},
   "outputs": [],
   "source": [
    "F_bm_univ = FactorUniv(F_bm, 5)\n",
    "F_size_univ = FactorUniv(F_size, 5)"
   ]
  },
  {
   "cell_type": "code",
   "execution_count": 376,
   "metadata": {},
   "outputs": [],
   "source": [
    "F_bm_low_port_vw = Portfolio(F_bm_univ.low_univ, monthly_excess_returns, F_size, 'vw', 'annual')\n",
    "# F_bm_low_port_vw = Portfolio(F_bm_univ.low_univ, monthly_excess_returns, F_size, 'vw', 'monthly')\n",
    "F_bm_high_port_vw = Portfolio(F_bm_univ.high_univ, monthly_excess_returns, F_size, 'vw', 'monthly')\n",
    "\n",
    "F_size_low_port_vw = Portfolio(F_size_univ.low_univ, monthly_excess_returns, F_size, 'vw', 'monthly')\n",
    "F_size_high_port_vw = Portfolio(F_size_univ.high_univ, monthly_excess_returns, F_size, 'vw', 'monthly')"
   ]
  },
  {
   "cell_type": "code",
   "execution_count": 374,
   "metadata": {},
   "outputs": [],
   "source": [
    "F_bm_low_port_ew = Portfolio(F_bm_univ.low_univ, monthly_excess_returns, F_size, 'ew', 'monthly')\n",
    "F_bm_high_port_ew = Portfolio(F_bm_univ.high_univ, monthly_excess_returns, F_size, 'ew', 'monthly')\n",
    "\n",
    "F_size_low_port_ew = Portfolio(F_size_univ.low_univ, monthly_excess_returns, F_size, 'ew', 'monthly')\n",
    "F_size_high_port_ew = Portfolio(F_size_univ.high_univ, monthly_excess_returns, F_size, 'ew', 'monthly')\n"
   ]
  },
  {
   "cell_type": "code",
   "execution_count": 377,
   "metadata": {},
   "outputs": [
    {
     "data": {
      "text/plain": [
       "<Axes: xlabel='date'>"
      ]
     },
     "execution_count": 377,
     "metadata": {},
     "output_type": "execute_result"
    },
    {
     "data": {
      "image/png": "[encoded data removed]",
      "text/plain": [
       "<Figure size 640x480 with 1 Axes>"
      ]
     },
     "metadata": {},
     "output_type": "display_data"
    }
   ],
   "source": [
    "(F_bm_low_port_vw.port_returns + 1).cumprod().plot()"
   ]
  },
  {
   "cell_type": "markdown",
   "metadata": {},
   "source": [
    "### Size-B/M 포트폴리오\n",
    "\n",
    "- Size, B/M으로 double sort"
   ]
  },
  {
   "cell_type": "code",
   "execution_count": 378,
   "metadata": {},
   "outputs": [
    {
     "ename": "AttributeError",
     "evalue": "'int' object has no attribute 'copy'",
     "output_type": "error",
     "traceback": [
      "\u001b[1;31m---------------------------------------------------------------------------\u001b[0m",
      "\u001b[1;31mAttributeError\u001b[0m                            Traceback (most recent call last)",
      "Cell \u001b[1;32mIn[378], line 1\u001b[0m\n\u001b[1;32m----> 1\u001b[0m DIS_size_bm \u001b[38;5;241m=\u001b[39m \u001b[43mDoubleIndependentFactor\u001b[49m\u001b[43m(\u001b[49m\u001b[43mF_size_univ\u001b[49m\u001b[43m,\u001b[49m\u001b[43m \u001b[49m\u001b[43mF_bm_univ\u001b[49m\u001b[43m,\u001b[49m\u001b[43m \u001b[49m\u001b[43mmonthly_excess_returns\u001b[49m\u001b[43m,\u001b[49m\u001b[43m \u001b[49m\u001b[43mF_size\u001b[49m\u001b[43m,\u001b[49m\u001b[43m \u001b[49m\u001b[38;5;124;43m'\u001b[39;49m\u001b[38;5;124;43mvw\u001b[39;49m\u001b[38;5;124;43m'\u001b[39;49m\u001b[43m,\u001b[49m\u001b[43m \u001b[49m\u001b[38;5;124;43m'\u001b[39;49m\u001b[38;5;124;43mmonthly\u001b[39;49m\u001b[38;5;124;43m'\u001b[39;49m\u001b[43m)\u001b[49m\n",
      "Cell \u001b[1;32mIn[327], line 22\u001b[0m, in \u001b[0;36mDoubleIndependentFactor.__init__\u001b[1;34m(self, factor_univ_1, factor_univ_2, returns_df, mktcap_df, weighting, rebalancing)\u001b[0m\n\u001b[0;32m     19\u001b[0m \u001b[38;5;28mself\u001b[39m\u001b[38;5;241m.\u001b[39mrebalancing \u001b[38;5;241m=\u001b[39m rebalancing\n\u001b[0;32m     21\u001b[0m \u001b[38;5;28mself\u001b[39m\u001b[38;5;241m.\u001b[39m_combine_univs()\n\u001b[1;32m---> 22\u001b[0m \u001b[38;5;28;43mself\u001b[39;49m\u001b[38;5;241;43m.\u001b[39;49m\u001b[43m_create_mini_portfolios\u001b[49m\u001b[43m(\u001b[49m\u001b[43m)\u001b[49m\n",
      "Cell \u001b[1;32mIn[327], line 39\u001b[0m, in \u001b[0;36mDoubleIndependentFactor._create_mini_portfolios\u001b[1;34m(self)\u001b[0m\n\u001b[0;32m     38\u001b[0m \u001b[38;5;28;01mdef\u001b[39;00m \u001b[38;5;21m_create_mini_portfolios\u001b[39m(\u001b[38;5;28mself\u001b[39m):\n\u001b[1;32m---> 39\u001b[0m     \u001b[38;5;28mself\u001b[39m\u001b[38;5;241m.\u001b[39m_mini_portfolios \u001b[38;5;241m=\u001b[39m \u001b[43m[\u001b[49m\n\u001b[0;32m     40\u001b[0m \u001b[43m        \u001b[49m\u001b[43m(\u001b[49m\u001b[43mi1\u001b[49m\u001b[43m,\u001b[49m\u001b[43m \u001b[49m\u001b[43mi2\u001b[49m\u001b[43m,\u001b[49m\u001b[43m \u001b[49m\u001b[43mPortfolio\u001b[49m\u001b[43m(\u001b[49m\u001b[43muniv_df\u001b[49m\u001b[43m,\u001b[49m\u001b[43m \u001b[49m\u001b[38;5;28;43mself\u001b[39;49m\u001b[38;5;241;43m.\u001b[39;49m\u001b[43mreturns_df\u001b[49m\u001b[43m,\u001b[49m\u001b[43m \u001b[49m\u001b[38;5;28;43mself\u001b[39;49m\u001b[38;5;241;43m.\u001b[39;49m\u001b[43mmktcap_df\u001b[49m\u001b[43m,\u001b[49m\u001b[43m \u001b[49m\u001b[38;5;28;43mself\u001b[39;49m\u001b[38;5;241;43m.\u001b[39;49m\u001b[43mweighting\u001b[49m\u001b[43m,\u001b[49m\u001b[43m \u001b[49m\u001b[38;5;28;43mself\u001b[39;49m\u001b[38;5;241;43m.\u001b[39;49m\u001b[43mrebalancing\u001b[49m\u001b[43m)\u001b[49m\u001b[43m)\u001b[49m\u001b[43m \u001b[49m\n\u001b[0;32m     41\u001b[0m \u001b[43m        \u001b[49m\u001b[38;5;28;43;01mfor\u001b[39;49;00m\u001b[43m \u001b[49m\u001b[43mi1\u001b[49m\u001b[43m,\u001b[49m\u001b[43m \u001b[49m\u001b[43mi2\u001b[49m\u001b[43m,\u001b[49m\u001b[43m \u001b[49m\u001b[43muniv_df\u001b[49m\u001b[43m \u001b[49m\u001b[38;5;129;43;01min\u001b[39;49;00m\u001b[43m \u001b[49m\u001b[38;5;28;43mself\u001b[39;49m\u001b[38;5;241;43m.\u001b[39;49m\u001b[43m_univ_combinations\u001b[49m\n\u001b[0;32m     42\u001b[0m \u001b[43m    \u001b[49m\u001b[43m]\u001b[49m\n",
      "Cell \u001b[1;32mIn[327], line 40\u001b[0m, in \u001b[0;36m<listcomp>\u001b[1;34m(.0)\u001b[0m\n\u001b[0;32m     38\u001b[0m \u001b[38;5;28;01mdef\u001b[39;00m \u001b[38;5;21m_create_mini_portfolios\u001b[39m(\u001b[38;5;28mself\u001b[39m):\n\u001b[0;32m     39\u001b[0m     \u001b[38;5;28mself\u001b[39m\u001b[38;5;241m.\u001b[39m_mini_portfolios \u001b[38;5;241m=\u001b[39m [\n\u001b[1;32m---> 40\u001b[0m         (i1, i2, \u001b[43mPortfolio\u001b[49m\u001b[43m(\u001b[49m\u001b[43muniv_df\u001b[49m\u001b[43m,\u001b[49m\u001b[43m \u001b[49m\u001b[38;5;28;43mself\u001b[39;49m\u001b[38;5;241;43m.\u001b[39;49m\u001b[43mreturns_df\u001b[49m\u001b[43m,\u001b[49m\u001b[43m \u001b[49m\u001b[38;5;28;43mself\u001b[39;49m\u001b[38;5;241;43m.\u001b[39;49m\u001b[43mmktcap_df\u001b[49m\u001b[43m,\u001b[49m\u001b[43m \u001b[49m\u001b[38;5;28;43mself\u001b[39;49m\u001b[38;5;241;43m.\u001b[39;49m\u001b[43mweighting\u001b[49m\u001b[43m,\u001b[49m\u001b[43m \u001b[49m\u001b[38;5;28;43mself\u001b[39;49m\u001b[38;5;241;43m.\u001b[39;49m\u001b[43mrebalancing\u001b[49m\u001b[43m)\u001b[49m) \n\u001b[0;32m     41\u001b[0m         \u001b[38;5;28;01mfor\u001b[39;00m i1, i2, univ_df \u001b[38;5;129;01min\u001b[39;00m \u001b[38;5;28mself\u001b[39m\u001b[38;5;241m.\u001b[39m_univ_combinations\n\u001b[0;32m     42\u001b[0m     ]\n",
      "Cell \u001b[1;32mIn[366], line 11\u001b[0m, in \u001b[0;36mPortfolio.__init__\u001b[1;34m(self, univ_df, returns_df, mktcap_df, weighting, rebalancing)\u001b[0m\n\u001b[0;32m      2\u001b[0m \u001b[38;5;28;01mdef\u001b[39;00m \u001b[38;5;21m__init__\u001b[39m(\n\u001b[0;32m      3\u001b[0m         \u001b[38;5;28mself\u001b[39m, \n\u001b[0;32m      4\u001b[0m         univ_df: pd\u001b[38;5;241m.\u001b[39mDataFrame,\n\u001b[1;32m   (...)\u001b[0m\n\u001b[0;32m      8\u001b[0m         rebalancing: \u001b[38;5;28mstr\u001b[39m \u001b[38;5;241m=\u001b[39m \u001b[38;5;124m'\u001b[39m\u001b[38;5;124mmonthly\u001b[39m\u001b[38;5;124m'\u001b[39m,\n\u001b[0;32m      9\u001b[0m         ) \u001b[38;5;241m-\u001b[39m\u001b[38;5;241m>\u001b[39m \u001b[38;5;28;01mNone\u001b[39;00m:\n\u001b[0;32m     10\u001b[0m     \u001b[38;5;28mself\u001b[39m\u001b[38;5;241m.\u001b[39muniv_df \u001b[38;5;241m=\u001b[39m univ_df\n\u001b[1;32m---> 11\u001b[0m     \u001b[38;5;28mself\u001b[39m\u001b[38;5;241m.\u001b[39mholding_df \u001b[38;5;241m=\u001b[39m \u001b[43muniv_df\u001b[49m\u001b[38;5;241;43m.\u001b[39;49m\u001b[43mcopy\u001b[49m()\n\u001b[0;32m     12\u001b[0m     \u001b[38;5;28mself\u001b[39m\u001b[38;5;241m.\u001b[39mreturns_df \u001b[38;5;241m=\u001b[39m returns_df\u001b[38;5;241m.\u001b[39mshift(\u001b[38;5;241m-\u001b[39m\u001b[38;5;241m1\u001b[39m) \u001b[38;5;66;03m# shift -1 month to avoid look-ahead bias\u001b[39;00m\n\u001b[0;32m     13\u001b[0m     \u001b[38;5;28mself\u001b[39m\u001b[38;5;241m.\u001b[39mmktcap_df \u001b[38;5;241m=\u001b[39m mktcap_df\n",
      "\u001b[1;31mAttributeError\u001b[0m: 'int' object has no attribute 'copy'"
     ]
    }
   ],
   "source": [
    "DIS_size_bm = DoubleIndependentFactor(F_size_univ, F_bm_univ, monthly_excess_returns, F_size, 'vw', 'monthly')"
   ]
  },
  {
   "cell_type": "markdown",
   "metadata": {},
   "source": [
    "## Devil's in HML's detail \n",
    "\n",
    "- Asness의 주장대로 B/M 계산시 B는 작년 12월을 쓰더라도 M은 최근 6월 주가를 사용\n",
    "- 변경된 B/M 포트폴리오를 통해 결과 재산출"
   ]
  },
  {
   "cell_type": "code",
   "execution_count": null,
   "metadata": {},
   "outputs": [],
   "source": []
  }
 ],
 "metadata": {
  "kernelspec": {
   "display_name": ".venv",
   "language": "python",
   "name": "python3"
  },
  "language_info": {
   "codemirror_mode": {
    "name": "ipython",
    "version": 3
   },
   "file_extension": ".py",
   "mimetype": "text/x-python",
   "name": "python",
   "nbconvert_exporter": "python",
   "pygments_lexer": "ipython3",
   "version": "3.11.5"
  }
 },
 "nbformat": 4,
 "nbformat_minor": 2
}
