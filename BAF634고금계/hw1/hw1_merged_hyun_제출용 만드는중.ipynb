{
 "cells": [
  {
   "cell_type": "code",
   "execution_count": null,
   "id": "f6bf198a",
   "metadata": {
    "colab": {
     "base_uri": "https://localhost:8080/"
    },
    "executionInfo": {
     "elapsed": 21689,
     "status": "ok",
     "timestamp": 1728384032534,
     "user": {
      "displayName": "SungKyu Ko",
      "userId": "10266390755652929266"
     },
     "user_tz": -540
    },
    "id": "BfDUIK2XfENW",
    "outputId": "1a27540b-b296-4400-c70a-99d855750eca"
   },
   "outputs": [],
   "source": [
    "from google.colab import drive\n",
    "drive.mount('/content/drive')"
   ]
  },
  {
   "cell_type": "code",
   "execution_count": null,
   "id": "cb157c1d",
   "metadata": {
    "executionInfo": {
     "elapsed": 3,
     "status": "ok",
     "timestamp": 1728384032535,
     "user": {
      "displayName": "SungKyu Ko",
      "userId": "10266390755652929266"
     },
     "user_tz": -540
    },
    "id": "3cjNFcszfYk5"
   },
   "outputs": [],
   "source": [
    "import os\n",
    "os.chdir(\"/content/drive/MyDrive/고금계\")"
   ]
  },
  {
   "cell_type": "code",
   "execution_count": null,
   "id": "b8952e31",
   "metadata": {
    "executionInfo": {
     "elapsed": 47197,
     "status": "ok",
     "timestamp": 1728384079729,
     "user": {
      "displayName": "SungKyu Ko",
      "userId": "10266390755652929266"
     },
     "user_tz": -540
    },
    "id": "7efaee34-1c13-45ec-b1c6-d999c3268c20"
   },
   "outputs": [],
   "source": [
    "import pandas as pd\n",
    "import numpy as np\n",
    "import matplotlib.pyplot as plt\n",
    "from pathlib import Path\n",
    "from fndata import FnStockData\n",
    "from fndata import FnMarketData\n",
    "import statsmodels.api as sm\n",
    "import pandas as pd\n",
    "import seaborn as sns\n",
    "from pandas.tseries.offsets import MonthEnd\n",
    "\n",
    "import warnings\n",
    "\n",
    "warnings.filterwarnings('ignore')\n",
    "\n",
    "# 지수표기법<>일반표기법 전환. 6자리인 이유는 rf때문\n",
    "pd.set_option('display.float_format', '{:.6f}'.format)\n",
    "\n",
    "CWD = Path('.').resolve()\n",
    "DATA_DIR = CWD / 'data'\n",
    "\n",
    "fndata_path = DATA_DIR / '고금계과제1_v3.3_201301-202408.csv'\n",
    "fnmkt_path = DATA_DIR / '고금계과제_시장수익률_201301-202408.csv'\n",
    "rf_path = DATA_DIR / '통안채1년물_월평균_201301-202408.csv'\n",
    "\n",
    "# 데이터 모듈을 생성하며 기본 전처리들을 수행합니다.\n",
    "fn = FnStockData(fndata_path)\n",
    "\n",
    "# 데이터 모듈을 생성하며 기본 전처리들을 수행합니다.\n",
    "fnmkt = FnMarketData(fnmkt_path)"
   ]
  },
  {
   "cell_type": "code",
   "execution_count": null,
   "id": "a34d3485",
   "metadata": {
    "executionInfo": {
     "elapsed": 4065,
     "status": "ok",
     "timestamp": 1728384083791,
     "user": {
      "displayName": "SungKyu Ko",
      "userId": "10266390755652929266"
     },
     "user_tz": -540
    },
    "id": "7b898adc-1f10-4e70-9b28-f4a3a7af0656"
   },
   "outputs": [],
   "source": [
    "# 주식 데이터 로드\n",
    "stocks_df = fn.get_data()\n",
    "stocks_df = stocks_df.loc[stocks_df.index.get_level_values('date') < '2024-01-31']\n",
    "\n",
    "# 시장 데이터 로드\n",
    "market_df = fnmkt.get_data(format='long', multiindex=True)\n",
    "market_df = market_df.loc[market_df.index.get_level_values('date') < '2024-01-31']\n",
    "\n",
    "# 무위험 이자율 데이터 로드\n",
    "df_rf = pd.read_csv(rf_path)\n",
    "df_rf.columns = ['date', 'rf']\n",
    "df_rf['date'] = pd.to_datetime(df_rf['date'], format='%Y/%m') + pd.offsets.MonthEnd(0)  # 말일로 변경\n",
    "df_rf.set_index('date', inplace=True)\n",
    "df_rf['rf'] = (1 + (df_rf['rf']/100)) ** (1/12) - 1  # 월별 수익률로 변환\n",
    "df_rf = df_rf.loc[df_rf.index < '2024-01-31']\n",
    "\n",
    "# 올해 데이터 제거\n",
    "CUT_DATE = '2023-12-31'\n",
    "stocks_df = stocks_df[stocks_df.index.get_level_values('date') <= CUT_DATE]\n",
    "market_df = market_df[market_df.index.get_level_values('date') <= CUT_DATE]\n",
    "df_rf = df_rf[df_rf.index <= CUT_DATE]\n",
    "\n",
    "# 수익률 정상화: 100 -> 1\n",
    "stocks_df['수익률 (1개월)(%)'] = stocks_df['수익률 (1개월)(%)'] / 100\n",
    "\n",
    "# 컬럼명 변경: '수익률 (1개월)'\n",
    "stocks_df.rename(columns={'수익률 (1개월)(%)': '수익률 (1개월)'}, inplace=True)\n",
    "\n",
    "# 'Symbol'과 'date' 기준으로 데이터프레임 정렬\n",
    "stocks_df = stocks_df.reset_index()\n",
    "stocks_df = stocks_df.sort_values(['Symbol', 'date'])\n",
    "\n",
    "# 각 종목(Symbol)별로 결측값 처리 함수 정의\n",
    "def set_prior_values_to_nan(group):\n",
    "    # '수익률 (1개월)' 열에서 결측값 위치 확인\n",
    "    is_na = group['수익률 (1개월)'].isna()\n",
    "    if is_na.any():\n",
    "        # 결측값이 처음 발생한 위치의 인덱스 찾기\n",
    "        first_nan_index = is_na.idxmax()\n",
    "        # 결측값 발생 시점 이전의 모든 '수익률 (1개월)' 값을 NaN으로 변경\n",
    "        group.loc[group.index < first_nan_index, '수익률 (1개월)'] = np.nan\n",
    "    return group\n",
    "\n",
    "# 그룹별로 함수 적용하여 결측값 처리\n",
    "stocks_df = stocks_df.groupby('Symbol').apply(set_prior_values_to_nan)\n",
    "\n",
    "# 인덱스 재설정 (groupby로 인한 멀티인덱스 제거)\n",
    "stocks_df.reset_index(drop=True, inplace=True)\n",
    "\n",
    "# 시프트할 재무 데이터 컬럼 목록\n",
    "financial_columns = [\n",
    "    '기말발행주식수 (보통)(주)',\n",
    "    '보통주자본금(천원)',\n",
    "    '자본잉여금(천원)',\n",
    "    '이익잉여금(천원)',\n",
    "    '자기주식(천원)',\n",
    "    '이연법인세부채(천원)',\n",
    "    '영업이익(천원)',\n",
    "    '매출액(천원)',\n",
    "    '매출원가(천원)',\n",
    "    '이자비용(천원)',\n",
    "    '총자산(천원)'\n",
    "]\n",
    "\n",
    "# 1. 인덱스 재설정 및 데이터프레임 정렬\n",
    "stocks_df = stocks_df.sort_values(['Symbol', 'date'])\n",
    "\n",
    "# 2. 'Symbol'을 인덱스로 설정\n",
    "stocks_df.set_index('Symbol', inplace=True)\n",
    "\n",
    "# 3. 각 재무 데이터 컬럼에 대해 그룹별로 6개월 시프트 적용\n",
    "for col in financial_columns:\n",
    "    stocks_df[col + '_lag'] = stocks_df.groupby(level='Symbol')[col].shift(6)\n",
    "\n",
    "# 4. 인덱스 재설정\n",
    "stocks_df.reset_index(inplace=True)\n",
    "\n",
    "# 멀티인덱스를 'date'와 'Symbol' 순서로 설정\n",
    "stocks_df.set_index(['date', 'Symbol'], inplace=True)\n",
    "stocks_df = stocks_df.sort_index(level=['date', 'Symbol'])"
   ]
  },
  {
   "cell_type": "code",
   "execution_count": null,
   "id": "6cd7c25d",
   "metadata": {
    "colab": {
     "base_uri": "https://localhost:8080/",
     "height": 735
    },
    "executionInfo": {
     "elapsed": 6,
     "status": "ok",
     "timestamp": 1728384083792,
     "user": {
      "displayName": "SungKyu Ko",
      "userId": "10266390755652929266"
     },
     "user_tz": -540
    },
    "id": "70797981-c45c-43e1-bb0c-6df5d631968e",
    "jupyter": {
     "source_hidden": true
    },
    "outputId": "1a50ac1c-d7b5-46d3-f96f-fe059226571d"
   },
   "outputs": [],
   "source": [
    "stocks_df"
   ]
  },
  {
   "cell_type": "code",
   "execution_count": null,
   "id": "024c686f",
   "metadata": {
    "colab": {
     "base_uri": "https://localhost:8080/"
    },
    "executionInfo": {
     "elapsed": 590,
     "status": "ok",
     "timestamp": 1728384084377,
     "user": {
      "displayName": "SungKyu Ko",
      "userId": "10266390755652929266"
     },
     "user_tz": -540
    },
    "id": "52d6affd-6ae3-462b-85c6-7b9ffef5cbb6",
    "jupyter": {
     "source_hidden": true
    },
    "outputId": "bfade8cb-57c2-4be0-f867-698600e75836"
   },
   "outputs": [],
   "source": [
    "# 각 날짜별로 '수익률 (1개월)' 열에서 결측치를 가진 Symbol의 수를 계산합니다.\n",
    "missing_counts = stocks_df['수익률 (1개월)'].isna().groupby(level='date').sum()\n",
    "\n",
    "# 각 날짜별 전체 Symbol의 수를 계산합니다.\n",
    "total_counts = stocks_df.groupby('date').size()\n",
    "\n",
    "# 결과를 하나의 데이터프레임으로 합칩니다.\n",
    "result_df = pd.DataFrame({\n",
    "    '전체 Symbol 수': total_counts,\n",
    "    '결측값을 가진 Symbol 수': missing_counts\n",
    "})\n",
    "\n",
    "# 결측값 비율을 계산합니다.\n",
    "result_df['결측값 비율'] = result_df['결측값을 가진 Symbol 수'] / result_df['전체 Symbol 수']\n",
    "\n",
    "# 결과를 출력합니다.\n",
    "print(result_df)"
   ]
  },
  {
   "cell_type": "markdown",
   "id": "ff3655da",
   "metadata": {
    "id": "ee2134db-4dd8-4f53-92bf-5ce23f53746f"
   },
   "source": [
    "# Market cap"
   ]
  },
  {
   "cell_type": "code",
   "execution_count": null,
   "id": "de76cc80",
   "metadata": {
    "colab": {
     "base_uri": "https://localhost:8080/",
     "height": 490
    },
    "executionInfo": {
     "elapsed": 1363,
     "status": "ok",
     "timestamp": 1728384085738,
     "user": {
      "displayName": "SungKyu Ko",
      "userId": "10266390755652929266"
     },
     "user_tz": -540
    },
    "id": "64b77aaf-da0b-4cb0-8f50-d1aec93a7dea",
    "outputId": "4a81b921-8c60-4614-d2db-e7674301364e"
   },
   "outputs": [],
   "source": [
    "# 발행주식 데이터(보통주) : 시가총액 계산 시 시프트된 발행주식수를 사용합니다.\n",
    "stocks_df['Market cap'] = stocks_df['종가(원)'] * stocks_df['기말발행주식수 (보통)(주)_lag']\n",
    "\n",
    "# 장부가치 계산: 시프트된 재무 데이터를 사용하여 선행편향을 방지합니다.\n",
    "stocks_df['Bookvalue'] = (\n",
    "    stocks_df['보통주자본금(천원)_lag'] +\n",
    "    stocks_df['자본잉여금(천원)_lag'].fillna(0) +\n",
    "    stocks_df['이익잉여금(천원)_lag'].fillna(0) +\n",
    "    stocks_df['자기주식(천원)_lag'].fillna(0) +\n",
    "    stocks_df['이연법인세부채(천원)_lag'].fillna(0)\n",
    ")\n",
    "\n",
    "# BM (Book-to-Market Ratio) 계산\n",
    "stocks_df['BM'] = stocks_df['Bookvalue'] / stocks_df['Market cap']\n",
    "\n",
    "# BM 결측값이 있는 행 제거\n",
    "stocks_df.dropna(subset=['BM'], inplace=True)\n",
    "\n",
    "# BM 분위수 계산 함수 수정\n",
    "def qcut_BM(x):\n",
    "    if x.dropna().empty:\n",
    "        return pd.Series(np.nan, index=x.index)\n",
    "    try:\n",
    "        return pd.qcut(x, [0, 0.3, 0.7, 1.0], labels=['Growth', 'Neutral', 'Value'])\n",
    "    except (ValueError, IndexError):\n",
    "        return pd.Series(np.nan, index=x.index)\n",
    "\n",
    "# 날짜별로 BM 분위수 계산\n",
    "stocks_df['bm_quantiles'] = stocks_df.groupby('date')['BM'].transform(qcut_BM)\n",
    "\n",
    "# OP (Operating Profitability) 계산: 시프트된 영업이익을 사용하여 선행편향을 방지합니다.\n",
    "stocks_df['OP'] = stocks_df['영업이익(천원)_lag'].fillna(0) / stocks_df['Bookvalue']\n",
    "\n",
    "# OP 분위수 계산 함수\n",
    "def qcut_OP(x):\n",
    "    try:\n",
    "        return pd.qcut(x, [0, 0.3, 0.7, 1.0], labels=['Weak', 'Neutral', 'Robust'])\n",
    "    except (ValueError, IndexError):\n",
    "        return pd.Series(np.nan, index=x.index)\n",
    "\n",
    "# 날짜별로 OP 분위수 계산\n",
    "stocks_df['OP_quantiles'] = stocks_df.groupby('date')['OP'].transform(qcut_OP)\n",
    "stocks_df['OP_quantiles']"
   ]
  },
  {
   "cell_type": "code",
   "execution_count": null,
   "id": "4ca0c229",
   "metadata": {
    "colab": {
     "base_uri": "https://localhost:8080/",
     "height": 455
    },
    "executionInfo": {
     "elapsed": 8,
     "status": "ok",
     "timestamp": 1728384085738,
     "user": {
      "displayName": "SungKyu Ko",
      "userId": "10266390755652929266"
     },
     "user_tz": -540
    },
    "id": "ce565ce1-5655-4b59-b779-68a44502dd83",
    "outputId": "690e3577-b81a-4559-de8a-e697bdae3757"
   },
   "outputs": [],
   "source": [
    "'''\n",
    "MKF2000 사용함.\n",
    "'''\n",
    "market_df = market_df.xs('MKF2000', level='Symbol Name')\n",
    "market_df.columns = ['mkt']\n",
    "market_df= pd.concat([market_df, df_rf], axis=1)\n",
    "market_df['mkt_rf'] = market_df['mkt'] - market_df['rf']\n",
    "market_df"
   ]
  },
  {
   "cell_type": "code",
   "execution_count": null,
   "id": "f5ed69e8",
   "metadata": {
    "colab": {
     "base_uri": "https://localhost:8080/",
     "height": 490
    },
    "executionInfo": {
     "elapsed": 620,
     "status": "ok",
     "timestamp": 1728384086352,
     "user": {
      "displayName": "SungKyu Ko",
      "userId": "10266390755652929266"
     },
     "user_tz": -540
    },
    "id": "eda9fa7d-085b-488c-858a-69ce2c53a343",
    "outputId": "75fdc7a2-fd88-4b70-9183-dd7ad4af47da"
   },
   "outputs": [],
   "source": [
    "# B/M에 따른 SMB 계산\n",
    "\n",
    "# 'size_quantiles' 계산 (시가총액을 기준으로 Small, Big 분류)\n",
    "stocks_df['size_quantiles'] = stocks_df.groupby('date')['Market cap'].transform(\n",
    "    lambda x: pd.qcut(x, 2, labels=['Small', 'Big'])\n",
    ")\n",
    "\n",
    "# BM 분위수별 평균 수익률 계산\n",
    "df_smb_bm = stocks_df.groupby(['date', 'size_quantiles', 'bm_quantiles'])['수익률 (1개월)'].mean().unstack(['size_quantiles', 'bm_quantiles'])\n",
    "\n",
    "# 작은 규모 기업의 평균 수익률 계산\n",
    "small_bm_avg = (\n",
    "    df_smb_bm[('Small', 'Value')] +\n",
    "    df_smb_bm[('Small', 'Neutral')] +\n",
    "    df_smb_bm[('Small', 'Growth')]\n",
    ")\n",
    "\n",
    "# 큰 규모 기업의 평균 수익률 계산\n",
    "big_bm_avg = (\n",
    "    df_smb_bm[('Big', 'Value')] +\n",
    "    df_smb_bm[('Big', 'Neutral')] +\n",
    "    df_smb_bm[('Big', 'Growth')]\n",
    ")\n",
    "\n",
    "# BM에 따른 SMB 계산\n",
    "smb_bm = (small_bm_avg / 3) - (big_bm_avg / 3)\n",
    "\n",
    "# OP에 따른 SMB 계산\n",
    "df_smb_op = stocks_df.groupby(['date', 'size_quantiles', 'OP_quantiles'])['수익률 (1개월)'].mean().unstack(['size_quantiles', 'OP_quantiles'])\n",
    "\n",
    "# 작은 규모 기업의 평균 수익률 계산\n",
    "small_op_avg = (\n",
    "    df_smb_op[('Small', 'Robust')] +\n",
    "    df_smb_op[('Small', 'Neutral')] +\n",
    "    df_smb_op[('Small', 'Weak')]\n",
    ")\n",
    "\n",
    "# 큰 규모 기업의 평균 수익률 계산\n",
    "big_op_avg = (\n",
    "    df_smb_op[('Big', 'Robust')] +\n",
    "    df_smb_op[('Big', 'Neutral')] +\n",
    "    df_smb_op[('Big', 'Weak')]\n",
    ")\n",
    "\n",
    "# OP에 따른 SMB 계산\n",
    "smb_op = (small_op_avg / 3) - (big_op_avg / 3)\n",
    "\n",
    "# INV에 따른 SMB 계산 (투자율 기준)\n",
    "\n",
    "# 총자산 변화율로 INV 계산 (시프트된 총자산 데이터를 사용하여 선행편향 방지)\n",
    "# YOY 계산이므로 첫 1년의 smb_inv 값은 NaN이 됨\n",
    "stocks_df['INV'] = stocks_df.groupby('Symbol')['총자산(천원)_lag'].pct_change(12)\n",
    "\n",
    "# INV에 따라 'Conservative', 'Neutral', 'Aggressive'로 분류\n",
    "def qcut_INV(x):\n",
    "    if x.dropna().empty:\n",
    "        return pd.Series(np.nan, index=x.index)\n",
    "    try:\n",
    "        # 투자 증가율이 낮은 기업을 'Conservative', 높은 기업을 'Aggressive'로 분류\n",
    "        return pd.qcut(x, [0, 0.3, 0.7, 1.0], labels=['Conservative', 'Neutral', 'Aggressive'])\n",
    "    except (ValueError, IndexError):\n",
    "        return pd.Series(np.nan, index=x.index)\n",
    "\n",
    "stocks_df['inv_quantiles'] = stocks_df.groupby('date')['INV'].transform(qcut_INV)\n",
    "\n",
    "df_smb_inv = stocks_df.groupby(['date', 'size_quantiles', 'inv_quantiles'])['수익률 (1개월)'].mean().unstack(['size_quantiles', 'inv_quantiles'])\n",
    "\n",
    "# 작은 규모 기업의 평균 수익률 계산\n",
    "small_inv_avg = (\n",
    "    df_smb_inv[('Small', 'Conservative')] +\n",
    "    df_smb_inv[('Small', 'Neutral')] +\n",
    "    df_smb_inv[('Small', 'Aggressive')]\n",
    ")\n",
    "\n",
    "# 큰 규모 기업의 평균 수익률 계산\n",
    "big_inv_avg = (\n",
    "    df_smb_inv[('Big', 'Conservative')] +\n",
    "    df_smb_inv[('Big', 'Neutral')] +\n",
    "    df_smb_inv[('Big', 'Aggressive')]\n",
    ")\n",
    "\n",
    "# INV에 따른 SMB 계산\n",
    "smb_inv = (small_inv_avg / 3) - (big_inv_avg / 3)\n",
    "\n",
    "# 최종 SMB 계산\n",
    "# smb_inv가 NaN인 기간(초기 1년)은 smb_bm과 smb_op의 평균으로 SMB 계산\n",
    "# smb_inv가 존재하는 기간은 smb_bm, smb_op, smb_inv의 평균으로 SMB 계산\n",
    "smb = pd.Series(index=smb_bm.index, dtype='float64')\n",
    "\n",
    "# smb_inv가 NaN이 아닌 기간에 대해 SMB 계산\n",
    "smb.loc[smb_inv.notna()] = ((smb_bm + smb_op + smb_inv) / 3).loc[smb_inv.notna()]\n",
    "\n",
    "# smb_inv가 NaN인 기간에 대해 SMB 계산 (smb_bm과 smb_op의 평균)\n",
    "smb.loc[smb_inv.isna()] = ((smb_bm + smb_op) / 2).loc[smb_inv.isna()]\n",
    "\n",
    "# 결과 출력\n",
    "smb"
   ]
  },
  {
   "cell_type": "code",
   "execution_count": null,
   "id": "6a05dc69",
   "metadata": {
    "colab": {
     "base_uri": "https://localhost:8080/",
     "height": 490
    },
    "executionInfo": {
     "elapsed": 7,
     "status": "ok",
     "timestamp": 1728384086352,
     "user": {
      "displayName": "SungKyu Ko",
      "userId": "10266390755652929266"
     },
     "user_tz": -540
    },
    "id": "HOiVfLYSnkTT",
    "outputId": "7e777995-68ef-4ed4-c3cc-309b201cae87"
   },
   "outputs": [],
   "source": [
    "# HML (High Minus Low) 계산\n",
    "# B/M (Book-to-Market) 비율에 따른 수익률을 사용하여 HML 계산\n",
    "\n",
    "# BM 분위수별로 '수익률 (1개월)'의 평균을 계산하고, 사이즈와 BM 분위수별로 나눔\n",
    "df_hml = stocks_df.groupby(['date', 'size_quantiles', 'bm_quantiles'])['수익률 (1개월)'].mean().unstack(['size_quantiles', 'bm_quantiles'])\n",
    "# Value (고 BM) 주식의 수익률 계산 (Small과 Big 합산)\n",
    "high_hml = df_hml[('Small', 'Value')] + df_hml[('Big', 'Value')]\n",
    "# Growth (저 BM) 주식의 수익률 계산 (Small과 Big 합산)\n",
    "low_hml = df_hml[('Small', 'Growth')] + df_hml[('Big', 'Growth')]\n",
    "# HML 계산 (Value 주식 수익률 - Growth 주식 수익률) / 2\n",
    "hml = (high_hml - low_hml) / 2\n",
    "\n",
    "# 결과 출력\n",
    "hml"
   ]
  },
  {
   "cell_type": "code",
   "execution_count": null,
   "id": "a4c0b145",
   "metadata": {
    "colab": {
     "base_uri": "https://localhost:8080/",
     "height": 490
    },
    "executionInfo": {
     "elapsed": 7,
     "status": "ok",
     "timestamp": 1728384086353,
     "user": {
      "displayName": "SungKyu Ko",
      "userId": "10266390755652929266"
     },
     "user_tz": -540
    },
    "id": "diuV8uRjoo8d",
    "outputId": "858d1a23-1da8-443b-d300-2ba3bf0af3db"
   },
   "outputs": [],
   "source": [
    "df_rmv = stocks_df.groupby(['date', 'size_quantiles', 'OP_quantiles'])['수익률 (1개월)'].mean().unstack(['size_quantiles', 'OP_quantiles'])\n",
    "\n",
    "high_rmw = df_rmv[('Small', 'Robust')] + df_rmv[('Big', 'Robust')]\n",
    "low_rmw = df_rmv[('Small', 'Weak')] + df_rmv[('Big', 'Weak')]\n",
    "\n",
    "rmw = (high_rmw - low_rmw) / 2\n",
    "rmw"
   ]
  },
  {
   "cell_type": "code",
   "execution_count": null,
   "id": "c12dd452",
   "metadata": {
    "colab": {
     "base_uri": "https://localhost:8080/",
     "height": 490
    },
    "executionInfo": {
     "elapsed": 3034,
     "status": "ok",
     "timestamp": 1728384089381,
     "user": {
      "displayName": "SungKyu Ko",
      "userId": "10266390755652929266"
     },
     "user_tz": -540
    },
    "id": "URP_0F9fopct",
    "outputId": "5d425aa4-b165-409d-a78e-12e6fc966090"
   },
   "outputs": [],
   "source": [
    "# 데이터 정렬 (종목(Symbol)과 날짜(date) 기준)\n",
    "stocks_df = stocks_df.sort_values(['Symbol', 'date'])\n",
    "\n",
    "# 투자율(invest) 계산: 각 종목별로 전년 대비 변화율 계산\n",
    "stocks_df['invest'] = stocks_df.groupby('Symbol')['총자산(천원)_lag'].transform(lambda x: (x - x.shift(12)) / x.shift(12))\n",
    "\n",
    "# NaN 및 무한대 값 처리\n",
    "stocks_df['invest'].replace([np.inf, -np.inf], np.nan, inplace=True)\n",
    "\n",
    "# 투자율에 따라 분위수 분류\n",
    "def qcut_invest(x):\n",
    "    try:\n",
    "        return pd.qcut(x, [0, 0.3, 0.7, 1.0], labels=['Conservative', 'Neutral', 'Aggressive'])\n",
    "    except (ValueError, IndexError):  # ValueError와 IndexError 모두 처리\n",
    "        return pd.Series(np.nan, index=x.index)\n",
    "\n",
    "# 투자율 분위수 계산 (날짜별로 그룹화)\n",
    "stocks_df['invest_quantiles'] = stocks_df.groupby('date')['invest'].transform(qcut_invest)\n",
    "\n",
    "# CMA 데이터프레임 생성\n",
    "cma_data = stocks_df.groupby(['date', 'size_quantiles', 'invest_quantiles'])['수익률 (1개월)'].mean().unstack(['size_quantiles', 'invest_quantiles'])\n",
    "\n",
    "# 필요한 컬럼 존재 여부 확인 및 NaN 처리\n",
    "expected_columns = [\n",
    "    ('Small', 'Conservative'), ('Small', 'Aggressive'),\n",
    "    ('Big', 'Conservative'), ('Big', 'Aggressive')\n",
    "]\n",
    "\n",
    "for col in expected_columns:\n",
    "    if col not in cma_data.columns:\n",
    "        cma_data[col] = np.nan\n",
    "\n",
    "# Conservative (낮은 투자율) 주식의 수익률 계산 (Small과 Big 합산)\n",
    "low_invest = cma_data[('Small', 'Conservative')] + cma_data[('Big', 'Conservative')]\n",
    "\n",
    "# Aggressive (높은 투자율) 주식의 수익률 계산 (Small과 Big 합산)\n",
    "high_invest = cma_data[('Small', 'Aggressive')] + cma_data[('Big', 'Aggressive')]\n",
    "\n",
    "# CMA 계산 (Conservative 주식 수익률 - Aggressive 주식 수익률) / 2\n",
    "cma = (low_invest - high_invest) / 2\n",
    "\n",
    "# 결과 출력\n",
    "cma"
   ]
  },
  {
   "cell_type": "code",
   "execution_count": null,
   "id": "966718fe",
   "metadata": {
    "colab": {
     "base_uri": "https://localhost:8080/",
     "height": 455
    },
    "executionInfo": {
     "elapsed": 2700,
     "status": "ok",
     "timestamp": 1728384092078,
     "user": {
      "displayName": "SungKyu Ko",
      "userId": "10266390755652929266"
     },
     "user_tz": -540
    },
    "id": "lBqc7a3OrVRh",
    "outputId": "f4d58f8a-4423-4bad-e815-8c984e415541"
   },
   "outputs": [],
   "source": [
    "# 모멘텀(Momentum) 계산: 각 종목별로 12개월 전 대비 1개월 전의 가격 변동률 계산\n",
    "stocks_df['Momentum'] = stocks_df.groupby('Symbol')['수정주가(원)'].transform(lambda x: (x.shift(1) - x.shift(12)) / x.shift(12))\n",
    "\n",
    "# 모멘텀 분위수 분류 함수 정의\n",
    "def qcut_momentum(x):\n",
    "    try:\n",
    "        return pd.qcut(x, [0, 0.3, 0.7, 1.0], labels=['Loser', 'Middle', 'Winner'])\n",
    "    except (ValueError, IndexError):\n",
    "        return pd.Series(np.nan, index=x.index)\n",
    "\n",
    "# 날짜별로 모멘텀 분위수 계산\n",
    "stocks_df['Momentum_rank'] = stocks_df.groupby('date')['Momentum'].transform(qcut_momentum)\n",
    "\n",
    "# '수익률 (1개월)(%)' 컬럼명을 '수익률 (1개월)'로 이미 변경하였으므로, 해당 컬럼명 사용\n",
    "# 모멘텀 분위수별 평균 수익률 계산\n",
    "umd = stocks_df.groupby(['date', 'Momentum_rank'])['수익률 (1개월)'].mean().unstack()\n",
    "\n",
    "# 모멘텀 포트폴리오 수익률 계산 (Winner - Loser)\n",
    "umd['WML'] = umd['Winner'] - umd['Loser']\n",
    "\n",
    "# 결과 출력\n",
    "umd"
   ]
  },
  {
   "cell_type": "code",
   "execution_count": null,
   "id": "20a9de54",
   "metadata": {
    "colab": {
     "base_uri": "https://localhost:8080/",
     "height": 455
    },
    "executionInfo": {
     "elapsed": 4264,
     "status": "ok",
     "timestamp": 1728384096339,
     "user": {
      "displayName": "SungKyu Ko",
      "userId": "10266390755652929266"
     },
     "user_tz": -540
    },
    "id": "_SIJKXiWsfUr",
    "outputId": "d2fddbce-fae1-46a7-f8b2-18b0d641275d"
   },
   "outputs": [],
   "source": [
    "# 1개월 수익률 계산: 각 종목별로 월별 수익률 계산\n",
    "stocks_df['1M_Return'] = stocks_df.groupby('Symbol')['수정주가(원)'].transform(lambda x: x.pct_change())\n",
    "\n",
    "# 리버설 분위수 분류 함수 정의\n",
    "def qcut_reversal(x):\n",
    "    try:\n",
    "        return pd.qcut(x, [0, 0.3, 0.7, 1.0], labels=['Winner', 'Middle', 'Loser'])\n",
    "    except (ValueError, IndexError):\n",
    "        return pd.Series(np.nan, index=x.index)\n",
    "\n",
    "# 날짜별로 리버설 분위수 계산\n",
    "stocks_df['Reversal_rank'] = stocks_df.groupby('date')['1M_Return'].transform(qcut_reversal)\n",
    "\n",
    "# 리버설 분위수별 평균 수익률 계산\n",
    "str_df = stocks_df.groupby(['date', 'Reversal_rank'])['수익률 (1개월)'].mean().unstack()\n",
    "\n",
    "# 리버설 포트폴리오 수익률 계산 (Winner - Loser)\n",
    "str_df['WML'] = str_df['Winner'] - str_df['Loser']\n",
    "\n",
    "# 데이터 정렬 - 원복\n",
    "stocks_df = stocks_df.sort_values(['date', 'Symbol'])\n",
    "\n",
    "# 결과 출력\n",
    "str_df"
   ]
  },
  {
   "cell_type": "markdown",
   "id": "7690ce54",
   "metadata": {
    "id": "0ab8ff47-53ae-4682-8485-bb346df3eaa4"
   },
   "source": [
    "# 5*5 만들기(independent, dependent 택1)"
   ]
  },
  {
   "cell_type": "code",
   "execution_count": null,
   "id": "ee128000",
   "metadata": {
    "colab": {
     "base_uri": "https://localhost:8080/",
     "height": 490
    },
    "executionInfo": {
     "elapsed": 5,
     "status": "ok",
     "timestamp": 1728384096339,
     "user": {
      "displayName": "SungKyu Ko",
      "userId": "10266390755652929266"
     },
     "user_tz": -540
    },
    "id": "PTaKGh0n4aJ_",
    "outputId": "f4cffb08-0c48-4488-db7b-26b6db6cd580"
   },
   "outputs": [],
   "source": [
    "#indenpendent doublesort\n",
    "stocks_df['size_quantiles_by5'] = pd.qcut(stocks_df['Market cap'], 5, labels=['Small', '2', '3', '4', 'Big'])\n",
    "# stocks_df['size_quantiles_by5']\n",
    "def qcut_BM_by5(x):\n",
    "    try:\n",
    "        return pd.qcut(x, 5, labels=['Low', '2', '3', '4', 'High'])\n",
    "    except (ValueError, IndexError):  # ValueError와 IndexError 모두 처리\n",
    "        return pd.Series(np.nan, index=x.index)\n",
    "stocks_df['bm_quantiles_by5'] = stocks_df.groupby('date')['BM'].transform(qcut_BM_by5)\n",
    "stocks_df['bm_quantiles_by5']"
   ]
  },
  {
   "cell_type": "code",
   "execution_count": null,
   "id": "0d4f4d25",
   "metadata": {
    "executionInfo": {
     "elapsed": 1808,
     "status": "ok",
     "timestamp": 1728384098143,
     "user": {
      "displayName": "SungKyu Ko",
      "userId": "10266390755652929266"
     },
     "user_tz": -540
    },
    "id": "HuPmHa6G4tnJ"
   },
   "outputs": [],
   "source": [
    "stocks_df['excess_rets'] = stocks_df['수익률 (1개월)'] - df_rf['rf'] # 2024-09-19 빼고는 존재함????\n",
    "portfolios = stocks_df.groupby(['date', 'size_quantiles_by5', 'bm_quantiles_by5']).apply(\n",
    "    lambda group: group['excess_rets'].mean(skipna=True)\n",
    "    ).unstack(level=['size_quantiles_by5', 'bm_quantiles_by5'])"
   ]
  },
  {
   "cell_type": "code",
   "execution_count": null,
   "id": "6f619f94",
   "metadata": {
    "colab": {
     "base_uri": "https://localhost:8080/",
     "height": 455
    },
    "executionInfo": {
     "elapsed": 9,
     "status": "ok",
     "timestamp": 1728384098143,
     "user": {
      "displayName": "SungKyu Ko",
      "userId": "10266390755652929266"
     },
     "user_tz": -540
    },
    "id": "kWOrCZBv4_sb",
    "outputId": "b363dc77-b781-4def-f39a-51349213ff52"
   },
   "outputs": [],
   "source": [
    "_3factors = pd.DataFrame({\n",
    "    'Mkt_RF': market_df['mkt_rf'],\n",
    "    'SMB': smb,\n",
    "    'HML': hml,\n",
    "    'RF' : df_rf['rf'],\n",
    "    'UMD': umd['WML']\n",
    "    })\n",
    "_3factors.dropna(how='all', inplace=True)\n",
    "_3factors"
   ]
  },
  {
   "cell_type": "code",
   "execution_count": null,
   "id": "306df5b1",
   "metadata": {
    "colab": {
     "base_uri": "https://localhost:8080/",
     "height": 455
    },
    "executionInfo": {
     "elapsed": 7,
     "status": "ok",
     "timestamp": 1728384098143,
     "user": {
      "displayName": "SungKyu Ko",
      "userId": "10266390755652929266"
     },
     "user_tz": -540
    },
    "id": "oXgkQclL7KZJ",
    "outputId": "3413f5f4-fbe5-46dd-8030-062c6d351333"
   },
   "outputs": [],
   "source": [
    "_5factors = pd.DataFrame({\n",
    "    'Mkt_RF': market_df['mkt_rf'],\n",
    "    'SMB': smb,\n",
    "    'HML': hml,\n",
    "    'RMW': rmw,\n",
    "    'CMA': cma,\n",
    "    'RF' : df_rf['rf'],\n",
    "    'UMD': umd['WML'],\n",
    "    'STR': str_df['WML']\n",
    "})\n",
    "_5factors.dropna(how='all', inplace=True)\n",
    "_5factors"
   ]
  },
  {
   "cell_type": "code",
   "execution_count": null,
   "id": "b35c5127",
   "metadata": {
    "executionInfo": {
     "elapsed": 645,
     "status": "ok",
     "timestamp": 1728385230054,
     "user": {
      "displayName": "SungKyu Ko",
      "userId": "10266390755652929266"
     },
     "user_tz": -540
    },
    "id": "j2s0h_HAxwGs"
   },
   "outputs": [],
   "source": [
    "_5factors.to_excel (\"/content/drive/MyDrive/고금계/5factors.xlsx\")"
   ]
  },
  {
   "cell_type": "code",
   "execution_count": null,
   "id": "869fba8b",
   "metadata": {
    "colab": {
     "base_uri": "https://localhost:8080/",
     "height": 300
    },
    "executionInfo": {
     "elapsed": 6,
     "status": "ok",
     "timestamp": 1728384098143,
     "user": {
      "displayName": "SungKyu Ko",
      "userId": "10266390755652929266"
     },
     "user_tz": -540
    },
    "id": "LoyAHhSi7Mf4",
    "outputId": "89fe1476-d010-4b34-a440-c343dc35c6f8"
   },
   "outputs": [],
   "source": [
    "_5factors.describe()"
   ]
  },
  {
   "cell_type": "code",
   "execution_count": null,
   "id": "3a4fc11f",
   "metadata": {
    "executionInfo": {
     "elapsed": 2373,
     "status": "ok",
     "timestamp": 1728384100510,
     "user": {
      "displayName": "SungKyu Ko",
      "userId": "10266390755652929266"
     },
     "user_tz": -540
    },
    "id": "74ee02a5-217c-4478-9730-f0059bf16103"
   },
   "outputs": [],
   "source": [
    "def double_sorting(df, size_col, bm_col, method='independent'):\n",
    "    if method == 'independent':\n",
    "        # Independent double sorting: 각 변수를 독립적으로 소팅\n",
    "        df['size_sorted'] = df.groupby('date')[size_col].transform(lambda x: pd.qcut(x, 5, labels=[1,2,3,4, 5]))\n",
    "        df['bm_sorted'] = df.groupby('date')[bm_col].transform(lambda x: pd.qcut(x, 5, labels=[1,2,3,4,5]))\n",
    "    elif method == 'dependent':\n",
    "        # Dependent double sorting: Size로 먼저 소팅 후, BM으로 다시 소팅\n",
    "        df['size_sorted'] = df.groupby('date')[size_col].transform(lambda x: pd.qcut(x, 5, labels=[1,2,3,4, 5]))\n",
    "        df['bm_sorted'] = df.groupby(['date', 'size_sorted'])[bm_col].transform(lambda x: pd.qcut(x, 5, labels=[1,2,3,4, 5]))\n",
    "\n",
    "        # df['bm_sorted'] = df.groupby('date')[bm_col].transform(lambda x: pd.qcut(x, 5, labels=[1,2,3,4, 5]))\n",
    "        # df['size_sorted'] = df.groupby(['date', 'bm_sorted'])[size_col].transform(lambda x: pd.qcut(x, 5, labels=[1,2,3,4,5]))\n",
    "\n",
    "    else:\n",
    "        raise ValueError(\"method는 'independent' 또는 'dependent' 중 하나여야 합니다.\")\n",
    "\n",
    "    return df\n",
    "\n",
    "# 사용 예시\n",
    "stocks_df = double_sorting(stocks_df, 'Market cap', 'BM', method='dependent')"
   ]
  },
  {
   "cell_type": "code",
   "execution_count": null,
   "id": "c51cdb95",
   "metadata": {
    "colab": {
     "base_uri": "https://localhost:8080/",
     "height": 237
    },
    "executionInfo": {
     "elapsed": 3079,
     "status": "ok",
     "timestamp": 1728385482977,
     "user": {
      "displayName": "SungKyu Ko",
      "userId": "10266390755652929266"
     },
     "user_tz": -540
    },
    "id": "Pz-AQ38MHxnL",
    "outputId": "d13603b7-dd1b-4451-c455-2eb7fdcb5cda"
   },
   "outputs": [],
   "source": [
    "import pandas as pd\n",
    "import numpy as np\n",
    "import matplotlib.pyplot as plt\n",
    "from sklearn.linear_model import LinearRegression\n",
    "import plotly.express as px\n",
    "import plotly.graph_objects as go\n",
    "import statsmodels.api as sm\n",
    "\n",
    "# stocks_df와 market_df를 결합하여 mkt_rf를 stocks_df에 추가\n",
    "def merge_market_and_stocks(stocks_df, market_df):\n",
    "    # 'date' 열을 기준으로 market_df와 병합\n",
    "    merged_df = pd.merge(stocks_df, market_df[['mkt_rf']], left_index=True, right_index=True, how='left')\n",
    "    return merged_df\n",
    "\n",
    "# 포트폴리오 키 생성 함수\n",
    "def add_portfolio_key(df):\n",
    "    df['portfolio_key'] = df['size_sorted'].astype(object)*10 + df['bm_sorted'].astype(object)\n",
    "    return df\n",
    "\n",
    "# 멀티인덱스에서 날짜만 추출\n",
    "def get_unique_dates(df):\n",
    "    return df.index.get_level_values(0).unique()\n",
    "\n",
    "# Fama-MacBeth 회귀분석 함수 (결측값 처리 추가)\n",
    "def fama_macbeth_regression(df, factors):\n",
    "    betas = []\n",
    "    t_values = []\n",
    "\n",
    "    # 시점별로 크로스 섹션 회귀 수행\n",
    "    for date in df.index.get_level_values(0).unique():\n",
    "        df_date = df.loc[date]\n",
    "\n",
    "        # 결측값(NaN) 제거\n",
    "        df_date = df_date.dropna(subset=factors + ['수익률 (1개월)'])\n",
    "\n",
    "        X = df_date[factors].values  # 요인 변수들\n",
    "        y = df_date['수익률 (1개월)'].values  # 개별 자산의 수익률\n",
    "\n",
    "        if len(y) > 0:  # y가 비어있지 않을 때만 회귀 분석 실행\n",
    "            # 회귀분석 모델\n",
    "            reg = LinearRegression().fit(X, y)\n",
    "            betas.append(reg.coef_)  # 회귀계수 저장\n",
    "\n",
    "            # 잔차 및 t값 계산\n",
    "            residuals = y - reg.predict(X)\n",
    "            sigma = np.sqrt(np.var(residuals))\n",
    "            t = reg.coef_ / (sigma / np.sqrt(len(X)))  # t값 계산\n",
    "            t_values.append(t)\n",
    "\n",
    "    # 각 시점별 회귀계수의 평균 계산\n",
    "    avg_betas = np.mean(betas, axis=0)\n",
    "    avg_t_values = np.mean(t_values, axis=0)\n",
    "\n",
    "    return avg_betas, avg_t_values\n",
    "\n",
    "# 누적 수익률 계산\n",
    "def backtest_portfolio(df, rebalancing_period='M'):\n",
    "    unique_dates = get_unique_dates(df)\n",
    "    rebalanced_dates = pd.date_range(start=unique_dates.min(), end=unique_dates.max(), freq=rebalancing_period)\n",
    "\n",
    "    portfolio_returns = {}\n",
    "    cumulative_returns = {}\n",
    "\n",
    "    # Initialize portfolios for all 5x5 combinations\n",
    "    sizes = [1, 2, 3, 4, 5]\n",
    "    bms = [1, 2, 3, 4, 5]\n",
    "    for size in sizes:\n",
    "        for bm in bms:\n",
    "            portfolio_key = f'{size}_{bm}'\n",
    "            portfolio_returns[portfolio_key] = []\n",
    "\n",
    "    # Calculate portfolio returns over time\n",
    "    for date in rebalanced_dates:\n",
    "        df_rebalanced = df.loc[(date,), :]\n",
    "\n",
    "        for size in sizes:\n",
    "            for bm in bms:\n",
    "                portfolio_key = f'{size}_{bm}'\n",
    "                portfolio_df = df_rebalanced[(df_rebalanced['size_sorted'] == size) & (df_rebalanced['bm_sorted'] == bm)]\n",
    "\n",
    "                portfolio_return = portfolio_df['수익률 (1개월)'].mean() / 100\n",
    "                portfolio_returns[portfolio_key].append(portfolio_return)\n",
    "\n",
    "    # Calculate cumulative returns for each portfolio\n",
    "    for portfolio_key, returns in portfolio_returns.items():\n",
    "        returns = np.array(returns)\n",
    "        cumulative_returns[portfolio_key] = np.cumprod(1 + returns) - 1\n",
    "\n",
    "    return cumulative_returns\n",
    "\n",
    "# 누적 수익률 시각화\n",
    "def visualize_cumulative_returns(cumulative_returns, rebalanced_dates):\n",
    "    fig = go.Figure()\n",
    "\n",
    "    for portfolio_key, cum_return in cumulative_returns.items():\n",
    "        fig.add_trace(go.Scatter(x=rebalanced_dates, y=cum_return, mode='lines', name=portfolio_key))\n",
    "\n",
    "    fig.update_layout(\n",
    "        title='Cumulative Returns for 5x5 Size-BM Portfolios',\n",
    "        xaxis_title='Date',\n",
    "        yaxis_title='Cumulative Returns'\n",
    "    )\n",
    "\n",
    "    fig.show()\n",
    "\n",
    "# 초과수익률 계산 함수\n",
    "def calculate_excess_returns(df, rf_df):\n",
    "    df['rf'] = df.index.get_level_values('date').map(rf_df['rf'])\n",
    "    df['excess_return'] = df['수익률 (1개월)'] - df['rf']\n",
    "    return df\n",
    "\n",
    "# 회귀분석 함수 (Fama-Macbeth 또는 단순 회귀 가능)\n",
    "def run_regression(df, market_rf):\n",
    "    results = {}\n",
    "    for portfolio_key in df['portfolio_key'].unique():\n",
    "        portfolio_df = df[df['portfolio_key'] == portfolio_key]\n",
    "        X = sm.add_constant(portfolio_df[market_rf])  # market_rf를 독립 변수로 사용\n",
    "        y = portfolio_df['excess_return']  # 종속 변수는 초과수익률\n",
    "        model = sm.OLS(y, X).fit()  # 회귀 분석 실행\n",
    "        results[portfolio_key] = {'coef': model.params[market_rf], 't_value': model.tvalues[market_rf]}  # 회귀 계수와 t값 저장\n",
    "    return results\n",
    "\n",
    "# 테이블 생성 함수 (월별 평균수익률과 t값 포함)\n",
    "def generate_results_table(df, regression_results):\n",
    "    table_data = []\n",
    "    sizes = [1, 2, 3, 4, 5]\n",
    "    bms = [1, 2, 3, 4, 5]\n",
    "\n",
    "    for size in sizes:\n",
    "        row = []\n",
    "        for bm in bms:\n",
    "            portfolio_key = f'{size}{bm}'\n",
    "            avg_return = df[df['portfolio_key'] == int(portfolio_key)]['excess_return'].mean()  # 평균 초과수익률 계산\n",
    "            if portfolio_key in regression_results:\n",
    "                t_value = regression_results[portfolio_key]['t_value']\n",
    "                row.append(f'{avg_return:.6f} ({t_value:.6f})')  # 평균 수익률과 t값을 함께 표기\n",
    "            else:\n",
    "                row.append(f'{avg_return:.6f} (N/A)')  # 회귀 결과가 없는 경우 N/A로 표기\n",
    "        table_data.append(row)\n",
    "\n",
    "    # High-Low 차이 계산 (각 size별로 High-Low 차이 추가)\n",
    "    for i, size in enumerate(sizes):\n",
    "        high_return = df[df['portfolio_key'] == f'{size}5']['excess_return'].mean()  # High\n",
    "        low_return = df[df['portfolio_key'] == f'{size}1']['excess_return'].mean()  # Low\n",
    "        high_low_diff = high_return - low_return\n",
    "        table_data[i].append(f'{high_low_diff:.6f}')\n",
    "\n",
    "    # Small-Big 차이 계산\n",
    "    row = []\n",
    "    for bm in bms:\n",
    "        small_return = df[df['portfolio_key'] == f'11{bm}']['excess_return'].mean()  # Small\n",
    "        big_return = df[df['portfolio_key'] == f'51{bm}']['excess_return'].mean()  # Big\n",
    "        small_big_diff = small_return - big_return\n",
    "        row.append(f'{small_big_diff:.6f}')\n",
    "    table_data.append(row)\n",
    "\n",
    "    # 테이블 열과 행 정의\n",
    "    columns = ['Low', '2', '3', '4', 'High', 'High-Low']\n",
    "    index = ['Small', '2', '3', '4', 'Big', 'Small-Big']\n",
    "\n",
    "    results_df = pd.DataFrame(table_data, columns=columns, index=index)\n",
    "    # High-Low 차이 계산 및 추가 (소수점 2자리로 포맷팅)\n",
    "    results_df['High-Low'] = (results_df['High'].apply(lambda x: float(x.split(' ')[0])) - results_df['Low'].apply(lambda x: float(x.split(' ')[0])))\n",
    "    results_df['High-Low'] = results_df['High-Low'].apply(lambda x: f'{x:.6f}')  # 소수점 2자리로 포맷\n",
    "\n",
    "    # Small-Big 차이 계산 및 추가\n",
    "    small_big_diff = []\n",
    "    columns = ['Low', '2', '3', '4', 'High']\n",
    "    for col in columns:\n",
    "        small_return_str = results_df.loc['Small', col]\n",
    "        big_return_str = results_df.loc['Big', col]\n",
    "\n",
    "        # 수익률만 추출\n",
    "        small_return = float(small_return_str.split(' ')[0])\n",
    "        big_return = float(big_return_str.split(' ')[0])\n",
    "\n",
    "        small_big_diff.append(f'{small_return - big_return:.6f}')  # 소수점 2자리로 포맷\n",
    "\n",
    "    # Small-Big 차이를 각 열에 추가, 마지막 열은 None\n",
    "    results_df.loc['Small-Big'] = small_big_diff + [None]\n",
    "\n",
    "    return results_df\n",
    "\n",
    "# 전체 실행 함수\n",
    "def run_backtest_and_create_table(stocks_df, rf_df, market_df, rebalancing_period='M'):\n",
    "    # 포트폴리오 키 추가\n",
    "    stocks_df = add_portfolio_key(stocks_df)\n",
    "\n",
    "    # stocks_df와 market_df 병합 (mkt_rf 추가)\n",
    "    stocks_df = merge_market_and_stocks(stocks_df, market_df)\n",
    "\n",
    "    # 초과수익률 계산\n",
    "    stocks_df = calculate_excess_returns(stocks_df, rf_df)\n",
    "\n",
    "    # 회귀분석 수행\n",
    "    regression_results = run_regression(stocks_df, 'mkt_rf')\n",
    "\n",
    "    # 결과 테이블 생성\n",
    "    results_table = generate_results_table(stocks_df, regression_results)\n",
    "\n",
    "    return results_table\n",
    "\n",
    "# 최종 실행\n",
    "results_table = run_backtest_and_create_table(stocks_df, df_rf, market_df, rebalancing_period='M')\n",
    "results_table"
   ]
  },
  {
   "cell_type": "code",
   "execution_count": null,
   "id": "3f8d9017",
   "metadata": {
    "colab": {
     "base_uri": "https://localhost:8080/",
     "height": 648
    },
    "executionInfo": {
     "elapsed": 4975,
     "status": "ok",
     "timestamp": 1728388701319,
     "user": {
      "displayName": "SungKyu Ko",
      "userId": "10266390755652929266"
     },
     "user_tz": -540
    },
    "id": "tt226u6fvdBK",
    "lines_to_next_cell": 2,
    "outputId": "e47aa5e4-fa56-4ce4-a3dd-4b95d696a108"
   },
   "outputs": [],
   "source": [
    "\n",
    "# 누적 수익률 계산 _ 결과제출용\n",
    "def backtest_portfolio_to_table(df, rebalancing_period='M'):\n",
    "    unique_dates = get_unique_dates(df)\n",
    "    rebalanced_dates = pd.date_range(start=unique_dates.min(), end=unique_dates.max(), freq=rebalancing_period)\n",
    "\n",
    "    portfolio_returns = {}\n",
    "    cumulative_returns = {}\n",
    "\n",
    "    # Initialize portfolios for all 5x5 combinations\n",
    "    sizes = [1, 2, 3, 4, 5]\n",
    "    bms = [1, 2, 3, 4, 5]\n",
    "    for size in sizes:\n",
    "        for bm in bms:\n",
    "            portfolio_key = f'{size}_{bm}'\n",
    "            portfolio_returns[portfolio_key] = []\n",
    "\n",
    "    # Calculate portfolio returns over time\n",
    "    for date in rebalanced_dates:\n",
    "        df_rebalanced = df.loc[(date,), :]\n",
    "\n",
    "        for size in sizes:\n",
    "\n",
    "            for bm in bms:\n",
    "                portfolio_key = f'{size}_{bm}'\n",
    "                portfolio_df = df_rebalanced[(df_rebalanced['size_sorted'] == size) & (df_rebalanced['bm_sorted'] == bm)]\n",
    "\n",
    "                portfolio_return = portfolio_df['수익률 (1개월)'].mean() / 100\n",
    "                portfolio_returns[portfolio_key].append(portfolio_return)\n",
    "\n",
    "    # Calculate cumulative returns for each portfolio\n",
    "    for portfolio_key, returns in portfolio_returns.items():\n",
    "        returns = np.array(returns)\n",
    "        cumulative_returns[portfolio_key] = np.cumprod(1 + returns) - 1\n",
    "\n",
    "    # 결과제출용으로 추가한 코드\n",
    "    FbyF_result_table = pd.DataFrame(index=unique_dates)\n",
    "\n",
    "    for key in cumulative_returns.keys():\n",
    "        FbyF_result_table[key] = portfolio_returns[key]\n",
    "\n",
    "    return FbyF_result_table\n",
    "\n",
    "FbyF = backtest_portfolio_to_table (stocks_df)\n",
    "FbyF\n",
    "# FbyF.to_excel (\"/content/drive/MyDrive/고금계/5x5 return.xlsx\")"
   ]
  },
  {
   "cell_type": "code",
   "execution_count": null,
   "id": "f110aa4e",
   "metadata": {
    "colab": {
     "base_uri": "https://localhost:8080/",
     "height": 735
    },
    "executionInfo": {
     "elapsed": 1333,
     "status": "ok",
     "timestamp": 1728384134680,
     "user": {
      "displayName": "SungKyu Ko",
      "userId": "10266390755652929266"
     },
     "user_tz": -540
    },
    "id": "d4dvkCR-uMmV",
    "outputId": "4e4ced24-ffec-4269-f340-a3580e824b7d"
   },
   "outputs": [],
   "source": [
    "stocks_df"
   ]
  },
  {
   "cell_type": "code",
   "execution_count": null,
   "id": "327c9c00",
   "metadata": {
    "executionInfo": {
     "elapsed": 4,
     "status": "ok",
     "timestamp": 1728384103976,
     "user": {
      "displayName": "SungKyu Ko",
      "userId": "10266390755652929266"
     },
     "user_tz": -540
    },
    "id": "ec6ebaa4-fe74-4587-92f2-b37c7fbeee3f"
   },
   "outputs": [],
   "source": [
    "import plotly.graph_objects as go\n",
    "import pandas as pd\n",
    "\n",
    "# 백테스팅을 위한 데이터 전처리 및 리밸런싱 시뮬레이션\n",
    "\n",
    "def calculate_returns(df, weight_type='equal'):\n",
    "    \"\"\" 섹터 별 동일가중 / 시가총액 가중 수익률 계산 \"\"\"\n",
    "    # 수익률 열만 선택 (예시로 'return'이 수익률 컬럼이라고 가정)\n",
    "    returns_df = df.select_dtypes(include=[np.number])  # 수치형 데이터만 선택\n",
    "\n",
    "    if weight_type == 'equal':\n",
    "        return returns_df.mean(axis=1)  # 동일가중\n",
    "    elif weight_type == 'market_cap':\n",
    "        return (returns_df * df['시가총액']).sum(axis=1) / df['시가총액'].sum()  # 시가총액 가중\n",
    "\n",
    "# 1. 5*5 size-BM 기반 백테스팅\n",
    "def backtest_size_bm_5x5(df, rebalancing_dates, weight_type='equal'):\n",
    "    \"\"\" Size-BM 5*5 기반 누적수익률 백테스트, rebalancing_dates에 따라 리밸런싱 \"\"\"\n",
    "\n",
    "    df = df.copy()\n",
    "    cumulative_returns = []\n",
    "    valid_rebalancing_dates = []\n",
    "\n",
    "    # BM과 Size에 따라 5분위로 나누기\n",
    "    df['BM_quantile'] = pd.qcut(df['BM'], 5, labels=False)  # BM 5분위 나누기\n",
    "    df['Size_quantile'] = pd.qcut(df['Market cap'], 5, labels=False)  # Size 5분위 나누기\n",
    "\n",
    "    # 25개의 포트폴리오 그룹 생성\n",
    "    df['portfolio_group'] = df['BM_quantile'].astype(str) + \"-\" + df['Size_quantile'].astype(str)\n",
    "\n",
    "    for rebalance_date in rebalancing_dates:\n",
    "        # 리밸런싱 날짜에 맞는 데이터 선택\n",
    "        df_rebalanced = df.loc[df.index.get_level_values('date') == rebalance_date]\n",
    "\n",
    "        # 리밸런싱 데이터가 없으면 건너뜀\n",
    "        if df_rebalanced.empty:\n",
    "            print(f\"No data available for rebalancing date: {rebalance_date}\")\n",
    "            continue\n",
    "\n",
    "        # NaN 값 처리: NaN을 이전 값으로 대체 (method='ffill'로 결측값을 직전 값으로 채움)\n",
    "        df_rebalanced.fillna(method='ffill', inplace=True)\n",
    "\n",
    "        # 포트폴리오 그룹별로 평균 수익률 계산\n",
    "        group_returns = df_rebalanced.groupby('portfolio_group')['수익률 (1개월)'].mean()\n",
    "\n",
    "        cumulative_returns.append(group_returns)\n",
    "        valid_rebalancing_dates.append(rebalance_date)  # 실제로 데이터를 처리한 날짜만 저장\n",
    "\n",
    "    # 누적 수익률 데이터프레임 생성\n",
    "    if cumulative_returns:\n",
    "        cumulative_returns_df = pd.concat(cumulative_returns, axis=1).T\n",
    "        cumulative_returns_df.index = valid_rebalancing_dates  # 유효한 리밸런싱 날짜로 인덱스 설정\n",
    "        # 누적 수익률 계산 (1을 더한 후 곱셈 누적 방식으로 진행)\n",
    "        cumulative_returns_df = (1 + cumulative_returns_df).cumprod()\n",
    "    else:\n",
    "        print(\"No cumulative returns calculated.\")\n",
    "        cumulative_returns_df = pd.DataFrame()\n",
    "\n",
    "    return cumulative_returns_df\n",
    "\n",
    "def backtest_factor_portfolios_v2(factors_df, factor_list, momentum_factors, rebalancing_dates):\n",
    "    \"\"\" 팩터 기반 롱-숏 포트폴리오 누적 수익률 백테스트 (전용 함수) \"\"\"\n",
    "    cumulative_returns = {}\n",
    "\n",
    "    for factor in factor_list:\n",
    "        if factor not in factors_df.columns:\n",
    "            raise KeyError(f\"'{factor}' column not found in dataframe\")\n",
    "\n",
    "        if factor in momentum_factors:\n",
    "            # 모멘텀/리버설 팩터는 매달 리밸런싱\n",
    "            monthly_returns = []\n",
    "            for rebalance_date in pd.date_range(rebalancing_dates[0], rebalancing_dates[-1], freq='M'):\n",
    "                factor_data = factors_df.loc[factors_df.index == rebalance_date, factor].dropna()\n",
    "                if not factor_data.empty:\n",
    "                    monthly_returns.append(factor_data.mean())  # 동일가중 평균\n",
    "            cumulative_returns[factor] = (1 + pd.Series(monthly_returns, index=pd.date_range(rebalancing_dates[0], rebalancing_dates[-1], freq='M'))).cumprod()\n",
    "        else:\n",
    "            # 나머지 팩터는 매해 6월 리밸런싱\n",
    "            yearly_returns = []\n",
    "            for rebalance_date in rebalancing_dates:\n",
    "                factor_data = factors_df.loc[factors_df.index == rebalance_date, factor].dropna()\n",
    "                if not factor_data.empty:\n",
    "                    yearly_returns.append(factor_data.mean())  # 동일가중 평균\n",
    "            cumulative_returns[factor] = (1 + pd.Series(yearly_returns, index=rebalancing_dates)).cumprod()\n",
    "\n",
    "    return pd.DataFrame(cumulative_returns)\n",
    "\n",
    "# Plotly로 누적 수익률 그래프 그리기\n",
    "def plot_cumulative_returns(cumulative_returns_df, title):\n",
    "    fig = go.Figure()\n",
    "\n",
    "    # 섹터/그룹별로 수익률 그래프 그리기 (mode='lines'를 사용하여 선 그래프 생성)\n",
    "    for column in cumulative_returns_df.columns:\n",
    "        column_name = str(column) if isinstance(column, tuple) else column  # 튜플을 문자열로 변환\n",
    "        fig.add_trace(go.Scatter(x=cumulative_returns_df.index, y=cumulative_returns_df[column],\n",
    "                                 mode='lines', name=column_name))  # 선 그래프 생성\n",
    "\n",
    "    # 레이아웃 설정\n",
    "    fig.update_layout(title=title, xaxis_title='Date', yaxis_title='Cumulative Return')\n",
    "    return fig"
   ]
  },
  {
   "cell_type": "code",
   "execution_count": null,
   "id": "7bd582cf",
   "metadata": {
    "colab": {
     "base_uri": "https://localhost:8080/",
     "height": 560
    },
    "executionInfo": {
     "elapsed": 624,
     "status": "ok",
     "timestamp": 1728384104597,
     "user": {
      "displayName": "SungKyu Ko",
      "userId": "10266390755652929266"
     },
     "user_tz": -540
    },
    "id": "68a125b6-1b8f-46ff-882c-1256ec485223",
    "outputId": "3fe5e5dc-fb43-4605-ddd3-21accc4f88a2"
   },
   "outputs": [],
   "source": [
    "# 백테스팅 코드에 해당 로직들을 적용\n",
    "# 1. size-BM 기반 백테스트\n",
    "rebalancing_dates = pd.date_range(start='2014-06-30', end='2024-06-30', freq='12M')\n",
    "cumulative_returns_5x5 = backtest_size_bm_5x5(stocks_df, rebalancing_dates)\n",
    "cumulative_returns_5x5\n",
    "# Plot for size-BM based cumulative returns\n",
    "fig_5x5 = plot_cumulative_returns(cumulative_returns_5x5, 'Size-BM 5x5 Cumulative Returns')\n",
    "fig_5x5.show()"
   ]
  },
  {
   "cell_type": "code",
   "execution_count": null,
   "id": "a0af8be4",
   "metadata": {
    "colab": {
     "base_uri": "https://localhost:8080/",
     "height": 542
    },
    "executionInfo": {
     "elapsed": 7,
     "status": "ok",
     "timestamp": 1728384104597,
     "user": {
      "displayName": "SungKyu Ko",
      "userId": "10266390755652929266"
     },
     "user_tz": -540
    },
    "id": "d171caf6-fc7b-4b43-ac13-931bc959faf6",
    "outputId": "13e1d435-24bb-4955-ac2a-618bf771441e"
   },
   "outputs": [],
   "source": [
    "def backtest_factor_portfolios_v3(factors_df, factor_list, momentum_factors, yearly_rebalancing_dates, monthly_rebalancing_dates):\n",
    "    \"\"\" 팩터 기반 롱-숏 포트폴리오 누적 수익률 백테스트 (팩터별 리밸런싱 주기 적용) \"\"\"\n",
    "    cumulative_returns = {}\n",
    "\n",
    "    for factor in factor_list:\n",
    "        if factor not in factors_df.columns:\n",
    "            raise KeyError(f\"'{factor}' column not found in dataframe\")\n",
    "\n",
    "        if factor in momentum_factors:\n",
    "            # 모멘텀/리버설 팩터는 매달 리밸런싱\n",
    "            monthly_returns = []\n",
    "            for rebalance_date in monthly_rebalancing_dates:\n",
    "                factor_data = factors_df.loc[factors_df.index == rebalance_date, factor].dropna()\n",
    "                if not factor_data.empty:\n",
    "                    monthly_returns.append(factor_data.mean())  # 동일가중 평균\n",
    "            # 매월 리밸런싱에 맞는 수익률을 누적 곱 계산\n",
    "            cumulative_returns[factor] = (1 + pd.Series(monthly_returns, index=monthly_rebalancing_dates[:len(monthly_returns)])).cumprod()\n",
    "        else:\n",
    "            # Fama-French 팩터는 매해 6월 리밸런싱\n",
    "            yearly_returns = []\n",
    "            valid_rebalancing_dates = []\n",
    "            for rebalance_date in yearly_rebalancing_dates:\n",
    "                factor_data = factors_df.loc[factors_df.index == rebalance_date, factor].dropna()\n",
    "                if not factor_data.empty:\n",
    "                    yearly_returns.append(factor_data.mean())  # 동일가중 평균\n",
    "                    valid_rebalancing_dates.append(rebalance_date)  # 실제 데이터가 있는 날짜만 추가\n",
    "            # 매해 6월 리밸런싱에 맞는 수익률을 누적 곱 계산\n",
    "            cumulative_returns[factor] = (1 + pd.Series(yearly_returns, index=valid_rebalancing_dates)).cumprod()\n",
    "\n",
    "    return pd.DataFrame(cumulative_returns)\n",
    "\n",
    "# 팩터 리스트 정의 (Fama-French 5요소 + 모멘텀, 리버설)\n",
    "factor_list = ['SMB', 'HML', 'RMW', 'CMA', 'UMD', 'STR']\n",
    "momentum_factors = ['UMD', 'STR']\n",
    "\n",
    "# 리밸런싱 날짜: 매년 6월과 매월 리밸런싱 날짜를 따로 설정\n",
    "yearly_rebalancing_dates = pd.date_range(start='2014-06-30', end='2024-06-30', freq='12M')\n",
    "monthly_rebalancing_dates = pd.date_range(start='2014-06-30', end='2024-06-30', freq='M')\n",
    "\n",
    "# 팩터 기반 백테스트 실행\n",
    "cumulative_returns_factors = backtest_factor_portfolios_v3(_5factors, factor_list, momentum_factors, yearly_rebalancing_dates, monthly_rebalancing_dates)\n",
    "\n",
    "# 팩터 기반 누적 수익률 플롯\n",
    "fig_factors = plot_cumulative_returns(cumulative_returns_factors, 'Factor Cumulative Returns')\n",
    "fig_factors.show()"
   ]
  },
  {
   "cell_type": "code",
   "execution_count": null,
   "id": "88441c75",
   "metadata": {
    "executionInfo": {
     "elapsed": 6,
     "status": "ok",
     "timestamp": 1728384104597,
     "user": {
      "displayName": "SungKyu Ko",
      "userId": "10266390755652929266"
     },
     "user_tz": -540
    },
    "id": "759b1c48-c814-446d-bb96-d71e79702c8a"
   },
   "outputs": [],
   "source": []
  }
 ],
 "metadata": {
  "kernelspec": {
   "display_name": "Python 3 (ipykernel)",
   "language": "python",
   "name": "python3"
  }
 },
 "nbformat": 4,
 "nbformat_minor": 5
}
