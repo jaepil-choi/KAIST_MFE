{
 "cells": [
  {
   "cell_type": "code",
   "execution_count": null,
   "id": "888ace42",
   "metadata": {},
   "outputs": [],
   "source": [
    "import pandas as pd\n",
    "import numpy as np\n",
    "from portsort import portsort\n",
    "\n",
    "import matplotlib.pyplot as plt\n",
    "\n",
    "from pathlib import Path\n",
    "from fndata import FnStockData\n",
    "from pandas.tseries.offsets import MonthEnd\n",
    "from pandas.tseries.offsets import YearEnd\n",
    "CWD = Path('.').resolve()\n",
    "DATA_DIR = CWD / 'data'\n",
    "fndata_path = DATA_DIR / '고금계과제1_v3.3_201301-202408.csv'\n",
    "fn = FnStockData(fndata_path)\n",
    "df = fn.get_data()\n",
    "\n"
   ]
  },
  {
   "cell_type": "code",
   "execution_count": null,
   "id": "3b3ecb94",
   "metadata": {},
   "outputs": [],
   "source": [
    "df"
   ]
  },
  {
   "cell_type": "code",
   "execution_count": null,
   "id": "3af5ecdf",
   "metadata": {},
   "outputs": [],
   "source": [
    "df.to_csv('df.csv')"
   ]
  },
  {
   "cell_type": "code",
   "execution_count": null,
   "id": "b60362be",
   "metadata": {},
   "outputs": [],
   "source": [
    "df['FnGuide Sector'].value_counts()"
   ]
  },
  {
   "cell_type": "markdown",
   "id": "e3deddb0",
   "metadata": {},
   "source": [
    "# BM"
   ]
  },
  {
   "cell_type": "code",
   "execution_count": null,
   "id": "8bd9ceee",
   "metadata": {},
   "outputs": [],
   "source": [
    "df2=df.reset_index().copy()\n",
    "year_end=sorted(list(set(df2['date']+YearEnd(0))))[:-1]\n",
    "\n",
    "\n",
    "share_equity=fn.get_data('보통주자본금(천원)')\n",
    "retained_capital=fn.get_data('자본잉여금(천원)')\n",
    "retained_earning=fn.get_data('이익잉여금(천원)')\n",
    "treasury=fn.get_data('자기주식(천원)')\n",
    "tax=fn.get_data('이연법인세부채(천원)')\n",
    "price=fn.get_data('수정주가(원)')\n",
    "listed_stocks=fn.get_data('기말발행주식수 (보통)(주)')\n",
    "\n",
    "me=listed_stocks*price\n",
    "\n",
    "be=share_equity+retained_capital.fillna(0)+retained_earning.fillna(0)+treasury+tax.fillna(0)\n",
    "\n",
    "be=be.loc[year_end]\n",
    "me=me.loc[year_end]\n",
    "bm=be/me"
   ]
  },
  {
   "cell_type": "code",
   "execution_count": null,
   "id": "90efae4f",
   "metadata": {},
   "outputs": [],
   "source": [
    "bm"
   ]
  },
  {
   "cell_type": "code",
   "execution_count": null,
   "id": "203fe0f5",
   "metadata": {},
   "outputs": [],
   "source": [
    "year_end=sorted(list(set(df2['date']+YearEnd(0))))[:-1]\n",
    "\n",
    "\n",
    "share_equity=fn.get_data('보통주자본금(천원)')\n",
    "retained_capital=fn.get_data('자본잉여금(천원)')\n",
    "retained_earning=fn.get_data('이익잉여금(천원)')\n",
    "treasury=fn.get_data('자기주식(천원)')\n",
    "tax=fn.get_data('이연법인세부채(천원)')\n",
    "price=fn.get_data('종가(원)')\n",
    "listed_stocks=fn.get_data('기말발행주식수 (보통)(주)')\n",
    "\n",
    "me=listed_stocks*price\n",
    "\n",
    "be=share_equity.fillna(0)+retained_capital.fillna(0)+retained_earning.fillna(0)+treasury+tax.fillna(0)"
   ]
  },
  {
   "cell_type": "code",
   "execution_count": null,
   "id": "6ff52da0",
   "metadata": {},
   "outputs": [],
   "source": [
    "be"
   ]
  },
  {
   "cell_type": "markdown",
   "id": "8f328837",
   "metadata": {},
   "source": [
    "# OP"
   ]
  },
  {
   "cell_type": "code",
   "execution_count": null,
   "id": "28d9ad91",
   "metadata": {},
   "outputs": [],
   "source": [
    "df.columns"
   ]
  },
  {
   "cell_type": "code",
   "execution_count": null,
   "id": "552868fb",
   "metadata": {},
   "outputs": [],
   "source": [
    "# sales=fn.get_data('매출액(천원)')\n",
    "# cost=fn.get_data('매출원가(천원)')\n",
    "# interest_cost=fn.get_data('이자비용(천원)')\n",
    "# op=(sales-cost-interest_cost)/share_equity\n",
    "op=fn.get_data('영업이익(천원)')/share_equity\n",
    "op=op.loc[year_end]\n",
    "\n",
    "\n",
    "\n"
   ]
  },
  {
   "cell_type": "markdown",
   "id": "8c9ddcd7",
   "metadata": {},
   "source": [
    "# INVIT"
   ]
  },
  {
   "cell_type": "code",
   "execution_count": null,
   "id": "ac655316",
   "metadata": {
    "lines_to_next_cell": 2
   },
   "outputs": [],
   "source": [
    "invit=fn.get_data('총자산(천원)')\n",
    "invit=invit.loc[year_end]\n",
    "invit=invit.pct_change()"
   ]
  },
  {
   "cell_type": "code",
   "execution_count": null,
   "id": "591183c5",
   "metadata": {},
   "outputs": [],
   "source": [
    "invit"
   ]
  },
  {
   "cell_type": "markdown",
   "id": "85417007",
   "metadata": {},
   "source": [
    "# MOM"
   ]
  },
  {
   "cell_type": "code",
   "execution_count": null,
   "id": "76699c25",
   "metadata": {},
   "outputs": [],
   "source": [
    "mom=(price.shift(1)-price.shift(12))/price.shift(12)\n",
    "mom"
   ]
  },
  {
   "cell_type": "code",
   "execution_count": null,
   "id": "7adf2ce9",
   "metadata": {
    "lines_to_next_cell": 2
   },
   "outputs": [],
   "source": [
    "rebalancing_month=sorted(list(set(df2['date']+YearEnd(0)-MonthEnd(6))))"
   ]
  },
  {
   "cell_type": "markdown",
   "id": "47d341e4",
   "metadata": {},
   "source": [
    "# size"
   ]
  },
  {
   "cell_type": "code",
   "execution_count": null,
   "id": "1eed6f38",
   "metadata": {},
   "outputs": [],
   "source": []
  },
  {
   "cell_type": "code",
   "execution_count": null,
   "id": "80285eb4",
   "metadata": {
    "lines_to_next_cell": 2
   },
   "outputs": [],
   "source": [
    "###1.이렇게 하면 원래 파마 프랜치\n",
    "\n",
    "size=listed_stocks*price\n",
    "# size=size.loc[rebalancing_month]\n",
    "# size\n",
    "\n",
    "###2.#이렇게 하면 기홍햄\n",
    "# size.loc[rebalancing_month]=np.NaN\n",
    "# size.ffill(inplace=True)"
   ]
  },
  {
   "cell_type": "code",
   "execution_count": null,
   "id": "db22d701",
   "metadata": {},
   "outputs": [],
   "source": [
    "size"
   ]
  },
  {
   "cell_type": "code",
   "execution_count": null,
   "id": "f9d11055",
   "metadata": {},
   "outputs": [],
   "source": [
    "df2"
   ]
  },
  {
   "cell_type": "code",
   "execution_count": null,
   "id": "7c448c3b",
   "metadata": {},
   "outputs": [],
   "source": [
    "factor_list=[size,bm,op,invit,mom]\n",
    "name=['size','bm','op','invit','mom']\n",
    "data=df2.copy()\n",
    "for i in range(len(factor_list)):\n",
    "    tmp=factor_list[i].reset_index().melt(id_vars='date', var_name='Symbol', value_name=name[i])\n",
    "    data=pd.merge(data,tmp,on=['date','Symbol'],how='left')"
   ]
  },
  {
   "cell_type": "code",
   "execution_count": null,
   "id": "b84bd74e",
   "metadata": {},
   "outputs": [],
   "source": [
    "##3be.dropna(how='all')"
   ]
  },
  {
   "cell_type": "code",
   "execution_count": null,
   "id": "1b942685",
   "metadata": {},
   "outputs": [],
   "source": [
    "\n",
    "me=listed_stocks*price\n",
    "be=share_equity+retained_capital.fillna(0)+retained_earning.fillna(0)+treasury.fillna(0)+tax.fillna(0)\n",
    "\n",
    "devil_hml=be/me\n",
    "devil_hml=devil_hml.reset_index().melt(id_vars='date', var_name='Symbol', value_name='devil_hml')\n",
    "data=pd.merge(data,devil_hml,on=['date','Symbol'],how='left')\n",
    "data['devil_hml']=data.groupby('Symbol')['devil_hml'].shift(1)"
   ]
  },
  {
   "cell_type": "code",
   "execution_count": null,
   "id": "244dac47",
   "metadata": {},
   "outputs": [],
   "source": [
    "date=sorted(list(set(data['date'])))[-10:]\n",
    "data.loc[(data['date'].isin(date))&(data['Symbol']=='A005930')]"
   ]
  },
  {
   "cell_type": "code",
   "execution_count": null,
   "id": "8a2cd6a2",
   "metadata": {},
   "outputs": [],
   "source": [
    "data.loc[(data['date'].isin(date))&(data['Symbol']=='A005930')]"
   ]
  },
  {
   "cell_type": "code",
   "execution_count": null,
   "id": "39ae6114",
   "metadata": {},
   "outputs": [],
   "source": [
    "#### 자본 잠식기업 제외\n",
    "data['be_test']=data['보통주자본금(천원)'].fillna(0)+data['자본잉여금(천원)'].fillna(0)+data['이익잉여금(천원)'].fillna(0)+data['자기주식(천원)'].fillna(0)+data['이연법인세부채(천원)'].fillna(0)\n",
    "data2=data.loc[data['be_test']>0].copy()\n",
    "date=sorted(list(set(data['date'])))[-9:]\n",
    "data_real=data.loc[data['date'].isin(date)]\n",
    "data_last=pd.concat([data2,data_real])\n",
    "data_last"
   ]
  },
  {
   "cell_type": "code",
   "execution_count": null,
   "id": "52e4ac8d",
   "metadata": {},
   "outputs": [],
   "source": [
    "print(np.min(data_last['be_test']))\n",
    "data_last.drop(columns='be_test',inplace=True)\n",
    "data_last"
   ]
  },
  {
   "cell_type": "code",
   "execution_count": null,
   "id": "0dd558ef",
   "metadata": {},
   "outputs": [],
   "source": [
    "data_last.to_csv('factor.csv',index=False)"
   ]
  },
  {
   "cell_type": "code",
   "execution_count": null,
   "id": "ac1bf6b5",
   "metadata": {},
   "outputs": [],
   "source": []
  }
 ],
 "metadata": {
  "kernelspec": {
   "display_name": "work",
   "language": "python",
   "name": "python3"
  }
 },
 "nbformat": 4,
 "nbformat_minor": 5
}
