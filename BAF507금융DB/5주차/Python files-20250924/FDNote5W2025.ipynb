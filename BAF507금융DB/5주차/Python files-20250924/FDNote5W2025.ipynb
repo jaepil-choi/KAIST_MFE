{
 "cells": [
  {
   "cell_type": "markdown",
   "id": "6eabcc52-d84c-4d43-b147-e3bab93d67f9",
   "metadata": {},
   "source": [
    "# FDNote5W.ipynb\n",
    "\n",
    "Prepared by Inmoo Lee for the Financial Databases class at KAIST\n",
    "\n",
    "inmool@kaist.ac.kr\n",
    "\n",
    "For portfolio return calculations using SQL\n",
    "\n",
    "Input files used\n",
    "\n",
    "    - 2020SP500Constituents_2025_Short.xlsx\n",
    "    - return_data.ft\n",
    "    - note4data.xlsx\n",
    "    - fbhrs.ft\n",
    "    - Note3w_RHistory2025_Short.xlsx\n",
    "    "
   ]
  },
  {
   "cell_type": "code",
   "execution_count": 27,
   "id": "40895526-ec73-4588-8f66-c403fed60daa",
   "metadata": {},
   "outputs": [],
   "source": [
    "import os #import a package called os\n",
    "\n",
    "# os.getcwd()  #get the current working directory\n",
    "# path='D:\\\\####'#Change this to your directory\n",
    "# os.chdir(path) # change the working directory"
   ]
  },
  {
   "cell_type": "code",
   "execution_count": 28,
   "id": "ce498ee1-d1f4-457e-8952-e94424d00531",
   "metadata": {},
   "outputs": [],
   "source": [
    "import numpy as np\n",
    "import pandas as pd\n",
    "from datetime import datetime as dt"
   ]
  },
  {
   "cell_type": "markdown",
   "id": "9341c751-bf25-40bf-bbf4-d1201caa6a6c",
   "metadata": {},
   "source": [
    "# Calculate portfolio returns using SQL\n",
    "\n",
    "Equally-weighted vs. value-weighted returns\n"
   ]
  },
  {
   "cell_type": "code",
   "execution_count": 29,
   "id": "ab39fc1f-4bbf-4fa0-9f04-0effc9065398",
   "metadata": {},
   "outputs": [],
   "source": [
    "#Calculate the equally-weighted average return in each month\n",
    "from pandasql import sqldf\n",
    "def pysqldf(q):\n",
    " return sqldf(q, globals())"
   ]
  },
  {
   "cell_type": "code",
   "execution_count": 30,
   "id": "6e16b8aa",
   "metadata": {},
   "outputs": [],
   "source": [
    "#Read the data\n",
    "df=pd.read_feather('./return_data.ft')"
   ]
  },
  {
   "cell_type": "code",
   "execution_count": 31,
   "id": "0fed6479-5dfb-4b21-979d-b1eab08bcc35",
   "metadata": {},
   "outputs": [
    {
     "name": "stdout",
     "output_type": "stream",
     "text": [
      "       date1   fmonth12   bmonth12\n",
      "0 2001-01-31 2002-01-31 2000-01-31\n",
      "1 2001-02-28 2002-02-28 2000-02-29\n",
      "2 2001-03-31 2002-03-31 2000-03-31\n",
      "3 2001-04-30 2002-04-30 2000-04-30\n",
      "4 2001-05-31 2002-05-31 2000-05-31\n"
     ]
    }
   ],
   "source": [
    "\n",
    "\n",
    "from pandas.tseries.offsets import MonthEnd\n",
    "\n",
    "## As discussed before, we can find the the month end any # of months before/after\n",
    "### you have to convert the floating 64 format Date to integer and then to string format\n",
    "### to use pd_to_datetime\n",
    "\n",
    "df.loc[:,'date1']=pd.to_datetime(round(df.loc[:,'Date']).astype(int).astype(str),format='%Y%m%d')+MonthEnd(0)\n",
    "###find the date 12 months after (+12) and before (-12) the current date\n",
    "df.loc[:,'fmonth12']=df.loc[:,'date1']+MonthEnd(+12)\n",
    "df.loc[:,'bmonth12']=df.loc[:,'date1']+MonthEnd(-12)\n",
    "print(df[['date1','fmonth12','bmonth12']].head())"
   ]
  },
  {
   "cell_type": "code",
   "execution_count": 32,
   "id": "fe51d466-f7f0-47d0-820e-08fd452b2f99",
   "metadata": {},
   "outputs": [
    {
     "name": "stdout",
     "output_type": "stream",
     "text": [
      "   yyyymm\n",
      "0  200101\n",
      "1  200102\n",
      "2  200103\n",
      "3  200104\n",
      "4  200105\n"
     ]
    }
   ],
   "source": [
    "###find yyyymm to be used as an time indicator (year+month)\n",
    "### since date1 is a datetime variable, dt.year and dt.month\n",
    "### can be used to get year and month from a date.\n",
    "df.loc[:,'yyyymm']=df.loc[:,'date1'].dt.year*100+df.date1.dt.month\n",
    "print(df[['yyyymm']].head())"
   ]
  },
  {
   "cell_type": "markdown",
   "id": "c13808e8-db0f-4cab-a4f3-cac713cfa27d",
   "metadata": {},
   "source": [
    "## Portfolio return calculation"
   ]
  },
  {
   "cell_type": "code",
   "execution_count": 33,
   "id": "8e4070e5-79ec-46db-9381-d0e27cad033d",
   "metadata": {},
   "outputs": [],
   "source": [
    "#Let's import the market cap information \n",
    "marketc=pd.read_excel('./note4data.xlsx', sheet_name=\"marketcap\", header=0)\n"
   ]
  },
  {
   "cell_type": "code",
   "execution_count": 34,
   "id": "84e4d597-eb96-40bd-86b3-ee2933378108",
   "metadata": {},
   "outputs": [
    {
     "name": "stdout",
     "output_type": "stream",
     "text": [
      "       Date    ID    Price    Return    Numsh      rdate  yyyymm\n",
      "0  20010131  MSFT  61.0625  0.407781  5335391 2001-01-31  200101\n",
      "1  20010228  MSFT  59.0000 -0.033777  5335391 2001-02-28  200102\n",
      "2  20010330  MSFT  54.6875 -0.073093  5336000 2001-03-31  200103\n",
      "3  20010430  MSFT  67.7500  0.238857  5382102 2001-04-30  200104\n",
      "4  20010531  MSFT  69.1800  0.021107  5382102 2001-05-31  200105\n"
     ]
    }
   ],
   "source": [
    "from pandas.tseries.offsets import MonthEnd\n",
    "\n",
    "# convert \"Date\" to a datetime variable recognized in Pandas and call it \"rdate\"\n",
    "# make a time indicator variable (yyyymm), which is same the one as used above\n",
    "marketc['rdate']=pd.to_datetime(marketc['Date'].astype(int).astype(str),format='%Y%m%d')+MonthEnd(0)\n",
    "marketc['yyyymm']=marketc.rdate.dt.year*100+marketc.rdate.dt.month\n",
    "print(marketc.head())"
   ]
  },
  {
   "cell_type": "markdown",
   "id": "98f58e49-916d-46be-8b73-e6a785e413b7",
   "metadata": {},
   "source": [
    "#### Find lagged market cap values and ids\n",
    "Here, by using *groupby(['ID'])*, lagged values are *correctly* identified for each id\n",
    "\n",
    "It is also important to note that the file should be **sorted by (ID and Date)** before lagged values are identified.\n"
   ]
  },
  {
   "cell_type": "code",
   "execution_count": 35,
   "id": "b1d9a2ce-7ed9-48d6-b10a-a755c92275c8",
   "metadata": {},
   "outputs": [
    {
     "name": "stdout",
     "output_type": "stream",
     "text": [
      "Index(['Date', 'ID', 'Price', 'Return', 'Numsh', 'rdate', 'yyyymm'], dtype='object')\n",
      "       Date   ID   Price    Return    Numsh      rdate  yyyymm     marketcap\n",
      "0  20010131  IBM  112.00  0.317647  1754380 2001-01-31  200101  1.964906e+08\n",
      "1  20010228  IBM   99.90 -0.106875  1754380 2001-02-28  200102  1.752626e+08\n",
      "2  20010330  IBM   96.18 -0.037237  1760804 2001-03-31  200103  1.693541e+08\n",
      "3  20010430  IBM  115.14  0.197130  1760804 2001-04-30  200104  2.027390e+08\n",
      "4  20010531  IBM  111.80 -0.027792  1737418 2001-05-31  200105  1.942433e+08\n"
     ]
    }
   ],
   "source": [
    "print(marketc.columns)\n",
    "# Calculate the market capitalization by multiplying Price and Numsh\n",
    "marketc['marketcap']=marketc.Price * marketc.Numsh\n",
    "\n",
    "# Sort the marketcap data by ID and Date\n",
    "# This is important to use .sort_values() before using .shift()\n",
    "# After sorting, reset the index to avoid confusion\n",
    "marketcap=marketc.sort_values(['ID','Date'],ascending=True).reset_index(drop=True)\n",
    "# Check whether the sorting is correct\n",
    "print(marketcap.head())\n",
    "##Here, it is important to use .shirt(1) with groupby(['ID']) \n",
    "### to correctly get the lagged market cap for each ID\n",
    "### Otherwise, it may use the other ID's market cap as its lagged value\n",
    "\n",
    "## shift(1) means the previous row in the group\n",
    "## If you want to use the next row, use shift(-1)\n",
    "marketcap['lmc']=marketcap.groupby(['ID'])['marketcap'].shift(1)#lagged marketcap\n",
    "marketcap['lid']=marketcap.groupby(['ID'])['ID'].shift(1)"
   ]
  },
  {
   "cell_type": "code",
   "execution_count": 36,
   "id": "d14e5e30-73c6-458f-990e-e39e54060c30",
   "metadata": {},
   "outputs": [
    {
     "name": "stdout",
     "output_type": "stream",
     "text": [
      "    ID      Date     marketcap           lmc  lid\n",
      "0  IBM  20010131  1.964906e+08           NaN  NaN\n",
      "1  IBM  20010228  1.752626e+08  1.964906e+08  IBM\n",
      "2  IBM  20010330  1.693541e+08  1.752626e+08  IBM\n",
      "3  IBM  20010430  2.027390e+08  1.693541e+08  IBM\n",
      "4  IBM  20010531  1.942433e+08  2.027390e+08  IBM\n",
      "       ID      Date     marketcap           lmc   lid\n",
      "160   IBM  20140530  1.866061e+08  1.988636e+08   IBM\n",
      "161   IBM  20140630  1.834784e+08  1.866061e+08   IBM\n",
      "162   IBM  20140731  1.912085e+08  1.834784e+08   IBM\n",
      "163   IBM  20140829  1.918369e+08  1.912085e+08   IBM\n",
      "164   IBM  20140930  1.893729e+08  1.918369e+08   IBM\n",
      "165   IBM  20141031  1.627001e+08  1.893729e+08   IBM\n",
      "166   IBM  20141128  1.604932e+08  1.627001e+08   IBM\n",
      "167   IBM  20141231  1.587811e+08  1.604932e+08   IBM\n",
      "168  MSFT  20010131  3.257923e+08           NaN   NaN\n",
      "169  MSFT  20010228  3.147881e+08  3.257923e+08  MSFT\n",
      "170  MSFT  20010330  2.918125e+08  3.147881e+08  MSFT\n",
      "171  MSFT  20010430  3.646374e+08  2.918125e+08  MSFT\n",
      "172  MSFT  20010531  3.723338e+08  3.646374e+08  MSFT\n",
      "173  MSFT  20010629  3.929590e+08  3.723338e+08  MSFT\n",
      "174  MSFT  20010731  3.563008e+08  3.929590e+08  MSFT\n",
      "175  MSFT  20010831  3.071002e+08  3.563008e+08  MSFT\n",
      "176  MSFT  20010928  2.756016e+08  3.071002e+08  MSFT\n",
      "177  MSFT  20011031  3.131959e+08  2.756016e+08  MSFT\n",
      "178  MSFT  20011130  3.458351e+08  3.131959e+08  MSFT\n",
      "179  MSFT  20011231  3.579488e+08  3.458351e+08  MSFT\n",
      "180  MSFT  20020131  3.450038e+08  3.579488e+08  MSFT\n"
     ]
    }
   ],
   "source": [
    "# Check whether the lagged market cap is correct\n",
    "print(marketcap[['ID','Date','marketcap','lmc','lid']].head())\n",
    "print(marketcap.loc[160:180,['ID','Date','marketcap','lmc','lid']])"
   ]
  },
  {
   "cell_type": "code",
   "execution_count": 37,
   "id": "2ba4afb3",
   "metadata": {},
   "outputs": [],
   "source": [
    "# Read fbhrs.ft, which we created last week.\n",
    "fbhrs=pd.read_feather('./fbhrs.ft')"
   ]
  },
  {
   "cell_type": "code",
   "execution_count": 38,
   "id": "9cae6a2f-b0bb-4933-ac4b-e786e810fe48",
   "metadata": {},
   "outputs": [
    {
     "name": "stdout",
     "output_type": "stream",
     "text": [
      "    id  yyyymm    logsum  nummonths     bhr1y     marketcap           lmc  \\\n",
      "0  IBM  200101  0.357970         12  0.430423  1.964906e+08           NaN   \n",
      "1  IBM  200102 -0.032225         12 -0.031711  1.752626e+08  1.964906e+08   \n",
      "2  IBM  200103 -0.012692         12 -0.012612  1.693541e+08  1.752626e+08   \n",
      "3  IBM  200104  0.083456         12  0.087038  2.027390e+08  1.693541e+08   \n",
      "4  IBM  200105 -0.312906         12 -0.268681  1.942433e+08  2.027390e+08   \n",
      "\n",
      "                        rdate  \n",
      "0  2001-01-31 00:00:00.000000  \n",
      "1  2001-02-28 00:00:00.000000  \n",
      "2  2001-03-31 00:00:00.000000  \n",
      "3  2001-04-30 00:00:00.000000  \n",
      "4  2001-05-31 00:00:00.000000  \n",
      "              yyyymm      logsum   nummonths       bhr1y     marketcap  \\\n",
      "count     468.000000  468.000000  468.000000  435.000000  4.680000e+02   \n",
      "mean   200706.500000    0.049146   11.576923    0.065536  2.158384e+08   \n",
      "std       374.582071    0.174003    1.752472    0.186702  5.313461e+07   \n",
      "min    200101.000000   -0.626890    1.000000   -0.465749  9.879597e+07   \n",
      "25%    200403.750000   -0.045027   12.000000   -0.046182  1.792527e+08   \n",
      "50%    200706.500000    0.054586   12.000000    0.055955  2.162648e+08   \n",
      "75%    201009.250000    0.147045   12.000000    0.160768  2.517672e+08   \n",
      "max    201312.000000    0.594328   12.000000    0.811814  3.929590e+08   \n",
      "\n",
      "                lmc  \n",
      "count  4.650000e+02  \n",
      "mean   2.155776e+08  \n",
      "std    5.309048e+07  \n",
      "min    9.879597e+07  \n",
      "25%    1.792128e+08  \n",
      "50%    2.160911e+08  \n",
      "75%    2.514491e+08  \n",
      "max    3.929590e+08  \n",
      "0      0.430423\n",
      "1     -0.031711\n",
      "2     -0.012612\n",
      "3      0.087038\n",
      "4     -0.268681\n",
      "         ...   \n",
      "463         NaN\n",
      "464         NaN\n",
      "465         NaN\n",
      "466         NaN\n",
      "467         NaN\n",
      "Name: bhr1y, Length: 468, dtype: float64\n",
      "448    0.350743\n",
      "449    0.164418\n",
      "450    0.094141\n",
      "451    0.072371\n",
      "452    0.030425\n",
      "453    0.027282\n",
      "454    0.048698\n",
      "455    0.153014\n",
      "456    0.182378\n",
      "457         NaN\n",
      "458         NaN\n",
      "459         NaN\n",
      "460         NaN\n",
      "461         NaN\n",
      "462         NaN\n",
      "463         NaN\n",
      "464         NaN\n",
      "465         NaN\n",
      "466         NaN\n",
      "467         NaN\n",
      "Name: bhr1y, dtype: float64\n"
     ]
    }
   ],
   "source": [
    "# /*add market cap information to bhr file*/\n",
    "# Use the SQL to combine two dataframes.\n",
    "# Note that two dataframes are merged by matching ids and yyyymm values\n",
    "query='''select a.*,b.marketcap,b.lmc,b.rdate\n",
    "            from fbhrs as a\n",
    "            left join marketcap as b\n",
    "            where a.id = b.ID and a.yyyymm = b.yyyymm\n",
    "            order by a.id, a.yyyymm'''\n",
    "#Run the query and store the result in bhrmc\n",
    "bhrmc=pysqldf(query)\n",
    "\n",
    "print(bhrmc.head())\n",
    "print(bhrmc.describe())\n",
    "print(bhrmc['bhr1y'])\n",
    "print(bhrmc['bhr1y'].tail(20))"
   ]
  },
  {
   "cell_type": "markdown",
   "id": "a4e66da6-1e3c-4d8f-9088-d05d9bac04e8",
   "metadata": {},
   "source": [
    "## Value-weighted returns\n",
    "\n",
    "$R_{vw}=\\sum_{i=1}^{n} w_i \\times R_i$ where $w_i= \\frac{MC_i}{\\sum_{i=1}^{n} MC_i} $\n",
    "\n",
    "Therefore, $R_{vw}=\\sum_{i=1}^{n} \\frac{MC_i}{\\sum_{i=1}^{n} MC_i} \\times R_i = \\frac{\\sum_{i=1}^{n} MC_i \\times R_i}{\\sum_{i=1}^{n} MC_i}$\n",
    "\n",
    "One thing you have to be aware of is the fact that the market cap used here should be the market cap at the **beginning of the month (lmc)**, not at the end of the month.  "
   ]
  },
  {
   "cell_type": "code",
   "execution_count": 39,
   "id": "f09b642f-7429-42b2-bc98-25ab0077aea9",
   "metadata": {},
   "outputs": [
    {
     "name": "stdout",
     "output_type": "stream",
     "text": [
      "    yyyymm   ewbhr1y   vwbhr1y  numstock\n",
      "0   200101  0.349003       NaN         3\n",
      "1   200102  0.024466  0.030362         3\n",
      "2   200103  0.073645  0.068677         3\n",
      "3   200104  0.136714  0.137508         3\n",
      "4   200105 -0.137322 -0.147868         3\n",
      "5   200106 -0.163099 -0.175687         3\n",
      "6   200107 -0.158866 -0.173322         3\n",
      "7   200108 -0.239212 -0.236591         3\n",
      "8   200109 -0.087263 -0.085107         3\n",
      "9   200110 -0.168423 -0.148427         3\n",
      "10  200111 -0.099295 -0.087645         3\n",
      "11  200112 -0.120632 -0.111027         3\n",
      "12  200201 -0.230607 -0.221988         3\n",
      "13  200202 -0.241252 -0.239652         3\n",
      "14  200203 -0.201661 -0.201076         3\n",
      "15  200204 -0.193554 -0.187987         3\n",
      "16  200205  0.005709  0.002081         3\n",
      "17  200206  0.017000  0.001020         3\n",
      "18  200207  0.025652 -0.004228         3\n",
      "19  200208  0.137165  0.130813         3\n",
      "     yyyymm  ewbhr1y  vwbhr1y  numstock\n",
      "151  201308      NaN      NaN         0\n",
      "152  201309      NaN      NaN         0\n",
      "153  201310      NaN      NaN         0\n",
      "154  201311      NaN      NaN         0\n",
      "155  201312      NaN      NaN         0\n"
     ]
    }
   ],
   "source": [
    "# /*calculate equally-weighted and value-weighted returns of three stocks */\n",
    "# Note that sum are calculated in each group specified in \"group by\"(i.e., in each month (yyyymm)).\n",
    "# In other words, equally- and value-weighted returns are calculated in each yyyymm\n",
    "\n",
    "query='''select a.yyyymm, sum(a.bhr1y)/count(a.bhr1y) as ewbhr1y,\n",
    "                sum(a.bhr1y * a.lmc) / sum(a.lmc) as vwbhr1y, \n",
    "                count(a.bhr1y) as numstock\n",
    "            from bhrmc as a\n",
    "            group by a.yyyymm\n",
    "            order by a.yyyymm'''\n",
    "\n",
    "# Run the query and store the result in portret\n",
    "portret=pysqldf(query)\n",
    "\n",
    "# Check the first 20 rows and the last few rows of portret\n",
    "print(portret.head(20))\n",
    "print(portret.tail())"
   ]
  },
  {
   "cell_type": "code",
   "execution_count": 40,
   "id": "05ba8a2d-82e1-4ce9-a927-0d0ca872002e",
   "metadata": {},
   "outputs": [
    {
     "name": "stdout",
     "output_type": "stream",
     "text": [
      "Average using SQL   :\n",
      "       avgew     avgvw\n",
      "0  0.065536  0.054611\n",
      "Average using mean   :\n",
      " ewbhr1y    0.065536\n",
      "vwbhr1y    0.054611\n",
      "dtype: float64\n",
      "             yyyymm     ewbhr1y     vwbhr1y    numstock\n",
      "count     156.00000  145.000000  144.000000  156.000000\n",
      "mean   200706.50000    0.065536    0.054611    2.788462\n",
      "std       375.38676    0.141365    0.135933    0.770501\n",
      "min    200101.00000   -0.241252   -0.262408    0.000000\n",
      "25%    200403.75000   -0.019622   -0.021618    3.000000\n",
      "50%    200706.50000    0.076353    0.061526    3.000000\n",
      "75%    201009.25000    0.142813    0.137663    3.000000\n",
      "max    201312.00000    0.446937    0.413614    3.000000\n"
     ]
    }
   ],
   "source": [
    "# /*Compare average equally- and value-weighted returns*/\n",
    "# The following calcualte simple averages of monthly equally- and value-\n",
    "# weighted returns calculated above across all year/month\n",
    "\n",
    "query='''select avg(a.ewbhr1y) as avgew, avg(a.vwbhr1y) as avgvw\n",
    "            from portret as a'''\n",
    "summary=pysqldf(query)\n",
    "print('Average using SQL   :\\n', summary.head())\n",
    "print('Average using mean   :\\n', portret[['ewbhr1y','vwbhr1y']].mean())\n",
    "print(portret.describe())"
   ]
  },
  {
   "cell_type": "markdown",
   "id": "f91fc00e-2f25-48e4-8ca1-479aaa28b160",
   "metadata": {},
   "source": [
    "## Form portfolios based on market cap\n",
    "\n",
    "Check which company has larger cap during the sample period"
   ]
  },
  {
   "cell_type": "code",
   "execution_count": 41,
   "id": "c95d1dc0-e2fb-4e84-b5d4-1b699c6b5e66",
   "metadata": {},
   "outputs": [
    {
     "name": "stdout",
     "output_type": "stream",
     "text": [
      "Average calculated using sql: \n",
      "      ID  avgmarketcap\n",
      "0   IBM  1.671088e+08\n",
      "1  MSFT  2.710105e+08\n",
      "2   WMT  2.186112e+08\n",
      "Average calculated using mean()/groupby(): \n",
      " ID\n",
      "IBM     1.671088e+08\n",
      "MSFT    2.710105e+08\n",
      "WMT     2.186112e+08\n",
      "Name: lmc, dtype: float64\n"
     ]
    }
   ],
   "source": [
    "#Find the average lagged market cap for each id\n",
    "# and call it avgmarketcap\n",
    "# Note that avgmarketcap is the average of lagged market cap (lmc) for each ID acorr time\n",
    "\n",
    "query='''select b.id, avg(b.lmc) as avgmarketcap \n",
    "            from marketcap as b group by b.id'''\n",
    "\n",
    "summc=pysqldf(query)\n",
    "print('Average calculated using sql: \\n',summc)\n",
    "print('Average calculated using mean()/groupby(): \\n',marketcap.groupby('ID').lmc.mean())"
   ]
  },
  {
   "cell_type": "markdown",
   "id": "76824770-05b7-4dcb-b93d-6150bbc11f8e",
   "metadata": {},
   "source": [
    "#### Find out the size group using only the market caps in Jan. 2001"
   ]
  },
  {
   "cell_type": "code",
   "execution_count": 42,
   "id": "87e418a6-a61c-46ce-a4f0-935505daa2c0",
   "metadata": {},
   "outputs": [
    {
     "name": "stdout",
     "output_type": "stream",
     "text": [
      "count    4.680000e+02\n",
      "mean     2.536879e+08\n",
      "std      2.028727e-06\n",
      "min      2.536879e+08\n",
      "25%      2.536879e+08\n",
      "50%      2.536879e+08\n",
      "75%      2.536879e+08\n",
      "max      2.536879e+08\n",
      "Name: med, dtype: float64\n",
      "       id  yyyymm    logsum  nummonths     bhr1y     marketcap           lmc  \\\n",
      "0     IBM  200101  0.357970         12  0.430423  1.964906e+08           NaN   \n",
      "1     IBM  200102 -0.032225         12 -0.031711  1.752626e+08  1.964906e+08   \n",
      "2     IBM  200103 -0.012692         12 -0.012612  1.693541e+08  1.752626e+08   \n",
      "3     IBM  200104  0.083456         12  0.087038  2.027390e+08  1.693541e+08   \n",
      "4     IBM  200105 -0.312906         12 -0.268681  1.942433e+08  2.027390e+08   \n",
      "..    ...     ...       ...        ...       ...           ...           ...   \n",
      "195  MSFT  200404  0.083891         12  0.087510  2.820653e+08  2.686706e+08   \n",
      "196  MSFT  200405  0.082571         12  0.086075  2.831448e+08  2.820653e+08   \n",
      "197  MSFT  200406  0.101417         12  0.106738  3.102187e+08  2.831448e+08   \n",
      "198  MSFT  200407 -0.021606         12 -0.021374  3.094584e+08  3.102187e+08   \n",
      "199  MSFT  200408  0.011376         12  0.011441  2.968248e+08  3.094584e+08   \n",
      "\n",
      "                          rdate          med  \n",
      "0    2001-01-31 00:00:00.000000  253687884.8  \n",
      "1    2001-02-28 00:00:00.000000  253687884.8  \n",
      "2    2001-03-31 00:00:00.000000  253687884.8  \n",
      "3    2001-04-30 00:00:00.000000  253687884.8  \n",
      "4    2001-05-31 00:00:00.000000  253687884.8  \n",
      "..                          ...          ...  \n",
      "195  2004-04-30 00:00:00.000000  253687884.8  \n",
      "196  2004-05-31 00:00:00.000000  253687884.8  \n",
      "197  2004-06-30 00:00:00.000000  253687884.8  \n",
      "198  2004-07-31 00:00:00.000000  253687884.8  \n",
      "199  2004-08-31 00:00:00.000000  253687884.8  \n",
      "\n",
      "[200 rows x 9 columns]\n",
      "          marketcap\n",
      "count  3.000000e+00\n",
      "mean   2.586569e+08\n",
      "std    6.479394e+07\n",
      "min    1.964906e+08\n",
      "25%    2.250892e+08\n",
      "50%    2.536879e+08\n",
      "75%    2.897401e+08\n",
      "max    3.257923e+08\n",
      "             med     marketcap    id\n",
      "0    253687884.8  1.964906e+08   IBM\n",
      "156  253687884.8  3.257923e+08  MSFT\n",
      "312  253687884.8  2.536879e+08   WMT\n"
     ]
    }
   ],
   "source": [
    "# Assign firms into a size portfolio based on the market cap on 20010131\n",
    "\n",
    "# First, find out the median of the market cap in Jan. 2001 and call it med\n",
    "bhrmc['med']=np.median(bhrmc[bhrmc['yyyymm']==200101]['marketcap'])# calcualte the median market cap in Jan 2001\n",
    "\n",
    "# Check the median value\n",
    "print(bhrmc.med.describe())\n",
    "print(bhrmc.head(200))\n",
    "#check the median market cap in Jan 2001 to see whether med is correct\n",
    "print(bhrmc.loc[bhrmc.yyyymm==200101,['marketcap']].describe())\n",
    "\n",
    "# Check the median market cap and market cap of each firm in Jan 2001\n",
    "print(bhrmc[bhrmc.yyyymm==200101][['med','marketcap','id']])"
   ]
  },
  {
   "cell_type": "code",
   "execution_count": 43,
   "id": "dd1e05d1-b76b-40b1-a69a-2494d1a6540d",
   "metadata": {},
   "outputs": [
    {
     "name": "stdout",
     "output_type": "stream",
     "text": [
      "Index(['id', 'isize'], dtype='object')\n",
      "     id  isize\n",
      "0   IBM      2\n",
      "1  MSFT      1\n",
      "2   WMT      1\n"
     ]
    }
   ],
   "source": [
    "#Assign firms into a size portfolio based on the market cap on 20010131\n",
    "\n",
    "# Use SQL for the portfolio assignment\n",
    "# find the list of ids available in Jan. 2001 and add a size indicator (isize)\n",
    "# based on the median market cap in Jan. 2001 found above (\"med\") (1=large, 2=small)\n",
    "\n",
    "# Note that \"case when\" is used to assign a value based on a condition\n",
    "# If the condition is true, it returns 1, otherwise it returns 2\n",
    "\n",
    "query='''select a.id, \n",
    "                case when a.marketcap >= a.med then 1 else 2 end as isize\n",
    "            from bhrmc as a\n",
    "            where a.yyyymm = 200101\n",
    "            order by a.id'''\n",
    "\n",
    "# Run the query and store the result in isize\n",
    "isize=pysqldf(query)\n",
    "\n",
    "# Check the columns and the first few rows of isize\n",
    "print(isize.columns)\n",
    "print(isize)"
   ]
  },
  {
   "cell_type": "code",
   "execution_count": 44,
   "id": "e6fd92c4-6e5c-4eb3-8e2b-1a099bb3b1dd",
   "metadata": {},
   "outputs": [
    {
     "name": "stdout",
     "output_type": "stream",
     "text": [
      "      id  yyyymm    logsum  nummonths     bhr1y     marketcap           lmc  \\\n",
      "0    IBM  200101  0.357970         12  0.430423  1.964906e+08           NaN   \n",
      "1    IBM  200102 -0.032225         12 -0.031711  1.752626e+08  1.964906e+08   \n",
      "2    IBM  200103 -0.012692         12 -0.012612  1.693541e+08  1.752626e+08   \n",
      "3    IBM  200104  0.083456         12  0.087038  2.027390e+08  1.693541e+08   \n",
      "4    IBM  200105 -0.312906         12 -0.268681  1.942433e+08  2.027390e+08   \n",
      "..   ...     ...       ...        ...       ...           ...           ...   \n",
      "463  WMT  201308  0.021951          5       NaN  2.391320e+08  2.553843e+08   \n",
      "464  WMT  201309  0.081285          4       NaN  2.407735e+08  2.391320e+08   \n",
      "465  WMT  201310  0.067946          3       NaN  2.489821e+08  2.407735e+08   \n",
      "466  WMT  201311  0.030918          2       NaN  2.628018e+08  2.489821e+08   \n",
      "467  WMT  201312 -0.023102          1       NaN  2.546229e+08  2.628018e+08   \n",
      "\n",
      "                          rdate          med  isize  \n",
      "0    2001-01-31 00:00:00.000000  253687884.8      2  \n",
      "1    2001-02-28 00:00:00.000000  253687884.8      2  \n",
      "2    2001-03-31 00:00:00.000000  253687884.8      2  \n",
      "3    2001-04-30 00:00:00.000000  253687884.8      2  \n",
      "4    2001-05-31 00:00:00.000000  253687884.8      2  \n",
      "..                          ...          ...    ...  \n",
      "463  2013-08-31 00:00:00.000000  253687884.8      1  \n",
      "464  2013-09-30 00:00:00.000000  253687884.8      1  \n",
      "465  2013-10-31 00:00:00.000000  253687884.8      1  \n",
      "466  2013-11-30 00:00:00.000000  253687884.8      1  \n",
      "467  2013-12-31 00:00:00.000000  253687884.8      1  \n",
      "\n",
      "[468 rows x 10 columns]\n"
     ]
    }
   ],
   "source": [
    "# Combine the above result with the bhrmc dataframe by matching ids\n",
    "# (adding isize to bhrmc file)\n",
    "\n",
    "query='''select a.*,b.isize\n",
    "            from bhrmc as a\n",
    "            left join isize as b\n",
    "            on a.id = b.id\n",
    "            order by a.id, a.yyyymm'''\n",
    "bhrmc2=pysqldf(query)\n",
    "\n",
    "# Confirm that isize is added to bhrmc2\n",
    "print(bhrmc2)"
   ]
  },
  {
   "cell_type": "markdown",
   "id": "70992686-5179-4097-bb1f-57209502e45f",
   "metadata": {},
   "source": [
    "### Calculate summary statistics for each isize group"
   ]
  },
  {
   "cell_type": "code",
   "execution_count": 45,
   "id": "5211659c",
   "metadata": {},
   "outputs": [
    {
     "name": "stdout",
     "output_type": "stream",
     "text": [
      "   isize       avg       max       min  num\n",
      "0      1  0.054897  0.811814 -0.465749  290\n",
      "1      2  0.086814  0.586113 -0.360123  145\n",
      "       count      mean       std       min       25%       50%       75%  \\\n",
      "isize                                                                      \n",
      "1      290.0  0.054897  0.176339 -0.465749 -0.045086  0.048799  0.133958   \n",
      "2      145.0  0.086814  0.204856 -0.360123 -0.047152  0.072456  0.232000   \n",
      "\n",
      "            max  \n",
      "isize            \n",
      "1      0.811814  \n",
      "2      0.586113  \n"
     ]
    }
   ],
   "source": [
    "# Use SQL to summarize the average, maximum, minimum, and count of bhr1y\n",
    "# grouped by isize (size portfolio)\n",
    "\n",
    "query='''select a.isize,avg(a.bhr1y) as avg, max(a.bhr1y) as max, min(a.bhr1y) as min,\n",
    "                count(a.bhr1y) as num\n",
    "            from bhrmc2 as a\n",
    "            group by a.isize'''\n",
    "summary=pysqldf(query)\n",
    "print(summary)\n",
    "\n",
    "#Alternativley, you can use the following code to summarize the average, maximum, minimum, and count of bhr1y\n",
    "# grouped by isize (size portfolio)\n",
    "print(bhrmc2.groupby('isize')['bhr1y'].describe())"
   ]
  },
  {
   "cell_type": "markdown",
   "id": "50b2f35b-f086-4a3a-8409-792039f8c0ac",
   "metadata": {},
   "source": [
    "# Calendar-time portfolio formation and return calculation\n",
    "\n",
    "### Calendar time portfolio is a portfolio formed in each month\n",
    "#### In each month, the portfolio is composed of firms that had an event within the past 24 mont\n",
    "\n",
    "A firm is included **only once** even if it had multiple events within the past 24 months."
   ]
  },
  {
   "cell_type": "code",
   "execution_count": 46,
   "id": "c4fc4162-1669-4b82-b094-a744fe8ca727",
   "metadata": {},
   "outputs": [
    {
     "name": "stdout",
     "output_type": "stream",
     "text": [
      "ID      object\n",
      "Date     int64\n",
      "dtype: object\n",
      "      ID      Date\n",
      "0   MSFT  20040105\n",
      "1   MSFT  20050510\n",
      "2   MSFT  20081025\n",
      "3    IBM  20020108\n",
      "4    IBM  20060207\n",
      "5    IBM  20090604\n",
      "6    IBM  20121017\n",
      "7    WMT  20011202\n",
      "8    WMT  20030920\n",
      "9    WMT  20060320\n",
      "10   WMT  20070205\n",
      "11   WMT  20081105\n",
      "12   WMT  20110503\n",
      "13   WMT  20120224\n"
     ]
    }
   ],
   "source": [
    "#Read the data\n",
    "\n",
    "events=pd.read_excel('./note4data.xlsx', sheet_name=\"Events\", header=0)\n",
    "print(events.dtypes)\n",
    "print(events)"
   ]
  },
  {
   "cell_type": "code",
   "execution_count": 47,
   "id": "dcf8a5bc-0899-4660-9256-838f3e0e9b17",
   "metadata": {},
   "outputs": [
    {
     "name": "stdout",
     "output_type": "stream",
     "text": [
      "    ID      Date                       rdate    Return           lmc  \\\n",
      "0  IBM  20020108  2001-01-31 00:00:00.000000  0.317647           NaN   \n",
      "1  IBM  20020108  2001-02-28 00:00:00.000000 -0.106875  1.964906e+08   \n",
      "2  IBM  20020108  2001-03-31 00:00:00.000000 -0.037237  1.752626e+08   \n",
      "3  IBM  20020108  2001-04-30 00:00:00.000000  0.197130  1.693541e+08   \n",
      "4  IBM  20020108  2001-05-31 00:00:00.000000 -0.027792  2.027390e+08   \n",
      "\n",
      "      marketcap  \n",
      "0  1.964906e+08  \n",
      "1  1.752626e+08  \n",
      "2  1.693541e+08  \n",
      "3  2.027390e+08  \n",
      "4  1.942433e+08  \n",
      "Number of rows and columns in eventret: (2352, 6)\n",
      "Number of rows and columns in events: (14, 2)\n",
      "Number of rows and columns in marketcap: (504, 10)\n",
      "7056\n"
     ]
    }
   ],
   "source": [
    "#/*combine the event data with the return data*/\n",
    "# Match by ids only\n",
    "\n",
    "query='''select a.*,b.rdate,b.return,b.lmc,b.marketcap\n",
    "            from events as a\n",
    "            left join marketcap as b \n",
    "            on a.id=b.id\n",
    "            order by a.id, a.date,b.date'''\n",
    "\n",
    "eventret=pysqldf(query)\n",
    "\n",
    "print(eventret.head())\n",
    "# Check the number of rows and columns for eventret and two input dataframes\n",
    "print(\"Number of rows and columns in eventret:\", eventret.shape)\n",
    "print(\"Number of rows and columns in events:\", events.shape)\n",
    "print(\"Number of rows and columns in marketcap:\", marketcap.shape)\n",
    "\n",
    "#This is not a Cartesian product, but a join\n",
    "# Therefore, the number of rows in eventret is NOT the product of\n",
    "# the number of rows in events and marketcap\n",
    "\n",
    "print(events.shape[0]*marketcap.shape[0])"
   ]
  },
  {
   "cell_type": "code",
   "execution_count": 48,
   "id": "d9d33a6c-f885-46f9-8cd3-da75b25d19fb",
   "metadata": {},
   "outputs": [
    {
     "name": "stdout",
     "output_type": "stream",
     "text": [
      "    ID      Date                       rdate    Return           lmc  \\\n",
      "0  IBM  20020108  2001-01-31 00:00:00.000000  0.317647           NaN   \n",
      "1  IBM  20020108  2001-02-28 00:00:00.000000 -0.106875  1.964906e+08   \n",
      "2  IBM  20020108  2001-03-31 00:00:00.000000 -0.037237  1.752626e+08   \n",
      "3  IBM  20020108  2001-04-30 00:00:00.000000  0.197130  1.693541e+08   \n",
      "4  IBM  20020108  2001-05-31 00:00:00.000000 -0.027792  2.027390e+08   \n",
      "\n",
      "      marketcap      edate         rd  yyyymm  \n",
      "0  1.964906e+08 2002-01-08 2001-01-31  200101  \n",
      "1  1.752626e+08 2002-01-08 2001-02-28  200102  \n",
      "2  1.693541e+08 2002-01-08 2001-03-31  200103  \n",
      "3  2.027390e+08 2002-01-08 2001-04-30  200104  \n",
      "4  1.942433e+08 2002-01-08 2001-05-31  200105  \n"
     ]
    }
   ],
   "source": [
    "## convert the date format of Date in eventret\n",
    "## to a datetime variable and call it \"edate\" (event date)\n",
    "\n",
    "## In addition, call the return date as \"rd\" (return date)\n",
    "\n",
    "## Note that yyyymm indicates year and month of return date (not event date)\n",
    "eventret['edate']=pd.to_datetime(eventret['Date'].astype(int).astype(str),format='%Y%m%d')\n",
    "\n",
    "eventret['rd']=pd.to_datetime(eventret['rdate'])\n",
    "\n",
    "##yyyymm is the year-month of returns\n",
    "eventret['yyyymm']=eventret.rd.dt.year*100+eventret.rd.dt.month\n",
    "print(eventret.head())"
   ]
  },
  {
   "cell_type": "code",
   "execution_count": 49,
   "id": "d04cc12f-7780-4a65-86d1-30d8d1d5c01f",
   "metadata": {},
   "outputs": [
    {
     "name": "stdout",
     "output_type": "stream",
     "text": [
      "          edate        e24\n",
      "0    2002-01-08 2004-01-08\n",
      "1    2002-01-08 2004-01-08\n",
      "2    2002-01-08 2004-01-08\n",
      "3    2002-01-08 2004-01-08\n",
      "4    2002-01-08 2004-01-08\n",
      "...         ...        ...\n",
      "2347 2012-02-24 2014-02-24\n",
      "2348 2012-02-24 2014-02-24\n",
      "2349 2012-02-24 2014-02-24\n",
      "2350 2012-02-24 2014-02-24\n",
      "2351 2012-02-24 2014-02-24\n",
      "\n",
      "[2352 rows x 2 columns]\n",
      "    ID      Date                       rdate    Return           lmc  \\\n",
      "0  IBM  20020108  2001-01-31 00:00:00.000000  0.317647           NaN   \n",
      "1  IBM  20020108  2001-02-28 00:00:00.000000 -0.106875  1.964906e+08   \n",
      "2  IBM  20020108  2001-03-31 00:00:00.000000 -0.037237  1.752626e+08   \n",
      "3  IBM  20020108  2001-04-30 00:00:00.000000  0.197130  1.693541e+08   \n",
      "4  IBM  20020108  2001-05-31 00:00:00.000000 -0.027792  2.027390e+08   \n",
      "\n",
      "      marketcap      edate         rd  yyyymm        e24  eyyyymm  e24yyyymm  \n",
      "0  1.964906e+08 2002-01-08 2001-01-31  200101 2004-01-08   200201     200401  \n",
      "1  1.752626e+08 2002-01-08 2001-02-28  200102 2004-01-08   200201     200401  \n",
      "2  1.693541e+08 2002-01-08 2001-03-31  200103 2004-01-08   200201     200401  \n",
      "3  2.027390e+08 2002-01-08 2001-04-30  200104 2004-01-08   200201     200401  \n",
      "4  1.942433e+08 2002-01-08 2001-05-31  200105 2004-01-08   200201     200401  \n",
      "       ID      Date                       rdate    Return           lmc  \\\n",
      "2347  WMT  20120224  2014-08-31 00:00:00.000000  0.032618  2.371929e+08   \n",
      "2348  WMT  20120224  2014-09-30 00:00:00.000000  0.012848  2.433822e+08   \n",
      "2349  WMT  20120224  2014-10-31 00:00:00.000000 -0.002615  2.464256e+08   \n",
      "2350  WMT  20120224  2014-11-30 00:00:00.000000  0.147765  2.457811e+08   \n",
      "2351  WMT  20120224  2014-12-31 00:00:00.000000 -0.013480  2.820988e+08   \n",
      "\n",
      "         marketcap      edate         rd  yyyymm        e24  eyyyymm  \\\n",
      "2347  2.433822e+08 2012-02-24 2014-08-31  201408 2014-02-24   201202   \n",
      "2348  2.464256e+08 2012-02-24 2014-09-30  201409 2014-02-24   201202   \n",
      "2349  2.457811e+08 2012-02-24 2014-10-31  201410 2014-02-24   201202   \n",
      "2350  2.820988e+08 2012-02-24 2014-11-30  201411 2014-02-24   201202   \n",
      "2351  2.768076e+08 2012-02-24 2014-12-31  201412 2014-02-24   201202   \n",
      "\n",
      "      e24yyyymm  \n",
      "2347     201402  \n",
      "2348     201402  \n",
      "2349     201402  \n",
      "2350     201402  \n",
      "2351     201402  \n",
      "       ID      edate  yyyymm        e24         rd  eyyyymm  e24yyyymm\n",
      "0     IBM 2002-01-08  200101 2004-01-08 2001-01-31   200201     200401\n",
      "1     IBM 2002-01-08  200102 2004-01-08 2001-02-28   200201     200401\n",
      "2     IBM 2002-01-08  200103 2004-01-08 2001-03-31   200201     200401\n",
      "3     IBM 2002-01-08  200104 2004-01-08 2001-04-30   200201     200401\n",
      "4     IBM 2002-01-08  200105 2004-01-08 2001-05-31   200201     200401\n",
      "...   ...        ...     ...        ...        ...      ...        ...\n",
      "2347  WMT 2012-02-24  201408 2014-02-24 2014-08-31   201202     201402\n",
      "2348  WMT 2012-02-24  201409 2014-02-24 2014-09-30   201202     201402\n",
      "2349  WMT 2012-02-24  201410 2014-02-24 2014-10-31   201202     201402\n",
      "2350  WMT 2012-02-24  201411 2014-02-24 2014-11-30   201202     201402\n",
      "2351  WMT 2012-02-24  201412 2014-02-24 2014-12-31   201202     201402\n",
      "\n",
      "[2352 rows x 7 columns]\n"
     ]
    }
   ],
   "source": [
    "from dateutil.relativedelta import *\n",
    "\n",
    "## You can use the \"relativedelta\" fundtion to find out\n",
    "## the date corresponding to a certain number of months \n",
    "#  plus (or minus) a certain date.  \n",
    "# (MonthEnd() is not used here since event date is not necessarily the end of a month)\n",
    "\n",
    "##Find out the date 24 months after the event date\n",
    "\n",
    "## \"e24\" is the date 24 months after the event date\n",
    "## eyyyymm and e24yyyymm are year and months of event date and 24 months after the corresponding event date.\n",
    "\n",
    "\n",
    "#appy.(lambda x: f(x)) is used to run f(x) function \n",
    "# for each observation of a column (here, eventret.edate)\n",
    "\n",
    "\n",
    "eventret['e24']=eventret.edate.apply(lambda x: x+relativedelta(months=+24))\n",
    "#check whether e24 is correct\n",
    "print(eventret[['edate','e24']])\n",
    "\n",
    "# eyyyymm and e24yyyymm are year and months of event date and 24 months after the corresponding event date.\n",
    "eventret['eyyyymm']=eventret.edate.dt.year*100+eventret.edate.dt.month\n",
    "eventret['e24yyyymm']=eventret.e24.dt.year*100+eventret.e24.dt.month\n",
    "\n",
    "#Check the output of eventret\n",
    "print(eventret.head())\n",
    "print(eventret.tail())\n",
    "print(eventret[['ID','edate','yyyymm','e24','rd','eyyyymm','e24yyyymm']])"
   ]
  },
  {
   "cell_type": "code",
   "execution_count": 50,
   "id": "eb4934e1-9fea-4214-9bd5-09f41883e565",
   "metadata": {},
   "outputs": [
    {
     "name": "stdout",
     "output_type": "stream",
     "text": [
      "          edate        e24       e24a\n",
      "0    2002-01-08 2004-01-08 2003-12-31\n",
      "1    2002-01-08 2004-01-08 2003-12-31\n",
      "2    2002-01-08 2004-01-08 2003-12-31\n",
      "3    2002-01-08 2004-01-08 2003-12-31\n",
      "4    2002-01-08 2004-01-08 2003-12-31\n",
      "...         ...        ...        ...\n",
      "2347 2012-02-24 2014-02-24 2014-01-31\n",
      "2348 2012-02-24 2014-02-24 2014-01-31\n",
      "2349 2012-02-24 2014-02-24 2014-01-31\n",
      "2350 2012-02-24 2014-02-24 2014-01-31\n",
      "2351 2012-02-24 2014-02-24 2014-01-31\n",
      "\n",
      "[2352 rows x 3 columns]\n"
     ]
    }
   ],
   "source": [
    "## Compare the results with those using MonthEnd()\n",
    "eventret['e24a']=eventret.edate+MonthEnd(+24)\n",
    "print(eventret[['edate','e24','e24a']])"
   ]
  },
  {
   "cell_type": "markdown",
   "id": "c63f5d8a-2112-47ac-9bd5-3c98c5c0884b",
   "metadata": {},
   "source": [
    "## Calculate calendar time portfolio return\n",
    "\n",
    "The portfolios are composed of firms with the events that occurred within the past 24 months\n",
    "\n",
    "Find out the list of the stocks that satisfy the condition in each month\n",
    "\n",
    "In each month, id will be listed if it satisfy the condition in where i.e., return date is within the 24-month window starting from the month after event month.\n",
    "\n",
    "#### **distinct** is used in the \"select\" statement to select only unique observations (prevent same values to be selected multiple times."
   ]
  },
  {
   "cell_type": "code",
   "execution_count": 51,
   "id": "84e1c0d5-9dd9-4db9-b365-32d8970f87ee",
   "metadata": {},
   "outputs": [],
   "source": [
    "#Save the eventret dataframe to an Excel file\n",
    "# This will create an Excel file named 'eventret.xlsx' in the current directory\n",
    "eventret.to_excel('./eventret.xlsx')"
   ]
  },
  {
   "cell_type": "code",
   "execution_count": 52,
   "id": "6f1a5626-0402-4c8e-953d-1015edc9ebd3",
   "metadata": {},
   "outputs": [
    {
     "name": "stdout",
     "output_type": "stream",
     "text": [
      "    ID      Date                       rdate    Return           lmc  \\\n",
      "0  IBM  20020108  2001-01-31 00:00:00.000000  0.317647           NaN   \n",
      "1  IBM  20020108  2001-02-28 00:00:00.000000 -0.106875  1.964906e+08   \n",
      "2  IBM  20020108  2001-03-31 00:00:00.000000 -0.037237  1.752626e+08   \n",
      "3  IBM  20020108  2001-04-30 00:00:00.000000  0.197130  1.693541e+08   \n",
      "4  IBM  20020108  2001-05-31 00:00:00.000000 -0.027792  2.027390e+08   \n",
      "\n",
      "      marketcap      edate         rd  yyyymm        e24  eyyyymm  e24yyyymm  \\\n",
      "0  1.964906e+08 2002-01-08 2001-01-31  200101 2004-01-08   200201     200401   \n",
      "1  1.752626e+08 2002-01-08 2001-02-28  200102 2004-01-08   200201     200401   \n",
      "2  1.693541e+08 2002-01-08 2001-03-31  200103 2004-01-08   200201     200401   \n",
      "3  2.027390e+08 2002-01-08 2001-04-30  200104 2004-01-08   200201     200401   \n",
      "4  1.942433e+08 2002-01-08 2001-05-31  200105 2004-01-08   200201     200401   \n",
      "\n",
      "        e24a  \n",
      "0 2003-12-31  \n",
      "1 2003-12-31  \n",
      "2 2003-12-31  \n",
      "3 2003-12-31  \n",
      "4 2003-12-31  \n"
     ]
    }
   ],
   "source": [
    "print(eventret.head())"
   ]
  },
  {
   "cell_type": "code",
   "execution_count": null,
   "id": "074d8401-767a-47e0-9873-aba22f2da270",
   "metadata": {},
   "outputs": [
    {
     "name": "stdout",
     "output_type": "stream",
     "text": [
      "Index(['ID', 'Date', 'rdate', 'Return', 'lmc', 'marketcap', 'edate', 'rd',\n",
      "       'yyyymm', 'e24', 'eyyyymm', 'e24yyyymm', 'e24a'],\n",
      "      dtype='object')\n",
      "   yyyymm   ID\n",
      "0  200201  WMT\n",
      "1  200202  IBM\n",
      "2  200202  WMT\n",
      "3  200203  IBM\n",
      "4  200203  WMT\n",
      "    yyyymm    ID\n",
      "20  200211   WMT\n",
      "21  200212   IBM\n",
      "22  200212   WMT\n",
      "23  200301   IBM\n",
      "24  200301   WMT\n",
      "25  200302   IBM\n",
      "26  200302   WMT\n",
      "27  200303   IBM\n",
      "28  200303   WMT\n",
      "29  200304   IBM\n",
      "30  200304   WMT\n",
      "31  200305   IBM\n",
      "32  200305   WMT\n",
      "33  200306   IBM\n",
      "34  200306   WMT\n",
      "35  200307   IBM\n",
      "36  200307   WMT\n",
      "37  200308   IBM\n",
      "38  200308   WMT\n",
      "39  200309   IBM\n",
      "40  200309   WMT\n",
      "41  200310   IBM\n",
      "42  200310   WMT\n",
      "43  200311   IBM\n",
      "44  200311   WMT\n",
      "45  200312   IBM\n",
      "46  200312   WMT\n",
      "47  200401   IBM\n",
      "48  200401   WMT\n",
      "49  200402  MSFT\n"
     ]
    }
   ],
   "source": [
    "##Notice the use of \"distinct\" here\n",
    "## If not used, it can list the same yyyymm id row mutiple times\n",
    "\n",
    "## Note that the conditions in the \"where\" statement dictates which observations to include\n",
    "## based on yyyymm, event yyyymm (eyyyymm) and 24 months after the event yyyymm (e24yyyymm)\n",
    "\n",
    "print(eventret.columns)\n",
    "\n",
    "query='''select distinct a.yyyymm, a.id\n",
    "                  from eventret as a\n",
    "                  where  a.yyyymm > a.eyyyymm and a.yyyymm <= a.e24yyyymm\n",
    "                  order by a.yyyymm,a.id''' # a.yyyymm > a.eyyyymm 해준 것은 forward looking 안하기 위함. \n",
    "                  # distinct 는 event가 24m 윈도우 내에서 여러 번 발생하더라도 1 번만 남기기 위함. \n",
    "\n",
    "portdat=pysqldf(query)\n",
    "print(portdat.head())\n",
    "print(portdat.iloc[20:50,])"
   ]
  },
  {
   "cell_type": "code",
   "execution_count": 54,
   "id": "646de2a8-b64c-4a05-8334-d6864cf81b90",
   "metadata": {},
   "outputs": [
    {
     "name": "stdout",
     "output_type": "stream",
     "text": [
      "   yyyymm     ewret     vwret  numstock\n",
      "0  200201  0.042224  0.042224         1\n",
      "1  200202 -0.027707 -0.016640         2\n",
      "2  200203  0.024844  0.016387         2\n",
      "3  200204 -0.141680 -0.130681         2\n",
      "4  200205 -0.034617 -0.033792         2\n",
      "     yyyymm     ewret     vwret  numstock\n",
      "149  201406 -0.016761 -0.016761         1\n",
      "150  201407  0.057373  0.057373         1\n",
      "151  201408  0.009026  0.009026         1\n",
      "152  201409 -0.012845 -0.012845         1\n",
      "153  201410 -0.133962 -0.133962         1\n",
      "              yyyymm       ewret       vwret    numstock\n",
      "count     154.000000  154.000000  154.000000  154.000000\n",
      "mean   200798.642857    0.007749    0.007113    1.909091\n",
      "std       371.362985    0.049153    0.047607    0.689450\n",
      "min    200201.000000   -0.152166   -0.142266    1.000000\n",
      "25%    200503.250000   -0.016479   -0.016731    1.000000\n",
      "50%    200805.500000    0.008188    0.007264    2.000000\n",
      "75%    201107.750000    0.034472    0.036668    2.000000\n",
      "max    201410.000000    0.220664    0.170629    3.000000\n"
     ]
    }
   ],
   "source": [
    "### We are now ready to calculate the calendar time portfolio returns\n",
    "### We will calculate the equally- and value-weighted returns in each month\n",
    "\n",
    "## calcualte the equally- and value-weighted calendar time portfolio returns in each month\n",
    "## after joining market cap information.\n",
    "\n",
    "query='''select a.yyyymm, sum(b.return)/count(b.return) as ewret,\n",
    "                  sum(b.return*b.lmc)/sum(b.lmc) as vwret, count(b.return) as numstock\n",
    "                from portdat as a \n",
    "                left join marketcap as b\n",
    "                on  (a.id=b.id and a.yyyymm=b.yyyymm)\n",
    "                group by a.yyyymm\n",
    "                order by a.yyyymm'''\n",
    "\n",
    "calret=pysqldf(query)\n",
    "print(calret.head())\n",
    "print(calret.tail())\n",
    "print(calret.describe())"
   ]
  },
  {
   "cell_type": "markdown",
   "id": "7b0dbc1c-1159-4ce9-aa2e-1ca6adcbd4b4",
   "metadata": {},
   "source": [
    "# P/B portfolio formation and return calculation\n",
    "\n",
    "Input files used\n",
    "\n",
    "    - 2020SP500Constituents_2025_Short.xlsx\n",
    "\n",
    "We will make 3 dataframes (return, market cap and MB ratios) out of the input file and then combine them to calculate portfolio returns\n",
    "\n",
    "2020SP500Constituents_2025.xlsx file includes the list of firms included in S&P 500 as of 2020 and other information of these firms (returns, market capitalization and market-to-book equity ratio) retrieved from Bloomberg in Excel as will be discussed in Note6W.  You will find that the information can be retrieved directly from Bloomberg using API as will be discussed in Note6W (and shown in FDNote6W2025.ipynb)."
   ]
  },
  {
   "cell_type": "markdown",
   "id": "8ac06b27",
   "metadata": {},
   "source": [
    "#### First, Make Return Dataframe"
   ]
  },
  {
   "cell_type": "code",
   "execution_count": 55,
   "id": "c97750d1-9ae8-4a5f-8981-aeef63a38111",
   "metadata": {},
   "outputs": [
    {
     "name": "stdout",
     "output_type": "stream",
     "text": [
      "Index(['CUST_TRR_RETURN_HOLDING_PER', 'Date', 'Bdate', 'Edate',\n",
      "       'WEC UN Equity'],\n",
      "      dtype='object')\n",
      "   CUST_TRR_RETURN_HOLDING_PER       Date      Bdate      Edate  WEC UN Equity\n",
      "0                          NaN 2020-07-01 2020-06-30 2020-07-31       8.682259\n",
      "1                          NaN 2020-08-01 2020-07-31 2020-08-31      -0.555573\n",
      "2                          NaN 2020-09-01 2020-08-31 2020-09-30       2.997449\n",
      "3                          NaN 2020-10-01 2020-09-30 2020-10-30       3.766770\n",
      "4                          NaN 2020-11-01 2020-10-30 2020-11-30      -4.986378\n",
      "Index(['Edate', 'WEC UN Equity', 'NWS UW Equity', 'LYB UN Equity',\n",
      "       'AXP UN Equity'],\n",
      "      dtype='object')\n",
      "       Edate  WEC UN Equity  NWS UW Equity  LYB UN Equity  AXP UN Equity\n",
      "0 2020-07-31       8.682259       6.778243      -4.869142      -1.526615\n",
      "1 2020-08-31      -0.555573      18.103450       6.348149       8.861980\n",
      "2 2020-09-30       2.997449      -6.623806       7.651191      -1.319027\n",
      "3 2020-10-30       3.766770      -6.866953      -2.894027      -8.618539\n",
      "4 2020-11-30      -4.986378      36.789550      25.810100      29.975890\n"
     ]
    }
   ],
   "source": [
    "#########################################################\n",
    "########read the return data\n",
    "#########################################################\n",
    "returns=pd.read_excel('./2020SP500Constituents_2025_Short.xlsx', sheet_name=\"Returns\", header=0)\n",
    "print(returns.columns[:5])\n",
    "print(returns.iloc[:5,:5])\n",
    "\n",
    "#discard the first three columns\n",
    "returns=returns.iloc[:,3:].copy()#The first one is row and the second one is column\n",
    "print(returns.columns[:5])\n",
    "print(returns.iloc[:5,:5])\n"
   ]
  },
  {
   "cell_type": "code",
   "execution_count": 56,
   "id": "6da7821d-0209-45c1-83fd-e566cab7fc89",
   "metadata": {},
   "outputs": [
    {
     "name": "stdout",
     "output_type": "stream",
     "text": [
      "(54, 506)\n",
      "Index(['date', 'WEC UN Equity', 'NWS UW Equity', 'LYB UN Equity',\n",
      "       'AXP UN Equity', 'VZ UN Equity', 'AVGO UW Equity', 'BA UN Equity',\n",
      "       'CAT UN Equity', 'JPM UN Equity',\n",
      "       ...\n",
      "       'NCLH UN Equity', 'MS UN Equity', 'APH UN Equity', 'PXD UN Equity',\n",
      "       'DVN UN Equity', 'FTI UN Equity', 'WYNN UW Equity', 'APA UW Equity',\n",
      "       'ALB UN Equity', 'VNT UN Equity'],\n",
      "      dtype='object', length=506)\n",
      "['date' 'WEC UN Equity' 'NWS UW Equity' 'LYB UN Equity' 'AXP UN Equity']\n"
     ]
    }
   ],
   "source": [
    "## select only those with available \"Edate\" information and rename \"Edate\" as \"date\"\n",
    "ret0=returns.dropna(subset=['Edate']).copy()#drop all rows with Edate=NaN\n",
    "\n",
    "#Rename\n",
    "# it is important to use inplace=True to change the original dataframe\n",
    "ret0.rename(columns={'Edate': 'date'}, inplace=True)\n",
    "\n",
    "##check\n",
    "print(ret0.shape)\n",
    "print(ret0.columns)\n",
    "print(ret0.columns.values[:5])"
   ]
  },
  {
   "cell_type": "code",
   "execution_count": 57,
   "id": "bc62a095-e558-4673-abdb-32fd625fe2ea",
   "metadata": {},
   "outputs": [
    {
     "name": "stdout",
     "output_type": "stream",
     "text": [
      "        date  WEC UN Equity  NWS UW Equity  LYB UN Equity  AXP UN Equity\n",
      "0 2020-07-31       8.682259       6.778243      -4.869142      -1.526615\n",
      "1 2020-08-31      -0.555573      18.103450       6.348149       8.861980\n",
      "2 2020-09-30       2.997449      -6.623806       7.651191      -1.319027\n",
      "3 2020-10-30       3.766770      -6.866953      -2.894027      -8.618539\n",
      "4 2020-11-30      -4.986378      36.789550      25.810100      29.975890\n"
     ]
    }
   ],
   "source": [
    "##sort by date\n",
    "ret0sort=ret0.sort_values(['date'])\n",
    "\n",
    "print(ret0sort.iloc[:5,:5])"
   ]
  },
  {
   "cell_type": "markdown",
   "id": "e1a22169",
   "metadata": {},
   "source": [
    "#### Trasnpose the data to calculate portfolio returns\n",
    "\n",
    "In the current format, returns are across different columns.\n",
    "To calculate portfolio returns, it is easy to have returns in one column, not across different columns"
   ]
  },
  {
   "cell_type": "code",
   "execution_count": 58,
   "id": "e1af3436-0257-448e-96fe-eee98a67726f",
   "metadata": {},
   "outputs": [
    {
     "name": "stdout",
     "output_type": "stream",
     "text": [
      "        date             id       ret\n",
      "0 2020-07-31  WEC UN Equity  8.682259\n",
      "1 2020-08-31  WEC UN Equity -0.555573\n",
      "2 2020-09-30  WEC UN Equity  2.997449\n",
      "3 2020-10-30  WEC UN Equity  3.766770\n",
      "4 2020-11-30  WEC UN Equity -4.986378\n",
      "Empty DataFrame\n",
      "Columns: [date, id, ret]\n",
      "Index: []\n"
     ]
    }
   ],
   "source": [
    "##transpose the data (column names are called \"id\" and values are called \"ret\")\n",
    "# pd.melt() is used to reshape the DataFrame\n",
    "# It converts the DataFrame from wide format to long format\n",
    "\n",
    "#id_vars=['date'] specifies the columns to keep as identifiers\n",
    "#var_name='id' specifies the name of the new column that will contain the former column names\n",
    "#value_name='ret' specifies the name of the new column that will contain the former values\n",
    "\n",
    "returns0=pd.melt(ret0sort,id_vars=['date'],var_name='id',value_name='ret')\n",
    "\n",
    "#check the first few rows and the rows with ret=-99\n",
    "print(returns0.head())\n",
    "print (returns0.loc[returns0['ret']==-99])"
   ]
  },
  {
   "cell_type": "code",
   "execution_count": 59,
   "id": "306cb425-9b95-4c4a-99e4-82d321a453f2",
   "metadata": {},
   "outputs": [
    {
     "name": "stdout",
     "output_type": "stream",
     "text": [
      "date    2022-11-30 00:00:00\n",
      "id             BA UN Equity\n",
      "ret                25.52102\n",
      "Name: 352, dtype: object\n"
     ]
    }
   ],
   "source": [
    "# Print the row at index 352\n",
    "# This will show the data for the specific date and id at that index\n",
    "print(returns0.iloc[352,:])"
   ]
  },
  {
   "cell_type": "code",
   "execution_count": 60,
   "id": "265faa6d-fee6-4feb-ace5-2cf259a97fcf",
   "metadata": {},
   "outputs": [
    {
     "name": "stdout",
     "output_type": "stream",
     "text": [
      "date    2022-11-30 00:00:00\n",
      "id             BA UN Equity\n",
      "ret                 0.25521\n",
      "Name: 352, dtype: object\n",
      "        date             id       ret\n",
      "0 2020-07-31  WEC UN Equity  0.086823\n",
      "1 2020-08-31  WEC UN Equity -0.005556\n",
      "2 2020-09-30  WEC UN Equity  0.029974\n",
      "3 2020-10-30  WEC UN Equity  0.037668\n",
      "4 2020-11-30  WEC UN Equity -0.049864\n",
      "count    1080.000000\n",
      "mean        0.017066\n",
      "std         0.087469\n",
      "min        -0.244431\n",
      "25%        -0.037846\n",
      "50%         0.012920\n",
      "75%         0.063766\n",
      "max         0.459312\n",
      "Name: ret, dtype: float64\n"
     ]
    }
   ],
   "source": [
    "###Replace the \"ret\" column values of -99 as missing returns\n",
    "returns0.loc[returns0['ret']==-99,'ret']=np.nan\n",
    "### convert the return in % to decimal by dividing the return values by 100\n",
    "returns0['ret']=returns0['ret']/100.0\n",
    "\n",
    "#check\n",
    "print(returns0.iloc[352,:])\n",
    "print(returns0.head())\n",
    "print(returns0.ret.describe())"
   ]
  },
  {
   "cell_type": "code",
   "execution_count": 61,
   "id": "65ae0a4e-0210-4036-ac1e-404e88a3acc3",
   "metadata": {},
   "outputs": [
    {
     "name": "stdout",
     "output_type": "stream",
     "text": [
      "        avg   num        sum       min       max\n",
      "0  0.017066  1080  18.431564 -0.244431  0.459312\n"
     ]
    }
   ],
   "source": [
    "#use query to check summary statistics of monthly returns\n",
    "\n",
    "query='''\n",
    "        select avg(a.ret) as avg, count(a.ret) as num,\n",
    "            sum(a.ret) as sum, min(a.ret) as min, max(a.ret) as max\n",
    "        from returns0 as a\n",
    "        where a.ret not null\n",
    "    '''\n",
    "print(pysqldf(query))"
   ]
  },
  {
   "cell_type": "markdown",
   "id": "c9f9b06d",
   "metadata": {},
   "source": [
    "#### Second, Make Market Cap Dataframe"
   ]
  },
  {
   "cell_type": "code",
   "execution_count": 62,
   "id": "e5bd9613-7c1f-4357-85db-83d21b2b7dfb",
   "metadata": {},
   "outputs": [
    {
     "name": "stdout",
     "output_type": "stream",
     "text": [
      "Index(['CUR_MKT_CAP', 'Date', 'Bdate', 'Edate', 'WEC UN Equity'], dtype='object')\n",
      "Index(['Bdate', 'Edate', 'WEC UN Equity', 'NWS UW Equity', 'LYB UN Equity'], dtype='object')\n"
     ]
    }
   ],
   "source": [
    "## Read the market capitalization information \n",
    "## and drop the observations without Bdate and rename Bdate as date.\n",
    "## Bdat is the date of market cap calculation in the \"MarketCap\" worksheet (Edate is a month after Bdate)\n",
    "\n",
    "mc=pd.read_excel('./2020SP500Constituents_2025_Short.xlsx', sheet_name=\"MarketCap\", header=0)\n",
    "print(mc.columns[:5])\n",
    "mc=mc.iloc[:,2:]#skip the first two columns\n",
    "print(mc.columns[:5])"
   ]
  },
  {
   "cell_type": "code",
   "execution_count": 63,
   "id": "0cf77ecd-2401-4d28-87f2-b6ac1c7bcf70",
   "metadata": {},
   "outputs": [],
   "source": [
    "mc=mc.drop(['Edate'],axis=1) #drop the Edate column\n",
    "\n",
    "##In the data, market cap is the market cap on Bdate\n",
    "mc.rename(columns={'Bdate': 'date'}, inplace=True)#rename Bdate column as date\n",
    "mc=mc.dropna(subset=['date'])#if date is missing, drop\n",
    "mcsort=mc.sort_values(['date'])#sort by date"
   ]
  },
  {
   "cell_type": "code",
   "execution_count": 64,
   "id": "720c8cde-2280-4c03-b5fd-71eb5c19140b",
   "metadata": {},
   "outputs": [
    {
     "name": "stdout",
     "output_type": "stream",
     "text": [
      "        date  WEC UN Equity  NWS UW Equity  LYB UN Equity  AXP UN Equity\n",
      "0 2020-06-30     27647.8366      6997.4238     21931.1744     76633.2867\n",
      "1 2020-07-31     30048.2934      7493.5412     20871.6320     75137.6358\n",
      "2 2020-08-31     29676.0807      8890.0126     21859.7963     81796.3183\n",
      "3 2020-09-30     30565.6061      8244.5225     23532.3311     80717.4024\n",
      "4 2020-10-30     31716.9421      7732.3846     22856.7600     73466.6260\n"
     ]
    }
   ],
   "source": [
    "print(mcsort.iloc[:5,:5])"
   ]
  },
  {
   "cell_type": "code",
   "execution_count": 65,
   "id": "9dddfe23-41ce-45a0-9d81-181371267cb0",
   "metadata": {},
   "outputs": [
    {
     "name": "stdout",
     "output_type": "stream",
     "text": [
      "        date  WEC UN Equity  NWS UW Equity  LYB UN Equity  AXP UN Equity\n",
      "0 2020-06-30     27647.8366      6997.4238     21931.1744     76633.2867\n",
      "1 2020-07-31     30048.2934      7493.5412     20871.6320     75137.6358\n",
      "2 2020-08-31     29676.0807      8890.0126     21859.7963     81796.3183\n",
      "3 2020-09-30     30565.6061      8244.5225     23532.3311     80717.4024\n",
      "4 2020-10-30     31716.9421      7732.3846     22856.7600     73466.6260\n",
      "        date                  id  mcap\n",
      "0 2020-06-30  2078185D UN Equity   NaN\n",
      "1 2020-07-31  2078185D UN Equity   NaN\n",
      "2 2020-08-31  2078185D UN Equity   NaN\n",
      "3 2020-09-30  2078185D UN Equity   NaN\n",
      "4 2020-10-30  2078185D UN Equity   NaN\n"
     ]
    }
   ],
   "source": [
    "#pd.melt: This function is useful to massage a DataFrame into a format where one or more\n",
    "# columns are identifier variables (id_vars), while all other columns, \n",
    "#considered measured variables (value_vars), are “unpivoted” to the row axis, \n",
    "#leaving just two non-identifier columns, ‘variable’ and ‘value’.\n",
    "\n",
    "mc0=pd.melt(mcsort,id_vars=['date'],var_name='id',value_name='mcap')#change the format\n",
    "mc0.loc[mc0['mcap']==0.0,'mcap']=np.nan\n",
    "mc0sort=mc0.sort_values(['id','date']).reset_index(drop=True)\n",
    "\n",
    "\n",
    "#check\n",
    "print(mc.iloc[:5,:5])\n",
    "#print(mc.columns.values[:5])\n",
    "#print(mc.shape)\n",
    "\n",
    "print(mc0sort.iloc[:5,])\n",
    "#print(mc0.loc[mc0['mcap']==0.0])"
   ]
  },
  {
   "cell_type": "markdown",
   "id": "5575c140",
   "metadata": {},
   "source": [
    "#### Third, Make M/B Dataframe"
   ]
  },
  {
   "cell_type": "code",
   "execution_count": 66,
   "id": "a8c7192c-64a0-4fd9-bc45-d99c1ad4c6ed",
   "metadata": {},
   "outputs": [
    {
     "name": "stdout",
     "output_type": "stream",
     "text": [
      "Index(['MARKET_CAPITALIZATION_TO_BV', 'Bdate', 'Edate', 'WEC UN Equity',\n",
      "       'NWS UW Equity'],\n",
      "      dtype='object')\n",
      "Index(['Edate', 'WEC UN Equity', 'NWS UW Equity', 'LYB UN Equity',\n",
      "       'AXP UN Equity'],\n",
      "      dtype='object')\n"
     ]
    }
   ],
   "source": [
    "#########for m/b  ###################################################################################\n",
    "\n",
    "##In the MB worksheet, Edate is the date of market cap to book value information.\n",
    "\n",
    "mb=pd.read_excel('./2020SP500Constituents_2025_Short.xlsx', sheet_name=\"MB\", header=0)\n",
    "print(mb.columns[:5])\n",
    "mb=mb.iloc[:,2:]#skip the first two columns\n",
    "print(mb.columns[:5])"
   ]
  },
  {
   "cell_type": "code",
   "execution_count": 67,
   "id": "9375657e-7a6f-4f38-8966-52a7ac313fdd",
   "metadata": {},
   "outputs": [
    {
     "name": "stdout",
     "output_type": "stream",
     "text": [
      "(5, 506)\n",
      "        date             id      mb  year\n",
      "0 2020-06-30  WEC UN Equity  2.6626  2020\n",
      "1 2021-06-30  WEC UN Equity  2.5905  2021\n",
      "2 2022-06-30  WEC UN Equity  2.8117  2022\n",
      "3 2023-06-30  WEC UN Equity  2.3828  2023\n",
      "4 2024-06-28  WEC UN Equity  2.0457  2024\n"
     ]
    }
   ],
   "source": [
    "## Process the MB data as we did for other data\n",
    "\n",
    "mb.rename(columns={'Edate': 'date'}, inplace=True)#rename Edate columns\n",
    "mb=mb.dropna(subset=['date'])#drop if date is missing\n",
    "mbsort=mb.sort_values(['date'])# sort by date\n",
    "mb0=pd.melt(mbsort,id_vars=['date'],var_name='id',value_name='mb')#change the format\n",
    "mb0['year']=mb0['date'].dt.year#get year out of date and make it \"year\" column\n",
    "\n",
    "#check\n",
    "#print(mb.columns.values[:5])\n",
    "print(mb.shape)\n",
    "print(mb0.head())"
   ]
  },
  {
   "cell_type": "markdown",
   "id": "b3f731a9-3cfa-43f9-bc09-11094f7d6b39",
   "metadata": {},
   "source": [
    "#### Drop rows with missing mb values"
   ]
  },
  {
   "cell_type": "code",
   "execution_count": 68,
   "id": "bee1d97b-f83a-4dab-ab5d-9287ecd48ea0",
   "metadata": {},
   "outputs": [
    {
     "name": "stdout",
     "output_type": "stream",
     "text": [
      "(2525, 4)\n",
      "(100, 4)\n",
      "            count      mean         std       min       25%      50%  \\\n",
      "date                                                                   \n",
      "2020-06-30   20.0  -2.52474   19.859317  -77.2004  1.179375  2.50415   \n",
      "2021-06-30   20.0  13.13700   42.965612  -10.7934  1.847675  3.39870   \n",
      "2022-06-30   20.0  -5.20962   38.242032 -164.9399  1.545100  2.18875   \n",
      "2023-06-30   20.0  46.55105  192.228118  -12.1895  1.604475  2.34635   \n",
      "2024-06-28   20.0  12.49511   43.154660  -37.4117  1.880250  2.35075   \n",
      "\n",
      "                 75%       max  \n",
      "date                            \n",
      "2020-06-30  4.993675   11.7642  \n",
      "2021-06-30  7.156900  193.9717  \n",
      "2022-06-30  6.050300   18.4707  \n",
      "2023-06-30  6.369175  862.7349  \n",
      "2024-06-28  6.680075  187.5567  \n"
     ]
    }
   ],
   "source": [
    "print(mb0.shape)\n",
    "mb1=mb0.dropna(subset=['mb'])#drop those with missing mb\n",
    "print(mb1.shape)\n",
    "print(mb1.groupby(['date'])['mb'].describe())"
   ]
  },
  {
   "cell_type": "markdown",
   "id": "5cb1adbb-fbff-4dc8-8e05-156545fa2445",
   "metadata": {},
   "source": [
    "##### Find the cutoff points for MB quintiles (5 groups)\n"
   ]
  },
  {
   "cell_type": "code",
   "execution_count": 69,
   "id": "37dbde6a-c5c2-4c8d-be07-7a3e364038f1",
   "metadata": {},
   "outputs": [
    {
     "name": "stdout",
     "output_type": "stream",
     "text": [
      "        date  count      mean         std       min      20%      40%  \\\n",
      "0 2020-06-30   20.0  -2.52474   19.859317  -77.2004  1.02410  1.67098   \n",
      "1 2021-06-30   20.0  13.13700   42.965612  -10.7934  1.79258  2.92506   \n",
      "2 2022-06-30   20.0  -5.20962   38.242032 -164.9399  1.26804  1.97252   \n",
      "3 2023-06-30   20.0  46.55105  192.228118  -12.1895  1.48664  2.06024   \n",
      "4 2024-06-28   20.0  12.49511   43.154660  -37.4117  1.83690  2.03278   \n",
      "\n",
      "       50%      60%      80%       max  \n",
      "0  2.50415  3.24376  5.27006   11.7642  \n",
      "1  3.39870  4.31894  7.83904  193.9717  \n",
      "2  2.18875  2.61136  6.27686   18.4707  \n",
      "3  2.34635  4.24056  7.56532  862.7349  \n",
      "4  2.35075  3.81054  9.50956  187.5567  \n",
      "Index(['date', 'quint20', 'quint40', 'quint60', 'quint80'], dtype='object')\n",
      "        date  quint20  quint40  quint60  quint80\n",
      "0 2020-06-30  1.02410  1.67098  3.24376  5.27006\n",
      "1 2021-06-30  1.79258  2.92506  4.31894  7.83904\n",
      "2 2022-06-30  1.26804  1.97252  2.61136  6.27686\n",
      "3 2023-06-30  1.48664  2.06024  4.24056  7.56532\n",
      "4 2024-06-28  1.83690  2.03278  3.81054  9.50956\n"
     ]
    }
   ],
   "source": [
    "## First, find out the percentile values of MB ratios in each month\n",
    "mb2 = mb1.groupby(['date'])['mb'].describe(percentiles=[.2, .4, .6,.8]).reset_index()\n",
    "print(mb2.head())\n",
    "\n",
    "# Second, rename the columns for easier access\n",
    "mb2 = mb2[['date','20%','40%','60%','80%']]\\\n",
    ".rename(columns={'20%':'quint20','40%':'quint40','60%':'quint60','80%':'quint80'})\n",
    "\n",
    "print(mb2.columns)\n",
    "print(mb2.head())"
   ]
  },
  {
   "cell_type": "markdown",
   "id": "eb33ab41-faa0-4d6c-8517-19a079327fb2",
   "metadata": {},
   "source": [
    "Add quintile cutoff points and divide firms in to 5 groups based on mb;\n"
   ]
  },
  {
   "cell_type": "code",
   "execution_count": 70,
   "id": "1ece8238-c02f-418f-8202-f560d14c875d",
   "metadata": {},
   "outputs": [
    {
     "name": "stdout",
     "output_type": "stream",
     "text": [
      "Index(['id', 'mb', 'year', 'date', 'quint20', 'quint40', 'quint60', 'quint80'], dtype='object')\n",
      "              id      mb  year                        date  quint20  quint40  \\\n",
      "0  WEC UN Equity  2.6626  2020  2020-06-30 00:00:00.000000  1.02410  1.67098   \n",
      "1  WEC UN Equity  2.5905  2021  2021-06-30 00:00:00.000000  1.79258  2.92506   \n",
      "2  WEC UN Equity  2.8117  2022  2022-06-30 00:00:00.000000  1.26804  1.97252   \n",
      "3  WEC UN Equity  2.3828  2023  2023-06-30 00:00:00.000000  1.48664  2.06024   \n",
      "4  WEC UN Equity  2.0457  2024  2024-06-28 00:00:00.000000  1.83690  2.03278   \n",
      "\n",
      "   quint60  quint80  \n",
      "0  3.24376  5.27006  \n",
      "1  4.31894  7.83904  \n",
      "2  2.61136  6.27686  \n",
      "3  4.24056  7.56532  \n",
      "4  3.81054  9.50956  \n"
     ]
    }
   ],
   "source": [
    "# add cutoff points to the original mb data\n",
    "# Note that columns to be included are selected from mb0 to avoid\n",
    "# date column being duplicated in the result (both a and b have the date column)\n",
    "query='''select a.id,a.mb,a.year,b.*\n",
    "              from mb0 as a \n",
    "              left join mb2 as b \n",
    "              on a.date = b.date'''\n",
    "              \n",
    "mb3=pysqldf(query)\n",
    "print(mb3.columns)\n",
    "print(mb3.head())"
   ]
  },
  {
   "cell_type": "markdown",
   "id": "13f201d9-cd67-433c-8344-6c6dbb1404b3",
   "metadata": {},
   "source": [
    "### Use SQL to form portfolios and calculate returns of the portfolio composed of all stocks in each portfolio\n"
   ]
  },
  {
   "cell_type": "code",
   "execution_count": 71,
   "id": "93e49ca2-9c6a-4cfd-b724-33489b7a1039",
   "metadata": {},
   "outputs": [
    {
     "name": "stdout",
     "output_type": "stream",
     "text": [
      "              id      mb  year                        date  quint20  quint40  \\\n",
      "0  WEC UN Equity  2.6626  2020  2020-06-30 00:00:00.000000  1.02410  1.67098   \n",
      "1  WEC UN Equity  2.5905  2021  2021-06-30 00:00:00.000000  1.79258  2.92506   \n",
      "2  WEC UN Equity  2.8117  2022  2022-06-30 00:00:00.000000  1.26804  1.97252   \n",
      "3  WEC UN Equity  2.3828  2023  2023-06-30 00:00:00.000000  1.48664  2.06024   \n",
      "4  WEC UN Equity  2.0457  2024  2024-06-28 00:00:00.000000  1.83690  2.03278   \n",
      "\n",
      "   quint60  quint80  pmb  \n",
      "0  3.24376  5.27006    3  \n",
      "1  4.31894  7.83904    2  \n",
      "2  2.61136  6.27686    4  \n",
      "3  4.24056  7.56532    3  \n",
      "4  3.81054  9.50956    3  \n"
     ]
    }
   ],
   "source": [
    "#Find out which MB portfolios each stock belongs to in each year\n",
    "\n",
    "# Assgin firms into 5 groups based on mb using SQL;\n",
    "# Note that \"case when\" is used to assign a value based on a condition\n",
    "# new column \"pmb\" is the portfolio based on mb\n",
    "\n",
    "query='''select a.*,\n",
    "                case when a.mb <= a.quint20 then 1 else \n",
    "                    case when a.mb <= a.quint40 then 2 else\n",
    "                        case when a.mb <= a.quint60 then 3 else\n",
    "                            case when a.mb <= a.quint80 then 4 else 5\n",
    "                            end\n",
    "                        end\n",
    "                    end\n",
    "                end as pmb\n",
    "            from mb3 as a'''\n",
    "mb3a=pysqldf(query)\n",
    "print(mb3a.head())"
   ]
  },
  {
   "cell_type": "markdown",
   "id": "9e4cc0d6-63e8-4afc-9795-554053bd4b29",
   "metadata": {},
   "source": [
    "# Combine 3 dataframes\n",
    "\n",
    "Add new variables\n",
    "\n",
    "To combine data for each month, we create year and month columns"
   ]
  },
  {
   "cell_type": "code",
   "execution_count": 72,
   "id": "e89b6fa0-4a9d-49f5-8d94-58172c6d98ed",
   "metadata": {},
   "outputs": [
    {
     "name": "stdout",
     "output_type": "stream",
     "text": [
      "0     2020-06-30 00:00:00.000000\n",
      "1     2021-06-30 00:00:00.000000\n",
      "2     2022-06-30 00:00:00.000000\n",
      "3     2023-06-30 00:00:00.000000\n",
      "4     2024-06-28 00:00:00.000000\n",
      "                 ...            \n",
      "95    2020-06-30 00:00:00.000000\n",
      "96    2021-06-30 00:00:00.000000\n",
      "97    2022-06-30 00:00:00.000000\n",
      "98    2023-06-30 00:00:00.000000\n",
      "99    2024-06-28 00:00:00.000000\n",
      "Name: date, Length: 100, dtype: object\n",
      "0    2020-06-30\n",
      "1    2021-06-30\n",
      "2    2022-06-30\n",
      "3    2023-06-30\n",
      "4    2024-06-28\n",
      "        ...    \n",
      "95   2020-06-30\n",
      "96   2021-06-30\n",
      "97   2022-06-30\n",
      "98   2023-06-30\n",
      "99   2024-06-28\n",
      "Name: date, Length: 100, dtype: datetime64[ns]\n"
     ]
    }
   ],
   "source": [
    "#/*combine the data*/\n",
    "mb5=mb3a[mb3a['mb'].notnull()].copy()# Get rid of ones with missing mb values\n",
    "\n",
    "print(mb5.date)\n",
    "#the following change the format of date to a simmpler datetime format\n",
    "mb5['date']=pd.to_datetime((mb5['date']).astype(str))\n",
    "print(mb5.date)"
   ]
  },
  {
   "cell_type": "code",
   "execution_count": 73,
   "id": "ef22a9c5-e45c-4966-92bf-221506be0252",
   "metadata": {},
   "outputs": [
    {
     "name": "stdout",
     "output_type": "stream",
     "text": [
      "        date             id       ret  year  month\n",
      "0 2020-07-31  WEC UN Equity  0.086823  2020      7\n",
      "1 2020-08-31  WEC UN Equity -0.005556  2020      8\n",
      "2 2020-09-30  WEC UN Equity  0.029974  2020      9\n",
      "3 2020-10-30  WEC UN Equity  0.037668  2020     10\n",
      "4 2020-11-30  WEC UN Equity -0.049864  2020     11\n",
      "              id      mb  year       date  quint20  quint40  quint60  quint80  \\\n",
      "0  WEC UN Equity  2.6626  2020 2020-06-30  1.02410  1.67098  3.24376  5.27006   \n",
      "1  WEC UN Equity  2.5905  2021 2021-06-30  1.79258  2.92506  4.31894  7.83904   \n",
      "2  WEC UN Equity  2.8117  2022 2022-06-30  1.26804  1.97252  2.61136  6.27686   \n",
      "3  WEC UN Equity  2.3828  2023 2023-06-30  1.48664  2.06024  4.24056  7.56532   \n",
      "4  WEC UN Equity  2.0457  2024 2024-06-28  1.83690  2.03278  3.81054  9.50956   \n",
      "\n",
      "   pmb  month  \n",
      "0    3      6  \n",
      "1    2      6  \n",
      "2    4      6  \n",
      "3    3      6  \n",
      "4    3      6  \n",
      "        date             id        mcap\n",
      "0 2020-06-30  WEC UN Equity  27647.8366\n",
      "1 2020-07-31  WEC UN Equity  30048.2934\n",
      "2 2020-08-31  WEC UN Equity  29676.0807\n",
      "3 2020-09-30  WEC UN Equity  30565.6061\n",
      "4 2020-10-30  WEC UN Equity  31716.9421\n"
     ]
    }
   ],
   "source": [
    "# Add year and month columns\n",
    "\n",
    "returns0['year']=returns0['date'].dt.year\n",
    "mc0sort['year']=mc0sort['date'].dt.year\n",
    "mb5['year']=mb5['date'].dt.year\n",
    "\n",
    "returns0['month']=returns0['date'].dt.month\n",
    "mc0sort['month']=mc0sort['date'].dt.month\n",
    "mb5['month']=mb5['date'].dt.month\n",
    "\n",
    "print(returns0.head())\n",
    "print(mb5.head())\n",
    "print(mc0.head())"
   ]
  },
  {
   "cell_type": "markdown",
   "id": "b8c23c97-3599-4861-a265-26757a1618d4",
   "metadata": {},
   "source": [
    "### Combine three data sets \n",
    "\n",
    "- yyyymm is the year-month of return\n",
    "- mcapym is the year-month of market cap to be used for weights in vw\n",
    "- mbym is the year-month of mb portfolio\n",
    "\n",
    "mb portfolio is formed at the end of June and this is used from July of the year till June of the following year in portfolio formation.\n",
    "\n",
    "Note the conditions used in join \"on\"\n",
    "\n",
    "- When you combine the return datafreame and the market cap dataframe, make sure that the market cap is the market cap at one month before the return month.\n",
    "    - ((a.year-b.year)*12+(a.month-b.month)) =1: To make sure that lagged market cap is indeed the market cap one month prior to the return month: \n",
    "        - b (mc0sort)' year/month is the year/month for market cap and \n",
    "        - a (returns0)'s year/month is the year/month for returns\n",
    "- When you combine the return dataframe and the MB portfolio dataframe, make sure that returns are included from July of the MB portfolio formation year and June of the following year (Portfolios are formed in June of each year)\n",
    "    - ((a.year-c.year)*12+(a.month-c.month)) between 1 and 12: To combine June BM of year t with returns from July of year t to June of year t+1: \n",
    "        - c (mb5)'s year/month is the year/month for market-to-book ratio and \n",
    "        - a (returns0)'s year/month is the year/month for returns (returns are included from one month after untill twelve months after the market-to-book calculation month.\n",
    "\n",
    "Check a simpler way used to retrive M/B ratios and other information using Bloomber API in the next week's notebook, FDNote6W2025.ipynb"
   ]
  },
  {
   "cell_type": "code",
   "execution_count": 74,
   "id": "59ea44c2-9695-45a0-84c5-9f6830315549",
   "metadata": {},
   "outputs": [
    {
     "name": "stdout",
     "output_type": "stream",
     "text": [
      "                         date  yyyymm                  id  ret  mcap  mb  pmb  \\\n",
      "0  2020-07-31 00:00:00.000000  202007  2078185D UN Equity  NaN   NaN NaN  NaN   \n",
      "1  2020-08-31 00:00:00.000000  202008  2078185D UN Equity  NaN   NaN NaN  NaN   \n",
      "2  2020-09-30 00:00:00.000000  202009  2078185D UN Equity  NaN   NaN NaN  NaN   \n",
      "3  2020-10-30 00:00:00.000000  202010  2078185D UN Equity  NaN   NaN NaN  NaN   \n",
      "4  2020-11-30 00:00:00.000000  202011  2078185D UN Equity  NaN   NaN NaN  NaN   \n",
      "\n",
      "     mcapym  mbym  \n",
      "0  202006.0   NaN  \n",
      "1  202007.0   NaN  \n",
      "2  202008.0   NaN  \n",
      "3  202009.0   NaN  \n",
      "4  202010.0   NaN  \n",
      "                           date  yyyymm              id       ret  \\\n",
      "594  2020-07-31 00:00:00.000000  202007  ABBV UN Equity -0.021769   \n",
      "595  2020-08-31 00:00:00.000000  202008  ABBV UN Equity  0.009061   \n",
      "596  2020-09-30 00:00:00.000000  202009  ABBV UN Equity -0.085413   \n",
      "597  2020-10-30 00:00:00.000000  202010  ABBV UN Equity -0.015108   \n",
      "598  2020-11-30 00:00:00.000000  202011  ABBV UN Equity  0.228907   \n",
      "\n",
      "            mcap       mb  pmb    mcapym      mbym  \n",
      "594  173027.9187  11.7642  5.0  202006.0  202006.0  \n",
      "595  167265.0210  11.7642  5.0  202007.0  202006.0  \n",
      "596  169018.0800  11.7642  5.0  202008.0  202006.0  \n",
      "597  154581.7440  11.7642  5.0  202009.0  202006.0  \n",
      "598  150187.3092  11.7642  5.0  202010.0  202006.0  \n",
      "Index(['date', 'yyyymm', 'id', 'ret', 'mcap', 'mb', 'pmb', 'mcapym', 'mbym'], dtype='object')\n"
     ]
    }
   ],
   "source": [
    "### Combine the returns, market cap, and mb dataframes using SQL\n",
    "# Note the conditions used in join \"on\" as explained above\n",
    "# The conditions make sure that the mcap is the market cap one month prior to the return month\n",
    "# and that returns are included from July of the MB portfolio formation year and June of the following\n",
    "\n",
    "query='''select a.date,a.year*100+a.month as yyyymm,a.id\n",
    "            ,a.ret,b.mcap,c.mb,c.pmb,\n",
    "            b.year*100+b.month as mcapym,\n",
    "            c.year*100+c.month as mbym\n",
    "         from returns0 as a\n",
    "         left join mc0sort as b on ((a.year-b.year)*12+(a.month-b.month)) =1 and a.id=b.id \n",
    "         left join mb5 as c on a.id=c.id and ((a.year-c.year)*12+(a.month-c.month)) between 1 and 12\n",
    "         order by a.id,a.date'''\n",
    "              \n",
    "data=pysqldf(query)\n",
    "print(data.head())\n",
    "print(data[data.ret.notnull()].head())#print only those with non-missing ret\n",
    "print(data.columns)"
   ]
  },
  {
   "cell_type": "code",
   "execution_count": 75,
   "id": "fcd132e7-d5bb-42ba-8f3a-1c74fbe5b7e4",
   "metadata": {},
   "outputs": [
    {
     "name": "stdout",
     "output_type": "stream",
     "text": [
      "                          date    mcapym       mb  pmb      mbym  \\\n",
      "0   2020-07-31 00:00:00.000000  202006.0  11.7642  5.0  202006.0   \n",
      "1   2020-08-31 00:00:00.000000  202007.0  11.7642  5.0  202006.0   \n",
      "2   2020-09-30 00:00:00.000000  202008.0  11.7642  5.0  202006.0   \n",
      "3   2020-10-30 00:00:00.000000  202009.0  11.7642  5.0  202006.0   \n",
      "4   2020-11-30 00:00:00.000000  202010.0  11.7642  5.0  202006.0   \n",
      "5   2020-12-31 00:00:00.000000  202011.0  11.7642  5.0  202006.0   \n",
      "6   2021-01-29 00:00:00.000000  202012.0  11.7642  5.0  202006.0   \n",
      "7   2021-02-26 00:00:00.000000  202101.0  11.7642  5.0  202006.0   \n",
      "8   2021-03-31 00:00:00.000000  202102.0  11.7642  5.0  202006.0   \n",
      "9   2021-04-30 00:00:00.000000  202103.0  11.7642  5.0  202006.0   \n",
      "10  2021-05-31 00:00:00.000000  202104.0  11.7642  5.0  202006.0   \n",
      "11  2021-06-30 00:00:00.000000  202105.0  11.7642  5.0  202006.0   \n",
      "12  2021-07-30 00:00:00.000000  202106.0  15.8284  5.0  202106.0   \n",
      "13  2021-08-31 00:00:00.000000  202107.0  15.8284  5.0  202106.0   \n",
      "14  2021-09-30 00:00:00.000000  202108.0  15.8284  5.0  202106.0   \n",
      "15  2021-10-29 00:00:00.000000  202109.0  15.8284  5.0  202106.0   \n",
      "16  2021-11-30 00:00:00.000000  202110.0  15.8284  5.0  202106.0   \n",
      "17  2021-12-31 00:00:00.000000  202111.0  15.8284  5.0  202106.0   \n",
      "18  2022-01-31 00:00:00.000000  202112.0  15.8284  5.0  202106.0   \n",
      "19  2022-02-28 00:00:00.000000  202201.0  15.8284  5.0  202106.0   \n",
      "20  2022-03-31 00:00:00.000000  202202.0  15.8284  5.0  202106.0   \n",
      "21  2022-04-29 00:00:00.000000  202203.0  15.8284  5.0  202106.0   \n",
      "22  2022-05-31 00:00:00.000000  202204.0  15.8284  5.0  202106.0   \n",
      "23  2022-06-30 00:00:00.000000  202205.0  15.8284  5.0  202106.0   \n",
      "24  2022-07-29 00:00:00.000000  202206.0  18.4707  5.0  202206.0   \n",
      "25  2022-08-31 00:00:00.000000  202207.0  18.4707  5.0  202206.0   \n",
      "26  2022-09-30 00:00:00.000000  202208.0  18.4707  5.0  202206.0   \n",
      "27  2022-10-31 00:00:00.000000  202209.0  18.4707  5.0  202206.0   \n",
      "28  2022-11-30 00:00:00.000000  202210.0  18.4707  5.0  202206.0   \n",
      "29  2022-12-30 00:00:00.000000  202211.0  18.4707  5.0  202206.0   \n",
      "30  2023-01-31 00:00:00.000000  202212.0  18.4707  5.0  202206.0   \n",
      "31  2023-02-28 00:00:00.000000  202301.0  18.4707  5.0  202206.0   \n",
      "32  2023-03-31 00:00:00.000000  202302.0  18.4707  5.0  202206.0   \n",
      "33  2023-04-28 00:00:00.000000  202303.0  18.4707  5.0  202206.0   \n",
      "34  2023-05-31 00:00:00.000000  202304.0  18.4707  5.0  202206.0   \n",
      "35  2023-06-30 00:00:00.000000  202305.0  18.4707  5.0  202206.0   \n",
      "36  2023-07-31 00:00:00.000000  202306.0  18.4753  5.0  202306.0   \n",
      "37  2023-08-31 00:00:00.000000  202307.0  18.4753  5.0  202306.0   \n",
      "38  2023-09-29 00:00:00.000000  202308.0  18.4753  5.0  202306.0   \n",
      "39  2023-10-31 00:00:00.000000  202309.0  18.4753  5.0  202306.0   \n",
      "40  2023-11-30 00:00:00.000000  202310.0  18.4753  5.0  202306.0   \n",
      "41  2023-12-29 00:00:00.000000  202311.0  18.4753  5.0  202306.0   \n",
      "42  2024-01-31 00:00:00.000000  202312.0  18.4753  5.0  202306.0   \n",
      "43  2024-02-29 00:00:00.000000  202401.0  18.4753  5.0  202306.0   \n",
      "44  2024-03-29 00:00:00.000000  202402.0  18.4753  5.0  202306.0   \n",
      "45  2024-04-30 00:00:00.000000  202403.0  18.4753  5.0  202306.0   \n",
      "46  2024-05-31 00:00:00.000000  202404.0  18.4753  5.0  202306.0   \n",
      "47  2024-06-28 00:00:00.000000  202405.0  18.4753  5.0  202306.0   \n",
      "48  2024-07-31 00:00:00.000000  202406.0  37.8271  5.0  202406.0   \n",
      "49  2024-08-30 00:00:00.000000  202407.0  37.8271  5.0  202406.0   \n",
      "\n",
      "                id  yyyymm    mcapym      mbym  \n",
      "0   ABBV UN Equity  202007  202006.0  202006.0  \n",
      "1   ABBV UN Equity  202008  202007.0  202006.0  \n",
      "2   ABBV UN Equity  202009  202008.0  202006.0  \n",
      "3   ABBV UN Equity  202010  202009.0  202006.0  \n",
      "4   ABBV UN Equity  202011  202010.0  202006.0  \n",
      "5   ABBV UN Equity  202012  202011.0  202006.0  \n",
      "6   ABBV UN Equity  202101  202012.0  202006.0  \n",
      "7   ABBV UN Equity  202102  202101.0  202006.0  \n",
      "8   ABBV UN Equity  202103  202102.0  202006.0  \n",
      "9   ABBV UN Equity  202104  202103.0  202006.0  \n",
      "10  ABBV UN Equity  202105  202104.0  202006.0  \n",
      "11  ABBV UN Equity  202106  202105.0  202006.0  \n",
      "12  ABBV UN Equity  202107  202106.0  202106.0  \n",
      "13  ABBV UN Equity  202108  202107.0  202106.0  \n",
      "14  ABBV UN Equity  202109  202108.0  202106.0  \n",
      "15  ABBV UN Equity  202110  202109.0  202106.0  \n",
      "16  ABBV UN Equity  202111  202110.0  202106.0  \n",
      "17  ABBV UN Equity  202112  202111.0  202106.0  \n",
      "18  ABBV UN Equity  202201  202112.0  202106.0  \n",
      "19  ABBV UN Equity  202202  202201.0  202106.0  \n",
      "20  ABBV UN Equity  202203  202202.0  202106.0  \n",
      "21  ABBV UN Equity  202204  202203.0  202106.0  \n",
      "22  ABBV UN Equity  202205  202204.0  202106.0  \n",
      "23  ABBV UN Equity  202206  202205.0  202106.0  \n",
      "24  ABBV UN Equity  202207  202206.0  202206.0  \n",
      "25  ABBV UN Equity  202208  202207.0  202206.0  \n",
      "26  ABBV UN Equity  202209  202208.0  202206.0  \n",
      "27  ABBV UN Equity  202210  202209.0  202206.0  \n",
      "28  ABBV UN Equity  202211  202210.0  202206.0  \n",
      "29  ABBV UN Equity  202212  202211.0  202206.0  \n",
      "30  ABBV UN Equity  202301  202212.0  202206.0  \n",
      "31  ABBV UN Equity  202302  202301.0  202206.0  \n",
      "32  ABBV UN Equity  202303  202302.0  202206.0  \n",
      "33  ABBV UN Equity  202304  202303.0  202206.0  \n",
      "34  ABBV UN Equity  202305  202304.0  202206.0  \n",
      "35  ABBV UN Equity  202306  202305.0  202206.0  \n",
      "36  ABBV UN Equity  202307  202306.0  202306.0  \n",
      "37  ABBV UN Equity  202308  202307.0  202306.0  \n",
      "38  ABBV UN Equity  202309  202308.0  202306.0  \n",
      "39  ABBV UN Equity  202310  202309.0  202306.0  \n",
      "40  ABBV UN Equity  202311  202310.0  202306.0  \n",
      "41  ABBV UN Equity  202312  202311.0  202306.0  \n",
      "42  ABBV UN Equity  202401  202312.0  202306.0  \n",
      "43  ABBV UN Equity  202402  202401.0  202306.0  \n",
      "44  ABBV UN Equity  202403  202402.0  202306.0  \n",
      "45  ABBV UN Equity  202404  202403.0  202306.0  \n",
      "46  ABBV UN Equity  202405  202404.0  202306.0  \n",
      "47  ABBV UN Equity  202406  202405.0  202306.0  \n",
      "48  ABBV UN Equity  202407  202406.0  202406.0  \n",
      "49  ABBV UN Equity  202408  202407.0  202406.0  \n"
     ]
    }
   ],
   "source": [
    "###check whether mcapym is the previous month (market cap), \n",
    "## and mbym (year/month of MB calculation) changes in July\n",
    "print(data.loc[data.pmb.notnull(),['date','mcapym','mb','pmb','mbym','id','yyyymm','mcapym','mbym']].reset_index(drop=True).head(50))\n",
    "#############################################################################             "
   ]
  },
  {
   "cell_type": "markdown",
   "id": "823995ad-0d2d-40d0-989b-77c615245447",
   "metadata": {},
   "source": [
    "#### Calculate the value-weighted and equally-weighted returns \n",
    "using only thoe with available return and portfolio information\n"
   ]
  },
  {
   "cell_type": "code",
   "execution_count": 76,
   "id": "96bbc021-ee6a-4430-b34e-fde87c1ed252",
   "metadata": {},
   "outputs": [
    {
     "name": "stdout",
     "output_type": "stream",
     "text": [
      "Before filtering: (27270, 9)\n",
      "After filtering: (1080, 9)\n",
      "                         date  yyyymm              id       ret         mcap  \\\n",
      "0  2020-07-31 00:00:00.000000  202007  ABBV UN Equity -0.021769  173027.9187   \n",
      "1  2020-08-31 00:00:00.000000  202008  ABBV UN Equity  0.009061  167265.0210   \n",
      "2  2020-09-30 00:00:00.000000  202009  ABBV UN Equity -0.085413  169018.0800   \n",
      "3  2020-10-30 00:00:00.000000  202010  ABBV UN Equity -0.015108  154581.7440   \n",
      "4  2020-11-30 00:00:00.000000  202011  ABBV UN Equity  0.228907  150187.3092   \n",
      "\n",
      "        mb  pmb    mcapym      mbym  \n",
      "0  11.7642  5.0  202006.0  202006.0  \n",
      "1  11.7642  5.0  202007.0  202006.0  \n",
      "2  11.7642  5.0  202008.0  202006.0  \n",
      "3  11.7642  5.0  202009.0  202006.0  \n",
      "4  11.7642  5.0  202010.0  202006.0  \n"
     ]
    }
   ],
   "source": [
    "#/*calculate returns of the portfolio*/\n",
    "##Note that in the data, mcap is the market cap at the end of the month prior to the return month\n",
    "##Therefore, we do not need to use the lagged market cap.\n",
    "\n",
    "#Include only thoes with non-missing return, pmb and market cap\n",
    "#An additional condition is that pmb is not 0\n",
    "\n",
    "data1=data.loc[(data.ret.notnull() & data.pmb.notnull() &\\\n",
    "                data.pmb!=0 & data.mcap.notnull()),:].reset_index(drop=True).copy()\n",
    "# Check the number of rows and columns before and after filtering\n",
    "print(\"Before filtering:\", data.shape)\n",
    "print(\"After filtering:\", data1.shape)\n",
    "print(data1.head())"
   ]
  },
  {
   "cell_type": "code",
   "execution_count": 77,
   "id": "9118a0f2-35d3-4d73-8cb7-2155930bed51",
   "metadata": {},
   "outputs": [
    {
     "name": "stdout",
     "output_type": "stream",
     "text": [
      "    yyyymm  pmb     ewret     vwret  numstock\n",
      "0   202007  1.0 -0.000460  0.006232         4\n",
      "1   202007  2.0 -0.054581 -0.021719         4\n",
      "2   202007  3.0 -0.006112  0.014459         4\n",
      "3   202007  4.0  0.054087  0.043299         4\n",
      "4   202007  5.0  0.016782  0.016136         4\n",
      "5   202008  1.0  0.113550  0.081012         4\n",
      "6   202008  2.0 -0.006106  0.009459         4\n",
      "7   202008  3.0  0.057520  0.096705         4\n",
      "8   202008  4.0  0.055447  0.049175         4\n",
      "9   202008  5.0  0.031494  0.044261         4\n",
      "10  202009  1.0 -0.036222 -0.025361         4\n",
      "11  202009  2.0 -0.108780 -0.092676         4\n",
      "12  202009  3.0  0.007918 -0.035875         4\n",
      "13  202009  4.0  0.012708  0.008863         4\n",
      "14  202009  5.0 -0.018630 -0.011561         4\n",
      "15  202010  1.0 -0.072201 -0.060021         4\n",
      "16  202010  2.0 -0.039204 -0.010159         4\n",
      "17  202010  3.0  0.044233  0.017343         4\n",
      "18  202010  4.0  0.006273 -0.020993         4\n",
      "19  202010  5.0 -0.038540 -0.028743         4\n",
      "20  202011  1.0  0.272093  0.142776         4\n",
      "21  202011  2.0  0.247210  0.220940         4\n",
      "22  202011  3.0  0.200226  0.226918         4\n",
      "23  202011  4.0  0.109329  0.109241         4\n",
      "24  202011  5.0  0.165054  0.147259         4\n",
      "25  202012  1.0  0.026746 -0.011592         4\n",
      "26  202012  2.0  0.070548  0.055833         4\n",
      "27  202012  3.0  0.083081  0.160866         4\n",
      "28  202012  4.0  0.019208  0.000233         4\n",
      "29  202012  5.0  0.053862  0.059625         4\n"
     ]
    }
   ],
   "source": [
    "# We are now ready to calculate the portfolio returns\n",
    "# Note that the portfolio returns are calculated in each month (yyyymm)\n",
    "\n",
    "# calculate equally- and value-weighted returns \n",
    "# of each pmb portfolio in each month\n",
    "\n",
    "query='''select a.yyyymm, a.pmb, sum(a.ret)/count(a.ret) as ewret,\n",
    "             sum(a.ret*a.mcap)/sum(a.mcap) as vwret,count(a.ret) as numstock\n",
    "         from data1 as a\n",
    "         group by a.yyyymm, pmb\n",
    "         order by a.yyyymm, pmb'''              \n",
    "ret=pysqldf(query)\n",
    "print(ret.head(30))"
   ]
  },
  {
   "cell_type": "code",
   "execution_count": 78,
   "id": "c22c3af5-01c5-4061-aa73-2846c33132b1",
   "metadata": {},
   "outputs": [
    {
     "name": "stdout",
     "output_type": "stream",
     "text": [
      "   pmb  avg(ewret)  avg(vwret)  num\n",
      "0  1.0    0.021794    0.019540   53\n",
      "1  2.0    0.013375    0.015622   53\n",
      "2  3.0    0.012337    0.010520   53\n",
      "3  4.0    0.019331    0.018327   53\n",
      "4  5.0    0.018494    0.023007   53\n"
     ]
    }
   ],
   "source": [
    "##########################################################\n",
    "###Calculate the average returns of each PMB group\n",
    "###Note that below is the average of average returns\n",
    "query='''select a.pmb, avg(ewret),avg(vwret),count(vwret) as num\n",
    "             from ret as a\n",
    "             group by pmb'''\n",
    "avg=sqldf(query,locals())\n",
    "print(avg)"
   ]
  },
  {
   "cell_type": "code",
   "execution_count": 79,
   "id": "6c062dea-2534-4ccd-ac59-c84966088ee8",
   "metadata": {},
   "outputs": [
    {
     "name": "stdout",
     "output_type": "stream",
     "text": [
      "        ewret     vwret\n",
      "pmb                    \n",
      "1.0  0.021794  0.019540\n",
      "2.0  0.013375  0.015622\n",
      "3.0  0.012337  0.010520\n",
      "4.0  0.019331  0.018327\n",
      "5.0  0.018494  0.023007\n",
      "    ewret                                                              \\\n",
      "    count      mean       std       min       25%       50%       75%   \n",
      "pmb                                                                     \n",
      "1.0  54.0  0.021794  0.074545 -0.128001 -0.020856  0.011632  0.075191   \n",
      "2.0  54.0  0.013375  0.071947 -0.125322 -0.023934  0.013320  0.043417   \n",
      "3.0  54.0  0.012337  0.062882 -0.137074 -0.022572  0.009289  0.051360   \n",
      "4.0  54.0  0.019331  0.067631 -0.140069 -0.018847  0.009939  0.070006   \n",
      "5.0  54.0  0.018494  0.050911 -0.078579 -0.018253  0.017289  0.050614   \n",
      "\n",
      "              vwret                                                    \\\n",
      "          max count      mean       std       min       25%       50%   \n",
      "pmb                                                                     \n",
      "1.0  0.272093  53.0  0.019540  0.073731 -0.135812 -0.031261  0.006232   \n",
      "2.0  0.247210  53.0  0.015622  0.071369 -0.140655 -0.034764  0.017233   \n",
      "3.0  0.200226  53.0  0.010520  0.070889 -0.135797 -0.028916  0.012260   \n",
      "4.0  0.174001  53.0  0.018327  0.070192 -0.165742 -0.029086  0.014380   \n",
      "5.0  0.165054  53.0  0.023007  0.053715 -0.065037 -0.019331  0.022081   \n",
      "\n",
      "                         \n",
      "          75%       max  \n",
      "pmb                      \n",
      "1.0  0.074288  0.188833  \n",
      "2.0  0.044878  0.220940  \n",
      "3.0  0.034165  0.226918  \n",
      "4.0  0.071797  0.175743  \n",
      "5.0  0.048006  0.152369  \n"
     ]
    }
   ],
   "source": [
    "print(ret.groupby('pmb')[['ewret','vwret']].mean())\n",
    "print(ret.groupby('pmb')[['ewret','vwret']].describe())\n",
    "\n",
    "##########################################################"
   ]
  },
  {
   "cell_type": "markdown",
   "id": "90886b3a-a36e-4de9-927f-cf761fdd7529",
   "metadata": {
    "tags": []
   },
   "source": [
    "# Appendix \n",
    "\n",
    "Below are just for reference\n",
    "\n",
    "- How to calculate returns using price information\n",
    "- How to calcualte value-weighted returns using a function\n",
    "- How to form MB portfolios using Python\n"
   ]
  },
  {
   "cell_type": "markdown",
   "id": "abf55af7-7f3b-422b-bd0a-4ccb270fa7b9",
   "metadata": {},
   "source": [
    "## Appendix 1: Calculate returns using price information"
   ]
  },
  {
   "cell_type": "code",
   "execution_count": 80,
   "id": "c0cf3550-2208-4d14-9046-1ccf20b24723",
   "metadata": {},
   "outputs": [
    {
     "name": "stdout",
     "output_type": "stream",
     "text": [
      "    0          1          2          3          4\n",
      "0 NaN  001060.KS  000640.KS  008260.KS  003300.KS\n"
     ]
    }
   ],
   "source": [
    "########read the company id in the first row#########################################################\n",
    "LowPEHead=pd.read_excel('./Note3w_RHistory2025_Short.xlsx', sheet_name=\"RHistory\", skiprows=0,nrows=1,header=None)\n",
    "print(LowPEHead.iloc[:,0:5].head())"
   ]
  },
  {
   "cell_type": "code",
   "execution_count": 81,
   "id": "8f475e71-16fb-4cd7-8e1f-166faeb75323",
   "metadata": {},
   "outputs": [
    {
     "name": "stdout",
     "output_type": "stream",
     "text": [
      "           0             1           2     3            4\n",
      "0 2021-01-31  28462.707971  109223.325  2945   9766.35055\n",
      "1 2021-02-28  26937.920044  112621.384  3220  10186.91110\n",
      "2 2021-03-31  27399.976991  104854.392  3610  11915.88225\n",
      "3 2021-04-30  26937.920044  119902.939  5800  12710.27440\n",
      "4 2021-05-31  26799.302960  121359.250  5390  13037.37705\n"
     ]
    }
   ],
   "source": [
    "########read the price data                 #########################################################\n",
    "####Skip the first 3 rows\n",
    "LowPE=pd.read_excel('./Note3w_RHistory2025_Short.xlsx', sheet_name=\"RHistory\", skiprows=3,header=None)\n",
    "print(LowPE.iloc[:,0:5].head())"
   ]
  },
  {
   "cell_type": "code",
   "execution_count": 82,
   "id": "595539f7-e303-4d9b-9500-6089f30b7d35",
   "metadata": {},
   "outputs": [
    {
     "name": "stdout",
     "output_type": "stream",
     "text": [
      "Index([        nan, '001060.KS', '000640.KS', '008260.KS', '003300.KS',\n",
      "       '000240.KS', '006390.KS', '000050.KS', '005810.KS', '005610.KS',\n",
      "       '000370.KS', '004560.KS', '009160.KS', '001250.KS', '000120.KS',\n",
      "       '072710.KS', '002350.KS', '004250.KS', '004450.KS', '005390.KS',\n",
      "       '015890.KS', '020000.KS', '019180.KS', '011070.KS', '053690.KS',\n",
      "       '100220.KS', '102260.KS', '014830.KS', '079430.KS', '086280.KS',\n",
      "       '089470.KS', '093050.KS', '011210.KS', '058860.KS', '129260.KS',\n",
      "       '013870.KS', '264900.KS', '300720.KS', '402340.KS'],\n",
      "      dtype='object', name=0)\n"
     ]
    }
   ],
   "source": [
    "#change the column headings\n",
    "##replace column names with the one in LowPEHead\n",
    "LowPE.columns=LowPEHead.iloc[0,:]\n",
    "print(LowPE.columns)"
   ]
  },
  {
   "cell_type": "code",
   "execution_count": 83,
   "id": "c803ff48-1ec5-48a2-aa37-b86c664ffbde",
   "metadata": {},
   "outputs": [
    {
     "name": "stdout",
     "output_type": "stream",
     "text": [
      "(36, 39)\n",
      "0       date     001060.KS   000640.KS  008260.KS    003300.KS\n",
      "0 2021-01-31  28462.707971  109223.325       2945   9766.35055\n",
      "1 2021-02-28  26937.920044  112621.384       3220  10186.91110\n",
      "2 2021-03-31  27399.976991  104854.392       3610  11915.88225\n",
      "3 2021-04-30  26937.920044  119902.939       5800  12710.27440\n",
      "4 2021-05-31  26799.302960  121359.250       5390  13037.37705\n"
     ]
    }
   ],
   "source": [
    "##Rename the first column as date\n",
    "LowPE.rename(columns={ LowPE.columns[0]: \"date\"}, inplace=True)\n",
    "print(LowPE.shape)\n",
    "print(LowPE.iloc[:,0:5].head())"
   ]
  },
  {
   "cell_type": "code",
   "execution_count": 84,
   "id": "d992b6ef-dc4d-4f18-8683-4b613158f4c6",
   "metadata": {},
   "outputs": [
    {
     "name": "stdout",
     "output_type": "stream",
     "text": [
      "(36, 39)\n"
     ]
    }
   ],
   "source": [
    "print(LowPE.shape)"
   ]
  },
  {
   "cell_type": "code",
   "execution_count": 85,
   "id": "7a9128b4-35ea-4d53-93e0-190ce83f6405",
   "metadata": {},
   "outputs": [
    {
     "name": "stdout",
     "output_type": "stream",
     "text": [
      "(36, 11)\n",
      "Index(['date', '001060.KS', '000640.KS', '008260.KS', '003300.KS', '000240.KS',\n",
      "       '006390.KS', '000050.KS', '005810.KS', '005610.KS', '000370.KS'],\n",
      "      dtype='object', name=0)\n",
      "0       date     001060.KS   000640.KS  008260.KS    003300.KS  000240.KS  \\\n",
      "0 2021-01-31  28462.707971  109223.325       2945   9766.35055      15850   \n",
      "1 2021-02-28  26937.920044  112621.384       3220  10186.91110      17250   \n",
      "2 2021-03-31  27399.976991  104854.392       3610  11915.88225      18500   \n",
      "3 2021-04-30  26937.920044  119902.939       5800  12710.27440      18600   \n",
      "4 2021-05-31  26799.302960  121359.250       5390  13037.37705      20350   \n",
      "\n",
      "0  006390.KS  000050.KS     005810.KS  005610.KS  000370.KS  \n",
      "0      36500      12550  17888.906778      70000       3380  \n",
      "1      38700      12050  16333.341500      71200       3780  \n",
      "2      44000      13200  15300.007650      72500       4880  \n",
      "3      41250      13150  18866.676100      70300       4775  \n",
      "4      41400      15000  19300.009650      92300       4750  \n",
      "          count                 mean                  min  \\\n",
      "0                                                           \n",
      "date         36  2022-07-15 22:00:00  2021-01-31 00:00:00   \n",
      "001060.KS  36.0         25079.629443         16752.333006   \n",
      "000640.KS  36.0        101243.280094           80000.0176   \n",
      "008260.KS  36.0               5025.0               2945.0   \n",
      "003300.KS  36.0         11769.305107           9766.35055   \n",
      "000240.KS  36.0         14511.666667              10900.0   \n",
      "006390.KS  36.0         26332.222222              14700.0   \n",
      "000050.KS  36.0         12084.166667               7960.0   \n",
      "005810.KS  36.0          19955.25714          15300.00765   \n",
      "005610.KS  36.0         74391.666667              62200.0   \n",
      "000370.KS  36.0          4303.888889               3380.0   \n",
      "\n",
      "                           25%                  50%                  75%  \\\n",
      "0                                                                          \n",
      "date       2021-10-23 06:00:00  2022-07-15 12:00:00  2023-04-07 12:00:00   \n",
      "001060.KS         20684.014019         23682.495186         27053.434281   \n",
      "000640.KS          96529.14745           99271.8665           110679.636   \n",
      "008260.KS              4168.75               5085.0               5977.5   \n",
      "003300.KS              11087.5              11525.0         12733.638875   \n",
      "000240.KS              12570.0              14100.0              15862.5   \n",
      "006390.KS              17495.0              24900.0              34125.0   \n",
      "000050.KS              10665.0              12400.0              13675.0   \n",
      "005810.KS         18458.342562         19283.342975         21391.677363   \n",
      "005610.KS              69525.0              71250.0              79450.0   \n",
      "000370.KS               4045.0               4290.0               4672.5   \n",
      "\n",
      "                           max           std  \n",
      "0                                             \n",
      "date       2023-12-31 00:00:00           NaN  \n",
      "001060.KS           45147.0516   6497.586593  \n",
      "000640.KS           121844.687  11551.053468  \n",
      "008260.KS               7800.0   1184.808604  \n",
      "003300.KS              13500.0   1006.408539  \n",
      "000240.KS              20350.0   2533.322494  \n",
      "006390.KS              44000.0   9275.426247  \n",
      "000050.KS              15950.0   2193.382743  \n",
      "005810.KS           24800.0124   2540.887167  \n",
      "005610.KS              92300.0   7980.131578  \n",
      "000370.KS               5030.0    449.525323  \n"
     ]
    }
   ],
   "source": [
    "###eliminate columns with all NA\n",
    "LowPE.dropna(axis=1,how='all',inplace=True)\n",
    "print(LowPE.shape)\n",
    "print(LowPE.columns)\n",
    "print(LowPE.head())\n",
    "print(LowPE.describe().T)# by using .T you can transpose the output\n"
   ]
  },
  {
   "cell_type": "code",
   "execution_count": 86,
   "id": "959a230e-871a-4ffd-b7eb-7889e9bdb64d",
   "metadata": {},
   "outputs": [
    {
     "name": "stdout",
     "output_type": "stream",
     "text": [
      "        date         id         price\n",
      "0 2021-01-31  001060.KS  28462.707971\n",
      "1 2021-02-28  001060.KS  26937.920044\n",
      "2 2021-03-31  001060.KS  27399.976991\n",
      "3 2021-04-30  001060.KS  26937.920044\n",
      "4 2021-05-31  001060.KS  26799.302960\n",
      "        date         id    price\n",
      "0 2021-01-31  000050.KS  12550.0\n",
      "1 2021-02-28  000050.KS  12050.0\n",
      "2 2021-03-31  000050.KS  13200.0\n",
      "3 2021-04-30  000050.KS  13150.0\n",
      "4 2021-05-31  000050.KS  15000.0\n"
     ]
    }
   ],
   "source": [
    "######### transpose the data #######################################################################\n",
    "trans=pd.melt(LowPE,id_vars=['date'],var_name='id',value_name='price')\n",
    "print(trans.head())\n",
    "trans.sort_values(['id','date'],inplace=True)\n",
    "trans.reset_index(drop=True,inplace=True)\n",
    "print(trans.head())"
   ]
  },
  {
   "cell_type": "markdown",
   "id": "a15ef6bb-edd9-4229-98c9-d8739578c1d0",
   "metadata": {},
   "source": [
    "### One can create new columns as follows"
   ]
  },
  {
   "cell_type": "code",
   "execution_count": 87,
   "id": "df6bdb0f-57b2-4cdc-a253-c6cba37139b3",
   "metadata": {},
   "outputs": [
    {
     "name": "stdout",
     "output_type": "stream",
     "text": [
      "         date         id    price   lprice      ldate\n",
      "0  2021-01-31  000050.KS  12550.0      NaN        NaT\n",
      "1  2021-02-28  000050.KS  12050.0  12550.0 2021-01-31\n",
      "2  2021-03-31  000050.KS  13200.0  12050.0 2021-02-28\n",
      "3  2021-04-30  000050.KS  13150.0  13200.0 2021-03-31\n",
      "4  2021-05-31  000050.KS  15000.0  13150.0 2021-04-30\n",
      "5  2021-06-30  000050.KS  14250.0  15000.0 2021-05-31\n",
      "6  2021-07-31  000050.KS  13600.0  14250.0 2021-06-30\n",
      "7  2021-08-31  000050.KS  13650.0  13600.0 2021-07-31\n",
      "8  2021-09-30  000050.KS  13800.0  13650.0 2021-08-31\n",
      "9  2021-10-31  000050.KS  13300.0  13800.0 2021-09-30\n",
      "10 2021-11-30  000050.KS  13000.0  13300.0 2021-10-31\n",
      "11 2021-12-31  000050.KS  13750.0  13000.0 2021-11-30\n",
      "12 2022-01-31  000050.KS  14000.0  13750.0 2021-12-31\n",
      "13 2022-02-28  000050.KS  14650.0  14000.0 2022-01-31\n",
      "14 2022-03-31  000050.KS  15950.0  14650.0 2022-02-28\n",
      "15 2022-04-30  000050.KS  15900.0  15950.0 2022-03-31\n",
      "16 2022-05-31  000050.KS  15350.0  15900.0 2022-04-30\n",
      "17 2022-06-30  000050.KS  12250.0  15350.0 2022-05-31\n",
      "18 2022-07-31  000050.KS  13150.0  12250.0 2022-06-30\n",
      "19 2022-08-31  000050.KS  12550.0  13150.0 2022-07-31\n",
      "20 2022-09-30  000050.KS  11450.0  12550.0 2022-08-31\n",
      "21 2022-10-31  000050.KS  10950.0  11450.0 2022-09-30\n",
      "22 2022-11-30  000050.KS  11050.0  10950.0 2022-10-31\n",
      "23 2022-12-31  000050.KS  10800.0  11050.0 2022-11-30\n",
      "24 2023-01-31  000050.KS  10700.0  10800.0 2022-12-31\n",
      "25 2023-02-28  000050.KS  10980.0  10700.0 2023-01-31\n",
      "26 2023-03-31  000050.KS  10710.0  10980.0 2023-02-28\n",
      "27 2023-04-30  000050.KS  10560.0  10710.0 2023-03-31\n",
      "28 2023-05-31  000050.KS  10370.0  10560.0 2023-04-30\n",
      "29 2023-06-30  000050.KS   9940.0  10370.0 2023-05-31\n",
      "30 2023-07-31  000050.KS   9610.0   9940.0 2023-06-30\n",
      "31 2023-08-31  000050.KS   8890.0   9610.0 2023-07-31\n",
      "32 2023-09-30  000050.KS   8480.0   8890.0 2023-08-31\n",
      "33 2023-10-31  000050.KS   7960.0   8480.0 2023-09-30\n",
      "34 2023-11-30  000050.KS   8640.0   7960.0 2023-10-31\n",
      "35 2023-12-31  000050.KS   8840.0   8640.0 2023-11-30\n",
      "36 2021-01-31  000240.KS  15850.0      NaN        NaT\n",
      "37 2021-02-28  000240.KS  17250.0  15850.0 2021-01-31\n",
      "38 2021-03-31  000240.KS  18500.0  17250.0 2021-02-28\n",
      "39 2021-04-30  000240.KS  18600.0  18500.0 2021-03-31\n",
      "40 2021-05-31  000240.KS  20350.0  18600.0 2021-04-30\n",
      "41 2021-06-30  000240.KS  20350.0  20350.0 2021-05-31\n",
      "42 2021-07-31  000240.KS  17950.0  20350.0 2021-06-30\n",
      "43 2021-08-31  000240.KS  17250.0  17950.0 2021-07-31\n",
      "44 2021-09-30  000240.KS  15900.0  17250.0 2021-08-31\n",
      "45 2021-10-31  000240.KS  16700.0  15900.0 2021-09-30\n",
      "46 2021-11-30  000240.KS  15150.0  16700.0 2021-10-31\n",
      "47 2021-12-31  000240.KS  15700.0  15150.0 2021-11-30\n",
      "48 2022-01-31  000240.KS  12950.0  15700.0 2021-12-31\n",
      "49 2022-02-28  000240.KS  13400.0  12950.0 2022-01-31\n"
     ]
    }
   ],
   "source": [
    "#lagged values for each id\n",
    "trans[['lprice','ldate']]=trans.groupby(['id'])[['price','date']].shift(1)\n",
    "trans.reset_index(drop=True,inplace=True)# reset the index and drop old index values.  In addition, replace the original\n",
    "print(trans.head(50))"
   ]
  },
  {
   "cell_type": "code",
   "execution_count": 88,
   "id": "a636fadd-966a-42a2-824e-1d1e8849827c",
   "metadata": {},
   "outputs": [],
   "source": [
    "#calculate returns\n",
    "trans['return']=(trans['price']-trans['lprice'])/trans['lprice']\n",
    "#create aYearMonth columns\n",
    "trans['yyyymm']=trans['date'].dt.year*100+trans['date'].dt.month"
   ]
  },
  {
   "cell_type": "markdown",
   "id": "bdc18bb9-70f1-4464-ae3b-005cad9bae30",
   "metadata": {},
   "source": [
    "### One should be careful not to mistakenly calcualted returns using prices of different companies\n",
    "- It can happen when ID changes\n",
    "- In addition, returns may not represent the return over the intended time interval (e.g., a month) when there are missing values"
   ]
  },
  {
   "cell_type": "code",
   "execution_count": 89,
   "id": "fd643016-8707-4778-969a-f0ad046aab2b",
   "metadata": {},
   "outputs": [
    {
     "name": "stdout",
     "output_type": "stream",
     "text": [
      "        date         id    price   lprice      ldate    return  yyyymm  diffm\n",
      "0 2021-01-31  000050.KS  12550.0      NaN        NaT       NaN  202101    NaN\n",
      "1 2021-02-28  000050.KS  12050.0  12550.0 2021-01-31 -0.039841  202102    1.0\n",
      "2 2021-03-31  000050.KS  13200.0  12050.0 2021-02-28  0.095436  202103    1.0\n",
      "3 2021-04-30  000050.KS  13150.0  13200.0 2021-03-31 -0.003788  202104    1.0\n",
      "4 2021-05-31  000050.KS  15000.0  13150.0 2021-04-30  0.140684  202105    1.0\n",
      "date      datetime64[ns]\n",
      "id                object\n",
      "price            float64\n",
      "lprice           float64\n",
      "ldate     datetime64[ns]\n",
      "return           float64\n",
      "yyyymm             int32\n",
      "diffm            float64\n",
      "dtype: object\n"
     ]
    }
   ],
   "source": [
    "#  Find the differences in the number of months between the lagged observation and the current one\n",
    "# and eliminate those with more than one month difference\n",
    "\n",
    "trans['diffm']=(trans['date'].dt.year-trans['ldate'].dt.year)*12+\\\n",
    "                (trans['date'].dt.month-trans['ldate'].dt.month)\n",
    "print(trans.head())\n",
    "print(trans.dtypes)#types of each column values"
   ]
  },
  {
   "cell_type": "markdown",
   "id": "e6f30796-05d3-4938-a435-43627a149cb6",
   "metadata": {},
   "source": [
    "#### If the gap between the current and the previous month is greater than one month, set the return as missing"
   ]
  },
  {
   "cell_type": "code",
   "execution_count": 90,
   "id": "989deb95-a747-4e96-b782-a294db3894fe",
   "metadata": {},
   "outputs": [
    {
     "name": "stdout",
     "output_type": "stream",
     "text": [
      "count    350.000000\n",
      "mean       0.005756\n",
      "std        0.108299\n",
      "min       -0.315927\n",
      "25%       -0.050392\n",
      "50%       -0.002451\n",
      "75%        0.052006\n",
      "max        0.831897\n",
      "Name: return, dtype: float64\n"
     ]
    }
   ],
   "source": [
    "print(trans['return'].describe())"
   ]
  },
  {
   "cell_type": "code",
   "execution_count": 91,
   "id": "2f722d4c-fc57-470c-9937-7e306ae0ab90",
   "metadata": {},
   "outputs": [
    {
     "name": "stdout",
     "output_type": "stream",
     "text": [
      "count    350.000000\n",
      "mean       0.005756\n",
      "std        0.108299\n",
      "min       -0.315927\n",
      "25%       -0.050392\n",
      "50%       -0.002451\n",
      "75%        0.052006\n",
      "max        0.831897\n",
      "Name: return, dtype: float64\n"
     ]
    }
   ],
   "source": [
    "trans.loc[(trans['diffm']!=1.0),'return']=np.nan\n",
    "print(trans['return'].describe())"
   ]
  },
  {
   "cell_type": "markdown",
   "id": "985755fd-08fd-4d3d-ac62-816fb1123d8b",
   "metadata": {},
   "source": [
    "## Use \"groupby\" to correctly calculate returns using prices\n",
    "\n",
    "Below, you will find that **ret** includes wrong returns when ID changes to a different one while **ret1** and **ret2** correctly calculate returns even when ID changes (missing in those cases) by using **groupby(['id'])**"
   ]
  },
  {
   "cell_type": "code",
   "execution_count": 92,
   "id": "d2a6a307-540e-4e85-8634-82ccd234fe5f",
   "metadata": {},
   "outputs": [
    {
     "name": "stdout",
     "output_type": "stream",
     "text": [
      "count    359.000000\n",
      "mean       0.085739\n",
      "std        1.405548\n",
      "min       -0.811821\n",
      "25%       -0.053413\n",
      "50%       -0.003135\n",
      "75%        0.053752\n",
      "max       25.968722\n",
      "Name: ret, dtype: float64\n"
     ]
    }
   ],
   "source": [
    "#Calculate returns in a simpler way\n",
    "#Problem with a new ID\n",
    "trans['ret']=(trans['price']-trans['price'].shift(1))/trans['price'].shift(1)\n",
    "print(trans.ret.describe())"
   ]
  },
  {
   "cell_type": "code",
   "execution_count": 93,
   "id": "c59eb562-a4f8-4e0c-9fc6-c9597b5e05ba",
   "metadata": {},
   "outputs": [
    {
     "name": "stdout",
     "output_type": "stream",
     "text": [
      "count    350.000000\n",
      "mean       0.005756\n",
      "std        0.108299\n",
      "min       -0.315927\n",
      "25%       -0.050392\n",
      "50%       -0.002451\n",
      "75%        0.052006\n",
      "max        0.831897\n",
      "Name: ret1, dtype: float64\n"
     ]
    }
   ],
   "source": [
    "#The above code does not work correctly for the first observation of each ID\n",
    "#because it uses the previous observation of the same ID\n",
    "#Therefore, we need to use groupby to calculate the returns for each ID separately\n",
    "#This will ensure that the return is calculated based on the previous observation of the same ID\n",
    "\n",
    "#Correct one\n",
    "#############################################\n",
    "trans['ret1']=(trans['price']-trans.groupby(['id'])['price'].shift(1))\\\n",
    "                /trans.groupby(['id'])['price'].shift(1)\n",
    "print(trans.ret1.describe())"
   ]
  },
  {
   "cell_type": "markdown",
   "id": "28960c23-b55a-48db-b738-8774807948ea",
   "metadata": {},
   "source": [
    "#### One can use \".pct_change()\" to find the return with \"groupby\""
   ]
  },
  {
   "cell_type": "code",
   "execution_count": 94,
   "id": "76535cf3-2d02-4bb2-b59c-7e183a4e8794",
   "metadata": {},
   "outputs": [
    {
     "name": "stdout",
     "output_type": "stream",
     "text": [
      "count    350.000000\n",
      "mean       0.005756\n",
      "std        0.108299\n",
      "min       -0.315927\n",
      "25%       -0.050392\n",
      "50%       -0.002451\n",
      "75%        0.052006\n",
      "max        0.831897\n",
      "Name: ret2, dtype: float64\n",
      "count    3.500000e+02\n",
      "mean    -3.035766e-19\n",
      "std      4.697233e-17\n",
      "min     -1.110223e-16\n",
      "25%     -3.382711e-17\n",
      "50%      0.000000e+00\n",
      "75%      3.035766e-17\n",
      "max      1.110223e-16\n",
      "dtype: float64\n",
      "           id       date       ret      ret1      ret2\n",
      "0   000050.KS 2021-01-31       NaN       NaN       NaN\n",
      "1   000050.KS 2021-02-28 -0.039841 -0.039841 -0.039841\n",
      "2   000050.KS 2021-03-31  0.095436  0.095436  0.095436\n",
      "3   000050.KS 2021-04-30 -0.003788 -0.003788 -0.003788\n",
      "4   000050.KS 2021-05-31  0.140684  0.140684  0.140684\n",
      "5   000050.KS 2021-06-30 -0.050000 -0.050000 -0.050000\n",
      "6   000050.KS 2021-07-31 -0.045614 -0.045614 -0.045614\n",
      "7   000050.KS 2021-08-31  0.003676  0.003676  0.003676\n",
      "8   000050.KS 2021-09-30  0.010989  0.010989  0.010989\n",
      "9   000050.KS 2021-10-31 -0.036232 -0.036232 -0.036232\n",
      "10  000050.KS 2021-11-30 -0.022556 -0.022556 -0.022556\n",
      "11  000050.KS 2021-12-31  0.057692  0.057692  0.057692\n",
      "12  000050.KS 2022-01-31  0.018182  0.018182  0.018182\n",
      "13  000050.KS 2022-02-28  0.046429  0.046429  0.046429\n",
      "14  000050.KS 2022-03-31  0.088737  0.088737  0.088737\n",
      "15  000050.KS 2022-04-30 -0.003135 -0.003135 -0.003135\n",
      "16  000050.KS 2022-05-31 -0.034591 -0.034591 -0.034591\n",
      "17  000050.KS 2022-06-30 -0.201954 -0.201954 -0.201954\n",
      "18  000050.KS 2022-07-31  0.073469  0.073469  0.073469\n",
      "19  000050.KS 2022-08-31 -0.045627 -0.045627 -0.045627\n",
      "20  000050.KS 2022-09-30 -0.087649 -0.087649 -0.087649\n",
      "21  000050.KS 2022-10-31 -0.043668 -0.043668 -0.043668\n",
      "22  000050.KS 2022-11-30  0.009132  0.009132  0.009132\n",
      "23  000050.KS 2022-12-31 -0.022624 -0.022624 -0.022624\n",
      "24  000050.KS 2023-01-31 -0.009259 -0.009259 -0.009259\n",
      "25  000050.KS 2023-02-28  0.026168  0.026168  0.026168\n",
      "26  000050.KS 2023-03-31 -0.024590 -0.024590 -0.024590\n",
      "27  000050.KS 2023-04-30 -0.014006 -0.014006 -0.014006\n",
      "28  000050.KS 2023-05-31 -0.017992 -0.017992 -0.017992\n",
      "29  000050.KS 2023-06-30 -0.041466 -0.041466 -0.041466\n",
      "30  000050.KS 2023-07-31 -0.033199 -0.033199 -0.033199\n",
      "31  000050.KS 2023-08-31 -0.074922 -0.074922 -0.074922\n",
      "32  000050.KS 2023-09-30 -0.046119 -0.046119 -0.046119\n",
      "33  000050.KS 2023-10-31 -0.061321 -0.061321 -0.061321\n",
      "34  000050.KS 2023-11-30  0.085427  0.085427  0.085427\n",
      "35  000050.KS 2023-12-31  0.023148  0.023148  0.023148\n",
      "36  000240.KS 2021-01-31  0.792986       NaN       NaN\n",
      "37  000240.KS 2021-02-28  0.088328  0.088328  0.088328\n",
      "38  000240.KS 2021-03-31  0.072464  0.072464  0.072464\n",
      "39  000240.KS 2021-04-30  0.005405  0.005405  0.005405\n",
      "40  000240.KS 2021-05-31  0.094086  0.094086  0.094086\n",
      "41  000240.KS 2021-06-30  0.000000  0.000000  0.000000\n",
      "42  000240.KS 2021-07-31 -0.117936 -0.117936 -0.117936\n",
      "43  000240.KS 2021-08-31 -0.038997 -0.038997 -0.038997\n",
      "44  000240.KS 2021-09-30 -0.078261 -0.078261 -0.078261\n",
      "45  000240.KS 2021-10-31  0.050314  0.050314  0.050314\n",
      "46  000240.KS 2021-11-30 -0.092814 -0.092814 -0.092814\n",
      "47  000240.KS 2021-12-31  0.036304  0.036304  0.036304\n",
      "48  000240.KS 2022-01-31 -0.175159 -0.175159 -0.175159\n",
      "49  000240.KS 2022-02-28  0.034749  0.034749  0.034749\n"
     ]
    }
   ],
   "source": [
    "\n",
    "#trans['ret2']=trans.price.pct_change(fill_method=None)\n",
    "trans['ret2']=trans.groupby(['id']).price.pct_change()\n",
    "print(trans.ret2.describe())\n",
    "print((trans.ret2-trans.ret1).describe())\n",
    "\n",
    "print(trans[['id','date','ret','ret1','ret2']].head(50))"
   ]
  },
  {
   "cell_type": "markdown",
   "id": "2a99aeb6-8e2d-4bdc-ae3b-3d3d0e8df2a8",
   "metadata": {},
   "source": [
    "## Appendix 2: How to calculate value-weighted returns using a function\n"
   ]
  },
  {
   "cell_type": "code",
   "execution_count": 95,
   "id": "024ef218-60c0-4e6e-b430-8766774a4eb6",
   "metadata": {},
   "outputs": [
    {
     "name": "stdout",
     "output_type": "stream",
     "text": [
      "count    1080.0\n",
      "mean        1.0\n",
      "std         0.0\n",
      "min         1.0\n",
      "25%         1.0\n",
      "50%         1.0\n",
      "75%         1.0\n",
      "max         1.0\n",
      "Name: icount, dtype: float64\n"
     ]
    }
   ],
   "source": [
    "####Using pandas##########################################\n",
    "# One can define a custom function to calculate value weighted return\n",
    "#df is a dataframe, avg_name is the column name to be used for average calculation\n",
    "#weight_name is the column name to be used as the weight in value-weighted average\n",
    "\n",
    "def wavg(df, avg_name, weight_name):\n",
    "    df = df[df[avg_name].notna() & df[weight_name].notna()].copy()  # Filter out NaN values\n",
    "    if df.empty:\n",
    "        return np.nan\n",
    "    d = df[avg_name]\n",
    "    w = df[weight_name]\n",
    "    \n",
    "    try:\n",
    "        w_sum = w.sum()\n",
    "        if w_sum == 0 or np.isnan(w_sum) or np.isinf(w_sum):\n",
    "            return np.nan\n",
    "        else:\n",
    "            return (d * w).sum() / w_sum\n",
    "    except ZeroDivisionError:\n",
    "        return np.nan\n",
    "\n",
    "# Calculate Weighted Average Returns \n",
    "# to use the custom function defined above for each group of yyyymm and pmb\n",
    "# one can use the apply method with a lambda function\n",
    "\n",
    "data1.groupby(['yyyymm', 'pmb'])[['ret', 'mcap']].apply(lambda x: wavg(x, 'ret', 'mcap')).reset_index()\n",
    "data1['icount']=np.where(data1['ret'].notnull(),1,0)#icount is set to be 1 if ret is not null.  Otherwise, set to be zero\n",
    "print(data1.icount.describe())"
   ]
  },
  {
   "cell_type": "code",
   "execution_count": 96,
   "id": "ef0eccfa-ef47-4325-afed-8f9bcfe76d5d",
   "metadata": {},
   "outputs": [
    {
     "name": "stdout",
     "output_type": "stream",
     "text": [
      "    yyyymm  pmb     ewret     vwret  numstock    vwret1    ewret1\n",
      "0   202007  1.0 -0.000460  0.006232         4  0.006232 -0.000460\n",
      "1   202007  2.0 -0.054581 -0.021719         4 -0.021719 -0.054581\n",
      "2   202007  3.0 -0.006112  0.014459         4  0.014459 -0.006112\n",
      "3   202007  4.0  0.054087  0.043299         4  0.043299  0.054087\n",
      "4   202007  5.0  0.016782  0.016136         4  0.016136  0.016782\n",
      "5   202008  1.0  0.113550  0.081012         4  0.081012  0.113550\n",
      "6   202008  2.0 -0.006106  0.009459         4  0.009459 -0.006106\n",
      "7   202008  3.0  0.057520  0.096705         4  0.096705  0.057520\n",
      "8   202008  4.0  0.055447  0.049175         4  0.049175  0.055447\n",
      "9   202008  5.0  0.031494  0.044261         4  0.044261  0.031494\n",
      "10  202009  1.0 -0.036222 -0.025361         4 -0.025361 -0.036222\n",
      "11  202009  2.0 -0.108780 -0.092676         4 -0.092676 -0.108780\n",
      "12  202009  3.0  0.007918 -0.035875         4 -0.035875  0.007918\n",
      "13  202009  4.0  0.012708  0.008863         4  0.008863  0.012708\n",
      "14  202009  5.0 -0.018630 -0.011561         4 -0.011561 -0.018630\n",
      "15  202010  1.0 -0.072201 -0.060021         4 -0.060021 -0.072201\n",
      "16  202010  2.0 -0.039204 -0.010159         4 -0.010159 -0.039204\n",
      "17  202010  3.0  0.044233  0.017343         4  0.017343  0.044233\n",
      "18  202010  4.0  0.006273 -0.020993         4 -0.020993  0.006273\n",
      "19  202010  5.0 -0.038540 -0.028743         4 -0.028743 -0.038540\n",
      "count    2.700000e+02\n",
      "mean    -4.094871e-19\n",
      "std      5.862265e-18\n",
      "min     -2.775558e-17\n",
      "25%      0.000000e+00\n",
      "50%      0.000000e+00\n",
      "75%      0.000000e+00\n",
      "max      2.775558e-17\n",
      "dtype: float64\n",
      "count    2.650000e+02\n",
      "mean    -2.373994e-19\n",
      "std      7.780545e-18\n",
      "min     -2.775558e-17\n",
      "25%      0.000000e+00\n",
      "50%      0.000000e+00\n",
      "75%      0.000000e+00\n",
      "max      4.163336e-17\n",
      "dtype: float64\n"
     ]
    }
   ],
   "source": [
    "ret['vwret1']= data1.groupby(['yyyymm','pmb'])[['ret','mcap']].apply(wavg, 'ret','mcap').reset_index().iloc[:,2]\n",
    "\n",
    "# Equally-weighted returns are calculated by using the same function\n",
    "# where the weight is same for all (i.e., 1) in each group\n",
    "\n",
    "ret['ewret1'] = data1.groupby(['yyyymm','pmb'])[['ret','icount']].apply(wavg, 'ret','icount').reset_index().iloc[:,2]\n",
    "print(ret.head(20))\n",
    "\n",
    "###Compare the results calculated using SQL above\n",
    "print((ret.ewret-ret.ewret1).describe())\n",
    "print((ret.vwret-ret.vwret1).describe())"
   ]
  },
  {
   "cell_type": "markdown",
   "id": "91d47434-0f7f-4897-a935-9bcdceba59d5",
   "metadata": {},
   "source": [
    "## Appendix 3: The following are alternative ways to find out the MB portfolios in Python"
   ]
  },
  {
   "cell_type": "code",
   "execution_count": 97,
   "id": "e61becc6-d91e-4e10-b4c5-ae0fbe95d02d",
   "metadata": {},
   "outputs": [
    {
     "name": "stdout",
     "output_type": "stream",
     "text": [
      "Index(['id', 'mb', 'year', 'date', 'quint20', 'quint40', 'quint60', 'quint80',\n",
      "       'pmb'],\n",
      "      dtype='object')\n",
      "              id      mb  year                        date  quint20  quint40  \\\n",
      "0  WEC UN Equity  2.6626  2020  2020-06-30 00:00:00.000000  1.02410  1.67098   \n",
      "1  WEC UN Equity  2.5905  2021  2021-06-30 00:00:00.000000  1.79258  2.92506   \n",
      "2  WEC UN Equity  2.8117  2022  2022-06-30 00:00:00.000000  1.26804  1.97252   \n",
      "3  WEC UN Equity  2.3828  2023  2023-06-30 00:00:00.000000  1.48664  2.06024   \n",
      "4  WEC UN Equity  2.0457  2024  2024-06-28 00:00:00.000000  1.83690  2.03278   \n",
      "\n",
      "   quint60  quint80  pmb  \n",
      "0  3.24376  5.27006    3  \n",
      "1  4.31894  7.83904    2  \n",
      "2  2.61136  6.27686    4  \n",
      "3  4.24056  7.56532    3  \n",
      "4  3.81054  9.50956    3  \n",
      "     count       mean         std       min        25%       50%        75%  \\\n",
      "pmb                                                                           \n",
      "0      0.0        NaN         NaN       NaN        NaN       NaN        NaN   \n",
      "1     20.0 -18.983210   39.318914 -164.9399 -13.607225  -7.37790   1.411600   \n",
      "2     20.0   1.722460    0.354490    1.0494   1.509450   1.82995   1.894475   \n",
      "3     20.0   2.614505    0.598150    1.7745   2.270725   2.39140   3.022475   \n",
      "4     20.0   5.636795    1.444713    2.8117   4.951050   5.77130   6.131550   \n",
      "5     20.0  73.458250  193.720010    6.2739  10.457500  11.41625  18.471850   \n",
      "\n",
      "          max  \n",
      "pmb            \n",
      "0         NaN  \n",
      "1      1.8237  \n",
      "2      2.5905  \n",
      "3      3.8352  \n",
      "4      9.2354  \n",
      "5    862.7349  \n"
     ]
    }
   ],
   "source": [
    "#The following are alternative ways to find the portfolios in Python\n",
    "#assign MB portfolio value - define a function\n",
    "\n",
    "# Define a function to assign quintiles based on the mb value\n",
    "def quintile(x):#note that the input is a dataframe\n",
    "    \n",
    "    if x['mb'] <= x['quint20']: return 1\n",
    "    elif x['mb'] <= x['quint40']: return 2\n",
    "    elif x['mb'] <= x['quint60']: return 3\n",
    "    elif x['mb'] <= x['quint80']: return 4\n",
    "    else: return 5\n",
    "mb3['pmb']=mb3.apply(quintile, axis=1)#apply the function and call the result as pmb\n",
    "mb3['pmb']=np.where(mb3['mb'].isnull(),0,mb3['pmb'])#If mb is null assign 0\n",
    "\n",
    "#check\n",
    "print(mb3.columns)\n",
    "print(mb3.head())\n",
    "#print(mb3[mb3['mb'].isnull()].head())\n",
    "#print(mb3[mb3['mb'].notnull()].head())\n",
    "#print(mb3.mb.describe())\n",
    "#print(mb3[mb3.pmb>0].pmb.describe())\n",
    "print(mb3.groupby(['pmb']).mb.describe())"
   ]
  },
  {
   "cell_type": "code",
   "execution_count": 98,
   "id": "ee80a93d-ecc8-4df7-9f0c-294ce5a67af0",
   "metadata": {},
   "outputs": [
    {
     "name": "stdout",
     "output_type": "stream",
     "text": [
      "(2525, 9)\n",
      "(100, 9)\n",
      "Index(['id', 'mb', 'year', 'date', 'quint20', 'quint40', 'quint60', 'quint80',\n",
      "       'pmb'],\n",
      "      dtype='object')\n",
      "Index(['id', 'mb', 'year', 'date', 'quint20', 'quint40', 'quint60', 'quint80',\n",
      "       'pmb', 'mbquint'],\n",
      "      dtype='object')\n"
     ]
    }
   ],
   "source": [
    "######################################################################\n",
    "# An easier way using pandas' qcut to form deciles in each year\n",
    "######################################################################\n",
    "print(mb3.shape)\n",
    "mb4=mb3[mb3['mb'].notnull()].copy()# Get rid of ones with missing mb values\n",
    "print(mb4.shape)\n",
    "\n",
    "#lambda \"arguments\" : \"expression\"\n",
    "#The \"expression\" with \"argument\" is executed and the result is returned:\n",
    "\n",
    "\n",
    "#\".transform(lambda x: f(x))\" is similar to .apply(lambda x: f(x)) but keep the original shape\n",
    "# while apply does not\n",
    "mb4.loc[:,'mbquint']=mb4.groupby(['year'])['mb'].transform(\n",
    "                     lambda x: pd.qcut(x, 5, labels=range(1,6)))\n",
    "\n",
    "print(mb3.columns)\n",
    "print(mb4.columns)"
   ]
  },
  {
   "cell_type": "code",
   "execution_count": 99,
   "id": "cf6574a3-ae75-4853-ade7-a4c2d3270cc6",
   "metadata": {},
   "outputs": [
    {
     "name": "stdout",
     "output_type": "stream",
     "text": [
      "    pmb mbquint\n",
      "0     3       3\n",
      "1     2       2\n",
      "2     4       4\n",
      "3     3       3\n",
      "4     3       3\n",
      "..  ...     ...\n",
      "95    1       1\n",
      "96    5       5\n",
      "97    1       1\n",
      "98    5       5\n",
      "99    5       5\n",
      "\n",
      "[100 rows x 2 columns]\n",
      "id           object\n",
      "mb          float64\n",
      "year          int64\n",
      "date         object\n",
      "quint20     float64\n",
      "quint40     float64\n",
      "quint60     float64\n",
      "quint80     float64\n",
      "pmb           int64\n",
      "mbquint    category\n",
      "dtype: object\n"
     ]
    }
   ],
   "source": [
    "print(mb4[['pmb','mbquint']])\n",
    "print(mb4.dtypes)\n"
   ]
  },
  {
   "cell_type": "code",
   "execution_count": null,
   "id": "54506fa8",
   "metadata": {},
   "outputs": [],
   "source": []
  },
  {
   "cell_type": "code",
   "execution_count": null,
   "id": "de8632e0",
   "metadata": {},
   "outputs": [],
   "source": []
  }
 ],
 "metadata": {
  "kernelspec": {
   "display_name": ".venv",
   "language": "python",
   "name": "python3"
  },
  "language_info": {
   "codemirror_mode": {
    "name": "ipython",
    "version": 3
   },
   "file_extension": ".py",
   "mimetype": "text/x-python",
   "name": "python",
   "nbconvert_exporter": "python",
   "pygments_lexer": "ipython3",
   "version": "3.12.9"
  }
 },
 "nbformat": 4,
 "nbformat_minor": 5
}
