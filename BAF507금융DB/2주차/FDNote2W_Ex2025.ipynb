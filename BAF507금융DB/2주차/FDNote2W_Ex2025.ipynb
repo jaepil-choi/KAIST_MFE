{
 "cells": [
  {
   "cell_type": "markdown",
   "id": "5a425c46",
   "metadata": {},
   "source": [
    "#### FDNote2W_Ex2025\n",
    "\n",
    "Prepared by Inmoo Lee for the Financial Databases class at KAIST\n",
    "\n",
    "inmool@kaist.ac.kr\n",
    "\n",
    "List of input files\n",
    "\n",
    "    - note2data.xlsx\n",
    "\n",
    "List of output files\n",
    "\n",
    "    - noteex2.csv\n",
    "    - noteex2.xlsx"
   ]
  },
  {
   "cell_type": "code",
   "execution_count": 1,
   "id": "e3976e59",
   "metadata": {},
   "outputs": [
    {
     "name": "stdout",
     "output_type": "stream",
     "text": [
      "c:\\Users\\chlje\\VSCodeProjects\\KAIST_MFE\\BAF507금융DB\\2주차\n"
     ]
    }
   ],
   "source": [
    "import os\n",
    "import numpy as np\n",
    "import pandas as pd\n",
    "\n",
    "print(os.getcwd())  #get the current working directory\n",
    "# path='D\\\\####'#Choose your directory to work with\n",
    "# os.chdir(path) # change the working directory\n",
    "# print(os.getcwd())  #get the current working directory"
   ]
  },
  {
   "cell_type": "code",
   "execution_count": 2,
   "id": "e2059abd",
   "metadata": {},
   "outputs": [
    {
     "ename": "FileNotFoundError",
     "evalue": "[Errno 2] No such file or directory: './note2data.xlsx'",
     "output_type": "error",
     "traceback": [
      "\u001b[31m---------------------------------------------------------------------------\u001b[39m",
      "\u001b[31mFileNotFoundError\u001b[39m                         Traceback (most recent call last)",
      "\u001b[36mCell\u001b[39m\u001b[36m \u001b[39m\u001b[32mIn[2]\u001b[39m\u001b[32m, line 2\u001b[39m\n\u001b[32m      1\u001b[39m \u001b[38;5;66;03m###import the excel file\u001b[39;00m\n\u001b[32m----> \u001b[39m\u001b[32m2\u001b[39m sampletrans=\u001b[43mpd\u001b[49m\u001b[43m.\u001b[49m\u001b[43mread_excel\u001b[49m\u001b[43m(\u001b[49m\u001b[33;43m'\u001b[39;49m\u001b[33;43m./note2data.xlsx\u001b[39;49m\u001b[33;43m'\u001b[39;49m\u001b[43m,\u001b[49m\u001b[43m \u001b[49m\u001b[43msheet_name\u001b[49m\u001b[43m=\u001b[49m\u001b[33;43m\"\u001b[39;49m\u001b[33;43msampletran\u001b[39;49m\u001b[33;43m\"\u001b[39;49m\u001b[43m,\u001b[49m\u001b[43m \u001b[49m\u001b[43mheader\u001b[49m\u001b[43m=\u001b[49m\u001b[32;43m0\u001b[39;49m\u001b[43m)\u001b[49m\n\u001b[32m      3\u001b[39m \u001b[38;5;28mprint\u001b[39m(sampletrans.dtypes)\n\u001b[32m      4\u001b[39m samplesort=sampletrans.sort_values([\u001b[33m'\u001b[39m\u001b[33mid\u001b[39m\u001b[33m'\u001b[39m,\u001b[33m'\u001b[39m\u001b[33mDate\u001b[39m\u001b[33m'\u001b[39m]) \u001b[38;5;66;03m# sort by id and date\u001b[39;00m\n",
      "\u001b[36mFile \u001b[39m\u001b[32mc:\\Users\\chlje\\VSCodeProjects\\KAIST_MFE\\.venv\\Lib\\site-packages\\pandas\\io\\excel\\_base.py:495\u001b[39m, in \u001b[36mread_excel\u001b[39m\u001b[34m(io, sheet_name, header, names, index_col, usecols, dtype, engine, converters, true_values, false_values, skiprows, nrows, na_values, keep_default_na, na_filter, verbose, parse_dates, date_parser, date_format, thousands, decimal, comment, skipfooter, storage_options, dtype_backend, engine_kwargs)\u001b[39m\n\u001b[32m    493\u001b[39m \u001b[38;5;28;01mif\u001b[39;00m \u001b[38;5;129;01mnot\u001b[39;00m \u001b[38;5;28misinstance\u001b[39m(io, ExcelFile):\n\u001b[32m    494\u001b[39m     should_close = \u001b[38;5;28;01mTrue\u001b[39;00m\n\u001b[32m--> \u001b[39m\u001b[32m495\u001b[39m     io = \u001b[43mExcelFile\u001b[49m\u001b[43m(\u001b[49m\n\u001b[32m    496\u001b[39m \u001b[43m        \u001b[49m\u001b[43mio\u001b[49m\u001b[43m,\u001b[49m\n\u001b[32m    497\u001b[39m \u001b[43m        \u001b[49m\u001b[43mstorage_options\u001b[49m\u001b[43m=\u001b[49m\u001b[43mstorage_options\u001b[49m\u001b[43m,\u001b[49m\n\u001b[32m    498\u001b[39m \u001b[43m        \u001b[49m\u001b[43mengine\u001b[49m\u001b[43m=\u001b[49m\u001b[43mengine\u001b[49m\u001b[43m,\u001b[49m\n\u001b[32m    499\u001b[39m \u001b[43m        \u001b[49m\u001b[43mengine_kwargs\u001b[49m\u001b[43m=\u001b[49m\u001b[43mengine_kwargs\u001b[49m\u001b[43m,\u001b[49m\n\u001b[32m    500\u001b[39m \u001b[43m    \u001b[49m\u001b[43m)\u001b[49m\n\u001b[32m    501\u001b[39m \u001b[38;5;28;01melif\u001b[39;00m engine \u001b[38;5;129;01mand\u001b[39;00m engine != io.engine:\n\u001b[32m    502\u001b[39m     \u001b[38;5;28;01mraise\u001b[39;00m \u001b[38;5;167;01mValueError\u001b[39;00m(\n\u001b[32m    503\u001b[39m         \u001b[33m\"\u001b[39m\u001b[33mEngine should not be specified when passing \u001b[39m\u001b[33m\"\u001b[39m\n\u001b[32m    504\u001b[39m         \u001b[33m\"\u001b[39m\u001b[33man ExcelFile - ExcelFile already has the engine set\u001b[39m\u001b[33m\"\u001b[39m\n\u001b[32m    505\u001b[39m     )\n",
      "\u001b[36mFile \u001b[39m\u001b[32mc:\\Users\\chlje\\VSCodeProjects\\KAIST_MFE\\.venv\\Lib\\site-packages\\pandas\\io\\excel\\_base.py:1550\u001b[39m, in \u001b[36mExcelFile.__init__\u001b[39m\u001b[34m(self, path_or_buffer, engine, storage_options, engine_kwargs)\u001b[39m\n\u001b[32m   1548\u001b[39m     ext = \u001b[33m\"\u001b[39m\u001b[33mxls\u001b[39m\u001b[33m\"\u001b[39m\n\u001b[32m   1549\u001b[39m \u001b[38;5;28;01melse\u001b[39;00m:\n\u001b[32m-> \u001b[39m\u001b[32m1550\u001b[39m     ext = \u001b[43minspect_excel_format\u001b[49m\u001b[43m(\u001b[49m\n\u001b[32m   1551\u001b[39m \u001b[43m        \u001b[49m\u001b[43mcontent_or_path\u001b[49m\u001b[43m=\u001b[49m\u001b[43mpath_or_buffer\u001b[49m\u001b[43m,\u001b[49m\u001b[43m \u001b[49m\u001b[43mstorage_options\u001b[49m\u001b[43m=\u001b[49m\u001b[43mstorage_options\u001b[49m\n\u001b[32m   1552\u001b[39m \u001b[43m    \u001b[49m\u001b[43m)\u001b[49m\n\u001b[32m   1553\u001b[39m     \u001b[38;5;28;01mif\u001b[39;00m ext \u001b[38;5;129;01mis\u001b[39;00m \u001b[38;5;28;01mNone\u001b[39;00m:\n\u001b[32m   1554\u001b[39m         \u001b[38;5;28;01mraise\u001b[39;00m \u001b[38;5;167;01mValueError\u001b[39;00m(\n\u001b[32m   1555\u001b[39m             \u001b[33m\"\u001b[39m\u001b[33mExcel file format cannot be determined, you must specify \u001b[39m\u001b[33m\"\u001b[39m\n\u001b[32m   1556\u001b[39m             \u001b[33m\"\u001b[39m\u001b[33man engine manually.\u001b[39m\u001b[33m\"\u001b[39m\n\u001b[32m   1557\u001b[39m         )\n",
      "\u001b[36mFile \u001b[39m\u001b[32mc:\\Users\\chlje\\VSCodeProjects\\KAIST_MFE\\.venv\\Lib\\site-packages\\pandas\\io\\excel\\_base.py:1402\u001b[39m, in \u001b[36minspect_excel_format\u001b[39m\u001b[34m(content_or_path, storage_options)\u001b[39m\n\u001b[32m   1399\u001b[39m \u001b[38;5;28;01mif\u001b[39;00m \u001b[38;5;28misinstance\u001b[39m(content_or_path, \u001b[38;5;28mbytes\u001b[39m):\n\u001b[32m   1400\u001b[39m     content_or_path = BytesIO(content_or_path)\n\u001b[32m-> \u001b[39m\u001b[32m1402\u001b[39m \u001b[38;5;28;01mwith\u001b[39;00m \u001b[43mget_handle\u001b[49m\u001b[43m(\u001b[49m\n\u001b[32m   1403\u001b[39m \u001b[43m    \u001b[49m\u001b[43mcontent_or_path\u001b[49m\u001b[43m,\u001b[49m\u001b[43m \u001b[49m\u001b[33;43m\"\u001b[39;49m\u001b[33;43mrb\u001b[39;49m\u001b[33;43m\"\u001b[39;49m\u001b[43m,\u001b[49m\u001b[43m \u001b[49m\u001b[43mstorage_options\u001b[49m\u001b[43m=\u001b[49m\u001b[43mstorage_options\u001b[49m\u001b[43m,\u001b[49m\u001b[43m \u001b[49m\u001b[43mis_text\u001b[49m\u001b[43m=\u001b[49m\u001b[38;5;28;43;01mFalse\u001b[39;49;00m\n\u001b[32m   1404\u001b[39m \u001b[43m\u001b[49m\u001b[43m)\u001b[49m \u001b[38;5;28;01mas\u001b[39;00m handle:\n\u001b[32m   1405\u001b[39m     stream = handle.handle\n\u001b[32m   1406\u001b[39m     stream.seek(\u001b[32m0\u001b[39m)\n",
      "\u001b[36mFile \u001b[39m\u001b[32mc:\\Users\\chlje\\VSCodeProjects\\KAIST_MFE\\.venv\\Lib\\site-packages\\pandas\\io\\common.py:882\u001b[39m, in \u001b[36mget_handle\u001b[39m\u001b[34m(path_or_buf, mode, encoding, compression, memory_map, is_text, errors, storage_options)\u001b[39m\n\u001b[32m    873\u001b[39m         handle = \u001b[38;5;28mopen\u001b[39m(\n\u001b[32m    874\u001b[39m             handle,\n\u001b[32m    875\u001b[39m             ioargs.mode,\n\u001b[32m   (...)\u001b[39m\u001b[32m    878\u001b[39m             newline=\u001b[33m\"\u001b[39m\u001b[33m\"\u001b[39m,\n\u001b[32m    879\u001b[39m         )\n\u001b[32m    880\u001b[39m     \u001b[38;5;28;01melse\u001b[39;00m:\n\u001b[32m    881\u001b[39m         \u001b[38;5;66;03m# Binary mode\u001b[39;00m\n\u001b[32m--> \u001b[39m\u001b[32m882\u001b[39m         handle = \u001b[38;5;28;43mopen\u001b[39;49m\u001b[43m(\u001b[49m\u001b[43mhandle\u001b[49m\u001b[43m,\u001b[49m\u001b[43m \u001b[49m\u001b[43mioargs\u001b[49m\u001b[43m.\u001b[49m\u001b[43mmode\u001b[49m\u001b[43m)\u001b[49m\n\u001b[32m    883\u001b[39m     handles.append(handle)\n\u001b[32m    885\u001b[39m \u001b[38;5;66;03m# Convert BytesIO or file objects passed with an encoding\u001b[39;00m\n",
      "\u001b[31mFileNotFoundError\u001b[39m: [Errno 2] No such file or directory: './note2data.xlsx'"
     ]
    }
   ],
   "source": [
    "###import the excel file\n",
    "sampletrans=pd.read_excel('./note2data.xlsx', sheet_name=\"sampletran\", header=0)\n",
    "print(sampletrans.dtypes)\n",
    "samplesort=sampletrans.sort_values(['id','Date']) # sort by id and date\n",
    "print(samplesort.head(10))\n",
    "print(samplesort.id.drop_duplicates()) #print unique ids\n",
    "print('Min return:  ', samplesort['return'].min())\n",
    "print('Max return:  ', samplesort['return'].max())"
   ]
  },
  {
   "cell_type": "code",
   "execution_count": null,
   "id": "3f4610bd",
   "metadata": {},
   "outputs": [],
   "source": [
    "##Select only those that satisfy a condition\n",
    "#select the data for MSFT, IBM, and WMT\n",
    "#You can use the isin() function to filter the data based on a list of values\n",
    "mdata=samplesort[samplesort.id.isin(['MSFT','IBM','WMT'])]\n",
    "print(mdata.head())\n",
    "mdata.reset_index(drop=True,inplace=True) #reset the index of each row\n",
    "#inplace=True changes the original dataframe\n",
    "#drop=true eliminate the original index\n",
    "\n",
    "print(mdata.head())"
   ]
  },
  {
   "cell_type": "code",
   "execution_count": null,
   "id": "c959e6a4-38d0-4712-939b-7732197e41d8",
   "metadata": {},
   "outputs": [],
   "source": [
    "#summaryze : descriptive statistics\n",
    "print(mdata['return'].describe())\n",
    "#You can get the summary statistics for each group using the groupby function\n",
    "\n",
    "#Here, you first created a grouped object by grouping the data by 'id' and then selecting the 'return' column.\n",
    "#Then, you can use the describe() function to get a summary of the statistics for each\n",
    "grouped=mdata.groupby(['id'])['return']\n",
    "print(type(grouped))\n",
    "print(grouped.describe())\n",
    "print(grouped.count())\n",
    "\n",
    "print(grouped.agg(['sum','mean','median',\\\n",
    "                   'min','max','std']))\n",
    "print(grouped.agg(['sum','mean','std']).rename(columns={'sum': 'total','mean':'avg','std':'sd'}))"
   ]
  },
  {
   "cell_type": "code",
   "execution_count": null,
   "id": "25f2c78b",
   "metadata": {},
   "outputs": [],
   "source": [
    "##Alternatively, you can use the following without creating a grouped object\n",
    "print(mdata.groupby('id')['return'].describe())\n",
    "print(mdata.groupby('id')['return'].mean())"
   ]
  },
  {
   "cell_type": "markdown",
   "id": "fd7d3d03",
   "metadata": {
    "jp-MarkdownHeadingCollapsed": true
   },
   "source": [
    "### Classify into two groups based on returns"
   ]
  },
  {
   "cell_type": "code",
   "execution_count": null,
   "id": "fff4b901-e1b5-44e0-9d96-9845770fff76",
   "metadata": {},
   "outputs": [],
   "source": [
    "### print(mdata.dtypes) #make sure that return is a numeric column\n",
    "\n",
    "#print(mdata.drop(columns='isign',inplace=True))"
   ]
  },
  {
   "cell_type": "code",
   "execution_count": null,
   "id": "68b1d19d",
   "metadata": {},
   "outputs": [],
   "source": [
    "#You can create a new column based on a condition\n",
    "#For example, you can create a new column 'isign' that indicates whether the return\n",
    "test=mdata.copy()\n",
    "test.loc[test['return']>=0.0,'isign']='POS'\n",
    "test.loc[test['return']<0.0,'isign']='NEG'\n",
    "print(test.head())"
   ]
  },
  {
   "cell_type": "code",
   "execution_count": null,
   "id": "46a93260",
   "metadata": {},
   "outputs": [],
   "source": [
    "#Alternatively, you can use np.where to create a new column based on a condition\n",
    "#This is more efficient for larger datasets\n",
    "test1=mdata.copy()\n",
    "test1.loc[:,'isign']=np.where(test1['return']>=0.0,'POS','NEG')\n",
    "print(test1.head())"
   ]
  },
  {
   "cell_type": "code",
   "execution_count": 8,
   "id": "8483ce60",
   "metadata": {},
   "outputs": [],
   "source": [
    "mdata=test.copy()#Copy the modified dataframe back to mdata"
   ]
  },
  {
   "cell_type": "code",
   "execution_count": null,
   "id": "3efaa3ad",
   "metadata": {},
   "outputs": [],
   "source": [
    "#generate frequency 2&2 frequency table\n",
    "print(pd.crosstab(index=mdata[\"id\"],columns='id'))\n",
    "print(pd.crosstab(index=mdata[\"isign\"],columns='isign'))\n",
    "print(pd.crosstab(index=mdata[\"id\"],columns=mdata[\"isign\"]))"
   ]
  },
  {
   "cell_type": "code",
   "execution_count": null,
   "id": "87b14474-6bd8-4021-a034-b5388ab64fc9",
   "metadata": {},
   "outputs": [],
   "source": [
    "#Check the data type of the 'Date' column\n",
    "print(mdata.Date.dtype)"
   ]
  },
  {
   "cell_type": "code",
   "execution_count": null,
   "id": "43c1a57b",
   "metadata": {},
   "outputs": [],
   "source": [
    "# Change the format of date using pd.to_datetime (it is recognized as date, time in pd)\n",
    "print(mdata.Date.head())\n",
    "\n",
    "# Convert the 'Date' column to datetime format\n",
    "# Specify the format of the date string if necessary\n",
    "mdata.loc[:,'Date']=pd.to_datetime(mdata.loc[:,'Date'],format='%Y%m%d')\n",
    "print(mdata.Date.head())"
   ]
  },
  {
   "cell_type": "code",
   "execution_count": null,
   "id": "c4c017da",
   "metadata": {},
   "outputs": [],
   "source": [
    "##You can add columns in the following way, rather than add them one by one\n",
    "\n",
    "#First, import the datetime module\n",
    "from datetime import datetime as dt\n",
    "\n",
    "# Using datetime functions to extract year, month, and day\n",
    "# and create new columns in the DataFrame\n",
    "print(mdata.head())\n",
    "mdata=mdata.join(pd.DataFrame(\n",
    "        { 'year':mdata['Date'].dt.year,\n",
    "          'month':mdata['Date'].dt.month,\n",
    "          'day':mdata['Date'].dt.day,\n",
    "         }, index=mdata.index\n",
    "        ))\n",
    "print(mdata.head())"
   ]
  },
  {
   "cell_type": "code",
   "execution_count": null,
   "id": "a4a65950",
   "metadata": {},
   "outputs": [],
   "source": [
    "#########################\n",
    "# You can report isign Ways for each year, for all, or for a specific id\n",
    "\n",
    "print(pd.crosstab(index=mdata[\"year\"],columns=mdata[\"isign\"]))\n",
    "print(pd.crosstab(index=mdata[mdata.id=='MSFT']['year'],columns=mdata[\"isign\"]))\n",
    "print(pd.crosstab(index=mdata[mdata.id=='IBM']['year'],columns=mdata[\"isign\"]))\n",
    "print(pd.crosstab(index=mdata[mdata.id=='WMT']['year'],columns=mdata[\"isign\"]))"
   ]
  },
  {
   "cell_type": "code",
   "execution_count": null,
   "id": "0658aead",
   "metadata": {},
   "outputs": [],
   "source": [
    "##Alternatively, you can use the groupby function to count the number of occurrences\n",
    "print(mdata.groupby(['id','isign','year'])['return'].count())"
   ]
  },
  {
   "cell_type": "code",
   "execution_count": 15,
   "id": "6b79a868",
   "metadata": {},
   "outputs": [],
   "source": [
    "#save the data to a csv file#\n",
    "mdata.to_csv('./noteex2.csv')\n",
    "\n",
    "#alterantively, you can save it in an excel file \n",
    "mdata.to_excel('./noteex2.xlsx', sheet_name='n2ex2')"
   ]
  }
 ],
 "metadata": {
  "kernelspec": {
   "display_name": ".venv",
   "language": "python",
   "name": "python3"
  },
  "language_info": {
   "codemirror_mode": {
    "name": "ipython",
    "version": 3
   },
   "file_extension": ".py",
   "mimetype": "text/x-python",
   "name": "python",
   "nbconvert_exporter": "python",
   "pygments_lexer": "ipython3",
   "version": "3.12.9"
  }
 },
 "nbformat": 4,
 "nbformat_minor": 5
}
