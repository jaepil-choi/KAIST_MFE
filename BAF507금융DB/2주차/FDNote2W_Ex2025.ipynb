{
 "cells": [
  {
   "cell_type": "markdown",
   "id": "5a425c46",
   "metadata": {},
   "source": [
    "#### FDNote2W_Ex2025\n",
    "\n",
    "Prepared by Inmoo Lee for the Financial Databases class at KAIST\n",
    "\n",
    "inmool@kaist.ac.kr\n",
    "\n",
    "List of input files\n",
    "\n",
    "    - note2data.xlsx\n",
    "\n",
    "List of output files\n",
    "\n",
    "    - noteex2.csv\n",
    "    - noteex2.xlsx"
   ]
  },
  {
   "cell_type": "code",
   "execution_count": null,
   "id": "e3976e59",
   "metadata": {},
   "outputs": [],
   "source": [
    "import os\n",
    "import numpy as np\n",
    "import pandas as pd\n",
    "\n",
    "print(os.getcwd())  #get the current working directory\n",
    "path='D\\\\####'#Choose your directory to work with\n",
    "os.chdir(path) # change the working directory\n",
    "print(os.getcwd())  #get the current working directory"
   ]
  },
  {
   "cell_type": "code",
   "execution_count": null,
   "id": "e2059abd",
   "metadata": {},
   "outputs": [],
   "source": [
    "###import the excel file\n",
    "sampletrans=pd.read_excel('./note2data.xlsx', sheet_name=\"sampletran\", header=0)\n",
    "print(sampletrans.dtypes)\n",
    "samplesort=sampletrans.sort_values(['id','Date']) # sort by id and date\n",
    "print(samplesort.head(10))\n",
    "print(samplesort.id.drop_duplicates()) #print unique ids\n",
    "print('Min return:  ', samplesort['return'].min())\n",
    "print('Max return:  ', samplesort['return'].max())"
   ]
  },
  {
   "cell_type": "code",
   "execution_count": null,
   "id": "3f4610bd",
   "metadata": {},
   "outputs": [],
   "source": [
    "##Select only those that satisfy a condition\n",
    "#select the data for MSFT, IBM, and WMT\n",
    "#You can use the isin() function to filter the data based on a list of values\n",
    "mdata=samplesort[samplesort.id.isin(['MSFT','IBM','WMT'])]\n",
    "print(mdata.head())\n",
    "mdata.reset_index(drop=True,inplace=True) #reset the index of each row\n",
    "#inplace=True changes the original dataframe\n",
    "#drop=true eliminate the original index\n",
    "\n",
    "print(mdata.head())"
   ]
  },
  {
   "cell_type": "code",
   "execution_count": null,
   "id": "c959e6a4-38d0-4712-939b-7732197e41d8",
   "metadata": {},
   "outputs": [],
   "source": [
    "#summaryze : descriptive statistics\n",
    "print(mdata['return'].describe())\n",
    "#You can get the summary statistics for each group using the groupby function\n",
    "\n",
    "#Here, you first created a grouped object by grouping the data by 'id' and then selecting the 'return' column.\n",
    "#Then, you can use the describe() function to get a summary of the statistics for each\n",
    "grouped=mdata.groupby(['id'])['return']\n",
    "print(type(grouped))\n",
    "print(grouped.describe())\n",
    "print(grouped.count())\n",
    "\n",
    "print(grouped.agg(['sum','mean','median',\\\n",
    "                   'min','max','std']))\n",
    "print(grouped.agg(['sum','mean','std']).rename(columns={'sum': 'total','mean':'avg','std':'sd'}))"
   ]
  },
  {
   "cell_type": "code",
   "execution_count": null,
   "id": "25f2c78b",
   "metadata": {},
   "outputs": [],
   "source": [
    "##Alternatively, you can use the following without creating a grouped object\n",
    "print(mdata.groupby('id')['return'].describe())\n",
    "print(mdata.groupby('id')['return'].mean())"
   ]
  },
  {
   "cell_type": "markdown",
   "id": "fd7d3d03",
   "metadata": {
    "jp-MarkdownHeadingCollapsed": true
   },
   "source": [
    "### Classify into two groups based on returns"
   ]
  },
  {
   "cell_type": "markdown",
   "id": "fff4b901-e1b5-44e0-9d96-9845770fff76",
   "metadata": {},
   "source": [
    "### print(mdata.dtypes) #make sure that return is a numeric column\n",
    "\n",
    "#print(mdata.drop(columns='isign',inplace=True))"
   ]
  },
  {
   "cell_type": "code",
   "execution_count": null,
   "id": "68b1d19d",
   "metadata": {},
   "outputs": [],
   "source": [
    "#You can create a new column based on a condition\n",
    "#For example, you can create a new column 'isign' that indicates whether the return\n",
    "test=mdata.copy()\n",
    "test.loc[test['return']>=0.0,'isign']='POS'\n",
    "test.loc[test['return']<0.0,'isign']='NEG'\n",
    "print(test.head())"
   ]
  },
  {
   "cell_type": "code",
   "execution_count": null,
   "id": "46a93260",
   "metadata": {},
   "outputs": [],
   "source": [
    "#Alternatively, you can use np.where to create a new column based on a condition\n",
    "#This is more efficient for larger datasets\n",
    "test1=mdata.copy()\n",
    "test1.loc[:,'isign']=np.where(test1['return']>=0.0,'POS','NEG')\n",
    "print(test1.head())"
   ]
  },
  {
   "cell_type": "code",
   "execution_count": 8,
   "id": "8483ce60",
   "metadata": {},
   "outputs": [],
   "source": [
    "mdata=test.copy()#Copy the modified dataframe back to mdata"
   ]
  },
  {
   "cell_type": "code",
   "execution_count": null,
   "id": "3efaa3ad",
   "metadata": {},
   "outputs": [],
   "source": [
    "#generate frequency 2&2 frequency table\n",
    "print(pd.crosstab(index=mdata[\"id\"],columns='id'))\n",
    "print(pd.crosstab(index=mdata[\"isign\"],columns='isign'))\n",
    "print(pd.crosstab(index=mdata[\"id\"],columns=mdata[\"isign\"]))"
   ]
  },
  {
   "cell_type": "code",
   "execution_count": null,
   "id": "87b14474-6bd8-4021-a034-b5388ab64fc9",
   "metadata": {},
   "outputs": [],
   "source": [
    "#Check the data type of the 'Date' column\n",
    "print(mdata.Date.dtype)"
   ]
  },
  {
   "cell_type": "code",
   "execution_count": null,
   "id": "43c1a57b",
   "metadata": {},
   "outputs": [],
   "source": [
    "# Change the format of date using pd.to_datetime (it is recognized as date, time in pd)\n",
    "print(mdata.Date.head())\n",
    "\n",
    "# Convert the 'Date' column to datetime format\n",
    "# Specify the format of the date string if necessary\n",
    "mdata.loc[:,'Date']=pd.to_datetime(mdata.loc[:,'Date'],format='%Y%m%d')\n",
    "print(mdata.Date.head())"
   ]
  },
  {
   "cell_type": "code",
   "execution_count": null,
   "id": "c4c017da",
   "metadata": {},
   "outputs": [],
   "source": [
    "##You can add columns in the following way, rather than add them one by one\n",
    "\n",
    "#First, import the datetime module\n",
    "from datetime import datetime as dt\n",
    "\n",
    "# Using datetime functions to extract year, month, and day\n",
    "# and create new columns in the DataFrame\n",
    "print(mdata.head())\n",
    "mdata=mdata.join(pd.DataFrame(\n",
    "        { 'year':mdata['Date'].dt.year,\n",
    "          'month':mdata['Date'].dt.month,\n",
    "          'day':mdata['Date'].dt.day,\n",
    "         }, index=mdata.index\n",
    "        ))\n",
    "print(mdata.head())"
   ]
  },
  {
   "cell_type": "code",
   "execution_count": null,
   "id": "a4a65950",
   "metadata": {},
   "outputs": [],
   "source": [
    "#########################\n",
    "# You can report isign Ways for each year, for all, or for a specific id\n",
    "\n",
    "print(pd.crosstab(index=mdata[\"year\"],columns=mdata[\"isign\"]))\n",
    "print(pd.crosstab(index=mdata[mdata.id=='MSFT']['year'],columns=mdata[\"isign\"]))\n",
    "print(pd.crosstab(index=mdata[mdata.id=='IBM']['year'],columns=mdata[\"isign\"]))\n",
    "print(pd.crosstab(index=mdata[mdata.id=='WMT']['year'],columns=mdata[\"isign\"]))"
   ]
  },
  {
   "cell_type": "code",
   "execution_count": null,
   "id": "0658aead",
   "metadata": {},
   "outputs": [],
   "source": [
    "##Alternatively, you can use the groupby function to count the number of occurrences\n",
    "print(mdata.groupby(['id','isign','year'])['return'].count())"
   ]
  },
  {
   "cell_type": "code",
   "execution_count": 15,
   "id": "6b79a868",
   "metadata": {},
   "outputs": [],
   "source": [
    "#save the data to a csv file#\n",
    "mdata.to_csv('./noteex2.csv')\n",
    "\n",
    "#alterantively, you can save it in an excel file \n",
    "mdata.to_excel('./noteex2.xlsx', sheet_name='n2ex2')"
   ]
  }
 ],
 "metadata": {
  "kernelspec": {
   "display_name": "base",
   "language": "python",
   "name": "python3"
  },
  "language_info": {
   "codemirror_mode": {
    "name": "ipython",
    "version": 3
   },
   "file_extension": ".py",
   "mimetype": "text/x-python",
   "name": "python",
   "nbconvert_exporter": "python",
   "pygments_lexer": "ipython3",
   "version": "3.11.5"
  }
 },
 "nbformat": 4,
 "nbformat_minor": 5
}
