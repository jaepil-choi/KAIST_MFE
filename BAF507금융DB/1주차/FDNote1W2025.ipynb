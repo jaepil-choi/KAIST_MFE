{
 "cells": [
  {
   "cell_type": "markdown",
   "id": "162b0e15",
   "metadata": {},
   "source": [
    "## FDNote1W.ipynb\n",
    "Prepared by Inmoo Lee for the Financial Databases class at KAIST\n",
    "inmool@kaist.ac.kr\n",
    "\n",
    "List of input files\n",
    "\n",
    "    - note1.txt\n",
    "    - note1test.xlsx\n",
    "    - note1data.xlsx\n",
    "    - note1.RData\n",
    "\n",
    "List of output files\n",
    "\n",
    "    - note1_out.xlsx\n",
    "    - note1.pkl\n",
    "    - note1.ft\n",
    "    "
   ]
  },
  {
   "cell_type": "markdown",
   "id": "753059f3",
   "metadata": {},
   "source": [
    "### Package \n",
    "\n",
    "To use packages, you need to install them first.\n",
    "\n",
    "Reference the following for the installation of pakcages \n",
    "https://www.youtube.com/watch?v=Z_Kxg-EYvxM \n",
    "\n",
    "When you have problems with installing packages using conda, reference the following\n",
    "\n",
    "https://docs.conda.io/projects/conda/en/latest/user-guide/configuration/use-condarc.html"
   ]
  },
  {
   "cell_type": "markdown",
   "id": "46d195ff",
   "metadata": {},
   "source": [
    "## Set the working environment\n",
    "\n",
    "If a pakcage is not installed, then you have to install it first using \"!pip install ***\" or \"conda install ***\" in Ananconda Powershell Prompt"
   ]
  },
  {
   "cell_type": "code",
   "execution_count": 1,
   "id": "087f53e5-70fb-449c-b4cb-9d7d2e6f6f73",
   "metadata": {},
   "outputs": [
    {
     "name": "stdout",
     "output_type": "stream",
     "text": [
      "c:\\Users\\chlje\\VSCodeProjects\\KAIST_MFE\\BAF507금융DB\\1주차\n"
     ]
    }
   ],
   "source": [
    "import os #import a package called os\n",
    "\n",
    "print(os.getcwd())  #get the current working directory"
   ]
  },
  {
   "cell_type": "code",
   "execution_count": 2,
   "id": "de7fae3e-71c8-4d50-b83b-336b23291ae9",
   "metadata": {},
   "outputs": [],
   "source": [
    "# path=\"d:\\\\****\\\\\"# specify the path to change to in your computer\n",
    "# os.chdir(path) # change the working directory\n",
    "\n",
    "from pathlib import Path\n",
    "\n",
    "CWD_PATH = Path.cwd()"
   ]
  },
  {
   "cell_type": "markdown",
   "id": "cc4ec6c1",
   "metadata": {},
   "source": [
    "## Data input/import\n",
    "\n",
    "##### Some basic commands\n"
   ]
  },
  {
   "cell_type": "code",
   "execution_count": 3,
   "id": "e1e3dd0d",
   "metadata": {},
   "outputs": [
    {
     "name": "stdout",
     "output_type": "stream",
     "text": [
      "100\n",
      "1000.0\n",
      "John\n"
     ]
    }
   ],
   "source": [
    "counter=100 #define the value of a variable\n",
    "miles=1000.0\n",
    "name=\"John\"\n",
    "\n",
    "print (counter) #print out to the output screen\n",
    "print(miles)\n",
    "print(name)"
   ]
  },
  {
   "cell_type": "code",
   "execution_count": 4,
   "id": "f46b9342",
   "metadata": {},
   "outputs": [
    {
     "name": "stdout",
     "output_type": "stream",
     "text": [
      "<class 'int'>\n",
      "<class 'float'>\n",
      "<class 'str'>\n"
     ]
    }
   ],
   "source": [
    "# Check the type of the variables\n",
    "print(type(counter))\n",
    "print(type(miles))\n",
    "print(type(name))"
   ]
  },
  {
   "cell_type": "code",
   "execution_count": 5,
   "id": "667aa9c7",
   "metadata": {},
   "outputs": [
    {
     "name": "stdout",
     "output_type": "stream",
     "text": [
      "['abcd', 786, 2.23, 'john', 70.2]\n",
      "[123, 'john']\n",
      "786\n",
      "[786, 2.23, 'john']\n",
      "[2.23, 'john', 70.2]\n",
      "[123, 'john', 123, 'john']\n",
      "['abcd', 786, 2.23, 'john', 70.2, 123, 'john']\n"
     ]
    }
   ],
   "source": [
    "list = [ 'abcd', 786 , 2.23, 'john', 70.2 ] #series\n",
    "tinylist = [123, 'john']\n",
    "\n",
    "print(list) # Prints complete list\n",
    "print(tinylist) #Prints list two times\n",
    "\n",
    "print(list[1]) #Prints first element of the list\n",
    "print(list[1:4]) #Prints elements starting from 2nd till 3rd\n",
    "print(list[2:]) #Prints elements starting from 3rd element\n",
    "print(tinylist*2) #Prints list two times\n",
    "print(list + tinylist) #Prints concatenated lists"
   ]
  },
  {
   "cell_type": "code",
   "execution_count": 6,
   "id": "dcd4c69e",
   "metadata": {},
   "outputs": [
    {
     "name": "stdout",
     "output_type": "stream",
     "text": [
      "<class 'list'>\n"
     ]
    }
   ],
   "source": [
    "# Check the type of the list variables\n",
    "print(type(tinylist))"
   ]
  },
  {
   "cell_type": "markdown",
   "id": "a1c2c588",
   "metadata": {},
   "source": [
    "### Dictionary\n",
    "\n",
    "Composed of keys and values"
   ]
  },
  {
   "cell_type": "code",
   "execution_count": 7,
   "id": "6f9d8212",
   "metadata": {},
   "outputs": [
    {
     "name": "stdout",
     "output_type": "stream",
     "text": [
      "This is one\n",
      "This is two\n",
      "{'name': 'john', 'code': 6734, 'dept': 'sales'}\n",
      "dict_keys(['name', 'code', 'dept'])\n",
      "dict_values(['john', 6734, 'sales'])\n",
      "dict_keys(['one', 2])\n",
      "dict_values(['This is one', 'This is two'])\n"
     ]
    }
   ],
   "source": [
    "dict = {} # Create an empty dictionary\n",
    "dict['one'] = \"This is one\"\n",
    "dict[2]     = \"This is two\"\n",
    "\n",
    "tinydict = {'name': 'john','code':6734, 'dept': 'sales'}\n",
    "\n",
    "\n",
    "print (dict['one'])       # Prints value for 'one' key\n",
    "print (dict[2])           # Prints value for 2 key\n",
    "print (tinydict)          # Prints complete dictionary\n",
    "print (tinydict.keys())   # Prints all the keys\n",
    "print (tinydict.values()) # Prints all the values\n",
    "print(dict.keys())\n",
    "print(dict.values())"
   ]
  },
  {
   "cell_type": "code",
   "execution_count": 8,
   "id": "3fdb6e50",
   "metadata": {},
   "outputs": [
    {
     "name": "stdout",
     "output_type": "stream",
     "text": [
      "<class 'dict'>\n",
      "<class 'dict'>\n"
     ]
    }
   ],
   "source": [
    "# Check the type of the dictionary variables\n",
    "print(type(dict))\n",
    "print(type(tinydict))"
   ]
  },
  {
   "cell_type": "markdown",
   "id": "3a12ab0e",
   "metadata": {},
   "source": [
    "## Create and read data\n",
    "\n",
    "####  Method 1: Create one directly\n",
    "\n",
    "First, import packages after installing packages (if not installed yet, you can install inside jupyternote by using the following command\n",
    "\n",
    "!pip install numpy\n",
    "\n",
    ")\n",
    "\n",
    "Combine arrays and create a Pandas dataframe"
   ]
  },
  {
   "cell_type": "code",
   "execution_count": 9,
   "id": "12a9414b-4b12-43dc-ad2e-da3b62953f67",
   "metadata": {},
   "outputs": [],
   "source": [
    "import numpy as np\n",
    "import pandas as pd"
   ]
  },
  {
   "cell_type": "code",
   "execution_count": 10,
   "id": "c826bef8-3b15-4d8a-bee0-222b3a3bfbe2",
   "metadata": {},
   "outputs": [
    {
     "name": "stdout",
     "output_type": "stream",
     "text": [
      "[1 2 3 4 5]\n",
      "[['1' 'M' '68.5' '175']\n",
      " ['2' 'F' '50.2' '150']\n",
      " ['3' 'F' '45.5' '155']\n",
      " ['4' 'M' '80.5' '165']\n",
      " ['5' 'F' '55.0' '160']]\n",
      "  ID GENDER WEIGHT HEIGHT\n",
      "0  1      M   68.5    175\n",
      "1  2      F   50.2    150\n",
      "2  3      F   45.5    155\n",
      "3  4      M   80.5    165\n",
      "4  5      F   55.0    160\n"
     ]
    }
   ],
   "source": [
    "d=np.array((1,2,3,4,5))\n",
    "print(d)\n",
    "e=np.array((\"M\", \"F\", \"F\", \"M\", \"F\"))\n",
    "f=np.array((68.5, 50.2, 45.5, 80.5, 55.0))\n",
    "g=np.array((175, 150, 155, 165, 160))\n",
    "print(np.column_stack((d,e,f,g)))\n",
    "\n",
    "test1=pd.DataFrame(data=np.column_stack((d,e,f,g)),columns=[\"ID\", \"GENDER\", \"WEIGHT\", \"HEIGHT\"])\n",
    "print(test1)"
   ]
  },
  {
   "cell_type": "code",
   "execution_count": 11,
   "id": "41b8593f",
   "metadata": {},
   "outputs": [
    {
     "name": "stdout",
     "output_type": "stream",
     "text": [
      "<class 'numpy.ndarray'>\n"
     ]
    }
   ],
   "source": [
    "print(type(g))"
   ]
  },
  {
   "cell_type": "markdown",
   "id": "70212eaa",
   "metadata": {},
   "source": [
    "### Choose a particular column or row in a dataframe\n",
    "\n",
    "**loc** gets rows (or columns) with particular labels from the index.\n",
    "**iloc** gets rows (or columns) at particular positions in the index (so it only takes integers)."
   ]
  },
  {
   "cell_type": "code",
   "execution_count": 12,
   "id": "dd7e17ed",
   "metadata": {},
   "outputs": [
    {
     "name": "stdout",
     "output_type": "stream",
     "text": [
      "Index(['ID', 'GENDER', 'WEIGHT', 'HEIGHT'], dtype='object')\n",
      "  ID GENDER WEIGHT HEIGHT\n",
      "0  1      M   68.5    175\n",
      "  ID GENDER WEIGHT HEIGHT\n",
      "0  1      M   68.5    175\n",
      "  ID GENDER\n",
      "0  1      M\n",
      "1  2      F\n",
      "2  3      F\n",
      "3  4      M\n",
      "4  5      F\n",
      "  ID HEIGHT\n",
      "0  1    175\n",
      "1  2    150\n",
      "2  3    155\n",
      "3  4    165\n",
      "4  5    160\n",
      "  ID GENDER\n",
      "0  1      M\n",
      "1  2      F\n",
      "2  3      F\n",
      "3  4      M\n",
      "4  5      F\n"
     ]
    }
   ],
   "source": [
    "print(test1.columns)\n",
    "print(test1.loc[0:0,:])\n",
    "print(test1.iloc[0:1,:])\n",
    "print(test1.iloc[:,0:2])\n",
    "print(test1.loc[:,['ID','HEIGHT']])\n",
    "print(test1.iloc[:,0:2])"
   ]
  },
  {
   "cell_type": "markdown",
   "id": "9ca7936f",
   "metadata": {},
   "source": [
    "###  Method 2: Read from a text file"
   ]
  },
  {
   "cell_type": "code",
   "execution_count": 13,
   "id": "28bbfdab",
   "metadata": {},
   "outputs": [
    {
     "name": "stdout",
     "output_type": "stream",
     "text": [
      "   ID GENDER  WEIGHT  HEIGHT\n",
      "0   1      M    68.5     175\n",
      "1   2      F    50.2     150\n",
      "2   3      F    45.5     155\n",
      "3   4      M    80.5     165\n",
      "4   5      F    55.0     160\n"
     ]
    },
    {
     "data": {
      "text/plain": [
       "pandas.core.frame.DataFrame"
      ]
     },
     "execution_count": 13,
     "metadata": {},
     "output_type": "execute_result"
    }
   ],
   "source": [
    "test2=pd.read_csv(\"./note1.txt\", sep=\" \", header=None, names=[\"ID\", \"GENDER\", \"WEIGHT\", \"HEIGHT\"])\n",
    "print(test2)\n",
    "type(test2) #print out the type of variable, series or file\n",
    "\n",
    "#test2.index=[\"row1\", \"row2\", \"row3\", \"row4\",\"row5\"]#for the naming of rows"
   ]
  },
  {
   "cell_type": "markdown",
   "id": "6b01ccda",
   "metadata": {},
   "source": [
    "###  Method 3: Read from an Excel file\n"
   ]
  },
  {
   "cell_type": "code",
   "execution_count": 14,
   "id": "8b0c72af",
   "metadata": {},
   "outputs": [
    {
     "name": "stdout",
     "output_type": "stream",
     "text": [
      "   ID GENDER  WEIGHT  HEIGHT\n",
      "0   1      M    68.5     175\n",
      "1   2      F    50.2     150\n",
      "2   3      F    45.5     155\n",
      "3   4      M    80.5     165\n",
      "4   5      F    55.0     160\n",
      "Index(['ID', 'GENDER', 'WEIGHT', 'HEIGHT'], dtype='object')\n"
     ]
    }
   ],
   "source": [
    "test3=pd.read_excel('./note1test.xlsx', sheet_name=\"TEST3\", header=0)\n",
    "print(test3)\n",
    "print(test3.columns)"
   ]
  },
  {
   "cell_type": "markdown",
   "id": "47de7584",
   "metadata": {},
   "source": [
    "### Save the data to a DataFrame file using pandas\n",
    "\n",
    "Compare different formats: e.g., check the class note for comparisons of alternative file formats (CSV, Excel, JSON, HDF5, Feather, Parquet and Pickle)"
   ]
  },
  {
   "cell_type": "code",
   "execution_count": 15,
   "id": "1ec39846",
   "metadata": {},
   "outputs": [],
   "source": [
    "# To save the dataframe to an pickle format file\n",
    "test3.to_pickle(\"./note1.pkl\") #To save in the pickle format"
   ]
  },
  {
   "cell_type": "code",
   "execution_count": 16,
   "id": "11398745-15fe-4c41-8c5d-6568075b9c86",
   "metadata": {},
   "outputs": [],
   "source": [
    "# To use different file formats such as feather or parquet, you need to install the respective libraries.\n",
    "# !pip install pyarrow"
   ]
  },
  {
   "cell_type": "code",
   "execution_count": 17,
   "id": "ec88539a",
   "metadata": {},
   "outputs": [],
   "source": [
    "#Alterantivealy, you can use feather\n",
    "test3.to_feather(\"./note1.ft\")\n"
   ]
  },
  {
   "cell_type": "markdown",
   "id": "22773142",
   "metadata": {},
   "source": [
    "### How to retrieve the saved data?"
   ]
  },
  {
   "cell_type": "code",
   "execution_count": 18,
   "id": "f7ba0bde",
   "metadata": {},
   "outputs": [
    {
     "name": "stdout",
     "output_type": "stream",
     "text": [
      "<class 'pandas.core.frame.DataFrame'>\n",
      "<class 'pandas.core.frame.DataFrame'>\n",
      "   ID GENDER  WEIGHT  HEIGHT\n",
      "0   1      M    68.5     175\n",
      "1   2      F    50.2     150\n",
      "2   3      F    45.5     155\n",
      "3   4      M    80.5     165\n",
      "4   5      F    55.0     160\n",
      "   ID GENDER  WEIGHT  HEIGHT\n",
      "0   1      M    68.5     175\n",
      "1   2      F    50.2     150\n",
      "2   3      F    45.5     155\n",
      "3   4      M    80.5     165\n",
      "4   5      F    55.0     160\n",
      "   ID GENDER  WEIGHT  HEIGHT\n",
      "0   1      M    68.5     175\n",
      "1   2      F    50.2     150\n",
      "2   3      F    45.5     155\n",
      "3   4      M    80.5     165\n",
      "4   5      F    55.0     160\n"
     ]
    }
   ],
   "source": [
    "## you can call the saved file in the following way\n",
    "test41=pd.read_pickle(\"./note1.pkl\")\n",
    "test42=pd.read_feather('./note1.ft')\n",
    "print(type(test41))\n",
    "print(type(test42))\n",
    "\n",
    "print(test3)\n",
    "print(test41)\n",
    "print(test42)"
   ]
  },
  {
   "cell_type": "markdown",
   "id": "152fc770",
   "metadata": {},
   "source": [
    "### How to save to an Excel file?"
   ]
  },
  {
   "cell_type": "code",
   "execution_count": 19,
   "id": "96843b3a-2807-4818-8d57-60a4f7e0eb20",
   "metadata": {},
   "outputs": [],
   "source": [
    "#To save to a new excel file, you can use the following command\n",
    "\n",
    "test3.to_excel('./note1_out.xlsx', sheet_name='TEST4', index=False) #do not include index in the excel"
   ]
  },
  {
   "cell_type": "markdown",
   "id": "598827a8",
   "metadata": {},
   "source": [
    "### Conduct a simple analysis#\n",
    "\n",
    "#### Add a category variable\n",
    "\n",
    "define \"STATURE\" based on the value of HEIGHT\n"
   ]
  },
  {
   "cell_type": "code",
   "execution_count": 20,
   "id": "68705aaa",
   "metadata": {},
   "outputs": [
    {
     "name": "stdout",
     "output_type": "stream",
     "text": [
      "ID        object\n",
      "GENDER    object\n",
      "WEIGHT    object\n",
      "HEIGHT    object\n",
      "dtype: object\n",
      "Index(['ID', 'GENDER', 'WEIGHT', 'HEIGHT'], dtype='object')\n",
      "   ID GENDER  WEIGHT  HEIGHT\n",
      "0   1      M    68.5     175\n",
      "1   2      F    50.2     150\n",
      "2   3      F    45.5     155\n",
      "3   4      M    80.5     165\n",
      "4   5      F    55.0     160\n",
      "   ID GENDER  WEIGHT  HEIGHT STATURE\n",
      "0   1      M    68.5     175    Tall\n",
      "1   2      F    50.2     150   Short\n",
      "2   3      F    45.5     155   Short\n",
      "3   4      M    80.5     165    Tall\n",
      "4   5      F    55.0     160    Tall\n"
     ]
    }
   ],
   "source": [
    "print(test1.dtypes) # print the type of each columns\n",
    "print(test2.columns) #print the columns of the dataframe\n",
    "print(test2) #print the dataframe\n",
    "\n",
    "# Add a new column 'STATURE' based on the condition of HEIGHT\n",
    "# If HEIGHT is less than 160, then STATURE is 'Short', otherwise 'Tall\n",
    "test2.loc[:,'STATURE']=np.where((pd.to_numeric(test1.loc[:,'HEIGHT']) < 160), 'Short', 'Tall')\n",
    "#######################\n",
    "print(test2) #Check the updated dataframe with the new column"
   ]
  },
  {
   "cell_type": "markdown",
   "id": "00d1d052",
   "metadata": {},
   "source": [
    "### Alternatively, you can define a function to do the same\n",
    "\n",
    "Define func() to catogorize and then use **apply** to apply the function to a column of a dataframe"
   ]
  },
  {
   "cell_type": "code",
   "execution_count": 21,
   "id": "f85a6a0e",
   "metadata": {},
   "outputs": [
    {
     "name": "stdout",
     "output_type": "stream",
     "text": [
      "  ID GENDER WEIGHT HEIGHT\n",
      "0  1      M   68.5    175\n",
      "1  2      F   50.2    150\n",
      "2  3      F   45.5    155\n",
      "3  4      M   80.5    165\n",
      "4  5      F   55.0    160\n",
      "  ID GENDER WEIGHT HEIGHT STATURE\n",
      "0  1      M   68.5    175    Tall\n",
      "1  2      F   50.2    150   Short\n",
      "2  3      F   45.5    155   Short\n",
      "3  4      M   80.5    165    Tall\n",
      "4  5      F   55.0    160    Tall\n"
     ]
    }
   ],
   "source": [
    "#Define a function to categorize height\n",
    "# If HEIGHT is less than 160, then STATURE is 'Short', otherwise 'Tall\n",
    "def func(x):            #x is an input\n",
    "    if int(x) < 160:    #int() convert x to integer value\n",
    "        return 'Short'  #assign the value to the function and return it\n",
    "    else:\n",
    "        return 'Tall'\n",
    "\n",
    "print(test1) #print the original dataframe\n",
    "# Apply the function to the HEIGHT column and create a new column STATURE\n",
    "test1.loc[:,'STATURE'] = test1.loc[:,'HEIGHT'].apply(func)\n",
    "print(test1) #Check the updated dataframe with the new column"
   ]
  },
  {
   "cell_type": "markdown",
   "id": "6d3632cf",
   "metadata": {},
   "source": [
    "### How to sort the data by the values of a column or columns?"
   ]
  },
  {
   "cell_type": "code",
   "execution_count": 22,
   "id": "b0263f63",
   "metadata": {},
   "outputs": [
    {
     "name": "stdout",
     "output_type": "stream",
     "text": [
      "  ID GENDER WEIGHT HEIGHT STATURE\n",
      "2  3      F   45.5    155   Short\n",
      "1  2      F   50.2    150   Short\n",
      "4  5      F   55.0    160    Tall\n",
      "0  1      M   68.5    175    Tall\n",
      "3  4      M   80.5    165    Tall\n"
     ]
    }
   ],
   "source": [
    "#Sort values by 'GENDER' in ascending order.\n",
    "testout=test1.sort_values([\"GENDER\",'WEIGHT'],ascending=True)\n",
    "print(testout)"
   ]
  },
  {
   "cell_type": "markdown",
   "id": "2bdecdee",
   "metadata": {},
   "source": [
    "### Calculate group means and standard deviations"
   ]
  },
  {
   "cell_type": "code",
   "execution_count": 23,
   "id": "3bf1107f-925f-48ef-b437-eb90043ace67",
   "metadata": {},
   "outputs": [
    {
     "name": "stdout",
     "output_type": "stream",
     "text": [
      "ID         object\n",
      "GENDER     object\n",
      "WEIGHT     object\n",
      "HEIGHT     object\n",
      "STATURE    object\n",
      "dtype: object\n",
      "ID          object\n",
      "GENDER      object\n",
      "WEIGHT     float64\n",
      "HEIGHT       int64\n",
      "STATURE     object\n",
      "dtype: object\n"
     ]
    }
   ],
   "source": [
    "#Convert an object type to a numeric value\n",
    "print(testout.dtypes)\n",
    "testout[\"WEIGHT\"]=pd.to_numeric(testout['WEIGHT'])\n",
    "testout[\"HEIGHT\"]=pd.to_numeric(testout['HEIGHT'])\n",
    "print(testout.dtypes)\n"
   ]
  },
  {
   "cell_type": "code",
   "execution_count": 24,
   "id": "f152b709-a019-4872-a719-80b2da57d20b",
   "metadata": {},
   "outputs": [
    {
     "name": "stdout",
     "output_type": "stream",
     "text": [
      "       WEIGHT                                         HEIGHT                \\\n",
      "          sum       mean median   min   max       std    sum   mean median   \n",
      "GENDER                                                                       \n",
      "F       150.7  50.233333   50.2  45.5  55.0  4.750088    465  155.0  155.0   \n",
      "M       149.0  74.500000   74.5  68.5  80.5  8.485281    340  170.0  170.0   \n",
      "\n",
      "                            \n",
      "        min  max       std  \n",
      "GENDER                      \n",
      "F       150  160  5.000000  \n",
      "M       165  175  7.071068  \n"
     ]
    }
   ],
   "source": [
    "# After defining a dataframe grouped by variables of your choide, \n",
    "# you can use the agg() function to calculate various statistics\n",
    "# such as sum, mean, median, min, max, and std for the grouped data\n",
    "grouped=testout.groupby(['GENDER'])[['WEIGHT','HEIGHT']]\n",
    "print(grouped.agg(['sum','mean','median',\\\n",
    "                   'min','max','std']))"
   ]
  },
  {
   "cell_type": "code",
   "execution_count": 25,
   "id": "b28f0439",
   "metadata": {},
   "outputs": [
    {
     "name": "stdout",
     "output_type": "stream",
     "text": [
      "           WEIGHT  HEIGHT\n",
      "GENDER                   \n",
      "F       50.233333   155.0\n",
      "M       74.500000   170.0\n",
      "          WEIGHT    HEIGHT\n",
      "GENDER                    \n",
      "F       4.750088  5.000000\n",
      "M       8.485281  7.071068\n",
      "        WEIGHT  HEIGHT\n",
      "GENDER                \n",
      "F         45.5     150\n",
      "M         68.5     165\n",
      "        WEIGHT  HEIGHT\n",
      "GENDER                \n",
      "F         55.0     160\n",
      "M         80.5     175\n"
     ]
    }
   ],
   "source": [
    "# Alternatively, you can use the following commands to get the statistics\n",
    "# for each group\n",
    "print(testout.groupby([\"GENDER\"])[['WEIGHT','HEIGHT']].mean())\n",
    "print(testout.groupby([\"GENDER\"])[['WEIGHT','HEIGHT']].std())\n",
    "print(testout.groupby([\"GENDER\"])[['WEIGHT','HEIGHT']].min())\n",
    "print(testout.groupby([\"GENDER\"])[['WEIGHT','HEIGHT']].max())"
   ]
  },
  {
   "cell_type": "markdown",
   "id": "7740f4ea",
   "metadata": {},
   "source": [
    "## The following are available in groupby\n",
    "\n",
    "https://pandas.pydata.org/pandas-docs/stable/groupby.html\n",
    "\n",
    "    -gb.agg        gb.boxplot    gb.cummin     gb.describe   gb.filter     \n",
    "    -gb.get_group  gb.height     gb.last       gb.median     gb.ngroups    \n",
    "    -gb.plot       gb.rank       gb.std        gb.transform\n",
    "    -gb.aggregate  gb.count      gb.cumprod    gb.dtype      gb.first      \n",
    "    -gb.groups     gb.hist       gb.max        gb.min        gb.nth        \n",
    "    -gb.prod       gb.resample   gb.sum        gb.var\n",
    "    -gb.apply      gb.cummax     gb.cumsum     gb.fillna     gb.gender     \n",
    "    -gb.head       gb.indices    gb.mean       gb.name       gb.ohlc       \n",
    "    -gb.quantile   gb.size       gb.tail       gb.weight\n"
   ]
  },
  {
   "cell_type": "markdown",
   "id": "10c9de2d",
   "metadata": {},
   "source": [
    "### Generate frequency 2&2 frequency table"
   ]
  },
  {
   "cell_type": "code",
   "execution_count": 26,
   "id": "7332ca3d",
   "metadata": {},
   "outputs": [
    {
     "name": "stdout",
     "output_type": "stream",
     "text": [
      "STATURE  Short  Tall\n",
      "GENDER              \n",
      "F            2     1\n",
      "M            0     2\n",
      "STATURE  Short  Tall  All\n",
      "GENDER                   \n",
      "F            2     1    3\n",
      "M            0     2    2\n",
      "All          2     3    5\n",
      "STATURE  Short  Tall  All\n",
      "GENDER                   \n",
      "F          0.4   0.2  0.6\n",
      "M          0.0   0.4  0.4\n",
      "All        0.4   0.6  1.0\n",
      "STATURE  Short  Tall  All\n",
      "GENDER                   \n",
      "F          0.4   0.2  0.6\n",
      "M          0.0   0.4  0.4\n",
      "All        0.4   0.6  1.0\n",
      "STATURE     Short      Tall\n",
      "GENDER                     \n",
      "F        0.666667  0.333333\n",
      "M        0.000000  1.000000\n",
      "All      0.400000  0.600000\n",
      "STATURE  Short      Tall  All\n",
      "GENDER                       \n",
      "F          1.0  0.333333  0.6\n",
      "M          0.0  0.666667  0.4\n"
     ]
    }
   ],
   "source": [
    "# Check how the output changes as you use different parameters\n",
    "print(pd.crosstab(testout.GENDER, testout.STATURE, margins=False))\n",
    "print(pd.crosstab(testout.GENDER, testout.STATURE, margins=True))\n",
    "print(pd.crosstab(testout.GENDER, testout.STATURE, margins=True,normalize=True))\n",
    "print(pd.crosstab(testout.GENDER, testout.STATURE, margins=True,normalize='all')) #Sum of all will be 1\n",
    "print(pd.crosstab(testout.GENDER, testout.STATURE, margins=True,normalize='index')) #Sum of row values will be 1\n",
    "print(pd.crosstab(testout.GENDER, testout.STATURE, margins=True,normalize='columns')) #Sum of column values will be 1"
   ]
  },
  {
   "cell_type": "markdown",
   "id": "a1b6f950",
   "metadata": {},
   "source": [
    "## Plot histogram"
   ]
  },
  {
   "cell_type": "code",
   "execution_count": 27,
   "id": "c031852b",
   "metadata": {},
   "outputs": [],
   "source": [
    "# To visualize the data, you can use matplotlib\n",
    "# Please make sure you have matplotlib installed\n",
    "# If not, you can install it using the following command\n",
    "# !pip install matplotlib"
   ]
  },
  {
   "cell_type": "code",
   "execution_count": 28,
   "id": "5df6a1d9",
   "metadata": {},
   "outputs": [
    {
     "data": {
      "image/png": "[encoded data removed]",
      "text/plain": [
       "<Figure size 640x480 with 1 Axes>"
      ]
     },
     "metadata": {},
     "output_type": "display_data"
    }
   ],
   "source": [
    "import matplotlib.pyplot as plt\n",
    "\n",
    "##plot histogram where you can specify the number of bins or the bin edges\n",
    "#plt.hist(testout['WEIGHT'],bins=5)\n",
    "plt.hist(testout['WEIGHT'],bins=[40,50,60,70,80,90,100])\n",
    "plt.title('Histogram with auto bins')\n",
    "plt.show()"
   ]
  },
  {
   "cell_type": "markdown",
   "id": "db73c3af",
   "metadata": {},
   "source": [
    "### Transpose the data\n",
    "\n",
    "Use **melt** to tranpose the data\n",
    "\n",
    "Date column will become the first column, column name will become 'id' and column values will be called 'return'"
   ]
  },
  {
   "cell_type": "code",
   "execution_count": 29,
   "id": "1441c562",
   "metadata": {},
   "outputs": [
    {
     "name": "stdout",
     "output_type": "stream",
     "text": [
      "         Date      MSFT       IBM       WMT     SP500    RmRf     SMB     HML  \\\n",
      "0    20010131  0.407781  0.317647  0.069176  0.039499  0.0313  0.0712 -0.0568   \n",
      "1    20010228 -0.033777 -0.106875 -0.118134 -0.099263 -0.1005 -0.0120  0.1383   \n",
      "2    20010330 -0.073093 -0.037237  0.009583 -0.070260 -0.0726  0.0055  0.0637   \n",
      "3    20010430  0.238857  0.197130  0.024554  0.083832  0.0794  0.0033 -0.0438   \n",
      "4    20010531  0.021107 -0.027792  0.000193  0.010576  0.0072  0.0300  0.0277   \n",
      "..        ...       ...       ...       ...       ...     ...     ...     ...   \n",
      "151  20130830  0.056219 -0.060603 -0.057608 -0.025714 -0.0269  0.0028 -0.0246   \n",
      "152  20130930 -0.003593  0.015965  0.013428  0.037477  0.0376  0.0285 -0.0152   \n",
      "153  20131031  0.063852 -0.032239  0.037723  0.039852  0.0417 -0.0153  0.0139   \n",
      "154  20131129  0.084875  0.007924  0.055505  0.024946  0.0312  0.0131 -0.0038   \n",
      "155  20131231 -0.018883  0.043911 -0.022837  0.026126  0.0281 -0.0044 -0.0017   \n",
      "\n",
      "         RF  \n",
      "0    0.0054  \n",
      "1    0.0038  \n",
      "2    0.0042  \n",
      "3    0.0039  \n",
      "4    0.0032  \n",
      "..      ...  \n",
      "151  0.0000  \n",
      "152  0.0000  \n",
      "153  0.0000  \n",
      "154  0.0000  \n",
      "155  0.0000  \n",
      "\n",
      "[156 rows x 9 columns]\n",
      "Index(['Date', 'MSFT', 'IBM', 'WMT', 'SP500', 'RmRf', 'SMB', 'HML', 'RF'], dtype='object')\n",
      "c:\\Users\\chlje\\VSCodeProjects\\KAIST_MFE\\BAF507금융DB\\1주차\n",
      "       Date      MSFT       IBM\n",
      "0  20010131  0.407781  0.317647\n",
      "1  20010228 -0.033777 -0.106875\n",
      "2  20010330 -0.073093 -0.037237\n",
      "3  20010430  0.238857  0.197130\n"
     ]
    }
   ],
   "source": [
    "##################Read the data and transpose for easier analysis################\n",
    "sample=pd.read_excel('./note1data.xlsx', sheet_name=\"SAMPLE\", header=0)\n",
    "print(sample) #print the sample dataframe\n",
    "print(sample.columns) # print the columns of the sample dataframe\n",
    "print(os.getcwd()) #print out the current working directory\n",
    "\n",
    "print(sample.iloc[0:4,0:3]) #print out first 4 rows and first 3 columns"
   ]
  },
  {
   "cell_type": "code",
   "execution_count": 30,
   "id": "e13bac04",
   "metadata": {},
   "outputs": [
    {
     "name": "stdout",
     "output_type": "stream",
     "text": [
      "Index(['Date', 'id', 'return'], dtype='object')\n",
      "          Date    id    return\n",
      "0     20010131  MSFT  0.407781\n",
      "1     20010228  MSFT -0.033777\n",
      "2     20010330  MSFT -0.073093\n",
      "3     20010430  MSFT  0.238857\n",
      "4     20010531  MSFT  0.021107\n",
      "...        ...   ...       ...\n",
      "1243  20130830    RF  0.000000\n",
      "1244  20130930    RF  0.000000\n",
      "1245  20131031    RF  0.000000\n",
      "1246  20131129    RF  0.000000\n",
      "1247  20131231    RF  0.000000\n",
      "\n",
      "[1248 rows x 3 columns]\n",
      "       Date    id    return\n",
      "0  20010131  MSFT  0.407781\n",
      "1  20010228  MSFT -0.033777\n",
      "2  20010330  MSFT -0.073093\n",
      "3  20010430  MSFT  0.238857\n",
      "4  20010531  MSFT  0.021107\n",
      "5  20010629  MSFT  0.055218\n",
      "6  20010731  MSFT -0.093288\n",
      "7  20010831  MSFT -0.138087\n",
      "8  20010928  MSFT -0.103068\n",
      "9  20011031  MSFT  0.136408\n",
      "          Date  id  return\n",
      "1240  20130531  RF     0.0\n",
      "1241  20130628  RF     0.0\n",
      "1242  20130731  RF     0.0\n",
      "1243  20130830  RF     0.0\n",
      "1244  20130930  RF     0.0\n",
      "1245  20131031  RF     0.0\n",
      "1246  20131129  RF     0.0\n",
      "1247  20131231  RF     0.0\n"
     ]
    }
   ],
   "source": [
    "#Use pd.melt to transform the dataframe from wide format to long format\n",
    "sampletran=pd.melt(sample,id_vars=['Date'],var_name='id',value_name='return')\n",
    "print(sampletran.columns)# Check how the columns are transformed\n",
    "print(sampletran) #print the transformed dataframe\n",
    "print(sampletran.head(10)) #print out the first 10 rows\n",
    "print(sampletran.tail(8)) #print out the last 8 rows"
   ]
  },
  {
   "cell_type": "code",
   "execution_count": 31,
   "id": "1307e7dd-ae0d-4921-aec4-dff6daddba73",
   "metadata": {},
   "outputs": [
    {
     "name": "stdout",
     "output_type": "stream",
     "text": [
      "['TEST4']\n"
     ]
    }
   ],
   "source": [
    "# To add a new worksheet to an existing excel file\n",
    "# Create a Pandas Excel writer using Openpyxl as the engine.\n",
    "import openpyxl\n",
    "writer = pd.ExcelWriter('./note1_out.xlsx', engine='openpyxl', mode='a')\n",
    "\n",
    "# Get the list of existing worksheets\n",
    "print(writer.book.sheetnames)\n",
    "\n",
    "# Write the DataFrame to the new worksheet\n",
    "sampletran.to_excel(writer, sheet_name='sampletran', startrow=0, startcol=0, index=False)\n",
    "\n",
    "# Save the changes to the Excel file\n",
    "writer.close()"
   ]
  },
  {
   "cell_type": "markdown",
   "id": "fa9ad32f",
   "metadata": {},
   "source": [
    "# SQL\n",
    "\n",
    "Let's import RData (data saved in R) to import Rdata\n",
    "\n",
    "Install **pyreadr** using the following command if not installed yet"
   ]
  },
  {
   "cell_type": "code",
   "execution_count": 32,
   "id": "5a8e137e",
   "metadata": {},
   "outputs": [],
   "source": [
    "# !pip install pyreadr"
   ]
  },
  {
   "cell_type": "code",
   "execution_count": 33,
   "id": "49aaee4c-8177-4f9d-8581-8f96a61c4b7b",
   "metadata": {},
   "outputs": [],
   "source": [
    "import pyreadr #package used to read RData, data used in R"
   ]
  },
  {
   "cell_type": "code",
   "execution_count": 34,
   "id": "5c1394a3-38ad-43f1-a943-11345b562dd8",
   "metadata": {},
   "outputs": [
    {
     "name": "stdout",
     "output_type": "stream",
     "text": [
      "<class 'collections.OrderedDict'>\n",
      "OrderedDict({'mdata':            date   id    return isign    year  month   day\n",
      "0    2001-01-31  IBM  0.317647   POS  2001.0    1.0  31.0\n",
      "1    2001-02-28  IBM -0.106875   NEG  2001.0    2.0  28.0\n",
      "2    2001-03-30  IBM -0.037237   NEG  2001.0    3.0  30.0\n",
      "3    2001-04-30  IBM  0.197130   POS  2001.0    4.0  30.0\n",
      "4    2001-05-31  IBM -0.027792   NEG  2001.0    5.0  31.0\n",
      "..          ...  ...       ...   ...     ...    ...   ...\n",
      "463  2013-08-30  WMT -0.057608   NEG  2013.0    8.0  30.0\n",
      "464  2013-09-30  WMT  0.013428   POS  2013.0    9.0  30.0\n",
      "465  2013-10-31  WMT  0.037723   POS  2013.0   10.0  31.0\n",
      "466  2013-11-29  WMT  0.055505   POS  2013.0   11.0  29.0\n",
      "467  2013-12-31  WMT -0.022837   NEG  2013.0   12.0  31.0\n",
      "\n",
      "[468 rows x 7 columns]})\n"
     ]
    }
   ],
   "source": [
    "data1=pyreadr.read_r('.\\\\note1.RData') # Read the RData file\n",
    "# The result is a dictionary with the dataframes as values\n",
    "print(type(data1))\n",
    "print(data1)"
   ]
  },
  {
   "cell_type": "code",
   "execution_count": 35,
   "id": "80038322-0f76-4280-8303-5eecb3c78c0b",
   "metadata": {},
   "outputs": [
    {
     "name": "stdout",
     "output_type": "stream",
     "text": [
      "odict_keys(['mdata'])\n"
     ]
    }
   ],
   "source": [
    "# Check the keys of the dictionary to see the names of the dataframes\n",
    "print(data1.keys())"
   ]
  },
  {
   "cell_type": "code",
   "execution_count": 36,
   "id": "2876db5b-4530-4b93-a426-3c0d96b29ebc",
   "metadata": {},
   "outputs": [
    {
     "name": "stdout",
     "output_type": "stream",
     "text": [
      "<class 'pandas.core.frame.DataFrame'>\n",
      "         date   id    return isign    year  month   day\n",
      "0  2001-01-31  IBM  0.317647   POS  2001.0    1.0  31.0\n",
      "1  2001-02-28  IBM -0.106875   NEG  2001.0    2.0  28.0\n",
      "2  2001-03-30  IBM -0.037237   NEG  2001.0    3.0  30.0\n",
      "3  2001-04-30  IBM  0.197130   POS  2001.0    4.0  30.0\n",
      "4  2001-05-31  IBM -0.027792   NEG  2001.0    5.0  31.0\n"
     ]
    }
   ],
   "source": [
    "# Access the specific dataframe from the dictionary\n",
    "# Here, 'mdata' is the name of the dataframe in the RData file\n",
    "data2=data1['mdata']#mdata is the table in RData\n",
    "print(type(data2)) #Check the type of the diciontary's values\n",
    "print(data2.head()) # #print the first 5 rows of the dataframe"
   ]
  },
  {
   "cell_type": "code",
   "execution_count": 37,
   "id": "10c7b226-cd65-4033-a53e-173cf30b80b4",
   "metadata": {},
   "outputs": [
    {
     "name": "stdout",
     "output_type": "stream",
     "text": [
      "         date   id    return isign    year  month   day\n",
      "1  2001-02-28  IBM -0.106875   NEG  2001.0    2.0  28.0\n",
      "2  2001-03-30  IBM -0.037237   NEG  2001.0    3.0  30.0\n",
      "3  2001-04-30  IBM  0.197130   POS  2001.0    4.0  30.0\n",
      "4  2001-05-31  IBM -0.027792   NEG  2001.0    5.0  31.0\n",
      "5  2001-06-29  IBM  0.010733   POS  2001.0    6.0  29.0\n",
      "6  2001-07-31  IBM -0.068938   NEG  2001.0    7.0  31.0\n",
      "7  2001-08-31  IBM -0.048665   NEG  2001.0    8.0  31.0\n",
      "8  2001-09-28  IBM -0.082341   NEG  2001.0    9.0  28.0\n",
      "9  2001-10-31  IBM  0.178260   POS  2001.0   10.0  31.0\n",
      "Index(['date', 'id', 'return', 'isign', 'year', 'month', 'day'], dtype='object')\n"
     ]
    }
   ],
   "source": [
    "print(data2.iloc[1:10,]) #check the first 10 rows of the dataframe\n",
    "print(data2.columns)"
   ]
  },
  {
   "cell_type": "markdown",
   "id": "e3e54dac",
   "metadata": {},
   "source": [
    "### How to run SQL in Python\n",
    "\n",
    "There are different ways to run SQL.  We will use pandasql that is convenient to run sql using pandas dataframes\n",
    "\n",
    "Functions available in pandasql\n",
    "\n",
    "    -AVG() – returns the average value of a group.\n",
    "    -COUNT() – returns the number of rows that match a specified condition\n",
    "    -MAX() – returns the maximum value in a group.\n",
    "    -MIN() – returns the minimum value in a group\n",
    "    -SUM() – returns the sum of values\n"
   ]
  },
  {
   "cell_type": "markdown",
   "id": "9edffcaf",
   "metadata": {},
   "source": [
    "https://community.alteryx.com/t5/Data-Science-Blog/pandasql-Make-python-speak-SQL/ba-p/138435\n",
    "\n",
    "First install pandasql if not installed yet"
   ]
  },
  {
   "cell_type": "code",
   "execution_count": 38,
   "id": "b2931d24",
   "metadata": {},
   "outputs": [],
   "source": [
    "# !pip install pandasql"
   ]
  },
  {
   "cell_type": "code",
   "execution_count": 39,
   "id": "aa699aea-fa89-4572-ab69-15c49717ec1e",
   "metadata": {},
   "outputs": [],
   "source": [
    "# In the pandasql package, sqldf is a function that allows you to run SQL queries on pandas dataframes\n",
    "# You can import it as follows\n",
    "from pandasql import sqldf"
   ]
  },
  {
   "cell_type": "code",
   "execution_count": 40,
   "id": "1dd55d3a-3695-482c-8560-aa6220431813",
   "metadata": {},
   "outputs": [],
   "source": [
    "#Define a query statement to be used inside the sqldf function\n",
    "\n",
    "query1='''select a.id,avg(a.return) as mean, \n",
    "                 min(a.return) as minimum, max(a.return) as maximum, \n",
    "                 count(a.return) as number\n",
    "             from data2 as a \n",
    "             group by a.id\n",
    "             order by a.id'''"
   ]
  },
  {
   "cell_type": "markdown",
   "id": "dac2e9fa",
   "metadata": {},
   "source": [
    "#### locals() vs. globals()\n",
    "\n",
    "When you use sqldf(query statement, locals/globals), you have to specify\n",
    "whether the variables are used locally or globally by specifying either locals() or globals() inside sqldf()\n",
    "\n",
    "When pandasql needs to have access to other variables in your session/environment, you can pass locals() to pandasql when executing a SQL statement.\n",
    "\n",
    "But if you're running a lot of queries requiring locals(), it might be a pain. "
   ]
  },
  {
   "cell_type": "code",
   "execution_count": 41,
   "id": "3e6b20a9",
   "metadata": {},
   "outputs": [
    {
     "name": "stdout",
     "output_type": "stream",
     "text": [
      "     id      mean   minimum   maximum  number\n",
      "0   IBM  0.008839 -0.226453  0.353799     156\n",
      "1  MSFT  0.008518 -0.163357  0.407781     156\n",
      "2   WMT  0.005168 -0.159472  0.145492     156\n"
     ]
    }
   ],
   "source": [
    "# When locals() are specified, the variables are accessed from the local scope\n",
    "# When globals() are specified, the variables are accessed from the global scope\n",
    "df1=sqldf(query1,locals())\n",
    "print(df1)"
   ]
  },
  {
   "cell_type": "markdown",
   "id": "da5117d3",
   "metadata": {},
   "source": [
    "### Alternatively, you can define a function including globals()\n",
    "\n",
    "To avoid passing locals all the time, you can add this helper function to your script to set globals() like so:\n",
    "\n",
    "Define your custom function "
   ]
  },
  {
   "cell_type": "code",
   "execution_count": 42,
   "id": "d663f721",
   "metadata": {},
   "outputs": [],
   "source": [
    "# you can define a function including globals()\n",
    "# To avoid passing locals all the time, you can add this helper function to your script to\n",
    "def pysqldf(q):\n",
    " return sqldf(q, globals())"
   ]
  },
  {
   "cell_type": "markdown",
   "id": "c510b04e",
   "metadata": {},
   "source": [
    "If you use locals() above instead of globals(), you will get error message since it does not recognize data2 that is defined outside function."
   ]
  },
  {
   "cell_type": "code",
   "execution_count": 43,
   "id": "ff3a7964",
   "metadata": {},
   "outputs": [
    {
     "name": "stdout",
     "output_type": "stream",
     "text": [
      "     id      mean   minimum   maximum  number\n",
      "0   IBM  0.008839 -0.226453  0.353799     156\n",
      "1  MSFT  0.008518 -0.163357  0.407781     156\n",
      "2   WMT  0.005168 -0.159472  0.145492     156\n",
      "     id      mean   minimum   maximum  number\n",
      "0   IBM  0.008839 -0.226453  0.353799     156\n",
      "1  MSFT  0.008518 -0.163357  0.407781     156\n",
      "2   WMT  0.005168 -0.159472  0.145492     156\n"
     ]
    }
   ],
   "source": [
    "# You can use your defined function to run the SQL query that was defined earlier\n",
    "meansql=pysqldf(query1)\n",
    "print(df1) #Query output using sqldf(locals())\n",
    "print(meansql) #Query output using pysqldf(globals())\n",
    "# The output should be the same as df1"
   ]
  },
  {
   "cell_type": "code",
   "execution_count": 44,
   "id": "91d65fd5-dda1-4a01-9312-908107e94980",
   "metadata": {},
   "outputs": [
    {
     "data": {
      "application/vnd.microsoft.datawrangler.viewer.v0+json": {
       "columns": [
        {
         "name": "index",
         "rawType": "int64",
         "type": "integer"
        },
        {
         "name": "id",
         "rawType": "object",
         "type": "string"
        },
        {
         "name": "mean",
         "rawType": "float64",
         "type": "float"
        },
        {
         "name": "minimum",
         "rawType": "float64",
         "type": "float"
        },
        {
         "name": "maximum",
         "rawType": "float64",
         "type": "float"
        },
        {
         "name": "number",
         "rawType": "int64",
         "type": "integer"
        }
       ],
       "ref": "bf006099-669f-4544-a0d8-6a283a1a43ca",
       "rows": [
        [
         "0",
         "IBM",
         "0.008839416666666667",
         "-0.22645299999999996",
         "0.3537989999999999",
         "156"
        ],
        [
         "1",
         "MSFT",
         "0.008517891025641025",
         "-0.163357",
         "0.407781",
         "156"
        ],
        [
         "2",
         "WMT",
         "0.0051678269230769226",
         "-0.15947200000000003",
         "0.145492",
         "156"
        ]
       ],
       "shape": {
        "columns": 5,
        "rows": 3
       }
      },
      "text/html": [
       "<div>\n",
       "<style scoped>\n",
       "    .dataframe tbody tr th:only-of-type {\n",
       "        vertical-align: middle;\n",
       "    }\n",
       "\n",
       "    .dataframe tbody tr th {\n",
       "        vertical-align: top;\n",
       "    }\n",
       "\n",
       "    .dataframe thead th {\n",
       "        text-align: right;\n",
       "    }\n",
       "</style>\n",
       "<table border=\"1\" class=\"dataframe\">\n",
       "  <thead>\n",
       "    <tr style=\"text-align: right;\">\n",
       "      <th></th>\n",
       "      <th>id</th>\n",
       "      <th>mean</th>\n",
       "      <th>minimum</th>\n",
       "      <th>maximum</th>\n",
       "      <th>number</th>\n",
       "    </tr>\n",
       "  </thead>\n",
       "  <tbody>\n",
       "    <tr>\n",
       "      <th>0</th>\n",
       "      <td>IBM</td>\n",
       "      <td>0.008839</td>\n",
       "      <td>-0.226453</td>\n",
       "      <td>0.353799</td>\n",
       "      <td>156</td>\n",
       "    </tr>\n",
       "    <tr>\n",
       "      <th>1</th>\n",
       "      <td>MSFT</td>\n",
       "      <td>0.008518</td>\n",
       "      <td>-0.163357</td>\n",
       "      <td>0.407781</td>\n",
       "      <td>156</td>\n",
       "    </tr>\n",
       "    <tr>\n",
       "      <th>2</th>\n",
       "      <td>WMT</td>\n",
       "      <td>0.005168</td>\n",
       "      <td>-0.159472</td>\n",
       "      <td>0.145492</td>\n",
       "      <td>156</td>\n",
       "    </tr>\n",
       "  </tbody>\n",
       "</table>\n",
       "</div>"
      ],
      "text/plain": [
       "     id      mean   minimum   maximum  number\n",
       "0   IBM  0.008839 -0.226453  0.353799     156\n",
       "1  MSFT  0.008518 -0.163357  0.407781     156\n",
       "2   WMT  0.005168 -0.159472  0.145492     156"
      ]
     },
     "execution_count": 44,
     "metadata": {},
     "output_type": "execute_result"
    }
   ],
   "source": [
    "#You can defined a query statement inside the pysqldf function\n",
    "pysqldf('''select a.id,avg(a.return) as mean, \n",
    "                 min(a.return) as minimum, max(a.return) as maximum, \n",
    "                 count(a.return) as number\n",
    "             from data2 as a \n",
    "             group by a.id\n",
    "             order by a.id''')"
   ]
  },
  {
   "cell_type": "code",
   "execution_count": 45,
   "id": "e0131f0e",
   "metadata": {},
   "outputs": [
    {
     "name": "stdout",
     "output_type": "stream",
     "text": [
      "Index(['date', 'id', 'return', 'isign', 'year', 'month', 'day'], dtype='object')\n",
      "      id        date    return\n",
      "0    IBM  2001-01-31  0.317647\n",
      "1    IBM  2001-02-28 -0.106875\n",
      "2    IBM  2001-03-30 -0.037237\n",
      "3    IBM  2001-04-30  0.197130\n",
      "4    IBM  2001-05-31 -0.027792\n",
      "..   ...         ...       ...\n",
      "463  WMT  2013-08-30 -0.057608\n",
      "464  WMT  2013-09-30  0.013428\n",
      "465  WMT  2013-10-31  0.037723\n",
      "466  WMT  2013-11-29  0.055505\n",
      "467  WMT  2013-12-31 -0.022837\n",
      "\n",
      "[468 rows x 3 columns]\n"
     ]
    }
   ],
   "source": [
    "#You can also store the output of the query directly into a dataframe.\n",
    "mdata1=pysqldf('''select a.id,a.date,a.return from data2 as a order by a.id,a.date''')\n",
    "print(data2.columns)\n",
    "print(mdata1)"
   ]
  },
  {
   "cell_type": "markdown",
   "id": "3420eba9",
   "metadata": {},
   "source": [
    "### Calculate group means"
   ]
  },
  {
   "cell_type": "code",
   "execution_count": 46,
   "id": "f8406a16-73a0-48c3-8cd7-ef0f667fa293",
   "metadata": {},
   "outputs": [
    {
     "name": "stdout",
     "output_type": "stream",
     "text": [
      "          mean       min       max       std  count\n",
      "id                                                 \n",
      "IBM   0.008839 -0.226453  0.353799  0.073673    156\n",
      "MSFT  0.008518 -0.163357  0.407781  0.079890    156\n",
      "WMT   0.005168 -0.159472  0.145492  0.051059    156\n"
     ]
    }
   ],
   "source": [
    "# Calculate group means using groupby and agg functions\n",
    "# You can use the groupby function to group the data by 'id' and then calculate\n",
    "grouped=data2.groupby('id',observed=False)['return']#observed=False means that even the ones with ID caltegory missing will be included\n",
    "print(grouped.agg(['mean','min','max','std','count']))"
   ]
  },
  {
   "cell_type": "code",
   "execution_count": 47,
   "id": "420b1494-5374-4402-a5f4-cf7ec3fe35ac",
   "metadata": {},
   "outputs": [
    {
     "name": "stdout",
     "output_type": "stream",
     "text": [
      "      count      mean       std       min       25%       50%       75%  \\\n",
      "id                                                                        \n",
      "IBM   156.0  0.008839  0.073673 -0.226453 -0.025425  0.008467  0.047004   \n",
      "MSFT  156.0  0.008518  0.079890 -0.163357 -0.039620  0.012113  0.052840   \n",
      "WMT   156.0  0.005168  0.051059 -0.159472 -0.027755  0.007920  0.038397   \n",
      "\n",
      "           max  \n",
      "id              \n",
      "IBM   0.353799  \n",
      "MSFT  0.407781  \n",
      "WMT   0.145492  \n"
     ]
    }
   ],
   "source": [
    "#For a more detailed description of the grouped data, you can use the describe() function\n",
    "# This will give you a summary of the statistics for each group\n",
    "print(data2.groupby('id',observed=False)['return'].describe())"
   ]
  },
  {
   "cell_type": "code",
   "execution_count": 48,
   "id": "20180e49-1cf0-427f-861a-a1dc7ad5fa83",
   "metadata": {},
   "outputs": [
    {
     "name": "stdout",
     "output_type": "stream",
     "text": [
      "mean:   id\n",
      "IBM     0.008839\n",
      "MSFT    0.008518\n",
      "WMT     0.005168\n",
      "Name: return, dtype: float64\n",
      "min:   id\n",
      "IBM    -0.226453\n",
      "MSFT   -0.163357\n",
      "WMT    -0.159472\n",
      "Name: return, dtype: float64\n",
      "max:   id\n",
      "IBM     0.353799\n",
      "MSFT    0.407781\n",
      "WMT     0.145492\n",
      "Name: return, dtype: float64\n",
      "std:   id\n",
      "IBM     0.073673\n",
      "MSFT    0.079890\n",
      "WMT     0.051059\n",
      "Name: return, dtype: float64\n",
      "count:   id\n",
      "IBM     156\n",
      "MSFT    156\n",
      "WMT     156\n",
      "Name: return, dtype: int64\n",
      "count-alt:   id\n",
      "IBM     156\n",
      "MSFT    156\n",
      "WMT     156\n",
      "Name: return, dtype: int64\n",
      "     id      mean   minimum   maximum  number\n",
      "0   IBM  0.008839 -0.226453  0.353799     156\n",
      "1  MSFT  0.008518 -0.163357  0.407781     156\n",
      "2   WMT  0.005168 -0.159472  0.145492     156\n"
     ]
    }
   ],
   "source": [
    "#Alternatively, you can calculate the mean, min, max, std, and count for each group using the following commands\n",
    "\n",
    "print('mean:  ', data2.groupby('id',observed=False)['return'].mean())\n",
    "print('min:  ', data2.groupby('id',observed=False)['return'].min())\n",
    "print('max:  ', data2.groupby('id',observed=False)['return'].max())\n",
    "print('std:  ', data2.groupby('id',observed=False)['return'].std())\n",
    "print('count:  ', data2.groupby('id',observed=False)['return'].count())\n",
    "print('count-alt:  ', data2[(data2.id !=0)].groupby('id',observed=False)['return'].count()) #count only non-zeros\n",
    "\n",
    "###compare the results with the meansql\n",
    "print(meansql)\n",
    "#######################################################################################"
   ]
  }
 ],
 "metadata": {
  "kernelspec": {
   "display_name": ".venv",
   "language": "python",
   "name": "python3"
  },
  "language_info": {
   "codemirror_mode": {
    "name": "ipython",
    "version": 3
   },
   "file_extension": ".py",
   "mimetype": "text/x-python",
   "name": "python",
   "nbconvert_exporter": "python",
   "pygments_lexer": "ipython3",
   "version": "3.12.9"
  }
 },
 "nbformat": 4,
 "nbformat_minor": 5
}
