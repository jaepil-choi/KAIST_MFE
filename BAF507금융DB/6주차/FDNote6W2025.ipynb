{
 "cells": [
  {
   "cell_type": "markdown",
   "id": "ea77392f-73dc-45ec-9c81-97681bf1fd5e",
   "metadata": {},
   "source": [
    "# FDNote6W.ipynb: Bloomberg API\n",
    "\n",
    "Prepared by Inmoo Lee for the Financial Databases class at KAIST\n",
    "\n",
    "inmool@kaist.ac.kr\n"
   ]
  },
  {
   "cell_type": "code",
   "execution_count": null,
   "id": "bfb84d9d-590c-45ed-92a8-05b1f9e81fdf",
   "metadata": {},
   "outputs": [],
   "source": [
    "import os\n",
    "import numpy as np\n",
    "import pandas as pd\n",
    "from pandasql import sqldf\n",
    "\n",
    "def pysqldf(q):\n",
    " return sqldf(q, globals())"
   ]
  },
  {
   "cell_type": "code",
   "execution_count": null,
   "id": "96be27c6-2bf9-4314-894e-9dc9c2b52c27",
   "metadata": {},
   "outputs": [],
   "source": [
    "import os #import a package called os\n",
    "\n",
    "os.getcwd()  #get the current working directory\n",
    "path='C:\\\\####' #Replace this with your directory to work with\n",
    "os.chdir(path) # change the working directory"
   ]
  },
  {
   "cell_type": "markdown",
   "id": "68502868-4d82-4466-a02b-511baeba89f5",
   "metadata": {},
   "source": [
    "### To use Bloomberg API, you have to install two packages, blpapi and xbbg"
   ]
  },
  {
   "cell_type": "markdown",
   "id": "8dfb3d44-1309-47b0-99d6-b9a72a16d049",
   "metadata": {},
   "source": [
    "!pip install --index-url=https://bcms.bloomberg.com/pip/simple blpapi## Bloomberg DAPI\n",
    "\n",
    "First, install blpapi using the following command\n",
    "\n",
    "!pip install --index-url=https://bcms.bloomberg.com/pip/simple blpapi\n",
    "\n",
    "\n",
    "And install xbbg package (for reference, https://pypi.org/project/xbbg/)\n",
    "\n",
    "\n",
    "!pip install xbbg\n",
    "\n",
    "Using this package, you can use API functions in Excel in a similar way\n",
    "\n",
    "\n",
    "When there are problems with the following modules, try to download the latest version of blpapi_cpp_3.14.31-windows and copy blpapi3_32.dll and blpapi3._64.dll under lib to c/blp/DAPI as explained here https://stackoverflow.com/questions/52897576/install-error-for-blpapi-in-python-for-bloomberg-api\n",
    "\n"
   ]
  },
  {
   "cell_type": "code",
   "execution_count": null,
   "id": "7f7e5619-ec6e-48dc-9f2b-bde2c559462e",
   "metadata": {},
   "outputs": [],
   "source": [
    "!pip install --index-url=https://blpapi.bloomberg.com/repository/releases/python/simple/ blpapi\n"
   ]
  },
  {
   "cell_type": "code",
   "execution_count": null,
   "id": "e9968229-5ac4-4bc4-8645-ba9f36f8782f",
   "metadata": {},
   "outputs": [],
   "source": [
    "!pip install xbbg"
   ]
  },
  {
   "cell_type": "code",
   "execution_count": null,
   "id": "a1a71df1-fa1e-44ef-b087-00bf8b908db4",
   "metadata": {},
   "outputs": [],
   "source": [
    "import blpapi"
   ]
  },
  {
   "cell_type": "code",
   "execution_count": null,
   "id": "1334273a-b6c2-428e-a7bd-e94ab25b3c09",
   "metadata": {},
   "outputs": [],
   "source": [
    "from xbbg import blp"
   ]
  },
  {
   "cell_type": "markdown",
   "id": "dde9344c-8893-4c92-ac82-b89350a94acb",
   "metadata": {},
   "source": [
    "### Basic examples\n",
    "\n",
    "Get the historical data using **bdh**\n",
    "\n",
    "You can find the fields information by typing **FLDS** after choosing the instrument of your choice"
   ]
  },
  {
   "cell_type": "markdown",
   "id": "438b2d0b-311f-4bd1-a76c-34613ee603d6",
   "metadata": {},
   "source": [
    "### Use Help page for DAPI\n",
    "\n",
    "In Bloomberg, Choose **\"DAPI\"**/**\"Additional Resources\"**/**\"Help Page for DAPI\"**.  You can find how to use various functions and the meanings of optional parameters used in each function."
   ]
  },
  {
   "cell_type": "markdown",
   "id": "ebee0961-4662-4803-8fc2-e58f31dde5a9",
   "metadata": {},
   "source": [
    "#### For the historical data, use **bdh**"
   ]
  },
  {
   "cell_type": "code",
   "execution_count": null,
   "id": "f7961269-ccb8-4384-a145-9f442cc38edd",
   "metadata": {},
   "outputs": [],
   "source": [
    "#Get help information for the blp module\n",
    "\n",
    "print(dir(blp))\n",
    "help(blp.bdh)#for historical data, use bdh"
   ]
  },
  {
   "cell_type": "code",
   "execution_count": null,
   "id": "5dc82e0d-cc4f-4a4e-b7df-0d2f54d56d65",
   "metadata": {},
   "outputs": [],
   "source": [
    "# to get the last prices of Apple during Jan 2, 2024 and Jan. 30, 2024,\n",
    "\n",
    "blp.bdh(\n",
    "    'AAPL US Equity', 'Px_Last', '20250102', '20250130'\n",
    ")"
   ]
  },
  {
   "cell_type": "code",
   "execution_count": null,
   "id": "fbe32ba3-fdb9-42e0-8ea0-abfd2a805673",
   "metadata": {},
   "outputs": [],
   "source": [
    "## To get more information about options used in different functions, please\n",
    "## check the Help page for DAPI\n",
    "\n",
    "## No adjustment for stock splits\n",
    "print(blp.bdh('AAPL US Equity', 'px_last', '20200825', '20200831',\n",
    "        CapChg=False\n",
    "        ))\n",
    "##with adjustment for stock splits\n",
    "print(\n",
    "    blp.bdh('AAPL US Equity', 'px_last', '20200825', '20200831',\n",
    "        CapChg=True\n",
    "        ))"
   ]
  },
  {
   "cell_type": "markdown",
   "id": "34e32fcc-5653-45ed-a931-06f529c739d8",
   "metadata": {},
   "source": [
    "#### For the current data, use **bdp**"
   ]
  },
  {
   "cell_type": "code",
   "execution_count": null,
   "id": "9cde1eaa-ae47-4f64-baac-081db1a0e434",
   "metadata": {},
   "outputs": [],
   "source": [
    "help(blp.bdp)#for the current value, use bdp"
   ]
  },
  {
   "cell_type": "code",
   "execution_count": null,
   "id": "6a3c391f-9567-4f5c-a89f-82150df2b957",
   "metadata": {},
   "outputs": [],
   "source": [
    "#To find the name of security and its current GICS sector name for Nvidia\n",
    "print(blp.bdp(tickers='NVDA US Equity', flds=['Security_Name', 'GICS_Sector_Name']))"
   ]
  },
  {
   "cell_type": "markdown",
   "id": "80518b4a-5b4d-4ff7-a464-0da0bd23d6c7",
   "metadata": {},
   "source": [
    "#### For the block data, use **bds**"
   ]
  },
  {
   "cell_type": "code",
   "execution_count": null,
   "id": "faff11d1-6bc0-440f-8284-9f86c0b95abc",
   "metadata": {},
   "outputs": [],
   "source": [
    "###\n",
    "help(blp.bds)"
   ]
  },
  {
   "cell_type": "code",
   "execution_count": null,
   "id": "0e99e787-1dc4-44ea-965d-548d2884962b",
   "metadata": {},
   "outputs": [],
   "source": [
    "blp.bds('AAPL US Equity', 'EQY_DVD_HIST_SPLITS')#find all splits information for AAPL"
   ]
  },
  {
   "cell_type": "code",
   "execution_count": null,
   "id": "628c5006-0ba4-4f55-8b54-bb246b79739d",
   "metadata": {},
   "outputs": [],
   "source": [
    "blp.bds('AAPL US Equity', 'DVD_Hist_All', DVD_Start_Dt='20180101', DVD_End_Dt='20250631')\n",
    "#Note that the information for August 2020 includes stock split, not the dividend information.\n",
    "#In addition, the dividends per share prior to the stock split are adjusted for stock splits.\n"
   ]
  },
  {
   "cell_type": "markdown",
   "id": "ccb18d2d-0afa-4494-a813-2488fa5cbad6",
   "metadata": {},
   "source": [
    "#### For other information, check the following"
   ]
  },
  {
   "cell_type": "code",
   "execution_count": null,
   "id": "50f8165e-e995-4922-9e24-a6698c23ca28",
   "metadata": {},
   "outputs": [],
   "source": [
    "##to find intraday tick data\n",
    "help(blp.bdib)"
   ]
  },
  {
   "cell_type": "code",
   "execution_count": null,
   "id": "78018d04-93bb-42a3-8425-64926ccbfe87",
   "metadata": {},
   "outputs": [],
   "source": [
    "print(blp.bdib(ticker='SPY US Equity', dt='2025-07-01').head())"
   ]
  },
  {
   "cell_type": "code",
   "execution_count": null,
   "id": "f3a2001d-d664-4c1c-a37a-8717c6ae94e4",
   "metadata": {},
   "outputs": [],
   "source": [
    "#To get dividend/split history\n",
    "help(blp.dividend)"
   ]
  },
  {
   "cell_type": "code",
   "execution_count": null,
   "id": "bb93de26-0a3b-471e-a41c-5a4549379711",
   "metadata": {},
   "outputs": [],
   "source": [
    "#Citigroup, Morgan Stanley and Mirae Asset dividend history\n",
    "blp.dividend(['C US Equity', 'MS US Equity', '006800 KS Equity'], start_date='2018-01-01', end_date='2025-07-01')"
   ]
  },
  {
   "cell_type": "markdown",
   "id": "035bed84-2344-40f7-8354-5a717d04a311",
   "metadata": {},
   "source": [
    "## Portfolio Example\n",
    "\n",
    "Use stored EQS in Bloomberg to retrieve the results within Python code."
   ]
  },
  {
   "cell_type": "markdown",
   "id": "2688afc9-b40f-42c5-b418-8e63d728fe88",
   "metadata": {},
   "source": [
    "#### blp.beqs(): Equity screening\n",
    "\n",
    "As explained in the class note, you can save the results of an equity screening (EQS) in Bloomberg and then, execute the stored screening within Python using blp.beqs() as shown below"
   ]
  },
  {
   "cell_type": "code",
   "execution_count": null,
   "id": "d8d9c15a-8159-47e6-9be0-b64396757bda",
   "metadata": {},
   "outputs": [],
   "source": [
    "######get the search result from Bloomberg EQS\n",
    "help(blp.beqs)"
   ]
  },
  {
   "cell_type": "code",
   "execution_count": null,
   "id": "f1cc9c0b-a975-4e77-ad53-110411dca11a",
   "metadata": {},
   "outputs": [],
   "source": [
    "## Here, LowPE_KSE is stored in Bloomberg Equity Screen\n",
    "\n",
    "df=blp.beqs('LowPE_KSE')\n",
    "df.head()"
   ]
  },
  {
   "cell_type": "code",
   "execution_count": null,
   "id": "ceb53cc6-069a-4570-bcfc-e66a203112f4",
   "metadata": {},
   "outputs": [],
   "source": [
    "#You can also specify the date for the search result\n",
    "\n",
    "df=blp.beqs('LowPE_KSE',asof='20210630')\n",
    "print(df.columns)\n",
    "print(df.head())"
   ]
  },
  {
   "cell_type": "markdown",
   "id": "cf6f8d85-2c7b-46cf-9f7f-40d555b31f0f",
   "metadata": {},
   "source": [
    "### We can calculate the returns using \"TOT_RETURN_INDEX_GROSS_DVDS\", which includes dividends and adjusted for stock splits and other events."
   ]
  },
  {
   "cell_type": "markdown",
   "id": "320661cc-1288-4596-899e-5f712b721f6b",
   "metadata": {},
   "source": [
    "#### Retrieve the total return index including dividends to calculate returns\n",
    "\n",
    "- *dft* is from Appendix 1 (add Equity to the ticker symbol so that the data can be retrieved from Bloomberg).\n",
    "- You should execute Appendix 1 to create the list of ticker symbols with \"Equity\" attached\n"
   ]
  },
  {
   "cell_type": "code",
   "execution_count": null,
   "id": "2b066c97-cc5d-4765-984e-cbf8d9b7e93c",
   "metadata": {},
   "outputs": [],
   "source": [
    "####################################333\n",
    "###get the return data\n",
    "###use the total return index gross dividends to calcualte returns\n",
    "###this is an index adjusted for stock splits, dividend and so forth\n",
    "\n",
    "# dft is from Appendix 1\n",
    "# Run the cell in Appendix 1 before running this cell\n",
    "# dft is df with the stock ids with \"Equity\" added\n",
    "ret=blp.bdh(dft, ['TOT_RETURN_INDEX_GROSS_DVDS'], '20120629', '20250630',Period = 'M')\n",
    "print(ret.head())"
   ]
  },
  {
   "cell_type": "markdown",
   "id": "c21c08fb-4840-450f-b278-9704d5803e2f",
   "metadata": {},
   "source": [
    "#### Calculate the returns using the adprc (TOT_RETURN_INDEX_GROSS_DVDS)\n",
    "\n",
    "- Before running the following cell, run Appendix 2 so that the dataframe with multi-level columns (ret) is converted to the dataframe with single-level columns, retd"
   ]
  },
  {
   "cell_type": "code",
   "execution_count": null,
   "id": "86e8930e",
   "metadata": {},
   "outputs": [],
   "source": [
    "#Run the cell in Appendix 2 before running this cell\n",
    "print(retd.columns)# retd is from Appendix 2"
   ]
  },
  {
   "cell_type": "code",
   "execution_count": null,
   "id": "40f5341c-64ad-483b-8bdc-60b063a8c4ae",
   "metadata": {},
   "outputs": [],
   "source": [
    "retdata=retd.sort_values(['ticker','date']).reset_index(drop=True)#sort by id and date\n",
    "\n",
    "#As emphasized before, it is important to use the shift() with groupby\n",
    "#to corrently identify the lagged price index for each ticker\n",
    "retdata.loc[:,'lagprc']=retdata.groupby('ticker').adprc.shift(1)#find lagged price index\n",
    "retdata.loc[:,'ret']=(retdata.adprc-retdata.lagprc)/retdata.lagprc#calculate returns\n",
    "print(retdata.head(150))"
   ]
  },
  {
   "cell_type": "markdown",
   "id": "785b2634-8710-41ac-9ac2-0c745681f212",
   "metadata": {},
   "source": [
    "#### Retrieve the market cap in each month during June 2012 and June 2025"
   ]
  },
  {
   "cell_type": "code",
   "execution_count": null,
   "id": "4ee824e3",
   "metadata": {},
   "outputs": [],
   "source": [
    "mc=blp.bdh(dft, ['CUR_MKT_CAP'], '20120630', '20250630',Period = 'M')\n",
    "print(mc.head())"
   ]
  },
  {
   "cell_type": "markdown",
   "id": "1dc8a69b",
   "metadata": {},
   "source": [
    "#### As was done before, please run Appendix 2-1 to change the dataframe with multi-level columns to the dataframe with single-level columns, and create mcd"
   ]
  },
  {
   "cell_type": "code",
   "execution_count": null,
   "id": "bd0d38e6-d489-40c9-8ee0-c22b5745d05c",
   "metadata": {},
   "outputs": [],
   "source": [
    "# Run the cell in Appendix 2-1 before running this cell\n",
    "print(mcd.head())\n",
    "print(mcd.date.drop_duplicates()) #to check the dates covered in the mcd "
   ]
  },
  {
   "cell_type": "markdown",
   "id": "ad68ecf8-f6fa-4c85-a88e-74c26d8a97eb",
   "metadata": {},
   "source": [
    "### Let's get the market-to-book ratio information"
   ]
  },
  {
   "cell_type": "markdown",
   "id": "7002363b-f1a5-4f3c-9db9-1d94049d3f86",
   "metadata": {},
   "source": [
    "#### Get the MB and PB ratios at the end of June\n",
    "\n",
    "- Run Appendix 3 to create the list of End of June of each year during 11 years (formlist)\n",
    "- What have been done in Appendix 2 are include here to convert the dataframe with multi-level columns created from bdh to the dataframe with single-level columns, and then rename columns"
   ]
  },
  {
   "cell_type": "code",
   "execution_count": null,
   "id": "9166adca-deed-4fe2-ac38-a0661988c3e8",
   "metadata": {},
   "outputs": [],
   "source": [
    "#For each date in formlist created by running Appendix 3, get the MB and PB ratios\n",
    "#formlist is from Appendix 3\n",
    "\n",
    "# Run the cell in Appendix 3 before running this cell\n",
    "for d in formlist:#for each day in formlist\n",
    "    mb=blp.bdh(dft, ['MARKET_CAPITALIZATION_TO_BV',\\\n",
    "                     'PX_TO_BOOK_RATIO'],d, d, adjust='all')#note that the starting and end dates are same (d)\n",
    "\n",
    "    ### The following are same as Appendix 2, which conver the multiindex dataframe to a single index dataframe\n",
    "    ### and then rename the columns\n",
    "    mbd=mb.stack(0,future_stack=True).reset_index()\n",
    "    \n",
    "    mbd=mbd.rename(columns={'level_0':'date',\n",
    "                               'level_1':'ticker',\n",
    "                           'MARKET_CAPITALIZATION_TO_BV':'mb',\n",
    "                           'PX_TO_BOOK_RATIO':'pb'})\n",
    "    ### Will store the output into mbdata0 by merging the data on each end of June to mbdata0\n",
    "    if d == sdate:#for the first day, copy the MB/PB data to a new dataframe, mbdata0\n",
    "        mbdata0=mbd\n",
    "    else:#for the rest of dates in the list, add the data to the exisiting mbdata0\n",
    "        mbdata0=pd.merge(mbdata0,mbd,how='outer',on=['ticker','date','mb','pb'])\n",
    "\n",
    "print(mbdata0.head())\n",
    "print(mbdata0.tail())\n",
    "print(mbdata0.shape)"
   ]
  },
  {
   "cell_type": "markdown",
   "id": "4f89896b-aa90-4817-b1f8-b657b9f0a0f9",
   "metadata": {},
   "source": [
    "### Form MB portfolios\n",
    "\n",
    "- As was done in FDNote5W2025.ipynb, find the cutoff points and then use SQL to assign portfolio values.\n",
    "- Alternatively, one can use the pd.cut to form portfolios as shown in Appendix 4"
   ]
  },
  {
   "cell_type": "code",
   "execution_count": null,
   "id": "5d7c415b",
   "metadata": {},
   "outputs": [],
   "source": [
    "## First, find out the cutoff points for the quintile formation\n",
    "mb2 = mbdata0.groupby(['date'])['mb'].describe(percentiles=[.2, .4, .6,.8]).reset_index()\n",
    "mb2 = mb2[['date','20%','40%','60%','80%']]\\\n",
    ".rename(columns={'20%':'quint20','40%':'quint40','60%':'quint60','80%':'quint80'})\n",
    "print(mb2.head())\n",
    "# add cutoff points to the original mb data\n",
    "query='''select a.*,b.*\n",
    "              from mbdata0 as a \n",
    "              left join mb2 as b \n",
    "              on a.date = b.date'''\n",
    "              \n",
    "mb3=pysqldf(query)\n",
    "print(mb3.columns)\n",
    "print(mb3.head())\n",
    "### skip the first column since there are two dates\n",
    "mb3=mb3.iloc[:,1:]# skip the first column (date in mb0)\n",
    "#check\n",
    "print(mb3.head())\n",
    "print(mb3.columns)\n",
    "\n",
    "#Find out which MB portfolios each stock belongs to in each year\n",
    "query='''select a.*,\n",
    "                case when a.mb <= a.quint20 then 1 else \n",
    "                    case when a.mb <= a.quint40 then 2 else\n",
    "                        case when a.mb <= a.quint60 then 3 else\n",
    "                            case when a.mb <= a.quint80 then 4 else 5\n",
    "                            end\n",
    "                        end\n",
    "                    end\n",
    "                end as mbp\n",
    "            from mb3 as a'''\n",
    "mbdata=pysqldf(query)\n",
    "print(mbdata.head())"
   ]
  },
  {
   "cell_type": "markdown",
   "id": "4f10b765",
   "metadata": {},
   "source": [
    "#### First, find out the market cap information at the end of June of each year\n",
    "- This was done in Appendix 5 (output file is mcret)\n",
    "- Please run the cell in Appendix 5 to create *mcret*"
   ]
  },
  {
   "cell_type": "markdown",
   "id": "aa87095b-a789-4e8e-8dc3-6ce807a4eb65",
   "metadata": {},
   "source": [
    "In the *mcret* data (which includes market cap at the end of June of each year), we need to add returns and market cap (at the beginning of month) from July - June of the year following the formation of MB portfolios at the end of June of each year\n",
    "- Market cap is used to calculate the value-weighted return in each month."
   ]
  },
  {
   "cell_type": "code",
   "execution_count": null,
   "id": "3f9c917b-18dd-415f-a7de-ae4830856573",
   "metadata": {},
   "outputs": [],
   "source": [
    "#mcret is from Appendix 5\n",
    "# Run the cell in Appendix 5 before running this cell\n",
    "print(mcret.head()) #annual, junemc is the market cap in June on date\n",
    "print(retdata.head()) #monthly "
   ]
  },
  {
   "cell_type": "markdown",
   "id": "4805ad3d-05fb-43c5-942e-2cac7ada30ba",
   "metadata": {},
   "source": [
    "#### Add monthly return data to the annual mcret data\n",
    "\n",
    "Here, notice that returns from July to June of the next year are added to June in the mcret data\n",
    "\n",
    "Here, fdate is the date one year ahead of the date in **mcret** when the portfolio is formed"
   ]
  },
  {
   "cell_type": "code",
   "execution_count": null,
   "id": "c988e782-e391-4df5-9e94-c758982d20fb",
   "metadata": {},
   "outputs": [],
   "source": [
    "## Merge the mcret and retdata to get the return data for each stock\n",
    "# from July of the year date in mcret belongs to to June of the next year\n",
    "#Note that the mcret is annual data, while retdata is monthly data\n",
    "q1='''\n",
    "    select a.*,b.date as retdate,b.ret\n",
    "    from mcret as a\n",
    "    left join retdata as b\n",
    "    on a.ticker=b.ticker and (a.date <b.date\n",
    "                               and a.fdate >=b.date)\n",
    "    order by a.ticker,a.date,b.date\n",
    "    '''\n",
    "\n",
    "mcretdata=pysqldf(q1)\n",
    "\n",
    "#conver the date and retdate to datetime format\n",
    "mcretdata['date']=pd.to_datetime(mcretdata['date'])#convert the date to datetime format that can be recognized as date in python\n",
    "mcretdata['retdate']=pd.to_datetime(mcretdata['retdate'])\n",
    "\n",
    "mcretdata[['ticker','date','retdate','ret']].head(150)\n",
    "mcretdata.drop(columns='fdate',inplace=True)#drop fdate column\n",
    "print(mcretdata.head(13))"
   ]
  },
  {
   "cell_type": "markdown",
   "id": "f11705a4",
   "metadata": {},
   "source": [
    "#### Combine the files\n",
    "- Create a file to include the MB portfolio information, the market cap at the end of June, monthly returns and market caps as well as lagged market cap information\n",
    "- Run Appendix 6 to create *mcrmbd*"
   ]
  },
  {
   "cell_type": "markdown",
   "id": "e3bc9a20-0dbd-46d2-ba52-9db280a791e3",
   "metadata": {},
   "source": [
    "#### Drop rows with missing data"
   ]
  },
  {
   "cell_type": "code",
   "execution_count": null,
   "id": "8d7977cd-0685-4b1a-ba3e-644b5f558e87",
   "metadata": {},
   "outputs": [],
   "source": [
    "## mcrmbd is the merged data created in Appendix 6\n",
    "# Run the cell in Appendix 6 before running this cell\n",
    "print(mcrmbd.shape)\n",
    "print(mcrmbd.head())\n",
    "# drop rows with missing data\n",
    "mcrmbd1=mcrmbd.dropna(axis = 0, how ='any') \n",
    "print(mcrmbd1.head())\n",
    "print(mcrmbd1.shape)"
   ]
  },
  {
   "cell_type": "markdown",
   "id": "b08b2266-db1e-4a34-9d57-c19f5ceee77b",
   "metadata": {},
   "source": [
    "### Now, you are ready to calculate portfolio returns"
   ]
  },
  {
   "cell_type": "code",
   "execution_count": null,
   "id": "94f176b8-4330-462f-bf62-dddeb22d618c",
   "metadata": {},
   "outputs": [],
   "source": [
    "####ready to calculate portfolio returns###\n",
    "print(mcrmbd1.columns)\n",
    "\n",
    "portq='''\n",
    "    select a.mbp, a.retdate, avg(a.mb) as amb, avg(a.mc) as amc,\n",
    "        avg(a.ret) as ewret, \n",
    "        sum(a.ret*a.lmc)/sum(a.lmc) as vwret,\n",
    "        count(a.ret) as numstock\n",
    "    from mcrmbd1 as a\n",
    "    group by a.mbp, a.retdate\n",
    "    order by a.mbp, a.retdate\n",
    "    '''\n",
    "portret=pysqldf(portq)\n",
    "print(portret.head())\n",
    "print(portret.groupby('mbp').mean(numeric_only=True))"
   ]
  },
  {
   "cell_type": "markdown",
   "id": "2e938c47",
   "metadata": {},
   "source": [
    "# Appendix\n",
    "- Adding \"Equity\" to the ticker\n",
    "- Converting the format of the results\n",
    "- Finding the list of dates\n",
    "- Finding the market cap at the end of June of each year\n",
    "- Adding monthly market cap data and finding lagged market cap \n",
    "- Conducting the statistical significance tests between high and low groups"
   ]
  },
  {
   "cell_type": "markdown",
   "id": "85dd4e00",
   "metadata": {},
   "source": [
    "## Appendix 1\n",
    "\n",
    "Add \"Equity\" to the ticker so that you can retrieve the data in Bloomberg\n"
   ]
  },
  {
   "cell_type": "code",
   "execution_count": null,
   "id": "04405b85",
   "metadata": {},
   "outputs": [],
   "source": [
    "###Add to use in Bloomberg, we need to add ' Equity' to the ticker symbol\n",
    "import numpy as np\n",
    "\n",
    "print(df.ticker.head())\n",
    "dfticker=list(df.ticker) # make the list of ticker symbols in the Dataframe df\n",
    "\n",
    "dft=list(np.array(dfticker)) #make the ar\n",
    "print(dft)\n",
    "\n",
    "ct=0\n",
    "for k in dfticker:\n",
    "    kn=k+' Equity'\n",
    "    #print(ct,k,kn)\n",
    "    dft[ct]=kn\n",
    "    ct = ct+1    \n",
    "    \n",
    "print(dft)"
   ]
  },
  {
   "cell_type": "markdown",
   "id": "946f82b0",
   "metadata": {},
   "source": [
    "## Appendix 2: Convert the format of the results (multi-level columns) to , retd (single-level columns)\n",
    "\n",
    "The result is a dataframe with multi-level columns\n",
    "\n",
    "    - The first level column is ticker\n",
    "    - The second level column is the data item\n",
    "\n",
    "To convert it, you can stack it and then reset_index as explained here, https://pandas.pydata.org/pandas-docs/stable/user_guide/reshaping.html\n",
    "\n",
    "DataFrame.stack(level=- 1, dropna=True)[source]\n",
    "- level=-1 is default and it stacks the last level (data item)\n",
    "- level=0 to stack the first level (Ticker)\n",
    "\n",
    "Stack the prescribed level(s) from multi-level columns to index."
   ]
  },
  {
   "cell_type": "code",
   "execution_count": null,
   "id": "958a0c8a",
   "metadata": {},
   "outputs": [],
   "source": [
    "print(ret.head())#Multi-level columns, first level-Ticker, Second level - Data Item\n",
    "#Stack the data to convert multi-level columns to single level columns\n",
    "#By resetting the index, the old index (date) becomes a column \n",
    "retd=ret.stack(0,future_stack=True).reset_index()\n",
    "print('\\n After converting the format \\n')\n",
    "print(retd.head())\n",
    "\n",
    "#change the names of columns\n",
    "retd=retd.rename(columns={'level_0':'date',\n",
    "                    'level_1':'ticker',\n",
    "                    'TOT_RETURN_INDEX_GROSS_DVDS':'adprc'})\n",
    "print('\\n After name changes \\n')\n",
    "\n",
    "print(retd.head())"
   ]
  },
  {
   "cell_type": "markdown",
   "id": "b3bde1f2",
   "metadata": {},
   "source": [
    "## Appendix 2-1\n",
    "\n",
    "Same as above for the market cap data"
   ]
  },
  {
   "cell_type": "code",
   "execution_count": null,
   "id": "939f9269",
   "metadata": {},
   "outputs": [],
   "source": [
    "mcd=mc.stack(0,future_stack=True).reset_index()\n",
    "mcd=mcd.rename(columns={'level_0':'date',\n",
    "                    'level_1':'ticker',\n",
    "                    'CUR_MKT_CAP':'mc'})\n",
    "print(mcd.head())"
   ]
  },
  {
   "cell_type": "markdown",
   "id": "637a6424",
   "metadata": {},
   "source": [
    "## Appendix 3: List of end of June dates to retrieve MB ratios\n",
    "\n",
    "To retrieve the MB ratios at the end of June of each year, we want to first find out the list of dates (end of June of each year)\n"
   ]
  },
  {
   "cell_type": "code",
   "execution_count": null,
   "id": "b06e5899",
   "metadata": {},
   "outputs": [],
   "source": [
    "from pandas.tseries.offsets import BMonthEnd,MonthEnd,BDay\n",
    "from datetime import datetime as dt\n",
    "\n",
    "#dt.strptime (\"string parser time\") is used to parse a string\n",
    "#representing a date and time into a datetime object.\n",
    "sdate=dt.strptime('06/29/2012',\"%m/%d/%Y\")# to use this as a starting date\n",
    "\n",
    "print(sdate)\n",
    "\n",
    "## Find End of June business dates for the next 14 years from the startding date, sdate\n",
    "formlist = [sdate+BMonthEnd(x*12) for x in range(14)]\n",
    "print(formlist)"
   ]
  },
  {
   "cell_type": "markdown",
   "id": "df3dba88",
   "metadata": {},
   "source": [
    "## Appendix 4: Alternative ways to form MB portfolios using pd.qcut"
   ]
  },
  {
   "cell_type": "code",
   "execution_count": null,
   "id": "476b1d60",
   "metadata": {},
   "outputs": [],
   "source": [
    "###form portfolios based on mb\n",
    "mbdata0.loc[:,'mbp']=mbdata0.groupby('date')['mb'].\\\n",
    "        transform(lambda x: pd.qcut(x, 5, labels=False,duplicates='drop'))\\\n",
    "            +1\n",
    "\n",
    "print(mbdata0.head())\n",
    "print(mbdata0.mbp.describe())"
   ]
  },
  {
   "cell_type": "markdown",
   "id": "4d0bf576",
   "metadata": {},
   "source": [
    "## Appendix 5: Market cap at the end of June\n",
    "\n",
    "To form the MB portfolios at the end of June, we need to find the market cap and other information at the end of June of each year\n"
   ]
  },
  {
   "cell_type": "code",
   "execution_count": null,
   "id": "662706fd",
   "metadata": {},
   "outputs": [],
   "source": [
    "### mcd includes monthly market capitalization\n",
    "\n",
    "mcd['date']=pd.to_datetime(mcd['date']) #change the format to datetime format\n",
    "\n",
    "#formd is the data that contain the end of June of each year\n",
    "#get the june date (drop duplicates) and reset the index\n",
    "formd=mcd[(mcd.date.dt.month==6)].date.drop_duplicates().reset_index()\n",
    "formd.drop(columns='index',inplace=True)\n",
    "print(formd)#list of the end of June to form portfolios\n",
    "\n",
    "###figure out the date one year after each date in formd\n",
    "formd.loc[:,'fdate']=formd.date+MonthEnd(12)\n",
    "print(formd.head())\n",
    "\n",
    "###In each June, add market cap data in june\n",
    "mcret=pd.merge(formd,mcd,how='left',on='date')#merge two dataframes: formd has only June data\n",
    "mcret.rename(columns={'mc':'junemc'},inplace=True)\n",
    "print(mcret.head())\n",
    "print(mcret.columns)"
   ]
  },
  {
   "cell_type": "markdown",
   "id": "8406593a",
   "metadata": {},
   "source": [
    "## Appendix 6: Combine files (return, monthly market cap and MB)\n",
    "\n",
    "- Add monthly market cap data to the *mcretdata and then, merge it with the MB data.  In addition, find the lagged market cap to be used for the value-weighted return calculation\n",
    "- You can use a sql program, instead of pd.merge used below\n"
   ]
  },
  {
   "cell_type": "code",
   "execution_count": null,
   "id": "bb533eb9",
   "metadata": {},
   "outputs": [],
   "source": [
    "##########################################################################\n",
    "###add actual market cap in each month to the return data\n",
    "mcd.rename(columns={'date':'mcdate'},inplace=True)# monthly market cap data\n",
    "mcrd=pd.merge(mcretdata,mcd[['mcdate','ticker','mc']],how='left',\n",
    "              left_on=['retdate','ticker'],right_on=['mcdate','ticker'])\n",
    "mcrd.drop(columns='mcdate',inplace=True)# drop the mcdate, which is same as retdate\n",
    "\n",
    "#convert the object column to a datetime column\n",
    "mbdata['date']=pd.to_datetime(mbdata['date'])\n",
    "\n",
    "##to make sure that date is the end of a month for both MB and return files\n",
    "mbdata.loc[:,'date']=mbdata.date+MonthEnd(0)\n",
    "mcrd.loc[:,'date']=mcrd.date+MonthEnd(0)\n",
    "\n",
    "\n",
    "##Merge two dataframes\n",
    "mcrmbd=pd.merge(mcrd,mbdata,how='left',on=['ticker','date'])\n",
    "\n",
    "#######################################################################\n",
    "#get lagged mc to be used as weight\n",
    "#######################################################################\n",
    "mcrmbd.sort_values(['ticker','retdate'],inplace=True) #sort by ticker and date\n",
    "\n",
    "## Note that shift is used after sorting and with \"groupby(['ticker'])\"\n",
    "mcrmbd.loc[:,'lmc']=mcrmbd.groupby(['ticker']).mc.shift(1)\n",
    "print(mcrmbd[['ticker','retdate','mc','lmc']].head(150))"
   ]
  },
  {
   "cell_type": "markdown",
   "id": "1426137e-c689-4dae-878e-003b77e2c3dc",
   "metadata": {},
   "source": [
    "## Appendix 7: Significance tests\n",
    "\n",
    "Note that the MB portfolios are formed using the results of LowPE\n",
    "\n",
    "Since the exercise is using the results of stocks with low PE ratios, the differences between low and high MB portfolios among the low PE ratios are not expected to be so significant."
   ]
  },
  {
   "cell_type": "markdown",
   "id": "85a76011-0898-41aa-a43c-4112ca725f55",
   "metadata": {},
   "source": [
    "### For the statistical significance test\n",
    "\n",
    "Test the difference between High and Low groups"
   ]
  },
  {
   "cell_type": "code",
   "execution_count": null,
   "id": "eaea04ed-77c8-4ae8-ad49-a4e03b9f68fc",
   "metadata": {},
   "outputs": [],
   "source": [
    "#Define a function to test the difference \n",
    "def HighMinusLow(data,pvar,mvar):#pvar=portfolio #mvar=return\n",
    "    #ew\n",
    "    em1=data[(data[pvar]==4)][mvar].mean()#choose the highest quartile\n",
    "    em2=data[(data[pvar]==1)][mvar].mean()#choose the lowest quartile\n",
    "    m=em1-em2#find the difference in mean\n",
    "    #the following calcualte standard errors assuming zero covariance between quartiles\n",
    "    s=np.sqrt(pow(data[(data[pvar]==4)][mvar].sem(),2)+pow(data[(data[pvar]==1)][mvar].sem(),2))\n",
    "    tew=m/s#t-statistics\n",
    "    print('Results','Mean Diff','{:10.6f}'.format(m),'T-stat',\n",
    "          '({:10.2f})'.format(tew),\n",
    "          'High Mean','{:10.6f}'.format(em1),\n",
    "          'Low  Mean','{:10.6f}'.format(em2))\n",
    "\n",
    "######\n",
    "HighMinusLow(portret,'mbp','ewret')\n",
    "HighMinusLow(portret,'mbp','vwret')\n",
    "########################################################################"
   ]
  }
 ],
 "metadata": {
  "kernelspec": {
   "display_name": "base",
   "language": "python",
   "name": "python3"
  },
  "language_info": {
   "codemirror_mode": {
    "name": "ipython",
    "version": 3
   },
   "file_extension": ".py",
   "mimetype": "text/x-python",
   "name": "python",
   "nbconvert_exporter": "python",
   "pygments_lexer": "ipython3",
   "version": "3.11.5"
  }
 },
 "nbformat": 4,
 "nbformat_minor": 5
}
