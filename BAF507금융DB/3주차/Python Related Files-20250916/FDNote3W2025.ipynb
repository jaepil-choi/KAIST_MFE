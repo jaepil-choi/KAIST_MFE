{
 "cells": [
  {
   "cell_type": "markdown",
   "id": "5c0ebb21-799d-4749-99c1-d0018e9ad964",
   "metadata": {},
   "source": [
    "## FDNote3W\n",
    "Prepared by Inmoo Lee for the Financial Databases class at KAIST\n",
    "\n",
    "inmool@kaist.ac.kr\n",
    "\n",
    "\n",
    "List of output files\n",
    "\n",
    "    - RHistoryNote3W.xlsx\n",
    "    - LowPEHeadKRX.ft\n",
    "    - RHistory.ft\n",
    "    - LowPEHeadUS.ft\n",
    "    - RHistoryESE.ft\n",
    "    - RHistory.ft\n"
   ]
  },
  {
   "cell_type": "code",
   "execution_count": null,
   "id": "be81a817",
   "metadata": {},
   "outputs": [],
   "source": []
  },
  {
   "cell_type": "code",
   "execution_count": 1,
   "id": "bc4d8ac3-4412-4fe5-ad75-c400d3d87672",
   "metadata": {},
   "outputs": [],
   "source": [
    "import os\n",
    "import pandas as pd\n",
    "import numpy as np\n",
    "from datetime import datetime as dt\n",
    "\n",
    "# print(os.getcwd())  #get the current working directory\n",
    "# path='d:\\\\###'#change this to your directory to work with\n",
    "# os.chdir(path) # change the working directory\n",
    "# print(os.getcwd())  #get the current working directory\n"
   ]
  },
  {
   "cell_type": "markdown",
   "id": "be120c8c-cbe9-430f-a120-119aa24a53b7",
   "metadata": {},
   "source": [
    "## LSEG Workspace (used to be EIKON) API\n",
    "from hhttps://developers.lseg.com/en/api-catalog/eikon/eikon-data-api/quick-start\n",
    "\n",
    "First, install the eikon package"
   ]
  },
  {
   "cell_type": "code",
   "execution_count": null,
   "id": "66dbec30",
   "metadata": {},
   "outputs": [],
   "source": [
    "# To use the eikon package, you need to install bottleneck first, if you haven't done so already.\n",
    "#!pip install --user --upgrade bottleneck\n",
    "#!pip install --upgrade bottleneck\n",
    "# !pip install bottleneck"
   ]
  },
  {
   "cell_type": "code",
   "execution_count": null,
   "id": "b0938c01-239e-4c95-a2e1-5fb823fd6fc5",
   "metadata": {},
   "outputs": [],
   "source": [
    "#install eikon package\n",
    "# !pip install eikon"
   ]
  },
  {
   "cell_type": "code",
   "execution_count": 3,
   "id": "bab9f971",
   "metadata": {},
   "outputs": [
    {
     "data": {
      "text/plain": [
       "WindowsPath('c:/Users/chlje/VSCodeProjects/KAIST_MFE')"
      ]
     },
     "execution_count": 3,
     "metadata": {},
     "output_type": "execute_result"
    }
   ],
   "source": [
    "from pathlib import Path\n",
    "\n",
    "CWD = Path.cwd()\n",
    "PROJ_PATH = CWD.parent.parent.parent\n",
    "\n",
    "PROJ_PATH"
   ]
  },
  {
   "cell_type": "code",
   "execution_count": 8,
   "id": "0bc16bf0",
   "metadata": {},
   "outputs": [],
   "source": [
    "from dotenv import load_dotenv\n",
    "import os\n",
    "\n",
    "load_dotenv(dotenv_path=PROJ_PATH / '.env')\n",
    "\n",
    "API_KEY = os.getenv('EIKON_API_KEY')"
   ]
  },
  {
   "cell_type": "code",
   "execution_count": 2,
   "id": "3ea97d26-5b88-497b-a0f2-e7d2d7033a72",
   "metadata": {},
   "outputs": [
    {
     "data": {
      "text/plain": [
       "['DacsParams',\n",
       " 'DesktopSession',\n",
       " 'EikonError',\n",
       " 'Profile',\n",
       " 'Session',\n",
       " 'Stream',\n",
       " 'StreamConnection',\n",
       " 'StreamConnectionState',\n",
       " 'StreamState',\n",
       " 'StreamingPrice',\n",
       " 'StreamingPrices',\n",
       " 'TR_Field',\n",
       " '__builtins__',\n",
       " '__cached__',\n",
       " '__doc__',\n",
       " '__file__',\n",
       " '__loader__',\n",
       " '__name__',\n",
       " '__package__',\n",
       " '__path__',\n",
       " '__spec__',\n",
       " '__version__',\n",
       " 'cache',\n",
       " 'data_grid',\n",
       " 'desktop_session',\n",
       " 'eikonError',\n",
       " 'get_app_key',\n",
       " 'get_data',\n",
       " 'get_desktop_session',\n",
       " 'get_news_headlines',\n",
       " 'get_news_story',\n",
       " 'get_port_number',\n",
       " 'get_symbology',\n",
       " 'get_timeout',\n",
       " 'get_timeseries',\n",
       " 'istream_callback',\n",
       " 'itemstream',\n",
       " 'json_requests',\n",
       " 'news_request',\n",
       " 'send_json_request',\n",
       " 'session',\n",
       " 'set_app_key',\n",
       " 'set_log_level',\n",
       " 'set_log_path',\n",
       " 'set_on_event_callback',\n",
       " 'set_on_state_callback',\n",
       " 'set_port_number',\n",
       " 'set_timeout',\n",
       " 'stream',\n",
       " 'stream_connection',\n",
       " 'streaming_session',\n",
       " 'streamingprice',\n",
       " 'streamingprice_callback',\n",
       " 'streamingprices',\n",
       " 'symbology',\n",
       " 'time_series',\n",
       " 'tools']"
      ]
     },
     "execution_count": 2,
     "metadata": {},
     "output_type": "execute_result"
    }
   ],
   "source": [
    "#After installing the eikon package, you need to import it to use its functionalities.\n",
    "#You can also check the attributes and methods of the eikon package using the dir() function\n",
    "import eikon as ek\n",
    "dir(ek) # lists the attributes and methods of an object"
   ]
  },
  {
   "cell_type": "markdown",
   "id": "dd13541e-baf1-4535-86d6-dde7b604fc8d",
   "metadata": {},
   "source": [
    "### Appkey\n",
    "\n",
    "To use LSEG Workspace API, you should get the appkey by following the procedures below\n",
    "after loggin into your Workspace account\n",
    "\n",
    "    - First open your Workspace\n",
    "    - Type APPKEY to open App Key Generator\n",
    "    - Choose Eikon Data API and then click Register New App\n",
    "    - Copy the App Key to the following, inside the parenthesis\n"
   ]
  },
  {
   "cell_type": "code",
   "execution_count": null,
   "id": "2f1d2be2-8495-475c-aa60-b343f7e2ba3a",
   "metadata": {},
   "outputs": [],
   "source": [
    "help(ek.get_app_key) #get help on get_app_key"
   ]
  },
  {
   "cell_type": "code",
   "execution_count": 10,
   "id": "cb30ef74-c3d9-4e3c-bc63-0d5c6f8d022d",
   "metadata": {},
   "outputs": [],
   "source": [
    "#Get the previously generated app key\n",
    "ek.set_app_key(API_KEY) #Replace this with your app key\n",
    "key=ek.get_app_key()\n",
    "# print(key)"
   ]
  },
  {
   "cell_type": "markdown",
   "id": "1d37121f-7c74-4cc5-817c-cc5910382eac",
   "metadata": {},
   "source": [
    "### Once you input the key, then you are ready to use EIKON API\n",
    "\n",
    "You should log in the LSEG Workspace in the same computer that you run your Python\n",
    "\n",
    "USe Data Item Browser (DIB) App to find data items\n"
   ]
  },
  {
   "cell_type": "code",
   "execution_count": null,
   "id": "ee36e284-63b9-4b48-a3a8-5585001e08e2",
   "metadata": {},
   "outputs": [],
   "source": [
    "###Some exercises: getting news\n",
    "# Get help regarding the get_news_headlines function\n",
    "help(ek.get_news_headlines)"
   ]
  },
  {
   "cell_type": "code",
   "execution_count": 11,
   "id": "09bb723c-37ad-482b-ab02-bbc3a2efe5c7",
   "metadata": {},
   "outputs": [
    {
     "data": {
      "application/vnd.microsoft.datawrangler.viewer.v0+json": {
       "columns": [
        {
         "name": "index",
         "rawType": "datetime64[ms]",
         "type": "unknown"
        },
        {
         "name": "versionCreated",
         "rawType": "datetime64[ns, UTC]",
         "type": "unknown"
        },
        {
         "name": "text",
         "rawType": "string",
         "type": "string"
        },
        {
         "name": "storyId",
         "rawType": "string",
         "type": "string"
        },
        {
         "name": "sourceCode",
         "rawType": "string",
         "type": "string"
        }
       ],
       "ref": "b74500a8-2a07-42aa-a8db-1a505d5e17c9",
       "rows": [
        [
         "2025-09-17 12:00:15.946000",
         "2025-09-17 12:00:19.280000+00:00",
         "VeriPark achieves the 2025-2026 Microsoft AI Business Solutions Inner Circle award",
         "urn:newsml:newsroom.refinitiv.com:20250917:nCNW1dZjca:0",
         "NS:CNW"
        ],
        [
         "2025-09-17 12:00:09.909000",
         "2025-09-17 12:00:09.909000+00:00",
         "VeriPark achieves the 2025-2026 Microsoft AI Business Solutions Inner Circle award",
         "urn:newsml:newswire.refinitiv.com:20250917:nPn1jsY4va:1",
         "NS:PRN"
        ],
        [
         "2025-09-17 12:00:08.735000",
         "2025-09-17 12:00:08.735000+00:00",
         "VeriPark achieves the 2025-2026 Microsoft AI Business Solutions Inner Circle award",
         "urn:newsml:newswire.refinitiv.com:20250917:nCNW1dZjca:1",
         "NS:CNW"
        ],
        [
         "2025-09-17 07:00:30.271000",
         "2025-09-17 07:00:30.271000+00:00",
         "VeriPark achieves the 2025-2026 Microsoft AI Business Solutions Inner Circle award",
         "urn:newsml:newswire.refinitiv.com:20250917:nPre2RXM6a:1",
         "NS:PRN"
        ],
        [
         "2025-09-16 03:27:58.419000",
         "2025-09-16 03:35:15.479000+00:00",
         "Newscasts - Why technological progress is so hard to predict",
         "urn:newsml:newswire.refinitiv.com:20250916:nRTV5Z6Zdc:4",
         "NS:RTRS"
        ]
       ],
       "shape": {
        "columns": 4,
        "rows": 5
       }
      },
      "text/html": [
       "<div>\n",
       "<style scoped>\n",
       "    .dataframe tbody tr th:only-of-type {\n",
       "        vertical-align: middle;\n",
       "    }\n",
       "\n",
       "    .dataframe tbody tr th {\n",
       "        vertical-align: top;\n",
       "    }\n",
       "\n",
       "    .dataframe thead th {\n",
       "        text-align: right;\n",
       "    }\n",
       "</style>\n",
       "<table border=\"1\" class=\"dataframe\">\n",
       "  <thead>\n",
       "    <tr style=\"text-align: right;\">\n",
       "      <th></th>\n",
       "      <th>versionCreated</th>\n",
       "      <th>text</th>\n",
       "      <th>storyId</th>\n",
       "      <th>sourceCode</th>\n",
       "    </tr>\n",
       "  </thead>\n",
       "  <tbody>\n",
       "    <tr>\n",
       "      <th>2025-09-17 12:00:15.946</th>\n",
       "      <td>2025-09-17 12:00:19.280000+00:00</td>\n",
       "      <td>VeriPark achieves the 2025-2026 Microsoft AI B...</td>\n",
       "      <td>urn:newsml:newsroom.refinitiv.com:20250917:nCN...</td>\n",
       "      <td>NS:CNW</td>\n",
       "    </tr>\n",
       "    <tr>\n",
       "      <th>2025-09-17 12:00:09.909</th>\n",
       "      <td>2025-09-17 12:00:09.909000+00:00</td>\n",
       "      <td>VeriPark achieves the 2025-2026 Microsoft AI B...</td>\n",
       "      <td>urn:newsml:newswire.refinitiv.com:20250917:nPn...</td>\n",
       "      <td>NS:PRN</td>\n",
       "    </tr>\n",
       "    <tr>\n",
       "      <th>2025-09-17 12:00:08.735</th>\n",
       "      <td>2025-09-17 12:00:08.735000+00:00</td>\n",
       "      <td>VeriPark achieves the 2025-2026 Microsoft AI B...</td>\n",
       "      <td>urn:newsml:newswire.refinitiv.com:20250917:nCN...</td>\n",
       "      <td>NS:CNW</td>\n",
       "    </tr>\n",
       "    <tr>\n",
       "      <th>2025-09-17 07:00:30.271</th>\n",
       "      <td>2025-09-17 07:00:30.271000+00:00</td>\n",
       "      <td>VeriPark achieves the 2025-2026 Microsoft AI B...</td>\n",
       "      <td>urn:newsml:newswire.refinitiv.com:20250917:nPr...</td>\n",
       "      <td>NS:PRN</td>\n",
       "    </tr>\n",
       "    <tr>\n",
       "      <th>2025-09-16 03:27:58.419</th>\n",
       "      <td>2025-09-16 03:35:15.479000+00:00</td>\n",
       "      <td>Newscasts - Why technological progress is so h...</td>\n",
       "      <td>urn:newsml:newswire.refinitiv.com:20250916:nRT...</td>\n",
       "      <td>NS:RTRS</td>\n",
       "    </tr>\n",
       "  </tbody>\n",
       "</table>\n",
       "</div>"
      ],
      "text/plain": [
       "                                          versionCreated  \\\n",
       "2025-09-17 12:00:15.946 2025-09-17 12:00:19.280000+00:00   \n",
       "2025-09-17 12:00:09.909 2025-09-17 12:00:09.909000+00:00   \n",
       "2025-09-17 12:00:08.735 2025-09-17 12:00:08.735000+00:00   \n",
       "2025-09-17 07:00:30.271 2025-09-17 07:00:30.271000+00:00   \n",
       "2025-09-16 03:27:58.419 2025-09-16 03:35:15.479000+00:00   \n",
       "\n",
       "                                                                      text  \\\n",
       "2025-09-17 12:00:15.946  VeriPark achieves the 2025-2026 Microsoft AI B...   \n",
       "2025-09-17 12:00:09.909  VeriPark achieves the 2025-2026 Microsoft AI B...   \n",
       "2025-09-17 12:00:08.735  VeriPark achieves the 2025-2026 Microsoft AI B...   \n",
       "2025-09-17 07:00:30.271  VeriPark achieves the 2025-2026 Microsoft AI B...   \n",
       "2025-09-16 03:27:58.419  Newscasts - Why technological progress is so h...   \n",
       "\n",
       "                                                                   storyId  \\\n",
       "2025-09-17 12:00:15.946  urn:newsml:newsroom.refinitiv.com:20250917:nCN...   \n",
       "2025-09-17 12:00:09.909  urn:newsml:newswire.refinitiv.com:20250917:nPn...   \n",
       "2025-09-17 12:00:08.735  urn:newsml:newswire.refinitiv.com:20250917:nCN...   \n",
       "2025-09-17 07:00:30.271  urn:newsml:newswire.refinitiv.com:20250917:nPr...   \n",
       "2025-09-16 03:27:58.419  urn:newsml:newswire.refinitiv.com:20250916:nRT...   \n",
       "\n",
       "                        sourceCode  \n",
       "2025-09-17 12:00:15.946     NS:CNW  \n",
       "2025-09-17 12:00:09.909     NS:PRN  \n",
       "2025-09-17 12:00:08.735     NS:CNW  \n",
       "2025-09-17 07:00:30.271     NS:PRN  \n",
       "2025-09-16 03:27:58.419    NS:RTRS  "
      ]
     },
     "execution_count": 11,
     "metadata": {},
     "output_type": "execute_result"
    }
   ],
   "source": [
    "#Get the news for a specific company during a certain time period\n",
    "#There are time restrictions (only for recent periods)\n",
    "# Example: Get the latest 5 news headlines for Microsoft in France in English\n",
    "\n",
    "ek.get_news_headlines(\"R:MSFT.O IN FRANCE IN ENGLISH\", count=5)"
   ]
  },
  {
   "cell_type": "code",
   "execution_count": 12,
   "id": "e633f104-e885-46d6-8927-a6a9754eb76b",
   "metadata": {},
   "outputs": [
    {
     "name": "stdout",
     "output_type": "stream",
     "text": [
      "Index(['versionCreated', 'text', 'storyId', 'sourceCode'], dtype='object')\n",
      "                               versionCreated  \\\n",
      "2025-07-23 17:25:47 2025-07-23 17:25:47+00:00   \n",
      "2025-07-23 17:24:49 2025-07-23 17:24:49+00:00   \n",
      "2025-07-23 17:24:46 2025-07-23 17:24:46+00:00   \n",
      "2025-07-23 17:24:42 2025-07-23 17:24:42+00:00   \n",
      "2025-07-23 17:24:42 2025-07-23 17:24:42+00:00   \n",
      "\n",
      "                                                                  text  \\\n",
      "2025-07-23 17:25:47  MARCHÉS EN DIRECT-Il est maintenant temps pour...   \n",
      "2025-07-23 17:24:49  MERCATI IN TEMPO REALE-Ora è il momento per il...   \n",
      "2025-07-23 17:24:46                     라이브 마켓-이제 Mag 7이 보고를 시작할 차례입니다   \n",
      "2025-07-23 17:24:42  MERCADOS EN VIVO-Ahora es el momento de que lo...   \n",
      "2025-07-23 17:24:42  MERCADOS AO VIVO-Agora é hora do Mag 7 começar...   \n",
      "\n",
      "                                                               storyId  \\\n",
      "2025-07-23 17:25:47  urn:newsml:newswire.refinitiv.com:20250723:nL8...   \n",
      "2025-07-23 17:24:49  urn:newsml:newswire.refinitiv.com:20250723:nL8...   \n",
      "2025-07-23 17:24:46  urn:newsml:newswire.refinitiv.com:20250723:nL4...   \n",
      "2025-07-23 17:24:42  urn:newsml:newswire.refinitiv.com:20250723:nL8...   \n",
      "2025-07-23 17:24:42  urn:newsml:newswire.refinitiv.com:20250723:nL1...   \n",
      "\n",
      "                    sourceCode  \n",
      "2025-07-23 17:25:47    NS:RTRS  \n",
      "2025-07-23 17:24:49    NS:RTRS  \n",
      "2025-07-23 17:24:46    NS:RTRS  \n",
      "2025-07-23 17:24:42    NS:RTRS  \n",
      "2025-07-23 17:24:42    NS:RTRS  \n"
     ]
    }
   ],
   "source": [
    "# Get the news for a specific company during a certain time period\n",
    "# There are time restrictions (only for recent periods)\n",
    "# Example: Get the news headlines for Microsoft from May 1, 2025, to June 23, 2025\n",
    "# And store the result in a dataframe called 'news'\n",
    "news=ek.get_news_headlines('MSFT.O', date_from='2025-07-01T09:00:00',\\\n",
    "                           date_to='2025-07-23T18:00:00')\n",
    "print(news.columns)\n",
    "#print(news.info())\n",
    "print(news.head())\n",
    "#print(news.storyId)"
   ]
  },
  {
   "cell_type": "code",
   "execution_count": 13,
   "id": "50866957-e536-4b2b-9b1f-e60bbd631cb6",
   "metadata": {},
   "outputs": [
    {
     "data": {
      "text/plain": [
       "'<div class=\"storyContent\" lang=\"ko\"><style type=\"text/css\">.storyContent * {border-color:inherit !important;outline-color:inherit !important;}</style><ul class=\"bulleted-list arrowlist\"><li class=\"tr-summaryitem\">미국 주요 지수 상승, 다우 지수 대부분 상승, 0.8% 상승</li><li class=\"tr-summaryitem\">S&amp;P 업종 상승 주도, 유틸리티 업종 약세</li><li class=\"tr-summaryitem\">달러, 원유 하락; 금은 1% 이상 하락; 비트코인은 ~2% 하락</li><li class=\"tr-summaryitem\">미국 10년 만기 국채 수익률 ~4.39%로 상승</li></ul><p class=\"tr-story-p1\"><span class=\"tr-dateline\">7월23일</span><span class=\"tr-dl-sep\"> - </span>로이터 기자들이 제공하는 실시간 시장 소식을 전하는 홈에 오신 것을 환영합니다. 다음 주소에서 의견을 공유할 수 있습니다 <a href=\"mailto:markets.research@thomsonreuters.com\" data-type=\"email\" translate=\"no\">markets.research@thomsonreuters.com</a></p><p><br/></p><p><br/></p><p>이제 MAG 7이 보고를 시작할 시간입니다 </p><p>일부에서는 기술주 및 성장주 비중이 높은 기업들의 실적 발표가 있어야 본격적인 어닝 시즌이 시작된다고 생각합니다. 오늘 오후 알파벳 <a href=\"reuters://REALTIME/Verb=FullQuote/ric=GOOGL.O\" data-type=\"ric\" data-ric=\"GOOGL.O\" translate=\"no\" dir=\"ltr\">GOOGL.O</a>과 테슬라 <a href=\"reuters://REALTIME/Verb=FullQuote/ric=TSLA.O\" data-type=\"ric\" data-ric=\"TSLA.O\" translate=\"no\" dir=\"ltr\">TSLA.O</a>가 분기 실적을 발표할 예정인 이번 보고 기간부터 그 시작이 시작됩니다.</p><p>이들은 미국 2분기 실적 시즌을 맞아 \\'매그니피센트 7\\' 메가캡 중 가장 먼저 실적을 발표하는 기업 중 하나입니다.</p><p>나머지 그룹인 엔비디아 <a href=\"reuters://REALTIME/Verb=FullQuote/ric=NVDA.O\" data-type=\"ric\" data-ric=\"NVDA.O\" translate=\"no\" dir=\"ltr\">NVDA.O</a>, 마이크로소프트 <a href=\"reuters://REALTIME/Verb=FullQuote/ric=MSFT.O\" data-type=\"ric\" data-ric=\"MSFT.O\" translate=\"no\" dir=\"ltr\">MSFT.O</a>, 애플 <a href=\"reuters://REALTIME/Verb=FullQuote/ric=AAPL.O\" data-type=\"ric\" data-ric=\"AAPL.O\" translate=\"no\" dir=\"ltr\">AAPL.O</a>, 아마존닷컴 <a href=\"reuters://REALTIME/Verb=FullQuote/ric=AMZN.O\" data-type=\"ric\" data-ric=\"AMZN.O\" translate=\"no\" dir=\"ltr\">AMZN.O</a>, 메타 플랫폼 <a href=\"reuters://REALTIME/Verb=FullQuote/ric=META.O\" data-type=\"ric\" data-ric=\"META.O\" translate=\"no\" dir=\"ltr\">META.O</a>의 결과는 앞으로 몇 주 내에 발표될 예정입니다.</p><p>이번 시즌은 지난주 미국 대형 은행들의 실적 발표와 함께 비공식적으로 시작되었습니다.</p><p>수요일 현재 S&amp;P 500 <a href=\"reuters://REALTIME/Verb=FullQuote/ric=.SPX\" data-type=\"ric\" data-ric=\".SPX\" translate=\"no\" dir=\"ltr\">.SPX</a> 기업 중 117개 기업의 실적이 발표되었습니다. LSEG에 따르면 이러한 실적과 나머지 기업들에 대한 추정치를 바탕으로 2분기 S&amp;P 500 수익 성장률은 7월 1일의 5.8%에서 현재 전년 동기 대비 7.5%로 추정됩니다.</p><p>전략가들은 4월 초 도널드 트럼프 미국 대통령이 무역 전쟁을 개시한 이후 대형 기술 관련 기업의 실적 외에도 기업들의 관세 관련 발언에 주목하고 있습니다.</p><p>주식 및 퀀트 전략가인 사비타 수브라마니안 BofA증권은 이번 주 초 메모에서 \"관세 영향을 완화할 수 있는 기업의 능력과 설비투자 전망에 대해 더 많은 논평을 들을 것\"이라고 밝혔습니다.</p><p>다음은 LSEG 데이터에 따른 S&amp;P 500 기업의 2분기 실적에 대한 최신 추정치입니다:</p><p><br/></p><p><span class=\"tr-resource-ref tr-graphic-static\" id=\"df0fdbdf-676e-4dc2-bd7a-ec4ba020e302\"><div class=\"tr-image\"><div class=\"tr-image-components tr-image-components-rtrs\"><img src=\"https://fingfx.thomsonreuters.com/gfx/mkt/mypmxklwgvr/Pasted%20image%201753291115860.png\" data-internal-src=\"https://rp.cp.dtc.reuint.com/Apps/NewsServices/images?apiKey=5ebc2e3a-46da-43d2-9c9f-8030fb911eb9&amp;type=base64Url&amp;id=aHR0cHM6Ly9maW5nZngudGhvbXNvbnJldXRlcnMuY29tL2dmeC9ta3QvbXlwbXhrbHdndnIvUGFzdGVkJTIwaW1hZ2UlMjAxNzUzMjkxMTE1ODYwLnBuZw==&amp;storyId=urn:newsml:newswire.refinitiv.com:20250723:nL4N3TK1OF:1&amp;key=ba9f9013689de1febfb7ddf695fa9f889ef32c85bc92837d7a65874b7d25f532d3658ee48ced775477c6d1f0c6341ab08535fcf2eaa08797c96ebc8dc17d250a\" style=\"max-height:296px\"/></div></div></span></p><p>(캐롤라인 발렛케비치)</p><p>*****</p><p><br/></p><p><br/></p><p>앞서 실시간 시장에서는</p><p>투자자들이 밸류에이션에 대해 고민하는 가운데, WFII는 주식 비중확대 유지 여기를 클릭하세요 (<a href=\"reuters://REALTIME/verb=NewsStory/ric=nL1N3TK0PX\" data-type=\"storyId\" data-story-id=\"nL1N3TK0PX\" dir=\"ltr\" class=\"tr-pnac\">link</a>) </p><p>하우스 파티: 기존 주택 판매, 모기지 수요 여기를 클릭하세요 (<a href=\"reuters://REALTIME/verb=NewsStory/ric=nL6N3TK0OL\" data-type=\"storyId\" data-story-id=\"nL6N3TK0OL\" dir=\"ltr\" class=\"tr-pnac\">link</a>) </p><p>일본 무역 협상 이후 일부 시장 안도감 여기를 클릭하세요 (<a href=\"reuters://REALTIME/verb=NewsStory/ric=nL1N3TK0LD\" data-type=\"storyId\" data-story-id=\"nL1N3TK0LD\" dir=\"ltr\" class=\"tr-pnac\">link</a>) </p><p>친애하는 다우 산업, 우리는 당신의 존재의 영광을 요청합니다... 클릭 여기 (<a href=\"reuters://REALTIME/verb=NewsStory/ric=nL1N3TK0BW\" data-type=\"storyId\" data-story-id=\"nL1N3TK0BW\" dir=\"ltr\" class=\"tr-pnac\">link</a>) </p><p>\"새로운 소비자 필수품\"을 고수하는 은행들, UBS 클릭 여기</p><p>덜 미국 이민은 가벼운 스태그플레이션 의미를 가지고 있습니다 여기를 클릭하세요 (<a href=\"reuters://REALTIME/verb=NewsStory/ric=nL8N3TK0LC\" data-type=\"storyId\" data-story-id=\"nL8N3TK0LC\" dir=\"ltr\" class=\"tr-pnac\">link</a>) </p><p>STOXX, 자동차 및 약물 부스트, 기술 드래그 클릭 여기 (<a href=\"reuters://REALTIME/verb=NewsStory/ric=nL8N3TK0GX\" data-type=\"storyId\" data-story-id=\"nL8N3TK0GX\" dir=\"ltr\" class=\"tr-pnac\">link</a>) </p><p>비포 더 벨: 일본 거래로 자동차, 수익에 초점 맞추기 클릭 여기 (<a href=\"reuters://REALTIME/verb=NewsStory/ric=nL8N3TK0BG\" data-type=\"storyId\" data-story-id=\"nL8N3TK0BG\" dir=\"ltr\" class=\"tr-pnac\">link</a>) </p><p>깜짝 일본 무역 협상으로 다른 사람들의 희망이 높아집니다 여기를 클릭하세요 (<a href=\"reuters://REALTIME/verb=NewsStory/ric=nL8N3TK061\" data-type=\"storyId\" data-story-id=\"nL8N3TK061\" dir=\"ltr\" class=\"tr-pnac\">link</a>) </p><p><br/></p><p><br/></p><p><br/></p><div style=\"display:none;\" class=\"tr-sandwichbox\"></div><p class=\"tr-signoff\">(로이터는 영어 원어민이 아닌 독자들의 편의를 위해 자사의 기사를 다른 여러 언어로 자동 번역합니다. 자동 번역은 오류가 생기거나 필요한 문맥을 누락시킬 수 있으므로 로이터는 자동 번역된 텍스트의 정확성에 대한 어떠한 설명도 하지 않으며 이러한 번역은 오직 독자의 편의를 위해 제공됩니다. 로이터는 완전 자동화된 번역 기능 사용으로 인한 어떠한 종류의 손해나 손실에 대해 어떠한 책임도 지지 않습니다.)</p><p class=\"line-break\"><br/></p><p class=\"tr-copyright\">(c) Copyright Thomson Reuters 2025. Click For Restrictions - https://agency.reuters.com/en/copyright.html</p><p class=\"line-break\"><br/></p><p class=\"tr-slugline\">Keywords: GLOBAL-STOCKS/</p></div>'"
      ]
     },
     "execution_count": 13,
     "metadata": {},
     "output_type": "execute_result"
    }
   ],
   "source": [
    "# Get the news story for a specific storyId\n",
    "storyId = news['storyId'].iloc[2]#specify which story to retrieve\n",
    "ek.get_news_story(storyId)"
   ]
  },
  {
   "cell_type": "code",
   "execution_count": 14,
   "id": "afbd5242-f808-49cd-a2db-12fab12c166c",
   "metadata": {},
   "outputs": [],
   "source": [
    "###to read it in a web browser, you can store it and then open it in the following way\n",
    "htmlobj=ek.get_news_story(storyId)\n",
    "\n",
    "#save the content, htmlobj, in the 'test.htm' file\n",
    "with open('test.htm','wb') as f:   # Use some reasonable temp name\n",
    "    f.write(htmlobj.encode(\"UTF-8\"))"
   ]
  },
  {
   "cell_type": "code",
   "execution_count": 15,
   "id": "08fab006-455d-452b-8db7-7f5da2c08e16",
   "metadata": {},
   "outputs": [
    {
     "data": {
      "text/plain": [
       "True"
      ]
     },
     "execution_count": 15,
     "metadata": {},
     "output_type": "execute_result"
    }
   ],
   "source": [
    "# open an HTML file stored above, test.htm, on my own (Windows) computer\n",
    "# You can use the webbrowser module to open the HTML file in a web browser.\n",
    "import webbrowser\n",
    "url = r'test.htm'\n",
    "webbrowser.open(url,new=2)\n",
    "# if new=0, the url is opened in the same browser window if possible\n",
    "# if new=1, a new browser window is opened if possible\n",
    "# if new=2, a new browser page(\"tab\") is opened if possible"
   ]
  },
  {
   "cell_type": "code",
   "execution_count": 16,
   "id": "5eeb05dd-f6b8-4fb1-84e0-3aa1d12edbca",
   "metadata": {},
   "outputs": [
    {
     "name": "stdout",
     "output_type": "stream",
     "text": [
      "                               versionCreated  \\\n",
      "2025-07-23 17:25:47 2025-07-23 17:25:47+00:00   \n",
      "2025-07-23 17:24:49 2025-07-23 17:24:49+00:00   \n",
      "2025-07-23 17:24:46 2025-07-23 17:24:46+00:00   \n",
      "2025-07-23 17:24:42 2025-07-23 17:24:42+00:00   \n",
      "2025-07-23 17:24:42 2025-07-23 17:24:42+00:00   \n",
      "\n",
      "                                                                  text  \\\n",
      "2025-07-23 17:25:47  MARCHÉS EN DIRECT-Il est maintenant temps pour...   \n",
      "2025-07-23 17:24:49  MERCATI IN TEMPO REALE-Ora è il momento per il...   \n",
      "2025-07-23 17:24:46                     라이브 마켓-이제 Mag 7이 보고를 시작할 차례입니다   \n",
      "2025-07-23 17:24:42  MERCADOS EN VIVO-Ahora es el momento de que lo...   \n",
      "2025-07-23 17:24:42  MERCADOS AO VIVO-Agora é hora do Mag 7 começar...   \n",
      "\n",
      "                                                               storyId  \\\n",
      "2025-07-23 17:25:47  urn:newsml:newswire.refinitiv.com:20250723:nL8...   \n",
      "2025-07-23 17:24:49  urn:newsml:newswire.refinitiv.com:20250723:nL8...   \n",
      "2025-07-23 17:24:46  urn:newsml:newswire.refinitiv.com:20250723:nL4...   \n",
      "2025-07-23 17:24:42  urn:newsml:newswire.refinitiv.com:20250723:nL8...   \n",
      "2025-07-23 17:24:42  urn:newsml:newswire.refinitiv.com:20250723:nL1...   \n",
      "\n",
      "                    sourceCode  \n",
      "2025-07-23 17:25:47    NS:RTRS  \n",
      "2025-07-23 17:24:49    NS:RTRS  \n",
      "2025-07-23 17:24:46    NS:RTRS  \n",
      "2025-07-23 17:24:42    NS:RTRS  \n",
      "2025-07-23 17:24:42    NS:RTRS  \n",
      "2025-07-23 17:25:47    MARCHÉS EN DIRECT-Il est maintenant temps pour...\n",
      "2025-07-23 17:24:49    MERCATI IN TEMPO REALE-Ora è il momento per il...\n",
      "2025-07-23 17:24:46                       라이브 마켓-이제 Mag 7이 보고를 시작할 차례입니다\n",
      "2025-07-23 17:24:42    MERCADOS EN VIVO-Ahora es el momento de que lo...\n",
      "2025-07-23 17:24:42    MERCADOS AO VIVO-Agora é hora do Mag 7 começar...\n",
      "2025-07-23 17:24:41    LIVE-MÄRKTE-Jetzt ist es an der Zeit, dass die...\n",
      "2025-07-23 17:24:41                              實時市場-現在是 Mag 7 開始報告的時候了\n",
      "2025-07-23 17:24:41                              实时市场-现在是 Mag 7 开始报告的时候了\n",
      "2025-07-23 17:24:40                        ライブマーケット-さて、マグ7がレポートを始める時が来た。\n",
      "2025-07-23 17:24:37    LIVE MARKETS-Now it's time for the Mag 7 to st...\n",
      "Name: text, dtype: string\n",
      "MARCHÉS EN DIRECT-Il est maintenant temps pour le Mag 7 de commencer à publier ses résultats\n",
      "LIVE-MÄRKTE-Jetzt ist es an der Zeit, dass die Mag 7 mit der Berichterstattung beginnt\n"
     ]
    }
   ],
   "source": [
    "# You can also access the news dataframe in various ways\n",
    "print(news.head()) #get the first 5 rows\n",
    "print(news.loc[:,'text'])\n",
    "#print(news.iloc[:,1]) #get the second column of all rows\n",
    "print(news.iat[0,1]) #get the second column of the first row\n",
    "print(news.iat[5,1]) #get the second column of the sixth row"
   ]
  },
  {
   "cell_type": "code",
   "execution_count": 17,
   "id": "581d4008-37f3-4807-abe5-087deee0ebf8",
   "metadata": {},
   "outputs": [
    {
     "data": {
      "text/plain": [
       "True"
      ]
     },
     "execution_count": 17,
     "metadata": {},
     "output_type": "execute_result"
    }
   ],
   "source": [
    "#get the third row's storyid\n",
    "storyid=news.iat[2,2]#iat[] is used to access a single value for a row/column pair in Pandas\n",
    "\n",
    "#save the content to 'test.htm' and open it in webbrowser\n",
    "with open('test.htm','wb') as f:   # Use some reasonable temp name\n",
    "    f.write(ek.get_news_story(news.iat[3,2]).encode(\"UTF-8\"))\n",
    "webbrowser.open(r'test.htm',new=2)"
   ]
  },
  {
   "cell_type": "markdown",
   "id": "80e32a45-bed7-46b3-9e40-c5a6ae8d2a5e",
   "metadata": {},
   "source": [
    "### Getting timeseries data from LSEG Workspace\n",
    "\n",
    "You can use get_timeseries to get time series data"
   ]
  },
  {
   "cell_type": "code",
   "execution_count": null,
   "id": "65668c96-a0ff-4533-aa13-9c44194a59fa",
   "metadata": {},
   "outputs": [],
   "source": [
    "# Get help regarding the get_timeseries function\n",
    "help(ek.get_timeseries)"
   ]
  },
  {
   "cell_type": "code",
   "execution_count": 19,
   "id": "1b95184c-eeba-4662-bc29-0dd9cc627eb3",
   "metadata": {},
   "outputs": [
    {
     "data": {
      "application/vnd.microsoft.datawrangler.viewer.v0+json": {
       "columns": [
        {
         "name": "Date",
         "rawType": "datetime64[s]",
         "type": "unknown"
        },
        {
         "name": "HIGH",
         "rawType": "Float64",
         "type": "float"
        },
        {
         "name": "CLOSE",
         "rawType": "Float64",
         "type": "float"
        },
        {
         "name": "LOW",
         "rawType": "Float64",
         "type": "float"
        },
        {
         "name": "OPEN",
         "rawType": "Float64",
         "type": "float"
        },
        {
         "name": "COUNT",
         "rawType": "Int64",
         "type": "integer"
        },
        {
         "name": "VOLUME",
         "rawType": "Int64",
         "type": "integer"
        }
       ],
       "ref": "43501add-76f8-427a-adcf-5fae15a9196d",
       "rows": [
        [
         "2025-08-01 00:00:00",
         "535.8",
         "524.11",
         "520.86",
         "535.0",
         "623164",
         "28977628"
        ],
        [
         "2025-08-04 00:00:00",
         "538.25",
         "535.64",
         "528.13",
         "528.27",
         "499433",
         "25349004"
        ],
        [
         "2025-08-05 00:00:00",
         "537.3",
         "527.75",
         "527.24",
         "537.18",
         "370263",
         "19171569"
        ],
        [
         "2025-08-06 00:00:00",
         "531.7",
         "524.94",
         "524.03",
         "530.9",
         "409567",
         "21355702"
        ],
        [
         "2025-08-07 00:00:00",
         "528.09",
         "520.84",
         "517.5511",
         "526.8",
         "369305",
         "16079144"
        ],
        [
         "2025-08-08 00:00:00",
         "524.66",
         "522.04",
         "519.41",
         "522.6",
         "341360",
         "15531009"
        ]
       ],
       "shape": {
        "columns": 6,
        "rows": 6
       }
      },
      "text/html": [
       "<div>\n",
       "<style scoped>\n",
       "    .dataframe tbody tr th:only-of-type {\n",
       "        vertical-align: middle;\n",
       "    }\n",
       "\n",
       "    .dataframe tbody tr th {\n",
       "        vertical-align: top;\n",
       "    }\n",
       "\n",
       "    .dataframe thead th {\n",
       "        text-align: right;\n",
       "    }\n",
       "</style>\n",
       "<table border=\"1\" class=\"dataframe\">\n",
       "  <thead>\n",
       "    <tr style=\"text-align: right;\">\n",
       "      <th>MSFT.O</th>\n",
       "      <th>HIGH</th>\n",
       "      <th>CLOSE</th>\n",
       "      <th>LOW</th>\n",
       "      <th>OPEN</th>\n",
       "      <th>COUNT</th>\n",
       "      <th>VOLUME</th>\n",
       "    </tr>\n",
       "    <tr>\n",
       "      <th>Date</th>\n",
       "      <th></th>\n",
       "      <th></th>\n",
       "      <th></th>\n",
       "      <th></th>\n",
       "      <th></th>\n",
       "      <th></th>\n",
       "    </tr>\n",
       "  </thead>\n",
       "  <tbody>\n",
       "    <tr>\n",
       "      <th>2025-08-01</th>\n",
       "      <td>535.8</td>\n",
       "      <td>524.11</td>\n",
       "      <td>520.86</td>\n",
       "      <td>535.0</td>\n",
       "      <td>623164</td>\n",
       "      <td>28977628</td>\n",
       "    </tr>\n",
       "    <tr>\n",
       "      <th>2025-08-04</th>\n",
       "      <td>538.25</td>\n",
       "      <td>535.64</td>\n",
       "      <td>528.13</td>\n",
       "      <td>528.27</td>\n",
       "      <td>499433</td>\n",
       "      <td>25349004</td>\n",
       "    </tr>\n",
       "    <tr>\n",
       "      <th>2025-08-05</th>\n",
       "      <td>537.3</td>\n",
       "      <td>527.75</td>\n",
       "      <td>527.24</td>\n",
       "      <td>537.18</td>\n",
       "      <td>370263</td>\n",
       "      <td>19171569</td>\n",
       "    </tr>\n",
       "    <tr>\n",
       "      <th>2025-08-06</th>\n",
       "      <td>531.7</td>\n",
       "      <td>524.94</td>\n",
       "      <td>524.03</td>\n",
       "      <td>530.9</td>\n",
       "      <td>409567</td>\n",
       "      <td>21355702</td>\n",
       "    </tr>\n",
       "    <tr>\n",
       "      <th>2025-08-07</th>\n",
       "      <td>528.09</td>\n",
       "      <td>520.84</td>\n",
       "      <td>517.5511</td>\n",
       "      <td>526.8</td>\n",
       "      <td>369305</td>\n",
       "      <td>16079144</td>\n",
       "    </tr>\n",
       "    <tr>\n",
       "      <th>2025-08-08</th>\n",
       "      <td>524.66</td>\n",
       "      <td>522.04</td>\n",
       "      <td>519.41</td>\n",
       "      <td>522.6</td>\n",
       "      <td>341360</td>\n",
       "      <td>15531009</td>\n",
       "    </tr>\n",
       "  </tbody>\n",
       "</table>\n",
       "</div>"
      ],
      "text/plain": [
       "MSFT.O        HIGH   CLOSE       LOW    OPEN   COUNT    VOLUME\n",
       "Date                                                          \n",
       "2025-08-01   535.8  524.11    520.86   535.0  623164  28977628\n",
       "2025-08-04  538.25  535.64    528.13  528.27  499433  25349004\n",
       "2025-08-05   537.3  527.75    527.24  537.18  370263  19171569\n",
       "2025-08-06   531.7  524.94    524.03   530.9  409567  21355702\n",
       "2025-08-07  528.09  520.84  517.5511   526.8  369305  16079144\n",
       "2025-08-08  524.66  522.04    519.41   522.6  341360  15531009"
      ]
     },
     "execution_count": 19,
     "metadata": {},
     "output_type": "execute_result"
    }
   ],
   "source": [
    "# Getting timeseries data from LSEG Workspace\n",
    "# Example: Get the price data for Microsoft (MSFT.O) from January 1, 2025, to January 10, 2025\n",
    "\n",
    "price = ek.get_timeseries([\"MSFT.O\"], \n",
    "                       start_date=\"2025-08-01\",  \n",
    "                       end_date=\"2025-08-10\")\n",
    "price"
   ]
  },
  {
   "cell_type": "markdown",
   "id": "ab4c7f51-f3b3-4a8a-a6e1-b833b046d2cf",
   "metadata": {},
   "source": [
    "### To get multiple firms' latest financial items specifed\n",
    "\n",
    "Use get_data\n",
    "\n",
    "You can find the data item from the Data Item Browser\n",
    "\n",
    "In the Eikon Search Box, type DIB or data item, and select\n",
    "\n",
    "APP-Data Item Browser from Autosuggest"
   ]
  },
  {
   "cell_type": "code",
   "execution_count": null,
   "id": "e7ac2b8c-43a7-4d76-acf7-28cf7812ed7a",
   "metadata": {},
   "outputs": [],
   "source": [
    "###getting multiple firms' latest financial items specifed\n",
    "# Get help regarding the get_data function\n",
    "help(ek.get_data)"
   ]
  },
  {
   "cell_type": "code",
   "execution_count": 20,
   "id": "e6e4afef-9006-435f-a7c4-0a8137599e5c",
   "metadata": {},
   "outputs": [
    {
     "name": "stdout",
     "output_type": "stream",
     "text": [
      "  Instrument       Revenue  Gross Profit  PERATIO  \\\n",
      "0     GOOG.O  350018000000  203712000000  26.7844   \n",
      "1     MSFT.O  281724000000  193893000000  37.3167   \n",
      "\n",
      "   EBITDA Net Interest Coverage Ratio  \n",
      "0                                <NA>  \n",
      "1                                <NA>  \n",
      "None\n"
     ]
    },
    {
     "name": "stderr",
     "output_type": "stream",
     "text": [
      "c:\\Users\\chlje\\VSCodeProjects\\KAIST_MFE\\.venv\\Lib\\site-packages\\eikon\\data_grid.py:255: FutureWarning: errors='ignore' is deprecated and will raise in a future version. Use to_numeric without passing `errors` and catch exceptions explicitly instead\n",
      "  df = df.apply(pd.to_numeric, errors='ignore')\n"
     ]
    }
   ],
   "source": [
    "# To get the latest financial items for multiple firms, you can use the get_data function.\n",
    "# Example: Get the latest financial items for Google (GOOG.O) and Microsoft (MSFT.O)    \n",
    "FS, err = ek.get_data(['GOOG.O','MSFT.O'], \n",
    "                      [ 'TR.Revenue','TR.GrossProfit','PERATIO','TR.EBITDAInterestCoverage'])\n",
    "print(FS)\n",
    "print(err)# error"
   ]
  },
  {
   "cell_type": "code",
   "execution_count": 21,
   "id": "31a0c3a9-6e84-4f48-8c16-265e24ddb540",
   "metadata": {},
   "outputs": [
    {
     "name": "stdout",
     "output_type": "stream",
     "text": [
      "Help on function TR_Field in module eikon.data_grid:\n",
      "\n",
      "TR_Field(field_name, params=None, sort_dir=None, sort_priority=None)\n",
      "    This is a helper function to build the field for the get_data function.\n",
      "\n",
      "    Parameters\n",
      "    ----------\n",
      "    field_name: string\n",
      "        Field name to request. You can find the list in Data Item Browser.\n",
      "\n",
      "    params: dict\n",
      "        Dictionary containing the parameters for the field passed in the argument field_name\n",
      "\n",
      "    sort_dir: string\n",
      "        Indicate the sort direction. Possible values are 'asc' or 'desc'. The default value is 'asc'\n",
      "\n",
      "    sort_priority: integer\n",
      "        Gives a priority to the field for the sorting. The highest priority is 0 (zero). the default value is None\n",
      "\n",
      "    Return\n",
      "    ------\n",
      "    Returns a dictionary that can directly passed to get_data.\n",
      "\n",
      "    Example\n",
      "    -------\n",
      "    TR_Field('tr.revenue')\n",
      "    TR_Field('tr.open','asc',1)\n",
      "    TR_Field('TR.GrossProfit',{'Scale': 6, 'Curn': 'EUR'},'asc',0)\n",
      "\n"
     ]
    }
   ],
   "source": [
    "# To get help regarding the TR_Field class\n",
    "# This class provides access to the Thomson Reuters financial data fields.\n",
    "help(ek.TR_Field)"
   ]
  },
  {
   "cell_type": "code",
   "execution_count": 22,
   "id": "679b739c-ef0b-4829-9803-9285524a1c18",
   "metadata": {},
   "outputs": [
    {
     "name": "stdout",
     "output_type": "stream",
     "text": [
      "[{'tr.revenue': {}}, {'tr.open': {'sort_dir': 'asc', 'sort_priority': 1}}, {'TR.GrossProfit': {'params': {'Scale': 6, 'Curn': 'EUR'}, 'sort_dir': 'asc', 'sort_priority': 0}}]\n"
     ]
    }
   ],
   "source": [
    "#You can specify fields to be retrieved and then use them in \"get_data\"\n",
    "fields = [ek.TR_Field('tr.revenue'),\n",
    "          ek.TR_Field('tr.open',None,'asc',1),\n",
    "          ek.TR_Field('TR.GrossProfit',\n",
    "                      {'Scale': 6, 'Curn': 'EUR'},'asc',0)]\n",
    "          #Scale is used to set the unit (6=million)\n",
    "print(fields)"
   ]
  },
  {
   "cell_type": "code",
   "execution_count": 23,
   "id": "9b1ef25c-44d6-4d20-87da-c28d5bba9e2d",
   "metadata": {},
   "outputs": [
    {
     "name": "stdout",
     "output_type": "stream",
     "text": [
      "  Instrument       Revenue  Price Open  Gross Profit\n",
      "0     MSFT.O  281724000000      510.62  164510.45478\n",
      "1     GOOG.O  350018000000      251.46   196765.4208\n",
      "None\n"
     ]
    },
    {
     "name": "stderr",
     "output_type": "stream",
     "text": [
      "c:\\Users\\chlje\\VSCodeProjects\\KAIST_MFE\\.venv\\Lib\\site-packages\\eikon\\data_grid.py:255: FutureWarning: errors='ignore' is deprecated and will raise in a future version. Use to_numeric without passing `errors` and catch exceptions explicitly instead\n",
      "  df = df.apply(pd.to_numeric, errors='ignore')\n"
     ]
    }
   ],
   "source": [
    "# To get the latest financial items for multiple firms using specified fields\n",
    "# Example: Get the latest financial items for Google (GOOG.O) and Microsoft (MSFT.O)\n",
    "# You store the result in fs1 and any error in err\n",
    "\n",
    "fs1, err=ek.get_data(['GOOG.O','MSFT.O'], fields)\n",
    "print(fs1)\n",
    "print(err)"
   ]
  },
  {
   "cell_type": "code",
   "execution_count": 24,
   "id": "dc38d867-4039-4184-b3f1-fc0157c8c38c",
   "metadata": {},
   "outputs": [
    {
     "name": "stdout",
     "output_type": "stream",
     "text": [
      "  Instrument       Revenue  Price Open  Gross Profit\n",
      "0     GOOG.O  350018000000      251.46        203712\n",
      "1     MSFT.O  281724000000      510.62        193893\n"
     ]
    },
    {
     "name": "stderr",
     "output_type": "stream",
     "text": [
      "c:\\Users\\chlje\\VSCodeProjects\\KAIST_MFE\\.venv\\Lib\\site-packages\\eikon\\data_grid.py:255: FutureWarning: errors='ignore' is deprecated and will raise in a future version. Use to_numeric without passing `errors` and catch exceptions explicitly instead\n",
      "  df = df.apply(pd.to_numeric, errors='ignore')\n"
     ]
    }
   ],
   "source": [
    "#To sort in ascending order, use opening price and then GrossProfit in sorting\n",
    "fields = [ek.TR_Field('tr.revenue'),\n",
    "          ek.TR_Field('tr.open',None,'asc',1),\n",
    "          ek.TR_Field('TR.GrossProfit',\n",
    "                      {'Scale': 6,'Curn': 'USD'},'asc',2)]\n",
    "#fields\n",
    "fs2, err=ek.get_data(['GOOG.O','MSFT.O'], fields)\n",
    "print(fs2)"
   ]
  },
  {
   "cell_type": "markdown",
   "id": "1ba853b4-3849-40e4-be40-fd53ca9798db",
   "metadata": {},
   "source": [
    "## You can have a list of instrument codes and then use it in \"get_data\""
   ]
  },
  {
   "cell_type": "code",
   "execution_count": 25,
   "id": "95cedcad-2084-471a-b8c8-2b6624e46f31",
   "metadata": {},
   "outputs": [],
   "source": [
    "## List of Reuters Instrument Codes (RICs)\n",
    "rics=['GE','AAPL.O',\n",
    "      'EUR=',#EUR/USD exchange rate\n",
    "      'XAU=',#Gold price\n",
    "      'DE10YT=RR' #10yr Bund price\n",
    "      ]\n",
    "\n",
    "#Unfortunately, we do not have access to the index information\n",
    "#'.SPX',#s&p 500 STOCK INDEX\n",
    "#'.VIX',#vix VOLATILITY INDEX\n"
   ]
  },
  {
   "cell_type": "code",
   "execution_count": 26,
   "id": "43983f24-8a1c-467f-b463-ba83940f9474",
   "metadata": {},
   "outputs": [
    {
     "name": "stdout",
     "output_type": "stream",
     "text": [
      "CLOSE           GE  AAPL.O    EUR=       XAU=  DE10YT=RR\n",
      "Date                                                    \n",
      "2025-06-02  247.48   201.7  1.1441  3379.0601      2.523\n",
      "2025-06-03  248.87  203.27   1.137  3351.9775      2.504\n",
      "2025-06-04  250.88  202.82  1.1417    3375.42      2.522\n",
      "2025-06-05  251.92  200.63  1.1444  3353.1167      2.587\n",
      "2025-06-06  255.63  203.92  1.1394  3309.6743      2.563\n",
      "CLOSE           GE  AAPL.O    EUR=       XAU=  DE10YT=RR\n",
      "Date                                                    \n",
      "2025-07-24  268.01  213.76  1.1754  3367.8064      2.694\n",
      "2025-07-25  271.59  213.88   1.174   3335.925      2.716\n",
      "2025-07-28  270.61  214.05  1.1588  3314.0376      2.688\n",
      "2025-07-29  270.31  211.27  1.1545   3326.314       2.69\n",
      "2025-07-30  273.55  209.05  1.1404  3274.7478      2.705\n",
      "<class 'pandas.core.frame.DataFrame'>\n",
      "DatetimeIndex: 43 entries, 2025-06-02 to 2025-07-30\n",
      "Freq: B\n",
      "Data columns (total 5 columns):\n",
      " #   Column     Non-Null Count  Dtype  \n",
      "---  ------     --------------  -----  \n",
      " 0   GE         41 non-null     Float64\n",
      " 1   AAPL.O     41 non-null     Float64\n",
      " 2   EUR=       43 non-null     Float64\n",
      " 3   XAU=       43 non-null     Float64\n",
      " 4   DE10YT=RR  43 non-null     Float64\n",
      "dtypes: Float64(5)\n",
      "memory usage: 2.2 KB\n",
      "None\n",
      "CLOSE          GE      AAPL.O      EUR=        XAU=  DE10YT=RR\n",
      "count        41.0        41.0      43.0        43.0       43.0\n",
      "mean   253.115366  206.189024  1.160823  3346.82984   2.597302\n",
      "std     10.474604    5.910984  0.013035   34.587079   0.072215\n",
      "min        235.75      195.64     1.137   3272.9983      2.479\n",
      "25%        247.05      201.08   1.14905   3325.0288     2.5345\n",
      "50%         251.0      207.82    1.1608   3343.5242      2.587\n",
      "75%        262.34      211.18    1.1719   3368.6218     2.6685\n",
      "max        273.55       214.4    1.1805   3432.1865      2.732\n"
     ]
    }
   ],
   "source": [
    "# Get the timeseries data for the specified RICs\n",
    "# Example: Get the close prices for the specified RICs from October 10, 2022, to January 31, 2023\n",
    "data=ek.get_timeseries(rics, #the list of RICs\n",
    "                       fields='CLOSE', #close field\n",
    "                       start_date='2025-06-01', #start date\n",
    "                       end_date='2025-07-30')\n",
    "print(data.head())\n",
    "print(data.tail())\n",
    "print(data.info())\n",
    "print(data.describe())"
   ]
  },
  {
   "cell_type": "markdown",
   "id": "a476abeb-6cf7-46c8-9ca6-d5318c588450",
   "metadata": {},
   "source": [
    "### There are multiple IDs used in the global financial communities\n",
    "\n",
    "You can convert one to another using \"get_symbology\"\n",
    "\n",
    "Symbology conversions (ISIN, SEDOL etc)\n",
    "\n",
    "    - ISIN: International Securities Identification Number (International Securities Identification Number, are globally recognized and standardized identifiers. Their structure is defined by ISO 6166 (International Organization for Standardization) and is a 12-character alphanumeric code.)\n",
    "    - SEDOL: Stock Exchange Daily Official Lis (Stock Exchange Daily Official List, are primarily used in the United Kingdom and Ireland. They are  seven-character alphanumeric codes assigned by the London Stock Exchange (LSE))"
   ]
  },
  {
   "cell_type": "code",
   "execution_count": 27,
   "id": "fd616832-1141-40a4-90c2-c12c0cd03c1c",
   "metadata": {},
   "outputs": [
    {
     "name": "stdout",
     "output_type": "stream",
     "text": [
      "Help on function get_symbology in module eikon.symbology:\n",
      "\n",
      "get_symbology(symbol, from_symbol_type='RIC', to_symbol_type=None, raw_output=False, debug=False, best_match=True)\n",
      "    Returns a list of instrument names converted into another instrument code.\n",
      "    For example: convert SEDOL instrument names to RIC names\n",
      "\n",
      "    Parameters\n",
      "    ----------\n",
      "    symbol: string or list of strings\n",
      "        Single instrument or list of instruments to convert.\n",
      "\n",
      "    from_symbol_type: string\n",
      "        Instrument code to convert from.\n",
      "        Possible values: 'CUSIP', 'ISIN', 'SEDOL', 'RIC', 'ticker', 'lipperID', 'IMO'\n",
      "        Default: 'RIC'\n",
      "\n",
      "    to_symbol_type: string or list\n",
      "        Instrument code to convert to.\n",
      "        Possible values: 'CUSIP', 'ISIN', 'SEDOL', 'RIC', 'ticker', 'lipperID', 'IMO', 'OAPermID'\n",
      "        Default: None  (means all symbol types are requested)\n",
      "\n",
      "    raw_output: boolean, optional\n",
      "        Set this parameter to True to get the data in json format\n",
      "        if set to False, the function will return a data frame\n",
      "        Default: False\n",
      "\n",
      "    debug: boolean, optional\n",
      "        When set to True, the json request and response are printed.\n",
      "        Default: False\n",
      "\n",
      "    best_match: boolean, optional\n",
      "        When set to True, only primary symbol is requested.\n",
      "        When set to false, all symbols are requested\n",
      "        Default: True\n",
      "\n",
      "    Returns\n",
      "    -------\n",
      "        If raw_output is set to True, the data will be returned in the json format.\n",
      "        If raw_output is False (default value) the data will be returned as a pandas.DataFrame\n",
      "\n",
      "        pandas.DataFrame content:\n",
      "            - columns : Symbol types\n",
      "            - rows : Symbol requested\n",
      "            - cells : the symbols (None if not found)\n",
      "            - symbol : The requested symbol\n",
      "\n",
      "    Raises\n",
      "    ------\n",
      "        Exception\n",
      "            If request fails or if server returns an error\n",
      "\n",
      "        ValueError\n",
      "            If a parameter type or value is wrong\n",
      "\n",
      "    Examples\n",
      "    --------\n",
      "    >>> import eikon as ek\n",
      "    >>> ek.set_app_key('set your app key here')\n",
      "    >>> ISIN_codes = ek.get_symbology([\"MSFT.O\", \"GOOG.O\", \"IBM.N\"], from_symbol_type=\"RIC\", to_symbol_type=\"ISIN\")\n",
      "    >>> ISIN_codes\n",
      "                    ISIN\n",
      "    MSFT.O  US5949181045\n",
      "    GOOG.O  US02079K1079\n",
      "    IBM.N   US4592001014\n",
      "\n"
     ]
    }
   ],
   "source": [
    "# To get help regarding the get_symbology function\n",
    "# This function is used to convert between different symbology formats.\n",
    "help(ek.get_symbology)"
   ]
  },
  {
   "cell_type": "code",
   "execution_count": 28,
   "id": "369fd423-5f90-48c7-a0fb-17fecb647534",
   "metadata": {},
   "outputs": [
    {
     "name": "stdout",
     "output_type": "stream",
     "text": [
      "                ISIN\n",
      "GE      US3696043013\n",
      "AAPL.O  US0378331005\n"
     ]
    }
   ],
   "source": [
    "# Example: Convert RICs to ISINs\n",
    "# You can convert RICs to ISINs using the get_symbology function.\n",
    "print(ek.get_symbology(rics[:2],from_symbol_type='RIC',to_symbol_type='ISIN'))"
   ]
  },
  {
   "cell_type": "code",
   "execution_count": 29,
   "id": "ee1714f0-b0f9-4f60-b40e-b56051e2aa2d",
   "metadata": {},
   "outputs": [
    {
     "name": "stdout",
     "output_type": "stream",
     "text": [
      "                ISIN ticker\n",
      "GE      US3696043013     GE\n",
      "AAPL.O  US0378331005   AAPL\n",
      "                   ISIN ticker                    error\n",
      "GE         US3696043013     GE                     <NA>\n",
      "AAPL.O     US0378331005   AAPL                     <NA>\n",
      "EUR=               <NA>   <NA>  No best match available\n",
      "XAU=               <NA>   <NA>  No best match available\n",
      "DE10YT=RR  DE000BU2Z056   <NA>                     <NA>\n"
     ]
    }
   ],
   "source": [
    "# Example: Convert RICs to ISINs and tickers\n",
    "# You can convert RICs to ISINs and tickers using the get_symb\n",
    "print(ek.get_symbology(rics[:2],from_symbol_type='RIC',to_symbol_type=['ISIN','ticker']))\n",
    "print(ek.get_symbology(rics,from_symbol_type='RIC',to_symbol_type=['ISIN','ticker']))"
   ]
  },
  {
   "cell_type": "code",
   "execution_count": 30,
   "id": "c76ab261-2d6f-4a8d-aa8a-5eb8ff199801",
   "metadata": {},
   "outputs": [
    {
     "name": "stdout",
     "output_type": "stream",
     "text": [
      "                 ISIN    RIC ticker\n",
      "B1YW440  GB00B1YW4409  III.L    III\n",
      "0673123  GB0006731235  ABF.L    ABF\n",
      "['AAPL.O', 'AMZN.O']\n"
     ]
    }
   ],
   "source": [
    "###from SEDOL  to RICs or Others\n",
    "sedols=['B1YW440','0673123']\n",
    "print(ek.get_symbology(sedols,from_symbol_type='SEDOL',to_symbol_type=['RIC','ISIN','ticker']))\n",
    "##from ISINs to\n",
    "symbols=['US0378331005','US0231351067']\n",
    "ricex=ek.get_symbology(symbols,from_symbol_type='ISIN',to_symbol_type=['RIC'])\n",
    "ricex=list(ricex.RIC.values)\n",
    "print(ricex)\n"
   ]
  },
  {
   "cell_type": "code",
   "execution_count": 37,
   "id": "9baf16b9",
   "metadata": {},
   "outputs": [
    {
     "data": {
      "application/vnd.microsoft.datawrangler.viewer.v0+json": {
       "columns": [
        {
         "name": "index",
         "rawType": "object",
         "type": "string"
        },
        {
         "name": "ISIN",
         "rawType": "string",
         "type": "string"
        }
       ],
       "ref": "0f9b25b3-7b3f-47dc-89c6-912d4dcf13d7",
       "rows": [
        [
         "FB",
         "US74349Y6133"
        ]
       ],
       "shape": {
        "columns": 1,
        "rows": 1
       }
      },
      "text/html": [
       "<div>\n",
       "<style scoped>\n",
       "    .dataframe tbody tr th:only-of-type {\n",
       "        vertical-align: middle;\n",
       "    }\n",
       "\n",
       "    .dataframe tbody tr th {\n",
       "        vertical-align: top;\n",
       "    }\n",
       "\n",
       "    .dataframe thead th {\n",
       "        text-align: right;\n",
       "    }\n",
       "</style>\n",
       "<table border=\"1\" class=\"dataframe\">\n",
       "  <thead>\n",
       "    <tr style=\"text-align: right;\">\n",
       "      <th></th>\n",
       "      <th>ISIN</th>\n",
       "    </tr>\n",
       "  </thead>\n",
       "  <tbody>\n",
       "    <tr>\n",
       "      <th>FB</th>\n",
       "      <td>US74349Y6133</td>\n",
       "    </tr>\n",
       "  </tbody>\n",
       "</table>\n",
       "</div>"
      ],
      "text/plain": [
       "            ISIN\n",
       "FB  US74349Y6133"
      ]
     },
     "execution_count": 37,
     "metadata": {},
     "output_type": "execute_result"
    }
   ],
   "source": [
    "ek.get_symbology(['FB'], from_symbol_type='ticker', to_symbol_type='ISIN')"
   ]
  },
  {
   "cell_type": "code",
   "execution_count": 31,
   "id": "d791d081-248d-41ff-b5e2-96a9375b42ad",
   "metadata": {},
   "outputs": [
    {
     "name": "stdout",
     "output_type": "stream",
     "text": [
      "CLOSE       AAPL.O  AMZN.O\n",
      "Date                      \n",
      "2025-07-01  207.82  220.46\n",
      "2025-07-02  212.44  219.92\n",
      "2025-07-03  213.55  223.41\n",
      "2025-07-07  209.95  223.47\n",
      "2025-07-08  210.01  219.36\n",
      "CLOSE       AAPL.O  AMZN.O\n",
      "Date                      \n",
      "2025-07-24  213.76  232.23\n",
      "2025-07-25  213.88  231.44\n",
      "2025-07-28  214.05  232.79\n",
      "2025-07-29  211.27  231.01\n",
      "2025-07-30  209.05  230.19\n",
      "<class 'pandas.core.frame.DataFrame'>\n",
      "DatetimeIndex: 21 entries, 2025-07-01 to 2025-07-30\n",
      "Data columns (total 2 columns):\n",
      " #   Column  Non-Null Count  Dtype  \n",
      "---  ------  --------------  -----  \n",
      " 0   AAPL.O  21 non-null     Float64\n",
      " 1   AMZN.O  21 non-null     Float64\n",
      "dtypes: Float64(2)\n",
      "memory usage: 546.0 bytes\n",
      "None\n",
      "CLOSE      AAPL.O     AMZN.O\n",
      "count        21.0       21.0\n",
      "mean   211.457619  225.92381\n",
      "std      2.026134   4.121542\n",
      "min        207.82     219.36\n",
      "25%        210.01     223.19\n",
      "50%        211.18     225.69\n",
      "75%        213.55      229.3\n",
      "max         214.4     232.79\n"
     ]
    }
   ],
   "source": [
    "################################################################\n",
    "##retrieve the data for the list of RICs\n",
    "################################################################\n",
    "data=ek.get_timeseries(ricex, #the list of RICs\n",
    "                       fields='CLOSE', #close field\n",
    "                       start_date='2025-07-01', #start date\n",
    "                       end_date='2025-07-30')\n",
    "print(data.head())\n",
    "print(data.tail())\n",
    "print(data.info())\n",
    "print(data.describe())"
   ]
  },
  {
   "cell_type": "code",
   "execution_count": 32,
   "id": "dbfa8d1a-61eb-40d9-b7ae-5b2343c8095c",
   "metadata": {},
   "outputs": [
    {
     "name": "stdout",
     "output_type": "stream",
     "text": [
      "Index(['AAPL.O', 'AMZN.O'], dtype='object', name='CLOSE')\n",
      "CLOSE         AAPL.O    AMZN.O\n",
      "Date                          \n",
      "2025-07-01       0.0  0.081906\n",
      "2025-07-02  0.702128  0.041698\n",
      "2025-07-03  0.870821  0.301564\n",
      "2025-07-07  0.323708  0.306031\n",
      "2025-07-08  0.332827       0.0\n",
      "CLOSE         AAPL.O    AMZN.O\n",
      "Date                          \n",
      "2025-07-24  0.902736  0.958302\n",
      "2025-07-25  0.920973  0.899479\n",
      "2025-07-28  0.946809       1.0\n",
      "2025-07-29  0.524316  0.867461\n",
      "2025-07-30   0.18693  0.806404\n",
      "CLOSE    AAPL.O    AMZN.O\n",
      "count      21.0      21.0\n",
      "mean    0.55283  0.488742\n",
      "std    0.307923  0.306891\n",
      "min         0.0       0.0\n",
      "25%    0.332827  0.285182\n",
      "50%    0.510638  0.471333\n",
      "75%    0.870821  0.740134\n",
      "max         1.0       1.0\n",
      "DatetimeIndex(['2025-07-01', '2025-07-02', '2025-07-03', '2025-07-07',\n",
      "               '2025-07-08', '2025-07-09', '2025-07-10', '2025-07-11',\n",
      "               '2025-07-14', '2025-07-15', '2025-07-16', '2025-07-17',\n",
      "               '2025-07-18', '2025-07-21', '2025-07-22', '2025-07-23',\n",
      "               '2025-07-24', '2025-07-25', '2025-07-28', '2025-07-29',\n",
      "               '2025-07-30'],\n",
      "              dtype='datetime64[s]', name='Date', freq=None)\n"
     ]
    }
   ],
   "source": [
    "####draw normalized price time series\n",
    "data = (data-data.min())/(data.max()-data.min()) #Normalize the data\n",
    "print(data.columns)\n",
    "print(data.head())\n",
    "print(data.tail())\n",
    "print(data.describe())\n",
    "print(data.index)"
   ]
  },
  {
   "cell_type": "markdown",
   "id": "2d5e3c6e-fa52-4e47-878b-ce0c8f86681c",
   "metadata": {},
   "source": [
    "### You can use pyplot in matplotlib to draw a graph"
   ]
  },
  {
   "cell_type": "code",
   "execution_count": 38,
   "id": "a39fc54e-045f-4406-b185-50019bf9ef9c",
   "metadata": {},
   "outputs": [
    {
     "data": {
      "image/png": "[encoded data removed]",
      "text/plain": [
       "<Figure size 640x480 with 1 Axes>"
      ]
     },
     "metadata": {},
     "output_type": "display_data"
    }
   ],
   "source": [
    "import matplotlib.pyplot as plt\n",
    "from pandas.plotting import register_matplotlib_converters\n",
    "register_matplotlib_converters()\n",
    "\n",
    "y1=data['AAPL.O'].tolist() #to make a list\n",
    "y2=data['AMZN.O'].tolist()\n",
    "\n",
    "plt.figure() #define a new figure\n",
    "plt.plot(data.index, y1, linewidth=3,label='AAPL',color='blue') #define the line for AAPL\n",
    "plt.plot(data.index, y2, linewidth=3,label='AMZN',color='orange') #define the line for AMZN\n",
    "plt.xlabel('Date') #use label for X axis\n",
    "plt.xticks(rotation=90) #rotate x axis labels for better visibility\n",
    "plt.ylabel('Returns') #use label for Y axis\n",
    "plt.ylim(ymin=0) #specify y axis values to start from 0\n",
    "plt.legend() # Legend will be included using the labels defined in plt.plot()\n",
    "plt.show() #Show the figure"
   ]
  },
  {
   "cell_type": "code",
   "execution_count": 39,
   "id": "500d570f-ce4a-4f58-a842-b73a8339538d",
   "metadata": {},
   "outputs": [
    {
     "data": {
      "text/plain": [
       "<seaborn.axisgrid.FacetGrid at 0x1277faa4da0>"
      ]
     },
     "execution_count": 39,
     "metadata": {},
     "output_type": "execute_result"
    },
    {
     "data": {
      "image/png": "[encoded data removed]",
      "text/plain": [
       "<Figure size 500x500 with 1 Axes>"
      ]
     },
     "metadata": {},
     "output_type": "display_data"
    }
   ],
   "source": [
    "##To fit a regression line between two stock returns\n",
    "# You can use seaborn's lmplot function to fit a linear regression line between two stock returns.\n",
    "import seaborn as sns\n",
    "\n",
    "#Draw a linear regression line between the returns of AMZN and AAPL\n",
    "sns.lmplot(x=\"AMZN.O\", y=\"AAPL.O\", data=data.astype(float), line_kws={'color':\"blue\"})"
   ]
  },
  {
   "cell_type": "code",
   "execution_count": 40,
   "id": "0afe8eb3-fb2a-4307-8e88-fdfa9623073b",
   "metadata": {},
   "outputs": [
    {
     "name": "stdout",
     "output_type": "stream",
     "text": [
      "['AAPL.O', 'AMZN.O']\n",
      "  Instrument  Price Close    Volume  Price Low  YTD Total Return  \\\n",
      "0     AAPL.O       238.99  46359288   237.7301         -4.232204   \n",
      "1     AMZN.O       231.62  42349191     228.71          5.574548   \n",
      "\n",
      "   52 Week Total Return  Total Return  \n",
      "0              8.788745      0.352719  \n",
      "1             24.239661      -1.03824  \n",
      "None\n"
     ]
    },
    {
     "name": "stderr",
     "output_type": "stream",
     "text": [
      "c:\\Users\\chlje\\VSCodeProjects\\KAIST_MFE\\.venv\\Lib\\site-packages\\eikon\\data_grid.py:255: FutureWarning: errors='ignore' is deprecated and will raise in a future version. Use to_numeric without passing `errors` and catch exceptions explicitly instead\n",
      "  df = df.apply(pd.to_numeric, errors='ignore')\n"
     ]
    }
   ],
   "source": [
    "###################################################################\n",
    "####get the data for the list of stocks\n",
    "print(ricex)\n",
    "###################################################################\n",
    "#Get multiple items (fields) data for a list of instruments\n",
    "data, err=ek.get_data(ricex,['TR.PriceClose','TR.Volume',\n",
    "                                'TR.PriceLow','TR.TotalReturnYTD',\n",
    "                                'TR.TotalReturn52WK',\n",
    "                                'TR.TotalReturn'])\n",
    "print(data)\n",
    "print(err)"
   ]
  },
  {
   "cell_type": "code",
   "execution_count": 41,
   "id": "5ed9e221-7fd5-42fe-8faf-90bc8f737f42",
   "metadata": {},
   "outputs": [
    {
     "name": "stdout",
     "output_type": "stream",
     "text": [
      "Index(['AAPL.O', 'AMZN.O'], dtype='string', name='Instrument')\n",
      "Instrument\n",
      "AAPL.O   -4.232204\n",
      "AMZN.O    5.574548\n",
      "Name: YTD Total Return, dtype: Float64\n",
      "            YTD Total Return  52 Week Total Return\n",
      "Instrument                                        \n",
      "AAPL.O             -4.232204              8.788745\n",
      "AMZN.O              5.574548             24.239661\n"
     ]
    }
   ],
   "source": [
    "##find a subset and use Instrument as an index\n",
    "cols=['YTD Total Return','52 Week Total Return']\n",
    "# Define a new dataframe with 'Instrument' as the index \n",
    "# and only the specified columns\n",
    "df=data.set_index('Instrument')[cols]\n",
    "print(df.index)\n",
    "print(df.iloc[:,0])\n",
    "print(df)"
   ]
  },
  {
   "cell_type": "code",
   "execution_count": 42,
   "id": "8f744ee1-6d25-4ea8-9fa3-ca83341fdc2d",
   "metadata": {},
   "outputs": [
    {
     "name": "stdout",
     "output_type": "stream",
     "text": [
      "Index(['AAPL.O', 'AMZN.O'], dtype='string', name='Instrument')\n",
      "            YTD Total Return  52 Week Total Return\n",
      "Instrument                                        \n",
      "AAPL.O             -4.232204              8.788745\n",
      "AMZN.O              5.574548             24.239661\n"
     ]
    }
   ],
   "source": [
    "print(df.index) # Get the index of the dataframe\n",
    "print(df.head()) # Get the first 5 rows of the dataframe"
   ]
  },
  {
   "cell_type": "code",
   "execution_count": 43,
   "id": "bbfa7c02-c171-4d5a-ab3a-5288734fdcea",
   "metadata": {},
   "outputs": [
    {
     "data": {
      "text/plain": [
       "Text(0, 0.5, 'Total Returns')"
      ]
     },
     "execution_count": 43,
     "metadata": {},
     "output_type": "execute_result"
    },
    {
     "data": {
      "image/png": "[encoded data removed]",
      "text/plain": [
       "<Figure size 640x480 with 1 Axes>"
      ]
     },
     "metadata": {},
     "output_type": "display_data"
    }
   ],
   "source": [
    "###draw bar graph using the dataframe, df\n",
    "df.plot(kind=\"bar\")\n",
    "plt.title(\"Total Returns\")\n",
    "plt.ylabel(\"Total Returns\")"
   ]
  },
  {
   "cell_type": "markdown",
   "id": "88aecf8f-ff63-43a3-9825-15806829472d",
   "metadata": {},
   "source": [
    "## Use screen to find a list of securities that satisfy the conditions\n",
    "\n",
    "Create RHistoryNote3W.xlsx data using API\n",
    "\n",
    "Using DIB of an equity (e.g., Samsung Electronics), find the data item to be\n",
    "used as a screening criterion\n"
   ]
  },
  {
   "cell_type": "code",
   "execution_count": null,
   "id": "7ad88cc3-6033-44bd-ba53-85788a567627",
   "metadata": {},
   "outputs": [
    {
     "name": "stdout",
     "output_type": "stream",
     "text": [
      "Instrument                             string[python]\n",
      "Company Common Name                    string[python]\n",
      "P/E (Daily Time Series Ratio)                 Float64\n",
      "Total Debt to Total Equity, Percent           Float64\n",
      "EBITDA Net Interest Coverage Ratio            Float64\n",
      "dtype: object\n",
      "  Instrument           Company Common Name  P/E (Daily Time Series Ratio)  \\\n",
      "0  009180.KS       Hansol Logistics Co Ltd                       7.073369   \n",
      "1  000640.KS  Dong-A Socio Holdings Co Ltd                       1.632972   \n",
      "2  008260.KS               NI Steel Co Ltd                       6.910582   \n",
      "3  003300.KS         Hanil Holdings Co Ltd                       9.703174   \n",
      "4  000240.KS      Hankook & Company Co Ltd                       7.352951   \n",
      "\n",
      "   Total Debt to Total Equity, Percent  EBITDA Net Interest Coverage Ratio  \n",
      "0                            38.394767                           15.738507  \n",
      "1                            70.498986                           23.369201  \n",
      "2                            67.319951                           13.433921  \n",
      "3                            54.643692                           62.224738  \n",
      "4                             7.206951                           18.723544  \n"
     ]
    },
    {
     "name": "stderr",
     "output_type": "stream",
     "text": [
      "c:\\Users\\chlje\\VSCodeProjects\\KAIST_MFE\\.venv\\Lib\\site-packages\\eikon\\data_grid.py:255: FutureWarning: errors='ignore' is deprecated and will raise in a future version. Use to_numeric without passing `errors` and catch exceptions explicitly instead\n",
      "  df = df.apply(pd.to_numeric, errors='ignore')\n"
     ]
    }
   ],
   "source": [
    "#Define screen criteria\n",
    "exp = \"SCREEN(U(IN(Equity(active,public,primary))),\\\n",
    "     IN(TR.ExchangeMarketIdCode,\"\"XKRX\"\"),\\\n",
    "     TR.PE <= 10.0,\\\n",
    "     TR.TtlDebtToTtlEquityPct(Period=FY0) <= 100.0,\\\n",
    "     TR.EBITDAInterestCoverage(Period=FY0) >= 10.00,\\\n",
    "     CURN=KRW)\"\n",
    "#Define the fields to be retrieved\n",
    "fields = ['TR.COmmonName', 'TR.PE',\\\n",
    "          'TR.TtlDebtToTtlEquityPct(Period=FY0)','TR.EBITDAInterestCoverage(Period=FY0)'] \n",
    "\n",
    "# Get the data for the specified screen criteria and fields\n",
    "# The result will be stored in LowPEHead and any error in err\n",
    "LowPEHead, err = ek.get_data(exp, fields)\n",
    "\n",
    "print(LowPEHead.dtypes)\n",
    "print(LowPEHead.head())"
   ]
  },
  {
   "cell_type": "code",
   "execution_count": 45,
   "id": "9ec5ff55-a4fe-4b5c-bd03-539a419abc51",
   "metadata": {},
   "outputs": [
    {
     "name": "stdout",
     "output_type": "stream",
     "text": [
      "           id                      Company Common Name  \\\n",
      "0   009180.KS                  Hansol Logistics Co Ltd   \n",
      "1   000640.KS             Dong-A Socio Holdings Co Ltd   \n",
      "2   008260.KS                          NI Steel Co Ltd   \n",
      "3   003300.KS                    Hanil Holdings Co Ltd   \n",
      "4   000240.KS                 Hankook & Company Co Ltd   \n",
      "5   006390.KS              Hanil Hyundai Cement Co Ltd   \n",
      "6   000050.KS                            Kyungbang Ltd   \n",
      "7   000890.KS                     Bohae Brewery Co Ltd   \n",
      "8   005810.KS                   Poongsan Holdings Corp   \n",
      "9   000370.KS          Hanwha General Insurance Co Ltd   \n",
      "10  009160.KS                               SIMPAC Inc   \n",
      "11  001250.KS                           GS Global Corp   \n",
      "12  000120.KS                        CJ Logistics Corp   \n",
      "13  072710.KS                 Nongshim Holdings Co Ltd   \n",
      "14  002350.KS                          Nexen Tire Corp   \n",
      "15  004250.KS                  National Plastic Co Ltd   \n",
      "16  005390.KS                 Shinsung Tongsang Co Ltd   \n",
      "17  015890.KS               Taekyung Industrial Co Ltd   \n",
      "18  020000.KS                            Handsome Corp   \n",
      "19  019180.KS                                 THN Corp   \n",
      "20  053690.KS                       HanmiGlobal Co Ltd   \n",
      "21  100220.KS                     Visang Education Inc   \n",
      "22  102260.KS                 Dongsung Chemical Co Ltd   \n",
      "23  014830.KS                              Unid Co Ltd   \n",
      "24  089470.KS  HDC Hyundai Engineering Plastics Co Ltd   \n",
      "25  093050.KS                                  LF Corp   \n",
      "26  117580.KS                    Daesung Energy Co Ltd   \n",
      "27  058860.KS                                Ktis Corp   \n",
      "28  129260.KS                          Intergis Co Ltd   \n",
      "29  013870.KS                           GMB Korea Corp   \n",
      "30  264900.KS               Crown Confectionery Co Ltd   \n",
      "\n",
      "    P/E (Daily Time Series Ratio)  Total Debt to Total Equity, Percent  \\\n",
      "0                        7.073369                            38.394767   \n",
      "1                        1.632972                            70.498986   \n",
      "2                        6.910582                            67.319951   \n",
      "3                        9.703174                            54.643692   \n",
      "4                        7.352951                             7.206951   \n",
      "5                        7.142911                            87.562935   \n",
      "6                         5.55989                            28.662538   \n",
      "7                        8.445437                             37.65122   \n",
      "8                        7.265948                             6.113704   \n",
      "9                        3.133856                            23.395377   \n",
      "10                       8.180159                            43.712222   \n",
      "11                       4.930403                            83.949959   \n",
      "12                       7.566783                            88.780588   \n",
      "13                        9.93268                            11.522487   \n",
      "14                       5.834269                            90.301681   \n",
      "15                       2.342754                            16.308524   \n",
      "16                       8.907379                            96.647637   \n",
      "17                       5.480211                            32.091471   \n",
      "18                        8.67264                             6.199193   \n",
      "19                       2.951386                            87.911354   \n",
      "20                       9.062807                            63.656239   \n",
      "21                       5.448991                            84.852945   \n",
      "22                       6.512678                            35.725909   \n",
      "23                       7.030365                            22.505802   \n",
      "24                       4.915366                             43.65898   \n",
      "25                       5.882671                            52.796027   \n",
      "26                       8.609253                             33.84164   \n",
      "27                       5.714965                            76.100422   \n",
      "28                       4.823131                            31.808343   \n",
      "29                       6.636787                            72.629222   \n",
      "30                       9.204275                             9.639065   \n",
      "\n",
      "    EBITDA Net Interest Coverage Ratio  \n",
      "0                            15.738507  \n",
      "1                            23.369201  \n",
      "2                            13.433921  \n",
      "3                            62.224738  \n",
      "4                            18.723544  \n",
      "5                            13.617959  \n",
      "6                             26.21934  \n",
      "7                               12.409  \n",
      "8                            143.03631  \n",
      "9                            22.804695  \n",
      "10                            13.33986  \n",
      "11                           29.278938  \n",
      "12                            13.38958  \n",
      "13                           17.617117  \n",
      "14                           35.538321  \n",
      "15                          219.723322  \n",
      "16                           12.009291  \n",
      "17                           22.433973  \n",
      "18                           15.007524  \n",
      "19                           73.563137  \n",
      "20                           41.585757  \n",
      "21                           10.613643  \n",
      "22                           54.140956  \n",
      "23                           12.112288  \n",
      "24                           21.631464  \n",
      "25                           468.52656  \n",
      "26                           40.284693  \n",
      "27                           12.622007  \n",
      "28                            20.19286  \n",
      "29                            36.16536  \n",
      "30                          227.045907  \n"
     ]
    }
   ],
   "source": [
    "#change the column name from 'Instrument' to 'id'\n",
    "LowPEHead.rename(columns={'Instrument':'id'},inplace=True)\n",
    "\n",
    "print(LowPEHead)\n",
    "\n",
    "LowPEHead.to_feather('LowPEHeadKRX.ft')# save the data"
   ]
  },
  {
   "cell_type": "code",
   "execution_count": 46,
   "id": "796592b7-8895-478b-9ecf-12a2b8783738",
   "metadata": {},
   "outputs": [
    {
     "name": "stdout",
     "output_type": "stream",
     "text": [
      "['009180.KS', '000640.KS', '008260.KS', '003300.KS', '000240.KS', '006390.KS', '000050.KS', '000890.KS', '005810.KS', '000370.KS', '009160.KS', '001250.KS', '000120.KS', '072710.KS', '002350.KS', '004250.KS', '005390.KS', '015890.KS', '020000.KS', '019180.KS', '053690.KS', '100220.KS', '102260.KS', '014830.KS', '089470.KS', '093050.KS', '117580.KS', '058860.KS', '129260.KS', '013870.KS', '264900.KS']\n"
     ]
    }
   ],
   "source": [
    "##store the list of ids in the dataframe, LowPEHead to firms\n",
    "firms=list(LowPEHead.id)\n",
    "print(firms)"
   ]
  },
  {
   "cell_type": "markdown",
   "id": "dc93c7f6-30f6-40a0-8fd2-041aeb24734c",
   "metadata": {},
   "source": [
    "## Retrieve stock returns\n",
    "\n",
    "There are two ways to get stock returns\n",
    "\n",
    "One is to use return calculated by LSEG (e.g., TR.TotalReturn1Mo)\n",
    "\n",
    "The second way is to use return index (which adjusts for stock splits/stock dividends and dividends) to calculate returns."
   ]
  },
  {
   "cell_type": "code",
   "execution_count": 47,
   "id": "c86e7c59-41ca-4f3b-b3db-29442fe130c9",
   "metadata": {},
   "outputs": [
    {
     "name": "stdout",
     "output_type": "stream",
     "text": [
      "     Instrument  Price Close  1 Month Total Return   Calc Date  \\\n",
      "0     009180.KS       1560.0              1.628664  2020-01-31   \n",
      "1     009180.KS       1490.0             -11.83432  2020-02-29   \n",
      "2     009180.KS       1115.0            -25.167785  2020-03-31   \n",
      "3     009180.KS       1470.0             39.336493  2020-04-30   \n",
      "4     009180.KS       1465.0             -0.340136  2020-05-31   \n",
      "...         ...          ...                   ...         ...   \n",
      "1855  264900.KS       8450.0            -13.599182  2024-08-31   \n",
      "1856  264900.KS       8740.0              3.431953  2024-09-30   \n",
      "1857  264900.KS       8530.0             -2.402746  2024-10-31   \n",
      "1858  264900.KS       8030.0             -5.082742  2024-11-30   \n",
      "1859  264900.KS       7790.0              0.462687  2024-12-31   \n",
      "\n",
      "                      Date  \n",
      "0     2020-01-31T00:00:00Z  \n",
      "1     2020-02-28T00:00:00Z  \n",
      "2     2020-03-31T00:00:00Z  \n",
      "3     2020-04-29T00:00:00Z  \n",
      "4     2020-05-29T00:00:00Z  \n",
      "...                    ...  \n",
      "1855  2024-08-30T00:00:00Z  \n",
      "1856  2024-09-30T00:00:00Z  \n",
      "1857  2024-10-31T00:00:00Z  \n",
      "1858  2024-11-29T00:00:00Z  \n",
      "1859  2024-12-30T00:00:00Z  \n",
      "\n",
      "[1860 rows x 5 columns]\n",
      "Index(['Instrument', 'Price Close', '1 Month Total Return', 'Calc Date',\n",
      "       'Date'],\n",
      "      dtype='object')\n",
      "  Instrument  Price Close  1 Month Total Return   Calc Date  \\\n",
      "0  009180.KS       1560.0              1.628664  2020-01-31   \n",
      "1  009180.KS       1490.0             -11.83432  2020-02-29   \n",
      "2  009180.KS       1115.0            -25.167785  2020-03-31   \n",
      "3  009180.KS       1470.0             39.336493  2020-04-30   \n",
      "4  009180.KS       1465.0             -0.340136  2020-05-31   \n",
      "\n",
      "                   Date  \n",
      "0  2020-01-31T00:00:00Z  \n",
      "1  2020-02-28T00:00:00Z  \n",
      "2  2020-03-31T00:00:00Z  \n",
      "3  2020-04-29T00:00:00Z  \n",
      "4  2020-05-29T00:00:00Z  \n"
     ]
    },
    {
     "name": "stderr",
     "output_type": "stream",
     "text": [
      "c:\\Users\\chlje\\VSCodeProjects\\KAIST_MFE\\.venv\\Lib\\site-packages\\eikon\\data_grid.py:255: FutureWarning: errors='ignore' is deprecated and will raise in a future version. Use to_numeric without passing `errors` and catch exceptions explicitly instead\n",
      "  df = df.apply(pd.to_numeric, errors='ignore')\n"
     ]
    }
   ],
   "source": [
    "## Retrieve the data for the list of RICs\n",
    "## \"get_data\" is used with options to specify time period and intervals\n",
    "## TR.PriceClose adjust prices for stock splits: check below\n",
    "\n",
    "# Define the fields to be retrieved, spcifying the start and end dates, and frequency\n",
    "# The frequency is set to 'M' for monthly data\n",
    "# .calcdate and .date are used to get the calculation date and the date of the data\n",
    "# respectively, for the TotalReturn1Mo field\n",
    "\n",
    "fd =['TR.PriceClose(SDate=2020-01-31,EDate=2024-12-31,Frq=M)',\n",
    "     'TR.TotalReturn1Mo(SDate=2020-01-31,EDate=2024-12-31,Frq=M)',\n",
    "         'TR.TotalReturn1Mo(SDate=2020-01-31,EDate=2024-12-31,Frq=M).calcdate',\n",
    "         'TR.TotalReturn1Mo(SDate=2020-01-31,EDate=2024-12-31,Frq=M).date']\n",
    "dataKR, err=ek.get_data(firms,fields=fd)\n",
    "print(dataKR)\n",
    "print(dataKR.columns)\n",
    "print(dataKR.head())"
   ]
  },
  {
   "cell_type": "markdown",
   "id": "3f04ac17-3c4e-4797-8624-2a830fb9eeed",
   "metadata": {},
   "source": [
    "### Let's sort the data by 'Instrument' and 'Date'"
   ]
  },
  {
   "cell_type": "code",
   "execution_count": 48,
   "id": "b534f67f-276e-4762-8161-1a87a539c21c",
   "metadata": {},
   "outputs": [
    {
     "name": "stdout",
     "output_type": "stream",
     "text": [
      "  Instrument  Price Close  1 Month Total Return   Calc Date  \\\n",
      "0  000050.KS       9120.0             -1.724138  2020-01-31   \n",
      "1  000050.KS       9140.0                  -0.0  2020-02-29   \n",
      "2  000050.KS       7780.0             -14.87965  2020-03-31   \n",
      "3  000050.KS      10000.0             32.275132  2020-04-30   \n",
      "4  000050.KS      14000.0                  40.0  2020-05-31   \n",
      "\n",
      "                   Date  \n",
      "0  2020-01-31T00:00:00Z  \n",
      "1  2020-02-28T00:00:00Z  \n",
      "2  2020-03-31T00:00:00Z  \n",
      "3  2020-04-29T00:00:00Z  \n",
      "4  2020-05-29T00:00:00Z  \n",
      "   Price Close  1 Month Total Return\n",
      "0       9120.0             -1.724138\n",
      "1       9140.0                  -0.0\n",
      "2       7780.0             -14.87965\n",
      "3      10000.0             32.275132\n",
      "4      14000.0                  40.0\n",
      "Index(['Instrument', 'Price Close', '1 Month Total Return', 'Calc Date',\n",
      "       'Date'],\n",
      "      dtype='object')\n"
     ]
    }
   ],
   "source": [
    "#sort the data and replace the orignal data\n",
    "dataKR.sort_values(['Instrument','Date'],inplace=True) \n",
    "#reset the index and replace the original data\n",
    "dataKR.reset_index(drop=True,inplace=True)  \n",
    "\n",
    "# In the above, (drop=True (discard old index) and inplace=True (replace the old data))\n",
    "\n",
    "print(dataKR.head())\n",
    "print(dataKR[['Price Close','1 Month Total Return']].head())\n",
    "print(dataKR.columns)\n",
    "\n",
    "#save the data\n",
    "dataKR.to_feather('RHistory.ft')"
   ]
  },
  {
   "cell_type": "code",
   "execution_count": 49,
   "id": "28624edf-0f94-4a41-bc05-84a0e1b5bee3",
   "metadata": {},
   "outputs": [
    {
     "name": "stdout",
     "output_type": "stream",
     "text": [
      "0       000050.KS\n",
      "60      000120.KS\n",
      "120     000240.KS\n",
      "180     000370.KS\n",
      "240     000640.KS\n",
      "300     000890.KS\n",
      "360     001250.KS\n",
      "420     002350.KS\n",
      "480     003300.KS\n",
      "540     004250.KS\n",
      "600     005390.KS\n",
      "660     005810.KS\n",
      "720     006390.KS\n",
      "780     008260.KS\n",
      "840     009160.KS\n",
      "900     009180.KS\n",
      "960     013870.KS\n",
      "1020    014830.KS\n",
      "1080    015890.KS\n",
      "1140    019180.KS\n",
      "1200    020000.KS\n",
      "1260    053690.KS\n",
      "1320    058860.KS\n",
      "1380    072710.KS\n",
      "1440    089470.KS\n",
      "1500    093050.KS\n",
      "1560    100220.KS\n",
      "1620    102260.KS\n",
      "1680    117580.KS\n",
      "1740    129260.KS\n",
      "1800    264900.KS\n",
      "Name: Instrument, dtype: string\n",
      "    Instrument  Price Close  1 Month Total Return   Calc Date  \\\n",
      "120  000240.KS      13250.0             -7.986111  2020-01-31   \n",
      "121  000240.KS      12250.0              -7.54717  2020-02-29   \n",
      "122  000240.KS       8550.0            -30.204082  2020-03-31   \n",
      "123  000240.KS      10100.0             20.095125  2020-04-30   \n",
      "124  000240.KS      10100.0                  -0.0  2020-05-31   \n",
      "125  000240.KS      12950.0             28.217822  2020-06-30   \n",
      "126  000240.KS      14300.0              10.42471  2020-07-31   \n",
      "127  000240.KS      15400.0              7.692308  2020-08-31   \n",
      "128  000240.KS      16750.0             10.561056  2020-09-30   \n",
      "129  000240.KS      14900.0            -11.044776  2020-10-31   \n",
      "130  000240.KS      16200.0              8.724832  2020-11-30   \n",
      "131  000240.KS      14650.0              -6.40594  2020-12-31   \n",
      "132  000240.KS      15850.0              8.191126  2021-01-31   \n",
      "133  000240.KS      17250.0              5.828221  2021-02-28   \n",
      "134  000240.KS      18500.0              7.246377  2021-03-31   \n",
      "135  000240.KS      18600.0             -2.105263  2021-04-30   \n",
      "136  000240.KS      20350.0              9.408602  2021-05-31   \n",
      "137  000240.KS      20350.0             -0.973236  2021-06-30   \n",
      "138  000240.KS      17950.0            -11.793612  2021-07-31   \n",
      "139  000240.KS      17250.0             -3.899721  2021-08-31   \n",
      "140  000240.KS      15900.0             -6.470588  2021-09-30   \n",
      "141  000240.KS      16700.0              5.031447  2021-10-31   \n",
      "142  000240.KS      15150.0             -9.281437  2021-11-30   \n",
      "143  000240.KS      15700.0              7.540943  2021-12-31   \n",
      "144  000240.KS      12950.0            -17.515924  2022-01-31   \n",
      "145  000240.KS      13400.0              3.474903  2022-02-28   \n",
      "146  000240.KS      14650.0              9.328358  2022-03-31   \n",
      "147  000240.KS      14550.0              1.041667  2022-04-30   \n",
      "148  000240.KS      14250.0             -2.061856  2022-05-31   \n",
      "149  000240.KS      12850.0            -11.072664  2022-06-30   \n",
      "150  000240.KS      12300.0             -4.280156  2022-07-31   \n",
      "151  000240.KS      13100.0              6.504065  2022-08-31   \n",
      "152  000240.KS      12450.0             -6.741573  2022-09-30   \n",
      "153  000240.KS      12850.0              3.212851  2022-10-31   \n",
      "154  000240.KS      14350.0             15.261044  2022-11-30   \n",
      "155  000240.KS      13950.0              1.693973  2022-12-31   \n",
      "156  000240.KS      13440.0             -3.655914  2023-01-31   \n",
      "157  000240.KS      13360.0             -0.890208  2023-02-28   \n",
      "158  000240.KS      11950.0            -10.553892  2023-03-31   \n",
      "159  000240.KS      12610.0              6.144781  2023-04-30   \n",
      "160  000240.KS      12010.0             -4.758128  2023-05-31   \n",
      "161  000240.KS      11900.0             -1.815182  2023-06-30   \n",
      "162  000240.KS      11480.0             -3.529412  2023-07-31   \n",
      "163  000240.KS      10900.0             -5.052265  2023-08-31   \n",
      "164  000240.KS      11080.0              1.651376  2023-09-30   \n",
      "165  000240.KS      12280.0             10.830325  2023-10-31   \n",
      "166  000240.KS      14610.0             19.852338  2023-11-30   \n",
      "167  000240.KS      15600.0             11.651805  2023-12-31   \n",
      "168  000240.KS      16560.0              6.153846  2024-01-31   \n",
      "169  000240.KS      17020.0              7.653384  2024-02-29   \n",
      "170  000240.KS      15990.0             -6.051704  2024-03-31   \n",
      "171  000240.KS      16200.0              1.313321  2024-04-30   \n",
      "172  000240.KS      15130.0             -6.604938  2024-05-31   \n",
      "173  000240.KS      15210.0              2.286483  2024-06-30   \n",
      "174  000240.KS      15740.0               3.48455  2024-07-31   \n",
      "175  000240.KS      17050.0              9.763389  2024-08-31   \n",
      "176  000240.KS      17090.0              0.234604  2024-09-30   \n",
      "177  000240.KS      16750.0             -1.989468  2024-10-31   \n",
      "178  000240.KS      17230.0              5.382263  2024-11-30   \n",
      "179  000240.KS      16920.0             -1.799187  2024-12-31   \n",
      "\n",
      "                     Date  \n",
      "120  2020-01-31T00:00:00Z  \n",
      "121  2020-02-28T00:00:00Z  \n",
      "122  2020-03-31T00:00:00Z  \n",
      "123  2020-04-29T00:00:00Z  \n",
      "124  2020-05-29T00:00:00Z  \n",
      "125  2020-06-30T00:00:00Z  \n",
      "126  2020-07-31T00:00:00Z  \n",
      "127  2020-08-31T00:00:00Z  \n",
      "128  2020-09-29T00:00:00Z  \n",
      "129  2020-10-30T00:00:00Z  \n",
      "130  2020-11-30T00:00:00Z  \n",
      "131  2020-12-30T00:00:00Z  \n",
      "132  2021-01-29T00:00:00Z  \n",
      "133  2021-02-26T00:00:00Z  \n",
      "134  2021-03-31T00:00:00Z  \n",
      "135  2021-04-30T00:00:00Z  \n",
      "136  2021-05-31T00:00:00Z  \n",
      "137  2021-06-30T00:00:00Z  \n",
      "138  2021-07-30T00:00:00Z  \n",
      "139  2021-08-31T00:00:00Z  \n",
      "140  2021-09-30T00:00:00Z  \n",
      "141  2021-10-29T00:00:00Z  \n",
      "142  2021-11-30T00:00:00Z  \n",
      "143  2021-12-30T00:00:00Z  \n",
      "144  2022-01-28T00:00:00Z  \n",
      "145  2022-02-28T00:00:00Z  \n",
      "146  2022-03-31T00:00:00Z  \n",
      "147  2022-04-29T00:00:00Z  \n",
      "148  2022-05-31T00:00:00Z  \n",
      "149  2022-06-30T00:00:00Z  \n",
      "150  2022-07-29T00:00:00Z  \n",
      "151  2022-08-31T00:00:00Z  \n",
      "152  2022-09-30T00:00:00Z  \n",
      "153  2022-10-31T00:00:00Z  \n",
      "154  2022-11-30T00:00:00Z  \n",
      "155  2022-12-29T00:00:00Z  \n",
      "156  2023-01-31T00:00:00Z  \n",
      "157  2023-02-28T00:00:00Z  \n",
      "158  2023-03-31T00:00:00Z  \n",
      "159  2023-04-28T00:00:00Z  \n",
      "160  2023-05-31T00:00:00Z  \n",
      "161  2023-06-30T00:00:00Z  \n",
      "162  2023-07-31T00:00:00Z  \n",
      "163  2023-08-31T00:00:00Z  \n",
      "164  2023-09-27T00:00:00Z  \n",
      "165  2023-10-31T00:00:00Z  \n",
      "166  2023-11-30T00:00:00Z  \n",
      "167  2023-12-28T00:00:00Z  \n",
      "168  2024-01-31T00:00:00Z  \n",
      "169  2024-02-29T00:00:00Z  \n",
      "170  2024-03-29T00:00:00Z  \n",
      "171  2024-04-30T00:00:00Z  \n",
      "172  2024-05-31T00:00:00Z  \n",
      "173  2024-06-28T00:00:00Z  \n",
      "174  2024-07-31T00:00:00Z  \n",
      "175  2024-08-30T00:00:00Z  \n",
      "176  2024-09-30T00:00:00Z  \n",
      "177  2024-10-31T00:00:00Z  \n",
      "178  2024-11-29T00:00:00Z  \n",
      "179  2024-12-30T00:00:00Z  \n"
     ]
    }
   ],
   "source": [
    "# Print out the list of instruments after dropping duplicates    \n",
    "print(dataKR.Instrument.drop_duplicates())\n",
    "\n",
    "#print out a certain instrument's information\n",
    "print(dataKR[dataKR.Instrument=='000240.KS'])"
   ]
  },
  {
   "cell_type": "markdown",
   "id": "8851dee7-ef6e-4687-b735-d42894d89d34",
   "metadata": {},
   "source": [
    "#### Save the data into an excel file"
   ]
  },
  {
   "cell_type": "code",
   "execution_count": 50,
   "id": "6ea7a8db-2f85-48f9-90b8-917529d67299",
   "metadata": {},
   "outputs": [
    {
     "data": {
      "text/plain": [
       "'c:\\\\Users\\\\chlje\\\\VSCodeProjects\\\\KAIST_MFE\\\\BAF507금융DB\\\\3주차\\\\Python Related Files-20250916'"
      ]
     },
     "execution_count": 50,
     "metadata": {},
     "output_type": "execute_result"
    }
   ],
   "source": [
    "import os\n",
    "os.getcwd() #find out the current working directory"
   ]
  },
  {
   "cell_type": "code",
   "execution_count": 51,
   "id": "92a734f8-4c11-4078-b673-bc6d534dae0d",
   "metadata": {},
   "outputs": [],
   "source": [
    "#Save the data to an Excel file\n",
    "# The sheet name is set to \"LowPEKRX\"\n",
    "dataKR.to_excel('RHistoryNote3W.xlsx',sheet_name=\"LowPEKRX\")"
   ]
  },
  {
   "cell_type": "markdown",
   "id": "ab7287b3-b2fa-46c5-ac94-f45c6b546d90",
   "metadata": {},
   "source": [
    "#### Use adjusted prices to calculated returns\n",
    "\n",
    "You can get the prices and convert them to returns\n",
    "\n",
    "Make sure that you get adjusted prices\n",
    "\n",
    "Here, we are using timeseries"
   ]
  },
  {
   "cell_type": "code",
   "execution_count": 52,
   "id": "9e2f9d70-292f-42ac-985a-9d0fbbd6509b",
   "metadata": {},
   "outputs": [
    {
     "name": "stdout",
     "output_type": "stream",
     "text": [
      "CLOSE       009180.KS   000640.KS  008260.KS   003300.KS  000240.KS  \\\n",
      "Date                                                                  \n",
      "2020-01-31       1560  91165.0686       2090  7093.45461      13250   \n",
      "2020-02-29       1490  83106.8144       1750  6299.06246      12250   \n",
      "2020-03-31       1115  79320.4058       1410  6364.48299       8550   \n",
      "2020-04-30       1470  84854.3876       1795   7943.9215      10100   \n",
      "2020-05-31       1465  87281.5726       2125  8775.69681      10100   \n",
      "\n",
      "CLOSE       006390.KS  000050.KS  000890.KS     005810.KS  000370.KS  ...  \\\n",
      "Date                                                                  ...   \n",
      "2020-01-31      28400       9120       1030  14222.236444       2340  ...   \n",
      "2020-02-29      24000       9140        896  13288.902178       2205  ...   \n",
      "2020-03-31      23000       7780        741  11044.455489       1695  ...   \n",
      "2020-04-30      31650      10000        880  12777.790556       2190  ...   \n",
      "2020-05-31      29700      14000        841  12244.456689       2305  ...   \n",
      "\n",
      "CLOSE       100220.KS    102260.KS     014830.KS  089470.KS  093050.KS  \\\n",
      "Date                                                                     \n",
      "2020-01-31       7160   4524.75243  50857.137661       4225      15050   \n",
      "2020-02-29       8600   4198.01976  44962.333069       3550      12550   \n",
      "2020-03-31       8700  2945.544525  39298.697284       2780      10750   \n",
      "2020-04-30       7630   4069.30689  49932.462431       3780      13150   \n",
      "2020-05-31       7770  4242.574215  48603.241788       4320      13550   \n",
      "\n",
      "CLOSE       117580.KS  058860.KS  129260.KS  013870.KS  264900.KS  \n",
      "Date                                                               \n",
      "2020-01-31       4995       2095       2150       5270       8120  \n",
      "2020-02-29       4660       1945       1740       4750       7660  \n",
      "2020-03-31       4330       1540       1165       3160       7000  \n",
      "2020-04-30       4730       1900       1660       4410       7970  \n",
      "2020-05-31       4785       2045       1680       4530       9760  \n",
      "\n",
      "[5 rows x 31 columns]\n"
     ]
    }
   ],
   "source": [
    "## Get the timeseries data for the specified RICs\n",
    "# Example: Get the close prices for the specified RICs from January 31, 2021, to December 31, 2024\n",
    "# The firms variable contains the list of RICs obtained from LowPEHead\n",
    "pdata=ek.get_timeseries(firms, #the list of RICs\n",
    "                       fields='CLOSE', #close field\n",
    "                       start_date='2020-01-31', #start date\n",
    "                       end_date='2024-12-31',\n",
    "                       count = None,\n",
    "                       interval='monthly',\n",
    "                       calendar = None, corax = 'adjusted',\n",
    "                       normalize = False, raw_output = False, debug = False)\n",
    "print(pdata.head())\n",
    "#Stack the data to convert it into a long format\n",
    "# This will create a multi-index dataframe with 'Instrument' and 'Date' as indices\n",
    "df1=pdata.stack().reset_index()"
   ]
  },
  {
   "cell_type": "code",
   "execution_count": 53,
   "id": "99ecb5e5-bc0a-451c-916d-f3a989d259bf",
   "metadata": {},
   "outputs": [
    {
     "name": "stdout",
     "output_type": "stream",
     "text": [
      "CLOSE       009180.KS   000640.KS  008260.KS   003300.KS  000240.KS  \\\n",
      "Date                                                                  \n",
      "2020-01-31       1560  91165.0686       2090  7093.45461      13250   \n",
      "2020-02-29       1490  83106.8144       1750  6299.06246      12250   \n",
      "2020-03-31       1115  79320.4058       1410  6364.48299       8550   \n",
      "2020-04-30       1470  84854.3876       1795   7943.9215      10100   \n",
      "2020-05-31       1465  87281.5726       2125  8775.69681      10100   \n",
      "\n",
      "CLOSE       006390.KS  000050.KS  000890.KS     005810.KS  000370.KS  ...  \\\n",
      "Date                                                                  ...   \n",
      "2020-01-31      28400       9120       1030  14222.236444       2340  ...   \n",
      "2020-02-29      24000       9140        896  13288.902178       2205  ...   \n",
      "2020-03-31      23000       7780        741  11044.455489       1695  ...   \n",
      "2020-04-30      31650      10000        880  12777.790556       2190  ...   \n",
      "2020-05-31      29700      14000        841  12244.456689       2305  ...   \n",
      "\n",
      "CLOSE       100220.KS    102260.KS     014830.KS  089470.KS  093050.KS  \\\n",
      "Date                                                                     \n",
      "2020-01-31       7160   4524.75243  50857.137661       4225      15050   \n",
      "2020-02-29       8600   4198.01976  44962.333069       3550      12550   \n",
      "2020-03-31       8700  2945.544525  39298.697284       2780      10750   \n",
      "2020-04-30       7630   4069.30689  49932.462431       3780      13150   \n",
      "2020-05-31       7770  4242.574215  48603.241788       4320      13550   \n",
      "\n",
      "CLOSE       117580.KS  058860.KS  129260.KS  013870.KS  264900.KS  \n",
      "Date                                                               \n",
      "2020-01-31       4995       2095       2150       5270       8120  \n",
      "2020-02-29       4660       1945       1740       4750       7660  \n",
      "2020-03-31       4330       1540       1165       3160       7000  \n",
      "2020-04-30       4730       1900       1660       4410       7970  \n",
      "2020-05-31       4785       2045       1680       4530       9760  \n",
      "\n",
      "[5 rows x 31 columns]\n",
      "        Date      CLOSE           0\n",
      "0 2020-01-31  009180.KS        1560\n",
      "1 2020-01-31  000640.KS  91165.0686\n",
      "2 2020-01-31  008260.KS        2090\n",
      "3 2020-01-31  003300.KS  7093.45461\n",
      "4 2020-01-31  000240.KS       13250\n"
     ]
    }
   ],
   "source": [
    "print(pdata.head())\n",
    "print(df1.head())"
   ]
  },
  {
   "cell_type": "code",
   "execution_count": 54,
   "id": "797c8cc3-f7af-4821-aba5-7ccbda7098e7",
   "metadata": {},
   "outputs": [
    {
     "name": "stdout",
     "output_type": "stream",
     "text": [
      "           Date         id      adjprc\n",
      "0    2020-01-31  009180.KS        1560\n",
      "1    2020-01-31  000640.KS  91165.0686\n",
      "2    2020-01-31  008260.KS        2090\n",
      "3    2020-01-31  003300.KS  7093.45461\n",
      "4    2020-01-31  000240.KS       13250\n",
      "...         ...        ...         ...\n",
      "1855 2024-12-31  117580.KS        8490\n",
      "1856 2024-12-31  058860.KS        2610\n",
      "1857 2024-12-31  129260.KS        2415\n",
      "1858 2024-12-31  013870.KS        3670\n",
      "1859 2024-12-31  264900.KS        7790\n",
      "\n",
      "[1860 rows x 3 columns]\n",
      "        Date         id adjprc\n",
      "0 2020-01-31  000050.KS   9120\n",
      "1 2020-02-29  000050.KS   9140\n",
      "2 2020-03-31  000050.KS   7780\n",
      "3 2020-04-30  000050.KS  10000\n",
      "4 2020-05-31  000050.KS  14000\n",
      "Index(['Date', 'id', 'adjprc'], dtype='object')\n"
     ]
    }
   ],
   "source": [
    "#Change the column names for better readability\n",
    "# Rename the columns to 'id' for Instrument and 'adjprc' for adjusted price\n",
    "df1.rename(columns={'CLOSE':'id',0:'adjprc'},inplace=True)\n",
    "print(df1)\n",
    "#Sort the data by 'id' and 'Date' and replace the original data\n",
    "df1.sort_values(['id','Date'],inplace=True)\n",
    "df1.reset_index(drop=True, inplace=True)\n",
    "print(df1.head())\n",
    "print(df1.columns)"
   ]
  },
  {
   "cell_type": "markdown",
   "id": "f8b62f31-a89f-4874-abf8-a5a7292c1071",
   "metadata": {},
   "source": [
    "#### Let's check whether the returns using adjusted prices are same as returns calculated by EIKON"
   ]
  },
  {
   "cell_type": "code",
   "execution_count": 55,
   "id": "acfe9154-16c6-4b93-9904-034d07939b78",
   "metadata": {},
   "outputs": [
    {
     "name": "stdout",
     "output_type": "stream",
     "text": [
      "Index(['Instrument', 'Price Close', '1 Month Total Return', 'Calc Date',\n",
      "       'Date'],\n",
      "      dtype='object')\n",
      "Index(['Date', 'id', 'adjprc'], dtype='object')\n",
      "Instrument              string[python]\n",
      "Price Close                    Float64\n",
      "1 Month Total Return           Float64\n",
      "Calc Date               string[python]\n",
      "Date                    string[python]\n",
      "dtype: object\n",
      "Date      datetime64[s]\n",
      "id               object\n",
      "adjprc           object\n",
      "dtype: object\n"
     ]
    }
   ],
   "source": [
    "print(dataKR.columns)\n",
    "print(df1.columns)\n",
    "print(dataKR.dtypes)\n",
    "print(df1.dtypes)"
   ]
  },
  {
   "cell_type": "code",
   "execution_count": 56,
   "id": "f601e06b-340f-4443-ae19-a86cf585275f",
   "metadata": {},
   "outputs": [
    {
     "name": "stdout",
     "output_type": "stream",
     "text": [
      "     Instrument  Price Close  1 Month Total Return  Calc Date       Date  \\\n",
      "0     000050.KS       9120.0             -1.724138 2020-01-31 2020-01-31   \n",
      "1     000050.KS       9140.0                  -0.0 2020-02-29 2020-02-29   \n",
      "2     000050.KS       7780.0             -14.87965 2020-03-31 2020-03-31   \n",
      "3     000050.KS      10000.0             32.275132 2020-04-30 2020-04-30   \n",
      "4     000050.KS      14000.0                  40.0 2020-05-31 2020-05-31   \n",
      "...         ...          ...                   ...        ...        ...   \n",
      "1855  264900.KS       8450.0            -13.599182 2024-08-31 2024-08-31   \n",
      "1856  264900.KS       8740.0              3.431953 2024-09-30 2024-09-30   \n",
      "1857  264900.KS       8530.0             -2.402746 2024-10-31 2024-10-31   \n",
      "1858  264900.KS       8030.0             -5.082742 2024-11-30 2024-11-30   \n",
      "1859  264900.KS       7790.0              0.462687 2024-12-31 2024-12-31   \n",
      "\n",
      "             id adjprc  \n",
      "0     000050.KS   9120  \n",
      "1     000050.KS   9140  \n",
      "2     000050.KS   7780  \n",
      "3     000050.KS  10000  \n",
      "4     000050.KS  14000  \n",
      "...         ...    ...  \n",
      "1855  264900.KS   8450  \n",
      "1856  264900.KS   8740  \n",
      "1857  264900.KS   8530  \n",
      "1858  264900.KS   8030  \n",
      "1859  264900.KS   7790  \n",
      "\n",
      "[1860 rows x 7 columns]\n"
     ]
    }
   ],
   "source": [
    "#change the format of Calc Date column to datetime format so that\n",
    "#the merge operation can be performed correctly using the same data format\n",
    "#of the columns used in the merge operation\n",
    "\n",
    "dataKR['Calc Date']=pd.to_datetime(dataKR['Calc Date']) \n",
    "test=pd.merge(dataKR.drop(columns=['Date']),df1,how='left',left_on=['Instrument','Calc Date'],\\\n",
    "              right_on=['id','Date'])\n",
    "#In the above, drop(columns=['Date']), drop the specified columns\n",
    "print(test)"
   ]
  },
  {
   "cell_type": "code",
   "execution_count": 57,
   "id": "1c7b7615-daef-473a-ba47-1f20a34d75b1",
   "metadata": {},
   "outputs": [
    {
     "name": "stdout",
     "output_type": "stream",
     "text": [
      "count    1860.0\n",
      "mean       -0.0\n",
      "std         0.0\n",
      "min        -0.0\n",
      "25%         0.0\n",
      "50%         0.0\n",
      "75%         0.0\n",
      "max         0.0\n",
      "dtype: Float64\n"
     ]
    }
   ],
   "source": [
    "#Store only those rows that satisfy the conditions\n",
    "test1=test.loc[test['Price Close'].notnull() & test.adjprc.astype('float').notnull(),:].copy()\n",
    "#In the above, rows that satisfy the conditions are stored in test1\n",
    "\n",
    "print((test1['Price Close']-test1.adjprc.astype('float')).describe())"
   ]
  },
  {
   "cell_type": "markdown",
   "id": "9e4aafaf-4a1a-466d-b549-f4b70053d56f",
   "metadata": {},
   "source": [
    "### Check adjusted vs. unadjusted prices\n",
    "\n",
    "Check a case which experienced stock splits\n",
    "\n",
    "Samsung electronics which splitted stocks on May 11, 2018\n"
   ]
  },
  {
   "cell_type": "code",
   "execution_count": 58,
   "id": "7d07a130-c3cd-4fc0-a528-b92bca9537cf",
   "metadata": {},
   "outputs": [
    {
     "name": "stdout",
     "output_type": "stream",
     "text": [
      "   Instrument  Price Close                  Date\n",
      "0   081660.KS        17280  2018-01-31T00:00:00Z\n",
      "1   081660.KS        19940  2018-02-28T00:00:00Z\n",
      "2   081660.KS        21700  2018-03-30T00:00:00Z\n",
      "3   081660.KS        26100  2018-04-30T00:00:00Z\n",
      "4   081660.KS        29150  2018-05-31T00:00:00Z\n",
      "5   081660.KS        33650  2018-06-29T00:00:00Z\n",
      "6   081660.KS        31700  2018-07-31T00:00:00Z\n",
      "7   081660.KS        41750  2018-08-31T00:00:00Z\n",
      "8   081660.KS        44900  2018-09-28T00:00:00Z\n",
      "9   081660.KS        42050  2018-10-31T00:00:00Z\n",
      "10  081660.KS        50800  2018-11-30T00:00:00Z\n",
      "11  081660.KS        53500  2018-12-28T00:00:00Z\n",
      "081660.KS   CLOSE\n",
      "Date             \n",
      "2018-01-31  17280\n",
      "2018-02-28  19940\n",
      "2018-03-31  21700\n",
      "2018-04-30  26100\n",
      "2018-05-31  29150\n",
      "2018-06-30  33650\n",
      "2018-07-31  31700\n",
      "2018-08-31  41750\n",
      "2018-09-30  44900\n",
      "2018-10-31  42050\n",
      "2018-11-30  50800\n",
      "2018-12-31  53500\n",
      "081660.KS    CLOSE\n",
      "Date              \n",
      "2018-01-31   86400\n",
      "2018-02-28   99700\n",
      "2018-03-31  108500\n",
      "2018-04-30  130500\n",
      "2018-05-31   29150\n",
      "2018-06-30   33650\n",
      "2018-07-31   31700\n",
      "2018-08-31   41750\n",
      "2018-09-30   44900\n",
      "2018-10-31   42050\n",
      "2018-11-30   50800\n",
      "2018-12-31   53500\n"
     ]
    },
    {
     "name": "stderr",
     "output_type": "stream",
     "text": [
      "c:\\Users\\chlje\\VSCodeProjects\\KAIST_MFE\\.venv\\Lib\\site-packages\\eikon\\data_grid.py:255: FutureWarning: errors='ignore' is deprecated and will raise in a future version. Use to_numeric without passing `errors` and catch exceptions explicitly instead\n",
      "  df = df.apply(pd.to_numeric, errors='ignore')\n"
     ]
    }
   ],
   "source": [
    "# Get the adjusted and unadjusted close prices for Samsung Electronics\n",
    "# and store them in adp and unadp respectively\n",
    "# The adjusted prices are adjusted for stock splits and dividends\n",
    "adp=ek.get_timeseries('081660.KS', #the list of RICs\n",
    "                       fields='CLOSE', #close field\n",
    "                       start_date='2018-01-31', #start date\n",
    "                       end_date='2018-12-31',\n",
    "                       count = None,\n",
    "                       interval='monthly',\n",
    "                       calendar = None, corax = 'adjusted',\n",
    "                       normalize = False, raw_output = False, debug = False)\n",
    "unadp=ek.get_timeseries('081660.KS', #the list of RICs\n",
    "                       fields='CLOSE', #close field\n",
    "                       start_date='2018-01-31', #start date\n",
    "                       end_date='2018-12-31',\n",
    "                       count = None,\n",
    "                       interval='monthly',\n",
    "                       calendar = None, corax = 'unadjusted',\n",
    "                       normalize = False, raw_output = False, debug = False)\n",
    "# The fields to be retrieved, specifying the start and end dates, and frequency\n",
    "# The frequency is set to 'M' for monthly data\n",
    "fd =['TR.PriceClose(SDate=2018-01-31,EDate=2018-12-31,Frq=M)',\n",
    "         'TR.PriceClose(SDate=2018-01-31,EDate=2018-12-31,Frq=M).date']\n",
    "closep, err=ek.get_data('081660.KS',fields=fd)\n",
    "\n",
    "##compare to check whether TR.PriceClose is adjusted price or unadjusted price\n",
    "print(closep)\n",
    "print(adp)\n",
    "print(unadp)"
   ]
  },
  {
   "cell_type": "markdown",
   "id": "6d7fb391-c8a7-4acb-b62b-0a470590d9bb",
   "metadata": {},
   "source": [
    "### Let's get the US data"
   ]
  },
  {
   "cell_type": "code",
   "execution_count": 59,
   "id": "651cb5b0-cd4a-4fe0-9fb8-7e2410ee565d",
   "metadata": {},
   "outputs": [
    {
     "name": "stdout",
     "output_type": "stream",
     "text": [
      "Index(['Instrument', 'Company Common Name', 'P/E (Daily Time Series Ratio)',\n",
      "       'Total Debt To Enterprise Value (Daily Time Series Ratio)'],\n",
      "      dtype='object')\n",
      "         id             Company Common Name  P/E (Daily Time Series Ratio)  \\\n",
      "0     PRG.N               PROG Holdings Inc                       7.071265   \n",
      "1    MATX.N                      Matson Inc                        7.12336   \n",
      "2     CAG.N              Conagra Brands Inc                       7.885555   \n",
      "3     TAP.N        Molson Coors Beverage Co                       9.341266   \n",
      "4     DAL.N             Delta Air Lines Inc                       8.390493   \n",
      "..      ...                             ...                            ...   \n",
      "157  NMAI.N  Nuveen Multi-Asset Income Fund                       7.827907   \n",
      "158  FSCO.N    FS Credit Opportunities Corp                       8.271271   \n",
      "159   MNR.N       Mach Natural Resources LP                       6.975729   \n",
      "160    HG.N    Hamilton Insurance Group Ltd                       6.487135   \n",
      "161  CBNA.N        Chain Bridge Bancorp Inc                        9.73418   \n",
      "\n",
      "     Total Debt To Enterprise Value (Daily Time Series Ratio)  \n",
      "0                                             33.20672         \n",
      "1                                            10.132066         \n",
      "2                                            47.254109         \n",
      "3                                             42.14714         \n",
      "4                                            30.413339         \n",
      "..                                                 ...         \n",
      "157                                          31.745798         \n",
      "158                                          35.871089         \n",
      "159                                          26.178593         \n",
      "160                                            9.55291         \n",
      "161                                                0.0         \n",
      "\n",
      "[162 rows x 4 columns]\n"
     ]
    },
    {
     "name": "stderr",
     "output_type": "stream",
     "text": [
      "c:\\Users\\chlje\\VSCodeProjects\\KAIST_MFE\\.venv\\Lib\\site-packages\\eikon\\data_grid.py:255: FutureWarning: errors='ignore' is deprecated and will raise in a future version. Use to_numeric without passing `errors` and catch exceptions explicitly instead\n",
      "  df = df.apply(pd.to_numeric, errors='ignore')\n"
     ]
    }
   ],
   "source": [
    "#Specify the screening criteria for US stocks\n",
    "exp = \"SCREEN(U(IN(Equity(active,public,primary))),\\\n",
    "     IN(TR.ExchangeCountryCode,\"\"US\"\"),\\\n",
    "     IN(TR.ExchangeMarketIdCode,\"\"XNYS\"\"),\\\n",
    "     TR.PE <= 10.0,\\\n",
    "     TR.TotalDebtToEV <= 50.0,\\\n",
    "     CURN=USD)\"\n",
    "#Specify the fields to be retrieved\n",
    "fields = ['TR.COmmonName', 'TR.PE',\\\n",
    "          'TR.TotalDebtToEV'] \n",
    "# Get the data for the specified screen criteria and fields\n",
    "# The result will be stored in LowPEHeadUS and any error in err\n",
    "LowPEHeadUS, err = ek.get_data(exp, fields)\n",
    "\n",
    "print(LowPEHeadUS.columns)\n",
    "LowPEHeadUS.rename(columns={'Instrument':'id'},inplace=True)\n",
    "print(LowPEHeadUS)\n",
    "#save the data\n",
    "LowPEHeadUS.to_feather('LowPEHeadUS.ft')"
   ]
  },
  {
   "cell_type": "markdown",
   "id": "516b9eb5-a1e8-446e-91df-a8546776f58a",
   "metadata": {},
   "source": [
    "### Get the list of the stocks and retreive stock returns"
   ]
  },
  {
   "cell_type": "code",
   "execution_count": 60,
   "id": "506b58aa-d966-4bee-a156-46055780781c",
   "metadata": {},
   "outputs": [
    {
     "name": "stdout",
     "output_type": "stream",
     "text": [
      "['PRG.N', 'MATX.N', 'CAG.N', 'TAP.N', 'DAL.N', 'DNP.N', 'GAP.N', 'MTH.N', 'KBH.N', 'BBWI.N', 'MSB.N', 'NL.N', 'NC.N', 'NRT.N', 'PVH.N', 'SNV.N', 'EMF.N', 'SABA.N', 'TTI.N', 'KMPR.N', 'UHS.N', 'GHC.N', 'CRT.N', 'M.N', 'ADX.N', 'MTG.N', 'RDN.N', 'SM.N', 'SITC.N', 'ALL.N', 'MHO.N', 'EMN.N', 'TK.N', 'SGU.N', 'RNR.N', 'NUS.N', 'ANF.N', 'INVX.N', 'ASA.N', 'TY.N', 'SOR.N', 'BTO.N', 'UNM.N', 'TEI.N', 'ASG.N', 'USA.N', 'FLR.N', 'DVN.N', 'PCN.N', 'ABG.N', 'RQI.N', 'NRP.N', 'CRI.N', 'NCV.N', 'AXS.N', 'RNP.N', 'NCZ.N', 'GDV.N', 'TYG.N', 'AGO.N', 'UTF.N', 'FFA.N', 'KYN.N', 'TDF.N', 'EOS.N', 'PFN.N', 'CPA.N', 'SD.N', 'IGD.N', 'IFN.N', 'CAF.N', 'CII.N', 'CEE.N', 'PGP.N', 'BDJ.N', 'EEA.N', 'GF.N', 'BOE.N', 'ZTR.N', 'ETV.N', 'ETW.N', 'FT.N', 'PMM.N', 'GAM.N', 'EMD.N', 'CHN.N', 'IGA.N', 'DAC.N', 'FOF.N', 'SBH.N', 'GRBK.N', 'NIE.N', 'EOD.N', 'MVO.N', 'EDD.N', 'AWP.N', 'JCE.N', 'ETJ.N', 'TNK.N', 'FOR.N', 'NOG.N', 'NTB.N', 'STNG.N', 'EDF.N', 'VOC.N', 'DPG.N', 'SQNS.N', 'SXC.N', 'ALSN.N', 'VTOL.N', 'MTDR.N', 'VIPS.N', 'PDI.N', 'JPI.N', 'LDP.N', 'GHY.N', 'TMHC.N', 'TPH.N', 'BIT.N', 'ESNT.N', 'HRTG.N', 'CCS.N', 'PLYM.N', 'BST.N', 'CRC.N', 'ACV.N', 'RIV.N', 'PR.N', 'ASIX.N', 'AA.N', 'JILL.N', 'LBRT.N', 'HBB.N', 'FINV.N', 'PAGS.N', 'STG.N', 'PRT.N', 'GGZ.N', 'JGH.N', 'RGT.N', 'XYF.N', 'ARDT.N', 'AIO.N', 'PDX.N', 'BCAT.N', 'YALA.N', 'MSIF.N', 'PDO.N', 'DFH.N', 'HKD.N', 'NBXG.N', 'SLVM.N', 'PAXS.N', 'RLTY.N', 'MEGI.N', 'NPFD.N', 'RA.N', 'NMAI.N', 'FSCO.N', 'MNR.N', 'HG.N', 'CBNA.N']\n",
      "Index(['Instrument', 'Price Close', '1 Month Total Return', 'Calc Date',\n",
      "       'Date'],\n",
      "      dtype='object')\n",
      "  Instrument  Price Close 1 Month Total Return   Calc Date  \\\n",
      "0       AA.N        13.95    -35.1464435150161  2020-01-31   \n",
      "1       AA.N        13.87    -4.34482758508292  2020-02-29   \n",
      "2       AA.N         6.16    -55.5875991348136  2020-03-31   \n",
      "3       AA.N         8.15     34.2668863266283  2020-04-30   \n",
      "4       AA.N         9.21     13.0061349682238  2020-05-31   \n",
      "\n",
      "                   Date  \n",
      "0  2020-01-31T00:00:00Z  \n",
      "1  2020-02-28T00:00:00Z  \n",
      "2  2020-03-31T00:00:00Z  \n",
      "3  2020-04-30T00:00:00Z  \n",
      "4  2020-05-29T00:00:00Z  \n",
      "       Price Close\n",
      "count       9140.0\n",
      "mean     31.452429\n",
      "std      57.259303\n",
      "min           0.32\n",
      "25%           9.82\n",
      "50%      17.038267\n",
      "75%        33.4725\n",
      "max         931.12\n"
     ]
    },
    {
     "name": "stderr",
     "output_type": "stream",
     "text": [
      "c:\\Users\\chlje\\VSCodeProjects\\KAIST_MFE\\.venv\\Lib\\site-packages\\eikon\\data_grid.py:255: FutureWarning: errors='ignore' is deprecated and will raise in a future version. Use to_numeric without passing `errors` and catch exceptions explicitly instead\n",
      "  df = df.apply(pd.to_numeric, errors='ignore')\n"
     ]
    }
   ],
   "source": [
    "#Get the list of ids from LowPEHeadUS\n",
    "# This will be used to retrieve the timeseries data for these firms\n",
    "firms=list(LowPEHeadUS.id)\n",
    "print(firms)\n",
    "\n",
    "#Specify the fields to be retrieved\n",
    "\n",
    "fd =['TR.PriceClose(SDate=2020-01-31,EDate=2024-12-31,Frq=M)',\n",
    "     'TR.TotalReturn1Mo(SDate=2020-01-31,EDate=2024-12-31,Frq=M)',\n",
    "         'TR.TotalReturn1Mo(SDate=2020-01-31,EDate=2024-12-31,Frq=M).calcdate',\n",
    "         'TR.TotalReturn1Mo(SDate=2020-01-31,EDate=2024-12-31,Frq=M).date']\n",
    "dataUS, err=ek.get_data(firms,fields=fd)\n",
    "\n",
    "print(dataUS.columns)\n",
    "#Sort the data by 'Instrument' and 'Date' and replace the original data\n",
    "dataUS.sort_values(['Instrument','Date'],inplace=True)\n",
    "#Reset the index and replace the original data\n",
    "dataUS.reset_index(drop=True,inplace=True)\n",
    "print(dataUS.head())\n",
    "print(dataUS.describe())"
   ]
  },
  {
   "cell_type": "markdown",
   "id": "887d4ee1-8f82-4e9b-a75d-bffb6b3a80b0",
   "metadata": {},
   "source": [
    "#### You can convert a string columns to a numeric column"
   ]
  },
  {
   "cell_type": "code",
   "execution_count": 61,
   "id": "ce0ac5bf-2daa-44e0-b75a-94b86c71331e",
   "metadata": {},
   "outputs": [
    {
     "name": "stdout",
     "output_type": "stream",
     "text": [
      "Instrument              string[python]\n",
      "Price Close                    Float64\n",
      "1 Month Total Return    string[python]\n",
      "Calc Date               string[python]\n",
      "Date                    string[python]\n",
      "dtype: object\n"
     ]
    }
   ],
   "source": [
    "print(dataUS.dtypes)"
   ]
  },
  {
   "cell_type": "code",
   "execution_count": 62,
   "id": "859b27a9-9b99-49d9-8db5-c18b5c2ad202",
   "metadata": {},
   "outputs": [
    {
     "data": {
      "application/vnd.microsoft.datawrangler.viewer.v0+json": {
       "columns": [
        {
         "name": "index",
         "rawType": "object",
         "type": "string"
        },
        {
         "name": "ret",
         "rawType": "Float64",
         "type": "float"
        }
       ],
       "ref": "1f65d147-8129-4d09-a046-bb22d3c91f2c",
       "rows": [
        [
         "count",
         "9140.0"
        ],
        [
         "mean",
         "1.6361985196634117"
        ],
        [
         "std",
         "28.145381259538897"
        ],
        [
         "min",
         "-81.4307458143787"
        ],
        [
         "25%",
         "-4.75023996283084"
        ],
        [
         "50%",
         "1.09278843441655"
        ],
        [
         "75%",
         "6.378272658404257"
        ],
        [
         "max",
         "2369.1548427083"
        ]
       ],
       "shape": {
        "columns": 1,
        "rows": 8
       }
      },
      "text/plain": [
       "count         9140.0\n",
       "mean        1.636199\n",
       "std        28.145381\n",
       "min       -81.430746\n",
       "25%         -4.75024\n",
       "50%         1.092788\n",
       "75%         6.378273\n",
       "max      2369.154843\n",
       "Name: ret, dtype: Float64"
      ]
     },
     "execution_count": 62,
     "metadata": {},
     "output_type": "execute_result"
    }
   ],
   "source": [
    "# Convert the '1 Month Total Return' column to numeric type and call the column 'ret'\n",
    "# This will handle any non-numeric values by converting them to NaN\n",
    "dataUS['ret']=pd.to_numeric(dataUS['1 Month Total Return'], errors='coerce')\n",
    "dataUS.ret.describe()"
   ]
  },
  {
   "cell_type": "code",
   "execution_count": 63,
   "id": "f4b75832-da2a-4a6e-9b9a-f008c3460e8d",
   "metadata": {},
   "outputs": [
    {
     "name": "stdout",
     "output_type": "stream",
     "text": [
      "Instrument     string[python]\n",
      "Price Close           Float64\n",
      "Calc Date      string[python]\n",
      "Date           string[python]\n",
      "ret                   Float64\n",
      "dtype: object\n",
      "    Price Close        ret\n",
      "0         13.95 -35.146444\n",
      "1         13.87  -4.344828\n",
      "2          6.16 -55.587599\n",
      "3          8.15  34.266886\n",
      "4          9.21  13.006135\n",
      "5         11.24   22.04126\n",
      "6          13.0  15.658363\n",
      "7         14.62  12.461538\n",
      "8         11.63 -23.082011\n",
      "9         12.92  11.092003\n",
      "10         19.9  54.024768\n",
      "11        23.05  15.829146\n",
      "12         18.0 -21.908894\n",
      "13        24.55  32.702703\n",
      "14        32.49  32.342159\n",
      "15        36.64  11.131332\n",
      "16        39.67   8.269651\n",
      "17        36.84  -7.133854\n",
      "18        40.15   8.984799\n",
      "19        44.37  10.510585\n",
      "20        48.94  11.101022\n",
      "21        45.95   -5.90739\n",
      "22        46.53   1.262242\n",
      "23        59.58  28.046422\n",
      "24        56.71  -4.817053\n",
      "25        75.34  31.254355\n",
      "26        90.03  19.638202\n",
      "27         67.8 -26.456232\n",
      "28        61.72  -8.816536\n",
      "29        45.58 -29.333333\n",
      "30        50.89  11.649846\n",
      "31        49.48  -2.570827\n",
      "32        33.66 -33.727112\n",
      "33        39.03  16.250743\n",
      "34        50.13  27.268776\n",
      "35        45.47  -9.295831\n",
      "36        52.24  14.888938\n",
      "37        48.94  -7.222749\n",
      "38        42.56 -12.874397\n",
      "39        37.14 -11.063218\n",
      "40        31.72 -14.362539\n",
      "41        33.93   3.445122\n",
      "42        36.19   6.660772\n",
      "43        30.08 -16.639086\n",
      "44        29.06  -1.524907\n",
      "45        25.64  -11.42029\n",
      "46        26.86   6.082148\n",
      "47         34.0  26.582278\n",
      "48        29.75      -12.5\n",
      "49        27.21 -11.970236\n",
      "Index(['Instrument', 'Price Close', 'Calc Date', 'Date', 'ret'], dtype='object')\n"
     ]
    }
   ],
   "source": [
    "#Drop the '1 Month Total Return' column as it is no longer needed\n",
    "# This column has been converted to 'ret' and is no longer needed\n",
    "dataUS.drop(columns=['1 Month Total Return'],inplace=True)\n",
    "print(dataUS.dtypes)\n",
    "print(dataUS[['Price Close','ret']].head(50))\n",
    "\n",
    "#Save\n",
    "dataUS.to_feather('RHistoryESE.ft')\n",
    "print(dataUS.columns)\n",
    "\n",
    "#Save\n",
    "dataUS.to_feather('RHistory.ft')"
   ]
  },
  {
   "cell_type": "code",
   "execution_count": 64,
   "id": "14b1bc9b-4265-4284-90a9-f34a0600e1de",
   "metadata": {},
   "outputs": [
    {
     "data": {
      "text/plain": [
       "['AA.N',\n",
       " 'ABG.N',\n",
       " 'ACV.N',\n",
       " 'ADX.N',\n",
       " 'AGO.N',\n",
       " 'AIO.N',\n",
       " 'ALL.N',\n",
       " 'ALSN.N',\n",
       " 'ANF.N',\n",
       " 'ARDT.N',\n",
       " 'ASA.N',\n",
       " 'ASG.N',\n",
       " 'ASIX.N',\n",
       " 'AWP.N',\n",
       " 'AXS.N',\n",
       " 'BBWI.N',\n",
       " 'BCAT.N',\n",
       " 'BDJ.N',\n",
       " 'BIT.N',\n",
       " 'BOE.N',\n",
       " 'BST.N',\n",
       " 'BTO.N',\n",
       " 'CAF.N',\n",
       " 'CAG.N',\n",
       " 'CBNA.N',\n",
       " 'CCS.N',\n",
       " 'CEE.N',\n",
       " 'CHN.N',\n",
       " 'CII.N',\n",
       " 'CPA.N',\n",
       " 'CRC.N',\n",
       " 'CRI.N',\n",
       " 'CRT.N',\n",
       " 'DAC.N',\n",
       " 'DAL.N',\n",
       " 'DFH.N',\n",
       " 'DNP.N',\n",
       " 'DPG.N',\n",
       " 'DVN.N',\n",
       " 'EDD.N',\n",
       " 'EDF.N',\n",
       " 'EEA.N',\n",
       " 'EMD.N',\n",
       " 'EMF.N',\n",
       " 'EMN.N',\n",
       " 'EOD.N',\n",
       " 'EOS.N',\n",
       " 'ESNT.N',\n",
       " 'ETJ.N',\n",
       " 'ETV.N',\n",
       " 'ETW.N',\n",
       " 'FFA.N',\n",
       " 'FINV.N',\n",
       " 'FLR.N',\n",
       " 'FOF.N',\n",
       " 'FOR.N',\n",
       " 'FSCO.N',\n",
       " 'FT.N',\n",
       " 'GAM.N',\n",
       " 'GAP.N',\n",
       " 'GDV.N',\n",
       " 'GF.N',\n",
       " 'GGZ.N',\n",
       " 'GHC.N',\n",
       " 'GHY.N',\n",
       " 'GRBK.N',\n",
       " 'HBB.N',\n",
       " 'HG.N',\n",
       " 'HKD.N',\n",
       " 'HRTG.N',\n",
       " 'IFN.N',\n",
       " 'IGA.N',\n",
       " 'IGD.N',\n",
       " 'INVX.N',\n",
       " 'JCE.N',\n",
       " 'JGH.N',\n",
       " 'JILL.N',\n",
       " 'JPI.N',\n",
       " 'KBH.N',\n",
       " 'KMPR.N',\n",
       " 'KYN.N',\n",
       " 'LBRT.N',\n",
       " 'LDP.N',\n",
       " 'M.N',\n",
       " 'MATX.N',\n",
       " 'MEGI.N',\n",
       " 'MHO.N',\n",
       " 'MNR.N',\n",
       " 'MSB.N',\n",
       " 'MSIF.N',\n",
       " 'MTDR.N',\n",
       " 'MTG.N',\n",
       " 'MTH.N',\n",
       " 'MVO.N',\n",
       " 'NBXG.N',\n",
       " 'NC.N',\n",
       " 'NCV.N',\n",
       " 'NCZ.N',\n",
       " 'NIE.N',\n",
       " 'NL.N',\n",
       " 'NMAI.N',\n",
       " 'NOG.N',\n",
       " 'NPFD.N',\n",
       " 'NRP.N',\n",
       " 'NRT.N',\n",
       " 'NTB.N',\n",
       " 'NUS.N',\n",
       " 'PAGS.N',\n",
       " 'PAXS.N',\n",
       " 'PCN.N',\n",
       " 'PDI.N',\n",
       " 'PDO.N',\n",
       " 'PDX.N',\n",
       " 'PFN.N',\n",
       " 'PGP.N',\n",
       " 'PLYM.N',\n",
       " 'PMM.N',\n",
       " 'PR.N',\n",
       " 'PRG.N',\n",
       " 'PRT.N',\n",
       " 'PVH.N',\n",
       " 'RA.N',\n",
       " 'RDN.N',\n",
       " 'RGT.N',\n",
       " 'RIV.N',\n",
       " 'RLTY.N',\n",
       " 'RNP.N',\n",
       " 'RNR.N',\n",
       " 'RQI.N',\n",
       " 'SABA.N',\n",
       " 'SBH.N',\n",
       " 'SD.N',\n",
       " 'SGU.N',\n",
       " 'SITC.N',\n",
       " 'SLVM.N',\n",
       " 'SM.N',\n",
       " 'SNV.N',\n",
       " 'SOR.N',\n",
       " 'SQNS.N',\n",
       " 'STG.N',\n",
       " 'STNG.N',\n",
       " 'SXC.N',\n",
       " 'TAP.N',\n",
       " 'TDF.N',\n",
       " 'TEI.N',\n",
       " 'TK.N',\n",
       " 'TMHC.N',\n",
       " 'TNK.N',\n",
       " 'TPH.N',\n",
       " 'TTI.N',\n",
       " 'TY.N',\n",
       " 'TYG.N',\n",
       " 'UHS.N',\n",
       " 'UNM.N',\n",
       " 'USA.N',\n",
       " 'UTF.N',\n",
       " 'VIPS.N',\n",
       " 'VOC.N',\n",
       " 'VTOL.N',\n",
       " 'XYF.N',\n",
       " 'YALA.N',\n",
       " 'ZTR.N']"
      ]
     },
     "execution_count": 64,
     "metadata": {},
     "output_type": "execute_result"
    }
   ],
   "source": [
    "#List the unique instruments in the dataUS dataframe\n",
    "dataUS.Instrument.drop_duplicates().tolist()"
   ]
  },
  {
   "cell_type": "code",
   "execution_count": 65,
   "id": "7eb18846-58eb-4fc4-9b19-b8945d87e7ed",
   "metadata": {},
   "outputs": [
    {
     "name": "stdout",
     "output_type": "stream",
     "text": [
      "                      Date  Price Close\n",
      "1020  2020-01-31T00:00:00Z          9.4\n",
      "1021  2020-02-28T00:00:00Z         8.25\n",
      "1022  2020-03-31T00:00:00Z         6.53\n",
      "1023  2020-04-30T00:00:00Z         7.23\n",
      "1024  2020-05-29T00:00:00Z         7.33\n",
      "1025  2020-06-30T00:00:00Z         7.34\n",
      "1026  2020-07-31T00:00:00Z         7.42\n",
      "1027  2020-08-31T00:00:00Z          7.6\n",
      "1028  2020-09-30T00:00:00Z         7.31\n",
      "1029  2020-10-30T00:00:00Z         7.01\n",
      "1030  2020-11-30T00:00:00Z          8.2\n",
      "1031  2020-12-31T00:00:00Z         8.47\n",
      "1032  2021-01-29T00:00:00Z         8.29\n",
      "1033  2021-02-26T00:00:00Z         8.73\n",
      "1034  2021-03-31T00:00:00Z         9.46\n",
      "1035  2021-04-30T00:00:00Z         9.93\n",
      "1036  2021-05-28T00:00:00Z        10.34\n",
      "1037  2021-06-30T00:00:00Z        10.13\n",
      "1038  2021-07-30T00:00:00Z        10.22\n",
      "1039  2021-08-31T00:00:00Z        10.19\n",
      "1040  2021-09-30T00:00:00Z          9.8\n",
      "1041  2021-10-29T00:00:00Z        10.32\n",
      "1042  2021-11-30T00:00:00Z         9.73\n",
      "1043  2021-12-31T00:00:00Z        10.08\n",
      "1044  2022-01-31T00:00:00Z         9.78\n",
      "1045  2022-02-28T00:00:00Z         9.69\n",
      "1046  2022-03-31T00:00:00Z          9.9\n",
      "1047  2022-04-29T00:00:00Z         9.24\n",
      "1048  2022-05-31T00:00:00Z         9.65\n",
      "1049  2022-06-30T00:00:00Z         8.83\n",
      "1050  2022-07-29T00:00:00Z          9.6\n",
      "1051  2022-08-31T00:00:00Z         9.44\n",
      "1052  2022-09-30T00:00:00Z         8.11\n",
      "1053  2022-10-31T00:00:00Z         8.92\n",
      "1054  2022-11-30T00:00:00Z         9.44\n",
      "1055  2022-12-30T00:00:00Z         9.01\n",
      "1056  2023-01-31T00:00:00Z          9.3\n",
      "1057  2023-02-28T00:00:00Z         9.05\n",
      "1058  2023-03-31T00:00:00Z         8.59\n",
      "1059  2023-04-28T00:00:00Z         8.53\n",
      "1060  2023-05-31T00:00:00Z         8.08\n",
      "1061  2023-06-30T00:00:00Z         8.34\n",
      "1062  2023-07-31T00:00:00Z         8.37\n",
      "1063  2023-08-31T00:00:00Z          7.8\n",
      "1064  2023-09-29T00:00:00Z         7.61\n",
      "1065  2023-10-31T00:00:00Z         7.14\n",
      "1066  2023-11-30T00:00:00Z          7.8\n",
      "1067  2023-12-29T00:00:00Z         7.69\n",
      "1068  2024-01-31T00:00:00Z         7.85\n",
      "1069  2024-02-29T00:00:00Z         8.02\n",
      "1070  2024-03-28T00:00:00Z         8.25\n",
      "1071  2024-04-30T00:00:00Z         8.02\n",
      "1072  2024-05-31T00:00:00Z         8.25\n",
      "1073  2024-06-28T00:00:00Z         8.17\n",
      "1074  2024-07-31T00:00:00Z         8.52\n",
      "1075  2024-08-30T00:00:00Z         8.63\n",
      "1076  2024-09-30T00:00:00Z         8.65\n",
      "1077  2024-10-31T00:00:00Z         8.72\n",
      "1078  2024-11-29T00:00:00Z         8.99\n",
      "1079  2024-12-31T00:00:00Z         8.28\n"
     ]
    }
   ],
   "source": [
    "#Check an example\n",
    "print(dataUS.loc[dataUS.Instrument=='BDJ.N',['Date','Price Close']]) "
   ]
  },
  {
   "cell_type": "markdown",
   "id": "85dbf6c4-3076-4ef7-92b8-0bc95ec9bff9",
   "metadata": {},
   "source": [
    "### Save the data in to the excel file used above (different worksheet)"
   ]
  },
  {
   "cell_type": "code",
   "execution_count": 66,
   "id": "f11f80af-9ca3-4471-a256-46240c4e0238",
   "metadata": {},
   "outputs": [
    {
     "name": "stdout",
     "output_type": "stream",
     "text": [
      "3.1.5\n"
     ]
    }
   ],
   "source": [
    "#To add a worksheet to an existing excel file, use the following method\n",
    "\n",
    "#!pip install openpyxl\n",
    "import openpyxl\n",
    "#Check the version of openpyxl\n",
    "print(openpyxl.__version__)"
   ]
  },
  {
   "cell_type": "code",
   "execution_count": null,
   "id": "8be269a5-38a2-4375-a121-10d6401b0e92",
   "metadata": {},
   "outputs": [],
   "source": [
    "#To install or upgrade openpyxl, use the following command\n",
    "# !pip install --upgrade openpyxl"
   ]
  },
  {
   "cell_type": "code",
   "execution_count": 67,
   "id": "ba0b7595-98dd-4dd1-a814-e89f4d40830c",
   "metadata": {},
   "outputs": [],
   "source": [
    "with pd.ExcelWriter('RHistoryNote3W.xlsx',engine='openpyxl', mode='a', if_sheet_exists='replace') as writer:  \n",
    "    dataUS.to_excel(writer, sheet_name='LowPEUS')"
   ]
  },
  {
   "cell_type": "code",
   "execution_count": null,
   "id": "1c05d977",
   "metadata": {},
   "outputs": [],
   "source": []
  }
 ],
 "metadata": {
  "kernelspec": {
   "display_name": ".venv",
   "language": "python",
   "name": "python3"
  },
  "language_info": {
   "codemirror_mode": {
    "name": "ipython",
    "version": 3
   },
   "file_extension": ".py",
   "mimetype": "text/x-python",
   "name": "python",
   "nbconvert_exporter": "python",
   "pygments_lexer": "ipython3",
   "version": "3.12.9"
  }
 },
 "nbformat": 4,
 "nbformat_minor": 5
}
