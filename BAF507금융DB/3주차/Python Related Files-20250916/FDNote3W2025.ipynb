{
 "cells": [
  {
   "cell_type": "markdown",
   "id": "5c0ebb21-799d-4749-99c1-d0018e9ad964",
   "metadata": {},
   "source": [
    "## FDNote3W\n",
    "Prepared by Inmoo Lee for the Financial Databases class at KAIST\n",
    "\n",
    "inmool@kaist.ac.kr\n",
    "\n",
    "\n",
    "List of output files\n",
    "\n",
    "    - RHistoryNote3W.xlsx\n",
    "    - LowPEHeadKRX.ft\n",
    "    - RHistory.ft\n",
    "    - LowPEHeadUS.ft\n",
    "    - RHistoryESE.ft\n",
    "    - RHistory.ft\n"
   ]
  },
  {
   "cell_type": "code",
   "execution_count": null,
   "id": "be81a817",
   "metadata": {},
   "outputs": [],
   "source": []
  },
  {
   "cell_type": "code",
   "execution_count": null,
   "id": "bc4d8ac3-4412-4fe5-ad75-c400d3d87672",
   "metadata": {},
   "outputs": [],
   "source": [
    "import os\n",
    "import pandas as pd\n",
    "import numpy as np\n",
    "from datetime import datetime as dt\n",
    "\n",
    "print(os.getcwd())  #get the current working directory\n",
    "path='d:\\\\###'#change this to your directory to work with\n",
    "os.chdir(path) # change the working directory\n",
    "print(os.getcwd())  #get the current working directory\n"
   ]
  },
  {
   "cell_type": "markdown",
   "id": "be120c8c-cbe9-430f-a120-119aa24a53b7",
   "metadata": {},
   "source": [
    "## LSEG Workspace (used to be EIKON) API\n",
    "from hhttps://developers.lseg.com/en/api-catalog/eikon/eikon-data-api/quick-start\n",
    "\n",
    "First, install the eikon package"
   ]
  },
  {
   "cell_type": "code",
   "execution_count": null,
   "id": "66dbec30",
   "metadata": {},
   "outputs": [],
   "source": [
    "# To use the eikon package, you need to install bottleneck first, if you haven't done so already.\n",
    "#!pip install --user --upgrade bottleneck\n",
    "#!pip install --upgrade bottleneck\n",
    "!pip install bottleneck"
   ]
  },
  {
   "cell_type": "code",
   "execution_count": null,
   "id": "b0938c01-239e-4c95-a2e1-5fb823fd6fc5",
   "metadata": {},
   "outputs": [],
   "source": [
    "#install eikon package\n",
    "!pip install eikon"
   ]
  },
  {
   "cell_type": "code",
   "execution_count": null,
   "id": "3ea97d26-5b88-497b-a0f2-e7d2d7033a72",
   "metadata": {},
   "outputs": [],
   "source": [
    "#After installing the eikon package, you need to import it to use its functionalities.\n",
    "#You can also check the attributes and methods of the eikon package using the dir() function\n",
    "import eikon as ek\n",
    "dir(ek) # lists the attributes and methods of an object"
   ]
  },
  {
   "cell_type": "markdown",
   "id": "dd13541e-baf1-4535-86d6-dde7b604fc8d",
   "metadata": {},
   "source": [
    "### Appkey\n",
    "\n",
    "To use LSEG Workspace API, you should get the appkey by following the procedures below\n",
    "after loggin into your Workspace account\n",
    "\n",
    "    - First open your Workspace\n",
    "    - Type APPKEY to open App Key Generator\n",
    "    - Choose Eikon Data API and then click Register New App\n",
    "    - Copy the App Key to the following, inside the parenthesis\n"
   ]
  },
  {
   "cell_type": "code",
   "execution_count": null,
   "id": "2f1d2be2-8495-475c-aa60-b343f7e2ba3a",
   "metadata": {},
   "outputs": [],
   "source": [
    "help(ek.get_app_key) #get help on get_app_key"
   ]
  },
  {
   "cell_type": "code",
   "execution_count": null,
   "id": "cb30ef74-c3d9-4e3c-bc63-0d5c6f8d022d",
   "metadata": {},
   "outputs": [],
   "source": [
    "#Get the previously generated app key\n",
    "ek.set_app_key('###') #Replace this with your app key\n",
    "key=ek.get_app_key()\n",
    "print(key)"
   ]
  },
  {
   "cell_type": "markdown",
   "id": "1d37121f-7c74-4cc5-817c-cc5910382eac",
   "metadata": {},
   "source": [
    "### Once you input the key, then you are ready to use EIKON API\n",
    "\n",
    "You should log in the LSEG Workspace in the same computer that you run your Python\n",
    "\n",
    "USe Data Item Browser (DIB) App to find data items\n"
   ]
  },
  {
   "cell_type": "code",
   "execution_count": null,
   "id": "ee36e284-63b9-4b48-a3a8-5585001e08e2",
   "metadata": {},
   "outputs": [],
   "source": [
    "###Some exercises: getting news\n",
    "# Get help regarding the get_news_headlines function\n",
    "help(ek.get_news_headlines)"
   ]
  },
  {
   "cell_type": "code",
   "execution_count": null,
   "id": "09bb723c-37ad-482b-ab02-bbc3a2efe5c7",
   "metadata": {},
   "outputs": [],
   "source": [
    "#Get the news for a specific company during a certain time period\n",
    "#There are time restrictions (only for recent periods)\n",
    "# Example: Get the latest 5 news headlines for Microsoft in France in English\n",
    "\n",
    "ek.get_news_headlines(\"R:MSFT.O IN FRANCE IN ENGLISH\", count=5)"
   ]
  },
  {
   "cell_type": "code",
   "execution_count": null,
   "id": "e633f104-e885-46d6-8927-a6a9754eb76b",
   "metadata": {},
   "outputs": [],
   "source": [
    "# Get the news for a specific company during a certain time period\n",
    "# There are time restrictions (only for recent periods)\n",
    "# Example: Get the news headlines for Microsoft from May 1, 2025, to June 23, 2025\n",
    "# And store the result in a dataframe called 'news'\n",
    "news=ek.get_news_headlines('MSFT.O', date_from='2025-07-01T09:00:00',\\\n",
    "                           date_to='2025-07-23T18:00:00')\n",
    "print(news.columns)\n",
    "#print(news.info())\n",
    "print(news.head())\n",
    "#print(news.storyId)"
   ]
  },
  {
   "cell_type": "code",
   "execution_count": null,
   "id": "50866957-e536-4b2b-9b1f-e60bbd631cb6",
   "metadata": {},
   "outputs": [],
   "source": [
    "# Get the news story for a specific storyId\n",
    "storyId = news['storyId'].iloc[2]#specify which story to retrieve\n",
    "ek.get_news_story(storyId)"
   ]
  },
  {
   "cell_type": "code",
   "execution_count": 8,
   "id": "afbd5242-f808-49cd-a2db-12fab12c166c",
   "metadata": {},
   "outputs": [],
   "source": [
    "###to read it in a web browser, you can store it and then open it in the following way\n",
    "htmlobj=ek.get_news_story(storyId)\n",
    "\n",
    "#save the content, htmlobj, in the 'test.htm' file\n",
    "with open('test.htm','wb') as f:   # Use some reasonable temp name\n",
    "    f.write(htmlobj.encode(\"UTF-8\"))"
   ]
  },
  {
   "cell_type": "code",
   "execution_count": null,
   "id": "08fab006-455d-452b-8db7-7f5da2c08e16",
   "metadata": {},
   "outputs": [],
   "source": [
    "# open an HTML file stored above, test.htm, on my own (Windows) computer\n",
    "# You can use the webbrowser module to open the HTML file in a web browser.\n",
    "import webbrowser\n",
    "url = r'test.htm'\n",
    "webbrowser.open(url,new=2)\n",
    "# if new=0, the url is opened in the same browser window if possible\n",
    "# if new=1, a new browser window is opened if possible\n",
    "# if new=2, a new browser page(\"tab\") is opened if possible"
   ]
  },
  {
   "cell_type": "code",
   "execution_count": null,
   "id": "5eeb05dd-f6b8-4fb1-84e0-3aa1d12edbca",
   "metadata": {},
   "outputs": [],
   "source": [
    "# You can also access the news dataframe in various ways\n",
    "print(news.head()) #get the first 5 rows\n",
    "print(news.loc[:,'text'])\n",
    "#print(news.iloc[:,1]) #get the second column of all rows\n",
    "print(news.iat[0,1]) #get the second column of the first row\n",
    "print(news.iat[5,1]) #get the second column of the sixth row"
   ]
  },
  {
   "cell_type": "code",
   "execution_count": null,
   "id": "581d4008-37f3-4807-abe5-087deee0ebf8",
   "metadata": {},
   "outputs": [],
   "source": [
    "#get the third row's storyid\n",
    "storyid=news.iat[2,2]#iat[] is used to access a single value for a row/column pair in Pandas\n",
    "\n",
    "#save the content to 'test.htm' and open it in webbrowser\n",
    "with open('test.htm','wb') as f:   # Use some reasonable temp name\n",
    "    f.write(ek.get_news_story(news.iat[3,2]).encode(\"UTF-8\"))\n",
    "webbrowser.open(r'test.htm',new=2)"
   ]
  },
  {
   "cell_type": "markdown",
   "id": "80e32a45-bed7-46b3-9e40-c5a6ae8d2a5e",
   "metadata": {},
   "source": [
    "### Getting timeseries data from LSEG Workspace\n",
    "\n",
    "You can use get_timeseries to get time series data"
   ]
  },
  {
   "cell_type": "code",
   "execution_count": null,
   "id": "65668c96-a0ff-4533-aa13-9c44194a59fa",
   "metadata": {},
   "outputs": [],
   "source": [
    "# Get help regarding the get_timeseries function\n",
    "help(ek.get_timeseries)"
   ]
  },
  {
   "cell_type": "code",
   "execution_count": null,
   "id": "1b95184c-eeba-4662-bc29-0dd9cc627eb3",
   "metadata": {},
   "outputs": [],
   "source": [
    "# Getting timeseries data from LSEG Workspace\n",
    "# Example: Get the price data for Microsoft (MSFT.O) from January 1, 2025, to January 10, 2025\n",
    "\n",
    "price = ek.get_timeseries([\"MSFT.O\"], \n",
    "                       start_date=\"2025-08-01\",  \n",
    "                       end_date=\"2025-08-10\")\n",
    "print(price.head())"
   ]
  },
  {
   "cell_type": "markdown",
   "id": "ab4c7f51-f3b3-4a8a-a6e1-b833b046d2cf",
   "metadata": {},
   "source": [
    "### To get multiple firms' latest financial items specifed\n",
    "\n",
    "Use get_data\n",
    "\n",
    "You can find the data item from the Data Item Browser\n",
    "\n",
    "In the Eikon Search Box, type DIB or data item, and select\n",
    "\n",
    "APP-Data Item Browser from Autosuggest"
   ]
  },
  {
   "cell_type": "code",
   "execution_count": null,
   "id": "e7ac2b8c-43a7-4d76-acf7-28cf7812ed7a",
   "metadata": {},
   "outputs": [],
   "source": [
    "###getting multiple firms' latest financial items specifed\n",
    "# Get help regarding the get_data function\n",
    "help(ek.get_data)"
   ]
  },
  {
   "cell_type": "code",
   "execution_count": null,
   "id": "e6e4afef-9006-435f-a7c4-0a8137599e5c",
   "metadata": {},
   "outputs": [],
   "source": [
    "# To get the latest financial items for multiple firms, you can use the get_data function.\n",
    "# Example: Get the latest financial items for Google (GOOG.O) and Microsoft (MSFT.O)    \n",
    "FS, err = ek.get_data(['GOOG.O','MSFT.O'], \n",
    "                      [ 'TR.Revenue','TR.GrossProfit','PERATIO','TR.EBITDAInterestCoverage'])\n",
    "print(FS)\n",
    "print(err)# error"
   ]
  },
  {
   "cell_type": "code",
   "execution_count": null,
   "id": "31a0c3a9-6e84-4f48-8c16-265e24ddb540",
   "metadata": {},
   "outputs": [],
   "source": [
    "# To get help regarding the TR_Field class\n",
    "# This class provides access to the Thomson Reuters financial data fields.\n",
    "help(ek.TR_Field)"
   ]
  },
  {
   "cell_type": "code",
   "execution_count": null,
   "id": "679b739c-ef0b-4829-9803-9285524a1c18",
   "metadata": {},
   "outputs": [],
   "source": [
    "#You can specify fields to be retrieved and then use them in \"get_data\"\n",
    "fields = [ek.TR_Field('tr.revenue'),\n",
    "          ek.TR_Field('tr.open',None,'asc',1),\n",
    "          ek.TR_Field('TR.GrossProfit',\n",
    "                      {'Scale': 6, 'Curn': 'EUR'},'asc',0)]\n",
    "          #Scale is used to set the unit (6=million)\n",
    "print(fields)"
   ]
  },
  {
   "cell_type": "code",
   "execution_count": null,
   "id": "9b1ef25c-44d6-4d20-87da-c28d5bba9e2d",
   "metadata": {},
   "outputs": [],
   "source": [
    "# To get the latest financial items for multiple firms using specified fields\n",
    "# Example: Get the latest financial items for Google (GOOG.O) and Microsoft (MSFT.O)\n",
    "# You store the result in fs1 and any error in err\n",
    "\n",
    "fs1, err=ek.get_data(['GOOG.O','MSFT.O'], fields)\n",
    "print(fs1)\n",
    "print(err)"
   ]
  },
  {
   "cell_type": "code",
   "execution_count": null,
   "id": "dc38d867-4039-4184-b3f1-fc0157c8c38c",
   "metadata": {},
   "outputs": [],
   "source": [
    "#To sort in ascending order, use opening price and then GrossProfit in sorting\n",
    "fields = [ek.TR_Field('tr.revenue'),\n",
    "          ek.TR_Field('tr.open',None,'asc',1),\n",
    "          ek.TR_Field('TR.GrossProfit',\n",
    "                      {'Scale': 6,'Curn': 'USD'},'asc',2)]\n",
    "#fields\n",
    "fs2, err=ek.get_data(['GOOG.O','MSFT.O'], fields)\n",
    "print(fs2)"
   ]
  },
  {
   "cell_type": "markdown",
   "id": "1ba853b4-3849-40e4-be40-fd53ca9798db",
   "metadata": {},
   "source": [
    "## You can have a list of instrument codes and then use it in \"get_data\""
   ]
  },
  {
   "cell_type": "code",
   "execution_count": 21,
   "id": "95cedcad-2084-471a-b8c8-2b6624e46f31",
   "metadata": {},
   "outputs": [],
   "source": [
    "## List of Reuters Instrument Codes (RICs)\n",
    "rics=['GE','AAPL.O',\n",
    "      'EUR=',#EUR/USD exchange rate\n",
    "      'XAU=',#Gold price\n",
    "      'DE10YT=RR' #10yr Bund price\n",
    "      ]\n",
    "\n",
    "#Unfortunately, we do not have access to the index information\n",
    "#'.SPX',#s&p 500 STOCK INDEX\n",
    "#'.VIX',#vix VOLATILITY INDEX\n"
   ]
  },
  {
   "cell_type": "code",
   "execution_count": null,
   "id": "43983f24-8a1c-467f-b463-ba83940f9474",
   "metadata": {},
   "outputs": [],
   "source": [
    "# Get the timeseries data for the specified RICs\n",
    "# Example: Get the close prices for the specified RICs from October 10, 2022, to January 31, 2023\n",
    "data=ek.get_timeseries(rics, #the list of RICs\n",
    "                       fields='CLOSE', #close field\n",
    "                       start_date='2025-06-01', #start date\n",
    "                       end_date='2025-07-30')\n",
    "print(data.head())\n",
    "print(data.tail())\n",
    "print(data.info())\n",
    "print(data.describe())"
   ]
  },
  {
   "cell_type": "markdown",
   "id": "a476abeb-6cf7-46c8-9ca6-d5318c588450",
   "metadata": {},
   "source": [
    "### There are multiple IDs used in the global financial communities\n",
    "\n",
    "You can convert one to another using \"get_symbology\"\n",
    "\n",
    "Symbology conversions (ISIN, SEDOL etc)\n",
    "\n",
    "    - ISIN: International Securities Identification Number (International Securities Identification Number, are globally recognized and standardized identifiers. Their structure is defined by ISO 6166 (International Organization for Standardization) and is a 12-character alphanumeric code.)\n",
    "    - SEDOL: Stock Exchange Daily Official Lis (Stock Exchange Daily Official List, are primarily used in the United Kingdom and Ireland. They are  seven-character alphanumeric codes assigned by the London Stock Exchange (LSE))"
   ]
  },
  {
   "cell_type": "code",
   "execution_count": null,
   "id": "fd616832-1141-40a4-90c2-c12c0cd03c1c",
   "metadata": {},
   "outputs": [],
   "source": [
    "# To get help regarding the get_symbology function\n",
    "# This function is used to convert between different symbology formats.\n",
    "help(ek.get_symbology)"
   ]
  },
  {
   "cell_type": "code",
   "execution_count": null,
   "id": "369fd423-5f90-48c7-a0fb-17fecb647534",
   "metadata": {},
   "outputs": [],
   "source": [
    "# Example: Convert RICs to ISINs\n",
    "# You can convert RICs to ISINs using the get_symbology function.\n",
    "print(ek.get_symbology(rics[:2],from_symbol_type='RIC',to_symbol_type='ISIN'))"
   ]
  },
  {
   "cell_type": "code",
   "execution_count": null,
   "id": "ee1714f0-b0f9-4f60-b40e-b56051e2aa2d",
   "metadata": {},
   "outputs": [],
   "source": [
    "# Example: Convert RICs to ISINs and tickers\n",
    "# You can convert RICs to ISINs and tickers using the get_symb\n",
    "print(ek.get_symbology(rics[:2],from_symbol_type='RIC',to_symbol_type=['ISIN','ticker']))\n",
    "print(ek.get_symbology(rics,from_symbol_type='RIC',to_symbol_type=['ISIN','ticker']))"
   ]
  },
  {
   "cell_type": "code",
   "execution_count": null,
   "id": "c76ab261-2d6f-4a8d-aa8a-5eb8ff199801",
   "metadata": {},
   "outputs": [],
   "source": [
    "###from SEDOL  to RICs or Others\n",
    "sedols=['B1YW440','0673123']\n",
    "print(ek.get_symbology(sedols,from_symbol_type='SEDOL',to_symbol_type=['RIC','ISIN','ticker']))\n",
    "##from ISINs to\n",
    "symbols=['US0378331005','US0231351067']\n",
    "ricex=ek.get_symbology(symbols,from_symbol_type='ISIN',to_symbol_type=['RIC'])\n",
    "ricex=list(ricex.RIC.values)\n",
    "print(ricex)\n"
   ]
  },
  {
   "cell_type": "code",
   "execution_count": null,
   "id": "d791d081-248d-41ff-b5e2-96a9375b42ad",
   "metadata": {},
   "outputs": [],
   "source": [
    "################################################################\n",
    "##retrieve the data for the list of RICs\n",
    "################################################################\n",
    "data=ek.get_timeseries(ricex, #the list of RICs\n",
    "                       fields='CLOSE', #close field\n",
    "                       start_date='2025-07-01', #start date\n",
    "                       end_date='2025-07-30')\n",
    "print(data.head())\n",
    "print(data.tail())\n",
    "print(data.info())\n",
    "print(data.describe())"
   ]
  },
  {
   "cell_type": "code",
   "execution_count": null,
   "id": "dbfa8d1a-61eb-40d9-b7ae-5b2343c8095c",
   "metadata": {},
   "outputs": [],
   "source": [
    "####draw normalized price time series\n",
    "data = (data-data.min())/(data.max()-data.min()) #Normalize the data\n",
    "print(data.columns)\n",
    "print(data.head())\n",
    "print(data.tail())\n",
    "print(data.describe())\n",
    "print(data.index)"
   ]
  },
  {
   "cell_type": "markdown",
   "id": "2d5e3c6e-fa52-4e47-878b-ce0c8f86681c",
   "metadata": {},
   "source": [
    "### You can use pyplot in matplotlib to draw a graph"
   ]
  },
  {
   "cell_type": "code",
   "execution_count": null,
   "id": "a39fc54e-045f-4406-b185-50019bf9ef9c",
   "metadata": {},
   "outputs": [],
   "source": [
    "import matplotlib.pyplot as plt\n",
    "from pandas.plotting import register_matplotlib_converters\n",
    "register_matplotlib_converters()\n",
    "\n",
    "y1=data['AAPL.O'].tolist() #to make a list\n",
    "y2=data['AMZN.O'].tolist()\n",
    "\n",
    "plt.figure() #define a new figure\n",
    "plt.plot(data.index, y1, linewidth=3,label='AAPL',color='blue') #define the line for AAPL\n",
    "plt.plot(data.index, y2, linewidth=3,label='AMZN',color='orange') #define the line for AMZN\n",
    "plt.xlabel('Date') #use label for X axis\n",
    "plt.xticks(rotation=90) #rotate x axis labels for better visibility\n",
    "plt.ylabel('Returns') #use label for Y axis\n",
    "plt.ylim(ymin=0) #specify y axis values to start from 0\n",
    "plt.legend() # Legend will be included using the labels defined in plt.plot()\n",
    "plt.show() #Show the figure"
   ]
  },
  {
   "cell_type": "code",
   "execution_count": null,
   "id": "500d570f-ce4a-4f58-a842-b73a8339538d",
   "metadata": {},
   "outputs": [],
   "source": [
    "##To fit a regression line between two stock returns\n",
    "# You can use seaborn's lmplot function to fit a linear regression line between two stock returns.\n",
    "import seaborn as sns\n",
    "\n",
    "#Draw a linear regression line between the returns of AMZN and AAPL\n",
    "sns.lmplot(x=\"AMZN.O\", y=\"AAPL.O\", data=data.astype(float), line_kws={'color':\"blue\"})"
   ]
  },
  {
   "cell_type": "code",
   "execution_count": null,
   "id": "0afe8eb3-fb2a-4307-8e88-fdfa9623073b",
   "metadata": {},
   "outputs": [],
   "source": [
    "###################################################################\n",
    "####get the data for the list of stocks\n",
    "print(ricex)\n",
    "###################################################################\n",
    "#Get multiple items (fields) data for a list of instruments\n",
    "data, err=ek.get_data(ricex,['TR.PriceClose','TR.Volume',\n",
    "                                'TR.PriceLow','TR.TotalReturnYTD',\n",
    "                                'TR.TotalReturn52WK',\n",
    "                                'TR.TotalReturn'])\n",
    "print(data)\n",
    "print(err)"
   ]
  },
  {
   "cell_type": "code",
   "execution_count": null,
   "id": "5ed9e221-7fd5-42fe-8faf-90bc8f737f42",
   "metadata": {},
   "outputs": [],
   "source": [
    "##find a subset and use Instrument as an index\n",
    "cols=['YTD Total Return','52 Week Total Return']\n",
    "# Define a new dataframe with 'Instrument' as the index \n",
    "# and only the specified columns\n",
    "df=data.set_index('Instrument')[cols]\n",
    "print(df.index)\n",
    "print(df.iloc[:,0])\n",
    "print(df)"
   ]
  },
  {
   "cell_type": "code",
   "execution_count": null,
   "id": "8f744ee1-6d25-4ea8-9fa3-ca83341fdc2d",
   "metadata": {},
   "outputs": [],
   "source": [
    "print(df.index) # Get the index of the dataframe\n",
    "print(df.head()) # Get the first 5 rows of the dataframe"
   ]
  },
  {
   "cell_type": "code",
   "execution_count": null,
   "id": "bbfa7c02-c171-4d5a-ab3a-5288734fdcea",
   "metadata": {},
   "outputs": [],
   "source": [
    "###draw bar graph using the dataframe, df\n",
    "df.plot(kind=\"bar\")\n",
    "plt.title(\"Total Returns\")\n",
    "plt.ylabel(\"Total Returns\")"
   ]
  },
  {
   "cell_type": "markdown",
   "id": "88aecf8f-ff63-43a3-9825-15806829472d",
   "metadata": {},
   "source": [
    "## Use screen to find a list of securities that satisfy the conditions\n",
    "\n",
    "Create RHistoryNote3W.xlsx data using API\n",
    "\n",
    "Using DIB of an equity (e.g., Samsung Electronics), find the data item to be\n",
    "used as a screening criterion\n"
   ]
  },
  {
   "cell_type": "code",
   "execution_count": null,
   "id": "7ad88cc3-6033-44bd-ba53-85788a567627",
   "metadata": {},
   "outputs": [],
   "source": [
    "#Define screen certeria\n",
    "exp = \"SCREEN(U(IN(Equity(active,public,primary))),\\\n",
    "     IN(TR.ExchangeMarketIdCode,\"\"XKRX\"\"),\\\n",
    "     TR.PE <= 10.0,\\\n",
    "     TR.TtlDebtToTtlEquityPct(Period=FY0) <= 100.0,\\\n",
    "     TR.EBITDAInterestCoverage(Period=FY0) >= 10.00,\\\n",
    "     CURN=KRW)\"\n",
    "#Define the fields to be retrieved\n",
    "fields = ['TR.COmmonName', 'TR.PE',\\\n",
    "          'TR.TtlDebtToTtlEquityPct(Period=FY0)','TR.EBITDAInterestCoverage(Period=FY0)'] \n",
    "\n",
    "# Get the data for the specified screen criteria and fields\n",
    "# The result will be stored in LowPEHead and any error in err\n",
    "LowPEHead, err = ek.get_data(exp, fields)\n",
    "\n",
    "print(LowPEHead.dtypes)\n",
    "print(LowPEHead.head())"
   ]
  },
  {
   "cell_type": "code",
   "execution_count": null,
   "id": "9ec5ff55-a4fe-4b5c-bd03-539a419abc51",
   "metadata": {},
   "outputs": [],
   "source": [
    "#change the column name from 'Instrument' to 'id'\n",
    "LowPEHead.rename(columns={'Instrument':'id'},inplace=True)\n",
    "\n",
    "print(LowPEHead)\n",
    "\n",
    "LowPEHead.to_feather('LowPEHeadKRX.ft')# save the data"
   ]
  },
  {
   "cell_type": "code",
   "execution_count": null,
   "id": "796592b7-8895-478b-9ecf-12a2b8783738",
   "metadata": {},
   "outputs": [],
   "source": [
    "##store the list of ids in the dataframe, LowPEHead to firms\n",
    "firms=list(LowPEHead.id)\n",
    "print(firms)"
   ]
  },
  {
   "cell_type": "markdown",
   "id": "dc93c7f6-30f6-40a0-8fd2-041aeb24734c",
   "metadata": {},
   "source": [
    "## Retrieve stock returns\n",
    "\n",
    "There are two ways to get stock returns\n",
    "\n",
    "One is to use return calculated by LSEG (e.g., TR.TotalReturn1Mo)\n",
    "\n",
    "The second way is to use return index (which adjusts for stock splits/stock dividends and dividends) to calculate returns."
   ]
  },
  {
   "cell_type": "code",
   "execution_count": null,
   "id": "c86e7c59-41ca-4f3b-b3db-29442fe130c9",
   "metadata": {},
   "outputs": [],
   "source": [
    "## Retrieve the data for the list of RICs\n",
    "## \"get_data\" is used with options to specify time period and intervals\n",
    "## TR.PriceClose adjust prices for stock splits: check below\n",
    "\n",
    "# Define the fields to be retrieved, spcifying the start and end dates, and frequency\n",
    "# The frequency is set to 'M' for monthly data\n",
    "# .calcdate and .date are used to get the calculation date and the date of the data\n",
    "# respectively, for the TotalReturn1Mo field\n",
    "\n",
    "fd =['TR.PriceClose(SDate=2020-01-31,EDate=2024-12-31,Frq=M)',\n",
    "     'TR.TotalReturn1Mo(SDate=2020-01-31,EDate=2024-12-31,Frq=M)',\n",
    "         'TR.TotalReturn1Mo(SDate=2020-01-31,EDate=2024-12-31,Frq=M).calcdate',\n",
    "         'TR.TotalReturn1Mo(SDate=2020-01-31,EDate=2024-12-31,Frq=M).date']\n",
    "dataKR, err=ek.get_data(firms,fields=fd)\n",
    "print(dataKR)\n",
    "print(dataKR.columns)\n",
    "print(dataKR.head())"
   ]
  },
  {
   "cell_type": "markdown",
   "id": "3f04ac17-3c4e-4797-8624-2a830fb9eeed",
   "metadata": {},
   "source": [
    "### Let's sort the data by 'Instrument' and 'Date'"
   ]
  },
  {
   "cell_type": "code",
   "execution_count": null,
   "id": "b534f67f-276e-4762-8161-1a87a539c21c",
   "metadata": {},
   "outputs": [],
   "source": [
    "#sort the data and replace the orignal data\n",
    "dataKR.sort_values(['Instrument','Date'],inplace=True) \n",
    "#reset the index and replace the original data\n",
    "dataKR.reset_index(drop=True,inplace=True)  \n",
    "\n",
    "# In the above, (drop=True (discard old index) and inplace=True (replace the old data))\n",
    "\n",
    "print(dataKR.head())\n",
    "print(dataKR[['Price Close','1 Month Total Return']].head())\n",
    "print(dataKR.columns)\n",
    "\n",
    "#save the data\n",
    "dataKR.to_feather('RHistory.ft')"
   ]
  },
  {
   "cell_type": "code",
   "execution_count": null,
   "id": "28624edf-0f94-4a41-bc05-84a0e1b5bee3",
   "metadata": {},
   "outputs": [],
   "source": [
    "# Print out the list of instruments after dropping duplicates    \n",
    "print(dataKR.Instrument.drop_duplicates())\n",
    "\n",
    "#print out a certain instrument's information\n",
    "print(dataKR[dataKR.Instrument=='000240.KS'])"
   ]
  },
  {
   "cell_type": "markdown",
   "id": "8851dee7-ef6e-4687-b735-d42894d89d34",
   "metadata": {},
   "source": [
    "#### Save the data into an excel file"
   ]
  },
  {
   "cell_type": "code",
   "execution_count": null,
   "id": "6ea7a8db-2f85-48f9-90b8-917529d67299",
   "metadata": {},
   "outputs": [],
   "source": [
    "import os\n",
    "os.getcwd() #find out the current working directory"
   ]
  },
  {
   "cell_type": "code",
   "execution_count": 43,
   "id": "92a734f8-4c11-4078-b673-bc6d534dae0d",
   "metadata": {},
   "outputs": [],
   "source": [
    "#Save the data to an Excel file\n",
    "# The sheet name is set to \"LowPEKRX\"\n",
    "dataKR.to_excel('RHistoryNote3W.xlsx',sheet_name=\"LowPEKRX\")"
   ]
  },
  {
   "cell_type": "markdown",
   "id": "ab7287b3-b2fa-46c5-ac94-f45c6b546d90",
   "metadata": {},
   "source": [
    "#### Use adjusted prices to calculated returns\n",
    "\n",
    "You can get the prices and convert them to returns\n",
    "\n",
    "Make sure that you get adjusted prices\n",
    "\n",
    "Here, we are using timeseries"
   ]
  },
  {
   "cell_type": "code",
   "execution_count": null,
   "id": "9e2f9d70-292f-42ac-985a-9d0fbbd6509b",
   "metadata": {},
   "outputs": [],
   "source": [
    "## Get the timeseries data for the specified RICs\n",
    "# Example: Get the close prices for the specified RICs from January 31, 2021, to December 31, 2024\n",
    "# The firms variable contains the list of RICs obtained from LowPEHead\n",
    "pdata=ek.get_timeseries(firms, #the list of RICs\n",
    "                       fields='CLOSE', #close field\n",
    "                       start_date='2020-01-31', #start date\n",
    "                       end_date='2024-12-31',\n",
    "                       count = None,\n",
    "                       interval='monthly',\n",
    "                       calendar = None, corax = 'adjusted',\n",
    "                       normalize = False, raw_output = False, debug = False)\n",
    "print(pdata.head())\n",
    "#Stack the data to convert it into a long format\n",
    "# This will create a multi-index dataframe with 'Instrument' and 'Date' as indices\n",
    "df1=pdata.stack().reset_index()"
   ]
  },
  {
   "cell_type": "code",
   "execution_count": null,
   "id": "99ecb5e5-bc0a-451c-916d-f3a989d259bf",
   "metadata": {},
   "outputs": [],
   "source": [
    "print(pdata.head())\n",
    "print(df1.head())"
   ]
  },
  {
   "cell_type": "code",
   "execution_count": null,
   "id": "797c8cc3-f7af-4821-aba5-7ccbda7098e7",
   "metadata": {},
   "outputs": [],
   "source": [
    "#Change the column names for better readability\n",
    "# Rename the columns to 'id' for Instrument and 'adjprc' for adjusted price\n",
    "df1.rename(columns={'CLOSE':'id',0:'adjprc'},inplace=True)\n",
    "print(df1)\n",
    "#Sort the data by 'id' and 'Date' and replace the original data\n",
    "df1.sort_values(['id','Date'],inplace=True)\n",
    "df1.reset_index(drop=True, inplace=True)\n",
    "print(df1.head())\n",
    "print(df1.columns)"
   ]
  },
  {
   "cell_type": "markdown",
   "id": "f8b62f31-a89f-4874-abf8-a5a7292c1071",
   "metadata": {},
   "source": [
    "#### Let's check whether the returns using adjusted prices are same as returns calculated by EIKON"
   ]
  },
  {
   "cell_type": "code",
   "execution_count": null,
   "id": "acfe9154-16c6-4b93-9904-034d07939b78",
   "metadata": {},
   "outputs": [],
   "source": [
    "print(dataKR.columns)\n",
    "print(df1.columns)\n",
    "print(dataKR.dtypes)\n",
    "print(df1.dtypes)"
   ]
  },
  {
   "cell_type": "code",
   "execution_count": null,
   "id": "f601e06b-340f-4443-ae19-a86cf585275f",
   "metadata": {},
   "outputs": [],
   "source": [
    "#change the format of Calc Date column to datetime format so that\n",
    "#the merge operation can be performed correctly using the same data format\n",
    "#of the columns used in the merge operation\n",
    "\n",
    "dataKR['Calc Date']=pd.to_datetime(dataKR['Calc Date']) \n",
    "test=pd.merge(dataKR.drop(columns=['Date']),df1,how='left',left_on=['Instrument','Calc Date'],\\\n",
    "              right_on=['id','Date'])\n",
    "#In the above, drop(columns=['Date']), drop the specified columns\n",
    "print(test)"
   ]
  },
  {
   "cell_type": "code",
   "execution_count": null,
   "id": "1c7b7615-daef-473a-ba47-1f20a34d75b1",
   "metadata": {},
   "outputs": [],
   "source": [
    "#Store only those rows that satisfy the conditions\n",
    "test1=test.loc[test['Price Close'].notnull() & test.adjprc.astype('float').notnull(),:].copy()\n",
    "#In the above, rows that satisfy the conditions are stored in test1\n",
    "\n",
    "print((test1['Price Close']-test1.adjprc.astype('float')).describe())"
   ]
  },
  {
   "cell_type": "markdown",
   "id": "9e4aafaf-4a1a-466d-b549-f4b70053d56f",
   "metadata": {},
   "source": [
    "### Check adjusted vs. unadjusted prices\n",
    "\n",
    "Check a case which experienced stock splits\n",
    "\n",
    "Samsung electronics which splitted stocks on May 11, 2018\n"
   ]
  },
  {
   "cell_type": "code",
   "execution_count": null,
   "id": "7d07a130-c3cd-4fc0-a528-b92bca9537cf",
   "metadata": {},
   "outputs": [],
   "source": [
    "# Get the adjusted and unadjusted close prices for Samsung Electronics\n",
    "# and store them in adp and unadp respectively\n",
    "# The adjusted prices are adjusted for stock splits and dividends\n",
    "adp=ek.get_timeseries('081660.KS', #the list of RICs\n",
    "                       fields='CLOSE', #close field\n",
    "                       start_date='2018-01-31', #start date\n",
    "                       end_date='2018-12-31',\n",
    "                       count = None,\n",
    "                       interval='monthly',\n",
    "                       calendar = None, corax = 'adjusted',\n",
    "                       normalize = False, raw_output = False, debug = False)\n",
    "unadp=ek.get_timeseries('081660.KS', #the list of RICs\n",
    "                       fields='CLOSE', #close field\n",
    "                       start_date='2018-01-31', #start date\n",
    "                       end_date='2018-12-31',\n",
    "                       count = None,\n",
    "                       interval='monthly',\n",
    "                       calendar = None, corax = 'unadjusted',\n",
    "                       normalize = False, raw_output = False, debug = False)\n",
    "# The fields to be retrieved, specifying the start and end dates, and frequency\n",
    "# The frequency is set to 'M' for monthly data\n",
    "fd =['TR.PriceClose(SDate=2018-01-31,EDate=2018-12-31,Frq=M)',\n",
    "         'TR.PriceClose(SDate=2018-01-31,EDate=2018-12-31,Frq=M).date']\n",
    "closep, err=ek.get_data('081660.KS',fields=fd)\n",
    "\n",
    "##compare to check whether TR.PriceClose is adjusted price or unadjusted price\n",
    "print(closep)\n",
    "print(adp)\n",
    "print(unadp)"
   ]
  },
  {
   "cell_type": "markdown",
   "id": "6d7fb391-c8a7-4acb-b62b-0a470590d9bb",
   "metadata": {},
   "source": [
    "### Let's get the US data"
   ]
  },
  {
   "cell_type": "code",
   "execution_count": null,
   "id": "651cb5b0-cd4a-4fe0-9fb8-7e2410ee565d",
   "metadata": {},
   "outputs": [],
   "source": [
    "#Specify the screening criteria for US stocks\n",
    "exp = \"SCREEN(U(IN(Equity(active,public,primary))),\\\n",
    "     IN(TR.ExchangeCountryCode,\"\"US\"\"),\\\n",
    "     IN(TR.ExchangeMarketIdCode,\"\"XNYS\"\"),\\\n",
    "     TR.PE <= 10.0,\\\n",
    "     TR.TotalDebtToEV <= 50.0,\\\n",
    "     CURN=USD)\"\n",
    "#Specify the fields to be retrieved\n",
    "fields = ['TR.COmmonName', 'TR.PE',\\\n",
    "          'TR.TotalDebtToEV'] \n",
    "# Get the data for the specified screen criteria and fields\n",
    "# The result will be stored in LowPEHeadUS and any error in err\n",
    "LowPEHeadUS, err = ek.get_data(exp, fields)\n",
    "\n",
    "print(LowPEHeadUS.columns)\n",
    "LowPEHeadUS.rename(columns={'Instrument':'id'},inplace=True)\n",
    "print(LowPEHeadUS)\n",
    "#save the data\n",
    "LowPEHeadUS.to_feather('LowPEHeadUS.ft')"
   ]
  },
  {
   "cell_type": "markdown",
   "id": "516b9eb5-a1e8-446e-91df-a8546776f58a",
   "metadata": {},
   "source": [
    "### Get the list of the stocks and retreive stock returns"
   ]
  },
  {
   "cell_type": "code",
   "execution_count": null,
   "id": "506b58aa-d966-4bee-a156-46055780781c",
   "metadata": {},
   "outputs": [],
   "source": [
    "#Get the list of ids from LowPEHeadUS\n",
    "# This will be used to retrieve the timeseries data for these firms\n",
    "firms=list(LowPEHeadUS.id)\n",
    "print(firms)\n",
    "\n",
    "#Specify the fields to be retrieved\n",
    "\n",
    "fd =['TR.PriceClose(SDate=2020-01-31,EDate=2024-12-31,Frq=M)',\n",
    "     'TR.TotalReturn1Mo(SDate=2020-01-31,EDate=2024-12-31,Frq=M)',\n",
    "         'TR.TotalReturn1Mo(SDate=2020-01-31,EDate=2024-12-31,Frq=M).calcdate',\n",
    "         'TR.TotalReturn1Mo(SDate=2020-01-31,EDate=2024-12-31,Frq=M).date']\n",
    "dataUS, err=ek.get_data(firms,fields=fd)\n",
    "\n",
    "print(dataUS.columns)\n",
    "#Sort the data by 'Instrument' and 'Date' and replace the original data\n",
    "dataUS.sort_values(['Instrument','Date'],inplace=True)\n",
    "#Reset the index and replace the original data\n",
    "dataUS.reset_index(drop=True,inplace=True)\n",
    "print(dataUS.head())\n",
    "print(dataUS.describe())"
   ]
  },
  {
   "cell_type": "markdown",
   "id": "887d4ee1-8f82-4e9b-a75d-bffb6b3a80b0",
   "metadata": {},
   "source": [
    "#### You can convert a string columns to a numeric column"
   ]
  },
  {
   "cell_type": "code",
   "execution_count": null,
   "id": "ce0ac5bf-2daa-44e0-b75a-94b86c71331e",
   "metadata": {},
   "outputs": [],
   "source": [
    "print(dataUS.dtypes)"
   ]
  },
  {
   "cell_type": "code",
   "execution_count": null,
   "id": "859b27a9-9b99-49d9-8db5-c18b5c2ad202",
   "metadata": {},
   "outputs": [],
   "source": [
    "# Convert the '1 Month Total Return' column to numeric type and call the column 'ret'\n",
    "# This will handle any non-numeric values by converting them to NaN\n",
    "dataUS['ret']=pd.to_numeric(dataUS['1 Month Total Return'], errors='coerce')\n",
    "dataUS.ret.describe()"
   ]
  },
  {
   "cell_type": "code",
   "execution_count": null,
   "id": "f4b75832-da2a-4a6e-9b9a-f008c3460e8d",
   "metadata": {},
   "outputs": [],
   "source": [
    "#Drop the '1 Month Total Return' column as it is no longer needed\n",
    "# This column has been converted to 'ret' and is no longer needed\n",
    "dataUS.drop(columns=['1 Month Total Return'],inplace=True)\n",
    "print(dataUS.dtypes)\n",
    "print(dataUS[['Price Close','ret']].head(50))\n",
    "\n",
    "#Save\n",
    "dataUS.to_feather('RHistoryESE.ft')\n",
    "print(dataUS.columns)\n",
    "\n",
    "#Save\n",
    "dataUS.to_feather('RHistory.ft')"
   ]
  },
  {
   "cell_type": "code",
   "execution_count": null,
   "id": "14b1bc9b-4265-4284-90a9-f34a0600e1de",
   "metadata": {},
   "outputs": [],
   "source": [
    "#List the unique instruments in the dataUS dataframe\n",
    "dataUS.Instrument.drop_duplicates().tolist()"
   ]
  },
  {
   "cell_type": "code",
   "execution_count": null,
   "id": "7eb18846-58eb-4fc4-9b19-b8945d87e7ed",
   "metadata": {},
   "outputs": [],
   "source": [
    "#Check an example\n",
    "print(dataUS.loc[dataUS.Instrument=='BDJ.N',['Date','Price Close']]) "
   ]
  },
  {
   "cell_type": "markdown",
   "id": "85dbf6c4-3076-4ef7-92b8-0bc95ec9bff9",
   "metadata": {},
   "source": [
    "### Save the data in to the excel file used above (different worksheet)"
   ]
  },
  {
   "cell_type": "code",
   "execution_count": null,
   "id": "f11f80af-9ca3-4471-a256-46240c4e0238",
   "metadata": {},
   "outputs": [],
   "source": [
    "#To add a worksheet to an existing excel file, use the following method\n",
    "\n",
    "#!pip install openpyxl\n",
    "import openpyxl\n",
    "#Check the version of openpyxl\n",
    "print(openpyxl.__version__)"
   ]
  },
  {
   "cell_type": "code",
   "execution_count": null,
   "id": "8be269a5-38a2-4375-a121-10d6401b0e92",
   "metadata": {},
   "outputs": [],
   "source": [
    "#To install or upgrade openpyxl, use the following command\n",
    "!pip install --upgrade openpyxl"
   ]
  },
  {
   "cell_type": "code",
   "execution_count": 61,
   "id": "ba0b7595-98dd-4dd1-a814-e89f4d40830c",
   "metadata": {},
   "outputs": [],
   "source": [
    "with pd.ExcelWriter('RHistoryNote3W.xlsx',engine='openpyxl', mode='a', if_sheet_exists='replace') as writer:  \n",
    "    dataUS.to_excel(writer, sheet_name='LowPEUS')"
   ]
  }
 ],
 "metadata": {
  "kernelspec": {
   "display_name": "base",
   "language": "python",
   "name": "python3"
  },
  "language_info": {
   "codemirror_mode": {
    "name": "ipython",
    "version": 3
   },
   "file_extension": ".py",
   "mimetype": "text/x-python",
   "name": "python",
   "nbconvert_exporter": "python",
   "pygments_lexer": "ipython3",
   "version": "3.11.5"
  }
 },
 "nbformat": 4,
 "nbformat_minor": 5
}
