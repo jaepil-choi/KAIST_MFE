{
 "cells": [
  {
   "cell_type": "markdown",
   "metadata": {},
   "source": [
    "# 채권분석 hw1\n",
    "\n"
   ]
  },
  {
   "cell_type": "code",
   "execution_count": 54,
   "metadata": {},
   "outputs": [],
   "source": [
    "import sympy as sp\n",
    "import numpy as np\n",
    "import math"
   ]
  },
  {
   "cell_type": "markdown",
   "metadata": {},
   "source": [
    "## Q3"
   ]
  },
  {
   "cell_type": "code",
   "execution_count": 2,
   "metadata": {},
   "outputs": [],
   "source": [
    "FV = 100 # 액면가\n",
    "P = 92.5067 # 딜러 요구 가격\n",
    "\n",
    "C_r = 0.08 # 쿠폰 이자율\n",
    "\n",
    "frequency = 2 # 6개월마다 쿠폰 지급\n",
    "maturity = 3 # 잔존만기 3년"
   ]
  },
  {
   "cell_type": "code",
   "execution_count": 3,
   "metadata": {},
   "outputs": [],
   "source": [
    "r = sp.symbols('r', real=True) # 채권의 수익률"
   ]
  },
  {
   "cell_type": "markdown",
   "metadata": {},
   "source": [
    "$$\n",
    "P = \\sum_{i=1}^{2\\times3}\\frac{C_{\\frac{1}{2}}}{(1+\\frac{r}{2})^i} + \\frac{FV}{(1+\\frac{r}{2})^6}\n",
    "$$"
   ]
  },
  {
   "cell_type": "code",
   "execution_count": 4,
   "metadata": {},
   "outputs": [
    {
     "data": {
      "text/plain": [
       "4.0"
      ]
     },
     "execution_count": 4,
     "metadata": {},
     "output_type": "execute_result"
    }
   ],
   "source": [
    "C_biannual = FV * C_r / frequency\n",
    "C_biannual"
   ]
  },
  {
   "cell_type": "code",
   "execution_count": 5,
   "metadata": {},
   "outputs": [
    {
     "data": {
      "text/latex": [
       "$\\displaystyle \\frac{4.0}{\\frac{r}{2} + 1} + \\frac{4.0}{\\left(\\frac{r}{2} + 1\\right)^{2}} + \\frac{4.0}{\\left(\\frac{r}{2} + 1\\right)^{3}} + \\frac{4.0}{\\left(\\frac{r}{2} + 1\\right)^{4}} + \\frac{4.0}{\\left(\\frac{r}{2} + 1\\right)^{5}} + \\frac{4.0}{\\left(\\frac{r}{2} + 1\\right)^{6}}$"
      ],
      "text/plain": [
       "4.0/(r/2 + 1) + 4.0/(r/2 + 1)**2 + 4.0/(r/2 + 1)**3 + 4.0/(r/2 + 1)**4 + 4.0/(r/2 + 1)**5 + 4.0/(r/2 + 1)**6"
      ]
     },
     "execution_count": 5,
     "metadata": {},
     "output_type": "execute_result"
    }
   ],
   "source": [
    "i = sp.symbols('i')\n",
    "coupon_sum = sp.Sum(C_biannual / (1 + r / frequency) ** i, (i, 1, frequency * maturity)).doit()\n",
    "coupon_sum"
   ]
  },
  {
   "cell_type": "code",
   "execution_count": 6,
   "metadata": {},
   "outputs": [
    {
     "data": {
      "text/latex": [
       "$\\displaystyle 92.5067 = \\frac{4.0}{\\frac{r}{2} + 1} + \\frac{4.0}{\\left(\\frac{r}{2} + 1\\right)^{2}} + \\frac{4.0}{\\left(\\frac{r}{2} + 1\\right)^{3}} + \\frac{4.0}{\\left(\\frac{r}{2} + 1\\right)^{4}} + \\frac{4.0}{\\left(\\frac{r}{2} + 1\\right)^{5}} + \\frac{104.0}{\\left(\\frac{r}{2} + 1\\right)^{6}}$"
      ],
      "text/plain": [
       "Eq(92.5067, 4.0/(r/2 + 1) + 4.0/(r/2 + 1)**2 + 4.0/(r/2 + 1)**3 + 4.0/(r/2 + 1)**4 + 4.0/(r/2 + 1)**5 + 104.0/(r/2 + 1)**6)"
      ]
     },
     "execution_count": 6,
     "metadata": {},
     "output_type": "execute_result"
    }
   ],
   "source": [
    "equation = sp.Eq(P, coupon_sum + FV / (1 + r / frequency) ** (frequency * maturity))\n",
    "equation"
   ]
  },
  {
   "cell_type": "code",
   "execution_count": 7,
   "metadata": {},
   "outputs": [
    {
     "data": {
      "text/plain": [
       "[-4.02559977557638, 0.110000019071145]"
      ]
     },
     "execution_count": 7,
     "metadata": {},
     "output_type": "execute_result"
    }
   ],
   "source": [
    "solution = sp.solve(equation, r)\n",
    "solution"
   ]
  },
  {
   "cell_type": "code",
   "execution_count": 8,
   "metadata": {},
   "outputs": [
    {
     "data": {
      "text/latex": [
       "$\\displaystyle 0.110000019071145$"
      ],
      "text/plain": [
       "0.110000019071145"
      ]
     },
     "execution_count": 8,
     "metadata": {},
     "output_type": "execute_result"
    }
   ],
   "source": [
    "ans = [s for s in solution if s.is_real and s >= 0][0]\n",
    "ans"
   ]
  },
  {
   "cell_type": "markdown",
   "metadata": {},
   "source": [
    "## Q4"
   ]
  },
  {
   "cell_type": "code",
   "execution_count": 21,
   "metadata": {},
   "outputs": [],
   "source": [
    "e = sp.E"
   ]
  },
  {
   "cell_type": "code",
   "execution_count": 46,
   "metadata": {},
   "outputs": [
    {
     "data": {
      "text/latex": [
       "$\\displaystyle 4.0 e^{- r} + 4.0 e^{- 2 r} + 4.0 e^{- 3 r} + 4.0 e^{- \\frac{r}{2}} + 4.0 e^{- \\frac{3 r}{2}} + 4.0 e^{- \\frac{5 r}{2}}$"
      ],
      "text/plain": [
       "4.0*exp(-r) + 4.0*exp(-2*r) + 4.0*exp(-3*r) + 4.0*exp(-r/2) + 4.0*exp(-3*r/2) + 4.0*exp(-5*r/2)"
      ]
     },
     "execution_count": 46,
     "metadata": {},
     "output_type": "execute_result"
    }
   ],
   "source": [
    "coupon_sum = sp.Sum(C_biannual / e**((i/frequency)*r), (i, 1, frequency * maturity)).doit()\n",
    "coupon_sum"
   ]
  },
  {
   "cell_type": "code",
   "execution_count": 47,
   "metadata": {},
   "outputs": [
    {
     "data": {
      "text/latex": [
       "$\\displaystyle 92.5067 = 100 e^{- 3.0 r} + 4.0 e^{- r} + 4.0 e^{- 2 r} + 4.0 e^{- 3 r} + 4.0 e^{- \\frac{r}{2}} + 4.0 e^{- \\frac{3 r}{2}} + 4.0 e^{- \\frac{5 r}{2}}$"
      ],
      "text/plain": [
       "Eq(92.5067, 100*exp(-3.0*r) + 4.0*exp(-r) + 4.0*exp(-2*r) + 4.0*exp(-3*r) + 4.0*exp(-r/2) + 4.0*exp(-3*r/2) + 4.0*exp(-5*r/2))"
      ]
     },
     "execution_count": 47,
     "metadata": {},
     "output_type": "execute_result"
    }
   ],
   "source": [
    "equation = sp.Eq(P, coupon_sum + FV / e**(r*(maturity*frequency/frequency)))\n",
    "equation"
   ]
  },
  {
   "cell_type": "code",
   "execution_count": 38,
   "metadata": {},
   "outputs": [],
   "source": [
    "# solution = sp.solve(equation, r)\n",
    "# solution"
   ]
  },
  {
   "cell_type": "code",
   "execution_count": 49,
   "metadata": {},
   "outputs": [
    {
     "data": {
      "text/latex": [
       "$\\displaystyle 0.107081551932975$"
      ],
      "text/plain": [
       "0.107081551932975"
      ]
     },
     "execution_count": 49,
     "metadata": {},
     "output_type": "execute_result"
    }
   ],
   "source": [
    "solution = sp.nsolve(equation, r, 0.10) # numeric solution으로 빠르게 찾는 법. 대신 어느 정도 근사값이 필요\n",
    "solution"
   ]
  },
  {
   "cell_type": "markdown",
   "metadata": {},
   "source": [
    "또는 이렇게 풀면 된다. \n",
    "\n",
    "3번에서 구한 연 2회 이산 복리를 연속 복리로 \"변환\""
   ]
  },
  {
   "cell_type": "code",
   "execution_count": 50,
   "metadata": {},
   "outputs": [
    {
     "data": {
      "text/latex": [
       "$\\displaystyle e^{r} = 1.11302502012006$"
      ],
      "text/plain": [
       "Eq(exp(r), 1.11302502012006)"
      ]
     },
     "execution_count": 50,
     "metadata": {},
     "output_type": "execute_result"
    }
   ],
   "source": [
    "equation = sp.Eq(e**r, (1+ans/frequency)**frequency)\n",
    "equation"
   ]
  },
  {
   "cell_type": "code",
   "execution_count": 51,
   "metadata": {},
   "outputs": [
    {
     "data": {
      "text/plain": [
       "[0.107081551932976]"
      ]
     },
     "execution_count": 51,
     "metadata": {},
     "output_type": "execute_result"
    }
   ],
   "source": [
    "sp.solve(equation, r)"
   ]
  },
  {
   "cell_type": "code",
   "execution_count": 55,
   "metadata": {},
   "outputs": [
    {
     "data": {
      "text/plain": [
       "0.10708155193297458"
      ]
     },
     "execution_count": 55,
     "metadata": {},
     "output_type": "execute_result"
    }
   ],
   "source": [
    "math.log((1+ans/frequency)**frequency)"
   ]
  },
  {
   "cell_type": "code",
   "execution_count": null,
   "metadata": {},
   "outputs": [],
   "source": []
  }
 ],
 "metadata": {
  "kernelspec": {
   "display_name": "sandbox311",
   "language": "python",
   "name": "python3"
  },
  "language_info": {
   "codemirror_mode": {
    "name": "ipython",
    "version": 3
   },
   "file_extension": ".py",
   "mimetype": "text/x-python",
   "name": "python",
   "nbconvert_exporter": "python",
   "pygments_lexer": "ipython3",
   "version": "3.11.5"
  }
 },
 "nbformat": 4,
 "nbformat_minor": 2
}
