{
 "cells": [
  {
   "cell_type": "markdown",
   "metadata": {},
   "source": [
    "# Yields"
   ]
  },
  {
   "cell_type": "code",
   "execution_count": 5,
   "metadata": {},
   "outputs": [],
   "source": [
    "import sympy as sp\n",
    "import numpy as np\n",
    "import math"
   ]
  },
  {
   "cell_type": "markdown",
   "metadata": {},
   "source": [
    "zero rates\n",
    "\n",
    "$$\n",
    "\n",
    "Pm = \\frac{FV}{(1+z)^T}\n",
    "\n",
    "$$"
   ]
  },
  {
   "cell_type": "markdown",
   "metadata": {},
   "source": [
    "$$\n",
    "\n",
    "z = (\\frac{FV}{Pm})^{1/T} - 1\n",
    "\n",
    "$$"
   ]
  },
  {
   "cell_type": "code",
   "execution_count": 3,
   "metadata": {},
   "outputs": [],
   "source": [
    "def get_zero_rate(Pm, T, FV=100):\n",
    "    z = (FV/Pm)**(1/T) - 1\n",
    "\n",
    "    return z"
   ]
  },
  {
   "cell_type": "markdown",
   "metadata": {},
   "source": [
    "forward rate\n",
    "$$\n",
    "\n",
    "(1+z_{n})^n = (1+z_{n-1})^{n-1} \\times (1+f_{n,1})\n",
    "\n",
    "$$"
   ]
  },
  {
   "cell_type": "code",
   "execution_count": 4,
   "metadata": {},
   "outputs": [],
   "source": [
    "def get_forward_from_zero(z_n, z_n_prev, n):\n",
    "    f = (1 + z_n)**n / (1 + z_n_prev)**(n-1) - 1\n",
    "\n",
    "    return f"
   ]
  },
  {
   "cell_type": "code",
   "execution_count": null,
   "metadata": {},
   "outputs": [],
   "source": []
  },
  {
   "cell_type": "code",
   "execution_count": 8,
   "metadata": {},
   "outputs": [],
   "source": [
    "def get_coupon_sum(C_r, maturity, frequency, FV=100):\n",
    "    i = sp.symbols('i')\n",
    "    r = sp.symbols('r', real=True) # 채권의 수익률\n",
    "    e = sp.E\n",
    "\n",
    "    C_1period = FV * C_r / frequency\n",
    "    coupon_sum = sp.Sum(C_1period / e**((i/frequency)*r), (i, 1, frequency * maturity)).doit()\n",
    "\n",
    "    return coupon_sum\n"
   ]
  },
  {
   "cell_type": "code",
   "execution_count": 9,
   "metadata": {},
   "outputs": [],
   "source": [
    "def get_bond_equation(PV, C_r, maturity, frequency, FV=100):\n",
    "    i = sp.symbols('i')\n",
    "    r = sp.symbols('r', real=True) # 채권의 수익률\n",
    "    e = sp.E\n",
    "\n",
    "    coupon_sum = get_coupon_sum(C_r, maturity, frequency, FV)\n",
    "    bond_equation = sp.Eq(PV, coupon_sum + FV / e**(r*(maturity*frequency/frequency)))\n",
    "\n",
    "    return bond_equation\n"
   ]
  },
  {
   "cell_type": "code",
   "execution_count": 19,
   "metadata": {},
   "outputs": [],
   "source": [
    "##TODO: Discrete sum 할 수 있도록 해야. e로 하면 continuous compounding. discrete, continuous 나눠줘야.\n",
    "\n"
   ]
  },
  {
   "cell_type": "code",
   "execution_count": 10,
   "metadata": {},
   "outputs": [],
   "source": [
    "FV = 100 # 액면가\n",
    "PV = 92.5067 # 딜러 요구 가격\n",
    "\n",
    "C_r = 0.08 # 쿠폰 이자율\n",
    "\n",
    "frequency = 2 # 6개월마다 쿠폰 지급\n",
    "maturity = 3 # 잔존만기 3년"
   ]
  },
  {
   "cell_type": "code",
   "execution_count": 13,
   "metadata": {},
   "outputs": [],
   "source": [
    "equation = get_bond_equation(PV, C_r, maturity, frequency, FV)\n",
    "init_r = 0.10\n",
    "\n",
    "r = sp.symbols('r', real=True) # 채권의 수익률\n",
    "\n",
    "solution = sp.nsolve(equation, r, init_r)"
   ]
  },
  {
   "cell_type": "code",
   "execution_count": 18,
   "metadata": {},
   "outputs": [
    {
     "data": {
      "text/latex": [
       "$\\displaystyle 100 = 100 e^{- 4.0 r} + 8.57 e^{- r} + 8.57 e^{- 2 r} + 8.57 e^{- 3 r} + 8.57 e^{- 4 r}$"
      ],
      "text/plain": [
       "Eq(100, 100*exp(-4.0*r) + 8.57*exp(-r) + 8.57*exp(-2*r) + 8.57*exp(-3*r) + 8.57*exp(-4*r))"
      ]
     },
     "execution_count": 18,
     "metadata": {},
     "output_type": "execute_result"
    }
   ],
   "source": [
    "get_bond_equation(100, 0.0857, 4, 1, 100)"
   ]
  },
  {
   "cell_type": "code",
   "execution_count": null,
   "metadata": {},
   "outputs": [],
   "source": []
  }
 ],
 "metadata": {
  "kernelspec": {
   "display_name": ".venv",
   "language": "python",
   "name": "python3"
  },
  "language_info": {
   "codemirror_mode": {
    "name": "ipython",
    "version": 3
   },
   "file_extension": ".py",
   "mimetype": "text/x-python",
   "name": "python",
   "nbconvert_exporter": "python",
   "pygments_lexer": "ipython3",
   "version": "3.10.11"
  }
 },
 "nbformat": 4,
 "nbformat_minor": 2
}
