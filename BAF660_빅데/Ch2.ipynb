{
 "cells": [
  {
   "cell_type": "markdown",
   "id": "348c32ea",
   "metadata": {},
   "source": [
    "ch2\n",
    "March 13, 2024"
   ]
  },
  {
   "cell_type": "code",
   "execution_count": null,
   "id": "4980bc20",
   "metadata": {},
   "outputs": [],
   "source": [
    "# [1]: Import basic libraries\n",
    "import pandas as pd\n",
    "import numpy as np\n",
    "import matplotlib.pyplot as plt"
   ]
  },
  {
   "cell_type": "markdown",
   "id": "668cd65b",
   "metadata": {},
   "source": [
    "[2]: Mount Google Drive (for Google Colab)\n",
    "from google.colab import drive\n",
    "drive.mount('/content/drive')\n",
    "Note: Drive already mounted at /content/drive; to forcibly remount, use:\n",
    "drive.mount(\"/content/drive\", force_remount=True)."
   ]
  },
  {
   "cell_type": "code",
   "execution_count": null,
   "id": "416539de",
   "metadata": {},
   "outputs": [],
   "source": [
    "# [3]: Load the dataset from an Excel file on Google Drive\n",
    "# datafile = '/content/drive/MyDrive/2024 DFMBA 빅데이터와 금융자료분석/data/ProcessedData.xlsx'\n",
    "datafile = 'data/ProcessedData.xlsx'\n",
    "dataset = pd.read_excel(datafile)"
   ]
  },
  {
   "cell_type": "code",
   "execution_count": null,
   "id": "d70fd6e9",
   "metadata": {},
   "outputs": [],
   "source": [
    "# [4]: Check the shape of the dataset\n",
    "dataset.shape\n",
    "# Expected output: (3866, 13)"
   ]
  },
  {
   "cell_type": "code",
   "execution_count": null,
   "id": "72702fa2",
   "metadata": {},
   "outputs": [],
   "source": [
    "# [5]: Display the first few rows of the dataset\n",
    "dataset.head()\n",
    "# Expected output (example):\n",
    "#    ID  AGE  EDUC  MARRIED  KIDS  LIFECL  OCCAT  RISK  HHOUSES  WSAVED\n",
    "# 0   1    3     2        1     0       2      1     3        1       1\n",
    "# 1   2    4     4        1     2       5      2     3        0       2\n",
    "# 2   3    3     1        1     2       3      2     2        1       2\n",
    "# 3   4    3     1        1     2       3      2     2        1       2\n",
    "# 4   5    4     3        1     1       5      1     2        1       3\n",
    "#\n",
    "# Additional columns:\n",
    "# SPENDMOR, NWCAT, INCCL"
   ]
  },
  {
   "cell_type": "markdown",
   "id": "71a44b07",
   "metadata": {},
   "source": [
    "# 개개인 투자성향 분석"
   ]
  },
  {
   "cell_type": "markdown",
   "id": "01c3870c",
   "metadata": {},
   "source": [
    "AGE 연령 1: 35세 미만 ~ 6: 75세 이상\n",
    "EDUC 학력 1: 고졸미만 ~ 4: 대졸\n",
    "MARRIED 결혼 1: 기혼 ~ 2: 미혼\n",
    "LIFECL ?? 1: 55세 미만, 미혼, 자녀없음 ~ 6: 55세 이상, 일하지 않음\n",
    "OCCAT 직업 1: 관리 ~ 4: 실업\n",
    "RISK 위험성향 1: 매우높음 ~ 4: 낮음\n",
    "HHOUSES\n",
    "WSAVED\n",
    "SPENDMOR 지출선호 1: 낮음 ~ 5: 높음\n",
    "NWCAT 순자산 1: 적음 ~ 5: 많음\n",
    "INCCL 소득 1: 적음 ~ 5: 많음"
   ]
  },
  {
   "cell_type": "markdown",
   "id": "1bdbd737",
   "metadata": {},
   "source": [
    "# 지금은 순서 있는 카테고리니 군집분석에서 도움될 수 있다. \n",
    "# 그러나 순서가 없는 카테고리는 군집분석에 도움이 되지 않는다. \n",
    "# 더미변수로 만들던지 제거하던지 해야 한다."
   ]
  },
  {
   "cell_type": "code",
   "execution_count": null,
   "id": "96a837ff",
   "metadata": {},
   "outputs": [],
   "source": [
    "# [6]: Check for any missing values in the dataset\n",
    "dataset.isnull().values.any()\n",
    "# Expected output: False"
   ]
  },
  {
   "cell_type": "code",
   "execution_count": null,
   "id": "537ace68",
   "metadata": {},
   "outputs": [],
   "source": [
    "# [7]: Remove the 'ID' column from the dataset to use as features\n",
    "X = dataset.drop(['ID'], axis=1) # 도움 안되는 feature. 반드시 제거해야 한다"
   ]
  },
  {
   "cell_type": "code",
   "execution_count": null,
   "id": "202c71b1",
   "metadata": {},
   "outputs": [],
   "source": [
    "# [8]: Standardize the data\n",
    "from sklearn.preprocessing import StandardScaler # 특성들을 표준화해주고 비교. \n",
    "scaler = StandardScaler()\n",
    "X_arr = scaler.fit_transform(X)\n",
    "X = pd.DataFrame(X_arr, columns=X.columns)"
   ]
  },
  {
   "cell_type": "code",
   "execution_count": null,
   "id": "41b92a9d",
   "metadata": {},
   "outputs": [],
   "source": [
    "# [9]: Compute the k-nearest neighbors (NN = 4) for each point\n",
    "from sklearn.neighbors import NearestNeighbors\n",
    "NN = 4\n",
    "neigh = NearestNeighbors(n_neighbors=NN)\n",
    "neigh.fit(X)\n",
    "distances, indices = neigh.kneighbors(X) # k번째 neighbors까지의 거리와 인덱스를 반환\n",
    "np.round(distances, decimals=3)\n",
    "# Expected output: An array of distances (first column zeros, subsequent columns show distances)"
   ]
  },
  {
   "cell_type": "code",
   "execution_count": null,
   "id": "0d382d11",
   "metadata": {},
   "outputs": [],
   "source": [
    "# [10]: Plot the sorted distances for the 4th nearest neighbor (to help choose ε)\n",
    "plt.figure(figsize=(5, 3))\n",
    "plt.plot(np.sort(distances[:, NN - 1]))\n",
    "plt.axhline(2.0, ls='--')\n",
    "# A horizontal line is drawn at 2.0 to help visualize the elbow\n",
    "## 적당히 elbow point에서 잘라 epsilon을 정해주면 된다.\n",
    "## 밀집된 것들이 core, 그 뒤에 있는 것들이 border/noise "
   ]
  },
  {
   "cell_type": "code",
   "execution_count": null,
   "id": "8e03befe",
   "metadata": {},
   "outputs": [],
   "source": [
    "# [11]: Plot sorted k-distance graphs for different NN values (from 4 to 8)\n",
    "plt.figure(figsize=(5, 3))\n",
    "for NN in range(4, 9):\n",
    "    neigh = NearestNeighbors(n_neighbors=NN)\n",
    "    neigh.fit(X)\n",
    "    distances, indices = neigh.kneighbors(X)\n",
    "    plt.plot(np.sort(distances[:, NN - 1]), label='NN:' + str(NN))\n",
    "plt.legend()\n",
    "# This plot helps compare the k-distance curves for different choices of NN"
   ]
  },
  {
   "cell_type": "code",
   "execution_count": null,
   "id": "3dc7badd",
   "metadata": {},
   "outputs": [],
   "source": [
    "# [12]: Perform DBSCAN clustering with ε=2.0 and min_samples=4\n",
    "from sklearn.cluster import DBSCAN\n",
    "db = DBSCAN(eps=2.0, min_samples=4).fit(X)\n",
    "df = X.copy()\n",
    "df['Label'] = db.labels_\n",
    "df['Label'].value_counts()\n",
    "# Expected output: Counts of each cluster label (e.g., clusters 0, 1, 2, etc., and noise as -1) # 노이즈가 -1!! "
   ]
  },
  {
   "cell_type": "code",
   "execution_count": null,
   "id": "8ee34906",
   "metadata": {},
   "outputs": [],
   "source": [
    "# [13]: Determine the maximum cluster label (number of clusters - 1)\n",
    "nc = np.max(db.labels_)\n",
    "nc\n",
    "# Expected output: 10 # 총 11개라는 말. "
   ]
  },
  {
   "cell_type": "code",
   "execution_count": null,
   "id": "62ff2b92",
   "metadata": {},
   "outputs": [],
   "source": [
    "# [14]: Calculate and display the mean values for each cluster\n",
    "clout = df.groupby('Label').mean() # 각 클러스터의 각 변수 평균을 보고 특성을 생각해본다. \n",
    "clout.round(decimals=2)\n",
    "# Expected output: A DataFrame showing the mean of each feature per cluster"
   ]
  },
  {
   "cell_type": "code",
   "execution_count": null,
   "id": "b3ad011e",
   "metadata": {},
   "outputs": [],
   "source": [
    "# [15]: Plot bar charts for selected features by cluster (first 7 clusters)\n",
    "clout[['AGE', 'EDUC', 'MARRIED', 'KIDS', 'LIFECL', 'OCCAT']][0:7].plot.bar(rot=0)\n",
    "# Expected output: Bar plot for the mentioned features"
   ]
  },
  {
   "cell_type": "code",
   "execution_count": null,
   "id": "ff562d40",
   "metadata": {},
   "outputs": [],
   "source": [
    "# [16]: Plot bar charts for additional features by cluster (first 7 clusters)\n",
    "clout[['HHOUSES', 'NWCAT', 'INCCL', 'WSAVED', 'SPENDMOR', 'RISK']][0:7].plot.bar(rot=0)\n",
    "# Expected output: Bar plot for the additional features"
   ]
  },
  {
   "cell_type": "markdown",
   "id": "fa0260f3",
   "metadata": {
    "lines_to_next_cell": 2
   },
   "source": [
    "# 그래프로 그려 각 특성을 확인해볼 수 있다. \n",
    "# 시각화 방법은 여러 가지가 있을 것이다. 내 생각은 축구선수처럼 육각형 영역으로 그리는게 더 보기 좋을 것 같다. \n",
    "# However, 절대적인 scale이 중요하지 않음을 기억. visualization 할 때도 고려해야. "
   ]
  },
  {
   "cell_type": "code",
   "execution_count": null,
   "id": "6d8b06c8",
   "metadata": {},
   "outputs": [],
   "source": [
    "# [17]: Apply t-SNE for dimensionality reduction to 2 components and add cluster labels\n",
    "## 시각화에 유용함. \n",
    "from sklearn.manifold import TSNE\n",
    "tsne = TSNE(n_components=2)\n",
    "df2dim = tsne.fit_transform(X)\n",
    "df2dim = pd.DataFrame(df2dim, columns=['t1', 't2'])\n",
    "df2dim['Labels'] = db.labels_\n",
    "df2dim.head()\n",
    "# Expected output: A DataFrame with columns 't1', 't2', and 'Labels'"
   ]
  },
  {
   "cell_type": "code",
   "execution_count": null,
   "id": "678d508b",
   "metadata": {},
   "outputs": [],
   "source": [
    "# [18]: Scatter plot of the t-SNE 2D embedding colored by DBSCAN cluster labels\n",
    "for k in range(-1, nc + 1):\n",
    "    plt.scatter(df2dim['t1'][db.labels_ == k],\n",
    "                df2dim['t2'][db.labels_ == k],\n",
    "                label='c: ' + str(k),\n",
    "                s=0.8)\n",
    "plt.legend()\n",
    "plt.xlim(-70, 120)\n",
    "# Expected output: A scatter plot with clusters and x-axis limits set"
   ]
  },
  {
   "cell_type": "code",
   "execution_count": null,
   "id": "c12fc9bc",
   "metadata": {},
   "outputs": [],
   "source": [
    "# [19]: Calculate the Sum of Squared Errors (SSE) for different KMeans cluster counts\n",
    "## 여기서부턴 클러스터링 평가의 문제제\n",
    "from sklearn.cluster import KMeans\n",
    "SSE = []\n",
    "max_loop = 20\n",
    "for k in range(2, max_loop):\n",
    "    kmeans = KMeans(n_clusters=k, n_init='auto')\n",
    "    kmeans.fit(X)\n",
    "    SSE.append(kmeans.inertia_)"
   ]
  },
  {
   "cell_type": "code",
   "execution_count": null,
   "id": "8d5d313d",
   "metadata": {},
   "outputs": [],
   "source": [
    "# [20]: Plot the SSE values to visualize the \"elbow\" for optimal KMeans clustering\n",
    "fig = plt.figure(figsize=(6, 4))\n",
    "plt.plot(range(2, max_loop), SSE, 'bo-')\n",
    "# Expected output: An elbow plot for KMeans"
   ]
  },
  {
   "cell_type": "code",
   "execution_count": null,
   "id": "47c6786d",
   "metadata": {},
   "outputs": [],
   "source": [
    "# [21]: Perform KMeans clustering with 9 clusters and add the labels to the DataFrame\n",
    "km = KMeans(n_clusters=9, n_init='auto')\n",
    "km.fit(X)\n",
    "df['Label_km'] = km.labels_"
   ]
  },
  {
   "cell_type": "code",
   "execution_count": null,
   "id": "adfb8858",
   "metadata": {},
   "outputs": [],
   "source": [
    "# [22]: Display the first few rows of the DataFrame with KMeans labels (rounded)\n",
    "df.head().round(2)\n",
    "# Expected output: DataFrame head with new column 'Label_km'"
   ]
  },
  {
   "cell_type": "code",
   "execution_count": null,
   "id": "b45e5b9e",
   "metadata": {
    "lines_to_next_cell": 1
   },
   "outputs": [],
   "source": [
    "# [23]: Import silhouette metrics for cluster evaluation\n",
    "from sklearn.metrics import silhouette_score, silhouette_samples"
   ]
  },
  {
   "cell_type": "code",
   "execution_count": null,
   "id": "a69eb608",
   "metadata": {
    "lines_to_next_cell": 1
   },
   "outputs": [],
   "source": [
    "# [24]: Define a function to plot the silhouette scores for a given clustering\n",
    "def plot_silhouette(X, clusters):\n",
    "    silhouette_avg = np.round(silhouette_score(X, clusters), decimals=3)\n",
    "    sample_silhouette_values = silhouette_samples(X, clusters)\n",
    "    \n",
    "    fig, ax = plt.subplots()\n",
    "    y_lower = 10\n",
    "    \n",
    "    for i in np.unique(clusters):\n",
    "        cluster_silhouette_values = sample_silhouette_values[clusters == i]\n",
    "        cluster_silhouette_values.sort()\n",
    "    \n",
    "        size_cluster_i = cluster_silhouette_values.shape[0]\n",
    "        y_upper = y_lower + size_cluster_i\n",
    "    \n",
    "        ax.fill_betweenx(np.arange(y_lower, y_upper),\n",
    "                         0, cluster_silhouette_values,\n",
    "                         alpha=0.7)\n",
    "    \n",
    "        ax.text(-0.05, y_lower + 0.5 * size_cluster_i, str(i))\n",
    "        y_lower = y_upper + 10\n",
    "    \n",
    "    ax.axvline(x=silhouette_avg, color=\"red\", linestyle=\"--\")\n",
    "    ax.set_yticks([])\n",
    "    ax.set_xticks([-0.1, 0, 0.2, 0.4, 0.6, 0.8, 1])\n",
    "    ax.set_xlabel(\"Silhouette Coefficient Values\")\n",
    "    ax.set_ylabel(\"Cluster Label\")\n",
    "    \n",
    "    plt.title(\"Silhouette Score: {}\".format(silhouette_avg))\n",
    "    plt.show()"
   ]
  },
  {
   "cell_type": "code",
   "execution_count": null,
   "id": "afb894f0",
   "metadata": {},
   "outputs": [],
   "source": [
    "# [25]: Plot the silhouette for the DBSCAN clustering\n",
    "plot_silhouette(X, df['Label'])"
   ]
  },
  {
   "cell_type": "code",
   "execution_count": null,
   "id": "4e3bd167",
   "metadata": {},
   "outputs": [],
   "source": [
    "# [26]: Plot the silhouette for the KMeans clustering\n",
    "## 근데 elbow가 거의 없는 것처럼 나오는 애매한 경우들도 있다. \n",
    "## 이러면 그냥 t-SNE 보고 고르는 것도 방법. \n",
    "plot_silhouette(X, df['Label_km'])"
   ]
  }
 ],
 "metadata": {
  "jupytext": {
   "cell_metadata_filter": "-all",
   "main_language": "python",
   "notebook_metadata_filter": "-all"
  }
 },
 "nbformat": 4,
 "nbformat_minor": 5
}
