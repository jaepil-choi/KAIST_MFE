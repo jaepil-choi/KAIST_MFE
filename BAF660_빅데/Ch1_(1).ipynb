{
 "cells": [
  {
   "cell_type": "code",
   "execution_count": null,
   "id": "81c01653",
   "metadata": {},
   "outputs": [],
   "source": [
    "# [1]\n",
    "import pandas as pd\n",
    "import numpy as np\n",
    "\n",
    "missdict = {\n",
    "    'f1': [1, 2, 3, 4, 5, 6, 7, 8, 9, 10],\n",
    "    'f2': [10., None, 20., 30., None, 50., 60., 70., 80., 90.],\n",
    "    'f3': ['A', 'A', 'A', 'A', 'B', 'B', 'B', 'B', 'C', 'C']\n",
    "}\n",
    "missdata = pd.DataFrame(missdict)\n",
    "missdata.info()"
   ]
  },
  {
   "cell_type": "code",
   "execution_count": null,
   "id": "cbc05514",
   "metadata": {},
   "outputs": [],
   "source": [
    "# [2]\n",
    "missdata.isna().mean()"
   ]
  },
  {
   "cell_type": "code",
   "execution_count": null,
   "id": "66201efc",
   "metadata": {},
   "outputs": [],
   "source": [
    "# [3]\n",
    "tmpdata1 = missdata.dropna()\n",
    "tmpdata1"
   ]
  },
  {
   "cell_type": "code",
   "execution_count": null,
   "id": "a855b3f1",
   "metadata": {},
   "outputs": [],
   "source": [
    "# [4]\n",
    "tmpdata2 = missdata.dropna(subset=['f3'])\n",
    "tmpdata2"
   ]
  },
  {
   "cell_type": "code",
   "execution_count": null,
   "id": "eba265dd",
   "metadata": {},
   "outputs": [],
   "source": [
    "# [5]\n",
    "numdata = missdata.select_dtypes(include=['int64', 'float64'])\n",
    "tmpdata3 = numdata.fillna(-999, inplace=False)\n",
    "tmpdata3.describe()"
   ]
  },
  {
   "cell_type": "code",
   "execution_count": null,
   "id": "78a2bff8",
   "metadata": {},
   "outputs": [],
   "source": [
    "# [6]\n",
    "numdata.mean()"
   ]
  },
  {
   "cell_type": "code",
   "execution_count": null,
   "id": "7a7184fa",
   "metadata": {},
   "outputs": [],
   "source": [
    "# [7]\n",
    "tmpdata4 = numdata.fillna(numdata.mean(), inplace=False)\n",
    "tmpdata4"
   ]
  },
  {
   "cell_type": "code",
   "execution_count": null,
   "id": "a43e53bd",
   "metadata": {},
   "outputs": [],
   "source": [
    "# [8]\n",
    "missdata.groupby('f3')['f2'].mean()"
   ]
  },
  {
   "cell_type": "code",
   "execution_count": null,
   "id": "77a057e0",
   "metadata": {},
   "outputs": [],
   "source": [
    "# [9]\n",
    "missdata.groupby('f3')['f2'].transform('mean')"
   ]
  },
  {
   "cell_type": "code",
   "execution_count": null,
   "id": "540527b5",
   "metadata": {},
   "outputs": [],
   "source": [
    "# [10]\n",
    "tmpdata5 = numdata.copy()\n",
    "tmpdata5['f2'].fillna(missdata.groupby('f3')['f2'].transform('mean'), inplace=True)\n",
    "tmpdata5"
   ]
  },
  {
   "cell_type": "code",
   "execution_count": null,
   "id": "9936ec27",
   "metadata": {},
   "outputs": [],
   "source": [
    "# [11]\n",
    "missdata_tr = missdata.dropna()\n",
    "x_tr = missdata_tr[['f1']]\n",
    "y_tr = missdata_tr['f2']\n",
    "\n",
    "from sklearn.linear_model import LinearRegression\n",
    "model = LinearRegression()\n",
    "model.fit(x_tr, y_tr)\n",
    "\n",
    "missdata_ts = missdata[missdata.isnull().any(axis=1)]\n",
    "x_ts = missdata_ts[['f1']]\n",
    "\n",
    "predicted_values = model.predict(x_ts)\n",
    "tmpdata6 = missdata.copy()\n",
    "tmpdata6.loc[tmpdata6['f2'].isnull(), 'f2'] = predicted_values\n",
    "tmpdata6"
   ]
  },
  {
   "cell_type": "code",
   "execution_count": null,
   "id": "fa28f678",
   "metadata": {},
   "outputs": [],
   "source": [
    "# [12]\n",
    "missdata_num = missdata.copy()\n",
    "missdata_num['f3'] = missdata_num['f3'].map({'A': 1, 'B': 2, 'C': 3})"
   ]
  },
  {
   "cell_type": "code",
   "execution_count": null,
   "id": "b1de6100",
   "metadata": {},
   "outputs": [],
   "source": [
    "# [13]\n",
    "missdata_num"
   ]
  },
  {
   "cell_type": "code",
   "execution_count": null,
   "id": "f29cb2fd",
   "metadata": {},
   "outputs": [],
   "source": [
    "# [14]\n",
    "from sklearn.impute import KNNImputer\n",
    "imputer = KNNImputer(n_neighbors=2)"
   ]
  },
  {
   "cell_type": "code",
   "execution_count": null,
   "id": "4763b2b9",
   "metadata": {},
   "outputs": [],
   "source": [
    "# [15]\n",
    "tmpdata7 = imputer.fit_transform(missdata_num)\n",
    "pd.DataFrame(tmpdata7)"
   ]
  },
  {
   "cell_type": "code",
   "execution_count": null,
   "id": "672fc14d",
   "metadata": {},
   "outputs": [],
   "source": [
    "# [16]\n",
    "outdict = {\n",
    "    'A': [10, 0.02, 0.3, 40, 50, 60, 712, 80, 90, 1003],\n",
    "    'B': [0.05, 0.00015, 25, 35, 45, 205, 65, 75, 85, 3905]\n",
    "}\n",
    "outdata = pd.DataFrame(outdict)\n",
    "Q1 = outdata.quantile(0.25)\n",
    "Q3 = outdata.quantile(0.75)\n",
    "IQR = Q3 - Q1\n",
    "lower_bound = Q1 - 1.5 * IQR\n",
    "upper_bound = Q3 + 1.5 * IQR\n",
    "\n",
    "((outdata < lower_bound) | (outdata > upper_bound))"
   ]
  },
  {
   "cell_type": "code",
   "execution_count": null,
   "id": "a0d2d97f",
   "metadata": {},
   "outputs": [],
   "source": [
    "# [17]\n",
    "outliers = ((outdata < lower_bound) | (outdata > upper_bound)).any(axis=1)\n",
    "outliersdata = outdata[outliers]\n",
    "outliersdata"
   ]
  },
  {
   "cell_type": "code",
   "execution_count": null,
   "id": "39464215",
   "metadata": {},
   "outputs": [],
   "source": [
    "# [18]\n",
    "standardizeddata = (outdata - outdata.mean()) / outdata.std()\n",
    "standardizeddata"
   ]
  },
  {
   "cell_type": "code",
   "execution_count": null,
   "id": "94282af2",
   "metadata": {},
   "outputs": [],
   "source": [
    "# [19]\n",
    "outliers2 = ((standardizeddata < -3) | (standardizeddata > 3)).any(axis=1)\n",
    "outliersdata2 = outdata[outliers2]\n",
    "outliersdata2"
   ]
  },
  {
   "cell_type": "code",
   "execution_count": null,
   "id": "0b65e0db",
   "metadata": {},
   "outputs": [],
   "source": [
    "# [20]\n",
    "import matplotlib.pyplot as plt\n",
    "np.random.seed(42)\n",
    "X_inliers = 0.3 * np.random.randn(100, 2)\n",
    "X_outliers = np.random.uniform(low=-4, high=4, size=(20, 2))\n",
    "X = np.r_[X_inliers + 2, X_inliers - 2, X_outliers]\n",
    "\n",
    "plt.figure(figsize=(5, 4))\n",
    "plt.scatter(X[:, 0], X[:, 1], color='k', s=20)"
   ]
  },
  {
   "cell_type": "code",
   "execution_count": null,
   "id": "d4630217",
   "metadata": {},
   "outputs": [],
   "source": [
    "# [21]\n",
    "from sklearn.neighbors import LocalOutlierFactor\n",
    "clf = LocalOutlierFactor(n_neighbors=20, contamination=0.1)\n",
    "y_pred = clf.fit_predict(X)  # 1: inlier, -1: outlier\n",
    "outlier_mask = y_pred == -1\n",
    "\n",
    "plt.figure(figsize=(5, 4))\n",
    "plt.scatter(X[:, 0], X[:, 1], color='b', s=20, label='Inliers')\n",
    "plt.scatter(X[outlier_mask, 0], X[outlier_mask, 1], color='r', s=50, label='Outliers')\n",
    "plt.xlabel(\"Feature 1\")\n",
    "plt.ylabel(\"Feature 2\")\n",
    "plt.legend()"
   ]
  },
  {
   "cell_type": "code",
   "execution_count": null,
   "id": "22fd7523",
   "metadata": {},
   "outputs": [],
   "source": [
    "# [22]\n",
    "from sklearn.ensemble import IsolationForest\n",
    "clf2 = IsolationForest(contamination=0.1)\n",
    "# contamination: 이상치 비율\n",
    "# n_estimators: 트리 개수 (default = 100)\n",
    "# max_features: 각 트리에서 사용할 최대 feature 개수 (default = 1)\n",
    "# max_samples: 각 트리에서 사용할 최대 sample 개수 (default = 'auto' --> min(256, n_samples) )\n",
    "\n",
    "clf2.fit(X)\n",
    "y_pred2 = clf2.predict(X)  # 1: inlier, -1: outlier\n",
    "outlier_mask2 = y_pred2 == -1\n",
    "\n",
    "plt.figure(figsize=(5, 4))\n",
    "plt.scatter(X[:, 0], X[:, 1], color='b', s=20, label='Inliers')\n",
    "plt.scatter(X[outlier_mask2, 0], X[outlier_mask2, 1], color='r', s=50, label='Outliers')\n",
    "plt.xlabel(\"Feature 1\")\n",
    "plt.ylabel(\"Feature 2\")\n",
    "plt.legend()"
   ]
  }
 ],
 "metadata": {
  "jupytext": {
   "cell_metadata_filter": "-all",
   "main_language": "python",
   "notebook_metadata_filter": "-all"
  }
 },
 "nbformat": 4,
 "nbformat_minor": 5
}
