{
 "cells": [
  {
   "cell_type": "markdown",
   "metadata": {},
   "source": [
    "# 자계추 hw1: Create dataset\n",
    "\n",
    "- `compustat_permno`와 `CRSP_M` 사용\n",
    "    - SAS 코드 따라가며 python으로 포팅. \n",
    "- 최종 결과인 `Assignment1_data` 를 만들기 \n",
    "    - 최종 결과는 permno/date 순으로 정렬하여 first 25 obs 를 보일 것. \n",
    "    - month of December for year 1970, 1980, 1990, 2000, 2010에 대하여 아래를 report:\n",
    "        - number of distinct permnos\n",
    "        - mean/std/min/max of the monthly delisting-adjusted excess returns \n"
   ]
  },
  {
   "cell_type": "markdown",
   "metadata": {},
   "source": [
    "## Lecture Note에서 기억할 내용들\n",
    "\n",
    "- Compustat vs CRSP\n",
    "    - Compustat\n",
    "        - id: `GVKEY`, `DATADATE`\n",
    "        - owner: S&P Global \n",
    "    - CRSP\n",
    "        - id: `PERMNO` (and `PERMCO`)\n",
    "        - owner: University of Chicago Booth School of Business\n",
    "    - `CCMXPF_LNKUSED` CCM 즉, merged table을 사용"
   ]
  },
  {
   "cell_type": "markdown",
   "metadata": {},
   "source": [
    "## 가이드\n",
    "- SAS log 확인하며 중간중간 단계에서 같은 결과가 나오는지 확인해라. \n",
    "    - shape check\n",
    "- sample data는 정답지. 최종적으로 output이 일치하는지 확인. \n",
    "- SAS 를 파이썬으로 옮겨준 코드도 참고하기. \n",
    "    - summary statistics 등 뽑는거는 본인 코드 있으면 그거 쓰기. "
   ]
  },
  {
   "cell_type": "markdown",
   "metadata": {},
   "source": [
    "## 질문했던 것들\n",
    "\n",
    "- long table vs wide table \n",
    "    - 왜 굳이 wide 안쓰고 long 써서 각종 문제가 생기게 하는지... permno를 1개만 만들어놓을 수 있다면 그냥 그걸 가지고 pivot table 하고나면 그 다음엔 ffill 등이 훨씬 용이해 짐. \n",
    "    - 이 wide를 하고 shift를 쓰는 것을 교수님도 말하심. missing date 찐빠가 날 일이 없음. 그냥 그 자리에 NaN이 차고 말지. \n",
    "    - 교수님이 말씀하시는 단점:\n",
    "        - RDBMS 관점에서 비효율적임 \n",
    "        - 테이블이 너무 많이 생김. 그 부분 비효율도 생각해라. "
   ]
  },
  {
   "cell_type": "markdown",
   "metadata": {},
   "source": [
    "## SAS --> Python 포팅"
   ]
  },
  {
   "cell_type": "markdown",
   "metadata": {},
   "source": [
    "- SAS1: Connect WRDS from your PC\n",
    "    - Get stock data (CRSP)\n",
    "    - Get event data (CRSP)\n",
    "    - Merge stock & event data\n",
    "    - Remove duplicates (by permno, date)\n",
    "    - House Cleaning\n",
    "- SAS2: Define libs & macro variables\n",
    "    - SAS 코드의 주석 참고. compustat 데이터에서 WHERE 로 조건 넣어 필터링함. \n",
    "        - 금융주 제외\n",
    "        - standardized report만 쓰고 (?)\n",
    "        - domestic report만 쓰고 \n",
    "        - consolidated report (연결재무제표)만 쓴다. "
   ]
  },
  {
   "cell_type": "code",
   "execution_count": 36,
   "metadata": {},
   "outputs": [],
   "source": [
    "import pandas as pd\n",
    "import numpy as np\n",
    "import matplotlib.pyplot as plt\n",
    "import seaborn as sns\n",
    "\n",
    "from pathlib import Path"
   ]
  },
  {
   "cell_type": "markdown",
   "metadata": {},
   "source": [
    "## Load datasets"
   ]
  },
  {
   "cell_type": "code",
   "execution_count": 37,
   "metadata": {},
   "outputs": [],
   "source": [
    "CWD = Path('.').resolve()\n",
    "DATA_DIR = CWD / 'data'"
   ]
  },
  {
   "cell_type": "code",
   "execution_count": null,
   "metadata": {},
   "outputs": [],
   "source": [
    "CRSP_M_df = pd.read_csv(DATA_DIR / 'CRSP_M.csv')\n",
    "compustat_df = pd.read_csv(DATA_DIR / 'compustat_permno.csv') \n",
    "sample_df = pd.read_csv(DATA_DIR / 'assignment1_sample_data.csv')"
   ]
  },
  {
   "cell_type": "markdown",
   "metadata": {},
   "source": [
    "### CRSP"
   ]
  },
  {
   "cell_type": "code",
   "execution_count": 39,
   "metadata": {},
   "outputs": [
    {
     "data": {
      "text/plain": [
       "Index(['DATE', 'DLSTCD', 'PERMNO', 'SHRCD', 'EXCHCD', 'SICCD', 'DLRET',\n",
       "       'PERMCO', 'PRC', 'VOL', 'RET', 'SHROUT', 'ALTPRC', 'rf'],\n",
       "      dtype='object')"
      ]
     },
     "execution_count": 39,
     "metadata": {},
     "output_type": "execute_result"
    }
   ],
   "source": [
    "CRSP_M_df.columns"
   ]
  },
  {
   "cell_type": "code",
   "execution_count": 40,
   "metadata": {},
   "outputs": [
    {
     "data": {
      "text/plain": [
       "(2921193, 14)"
      ]
     },
     "execution_count": 40,
     "metadata": {},
     "output_type": "execute_result"
    }
   ],
   "source": [
    "CRSP_M_df.shape"
   ]
  },
  {
   "cell_type": "code",
   "execution_count": 41,
   "metadata": {},
   "outputs": [
    {
     "name": "stdout",
     "output_type": "stream",
     "text": [
      "<class 'pandas.core.frame.DataFrame'>\n",
      "RangeIndex: 2921193 entries, 0 to 2921192\n",
      "Data columns (total 14 columns):\n",
      " #   Column  Dtype  \n",
      "---  ------  -----  \n",
      " 0   DATE    int64  \n",
      " 1   DLSTCD  float64\n",
      " 2   PERMNO  int64  \n",
      " 3   SHRCD   int64  \n",
      " 4   EXCHCD  int64  \n",
      " 5   SICCD   float64\n",
      " 6   DLRET   float64\n",
      " 7   PERMCO  int64  \n",
      " 8   PRC     float64\n",
      " 9   VOL     float64\n",
      " 10  RET     float64\n",
      " 11  SHROUT  float64\n",
      " 12  ALTPRC  float64\n",
      " 13  rf      float64\n",
      "dtypes: float64(9), int64(5)\n",
      "memory usage: 312.0 MB\n"
     ]
    }
   ],
   "source": [
    "CRSP_M_df.info()"
   ]
  },
  {
   "cell_type": "code",
   "execution_count": 43,
   "metadata": {},
   "outputs": [
    {
     "data": {
      "text/plain": [
       "23088"
      ]
     },
     "execution_count": 43,
     "metadata": {},
     "output_type": "execute_result"
    }
   ],
   "source": [
    "CRSP_M_df['PERMNO'].nunique()"
   ]
  },
  {
   "cell_type": "code",
   "execution_count": 132,
   "metadata": {},
   "outputs": [
    {
     "data": {
      "text/plain": [
       "22567"
      ]
     },
     "execution_count": 132,
     "metadata": {},
     "output_type": "execute_result"
    }
   ],
   "source": [
    "CRSP_M_df['PERMCO'].nunique()"
   ]
  },
  {
   "cell_type": "code",
   "execution_count": 133,
   "metadata": {},
   "outputs": [
    {
     "data": {
      "text/plain": [
       "0"
      ]
     },
     "execution_count": 133,
     "metadata": {},
     "output_type": "execute_result"
    }
   ],
   "source": [
    "# Is date-permno unique?\n",
    "CRSP_M_df[['DATE', 'PERMNO']].duplicated().sum() # Yes"
   ]
  },
  {
   "cell_type": "code",
   "execution_count": 134,
   "metadata": {},
   "outputs": [
    {
     "data": {
      "text/plain": [
       "array([ 1,  2,  3, 33, 32, 31], dtype=int64)"
      ]
     },
     "execution_count": 134,
     "metadata": {},
     "output_type": "execute_result"
    }
   ],
   "source": [
    "CRSP_M_df['EXCHCD'].unique() # 이미 필터는 처리 되어있다. "
   ]
  },
  {
   "cell_type": "markdown",
   "metadata": {},
   "source": [
    "그래도 아래 따로 filter 구현. "
   ]
  },
  {
   "cell_type": "code",
   "execution_count": 135,
   "metadata": {},
   "outputs": [],
   "source": [
    "# filters\n",
    "\n",
    "filter_common_stocks = [10, 11] # SHRCD\n",
    "filter_exchange = [ # EXCHCD\n",
    "    1, 31, # NYSE\n",
    "    2, 32, # AMEX\n",
    "    3, 33, # NASDAQ\n",
    "]"
   ]
  },
  {
   "cell_type": "markdown",
   "metadata": {},
   "source": [
    "plots"
   ]
  },
  {
   "cell_type": "code",
   "execution_count": 136,
   "metadata": {},
   "outputs": [],
   "source": [
    "# TODO: Stock Exchange Composition을 groupby 사용하여 만들기. 별도 column에 NYSE, AMEX, NASDAQ, Other 표시\n",
    "# TODO: Number of stocks 로 한 번, Market Cap으로 한 번 plot"
   ]
  },
  {
   "cell_type": "code",
   "execution_count": 137,
   "metadata": {},
   "outputs": [],
   "source": [
    "# apply filters\n",
    "\n",
    "CRSP_M_df = CRSP_M_df[ CRSP_M_df['SHRCD'].isin(filter_common_stocks) ]\n",
    "CRSP_M_df = CRSP_M_df[ CRSP_M_df['EXCHCD'].isin(filter_exchange) ]"
   ]
  },
  {
   "cell_type": "code",
   "execution_count": 138,
   "metadata": {},
   "outputs": [
    {
     "data": {
      "text/plain": [
       "(2921193, 14)"
      ]
     },
     "execution_count": 138,
     "metadata": {},
     "output_type": "execute_result"
    }
   ],
   "source": [
    "CRSP_M_df.shape"
   ]
  },
  {
   "cell_type": "code",
   "execution_count": 139,
   "metadata": {},
   "outputs": [
    {
     "data": {
      "text/html": [
       "<div>\n",
       "<style scoped>\n",
       "    .dataframe tbody tr th:only-of-type {\n",
       "        vertical-align: middle;\n",
       "    }\n",
       "\n",
       "    .dataframe tbody tr th {\n",
       "        vertical-align: top;\n",
       "    }\n",
       "\n",
       "    .dataframe thead th {\n",
       "        text-align: right;\n",
       "    }\n",
       "</style>\n",
       "<table border=\"1\" class=\"dataframe\">\n",
       "  <thead>\n",
       "    <tr style=\"text-align: right;\">\n",
       "      <th></th>\n",
       "      <th>DATE</th>\n",
       "      <th>DLSTCD</th>\n",
       "      <th>PERMNO</th>\n",
       "      <th>SHRCD</th>\n",
       "      <th>EXCHCD</th>\n",
       "      <th>SICCD</th>\n",
       "      <th>DLRET</th>\n",
       "      <th>PERMCO</th>\n",
       "      <th>PRC</th>\n",
       "      <th>VOL</th>\n",
       "      <th>RET</th>\n",
       "      <th>SHROUT</th>\n",
       "      <th>ALTPRC</th>\n",
       "      <th>rf</th>\n",
       "    </tr>\n",
       "  </thead>\n",
       "  <tbody>\n",
       "    <tr>\n",
       "      <th>0</th>\n",
       "      <td>19610131</td>\n",
       "      <td>NaN</td>\n",
       "      <td>10006</td>\n",
       "      <td>10</td>\n",
       "      <td>1</td>\n",
       "      <td>3740.0</td>\n",
       "      <td>NaN</td>\n",
       "      <td>22156</td>\n",
       "      <td>50.25</td>\n",
       "      <td>939.0</td>\n",
       "      <td>0.322368</td>\n",
       "      <td>1420.0</td>\n",
       "      <td>50.25</td>\n",
       "      <td>0.0019</td>\n",
       "    </tr>\n",
       "    <tr>\n",
       "      <th>1</th>\n",
       "      <td>19610131</td>\n",
       "      <td>NaN</td>\n",
       "      <td>10014</td>\n",
       "      <td>10</td>\n",
       "      <td>1</td>\n",
       "      <td>3710.0</td>\n",
       "      <td>NaN</td>\n",
       "      <td>22157</td>\n",
       "      <td>4.00</td>\n",
       "      <td>395.0</td>\n",
       "      <td>0.000000</td>\n",
       "      <td>2504.0</td>\n",
       "      <td>4.00</td>\n",
       "      <td>0.0019</td>\n",
       "    </tr>\n",
       "    <tr>\n",
       "      <th>2</th>\n",
       "      <td>19610131</td>\n",
       "      <td>NaN</td>\n",
       "      <td>10030</td>\n",
       "      <td>10</td>\n",
       "      <td>1</td>\n",
       "      <td>3310.0</td>\n",
       "      <td>NaN</td>\n",
       "      <td>22160</td>\n",
       "      <td>41.75</td>\n",
       "      <td>280.0</td>\n",
       "      <td>0.087948</td>\n",
       "      <td>1627.0</td>\n",
       "      <td>41.75</td>\n",
       "      <td>0.0019</td>\n",
       "    </tr>\n",
       "    <tr>\n",
       "      <th>3</th>\n",
       "      <td>19610131</td>\n",
       "      <td>NaN</td>\n",
       "      <td>10057</td>\n",
       "      <td>11</td>\n",
       "      <td>1</td>\n",
       "      <td>3540.0</td>\n",
       "      <td>NaN</td>\n",
       "      <td>20020</td>\n",
       "      <td>54.00</td>\n",
       "      <td>152.0</td>\n",
       "      <td>0.142857</td>\n",
       "      <td>500.0</td>\n",
       "      <td>54.00</td>\n",
       "      <td>0.0019</td>\n",
       "    </tr>\n",
       "    <tr>\n",
       "      <th>4</th>\n",
       "      <td>19610131</td>\n",
       "      <td>NaN</td>\n",
       "      <td>10102</td>\n",
       "      <td>10</td>\n",
       "      <td>1</td>\n",
       "      <td>2810.0</td>\n",
       "      <td>NaN</td>\n",
       "      <td>22164</td>\n",
       "      <td>79.50</td>\n",
       "      <td>480.0</td>\n",
       "      <td>0.032468</td>\n",
       "      <td>3965.0</td>\n",
       "      <td>79.50</td>\n",
       "      <td>0.0019</td>\n",
       "    </tr>\n",
       "  </tbody>\n",
       "</table>\n",
       "</div>"
      ],
      "text/plain": [
       "       DATE  DLSTCD  PERMNO  SHRCD  EXCHCD   SICCD  DLRET  PERMCO    PRC  \\\n",
       "0  19610131     NaN   10006     10       1  3740.0    NaN   22156  50.25   \n",
       "1  19610131     NaN   10014     10       1  3710.0    NaN   22157   4.00   \n",
       "2  19610131     NaN   10030     10       1  3310.0    NaN   22160  41.75   \n",
       "3  19610131     NaN   10057     11       1  3540.0    NaN   20020  54.00   \n",
       "4  19610131     NaN   10102     10       1  2810.0    NaN   22164  79.50   \n",
       "\n",
       "     VOL       RET  SHROUT  ALTPRC      rf  \n",
       "0  939.0  0.322368  1420.0   50.25  0.0019  \n",
       "1  395.0  0.000000  2504.0    4.00  0.0019  \n",
       "2  280.0  0.087948  1627.0   41.75  0.0019  \n",
       "3  152.0  0.142857   500.0   54.00  0.0019  \n",
       "4  480.0  0.032468  3965.0   79.50  0.0019  "
      ]
     },
     "execution_count": 139,
     "metadata": {},
     "output_type": "execute_result"
    }
   ],
   "source": [
    "CRSP_M_df.head()"
   ]
  },
  {
   "cell_type": "markdown",
   "metadata": {},
   "source": [
    "### compustat"
   ]
  },
  {
   "cell_type": "code",
   "execution_count": 140,
   "metadata": {},
   "outputs": [
    {
     "data": {
      "text/plain": [
       "Index(['gvkey', 'datadate', 'itcb', 'pstk', 'pstkl', 'pstkrv', 'seq', 'txdb',\n",
       "       'permno', 'permco'],\n",
       "      dtype='object')"
      ]
     },
     "execution_count": 140,
     "metadata": {},
     "output_type": "execute_result"
    }
   ],
   "source": [
    "compustat_df.columns"
   ]
  },
  {
   "cell_type": "code",
   "execution_count": 141,
   "metadata": {},
   "outputs": [
    {
     "data": {
      "text/plain": [
       "(434269, 10)"
      ]
     },
     "execution_count": 141,
     "metadata": {},
     "output_type": "execute_result"
    }
   ],
   "source": [
    "compustat_df.shape"
   ]
  },
  {
   "cell_type": "code",
   "execution_count": 142,
   "metadata": {},
   "outputs": [
    {
     "name": "stdout",
     "output_type": "stream",
     "text": [
      "<class 'pandas.core.frame.DataFrame'>\n",
      "RangeIndex: 434269 entries, 0 to 434268\n",
      "Data columns (total 10 columns):\n",
      " #   Column    Non-Null Count   Dtype  \n",
      "---  ------    --------------   -----  \n",
      " 0   gvkey     434269 non-null  int64  \n",
      " 1   datadate  434269 non-null  int64  \n",
      " 2   itcb      353075 non-null  float64\n",
      " 3   pstk      382566 non-null  float64\n",
      " 4   pstkl     383753 non-null  float64\n",
      " 5   pstkrv    381640 non-null  float64\n",
      " 6   seq       375039 non-null  float64\n",
      " 7   txdb      358326 non-null  float64\n",
      " 8   permno    264450 non-null  float64\n",
      " 9   permco    264450 non-null  float64\n",
      "dtypes: float64(8), int64(2)\n",
      "memory usage: 33.1 MB\n"
     ]
    }
   ],
   "source": [
    "compustat_df.info()"
   ]
  },
  {
   "cell_type": "code",
   "execution_count": 143,
   "metadata": {},
   "outputs": [
    {
     "data": {
      "text/plain": [
       "35553"
      ]
     },
     "execution_count": 143,
     "metadata": {},
     "output_type": "execute_result"
    }
   ],
   "source": [
    "compustat_df['gvkey'].nunique()"
   ]
  },
  {
   "cell_type": "code",
   "execution_count": 144,
   "metadata": {},
   "outputs": [
    {
     "data": {
      "text/plain": [
       "23853"
      ]
     },
     "execution_count": 144,
     "metadata": {},
     "output_type": "execute_result"
    }
   ],
   "source": [
    "compustat_df['permno'].nunique()"
   ]
  },
  {
   "cell_type": "code",
   "execution_count": 145,
   "metadata": {},
   "outputs": [
    {
     "data": {
      "text/plain": [
       "23349"
      ]
     },
     "execution_count": 145,
     "metadata": {},
     "output_type": "execute_result"
    }
   ],
   "source": [
    "compustat_df['permco'].nunique()"
   ]
  },
  {
   "cell_type": "markdown",
   "metadata": {},
   "source": [
    "datadate는 fiscal year end date이다. "
   ]
  },
  {
   "cell_type": "code",
   "execution_count": 146,
   "metadata": {},
   "outputs": [
    {
     "data": {
      "text/plain": [
       "169195"
      ]
     },
     "execution_count": 146,
     "metadata": {},
     "output_type": "execute_result"
    }
   ],
   "source": [
    "# Is date-permno unique?\n",
    "compustat_df[['datadate', 'permno']].duplicated().sum() # No"
   ]
  },
  {
   "cell_type": "code",
   "execution_count": 147,
   "metadata": {},
   "outputs": [
    {
     "data": {
      "text/plain": [
       "2089"
      ]
     },
     "execution_count": 147,
     "metadata": {},
     "output_type": "execute_result"
    }
   ],
   "source": [
    "# Is date-gvkey unique?\n",
    "compustat_df[['datadate', 'gvkey']].duplicated().sum() # No\n",
    "\n",
    "## 수업시간에 다룬 내용. non-unique한 이유는 기업이 fiscal year을 바꾸거나 할 경우 두 데이터가 동시에 존재할 수 있기 때문이다. \n"
   ]
  },
  {
   "cell_type": "code",
   "execution_count": 148,
   "metadata": {},
   "outputs": [],
   "source": [
    "# compustat_df.dropna(subset=['permno'], inplace=True) \n",
    "# permno 없는 row 여기서 삭제하는게 맞으나, 이걸 해주면 아래에서 row 수가 달라져서 검증 불가하기에 일단 놔둠. "
   ]
  },
  {
   "cell_type": "code",
   "execution_count": 149,
   "metadata": {},
   "outputs": [
    {
     "data": {
      "text/html": [
       "<div>\n",
       "<style scoped>\n",
       "    .dataframe tbody tr th:only-of-type {\n",
       "        vertical-align: middle;\n",
       "    }\n",
       "\n",
       "    .dataframe tbody tr th {\n",
       "        vertical-align: top;\n",
       "    }\n",
       "\n",
       "    .dataframe thead th {\n",
       "        text-align: right;\n",
       "    }\n",
       "</style>\n",
       "<table border=\"1\" class=\"dataframe\">\n",
       "  <thead>\n",
       "    <tr style=\"text-align: right;\">\n",
       "      <th></th>\n",
       "      <th>gvkey</th>\n",
       "      <th>datadate</th>\n",
       "      <th>itcb</th>\n",
       "      <th>pstk</th>\n",
       "      <th>pstkl</th>\n",
       "      <th>pstkrv</th>\n",
       "      <th>seq</th>\n",
       "      <th>txdb</th>\n",
       "      <th>permno</th>\n",
       "      <th>permco</th>\n",
       "    </tr>\n",
       "  </thead>\n",
       "  <tbody>\n",
       "    <tr>\n",
       "      <th>0</th>\n",
       "      <td>1000</td>\n",
       "      <td>19611231</td>\n",
       "      <td>0.0</td>\n",
       "      <td>NaN</td>\n",
       "      <td>0.0</td>\n",
       "      <td>NaN</td>\n",
       "      <td>NaN</td>\n",
       "      <td>0.000</td>\n",
       "      <td>NaN</td>\n",
       "      <td>NaN</td>\n",
       "    </tr>\n",
       "    <tr>\n",
       "      <th>1</th>\n",
       "      <td>1000</td>\n",
       "      <td>19621231</td>\n",
       "      <td>NaN</td>\n",
       "      <td>0.0</td>\n",
       "      <td>0.0</td>\n",
       "      <td>NaN</td>\n",
       "      <td>NaN</td>\n",
       "      <td>NaN</td>\n",
       "      <td>NaN</td>\n",
       "      <td>NaN</td>\n",
       "    </tr>\n",
       "    <tr>\n",
       "      <th>2</th>\n",
       "      <td>1000</td>\n",
       "      <td>19631231</td>\n",
       "      <td>0.0</td>\n",
       "      <td>0.0</td>\n",
       "      <td>0.0</td>\n",
       "      <td>0.0</td>\n",
       "      <td>0.553</td>\n",
       "      <td>0.008</td>\n",
       "      <td>NaN</td>\n",
       "      <td>NaN</td>\n",
       "    </tr>\n",
       "    <tr>\n",
       "      <th>3</th>\n",
       "      <td>1000</td>\n",
       "      <td>19641231</td>\n",
       "      <td>0.0</td>\n",
       "      <td>0.0</td>\n",
       "      <td>0.0</td>\n",
       "      <td>0.0</td>\n",
       "      <td>0.607</td>\n",
       "      <td>0.020</td>\n",
       "      <td>NaN</td>\n",
       "      <td>NaN</td>\n",
       "    </tr>\n",
       "    <tr>\n",
       "      <th>4</th>\n",
       "      <td>1000</td>\n",
       "      <td>19651231</td>\n",
       "      <td>0.0</td>\n",
       "      <td>0.0</td>\n",
       "      <td>0.0</td>\n",
       "      <td>0.0</td>\n",
       "      <td>0.491</td>\n",
       "      <td>0.000</td>\n",
       "      <td>NaN</td>\n",
       "      <td>NaN</td>\n",
       "    </tr>\n",
       "  </tbody>\n",
       "</table>\n",
       "</div>"
      ],
      "text/plain": [
       "   gvkey  datadate  itcb  pstk  pstkl  pstkrv    seq   txdb  permno  permco\n",
       "0   1000  19611231   0.0   NaN    0.0     NaN    NaN  0.000     NaN     NaN\n",
       "1   1000  19621231   NaN   0.0    0.0     NaN    NaN    NaN     NaN     NaN\n",
       "2   1000  19631231   0.0   0.0    0.0     0.0  0.553  0.008     NaN     NaN\n",
       "3   1000  19641231   0.0   0.0    0.0     0.0  0.607  0.020     NaN     NaN\n",
       "4   1000  19651231   0.0   0.0    0.0     0.0  0.491  0.000     NaN     NaN"
      ]
     },
     "execution_count": 149,
     "metadata": {},
     "output_type": "execute_result"
    }
   ],
   "source": [
    "compustat_df.head()"
   ]
  },
  {
   "cell_type": "markdown",
   "metadata": {},
   "source": [
    "Null인 데이터가 꽤 보인다. "
   ]
  },
  {
   "cell_type": "markdown",
   "metadata": {},
   "source": [
    "CRSP, Compustat date 를 살펴보자"
   ]
  },
  {
   "cell_type": "code",
   "execution_count": 150,
   "metadata": {},
   "outputs": [
    {
     "data": {
      "text/plain": [
       "1475444    19910531\n",
       "1268333    19880630\n",
       "2902577    20120731\n",
       "2292368    20010731\n",
       "1309082    19890131\n",
       "2754409    20090630\n",
       "464425     19751031\n",
       "2750292    20090529\n",
       "483752     19760227\n",
       "582008     19771031\n",
       "Name: DATE, dtype: int64"
      ]
     },
     "execution_count": 150,
     "metadata": {},
     "output_type": "execute_result"
    }
   ],
   "source": [
    "CRSP_M_df['DATE'].sample(10)"
   ]
  },
  {
   "cell_type": "code",
   "execution_count": 151,
   "metadata": {},
   "outputs": [
    {
     "data": {
      "text/plain": [
       "89193     19811231\n",
       "205311    19841231\n",
       "86059     19781231\n",
       "108055    19781231\n",
       "83682     19771231\n",
       "43984     19811130\n",
       "46767     19781231\n",
       "19692     19660831\n",
       "407352    20041231\n",
       "190221    19721231\n",
       "Name: datadate, dtype: int64"
      ]
     },
     "execution_count": 151,
     "metadata": {},
     "output_type": "execute_result"
    }
   ],
   "source": [
    "compustat_df['datadate'].sample(10) # fiscal end date"
   ]
  },
  {
   "cell_type": "markdown",
   "metadata": {},
   "source": [
    "## SAS 3\n",
    "\n",
    "Construct BE data"
   ]
  },
  {
   "cell_type": "markdown",
   "metadata": {},
   "source": [
    "### Merge CRSP-Compustat using CCM\n",
    "\n",
    "- pk\n",
    "    - crsp: [DATE, PERMNO]\n",
    "    - compustat: [datadate, gvkey]\n",
    "        - compustat 테이블에 ccm을 통해 생성한 permno 있음. 이를 기준으로 join"
   ]
  },
  {
   "cell_type": "markdown",
   "metadata": {},
   "source": [
    "** 질문: 왜 (inner join 안쓰고) LEFT JOIN 쓰는지?  right table인 CRSP에 데이터 없으면 분석 불가한거 아닌가? **"
   ]
  },
  {
   "cell_type": "markdown",
   "metadata": {},
   "source": [
    "```\n",
    "* Add permno and permco to BE data using the link-used table;\n",
    "* The nobs might increase because a firm can be matched to multiple permno's; \n",
    "proc sql; \n",
    " create table compustat_permno  \n",
    " as select distinct a.*, b.upermno as permno, b.upermco as permco  \n",
    " from compustat as a \n",
    " left join my_lib.ccmxpf_lnkused  \n",
    "  ( keep = ugvkey upermno upermco ulinkdt ulinkenddt usedflag ulinktype  \n",
    "  where = (usedflag = 1 and ulinktype in (\"LU\",\"LC\")) ) as b \n",
    " on a.gvkey = b.ugvkey \n",
    " and (b.ulinkdt <= a.datadate or missing(b.ulinkdt) = 1) \n",
    " and (a.datadate <= b.ulinkenddt or missing(b.ulinkenddt) = 1) \n",
    " order by a.datadate, a.gvkey; \n",
    "quit;\n",
    "proc sort data = compustat_permno; by gvkey datadate; run;\n",
    "```"
   ]
  },
  {
   "cell_type": "markdown",
   "metadata": {},
   "source": [
    "위 merge는 지금 주어진 CRSP, Compustat 테이블로 한게 아님. "
   ]
  },
  {
   "cell_type": "code",
   "execution_count": 152,
   "metadata": {},
   "outputs": [],
   "source": [
    "df = pd.merge(\n",
    "    left=compustat_df, \n",
    "    right=CRSP_M_df, \n",
    "    left_on=['datadate', 'permno'], \n",
    "    right_on=['DATE', 'PERMNO'],\n",
    "    how='left',\n",
    "    )"
   ]
  },
  {
   "cell_type": "code",
   "execution_count": 153,
   "metadata": {},
   "outputs": [],
   "source": [
    "df.sort_values(by=['gvkey', 'datadate'], inplace=True)"
   ]
  },
  {
   "cell_type": "code",
   "execution_count": 154,
   "metadata": {},
   "outputs": [
    {
     "data": {
      "text/plain": [
       "169195"
      ]
     },
     "execution_count": 154,
     "metadata": {},
     "output_type": "execute_result"
    }
   ],
   "source": [
    "df[ ['permno', 'datadate'] ].duplicated().sum() # compustat쪽 "
   ]
  },
  {
   "cell_type": "code",
   "execution_count": 155,
   "metadata": {},
   "outputs": [
    {
     "data": {
      "text/plain": [
       "277527"
      ]
     },
     "execution_count": 155,
     "metadata": {},
     "output_type": "execute_result"
    }
   ],
   "source": [
    "df[ ['DATE', 'PERMNO'] ].duplicated().sum() # crsp쪽. merge 전엔 중복이 없었는데, merge 후 중복이 생겼다."
   ]
  },
  {
   "cell_type": "code",
   "execution_count": 156,
   "metadata": {},
   "outputs": [
    {
     "data": {
      "text/plain": [
       "156741"
      ]
     },
     "execution_count": 156,
     "metadata": {},
     "output_type": "execute_result"
    }
   ],
   "source": [
    "(df['DATE'] == df['datadate']).sum()"
   ]
  },
  {
   "cell_type": "code",
   "execution_count": 157,
   "metadata": {},
   "outputs": [
    {
     "data": {
      "text/plain": [
       "277528"
      ]
     },
     "execution_count": 157,
     "metadata": {},
     "output_type": "execute_result"
    }
   ],
   "source": [
    "df['DATE'].isnull().sum()"
   ]
  },
  {
   "cell_type": "code",
   "execution_count": 158,
   "metadata": {},
   "outputs": [
    {
     "data": {
      "text/plain": [
       "0"
      ]
     },
     "execution_count": 158,
     "metadata": {},
     "output_type": "execute_result"
    }
   ],
   "source": [
    "df['datadate'].isnull().sum()"
   ]
  },
  {
   "cell_type": "code",
   "execution_count": 159,
   "metadata": {},
   "outputs": [
    {
     "data": {
      "text/plain": [
       "(434269, 24)"
      ]
     },
     "execution_count": 159,
     "metadata": {},
     "output_type": "execute_result"
    }
   ],
   "source": [
    "df.shape # NOTE: Table WORK.COMPUSTAT_PERMNO created, with 434269 rows and 10 columns."
   ]
  },
  {
   "cell_type": "markdown",
   "metadata": {},
   "source": [
    "```SAS\n",
    "* Calculate BE; \n",
    "data BE; \n",
    "set compustat_permno (where = (missing(permno) = 0)); \n",
    "year = year(datadate); \n",
    "```"
   ]
  },
  {
   "cell_type": "code",
   "execution_count": 160,
   "metadata": {},
   "outputs": [
    {
     "data": {
      "text/plain": [
       "264450"
      ]
     },
     "execution_count": 160,
     "metadata": {},
     "output_type": "execute_result"
    }
   ],
   "source": [
    "len( df.dropna(subset=['permno'], inplace=False) ) # left에 대해서만 수행해주면 됨. right는 애초에 없으면 붙지 않았음. \n",
    "\n",
    "    # NOTE: There were 264450 observations read from the data set\n",
    "    #   WORK.COMPUSTAT_PERMNO.\n",
    "    #   WHERE MISSING(permno)=0;"
   ]
  },
  {
   "cell_type": "code",
   "execution_count": 161,
   "metadata": {},
   "outputs": [],
   "source": [
    "# 위를 보면 그냥 permno만 dropna 해주는게 숫자가 맞는 것 같은데... \n",
    "# datadate, DATE, PERMNO가 null인 경우도 빼줘야 하는거 아닌가? \n",
    "\n",
    "df.dropna(subset=['permno'], inplace=True)"
   ]
  },
  {
   "cell_type": "code",
   "execution_count": 162,
   "metadata": {},
   "outputs": [],
   "source": [
    "# 이 부분, join 문제라 생각해 내가 임의로 넣은 부분임. 이게 문제인가? \n",
    "\n",
    "# df.dropna(subet=['datadate', 'DATE', 'permno', 'PERMNO'], how='any', inplace=True) # key가 없는 row들 삭제"
   ]
  },
  {
   "cell_type": "code",
   "execution_count": 163,
   "metadata": {},
   "outputs": [
    {
     "data": {
      "text/plain": [
       "264450"
      ]
     },
     "execution_count": 163,
     "metadata": {},
     "output_type": "execute_result"
    }
   ],
   "source": [
    "len(df)"
   ]
  },
  {
   "cell_type": "code",
   "execution_count": 164,
   "metadata": {},
   "outputs": [],
   "source": [
    "# 날짜 만들기 \n",
    "df['YEAR'] = df['DATE'] // 10000 # int로 된 연도\n",
    "df['pd_DATE'] = pd.to_datetime(df['DATE'], format='%Y%m%d') # 원래 SAS코드에는 없는, pd용 datetime\n"
   ]
  },
  {
   "cell_type": "code",
   "execution_count": 165,
   "metadata": {},
   "outputs": [
    {
     "data": {
      "text/plain": [
       "Index(['gvkey', 'datadate', 'itcb', 'pstk', 'pstkl', 'pstkrv', 'seq', 'txdb',\n",
       "       'permno', 'permco', 'DATE', 'DLSTCD', 'PERMNO', 'SHRCD', 'EXCHCD',\n",
       "       'SICCD', 'DLRET', 'PERMCO', 'PRC', 'VOL', 'RET', 'SHROUT', 'ALTPRC',\n",
       "       'rf', 'YEAR', 'pd_DATE'],\n",
       "      dtype='object')"
      ]
     },
     "execution_count": 165,
     "metadata": {},
     "output_type": "execute_result"
    }
   ],
   "source": [
    "df.columns"
   ]
  },
  {
   "cell_type": "markdown",
   "metadata": {},
   "source": [
    "```\n",
    "if missing(ITCB) then ITCB = 0; * investment tax credit; \n",
    "```"
   ]
  },
  {
   "cell_type": "code",
   "execution_count": 166,
   "metadata": {},
   "outputs": [],
   "source": [
    "# ITCB(Investment Tax Credit Balance): 없는 경우 0으로\n",
    "# 이건 없는 경우가 많다고 함. 없는 회사를 다 뺄 수는 없으니 0으로. \n",
    "\n",
    "df['itcb'] = df['itcb'].fillna(0)"
   ]
  },
  {
   "cell_type": "markdown",
   "metadata": {},
   "source": [
    "```\n",
    "BVPS = PSTKRV; * preferred stock - redemption value; \n",
    "if missing(BVPS) then BVPS = PSTKL; * preferred stock - liquidating value; \n",
    "if missing(BVPS) then BVPS = PSTK; * preferred stock- par value; \n",
    "if missing(BVPS) then BVPS = 0; \n",
    "```"
   ]
  },
  {
   "cell_type": "markdown",
   "metadata": {},
   "source": [
    "BE = SEQ + TXDB + ITCB - BVPS 를 위해 BVPS를 구하는데, \n",
    "\n",
    "여기서 BVPS에 많은 처리가 들어간다. 우선주의 가치를 어떻게 산정해야 하지? \n",
    "\n",
    "1. PSTKRV, preferred stock의 redemption value가 있다면 이걸로. \n",
    "    - redemption value: 회사가 자진상장폐지 등의 이유로 주식을 재매입할 때의 금액\n",
    "2. 그게 없으면 PSTKL, liquidating value로 \n",
    "3. 또 없으면 PSTK, par value로 \n",
    "4. 다 없으면 0으로 우선주 가치를 판정"
   ]
  },
  {
   "cell_type": "markdown",
   "metadata": {},
   "source": [
    "이런 식의 operation이 앞으로도 계속 나옴. \n",
    "\n",
    "뭐가 available하면 뭐를 쓰고... 그게 안되면 이러저러한 조건일 때 저걸 쓰고 등등.. \n",
    "\n",
    "이걸 매번 일일이 만들면 너무 힘드므로 처리 가능한 함수를 만들겠음. \n",
    "\n",
    "하지만 조건이 까다로움\n",
    "\n",
    "- 우선순위를 정해 list로 넣을 수 있어야. \n",
    "- 가장 간단하게, x가 없으면 y를 쓴다 는 같은 row 내에서 가능 (추후 row apply하면 됨)\n",
    "- 조건이 달릴 경우. 같은 row 내에서 x가 없으면 A일 때 y를 쓴다 는 식의 로직 처리 가능해야\n",
    "- ts 방향으로도 fill이 가능해야 함. ffill 처럼. 이 경우 wide 형식의 panel data인 경우 편하게 할 수 있지만 long data의 경우일 때 처리 가능해야 함. \n",
    "    - groupby ffill하면 가능함. \n",
    "    - groupby 전 permno-date로 sort되어있어야 함. \n",
    "\n",
    "구체적으로 \n",
    "- output\n",
    "    - 원래의 df 형태를 유지한 채, 빈 곳의 값들이 채워져 나와야 한다. \n",
    "- input\n",
    "    - 원래의 df\n",
    "    - 그 df에서 채울 대상\n",
    "    - row 로직으로 채울껀지 \n",
    "    - ts 로직으로 채울껀지\n",
    "- row-wise logic\n",
    "    - If row['target'] is empty, \n",
    "    - Additional condition\n",
    "    - Fill something\n",
    "- ts-wise logic\n",
    "    - ts series만들어놓고 \n",
    "    - if row['target'] is empty, \n",
    "    - Additional condition\n",
    "    - Fill pre-made ts series"
   ]
  },
  {
   "cell_type": "code",
   "execution_count": 167,
   "metadata": {},
   "outputs": [],
   "source": [
    "from abc import ABC, abstractmethod\n",
    "\n",
    "class FillLogic(ABC):\n",
    "    def __init__(self, target_col):\n",
    "        self.target_col = target_col\n",
    "    \n",
    "    def check_empty(self, row):\n",
    "        # return row[self.target_col] is np.nan\n",
    "        return pd.isna(row[self.target_col])\n",
    "    \n",
    "    def run(self, row):\n",
    "        if self.check_empty(row):\n",
    "            return self.fill(row)\n",
    "        else:\n",
    "            return row[self.target_col]\n",
    "    \n",
    "    @abstractmethod\n",
    "    def fill(self, row):\n",
    "        raise NotImplementedError\n"
   ]
  },
  {
   "cell_type": "code",
   "execution_count": 168,
   "metadata": {},
   "outputs": [],
   "source": [
    "class FillZero(FillLogic):\n",
    "    def __init__(self, target_col):\n",
    "        super().__init__(target_col)\n",
    "\n",
    "    def fill(self, row):\n",
    "        return 0\n",
    "\n",
    "class FillReplace(FillLogic):\n",
    "    def __init__(self, target_col, replace_col):\n",
    "        super().__init__(target_col)\n",
    "        self.replace_col = replace_col \n",
    "\n",
    "    def fill(self, row):\n",
    "        return row[self.replace_col]"
   ]
  },
  {
   "cell_type": "code",
   "execution_count": 169,
   "metadata": {},
   "outputs": [
    {
     "data": {
      "text/plain": [
       "Index(['gvkey', 'datadate', 'itcb', 'pstk', 'pstkl', 'pstkrv', 'seq', 'txdb',\n",
       "       'permno', 'permco', 'DATE', 'DLSTCD', 'PERMNO', 'SHRCD', 'EXCHCD',\n",
       "       'SICCD', 'DLRET', 'PERMCO', 'PRC', 'VOL', 'RET', 'SHROUT', 'ALTPRC',\n",
       "       'rf', 'YEAR', 'pd_DATE'],\n",
       "      dtype='object')"
      ]
     },
     "execution_count": 169,
     "metadata": {},
     "output_type": "execute_result"
    }
   ],
   "source": [
    "df.columns"
   ]
  },
  {
   "cell_type": "code",
   "execution_count": 170,
   "metadata": {},
   "outputs": [],
   "source": [
    "df['bvps'] = df['pstkrv']"
   ]
  },
  {
   "cell_type": "markdown",
   "metadata": {},
   "source": [
    "돌리기 전"
   ]
  },
  {
   "cell_type": "markdown",
   "metadata": {},
   "source": [
    "** 질문: 애초에 pstkrv에 -가 있는데, 빼주고 시작해야하지 않나?  **\n",
    "\n",
    "마지막에 - BVPS 해주니까, 이 경우 - 값들이 다 +로 바뀌면서 더해지는 경우가 생길텐데???"
   ]
  },
  {
   "cell_type": "code",
   "execution_count": 171,
   "metadata": {},
   "outputs": [
    {
     "data": {
      "text/plain": [
       "count    247399.000000\n",
       "mean         21.584027\n",
       "std         388.500150\n",
       "min         -67.000000\n",
       "25%           0.000000\n",
       "50%           0.000000\n",
       "75%           0.000000\n",
       "max       81248.000000\n",
       "Name: bvps, dtype: float64"
      ]
     },
     "execution_count": 171,
     "metadata": {},
     "output_type": "execute_result"
    }
   ],
   "source": [
    "df['bvps'].describe()"
   ]
  },
  {
   "cell_type": "code",
   "execution_count": 172,
   "metadata": {},
   "outputs": [
    {
     "data": {
      "text/plain": [
       "17051"
      ]
     },
     "execution_count": 172,
     "metadata": {},
     "output_type": "execute_result"
    }
   ],
   "source": [
    "df['bvps'].isnull().sum()"
   ]
  },
  {
   "cell_type": "markdown",
   "metadata": {},
   "source": [
    "돌린 후"
   ]
  },
  {
   "cell_type": "code",
   "execution_count": 173,
   "metadata": {},
   "outputs": [],
   "source": [
    "fill_pstkl = FillReplace('bvps', 'pstkl').run\n",
    "fill_pstk = FillReplace('bvps', 'pstk').run\n",
    "fill_zero = FillZero('bvps').run\n"
   ]
  },
  {
   "cell_type": "code",
   "execution_count": 174,
   "metadata": {},
   "outputs": [],
   "source": [
    "df['bvps'] = df.apply(lambda row: fill_pstkl(row), axis=1)\n",
    "df['bvps'] = df.apply(lambda row: fill_pstk(row), axis=1)\n",
    "df['bvps'] = df.apply(lambda row: fill_zero(row), axis=1)"
   ]
  },
  {
   "cell_type": "code",
   "execution_count": 175,
   "metadata": {},
   "outputs": [
    {
     "data": {
      "text/plain": [
       "0"
      ]
     },
     "execution_count": 175,
     "metadata": {},
     "output_type": "execute_result"
    }
   ],
   "source": [
    "df['bvps'].isnull().sum()"
   ]
  },
  {
   "cell_type": "code",
   "execution_count": 176,
   "metadata": {},
   "outputs": [
    {
     "data": {
      "text/plain": [
       "count    264450.000000\n",
       "mean         20.304002\n",
       "std         376.690016\n",
       "min         -67.000000\n",
       "25%           0.000000\n",
       "50%           0.000000\n",
       "75%           0.000000\n",
       "max       81248.000000\n",
       "Name: bvps, dtype: float64"
      ]
     },
     "execution_count": 176,
     "metadata": {},
     "output_type": "execute_result"
    }
   ],
   "source": [
    "df['bvps'].describe()"
   ]
  },
  {
   "cell_type": "markdown",
   "metadata": {},
   "source": [
    "```\n",
    "BE = SEQ + TXDB + ITCB - BVPS; * If SEQ or TXDB is missing, BE, too, will be missing; \n",
    "\n",
    "if BE<=0 then BE = .; * If BE<0, the value of BE is taken to be missing;  \n",
    "\n",
    "label datadate = \"Fiscal Year End Date\"; \n",
    "keep gvkey datadate year BE permno permco; \n",
    "run;\n",
    "```"
   ]
  },
  {
   "cell_type": "code",
   "execution_count": 177,
   "metadata": {},
   "outputs": [],
   "source": [
    "df['be'] = df['seq'] + df['txdb'] + df['itcb'] - df['bvps']"
   ]
  },
  {
   "cell_type": "code",
   "execution_count": 178,
   "metadata": {},
   "outputs": [
    {
     "data": {
      "text/plain": [
       "42366"
      ]
     },
     "execution_count": 178,
     "metadata": {},
     "output_type": "execute_result"
    }
   ],
   "source": [
    "df['be'].isnull().sum()"
   ]
  },
  {
   "cell_type": "code",
   "execution_count": 179,
   "metadata": {},
   "outputs": [],
   "source": [
    "df.loc[ df['be'] <= 0, 'be' ] = 0"
   ]
  },
  {
   "cell_type": "markdown",
   "metadata": {},
   "source": [
    "fiscal year != calendar year이기 때문에, \n",
    "\n",
    "기업이 fiscal year을 바꿀 경우 한 calendar year에 두 결과값이 나오는 경우들이 있다. \n",
    "\n",
    "이 경우 given calendar year에서 가장 뒤에 있는 데이터를 사용"
   ]
  },
  {
   "cell_type": "markdown",
   "metadata": {},
   "source": [
    "** 질문: gvkey랑 permco랑 안맞는 상황. 그래도 sort by gvkey, permno로 해도 되는지... ** \n",
    "\n",
    "현재 한 date에 company가 유일하지 않음. "
   ]
  },
  {
   "cell_type": "code",
   "execution_count": 180,
   "metadata": {},
   "outputs": [],
   "source": [
    "gvkey_permco = df.groupby(['datadate', 'gvkey'])['permco'].nunique()"
   ]
  },
  {
   "cell_type": "code",
   "execution_count": 181,
   "metadata": {},
   "outputs": [
    {
     "data": {
      "text/plain": [
       "datadate  gvkey\n",
       "19851231  7276     2\n",
       "19861231  7276     2\n",
       "19991231  28883    2\n",
       "          30331    2\n",
       "20001231  28883    2\n",
       "20011231  28883    2\n",
       "20021231  28883    2\n",
       "20030630  13312    2\n",
       "20031231  28883    2\n",
       "20040630  13312    2\n",
       "20041231  28883    2\n",
       "20050630  13312    2\n",
       "20051231  28883    2\n",
       "20060630  13312    2\n",
       "20061231  28883    2\n",
       "20070630  13312    2\n",
       "20071231  28883    2\n",
       "20080630  13312    2\n",
       "20090630  13312    2\n",
       "20100630  13312    2\n",
       "20110630  13312    2\n",
       "20120630  13312    2\n",
       "Name: permco, dtype: int64"
      ]
     },
     "execution_count": 181,
     "metadata": {},
     "output_type": "execute_result"
    }
   ],
   "source": [
    "gvkey_permco[ gvkey_permco > 1 ] \n",
    "# 위에서 싹다 dropna 처리해주면 없어지는데...안하면 이렇게 남아있음. "
   ]
  },
  {
   "cell_type": "code",
   "execution_count": 182,
   "metadata": {},
   "outputs": [
    {
     "data": {
      "text/plain": [
       "datadate  permco \n",
       "19851231  20799.0    3\n",
       "19861231  20799.0    3\n",
       "19871231  20799.0    3\n",
       "19881231  20799.0    3\n",
       "19891231  20799.0    3\n",
       "                    ..\n",
       "20091231  41998.0    3\n",
       "20101231  41998.0    3\n",
       "20111231  53441.0    3\n",
       "20121231  41998.0    2\n",
       "          53441.0    3\n",
       "Name: gvkey, Length: 103, dtype: int64"
      ]
     },
     "execution_count": 182,
     "metadata": {},
     "output_type": "execute_result"
    }
   ],
   "source": [
    "permco_gvkey = df.groupby(['datadate', 'permco'])['gvkey'].nunique()\n",
    "permco_gvkey[ permco_gvkey > 1 ] # 이건 있다. 이건 말이 되나? "
   ]
  },
  {
   "cell_type": "markdown",
   "metadata": {},
   "source": [
    "```\n",
    "* In some cases, firms change the month in which their fiscal year ends,  \n",
    "* resulting in two entries in the Compustat database for the same calendar year y.  \n",
    "* In such cases, data from the latest in the given calendar year y are used.;  \n",
    "proc sort data = BE; by gvkey permno year datadate; run; \n",
    "data BE; \n",
    " set BE; \n",
    " by gvkey permno year datadate; \n",
    " if last.year; \n",
    "run; \n",
    "proc sort data = BE nodupkey; by gvkey permno year datadate; run;\n",
    "```"
   ]
  },
  {
   "cell_type": "code",
   "execution_count": 183,
   "metadata": {},
   "outputs": [],
   "source": [
    "df.sort_values(by=['gvkey', 'permno', 'YEAR', 'datadate',], inplace=True)"
   ]
  },
  {
   "cell_type": "code",
   "execution_count": 184,
   "metadata": {},
   "outputs": [
    {
     "data": {
      "text/plain": [
       "264450"
      ]
     },
     "execution_count": 184,
     "metadata": {},
     "output_type": "execute_result"
    }
   ],
   "source": [
    "len(df)"
   ]
  },
  {
   "cell_type": "code",
   "execution_count": 185,
   "metadata": {},
   "outputs": [],
   "source": [
    "df = df.groupby(['gvkey', 'permno', 'YEAR', 'datadate']).last().reset_index()"
   ]
  },
  {
   "cell_type": "code",
   "execution_count": 186,
   "metadata": {},
   "outputs": [
    {
     "data": {
      "text/plain": [
       "156741"
      ]
     },
     "execution_count": 186,
     "metadata": {},
     "output_type": "execute_result"
    }
   ],
   "source": [
    "len(df) # NOTE: The data set WORK.BE has 263854 observations and 6 variables.\n",
    "\n",
    "# TODO: 잘못나온다. 너무 많이 짤렸다. 156741"
   ]
  },
  {
   "cell_type": "markdown",
   "metadata": {},
   "source": [
    "## SAS 5\n",
    "\n",
    "Construct ME and return data (delisting adjusted)"
   ]
  },
  {
   "cell_type": "markdown",
   "metadata": {},
   "source": [
    "### delisting returns"
   ]
  },
  {
   "cell_type": "code",
   "execution_count": 12,
   "metadata": {},
   "outputs": [
    {
     "data": {
      "text/html": [
       "<div>\n",
       "<style scoped>\n",
       "    .dataframe tbody tr th:only-of-type {\n",
       "        vertical-align: middle;\n",
       "    }\n",
       "\n",
       "    .dataframe tbody tr th {\n",
       "        vertical-align: top;\n",
       "    }\n",
       "\n",
       "    .dataframe thead th {\n",
       "        text-align: right;\n",
       "    }\n",
       "</style>\n",
       "<table border=\"1\" class=\"dataframe\">\n",
       "  <thead>\n",
       "    <tr style=\"text-align: right;\">\n",
       "      <th></th>\n",
       "      <th>DATE</th>\n",
       "      <th>DLSTCD</th>\n",
       "      <th>PERMNO</th>\n",
       "      <th>SHRCD</th>\n",
       "      <th>EXCHCD</th>\n",
       "      <th>SICCD</th>\n",
       "      <th>DLRET</th>\n",
       "      <th>PERMCO</th>\n",
       "      <th>PRC</th>\n",
       "      <th>VOL</th>\n",
       "      <th>RET</th>\n",
       "      <th>SHROUT</th>\n",
       "      <th>ALTPRC</th>\n",
       "      <th>rf</th>\n",
       "    </tr>\n",
       "  </thead>\n",
       "  <tbody>\n",
       "    <tr>\n",
       "      <th>0</th>\n",
       "      <td>19610131</td>\n",
       "      <td>NaN</td>\n",
       "      <td>10006</td>\n",
       "      <td>10</td>\n",
       "      <td>1</td>\n",
       "      <td>3740.0</td>\n",
       "      <td>NaN</td>\n",
       "      <td>22156</td>\n",
       "      <td>50.25</td>\n",
       "      <td>939.0</td>\n",
       "      <td>0.322368</td>\n",
       "      <td>1420.0</td>\n",
       "      <td>50.2500</td>\n",
       "      <td>0.0019</td>\n",
       "    </tr>\n",
       "    <tr>\n",
       "      <th>1</th>\n",
       "      <td>19610131</td>\n",
       "      <td>NaN</td>\n",
       "      <td>10014</td>\n",
       "      <td>10</td>\n",
       "      <td>1</td>\n",
       "      <td>3710.0</td>\n",
       "      <td>NaN</td>\n",
       "      <td>22157</td>\n",
       "      <td>4.00</td>\n",
       "      <td>395.0</td>\n",
       "      <td>0.000000</td>\n",
       "      <td>2504.0</td>\n",
       "      <td>4.0000</td>\n",
       "      <td>0.0019</td>\n",
       "    </tr>\n",
       "    <tr>\n",
       "      <th>2</th>\n",
       "      <td>19610131</td>\n",
       "      <td>NaN</td>\n",
       "      <td>10030</td>\n",
       "      <td>10</td>\n",
       "      <td>1</td>\n",
       "      <td>3310.0</td>\n",
       "      <td>NaN</td>\n",
       "      <td>22160</td>\n",
       "      <td>41.75</td>\n",
       "      <td>280.0</td>\n",
       "      <td>0.087948</td>\n",
       "      <td>1627.0</td>\n",
       "      <td>41.7500</td>\n",
       "      <td>0.0019</td>\n",
       "    </tr>\n",
       "    <tr>\n",
       "      <th>3</th>\n",
       "      <td>19610131</td>\n",
       "      <td>NaN</td>\n",
       "      <td>10057</td>\n",
       "      <td>11</td>\n",
       "      <td>1</td>\n",
       "      <td>3540.0</td>\n",
       "      <td>NaN</td>\n",
       "      <td>20020</td>\n",
       "      <td>54.00</td>\n",
       "      <td>152.0</td>\n",
       "      <td>0.142857</td>\n",
       "      <td>500.0</td>\n",
       "      <td>54.0000</td>\n",
       "      <td>0.0019</td>\n",
       "    </tr>\n",
       "    <tr>\n",
       "      <th>4</th>\n",
       "      <td>19610131</td>\n",
       "      <td>NaN</td>\n",
       "      <td>10102</td>\n",
       "      <td>10</td>\n",
       "      <td>1</td>\n",
       "      <td>2810.0</td>\n",
       "      <td>NaN</td>\n",
       "      <td>22164</td>\n",
       "      <td>79.50</td>\n",
       "      <td>480.0</td>\n",
       "      <td>0.032468</td>\n",
       "      <td>3965.0</td>\n",
       "      <td>79.5000</td>\n",
       "      <td>0.0019</td>\n",
       "    </tr>\n",
       "    <tr>\n",
       "      <th>...</th>\n",
       "      <td>...</td>\n",
       "      <td>...</td>\n",
       "      <td>...</td>\n",
       "      <td>...</td>\n",
       "      <td>...</td>\n",
       "      <td>...</td>\n",
       "      <td>...</td>\n",
       "      <td>...</td>\n",
       "      <td>...</td>\n",
       "      <td>...</td>\n",
       "      <td>...</td>\n",
       "      <td>...</td>\n",
       "      <td>...</td>\n",
       "      <td>...</td>\n",
       "    </tr>\n",
       "    <tr>\n",
       "      <th>2921188</th>\n",
       "      <td>20121231</td>\n",
       "      <td>574.0</td>\n",
       "      <td>76999</td>\n",
       "      <td>11</td>\n",
       "      <td>3</td>\n",
       "      <td>7372.0</td>\n",
       "      <td>-0.765517</td>\n",
       "      <td>11056</td>\n",
       "      <td>NaN</td>\n",
       "      <td>123365.0</td>\n",
       "      <td>NaN</td>\n",
       "      <td>6855.0</td>\n",
       "      <td>0.3120</td>\n",
       "      <td>0.0001</td>\n",
       "    </tr>\n",
       "    <tr>\n",
       "      <th>2921189</th>\n",
       "      <td>20121231</td>\n",
       "      <td>580.0</td>\n",
       "      <td>93007</td>\n",
       "      <td>11</td>\n",
       "      <td>3</td>\n",
       "      <td>9999.0</td>\n",
       "      <td>-0.774834</td>\n",
       "      <td>53201</td>\n",
       "      <td>NaN</td>\n",
       "      <td>121619.0</td>\n",
       "      <td>NaN</td>\n",
       "      <td>57097.0</td>\n",
       "      <td>0.6307</td>\n",
       "      <td>0.0001</td>\n",
       "    </tr>\n",
       "    <tr>\n",
       "      <th>2921190</th>\n",
       "      <td>20121231</td>\n",
       "      <td>584.0</td>\n",
       "      <td>38790</td>\n",
       "      <td>11</td>\n",
       "      <td>2</td>\n",
       "      <td>1311.0</td>\n",
       "      <td>-0.762470</td>\n",
       "      <td>1933</td>\n",
       "      <td>NaN</td>\n",
       "      <td>21350.0</td>\n",
       "      <td>NaN</td>\n",
       "      <td>19048.0</td>\n",
       "      <td>0.3321</td>\n",
       "      <td>0.0001</td>\n",
       "    </tr>\n",
       "    <tr>\n",
       "      <th>2921191</th>\n",
       "      <td>20121231</td>\n",
       "      <td>584.0</td>\n",
       "      <td>89761</td>\n",
       "      <td>11</td>\n",
       "      <td>2</td>\n",
       "      <td>3714.0</td>\n",
       "      <td>2.520000</td>\n",
       "      <td>44123</td>\n",
       "      <td>NaN</td>\n",
       "      <td>39636.0</td>\n",
       "      <td>NaN</td>\n",
       "      <td>7107.0</td>\n",
       "      <td>0.3700</td>\n",
       "      <td>0.0001</td>\n",
       "    </tr>\n",
       "    <tr>\n",
       "      <th>2921192</th>\n",
       "      <td>20121231</td>\n",
       "      <td>585.0</td>\n",
       "      <td>11652</td>\n",
       "      <td>11</td>\n",
       "      <td>3</td>\n",
       "      <td>6036.0</td>\n",
       "      <td>-0.188329</td>\n",
       "      <td>9473</td>\n",
       "      <td>NaN</td>\n",
       "      <td>760.0</td>\n",
       "      <td>NaN</td>\n",
       "      <td>3748.0</td>\n",
       "      <td>15.7400</td>\n",
       "      <td>0.0001</td>\n",
       "    </tr>\n",
       "  </tbody>\n",
       "</table>\n",
       "<p>2921193 rows × 14 columns</p>\n",
       "</div>"
      ],
      "text/plain": [
       "             DATE  DLSTCD  PERMNO  SHRCD  EXCHCD   SICCD     DLRET  PERMCO  \\\n",
       "0        19610131     NaN   10006     10       1  3740.0       NaN   22156   \n",
       "1        19610131     NaN   10014     10       1  3710.0       NaN   22157   \n",
       "2        19610131     NaN   10030     10       1  3310.0       NaN   22160   \n",
       "3        19610131     NaN   10057     11       1  3540.0       NaN   20020   \n",
       "4        19610131     NaN   10102     10       1  2810.0       NaN   22164   \n",
       "...           ...     ...     ...    ...     ...     ...       ...     ...   \n",
       "2921188  20121231   574.0   76999     11       3  7372.0 -0.765517   11056   \n",
       "2921189  20121231   580.0   93007     11       3  9999.0 -0.774834   53201   \n",
       "2921190  20121231   584.0   38790     11       2  1311.0 -0.762470    1933   \n",
       "2921191  20121231   584.0   89761     11       2  3714.0  2.520000   44123   \n",
       "2921192  20121231   585.0   11652     11       3  6036.0 -0.188329    9473   \n",
       "\n",
       "           PRC       VOL       RET   SHROUT   ALTPRC      rf  \n",
       "0        50.25     939.0  0.322368   1420.0  50.2500  0.0019  \n",
       "1         4.00     395.0  0.000000   2504.0   4.0000  0.0019  \n",
       "2        41.75     280.0  0.087948   1627.0  41.7500  0.0019  \n",
       "3        54.00     152.0  0.142857    500.0  54.0000  0.0019  \n",
       "4        79.50     480.0  0.032468   3965.0  79.5000  0.0019  \n",
       "...        ...       ...       ...      ...      ...     ...  \n",
       "2921188    NaN  123365.0       NaN   6855.0   0.3120  0.0001  \n",
       "2921189    NaN  121619.0       NaN  57097.0   0.6307  0.0001  \n",
       "2921190    NaN   21350.0       NaN  19048.0   0.3321  0.0001  \n",
       "2921191    NaN   39636.0       NaN   7107.0   0.3700  0.0001  \n",
       "2921192    NaN     760.0       NaN   3748.0  15.7400  0.0001  \n",
       "\n",
       "[2921193 rows x 14 columns]"
      ]
     },
     "execution_count": 12,
     "metadata": {},
     "output_type": "execute_result"
    }
   ],
   "source": [
    "CRSP_M_df"
   ]
  },
  {
   "cell_type": "code",
   "execution_count": null,
   "metadata": {},
   "outputs": [],
   "source": [
    "def process_delisting_returns(row):\n",
    "    DLRET = row['DLRET']\n",
    "    DLSTCD = row['DLSTCD']\n",
    "\n",
    "    loss30_codes = [500, 520] + list(range(551, 574)) + [574, 580, 584] # -30%, other values는 -100%\n",
    "    # TODO: 하다 말고 잔다. 이어서 하기. "
   ]
  },
  {
   "cell_type": "code",
   "execution_count": null,
   "metadata": {},
   "outputs": [],
   "source": []
  },
  {
   "cell_type": "markdown",
   "metadata": {},
   "source": [
    "## SAS 6\n",
    "\n",
    "Merge BE and ME with return data"
   ]
  },
  {
   "cell_type": "code",
   "execution_count": null,
   "metadata": {},
   "outputs": [],
   "source": []
  }
 ],
 "metadata": {
  "kernelspec": {
   "display_name": ".venv",
   "language": "python",
   "name": "python3"
  },
  "language_info": {
   "codemirror_mode": {
    "name": "ipython",
    "version": 3
   },
   "file_extension": ".py",
   "mimetype": "text/x-python",
   "name": "python",
   "nbconvert_exporter": "python",
   "pygments_lexer": "ipython3",
   "version": "3.11.5"
  }
 },
 "nbformat": 4,
 "nbformat_minor": 2
}
