{
 "cells": [
  {
   "cell_type": "markdown",
   "metadata": {},
   "source": [
    "# 자계추 hw1: Create dataset\n",
    "\n",
    "- `compustat_permno`와 `CRSP_M` 사용\n",
    "    - SAS 코드 따라가며 python으로 포팅. \n",
    "- 최종 결과인 `Assignment1_data` 를 만들기 \n",
    "    - 최종 결과는 permno/date 순으로 정렬하여 first 25 obs 를 보일 것. \n",
    "    - month of December for year 1970, 1980, 1990, 2000, 2010에 대하여 아래를 report:\n",
    "        - number of distinct permnos\n",
    "        - mean/std/min/max of the monthly delisting-adjusted excess returns \n"
   ]
  },
  {
   "cell_type": "markdown",
   "metadata": {},
   "source": [
    "## 가이드\n",
    "- SAS log 확인하며 중간중간 단계에서 같은 결과가 나오는지 확인해라. \n",
    "    - shape check\n",
    "- sample data는 정답지. 최종적으로 output이 일치하는지 확인. \n",
    "- SAS 를 파이썬으로 옮겨준 코드도 참고하기. \n",
    "    - summary statistics 등 뽑는거는 본인 코드 있으면 그거 쓰기. "
   ]
  },
  {
   "cell_type": "markdown",
   "metadata": {},
   "source": [
    "## 질문했던 것들\n",
    "\n",
    "- long table vs wide table \n",
    "    - 왜 굳이 wide 안쓰고 long 써서 각종 문제가 생기게 하는지... permno를 1개만 만들어놓을 수 있다면 그냥 그걸 가지고 pivot table 하고나면 그 다음엔 ffill 등이 훨씬 용이해 짐. \n",
    "    - 이 wide를 하고 shift를 쓰는 것을 교수님도 말하심. missing date 찐빠가 날 일이 없음. 그냥 그 자리에 NaN이 차고 말지. \n",
    "    - 교수님이 말씀하시는 단점:\n",
    "        - RDBMS 관점에서 비효율적임 \n",
    "        - 테이블이 너무 많이 생김. 그 부분 비효율도 생각해라. "
   ]
  },
  {
   "cell_type": "code",
   "execution_count": 1,
   "metadata": {},
   "outputs": [],
   "source": [
    "import pandas as pd\n",
    "import numpy as np\n",
    "import matplotlib.pyplot as plt\n",
    "import seaborn as sns\n",
    "\n",
    "from pathlib import Path"
   ]
  },
  {
   "cell_type": "code",
   "execution_count": 2,
   "metadata": {},
   "outputs": [],
   "source": [
    "CWD = Path('.').resolve()\n",
    "DATA_DIR = CWD / 'data'"
   ]
  },
  {
   "cell_type": "code",
   "execution_count": 3,
   "metadata": {},
   "outputs": [],
   "source": [
    "CRSP_M_df = pd.read_csv(DATA_DIR / 'CRSP_M.csv')\n",
    "permno_df = pd.read_csv(DATA_DIR / 'compustat_permno.csv') \n",
    "sample_df = pd.read_csv(DATA_DIR / 'assignment1_sample_data.csv')"
   ]
  },
  {
   "cell_type": "code",
   "execution_count": 4,
   "metadata": {},
   "outputs": [
    {
     "data": {
      "text/plain": [
       "Index(['DATE', 'DLSTCD', 'PERMNO', 'SHRCD', 'EXCHCD', 'SICCD', 'DLRET',\n",
       "       'PERMCO', 'PRC', 'VOL', 'RET', 'SHROUT', 'ALTPRC', 'rf'],\n",
       "      dtype='object')"
      ]
     },
     "execution_count": 4,
     "metadata": {},
     "output_type": "execute_result"
    }
   ],
   "source": [
    "CRSP_M_df.columns"
   ]
  },
  {
   "cell_type": "code",
   "execution_count": 5,
   "metadata": {},
   "outputs": [
    {
     "data": {
      "text/plain": [
       "(2921193, 14)"
      ]
     },
     "execution_count": 5,
     "metadata": {},
     "output_type": "execute_result"
    }
   ],
   "source": [
    "CRSP_M_df.shape"
   ]
  },
  {
   "cell_type": "code",
   "execution_count": 6,
   "metadata": {},
   "outputs": [
    {
     "name": "stdout",
     "output_type": "stream",
     "text": [
      "<class 'pandas.core.frame.DataFrame'>\n",
      "RangeIndex: 2921193 entries, 0 to 2921192\n",
      "Data columns (total 14 columns):\n",
      " #   Column  Dtype  \n",
      "---  ------  -----  \n",
      " 0   DATE    int64  \n",
      " 1   DLSTCD  float64\n",
      " 2   PERMNO  int64  \n",
      " 3   SHRCD   int64  \n",
      " 4   EXCHCD  int64  \n",
      " 5   SICCD   float64\n",
      " 6   DLRET   float64\n",
      " 7   PERMCO  int64  \n",
      " 8   PRC     float64\n",
      " 9   VOL     float64\n",
      " 10  RET     float64\n",
      " 11  SHROUT  float64\n",
      " 12  ALTPRC  float64\n",
      " 13  rf      float64\n",
      "dtypes: float64(9), int64(5)\n",
      "memory usage: 312.0 MB\n"
     ]
    }
   ],
   "source": [
    "CRSP_M_df.info()"
   ]
  },
  {
   "cell_type": "markdown",
   "metadata": {},
   "source": [
    "## SAS 3\n",
    "\n",
    "Construct BE data"
   ]
  },
  {
   "cell_type": "markdown",
   "metadata": {},
   "source": [
    "### filters"
   ]
  },
  {
   "cell_type": "code",
   "execution_count": 7,
   "metadata": {},
   "outputs": [
    {
     "data": {
      "text/plain": [
       "array([ 1,  2,  3, 33, 32, 31], dtype=int64)"
      ]
     },
     "execution_count": 7,
     "metadata": {},
     "output_type": "execute_result"
    }
   ],
   "source": [
    "CRSP_M_df['EXCHCD'].unique() # 이미 필터는 처리 되어있다. "
   ]
  },
  {
   "cell_type": "markdown",
   "metadata": {},
   "source": [
    "그래도 아래 따로 filter 구현. "
   ]
  },
  {
   "cell_type": "code",
   "execution_count": 8,
   "metadata": {},
   "outputs": [],
   "source": [
    "# filters\n",
    "\n",
    "filter_common_stocks = [10, 11] # SHRCD\n",
    "filter_exchange = [ # EXCHCD\n",
    "    1, 31, # NYSE\n",
    "    2, 32, # AMEX\n",
    "    3, 33, # NASDAQ\n",
    "]"
   ]
  },
  {
   "cell_type": "markdown",
   "metadata": {},
   "source": [
    "plots"
   ]
  },
  {
   "cell_type": "code",
   "execution_count": 9,
   "metadata": {},
   "outputs": [],
   "source": [
    "# TODO: Stock Exchange Composition을 groupby 사용하여 만들기. 별도 column에 NYSE, AMEX, NASDAQ, Other 표시\n",
    "# TODO: Number of stocks 로 한 번, Market Cap으로 한 번 plot"
   ]
  },
  {
   "cell_type": "code",
   "execution_count": 10,
   "metadata": {},
   "outputs": [],
   "source": [
    "# apply filters\n",
    "\n",
    "CRSP_M_df = CRSP_M_df[ CRSP_M_df['SHRCD'].isin(filter_common_stocks) ]\n",
    "CRSP_M_df = CRSP_M_df[ CRSP_M_df['EXCHCD'].isin(filter_exchange) ]"
   ]
  },
  {
   "cell_type": "code",
   "execution_count": 11,
   "metadata": {},
   "outputs": [
    {
     "data": {
      "text/plain": [
       "(2921193, 14)"
      ]
     },
     "execution_count": 11,
     "metadata": {},
     "output_type": "execute_result"
    }
   ],
   "source": [
    "CRSP_M_df.shape"
   ]
  },
  {
   "cell_type": "markdown",
   "metadata": {},
   "source": [
    "### delisting returns"
   ]
  },
  {
   "cell_type": "code",
   "execution_count": 12,
   "metadata": {},
   "outputs": [
    {
     "data": {
      "text/html": [
       "<div>\n",
       "<style scoped>\n",
       "    .dataframe tbody tr th:only-of-type {\n",
       "        vertical-align: middle;\n",
       "    }\n",
       "\n",
       "    .dataframe tbody tr th {\n",
       "        vertical-align: top;\n",
       "    }\n",
       "\n",
       "    .dataframe thead th {\n",
       "        text-align: right;\n",
       "    }\n",
       "</style>\n",
       "<table border=\"1\" class=\"dataframe\">\n",
       "  <thead>\n",
       "    <tr style=\"text-align: right;\">\n",
       "      <th></th>\n",
       "      <th>DATE</th>\n",
       "      <th>DLSTCD</th>\n",
       "      <th>PERMNO</th>\n",
       "      <th>SHRCD</th>\n",
       "      <th>EXCHCD</th>\n",
       "      <th>SICCD</th>\n",
       "      <th>DLRET</th>\n",
       "      <th>PERMCO</th>\n",
       "      <th>PRC</th>\n",
       "      <th>VOL</th>\n",
       "      <th>RET</th>\n",
       "      <th>SHROUT</th>\n",
       "      <th>ALTPRC</th>\n",
       "      <th>rf</th>\n",
       "    </tr>\n",
       "  </thead>\n",
       "  <tbody>\n",
       "    <tr>\n",
       "      <th>0</th>\n",
       "      <td>19610131</td>\n",
       "      <td>NaN</td>\n",
       "      <td>10006</td>\n",
       "      <td>10</td>\n",
       "      <td>1</td>\n",
       "      <td>3740.0</td>\n",
       "      <td>NaN</td>\n",
       "      <td>22156</td>\n",
       "      <td>50.25</td>\n",
       "      <td>939.0</td>\n",
       "      <td>0.322368</td>\n",
       "      <td>1420.0</td>\n",
       "      <td>50.2500</td>\n",
       "      <td>0.0019</td>\n",
       "    </tr>\n",
       "    <tr>\n",
       "      <th>1</th>\n",
       "      <td>19610131</td>\n",
       "      <td>NaN</td>\n",
       "      <td>10014</td>\n",
       "      <td>10</td>\n",
       "      <td>1</td>\n",
       "      <td>3710.0</td>\n",
       "      <td>NaN</td>\n",
       "      <td>22157</td>\n",
       "      <td>4.00</td>\n",
       "      <td>395.0</td>\n",
       "      <td>0.000000</td>\n",
       "      <td>2504.0</td>\n",
       "      <td>4.0000</td>\n",
       "      <td>0.0019</td>\n",
       "    </tr>\n",
       "    <tr>\n",
       "      <th>2</th>\n",
       "      <td>19610131</td>\n",
       "      <td>NaN</td>\n",
       "      <td>10030</td>\n",
       "      <td>10</td>\n",
       "      <td>1</td>\n",
       "      <td>3310.0</td>\n",
       "      <td>NaN</td>\n",
       "      <td>22160</td>\n",
       "      <td>41.75</td>\n",
       "      <td>280.0</td>\n",
       "      <td>0.087948</td>\n",
       "      <td>1627.0</td>\n",
       "      <td>41.7500</td>\n",
       "      <td>0.0019</td>\n",
       "    </tr>\n",
       "    <tr>\n",
       "      <th>3</th>\n",
       "      <td>19610131</td>\n",
       "      <td>NaN</td>\n",
       "      <td>10057</td>\n",
       "      <td>11</td>\n",
       "      <td>1</td>\n",
       "      <td>3540.0</td>\n",
       "      <td>NaN</td>\n",
       "      <td>20020</td>\n",
       "      <td>54.00</td>\n",
       "      <td>152.0</td>\n",
       "      <td>0.142857</td>\n",
       "      <td>500.0</td>\n",
       "      <td>54.0000</td>\n",
       "      <td>0.0019</td>\n",
       "    </tr>\n",
       "    <tr>\n",
       "      <th>4</th>\n",
       "      <td>19610131</td>\n",
       "      <td>NaN</td>\n",
       "      <td>10102</td>\n",
       "      <td>10</td>\n",
       "      <td>1</td>\n",
       "      <td>2810.0</td>\n",
       "      <td>NaN</td>\n",
       "      <td>22164</td>\n",
       "      <td>79.50</td>\n",
       "      <td>480.0</td>\n",
       "      <td>0.032468</td>\n",
       "      <td>3965.0</td>\n",
       "      <td>79.5000</td>\n",
       "      <td>0.0019</td>\n",
       "    </tr>\n",
       "    <tr>\n",
       "      <th>...</th>\n",
       "      <td>...</td>\n",
       "      <td>...</td>\n",
       "      <td>...</td>\n",
       "      <td>...</td>\n",
       "      <td>...</td>\n",
       "      <td>...</td>\n",
       "      <td>...</td>\n",
       "      <td>...</td>\n",
       "      <td>...</td>\n",
       "      <td>...</td>\n",
       "      <td>...</td>\n",
       "      <td>...</td>\n",
       "      <td>...</td>\n",
       "      <td>...</td>\n",
       "    </tr>\n",
       "    <tr>\n",
       "      <th>2921188</th>\n",
       "      <td>20121231</td>\n",
       "      <td>574.0</td>\n",
       "      <td>76999</td>\n",
       "      <td>11</td>\n",
       "      <td>3</td>\n",
       "      <td>7372.0</td>\n",
       "      <td>-0.765517</td>\n",
       "      <td>11056</td>\n",
       "      <td>NaN</td>\n",
       "      <td>123365.0</td>\n",
       "      <td>NaN</td>\n",
       "      <td>6855.0</td>\n",
       "      <td>0.3120</td>\n",
       "      <td>0.0001</td>\n",
       "    </tr>\n",
       "    <tr>\n",
       "      <th>2921189</th>\n",
       "      <td>20121231</td>\n",
       "      <td>580.0</td>\n",
       "      <td>93007</td>\n",
       "      <td>11</td>\n",
       "      <td>3</td>\n",
       "      <td>9999.0</td>\n",
       "      <td>-0.774834</td>\n",
       "      <td>53201</td>\n",
       "      <td>NaN</td>\n",
       "      <td>121619.0</td>\n",
       "      <td>NaN</td>\n",
       "      <td>57097.0</td>\n",
       "      <td>0.6307</td>\n",
       "      <td>0.0001</td>\n",
       "    </tr>\n",
       "    <tr>\n",
       "      <th>2921190</th>\n",
       "      <td>20121231</td>\n",
       "      <td>584.0</td>\n",
       "      <td>38790</td>\n",
       "      <td>11</td>\n",
       "      <td>2</td>\n",
       "      <td>1311.0</td>\n",
       "      <td>-0.762470</td>\n",
       "      <td>1933</td>\n",
       "      <td>NaN</td>\n",
       "      <td>21350.0</td>\n",
       "      <td>NaN</td>\n",
       "      <td>19048.0</td>\n",
       "      <td>0.3321</td>\n",
       "      <td>0.0001</td>\n",
       "    </tr>\n",
       "    <tr>\n",
       "      <th>2921191</th>\n",
       "      <td>20121231</td>\n",
       "      <td>584.0</td>\n",
       "      <td>89761</td>\n",
       "      <td>11</td>\n",
       "      <td>2</td>\n",
       "      <td>3714.0</td>\n",
       "      <td>2.520000</td>\n",
       "      <td>44123</td>\n",
       "      <td>NaN</td>\n",
       "      <td>39636.0</td>\n",
       "      <td>NaN</td>\n",
       "      <td>7107.0</td>\n",
       "      <td>0.3700</td>\n",
       "      <td>0.0001</td>\n",
       "    </tr>\n",
       "    <tr>\n",
       "      <th>2921192</th>\n",
       "      <td>20121231</td>\n",
       "      <td>585.0</td>\n",
       "      <td>11652</td>\n",
       "      <td>11</td>\n",
       "      <td>3</td>\n",
       "      <td>6036.0</td>\n",
       "      <td>-0.188329</td>\n",
       "      <td>9473</td>\n",
       "      <td>NaN</td>\n",
       "      <td>760.0</td>\n",
       "      <td>NaN</td>\n",
       "      <td>3748.0</td>\n",
       "      <td>15.7400</td>\n",
       "      <td>0.0001</td>\n",
       "    </tr>\n",
       "  </tbody>\n",
       "</table>\n",
       "<p>2921193 rows × 14 columns</p>\n",
       "</div>"
      ],
      "text/plain": [
       "             DATE  DLSTCD  PERMNO  SHRCD  EXCHCD   SICCD     DLRET  PERMCO  \\\n",
       "0        19610131     NaN   10006     10       1  3740.0       NaN   22156   \n",
       "1        19610131     NaN   10014     10       1  3710.0       NaN   22157   \n",
       "2        19610131     NaN   10030     10       1  3310.0       NaN   22160   \n",
       "3        19610131     NaN   10057     11       1  3540.0       NaN   20020   \n",
       "4        19610131     NaN   10102     10       1  2810.0       NaN   22164   \n",
       "...           ...     ...     ...    ...     ...     ...       ...     ...   \n",
       "2921188  20121231   574.0   76999     11       3  7372.0 -0.765517   11056   \n",
       "2921189  20121231   580.0   93007     11       3  9999.0 -0.774834   53201   \n",
       "2921190  20121231   584.0   38790     11       2  1311.0 -0.762470    1933   \n",
       "2921191  20121231   584.0   89761     11       2  3714.0  2.520000   44123   \n",
       "2921192  20121231   585.0   11652     11       3  6036.0 -0.188329    9473   \n",
       "\n",
       "           PRC       VOL       RET   SHROUT   ALTPRC      rf  \n",
       "0        50.25     939.0  0.322368   1420.0  50.2500  0.0019  \n",
       "1         4.00     395.0  0.000000   2504.0   4.0000  0.0019  \n",
       "2        41.75     280.0  0.087948   1627.0  41.7500  0.0019  \n",
       "3        54.00     152.0  0.142857    500.0  54.0000  0.0019  \n",
       "4        79.50     480.0  0.032468   3965.0  79.5000  0.0019  \n",
       "...        ...       ...       ...      ...      ...     ...  \n",
       "2921188    NaN  123365.0       NaN   6855.0   0.3120  0.0001  \n",
       "2921189    NaN  121619.0       NaN  57097.0   0.6307  0.0001  \n",
       "2921190    NaN   21350.0       NaN  19048.0   0.3321  0.0001  \n",
       "2921191    NaN   39636.0       NaN   7107.0   0.3700  0.0001  \n",
       "2921192    NaN     760.0       NaN   3748.0  15.7400  0.0001  \n",
       "\n",
       "[2921193 rows x 14 columns]"
      ]
     },
     "execution_count": 12,
     "metadata": {},
     "output_type": "execute_result"
    }
   ],
   "source": [
    "CRSP_M_df"
   ]
  },
  {
   "cell_type": "code",
   "execution_count": null,
   "metadata": {},
   "outputs": [],
   "source": [
    "def process_delisting_returns(row):\n",
    "    DLRET = row['DLRET']\n",
    "    DLSTCD = row['DLSTCD']\n",
    "\n",
    "    loss30_codes = [500, 520] + list(range(551, 574)) + [574, 580, 584] # -30%, other values는 -100%\n",
    "    # TODO: 하다 말고 잔다. 이어서 하기. "
   ]
  },
  {
   "cell_type": "markdown",
   "metadata": {},
   "source": [
    "## SAS 5\n",
    "\n",
    "Construct ME and return data (delisting adjusted)"
   ]
  },
  {
   "cell_type": "code",
   "execution_count": null,
   "metadata": {},
   "outputs": [],
   "source": []
  },
  {
   "cell_type": "markdown",
   "metadata": {},
   "source": [
    "## SAS 6\n",
    "\n",
    "Merge BE and ME with return data"
   ]
  },
  {
   "cell_type": "code",
   "execution_count": null,
   "metadata": {},
   "outputs": [],
   "source": []
  }
 ],
 "metadata": {
  "kernelspec": {
   "display_name": ".venv",
   "language": "python",
   "name": "python3"
  },
  "language_info": {
   "codemirror_mode": {
    "name": "ipython",
    "version": 3
   },
   "file_extension": ".py",
   "mimetype": "text/x-python",
   "name": "python",
   "nbconvert_exporter": "python",
   "pygments_lexer": "ipython3",
   "version": "3.10.11"
  }
 },
 "nbformat": 4,
 "nbformat_minor": 2
}
