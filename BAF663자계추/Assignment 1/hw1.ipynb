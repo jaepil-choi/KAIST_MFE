{
 "cells": [
  {
   "cell_type": "markdown",
   "id": "74377ff1",
   "metadata": {},
   "source": [
    "# 자계추 hw1: Create dataset\n",
    "\n",
    "- `compustat_permno`와 `CRSP_M` 사용\n",
    "    - SAS 코드 따라가며 python으로 포팅. \n",
    "- 최종 결과인 `Assignment1_data` 를 만들기 \n",
    "    - 최종 결과는 permno/date 순으로 정렬하여 first 25 obs 를 보일 것. \n",
    "    - month of December for year 1970, 1980, 1990, 2000, 2010에 대하여 아래를 report:\n",
    "        - number of distinct permnos\n",
    "        - mean/std/min/max of the monthly delisting-adjusted excess returns \n"
   ]
  },
  {
   "cell_type": "markdown",
   "id": "d9639097",
   "metadata": {},
   "source": [
    "## Lecture Note에서 기억할 내용들\n",
    "\n",
    "- Compustat vs CRSP\n",
    "    - Compustat\n",
    "        - id: `GVKEY`, `DATADATE`\n",
    "        - owner: S&P Global \n",
    "    - CRSP\n",
    "        - id: `PERMNO` (and `PERMCO`)\n",
    "        - owner: University of Chicago Booth School of Business\n",
    "    - `CCMXPF_LNKUSED` CCM 즉, merged table을 사용"
   ]
  },
  {
   "cell_type": "markdown",
   "id": "33abce10",
   "metadata": {},
   "source": [
    "## 가이드\n",
    "- SAS log 확인하며 중간중간 단계에서 같은 결과가 나오는지 확인해라. \n",
    "    - shape check\n",
    "- sample data는 정답지. 최종적으로 output이 일치하는지 확인. \n",
    "- SAS 를 파이썬으로 옮겨준 코드도 참고하기. \n",
    "    - summary statistics 등 뽑는거는 본인 코드 있으면 그거 쓰기. "
   ]
  },
  {
   "cell_type": "markdown",
   "id": "33caa96a",
   "metadata": {},
   "source": [
    "## 질문했던 것들\n",
    "\n",
    "- long table vs wide table \n",
    "    - 왜 굳이 wide 안쓰고 long 써서 각종 문제가 생기게 하는지... permno를 1개만 만들어놓을 수 있다면 그냥 그걸 가지고 pivot table 하고나면 그 다음엔 ffill 등이 훨씬 용이해 짐. \n",
    "    - 이 wide를 하고 shift를 쓰는 것을 교수님도 말하심. missing date 찐빠가 날 일이 없음. 그냥 그 자리에 NaN이 차고 말지. \n",
    "    - 교수님이 말씀하시는 단점:\n",
    "        - RDBMS 관점에서 비효율적임 \n",
    "        - 테이블이 너무 많이 생김. 그 부분 비효율도 생각해라. "
   ]
  },
  {
   "cell_type": "markdown",
   "id": "6ae81cbc",
   "metadata": {},
   "source": [
    "## SAS --> Python 포팅"
   ]
  },
  {
   "cell_type": "markdown",
   "id": "e90d04e5",
   "metadata": {},
   "source": [
    "- SAS1: Connect WRDS from your PC\n",
    "    - Get stock data (CRSP)\n",
    "    - Get event data (CRSP)\n",
    "    - Merge stock & event data\n",
    "    - Remove duplicates (by permno, date)\n",
    "    - House Cleaning\n",
    "- SAS2: Define libs & macro variables\n",
    "    - SAS 코드의 주석 참고. compustat 데이터에서 WHERE 로 조건 넣어 필터링함. \n",
    "        - 금융주 제외\n",
    "        - standardized report만 쓰고 (?)\n",
    "        - domestic report만 쓰고 \n",
    "        - consolidated report (연결재무제표)만 쓴다. "
   ]
  },
  {
   "cell_type": "code",
   "execution_count": null,
   "id": "f093b7c9",
   "metadata": {},
   "outputs": [],
   "source": [
    "import pandas as pd\n",
    "import numpy as np\n",
    "import matplotlib.pyplot as plt\n",
    "import seaborn as sns\n",
    "\n",
    "from pathlib import Path"
   ]
  },
  {
   "cell_type": "markdown",
   "id": "0bd77a5f",
   "metadata": {},
   "source": [
    "## Load datasets"
   ]
  },
  {
   "cell_type": "code",
   "execution_count": null,
   "id": "cb422614",
   "metadata": {},
   "outputs": [],
   "source": [
    "CWD = Path('.').resolve()\n",
    "DATA_DIR = CWD / 'data'"
   ]
  },
  {
   "cell_type": "code",
   "execution_count": null,
   "id": "d6cbbc70",
   "metadata": {},
   "outputs": [],
   "source": [
    "CRSP_M_df = pd.read_csv(DATA_DIR / 'CRSP_M.csv')\n",
    "compustat_df = pd.read_csv(DATA_DIR / 'compustat_permno.csv') \n",
    "sample_df = pd.read_csv(DATA_DIR / 'assignment1_sample_data.csv')"
   ]
  },
  {
   "cell_type": "markdown",
   "id": "0dd04a07",
   "metadata": {},
   "source": [
    "### CRSP"
   ]
  },
  {
   "cell_type": "code",
   "execution_count": null,
   "id": "f3dd0876",
   "metadata": {},
   "outputs": [],
   "source": [
    "CRSP_M_df.columns"
   ]
  },
  {
   "cell_type": "code",
   "execution_count": null,
   "id": "2f9d8584",
   "metadata": {},
   "outputs": [],
   "source": [
    "CRSP_M_df.shape"
   ]
  },
  {
   "cell_type": "code",
   "execution_count": null,
   "id": "ae2dad20",
   "metadata": {},
   "outputs": [],
   "source": [
    "CRSP_M_df.info()"
   ]
  },
  {
   "cell_type": "code",
   "execution_count": null,
   "id": "ed161d9b",
   "metadata": {},
   "outputs": [],
   "source": [
    "CRSP_M_df['PERMNO'].nunique()"
   ]
  },
  {
   "cell_type": "code",
   "execution_count": null,
   "id": "8c93aa7d",
   "metadata": {},
   "outputs": [],
   "source": [
    "CRSP_M_df['PERMCO'].nunique()"
   ]
  },
  {
   "cell_type": "code",
   "execution_count": null,
   "id": "9f9af9bc",
   "metadata": {},
   "outputs": [],
   "source": [
    "# Is date-permno unique?\n",
    "CRSP_M_df[['DATE', 'PERMNO']].duplicated().sum() # Yes"
   ]
  },
  {
   "cell_type": "code",
   "execution_count": null,
   "id": "3bc3162c",
   "metadata": {},
   "outputs": [],
   "source": [
    "CRSP_M_df['EXCHCD'].unique() # 이미 필터는 처리 되어있다. "
   ]
  },
  {
   "cell_type": "markdown",
   "id": "2b9a6b81",
   "metadata": {},
   "source": [
    "그래도 아래 따로 filter 구현. "
   ]
  },
  {
   "cell_type": "code",
   "execution_count": null,
   "id": "7210cb48",
   "metadata": {},
   "outputs": [],
   "source": [
    "# filters\n",
    "\n",
    "filter_common_stocks = [10, 11] # SHRCD\n",
    "filter_exchange = [ # EXCHCD\n",
    "    1, 31, # NYSE\n",
    "    2, 32, # AMEX\n",
    "    3, 33, # NASDAQ\n",
    "]"
   ]
  },
  {
   "cell_type": "markdown",
   "id": "9564ca93",
   "metadata": {},
   "source": [
    "plots"
   ]
  },
  {
   "cell_type": "code",
   "execution_count": null,
   "id": "b7666aa1",
   "metadata": {},
   "outputs": [],
   "source": [
    "# TODO: Stock Exchange Composition을 groupby 사용하여 만들기. 별도 column에 NYSE, AMEX, NASDAQ, Other 표시\n",
    "# TODO: Number of stocks 로 한 번, Market Cap으로 한 번 plot"
   ]
  },
  {
   "cell_type": "code",
   "execution_count": null,
   "id": "ed0315f4",
   "metadata": {},
   "outputs": [],
   "source": [
    "# apply filters\n",
    "\n",
    "CRSP_M_df = CRSP_M_df[ CRSP_M_df['SHRCD'].isin(filter_common_stocks) ]\n",
    "CRSP_M_df = CRSP_M_df[ CRSP_M_df['EXCHCD'].isin(filter_exchange) ]"
   ]
  },
  {
   "cell_type": "code",
   "execution_count": null,
   "id": "1a4f8199",
   "metadata": {},
   "outputs": [],
   "source": [
    "CRSP_M_df.shape"
   ]
  },
  {
   "cell_type": "code",
   "execution_count": null,
   "id": "f02af23e",
   "metadata": {},
   "outputs": [],
   "source": [
    "CRSP_M_df.head()"
   ]
  },
  {
   "cell_type": "markdown",
   "id": "191b96ff",
   "metadata": {},
   "source": [
    "### compustat"
   ]
  },
  {
   "cell_type": "code",
   "execution_count": null,
   "id": "13b07dad",
   "metadata": {},
   "outputs": [],
   "source": [
    "compustat_df.columns"
   ]
  },
  {
   "cell_type": "code",
   "execution_count": null,
   "id": "66405332",
   "metadata": {},
   "outputs": [],
   "source": [
    "compustat_df.shape"
   ]
  },
  {
   "cell_type": "code",
   "execution_count": null,
   "id": "48c57b83",
   "metadata": {},
   "outputs": [],
   "source": [
    "compustat_df.info()"
   ]
  },
  {
   "cell_type": "code",
   "execution_count": null,
   "id": "cd202b50",
   "metadata": {},
   "outputs": [],
   "source": [
    "compustat_df['gvkey'].nunique()"
   ]
  },
  {
   "cell_type": "code",
   "execution_count": null,
   "id": "55bf5759",
   "metadata": {},
   "outputs": [],
   "source": [
    "compustat_df['permno'].nunique()"
   ]
  },
  {
   "cell_type": "code",
   "execution_count": null,
   "id": "3eb87df7",
   "metadata": {},
   "outputs": [],
   "source": [
    "compustat_df['permco'].nunique()"
   ]
  },
  {
   "cell_type": "markdown",
   "id": "23ea3aa0",
   "metadata": {},
   "source": [
    "datadate는 fiscal year end date이다. "
   ]
  },
  {
   "cell_type": "code",
   "execution_count": null,
   "id": "19e9fc3b",
   "metadata": {},
   "outputs": [],
   "source": [
    "# Is date-permno unique?\n",
    "compustat_df[['datadate', 'permno']].duplicated().sum() # No"
   ]
  },
  {
   "cell_type": "code",
   "execution_count": null,
   "id": "d6a71567",
   "metadata": {
    "lines_to_next_cell": 2
   },
   "outputs": [],
   "source": [
    "# Is date-gvkey unique?\n",
    "compustat_df[['datadate', 'gvkey']].duplicated().sum() # No\n",
    "\n",
    "## 수업시간에 다룬 내용. non-unique한 이유는 기업이 fiscal year을 바꾸거나 할 경우 두 데이터가 동시에 존재할 수 있기 때문이다. "
   ]
  },
  {
   "cell_type": "code",
   "execution_count": null,
   "id": "8619e7d9",
   "metadata": {},
   "outputs": [],
   "source": [
    "# compustat_df.dropna(subset=['permno'], inplace=True) \n",
    "# permno 없는 row 여기서 삭제하는게 맞으나, 이걸 해주면 아래에서 row 수가 달라져서 검증 불가하기에 일단 놔둠. "
   ]
  },
  {
   "cell_type": "code",
   "execution_count": null,
   "id": "d443a583",
   "metadata": {},
   "outputs": [],
   "source": [
    "compustat_df.head()"
   ]
  },
  {
   "cell_type": "markdown",
   "id": "af592b33",
   "metadata": {},
   "source": [
    "Null인 데이터가 꽤 보인다. "
   ]
  },
  {
   "cell_type": "markdown",
   "id": "772b53ac",
   "metadata": {},
   "source": [
    "CRSP, Compustat date 를 살펴보자"
   ]
  },
  {
   "cell_type": "code",
   "execution_count": null,
   "id": "081849e5",
   "metadata": {},
   "outputs": [],
   "source": [
    "CRSP_M_df['DATE'].sample(10)"
   ]
  },
  {
   "cell_type": "code",
   "execution_count": null,
   "id": "c615fcdc",
   "metadata": {},
   "outputs": [],
   "source": [
    "compustat_df['datadate'].sample(10) # fiscal end date"
   ]
  },
  {
   "cell_type": "markdown",
   "id": "866130c5",
   "metadata": {},
   "source": [
    "## SAS 3\n",
    "\n",
    "Construct BE data"
   ]
  },
  {
   "cell_type": "markdown",
   "id": "519e3001",
   "metadata": {},
   "source": [
    "### Merge CRSP-Compustat using CCM\n",
    "\n",
    "- pk\n",
    "    - crsp: [DATE, PERMNO]\n",
    "    - compustat: [datadate, gvkey]\n",
    "        - compustat 테이블에 ccm을 통해 생성한 permno 있음. 이를 기준으로 join"
   ]
  },
  {
   "cell_type": "markdown",
   "id": "4c1d83da",
   "metadata": {},
   "source": [
    "** 질문: 왜 (inner join 안쓰고) LEFT JOIN 쓰는지?  right table인 CRSP에 데이터 없으면 분석 불가한거 아닌가? **"
   ]
  },
  {
   "cell_type": "markdown",
   "id": "dbe00579",
   "metadata": {},
   "source": [
    "```\n",
    "* Add permno and permco to BE data using the link-used table;\n",
    "* The nobs might increase because a firm can be matched to multiple permno's; \n",
    "proc sql; \n",
    " create table compustat_permno  \n",
    " as select distinct a.*, b.upermno as permno, b.upermco as permco  \n",
    " from compustat as a \n",
    " left join my_lib.ccmxpf_lnkused  \n",
    "  ( keep = ugvkey upermno upermco ulinkdt ulinkenddt usedflag ulinktype  \n",
    "  where = (usedflag = 1 and ulinktype in (\"LU\",\"LC\")) ) as b \n",
    " on a.gvkey = b.ugvkey \n",
    " and (b.ulinkdt <= a.datadate or missing(b.ulinkdt) = 1) \n",
    " and (a.datadate <= b.ulinkenddt or missing(b.ulinkenddt) = 1) \n",
    " order by a.datadate, a.gvkey; \n",
    "quit;\n",
    "proc sort data = compustat_permno; by gvkey datadate; run;\n",
    "```"
   ]
  },
  {
   "cell_type": "markdown",
   "id": "f068d39c",
   "metadata": {},
   "source": [
    "위 merge는 지금 주어진 CRSP, Compustat 테이블로 한게 아님. "
   ]
  },
  {
   "cell_type": "code",
   "execution_count": null,
   "id": "b54fa4f2",
   "metadata": {},
   "outputs": [],
   "source": [
    "df = pd.merge(\n",
    "    left=compustat_df, \n",
    "    right=CRSP_M_df, \n",
    "    left_on=['datadate', 'permno'], \n",
    "    right_on=['DATE', 'PERMNO'],\n",
    "    how='left',\n",
    "    )"
   ]
  },
  {
   "cell_type": "code",
   "execution_count": null,
   "id": "c6f8e767",
   "metadata": {},
   "outputs": [],
   "source": [
    "df.sort_values(by=['gvkey', 'datadate'], inplace=True)"
   ]
  },
  {
   "cell_type": "code",
   "execution_count": null,
   "id": "9135da52",
   "metadata": {},
   "outputs": [],
   "source": [
    "df[ ['permno', 'datadate'] ].duplicated().sum() # compustat쪽 "
   ]
  },
  {
   "cell_type": "code",
   "execution_count": null,
   "id": "b02f5999",
   "metadata": {},
   "outputs": [],
   "source": [
    "df[ ['DATE', 'PERMNO'] ].duplicated().sum() # crsp쪽. merge 전엔 중복이 없었는데, merge 후 중복이 생겼다."
   ]
  },
  {
   "cell_type": "code",
   "execution_count": null,
   "id": "23a1443a",
   "metadata": {},
   "outputs": [],
   "source": [
    "(df['DATE'] == df['datadate']).sum()"
   ]
  },
  {
   "cell_type": "code",
   "execution_count": null,
   "id": "b036e6ce",
   "metadata": {},
   "outputs": [],
   "source": [
    "df['DATE'].isnull().sum()"
   ]
  },
  {
   "cell_type": "code",
   "execution_count": null,
   "id": "31000e24",
   "metadata": {},
   "outputs": [],
   "source": [
    "df['datadate'].isnull().sum()"
   ]
  },
  {
   "cell_type": "code",
   "execution_count": null,
   "id": "837aa926",
   "metadata": {},
   "outputs": [],
   "source": [
    "df.shape # NOTE: Table WORK.COMPUSTAT_PERMNO created, with 434269 rows and 10 columns."
   ]
  },
  {
   "cell_type": "markdown",
   "id": "426364fb",
   "metadata": {},
   "source": [
    "```SAS\n",
    "* Calculate BE; \n",
    "data BE; \n",
    "set compustat_permno (where = (missing(permno) = 0)); \n",
    "year = year(datadate); \n",
    "```"
   ]
  },
  {
   "cell_type": "code",
   "execution_count": null,
   "id": "545ab0ea",
   "metadata": {},
   "outputs": [],
   "source": [
    "len( df.dropna(subset=['permno'], inplace=False) ) # left에 대해서만 수행해주면 됨. right는 애초에 없으면 붙지 않았음. \n",
    "\n",
    "    # NOTE: There were 264450 observations read from the data set\n",
    "    #   WORK.COMPUSTAT_PERMNO.\n",
    "    #   WHERE MISSING(permno)=0;"
   ]
  },
  {
   "cell_type": "code",
   "execution_count": null,
   "id": "5df6ab22",
   "metadata": {},
   "outputs": [],
   "source": [
    "# 위를 보면 그냥 permno만 dropna 해주는게 숫자가 맞는 것 같은데... \n",
    "# datadate, DATE, PERMNO가 null인 경우도 빼줘야 하는거 아닌가? \n",
    "\n",
    "df.dropna(subset=['permno'], inplace=True)"
   ]
  },
  {
   "cell_type": "code",
   "execution_count": null,
   "id": "0756f44c",
   "metadata": {},
   "outputs": [],
   "source": [
    "# 이 부분, join 문제라 생각해 내가 임의로 넣은 부분임. 이게 문제인가? \n",
    "\n",
    "# df.dropna(subet=['datadate', 'DATE', 'permno', 'PERMNO'], how='any', inplace=True) # key가 없는 row들 삭제"
   ]
  },
  {
   "cell_type": "code",
   "execution_count": null,
   "id": "6cbb24a8",
   "metadata": {},
   "outputs": [],
   "source": [
    "len(df)"
   ]
  },
  {
   "cell_type": "code",
   "execution_count": null,
   "id": "fb7e6242",
   "metadata": {
    "lines_to_next_cell": 2
   },
   "outputs": [],
   "source": [
    "# 날짜 만들기 \n",
    "df['YEAR'] = df['DATE'] // 10000 # int로 된 연도\n",
    "df['pd_DATE'] = pd.to_datetime(df['DATE'], format='%Y%m%d') # 원래 SAS코드에는 없는, pd용 datetime"
   ]
  },
  {
   "cell_type": "code",
   "execution_count": null,
   "id": "13d30cb3",
   "metadata": {},
   "outputs": [],
   "source": [
    "df.columns"
   ]
  },
  {
   "cell_type": "markdown",
   "id": "b592b04c",
   "metadata": {},
   "source": [
    "```\n",
    "if missing(ITCB) then ITCB = 0; * investment tax credit; \n",
    "```"
   ]
  },
  {
   "cell_type": "code",
   "execution_count": null,
   "id": "1f546b9d",
   "metadata": {},
   "outputs": [],
   "source": [
    "# ITCB(Investment Tax Credit Balance): 없는 경우 0으로\n",
    "# 이건 없는 경우가 많다고 함. 없는 회사를 다 뺄 수는 없으니 0으로. \n",
    "\n",
    "df['itcb'] = df['itcb'].fillna(0)"
   ]
  },
  {
   "cell_type": "markdown",
   "id": "3fc16f98",
   "metadata": {},
   "source": [
    "```\n",
    "BVPS = PSTKRV; * preferred stock - redemption value; \n",
    "if missing(BVPS) then BVPS = PSTKL; * preferred stock - liquidating value; \n",
    "if missing(BVPS) then BVPS = PSTK; * preferred stock- par value; \n",
    "if missing(BVPS) then BVPS = 0; \n",
    "```"
   ]
  },
  {
   "cell_type": "markdown",
   "id": "9269cadc",
   "metadata": {},
   "source": [
    "BE = SEQ + TXDB + ITCB - BVPS 를 위해 BVPS를 구하는데, \n",
    "\n",
    "여기서 BVPS에 많은 처리가 들어간다. 우선주의 가치를 어떻게 산정해야 하지? \n",
    "\n",
    "1. PSTKRV, preferred stock의 redemption value가 있다면 이걸로. \n",
    "    - redemption value: 회사가 자진상장폐지 등의 이유로 주식을 재매입할 때의 금액\n",
    "2. 그게 없으면 PSTKL, liquidating value로 \n",
    "3. 또 없으면 PSTK, par value로 \n",
    "4. 다 없으면 0으로 우선주 가치를 판정"
   ]
  },
  {
   "cell_type": "markdown",
   "id": "d7c9eb4a",
   "metadata": {},
   "source": [
    "이런 식의 operation이 앞으로도 계속 나옴. \n",
    "\n",
    "뭐가 available하면 뭐를 쓰고... 그게 안되면 이러저러한 조건일 때 저걸 쓰고 등등.. \n",
    "\n",
    "이걸 매번 일일이 만들면 너무 힘드므로 처리 가능한 함수를 만들겠음. \n",
    "\n",
    "하지만 조건이 까다로움\n",
    "\n",
    "- 우선순위를 정해 list로 넣을 수 있어야. \n",
    "- 가장 간단하게, x가 없으면 y를 쓴다 는 같은 row 내에서 가능 (추후 row apply하면 됨)\n",
    "- 조건이 달릴 경우. 같은 row 내에서 x가 없으면 A일 때 y를 쓴다 는 식의 로직 처리 가능해야\n",
    "- ts 방향으로도 fill이 가능해야 함. ffill 처럼. 이 경우 wide 형식의 panel data인 경우 편하게 할 수 있지만 long data의 경우일 때 처리 가능해야 함. \n",
    "    - groupby ffill하면 가능함. \n",
    "    - groupby 전 permno-date로 sort되어있어야 함. \n",
    "\n",
    "구체적으로 \n",
    "- output\n",
    "    - 원래의 df 형태를 유지한 채, 빈 곳의 값들이 채워져 나와야 한다. \n",
    "- input\n",
    "    - 원래의 df\n",
    "    - 그 df에서 채울 대상\n",
    "    - row 로직으로 채울껀지 \n",
    "    - ts 로직으로 채울껀지\n",
    "- row-wise logic\n",
    "    - If row['target'] is empty, \n",
    "    - Additional condition\n",
    "    - Fill something\n",
    "- ts-wise logic\n",
    "    - ts series만들어놓고 \n",
    "    - if row['target'] is empty, \n",
    "    - Additional condition\n",
    "    - Fill pre-made ts series"
   ]
  },
  {
   "cell_type": "code",
   "execution_count": null,
   "id": "dbd47892",
   "metadata": {},
   "outputs": [],
   "source": [
    "from abc import ABC, abstractmethod\n",
    "\n",
    "class FillLogic(ABC):\n",
    "    def __init__(self, target_col):\n",
    "        self.target_col = target_col\n",
    "    \n",
    "    def check_empty(self, row):\n",
    "        # return row[self.target_col] is np.nan\n",
    "        return pd.isna(row[self.target_col])\n",
    "    \n",
    "    def run(self, row):\n",
    "        if self.check_empty(row):\n",
    "            return self.fill(row)\n",
    "        else:\n",
    "            return row[self.target_col]\n",
    "    \n",
    "    @abstractmethod\n",
    "    def fill(self, row):\n",
    "        raise NotImplementedError\n",
    "\n"
   ]
  },
  {
   "cell_type": "code",
   "execution_count": null,
   "id": "bbe25e64",
   "metadata": {},
   "outputs": [],
   "source": [
    "class FillZero(FillLogic):\n",
    "    def __init__(self, target_col):\n",
    "        super().__init__(target_col)\n",
    "\n",
    "    def fill(self, row):\n",
    "        return 0\n",
    "\n",
    "class FillReplace(FillLogic):\n",
    "    def __init__(self, target_col, replace_col):\n",
    "        super().__init__(target_col)\n",
    "        self.replace_col = replace_col \n",
    "\n",
    "    def fill(self, row):\n",
    "        return row[self.replace_col]"
   ]
  },
  {
   "cell_type": "code",
   "execution_count": null,
   "id": "b2b58e23",
   "metadata": {},
   "outputs": [],
   "source": [
    "df.columns"
   ]
  },
  {
   "cell_type": "code",
   "execution_count": null,
   "id": "5d512aa5",
   "metadata": {},
   "outputs": [],
   "source": [
    "df['bvps'] = df['pstkrv']"
   ]
  },
  {
   "cell_type": "markdown",
   "id": "54c72d50",
   "metadata": {},
   "source": [
    "돌리기 전"
   ]
  },
  {
   "cell_type": "markdown",
   "id": "487cac9e",
   "metadata": {},
   "source": [
    "** 질문: 애초에 pstkrv에 -가 있는데, 빼주고 시작해야하지 않나?  **\n",
    "\n",
    "마지막에 - BVPS 해주니까, 이 경우 - 값들이 다 +로 바뀌면서 더해지는 경우가 생길텐데???"
   ]
  },
  {
   "cell_type": "code",
   "execution_count": null,
   "id": "80818f75",
   "metadata": {},
   "outputs": [],
   "source": [
    "df['bvps'].describe()"
   ]
  },
  {
   "cell_type": "code",
   "execution_count": null,
   "id": "754a6302",
   "metadata": {},
   "outputs": [],
   "source": [
    "df['bvps'].isnull().sum()"
   ]
  },
  {
   "cell_type": "markdown",
   "id": "de55afb4",
   "metadata": {},
   "source": [
    "돌린 후"
   ]
  },
  {
   "cell_type": "code",
   "execution_count": null,
   "id": "c49682cb",
   "metadata": {
    "lines_to_next_cell": 2
   },
   "outputs": [],
   "source": [
    "fill_pstkl = FillReplace('bvps', 'pstkl').run\n",
    "fill_pstk = FillReplace('bvps', 'pstk').run\n",
    "fill_zero = FillZero('bvps').run"
   ]
  },
  {
   "cell_type": "code",
   "execution_count": null,
   "id": "ecfbc461",
   "metadata": {},
   "outputs": [],
   "source": [
    "df['bvps'] = df.apply(lambda row: fill_pstkl(row), axis=1)\n",
    "df['bvps'] = df.apply(lambda row: fill_pstk(row), axis=1)\n",
    "df['bvps'] = df.apply(lambda row: fill_zero(row), axis=1)"
   ]
  },
  {
   "cell_type": "code",
   "execution_count": null,
   "id": "1ab5e0fc",
   "metadata": {},
   "outputs": [],
   "source": [
    "df['bvps'].isnull().sum()"
   ]
  },
  {
   "cell_type": "code",
   "execution_count": null,
   "id": "e8f81c10",
   "metadata": {},
   "outputs": [],
   "source": [
    "df['bvps'].describe()"
   ]
  },
  {
   "cell_type": "markdown",
   "id": "85289577",
   "metadata": {},
   "source": [
    "```\n",
    "BE = SEQ + TXDB + ITCB - BVPS; * If SEQ or TXDB is missing, BE, too, will be missing; \n",
    "\n",
    "if BE<=0 then BE = .; * If BE<0, the value of BE is taken to be missing;  \n",
    "\n",
    "label datadate = \"Fiscal Year End Date\"; \n",
    "keep gvkey datadate year BE permno permco; \n",
    "run;\n",
    "```"
   ]
  },
  {
   "cell_type": "code",
   "execution_count": null,
   "id": "169e85d6",
   "metadata": {},
   "outputs": [],
   "source": [
    "df['be'] = df['seq'] + df['txdb'] + df['itcb'] - df['bvps']"
   ]
  },
  {
   "cell_type": "code",
   "execution_count": null,
   "id": "0b35c411",
   "metadata": {},
   "outputs": [],
   "source": [
    "df['be'].isnull().sum()"
   ]
  },
  {
   "cell_type": "code",
   "execution_count": null,
   "id": "325d4115",
   "metadata": {},
   "outputs": [],
   "source": [
    "df.loc[ df['be'] <= 0, 'be' ] = 0"
   ]
  },
  {
   "cell_type": "markdown",
   "id": "a51f03b7",
   "metadata": {},
   "source": [
    "fiscal year != calendar year이기 때문에, \n",
    "\n",
    "기업이 fiscal year을 바꿀 경우 한 calendar year에 두 결과값이 나오는 경우들이 있다. \n",
    "\n",
    "이 경우 given calendar year에서 가장 뒤에 있는 데이터를 사용"
   ]
  },
  {
   "cell_type": "markdown",
   "id": "78227a33",
   "metadata": {},
   "source": [
    "** 질문: gvkey랑 permco랑 안맞는 상황. 그래도 sort by gvkey, permno로 해도 되는지... ** \n",
    "\n",
    "현재 한 date에 company가 유일하지 않음. "
   ]
  },
  {
   "cell_type": "code",
   "execution_count": null,
   "id": "709eeb6d",
   "metadata": {},
   "outputs": [],
   "source": [
    "gvkey_permco = df.groupby(['datadate', 'gvkey'])['permco'].nunique()"
   ]
  },
  {
   "cell_type": "code",
   "execution_count": null,
   "id": "8be9ddf5",
   "metadata": {},
   "outputs": [],
   "source": [
    "gvkey_permco[ gvkey_permco > 1 ] \n",
    "# 위에서 싹다 dropna 처리해주면 없어지는데...안하면 이렇게 남아있음. "
   ]
  },
  {
   "cell_type": "code",
   "execution_count": null,
   "id": "ec873227",
   "metadata": {},
   "outputs": [],
   "source": [
    "permco_gvkey = df.groupby(['datadate', 'permco'])['gvkey'].nunique()\n",
    "permco_gvkey[ permco_gvkey > 1 ] # 이건 있다. 이건 말이 되나? "
   ]
  },
  {
   "cell_type": "markdown",
   "id": "e71796ff",
   "metadata": {},
   "source": [
    "```\n",
    "* In some cases, firms change the month in which their fiscal year ends,  \n",
    "* resulting in two entries in the Compustat database for the same calendar year y.  \n",
    "* In such cases, data from the latest in the given calendar year y are used.;  \n",
    "proc sort data = BE; by gvkey permno year datadate; run; \n",
    "data BE; \n",
    " set BE; \n",
    " by gvkey permno year datadate; \n",
    " if last.year; \n",
    "run; \n",
    "proc sort data = BE nodupkey; by gvkey permno year datadate; run;\n",
    "```"
   ]
  },
  {
   "cell_type": "code",
   "execution_count": null,
   "id": "b7fcfcfc",
   "metadata": {},
   "outputs": [],
   "source": [
    "df.sort_values(by=['gvkey', 'permno', 'YEAR', 'datadate',], inplace=True)"
   ]
  },
  {
   "cell_type": "code",
   "execution_count": null,
   "id": "0fb69ca9",
   "metadata": {},
   "outputs": [],
   "source": [
    "len(df)"
   ]
  },
  {
   "cell_type": "code",
   "execution_count": null,
   "id": "e3621c82",
   "metadata": {},
   "outputs": [],
   "source": [
    "df = df.groupby(['gvkey', 'permno', 'YEAR', 'datadate']).last().reset_index()"
   ]
  },
  {
   "cell_type": "code",
   "execution_count": null,
   "id": "f18710d4",
   "metadata": {},
   "outputs": [],
   "source": [
    "len(df) # NOTE: The data set WORK.BE has 263854 observations and 6 variables.\n",
    "\n",
    "# TODO: 잘못나온다. 너무 많이 짤렸다. 156741"
   ]
  },
  {
   "cell_type": "markdown",
   "id": "3f181346",
   "metadata": {},
   "source": [
    "## SAS 5\n",
    "\n",
    "Construct ME and return data (delisting adjusted)"
   ]
  },
  {
   "cell_type": "markdown",
   "id": "c7f6b015",
   "metadata": {},
   "source": [
    "### delisting returns"
   ]
  },
  {
   "cell_type": "code",
   "execution_count": null,
   "id": "f7a5aca4",
   "metadata": {},
   "outputs": [],
   "source": [
    "CRSP_M_df"
   ]
  },
  {
   "cell_type": "code",
   "execution_count": null,
   "id": "be88498f",
   "metadata": {},
   "outputs": [],
   "source": [
    "def process_delisting_returns(row):\n",
    "    DLRET = row['DLRET']\n",
    "    DLSTCD = row['DLSTCD']\n",
    "\n",
    "    loss30_codes = [500, 520] + list(range(551, 574)) + [574, 580, 584] # -30%, other values는 -100%\n",
    "    # TODO: 하다 말고 잔다. 이어서 하기. "
   ]
  },
  {
   "cell_type": "code",
   "execution_count": null,
   "id": "89504624",
   "metadata": {},
   "outputs": [],
   "source": []
  },
  {
   "cell_type": "markdown",
   "id": "68b5e7b2",
   "metadata": {},
   "source": [
    "## SAS 6\n",
    "\n",
    "Merge BE and ME with return data"
   ]
  },
  {
   "cell_type": "code",
   "execution_count": null,
   "id": "2407cd16",
   "metadata": {},
   "outputs": [],
   "source": []
  }
 ],
 "metadata": {
  "kernelspec": {
   "display_name": ".venv",
   "language": "python",
   "name": "python3"
  }
 },
 "nbformat": 4,
 "nbformat_minor": 5
}
