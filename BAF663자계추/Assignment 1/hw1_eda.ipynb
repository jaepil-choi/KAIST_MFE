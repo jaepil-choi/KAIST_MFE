{
 "cells": [
  {
   "cell_type": "markdown",
   "id": "8a232a45",
   "metadata": {},
   "source": [
    "# 자계추 HW1 EDA"
   ]
  },
  {
   "cell_type": "code",
   "execution_count": null,
   "id": "97a92e92",
   "metadata": {},
   "outputs": [],
   "source": [
    "import pandas as pd\n",
    "import numpy as np\n",
    "import matplotlib.pyplot as plt\n",
    "import seaborn as sns\n",
    "\n",
    "from pathlib import Path"
   ]
  },
  {
   "cell_type": "code",
   "execution_count": null,
   "id": "852011e4",
   "metadata": {},
   "outputs": [],
   "source": [
    "CWD = Path('.').resolve()\n",
    "DATA_DIR = CWD / 'data'"
   ]
  },
  {
   "cell_type": "markdown",
   "id": "def1ac24",
   "metadata": {},
   "source": [
    "## Load data"
   ]
  },
  {
   "cell_type": "code",
   "execution_count": null,
   "id": "201ab26e",
   "metadata": {},
   "outputs": [],
   "source": [
    "CRSP_M_df = pd.read_csv(DATA_DIR / 'CRSP_M.csv')\n",
    "permno_df = pd.read_csv(DATA_DIR / 'compustat_permno.csv') \n",
    "sample_df = pd.read_csv(DATA_DIR / 'assignment1_sample_data.csv')"
   ]
  },
  {
   "cell_type": "code",
   "execution_count": null,
   "id": "5dba287c",
   "metadata": {},
   "outputs": [],
   "source": [
    "sample_df # 이게 우리가 만들어야 하는 대상. "
   ]
  },
  {
   "cell_type": "code",
   "execution_count": null,
   "id": "936139cc",
   "metadata": {},
   "outputs": [],
   "source": [
    "CRSP_M_df # 교수님이 한 번 처리해놓은 데이터. 이거 가지고 작업하면 됨. "
   ]
  },
  {
   "cell_type": "code",
   "execution_count": null,
   "id": "20d73615",
   "metadata": {},
   "outputs": [],
   "source": [
    "permno_df # CRSP COMPUSTAT MERGE (CCM) / market data 들어있음. 당연히 써야 함. "
   ]
  },
  {
   "cell_type": "code",
   "execution_count": null,
   "id": "ba042a08",
   "metadata": {},
   "outputs": [],
   "source": []
  }
 ],
 "metadata": {
  "kernelspec": {
   "display_name": ".venv",
   "language": "python",
   "name": "python3"
  }
 },
 "nbformat": 4,
 "nbformat_minor": 5
}
