{
 "cells": [
  {
   "cell_type": "markdown",
   "metadata": {},
   "source": [
    "# 자계추 hw1: Create Dataset"
   ]
  },
  {
   "cell_type": "code",
   "execution_count": 220,
   "metadata": {},
   "outputs": [],
   "source": [
    "import pandas as pd\n",
    "import numpy as np\n",
    "import matplotlib.pyplot as plt\n",
    "import seaborn as sns\n",
    "\n",
    "from pathlib import Path"
   ]
  },
  {
   "cell_type": "markdown",
   "metadata": {},
   "source": [
    "## Load Datasets"
   ]
  },
  {
   "cell_type": "code",
   "execution_count": 221,
   "metadata": {},
   "outputs": [],
   "source": [
    "CWD = Path('.').resolve()\n",
    "DATA_DIR = CWD / 'data'"
   ]
  },
  {
   "cell_type": "code",
   "execution_count": 222,
   "metadata": {},
   "outputs": [],
   "source": [
    "CRSP_M_df = pd.read_csv(DATA_DIR / 'CRSP_M.csv')\n",
    "compustat_df = pd.read_csv(DATA_DIR / 'compustat_permno.csv') \n",
    "sample_df = pd.read_csv(DATA_DIR / 'assignment1_sample_data.csv')"
   ]
  },
  {
   "cell_type": "markdown",
   "metadata": {},
   "source": [
    "## SAS3\n",
    "\n",
    "Construct BE Data\n",
    "\n",
    "Compustat 데이터 사용\n",
    "\n",
    "fiscal year 별로 되어있음. "
   ]
  },
  {
   "cell_type": "code",
   "execution_count": 223,
   "metadata": {},
   "outputs": [],
   "source": [
    "# * Calculate BE; \n",
    "# data BE; \n",
    "#  set compustat_permno (where = (missing(permno) = 0)); \n",
    "\n",
    "compustat_df.dropna(subset=['permno'], inplace=True)"
   ]
  },
  {
   "cell_type": "code",
   "execution_count": 224,
   "metadata": {},
   "outputs": [
    {
     "data": {
      "text/plain": [
       "(264450, 10)"
      ]
     },
     "execution_count": 224,
     "metadata": {},
     "output_type": "execute_result"
    }
   ],
   "source": [
    "# NOTE: The data set WORK.BE has 264450 observations and 6 variables.\n",
    "\n",
    "compustat_df.shape "
   ]
  },
  {
   "cell_type": "code",
   "execution_count": 225,
   "metadata": {},
   "outputs": [],
   "source": [
    "#  year = year(datadate); \n",
    "\n",
    "compustat_df['year'] = compustat_df['datadate'] // 10000"
   ]
  },
  {
   "cell_type": "code",
   "execution_count": 226,
   "metadata": {},
   "outputs": [],
   "source": [
    "# if missing(ITCB) then ITCB = 0; * investment tax credit; \n",
    "\n",
    "compustat_df['itcb'] = compustat_df['itcb'].fillna(0)"
   ]
  },
  {
   "cell_type": "code",
   "execution_count": 227,
   "metadata": {},
   "outputs": [],
   "source": [
    "# BVPS = PSTKRV; * bool value of preferred stock (BVPS) = preferred stock 의 redemption value로 일단 놓고; \n",
    "#  if missing(BVPS) then BVPS = PSTKL; * 없으면 preferred stock 의 liquidating value; \n",
    "#  if missing(BVPS) then BVPS = PSTK; * 또 없으면 preferred stock의 par value; \n",
    "#  if missing(BVPS) then BVPS = 0; * 다 없으면 0;\n",
    "\n",
    "compustat_df['bvps'] = compustat_df['pstkrv'].fillna(compustat_df['pstkl']) \\\n",
    "    .fillna(compustat_df['pstk']) \\\n",
    "    .fillna(0)"
   ]
  },
  {
   "cell_type": "code",
   "execution_count": 228,
   "metadata": {},
   "outputs": [],
   "source": [
    "# BE = SEQ + TXDB + ITCB - BVPS; * If SEQ or TXDB is missing, BE, too, will be missing; \n",
    "#  if BE<=0 then BE = .; * If BE<0, the value of BE is taken to be missing;  \n",
    "\n",
    "compustat_df['be'] = compustat_df['seq'] \\\n",
    "    + compustat_df['txdb'] \\\n",
    "    + compustat_df['itcb'] \\\n",
    "    - compustat_df['bvps']\n",
    "\n",
    "compustat_df.loc[compustat_df['be'] < 0, 'be'] = np.nan"
   ]
  },
  {
   "cell_type": "code",
   "execution_count": 229,
   "metadata": {},
   "outputs": [],
   "source": [
    "# * In some cases, firms change the month in which their fiscal year ends,  \n",
    "# * resulting in two entries in the Compustat database for the same calendar year y.  \n",
    "# * In such cases, data from the latest in the given calendar year y are used.;  \n",
    "# proc sort data = BE; by gvkey permno year datadate; run; \n",
    "# data BE; \n",
    "#  set BE; \n",
    "#  by gvkey permno year datadate; \n",
    "#  if last.year; \n",
    "# run; \n",
    "# proc sort data = BE nodupkey; by gvkey permno year datadate; run;\n",
    "\n",
    "compustat_df.sort_values(['gvkey', 'permno', 'year', 'datadate'], inplace=True)\n",
    "compustat_df = compustat_df.groupby(['gvkey', 'permno', 'year', ]).last().reset_index()"
   ]
  },
  {
   "cell_type": "code",
   "execution_count": 230,
   "metadata": {},
   "outputs": [
    {
     "data": {
      "text/plain": [
       "(263854, 13)"
      ]
     },
     "execution_count": 230,
     "metadata": {},
     "output_type": "execute_result"
    }
   ],
   "source": [
    "# NOTE: The data set WORK.BE has 263854 observations and 6 variables.\n",
    "\n",
    "compustat_df.shape"
   ]
  },
  {
   "cell_type": "markdown",
   "metadata": {},
   "source": [
    "## SAS5\n",
    "\n",
    "Construct ME and return data\n",
    "\n",
    "CRSP 데이터 사용\n",
    "\n",
    "Monthly data로 되어있음 "
   ]
  },
  {
   "cell_type": "code",
   "execution_count": 231,
   "metadata": {},
   "outputs": [],
   "source": [
    "# * SAS 4: Merge CRSP stock and event file and add risk-free rate *******************; \n",
    "\n",
    "# %let filter=%str(shrcd in (10,11) and exchcd in (1,31,2,32,3,33)); \n",
    "\n",
    "# %crspmerge(s = m, outset = CRSP, \n",
    "# start = &start_date, end = &end_date, \n",
    "# sfvars = permco ret vol shrout prc altprc, \n",
    "# sevars = siccd shrcd exchcd dlstcd dlret, \n",
    "# filters=&filter);   \n",
    "\n",
    "\n",
    "# filters # 사실 필터는 이미 적용되어 있음\n",
    "filter_common_stocks = [10, 11] # SHRCD\n",
    "filter_exchange = [ # EXCHCD\n",
    "    1, 31, # NYSE\n",
    "    2, 32, # AMEX\n",
    "    3, 33, # NASDAQ\n",
    "]\n",
    "\n",
    "CRSP_M_df = CRSP_M_df[ CRSP_M_df['SHRCD'].isin(filter_common_stocks) ]\n",
    "CRSP_M_df = CRSP_M_df[ CRSP_M_df['EXCHCD'].isin(filter_exchange) ]"
   ]
  },
  {
   "cell_type": "code",
   "execution_count": 232,
   "metadata": {},
   "outputs": [
    {
     "data": {
      "text/plain": [
       "(2921193, 14)"
      ]
     },
     "execution_count": 232,
     "metadata": {},
     "output_type": "execute_result"
    }
   ],
   "source": [
    "CRSP_M_df.shape # NOTE: The data set WORK.CRSP has 2921193 observations and 13 variables."
   ]
  },
  {
   "cell_type": "code",
   "execution_count": 233,
   "metadata": {},
   "outputs": [],
   "source": [
    "# * SAS 5: Construct ME and return data *************************************; \n",
    "\n",
    "# * Calculate excess return adjusted for delising; \n",
    "# data CRSP_M2; \n",
    "#  set CRSP_M; \n",
    "#  year = year(date); *** date, 매달 마지막 거래일 값이 들어가있다. 거기서 연도를 뽑아냄. ;\n",
    "\n",
    "CRSP_M_df['YEAR'] = CRSP_M_df['DATE'] // 10000"
   ]
  },
  {
   "cell_type": "code",
   "execution_count": 234,
   "metadata": {},
   "outputs": [],
   "source": [
    "# * calculate market capitalization; \n",
    "#  if abs(altprc)>0 and shrout>0 then Meq = abs(altprc)*shrout/1000;  \n",
    "# *** 절대값이 0보다 크면, market equity 값을 계산을 해라. (Meq) 만족 안하면 missing으로 처리.;\n",
    "# ** ALTPRC: last non-missing price over all days in the month인데,  ;\n",
    "# ** CRSP는 거래가 없을 경우 last bid와 last ask의 평균을 - 로 report함. ;\n",
    "# ** 즉, 가격이 -인 것이 오류가 아니라는 소리임. 날려버리면 안됨. ; \n",
    "# ** 진짜 데이터가 available하지 않은 경우는 0이나 missing으로 표시해줌. ;\n",
    "\n",
    "CRSP_M_df['MEQ'] = np.nan\n",
    "CRSP_M_df.loc[ (CRSP_M_df['ALTPRC'] > 0) & (CRSP_M_df['SHROUT'] > 0) , 'MEQ'] = \\\n",
    "    CRSP_M_df['ALTPRC'].abs() * CRSP_M_df['SHROUT'] / 1000"
   ]
  },
  {
   "cell_type": "code",
   "execution_count": 235,
   "metadata": {},
   "outputs": [],
   "source": [
    "# * if dlret is missing, follow Shumway (1997) to determine dlret; \n",
    "#  if missing(dlstcd) = 0 and missing(dlret) =1 then do; *** delisting code(사유)는 있고 delisting return이 missing이면, 아래와 같이 처리.;\n",
    "#   if dlstcd in (500, 520, 574, 580, 584) or (dlstcd>=551 and dlstcd<=573)  \n",
    "#    then dlret = -0.3; *** 위 사유들에 대해선 적당히 -0.3으로 처리;\n",
    "#   else dlret = -1; *** 그 외에는 -1 (-100%)로 처리;\n",
    "#  end; \n",
    "\n",
    "dlstcd_filter = [500, 520, 574, 580, 584] + list(range(551, 573+1))\n",
    "CRSP_M_df.loc[\n",
    "    (CRSP_M_df['DLSTCD'].isin(dlstcd_filter)) & \n",
    "    (CRSP_M_df['DLRET'].isna()), \n",
    "    'DLRET'\n",
    "    ] = -0.3\n",
    "CRSP_M_df['DLRET'] = CRSP_M_df['DLRET'].fillna(-1)"
   ]
  },
  {
   "cell_type": "code",
   "execution_count": 236,
   "metadata": {},
   "outputs": [],
   "source": [
    "#  * calculate return adjusted for delisting; \n",
    "#  if missing(dlstcd) = 0 then do; \n",
    "#   if missing(ret) = 0 then retadj = (1+ret)*(1+dlret)-1; \n",
    "#   else retadj = dlret; \n",
    "#  end; \n",
    "#  else retadj = ret; \n",
    "#  eretadj = retadj - rf; *** 이게 최종적으로 사용하는 return. risk-free rate를 빼준 것. ;\n",
    "# run;\n",
    "# proc sort data = CRSP_M2; by date permco Meq; run; \n",
    "\n",
    "CRSP_M_df.loc[ # delisting 날의 ret가 있으면 (1+ret)*(1+dlret)-1\n",
    "    CRSP_M_df['DLSTCD'].notna() & CRSP_M_df['RET'].notna(),\n",
    "    'RETADJ'\n",
    "    ] = (1 + CRSP_M_df['RET']) * (1 + CRSP_M_df['DLRET']) - 1\n",
    "\n",
    "CRSP_M_df.loc[ # delisting 날의 ret가 없으면 dlret\n",
    "    CRSP_M_df['DLSTCD'].notna() & CRSP_M_df['RET'].isna(),\n",
    "    'RETADJ'\n",
    "    ] = CRSP_M_df['DLRET']\n",
    "\n",
    "CRSP_M_df['ERETADJ'] = CRSP_M_df['RETADJ'] - CRSP_M_df['rf']\n",
    "CRSP_M_df.sort_values(['DATE', 'PERMCO', 'MEQ'], inplace=True)"
   ]
  },
  {
   "cell_type": "code",
   "execution_count": 237,
   "metadata": {},
   "outputs": [
    {
     "data": {
      "text/plain": [
       "(2921193, 18)"
      ]
     },
     "execution_count": 237,
     "metadata": {},
     "output_type": "execute_result"
    }
   ],
   "source": [
    "CRSP_M_df.shape # NOTE: The data set WORK.CRSP_M2 has 2921193 observations and 18 variables."
   ]
  },
  {
   "cell_type": "code",
   "execution_count": 238,
   "metadata": {},
   "outputs": [],
   "source": [
    "# * There are cases when the same firm (permco) has two or more securities (permno)  \n",
    "# at the same date.  \n",
    "# * We aggregate all ME for a given permco and date,       \n",
    "# * and assign this aggregated ME to the permno with the largest ME; \n",
    "# data CRSP_M3; \n",
    "#  set CRSP_M2; \n",
    "#  by date permco Meq; \n",
    "#  retain ME;  \n",
    "#  if first.permco and last.permco then do; \n",
    "#   ME = Meq; *** Meq는 각 share class의 Market equity, ME는 각 회사(permco)의 Market equity의 합. ;\n",
    "#   output; \n",
    "#  end; \n",
    "\n",
    "# CRSP_M_df['ME'] = CRSP_M_df.groupby(['DATE', 'PERMCO'])['MEQ'].transform('cumsum') # cumsum하면 ME_JUN만들 때 모양이 달라짐.\n",
    "\n",
    "# SAS대로 구현하면 이건데, 이건 생각해보니 말이 안됨. PERMCO, DATE별로 groupby 해야 순서가 맞지. \n",
    "CRSP_M_df['ME'] = CRSP_M_df.groupby(['DATE', 'PERMCO'])['MEQ'].transform('sum')\n",
    "CRSP_M_df = CRSP_M_df.groupby(['DATE', 'PERMCO']).last().reset_index()\n",
    "\n",
    "# 근데 그냥 결과가 같네... 왜지... 아... sum이라 그렇다. \n",
    "# CRSP_M_df['ME'] = CRSP_M_df.groupby(['PERMCO', 'DATE'])['MEQ'].transform('sum')\n",
    "# CRSP_M_df = CRSP_M_df.groupby(['PERMCO', 'DATE']).last().reset_index()"
   ]
  },
  {
   "cell_type": "code",
   "execution_count": 239,
   "metadata": {},
   "outputs": [
    {
     "data": {
      "text/plain": [
       "(2892465, 19)"
      ]
     },
     "execution_count": 239,
     "metadata": {},
     "output_type": "execute_result"
    }
   ],
   "source": [
    "CRSP_M_df.shape # NOTE: The data set WORK.CRSP_M3 has 2892465 observations and 19 variables."
   ]
  },
  {
   "cell_type": "markdown",
   "metadata": {},
   "source": [
    "## SAS6\n",
    "\n",
    "Merge BE and ME with return data"
   ]
  },
  {
   "cell_type": "code",
   "execution_count": 240,
   "metadata": {},
   "outputs": [],
   "source": [
    "# proc sort data = crsp_m3 nodupkey; by permno date; run; *** duplicates 있는지 확인하려고 매번 체크하는 부분; \n",
    "\n",
    "# * SAS 6: Merge BE and ME with Return Data *************************************; \n",
    "\n",
    "# * Calculate BM from the previous year and June ME from this year for each permno; \n",
    "# data ME_Jun; \n",
    "#  set CRSP_M3 (where = (month(date) = 6 & missing(ME) = 0)); \n",
    "#  t = year(date); ** 1999 Dec ME --> t=2000 다음 해에 trading signal로 쓰도록. ; \n",
    "#  ME_Jun = ME; \n",
    "#  keep permno t ME_Jun; ** 이것들만 남기고 나머지는 버려라. ;\n",
    "# run; \n",
    "CRSP_ME_JUN_df = CRSP_M_df.copy()\n",
    "CRSP_ME_JUN_df['T'] = CRSP_ME_JUN_df['DATE'] // 10000\n",
    "CRSP_ME_JUN_df.loc[\n",
    "    (CRSP_ME_JUN_df['DATE'] % 10000 // 100 == 6 ) & \\\n",
    "    CRSP_ME_JUN_df['ME'].notna(), \n",
    "    'ME_JUN'\n",
    "] = CRSP_ME_JUN_df['ME']\n",
    "\n",
    "CRSP_ME_JUN_df = CRSP_ME_JUN_df[['PERMNO', 'T', 'ME_JUN',]]\n",
    "CRSP_ME_JUN_df.sort_values(['PERMNO', 'T'], inplace=True)"
   ]
  },
  {
   "cell_type": "code",
   "execution_count": 241,
   "metadata": {},
   "outputs": [],
   "source": [
    "CRSP_ME_JUN_df.dropna(subset=['ME_JUN'], inplace=True)"
   ]
  },
  {
   "cell_type": "code",
   "execution_count": 242,
   "metadata": {},
   "outputs": [
    {
     "data": {
      "text/plain": [
       "(240644, 3)"
      ]
     },
     "execution_count": 242,
     "metadata": {},
     "output_type": "execute_result"
    }
   ],
   "source": [
    "CRSP_ME_JUN_df.shape # NOTE: There were 239521 observations read from the data set WORK.ME_JUN."
   ]
  },
  {
   "cell_type": "code",
   "execution_count": 243,
   "metadata": {},
   "outputs": [],
   "source": [
    "# data ME_last_Dec; \n",
    "#  set CRSP_M3 (where = (month(date) = 12 & missing(ME) = 0)); \n",
    "#  t = year(date)+1; ** 마찬가지로. +1 해준다. ;  \n",
    "#  ME_last_Dec = ME; \n",
    "#  keep permno t ME_last_Dec; \n",
    "# run; \n",
    "# proc sort data = ME_last_Dec; by permno t; run; \n",
    "\n",
    "CRSP_ME_LAST_DEC_df = CRSP_M_df.copy()\n",
    "CRSP_ME_LAST_DEC_df['T'] = CRSP_ME_LAST_DEC_df['DATE'] // 10000 + 1\n",
    "CRSP_ME_LAST_DEC_df.loc[\n",
    "    (CRSP_ME_LAST_DEC_df['DATE'] % 10000 // 100 == 12 ) & \\\n",
    "    CRSP_ME_LAST_DEC_df['ME'].notna(), \n",
    "    'ME_LAST_DEC'\n",
    "] = CRSP_ME_LAST_DEC_df['ME']\n",
    "\n",
    "CRSP_ME_LAST_DEC_df = CRSP_ME_LAST_DEC_df[['PERMNO', 'T', 'ME_LAST_DEC',]]\n",
    "CRSP_ME_LAST_DEC_df.sort_values(['PERMNO', 'T'], inplace=True)"
   ]
  },
  {
   "cell_type": "code",
   "execution_count": 244,
   "metadata": {},
   "outputs": [],
   "source": [
    "CRSP_ME_LAST_DEC_df.dropna(subset=['ME_LAST_DEC'], inplace=True)"
   ]
  },
  {
   "cell_type": "code",
   "execution_count": 245,
   "metadata": {},
   "outputs": [
    {
     "data": {
      "text/plain": [
       "(243939, 3)"
      ]
     },
     "execution_count": 245,
     "metadata": {},
     "output_type": "execute_result"
    }
   ],
   "source": [
    "CRSP_ME_LAST_DEC_df.shape # NOTE: There were 242805 observations read from the data set WORK.ME_LAST_DEC."
   ]
  },
  {
   "cell_type": "code",
   "execution_count": 246,
   "metadata": {},
   "outputs": [
    {
     "data": {
      "text/html": [
       "<div>\n",
       "<style scoped>\n",
       "    .dataframe tbody tr th:only-of-type {\n",
       "        vertical-align: middle;\n",
       "    }\n",
       "\n",
       "    .dataframe tbody tr th {\n",
       "        vertical-align: top;\n",
       "    }\n",
       "\n",
       "    .dataframe thead th {\n",
       "        text-align: right;\n",
       "    }\n",
       "</style>\n",
       "<table border=\"1\" class=\"dataframe\">\n",
       "  <thead>\n",
       "    <tr style=\"text-align: right;\">\n",
       "      <th></th>\n",
       "      <th>gvkey</th>\n",
       "      <th>permno</th>\n",
       "      <th>year</th>\n",
       "      <th>datadate</th>\n",
       "      <th>itcb</th>\n",
       "      <th>pstk</th>\n",
       "      <th>pstkl</th>\n",
       "      <th>pstkrv</th>\n",
       "      <th>seq</th>\n",
       "      <th>txdb</th>\n",
       "      <th>permco</th>\n",
       "      <th>bvps</th>\n",
       "      <th>be</th>\n",
       "    </tr>\n",
       "  </thead>\n",
       "  <tbody>\n",
       "    <tr>\n",
       "      <th>0</th>\n",
       "      <td>1000</td>\n",
       "      <td>25881.0</td>\n",
       "      <td>1970</td>\n",
       "      <td>19701231</td>\n",
       "      <td>0.0</td>\n",
       "      <td>0.000</td>\n",
       "      <td>0.000</td>\n",
       "      <td>0.000</td>\n",
       "      <td>10.544</td>\n",
       "      <td>0.000</td>\n",
       "      <td>23369.0</td>\n",
       "      <td>0.000</td>\n",
       "      <td>10.544</td>\n",
       "    </tr>\n",
       "    <tr>\n",
       "      <th>1</th>\n",
       "      <td>1000</td>\n",
       "      <td>25881.0</td>\n",
       "      <td>1971</td>\n",
       "      <td>19711231</td>\n",
       "      <td>0.0</td>\n",
       "      <td>0.000</td>\n",
       "      <td>0.000</td>\n",
       "      <td>0.000</td>\n",
       "      <td>8.382</td>\n",
       "      <td>0.000</td>\n",
       "      <td>23369.0</td>\n",
       "      <td>0.000</td>\n",
       "      <td>8.382</td>\n",
       "    </tr>\n",
       "    <tr>\n",
       "      <th>2</th>\n",
       "      <td>1000</td>\n",
       "      <td>25881.0</td>\n",
       "      <td>1972</td>\n",
       "      <td>19721231</td>\n",
       "      <td>0.0</td>\n",
       "      <td>0.000</td>\n",
       "      <td>0.000</td>\n",
       "      <td>0.000</td>\n",
       "      <td>7.021</td>\n",
       "      <td>0.288</td>\n",
       "      <td>23369.0</td>\n",
       "      <td>0.000</td>\n",
       "      <td>7.309</td>\n",
       "    </tr>\n",
       "    <tr>\n",
       "      <th>3</th>\n",
       "      <td>1000</td>\n",
       "      <td>25881.0</td>\n",
       "      <td>1973</td>\n",
       "      <td>19731231</td>\n",
       "      <td>0.0</td>\n",
       "      <td>0.000</td>\n",
       "      <td>0.000</td>\n",
       "      <td>0.000</td>\n",
       "      <td>8.567</td>\n",
       "      <td>0.231</td>\n",
       "      <td>23369.0</td>\n",
       "      <td>0.000</td>\n",
       "      <td>8.798</td>\n",
       "    </tr>\n",
       "    <tr>\n",
       "      <th>4</th>\n",
       "      <td>1000</td>\n",
       "      <td>25881.0</td>\n",
       "      <td>1974</td>\n",
       "      <td>19741231</td>\n",
       "      <td>0.0</td>\n",
       "      <td>0.414</td>\n",
       "      <td>0.414</td>\n",
       "      <td>2.069</td>\n",
       "      <td>10.257</td>\n",
       "      <td>0.091</td>\n",
       "      <td>23369.0</td>\n",
       "      <td>2.069</td>\n",
       "      <td>8.279</td>\n",
       "    </tr>\n",
       "    <tr>\n",
       "      <th>...</th>\n",
       "      <td>...</td>\n",
       "      <td>...</td>\n",
       "      <td>...</td>\n",
       "      <td>...</td>\n",
       "      <td>...</td>\n",
       "      <td>...</td>\n",
       "      <td>...</td>\n",
       "      <td>...</td>\n",
       "      <td>...</td>\n",
       "      <td>...</td>\n",
       "      <td>...</td>\n",
       "      <td>...</td>\n",
       "      <td>...</td>\n",
       "    </tr>\n",
       "    <tr>\n",
       "      <th>263849</th>\n",
       "      <td>296318</td>\n",
       "      <td>13013.0</td>\n",
       "      <td>2012</td>\n",
       "      <td>20121231</td>\n",
       "      <td>0.0</td>\n",
       "      <td>0.000</td>\n",
       "      <td>0.000</td>\n",
       "      <td>0.000</td>\n",
       "      <td>2908.515</td>\n",
       "      <td>0.000</td>\n",
       "      <td>53885.0</td>\n",
       "      <td>0.000</td>\n",
       "      <td>2908.515</td>\n",
       "    </tr>\n",
       "    <tr>\n",
       "      <th>263850</th>\n",
       "      <td>296753</td>\n",
       "      <td>13255.0</td>\n",
       "      <td>2012</td>\n",
       "      <td>20121231</td>\n",
       "      <td>0.0</td>\n",
       "      <td>0.000</td>\n",
       "      <td>0.000</td>\n",
       "      <td>0.000</td>\n",
       "      <td>-22.570</td>\n",
       "      <td>0.000</td>\n",
       "      <td>53991.0</td>\n",
       "      <td>0.000</td>\n",
       "      <td>NaN</td>\n",
       "    </tr>\n",
       "    <tr>\n",
       "      <th>263851</th>\n",
       "      <td>296885</td>\n",
       "      <td>13707.0</td>\n",
       "      <td>2012</td>\n",
       "      <td>20121231</td>\n",
       "      <td>0.0</td>\n",
       "      <td>0.000</td>\n",
       "      <td>0.000</td>\n",
       "      <td>0.000</td>\n",
       "      <td>19.018</td>\n",
       "      <td>0.000</td>\n",
       "      <td>54281.0</td>\n",
       "      <td>0.000</td>\n",
       "      <td>19.018</td>\n",
       "    </tr>\n",
       "    <tr>\n",
       "      <th>263852</th>\n",
       "      <td>297209</td>\n",
       "      <td>13104.0</td>\n",
       "      <td>2011</td>\n",
       "      <td>20111231</td>\n",
       "      <td>0.0</td>\n",
       "      <td>0.000</td>\n",
       "      <td>0.000</td>\n",
       "      <td>0.000</td>\n",
       "      <td>2274.073</td>\n",
       "      <td>NaN</td>\n",
       "      <td>53928.0</td>\n",
       "      <td>0.000</td>\n",
       "      <td>NaN</td>\n",
       "    </tr>\n",
       "    <tr>\n",
       "      <th>263853</th>\n",
       "      <td>297209</td>\n",
       "      <td>13104.0</td>\n",
       "      <td>2012</td>\n",
       "      <td>20121231</td>\n",
       "      <td>0.0</td>\n",
       "      <td>0.000</td>\n",
       "      <td>0.000</td>\n",
       "      <td>0.000</td>\n",
       "      <td>2315.248</td>\n",
       "      <td>NaN</td>\n",
       "      <td>53928.0</td>\n",
       "      <td>0.000</td>\n",
       "      <td>NaN</td>\n",
       "    </tr>\n",
       "  </tbody>\n",
       "</table>\n",
       "<p>263854 rows × 13 columns</p>\n",
       "</div>"
      ],
      "text/plain": [
       "         gvkey   permno  year  datadate  itcb   pstk  pstkl  pstkrv       seq  \\\n",
       "0         1000  25881.0  1970  19701231   0.0  0.000  0.000   0.000    10.544   \n",
       "1         1000  25881.0  1971  19711231   0.0  0.000  0.000   0.000     8.382   \n",
       "2         1000  25881.0  1972  19721231   0.0  0.000  0.000   0.000     7.021   \n",
       "3         1000  25881.0  1973  19731231   0.0  0.000  0.000   0.000     8.567   \n",
       "4         1000  25881.0  1974  19741231   0.0  0.414  0.414   2.069    10.257   \n",
       "...        ...      ...   ...       ...   ...    ...    ...     ...       ...   \n",
       "263849  296318  13013.0  2012  20121231   0.0  0.000  0.000   0.000  2908.515   \n",
       "263850  296753  13255.0  2012  20121231   0.0  0.000  0.000   0.000   -22.570   \n",
       "263851  296885  13707.0  2012  20121231   0.0  0.000  0.000   0.000    19.018   \n",
       "263852  297209  13104.0  2011  20111231   0.0  0.000  0.000   0.000  2274.073   \n",
       "263853  297209  13104.0  2012  20121231   0.0  0.000  0.000   0.000  2315.248   \n",
       "\n",
       "         txdb   permco   bvps        be  \n",
       "0       0.000  23369.0  0.000    10.544  \n",
       "1       0.000  23369.0  0.000     8.382  \n",
       "2       0.288  23369.0  0.000     7.309  \n",
       "3       0.231  23369.0  0.000     8.798  \n",
       "4       0.091  23369.0  2.069     8.279  \n",
       "...       ...      ...    ...       ...  \n",
       "263849  0.000  53885.0  0.000  2908.515  \n",
       "263850  0.000  53991.0  0.000       NaN  \n",
       "263851  0.000  54281.0  0.000    19.018  \n",
       "263852    NaN  53928.0  0.000       NaN  \n",
       "263853    NaN  53928.0  0.000       NaN  \n",
       "\n",
       "[263854 rows x 13 columns]"
      ]
     },
     "execution_count": 246,
     "metadata": {},
     "output_type": "execute_result"
    }
   ],
   "source": [
    "compustat_df"
   ]
  },
  {
   "cell_type": "code",
   "execution_count": 247,
   "metadata": {},
   "outputs": [],
   "source": [
    "# data BE_last_year; \n",
    "#  set BE (where = (missing(BE) = 0)); \n",
    "#  t = year+1; \n",
    "#  BE_last_year = BE; \n",
    "#  keep permno t BE_last_year; \n",
    "# run; \n",
    "# proc sort data = BE_last_year; by permno t; run;\n",
    "\n",
    "compustat_be_last_year_df = compustat_df.copy()\n",
    "compustat_be_last_year_df['t'] = compustat_be_last_year_df['year'] + 1\n",
    "compustat_be_last_year_df.loc[\n",
    "    compustat_be_last_year_df['be'].notna(), \n",
    "    'be_last_year'\n",
    "] = compustat_be_last_year_df['be']\n",
    "\n",
    "compustat_be_last_year_df = compustat_be_last_year_df[['permno', 't', 'be_last_year',]]\n",
    "compustat_be_last_year_df.sort_values(['permno', 't'], inplace=True)\n",
    "compustat_be_last_year_df.dropna(subset=['be_last_year'], inplace=True)"
   ]
  },
  {
   "cell_type": "code",
   "execution_count": 248,
   "metadata": {},
   "outputs": [
    {
     "data": {
      "text/plain": [
       "(263854, 13)"
      ]
     },
     "execution_count": 248,
     "metadata": {},
     "output_type": "execute_result"
    }
   ],
   "source": [
    "compustat_df.shape # NOTE: There were 213229 observations read from the data set WORK.BE_LAST_YEAR."
   ]
  },
  {
   "cell_type": "code",
   "execution_count": 249,
   "metadata": {},
   "outputs": [],
   "source": [
    "# data ME_BM; \n",
    "#  merge ME_Jun (in = a) BE_last_year (in = b) ME_last_Dec (in = c); ** permno t ME_Jun ME_last_Dec BE_last_year ;\n",
    "#  ** ME_Jun은 올해 6월, ME_last_Dec, BE_last_year은 작년 ;\n",
    "#  by permno t; \n",
    "#  if a & b & c; \n",
    "\n",
    "\n",
    "ME_BM_df = pd.merge(\n",
    "    left=CRSP_ME_JUN_df, \n",
    "    right=CRSP_ME_LAST_DEC_df,\n",
    "    how='inner',\n",
    "    on=['PERMNO', 'T'],\n",
    ")\n",
    "\n",
    "ME_BM_df = pd.merge(\n",
    "    left=ME_BM_df,\n",
    "    right=compustat_be_last_year_df,\n",
    "    how='inner',\n",
    "    left_on=['PERMNO', 'T'],\n",
    "    right_on=['permno', 't'],\n",
    ")"
   ]
  },
  {
   "cell_type": "code",
   "execution_count": 251,
   "metadata": {},
   "outputs": [],
   "source": [
    "#  BM = BE_last_year/ME_last_Dec; \n",
    "#  keep permno t ME_Jun BM; \n",
    "# run;\n",
    "\n",
    "ME_BM_df['BM'] = ME_BM_df['be_last_year'] / ME_BM_df['ME_LAST_DEC']\n",
    "ME_BM_df = ME_BM_df[['PERMNO', 'T', 'ME_JUN', 'BM']]"
   ]
  },
  {
   "cell_type": "code",
   "execution_count": 253,
   "metadata": {},
   "outputs": [
    {
     "data": {
      "text/plain": [
       "(174328, 4)"
      ]
     },
     "execution_count": 253,
     "metadata": {},
     "output_type": "execute_result"
    }
   ],
   "source": [
    "ME_BM_df.shape # NOTE: The data set WORK.ME_BM has 174169 observations and 4 variables."
   ]
  },
  {
   "cell_type": "code",
   "execution_count": null,
   "metadata": {},
   "outputs": [],
   "source": []
  }
 ],
 "metadata": {
  "kernelspec": {
   "display_name": ".venv",
   "language": "python",
   "name": "python3"
  },
  "language_info": {
   "codemirror_mode": {
    "name": "ipython",
    "version": 3
   },
   "file_extension": ".py",
   "mimetype": "text/x-python",
   "name": "python",
   "nbconvert_exporter": "python",
   "pygments_lexer": "ipython3",
   "version": "3.10.11"
  }
 },
 "nbformat": 4,
 "nbformat_minor": 2
}
