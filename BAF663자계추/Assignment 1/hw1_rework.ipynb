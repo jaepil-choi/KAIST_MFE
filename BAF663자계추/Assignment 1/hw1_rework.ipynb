{
 "cells": [
  {
   "cell_type": "markdown",
   "id": "acd603ea",
   "metadata": {},
   "source": [
    "# 자계추 hw1: Create Dataset"
   ]
  },
  {
   "cell_type": "code",
   "execution_count": null,
   "id": "b46d4f96",
   "metadata": {},
   "outputs": [],
   "source": [
    "import pandas as pd\n",
    "import numpy as np\n",
    "import matplotlib.pyplot as plt\n",
    "import seaborn as sns\n",
    "\n",
    "from pathlib import Path"
   ]
  },
  {
   "cell_type": "markdown",
   "id": "0d3bcb8f",
   "metadata": {},
   "source": [
    "## Load Datasets"
   ]
  },
  {
   "cell_type": "code",
   "execution_count": null,
   "id": "d050ff00",
   "metadata": {},
   "outputs": [],
   "source": [
    "CWD = Path('.').resolve()\n",
    "DATA_DIR = CWD / 'data'"
   ]
  },
  {
   "cell_type": "code",
   "execution_count": null,
   "id": "e75a48bd",
   "metadata": {},
   "outputs": [],
   "source": [
    "CRSP_M_df = pd.read_csv(DATA_DIR / 'CRSP_M.csv')\n",
    "compustat_df = pd.read_csv(DATA_DIR / 'compustat_permno.csv') \n",
    "sample_df = pd.read_csv(DATA_DIR / 'assignment1_sample_data.csv')"
   ]
  },
  {
   "cell_type": "markdown",
   "id": "7788fffc",
   "metadata": {},
   "source": [
    "## SAS3\n",
    "\n",
    "Construct BE Data\n",
    "\n",
    "Compustat 데이터 사용\n",
    "\n",
    "fiscal year 별로 되어있음. "
   ]
  },
  {
   "cell_type": "code",
   "execution_count": null,
   "id": "e6259268",
   "metadata": {},
   "outputs": [],
   "source": [
    "# * Calculate BE; \n",
    "# data BE; \n",
    "#  set compustat_permno (where = (missing(permno) = 0)); \n",
    "\n",
    "compustat_df.dropna(subset=['permno'], inplace=True)"
   ]
  },
  {
   "cell_type": "code",
   "execution_count": null,
   "id": "6a8f8551",
   "metadata": {},
   "outputs": [],
   "source": [
    "# NOTE: The data set WORK.BE has 264450 observations and 6 variables.\n",
    "\n",
    "compustat_df.shape "
   ]
  },
  {
   "cell_type": "code",
   "execution_count": null,
   "id": "c1df9e71",
   "metadata": {},
   "outputs": [],
   "source": [
    "#  year = year(datadate); \n",
    "\n",
    "compustat_df['year'] = compustat_df['datadate'] // 10000"
   ]
  },
  {
   "cell_type": "code",
   "execution_count": null,
   "id": "0552db73",
   "metadata": {},
   "outputs": [],
   "source": [
    "# if missing(ITCB) then ITCB = 0; * investment tax credit; \n",
    "\n",
    "compustat_df['itcb'] = compustat_df['itcb'].fillna(0)"
   ]
  },
  {
   "cell_type": "code",
   "execution_count": null,
   "id": "6bb2fb31",
   "metadata": {},
   "outputs": [],
   "source": [
    "# SAS 코드에는 없는 내용. 하지만 확인해보면 preferred stock redemption value가 음수인 경우가 있음.\n",
    "# 일단 원본 코드에 없으므로 무시하고 넘어감.\n",
    "\n",
    "# compustat_df.loc[\n",
    "#     compustat_df['pstkrv'] < 0,\n",
    "#     'pstkrv'\n",
    "#     ] = 0"
   ]
  },
  {
   "cell_type": "code",
   "execution_count": null,
   "id": "a15fc29d",
   "metadata": {},
   "outputs": [],
   "source": [
    "# BVPS = PSTKRV; * bool value of preferred stock (BVPS) = preferred stock 의 redemption value로 일단 놓고; \n",
    "#  if missing(BVPS) then BVPS = PSTKL; * 없으면 preferred stock 의 liquidating value; \n",
    "#  if missing(BVPS) then BVPS = PSTK; * 또 없으면 preferred stock의 par value; \n",
    "#  if missing(BVPS) then BVPS = 0; * 다 없으면 0;\n",
    "\n",
    "compustat_df['bvps'] = compustat_df['pstkrv'].fillna(compustat_df['pstkl']) \\\n",
    "                                               .fillna(compustat_df['pstk']) \\\n",
    "                                                .fillna(0)"
   ]
  },
  {
   "cell_type": "code",
   "execution_count": null,
   "id": "de09e7fd",
   "metadata": {},
   "outputs": [],
   "source": [
    "# BE = SEQ + TXDB + ITCB - BVPS; * If SEQ or TXDB is missing, BE, too, will be missing; \n",
    "#  if BE<=0 then BE = .; * If BE<0, the value of BE is taken to be missing;  \n",
    "\n",
    "compustat_df['be'] = compustat_df['seq'] \\\n",
    "                    + compustat_df['txdb'] \\\n",
    "                    + compustat_df['itcb'] \\\n",
    "                    - compustat_df['bvps']\n",
    "\n",
    "compustat_df.loc[compustat_df['be'] <= 0, 'be'] = np.nan"
   ]
  },
  {
   "cell_type": "code",
   "execution_count": null,
   "id": "61515e50",
   "metadata": {},
   "outputs": [],
   "source": [
    "# * In some cases, firms change the month in which their fiscal year ends,  \n",
    "# * resulting in two entries in the Compustat database for the same calendar year y.  \n",
    "# * In such cases, data from the latest in the given calendar year y are used.;  \n",
    "# proc sort data = BE; by gvkey permno year datadate; run; \n",
    "# data BE; \n",
    "#  set BE; \n",
    "#  by gvkey permno year datadate; \n",
    "#  if last.year; \n",
    "# run; \n",
    "# proc sort data = BE nodupkey; by gvkey permno year datadate; run;\n",
    "\n",
    "compustat_df.sort_values(['gvkey', 'permno', 'year', 'datadate'], inplace=True)\n",
    "\n",
    "compustat_df['idx'] = compustat_df.index\n",
    "\n",
    "groupbylast = compustat_df.groupby(['gvkey', 'permno', 'year']).last().reset_index()\n",
    "dropduplicates = compustat_df.drop_duplicates(subset=['gvkey', 'permno', 'year'], keep='last').reset_index()\n",
    "\n",
    "# compustat_df = compustat_df.groupby(['gvkey', 'permno', 'year', ]).last().reset_index()\n",
    "compustat_df.drop_duplicates(subset=['gvkey', 'permno', 'year'], inplace=True, keep='last')\n",
    "\n",
    "# 이 두가지의 결과가 다르다. 당장 row 수는 같게 나오는데 나중에 결과가 다르다. "
   ]
  },
  {
   "cell_type": "code",
   "execution_count": null,
   "id": "47e2c93b",
   "metadata": {},
   "outputs": [],
   "source": [
    "groupbylast['idx']"
   ]
  },
  {
   "cell_type": "code",
   "execution_count": null,
   "id": "8b1e3e1f",
   "metadata": {},
   "outputs": [],
   "source": [
    "dropduplicates['idx']"
   ]
  },
  {
   "cell_type": "code",
   "execution_count": null,
   "id": "7c825345",
   "metadata": {},
   "outputs": [],
   "source": [
    "(groupbylast['idx'] == dropduplicates['idx']).all()"
   ]
  },
  {
   "cell_type": "markdown",
   "id": "86edb06c",
   "metadata": {},
   "source": [
    "??? 심지어 원래의 index를 비교해도 같다? 그럼 정말 둘이 같다는 소리인데... "
   ]
  },
  {
   "cell_type": "code",
   "execution_count": null,
   "id": "3aef6e52",
   "metadata": {},
   "outputs": [],
   "source": [
    "compustat_df"
   ]
  },
  {
   "cell_type": "code",
   "execution_count": null,
   "id": "bf7a9d40",
   "metadata": {},
   "outputs": [],
   "source": [
    "# NOTE: The data set WORK.BE has 263854 observations and 6 variables.\n",
    "\n",
    "compustat_df.shape"
   ]
  },
  {
   "cell_type": "markdown",
   "id": "aa26de45",
   "metadata": {},
   "source": [
    "## SAS5\n",
    "\n",
    "Construct ME and return data\n",
    "\n",
    "CRSP 데이터 사용\n",
    "\n",
    "Monthly data로 되어있음 "
   ]
  },
  {
   "cell_type": "code",
   "execution_count": null,
   "id": "c1281db7",
   "metadata": {},
   "outputs": [],
   "source": [
    "# * SAS 4: Merge CRSP stock and event file and add risk-free rate *******************; \n",
    "\n",
    "# %let filter=%str(shrcd in (10,11) and exchcd in (1,31,2,32,3,33)); \n",
    "\n",
    "# %crspmerge(s = m, outset = CRSP, \n",
    "# start = &start_date, end = &end_date, \n",
    "# sfvars = permco ret vol shrout prc altprc, \n",
    "# sevars = siccd shrcd exchcd dlstcd dlret, \n",
    "# filters=&filter);   \n",
    "\n",
    "\n",
    "# filters # 사실 필터는 이미 적용되어 있음\n",
    "filter_common_stocks = [10, 11] # SHRCD\n",
    "filter_exchange = [ # EXCHCD\n",
    "    1, 31, # NYSE\n",
    "    2, 32, # AMEX\n",
    "    3, 33, # NASDAQ\n",
    "]\n",
    "\n",
    "CRSP_M_df = CRSP_M_df[ CRSP_M_df['SHRCD'].isin(filter_common_stocks) ]\n",
    "CRSP_M_df = CRSP_M_df[ CRSP_M_df['EXCHCD'].isin(filter_exchange) ]"
   ]
  },
  {
   "cell_type": "code",
   "execution_count": null,
   "id": "18036984",
   "metadata": {},
   "outputs": [],
   "source": [
    "CRSP_M_df"
   ]
  },
  {
   "cell_type": "code",
   "execution_count": null,
   "id": "aa47a3fa",
   "metadata": {},
   "outputs": [],
   "source": [
    "CRSP_M_df.shape # NOTE: The data set WORK.CRSP has 2921193 observations and 13 variables."
   ]
  },
  {
   "cell_type": "code",
   "execution_count": null,
   "id": "6e4a57a0",
   "metadata": {},
   "outputs": [],
   "source": [
    "# * SAS 5: Construct ME and return data *************************************; \n",
    "\n",
    "# * Calculate excess return adjusted for delising; \n",
    "# data CRSP_M2; \n",
    "#  set CRSP_M; \n",
    "#  year = year(date); *** date, 매달 마지막 거래일 값이 들어가있다. 거기서 연도를 뽑아냄. ;\n",
    "\n",
    "CRSP_M_df['YEAR'] = CRSP_M_df['DATE'] // 10000"
   ]
  },
  {
   "cell_type": "code",
   "execution_count": null,
   "id": "9c8add4e",
   "metadata": {},
   "outputs": [],
   "source": [
    "# * calculate market capitalization; \n",
    "#  if abs(altprc)>0 and shrout>0 then Meq = abs(altprc)*shrout/1000;  \n",
    "# *** 절대값이 0보다 크면, market equity 값을 계산을 해라. (Meq) 만족 안하면 missing으로 처리.;\n",
    "# ** ALTPRC: last non-missing price over all days in the month인데,  ;\n",
    "# ** CRSP는 거래가 없을 경우 last bid와 last ask의 평균을 - 로 report함. ;\n",
    "# ** 즉, 가격이 -인 것이 오류가 아니라는 소리임. 날려버리면 안됨. ; \n",
    "# ** 진짜 데이터가 available하지 않은 경우는 0이나 missing으로 표시해줌. ;\n",
    "\n",
    "CRSP_M_df['MEQ'] = np.nan\n",
    "CRSP_M_df.loc[ \n",
    "    (CRSP_M_df['ALTPRC'].abs() > 0) & (CRSP_M_df['SHROUT'] > 0) , \n",
    "    'MEQ'\n",
    "    ] = CRSP_M_df['ALTPRC'].abs() * CRSP_M_df['SHROUT'] / 1000"
   ]
  },
  {
   "cell_type": "code",
   "execution_count": null,
   "id": "869a8378",
   "metadata": {},
   "outputs": [],
   "source": [
    "# * if dlret is missing, follow Shumway (1997) to determine dlret; \n",
    "#  if missing(dlstcd) = 0 and missing(dlret) =1 then do; *** delisting code(사유)는 있고 delisting return이 missing이면, 아래와 같이 처리.;\n",
    "#   if dlstcd in (500, 520, 574, 580, 584) or (dlstcd>=551 and dlstcd<=573)  \n",
    "#    then dlret = -0.3; *** 위 사유들에 대해선 적당히 -0.3으로 처리;\n",
    "#   else dlret = -1; *** 그 외에는 -1 (-100%)로 처리;\n",
    "#  end; \n",
    "\n",
    "dlstcd_filter = [500, 520, 574, 580, 584] + list(range(551, 573+1))\n",
    "CRSP_M_df.loc[\n",
    "    (CRSP_M_df['DLSTCD'].isin(dlstcd_filter)) & \n",
    "    (CRSP_M_df['DLRET'].isna()), \n",
    "    'DLRET'\n",
    "    ] = -0.3\n",
    "\n",
    "CRSP_M_df.loc[\n",
    "    (~CRSP_M_df['DLSTCD'].isin(dlstcd_filter)) & \\\n",
    "    CRSP_M_df['DLSTCD'].notna() & \\\n",
    "    (CRSP_M_df['DLRET'].isna()), \\\n",
    "    'DLRET'\n",
    "    ] = CRSP_M_df['DLRET'].fillna(-1)"
   ]
  },
  {
   "cell_type": "code",
   "execution_count": null,
   "id": "e678ad63",
   "metadata": {},
   "outputs": [],
   "source": [
    "#  * calculate return adjusted for delisting; \n",
    "#  if missing(dlstcd) = 0 then do; \n",
    "#   if missing(ret) = 0 then retadj = (1+ret)*(1+dlret)-1; \n",
    "#   else retadj = dlret; \n",
    "#  end; \n",
    "#  else retadj = ret; \n",
    "#  eretadj = retadj - rf; *** 이게 최종적으로 사용하는 return. risk-free rate를 빼준 것. ;\n",
    "# run;\n",
    "# proc sort data = CRSP_M2; by date permco Meq; run; \n",
    "\n",
    "# dlstcd가 있을 때 \n",
    "CRSP_M_df.loc[ # delisting 날의 ret가 있으면 (1+ret)*(1+dlret)-1\n",
    "    CRSP_M_df['DLSTCD'].notna() & CRSP_M_df['RET'].notna(),\n",
    "    'RETADJ'\n",
    "    ] = (1 + CRSP_M_df['RET']) * (1 + CRSP_M_df['DLRET']) - 1\n",
    "\n",
    "CRSP_M_df.loc[ # delisting 날의 ret가 없으면 dlret\n",
    "    CRSP_M_df['DLSTCD'].notna() & CRSP_M_df['RET'].isna(),\n",
    "    'RETADJ'\n",
    "    ] = CRSP_M_df['DLRET']\n",
    "\n",
    "# dlstcd가 없을 때\n",
    "CRSP_M_df.loc[\n",
    "    CRSP_M_df['DLSTCD'].isna(),\n",
    "    'RETADJ'\n",
    "    ] = CRSP_M_df['RET']\n",
    "\n",
    "CRSP_M_df['ERETADJ'] = CRSP_M_df['RETADJ'] - CRSP_M_df['rf']\n",
    "CRSP_M_df.sort_values(['DATE', 'PERMCO', 'MEQ'], inplace=True)"
   ]
  },
  {
   "cell_type": "code",
   "execution_count": null,
   "id": "26f9e659",
   "metadata": {},
   "outputs": [],
   "source": [
    "CRSP_M_df"
   ]
  },
  {
   "cell_type": "code",
   "execution_count": null,
   "id": "2c1752c1",
   "metadata": {},
   "outputs": [],
   "source": [
    "CRSP_M_df.shape # NOTE: The data set WORK.CRSP_M2 has 2921193 observations and 18 variables."
   ]
  },
  {
   "cell_type": "code",
   "execution_count": null,
   "id": "473d15a3",
   "metadata": {
    "lines_to_next_cell": 2
   },
   "outputs": [],
   "source": [
    "# * There are cases when the same firm (permco) has two or more securities (permno)  \n",
    "# at the same date.  \n",
    "# * We aggregate all ME for a given permco and date,       \n",
    "# * and assign this aggregated ME to the permno with the largest ME; \n",
    "# data CRSP_M3; \n",
    "#  set CRSP_M2; \n",
    "#  by date permco Meq; \n",
    "#  retain ME;  \n",
    "#  if first.permco and last.permco then do; \n",
    "#   ME = Meq; *** Meq는 각 share class의 Market equity, ME는 각 회사(permco)의 Market equity의 합. ;\n",
    "#   output; \n",
    "#  end; \n",
    "\n",
    "\n",
    "# nan 포함하여 groupby 하여 개수 확인\n",
    "CRSP_M_df['count_permno'] = CRSP_M_df.groupby(['DATE', 'PERMCO'])['PERMNO'].transform('size')\n",
    "\n",
    "# ME를 일단 nan으로 초기화\n",
    "CRSP_M_df['ME'] = np.nan\n",
    "\n",
    "# first.permco and last.permco 즉 1개인 경우\n",
    "CRSP_M_df.loc[CRSP_M_df['count_permno'] == 1, 'ME'] = CRSP_M_df['MEQ']"
   ]
  },
  {
   "cell_type": "code",
   "execution_count": null,
   "id": "7e40a5dd",
   "metadata": {},
   "outputs": [],
   "source": [
    "#  else do; \n",
    "#   if first.permco then ME = Meq; *** ME는 Meq의 누적합. ;\n",
    "#   else ME = sum(Meq, ME); *** 누적합하는 컬럼 ME를 만들었으니, 누적합하는데 사용한 그 이전의 row들은 다 날림. ;\n",
    "#   If last.permco then output; \n",
    "#  end; \n",
    "\n",
    "# 2개 이상인 경우, MEQ를 합\n",
    "# CRSP_M_df.loc[CRSP_M_df['count_permno'] > 1, 'ME'] = CRSP_M_df.groupby(['DATE', 'PERMCO'])['MEQ'].transform('sum')\n",
    "CRSP_M_df.loc[CRSP_M_df['count_permno'] > 1, 'ME'] = CRSP_M_df.groupby(['DATE', 'PERMCO'])['MEQ'].transform('cumsum')\n",
    "\n",
    "# 가장 큰 ME를 가진 PERMNO를 선택\n",
    "CRSP_M_df = CRSP_M_df.sort_values(['DATE', 'PERMCO', 'ME'], ascending=[True, True, False])\n",
    "## MEQ가 아니라 ME로 변경 (그래도 차이는 없음)\n",
    "\n",
    "# CRSP_M_df = CRSP_M_df.groupby(['DATE', 'PERMCO']).last().reset_index()\n",
    "CRSP_M_df = CRSP_M_df.drop_duplicates(subset=['DATE', 'PERMCO'], keep='first').reset_index(drop=True)"
   ]
  },
  {
   "cell_type": "markdown",
   "id": "dea0a298",
   "metadata": {},
   "source": [
    "여기서도 groupby last 대신 drop duplicates keep last 를 사용하니 또 달라짐. \n",
    "\n",
    "확실히 두 operation은 다름"
   ]
  },
  {
   "cell_type": "code",
   "execution_count": null,
   "id": "115a6420",
   "metadata": {},
   "outputs": [],
   "source": [
    "\n",
    "\n",
    "# 임시 컬럼 제거\n",
    "CRSP_M_df.drop(columns=['count_permno'], inplace=True)"
   ]
  },
  {
   "cell_type": "code",
   "execution_count": null,
   "id": "fff6aab3",
   "metadata": {},
   "outputs": [],
   "source": [
    "CRSP_M_df"
   ]
  },
  {
   "cell_type": "code",
   "execution_count": null,
   "id": "d6257ab6",
   "metadata": {},
   "outputs": [],
   "source": [
    "CRSP_M_df.shape # NOTE: The data set WORK.CRSP_M3 has 2892465 observations and 19 variables."
   ]
  },
  {
   "cell_type": "markdown",
   "id": "4290699a",
   "metadata": {},
   "source": [
    "## SAS6\n",
    "\n",
    "Merge BE and ME with return data"
   ]
  },
  {
   "cell_type": "code",
   "execution_count": null,
   "id": "ff592bfb",
   "metadata": {},
   "outputs": [],
   "source": [
    "# proc sort data = crsp_m3 nodupkey; by permno date; run; *** duplicates 있는지 확인하려고 매번 체크하는 부분; \n",
    "\n",
    "# * SAS 6: Merge BE and ME with Return Data *************************************; \n",
    "\n",
    "# * Calculate BM from the previous year and June ME from this year for each permno; \n",
    "# data ME_Jun; \n",
    "#  set CRSP_M3 (where = (month(date) = 6 & missing(ME) = 0)); \n",
    "#  t = year(date); ** 1999 Dec ME --> t=2000 다음 해에 trading signal로 쓰도록. ; \n",
    "#  ME_Jun = ME; \n",
    "#  keep permno t ME_Jun; ** 이것들만 남기고 나머지는 버려라. ;\n",
    "# run; \n",
    "CRSP_ME_JUN_df = CRSP_M_df.copy()\n",
    "CRSP_ME_JUN_df['T'] = CRSP_ME_JUN_df['DATE'] // 10000\n",
    "CRSP_ME_JUN_df.loc[\n",
    "    (CRSP_ME_JUN_df['DATE'] % 10000 // 100 == 6 ) & \\\n",
    "    CRSP_ME_JUN_df['ME'].notna(), \n",
    "    'ME_JUN'\n",
    "] = CRSP_ME_JUN_df['ME']\n",
    "\n",
    "CRSP_ME_JUN_df = CRSP_ME_JUN_df[['PERMNO', 'T', 'ME_JUN',]]\n",
    "CRSP_ME_JUN_df.sort_values(['PERMNO', 'T'], inplace=True)"
   ]
  },
  {
   "cell_type": "code",
   "execution_count": null,
   "id": "ac2e4295",
   "metadata": {},
   "outputs": [],
   "source": [
    "CRSP_ME_JUN_df.dropna(subset=['ME_JUN'], inplace=True)"
   ]
  },
  {
   "cell_type": "code",
   "execution_count": null,
   "id": "aede58cd",
   "metadata": {},
   "outputs": [],
   "source": [
    "CRSP_ME_JUN_df"
   ]
  },
  {
   "cell_type": "code",
   "execution_count": null,
   "id": "5892ce95",
   "metadata": {},
   "outputs": [],
   "source": [
    "CRSP_ME_JUN_df.shape # NOTE: There were 239521 observations read from the data set WORK.ME_JUN."
   ]
  },
  {
   "cell_type": "code",
   "execution_count": null,
   "id": "c028240f",
   "metadata": {},
   "outputs": [],
   "source": [
    "# data ME_last_Dec; \n",
    "#  set CRSP_M3 (where = (month(date) = 12 & missing(ME) = 0)); \n",
    "#  t = year(date)+1; ** 마찬가지로. +1 해준다. ;  \n",
    "#  ME_last_Dec = ME; \n",
    "#  keep permno t ME_last_Dec; \n",
    "# run; \n",
    "# proc sort data = ME_last_Dec; by permno t; run; \n",
    "\n",
    "CRSP_ME_LAST_DEC_df = CRSP_M_df.copy()\n",
    "CRSP_ME_LAST_DEC_df['T'] = CRSP_ME_LAST_DEC_df['DATE'] // 10000 + 1\n",
    "CRSP_ME_LAST_DEC_df.loc[\n",
    "    (CRSP_ME_LAST_DEC_df['DATE'] % 10000 // 100 == 12 ) & \\\n",
    "    CRSP_ME_LAST_DEC_df['ME'].notna(), \n",
    "    'ME_LAST_DEC'\n",
    "] = CRSP_ME_LAST_DEC_df['ME']\n",
    "\n",
    "CRSP_ME_LAST_DEC_df = CRSP_ME_LAST_DEC_df[['PERMNO', 'T', 'ME_LAST_DEC',]]\n",
    "CRSP_ME_LAST_DEC_df.sort_values(['PERMNO', 'T'], inplace=True)"
   ]
  },
  {
   "cell_type": "code",
   "execution_count": null,
   "id": "dd102f3c",
   "metadata": {},
   "outputs": [],
   "source": [
    "CRSP_ME_LAST_DEC_df.dropna(subset=['ME_LAST_DEC'], inplace=True)"
   ]
  },
  {
   "cell_type": "code",
   "execution_count": null,
   "id": "7c272731",
   "metadata": {},
   "outputs": [],
   "source": [
    "CRSP_ME_LAST_DEC_df"
   ]
  },
  {
   "cell_type": "code",
   "execution_count": null,
   "id": "28ca43aa",
   "metadata": {},
   "outputs": [],
   "source": [
    "CRSP_ME_LAST_DEC_df.shape # NOTE: There were 242805 observations read from the data set WORK.ME_LAST_DEC."
   ]
  },
  {
   "cell_type": "code",
   "execution_count": null,
   "id": "d2516d94",
   "metadata": {},
   "outputs": [],
   "source": [
    "# data BE_last_year; \n",
    "#  set BE (where = (missing(BE) = 0)); \n",
    "#  t = year+1; \n",
    "#  BE_last_year = BE; \n",
    "#  keep permno t BE_last_year; \n",
    "# run; \n",
    "# proc sort data = BE_last_year; by permno t; run;\n",
    "\n",
    "compustat_be_last_year_df = compustat_df.copy()\n",
    "compustat_be_last_year_df['t'] = compustat_be_last_year_df['year'] + 1\n",
    "# compustat_be_last_year_df.dropna(subset=['be'], inplace=True)\n",
    "compustat_be_last_year_df.loc[\n",
    "    compustat_be_last_year_df['be'].notna(),\n",
    "    'be_last_year'\n",
    "    ] = compustat_be_last_year_df['be']\n",
    "\n",
    "compustat_be_last_year_df = compustat_be_last_year_df[['permno', 't', 'be_last_year',]]\n",
    "compustat_be_last_year_df.sort_values(['permno', 't'], inplace=True)\n",
    "compustat_be_last_year_df.dropna(subset=['be_last_year'], inplace=True)"
   ]
  },
  {
   "cell_type": "code",
   "execution_count": null,
   "id": "14aa9e35",
   "metadata": {},
   "outputs": [],
   "source": [
    "compustat_be_last_year_df"
   ]
  },
  {
   "cell_type": "code",
   "execution_count": null,
   "id": "4c1e1b58",
   "metadata": {},
   "outputs": [],
   "source": [
    "compustat_be_last_year_df.shape # NOTE: There were 213229 observations read from the data set WORK.BE_LAST_YEAR."
   ]
  },
  {
   "cell_type": "code",
   "execution_count": null,
   "id": "7dacd459",
   "metadata": {},
   "outputs": [],
   "source": [
    "# data ME_BM; \n",
    "#  merge ME_Jun (in = a) BE_last_year (in = b) ME_last_Dec (in = c); ** permno t ME_Jun ME_last_Dec BE_last_year ;\n",
    "#  ** ME_Jun은 올해 6월, ME_last_Dec, BE_last_year은 작년 ;\n",
    "#  by permno t; \n",
    "#  if a & b & c; \n",
    "\n",
    "ME_BM_df = pd.merge(\n",
    "    left=CRSP_ME_JUN_df, \n",
    "    right=CRSP_ME_LAST_DEC_df,\n",
    "    how='inner',\n",
    "    on=['PERMNO', 'T'],\n",
    ")\n",
    "\n",
    "ME_BM_df = pd.merge(\n",
    "    left=ME_BM_df,\n",
    "    right=compustat_be_last_year_df,\n",
    "    how='inner',\n",
    "    left_on=['PERMNO', 'T'],\n",
    "    right_on=['permno', 't'],\n",
    ")"
   ]
  },
  {
   "cell_type": "code",
   "execution_count": null,
   "id": "a2663e90",
   "metadata": {},
   "outputs": [],
   "source": [
    "#  BM = BE_last_year/ME_last_Dec; \n",
    "#  keep permno t ME_Jun BM; \n",
    "# run;\n",
    "\n",
    "ME_BM_df['BM'] = ME_BM_df['be_last_year'] / ME_BM_df['ME_LAST_DEC']\n",
    "ME_BM_df = ME_BM_df[['PERMNO', 'T', 'ME_JUN', 'BM']]"
   ]
  },
  {
   "cell_type": "code",
   "execution_count": null,
   "id": "5cfac9e3",
   "metadata": {},
   "outputs": [],
   "source": [
    "ME_BM_df"
   ]
  },
  {
   "cell_type": "code",
   "execution_count": null,
   "id": "3e319e49",
   "metadata": {},
   "outputs": [],
   "source": [
    "ME_BM_df.shape # NOTE: The data set WORK.ME_BM has 174169 observations and 4 variables."
   ]
  },
  {
   "cell_type": "markdown",
   "id": "22fcd549",
   "metadata": {},
   "source": [
    "아래부턴 교수님이 코드를 주셨으니 일단 그대로 씀 \n"
   ]
  },
  {
   "cell_type": "markdown",
   "id": "a0493866",
   "metadata": {},
   "source": [
    "```python\n",
    "\"\"\"\n",
    "* Match each permno's monthly return to the corresponding BM and ME;\n",
    "\n",
    "data ret; \n",
    "    set CRSP_M3; \n",
    "    if month(date)>6 then t = year(date); \n",
    "    else t = year(date)-1; \n",
    "run; \n",
    "\"\"\"\n",
    "\n",
    "crsp_m3['t'] = crsp_m3['date'].apply(lambda date: date.year if date.month > 6 else date.year-1)\n",
    "\n",
    "# proc sort data = ret; by permno t date; run; \n",
    "crsp_m3 = crsp_m3.sort_values(by=['permno', 't', 'date'])\n",
    "```"
   ]
  },
  {
   "cell_type": "code",
   "execution_count": null,
   "id": "943a51aa",
   "metadata": {
    "lines_to_next_cell": 2
   },
   "outputs": [],
   "source": [
    "RET_df = CRSP_M_df.copy()\n",
    "\n",
    "RET_df['pddate'] = pd.to_datetime(RET_df['DATE'], format='%Y%m%d')\n",
    "RET_df['T'] = RET_df['pddate'].apply(lambda date: date.year if date.month > 6 else date.year - 1)\n",
    "# RET_df.loc[\n",
    "#     RET_df['pddate'].dt.month > 6,\n",
    "#     'T'\n",
    "#     ] = RET_df['pddate'].dt.year\n",
    "# RET_df.loc[\n",
    "#     RET_df['pddate'].dt.month <= 6,\n",
    "#     'T'\n",
    "#     ] = RET_df['pddate'].dt.year - 1"
   ]
  },
  {
   "cell_type": "code",
   "execution_count": null,
   "id": "326e47ca",
   "metadata": {},
   "outputs": [],
   "source": [
    "RET_df.sort_values(['PERMNO', 'T', 'pddate'], inplace=True)"
   ]
  },
  {
   "cell_type": "code",
   "execution_count": null,
   "id": "649029af",
   "metadata": {},
   "outputs": [],
   "source": [
    "RET_df.shape # NOTE: The data set WORK.RET has 2892465 observations and 20 variables."
   ]
  },
  {
   "cell_type": "markdown",
   "id": "f3db7fd2",
   "metadata": {},
   "source": [
    "```python\n",
    "%%time\n",
    "\n",
    "\"\"\"\n",
    "data ret_ME_BM; \n",
    "    merge ret (in = a) ME_BM (in = b); \n",
    "    by permno t; \n",
    "    if a; \n",
    "run;\n",
    "\"\"\"\n",
    "\n",
    "ret_me_bm = pd.merge(crsp_m3, me_bm, on=['permno', 't'], how='left')\n",
    "ret_me_bm = ret_me_bm.drop_duplicates(subset=['permno', 'date', 'year'], keep='last')\n",
    "```"
   ]
  },
  {
   "cell_type": "code",
   "execution_count": null,
   "id": "446fd9a9",
   "metadata": {},
   "outputs": [],
   "source": [
    "RET_ME_BM_df = pd.merge(\n",
    "    left=RET_df,\n",
    "    right=ME_BM_df,\n",
    "    how='left',\n",
    "    on=['PERMNO', 'T'],\n",
    ")"
   ]
  },
  {
   "cell_type": "code",
   "execution_count": null,
   "id": "36bdbada",
   "metadata": {},
   "outputs": [],
   "source": [
    "RET_ME_BM_df.drop_duplicates(\n",
    "    subset=['PERMNO', 'pddate', 'YEAR'], \n",
    "    inplace=True, \n",
    "    keep='last',\n",
    "    )"
   ]
  },
  {
   "cell_type": "code",
   "execution_count": null,
   "id": "25aa52c0",
   "metadata": {},
   "outputs": [],
   "source": [
    "RET_ME_BM_df.sort_values(['PERMNO', 'pddate'], inplace=True)"
   ]
  },
  {
   "cell_type": "code",
   "execution_count": null,
   "id": "466a13db",
   "metadata": {},
   "outputs": [],
   "source": [
    "RET_ME_BM_df.shape"
   ]
  },
  {
   "cell_type": "markdown",
   "id": "e57b78a8",
   "metadata": {},
   "source": [
    "```python\n",
    "%%time\n",
    "\n",
    "\"\"\"\n",
    "* Also add the mktcap and stock price from the previous month; \n",
    "data ret_ME_BM; \n",
    "    set ret_ME_BM;\n",
    "    \n",
    "    altprc_lag1 = lag1(altprc); \n",
    "    ME_lag1 = lag1(ME);\n",
    "\n",
    "    permno_lag1 = lag1(permno); \n",
    "    date_lag1 = lag1(date);\n",
    "\n",
    "    if (permno NE permno_lag1) or (intck('month',date_lag1,date)>1) then do; \n",
    "        altprc_lag1 = .; \n",
    "        ME_lag1 = .; \n",
    "            end; \n",
    "run;\n",
    "\"\"\"\n",
    "\n",
    "altprc_lag_df = pd.pivot_table(ret_me_bm, index='date', columns='permno', values='altprc').sort_index().shift(1)\n",
    "altprc_lag = altprc_lag_df.reset_index().melt(id_vars='date', var_name='permno', value_name='altprc_lag1').dropna()\n",
    "\n",
    "me_lag_df = pd.pivot_table(ret_me_bm, index='date', columns='permno', values='me').sort_index().shift(1)\n",
    "me_lag = me_lag_df.reset_index().melt(id_vars='date', var_name='permno', value_name='me_lag1').dropna()\n",
    "\n",
    "ret_me_bm = pd.merge(ret_me_bm, altprc_lag, on=['date', 'permno'], how='left')\n",
    "ret_me_bm = pd.merge(ret_me_bm, me_lag, on=['date', 'permno'], how='left')\n",
    "```"
   ]
  },
  {
   "cell_type": "code",
   "execution_count": null,
   "id": "3b841bb5",
   "metadata": {},
   "outputs": [],
   "source": [
    "altprc_lag_df = pd.pivot_table(\n",
    "    RET_ME_BM_df, \n",
    "    index='pddate', \n",
    "    columns='PERMNO', \n",
    "    values='ALTPRC'\n",
    "    ).sort_index().shift(1)\n",
    "\n",
    "altprc_lag = altprc_lag_df.reset_index().melt(\n",
    "    id_vars='pddate', \n",
    "    var_name='PERMNO', \n",
    "    value_name='ALTPRC_LAG1'\n",
    "    ).dropna()\n",
    "\n",
    "me_lag_df = pd.pivot_table(\n",
    "    RET_ME_BM_df, \n",
    "    index='pddate', \n",
    "    columns='PERMNO', \n",
    "    values='ME'\n",
    "    ).sort_index().shift(1)\n",
    "\n",
    "me_lag = me_lag_df.reset_index().melt(\n",
    "    id_vars='pddate', \n",
    "    var_name='PERMNO', \n",
    "    value_name='ME_LAG1'\n",
    "    ).dropna()\n",
    "\n",
    "RET_ME_BM_df = pd.merge(\n",
    "    RET_ME_BM_df, \n",
    "    altprc_lag, \n",
    "    on=['pddate', 'PERMNO'], \n",
    "    how='left'\n",
    "    )\n",
    "RET_ME_BM_df = pd.merge(\n",
    "    RET_ME_BM_df, \n",
    "    me_lag, \n",
    "    on=['pddate', 'PERMNO'], \n",
    "    how='left'\n",
    "    )"
   ]
  },
  {
   "cell_type": "markdown",
   "id": "5227a00e",
   "metadata": {},
   "source": [
    "여기부터 안맞음. 차이는 아주 작은데... "
   ]
  },
  {
   "cell_type": "code",
   "execution_count": null,
   "id": "e8a05579",
   "metadata": {},
   "outputs": [],
   "source": [
    "RET_ME_BM_df['ALTPRC_LAG1'].isna().sum() # NOTE: The data set WORK.TT has 38518 observations and 26 variables."
   ]
  },
  {
   "cell_type": "markdown",
   "id": "2fddb094",
   "metadata": {},
   "source": [
    "```python\n",
    "%%time\n",
    "\n",
    "\"\"\"\n",
    "* Exclude observations with missing values; \n",
    "\n",
    "data assignment1_data; \n",
    "    retain permno date year exchcd siccd retadj eretadj altprc_lag1 ME_lag1 ME_Jun BM; \n",
    "        set ret_ME_BM; \n",
    "        if nmiss(retadj, ME_lag1, ME_Jun, BM) = 0; \n",
    "        keep permno date year exchcd siccd retadj eretadj altprc_lag1 ME_lag1 ME_Jun BM;         \n",
    "run;\n",
    "\"\"\"\n",
    "\n",
    "ret_me_bm = ret_me_bm[['permno', 'date', 'year', 'exchcd', 'siccd', 'retadj', 'eretadj', 'altprc_lag1', 'me_lag1', 'me_jun', 'bm']]\n",
    "ret_me_bm = ret_me_bm.dropna(subset=['retadj', 'me_lag1', 'me_jun', 'bm'])\n",
    "```"
   ]
  },
  {
   "cell_type": "code",
   "execution_count": null,
   "id": "16bd6636",
   "metadata": {
    "lines_to_next_cell": 2
   },
   "outputs": [],
   "source": [
    "# %%time\n",
    "\n",
    "# \"\"\"\n",
    "# * Exclude observations with missing values; \n",
    "\n",
    "# data assignment1_data; \n",
    "#     retain permno date year exchcd siccd retadj eretadj altprc_lag1 ME_lag1 ME_Jun BM; \n",
    "#         set ret_ME_BM; \n",
    "#         if nmiss(retadj, ME_lag1, ME_Jun, BM) = 0; \n",
    "#         keep permno date year exchcd siccd retadj eretadj altprc_lag1 ME_lag1 ME_Jun BM;         \n",
    "# run;\n",
    "# \"\"\"\n",
    "\n",
    "# ret_me_bm = ret_me_bm[['permno', 'date', 'year', 'exchcd', 'siccd', 'retadj', 'eretadj', 'altprc_lag1', 'me_lag1', 'me_jun', 'bm']]\n",
    "# ret_me_bm = ret_me_bm.dropna(subset=['retadj', 'me_lag1', 'me_jun', 'bm'])\n",
    "\n",
    "RET_ME_BM_df = RET_ME_BM_df[\n",
    "    [\n",
    "        'PERMNO',\n",
    "        'DATE',\n",
    "        'YEAR',\n",
    "        'EXCHCD',\n",
    "        'SICCD',\n",
    "        'RETADJ',\n",
    "        'ERETADJ',\n",
    "        'ALTPRC_LAG1',\n",
    "        'ME_LAG1',\n",
    "        'ME_JUN',\n",
    "        'BM',\n",
    "    ]\n",
    "]\n",
    "RET_ME_BM_df.dropna(subset=['RETADJ', 'ME_LAG1', 'ME_JUN', 'BM'], inplace=True)"
   ]
  },
  {
   "cell_type": "markdown",
   "id": "449a0bc3",
   "metadata": {},
   "source": [
    "여기도 안맞음 딱 1차이남"
   ]
  },
  {
   "cell_type": "code",
   "execution_count": null,
   "id": "857660e5",
   "metadata": {},
   "outputs": [],
   "source": [
    "RET_ME_BM_df.shape # NOTE: The data set WORK.ASSIGNMENT1_DATA has 1983365 observations and 11"
   ]
  },
  {
   "cell_type": "code",
   "execution_count": null,
   "id": "6dd28597",
   "metadata": {},
   "outputs": [],
   "source": [
    "RET_ME_BM_df[ RET_ME_BM_df['DATE'] == 20121231]"
   ]
  },
  {
   "cell_type": "code",
   "execution_count": null,
   "id": "fb9394c3",
   "metadata": {},
   "outputs": [],
   "source": [
    "RET_ME_BM_df.iloc[:25]"
   ]
  },
  {
   "cell_type": "markdown",
   "id": "64446311",
   "metadata": {},
   "source": [
    "```python\n",
    "from pandas.tseries.offsets import MonthEnd\n",
    "\n",
    "ret_me_bm['date'] = ret_me_bm['date'] + MonthEnd(0)\n",
    "\n",
    "summ_dates = [str(x) + '-12-31' for x in range(1970, 2013, 1)]\n",
    "summ_stats1 = pd.DataFrame(index=summ_dates, columns=['mean', 'std', 'min', 'max', \"N of permno's\"])\n",
    "\n",
    "for date in summ_dates:\n",
    "    tmp_eretadj = ret_me_bm[ret_me_bm['date']==date]['eretadj']\n",
    "    tmp_permno = ret_me_bm[ret_me_bm['date']==date]['permno']\n",
    "    summ_stats1.loc[date] = [tmp_eretadj.mean(), tmp_eretadj.std(), tmp_eretadj.min(), tmp_eretadj.max(), len(tmp_permno.unique())]\n",
    "\n",
    "summ_stats1\n",
    "```"
   ]
  },
  {
   "cell_type": "code",
   "execution_count": null,
   "id": "129ad106",
   "metadata": {},
   "outputs": [],
   "source": [
    "from pandas.tseries.offsets import MonthEnd\n",
    "\n",
    "RET_ME_BM_df['pddate'] = pd.to_datetime(RET_ME_BM_df['DATE'], format='%Y%m%d')\n",
    "RET_ME_BM_df['pddate'] = RET_ME_BM_df['pddate'] + MonthEnd(0)\n",
    "\n",
    "summ_dates = [str(x) + '-12-31' for x in range(1970, 2013, 1)]\n",
    "summ_stats1 = pd.DataFrame(index=summ_dates, columns=['mean', 'std', 'min', 'max', \"N of permno's\"])\n",
    "\n",
    "for date in summ_dates:\n",
    "    tmp_eretadj = RET_ME_BM_df[RET_ME_BM_df['pddate']==date]['ERETADJ']\n",
    "    tmp_permno = RET_ME_BM_df[RET_ME_BM_df['pddate']==date]['PERMNO']\n",
    "    summ_stats1.loc[date] = [tmp_eretadj.mean(), tmp_eretadj.std(), tmp_eretadj.min(), tmp_eretadj.max(), len(tmp_permno.unique())]\n",
    "\n",
    "summ_stats1"
   ]
  },
  {
   "cell_type": "code",
   "execution_count": null,
   "id": "e2bbdd02",
   "metadata": {},
   "outputs": [],
   "source": [
    "summ_stats1.index"
   ]
  },
  {
   "cell_type": "code",
   "execution_count": null,
   "id": "ef8d8e29",
   "metadata": {},
   "outputs": [],
   "source": [
    "summ_stats1.loc[summ_stats1.index.str[3] == '0', :]"
   ]
  },
  {
   "cell_type": "markdown",
   "id": "772efb6f",
   "metadata": {},
   "source": [
    "```python\n",
    "from pandas.tseries.offsets import MonthEnd\n",
    "aa = pd.read_csv('./assignment1_data.csv', encoding='cp949')\n",
    "aa['date'] = pd.to_datetime(aa['date'], format='%Y%m%d') + MonthEnd(0)\n",
    "\n",
    "summ_dates = [str(x) + '-12-31' for x in range(1970, 2013, 1)]\n",
    "summ_stats2 = pd.DataFrame(index=summ_dates, columns=['mean', 'std', 'min', 'max', \"N of permno's\"])\n",
    "\n",
    "for date in summ_dates:\n",
    "    tmp_eretadj = aa[aa['date']==date]['eretadj']\n",
    "    tmp_permno = aa[aa['date']==date]['permno']\n",
    "    summ_stats2.loc[date] = [tmp_eretadj.mean(), tmp_eretadj.std(), tmp_eretadj.min(), tmp_eretadj.max(), len(tmp_permno.unique())]\n",
    "\n",
    "summ_stats2\n",
    "```"
   ]
  },
  {
   "cell_type": "code",
   "execution_count": null,
   "id": "a194e9c6",
   "metadata": {
    "lines_to_next_cell": 2
   },
   "outputs": [],
   "source": [
    "from pandas.tseries.offsets import MonthEnd\n",
    "\n",
    "summ_dates = [str(x) + '-12-31' for x in range(1970, 2013, 1)]\n",
    "summ_stats2 = pd.DataFrame(index=summ_dates, columns=['mean', 'std', 'min', 'max', \"N of permno's\"])\n",
    "\n",
    "for date in summ_dates:\n",
    "    tmp_eretadj = RET_ME_BM_df[RET_ME_BM_df['pddate']==date]['ERETADJ']\n",
    "    tmp_permno = RET_ME_BM_df[RET_ME_BM_df['pddate']==date]['PERMNO']\n",
    "    summ_stats2.loc[date] = [tmp_eretadj.mean(), tmp_eretadj.std(), tmp_eretadj.min(), tmp_eretadj.max(), len(tmp_permno.unique())]"
   ]
  },
  {
   "cell_type": "code",
   "execution_count": null,
   "id": "dde9eace",
   "metadata": {},
   "outputs": [],
   "source": [
    "summ_stats2"
   ]
  },
  {
   "cell_type": "code",
   "execution_count": null,
   "id": "25b0f949",
   "metadata": {},
   "outputs": [],
   "source": [
    "(summ_stats1 - summ_stats2).astype(float).round(5)"
   ]
  },
  {
   "cell_type": "code",
   "execution_count": null,
   "id": "0e7dc386",
   "metadata": {},
   "outputs": [],
   "source": []
  },
  {
   "cell_type": "code",
   "execution_count": null,
   "id": "6b87c498",
   "metadata": {},
   "outputs": [],
   "source": []
  },
  {
   "cell_type": "markdown",
   "id": "f4bbbf4c",
   "metadata": {},
   "source": [
    "SAS 코드만 보고 직접 구현 시도"
   ]
  },
  {
   "cell_type": "code",
   "execution_count": null,
   "id": "a8c6e137",
   "metadata": {},
   "outputs": [],
   "source": [
    "# * Match each permno's monthly return to the corresponding BM and ME; \n",
    "# data ret; \n",
    "#  set CRSP_M3;  \n",
    "#  if month(date)>6 then t = year(date);  ** 6월이후의 리턴이면 (2000.07~2000.12) --> t=2000, 6월 이전 2000.01~2000.06 --> t=1999 ;\n",
    "#  else t = year(date)-1; \n",
    "# run; \n",
    "# proc sort data = ret; by permno t date; run; \n",
    "\n",
    "RET_df = CRSP_M_df.copy()\n",
    "RET_df['T'] = np.where(\n",
    "    RET_df['DATE'] % 10000 // 100 > 6, \n",
    "    RET_df['DATE'] // 10000, \n",
    "    RET_df['DATE'] // 10000 - 1\n",
    "    )\n",
    "\n",
    "RET_df = RET_df[['PERMNO', 'T', 'DATE', 'ALTPRC']]\n",
    "RET_df.sort_values(['PERMNO', 'T', 'DATE'], inplace=True)"
   ]
  },
  {
   "cell_type": "code",
   "execution_count": null,
   "id": "24e168bc",
   "metadata": {},
   "outputs": [],
   "source": [
    "RET_df.shape # NOTE: There were 2892465 observations read from the data set WORK.RET."
   ]
  },
  {
   "cell_type": "code",
   "execution_count": null,
   "id": "c7884be1",
   "metadata": {
    "lines_to_next_cell": 2
   },
   "outputs": [],
   "source": [
    "# data ret_ME_BM; \n",
    "#  merge ret (in = a) ME_BM (in = b); \n",
    "#  by permno t; \n",
    "#  if a; \n",
    "# run;\n",
    "# proc sort data = ret_ME_BM; by permno date; run; \n",
    "\n",
    "RET_ME_BM_df = pd.merge(\n",
    "    left=RET_df,\n",
    "    right=ME_BM_df,\n",
    "    how='inner',\n",
    "    on=['PERMNO', 'T'],\n",
    ")\n",
    "RET_ME_BM_df.sort_values(['PERMNO', 'DATE'], inplace=True)"
   ]
  },
  {
   "cell_type": "code",
   "execution_count": null,
   "id": "b4f71820",
   "metadata": {},
   "outputs": [],
   "source": [
    "RET_ME_BM_df.shape"
   ]
  },
  {
   "cell_type": "code",
   "execution_count": null,
   "id": "3d6948f1",
   "metadata": {},
   "outputs": [],
   "source": [
    "# * Also add the mktcap and stock price from the previous month; \n",
    "# ** 전 달 mktcap, stock price 추가 ;\n",
    "\n",
    "# data ret_ME_BM; \n",
    "#  set ret_ME_BM; \n",
    "#  altprc_lag1 = lag1(altprc); ** illiquid한 stock의 경우 lag가 2칸인 경우도 있을 것이다. (한 달동안 거래 안됨) ;\n",
    "#  ** 이 경우 무조건 lag1으로 shift 쓰면 안됨. ;\n",
    "#  ** 비어있는 month를 넣어준 다음에야 shift했을 때 한 칸씩 오롯이 잘 밀리게 됨. ;\n",
    "#  ** multiindex로 보든지 해야 shift했는데 다른 permno의 lag1이랑 섞이지 않게 할 수 있음. ;\n",
    "#  ME_lag1 = lag1(ME); \n",
    "#  permno_lag1 = lag1(permno); \n",
    "#  date_lag1 = lag1(date); \n",
    "#  if (permno NE permno_lag1) or (intck('month',date_lag1,date)>1) then do; ** SAS니까, 변수 순서 때문에 넣은 줄이라고 하심. Python은 무관 ; \n",
    "#  ** 의미하는 것은, date와 date.lag1 차이가 1달보다 크면 ;\n",
    "#   altprc_lag1 = .; \n",
    "#   ME_lag1 = .; \n",
    "#   end; \n",
    "# run;\n",
    "\n",
    "RET_ME_BM_df['ALT_PRC_LAG1'] = RET_ME_BM_df.groupby('PERMNO')['ALTPRC'].shift(1)\n",
    "RET_ME_BM_df['ME_LAG1'] = RET_ME_BM_df.groupby('PERMNO')['ME_JUN'].shift(1)\n",
    "RET_ME_BM_df['PERMNO_LAG1'] = RET_ME_BM_df.groupby('PERMNO')['PERMNO'].shift(1)\n",
    "RET_ME_BM_df['DATE_LAG1'] = RET_ME_BM_df.groupby('PERMNO')['DATE'].shift(1)"
   ]
  },
  {
   "cell_type": "code",
   "execution_count": null,
   "id": "713e61bf",
   "metadata": {},
   "outputs": [],
   "source": [
    "RET_ME_BM_df"
   ]
  },
  {
   "cell_type": "code",
   "execution_count": null,
   "id": "b0750061",
   "metadata": {},
   "outputs": [],
   "source": []
  }
 ],
 "metadata": {
  "kernelspec": {
   "display_name": ".venv",
   "language": "python",
   "name": "python3"
  }
 },
 "nbformat": 4,
 "nbformat_minor": 5
}
