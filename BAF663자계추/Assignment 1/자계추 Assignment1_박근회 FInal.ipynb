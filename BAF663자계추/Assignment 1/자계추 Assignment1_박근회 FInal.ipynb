{
 "cells": [
  {
   "cell_type": "markdown",
   "id": "b2bf4957",
   "metadata": {},
   "source": [
    "### SAS 코드 구현(ADJRET, B/M)"
   ]
  },
  {
   "cell_type": "code",
   "execution_count": null,
   "id": "e84fa52c",
   "metadata": {},
   "outputs": [],
   "source": [
    "import numpy as np\n",
    "import pandas as pd\n",
    "import datetime"
   ]
  },
  {
   "cell_type": "code",
   "execution_count": null,
   "id": "d5224495",
   "metadata": {},
   "outputs": [],
   "source": [
    "Compustat = pd.read_csv(\"./compustat_permno.csv\")\n",
    "np.sum(Compustat['pstkrv']<0)"
   ]
  },
  {
   "cell_type": "code",
   "execution_count": null,
   "id": "0131d558",
   "metadata": {
    "lines_to_next_cell": 2
   },
   "outputs": [],
   "source": [
    "#permno 열 Nan이 아닌 행만 선택\n",
    "Compustat = Compustat[Compustat['permno'].notna()]\n",
    "\n",
    "# datadate 열을 datetime 형식으로 변환 후 연도 추출 \n",
    "Compustat['datadate'] = pd.to_datetime(Compustat['datadate'].astype(str), format='%Y%m%d')\n",
    "Compustat['year'] = Compustat['datadate'].dt.year\n",
    "Compustat = Compustat.loc[Compustat['permno'] != '0']\n",
    "\n",
    "#pstkrv열 음수인 값 0으로 변환\n",
    "Compustat['pstkrv'] = np.where(Compustat['pstkrv'] < 0, 0, Compustat['pstkrv'])\n",
    "\n",
    "#BVPS: Book value of preferred stock\n",
    "Compustat['BVPS'] = Compustat['pstkrv'].fillna(Compustat['pstkl']).fillna(Compustat['pstkl']).fillna(Compustat['pstk']).fillna(0)\n",
    "# BE = SEQ + TXDB + ITCB + BVPS\n",
    "Compustat['BE'] = Compustat['seq'] + Compustat['txdb'] + Compustat['itcb'].fillna(0) - Compustat['BVPS']\n",
    "# BE<0이면 NaN처리\n",
    "Compustat['BE'] = Compustat['BE'].where(Compustat['BE']>0)\n",
    "\n",
    "compustat_BE = Compustat[['gvkey', 'datadate', 'year', 'BE', 'permno', 'permco' ]]\n",
    "compustat_BE"
   ]
  },
  {
   "cell_type": "code",
   "execution_count": null,
   "id": "2b81fd93",
   "metadata": {},
   "outputs": [],
   "source": [
    "compustat_BE = compustat_BE.sort_values(by=['gvkey', 'permno', 'year', 'datadate'])\n",
    "\n",
    "compustat_BE = compustat_BE.drop_duplicates(subset=['gvkey', 'permno', 'year'], keep='last')\n",
    "\n",
    "compustat_BE"
   ]
  },
  {
   "cell_type": "code",
   "execution_count": null,
   "id": "aa23badc",
   "metadata": {},
   "outputs": [],
   "source": [
    "crsp = pd.read_csv(\"./CRSP_M.csv\")\n",
    "crsp.columns = crsp.columns.str.lower()\n",
    "crsp"
   ]
  },
  {
   "cell_type": "code",
   "execution_count": null,
   "id": "78ff4048",
   "metadata": {},
   "outputs": [],
   "source": [
    "crsp['Meq'] = np.where((crsp['altprc'].abs() > 0) & (crsp['shrout'] > 0), crsp['altprc'].abs() * crsp['shrout'] / 1000, np.nan)\n",
    "crsp['date'] = pd.to_datetime(crsp['date'].astype(str), format='%Y%m%d')\n",
    "crsp['year'] = crsp['date'].dt.year\n",
    "print(crsp.shape)\n",
    "crsp.head()"
   ]
  },
  {
   "cell_type": "code",
   "execution_count": null,
   "id": "4911f129",
   "metadata": {},
   "outputs": [],
   "source": [
    "#if dlret missing, Use Shumway (1997)\n",
    "crsp['dlret'] = np.where(crsp['dlstcd'].notna() & crsp['dlret'].isna() & ((crsp['dlstcd'].isin([500, 520, 574, 580, 584])) | \n",
    "                ((crsp['dlstcd'] >= 551) & (crsp['dlstcd'] <= 573))), -0.3, \n",
    "                np.where(crsp['dlstcd'].notna() & crsp['dlret'].isna(), -1, crsp['dlret']))\n",
    "\n",
    "count = crsp[(crsp['dlret'].isna()) & (crsp['dlstcd'].notna())].shape[0]\n",
    "print(count)\n",
    "crsp"
   ]
  },
  {
   "cell_type": "code",
   "execution_count": null,
   "id": "73596539",
   "metadata": {
    "lines_to_next_cell": 2
   },
   "outputs": [],
   "source": [
    "# Delisting이 있을 경우 조정 수익률 계산\n",
    "crsp['retadj'] = np.where(crsp['dlstcd'].notna() & crsp['ret'].notna(),\n",
    "                (1 + crsp['ret'])*(1 + crsp['dlret']) - 1,\n",
    "                np.where(crsp['dlstcd'].notna() & crsp['ret'].isna(), crsp['dlret'], crsp['ret'])) \n",
    "# 초과 수익 계산\n",
    "crsp['eretadj'] = crsp['retadj'] - crsp['rf']\n",
    "crsp_M2 = crsp.sort_values(by=['Meq', 'permco', 'date'])\n",
    "crsp_M2"
   ]
  },
  {
   "cell_type": "code",
   "execution_count": null,
   "id": "99dd96df",
   "metadata": {
    "lines_to_next_cell": 2
   },
   "outputs": [],
   "source": [
    "crsp_M3 = crsp_M2.copy()\n",
    "\n",
    "# 'date'와 'permco' 기준으로 그룹화하여 각 그룹 내의 개수 계산\n",
    "crsp_M3['group_size'] = crsp_M3.groupby(['date', 'permco'])['Meq'].transform('size')\n",
    "\n",
    "# 그룹 내 permco가 하나인 경우: ME 값을 Meq로 할당\n",
    "crsp_M3['ME'] = np.where(crsp_M3['group_size'] == 1, crsp_M3['Meq'], np.nan)\n",
    "\n",
    "# 그룹 내 permco가 두 개 이상인 경우: Meq의 누적합을 계산하여 ME에 할당\n",
    "crsp_M3.loc[crsp_M3['group_size'] > 1, 'ME'] = crsp_M3.groupby(['date', 'permco'])['Meq'].cumsum()\n",
    "\n",
    "# 'date', 'permco' 기준으로 그룹화 후 ME 값이 가장 큰 값이 마지막에 오도록 정렬\n",
    "crsp_M3 = crsp_M3.sort_values(by=['date', 'permco', 'ME'], ascending=[True, True, False]) \n",
    "\n",
    "# 각 그룹의 첫 번째 행만 남기기 (가장 큰 ME 값을 가진 행이 첫 번째로 옴)\n",
    "crsp_M3 = crsp_M3.drop_duplicates(subset=['date', 'permco'], keep='first').reset_index(drop=True)\n",
    "crsp_M3 = crsp_M3.drop(columns=['group_size'])\n",
    "\n",
    "crsp_M3"
   ]
  },
  {
   "cell_type": "markdown",
   "id": "6204ab1f",
   "metadata": {},
   "source": [
    "##### SAS 6"
   ]
  },
  {
   "cell_type": "code",
   "execution_count": null,
   "id": "7b8eb331",
   "metadata": {},
   "outputs": [],
   "source": [
    "crsp_M3 = crsp_M3.copy()\n",
    "\n",
    "crsp_M3['date'] = pd.to_datetime(crsp_M3['date'], format='%Y-%m-%d')\n",
    "\n",
    "# 6월 데이터 필터링\n",
    "me_jun = crsp_M3[(crsp_M3['date'].dt.month == 6) & (crsp_M3['ME'].notna())].copy()\n",
    "me_jun['t'] = crsp_M3['date'].dt.year  # 연도 추출\n",
    "me_jun = me_jun[['permno', 't', 'ME']]  \n",
    "me_jun.rename(columns={'ME': 'me_jun'}, inplace=True)\n",
    "\n",
    "# 12월 데이터 필터링\n",
    "me_last_Dec = crsp_M3[(crsp_M3['date'].dt.month == 12) & (crsp_M3['ME'].notna())].copy()\n",
    "me_last_Dec['t'] = crsp_M3['date'].dt.year + 1  # 연도 추출 후 +1\n",
    "me_last_Dec = me_last_Dec[['permno', 't', 'ME']]  \n",
    "me_last_Dec.rename(columns={'ME': 'me_last_Dec'}, inplace=True)\n",
    "\n",
    "# BE 데이터 필터링\n",
    "be_last_year = compustat_BE[compustat_BE['BE'].notna()].copy()  # BE가 있는 데이터만 선택\n",
    "be_last_year['t'] = be_last_year['year'] + 1  # 연도에 +1\n",
    "be_last_year = be_last_year[['permno', 't', 'BE']]  # 필요한 열만 선택\n",
    "be_last_year.rename(columns={'BE': 'be_last_year'}, inplace=True)\n",
    "\n",
    "# permno, t 기준으로 정렬\n",
    "me_jun = me_jun.sort_values(by=['permno', 't'])\n",
    "me_last_Dec = me_last_Dec.sort_values(by=['permno', 't'])\n",
    "be_last_year = be_last_year.sort_values(by=['permno', 't'])\n",
    "me_jun, me_last_Dec, be_last_year"
   ]
  },
  {
   "cell_type": "code",
   "execution_count": null,
   "id": "340699b9",
   "metadata": {},
   "outputs": [],
   "source": [
    "%%time\n",
    "\n",
    "\"\"\"\n",
    "data ME_BM; \n",
    "    merge ME_Jun (in = a) BE_last_year (in = b) ME_last_Dec (in = c); \n",
    "    by permno t; \n",
    "    if a & b & c;\n",
    "    BM = BE_last_year/ME_last_Dec; \n",
    "    keep permno t ME_Jun BM; \n",
    "run;\n",
    "\"\"\"\n",
    "\n",
    "# me_bm = pd.merge(me_jun, me_last_Dec, on=['permno', 't'], how='inner')\n",
    "# me_bm = pd.merge(me_bm, be_last_year, on=['permno', 't'], how='inner')\n",
    "# me_bm['bm'] = me_bm['be_last_year'] / me_bm['me_last_Dec']\n",
    "\n",
    "# me_bm = me_bm[['permno', 't', 'me_jun', 'bm']]\n",
    "\n",
    "# 모든 데이터프레임에서 permno를 int로 변환\n",
    "me_jun['permno'] = me_jun['permno'].astype(int)\n",
    "me_last_Dec['permno'] = me_last_Dec['permno'].astype(int)\n",
    "be_last_year['permno'] = be_last_year['permno'].astype(int)\n",
    "\n",
    "# BM 계산\n",
    "me_bm = pd.merge(me_jun, me_last_Dec, on=['permno', 't'], how='inner')\n",
    "me_bm = pd.merge(me_bm, be_last_year, on=['permno', 't'], how='inner')\n",
    "\n",
    "# BM 값 계산 (Book-to-Market)\n",
    "me_bm['bm'] = me_bm['be_last_year'] / me_bm['me_last_Dec']\n",
    "\n",
    "# 필요한 열만 선택\n",
    "me_bm = me_bm[['permno', 't', 'me_jun', 'bm']]\n",
    "\n",
    "# 결과 출력\n",
    "me_bm"
   ]
  },
  {
   "cell_type": "code",
   "execution_count": null,
   "id": "3cec1c76",
   "metadata": {},
   "outputs": [],
   "source": [
    "# NOTE: There were 174169 observations read from the data set WORK.ME_BM.\n",
    "me_bm.shape"
   ]
  },
  {
   "cell_type": "code",
   "execution_count": null,
   "id": "ff81e57c",
   "metadata": {},
   "outputs": [],
   "source": [
    "%%time\n",
    "\n",
    "\"\"\"\n",
    "* Match each permno's monthly return to the corresponding BM and ME;\n",
    "\n",
    "data ret; \n",
    "    set CRSP_M3; \n",
    "    if month(date)>6 then t = year(date); \n",
    "    else t = year(date)-1; \n",
    "run; \n",
    "\"\"\"\n",
    "\n",
    "crsp_M3['t'] = crsp_M3['date'].apply(lambda date: date.year if date.month > 6 else date.year-1)\n",
    "\n",
    "# proc sort Mata = ret; by permno t date; run; \n",
    "crsp_M3 = crsp_M3.sort_values(by=['permno', 't', 'date'])"
   ]
  },
  {
   "cell_type": "code",
   "execution_count": null,
   "id": "8bec9007",
   "metadata": {},
   "outputs": [],
   "source": [
    "# The data set WORK.RET has 2892465 observations and 20 variables.\n",
    "crsp_M3.shape"
   ]
  },
  {
   "cell_type": "code",
   "execution_count": null,
   "id": "c5245eb9",
   "metadata": {},
   "outputs": [],
   "source": [
    "%%time\n",
    "\n",
    "\"\"\"\n",
    "data ret_ME_BM; \n",
    "    merge ret (in = a) ME_BM (in = b); \n",
    "    by permno t; \n",
    "    if a; \n",
    "run;\n",
    "\"\"\"\n",
    "\n",
    "ret_me_bm = pd.merge(crsp_M3, me_bm, on=['permno', 't'], how='left')\n",
    "ret_me_bm = ret_me_bm.drop_duplicates(subset=['permno', 'date', 'year'], keep='last')"
   ]
  },
  {
   "cell_type": "code",
   "execution_count": null,
   "id": "05473767",
   "metadata": {},
   "outputs": [],
   "source": [
    "# proc sort data = ret_ME_BM; by permno date; run; \n",
    "ret_me_bm = ret_me_bm.sort_values(by=['permno', 'date'])"
   ]
  },
  {
   "cell_type": "code",
   "execution_count": null,
   "id": "1233ee9f",
   "metadata": {},
   "outputs": [],
   "source": [
    "# The data set WORK.RET_ME_BM has 2892465 observations and 22 variables.\n",
    "ret_me_bm.shape"
   ]
  },
  {
   "cell_type": "code",
   "execution_count": null,
   "id": "3359d065",
   "metadata": {},
   "outputs": [],
   "source": [
    "%%time\n",
    "\n",
    "\"\"\"\n",
    "* Also add the mktcap and stock price from the previous month; \n",
    "data ret_ME_BM; \n",
    "    set ret_ME_BM;\n",
    "    \n",
    "    altprc_lag1 = lag1(altprc); \n",
    "    ME_lag1 = lag1(ME);\n",
    "\n",
    "    permno_lag1 = lag1(permno); \n",
    "    date_lag1 = lag1(date);\n",
    "\n",
    "    if (permno NE permno_lag1) or (intck('month',date_lag1,date)>1) then do; \n",
    "        altprc_lag1 = .; \n",
    "        ME_lag1 = .; \n",
    "            end; \n",
    "run;\n",
    "\"\"\"\n",
    "\n",
    "altprc_lag_df = pd.pivot_table(ret_me_bm, index='date', columns='permno', values='altprc').sort_index().shift(1)\n",
    "altprc_lag = altprc_lag_df.reset_index().melt(id_vars='date', var_name='permno', value_name='altprc_lag1').dropna()\n",
    "\n",
    "me_lag_df = pd.pivot_table(ret_me_bm, index='date', columns='permno', values='ME').sort_index().shift(1)\n",
    "me_lag = me_lag_df.reset_index().melt(id_vars='date', var_name='permno', value_name='me_lag1').dropna()\n",
    "\n",
    "ret_me_bm = pd.merge(ret_me_bm, altprc_lag, on=['date', 'permno'], how='left')\n",
    "ret_me_bm = pd.merge(ret_me_bm, me_lag, on=['date', 'permno'], how='left')"
   ]
  },
  {
   "cell_type": "code",
   "execution_count": null,
   "id": "6716cc30",
   "metadata": {},
   "outputs": [],
   "source": [
    "# NOTE: The data set WORK.TT has 38518 observations and 26 variables.\n",
    "ret_me_bm['altprc_lag1'].isna().sum()"
   ]
  },
  {
   "cell_type": "code",
   "execution_count": null,
   "id": "5c47c976",
   "metadata": {},
   "outputs": [],
   "source": [
    "%%time\n",
    "\n",
    "\"\"\"\n",
    "* Exclude observations with missing values; \n",
    "\n",
    "data assignment1_data; \n",
    "    retain permno date year exchcd siccd retadj eretadj altprc_lag1 ME_lag1 ME_Jun BM; \n",
    "        set ret_ME_BM; \n",
    "        if nmiss(retadj, ME_lag1, ME_Jun, BM) = 0; \n",
    "        keep permno date year exchcd siccd retadj eretadj altprc_lag1 ME_lag1 ME_Jun BM;         \n",
    "run;\n",
    "\"\"\"\n",
    "\n",
    "ret_me_bm = ret_me_bm[['permno', 'date', 'year', 'exchcd', 'siccd', 'retadj', 'eretadj', 'altprc_lag1', 'me_lag1', 'me_jun', 'bm']]\n",
    "ret_me_bm = ret_me_bm.dropna(subset=['retadj', 'me_lag1', 'me_jun', 'bm'])"
   ]
  },
  {
   "cell_type": "code",
   "execution_count": null,
   "id": "c023f1d9",
   "metadata": {},
   "outputs": [],
   "source": [
    "# The data set WORK.ASSIGNMENT1_DATA has 1983365 observations and 11\n",
    "ret_me_bm"
   ]
  },
  {
   "cell_type": "markdown",
   "id": "8d106f24",
   "metadata": {},
   "source": [
    "##### Save sample data and summary stats"
   ]
  },
  {
   "cell_type": "code",
   "execution_count": null,
   "id": "1fdafb50",
   "metadata": {},
   "outputs": [],
   "source": [
    "ret_me_bm.iloc[:25]"
   ]
  },
  {
   "cell_type": "code",
   "execution_count": null,
   "id": "3fdc8fc4",
   "metadata": {},
   "outputs": [],
   "source": [
    "from pandas.tseries.offsets import MonthEnd\n",
    "\n",
    "ret_me_bm['date'] = ret_me_bm['date'] + MonthEnd(0)\n",
    "\n",
    "summ_dates = [str(x) + '-12-31' for x in range(1970, 2013, 1)]\n",
    "summ_stats1 = pd.DataFrame(index=summ_dates, columns=['mean', 'std', 'min', 'max', \"N of permno's\"])\n",
    "\n",
    "for date in summ_dates:\n",
    "    tmp_eretadj = ret_me_bm[ret_me_bm['date']==date]['eretadj']\n",
    "    tmp_permno = ret_me_bm[ret_me_bm['date']==date]['permno']\n",
    "    summ_stats1.loc[date] = [tmp_eretadj.mean(), tmp_eretadj.std(), tmp_eretadj.min(), tmp_eretadj.max(), len(tmp_permno.unique())]\n",
    "\n",
    "summ_stats1"
   ]
  },
  {
   "cell_type": "code",
   "execution_count": null,
   "id": "93bfa96a",
   "metadata": {},
   "outputs": [],
   "source": [
    "specific_years = ['1970-12-31', '1980-12-31', '1990-12-31', '2000-12-31', '2010-12-31']\n",
    "\n",
    "summ_stats_answer = summ_stats1.loc[specific_years]\n",
    "\n",
    "summ_stats_answer"
   ]
  },
  {
   "cell_type": "code",
   "execution_count": null,
   "id": "f537d471",
   "metadata": {
    "lines_to_next_cell": 2
   },
   "outputs": [],
   "source": [
    "import logging\n",
    "from fpdf import FPDF\n",
    "\n",
    "# Step 1: 로그 파일 작성\n",
    "log_filename = 'program.log'\n",
    "logging.basicConfig(\n",
    "    level=logging.DEBUG,\n",
    "    format='%(asctime)s - %(levelname)s - %(message)s',\n",
    "    filename=log_filename,\n",
    "    filemode='w'\n",
    ")\n",
    "\n",
    "logging.info(\"This is an info message\")\n",
    "logging.warning(\"This is a warning message\")\n",
    "logging.error(\"This is an error message\")\n",
    "logging.debug(\"This is a debug message\")\n",
    "\n",
    "# Step 2: 로그 파일을 PDF로 변환\n",
    "class PDF(FPDF):\n",
    "    def header(self):\n",
    "        self.set_font('Arial', 'B', 12)\n",
    "        self.cell(200, 10, 'Log Report', ln=True, align='C')\n",
    "\n",
    "    def footer(self):\n",
    "        self.set_y(-15)\n",
    "        self.set_font('Arial', 'I', 8)\n",
    "        self.cell(0, 10, f'Page {self.page_no()}', 0, 0, 'C')\n",
    "\n",
    "def log_to_pdf(log_file, output_pdf):\n",
    "    pdf = PDF()\n",
    "    pdf.add_page()\n",
    "\n",
    "    pdf.set_font('Arial', '', 12)\n",
    "\n",
    "    # 로그 파일 내용을 읽어서 PDF에 추가\n",
    "    with open(log_file, 'r') as file:\n",
    "        for line in file:\n",
    "            pdf.cell(200, 10, line, ln=True)\n",
    "\n",
    "    # PDF 파일 저장\n",
    "    pdf.output(output_pdf)\n",
    "\n",
    "# PDF 파일 생성\n",
    "log_to_pdf(log_filename, 'log_report.pdf')\n",
    "\n",
    "print(\"PDF 파일이 생성되었습니다.\")"
   ]
  }
 ],
 "metadata": {
  "kernelspec": {
   "display_name": "mfe311",
   "language": "python",
   "name": "python3"
  }
 },
 "nbformat": 4,
 "nbformat_minor": 5
}
