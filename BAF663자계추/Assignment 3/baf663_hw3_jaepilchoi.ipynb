{
 "cells": [
  {
   "cell_type": "markdown",
   "id": "73d9e7a4",
   "metadata": {},
   "source": [
    "# 자계추 hw3\n",
    "\n",
    "20249433 최재필"
   ]
  },
  {
   "cell_type": "code",
   "execution_count": null,
   "id": "13ef27d8",
   "metadata": {},
   "outputs": [],
   "source": [
    "import pandas as pd\n",
    "import numpy as np\n",
    "\n",
    "import statsmodels.api as sm\n",
    "from statsmodels.stats import sandwich_covariance\n",
    "from statsmodels.regression.linear_model import OLS"
   ]
  },
  {
   "cell_type": "markdown",
   "id": "1cce77cc",
   "metadata": {},
   "source": [
    "## Load data"
   ]
  },
  {
   "cell_type": "code",
   "execution_count": null,
   "id": "c32fd72d",
   "metadata": {
    "lines_to_next_cell": 2
   },
   "outputs": [],
   "source": [
    "# hw2 data\n",
    "portfolio = pd.read_csv('assignment2_data.csv')\n",
    "\n",
    "# ff3 factors (monthly)\n",
    "ff3 = pd.read_csv('factors_monthly.csv')"
   ]
  },
  {
   "cell_type": "code",
   "execution_count": null,
   "id": "df8d9ba8",
   "metadata": {},
   "outputs": [],
   "source": [
    "portfolio.columns"
   ]
  },
  {
   "cell_type": "markdown",
   "id": "021c5a8c",
   "metadata": {},
   "source": [
    "## SAS 3\n",
    "\n",
    "- Calculate the monthly value-weighted portfolio returns"
   ]
  },
  {
   "cell_type": "code",
   "execution_count": null,
   "id": "450a76bb",
   "metadata": {},
   "outputs": [],
   "source": [
    "# data portfolio1;\n",
    "#  set My_lib.assignment2_data;\n",
    "#  eretadj_ME = (eretadj*100)*ME_lag1; ** value weighted 조정초과수익률 구함. ME lag 1을 쓰는 것을 주목. ; \n",
    "# run;\n",
    "\n",
    "portfolio['eretadj_ME'] = (portfolio['eretadj']*100)*portfolio['ME_lag1']\n",
    "# 여기선 우선 1 month lagged ME를 곱해 수익률에 ME만큼 가중치를 곱해줌. (그러나 아직 총 ME로 나눠주지 않음)"
   ]
  },
  {
   "cell_type": "code",
   "execution_count": null,
   "id": "0c71dd61",
   "metadata": {},
   "outputs": [],
   "source": [
    "# proc sort data = portfolio1;\n",
    "#  by date p1 p2;\n",
    "# run;\n",
    "\n",
    "portfolio = portfolio.sort_values(by=['date', 'p1', 'p2'])"
   ]
  },
  {
   "cell_type": "code",
   "execution_count": null,
   "id": "62d2c42a",
   "metadata": {},
   "outputs": [],
   "source": [
    "# proc means data = portfolio1 sum noprint;\n",
    "#  by date p1 p2;\n",
    "#  var eretadj_ME ME_lag1;\n",
    "#  output out = portfolio2 (drop = _FREQ_ _TYPE_) sum = / autoname;\n",
    "# run;\n",
    "\n",
    "# data portfolio2;\n",
    "#  set portfolio2;\n",
    "#  vw_pret = eretadj_ME_Sum/ME_lag1_Sum;\n",
    "#  keep date p1 p2 vw_pret;\n",
    "# run;\n",
    "\n",
    "portfolio2 = portfolio.groupby(['date', 'p1', 'p2'], as_index=False).agg(\n",
    "    {\n",
    "        'eretadj_ME': 'sum', \n",
    "        'ME_lag1': 'sum',\n",
    "    }\n",
    ")\n",
    "portfolio2['vw_pret'] = portfolio2['eretadj_ME'] / portfolio2['ME_lag1']\n",
    "# Transform 쓰면 duplicate rows 생김. agg 쓰는 것이 안전. \n",
    "\n",
    "portfolio2 = portfolio2.loc[:, ['date', 'p1', 'p2', 'vw_pret']]\n",
    "portfolio2.head()"
   ]
  },
  {
   "cell_type": "code",
   "execution_count": null,
   "id": "ffda01b3",
   "metadata": {},
   "outputs": [],
   "source": [
    "# * Calculate the return difference between the fifth (p2 = 5) and first (p2 = 1) BM sorted portfolios within each Size sorted portfolio;\n",
    "# data portfolio3;\n",
    "#  set portfolio2(where = (p2 in (1,5))); ** 사이즈 내에서 BM1과 BM5 차이 ;\n",
    "# run;\n",
    "\n",
    "# proc sort data = portfolio3;\n",
    "#  by date p1 p2;\n",
    "# run;\n",
    "\n",
    "# proc transpose data = portfolio3 out = portfolio4; ** pivot table해서 index date, column vw_pret ;\n",
    "#  by date p1;\n",
    "#  id p2;\n",
    "#  var vw_pret;\n",
    "# run;\n",
    "\n",
    "# data portfolio4;\n",
    "#  set portfolio4;\n",
    "#  p2 = 51;\n",
    "#  vw_pret = _5 - _1;\n",
    "#  keep date p1 p2 vw_pret; ** 똑같이 요것만 남긴다. 테이블 port 2 아래로 append 하기 위해 ;\n",
    "# run;\n",
    "\n",
    "portfolio4 = portfolio2[portfolio2['p2'].isin([1, 5])].pivot_table(\n",
    "    index=['date', 'p1'], \n",
    "    columns='p2', # 1, 5\n",
    "    values='vw_pret'\n",
    "    ).reset_index()\n",
    "\n",
    "portfolio4 = portfolio4.rename_axis(None, axis=1)\n",
    "portfolio4['p2'] = 51\n",
    "\n",
    "portfolio4['vw_pret'] = portfolio4[5] - portfolio4[1]\n",
    "portfolio4 = portfolio4.loc[:, ['date', 'p1', 'p2', 'vw_pret']]\n",
    "portfolio4.head()"
   ]
  },
  {
   "cell_type": "code",
   "execution_count": null,
   "id": "b1373beb",
   "metadata": {},
   "outputs": [],
   "source": [
    "# * Append the two datasets;\n",
    "# data portfolio5;\n",
    "#  set portfolio2 portfolio4;\n",
    "#  year = year(date);\n",
    "#  month = month(date);\n",
    "# run;\n",
    "\n",
    "# proc sort data = portfolio5;\n",
    "#  by year month date p1 p2;\n",
    "# run;\n",
    "\n",
    "portfolio5 = pd.concat([portfolio2, portfolio4], axis=0)\n",
    "portfolio5['year'] = portfolio5['date'] // 10000\n",
    "portfolio5['month'] = portfolio5['date'] % 10000 // 100\n",
    "portfolio5 = portfolio5.sort_values(by=['year', 'month', 'date', 'p1', 'p2'])\n",
    "portfolio5.head()"
   ]
  },
  {
   "cell_type": "markdown",
   "id": "7ae56b5f",
   "metadata": {},
   "source": [
    "## SAS4\n",
    "\n",
    "- Add FF-3 factors to the portfolio return data set"
   ]
  },
  {
   "cell_type": "code",
   "execution_count": null,
   "id": "445d9777",
   "metadata": {},
   "outputs": [],
   "source": [
    "#  * convert factors from decimal to percent;\n",
    "#  mktrf = mktrf*100;\n",
    "#  smb = smb*100;\n",
    "#  hml = hml*100;\n",
    "#  keep year month mktrf smb hml;\n",
    "# run;\n",
    "\n",
    "ff3[['mktrf', 'smb', 'hml']] = ff3[['mktrf', 'smb', 'hml']] * 100\n",
    "ff3 = ff3.loc[:, ['year', 'month', 'mktrf', 'smb', 'hml']]"
   ]
  },
  {
   "cell_type": "code",
   "execution_count": null,
   "id": "02880ebf",
   "metadata": {},
   "outputs": [],
   "source": [
    "# * Merge;\n",
    "# data portfolio6; ** 팩터가 더 길지만 left join이라 길이가 변하지 않는다. ; \n",
    "#  merge portfolio5 (in = a) factors (in = b);\n",
    "#  by year month;\n",
    "#  if a;\n",
    "# run;\n",
    "\n",
    "portfolio6 = pd.merge(portfolio5, ff3, on=['year', 'month'], how='left')\n",
    "portfolio6.head()"
   ]
  },
  {
   "cell_type": "markdown",
   "id": "acc56af4",
   "metadata": {},
   "source": [
    "## SAS5\n",
    "\n",
    "- Test if the BM5 portfolio has a higher expected return than BM1 portfolio within each size group using time-series regressions"
   ]
  },
  {
   "cell_type": "code",
   "execution_count": null,
   "id": "27cd37f3",
   "metadata": {},
   "outputs": [],
   "source": [
    "# proc sort data = portfolio6;\n",
    "#  by p1 p2 date;\n",
    "# run;\n",
    "\n",
    "portfolio6 = portfolio6.sort_values(by=['p1', 'p2', 'date'])"
   ]
  },
  {
   "cell_type": "code",
   "execution_count": null,
   "id": "8d0f80a8",
   "metadata": {},
   "outputs": [],
   "source": [
    "portfolio6.columns"
   ]
  },
  {
   "cell_type": "code",
   "execution_count": null,
   "id": "5ee2b1db",
   "metadata": {},
   "outputs": [],
   "source": [
    "# * To perform Newey-West standard error correction, PROC MODEL is run specifying the GMM estimation method in the FIT statement. KERNEL=(BART, L+1, 0) is also specified which requests the Bartlett kernel with a lag length of L. The VARDEF(specify the denominator for computing variances and covariances)=n option is specified to be consistent with the original Newey-West formula;\n",
    "\n",
    "# * Calculate the FF3 alpha of the long-short portfolio (p2=51);\n",
    "# proc model data = portfolio6 (where = (p2 = 51)); ** BM5 - BM1 이 51;\n",
    "#  by p1;\n",
    "#  exog mktrf hml smb; ** FF3 팩터들을 regression ;\n",
    "#  instruments _exog_;\n",
    "#  vw_pret = a + b1*mktrf + b2*hml + b3*smb;\n",
    "#  fit vw_pret / gmm kernel = (bart, 7, 0) vardef = n; ** gmm kernel이 newey west를 쓰는 것이다. 7이 max lag ;\n",
    "#  ** newey west 쓰는 이유: time series에선 error term의 autocorrelation이 있을 수 있기 때문에 이를 보정하기 위해 ;\n",
    "#  ** 안쓰면, autocorrelation에 의해 standard error가 작게 나올 수 있다. ;\n",
    "#  ** 즉, 원래는 유의미하지 않은데, autocorrelation으로 인해 유의미하게 나올 수 있다. ;\n",
    "#  ** SAS에선 7 = max_lag + 1이다. python에선 그냥 max_lag를 넣어야 한다.;\n",
    "#  ods output parameterestimates = table3;\n",
    "#  quit;\n",
    "# ods exclude none;\n",
    "\n",
    "p51_reg = portfolio6[portfolio6['p2'] == 51].loc[:, ['date', 'p1', 'vw_pret', 'mktrf', 'hml', 'smb']]\n",
    "p51_reg.head()"
   ]
  },
  {
   "cell_type": "code",
   "execution_count": null,
   "id": "7ece4b38",
   "metadata": {},
   "outputs": [],
   "source": [
    "def apply_ff3reg_by_group(group, max_lag=6):\n",
    "    y = group['vw_pret']\n",
    "    X = group[['mktrf', 'hml', 'smb']]\n",
    "    X = sm.add_constant(X)\n",
    "    \n",
    "    model = OLS(y, X).fit(cov_type='HAC', cov_kwds={'maxlags': max_lag}, kernel='bartlett')\n",
    "    # Specifies the use of Heteroskedasticity and Autocorrelation Consistent (HAC) covariance with a Bartlett kernel and a maximum lag of 6. \n",
    "    # This setup mirrors the Newey-West standard error correction in SAS.\n",
    "\n",
    "    params = model.params\n",
    "    tstats = model.tvalues\n",
    "\n",
    "    result = {\n",
    "        'const': params.get('const', np.nan),\n",
    "        'const_tstats': tstats.get('const', np.nan),\n",
    "        'b1': params.get('mktrf', np.nan),\n",
    "        'b1_tstats': tstats.get('mktrf', np.nan),\n",
    "        'b2': params.get('hml', np.nan),\n",
    "        'b2_tstats': tstats.get('hml', np.nan),\n",
    "        'b3': params.get('smb', np.nan),\n",
    "        'b3_tstats': tstats.get('smb', np.nan),\n",
    "    }\n",
    "\n",
    "    return result\n",
    "\n",
    "def apply_capmreg_by_group(group, max_lag=6):\n",
    "    y = group['vw_pret']\n",
    "    X = group[['mktrf']]\n",
    "    X = sm.add_constant(X)\n",
    "    model = OLS(y, X).fit(cov_type='HAC', cov_kwds={'maxlags': max_lag}, kernel='bartlett')\n",
    "\n",
    "    params = model.params\n",
    "    tstats = model.tvalues\n",
    "\n",
    "    result = {\n",
    "        'const': params.get('const', np.nan),\n",
    "        'const_tstats': tstats.get('const', np.nan),\n",
    "        'b1': params.get('mktrf', np.nan),\n",
    "        'b1_tstats': tstats.get('mktrf', np.nan),\n",
    "    }\n",
    "\n",
    "    return result\n",
    "\n"
   ]
  },
  {
   "cell_type": "code",
   "execution_count": null,
   "id": "5af18268",
   "metadata": {},
   "outputs": [],
   "source": [
    "capm_reg_result = p51_reg.groupby('p1').apply(apply_capmreg_by_group, include_groups=False).apply(pd.Series)\n",
    "capm_reg_result"
   ]
  },
  {
   "cell_type": "code",
   "execution_count": null,
   "id": "26bf8ef7",
   "metadata": {},
   "outputs": [],
   "source": [
    "ff3_reg_results = p51_reg.groupby('p1').apply(apply_ff3reg_by_group, include_groups=False).apply(pd.Series)\n",
    "ff3_reg_results"
   ]
  },
  {
   "cell_type": "code",
   "execution_count": null,
   "id": "caa427d6",
   "metadata": {},
   "outputs": [],
   "source": [
    "final_table = pd.DataFrame(portfolio6.groupby(['p1', 'p2'])['vw_pret'].mean())\n",
    "final_table = final_table.pivot_table(index='p2', columns='p1', values='vw_pret')\n",
    "\n",
    "final_table.index = ['BM1', 'BM2', 'BM3', 'BM4', 'BM5', 'BM5-BM1']\n",
    "final_table.columns = ['Size1', 'Size2', 'Size3', 'Size4', 'Size5']"
   ]
  },
  {
   "cell_type": "code",
   "execution_count": null,
   "id": "1f06b997",
   "metadata": {},
   "outputs": [],
   "source": [
    "capm_alpha = capm_reg_result[['const', 'const_tstats']].rename(columns={'const': 'CAPM alpha', 'const_tstats': 'CAPM alpha tstats'})\n",
    "capm_alpha.index = ['Size1', 'Size2', 'Size3', 'Size4', 'Size5']\n",
    "capm_alpha = capm_alpha.T"
   ]
  },
  {
   "cell_type": "code",
   "execution_count": null,
   "id": "a11fce68",
   "metadata": {},
   "outputs": [],
   "source": [
    "ff3_alpha = ff3_reg_results[['const', 'const_tstats']].rename(columns={'const': 'FF3 alpha', 'const_tstats': 'FF3 alpha tstats'})\n",
    "ff3_alpha.index = ['Size1', 'Size2', 'Size3', 'Size4', 'Size5']\n",
    "ff3_alpha = ff3_alpha.T"
   ]
  },
  {
   "cell_type": "code",
   "execution_count": null,
   "id": "8464153e",
   "metadata": {},
   "outputs": [],
   "source": [
    "final_table = pd.concat([final_table, capm_alpha, ff3_alpha], axis=0)\n",
    "final_table"
   ]
  }
 ],
 "metadata": {
  "kernelspec": {
   "display_name": ".venv",
   "language": "python",
   "name": "python3"
  }
 },
 "nbformat": 4,
 "nbformat_minor": 5
}
