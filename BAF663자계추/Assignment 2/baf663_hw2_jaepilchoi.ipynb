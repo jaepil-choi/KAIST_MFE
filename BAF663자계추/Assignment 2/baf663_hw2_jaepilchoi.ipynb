{
 "cells": [
  {
   "cell_type": "markdown",
   "id": "87ebdd7f",
   "metadata": {},
   "source": [
    "# 자계추 hw2\n",
    "\n",
    "20249433 최재필"
   ]
  },
  {
   "cell_type": "code",
   "execution_count": null,
   "id": "0fb602b4",
   "metadata": {},
   "outputs": [],
   "source": [
    "import pandas as pd\n",
    "import numpy as np\n",
    "\n",
    "from scipy.stats.mstats import winsorize"
   ]
  },
  {
   "cell_type": "markdown",
   "id": "843cc62d",
   "metadata": {},
   "source": [
    "## Load Data"
   ]
  },
  {
   "cell_type": "markdown",
   "id": "1fbc588c",
   "metadata": {},
   "source": [
    "### hw1 data\n",
    "\n",
    "firm-level ME, BM, adjret"
   ]
  },
  {
   "cell_type": "code",
   "execution_count": null,
   "id": "07185bfe",
   "metadata": {},
   "outputs": [],
   "source": [
    "hw1_df = pd.read_csv('assignment1_data.csv')\n",
    "hw1_df.head()"
   ]
  },
  {
   "cell_type": "code",
   "execution_count": null,
   "id": "488772d7",
   "metadata": {},
   "outputs": [],
   "source": [
    "hw1_df.info()"
   ]
  },
  {
   "cell_type": "markdown",
   "id": "86401553",
   "metadata": {},
   "source": [
    "### beta"
   ]
  },
  {
   "cell_type": "code",
   "execution_count": null,
   "id": "ceb64402",
   "metadata": {},
   "outputs": [],
   "source": [
    "beta_df = pd.read_csv('monthly_beta_data.csv')\n",
    "beta_df.head()"
   ]
  },
  {
   "cell_type": "code",
   "execution_count": null,
   "id": "0ea46546",
   "metadata": {},
   "outputs": [],
   "source": [
    "beta_df.info()"
   ]
  },
  {
   "cell_type": "markdown",
   "id": "7accd049",
   "metadata": {},
   "source": [
    "### CPI"
   ]
  },
  {
   "cell_type": "code",
   "execution_count": null,
   "id": "d10196b7",
   "metadata": {},
   "outputs": [],
   "source": [
    "cpi_df = pd.read_excel('CPIAUCSL.xls', skiprows=10)\n",
    "cpi_df.head()"
   ]
  },
  {
   "cell_type": "code",
   "execution_count": null,
   "id": "c76385cb",
   "metadata": {},
   "outputs": [],
   "source": [
    "cpi_df.info()"
   ]
  },
  {
   "cell_type": "markdown",
   "id": "ef8f1d46",
   "metadata": {},
   "source": [
    "## SAS 2"
   ]
  },
  {
   "cell_type": "code",
   "execution_count": null,
   "id": "94d6fc5c",
   "metadata": {},
   "outputs": [],
   "source": [
    "# * SAS 2: Add the beta measure to the monthly stock data set *******************************;\n",
    "# * Keep only the last observation of each month to get monthly betas;"
   ]
  },
  {
   "cell_type": "code",
   "execution_count": null,
   "id": "856695c1",
   "metadata": {},
   "outputs": [],
   "source": [
    "# * Generate the month-end date of each monthly stock observation;\n",
    "# ** last trading date이지, 무조건 월말이 아니다. 예를들어 그 달은 내내 거래 안해서 5일이 마지막 거래일이다? 그럼 5일의 beta로 ;\n",
    "# data monthly_stock_data1; \n",
    "#     set my_lib.assignment1_data; \n",
    "#     t = intnx('month', date, 0, 'end'); ** 날짜변수를 숫자변수인 t로 바꿔주는 과정 ;\n",
    "#     format t yymmddn8.; \n",
    "# run; \n",
    "\n",
    "hw1_df['pddate'] = pd.to_datetime(hw1_df['date'].astype(str), format='%Y%m%d')\n",
    "hw1_df['t'] = (hw1_df['pddate'] + pd.offsets.MonthEnd(0)).dt.strftime('%Y%m%d').astype(int) # date를 매달 마지막 날짜로 바꿔줌 (date가 2013-05-20과 같이 끊길 수도 있어서)"
   ]
  },
  {
   "cell_type": "code",
   "execution_count": null,
   "id": "b1d51fc8",
   "metadata": {},
   "outputs": [],
   "source": [
    "# * Add beta information to the monthly stock data set;\n",
    "# data monthly_stock_data2; \n",
    "#     merge monthly_stock_data1 (in = a) monthly_beta_data (in = b); \n",
    "#     by permno t; \n",
    "#     if a and b and missing(b_mkt) = 0; \n",
    "# run; \n",
    "\n",
    "monthly_stock_data2 = pd.merge(\n",
    "    left=hw1_df, \n",
    "    right=beta_df, \n",
    "    left_on=['permno', 't'],\n",
    "    right_on=['PERMNO', 't'],\n",
    "    how='inner'\n",
    "    )\n",
    "\n",
    "monthly_stock_data2.dropna(subset=['B_MKT'], inplace=True)\n",
    "monthly_stock_data2.drop(columns=['PERMNO'], inplace=True)"
   ]
  },
  {
   "cell_type": "code",
   "execution_count": null,
   "id": "523c45db",
   "metadata": {},
   "outputs": [],
   "source": [
    "monthly_stock_data2.head()"
   ]
  },
  {
   "cell_type": "code",
   "execution_count": null,
   "id": "ffa053e9",
   "metadata": {},
   "outputs": [],
   "source": [
    "# NOTE: The data set WORK.MONTHLY_STOCK_DATA2 has 1972533 observations and 13 variables.\n",
    "monthly_stock_data2.shape "
   ]
  },
  {
   "cell_type": "markdown",
   "id": "517c0e26",
   "metadata": {},
   "source": [
    "## SAS 3"
   ]
  },
  {
   "cell_type": "code",
   "execution_count": null,
   "id": "d13d6e9a",
   "metadata": {},
   "outputs": [],
   "source": [
    "# * SAS 3: Generate Mktcap_CPI and Size variables ******************************************;"
   ]
  },
  {
   "cell_type": "code",
   "execution_count": null,
   "id": "e0c65288",
   "metadata": {},
   "outputs": [],
   "source": [
    "# * CPI in June of each year;\n",
    "# data CPI_Jun; \n",
    "#     set CPI (where = (month(cpi_date) = 6)); \n",
    "#     t = year(cpi_date); \n",
    "#     keep t cpi; \n",
    "# run; \n",
    "\n",
    "CPI_Jun = cpi_df.loc[cpi_df['observation_date'].dt.month == 6, :].copy()\n",
    "CPI_Jun['t'] = CPI_Jun['observation_date'].dt.year"
   ]
  },
  {
   "cell_type": "code",
   "execution_count": null,
   "id": "f3834cbd",
   "metadata": {},
   "outputs": [],
   "source": [
    "# NOTE: There were 73 observations read from the data set WORK.CPI.\n",
    "#       WHERE MONTH(cpi_date)=6;\n",
    "\n",
    "CPI_Jun.shape"
   ]
  },
  {
   "cell_type": "code",
   "execution_count": null,
   "id": "088278df",
   "metadata": {},
   "outputs": [],
   "source": [
    "# * CPI in Dec, 2012;\n",
    "# %let CPI_2012 = 231.221; \n",
    "\n",
    "CPI_2012 = cpi_df[ cpi_df['observation_date'] == '2012-12-01']['CPIAUCSL'].values[0]\n",
    "CPI_2012"
   ]
  },
  {
   "cell_type": "code",
   "execution_count": null,
   "id": "bc43c061",
   "metadata": {},
   "outputs": [],
   "source": [
    "# * Calculate Mktcap_CPI, Size, and log_BM variables;\n",
    "# data monthly_stock_data2; \n",
    "#     set monthly_stock_data2; ** beta까지 넣어둔 assignment 1 data를 가져온다. ;\n",
    "#     if month(date) > 6 then t = year(date); \n",
    "#     else t = year(date) - 1; \n",
    "# run; \n",
    "\n",
    "monthly_stock_data2['t'] = monthly_stock_data2['pddate'].apply(\n",
    "    lambda x: x.year if x.month > 6 else x.year - 1\n",
    "    ) # 이번엔 t가 year인데, 7월 이후면 그냥 year, 6월 이전이면 year-1로 바꿔줌"
   ]
  },
  {
   "cell_type": "code",
   "execution_count": null,
   "id": "1601ee8e",
   "metadata": {},
   "outputs": [],
   "source": [
    "# proc sort data = monthly_stock_data2; \n",
    "#     by t date permno; \n",
    "# run; \n",
    "\n",
    "monthly_stock_data2.sort_values(by=['t', 'pddate', 'permno'], inplace=True)"
   ]
  },
  {
   "cell_type": "code",
   "execution_count": null,
   "id": "46f47710",
   "metadata": {},
   "outputs": [],
   "source": [
    "monthly_stock_data2.head()"
   ]
  },
  {
   "cell_type": "code",
   "execution_count": null,
   "id": "3f828686",
   "metadata": {},
   "outputs": [],
   "source": [
    "monthly_stock_data2.shape"
   ]
  },
  {
   "cell_type": "code",
   "execution_count": null,
   "id": "b552f5e3",
   "metadata": {
    "lines_to_next_cell": 2
   },
   "outputs": [],
   "source": [
    "# data monthly_stock_data3; \n",
    "#     merge monthly_stock_data2 (in = a) CPI_Jun (in = b); \n",
    "#     by t; \n",
    "#     if a; \n",
    "\n",
    "monthly_stock_data3 = pd.merge(\n",
    "    left=monthly_stock_data2, \n",
    "    right=CPI_Jun, \n",
    "    on='t',\n",
    "    how='left'\n",
    "    )"
   ]
  },
  {
   "cell_type": "code",
   "execution_count": null,
   "id": "88ceebc0",
   "metadata": {},
   "outputs": [],
   "source": [
    "#     ME_Jun_CPI = (ME_Jun / cpi) * &CPI_2012; ** cpi-adjusted ME ;\n",
    "#     size = log(ME_Jun); ** size도 log 씌워줌 ;\n",
    "#     size_CPI = log(ME_Jun_CPI); \n",
    "#     log_BM = log(BM); \n",
    "#     keep permno date year exchcd siccd retadj eretadj altprc_lag1 ME_lag1 \n",
    "#     b_mkt size size_CPI BM log_BM; ** 이 5개가 중요한 데이터 ;\n",
    "# run; \n",
    "\n",
    "monthly_stock_data3['ME_Jun_CPI'] = (monthly_stock_data3['ME_Jun'] / monthly_stock_data3['CPIAUCSL']) * CPI_2012\n",
    "monthly_stock_data3['size'] = np.log(monthly_stock_data3['ME_Jun'])\n",
    "monthly_stock_data3['size_CPI'] = np.log(monthly_stock_data3['ME_Jun_CPI'])\n",
    "monthly_stock_data3['log_BM'] = np.log(monthly_stock_data3['BM'])\n",
    "\n",
    "monthly_stock_data3 = monthly_stock_data3[['permno', 'date', 't', 'exchcd', 'siccd', 'retadj', 'eretadj', 'altprc_lag1', 'ME_lag1', \n",
    "                                           'B_MKT', 'size', 'size_CPI', 'BM', 'log_BM']]"
   ]
  },
  {
   "cell_type": "code",
   "execution_count": null,
   "id": "0024a86f",
   "metadata": {},
   "outputs": [],
   "source": [
    "monthly_stock_data3.head()"
   ]
  },
  {
   "cell_type": "code",
   "execution_count": null,
   "id": "ea7c22ff",
   "metadata": {},
   "outputs": [],
   "source": [
    "monthly_stock_data3.shape"
   ]
  },
  {
   "cell_type": "markdown",
   "id": "5bdc3ae1",
   "metadata": {},
   "source": [
    "## SAS 4"
   ]
  },
  {
   "cell_type": "code",
   "execution_count": null,
   "id": "6e6518b4",
   "metadata": {},
   "outputs": [],
   "source": [
    "# * SAS 4: Winsorize stock characteristic variables ****************************************;"
   ]
  },
  {
   "cell_type": "code",
   "execution_count": null,
   "id": "375f8dcc",
   "metadata": {},
   "outputs": [],
   "source": [
    "# * Rename characteristic variables;\n",
    "# data monthly_stock_data3; \n",
    "#     set monthly_stock_data3; \n",
    "#     ** _o : original data ;\n",
    "#     rename b_mkt = b_mkt_o size = size_o size_CPI = size_CPI_o BM = BM_o log_BM = log_BM_o; \n",
    "# run; \n",
    "\n",
    "\n",
    "\n",
    "\n",
    "# 그냥 winsorize하면 되므로 SAS의 이런 과정 필요 없음. \n",
    "\n",
    "# monthly_stock_data3 = monthly_stock_data3.rename(\n",
    "#     columns={\n",
    "#         'B_MKT': 'b_mkt_o', \n",
    "#         'size': 'size_o', \n",
    "#         'size_CPI': 'size_CPI_o', \n",
    "#         'BM': 'BM_o', \n",
    "#         'log_BM': 'log_BM_o'\n",
    "#         }\n",
    "#     )"
   ]
  },
  {
   "cell_type": "code",
   "execution_count": null,
   "id": "c70a274d",
   "metadata": {},
   "outputs": [],
   "source": [
    "# * Calculate 0.5% and 99.5% level of each characteristic variable on a monthly basis;\n",
    "# proc sort data = monthly_stock_data3; \n",
    "#     by date; \n",
    "# run; \n",
    "\n",
    "# proc univariate data = monthly_stock_data3 noprint; \n",
    "#     by date; \n",
    "#     var b_mkt_o size_o size_CPI_o BM_o log_BM_o; ** _o 붙은게 winsorize 된 것들 ;\n",
    "#     output out = bounds pctlpts = 0.5 99.5 pctlpre = b_mkt_ size_ size_CPI_ BM_ log_BM_; \n",
    "# run; \n",
    "\n",
    "# * Merge the bounds with the monthly stock data and winsorize characteristic variables;\n",
    "# data monthly_stock_data4; \n",
    "#     merge monthly_stock_data3 bounds; \n",
    "#     by date; \n",
    "\n",
    "#     array original(5) b_mkt_o size_o size_CPI_o BM_o log_BM_o; \n",
    "#     array winsorized(5) b_mkt size size_CPI BM log_BM; \n",
    "#     array l_bound(5) b_mkt_0_5 size_0_5 size_CPI_0_5 BM_0_5 log_BM_0_5; \n",
    "#     array u_bound(5) b_mkt_99_5 size_99_5 size_CPI_99_5 BM_99_5 log_BM_99_5; \n",
    "\n",
    "#     do ii = 1 to 5; \n",
    "#         if original(ii) < l_bound(ii) then winsorized(ii) = l_bound(ii); \n",
    "#         else if original(ii) > u_bound(ii) then winsorized(ii) = u_bound(ii); \n",
    "#         else winsorized(ii) = original(ii); \n",
    "#     end; \n",
    "\n",
    "#     drop b_mkt_0_5--log_BM_99_5 ii b_mkt_o size_o size_CPI_o BM_o log_BM_o; \n",
    "# run; \n",
    "\n",
    "\n",
    "WINSORIZE_LEVEL = 0.005\n",
    "\n",
    "winsorize_cols = ['B_MKT', 'size', 'size_CPI', 'BM', 'log_BM']\n",
    "monthly_stock_data4 = monthly_stock_data3.copy()\n",
    "for col in winsorize_cols:\n",
    "    monthly_stock_data4[f'{col}_o'] = monthly_stock_data4[col]\n",
    "\n",
    "monthly_stock_data4[winsorize_cols] = monthly_stock_data4.groupby('date').transform(\n",
    "    lambda x: winsorize(x, limits=(WINSORIZE_LEVEL, WINSORIZE_LEVEL))\n",
    "    )[winsorize_cols]"
   ]
  },
  {
   "cell_type": "code",
   "execution_count": null,
   "id": "94ebf2a8",
   "metadata": {},
   "outputs": [],
   "source": [
    "# winsorize했기 때문에 original data와 다른 것들을 확인할 수 있다.\n",
    "monthly_stock_data4[monthly_stock_data4['BM'] != monthly_stock_data4['BM_o']].sort_values(by='date').head()"
   ]
  },
  {
   "cell_type": "markdown",
   "id": "9f820460",
   "metadata": {},
   "source": [
    "## SAS 5"
   ]
  },
  {
   "cell_type": "code",
   "execution_count": null,
   "id": "b2fec0b2",
   "metadata": {},
   "outputs": [],
   "source": [
    "# * SAS 5: Calculate summary statistics;"
   ]
  },
  {
   "cell_type": "code",
   "execution_count": null,
   "id": "087d3550",
   "metadata": {},
   "outputs": [],
   "source": [
    "# %let varlist = b_mkt size size_CPI BM log_BM; \n",
    "\n",
    "# ods exclude all; \n",
    "\n",
    "# proc sort data = monthly_stock_data4; \n",
    "#     by date permno; \n",
    "# run; \n",
    "\n",
    "# proc means data = monthly_stock_data4 mean std skew kurt min p5 p25 median p75 max n stackodsoutput nolabels; \n",
    "#     by date; \n",
    "#     var &varlist; \n",
    "#     ods output summary = stats_by_month; \n",
    "# run; \n",
    "\n",
    "# ods exclude none; \n",
    "\n",
    "def agg_pct(p):\n",
    "    def percentiles(x):\n",
    "        return np.percentile(x, p)\n",
    "\n",
    "    percentiles.__name__ = f'p{p}'\n",
    "\n",
    "    return percentiles\n",
    "\n",
    "stats = [\n",
    "    'mean',\n",
    "    'std',\n",
    "    'skew',\n",
    "    # 'kurtosis', # Not a method of DataFrameGroupBy\n",
    "    pd.Series.kurt,\n",
    "    'count',\n",
    "\n",
    "    'min',\n",
    "    agg_pct(5),\n",
    "    agg_pct(25),\n",
    "    'median',\n",
    "    agg_pct(75),\n",
    "    'max',\n",
    "]\n",
    "\n",
    "summary_stats_df = monthly_stock_data4.groupby('date').agg(\n",
    "    {'B_MKT': stats, \n",
    "     'size': stats, \n",
    "     'size_CPI': stats, \n",
    "     'BM': stats, \n",
    "     'log_BM': stats}\n",
    "    )\n",
    "\n",
    "summary_stats_df.head()"
   ]
  },
  {
   "cell_type": "code",
   "execution_count": null,
   "id": "f838ed86",
   "metadata": {},
   "outputs": [],
   "source": [
    "# * Calculate the time-series-means of the summary statistics for the variables in the \"varlist\";\n",
    "\n",
    "winsorize_cols"
   ]
  },
  {
   "cell_type": "code",
   "execution_count": null,
   "id": "8630431b",
   "metadata": {},
   "outputs": [],
   "source": [
    "# proc sort data = stats_by_month; ** cross sectional로 구해놓은 bm mean들을 한 번 더 time-series로 mean ;\n",
    "#     by variable date; \n",
    "# run; \n",
    "\n",
    "# proc means data = stats_by_month mean nolabels noprint; \n",
    "#     by variable; \n",
    "#     var mean stddev skew kurt min p25 median p75 max n; \n",
    "#     output out = stats (drop = _TYPE_ _FREQ_) mean(mean stddev skew kurt min p25 median p75 max n) = mean stddev skew kurt min p25 median p75 max n; \n",
    "# run; \n",
    "\n",
    "ts_summary_stats_df = pd.DataFrame(summary_stats_df.mean(), columns=['ts_mean'])\n",
    "ts_summary_stats_df.index.set_names(['var', 'stats'], inplace=True)\n",
    "\n",
    "ts_summary_stats_df = ts_summary_stats_df.unstack(level='stats')\n",
    "ts_summary_stats_df.columns = ts_summary_stats_df.columns.droplevel(0) # ts_mean이라는 level(0)을 제거하고 남은 columns들을 반환\n",
    "ts_summary_stats_df"
   ]
  },
  {
   "cell_type": "markdown",
   "id": "c8131fd2",
   "metadata": {},
   "source": [
    "## SAS 6"
   ]
  },
  {
   "cell_type": "code",
   "execution_count": null,
   "id": "d9c264a0",
   "metadata": {},
   "outputs": [],
   "source": [
    "# * SAS 6: Calculate correlations;"
   ]
  },
  {
   "cell_type": "code",
   "execution_count": null,
   "id": "a411e127",
   "metadata": {
    "lines_to_next_cell": 2
   },
   "outputs": [],
   "source": [
    "# proc corr data = monthly_stock_data4 outp = pcorr_by_month (where = (_TYPE_ = \"CORR\")) noprint; \n",
    "#     by date; \n",
    "#     var &varlist; \n",
    "# run; \n",
    "\n",
    "monthly_corr = monthly_stock_data4.groupby('date')[winsorize_cols].corr()"
   ]
  },
  {
   "cell_type": "code",
   "execution_count": null,
   "id": "42a93fd5",
   "metadata": {},
   "outputs": [],
   "source": [
    "# * Calculate the time-series-means of the correlations for variables in the \"varlist\";\n",
    "# proc sort data = pcorr_by_month; \n",
    "#     by _name_ date; \n",
    "# run; \n",
    "\n",
    "# proc means data = pcorr_by_month mean nolabels noprint; \n",
    "#     by _name_; \n",
    "#     var &varlist; \n",
    "#     output out = pcorr (keep = _NAME_ &varlist) mean(&varlist) = &varlist; \n",
    "# run; \n",
    "\n",
    "ts_monthly_corr = pd.DataFrame(monthly_corr.unstack().mean(), columns=['ts_mean'])\n",
    "ts_monthly_corr.index.set_names(['var1', 'var2'], inplace=True)\n",
    "ts_monthly_corr = ts_monthly_corr.unstack(level='var2')\n",
    "ts_monthly_corr.columns = ts_monthly_corr.columns.droplevel(0)\n",
    "\n",
    "ts_monthly_corr"
   ]
  },
  {
   "cell_type": "markdown",
   "id": "a0c5b215",
   "metadata": {},
   "source": [
    "## SAS 7"
   ]
  },
  {
   "cell_type": "code",
   "execution_count": null,
   "id": "7b503ead",
   "metadata": {},
   "outputs": [],
   "source": [
    "# * SAS 7: Dependent-sort stocks into 25 portfolios based on size and BM *******************************;"
   ]
  },
  {
   "cell_type": "code",
   "execution_count": null,
   "id": "feab474c",
   "metadata": {},
   "outputs": [],
   "source": [
    "winsorize_cols"
   ]
  },
  {
   "cell_type": "code",
   "execution_count": null,
   "id": "6c7f838c",
   "metadata": {},
   "outputs": [],
   "source": [
    "monthly_stock_data4"
   ]
  },
  {
   "cell_type": "code",
   "execution_count": null,
   "id": "ed0952a9",
   "metadata": {},
   "outputs": [],
   "source": [
    "# * Calculate size breakpoints as 20th, 40th, 60th, and 80th size percentiles among NYSE stocks in each month;\n",
    "# *** NYSE stock들만 가지고 breakpoint를 찾아라. ;\n",
    "# proc univariate data = monthly_stock_data4 (where = (exchcd in (1, 31))) noprint; \n",
    "#     by date; \n",
    "#     var size; \n",
    "#     output out = size_breakpoints pctlpts = 20 40 60 80 pctlpre = size_; \n",
    "# run; \n",
    "\n",
    "# * Merge the size breakpoints with the monthly stock data and define size sorted portfolios;\n",
    "# data monthly_stock_data5; \n",
    "#     merge monthly_stock_data4 size_breakpoints; \n",
    "#     by date; \n",
    "\n",
    "#     if size < size_20 then p1 = 1; \n",
    "#     else if size < size_40 then p1 = 2; \n",
    "#     else if size < size_60 then p1 = 3; \n",
    "#     else if size < size_80 then p1 = 4; \n",
    "#     else p1 = 5; \n",
    "# run; \n",
    "\n",
    "nyse_size_breakpoints = monthly_stock_data4[ monthly_stock_data4['exchcd'].isin([1, 31]) ].groupby('date')['size'].quantile([0.2, 0.4, 0.6, 0.8])\n",
    "nyse_size_breakpoints = nyse_size_breakpoints.unstack(level=1)\n",
    "nyse_size_breakpoints.columns = [f'size_{int(p*100)}' for p in nyse_size_breakpoints.columns]\n",
    "nyse_size_breakpoints.reset_index(inplace=True, drop=False)\n",
    "\n",
    "monthly_stock_data4 = pd.merge(\n",
    "    left=monthly_stock_data4, \n",
    "    right=nyse_size_breakpoints, \n",
    "    on='date',\n",
    "    how='left'\n",
    "    )\n",
    "\n",
    "\n",
    "# monthly_stock_data4['p1'] = monthly_stock_data4.apply(\n",
    "#     lambda row: row[ ['size_20', 'size_40', 'size_60', 'size_80'] ].searchsorted(row['size']) + 1,\n",
    "#     axis=1\n",
    "#     )\n",
    "\n",
    "## 너무 느리다. vectorized operation으로 바꿔보자.\n",
    "\n",
    "size_bounds = monthly_stock_data4[['size_20', 'size_40', 'size_60', 'size_80']].values\n",
    "size = monthly_stock_data4['size'].values.reshape(-1, 1)\n",
    "size_group = ( size_bounds <= size ).sum(axis=1)\n",
    "\n",
    "monthly_stock_data4['p1'] = size_group + 1"
   ]
  },
  {
   "cell_type": "code",
   "execution_count": null,
   "id": "a77d1dba",
   "metadata": {},
   "outputs": [],
   "source": [
    "# Not used\n",
    "\n",
    "# def get_qcut_breakpoints(x, q=[20, 40, 60, 80]):\n",
    "#     q = np.array(q)\n",
    "#     lower_q = q[q<=50]\n",
    "#     upper_q = q[q>50]\n",
    "\n",
    "#     lower_bounds = np.percentile(x, lower_q, method='lower')\n",
    "#     upper_bounds = np.percentile(x, upper_q, method='higher')\n",
    "\n",
    "#     return np.concatenate([lower_bounds, upper_bounds])"
   ]
  },
  {
   "cell_type": "code",
   "execution_count": null,
   "id": "ccc7561a",
   "metadata": {},
   "outputs": [],
   "source": [
    "# proc univariate data = monthly_stock_data5 noprint; \n",
    "#     by date p1; \n",
    "#     var BM; \n",
    "#     output out = BM_breakpoints pctlpts = 20 40 60 80 pctlpre = BM_; \n",
    "# run; \n",
    "\n",
    "# * Merge the BM breakpoints with the monthly stock data and define BM sorted portfolios in each size sorted portfolio;\n",
    "# data monthly_stock_data6; \n",
    "#     merge monthly_stock_data5 BM_breakpoints; \n",
    "#     by date p1; \n",
    "\n",
    "#     if BM < BM_20 then p2 = 1; \n",
    "#     else if BM < BM_40 then p2 = 2; \n",
    "#     else if BM < BM_60 then p2 = 3; \n",
    "#     else if BM < BM_80 then p2 = 4; \n",
    "#     else p2 = 5; \n",
    "# run; \n",
    "\n",
    "\n",
    "## 중요한 차이: independent sort가 아니라 dependent sort임.\n",
    "\n",
    "monthly_stock_data4['p2'] = monthly_stock_data4.groupby(['date', 'p1'])['BM'].transform(\n",
    "    lambda x: pd.qcut(x, q=[0, 0.2, 0.4, 0.6, 0.8, 1], labels=False, duplicates='drop') + 1\n",
    "    )"
   ]
  },
  {
   "cell_type": "code",
   "execution_count": null,
   "id": "8a3fc526",
   "metadata": {},
   "outputs": [],
   "source": [
    "monthly_stock_data4.head()"
   ]
  },
  {
   "cell_type": "markdown",
   "id": "06cdd5d6",
   "metadata": {},
   "source": [
    "### SAS 7 (alternative)\n",
    "\n",
    "- size_20, ... , size_80 컬럼과 bm_20, ..., bm_80 컬럼을 만들기\n",
    "- `pd.qcut`을 쓸 경우 필요하지 않지만, 과제2 요건에 맞추기 위해 만듦. (만들고 쓰진 않음)"
   ]
  },
  {
   "cell_type": "code",
   "execution_count": null,
   "id": "68ca3cf5",
   "metadata": {},
   "outputs": [],
   "source": [
    "# def get_breakpoints_sas(x, n):\n",
    "#     i = int(100/n)\n",
    "#     return [x.quantile(p/100, interpolation='higher') if p >= 50 \n",
    "#             else x.quantile(p/100, interpolation='lower')\n",
    "#             for p in range(0, 100 + i, i)]\n",
    "\n",
    "\n",
    "# quantiles = [0.5, 20, 40, 60, 80, 99.5] # in ascending order\n",
    "quantiles = [20, 40, 60, 80,] # in ascending order\n",
    "\n",
    "## size columns \n",
    "for q in quantiles:\n",
    "    interpolation = 'higher' if q >= 50 else 'lower'\n",
    "    monthly_stock_data4[f'size_{q}'] = monthly_stock_data4.groupby('date')['size'].transform(lambda x: np.percentile(x, q, method=interpolation))\n",
    "    monthly_stock_data4[f'bm_{q}'] = monthly_stock_data4.groupby(['date', 'p1'])['BM'].transform(lambda x: np.percentile(x, q, method=interpolation))"
   ]
  },
  {
   "cell_type": "code",
   "execution_count": null,
   "id": "0ac2b8c2",
   "metadata": {},
   "outputs": [],
   "source": [
    "monthly_stock_data4.columns"
   ]
  },
  {
   "cell_type": "code",
   "execution_count": null,
   "id": "edd77acc",
   "metadata": {},
   "outputs": [],
   "source": [
    "report_cols = [\n",
    "    'permno',\n",
    "    'date',\n",
    "    'B_MKT',\n",
    "    'size',\n",
    "    'size_CPI',\n",
    "    'BM',\n",
    "    'log_BM',\n",
    "    # 'size_0.5',\n",
    "    'size_20',\n",
    "    'size_40',\n",
    "    'size_60',\n",
    "    'size_80',\n",
    "    # 'size_99.5',\n",
    "    # 'bm_0.5',\n",
    "    'bm_20',\n",
    "    'bm_40',\n",
    "    'bm_60',\n",
    "    'bm_80',\n",
    "    # 'bm_99.5',\n",
    "    'p1',\n",
    "    'p2'\n",
    "]\n",
    "\n",
    "monthly_stock_data4[report_cols].sort_values(by=['date', 'permno']).head(25)"
   ]
  },
  {
   "cell_type": "code",
   "execution_count": null,
   "id": "0a6d483a",
   "metadata": {},
   "outputs": [],
   "source": [
    "# * Calculate the time-series average number of stocks in each portfolio;\n",
    "# proc sort data = monthly_stock_data6; \n",
    "#     by date p1 p2; \n",
    "# run; \n",
    "\n",
    "# proc means data = monthly_stock_data6 n nolabels noprint; \n",
    "#     by date p1 p2; ** 서로 다른 permno들이 각 p1, p2에 몇개씩 있는지 count ;\n",
    "#     var permno; \n",
    "#     output out = nstocks_per_p n = nstocks; \n",
    "# run; \n",
    "\n",
    "# proc sort data = nstocks_per_p; \n",
    "#     by p1 p2; \n",
    "# run; \n",
    "\n",
    "nstocks_per_p = pd.DataFrame(monthly_stock_data4.groupby(['date', 'p1', 'p2']).size(), columns=['nstocks'])\n",
    "nstocks_per_p.index.set_names(['date', 'p1', 'p2'], inplace=True)\n",
    "nstocks_per_p = nstocks_per_p.unstack(level=['p1', 'p2'])\n",
    "nstocks_per_p.columns = nstocks_per_p.columns.droplevel(0)\n",
    "\n",
    "ts_nstocks_per_p = pd.DataFrame(nstocks_per_p.mean(), columns=['ts_mean'])\n",
    "ts_nstocks_per_p = ts_nstocks_per_p.unstack(level='p2')\n",
    "ts_nstocks_per_p.columns = ts_nstocks_per_p.columns.droplevel(0)\n",
    "ts_nstocks_per_p"
   ]
  },
  {
   "cell_type": "code",
   "execution_count": null,
   "id": "e94a13e4",
   "metadata": {},
   "outputs": [],
   "source": []
  }
 ],
 "metadata": {
  "kernelspec": {
   "display_name": ".venv",
   "language": "python",
   "name": "python3"
  }
 },
 "nbformat": 4,
 "nbformat_minor": 5
}
