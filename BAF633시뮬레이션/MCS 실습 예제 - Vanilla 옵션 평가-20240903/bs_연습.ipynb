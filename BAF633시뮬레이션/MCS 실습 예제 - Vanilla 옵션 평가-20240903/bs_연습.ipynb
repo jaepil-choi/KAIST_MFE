{
 "cells": [
  {
   "cell_type": "markdown",
   "metadata": {},
   "source": [
    "# 연습\n",
    "\n",
    "- 교수님이 올려주신 파일 기반으로 연습"
   ]
  },
  {
   "cell_type": "code",
   "execution_count": 1,
   "metadata": {},
   "outputs": [],
   "source": [
    "import numpy as np\n",
    "import scipy.stats as sst\n",
    "\n",
    "def bsprice(s, k, r, q, t, sigma, flag):\n",
    "    d1 = (np.log(s/k) + (r - q + 0.5*sigma**2)*t) / (sigma*np.sqrt(t))\n",
    "    d2 = d1 - sigma*np.sqrt(t)\n",
    "    callOrPut = 1 if flag.lower()=='call' else -1\n",
    "    nd1 = sst.norm.cdf(callOrPut*d1)\n",
    "    nd2 = sst.norm.cdf(callOrPut*d2)\n",
    "    price = callOrPut*(s*np.exp(-q*t)*nd1 - k*np.exp(-r*t)*nd2)\n",
    "    return price"
   ]
  },
  {
   "cell_type": "code",
   "execution_count": 5,
   "metadata": {},
   "outputs": [],
   "source": [
    "def mcpvs(s,k,r,q,t,sigma,nsim,flag):\n",
    "    z = np.random.randn(nsim)\n",
    "    st = s*np.exp((r-q-0.5*sigma**2)*t + sigma*np.sqrt(t)*z)\n",
    "    callOrPut = 1 if flag.lower()=='call' else -1    \n",
    "    payoff = np.maximum(callOrPut*(st-k), 0)    \n",
    "    pvs = np.exp(-r*t)*payoff    \n",
    "    return pvs"
   ]
  },
  {
   "cell_type": "code",
   "execution_count": 9,
   "metadata": {},
   "outputs": [
    {
     "name": "stdout",
     "output_type": "stream",
     "text": [
      "   Price = 3.724086\n",
      "MC Price = 3.726878\n"
     ]
    }
   ],
   "source": [
    "s = 100\n",
    "k = 100\n",
    "r = 0.03\n",
    "q = 0.01\n",
    "t = 0.25\n",
    "sigma = 0.2\n",
    "flag = 'put'\n",
    "\n",
    "#Analytic Formula\n",
    "price = bsprice(s,k,r,q,t,sigma,flag)\n",
    "print(f\"   Price = {price:0.6f}\")\n",
    "\n",
    "#Monte-Carlo Simulation\n",
    "nsim = 1000000\n",
    "mc_pvs = mcpvs(s,k,r,q,t,sigma,nsim,flag)\n",
    "mc_price = mc_pvs.mean()\n",
    "print(f\"MC Price = {mc_price:0.6f}\")"
   ]
  },
  {
   "cell_type": "code",
   "execution_count": 13,
   "metadata": {},
   "outputs": [
    {
     "data": {
      "text/plain": [
       "5.322780510872322"
      ]
     },
     "execution_count": 13,
     "metadata": {},
     "output_type": "execute_result"
    }
   ],
   "source": [
    "mc_pvs.std()"
   ]
  },
  {
   "cell_type": "code",
   "execution_count": 17,
   "metadata": {},
   "outputs": [
    {
     "data": {
      "text/plain": [
       "(3.7164457304713023, 3.7373106719233586)"
      ]
     },
     "execution_count": 17,
     "metadata": {},
     "output_type": "execute_result"
    }
   ],
   "source": [
    "conf_level = 0.95\n",
    "\n",
    "conf_interval = sst.t.interval(\n",
    "    conf_level, \n",
    "    df=nsim-1, # degree of freedom\n",
    "    loc=mc_price, # location = mean\n",
    "    scale=mc_pvs.std()/np.sqrt(nsim) # se of the mean\n",
    "    )\n",
    "conf_interval"
   ]
  },
  {
   "cell_type": "code",
   "execution_count": 18,
   "metadata": {},
   "outputs": [
    {
     "data": {
      "text/plain": [
       "0.000793"
      ]
     },
     "execution_count": 18,
     "metadata": {},
     "output_type": "execute_result"
    }
   ],
   "source": [
    "conf_min, conf_max = conf_interval\n",
    "\n",
    "mc_pvs[(mc_pvs >= conf_min) & (mc_pvs <= conf_max)].size / nsim"
   ]
  },
  {
   "cell_type": "code",
   "execution_count": null,
   "metadata": {},
   "outputs": [],
   "source": []
  }
 ],
 "metadata": {
  "kernelspec": {
   "display_name": ".venv",
   "language": "python",
   "name": "python3"
  },
  "language_info": {
   "codemirror_mode": {
    "name": "ipython",
    "version": 3
   },
   "file_extension": ".py",
   "mimetype": "text/x-python",
   "name": "python",
   "nbconvert_exporter": "python",
   "pygments_lexer": "ipython3",
   "version": "3.10.11"
  }
 },
 "nbformat": 4,
 "nbformat_minor": 2
}
