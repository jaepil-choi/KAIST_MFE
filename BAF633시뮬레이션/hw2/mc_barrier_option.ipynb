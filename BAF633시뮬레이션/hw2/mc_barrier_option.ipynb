{
 "cells": [
  {
   "cell_type": "markdown",
   "id": "cdeb6c5e",
   "metadata": {},
   "source": [
    "BAF633 시뮬레이션 과제2: Barrier Option Pricing using Variance Reduction\n",
    "20249433 최재필"
   ]
  },
  {
   "cell_type": "code",
   "execution_count": null,
   "id": "42346a8f",
   "metadata": {
    "lines_to_next_cell": 1
   },
   "outputs": [],
   "source": [
    "import numpy as np\n",
    "import scipy.stats as sst"
   ]
  },
  {
   "cell_type": "code",
   "execution_count": null,
   "id": "a3af039a",
   "metadata": {},
   "outputs": [],
   "source": [
    "def bsprice(s, k, r, q, t, sigma, flag):\n",
    "    d1 = (np.log(s/k) + (r - q + 0.5*sigma**2)*t) / (sigma*np.sqrt(t))\n",
    "    d2 = d1 - sigma*np.sqrt(t)\n",
    "    callOrPut = 1 if flag.lower()=='call' else -1\n",
    "    nd1 = sst.norm.cdf(callOrPut*d1)\n",
    "    nd2 = sst.norm.cdf(callOrPut*d2)\n",
    "    price = callOrPut*(s*np.exp(-q*t)*nd1 - k*np.exp(-r*t)*nd2)\n",
    "    return price"
   ]
  },
  {
   "cell_type": "code",
   "execution_count": null,
   "id": "ef8e7b63",
   "metadata": {},
   "outputs": [],
   "source": [
    "def mc_barrier_price(s, k, r, q, t, sigma, option_flag, n, b, barrier_flag, m):\n",
    "    callOrPut = 1 if option_flag.lower() == 'call' else -1\n",
    "    upOrDown, inOrOut = barrier_flag.lower().split('-')\n",
    "\n",
    "    dt = t / m  # Time step\n",
    "    drift = (r - q - 0.5 * sigma ** 2) * dt\n",
    "    vol = sigma * np.sqrt(dt)\n",
    "\n",
    "    # Antithetic variates\n",
    "    n_half = n // 2\n",
    "    z = np.random.randn(n_half, m)\n",
    "    z = np.vstack((z, -z))\n",
    "\n",
    "    # Simulate paths\n",
    "    increments = drift + vol * z\n",
    "    log_s = np.log(s) + np.cumsum(increments, axis=1)\n",
    "    s_paths = np.exp(log_s)\n",
    "    s_paths = np.hstack((s * np.ones((n, 1)), s_paths))\n",
    "\n",
    "    # Payoffs\n",
    "    if upOrDown == 'up':\n",
    "        if inOrOut == 'out':\n",
    "            barrier_crossed = np.any(s_paths >= b, axis=1)\n",
    "            payoff_paths = np.where(barrier_crossed, 0.0, np.maximum(callOrPut * (s_paths[:, -1] - k), 0))\n",
    "        else:  # 'in' \n",
    "            barrier_crossed = np.any(s_paths >= b, axis=1)\n",
    "            payoff_paths = np.where(barrier_crossed, np.maximum(callOrPut * (s_paths[:, -1] - k), 0), 0.0)\n",
    "    else:  # 'down'\n",
    "        if inOrOut == 'out':\n",
    "            barrier_crossed = np.any(s_paths <= b, axis=1)\n",
    "            payoff_paths = np.where(barrier_crossed, 0.0, np.maximum(callOrPut * (s_paths[:, -1] - k), 0))\n",
    "        else:  # 'in' \n",
    "            barrier_crossed = np.any(s_paths <= b, axis=1)\n",
    "            payoff_paths = np.where(barrier_crossed, np.maximum(callOrPut * (s_paths[:, -1] - k), 0), 0.0)\n",
    "\n",
    "    # Discount payoffs\n",
    "    disc_payoffs = np.exp(-r * t) * payoff_paths\n",
    "\n",
    "    # Control Variates: Use the vanilla option as control variate\n",
    "    vanilla_price = bsprice(s, k, r, q, t, sigma, option_flag)\n",
    "    vanilla_payoffs = np.maximum(callOrPut * (s_paths[:, -1] - k), 0)\n",
    "    disc_vanilla_payoffs = np.exp(-r * t) * vanilla_payoffs\n",
    "\n",
    "    # Compute covariance and adjust payoffs\n",
    "    cov = np.cov(disc_payoffs, disc_vanilla_payoffs)\n",
    "    beta = cov[0, 1] / cov[1, 1]\n",
    "    adjusted_payoffs = disc_payoffs - beta * (disc_vanilla_payoffs - vanilla_price)\n",
    "\n",
    "    # Estimate price\n",
    "    price = np.mean(adjusted_payoffs)\n",
    "\n",
    "    return price"
   ]
  },
  {
   "cell_type": "code",
   "execution_count": null,
   "id": "1789206e",
   "metadata": {},
   "outputs": [],
   "source": [
    "if __name__ == '__main__':\n",
    "    import numpy as np\n",
    "\n",
    "    s = 100         \n",
    "    k = 100         \n",
    "    r = 0.05        \n",
    "    q = 0.02        \n",
    "    t = 1.0         \n",
    "    sigma = 0.2     \n",
    "    option_flag = 'call' \n",
    "    n = 100000      \n",
    "    b = 120         \n",
    "    barrier_flag = 'up-out'  \n",
    "    m = 252         \n",
    "\n",
    "    price = mc_barrier_price(s, k, r, q, t, sigma, option_flag, n, b, barrier_flag, m)\n",
    "    print(price)"
   ]
  }
 ],
 "metadata": {
  "jupytext": {
   "cell_metadata_filter": "-all",
   "main_language": "python",
   "notebook_metadata_filter": "-all"
  }
 },
 "nbformat": 4,
 "nbformat_minor": 5
}
