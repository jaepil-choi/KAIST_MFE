{
 "cells": [
  {
   "cell_type": "markdown",
   "id": "237b8cda",
   "metadata": {},
   "source": [
    "# BAF633 시뮬레이션 HW2 보고서\n",
    "\n",
    "20249433 최재필\n",
    "\n",
    "- 사용한 분산감소기법 설명"
   ]
  },
  {
   "cell_type": "markdown",
   "id": "5525de7b",
   "metadata": {},
   "source": [
    "## Antithetic Variates"
   ]
  },
  {
   "cell_type": "markdown",
   "id": "03137f04",
   "metadata": {},
   "source": [
    "```python\n",
    "    # Antithetic Variates\n",
    "    n_half = n // 2\n",
    "    z = np.random.randn(n_half, m)\n",
    "    z = np.vstack((z, -z))\n",
    "```\n",
    "\n",
    "- 가장 쉬운 방법으로, Z와 -Z를 동시에 뽑아 난수 생성\n",
    "- payoff 함수를 거친 Z와 -Z로 만든 값들이 negative correlation이 있으면 분산감소효과 있음. \n",
    "    - straddle에선 오히려 positive correlation이 있어 분산이 증가할 수 있고 \n",
    "    - K 아래의 평평한 payoff에선 그냥 cov = 0"
   ]
  },
  {
   "cell_type": "markdown",
   "id": "9253ef0f",
   "metadata": {},
   "source": [
    "## Control Variates"
   ]
  },
  {
   "cell_type": "markdown",
   "id": "308ece76",
   "metadata": {},
   "source": [
    "```python\n",
    "    # Control Variate: bs analytic price (ground truth)\n",
    "    vanilla_price = bsprice(s, k, r, q, t, sigma, option_flag)\n",
    "\n",
    "    # Vanilla payoff\n",
    "    vanilla_payoffs = np.maximum(callOrPut * (s_paths[:, -1] - k), 0)\n",
    "    disc_vanilla_payoffs = np.exp(-r * t) * vanilla_payoffs * total_lr\n",
    "\n",
    "    # Beta\n",
    "    cov_matrix = np.cov(disc_payoffs, disc_vanilla_payoffs)\n",
    "    beta = cov_matrix[0, 1] / cov_matrix[1, 1]\n",
    "    adjusted_payoffs = disc_payoffs - beta * (disc_vanilla_payoffs - vanilla_price)\n",
    "```\n",
    "\n",
    "- 알려진 추정치에 대한 오류 정보를 활용하여 목표 시뮬레이션에서의 분산을 감소시킴\n",
    "- 알려진 추정치와 시뮬레이션하려는 상품과 correlation이 커야 효과적임\n",
    "- control variate를 s 대신 vanilla option payoff를 사용\n",
    "    - vanilla payoffs가 추정치의 시뮬레이션\n",
    "    - vanilla price가 bs 방정식으로 구한 해석적 ground truth  "
   ]
  },
  {
   "cell_type": "markdown",
   "id": "4e5e7db1",
   "metadata": {},
   "source": [
    "## 해봤는데 실패한 것들 \n",
    "\n",
    "- Brownian Bridge & In-Out Parity 세트\n",
    "    - 시도:\n",
    "        - Terminal price 분포에서 n개를 샘플링하고 \n",
    "        - 그 중 barrier out인 것들을 제거하고 \n",
    "        - 남은 샘플들과 initial price (S0)를 연결하는 line을 각각 만든 뒤 \n",
    "        - T/2에 위치한 mid point를 찾아서,\n",
    "        - 이 mid point의 가격을 중심으로 하는 정규분포 (표준편차는 모두 T/2 시점의 수준) 각각에서 1개씩 샘플링을 한 뒤 \n",
    "        - 이 mid point sample들 중 barrier out인 것들을 또 제거한 뒤, \n",
    "        - 줄어든 initial price -- mid point price -- terminal price 점들의 set를 가지고 그 중간을 brownian bridge로 채워 path를 생성하려고 했음. \n",
    "            - 여기서부터가 문제\n",
    "        - 생성한 path들만 대상으로 다시 barrier touch 여부를 simulation하여 최종 MCS discounted payoff를 만드려고 했음. \n",
    "        - out-option을 만들었으므로 in-out-parity를 사용하면 in-option을 path 생성없이 구할 수 있음. (out-option 가격을 캐싱)\n",
    "    - 실패 이유:\n",
    "        - brownian bridge 특성상 두 점을 잇는 brownian path를 만드려면 m step을 for loop으로 iteratively 돌아야 하는 것 같음. 매우 비효율적.\n",
    "- Importance Sampling\n",
    "    - 시도:\n",
    "        - 주가가 배리어 b에 닿기 위한 shift(mu) 계산하여 Z를 shift\n",
    "        - 배리어 touch가 option payoff를 결정하기에 더 나은 결과가 나올 줄 알았음. \n",
    "    - 실패 이유: \n",
    "        - QuantLib Barrier 가격을 기준으로 벤치마크 결과 오히려 안 넣었을 떄보다 느려지고 bias, variance 모두 커짐. "
   ]
  },
  {
   "cell_type": "markdown",
   "id": "b3617b73",
   "metadata": {},
   "source": []
  }
 ],
 "metadata": {
  "kernelspec": {
   "display_name": ".venv",
   "language": "python",
   "name": "python3"
  }
 },
 "nbformat": 4,
 "nbformat_minor": 5
}
