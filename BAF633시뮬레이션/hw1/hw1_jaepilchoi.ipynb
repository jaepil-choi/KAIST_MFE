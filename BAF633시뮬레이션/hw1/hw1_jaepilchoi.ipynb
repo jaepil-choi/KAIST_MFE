{
 "cells": [
  {
   "cell_type": "markdown",
   "metadata": {},
   "source": [
    "# 시뮬레이션 방법론 과제 1 \n",
    "\n",
    "20249433 최재필 "
   ]
  },
  {
   "cell_type": "code",
   "execution_count": 65,
   "metadata": {},
   "outputs": [],
   "source": [
    "import QuantLib as ql\n",
    "\n",
    "import numpy as np\n",
    "import scipy.stats as sst\n",
    "\n",
    "import matplotlib.pyplot as plt\n"
   ]
  },
  {
   "cell_type": "markdown",
   "metadata": {},
   "source": [
    "## 1. 베리어옵션 가격 계산"
   ]
  },
  {
   "cell_type": "markdown",
   "metadata": {},
   "source": [
    "- A. \n",
    "    - Up vs Down\n",
    "    - Out vs In\n",
    "    - Call vs Put (총 2 * 2 * 2 = 8가지)\n",
    "- B. \n",
    "    - 기초자산은 1개\n",
    "    - 옵션 평가일의 기초자산 가격 S\n",
    "    - GBM 프로세스 따름 \n",
    "- C. \n",
    "    - 옵션 만기 T (year)\n",
    "    - 만기까지 knock 여부 관측시점은 m번 ($ \\Delta t = T / m $)\n",
    "- D.\n",
    "    - 옵션 베리어 B\n",
    "    - 행사가격 K\n",
    "    - 무위험 금리 (연속금리) r\n",
    "    - 변동성 $ \\sigma $\n",
    "    - 배당 = 0\n",
    "- E. \n",
    "    - replication 회수 n번"
   ]
  },
  {
   "cell_type": "code",
   "execution_count": 8,
   "metadata": {},
   "outputs": [],
   "source": [
    "# Validate input\n",
    "\n",
    "def check_option_types(barrier_type, option_type):\n",
    "\n",
    "    barrier_type = barrier_type.lower()\n",
    "    option_type = option_type.lower()\n",
    "\n",
    "    assert barrier_type in ['upout', 'downout', 'upin', 'downin']\n",
    "    assert option_type in ['call', 'put']\n",
    "\n",
    "    return barrier_type, option_type"
   ]
  },
  {
   "cell_type": "code",
   "execution_count": 52,
   "metadata": {},
   "outputs": [],
   "source": [
    "# Quantlib을 활용한 analytical solution (mcs와 비교용)\n",
    "\n",
    "def barrier_option_QL(\n",
    "        S, r, vol, T, K, B, rebate=0,\n",
    "        barrier_type='upout',\n",
    "        option_type='call'\n",
    "        ):\n",
    "    \n",
    "    barrier_type, option_type = check_option_types(barrier_type, option_type)\n",
    "\n",
    "    # Requires Python >= 3.10 for match-case syntax\n",
    "    match barrier_type:\n",
    "        case 'upout':\n",
    "            barrier_type = ql.Barrier.UpOut\n",
    "        case 'downout':\n",
    "            barrier_type = ql.Barrier.DownOut\n",
    "        case 'upin':\n",
    "            barrier_type = ql.Barrier.UpIn\n",
    "        case 'downin':\n",
    "            barrier_type = ql.Barrier.DownIn\n",
    "    \n",
    "    match option_type:\n",
    "        case 'call':\n",
    "            option_type = ql.Option.Call\n",
    "        case 'put':\n",
    "            option_type = ql.Option.Put\n",
    "    \n",
    "    today = ql.Date.todaysDate()\n",
    "    maturity = today + ql.Period(int(T*365), ql.Days)\n",
    "\n",
    "    # barrier option\n",
    "    payoff = ql.PlainVanillaPayoff(option_type, K)\n",
    "    eu_exercise = ql.EuropeanExercise(maturity)\n",
    "    barrier_option = ql.BarrierOption(barrier_type, B, rebate, payoff, eu_exercise)\n",
    "\n",
    "    # market\n",
    "    spot_handle = ql.QuoteHandle(ql.SimpleQuote(S))\n",
    "    flat_rate_ts = ql.YieldTermStructureHandle(ql.FlatForward(today, r, ql.Actual365Fixed()))\n",
    "    flat_vol_ts = ql.BlackVolTermStructureHandle(ql.BlackConstantVol(today, ql.NullCalendar(), vol, ql.Actual365Fixed()))\n",
    "    bsm_process = ql.BlackScholesProcess(spot_handle, flat_rate_ts, flat_vol_ts)\n",
    "    analytic_engine = ql.AnalyticBarrierEngine(bsm_process)\n",
    "\n",
    "    # pricing\n",
    "    barrier_option.setPricingEngine(analytic_engine)\n",
    "\n",
    "    return barrier_option.NPV()"
   ]
  },
  {
   "cell_type": "code",
   "execution_count": 61,
   "metadata": {},
   "outputs": [],
   "source": [
    "# MCS\n",
    "\n",
    "def barrier_option_MCS(\n",
    "        S, r, vol, T, K, B, rebate=0,\n",
    "        m=100, n=1000,\n",
    "        barrier_type='upout',\n",
    "        option_type='call',\n",
    "        seed=42,\n",
    "        ):\n",
    "    \n",
    "    barrier_type, option_type = check_option_types(barrier_type, option_type)\n",
    "\n",
    "    np.random.seed(seed)\n",
    "\n",
    "    ## Calculate price path\n",
    "\n",
    "    dt = T / m # time step\n",
    "\n",
    "    Z = np.random.randn(n, m) # n x m matrix of standard normal random variables\n",
    "\n",
    "    drift = (r - 0.5 * vol**2) * dt\n",
    "    diffusion = vol * np.sqrt(dt) * Z # n x m\n",
    "\n",
    "    log_returns = drift + diffusion\n",
    "    cum_log_returns = np.cumsum(log_returns, axis=1)\n",
    "\n",
    "    S_t = S * np.exp(cum_log_returns)\n",
    "\n",
    "    ## Calculate payoff\n",
    "\n",
    "    is_call = 1 if option_type == 'call' else 0\n",
    "    is_up = 1 if 'up' in barrier_type else 0\n",
    "    is_in = 1 if 'in' in barrier_type else 0\n",
    "\n",
    "    if is_up:\n",
    "        barrier_breached = np.any(S_t >= B, axis=1)\n",
    "    else: # down\n",
    "        barrier_breached = np.any(S_t <= B, axis=1)\n",
    "    \n",
    "    if is_in:\n",
    "        # Knock in \n",
    "        payoffs = np.where(\n",
    "            barrier_breached,\n",
    "            np.maximum(is_call * (S_t[:, -1] - K), 0),\n",
    "            rebate\n",
    "        )\n",
    "\n",
    "    else: # out\n",
    "        # Knock out\n",
    "        payoffs = np.where(\n",
    "            barrier_breached,\n",
    "            rebate,\n",
    "            np.maximum(is_call * (S_t[:, -1] - K), 0),\n",
    "        )\n",
    "\n",
    "    discounted_payoffs = np.exp(-r * T) * payoffs\n",
    "\n",
    "    option_price = np.mean(discounted_payoffs)\n",
    "\n",
    "    return option_price    "
   ]
  },
  {
   "cell_type": "code",
   "execution_count": 62,
   "metadata": {},
   "outputs": [],
   "source": [
    "# Market Info\n",
    "S = 100\n",
    "r = 0.03\n",
    "vol = 0.2\n",
    "\n",
    "# Product Spec.\n",
    "T = 1 # year\n",
    "K = 100\n",
    "B = 120\n",
    "\n",
    "rebate = 0 # not needed\n",
    "\n",
    "q = 0 # dividend yield, not needed\n",
    "r = r - q\n",
    "\n",
    "barrier_type = 'upout'\n",
    "option_type = 'call'\n",
    "\n",
    "# monte carlo simulation\n",
    "m = 1000\n",
    "n = 10000"
   ]
  },
  {
   "cell_type": "code",
   "execution_count": 63,
   "metadata": {},
   "outputs": [
    {
     "data": {
      "text/plain": [
       "(1.155369999815115, 1.211769817464179)"
      ]
     },
     "execution_count": 63,
     "metadata": {},
     "output_type": "execute_result"
    }
   ],
   "source": [
    "# Compare\n",
    "\n",
    "ql_price = barrier_option_QL(S, r, vol, T, K, B, rebate, barrier_type, option_type)\n",
    "mcs_price = barrier_option_MCS(S, r, vol, T, K, B, rebate, m, n, barrier_type, option_type)\n",
    "\n",
    "ql_price, mcs_price"
   ]
  },
  {
   "cell_type": "markdown",
   "metadata": {},
   "source": [
    "## 2. In-Out Parity\n"
   ]
  },
  {
   "cell_type": "markdown",
   "metadata": {},
   "source": [
    "### In-Out Parity란\n",
    "\n",
    "$$ \n",
    "\n",
    "call_{knock-in} + call_{knock-out} = call\n",
    "\n",
    "$$ \n",
    "\n",
    "배리어를 나가던 말던 up-and-out(knock-out) 또는 up-and-in(knock-in) 둘 중 하나는 activate 되므로 둘을 합친 것은 항상 vanilla call이 되어야 한다는 parity. \n",
    "\n",
    "즉, 0 + c = c 또는 c + 0 = 0 이기에 성립한다는 것. \n",
    "\n",
    "출처: [Python for Finance](https://subscription.packtpub.com/book/data/9781783284375/11/ch11lvl1sec176/barrier-in-and-out-parity)\n"
   ]
  },
  {
   "cell_type": "markdown",
   "metadata": {},
   "source": [
    "### MCS 옵션 평가에서 활용할 수 있는 방법\n",
    "\n",
    "둘은 parity이므로 \n",
    "\n",
    "- 우선 계산량이 적은 vanilla call의 가치를 먼저 mcs로 구하고 \n",
    "- up-and-out 또는 up-and-in 둘 중 하나를 mcs로 구하면 \n",
    "- 나머지 하나는 자동으로 구할 수 있어서 \n",
    "\n",
    "up-and-out이랑 up-and-in 둘 모두의 가치를 구해야 할 때 계산을 덜할 수 있을 것 같다. \n",
    "\n",
    "심지어 생각해보니까 먼저 vanilla call 구할 때 price path는 만들어놓으니까 그 다음에 knock-in/out을 계산하면 되는거라서 vanilla 구하는건 어차피 knock-in/out 구하려면 필요한 것인 듯 하다. "
   ]
  },
  {
   "cell_type": "markdown",
   "metadata": {},
   "source": [
    "## 3. m, n과 bias, variance의 관계\n",
    "\n",
    "m, n 변경시 bias, variance의 변화를 시뮬레이션 결과로 설명\n",
    "\n",
    "- bias:\n",
    "    - analytic solution의 실제 값과 simulation 결과 (의 평균) 사이의 차이\n",
    "    - m을 늘려야 discretization error를 줄여 bias를 줄일 수 있다. \n",
    "    - 하지만 계속 늘리면 computation cost도 올라가고, 수업시간에도 무조건 늘리는게 좋지는 않다고 배움\n",
    "- variance: \n",
    "    - simulation 결과들 사이의 차이\n",
    "    - n을 늘려야 simulation들의 std를 줄여 variance를 줄일 수 있다. \n",
    "    - 늘릴수록 computation cost 올라감. \n",
    "\n",
    "--> variance가 이게 맞나? gpt한테 물어보니 `n_values`(예를 들어 10000번)는 monte carlo simulation 1번 할 때 생성하는 path의 갯수고 `n_simulations`(예를들어 30번), 즉 10000번짜리 simulation을 또 30번 돌려줘야 variance를 알 수 있다는데.\n",
    "\n",
    "결론: \n",
    "- 한정된 연산 자원 내에서 m과 n 사이에 적절하게 분배를 해야한다. \n",
    "\n",
    "--> how? "
   ]
  },
  {
   "cell_type": "code",
   "execution_count": 67,
   "metadata": {},
   "outputs": [],
   "source": [
    "reference_price = ql_price"
   ]
  },
  {
   "cell_type": "code",
   "execution_count": 69,
   "metadata": {},
   "outputs": [
    {
     "data": {
      "image/png": "[encoded data removed]",
      "text/plain": [
       "<Figure size 1000x800 with 2 Axes>"
      ]
     },
     "metadata": {},
     "output_type": "display_data"
    }
   ],
   "source": [
    "m_values = [10, 100, 200, 500, 1000]\n",
    "n_values = [100, 1000, 5000, 10000]\n",
    "num_simulations = 30\n",
    "\n",
    "\n",
    "bias_results = []\n",
    "variance_results = []\n",
    "bias_results = []\n",
    "variance_results = []\n",
    "\n",
    "for m in m_values:\n",
    "    prices = [barrier_option_MCS(S, r, vol, T, K, B, rebate, m, 10000, barrier_type, option_type) for _ in range(num_simulations)]\n",
    "    mean_price = np.mean(prices)\n",
    "    bias = mean_price - reference_price\n",
    "    variance = np.var(prices)\n",
    "    bias_results.append((m, bias))\n",
    "    variance_results.append((m, variance))\n",
    "\n",
    "for n in n_values:\n",
    "    prices = [barrier_option_MCS(S, r, vol, T, K, B, rebate, 1000, n, barrier_type, option_type) for _ in range(num_simulations)]\n",
    "    mean_price = np.mean(prices)\n",
    "    bias = mean_price - reference_price\n",
    "    variance = np.var(prices)\n",
    "    bias_results.append((n, bias))\n",
    "    variance_results.append((n, variance))\n",
    "\n",
    "# Separate plots for bias and variance\n",
    "fig, (ax1, ax2) = plt.subplots(2, 1, figsize=(10, 8))\n",
    "\n",
    "# Plot bias\n",
    "ax1.plot(m_values, [result[1] for result in bias_results[:len(m_values)]], 'g-')\n",
    "ax1.set_xlabel('m_values')\n",
    "ax1.set_ylabel('Bias')\n",
    "ax1.set_title('Bias for Different m_values')\n",
    "\n",
    "# Plot variance\n",
    "ax2.plot(n_values, [result[1] for result in variance_results[len(m_values):]], 'b-')\n",
    "ax2.set_xlabel('n_values')\n",
    "ax2.set_ylabel('Variance')\n",
    "ax2.set_title('Variance for Different n_values')\n",
    "\n",
    "plt.tight_layout()\n",
    "plt.show()"
   ]
  },
  {
   "cell_type": "code",
   "execution_count": null,
   "metadata": {},
   "outputs": [],
   "source": []
  }
 ],
 "metadata": {
  "kernelspec": {
   "display_name": ".venv",
   "language": "python",
   "name": "python3"
  },
  "language_info": {
   "codemirror_mode": {
    "name": "ipython",
    "version": 3
   },
   "file_extension": ".py",
   "mimetype": "text/x-python",
   "name": "python",
   "nbconvert_exporter": "python",
   "pygments_lexer": "ipython3",
   "version": "3.11.5"
  }
 },
 "nbformat": 4,
 "nbformat_minor": 2
}
