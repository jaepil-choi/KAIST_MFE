{
 "cells": [
  {
   "cell_type": "code",
   "execution_count": null,
   "id": "93420a9e",
   "metadata": {
    "lines_to_next_cell": 0
   },
   "outputs": [],
   "source": [
    "import numpy as np\n",
    "import matplotlib.pyplot as plt"
   ]
  },
  {
   "cell_type": "code",
   "execution_count": null,
   "id": "cc3c6c76",
   "metadata": {},
   "outputs": [],
   "source": [
    "# np.random.seed(124)"
   ]
  },
  {
   "cell_type": "code",
   "execution_count": null,
   "id": "c444d838",
   "metadata": {
    "lines_to_next_cell": 0
   },
   "outputs": [],
   "source": [
    "def GeneratePathsGBM(NoOfPaths,NoOfSteps,T,r,sigma,S_0):    \n",
    "    Z = np.random.normal(0.0,1.0,[NoOfPaths,NoOfSteps]) #0부터 1사이의 난수를 n by m 개 matrix로 생성\n",
    "    X = np.zeros([NoOfPaths, NoOfSteps+1]) #exponantial term을 담을 array\n",
    "    S = np.zeros([NoOfPaths, NoOfSteps+1]) # 주가를 담을  array\n",
    "    time = np.zeros([NoOfSteps+1]) #0 부터 T 까지 n개의 step이 있으면 n+1개의 array가 필요\n",
    "        \n",
    "    X[:,0] = np.log(S_0)\n",
    "    \n",
    "    dt = T / float(NoOfSteps)\n",
    "    for i in range(0,NoOfSteps):\n",
    "        \n",
    "        if NoOfPaths > 1:\n",
    "            Z[:,i] = (Z[:,i] - np.mean(Z[:,i])) / np.std(Z[:,i])\n",
    "     \n",
    "        X[:,i+1] = X[:,i] + (r - 0.5 * sigma * sigma) * dt + sigma *\\\n",
    "        np.power(dt, 0.5)*Z[:,i]\n",
    "        time[i+1] = time[i] +dt\n",
    "        \n",
    "    \n",
    "    S = np.exp(X)\n",
    "    paths = {\"time\":time,\"S\":S}\n",
    "    return paths"
   ]
  },
  {
   "cell_type": "code",
   "execution_count": null,
   "id": "c62235e5",
   "metadata": {
    "lines_to_next_cell": 0
   },
   "outputs": [],
   "source": [
    "def BarrierOption(NoOfPaths,NoOfSteps,T,r,sigma,S_0,B,K,Btype,Otype):\n",
    "    path = GeneratePathsGBM(NoOfPaths,NoOfSteps,T,r,sigma,S_0)\n",
    "    S_path = path[\"S\"]\n",
    "    payoff = np.zeros([NoOfPaths,1])\n",
    "    if Otype == 'C' :\n",
    "        flag = 1\n",
    "    else :\n",
    "        flag = -1  \n",
    "    if Btype == 'UpOut':\n",
    "        event = np.where(S_path > B, True,False)\n",
    "        event1 = np.sum(event, axis = 1)\n",
    "        for i in range(NoOfPaths):\n",
    "            if event1[i] == 0:\n",
    "                payoff[i] = np.maximum(flag*(S_path[i,-1]-K),0)\n",
    "    elif Btype == \"UpIn\":\n",
    "        event = event = np.where(S_path > B, True,False)\n",
    "        event1 = np.sum(event, axis = 1)\n",
    "        for i in range(NoOfPaths):\n",
    "            if event1[i] != 0:\n",
    "                payoff[i] = np.maximum(flag*(S_path[i,-1]-K),0)\n",
    "    elif Btype == \"DownOut\":\n",
    "        event = np.where(S_path < B, True,False)\n",
    "        event1 = np.sum(event, axis = 1)\n",
    "        for i in range(NoOfPaths):\n",
    "            if event1[i] == 0:\n",
    "                payoff[i] = np.maximum(flag*(S_path[i,-1]-K),0)\n",
    "\n",
    "    elif Btype == \"DownIn\" : \n",
    "        event = np.where(S_path < B, True,False)\n",
    "        event1 = np.sum(event, axis = 1)\n",
    "        for i in range(NoOfPaths):\n",
    "            if event1[i] != 0:\n",
    "                payoff[i] = np.maximum(flag*(S_path[i,-1]-K),0)\n",
    "    else:\n",
    "        event1 = np.zeros([NoOfPaths,1])\n",
    "        for i in range(NoOfPaths):\n",
    "            if event1[i] == 0:\n",
    "                payoff[i] = np.maximum(flag*(S_path[i,-1]-K),0)\n",
    "\n",
    "    #0이면 옵션이 있는 상태, 0이 아니면 옵션이 없는 상태\n",
    "    d_payoff = payoff * np.exp(-r*T)\n",
    "    pv = np.sum(payoff * np.exp(-r*T))/NoOfPaths\n",
    "    std = (np.sum((d_payoff-pv)**2))/NoOfPaths\n",
    "    return pv ,std, d_payoff"
   ]
  },
  {
   "cell_type": "code",
   "execution_count": null,
   "id": "8371280e",
   "metadata": {},
   "outputs": [],
   "source": [
    "NoOfPaths = 1000\n",
    "NoOfSteps = 1000\n",
    "T = 1\n",
    "r = 0.03\n",
    "sigma= 0.2\n",
    "S_0 = 100\n",
    "B = 90\n",
    "K = 100\n",
    "\n"
   ]
  },
  {
   "cell_type": "code",
   "execution_count": null,
   "id": "a33a629c",
   "metadata": {
    "lines_to_next_cell": 0
   },
   "outputs": [],
   "source": [
    "[BarrierOption(NoOfPaths,NoOfSteps,T,r,sigma,S_0,B,K,'UpOut','C')[0],\n",
    "BarrierOption(NoOfPaths,NoOfSteps,T,r,sigma,S_0,B,K,'UpIn','C')[0],\n",
    "BarrierOption(NoOfPaths,NoOfSteps,T,r,sigma,S_0,B,K,'DownOut','C')[0],\n",
    "BarrierOption(NoOfPaths,NoOfSteps,T,r,sigma,S_0,B,K,'DownIn','C')[0],\n",
    "BarrierOption(NoOfPaths,NoOfSteps,T,r,sigma,S_0,B,K,'None','C')[0]]"
   ]
  },
  {
   "cell_type": "code",
   "execution_count": null,
   "id": "00b37fd5",
   "metadata": {},
   "outputs": [],
   "source": [
    "UpOut = BarrierOption(NoOfPaths,NoOfSteps,T,r,sigma,S_0,B,K,'UpOut','P')[0]\n",
    "UpIn = BarrierOption(NoOfPaths,NoOfSteps,T,r,sigma,S_0,B,K,'UpIn','P')[0]\n",
    "DownOut = BarrierOption(NoOfPaths,NoOfSteps,T,r,sigma,S_0,B,K,'DownOut','P')[0]\n",
    "DownIn = BarrierOption(NoOfPaths,NoOfSteps,T,r,sigma,S_0,B,K,'DownIn','P')[0]\n",
    "Put = BarrierOption(NoOfPaths,NoOfSteps,T,r,sigma,S_0,B,K,'Call','P')[0]"
   ]
  },
  {
   "cell_type": "code",
   "execution_count": null,
   "id": "dd0350d5",
   "metadata": {
    "lines_to_next_cell": 0
   },
   "outputs": [],
   "source": [
    "UpOut + UpIn - Put"
   ]
  },
  {
   "cell_type": "code",
   "execution_count": null,
   "id": "9a5f87b0",
   "metadata": {},
   "outputs": [],
   "source": [
    "DownOut+DownIn - Put"
   ]
  },
  {
   "cell_type": "code",
   "execution_count": null,
   "id": "41e01a4e",
   "metadata": {},
   "outputs": [],
   "source": [
    "import QuantLib as ql\n",
    "\n",
    "#Market Info.\n",
    "S = S_0\n",
    "r = r\n",
    "vol = sigma\n",
    "\n",
    "#Product Spec.\n",
    "T = T\n",
    "K = 100\n",
    "B = 90\n",
    "rebate = 0\n",
    "barrierType = ql.Barrier.DownIn\n",
    "optionType = ql.Option.Call\n",
    "\n",
    "#Barrier Option\n",
    "today = ql.Date().todaysDate()\n",
    "maturity = today + ql.Period(T, ql.Years)\n",
    "\n",
    "payoff = ql.PlainVanillaPayoff(optionType, K)\n",
    "euExercise = ql.EuropeanExercise(maturity)\n",
    "barrierOption = ql.BarrierOption(barrierType, B, rebate, payoff, euExercise)\n",
    "\n",
    "#Market\n",
    "spotHandle = ql.QuoteHandle(ql.SimpleQuote(S))\n",
    "flatRateTs = ql.YieldTermStructureHandle(ql.FlatForward(today, r, ql.Actual365Fixed()))\n",
    "flatVolTs = ql.BlackVolTermStructureHandle(ql.BlackConstantVol(today, ql.NullCalendar(), vol, ql.Actual365Fixed()))\n",
    "bsm = ql.BlackScholesProcess(spotHandle, flatRateTs, flatVolTs)\n",
    "analyticBarrierEngine = ql.AnalyticBarrierEngine(bsm)\n",
    "\n",
    "#Pricing\n",
    "barrierOption.setPricingEngine(analyticBarrierEngine)\n",
    "price = barrierOption.NPV()\n",
    "\n",
    "print(\"Price = \", price)"
   ]
  },
  {
   "cell_type": "code",
   "execution_count": null,
   "id": "e644563e",
   "metadata": {},
   "outputs": [],
   "source": [
    "\n",
    "budget = 1000000\n",
    "n = np.array([100,200,400,500,1000,2000,5000,10000,20000])\n",
    "m = (budget / n).astype(int)\n",
    "m\n",
    "var = np.zeros([len(n)])\n",
    "bias = np.zeros([len(n)])\n",
    "mse = np.zeros([len(n)])"
   ]
  },
  {
   "cell_type": "code",
   "execution_count": null,
   "id": "6d83bb2b",
   "metadata": {
    "lines_to_next_cell": 2
   },
   "outputs": [],
   "source": [
    "for j in range(len(n)):\n",
    "    NoOfPaths = n[j]\n",
    "    NoOfSteps = m[j]\n",
    "    T = 1\n",
    "    r = 0.03\n",
    "    sigma= 0.2\n",
    "    S_0 = 100\n",
    "    B = 90\n",
    "    K = 100\n",
    "\n",
    "\n",
    "    alpha_hats = np.zeros(30)\n",
    "    for k in range(30):\n",
    "        alpha_hats[k] = BarrierOption(NoOfPaths,NoOfSteps,T,r,sigma,S_0,B,K,'DownIn','C')[0]\n",
    "        E_alpha_hats = np.average(alpha_hats)\n",
    "\n",
    "    #var[j] = np.std(alpha_hats,ddof=1)\n",
    "    var[j] = np.mean((alpha_hats - E_alpha_hats)**2)\n",
    "    bias[j] =(E_alpha_hats - price)**2\n",
    "    mse[j] = np.mean((alpha_hats - price)**2)"
   ]
  },
  {
   "cell_type": "code",
   "execution_count": null,
   "id": "bb97efa4",
   "metadata": {},
   "outputs": [],
   "source": [
    "\n",
    "plt.figure(figsize=(10, 6))\n",
    "\n",
    "# 각각의 값을 선으로 표현\n",
    "plt.plot(n, var, label='Variance', marker='o')\n",
    "plt.plot(n, bias, label='Bias', marker='s')\n",
    "plt.plot(n, mse, label='MSE', marker='^')\n",
    "\n",
    "# x축과 y축에 라벨 추가\n",
    "plt.xlabel('n')\n",
    "plt.ylabel('Values')\n",
    "\n",
    "# 로그 스케일로 변경 (n 값이 매우 크므로)\n",
    "plt.xscale('log')\n",
    "\n",
    "# 제목 및 범례 추가\n",
    "plt.title('Variance, Bias, and MSE')\n",
    "plt.legend()\n",
    "\n",
    "# 그래프 출력\n",
    "plt.grid(True)\n",
    "plt.show()"
   ]
  },
  {
   "cell_type": "code",
   "execution_count": null,
   "id": "2f7e4293",
   "metadata": {},
   "outputs": [],
   "source": []
  }
 ],
 "metadata": {
  "jupytext": {
   "cell_metadata_filter": "-all",
   "main_language": "python",
   "notebook_metadata_filter": "-all"
  }
 },
 "nbformat": 4,
 "nbformat_minor": 5
}
