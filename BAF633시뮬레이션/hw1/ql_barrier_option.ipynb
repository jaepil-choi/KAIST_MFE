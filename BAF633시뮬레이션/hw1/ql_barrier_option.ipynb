{
 "cells": [
  {
   "cell_type": "code",
   "execution_count": null,
   "id": "4315a9d0",
   "metadata": {},
   "outputs": [],
   "source": [
    "import QuantLib as ql\n",
    "\n",
    "#Market Info.\n",
    "S = 100\n",
    "r = 0.03\n",
    "vol = 0.2\n",
    "\n",
    "#Product Spec.\n",
    "T = 1\n",
    "K = 100\n",
    "B = 120\n",
    "# B = 110 # barrier가 낮아지면 option price가 낮아짐. \n",
    "# B = 130 # barrier가 높아지면 option price가 높아짐.\n",
    "# B = 100000 # barrier가 아주 높다면, plain vanilla option과 같아짐.\n",
    "\n",
    "rebate = 0\n",
    "barrierType = ql.Barrier.UpOut\n",
    "optionType = ql.Option.Call\n",
    "# optionType = ql.Option.Put\n",
    "\n",
    "## 이 아래부턴 좀 복잡하니까 일단 그냥 써라. \n",
    "## Quantlib은 정교한 잘 만들어진 라이브러리. industry에서도 많이 씀. \n",
    "## 그러나 엄청 exotic한 것은 없음. 예를 들어 step down ELS 같은거. \n",
    "## 회사에서 만들 땐 저런 quantlib을 베이스로 기능을 만듦. \n",
    "## python의 quantlib은 c++의 일부 기능만 가져온 것.\n",
    "## 많은 python package가 베이스는 C++ 등으로 만들어져 있고, python은 glue language의 역할을 함. \n",
    "## 뭔가 기능 수정이나 추가가 필요하면 C++로 가서 수정해야 함. 그래서 C++이 필요. \n",
    "\n",
    "#Barrier Option\n",
    "today = ql.Date().todaysDate()\n",
    "maturity = today + ql.Period(T, ql.Years)\n",
    "\n",
    "payoff = ql.PlainVanillaPayoff(optionType, K)\n",
    "euExercise = ql.EuropeanExercise(maturity)\n",
    "barrierOption = ql.BarrierOption(barrierType, B, rebate, payoff, euExercise)\n",
    "\n",
    "#Market\n",
    "spotHandle = ql.QuoteHandle(ql.SimpleQuote(S))\n",
    "flatRateTs = ql.YieldTermStructureHandle(ql.FlatForward(today, r, ql.Actual365Fixed()))\n",
    "flatVolTs = ql.BlackVolTermStructureHandle(ql.BlackConstantVol(today, ql.NullCalendar(), vol, ql.Actual365Fixed()))\n",
    "bsm = ql.BlackScholesProcess(spotHandle, flatRateTs, flatVolTs)\n",
    "analyticBarrierEngine = ql.AnalyticBarrierEngine(bsm)\n",
    "\n",
    "#Pricing\n",
    "barrierOption.setPricingEngine(analyticBarrierEngine)\n",
    "price = barrierOption.NPV()\n",
    "\n",
    "print(\"Price = \", price)"
   ]
  },
  {
   "cell_type": "code",
   "execution_count": null,
   "id": "27494c41",
   "metadata": {},
   "outputs": [],
   "source": []
  }
 ],
 "metadata": {
  "jupytext": {
   "cell_metadata_filter": "-all",
   "main_language": "python",
   "notebook_metadata_filter": "-all"
  }
 },
 "nbformat": 4,
 "nbformat_minor": 5
}
