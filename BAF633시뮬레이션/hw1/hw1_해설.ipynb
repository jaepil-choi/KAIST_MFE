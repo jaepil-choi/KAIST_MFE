{
 "cells": [
  {
   "cell_type": "markdown",
   "metadata": {},
   "source": [
    "# hw1 barrier 교수님 해설"
   ]
  },
  {
   "cell_type": "markdown",
   "metadata": {},
   "source": [
    "## 세팅\n",
    "\n",
    "- n * m = c 로 둬서 budget을 제한. \n",
    "    - 단, c = 2^18로 두고 n = 2^n / m = 2^m 으로 넣어 제곱승으로 증가하도록 설정\n",
    "- variance biad trade off 제대로 그래프 나와야. "
   ]
  }
 ],
 "metadata": {
  "language_info": {
   "name": "python"
  }
 },
 "nbformat": 4,
 "nbformat_minor": 2
}
