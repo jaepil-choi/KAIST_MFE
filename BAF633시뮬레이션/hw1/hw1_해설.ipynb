{
 "cells": [
  {
   "cell_type": "markdown",
   "id": "e2082ab6",
   "metadata": {},
   "source": [
    "# hw1 barrier 교수님 해설"
   ]
  },
  {
   "cell_type": "markdown",
   "id": "3b527c6c",
   "metadata": {},
   "source": [
    "## 세팅\n",
    "\n",
    "- n * m = c 로 둬서 budget을 제한. \n",
    "    - 단, c = 2^18로 두고 n = 2^n / m = 2^m 으로 넣어 제곱승으로 증가하도록 설정\n",
    "- variance biad trade off 제대로 그래프 나와야. "
   ]
  }
 ],
 "metadata": {
  "jupytext": {
   "main_language": "python"
  }
 },
 "nbformat": 4,
 "nbformat_minor": 5
}
