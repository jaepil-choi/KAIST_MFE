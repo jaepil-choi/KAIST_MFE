{
 "cells": [
  {
   "cell_type": "markdown",
   "id": "136e939a",
   "metadata": {},
   "source": [
    "# 시뮬레이션 방법론 과제 1 v2\n",
    "\n",
    "20249433 최재필"
   ]
  },
  {
   "cell_type": "code",
   "execution_count": null,
   "id": "0488784e",
   "metadata": {
    "lines_to_next_cell": 2
   },
   "outputs": [],
   "source": [
    "import QuantLib as ql\n",
    "\n",
    "import numpy as np\n",
    "import pandas as pd\n",
    "import scipy.stats as sst\n",
    "\n",
    "import matplotlib.pyplot as plt"
   ]
  },
  {
   "cell_type": "markdown",
   "id": "dd2c9ab6",
   "metadata": {},
   "source": [
    "- A. \n",
    "    - Up vs Down\n",
    "    - Out vs In\n",
    "    - Call vs Put (총 2 * 2 * 2 = 8가지)\n",
    "- B. \n",
    "    - 기초자산은 1개\n",
    "    - 옵션 평가일의 기초자산 가격 S\n",
    "    - GBM 프로세스 따름 \n",
    "- C. \n",
    "    - 옵션 만기 T (year)\n",
    "    - 만기까지 knock 여부 관측시점은 m번 ($ \\Delta t = T / m $)\n",
    "- D.\n",
    "    - 옵션 베리어 B\n",
    "    - 행사가격 K\n",
    "    - 무위험 금리 (연속금리) r\n",
    "    - 변동성 $ \\sigma $\n",
    "    - 배당 = 0\n",
    "- E. \n",
    "    - replication 회수 n번"
   ]
  },
  {
   "cell_type": "code",
   "execution_count": null,
   "id": "b6048b40",
   "metadata": {},
   "outputs": [],
   "source": [
    "# Market Info\n",
    "S = 100\n",
    "r = 0.03\n",
    "vol = 0.2\n",
    "\n",
    "# Product Spec.\n",
    "T = 1 # year\n",
    "K = 100\n",
    "B = 120\n",
    "\n",
    "rebate = 0 # not needed\n",
    "\n",
    "q = 0 # dividend yield, not needed\n",
    "r = r - q\n",
    "\n",
    "barrier_type = 'upout'\n",
    "option_type = 'call'"
   ]
  },
  {
   "cell_type": "markdown",
   "id": "89c14e36",
   "metadata": {},
   "source": [
    "## 1. 배리어옵션의 해석적 가격\n",
    "\n",
    "- quantlib 사용"
   ]
  },
  {
   "cell_type": "code",
   "execution_count": null,
   "id": "f6dd1c6e",
   "metadata": {},
   "outputs": [],
   "source": [
    "# Validate input\n",
    "\n",
    "def check_option_types(barrier_type, option_type):\n",
    "\n",
    "    barrier_type = barrier_type.lower()\n",
    "    option_type = option_type.lower()\n",
    "\n",
    "    assert barrier_type in ['upout', 'downout', 'upin', 'downin']\n",
    "    assert option_type in ['call', 'put']\n",
    "\n",
    "    return barrier_type, option_type"
   ]
  },
  {
   "cell_type": "code",
   "execution_count": null,
   "id": "2b0b35d2",
   "metadata": {},
   "outputs": [],
   "source": [
    "# Quantlib을 활용한 analytical solution (mcs와 비교용)\n",
    "\n",
    "def barrier_option_QL(\n",
    "        S, r, vol, T, K, B, rebate=0,\n",
    "        barrier_type='upout',\n",
    "        option_type='call'\n",
    "        ):\n",
    "    \n",
    "    barrier_type, option_type = check_option_types(barrier_type, option_type)\n",
    "\n",
    "    # Requires Python >= 3.10 for match-case syntax\n",
    "    match barrier_type:\n",
    "        case 'upout':\n",
    "            barrier_type = ql.Barrier.UpOut\n",
    "        case 'downout':\n",
    "            barrier_type = ql.Barrier.DownOut\n",
    "        case 'upin':\n",
    "            barrier_type = ql.Barrier.UpIn\n",
    "        case 'downin':\n",
    "            barrier_type = ql.Barrier.DownIn\n",
    "    \n",
    "    match option_type:\n",
    "        case 'call':\n",
    "            option_type = ql.Option.Call\n",
    "        case 'put':\n",
    "            option_type = ql.Option.Put\n",
    "    \n",
    "    today = ql.Date.todaysDate()\n",
    "    maturity = today + ql.Period(int(T*365), ql.Days)\n",
    "\n",
    "    # barrier option\n",
    "    payoff = ql.PlainVanillaPayoff(option_type, K)\n",
    "    eu_exercise = ql.EuropeanExercise(maturity)\n",
    "    barrier_option = ql.BarrierOption(barrier_type, B, rebate, payoff, eu_exercise)\n",
    "\n",
    "    # market\n",
    "    spot_handle = ql.QuoteHandle(ql.SimpleQuote(S))\n",
    "    flat_rate_ts = ql.YieldTermStructureHandle(ql.FlatForward(today, r, ql.Actual365Fixed()))\n",
    "    flat_vol_ts = ql.BlackVolTermStructureHandle(ql.BlackConstantVol(today, ql.NullCalendar(), vol, ql.Actual365Fixed()))\n",
    "    bsm_process = ql.BlackScholesProcess(spot_handle, flat_rate_ts, flat_vol_ts)\n",
    "    analytic_engine = ql.AnalyticBarrierEngine(bsm_process)\n",
    "\n",
    "    # pricing\n",
    "    barrier_option.setPricingEngine(analytic_engine)\n",
    "\n",
    "    return barrier_option.NPV()"
   ]
  },
  {
   "cell_type": "code",
   "execution_count": null,
   "id": "ca573d2e",
   "metadata": {},
   "outputs": [],
   "source": [
    "ql_price = barrier_option_QL(S, r, vol, T, K, B, rebate, barrier_type, option_type)\n",
    "ql_price"
   ]
  },
  {
   "cell_type": "markdown",
   "id": "5bf5a84e",
   "metadata": {},
   "source": [
    "## 2. MCS로 구한 가격"
   ]
  },
  {
   "cell_type": "code",
   "execution_count": null,
   "id": "55e1fb9e",
   "metadata": {},
   "outputs": [],
   "source": [
    "def barrier_option_MCS(\n",
    "        S, r, vol, T, K, B, rebate=0,\n",
    "        m=1000, n=1000,\n",
    "        barrier_type='upout',\n",
    "        option_type='call',\n",
    "        return_disc_payoffs=False,\n",
    "        ): # seed는 있으면 안된다. (seed를 고정시키면, 같은 난수가 발생한다.)\n",
    "\n",
    "    # Requires Python >= 3.10 for match-case syntax\n",
    "    barrier_type, option_type = check_option_types(barrier_type, option_type)\n",
    "\n",
    "    ## Generate price paths\n",
    "\n",
    "    dt = T / m\n",
    "    Z = np.random.randn(n, m) # n개의 path, m개의 time step\n",
    "    drift_term = (r - 0.5*vol**2) * dt # constant\n",
    "    diffusion_term = vol * np.sqrt(dt) * Z # n x m matrix\n",
    "\n",
    "    log_return = drift_term + diffusion_term\n",
    "    cum_log_return = np.cumsum(log_return, axis=1)\n",
    "\n",
    "    S_t = S * np.exp(cum_log_return)\n",
    "\n",
    "    ## Calculate payoff\n",
    "\n",
    "    is_call = 1 if option_type == 'call' else 0\n",
    "    is_up = 1 if 'up' in barrier_type else 0\n",
    "    is_in = 1 if 'in' in barrier_type else 0\n",
    "\n",
    "    if is_up:\n",
    "        barrier_breached = np.any(S_t >= B, axis=1) # ? >를 쓰는게 맞나 아니면 >=를 쓰는게 맞나?\n",
    "    else:\n",
    "        barrier_breached = np.any(S_t < B, axis=1) # ? 여긴 안겹치도록 해줘야 하나?\n",
    "\n",
    "    if is_in: # Knock in\n",
    "        payoffs = np.where(\n",
    "            barrier_breached,\n",
    "            np.maximum( is_call * (S_t[:, -1] - K), 0 ), # Max(S - K, 0) 또는 Max(K - S, 0)\n",
    "            rebate,\n",
    "        )\n",
    "    \n",
    "    else: # Knock out\n",
    "        payoffs = np.where(\n",
    "            barrier_breached,\n",
    "            rebate,\n",
    "            np.maximum( is_call * (S_t[:, -1] - K), 0 ),\n",
    "        )\n",
    "    \n",
    "    discounted_payoffs = np.exp(-r*T) * payoffs\n",
    "\n",
    "    option_price = np.mean(discounted_payoffs)\n",
    "\n",
    "    if return_disc_payoffs:\n",
    "        return option_price, discounted_payoffs\n",
    "    else:\n",
    "        return option_price"
   ]
  },
  {
   "cell_type": "code",
   "execution_count": null,
   "id": "2cd631ef",
   "metadata": {},
   "outputs": [],
   "source": [
    "n = 1000\n",
    "m = 1000\n",
    "\n",
    "mcs_price = barrier_option_MCS(S, r, vol, T, K, B, rebate, m, n, barrier_type, option_type)\n",
    "mcs_price"
   ]
  },
  {
   "cell_type": "markdown",
   "id": "a0e9a250",
   "metadata": {},
   "source": [
    "## 3. In-Out Parity\n"
   ]
  },
  {
   "cell_type": "markdown",
   "id": "48d72b3d",
   "metadata": {},
   "source": [
    "### In-Out Parity란\n",
    "\n",
    "$$ \n",
    "\n",
    "call_{knock-in} + call_{knock-out} = call\n",
    "\n",
    "$$ \n",
    "\n",
    "배리어를 나가던 말던 up-and-out(knock-out) 또는 up-and-in(knock-in) 둘 중 하나는 activate 되므로 둘을 합친 것은 항상 vanilla call이 되어야 한다는 parity. \n",
    "\n",
    "즉, 0 + c = c 또는 c + 0 = 0 이기에 성립한다는 것. \n",
    "\n",
    "출처: [Python for Finance](https://subscription.packtpub.com/book/data/9781783284375/11/ch11lvl1sec176/barrier-in-and-out-parity)\n"
   ]
  },
  {
   "cell_type": "markdown",
   "id": "06cfec7f",
   "metadata": {},
   "source": [
    "### MCS 옵션 평가에서 활용할 수 있는 방법\n",
    "\n",
    "둘은 parity이므로 \n",
    "\n",
    "- 우선 계산량이 적은 vanilla call의 가치를 먼저 mcs로 구하고 \n",
    "- up-and-out 또는 up-and-in 둘 중 하나를 mcs로 구하면 \n",
    "- 나머지 하나는 자동으로 구할 수 있다. \n",
    "- knock-out과 knock-in의 연산 차이:\n",
    "    - python의 경우 vectorized 연산을 위해 모든 path를 구해놓고 연산하기에 in/out의 연산이 동일\n",
    "    - iteration을 통해 path를 generate하는 다른 언어의 경우 out이 in보다 계산하기 쉬움 \n",
    "        - out의 경우 barrier touch 하는 순간 option 자체가 사라짐. 가치 0. 그 다음부턴 계산할 필요가 없음. \n",
    "        - in의 경우 barrier touch하는 순간 option이 activate됨. 나머지 path를 다 그려야 final payoff를 구할 수 있음. \n",
    "    - 때문에 in-out parity를 사용할 때 먼저 knock-out 옵션의 가격을 구하고 vanilla option에서 빼서 knock-in 옵션의 가격을 구하는 것이 좋음. "
   ]
  },
  {
   "cell_type": "markdown",
   "id": "5527b9c2",
   "metadata": {},
   "source": [
    "## 4. Bias-Variance Trade-off\n",
    "\n",
    "- 변수 정의\n",
    "    - N: number of simulations\n",
    "    - n: number of paths\n",
    "    - m: number of time steps\n",
    "- bias\n",
    "    - \"quantlib으로 계산한 analytic 솔루션의 값\" 과 \"몬테카를로 시뮬레이션으로 구한 N개의 결과의 평균\" 의 차이를 구한 것. \n",
    "    - 이를 제곱해야 bias^2가 나온다. \n",
    "- variance\n",
    "    - N번 simulation한 결과값들 사이의 분산\n",
    "    - 하지만, CLT를 이용하면 단 한 번의 simulation으로 variance를 구할 수 있다. \n",
    "        - simulation 자체가 n번의 평균이기에 표본평균 $ \\bar{X} $ 이고\n",
    "        - N번 simulation 한 것들의 분산은 표본평균의 분산, 즉 $ \\bar{X_1}, \\bar{X_2}, \\bar{X_3}, ... $  의 분산이다\n",
    "            - 만약 CLT를 쓰지 않고 N번 $ \\bar{X_i} $ 를 구해 variance를 구한다면 sample variance인 `ddof=n-1`을 써야 한다. \n",
    "            - 만약 CLT를 쓴다면 단일 simulation에서의 분산 $ \\sigma^2 $ 을 구한 후 CLT에 의해 $ \\bar{X} \\sim \\mathcal{N}( \\mu, \\frac{ \\sigma^2 }{ n } ) $ 가 성립함을 이용하면 된다. \n",
    "- 연산 예산 (computational budget)\n",
    "    - N은 30번 고정, `budget = n * m` \n",
    "    - log scale로 볼 수 있게 power of 2로 n과 m을 설정\n",
    "\n",
    "![image.png](attachment:image.png)"
   ]
  },
  {
   "cell_type": "code",
   "execution_count": null,
   "id": "6ff55908",
   "metadata": {},
   "outputs": [],
   "source": [
    "N = 50\n",
    "\n",
    "start = 6\n",
    "end = 20\n",
    "\n",
    "budget = 2 ** end # = m * n. 이렇게 해야 trade-off를 볼 수 있음. "
   ]
  },
  {
   "cell_type": "code",
   "execution_count": null,
   "id": "7c630b89",
   "metadata": {},
   "outputs": [],
   "source": [
    "n_values = 2 ** np.arange(start, end - start + 1)\n",
    "m_values = budget // n_values"
   ]
  },
  {
   "cell_type": "code",
   "execution_count": null,
   "id": "430e94e0",
   "metadata": {},
   "outputs": [],
   "source": [
    "ql_price = barrier_option_QL(S, r, vol, T, K, B, rebate, barrier_type, option_type)\n",
    "\n",
    "results = []\n",
    "\n",
    "for n, m in zip(n_values, m_values):\n",
    "\n",
    "    print(f'Calculating for n=2^{np.log2(n)}, m=2^{np.log2(m)}')\n",
    "\n",
    "    bias_values = []\n",
    "    mcs_values = [] # to calculate variance from N simulations\n",
    "    clt_variance = 0 # variance using CLT from 1 simulation\n",
    "\n",
    "    for i in range(N):\n",
    "        mcs_price, disc_payoffs = barrier_option_MCS(S, r, vol, T, K, B, rebate, m, n, barrier_type, option_type,\n",
    "                                                     return_disc_payoffs=True)\n",
    "        mcs_values.append(mcs_price)\n",
    "\n",
    "        # variance using CLT from 1 simulation\n",
    "        if i == 0:\n",
    "            clt_variance = np.var(disc_payoffs, ddof=1) / n\n",
    "    \n",
    "    mcs_values = np.array(mcs_values)\n",
    "\n",
    "    # Bias\n",
    "    bias2 = np.mean( mcs_values - ql_price ) ** 2\n",
    "    \n",
    "    # variance from N simulations\n",
    "    variance_from_N = np.var(mcs_values, ddof=1)\n",
    "    \n",
    "    result = {\n",
    "        'n': n,\n",
    "        'm': m,\n",
    "        'bias2': bias2,\n",
    "        'variance_from_N': variance_from_N,\n",
    "        'clt_variance': clt_variance,\n",
    "    }\n",
    "\n",
    "    results.append(result)\n",
    "        \n"
   ]
  },
  {
   "cell_type": "code",
   "execution_count": null,
   "id": "7e518cd4",
   "metadata": {},
   "outputs": [],
   "source": [
    "df = pd.DataFrame(results)"
   ]
  },
  {
   "cell_type": "code",
   "execution_count": null,
   "id": "fef4f3bd",
   "metadata": {},
   "outputs": [],
   "source": [
    "# df['mse'] = df['bias2'] + df['variance_from_N']\n",
    "df['mse'] = df['bias2'] + df['clt_variance']"
   ]
  },
  {
   "cell_type": "code",
   "execution_count": null,
   "id": "600d349d",
   "metadata": {},
   "outputs": [],
   "source": [
    "df"
   ]
  },
  {
   "cell_type": "code",
   "execution_count": null,
   "id": "ff5cb61a",
   "metadata": {},
   "outputs": [],
   "source": [
    "# df[['n', 'bias2', 'variance_from_N', 'mse']].plot(\n",
    "df[['n', 'bias2', 'clt_variance', 'mse']].plot(\n",
    "    x='n',\n",
    "    logx=True,\n",
    "    logy=False,\n",
    "    title='Bias-Variance Tradeoff',\n",
    "    xlabel='n',\n",
    "    ylabel='Value',\n",
    "    figsize=(10, 6),\n",
    ")"
   ]
  },
  {
   "cell_type": "code",
   "execution_count": null,
   "id": "3f548ac7",
   "metadata": {},
   "outputs": [],
   "source": [
    "df[['n', 'clt_variance', 'variance_from_N']].plot(\n",
    "    x='n',\n",
    "    logx=True,\n",
    "    logy=False,\n",
    "    title='Variance Comparison',\n",
    "    xlabel='n',\n",
    "    ylabel='Value',\n",
    "    figsize=(10, 6),\n",
    ")"
   ]
  },
  {
   "cell_type": "code",
   "execution_count": null,
   "id": "b8d3bcdf",
   "metadata": {},
   "outputs": [],
   "source": []
  }
 ],
 "metadata": {
  "kernelspec": {
   "display_name": ".venv",
   "language": "python",
   "name": "python3"
  }
 },
 "nbformat": 4,
 "nbformat_minor": 5
}
