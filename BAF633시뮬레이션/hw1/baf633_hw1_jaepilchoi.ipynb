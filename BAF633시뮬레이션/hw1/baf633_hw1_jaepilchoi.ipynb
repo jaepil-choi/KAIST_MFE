{
 "cells": [
  {
   "cell_type": "markdown",
   "metadata": {},
   "source": [
    "# 시뮬레이션 방법론 과제 1 \n",
    "\n",
    "20249433 최재필 "
   ]
  },
  {
   "cell_type": "code",
   "execution_count": 1,
   "metadata": {},
   "outputs": [],
   "source": [
    "import QuantLib as ql\n",
    "\n",
    "import numpy as np\n",
    "import scipy.stats as sst\n",
    "\n",
    "import matplotlib.pyplot as plt\n"
   ]
  },
  {
   "cell_type": "markdown",
   "metadata": {},
   "source": [
    "## 1. 베리어옵션 가격 계산"
   ]
  },
  {
   "cell_type": "markdown",
   "metadata": {},
   "source": [
    "- A. \n",
    "    - Up vs Down\n",
    "    - Out vs In\n",
    "    - Call vs Put (총 2 * 2 * 2 = 8가지)\n",
    "- B. \n",
    "    - 기초자산은 1개\n",
    "    - 옵션 평가일의 기초자산 가격 S\n",
    "    - GBM 프로세스 따름 \n",
    "- C. \n",
    "    - 옵션 만기 T (year)\n",
    "    - 만기까지 knock 여부 관측시점은 m번 ($ \\Delta t = T / m $)\n",
    "- D.\n",
    "    - 옵션 베리어 B\n",
    "    - 행사가격 K\n",
    "    - 무위험 금리 (연속금리) r\n",
    "    - 변동성 $ \\sigma $\n",
    "    - 배당 = 0\n",
    "- E. \n",
    "    - replication 회수 n번"
   ]
  },
  {
   "cell_type": "code",
   "execution_count": 2,
   "metadata": {},
   "outputs": [],
   "source": [
    "# Validate input\n",
    "\n",
    "def check_option_types(barrier_type, option_type):\n",
    "\n",
    "    barrier_type = barrier_type.lower()\n",
    "    option_type = option_type.lower()\n",
    "\n",
    "    assert barrier_type in ['upout', 'downout', 'upin', 'downin']\n",
    "    assert option_type in ['call', 'put']\n",
    "\n",
    "    return barrier_type, option_type"
   ]
  },
  {
   "cell_type": "code",
   "execution_count": 3,
   "metadata": {},
   "outputs": [],
   "source": [
    "# Quantlib을 활용한 analytical solution (mcs와 비교용)\n",
    "\n",
    "def barrier_option_QL(\n",
    "        S, r, vol, T, K, B, rebate=0,\n",
    "        barrier_type='upout',\n",
    "        option_type='call'\n",
    "        ):\n",
    "    \n",
    "    barrier_type, option_type = check_option_types(barrier_type, option_type)\n",
    "\n",
    "    # Requires Python >= 3.10 for match-case syntax\n",
    "    match barrier_type:\n",
    "        case 'upout':\n",
    "            barrier_type = ql.Barrier.UpOut\n",
    "        case 'downout':\n",
    "            barrier_type = ql.Barrier.DownOut\n",
    "        case 'upin':\n",
    "            barrier_type = ql.Barrier.UpIn\n",
    "        case 'downin':\n",
    "            barrier_type = ql.Barrier.DownIn\n",
    "    \n",
    "    match option_type:\n",
    "        case 'call':\n",
    "            option_type = ql.Option.Call\n",
    "        case 'put':\n",
    "            option_type = ql.Option.Put\n",
    "    \n",
    "    today = ql.Date.todaysDate()\n",
    "    maturity = today + ql.Period(int(T*365), ql.Days)\n",
    "\n",
    "    # barrier option\n",
    "    payoff = ql.PlainVanillaPayoff(option_type, K)\n",
    "    eu_exercise = ql.EuropeanExercise(maturity)\n",
    "    barrier_option = ql.BarrierOption(barrier_type, B, rebate, payoff, eu_exercise)\n",
    "\n",
    "    # market\n",
    "    spot_handle = ql.QuoteHandle(ql.SimpleQuote(S))\n",
    "    flat_rate_ts = ql.YieldTermStructureHandle(ql.FlatForward(today, r, ql.Actual365Fixed()))\n",
    "    flat_vol_ts = ql.BlackVolTermStructureHandle(ql.BlackConstantVol(today, ql.NullCalendar(), vol, ql.Actual365Fixed()))\n",
    "    bsm_process = ql.BlackScholesProcess(spot_handle, flat_rate_ts, flat_vol_ts)\n",
    "    analytic_engine = ql.AnalyticBarrierEngine(bsm_process)\n",
    "\n",
    "    # pricing\n",
    "    barrier_option.setPricingEngine(analytic_engine)\n",
    "\n",
    "    return barrier_option.NPV()"
   ]
  },
  {
   "cell_type": "code",
   "execution_count": 4,
   "metadata": {},
   "outputs": [],
   "source": [
    "# GPT로 만든 Quantlib MCS\n",
    "\n",
    "def barrier_option_QLMC(\n",
    "        S, r, vol, T, K, B, rebate=0,\n",
    "        barrier_type='upout',\n",
    "        option_type='call',\n",
    "        m=100,  # Number of time steps\n",
    "        n=10000  # Number of simulation paths\n",
    "        ):\n",
    "    \"\"\"\n",
    "    Prices a barrier option using Monte Carlo simulation.\n",
    "    \n",
    "    Parameters:\n",
    "    - S (float): Spot price of the underlying asset\n",
    "    - r (float): Risk-free interest rate (annualized)\n",
    "    - vol (float): Volatility of the underlying asset (annualized)\n",
    "    - T (float): Time to maturity in years\n",
    "    - K (float): Strike price\n",
    "    - B (float): Barrier level\n",
    "    - rebate (float, optional): Rebate paid if option is knocked out. Defaults to 0.\n",
    "    - barrier_type (str, optional): Type of barrier ('upout', 'downout', 'upin', 'downin'). Defaults to 'upout'.\n",
    "    - option_type (str, optional): Type of option ('call', 'put'). Defaults to 'call'.\n",
    "    - m (int, optional): Number of time steps in the simulation. Defaults to 100.\n",
    "    - n (int, optional): Number of simulation paths. Defaults to 10,000.\n",
    "    \n",
    "    Returns:\n",
    "    - float: Estimated price of the barrier option\n",
    "    \"\"\"\n",
    "    # Validate option types\n",
    "    barrier_type, option_type = check_option_types(barrier_type, option_type)\n",
    "    \n",
    "    # Time step\n",
    "    dt = T / m\n",
    "    discount_factor = np.exp(-r * T)\n",
    "    \n",
    "    # Precompute constants\n",
    "    drift = (r - 0.5 * vol**2) * dt\n",
    "    diffusion = vol * np.sqrt(dt)\n",
    "    \n",
    "    # Simulate asset paths\n",
    "    np.random.seed(0)  # For reproducibility; remove or modify seed as needed\n",
    "    Z = np.random.standard_normal((n, m))\n",
    "    log_S = np.log(S) + np.cumsum(drift + diffusion * Z, axis=1)\n",
    "    S_paths = np.exp(log_S)\n",
    "    \n",
    "    # Include the initial price\n",
    "    S_paths = np.hstack((np.full((n, 1), S), S_paths))\n",
    "    \n",
    "    # Determine if barrier is breached\n",
    "    if barrier_type in ['upout', 'upin']:\n",
    "        barrier_breached = np.any(S_paths >= B, axis=1)\n",
    "    elif barrier_type in ['downout', 'downin']:\n",
    "        barrier_breached = np.any(S_paths <= B, axis=1)\n",
    "    else:\n",
    "        raise ValueError(f\"Invalid barrier_type: {barrier_type}\")\n",
    "    \n",
    "    # Initialize payoffs\n",
    "    payoffs = np.zeros(n)\n",
    "    \n",
    "    # Option is knocked out\n",
    "    if barrier_type.endswith('out'):\n",
    "        # If barrier is breached, payoff is rebate\n",
    "        payoffs[barrier_breached] = rebate\n",
    "        # If barrier is not breached, payoff is standard option payoff\n",
    "        if option_type == 'call':\n",
    "            payoffs[~barrier_breached] = np.maximum(S_paths[~barrier_breached, -1] - K, 0)\n",
    "        elif option_type == 'put':\n",
    "            payoffs[~barrier_breached] = np.maximum(K - S_paths[~barrier_breached, -1], 0)\n",
    "    # Option is activated\n",
    "    elif barrier_type.endswith('in'):\n",
    "        # If barrier is breached, option becomes active\n",
    "        if option_type == 'call':\n",
    "            payoffs[barrier_breached] = np.maximum(S_paths[barrier_breached, -1] - K, 0) + rebate\n",
    "        elif option_type == 'put':\n",
    "            payoffs[barrier_breached] = np.maximum(K - S_paths[barrier_breached, -1], 0) + rebate\n",
    "        # If barrier is not breached, payoff remains 0\n",
    "    else:\n",
    "        raise ValueError(f\"Invalid barrier_type: {barrier_type}\")\n",
    "    \n",
    "    # Discount payoffs\n",
    "    discounted_payoffs = discount_factor * payoffs\n",
    "    \n",
    "    # Estimate option price\n",
    "    option_price = np.mean(discounted_payoffs)\n",
    "    \n",
    "    return option_price\n"
   ]
  },
  {
   "cell_type": "code",
   "execution_count": 5,
   "metadata": {},
   "outputs": [],
   "source": [
    "# MCS\n",
    "\n",
    "def barrier_option_MCS(\n",
    "        S, r, vol, T, K, B, rebate=0,\n",
    "        m=100, n=1000,\n",
    "        barrier_type='upout',\n",
    "        option_type='call',\n",
    "        seed=42, # ! seed를 넣으면 안됨. MCS는 매번 다르게 나와야 한다. \n",
    "        ):\n",
    "    \n",
    "    barrier_type, option_type = check_option_types(barrier_type, option_type)\n",
    "\n",
    "    np.random.seed(seed)\n",
    "\n",
    "    ## Calculate price path\n",
    "\n",
    "    dt = T / m # time step\n",
    "    # ! 잘 했다. 한 번에 만들어서 \n",
    "    Z = np.random.randn(n, m) # n x m matrix of standard normal random variables\n",
    "\n",
    "    drift = (r - 0.5 * vol**2) * dt\n",
    "    diffusion = vol * np.sqrt(dt) * Z # n x m\n",
    "\n",
    "    log_returns = drift + diffusion\n",
    "    cum_log_returns = np.cumsum(log_returns, axis=1)\n",
    "    # ! log return의 cumsum을 구해주는 것이 좋았다. for loop 안쓰고해서. \n",
    "\n",
    "    S_t = S * np.exp(cum_log_returns)\n",
    "\n",
    "    ## Calculate payoff\n",
    "\n",
    "    is_call = 1 if option_type == 'call' else 0\n",
    "    is_up = 1 if 'up' in barrier_type else 0\n",
    "    is_in = 1 if 'in' in barrier_type else 0\n",
    "\n",
    "    if is_up:\n",
    "        barrier_breached = np.any(S_t >= B, axis=1)\n",
    "        # ! axis = 1 잘 했다. \n",
    "    else: # down\n",
    "        barrier_breached = np.any(S_t <= B, axis=1)\n",
    "    \n",
    "    if is_in:\n",
    "        # Knock in \n",
    "        payoffs = np.where(\n",
    "            barrier_breached,\n",
    "            np.maximum(is_call * (S_t[:, -1] - K), 0),\n",
    "            rebate\n",
    "        )\n",
    "\n",
    "    else: # out\n",
    "        # Knock out\n",
    "        payoffs = np.where(\n",
    "            barrier_breached,\n",
    "            rebate,\n",
    "            np.maximum(is_call * (S_t[:, -1] - K), 0),\n",
    "        )\n",
    "\n",
    "    discounted_payoffs = np.exp(-r * T) * payoffs\n",
    "\n",
    "    option_price = np.mean(discounted_payoffs)\n",
    "\n",
    "    return option_price    "
   ]
  },
  {
   "cell_type": "code",
   "execution_count": 6,
   "metadata": {},
   "outputs": [],
   "source": [
    "# Market Info\n",
    "S = 100\n",
    "r = 0.03\n",
    "vol = 0.2\n",
    "\n",
    "# Product Spec.\n",
    "T = 1 # year\n",
    "K = 100\n",
    "B = 120\n",
    "\n",
    "rebate = 0 # not needed\n",
    "\n",
    "q = 0 # dividend yield, not needed\n",
    "r = r - q\n",
    "\n",
    "barrier_type = 'upout'\n",
    "option_type = 'call'\n",
    "\n",
    "# monte carlo simulation\n",
    "m = 1000\n",
    "n = 10000"
   ]
  },
  {
   "cell_type": "code",
   "execution_count": 7,
   "metadata": {},
   "outputs": [
    {
     "data": {
      "text/plain": [
       "(1.155369999815115, 1.211769817464179)"
      ]
     },
     "execution_count": 7,
     "metadata": {},
     "output_type": "execute_result"
    }
   ],
   "source": [
    "# Compare\n",
    "\n",
    "ql_price = barrier_option_QL(S, r, vol, T, K, B, rebate, barrier_type, option_type)\n",
    "mcs_price = barrier_option_MCS(S, r, vol, T, K, B, rebate, m, n, barrier_type, option_type)\n",
    "\n",
    "ql_price, mcs_price"
   ]
  },
  {
   "cell_type": "code",
   "execution_count": 8,
   "metadata": {},
   "outputs": [
    {
     "data": {
      "text/plain": [
       "1.218611608928147"
      ]
     },
     "execution_count": 8,
     "metadata": {},
     "output_type": "execute_result"
    }
   ],
   "source": [
    "mcs_ql_price = barrier_option_QLMC(S, r, vol, T, K, B, rebate, barrier_type, option_type, m, n)\n",
    "mcs_ql_price"
   ]
  },
  {
   "cell_type": "code",
   "execution_count": 9,
   "metadata": {},
   "outputs": [],
   "source": [
    "m = 10000\n",
    "n = 10000"
   ]
  },
  {
   "cell_type": "code",
   "execution_count": 10,
   "metadata": {},
   "outputs": [
    {
     "data": {
      "text/plain": [
       "(1.155369999815115, 1.1796321912563104)"
      ]
     },
     "execution_count": 10,
     "metadata": {},
     "output_type": "execute_result"
    }
   ],
   "source": [
    "# Compare\n",
    "\n",
    "ql_price = barrier_option_QL(S, r, vol, T, K, B, rebate, barrier_type, option_type)\n",
    "mcs_price = barrier_option_MCS(S, r, vol, T, K, B, rebate, m, n, barrier_type, option_type)\n",
    "\n",
    "ql_price, mcs_price"
   ]
  },
  {
   "cell_type": "code",
   "execution_count": 11,
   "metadata": {},
   "outputs": [
    {
     "data": {
      "text/plain": [
       "1.1634186255273558"
      ]
     },
     "execution_count": 11,
     "metadata": {},
     "output_type": "execute_result"
    }
   ],
   "source": [
    "mcs_ql_price = barrier_option_QLMC(S, r, vol, T, K, B, rebate, barrier_type, option_type, m, n)\n",
    "mcs_ql_price"
   ]
  },
  {
   "cell_type": "code",
   "execution_count": 12,
   "metadata": {},
   "outputs": [],
   "source": [
    "m = 100000\n",
    "n = 1000"
   ]
  },
  {
   "cell_type": "code",
   "execution_count": 13,
   "metadata": {},
   "outputs": [
    {
     "data": {
      "text/plain": [
       "(1.155369999815115, 1.3708167725315024)"
      ]
     },
     "execution_count": 13,
     "metadata": {},
     "output_type": "execute_result"
    }
   ],
   "source": [
    "# Compare\n",
    "\n",
    "ql_price = barrier_option_QL(S, r, vol, T, K, B, rebate, barrier_type, option_type)\n",
    "mcs_price = barrier_option_MCS(S, r, vol, T, K, B, rebate, m, n, barrier_type, option_type)\n",
    "\n",
    "ql_price, mcs_price"
   ]
  },
  {
   "cell_type": "code",
   "execution_count": 14,
   "metadata": {},
   "outputs": [
    {
     "data": {
      "text/plain": [
       "1.2056839254253415"
      ]
     },
     "execution_count": 14,
     "metadata": {},
     "output_type": "execute_result"
    }
   ],
   "source": [
    "mcs_ql_price = barrier_option_QLMC(S, r, vol, T, K, B, rebate, barrier_type, option_type, m, n)\n",
    "mcs_ql_price"
   ]
  },
  {
   "cell_type": "markdown",
   "metadata": {},
   "source": [
    "## 2. In-Out Parity\n"
   ]
  },
  {
   "cell_type": "markdown",
   "metadata": {},
   "source": [
    "### In-Out Parity란\n",
    "\n",
    "$$ \n",
    "\n",
    "call_{knock-in} + call_{knock-out} = call\n",
    "\n",
    "$$ \n",
    "\n",
    "배리어를 나가던 말던 up-and-out(knock-out) 또는 up-and-in(knock-in) 둘 중 하나는 activate 되므로 둘을 합친 것은 항상 vanilla call이 되어야 한다는 parity. \n",
    "\n",
    "즉, 0 + c = c 또는 c + 0 = 0 이기에 성립한다는 것. \n",
    "\n",
    "출처: [Python for Finance](https://subscription.packtpub.com/book/data/9781783284375/11/ch11lvl1sec176/barrier-in-and-out-parity)\n"
   ]
  },
  {
   "cell_type": "markdown",
   "metadata": {},
   "source": [
    "### MCS 옵션 평가에서 활용할 수 있는 방법\n",
    "\n",
    "둘은 parity이므로 \n",
    "\n",
    "- 우선 계산량이 적은 vanilla call의 가치를 먼저 mcs로 구하고 \n",
    "- up-and-out 또는 up-and-in 둘 중 하나를 mcs로 구하면 \n",
    "- 나머지 하나는 자동으로 구할 수 있어서 \n",
    "\n",
    "up-and-out이랑 up-and-in 둘 모두의 가치를 구해야 할 때 계산을 덜할 수 있을 것 같다. \n",
    "\n",
    "심지어 생각해보니까 먼저 vanilla call 구할 때 price path는 만들어놓으니까 그 다음에 knock-in/out을 계산하면 되는거라서 vanilla 구하는건 어차피 knock-in/out 구하려면 필요한 것인 듯 하다. "
   ]
  },
  {
   "attachments": {
    "image.png": {
     "image/png": "[encoded data removed]"
    }
   },
   "cell_type": "markdown",
   "metadata": {},
   "source": [
    "## 3. m, n과 bias, variance의 관계\n",
    "\n",
    "m, n 변경시 bias, variance의 변화를 시뮬레이션 결과로 설명\n",
    "\n",
    "- bias:\n",
    "    - analytic solution의 실제 값과 simulation 결과 (의 평균) 사이의 차이\n",
    "    - m을 늘려야 discretization error를 줄여 bias를 줄일 수 있다. \n",
    "    - 하지만 계속 늘리면 computation cost도 올라가고, 수업시간에도 무조건 늘리는게 좋지는 않다고 배움\n",
    "- variance: \n",
    "    - simulation 결과들 사이의 차이\n",
    "    - n을 늘려야 simulation들의 std를 줄여 variance를 줄일 수 있다. \n",
    "    - 늘릴수록 computation cost 올라감. \n",
    "    - --> variance가 이게 맞나? gpt한테 물어보니 `n_values`(예를 들어 10000번)는 monte carlo simulation 1번 할 때 생성하는 path의 갯수고 `n_simulations`(예를들어 30번), 즉 10000번짜리 simulation을 또 30번 돌려줘야 variance를 알 수 있다는데.\n",
    "    - 교수님 답변:\n",
    "        - N을 쓰는게 맞다. \n",
    "\n",
    "\n",
    "결론: \n",
    "- 한정된 연산 자원 내에서 m과 n 사이에 적절하게 분배를 해야한다. \n",
    "- 교수님 답변:\n",
    "    - mean variance tradeoff를 그래프로 그려야 한다. \n",
    "    - y축이 mse, x축에 bias, variance를 모두 표시해서 그것이 일반적으로 알고있는 mean variance trade off 개형처럼 나오는지 확인한다. \n",
    "\n",
    "![image.png](attachment:image.png)"
   ]
  },
  {
   "cell_type": "code",
   "execution_count": 15,
   "metadata": {},
   "outputs": [],
   "source": [
    "def simulate_and_plot(reference_price, m_values, n_values, N_values, plot=False):\n",
    "    S = 100\n",
    "    r = 0.03\n",
    "    vol = 0.2\n",
    "    T = 1\n",
    "    K = 100\n",
    "    B = 120\n",
    "    rebate = 0\n",
    "    barrier_type = 'upout'\n",
    "    option_type = 'call'\n",
    "\n",
    "    # Bias and Variance for m_values\n",
    "    biases_m = []\n",
    "    variances_m = []\n",
    "    for m in m_values:\n",
    "        prices = [barrier_option_MCS(S, r, vol, T, K, B, rebate, m, 500, barrier_type, option_type) for _ in range(50)]\n",
    "        biases_m.append(np.mean(prices) - reference_price)\n",
    "        # ! 일단 bias 는 제곱을 해야한다. \n",
    "        variances_m.append(np.var(prices))\n",
    "\n",
    "    # Bias and Variance for n_values\n",
    "    biases_n = []\n",
    "    variances_n = []\n",
    "    for n in n_values:\n",
    "        prices = [barrier_option_MCS(S, r, vol, T, K, B, rebate, 100, n, barrier_type, option_type) for _ in range(50)]\n",
    "        biases_n.append(np.mean(prices) - reference_price)\n",
    "        variances_n.append(np.var(prices))\n",
    "\n",
    "    # Bias and Variance for N_values\n",
    "    biases_N = []\n",
    "    variances_N = []\n",
    "    for N in N_values:\n",
    "        prices = [barrier_option_MCS(S, r, vol, T, K, B, rebate, 100, 500, barrier_type, option_type) for _ in range(N)]\n",
    "        biases_N.append(np.mean(prices) - reference_price)\n",
    "        variances_N.append(np.var(prices))\n",
    "\n",
    "    # variance 너무 작아 눈에 잘 안띈다. log scale로 변환\n",
    "    # 너무 작아 0 division error 나니까 std로 변환\n",
    "    # sqrt 씌워도 오류나네. epsilon 더해주자. \n",
    "\n",
    "    epsilon = 1e-12\n",
    "\n",
    "    variances_m = np.array(variances_m)\n",
    "    variances_n = np.array(variances_n)\n",
    "    variances_N = np.array(variances_N)\n",
    "\n",
    "    variances_m = np.log(np.sqrt(variances_m + epsilon)) # std임\n",
    "    variances_n = np.log(np.sqrt(variances_n + epsilon)) # std임\n",
    "    variances_N = np.log(np.sqrt(variances_N + epsilon)) # std임\n",
    "\n",
    "    if plot:\n",
    "        # Plotting\n",
    "        fig, axs = plt.subplots(3, 2, figsize=(12, 18))\n",
    "\n",
    "        axs[0, 0].plot(m_values, biases_m, marker='o')\n",
    "        axs[0, 0].set_title('Bias vs m')\n",
    "        axs[0, 0].set_xlabel('m (Number of Time Steps)')\n",
    "        axs[0, 0].set_ylabel('Bias')\n",
    "\n",
    "        axs[0, 1].plot(m_values, variances_m, marker='o')\n",
    "        axs[0, 1].set_title('Variance vs m')\n",
    "        axs[0, 1].set_xlabel('m (Number of Time Steps)')\n",
    "        axs[0, 1].set_ylabel('Variance')\n",
    "\n",
    "        axs[1, 0].plot(n_values, biases_n, marker='o')\n",
    "        axs[1, 0].set_title('Bias vs n')\n",
    "        axs[1, 0].set_xlabel('n (Number of Paths)')\n",
    "        axs[1, 0].set_ylabel('Bias')\n",
    "\n",
    "        axs[1, 1].plot(n_values, variances_n, marker='o')\n",
    "        axs[1, 1].set_title('Variance vs n')\n",
    "        axs[1, 1].set_xlabel('n (Number of Paths)')\n",
    "        axs[1, 1].set_ylabel('Variance')\n",
    "\n",
    "        axs[2, 0].plot(N_values, biases_N, marker='o')\n",
    "        axs[2, 0].set_title('Bias vs N')\n",
    "        axs[2, 0].set_xlabel('N (Number of Simulations)')\n",
    "        axs[2, 0].set_ylabel('Bias')\n",
    "\n",
    "        axs[2, 1].plot(N_values, variances_N, marker='o')\n",
    "        axs[2, 1].set_title('Variance vs N')\n",
    "        axs[2, 1].set_xlabel('N (Number of Simulations)')\n",
    "        axs[2, 1].set_ylabel('Variance')\n",
    "\n",
    "        plt.tight_layout()\n",
    "        plt.show()\n"
   ]
  },
  {
   "cell_type": "code",
   "execution_count": 16,
   "metadata": {},
   "outputs": [
    {
     "ename": "",
     "evalue": "",
     "output_type": "error",
     "traceback": [
      "\u001b[1;31mThe Kernel crashed while executing code in the current cell or a previous cell. \n",
      "\u001b[1;31mPlease review the code in the cell(s) to identify a possible cause of the failure. \n",
      "\u001b[1;31mClick <a href='https://aka.ms/vscodeJupyterKernelCrash'>here</a> for more info. \n",
      "\u001b[1;31mView Jupyter <a href='command:jupyter.viewOutput'>log</a> for further details."
     ]
    }
   ],
   "source": [
    "\n",
    "# Example usage\n",
    "reference_price = ql_price  # Replace with the actual reference price\n",
    "m_values = [10, 50, 100, 500]\n",
    "n_values = [10, 50, 100, 500]\n",
    "N_values = [5, 10, 50]\n",
    "\n",
    "simulate_and_plot(reference_price, m_values, n_values, N_values, plot=False)"
   ]
  },
  {
   "cell_type": "markdown",
   "metadata": {},
   "source": [
    "결과 해석: \n",
    "\n",
    "- 고정값들: \n",
    "    - n = 500\n",
    "    - m = 100\n",
    "    - N = 50\n",
    "- bias: \n",
    "    - m을 늘릴 때\n",
    "        - 점점 0 근처로 떨어짐\n",
    "        - 근데 다시 올라감. (너무 step을 작게 잡아서인가? )\n",
    "    - n을 늘릴 때\n",
    "        - 그래프는 오르는 것처럼 보이나, 그게 아니라 0 근처로 가고 있는 것임.\n",
    "        - n도 늘릴수록 bias가 줄어듦\n",
    "    - N을 늘릴 때\n",
    "        - 변화 없음. 딱 거의 0. \n",
    "- variance:\n",
    "    - 로그스케일\n",
    "    - 모두 0에서 변화 없음. (1e-13은 0-division 방지 epsilon 값)"
   ]
  }
 ],
 "metadata": {
  "kernelspec": {
   "display_name": ".venv",
   "language": "python",
   "name": "python3"
  },
  "language_info": {
   "codemirror_mode": {
    "name": "ipython",
    "version": 3
   },
   "file_extension": ".py",
   "mimetype": "text/x-python",
   "name": "python",
   "nbconvert_exporter": "python",
   "pygments_lexer": "ipython3",
   "version": "3.11.5"
  }
 },
 "nbformat": 4,
 "nbformat_minor": 2
}
