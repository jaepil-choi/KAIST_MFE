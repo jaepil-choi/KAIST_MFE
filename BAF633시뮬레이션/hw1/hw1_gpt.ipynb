{
 "cells": [
  {
   "cell_type": "markdown",
   "metadata": {},
   "source": [
    "GPT-4o가 푼 hw1, 참고용"
   ]
  },
  {
   "cell_type": "code",
   "execution_count": 1,
   "metadata": {},
   "outputs": [
    {
     "name": "stdout",
     "output_type": "stream",
     "text": [
      "Barrier Option Price: 386.30\n"
     ]
    }
   ],
   "source": [
    "import numpy as np\n",
    "import QuantLib as ql\n",
    "\n",
    "# Parameters given in the problem\n",
    "S0 = 1195          # Initial stock price\n",
    "K = 1200           # Strike price\n",
    "T = 2.5            # Time to maturity (years)\n",
    "r = 0.01           # Risk-free rate\n",
    "sigma = 0.25       # Volatility\n",
    "B = 1300           # Barrier level (adjust as needed)\n",
    "barrierType = ql.Barrier.UpOut  # Adjust according to the question's part A\n",
    "n_simulations = 10000           # Number of simulations (replications, as mentioned in point E)\n",
    "m = int(T * 365)   # Discretization steps (one step per day)\n",
    "dt = T / m         # Time step\n",
    "\n",
    "# Monte Carlo Simulation for Barrier Option\n",
    "np.random.seed(42)  # For reproducibility\n",
    "discount_factor = np.exp(-r * T)\n",
    "prices = []\n",
    "\n",
    "for _ in range(n_simulations):\n",
    "    path = [S0]\n",
    "    hit_barrier = False\n",
    "    for _ in range(m):\n",
    "        z = np.random.normal(0, 1)\n",
    "        S_t = path[-1] * np.exp((r - 0.5 * sigma**2) * dt + sigma * np.sqrt(dt) * z)\n",
    "        path.append(S_t)\n",
    "        # Check barrier condition\n",
    "        if (barrierType == ql.Barrier.UpOut and S_t >= B):\n",
    "            hit_barrier = True\n",
    "            break\n",
    "    \n",
    "    # Payoff calculation only if barrier not breached\n",
    "    if not hit_barrier:\n",
    "        prices.append(max(K - path[-1], 0))  # Put option payoff\n",
    "\n",
    "# Average price with discount factor\n",
    "price_mc = discount_factor * np.mean(prices)\n",
    "print(f\"Barrier Option Price: {price_mc:.2f}\")\n"
   ]
  },
  {
   "cell_type": "code",
   "execution_count": null,
   "metadata": {},
   "outputs": [],
   "source": []
  }
 ],
 "metadata": {
  "kernelspec": {
   "display_name": ".venv",
   "language": "python",
   "name": "python3"
  },
  "language_info": {
   "codemirror_mode": {
    "name": "ipython",
    "version": 3
   },
   "file_extension": ".py",
   "mimetype": "text/x-python",
   "name": "python",
   "nbconvert_exporter": "python",
   "pygments_lexer": "ipython3",
   "version": "3.11.5"
  }
 },
 "nbformat": 4,
 "nbformat_minor": 2
}
