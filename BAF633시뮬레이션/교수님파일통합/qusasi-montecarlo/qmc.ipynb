{
 "cells": [
  {
   "cell_type": "code",
   "execution_count": null,
   "id": "36619f6c",
   "metadata": {},
   "outputs": [],
   "source": [
    "import numpy as np\n",
    "import pandas as pd\n",
    "from scipy.stats import qmc\n",
    "from blackscholes import bsprice\n",
    "from mcs_0 import mcprice\n",
    "from ql_barrier_option import ql_barrier_price\n",
    "from mc_barrier_option import mc_barrier_price\n",
    "\n",
    "def qmcprice(s,k,r,q,t,sigma,nsim,flag):\n",
    "    dist = qmc.MultivariateNormalQMC(mean=[0], cov=[[1]])\n",
    "    z = dist.random(nsim)\n",
    "    st = s*np.exp((r-q-0.5*sigma**2)*t + sigma*np.sqrt(t)*z)\n",
    "    callOrPut = 1 if flag.lower()=='call' else -1    \n",
    "    payoff = np.maximum(callOrPut*(st-k), 0)    \n",
    "    disc_payoff = np.exp(-r*t)*payoff\n",
    "    price = disc_payoff.mean()\n",
    "    return price\n",
    "\n",
    "def qmc_barrier_price(s,k,r,q,t,sigma,option_flag,nsim,b,barrier_flag,m):\n",
    "    dt = t/m\n",
    "    dist = qmc.MultivariateNormalQMC(mean=np.zeros(m), cov=np.identity(m))\n",
    "    z = dist.random(nsim)\n",
    "    z = z.cumsum(1)\n",
    "    dts = np.arange(dt,t+dt,dt)\n",
    "    st = s*np.exp((r-q-0.5*sigma**2)*dts + sigma*np.sqrt(dt)*z)\n",
    "    barrier_knock = st.max(1)>=b if barrier_flag.split(\"-\")[0].lower()=='up' else st.min(1)<=b\n",
    "    if barrier_flag.split('-')[1].lower()==\"out\": \n",
    "        barrier_knock = ~barrier_knock\n",
    "    callOrPut = 1 if option_flag.lower()=='call' else -1\n",
    "    payoff = np.maximum(callOrPut*(st[:,-1]-k), 0) * barrier_knock\n",
    "    disc_payoff = np.exp(-r*t)*payoff\n",
    "    price = disc_payoff.mean()    \n",
    "    return price"
   ]
  },
  {
   "cell_type": "code",
   "execution_count": null,
   "id": "16e18a0e",
   "metadata": {
    "lines_to_next_cell": 2
   },
   "outputs": [],
   "source": [
    "#plain-vanilla\n",
    "s, k, r, q, t, sigma = 100, 90, 0.03, 0.01, 0.25, 0.2\n",
    "flag = 'put'\n",
    "\n",
    "#Analytic Formula\n",
    "price = bsprice(s,k,r,q,t,sigma,flag)\n",
    "print(f\"Anlytic Price = {price:0.6f}\")\n",
    "prcs = pd.DataFrame(columns=[\"Analytic\",\"MC\",\"upper\",\"lower\",\"QMC\"])\n",
    "for n in range(5,20):\n",
    "    nsim = 2**n\n",
    "    mc_price, se = mcprice(s,k,r,q,t,sigma,nsim,flag)\n",
    "    qmc_price = qmcprice(s,k,r,q,t,sigma,nsim,flag)\n",
    "    prcs.loc[n] = [price, mc_price, mc_price+2*se, mc_price-2*se, qmc_price]\n",
    "\n",
    "prcs.plot()"
   ]
  },
  {
   "cell_type": "code",
   "execution_count": null,
   "id": "b2930c3e",
   "metadata": {
    "lines_to_next_cell": 2
   },
   "outputs": [],
   "source": [
    "#barrier option\n",
    "s,k,r,q,t,sigma = 100, 100, 0.03, 0, 1, 0.2\n",
    "b, rebate = 130, 0\n",
    "# m = 5\n",
    "m = 1 # 한 번만 체크. 만기에서만 보는 것. 이러면 bias가 엄청 커짐. 당연히 m이 하나니까... \n",
    "option_flag = 'call'\n",
    "barrier_flag = 'up-out'\n",
    "#Analytic Formula\n",
    "an_price = ql_barrier_price(s,k,r,t,sigma,option_flag,b,rebate,barrier_flag)\n",
    "\n",
    "prcs = pd.DataFrame(columns=[\"Analytic\",\"MC\",\"QMC\"])\n",
    "for n in range(5,20):\n",
    "    nsim = 2**n\n",
    "    mc_price, se = mc_barrier_price(s,k,r,q,t,sigma,option_flag,nsim,b,barrier_flag,m)\n",
    "    qmc_price = qmc_barrier_price(s,k,r,q,t,sigma,option_flag,nsim,b,barrier_flag,m)\n",
    "    prcs.loc[n] = [an_price, mc_price, qmc_price]\n",
    "\n",
    "prcs.plot()"
   ]
  },
  {
   "cell_type": "code",
   "execution_count": null,
   "id": "4444a660",
   "metadata": {},
   "outputs": [],
   "source": [
    "\n",
    "## QMC가 잘 먹히려면? \n",
    "# 만기(terminal) 시점의 주가 분포가 균질해야. \n",
    "# qmc를 쓸 때 먼저 주가를 균질하게 만들고 \n",
    "# brownian bridge를 쓰고 qmc 해주면 매우 효과적. \n",
    "# stratified sampling 할 때도 효과가 좋은 계층의 샘플링을 많이 하는 원리\n",
    "# 그것도 qmc도 terminal에서의 주가분포가 균질한 것이 중요. \n",
    "\n",
    "# 솔직히 다 이해하진 못했다. "
   ]
  }
 ],
 "metadata": {
  "jupytext": {
   "cell_metadata_filter": "-all",
   "main_language": "python",
   "notebook_metadata_filter": "-all"
  }
 },
 "nbformat": 4,
 "nbformat_minor": 5
}
