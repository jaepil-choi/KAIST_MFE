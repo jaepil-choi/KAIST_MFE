{
 "cells": [
  {
   "cell_type": "code",
   "execution_count": null,
   "id": "ebe44c58",
   "metadata": {
    "lines_to_next_cell": 1
   },
   "outputs": [],
   "source": [
    "import numpy as np"
   ]
  },
  {
   "cell_type": "code",
   "execution_count": null,
   "id": "639387a5",
   "metadata": {},
   "outputs": [],
   "source": [
    "def mcprice(s,k,r,q,t,sigma,nsim,flag):\n",
    "    z = np.random.randn(nsim)\n",
    "    st = s*np.exp((r-q-0.5*sigma**2)*t + sigma*np.sqrt(t)*z)\n",
    "    callOrPut = 1 if flag.lower()=='call' else -1    \n",
    "    payoff = np.maximum(callOrPut*(st-k), 0)    \n",
    "    disc_payoff = np.exp(-r*t)*payoff\n",
    "    price = disc_payoff.mean()    \n",
    "    se = disc_payoff.std(ddof=1) / np.sqrt(nsim)\n",
    "    return price, se"
   ]
  }
 ],
 "metadata": {
  "jupytext": {
   "cell_metadata_filter": "-all",
   "main_language": "python",
   "notebook_metadata_filter": "-all"
  }
 },
 "nbformat": 4,
 "nbformat_minor": 5
}
