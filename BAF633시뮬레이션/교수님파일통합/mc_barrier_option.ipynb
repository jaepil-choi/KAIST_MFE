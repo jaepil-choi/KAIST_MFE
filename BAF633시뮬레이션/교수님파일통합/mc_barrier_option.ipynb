{
 "cells": [
  {
   "cell_type": "code",
   "execution_count": null,
   "id": "da1c4d7f",
   "metadata": {},
   "outputs": [],
   "source": [
    "import numpy as np\n",
    "import time \n",
    "\n",
    "def mc_barrier_price(s,k,r,q,t,sigma,option_flag,nsim,b,barrier_flag,m):\n",
    "    dt = t/m\n",
    "    z = np.random.randn(nsim,m)\n",
    "    z = z.cumsum(1)\n",
    "    dts = np.arange(dt,t+dt,dt)\n",
    "    st = s*np.exp((r-q-0.5*sigma**2)*dts + sigma*np.sqrt(dt)*z)\n",
    "    barrier_knock = st.max(1)>=b if barrier_flag.split(\"-\")[0].lower()=='up' else st.min(1)<=b\n",
    "    if barrier_flag.split('-')[1].lower()==\"out\": \n",
    "        barrier_knock = ~barrier_knock\n",
    "    callOrPut = 1 if option_flag.lower()=='call' else -1\n",
    "    payoff = np.maximum(callOrPut*(st[:,-1]-k), 0) * barrier_knock\n",
    "    disc_payoff = np.exp(-r*t)*payoff\n",
    "    price = disc_payoff.mean()    \n",
    "    se = disc_payoff.std(ddof=1) / np.sqrt(nsim)\n",
    "    return price, se"
   ]
  }
 ],
 "metadata": {
  "jupytext": {
   "cell_metadata_filter": "-all",
   "main_language": "python",
   "notebook_metadata_filter": "-all"
  }
 },
 "nbformat": 4,
 "nbformat_minor": 5
}
