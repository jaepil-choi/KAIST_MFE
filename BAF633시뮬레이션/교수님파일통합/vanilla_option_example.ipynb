{
 "cells": [
  {
   "cell_type": "code",
   "execution_count": null,
   "id": "7bdc72ca",
   "metadata": {},
   "outputs": [],
   "source": [
    "from blackscholes import bsprice\n",
    "import numpy as np \n",
    "\n",
    "s = 100\n",
    "k = 100\n",
    "r = 0.03\n",
    "q = 0.01\n",
    "t = 0.25\n",
    "sigma = 0.2\n",
    "flag = 'put'\n",
    "\n",
    "#Analytic Formula\n",
    "price = bsprice(s,k,r,q,t,sigma,flag)\n",
    "print(f\"   Price = {price:0.6f}\")\n",
    "\n",
    "#Monte-Carlo Simulation\n",
    "from mcs_0 import mcprice\n",
    "nsim = 1000000\n",
    "mc_price, se = mcprice(s,k,r,q,t,sigma,nsim,flag)\n",
    "print(f\"MC Price = {mc_price:0.6f}\")\n",
    "\n",
    "# TODO: 가격의 std error와 신뢰구간을 구해보자. 100번 iter 해서 그 안에 95번 들어오는지도 check. \n",
    "# TODO: BS 공식에서 0~T가 아니라 j에서 k 막 이러면 식은 어떻게 바뀌어야 하나? "
   ]
  },
  {
   "cell_type": "code",
   "execution_count": null,
   "id": "4f10d1fa",
   "metadata": {},
   "outputs": [],
   "source": [
    "import scipy.stats as sst\n",
    "z = sst.norm.ppf(0.975)\n",
    "\n",
    "nval = 10000\n",
    "count = 1\n",
    "for i in range(nval):\n",
    "    print(i+1)\n",
    "    mc_price, se = mcprice(s,k,r,q,t,sigma,nsim,flag)\n",
    "    if price>mc_price+se*z or price<mc_price-se*z:\n",
    "        count += 1\n",
    "\n",
    "print(\"{0:0.4%}\".format(count/nval))"
   ]
  }
 ],
 "metadata": {
  "jupytext": {
   "cell_metadata_filter": "-all",
   "main_language": "python",
   "notebook_metadata_filter": "-all"
  }
 },
 "nbformat": 4,
 "nbformat_minor": 5
}
