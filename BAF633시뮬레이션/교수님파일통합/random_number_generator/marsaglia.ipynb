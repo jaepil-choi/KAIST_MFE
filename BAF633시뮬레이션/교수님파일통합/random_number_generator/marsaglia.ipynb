{
 "cells": [
  {
   "cell_type": "code",
   "execution_count": null,
   "id": "935ce26d",
   "metadata": {
    "lines_to_next_cell": 0
   },
   "outputs": [],
   "source": [
    "import numpy as np \n",
    "import pandas as pd\n",
    "import matplotlib.pyplot as plt\n",
    "import scipy.stats as stats\n",
    "\n",
    "u1 = 2*np.random.rand(10000) - 1\n",
    "u2 = 2*np.random.rand(10000) - 1\n",
    "idx = u1**2+u2**2<1\n",
    "u1 = u1[idx]\n",
    "u2 = u2[idx]\n",
    "r = np.sqrt(u1**2 + u2**2) # 피타고라스 단위 원 안에 있는지만 확인\n",
    "z1 = u1*np.sqrt(-2*np.log(r)/(r**2)) # 덕분에 sin, cos 계산 없다.\n",
    "z2 = u2*np.sqrt(-2*np.log(r)/(r**2))\n",
    "\n",
    "\n",
    "fig, ax = plt.subplots(2,2,figsize=(10,10))\n",
    "ax[0,0].plot(u1,u2,'.')\n",
    "ax[0,0].set_xlabel(\"u1\")\n",
    "ax[0,0].set_ylabel(\"u2\")\n",
    "ax[0,1].plot(z1,z2,'.')\n",
    "ax[0,1].set_xlabel(\"z1\")\n",
    "ax[0,1].set_ylabel(\"z2\")\n",
    "\n",
    "z = np.concatenate([z1,z2])\n",
    "ax[1,0].hist(z, bins=50)\n",
    "stats.probplot(z, dist=\"norm\", plot=ax[1,1])\n",
    "\n",
    "z = pd.Series(z)\n",
    "print(\"Mean = \", z.mean())\n",
    "print(\"Std = \", z.std()) # ?? 교수님께서 std가 이상하다고 하심. \n",
    "print(\"Skewness = \", z.skew())\n",
    "print(\"Kurtosis = \", z.kurt())"
   ]
  },
  {
   "cell_type": "code",
   "execution_count": null,
   "id": "c083ce21",
   "metadata": {},
   "outputs": [],
   "source": []
  }
 ],
 "metadata": {
  "jupytext": {
   "cell_metadata_filter": "-all",
   "main_language": "python",
   "notebook_metadata_filter": "-all"
  }
 },
 "nbformat": 4,
 "nbformat_minor": 5
}
