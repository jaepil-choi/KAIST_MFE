{
 "cells": [
  {
   "cell_type": "code",
   "execution_count": null,
   "id": "2abf1634",
   "metadata": {
    "lines_to_next_cell": 0
   },
   "outputs": [],
   "source": [
    "import numpy as np \n",
    "import pandas as pd\n",
    "import matplotlib.pyplot as plt\n",
    "import scipy.stats as stats\n",
    "\n",
    "# uniform에서 뽑는\n",
    "u1 = np.random.rand(10000) # 길이\n",
    "u2 = np.random.rand(10000) # 각도\n",
    "\n",
    "# 원 그리며 극좌표 변환\n",
    "z1 = np.sqrt(-2*np.log(u1))*np.cos(2*np.pi*u2)\n",
    "z2 = np.sqrt(-2*np.log(u1))*np.sin(2*np.pi*u2)\n",
    "\n",
    "fig, ax = plt.subplots(2,2,figsize=(10,10))\n",
    "ax[0,0].plot(u1,u2,'.')\n",
    "ax[0,0].set_xlabel(\"u1\")\n",
    "ax[0,0].set_ylabel(\"u2\")\n",
    "ax[0,1].plot(z1,z2,'.')\n",
    "ax[0,1].set_xlabel(\"z1\")\n",
    "ax[0,1].set_ylabel(\"z2\")\n",
    "\n",
    "z = np.concatenate([z1,z2])\n",
    "ax[1,0].hist(z, bins=50)\n",
    "stats.probplot(z, dist=\"norm\", plot=ax[1,1])\n",
    "\n",
    "z = pd.Series(z)\n",
    "print(\"Mean = \", z.mean())\n",
    "print(\"Std = \", z.std())\n",
    "print(\"Skewness = \", z.skew())\n",
    "print(\"Kurtosis = \", z.kurt())\n",
    "\n",
    "# 아... 너무 간단해서 좋은데....\n",
    "# 효율성이 좋지가 않다. \n",
    "# 왜? 삼각함수, 로그함수 계산하는 것이 효율적이지 않다.\n",
    "# 그래서 더 개선된 방법이 필요하다."
   ]
  },
  {
   "cell_type": "code",
   "execution_count": null,
   "id": "9bd0a464",
   "metadata": {},
   "outputs": [],
   "source": []
  }
 ],
 "metadata": {
  "jupytext": {
   "cell_metadata_filter": "-all",
   "main_language": "python",
   "notebook_metadata_filter": "-all"
  }
 },
 "nbformat": 4,
 "nbformat_minor": 5
}
