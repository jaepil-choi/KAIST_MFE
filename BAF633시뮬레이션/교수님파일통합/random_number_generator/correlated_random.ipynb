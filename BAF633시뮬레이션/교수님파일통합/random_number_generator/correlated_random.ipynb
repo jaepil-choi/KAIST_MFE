{
 "cells": [
  {
   "cell_type": "code",
   "execution_count": null,
   "id": "c5d7c90a",
   "metadata": {},
   "outputs": [],
   "source": [
    "# 설명 어렵다. 기왕이면 notability 녹음된거 들으면서 봐라. "
   ]
  },
  {
   "cell_type": "code",
   "execution_count": null,
   "id": "37031766",
   "metadata": {},
   "outputs": [],
   "source": [
    "import numpy as np \n",
    "import pandas as pd\n",
    "import matplotlib.pyplot as plt\n",
    "\n",
    "corr = np.array([[1,0.3,0.5],[0.3,1,0.6],[0.5,0.6,1]])\n",
    "pos_def = np.all(np.linalg.eigvals(corr) > 0)\n",
    "print(corr)\n",
    "print(pos_def)"
   ]
  },
  {
   "cell_type": "code",
   "execution_count": null,
   "id": "fdc4d87b",
   "metadata": {
    "lines_to_next_cell": 2
   },
   "outputs": [],
   "source": [
    "#Cholesky Decomposition\n",
    "c = np.linalg.cholesky(corr)\n",
    "x = np.random.randn(10000,3)\n",
    "y = x @ c.T # X_c = B@X 랑 X_c = X@B.T 랑 다르다고 한거 기억하기. \n",
    "\n",
    "y = pd.DataFrame(y, columns=['z1','z2','z3'])\n",
    "print(\"Mean\")\n",
    "print(y.apply(['mean','std']))\n",
    "print()\n",
    "\n",
    "print(\"Correlation\")\n",
    "print(y.corr())"
   ]
  },
  {
   "cell_type": "code",
   "execution_count": null,
   "id": "8d925a53",
   "metadata": {},
   "outputs": [],
   "source": [
    "#Positive Definite 하지 않은 상관계수 행렬 생성\n",
    "pos_def = True\n",
    "while pos_def:\n",
    "    x = np.random.randn(1000, 2)\n",
    "    x = np.concatenate([x[:,0:1], x[:,0:1]+x[:,1:2], x[:,0:1]-2*x[:,1:2]], axis=1)\n",
    "    # 평균은 0이지만, 분산은 아니다. \n",
    "    corr = pd.DataFrame(x).corr()\n",
    "    pos_def = np.all(np.linalg.eigvals(corr) > 0)\n",
    "\n",
    "print(corr)\n",
    "print(pos_def)"
   ]
  },
  {
   "cell_type": "code",
   "execution_count": null,
   "id": "38f15a75",
   "metadata": {},
   "outputs": [],
   "source": [
    "#cholesky: error\n",
    "#c = np.linalg.cholesky(corr)\n",
    "# LinAlgError: Matrix is not positive definite. \n",
    "\n",
    "#Eigenvalue Decomposition\n",
    "values, vectors = np.linalg.eig(corr) # positive definite하지 않아도 계산이 됨. 대신 value 중 일부가 - 일 수 있음. \n",
    "values = np.maximum(0, values) # 그래서 -를 다 0으로 바꿔줌. 이래도 되냐? 된다. 거의 비슷하게 나옴. \n",
    "B = vectors @ np.diag(np.sqrt(values))\n",
    "print(B)\n",
    "print()\n",
    "print(B @ B.T)\n",
    "print()\n",
    "\n",
    "z = np.random.randn(10000,3)\n",
    "y = z @ B.T # random number generation\n",
    "\n",
    "y = pd.DataFrame(y, columns=['z1','z2','z3'])\n",
    "print(\"Mean\")\n",
    "print(y.apply(['mean','std']))\n",
    "print()\n",
    "print(\"Correlation\")\n",
    "print(y.corr())\n",
    "\n",
    "# Correlation\n",
    "#           z1        z2        z3\n",
    "# z1  1.000000  0.709331  0.464715\n",
    "# z2  0.709331  1.000000 -0.294503\n",
    "# z3  0.464715 -0.294503  1.000000"
   ]
  },
  {
   "cell_type": "code",
   "execution_count": null,
   "id": "63a99984",
   "metadata": {
    "lines_to_next_cell": 0
   },
   "outputs": [],
   "source": [
    "#Singular value decomposition\n",
    "print(\"=== original data ===\")\n",
    "print(pd.DataFrame(x).apply(['mean','std']))\n",
    "print(pd.DataFrame(x).corr())\n",
    "print()\n",
    "\n",
    "# original data correlation\n",
    "\n",
    "#           0         1         2\n",
    "# 0  1.000000  0.700772  0.476241\n",
    "# 1  0.700772  1.000000 -0.293554\n",
    "# 2  0.476241 -0.293554  1.000000\n",
    "\n",
    "U, S, Vh = np.linalg.svd(x)\n",
    "np.allclose(U[:,:3] @ np.diag(S) @ Vh, x)\n",
    "\n",
    "B = Vh.T @ np.diag(S) / np.sqrt(len(x))\n",
    "z = np.random.randn(10000,3)\n",
    "y = z @ B.T\n",
    "\n",
    "print(\"=== simulation data ===\")\n",
    "y = pd.DataFrame(y, columns=['z1','z2','z3'])\n",
    "print(\"Mean\")\n",
    "print(y.apply(['mean','std']))\n",
    "print()\n",
    "print(\"Correlation\")\n",
    "print(y.corr())"
   ]
  },
  {
   "cell_type": "code",
   "execution_count": null,
   "id": "25f2404f",
   "metadata": {},
   "outputs": [],
   "source": [
    "\n",
    "# Correlation\n",
    "#           z1        z2        z3\n",
    "# z1  1.000000  0.697139  0.482821\n",
    "# z2  0.697139  1.000000 -0.291242\n",
    "# z3  0.482821 -0.291242  1.000000"
   ]
  }
 ],
 "metadata": {
  "jupytext": {
   "cell_metadata_filter": "-all",
   "main_language": "python",
   "notebook_metadata_filter": "-all"
  }
 },
 "nbformat": 4,
 "nbformat_minor": 5
}
