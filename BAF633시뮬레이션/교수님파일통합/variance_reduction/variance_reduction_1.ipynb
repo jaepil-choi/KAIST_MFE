{
 "cells": [
  {
   "cell_type": "code",
   "execution_count": null,
   "id": "94055ee5",
   "metadata": {
    "lines_to_next_cell": 0
   },
   "outputs": [],
   "source": [
    "import numpy as np\n",
    "from blackscholes import bsprice\n",
    "\n",
    "def mcprice_controlvariates(s,k,r,q,t,sigma,nsim,flag):\n",
    "    z = np.random.randn(nsim)\n",
    "    st = s*np.exp((r-q-0.5*sigma**2)*t + sigma*np.sqrt(t)*z)\n",
    "    callOrPut = 1 if flag.lower()=='call' else -1    \n",
    "    payoff = np.maximum(callOrPut*(st-k), 0)    \n",
    "    disc_payoff = np.exp(-r*t)*payoff\n",
    "    price = disc_payoff.mean()    \n",
    "    se = disc_payoff.std(ddof=1) / np.sqrt(nsim)\n",
    "\n",
    "    c = np.cov((disc_payoff, st), ddof=1) # covariance를 계산하고\n",
    "    cv_disc_payoff = disc_payoff - c[1,0]/c[1,1]*(st-s*np.exp((r-q)*t)) # 공분산 나누기 분산\n",
    "    cv_price = cv_disc_payoff.mean()\n",
    "    cv_se = cv_disc_payoff.std(ddof=1) / np.sqrt(nsim)\n",
    "\n",
    "    return price, se, cv_price, cv_se \n",
    "\n",
    "\n",
    "def mcprice_antithetic(s,k,r,q,t,sigma,nsim,flag):\n",
    "    z = np.random.randn(nsim)\n",
    "    st = s*np.exp((r-q-0.5*sigma**2)*t + sigma*np.sqrt(t)*z)\n",
    "    callOrPut = 1 if flag.lower()=='call' else -1    \n",
    "    payoff = np.maximum(callOrPut*(st-k), 0)    \n",
    "    disc_payoff = np.exp(-r*t)*payoff\n",
    "    price = disc_payoff.mean()    \n",
    "    se = disc_payoff.std(ddof=1) / np.sqrt(nsim)\n",
    "\n",
    "    z[nsim/2:] = -z[:nsim]\n",
    "    st = s*np.exp((r-q-0.5*sigma**2)*t + sigma*np.sqrt(t)*z)\n",
    "    payoff = np.maximum(callOrPut*(st-k), 0)    \n",
    "    disc_payoff = np.exp(-r*t)*payoff\n",
    "    price2 = disc_payoff.mean()    \n",
    "    se2 = disc_payoff.std(ddof=1) / np.sqrt(nsim)\n",
    "    return price, se, price2, se2 \n",
    "\n",
    "s, k, r, q, t, sigma = 100, 100, 0.03, 0.01, 0.25, 0.2\n",
    "flag = 'put'\n",
    "\n",
    "#Analytic Formula\n",
    "price = bsprice(s,k,r,q,t,sigma,flag)\n",
    "print(f\"   Price = {price:0.6f}\")\n",
    "print(\"-\"*50)\n",
    "#Control-Variates Simulation\n",
    "nsim = 10000\n",
    "mc_price, se, cv_price, cv_se= mcprice_controlvariates(s,k,r,q,t,sigma,nsim,flag)\n",
    "print(f\"MC Price = {mc_price:0.6f} / se = {se:0.6f}\")\n",
    "print(f\"CV Price = {cv_price:0.6f} / se = {cv_se:0.6f}\")\n",
    "print(\"-\"*50)\n",
    "#Antithetic\n",
    "mc_price, se, price2, se2= mcprice_controlvariates(s,k,r,q,t,sigma,nsim,flag)\n",
    "print(f\"MC Price = {mc_price:0.6f} / se = {se:0.6f}\")\n",
    "print(f\"Antithetic Price = {price2:0.6f} / se = {se2:0.6f}\")\n",
    "print(\"-\"*50)"
   ]
  },
  {
   "cell_type": "code",
   "execution_count": null,
   "id": "9abcba56",
   "metadata": {},
   "outputs": [],
   "source": []
  }
 ],
 "metadata": {
  "jupytext": {
   "cell_metadata_filter": "-all",
   "main_language": "python",
   "notebook_metadata_filter": "-all"
  }
 },
 "nbformat": 4,
 "nbformat_minor": 5
}
