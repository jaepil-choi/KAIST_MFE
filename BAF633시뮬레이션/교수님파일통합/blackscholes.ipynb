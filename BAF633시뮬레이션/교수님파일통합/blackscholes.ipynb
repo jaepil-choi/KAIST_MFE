{
 "cells": [
  {
   "cell_type": "code",
   "execution_count": null,
   "id": "28406160",
   "metadata": {
    "lines_to_next_cell": 0
   },
   "outputs": [],
   "source": []
  },
  {
   "cell_type": "code",
   "execution_count": null,
   "id": "21b0ca11",
   "metadata": {
    "lines_to_next_cell": 1
   },
   "outputs": [],
   "source": [
    "import numpy as np\n",
    "import scipy.stats as sst"
   ]
  },
  {
   "cell_type": "code",
   "execution_count": null,
   "id": "6f4f3455",
   "metadata": {},
   "outputs": [],
   "source": [
    "def bsprice(s, k, r, q, t, sigma, flag):\n",
    "    d1 = (np.log(s/k) + (r - q + 0.5*sigma**2)*t) / (sigma*np.sqrt(t))\n",
    "    d2 = d1 - sigma*np.sqrt(t)\n",
    "    callOrPut = 1 if flag.lower()=='call' else -1\n",
    "    nd1 = sst.norm.cdf(callOrPut*d1)\n",
    "    nd2 = sst.norm.cdf(callOrPut*d2)\n",
    "    price = callOrPut*(s*np.exp(-q*t)*nd1 - k*np.exp(-r*t)*nd2)\n",
    "    return price"
   ]
  }
 ],
 "metadata": {
  "jupytext": {
   "cell_metadata_filter": "-all",
   "main_language": "python",
   "notebook_metadata_filter": "-all"
  }
 },
 "nbformat": 4,
 "nbformat_minor": 5
}
