{
 "cells": [
  {
   "cell_type": "markdown",
   "id": "e0679233",
   "metadata": {},
   "source": [
    "# BAF633 시뮬레이션 직접 구현"
   ]
  }
 ],
 "metadata": {
  "jupytext": {
   "main_language": "python"
  }
 },
 "nbformat": 4,
 "nbformat_minor": 5
}
