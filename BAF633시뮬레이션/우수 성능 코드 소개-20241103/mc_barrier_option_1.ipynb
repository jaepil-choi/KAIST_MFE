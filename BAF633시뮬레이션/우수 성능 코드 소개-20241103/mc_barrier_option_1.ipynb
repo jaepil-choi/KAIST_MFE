{
 "cells": [
  {
   "cell_type": "markdown",
   "id": "5c2b436e",
   "metadata": {},
   "source": [
    "시뮬레이션방법론 최종과제 소스코드\n",
    "20249132 김형환"
   ]
  },
  {
   "cell_type": "code",
   "execution_count": null,
   "id": "258ab74d",
   "metadata": {
    "lines_to_next_cell": 1
   },
   "outputs": [],
   "source": [
    "import numpy as np\n",
    "import scipy.stats as sst"
   ]
  },
  {
   "cell_type": "code",
   "execution_count": null,
   "id": "46388005",
   "metadata": {},
   "outputs": [],
   "source": [
    "def mc_barrier_price(s, k, r, q, t, sigma, option_flag, n, b, barrier_flag, m):\n",
    "    n = int(n/2)\n",
    "    # Set parameters\n",
    "    dt = t/m\n",
    "    dts = np.arange(dt, t+dt, dt)\n",
    "    barrier_up, barrier_out = barrier_flag.startswith('up'), barrier_flag.endswith('out')\n",
    "    option_call = option_flag.lower() == 'call'\n",
    "    option_type = 1 if option_call else -1\n",
    "    moneyness_otm = 1 if option_type * (k - (1 + option_type * 0.2 * np.sqrt(t) * sigma) * s) >= 0 else 0\n",
    "    \n",
    "    # (1) Stratified sampling, z_t will make price at T & z will make brownian bridge\n",
    "    z_t = sst.norm.ppf((np.arange(n) + np.random.uniform(0,1,n)) / n)\n",
    "    z = np.random.randn(n,m)\n",
    "    \n",
    "    # (2) Moment matching in z_t\n",
    "    z_t = np.where(n>=100, (z_t - z_t.mean()) / z_t.std(ddof=1), z_t - z_t.mean())\n",
    "    \n",
    "    # (3) Antithetic variate\n",
    "    z_t, z = np.concatenate([z_t, -z_t], axis=0), np.concatenate([z, -z], axis=0)\n",
    "    \n",
    "    # (4) Importance sampling at z_t\n",
    "    if barrier_out:\n",
    "        if moneyness_otm: mu = (np.log(k/s) - (r-q-0.5*sigma**2)*t) / (sigma*np.sqrt(t))\n",
    "        else: mu = 0 # Knock-out & ATM, OTM then importance sampling is not applied.\n",
    "    else:\n",
    "        if barrier_up + option_call == 1: mu = 0 # Down-In call & Up-In put are not applied.\n",
    "        else: mu = (np.log(b/s) - (r-q-0.5*sigma**2)*t) / (sigma*np.sqrt(t))\n",
    "    z_t = z_t + mu\n",
    "    likelihood_ratio = np.exp(-mu*z_t + 0.5*mu**2)\n",
    "    \n",
    "    # Generate underlying paths using brownian bridge (Terminal stratification)\n",
    "    w_t, w = z_t * np.sqrt(t), z.cumsum(axis=1) * np.sqrt(dt) # winner process\n",
    "    bridge = dts * ((w_t- w[:,-1]).reshape(len(w),1) + w / dts) # brownian bridge\n",
    "    paths = s*np.exp((r-q-0.5*sigma**2)*dts + sigma*bridge) # underlying price path\n",
    "\n",
    "    # Determine whether barrier touch or not (exists payoff or not)\n",
    "    if barrier_up: knock = paths.max(axis=1) >= b\n",
    "    else: knock = paths.min(axis=1) <= b\n",
    "    if barrier_out: knock = ~knock\n",
    "    \n",
    "    # Caculate options payoff\n",
    "    plain_npv = np.maximum(option_type*(paths[:,-1]-k), 0) * np.exp(-r*t) * likelihood_ratio\n",
    "    barrier_npv = knock * plain_npv\n",
    "    \n",
    "    # (5) Control variate using plain vanilla options\n",
    "    d1 = (np.log(s/k) + (r - q + 0.5*sigma**2)*t) / (sigma*np.sqrt(t))\n",
    "    d2 = d1 - sigma*np.sqrt(t)\n",
    "    nd1, nd2 = sst.norm.cdf(option_type*d1), sst.norm.cdf(option_type*d2)\n",
    "    plain_bsprice = option_type*(s*np.exp(-q*t)*nd1 - k*np.exp(-r*t)*nd2)\n",
    "    \n",
    "    cov_npv = np.cov(barrier_npv,plain_npv,ddof=1)\n",
    "    beta = np.where(cov_npv[1,1]==0,0,cov_npv[0,1] / cov_npv[1,1])\n",
    "    barrier_CVnpv = barrier_npv - beta * (plain_npv - plain_bsprice)\n",
    "\n",
    "    barrier_price = barrier_CVnpv.mean()\n",
    "\n",
    "    return barrier_price"
   ]
  }
 ],
 "metadata": {
  "jupytext": {
   "cell_metadata_filter": "-all",
   "main_language": "python",
   "notebook_metadata_filter": "-all"
  }
 },
 "nbformat": 4,
 "nbformat_minor": 5
}
