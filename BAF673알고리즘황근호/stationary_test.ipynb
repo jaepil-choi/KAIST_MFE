{
 "cells": [
  {
   "cell_type": "code",
   "execution_count": null,
   "id": "91dc98b0",
   "metadata": {
    "lines_to_next_cell": 2
   },
   "outputs": [],
   "source": [
    "import numpy as np\n",
    "from ar1_process import ar1_process, random_walk\n",
    "import matplotlib.pyplot as plt\n",
    "from statsmodels.tsa.stattools import adfuller\n",
    "\n",
    "\n",
    "sigma = 1\n",
    "T = 200\n",
    "\n",
    "N = 1000\n",
    "c = 0\n",
    "for i in range(N):\n",
    "    y = random_walk(sigma, T)\n",
    "    adf = adfuller(y)\n",
    "    pvalue = adf[1]\n",
    "    if pvalue < 0.05:\n",
    "        c += 1\n",
    "\n",
    "## 1000번을 했을 때 50번 정도를 기각함. 유의수준을 5% 줬으니까 당연한 이야기. \n",
    "## 이렇게 우연히 기각되는 경우도 있으니 항상 주의해서 통계검정 해야 함. \n",
    "\n",
    "print(f\"Random Walk임에도 Unit root를 기각하는 비율(유의수준))\")\n",
    "print(f\"Reject H0(Random Walk): {c/N: 0.1%}\")"
   ]
  },
  {
   "cell_type": "code",
   "execution_count": null,
   "id": "6efee6c5",
   "metadata": {},
   "outputs": [],
   "source": [
    "c = 0\n",
    "phi1 = 0.99\n",
    "for i in range(N):\n",
    "    y = ar1_process(0, phi1, sigma, T)\n",
    "    adf = adfuller(y)\n",
    "    pvalue = adf[1]\n",
    "    if pvalue < 0.05:\n",
    "        c += 1\n",
    "print(f\"Stationary로 판단되는 경우의 비율 Power (AR(1) phi1={phi1}): {c/N: 0.1%}\")\n",
    "\n"
   ]
  },
  {
   "cell_type": "code",
   "execution_count": null,
   "id": "b5a89452",
   "metadata": {},
   "outputs": [],
   "source": [
    "c = 0\n",
    "phi1 = 0.5\n",
    "for i in range(N):\n",
    "    y = ar1_process(0, phi1, sigma, T)\n",
    "    adf = adfuller(y)\n",
    "    pvalue = adf[1]\n",
    "    if pvalue < 0.05:\n",
    "        c += 1\n",
    "print(f\"Stationary로 판단되는 경우의 비율 Power(AR(1) phi1={phi1}): {c/N: 0.1%}\")\n",
    "\n"
   ]
  },
  {
   "cell_type": "code",
   "execution_count": null,
   "id": "463a9682",
   "metadata": {},
   "outputs": [],
   "source": [
    "# 데이터 길이와 파라미터에 따른 Power 비교\n",
    "\n",
    "## 여기서 하신 말이, OLS 문제가 있지만 이걸 데이터 많이 써서 하면 plim으로 확률적 lim 된다고 함. \n",
    "\n",
    "import pandas as pd\n",
    "c = 0\n",
    "phi1s = [0.8, 0.9, 0.95, 0.97, 0.99]\n",
    "Ts = [100, 200, 300, 400, 500]\n",
    "powers = pd.DataFrame(index=Ts, columns=phi1s, dtype=float)\n",
    "\n",
    "for T in Ts:\n",
    "    for phi1 in phi1s:\n",
    "        print(phi1, T)\n",
    "        c = 0\n",
    "        for i in range(N):\n",
    "            y = ar1_process(0, phi1, sigma, T)\n",
    "            adf = adfuller(y)\n",
    "            pvalue = adf[1]\n",
    "            if pvalue < 0.05:\n",
    "                c += 1\n",
    "        powers.loc[T,phi1] = (c/N)"
   ]
  },
  {
   "cell_type": "code",
   "execution_count": null,
   "id": "795f7d33",
   "metadata": {
    "lines_to_next_cell": 0
   },
   "outputs": [],
   "source": [
    "powers_formatted = powers.style.format(\"{:0.2%}\")\n",
    "powers.plot(marker='o', title='Power of ADF Test', xlabel='Time Series Length', ylabel='Power', grid=True)\n",
    "\n",
    "powers_formatted\n",
    "\n",
    "## 계속 time series length를 늘려도 0.99면 거의 기각 못하는거고 다른 신뢰수준들은 그래프로 확인. "
   ]
  },
  {
   "cell_type": "code",
   "execution_count": null,
   "id": "7426972d",
   "metadata": {},
   "outputs": [],
   "source": []
  }
 ],
 "metadata": {
  "jupytext": {
   "cell_metadata_filter": "-all",
   "main_language": "python",
   "notebook_metadata_filter": "-all"
  }
 },
 "nbformat": 4,
 "nbformat_minor": 5
}
