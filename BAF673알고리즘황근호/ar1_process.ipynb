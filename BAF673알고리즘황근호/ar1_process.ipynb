{
 "cells": [
  {
   "cell_type": "code",
   "execution_count": null,
   "id": "941cead7",
   "metadata": {
    "lines_to_next_cell": 2
   },
   "outputs": [],
   "source": [
    "import numpy as np\n",
    "import pandas as pd\n",
    "import matplotlib.pyplot as plt\n",
    "\n",
    "def ar1_process(phi0, phi1, sigma, T):\n",
    "    y = np.zeros(T+1)\n",
    "    y[0] = phi0/(1-phi1)   #장기균형에서의 시작값\n",
    "    for i in range(T):\n",
    "        e = np.random.randn()\n",
    "        y[i+1] = phi0 + phi1 * y[i] + sigma * e\n",
    "    return y\n",
    "\n",
    "def random_walk(sigma, T):\n",
    "    y = np.zeros(T+1)\n",
    "    for i in range(T):\n",
    "        e = np.random.randn()\n",
    "        y[i+1] = y[i] + sigma * e\n",
    "    return y\n",
    "\n",
    "def plot_process(y, title):\n",
    "    fig, ax = plt.subplots(1, 1, figsize=(7, 4))\n",
    "    ax.plot(y)\n",
    "    ax.set_title(title)\n",
    "    ax.grid()\n",
    "    plt.show()\n",
    "\n",
    "if __name__ == '__main__':\n",
    "    phi0, phi1, sigma = 4, 0.2, 1\n",
    "    y = ar1_process(phi0, phi1, sigma, 250)\n",
    "    plot_process(y, f'$\\\\phi_0 = {phi0}, \\\\phi_1 = {phi1}, \\\\sigma = 1$')\n",
    "\n",
    "    phi0, phi1, sigma = 1, 0.8, 1\n",
    "    y = ar1_process(phi0, phi1, sigma, 250)\n",
    "    plot_process(y, f'$\\\\phi_0 = {phi0}, \\\\phi_1 = {phi1}, \\\\sigma = 1$')"
   ]
  },
  {
   "cell_type": "code",
   "execution_count": null,
   "id": "ddcd2fa0",
   "metadata": {
    "lines_to_next_cell": 2
   },
   "outputs": [],
   "source": [
    "    phi0, phi1, sigma = 0, 0.2, 1\n",
    "    y = ar1_process(phi0, phi1, sigma, 100)\n",
    "    plot_process(y, f'$\\\\phi_0 = {phi0}, \\\\phi_1 = {phi1}, \\\\sigma = 1$')\n",
    "\n",
    "    phi0, phi1, sigma = 0, 0.99, 1\n",
    "    y = ar1_process(phi0, phi1, sigma, 1000)\n",
    "    plot_process(y, f'$\\\\phi_0 = {phi0}, \\\\phi_1 = {phi1}, \\\\sigma = 1$')"
   ]
  },
  {
   "cell_type": "code",
   "execution_count": null,
   "id": "30fb3268",
   "metadata": {
    "lines_to_next_cell": 2
   },
   "outputs": [],
   "source": [
    "    # Random Walk과 AR(1) 비교\n",
    "    y = random_walk(1, 1000)\n",
    "    plot_process(y, 'Random Walk')\n",
    "\n"
   ]
  }
 ],
 "metadata": {
  "jupytext": {
   "cell_metadata_filter": "-all",
   "main_language": "python",
   "notebook_metadata_filter": "-all"
  }
 },
 "nbformat": 4,
 "nbformat_minor": 5
}
