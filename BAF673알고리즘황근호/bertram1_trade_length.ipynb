{
 "cells": [
  {
   "cell_type": "code",
   "execution_count": null,
   "id": "34791eef",
   "metadata": {
    "lines_to_next_cell": 2
   },
   "outputs": [],
   "source": [
    "import numpy as np \n",
    "import matplotlib.pyplot as plt \n",
    "import pandas as pd\n",
    "from tqdm import tqdm\n",
    "import time \n",
    "from bertram0_functions import simulate_ou_first_passage\n",
    "from bertram0_functions import phi1, phi2, INF, psi\n",
    "from bertram0_functions import expected_trade_length, variance_trade_length\n",
    "\n",
    "\n",
    "# a -> b: t1\n",
    "# b -> a: t2\n",
    "# t1 + t2 = T\n",
    "a = 0\n",
    "b = -0.3\n",
    "n = 10000\n",
    "t0 = time.time()\n",
    "m, v, n_check = simulate_ou_first_passage(a, b, 10, n)\n",
    "print(f\"E[T] = {m:.5f}\")\n",
    "print(f\"V[T] = {v:.5f}\")\n",
    "print(f\"n_check = {n_check}\")\n",
    "t1 = time.time()\n",
    "print(f\"time = {t1-t0:.5f} seconds\")"
   ]
  },
  {
   "cell_type": "code",
   "execution_count": null,
   "id": "5cd8802b",
   "metadata": {},
   "outputs": [],
   "source": [
    "#Compare simulation and analytical results\n",
    "t0 = time.time()\n",
    "exp_times = pd.DataFrame(columns=[\"simulation\", \"analytical\"])\n",
    "for b in tqdm(np.linspace(0.05, 0.5, 10)):\n",
    "    m, v, n_check = simulate_ou_first_passage(0, b, 10, n)\n",
    "    exp_t = phi1(b) - phi1(0)\n",
    "    exp_times.loc[b] = [m, exp_t]\n",
    "    # print(f\"b = {b:.2f}, time = {time.time() - t0:.5f} seconds\")\n",
    "\n",
    "exp_times.plot(marker=\"o\", linestyle=\"-\", xlabel=\"target level\", ylabel=\"E[T]\", title=\"First passage time\")"
   ]
  },
  {
   "cell_type": "code",
   "execution_count": null,
   "id": "38ffd408",
   "metadata": {
    "lines_to_next_cell": 2
   },
   "outputs": [],
   "source": [
    "b = 0.3\n",
    "#Analytical results\n",
    "exp_t1 = phi1(b) - phi1(a)\n",
    "exp_t2 = phi1(-a) - phi1(-b)\n",
    "var_t1 = phi1(b)**2 - phi2(b) + phi2(a) - phi1(a)**2 \n",
    "var_t2 = phi1(-a)**2 - phi2(-a) + phi2(-b) - phi1(-b)**2\n",
    "print(f\"(A) {a} -> (B) {b} -> (A) {a}\")\n",
    "print(f\"E[t1] = {exp_t1:.5f}, E[t2] = {exp_t2:.5f}, E[T] = {exp_t1 + exp_t2:.5f}\")\n",
    "print(f\"V[t1] = {var_t1:.5f}, V[t2] = {var_t2:.5f}, V[T] = {var_t1 + var_t2:.5f}\")"
   ]
  },
  {
   "cell_type": "code",
   "execution_count": null,
   "id": "32f27281",
   "metadata": {},
   "outputs": [],
   "source": [
    "#Trade length distribution\n",
    "print(f\"(A) {a} -> (B) {b} -> (A) {a}\")\n",
    "Et = expected_trade_length(a, b)\n",
    "Vt = variance_trade_length(a, b)\n",
    "print(f\"E[T] = {Et:.5f}\")\n",
    "print(f\"V[T] = {Vt:.5f}\")\n",
    "\n"
   ]
  },
  {
   "cell_type": "code",
   "execution_count": null,
   "id": "5465d310",
   "metadata": {
    "lines_to_next_cell": 2
   },
   "outputs": [],
   "source": [
    "aa = np.linspace(-3, 3, 101)\n",
    "bb = np.linspace(-3, 3, 101)\n",
    "Et_list = np.ones((len(aa), len(bb))) * np.nan\n",
    "Vt_list = np.ones((len(aa), len(bb))) * np.nan\n",
    "for i, a in enumerate(aa):\n",
    "    for j, b in enumerate(bb):\n",
    "        if b>a:\n",
    "            Et = expected_trade_length(a, b)\n",
    "            Vt = variance_trade_length(a, b)\n",
    "            Et_list[i, j] = Et\n",
    "            Vt_list[i, j] = Vt\n",
    "\n",
    "import matplotlib.pyplot as plt\n",
    "from mpl_toolkits.mplot3d import Axes3D\n",
    "\n",
    "fig = plt.figure()\n",
    "ax = fig.add_subplot(111, projection='3d')\n",
    "bb2, aa2 = np.meshgrid(bb, aa)\n",
    "ax.plot_surface(bb2, aa2, Et_list, cmap=\"viridis\")\n",
    "ax.set_xlabel('b')\n",
    "ax.set_ylabel('a')\n",
    "ax.set_zlabel('E[T]')\n",
    "ax.set_box_aspect([1, 1, 0.3])\n",
    "plt.show()\n",
    "\n",
    "\n",
    "\n",
    "fig = plt.figure()\n",
    "ax = fig.add_subplot(111, projection='3d')\n",
    "ax.plot_surface(bb2, aa2, Vt_list, cmap=\"viridis\")\n",
    "ax.set_xlabel('b')\n",
    "ax.set_ylabel('a')\n",
    "ax.set_zlabel('V[T]')\n",
    "ax.set_box_aspect([1, 1, 0.3])\n",
    "plt.show()"
   ]
  },
  {
   "cell_type": "code",
   "execution_count": null,
   "id": "0b82eae5",
   "metadata": {},
   "outputs": [],
   "source": []
  }
 ],
 "metadata": {
  "jupytext": {
   "cell_metadata_filter": "-all",
   "main_language": "python",
   "notebook_metadata_filter": "-all"
  }
 },
 "nbformat": 4,
 "nbformat_minor": 5
}
