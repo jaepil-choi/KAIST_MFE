{
 "cells": [
  {
   "cell_type": "code",
   "execution_count": null,
   "id": "2322f9b4",
   "metadata": {},
   "outputs": [],
   "source": [
    "import numpy as np\n",
    "import pandas as pd\n",
    "import matplotlib.pyplot as plt\n",
    "from ar1_process import ar1_process, random_walk\n",
    "from statsmodels.graphics.tsaplots import plot_acf, plot_pacf\n",
    "\n",
    "# 예시 시계열 (AR(1))\n",
    "phi0 = 0\n",
    "phi1 = 0.9\n",
    "sigma = 1\n",
    "n = 1000\n",
    "y = ar1_process(phi0, phi1, sigma, n)\n",
    "z = random_walk(sigma, n)\n",
    "\n",
    "# ACF & PACF 그리기\n",
    "fig, axes = plt.subplots(2, 1, figsize=(10, 6))\n",
    "plot_acf(y, lags=30, ax=axes[0])\n",
    "axes[0].set_title(\"ACF (Autocorrelation Function)\")\n",
    "\n",
    "plot_pacf(y, lags=30, ax=axes[1], method='ywmle')\n",
    "axes[1].set_title(\"PACF (Partial Autocorrelation Function)\")\n",
    "fig.suptitle(f\"AR(1) Process: $\\\\phi_1 = {phi1}$\")\n",
    "plt.tight_layout()\n",
    "plt.show()"
   ]
  },
  {
   "cell_type": "code",
   "execution_count": null,
   "id": "f37dacac",
   "metadata": {
    "lines_to_next_cell": 2
   },
   "outputs": [],
   "source": [
    "fig, axes = plt.subplots(2, 1, figsize=(10, 6))\n",
    "plot_acf(z, lags=30, ax=axes[0])\n",
    "axes[0].set_title(\"ACF (Autocorrelation Function)\")\n",
    "\n",
    "plot_pacf(z, lags=30, ax=axes[1], method='ywmle')\n",
    "axes[1].set_title(\"PACF (Partial Autocorrelation Function)\")\n",
    "fig.suptitle(\"Random Walk\")\n",
    "plt.tight_layout()\n",
    "plt.show()"
   ]
  },
  {
   "cell_type": "code",
   "execution_count": null,
   "id": "2bcaa136",
   "metadata": {
    "lines_to_next_cell": 2
   },
   "outputs": [],
   "source": [
    "a = sigma * np.random.randn(1000)\n",
    "fig, axes = plt.subplots(2, 1, figsize=(10, 6))\n",
    "plot_acf(a, lags=30, ax=axes[0])\n",
    "axes[0].set_title(\"ACF (Autocorrelation Function)\")\n",
    "\n",
    "plot_pacf(a, lags=30, ax=axes[1], method='ywmle')\n",
    "axes[1].set_title(\"PACF (Partial Autocorrelation Function)\")\n",
    "fig.suptitle(\"White Noise\")\n",
    "plt.tight_layout()\n",
    "plt.show()\n",
    "\n",
    "\n"
   ]
  }
 ],
 "metadata": {
  "jupytext": {
   "cell_metadata_filter": "-all",
   "main_language": "python",
   "notebook_metadata_filter": "-all"
  }
 },
 "nbformat": 4,
 "nbformat_minor": 5
}
