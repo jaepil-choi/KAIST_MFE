{
 "cells": [
  {
   "cell_type": "code",
   "execution_count": null,
   "id": "9644bf31",
   "metadata": {
    "lines_to_next_cell": 0
   },
   "outputs": [],
   "source": []
  },
  {
   "cell_type": "code",
   "execution_count": null,
   "id": "2bd187f0",
   "metadata": {
    "lines_to_next_cell": 1
   },
   "outputs": [],
   "source": [
    "import numpy as np\n",
    "from scipy.special import erfi, gamma, digamma, factorial"
   ]
  },
  {
   "cell_type": "code",
   "execution_count": null,
   "id": "33097d97",
   "metadata": {
    "lines_to_next_cell": 1
   },
   "outputs": [],
   "source": [
    "#First passage time for OU process\n",
    "#dY = -Ydt + sqrt(2)dW\n",
    "def eof(x, dt, kappa=1, theta=0):\n",
    "    return x*np.exp(-kappa*dt) + theta*(1-np.exp(-kappa*dt))"
   ]
  },
  {
   "cell_type": "code",
   "execution_count": null,
   "id": "29460a66",
   "metadata": {
    "lines_to_next_cell": 1
   },
   "outputs": [],
   "source": [
    "def vof(dt, kappa=1, theta=0, sigma=np.sqrt(2)):\n",
    "    return sigma**2/(2*kappa)*(1-np.exp(-2*kappa*dt))"
   ]
  },
  {
   "cell_type": "code",
   "execution_count": null,
   "id": "592193cc",
   "metadata": {
    "lines_to_next_cell": 1
   },
   "outputs": [],
   "source": [
    "def simulate_ou_first_passage(y0, b, years, n0):\n",
    "    n_days = 10000   #time steps per year\n",
    "    dt = 1 / n_days  #time step\n",
    "    T = years * n_days  #total time steps\n",
    "    variance = vof(dt)  #variance per time step\n",
    "    y, n = y0, n0\n",
    "    hit_time = np.zeros(T)\n",
    "    for i in range(T):\n",
    "        expected = eof(y, dt)  #expected value of Y at next time step\n",
    "        y1 = expected + np.sqrt(variance)*np.random.randn(n)  #sample from normal distribution\n",
    "        if b>y0:\n",
    "            number_passed = (y1>=b).sum()  #number of paths that have passed the target level\n",
    "            y = y1[y1<b]  #remaining paths\n",
    "        else:\n",
    "            number_passed = (y1<=b).sum()  #number of paths that have passed the target level\n",
    "            y = y1[y1>b]  #remaining paths\n",
    "        hit_time[i] = number_passed  #number of paths that have passed the target level at time i\n",
    "        n -= number_passed  #update number of remaining paths\n",
    "        \n",
    "    hit_time[i] += n  #add remaining paths to the last time step\n",
    "    times = np.arange(1,T+1) / n_days \n",
    "    avg = np.sum(hit_time*times)/n0  #average first passage time\n",
    "    var = np.sum(hit_time*times**2)/n0 - avg**2  #variance of first passage time\n",
    "    return avg, var, n"
   ]
  },
  {
   "cell_type": "code",
   "execution_count": null,
   "id": "65793780",
   "metadata": {
    "lines_to_next_cell": 1
   },
   "outputs": [],
   "source": [
    "INF = 100\n",
    "def psi(x):\n",
    "    return digamma(x) - digamma(1)"
   ]
  },
  {
   "cell_type": "code",
   "execution_count": null,
   "id": "a8537931",
   "metadata": {
    "lines_to_next_cell": 1
   },
   "outputs": [],
   "source": [
    "def phi1(x):\n",
    "    k = np.arange(1, INF)\n",
    "    return 0.5 * (gamma(k/2) * (np.sqrt(2) * x)**k / factorial(k)).sum()"
   ]
  },
  {
   "cell_type": "code",
   "execution_count": null,
   "id": "d9c15002",
   "metadata": {
    "lines_to_next_cell": 1
   },
   "outputs": [],
   "source": [
    "def phi2(x):\n",
    "    k = np.arange(1, INF)\n",
    "    return 0.5 * (gamma(k/2) * psi(k/2) * (np.sqrt(2) * x)**k / factorial(k)).sum()"
   ]
  },
  {
   "cell_type": "code",
   "execution_count": null,
   "id": "e331830c",
   "metadata": {
    "lines_to_next_cell": 1
   },
   "outputs": [],
   "source": [
    "def w1(z):\n",
    "    k = np.arange(1, INF)\n",
    "    return (0.5 * (gamma(k/2) * (np.sqrt(2) * z)**k / factorial(k)).sum())**2 \\\n",
    "            - (0.5 * ((-1)**k * gamma(k/2) * (np.sqrt(2) * z)**k / factorial(k)).sum())**2 \n",
    "def w2(z):\n",
    "    k = np.arange(1, INF)\n",
    "    return (gamma((2*k-1)/2) * psi((2*k-1)/2) * (np.sqrt(2)*z)**(2*k-1) / factorial(2*k-1)).sum()"
   ]
  },
  {
   "cell_type": "code",
   "execution_count": null,
   "id": "e0cc7989",
   "metadata": {
    "lines_to_next_cell": 1
   },
   "outputs": [],
   "source": [
    "def expected_trade_length(a, b):\n",
    "    return (erfi(b/np.sqrt(2))-erfi(a/np.sqrt(2)) ) *np.pi"
   ]
  },
  {
   "cell_type": "code",
   "execution_count": null,
   "id": "6ae7d6c1",
   "metadata": {},
   "outputs": [],
   "source": [
    "def variance_trade_length(a, b):\n",
    "    return w1(b) - w1(a) - w2(b) + w2(a)"
   ]
  }
 ],
 "metadata": {
  "jupytext": {
   "cell_metadata_filter": "-all",
   "main_language": "python",
   "notebook_metadata_filter": "-all"
  }
 },
 "nbformat": 4,
 "nbformat_minor": 5
}
