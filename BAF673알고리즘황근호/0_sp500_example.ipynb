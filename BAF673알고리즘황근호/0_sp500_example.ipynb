{
 "cells": [
  {
   "cell_type": "code",
   "execution_count": null,
   "id": "69ad8c66",
   "metadata": {},
   "outputs": [],
   "source": [
    "import pandas as pd \n",
    "import numpy as np \n",
    "import datetime\n",
    "from dateutil.relativedelta import relativedelta\n",
    "import vectorbt as vbt\n",
    "\n",
    "sp500 = pd.read_csv(\"./data/sp500_return.csv\", parse_dates=['date'], index_col=0)\n",
    "sp500_list = pd.read_csv(\"./data/sp500_list.csv\", index_col=0, parse_dates=['start','ending'])\n",
    "stock_id = pd.read_csv(\"./data/stock_id.csv\", index_col=0, parse_dates=['namedt','nameendt'])\n",
    "\n",
    "sp500.columns = sp500.columns.astype(int)\n",
    "sp500 = sp500.loc[\"2015\":]\n",
    "sp500.iloc[0] = 0.0\n",
    "sp500_prices = (1+sp500).cumprod()\n",
    "sp500_prices = sp500_prices.dropna(how=\"all\", axis=1)\n",
    "\n",
    "comnam_map = stock_id[[\"namedt\", \"permno\", \"comnam\"]].drop_duplicates().groupby([\"permno\"])[\"comnam\"].last()"
   ]
  },
  {
   "cell_type": "code",
   "execution_count": null,
   "id": "1c37cec8",
   "metadata": {
    "lines_to_next_cell": 2
   },
   "outputs": [],
   "source": [
    "# Survival Bias 예시\n",
    "# 2015년 1월 1일부터 2024년 12월 31일까지의 S&P 500 종목 목록\n",
    "d0 = datetime.datetime(2015, 1, 1)\n",
    "d1 = datetime.datetime(2024, 12, 31)\n",
    "d0_list = sp500_list[(sp500_list['start']<=d0) & (sp500_list['ending']>=d0)]['permno']\n",
    "d1_list = sp500_list[(sp500_list['start']<=d1) & (sp500_list['ending']>=d1)]['permno']\n",
    "## --> survivorship bias를 조심해야 함을 알 수 있음. \n",
    "\n",
    "\n",
    "sp500_prices = sp500_prices.loc[:,pd.concat([d0_list, d1_list]).drop_duplicates()]\n",
    "\n",
    "print(f\"{d0.strftime('%Y-%m-%d')}: # of S&P 500 stocks = {d0_list.size}\")\n",
    "print(f\"{d1.strftime('%Y-%m-%d')}: # of S&P 500 stocks = {d1_list.size}\")\n",
    "\n",
    "excluded_ids = d0_list[~d0_list.isin(d1_list)]\n",
    "excluded_stocks = comnam_map.loc[excluded_ids]\n",
    "included_ids = d1_list[~d1_list.isin(d0_list)]\n",
    "included_stocks = comnam_map.loc[included_ids]\n",
    "print(\"=\"*60)\n",
    "print(f\"excluded_ids: {excluded_ids.size}\")\n",
    "print(excluded_stocks)\n",
    "print(\"=\"*60)\n",
    "print(f\"included_ids: {included_ids.size}\")\n",
    "print(included_stocks)"
   ]
  },
  {
   "cell_type": "code",
   "execution_count": null,
   "id": "106e6ece",
   "metadata": {},
   "outputs": [],
   "source": [
    "init_cash = 10000.0\n",
    "\n",
    "#2015-01-01 기준 포트폴리오\n",
    "orders = pd.DataFrame(index=sp500_prices.index, columns=sp500_prices.columns, data=0, dtype=float)\n",
    "orders.loc[\"2015-01-02\", d0_list] = init_cash/d0_list.size\n",
    "#orders.loc[:, d1_list.astype(str)] = 1.0/d1_list.size\n",
    "\n",
    "pf0 = vbt.Portfolio.from_orders(\n",
    "    close=sp500_prices,   #.loc[order.index, order.columns], \n",
    "    size=orders,\n",
    "    init_cash=init_cash,\n",
    "    cash_sharing=True,\n",
    "    size_type='value',\n",
    "    call_seq='auto',\n",
    "    freq='D')\n",
    "\n",
    "stat0 = pf0.stats()\n",
    "order_record0 = pf0.orders.records_readable\n",
    "\n",
    "\n",
    "#2024-12-31 기준 포트폴리오\n",
    "orders = pd.DataFrame(index=sp500_prices.index, columns=sp500_prices.columns, data=0, dtype=float)\n",
    "orders.loc[\"2015-01-02\", d1_list] = init_cash/d1_list.size\n",
    "\n",
    "pf1 = vbt.Portfolio.from_orders(\n",
    "    close=sp500_prices,   #.loc[order.index, order.columns], \n",
    "    size=orders,\n",
    "    init_cash=init_cash,\n",
    "    cash_sharing=True,\n",
    "    size_type='value',\n",
    "    call_seq='auto',\n",
    "    freq='D')\n",
    "\n",
    "stat1 = pf1.stats()\n",
    "order_record1 = pf1.orders.records_readable"
   ]
  },
  {
   "cell_type": "code",
   "execution_count": null,
   "id": "9850edc7",
   "metadata": {},
   "outputs": [],
   "source": [
    "import matplotlib.pyplot as plt\n",
    "fig, ax = plt.subplots(1,1, figsize=(12,8))\n",
    "values = pd.concat([pf0.value(), pf1.value()], axis=1)\n",
    "values.columns = ['Portfolio 0', 'Portfolio 1']\n",
    "values.plot(ax=ax)\n",
    "\n",
    "## 선견편향의 효과를 보여준다. survivorship bias 로 인한 차이. \n",
    "\n"
   ]
  },
  {
   "cell_type": "code",
   "execution_count": null,
   "id": "a56e14a2",
   "metadata": {},
   "outputs": [],
   "source": []
  }
 ],
 "metadata": {
  "jupytext": {
   "cell_metadata_filter": "-all",
   "main_language": "python",
   "notebook_metadata_filter": "-all"
  }
 },
 "nbformat": 4,
 "nbformat_minor": 5
}
