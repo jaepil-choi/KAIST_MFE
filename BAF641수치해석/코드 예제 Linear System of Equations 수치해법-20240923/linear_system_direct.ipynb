{
 "cells": [
  {
   "cell_type": "code",
   "execution_count": null,
   "id": "f4f9b185",
   "metadata": {},
   "outputs": [],
   "source": [
    "import numpy as np\n",
    "from scipy.linalg import lu\n",
    "from numpy.linalg import eig, cholesky, qr, svd\n",
    "import time\n",
    "\n",
    "# 예제 행렬 A와 벡터 b 정의\n",
    "A = np.array([[1,2,3],[3,2,1],[5,1,1]], dtype=float)\n",
    "b = np.array([12,10,8], dtype=float)\n",
    "\n",
    "#\n",
    "A = np.random.randn(100,100) # 큰거 구할 때 예시\n",
    "b = np.random.randn(100)\n",
    "\n",
    "###################################\n",
    "# Forward / Backward Substitution\n",
    "###################################\n",
    "def forward(L, b): # 아래 삼각형 L, 백터 y, 곱하면 Pb\n",
    "    # 전방 대입 (Ly = Pb)\n",
    "    y = np.zeros_like(b)\n",
    "    y[0] = b[0]/L[0,0]\n",
    "    for i in range(1,len(y)): # 직전까지 row의 값들을 가져와 y의 i 전까지의 값 내적 구하면 scalar 나오고,... \n",
    "        y[i] = (b[i] - np.dot(L[i, :i], y[:i])) / L[i,i] # L로 나눠주고\n",
    "    return y\n",
    "\n",
    "def backward(U, y): # 아래에서 위로 올라옴. 맨 마지막부터. \n",
    "    # 후방 대입 (Ux = y)\n",
    "    x = np.zeros_like(y)\n",
    "    x[-1] = y[-1] / U[-1,-1]\n",
    "    for i in range(len(x)-2, -1, -1):\n",
    "        x[i] = (y[i] - np.dot(U[i, i+1:], x[i+1:])) / U[i, i] # i+1 부터 뒷부분부터 계산\n",
    "    return x"
   ]
  },
  {
   "cell_type": "code",
   "execution_count": null,
   "id": "408610b1",
   "metadata": {},
   "outputs": [],
   "source": [
    "###################################\n",
    "# LU Decomposition\n",
    "###################################\n",
    "# LU 분해 수행: A = P @ L @ U\n",
    "P, L, U = lu(A)\n",
    "Pb = np.dot(P.T, b)\n",
    "y = forward(L, Pb)\n",
    "x = backward(U, y)\n",
    "\n",
    "# 결과 출력\n",
    "print(\"Solution x from PLU decomposition:\")\n",
    "print(x)\n",
    "\n",
    "print(\"\\nSolution x from A inverse\")\n",
    "print(np.linalg.inv(A).dot(b))"
   ]
  },
  {
   "cell_type": "code",
   "execution_count": null,
   "id": "efc538ff",
   "metadata": {},
   "outputs": [],
   "source": [
    "###################################\n",
    "#cholesky decomposition\n",
    "###################################\n",
    "#check whether A is positive definite\n",
    "eigen_values, eigen_vectors = eig(A)\n",
    "print(eigen_values)\n",
    "#c = cholesky(A)  #error --> A is not positive definite"
   ]
  },
  {
   "cell_type": "code",
   "execution_count": null,
   "id": "aa74043f",
   "metadata": {
    "lines_to_next_cell": 2
   },
   "outputs": [],
   "source": [
    "B = A.T @ A # positive definite이 된다. symmetric하다. \n",
    "print(\"B = \\n\", B, '\\n')\n",
    "\n",
    "eigen_values, eigen_vectors = eig(B) # eigen values 다 + 임. \n",
    "print(\"Eigen values = \", eigen_values)\n",
    "\n",
    "c = cholesky(B)  #A = c@c' # lower triangular matrix를 c로 뒀다. \n",
    "# 교안에서 R은 upper triangular matrix로 뒀다.\n",
    "print(np.allclose(B, c@c.T), \"\\n\")\n",
    "\n",
    "y = forward(c, b)\n",
    "x = backward(c.T, y)\n",
    "print(\"Solution x from Cholesky decomposition:\")\n",
    "print(x)\n",
    "\n",
    "print(\"\\nSolution x from A inverse\")\n",
    "print(np.linalg.inv(B).dot(b)) # 촐레스키나 이거나 같다."
   ]
  },
  {
   "cell_type": "code",
   "execution_count": null,
   "id": "5a2bcd0c",
   "metadata": {},
   "outputs": [],
   "source": [
    "###################################\n",
    "#QR decomposition\n",
    "###################################\n",
    "Q, R = qr(A) # 당연히 True \n",
    "print(np.allclose(A, Q@R))\n",
    "\n",
    "x = backward(R, Q.T @ b)\n",
    "print(\"Solution x from QR decomposition:\")\n",
    "print(x)\n",
    "\n",
    "print(\"\\nSolution x from A inverse\")\n",
    "print(np.linalg.inv(A).dot(b))\n",
    "\n",
    "## 둘이 같게 나오는 것 확인. "
   ]
  },
  {
   "cell_type": "code",
   "execution_count": null,
   "id": "cea2d4ba",
   "metadata": {
    "lines_to_next_cell": 0
   },
   "outputs": [],
   "source": [
    "###################################\n",
    "#SVD decomposition\n",
    "###################################\n",
    "U, S, Vh = svd(A)\n",
    "print(np.allclose(A, U @ np.diag(S) @ Vh)) # diagonal 로 matrix 만들어줌. \n",
    "\n",
    "x = Vh.T @ np.diag(1/S) @ U.T @ b # forward back substitution이 없어도 된다. \n",
    "print(\"Solution x from SVD decomposition:\")\n",
    "print(x) # A랑 똑같아진다. \n",
    "\n",
    "print(\"\\nSolution x from A inverse\")\n",
    "print(np.linalg.inv(A).dot(b))"
   ]
  },
  {
   "cell_type": "code",
   "execution_count": null,
   "id": "5b32133a",
   "metadata": {},
   "outputs": [],
   "source": []
  }
 ],
 "metadata": {
  "jupytext": {
   "cell_metadata_filter": "-all",
   "main_language": "python",
   "notebook_metadata_filter": "-all"
  }
 },
 "nbformat": 4,
 "nbformat_minor": 5
}
