{
 "cells": [
  {
   "cell_type": "code",
   "execution_count": null,
   "id": "aafdc94c",
   "metadata": {
    "lines_to_next_cell": 2
   },
   "outputs": [],
   "source": [
    "import numpy as np\n",
    "import matplotlib.pyplot as plt \n",
    "\n",
    "# 예제 행렬 A와 벡터 b 정의\n",
    "A = np.array([[1,2,3],[3,2,1],[5,1,1]], dtype=float)\n",
    "A = A.T@A\n",
    "b = np.array([12,10,8], dtype=float)\n",
    "\n",
    "print(\"\\nSolution x from A inverse\")\n",
    "sol = np.linalg.inv(A).dot(b)\n",
    "print(sol)"
   ]
  },
  {
   "cell_type": "code",
   "execution_count": null,
   "id": "6dbd56b8",
   "metadata": {},
   "outputs": [],
   "source": [
    "#Gauss-Seidel\n",
    "n = len(b)\n",
    "x = np.ones(n) #initial value\n",
    "idx = np.arange(n)\n",
    "iter = 50 # 원래는 iteration을 정하는게 아니라 수렴할때 까지 하고 수렴 조건을 정하는 것임. \n",
    "xs = np.empty((iter,n))\n",
    "for j in range(iter):\n",
    "    for i in range(n):\n",
    "        mask = idx!=i # 마스킹. 업데이트하려는 i번째를 제외하고 가져온다. \n",
    "        x[i] = (b[i] - (A[i,mask] * x[mask]).sum()) / A[i,i]\n",
    "    xs[j,:] = x\n",
    "\n",
    "plt.plot(xs,'.-')\n",
    "for i in range(n):\n",
    "    plt.plot(np.arange(iter), np.ones(iter)*sol[i], \":y\")"
   ]
  },
  {
   "cell_type": "code",
   "execution_count": null,
   "id": "3601e31e",
   "metadata": {
    "lines_to_next_cell": 0
   },
   "outputs": [],
   "source": [
    "#SOR\n",
    "omega = 0.8 # 이거 바꾸면 변화 볼 수 있음. \n",
    "n = len(b)\n",
    "x = np.ones(n) #initial value\n",
    "iter = 50\n",
    "xs = np.empty((iter,n))\n",
    "for j in range(iter):\n",
    "    for i in range(n):\n",
    "        x[i] = x[i] + omega * (b[i] - (A[i,:] * x).sum()) / A[i,i]\n",
    "    xs[j,:] = x\n",
    "\n",
    "plt.plot(xs,'.-')\n",
    "for i in range(n):\n",
    "    plt.plot(np.arange(iter), np.ones(iter)*sol[i], \":y\")"
   ]
  },
  {
   "cell_type": "code",
   "execution_count": null,
   "id": "7658655d",
   "metadata": {},
   "outputs": [],
   "source": []
  }
 ],
 "metadata": {
  "jupytext": {
   "cell_metadata_filter": "-all",
   "main_language": "python",
   "notebook_metadata_filter": "-all"
  }
 },
 "nbformat": 4,
 "nbformat_minor": 5
}
