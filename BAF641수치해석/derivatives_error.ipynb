{
 "cells": [
  {
   "cell_type": "code",
   "execution_count": null,
   "id": "9caee46e",
   "metadata": {},
   "outputs": [],
   "source": []
  },
  {
   "cell_type": "code",
   "execution_count": null,
   "id": "f34f790f",
   "metadata": {},
   "outputs": [],
   "source": [
    "import numpy as np \n",
    "import matplotlib.pyplot as plt \n",
    "def fun(x):\n",
    "    return np.cos(x**x) - np.sin(np.exp(x))\n",
    "\n",
    "def fprime(x):\n",
    "    return -np.sin(x**x)*(x**x)*(np.log(x)+1)  - np.cos(np.exp(x))*np.exp(x)\n",
    "\n",
    "\n",
    "x = np.linspace(0.5,2.5,101)\n",
    "y = fun(x)\n",
    "plt.plot(x,y,'-')"
   ]
  },
  {
   "cell_type": "code",
   "execution_count": null,
   "id": "6071d211",
   "metadata": {
    "lines_to_next_cell": 2
   },
   "outputs": [],
   "source": [
    "x = 1.5 # 이 점에서의 미분계수를 구해보자. \n",
    "d = fprime(x) # 이건 analytic solution\n",
    "print(\"derivative = \", d)"
   ]
  },
  {
   "cell_type": "code",
   "execution_count": null,
   "id": "9ae8d38f",
   "metadata": {},
   "outputs": [],
   "source": [
    "p = np.linspace(1,16,151)\n",
    "h = 10**(-p)\n",
    "\n",
    "def forward_difference(x,h): # 수치적 방법들\n",
    "    return (fun(x+h)-fun(x)) / h\n",
    "\n",
    "def central_difference(x,h):\n",
    "    return (fun(x+h)-fun(x-h)) / (2*h)\n",
    "\n",
    "fd = forward_difference(x, h)\n",
    "cd = central_difference(x, h)\n",
    "print(\"forward = \", fd)\n",
    "print(\"central = \", cd)\n",
    "\n",
    "fd_error = np.log(np.abs(fd-d)/np.abs(d)) # 로그로 바꿔서 지수끼리만 계산할 수 있도록. \n",
    "cd_error = np.log(np.abs(cd-d)/np.abs(d))\n",
    "plt.plot(p,fd_error, p, cd_error)\n",
    "plt.legend(['forward difference', 'central difference'])\n",
    "\n",
    "# 해석\n",
    "# - 가로축이 h. 2, 4, 등의 단위는 10^-2, 10^-4 를 나타냄. \n",
    "# - 세로축이 오차를 log scale로 쓴 것. \n",
    "# - forward 가 central보다 훨씬 빨리 줄어든다. (order of h^2라서)\n",
    "# - 직선처럼 줄어드는 것: truncation error 줄어드는 것. \n",
    "# - 올라가는 것, 불규칙하게 올라가는데, rounding error 때문에 올라가는 것. \n",
    "# - 적절한 h를 찾는 것이 목표니 제일 작은 h 값의 위치를 고르면 된다. \n",
    "# - 그래서 다른 코드들에서도 대략적으로 h를 10^-6 정도로 잡는다. 이것이 best practice. "
   ]
  }
 ],
 "metadata": {
  "jupytext": {
   "cell_metadata_filter": "-all",
   "main_language": "python",
   "notebook_metadata_filter": "-all"
  }
 },
 "nbformat": 4,
 "nbformat_minor": 5
}
