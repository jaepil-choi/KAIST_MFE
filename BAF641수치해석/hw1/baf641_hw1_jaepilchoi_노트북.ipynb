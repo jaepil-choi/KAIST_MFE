{
 "cells": [
  {
   "cell_type": "markdown",
   "id": "8567e44f",
   "metadata": {},
   "source": [
    "# BAF641 수치해석 노트북\n",
    "\n",
    "20249433 최재필"
   ]
  },
  {
   "cell_type": "markdown",
   "id": "75f4faa1",
   "metadata": {},
   "source": [
    "## 1. PSOR로 American plain-vanilla 구하기"
   ]
  },
  {
   "cell_type": "code",
   "execution_count": null,
   "id": "423b54d4",
   "metadata": {},
   "outputs": [],
   "source": []
  },
  {
   "cell_type": "markdown",
   "id": "f9de734c",
   "metadata": {},
   "source": [
    "## 2. 2 factor FDM의 ADI, OSM 방법의 단계별 선형방정식"
   ]
  },
  {
   "cell_type": "code",
   "execution_count": null,
   "id": "0701f4be",
   "metadata": {},
   "outputs": [],
   "source": []
  },
  {
   "cell_type": "markdown",
   "id": "d6ee4891",
   "metadata": {},
   "source": [
    "## 3. 기초자산 2개인 Binary Option 가격의 평가"
   ]
  },
  {
   "cell_type": "markdown",
   "id": "35637991",
   "metadata": {},
   "source": []
  }
 ],
 "metadata": {
  "kernelspec": {
   "display_name": ".venv",
   "language": "python",
   "name": "python3"
  }
 },
 "nbformat": 4,
 "nbformat_minor": 5
}
