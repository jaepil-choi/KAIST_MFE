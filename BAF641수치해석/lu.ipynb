{
 "cells": [
  {
   "cell_type": "code",
   "execution_count": null,
   "id": "1953bc84",
   "metadata": {},
   "outputs": [],
   "source": [
    "import numpy as np\n",
    "from scipy.linalg import lu\n",
    "\n",
    "# 예제 행렬 A와 벡터 b 정의\n",
    "A = np.array([[1,2,3],[3,2,1],[5,1,1]], dtype=float)\n",
    "b = np.array([12,10,8], dtype=float)\n",
    "\n",
    "# LU 분해 수행\n",
    "P, L, U = lu(A)\n",
    "\n",
    "# 전방 대입 (Ly = Pb)\n",
    "Pb = np.dot(P.T, b)\n",
    "y = np.zeros_like(b)\n",
    "y[0] = Pb[0]/L[0,0]\n",
    "for i in range(1,len(y)):\n",
    "    y[i] = (Pb[i] - np.dot(L[i, :i], y[:i])) / L[i,i]\n",
    "\n",
    "# 후방 대입 (Ux = y)\n",
    "x = np.zeros_like(y)\n",
    "x[-1] = y[-1] / U[-1,-1]\n",
    "for i in range(len(x)-2, -1, -1):\n",
    "    x[i] = (y[i] - np.dot(U[i, i+1:], x[i+1:])) / U[i, i]\n",
    "\n",
    "# 결과 출력\n",
    "print(\"Solution x from PLU 분해:\")\n",
    "print(x)\n",
    "\n",
    "print(\"\\nSolution x from A inverse\")\n",
    "print(np.linalg.inv(A).dot(b))"
   ]
  }
 ],
 "metadata": {
  "jupytext": {
   "cell_metadata_filter": "-all",
   "main_language": "python",
   "notebook_metadata_filter": "-all"
  }
 },
 "nbformat": 4,
 "nbformat_minor": 5
}
