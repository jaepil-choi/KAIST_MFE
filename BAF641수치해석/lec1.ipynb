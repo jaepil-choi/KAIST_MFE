{
 "cells": [
  {
   "cell_type": "markdown",
   "id": "a8a77b60",
   "metadata": {},
   "source": [
    "# Lecture 1: 금융수치해석소개\n"
   ]
  },
  {
   "cell_type": "markdown",
   "id": "b9a81653",
   "metadata": {},
   "source": []
  }
 ],
 "metadata": {
  "jupytext": {
   "main_language": "python"
  }
 },
 "nbformat": 4,
 "nbformat_minor": 5
}
