{
 "cells": [
  {
   "cell_type": "code",
   "execution_count": null,
   "id": "c0b571f9",
   "metadata": {},
   "outputs": [],
   "source": [
    "from blackscholes import bsprice\n",
    "from fdm import fdm_vanilla_option, exfdm_vanilla_option\n",
    "import numpy as np \n",
    "import time\n",
    "\n",
    "\n",
    "### 기본 파라미터\n",
    "s = 100\n",
    "k = 100\n",
    "r = 0.03\n",
    "q = 0.01\n",
    "t = 0.25\n",
    "sigma = 0.2\n",
    "optionType = 'put'\n",
    "\n",
    "#Analytic Formula\n",
    "t0 = time.time()\n",
    "price = bsprice(s,k,r,q,t,sigma,optionType)\n",
    "print(f\"Analytic Price = {price:0.6f}\")\n",
    "print(\"computation time = \", time.time()-t0, \"\\n\")\n",
    "\n",
    "\n",
    "## 이러면 주가의 max가 100*2가 적절하냐? 는 정하기 나름임. \n",
    "maxS, n, m = s*2, 1000, 10000 # n는 주가의 갯수, m은 시간의 갯수\n",
    "t0 = time.time()\n",
    "v, ex_price = exfdm_vanilla_option(s, k, r, q, t, sigma, optionType, # explicit으로 계산\n",
    "                                   maxS, n, m)\n",
    "print(f\"EX-FDM Price = {ex_price:0.6f}\")\n",
    "print(\"computation time = \", time.time()-t0, \"\\n\")\n",
    "\n",
    "t0 = time.time()\n",
    "v, ex_price = fdm_vanilla_option(s, k, r, q, t, sigma, optionType, # explicit\n",
    "                                   maxS, n, m, 0)\n",
    "print(f\"EX-FDM Price = {ex_price:0.6f}\")\n",
    "print(\"computation time = \", time.time()-t0, \"\\n\")\n",
    "\n",
    "t0 = time.time()\n",
    "v, im_price = fdm_vanilla_option(s, k, r, q, t, sigma, optionType, # implicit\n",
    "                                   maxS, n, m)\n",
    "print(f\"IM-FDM Price = {im_price:0.6f}\")\n",
    "print(\"computation time = \", time.time()-t0, \"\\n\")\n",
    "\n",
    "t0 = time.time()\n",
    "v, cn_price = fdm_vanilla_option(s, k, r, q, t, sigma, optionType, # 0.5를 주면 Crank-Nicolson\n",
    "                                   maxS, n, m, 0.5)\n",
    "print(f\"CN-FDM Price = {cn_price:0.6f}\")\n",
    "print(\"computation time = \", time.time()-t0, \"\\n\")"
   ]
  }
 ],
 "metadata": {
  "jupytext": {
   "cell_metadata_filter": "-all",
   "main_language": "python",
   "notebook_metadata_filter": "-all"
  }
 },
 "nbformat": 4,
 "nbformat_minor": 5
}
