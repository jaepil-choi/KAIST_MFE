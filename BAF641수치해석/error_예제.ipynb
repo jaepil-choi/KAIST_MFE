{
 "cells": [
  {
   "cell_type": "code",
   "execution_count": null,
   "id": "a045251b",
   "metadata": {},
   "outputs": [],
   "source": [
    "import numpy as np"
   ]
  },
  {
   "cell_type": "code",
   "execution_count": null,
   "id": "dd901149",
   "metadata": {},
   "outputs": [],
   "source": [
    "a = 0.1"
   ]
  },
  {
   "cell_type": "code",
   "execution_count": null,
   "id": "0eaa0721",
   "metadata": {},
   "outputs": [],
   "source": [
    "a + a"
   ]
  },
  {
   "cell_type": "code",
   "execution_count": null,
   "id": "63e91385",
   "metadata": {},
   "outputs": [],
   "source": [
    "a + a + a"
   ]
  },
  {
   "cell_type": "code",
   "execution_count": null,
   "id": "4ca298c0",
   "metadata": {},
   "outputs": [],
   "source": [
    "3 * a == 0.3"
   ]
  },
  {
   "cell_type": "code",
   "execution_count": null,
   "id": "372b5833",
   "metadata": {},
   "outputs": [],
   "source": [
    "4 * a == 0.4"
   ]
  },
  {
   "cell_type": "markdown",
   "id": "ae6f870c",
   "metadata": {},
   "source": [
    "컴퓨터는 이진수기 때문에 표현 안되는 숫자들이 있다. \n",
    "\n",
    "그래서 truncation error을 피하기 위해 무조건 작은 epsilon을 쓰는 것이 장땡이 아니게 되는 것임. "
   ]
  }
 ],
 "metadata": {
  "kernelspec": {
   "display_name": ".venv",
   "language": "python",
   "name": "python3"
  }
 },
 "nbformat": 4,
 "nbformat_minor": 5
}
