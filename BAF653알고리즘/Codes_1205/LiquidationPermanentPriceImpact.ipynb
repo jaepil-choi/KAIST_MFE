{
 "cells": [
  {
   "cell_type": "markdown",
   "id": "cb886941",
   "metadata": {},
   "source": [
    "## Liquidation with Permanent Price Impact"
   ]
  },
  {
   "cell_type": "markdown",
   "id": "a7921451",
   "metadata": {
    "jp-MarkdownHeadingCollapsed": true
   },
   "source": [
    "### Introduction\n",
    "\n",
    "The agent controls their speed of trading $\\nu$, and assumes that she receives an execution price of\n",
    "$$\n",
    "S_t^{\\nu} - k\\, Q_t^{\\nu}\n",
    "$$\n",
    "which is linear in her trading rate to account for the cost of walking the limit order book. Furthermore, her trading induces a drift in the asset price, which is otherwise assmed to be a Brownian motion. Hence, $S^{\\nu}_t$ satisfies the SDE\n",
    "$$\n",
    "dS_t^\\nu = a \\,\\nu_t\\,dt + \\sigma \\, dW_t\n",
    "$$\n",
    "She aims to maximize the  performance criterion \n",
    "$$\n",
    "\\mathbb{E}\\Big[ X_T^{\\nu} + Q_T^{\\nu}(S_T^{\\nu} - \\alpha Q_T^{\\nu}) - \\phi \\int_0^T (Q_u^{\\nu})^2\\, du\\Big]\n",
    "$$\n",
    "where $X_T^\\nu$ is the total cash from trading, and the term $\\alpha\\,(Q_T^\\nu)^2$ represents a penalty on holding terminal inventory (which we will send to infinity to guarantee liquidation)."
   ]
  },
  {
   "cell_type": "markdown",
   "id": "68f8be3b",
   "metadata": {},
   "source": [
    "### Solving DPE\n",
    "\n",
    "The dynamic programming principle implies that the value function satisfies the $\\textbf{HJB}$ equation\n",
    "\\begin{equation}\n",
    "0 = (\\partial_t + \\tfrac{1}{2}\\sigma^2\\partial_{SS})H - \\phi q^2 + \\sup_{\\nu}\\{(\\nu(S - f(\\nu))\\partial_x - g(\\nu) \\partial_S - \\nu \\partial_q)H\\}\n",
    "\\end{equation}\n",
    "\n",
    "subject to the terminal condition $H(T,x,S,q) = x + Sq - \\alpha q^2$.\n",
    "\n",
    "For the case of linear impact functions $f(\\nu)=k\\,\\nu$ and $g(\\nu)=b\\,\\nu$, the  $\\textbf{DPE}$ can be solved explicitly and the optimal speed to trade is\n",
    "\\begin{equation}\n",
    "\\nu_t^* = \\gamma \\frac{\\zeta e^{\\gamma(T-t)} + e^{-\\gamma(T-t)}}{\\zeta e^{\\gamma(T-t)} - e^{-\\gamma(T-t)}}\\, Q_t^{{\\nu}^*}\n",
    "\\end{equation}\n",
    "\n",
    "From this equation, it is also possible to obtain the agent's inventory $Q_t^{\\nu^*}$ that results from following this strategy.\n",
    "\n",
    "\\begin{equation}\n",
    "Q_t^{\\nu^*} = \\frac{\\zeta e^{\\gamma(T-t)} + e^{-\\gamma(T-t)}}{\\zeta e^{\\gamma(T-t)} - e^{-\\gamma(T-t)}} \\,Q_0.\n",
    "\\end{equation}\n",
    "\n",
    "Now we show the implementation of the optimal speed to trade at and inventory along the optimal strategy in the following code."
   ]
  },
  {
   "cell_type": "code",
   "execution_count": null,
   "id": "73c47e09",
   "metadata": {},
   "outputs": [],
   "source": [
    "# Import necessary libraries\n",
    "import numpy as np\n",
    "import import_ipynb\n",
    "import matplotlib.pyplot as plt"
   ]
  },
  {
   "cell_type": "markdown",
   "id": "6f554b0f",
   "metadata": {},
   "source": [
    "The following code computes the optimal speed to trade at $\\nu_t^*$ and inventory along the optimal strategy $Q_t^{\\nu^*}$."
   ]
  },
  {
   "cell_type": "code",
   "execution_count": null,
   "id": "218bf066",
   "metadata": {},
   "outputs": [],
   "source": [
    "# Parameter settings\n",
    "T = 1\n",
    "Ndt = 6.5 * 3600 # 1 day = 6.5 hours = 6.5 * 3600 seconds\n",
    "dt = T / Ndt\n",
    "t = np.arange(0, T + dt, dt)\n",
    "\n",
    "k = 0.001\n",
    "b = 0.001\n",
    "\n",
    "tau = T - t\n",
    "tt = np.arange(0, 1 + 1 / 10, 1 / 10) # time points to be marked\n",
    "\n",
    "myphi = np.array([10e-10, 0.001, 0.01, 0.1])\n",
    "symb = np.array([\"o\", \"*\", \"+\", \"^\"])\n",
    "\n",
    "alpha = 100"
   ]
  },
  {
   "cell_type": "code",
   "execution_count": null,
   "id": "1cb7855c",
   "metadata": {},
   "outputs": [],
   "source": [
    "# Functions\n",
    "def inter_extrapolation(x, y, e):\n",
    "    \"\"\" Extrapolation and interpolation.\n",
    "    \n",
    "    :param x: a numpy array\n",
    "    :param y: a numpy array\n",
    "    :param e: a numpy array, equivalent of x\n",
    "    :return: a numpy array\n",
    "    \"\"\"\n",
    "    new_x = np.sort(x)\n",
    "    new_y = y[np.argsort(x)]\n",
    "\n",
    "    def point_wise(ep):\n",
    "        if ep < new_x[0]:\n",
    "            return new_y[0] + (ep - new_x[0]) * (new_y[1] - new_y[0]) / (new_x[1] - new_x[0])\n",
    "        elif ep > new_x[-1]:\n",
    "            return new_y[-1] + (ep - new_x[-1]) * (new_y[-1] - new_y[-2]) / (new_x[-1] - new_x[-2])\n",
    "        else:\n",
    "            return np.interp([ep], x, y)[0]\n",
    "    return np.array([point_wise(i) for i in e])\n",
    "\n",
    "def calculate_inventory_trading_speed(alpha, phi, t, tt, T, b, k):\n",
    "    \"\"\" For given points t, this function solve for the optimal speed of trading as nu, and investor's inventory along the\n",
    "        optimal path as Q. \n",
    "        This function also returns optimal speed of trading as nut, and investor's inventory along the optimal path Qt as a\n",
    "        function of time, tt, which is a vector of time points to be marked.\n",
    "    \"\"\"\n",
    "    tau = T - t\n",
    "    zeta = ((alpha - 0.5 * b) + np.sqrt(k * phi)) / ((alpha - 0.5 * b) - np.sqrt(k * phi))\n",
    "    gamma = np.sqrt(phi / k)\n",
    "    chi = np.sqrt(k * phi) * np.divide(1 + zeta * np.exp(2 * gamma * tau), 1 - zeta * np.exp(2 * gamma * tau))\n",
    "    Q = np.divide(zeta * np.exp(gamma * tau) - np.exp(-gamma * tau), zeta * np.exp(gamma * T) - np.exp(-gamma * T))\n",
    "    nu = np.multiply(-chi, Q) / k\n",
    "    Qt = inter_extrapolation(t, Q, tt)\n",
    "    nut = inter_extrapolation(t, nu, tt)\n",
    "    return Q, nu, Qt, nut\n",
    "\n",
    "\n",
    "def plot_inventory_trading_speed(alpha0, phi, symb, t, tt, T, b, k, labels, main):\n",
    "    \"\"\" This function plots the optimal inventory & trading speed paths using above function\n",
    "        to calculate inventory and speed of tading vs time.\n",
    "    \"\"\"\n",
    "    fig, (ax_inv, ax_trad) = plt.subplots(ncols=2)\n",
    "    fig.set_size_inches(10.5, 5.5)\n",
    "    color_idx = np.linspace(0, 1, phi.shape[0])\n",
    "    for i, line in zip(color_idx, range(0, phi.shape[0])):\n",
    "        inv_line, trad_line, inv_dot, trad_dot = calculate_inventory_trading_speed(alpha0, phi[line], t, tt, T, b, k)\n",
    "        plt1, = ax_inv.plot(tt, inv_dot, color=plt.cm.rainbow(i), label=labels[line], marker=symb[line], linestyle='None')\n",
    "        plt2, = ax_trad.plot(tt, trad_dot, color=plt.cm.rainbow(i), label=labels[line], marker=symb[line], linestyle='None')\n",
    "        plt3, = ax_inv.plot(t, inv_line, linestyle='-', color=plt.cm.rainbow(i))\n",
    "        plt4, = ax_trad.plot(t, trad_line, linestyle='-', color=plt.cm.rainbow(i))\n",
    "    ax_inv.legend()\n",
    "    ax_inv.set_xlabel(r\"Time\", fontsize=18)\n",
    "    ax_inv.set_ylabel(r\"Inventory\", fontsize=18)\n",
    "    ax_trad.legend()\n",
    "    ax_trad.set_xlabel(r\"Time\", fontsize=18)\n",
    "    ax_trad.set_ylabel(r\"Trading Speed\", fontsize=18)\n",
    "    ax_trad.yaxis.set_label_coords(-0.1,0.5)\n",
    "    plt.suptitle(main, fontsize=20)\n",
    "    fig.canvas.draw()"
   ]
  },
  {
   "cell_type": "markdown",
   "id": "f5a0693d",
   "metadata": {},
   "source": [
    "Now we use show the change of the investor's inventory along the optimal path for various levels of the running penalty $\\phi$ as $\\alpha$ changes."
   ]
  },
  {
   "cell_type": "code",
   "execution_count": null,
   "id": "e231b6e9",
   "metadata": {},
   "outputs": [],
   "source": [
    "# Plot figures\n",
    "plot_inventory_trading_speed(0.01, myphi, symb, t, tt, T, b, k, [r\"$\\phi = $\" + str(i) for i in myphi], main=r\"$\\alpha = 0.01$\")\n",
    "plot_inventory_trading_speed(100, myphi, symb, t, tt, T, b, k, [r\"$\\phi = $\" + str(i) for i in myphi], main=r\"$\\alpha = +\\infty$\")"
   ]
  },
  {
   "cell_type": "code",
   "execution_count": null,
   "id": "6fb6149f",
   "metadata": {},
   "outputs": [],
   "source": []
  }
 ],
 "metadata": {
  "kernelspec": {
   "display_name": "Python 3 (ipykernel)",
   "language": "python",
   "name": "python3"
  }
 },
 "nbformat": 4,
 "nbformat_minor": 5
}
