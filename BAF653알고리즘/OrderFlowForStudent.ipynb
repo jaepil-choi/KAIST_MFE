{
 "cells": [
  {
   "cell_type": "markdown",
   "id": "6bfe05a1",
   "metadata": {},
   "source": [
    "# Optimal Execution Strategy incorporating Order Flow\n",
    "\n",
    "The trader aims to minimize the performance criterion\n",
    "$$\n",
    "\\mathbb{E}\\left[X_{T}^{\\nu}+Q_{T}^{\\nu}\\left(S_{T}^{\\nu}-\\alpha Q_{T}^{\\nu}\\right)-\\phi \\int_{0}^{T}\\left(Q_{u}^{\\nu}\\right)^{2} d u\\right].\n",
    "$$\n",
    "Here, $Q_t$ denotes the trader's inventory, $X_t$ is their cash process, and $S_t$ is the asset price, and they satisfy the SDEs:\n",
    "$$\n",
    "Q_{t}^{\\nu}=Q_{0}^{\\nu} + \\int_0^t - \\nu_{t} d t\n",
    "$$\n",
    "$$\n",
    "X_{t}^{\\nu}=X_{0}^{\\nu} + \\int_0^t \\left(S_{t}^{\\nu}-k \\nu_{t}\\right) \\nu_{t} d t \n",
    "$$\n",
    "$$\n",
    "S_t = S_0 + \\int_0^t b \\left(\\mu_t - \\nu_u\\right)\\,du + \\sigma\\,W_t\n",
    "$$\n",
    "where $W_t$ is a Brownian motion and $\\mu_t=$ is the net order-flow from all other traders assumed to be a shot-noise process. Specifically, $\\mu_t$ satisfies the SDE\n",
    "$$\n",
    "d \\mu_{t} =-\\kappa \\mu_{t} \\, dt+\\eta_{1+L_{t^-}^+}\\, d L_{t}^{+} - \\eta_{1+L_{t^-}^-}\\, d L_{t}^{-}\n",
    "$$\n",
    "where $L^\\pm_t$ are independent Poisson processes with intensity $\\lambda^\\pm$, and $\\eta_1^\\pm,\\eta_2^\\pm,\\dots$ are iid random variables representing the impact of order-flow changes."
   ]
  },
  {
   "cell_type": "code",
   "execution_count": null,
   "id": "8744b337",
   "metadata": {},
   "outputs": [],
   "source": [
    "# load packages\n",
    "import time\n",
    "import math\n",
    "import numpy as np\n",
    "import matplotlib.pyplot as plt\n",
    "from scipy import interpolate\n",
    "np.random.seed(30)\n",
    "np.seterr(divide='ignore', invalid='ignore')\n",
    "font = {'family': 'serif',\n",
    "        'style': 'italic',\n",
    "        # 'color': 'darkred',\n",
    "        'weight': 1,\n",
    "        'size': 16,\n",
    "        }"
   ]
  },
  {
   "cell_type": "markdown",
   "id": "498aa698",
   "metadata": {},
   "source": [
    "Initialize a number of constants used in the analysis"
   ]
  },
  {
   "cell_type": "code",
   "execution_count": null,
   "id": "d241f879",
   "metadata": {},
   "outputs": [],
   "source": [
    "Nsims = 5000  # Number of simulations\n",
    "\n",
    "# Time grid\n",
    "T = 1  # Expiry\n",
    "Ndt = int(6.5*360)  # Number of time increments\n",
    "dt = T/Ndt  # Time change increment\n",
    "t = np.arange(0, T+0.00000001, dt)  # Time increments vector \n",
    "\n",
    "k = 0.001  # Temporary Market Impact Factor\n",
    "b = 0.0001  # Permanent Price Impact Factor\n",
    "\n",
    "lam = 2000 # Frequency of Arrival of Order-Flow Changes\n",
    "kappa = 10  # Rate of Order-Flow Mean-reversion\n",
    "eta_mean = 5  # Mean Order-Flow Jump Size\n",
    "\n",
    "initial_price = 50  # Starting Fundamental Price\n",
    "initial_invt = 1  # Starting Inventory amount\n",
    "phi = 0.01  # Running penalty coefficient\n",
    "sigma = 0.1  # Volatilty (recall this is an artihmetic model)\n",
    "\n",
    "alpha = 100  # Terminal penalty "
   ]
  },
  {
   "cell_type": "markdown",
   "id": "cf48413e",
   "metadata": {},
   "source": [
    "## Formulation of the optimal strategy\n",
    "Next, we look at how the strategy performs along simulated paths and compare it with the Almgren-Chris strategy.\n",
    "\n",
    "The Almgren-Chris strategy acquistion strategy is deterministic and given by the expression\n",
    "$$\n",
    "\\nu^{AC}_t = \\sqrt{k\\phi}\\,\\frac{\\xi\\,e^{2\\gamma(T-t)}+1}{\\xi\\,e^{2\\gamma(T-t)}-1}, \\qquad\\text{where}\\qquad \\xi = \\frac{\\alpha+\\sqrt{k\\phi}}{\\alpha-\\sqrt{k\\phi}}, \\qquad\\text{and}\\qquad \\gamma=\\sqrt{\\frac{\\phi}{k}}\n",
    "$$\n",
    "\n",
    "The optimal trading rate subject to order-flow is given by\n",
    "$$\n",
    "\\nu_{t}^{*}=-\\frac{1}{k} \\chi(t) Q_{t}^{\\nu^{*}}-\\frac{b}{2 k} \\overline{\\ell}_{1}(t) \\mu_{t}\n",
    "$$\n",
    "where $\\ell_{1}^{t}$ can be expressed as \n",
    "$$\n",
    "\\ell_{1}(t)=b \\int_{t}^{T} e^{-\\kappa(s-t)} e^{\\frac{1}{k} \\int_{t}^{s}\\chi(u) d u}  d s\n",
    "$$\n",
    "and  simplifies to\n",
    "$$\n",
    "{\\qquad \\ell_{1}(t)=b \\;\\overline{\\ell}_{1}(T-t) \\geq 0} \n",
    "$$\n",
    "where\n",
    "$$\n",
    " {\\qquad \\overline{\\ell}_{1}(\\tau)=\\frac{1}{\\zeta e^{\\gamma \\tau}-e^{-\\gamma \\tau}}\\left\\{e^{\\gamma \\tau} \\frac{1-e^{-(\\kappa+\\gamma) \\tau}}{\\kappa+\\gamma} \\zeta-e^{-\\gamma \\tau} \\frac{1-e^{-(\\kappa-\\gamma) \\tau}}{\\kappa-\\gamma}\\right\\}}\n",
    "$$\n"
   ]
  },
  {
   "cell_type": "code",
   "execution_count": null,
   "id": "82f8e7d1",
   "metadata": {},
   "outputs": [],
   "source": [
    "# Computing chi variable\n",
    "zeta = ((alpha-0.5*b) + (k*phi)**0.5)/((alpha-0.5*b) - (k*phi)**0.5)  \n",
    "gamma = (phi/k)**0.5\n",
    "tau = T-t  # Time remaining to the end of the trading horizon\n",
    "chi = np.divide((k*phi)**0.5*(1 + zeta*np.exp(2*gamma*tau)), (1 - zeta*np.exp(2*gamma*tau)))\n",
    "\n",
    "# Computing ell variable\n",
    "def exp_p(a, tau):\n",
    "    return (1 - np.exp(-a*tau)) / a\n",
    "v1 = np.exp(gamma * tau)\n",
    "tot = kappa + gamma\n",
    "dif = kappa - gamma\n",
    "ell = (zeta * v1 * exp_p(tot, tau) - v1**-1 * exp_p(dif, tau)) / (zeta * v1 - v1**-1)"
   ]
  },
  {
   "cell_type": "markdown",
   "id": "5ac2166a",
   "metadata": {},
   "source": [
    "## Simulate the optimal strategy\n",
    "We next generating simulated sample paths,  along those paths trade optimally, and compare with Almgren-Chriss. The simulation is conducted by\n",
    "* compute the optimal trading rate given the current value of order-flow using \n",
    "* execute a trade\n",
    "* account for its cost\n",
    "* account for the impact of the trade on price\n",
    "* simulate the next price (accountinf for trading impact of your trades and others)\n",
    "* simulate the next order-flow"
   ]
  },
  {
   "cell_type": "code",
   "execution_count": null,
   "id": "58489fe7",
   "metadata": {},
   "outputs": [],
   "source": [
    "# Allocate space for the processes we simulate and store\n",
    "mu = np.full([Nsims, Ndt+1], np.nan)  # Order Flow matrix\n",
    "\n",
    "# Initializing variables for simulation base on computed strategy\n",
    "X = np.full([Nsims, Ndt+1], np.nan)  # Cost matrix of Strategy\n",
    "Q = np.full([Nsims, Ndt+1], np.nan)  # Inventory matrix\n",
    "S = np.full([Nsims, Ndt+1], np.nan)  # Execution Price matrix\n",
    "nu = np.full([Nsims, Ndt+1], np.nan)  # Rate of Trading matrix\n",
    "\n",
    "# Initializing variables for simulation of Almgren-Chriss strategy\n",
    "X_AC = np.full([Nsims, Ndt+1], np.nan)  # Cost matrix of Strategy\n",
    "Q_AC = np.full([Ndt+1], np.nan)  # Inventory matrix\n",
    "S_AC = np.full([Nsims, Ndt+1], np.nan)  # Execution Price matrix\n",
    "nu_AC = np.full([Ndt+1], np.nan)  # Execution Price matrix"
   ]
  },
  {
   "cell_type": "code",
   "execution_count": null,
   "id": "aa84c06d",
   "metadata": {},
   "outputs": [],
   "source": [
    "# Initial conditions\n",
    "Q[:, 0] = initial_invt\n",
    "mu[:, 0] = 0\n",
    "S[:, 0] = initial_price  \n",
    "X[:, 0] = 0 \n",
    "\n",
    "Q_AC[0] = initial_invt \n",
    "S_AC[:, 0] = initial_price\n",
    "X_AC[:, 0] = 0"
   ]
  },
  {
   "cell_type": "code",
   "execution_count": null,
   "id": "d3316e0e",
   "metadata": {},
   "outputs": [],
   "source": [
    "# Simulating computed strategy\n",
    "for i in range(Ndt):\n",
    "\n",
    "    # Compute optimal trading rate\n",
    "\n",
    "    # Account for the cost of the trades above and update inventory\n",
    "    \n",
    "    # If you were trading using Almgren-Chriss this is what you would do\n",
    "\n",
    "    # Simulate the SDE for price forward \n",
    "    \n",
    "    # Simulate order-flow forward\n",
    "    ## decide if an order-flow update arrives\n",
    "    ## decide if it adds to the buy/sell pressure\n",
    "    ## generate the size of the order-flow impact\n",
    "    ## simulate the SDE for mu forward"
   ]
  },
  {
   "cell_type": "code",
   "execution_count": null,
   "id": "9f465780",
   "metadata": {},
   "outputs": [],
   "source": [
    "# Visualizing variables as time procresses \n",
    "def PlotPath(t, T, Y, idxfig, sigma, y_range, title, lw=1):\n",
    "    fig_1 = plt.figure()\n",
    "    plt.tick_params(direction='in', bottom=True, top=True, left=True, right=True)\n",
    "    axes = fig_1.gca()\n",
    "    axes.set_xlim([0, T])\n",
    "    axes.set_ylim(y_range)\n",
    "\n",
    "    for i in range(len(idxfig)):\n",
    "        plt.plot(t, Y[idxfig[i]], linewidth=lw, label=i+1)\n",
    "\n",
    "    plt.ylabel(title,  fontdict=font)\n",
    "    plt.xlabel('Time (Day) ',  fontdict=font)\n",
    "    plt.legend()\n",
    "    plt.show()\n",
    "\n",
    "idxfig = [75, 111, 375]  # Index of path to be plotted\n",
    "PlotPath(t, T, S, idxfig, sigma, [initial_price - 2*sigma, initial_price + 2 * sigma], 'MidPrice ' + r'$(S_t)$')\n",
    "PlotPath(t, T, Q, idxfig, sigma, [-2*sigma, initial_invt],'Inventory ' + r'$Q_t^{\\nu^\\dagger}$')\n",
    "PlotPath(t, T, nu, idxfig, sigma, [0, 3.5], 'Trading Speed ' + r'$\\nu_t^\\dagger$')\n",
    "PlotPath(t, T, mu, idxfig, sigma, [-300, 300], 'OrderFlow ' + r'$\\mu_t)$')"
   ]
  },
  {
   "cell_type": "code",
   "execution_count": null,
   "id": "be174660",
   "metadata": {},
   "outputs": [],
   "source": []
  }
 ],
 "metadata": {
  "kernelspec": {
   "display_name": "Python 3 (ipykernel)",
   "language": "python",
   "name": "python3"
  }
 },
 "nbformat": 4,
 "nbformat_minor": 5
}
