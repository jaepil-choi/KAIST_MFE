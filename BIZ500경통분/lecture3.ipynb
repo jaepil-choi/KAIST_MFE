{
 "cells": [
  {
   "cell_type": "code",
   "execution_count": 2,
   "metadata": {
    "vscode": {
     "languageId": "r"
    }
   },
   "outputs": [],
   "source": [
    "rm(list=ls())\n",
    "\n",
    "setwd(\"./\")"
   ]
  },
  {
   "cell_type": "code",
   "execution_count": 3,
   "metadata": {
    "vscode": {
     "languageId": "r"
    }
   },
   "outputs": [
    {
     "data": {
      "text/html": [
       "<table>\n",
       "<thead><tr><th scope=col>Bills</th></tr></thead>\n",
       "<tbody>\n",
       "\t<tr><td> 42.19</td></tr>\n",
       "\t<tr><td> 38.45</td></tr>\n",
       "\t<tr><td> 29.23</td></tr>\n",
       "\t<tr><td> 89.35</td></tr>\n",
       "\t<tr><td>118.04</td></tr>\n",
       "\t<tr><td>110.46</td></tr>\n",
       "</tbody>\n",
       "</table>\n"
      ],
      "text/latex": [
       "\\begin{tabular}{r|l}\n",
       " Bills\\\\\n",
       "\\hline\n",
       "\t  42.19\\\\\n",
       "\t  38.45\\\\\n",
       "\t  29.23\\\\\n",
       "\t  89.35\\\\\n",
       "\t 118.04\\\\\n",
       "\t 110.46\\\\\n",
       "\\end{tabular}\n"
      ],
      "text/markdown": [
       "\n",
       "| Bills |\n",
       "|---|\n",
       "|  42.19 |\n",
       "|  38.45 |\n",
       "|  29.23 |\n",
       "|  89.35 |\n",
       "| 118.04 |\n",
       "| 110.46 |\n",
       "\n"
      ],
      "text/plain": [
       "  Bills \n",
       "1  42.19\n",
       "2  38.45\n",
       "3  29.23\n",
       "4  89.35\n",
       "5 118.04\n",
       "6 110.46"
      ]
     },
     "metadata": {},
     "output_type": "display_data"
    }
   ],
   "source": [
    "longdist <- read.csv('./ch1andch2_dataset/long_distance_telephone_bills.csv')\n",
    "head( longdist )"
   ]
  },
  {
   "cell_type": "code",
   "execution_count": 4,
   "metadata": {
    "vscode": {
     "languageId": "r"
    }
   },
   "outputs": [],
   "source": [
    "bills <- longdist$Bills"
   ]
  },
  {
   "cell_type": "code",
   "execution_count": 5,
   "metadata": {
    "vscode": {
     "languageId": "r"
    }
   },
   "outputs": [
    {
     "data": {
      "text/html": [
       "43.5876"
      ],
      "text/latex": [
       "43.5876"
      ],
      "text/markdown": [
       "43.5876"
      ],
      "text/plain": [
       "[1] 43.5876"
      ]
     },
     "metadata": {},
     "output_type": "display_data"
    },
    {
     "data": {
      "text/html": [
       "26.905"
      ],
      "text/latex": [
       "26.905"
      ],
      "text/markdown": [
       "26.905"
      ],
      "text/plain": [
       "[1] 26.905"
      ]
     },
     "metadata": {},
     "output_type": "display_data"
    },
    {
     "data": {
      "text/html": [
       "<ol class=list-inline>\n",
       "\t<li>0</li>\n",
       "\t<li>119.63</li>\n",
       "</ol>\n"
      ],
      "text/latex": [
       "\\begin{enumerate*}\n",
       "\\item 0\n",
       "\\item 119.63\n",
       "\\end{enumerate*}\n"
      ],
      "text/markdown": [
       "1. 0\n",
       "2. 119.63\n",
       "\n",
       "\n"
      ],
      "text/plain": [
       "[1]   0.00 119.63"
      ]
     },
     "metadata": {},
     "output_type": "display_data"
    },
    {
     "data": {
      "text/html": [
       "119.63"
      ],
      "text/latex": [
       "119.63"
      ],
      "text/markdown": [
       "119.63"
      ],
      "text/plain": [
       "[1] 119.63"
      ]
     },
     "metadata": {},
     "output_type": "display_data"
    },
    {
     "data": {
      "text/html": [
       "1518.63825451256"
      ],
      "text/latex": [
       "1518.63825451256"
      ],
      "text/markdown": [
       "1518.63825451256"
      ],
      "text/plain": [
       "[1] 1518.638"
      ]
     },
     "metadata": {},
     "output_type": "display_data"
    },
    {
     "data": {
      "text/html": [
       "38.9697094486546"
      ],
      "text/latex": [
       "38.9697094486546"
      ],
      "text/markdown": [
       "38.9697094486546"
      ],
      "text/plain": [
       "[1] 38.96971"
      ]
     },
     "metadata": {},
     "output_type": "display_data"
    },
    {
     "data": {
      "text/html": [
       "0.894054947935987"
      ],
      "text/latex": [
       "0.894054947935987"
      ],
      "text/markdown": [
       "0.894054947935987"
      ],
      "text/plain": [
       "[1] 0.8940549"
      ]
     },
     "metadata": {},
     "output_type": "display_data"
    }
   ],
   "source": [
    "mean( bills )\n",
    "median( bills )\n",
    "range( bills )\n",
    "diff( range( bills ) )\n",
    "var( bills )\n",
    "sd( bills )\n",
    "sd( bills )/mean( bills )"
   ]
  },
  {
   "cell_type": "code",
   "execution_count": 6,
   "metadata": {
    "vscode": {
     "languageId": "r"
    }
   },
   "outputs": [
    {
     "data": {
      "text/html": [
       "<dl class=dl-horizontal>\n",
       "\t<dt>0%</dt>\n",
       "\t\t<dd>0</dd>\n",
       "\t<dt>25%</dt>\n",
       "\t\t<dd>9.385</dd>\n",
       "\t<dt>50%</dt>\n",
       "\t\t<dd>26.905</dd>\n",
       "\t<dt>75%</dt>\n",
       "\t\t<dd>84.8275</dd>\n",
       "\t<dt>100%</dt>\n",
       "\t\t<dd>119.63</dd>\n",
       "</dl>\n"
      ],
      "text/latex": [
       "\\begin{description*}\n",
       "\\item[0\\textbackslash{}\\%] 0\n",
       "\\item[25\\textbackslash{}\\%] 9.385\n",
       "\\item[50\\textbackslash{}\\%] 26.905\n",
       "\\item[75\\textbackslash{}\\%] 84.8275\n",
       "\\item[100\\textbackslash{}\\%] 119.63\n",
       "\\end{description*}\n"
      ],
      "text/markdown": [
       "0%\n",
       ":   025%\n",
       ":   9.38550%\n",
       ":   26.90575%\n",
       ":   84.8275100%\n",
       ":   119.63\n",
       "\n"
      ],
      "text/plain": [
       "      0%      25%      50%      75%     100% \n",
       "  0.0000   9.3850  26.9050  84.8275 119.6300 "
      ]
     },
     "metadata": {},
     "output_type": "display_data"
    },
    {
     "data": {
      "text/html": [
       "<dl class=dl-horizontal>\n",
       "\t<dt>30%</dt>\n",
       "\t\t<dd>11.529</dd>\n",
       "\t<dt>80%</dt>\n",
       "\t\t<dd>90.428</dd>\n",
       "</dl>\n"
      ],
      "text/latex": [
       "\\begin{description*}\n",
       "\\item[30\\textbackslash{}\\%] 11.529\n",
       "\\item[80\\textbackslash{}\\%] 90.428\n",
       "\\end{description*}\n"
      ],
      "text/markdown": [
       "30%\n",
       ":   11.52980%\n",
       ":   90.428\n",
       "\n"
      ],
      "text/plain": [
       "   30%    80% \n",
       "11.529 90.428 "
      ]
     },
     "metadata": {},
     "output_type": "display_data"
    }
   ],
   "source": [
    "quantile( bills )\n",
    "quantile( bills , prob=c(0.3, 0.8))"
   ]
  },
  {
   "cell_type": "code",
   "execution_count": 7,
   "metadata": {
    "vscode": {
     "languageId": "r"
    }
   },
   "outputs": [
    {
     "data": {
      "text/html": [
       "<table>\n",
       "<thead><tr><th scope=col>Popeyes</th><th scope=col>Wendys</th><th scope=col>McDonalds</th><th scope=col>Hardees</th><th scope=col>Jack.in.Box</th></tr></thead>\n",
       "<tbody>\n",
       "\t<tr><td>150</td><td>173</td><td>198</td><td>158</td><td>289</td></tr>\n",
       "\t<tr><td>197</td><td> 95</td><td>131</td><td>195</td><td>273</td></tr>\n",
       "\t<tr><td>186</td><td>154</td><td>158</td><td>177</td><td>254</td></tr>\n",
       "\t<tr><td>166</td><td>104</td><td>123</td><td>147</td><td>282</td></tr>\n",
       "\t<tr><td>196</td><td>183</td><td>139</td><td>181</td><td>235</td></tr>\n",
       "\t<tr><td>192</td><td>120</td><td>160</td><td>192</td><td>245</td></tr>\n",
       "</tbody>\n",
       "</table>\n"
      ],
      "text/latex": [
       "\\begin{tabular}{r|lllll}\n",
       " Popeyes & Wendys & McDonalds & Hardees & Jack.in.Box\\\\\n",
       "\\hline\n",
       "\t 150 & 173 & 198 & 158 & 289\\\\\n",
       "\t 197 &  95 & 131 & 195 & 273\\\\\n",
       "\t 186 & 154 & 158 & 177 & 254\\\\\n",
       "\t 166 & 104 & 123 & 147 & 282\\\\\n",
       "\t 196 & 183 & 139 & 181 & 235\\\\\n",
       "\t 192 & 120 & 160 & 192 & 245\\\\\n",
       "\\end{tabular}\n"
      ],
      "text/markdown": [
       "\n",
       "| Popeyes | Wendys | McDonalds | Hardees | Jack.in.Box |\n",
       "|---|---|---|---|---|\n",
       "| 150 | 173 | 198 | 158 | 289 |\n",
       "| 197 |  95 | 131 | 195 | 273 |\n",
       "| 186 | 154 | 158 | 177 | 254 |\n",
       "| 166 | 104 | 123 | 147 | 282 |\n",
       "| 196 | 183 | 139 | 181 | 235 |\n",
       "| 192 | 120 | 160 | 192 | 245 |\n",
       "\n"
      ],
      "text/plain": [
       "  Popeyes Wendys McDonalds Hardees Jack.in.Box\n",
       "1 150     173    198       158     289        \n",
       "2 197      95    131       195     273        \n",
       "3 186     154    158       177     254        \n",
       "4 166     104    123       147     282        \n",
       "5 196     183    139       181     235        \n",
       "6 192     120    160       192     245        "
      ]
     },
     "metadata": {},
     "output_type": "display_data"
    },
    {
     "data": {
      "image/png": "[encoded data removed]",
      "text/plain": [
       "plot without title"
      ]
     },
     "metadata": {},
     "output_type": "display_data"
    }
   ],
   "source": [
    "bills <- longdist$Bills\n",
    "times <- read.csv('./ch3_dataset/serving_times_of_drive_throughs.csv')\n",
    "head( times )\n",
    "boxplot( times, horizontal=TRUE, col=\"lightblue\" )"
   ]
  },
  {
   "cell_type": "code",
   "execution_count": 8,
   "metadata": {
    "vscode": {
     "languageId": "r"
    }
   },
   "outputs": [
    {
     "data": {
      "text/html": [
       "<table>\n",
       "<thead><tr><th scope=col>GMAT</th><th scope=col>GPA</th></tr></thead>\n",
       "<tbody>\n",
       "\t<tr><td>599 </td><td> 9.6</td></tr>\n",
       "\t<tr><td>689 </td><td> 8.8</td></tr>\n",
       "\t<tr><td>584 </td><td> 7.4</td></tr>\n",
       "\t<tr><td>631 </td><td>10.0</td></tr>\n",
       "\t<tr><td>594 </td><td> 7.8</td></tr>\n",
       "\t<tr><td>643 </td><td> 9.2</td></tr>\n",
       "</tbody>\n",
       "</table>\n"
      ],
      "text/latex": [
       "\\begin{tabular}{r|ll}\n",
       " GMAT & GPA\\\\\n",
       "\\hline\n",
       "\t 599  &  9.6\\\\\n",
       "\t 689  &  8.8\\\\\n",
       "\t 584  &  7.4\\\\\n",
       "\t 631  & 10.0\\\\\n",
       "\t 594  &  7.8\\\\\n",
       "\t 643  &  9.2\\\\\n",
       "\\end{tabular}\n"
      ],
      "text/markdown": [
       "\n",
       "| GMAT | GPA |\n",
       "|---|---|\n",
       "| 599  |  9.6 |\n",
       "| 689  |  8.8 |\n",
       "| 584  |  7.4 |\n",
       "| 631  | 10.0 |\n",
       "| 594  |  7.8 |\n",
       "| 643  |  9.2 |\n",
       "\n"
      ],
      "text/plain": [
       "  GMAT GPA \n",
       "1 599   9.6\n",
       "2 689   8.8\n",
       "3 584   7.4\n",
       "4 631  10.0\n",
       "5 594   7.8\n",
       "6 643   9.2"
      ]
     },
     "metadata": {},
     "output_type": "display_data"
    },
    {
     "data": {
      "image/png": "[encoded data removed]",
      "text/plain": [
       "plot without title"
      ]
     },
     "metadata": {},
     "output_type": "display_data"
    }
   ],
   "source": [
    "scores <- read.csv('./ch3_dataset/GMAT_and_GPA_scores_for_MBA_students.csv')\n",
    "head( scores )\n",
    "gmat <- scores$GMAT\n",
    "gpa <- scores$GPA\n",
    "plot( gmat, gpa )"
   ]
  },
  {
   "cell_type": "code",
   "execution_count": 9,
   "metadata": {
    "vscode": {
     "languageId": "r"
    }
   },
   "outputs": [
    {
     "data": {
      "text/html": [
       "26.1636363636364"
      ],
      "text/latex": [
       "26.1636363636364"
      ],
      "text/markdown": [
       "26.1636363636364"
      ],
      "text/plain": [
       "[1] 26.16364"
      ]
     },
     "metadata": {},
     "output_type": "display_data"
    },
    {
     "data": {
      "text/html": [
       "0.536482687496048"
      ],
      "text/latex": [
       "0.536482687496048"
      ],
      "text/markdown": [
       "0.536482687496048"
      ],
      "text/plain": [
       "[1] 0.5364827"
      ]
     },
     "metadata": {},
     "output_type": "display_data"
    }
   ],
   "source": [
    "cov( gmat, gpa )\n",
    "cor( gmat, gpa )"
   ]
  },
  {
   "cell_type": "code",
   "execution_count": null,
   "metadata": {
    "vscode": {
     "languageId": "r"
    }
   },
   "outputs": [],
   "source": []
  }
 ],
 "metadata": {
  "kernelspec": {
   "display_name": "R",
   "language": "R",
   "name": "ir"
  },
  "language_info": {
   "codemirror_mode": "r",
   "file_extension": ".r",
   "mimetype": "text/x-r-source",
   "name": "R",
   "pygments_lexer": "r",
   "version": "3.6.1"
  }
 },
 "nbformat": 4,
 "nbformat_minor": 2
}
