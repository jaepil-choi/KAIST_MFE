{
 "cells": [
  {
   "cell_type": "code",
   "execution_count": 2,
   "metadata": {
    "vscode": {
     "languageId": "r"
    }
   },
   "outputs": [],
   "source": [
    "rm(list=ls()) # Wipe memory for initialization"
   ]
  },
  {
   "cell_type": "code",
   "execution_count": 3,
   "metadata": {
    "vscode": {
     "languageId": "r"
    }
   },
   "outputs": [],
   "source": [
    "setwd(\"./ch1andch2 dataset\")"
   ]
  },
  {
   "cell_type": "code",
   "execution_count": 4,
   "metadata": {
    "vscode": {
     "languageId": "r"
    }
   },
   "outputs": [
    {
     "data": {
      "text/html": [
       "<table>\n",
       "<thead><tr><th scope=col>Number</th><th scope=col>Brand</th><th scope=col>Gender</th></tr></thead>\n",
       "<tbody>\n",
       "\t<tr><td>1</td><td>1</td><td>2</td></tr>\n",
       "\t<tr><td>2</td><td>1</td><td>1</td></tr>\n",
       "\t<tr><td>3</td><td>5</td><td>2</td></tr>\n",
       "\t<tr><td>4</td><td>1</td><td>1</td></tr>\n",
       "\t<tr><td>5</td><td>3</td><td>1</td></tr>\n",
       "\t<tr><td>6</td><td>3</td><td>1</td></tr>\n",
       "</tbody>\n",
       "</table>\n"
      ],
      "text/latex": [
       "\\begin{tabular}{r|lll}\n",
       " Number & Brand & Gender\\\\\n",
       "\\hline\n",
       "\t 1 & 1 & 2\\\\\n",
       "\t 2 & 1 & 1\\\\\n",
       "\t 3 & 5 & 2\\\\\n",
       "\t 4 & 1 & 1\\\\\n",
       "\t 5 & 3 & 1\\\\\n",
       "\t 6 & 3 & 1\\\\\n",
       "\\end{tabular}\n"
      ],
      "text/markdown": [
       "\n",
       "| Number | Brand | Gender |\n",
       "|---|---|---|\n",
       "| 1 | 1 | 2 |\n",
       "| 2 | 1 | 1 |\n",
       "| 3 | 5 | 2 |\n",
       "| 4 | 1 | 1 |\n",
       "| 5 | 3 | 1 |\n",
       "| 6 | 3 | 1 |\n",
       "\n"
      ],
      "text/plain": [
       "  Number Brand Gender\n",
       "1 1      1     2     \n",
       "2 2      1     1     \n",
       "3 3      5     2     \n",
       "4 4      1     1     \n",
       "5 5      3     1     \n",
       "6 6      3     1     "
      ]
     },
     "metadata": {},
     "output_type": "display_data"
    }
   ],
   "source": [
    "lightbeer = read.csv(\"light_beer_preference_survey.csv\")\n",
    "head( lightbeer )  "
   ]
  },
  {
   "cell_type": "code",
   "execution_count": 5,
   "metadata": {
    "vscode": {
     "languageId": "r"
    }
   },
   "outputs": [
    {
     "data": {
      "image/png": "[encoded data removed]",
      "text/plain": [
       "plot without title"
      ]
     },
     "metadata": {},
     "output_type": "display_data"
    }
   ],
   "source": [
    "brand = lightbeer$Brand\n",
    "brand_freq = table(brand)\n",
    "freq_dist = cbind( brand_freq, brand_freq/sum(brand_freq)*100)\n",
    "barplot(brand_freq)"
   ]
  },
  {
   "cell_type": "code",
   "execution_count": null,
   "metadata": {
    "vscode": {
     "languageId": "r"
    }
   },
   "outputs": [],
   "source": []
  }
 ],
 "metadata": {
  "kernelspec": {
   "display_name": "R",
   "language": "R",
   "name": "ir"
  },
  "language_info": {
   "codemirror_mode": "r",
   "file_extension": ".r",
   "mimetype": "text/x-r-source",
   "name": "R",
   "pygments_lexer": "r",
   "version": "3.6.1"
  }
 },
 "nbformat": 4,
 "nbformat_minor": 2
}
