{
 "cells": [
  {
   "cell_type": "code",
   "execution_count": 2,
   "metadata": {
    "vscode": {
     "languageId": "r"
    }
   },
   "outputs": [],
   "source": [
    "rm(list=ls()) # Wipe memory for initialization"
   ]
  },
  {
   "cell_type": "code",
   "execution_count": 3,
   "metadata": {
    "vscode": {
     "languageId": "r"
    }
   },
   "outputs": [],
   "source": [
    "setwd(\"./ch1andch2 dataset\") # No need to write the full path from now on"
   ]
  },
  {
   "cell_type": "code",
   "execution_count": 4,
   "metadata": {
    "vscode": {
     "languageId": "r"
    }
   },
   "outputs": [
    {
     "data": {
      "text/html": [
       "<table>\n",
       "<thead><tr><th scope=col>Number</th><th scope=col>Brand</th><th scope=col>Gender</th></tr></thead>\n",
       "<tbody>\n",
       "\t<tr><td>1</td><td>1</td><td>2</td></tr>\n",
       "\t<tr><td>2</td><td>1</td><td>1</td></tr>\n",
       "\t<tr><td>3</td><td>5</td><td>2</td></tr>\n",
       "\t<tr><td>4</td><td>1</td><td>1</td></tr>\n",
       "\t<tr><td>5</td><td>3</td><td>1</td></tr>\n",
       "\t<tr><td>6</td><td>3</td><td>1</td></tr>\n",
       "</tbody>\n",
       "</table>\n"
      ],
      "text/latex": [
       "\\begin{tabular}{r|lll}\n",
       " Number & Brand & Gender\\\\\n",
       "\\hline\n",
       "\t 1 & 1 & 2\\\\\n",
       "\t 2 & 1 & 1\\\\\n",
       "\t 3 & 5 & 2\\\\\n",
       "\t 4 & 1 & 1\\\\\n",
       "\t 5 & 3 & 1\\\\\n",
       "\t 6 & 3 & 1\\\\\n",
       "\\end{tabular}\n"
      ],
      "text/markdown": [
       "\n",
       "| Number | Brand | Gender |\n",
       "|---|---|---|\n",
       "| 1 | 1 | 2 |\n",
       "| 2 | 1 | 1 |\n",
       "| 3 | 5 | 2 |\n",
       "| 4 | 1 | 1 |\n",
       "| 5 | 3 | 1 |\n",
       "| 6 | 3 | 1 |\n",
       "\n"
      ],
      "text/plain": [
       "  Number Brand Gender\n",
       "1 1      1     2     \n",
       "2 2      1     1     \n",
       "3 3      5     2     \n",
       "4 4      1     1     \n",
       "5 5      3     1     \n",
       "6 6      3     1     "
      ]
     },
     "metadata": {},
     "output_type": "display_data"
    }
   ],
   "source": [
    "lightbeer = read.csv(\"light_beer_preference_survey.csv\")\n",
    "head( lightbeer )  "
   ]
  },
  {
   "cell_type": "code",
   "execution_count": 5,
   "metadata": {
    "vscode": {
     "languageId": "r"
    }
   },
   "outputs": [
    {
     "data": {
      "text/html": [
       "2"
      ],
      "text/latex": [
       "2"
      ],
      "text/markdown": [
       "2"
      ],
      "text/plain": [
       "[1] 2"
      ]
     },
     "metadata": {},
     "output_type": "display_data"
    }
   ],
   "source": [
    "lightbeer[1, 3] # row, col"
   ]
  },
  {
   "cell_type": "code",
   "execution_count": 6,
   "metadata": {
    "vscode": {
     "languageId": "r"
    }
   },
   "outputs": [
    {
     "data": {
      "text/html": [
       "<table>\n",
       "<thead><tr><th scope=col>Number</th><th scope=col>Brand</th><th scope=col>Gender</th></tr></thead>\n",
       "<tbody>\n",
       "\t<tr><td>1</td><td>1</td><td>2</td></tr>\n",
       "</tbody>\n",
       "</table>\n"
      ],
      "text/latex": [
       "\\begin{tabular}{r|lll}\n",
       " Number & Brand & Gender\\\\\n",
       "\\hline\n",
       "\t 1 & 1 & 2\\\\\n",
       "\\end{tabular}\n"
      ],
      "text/markdown": [
       "\n",
       "| Number | Brand | Gender |\n",
       "|---|---|---|\n",
       "| 1 | 1 | 2 |\n",
       "\n"
      ],
      "text/plain": [
       "  Number Brand Gender\n",
       "1 1      1     2     "
      ]
     },
     "metadata": {},
     "output_type": "display_data"
    }
   ],
   "source": [
    "lightbeer[1, ] # row 1, all cols"
   ]
  },
  {
   "cell_type": "code",
   "execution_count": 7,
   "metadata": {
    "vscode": {
     "languageId": "r"
    }
   },
   "outputs": [
    {
     "data": {
      "text/plain": [
       "brand\n",
       " 1  2  3  4  5  6  7 \n",
       "90 19 62 13 59 25 17 "
      ]
     },
     "metadata": {},
     "output_type": "display_data"
    }
   ],
   "source": [
    "brand = lightbeer$Brand # select column\n",
    "brand_freq = table(brand)\n",
    "brand_freq"
   ]
  },
  {
   "cell_type": "code",
   "execution_count": 8,
   "metadata": {
    "vscode": {
     "languageId": "r"
    }
   },
   "outputs": [
    {
     "data": {
      "image/png": "[encoded data removed]",
      "text/plain": [
       "plot without title"
      ]
     },
     "metadata": {},
     "output_type": "display_data"
    }
   ],
   "source": [
    "\n",
    "freq_dist = cbind( brand_freq, brand_freq/sum(brand_freq)*100) # relative frequency to percentage\n",
    "barplot(brand_freq)"
   ]
  },
  {
   "cell_type": "code",
   "execution_count": 9,
   "metadata": {
    "vscode": {
     "languageId": "r"
    }
   },
   "outputs": [
    {
     "data": {
      "image/png": "[encoded data removed]",
      "text/plain": [
       "plot without title"
      ]
     },
     "metadata": {},
     "output_type": "display_data"
    }
   ],
   "source": [
    "pie(brand_freq)"
   ]
  },
  {
   "cell_type": "code",
   "execution_count": 10,
   "metadata": {
    "vscode": {
     "languageId": "r"
    }
   },
   "outputs": [
    {
     "data": {
      "text/html": [
       "<table>\n",
       "<thead><tr><th scope=col>Bills</th></tr></thead>\n",
       "<tbody>\n",
       "\t<tr><td> 42.19</td></tr>\n",
       "\t<tr><td> 38.45</td></tr>\n",
       "\t<tr><td> 29.23</td></tr>\n",
       "\t<tr><td> 89.35</td></tr>\n",
       "\t<tr><td>118.04</td></tr>\n",
       "\t<tr><td>110.46</td></tr>\n",
       "</tbody>\n",
       "</table>\n"
      ],
      "text/latex": [
       "\\begin{tabular}{r|l}\n",
       " Bills\\\\\n",
       "\\hline\n",
       "\t  42.19\\\\\n",
       "\t  38.45\\\\\n",
       "\t  29.23\\\\\n",
       "\t  89.35\\\\\n",
       "\t 118.04\\\\\n",
       "\t 110.46\\\\\n",
       "\\end{tabular}\n"
      ],
      "text/markdown": [
       "\n",
       "| Bills |\n",
       "|---|\n",
       "|  42.19 |\n",
       "|  38.45 |\n",
       "|  29.23 |\n",
       "|  89.35 |\n",
       "| 118.04 |\n",
       "| 110.46 |\n",
       "\n"
      ],
      "text/plain": [
       "  Bills \n",
       "1  42.19\n",
       "2  38.45\n",
       "3  29.23\n",
       "4  89.35\n",
       "5 118.04\n",
       "6 110.46"
      ]
     },
     "metadata": {},
     "output_type": "display_data"
    }
   ],
   "source": [
    "longdist = read.csv(\"long_distance_telephone_bills.csv\")\n",
    "head(longdist )"
   ]
  },
  {
   "cell_type": "code",
   "execution_count": 11,
   "metadata": {
    "vscode": {
     "languageId": "r"
    }
   },
   "outputs": [
    {
     "data": {
      "image/png": "[encoded data removed]",
      "text/plain": [
       "Plot with title \"Histogram of bills\""
      ]
     },
     "metadata": {},
     "output_type": "display_data"
    }
   ],
   "source": [
    "bills <- longdist$Bills\n",
    "hist(bills, breaks=seq(0, 120, 15), col='blue')"
   ]
  },
  {
   "cell_type": "code",
   "execution_count": 12,
   "metadata": {
    "vscode": {
     "languageId": "r"
    }
   },
   "outputs": [
    {
     "data": {
      "text/html": [
       "<table>\n",
       "<thead><tr><th scope=col>Reader</th><th scope=col>Occupation</th><th scope=col>Newspaper</th></tr></thead>\n",
       "<tbody>\n",
       "\t<tr><td>1</td><td>2</td><td>2</td></tr>\n",
       "\t<tr><td>2</td><td>1</td><td>4</td></tr>\n",
       "\t<tr><td>3</td><td>2</td><td>1</td></tr>\n",
       "\t<tr><td>4</td><td>3</td><td>2</td></tr>\n",
       "\t<tr><td>5</td><td>1</td><td>3</td></tr>\n",
       "\t<tr><td>6</td><td>3</td><td>3</td></tr>\n",
       "</tbody>\n",
       "</table>\n"
      ],
      "text/latex": [
       "\\begin{tabular}{r|lll}\n",
       " Reader & Occupation & Newspaper\\\\\n",
       "\\hline\n",
       "\t 1 & 2 & 2\\\\\n",
       "\t 2 & 1 & 4\\\\\n",
       "\t 3 & 2 & 1\\\\\n",
       "\t 4 & 3 & 2\\\\\n",
       "\t 5 & 1 & 3\\\\\n",
       "\t 6 & 3 & 3\\\\\n",
       "\\end{tabular}\n"
      ],
      "text/markdown": [
       "\n",
       "| Reader | Occupation | Newspaper |\n",
       "|---|---|---|\n",
       "| 1 | 2 | 2 |\n",
       "| 2 | 1 | 4 |\n",
       "| 3 | 2 | 1 |\n",
       "| 4 | 3 | 2 |\n",
       "| 5 | 1 | 3 |\n",
       "| 6 | 3 | 3 |\n",
       "\n"
      ],
      "text/plain": [
       "  Reader Occupation Newspaper\n",
       "1 1      2          2        \n",
       "2 2      1          4        \n",
       "3 3      2          1        \n",
       "4 4      3          2        \n",
       "5 5      1          3        \n",
       "6 6      3          3        "
      ]
     },
     "metadata": {},
     "output_type": "display_data"
    }
   ],
   "source": [
    "news_reader <- read.csv('newspaper_readership_survey.csv')\n",
    "head( news_reader )"
   ]
  },
  {
   "cell_type": "code",
   "execution_count": 13,
   "metadata": {
    "vscode": {
     "languageId": "r"
    }
   },
   "outputs": [
    {
     "data": {
      "text/plain": [
       "      \n",
       "       Blue Collar While Collar Professional\n",
       "  G&M           27           29           33\n",
       "  Post          18           43           51\n",
       "  Star          38           21           22\n",
       "  Sun           37           15           20"
      ]
     },
     "metadata": {},
     "output_type": "display_data"
    }
   ],
   "source": [
    "ctgc_tab <- table( news_reader$Newspaper, news_reader$Occupation )\n",
    "colnames(ctgc_tab)<- c(\"Blue Collar\", \"While Collar\", \"Professional\")\n",
    "rownames(ctgc_tab)<- c(\"G&M\", \"Post\", \"Star\", \"Sun\")\n",
    "ctgc_tab"
   ]
  },
  {
   "cell_type": "code",
   "execution_count": 14,
   "metadata": {
    "vscode": {
     "languageId": "r"
    }
   },
   "outputs": [
    {
     "data": {
      "image/png": "[encoded data removed]",
      "text/plain": [
       "plot without title"
      ]
     },
     "metadata": {},
     "output_type": "display_data"
    }
   ],
   "source": [
    "barplot( ctgc_tab )"
   ]
  },
  {
   "cell_type": "code",
   "execution_count": 15,
   "metadata": {
    "vscode": {
     "languageId": "r"
    }
   },
   "outputs": [
    {
     "data": {
      "image/png": "[encoded data removed]",
      "text/plain": [
       "plot without title"
      ]
     },
     "metadata": {},
     "output_type": "display_data"
    }
   ],
   "source": [
    "barplot( ctgc_tab, beside=TRUE )"
   ]
  },
  {
   "cell_type": "code",
   "execution_count": 17,
   "metadata": {
    "vscode": {
     "languageId": "r"
    }
   },
   "outputs": [
    {
     "data": {
      "text/html": [
       "<table>\n",
       "<thead><tr><th scope=col>Size</th><th scope=col>Price</th></tr></thead>\n",
       "<tbody>\n",
       "\t<tr><td>23 </td><td>315</td></tr>\n",
       "\t<tr><td>18 </td><td>229</td></tr>\n",
       "\t<tr><td>26 </td><td>355</td></tr>\n",
       "\t<tr><td>20 </td><td>261</td></tr>\n",
       "\t<tr><td>22 </td><td>234</td></tr>\n",
       "\t<tr><td>14 </td><td>216</td></tr>\n",
       "</tbody>\n",
       "</table>\n"
      ],
      "text/latex": [
       "\\begin{tabular}{r|ll}\n",
       " Size & Price\\\\\n",
       "\\hline\n",
       "\t 23  & 315\\\\\n",
       "\t 18  & 229\\\\\n",
       "\t 26  & 355\\\\\n",
       "\t 20  & 261\\\\\n",
       "\t 22  & 234\\\\\n",
       "\t 14  & 216\\\\\n",
       "\\end{tabular}\n"
      ],
      "text/markdown": [
       "\n",
       "| Size | Price |\n",
       "|---|---|\n",
       "| 23  | 315 |\n",
       "| 18  | 229 |\n",
       "| 26  | 355 |\n",
       "| 20  | 261 |\n",
       "| 22  | 234 |\n",
       "| 14  | 216 |\n",
       "\n"
      ],
      "text/plain": [
       "  Size Price\n",
       "1 23   315  \n",
       "2 18   229  \n",
       "3 26   355  \n",
       "4 20   261  \n",
       "5 22   234  \n",
       "6 14   216  "
      ]
     },
     "metadata": {},
     "output_type": "display_data"
    },
    {
     "data": {
      "image/png": "[encoded data removed]",
      "text/plain": [
       "plot without title"
      ]
     },
     "metadata": {},
     "output_type": "display_data"
    }
   ],
   "source": [
    "house <- read.csv('price_and_size_of_houses.csv')\n",
    " head( house )\n",
    " plot( house$Size, house$Price, xlab=\"Size\", ylab=\"Price\" )"
   ]
  },
  {
   "cell_type": "code",
   "execution_count": 18,
   "metadata": {
    "vscode": {
     "languageId": "r"
    }
   },
   "outputs": [
    {
     "data": {
      "text/html": [
       "<table>\n",
       "<thead><tr><th scope=col>Year</th><th scope=col>Month</th><th scope=col>Price</th></tr></thead>\n",
       "<tbody>\n",
       "\t<tr><td>1978 </td><td>1    </td><td>0.631</td></tr>\n",
       "\t<tr><td>1978 </td><td>2    </td><td>0.629</td></tr>\n",
       "\t<tr><td>1978 </td><td>3    </td><td>0.629</td></tr>\n",
       "\t<tr><td>1978 </td><td>4    </td><td>0.631</td></tr>\n",
       "\t<tr><td>1978 </td><td>5    </td><td>0.637</td></tr>\n",
       "\t<tr><td>1978 </td><td>6    </td><td>0.645</td></tr>\n",
       "</tbody>\n",
       "</table>\n"
      ],
      "text/latex": [
       "\\begin{tabular}{r|lll}\n",
       " Year & Month & Price\\\\\n",
       "\\hline\n",
       "\t 1978  & 1     & 0.631\\\\\n",
       "\t 1978  & 2     & 0.629\\\\\n",
       "\t 1978  & 3     & 0.629\\\\\n",
       "\t 1978  & 4     & 0.631\\\\\n",
       "\t 1978  & 5     & 0.637\\\\\n",
       "\t 1978  & 6     & 0.645\\\\\n",
       "\\end{tabular}\n"
      ],
      "text/markdown": [
       "\n",
       "| Year | Month | Price |\n",
       "|---|---|---|\n",
       "| 1978  | 1     | 0.631 |\n",
       "| 1978  | 2     | 0.629 |\n",
       "| 1978  | 3     | 0.629 |\n",
       "| 1978  | 4     | 0.631 |\n",
       "| 1978  | 5     | 0.637 |\n",
       "| 1978  | 6     | 0.645 |\n",
       "\n"
      ],
      "text/plain": [
       "  Year Month Price\n",
       "1 1978 1     0.631\n",
       "2 1978 2     0.629\n",
       "3 1978 3     0.629\n",
       "4 1978 4     0.631\n",
       "5 1978 5     0.637\n",
       "6 1978 6     0.645"
      ]
     },
     "metadata": {},
     "output_type": "display_data"
    },
    {
     "data": {
      "image/png": "[encoded data removed]",
      "text/plain": [
       "plot without title"
      ]
     },
     "metadata": {},
     "output_type": "display_data"
    }
   ],
   "source": [
    "gasoline <- read.csv('price_of_gasoline.csv')\n",
    "  head( gasoline )\n",
    "plot( gasoline$Price, type=\"l\", xlab=\"Month\", ylab=\"Price of Gasoline\")"
   ]
  },
  {
   "cell_type": "code",
   "execution_count": null,
   "metadata": {
    "vscode": {
     "languageId": "r"
    }
   },
   "outputs": [],
   "source": []
  }
 ],
 "metadata": {
  "kernelspec": {
   "display_name": "R",
   "language": "R",
   "name": "ir"
  },
  "language_info": {
   "codemirror_mode": "r",
   "file_extension": ".r",
   "mimetype": "text/x-r-source",
   "name": "R",
   "pygments_lexer": "r",
   "version": "3.6.1"
  }
 },
 "nbformat": 4,
 "nbformat_minor": 2
}
